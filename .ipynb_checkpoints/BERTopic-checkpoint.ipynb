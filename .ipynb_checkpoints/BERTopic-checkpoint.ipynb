{
 "cells": [
  {
   "cell_type": "markdown",
   "id": "ad0c3e1c",
   "metadata": {},
   "source": [
    "# BERTopic"
   ]
  },
  {
   "cell_type": "code",
   "execution_count": 12,
   "id": "54a8fae7",
   "metadata": {
    "ExecuteTime": {
     "end_time": "2022-04-21T03:53:34.945290Z",
     "start_time": "2022-04-21T03:53:34.697952Z"
    }
   },
   "outputs": [],
   "source": [
    "import pandas as pd\n",
    "import numpy as np\n",
    "import matplotlib.pyplot as plt\n",
    "import os"
   ]
  },
  {
   "cell_type": "code",
   "execution_count": 10,
   "id": "45c81ede",
   "metadata": {
    "ExecuteTime": {
     "end_time": "2022-04-21T03:41:48.989495Z",
     "start_time": "2022-04-21T03:41:46.075290Z"
    },
    "scrolled": true
   },
   "outputs": [
    {
     "name": "stdout",
     "output_type": "stream",
     "text": [
      "Requirement already satisfied: bertopic[visualization] in c:\\users\\bitcamp\\anaconda3\\lib\\site-packages (0.9.4)\n",
      "Requirement already satisfied: pandas>=1.1.5 in c:\\users\\bitcamp\\anaconda3\\lib\\site-packages (from bertopic[visualization]) (1.3.4)\n",
      "Requirement already satisfied: scikit-learn>=0.22.2.post1 in c:\\users\\bitcamp\\anaconda3\\lib\\site-packages (from bertopic[visualization]) (1.0.2)\n",
      "Requirement already satisfied: plotly>=4.7.0 in c:\\users\\bitcamp\\anaconda3\\lib\\site-packages (from bertopic[visualization]) (5.6.0)\n",
      "Requirement already satisfied: pyyaml<6.0 in c:\\users\\bitcamp\\anaconda3\\lib\\site-packages (from bertopic[visualization]) (5.4.1)\n",
      "Requirement already satisfied: sentence-transformers>=0.4.1 in c:\\users\\bitcamp\\anaconda3\\lib\\site-packages (from bertopic[visualization]) (2.2.0)\n",
      "Requirement already satisfied: umap-learn>=0.5.0 in c:\\users\\bitcamp\\anaconda3\\lib\\site-packages (from bertopic[visualization]) (0.5.3)\n",
      "Requirement already satisfied: tqdm>=4.41.1 in c:\\users\\bitcamp\\anaconda3\\lib\\site-packages (from bertopic[visualization]) (4.62.3)\n",
      "Requirement already satisfied: numpy>=1.20.0 in c:\\users\\bitcamp\\anaconda3\\lib\\site-packages (from bertopic[visualization]) (1.20.3)\n",
      "Requirement already satisfied: hdbscan>=0.8.27 in c:\\users\\bitcamp\\anaconda3\\lib\\site-packages (from bertopic[visualization]) (0.8.28)\n",
      "Requirement already satisfied: cython>=0.27 in c:\\users\\bitcamp\\anaconda3\\lib\\site-packages (from hdbscan>=0.8.27->bertopic[visualization]) (0.29.23)\n",
      "Requirement already satisfied: joblib>=1.0 in c:\\users\\bitcamp\\anaconda3\\lib\\site-packages (from hdbscan>=0.8.27->bertopic[visualization]) (1.0.1)\n",
      "Requirement already satisfied: scipy>=1.0 in c:\\users\\bitcamp\\anaconda3\\lib\\site-packages (from hdbscan>=0.8.27->bertopic[visualization]) (1.7.1)\n",
      "Requirement already satisfied: pytz>=2017.3 in c:\\users\\bitcamp\\anaconda3\\lib\\site-packages (from pandas>=1.1.5->bertopic[visualization]) (2021.3)\n",
      "Requirement already satisfied: python-dateutil>=2.7.3 in c:\\users\\bitcamp\\anaconda3\\lib\\site-packages (from pandas>=1.1.5->bertopic[visualization]) (2.8.2)\n",
      "Requirement already satisfied: tenacity>=6.2.0 in c:\\users\\bitcamp\\anaconda3\\lib\\site-packages (from plotly>=4.7.0->bertopic[visualization]) (8.0.1)\n",
      "Requirement already satisfied: six in c:\\users\\bitcamp\\anaconda3\\lib\\site-packages (from plotly>=4.7.0->bertopic[visualization]) (1.16.0)\n",
      "Requirement already satisfied: threadpoolctl>=2.0.0 in c:\\users\\bitcamp\\anaconda3\\lib\\site-packages (from scikit-learn>=0.22.2.post1->bertopic[visualization]) (2.2.0)\n",
      "Requirement already satisfied: torch>=1.6.0 in c:\\users\\bitcamp\\anaconda3\\lib\\site-packages (from sentence-transformers>=0.4.1->bertopic[visualization]) (1.11.0)\n",
      "Requirement already satisfied: huggingface-hub in c:\\users\\bitcamp\\anaconda3\\lib\\site-packages (from sentence-transformers>=0.4.1->bertopic[visualization]) (0.5.1)\n",
      "Requirement already satisfied: transformers<5.0.0,>=4.6.0 in c:\\users\\bitcamp\\anaconda3\\lib\\site-packages (from sentence-transformers>=0.4.1->bertopic[visualization]) (4.18.0)\n",
      "Requirement already satisfied: sentencepiece in c:\\users\\bitcamp\\anaconda3\\lib\\site-packages (from sentence-transformers>=0.4.1->bertopic[visualization]) (0.1.96)\n",
      "Requirement already satisfied: torchvision in c:\\users\\bitcamp\\anaconda3\\lib\\site-packages (from sentence-transformers>=0.4.1->bertopic[visualization]) (0.12.0)\n",
      "Requirement already satisfied: nltk in c:\\users\\bitcamp\\anaconda3\\lib\\site-packages (from sentence-transformers>=0.4.1->bertopic[visualization]) (3.6.5)\n",
      "Requirement already satisfied: colorama in c:\\users\\bitcamp\\anaconda3\\lib\\site-packages (from tqdm>=4.41.1->bertopic[visualization]) (0.4.4)\n",
      "Requirement already satisfied: numba>=0.49 in c:\\users\\bitcamp\\anaconda3\\lib\\site-packages (from umap-learn>=0.5.0->bertopic[visualization]) (0.54.1)\n",
      "Requirement already satisfied: pynndescent>=0.5 in c:\\users\\bitcamp\\anaconda3\\lib\\site-packages (from umap-learn>=0.5.0->bertopic[visualization]) (0.5.6)\n",
      "Requirement already satisfied: setuptools in c:\\users\\bitcamp\\anaconda3\\lib\\site-packages (from numba>=0.49->umap-learn>=0.5.0->bertopic[visualization]) (58.0.4)\n",
      "Requirement already satisfied: llvmlite<0.38,>=0.37.0rc1 in c:\\users\\bitcamp\\anaconda3\\lib\\site-packages (from numba>=0.49->umap-learn>=0.5.0->bertopic[visualization]) (0.37.0)\n",
      "Requirement already satisfied: typing-extensions in c:\\users\\bitcamp\\anaconda3\\lib\\site-packages (from torch>=1.6.0->sentence-transformers>=0.4.1->bertopic[visualization]) (3.10.0.2)\n",
      "Requirement already satisfied: regex!=2019.12.17 in c:\\users\\bitcamp\\anaconda3\\lib\\site-packages (from transformers<5.0.0,>=4.6.0->sentence-transformers>=0.4.1->bertopic[visualization]) (2021.8.3)\n",
      "Requirement already satisfied: packaging>=20.0 in c:\\users\\bitcamp\\anaconda3\\lib\\site-packages (from transformers<5.0.0,>=4.6.0->sentence-transformers>=0.4.1->bertopic[visualization]) (21.0)\n",
      "Requirement already satisfied: sacremoses in c:\\users\\bitcamp\\anaconda3\\lib\\site-packages (from transformers<5.0.0,>=4.6.0->sentence-transformers>=0.4.1->bertopic[visualization]) (0.0.49)\n",
      "Requirement already satisfied: tokenizers!=0.11.3,<0.13,>=0.11.1 in c:\\users\\bitcamp\\anaconda3\\lib\\site-packages (from transformers<5.0.0,>=4.6.0->sentence-transformers>=0.4.1->bertopic[visualization]) (0.12.1)\n",
      "Requirement already satisfied: filelock in c:\\users\\bitcamp\\anaconda3\\lib\\site-packages (from transformers<5.0.0,>=4.6.0->sentence-transformers>=0.4.1->bertopic[visualization]) (3.3.1)\n",
      "Requirement already satisfied: requests in c:\\users\\bitcamp\\anaconda3\\lib\\site-packages (from transformers<5.0.0,>=4.6.0->sentence-transformers>=0.4.1->bertopic[visualization]) (2.26.0)\n",
      "Requirement already satisfied: click in c:\\users\\bitcamp\\anaconda3\\lib\\site-packages (from nltk->sentence-transformers>=0.4.1->bertopic[visualization]) (8.0.3)\n",
      "Requirement already satisfied: pillow!=8.3.*,>=5.3.0 in c:\\users\\bitcamp\\anaconda3\\lib\\site-packages (from torchvision->sentence-transformers>=0.4.1->bertopic[visualization]) (8.4.0)\n",
      "Requirement already satisfied: pyparsing>=2.0.2 in c:\\users\\bitcamp\\anaconda3\\lib\\site-packages (from packaging>=20.0->transformers<5.0.0,>=4.6.0->sentence-transformers>=0.4.1->bertopic[visualization]) (3.0.4)\n",
      "Requirement already satisfied: urllib3<1.27,>=1.21.1 in c:\\users\\bitcamp\\anaconda3\\lib\\site-packages (from requests->transformers<5.0.0,>=4.6.0->sentence-transformers>=0.4.1->bertopic[visualization]) (1.26.7)\n",
      "Requirement already satisfied: charset-normalizer~=2.0.0 in c:\\users\\bitcamp\\anaconda3\\lib\\site-packages (from requests->transformers<5.0.0,>=4.6.0->sentence-transformers>=0.4.1->bertopic[visualization]) (2.0.4)\n",
      "Requirement already satisfied: idna<4,>=2.5 in c:\\users\\bitcamp\\anaconda3\\lib\\site-packages (from requests->transformers<5.0.0,>=4.6.0->sentence-transformers>=0.4.1->bertopic[visualization]) (3.2)\n",
      "Requirement already satisfied: certifi>=2017.4.17 in c:\\users\\bitcamp\\anaconda3\\lib\\site-packages (from requests->transformers<5.0.0,>=4.6.0->sentence-transformers>=0.4.1->bertopic[visualization]) (2021.10.8)\n"
     ]
    },
    {
     "name": "stderr",
     "output_type": "stream",
     "text": [
      "WARNING: bertopic 0.9.4 does not provide the extra 'visualization'\n"
     ]
    }
   ],
   "source": [
    "# !pip install bertopic[visualization]"
   ]
  },
  {
   "cell_type": "code",
   "execution_count": 9,
   "id": "117ca0a4",
   "metadata": {
    "ExecuteTime": {
     "end_time": "2022-04-21T03:41:35.772874Z",
     "start_time": "2022-04-21T03:41:32.922470Z"
    }
   },
   "outputs": [
    {
     "name": "stdout",
     "output_type": "stream",
     "text": [
      "Requirement already satisfied: hdbscan in c:\\users\\bitcamp\\anaconda3\\lib\\site-packages (0.8.28)\n",
      "Requirement already satisfied: numpy>=1.20 in c:\\users\\bitcamp\\anaconda3\\lib\\site-packages (from hdbscan) (1.20.3)\n",
      "Requirement already satisfied: joblib>=1.0 in c:\\users\\bitcamp\\anaconda3\\lib\\site-packages (from hdbscan) (1.0.1)\n",
      "Requirement already satisfied: cython>=0.27 in c:\\users\\bitcamp\\anaconda3\\lib\\site-packages (from hdbscan) (0.29.23)\n",
      "Requirement already satisfied: scipy>=1.0 in c:\\users\\bitcamp\\anaconda3\\lib\\site-packages (from hdbscan) (1.7.1)\n",
      "Requirement already satisfied: scikit-learn>=0.20 in c:\\users\\bitcamp\\anaconda3\\lib\\site-packages (from hdbscan) (1.0.2)\n",
      "Requirement already satisfied: threadpoolctl>=2.0.0 in c:\\users\\bitcamp\\anaconda3\\lib\\site-packages (from scikit-learn>=0.20->hdbscan) (2.2.0)\n"
     ]
    }
   ],
   "source": [
    "# !pip install hdbscan"
   ]
  },
  {
   "cell_type": "code",
   "execution_count": 15,
   "id": "320033c7",
   "metadata": {
    "ExecuteTime": {
     "end_time": "2022-04-21T03:56:04.225021Z",
     "start_time": "2022-04-21T03:56:04.202083Z"
    }
   },
   "outputs": [
    {
     "name": "stdout",
     "output_type": "stream",
     "text": [
      "C:\\KDT4\\ML,DL\n"
     ]
    },
    {
     "ename": "FileNotFoundError",
     "evalue": "[WinError 3] 지정된 경로를 찾을 수 없습니다: 'C:\\\\KDT4\\\\ML,DL\\\\data\\\\stock-market-news'",
     "output_type": "error",
     "traceback": [
      "\u001b[1;31m---------------------------------------------------------------------------\u001b[0m",
      "\u001b[1;31mFileNotFoundError\u001b[0m                         Traceback (most recent call last)",
      "\u001b[1;32m~\\AppData\\Local\\Temp/ipykernel_9792/4100016977.py\u001b[0m in \u001b[0;36m<module>\u001b[1;34m\u001b[0m\n\u001b[0;32m      4\u001b[0m \u001b[0mprint\u001b[0m\u001b[1;33m(\u001b[0m\u001b[0mpath\u001b[0m\u001b[1;33m)\u001b[0m\u001b[1;33m\u001b[0m\u001b[1;33m\u001b[0m\u001b[0m\n\u001b[0;32m      5\u001b[0m \u001b[0mdata_path\u001b[0m \u001b[1;33m=\u001b[0m \u001b[0mos\u001b[0m\u001b[1;33m.\u001b[0m\u001b[0mpath\u001b[0m\u001b[1;33m.\u001b[0m\u001b[0mjoin\u001b[0m\u001b[1;33m(\u001b[0m\u001b[0mpath\u001b[0m\u001b[1;33m,\u001b[0m\u001b[1;34m'data'\u001b[0m\u001b[1;33m,\u001b[0m\u001b[1;34m'stock-market-news'\u001b[0m\u001b[1;33m)\u001b[0m\u001b[1;33m\u001b[0m\u001b[1;33m\u001b[0m\u001b[0m\n\u001b[1;32m----> 6\u001b[1;33m \u001b[0mdata_list\u001b[0m \u001b[1;33m=\u001b[0m \u001b[0mos\u001b[0m\u001b[1;33m.\u001b[0m\u001b[0mlistdir\u001b[0m\u001b[1;33m(\u001b[0m\u001b[0mdata_path\u001b[0m\u001b[1;33m)\u001b[0m\u001b[1;33m\u001b[0m\u001b[1;33m\u001b[0m\u001b[0m\n\u001b[0m\u001b[0;32m      7\u001b[0m \u001b[0mdata_list\u001b[0m\u001b[1;33m\u001b[0m\u001b[1;33m\u001b[0m\u001b[0m\n",
      "\u001b[1;31mFileNotFoundError\u001b[0m: [WinError 3] 지정된 경로를 찾을 수 없습니다: 'C:\\\\KDT4\\\\ML,DL\\\\data\\\\stock-market-news'"
     ]
    }
   ],
   "source": [
    "# 파일읽기\n",
    "\n",
    "path = os.getcwd()\n",
    "print(path)\n",
    "data_path = os.path.join(path,'data','stock-market-news')\n",
    "data_list = os.listdir(data_path)\n",
    "data_list"
   ]
  },
  {
   "cell_type": "code",
   "execution_count": null,
   "id": "b7dd6a1d",
   "metadata": {},
   "outputs": [],
   "source": []
  },
  {
   "cell_type": "code",
   "execution_count": null,
   "id": "722e404c",
   "metadata": {},
   "outputs": [],
   "source": []
  },
  {
   "cell_type": "code",
   "execution_count": 11,
   "id": "47a1b263",
   "metadata": {
    "ExecuteTime": {
     "end_time": "2022-04-21T03:41:53.305950Z",
     "start_time": "2022-04-21T03:41:53.290990Z"
    }
   },
   "outputs": [],
   "source": [
    "from bertopic import BERTopic"
   ]
  },
  {
   "cell_type": "code",
   "execution_count": null,
   "id": "28eeb2df",
   "metadata": {},
   "outputs": [],
   "source": [
    "model = BERTopic()"
   ]
  },
  {
   "cell_type": "code",
   "execution_count": null,
   "id": "d2af0212",
   "metadata": {},
   "outputs": [],
   "source": []
  },
  {
   "cell_type": "code",
   "execution_count": null,
   "id": "1b761601",
   "metadata": {},
   "outputs": [],
   "source": []
  },
  {
   "cell_type": "code",
   "execution_count": null,
   "id": "c09a0dfe",
   "metadata": {},
   "outputs": [],
   "source": []
  },
  {
   "cell_type": "code",
   "execution_count": null,
   "id": "ba3a363f",
   "metadata": {},
   "outputs": [],
   "source": []
  },
  {
   "cell_type": "code",
   "execution_count": null,
   "id": "05e3c13d",
   "metadata": {},
   "outputs": [],
   "source": []
  },
  {
   "cell_type": "code",
   "execution_count": null,
   "id": "36f69e62",
   "metadata": {},
   "outputs": [],
   "source": []
  },
  {
   "cell_type": "code",
   "execution_count": null,
   "id": "65bf557a",
   "metadata": {},
   "outputs": [],
   "source": []
  },
  {
   "cell_type": "code",
   "execution_count": null,
   "id": "d6213ce6",
   "metadata": {},
   "outputs": [],
   "source": []
  },
  {
   "cell_type": "code",
   "execution_count": null,
   "id": "48af416c",
   "metadata": {},
   "outputs": [],
   "source": []
  },
  {
   "cell_type": "code",
   "execution_count": null,
   "id": "a6b70ce1",
   "metadata": {},
   "outputs": [],
   "source": []
  },
  {
   "cell_type": "code",
   "execution_count": null,
   "id": "77feef9f",
   "metadata": {},
   "outputs": [],
   "source": []
  },
  {
   "cell_type": "code",
   "execution_count": null,
   "id": "a66122f7",
   "metadata": {},
   "outputs": [],
   "source": []
  },
  {
   "cell_type": "code",
   "execution_count": null,
   "id": "6c401ede",
   "metadata": {},
   "outputs": [],
   "source": []
  },
  {
   "cell_type": "code",
   "execution_count": null,
   "id": "67e96df9",
   "metadata": {},
   "outputs": [],
   "source": []
  },
  {
   "cell_type": "code",
   "execution_count": null,
   "id": "67e7c666",
   "metadata": {},
   "outputs": [],
   "source": []
  }
 ],
 "metadata": {
  "kernelspec": {
   "display_name": "Python 3 (ipykernel)",
   "language": "python",
   "name": "python3"
  },
  "language_info": {
   "codemirror_mode": {
    "name": "ipython",
    "version": 3
   },
   "file_extension": ".py",
   "mimetype": "text/x-python",
   "name": "python",
   "nbconvert_exporter": "python",
   "pygments_lexer": "ipython3",
   "version": "3.9.7"
  },
  "toc": {
   "base_numbering": 1,
   "nav_menu": {},
   "number_sections": true,
   "sideBar": true,
   "skip_h1_title": false,
   "title_cell": "Table of Contents",
   "title_sidebar": "Contents",
   "toc_cell": false,
   "toc_position": {},
   "toc_section_display": true,
   "toc_window_display": false
  },
  "varInspector": {
   "cols": {
    "lenName": 16,
    "lenType": 16,
    "lenVar": 40
   },
   "kernels_config": {
    "python": {
     "delete_cmd_postfix": "",
     "delete_cmd_prefix": "del ",
     "library": "var_list.py",
     "varRefreshCmd": "print(var_dic_list())"
    },
    "r": {
     "delete_cmd_postfix": ") ",
     "delete_cmd_prefix": "rm(",
     "library": "var_list.r",
     "varRefreshCmd": "cat(var_dic_list()) "
    }
   },
   "types_to_exclude": [
    "module",
    "function",
    "builtin_function_or_method",
    "instance",
    "_Feature"
   ],
   "window_display": false
  }
 },
 "nbformat": 4,
 "nbformat_minor": 5
}
