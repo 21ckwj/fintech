{
 "cells": [
  {
   "cell_type": "markdown",
   "id": "46979850",
   "metadata": {},
   "source": [
    "# 암호화"
   ]
  },
  {
   "cell_type": "code",
   "execution_count": 1,
   "id": "8884d068",
   "metadata": {
    "ExecuteTime": {
     "end_time": "2022-05-23T02:48:02.293793Z",
     "start_time": "2022-05-23T02:48:02.278835Z"
    }
   },
   "outputs": [],
   "source": [
    "import hashlib"
   ]
  },
  {
   "cell_type": "code",
   "execution_count": 34,
   "id": "99f7f81d",
   "metadata": {
    "ExecuteTime": {
     "end_time": "2022-05-23T03:24:02.412989Z",
     "start_time": "2022-05-23T03:24:02.393012Z"
    }
   },
   "outputs": [
    {
     "data": {
      "text/plain": [
       "<sha256 _hashlib.HASH object @ 0x000002B252A36DD0>"
      ]
     },
     "execution_count": 34,
     "metadata": {},
     "output_type": "execute_result"
    }
   ],
   "source": [
    "# 단방향 알고리즘\n",
    "h = hashlib.sha256() \n",
    "h"
   ]
  },
  {
   "cell_type": "code",
   "execution_count": 36,
   "id": "3d3c737c",
   "metadata": {
    "ExecuteTime": {
     "end_time": "2022-05-23T03:24:14.173978Z",
     "start_time": "2022-05-23T03:24:14.168992Z"
    }
   },
   "outputs": [
    {
     "data": {
      "text/plain": [
       "<sha256 _hashlib.HASH object @ 0x000002B252A36DD0>"
      ]
     },
     "execution_count": 36,
     "metadata": {},
     "output_type": "execute_result"
    }
   ],
   "source": [
    "h.update(b'Genesis')\n",
    "h"
   ]
  },
  {
   "cell_type": "code",
   "execution_count": 4,
   "id": "1c3315e5",
   "metadata": {
    "ExecuteTime": {
     "end_time": "2022-05-23T02:48:36.571442Z",
     "start_time": "2022-05-23T02:48:36.556455Z"
    }
   },
   "outputs": [
    {
     "data": {
      "text/plain": [
       "'81ddc8d248b2dccdd3fdd5e84f0cad62b08f2d10b57f9a831c13451e5c5c80a5'"
      ]
     },
     "execution_count": 4,
     "metadata": {},
     "output_type": "execute_result"
    }
   ],
   "source": [
    "# 암호값을 우리가 사용할 수 있는 문자열 형태로 변경해주는 함수\n",
    "h.hexdigest()"
   ]
  },
  {
   "cell_type": "code",
   "execution_count": 5,
   "id": "864ffa6b",
   "metadata": {
    "ExecuteTime": {
     "end_time": "2022-05-23T02:49:04.263574Z",
     "start_time": "2022-05-23T02:49:04.252576Z"
    }
   },
   "outputs": [
    {
     "data": {
      "text/plain": [
       "'7b7d41ad02ad1711aa61dc9fc09e4483c546cecf905aaaef3e6149e3f24ec7c7'"
      ]
     },
     "execution_count": 5,
     "metadata": {},
     "output_type": "execute_result"
    }
   ],
   "source": [
    "# 업데이트 시 암호 변경\n",
    "h.update(b'Genesis')\n",
    "h.hexdigest()"
   ]
  },
  {
   "cell_type": "code",
   "execution_count": null,
   "id": "db9bf707",
   "metadata": {},
   "outputs": [],
   "source": []
  },
  {
   "cell_type": "code",
   "execution_count": 6,
   "id": "378ce812",
   "metadata": {
    "ExecuteTime": {
     "end_time": "2022-05-23T02:50:11.052248Z",
     "start_time": "2022-05-23T02:50:11.036261Z"
    }
   },
   "outputs": [],
   "source": [
    "import os"
   ]
  },
  {
   "cell_type": "code",
   "execution_count": 15,
   "id": "656fd6d1",
   "metadata": {
    "ExecuteTime": {
     "end_time": "2022-05-23T03:01:16.221979Z",
     "start_time": "2022-05-23T03:01:16.203986Z"
    }
   },
   "outputs": [],
   "source": [
    "def save_passwd():\n",
    "    with open('passwd.txt','w') as f:\n",
    "        passwd = input('패스워드를 입력하세요')\n",
    "        result = hashlib.sha256(passwd.encode())\n",
    "        f.write(result.hexdigest())"
   ]
  },
  {
   "cell_type": "code",
   "execution_count": 16,
   "id": "e878d487",
   "metadata": {
    "ExecuteTime": {
     "end_time": "2022-05-23T03:01:18.272502Z",
     "start_time": "2022-05-23T03:01:16.587354Z"
    }
   },
   "outputs": [
    {
     "name": "stdout",
     "output_type": "stream",
     "text": [
      "패스워드를 입력하세요1234\n"
     ]
    }
   ],
   "source": [
    "save_passwd()"
   ]
  },
  {
   "cell_type": "code",
   "execution_count": null,
   "id": "1d410359",
   "metadata": {},
   "outputs": [],
   "source": []
  },
  {
   "cell_type": "code",
   "execution_count": 17,
   "id": "e45173f2",
   "metadata": {
    "ExecuteTime": {
     "end_time": "2022-05-23T03:01:19.906405Z",
     "start_time": "2022-05-23T03:01:19.899421Z"
    }
   },
   "outputs": [],
   "source": [
    "def check_passwd():\n",
    "    if os.path.exists('passwd.txt'):\n",
    "        before_passwd = input('기존의 비밀번호를 입력하세요')\n",
    "        m = hashlib.sha256()\n",
    "        m.update(before_passwd.encode('utf_8'))\n",
    "        \n",
    "        with open('passwd.txt','r') as f:\n",
    "            comp = str(m.hexdigest()).strip() == str(f.read()).strip()\n",
    "            return comp\n",
    "        \n",
    "    else:\n",
    "        return True"
   ]
  },
  {
   "cell_type": "code",
   "execution_count": 18,
   "id": "ee665ae7",
   "metadata": {
    "ExecuteTime": {
     "end_time": "2022-05-23T03:01:23.620259Z",
     "start_time": "2022-05-23T03:01:20.332087Z"
    }
   },
   "outputs": [
    {
     "name": "stdout",
     "output_type": "stream",
     "text": [
      "기존의 비밀번호를 입력하세요12345\n"
     ]
    },
    {
     "data": {
      "text/plain": [
       "False"
      ]
     },
     "execution_count": 18,
     "metadata": {},
     "output_type": "execute_result"
    }
   ],
   "source": [
    "check_passwd()"
   ]
  },
  {
   "cell_type": "code",
   "execution_count": null,
   "id": "175df7dd",
   "metadata": {},
   "outputs": [],
   "source": []
  },
  {
   "cell_type": "code",
   "execution_count": 19,
   "id": "289ea9fb",
   "metadata": {
    "ExecuteTime": {
     "end_time": "2022-05-23T03:01:25.142425Z",
     "start_time": "2022-05-23T03:01:25.131456Z"
    }
   },
   "outputs": [],
   "source": [
    "def change_passwd():\n",
    "    if check_passwd():\n",
    "        with open('passwd.txt', 'w') as f:\n",
    "            passwd = input('새로운 비밀번호를 입력하세요')\n",
    "            result = hashlib.sha256(passwd.encode())\n",
    "            f.write(result.hexdigest())\n",
    "    else:\n",
    "        print('비밀번호가 틀립니다')"
   ]
  },
  {
   "cell_type": "code",
   "execution_count": 20,
   "id": "422411b9",
   "metadata": {
    "ExecuteTime": {
     "end_time": "2022-05-23T03:01:33.822369Z",
     "start_time": "2022-05-23T03:01:26.441955Z"
    }
   },
   "outputs": [
    {
     "name": "stdout",
     "output_type": "stream",
     "text": [
      "기존의 비밀번호를 입력하세요1234\n",
      "새로운 비밀번호를 입력하세요1235\n"
     ]
    }
   ],
   "source": [
    "change_passwd()"
   ]
  },
  {
   "cell_type": "code",
   "execution_count": null,
   "id": "1d8d832e",
   "metadata": {},
   "outputs": [],
   "source": []
  },
  {
   "cell_type": "code",
   "execution_count": 23,
   "id": "4601a72a",
   "metadata": {
    "ExecuteTime": {
     "end_time": "2022-05-23T03:05:45.949571Z",
     "start_time": "2022-05-23T03:05:45.930960Z"
    }
   },
   "outputs": [],
   "source": [
    "text = \"\"\"\n",
    "코스피가 고전하고 있는 가운데 장외 시장에도 찬바람이 불고 있다. IPO(기업공개) 시장이 얼어붙으면서다. 장외주식 거래대금은 연초 대비 반 토막이 났다. 비상장주식 거래 플랫폼에서는 주요 테크 기업의 시가총액이 수조원씩 증발했다.\n",
    "\n",
    "금융투자협회에 따르면, 5월 20일 장외주식 시장 K-OTC의 거래대금은 19억8991만원인 것으로 나타났다. 5월 초 일간 거래대금이 53억2382만원을 기록했던 것에 비하면 ‘반 토막’ 이상으로 줄었다. K-OTC 전체 시가총액도 연초 대비 10조원이 빠졌다. 올 초 31조4933억원에 달했던 K-OTC 전체 시가총액은 5월 20일 21조8119억원으로 집계됐다. 30% 이상이 빠진 셈이다.\n",
    "\n",
    "‘장외 우량주’ 주요 테크 기업 주식이 거래되는 비상장주식 거래 플랫폼에서도 수조원의 시가총액이 증발했다.\n",
    "\n",
    "증권플러스 비상장에 따르면, 5월 20일 간편송금 플랫폼 토스를 운영하는 비바리퍼블리카의 주가는 7만4000원이다. 지난달 최고가였던 10만원에 비해 25% 이상 내려앉았다. 시가총액도 4조원 넘게 줄어들었다. 지난달 최고가 기준 16조3847억원이었던 시가총액은 현재 12조1247억원 수준이다.\n",
    "\n",
    "국내 최대 가상자산 거래소 업비트를 운영하는 두나무 역시 25% 이상 주가가 빠졌다. 지난달 최고가 44만6000원을 기록했지만, 이날 기준 주당 가격은 33만원 수준이다. 시가총액도 크게 하락했다. 15조4628억원이던 시가총액은 11조4411억원으로 4조원 가까이 빠졌다.\n",
    "\n",
    "마켓컬리 운영사 컬리 역시 지난달 10만9000원까지 올랐던 주가가 8만2000원 선으로 내려앉았다. 시가총액으로 따지면 1조원이 넘게 사라졌다.\n",
    "\n",
    "장외 시장이 얼어붙은 이유는 우선 IPO 시장의 부진이 가장 큰 원인으로 꼽힌다. 올해 들어 IPO 대어였던 SK쉴더스, 원스토어, 현대엔지니어링 등이 줄줄이 수요예측 결과 부진으로 상장을 철회했다. 지난해 성공적으로 상장한 카카오뱅크, 카카오페이, 크래프톤 등도 주가가 급락하며 공모가를 밑돌고 있다.\n",
    "\n",
    "글로벌 악재가 산적해 있는 것도 원인이다. 글로벌 긴축 기조, 공급망 이슈, 테라·루나 사태까지 연이어 발생하면서 코스피부터 나스닥, 비트코인 등 대부분의 자산 가격이 약세다. 코스피지수는 5월 20일 올 첫 거래일 종가였던 2988.77보다 12% 낮은 2639.29에 마감했다. 나스닥지수는 연초보다 10% 이상 하락한 1만1388에 5월 19일(현지 시간) 장을 마쳤다.\"\"\""
   ]
  },
  {
   "cell_type": "code",
   "execution_count": 25,
   "id": "7e49d7b8",
   "metadata": {
    "ExecuteTime": {
     "end_time": "2022-05-23T03:05:52.867905Z",
     "start_time": "2022-05-23T03:05:52.858930Z"
    }
   },
   "outputs": [
    {
     "name": "stdout",
     "output_type": "stream",
     "text": [
      "f1293ee04a554b9297598e3bbb3f9f907f6fcee7d4fe5edfd5c7476d1e0f9f3a\n"
     ]
    }
   ],
   "source": [
    "m = hashlib.sha256()\n",
    "m.update(text.encode('utf_8'))\n",
    "print(m.hexdigest())"
   ]
  },
  {
   "cell_type": "code",
   "execution_count": null,
   "id": "2ecb7548",
   "metadata": {},
   "outputs": [],
   "source": []
  },
  {
   "cell_type": "code",
   "execution_count": 1,
   "id": "71c7e6e3",
   "metadata": {
    "ExecuteTime": {
     "end_time": "2022-05-24T02:03:48.250449Z",
     "start_time": "2022-05-24T02:03:48.236486Z"
    }
   },
   "outputs": [
    {
     "ename": "SyntaxError",
     "evalue": "invalid syntax (Temp/ipykernel_12916/2406580556.py, line 4)",
     "output_type": "error",
     "traceback": [
      "\u001b[1;36m  File \u001b[1;32m\"C:\\Users\\bitcamp\\AppData\\Local\\Temp/ipykernel_12916/2406580556.py\"\u001b[1;36m, line \u001b[1;32m4\u001b[0m\n\u001b[1;33m    7비트, 영문 대소문자, 숫자, 특수기호 0, 한글 x\u001b[0m\n\u001b[1;37m     ^\u001b[0m\n\u001b[1;31mSyntaxError\u001b[0m\u001b[1;31m:\u001b[0m invalid syntax\n"
     ]
    }
   ],
   "source": [
    "## encoding (문자->숫자(binary))\n",
    "\n",
    "#ASCII\n",
    "7비트, 영문 대소문자, 숫자, 특수기호 0, 한글 x\n",
    "2의 7제곱 : 128개 문자\n",
    "    \n",
    "# Ansi\n",
    "8비트로 확정한 ascii\n",
    "256개의 문자\n",
    "\n",
    "# unicode\n",
    "2byte: 2의 16승, 65536개의 문자를 표현\n",
    "국제표준, 전세계 모든 문자와 맵핑\n",
    "\n",
    "# 한글 encoding : euckr, cp949, utf-8\n",
    "\n",
    "# euckr\n",
    "완성형 문자 인코딩방식 : 문자 하나를 그 자체로 인식\n",
    "한글을 2byte로 표시\n",
    "cp949는 euckr의 확장형으로 윈도우에서 많이 사용\n",
    "\n",
    "# utf-8\n",
    "자음, 모음을 초성,중성,종성으로 구분하여 한긍를 3byte로 표현\n",
    "ascii에 해당하는 문자(영문,숫자,특수문자..) 1byte로 표현 - 가변형 encoding방식"
   ]
  },
  {
   "cell_type": "code",
   "execution_count": null,
   "id": "99cc4332",
   "metadata": {},
   "outputs": [],
   "source": []
  },
  {
   "cell_type": "markdown",
   "id": "344fb4b8",
   "metadata": {},
   "source": [
    "# 채굴(mining)"
   ]
  },
  {
   "cell_type": "markdown",
   "id": "efbc638e",
   "metadata": {},
   "source": [
    "특정한 조건을 만족하는 hash값을 찾는 연산을 반복하는 것<br>\n",
    "채굴에 성공한 경우에만 블록에 체인이 연결됨<br>\n",
    "채굴에 성공하면 보상으로 코인을 받는다<br>"
   ]
  },
  {
   "cell_type": "markdown",
   "id": "19e1f21c",
   "metadata": {},
   "source": [
    "## 블록이란?"
   ]
  },
  {
   "cell_type": "code",
   "execution_count": 37,
   "id": "f1b9d6d0",
   "metadata": {
    "ExecuteTime": {
     "end_time": "2022-05-23T03:37:32.667549Z",
     "start_time": "2022-05-23T03:37:32.648647Z"
    }
   },
   "outputs": [
    {
     "data": {
      "image/png": "[encoded data removed]",
      "text/plain": [
       "<IPython.core.display.Image object>"
      ]
     },
     "execution_count": 37,
     "metadata": {},
     "output_type": "execute_result"
    }
   ],
   "source": [
    "from IPython.display import Image\n",
    "Image('./블록체인_블록.png')"
   ]
  },
  {
   "cell_type": "code",
   "execution_count": 32,
   "id": "28f5c6bb",
   "metadata": {
    "ExecuteTime": {
     "end_time": "2022-05-23T03:23:02.628852Z",
     "start_time": "2022-05-23T03:23:01.722079Z"
    }
   },
   "outputs": [
    {
     "name": "stdout",
     "output_type": "stream",
     "text": [
      "Hash : 0000090a986a90afe4c7ec77e9fd2db688bde6f7351ed0e2263a2a84978324ca\n",
      "Nounce : 390648\n",
      "Minning took 0.8998174667358398s!\n"
     ]
    }
   ],
   "source": [
    "from hashlib import sha256\n",
    "import time\n",
    "\n",
    "max_nounce = int(1e10)\n",
    "difficulty = 5\n",
    "\n",
    "block_number = 667745\n",
    "\n",
    "transaction = \"\"\"\n",
    "A->B :10\n",
    "D->A :99\n",
    "C->Z :1\n",
    "\"\"\"\n",
    "\n",
    "previous_hash = \"f1293ee04a554b9297598e3bbb3f9f907f6fcee7d4fe5edfd5c7476d1e0f9f3a\"\n",
    "\n",
    "new_hash = None\n",
    "\n",
    "#현재시간\n",
    "st_time = time.time()\n",
    "\n",
    "for nounce in range(max_nounce):\n",
    "    block= str(block_number) + transaction + previous_hash + str(nounce)\n",
    "    new_hash = sha256(block.encode('ascii')).hexdigest()\n",
    "    \n",
    "    if new_hash.startswith('0'*difficulty):\n",
    "        print(f'Hash : {new_hash}')\n",
    "        print(f'Nounce : {nounce}')\n",
    "        break\n",
    "\n",
    "if new_hash is None:\n",
    "    print('cannot find new hash')\n",
    "    \n",
    "print(f'Minning took {time.time() - st_time}s!' )\n"
   ]
  },
  {
   "cell_type": "code",
   "execution_count": 33,
   "id": "cef16412",
   "metadata": {
    "ExecuteTime": {
     "end_time": "2022-05-23T03:23:10.452632Z",
     "start_time": "2022-05-23T03:23:10.440664Z"
    }
   },
   "outputs": [
    {
     "data": {
      "text/plain": [
       "'667745\\nA->B :10\\nD->A :99\\nC->Z :1\\nf1293ee04a554b9297598e3bbb3f9f907f6fcee7d4fe5edfd5c7476d1e0f9f3a390648'"
      ]
     },
     "execution_count": 33,
     "metadata": {},
     "output_type": "execute_result"
    }
   ],
   "source": [
    "block"
   ]
  },
  {
   "cell_type": "code",
   "execution_count": null,
   "id": "ee80e4e6",
   "metadata": {},
   "outputs": [],
   "source": []
  },
  {
   "cell_type": "markdown",
   "id": "f6664194",
   "metadata": {},
   "source": [
    "## chain 구성"
   ]
  },
  {
   "cell_type": "markdown",
   "id": "1a136e8a",
   "metadata": {},
   "source": [
    "transation(거래내역) -> block -> 채굴 -> chain 추가"
   ]
  },
  {
   "cell_type": "code",
   "execution_count": 38,
   "id": "ebd26d89",
   "metadata": {
    "ExecuteTime": {
     "end_time": "2022-05-23T03:41:17.838596Z",
     "start_time": "2022-05-23T03:41:17.821642Z"
    }
   },
   "outputs": [],
   "source": [
    "tr1 = '호준->길동, 1코인'\n",
    "tr2 = '길동->미자, 2코인'\n",
    "tr3 = '춘향->준호, 3코인'\n",
    "tr4 = '준길->상호, 1코인'\n",
    "tr5 = '나미->준호, 3코인'\n",
    "tr6 = '정자->미자, 2코인'"
   ]
  },
  {
   "cell_type": "code",
   "execution_count": 42,
   "id": "700f7e77",
   "metadata": {
    "ExecuteTime": {
     "end_time": "2022-05-23T03:47:51.496275Z",
     "start_time": "2022-05-23T03:47:51.478303Z"
    }
   },
   "outputs": [],
   "source": [
    "class bitCoin:\n",
    "    def __init__(self, 앞블록해쉬,트랜젝션리스트):\n",
    "        self.앞블록해쉬 = 앞블록해쉬\n",
    "        self.트랜젝션리스트 = 트랜젝션리스트\n",
    "        \n",
    "        self.블록 = '-트랜젝션 :' + \"\\n- 트랜젝션 :\".join(트랜젝션리스트) + \\\n",
    "        \"\\n- 앞블록해쉬 :\" + 앞블록해쉬\n",
    "        \n",
    "        self.블록해쉬 = hashlib.sha256(self.블록.encode()).hexdigest()"
   ]
  },
  {
   "cell_type": "code",
   "execution_count": 43,
   "id": "d825c6ba",
   "metadata": {
    "ExecuteTime": {
     "end_time": "2022-05-23T03:47:52.232471Z",
     "start_time": "2022-05-23T03:47:52.215516Z"
    }
   },
   "outputs": [],
   "source": [
    "블록1 = bitCoin('randow_initial_text', [tr1, tr2])"
   ]
  },
  {
   "cell_type": "code",
   "execution_count": 44,
   "id": "0c9abc25",
   "metadata": {
    "ExecuteTime": {
     "end_time": "2022-05-23T03:47:54.426522Z",
     "start_time": "2022-05-23T03:47:54.422534Z"
    }
   },
   "outputs": [
    {
     "data": {
      "text/plain": [
       "'-트랜젝션 :호준->길동, 1코인\\n- 트랜젝션 :길동->미자, 2코인\\n- 앞블록해쉬 :randow_initial_text'"
      ]
     },
     "execution_count": 44,
     "metadata": {},
     "output_type": "execute_result"
    }
   ],
   "source": [
    "블록1.블록"
   ]
  },
  {
   "cell_type": "code",
   "execution_count": 45,
   "id": "7fd7f6a8",
   "metadata": {
    "ExecuteTime": {
     "end_time": "2022-05-23T03:48:36.388411Z",
     "start_time": "2022-05-23T03:48:36.377467Z"
    }
   },
   "outputs": [
    {
     "data": {
      "text/plain": [
       "'b4dc5bfabeab93b9b95d273f078497efd7c7a82b95690990ae15a99c6eea3d4a'"
      ]
     },
     "execution_count": 45,
     "metadata": {},
     "output_type": "execute_result"
    }
   ],
   "source": [
    "블록1.블록해쉬"
   ]
  },
  {
   "cell_type": "code",
   "execution_count": null,
   "id": "a83bc390",
   "metadata": {},
   "outputs": [],
   "source": []
  },
  {
   "cell_type": "code",
   "execution_count": 46,
   "id": "5ef5c49d",
   "metadata": {
    "ExecuteTime": {
     "end_time": "2022-05-23T03:49:44.614263Z",
     "start_time": "2022-05-23T03:49:44.599306Z"
    }
   },
   "outputs": [],
   "source": [
    "블록2 = bitCoin(블록1.블록해쉬, [tr3, tr4])"
   ]
  },
  {
   "cell_type": "code",
   "execution_count": 47,
   "id": "7af54107",
   "metadata": {
    "ExecuteTime": {
     "end_time": "2022-05-23T03:49:49.940013Z",
     "start_time": "2022-05-23T03:49:49.929042Z"
    }
   },
   "outputs": [
    {
     "data": {
      "text/plain": [
       "'-트랜젝션 :춘향->준호, 3코인\\n- 트랜젝션 :준길->상호, 1코인\\n- 앞블록해쉬 :b4dc5bfabeab93b9b95d273f078497efd7c7a82b95690990ae15a99c6eea3d4a'"
      ]
     },
     "execution_count": 47,
     "metadata": {},
     "output_type": "execute_result"
    }
   ],
   "source": [
    "블록2.블록"
   ]
  },
  {
   "cell_type": "code",
   "execution_count": 48,
   "id": "f4e58287",
   "metadata": {
    "ExecuteTime": {
     "end_time": "2022-05-23T03:49:55.414183Z",
     "start_time": "2022-05-23T03:49:55.401220Z"
    }
   },
   "outputs": [
    {
     "data": {
      "text/plain": [
       "'9c397836816e55d1ee837115b3fdcbb0c33ff994987a1ea49a972bddc97b3da4'"
      ]
     },
     "execution_count": 48,
     "metadata": {},
     "output_type": "execute_result"
    }
   ],
   "source": [
    "블록2.블록해쉬"
   ]
  },
  {
   "cell_type": "code",
   "execution_count": null,
   "id": "86a3afad",
   "metadata": {},
   "outputs": [],
   "source": []
  },
  {
   "cell_type": "code",
   "execution_count": 49,
   "id": "c3c2dd32",
   "metadata": {
    "ExecuteTime": {
     "end_time": "2022-05-23T03:51:07.178183Z",
     "start_time": "2022-05-23T03:51:07.175193Z"
    }
   },
   "outputs": [],
   "source": [
    "블록3 = bitCoin(블록2.블록해쉬, [tr5, tr6]) "
   ]
  },
  {
   "cell_type": "code",
   "execution_count": 50,
   "id": "0b62c46d",
   "metadata": {
    "ExecuteTime": {
     "end_time": "2022-05-23T03:51:12.152806Z",
     "start_time": "2022-05-23T03:51:12.135824Z"
    }
   },
   "outputs": [
    {
     "data": {
      "text/plain": [
       "'-트랜젝션 :나미->준호, 3코인\\n- 트랜젝션 :정자->미자, 2코인\\n- 앞블록해쉬 :9c397836816e55d1ee837115b3fdcbb0c33ff994987a1ea49a972bddc97b3da4'"
      ]
     },
     "execution_count": 50,
     "metadata": {},
     "output_type": "execute_result"
    }
   ],
   "source": [
    "블록3.블록"
   ]
  },
  {
   "cell_type": "code",
   "execution_count": 51,
   "id": "87a00db6",
   "metadata": {
    "ExecuteTime": {
     "end_time": "2022-05-23T03:51:19.656227Z",
     "start_time": "2022-05-23T03:51:19.639269Z"
    }
   },
   "outputs": [
    {
     "data": {
      "text/plain": [
       "'cc55fc268e39564220474a2bb64803ceafd882b2b96d6aff61a0d18efb9e492c'"
      ]
     },
     "execution_count": 51,
     "metadata": {},
     "output_type": "execute_result"
    }
   ],
   "source": [
    "블록3.블록해쉬"
   ]
  },
  {
   "cell_type": "code",
   "execution_count": null,
   "id": "88d6bed3",
   "metadata": {},
   "outputs": [],
   "source": []
  }
 ],
 "metadata": {
  "kernelspec": {
   "display_name": "Python 3 (ipykernel)",
   "language": "python",
   "name": "python3"
  },
  "language_info": {
   "codemirror_mode": {
    "name": "ipython",
    "version": 3
   },
   "file_extension": ".py",
   "mimetype": "text/x-python",
   "name": "python",
   "nbconvert_exporter": "python",
   "pygments_lexer": "ipython3",
   "version": "3.9.7"
  },
  "toc": {
   "base_numbering": 1,
   "nav_menu": {},
   "number_sections": true,
   "sideBar": true,
   "skip_h1_title": false,
   "title_cell": "Table of Contents",
   "title_sidebar": "Contents",
   "toc_cell": false,
   "toc_position": {},
   "toc_section_display": true,
   "toc_window_display": true
  },
  "varInspector": {
   "cols": {
    "lenName": 16,
    "lenType": 16,
    "lenVar": 40
   },
   "kernels_config": {
    "python": {
     "delete_cmd_postfix": "",
     "delete_cmd_prefix": "del ",
     "library": "var_list.py",
     "varRefreshCmd": "print(var_dic_list())"
    },
    "r": {
     "delete_cmd_postfix": ") ",
     "delete_cmd_prefix": "rm(",
     "library": "var_list.r",
     "varRefreshCmd": "cat(var_dic_list()) "
    }
   },
   "types_to_exclude": [
    "module",
    "function",
    "builtin_function_or_method",
    "instance",
    "_Feature"
   ],
   "window_display": false
  }
 },
 "nbformat": 4,
 "nbformat_minor": 5
}
