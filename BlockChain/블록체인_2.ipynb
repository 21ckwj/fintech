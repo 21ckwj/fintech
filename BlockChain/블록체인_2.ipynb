{
 "cells": [
  {
   "cell_type": "markdown",
   "id": "ade7f95b",
   "metadata": {},
   "source": [
    "# 블록체인 만들기"
   ]
  },
  {
   "cell_type": "code",
   "execution_count": 5,
   "id": "aeb192ab",
   "metadata": {
    "ExecuteTime": {
     "end_time": "2022-05-23T07:32:55.295782Z",
     "start_time": "2022-05-23T07:32:55.209856Z"
    }
   },
   "outputs": [],
   "source": [
    "from flask import Flask,request, jsonify\n",
    "import hashlib\n",
    "import datetime\n",
    "import json\n",
    "\n",
    "import requests\n",
    "\n",
    "# from time import time\n",
    "# from textwrap import dedent\n",
    "\n",
    "from uuid import uuid4\n",
    "from urllib.parse import urlparse"
   ]
  },
  {
   "cell_type": "markdown",
   "id": "25c432c7",
   "metadata": {
    "ExecuteTime": {
     "end_time": "2022-05-23T03:54:39.861808Z",
     "start_time": "2022-05-23T03:54:39.845840Z"
    }
   },
   "source": [
    "## part1 - building a BlockChain"
   ]
  },
  {
   "cell_type": "code",
   "execution_count": 4,
   "id": "913258ef",
   "metadata": {
    "ExecuteTime": {
     "end_time": "2022-05-23T05:42:58.210442Z",
     "start_time": "2022-05-23T05:42:58.186494Z"
    }
   },
   "outputs": [],
   "source": [
    "class Blockchain:\n",
    "    \n",
    "    # 생성자 함수: 실행시 바로 만들어지는 \n",
    "    def __init__(self):\n",
    "        self.chain = []\n",
    "        self.transactions = []\n",
    "        self.create_block(proof=1, previous_hash='0')\n",
    "        self.nodes = set()\n",
    "        \n",
    "    def create_block(self,proof,previous_hash):\n",
    "        block = {'index': len(self.chain)+1,\n",
    "                'timestamp': str(datetime.datetime.now()),\n",
    "                'proof': proof,\n",
    "                'previous_hash': previous_hash,\n",
    "                'transactions': self.transactions}\n",
    "        \n",
    "        self.transactions = []\n",
    "        self.chain.append(block)\n",
    "        return block\n",
    "    \n",
    "    def get_previous_block(self):\n",
    "        return self.chain[-1]\n",
    "    \n",
    "    def "
   ]
  },
  {
   "cell_type": "code",
   "execution_count": null,
   "id": "7bfdda96",
   "metadata": {},
   "outputs": [],
   "source": []
  },
  {
   "cell_type": "code",
   "execution_count": null,
   "id": "e2e83e66",
   "metadata": {},
   "outputs": [],
   "source": []
  },
  {
   "cell_type": "code",
   "execution_count": null,
   "id": "e3eaaef2",
   "metadata": {},
   "outputs": [],
   "source": []
  },
  {
   "cell_type": "code",
   "execution_count": null,
   "id": "50c466d1",
   "metadata": {},
   "outputs": [],
   "source": []
  },
  {
   "cell_type": "code",
   "execution_count": null,
   "id": "d1fa09a7",
   "metadata": {},
   "outputs": [],
   "source": []
  },
  {
   "cell_type": "code",
   "execution_count": null,
   "id": "d0f8f85a",
   "metadata": {},
   "outputs": [],
   "source": []
  },
  {
   "cell_type": "code",
   "execution_count": null,
   "id": "bd6639dd",
   "metadata": {},
   "outputs": [],
   "source": []
  }
 ],
 "metadata": {
  "kernelspec": {
   "display_name": "Python 3 (ipykernel)",
   "language": "python",
   "name": "python3"
  },
  "language_info": {
   "codemirror_mode": {
    "name": "ipython",
    "version": 3
   },
   "file_extension": ".py",
   "mimetype": "text/x-python",
   "name": "python",
   "nbconvert_exporter": "python",
   "pygments_lexer": "ipython3",
   "version": "3.9.7"
  },
  "toc": {
   "base_numbering": 1,
   "nav_menu": {},
   "number_sections": true,
   "sideBar": true,
   "skip_h1_title": false,
   "title_cell": "Table of Contents",
   "title_sidebar": "Contents",
   "toc_cell": false,
   "toc_position": {},
   "toc_section_display": true,
   "toc_window_display": false
  },
  "varInspector": {
   "cols": {
    "lenName": 16,
    "lenType": 16,
    "lenVar": 40
   },
   "kernels_config": {
    "python": {
     "delete_cmd_postfix": "",
     "delete_cmd_prefix": "del ",
     "library": "var_list.py",
     "varRefreshCmd": "print(var_dic_list())"
    },
    "r": {
     "delete_cmd_postfix": ") ",
     "delete_cmd_prefix": "rm(",
     "library": "var_list.r",
     "varRefreshCmd": "cat(var_dic_list()) "
    }
   },
   "types_to_exclude": [
    "module",
    "function",
    "builtin_function_or_method",
    "instance",
    "_Feature"
   ],
   "window_display": false
  }
 },
 "nbformat": 4,
 "nbformat_minor": 5
}
