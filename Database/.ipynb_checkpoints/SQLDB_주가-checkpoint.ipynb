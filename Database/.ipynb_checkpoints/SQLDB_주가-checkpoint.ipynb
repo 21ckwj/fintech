{
 "cells": [
  {
   "cell_type": "markdown",
   "id": "064f2078",
   "metadata": {},
   "source": [
    "##  주가 데이터 가져와서 db에 넣기"
   ]
  },
  {
   "cell_type": "code",
   "execution_count": 3,
   "id": "3ff43700",
   "metadata": {},
   "outputs": [],
   "source": [
    "import pandas as pd\n",
    "import numpy as np\n",
    "import matplotlib.pyplot as plt"
   ]
  },
  {
   "cell_type": "code",
   "execution_count": 4,
   "id": "5d3862c0",
   "metadata": {},
   "outputs": [],
   "source": [
    "import requests\n",
    "from bs4 import BeautifulSoup"
   ]
  },
  {
   "cell_type": "code",
   "execution_count": 5,
   "id": "30a4f6e1",
   "metadata": {},
   "outputs": [],
   "source": [
    "import time\n",
    "from selenium import webdriver\n",
    "from selenium.webdriver.common.keys import Keys\n"
   ]
  },
  {
   "cell_type": "code",
   "execution_count": 25,
   "id": "e061a005",
   "metadata": {},
   "outputs": [
    {
     "data": {
      "text/html": [
       "<div>\n",
       "<style scoped>\n",
       "    .dataframe tbody tr th:only-of-type {\n",
       "        vertical-align: middle;\n",
       "    }\n",
       "\n",
       "    .dataframe tbody tr th {\n",
       "        vertical-align: top;\n",
       "    }\n",
       "\n",
       "    .dataframe thead th {\n",
       "        text-align: right;\n",
       "    }\n",
       "</style>\n",
       "<table border=\"1\" class=\"dataframe\">\n",
       "  <thead>\n",
       "    <tr style=\"text-align: right;\">\n",
       "      <th></th>\n",
       "      <th>체결시각</th>\n",
       "      <th>체결가</th>\n",
       "      <th>전일비</th>\n",
       "      <th>매도</th>\n",
       "      <th>매수</th>\n",
       "      <th>거래량</th>\n",
       "      <th>변동량</th>\n",
       "    </tr>\n",
       "  </thead>\n",
       "  <tbody>\n",
       "    <tr>\n",
       "      <th>1</th>\n",
       "      <td>10:22</td>\n",
       "      <td>74500.0</td>\n",
       "      <td>1000.0</td>\n",
       "      <td>74500.0</td>\n",
       "      <td>74400.0</td>\n",
       "      <td>4184451.0</td>\n",
       "      <td>3535.0</td>\n",
       "    </tr>\n",
       "    <tr>\n",
       "      <th>2</th>\n",
       "      <td>10:21</td>\n",
       "      <td>74400.0</td>\n",
       "      <td>900.0</td>\n",
       "      <td>74500.0</td>\n",
       "      <td>74400.0</td>\n",
       "      <td>4180916.0</td>\n",
       "      <td>5251.0</td>\n",
       "    </tr>\n",
       "    <tr>\n",
       "      <th>3</th>\n",
       "      <td>10:20</td>\n",
       "      <td>74500.0</td>\n",
       "      <td>1000.0</td>\n",
       "      <td>74500.0</td>\n",
       "      <td>74400.0</td>\n",
       "      <td>4175665.0</td>\n",
       "      <td>4205.0</td>\n",
       "    </tr>\n",
       "    <tr>\n",
       "      <th>4</th>\n",
       "      <td>10:19</td>\n",
       "      <td>74500.0</td>\n",
       "      <td>1000.0</td>\n",
       "      <td>74500.0</td>\n",
       "      <td>74400.0</td>\n",
       "      <td>4171460.0</td>\n",
       "      <td>4224.0</td>\n",
       "    </tr>\n",
       "    <tr>\n",
       "      <th>5</th>\n",
       "      <td>10:18</td>\n",
       "      <td>74500.0</td>\n",
       "      <td>1000.0</td>\n",
       "      <td>74500.0</td>\n",
       "      <td>74400.0</td>\n",
       "      <td>4167236.0</td>\n",
       "      <td>97070.0</td>\n",
       "    </tr>\n",
       "  </tbody>\n",
       "</table>\n",
       "</div>"
      ],
      "text/plain": [
       "    체결시각      체결가     전일비       매도       매수        거래량      변동량\n",
       "1  10:22  74500.0  1000.0  74500.0  74400.0  4184451.0   3535.0\n",
       "2  10:21  74400.0   900.0  74500.0  74400.0  4180916.0   5251.0\n",
       "3  10:20  74500.0  1000.0  74500.0  74400.0  4175665.0   4205.0\n",
       "4  10:19  74500.0  1000.0  74500.0  74400.0  4171460.0   4224.0\n",
       "5  10:18  74500.0  1000.0  74500.0  74400.0  4167236.0  97070.0"
      ]
     },
     "execution_count": 25,
     "metadata": {},
     "output_type": "execute_result"
    }
   ],
   "source": [
    "driver = webdriver.Chrome()\n",
    "url = 'https://finance.naver.com/item/sise_time.naver?code=005930&thistime=20220209103212&page=2'  # \n",
    "driver.get(url)\n",
    "time.sleep(0.5)\n",
    "html = driver.page_source\n",
    "\n",
    "df = pd.read_html(html)[0]  # 리스트에 담겨있어서 빼줘야 함\n",
    "df.dropna(inplace= True)\n",
    "df.head()\n",
    "\n",
    "# driver.close()"
   ]
  },
  {
   "cell_type": "code",
   "execution_count": 26,
   "id": "6b08c3af",
   "metadata": {},
   "outputs": [],
   "source": [
    "df_code = pd.read_csv('./data/universe_code.csv')\n",
    "codes = df_code.종목코드.apply(lambda x: x[1:]).values\n",
    "# codes"
   ]
  },
  {
   "cell_type": "code",
   "execution_count": 27,
   "id": "997b8e77",
   "metadata": {},
   "outputs": [],
   "source": [
    "import MySQLdb\n",
    "\n",
    "db = MySQLdb.connect(host = 'localhost', port=3306, user='root', password='1234')\n",
    "cursor = db.cursor()"
   ]
  },
  {
   "cell_type": "code",
   "execution_count": 28,
   "id": "f2f3a57d",
   "metadata": {},
   "outputs": [
    {
     "data": {
      "text/html": [
       "<div>\n",
       "<style scoped>\n",
       "    .dataframe tbody tr th:only-of-type {\n",
       "        vertical-align: middle;\n",
       "    }\n",
       "\n",
       "    .dataframe tbody tr th {\n",
       "        vertical-align: top;\n",
       "    }\n",
       "\n",
       "    .dataframe thead th {\n",
       "        text-align: right;\n",
       "    }\n",
       "</style>\n",
       "<table border=\"1\" class=\"dataframe\">\n",
       "  <thead>\n",
       "    <tr style=\"text-align: right;\">\n",
       "      <th></th>\n",
       "      <th>Database</th>\n",
       "    </tr>\n",
       "  </thead>\n",
       "  <tbody>\n",
       "    <tr>\n",
       "      <th>0</th>\n",
       "      <td>information_schema</td>\n",
       "    </tr>\n",
       "    <tr>\n",
       "      <th>1</th>\n",
       "      <td>budongsan</td>\n",
       "    </tr>\n",
       "    <tr>\n",
       "      <th>2</th>\n",
       "      <td>employees</td>\n",
       "    </tr>\n",
       "    <tr>\n",
       "      <th>3</th>\n",
       "      <td>fin_db</td>\n",
       "    </tr>\n",
       "    <tr>\n",
       "      <th>4</th>\n",
       "      <td>gmarketdb</td>\n",
       "    </tr>\n",
       "    <tr>\n",
       "      <th>5</th>\n",
       "      <td>mysql</td>\n",
       "    </tr>\n",
       "    <tr>\n",
       "      <th>6</th>\n",
       "      <td>performance_schema</td>\n",
       "    </tr>\n",
       "    <tr>\n",
       "      <th>7</th>\n",
       "      <td>sakila</td>\n",
       "    </tr>\n",
       "    <tr>\n",
       "      <th>8</th>\n",
       "      <td>shopdb</td>\n",
       "    </tr>\n",
       "    <tr>\n",
       "      <th>9</th>\n",
       "      <td>sqldb</td>\n",
       "    </tr>\n",
       "    <tr>\n",
       "      <th>10</th>\n",
       "      <td>sys</td>\n",
       "    </tr>\n",
       "    <tr>\n",
       "      <th>11</th>\n",
       "      <td>tabledb</td>\n",
       "    </tr>\n",
       "    <tr>\n",
       "      <th>12</th>\n",
       "      <td>world</td>\n",
       "    </tr>\n",
       "  </tbody>\n",
       "</table>\n",
       "</div>"
      ],
      "text/plain": [
       "              Database\n",
       "0   information_schema\n",
       "1            budongsan\n",
       "2            employees\n",
       "3               fin_db\n",
       "4            gmarketdb\n",
       "5                mysql\n",
       "6   performance_schema\n",
       "7               sakila\n",
       "8               shopdb\n",
       "9                sqldb\n",
       "10                 sys\n",
       "11             tabledb\n",
       "12               world"
      ]
     },
     "execution_count": 28,
     "metadata": {},
     "output_type": "execute_result"
    }
   ],
   "source": [
    "sql = \"show databases;\"\n",
    "pd.read_sql(sql,db)"
   ]
  },
  {
   "cell_type": "code",
   "execution_count": 29,
   "id": "c09babeb",
   "metadata": {},
   "outputs": [
    {
     "data": {
      "text/plain": [
       "0"
      ]
     },
     "execution_count": 29,
     "metadata": {},
     "output_type": "execute_result"
    }
   ],
   "source": [
    "sql = \" use fin_db;\"\n",
    "cursor.execute(sql)"
   ]
  },
  {
   "cell_type": "code",
   "execution_count": 30,
   "id": "63db5ba7",
   "metadata": {},
   "outputs": [
    {
     "data": {
      "text/plain": [
       "0"
      ]
     },
     "execution_count": 30,
     "metadata": {},
     "output_type": "execute_result"
    }
   ],
   "source": [
    "# 데이터베이스에 stock_table 이라는 테이블 생성\n",
    "sql= \"\"\"\n",
    "create table if not exists stock_table(\n",
    "code char(6),\n",
    "date date,\n",
    "close float,\n",
    "margin varchar(50),\n",
    "start float,\n",
    "high float,\n",
    "low float,\n",
    "volume float\n",
    ");\"\"\"\n",
    "\n",
    "cursor.execute(sql)"
   ]
  },
  {
   "cell_type": "code",
   "execution_count": null,
   "id": "eb5dc3c1",
   "metadata": {},
   "outputs": [],
   "source": []
  },
  {
   "cell_type": "code",
   "execution_count": 31,
   "id": "bfb926b0",
   "metadata": {},
   "outputs": [],
   "source": [
    "url = 'https://finance.naver.com/item/sise_day.naver?code={}&page={}'.format(code, num)"
   ]
  },
  {
   "cell_type": "code",
   "execution_count": 37,
   "id": "b349d754",
   "metadata": {},
   "outputs": [
    {
     "name": "stdout",
     "output_type": "stream",
     "text": [
      "000210 ================\n",
      "            날짜       종가     전일비       시가       고가       저가       거래량\n",
      "1   2022.02.09  60200.0   600.0  59700.0  60400.0  59000.0   12276.0\n",
      "2   2022.02.08  59600.0  1000.0  59100.0  61000.0  58600.0   83130.0\n",
      "3   2022.02.07  58600.0  1100.0  57500.0  58800.0  57000.0   53386.0\n",
      "4   2022.02.04  57500.0   900.0  56900.0  57800.0  56600.0   34228.0\n",
      "5   2022.02.03  56600.0   700.0  56300.0  57500.0  56300.0   44961.0\n",
      "9   2022.01.28  55900.0  1700.0  54400.0  57500.0  53900.0   95644.0\n",
      "10  2022.01.27  54200.0  2800.0  57000.0  57100.0  53900.0   97345.0\n",
      "11  2022.01.26  57000.0   100.0  56600.0  57800.0  56600.0   39639.0\n",
      "12  2022.01.25  57100.0  1600.0  58200.0  58500.0  56600.0  106342.0\n",
      "13  2022.01.24  58700.0  1700.0  59300.0  61000.0  58300.0  120883.0\n",
      "-----------------\n"
     ]
    },
    {
     "ename": "TypeError",
     "evalue": "format expected at most 2 arguments, got 8",
     "output_type": "error",
     "traceback": [
      "\u001b[1;31m---------------------------------------------------------------------------\u001b[0m",
      "\u001b[1;31mTypeError\u001b[0m                                 Traceback (most recent call last)",
      "\u001b[1;32m~\\AppData\\Local\\Temp/ipykernel_13804/1704666149.py\u001b[0m in \u001b[0;36m<module>\u001b[1;34m\u001b[0m\n\u001b[0;32m     24\u001b[0m             \u001b[0mvolume\u001b[0m \u001b[1;33m=\u001b[0m \u001b[0mdf\u001b[0m\u001b[1;33m.\u001b[0m\u001b[0miloc\u001b[0m\u001b[1;33m[\u001b[0m\u001b[0mi\u001b[0m\u001b[1;33m]\u001b[0m\u001b[1;33m[\u001b[0m\u001b[1;36m6\u001b[0m\u001b[1;33m]\u001b[0m\u001b[1;33m\u001b[0m\u001b[1;33m\u001b[0m\u001b[0m\n\u001b[0;32m     25\u001b[0m \u001b[1;33m\u001b[0m\u001b[0m\n\u001b[1;32m---> 26\u001b[1;33m             \u001b[0msql\u001b[0m\u001b[1;33m=\u001b[0m\u001b[1;34m\"\"\"insert into stock_table values('{},{},{},{},{},{},{},{}');\"\"\"\u001b[0m\u001b[1;33m,\u001b[0m\u001b[0mformat\u001b[0m\u001b[1;33m(\u001b[0m\u001b[0mcode\u001b[0m\u001b[1;33m,\u001b[0m\u001b[0mdate\u001b[0m\u001b[1;33m,\u001b[0m\u001b[0mclose\u001b[0m\u001b[1;33m,\u001b[0m\u001b[0mmargin\u001b[0m\u001b[1;33m,\u001b[0m\u001b[0mstart\u001b[0m\u001b[1;33m,\u001b[0m\u001b[0mhigh\u001b[0m\u001b[1;33m,\u001b[0m\u001b[0mlow\u001b[0m\u001b[1;33m,\u001b[0m\u001b[0mvolume\u001b[0m\u001b[1;33m)\u001b[0m\u001b[1;33m\u001b[0m\u001b[1;33m\u001b[0m\u001b[0m\n\u001b[0m\u001b[0;32m     27\u001b[0m \u001b[1;33m\u001b[0m\u001b[0m\n\u001b[0;32m     28\u001b[0m \u001b[1;33m\u001b[0m\u001b[0m\n",
      "\u001b[1;31mTypeError\u001b[0m: format expected at most 2 arguments, got 8"
     ]
    }
   ],
   "source": [
    "url = 'https://finance.naver.com/item/sise_day.naver?code={}&page={}'\n",
    "driver = webdriver.Chrome()\n",
    "\n",
    "for code in codes[:3]:\n",
    "    print(code, '================')\n",
    "    for i in range(1,10):  # 10페이지 100일치\n",
    "        driver.get(url.format(code,i))\n",
    "        time.sleep(0.5)\n",
    "        html = driver.page_source\n",
    "        \n",
    "        df = pd.read_html(html)[0]\n",
    "        df.dropna(inplace=True)\n",
    "        print(df)\n",
    "        print(\"-----------------\")\n",
    "        \n",
    "        for i in range(len(df)):\n",
    "            code = code\n",
    "            date = df.iloc[i][0]\n",
    "            close = df.iloc[i][1]\n",
    "            margin = df.iloc[i][2]\n",
    "            start = df.iloc[i][3]\n",
    "            high = df.iloc[i][4]\n",
    "            low = df.iloc[i][5]\n",
    "            volume = df.iloc[i][6]\n",
    "            \n",
    "            sql=\"\"\"insert into stock_table values('{},{},{},{},{},{},{},{}');\"\"\",format(code,date,close,margin,start,high,low,volume)\n",
    "            \n",
    "            \n",
    "        "
   ]
  },
  {
   "cell_type": "code",
   "execution_count": null,
   "id": "9fb630a8",
   "metadata": {},
   "outputs": [],
   "source": []
  },
  {
   "cell_type": "code",
   "execution_count": null,
   "id": "23f156b7",
   "metadata": {},
   "outputs": [],
   "source": [
    "sql = 'select * from stock_table;'\n",
    "\n",
    "st_price = pd.read_sql(sql, db)\n",
    "st_price"
   ]
  },
  {
   "cell_type": "code",
   "execution_count": null,
   "id": "d24ffba1",
   "metadata": {},
   "outputs": [],
   "source": []
  },
  {
   "cell_type": "code",
   "execution_count": null,
   "id": "36db8d2a",
   "metadata": {},
   "outputs": [],
   "source": []
  },
  {
   "cell_type": "code",
   "execution_count": null,
   "id": "65ebde77",
   "metadata": {},
   "outputs": [],
   "source": []
  },
  {
   "cell_type": "code",
   "execution_count": null,
   "id": "ae71937f",
   "metadata": {},
   "outputs": [],
   "source": []
  },
  {
   "cell_type": "code",
   "execution_count": null,
   "id": "1c35c21b",
   "metadata": {},
   "outputs": [],
   "source": []
  },
  {
   "cell_type": "code",
   "execution_count": null,
   "id": "fdb16f74",
   "metadata": {},
   "outputs": [],
   "source": []
  },
  {
   "cell_type": "code",
   "execution_count": null,
   "id": "5b4a94cc",
   "metadata": {},
   "outputs": [],
   "source": []
  },
  {
   "cell_type": "code",
   "execution_count": null,
   "id": "8517115c",
   "metadata": {},
   "outputs": [],
   "source": []
  },
  {
   "cell_type": "code",
   "execution_count": null,
   "id": "b39c38ac",
   "metadata": {},
   "outputs": [],
   "source": []
  },
  {
   "cell_type": "code",
   "execution_count": null,
   "id": "9859ca15",
   "metadata": {},
   "outputs": [],
   "source": []
  },
  {
   "cell_type": "code",
   "execution_count": null,
   "id": "3dc98b2c",
   "metadata": {},
   "outputs": [],
   "source": []
  },
  {
   "cell_type": "code",
   "execution_count": null,
   "id": "18a8482f",
   "metadata": {},
   "outputs": [],
   "source": []
  },
  {
   "cell_type": "code",
   "execution_count": null,
   "id": "41024400",
   "metadata": {},
   "outputs": [],
   "source": []
  },
  {
   "cell_type": "code",
   "execution_count": null,
   "id": "f1a917d0",
   "metadata": {},
   "outputs": [],
   "source": []
  },
  {
   "cell_type": "code",
   "execution_count": null,
   "id": "26112c12",
   "metadata": {},
   "outputs": [],
   "source": []
  },
  {
   "cell_type": "code",
   "execution_count": null,
   "id": "6672da13",
   "metadata": {},
   "outputs": [],
   "source": []
  },
  {
   "cell_type": "code",
   "execution_count": null,
   "id": "35aca5b3",
   "metadata": {},
   "outputs": [],
   "source": []
  },
  {
   "cell_type": "code",
   "execution_count": null,
   "id": "2c5f3fe7",
   "metadata": {},
   "outputs": [],
   "source": []
  }
 ],
 "metadata": {
  "kernelspec": {
   "display_name": "Python 3 (ipykernel)",
   "language": "python",
   "name": "python3"
  },
  "language_info": {
   "codemirror_mode": {
    "name": "ipython",
    "version": 3
   },
   "file_extension": ".py",
   "mimetype": "text/x-python",
   "name": "python",
   "nbconvert_exporter": "python",
   "pygments_lexer": "ipython3",
   "version": "3.9.7"
  },
  "varInspector": {
   "cols": {
    "lenName": 16,
    "lenType": 16,
    "lenVar": 40
   },
   "kernels_config": {
    "python": {
     "delete_cmd_postfix": "",
     "delete_cmd_prefix": "del ",
     "library": "var_list.py",
     "varRefreshCmd": "print(var_dic_list())"
    },
    "r": {
     "delete_cmd_postfix": ") ",
     "delete_cmd_prefix": "rm(",
     "library": "var_list.r",
     "varRefreshCmd": "cat(var_dic_list()) "
    }
   },
   "types_to_exclude": [
    "module",
    "function",
    "builtin_function_or_method",
    "instance",
    "_Feature"
   ],
   "window_display": false
  }
 },
 "nbformat": 4,
 "nbformat_minor": 5
}
