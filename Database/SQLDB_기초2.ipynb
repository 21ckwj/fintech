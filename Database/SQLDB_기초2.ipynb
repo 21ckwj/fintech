{
 "cells": [
  {
   "cell_type": "code",
   "execution_count": 1,
   "id": "a6a28bab",
   "metadata": {},
   "outputs": [],
   "source": [
    "import pandas as pd\n",
    "import numpy as np\n",
    "import MySQLdb"
   ]
  },
  {
   "cell_type": "code",
   "execution_count": 2,
   "id": "b0d40315",
   "metadata": {},
   "outputs": [
    {
     "data": {
      "text/html": [
       "<div>\n",
       "<style scoped>\n",
       "    .dataframe tbody tr th:only-of-type {\n",
       "        vertical-align: middle;\n",
       "    }\n",
       "\n",
       "    .dataframe tbody tr th {\n",
       "        vertical-align: top;\n",
       "    }\n",
       "\n",
       "    .dataframe thead th {\n",
       "        text-align: right;\n",
       "    }\n",
       "</style>\n",
       "<table border=\"1\" class=\"dataframe\">\n",
       "  <thead>\n",
       "    <tr style=\"text-align: right;\">\n",
       "      <th></th>\n",
       "      <th>매물번호</th>\n",
       "      <th>연락처</th>\n",
       "      <th>주소</th>\n",
       "      <th>부동산</th>\n",
       "      <th>보증금</th>\n",
       "      <th>월세</th>\n",
       "    </tr>\n",
       "  </thead>\n",
       "  <tbody>\n",
       "    <tr>\n",
       "      <th>0</th>\n",
       "      <td>3467204.0</td>\n",
       "      <td>010-123-4567</td>\n",
       "      <td>서울시 강남구 역삼동 0</td>\n",
       "      <td>TODAY공인중개사(이인규)</td>\n",
       "      <td>1000.0</td>\n",
       "      <td>100.0</td>\n",
       "    </tr>\n",
       "    <tr>\n",
       "      <th>1</th>\n",
       "      <td>3150497.0</td>\n",
       "      <td>010-123-4567</td>\n",
       "      <td>서울시 강남구 역삼동 1</td>\n",
       "      <td>TODAY공인중개사(이인규)</td>\n",
       "      <td>11000.0</td>\n",
       "      <td>60.0</td>\n",
       "    </tr>\n",
       "  </tbody>\n",
       "</table>\n",
       "</div>"
      ],
      "text/plain": [
       "        매물번호           연락처             주소              부동산      보증금     월세\n",
       "0  3467204.0  010-123-4567  서울시 강남구 역삼동 0  TODAY공인중개사(이인규)   1000.0  100.0\n",
       "1  3150497.0  010-123-4567  서울시 강남구 역삼동 1  TODAY공인중개사(이인규)  11000.0   60.0"
      ]
     },
     "execution_count": 2,
     "metadata": {},
     "output_type": "execute_result"
    }
   ],
   "source": [
    "budongsan = pd.read_csv('budongsan.csv', index_col = 0)\n",
    "budongsan.head(2)"
   ]
  },
  {
   "cell_type": "code",
   "execution_count": 3,
   "id": "003a0094",
   "metadata": {},
   "outputs": [],
   "source": [
    "db = MySQLdb.connect(host = 'localhost', user='root', password = '1234')\n",
    "cursor = db.cursor()"
   ]
  },
  {
   "cell_type": "code",
   "execution_count": 4,
   "id": "a7b63d29",
   "metadata": {},
   "outputs": [
    {
     "data": {
      "text/html": [
       "<div>\n",
       "<style scoped>\n",
       "    .dataframe tbody tr th:only-of-type {\n",
       "        vertical-align: middle;\n",
       "    }\n",
       "\n",
       "    .dataframe tbody tr th {\n",
       "        vertical-align: top;\n",
       "    }\n",
       "\n",
       "    .dataframe thead th {\n",
       "        text-align: right;\n",
       "    }\n",
       "</style>\n",
       "<table border=\"1\" class=\"dataframe\">\n",
       "  <thead>\n",
       "    <tr style=\"text-align: right;\">\n",
       "      <th></th>\n",
       "      <th>Database</th>\n",
       "    </tr>\n",
       "  </thead>\n",
       "  <tbody>\n",
       "    <tr>\n",
       "      <th>0</th>\n",
       "      <td>information_schema</td>\n",
       "    </tr>\n",
       "    <tr>\n",
       "      <th>1</th>\n",
       "      <td>employees</td>\n",
       "    </tr>\n",
       "    <tr>\n",
       "      <th>2</th>\n",
       "      <td>mysql</td>\n",
       "    </tr>\n",
       "    <tr>\n",
       "      <th>3</th>\n",
       "      <td>performance_schema</td>\n",
       "    </tr>\n",
       "    <tr>\n",
       "      <th>4</th>\n",
       "      <td>sakila</td>\n",
       "    </tr>\n",
       "    <tr>\n",
       "      <th>5</th>\n",
       "      <td>sqldb</td>\n",
       "    </tr>\n",
       "    <tr>\n",
       "      <th>6</th>\n",
       "      <td>sys</td>\n",
       "    </tr>\n",
       "    <tr>\n",
       "      <th>7</th>\n",
       "      <td>world</td>\n",
       "    </tr>\n",
       "  </tbody>\n",
       "</table>\n",
       "</div>"
      ],
      "text/plain": [
       "             Database\n",
       "0  information_schema\n",
       "1           employees\n",
       "2               mysql\n",
       "3  performance_schema\n",
       "4              sakila\n",
       "5               sqldb\n",
       "6                 sys\n",
       "7               world"
      ]
     },
     "execution_count": 4,
     "metadata": {},
     "output_type": "execute_result"
    }
   ],
   "source": [
    "sql = \"\"\"show databases; \"\"\"\n",
    "\n",
    "# cursor.execute(sql)\n",
    "pd.read_sql(sql,db)"
   ]
  },
  {
   "cell_type": "code",
   "execution_count": 5,
   "id": "7ce006e0",
   "metadata": {},
   "outputs": [
    {
     "data": {
      "text/plain": [
       "1"
      ]
     },
     "execution_count": 5,
     "metadata": {},
     "output_type": "execute_result"
    }
   ],
   "source": [
    "sql = \"create database if not exists budongsan;\"\n",
    "cursor.execute(sql)"
   ]
  },
  {
   "cell_type": "code",
   "execution_count": 6,
   "id": "be2cad76",
   "metadata": {},
   "outputs": [
    {
     "data": {
      "text/plain": [
       "0"
      ]
     },
     "execution_count": 6,
     "metadata": {},
     "output_type": "execute_result"
    }
   ],
   "source": [
    "sql = \"\"\"\n",
    "use budongsan;\n",
    "\"\"\"\n",
    "cursor.execute(sql)"
   ]
  },
  {
   "cell_type": "code",
   "execution_count": 7,
   "id": "69657fe2",
   "metadata": {},
   "outputs": [
    {
     "data": {
      "text/plain": [
       "0"
      ]
     },
     "execution_count": 7,
     "metadata": {},
     "output_type": "execute_result"
    }
   ],
   "source": [
    "sql = \"\"\"\n",
    "create table if not exists provider (\n",
    "provider_id int primary key,\n",
    "name varchar(30));\n",
    "\"\"\"\n",
    "\n",
    "cursor.execute(sql)"
   ]
  },
  {
   "cell_type": "code",
   "execution_count": 8,
   "id": "0d75048a",
   "metadata": {},
   "outputs": [
    {
     "data": {
      "text/plain": [
       "1"
      ]
     },
     "execution_count": 8,
     "metadata": {},
     "output_type": "execute_result"
    }
   ],
   "source": [
    "# 중복실행 시 에러\n",
    "sql = \"\"\"\n",
    "insert into provider values(1, '우리부동산');\n",
    "insert into provider values(2, '한마음부동산');\n",
    "\"\"\"\n",
    "\n",
    "cursor.execute(sql)"
   ]
  },
  {
   "cell_type": "code",
   "execution_count": 9,
   "id": "3a9c09f2",
   "metadata": {},
   "outputs": [
    {
     "data": {
      "text/plain": [
       "((1, '우리부동산'), (2, '한마음부동산'))"
      ]
     },
     "execution_count": 9,
     "metadata": {},
     "output_type": "execute_result"
    }
   ],
   "source": [
    "sql = \"\"\"\n",
    "select * from provider;\n",
    "\"\"\"\n",
    "\n",
    "cursor.execute(sql)\n",
    "cursor.fetchall()"
   ]
  },
  {
   "cell_type": "code",
   "execution_count": 10,
   "id": "95343d3f",
   "metadata": {},
   "outputs": [
    {
     "data": {
      "text/html": [
       "<div>\n",
       "<style scoped>\n",
       "    .dataframe tbody tr th:only-of-type {\n",
       "        vertical-align: middle;\n",
       "    }\n",
       "\n",
       "    .dataframe tbody tr th {\n",
       "        vertical-align: top;\n",
       "    }\n",
       "\n",
       "    .dataframe thead th {\n",
       "        text-align: right;\n",
       "    }\n",
       "</style>\n",
       "<table border=\"1\" class=\"dataframe\">\n",
       "  <thead>\n",
       "    <tr style=\"text-align: right;\">\n",
       "      <th></th>\n",
       "      <th>매물번호</th>\n",
       "      <th>연락처</th>\n",
       "      <th>주소</th>\n",
       "      <th>부동산</th>\n",
       "      <th>보증금</th>\n",
       "      <th>월세</th>\n",
       "    </tr>\n",
       "  </thead>\n",
       "  <tbody>\n",
       "    <tr>\n",
       "      <th>0</th>\n",
       "      <td>3467204.0</td>\n",
       "      <td>010-123-4567</td>\n",
       "      <td>서울시 강남구 역삼동 0</td>\n",
       "      <td>TODAY공인중개사(이인규)</td>\n",
       "      <td>1000.0</td>\n",
       "      <td>100.0</td>\n",
       "    </tr>\n",
       "    <tr>\n",
       "      <th>1</th>\n",
       "      <td>3150497.0</td>\n",
       "      <td>010-123-4567</td>\n",
       "      <td>서울시 강남구 역삼동 1</td>\n",
       "      <td>TODAY공인중개사(이인규)</td>\n",
       "      <td>11000.0</td>\n",
       "      <td>60.0</td>\n",
       "    </tr>\n",
       "    <tr>\n",
       "      <th>2</th>\n",
       "      <td>3440906.0</td>\n",
       "      <td>010-123-4567</td>\n",
       "      <td>서울시 강남구 역삼동 2</td>\n",
       "      <td>열린공인중개사(강광수)</td>\n",
       "      <td>5000.0</td>\n",
       "      <td>65.0</td>\n",
       "    </tr>\n",
       "  </tbody>\n",
       "</table>\n",
       "</div>"
      ],
      "text/plain": [
       "        매물번호           연락처             주소              부동산      보증금     월세\n",
       "0  3467204.0  010-123-4567  서울시 강남구 역삼동 0  TODAY공인중개사(이인규)   1000.0  100.0\n",
       "1  3150497.0  010-123-4567  서울시 강남구 역삼동 1  TODAY공인중개사(이인규)  11000.0   60.0\n",
       "2  3440906.0  010-123-4567  서울시 강남구 역삼동 2     열린공인중개사(강광수)   5000.0   65.0"
      ]
     },
     "execution_count": 10,
     "metadata": {},
     "output_type": "execute_result"
    }
   ],
   "source": [
    "budongsan = pd.read_csv('budongsan.csv', index_col = 0)\n",
    "budongsan.head(3)"
   ]
  },
  {
   "cell_type": "code",
   "execution_count": 11,
   "id": "eab22794",
   "metadata": {},
   "outputs": [
    {
     "name": "stdout",
     "output_type": "stream",
     "text": [
      "<class 'pandas.core.frame.DataFrame'>\n",
      "Int64Index: 43 entries, 0 to 42\n",
      "Data columns (total 6 columns):\n",
      " #   Column  Non-Null Count  Dtype  \n",
      "---  ------  --------------  -----  \n",
      " 0   매물번호    43 non-null     float64\n",
      " 1   연락처     43 non-null     object \n",
      " 2   주소      43 non-null     object \n",
      " 3   부동산     43 non-null     object \n",
      " 4   보증금     43 non-null     float64\n",
      " 5   월세      43 non-null     float64\n",
      "dtypes: float64(3), object(3)\n",
      "memory usage: 2.4+ KB\n"
     ]
    }
   ],
   "source": [
    "budongsan.info()"
   ]
  },
  {
   "cell_type": "code",
   "execution_count": 12,
   "id": "29964b54",
   "metadata": {},
   "outputs": [],
   "source": [
    "# budongsan.매물번호.value_counts()"
   ]
  },
  {
   "cell_type": "code",
   "execution_count": null,
   "id": "332437a7",
   "metadata": {},
   "outputs": [],
   "source": []
  },
  {
   "cell_type": "code",
   "execution_count": 13,
   "id": "6b3e1480",
   "metadata": {},
   "outputs": [
    {
     "data": {
      "text/plain": [
       "0"
      ]
     },
     "execution_count": 13,
     "metadata": {},
     "output_type": "execute_result"
    }
   ],
   "source": [
    "sql = \"\"\"\n",
    "drop table if exists agency;\n",
    "create table agency(\n",
    "    product_id float primary key,\n",
    "    phone char(13),\n",
    "    address char(20),\n",
    "    agency_nm varchar(50),\n",
    "    deposit float,\n",
    "    rent float\n",
    ")\"\"\"\n",
    "\n",
    "cursor.execute(sql)"
   ]
  },
  {
   "cell_type": "code",
   "execution_count": 14,
   "id": "a470659d",
   "metadata": {
    "scrolled": true
   },
   "outputs": [
    {
     "name": "stdout",
     "output_type": "stream",
     "text": [
      "3467204.0 010-123-4567 서울시 강남구 역삼동 0 TODAY공인중개사(이인규) 1000.0 100.0\n",
      "3150497.0 010-123-4567 서울시 강남구 역삼동 1 TODAY공인중개사(이인규) 11000.0 60.0\n",
      "3440906.0 010-123-4567 서울시 강남구 역삼동 2 열린공인중개사(강광수) 5000.0 65.0\n",
      "3376834.0 010-123-4567 서울시 강남구 역삼동 3 미래공인중개사(김유철) 3000.0 95.0\n",
      "3331511.0 010-123-4567 서울시 강남구 역삼동 4 한백부동산공인중개사(김남조) 110.0 110.0\n",
      "3373198.0 010-123-4567 서울시 강남구 역삼동 5 강남코리아공인중개사(기숙영) 15000.0 70.0\n",
      "3376434.0 010-123-4567 서울시 강남구 역삼동 6 열린공인중개사(강광수) 1000.0 85.0\n",
      "3322860.0 010-123-4567 서울시 강남구 역삼동 7 한강공인중개사(김상헌) 1000.0 80.0\n",
      "3303061.0 010-123-4567 서울시 강남구 역삼동 8 동하공인중개사(임성우) 1000.0 60.0\n",
      "3262172.0 010-123-4567 서울시 강남구 역삼동 9 스타공인중개사(박정직) 2000.0 50.0\n",
      "3228631.0 010-123-4567 서울시 강남구 역삼동 10 HS강남공인중개사(김현수) 1000.0 96.0\n",
      "3505011.0 010-123-4567 서울시 강남구 역삼동 11 H공인중개사(김용만) 15000.0 70.0\n",
      "3249401.0 010-123-4567 서울시 강남구 역삼동 12 도원공인중개사(손석진) 65.0 65.0\n",
      "3330951.0 010-123-4567 서울시 강남구 역삼동 13 강남우리공인중개사(어정화) 2000.0 150.0\n",
      "3494055.0 010-123-4567 서울시 강남구 역삼동 14 청록공인중개사(하순자) 3000.0 60.0\n",
      "3317227.0 010-123-4567 서울시 강남구 역삼동 15 커피한잔공인중개사(손별) 500.0 67.0\n",
      "3405679.0 010-123-4567 서울시 강남구 역삼동 16 강남코리아공인중개사(기숙영) 15000.0 60.0\n",
      "3103384.0 010-123-4567 서울시 강남구 역삼동 17 TODAY공인중개사(이인규) 5000.0 50.0\n",
      "3418616.0 010-123-4567 서울시 강남구 역삼동 18 나무공인중개사(조민영) 90.0 90.0\n",
      "3456814.0 010-123-4567 서울시 강남구 역삼동 19 한강공인중개사(김상헌) 300.0 80.0\n",
      "3181675.0 010-123-4567 서울시 강남구 역삼동 20 TODAY공인중개사(이인규) 5000.0 60.0\n",
      "3309372.0 010-123-4567 서울시 강남구 역삼동 21 한백부동산공인중개사(김남조) 75.0 75.0\n",
      "3501566.0 010-123-4567 서울시 강남구 역삼동 22 강남코리아공인중개사(기숙영) 1000.0 65.0\n",
      "3346510.0 010-123-4567 서울시 강남구 역삼동 23 도원공인중개사(손석진) 65.0 65.0\n",
      "3406670.0 010-123-4567 서울시 강남구 역삼동 24 TODAY공인중개사(이인규) 1000.0 60.0\n",
      "3493254.0 010-123-4567 서울시 강남구 역삼동 25 아셈타운공인중개사(임현옥) 7000.0 100.0\n",
      "3501607.0 010-123-4567 서울시 강남구 역삼동 26 강남코리아공인중개사(기숙영) 2000.0 63.0\n",
      "3484623.0 010-123-4567 서울시 강남구 역삼동 27 웰컴공인중개사(이영진) 1000.0 120.0\n",
      "3190410.0 010-123-4567 서울시 강남구 역삼동 28 건우공인중개사(김상모) 70.0 70.0\n",
      "3350050.0 010-123-4567 서울시 강남구 역삼동 29 NB공인중개사(길주현) 1000.0 70.0\n",
      "3495453.0 010-123-4567 서울시 강남구 역삼동 30 부동산네트워크공인중개사(황창문) 8000.0 55.0\n",
      "3446619.0 010-123-4567 서울시 강남구 역삼동 31 도원공인중개사(손석진) 68.0 68.0\n",
      "3451078.0 010-123-4567 서울시 강남구 역삼동 32 스타공인중개사(박정직) 4000.0 40.0\n",
      "3345445.0 010-123-4567 서울시 강남구 역삼동 33 대청공인중개사(이선영) 14000.0 70.0\n",
      "3332380.0 010-123-4567 서울시 강남구 역삼동 34 한백부동산공인중개사(김남조) 10000.0 100.0\n",
      "3450803.0 010-123-4567 서울시 강남구 역삼동 35 스타공인중개사(박정직) 6000.0 50.0\n",
      "3471049.0 010-123-4567 서울시 강남구 역삼동 36 정성공인중개사(정문식) 100.0 100.0\n",
      "3438747.0 010-123-4567 서울시 강남구 역삼동 37 TODAY공인중개사(이인규) 3000.0 100.0\n",
      "3330749.0 010-123-4567 서울시 강남구 역삼동 38 미래공인중개사(김유철) 1000.0 85.0\n",
      "3446920.0 010-123-4567 서울시 강남구 역삼동 39 한백부동산공인중개사(김남조) 75.0 75.0\n",
      "3501554.0 010-123-4567 서울시 강남구 역삼동 40 강남코리아공인중개사(기숙영) 1000.0 63.0\n",
      "3435418.0 010-123-4567 서울시 강남구 역삼동 41 친절한공인중개사(김천호) 500.0 65.0\n",
      "3501551.0 010-123-4567 서울시 강남구 역삼동 42 강남코리아공인중개사(기숙영) 3000.0 75.0\n"
     ]
    }
   ],
   "source": [
    "for i in range(len(budongsan)):\n",
    "    p_id = budongsan.iloc[i][0]\n",
    "    pho = budongsan.iloc[i][1]\n",
    "    add = budongsan.iloc[i][2]\n",
    "    an = budongsan.iloc[i][3]\n",
    "    de = budongsan.iloc[i][4]\n",
    "    re = budongsan.iloc[i][5]\n",
    "    \n",
    "    print(p_id, pho, add, an, de, re)\n",
    "    sql = \"insert into agency values('{}','{}','{}','{}','{}','{}')\"\n",
    "    sql = sql.format(p_id, pho, add, an, de, re)\n",
    "    \n",
    "    cursor.execute(sql)"
   ]
  },
  {
   "cell_type": "code",
   "execution_count": 16,
   "id": "6de0586c",
   "metadata": {},
   "outputs": [
    {
     "data": {
      "text/html": [
       "<div>\n",
       "<style scoped>\n",
       "    .dataframe tbody tr th:only-of-type {\n",
       "        vertical-align: middle;\n",
       "    }\n",
       "\n",
       "    .dataframe tbody tr th {\n",
       "        vertical-align: top;\n",
       "    }\n",
       "\n",
       "    .dataframe thead th {\n",
       "        text-align: right;\n",
       "    }\n",
       "</style>\n",
       "<table border=\"1\" class=\"dataframe\">\n",
       "  <thead>\n",
       "    <tr style=\"text-align: right;\">\n",
       "      <th></th>\n",
       "      <th>product_id</th>\n",
       "      <th>phone</th>\n",
       "      <th>address</th>\n",
       "      <th>agency_nm</th>\n",
       "      <th>deposit</th>\n",
       "      <th>rent</th>\n",
       "    </tr>\n",
       "  </thead>\n",
       "  <tbody>\n",
       "    <tr>\n",
       "      <th>0</th>\n",
       "      <td>3103380.0</td>\n",
       "      <td>010-123-4567</td>\n",
       "      <td>서울시 강남구 역삼동 17</td>\n",
       "      <td>TODAY공인중개사(이인규)</td>\n",
       "      <td>5000.0</td>\n",
       "      <td>50.0</td>\n",
       "    </tr>\n",
       "    <tr>\n",
       "      <th>1</th>\n",
       "      <td>3150500.0</td>\n",
       "      <td>010-123-4567</td>\n",
       "      <td>서울시 강남구 역삼동 1</td>\n",
       "      <td>TODAY공인중개사(이인규)</td>\n",
       "      <td>11000.0</td>\n",
       "      <td>60.0</td>\n",
       "    </tr>\n",
       "    <tr>\n",
       "      <th>2</th>\n",
       "      <td>3181680.0</td>\n",
       "      <td>010-123-4567</td>\n",
       "      <td>서울시 강남구 역삼동 20</td>\n",
       "      <td>TODAY공인중개사(이인규)</td>\n",
       "      <td>5000.0</td>\n",
       "      <td>60.0</td>\n",
       "    </tr>\n",
       "  </tbody>\n",
       "</table>\n",
       "</div>"
      ],
      "text/plain": [
       "   product_id         phone         address        agency_nm  deposit  rent\n",
       "0   3103380.0  010-123-4567  서울시 강남구 역삼동 17  TODAY공인중개사(이인규)   5000.0  50.0\n",
       "1   3150500.0  010-123-4567   서울시 강남구 역삼동 1  TODAY공인중개사(이인규)  11000.0  60.0\n",
       "2   3181680.0  010-123-4567  서울시 강남구 역삼동 20  TODAY공인중개사(이인규)   5000.0  60.0"
      ]
     },
     "execution_count": 16,
     "metadata": {},
     "output_type": "execute_result"
    }
   ],
   "source": [
    "sql = \"select * from agency;\"\n",
    "\n",
    "pd.read_sql(sql,db).head(3)"
   ]
  },
  {
   "cell_type": "code",
   "execution_count": null,
   "id": "56e4e7ac",
   "metadata": {},
   "outputs": [],
   "source": []
  },
  {
   "cell_type": "code",
   "execution_count": null,
   "id": "fbfad487",
   "metadata": {},
   "outputs": [],
   "source": []
  },
  {
   "cell_type": "code",
   "execution_count": null,
   "id": "c176e25d",
   "metadata": {},
   "outputs": [],
   "source": []
  },
  {
   "cell_type": "code",
   "execution_count": null,
   "id": "a712165f",
   "metadata": {},
   "outputs": [],
   "source": []
  },
  {
   "cell_type": "code",
   "execution_count": null,
   "id": "51a6b38d",
   "metadata": {},
   "outputs": [],
   "source": []
  },
  {
   "cell_type": "code",
   "execution_count": null,
   "id": "e3f082ca",
   "metadata": {},
   "outputs": [],
   "source": []
  },
  {
   "cell_type": "code",
   "execution_count": null,
   "id": "db253bd9",
   "metadata": {},
   "outputs": [],
   "source": []
  },
  {
   "cell_type": "code",
   "execution_count": null,
   "id": "9158931b",
   "metadata": {},
   "outputs": [],
   "source": []
  },
  {
   "cell_type": "code",
   "execution_count": null,
   "id": "e0beffc4",
   "metadata": {},
   "outputs": [],
   "source": []
  },
  {
   "cell_type": "code",
   "execution_count": null,
   "id": "3eaea0bd",
   "metadata": {},
   "outputs": [],
   "source": []
  }
 ],
 "metadata": {
  "kernelspec": {
   "display_name": "Python 3 (ipykernel)",
   "language": "python",
   "name": "python3"
  },
  "language_info": {
   "codemirror_mode": {
    "name": "ipython",
    "version": 3
   },
   "file_extension": ".py",
   "mimetype": "text/x-python",
   "name": "python",
   "nbconvert_exporter": "python",
   "pygments_lexer": "ipython3",
   "version": "3.9.7"
  },
  "varInspector": {
   "cols": {
    "lenName": 16,
    "lenType": 16,
    "lenVar": 40
   },
   "kernels_config": {
    "python": {
     "delete_cmd_postfix": "",
     "delete_cmd_prefix": "del ",
     "library": "var_list.py",
     "varRefreshCmd": "print(var_dic_list())"
    },
    "r": {
     "delete_cmd_postfix": ") ",
     "delete_cmd_prefix": "rm(",
     "library": "var_list.r",
     "varRefreshCmd": "cat(var_dic_list()) "
    }
   },
   "types_to_exclude": [
    "module",
    "function",
    "builtin_function_or_method",
    "instance",
    "_Feature"
   ],
   "window_display": false
  }
 },
 "nbformat": 4,
 "nbformat_minor": 5
}
