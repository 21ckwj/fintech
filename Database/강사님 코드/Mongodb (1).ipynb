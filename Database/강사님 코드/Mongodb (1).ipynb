{
 "cells": [
  {
   "cell_type": "markdown",
   "id": "81c016bb",
   "metadata": {},
   "source": [
    "### RDBMS (관계형 데이터베이스)\n",
    "- sql언어를 사용\n",
    "- 규격이 엄격하고, 다양한 규격이 있으면 매번 수정해주어야 한다..\n",
    "- Mysql, Oracle, Postgresql, SQLIte ...\n",
    "\n",
    "### NoSQL\n",
    "- sql을 사용하지 않음.\n",
    "- 고정된 스키마가 없다..\n",
    "- 정해진 규격이 엄격하지 않다..\n",
    "- Mongodb, redis, Hbase, cassandra...\n",
    "\n",
    "### Mongodb\n",
    "- json구조로 data(document)를 관리\n",
    "- sql : database > table > data(row, column)\n",
    "- mongodb : database > collection > document"
   ]
  },
  {
   "cell_type": "markdown",
   "id": "7a7fc885",
   "metadata": {},
   "source": []
  },
  {
   "cell_type": "code",
   "execution_count": 1,
   "id": "c7847579",
   "metadata": {},
   "outputs": [
    {
     "name": "stdout",
     "output_type": "stream",
     "text": [
      "Collecting pymongo\n",
      "  Downloading pymongo-4.0.1-cp39-cp39-win_amd64.whl (354 kB)\n",
      "     -------------------------------------- 354.8/354.8 KB 1.4 MB/s eta 0:00:00\n",
      "Installing collected packages: pymongo\n",
      "Successfully installed pymongo-4.0.1\n"
     ]
    }
   ],
   "source": [
    "!pip install pymongo"
   ]
  },
  {
   "cell_type": "code",
   "execution_count": 2,
   "id": "1141738a",
   "metadata": {},
   "outputs": [],
   "source": [
    "import pymongo"
   ]
  },
  {
   "cell_type": "code",
   "execution_count": 3,
   "id": "bccea496",
   "metadata": {},
   "outputs": [],
   "source": [
    "conn = pymongo.MongoClient()  # server connection"
   ]
  },
  {
   "cell_type": "code",
   "execution_count": 4,
   "id": "96f9f327",
   "metadata": {},
   "outputs": [],
   "source": [
    "tdb = conn['testdb']  # db를 새로이 생성과 동시에 연결"
   ]
  },
  {
   "cell_type": "code",
   "execution_count": 5,
   "id": "61f3fe27",
   "metadata": {},
   "outputs": [],
   "source": [
    "col_it = tdb['it']  # collection을 새로 생성과 동시에 연결"
   ]
  },
  {
   "cell_type": "code",
   "execution_count": 6,
   "id": "12721c0d",
   "metadata": {},
   "outputs": [
    {
     "ename": "ServerSelectionTimeoutError",
     "evalue": "localhost:27017: [WinError 10061] 대상 컴퓨터에서 연결을 거부했으므로 연결하지 못했습니다, Timeout: 30s, Topology Description: <TopologyDescription id: 6208c13853943a72cc0b5736, topology_type: Unknown, servers: [<ServerDescription ('localhost', 27017) server_type: Unknown, rtt: None, error=AutoReconnect('localhost:27017: [WinError 10061] 대상 컴퓨터에서 연결을 거부했으므로 연결하지 못했습니다')>]>",
     "output_type": "error",
     "traceback": [
      "\u001b[1;31m---------------------------------------------------------------------------\u001b[0m",
      "\u001b[1;31mServerSelectionTimeoutError\u001b[0m               Traceback (most recent call last)",
      "\u001b[1;32m~\\AppData\\Local\\Temp/ipykernel_1152/3143793748.py\u001b[0m in \u001b[0;36m<module>\u001b[1;34m\u001b[0m\n\u001b[0;32m      1\u001b[0m \u001b[0mpost\u001b[0m \u001b[1;33m=\u001b[0m \u001b[1;33m{\u001b[0m\u001b[1;34m'author'\u001b[0m\u001b[1;33m:\u001b[0m\u001b[1;34m'Mike'\u001b[0m\u001b[1;33m,\u001b[0m \u001b[1;34m'text'\u001b[0m\u001b[1;33m:\u001b[0m\u001b[1;34m' my first blog post'\u001b[0m\u001b[1;33m,\u001b[0m \u001b[1;34m'tags'\u001b[0m\u001b[1;33m:\u001b[0m\u001b[1;33m[\u001b[0m\u001b[1;34m'mongodb'\u001b[0m\u001b[1;33m,\u001b[0m\u001b[1;34m'python'\u001b[0m\u001b[1;33m,\u001b[0m\u001b[1;34m'pymongo'\u001b[0m\u001b[1;33m]\u001b[0m\u001b[1;33m}\u001b[0m\u001b[1;33m\u001b[0m\u001b[1;33m\u001b[0m\u001b[0m\n\u001b[1;32m----> 2\u001b[1;33m \u001b[0mcol_it\u001b[0m\u001b[1;33m.\u001b[0m\u001b[0minsert_one\u001b[0m\u001b[1;33m(\u001b[0m\u001b[0mpost\u001b[0m\u001b[1;33m)\u001b[0m\u001b[1;33m\u001b[0m\u001b[1;33m\u001b[0m\u001b[0m\n\u001b[0m",
      "\u001b[1;32m~\\anaconda3\\lib\\site-packages\\pymongo\\collection.py\u001b[0m in \u001b[0;36minsert_one\u001b[1;34m(self, document, bypass_document_validation, session)\u001b[0m\n\u001b[0;32m    522\u001b[0m         \u001b[0mwrite_concern\u001b[0m \u001b[1;33m=\u001b[0m \u001b[0mself\u001b[0m\u001b[1;33m.\u001b[0m\u001b[0m_write_concern_for\u001b[0m\u001b[1;33m(\u001b[0m\u001b[0msession\u001b[0m\u001b[1;33m)\u001b[0m\u001b[1;33m\u001b[0m\u001b[1;33m\u001b[0m\u001b[0m\n\u001b[0;32m    523\u001b[0m         return InsertOneResult(\n\u001b[1;32m--> 524\u001b[1;33m             self._insert_one(\n\u001b[0m\u001b[0;32m    525\u001b[0m                 \u001b[0mdocument\u001b[0m\u001b[1;33m,\u001b[0m \u001b[0mordered\u001b[0m\u001b[1;33m=\u001b[0m\u001b[1;32mTrue\u001b[0m\u001b[1;33m,\u001b[0m \u001b[0mcheck_keys\u001b[0m\u001b[1;33m=\u001b[0m\u001b[1;32mFalse\u001b[0m\u001b[1;33m,\u001b[0m\u001b[1;33m\u001b[0m\u001b[1;33m\u001b[0m\u001b[0m\n\u001b[0;32m    526\u001b[0m                 \u001b[0mwrite_concern\u001b[0m\u001b[1;33m=\u001b[0m\u001b[0mwrite_concern\u001b[0m\u001b[1;33m,\u001b[0m \u001b[0mop_id\u001b[0m\u001b[1;33m=\u001b[0m\u001b[1;32mNone\u001b[0m\u001b[1;33m,\u001b[0m\u001b[1;33m\u001b[0m\u001b[1;33m\u001b[0m\u001b[0m\n",
      "\u001b[1;32m~\\anaconda3\\lib\\site-packages\\pymongo\\collection.py\u001b[0m in \u001b[0;36m_insert_one\u001b[1;34m(self, doc, ordered, check_keys, write_concern, op_id, bypass_doc_val, session)\u001b[0m\n\u001b[0;32m    472\u001b[0m             \u001b[0m_check_write_command_response\u001b[0m\u001b[1;33m(\u001b[0m\u001b[0mresult\u001b[0m\u001b[1;33m)\u001b[0m\u001b[1;33m\u001b[0m\u001b[1;33m\u001b[0m\u001b[0m\n\u001b[0;32m    473\u001b[0m \u001b[1;33m\u001b[0m\u001b[0m\n\u001b[1;32m--> 474\u001b[1;33m         self.__database.client._retryable_write(\n\u001b[0m\u001b[0;32m    475\u001b[0m             acknowledged, _insert_command, session)\n\u001b[0;32m    476\u001b[0m \u001b[1;33m\u001b[0m\u001b[0m\n",
      "\u001b[1;32m~\\anaconda3\\lib\\site-packages\\pymongo\\mongo_client.py\u001b[0m in \u001b[0;36m_retryable_write\u001b[1;34m(self, retryable, func, session)\u001b[0m\n\u001b[0;32m   1337\u001b[0m     \u001b[1;32mdef\u001b[0m \u001b[0m_retryable_write\u001b[0m\u001b[1;33m(\u001b[0m\u001b[0mself\u001b[0m\u001b[1;33m,\u001b[0m \u001b[0mretryable\u001b[0m\u001b[1;33m,\u001b[0m \u001b[0mfunc\u001b[0m\u001b[1;33m,\u001b[0m \u001b[0msession\u001b[0m\u001b[1;33m)\u001b[0m\u001b[1;33m:\u001b[0m\u001b[1;33m\u001b[0m\u001b[1;33m\u001b[0m\u001b[0m\n\u001b[0;32m   1338\u001b[0m         \u001b[1;34m\"\"\"Internal retryable write helper.\"\"\"\u001b[0m\u001b[1;33m\u001b[0m\u001b[1;33m\u001b[0m\u001b[0m\n\u001b[1;32m-> 1339\u001b[1;33m         \u001b[1;32mwith\u001b[0m \u001b[0mself\u001b[0m\u001b[1;33m.\u001b[0m\u001b[0m_tmp_session\u001b[0m\u001b[1;33m(\u001b[0m\u001b[0msession\u001b[0m\u001b[1;33m)\u001b[0m \u001b[1;32mas\u001b[0m \u001b[0ms\u001b[0m\u001b[1;33m:\u001b[0m\u001b[1;33m\u001b[0m\u001b[1;33m\u001b[0m\u001b[0m\n\u001b[0m\u001b[0;32m   1340\u001b[0m             \u001b[1;32mreturn\u001b[0m \u001b[0mself\u001b[0m\u001b[1;33m.\u001b[0m\u001b[0m_retry_with_session\u001b[0m\u001b[1;33m(\u001b[0m\u001b[0mretryable\u001b[0m\u001b[1;33m,\u001b[0m \u001b[0mfunc\u001b[0m\u001b[1;33m,\u001b[0m \u001b[0ms\u001b[0m\u001b[1;33m,\u001b[0m \u001b[1;32mNone\u001b[0m\u001b[1;33m)\u001b[0m\u001b[1;33m\u001b[0m\u001b[1;33m\u001b[0m\u001b[0m\n\u001b[0;32m   1341\u001b[0m \u001b[1;33m\u001b[0m\u001b[0m\n",
      "\u001b[1;32m~\\anaconda3\\lib\\contextlib.py\u001b[0m in \u001b[0;36m__enter__\u001b[1;34m(self)\u001b[0m\n\u001b[0;32m    117\u001b[0m         \u001b[1;32mdel\u001b[0m \u001b[0mself\u001b[0m\u001b[1;33m.\u001b[0m\u001b[0margs\u001b[0m\u001b[1;33m,\u001b[0m \u001b[0mself\u001b[0m\u001b[1;33m.\u001b[0m\u001b[0mkwds\u001b[0m\u001b[1;33m,\u001b[0m \u001b[0mself\u001b[0m\u001b[1;33m.\u001b[0m\u001b[0mfunc\u001b[0m\u001b[1;33m\u001b[0m\u001b[1;33m\u001b[0m\u001b[0m\n\u001b[0;32m    118\u001b[0m         \u001b[1;32mtry\u001b[0m\u001b[1;33m:\u001b[0m\u001b[1;33m\u001b[0m\u001b[1;33m\u001b[0m\u001b[0m\n\u001b[1;32m--> 119\u001b[1;33m             \u001b[1;32mreturn\u001b[0m \u001b[0mnext\u001b[0m\u001b[1;33m(\u001b[0m\u001b[0mself\u001b[0m\u001b[1;33m.\u001b[0m\u001b[0mgen\u001b[0m\u001b[1;33m)\u001b[0m\u001b[1;33m\u001b[0m\u001b[1;33m\u001b[0m\u001b[0m\n\u001b[0m\u001b[0;32m    120\u001b[0m         \u001b[1;32mexcept\u001b[0m \u001b[0mStopIteration\u001b[0m\u001b[1;33m:\u001b[0m\u001b[1;33m\u001b[0m\u001b[1;33m\u001b[0m\u001b[0m\n\u001b[0;32m    121\u001b[0m             \u001b[1;32mraise\u001b[0m \u001b[0mRuntimeError\u001b[0m\u001b[1;33m(\u001b[0m\u001b[1;34m\"generator didn't yield\"\u001b[0m\u001b[1;33m)\u001b[0m \u001b[1;32mfrom\u001b[0m \u001b[1;32mNone\u001b[0m\u001b[1;33m\u001b[0m\u001b[1;33m\u001b[0m\u001b[0m\n",
      "\u001b[1;32m~\\anaconda3\\lib\\site-packages\\pymongo\\mongo_client.py\u001b[0m in \u001b[0;36m_tmp_session\u001b[1;34m(self, session, close)\u001b[0m\n\u001b[0;32m   1614\u001b[0m             \u001b[1;32mreturn\u001b[0m\u001b[1;33m\u001b[0m\u001b[1;33m\u001b[0m\u001b[0m\n\u001b[0;32m   1615\u001b[0m \u001b[1;33m\u001b[0m\u001b[0m\n\u001b[1;32m-> 1616\u001b[1;33m         \u001b[0ms\u001b[0m \u001b[1;33m=\u001b[0m \u001b[0mself\u001b[0m\u001b[1;33m.\u001b[0m\u001b[0m_ensure_session\u001b[0m\u001b[1;33m(\u001b[0m\u001b[0msession\u001b[0m\u001b[1;33m)\u001b[0m\u001b[1;33m\u001b[0m\u001b[1;33m\u001b[0m\u001b[0m\n\u001b[0m\u001b[0;32m   1617\u001b[0m         \u001b[1;32mif\u001b[0m \u001b[0ms\u001b[0m\u001b[1;33m:\u001b[0m\u001b[1;33m\u001b[0m\u001b[1;33m\u001b[0m\u001b[0m\n\u001b[0;32m   1618\u001b[0m             \u001b[1;32mtry\u001b[0m\u001b[1;33m:\u001b[0m\u001b[1;33m\u001b[0m\u001b[1;33m\u001b[0m\u001b[0m\n",
      "\u001b[1;32m~\\anaconda3\\lib\\site-packages\\pymongo\\mongo_client.py\u001b[0m in \u001b[0;36m_ensure_session\u001b[1;34m(self, session)\u001b[0m\n\u001b[0;32m   1601\u001b[0m             \u001b[1;31m# Don't make implicit sessions causally consistent. Applications\u001b[0m\u001b[1;33m\u001b[0m\u001b[1;33m\u001b[0m\u001b[0m\n\u001b[0;32m   1602\u001b[0m             \u001b[1;31m# should always opt-in.\u001b[0m\u001b[1;33m\u001b[0m\u001b[1;33m\u001b[0m\u001b[0m\n\u001b[1;32m-> 1603\u001b[1;33m             \u001b[1;32mreturn\u001b[0m \u001b[0mself\u001b[0m\u001b[1;33m.\u001b[0m\u001b[0m__start_session\u001b[0m\u001b[1;33m(\u001b[0m\u001b[1;32mTrue\u001b[0m\u001b[1;33m,\u001b[0m \u001b[0mcausal_consistency\u001b[0m\u001b[1;33m=\u001b[0m\u001b[1;32mFalse\u001b[0m\u001b[1;33m)\u001b[0m\u001b[1;33m\u001b[0m\u001b[1;33m\u001b[0m\u001b[0m\n\u001b[0m\u001b[0;32m   1604\u001b[0m         \u001b[1;32mexcept\u001b[0m \u001b[1;33m(\u001b[0m\u001b[0mConfigurationError\u001b[0m\u001b[1;33m,\u001b[0m \u001b[0mInvalidOperation\u001b[0m\u001b[1;33m)\u001b[0m\u001b[1;33m:\u001b[0m\u001b[1;33m\u001b[0m\u001b[1;33m\u001b[0m\u001b[0m\n\u001b[0;32m   1605\u001b[0m             \u001b[1;31m# Sessions not supported.\u001b[0m\u001b[1;33m\u001b[0m\u001b[1;33m\u001b[0m\u001b[0m\n",
      "\u001b[1;32m~\\anaconda3\\lib\\site-packages\\pymongo\\mongo_client.py\u001b[0m in \u001b[0;36m__start_session\u001b[1;34m(self, implicit, **kwargs)\u001b[0m\n\u001b[0;32m   1551\u001b[0m     \u001b[1;32mdef\u001b[0m \u001b[0m__start_session\u001b[0m\u001b[1;33m(\u001b[0m\u001b[0mself\u001b[0m\u001b[1;33m,\u001b[0m \u001b[0mimplicit\u001b[0m\u001b[1;33m,\u001b[0m \u001b[1;33m**\u001b[0m\u001b[0mkwargs\u001b[0m\u001b[1;33m)\u001b[0m\u001b[1;33m:\u001b[0m\u001b[1;33m\u001b[0m\u001b[1;33m\u001b[0m\u001b[0m\n\u001b[0;32m   1552\u001b[0m         \u001b[1;31m# Raises ConfigurationError if sessions are not supported.\u001b[0m\u001b[1;33m\u001b[0m\u001b[1;33m\u001b[0m\u001b[0m\n\u001b[1;32m-> 1553\u001b[1;33m         \u001b[0mserver_session\u001b[0m \u001b[1;33m=\u001b[0m \u001b[0mself\u001b[0m\u001b[1;33m.\u001b[0m\u001b[0m_get_server_session\u001b[0m\u001b[1;33m(\u001b[0m\u001b[1;33m)\u001b[0m\u001b[1;33m\u001b[0m\u001b[1;33m\u001b[0m\u001b[0m\n\u001b[0m\u001b[0;32m   1554\u001b[0m         \u001b[0mopts\u001b[0m \u001b[1;33m=\u001b[0m \u001b[0mclient_session\u001b[0m\u001b[1;33m.\u001b[0m\u001b[0mSessionOptions\u001b[0m\u001b[1;33m(\u001b[0m\u001b[1;33m**\u001b[0m\u001b[0mkwargs\u001b[0m\u001b[1;33m)\u001b[0m\u001b[1;33m\u001b[0m\u001b[1;33m\u001b[0m\u001b[0m\n\u001b[0;32m   1555\u001b[0m         return client_session.ClientSession(\n",
      "\u001b[1;32m~\\anaconda3\\lib\\site-packages\\pymongo\\mongo_client.py\u001b[0m in \u001b[0;36m_get_server_session\u001b[1;34m(self)\u001b[0m\n\u001b[0;32m   1587\u001b[0m     \u001b[1;32mdef\u001b[0m \u001b[0m_get_server_session\u001b[0m\u001b[1;33m(\u001b[0m\u001b[0mself\u001b[0m\u001b[1;33m)\u001b[0m\u001b[1;33m:\u001b[0m\u001b[1;33m\u001b[0m\u001b[1;33m\u001b[0m\u001b[0m\n\u001b[0;32m   1588\u001b[0m         \u001b[1;34m\"\"\"Internal: start or resume a _ServerSession.\"\"\"\u001b[0m\u001b[1;33m\u001b[0m\u001b[1;33m\u001b[0m\u001b[0m\n\u001b[1;32m-> 1589\u001b[1;33m         \u001b[1;32mreturn\u001b[0m \u001b[0mself\u001b[0m\u001b[1;33m.\u001b[0m\u001b[0m_topology\u001b[0m\u001b[1;33m.\u001b[0m\u001b[0mget_server_session\u001b[0m\u001b[1;33m(\u001b[0m\u001b[1;33m)\u001b[0m\u001b[1;33m\u001b[0m\u001b[1;33m\u001b[0m\u001b[0m\n\u001b[0m\u001b[0;32m   1590\u001b[0m \u001b[1;33m\u001b[0m\u001b[0m\n\u001b[0;32m   1591\u001b[0m     \u001b[1;32mdef\u001b[0m \u001b[0m_return_server_session\u001b[0m\u001b[1;33m(\u001b[0m\u001b[0mself\u001b[0m\u001b[1;33m,\u001b[0m \u001b[0mserver_session\u001b[0m\u001b[1;33m,\u001b[0m \u001b[0mlock\u001b[0m\u001b[1;33m)\u001b[0m\u001b[1;33m:\u001b[0m\u001b[1;33m\u001b[0m\u001b[1;33m\u001b[0m\u001b[0m\n",
      "\u001b[1;32m~\\anaconda3\\lib\\site-packages\\pymongo\\topology.py\u001b[0m in \u001b[0;36mget_server_session\u001b[1;34m(self)\u001b[0m\n\u001b[0;32m    528\u001b[0m             \u001b[1;31m# Sessions are always supported in load balanced mode.\u001b[0m\u001b[1;33m\u001b[0m\u001b[1;33m\u001b[0m\u001b[0m\n\u001b[0;32m    529\u001b[0m             \u001b[1;32mif\u001b[0m \u001b[1;32mnot\u001b[0m \u001b[0mself\u001b[0m\u001b[1;33m.\u001b[0m\u001b[0m_settings\u001b[0m\u001b[1;33m.\u001b[0m\u001b[0mload_balanced\u001b[0m\u001b[1;33m:\u001b[0m\u001b[1;33m\u001b[0m\u001b[1;33m\u001b[0m\u001b[0m\n\u001b[1;32m--> 530\u001b[1;33m                 \u001b[0msession_timeout\u001b[0m \u001b[1;33m=\u001b[0m \u001b[0mself\u001b[0m\u001b[1;33m.\u001b[0m\u001b[0m_check_session_support\u001b[0m\u001b[1;33m(\u001b[0m\u001b[1;33m)\u001b[0m\u001b[1;33m\u001b[0m\u001b[1;33m\u001b[0m\u001b[0m\n\u001b[0m\u001b[0;32m    531\u001b[0m             \u001b[1;32melse\u001b[0m\u001b[1;33m:\u001b[0m\u001b[1;33m\u001b[0m\u001b[1;33m\u001b[0m\u001b[0m\n\u001b[0;32m    532\u001b[0m                 \u001b[1;31m# Sessions never time out in load balanced mode.\u001b[0m\u001b[1;33m\u001b[0m\u001b[1;33m\u001b[0m\u001b[0m\n",
      "\u001b[1;32m~\\anaconda3\\lib\\site-packages\\pymongo\\topology.py\u001b[0m in \u001b[0;36m_check_session_support\u001b[1;34m(self)\u001b[0m\n\u001b[0;32m    512\u001b[0m                         None)\n\u001b[0;32m    513\u001b[0m             \u001b[1;32melif\u001b[0m \u001b[1;32mnot\u001b[0m \u001b[0mself\u001b[0m\u001b[1;33m.\u001b[0m\u001b[0m_description\u001b[0m\u001b[1;33m.\u001b[0m\u001b[0mreadable_servers\u001b[0m\u001b[1;33m:\u001b[0m\u001b[1;33m\u001b[0m\u001b[1;33m\u001b[0m\u001b[0m\n\u001b[1;32m--> 514\u001b[1;33m                 self._select_servers_loop(\n\u001b[0m\u001b[0;32m    515\u001b[0m                     \u001b[0mreadable_server_selector\u001b[0m\u001b[1;33m,\u001b[0m\u001b[1;33m\u001b[0m\u001b[1;33m\u001b[0m\u001b[0m\n\u001b[0;32m    516\u001b[0m                     \u001b[0mself\u001b[0m\u001b[1;33m.\u001b[0m\u001b[0m_settings\u001b[0m\u001b[1;33m.\u001b[0m\u001b[0mserver_selection_timeout\u001b[0m\u001b[1;33m,\u001b[0m\u001b[1;33m\u001b[0m\u001b[1;33m\u001b[0m\u001b[0m\n",
      "\u001b[1;32m~\\anaconda3\\lib\\site-packages\\pymongo\\topology.py\u001b[0m in \u001b[0;36m_select_servers_loop\u001b[1;34m(self, selector, timeout, address)\u001b[0m\n\u001b[0;32m    214\u001b[0m             \u001b[1;31m# No suitable servers.\u001b[0m\u001b[1;33m\u001b[0m\u001b[1;33m\u001b[0m\u001b[0m\n\u001b[0;32m    215\u001b[0m             \u001b[1;32mif\u001b[0m \u001b[0mtimeout\u001b[0m \u001b[1;33m==\u001b[0m \u001b[1;36m0\u001b[0m \u001b[1;32mor\u001b[0m \u001b[0mnow\u001b[0m \u001b[1;33m>\u001b[0m \u001b[0mend_time\u001b[0m\u001b[1;33m:\u001b[0m\u001b[1;33m\u001b[0m\u001b[1;33m\u001b[0m\u001b[0m\n\u001b[1;32m--> 216\u001b[1;33m                 raise ServerSelectionTimeoutError(\n\u001b[0m\u001b[0;32m    217\u001b[0m                     \u001b[1;34m\"%s, Timeout: %ss, Topology Description: %r\"\u001b[0m \u001b[1;33m%\u001b[0m\u001b[1;33m\u001b[0m\u001b[1;33m\u001b[0m\u001b[0m\n\u001b[0;32m    218\u001b[0m                     (self._error_message(selector), timeout, self.description))\n",
      "\u001b[1;31mServerSelectionTimeoutError\u001b[0m: localhost:27017: [WinError 10061] 대상 컴퓨터에서 연결을 거부했으므로 연결하지 못했습니다, Timeout: 30s, Topology Description: <TopologyDescription id: 6208c13853943a72cc0b5736, topology_type: Unknown, servers: [<ServerDescription ('localhost', 27017) server_type: Unknown, rtt: None, error=AutoReconnect('localhost:27017: [WinError 10061] 대상 컴퓨터에서 연결을 거부했으므로 연결하지 못했습니다')>]>"
     ]
    }
   ],
   "source": [
    "post = {'author':'Mike', 'text':' my first blog post', 'tags':['mongodb','python','pymongo']}\n",
    "col_it.insert_one(post)"
   ]
  },
  {
   "cell_type": "code",
   "execution_count": null,
   "id": "2d1db34a",
   "metadata": {},
   "outputs": [],
   "source": [
    "results = col_it.find()\n",
    "for r in results:\n",
    "    print(r)"
   ]
  },
  {
   "cell_type": "code",
   "execution_count": null,
   "id": "19f126b5",
   "metadata": {},
   "outputs": [],
   "source": [
    "col_it.insert_one({'author':'Dave Lee', 'age':45})"
   ]
  },
  {
   "cell_type": "code",
   "execution_count": null,
   "id": "78be0f9d",
   "metadata": {},
   "outputs": [],
   "source": [
    "results = col_it.find()\n",
    "for r in results:\n",
    "    print(r)"
   ]
  },
  {
   "cell_type": "code",
   "execution_count": null,
   "id": "54fc1117",
   "metadata": {},
   "outputs": [],
   "source": []
  },
  {
   "cell_type": "markdown",
   "id": "7d1d76dd",
   "metadata": {},
   "source": [
    "* insert_many()"
   ]
  },
  {
   "cell_type": "code",
   "execution_count": null,
   "id": "8faeddca",
   "metadata": {},
   "outputs": [],
   "source": [
    "col_it.insert_many(\n",
    "    [\n",
    "        {'author':'Dave Ahn', 'age':25},\n",
    "        {'author':'Dave', 'age':35}\n",
    "    ]\n",
    ")"
   ]
  },
  {
   "cell_type": "code",
   "execution_count": null,
   "id": "8f8bed74",
   "metadata": {},
   "outputs": [],
   "source": [
    "results = col_it.find()\n",
    "for r in results:\n",
    "    print(r)"
   ]
  },
  {
   "cell_type": "code",
   "execution_count": null,
   "id": "b2becb80",
   "metadata": {},
   "outputs": [],
   "source": []
  },
  {
   "cell_type": "markdown",
   "id": "1b5c7d29",
   "metadata": {},
   "source": [
    "* document insert하면서, _id(primary key)를 확인하는 법"
   ]
  },
  {
   "cell_type": "code",
   "execution_count": null,
   "id": "b418dc76",
   "metadata": {},
   "outputs": [],
   "source": [
    "post = {'author':'Dave', 'text':'my first blog post'}\n",
    "\n",
    "post_id = col_it.insert_one(post)\n",
    "post_id"
   ]
  },
  {
   "cell_type": "code",
   "execution_count": null,
   "id": "fbf1828c",
   "metadata": {},
   "outputs": [],
   "source": [
    "post_id.inserted_id"
   ]
  },
  {
   "cell_type": "code",
   "execution_count": null,
   "id": "26aa109c",
   "metadata": {},
   "outputs": [],
   "source": []
  },
  {
   "cell_type": "markdown",
   "id": "a1efdce2",
   "metadata": {},
   "source": [
    "* document count"
   ]
  },
  {
   "cell_type": "code",
   "execution_count": null,
   "id": "1757cf1d",
   "metadata": {},
   "outputs": [],
   "source": [
    "col_it.count_documents({})"
   ]
  },
  {
   "cell_type": "code",
   "execution_count": null,
   "id": "e4fe2e5d",
   "metadata": {},
   "outputs": [],
   "source": [
    "# col_it.count()"
   ]
  },
  {
   "cell_type": "code",
   "execution_count": null,
   "id": "c75f5ba0",
   "metadata": {},
   "outputs": [],
   "source": []
  },
  {
   "cell_type": "markdown",
   "id": "337a7122",
   "metadata": {},
   "source": [
    "* 입력 : {}, 리스트, 중첩 딕셔너리 "
   ]
  },
  {
   "cell_type": "code",
   "execution_count": null,
   "id": "6b3b0542",
   "metadata": {},
   "outputs": [],
   "source": [
    "col_it.insert_one({'title':'암살', 'castings':['이정재','전지현','하정우']})"
   ]
  },
  {
   "cell_type": "code",
   "execution_count": null,
   "id": "ccb74738",
   "metadata": {},
   "outputs": [],
   "source": [
    "col_it.insert_one(\n",
    "    {\n",
    "        'title':'실미도',\n",
    "        'castings':['설경구','안성기'],\n",
    "        'datetime':\n",
    "        {\n",
    "            'year':'2003',\n",
    "            'month': 3,\n",
    "            'val':\n",
    "            {\n",
    "                'a':\n",
    "                {\n",
    "                    'b':1\n",
    "                }\n",
    "            }\n",
    "        }\n",
    "    }\n",
    ")"
   ]
  },
  {
   "cell_type": "code",
   "execution_count": null,
   "id": "05230805",
   "metadata": {},
   "outputs": [],
   "source": [
    "data = list()\n",
    "data.append({'name':'aaron', 'age':20})\n",
    "data.append({'name':'bob', 'age':30})\n",
    "data.append({'name':'cathy', 'age':25})\n",
    "data.append({'name':'david', 'age':27})\n",
    "data.append({'name':'erick', 'age':28})\n",
    "data.append({'name':'fox', 'age':32})\n",
    "data.append({'name':'hmm'})\n",
    "\n",
    "col_it.insert_many(data)"
   ]
  },
  {
   "cell_type": "code",
   "execution_count": null,
   "id": "7e672b66",
   "metadata": {},
   "outputs": [],
   "source": [
    "col_it.count_documents({})"
   ]
  },
  {
   "cell_type": "code",
   "execution_count": null,
   "id": "73331d51",
   "metadata": {},
   "outputs": [],
   "source": []
  },
  {
   "cell_type": "markdown",
   "id": "da267e46",
   "metadata": {},
   "source": [
    "### document 검색하기"
   ]
  },
  {
   "cell_type": "markdown",
   "id": "08e02964",
   "metadata": {},
   "source": [
    "* find_one( {key:value} )"
   ]
  },
  {
   "cell_type": "code",
   "execution_count": null,
   "id": "bae25bcb",
   "metadata": {},
   "outputs": [],
   "source": [
    "col_it.find_one()"
   ]
  },
  {
   "cell_type": "code",
   "execution_count": null,
   "id": "43ff0a49",
   "metadata": {},
   "outputs": [],
   "source": [
    "results = col_it.find()\n",
    "for r in results:\n",
    "    print(r)"
   ]
  },
  {
   "cell_type": "code",
   "execution_count": null,
   "id": "6d5314f4",
   "metadata": {},
   "outputs": [],
   "source": [
    "col_it.find_one({'author':'Dave'})"
   ]
  },
  {
   "cell_type": "code",
   "execution_count": null,
   "id": "d15ca65e",
   "metadata": {},
   "outputs": [],
   "source": [
    "results = col_it.find({'author':'Dave'})\n",
    "\n",
    "for r in results:\n",
    "    print(r)"
   ]
  },
  {
   "cell_type": "code",
   "execution_count": null,
   "id": "d1607460",
   "metadata": {},
   "outputs": [],
   "source": [
    "col_it.count_documents({'author':'Dave'})"
   ]
  },
  {
   "cell_type": "code",
   "execution_count": null,
   "id": "7d666580",
   "metadata": {},
   "outputs": [],
   "source": []
  },
  {
   "cell_type": "code",
   "execution_count": null,
   "id": "2520d53a",
   "metadata": {},
   "outputs": [],
   "source": [
    "for r in col_it.find().sort('age'):\n",
    "    print(r)"
   ]
  },
  {
   "cell_type": "code",
   "execution_count": null,
   "id": "f684f20f",
   "metadata": {},
   "outputs": [],
   "source": []
  },
  {
   "cell_type": "markdown",
   "id": "b499fc88",
   "metadata": {},
   "source": [
    "##### document update : update_one(), update_many()"
   ]
  },
  {
   "cell_type": "code",
   "execution_count": null,
   "id": "01d6c6f8",
   "metadata": {},
   "outputs": [],
   "source": [
    "col_it.find_one({'author':'Dave'})"
   ]
  },
  {
   "cell_type": "code",
   "execution_count": null,
   "id": "b42fcd94",
   "metadata": {},
   "outputs": [],
   "source": [
    "col_it.update_one({\"author\":'Dave'}, \n",
    "                 {\"$set\": {'text':'Hi Dave'}})"
   ]
  },
  {
   "cell_type": "code",
   "execution_count": null,
   "id": "ea291813",
   "metadata": {},
   "outputs": [],
   "source": [
    "for d in col_it.find({'author':'Dave'}):\n",
    "    print(d)"
   ]
  },
  {
   "cell_type": "code",
   "execution_count": null,
   "id": "caec138a",
   "metadata": {},
   "outputs": [],
   "source": []
  },
  {
   "cell_type": "code",
   "execution_count": null,
   "id": "ed6654c8",
   "metadata": {},
   "outputs": [],
   "source": [
    "col_it.update_one({\"author\":'Dave'}, \n",
    "                 {\"$set\": {'age':40}})"
   ]
  },
  {
   "cell_type": "code",
   "execution_count": null,
   "id": "d5c08ebc",
   "metadata": {},
   "outputs": [],
   "source": [
    "for d in col_it.find({'author':'Dave'}):\n",
    "    print(d)"
   ]
  },
  {
   "cell_type": "code",
   "execution_count": null,
   "id": "57555676",
   "metadata": {},
   "outputs": [],
   "source": []
  },
  {
   "cell_type": "code",
   "execution_count": null,
   "id": "006069c1",
   "metadata": {},
   "outputs": [],
   "source": [
    "col_it.update_many({'author':'Dave'},\n",
    "                  {\"$set\": {'text':'hi dave'}})"
   ]
  },
  {
   "cell_type": "code",
   "execution_count": null,
   "id": "fe1fe482",
   "metadata": {},
   "outputs": [],
   "source": [
    "for d in col_it.find({'author':'Dave'}):\n",
    "    print(d)"
   ]
  },
  {
   "cell_type": "code",
   "execution_count": null,
   "id": "f79286b2",
   "metadata": {},
   "outputs": [],
   "source": []
  },
  {
   "cell_type": "markdown",
   "id": "11b66b08",
   "metadata": {},
   "source": [
    "##### document delete : delete_one(), delete_many()"
   ]
  },
  {
   "cell_type": "code",
   "execution_count": null,
   "id": "03309f43",
   "metadata": {},
   "outputs": [],
   "source": [
    "for d in col_it.find({'author':'Dave Lee'}):\n",
    "    print(d)"
   ]
  },
  {
   "cell_type": "code",
   "execution_count": null,
   "id": "7a4f449d",
   "metadata": {},
   "outputs": [],
   "source": [
    "col_it.delete_one({'author':'Dave Lee'})"
   ]
  },
  {
   "cell_type": "code",
   "execution_count": null,
   "id": "fc3592e3",
   "metadata": {},
   "outputs": [],
   "source": [
    "for d in col_it.find({'author':'Dave Lee'}):\n",
    "    print(d)"
   ]
  },
  {
   "cell_type": "code",
   "execution_count": null,
   "id": "15c79428",
   "metadata": {},
   "outputs": [],
   "source": []
  },
  {
   "cell_type": "code",
   "execution_count": null,
   "id": "17680f76",
   "metadata": {},
   "outputs": [],
   "source": [
    "for d in col_it.find({'author':'Dave'}):\n",
    "    print(d)"
   ]
  },
  {
   "cell_type": "code",
   "execution_count": null,
   "id": "7409553b",
   "metadata": {},
   "outputs": [],
   "source": [
    "col_it.delete_many({'author':'Dave'})"
   ]
  },
  {
   "cell_type": "code",
   "execution_count": null,
   "id": "6de84b10",
   "metadata": {},
   "outputs": [],
   "source": [
    "for d in col_it.find({'author':'Dave'}):\n",
    "    print(d)"
   ]
  },
  {
   "cell_type": "code",
   "execution_count": null,
   "id": "9779ca88",
   "metadata": {},
   "outputs": [],
   "source": []
  },
  {
   "cell_type": "code",
   "execution_count": null,
   "id": "3ef689d4",
   "metadata": {},
   "outputs": [],
   "source": [
    "boos = conn.books # 새로운 database"
   ]
  },
  {
   "cell_type": "code",
   "execution_count": null,
   "id": "5bf46c14",
   "metadata": {},
   "outputs": [],
   "source": [
    "it_book = boos.it_books  # 새로운 collections"
   ]
  },
  {
   "cell_type": "code",
   "execution_count": null,
   "id": "3d39be34",
   "metadata": {},
   "outputs": [],
   "source": [
    "data = list()\n",
    "for index in range(100):\n",
    "    data.append({'author':'Dave Lee', 'publisher':'bit_company', 'number': index})"
   ]
  },
  {
   "cell_type": "code",
   "execution_count": null,
   "id": "7fe145a6",
   "metadata": {},
   "outputs": [],
   "source": [
    "data"
   ]
  },
  {
   "cell_type": "code",
   "execution_count": null,
   "id": "ec340746",
   "metadata": {},
   "outputs": [],
   "source": [
    "it_book.insert_many(data)"
   ]
  },
  {
   "cell_type": "code",
   "execution_count": null,
   "id": "04a16868",
   "metadata": {},
   "outputs": [],
   "source": [
    "docs = it_book.find()\n",
    "for doc in docs:\n",
    "    print(doc)"
   ]
  },
  {
   "cell_type": "code",
   "execution_count": null,
   "id": "2b0ed06a",
   "metadata": {},
   "outputs": [],
   "source": []
  },
  {
   "cell_type": "code",
   "execution_count": null,
   "id": "99f2e761",
   "metadata": {},
   "outputs": [],
   "source": [
    "it_book.update_many({}, {'$set': {'publisher':'bit_camp_pub'}})"
   ]
  },
  {
   "cell_type": "code",
   "execution_count": null,
   "id": "e3045905",
   "metadata": {},
   "outputs": [],
   "source": [
    "docs = it_book.find()\n",
    "for doc in docs:\n",
    "    print(doc)"
   ]
  },
  {
   "cell_type": "code",
   "execution_count": null,
   "id": "e3964cc1",
   "metadata": {},
   "outputs": [],
   "source": []
  },
  {
   "cell_type": "code",
   "execution_count": null,
   "id": "4be3ad0e",
   "metadata": {},
   "outputs": [],
   "source": [
    "it_book.delete_many({'number': {'$gte': 6}})"
   ]
  },
  {
   "cell_type": "code",
   "execution_count": null,
   "id": "4cb81837",
   "metadata": {},
   "outputs": [],
   "source": [
    "docs = it_book.find()\n",
    "for doc in docs:\n",
    "    print(doc)"
   ]
  },
  {
   "cell_type": "code",
   "execution_count": null,
   "id": "6e904fd6",
   "metadata": {},
   "outputs": [],
   "source": []
  },
  {
   "cell_type": "code",
   "execution_count": null,
   "id": "82c7306e",
   "metadata": {},
   "outputs": [],
   "source": [
    "# crawling - cine21"
   ]
  },
  {
   "cell_type": "code",
   "execution_count": null,
   "id": "3cebc71c",
   "metadata": {},
   "outputs": [],
   "source": [
    "import requests\n",
    "from bs4 import BeautifulSoup"
   ]
  },
  {
   "cell_type": "code",
   "execution_count": null,
   "id": "b643cb6c",
   "metadata": {},
   "outputs": [],
   "source": [
    "url = 'http://www.cine21.com/rank/person'"
   ]
  },
  {
   "cell_type": "code",
   "execution_count": null,
   "id": "ff804054",
   "metadata": {},
   "outputs": [],
   "source": [
    "res = requests.get(url)\n",
    "soup = BeautifulSoup(res.text, 'html.parser')\n",
    "soup"
   ]
  },
  {
   "cell_type": "code",
   "execution_count": null,
   "id": "eb68415b",
   "metadata": {},
   "outputs": [],
   "source": [
    "soup.select('div#rank_holder')"
   ]
  },
  {
   "cell_type": "code",
   "execution_count": null,
   "id": "0b6903a6",
   "metadata": {},
   "outputs": [],
   "source": []
  },
  {
   "cell_type": "markdown",
   "id": "667673e9",
   "metadata": {},
   "source": [
    "##### post crawling"
   ]
  },
  {
   "cell_type": "code",
   "execution_count": null,
   "id": "b9557a45",
   "metadata": {},
   "outputs": [],
   "source": [
    "import re"
   ]
  },
  {
   "cell_type": "code",
   "execution_count": null,
   "id": "6883658b",
   "metadata": {},
   "outputs": [],
   "source": [
    "url ='http://www.cine21.com/rank/person/content'"
   ]
  },
  {
   "cell_type": "code",
   "execution_count": null,
   "id": "3835fe32",
   "metadata": {},
   "outputs": [],
   "source": [
    "month = '2022-01'\n",
    "\n",
    "data = {'section': 'actor',\n",
    "'period_start': month,\n",
    "'gender': 'all',\n",
    "'page': 1}"
   ]
  },
  {
   "cell_type": "code",
   "execution_count": null,
   "id": "a3e0c70e",
   "metadata": {},
   "outputs": [],
   "source": [
    "res = requests.post(url, data = data)\n",
    "main_soup = BeautifulSoup(res.text, 'html.parser')\n",
    "main_soup"
   ]
  },
  {
   "cell_type": "code",
   "execution_count": null,
   "id": "6b4e6359",
   "metadata": {},
   "outputs": [],
   "source": [
    "tags = soup.select('li.people_li > div.name')\n",
    "len(tags)"
   ]
  },
  {
   "cell_type": "code",
   "execution_count": null,
   "id": "46c0cf60",
   "metadata": {},
   "outputs": [],
   "source": [
    "main_url = 'http://www.cine21.com'\n",
    "\n",
    "for t in tags:\n",
    "    print(main_url + t.select('a')[0]['href'])\n",
    "    print(re.sub(\"\\(\\w+\\)\", \"\", t.text))"
   ]
  },
  {
   "cell_type": "code",
   "execution_count": null,
   "id": "d4cdcd2d",
   "metadata": {},
   "outputs": [],
   "source": [
    "actor_url = 'http://www.cine21.com/db/person/info/?person_id=78487'"
   ]
  },
  {
   "cell_type": "code",
   "execution_count": null,
   "id": "aa42c8c4",
   "metadata": {},
   "outputs": [],
   "source": [
    "res = requests.get(actor_url)\n",
    "soup = BeautifulSoup(res.text, 'html.parser')\n",
    "actor_datas = soup.select('ul.default_info')\n",
    "actor_datas"
   ]
  },
  {
   "cell_type": "code",
   "execution_count": null,
   "id": "08ed630e",
   "metadata": {},
   "outputs": [],
   "source": [
    "actor_datas[0].select('li')\n",
    "    "
   ]
  },
  {
   "cell_type": "code",
   "execution_count": null,
   "id": "eef30290",
   "metadata": {},
   "outputs": [],
   "source": [
    "actor_info_dict = dict()\n",
    "\n",
    "for li in actor_datas[0].select('li'):\n",
    "    \n",
    "    key = li.select_one('span.tit').text\n",
    "    \n",
    "    li = re.sub(\"<span.*?>.*?</span>\", '', str(li))\n",
    "    value = re.sub(\"<.+?>\", \"\", li)   \n",
    "    \n",
    "    actor_info_dict[key] = value.strip()\n",
    "    \n",
    "actor_info_dict"
   ]
  },
  {
   "cell_type": "code",
   "execution_count": null,
   "id": "8b4fae12",
   "metadata": {},
   "outputs": [],
   "source": []
  },
  {
   "cell_type": "code",
   "execution_count": null,
   "id": "95e9260f",
   "metadata": {},
   "outputs": [],
   "source": [
    "##### 흥행지수 뽑기"
   ]
  },
  {
   "cell_type": "code",
   "execution_count": null,
   "id": "77901801",
   "metadata": {},
   "outputs": [],
   "source": [
    "for s in main_soup.select('li.people_li ul.num_info strong'):\n",
    "    print(int(s.text.replace(',','')))"
   ]
  },
  {
   "cell_type": "code",
   "execution_count": null,
   "id": "eda5057b",
   "metadata": {},
   "outputs": [],
   "source": []
  },
  {
   "cell_type": "code",
   "execution_count": null,
   "id": "14ea7ff2",
   "metadata": {},
   "outputs": [],
   "source": [
    "##### 영화 리스트 뽑기"
   ]
  },
  {
   "cell_type": "code",
   "execution_count": null,
   "id": "11efa988",
   "metadata": {},
   "outputs": [],
   "source": [
    "movie_list = []\n",
    "for s in main_soup.select('li.people_li ul.mov_list'):\n",
    "    actor_movie = []\n",
    "    for l in s.select('span'):\n",
    "        actor_movie.append(l.text.strip())\n",
    "    movie_list.append(actor_movie)"
   ]
  },
  {
   "cell_type": "code",
   "execution_count": null,
   "id": "0e213d35",
   "metadata": {},
   "outputs": [],
   "source": [
    "movie_list"
   ]
  },
  {
   "cell_type": "code",
   "execution_count": null,
   "id": "4c63b6b0",
   "metadata": {},
   "outputs": [],
   "source": []
  },
  {
   "cell_type": "code",
   "execution_count": null,
   "id": "179f35da",
   "metadata": {},
   "outputs": [],
   "source": [
    "from bs4 import BeautifulSoup\n",
    "import requests\n",
    "import pymongo\n",
    "import re\n",
    "\n",
    "conn = pymongo.MongoClient()\n",
    "actor_db = conn.cine21\n",
    "actor_collection = actor_db.actor_collection"
   ]
  },
  {
   "cell_type": "code",
   "execution_count": null,
   "id": "8618dbcf",
   "metadata": {},
   "outputs": [],
   "source": [
    "docs = actor_collection.find()\n",
    "for doc in docs:\n",
    "    print(doc)"
   ]
  },
  {
   "cell_type": "code",
   "execution_count": null,
   "id": "e30be97e",
   "metadata": {},
   "outputs": [],
   "source": [
    "# actor_collection.delete_many({})"
   ]
  },
  {
   "cell_type": "code",
   "execution_count": null,
   "id": "8e8e05d3",
   "metadata": {},
   "outputs": [],
   "source": [
    "actors_info_list = list()\n",
    "\n",
    "cine21_url = 'http://www.cine21.com/rank/person/content'\n",
    "\n",
    "post_data = dict()\n",
    "\n",
    "post_data['section'] = 'actor'\n",
    "post_data['period_start'] = '2018-08'\n",
    "post_data['gender'] = 'all'\n",
    "\n",
    "for index in range(1, 21):\n",
    "    post_data['page'] = index\n",
    "\n",
    "    res = requests.post(cine21_url, data=post_data)\n",
    "    soup = BeautifulSoup(res.content, 'html.parser')\n",
    "\n",
    "    actors = soup.select('li.people_li div.name')\n",
    "    hits = soup.select('ul.num_info > li > strong')\n",
    "    movies = soup.select('ul.mov_list')\n",
    "    rankings = soup.select('li.people_li > span.grade')\n",
    "    \n",
    "    for index, actor in enumerate(actors):\n",
    "        \n",
    "        actor_name = re.sub('\\(\\w*\\)', '', actor.text)\n",
    "        actor_hits = int(hits[index].text.replace(',', ''))\n",
    "        movie_titles = movies[index].select('li a span')\n",
    "        movie_title_list = list()\n",
    "        for movie_title in movie_titles:\n",
    "            movie_title_list.append(movie_title.text)\n",
    "            \n",
    "        actor_info_dict = dict()\n",
    "        actor_info_dict['배우이름'] = actor_name\n",
    "        actor_info_dict['흥행지수'] = actor_hits\n",
    "        actor_info_dict['출연영화'] = movie_title_list\n",
    "        actor_info_dict['랭킹'] = rankings[index].text\n",
    "\n",
    "        actor_link = 'http://www.cine21.com' + actor.select_one('a').attrs['href']\n",
    "        response_actor = requests.get(actor_link)\n",
    "        soup_actor = BeautifulSoup(response_actor.content, 'html.parser')\n",
    "        \n",
    "        default_info = soup_actor.select_one('ul.default_info')\n",
    "        actor_details = default_info.select('li')\n",
    "\n",
    "        for actor_item in actor_details:\n",
    "            actor_item_field = actor_item.select_one('span.tit').text\n",
    "            actor_item_value = re.sub('<span.*?>.*?</span>', '', str(actor_item))\n",
    "            actor_item_value = re.sub('<.*?>', '', actor_item_value)\n",
    "            actor_info_dict[actor_item_field] = actor_item_value\n",
    "            \n",
    "        actors_info_list.append(actor_info_dict)"
   ]
  },
  {
   "cell_type": "code",
   "execution_count": null,
   "id": "05be711e",
   "metadata": {},
   "outputs": [],
   "source": []
  },
  {
   "cell_type": "code",
   "execution_count": null,
   "id": "e5eea1bb",
   "metadata": {},
   "outputs": [],
   "source": [
    "actors_info_list"
   ]
  },
  {
   "cell_type": "code",
   "execution_count": null,
   "id": "96c248ba",
   "metadata": {},
   "outputs": [],
   "source": []
  },
  {
   "cell_type": "code",
   "execution_count": null,
   "id": "8abebc61",
   "metadata": {},
   "outputs": [],
   "source": [
    "actor_collection.insert_many(actors_info_list)"
   ]
  },
  {
   "cell_type": "code",
   "execution_count": null,
   "id": "0de165b9",
   "metadata": {},
   "outputs": [],
   "source": []
  },
  {
   "cell_type": "code",
   "execution_count": null,
   "id": "16e215c6",
   "metadata": {},
   "outputs": [],
   "source": [
    "results = actor_collection.find()\n",
    "for r in results:\n",
    "    print(r)"
   ]
  },
  {
   "cell_type": "code",
   "execution_count": null,
   "id": "af6fe552",
   "metadata": {},
   "outputs": [],
   "source": [
    "import pandas as pd\n",
    "# pd.DataFrame(actors_info_list)"
   ]
  },
  {
   "cell_type": "code",
   "execution_count": null,
   "id": "a4c5a4b6",
   "metadata": {},
   "outputs": [],
   "source": []
  },
  {
   "cell_type": "code",
   "execution_count": null,
   "id": "96e9fdce",
   "metadata": {},
   "outputs": [],
   "source": [
    "actor_collection.find_one()"
   ]
  },
  {
   "cell_type": "code",
   "execution_count": null,
   "id": "446807a2",
   "metadata": {},
   "outputs": [],
   "source": [
    "results = actor_collection.find().limit(5)\n",
    "for r in results:\n",
    "    print(r)"
   ]
  },
  {
   "cell_type": "code",
   "execution_count": null,
   "id": "afd3755d",
   "metadata": {},
   "outputs": [],
   "source": [
    "# 키값 수정 => key(필드명)"
   ]
  },
  {
   "cell_type": "code",
   "execution_count": null,
   "id": "251bf665",
   "metadata": {},
   "outputs": [],
   "source": [
    "actor_collection.update_many({},{'$rename':{'다른 이름' : '다른이름'}})"
   ]
  },
  {
   "cell_type": "code",
   "execution_count": null,
   "id": "b43cc78c",
   "metadata": {},
   "outputs": [],
   "source": [
    "results = actor_collection.find().limit(5)\n",
    "for r in results:\n",
    "    print(r)"
   ]
  },
  {
   "cell_type": "code",
   "execution_count": null,
   "id": "0e54cc36",
   "metadata": {},
   "outputs": [],
   "source": []
  },
  {
   "cell_type": "code",
   "execution_count": null,
   "id": "1344fbb3",
   "metadata": {},
   "outputs": [],
   "source": [
    "results = actor_collection.find({}).sort('생년월일')\n",
    "for r in results:\n",
    "    print(r)                            # 웅 안돼"
   ]
  },
  {
   "cell_type": "code",
   "execution_count": null,
   "id": "501324bf",
   "metadata": {},
   "outputs": [],
   "source": [
    "results = actor_collection.find({}).sort('생년월일', pymongo.DESCENDING)\n",
    "for r in results:\n",
    "    print(r)  "
   ]
  },
  {
   "cell_type": "code",
   "execution_count": null,
   "id": "44a40ec8",
   "metadata": {},
   "outputs": [],
   "source": []
  },
  {
   "cell_type": "code",
   "execution_count": null,
   "id": "415af399",
   "metadata": {},
   "outputs": [],
   "source": [
    "actor = actor_collection"
   ]
  },
  {
   "cell_type": "code",
   "execution_count": null,
   "id": "e803e347",
   "metadata": {},
   "outputs": [],
   "source": [
    "results = actor.find({'특기':{'$exists':True}}).sort('흥행지수')       # 특기가 있는 배우를 흥행지수정렬\n",
    "for r in results:\n",
    "    print(r)   "
   ]
  },
  {
   "cell_type": "code",
   "execution_count": null,
   "id": "e2d426da",
   "metadata": {},
   "outputs": [],
   "source": [
    "results = actor.find({'특기':{'$exists':False}}).sort('흥행지수')\n",
    "for r in results:\n",
    "    print(r) "
   ]
  },
  {
   "cell_type": "code",
   "execution_count": null,
   "id": "8f765371",
   "metadata": {},
   "outputs": [],
   "source": [
    "results = actor.find({'생년월일':{'$exists':False}}).sort('흥행지수', pymongo.DESCENDING) # 생년월일이 없는\n",
    "for r in results:\n",
    "    print(r) "
   ]
  },
  {
   "cell_type": "code",
   "execution_count": null,
   "id": "92b771ed",
   "metadata": {},
   "outputs": [],
   "source": [
    "results = actor.find({'흥행지수':{'$gte':15000}}).sort('흥행지수', pymongo.DESCENDING) # 흥행지수가 15000이상\n",
    "for r in results:\n",
    "    print(r) "
   ]
  },
  {
   "cell_type": "code",
   "execution_count": null,
   "id": "219f96da",
   "metadata": {},
   "outputs": [],
   "source": [
    "results = actor.find({'흥행지수':{'$gte':15000}},{'배우이름':1, '흥행지수':1, '출연영화':1, '_id':0}).sort('흥행지수', pymongo.DESCENDING)   \n",
    "for r in results:\n",
    "    print(r)  # 흥행지수 15000이상 아이디 빼고 출력"
   ]
  },
  {
   "cell_type": "code",
   "execution_count": null,
   "id": "5fbb5760",
   "metadata": {},
   "outputs": [],
   "source": []
  },
  {
   "cell_type": "code",
   "execution_count": null,
   "id": "ea640569",
   "metadata": {},
   "outputs": [],
   "source": [
    "results = actor.find({'$or':[{'출연영화':'극한직업'}, {'출연영화':'사바하'}]})   \n",
    "for r in results:\n",
    "    print(r)              # or 연산자 "
   ]
  },
  {
   "cell_type": "code",
   "execution_count": null,
   "id": "7b21a04d",
   "metadata": {},
   "outputs": [],
   "source": [
    "results = actor.find({'$and':[{'출연영화':'극한직업'}, {'출연영화':'블랙머니'}]})   \n",
    "for r in results:\n",
    "    print(r) "
   ]
  },
  {
   "cell_type": "code",
   "execution_count": null,
   "id": "a4548669",
   "metadata": {},
   "outputs": [],
   "source": [
    "results = actor.find({'흥행지수':{'$gte':10000},'$or':[{'출연영화':'극한직업'}, {'출연영화':'사바하'}]})   \n",
    "for r in results:\n",
    "    print(r)  "
   ]
  },
  {
   "cell_type": "code",
   "execution_count": null,
   "id": "bc9bc479",
   "metadata": {},
   "outputs": [],
   "source": [
    "results = actor.find({'$nor':[{'흥행지수':{'$lte':10000}}, {'흥행지수':{'$gte':15000}}]})\n",
    "for r in results:\n",
    "    print(r)  # 10000보다 작지 않고, 15000보다 크지 않은 nor은 둘다 false"
   ]
  },
  {
   "cell_type": "code",
   "execution_count": null,
   "id": "3d468c65",
   "metadata": {},
   "outputs": [],
   "source": []
  },
  {
   "cell_type": "code",
   "execution_count": null,
   "id": "7cc45859",
   "metadata": {},
   "outputs": [],
   "source": [
    "results = actor.find({'흥행지수':{'$in':[12184,11206,10489]}})\n",
    "for r in results:\n",
    "    print(r)         # 흥행지수가 값에 해당되는 데이터 뽑기"
   ]
  },
  {
   "cell_type": "code",
   "execution_count": null,
   "id": "10dd3aad",
   "metadata": {},
   "outputs": [],
   "source": [
    "results = actor.find({'흥행지수':{'$nin':[12184,11206,10489]}})\n",
    "for r in results:\n",
    "    print(r)     # 반대로 nin => not in"
   ]
  },
  {
   "cell_type": "code",
   "execution_count": null,
   "id": "a0531c68",
   "metadata": {},
   "outputs": [],
   "source": [
    "results = actor.find({'흥행지수':{'$in':[12184,11206,10489]}}).skip(2)\n",
    "for r in results:\n",
    "    print(r)               # skip(2) => 두개 건너 뛰고 가져오기"
   ]
  },
  {
   "cell_type": "code",
   "execution_count": null,
   "id": "29b7797a",
   "metadata": {},
   "outputs": [],
   "source": [
    "results = actor.find({'흥행지수':{'$gte':10000}}).skip(2).limit(5)\n",
    "for r in results:\n",
    "    print(r)         # 흥행지수 10000이상 두개 건너뛰고 5개만 가져오기"
   ]
  },
  {
   "cell_type": "code",
   "execution_count": null,
   "id": "313c2c68",
   "metadata": {},
   "outputs": [],
   "source": [
    "results = actor.find({'출연영화':{'$all':['극한직업','사바하']}})\n",
    "for r in results:\n",
    "    print(r)           # and 조건과 같은 결과"
   ]
  },
  {
   "cell_type": "code",
   "execution_count": null,
   "id": "9910f3bf",
   "metadata": {},
   "outputs": [],
   "source": [
    "results = actor.find({'출연영화':{'$size':6}})\n",
    "for r in results:\n",
    "    print(r)         # 출연영화가 6개인 데이터 뽑기"
   ]
  },
  {
   "cell_type": "code",
   "execution_count": null,
   "id": "beb2b6cd",
   "metadata": {},
   "outputs": [],
   "source": []
  },
  {
   "cell_type": "code",
   "execution_count": null,
   "id": "89cc2666",
   "metadata": {},
   "outputs": [],
   "source": []
  },
  {
   "cell_type": "code",
   "execution_count": null,
   "id": "d2946848",
   "metadata": {},
   "outputs": [],
   "source": []
  },
  {
   "cell_type": "code",
   "execution_count": null,
   "id": "35caec73",
   "metadata": {},
   "outputs": [],
   "source": []
  },
  {
   "cell_type": "code",
   "execution_count": null,
   "id": "82ad32de",
   "metadata": {},
   "outputs": [],
   "source": []
  },
  {
   "cell_type": "code",
   "execution_count": null,
   "id": "8ee9f130",
   "metadata": {},
   "outputs": [],
   "source": []
  },
  {
   "cell_type": "code",
   "execution_count": null,
   "id": "ebddecbe",
   "metadata": {},
   "outputs": [],
   "source": []
  },
  {
   "cell_type": "code",
   "execution_count": null,
   "id": "dd5e011f",
   "metadata": {},
   "outputs": [],
   "source": []
  },
  {
   "cell_type": "code",
   "execution_count": null,
   "id": "50b5efbc",
   "metadata": {},
   "outputs": [],
   "source": []
  },
  {
   "cell_type": "code",
   "execution_count": null,
   "id": "1c7cee9c",
   "metadata": {},
   "outputs": [],
   "source": []
  },
  {
   "cell_type": "code",
   "execution_count": null,
   "id": "841093a3",
   "metadata": {},
   "outputs": [],
   "source": []
  },
  {
   "cell_type": "code",
   "execution_count": null,
   "id": "b3d0081b",
   "metadata": {},
   "outputs": [],
   "source": []
  },
  {
   "cell_type": "code",
   "execution_count": null,
   "id": "ce7ebfa8",
   "metadata": {},
   "outputs": [],
   "source": []
  }
 ],
 "metadata": {
  "kernelspec": {
   "display_name": "Python 3 (ipykernel)",
   "language": "python",
   "name": "python3"
  },
  "language_info": {
   "codemirror_mode": {
    "name": "ipython",
    "version": 3
   },
   "file_extension": ".py",
   "mimetype": "text/x-python",
   "name": "python",
   "nbconvert_exporter": "python",
   "pygments_lexer": "ipython3",
   "version": "3.9.7"
  },
  "varInspector": {
   "cols": {
    "lenName": 16,
    "lenType": 16,
    "lenVar": 40
   },
   "kernels_config": {
    "python": {
     "delete_cmd_postfix": "",
     "delete_cmd_prefix": "del ",
     "library": "var_list.py",
     "varRefreshCmd": "print(var_dic_list())"
    },
    "r": {
     "delete_cmd_postfix": ") ",
     "delete_cmd_prefix": "rm(",
     "library": "var_list.r",
     "varRefreshCmd": "cat(var_dic_list()) "
    }
   },
   "types_to_exclude": [
    "module",
    "function",
    "builtin_function_or_method",
    "instance",
    "_Feature"
   ],
   "window_display": false
  }
 },
 "nbformat": 4,
 "nbformat_minor": 5
}
