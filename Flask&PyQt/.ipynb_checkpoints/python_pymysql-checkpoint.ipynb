{
 "cells": [
  {
   "cell_type": "code",
   "execution_count": 1,
   "id": "7a624a2a",
   "metadata": {
    "ExecuteTime": {
     "end_time": "2022-05-20T01:50:04.864105Z",
     "start_time": "2022-05-20T01:50:04.811731Z"
    }
   },
   "outputs": [],
   "source": [
    "import pymysql"
   ]
  },
  {
   "cell_type": "code",
   "execution_count": null,
   "id": "2e473e5e",
   "metadata": {
    "ExecuteTime": {
     "end_time": "2022-05-20T01:57:45.549195Z",
     "start_time": "2022-05-20T01:57:45.478919Z"
    }
   },
   "outputs": [],
   "source": [
    "conn = pymysql.connect(host = '127.0.0.1', user='root',password='1234', charset='utf8')\n",
    "\n",
    "cursor = conn.cursor()"
   ]
  },
  {
   "cell_type": "code",
   "execution_count": 8,
   "id": "371b947d",
   "metadata": {
    "ExecuteTime": {
     "end_time": "2022-05-20T01:57:45.549195Z",
     "start_time": "2022-05-20T01:57:45.478919Z"
    }
   },
   "outputs": [
    {
     "name": "stdout",
     "output_type": "stream",
     "text": [
      "(('information_schema',), ('budongsan',), ('employees',), ('fin_db',), ('flask_db',), ('gmarketdb',), ('mysql',), ('performance_schema',), ('sakila',), ('shopdb',), ('sqldb',), ('sys',), ('tabledb',), ('world',))\n"
     ]
    }
   ],
   "source": [
    "sql = 'create database if not exists flask_db;'\n",
    "cursor.execute(sql)\n",
    "\n",
    "cursor.execute('show databases;')\n",
    "\n",
    "result = cursor.fetchall()\n",
    "\n",
    "print(result)"
   ]
  },
  {
   "cell_type": "code",
   "execution_count": 9,
   "id": "3fe9cff8",
   "metadata": {
    "ExecuteTime": {
     "end_time": "2022-05-20T01:58:16.652831Z",
     "start_time": "2022-05-20T01:58:16.637873Z"
    }
   },
   "outputs": [
    {
     "data": {
      "text/plain": [
       "0"
      ]
     },
     "execution_count": 9,
     "metadata": {},
     "output_type": "execute_result"
    }
   ],
   "source": [
    "cursor.execute('use flask_db')"
   ]
  },
  {
   "cell_type": "code",
   "execution_count": null,
   "id": "7a15e3e8",
   "metadata": {},
   "outputs": [],
   "source": []
  },
  {
   "cell_type": "code",
   "execution_count": null,
   "id": "da93755f",
   "metadata": {},
   "outputs": [],
   "source": []
  },
  {
   "cell_type": "code",
   "execution_count": null,
   "id": "bd66e2b2",
   "metadata": {},
   "outputs": [],
   "source": []
  },
  {
   "cell_type": "code",
   "execution_count": 12,
   "id": "a7fbda0e",
   "metadata": {
    "ExecuteTime": {
     "end_time": "2022-05-20T01:59:14.026829Z",
     "start_time": "2022-05-20T01:59:13.974454Z"
    }
   },
   "outputs": [
    {
     "data": {
      "text/plain": [
       "0"
      ]
     },
     "execution_count": 12,
     "metadata": {},
     "output_type": "execute_result"
    }
   ],
   "source": [
    "sql = \"\"\"\n",
    "create table if not exists member (\n",
    "`id` int(11) not null auto_increment,\n",
    "`userid` varchar(50) not null,\n",
    "`pwd` varchar(200) not null,\n",
    "`name` varchar(20) default null,\n",
    "`email` varchar(50) default null,\n",
    "`regdate` datetime default null,\n",
    "primary key(`id`))\n",
    "\"\"\"\n",
    "\n",
    "cursor = conn.cursor()\n",
    "cursor.execute(sql)"
   ]
  },
  {
   "cell_type": "code",
   "execution_count": 17,
   "id": "5f7e03cf",
   "metadata": {
    "ExecuteTime": {
     "end_time": "2022-05-20T02:01:34.793136Z",
     "start_time": "2022-05-20T02:01:34.789099Z"
    }
   },
   "outputs": [
    {
     "data": {
      "text/plain": [
       "(('member',),)"
      ]
     },
     "execution_count": 17,
     "metadata": {},
     "output_type": "execute_result"
    }
   ],
   "source": [
    "cursor.execute('show tables;')\n",
    "result = cursor.fetchall()\n",
    "result"
   ]
  },
  {
   "cell_type": "code",
   "execution_count": 18,
   "id": "f8a7acb1",
   "metadata": {
    "ExecuteTime": {
     "end_time": "2022-05-20T02:03:59.392083Z",
     "start_time": "2022-05-20T02:03:59.382111Z"
    }
   },
   "outputs": [
    {
     "data": {
      "text/plain": [
       "2"
      ]
     },
     "execution_count": 18,
     "metadata": {},
     "output_type": "execute_result"
    }
   ],
   "source": [
    "sql = \"\"\"\n",
    "insert into member values \n",
    "(1, 'aaa', '1234', '아이유', 'aaa@aaa.co.kr', '2019-06-24'),\n",
    "(2, 'bbb', '1234', '방탄소년', 'bbb@bbb.co.kr', '2019-06-24')\n",
    "\"\"\"\n",
    "\n",
    "cursor.execute(sql)"
   ]
  },
  {
   "cell_type": "code",
   "execution_count": 19,
   "id": "9816858b",
   "metadata": {
    "ExecuteTime": {
     "end_time": "2022-05-20T02:04:26.919630Z",
     "start_time": "2022-05-20T02:04:26.900681Z"
    }
   },
   "outputs": [
    {
     "data": {
      "text/plain": [
       "((1,\n",
       "  'aaa',\n",
       "  '1234',\n",
       "  '아이유',\n",
       "  'aaa@aaa.co.kr',\n",
       "  datetime.datetime(2019, 6, 24, 0, 0)),\n",
       " (2,\n",
       "  'bbb',\n",
       "  '1234',\n",
       "  '방탄소년',\n",
       "  'bbb@bbb.co.kr',\n",
       "  datetime.datetime(2019, 6, 24, 0, 0)))"
      ]
     },
     "execution_count": 19,
     "metadata": {},
     "output_type": "execute_result"
    }
   ],
   "source": [
    "cursor.execute('select * from member;')\n",
    "result = cursor.fetchall()\n",
    "result"
   ]
  },
  {
   "cell_type": "code",
   "execution_count": null,
   "id": "5c6bb4ac",
   "metadata": {},
   "outputs": [],
   "source": [
    " "
   ]
  },
  {
   "cell_type": "code",
   "execution_count": 21,
   "id": "76256c62",
   "metadata": {
    "ExecuteTime": {
     "end_time": "2022-05-20T02:06:20.317225Z",
     "start_time": "2022-05-20T02:06:20.277077Z"
    }
   },
   "outputs": [
    {
     "data": {
      "text/plain": [
       "0"
      ]
     },
     "execution_count": 21,
     "metadata": {},
     "output_type": "execute_result"
    }
   ],
   "source": [
    "sql = \"\"\"\n",
    "create table if not exists point_table(\n",
    "`point_stu_idx` int(11) default null,\n",
    "`point_stu_grade` varchar(50) default null,\n",
    "`point_stu_kor` varchar(50) default null\n",
    ")\n",
    "\"\"\"\n",
    "cursor.execute(sql)"
   ]
  },
  {
   "cell_type": "code",
   "execution_count": 22,
   "id": "0519c955",
   "metadata": {
    "ExecuteTime": {
     "end_time": "2022-05-20T02:06:55.896610Z",
     "start_time": "2022-05-20T02:06:55.877662Z"
    }
   },
   "outputs": [
    {
     "data": {
      "text/plain": [
       "()"
      ]
     },
     "execution_count": 22,
     "metadata": {},
     "output_type": "execute_result"
    }
   ],
   "source": [
    "cursor.execute('select * from point_table;')\n",
    "result = cursor.fetchall()\n",
    "result"
   ]
  },
  {
   "cell_type": "code",
   "execution_count": 23,
   "id": "60576875",
   "metadata": {
    "ExecuteTime": {
     "end_time": "2022-05-20T02:08:26.648799Z",
     "start_time": "2022-05-20T02:08:26.629880Z"
    }
   },
   "outputs": [
    {
     "data": {
      "text/plain": [
       "3"
      ]
     },
     "execution_count": 23,
     "metadata": {},
     "output_type": "execute_result"
    }
   ],
   "source": [
    "sql = \"\"\"\n",
    "insert into point_table values\n",
    "(2, '2', '90'),\n",
    "(2, '3', '94'),\n",
    "(1, '1', '89');\n",
    "\"\"\"\n",
    "\n",
    "cursor.execute(sql)"
   ]
  },
  {
   "cell_type": "code",
   "execution_count": 24,
   "id": "944c674f",
   "metadata": {
    "ExecuteTime": {
     "end_time": "2022-05-20T02:08:59.862722Z",
     "start_time": "2022-05-20T02:08:59.845769Z"
    }
   },
   "outputs": [
    {
     "data": {
      "text/plain": [
       "((2, '2', '90'), (2, '3', '94'), (1, '1', '89'))"
      ]
     },
     "execution_count": 24,
     "metadata": {},
     "output_type": "execute_result"
    }
   ],
   "source": [
    "cursor.execute('select * from point_table;')\n",
    "result = cursor.fetchall()\n",
    "result"
   ]
  },
  {
   "cell_type": "code",
   "execution_count": null,
   "id": "d56fb595",
   "metadata": {},
   "outputs": [],
   "source": []
  },
  {
   "cell_type": "code",
   "execution_count": 25,
   "id": "f19c843f",
   "metadata": {
    "ExecuteTime": {
     "end_time": "2022-05-20T02:09:58.970894Z",
     "start_time": "2022-05-20T02:09:58.933967Z"
    }
   },
   "outputs": [
    {
     "data": {
      "text/plain": [
       "0"
      ]
     },
     "execution_count": 25,
     "metadata": {},
     "output_type": "execute_result"
    }
   ],
   "source": [
    "sql = \"\"\"\n",
    "CREATE TABLE IF NOT EXISTS student_table (\n",
    "  `stu_idx` int(11) NOT NULL AUTO_INCREMENT,\n",
    "  `stu_name` varchar(50) DEFAULT NULL,\n",
    "  `stu_age` varchar(3) DEFAULT NULL,\n",
    "  `stu_addr` varchar(50) DEFAULT NULL,\n",
    "  PRIMARY KEY (`stu_idx`)\n",
    ") ;\n",
    "\"\"\"\n",
    "cursor.execute(sql)\n"
   ]
  },
  {
   "cell_type": "code",
   "execution_count": 26,
   "id": "30216059",
   "metadata": {
    "ExecuteTime": {
     "end_time": "2022-05-20T02:10:11.549918Z",
     "start_time": "2022-05-20T02:10:11.539944Z"
    }
   },
   "outputs": [
    {
     "data": {
      "text/plain": [
       "2"
      ]
     },
     "execution_count": 26,
     "metadata": {},
     "output_type": "execute_result"
    }
   ],
   "source": [
    "sql = \"\"\"\n",
    "INSERT INTO student_table (`stu_idx`, `stu_name`, `stu_age`, `stu_addr`) VALUES\n",
    "   (1, '홍길동', '18', '서울시'),\n",
    "   (2, '김개똥', '19', '서울시');\n",
    "\"\"\"\n",
    "cursor.execute(sql)"
   ]
  },
  {
   "cell_type": "code",
   "execution_count": null,
   "id": "1820f265",
   "metadata": {},
   "outputs": [],
   "source": []
  },
  {
   "cell_type": "code",
   "execution_count": 27,
   "id": "292d329e",
   "metadata": {
    "ExecuteTime": {
     "end_time": "2022-05-20T02:11:00.900190Z",
     "start_time": "2022-05-20T02:11:00.885231Z"
    }
   },
   "outputs": [],
   "source": [
    "# db 반영\n",
    "\n",
    "conn.commit()"
   ]
  },
  {
   "cell_type": "code",
   "execution_count": null,
   "id": "404de4fc",
   "metadata": {},
   "outputs": [],
   "source": []
  },
  {
   "cell_type": "code",
   "execution_count": 28,
   "id": "631b64a1",
   "metadata": {
    "ExecuteTime": {
     "end_time": "2022-05-20T02:18:06.347127Z",
     "start_time": "2022-05-20T02:18:06.339148Z"
    }
   },
   "outputs": [],
   "source": [
    "def get_connection():\n",
    "    conn = pymysql.connect(host = '127.0.0.1', user='root',password='1234', charset='utf8')\n",
    "    return conn"
   ]
  },
  {
   "cell_type": "code",
   "execution_count": 29,
   "id": "7a0ba7a6",
   "metadata": {
    "ExecuteTime": {
     "end_time": "2022-05-20T02:18:18.092742Z",
     "start_time": "2022-05-20T02:18:18.084793Z"
    }
   },
   "outputs": [],
   "source": [
    "conn = get_connection()"
   ]
  },
  {
   "cell_type": "code",
   "execution_count": 30,
   "id": "d0bae980",
   "metadata": {
    "ExecuteTime": {
     "end_time": "2022-05-20T02:18:35.636396Z",
     "start_time": "2022-05-20T02:18:35.620439Z"
    }
   },
   "outputs": [],
   "source": [
    "cursor = conn.cursor()"
   ]
  },
  {
   "cell_type": "code",
   "execution_count": 31,
   "id": "0a618b89",
   "metadata": {
    "ExecuteTime": {
     "end_time": "2022-05-20T02:18:48.823424Z",
     "start_time": "2022-05-20T02:18:48.811485Z"
    }
   },
   "outputs": [
    {
     "data": {
      "text/plain": [
       "14"
      ]
     },
     "execution_count": 31,
     "metadata": {},
     "output_type": "execute_result"
    }
   ],
   "source": [
    "cursor.execute('show databases;')"
   ]
  },
  {
   "cell_type": "code",
   "execution_count": 32,
   "id": "98fbec04",
   "metadata": {
    "ExecuteTime": {
     "end_time": "2022-05-20T02:19:37.083700Z",
     "start_time": "2022-05-20T02:19:37.076719Z"
    }
   },
   "outputs": [
    {
     "data": {
      "text/plain": [
       "0"
      ]
     },
     "execution_count": 32,
     "metadata": {},
     "output_type": "execute_result"
    }
   ],
   "source": [
    "cursor.execute('use flask_db')"
   ]
  },
  {
   "cell_type": "code",
   "execution_count": 33,
   "id": "7e6f2c35",
   "metadata": {
    "ExecuteTime": {
     "end_time": "2022-05-20T02:21:30.026676Z",
     "start_time": "2022-05-20T02:21:30.004735Z"
    }
   },
   "outputs": [
    {
     "ename": "NameError",
     "evalue": "name 'name' is not defined",
     "output_type": "error",
     "traceback": [
      "\u001b[1;31m---------------------------------------------------------------------------\u001b[0m",
      "\u001b[1;31mNameError\u001b[0m                                 Traceback (most recent call last)",
      "\u001b[1;32m~\\AppData\\Local\\Temp/ipykernel_13948/2650863451.py\u001b[0m in \u001b[0;36m<module>\u001b[1;34m\u001b[0m\n\u001b[0;32m      1\u001b[0m sql = \"\"\"\n\u001b[0;32m      2\u001b[0m \u001b[0mselect\u001b[0m \u001b[0mstu_idx\u001b[0m\u001b[1;33m,\u001b[0m \u001b[0mstu_name\u001b[0m\u001b[1;33m,\u001b[0m \u001b[0mstu_age\u001b[0m\u001b[1;33m,\u001b[0m \u001b[0mstu_addr\u001b[0m \u001b[1;32mfrom\u001b[0m \u001b[0mstudent_table\u001b[0m \u001b[0mwhere\u001b[0m \u001b[0mstu_name\u001b[0m \u001b[0mlike\u001b[0m \u001b[1;33m{\u001b[0m\u001b[1;33m}\u001b[0m\u001b[1;33m\u001b[0m\u001b[1;33m\u001b[0m\u001b[0m\n\u001b[1;32m----> 3\u001b[1;33m \"\"\".format(name)\n\u001b[0m\u001b[0;32m      4\u001b[0m \u001b[1;33m\u001b[0m\u001b[0m\n\u001b[0;32m      5\u001b[0m \u001b[0mcursor\u001b[0m\u001b[1;33m.\u001b[0m\u001b[0mexecute\u001b[0m\u001b[1;33m(\u001b[0m\u001b[0msql\u001b[0m\u001b[1;33m)\u001b[0m\u001b[1;33m\u001b[0m\u001b[1;33m\u001b[0m\u001b[0m\n",
      "\u001b[1;31mNameError\u001b[0m: name 'name' is not defined"
     ]
    }
   ],
   "source": [
    "sql = \"\"\"\n",
    "select stu_idx, stu_name, stu_age, stu_addr from student_table where stu_name like {}\n",
    "\"\"\".format(name)\n",
    "\n",
    "cursor.execute(sql)\n",
    "result = cursor.fetchall()\n",
    "result"
   ]
  },
  {
   "cell_type": "code",
   "execution_count": 36,
   "id": "08cc9d5d",
   "metadata": {
    "ExecuteTime": {
     "end_time": "2022-05-20T02:24:19.469182Z",
     "start_time": "2022-05-20T02:24:19.460207Z"
    }
   },
   "outputs": [],
   "source": [
    "def get_student_list():\n",
    "    sql = \"\"\"\n",
    "    select stu_idx, stu_name, stu_age, stu_addr from student_table;\n",
    "    \"\"\"\n",
    "    \n",
    "    cursor.execute(sql)\n",
    "    result = cursor.fetchall()\n",
    "    return result\n"
   ]
  },
  {
   "cell_type": "code",
   "execution_count": 37,
   "id": "3222811f",
   "metadata": {
    "ExecuteTime": {
     "end_time": "2022-05-20T02:24:19.751469Z",
     "start_time": "2022-05-20T02:24:19.732491Z"
    }
   },
   "outputs": [
    {
     "data": {
      "text/plain": [
       "((1, '홍길동', '18', '서울시'), (2, '김개똥', '19', '서울시'))"
      ]
     },
     "execution_count": 37,
     "metadata": {},
     "output_type": "execute_result"
    }
   ],
   "source": [
    "student_list = get_student_list()\n",
    "student_list"
   ]
  },
  {
   "cell_type": "code",
   "execution_count": 38,
   "id": "cf691236",
   "metadata": {
    "ExecuteTime": {
     "end_time": "2022-05-20T02:55:01.047667Z",
     "start_time": "2022-05-20T02:55:01.041712Z"
    }
   },
   "outputs": [],
   "source": [
    "def get_student_list(stu_name):\n",
    "    \n",
    "    conn = get_connection()\n",
    "    cursor = conn.cursor()\n",
    "    cursor.execute('use flask_db;')\n",
    "    \n",
    "    \n",
    "    sql = \"\"\"\n",
    "    select stu_idx, stu_name, stu_age, stu_addr from student_table\n",
    "    \"\"\"\n",
    "    if stu_name != None and len(stu_name) > 0:\n",
    "        sql += ' where stu_name like %s'\n",
    "        \n",
    "    sql += ' order by stu_idx desc;'\n",
    "        \n",
    " \n",
    "    if stu_name != None and len(stu_name) > 0:\n",
    "        cursor.execute(sql, (f'%{stu_name}%'))\n",
    "    else:\n",
    "        cursor.execute(sql)\n",
    "        \n",
    "    result = cursor.fetchall()\n",
    "    \n",
    "    temp_list = []\n",
    "    \n",
    "    for row in result :\n",
    "        temp_dict = {}\n",
    "        temp_dict['stu_idx'] = row[0]\n",
    "        temp_dict['stu_name'] = row[1]\n",
    "        temp_dict['stu_age'] = row[2]\n",
    "        temp_dict['stu_addr'] = row[3]\n",
    "        \n",
    "        temp_list.append(temp_dict)\n",
    "        \n",
    "    conn.close()\n",
    "    \n",
    "    return temp_list"
   ]
  },
  {
   "cell_type": "code",
   "execution_count": null,
   "id": "6d5b98a8",
   "metadata": {},
   "outputs": [],
   "source": []
  },
  {
   "cell_type": "code",
   "execution_count": 39,
   "id": "eac1a7f2",
   "metadata": {
    "ExecuteTime": {
     "end_time": "2022-05-20T02:55:26.105908Z",
     "start_time": "2022-05-20T02:55:26.097932Z"
    }
   },
   "outputs": [
    {
     "data": {
      "text/plain": [
       "[{'stu_idx': 2, 'stu_name': '김개똥', 'stu_age': '19', 'stu_addr': '서울시'},\n",
       " {'stu_idx': 1, 'stu_name': '홍길동', 'stu_age': '18', 'stu_addr': '서울시'}]"
      ]
     },
     "execution_count": 39,
     "metadata": {},
     "output_type": "execute_result"
    }
   ],
   "source": [
    "student_list = get_student_list([])\n",
    "student_list"
   ]
  },
  {
   "cell_type": "code",
   "execution_count": null,
   "id": "7181a2d4",
   "metadata": {},
   "outputs": [],
   "source": []
  },
  {
   "cell_type": "code",
   "execution_count": 40,
   "id": "7ff6dcf6",
   "metadata": {
    "ExecuteTime": {
     "end_time": "2022-05-20T03:06:34.987050Z",
     "start_time": "2022-05-20T03:06:34.976051Z"
    }
   },
   "outputs": [],
   "source": [
    "def add_student(stu_name, stu_age, stu_addr):\n",
    "    sql = \"\"\"\n",
    "    insert into student_table (stu_name, stu_age, stu_addr) values\n",
    "    (%s, %s, %s) \"\"\"\n",
    "    \n",
    "    conn = get_connection()\n",
    "    cursor = conn.cursor()\n",
    "    cursor.execute('use flask_db;')    \n",
    "    \n",
    "    cursor.execute(sql, (stu_name, stu_age, stu_addr))\n",
    "    conn.commit()\n",
    "    \n",
    "    sql2 = 'select max(stu_idx) from student_table;'\n",
    "    cursor.execute(sql2)\n",
    "    result = cursor.fetchone()\n",
    "    idx = result[0]\n",
    "    \n",
    "    conn.close()\n",
    "    \n",
    "    return idx"
   ]
  },
  {
   "cell_type": "code",
   "execution_count": 41,
   "id": "b287a47b",
   "metadata": {
    "ExecuteTime": {
     "end_time": "2022-05-20T03:06:50.986704Z",
     "start_time": "2022-05-20T03:06:50.975734Z"
    }
   },
   "outputs": [],
   "source": [
    "def get_student_info(stu_idx):\n",
    "    sql = \"\"\"\n",
    "    select stu_name, stu_age, stu_addr from student_table where stu_idx=%s\n",
    "    \"\"\"\n",
    "    conn = get_connection()\n",
    "    cursor = conn.cursor()\n",
    "    cursor.execute('use flask_db;')     \n",
    "    \n",
    "    cursor.execute(sql, (stu_idx))\n",
    "    result = cursor.fetchone()\n",
    "    \n",
    "    result_dic = {}\n",
    "    result_dic['stu_idx'] = stu_idx\n",
    "    result_dic['stu_name'] = result[0]\n",
    "    result_dic['stu_age'] = result[1]\n",
    "    result_dic['stu_addr'] = result[2]\n",
    "    \n",
    "    conn.close()\n",
    "    \n",
    "    return result_dic"
   ]
  },
  {
   "cell_type": "code",
   "execution_count": null,
   "id": "891bc0c3",
   "metadata": {},
   "outputs": [],
   "source": []
  },
  {
   "cell_type": "code",
   "execution_count": 42,
   "id": "7624d792",
   "metadata": {
    "ExecuteTime": {
     "end_time": "2022-05-20T03:11:42.786134Z",
     "start_time": "2022-05-20T03:11:42.768213Z"
    }
   },
   "outputs": [],
   "source": [
    "def add_point(point_stu_idx, point_stu_grade, point_stu_kor):\n",
    "    \n",
    "    sql = \"\"\"\n",
    "    insert into point_table values (%s, %s, %s)\n",
    "    \"\"\"\n",
    "    conn = get_connection()\n",
    "    cursor = conn.cursor()\n",
    "    cursor.execute('use flask_db;')     \n",
    "    \n",
    "    cursor.execute(sql, (point_stu_idx, point_stu_grade, point_stu_kor))\n",
    "    \n",
    "    conn.commit()\n",
    "    \n",
    "    conn.close()"
   ]
  },
  {
   "cell_type": "code",
   "execution_count": null,
   "id": "c44bd174",
   "metadata": {},
   "outputs": [],
   "source": []
  },
  {
   "cell_type": "code",
   "execution_count": null,
   "id": "0ac24055",
   "metadata": {},
   "outputs": [],
   "source": []
  },
  {
   "cell_type": "code",
   "execution_count": null,
   "id": "06c1abc3",
   "metadata": {},
   "outputs": [],
   "source": []
  },
  {
   "cell_type": "code",
   "execution_count": null,
   "id": "9f5ffd7c",
   "metadata": {},
   "outputs": [],
   "source": []
  },
  {
   "cell_type": "code",
   "execution_count": null,
   "id": "24a56072",
   "metadata": {},
   "outputs": [],
   "source": []
  },
  {
   "cell_type": "code",
   "execution_count": null,
   "id": "7b7ff528",
   "metadata": {},
   "outputs": [],
   "source": []
  },
  {
   "cell_type": "code",
   "execution_count": null,
   "id": "e3fe73fb",
   "metadata": {},
   "outputs": [],
   "source": []
  },
  {
   "cell_type": "code",
   "execution_count": null,
   "id": "defe6bf9",
   "metadata": {},
   "outputs": [],
   "source": []
  },
  {
   "cell_type": "code",
   "execution_count": null,
   "id": "4c9de580",
   "metadata": {},
   "outputs": [],
   "source": []
  },
  {
   "cell_type": "code",
   "execution_count": null,
   "id": "befbed4e",
   "metadata": {},
   "outputs": [],
   "source": []
  }
 ],
 "metadata": {
  "kernelspec": {
   "display_name": "Python 3 (ipykernel)",
   "language": "python",
   "name": "python3"
  },
  "language_info": {
   "codemirror_mode": {
    "name": "ipython",
    "version": 3
   },
   "file_extension": ".py",
   "mimetype": "text/x-python",
   "name": "python",
   "nbconvert_exporter": "python",
   "pygments_lexer": "ipython3",
   "version": "3.9.7"
  },
  "toc": {
   "base_numbering": 1,
   "nav_menu": {},
   "number_sections": true,
   "sideBar": true,
   "skip_h1_title": false,
   "title_cell": "Table of Contents",
   "title_sidebar": "Contents",
   "toc_cell": false,
   "toc_position": {},
   "toc_section_display": true,
   "toc_window_display": false
  },
  "varInspector": {
   "cols": {
    "lenName": 16,
    "lenType": 16,
    "lenVar": 40
   },
   "kernels_config": {
    "python": {
     "delete_cmd_postfix": "",
     "delete_cmd_prefix": "del ",
     "library": "var_list.py",
     "varRefreshCmd": "print(var_dic_list())"
    },
    "r": {
     "delete_cmd_postfix": ") ",
     "delete_cmd_prefix": "rm(",
     "library": "var_list.r",
     "varRefreshCmd": "cat(var_dic_list()) "
    }
   },
   "types_to_exclude": [
    "module",
    "function",
    "builtin_function_or_method",
    "instance",
    "_Feature"
   ],
   "window_display": false
  }
 },
 "nbformat": 4,
 "nbformat_minor": 5
}
