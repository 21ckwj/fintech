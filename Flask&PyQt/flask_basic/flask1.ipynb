{
 "cells": [
  {
   "cell_type": "code",
   "execution_count": 1,
   "id": "1778e230",
   "metadata": {
    "ExecuteTime": {
     "end_time": "2022-05-19T01:42:14.898003Z",
     "start_time": "2022-05-19T01:42:14.886035Z"
    }
   },
   "outputs": [],
   "source": [
    "# django\n",
    "# flask\n",
    "# fast.ai"
   ]
  },
  {
   "cell_type": "code",
   "execution_count": null,
   "id": "b4b143be",
   "metadata": {},
   "outputs": [],
   "source": []
  },
  {
   "cell_type": "code",
   "execution_count": 2,
   "id": "c765eb50",
   "metadata": {
    "ExecuteTime": {
     "end_time": "2022-05-19T01:42:22.769017Z",
     "start_time": "2022-05-19T01:42:19.673642Z"
    }
   },
   "outputs": [
    {
     "name": "stdout",
     "output_type": "stream",
     "text": [
      "Requirement already satisfied: flask in c:\\users\\bitcamp\\anaconda3\\lib\\site-packages (1.1.2)\n",
      "Requirement already satisfied: itsdangerous>=0.24 in c:\\users\\bitcamp\\anaconda3\\lib\\site-packages (from flask) (2.0.1)\n",
      "Requirement already satisfied: click>=5.1 in c:\\users\\bitcamp\\anaconda3\\lib\\site-packages (from flask) (8.0.3)\n",
      "Requirement already satisfied: Jinja2>=2.10.1 in c:\\users\\bitcamp\\anaconda3\\lib\\site-packages (from flask) (2.11.3)\n",
      "Requirement already satisfied: Werkzeug>=0.15 in c:\\users\\bitcamp\\anaconda3\\lib\\site-packages (from flask) (2.0.2)\n",
      "Requirement already satisfied: colorama in c:\\users\\bitcamp\\anaconda3\\lib\\site-packages (from click>=5.1->flask) (0.4.4)\n",
      "Requirement already satisfied: MarkupSafe>=0.23 in c:\\users\\bitcamp\\anaconda3\\lib\\site-packages (from Jinja2>=2.10.1->flask) (2.0.1)\n"
     ]
    },
    {
     "name": "stderr",
     "output_type": "stream",
     "text": [
      "WARNING: You are using pip version 22.0.4; however, version 22.1 is available.\n",
      "You should consider upgrading via the 'C:\\Users\\bitcamp\\anaconda3\\python.exe -m pip install --upgrade pip' command.\n"
     ]
    }
   ],
   "source": [
    "!pip install flask"
   ]
  },
  {
   "cell_type": "code",
   "execution_count": 2,
   "id": "64afc434",
   "metadata": {
    "ExecuteTime": {
     "end_time": "2022-05-19T02:06:34.392831Z",
     "start_time": "2022-05-19T02:06:34.280553Z"
    }
   },
   "outputs": [],
   "source": [
    "from flask import Flask"
   ]
  },
  {
   "cell_type": "code",
   "execution_count": 5,
   "id": "5982f4d9",
   "metadata": {
    "ExecuteTime": {
     "end_time": "2022-05-19T01:44:16.985875Z",
     "start_time": "2022-05-19T01:44:16.972913Z"
    }
   },
   "outputs": [
    {
     "data": {
      "text/plain": [
       "'__main__'"
      ]
     },
     "execution_count": 5,
     "metadata": {},
     "output_type": "execute_result"
    }
   ],
   "source": [
    "# 현재의 작업위치\n",
    "__name__"
   ]
  },
  {
   "cell_type": "code",
   "execution_count": 6,
   "id": "3e1746dc",
   "metadata": {
    "ExecuteTime": {
     "end_time": "2022-05-19T01:44:33.827840Z",
     "start_time": "2022-05-19T01:44:33.818866Z"
    }
   },
   "outputs": [],
   "source": [
    "app = Flask(__name__)"
   ]
  },
  {
   "cell_type": "code",
   "execution_count": 11,
   "id": "162d4a6d",
   "metadata": {
    "ExecuteTime": {
     "end_time": "2022-05-19T01:49:30.062384Z",
     "start_time": "2022-05-19T01:49:30.058367Z"
    }
   },
   "outputs": [
    {
     "data": {
      "text/plain": [
       "'Flask'"
      ]
     },
     "execution_count": 11,
     "metadata": {},
     "output_type": "execute_result"
    }
   ],
   "source": [
    "Flask.__name__"
   ]
  },
  {
   "cell_type": "code",
   "execution_count": 9,
   "id": "ead19da3",
   "metadata": {
    "ExecuteTime": {
     "end_time": "2022-05-19T01:46:56.933187Z",
     "start_time": "2022-05-19T01:46:56.922216Z"
    }
   },
   "outputs": [
    {
     "name": "stdout",
     "output_type": "stream",
     "text": [
      "3\n",
      "4\n"
     ]
    }
   ],
   "source": [
    "def add_one(data):\n",
    "    return data +1\n",
    "def add_two(data):\n",
    "    return data +2\n",
    "\n",
    "# 직접 코드를 작성해서 실행할 경우만 실행되도록 \n",
    "if __name__ == '__main__': \n",
    "    print(add_one(2))\n",
    "    print(add_two(2))"
   ]
  },
  {
   "cell_type": "code",
   "execution_count": 10,
   "id": "421e1b62",
   "metadata": {
    "ExecuteTime": {
     "end_time": "2022-05-19T01:47:31.913133Z",
     "start_time": "2022-05-19T01:47:31.897176Z"
    }
   },
   "outputs": [],
   "source": [
    "def add_one(data):\n",
    "    return data +1\n",
    "def add_two(data):\n",
    "    return data +2\n",
    "\n",
    "# 외부 모듈에서 실행할 경우 실행되지 않도록\n",
    "if Flask.__name__ == '__main__':\n",
    "    print(add_one(2))\n",
    "    print(add_two(2))"
   ]
  },
  {
   "cell_type": "code",
   "execution_count": null,
   "id": "f0c85a2d",
   "metadata": {},
   "outputs": [],
   "source": []
  },
  {
   "cell_type": "code",
   "execution_count": 15,
   "id": "e0585b38",
   "metadata": {
    "ExecuteTime": {
     "end_time": "2022-05-19T02:06:05.919010Z",
     "start_time": "2022-05-19T02:03:30.896850Z"
    }
   },
   "outputs": [
    {
     "name": "stdout",
     "output_type": "stream",
     "text": [
      " * Serving Flask app \"__main__\" (lazy loading)\n",
      " * Environment: production\n",
      "\u001b[31m   WARNING: This is a development server. Do not use it in a production deployment.\u001b[0m\n",
      "\u001b[2m   Use a production WSGI server instead.\u001b[0m\n",
      " * Debug mode: off\n"
     ]
    },
    {
     "name": "stderr",
     "output_type": "stream",
     "text": [
      " * Running on http://127.0.0.1:8080/ (Press CTRL+C to quit)\n",
      "127.0.0.1 - - [19/May/2022 11:03:30] \"GET / HTTP/1.1\" 404 -\n",
      "127.0.0.1 - - [19/May/2022 11:03:30] \"GET /favicon.ico HTTP/1.1\" 404 -\n"
     ]
    }
   ],
   "source": [
    "from flask import Flask\n",
    "\n",
    "app = Flask(__name__) # flask web server 객체 생성\n",
    "\n",
    "# decorator: 아래의 함수를 꾸며주는 기능, 원래 함수에 기능 추가한다\n",
    "# route: 경로를 안내...\n",
    "# /hello로 경로로 접근할 때, test()함수를 실행시켜라..\n",
    "@app.route('/hello_flask') \n",
    "def test():\n",
    "    return 'hello flask'\n",
    "\n",
    "if __name__ == '__main__':\n",
    "    app.run(host='127.0.0.1', port = '8080') # webserver 실행,위치:현재 local pc에, 8080포트로"
   ]
  },
  {
   "cell_type": "code",
   "execution_count": null,
   "id": "416d2014",
   "metadata": {},
   "outputs": [],
   "source": []
  },
  {
   "cell_type": "code",
   "execution_count": null,
   "id": "161bb247",
   "metadata": {},
   "outputs": [],
   "source": []
  },
  {
   "cell_type": "code",
   "execution_count": 4,
   "id": "8a1d8ea5",
   "metadata": {
    "ExecuteTime": {
     "end_time": "2022-05-19T02:07:09.487484Z",
     "start_time": "2022-05-19T02:07:09.481501Z"
    }
   },
   "outputs": [],
   "source": [
    "def log_func():\n",
    "    print('logging')"
   ]
  },
  {
   "cell_type": "code",
   "execution_count": 5,
   "id": "5b55ac91",
   "metadata": {
    "ExecuteTime": {
     "end_time": "2022-05-19T02:07:09.677139Z",
     "start_time": "2022-05-19T02:07:09.672121Z"
    }
   },
   "outputs": [],
   "source": [
    "def outer_func(function):  # 함수를 매개변수로 받음\n",
    "    def inner_func():  # 내부함수: 받은 함수를 실행시키면서 새로운 내용을 부가\n",
    "        print('decoration added')\n",
    "        function()\n",
    "    return inner_func # 내부함수를 리턴"
   ]
  },
  {
   "cell_type": "code",
   "execution_count": 7,
   "id": "aad0b2a0",
   "metadata": {
    "ExecuteTime": {
     "end_time": "2022-05-19T02:10:12.393125Z",
     "start_time": "2022-05-19T02:10:12.377193Z"
    }
   },
   "outputs": [
    {
     "name": "stdout",
     "output_type": "stream",
     "text": [
      "decoration added\n",
      "logging\n"
     ]
    }
   ],
   "source": [
    "return_func = outer_func(log_func)\n",
    "return_func()"
   ]
  },
  {
   "cell_type": "code",
   "execution_count": 8,
   "id": "12118a3f",
   "metadata": {
    "ExecuteTime": {
     "end_time": "2022-05-19T02:10:13.346123Z",
     "start_time": "2022-05-19T02:10:13.336139Z"
    }
   },
   "outputs": [],
   "source": [
    "@outer_func\n",
    "def log_func():\n",
    "    print('logging')"
   ]
  },
  {
   "cell_type": "code",
   "execution_count": 10,
   "id": "f5506194",
   "metadata": {
    "ExecuteTime": {
     "end_time": "2022-05-19T02:13:07.161569Z",
     "start_time": "2022-05-19T02:13:07.143648Z"
    }
   },
   "outputs": [
    {
     "name": "stdout",
     "output_type": "stream",
     "text": [
      "decoration added\n",
      "logging\n"
     ]
    }
   ],
   "source": [
    "log_func()"
   ]
  },
  {
   "cell_type": "code",
   "execution_count": null,
   "id": "8fe24d38",
   "metadata": {},
   "outputs": [],
   "source": []
  },
  {
   "cell_type": "code",
   "execution_count": null,
   "id": "314738ad",
   "metadata": {},
   "outputs": [],
   "source": []
  },
  {
   "cell_type": "code",
   "execution_count": 11,
   "id": "63507a86",
   "metadata": {
    "ExecuteTime": {
     "end_time": "2022-05-19T02:45:04.070979Z",
     "start_time": "2022-05-19T02:16:47.358503Z"
    }
   },
   "outputs": [
    {
     "name": "stdout",
     "output_type": "stream",
     "text": [
      " * Serving Flask app \"__main__\" (lazy loading)\n",
      " * Environment: production\n",
      "\u001b[31m   WARNING: This is a development server. Do not use it in a production deployment.\u001b[0m\n",
      "\u001b[2m   Use a production WSGI server instead.\u001b[0m\n",
      " * Debug mode: off\n"
     ]
    },
    {
     "name": "stderr",
     "output_type": "stream",
     "text": [
      " * Running on all addresses.\n",
      "   WARNING: This is a development server. Do not use it in a production deployment.\n",
      " * Running on http://192.168.0.17:8080/ (Press CTRL+C to quit)\n",
      "127.0.0.1 - - [19/May/2022 11:17:24] \"GET / HTTP/1.1\" 200 -\n",
      "127.0.0.1 - - [19/May/2022 11:17:41] \"GET /first HTTP/1.1\" 200 -\n",
      "127.0.0.1 - - [19/May/2022 11:17:52] \"GET /hello HTTP/1.1\" 200 -\n",
      "127.0.0.1 - - [19/May/2022 11:18:05] \"GET / HTTP/1.1\" 200 -\n",
      "127.0.0.1 - - [19/May/2022 11:30:09] \"GET /profile/kim HTTP/1.1\" 404 -\n",
      "127.0.0.1 - - [19/May/2022 11:30:49] \"GET /first HTTP/1.1\" 200 -\n",
      "127.0.0.1 - - [19/May/2022 11:30:57] \"GET / HTTP/1.1\" 200 -\n"
     ]
    }
   ],
   "source": [
    "from flask import Flask\n",
    "\n",
    "app = Flask(__name__)\n",
    "\n",
    "@app.route('/')\n",
    "def hello():\n",
    "    return '<h1>Hello World</h1>'\n",
    "\n",
    "@app.route('/hello')\n",
    "def hellow_flask():\n",
    "    return \"<h2>Hello Flask!!</h2>\"\n",
    "\n",
    "@app.route('/first')\n",
    "def hello_first():\n",
    "    return \"<h3>Hello First</h3>\"\n",
    "\n",
    "if __name__ == '__main__':\n",
    "    app.run(host='0.0.0.0', port='8080')"
   ]
  },
  {
   "cell_type": "code",
   "execution_count": null,
   "id": "dbbbcd4c",
   "metadata": {},
   "outputs": [],
   "source": []
  },
  {
   "cell_type": "code",
   "execution_count": null,
   "id": "1798a3a1",
   "metadata": {},
   "outputs": [],
   "source": [
    "google_html = \"\"\"\n",
    "\n",
    "\"\"\""
   ]
  },
  {
   "cell_type": "code",
   "execution_count": 12,
   "id": "50c2103c",
   "metadata": {
    "ExecuteTime": {
     "end_time": "2022-05-19T02:45:33.929445Z",
     "start_time": "2022-05-19T02:45:04.103619Z"
    }
   },
   "outputs": [
    {
     "name": "stdout",
     "output_type": "stream",
     "text": [
      " * Serving Flask app \"__main__\" (lazy loading)\n",
      " * Environment: production\n",
      "\u001b[31m   WARNING: This is a development server. Do not use it in a production deployment.\u001b[0m\n",
      "\u001b[2m   Use a production WSGI server instead.\u001b[0m\n",
      " * Debug mode: off\n"
     ]
    },
    {
     "name": "stderr",
     "output_type": "stream",
     "text": [
      " * Running on all addresses.\n",
      "   WARNING: This is a development server. Do not use it in a production deployment.\n",
      " * Running on http://192.168.0.17:8080/ (Press CTRL+C to quit)\n"
     ]
    }
   ],
   "source": [
    "from flask import Flask\n",
    "\n",
    "app = Flask(__name__)\n",
    "\n",
    "@app.route('/')\n",
    "def hello():\n",
    "    return '<h1>Hello World</h1>'\n",
    "\n",
    "\n",
    "@app.route('/profile/<username>')\n",
    "def get_profile(username):\n",
    "    return 'profile: '+ username\n",
    "\n",
    "@app.route('/profile/<username>')\n",
    "def get_first():\n",
    "    return '<h3>Hello '+ username + '!</h3>'\n",
    "\n",
    "@app.route('/first')\n",
    "def hello_first():\n",
    "    return \"<h3>Hello First</h3>\"\n",
    "\n",
    "if __name__ == '__main__':\n",
    "    app.run(host='0.0.0.0', port='8080')"
   ]
  },
  {
   "cell_type": "code",
   "execution_count": null,
   "id": "bc6c5422",
   "metadata": {},
   "outputs": [],
   "source": []
  },
  {
   "cell_type": "code",
   "execution_count": 13,
   "id": "b381ea35",
   "metadata": {
    "ExecuteTime": {
     "end_time": "2022-05-19T02:45:33.975725Z",
     "start_time": "2022-05-19T02:45:33.963224Z"
    }
   },
   "outputs": [],
   "source": [
    "# 데이터를 리턴\n",
    "# rest api"
   ]
  },
  {
   "cell_type": "code",
   "execution_count": 14,
   "id": "f738a737",
   "metadata": {
    "ExecuteTime": {
     "end_time": "2022-05-19T02:45:34.021918Z",
     "start_time": "2022-05-19T02:45:34.007595Z"
    }
   },
   "outputs": [],
   "source": [
    "from flask import Flask, jsonify"
   ]
  },
  {
   "cell_type": "code",
   "execution_count": 18,
   "id": "a9bf89a1",
   "metadata": {
    "ExecuteTime": {
     "end_time": "2022-05-19T02:53:41.762333Z",
     "start_time": "2022-05-19T02:49:51.636712Z"
    }
   },
   "outputs": [
    {
     "name": "stdout",
     "output_type": "stream",
     "text": [
      " * Serving Flask app \"__main__\" (lazy loading)\n",
      " * Environment: production\n",
      "\u001b[31m   WARNING: This is a development server. Do not use it in a production deployment.\u001b[0m\n",
      "\u001b[2m   Use a production WSGI server instead.\u001b[0m\n",
      " * Debug mode: off\n"
     ]
    },
    {
     "name": "stderr",
     "output_type": "stream",
     "text": [
      " * Running on all addresses.\n",
      "   WARNING: This is a development server. Do not use it in a production deployment.\n",
      " * Running on http://192.168.0.17:8080/ (Press CTRL+C to quit)\n",
      "127.0.0.1 - - [19/May/2022 11:50:07] \"GET /server_info HTTP/1.1\" 200 -\n",
      "127.0.0.1 - - [19/May/2022 11:53:26] \"GET /login HTTP/1.1\" 404 -\n"
     ]
    }
   ],
   "source": [
    "app = Flask(__name__)\n",
    "\n",
    "@app.route('/json_test')\n",
    "def hello_json():\n",
    "    data = {'name': '대기', 'familiy': '김'}\n",
    "    return jsonify(data)\n",
    "\n",
    "@app.route('/server_info')\n",
    "def server_json():\n",
    "    data = {'server_name': '0.0.0.0', 'server_port': '8080'}\n",
    "    return jsonify(data)\n",
    "\n",
    "if __name__ == '__main__':\n",
    "    app.run(host='0.0.0.0', port = '8080')"
   ]
  },
  {
   "cell_type": "code",
   "execution_count": null,
   "id": "e1b55761",
   "metadata": {},
   "outputs": [],
   "source": []
  },
  {
   "cell_type": "code",
   "execution_count": 21,
   "id": "f971dfd7",
   "metadata": {
    "ExecuteTime": {
     "end_time": "2022-05-19T03:12:30.486234Z",
     "start_time": "2022-05-19T02:54:10.187894Z"
    }
   },
   "outputs": [
    {
     "name": "stdout",
     "output_type": "stream",
     "text": [
      " * Serving Flask app \"__main__\" (lazy loading)\n",
      " * Environment: production\n",
      "\u001b[31m   WARNING: This is a development server. Do not use it in a production deployment.\u001b[0m\n",
      "\u001b[2m   Use a production WSGI server instead.\u001b[0m\n",
      " * Debug mode: off\n"
     ]
    },
    {
     "name": "stderr",
     "output_type": "stream",
     "text": [
      " * Running on all addresses.\n",
      "   WARNING: This is a development server. Do not use it in a production deployment.\n",
      " * Running on http://192.168.0.17:8080/ (Press CTRL+C to quit)\n",
      "127.0.0.1 - - [19/May/2022 11:54:13] \"GET /login HTTP/1.1\" 404 -\n",
      "127.0.0.1 - - [19/May/2022 11:54:16] \"GET /login HTTP/1.1\" 404 -\n",
      "127.0.0.1 - - [19/May/2022 11:55:23] \"GET /login?user_name=dave HTTP/1.1\" 200 -\n"
     ]
    }
   ],
   "source": [
    "from flask import Flask, jsonify, request\n",
    "\n",
    "app = Flask(__name__)\n",
    "\n",
    "@app.route('/login')\n",
    "def login():\n",
    "    username = request.args.get('user_name')\n",
    "    if username == 'dave':\n",
    "        return_data = {'auth':'success'}\n",
    "    else:\n",
    "        return_data = {'auth':'failed'}\n",
    "        \n",
    "    return jsonify(return_data)\n",
    "\n",
    "if __name__ == '__main__':\n",
    "    app.run(host='0.0.0.0', port= '8080')\n",
    "\n",
    "    \n",
    "# http://localhost:8080/login?user_name=dave"
   ]
  },
  {
   "cell_type": "code",
   "execution_count": null,
   "id": "a92486cf",
   "metadata": {},
   "outputs": [],
   "source": []
  },
  {
   "cell_type": "code",
   "execution_count": null,
   "id": "7686bc7c",
   "metadata": {},
   "outputs": [],
   "source": []
  },
  {
   "cell_type": "code",
   "execution_count": null,
   "id": "f18a6c69",
   "metadata": {},
   "outputs": [],
   "source": [
    "# jinja2 템플릿\n",
    "\n",
    "# {{변수명}}\n",
    "\n",
    "# {% 파이썬 소스코드 %}"
   ]
  },
  {
   "cell_type": "code",
   "execution_count": null,
   "id": "a7401dde",
   "metadata": {},
   "outputs": [],
   "source": []
  }
 ],
 "metadata": {
  "kernelspec": {
   "display_name": "Python 3 (ipykernel)",
   "language": "python",
   "name": "python3"
  },
  "language_info": {
   "codemirror_mode": {
    "name": "ipython",
    "version": 3
   },
   "file_extension": ".py",
   "mimetype": "text/x-python",
   "name": "python",
   "nbconvert_exporter": "python",
   "pygments_lexer": "ipython3",
   "version": "3.9.7"
  },
  "toc": {
   "base_numbering": 1,
   "nav_menu": {},
   "number_sections": true,
   "sideBar": true,
   "skip_h1_title": false,
   "title_cell": "Table of Contents",
   "title_sidebar": "Contents",
   "toc_cell": false,
   "toc_position": {},
   "toc_section_display": true,
   "toc_window_display": false
  },
  "varInspector": {
   "cols": {
    "lenName": 16,
    "lenType": 16,
    "lenVar": 40
   },
   "kernels_config": {
    "python": {
     "delete_cmd_postfix": "",
     "delete_cmd_prefix": "del ",
     "library": "var_list.py",
     "varRefreshCmd": "print(var_dic_list())"
    },
    "r": {
     "delete_cmd_postfix": ") ",
     "delete_cmd_prefix": "rm(",
     "library": "var_list.r",
     "varRefreshCmd": "cat(var_dic_list()) "
    }
   },
   "types_to_exclude": [
    "module",
    "function",
    "builtin_function_or_method",
    "instance",
    "_Feature"
   ],
   "window_display": false
  }
 },
 "nbformat": 4,
 "nbformat_minor": 5
}
