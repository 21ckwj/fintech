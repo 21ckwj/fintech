{
 "cells": [
  {
   "cell_type": "code",
   "execution_count": 1,
   "id": "a6251e0b",
   "metadata": {
    "ExecuteTime": {
     "end_time": "2022-05-24T05:22:16.971050Z",
     "start_time": "2022-05-24T05:22:16.917633Z"
    }
   },
   "outputs": [],
   "source": [
    "import sys\n",
    "import PyQt5\n",
    "from PyQt5.QtGui import * \n",
    "from PyQt5.QtCore import *\n",
    "from PyQt5.QtWidgets import *"
   ]
  },
  {
   "cell_type": "code",
   "execution_count": 2,
   "id": "d3204ced",
   "metadata": {
    "ExecuteTime": {
     "end_time": "2022-05-24T05:22:17.658879Z",
     "start_time": "2022-05-24T05:22:17.651897Z"
    }
   },
   "outputs": [],
   "source": [
    "class MainDialog(QDialog):\n",
    "    def __init__(self):\n",
    "        QDialog.__init__(self,None)\n",
    "        self.setFixedSize(300,200)\n",
    "        self.lineEdit = QLineEdit(self)\n",
    "        self.pushButton = QPushButton(self)\n",
    "        self.pushButton.move(0,100)"
   ]
  },
  {
   "cell_type": "code",
   "execution_count": 3,
   "id": "b984ca3b",
   "metadata": {
    "ExecuteTime": {
     "end_time": "2022-05-24T05:22:18.109440Z",
     "start_time": "2022-05-24T05:22:18.084228Z"
    }
   },
   "outputs": [],
   "source": [
    "app = QApplication(sys.argv)"
   ]
  },
  {
   "cell_type": "code",
   "execution_count": 4,
   "id": "fee24754",
   "metadata": {
    "ExecuteTime": {
     "end_time": "2022-05-24T05:22:18.510949Z",
     "start_time": "2022-05-24T05:22:18.500977Z"
    }
   },
   "outputs": [
    {
     "name": "stdout",
     "output_type": "stream",
     "text": [
      "['C:\\\\Users\\\\bitcamp\\\\anaconda3\\\\lib\\\\site-packages\\\\ipykernel_launcher.py', '-f', 'C:\\\\Users\\\\bitcamp\\\\AppData\\\\Roaming\\\\jupyter\\\\runtime\\\\kernel-51d429bc-ce20-4ab0-b04b-971aa7f61460.json']\n"
     ]
    }
   ],
   "source": [
    "print(sys.argv)  # 파일의 절대 경로"
   ]
  },
  {
   "cell_type": "code",
   "execution_count": 5,
   "id": "a44c04ac",
   "metadata": {
    "ExecuteTime": {
     "end_time": "2022-05-24T05:22:18.884799Z",
     "start_time": "2022-05-24T05:22:18.852977Z"
    }
   },
   "outputs": [],
   "source": [
    "main_dialog = MainDialog()\n",
    "main_dialog.show()"
   ]
  },
  {
   "cell_type": "code",
   "execution_count": null,
   "id": "e0406867",
   "metadata": {},
   "outputs": [],
   "source": []
  },
  {
   "cell_type": "code",
   "execution_count": null,
   "id": "c7e534be",
   "metadata": {},
   "outputs": [],
   "source": []
  },
  {
   "cell_type": "code",
   "execution_count": null,
   "id": "704fb204",
   "metadata": {},
   "outputs": [],
   "source": []
  },
  {
   "cell_type": "code",
   "execution_count": null,
   "id": "30564718",
   "metadata": {},
   "outputs": [],
   "source": []
  },
  {
   "cell_type": "code",
   "execution_count": null,
   "id": "296899b2",
   "metadata": {},
   "outputs": [],
   "source": []
  },
  {
   "cell_type": "code",
   "execution_count": null,
   "id": "2bcb6a30",
   "metadata": {},
   "outputs": [],
   "source": []
  },
  {
   "cell_type": "code",
   "execution_count": null,
   "id": "f9f2fa87",
   "metadata": {},
   "outputs": [],
   "source": []
  },
  {
   "cell_type": "code",
   "execution_count": null,
   "id": "2259829c",
   "metadata": {},
   "outputs": [],
   "source": []
  },
  {
   "cell_type": "code",
   "execution_count": null,
   "id": "8c7e496a",
   "metadata": {},
   "outputs": [],
   "source": []
  },
  {
   "cell_type": "code",
   "execution_count": null,
   "id": "83fade5d",
   "metadata": {},
   "outputs": [],
   "source": []
  },
  {
   "cell_type": "code",
   "execution_count": null,
   "id": "506fe1d1",
   "metadata": {},
   "outputs": [],
   "source": []
  },
  {
   "cell_type": "code",
   "execution_count": null,
   "id": "8fea8387",
   "metadata": {},
   "outputs": [],
   "source": []
  },
  {
   "cell_type": "code",
   "execution_count": null,
   "id": "1ba94b26",
   "metadata": {},
   "outputs": [],
   "source": []
  }
 ],
 "metadata": {
  "kernelspec": {
   "display_name": "Python 3 (ipykernel)",
   "language": "python",
   "name": "python3"
  },
  "language_info": {
   "codemirror_mode": {
    "name": "ipython",
    "version": 3
   },
   "file_extension": ".py",
   "mimetype": "text/x-python",
   "name": "python",
   "nbconvert_exporter": "python",
   "pygments_lexer": "ipython3",
   "version": "3.9.7"
  },
  "toc": {
   "base_numbering": 1,
   "nav_menu": {},
   "number_sections": true,
   "sideBar": true,
   "skip_h1_title": false,
   "title_cell": "Table of Contents",
   "title_sidebar": "Contents",
   "toc_cell": false,
   "toc_position": {},
   "toc_section_display": true,
   "toc_window_display": false
  },
  "varInspector": {
   "cols": {
    "lenName": 16,
    "lenType": 16,
    "lenVar": 40
   },
   "kernels_config": {
    "python": {
     "delete_cmd_postfix": "",
     "delete_cmd_prefix": "del ",
     "library": "var_list.py",
     "varRefreshCmd": "print(var_dic_list())"
    },
    "r": {
     "delete_cmd_postfix": ") ",
     "delete_cmd_prefix": "rm(",
     "library": "var_list.r",
     "varRefreshCmd": "cat(var_dic_list()) "
    }
   },
   "types_to_exclude": [
    "module",
    "function",
    "builtin_function_or_method",
    "instance",
    "_Feature"
   ],
   "window_display": false
  }
 },
 "nbformat": 4,
 "nbformat_minor": 5
}
