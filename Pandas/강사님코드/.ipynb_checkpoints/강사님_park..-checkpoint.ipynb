{
 "cells": [
  {
   "cell_type": "code",
   "execution_count": 4,
   "id": "391f2298",
   "metadata": {},
   "outputs": [],
   "source": [
    "import pandas as pd\n",
    "import numpy as np\n",
    "import matplotlib.pyplot as plt\n",
    "import seaborn as sns"
   ]
  },
  {
   "cell_type": "code",
   "execution_count": 5,
   "id": "9f85e713",
   "metadata": {},
   "outputs": [],
   "source": [
    "import warnings\n",
    "warnings.filterwarnings(action='ignore') "
   ]
  },
  {
   "cell_type": "code",
   "execution_count": 6,
   "id": "23ce7d5c",
   "metadata": {},
   "outputs": [],
   "source": [
    "\n",
    "import matplotlib as mpl\n",
    "import matplotlib.font_manager as fm\n",
    "\n",
    "mpl.rcParams['axes.unicode_minus'] = False\n",
    "\n",
    "path = 'C:/Windows/Fonts/malgun.ttf'\n",
    "font_name = fm.FontProperties(fname=path, size=50).get_name()\n",
    "plt.rc('font', family=font_name)"
   ]
  },
  {
   "cell_type": "code",
   "execution_count": null,
   "id": "3da6c812",
   "metadata": {},
   "outputs": [],
   "source": []
  },
  {
   "cell_type": "code",
   "execution_count": 9,
   "id": "0d849ddf",
   "metadata": {},
   "outputs": [],
   "source": [
    "df = pd.read_csv('./Pandas_data_file//전국도시공원표준데이터.csv', encoding='cp949')"
   ]
  },
  {
   "cell_type": "code",
   "execution_count": 10,
   "id": "c1133859",
   "metadata": {},
   "outputs": [
    {
     "data": {
      "text/html": [
       "<div>\n",
       "<style scoped>\n",
       "    .dataframe tbody tr th:only-of-type {\n",
       "        vertical-align: middle;\n",
       "    }\n",
       "\n",
       "    .dataframe tbody tr th {\n",
       "        vertical-align: top;\n",
       "    }\n",
       "\n",
       "    .dataframe thead th {\n",
       "        text-align: right;\n",
       "    }\n",
       "</style>\n",
       "<table border=\"1\" class=\"dataframe\">\n",
       "  <thead>\n",
       "    <tr style=\"text-align: right;\">\n",
       "      <th></th>\n",
       "      <th>관리번호</th>\n",
       "      <th>공원명</th>\n",
       "      <th>공원구분</th>\n",
       "      <th>소재지도로명주소</th>\n",
       "      <th>소재지지번주소</th>\n",
       "      <th>위도</th>\n",
       "      <th>경도</th>\n",
       "      <th>공원면적</th>\n",
       "      <th>공원보유시설(운동시설)</th>\n",
       "      <th>공원보유시설(유희시설)</th>\n",
       "      <th>공원보유시설(편익시설)</th>\n",
       "      <th>공원보유시설(교양시설)</th>\n",
       "      <th>공원보유시설(기타시설)</th>\n",
       "      <th>지정고시일</th>\n",
       "      <th>관리기관명</th>\n",
       "      <th>전화번호</th>\n",
       "      <th>데이터기준일자</th>\n",
       "      <th>제공기관코드</th>\n",
       "      <th>제공기관명</th>\n",
       "      <th>Unnamed: 19</th>\n",
       "    </tr>\n",
       "  </thead>\n",
       "  <tbody>\n",
       "    <tr>\n",
       "      <th>0</th>\n",
       "      <td>26440-00001</td>\n",
       "      <td>구랑공원</td>\n",
       "      <td>문화공원</td>\n",
       "      <td>NaN</td>\n",
       "      <td>부산광역시 강서구 구랑동 1199-7</td>\n",
       "      <td>35.157215</td>\n",
       "      <td>128.854935</td>\n",
       "      <td>9137.0</td>\n",
       "      <td>4</td>\n",
       "      <td>NaN</td>\n",
       "      <td>화장실</td>\n",
       "      <td>NaN</td>\n",
       "      <td>팔각정자, 파고라2, 평의자6, 앉음벽14.38m, 축구장(골대2), 컨테이너, 안...</td>\n",
       "      <td>2011-09-02</td>\n",
       "      <td>부산광역시 강서구청 녹지공원과</td>\n",
       "      <td>051-970-4536</td>\n",
       "      <td>2019-05-02</td>\n",
       "      <td>3360000</td>\n",
       "      <td>부산광역시 강서구</td>\n",
       "      <td>NaN</td>\n",
       "    </tr>\n",
       "    <tr>\n",
       "      <th>1</th>\n",
       "      <td>26440-00002</td>\n",
       "      <td>압곡공원</td>\n",
       "      <td>근린공원</td>\n",
       "      <td>NaN</td>\n",
       "      <td>부산광역시 강서구 구랑동 1219</td>\n",
       "      <td>35.154655</td>\n",
       "      <td>128.854727</td>\n",
       "      <td>33756.0</td>\n",
       "      <td>4</td>\n",
       "      <td>NaN</td>\n",
       "      <td>NaN</td>\n",
       "      <td>NaN</td>\n",
       "      <td>배드민턴장, 족구장, 파고라4, 안내판, 볼라드7, 데크435.11㎡, 데크계단19...</td>\n",
       "      <td>2008-02-28</td>\n",
       "      <td>부산광역시 강서구청 녹지공원과</td>\n",
       "      <td>051-970-4536</td>\n",
       "      <td>2019-05-02</td>\n",
       "      <td>3360000</td>\n",
       "      <td>부산광역시 강서구</td>\n",
       "      <td>NaN</td>\n",
       "    </tr>\n",
       "    <tr>\n",
       "      <th>2</th>\n",
       "      <td>26440-00003</td>\n",
       "      <td>서연정공원</td>\n",
       "      <td>소공원</td>\n",
       "      <td>NaN</td>\n",
       "      <td>부산광역시 강서구 대저1동 1330-7</td>\n",
       "      <td>35.216183</td>\n",
       "      <td>128.969558</td>\n",
       "      <td>646.0</td>\n",
       "      <td>7</td>\n",
       "      <td>NaN</td>\n",
       "      <td>NaN</td>\n",
       "      <td>NaN</td>\n",
       "      <td>앉음벽13.57m, 트렐리스3, 안내판2, 플랜트2, 파고라, 평의자4</td>\n",
       "      <td>2013-01-23</td>\n",
       "      <td>부산광역시 강서구청 녹지공원과</td>\n",
       "      <td>051-970-4536</td>\n",
       "      <td>2019-05-02</td>\n",
       "      <td>3360000</td>\n",
       "      <td>부산광역시 강서구</td>\n",
       "      <td>NaN</td>\n",
       "    </tr>\n",
       "    <tr>\n",
       "      <th>3</th>\n",
       "      <td>26440-00004</td>\n",
       "      <td>용두공원</td>\n",
       "      <td>어린이공원</td>\n",
       "      <td>NaN</td>\n",
       "      <td>부산광역시 강서구 대저2동 1870-67</td>\n",
       "      <td>35.183679</td>\n",
       "      <td>128.956007</td>\n",
       "      <td>1620.0</td>\n",
       "      <td>NaN</td>\n",
       "      <td>조합놀이기구, 그네</td>\n",
       "      <td>NaN</td>\n",
       "      <td>NaN</td>\n",
       "      <td>정자, 농구장, 평의자6</td>\n",
       "      <td>1998-07-25</td>\n",
       "      <td>부산광역시 강서구청 녹지공원과</td>\n",
       "      <td>051-970-4536</td>\n",
       "      <td>2019-05-02</td>\n",
       "      <td>3360000</td>\n",
       "      <td>부산광역시 강서구</td>\n",
       "      <td>NaN</td>\n",
       "    </tr>\n",
       "    <tr>\n",
       "      <th>4</th>\n",
       "      <td>26440-00005</td>\n",
       "      <td>새동내공원</td>\n",
       "      <td>어린이공원</td>\n",
       "      <td>NaN</td>\n",
       "      <td>부산광역시 강서구 대저2동 2407-1</td>\n",
       "      <td>35.174568</td>\n",
       "      <td>128.950612</td>\n",
       "      <td>1009.0</td>\n",
       "      <td>8</td>\n",
       "      <td>조합놀이기구, 그네, 흔들놀이기구2</td>\n",
       "      <td>NaN</td>\n",
       "      <td>NaN</td>\n",
       "      <td>정자, 평의자14, 트렐리스2, 안내판, 볼라드</td>\n",
       "      <td>1995-04-07</td>\n",
       "      <td>부산광역시 강서구청 녹지공원과</td>\n",
       "      <td>051-970-4536</td>\n",
       "      <td>2019-05-02</td>\n",
       "      <td>3360000</td>\n",
       "      <td>부산광역시 강서구</td>\n",
       "      <td>NaN</td>\n",
       "    </tr>\n",
       "  </tbody>\n",
       "</table>\n",
       "</div>"
      ],
      "text/plain": [
       "          관리번호    공원명   공원구분 소재지도로명주소                 소재지지번주소         위도  \\\n",
       "0  26440-00001   구랑공원   문화공원      NaN    부산광역시 강서구 구랑동 1199-7  35.157215   \n",
       "1  26440-00002   압곡공원   근린공원      NaN      부산광역시 강서구 구랑동 1219  35.154655   \n",
       "2  26440-00003  서연정공원    소공원      NaN   부산광역시 강서구 대저1동 1330-7  35.216183   \n",
       "3  26440-00004   용두공원  어린이공원      NaN  부산광역시 강서구 대저2동 1870-67  35.183679   \n",
       "4  26440-00005  새동내공원  어린이공원      NaN   부산광역시 강서구 대저2동 2407-1  35.174568   \n",
       "\n",
       "           경도     공원면적 공원보유시설(운동시설)         공원보유시설(유희시설) 공원보유시설(편익시설)  \\\n",
       "0  128.854935   9137.0            4                  NaN          화장실   \n",
       "1  128.854727  33756.0            4                  NaN          NaN   \n",
       "2  128.969558    646.0            7                  NaN          NaN   \n",
       "3  128.956007   1620.0          NaN           조합놀이기구, 그네          NaN   \n",
       "4  128.950612   1009.0            8  조합놀이기구, 그네, 흔들놀이기구2          NaN   \n",
       "\n",
       "  공원보유시설(교양시설)                                       공원보유시설(기타시설)       지정고시일  \\\n",
       "0          NaN  팔각정자, 파고라2, 평의자6, 앉음벽14.38m, 축구장(골대2), 컨테이너, 안...  2011-09-02   \n",
       "1          NaN  배드민턴장, 족구장, 파고라4, 안내판, 볼라드7, 데크435.11㎡, 데크계단19...  2008-02-28   \n",
       "2          NaN            앉음벽13.57m, 트렐리스3, 안내판2, 플랜트2, 파고라, 평의자4  2013-01-23   \n",
       "3          NaN                                      정자, 농구장, 평의자6  1998-07-25   \n",
       "4          NaN                         정자, 평의자14, 트렐리스2, 안내판, 볼라드  1995-04-07   \n",
       "\n",
       "              관리기관명          전화번호     데이터기준일자   제공기관코드      제공기관명  Unnamed: 19  \n",
       "0  부산광역시 강서구청 녹지공원과  051-970-4536  2019-05-02  3360000  부산광역시 강서구          NaN  \n",
       "1  부산광역시 강서구청 녹지공원과  051-970-4536  2019-05-02  3360000  부산광역시 강서구          NaN  \n",
       "2  부산광역시 강서구청 녹지공원과  051-970-4536  2019-05-02  3360000  부산광역시 강서구          NaN  \n",
       "3  부산광역시 강서구청 녹지공원과  051-970-4536  2019-05-02  3360000  부산광역시 강서구          NaN  \n",
       "4  부산광역시 강서구청 녹지공원과  051-970-4536  2019-05-02  3360000  부산광역시 강서구          NaN  "
      ]
     },
     "execution_count": 10,
     "metadata": {},
     "output_type": "execute_result"
    }
   ],
   "source": [
    "df.head()"
   ]
  },
  {
   "cell_type": "code",
   "execution_count": null,
   "id": "27253860",
   "metadata": {},
   "outputs": [],
   "source": []
  },
  {
   "cell_type": "code",
   "execution_count": 11,
   "id": "6e752c13",
   "metadata": {},
   "outputs": [],
   "source": [
    "# pandas profiling\n",
    "# - dataframe을 report로 만들어주는 모듈.."
   ]
  },
  {
   "cell_type": "code",
   "execution_count": 12,
   "id": "f30a0992",
   "metadata": {},
   "outputs": [],
   "source": [
    "# !pip install pandas-profiling"
   ]
  },
  {
   "cell_type": "code",
   "execution_count": null,
   "id": "6827c03f",
   "metadata": {},
   "outputs": [],
   "source": []
  },
  {
   "cell_type": "code",
   "execution_count": 13,
   "id": "5ffd2102",
   "metadata": {},
   "outputs": [],
   "source": [
    "import pandas_profiling"
   ]
  },
  {
   "cell_type": "code",
   "execution_count": 14,
   "id": "b477642f",
   "metadata": {},
   "outputs": [],
   "source": [
    "from pandas_profiling import ProfileReport"
   ]
  },
  {
   "cell_type": "code",
   "execution_count": 15,
   "id": "5450a276",
   "metadata": {},
   "outputs": [
    {
     "data": {
      "application/vnd.jupyter.widget-view+json": {
       "model_id": "fd0c4edac48d44e287a7a6d511570ee1",
       "version_major": 2,
       "version_minor": 0
      },
      "text/plain": [
       "Summarize dataset:   0%|          | 0/5 [00:00<?, ?it/s]"
      ]
     },
     "metadata": {},
     "output_type": "display_data"
    },
    {
     "data": {
      "application/vnd.jupyter.widget-view+json": {
       "model_id": "5ef26885c83e47579664e8525ccee097",
       "version_major": 2,
       "version_minor": 0
      },
      "text/plain": [
       "Generate report structure:   0%|          | 0/1 [00:00<?, ?it/s]"
      ]
     },
     "metadata": {},
     "output_type": "display_data"
    },
    {
     "data": {
      "application/vnd.jupyter.widget-view+json": {
       "model_id": "a2ef68da794d489ba9fb9754b8973ca2",
       "version_major": 2,
       "version_minor": 0
      },
      "text/plain": [
       "Render HTML:   0%|          | 0/1 [00:00<?, ?it/s]"
      ]
     },
     "metadata": {},
     "output_type": "display_data"
    },
    {
     "data": {
      "application/vnd.jupyter.widget-view+json": {
       "model_id": "8bf526d417d44a87ae13e655e3d4b0de",
       "version_major": 2,
       "version_minor": 0
      },
      "text/plain": [
       "Export report to file:   0%|          | 0/1 [00:00<?, ?it/s]"
      ]
     },
     "metadata": {},
     "output_type": "display_data"
    }
   ],
   "source": [
    "profile = ProfileReport(df, title='도시공원 표준 데이터')\n",
    "profile.to_file(output_file='05-park_pandas_profile.html')"
   ]
  },
  {
   "cell_type": "code",
   "execution_count": null,
   "id": "df6fcdca",
   "metadata": {},
   "outputs": [],
   "source": []
  },
  {
   "cell_type": "code",
   "execution_count": 16,
   "id": "97195f7e",
   "metadata": {},
   "outputs": [
    {
     "name": "stdout",
     "output_type": "stream",
     "text": [
      "<class 'pandas.core.frame.DataFrame'>\n",
      "RangeIndex: 18137 entries, 0 to 18136\n",
      "Data columns (total 20 columns):\n",
      " #   Column        Non-Null Count  Dtype  \n",
      "---  ------        --------------  -----  \n",
      " 0   관리번호          18137 non-null  object \n",
      " 1   공원명           18137 non-null  object \n",
      " 2   공원구분          18137 non-null  object \n",
      " 3   소재지도로명주소      8039 non-null   object \n",
      " 4   소재지지번주소       17158 non-null  object \n",
      " 5   위도            18137 non-null  float64\n",
      " 6   경도            18137 non-null  float64\n",
      " 7   공원면적          18137 non-null  float64\n",
      " 8   공원보유시설(운동시설)  4845 non-null   object \n",
      " 9   공원보유시설(유희시설)  6964 non-null   object \n",
      " 10  공원보유시설(편익시설)  5084 non-null   object \n",
      " 11  공원보유시설(교양시설)  1160 non-null   object \n",
      " 12  공원보유시설(기타시설)  3116 non-null   object \n",
      " 13  지정고시일         15225 non-null  object \n",
      " 14  관리기관명         17383 non-null  object \n",
      " 15  전화번호          16957 non-null  object \n",
      " 16  데이터기준일자       18137 non-null  object \n",
      " 17  제공기관코드        18137 non-null  object \n",
      " 18  제공기관명         18137 non-null  object \n",
      " 19  Unnamed: 19   0 non-null      float64\n",
      "dtypes: float64(4), object(16)\n",
      "memory usage: 2.8+ MB\n"
     ]
    }
   ],
   "source": [
    "df.info()"
   ]
  },
  {
   "cell_type": "code",
   "execution_count": 17,
   "id": "c5803a84",
   "metadata": {},
   "outputs": [
    {
     "data": {
      "text/html": [
       "<div>\n",
       "<style scoped>\n",
       "    .dataframe tbody tr th:only-of-type {\n",
       "        vertical-align: middle;\n",
       "    }\n",
       "\n",
       "    .dataframe tbody tr th {\n",
       "        vertical-align: top;\n",
       "    }\n",
       "\n",
       "    .dataframe thead th {\n",
       "        text-align: right;\n",
       "    }\n",
       "</style>\n",
       "<table border=\"1\" class=\"dataframe\">\n",
       "  <thead>\n",
       "    <tr style=\"text-align: right;\">\n",
       "      <th></th>\n",
       "      <th>위도</th>\n",
       "      <th>경도</th>\n",
       "      <th>공원면적</th>\n",
       "      <th>Unnamed: 19</th>\n",
       "    </tr>\n",
       "  </thead>\n",
       "  <tbody>\n",
       "    <tr>\n",
       "      <th>count</th>\n",
       "      <td>18137.000000</td>\n",
       "      <td>18137.000000</td>\n",
       "      <td>1.813700e+04</td>\n",
       "      <td>0.0</td>\n",
       "    </tr>\n",
       "    <tr>\n",
       "      <th>mean</th>\n",
       "      <td>36.335922</td>\n",
       "      <td>127.543937</td>\n",
       "      <td>3.781196e+04</td>\n",
       "      <td>NaN</td>\n",
       "    </tr>\n",
       "    <tr>\n",
       "      <th>std</th>\n",
       "      <td>1.051835</td>\n",
       "      <td>0.892670</td>\n",
       "      <td>2.203052e+05</td>\n",
       "      <td>NaN</td>\n",
       "    </tr>\n",
       "    <tr>\n",
       "      <th>min</th>\n",
       "      <td>27.551606</td>\n",
       "      <td>125.430955</td>\n",
       "      <td>0.000000e+00</td>\n",
       "      <td>NaN</td>\n",
       "    </tr>\n",
       "    <tr>\n",
       "      <th>25%</th>\n",
       "      <td>35.275430</td>\n",
       "      <td>126.872301</td>\n",
       "      <td>1.503000e+03</td>\n",
       "      <td>NaN</td>\n",
       "    </tr>\n",
       "    <tr>\n",
       "      <th>50%</th>\n",
       "      <td>36.364729</td>\n",
       "      <td>127.130926</td>\n",
       "      <td>2.159000e+03</td>\n",
       "      <td>NaN</td>\n",
       "    </tr>\n",
       "    <tr>\n",
       "      <th>75%</th>\n",
       "      <td>37.404278</td>\n",
       "      <td>128.466193</td>\n",
       "      <td>1.025460e+04</td>\n",
       "      <td>NaN</td>\n",
       "    </tr>\n",
       "    <tr>\n",
       "      <th>max</th>\n",
       "      <td>38.224926</td>\n",
       "      <td>137.202661</td>\n",
       "      <td>8.703000e+06</td>\n",
       "      <td>NaN</td>\n",
       "    </tr>\n",
       "  </tbody>\n",
       "</table>\n",
       "</div>"
      ],
      "text/plain": [
       "                 위도            경도          공원면적  Unnamed: 19\n",
       "count  18137.000000  18137.000000  1.813700e+04          0.0\n",
       "mean      36.335922    127.543937  3.781196e+04          NaN\n",
       "std        1.051835      0.892670  2.203052e+05          NaN\n",
       "min       27.551606    125.430955  0.000000e+00          NaN\n",
       "25%       35.275430    126.872301  1.503000e+03          NaN\n",
       "50%       36.364729    127.130926  2.159000e+03          NaN\n",
       "75%       37.404278    128.466193  1.025460e+04          NaN\n",
       "max       38.224926    137.202661  8.703000e+06          NaN"
      ]
     },
     "execution_count": 17,
     "metadata": {},
     "output_type": "execute_result"
    }
   ],
   "source": [
    "df.describe()"
   ]
  },
  {
   "cell_type": "code",
   "execution_count": null,
   "id": "2c1b5fd1",
   "metadata": {},
   "outputs": [],
   "source": []
  },
  {
   "cell_type": "code",
   "execution_count": 18,
   "id": "d373d070",
   "metadata": {},
   "outputs": [
    {
     "data": {
      "text/plain": [
       "관리번호                0\n",
       "공원명                 0\n",
       "공원구분                0\n",
       "소재지도로명주소        10098\n",
       "소재지지번주소           979\n",
       "위도                  0\n",
       "경도                  0\n",
       "공원면적                0\n",
       "공원보유시설(운동시설)    13292\n",
       "공원보유시설(유희시설)    11173\n",
       "공원보유시설(편익시설)    13053\n",
       "공원보유시설(교양시설)    16977\n",
       "공원보유시설(기타시설)    15021\n",
       "지정고시일            2912\n",
       "관리기관명             754\n",
       "전화번호             1180\n",
       "데이터기준일자             0\n",
       "제공기관코드              0\n",
       "제공기관명               0\n",
       "Unnamed: 19     18137\n",
       "dtype: int64"
      ]
     },
     "execution_count": 18,
     "metadata": {},
     "output_type": "execute_result"
    }
   ],
   "source": [
    "df.isna().sum()"
   ]
  },
  {
   "cell_type": "code",
   "execution_count": 19,
   "id": "2e144a7c",
   "metadata": {},
   "outputs": [
    {
     "data": {
      "text/plain": [
       "관리번호            0.000000\n",
       "공원명             0.000000\n",
       "공원구분            0.000000\n",
       "소재지도로명주소        0.556762\n",
       "소재지지번주소         0.053978\n",
       "위도              0.000000\n",
       "경도              0.000000\n",
       "공원면적            0.000000\n",
       "공원보유시설(운동시설)    0.732867\n",
       "공원보유시설(유희시설)    0.616034\n",
       "공원보유시설(편익시설)    0.719689\n",
       "공원보유시설(교양시설)    0.936042\n",
       "공원보유시설(기타시설)    0.828197\n",
       "지정고시일           0.160556\n",
       "관리기관명           0.041572\n",
       "전화번호            0.065060\n",
       "데이터기준일자         0.000000\n",
       "제공기관코드          0.000000\n",
       "제공기관명           0.000000\n",
       "Unnamed: 19     1.000000\n",
       "dtype: float64"
      ]
     },
     "execution_count": 19,
     "metadata": {},
     "output_type": "execute_result"
    }
   ],
   "source": [
    "df.isna().mean()"
   ]
  },
  {
   "cell_type": "code",
   "execution_count": null,
   "id": "c600549f",
   "metadata": {},
   "outputs": [],
   "source": []
  },
  {
   "cell_type": "code",
   "execution_count": 20,
   "id": "571195f0",
   "metadata": {},
   "outputs": [],
   "source": [
    "sns.set(font = 'Malgun Gothic',\n",
    "       rc={\"axes.unicode_minus\":False},\n",
    "       style = 'darkgrid')"
   ]
  },
  {
   "cell_type": "code",
   "execution_count": 21,
   "id": "862e9e57",
   "metadata": {},
   "outputs": [],
   "source": [
    "import matplotlib.pyplot as plt"
   ]
  },
  {
   "cell_type": "code",
   "execution_count": 22,
   "id": "656f5be7",
   "metadata": {},
   "outputs": [
    {
     "name": "stdout",
     "output_type": "stream",
     "text": [
      "Requirement already satisfied: missingno in c:\\users\\bitcamp\\anaconda3\\lib\\site-packages (0.5.0)\n",
      "Requirement already satisfied: seaborn in c:\\users\\bitcamp\\anaconda3\\lib\\site-packages (from missingno) (0.11.2)\n",
      "Requirement already satisfied: scipy in c:\\users\\bitcamp\\anaconda3\\lib\\site-packages (from missingno) (1.7.1)\n",
      "Requirement already satisfied: numpy in c:\\users\\bitcamp\\anaconda3\\lib\\site-packages (from missingno) (1.20.3)\n",
      "Requirement already satisfied: matplotlib in c:\\users\\bitcamp\\anaconda3\\lib\\site-packages (from missingno) (3.4.3)\n",
      "Requirement already satisfied: kiwisolver>=1.0.1 in c:\\users\\bitcamp\\anaconda3\\lib\\site-packages (from matplotlib->missingno) (1.3.1)\n",
      "Requirement already satisfied: python-dateutil>=2.7 in c:\\users\\bitcamp\\anaconda3\\lib\\site-packages (from matplotlib->missingno) (2.8.2)\n",
      "Requirement already satisfied: pillow>=6.2.0 in c:\\users\\bitcamp\\anaconda3\\lib\\site-packages (from matplotlib->missingno) (8.4.0)\n",
      "Requirement already satisfied: pyparsing>=2.2.1 in c:\\users\\bitcamp\\anaconda3\\lib\\site-packages (from matplotlib->missingno) (3.0.4)\n",
      "Requirement already satisfied: cycler>=0.10 in c:\\users\\bitcamp\\anaconda3\\lib\\site-packages (from matplotlib->missingno) (0.10.0)\n",
      "Requirement already satisfied: six in c:\\users\\bitcamp\\anaconda3\\lib\\site-packages (from cycler>=0.10->matplotlib->missingno) (1.16.0)\n",
      "Requirement already satisfied: pandas>=0.23 in c:\\users\\bitcamp\\anaconda3\\lib\\site-packages (from seaborn->missingno) (1.3.4)\n",
      "Requirement already satisfied: pytz>=2017.3 in c:\\users\\bitcamp\\anaconda3\\lib\\site-packages (from pandas>=0.23->seaborn->missingno) (2021.3)\n"
     ]
    }
   ],
   "source": [
    "!pip install missingno"
   ]
  },
  {
   "cell_type": "code",
   "execution_count": 23,
   "id": "07917924",
   "metadata": {},
   "outputs": [
    {
     "name": "stdout",
     "output_type": "stream",
     "text": [
      "^C\n"
     ]
    }
   ],
   "source": [
    "!conda install -c conda-forge missingno"
   ]
  },
  {
   "cell_type": "code",
   "execution_count": 24,
   "id": "b275bc46",
   "metadata": {},
   "outputs": [],
   "source": [
    "import missingno"
   ]
  },
  {
   "cell_type": "code",
   "execution_count": 25,
   "id": "454f3d65",
   "metadata": {},
   "outputs": [
    {
     "data": {
      "text/plain": [
       "<AxesSubplot:>"
      ]
     },
     "execution_count": 25,
     "metadata": {},
     "output_type": "execute_result"
    },
    {
     "data": {
      "image/png": "[encoded data removed]",
      "text/plain": [
       "<Figure size 1800x720 with 2 Axes>"
      ]
     },
     "metadata": {
      "needs_background": "light"
     },
     "output_type": "display_data"
    }
   ],
   "source": [
    "%matplotlib inline\n",
    "missingno.matrix(df)"
   ]
  },
  {
   "cell_type": "code",
   "execution_count": null,
   "id": "b6fef232",
   "metadata": {},
   "outputs": [],
   "source": []
  },
  {
   "cell_type": "code",
   "execution_count": 26,
   "id": "8294ae80",
   "metadata": {},
   "outputs": [
    {
     "data": {
      "text/plain": [
       "Index(['관리번호', '공원명', '공원구분', '소재지도로명주소', '소재지지번주소', '위도', '경도', '공원면적',\n",
       "       '공원보유시설(운동시설)', '공원보유시설(유희시설)', '공원보유시설(편익시설)', '공원보유시설(교양시설)',\n",
       "       '공원보유시설(기타시설)', '지정고시일', '관리기관명', '전화번호', '데이터기준일자', '제공기관코드', '제공기관명',\n",
       "       'Unnamed: 19'],\n",
       "      dtype='object')"
      ]
     },
     "execution_count": 26,
     "metadata": {},
     "output_type": "execute_result"
    }
   ],
   "source": [
    "df.columns"
   ]
  },
  {
   "cell_type": "code",
   "execution_count": 27,
   "id": "bdb98022",
   "metadata": {},
   "outputs": [],
   "source": [
    "df.drop('Unnamed: 19', axis=1, inplace=True)"
   ]
  },
  {
   "cell_type": "code",
   "execution_count": 28,
   "id": "22ab1a75",
   "metadata": {},
   "outputs": [
    {
     "data": {
      "text/plain": [
       "소재지도로명주소    10098\n",
       "소재지지번주소       979\n",
       "dtype: int64"
      ]
     },
     "execution_count": 28,
     "metadata": {},
     "output_type": "execute_result"
    }
   ],
   "source": [
    "df[['소재지도로명주소', '소재지지번주소']].isna().sum()"
   ]
  },
  {
   "cell_type": "code",
   "execution_count": null,
   "id": "e97e45db",
   "metadata": {},
   "outputs": [],
   "source": []
  },
  {
   "cell_type": "code",
   "execution_count": 29,
   "id": "fdc56fa1",
   "metadata": {},
   "outputs": [
    {
     "data": {
      "text/plain": [
       "0        False\n",
       "1        False\n",
       "2        False\n",
       "3        False\n",
       "4        False\n",
       "         ...  \n",
       "18132    False\n",
       "18133    False\n",
       "18134    False\n",
       "18135    False\n",
       "18136    False\n",
       "Length: 18137, dtype: bool"
      ]
     },
     "execution_count": 29,
     "metadata": {},
     "output_type": "execute_result"
    }
   ],
   "source": [
    "# 도로명주소와 지번주소 모두가 결측치인 데이터의 수..\n",
    "\n",
    "(df['소재지도로명주소'].isna()) & (df['소재지지번주소'].isna())"
   ]
  },
  {
   "cell_type": "code",
   "execution_count": null,
   "id": "e16edbcb",
   "metadata": {},
   "outputs": [],
   "source": []
  },
  {
   "cell_type": "code",
   "execution_count": 30,
   "id": "443e3dc7",
   "metadata": {},
   "outputs": [
    {
     "data": {
      "text/plain": [
       "10098"
      ]
     },
     "execution_count": 30,
     "metadata": {},
     "output_type": "execute_result"
    }
   ],
   "source": [
    "sum(df['소재지도로명주소'].isna())"
   ]
  },
  {
   "cell_type": "code",
   "execution_count": 31,
   "id": "0a1bea5c",
   "metadata": {},
   "outputs": [
    {
     "data": {
      "text/plain": [
       "0          부산광역시 강서구 구랑동 1199-7\n",
       "1            부산광역시 강서구 구랑동 1219\n",
       "2         부산광역시 강서구 대저1동 1330-7\n",
       "3        부산광역시 강서구 대저2동 1870-67\n",
       "4         부산광역시 강서구 대저2동 2407-1\n",
       "                  ...          \n",
       "18132        인천광역시 동구 송림동 291-6\n",
       "18133      경상북도 영양군 영양읍 서부리 123\n",
       "18134    경상북도 영양군 입암면 신구리 산27-5\n",
       "18135      경상북도 영양군 수비면 발리리 산48\n",
       "18136      경상북도 영양군 영양읍 삼지리 200\n",
       "Name: 소재지지번주소, Length: 18137, dtype: object"
      ]
     },
     "execution_count": 31,
     "metadata": {},
     "output_type": "execute_result"
    }
   ],
   "source": [
    "df['소재지지번주소']"
   ]
  },
  {
   "cell_type": "code",
   "execution_count": null,
   "id": "e6d46d53",
   "metadata": {},
   "outputs": [],
   "source": []
  },
  {
   "cell_type": "code",
   "execution_count": 32,
   "id": "8e106018",
   "metadata": {},
   "outputs": [],
   "source": [
    "df['소재지도로명주소'] = df['소재지도로명주소'].fillna(df['소재지지번주소'])"
   ]
  },
  {
   "cell_type": "code",
   "execution_count": 33,
   "id": "ce223b58",
   "metadata": {},
   "outputs": [
    {
     "data": {
      "text/plain": [
       "0"
      ]
     },
     "execution_count": 33,
     "metadata": {},
     "output_type": "execute_result"
    }
   ],
   "source": [
    "df['소재지도로명주소'].isna().sum()"
   ]
  },
  {
   "cell_type": "code",
   "execution_count": null,
   "id": "b9954c10",
   "metadata": {},
   "outputs": [],
   "source": []
  },
  {
   "cell_type": "code",
   "execution_count": 34,
   "id": "8c54052e",
   "metadata": {},
   "outputs": [
    {
     "data": {
      "text/plain": [
       "0          부산광역시 강서구 구랑동 1199-7\n",
       "1            부산광역시 강서구 구랑동 1219\n",
       "2         부산광역시 강서구 대저1동 1330-7\n",
       "3        부산광역시 강서구 대저2동 1870-67\n",
       "4         부산광역시 강서구 대저2동 2407-1\n",
       "                  ...          \n",
       "18132        인천광역시 동구 송림동 291-6\n",
       "18133      경상북도 영양군 영양읍 서부리 123\n",
       "18134    경상북도 영양군 입암면 신구리 산27-5\n",
       "18135      경상북도 영양군 수비면 발리리 산48\n",
       "18136      경상북도 영양군 영양읍 삼지리 200\n",
       "Name: 소재지도로명주소, Length: 18137, dtype: object"
      ]
     },
     "execution_count": 34,
     "metadata": {},
     "output_type": "execute_result"
    }
   ],
   "source": [
    "df['소재지도로명주소']"
   ]
  },
  {
   "cell_type": "code",
   "execution_count": null,
   "id": "509fc8ce",
   "metadata": {},
   "outputs": [],
   "source": []
  },
  {
   "cell_type": "code",
   "execution_count": 35,
   "id": "8d54ecd1",
   "metadata": {},
   "outputs": [
    {
     "data": {
      "text/html": [
       "<div>\n",
       "<style scoped>\n",
       "    .dataframe tbody tr th:only-of-type {\n",
       "        vertical-align: middle;\n",
       "    }\n",
       "\n",
       "    .dataframe tbody tr th {\n",
       "        vertical-align: top;\n",
       "    }\n",
       "\n",
       "    .dataframe thead th {\n",
       "        text-align: right;\n",
       "    }\n",
       "</style>\n",
       "<table border=\"1\" class=\"dataframe\">\n",
       "  <thead>\n",
       "    <tr style=\"text-align: right;\">\n",
       "      <th></th>\n",
       "      <th>0</th>\n",
       "      <th>1</th>\n",
       "      <th>2</th>\n",
       "      <th>3</th>\n",
       "      <th>4</th>\n",
       "      <th>5</th>\n",
       "      <th>6</th>\n",
       "      <th>7</th>\n",
       "      <th>8</th>\n",
       "    </tr>\n",
       "  </thead>\n",
       "  <tbody>\n",
       "    <tr>\n",
       "      <th>0</th>\n",
       "      <td>부산광역시</td>\n",
       "      <td>강서구</td>\n",
       "      <td>구랑동</td>\n",
       "      <td>1199-7</td>\n",
       "      <td>None</td>\n",
       "      <td>None</td>\n",
       "      <td>None</td>\n",
       "      <td>None</td>\n",
       "      <td>None</td>\n",
       "    </tr>\n",
       "    <tr>\n",
       "      <th>1</th>\n",
       "      <td>부산광역시</td>\n",
       "      <td>강서구</td>\n",
       "      <td>구랑동</td>\n",
       "      <td>1219</td>\n",
       "      <td>None</td>\n",
       "      <td>None</td>\n",
       "      <td>None</td>\n",
       "      <td>None</td>\n",
       "      <td>None</td>\n",
       "    </tr>\n",
       "    <tr>\n",
       "      <th>2</th>\n",
       "      <td>부산광역시</td>\n",
       "      <td>강서구</td>\n",
       "      <td>대저1동</td>\n",
       "      <td>1330-7</td>\n",
       "      <td>None</td>\n",
       "      <td>None</td>\n",
       "      <td>None</td>\n",
       "      <td>None</td>\n",
       "      <td>None</td>\n",
       "    </tr>\n",
       "    <tr>\n",
       "      <th>3</th>\n",
       "      <td>부산광역시</td>\n",
       "      <td>강서구</td>\n",
       "      <td>대저2동</td>\n",
       "      <td>1870-67</td>\n",
       "      <td>None</td>\n",
       "      <td>None</td>\n",
       "      <td>None</td>\n",
       "      <td>None</td>\n",
       "      <td>None</td>\n",
       "    </tr>\n",
       "    <tr>\n",
       "      <th>4</th>\n",
       "      <td>부산광역시</td>\n",
       "      <td>강서구</td>\n",
       "      <td>대저2동</td>\n",
       "      <td>2407-1</td>\n",
       "      <td>None</td>\n",
       "      <td>None</td>\n",
       "      <td>None</td>\n",
       "      <td>None</td>\n",
       "      <td>None</td>\n",
       "    </tr>\n",
       "    <tr>\n",
       "      <th>...</th>\n",
       "      <td>...</td>\n",
       "      <td>...</td>\n",
       "      <td>...</td>\n",
       "      <td>...</td>\n",
       "      <td>...</td>\n",
       "      <td>...</td>\n",
       "      <td>...</td>\n",
       "      <td>...</td>\n",
       "      <td>...</td>\n",
       "    </tr>\n",
       "    <tr>\n",
       "      <th>18132</th>\n",
       "      <td>인천광역시</td>\n",
       "      <td>동구</td>\n",
       "      <td>송림동</td>\n",
       "      <td>291-6</td>\n",
       "      <td>None</td>\n",
       "      <td>None</td>\n",
       "      <td>None</td>\n",
       "      <td>None</td>\n",
       "      <td>None</td>\n",
       "    </tr>\n",
       "    <tr>\n",
       "      <th>18133</th>\n",
       "      <td>경상북도</td>\n",
       "      <td>영양군</td>\n",
       "      <td>영양읍</td>\n",
       "      <td>서부리</td>\n",
       "      <td>123</td>\n",
       "      <td>None</td>\n",
       "      <td>None</td>\n",
       "      <td>None</td>\n",
       "      <td>None</td>\n",
       "    </tr>\n",
       "    <tr>\n",
       "      <th>18134</th>\n",
       "      <td>경상북도</td>\n",
       "      <td>영양군</td>\n",
       "      <td>입암면</td>\n",
       "      <td>신구리</td>\n",
       "      <td>산27-5</td>\n",
       "      <td>None</td>\n",
       "      <td>None</td>\n",
       "      <td>None</td>\n",
       "      <td>None</td>\n",
       "    </tr>\n",
       "    <tr>\n",
       "      <th>18135</th>\n",
       "      <td>경상북도</td>\n",
       "      <td>영양군</td>\n",
       "      <td>수비면</td>\n",
       "      <td>발리리</td>\n",
       "      <td>산48</td>\n",
       "      <td>None</td>\n",
       "      <td>None</td>\n",
       "      <td>None</td>\n",
       "      <td>None</td>\n",
       "    </tr>\n",
       "    <tr>\n",
       "      <th>18136</th>\n",
       "      <td>경상북도</td>\n",
       "      <td>영양군</td>\n",
       "      <td>영양읍</td>\n",
       "      <td>삼지리</td>\n",
       "      <td>200</td>\n",
       "      <td>None</td>\n",
       "      <td>None</td>\n",
       "      <td>None</td>\n",
       "      <td>None</td>\n",
       "    </tr>\n",
       "  </tbody>\n",
       "</table>\n",
       "<p>18137 rows × 9 columns</p>\n",
       "</div>"
      ],
      "text/plain": [
       "           0    1     2        3      4     5     6     7     8\n",
       "0      부산광역시  강서구   구랑동   1199-7   None  None  None  None  None\n",
       "1      부산광역시  강서구   구랑동     1219   None  None  None  None  None\n",
       "2      부산광역시  강서구  대저1동   1330-7   None  None  None  None  None\n",
       "3      부산광역시  강서구  대저2동  1870-67   None  None  None  None  None\n",
       "4      부산광역시  강서구  대저2동   2407-1   None  None  None  None  None\n",
       "...      ...  ...   ...      ...    ...   ...   ...   ...   ...\n",
       "18132  인천광역시   동구   송림동    291-6   None  None  None  None  None\n",
       "18133   경상북도  영양군   영양읍      서부리    123  None  None  None  None\n",
       "18134   경상북도  영양군   입암면      신구리  산27-5  None  None  None  None\n",
       "18135   경상북도  영양군   수비면      발리리    산48  None  None  None  None\n",
       "18136   경상북도  영양군   영양읍      삼지리    200  None  None  None  None\n",
       "\n",
       "[18137 rows x 9 columns]"
      ]
     },
     "execution_count": 35,
     "metadata": {},
     "output_type": "execute_result"
    }
   ],
   "source": [
    "df['소재지도로명주소'].str.split(expand=True)"
   ]
  },
  {
   "cell_type": "code",
   "execution_count": 36,
   "id": "b7dfbabf",
   "metadata": {},
   "outputs": [
    {
     "data": {
      "text/plain": [
       "0           [부산광역시, 강서구, 구랑동, 1199-7]\n",
       "1             [부산광역시, 강서구, 구랑동, 1219]\n",
       "2          [부산광역시, 강서구, 대저1동, 1330-7]\n",
       "3         [부산광역시, 강서구, 대저2동, 1870-67]\n",
       "4          [부산광역시, 강서구, 대저2동, 2407-1]\n",
       "                     ...             \n",
       "18132         [인천광역시, 동구, 송림동, 291-6]\n",
       "18133      [경상북도, 영양군, 영양읍, 서부리, 123]\n",
       "18134    [경상북도, 영양군, 입암면, 신구리, 산27-5]\n",
       "18135      [경상북도, 영양군, 수비면, 발리리, 산48]\n",
       "18136      [경상북도, 영양군, 영양읍, 삼지리, 200]\n",
       "Name: 소재지도로명주소, Length: 18137, dtype: object"
      ]
     },
     "execution_count": 36,
     "metadata": {},
     "output_type": "execute_result"
    }
   ],
   "source": [
    "df['소재지도로명주소'].apply(lambda x: x.split())"
   ]
  },
  {
   "cell_type": "code",
   "execution_count": null,
   "id": "38b05812",
   "metadata": {},
   "outputs": [],
   "source": []
  },
  {
   "cell_type": "code",
   "execution_count": 37,
   "id": "1d4c9c83",
   "metadata": {},
   "outputs": [],
   "source": [
    "df['시도'] = df['소재지도로명주소'].apply(lambda x: x.split()[0])\n",
    "df['구군'] = df['소재지도로명주소'].apply(lambda x: x.split()[1])"
   ]
  },
  {
   "cell_type": "code",
   "execution_count": null,
   "id": "376f79c0",
   "metadata": {},
   "outputs": [],
   "source": []
  },
  {
   "cell_type": "code",
   "execution_count": 38,
   "id": "66957d51",
   "metadata": {},
   "outputs": [
    {
     "data": {
      "text/html": [
       "<div>\n",
       "<style scoped>\n",
       "    .dataframe tbody tr th:only-of-type {\n",
       "        vertical-align: middle;\n",
       "    }\n",
       "\n",
       "    .dataframe tbody tr th {\n",
       "        vertical-align: top;\n",
       "    }\n",
       "\n",
       "    .dataframe thead th {\n",
       "        text-align: right;\n",
       "    }\n",
       "</style>\n",
       "<table border=\"1\" class=\"dataframe\">\n",
       "  <thead>\n",
       "    <tr style=\"text-align: right;\">\n",
       "      <th></th>\n",
       "      <th>소재지도로명주소</th>\n",
       "      <th>시도</th>\n",
       "      <th>구군</th>\n",
       "    </tr>\n",
       "  </thead>\n",
       "  <tbody>\n",
       "    <tr>\n",
       "      <th>0</th>\n",
       "      <td>부산광역시 강서구 구랑동 1199-7</td>\n",
       "      <td>부산광역시</td>\n",
       "      <td>강서구</td>\n",
       "    </tr>\n",
       "    <tr>\n",
       "      <th>1</th>\n",
       "      <td>부산광역시 강서구 구랑동 1219</td>\n",
       "      <td>부산광역시</td>\n",
       "      <td>강서구</td>\n",
       "    </tr>\n",
       "    <tr>\n",
       "      <th>2</th>\n",
       "      <td>부산광역시 강서구 대저1동 1330-7</td>\n",
       "      <td>부산광역시</td>\n",
       "      <td>강서구</td>\n",
       "    </tr>\n",
       "    <tr>\n",
       "      <th>3</th>\n",
       "      <td>부산광역시 강서구 대저2동 1870-67</td>\n",
       "      <td>부산광역시</td>\n",
       "      <td>강서구</td>\n",
       "    </tr>\n",
       "    <tr>\n",
       "      <th>4</th>\n",
       "      <td>부산광역시 강서구 대저2동 2407-1</td>\n",
       "      <td>부산광역시</td>\n",
       "      <td>강서구</td>\n",
       "    </tr>\n",
       "    <tr>\n",
       "      <th>...</th>\n",
       "      <td>...</td>\n",
       "      <td>...</td>\n",
       "      <td>...</td>\n",
       "    </tr>\n",
       "    <tr>\n",
       "      <th>18132</th>\n",
       "      <td>인천광역시 동구 송림동 291-6</td>\n",
       "      <td>인천광역시</td>\n",
       "      <td>동구</td>\n",
       "    </tr>\n",
       "    <tr>\n",
       "      <th>18133</th>\n",
       "      <td>경상북도 영양군 영양읍 서부리 123</td>\n",
       "      <td>경상북도</td>\n",
       "      <td>영양군</td>\n",
       "    </tr>\n",
       "    <tr>\n",
       "      <th>18134</th>\n",
       "      <td>경상북도 영양군 입암면 신구리 산27-5</td>\n",
       "      <td>경상북도</td>\n",
       "      <td>영양군</td>\n",
       "    </tr>\n",
       "    <tr>\n",
       "      <th>18135</th>\n",
       "      <td>경상북도 영양군 수비면 발리리 산48</td>\n",
       "      <td>경상북도</td>\n",
       "      <td>영양군</td>\n",
       "    </tr>\n",
       "    <tr>\n",
       "      <th>18136</th>\n",
       "      <td>경상북도 영양군 영양읍 삼지리 200</td>\n",
       "      <td>경상북도</td>\n",
       "      <td>영양군</td>\n",
       "    </tr>\n",
       "  </tbody>\n",
       "</table>\n",
       "<p>18137 rows × 3 columns</p>\n",
       "</div>"
      ],
      "text/plain": [
       "                     소재지도로명주소     시도   구군\n",
       "0        부산광역시 강서구 구랑동 1199-7  부산광역시  강서구\n",
       "1          부산광역시 강서구 구랑동 1219  부산광역시  강서구\n",
       "2       부산광역시 강서구 대저1동 1330-7  부산광역시  강서구\n",
       "3      부산광역시 강서구 대저2동 1870-67  부산광역시  강서구\n",
       "4       부산광역시 강서구 대저2동 2407-1  부산광역시  강서구\n",
       "...                       ...    ...  ...\n",
       "18132      인천광역시 동구 송림동 291-6  인천광역시   동구\n",
       "18133    경상북도 영양군 영양읍 서부리 123   경상북도  영양군\n",
       "18134  경상북도 영양군 입암면 신구리 산27-5   경상북도  영양군\n",
       "18135    경상북도 영양군 수비면 발리리 산48   경상북도  영양군\n",
       "18136    경상북도 영양군 영양읍 삼지리 200   경상북도  영양군\n",
       "\n",
       "[18137 rows x 3 columns]"
      ]
     },
     "execution_count": 38,
     "metadata": {},
     "output_type": "execute_result"
    }
   ],
   "source": [
    "df[['소재지도로명주소','시도','구군']]"
   ]
  },
  {
   "cell_type": "code",
   "execution_count": null,
   "id": "120f01de",
   "metadata": {},
   "outputs": [],
   "source": []
  },
  {
   "cell_type": "code",
   "execution_count": 39,
   "id": "c17b175a",
   "metadata": {},
   "outputs": [
    {
     "data": {
      "text/plain": [
       "경기도        3318\n",
       "전라남도       1882\n",
       "경상남도       1825\n",
       "서울특별시      1745\n",
       "충청남도       1723\n",
       "전라북도       1137\n",
       "경상북도        917\n",
       "충청북도        899\n",
       "울산광역시       887\n",
       "인천광역시       675\n",
       "부산광역시       653\n",
       "강원도         647\n",
       "대구광역시       586\n",
       "대전광역시       497\n",
       "광주광역시       429\n",
       "제주특별자치도     246\n",
       "세종특별자치시      70\n",
       "강원            1\n",
       "Name: 시도, dtype: int64"
      ]
     },
     "execution_count": 39,
     "metadata": {},
     "output_type": "execute_result"
    }
   ],
   "source": [
    "df['시도'].value_counts()"
   ]
  },
  {
   "cell_type": "code",
   "execution_count": 40,
   "id": "8d31eea8",
   "metadata": {},
   "outputs": [],
   "source": [
    "df['시도'] = df['시도'].replace('강원', '강원도')"
   ]
  },
  {
   "cell_type": "code",
   "execution_count": 41,
   "id": "98f62576",
   "metadata": {},
   "outputs": [
    {
     "data": {
      "text/plain": [
       "경기도        3318\n",
       "전라남도       1882\n",
       "경상남도       1825\n",
       "서울특별시      1745\n",
       "충청남도       1723\n",
       "전라북도       1137\n",
       "경상북도        917\n",
       "충청북도        899\n",
       "울산광역시       887\n",
       "인천광역시       675\n",
       "부산광역시       653\n",
       "강원도         648\n",
       "대구광역시       586\n",
       "대전광역시       497\n",
       "광주광역시       429\n",
       "제주특별자치도     246\n",
       "세종특별자치시      70\n",
       "Name: 시도, dtype: int64"
      ]
     },
     "execution_count": 41,
     "metadata": {},
     "output_type": "execute_result"
    }
   ],
   "source": [
    "df['시도'].value_counts()"
   ]
  },
  {
   "cell_type": "code",
   "execution_count": null,
   "id": "f9120eee",
   "metadata": {},
   "outputs": [],
   "source": []
  },
  {
   "cell_type": "code",
   "execution_count": 42,
   "id": "488d3674",
   "metadata": {},
   "outputs": [],
   "source": [
    "# 위경도 시각화"
   ]
  },
  {
   "cell_type": "code",
   "execution_count": 43,
   "id": "4a138f7a",
   "metadata": {},
   "outputs": [
    {
     "data": {
      "text/html": [
       "<div>\n",
       "<style scoped>\n",
       "    .dataframe tbody tr th:only-of-type {\n",
       "        vertical-align: middle;\n",
       "    }\n",
       "\n",
       "    .dataframe tbody tr th {\n",
       "        vertical-align: top;\n",
       "    }\n",
       "\n",
       "    .dataframe thead th {\n",
       "        text-align: right;\n",
       "    }\n",
       "</style>\n",
       "<table border=\"1\" class=\"dataframe\">\n",
       "  <thead>\n",
       "    <tr style=\"text-align: right;\">\n",
       "      <th></th>\n",
       "      <th>관리번호</th>\n",
       "      <th>공원명</th>\n",
       "      <th>공원구분</th>\n",
       "      <th>소재지도로명주소</th>\n",
       "      <th>소재지지번주소</th>\n",
       "      <th>위도</th>\n",
       "      <th>경도</th>\n",
       "      <th>공원면적</th>\n",
       "      <th>공원보유시설(운동시설)</th>\n",
       "      <th>공원보유시설(유희시설)</th>\n",
       "      <th>...</th>\n",
       "      <th>공원보유시설(교양시설)</th>\n",
       "      <th>공원보유시설(기타시설)</th>\n",
       "      <th>지정고시일</th>\n",
       "      <th>관리기관명</th>\n",
       "      <th>전화번호</th>\n",
       "      <th>데이터기준일자</th>\n",
       "      <th>제공기관코드</th>\n",
       "      <th>제공기관명</th>\n",
       "      <th>시도</th>\n",
       "      <th>구군</th>\n",
       "    </tr>\n",
       "  </thead>\n",
       "  <tbody>\n",
       "    <tr>\n",
       "      <th>0</th>\n",
       "      <td>26440-00001</td>\n",
       "      <td>구랑공원</td>\n",
       "      <td>문화공원</td>\n",
       "      <td>부산광역시 강서구 구랑동 1199-7</td>\n",
       "      <td>부산광역시 강서구 구랑동 1199-7</td>\n",
       "      <td>35.157215</td>\n",
       "      <td>128.854935</td>\n",
       "      <td>9137.0</td>\n",
       "      <td>4</td>\n",
       "      <td>NaN</td>\n",
       "      <td>...</td>\n",
       "      <td>NaN</td>\n",
       "      <td>팔각정자, 파고라2, 평의자6, 앉음벽14.38m, 축구장(골대2), 컨테이너, 안...</td>\n",
       "      <td>2011-09-02</td>\n",
       "      <td>부산광역시 강서구청 녹지공원과</td>\n",
       "      <td>051-970-4536</td>\n",
       "      <td>2019-05-02</td>\n",
       "      <td>3360000</td>\n",
       "      <td>부산광역시 강서구</td>\n",
       "      <td>부산광역시</td>\n",
       "      <td>강서구</td>\n",
       "    </tr>\n",
       "    <tr>\n",
       "      <th>1</th>\n",
       "      <td>26440-00002</td>\n",
       "      <td>압곡공원</td>\n",
       "      <td>근린공원</td>\n",
       "      <td>부산광역시 강서구 구랑동 1219</td>\n",
       "      <td>부산광역시 강서구 구랑동 1219</td>\n",
       "      <td>35.154655</td>\n",
       "      <td>128.854727</td>\n",
       "      <td>33756.0</td>\n",
       "      <td>4</td>\n",
       "      <td>NaN</td>\n",
       "      <td>...</td>\n",
       "      <td>NaN</td>\n",
       "      <td>배드민턴장, 족구장, 파고라4, 안내판, 볼라드7, 데크435.11㎡, 데크계단19...</td>\n",
       "      <td>2008-02-28</td>\n",
       "      <td>부산광역시 강서구청 녹지공원과</td>\n",
       "      <td>051-970-4536</td>\n",
       "      <td>2019-05-02</td>\n",
       "      <td>3360000</td>\n",
       "      <td>부산광역시 강서구</td>\n",
       "      <td>부산광역시</td>\n",
       "      <td>강서구</td>\n",
       "    </tr>\n",
       "    <tr>\n",
       "      <th>2</th>\n",
       "      <td>26440-00003</td>\n",
       "      <td>서연정공원</td>\n",
       "      <td>소공원</td>\n",
       "      <td>부산광역시 강서구 대저1동 1330-7</td>\n",
       "      <td>부산광역시 강서구 대저1동 1330-7</td>\n",
       "      <td>35.216183</td>\n",
       "      <td>128.969558</td>\n",
       "      <td>646.0</td>\n",
       "      <td>7</td>\n",
       "      <td>NaN</td>\n",
       "      <td>...</td>\n",
       "      <td>NaN</td>\n",
       "      <td>앉음벽13.57m, 트렐리스3, 안내판2, 플랜트2, 파고라, 평의자4</td>\n",
       "      <td>2013-01-23</td>\n",
       "      <td>부산광역시 강서구청 녹지공원과</td>\n",
       "      <td>051-970-4536</td>\n",
       "      <td>2019-05-02</td>\n",
       "      <td>3360000</td>\n",
       "      <td>부산광역시 강서구</td>\n",
       "      <td>부산광역시</td>\n",
       "      <td>강서구</td>\n",
       "    </tr>\n",
       "    <tr>\n",
       "      <th>3</th>\n",
       "      <td>26440-00004</td>\n",
       "      <td>용두공원</td>\n",
       "      <td>어린이공원</td>\n",
       "      <td>부산광역시 강서구 대저2동 1870-67</td>\n",
       "      <td>부산광역시 강서구 대저2동 1870-67</td>\n",
       "      <td>35.183679</td>\n",
       "      <td>128.956007</td>\n",
       "      <td>1620.0</td>\n",
       "      <td>NaN</td>\n",
       "      <td>조합놀이기구, 그네</td>\n",
       "      <td>...</td>\n",
       "      <td>NaN</td>\n",
       "      <td>정자, 농구장, 평의자6</td>\n",
       "      <td>1998-07-25</td>\n",
       "      <td>부산광역시 강서구청 녹지공원과</td>\n",
       "      <td>051-970-4536</td>\n",
       "      <td>2019-05-02</td>\n",
       "      <td>3360000</td>\n",
       "      <td>부산광역시 강서구</td>\n",
       "      <td>부산광역시</td>\n",
       "      <td>강서구</td>\n",
       "    </tr>\n",
       "    <tr>\n",
       "      <th>4</th>\n",
       "      <td>26440-00005</td>\n",
       "      <td>새동내공원</td>\n",
       "      <td>어린이공원</td>\n",
       "      <td>부산광역시 강서구 대저2동 2407-1</td>\n",
       "      <td>부산광역시 강서구 대저2동 2407-1</td>\n",
       "      <td>35.174568</td>\n",
       "      <td>128.950612</td>\n",
       "      <td>1009.0</td>\n",
       "      <td>8</td>\n",
       "      <td>조합놀이기구, 그네, 흔들놀이기구2</td>\n",
       "      <td>...</td>\n",
       "      <td>NaN</td>\n",
       "      <td>정자, 평의자14, 트렐리스2, 안내판, 볼라드</td>\n",
       "      <td>1995-04-07</td>\n",
       "      <td>부산광역시 강서구청 녹지공원과</td>\n",
       "      <td>051-970-4536</td>\n",
       "      <td>2019-05-02</td>\n",
       "      <td>3360000</td>\n",
       "      <td>부산광역시 강서구</td>\n",
       "      <td>부산광역시</td>\n",
       "      <td>강서구</td>\n",
       "    </tr>\n",
       "  </tbody>\n",
       "</table>\n",
       "<p>5 rows × 21 columns</p>\n",
       "</div>"
      ],
      "text/plain": [
       "          관리번호    공원명   공원구분                소재지도로명주소                 소재지지번주소  \\\n",
       "0  26440-00001   구랑공원   문화공원    부산광역시 강서구 구랑동 1199-7    부산광역시 강서구 구랑동 1199-7   \n",
       "1  26440-00002   압곡공원   근린공원      부산광역시 강서구 구랑동 1219      부산광역시 강서구 구랑동 1219   \n",
       "2  26440-00003  서연정공원    소공원   부산광역시 강서구 대저1동 1330-7   부산광역시 강서구 대저1동 1330-7   \n",
       "3  26440-00004   용두공원  어린이공원  부산광역시 강서구 대저2동 1870-67  부산광역시 강서구 대저2동 1870-67   \n",
       "4  26440-00005  새동내공원  어린이공원   부산광역시 강서구 대저2동 2407-1   부산광역시 강서구 대저2동 2407-1   \n",
       "\n",
       "          위도          경도     공원면적 공원보유시설(운동시설)         공원보유시설(유희시설)  ...  \\\n",
       "0  35.157215  128.854935   9137.0            4                  NaN  ...   \n",
       "1  35.154655  128.854727  33756.0            4                  NaN  ...   \n",
       "2  35.216183  128.969558    646.0            7                  NaN  ...   \n",
       "3  35.183679  128.956007   1620.0          NaN           조합놀이기구, 그네  ...   \n",
       "4  35.174568  128.950612   1009.0            8  조합놀이기구, 그네, 흔들놀이기구2  ...   \n",
       "\n",
       "  공원보유시설(교양시설)                                       공원보유시설(기타시설)       지정고시일  \\\n",
       "0          NaN  팔각정자, 파고라2, 평의자6, 앉음벽14.38m, 축구장(골대2), 컨테이너, 안...  2011-09-02   \n",
       "1          NaN  배드민턴장, 족구장, 파고라4, 안내판, 볼라드7, 데크435.11㎡, 데크계단19...  2008-02-28   \n",
       "2          NaN            앉음벽13.57m, 트렐리스3, 안내판2, 플랜트2, 파고라, 평의자4  2013-01-23   \n",
       "3          NaN                                      정자, 농구장, 평의자6  1998-07-25   \n",
       "4          NaN                         정자, 평의자14, 트렐리스2, 안내판, 볼라드  1995-04-07   \n",
       "\n",
       "              관리기관명          전화번호     데이터기준일자   제공기관코드      제공기관명     시도   구군  \n",
       "0  부산광역시 강서구청 녹지공원과  051-970-4536  2019-05-02  3360000  부산광역시 강서구  부산광역시  강서구  \n",
       "1  부산광역시 강서구청 녹지공원과  051-970-4536  2019-05-02  3360000  부산광역시 강서구  부산광역시  강서구  \n",
       "2  부산광역시 강서구청 녹지공원과  051-970-4536  2019-05-02  3360000  부산광역시 강서구  부산광역시  강서구  \n",
       "3  부산광역시 강서구청 녹지공원과  051-970-4536  2019-05-02  3360000  부산광역시 강서구  부산광역시  강서구  \n",
       "4  부산광역시 강서구청 녹지공원과  051-970-4536  2019-05-02  3360000  부산광역시 강서구  부산광역시  강서구  \n",
       "\n",
       "[5 rows x 21 columns]"
      ]
     },
     "execution_count": 43,
     "metadata": {},
     "output_type": "execute_result"
    }
   ],
   "source": [
    "df.head()"
   ]
  },
  {
   "cell_type": "code",
   "execution_count": 44,
   "id": "3889e240",
   "metadata": {},
   "outputs": [
    {
     "data": {
      "text/plain": [
       "<AxesSubplot:xlabel='경도', ylabel='위도'>"
      ]
     },
     "execution_count": 44,
     "metadata": {},
     "output_type": "execute_result"
    },
    {
     "data": {
      "image/png": "[encoded data removed]",
      "text/plain": [
       "<Figure size 432x288 with 1 Axes>"
      ]
     },
     "metadata": {
      "needs_background": "light"
     },
     "output_type": "display_data"
    }
   ],
   "source": [
    "sns.scatterplot(data=df, x='경도', y='위도')"
   ]
  },
  {
   "cell_type": "code",
   "execution_count": 45,
   "id": "13a51028",
   "metadata": {},
   "outputs": [],
   "source": [
    "df1 = df[(df['경도'] < 132) & (df['위도'] > 32)]"
   ]
  },
  {
   "cell_type": "code",
   "execution_count": 46,
   "id": "7fe3c440",
   "metadata": {},
   "outputs": [
    {
     "data": {
      "text/plain": [
       "<AxesSubplot:xlabel='경도', ylabel='위도'>"
      ]
     },
     "execution_count": 46,
     "metadata": {},
     "output_type": "execute_result"
    },
    {
     "data": {
      "image/png": "[encoded data removed]",
      "text/plain": [
       "<Figure size 432x288 with 1 Axes>"
      ]
     },
     "metadata": {
      "needs_background": "light"
     },
     "output_type": "display_data"
    }
   ],
   "source": [
    "sns.scatterplot(data=df1, x='경도', y='위도')"
   ]
  },
  {
   "cell_type": "code",
   "execution_count": null,
   "id": "fa500268",
   "metadata": {},
   "outputs": [],
   "source": []
  },
  {
   "cell_type": "code",
   "execution_count": 47,
   "id": "c428ea1c",
   "metadata": {},
   "outputs": [],
   "source": [
    "# 카럼 데이터 타입 변경"
   ]
  },
  {
   "cell_type": "code",
   "execution_count": 48,
   "id": "6b4583a7",
   "metadata": {},
   "outputs": [
    {
     "data": {
      "text/plain": [
       "관리번호             object\n",
       "공원명              object\n",
       "공원구분             object\n",
       "소재지도로명주소         object\n",
       "소재지지번주소          object\n",
       "위도              float64\n",
       "경도              float64\n",
       "공원면적            float64\n",
       "공원보유시설(운동시설)     object\n",
       "공원보유시설(유희시설)     object\n",
       "공원보유시설(편익시설)     object\n",
       "공원보유시설(교양시설)     object\n",
       "공원보유시설(기타시설)     object\n",
       "지정고시일            object\n",
       "관리기관명            object\n",
       "전화번호             object\n",
       "데이터기준일자          object\n",
       "제공기관코드           object\n",
       "제공기관명            object\n",
       "시도               object\n",
       "구군               object\n",
       "dtype: object"
      ]
     },
     "execution_count": 48,
     "metadata": {},
     "output_type": "execute_result"
    }
   ],
   "source": [
    "df1.dtypes"
   ]
  },
  {
   "cell_type": "code",
   "execution_count": 49,
   "id": "9607c693",
   "metadata": {},
   "outputs": [
    {
     "ename": "TypeError",
     "evalue": "to_numeric() missing 1 required positional argument: 'arg'",
     "output_type": "error",
     "traceback": [
      "\u001b[1;31m---------------------------------------------------------------------------\u001b[0m",
      "\u001b[1;31mTypeError\u001b[0m                                 Traceback (most recent call last)",
      "\u001b[1;32m~\\AppData\\Local\\Temp/ipykernel_8340/2459631201.py\u001b[0m in \u001b[0;36m<module>\u001b[1;34m\u001b[0m\n\u001b[1;32m----> 1\u001b[1;33m \u001b[0mpd\u001b[0m\u001b[1;33m.\u001b[0m\u001b[0mto_numeric\u001b[0m\u001b[1;33m(\u001b[0m\u001b[1;33m)\u001b[0m\u001b[1;33m\u001b[0m\u001b[1;33m\u001b[0m\u001b[0m\n\u001b[0m",
      "\u001b[1;31mTypeError\u001b[0m: to_numeric() missing 1 required positional argument: 'arg'"
     ]
    }
   ],
   "source": [
    "pd.to_numeric()"
   ]
  },
  {
   "cell_type": "code",
   "execution_count": null,
   "id": "eb109cb1",
   "metadata": {},
   "outputs": [],
   "source": [
    "# df[col] = df[col].astype('int')\n",
    "# df[col] = df[col].astype('float')\n",
    "# df[col] = df[col].astype('str')\n",
    "\n",
    "# df[col] = pd.to_numeric(df[col], errors='raise')\n",
    "# df[col] = pd.to_datetime(df[col], errors='raise')\n",
    "\n",
    "# raise - error 발생\n",
    "# ignore -  변경하지 말고 원본데이터를 그대로 반환..\n",
    "# coerce - error를 nan값으로 처리"
   ]
  },
  {
   "cell_type": "code",
   "execution_count": null,
   "id": "301cae71",
   "metadata": {},
   "outputs": [],
   "source": [
    "df1['지정고시일'] = pd.to_datetime(df1['지정고시일'])"
   ]
  },
  {
   "cell_type": "code",
   "execution_count": null,
   "id": "74527d8b",
   "metadata": {},
   "outputs": [],
   "source": [
    "df1.dtypes"
   ]
  },
  {
   "cell_type": "code",
   "execution_count": null,
   "id": "8fc4e081",
   "metadata": {},
   "outputs": [],
   "source": [
    "df1['고시연도'] = df1['지정고시일'].dt.year\n",
    "df1['고시월'] = df1['지정고시일'].dt.month"
   ]
  },
  {
   "cell_type": "code",
   "execution_count": null,
   "id": "80bb70d7",
   "metadata": {},
   "outputs": [],
   "source": [
    "df1.head(2)"
   ]
  },
  {
   "cell_type": "code",
   "execution_count": null,
   "id": "c7fec04b",
   "metadata": {},
   "outputs": [],
   "source": []
  },
  {
   "cell_type": "code",
   "execution_count": null,
   "id": "f8060348",
   "metadata": {},
   "outputs": [],
   "source": [
    "# '화랑공원'의 고시연도를 출력하시오.."
   ]
  },
  {
   "cell_type": "code",
   "execution_count": null,
   "id": "d82b64cf",
   "metadata": {},
   "outputs": [],
   "source": [
    "df1[df1['공원명'].str.contains('화랑공원')]['시도'].loc[10763]"
   ]
  },
  {
   "cell_type": "code",
   "execution_count": null,
   "id": "7762f2f5",
   "metadata": {},
   "outputs": [],
   "source": [
    "df1.loc[10763]"
   ]
  },
  {
   "cell_type": "code",
   "execution_count": null,
   "id": "0bb0c12b",
   "metadata": {},
   "outputs": [],
   "source": []
  },
  {
   "cell_type": "code",
   "execution_count": null,
   "id": "be6eda58",
   "metadata": {},
   "outputs": [],
   "source": [
    "# 연도별 공원고시 수를 bar chart로 표시하시오."
   ]
  },
  {
   "cell_type": "code",
   "execution_count": null,
   "id": "4e8e2099",
   "metadata": {},
   "outputs": [],
   "source": [
    "df1.groupby('고시연도').위도.count().sort_index().plot(kind='bar', figsize=(15,5))"
   ]
  },
  {
   "cell_type": "code",
   "execution_count": null,
   "id": "632aba1c",
   "metadata": {},
   "outputs": [],
   "source": []
  },
  {
   "cell_type": "code",
   "execution_count": null,
   "id": "7aa0c8b9",
   "metadata": {},
   "outputs": [],
   "source": [
    "# 연도별 월별 공원고시 수를 table형태로 나타내시오..\n",
    "#  index - 연도, column - 월"
   ]
  },
  {
   "cell_type": "code",
   "execution_count": null,
   "id": "beabd64e",
   "metadata": {},
   "outputs": [],
   "source": [
    "df_table = df1.groupby(['고시연도', '고시월']).위도.count().unstack()\n",
    "df_table"
   ]
  },
  {
   "cell_type": "code",
   "execution_count": null,
   "id": "7111a5ae",
   "metadata": {},
   "outputs": [],
   "source": [
    "df_table = df_table.loc[2000: 2018]"
   ]
  },
  {
   "cell_type": "code",
   "execution_count": null,
   "id": "fbfb71c9",
   "metadata": {},
   "outputs": [],
   "source": [
    "sns.heatmap(df_table)"
   ]
  },
  {
   "cell_type": "code",
   "execution_count": null,
   "id": "95c018f9",
   "metadata": {},
   "outputs": [],
   "source": []
  },
  {
   "cell_type": "code",
   "execution_count": null,
   "id": "7cccd5e9",
   "metadata": {},
   "outputs": [],
   "source": [
    "ym_table = pd.pivot_table(df1, index='고시연도', columns='고시월', values='공원명', aggfunc='count')\n",
    "ym_table = ym_table.loc[2000: 2018]\n",
    "ym_table.style.background_gradient()"
   ]
  },
  {
   "cell_type": "code",
   "execution_count": null,
   "id": "d902fcda",
   "metadata": {},
   "outputs": [],
   "source": []
  },
  {
   "cell_type": "code",
   "execution_count": null,
   "id": "a1b234b6",
   "metadata": {},
   "outputs": [],
   "source": [
    "pd.options.display.max_columns = 30\n",
    "pd.options.display.max_rows = 50"
   ]
  },
  {
   "cell_type": "code",
   "execution_count": null,
   "id": "45beea61",
   "metadata": {},
   "outputs": [],
   "source": [
    "df"
   ]
  },
  {
   "cell_type": "code",
   "execution_count": null,
   "id": "84d348c6",
   "metadata": {},
   "outputs": [],
   "source": []
  },
  {
   "cell_type": "markdown",
   "id": "08918d29",
   "metadata": {},
   "source": [
    "##### 운동시설"
   ]
  },
  {
   "cell_type": "code",
   "execution_count": null,
   "id": "be67d672",
   "metadata": {},
   "outputs": [],
   "source": [
    "df1['공원보유시설(운동시설)'].value_counts()"
   ]
  },
  {
   "cell_type": "code",
   "execution_count": null,
   "id": "6d6ce3dc",
   "metadata": {},
   "outputs": [],
   "source": [
    "gym = df1['공원보유시설(운동시설)'].unique().tolist()\n",
    "gym = str(gym)\n",
    "gym"
   ]
  },
  {
   "cell_type": "code",
   "execution_count": null,
   "id": "e5843f6d",
   "metadata": {},
   "outputs": [],
   "source": [
    "import re"
   ]
  },
  {
   "cell_type": "code",
   "execution_count": null,
   "id": "41ff2d3e",
   "metadata": {},
   "outputs": [],
   "source": [
    "gym = gym.replace('+', '.').replace(\"'\", '.').replace(\" \", '.').replace(\"/\", \".\")\n",
    "gym"
   ]
  },
  {
   "cell_type": "code",
   "execution_count": null,
   "id": "e2df1d98",
   "metadata": {},
   "outputs": [],
   "source": [
    "# re.sub('\\d', '', gym)"
   ]
  },
  {
   "cell_type": "code",
   "execution_count": null,
   "id": "9b24fb43",
   "metadata": {},
   "outputs": [],
   "source": [
    "gym = re.sub(\"[\\[\\d\\-nan\\.\\]]\", \"\", gym)\n",
    "gym"
   ]
  },
  {
   "cell_type": "code",
   "execution_count": null,
   "id": "b2ef996c",
   "metadata": {},
   "outputs": [],
   "source": [
    "gym = re.sub(\".{2.}\", \".\", gym)\n",
    "gym"
   ]
  },
  {
   "cell_type": "code",
   "execution_count": null,
   "id": "ca351fdf",
   "metadata": {},
   "outputs": [],
   "source": []
  },
  {
   "cell_type": "code",
   "execution_count": null,
   "id": "4d0acf3e",
   "metadata": {},
   "outputs": [],
   "source": [
    "pd.Series(gym.split(',')).value_counts()"
   ]
  },
  {
   "cell_type": "code",
   "execution_count": null,
   "id": "e6c59bee",
   "metadata": {
    "scrolled": true
   },
   "outputs": [],
   "source": [
    "pd.Series(gym.split(',')).value_counts().iloc[:30].plot(kind='bar', figsize= (15,5))"
   ]
  },
  {
   "cell_type": "code",
   "execution_count": null,
   "id": "10ecdc6f",
   "metadata": {},
   "outputs": [],
   "source": []
  },
  {
   "cell_type": "code",
   "execution_count": null,
   "id": "8a3de741",
   "metadata": {},
   "outputs": [],
   "source": []
  },
  {
   "cell_type": "code",
   "execution_count": null,
   "id": "c1df7714",
   "metadata": {},
   "outputs": [],
   "source": [
    "def get_string(text):\n",
    "    if pd.isna(text):\n",
    "        return text\n",
    "    \n",
    "    text = re.sub(\"[\\d\\.'\\-(nan)\\[\\]\\/]\", \"\", text)\n",
    "    text = re.sub(' ', '', text)\n",
    "    text = re.sub(\".{2.}\", \".\", text)\n",
    "    return text"
   ]
  },
  {
   "cell_type": "code",
   "execution_count": null,
   "id": "b575023f",
   "metadata": {
    "scrolled": true
   },
   "outputs": [],
   "source": [
    "df.columns"
   ]
  },
  {
   "cell_type": "code",
   "execution_count": null,
   "id": "168b6e16",
   "metadata": {},
   "outputs": [],
   "source": [
    "df['편익시설'] = df['공원보유시설(편익시설)'].apply(get_string)"
   ]
  },
  {
   "cell_type": "code",
   "execution_count": null,
   "id": "b53b7adf",
   "metadata": {},
   "outputs": [],
   "source": [
    "df['편익시설'].value_counts()"
   ]
  },
  {
   "cell_type": "code",
   "execution_count": null,
   "id": "c8c68f24",
   "metadata": {},
   "outputs": [],
   "source": []
  },
  {
   "cell_type": "code",
   "execution_count": null,
   "id": "c620af51",
   "metadata": {},
   "outputs": [],
   "source": [
    "df['편익시설'].notnull()"
   ]
  },
  {
   "cell_type": "code",
   "execution_count": null,
   "id": "c8bfe062",
   "metadata": {},
   "outputs": [],
   "source": [
    "fac = \",\".join(df.loc[df['편익시설'].notnull(), '편익시설'])\n",
    "fac = get_string(fac)\n",
    "fac"
   ]
  },
  {
   "cell_type": "code",
   "execution_count": null,
   "id": "d6811cfe",
   "metadata": {},
   "outputs": [],
   "source": []
  },
  {
   "cell_type": "code",
   "execution_count": null,
   "id": "b4613154",
   "metadata": {},
   "outputs": [],
   "source": [
    "pd.Series(fac.split(',')).value_counts()"
   ]
  },
  {
   "cell_type": "code",
   "execution_count": null,
   "id": "19127881",
   "metadata": {},
   "outputs": [],
   "source": [
    "pd.Series(fac.split(',')).value_counts().iloc[:30].plot(kind='bar', figsize=(15,5))"
   ]
  },
  {
   "cell_type": "code",
   "execution_count": null,
   "id": "048372b1",
   "metadata": {},
   "outputs": [],
   "source": []
  },
  {
   "cell_type": "code",
   "execution_count": null,
   "id": "4207bbd5",
   "metadata": {},
   "outputs": [],
   "source": []
  },
  {
   "cell_type": "markdown",
   "id": "23b327f2",
   "metadata": {},
   "source": [
    "---"
   ]
  },
  {
   "cell_type": "code",
   "execution_count": 51,
   "id": "2d9e9956",
   "metadata": {},
   "outputs": [],
   "source": [
    "city_count =df1['시도'].value_counts().to_frame()\n",
    "city_mean = df1['시도'].value_counts(normalize=True).to_frame()"
   ]
  },
  {
   "cell_type": "code",
   "execution_count": 52,
   "id": "d633f7a4",
   "metadata": {},
   "outputs": [
    {
     "data": {
      "text/html": [
       "<div>\n",
       "<style scoped>\n",
       "    .dataframe tbody tr th:only-of-type {\n",
       "        vertical-align: middle;\n",
       "    }\n",
       "\n",
       "    .dataframe tbody tr th {\n",
       "        vertical-align: top;\n",
       "    }\n",
       "\n",
       "    .dataframe thead th {\n",
       "        text-align: right;\n",
       "    }\n",
       "</style>\n",
       "<table border=\"1\" class=\"dataframe\">\n",
       "  <thead>\n",
       "    <tr style=\"text-align: right;\">\n",
       "      <th></th>\n",
       "      <th>시도</th>\n",
       "    </tr>\n",
       "  </thead>\n",
       "  <tbody>\n",
       "    <tr>\n",
       "      <th>경기도</th>\n",
       "      <td>3318</td>\n",
       "    </tr>\n",
       "    <tr>\n",
       "      <th>전라남도</th>\n",
       "      <td>1882</td>\n",
       "    </tr>\n",
       "  </tbody>\n",
       "</table>\n",
       "</div>"
      ],
      "text/plain": [
       "        시도\n",
       "경기도   3318\n",
       "전라남도  1882"
      ]
     },
     "execution_count": 52,
     "metadata": {},
     "output_type": "execute_result"
    }
   ],
   "source": [
    "city_count.head(2)"
   ]
  },
  {
   "cell_type": "code",
   "execution_count": 53,
   "id": "22839b4f",
   "metadata": {},
   "outputs": [
    {
     "data": {
      "text/html": [
       "<div>\n",
       "<style scoped>\n",
       "    .dataframe tbody tr th:only-of-type {\n",
       "        vertical-align: middle;\n",
       "    }\n",
       "\n",
       "    .dataframe tbody tr th {\n",
       "        vertical-align: top;\n",
       "    }\n",
       "\n",
       "    .dataframe thead th {\n",
       "        text-align: right;\n",
       "    }\n",
       "</style>\n",
       "<table border=\"1\" class=\"dataframe\">\n",
       "  <thead>\n",
       "    <tr style=\"text-align: right;\">\n",
       "      <th></th>\n",
       "      <th>시도</th>\n",
       "    </tr>\n",
       "  </thead>\n",
       "  <tbody>\n",
       "    <tr>\n",
       "      <th>경기도</th>\n",
       "      <td>0.182961</td>\n",
       "    </tr>\n",
       "    <tr>\n",
       "      <th>전라남도</th>\n",
       "      <td>0.103777</td>\n",
       "    </tr>\n",
       "  </tbody>\n",
       "</table>\n",
       "</div>"
      ],
      "text/plain": [
       "            시도\n",
       "경기도   0.182961\n",
       "전라남도  0.103777"
      ]
     },
     "execution_count": 53,
     "metadata": {},
     "output_type": "execute_result"
    }
   ],
   "source": [
    "city_mean.head(2)"
   ]
  },
  {
   "cell_type": "code",
   "execution_count": 56,
   "id": "31f19265",
   "metadata": {},
   "outputs": [],
   "source": [
    "city = pd.merge(city_count, city_mean, left_index= True, right_index= True)"
   ]
  },
  {
   "cell_type": "code",
   "execution_count": 57,
   "id": "f841d124",
   "metadata": {},
   "outputs": [
    {
     "data": {
      "text/html": [
       "<style type=\"text/css\">\n",
       "#T_690aa_row0_col0, #T_690aa_row0_col1 {\n",
       "  background-color: #023858;\n",
       "  color: #f1f1f1;\n",
       "}\n",
       "#T_690aa_row1_col0, #T_690aa_row1_col1 {\n",
       "  background-color: #589ec8;\n",
       "  color: #f1f1f1;\n",
       "}\n",
       "#T_690aa_row2_col0, #T_690aa_row2_col1 {\n",
       "  background-color: #60a1ca;\n",
       "  color: #f1f1f1;\n",
       "}\n",
       "#T_690aa_row3_col0, #T_690aa_row3_col1 {\n",
       "  background-color: #6da6cd;\n",
       "  color: #f1f1f1;\n",
       "}\n",
       "#T_690aa_row4_col0, #T_690aa_row4_col1 {\n",
       "  background-color: #6fa7ce;\n",
       "  color: #f1f1f1;\n",
       "}\n",
       "#T_690aa_row5_col0, #T_690aa_row5_col1 {\n",
       "  background-color: #b5c4df;\n",
       "  color: #000000;\n",
       "}\n",
       "#T_690aa_row6_col0, #T_690aa_row6_col1 {\n",
       "  background-color: #cdd0e5;\n",
       "  color: #000000;\n",
       "}\n",
       "#T_690aa_row7_col0, #T_690aa_row7_col1 {\n",
       "  background-color: #ced0e6;\n",
       "  color: #000000;\n",
       "}\n",
       "#T_690aa_row8_col0, #T_690aa_row8_col1 {\n",
       "  background-color: #d0d1e6;\n",
       "  color: #000000;\n",
       "}\n",
       "#T_690aa_row9_col0, #T_690aa_row9_col1 {\n",
       "  background-color: #dfddec;\n",
       "  color: #000000;\n",
       "}\n",
       "#T_690aa_row10_col0, #T_690aa_row10_col1, #T_690aa_row11_col0, #T_690aa_row11_col1 {\n",
       "  background-color: #e0deed;\n",
       "  color: #000000;\n",
       "}\n",
       "#T_690aa_row12_col0, #T_690aa_row12_col1 {\n",
       "  background-color: #e5e1ef;\n",
       "  color: #000000;\n",
       "}\n",
       "#T_690aa_row13_col0, #T_690aa_row13_col1 {\n",
       "  background-color: #ebe6f2;\n",
       "  color: #000000;\n",
       "}\n",
       "#T_690aa_row14_col0, #T_690aa_row14_col1 {\n",
       "  background-color: #eee9f3;\n",
       "  color: #000000;\n",
       "}\n",
       "#T_690aa_row15_col0, #T_690aa_row15_col1 {\n",
       "  background-color: #f7f0f7;\n",
       "  color: #000000;\n",
       "}\n",
       "#T_690aa_row16_col0, #T_690aa_row16_col1 {\n",
       "  background-color: #fff7fb;\n",
       "  color: #000000;\n",
       "}\n",
       "</style>\n",
       "<table id=\"T_690aa_\">\n",
       "  <thead>\n",
       "    <tr>\n",
       "      <th class=\"blank level0\" >&nbsp;</th>\n",
       "      <th class=\"col_heading level0 col0\" >합계</th>\n",
       "      <th class=\"col_heading level0 col1\" >비율</th>\n",
       "    </tr>\n",
       "  </thead>\n",
       "  <tbody>\n",
       "    <tr>\n",
       "      <th id=\"T_690aa_level0_row0\" class=\"row_heading level0 row0\" >경기도</th>\n",
       "      <td id=\"T_690aa_row0_col0\" class=\"data row0 col0\" >3318</td>\n",
       "      <td id=\"T_690aa_row0_col1\" class=\"data row0 col1\" >0.182961</td>\n",
       "    </tr>\n",
       "    <tr>\n",
       "      <th id=\"T_690aa_level0_row1\" class=\"row_heading level0 row1\" >전라남도</th>\n",
       "      <td id=\"T_690aa_row1_col0\" class=\"data row1 col0\" >1882</td>\n",
       "      <td id=\"T_690aa_row1_col1\" class=\"data row1 col1\" >0.103777</td>\n",
       "    </tr>\n",
       "    <tr>\n",
       "      <th id=\"T_690aa_level0_row2\" class=\"row_heading level0 row2\" >경상남도</th>\n",
       "      <td id=\"T_690aa_row2_col0\" class=\"data row2 col0\" >1825</td>\n",
       "      <td id=\"T_690aa_row2_col1\" class=\"data row2 col1\" >0.100634</td>\n",
       "    </tr>\n",
       "    <tr>\n",
       "      <th id=\"T_690aa_level0_row3\" class=\"row_heading level0 row3\" >서울특별시</th>\n",
       "      <td id=\"T_690aa_row3_col0\" class=\"data row3 col0\" >1744</td>\n",
       "      <td id=\"T_690aa_row3_col1\" class=\"data row3 col1\" >0.096168</td>\n",
       "    </tr>\n",
       "    <tr>\n",
       "      <th id=\"T_690aa_level0_row4\" class=\"row_heading level0 row4\" >충청남도</th>\n",
       "      <td id=\"T_690aa_row4_col0\" class=\"data row4 col0\" >1723</td>\n",
       "      <td id=\"T_690aa_row4_col1\" class=\"data row4 col1\" >0.095010</td>\n",
       "    </tr>\n",
       "    <tr>\n",
       "      <th id=\"T_690aa_level0_row5\" class=\"row_heading level0 row5\" >전라북도</th>\n",
       "      <td id=\"T_690aa_row5_col0\" class=\"data row5 col0\" >1137</td>\n",
       "      <td id=\"T_690aa_row5_col1\" class=\"data row5 col1\" >0.062696</td>\n",
       "    </tr>\n",
       "    <tr>\n",
       "      <th id=\"T_690aa_level0_row6\" class=\"row_heading level0 row6\" >경상북도</th>\n",
       "      <td id=\"T_690aa_row6_col0\" class=\"data row6 col0\" >917</td>\n",
       "      <td id=\"T_690aa_row6_col1\" class=\"data row6 col1\" >0.050565</td>\n",
       "    </tr>\n",
       "    <tr>\n",
       "      <th id=\"T_690aa_level0_row7\" class=\"row_heading level0 row7\" >충청북도</th>\n",
       "      <td id=\"T_690aa_row7_col0\" class=\"data row7 col0\" >898</td>\n",
       "      <td id=\"T_690aa_row7_col1\" class=\"data row7 col1\" >0.049518</td>\n",
       "    </tr>\n",
       "    <tr>\n",
       "      <th id=\"T_690aa_level0_row8\" class=\"row_heading level0 row8\" >울산광역시</th>\n",
       "      <td id=\"T_690aa_row8_col0\" class=\"data row8 col0\" >887</td>\n",
       "      <td id=\"T_690aa_row8_col1\" class=\"data row8 col1\" >0.048911</td>\n",
       "    </tr>\n",
       "    <tr>\n",
       "      <th id=\"T_690aa_level0_row9\" class=\"row_heading level0 row9\" >인천광역시</th>\n",
       "      <td id=\"T_690aa_row9_col0\" class=\"data row9 col0\" >675</td>\n",
       "      <td id=\"T_690aa_row9_col1\" class=\"data row9 col1\" >0.037221</td>\n",
       "    </tr>\n",
       "    <tr>\n",
       "      <th id=\"T_690aa_level0_row10\" class=\"row_heading level0 row10\" >부산광역시</th>\n",
       "      <td id=\"T_690aa_row10_col0\" class=\"data row10 col0\" >653</td>\n",
       "      <td id=\"T_690aa_row10_col1\" class=\"data row10 col1\" >0.036008</td>\n",
       "    </tr>\n",
       "    <tr>\n",
       "      <th id=\"T_690aa_level0_row11\" class=\"row_heading level0 row11\" >강원도</th>\n",
       "      <td id=\"T_690aa_row11_col0\" class=\"data row11 col0\" >648</td>\n",
       "      <td id=\"T_690aa_row11_col1\" class=\"data row11 col1\" >0.035732</td>\n",
       "    </tr>\n",
       "    <tr>\n",
       "      <th id=\"T_690aa_level0_row12\" class=\"row_heading level0 row12\" >대구광역시</th>\n",
       "      <td id=\"T_690aa_row12_col0\" class=\"data row12 col0\" >586</td>\n",
       "      <td id=\"T_690aa_row12_col1\" class=\"data row12 col1\" >0.032313</td>\n",
       "    </tr>\n",
       "    <tr>\n",
       "      <th id=\"T_690aa_level0_row13\" class=\"row_heading level0 row13\" >대전광역시</th>\n",
       "      <td id=\"T_690aa_row13_col0\" class=\"data row13 col0\" >497</td>\n",
       "      <td id=\"T_690aa_row13_col1\" class=\"data row13 col1\" >0.027406</td>\n",
       "    </tr>\n",
       "    <tr>\n",
       "      <th id=\"T_690aa_level0_row14\" class=\"row_heading level0 row14\" >광주광역시</th>\n",
       "      <td id=\"T_690aa_row14_col0\" class=\"data row14 col0\" >429</td>\n",
       "      <td id=\"T_690aa_row14_col1\" class=\"data row14 col1\" >0.023656</td>\n",
       "    </tr>\n",
       "    <tr>\n",
       "      <th id=\"T_690aa_level0_row15\" class=\"row_heading level0 row15\" >제주특별자치도</th>\n",
       "      <td id=\"T_690aa_row15_col0\" class=\"data row15 col0\" >246</td>\n",
       "      <td id=\"T_690aa_row15_col1\" class=\"data row15 col1\" >0.013565</td>\n",
       "    </tr>\n",
       "    <tr>\n",
       "      <th id=\"T_690aa_level0_row16\" class=\"row_heading level0 row16\" >세종특별자치시</th>\n",
       "      <td id=\"T_690aa_row16_col0\" class=\"data row16 col0\" >70</td>\n",
       "      <td id=\"T_690aa_row16_col1\" class=\"data row16 col1\" >0.003860</td>\n",
       "    </tr>\n",
       "  </tbody>\n",
       "</table>\n"
      ],
      "text/plain": [
       "<pandas.io.formats.style.Styler at 0x12e220b42e0>"
      ]
     },
     "execution_count": 57,
     "metadata": {},
     "output_type": "execute_result"
    }
   ],
   "source": [
    "city.columns=['합계','비율']\n",
    "city.style.background_gradient()"
   ]
  },
  {
   "cell_type": "code",
   "execution_count": 58,
   "id": "11044db9",
   "metadata": {},
   "outputs": [],
   "source": [
    "#### 공원분포를 시각화 => scatterplot()"
   ]
  },
  {
   "cell_type": "code",
   "execution_count": 59,
   "id": "39bd7aeb",
   "metadata": {},
   "outputs": [
    {
     "data": {
      "text/plain": [
       "<AxesSubplot:xlabel='경도', ylabel='위도'>"
      ]
     },
     "execution_count": 59,
     "metadata": {},
     "output_type": "execute_result"
    },
    {
     "data": {
      "image/png": "[encoded data removed]",
      "text/plain": [
       "<Figure size 432x504 with 1 Axes>"
      ]
     },
     "metadata": {
      "needs_background": "light"
     },
     "output_type": "display_data"
    }
   ],
   "source": [
    "plt.figure(figsize=(6,7))\n",
    "sns.scatterplot(data=df1, x='경도', y='위도', hue='공원구분', size= '공원면적', sizes=(10,100) )\n"
   ]
  },
  {
   "cell_type": "code",
   "execution_count": 60,
   "id": "c8de6b52",
   "metadata": {},
   "outputs": [
    {
     "data": {
      "text/plain": [
       "<AxesSubplot:xlabel='경도', ylabel='위도'>"
      ]
     },
     "execution_count": 60,
     "metadata": {},
     "output_type": "execute_result"
    },
    {
     "data": {
      "image/png": "[encoded data removed]",
      "text/plain": [
       "<Figure size 432x288 with 1 Axes>"
      ]
     },
     "metadata": {
      "needs_background": "light"
     },
     "output_type": "display_data"
    }
   ],
   "source": [
    "sns.scatterplot(data=df1, x='경도', y='위도', hue='시도', size= '공원면적', sizes=(10,100) )"
   ]
  },
  {
   "cell_type": "code",
   "execution_count": null,
   "id": "9b524710",
   "metadata": {},
   "outputs": [],
   "source": []
  },
  {
   "cell_type": "code",
   "execution_count": 63,
   "id": "4c89a3df",
   "metadata": {},
   "outputs": [
    {
     "data": {
      "text/html": [
       "<div>\n",
       "<style scoped>\n",
       "    .dataframe tbody tr th:only-of-type {\n",
       "        vertical-align: middle;\n",
       "    }\n",
       "\n",
       "    .dataframe tbody tr th {\n",
       "        vertical-align: top;\n",
       "    }\n",
       "\n",
       "    .dataframe thead th {\n",
       "        text-align: right;\n",
       "    }\n",
       "</style>\n",
       "<table border=\"1\" class=\"dataframe\">\n",
       "  <thead>\n",
       "    <tr style=\"text-align: right;\">\n",
       "      <th></th>\n",
       "      <th>관리번호</th>\n",
       "      <th>공원명</th>\n",
       "      <th>공원구분</th>\n",
       "      <th>소재지도로명주소</th>\n",
       "      <th>소재지지번주소</th>\n",
       "      <th>위도</th>\n",
       "      <th>경도</th>\n",
       "      <th>공원면적</th>\n",
       "      <th>공원보유시설(운동시설)</th>\n",
       "      <th>공원보유시설(유희시설)</th>\n",
       "      <th>...</th>\n",
       "      <th>공원보유시설(교양시설)</th>\n",
       "      <th>공원보유시설(기타시설)</th>\n",
       "      <th>지정고시일</th>\n",
       "      <th>관리기관명</th>\n",
       "      <th>전화번호</th>\n",
       "      <th>데이터기준일자</th>\n",
       "      <th>제공기관코드</th>\n",
       "      <th>제공기관명</th>\n",
       "      <th>시도</th>\n",
       "      <th>구군</th>\n",
       "    </tr>\n",
       "  </thead>\n",
       "  <tbody>\n",
       "    <tr>\n",
       "      <th>2990</th>\n",
       "      <td>41131-00003</td>\n",
       "      <td>삼평공원</td>\n",
       "      <td>근린공원</td>\n",
       "      <td>경기도 성남시 수정구 시흥동 산22</td>\n",
       "      <td>경기도 성남시 수정구 시흥동 산22</td>\n",
       "      <td>37.422935</td>\n",
       "      <td>127.110023</td>\n",
       "      <td>545926.0</td>\n",
       "      <td>다목적운동장, 야외운동장</td>\n",
       "      <td>어린이놀이터</td>\n",
       "      <td>...</td>\n",
       "      <td>동물원, 식물원</td>\n",
       "      <td>NaN</td>\n",
       "      <td>1972-11-03</td>\n",
       "      <td>성남시 공원과</td>\n",
       "      <td>031-729-4272</td>\n",
       "      <td>2020-01-17</td>\n",
       "      <td>3780000</td>\n",
       "      <td>경기도 성남시</td>\n",
       "      <td>경기도</td>\n",
       "      <td>성남시</td>\n",
       "    </tr>\n",
       "    <tr>\n",
       "      <th>2991</th>\n",
       "      <td>41131-00004</td>\n",
       "      <td>양지공원</td>\n",
       "      <td>체육공원</td>\n",
       "      <td>경기도 성남시 수정구 양지동 972</td>\n",
       "      <td>경기도 성남시 수정구 양지동 972</td>\n",
       "      <td>37.463643</td>\n",
       "      <td>127.163643</td>\n",
       "      <td>348806.5</td>\n",
       "      <td>테니스장, 실내체육관</td>\n",
       "      <td>과학놀이터, 놀이마당</td>\n",
       "      <td>...</td>\n",
       "      <td>야생초화원, 자연학습장</td>\n",
       "      <td>NaN</td>\n",
       "      <td>1972-11-03</td>\n",
       "      <td>성남시 공원과</td>\n",
       "      <td>031-729-4272</td>\n",
       "      <td>2020-01-17</td>\n",
       "      <td>3780000</td>\n",
       "      <td>경기도 성남시</td>\n",
       "      <td>경기도</td>\n",
       "      <td>성남시</td>\n",
       "    </tr>\n",
       "    <tr>\n",
       "      <th>2992</th>\n",
       "      <td>41131-00005</td>\n",
       "      <td>단대공원</td>\n",
       "      <td>근린공원</td>\n",
       "      <td>경기도 성남시 수정구 단대로16번길 25</td>\n",
       "      <td>경기도 성남시 수정구 단대동 193</td>\n",
       "      <td>37.454788</td>\n",
       "      <td>127.158822</td>\n",
       "      <td>210700.0</td>\n",
       "      <td>궁도장, 신체단련장</td>\n",
       "      <td>물놀이장, 놀이터</td>\n",
       "      <td>...</td>\n",
       "      <td>도서관, 야외학습장</td>\n",
       "      <td>NaN</td>\n",
       "      <td>1974-08-31</td>\n",
       "      <td>성남시 공원과</td>\n",
       "      <td>031-729-4272</td>\n",
       "      <td>2020-01-17</td>\n",
       "      <td>3780000</td>\n",
       "      <td>경기도 성남시</td>\n",
       "      <td>경기도</td>\n",
       "      <td>성남시</td>\n",
       "    </tr>\n",
       "    <tr>\n",
       "      <th>2993</th>\n",
       "      <td>41131-00006</td>\n",
       "      <td>영장공원</td>\n",
       "      <td>근린공원</td>\n",
       "      <td>경기도 성남시 수정구 태평동 산50-5</td>\n",
       "      <td>경기도 성남시 수정구 태평동 산50-5</td>\n",
       "      <td>37.450071</td>\n",
       "      <td>127.133856</td>\n",
       "      <td>394759.3</td>\n",
       "      <td>게이트볼장, 농구장</td>\n",
       "      <td>어린이놀이터</td>\n",
       "      <td>...</td>\n",
       "      <td>임간학습장, 자생초화원</td>\n",
       "      <td>NaN</td>\n",
       "      <td>1972-11-03</td>\n",
       "      <td>성남시 공원과</td>\n",
       "      <td>031-729-4272</td>\n",
       "      <td>2020-01-17</td>\n",
       "      <td>3780000</td>\n",
       "      <td>경기도 성남시</td>\n",
       "      <td>경기도</td>\n",
       "      <td>성남시</td>\n",
       "    </tr>\n",
       "    <tr>\n",
       "      <th>2994</th>\n",
       "      <td>41131-00007</td>\n",
       "      <td>희망대공원</td>\n",
       "      <td>근린공원</td>\n",
       "      <td>경기도 성남시 수정구 희망로 509번길 20</td>\n",
       "      <td>경기도 성남시 수정구 신흥동 2345</td>\n",
       "      <td>37.449303</td>\n",
       "      <td>127.150186</td>\n",
       "      <td>122083.0</td>\n",
       "      <td>농구장, 배드민턴장</td>\n",
       "      <td>어린이놀이터, 물놀이장</td>\n",
       "      <td>...</td>\n",
       "      <td>청소년회관, 도서관</td>\n",
       "      <td>NaN</td>\n",
       "      <td>1972-11-03</td>\n",
       "      <td>성남시 공원과</td>\n",
       "      <td>031-729-4272</td>\n",
       "      <td>2020-01-17</td>\n",
       "      <td>3780000</td>\n",
       "      <td>경기도 성남시</td>\n",
       "      <td>경기도</td>\n",
       "      <td>성남시</td>\n",
       "    </tr>\n",
       "    <tr>\n",
       "      <th>...</th>\n",
       "      <td>...</td>\n",
       "      <td>...</td>\n",
       "      <td>...</td>\n",
       "      <td>...</td>\n",
       "      <td>...</td>\n",
       "      <td>...</td>\n",
       "      <td>...</td>\n",
       "      <td>...</td>\n",
       "      <td>...</td>\n",
       "      <td>...</td>\n",
       "      <td>...</td>\n",
       "      <td>...</td>\n",
       "      <td>...</td>\n",
       "      <td>...</td>\n",
       "      <td>...</td>\n",
       "      <td>...</td>\n",
       "      <td>...</td>\n",
       "      <td>...</td>\n",
       "      <td>...</td>\n",
       "      <td>...</td>\n",
       "      <td>...</td>\n",
       "    </tr>\n",
       "    <tr>\n",
       "      <th>3179</th>\n",
       "      <td>41135-00139</td>\n",
       "      <td>남서울묘지공원공원</td>\n",
       "      <td>묘지공원</td>\n",
       "      <td>경기도 성남시 분당구 야탑동 산 82</td>\n",
       "      <td>경기도 성남시 분당구 야탑동 산 82</td>\n",
       "      <td>37.401818</td>\n",
       "      <td>127.161969</td>\n",
       "      <td>913936.0</td>\n",
       "      <td>NaN</td>\n",
       "      <td>NaN</td>\n",
       "      <td>...</td>\n",
       "      <td>NaN</td>\n",
       "      <td>납골당</td>\n",
       "      <td>1974-08-24</td>\n",
       "      <td>성남시 공원과</td>\n",
       "      <td>031-729-4382</td>\n",
       "      <td>2020-01-17</td>\n",
       "      <td>3780000</td>\n",
       "      <td>경기도 성남시</td>\n",
       "      <td>경기도</td>\n",
       "      <td>성남시</td>\n",
       "    </tr>\n",
       "    <tr>\n",
       "      <th>3180</th>\n",
       "      <td>41135-00140</td>\n",
       "      <td>판교역사공원</td>\n",
       "      <td>역사공원</td>\n",
       "      <td>경기도 성남시 분당구 판교로 191</td>\n",
       "      <td>경기도 성남시 분당구 판교동 499</td>\n",
       "      <td>37.401083</td>\n",
       "      <td>127.095548</td>\n",
       "      <td>4892.0</td>\n",
       "      <td>NaN</td>\n",
       "      <td>NaN</td>\n",
       "      <td>...</td>\n",
       "      <td>박물관</td>\n",
       "      <td>NaN</td>\n",
       "      <td>2008-12-17</td>\n",
       "      <td>성남시 공원과</td>\n",
       "      <td>031-729-4382</td>\n",
       "      <td>2020-01-17</td>\n",
       "      <td>3780000</td>\n",
       "      <td>경기도 성남시</td>\n",
       "      <td>경기도</td>\n",
       "      <td>성남시</td>\n",
       "    </tr>\n",
       "    <tr>\n",
       "      <th>3181</th>\n",
       "      <td>41133-00049</td>\n",
       "      <td>여수지구 제1호공원</td>\n",
       "      <td>소공원</td>\n",
       "      <td>경기도 성남시 중원구 하대원동 16</td>\n",
       "      <td>경기도 성남시 중원구 하대원동 16</td>\n",
       "      <td>37.431533</td>\n",
       "      <td>127.155336</td>\n",
       "      <td>2673.1</td>\n",
       "      <td>NaN</td>\n",
       "      <td>NaN</td>\n",
       "      <td>...</td>\n",
       "      <td>NaN</td>\n",
       "      <td>NaN</td>\n",
       "      <td>2015-12-24</td>\n",
       "      <td>중원구환경위생과</td>\n",
       "      <td>031-729-6451</td>\n",
       "      <td>2020-01-17</td>\n",
       "      <td>3780000</td>\n",
       "      <td>경기도 성남시</td>\n",
       "      <td>경기도</td>\n",
       "      <td>성남시</td>\n",
       "    </tr>\n",
       "    <tr>\n",
       "      <th>3182</th>\n",
       "      <td>41131-00142</td>\n",
       "      <td>소공원1(산성2도시환경개선사업)</td>\n",
       "      <td>소공원</td>\n",
       "      <td>경기도 성남시 수정구 산성동 570-4</td>\n",
       "      <td>경기도 성남시 수정구 산성동 570-4</td>\n",
       "      <td>37.455707</td>\n",
       "      <td>127.153752</td>\n",
       "      <td>80.5</td>\n",
       "      <td>NaN</td>\n",
       "      <td>NaN</td>\n",
       "      <td>...</td>\n",
       "      <td>NaN</td>\n",
       "      <td>NaN</td>\n",
       "      <td>2009-07-27</td>\n",
       "      <td>수정구환경위생과</td>\n",
       "      <td>031-729-5451</td>\n",
       "      <td>2020-01-17</td>\n",
       "      <td>3780000</td>\n",
       "      <td>경기도 성남시</td>\n",
       "      <td>경기도</td>\n",
       "      <td>성남시</td>\n",
       "    </tr>\n",
       "    <tr>\n",
       "      <th>3183</th>\n",
       "      <td>41131-00143</td>\n",
       "      <td>소공원2(산성2도시환경개선사업)</td>\n",
       "      <td>소공원</td>\n",
       "      <td>경기도 성남시 수정구 산성동 580</td>\n",
       "      <td>경기도 성남시 수정구 산성동 580</td>\n",
       "      <td>37.455416</td>\n",
       "      <td>127.153219</td>\n",
       "      <td>102.5</td>\n",
       "      <td>NaN</td>\n",
       "      <td>NaN</td>\n",
       "      <td>...</td>\n",
       "      <td>NaN</td>\n",
       "      <td>NaN</td>\n",
       "      <td>2009-07-27</td>\n",
       "      <td>수정구환경위생과</td>\n",
       "      <td>031-729-5451</td>\n",
       "      <td>2020-01-17</td>\n",
       "      <td>3780000</td>\n",
       "      <td>경기도 성남시</td>\n",
       "      <td>경기도</td>\n",
       "      <td>성남시</td>\n",
       "    </tr>\n",
       "  </tbody>\n",
       "</table>\n",
       "<p>194 rows × 21 columns</p>\n",
       "</div>"
      ],
      "text/plain": [
       "             관리번호                공원명  공원구분                  소재지도로명주소  \\\n",
       "2990  41131-00003               삼평공원  근린공원       경기도 성남시 수정구 시흥동 산22   \n",
       "2991  41131-00004               양지공원  체육공원       경기도 성남시 수정구 양지동 972   \n",
       "2992  41131-00005               단대공원  근린공원    경기도 성남시 수정구 단대로16번길 25   \n",
       "2993  41131-00006               영장공원  근린공원     경기도 성남시 수정구 태평동 산50-5   \n",
       "2994  41131-00007              희망대공원  근린공원  경기도 성남시 수정구 희망로 509번길 20   \n",
       "...           ...                ...   ...                       ...   \n",
       "3179  41135-00139          남서울묘지공원공원  묘지공원      경기도 성남시 분당구 야탑동 산 82   \n",
       "3180  41135-00140             판교역사공원  역사공원       경기도 성남시 분당구 판교로 191   \n",
       "3181  41133-00049         여수지구 제1호공원   소공원       경기도 성남시 중원구 하대원동 16   \n",
       "3182  41131-00142  소공원1(산성2도시환경개선사업)   소공원     경기도 성남시 수정구 산성동 570-4   \n",
       "3183  41131-00143  소공원2(산성2도시환경개선사업)   소공원       경기도 성남시 수정구 산성동 580   \n",
       "\n",
       "                    소재지지번주소         위도          경도      공원면적   공원보유시설(운동시설)  \\\n",
       "2990    경기도 성남시 수정구 시흥동 산22  37.422935  127.110023  545926.0  다목적운동장, 야외운동장   \n",
       "2991    경기도 성남시 수정구 양지동 972  37.463643  127.163643  348806.5    테니스장, 실내체육관   \n",
       "2992    경기도 성남시 수정구 단대동 193  37.454788  127.158822  210700.0     궁도장, 신체단련장   \n",
       "2993  경기도 성남시 수정구 태평동 산50-5  37.450071  127.133856  394759.3     게이트볼장, 농구장   \n",
       "2994   경기도 성남시 수정구 신흥동 2345  37.449303  127.150186  122083.0     농구장, 배드민턴장   \n",
       "...                     ...        ...         ...       ...            ...   \n",
       "3179   경기도 성남시 분당구 야탑동 산 82  37.401818  127.161969  913936.0            NaN   \n",
       "3180    경기도 성남시 분당구 판교동 499  37.401083  127.095548    4892.0            NaN   \n",
       "3181    경기도 성남시 중원구 하대원동 16  37.431533  127.155336    2673.1            NaN   \n",
       "3182  경기도 성남시 수정구 산성동 570-4  37.455707  127.153752      80.5            NaN   \n",
       "3183    경기도 성남시 수정구 산성동 580  37.455416  127.153219     102.5            NaN   \n",
       "\n",
       "      공원보유시설(유희시설)  ...  공원보유시설(교양시설) 공원보유시설(기타시설)       지정고시일     관리기관명  \\\n",
       "2990        어린이놀이터  ...      동물원, 식물원          NaN  1972-11-03   성남시 공원과   \n",
       "2991   과학놀이터, 놀이마당  ...  야생초화원, 자연학습장          NaN  1972-11-03   성남시 공원과   \n",
       "2992     물놀이장, 놀이터  ...    도서관, 야외학습장          NaN  1974-08-31   성남시 공원과   \n",
       "2993        어린이놀이터  ...  임간학습장, 자생초화원          NaN  1972-11-03   성남시 공원과   \n",
       "2994  어린이놀이터, 물놀이장  ...    청소년회관, 도서관          NaN  1972-11-03   성남시 공원과   \n",
       "...            ...  ...           ...          ...         ...       ...   \n",
       "3179           NaN  ...           NaN          납골당  1974-08-24   성남시 공원과   \n",
       "3180           NaN  ...           박물관          NaN  2008-12-17   성남시 공원과   \n",
       "3181           NaN  ...           NaN          NaN  2015-12-24  중원구환경위생과   \n",
       "3182           NaN  ...           NaN          NaN  2009-07-27  수정구환경위생과   \n",
       "3183           NaN  ...           NaN          NaN  2009-07-27  수정구환경위생과   \n",
       "\n",
       "              전화번호     데이터기준일자   제공기관코드    제공기관명   시도   구군  \n",
       "2990  031-729-4272  2020-01-17  3780000  경기도 성남시  경기도  성남시  \n",
       "2991  031-729-4272  2020-01-17  3780000  경기도 성남시  경기도  성남시  \n",
       "2992  031-729-4272  2020-01-17  3780000  경기도 성남시  경기도  성남시  \n",
       "2993  031-729-4272  2020-01-17  3780000  경기도 성남시  경기도  성남시  \n",
       "2994  031-729-4272  2020-01-17  3780000  경기도 성남시  경기도  성남시  \n",
       "...            ...         ...      ...      ...  ...  ...  \n",
       "3179  031-729-4382  2020-01-17  3780000  경기도 성남시  경기도  성남시  \n",
       "3180  031-729-4382  2020-01-17  3780000  경기도 성남시  경기도  성남시  \n",
       "3181  031-729-6451  2020-01-17  3780000  경기도 성남시  경기도  성남시  \n",
       "3182  031-729-5451  2020-01-17  3780000  경기도 성남시  경기도  성남시  \n",
       "3183  031-729-5451  2020-01-17  3780000  경기도 성남시  경기도  성남시  \n",
       "\n",
       "[194 rows x 21 columns]"
      ]
     },
     "execution_count": 63,
     "metadata": {},
     "output_type": "execute_result"
    }
   ],
   "source": [
    "df1[(df1['시도']=='경기도') & (df1['구군']=='성남시')]"
   ]
  },
  {
   "cell_type": "code",
   "execution_count": null,
   "id": "341fc29a",
   "metadata": {},
   "outputs": [],
   "source": []
  },
  {
   "cell_type": "code",
   "execution_count": null,
   "id": "3e84684b",
   "metadata": {},
   "outputs": [],
   "source": []
  },
  {
   "cell_type": "code",
   "execution_count": null,
   "id": "74ec8dcb",
   "metadata": {},
   "outputs": [],
   "source": []
  },
  {
   "cell_type": "code",
   "execution_count": null,
   "id": "7bb9b26e",
   "metadata": {},
   "outputs": [],
   "source": []
  },
  {
   "cell_type": "code",
   "execution_count": null,
   "id": "adb6b1ea",
   "metadata": {},
   "outputs": [],
   "source": []
  },
  {
   "cell_type": "code",
   "execution_count": null,
   "id": "43d25fb1",
   "metadata": {},
   "outputs": [],
   "source": []
  },
  {
   "cell_type": "code",
   "execution_count": null,
   "id": "31c1fdbc",
   "metadata": {},
   "outputs": [],
   "source": []
  },
  {
   "cell_type": "code",
   "execution_count": null,
   "id": "c8947fe2",
   "metadata": {},
   "outputs": [],
   "source": []
  }
 ],
 "metadata": {
  "kernelspec": {
   "display_name": "Python 3 (ipykernel)",
   "language": "python",
   "name": "python3"
  },
  "language_info": {
   "codemirror_mode": {
    "name": "ipython",
    "version": 3
   },
   "file_extension": ".py",
   "mimetype": "text/x-python",
   "name": "python",
   "nbconvert_exporter": "python",
   "pygments_lexer": "ipython3",
   "version": "3.9.7"
  },
  "varInspector": {
   "cols": {
    "lenName": 16,
    "lenType": 16,
    "lenVar": 40
   },
   "kernels_config": {
    "python": {
     "delete_cmd_postfix": "",
     "delete_cmd_prefix": "del ",
     "library": "var_list.py",
     "varRefreshCmd": "print(var_dic_list())"
    },
    "r": {
     "delete_cmd_postfix": ") ",
     "delete_cmd_prefix": "rm(",
     "library": "var_list.r",
     "varRefreshCmd": "cat(var_dic_list()) "
    }
   },
   "types_to_exclude": [
    "module",
    "function",
    "builtin_function_or_method",
    "instance",
    "_Feature"
   ],
   "window_display": false
  }
 },
 "nbformat": 4,
 "nbformat_minor": 5
}
