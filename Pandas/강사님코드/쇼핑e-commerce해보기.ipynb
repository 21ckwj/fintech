{
 "cells": [
  {
   "cell_type": "code",
   "execution_count": 40,
   "id": "2376cfce",
   "metadata": {},
   "outputs": [],
   "source": [
    "import pandas as pd\n",
    "import numpy as np\n",
    "import matplotlib.pyplot as plt\n",
    "import seaborn as sns"
   ]
  },
  {
   "cell_type": "code",
   "execution_count": 41,
   "id": "e98b4ea8",
   "metadata": {},
   "outputs": [],
   "source": [
    "# Q.문제\n",
    "# 국가별 매출\n",
    "# 월별 매출\n",
    "# 매출 상위 10개 품목\n",
    "# 각 구매가 최초 구매로부터 얼마의 개월이 지났는지를 계산..(단위 : 월) \n",
    "# 어느 월에 구매한 고객(집단)이 retention(재구매)이 높은가?"
   ]
  },
  {
   "cell_type": "code",
   "execution_count": 42,
   "id": "11519b3f",
   "metadata": {},
   "outputs": [
    {
     "data": {
      "text/html": [
       "<div>\n",
       "<style scoped>\n",
       "    .dataframe tbody tr th:only-of-type {\n",
       "        vertical-align: middle;\n",
       "    }\n",
       "\n",
       "    .dataframe tbody tr th {\n",
       "        vertical-align: top;\n",
       "    }\n",
       "\n",
       "    .dataframe thead th {\n",
       "        text-align: right;\n",
       "    }\n",
       "</style>\n",
       "<table border=\"1\" class=\"dataframe\">\n",
       "  <thead>\n",
       "    <tr style=\"text-align: right;\">\n",
       "      <th></th>\n",
       "      <th>InvoiceNo</th>\n",
       "      <th>StockCode</th>\n",
       "      <th>Description</th>\n",
       "      <th>Quantity</th>\n",
       "      <th>InvoiceDate</th>\n",
       "      <th>UnitPrice</th>\n",
       "      <th>CustomerID</th>\n",
       "      <th>Country</th>\n",
       "    </tr>\n",
       "  </thead>\n",
       "  <tbody>\n",
       "    <tr>\n",
       "      <th>0</th>\n",
       "      <td>536365</td>\n",
       "      <td>85123A</td>\n",
       "      <td>WHITE HANGING HEART T-LIGHT HOLDER</td>\n",
       "      <td>6</td>\n",
       "      <td>12/1/2010 8:26</td>\n",
       "      <td>2.55</td>\n",
       "      <td>17850.0</td>\n",
       "      <td>United Kingdom</td>\n",
       "    </tr>\n",
       "    <tr>\n",
       "      <th>1</th>\n",
       "      <td>536365</td>\n",
       "      <td>71053</td>\n",
       "      <td>WHITE METAL LANTERN</td>\n",
       "      <td>6</td>\n",
       "      <td>12/1/2010 8:26</td>\n",
       "      <td>3.39</td>\n",
       "      <td>17850.0</td>\n",
       "      <td>United Kingdom</td>\n",
       "    </tr>\n",
       "  </tbody>\n",
       "</table>\n",
       "</div>"
      ],
      "text/plain": [
       "  InvoiceNo StockCode                         Description  Quantity  \\\n",
       "0    536365    85123A  WHITE HANGING HEART T-LIGHT HOLDER         6   \n",
       "1    536365     71053                 WHITE METAL LANTERN         6   \n",
       "\n",
       "      InvoiceDate  UnitPrice  CustomerID         Country  \n",
       "0  12/1/2010 8:26       2.55     17850.0  United Kingdom  \n",
       "1  12/1/2010 8:26       3.39     17850.0  United Kingdom  "
      ]
     },
     "execution_count": 42,
     "metadata": {},
     "output_type": "execute_result"
    }
   ],
   "source": [
    "df = pd.read_csv('./data/OnlineRetail.csv')\n",
    "df.head(2)"
   ]
  },
  {
   "cell_type": "code",
   "execution_count": 43,
   "id": "52705a97",
   "metadata": {},
   "outputs": [
    {
     "name": "stdout",
     "output_type": "stream",
     "text": [
      "<class 'pandas.core.frame.DataFrame'>\n",
      "RangeIndex: 541909 entries, 0 to 541908\n",
      "Data columns (total 8 columns):\n",
      " #   Column       Non-Null Count   Dtype  \n",
      "---  ------       --------------   -----  \n",
      " 0   InvoiceNo    541909 non-null  object \n",
      " 1   StockCode    541909 non-null  object \n",
      " 2   Description  540455 non-null  object \n",
      " 3   Quantity     541909 non-null  int64  \n",
      " 4   InvoiceDate  541909 non-null  object \n",
      " 5   UnitPrice    541909 non-null  float64\n",
      " 6   CustomerID   406829 non-null  float64\n",
      " 7   Country      541909 non-null  object \n",
      "dtypes: float64(2), int64(1), object(5)\n",
      "memory usage: 33.1+ MB\n"
     ]
    }
   ],
   "source": [
    "df.info()"
   ]
  },
  {
   "cell_type": "code",
   "execution_count": 44,
   "id": "ce8000d3",
   "metadata": {},
   "outputs": [
    {
     "data": {
      "text/plain": [
       "InvoiceNo           0\n",
       "StockCode           0\n",
       "Description      1454\n",
       "Quantity            0\n",
       "InvoiceDate         0\n",
       "UnitPrice           0\n",
       "CustomerID     135080\n",
       "Country             0\n",
       "dtype: int64"
      ]
     },
     "execution_count": 44,
     "metadata": {},
     "output_type": "execute_result"
    }
   ],
   "source": [
    "df.isnull().sum()"
   ]
  },
  {
   "cell_type": "code",
   "execution_count": 45,
   "id": "b8980030",
   "metadata": {},
   "outputs": [
    {
     "data": {
      "text/html": [
       "<div>\n",
       "<style scoped>\n",
       "    .dataframe tbody tr th:only-of-type {\n",
       "        vertical-align: middle;\n",
       "    }\n",
       "\n",
       "    .dataframe tbody tr th {\n",
       "        vertical-align: top;\n",
       "    }\n",
       "\n",
       "    .dataframe thead th {\n",
       "        text-align: right;\n",
       "    }\n",
       "</style>\n",
       "<table border=\"1\" class=\"dataframe\">\n",
       "  <thead>\n",
       "    <tr style=\"text-align: right;\">\n",
       "      <th></th>\n",
       "      <th>InvoiceNo</th>\n",
       "      <th>StockCode</th>\n",
       "      <th>Description</th>\n",
       "      <th>Quantity</th>\n",
       "      <th>InvoiceDate</th>\n",
       "      <th>UnitPrice</th>\n",
       "      <th>CustomerID</th>\n",
       "      <th>Country</th>\n",
       "      <th>total</th>\n",
       "    </tr>\n",
       "  </thead>\n",
       "  <tbody>\n",
       "    <tr>\n",
       "      <th>0</th>\n",
       "      <td>536365</td>\n",
       "      <td>85123A</td>\n",
       "      <td>WHITE HANGING HEART T-LIGHT HOLDER</td>\n",
       "      <td>6</td>\n",
       "      <td>12/1/2010 8:26</td>\n",
       "      <td>2.55</td>\n",
       "      <td>17850.0</td>\n",
       "      <td>United Kingdom</td>\n",
       "      <td>15.30</td>\n",
       "    </tr>\n",
       "    <tr>\n",
       "      <th>1</th>\n",
       "      <td>536365</td>\n",
       "      <td>71053</td>\n",
       "      <td>WHITE METAL LANTERN</td>\n",
       "      <td>6</td>\n",
       "      <td>12/1/2010 8:26</td>\n",
       "      <td>3.39</td>\n",
       "      <td>17850.0</td>\n",
       "      <td>United Kingdom</td>\n",
       "      <td>20.34</td>\n",
       "    </tr>\n",
       "    <tr>\n",
       "      <th>2</th>\n",
       "      <td>536365</td>\n",
       "      <td>84406B</td>\n",
       "      <td>CREAM CUPID HEARTS COAT HANGER</td>\n",
       "      <td>8</td>\n",
       "      <td>12/1/2010 8:26</td>\n",
       "      <td>2.75</td>\n",
       "      <td>17850.0</td>\n",
       "      <td>United Kingdom</td>\n",
       "      <td>22.00</td>\n",
       "    </tr>\n",
       "    <tr>\n",
       "      <th>3</th>\n",
       "      <td>536365</td>\n",
       "      <td>84029G</td>\n",
       "      <td>KNITTED UNION FLAG HOT WATER BOTTLE</td>\n",
       "      <td>6</td>\n",
       "      <td>12/1/2010 8:26</td>\n",
       "      <td>3.39</td>\n",
       "      <td>17850.0</td>\n",
       "      <td>United Kingdom</td>\n",
       "      <td>20.34</td>\n",
       "    </tr>\n",
       "    <tr>\n",
       "      <th>4</th>\n",
       "      <td>536365</td>\n",
       "      <td>84029E</td>\n",
       "      <td>RED WOOLLY HOTTIE WHITE HEART.</td>\n",
       "      <td>6</td>\n",
       "      <td>12/1/2010 8:26</td>\n",
       "      <td>3.39</td>\n",
       "      <td>17850.0</td>\n",
       "      <td>United Kingdom</td>\n",
       "      <td>20.34</td>\n",
       "    </tr>\n",
       "  </tbody>\n",
       "</table>\n",
       "</div>"
      ],
      "text/plain": [
       "  InvoiceNo StockCode                          Description  Quantity  \\\n",
       "0    536365    85123A   WHITE HANGING HEART T-LIGHT HOLDER         6   \n",
       "1    536365     71053                  WHITE METAL LANTERN         6   \n",
       "2    536365    84406B       CREAM CUPID HEARTS COAT HANGER         8   \n",
       "3    536365    84029G  KNITTED UNION FLAG HOT WATER BOTTLE         6   \n",
       "4    536365    84029E       RED WOOLLY HOTTIE WHITE HEART.         6   \n",
       "\n",
       "      InvoiceDate  UnitPrice  CustomerID         Country  total  \n",
       "0  12/1/2010 8:26       2.55     17850.0  United Kingdom  15.30  \n",
       "1  12/1/2010 8:26       3.39     17850.0  United Kingdom  20.34  \n",
       "2  12/1/2010 8:26       2.75     17850.0  United Kingdom  22.00  \n",
       "3  12/1/2010 8:26       3.39     17850.0  United Kingdom  20.34  \n",
       "4  12/1/2010 8:26       3.39     17850.0  United Kingdom  20.34  "
      ]
     },
     "execution_count": 45,
     "metadata": {},
     "output_type": "execute_result"
    }
   ],
   "source": [
    "df['total'] = df['Quantity'] * df['UnitPrice']\n",
    "df.head()"
   ]
  },
  {
   "cell_type": "code",
   "execution_count": null,
   "id": "3eeb71c5",
   "metadata": {},
   "outputs": [],
   "source": []
  },
  {
   "cell_type": "code",
   "execution_count": 47,
   "id": "907a8086",
   "metadata": {},
   "outputs": [],
   "source": [
    "df['InvoiceDate']= pd.to_datetime(df['InvoiceDate'])"
   ]
  },
  {
   "cell_type": "code",
   "execution_count": 48,
   "id": "e6494b3a",
   "metadata": {},
   "outputs": [],
   "source": [
    "# 국가별 매출"
   ]
  },
  {
   "cell_type": "code",
   "execution_count": 49,
   "id": "34982f00",
   "metadata": {},
   "outputs": [
    {
     "data": {
      "text/plain": [
       "Country\n",
       "Australia                137077.270\n",
       "Austria                   10154.320\n",
       "Bahrain                     548.400\n",
       "Belgium                   40910.960\n",
       "Brazil                     1143.600\n",
       "Canada                     3666.380\n",
       "Channel Islands           20086.290\n",
       "Cyprus                    12946.290\n",
       "Czech Republic              707.720\n",
       "Denmark                   18768.140\n",
       "EIRE                     263276.820\n",
       "European Community         1291.750\n",
       "Finland                   22326.740\n",
       "France                   197403.900\n",
       "Germany                  221698.210\n",
       "Greece                     4710.520\n",
       "Hong Kong                 10117.040\n",
       "Iceland                    4310.000\n",
       "Israel                     7907.820\n",
       "Italy                     16890.510\n",
       "Japan                     35340.620\n",
       "Lebanon                    1693.880\n",
       "Lithuania                  1661.060\n",
       "Malta                      2505.470\n",
       "Netherlands              284661.540\n",
       "Norway                    35163.460\n",
       "Poland                     7213.140\n",
       "Portugal                  29367.020\n",
       "RSA                        1002.310\n",
       "Saudi Arabia                131.170\n",
       "Singapore                  9120.390\n",
       "Spain                     54774.580\n",
       "Sweden                    36595.910\n",
       "Switzerland               56385.350\n",
       "USA                        1730.920\n",
       "United Arab Emirates       1902.280\n",
       "United Kingdom          8187806.364\n",
       "Unspecified                4749.790\n",
       "Name: total, dtype: float64"
      ]
     },
     "execution_count": 49,
     "metadata": {},
     "output_type": "execute_result"
    }
   ],
   "source": [
    "df.groupby('Country')['total'].sum()"
   ]
  },
  {
   "cell_type": "code",
   "execution_count": 50,
   "id": "1d678c20",
   "metadata": {},
   "outputs": [],
   "source": [
    "# 월별 매출"
   ]
  },
  {
   "cell_type": "code",
   "execution_count": 61,
   "id": "a8608277",
   "metadata": {},
   "outputs": [],
   "source": [
    "# 날짜형으로 변경 후 strftime('')\n",
    "df['YM'] = df['InvoiceDate'].astype('datetime64')\n",
    "df['YM'] = df['YM'].apply(lambda date : date.strftime('%Y-%m'))"
   ]
  },
  {
   "cell_type": "code",
   "execution_count": 62,
   "id": "76dc2a3b",
   "metadata": {},
   "outputs": [
    {
     "data": {
      "text/plain": [
       "YM\n",
       "2010-12     748957.020\n",
       "2011-01     560000.260\n",
       "2011-02     498062.650\n",
       "2011-03     683267.080\n",
       "2011-04     493207.121\n",
       "2011-05     723333.510\n",
       "2011-06     691123.120\n",
       "2011-07     681300.111\n",
       "2011-08     682680.510\n",
       "2011-09    1019687.622\n",
       "2011-10    1070704.670\n",
       "2011-11    1461756.250\n",
       "2011-12     433668.010\n",
       "Name: total, dtype: float64"
      ]
     },
     "execution_count": 62,
     "metadata": {},
     "output_type": "execute_result"
    }
   ],
   "source": [
    "df.groupby('YM')['total'].sum()"
   ]
  },
  {
   "cell_type": "code",
   "execution_count": 63,
   "id": "d42f0ba9",
   "metadata": {},
   "outputs": [],
   "source": [
    "# 매출 상위 10개 품목"
   ]
  },
  {
   "cell_type": "code",
   "execution_count": 64,
   "id": "2e872fb9",
   "metadata": {},
   "outputs": [
    {
     "data": {
      "text/plain": [
       "StockCode\n",
       "10002           1037\n",
       "10080            495\n",
       "10120            193\n",
       "10123C           -13\n",
       "10123G           -38\n",
       "                ... \n",
       "gift_0001_20      20\n",
       "gift_0001_30      37\n",
       "gift_0001_40       3\n",
       "gift_0001_50       4\n",
       "m                  1\n",
       "Name: Quantity, Length: 4070, dtype: int64"
      ]
     },
     "execution_count": 64,
     "metadata": {},
     "output_type": "execute_result"
    }
   ],
   "source": [
    "df.groupby('StockCode')['Quantity'].sum()  # 음수인 값 존재"
   ]
  },
  {
   "cell_type": "code",
   "execution_count": 67,
   "id": "50338b6d",
   "metadata": {
    "collapsed": true
   },
   "outputs": [
    {
     "data": {
      "text/plain": [
       "array([    6,     8,     2,    32,     3,     4,    24,    12,    48,\n",
       "          18,    20,    36,    80,    64,    10,   120,    96,    23,\n",
       "           5,     1,     0,    50,    40,   100,   192,   432,   144,\n",
       "         288,    16,     9,   128,    25,    30,    28,     7,    56,\n",
       "          72,   200,   600,   480,    14,    11,    33,    13,    70,\n",
       "         252,    60,   216,   384,    27,    15,    22,    19,    17,\n",
       "          21,    34,    47,   108,    52,    75,   270,    42,   240,\n",
       "          90,   320,  1824,   204,    69,   160,  2880,  1400,    39,\n",
       "          26,  1440,    31,    82,    78,    97,    98,    35,    57,\n",
       "         110,   720,   156,   324,    38,    37,    49,    95,    29,\n",
       "          41,   402,   378,   150,   300,    54,   104,    67,   258,\n",
       "          66,    44,    55,    46,    99,    61,   408,   972,   208,\n",
       "        1008,  1000,  1488,   250,  1394,   400,    79,    84,   272,\n",
       "         113,    45,   106,    68,   267,   115,    65,  1728,    53,\n",
       "          76,   460,    71,    43,   213,    58,   576,  2400,   500,\n",
       "         180,   752,   960,  1296,   210,   172,   215,   129,   138,\n",
       "         116,   135,   197,   147,   168,   256,   860,  1010,  1356,\n",
       "        1284,   186,   114,   360,  1930,  2000,  3114,  1300,   670,\n",
       "         111,   211,    59,   176,   648,    62, 74215,    89,    73,\n",
       "         112,   456,  5568,  2560,   136,   900,   130,  2592,   420,\n",
       "         800,   101,  1200,   864,    94,  1287,   504,   123,   118,\n",
       "        1056,  1500,   280,   407,   141,   124,    51,  3906,   102,\n",
       "        1152,   198,   117,    86,   125,   140,   228,    81,  3000,\n",
       "         219,   232,   170,   768,    88,   700,  2160,   342,   304,\n",
       "         167,   640,   175,   220,    74,    93,   164,   163,    63,\n",
       "         637,   122,   158,   165,   350,    83,   312,   392,   330,\n",
       "         151,   462,   492,   273,    85,   105,  1350,   428,   336,\n",
       "         132,   227,  2700,   222,   246,   906,   756,   888,   552,\n",
       "         224,   738,   608,  4300,   146,   143,   276,  4000,  1600,\n",
       "         323,  1515,   660,   264,   188,   588,   612,   152,   430,\n",
       "          87,   155,   701,   828,   540,   696,   560,   121,   512,\n",
       "        3100,   126,   291,  3186,   109,   261,   352,   142,   107,\n",
       "         348,  1900,   157,   425,   968,   684,   824,   196,   248,\n",
       "         410,   236,   230,   145,   448,   245,   171,   840,   225,\n",
       "         750,   682,   344,   450,   310,   494,    92,  1788,   624,\n",
       "         744,   416,   496,   396,   306,  1878,  1944,   666,   708,\n",
       "        1428,   852,  1412,   528,   183,  1540,   672,    91,   255,\n",
       "         468,  4800,   912,  1992,   184,   148,   832,   992,   630,\n",
       "        1020,  2100,   162,   314,   370,   131,   133,   484,   149,\n",
       "         153,   257,   139,   137,   628,   179,  1820,   478,   335,\n",
       "         253,   242,   375,   281,   193,   181,   404,   244,   207,\n",
       "         199,  1130,   326,   654,   688,   268,   249,   234,   279,\n",
       "         374,   212, 12540,   760,   774,  2040,  1120,    77,   177,\n",
       "         490,   388,   620,  1404,   205,   698, 80995], dtype=int64)"
      ]
     },
     "execution_count": 67,
     "metadata": {},
     "output_type": "execute_result"
    }
   ],
   "source": [
    "df['Quantity'] = df['Quantity'].apply(lambda x : 0 if x<0 else x)\n",
    "df['Quantity'].unique()"
   ]
  },
  {
   "cell_type": "code",
   "execution_count": 70,
   "id": "017d315b",
   "metadata": {},
   "outputs": [
    {
     "data": {
      "text/plain": [
       "StockCode\n",
       "23843     80995\n",
       "23166     78033\n",
       "22197     56921\n",
       "84077     55047\n",
       "85099B    48478\n",
       "85123A    41664\n",
       "84879     36461\n",
       "21212     36419\n",
       "23084     31722\n",
       "22492     26633\n",
       "Name: Quantity, dtype: int64"
      ]
     },
     "execution_count": 70,
     "metadata": {},
     "output_type": "execute_result"
    }
   ],
   "source": [
    "df.groupby('StockCode')['Quantity'].sum().sort_values(ascending= False)[:10]"
   ]
  },
  {
   "cell_type": "code",
   "execution_count": null,
   "id": "63917b12",
   "metadata": {},
   "outputs": [],
   "source": [
    "# 어느 월에 구매한 고객(집단)이 retention(재구매)이 높은가?\n"
   ]
  }
 ],
 "metadata": {
  "kernelspec": {
   "display_name": "Python 3 (ipykernel)",
   "language": "python",
   "name": "python3"
  },
  "language_info": {
   "codemirror_mode": {
    "name": "ipython",
    "version": 3
   },
   "file_extension": ".py",
   "mimetype": "text/x-python",
   "name": "python",
   "nbconvert_exporter": "python",
   "pygments_lexer": "ipython3",
   "version": "3.9.7"
  },
  "varInspector": {
   "cols": {
    "lenName": 16,
    "lenType": 16,
    "lenVar": 40
   },
   "kernels_config": {
    "python": {
     "delete_cmd_postfix": "",
     "delete_cmd_prefix": "del ",
     "library": "var_list.py",
     "varRefreshCmd": "print(var_dic_list())"
    },
    "r": {
     "delete_cmd_postfix": ") ",
     "delete_cmd_prefix": "rm(",
     "library": "var_list.r",
     "varRefreshCmd": "cat(var_dic_list()) "
    }
   },
   "types_to_exclude": [
    "module",
    "function",
    "builtin_function_or_method",
    "instance",
    "_Feature"
   ],
   "window_display": false
  }
 },
 "nbformat": 4,
 "nbformat_minor": 5
}
