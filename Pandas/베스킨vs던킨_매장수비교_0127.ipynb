{
 "cells": [
  {
   "cell_type": "markdown",
   "id": "fe6cc813",
   "metadata": {},
   "source": [
    "## 배운 것\n",
    "\n",
    "* 데이터프레임의 데이터타입을 하나로 바꿀경우: df.astype(데이터형=str float..)\n",
    "\n",
    "* 데이터프레임에서 행을 제거할때: df.drop('인덱스 명')\n",
    "\n",
    "* 데이터프레임에서 두 column간 데이터의 중복값을 제거하는 경우: set으로 바꿔서 빼준다\n",
    "set(df31_1['상호명']) - set(df31['상호명'])\n",
    "\n",
    "* 데이터프레임 원소 중 특정단어 찾기: df['상호명'].astype(str).str.contains('(베|배)스킨라빈스')"
   ]
  },
  {
   "cell_type": "code",
   "execution_count": 1,
   "id": "597538aa",
   "metadata": {},
   "outputs": [],
   "source": [
    "import numpy as np\n",
    "import pandas as pd\n",
    "import matplotlib.pyplot as plt\n",
    "import seaborn as sns\n",
    "import warnings\n",
    "warnings.filterwarnings(action= 'ignore')"
   ]
  },
  {
   "cell_type": "code",
   "execution_count": 2,
   "id": "82272f90",
   "metadata": {},
   "outputs": [],
   "source": [
    "# matplotlib 한글깨지는 현상 생김 -> 환경설정 해줘야 함\n",
    "\n",
    "\n",
    "import matplotlib as mpl\n",
    "import matplotlib.font_manager as fm\n",
    "\n",
    "mpl.rcParams['axes.unicode_minus'] = False\n",
    "\n",
    "path = 'C:/Windows/Fonts/malgun.ttf'\n",
    "font_name = fm.FontProperties(fname=path, size=50).get_name()\n",
    "plt.rc('font', family=font_name)"
   ]
  },
  {
   "cell_type": "code",
   "execution_count": 3,
   "id": "1bea671b",
   "metadata": {},
   "outputs": [
    {
     "data": {
      "text/html": [
       "<div>\n",
       "<style scoped>\n",
       "    .dataframe tbody tr th:only-of-type {\n",
       "        vertical-align: middle;\n",
       "    }\n",
       "\n",
       "    .dataframe tbody tr th {\n",
       "        vertical-align: top;\n",
       "    }\n",
       "\n",
       "    .dataframe thead th {\n",
       "        text-align: right;\n",
       "    }\n",
       "</style>\n",
       "<table border=\"1\" class=\"dataframe\">\n",
       "  <thead>\n",
       "    <tr style=\"text-align: right;\">\n",
       "      <th></th>\n",
       "      <th>상가업소번호</th>\n",
       "      <th>상호명</th>\n",
       "      <th>지점명</th>\n",
       "      <th>상권업종대분류코드</th>\n",
       "      <th>상권업종대분류명</th>\n",
       "      <th>상권업종중분류코드</th>\n",
       "      <th>상권업종중분류명</th>\n",
       "      <th>상권업종소분류코드</th>\n",
       "      <th>상권업종소분류명</th>\n",
       "      <th>표준산업분류코드</th>\n",
       "      <th>...</th>\n",
       "      <th>건물관리번호</th>\n",
       "      <th>건물명</th>\n",
       "      <th>도로명주소</th>\n",
       "      <th>구우편번호</th>\n",
       "      <th>신우편번호</th>\n",
       "      <th>동정보</th>\n",
       "      <th>층정보</th>\n",
       "      <th>호정보</th>\n",
       "      <th>경도</th>\n",
       "      <th>위도</th>\n",
       "    </tr>\n",
       "  </thead>\n",
       "  <tbody>\n",
       "    <tr>\n",
       "      <th>0</th>\n",
       "      <td>22767534</td>\n",
       "      <td>BYC상신점</td>\n",
       "      <td>상신점</td>\n",
       "      <td>D</td>\n",
       "      <td>소매</td>\n",
       "      <td>D05</td>\n",
       "      <td>의복의류</td>\n",
       "      <td>D05A07</td>\n",
       "      <td>셔츠/내의/속옷</td>\n",
       "      <td>NaN</td>\n",
       "      <td>...</td>\n",
       "      <td>1171011300100360000022458</td>\n",
       "      <td>성암빌딩</td>\n",
       "      <td>서울특별시 송파구 오금로 527</td>\n",
       "      <td>138110</td>\n",
       "      <td>5768.0</td>\n",
       "      <td>NaN</td>\n",
       "      <td>1</td>\n",
       "      <td>NaN</td>\n",
       "      <td>127.147321</td>\n",
       "      <td>37.493054</td>\n",
       "    </tr>\n",
       "    <tr>\n",
       "      <th>1</th>\n",
       "      <td>23324279</td>\n",
       "      <td>제중건강원</td>\n",
       "      <td>NaN</td>\n",
       "      <td>D</td>\n",
       "      <td>소매</td>\n",
       "      <td>D10</td>\n",
       "      <td>건강/미용식품</td>\n",
       "      <td>D10A07</td>\n",
       "      <td>건강원</td>\n",
       "      <td>G47216</td>\n",
       "      <td>...</td>\n",
       "      <td>1156010600100410002034626</td>\n",
       "      <td>NaN</td>\n",
       "      <td>서울특별시 영등포구 영중로14길 11-17</td>\n",
       "      <td>150035</td>\n",
       "      <td>7250.0</td>\n",
       "      <td>NaN</td>\n",
       "      <td>1</td>\n",
       "      <td>NaN</td>\n",
       "      <td>126.907168</td>\n",
       "      <td>37.520613</td>\n",
       "    </tr>\n",
       "  </tbody>\n",
       "</table>\n",
       "<p>2 rows × 39 columns</p>\n",
       "</div>"
      ],
      "text/plain": [
       "     상가업소번호     상호명  지점명 상권업종대분류코드 상권업종대분류명 상권업종중분류코드 상권업종중분류명 상권업종소분류코드  \\\n",
       "0  22767534  BYC상신점  상신점         D       소매       D05     의복의류    D05A07   \n",
       "1  23324279   제중건강원  NaN         D       소매       D10  건강/미용식품    D10A07   \n",
       "\n",
       "   상권업종소분류명 표준산업분류코드  ...                     건물관리번호   건물명  \\\n",
       "0  셔츠/내의/속옷      NaN  ...  1171011300100360000022458  성암빌딩   \n",
       "1       건강원   G47216  ...  1156010600100410002034626   NaN   \n",
       "\n",
       "                     도로명주소   구우편번호   신우편번호  동정보 층정보  호정보          경도  \\\n",
       "0        서울특별시 송파구 오금로 527  138110  5768.0  NaN   1  NaN  127.147321   \n",
       "1  서울특별시 영등포구 영중로14길 11-17  150035  7250.0  NaN   1  NaN  126.907168   \n",
       "\n",
       "          위도  \n",
       "0  37.493054  \n",
       "1  37.520613  \n",
       "\n",
       "[2 rows x 39 columns]"
      ]
     },
     "execution_count": 3,
     "metadata": {},
     "output_type": "execute_result"
    }
   ],
   "source": [
    "df = pd.read_csv(\"./Pandas_data_file/소상공인시장진흥공단_상가(상권)정보_20210930/소상공인시장진흥공단_상가(상권)정보_서울_202109.csv\")\n",
    "df.head(2)"
   ]
  },
  {
   "cell_type": "code",
   "execution_count": 4,
   "id": "6a19155a",
   "metadata": {},
   "outputs": [
    {
     "data": {
      "text/plain": [
       "상가업소번호            0\n",
       "상호명               1\n",
       "지점명          266267\n",
       "상권업종대분류코드         0\n",
       "상권업종대분류명          0\n",
       "상권업종중분류코드         0\n",
       "상권업종중분류명          0\n",
       "상권업종소분류코드         0\n",
       "상권업종소분류명          0\n",
       "표준산업분류코드      19473\n",
       "표준산업분류명       19473\n",
       "시도코드              0\n",
       "시도명               0\n",
       "시군구코드             0\n",
       "시군구명              0\n",
       "행정동코드             0\n",
       "행정동명            645\n",
       "법정동코드             0\n",
       "법정동명              0\n",
       "지번코드              0\n",
       "대지구분코드            0\n",
       "대지구분명             0\n",
       "지번본번지             0\n",
       "지번부번지         65471\n",
       "지번주소              0\n",
       "도로명코드             0\n",
       "도로명               0\n",
       "건물본번지             0\n",
       "건물부번지        284885\n",
       "건물관리번호            0\n",
       "건물명          167594\n",
       "도로명주소             0\n",
       "구우편번호             0\n",
       "신우편번호             5\n",
       "동정보          296772\n",
       "층정보          121746\n",
       "호정보          260205\n",
       "경도                0\n",
       "위도                0\n",
       "dtype: int64"
      ]
     },
     "execution_count": 4,
     "metadata": {},
     "output_type": "execute_result"
    }
   ],
   "source": [
    "df.isnull().sum()"
   ]
  },
  {
   "cell_type": "code",
   "execution_count": null,
   "id": "a42b1594",
   "metadata": {},
   "outputs": [],
   "source": []
  },
  {
   "cell_type": "code",
   "execution_count": 5,
   "id": "75027b18",
   "metadata": {},
   "outputs": [],
   "source": [
    "# 베스킨라빈스 vs 던킨도너츠 의 지역별 매장수를 비교하시오\n",
    "# 각각 매장수?\n",
    "#각각 어느 구에 매장수가 많은지 비교"
   ]
  },
  {
   "cell_type": "code",
   "execution_count": 6,
   "id": "9edfd3a8",
   "metadata": {},
   "outputs": [
    {
     "data": {
      "text/plain": [
       "Index(['상가업소번호', '상호명', '지점명', '상권업종대분류코드', '상권업종대분류명', '상권업종중분류코드',\n",
       "       '상권업종중분류명', '상권업종소분류코드', '상권업종소분류명', '표준산업분류코드', '표준산업분류명', '시도코드',\n",
       "       '시도명', '시군구코드', '시군구명', '행정동코드', '행정동명', '법정동코드', '법정동명', '지번코드',\n",
       "       '대지구분코드', '대지구분명', '지번본번지', '지번부번지', '지번주소', '도로명코드', '도로명', '건물본번지',\n",
       "       '건물부번지', '건물관리번호', '건물명', '도로명주소', '구우편번호', '신우편번호', '동정보', '층정보',\n",
       "       '호정보', '경도', '위도'],\n",
       "      dtype='object')"
      ]
     },
     "execution_count": 6,
     "metadata": {},
     "output_type": "execute_result"
    }
   ],
   "source": [
    "# 데이터 파악 \n",
    "\n",
    "# 필요한 정보 : 상호명 위치 \n",
    "# 위치를 나타내는 column 이 정확히 뭔지 잘 모르는 상황\n",
    "\n",
    "# column명\n",
    "# df.columns()   TypeError: 'Index' object is not callable '인덱스'객체를 호출할 수 없다\n",
    "\n",
    "df.columns"
   ]
  },
  {
   "cell_type": "code",
   "execution_count": 7,
   "id": "75a73049",
   "metadata": {},
   "outputs": [
    {
     "data": {
      "text/plain": [
       "39"
      ]
     },
     "execution_count": 7,
     "metadata": {},
     "output_type": "execute_result"
    }
   ],
   "source": [
    "len(df.columns)  # column: 39개 "
   ]
  },
  {
   "cell_type": "code",
   "execution_count": 8,
   "id": "0fb11b67",
   "metadata": {},
   "outputs": [],
   "source": [
    "# 위치에 관련된 column 을 찾아보면 -> '시도명', '시군구명' "
   ]
  },
  {
   "cell_type": "code",
   "execution_count": 9,
   "id": "e4554fb1",
   "metadata": {},
   "outputs": [
    {
     "data": {
      "text/plain": [
       "0    서울특별시\n",
       "1    서울특별시\n",
       "2    서울특별시\n",
       "3    서울특별시\n",
       "4    서울특별시\n",
       "Name: 시도명, dtype: object"
      ]
     },
     "execution_count": 9,
     "metadata": {},
     "output_type": "execute_result"
    }
   ],
   "source": [
    "#데이터확인\n",
    "#시도명\n",
    "df['시도명'].head()"
   ]
  },
  {
   "cell_type": "code",
   "execution_count": 10,
   "id": "0acbf2ea",
   "metadata": {},
   "outputs": [
    {
     "data": {
      "text/plain": [
       "array(['송파구', '영등포구', '성동구', '동작구', '종로구', '서초구', '강남구', '마포구', '양천구',\n",
       "       '서대문구', '중랑구', '은평구', '성북구', '강동구', '관악구', '광진구', '중구', '동대문구',\n",
       "       '용산구', '강서구', '노원구', '강북구', '구로구', '금천구', '도봉구'], dtype=object)"
      ]
     },
     "execution_count": 10,
     "metadata": {},
     "output_type": "execute_result"
    }
   ],
   "source": [
    "#시군구명\n",
    "df['시군구명'].unique()  # 시군구명 이 위치데이터에 적합"
   ]
  },
  {
   "cell_type": "code",
   "execution_count": 11,
   "id": "90626cc9",
   "metadata": {},
   "outputs": [],
   "source": [
    "# 매장개수 : 상호명, 매장위치 : 시군구명 으로 데이터 수집"
   ]
  },
  {
   "cell_type": "code",
   "execution_count": null,
   "id": "a0281391",
   "metadata": {},
   "outputs": [],
   "source": []
  },
  {
   "cell_type": "code",
   "execution_count": 12,
   "id": "9de20a7a",
   "metadata": {},
   "outputs": [],
   "source": [
    "pd.set_option('display.max_rows', 500)\n",
    "pd.set_option('display.max_columns', 500)"
   ]
  },
  {
   "cell_type": "code",
   "execution_count": 13,
   "id": "6e0691eb",
   "metadata": {},
   "outputs": [
    {
     "name": "stdout",
     "output_type": "stream",
     "text": [
      "['BYC상신점' '제중건강원' '민속악기사' ... '봄쥬얼리' '아이디어뱅' '애프터아트']\n"
     ]
    }
   ],
   "source": [
    "# 매장개수 찾기\n",
    "\n",
    "# 매장 상호명이 어떤식으로 되어있는지 확인해야한다.\n",
    "print(df['상호명'].unique())"
   ]
  },
  {
   "cell_type": "code",
   "execution_count": 14,
   "id": "cd1ac80c",
   "metadata": {},
   "outputs": [],
   "source": [
    "# # 모두 출력해보는법\n",
    "# for i in df['상호명'].unique():\n",
    "#     print(i, end='  ')\n",
    "    \n",
    "# 데이터가 너무 많아서 의미 없다"
   ]
  },
  {
   "cell_type": "code",
   "execution_count": null,
   "id": "bee9e30e",
   "metadata": {},
   "outputs": [],
   "source": []
  },
  {
   "cell_type": "code",
   "execution_count": 15,
   "id": "4355adf8",
   "metadata": {},
   "outputs": [],
   "source": [
    "# 베스킨라빈스 매장 데이터 추출"
   ]
  },
  {
   "cell_type": "code",
   "execution_count": 16,
   "id": "597e20ab",
   "metadata": {},
   "outputs": [
    {
     "data": {
      "text/plain": [
       "0         False\n",
       "1         False\n",
       "2         False\n",
       "3         False\n",
       "4         False\n",
       "          ...  \n",
       "325875    False\n",
       "325876    False\n",
       "325877    False\n",
       "325878    False\n",
       "325879    False\n",
       "Name: 상호명, Length: 325880, dtype: object"
      ]
     },
     "execution_count": 16,
     "metadata": {},
     "output_type": "execute_result"
    }
   ],
   "source": [
    "df['상호명'].str.contains('(베|배)스킨라빈스')  # .str.contains 판다스 에서 쓸 수 있는 문법"
   ]
  },
  {
   "cell_type": "code",
   "execution_count": 17,
   "id": "c6b67570",
   "metadata": {},
   "outputs": [
    {
     "data": {
      "text/plain": [
       "1"
      ]
     },
     "execution_count": 17,
     "metadata": {},
     "output_type": "execute_result"
    }
   ],
   "source": [
    "df['상호명'].str.contains('(베|배)스킨라빈스').isnull().sum()"
   ]
  },
  {
   "cell_type": "code",
   "execution_count": 43,
   "id": "7a7237de",
   "metadata": {},
   "outputs": [
    {
     "data": {
      "text/plain": [
       "0              BYC상신점\n",
       "1               제중건강원\n",
       "2               민속악기사\n",
       "3                쓰리에프\n",
       "4                  채움\n",
       "             ...     \n",
       "325875    엘케이공인중개사사무소\n",
       "325876           봄쥬얼리\n",
       "325877          아이디어뱅\n",
       "325878          애프터아트\n",
       "325879           허브헤어\n",
       "Name: 상호명, Length: 325880, dtype: object"
      ]
     },
     "execution_count": 43,
     "metadata": {},
     "output_type": "execute_result"
    }
   ],
   "source": [
    "df['상호명']"
   ]
  },
  {
   "cell_type": "code",
   "execution_count": 18,
   "id": "74332cab",
   "metadata": {},
   "outputs": [
    {
     "data": {
      "text/plain": [
       "352"
      ]
     },
     "execution_count": 18,
     "metadata": {},
     "output_type": "execute_result"
    }
   ],
   "source": [
    "# 데이터를 boolean 형에서 꺼내려면 새로운 데이터프레임 지정해서 데이터프레임의 column 추출해야함\n",
    "\n",
    "# df31 = df[df['상호명'].str.contains('(베|배)스킨라빈스')] \n",
    "\n",
    "# 하려고 했으나 \n",
    "# ValueError: Cannot mask with non-boolean array containing NA / NaN values\n",
    "\n",
    "df31 = df[df['상호명'].astype(str).str.contains('(베|배)스킨라빈스')] \n",
    "df31['상호명'].count()"
   ]
  },
  {
   "cell_type": "code",
   "execution_count": 19,
   "id": "853b81d1",
   "metadata": {},
   "outputs": [
    {
     "data": {
      "text/plain": [
       "355"
      ]
     },
     "execution_count": 19,
     "metadata": {},
     "output_type": "execute_result"
    }
   ],
   "source": [
    "# 배스킨라빈스, 베스킨라빈스 제외 다른 이름 검색시 352개 나오는 지 확인\n",
    "\n",
    "df31_1 = df[df['상호명'].astype(str).str.contains('라빈스')]\n",
    "df31_1['상호명'].count() # 355개"
   ]
  },
  {
   "cell_type": "code",
   "execution_count": 20,
   "id": "7c1880c1",
   "metadata": {},
   "outputs": [
    {
     "data": {
      "text/plain": [
       "{'벨라빈스', '벨라빈스커피', '벨라빈스커피길음뉴타운점'}"
      ]
     },
     "execution_count": 20,
     "metadata": {},
     "output_type": "execute_result"
    }
   ],
   "source": [
    "##중요 :데이터프레임 열 간 중복값 제거!! column = series -> set으로 바꿔 빼준다.\n",
    "\n",
    "# 추가 3개값이 관련있는지 확인\n",
    "# 집합으로 바꿔서 중복값을 제거\n",
    "\n",
    "set(df31_1['상호명']) - set(df31['상호명']) #상관없는 데이터\n"
   ]
  },
  {
   "cell_type": "code",
   "execution_count": null,
   "id": "70a2057f",
   "metadata": {},
   "outputs": [],
   "source": []
  },
  {
   "cell_type": "code",
   "execution_count": 21,
   "id": "98dd9df2",
   "metadata": {},
   "outputs": [
    {
     "data": {
      "text/plain": [
       "355"
      ]
     },
     "execution_count": 21,
     "metadata": {},
     "output_type": "execute_result"
    }
   ],
   "source": [
    "# 배스킨라빈스, 베스킨라빈스 제외 다른 이름 검색시 352개 나오는 지 확인\n",
    "\n",
    "df31_2 = df[df['상호명'].astype(str).str.contains('(베|배)스킨')]\n",
    "df31_2['상호명'].count() "
   ]
  },
  {
   "cell_type": "code",
   "execution_count": null,
   "id": "9fce129d",
   "metadata": {},
   "outputs": [],
   "source": []
  },
  {
   "cell_type": "code",
   "execution_count": 22,
   "id": "88b7ab6c",
   "metadata": {},
   "outputs": [
    {
     "data": {
      "text/plain": [
       "{'배스킨', '베스킨', '써타원베스킨란빈스'}"
      ]
     },
     "execution_count": 22,
     "metadata": {},
     "output_type": "execute_result"
    }
   ],
   "source": [
    "set(df31_2['상호명']) - set(df31['상호명']) # 3개를 추가해야한다."
   ]
  },
  {
   "cell_type": "code",
   "execution_count": 23,
   "id": "d069f4ff",
   "metadata": {},
   "outputs": [
    {
     "data": {
      "text/html": [
       "<div>\n",
       "<style scoped>\n",
       "    .dataframe tbody tr th:only-of-type {\n",
       "        vertical-align: middle;\n",
       "    }\n",
       "\n",
       "    .dataframe tbody tr th {\n",
       "        vertical-align: top;\n",
       "    }\n",
       "\n",
       "    .dataframe thead th {\n",
       "        text-align: right;\n",
       "    }\n",
       "</style>\n",
       "<table border=\"1\" class=\"dataframe\">\n",
       "  <thead>\n",
       "    <tr style=\"text-align: right;\">\n",
       "      <th></th>\n",
       "      <th>상가업소번호</th>\n",
       "      <th>상호명</th>\n",
       "      <th>지점명</th>\n",
       "      <th>상권업종대분류코드</th>\n",
       "      <th>상권업종대분류명</th>\n",
       "      <th>상권업종중분류코드</th>\n",
       "      <th>상권업종중분류명</th>\n",
       "      <th>상권업종소분류코드</th>\n",
       "      <th>상권업종소분류명</th>\n",
       "      <th>표준산업분류코드</th>\n",
       "      <th>표준산업분류명</th>\n",
       "      <th>시도코드</th>\n",
       "      <th>시도명</th>\n",
       "      <th>시군구코드</th>\n",
       "      <th>시군구명</th>\n",
       "      <th>행정동코드</th>\n",
       "      <th>행정동명</th>\n",
       "      <th>법정동코드</th>\n",
       "      <th>법정동명</th>\n",
       "      <th>지번코드</th>\n",
       "      <th>대지구분코드</th>\n",
       "      <th>대지구분명</th>\n",
       "      <th>지번본번지</th>\n",
       "      <th>지번부번지</th>\n",
       "      <th>지번주소</th>\n",
       "      <th>도로명코드</th>\n",
       "      <th>도로명</th>\n",
       "      <th>건물본번지</th>\n",
       "      <th>건물부번지</th>\n",
       "      <th>건물관리번호</th>\n",
       "      <th>건물명</th>\n",
       "      <th>도로명주소</th>\n",
       "      <th>구우편번호</th>\n",
       "      <th>신우편번호</th>\n",
       "      <th>동정보</th>\n",
       "      <th>층정보</th>\n",
       "      <th>호정보</th>\n",
       "      <th>경도</th>\n",
       "      <th>위도</th>\n",
       "    </tr>\n",
       "  </thead>\n",
       "  <tbody>\n",
       "    <tr>\n",
       "      <th>91388</th>\n",
       "      <td>27871116</td>\n",
       "      <td>베스킨</td>\n",
       "      <td>NaN</td>\n",
       "      <td>Q</td>\n",
       "      <td>음식</td>\n",
       "      <td>Q07</td>\n",
       "      <td>패스트푸드</td>\n",
       "      <td>Q07A07</td>\n",
       "      <td>아이스크림판매</td>\n",
       "      <td>I56191</td>\n",
       "      <td>제과점업</td>\n",
       "      <td>11</td>\n",
       "      <td>서울특별시</td>\n",
       "      <td>11680</td>\n",
       "      <td>강남구</td>\n",
       "      <td>1168056500</td>\n",
       "      <td>청담동</td>\n",
       "      <td>1168010400</td>\n",
       "      <td>청담동</td>\n",
       "      <td>1168010400101250022</td>\n",
       "      <td>1</td>\n",
       "      <td>대지</td>\n",
       "      <td>125</td>\n",
       "      <td>22.0</td>\n",
       "      <td>서울특별시 강남구 청담동 125-22</td>\n",
       "      <td>116802122001</td>\n",
       "      <td>서울특별시 강남구 도산대로</td>\n",
       "      <td>521</td>\n",
       "      <td>NaN</td>\n",
       "      <td>1168010400101250022017750</td>\n",
       "      <td>NaN</td>\n",
       "      <td>서울특별시 강남구 도산대로 521</td>\n",
       "      <td>135957</td>\n",
       "      <td>6013.0</td>\n",
       "      <td>NaN</td>\n",
       "      <td>NaN</td>\n",
       "      <td>NaN</td>\n",
       "      <td>127.050366</td>\n",
       "      <td>37.52486</td>\n",
       "    </tr>\n",
       "  </tbody>\n",
       "</table>\n",
       "</div>"
      ],
      "text/plain": [
       "         상가업소번호  상호명  지점명 상권업종대분류코드 상권업종대분류명 상권업종중분류코드 상권업종중분류명 상권업종소분류코드  \\\n",
       "91388  27871116  베스킨  NaN         Q       음식       Q07    패스트푸드    Q07A07   \n",
       "\n",
       "      상권업종소분류명 표준산업분류코드 표준산업분류명  시도코드    시도명  시군구코드 시군구명       행정동코드 행정동명  \\\n",
       "91388  아이스크림판매   I56191    제과점업    11  서울특별시  11680  강남구  1168056500  청담동   \n",
       "\n",
       "            법정동코드 법정동명                 지번코드  대지구분코드 대지구분명  지번본번지  지번부번지  \\\n",
       "91388  1168010400  청담동  1168010400101250022       1    대지    125   22.0   \n",
       "\n",
       "                       지번주소         도로명코드             도로명  건물본번지  건물부번지  \\\n",
       "91388  서울특별시 강남구 청담동 125-22  116802122001  서울특별시 강남구 도산대로    521    NaN   \n",
       "\n",
       "                          건물관리번호  건물명               도로명주소   구우편번호   신우편번호  \\\n",
       "91388  1168010400101250022017750  NaN  서울특별시 강남구 도산대로 521  135957  6013.0   \n",
       "\n",
       "       동정보  층정보  호정보          경도        위도  \n",
       "91388  NaN  NaN  NaN  127.050366  37.52486  "
      ]
     },
     "execution_count": 23,
     "metadata": {},
     "output_type": "execute_result"
    }
   ],
   "source": [
    "# '배스킨' 인 지점 정보 확인하기\n",
    "\n",
    "df[df['상호명']=='써타원베스킨란빈스'] \n",
    "# 상권업종소분류명 :아이스크림판매\n",
    "\n",
    "df[df['상호명']=='배스킨']  # df에서 상호명이 '배스킨'인 것의 데이터프레임\n",
    "\n",
    "#상권업종소분류명 :'아이스크림판매' 이므로 포함 주소: 서울특별시 구로구 구로동 3-25\n",
    "\n",
    "df[df['상호명']=='베스킨'] \n",
    "# 주소 :서울특별시 강남구 청담동 125-22\n"
   ]
  },
  {
   "cell_type": "code",
   "execution_count": 24,
   "id": "aa21c66f",
   "metadata": {},
   "outputs": [
    {
     "data": {
      "text/plain": [
       "1"
      ]
     },
     "execution_count": 24,
     "metadata": {},
     "output_type": "execute_result"
    }
   ],
   "source": [
    "# 영어이름 있는지 확인\n",
    "\n",
    "df31_e = df[df['상호명'].astype(str).str.contains('baskin|Baskin|baskinrobbins|BaskinRobbins|Baskinrobbins')]\n",
    "df31_e['상호명'].count() #1개 존재"
   ]
  },
  {
   "cell_type": "code",
   "execution_count": 25,
   "id": "e361ea87",
   "metadata": {},
   "outputs": [
    {
     "data": {
      "text/plain": [
       "11381    baskinrobbins\n",
       "Name: 상호명, dtype: object"
      ]
     },
     "execution_count": 25,
     "metadata": {},
     "output_type": "execute_result"
    }
   ],
   "source": [
    "df31_e['상호명'] # 1개 추가해야함"
   ]
  },
  {
   "cell_type": "code",
   "execution_count": 26,
   "id": "f77ec052",
   "metadata": {},
   "outputs": [
    {
     "data": {
      "text/plain": [
       "356"
      ]
     },
     "execution_count": 26,
     "metadata": {},
     "output_type": "execute_result"
    }
   ],
   "source": [
    "df31_final = df[df['상호명'].astype(str).str.contains('(베|배)스킨|baskinrobbins')]\n",
    "df31_final['상호명'].count()"
   ]
  },
  {
   "cell_type": "code",
   "execution_count": 27,
   "id": "d2a376db",
   "metadata": {},
   "outputs": [
    {
     "data": {
      "text/plain": [
       "array(['음식', '소매'], dtype=object)"
      ]
     },
     "execution_count": 27,
     "metadata": {},
     "output_type": "execute_result"
    }
   ],
   "source": [
    "# 데이터 검토\n",
    "\n",
    "df31_final.상권업종대분류명.unique()"
   ]
  },
  {
   "cell_type": "code",
   "execution_count": 28,
   "id": "62b16350",
   "metadata": {},
   "outputs": [
    {
     "data": {
      "text/html": [
       "<div>\n",
       "<style scoped>\n",
       "    .dataframe tbody tr th:only-of-type {\n",
       "        vertical-align: middle;\n",
       "    }\n",
       "\n",
       "    .dataframe tbody tr th {\n",
       "        vertical-align: top;\n",
       "    }\n",
       "\n",
       "    .dataframe thead th {\n",
       "        text-align: right;\n",
       "    }\n",
       "</style>\n",
       "<table border=\"1\" class=\"dataframe\">\n",
       "  <thead>\n",
       "    <tr style=\"text-align: right;\">\n",
       "      <th></th>\n",
       "      <th>상가업소번호</th>\n",
       "      <th>상호명</th>\n",
       "      <th>지점명</th>\n",
       "      <th>상권업종대분류코드</th>\n",
       "      <th>상권업종대분류명</th>\n",
       "      <th>상권업종중분류코드</th>\n",
       "      <th>상권업종중분류명</th>\n",
       "      <th>상권업종소분류코드</th>\n",
       "      <th>상권업종소분류명</th>\n",
       "      <th>표준산업분류코드</th>\n",
       "      <th>표준산업분류명</th>\n",
       "      <th>시도코드</th>\n",
       "      <th>시도명</th>\n",
       "      <th>시군구코드</th>\n",
       "      <th>시군구명</th>\n",
       "      <th>행정동코드</th>\n",
       "      <th>행정동명</th>\n",
       "      <th>법정동코드</th>\n",
       "      <th>법정동명</th>\n",
       "      <th>지번코드</th>\n",
       "      <th>대지구분코드</th>\n",
       "      <th>대지구분명</th>\n",
       "      <th>지번본번지</th>\n",
       "      <th>지번부번지</th>\n",
       "      <th>지번주소</th>\n",
       "      <th>도로명코드</th>\n",
       "      <th>도로명</th>\n",
       "      <th>건물본번지</th>\n",
       "      <th>건물부번지</th>\n",
       "      <th>건물관리번호</th>\n",
       "      <th>건물명</th>\n",
       "      <th>도로명주소</th>\n",
       "      <th>구우편번호</th>\n",
       "      <th>신우편번호</th>\n",
       "      <th>동정보</th>\n",
       "      <th>층정보</th>\n",
       "      <th>호정보</th>\n",
       "      <th>경도</th>\n",
       "      <th>위도</th>\n",
       "    </tr>\n",
       "  </thead>\n",
       "  <tbody>\n",
       "    <tr>\n",
       "      <th>168149</th>\n",
       "      <td>20011576</td>\n",
       "      <td>배스킨라빈스</td>\n",
       "      <td>CAFE31압구정점</td>\n",
       "      <td>D</td>\n",
       "      <td>소매</td>\n",
       "      <td>D03</td>\n",
       "      <td>종합소매점</td>\n",
       "      <td>D03B10</td>\n",
       "      <td>할인점</td>\n",
       "      <td>G47119</td>\n",
       "      <td>기타 대형 종합 소매업</td>\n",
       "      <td>11</td>\n",
       "      <td>서울특별시</td>\n",
       "      <td>11680</td>\n",
       "      <td>강남구</td>\n",
       "      <td>1168054500</td>\n",
       "      <td>압구정동</td>\n",
       "      <td>1168010700</td>\n",
       "      <td>신사동</td>\n",
       "      <td>1168010700106140000</td>\n",
       "      <td>1</td>\n",
       "      <td>대지</td>\n",
       "      <td>614</td>\n",
       "      <td>NaN</td>\n",
       "      <td>서울특별시 강남구 신사동 614</td>\n",
       "      <td>116803122007</td>\n",
       "      <td>서울특별시 강남구 압구정로</td>\n",
       "      <td>204</td>\n",
       "      <td>NaN</td>\n",
       "      <td>1168010700106140000009800</td>\n",
       "      <td>대언빌딩</td>\n",
       "      <td>서울특별시 강남구 압구정로 204</td>\n",
       "      <td>135894</td>\n",
       "      <td>6022.0</td>\n",
       "      <td>NaN</td>\n",
       "      <td>1</td>\n",
       "      <td>NaN</td>\n",
       "      <td>127.029381</td>\n",
       "      <td>37.527375</td>\n",
       "    </tr>\n",
       "  </tbody>\n",
       "</table>\n",
       "</div>"
      ],
      "text/plain": [
       "          상가업소번호     상호명         지점명 상권업종대분류코드 상권업종대분류명 상권업종중분류코드 상권업종중분류명  \\\n",
       "168149  20011576  배스킨라빈스  CAFE31압구정점         D       소매       D03    종합소매점   \n",
       "\n",
       "       상권업종소분류코드 상권업종소분류명 표준산업분류코드       표준산업분류명  시도코드    시도명  시군구코드 시군구명  \\\n",
       "168149    D03B10      할인점   G47119  기타 대형 종합 소매업    11  서울특별시  11680  강남구   \n",
       "\n",
       "             행정동코드  행정동명       법정동코드 법정동명                 지번코드  대지구분코드 대지구분명  \\\n",
       "168149  1168054500  압구정동  1168010700  신사동  1168010700106140000       1    대지   \n",
       "\n",
       "        지번본번지  지번부번지               지번주소         도로명코드             도로명  건물본번지  \\\n",
       "168149    614    NaN  서울특별시 강남구 신사동 614  116803122007  서울특별시 강남구 압구정로    204   \n",
       "\n",
       "        건물부번지                     건물관리번호   건물명               도로명주소   구우편번호  \\\n",
       "168149    NaN  1168010700106140000009800  대언빌딩  서울특별시 강남구 압구정로 204  135894   \n",
       "\n",
       "         신우편번호  동정보 층정보  호정보          경도         위도  \n",
       "168149  6022.0  NaN   1  NaN  127.029381  37.527375  "
      ]
     },
     "execution_count": 28,
     "metadata": {},
     "output_type": "execute_result"
    }
   ],
   "source": [
    "df31_final[df31_final['상권업종대분류명']=='소매']  ## 직접 검색해본 결과 베스킨라빈스 맞음"
   ]
  },
  {
   "cell_type": "code",
   "execution_count": null,
   "id": "c4d7b27a",
   "metadata": {},
   "outputs": [],
   "source": []
  },
  {
   "cell_type": "code",
   "execution_count": null,
   "id": "cc15ba70",
   "metadata": {},
   "outputs": [],
   "source": []
  },
  {
   "cell_type": "code",
   "execution_count": null,
   "id": "d7c488e8",
   "metadata": {},
   "outputs": [],
   "source": []
  },
  {
   "cell_type": "code",
   "execution_count": 29,
   "id": "146557ee",
   "metadata": {},
   "outputs": [],
   "source": [
    "# 던킨도너츠 매장 데이터 추출"
   ]
  },
  {
   "cell_type": "code",
   "execution_count": 30,
   "id": "1a600f87",
   "metadata": {},
   "outputs": [
    {
     "data": {
      "text/plain": [
       "115"
      ]
     },
     "execution_count": 30,
     "metadata": {},
     "output_type": "execute_result"
    }
   ],
   "source": [
    "df_dunkin = df[df['상호명'].astype(str).str.contains(\"던킨도너츠|던킨|dunkin|Dunkin|DUNKIN\")]\n",
    "df_dunkin['상호명'].count()"
   ]
  },
  {
   "cell_type": "code",
   "execution_count": 31,
   "id": "0a6cabdc",
   "metadata": {},
   "outputs": [
    {
     "data": {
      "text/plain": [
       "1"
      ]
     },
     "execution_count": 31,
     "metadata": {},
     "output_type": "execute_result"
    }
   ],
   "source": [
    "df_dun1 = df[df['상호명'].astype(str).str.contains(\"dunkin|Dunkin|DUNKIN\")]\n",
    "df_dun1['상호명'].count()"
   ]
  },
  {
   "cell_type": "code",
   "execution_count": 32,
   "id": "b728fa19",
   "metadata": {},
   "outputs": [
    {
     "data": {
      "text/html": [
       "<div>\n",
       "<style scoped>\n",
       "    .dataframe tbody tr th:only-of-type {\n",
       "        vertical-align: middle;\n",
       "    }\n",
       "\n",
       "    .dataframe tbody tr th {\n",
       "        vertical-align: top;\n",
       "    }\n",
       "\n",
       "    .dataframe thead th {\n",
       "        text-align: right;\n",
       "    }\n",
       "</style>\n",
       "<table border=\"1\" class=\"dataframe\">\n",
       "  <thead>\n",
       "    <tr style=\"text-align: right;\">\n",
       "      <th></th>\n",
       "      <th>상가업소번호</th>\n",
       "      <th>상호명</th>\n",
       "      <th>지점명</th>\n",
       "      <th>상권업종대분류코드</th>\n",
       "      <th>상권업종대분류명</th>\n",
       "      <th>상권업종중분류코드</th>\n",
       "      <th>상권업종중분류명</th>\n",
       "      <th>상권업종소분류코드</th>\n",
       "      <th>상권업종소분류명</th>\n",
       "      <th>표준산업분류코드</th>\n",
       "      <th>표준산업분류명</th>\n",
       "      <th>시도코드</th>\n",
       "      <th>시도명</th>\n",
       "      <th>시군구코드</th>\n",
       "      <th>시군구명</th>\n",
       "      <th>행정동코드</th>\n",
       "      <th>행정동명</th>\n",
       "      <th>법정동코드</th>\n",
       "      <th>법정동명</th>\n",
       "      <th>지번코드</th>\n",
       "      <th>대지구분코드</th>\n",
       "      <th>대지구분명</th>\n",
       "      <th>지번본번지</th>\n",
       "      <th>지번부번지</th>\n",
       "      <th>지번주소</th>\n",
       "      <th>도로명코드</th>\n",
       "      <th>도로명</th>\n",
       "      <th>건물본번지</th>\n",
       "      <th>건물부번지</th>\n",
       "      <th>건물관리번호</th>\n",
       "      <th>건물명</th>\n",
       "      <th>도로명주소</th>\n",
       "      <th>구우편번호</th>\n",
       "      <th>신우편번호</th>\n",
       "      <th>동정보</th>\n",
       "      <th>층정보</th>\n",
       "      <th>호정보</th>\n",
       "      <th>경도</th>\n",
       "      <th>위도</th>\n",
       "    </tr>\n",
       "  </thead>\n",
       "  <tbody>\n",
       "    <tr>\n",
       "      <th>217855</th>\n",
       "      <td>16238189</td>\n",
       "      <td>DUNKINDOONUTS</td>\n",
       "      <td>NaN</td>\n",
       "      <td>Q</td>\n",
       "      <td>음식</td>\n",
       "      <td>Q08</td>\n",
       "      <td>제과제빵떡케익</td>\n",
       "      <td>Q08A01</td>\n",
       "      <td>제과점</td>\n",
       "      <td>I56191</td>\n",
       "      <td>제과점업</td>\n",
       "      <td>11</td>\n",
       "      <td>서울특별시</td>\n",
       "      <td>11650</td>\n",
       "      <td>서초구</td>\n",
       "      <td>1165052000</td>\n",
       "      <td>서초2동</td>\n",
       "      <td>1165010800</td>\n",
       "      <td>서초동</td>\n",
       "      <td>1165010800113280000</td>\n",
       "      <td>1</td>\n",
       "      <td>대지</td>\n",
       "      <td>1328</td>\n",
       "      <td>NaN</td>\n",
       "      <td>서울특별시 서초구 서초동 1328</td>\n",
       "      <td>116502102001</td>\n",
       "      <td>서울특별시 서초구 강남대로</td>\n",
       "      <td>373</td>\n",
       "      <td>NaN</td>\n",
       "      <td>1165010800113280001000001</td>\n",
       "      <td>홍우빌딩</td>\n",
       "      <td>서울특별시 서초구 강남대로 373</td>\n",
       "      <td>137858</td>\n",
       "      <td>6621.0</td>\n",
       "      <td>NaN</td>\n",
       "      <td>1</td>\n",
       "      <td>NaN</td>\n",
       "      <td>127.027989</td>\n",
       "      <td>37.495971</td>\n",
       "    </tr>\n",
       "  </tbody>\n",
       "</table>\n",
       "</div>"
      ],
      "text/plain": [
       "          상가업소번호            상호명  지점명 상권업종대분류코드 상권업종대분류명 상권업종중분류코드 상권업종중분류명  \\\n",
       "217855  16238189  DUNKINDOONUTS  NaN         Q       음식       Q08  제과제빵떡케익   \n",
       "\n",
       "       상권업종소분류코드 상권업종소분류명 표준산업분류코드 표준산업분류명  시도코드    시도명  시군구코드 시군구명  \\\n",
       "217855    Q08A01      제과점   I56191    제과점업    11  서울특별시  11650  서초구   \n",
       "\n",
       "             행정동코드  행정동명       법정동코드 법정동명                 지번코드  대지구분코드 대지구분명  \\\n",
       "217855  1165052000  서초2동  1165010800  서초동  1165010800113280000       1    대지   \n",
       "\n",
       "        지번본번지  지번부번지                지번주소         도로명코드             도로명  건물본번지  \\\n",
       "217855   1328    NaN  서울특별시 서초구 서초동 1328  116502102001  서울특별시 서초구 강남대로    373   \n",
       "\n",
       "        건물부번지                     건물관리번호   건물명               도로명주소   구우편번호  \\\n",
       "217855    NaN  1165010800113280001000001  홍우빌딩  서울특별시 서초구 강남대로 373  137858   \n",
       "\n",
       "         신우편번호  동정보 층정보  호정보          경도         위도  \n",
       "217855  6621.0  NaN   1  NaN  127.027989  37.495971  "
      ]
     },
     "execution_count": 32,
     "metadata": {},
     "output_type": "execute_result"
    }
   ],
   "source": [
    "# 영어 데이터 1개 데이터 확인\n",
    "\n",
    "df_dun1 = df[df['상호명'].astype(str).str.contains(\"dunkin|Dunkin|DUNKIN\")]\n",
    "# 데이터 1개 상호명 = DUNKINDOONUTS\n",
    "df[df['상호명']=='DUNKINDOONUTS']"
   ]
  },
  {
   "cell_type": "code",
   "execution_count": null,
   "id": "515721b3",
   "metadata": {},
   "outputs": [],
   "source": []
  },
  {
   "cell_type": "code",
   "execution_count": 33,
   "id": "fb647969",
   "metadata": {},
   "outputs": [],
   "source": [
    "# 각각 매장수?"
   ]
  },
  {
   "cell_type": "code",
   "execution_count": 34,
   "id": "6efc1443",
   "metadata": {},
   "outputs": [
    {
     "data": {
      "text/plain": [
       "356"
      ]
     },
     "execution_count": 34,
     "metadata": {},
     "output_type": "execute_result"
    }
   ],
   "source": [
    "# 베스킨라빈스\n",
    "\n",
    "df_final = df[df['상호명'].astype(str).str.contains('(베|배)스킨|baskinrobbins')]\n",
    "df_final['상호명'].count()"
   ]
  },
  {
   "cell_type": "code",
   "execution_count": 35,
   "id": "fdc16bef",
   "metadata": {},
   "outputs": [
    {
     "data": {
      "text/plain": [
       "115"
      ]
     },
     "execution_count": 35,
     "metadata": {},
     "output_type": "execute_result"
    }
   ],
   "source": [
    "# 던킨도너츠\n",
    "df_dun = df[df['상호명'].astype(str).str.contains(\"던킨도너츠|던킨|dunkin|Dunkin|DUNKIN\")]\n",
    "df_dun['상호명'].count()"
   ]
  },
  {
   "cell_type": "code",
   "execution_count": 36,
   "id": "679fad98",
   "metadata": {},
   "outputs": [],
   "source": [
    "#각각 어느 구에 매장수가 많은지 비교"
   ]
  },
  {
   "cell_type": "code",
   "execution_count": 37,
   "id": "f44ffbcb",
   "metadata": {},
   "outputs": [
    {
     "data": {
      "text/plain": [
       "시군구명\n",
       "강남구     27\n",
       "강동구     16\n",
       "강북구      9\n",
       "강서구     15\n",
       "관악구     11\n",
       "광진구     15\n",
       "구로구     21\n",
       "금천구      8\n",
       "노원구     22\n",
       "도봉구      7\n",
       "동대문구     9\n",
       "동작구     11\n",
       "마포구      9\n",
       "서대문구    15\n",
       "서초구     29\n",
       "성동구      9\n",
       "성북구     14\n",
       "송파구     22\n",
       "양천구     16\n",
       "영등포구    12\n",
       "용산구     17\n",
       "은평구     15\n",
       "종로구      8\n",
       "중구       8\n",
       "중랑구     11\n",
       "Name: 상호명, dtype: int64"
      ]
     },
     "execution_count": 37,
     "metadata": {},
     "output_type": "execute_result"
    }
   ],
   "source": [
    "#베스킨\n",
    "\n",
    "df_final.groupby('시군구명')['상호명'].count()"
   ]
  },
  {
   "cell_type": "code",
   "execution_count": 38,
   "id": "b7a52a0f",
   "metadata": {},
   "outputs": [
    {
     "data": {
      "text/plain": [
       "<AxesSubplot:xlabel='시군구명'>"
      ]
     },
     "execution_count": 38,
     "metadata": {},
     "output_type": "execute_result"
    },
    {
     "data": {
      "image/png": "[encoded data removed]",
      "text/plain": [
       "<Figure size 432x288 with 1 Axes>"
      ]
     },
     "metadata": {
      "needs_background": "light"
     },
     "output_type": "display_data"
    }
   ],
   "source": [
    "# 그래프\n",
    "\n",
    "df_final.groupby('시군구명')['상호명'].count().plot(kind='bar')"
   ]
  },
  {
   "cell_type": "code",
   "execution_count": 39,
   "id": "cc1ea80b",
   "metadata": {},
   "outputs": [
    {
     "data": {
      "text/plain": [
       "시군구명\n",
       "강남구     14\n",
       "강동구      3\n",
       "강북구      3\n",
       "강서구      6\n",
       "관악구      3\n",
       "광진구      5\n",
       "구로구      5\n",
       "노원구     10\n",
       "도봉구      1\n",
       "동대문구     5\n",
       "동작구      2\n",
       "마포구      5\n",
       "서대문구     3\n",
       "서초구     10\n",
       "성동구      1\n",
       "성북구      3\n",
       "송파구      4\n",
       "양천구      4\n",
       "영등포구     4\n",
       "용산구      7\n",
       "은평구      4\n",
       "종로구      4\n",
       "중구       8\n",
       "중랑구      1\n",
       "Name: 상호명, dtype: int64"
      ]
     },
     "execution_count": 39,
     "metadata": {},
     "output_type": "execute_result"
    }
   ],
   "source": [
    "# 던킨도너츠\n",
    "\n",
    "df_dun.groupby('시군구명')['상호명'].count()"
   ]
  },
  {
   "cell_type": "code",
   "execution_count": 105,
   "id": "56d86013",
   "metadata": {},
   "outputs": [
    {
     "data": {
      "text/plain": [
       "<AxesSubplot:xlabel='시군구명'>"
      ]
     },
     "execution_count": 105,
     "metadata": {},
     "output_type": "execute_result"
    },
    {
     "data": {
      "image/png": "[encoded data removed]",
      "text/plain": [
       "<Figure size 432x288 with 1 Axes>"
      ]
     },
     "metadata": {
      "needs_background": "light"
     },
     "output_type": "display_data"
    }
   ],
   "source": [
    "# 그래프\n",
    "\n",
    "df_dun.groupby('시군구명')['상호명'].count().plot(kind='bar')"
   ]
  },
  {
   "cell_type": "code",
   "execution_count": null,
   "id": "a7745593",
   "metadata": {},
   "outputs": [],
   "source": []
  },
  {
   "cell_type": "code",
   "execution_count": null,
   "id": "15c01dc2",
   "metadata": {},
   "outputs": [],
   "source": []
  },
  {
   "cell_type": "code",
   "execution_count": null,
   "id": "b40f7400",
   "metadata": {},
   "outputs": [],
   "source": []
  },
  {
   "cell_type": "code",
   "execution_count": null,
   "id": "70f47869",
   "metadata": {},
   "outputs": [],
   "source": []
  }
 ],
 "metadata": {
  "kernelspec": {
   "display_name": "Python 3 (ipykernel)",
   "language": "python",
   "name": "python3"
  },
  "language_info": {
   "codemirror_mode": {
    "name": "ipython",
    "version": 3
   },
   "file_extension": ".py",
   "mimetype": "text/x-python",
   "name": "python",
   "nbconvert_exporter": "python",
   "pygments_lexer": "ipython3",
   "version": "3.9.7"
  },
  "varInspector": {
   "cols": {
    "lenName": 16,
    "lenType": 16,
    "lenVar": 40
   },
   "kernels_config": {
    "python": {
     "delete_cmd_postfix": "",
     "delete_cmd_prefix": "del ",
     "library": "var_list.py",
     "varRefreshCmd": "print(var_dic_list())"
    },
    "r": {
     "delete_cmd_postfix": ") ",
     "delete_cmd_prefix": "rm(",
     "library": "var_list.r",
     "varRefreshCmd": "cat(var_dic_list()) "
    }
   },
   "types_to_exclude": [
    "module",
    "function",
    "builtin_function_or_method",
    "instance",
    "_Feature"
   ],
   "window_display": false
  }
 },
 "nbformat": 4,
 "nbformat_minor": 5
}
