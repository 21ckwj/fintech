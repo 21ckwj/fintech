{
 "cells": [
  {
   "cell_type": "code",
   "execution_count": 54,
   "id": "ff89108b",
   "metadata": {},
   "outputs": [],
   "source": [
    "import pandas as pd\n",
    "import numpy as np\n",
    "import datetime \n",
    "from datetime import datetime,timedelta"
   ]
  },
  {
   "cell_type": "code",
   "execution_count": 7,
   "id": "c8653587",
   "metadata": {},
   "outputs": [],
   "source": [
    "# 21. How to convert a series of date-strings to a timeseries?\n",
    "# Difficiulty Level: L2 Input\n",
    "ser = pd.Series(['01 Jan 2010', '02-02-2011', '20120303', '2013/04/04', '2014-05-05', '2015-06-06T12:20'])\n",
    "\n",
    "# 0   2010-01-01 00:00:00\n",
    "# 1   2011-02-02 00:00:00\n",
    "# 2   2012-03-03 00:00:00\n",
    "# 3   2013-04-04 00:00:00\n",
    "# 4   2014-05-05 00:00:00\n",
    "# 5   2015-06-06 12:20:00\n",
    "# dtype: datetime64[ns]\n"
   ]
  },
  {
   "cell_type": "code",
   "execution_count": 12,
   "id": "6aa2c34f",
   "metadata": {},
   "outputs": [
    {
     "data": {
      "text/plain": [
       "0   2010-01-01 00:00:00\n",
       "1   2011-02-02 00:00:00\n",
       "2   2012-03-03 00:00:00\n",
       "3   2013-04-04 00:00:00\n",
       "4   2014-05-05 00:00:00\n",
       "5   2015-06-06 12:20:00\n",
       "dtype: datetime64[ns]"
      ]
     },
     "execution_count": 12,
     "metadata": {},
     "output_type": "execute_result"
    }
   ],
   "source": [
    "#21. 문자형-> 시간형\n",
    "ser.apply(lambda x: pd.to_datetime(x) )"
   ]
  },
  {
   "cell_type": "code",
   "execution_count": 13,
   "id": "f939dcd2",
   "metadata": {},
   "outputs": [
    {
     "data": {
      "text/plain": [
       "0   2010-01-01 00:00:00\n",
       "1   2011-02-02 00:00:00\n",
       "2   2012-03-03 00:00:00\n",
       "3   2013-04-04 00:00:00\n",
       "4   2014-05-05 00:00:00\n",
       "5   2015-06-06 12:20:00\n",
       "dtype: datetime64[ns]"
      ]
     },
     "execution_count": 13,
     "metadata": {},
     "output_type": "execute_result"
    }
   ],
   "source": [
    " #21. astype 은 사용못하나? 가능하다고 한다\n",
    "ser.astype('datetime64')"
   ]
  },
  {
   "cell_type": "code",
   "execution_count": null,
   "id": "84200dde",
   "metadata": {},
   "outputs": [],
   "source": [
    "# 22. How to get the day of month, week number, day of year and day of week from a series of date strings?\n",
    "# Difficiulty Level: L2 Get the day of month, week number, day of year and day of week from ser. Input\n",
    "\n",
    "ser = pd.Series(['01 Jan 2010', '02-02-2011', '20120303', '2013/04/04', '2014-05-05', '2015-06-06T12:20'])\n",
    "\n",
    "# Date:  [1, 2, 3, 4, 5, 6]\n",
    "# Week number:  [53, 5, 9, 14, 19, 23]\n",
    "# Day num of year:  [1, 33, 63, 94, 125, 157]\n",
    "# Day of week:  ['Friday', 'Wednesday', 'Saturday', 'Thursday', 'Monday', 'Saturday']"
   ]
  },
  {
   "cell_type": "code",
   "execution_count": 26,
   "id": "9bdf86f2",
   "metadata": {},
   "outputs": [
    {
     "name": "stdout",
     "output_type": "stream",
     "text": [
      "Date:  [1, 2, 3, 4, 5, 6]\n",
      "Week number:  [53, 5, 9, 14, 19, 23]\n",
      "Day num of year:  [1, 33, 63, 94, 125, 157]\n",
      "Day of week:  [4, 2, 5, 3, 0, 5]\n",
      "Day of week:  ['Friday', 'Wednesday', 'Saturday', 'Thursday', 'Monday', 'Saturday']\n"
     ]
    },
    {
     "name": "stderr",
     "output_type": "stream",
     "text": [
      "C:\\Users\\21ckw\\AppData\\Local\\Temp/ipykernel_10276/142173032.py:3: FutureWarning: Series.dt.weekofyear and Series.dt.week have been deprecated. Please use Series.dt.isocalendar().week instead.\n",
      "  print('Week number: ', ser.astype('datetime64').dt.weekofyear.tolist())\n"
     ]
    }
   ],
   "source": [
    "#22.\n",
    "print('Date: ',ser.astype('datetime64').dt.day.tolist())\n",
    "print('Week number: ', ser.astype('datetime64').dt.weekofyear.tolist())\n",
    "print('Day num of year: ', ser.astype('datetime64').dt.dayofyear.tolist())\n",
    "print('Day of week: ', ser.astype('datetime64').dt.dayofweek.tolist())\n",
    "print('Day of week: ', ser.astype('datetime64').dt.day_name().tolist())"
   ]
  },
  {
   "cell_type": "code",
   "execution_count": 59,
   "id": "0beb5bb0",
   "metadata": {},
   "outputs": [],
   "source": [
    "# 23. How to convert year-month string to dates corresponding to the 4th day of the month?\n",
    "# Difficiulty Level: L2 Change ser to dates that start with 4th of the respective months. Input\n",
    "\n",
    "ser = pd.Series(['Jan 2010', 'Feb 2011', 'Mar 2012'])\n",
    "\n",
    "# Desired Output\n",
    "\n",
    "# 0   2010-01-04\n",
    "# 1   2011-02-04\n",
    "# 2   2012-03-04\n",
    "# dtype: datetime64[ns]"
   ]
  },
  {
   "cell_type": "code",
   "execution_count": 61,
   "id": "8ec3ccb8",
   "metadata": {},
   "outputs": [
    {
     "data": {
      "text/plain": [
       "0   2010-01-04\n",
       "1   2011-02-04\n",
       "2   2012-03-04\n",
       "dtype: datetime64[ns]"
      ]
     },
     "execution_count": 61,
     "metadata": {},
     "output_type": "execute_result"
    }
   ],
   "source": [
    "from dateutil.parser import parse\n",
    "\n",
    "ser.apply(lambda x : pd.to_datetime(x))+ timedelta(days=3)"
   ]
  },
  {
   "cell_type": "code",
   "execution_count": 75,
   "id": "3f4853ea",
   "metadata": {},
   "outputs": [],
   "source": [
    "# 24. How to filter words that contain atleast 2 vowels from a series?\n",
    "# Difficiulty Level: L3 From ser, extract words that contain atleast 2 vowels. Input\n",
    "\n",
    "ser = pd.Series(['Apple', 'Orange', 'Plan', 'Python', 'Money'])"
   ]
  },
  {
   "cell_type": "code",
   "execution_count": 77,
   "id": "af650bea",
   "metadata": {},
   "outputs": [
    {
     "name": "stdout",
     "output_type": "stream",
     "text": [
      "Apple\n",
      "Orange\n",
      "Money\n"
     ]
    }
   ],
   "source": [
    "vowel =['a','e','i','o','u','A','E','I','O','U']\n",
    "\n",
    "for word in ser:\n",
    "    count = 0\n",
    "    for i in range(len(word)):\n",
    "        if word[i] in vowel:\n",
    "            count+=1\n",
    "        else:\n",
    "            pass\n",
    "    if count>=2:\n",
    "        print(word)"
   ]
  },
  {
   "cell_type": "code",
   "execution_count": 78,
   "id": "60c4bb28",
   "metadata": {},
   "outputs": [
    {
     "data": {
      "text/plain": [
       "0     Apple\n",
       "1    Orange\n",
       "4     Money\n",
       "dtype: object"
      ]
     },
     "execution_count": 78,
     "metadata": {},
     "output_type": "execute_result"
    }
   ],
   "source": [
    "# Solution\n",
    "from collections import Counter\n",
    "mask = ser.apply(lambda x: sum([Counter(x.lower()).get(i, 0) for i in list('aeiou')]) >= 2)\n",
    "ser[mask]"
   ]
  },
  {
   "cell_type": "code",
   "execution_count": null,
   "id": "f72c587a",
   "metadata": {},
   "outputs": [],
   "source": [
    "# 25. How to filter valid emails from a series?\n",
    "# Difficiulty Level: L3 Extract the valid emails from the series emails. \n",
    "# The regex pattern for valid emails is provided as reference. Input\n",
    "\n",
    "emails = pd.Series(['buying books at amazom.com', 'rameses@egypt.com', 'matt@t.co', 'narendra@modi.com'])\n",
    "pattern ='[A-Za-z0-9._%+-]+@[A-Za-z0-9.-]+\\\\.[A-Za-z]{2,4}'"
   ]
  },
  {
   "cell_type": "code",
   "execution_count": null,
   "id": "1deeda5c",
   "metadata": {},
   "outputs": [],
   "source": []
  },
  {
   "cell_type": "code",
   "execution_count": 80,
   "id": "f2bb8ff3",
   "metadata": {},
   "outputs": [
    {
     "name": "stdout",
     "output_type": "stream",
     "text": [
      "[1.0, 2.0, 3.0, 4.0, 5.0, 6.0, 7.0, 8.0, 9.0, 10.0]\n",
      "['carrot', 'banana', 'banana', 'banana', 'banana', 'carrot', 'apple', 'carrot', 'carrot', 'banana']\n"
     ]
    }
   ],
   "source": [
    "# 26. How to get the mean of a series grouped by another series?\n",
    "# Difficiulty Level: L2 Compute the mean of weights of each fruit. Input\n",
    "\n",
    "fruit = pd.Series(np.random.choice(['apple', 'banana', 'carrot'], 10))\n",
    "weights = pd.Series(np.linspace(1, 10, 10))\n",
    "print(weights.tolist())\n",
    "print(fruit.tolist())\n",
    "#> [1.0, 2.0, 3.0, 4.0, 5.0, 6.0, 7.0, 8.0, 9.0, 10.0]\n",
    "#> ['banana', 'carrot', 'apple', 'carrot', 'carrot', 'apple', 'banana', 'carrot', 'apple', 'carrot']\n",
    "\n",
    "# # values can change due to randomness\n",
    "# apple     6.0\n",
    "# banana    4.0\n",
    "# carrot    5.8\n",
    "# dtype: float64"
   ]
  },
  {
   "cell_type": "code",
   "execution_count": 81,
   "id": "d1d65d31",
   "metadata": {},
   "outputs": [
    {
     "data": {
      "text/plain": [
       "apple     7.0\n",
       "banana    4.8\n",
       "carrot    6.0\n",
       "dtype: float64"
      ]
     },
     "execution_count": 81,
     "metadata": {},
     "output_type": "execute_result"
    }
   ],
   "source": [
    "weights.groupby(fruit).mean()"
   ]
  },
  {
   "cell_type": "code",
   "execution_count": 83,
   "id": "fca13b8f",
   "metadata": {},
   "outputs": [],
   "source": [
    "# 27. How to compute the euclidean distance between two series?\n",
    "# Difficiulty Level: L2 Compute the euclidean distance between series (points) p and q, without using a packaged formula. Input\n",
    "\n",
    "p = pd.Series([1, 2, 3, 4, 5, 6, 7, 8, 9, 10])\n",
    "q = pd.Series([10, 9, 8, 7, 6, 5, 4, 3, 2, 1])"
   ]
  },
  {
   "cell_type": "code",
   "execution_count": 86,
   "id": "2d52e25e",
   "metadata": {},
   "outputs": [
    {
     "data": {
      "text/plain": [
       "18.16590212458495"
      ]
     },
     "execution_count": 86,
     "metadata": {},
     "output_type": "execute_result"
    }
   ],
   "source": [
    "sum((p-q)**2)**0.5"
   ]
  },
  {
   "cell_type": "code",
   "execution_count": 91,
   "id": "eb8bce8f",
   "metadata": {},
   "outputs": [],
   "source": [
    "# 28. How to find all the local maxima (or peaks) in a numeric series?\n",
    "# Difficiulty Level: L3 Get the positions of peaks (values surrounded by smaller values on both sides) in ser. Input\n",
    "\n",
    "ser = pd.Series([2, 10, 3, 4, 9, 10, 2, 7, 3])\n",
    "\n",
    "# array([1, 5, 7])"
   ]
  },
  {
   "cell_type": "code",
   "execution_count": 101,
   "id": "80b643c4",
   "metadata": {},
   "outputs": [
    {
     "data": {
      "text/plain": [
       "array([1, 5, 7], dtype=int64)"
      ]
     },
     "execution_count": 101,
     "metadata": {},
     "output_type": "execute_result"
    }
   ],
   "source": [
    "# np.diff(ser)\n",
    "# np.sign(np.diff(ser)) # 부호변화 [ 1, -1,  1,  1,  1, -1,  1, -1]\n",
    "# np.diff(np.sign(np.diff(ser))) # 부호 + -> - 찾고싶음\n",
    "dd = np.diff(np.sign(np.diff(ser)))\n",
    "peak_locs = np.where(dd==-2)[0]+1\n",
    "peak_locs"
   ]
  },
  {
   "cell_type": "code",
   "execution_count": 102,
   "id": "ab4044b9",
   "metadata": {},
   "outputs": [],
   "source": [
    "# 29. How to replace missing spaces in a string with the least frequent character?\n",
    "# Replace the spaces in my_str with the least frequent character. Difficiulty Level: L2 Input\n",
    "\n",
    "my_str = 'dbc deb abed gade'"
   ]
  },
  {
   "cell_type": "code",
   "execution_count": null,
   "id": "9fdb96d1",
   "metadata": {},
   "outputs": [],
   "source": []
  }
 ],
 "metadata": {
  "kernelspec": {
   "display_name": "Python 3 (ipykernel)",
   "language": "python",
   "name": "python3"
  },
  "language_info": {
   "codemirror_mode": {
    "name": "ipython",
    "version": 3
   },
   "file_extension": ".py",
   "mimetype": "text/x-python",
   "name": "python",
   "nbconvert_exporter": "python",
   "pygments_lexer": "ipython3",
   "version": "3.9.7"
  }
 },
 "nbformat": 4,
 "nbformat_minor": 5
}
