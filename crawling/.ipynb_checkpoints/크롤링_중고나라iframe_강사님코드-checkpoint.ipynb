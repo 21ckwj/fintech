{
 "cells": [
  {
   "cell_type": "code",
   "execution_count": 1,
   "id": "c6152da3",
   "metadata": {},
   "outputs": [],
   "source": [
    "# 네이버 중고나라에서 검색어를 입력한 후 검색 결과페이지의 게시물의\n",
    "# 제목, 작성자, 작성일, 조회수를 크롤링하시오.."
   ]
  },
  {
   "cell_type": "code",
   "execution_count": 1,
   "id": "977a20fb",
   "metadata": {},
   "outputs": [],
   "source": [
    "from selenium import webdriver\n",
    "from selenium.webdriver.common.keys import Keys\n",
    "from bs4 import BeautifulSoup"
   ]
  },
  {
   "cell_type": "code",
   "execution_count": 2,
   "id": "4cfa9863",
   "metadata": {},
   "outputs": [],
   "source": [
    "driver = webdriver.Chrome()"
   ]
  },
  {
   "cell_type": "code",
   "execution_count": 3,
   "id": "8a5f4f4c",
   "metadata": {},
   "outputs": [],
   "source": [
    "url = 'https://cafe.naver.com/joonggonara'\n",
    "driver.get(url)"
   ]
  },
  {
   "cell_type": "code",
   "execution_count": 4,
   "id": "f10ebb22",
   "metadata": {},
   "outputs": [
    {
     "name": "stderr",
     "output_type": "stream",
     "text": [
      "C:\\Users\\21ckw\\AppData\\Local\\Temp/ipykernel_16156/1450859144.py:1: DeprecationWarning: find_element_by_* commands are deprecated. Please use find_element() instead\n",
      "  elem = driver.find_element_by_css_selector('#topLayerQueryInput')\n"
     ]
    }
   ],
   "source": [
    "elem = driver.find_element_by_css_selector('#topLayerQueryInput')"
   ]
  },
  {
   "cell_type": "code",
   "execution_count": 5,
   "id": "1290664d",
   "metadata": {},
   "outputs": [],
   "source": [
    "elem.send_keys('자전거')"
   ]
  },
  {
   "cell_type": "code",
   "execution_count": 6,
   "id": "26264632",
   "metadata": {},
   "outputs": [],
   "source": [
    "elem.send_keys(Keys.RETURN)"
   ]
  },
  {
   "cell_type": "code",
   "execution_count": 7,
   "id": "7f682734",
   "metadata": {},
   "outputs": [
    {
     "name": "stderr",
     "output_type": "stream",
     "text": [
      "C:\\Users\\21ckw\\AppData\\Local\\Temp/ipykernel_16156/399073676.py:1: DeprecationWarning: find_elements_by_* commands are deprecated. Please use find_elements() instead\n",
      "  elem = driver.find_elements_by_css_selector('#main-area > div:nth-child(7) > table > tbody > tr > td.td_article > div.board-list > div > a')\n"
     ]
    },
    {
     "data": {
      "text/plain": [
       "[]"
      ]
     },
     "execution_count": 7,
     "metadata": {},
     "output_type": "execute_result"
    }
   ],
   "source": [
    "elem = driver.find_elements_by_css_selector('#main-area > div:nth-child(7) > table > tbody > tr > td.td_article > div.board-list > div > a')\n",
    "elem"
   ]
  },
  {
   "cell_type": "code",
   "execution_count": 8,
   "id": "91be0501",
   "metadata": {},
   "outputs": [
    {
     "name": "stderr",
     "output_type": "stream",
     "text": [
      "C:\\Users\\21ckw\\AppData\\Local\\Temp/ipykernel_16156/2836088684.py:1: DeprecationWarning: find_elements_by_* commands are deprecated. Please use find_elements() instead\n",
      "  elem = driver.find_elements_by_xpath('//*[@id=\"main-area\"]/div[5]/table/tbody/tr[1]/td[1]/div[2]/div/a')\n"
     ]
    },
    {
     "data": {
      "text/plain": [
       "[]"
      ]
     },
     "execution_count": 8,
     "metadata": {},
     "output_type": "execute_result"
    }
   ],
   "source": [
    "elem = driver.find_elements_by_xpath('//*[@id=\"main-area\"]/div[5]/table/tbody/tr[1]/td[1]/div[2]/div/a')\n",
    "elem"
   ]
  },
  {
   "cell_type": "code",
   "execution_count": null,
   "id": "8bbd7df4",
   "metadata": {},
   "outputs": [],
   "source": []
  },
  {
   "cell_type": "code",
   "execution_count": 9,
   "id": "37c6dda2",
   "metadata": {},
   "outputs": [],
   "source": [
    "# iframe - html\n",
    "# html 안에 다른 웹페이지를 가져와서 보여주는 기능\n",
    "# iframe 내부에 있는 내용을 크롤링 하고자 하는 경우\n",
    "# => 콘텐츠가 있는 원본 사이트로 이동을 해야 한다.."
   ]
  },
  {
   "cell_type": "code",
   "execution_count": 10,
   "id": "94c91de8",
   "metadata": {},
   "outputs": [
    {
     "name": "stderr",
     "output_type": "stream",
     "text": [
      "C:\\Users\\21ckw\\AppData\\Local\\Temp/ipykernel_16156/3360660193.py:2: DeprecationWarning: find_element_by_* commands are deprecated. Please use find_element() instead\n",
      "  iframe = driver.find_element_by_id('cafe_main')\n"
     ]
    }
   ],
   "source": [
    "# iframe 내부의 프레임으로 이동..\n",
    "iframe = driver.find_element_by_id('cafe_main')"
   ]
  },
  {
   "cell_type": "code",
   "execution_count": 11,
   "id": "703d4109",
   "metadata": {},
   "outputs": [],
   "source": [
    "driver.switch_to.frame(iframe)"
   ]
  },
  {
   "cell_type": "code",
   "execution_count": 12,
   "id": "a58195dc",
   "metadata": {},
   "outputs": [
    {
     "name": "stderr",
     "output_type": "stream",
     "text": [
      "C:\\Users\\21ckw\\AppData\\Local\\Temp/ipykernel_16156/2770582462.py:1: DeprecationWarning: find_elements_by_* commands are deprecated. Please use find_elements() instead\n",
      "  elems = driver.find_elements_by_css_selector('a.article')\n"
     ]
    },
    {
     "data": {
      "text/plain": [
       "[<selenium.webdriver.remote.webelement.WebElement (session=\"d7d8b59e08648bbe5c74a1dedfc607da\", element=\"7dab5515-2568-410d-bb22-4a802495eb06\")>,\n",
       " <selenium.webdriver.remote.webelement.WebElement (session=\"d7d8b59e08648bbe5c74a1dedfc607da\", element=\"a66914b0-d2c5-4a9b-adc9-7f083e53fa32\")>,\n",
       " <selenium.webdriver.remote.webelement.WebElement (session=\"d7d8b59e08648bbe5c74a1dedfc607da\", element=\"f2ee4712-d3db-4f8a-a501-70cba34ca799\")>,\n",
       " <selenium.webdriver.remote.webelement.WebElement (session=\"d7d8b59e08648bbe5c74a1dedfc607da\", element=\"81dc0b6d-cbf4-41b8-99e3-2293576579e3\")>,\n",
       " <selenium.webdriver.remote.webelement.WebElement (session=\"d7d8b59e08648bbe5c74a1dedfc607da\", element=\"2115fe5d-4610-427f-9d70-f84f5d3a93fd\")>,\n",
       " <selenium.webdriver.remote.webelement.WebElement (session=\"d7d8b59e08648bbe5c74a1dedfc607da\", element=\"c0c3af2c-8382-49ca-94c4-4a8412d769dc\")>,\n",
       " <selenium.webdriver.remote.webelement.WebElement (session=\"d7d8b59e08648bbe5c74a1dedfc607da\", element=\"bf419d34-5918-4064-a23c-ad32c7900c4e\")>,\n",
       " <selenium.webdriver.remote.webelement.WebElement (session=\"d7d8b59e08648bbe5c74a1dedfc607da\", element=\"299610c4-8b5c-4e8b-a828-fcbc1818e24c\")>,\n",
       " <selenium.webdriver.remote.webelement.WebElement (session=\"d7d8b59e08648bbe5c74a1dedfc607da\", element=\"be0906e7-14cf-45f8-8939-1c805abb2ed1\")>,\n",
       " <selenium.webdriver.remote.webelement.WebElement (session=\"d7d8b59e08648bbe5c74a1dedfc607da\", element=\"6e5adb34-b6f1-41d9-9386-4f5112eba2e8\")>,\n",
       " <selenium.webdriver.remote.webelement.WebElement (session=\"d7d8b59e08648bbe5c74a1dedfc607da\", element=\"caeece96-6d3b-401f-a7aa-8fd3500e8f75\")>,\n",
       " <selenium.webdriver.remote.webelement.WebElement (session=\"d7d8b59e08648bbe5c74a1dedfc607da\", element=\"13d759bd-cb24-4c2f-bfe8-d5b9e5b79476\")>,\n",
       " <selenium.webdriver.remote.webelement.WebElement (session=\"d7d8b59e08648bbe5c74a1dedfc607da\", element=\"6c3f915a-0047-4b37-858b-d53692d0c260\")>,\n",
       " <selenium.webdriver.remote.webelement.WebElement (session=\"d7d8b59e08648bbe5c74a1dedfc607da\", element=\"833ef2ab-26ba-471e-a098-fef637c1e86c\")>,\n",
       " <selenium.webdriver.remote.webelement.WebElement (session=\"d7d8b59e08648bbe5c74a1dedfc607da\", element=\"1521bcb9-eb93-47ee-b6a5-e9d84b2979c4\")>]"
      ]
     },
     "execution_count": 12,
     "metadata": {},
     "output_type": "execute_result"
    }
   ],
   "source": [
    "elems = driver.find_elements_by_css_selector('a.article')\n",
    "elems"
   ]
  },
  {
   "cell_type": "code",
   "execution_count": 13,
   "id": "34419d0f",
   "metadata": {},
   "outputs": [
    {
     "name": "stdout",
     "output_type": "stream",
     "text": [
      "어린이 헬멧 S/L 인라인, 자전거 헬멧\n",
      "장수 삼륜 전기자전거 EKJ16\n",
      "2륜 리컴번트 퍼포머 Conquer 폴딩 자전거\n",
      "[팝니다] 티티카카 풀샥 미니벨로 자작 전기자전거\n",
      "2019 메리다 스컬트라 300 티아그라 10단 로드 자전거 팝니다. (SM, 급처, 역대 최저가 판매, 입문 스페셜라이즈드 트렉 자이언트 알레 에몬다 도마니 SCR 네고 불가)\n",
      "톰디어 후미등겸용 어반 자전거 헬멧 블랙 2개 팝니다\n",
      "전기자전거 타이탄500 판매합니다 배달셋팅 완료\n",
      "21년형 mtv자전거 보냅니다(산악자전거,남성,여성 공용자전거)/서울\n",
      "상태A급 )16년 자이언트 tcr 어드밴스2 카본 풀105 ml사이즈 로드자전거 팝니다.\n",
      "자전거 블박 및 바디캠 판매\n",
      "상태 S급 15년 메리다 라이드100 줄리엣 xxs사이즈 로드자전거 팝니다.(5회미만주행)\n",
      "랑케레이시 t8 전기자전거 배터리 파라요 ...\n",
      "자전거 안장 손잡이 그립 후미등 팝니다.\n",
      "2020 엘파마 알케미스트 신형 클라리스 로드자전거\n",
      "신형 소라급 구동계 로드자전거 xrs18\n"
     ]
    }
   ],
   "source": [
    "for e in elems:\n",
    "    print(e.text)"
   ]
  },
  {
   "cell_type": "code",
   "execution_count": null,
   "id": "6fcb901e",
   "metadata": {},
   "outputs": [],
   "source": []
  }
 ],
 "metadata": {
  "kernelspec": {
   "display_name": "Python 3 (ipykernel)",
   "language": "python",
   "name": "python3"
  },
  "language_info": {
   "codemirror_mode": {
    "name": "ipython",
    "version": 3
   },
   "file_extension": ".py",
   "mimetype": "text/x-python",
   "name": "python",
   "nbconvert_exporter": "python",
   "pygments_lexer": "ipython3",
   "version": "3.9.7"
  }
 },
 "nbformat": 4,
 "nbformat_minor": 5
}
