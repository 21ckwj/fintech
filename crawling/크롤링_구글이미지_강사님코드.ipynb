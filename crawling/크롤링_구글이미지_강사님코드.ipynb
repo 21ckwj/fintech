{
 "cells": [
  {
   "cell_type": "code",
   "execution_count": null,
   "id": "a1f7f5bd",
   "metadata": {},
   "outputs": [],
   "source": [
    "# 구글 홈페이지에서 검색어를 입력한 후 이미지 검색 결과를 크롤링하기..\n",
    "# element에서 특정 속성값을 추출하는 메소드 : get_attribute('href'), get_attribute('src')"
   ]
  },
  {
   "cell_type": "code",
   "execution_count": 1,
   "id": "bdf1b415",
   "metadata": {
    "ExecuteTime": {
     "end_time": "2022-03-24T13:31:36.393181Z",
     "start_time": "2022-03-24T13:31:36.255552Z"
    }
   },
   "outputs": [],
   "source": [
    "from selenium import webdriver\n",
    "from selenium.webdriver.common.keys import Keys\n",
    "import urllib.request"
   ]
  },
  {
   "cell_type": "code",
   "execution_count": 2,
   "id": "5c1921e9",
   "metadata": {
    "ExecuteTime": {
     "end_time": "2022-03-24T13:31:36.649496Z",
     "start_time": "2022-03-24T13:31:36.636531Z"
    }
   },
   "outputs": [],
   "source": [
    "url = 'http://www.google.com'"
   ]
  },
  {
   "cell_type": "code",
   "execution_count": 3,
   "id": "b34153d3",
   "metadata": {
    "ExecuteTime": {
     "end_time": "2022-03-24T13:31:40.159334Z",
     "start_time": "2022-03-24T13:31:37.165605Z"
    }
   },
   "outputs": [],
   "source": [
    "driver = webdriver.Chrome()\n",
    "driver.get(url)"
   ]
  },
  {
   "cell_type": "code",
   "execution_count": 4,
   "id": "ffc01f10",
   "metadata": {
    "ExecuteTime": {
     "end_time": "2022-03-24T13:31:40.234133Z",
     "start_time": "2022-03-24T13:31:40.176289Z"
    }
   },
   "outputs": [
    {
     "name": "stderr",
     "output_type": "stream",
     "text": [
      "C:\\Users\\21ckw\\AppData\\Local\\Temp/ipykernel_11544/2980493499.py:1: DeprecationWarning: find_element_by_* commands are deprecated. Please use find_element() instead\n",
      "  elem = driver.find_element_by_css_selector('input.gLFyf.gsfi')\n"
     ]
    }
   ],
   "source": [
    "elem = driver.find_element_by_css_selector('input.gLFyf.gsfi')\n",
    "elem.send_keys('빅데이터')"
   ]
  },
  {
   "cell_type": "code",
   "execution_count": 5,
   "id": "921ebf78",
   "metadata": {
    "ExecuteTime": {
     "end_time": "2022-03-24T13:31:42.221908Z",
     "start_time": "2022-03-24T13:31:40.250092Z"
    }
   },
   "outputs": [],
   "source": [
    "elem.send_keys(Keys.RETURN)"
   ]
  },
  {
   "cell_type": "code",
   "execution_count": 6,
   "id": "0eb665b8",
   "metadata": {
    "ExecuteTime": {
     "end_time": "2022-03-24T13:31:44.130912Z",
     "start_time": "2022-03-24T13:31:42.239859Z"
    }
   },
   "outputs": [
    {
     "name": "stderr",
     "output_type": "stream",
     "text": [
      "C:\\Users\\21ckw\\AppData\\Local\\Temp/ipykernel_11544/2024777456.py:2: DeprecationWarning: find_element_by_* commands are deprecated. Please use find_element() instead\n",
      "  driver.find_element_by_xpath('//*[@id=\"hdtb-msb\"]/div[1]/div/div[2]/a').click()\n"
     ]
    }
   ],
   "source": [
    "# 이미지 섹터 클릭\n",
    "driver.find_element_by_xpath('//*[@id=\"hdtb-msb\"]/div[1]/div/div[2]/a').click()"
   ]
  },
  {
   "cell_type": "code",
   "execution_count": 7,
   "id": "408f51c5",
   "metadata": {
    "ExecuteTime": {
     "end_time": "2022-03-24T13:31:47.611835Z",
     "start_time": "2022-03-24T13:31:47.604854Z"
    }
   },
   "outputs": [],
   "source": [
    "import time"
   ]
  },
  {
   "cell_type": "code",
   "execution_count": 8,
   "id": "05faeff7",
   "metadata": {
    "ExecuteTime": {
     "end_time": "2022-03-24T13:32:17.235999Z",
     "start_time": "2022-03-24T13:31:48.539295Z"
    }
   },
   "outputs": [
    {
     "name": "stderr",
     "output_type": "stream",
     "text": [
      "C:\\Users\\21ckw\\AppData\\Local\\Temp/ipykernel_11544/4170767260.py:18: DeprecationWarning: find_element_by_* commands are deprecated. Please use find_element() instead\n",
      "  driver.find_element_by_css_selector(\".mye4qd\").click()\n"
     ]
    }
   ],
   "source": [
    "# 스크롤을 끝까지 내리는 코드\n",
    "\n",
    "import time\n",
    "\n",
    "SCROLL_PAUSE_TIME = 2\n",
    "\n",
    "last_height = driver.execute_script(\"return document.body.scrollHeight\")\n",
    "\n",
    "while True: \n",
    "    driver.execute_script('window.scrollTo(0, document.body.scrollHeight);')\n",
    "    time.sleep(SCROLL_PAUSE_TIME)\n",
    "    \n",
    "    new_height = driver.execute_script('return document.body.scrollHeight')\n",
    "    \n",
    "    if new_height == last_height:\n",
    "        try:\n",
    "            time.sleep(SCROLL_PAUSE_TIME)\n",
    "            driver.find_element_by_css_selector(\".mye4qd\").click()\n",
    "        except:\n",
    "            break\n",
    "    last_height = new_height"
   ]
  },
  {
   "cell_type": "code",
   "execution_count": null,
   "id": "32b924da",
   "metadata": {},
   "outputs": [],
   "source": []
  },
  {
   "cell_type": "code",
   "execution_count": 9,
   "id": "36fc2dfe",
   "metadata": {
    "ExecuteTime": {
     "end_time": "2022-03-24T13:32:23.025487Z",
     "start_time": "2022-03-24T13:32:22.940701Z"
    }
   },
   "outputs": [
    {
     "name": "stderr",
     "output_type": "stream",
     "text": [
      "C:\\Users\\21ckw\\AppData\\Local\\Temp/ipykernel_11544/2395814580.py:1: DeprecationWarning: find_elements_by_* commands are deprecated. Please use find_elements() instead\n",
      "  images = driver.find_elements_by_css_selector('img.rg_i.Q4LuWd')\n"
     ]
    },
    {
     "data": {
      "text/plain": [
       "898"
      ]
     },
     "execution_count": 9,
     "metadata": {},
     "output_type": "execute_result"
    }
   ],
   "source": [
    "images = driver.find_elements_by_css_selector('img.rg_i.Q4LuWd')\n",
    "len(images)"
   ]
  },
  {
   "cell_type": "code",
   "execution_count": 10,
   "id": "a48f07f0",
   "metadata": {
    "ExecuteTime": {
     "end_time": "2022-03-24T13:32:24.269040Z",
     "start_time": "2022-03-24T13:32:24.260065Z"
    }
   },
   "outputs": [],
   "source": [
    "import time"
   ]
  },
  {
   "cell_type": "code",
   "execution_count": null,
   "id": "dd3d240e",
   "metadata": {},
   "outputs": [],
   "source": []
  },
  {
   "cell_type": "code",
   "execution_count": null,
   "id": "fe381eab",
   "metadata": {
    "ExecuteTime": {
     "start_time": "2022-03-24T13:32:27.650Z"
    }
   },
   "outputs": [
    {
     "name": "stderr",
     "output_type": "stream",
     "text": [
      "C:\\Users\\21ckw\\AppData\\Local\\Temp/ipykernel_11544/2296542926.py:5: DeprecationWarning: find_element_by_* commands are deprecated. Please use find_element() instead\n",
      "  elem = driver.find_element_by_xpath('//*[@id=\"Sva75c\"]/div/div/div[3]/div[2]/c-wiz/div/div[1]/div[1]/div[2]/div/a/img')\n"
     ]
    },
    {
     "name": "stdout",
     "output_type": "stream",
     "text": [
      "3 https://t1.daumcdn.net/cfile/tistory/2328834E55A5A64434\n",
      "4 https://www.thedailypost.kr/news/photo/201907/70286_61128_1623.jpg\n",
      "5 https://mobiinsidecontent.s3.ap-northeast-2.amazonaws.com/kr/wp-content/uploads/2020/12/08143444/1-122.jpg\n",
      "6 https://cdn.aitimes.com/news/photo/202108/140208_141439_440.jpg\n",
      "7 data:image/png;base64,iVBORw0KGgoAAAANSUhEUgAAAOAAAADhCAMAAADmr0l2AAABAlBMVEX///8Tz+Dp6ekAzN4A1OYA1ecA0eP5/v77+/vw/P32/v7r6ekA0+Ts7Ozw8PAAy9729vb06+rq+vzi+fvr+/zF8vah6fCb3uX29PFwcHDY2NjOzs7g4ODZ9/pO6/tC2OjCwsJlZWWenp6CgoK17/WNna6NjY1PZYNZWVl2dnaoqKhMTEzHx8e07vReXl66uroqKipAQECjo6OWlpaS5+8ONmTEzNM3Nzds4OuV6PHU5ucAL2AAGlWJiYl+5O5e3OkADE654uYAJVkkQ2wAHlYAAAAfHx8vUHUAAkyos795jaJke5SuucRy2OIwMDBJ1eLK5edEW3xtgpksT3UNQ29MYoHvX3SBAAAbVklEQVR4nO1dC3uaytNfQEAIohEhUdmzXojxEmITSQJtA22ac3pyO/by7/f/Ku8smjRJRVkkTfM+meepGq04v53r7g47CL3SK73SK73SK71SjlRErU6DvtBLqFhEzVb8mod/4/F4D9H39BLfbPKlMWo0i/aYfgfejD9p7j0j5+mo0+4NTsbodN8eD1vt9njcQ4f7w9YpQq039fYb1GzXTzuHjYODYa/XGPUne/BJpV6vDyrDdn0yPnxu/ldRsd0Y90et8WCvPRwCEHvSsft6vwcwhv/8999/pUqjMep1+NGo2e30hmjU6gHABnwJVSqHvZcAkB+PRq3hGNWHw8PRoH7S0UcAFgCOu6P6pDQ+qPcOO+PD3ul4aI/anSYA5Nv1fht0eNR4AQC7/dP9g3FjNOiNh51JbzKeFIf/9LoAsPH3yT8D1JnYe4MOavUm7R7qNpE9RMW91l53ZLdOWmj4xwOkrsWe7KHmuDI8tMe2PpwMB73hoAs2+PfByQC1DgaTbof+z2YXtQen3RYqjodAjSa4ptb4uflnIF2PH3n6SH1lsdFo2PEnlVL8yCO71Rrbz8bgK73SQ1KxOSNDfm5WcicZWz4hkR96nnfjTwnxXfzcPOVIihWR0DVqiqooNQUea4brk8j9fyJIIxB9E/QTZChKkiBpYhTLz/FFS3lu5tYn2SVhFWGPiAVJkzhKkiSJYuRVZewT57n5W5eMKMLI9CWRe0SA0YdPiF97bhbXIpNYyPBF6TG8OcZQUUPykr2NBdxbYmEhPEoF0UGmaD43m5nJIlU1SXy3QvRkk7xUhBZRDJIsvrkQI9kQX6arcUjNINoKfBynRQp+kTLEolEjy9TzTk0jsEPjudllJgVCXLRKP+daGqIgem5+mSkMkfdL8Esg0UKR9dwMM5JJFDMtPkCIDe1lKak8deUUDuaWJB8F/nPzzEQmkYN0BjijglN7WRlN5CrpFRRII8gLn5tpBsJTlUmAYIVmTXtBcycrRAwWSEny1ejl5DPyFDO40LkIq+7LcTNVTfHS5DAPRGgZU/W5GU9Lpq+kStLuUyFC0xeTkQZW9aeGkrtXS61SIqrvPjfjacl3TI7zFU/guLKlzhGUPWWpCEXsvZh0LTIt0FDFBICc4gicAMQJngov4B1h9kb8GP8pzACa7ouJhBEOC5xgyYQTfNkXuCgIohgg8UBhrSkX+p4VEfouSNoKpjFA13w5AA0fAEYoFDjTAGTINJFXBoARigQNhVwNmVg1TEPhhAA5phyBEDULRy8i1CumT2o+zWMwFogSCFPFEgRL4ShAeQawagpT1S3DnxwKymUTC3GckEiI//RQgQMiiWLNBy8qeAqBjAYkORUEIkf3ANYo7FCIFB9m865roFkghG+KkMU+N4ZkkrEvigXRJ0YsQU0OTFOYAYwWACxHKgC0vMALuZmKBkSURBL8qVND0xcLBdHDMycDIjQVGcyQKK4guLGKTlFU9h8AjFU0MG+dDOh3QYyv8ceRbEbAGbGoDc3CBLhQVKX+MVQxlsOyJ3NcVTFrFKAFAD0KsByopil7ZRomnNiLGh4BTQ3/NCnGyhk5M/uJA30MzaePwhQCQlmIPE4gEB5CCBMQH7ypEEeNyLKih4HesKgmBH+SLRohSC8yb/f7vNtUbR7D58/l2St4igP8/B8nlIXHqZpikYIoun+MR3WJWCDOT3Zosr00LVtAj5JtkCJoxJ9hihiMb2Z7t1TLY7oEWkG3n34zmAUUiAUtfDjUKsllwmuSgvTsi/qx+H5hgi5ZsIlw8ZIFDF7Be1YhOuBcFqgRJjKjjopuTVuw14sjcF7PFzFUf5H4KLEuG0pJy4YyhAzxueaJRiRJ/uLhdUj6nQlKBVdNWvg1Ie57z1JwYi4ZWzly2JbuZS9xTU0OCwXyDKUKLuBLjlMmkR2WzZfqsh1CUNPfv7AfwKyhuuRzun2WdnF75fYZBIzfXaoQiqK/1DCq4H1ShoqCj6xouZUZgPB3rrmpgG+Va8MEV1MhhCTN1JYpAyUFHPZvROivxkczVMVYWkMyx0dqRgr9g5Ck/a5wAb+VyiIsUq2udKUiLSNJczXZE6XfhBD0M522BERRVxQiFGA2TFLqXurfXY/kMJ38KLngaSwxWYgSYEtfykVl+Bu22Lw09ndLjujQfDKpGM+vweXSRzg5pW2sRRZbaliLiEFXo6THGDVpXk7JMllQ/cJTlwxBfsa2T6ladLqB6ZrGnapKEsxlPQxzWo2xrFmBaf6TTp8MsRCyJr5VT4ywinDgR3S9TBRJ5FsYKWZEAuYkGiI+ecLMG3yimGEADYuQ0JGRXDUMbBiQONeckBArSwZtFgpBhq+lJF/KmvQagU804vt+GIIgtalvZbUl6wmDhbtWulQzsOn+FZqmiY017Ii60idyNFgU193Bk//KIRkhT+VoyPrzTiUPgODJvfWv8it5orb2rDMXgNQMnyDeg4Ku777yASiDLuW+rC8TccWkNA3lAxAGW8p9P9/KQUFzA0gXTHJepMFiLvE1L4DUk+arpH6BrFpVSEO5AQRPmuvMKa/r5QYQZr8kx2AIOWg+KW5+AA0tzxV9Jy+bzg8g9TP5ZWxEzKlYNUeAMHHKLZ9xcwkRxUqlopOtbXiqFNe/HM1nchIhWOC6AixW9FKJByJbm/SpVNLXBqmIYk4idKR1LBCHph5j4+8BjKmkR9Y6mgEizCN0IRSJ2W+dwr4Yvd3gFwLk+Y9TMcwOEZNCLhZtilLW3B1Hovd28x6+RwA3N7/cPK5gYKCcYmGYNQYqoRY+hPcYIM9vbLz1Rfa1pxlhLY97R42sayCO6D+G9ytAgLj5ZZq1WMSXlu/hpSJLIlm8sRyKWxuP4S0CCIrKb2Wcajo5RAqYB2aZehkkevsrlMUAAeJbsnS7OImUHIJ9NheDibdAfIkAQYhRJj3xxLVzZC+LizG1rV+sbylAsMStLMEWS+uuzqhEYjcPU/u4GEYyQIoww6IyGNCaOgqemHmIluBLBghqmkWGlrbm8pMnMt8TZojJ+JYBBITs665YlNabB7CrgLIMw1KA/OYN88KdPF1PRzGzD5V9P8G/xPQ2+SOwQ54wG3y4RqKM6ExQZNRQV+OX4OMXB4+7T99qrBZvcmvF+rDAmAthssQAVxOYIeOAwqxwjXxUZZ6Q+Dfr4AMZRox5k+yvk8xUWWvgzOUKmgLgF9ZoGKyzpeBIbI5bXeokU9HmDePyiLnOvJ7VRblkTQHGfoZNhMY6kTBim0nI6wsQRJhc+7v4R6fZS9gUIjHNdde2wJkIGa3Qz76xDmGeKcb4OQgQRBixucUge6gH+2VZ1MHkbZIAS3pMdPnw3hpiAsCPGpNbZPWE98hlm05a0yQB6sc7lK75Em9fXKyUIccUm2DCk9XLBCvqsh9RlKih2zsf3h0dvTv/bOuNd19X4du4YTIqJXNJghwyJQmKlqihAPDSbjSuPlzq9sU1aOz29ra+naSrmx+ZljtVkjVZkyOmLThzmiiT7Z1/d7ZL28dnV7q9c8HDw+XF9WUjASFMKlh0To6yLnAzDo13kxgjKMCiDnLc2W4cfS0df//33fuj99d6kginTNEpzFo+oBAm5U42QQB4/unz589nn0p649Ou/uP9Dn9x9O44ESCbEXqFjIGQzXoV8mWJBM8/X13tvnu3QwHaZ9/BAr+dJwPcYopsFpsv/ElVkcX/LomCMxvUt48/HR3bn3aP3+9uw1vvEwFufGGKhG7W+YRRYFmMNafJs/UYIDxdnVOAjfdfAeBlsgQh4WZxo05WgFhjSRHMxDB/60V1KkFqg9/Pr/Xj72fJAHmOZQZkihmXDrHEEo+cpQA/fN/d3T3797LU+PRDv353tvvuLNnJ8PyUJQf+XQCjJQAvdildXegl++qSt6+vflzuJkvwNwJk+GISQH17RqVSSQc75Eul7f99bRTtr0dJgR50dMoS6Z9ZglefKX27J67ty7NPX4/OL5dMK14SwB9nP3avvn84upe3lK7Ov15dlJYB/C0qajDVaCc5md2j421dvzg/grkSnQuWdF6/fE/f06nWLkb52wCyxcEkgCWYPuz+e63r17tfv14db+8cvfsEWenl168/dvgFCCEOsoSJzIGeNZNZvCATA4wnTMWdD5+ufpx9si++n/24to/e7159er+zwJUyBnorK0C2XNRISNXmAC/efyt+/V8DbV+9O96mKnp9dllEx+++LZLgR7aVhKy5qMo0m1CnH5cC/HC5zTcudnY/zQBCRDze+fb17GoBQMZk28taoa7+xVQhk7CmNgd4CTPCnaN/3/9vDnDb/vr+w7vv7xYCvGFZSZDDrBNe2Wea0Qd+kgQhDeX/9+GYh+zM3v52NgN4+e83u3S8EODGlGWiLUeZ79YKmWaSxuL54O7RtW1f737Y3bbPAeDlu1iCF/rlh0v++PP5QoBfWNYB2SzpATFab2URPv7H+dn5+fuzK7sEwnt/fvT1ww54nA/fjv93fn7++ejzou8wlZJmX1VjXRctLgR4QVdEL44hbynx1zs7jcYO5DQX8AAe59q+2LF/FWGJiUusZd7jNUWRac34Xkj7qa1xsj1PWHSac2/r9IUOKQ28reuP/z/9b0xcuoXMRZWsO1M/dXSTcRdmg7/vgdmKnb3sexMyYdyZmmvbxubHJbVAi/B91O6VJrIJkHWP7wGx7kzNRLi54UlR8grUIoBvb6ToTogVpt9Up2x7fA/Im2d5qmG6YUQoRVHomrUE31MsxQWuBOTHqKKbH4k0L+BLdDGKYVp+NJ1z4eCZf1ir1smU6C1ZVSvSpgALx2RaIdGSjjnVaVGdNF1YKrqcNt9G0k0sxAQBGgH8rHefC+I7clwUm71wuyaKjhmR0ESygR0v9EMvMHEVyY5PD2pYQJtvp2JSKeUqIW5JVPILLVB2CAkxaBJ251wYNaS6YH7YYy3leXDdSCMEhIW9iIiaJBUKkqSJJLIMer5BuGDSBqHzSyZ8sRCpmi5yoTDIjopMLxJvuSiIxLdq9ABEss5NWlW4MD0L81HrMkksEFcGC7UejV3NL3ib2bexNze3Fh2/ZdAecDCgv3ChRY4se2vcWoxpJTXAW3AgjCZGLi3MfqD+JmSFxXXKEMDX/HqYCxZDGMyFXEhiZFIuM5aMurQzGUk6HU2ix39a99JAJaScJGSkaakIEnl4mGEgYloTmMQF/d9etgMoXLiyt+zUKQkGwLlb1TCi+W5i8nLuaqIexnmQPFvEQOFSLuipQ1kq2i2iVFd1LhN9UKAYlhyId0ffZEc486CgCnc3GYQEVZe0v5txEULWzCxDNwU+MEV/du1qdM/hFFcViizHFx9JOb8XxiIqXn04G0xbHVYZmmLNSHPsW4GADLHz0G4yIrwXAWt+fGypReQ0R7PRs/UctmIZg5hqlOp0SRg9izw+HzMTQv1+BFQD8S/DEFMerscVPMRU4iYTK21nNk706EGNjygDwscZDP5L01Ifj8gVgGGGeOhGYAbprkzPzlR/rYAs6sursx/R5oI5kkx8lLp7kyRiI/3s3CCgHWnxgZ9WHPLrRd5+TA1xg/+4IOszSI3hrGeJICv1xDcIkc9wBjHkSgtOWDbFGz5V1rYBE4lFRbBhwHTUs+iitLchVrUq2zHZYs1csL9T87Wt1RA36N2Di87wxZrssnABiuSmFKEVyiwCBAuHsV4UaB0y/bi5dG6xsbmxRRYPfOipERMXoquka2IoT03MeJC7WLUWO2mLEJBi4g1nm2+3tIRu0TLBJmP7NCJ7qZb8MYHkjw2g5OCEFVSYa5GbLwDlkcfZgLf4jzeQsSRMx80I+WwAOQmb0zRzXytUWXsNFKJFbuaW1ZBoN1tfqMDuiH/7ZQsm00s6g4SWwoiP5jOp3ExkMp/EL2mKtyTM1rBHNBLdbG19pLTl3Uzh7wAvWUtRI8xwjPWci3TdxWStarGOHSea5oqVEQW7QQjk0wfLwSt0ydDkkK1FI+UCp2m+VSU18KEpOiD/bAhCW+4oeR7QQx2BksqH/mSBo51EcYpAgSOFCBC64ZsCxrfXcXH54YV9NOXC8PZPCew2n4Mz5uT4tdgRGFWKYCoH94AIVu3utR/e+0Dyqil2i8xQETna14rjiGqVZ83XZgDnfdjiJ+JzpBqUZ/3ZOAlGJdcTFS0vThYFDxHaFw5p3M9ecMI0uuVCwO4tCxSgnwag41UlTjANOlLUnYauFQkUoDC1XI9ex3OtqTANOEvGfuCXualFAGzOAC0cWwntK8YJNTP+dfhZLgiDKO7/Y7kBbRhnhAHVI4tqnERqaQAGhkA1EL6BTQFQuKYclQHgVMFWDXTWVCyMOF+eerIZmTWhbMH4kipT7c5KCtx5skG7w0FgFoiMPcMgRFGxaRkcwVXKTKjgyFVIOUQzgGkk6AYGvXDVKUOoLU+RVy47GCRIhVomyIOQVyamH6lTrurBlaeC4QgcMfJt7BG4s9ZNAmXCrcKIuwL8us9VwXYsLFgyMKOEAraAzbBsxs5CSwswNjqFs6pc2Uem4xg1DgBiV+DKVStEMyejTkktEEjNgp8Vnk6CnOpyhkt1ysVVCtATBABoyq7jyK5gAF7I6dRg1rspnQ3WJDpySli1BFBVK6DN1yhA2gtSAYASvVgMEH7MNRwq8aeyQXAECm2BR5sYhj4ArM0B1mhPuAiwl4VAsWZ9ntLZIPWidPCwooJeEzkogwECwLJTI1QdqEYQbIGKghelvemQRb1oLWeAwXzKLUSqQlUKg4F4dxIE10CAiyD2ojBVM2deNEojQRoHqQhDFOu1hzAGSI5R1gzVBH3hLGTWFOpkYAzCsoDBCp8uDtKRRp4Qs4MN5HEKBQg6Y8qmigmoKvhSkxpJ6jgImcwshwij+FtRGAKCyIdQ44fR/B0iEHDOU88XyqYhPG0mE4Xk9lfh98MpR5mhIT4Elkjoc2Vr3h9Wco3p6ktDLhpIs3jOzcO6wHH3G64Kd6FVEIiPZr31VuWijFT9mYv+5GPWAPYxM1ykuPNGsNhJs+XOMpsQPMWJHXQt3VwzNUFilHLBQvAVc67NRPHT7BVaIUvvOY0O3tL5YDYKrVr6YZ49pZ0PmpA4MM5UQPnzNUFaAp566fmOCxNP03ChZlmTyb3Xukqww9gfLu2aDPJCmW09qxDK+bfRCy3GLo2FQEm5EVrVamzLBaKB8z/3Gmso/fYBJVJ10i5thx5iEWEhXNH4KhPJ4BFZVrYLVuqVbbo3gRkGj+5NPEGTC4j1THsTcvq9CRT4KEi/u2Q+gQVSCkMGdy6aVYZTPmTipt8fDBfsD+ZCCtv+oM+SamCCa+n6BxZ82c3fw8zIBFNJucMbruwP94gcUk21Rw+qj/M+dv4nBfTqabigtRCM0zWY8KUYPS2q4afsJOv5spmiyoL+L+ZRDoiyUoa0M1vazmXZCObXK2UY18lkGGWPGOryGiPRknHC7ldeJId+teov8+jABRhrJi2y4GtOYjGQRGuoHO1Juq/cJ0JoSVwiF7RiLsjaLMkknqqEv/Yti8eNBLSto6ZZT9pz3ICfIIFcg6fFXLjIiKLMqyWGD1IyPCI91FRaL2opMK4BJqL4lD3H407NOKJcwEAXHqEDeLIcZD7kOSaTRKYqOyEAKUgxiaI49UxZtQgtalYDYOGp+gAbkTirPHQpF8j1SVzxe8cFlhXgYs3VPNUhJMBIpmXgoe+HnmsaSDZDWooaE7hxKe/p/OyXaUv60Ji/jrlQH3ChAhd+DjFKxuGU+IFpzAg7XkSi4Oe40caOCSXq6/yqQ8AQfg7cjAvrjguXcmHltVSpYjfw4xsWCO2t5xgPdRJHBdDTXBd+TR+U8FHVu/KTi2kUAtY8fxBIntOijxzaWTA3iDLAKyQoxRIunpRqYDBxV8gciEovoQ18PlRsNpuViY54vtjRkV1B8FiBP5ffU6QEVIo+XjMsKi7Ynhg5C0VU1HVgCCG+iOJb1IpFeMuGdysVG1V4+CD+b6tufqr0/u50/iuh3iFq8+igOfxPL7VHze7eiu8ZNGRokbtGizsc0JhL7wJZSHa9P7D7lc4/k+Y+4ESNCZoMB412v7NX17tvhq02Kh3u6b0V9+cVu/3OeKSjeg/V+W57fziqTA4b7W5zJX/0ZpuCWPDNLBhlw4006pCTlbN4+E+zfVLZf9Pv/0OFtde228MBGowaozp/8mb/oI/2J/1xfQVAvTccDQcV/uCgNWgM7f5wiMb1yWSyGiBANH2tADIIk0q0kshwqWNZYcbN/rhdBED9QSOWYPNgMhp3x93OhD+t9PuTvToa6d3OKoCIn3R6J3x/rzFolxoHne5Bhe+OJgeNdKzWrAgYFbnIwkm34T0ktWZ6hPoo4ifp5h1n7Xr7EOn99v6E/tkcDfvjAWq26/tNBFLsj9H4oL7XTnELabHPA55inedHp902X++MW6M0EoxJxhYpxBxDtFqurbJhBj6JZee7q8PM4Umre4JaB3udA34I3qI1bu4NUH2/td9Fk3azO2h2+/V+GoBoVkOtg5uy7dk7e3yKr92R4VC+AaYGaY+DjaqiqnfylFWlVsXxTZciHQhxGprpvO+wOwE2xr0e3+zO3imCi+90DyuoODydVHRgVu8mAmyNY1yVB4Aqt4/FcXxBegvjOM0Y1UzLJwVgP74n768IUkgvsCy6ue5Hf9H79aiYNRI6y8ryfqFbfu6zULz/RyXhJuB6e9Ie2Xb9tFK3e+22Tb1ms96q9PVOu304sJE+2oMAaR/8Pen+nfpG6Sqkx9F01kK5IM6pcNtR2XNXVeU9Agcher+EJvvAGGoOGocgsEqj2eq3K5VmSe/A6yY/Svjywd5pv23Xh+CV7FGrqQPA0ujvg8Z+hW906l0bdKB72m3YB/X2SXqAlGTFwKbpWnG1IS039CyXduNlzwmaJ73D/WKj3eyPRs2Dv/sHIIS9k16n39br7b7dtg8Oh3o/4cv7/OlBG8Joa9K1+/X6/hvwMvZ/e4P/4LsA20aN9sHBqMvvg5Ne6YifiPZ6qNju2f1Brz2sHAz22/0KanX00ahut9Hp3sA+mHQGJwlffrNfH/Xt7un+HkiwU+/0mqgyGozsfX5ft8d9yIW6gx64Un7Qrb95LoD9YftkD7XetEeQQdYbdciu9iC2j9r2SG83Ic0ZdydJKgoec++ULx62IDiMh40KqGilBa5mXz/dH/QgsFYG3fEoztcqfbZ73XOj0qRlt3VIVxonDVTf44fgCPUJBOz9ynA04dv8/uC0kQSQ0ozvRvxkz/4oNorULdG/9Na4MX/vaXEspUkFNer9YRF1+v323NPrwFAJoBZBSpXeMzL3Sq/0Sq/0Sq/0Sq+UI/0fSH5ZSdrlrmcAAAAASUVORK5CYII=\n"
     ]
    },
    {
     "name": "stdout",
     "output_type": "stream",
     "text": [
      "8 https://www.diabetes.or.kr/new_workshop/201403/image/ogoo/10.jpg\n",
      "9 https://img.kr.news.samsung.com/kr/wp-content/uploads/2014/10/0164.jpg\n",
      "10 https://t1.daumcdn.net/cfile/tistory/9973F2405EA7C43F09\n",
      "12 https://static.wixstatic.com/media/b3df36_a4ed9efd5abc4609bec3805290c8116a~mv2.jpg/v1/fill/w_540,h_405,al_c,q_90/b3df36_a4ed9efd5abc4609bec3805290c8116a~mv2.jpg\n",
      "13 https://www.boannews.com/media/upFiles2/2020/12/183027752_6853.JPG\n",
      "14 data:image/jpeg;base64,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\n"
     ]
    },
    {
     "name": "stdout",
     "output_type": "stream",
     "text": [
      "17 data:image/jpeg;base64,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\n"
     ]
    },
    {
     "name": "stdout",
     "output_type": "stream",
     "text": [
      "20 https://encrypted-tbn0.gstatic.com/images?q=tbn:ANd9GcQG5ujuQv93PAIVly6aHXpvW5vyKmcPcJ7p0w&usqp=CAU\n",
      "21 https://encrypted-tbn0.gstatic.com/images?q=tbn:ANd9GcQ3N8ia7K06_4gI6L4jKvZjBDiIGI0CU_uwiQ&usqp=CAU\n",
      "22 https://encrypted-tbn0.gstatic.com/images?q=tbn:ANd9GcRIuTwzZeN7atcz4YPxf4DPVlUlesSriu142Q&usqp=CAU\n",
      "23 https://encrypted-tbn0.gstatic.com/images?q=tbn:ANd9GcQt-m__oFGBo8DvDDKQzi4Jdts4sTLX626eVw&usqp=CAU\n"
     ]
    }
   ],
   "source": [
    "for i, img in enumerate(images):\n",
    "    try:\n",
    "        img.click()\n",
    "        time.sleep(2)\n",
    "        elem = driver.find_element_by_xpath('//*[@id=\"Sva75c\"]/div/div/div[3]/div[2]/c-wiz/div/div[1]/div[1]/div[2]/div/a/img')\n",
    "        time.sleep(1)\n",
    "        imgUrl =elem.get_attribute('src')\n",
    "        print(i, imgUrl)\n",
    "        urllib.request.urlretrieve(imgUrl, '빅데이터'+str(i) + '.jpg')\n",
    "    except:\n",
    "        pass"
   ]
  },
  {
   "cell_type": "code",
   "execution_count": null,
   "id": "398c0b14",
   "metadata": {},
   "outputs": [],
   "source": []
  },
  {
   "cell_type": "code",
   "execution_count": null,
   "id": "c84e6f37",
   "metadata": {},
   "outputs": [],
   "source": []
  },
  {
   "cell_type": "code",
   "execution_count": null,
   "id": "03fbeb11",
   "metadata": {},
   "outputs": [],
   "source": []
  },
  {
   "cell_type": "code",
   "execution_count": null,
   "id": "62b68b6a",
   "metadata": {},
   "outputs": [],
   "source": []
  },
  {
   "cell_type": "code",
   "execution_count": null,
   "id": "fd19d7c6",
   "metadata": {},
   "outputs": [],
   "source": []
  },
  {
   "cell_type": "code",
   "execution_count": null,
   "id": "1dc4c48d",
   "metadata": {},
   "outputs": [],
   "source": []
  }
 ],
 "metadata": {
  "kernelspec": {
   "display_name": "Python 3 (ipykernel)",
   "language": "python",
   "name": "python3"
  },
  "language_info": {
   "codemirror_mode": {
    "name": "ipython",
    "version": 3
   },
   "file_extension": ".py",
   "mimetype": "text/x-python",
   "name": "python",
   "nbconvert_exporter": "python",
   "pygments_lexer": "ipython3",
   "version": "3.9.7"
  },
  "toc": {
   "base_numbering": 1,
   "nav_menu": {},
   "number_sections": true,
   "sideBar": true,
   "skip_h1_title": false,
   "title_cell": "Table of Contents",
   "title_sidebar": "Contents",
   "toc_cell": false,
   "toc_position": {},
   "toc_section_display": true,
   "toc_window_display": false
  },
  "varInspector": {
   "cols": {
    "lenName": 16,
    "lenType": 16,
    "lenVar": 40
   },
   "kernels_config": {
    "python": {
     "delete_cmd_postfix": "",
     "delete_cmd_prefix": "del ",
     "library": "var_list.py",
     "varRefreshCmd": "print(var_dic_list())"
    },
    "r": {
     "delete_cmd_postfix": ") ",
     "delete_cmd_prefix": "rm(",
     "library": "var_list.r",
     "varRefreshCmd": "cat(var_dic_list()) "
    }
   },
   "types_to_exclude": [
    "module",
    "function",
    "builtin_function_or_method",
    "instance",
    "_Feature"
   ],
   "window_display": false
  }
 },
 "nbformat": 4,
 "nbformat_minor": 5
}
