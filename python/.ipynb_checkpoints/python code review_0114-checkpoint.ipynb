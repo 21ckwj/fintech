{
 "cells": [
  {
   "cell_type": "markdown",
   "id": "a7d2a036",
   "metadata": {},
   "source": [
    "### string"
   ]
  },
  {
   "cell_type": "markdown",
   "id": "ed6d2069",
   "metadata": {},
   "source": [
    "txt1 = '  A tale that was not right  '   \n",
    "txt2 = '이 또한 지나가리라  '\n",
    "   \n",
    "1. tale을 출력하시오.   \n",
    "2. '지'를 출력하시오   \n",
    "3. 'a'는 몇 개가 존재하는가?   \n",
    "4. txt1에서 모음의 갯수는 몇 개인가?   \n",
    "5. '또한'을 '것도'로 수정하시오   \n",
    "6. txt1을 대문자로 출력하시오..   \n",
    "7. txt1에서 right은 몇 번째 인덱스에 등장하는가?  \n",
    "8. txt1을 space를 기준으로 나눠 리스트에 담으시오  \n",
    "9. txt2의 길이를 얼마인가?  \n",
    "10. txt2를 character 단위로 나누어서 리스트에 담으시오..\n",
    "11. txt1의 좌우 공백을 제거하시오\n",
    "12. txt2를 역순으로 출력하시오.   \n",
    "   \n",
    "   \n",
    "13. url = 'http://www.naver.com/news/today=20221230'   \n",
    "url 중 도메인만 출력하시오   \n",
    "   \n",
    "14.log = 'name : 홍길동, age: 17, sex: 남성, nation: 대한민국'   \n",
    "아래와 같이 출력하시오      \n",
    "   \n",
    "name=> '홍길동'   \n",
    "age=> 17   \n",
    "sex=> 남성\n"
   ]
  },
  {
   "cell_type": "code",
   "execution_count": 1,
   "id": "2776e4a2",
   "metadata": {},
   "outputs": [],
   "source": [
    "txt1 = ' A tale that was not right '\n",
    "txt2 = '이 또한 지나가리라 '"
   ]
  },
  {
   "cell_type": "code",
   "execution_count": 3,
   "id": "8846904f",
   "metadata": {},
   "outputs": [
    {
     "data": {
      "text/plain": [
       "' tale'"
      ]
     },
     "execution_count": 3,
     "metadata": {},
     "output_type": "execute_result"
    }
   ],
   "source": [
    "#1. tale을 출력하시오.\n",
    "txt1[2:7]"
   ]
  },
  {
   "cell_type": "code",
   "execution_count": 4,
   "id": "8eb625ff",
   "metadata": {},
   "outputs": [
    {
     "data": {
      "text/plain": [
       "'지'"
      ]
     },
     "execution_count": 4,
     "metadata": {},
     "output_type": "execute_result"
    }
   ],
   "source": [
    "#2.'지'를 출력하시오\n",
    "txt2[5]"
   ]
  },
  {
   "cell_type": "code",
   "execution_count": 5,
   "id": "22955eda",
   "metadata": {},
   "outputs": [
    {
     "data": {
      "text/plain": [
       "3"
      ]
     },
     "execution_count": 5,
     "metadata": {},
     "output_type": "execute_result"
    }
   ],
   "source": [
    "#3.'a'는 몇 개가 존재하는가?\n",
    "txt1.count('a')"
   ]
  },
  {
   "cell_type": "code",
   "execution_count": 29,
   "id": "f38d1f5b",
   "metadata": {},
   "outputs": [
    {
     "name": "stdout",
     "output_type": "stream",
     "text": [
      "6\n"
     ]
    }
   ],
   "source": [
    "#4.txt1에서 모음의 갯수는 몇 개인가?\n",
    "cnt=0\n",
    "for c in txt1:\n",
    "    \n",
    "    if c in 'aeoui': # 'aeiouAEIOU'\n",
    "        cnt += 1\n",
    "print(cnt)"
   ]
  },
  {
   "cell_type": "code",
   "execution_count": 14,
   "id": "c534dfb3",
   "metadata": {},
   "outputs": [
    {
     "data": {
      "text/plain": [
       "'이 것도 지나가리라 '"
      ]
     },
     "execution_count": 14,
     "metadata": {},
     "output_type": "execute_result"
    }
   ],
   "source": [
    "#5. '또한'을 '것도'로 수정하시오\n",
    "a =txt2.replace(\"또한\", \"것도\")\n",
    "a"
   ]
  },
  {
   "cell_type": "code",
   "execution_count": 15,
   "id": "bb9eb902",
   "metadata": {},
   "outputs": [
    {
     "data": {
      "text/plain": [
       "' A TALE THAT WAS NOT RIGHT '"
      ]
     },
     "execution_count": 15,
     "metadata": {},
     "output_type": "execute_result"
    }
   ],
   "source": [
    "#6. txt1을 대문자로 출력하시오..\n",
    "txt1.upper()"
   ]
  },
  {
   "cell_type": "code",
   "execution_count": 31,
   "id": "54cda0c7",
   "metadata": {},
   "outputs": [
    {
     "data": {
      "text/plain": [
       "21"
      ]
     },
     "execution_count": 31,
     "metadata": {},
     "output_type": "execute_result"
    }
   ],
   "source": [
    "#7.txt1에서 right은 몇 번째 인덱스에 등장하는가?\n",
    "txt1.index('right')\n",
    "#txt1.find('right') 없을 시 -1 "
   ]
  },
  {
   "cell_type": "code",
   "execution_count": 35,
   "id": "68aca158",
   "metadata": {},
   "outputs": [
    {
     "data": {
      "text/plain": [
       "['', 'A', 'tale', 'that', 'was', 'not', 'right', '']"
      ]
     },
     "execution_count": 35,
     "metadata": {},
     "output_type": "execute_result"
    }
   ],
   "source": [
    "#8. txt1을 space를 기준으로 나눠 리스트에 담으시오\n",
    "\n",
    "a = txt1.split(\" \")\n",
    "a\n",
    "# list(txt1)"
   ]
  },
  {
   "cell_type": "code",
   "execution_count": 18,
   "id": "92dda845",
   "metadata": {},
   "outputs": [
    {
     "data": {
      "text/plain": [
       "11"
      ]
     },
     "execution_count": 18,
     "metadata": {},
     "output_type": "execute_result"
    }
   ],
   "source": [
    "#9. txt2의 길이를 얼마인가?\n",
    "len(txt2)"
   ]
  },
  {
   "cell_type": "code",
   "execution_count": 32,
   "id": "fe058031",
   "metadata": {},
   "outputs": [
    {
     "data": {
      "text/plain": [
       "['이', ' ', '또', '한', ' ', '지', '나', '가', '리', '라', ' ']"
      ]
     },
     "execution_count": 32,
     "metadata": {},
     "output_type": "execute_result"
    }
   ],
   "source": [
    "#10.txt2를 character 단위로 나누어서 리스트에 담으시오.\n",
    "li1 = []\n",
    "for i in txt2:\n",
    "    li1.append(i)\n",
    "li1"
   ]
  },
  {
   "cell_type": "code",
   "execution_count": 21,
   "id": "94fe863a",
   "metadata": {},
   "outputs": [
    {
     "data": {
      "text/plain": [
       "'A tale that was not right'"
      ]
     },
     "execution_count": 21,
     "metadata": {},
     "output_type": "execute_result"
    }
   ],
   "source": [
    "#11.txt1의 좌우 공백을 제거하시오\n",
    "txt1.strip(\" \")"
   ]
  },
  {
   "cell_type": "code",
   "execution_count": 36,
   "id": "49d738d6",
   "metadata": {},
   "outputs": [
    {
     "name": "stdout",
     "output_type": "stream",
     "text": [
      " 라리가나지 한또 이\n"
     ]
    },
    {
     "data": {
      "text/plain": [
       "' 라리가나지 한또 이'"
      ]
     },
     "execution_count": 36,
     "metadata": {},
     "output_type": "execute_result"
    }
   ],
   "source": [
    "#12. txt2를 역순으로 출력하시오\n",
    "li = []\n",
    "for i in txt2:\n",
    "    li.append(i)\n",
    "li= li[::-1]\n",
    "li= ''.join(li)\n",
    "print(li)\n",
    "\n",
    "txt2[::-1]"
   ]
  },
  {
   "cell_type": "code",
   "execution_count": 38,
   "id": "61267553",
   "metadata": {
    "scrolled": true
   },
   "outputs": [
    {
     "data": {
      "text/plain": [
       "' A tale that was not right 이 또한 지나가리라 '"
      ]
     },
     "execution_count": 38,
     "metadata": {},
     "output_type": "execute_result"
    }
   ],
   "source": [
    "# txt1 txt2 를 연결하여 하나의 문자열로 만드시오\n",
    "txt1 +txt2"
   ]
  },
  {
   "cell_type": "code",
   "execution_count": 39,
   "id": "be9b6574",
   "metadata": {},
   "outputs": [
    {
     "data": {
      "text/plain": [
       "True"
      ]
     },
     "execution_count": 39,
     "metadata": {},
     "output_type": "execute_result"
    }
   ],
   "source": [
    "#txt1 에 right 이 존재하는 지 확인하시오\n",
    "'right' in txt1"
   ]
  },
  {
   "cell_type": "code",
   "execution_count": 40,
   "id": "0f2d93da",
   "metadata": {},
   "outputs": [
    {
     "data": {
      "text/plain": [
       "'i'"
      ]
     },
     "execution_count": 40,
     "metadata": {},
     "output_type": "execute_result"
    }
   ],
   "source": [
    "# txt1 뒤에서 5번째 문자를 출력\n",
    "txt1[-5]"
   ]
  },
  {
   "cell_type": "code",
   "execution_count": 43,
   "id": "4c2907c2",
   "metadata": {},
   "outputs": [
    {
     "data": {
      "text/plain": [
       "[(0, ' '),\n",
       " (1, 'A'),\n",
       " (2, ' '),\n",
       " (3, 't'),\n",
       " (4, 'a'),\n",
       " (5, 'l'),\n",
       " (6, 'e'),\n",
       " (7, ' '),\n",
       " (8, 't'),\n",
       " (9, 'h'),\n",
       " (10, 'a'),\n",
       " (11, 't'),\n",
       " (12, ' '),\n",
       " (13, 'w'),\n",
       " (14, 'a'),\n",
       " (15, 's'),\n",
       " (16, ' '),\n",
       " (17, 'n'),\n",
       " (18, 'o'),\n",
       " (19, 't'),\n",
       " (20, ' '),\n",
       " (21, 'r'),\n",
       " (22, 'i'),\n",
       " (23, 'g'),\n",
       " (24, 'h'),\n",
       " (25, 't'),\n",
       " (26, ' ')]"
      ]
     },
     "execution_count": 43,
     "metadata": {},
     "output_type": "execute_result"
    }
   ],
   "source": [
    "#txt1의 문자를 index와 튜플로 묶어서 리스트에 담으시오\n",
    "li2 =[]\n",
    "for i,v in enumerate(txt1):\n",
    "    li2.append((i,v))\n",
    "li2\n",
    "    \n",
    "    "
   ]
  },
  {
   "cell_type": "code",
   "execution_count": null,
   "id": "cf7f4098",
   "metadata": {},
   "outputs": [],
   "source": []
  },
  {
   "cell_type": "code",
   "execution_count": null,
   "id": "486be62a",
   "metadata": {},
   "outputs": [],
   "source": []
  },
  {
   "cell_type": "code",
   "execution_count": 42,
   "id": "29a163ec",
   "metadata": {},
   "outputs": [
    {
     "data": {
      "text/plain": [
       "'www.naver.com'"
      ]
     },
     "execution_count": 42,
     "metadata": {},
     "output_type": "execute_result"
    }
   ],
   "source": [
    "#13. url = 'http://www.naver.com/news/today=20221230' 중 도메인만 출력하시오.\n",
    "url = 'http://www.naver.com/news/today=20221230'\n",
    "url.split('/')[2]\n",
    "\n"
   ]
  },
  {
   "cell_type": "code",
   "execution_count": 53,
   "id": "82126a96",
   "metadata": {},
   "outputs": [
    {
     "name": "stdout",
     "output_type": "stream",
     "text": [
      "name => 홍길동\n",
      "age => 17\n",
      "sex => 남성\n",
      "nation => 대한민국\n"
     ]
    }
   ],
   "source": [
    "#14.log = 'name : 홍길동, age: 17, sex: 남성, nation: 대한민국'\n",
    "#아래와 같이 출력하시오\n",
    "\n",
    "#name=> '홍길동'\n",
    "# age=> 17\n",
    "# sex=> 남성\n",
    "\n",
    "log = 'name: 홍길동, age: 17, sex: 남성, nation: 대한민국'\n",
    "# log1 = log.split(\",\")\n",
    "# # dict2 = dict(log1)\n",
    "# # dict2\n",
    "# # for i,v in dict2:\n",
    "# #     print(\"{} => {}\\n\".format(i,v))\n",
    "\n",
    "for i in log.split(\",\"):\n",
    "    name = i.split(':')[0].strip()\n",
    "    value = i.split(':')[1].strip()\n",
    "    print(name, \"=>\", value)\n"
   ]
  },
  {
   "cell_type": "code",
   "execution_count": null,
   "id": "bd048264",
   "metadata": {},
   "outputs": [],
   "source": []
  },
  {
   "cell_type": "markdown",
   "id": "b4685e19",
   "metadata": {},
   "source": [
    "### datatype\n",
    "1. 기본형\n",
    "- int :95\n",
    "- float : 95.8\n",
    "- bool : True, False\n",
    "\n",
    "2. 군집형 (여러 요소가 모여서 하나의 데이터 형식)\n",
    "- string : '' , 요소의 수정,삭제,축가 안됨  순서,인덱스 존재\n",
    "- list : [], 요소의 수정,삭제,추가가 자유로움  순서,인덱스 존재\n",
    "- tuple: (), 요소의 수정,삭제,추가가 안됨 -> 수정하지 않을 값 , 보조용  순서,인덱스 존재\n",
    "- set: {}, 요소의 삭제, 추가 안됨, 중복요소가 없다. 집합연산  순서,인덱스x\n",
    "- dictionary : {key: value}, 요소의 수정, 삭제, 추가가 자유로움, 데이터의 저장(json과 유사)\n",
    "               순서없고, 인덱스는 key 역할   \n",
    "    "
   ]
  },
  {
   "cell_type": "code",
   "execution_count": null,
   "id": "8f769b70",
   "metadata": {},
   "outputs": [],
   "source": []
  },
  {
   "cell_type": "markdown",
   "id": "1b52af41",
   "metadata": {},
   "source": [
    "### List"
   ]
  },
  {
   "cell_type": "code",
   "execution_count": 138,
   "id": "3da2ac6d",
   "metadata": {},
   "outputs": [],
   "source": [
    "score = [81, 90, 78, 'python', 'hello', True, [78, 56, 32], (24,25,3) ]"
   ]
  },
  {
   "cell_type": "code",
   "execution_count": 139,
   "id": "4a147f7c",
   "metadata": {},
   "outputs": [
    {
     "data": {
      "text/plain": [
       "'t'"
      ]
     },
     "execution_count": 139,
     "metadata": {},
     "output_type": "execute_result"
    }
   ],
   "source": [
    "# 't' 를 출력하시오\n",
    "score[3][2]"
   ]
  },
  {
   "cell_type": "code",
   "execution_count": 140,
   "id": "292114ec",
   "metadata": {},
   "outputs": [
    {
     "data": {
      "text/plain": [
       "56"
      ]
     },
     "execution_count": 140,
     "metadata": {},
     "output_type": "execute_result"
    }
   ],
   "source": [
    "# 56을 출력하시오\n",
    "score[-2][1]"
   ]
  },
  {
   "cell_type": "code",
   "execution_count": 141,
   "id": "3deee919",
   "metadata": {},
   "outputs": [
    {
     "data": {
      "text/plain": [
       "25"
      ]
     },
     "execution_count": 141,
     "metadata": {},
     "output_type": "execute_result"
    }
   ],
   "source": [
    "# 마지막 요소의 최대값을 출력하시오\n",
    "max(score[-1])"
   ]
  },
  {
   "cell_type": "code",
   "execution_count": 142,
   "id": "6e441446",
   "metadata": {},
   "outputs": [
    {
     "data": {
      "text/plain": [
       "[81, 90, 78, 'world', 'hello', True, [78, 56, 32], (24, 25, 3)]"
      ]
     },
     "execution_count": 142,
     "metadata": {},
     "output_type": "execute_result"
    }
   ],
   "source": [
    "# 'python'을 'world'로 수정하시오\n",
    "# score[3].replace(\"python\",\"world\")\n",
    "score[3] = 'world'\n",
    "score"
   ]
  },
  {
   "cell_type": "code",
   "execution_count": 143,
   "id": "ff971e62",
   "metadata": {},
   "outputs": [
    {
     "data": {
      "text/plain": [
       "[81, 90, 78, 'world', 'hello', True, [78, 56, 32], (24, 25, 3), 'sun']"
      ]
     },
     "execution_count": 143,
     "metadata": {},
     "output_type": "execute_result"
    }
   ],
   "source": [
    "# 마지막에 'sun'을 추가하시오\n",
    "score.append(\"sun\")\n",
    "score"
   ]
  },
  {
   "cell_type": "code",
   "execution_count": 144,
   "id": "d546f320",
   "metadata": {},
   "outputs": [
    {
     "data": {
      "text/plain": [
       "True"
      ]
     },
     "execution_count": 144,
     "metadata": {},
     "output_type": "execute_result"
    }
   ],
   "source": [
    "# 'world'가 있는지 확인하시오\n",
    "'world' in score"
   ]
  },
  {
   "cell_type": "code",
   "execution_count": 145,
   "id": "7e88dd6c",
   "metadata": {},
   "outputs": [
    {
     "data": {
      "text/plain": [
       "[25, 24, 3]"
      ]
     },
     "execution_count": 145,
     "metadata": {},
     "output_type": "execute_result"
    }
   ],
   "source": [
    "# 마지막에서 2번째 요소를 내림차순으로 정렬하시오\n",
    "sorted(score[-2], reverse=True)"
   ]
  },
  {
   "cell_type": "code",
   "execution_count": 146,
   "id": "47b22087",
   "metadata": {},
   "outputs": [
    {
     "data": {
      "text/plain": [
       "1"
      ]
     },
     "execution_count": 146,
     "metadata": {},
     "output_type": "execute_result"
    }
   ],
   "source": [
    "# 90은 몇 번째 인덱스에 있는지 확인하시오\n",
    "score.index(90)"
   ]
  },
  {
   "cell_type": "code",
   "execution_count": 147,
   "id": "15228490",
   "metadata": {},
   "outputs": [
    {
     "data": {
      "text/plain": [
       "['sun', (24, 25, 3), [78, 56, 32], True, 'hello', 'world', 78, 90, 81]"
      ]
     },
     "execution_count": 147,
     "metadata": {},
     "output_type": "execute_result"
    }
   ],
   "source": [
    "# 리스트를 역순으로 정렬하시오\n",
    "score[::-1]\n",
    "#score.reverse()"
   ]
  },
  {
   "cell_type": "code",
   "execution_count": 148,
   "id": "9511a7ff",
   "metadata": {},
   "outputs": [
    {
     "data": {
      "text/plain": [
       "[81, 90, 78, 'sea', 'world', 'hello', True, [78, 56, 32], (24, 25, 3), 'sun']"
      ]
     },
     "execution_count": 148,
     "metadata": {},
     "output_type": "execute_result"
    }
   ],
   "source": [
    "# 3번째 인덱스에 'sea'를 추가하시오\n",
    "score.insert(3,'sea')\n",
    "score"
   ]
  },
  {
   "cell_type": "code",
   "execution_count": 149,
   "id": "1f8ac2bb",
   "metadata": {},
   "outputs": [
    {
     "data": {
      "text/plain": [
       "[81,\n",
       " 90,\n",
       " 78,\n",
       " 'sea',\n",
       " 'world',\n",
       " 'hello',\n",
       " 'False',\n",
       " [78, 56, 32],\n",
       " (24, 25, 3),\n",
       " 'sun']"
      ]
     },
     "execution_count": 149,
     "metadata": {},
     "output_type": "execute_result"
    }
   ],
   "source": [
    "# True 를 False로 수정하시오\n",
    "score.index(True)  #index(\"True\") \"\"붙이면 안됨\n",
    "score[6]=\"False\"\n",
    "score"
   ]
  },
  {
   "cell_type": "code",
   "execution_count": 150,
   "id": "bc650494",
   "metadata": {},
   "outputs": [
    {
     "data": {
      "text/plain": [
       "[81, 90, 78, 'sea', 'hello', 'False', [78, 56, 32], (24, 25, 3), 'sun']"
      ]
     },
     "execution_count": 150,
     "metadata": {},
     "output_type": "execute_result"
    }
   ],
   "source": [
    "# 'world'를 제거하시오\n",
    "# score.index(world)\n",
    "score.remove('world')\n",
    "score"
   ]
  },
  {
   "cell_type": "code",
   "execution_count": 89,
   "id": "fbff7a7b",
   "metadata": {},
   "outputs": [],
   "source": [
    "# 7번째 요소를 제거하시오\n",
    "del score[7]\n",
    "#score.pop[7]"
   ]
  },
  {
   "cell_type": "code",
   "execution_count": 90,
   "id": "83942344",
   "metadata": {},
   "outputs": [
    {
     "data": {
      "text/plain": [
       "'sun'"
      ]
     },
     "execution_count": 90,
     "metadata": {},
     "output_type": "execute_result"
    }
   ],
   "source": [
    "# 마지막 요소를 제거하시오\n",
    "score.pop()"
   ]
  },
  {
   "cell_type": "code",
   "execution_count": 91,
   "id": "2bb9905a",
   "metadata": {},
   "outputs": [
    {
     "data": {
      "text/plain": [
       "9"
      ]
     },
     "execution_count": 91,
     "metadata": {},
     "output_type": "execute_result"
    }
   ],
   "source": [
    "# 리스트의 길이를 출력하시오\n",
    "len(score)"
   ]
  },
  {
   "cell_type": "code",
   "execution_count": 95,
   "id": "db375ab3",
   "metadata": {},
   "outputs": [
    {
     "name": "stdout",
     "output_type": "stream",
     "text": [
      "<class 'int'>\n"
     ]
    }
   ],
   "source": [
    "# 두 번째 요소의 데이터 타입을 출력하시오\n",
    "\n",
    "print(type(score[2]))\n"
   ]
  },
  {
   "cell_type": "code",
   "execution_count": 92,
   "id": "d58824ac",
   "metadata": {},
   "outputs": [],
   "source": [
    "# 모든 원소를 제거하시오\n",
    "score.clear()"
   ]
  },
  {
   "cell_type": "code",
   "execution_count": 93,
   "id": "32f5ed3c",
   "metadata": {},
   "outputs": [],
   "source": [
    "# 리스트를 삭제하시오\n",
    "del score"
   ]
  },
  {
   "cell_type": "code",
   "execution_count": 106,
   "id": "724c160d",
   "metadata": {},
   "outputs": [
    {
     "data": {
      "text/plain": [
       "'78:56:32'"
      ]
     },
     "execution_count": 106,
     "metadata": {},
     "output_type": "execute_result"
    }
   ],
   "source": [
    "score = [81, 90, 78, 'python', 'hello', True, [78, 56, 32], (24,25,3) ]\n",
    "#[78,56,32]를 78:56:32로 수정하시오\n",
    "\n",
    "indexx = score.index([78,56,32])   # 인덱스: 6\n",
    "\n",
    "# n = ':'.join(num)  #리스트 안이 str이어야 가능\n",
    "\n",
    "score[indexx] = \":\".join([str(s) for s in [78,56,32]])\n",
    "score[indexx]\n",
    "\n",
    "\n",
    "#리스트-> 문자열"
   ]
  },
  {
   "cell_type": "code",
   "execution_count": null,
   "id": "b3e3983c",
   "metadata": {},
   "outputs": [],
   "source": []
  }
 ],
 "metadata": {
  "kernelspec": {
   "display_name": "Python 3 (ipykernel)",
   "language": "python",
   "name": "python3"
  },
  "language_info": {
   "codemirror_mode": {
    "name": "ipython",
    "version": 3
   },
   "file_extension": ".py",
   "mimetype": "text/x-python",
   "name": "python",
   "nbconvert_exporter": "python",
   "pygments_lexer": "ipython3",
   "version": "3.9.7"
  }
 },
 "nbformat": 4,
 "nbformat_minor": 5
}
