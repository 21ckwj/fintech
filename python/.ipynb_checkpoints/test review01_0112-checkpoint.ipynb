{
 "cells": [
  {
   "cell_type": "code",
   "execution_count": 4,
   "id": "266d0395",
   "metadata": {},
   "outputs": [],
   "source": [
    "# String\n",
    "\n",
    "txt1 = 'A tale that was not right'\n",
    "\n",
    "# 'ale' 이 출력..\n",
    "# 'A tale' 출력\n",
    "# 'not' 출력\n",
    "# txt1을 소문자 전환\n",
    "# txt1을 대문자 전환\n",
    "# 'o'가 몇 개 존재하는가?\n",
    "# 'o'가 몇 번 인덱스에 존재하는가?\n",
    "# txt1의 길이는 어떻게 되는가?\n",
    "# space를 기준으로 나누어서 List에 담으세요..\n",
    "# 'tale'을 'story'로 바꾸세요..\n",
    "# txt1 안에 'right'가 존재하는지 확인"
   ]
  },
  {
   "cell_type": "code",
   "execution_count": 5,
   "id": "ea03884d",
   "metadata": {},
   "outputs": [
    {
     "data": {
      "text/plain": [
       "'ale'"
      ]
     },
     "execution_count": 5,
     "metadata": {},
     "output_type": "execute_result"
    }
   ],
   "source": [
    "txt1[3:6]"
   ]
  },
  {
   "cell_type": "code",
   "execution_count": 7,
   "id": "b8d3b13a",
   "metadata": {},
   "outputs": [
    {
     "data": {
      "text/plain": [
       "'A tale'"
      ]
     },
     "execution_count": 7,
     "metadata": {},
     "output_type": "execute_result"
    }
   ],
   "source": [
    "txt1[:6]"
   ]
  },
  {
   "cell_type": "code",
   "execution_count": 9,
   "id": "6973f54c",
   "metadata": {},
   "outputs": [
    {
     "data": {
      "text/plain": [
       "'e'"
      ]
     },
     "execution_count": 9,
     "metadata": {},
     "output_type": "execute_result"
    }
   ],
   "source": [
    "txt1[5]"
   ]
  },
  {
   "cell_type": "code",
   "execution_count": 10,
   "id": "eafb283f",
   "metadata": {},
   "outputs": [
    {
     "data": {
      "text/plain": [
       "1"
      ]
     },
     "execution_count": 10,
     "metadata": {},
     "output_type": "execute_result"
    }
   ],
   "source": [
    "txt1.count('o')"
   ]
  },
  {
   "cell_type": "code",
   "execution_count": 11,
   "id": "6b84244d",
   "metadata": {},
   "outputs": [
    {
     "data": {
      "text/plain": [
       "17"
      ]
     },
     "execution_count": 11,
     "metadata": {},
     "output_type": "execute_result"
    }
   ],
   "source": [
    "txt1.index('o')"
   ]
  },
  {
   "cell_type": "code",
   "execution_count": 12,
   "id": "e690ca2a",
   "metadata": {},
   "outputs": [
    {
     "data": {
      "text/plain": [
       "17"
      ]
     },
     "execution_count": 12,
     "metadata": {},
     "output_type": "execute_result"
    }
   ],
   "source": [
    "txt1.find('o')"
   ]
  },
  {
   "cell_type": "code",
   "execution_count": 13,
   "id": "9be48c5d",
   "metadata": {},
   "outputs": [
    {
     "data": {
      "text/plain": [
       "['A', 'tale', 'that', 'was', 'not', 'right']"
      ]
     },
     "execution_count": 13,
     "metadata": {},
     "output_type": "execute_result"
    }
   ],
   "source": [
    "txt1.split(\" \")"
   ]
  },
  {
   "cell_type": "code",
   "execution_count": 14,
   "id": "028c9487",
   "metadata": {},
   "outputs": [
    {
     "data": {
      "text/plain": [
       "'A story that was not right'"
      ]
     },
     "execution_count": 14,
     "metadata": {},
     "output_type": "execute_result"
    }
   ],
   "source": [
    "txt1.replace('tale','story')"
   ]
  },
  {
   "cell_type": "markdown",
   "id": "ccda32c6",
   "metadata": {},
   "source": [
    "## 군집형 데이터타입 - index(주소) - []\n",
    "\n",
    "string - 문자열, 원소의 수정, 삭제, 추가가 안 됨\n",
    "list - 리스트, 원소의 수정,삭제,추가가 자유로움, 모든 객체를 담을 수 있음\n",
    "set - 집합, 중복데이터를 허용하지 않는다, 순서가 없음(index가 없음)\n",
    "tuple - 원소의 수정, 삭제, 추가가 안 됨 -> 고정된 값을 표현. 데이터를 묶는 보조적 용도\n",
    "dictionary - 사전. 단어: 뜻->  key: value => key가 인덱스 역할을 함\n"
   ]
  },
  {
   "cell_type": "code",
   "execution_count": 45,
   "id": "6b4867af",
   "metadata": {},
   "outputs": [],
   "source": [
    "# List\n",
    "sol = ['태양','수성','금성','지구','화성','목성','지구']\n",
    "sol1 = ['토성','천황성','해왕성']\n",
    "planet = '지구'"
   ]
  },
  {
   "cell_type": "code",
   "execution_count": 46,
   "id": "2cd1c2ac",
   "metadata": {},
   "outputs": [
    {
     "data": {
      "text/plain": [
       "['수성', '금성']"
      ]
     },
     "execution_count": 46,
     "metadata": {},
     "output_type": "execute_result"
    }
   ],
   "source": [
    "# 1. sol에서 ['수성','금성']을 출력\n",
    "sol[1:3]"
   ]
  },
  {
   "cell_type": "code",
   "execution_count": 47,
   "id": "9306aaf5",
   "metadata": {},
   "outputs": [
    {
     "data": {
      "text/plain": [
       "3"
      ]
     },
     "execution_count": 47,
     "metadata": {},
     "output_type": "execute_result"
    }
   ],
   "source": [
    "# 2. sol에서 '지구' 위치 인덱스 출력\n",
    "sol.index('지구')"
   ]
  },
  {
   "cell_type": "code",
   "execution_count": 48,
   "id": "a95b6a84",
   "metadata": {},
   "outputs": [
    {
     "data": {
      "text/plain": [
       "['태양', '수성', '금성', '지구', '해왕성', '목성', '지구']"
      ]
     },
     "execution_count": 48,
     "metadata": {},
     "output_type": "execute_result"
    }
   ],
   "source": [
    "# 3. sol에서 '화성'을 '해왕성'으로 수정\n",
    "sol[4] = '해왕성'\n",
    "sol"
   ]
  },
  {
   "cell_type": "code",
   "execution_count": 49,
   "id": "49aefd11",
   "metadata": {},
   "outputs": [
    {
     "data": {
      "text/plain": [
       "['태양', '명왕성', '수성', '금성', '지구', '해왕성', '목성', '지구']"
      ]
     },
     "execution_count": 49,
     "metadata": {},
     "output_type": "execute_result"
    }
   ],
   "source": [
    "# 4. '수성'자리에 '명왕성' 삽입\n",
    "sol.insert(1,'명왕성')\n",
    "sol"
   ]
  },
  {
   "cell_type": "code",
   "execution_count": 50,
   "id": "01681a1b",
   "metadata": {},
   "outputs": [
    {
     "data": {
      "text/plain": [
       "['태양', '명왕성', '수성', '금성', '지구', '해왕성', '목성', '지구', '토성']"
      ]
     },
     "execution_count": 50,
     "metadata": {},
     "output_type": "execute_result"
    }
   ],
   "source": [
    "# 5. '토성'을 맨 끝에 삽입\n",
    "sol.append(\"토성\")\n",
    "sol"
   ]
  },
  {
   "cell_type": "code",
   "execution_count": 51,
   "id": "57c80f4e",
   "metadata": {},
   "outputs": [
    {
     "data": {
      "text/plain": [
       "['태양', '명왕성', '수성', '금성', '지구', '해왕성', '목성', '지구']"
      ]
     },
     "execution_count": 51,
     "metadata": {},
     "output_type": "execute_result"
    }
   ],
   "source": [
    "# 6. 맨 끝 요소를 삭제하고 리턴 \n",
    "sol.pop()\n",
    "sol"
   ]
  },
  {
   "cell_type": "code",
   "execution_count": 52,
   "id": "3e7e1776",
   "metadata": {},
   "outputs": [
    {
     "data": {
      "text/plain": [
       "['태양', '명왕성', '수성', '지구', '해왕성', '목성', '지구']"
      ]
     },
     "execution_count": 52,
     "metadata": {},
     "output_type": "execute_result"
    }
   ],
   "source": [
    "# 7. '금성'을 제거\n",
    "sol.remove(\"금성\")\n",
    "sol"
   ]
  },
  {
   "cell_type": "code",
   "execution_count": 53,
   "id": "977e278d",
   "metadata": {},
   "outputs": [
    {
     "data": {
      "text/plain": [
       "['태양', '해왕성', '목성', '지구']"
      ]
     },
     "execution_count": 53,
     "metadata": {},
     "output_type": "execute_result"
    }
   ],
   "source": [
    "# 8. 1번 인덱스에서 3번 인덱스까지 삭제\n",
    "del sol[1:4]\n",
    "sol"
   ]
  },
  {
   "cell_type": "code",
   "execution_count": 54,
   "id": "8d5bbda4",
   "metadata": {},
   "outputs": [],
   "source": [
    "# 9. 인덱스 2번 요소 삭제\n",
    "\n",
    "del sol[2]"
   ]
  },
  {
   "cell_type": "code",
   "execution_count": 55,
   "id": "0d6ca0b5",
   "metadata": {},
   "outputs": [
    {
     "data": {
      "text/plain": [
       "['태양', '해왕성', '지구', '토성', '천황성', '해왕성']"
      ]
     },
     "execution_count": 55,
     "metadata": {},
     "output_type": "execute_result"
    }
   ],
   "source": [
    "# 10. sol과 sol1을 합치세요\n",
    "sol + sol1"
   ]
  },
  {
   "cell_type": "code",
   "execution_count": 56,
   "id": "ea755f66",
   "metadata": {},
   "outputs": [
    {
     "data": {
      "text/plain": [
       "['해왕성', '태양', '지구']"
      ]
     },
     "execution_count": 56,
     "metadata": {},
     "output_type": "execute_result"
    }
   ],
   "source": [
    "# 11. 내림차순 정렬\n",
    "sorted(sol, reverse=True)"
   ]
  },
  {
   "cell_type": "code",
   "execution_count": 59,
   "id": "429bc5c6",
   "metadata": {},
   "outputs": [],
   "source": [
    "# 12. 오름차순 정렬\n",
    "sol.sort()"
   ]
  },
  {
   "cell_type": "code",
   "execution_count": null,
   "id": "8fbe30b7",
   "metadata": {},
   "outputs": [],
   "source": [
    "# 13. '만리장성'이 있는지 확인\n",
    "'만리장성' in sol"
   ]
  },
  {
   "cell_type": "code",
   "execution_count": 60,
   "id": "a3ff1d50",
   "metadata": {},
   "outputs": [
    {
     "data": {
      "text/plain": [
       "['지구', '태양', '해왕성', '지구', '태양', '해왕성', '지구', '태양', '해왕성']"
      ]
     },
     "execution_count": 60,
     "metadata": {},
     "output_type": "execute_result"
    }
   ],
   "source": [
    "# 14. so1을 3번 반복하세요\n",
    "sol*3"
   ]
  },
  {
   "cell_type": "code",
   "execution_count": 61,
   "id": "b7928b68",
   "metadata": {},
   "outputs": [
    {
     "data": {
      "text/plain": [
       "3"
      ]
     },
     "execution_count": 61,
     "metadata": {},
     "output_type": "execute_result"
    }
   ],
   "source": [
    "# 15. 길이를 출력하세요\n",
    "len(sol)"
   ]
  },
  {
   "cell_type": "code",
   "execution_count": 63,
   "id": "cf3c1439",
   "metadata": {},
   "outputs": [
    {
     "data": {
      "text/plain": [
       "1"
      ]
     },
     "execution_count": 63,
     "metadata": {},
     "output_type": "execute_result"
    }
   ],
   "source": [
    "# 16. '지구'가 몇 개 포함되어있는지 확인.\n",
    "sol.count('지구')"
   ]
  },
  {
   "cell_type": "code",
   "execution_count": 65,
   "id": "36587c82",
   "metadata": {},
   "outputs": [
    {
     "data": {
      "text/plain": [
       "[]"
      ]
     },
     "execution_count": 65,
     "metadata": {},
     "output_type": "execute_result"
    }
   ],
   "source": [
    "# 17. 모든 원소를 지우세요.\n",
    "sol.clear()\n",
    "sol"
   ]
  },
  {
   "cell_type": "code",
   "execution_count": 66,
   "id": "24141ed4",
   "metadata": {},
   "outputs": [
    {
     "ename": "NameError",
     "evalue": "name 'sol' is not defined",
     "output_type": "error",
     "traceback": [
      "\u001b[1;31m---------------------------------------------------------------------------\u001b[0m",
      "\u001b[1;31mNameError\u001b[0m                                 Traceback (most recent call last)",
      "\u001b[1;32m~\\AppData\\Local\\Temp/ipykernel_2248/2622096271.py\u001b[0m in \u001b[0;36m<module>\u001b[1;34m\u001b[0m\n\u001b[0;32m      1\u001b[0m \u001b[1;31m# 18. sol리스트를 삭제하세요.\u001b[0m\u001b[1;33m\u001b[0m\u001b[1;33m\u001b[0m\u001b[0m\n\u001b[0;32m      2\u001b[0m \u001b[1;32mdel\u001b[0m \u001b[0msol\u001b[0m\u001b[1;33m\u001b[0m\u001b[1;33m\u001b[0m\u001b[0m\n\u001b[1;32m----> 3\u001b[1;33m \u001b[0msol\u001b[0m\u001b[1;33m\u001b[0m\u001b[1;33m\u001b[0m\u001b[0m\n\u001b[0m",
      "\u001b[1;31mNameError\u001b[0m: name 'sol' is not defined"
     ]
    }
   ],
   "source": [
    "# 18. sol리스트를 삭제하세요.\n",
    "del sol\n",
    "sol"
   ]
  },
  {
   "cell_type": "code",
   "execution_count": 68,
   "id": "c1df48b8",
   "metadata": {},
   "outputs": [],
   "source": [
    "# Tuple -- 원소 수정 안됨\n",
    "\n",
    "myTuple = ('tuple', (1,2,3) , [4,5,6,7,8] ,'7', '8', '9')"
   ]
  },
  {
   "cell_type": "code",
   "execution_count": 69,
   "id": "b13446fe",
   "metadata": {},
   "outputs": [
    {
     "data": {
      "text/plain": [
       "'tuple'"
      ]
     },
     "execution_count": 69,
     "metadata": {},
     "output_type": "execute_result"
    }
   ],
   "source": [
    "# 'tuple'을 출력하세요\n",
    "myTuple[0]"
   ]
  },
  {
   "cell_type": "code",
   "execution_count": 70,
   "id": "2f487b73",
   "metadata": {},
   "outputs": [
    {
     "data": {
      "text/plain": [
       "3"
      ]
     },
     "execution_count": 70,
     "metadata": {},
     "output_type": "execute_result"
    }
   ],
   "source": [
    "# 3을 출력하세요\n",
    "myTuple[1][2]"
   ]
  },
  {
   "cell_type": "code",
   "execution_count": 72,
   "id": "60fab7db",
   "metadata": {},
   "outputs": [
    {
     "data": {
      "text/plain": [
       "[4, 5]"
      ]
     },
     "execution_count": 72,
     "metadata": {},
     "output_type": "execute_result"
    }
   ],
   "source": [
    "# 4,5를 출력하세요\n",
    "myTuple[2][0:2]"
   ]
  },
  {
   "cell_type": "code",
   "execution_count": 76,
   "id": "0c9ebe9a",
   "metadata": {},
   "outputs": [
    {
     "data": {
      "text/plain": [
       "[4, 5, 6]"
      ]
     },
     "execution_count": 76,
     "metadata": {},
     "output_type": "execute_result"
    }
   ],
   "source": [
    "# [4,5,6]을 출력하세요\n",
    "myTuple[2][:3]"
   ]
  },
  {
   "cell_type": "code",
   "execution_count": null,
   "id": "a6a6b2dd",
   "metadata": {},
   "outputs": [],
   "source": [
    "# tuple의 길이를 리턴하세요 ( 요소의 갯수가 몇 개인지 )"
   ]
  },
  {
   "cell_type": "code",
   "execution_count": null,
   "id": "6843e4a5",
   "metadata": {},
   "outputs": [],
   "source": [
    "# '7'이 있는지 확인하세요"
   ]
  },
  {
   "cell_type": "code",
   "execution_count": null,
   "id": "6f61e0b5",
   "metadata": {},
   "outputs": [],
   "source": [
    "# '7'의 인덱스를 출력하세요."
   ]
  },
  {
   "cell_type": "code",
   "execution_count": 82,
   "id": "95d1aac1",
   "metadata": {},
   "outputs": [
    {
     "name": "stdout",
     "output_type": "stream",
     "text": [
      "1\n"
     ]
    }
   ],
   "source": [
    "# '7'이 몇 개 있는지 확인하세요\n",
    "print(myTuple.count('7'))"
   ]
  },
  {
   "cell_type": "code",
   "execution_count": 77,
   "id": "4d1badd2",
   "metadata": {},
   "outputs": [
    {
     "name": "stdout",
     "output_type": "stream",
     "text": [
      "8\n"
     ]
    }
   ],
   "source": [
    "# 인데스 2번를 출력하세요\n",
    "print((myTuple[2]))"
   ]
  },
  {
   "cell_type": "code",
   "execution_count": 79,
   "id": "a3abbd74",
   "metadata": {},
   "outputs": [
    {
     "name": "stdout",
     "output_type": "stream",
     "text": [
      "8\n"
     ]
    }
   ],
   "source": [
    "# 인데스 2번에서 최대값을 출력하세요\n",
    "print((max(myTuple[2])))"
   ]
  },
  {
   "cell_type": "code",
   "execution_count": null,
   "id": "fe0ebddc",
   "metadata": {},
   "outputs": [],
   "source": [
    "# 인데스 2번에서 최소값을 출력하세요"
   ]
  },
  {
   "cell_type": "code",
   "execution_count": null,
   "id": "6c16011d",
   "metadata": {},
   "outputs": [],
   "source": [
    "# 인데스 2번에서 총합을 출력하세요"
   ]
  },
  {
   "cell_type": "code",
   "execution_count": 80,
   "id": "3b5cf9e4",
   "metadata": {},
   "outputs": [
    {
     "name": "stdout",
     "output_type": "stream",
     "text": [
      "6.0\n"
     ]
    }
   ],
   "source": [
    "# 인데스 2번에서 평균을 출력하세요\n",
    "import numpy as np\n",
    "print(np.mean(myTuple[2]))"
   ]
  },
  {
   "cell_type": "code",
   "execution_count": 81,
   "id": "01d6e540",
   "metadata": {},
   "outputs": [
    {
     "name": "stdout",
     "output_type": "stream",
     "text": [
      "[8, 7, 6, 5, 4]\n"
     ]
    }
   ],
   "source": [
    "# 인데스 2번를 내림차순 정렬해서 출력하세요.\n",
    "print(sorted(myTuple[2],reverse=True))"
   ]
  },
  {
   "cell_type": "code",
   "execution_count": 92,
   "id": "7f1d195a",
   "metadata": {},
   "outputs": [],
   "source": [
    "# Set -- 중복데이터가 없다. 순서가 없으므로 인덱스가 없다 + 집합 연산\n",
    "\n",
    "# 원소가 없는 set인 s를 만드세요\n",
    "# s에 원소 'sky'와 'earth'를 추가하세요\n",
    "# s에 1,2 두 원소를 추가하세요\n",
    "# s에서 'sky'를 삭제하세요\n",
    "\n",
    "A = {1,2,3,4,5,6}\n",
    "B = {1,2,3,7,8,9}\n",
    "C = {1,2,3}\n",
    "# 두 집합의 합집합을 출력\n",
    "# 두 집합의 교집합을 출력\n",
    "# A의 B에 대한 차집합\n",
    "# 대칭차집합\n",
    "# C가 A의 부분집합인지 확인\n",
    "# A가 C를 포함하는지 확인\n",
    "\n",
    "# 집합 B의 길이를 출력\n",
    "# 집합 B의 최대값 출력\n",
    "# 집합 B의 최소값 출력m\n",
    "# 집합 B의 합을 출력\n",
    "# 집합 B의 평균출력\n",
    "# 집합 B의 내림차순 출력\n",
    "# 집합 B에 5가 포함되어 있는지 확인"
   ]
  },
  {
   "cell_type": "code",
   "execution_count": 85,
   "id": "b56133e0",
   "metadata": {},
   "outputs": [],
   "source": [
    "# s = {}  딕셔너리가 우선순위로 만들어진다.\n",
    "s = set()"
   ]
  },
  {
   "cell_type": "code",
   "execution_count": 89,
   "id": "1f3baec3",
   "metadata": {},
   "outputs": [],
   "source": [
    "s.add('earth') #set 은 add\n",
    "s.add('sky')\n"
   ]
  },
  {
   "cell_type": "code",
   "execution_count": 90,
   "id": "53e22c59",
   "metadata": {},
   "outputs": [
    {
     "data": {
      "text/plain": [
       "{1, 2, 'earth', 'sky'}"
      ]
     },
     "execution_count": 90,
     "metadata": {},
     "output_type": "execute_result"
    }
   ],
   "source": [
    "s.update({1,2})\n",
    "s"
   ]
  },
  {
   "cell_type": "code",
   "execution_count": 91,
   "id": "9e6bfddb",
   "metadata": {},
   "outputs": [
    {
     "data": {
      "text/plain": [
       "{1, 2, 'earth'}"
      ]
     },
     "execution_count": 91,
     "metadata": {},
     "output_type": "execute_result"
    }
   ],
   "source": [
    "s.remove('sky')\n",
    "s"
   ]
  },
  {
   "cell_type": "code",
   "execution_count": 94,
   "id": "2707ad5f",
   "metadata": {},
   "outputs": [
    {
     "data": {
      "text/plain": [
       "{1, 2, 3, 4, 5, 6, 7, 8, 9}"
      ]
     },
     "execution_count": 94,
     "metadata": {},
     "output_type": "execute_result"
    }
   ],
   "source": [
    "A.union(B)"
   ]
  },
  {
   "cell_type": "code",
   "execution_count": 96,
   "id": "ac5b8006",
   "metadata": {},
   "outputs": [
    {
     "data": {
      "text/plain": [
       "{1, 2, 3}"
      ]
     },
     "execution_count": 96,
     "metadata": {},
     "output_type": "execute_result"
    }
   ],
   "source": [
    "A.intersection(B)"
   ]
  },
  {
   "cell_type": "code",
   "execution_count": 97,
   "id": "d1a8d9b1",
   "metadata": {},
   "outputs": [
    {
     "data": {
      "text/plain": [
       "{4, 5, 6}"
      ]
     },
     "execution_count": 97,
     "metadata": {},
     "output_type": "execute_result"
    }
   ],
   "source": [
    "A.difference(B)"
   ]
  },
  {
   "cell_type": "code",
   "execution_count": 99,
   "id": "9f818e31",
   "metadata": {},
   "outputs": [
    {
     "data": {
      "text/plain": [
       "{4, 5, 6, 7, 8, 9}"
      ]
     },
     "execution_count": 99,
     "metadata": {},
     "output_type": "execute_result"
    }
   ],
   "source": [
    "A.symmetric_difference(B)"
   ]
  },
  {
   "cell_type": "code",
   "execution_count": 100,
   "id": "ce4c397c",
   "metadata": {},
   "outputs": [
    {
     "data": {
      "text/plain": [
       "True"
      ]
     },
     "execution_count": 100,
     "metadata": {},
     "output_type": "execute_result"
    }
   ],
   "source": [
    "C.issubset(A)"
   ]
  },
  {
   "cell_type": "code",
   "execution_count": 101,
   "id": "2d4813b5",
   "metadata": {},
   "outputs": [
    {
     "data": {
      "text/plain": [
       "True"
      ]
     },
     "execution_count": 101,
     "metadata": {},
     "output_type": "execute_result"
    }
   ],
   "source": [
    "A.issuperset(C)"
   ]
  },
  {
   "cell_type": "code",
   "execution_count": 102,
   "id": "aecc3298",
   "metadata": {},
   "outputs": [
    {
     "data": {
      "text/plain": [
       "6"
      ]
     },
     "execution_count": 102,
     "metadata": {},
     "output_type": "execute_result"
    }
   ],
   "source": [
    "len(A)"
   ]
  },
  {
   "cell_type": "code",
   "execution_count": 103,
   "id": "2bb47d47",
   "metadata": {},
   "outputs": [
    {
     "data": {
      "text/plain": [
       "6"
      ]
     },
     "execution_count": 103,
     "metadata": {},
     "output_type": "execute_result"
    }
   ],
   "source": [
    "max(A)"
   ]
  },
  {
   "cell_type": "code",
   "execution_count": 104,
   "id": "90005abc",
   "metadata": {},
   "outputs": [
    {
     "data": {
      "text/plain": [
       "1"
      ]
     },
     "execution_count": 104,
     "metadata": {},
     "output_type": "execute_result"
    }
   ],
   "source": [
    "min(A)"
   ]
  },
  {
   "cell_type": "code",
   "execution_count": 105,
   "id": "b7167d47",
   "metadata": {},
   "outputs": [
    {
     "data": {
      "text/plain": [
       "21"
      ]
     },
     "execution_count": 105,
     "metadata": {},
     "output_type": "execute_result"
    }
   ],
   "source": [
    "sum(A)"
   ]
  },
  {
   "cell_type": "code",
   "execution_count": 108,
   "id": "ba00d49a",
   "metadata": {},
   "outputs": [
    {
     "data": {
      "text/plain": [
       "3.5"
      ]
     },
     "execution_count": 108,
     "metadata": {},
     "output_type": "execute_result"
    }
   ],
   "source": [
    "# mean(A)         #오류\n",
    "# np.mean(A)      #오류\n",
    "np.mean(list(A))"
   ]
  },
  {
   "cell_type": "code",
   "execution_count": 109,
   "id": "e9e310fe",
   "metadata": {},
   "outputs": [
    {
     "data": {
      "text/plain": [
       "[6, 5, 4, 3, 2, 1]"
      ]
     },
     "execution_count": 109,
     "metadata": {},
     "output_type": "execute_result"
    }
   ],
   "source": [
    "sorted(A, reverse= True)"
   ]
  },
  {
   "cell_type": "code",
   "execution_count": 110,
   "id": "cd8dafdf",
   "metadata": {},
   "outputs": [
    {
     "data": {
      "text/plain": [
       "True"
      ]
     },
     "execution_count": 110,
     "metadata": {},
     "output_type": "execute_result"
    }
   ],
   "source": [
    "5 in A"
   ]
  },
  {
   "cell_type": "code",
   "execution_count": 149,
   "id": "01e39115",
   "metadata": {},
   "outputs": [],
   "source": [
    "# Dictionary \n",
    "\n",
    "# 'mydict'라는 딕셔너리를 만드세요.\n",
    "# 'red':4, 'blue':3, 'green':1 세 요소를 추가하세요.\n",
    "# key에 'blue'가 있는지 확인하세요.\n",
    "# mydict의 길이를 출력하세요.\n",
    "# 'red'의 값을 출력하세요.\n",
    "# 'red'의 값을 10으로 수정하세요.\n",
    "# key값만 출력하세요\n",
    "# value값만 출력하세요\n",
    "# key와 value를 튜플로 출력하세요.\n",
    "# (key기준으로 정렬하세요.)\n",
    "# (value기준으로 정렬하세요)\n",
    "# key 'blue'요소를 삭제하세요\n",
    "# key 'pink'요소 값을 출력하되 오류가 없도록 하세요\n",
    "# key 'pink' 값을 출력하되 없으면, value 20으로 새로이 추가하세요\n",
    "# value에 20이 있는지 확인하세요.\n",
    "# key는 'yellow'에 value는 30을 추가하세요.\n",
    "# yourdict = {'파랑':50, '빨강':70}을 합하세요.."
   ]
  },
  {
   "cell_type": "code",
   "execution_count": 150,
   "id": "31e2d217",
   "metadata": {},
   "outputs": [],
   "source": [
    "d= {}"
   ]
  },
  {
   "cell_type": "code",
   "execution_count": 151,
   "id": "5ce43b0e",
   "metadata": {},
   "outputs": [
    {
     "data": {
      "text/plain": [
       "{'red': 4}"
      ]
     },
     "execution_count": 151,
     "metadata": {},
     "output_type": "execute_result"
    }
   ],
   "source": [
    "d['red'] = 4\n",
    "d"
   ]
  },
  {
   "cell_type": "code",
   "execution_count": 152,
   "id": "58ec53e0",
   "metadata": {},
   "outputs": [
    {
     "data": {
      "text/plain": [
       "{'red': 4, 'blue': 3, 'green': 1}"
      ]
     },
     "execution_count": 152,
     "metadata": {},
     "output_type": "execute_result"
    }
   ],
   "source": [
    "d['blue'] = 3     # 없는 key값을 대입하면, 원소가 추가됨\n",
    "d['green'] = 1\n",
    "d"
   ]
  },
  {
   "cell_type": "code",
   "execution_count": 153,
   "id": "34f339fc",
   "metadata": {},
   "outputs": [
    {
     "data": {
      "text/plain": [
       "{'red': 7, 'blue': 3, 'green': 1}"
      ]
     },
     "execution_count": 153,
     "metadata": {},
     "output_type": "execute_result"
    }
   ],
   "source": [
    "d[\"red\"]= 7      # 있는 key값을 대입하면, 기존의 값을 덮어쓴다.\n",
    "d"
   ]
  },
  {
   "cell_type": "code",
   "execution_count": 154,
   "id": "0a29c008",
   "metadata": {},
   "outputs": [
    {
     "data": {
      "text/plain": [
       "True"
      ]
     },
     "execution_count": 154,
     "metadata": {},
     "output_type": "execute_result"
    }
   ],
   "source": [
    "'blue' in d"
   ]
  },
  {
   "cell_type": "code",
   "execution_count": 155,
   "id": "cf1e30cd",
   "metadata": {},
   "outputs": [
    {
     "data": {
      "text/plain": [
       "3"
      ]
     },
     "execution_count": 155,
     "metadata": {},
     "output_type": "execute_result"
    }
   ],
   "source": [
    "len(d)"
   ]
  },
  {
   "cell_type": "code",
   "execution_count": 156,
   "id": "77361097",
   "metadata": {},
   "outputs": [
    {
     "data": {
      "text/plain": [
       "7"
      ]
     },
     "execution_count": 156,
     "metadata": {},
     "output_type": "execute_result"
    }
   ],
   "source": [
    "d['red']"
   ]
  },
  {
   "cell_type": "code",
   "execution_count": 157,
   "id": "980d86d7",
   "metadata": {},
   "outputs": [
    {
     "data": {
      "text/plain": [
       "{'red': 10, 'blue': 3, 'green': 1}"
      ]
     },
     "execution_count": 157,
     "metadata": {},
     "output_type": "execute_result"
    }
   ],
   "source": [
    "d['red'] = 10\n",
    "d"
   ]
  },
  {
   "cell_type": "code",
   "execution_count": 158,
   "id": "db850fe1",
   "metadata": {},
   "outputs": [
    {
     "data": {
      "text/plain": [
       "dict_keys(['red', 'blue', 'green'])"
      ]
     },
     "execution_count": 158,
     "metadata": {},
     "output_type": "execute_result"
    }
   ],
   "source": [
    "d.keys()"
   ]
  },
  {
   "cell_type": "code",
   "execution_count": 159,
   "id": "40ac1778",
   "metadata": {},
   "outputs": [
    {
     "data": {
      "text/plain": [
       "dict_values([10, 3, 1])"
      ]
     },
     "execution_count": 159,
     "metadata": {},
     "output_type": "execute_result"
    }
   ],
   "source": [
    "d.values()"
   ]
  },
  {
   "cell_type": "code",
   "execution_count": 160,
   "id": "5b5619bc",
   "metadata": {},
   "outputs": [
    {
     "data": {
      "text/plain": [
       "dict_items([('red', 10), ('blue', 3), ('green', 1)])"
      ]
     },
     "execution_count": 160,
     "metadata": {},
     "output_type": "execute_result"
    }
   ],
   "source": [
    "d.items()"
   ]
  },
  {
   "cell_type": "code",
   "execution_count": 162,
   "id": "8a0c0754",
   "metadata": {},
   "outputs": [
    {
     "data": {
      "text/plain": [
       "[('blue', 3), ('green', 1), ('red', 10)]"
      ]
     },
     "execution_count": 162,
     "metadata": {},
     "output_type": "execute_result"
    }
   ],
   "source": [
    "sorted(d.items(),key=lambda x:x[0])  #딕셔너리 정렬 많이 사용하지는 않음"
   ]
  },
  {
   "cell_type": "code",
   "execution_count": 163,
   "id": "bce6fc5e",
   "metadata": {},
   "outputs": [
    {
     "data": {
      "text/plain": [
       "[('green', 1), ('blue', 3), ('red', 10)]"
      ]
     },
     "execution_count": 163,
     "metadata": {},
     "output_type": "execute_result"
    }
   ],
   "source": [
    "sorted(d.items(),key=lambda x:x[1])"
   ]
  },
  {
   "cell_type": "code",
   "execution_count": 165,
   "id": "4519ba89",
   "metadata": {},
   "outputs": [],
   "source": [
    "del d[\"blue\"]"
   ]
  },
  {
   "cell_type": "code",
   "execution_count": 136,
   "id": "a653337a",
   "metadata": {},
   "outputs": [
    {
     "data": {
      "text/plain": [
       "{'red': 10, 'green': 1}"
      ]
     },
     "execution_count": 136,
     "metadata": {},
     "output_type": "execute_result"
    }
   ],
   "source": [
    "d"
   ]
  },
  {
   "cell_type": "code",
   "execution_count": 137,
   "id": "46782ba6",
   "metadata": {},
   "outputs": [
    {
     "data": {
      "text/plain": [
       "10"
      ]
     },
     "execution_count": 137,
     "metadata": {},
     "output_type": "execute_result"
    }
   ],
   "source": [
    "d['red']"
   ]
  },
  {
   "cell_type": "code",
   "execution_count": 139,
   "id": "2c4c011c",
   "metadata": {},
   "outputs": [],
   "source": [
    "# d.get('key') - 없는 key를 요청 시 에러를 발생시키지 않는다.\n",
    "# dict['key'] - 없는 키-> 에러발생\n",
    "# dict.setdefault('key', value) - key가 존재하면 value를 리턴 , 없는 key라면 (Key, value) 원소를 추가\n",
    "\n",
    "\n",
    "d.get('pink') #오류 안남"
   ]
  },
  {
   "cell_type": "code",
   "execution_count": 141,
   "id": "81a25cbd",
   "metadata": {},
   "outputs": [
    {
     "data": {
      "text/plain": [
       "10"
      ]
     },
     "execution_count": 141,
     "metadata": {},
     "output_type": "execute_result"
    }
   ],
   "source": [
    "d.setdefault('red', 100)"
   ]
  },
  {
   "cell_type": "code",
   "execution_count": 142,
   "id": "13e59e6b",
   "metadata": {},
   "outputs": [
    {
     "data": {
      "text/plain": [
       "100"
      ]
     },
     "execution_count": 142,
     "metadata": {},
     "output_type": "execute_result"
    }
   ],
   "source": [
    "d.setdefault('pink', 100)"
   ]
  },
  {
   "cell_type": "code",
   "execution_count": 143,
   "id": "c0521010",
   "metadata": {},
   "outputs": [
    {
     "data": {
      "text/plain": [
       "{'red': 10, 'green': 1, 'pink': 100}"
      ]
     },
     "execution_count": 143,
     "metadata": {},
     "output_type": "execute_result"
    }
   ],
   "source": [
    "d"
   ]
  },
  {
   "cell_type": "code",
   "execution_count": 144,
   "id": "6519d28f",
   "metadata": {},
   "outputs": [
    {
     "data": {
      "text/plain": [
       "True"
      ]
     },
     "execution_count": 144,
     "metadata": {},
     "output_type": "execute_result"
    }
   ],
   "source": [
    "10 in d.values()"
   ]
  },
  {
   "cell_type": "code",
   "execution_count": 146,
   "id": "66423a0b",
   "metadata": {},
   "outputs": [
    {
     "data": {
      "text/plain": [
       "{'red': 10, 'green': 1, 'pink': 100, 'yellow': 30}"
      ]
     },
     "execution_count": 146,
     "metadata": {},
     "output_type": "execute_result"
    }
   ],
   "source": [
    "d['yellow']=30\n",
    "d"
   ]
  },
  {
   "cell_type": "code",
   "execution_count": 148,
   "id": "57e45305",
   "metadata": {},
   "outputs": [
    {
     "data": {
      "text/plain": [
       "{'red': 10, 'green': 1, 'pink': 100, 'yellow': 30, '파랑': 50, '빨강': 70}"
      ]
     },
     "execution_count": 148,
     "metadata": {},
     "output_type": "execute_result"
    }
   ],
   "source": [
    "yourdict = {'파랑':50, '빨강':70}\n",
    "d.update(yourdict)\n",
    "d"
   ]
  },
  {
   "cell_type": "markdown",
   "id": "fa62beb2",
   "metadata": {},
   "source": [
    "\n"
   ]
  }
 ],
 "metadata": {
  "kernelspec": {
   "display_name": "Python 3 (ipykernel)",
   "language": "python",
   "name": "python3"
  },
  "language_info": {
   "codemirror_mode": {
    "name": "ipython",
    "version": 3
   },
   "file_extension": ".py",
   "mimetype": "text/x-python",
   "name": "python",
   "nbconvert_exporter": "python",
   "pygments_lexer": "ipython3",
   "version": "3.9.7"
  }
 },
 "nbformat": 4,
 "nbformat_minor": 5
}
