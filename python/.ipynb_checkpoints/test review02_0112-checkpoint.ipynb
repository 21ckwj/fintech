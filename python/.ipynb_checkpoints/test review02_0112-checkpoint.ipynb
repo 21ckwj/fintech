{
 "cells": [
  {
   "cell_type": "code",
   "execution_count": 1,
   "id": "7fa0afb1",
   "metadata": {},
   "outputs": [],
   "source": [
    "# If\n",
    "\n",
    "## 임의 정수(n)를 입력받은 후 0부터 n까지의 정수 중 짝수들의 합을 구하시오.\n",
    "\n",
    "# names = {'mary':1520, 'tom':5214, 'park':5478, 'sams':5478}\n",
    "# 이름을 입력받은 후 names dict에 이름이 있으면 값을 출력하고,\n",
    "# 없으면 새로운 값 2000과 함께 dict에 'key':'value'로 추가\n",
    "# setdefault를 사용하지 않음..\n",
    "\n",
    "# 학점 출력.. 점수를 입력받은 후..\n",
    "# 90점 이상이면 \"당신은 'A'학점입니다\"를 출력\n",
    "# 80점 이상이면서 90점 미만이면 \"당신은 'B'학점입니다\"를 출력\n",
    "# 70점 이상이면서 80점 미만이면 \"당신은 'C'학점입니다\"를 출력\n",
    "# 70점 미만이면 \"당신은 D학점입니다\"를 출력"
   ]
  },
  {
   "cell_type": "code",
   "execution_count": 4,
   "id": "cd149f9a",
   "metadata": {},
   "outputs": [
    {
     "name": "stdout",
     "output_type": "stream",
     "text": [
      "임의의 수를 입력하세요10\n"
     ]
    },
    {
     "data": {
      "text/plain": [
       "30"
      ]
     },
     "execution_count": 4,
     "metadata": {},
     "output_type": "execute_result"
    }
   ],
   "source": [
    "num = int(input(\"임의의 수를 입력하세요\"))\n",
    "\n",
    "suma = 0\n",
    "for i in range(num+1) :\n",
    "    if i%2 == 0:\n",
    "        suma +=i\n",
    "suma"
   ]
  },
  {
   "cell_type": "code",
   "execution_count": 6,
   "id": "723855a7",
   "metadata": {},
   "outputs": [
    {
     "name": "stdout",
     "output_type": "stream",
     "text": [
      "이름을 입력하세요:jane\n"
     ]
    },
    {
     "data": {
      "text/plain": [
       "{'mary': 1520, 'tom': 5214, 'park': 5478, 'sams': 5478, 'jane': 2000}"
      ]
     },
     "execution_count": 6,
     "metadata": {},
     "output_type": "execute_result"
    }
   ],
   "source": [
    "names = {'mary':1520, 'tom':5214, 'park':5478, 'sams':5478}\n",
    "\n",
    "nam = input(\"이름을 입력하세요:\")\n",
    "\n",
    "if nam in names:\n",
    "    print(names[nam])\n",
    "else:\n",
    "    names[nam] = 2000\n",
    "\n",
    "names"
   ]
  },
  {
   "cell_type": "code",
   "execution_count": 8,
   "id": "72cc6a37",
   "metadata": {},
   "outputs": [
    {
     "name": "stdout",
     "output_type": "stream",
     "text": [
      "점수를 입력하세요65\n",
      "D학점입니다\n"
     ]
    }
   ],
   "source": [
    "score = int(input('점수를 입력하세요'))\n",
    "\n",
    "if score >= 90:\n",
    "    print(\"A학점입니다\")\n",
    "elif 90> score>= 80:\n",
    "    print(\"B학점입니다\")\n",
    "elif 80> score>=70:\n",
    "    print(\"C학점입니다\")\n",
    "else:\n",
    "    print(\"D학점입니다\")"
   ]
  },
  {
   "cell_type": "code",
   "execution_count": 9,
   "id": "0da6e53a",
   "metadata": {},
   "outputs": [],
   "source": [
    "# For\n",
    "\n",
    "# text = 'python is fun' # text의 character를 모음만 대문자로 전환해서 출력하세요. 참고) 영어모음 = ‘aeiou’\n",
    "\n",
    "# 위의 text의 문자를 index와 함께 출력하시오.\n",
    "\n",
    "# 1~20까지 수에서 짝수만 리스트에 담으세요.\n",
    "# => for문과 while문, list comprehension을 각각 활용\n",
    "\n",
    "# 1~10까지 정수를 출력하는 while문에서 continue와 break를 이용해서 3,4,5,6만 출력하도록 하시오.\n",
    "\n",
    "# x = ['a','b','c','d','e'], y = ['가','나','다','라','마'] 두 리스트의 원소들의 모든 조합을 아래와 같이 출력하시오. =>\n",
    "# [('a','가'), ('a','나'), ('a', '다') ... ('e','라'), ('e', '마')]\n",
    "\n",
    "# computational thinking에서 홀수인덱스만 리스트에 담으세요..\n",
    "\n",
    "# 점수를 5회 입력받은 후 평균을 출력하세요.\n",
    "\n",
    "# text = 'hello world'에서 각 문자를 인덱스와 함께 튜플로 묶어서 출력\n",
    "# (0, 'h'), (1, 'e') ...\n",
    "\n",
    "# 구구단을 출력하시오..."
   ]
  },
  {
   "cell_type": "code",
   "execution_count": 18,
   "id": "4f678e72",
   "metadata": {},
   "outputs": [
    {
     "name": "stdout",
     "output_type": "stream",
     "text": [
      "O I U "
     ]
    }
   ],
   "source": [
    "text = 'python is fun'\n",
    "\n",
    "for c in text:\n",
    "    if c in 'aeiou':\n",
    "        print(c.upper(), end= ' ')"
   ]
  },
  {
   "cell_type": "code",
   "execution_count": 19,
   "id": "f9cad705",
   "metadata": {},
   "outputs": [
    {
     "name": "stdout",
     "output_type": "stream",
     "text": [
      "0 p\n",
      "1 y\n",
      "2 t\n",
      "3 h\n",
      "4 o\n",
      "5 n\n",
      "6  \n",
      "7 i\n",
      "8 s\n",
      "9  \n",
      "10 f\n",
      "11 u\n",
      "12 n\n"
     ]
    }
   ],
   "source": [
    "text = 'python is fun'\n",
    "for i, j in enumerate(text):\n",
    "    print(i,j)"
   ]
  },
  {
   "cell_type": "code",
   "execution_count": 20,
   "id": "3d67fa84",
   "metadata": {},
   "outputs": [
    {
     "data": {
      "text/plain": [
       "[2, 4, 6, 8, 10, 12, 14, 16, 18, 20]"
      ]
     },
     "execution_count": 20,
     "metadata": {},
     "output_type": "execute_result"
    }
   ],
   "source": [
    "even_list= []\n",
    "for i in range(1,21):\n",
    "    if i%2 == 0:\n",
    "        even_list.append(i)\n",
    "even_list\n",
    "    "
   ]
  },
  {
   "cell_type": "code",
   "execution_count": 21,
   "id": "1cabd8e8",
   "metadata": {},
   "outputs": [
    {
     "data": {
      "text/plain": [
       "[2, 4, 6, 8, 10, 12, 14, 16, 18, 20]"
      ]
     },
     "execution_count": 21,
     "metadata": {},
     "output_type": "execute_result"
    }
   ],
   "source": [
    "even_list = []\n",
    "count = 1\n",
    "while count < 21 :\n",
    "    if count%2 == 0 :\n",
    "        even_list.append(count)\n",
    "    count += 1\n",
    "even_list"
   ]
  },
  {
   "cell_type": "code",
   "execution_count": 22,
   "id": "b63f7f3e",
   "metadata": {},
   "outputs": [
    {
     "data": {
      "text/plain": [
       "[2, 4, 6, 8, 10, 12, 14, 16, 18, 20]"
      ]
     },
     "execution_count": 22,
     "metadata": {},
     "output_type": "execute_result"
    }
   ],
   "source": [
    "[i for i in range(1,21) if i%2==0]"
   ]
  },
  {
   "cell_type": "code",
   "execution_count": 30,
   "id": "fb023cca",
   "metadata": {},
   "outputs": [
    {
     "ename": "IndentationError",
     "evalue": "expected an indented block (Temp/ipykernel_4568/549285342.py, line 13)",
     "output_type": "error",
     "traceback": [
      "\u001b[1;36m  File \u001b[1;32m\"C:\\Users\\bitcamp\\AppData\\Local\\Temp/ipykernel_4568/549285342.py\"\u001b[1;36m, line \u001b[1;32m13\u001b[0m\n\u001b[1;33m    print(n)\u001b[0m\n\u001b[1;37m    ^\u001b[0m\n\u001b[1;31mIndentationError\u001b[0m\u001b[1;31m:\u001b[0m expected an indented block\n"
     ]
    }
   ],
   "source": [
    "# count= 1\n",
    "# while count< 10:\n",
    "#     if count < 3:\n",
    "#         continue\n",
    "#     if count > 7:\n",
    "#         count +=1\n",
    "\n",
    "\n",
    "# 내꺼\n",
    "# n=1\n",
    "# while n<=10:\n",
    "#     if n<=2:\n",
    "#         continue\n",
    "#     if n<=6:\n",
    "#     print(n)\n",
    "#     if n>6:\n",
    "#     break\n",
    "#     n+=1\n"
   ]
  },
  {
   "cell_type": "code",
   "execution_count": 29,
   "id": "5c528b22",
   "metadata": {},
   "outputs": [
    {
     "data": {
      "text/plain": [
       "[('a', '가'), ('b', '나'), ('c', '다'), ('d', '라'), ('e', '마')]"
      ]
     },
     "execution_count": 29,
     "metadata": {},
     "output_type": "execute_result"
    }
   ],
   "source": [
    "# x = ['a','b','c','d','e'], y = ['가','나','다','라','마'] 두 리스트의 원소들의 모든 조합을 아래와 같이 출력하시오. =>\n",
    "# [('a','가'), ('a','나'), ('a', '다') ... ('e','라'), ('e', '마')]\n",
    "\n",
    "x = ['a','b','c','d','e']\n",
    "y = ['가','나','다','라','마']\n",
    "L= []\n",
    "\n",
    "# list= []\n",
    "# for i in x:\n",
    "#     for j in y:\n",
    "#          list.append((i,j))\n",
    "# print(list)\n",
    "\n",
    "\n",
    "for i in range(len(x)):\n",
    "    L.append((x[i],y[i]))\n",
    "L"
   ]
  },
  {
   "cell_type": "code",
   "execution_count": 32,
   "id": "26712277",
   "metadata": {},
   "outputs": [
    {
     "data": {
      "text/plain": [
       "['o', 'p', 't', 't', 'o', 'a', ' ', 'h', 'n', 'i', 'g']"
      ]
     },
     "execution_count": 32,
     "metadata": {},
     "output_type": "execute_result"
    }
   ],
   "source": [
    "# computational thinking에서 홀수인덱스만 리스트에 담으세요\n",
    "\n",
    "text = \"computational thinking\"\n",
    "L= []\n",
    "\n",
    "for i in range(1, len(text), 2):\n",
    "    L.append(text[i])\n",
    "L"
   ]
  },
  {
   "cell_type": "code",
   "execution_count": 33,
   "id": "787e9cf3",
   "metadata": {},
   "outputs": [
    {
     "ename": "SyntaxError",
     "evalue": "invalid syntax (Temp/ipykernel_4568/2153994187.py, line 13)",
     "output_type": "error",
     "traceback": [
      "\u001b[1;36m  File \u001b[1;32m\"C:\\Users\\bitcamp\\AppData\\Local\\Temp/ipykernel_4568/2153994187.py\"\u001b[1;36m, line \u001b[1;32m13\u001b[0m\n\u001b[1;33m    for n in range(5)\u001b[0m\n\u001b[1;37m                     ^\u001b[0m\n\u001b[1;31mSyntaxError\u001b[0m\u001b[1;31m:\u001b[0m invalid syntax\n"
     ]
    }
   ],
   "source": [
    "# 점수를 5회 입력받은 후 평균을 출력하세요.\n",
    "\n",
    "# count = 0\n",
    "# score_sum = 0\n",
    "# while count < 5:\n",
    "#     score = int(input('점수를 입력하세요'))\n",
    "#     score_sum += score\n",
    "#     count += 1\n",
    "\n",
    "# score_sum/5\n",
    "\n",
    "list = []\n",
    "for n in range(5)\n",
    "    score = int(input(\"점수를 입력하세요:\"))\n",
    "    list.append(score)\n",
    "\n",
    "avg = sum(list)/5"
   ]
  },
  {
   "cell_type": "code",
   "execution_count": 34,
   "id": "2f82d254",
   "metadata": {},
   "outputs": [
    {
     "name": "stdout",
     "output_type": "stream",
     "text": [
      "0 h\n",
      "1 e\n",
      "2 l\n",
      "3 l\n",
      "4 o\n",
      "5  \n",
      "6 w\n",
      "7 o\n",
      "8 r\n",
      "9 l\n",
      "10 d\n"
     ]
    }
   ],
   "source": [
    "text = \"hello world\"\n",
    "for i,j in enumerate(text):\n",
    "    print(i,j)"
   ]
  },
  {
   "cell_type": "code",
   "execution_count": null,
   "id": "416150c8",
   "metadata": {},
   "outputs": [],
   "source": []
  }
 ],
 "metadata": {
  "kernelspec": {
   "display_name": "Python 3 (ipykernel)",
   "language": "python",
   "name": "python3"
  },
  "language_info": {
   "codemirror_mode": {
    "name": "ipython",
    "version": 3
   },
   "file_extension": ".py",
   "mimetype": "text/x-python",
   "name": "python",
   "nbconvert_exporter": "python",
   "pygments_lexer": "ipython3",
   "version": "3.9.7"
  }
 },
 "nbformat": 4,
 "nbformat_minor": 5
}
