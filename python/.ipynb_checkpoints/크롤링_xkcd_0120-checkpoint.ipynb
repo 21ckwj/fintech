{
 "cells": [
  {
   "cell_type": "code",
   "execution_count": 1,
   "id": "f64b13f2",
   "metadata": {},
   "outputs": [],
   "source": [
    "import requests\n",
    "from bs4 import BeautifulSoup"
   ]
  },
  {
   "cell_type": "code",
   "execution_count": 2,
   "id": "fa141d44",
   "metadata": {},
   "outputs": [],
   "source": [
    "url = \"https://xkcd.com/\""
   ]
  },
  {
   "cell_type": "code",
   "execution_count": 3,
   "id": "97d12fa6",
   "metadata": {},
   "outputs": [],
   "source": [
    "res = requests.get(url)\n",
    "soup = BeautifulSoup(res.text, 'html.parser')"
   ]
  },
  {
   "cell_type": "code",
   "execution_count": 4,
   "id": "70ea52d1",
   "metadata": {},
   "outputs": [],
   "source": [
    "path = \"#comic > img\""
   ]
  },
  {
   "cell_type": "code",
   "execution_count": 5,
   "id": "fab30424",
   "metadata": {},
   "outputs": [
    {
     "data": {
      "text/plain": [
       "[<img alt=\"Captain Picard Tea Order\" src=\"//imgs.xkcd.com/comics/captain_picard_tea_order.png\" srcset=\"//imgs.xkcd.com/comics/captain_picard_tea_order_2x.png 2x\" style=\"image-orientation:none\" title=\"We can ask the Earl for his order once he's fully extruded from the dispenser.\"/>]"
      ]
     },
     "execution_count": 5,
     "metadata": {},
     "output_type": "execute_result"
    }
   ],
   "source": [
    "tag = soup.select(path)\n",
    "tag"
   ]
  },
  {
   "cell_type": "code",
   "execution_count": 8,
   "id": "fc9a92bf",
   "metadata": {},
   "outputs": [
    {
     "data": {
      "text/plain": [
       "'http://imgs.xkcd.com/comics/captain_picard_tea_order.png'"
      ]
     },
     "execution_count": 8,
     "metadata": {},
     "output_type": "execute_result"
    }
   ],
   "source": [
    "img_url = tag[0]['src']\n",
    "img_url = 'http:' + img_url\n",
    "img_url"
   ]
  },
  {
   "cell_type": "code",
   "execution_count": 22,
   "id": "d14f55fa",
   "metadata": {},
   "outputs": [
    {
     "data": {
      "text/plain": [
       "('xkcd_1.jpg', <http.client.HTTPMessage at 0x289715de130>)"
      ]
     },
     "execution_count": 22,
     "metadata": {},
     "output_type": "execute_result"
    }
   ],
   "source": [
    "import urllib\n",
    "urllib.request.urlretrieve(img_url, 'xkcd_1.jpg')"
   ]
  },
  {
   "cell_type": "code",
   "execution_count": 23,
   "id": "25656643",
   "metadata": {},
   "outputs": [
    {
     "data": {
      "text/plain": [
       "[' imdb크롤링_0120.ipynb',\n",
       " '.ipynb_checkpoints',\n",
       " 'class_code.ipynb',\n",
       " 'Crawling1_0119.ipynb',\n",
       " 'Crawling_xkcd_0120.ipynb',\n",
       " 'memo.txt',\n",
       " 'news.txt',\n",
       " 'practice.txt',\n",
       " 'python quiz_0113.ipynb',\n",
       " 'python_data_files',\n",
       " 'python_review_file,function_0118.ipynb',\n",
       " 'python_review_set~_0117.ipynb',\n",
       " 'python_review_string~_0114.ipynb',\n",
       " 'Regular Expression.ipynb',\n",
       " 'Untitled.ipynb',\n",
       " 'xkcd_1.jpg']"
      ]
     },
     "execution_count": 23,
     "metadata": {},
     "output_type": "execute_result"
    }
   ],
   "source": [
    "import os\n",
    "os.listdir()"
   ]
  },
  {
   "cell_type": "code",
   "execution_count": null,
   "id": "2267246e",
   "metadata": {},
   "outputs": [],
   "source": []
  },
  {
   "cell_type": "code",
   "execution_count": 24,
   "id": "d9145dc5",
   "metadata": {},
   "outputs": [],
   "source": [
    "# xkcd.com에서 2560~ 2569 번 이미지 크롤링 하기"
   ]
  },
  {
   "cell_type": "code",
   "execution_count": 31,
   "id": "355ff34b",
   "metadata": {},
   "outputs": [
    {
     "data": {
      "text/plain": [
       "[' imdb크롤링_0120.ipynb',\n",
       " '.ipynb_checkpoints',\n",
       " 'class_code.ipynb',\n",
       " 'Crawling1_0119.ipynb',\n",
       " 'Crawling_xkcd_0120.ipynb',\n",
       " 'memo.txt',\n",
       " 'news.txt',\n",
       " 'practice.txt',\n",
       " 'python quiz_0113.ipynb',\n",
       " 'python_data_files',\n",
       " 'python_review_file,function_0118.ipynb',\n",
       " 'python_review_set~_0117.ipynb',\n",
       " 'python_review_string~_0114.ipynb',\n",
       " 'Regular Expression.ipynb',\n",
       " 'Untitled.ipynb',\n",
       " 'xkcd_1.jpg',\n",
       " 'xkcd_2560.jpg',\n",
       " 'xkcd_2561.jpg',\n",
       " 'xkcd_2562.jpg',\n",
       " 'xkcd_2563.jpg',\n",
       " 'xkcd_2564.jpg',\n",
       " 'xkcd_2565.jpg',\n",
       " 'xkcd_2566.jpg',\n",
       " 'xkcd_2567.jpg',\n",
       " 'xkcd_2568.jpg',\n",
       " 'xkcd_2569.jpg',\n",
       " 'xkcd_2570.jpg']"
      ]
     },
     "execution_count": 31,
     "metadata": {},
     "output_type": "execute_result"
    }
   ],
   "source": [
    "for i in range(2560,2570):\n",
    "    url = 'https://xkcd.com/{}/'.format(i)\n",
    "    \n",
    "    import requests\n",
    "    from bs4 import BeautifulSoup\n",
    "    \n",
    "    res = requests.get(url)\n",
    "    soup = BeautifulSoup(res.text, 'html.parser')\n",
    "    \n",
    "    path = \"#comic > img\"\n",
    "    tag = soup.select(path)\n",
    "    \n",
    "    img_url = tag[0]['src']\n",
    "    img_url = 'http:' + img_url\n",
    "    \n",
    "    import urllib\n",
    "    urllib.request.urlretrieve(img_url, 'xkcd_{}.jpg'.format(i))\n",
    "    \n",
    "import os\n",
    "os.listdir()\n",
    "    "
   ]
  },
  {
   "cell_type": "code",
   "execution_count": null,
   "id": "d5ea4614",
   "metadata": {},
   "outputs": [],
   "source": []
  }
 ],
 "metadata": {
  "kernelspec": {
   "display_name": "Python 3 (ipykernel)",
   "language": "python",
   "name": "python3"
  },
  "language_info": {
   "codemirror_mode": {
    "name": "ipython",
    "version": 3
   },
   "file_extension": ".py",
   "mimetype": "text/x-python",
   "name": "python",
   "nbconvert_exporter": "python",
   "pygments_lexer": "ipython3",
   "version": "3.9.7"
  }
 },
 "nbformat": 4,
 "nbformat_minor": 5
}
