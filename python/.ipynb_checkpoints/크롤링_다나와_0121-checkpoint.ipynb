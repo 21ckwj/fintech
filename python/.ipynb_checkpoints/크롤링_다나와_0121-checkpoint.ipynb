{
 "cells": [
  {
   "cell_type": "markdown",
   "id": "e29fee94",
   "metadata": {},
   "source": [
    "# 다나와 사이트 크롤링    \n",
    "   \n",
    "다나와 사이트에 로그인 하여 관심상품목록 상품명, 가격을 출력하시오"
   ]
  },
  {
   "cell_type": "code",
   "execution_count": 186,
   "id": "5676e225",
   "metadata": {},
   "outputs": [],
   "source": [
    "import requests\n",
    "from bs4 import BeautifulSoup\n",
    "\n",
    "from selenium import webdriver\n",
    "from selenium.webdriver.common.keys import Keys"
   ]
  },
  {
   "cell_type": "code",
   "execution_count": 187,
   "id": "05b36584",
   "metadata": {},
   "outputs": [],
   "source": [
    "driver = webdriver.Chrome()"
   ]
  },
  {
   "cell_type": "code",
   "execution_count": 188,
   "id": "3d5807e2",
   "metadata": {},
   "outputs": [],
   "source": [
    "url = 'http://www.danawa.com/'\n",
    "#'http://www.danawa.com/'"
   ]
  },
  {
   "cell_type": "code",
   "execution_count": 189,
   "id": "13d52b09",
   "metadata": {},
   "outputs": [],
   "source": [
    "driver.get(url)"
   ]
  },
  {
   "cell_type": "code",
   "execution_count": 190,
   "id": "ced750f8",
   "metadata": {},
   "outputs": [
    {
     "name": "stderr",
     "output_type": "stream",
     "text": [
      "C:\\Users\\bitcamp\\AppData\\Local\\Temp/ipykernel_11664/3902782313.py:1: DeprecationWarning: find_element_by_* commands are deprecated. Please use find_element() instead\n",
      "  driver.find_element_by_css_selector('#danawa_menubar > div.main-header__user > div:nth-child(5) > a > span').click()  #로그인\n"
     ]
    }
   ],
   "source": [
    "driver.find_element_by_css_selector('#danawa_menubar > div.main-header__user > div:nth-child(5) > a > span').click()  #로그인 \n",
    "\n",
    "# copy selector 가 안되면 copy xpath 시도"
   ]
  },
  {
   "cell_type": "code",
   "execution_count": null,
   "id": "2f80efb1",
   "metadata": {},
   "outputs": [],
   "source": []
  },
  {
   "cell_type": "code",
   "execution_count": 191,
   "id": "37a44fcd",
   "metadata": {},
   "outputs": [
    {
     "name": "stderr",
     "output_type": "stream",
     "text": [
      "C:\\Users\\bitcamp\\AppData\\Local\\Temp/ipykernel_11664/4021074578.py:1: DeprecationWarning: find_element_by_* commands are deprecated. Please use find_element() instead\n",
      "  elem = driver.find_element_by_id('danawa-member-login-input-id') # 아이디 for=\"danawa-member-login-input-id\" 복사할 수 있다\n"
     ]
    }
   ],
   "source": [
    "elem = driver.find_element_by_id('danawa-member-login-input-id') # 아이디 for=\"danawa-member-login-input-id\" 복사할 수 있다\n",
    "##danawa-member-login-loginIdInputArea > span > label"
   ]
  },
  {
   "cell_type": "code",
   "execution_count": 192,
   "id": "3e2608db",
   "metadata": {},
   "outputs": [],
   "source": [
    "elem.send_keys('kkkwwjj')"
   ]
  },
  {
   "cell_type": "code",
   "execution_count": 193,
   "id": "441b38a2",
   "metadata": {},
   "outputs": [],
   "source": [
    "# elem.send_keys(Keys.RETURN)"
   ]
  },
  {
   "cell_type": "code",
   "execution_count": 194,
   "id": "04c06348",
   "metadata": {},
   "outputs": [
    {
     "name": "stderr",
     "output_type": "stream",
     "text": [
      "C:\\Users\\bitcamp\\AppData\\Local\\Temp/ipykernel_11664/3507235143.py:1: DeprecationWarning: find_element_by_* commands are deprecated. Please use find_element() instead\n",
      "  elem = driver.find_element_by_id('danawa-member-login-input-pwd')  # 비밀번호 입력 danawa-member-login-input-pwd\n"
     ]
    }
   ],
   "source": [
    "elem = driver.find_element_by_id('danawa-member-login-input-pwd')  # 비밀번호 입력 danawa-member-login-input-pwd"
   ]
  },
  {
   "cell_type": "code",
   "execution_count": 195,
   "id": "6d7b48b3",
   "metadata": {},
   "outputs": [],
   "source": [
    "elem.send_keys('kwj1234!')"
   ]
  },
  {
   "cell_type": "code",
   "execution_count": 196,
   "id": "2b5a6e90",
   "metadata": {},
   "outputs": [],
   "source": [
    "elem.send_keys(Keys.RETURN)"
   ]
  },
  {
   "cell_type": "code",
   "execution_count": 197,
   "id": "933fae84",
   "metadata": {},
   "outputs": [],
   "source": [
    "# # 로그인 클릭\n",
    "# driver.find_element_by_id('danawa-member-login-loginButton').click()\n",
    "# # danawa-member-login-loginButton"
   ]
  },
  {
   "cell_type": "code",
   "execution_count": 198,
   "id": "00603658",
   "metadata": {},
   "outputs": [
    {
     "name": "stderr",
     "output_type": "stream",
     "text": [
      "C:\\Users\\bitcamp\\AppData\\Local\\Temp/ipykernel_11664/3184930780.py:1: DeprecationWarning: find_element_by_* commands are deprecated. Please use find_element() instead\n",
      "  driver.find_element_by_css_selector('#danawa_menubar > div.main-header__user > div:nth-child(4) > a > span.txt').click()\n"
     ]
    }
   ],
   "source": [
    "driver.find_element_by_css_selector('#danawa_menubar > div.main-header__user > div:nth-child(4) > a > span.txt').click()"
   ]
  },
  {
   "cell_type": "code",
   "execution_count": null,
   "id": "edb95a33",
   "metadata": {
    "scrolled": true
   },
   "outputs": [],
   "source": []
  },
  {
   "cell_type": "code",
   "execution_count": 179,
   "id": "a0603abb",
   "metadata": {},
   "outputs": [],
   "source": [
    "html = driver.page_source"
   ]
  },
  {
   "cell_type": "code",
   "execution_count": 199,
   "id": "6acf8f47",
   "metadata": {},
   "outputs": [],
   "source": [
    "soup = BeautifulSoup(html,'html.parser')"
   ]
  },
  {
   "cell_type": "code",
   "execution_count": 211,
   "id": "6c22a940",
   "metadata": {},
   "outputs": [
    {
     "data": {
      "text/plain": [
       "2"
      ]
     },
     "execution_count": 211,
     "metadata": {},
     "output_type": "execute_result"
    }
   ],
   "source": [
    "len(soup.select(path))"
   ]
  },
  {
   "cell_type": "code",
   "execution_count": 202,
   "id": "a5197268",
   "metadata": {},
   "outputs": [
    {
     "data": {
      "text/plain": [
       "'나이키 에어포스 1 LV8 유틸리티 CW7581-101 해외구매'"
      ]
     },
     "execution_count": 202,
     "metadata": {},
     "output_type": "execute_result"
    }
   ],
   "source": [
    "# 상품명\n",
    "\n",
    "path = \"#wishProductListArea > table > tbody > tr > td.info > div.tit\"\n",
    "soup.select(path)[0].text"
   ]
  },
  {
   "cell_type": "code",
   "execution_count": 205,
   "id": "1b3d8952",
   "metadata": {},
   "outputs": [
    {
     "data": {
      "text/plain": [
       "'64,900'"
      ]
     },
     "execution_count": 205,
     "metadata": {},
     "output_type": "execute_result"
    }
   ],
   "source": [
    "# 가격\n",
    "\n",
    "path = '#wishProductListArea > table > tbody > tr > td.lowest > dl > div.cost > span > em'\n",
    "soup.select(path)[0].text"
   ]
  },
  {
   "cell_type": "code",
   "execution_count": 218,
   "id": "92606925",
   "metadata": {},
   "outputs": [
    {
     "data": {
      "text/plain": [
       "'106,000'"
      ]
     },
     "execution_count": 218,
     "metadata": {},
     "output_type": "execute_result"
    }
   ],
   "source": [
    "path = '#wishProductListArea > table > tbody > tr > td.lowest > dl > div.cost > span > em'\n",
    "soup.select(path)[1].text"
   ]
  },
  {
   "cell_type": "code",
   "execution_count": 219,
   "id": "4a035ae8",
   "metadata": {},
   "outputs": [
    {
     "name": "stdout",
     "output_type": "stream",
     "text": [
      "상품명 : 나이키 에어포스 1 LV8 유틸리티 CW7581-101 해외구매\n",
      "가격:  64,900\n",
      "상품명 : 나이키 에어포스 1 GTX DM6435-222 해외구매\n",
      "가격:  106,000\n"
     ]
    }
   ],
   "source": [
    "# 출력 \n",
    "for i in range(len(soup.select(path))):\n",
    "    path = \"#wishProductListArea > table > tbody > tr > td.info > div.tit\"\n",
    "    print(\"상품명 :\", soup.select(path)[i].text)\n",
    "    \n",
    "    path = '#wishProductListArea > table > tbody > tr > td.lowest > dl > div.cost > span > em'\n",
    "    print(\"가격: \", soup.select(path)[i].text)\n"
   ]
  },
  {
   "cell_type": "code",
   "execution_count": null,
   "id": "eea08ceb",
   "metadata": {},
   "outputs": [],
   "source": []
  }
 ],
 "metadata": {
  "kernelspec": {
   "display_name": "Python 3 (ipykernel)",
   "language": "python",
   "name": "python3"
  },
  "language_info": {
   "codemirror_mode": {
    "name": "ipython",
    "version": 3
   },
   "file_extension": ".py",
   "mimetype": "text/x-python",
   "name": "python",
   "nbconvert_exporter": "python",
   "pygments_lexer": "ipython3",
   "version": "3.9.7"
  }
 },
 "nbformat": 4,
 "nbformat_minor": 5
}
