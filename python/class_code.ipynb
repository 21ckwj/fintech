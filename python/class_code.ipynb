{
 "cells": [
  {
   "cell_type": "markdown",
   "id": "f6194a3d",
   "metadata": {},
   "source": [
    "### class     \n",
    "___\n",
    "#### 자주 함께 사용하는 함수들과 변수들을 하나의 덩어리로 묶어서 사용하자\n",
    "#### class - 함수와 변수들의 덩어리-- 원본보존\n",
    "#### class 사용 - class를 복사해서 사용 -> class를 복사한 것\n",
    "#### class를 복사 -> instance를 생성한다. 객체를 생성\n",
    "\n",
    "#### class 내에 있는 함수 - 메소드(method)\n",
    "#### class 내에 있는 변수 - 속성(attribute)\n",
    "\n",
    "#### class : 붕어빵 기계, instance: 붕어빵"
   ]
  },
  {
   "cell_type": "code",
   "execution_count": 17,
   "id": "d2f99c83",
   "metadata": {},
   "outputs": [],
   "source": [
    "# 명함을 찍는 코드\n",
    "def BusinessCard():\n",
    "    print('='*20)\n",
    "    print('Name : {}'.format('yuna'))\n",
    "    print('Email : {}'.format('yuna@hanmail.net'))\n",
    "    print('Address : {}'.format('Seoul'))\n",
    "    print('='*20)"
   ]
  },
  {
   "cell_type": "code",
   "execution_count": 18,
   "id": "d6f79a9d",
   "metadata": {},
   "outputs": [
    {
     "name": "stdout",
     "output_type": "stream",
     "text": [
      "====================\n",
      "Name : yuna\n",
      "Email : yuna@hanmail.net\n",
      "Address : Seoul\n",
      "====================\n"
     ]
    }
   ],
   "source": [
    "BusinessCard()"
   ]
  },
  {
   "cell_type": "code",
   "execution_count": 51,
   "id": "f9e9b8d6",
   "metadata": {},
   "outputs": [],
   "source": [
    "#매개변수\n",
    "\n",
    "def BusinessCard(name, email, address):\n",
    "    print('='*20)\n",
    "    print('Name : {}'.format(name))\n",
    "    print('Email : {}'.format(email))\n",
    "    print('Address : {}'.format(address))\n",
    "    print('='*20)"
   ]
  },
  {
   "cell_type": "code",
   "execution_count": 52,
   "id": "905eb916",
   "metadata": {},
   "outputs": [
    {
     "name": "stdout",
     "output_type": "stream",
     "text": [
      "====================\n",
      "Name : yuna\n",
      "Email : yuna@hanmail.net\n",
      "Address : Seoul\n",
      "====================\n"
     ]
    }
   ],
   "source": [
    "name = 'yuna'\n",
    "email = \"yuna@hanmail.net\"\n",
    "address = \"Seoul\"\n",
    "\n",
    "BusinessCard(name, email, address)"
   ]
  },
  {
   "cell_type": "code",
   "execution_count": 53,
   "id": "a0d953e0",
   "metadata": {},
   "outputs": [
    {
     "name": "stdout",
     "output_type": "stream",
     "text": [
      "====================\n",
      "Name : park\n",
      "Email : park@hanmail.net\n",
      "Address : Seoul\n",
      "====================\n"
     ]
    }
   ],
   "source": [
    "name = \"park\"\n",
    "email = \"park@hanmail.net\"\n",
    "Address = \"Seoul\"\n",
    "\n",
    "BusinessCard(name, email, Address)"
   ]
  },
  {
   "cell_type": "code",
   "execution_count": 54,
   "id": "a7a1d584",
   "metadata": {},
   "outputs": [],
   "source": [
    "# class - 함께 사용하는 변수와 함수들을 묶자\n",
    "# 메소드가 self라는 매개변수를 받는다 - 인스턴스 메소드\n",
    "# 변수도 앞에 self를 붙인다 - 인스턴스 변수\n",
    "\n",
    "# self - 인스턴스의 주소값"
   ]
  },
  {
   "cell_type": "code",
   "execution_count": 61,
   "id": "8a706520",
   "metadata": {},
   "outputs": [],
   "source": [
    "class BusinessCard:\n",
    "    \n",
    "    def set_info(self,name, email,address):\n",
    "        self.name = name         # self.변수 - 인스턴스 변수 (특정 인스턴스 내에서만 공유되는 변수)\n",
    "        self.email = email       \n",
    "        self.address = address\n",
    "\n",
    "    def BusinessCard(self):\n",
    "        print('='*20)\n",
    "        print('Name : {}'.format(self.name))\n",
    "        print('Email : {}'.format(self.email))\n",
    "        print('Address : {}'.format(self.address))\n",
    "        print('='*20)\n",
    "    "
   ]
  },
  {
   "cell_type": "code",
   "execution_count": 62,
   "id": "0edf108f",
   "metadata": {},
   "outputs": [],
   "source": [
    "bc = BusinessCard()"
   ]
  },
  {
   "cell_type": "code",
   "execution_count": 63,
   "id": "4cb3db1a",
   "metadata": {},
   "outputs": [],
   "source": [
    "# 인스턴스는 class를 복사한 것 - class 내의 모든 메소드, 속성들을 복사해 옴\n",
    "# 인스턴스에서 복사해 온 class의 메소드나 변수를 사용할 때 '.' => 접근자\n",
    "bc.set_info('yuna', 'yuna@hanmail.net', 'seoul')"
   ]
  },
  {
   "cell_type": "code",
   "execution_count": 64,
   "id": "6734b8d0",
   "metadata": {},
   "outputs": [
    {
     "name": "stdout",
     "output_type": "stream",
     "text": [
      "====================\n",
      "Name : yuna\n",
      "Email : yuna@hanmail.net\n",
      "Address : seoul\n",
      "====================\n"
     ]
    }
   ],
   "source": [
    "bc.BusinessCard()"
   ]
  },
  {
   "cell_type": "code",
   "execution_count": 65,
   "id": "8f967b4f",
   "metadata": {},
   "outputs": [
    {
     "name": "stdout",
     "output_type": "stream",
     "text": [
      "====================\n",
      "Name : park\n",
      "Email : park@hanmail.net\n",
      "Address : Seoul\n",
      "====================\n"
     ]
    }
   ],
   "source": [
    "bc1 = BusinessCard()\n",
    "bc1.set_info('park','park@hanmail.net','Seoul')\n",
    "bc1.BusinessCard()\n"
   ]
  },
  {
   "cell_type": "code",
   "execution_count": 66,
   "id": "13ffa7fb",
   "metadata": {},
   "outputs": [
    {
     "name": "stdout",
     "output_type": "stream",
     "text": [
      "====================\n"
     ]
    },
    {
     "ename": "AttributeError",
     "evalue": "'BusinessCard' object has no attribute 'name'",
     "output_type": "error",
     "traceback": [
      "\u001b[1;31m---------------------------------------------------------------------------\u001b[0m",
      "\u001b[1;31mAttributeError\u001b[0m                            Traceback (most recent call last)",
      "\u001b[1;32m~\\AppData\\Local\\Temp/ipykernel_2012/2008738796.py\u001b[0m in \u001b[0;36m<module>\u001b[1;34m\u001b[0m\n\u001b[0;32m      1\u001b[0m \u001b[0mbc2\u001b[0m \u001b[1;33m=\u001b[0m \u001b[0mBusinessCard\u001b[0m\u001b[1;33m(\u001b[0m\u001b[1;33m)\u001b[0m\u001b[1;33m\u001b[0m\u001b[1;33m\u001b[0m\u001b[0m\n\u001b[1;32m----> 2\u001b[1;33m \u001b[0mbc2\u001b[0m\u001b[1;33m.\u001b[0m\u001b[0mBusinessCard\u001b[0m\u001b[1;33m(\u001b[0m\u001b[1;33m)\u001b[0m\u001b[1;33m\u001b[0m\u001b[1;33m\u001b[0m\u001b[0m\n\u001b[0m",
      "\u001b[1;32m~\\AppData\\Local\\Temp/ipykernel_2012/868810003.py\u001b[0m in \u001b[0;36mBusinessCard\u001b[1;34m(self)\u001b[0m\n\u001b[0;32m      8\u001b[0m     \u001b[1;32mdef\u001b[0m \u001b[0mBusinessCard\u001b[0m\u001b[1;33m(\u001b[0m\u001b[0mself\u001b[0m\u001b[1;33m)\u001b[0m\u001b[1;33m:\u001b[0m\u001b[1;33m\u001b[0m\u001b[1;33m\u001b[0m\u001b[0m\n\u001b[0;32m      9\u001b[0m         \u001b[0mprint\u001b[0m\u001b[1;33m(\u001b[0m\u001b[1;34m'='\u001b[0m\u001b[1;33m*\u001b[0m\u001b[1;36m20\u001b[0m\u001b[1;33m)\u001b[0m\u001b[1;33m\u001b[0m\u001b[1;33m\u001b[0m\u001b[0m\n\u001b[1;32m---> 10\u001b[1;33m         \u001b[0mprint\u001b[0m\u001b[1;33m(\u001b[0m\u001b[1;34m'Name : {}'\u001b[0m\u001b[1;33m.\u001b[0m\u001b[0mformat\u001b[0m\u001b[1;33m(\u001b[0m\u001b[0mself\u001b[0m\u001b[1;33m.\u001b[0m\u001b[0mname\u001b[0m\u001b[1;33m)\u001b[0m\u001b[1;33m)\u001b[0m\u001b[1;33m\u001b[0m\u001b[1;33m\u001b[0m\u001b[0m\n\u001b[0m\u001b[0;32m     11\u001b[0m         \u001b[0mprint\u001b[0m\u001b[1;33m(\u001b[0m\u001b[1;34m'Email : {}'\u001b[0m\u001b[1;33m.\u001b[0m\u001b[0mformat\u001b[0m\u001b[1;33m(\u001b[0m\u001b[0mself\u001b[0m\u001b[1;33m.\u001b[0m\u001b[0memail\u001b[0m\u001b[1;33m)\u001b[0m\u001b[1;33m)\u001b[0m\u001b[1;33m\u001b[0m\u001b[1;33m\u001b[0m\u001b[0m\n\u001b[0;32m     12\u001b[0m         \u001b[0mprint\u001b[0m\u001b[1;33m(\u001b[0m\u001b[1;34m'Address : {}'\u001b[0m\u001b[1;33m.\u001b[0m\u001b[0mformat\u001b[0m\u001b[1;33m(\u001b[0m\u001b[0mself\u001b[0m\u001b[1;33m.\u001b[0m\u001b[0maddress\u001b[0m\u001b[1;33m)\u001b[0m\u001b[1;33m)\u001b[0m\u001b[1;33m\u001b[0m\u001b[1;33m\u001b[0m\u001b[0m\n",
      "\u001b[1;31mAttributeError\u001b[0m: 'BusinessCard' object has no attribute 'name'"
     ]
    }
   ],
   "source": [
    "bc2 = BusinessCard()\n",
    "bc2.BusinessCard()  #class 마다 "
   ]
  },
  {
   "cell_type": "code",
   "execution_count": 67,
   "id": "c9a90f25",
   "metadata": {},
   "outputs": [
    {
     "name": "stdout",
     "output_type": "stream",
     "text": [
      "====================\n",
      "Name : kim\n",
      "Email : kim@hanmail.net\n",
      "Address : pusan\n",
      "====================\n"
     ]
    }
   ],
   "source": [
    "bc2 = BusinessCard()\n",
    "bc2.set_info('kim','kim@hanmail.net','pusan')\n",
    "bc2.BusinessCard()"
   ]
  },
  {
   "cell_type": "code",
   "execution_count": 68,
   "id": "f34b4e88",
   "metadata": {},
   "outputs": [],
   "source": [
    "# class를 사용하기 위해서 필요한 값들은 \n",
    "#클래스를 복사하는 순간(인스턴스 생성)에 강제로 입력하도록 만들자\n",
    "\n",
    "# => 클래스가 복사되는 순간 set_info()함수가 강제로 실행되도록..\n",
    "# => 생성자 함수: 클래스가 복사되는 순간 강제로 실행되는 함수\n",
    "\n",
    "class BusinessCard:\n",
    "    \n",
    "    def __init__(self,name, email,address):\n",
    "        self.name = name         # self.변수 - 인스턴스 변수 (특정 인스턴스 내에서만 공유되는 변수)\n",
    "        self.email = email       \n",
    "        self.address = address\n",
    "\n",
    "    def BusinessCard(self):\n",
    "        print('='*20)\n",
    "        print('Name : {}'.format(self.name))\n",
    "        print('Email : {}'.format(self.email))\n",
    "        print('Address : {}'.format(self.address))\n",
    "        print('='*20)\n",
    "    "
   ]
  },
  {
   "cell_type": "code",
   "execution_count": 69,
   "id": "5b6a0c6c",
   "metadata": {
    "collapsed": true
   },
   "outputs": [
    {
     "ename": "TypeError",
     "evalue": "__init__() missing 3 required positional arguments: 'name', 'email', and 'address'",
     "output_type": "error",
     "traceback": [
      "\u001b[1;31m---------------------------------------------------------------------------\u001b[0m",
      "\u001b[1;31mTypeError\u001b[0m                                 Traceback (most recent call last)",
      "\u001b[1;32m~\\AppData\\Local\\Temp/ipykernel_2012/372112507.py\u001b[0m in \u001b[0;36m<module>\u001b[1;34m\u001b[0m\n\u001b[0;32m      1\u001b[0m \u001b[1;31m#생성자 함수\u001b[0m\u001b[1;33m\u001b[0m\u001b[1;33m\u001b[0m\u001b[0m\n\u001b[0;32m      2\u001b[0m \u001b[1;31m#instance 생성 순간 __init__ 함수 실행 => __init__함수가 필요로 하는 매개변수를 넘겨줘야 에러가 안 남\u001b[0m\u001b[1;33m\u001b[0m\u001b[1;33m\u001b[0m\u001b[0m\n\u001b[1;32m----> 3\u001b[1;33m \u001b[0mbc\u001b[0m \u001b[1;33m=\u001b[0m \u001b[0mBusinessCard\u001b[0m\u001b[1;33m(\u001b[0m\u001b[1;33m)\u001b[0m\u001b[1;33m\u001b[0m\u001b[1;33m\u001b[0m\u001b[0m\n\u001b[0m",
      "\u001b[1;31mTypeError\u001b[0m: __init__() missing 3 required positional arguments: 'name', 'email', and 'address'"
     ]
    }
   ],
   "source": [
    "#생성자 함수 \n",
    "#instance 생성 순간 __init__ 함수 실행 => __init__함수가 필요로 하는 매개변수를 넘겨줘야 에러가 안 남\n",
    "bc = BusinessCard() "
   ]
  },
  {
   "cell_type": "code",
   "execution_count": 70,
   "id": "028e3f93",
   "metadata": {},
   "outputs": [
    {
     "data": {
      "text/plain": [
       "'yuna'"
      ]
     },
     "execution_count": 70,
     "metadata": {},
     "output_type": "execute_result"
    }
   ],
   "source": [
    "bc= BusinessCard('yuna', 'yuna@hanmail.net', 'seoul')\n",
    "bc.name"
   ]
  },
  {
   "cell_type": "code",
   "execution_count": 72,
   "id": "497684b0",
   "metadata": {},
   "outputs": [
    {
     "name": "stdout",
     "output_type": "stream",
     "text": [
      "====================\n",
      "Name : yuna\n",
      "Email : yuna@hanmail.net\n",
      "Address : seoul\n",
      "====================\n"
     ]
    }
   ],
   "source": [
    "bc.BusinessCard()"
   ]
  },
  {
   "cell_type": "code",
   "execution_count": 73,
   "id": "a76dc9e3",
   "metadata": {},
   "outputs": [],
   "source": [
    "# class 변수:\n",
    "# 특정 인스턴스 내부가 아닌 모든 인스턴스에서 공유하는 변수\n",
    "# 클래스 변수의 정의 - 클래스 내에서 변수 앞에 self를 쓰지 않으면 class 변수로 정의\n",
    "# 클래스 변수에 접근할 때는 클래스 명으로 접근\n",
    "# 인스턴스 변수로 클래스변수에 접근하는 경우, 동일 이름의 인스턴스 변수가 없으면 가능\n",
    "\n",
    "# 인스턴스 변수 - 특정 인스턴스 내에서만 공유되는 변수..\n"
   ]
  },
  {
   "cell_type": "code",
   "execution_count": 75,
   "id": "3a912e9f",
   "metadata": {},
   "outputs": [],
   "source": [
    "class Circle:\n",
    "    pi = 3.14      #클래스 변수\n",
    "    \n",
    "    def __init__(self,radius):\n",
    "        self.radius = radius\n",
    "    def area(self):\n",
    "        circle_area = Circle.pi * pow(self.radius,2)   # 클래스명.클래스변수\n",
    "        return circle_area\n",
    "    \n",
    "    def perimeter(self):\n",
    "        circle_perimeter = Circle.pi *2* self.radius\n",
    "        return circle_perimeter"
   ]
  },
  {
   "cell_type": "code",
   "execution_count": 82,
   "id": "b2acd9e9",
   "metadata": {},
   "outputs": [],
   "source": [
    "cir = Circle(3)"
   ]
  },
  {
   "cell_type": "code",
   "execution_count": 83,
   "id": "7156e7e0",
   "metadata": {},
   "outputs": [
    {
     "data": {
      "text/plain": [
       "28.26"
      ]
     },
     "execution_count": 83,
     "metadata": {},
     "output_type": "execute_result"
    }
   ],
   "source": [
    "cir.area()"
   ]
  },
  {
   "cell_type": "code",
   "execution_count": 84,
   "id": "287b0898",
   "metadata": {},
   "outputs": [
    {
     "data": {
      "text/plain": [
       "18.84"
      ]
     },
     "execution_count": 84,
     "metadata": {},
     "output_type": "execute_result"
    }
   ],
   "source": [
    "cir.perimeter()"
   ]
  },
  {
   "cell_type": "code",
   "execution_count": 88,
   "id": "c5d872ec",
   "metadata": {},
   "outputs": [
    {
     "data": {
      "text/plain": [
       "3"
      ]
     },
     "execution_count": 88,
     "metadata": {},
     "output_type": "execute_result"
    }
   ],
   "source": [
    "cir.radius"
   ]
  },
  {
   "cell_type": "code",
   "execution_count": 85,
   "id": "2987c381",
   "metadata": {},
   "outputs": [],
   "source": [
    "cir1 = Circle(5)"
   ]
  },
  {
   "cell_type": "code",
   "execution_count": 86,
   "id": "bd0251f8",
   "metadata": {},
   "outputs": [
    {
     "data": {
      "text/plain": [
       "78.5"
      ]
     },
     "execution_count": 86,
     "metadata": {},
     "output_type": "execute_result"
    }
   ],
   "source": [
    "cir1.area()"
   ]
  },
  {
   "cell_type": "code",
   "execution_count": 89,
   "id": "b9dfdde8",
   "metadata": {},
   "outputs": [
    {
     "data": {
      "text/plain": [
       "5"
      ]
     },
     "execution_count": 89,
     "metadata": {},
     "output_type": "execute_result"
    }
   ],
   "source": [
    "cir1.radius"
   ]
  },
  {
   "cell_type": "code",
   "execution_count": 92,
   "id": "cd842ebf",
   "metadata": {},
   "outputs": [
    {
     "name": "stdout",
     "output_type": "stream",
     "text": [
      "3.14\n",
      "3.14\n",
      "3.14\n"
     ]
    }
   ],
   "source": [
    "print(cir.pi)\n",
    "print(cir1.pi)\n",
    "print(Circle.pi)  #모두 같다."
   ]
  },
  {
   "cell_type": "markdown",
   "id": "eda4a388",
   "metadata": {},
   "source": [
    "#### 상속"
   ]
  },
  {
   "cell_type": "code",
   "execution_count": 93,
   "id": "8455f55a",
   "metadata": {},
   "outputs": [],
   "source": [
    "class Parent:\n",
    "    def can_sing(self):\n",
    "        print('sing a song')"
   ]
  },
  {
   "cell_type": "code",
   "execution_count": 94,
   "id": "70da7e13",
   "metadata": {},
   "outputs": [],
   "source": [
    "p = Parent()"
   ]
  },
  {
   "cell_type": "code",
   "execution_count": 95,
   "id": "eb62b590",
   "metadata": {},
   "outputs": [
    {
     "name": "stdout",
     "output_type": "stream",
     "text": [
      "sing a song\n"
     ]
    }
   ],
   "source": [
    "p.can_sing()"
   ]
  },
  {
   "cell_type": "code",
   "execution_count": 96,
   "id": "c007c9b7",
   "metadata": {},
   "outputs": [],
   "source": [
    "#parent class를 상속.. => Parent class의 모든 요소를 가져옴\n",
    "\n",
    "class Child(Parent): \n",
    "    pass"
   ]
  },
  {
   "cell_type": "code",
   "execution_count": 97,
   "id": "8a06447e",
   "metadata": {},
   "outputs": [],
   "source": [
    "c = Child()"
   ]
  },
  {
   "cell_type": "code",
   "execution_count": 98,
   "id": "809c1ee2",
   "metadata": {},
   "outputs": [
    {
     "name": "stdout",
     "output_type": "stream",
     "text": [
      "sing a song\n"
     ]
    }
   ],
   "source": [
    "c.can_sing()"
   ]
  },
  {
   "cell_type": "code",
   "execution_count": 100,
   "id": "90fdf93c",
   "metadata": {},
   "outputs": [],
   "source": [
    "class Child(Parent):\n",
    "    def can_dance(self):\n",
    "        print('play dancing')"
   ]
  },
  {
   "cell_type": "code",
   "execution_count": 101,
   "id": "6bb48a95",
   "metadata": {},
   "outputs": [],
   "source": [
    "c = Child()"
   ]
  },
  {
   "cell_type": "code",
   "execution_count": 103,
   "id": "0371759e",
   "metadata": {},
   "outputs": [
    {
     "name": "stdout",
     "output_type": "stream",
     "text": [
      "sing a song\n"
     ]
    }
   ],
   "source": [
    "c.can_sing()  # 부모 클래스로 부터 상속받은 메소드 "
   ]
  },
  {
   "cell_type": "code",
   "execution_count": 104,
   "id": "7e7f9294",
   "metadata": {},
   "outputs": [
    {
     "name": "stdout",
     "output_type": "stream",
     "text": [
      "play dancing\n"
     ]
    }
   ],
   "source": [
    "c.can_dance() #자신의 메소드"
   ]
  },
  {
   "cell_type": "code",
   "execution_count": 105,
   "id": "74db8b3a",
   "metadata": {},
   "outputs": [],
   "source": [
    "# Quiz\n",
    "# 임의의 정수 2개를 인스턴스 변수로 받은 후 \n",
    "# 사칙연산의 메소드를 가진 클래스를 정의하고 (addf, mulf, divf, subf)\n",
    "# 객체를 만들어서 메소드를 실행하시오"
   ]
  },
  {
   "cell_type": "code",
   "execution_count": 110,
   "id": "436a8cba",
   "metadata": {},
   "outputs": [
    {
     "data": {
      "text/plain": [
       "-2"
      ]
     },
     "execution_count": 110,
     "metadata": {},
     "output_type": "execute_result"
    }
   ],
   "source": [
    "class calculator():\n",
    "    def __init__(self,num1,num2):\n",
    "        self.num1 = num1\n",
    "        self.num2 = num2\n",
    "        \n",
    "    def addf(self):\n",
    "        result = self.num1 + self.num2\n",
    "        return result\n",
    "    def subf(self):\n",
    "        result = self.num1 - self.num2\n",
    "        return result\n",
    "    def mulf(self):\n",
    "        result = self.num1 * self.num2\n",
    "        return result\n",
    "    def divf(self):\n",
    "        result = self.num1/self.num2\n",
    "        return result\n",
    "    \n",
    "cal = calculator(4,6)\n",
    "cal.addf()\n",
    "cal.subf()"
   ]
  },
  {
   "cell_type": "code",
   "execution_count": 111,
   "id": "2c31f57d",
   "metadata": {},
   "outputs": [],
   "source": [
    "class calculator1(calculator):\n",
    "    def powf(self):\n",
    "        result = self.num1 ** self.num2\n",
    "        return result\n",
    "    "
   ]
  },
  {
   "cell_type": "code",
   "execution_count": 114,
   "id": "75e970c6",
   "metadata": {},
   "outputs": [
    {
     "data": {
      "text/plain": [
       "8"
      ]
     },
     "execution_count": 114,
     "metadata": {},
     "output_type": "execute_result"
    }
   ],
   "source": [
    "cal1 = calculator1(2,3)\n",
    "cal1.powf()"
   ]
  },
  {
   "cell_type": "code",
   "execution_count": 116,
   "id": "0e09aef9",
   "metadata": {
    "collapsed": true
   },
   "outputs": [
    {
     "ename": "ZeroDivisionError",
     "evalue": "division by zero",
     "output_type": "error",
     "traceback": [
      "\u001b[1;31m---------------------------------------------------------------------------\u001b[0m",
      "\u001b[1;31mZeroDivisionError\u001b[0m                         Traceback (most recent call last)",
      "\u001b[1;32m~\\AppData\\Local\\Temp/ipykernel_2012/1733493103.py\u001b[0m in \u001b[0;36m<module>\u001b[1;34m\u001b[0m\n\u001b[0;32m      1\u001b[0m \u001b[0mcal2\u001b[0m \u001b[1;33m=\u001b[0m \u001b[0mcalculator\u001b[0m\u001b[1;33m(\u001b[0m\u001b[1;36m2\u001b[0m\u001b[1;33m,\u001b[0m\u001b[1;36m0\u001b[0m\u001b[1;33m)\u001b[0m\u001b[1;33m\u001b[0m\u001b[1;33m\u001b[0m\u001b[0m\n\u001b[1;32m----> 2\u001b[1;33m \u001b[0mcal2\u001b[0m\u001b[1;33m.\u001b[0m\u001b[0mdivf\u001b[0m\u001b[1;33m(\u001b[0m\u001b[1;33m)\u001b[0m\u001b[1;33m\u001b[0m\u001b[1;33m\u001b[0m\u001b[0m\n\u001b[0m",
      "\u001b[1;32m~\\AppData\\Local\\Temp/ipykernel_2012/291418854.py\u001b[0m in \u001b[0;36mdivf\u001b[1;34m(self)\u001b[0m\n\u001b[0;32m     14\u001b[0m         \u001b[1;32mreturn\u001b[0m \u001b[0mresult\u001b[0m\u001b[1;33m\u001b[0m\u001b[1;33m\u001b[0m\u001b[0m\n\u001b[0;32m     15\u001b[0m     \u001b[1;32mdef\u001b[0m \u001b[0mdivf\u001b[0m\u001b[1;33m(\u001b[0m\u001b[0mself\u001b[0m\u001b[1;33m)\u001b[0m\u001b[1;33m:\u001b[0m\u001b[1;33m\u001b[0m\u001b[1;33m\u001b[0m\u001b[0m\n\u001b[1;32m---> 16\u001b[1;33m         \u001b[0mresult\u001b[0m \u001b[1;33m=\u001b[0m \u001b[0mself\u001b[0m\u001b[1;33m.\u001b[0m\u001b[0mnum1\u001b[0m\u001b[1;33m/\u001b[0m\u001b[0mself\u001b[0m\u001b[1;33m.\u001b[0m\u001b[0mnum2\u001b[0m\u001b[1;33m\u001b[0m\u001b[1;33m\u001b[0m\u001b[0m\n\u001b[0m\u001b[0;32m     17\u001b[0m         \u001b[1;32mreturn\u001b[0m \u001b[0mresult\u001b[0m\u001b[1;33m\u001b[0m\u001b[1;33m\u001b[0m\u001b[0m\n\u001b[0;32m     18\u001b[0m \u001b[1;33m\u001b[0m\u001b[0m\n",
      "\u001b[1;31mZeroDivisionError\u001b[0m: division by zero"
     ]
    }
   ],
   "source": [
    "# ZeroDivisionError\n",
    "cal2 = calculator(2,0)\n",
    "cal2.divf()"
   ]
  },
  {
   "cell_type": "code",
   "execution_count": 119,
   "id": "1f885e26",
   "metadata": {},
   "outputs": [],
   "source": [
    "class SafeCal(calculator):\n",
    "    def divf(self):    # 부모 클래스의 메소드를 수정 => override\n",
    "        if self.num2 == 0 :\n",
    "            return 0\n",
    "        else:\n",
    "            return self.num1/self.num2"
   ]
  },
  {
   "cell_type": "code",
   "execution_count": 120,
   "id": "a5d39db2",
   "metadata": {},
   "outputs": [
    {
     "data": {
      "text/plain": [
       "0"
      ]
     },
     "execution_count": 120,
     "metadata": {},
     "output_type": "execute_result"
    }
   ],
   "source": [
    "sc = SafeCal(2,0)\n",
    "sc.divf()"
   ]
  },
  {
   "cell_type": "code",
   "execution_count": 128,
   "id": "044f407d",
   "metadata": {},
   "outputs": [],
   "source": [
    "class Sam:\n",
    "    data = 'python' #클래스 변수\n",
    "    \n",
    "    def __init__(self):\n",
    "        self.data1 = 'korea'  # 인스턴스 변수\n",
    "        \n",
    "    def instance_method(self):\n",
    "        print('instance method :', self.data1)\n",
    "        \n",
    "    #클래스 메소드, cls 키워드로 클래스 변수에 접근    \n",
    "    @classmethod\n",
    "    def class_method(cls):   \n",
    "        print('class method:', cls.data)\n",
    "#         print('class method:', cls.data1) - 클래스 메소드는 인스턴스 변수 접근 불가\n",
    "        \n",
    "    # 스테틱 메소드, self, cls 매개변수를 받지 않음..\n",
    "    def static_method():\n",
    "        print('static method:', Sam.data)\n",
    "#         print('static method:', cls.data1) - 클래스 메소드는 인스턴스 변수 접근 불가"
   ]
  },
  {
   "cell_type": "code",
   "execution_count": 129,
   "id": "4d9d94e1",
   "metadata": {},
   "outputs": [],
   "source": [
    "s = Sam()"
   ]
  },
  {
   "cell_type": "code",
   "execution_count": 130,
   "id": "c5f66442",
   "metadata": {},
   "outputs": [
    {
     "name": "stdout",
     "output_type": "stream",
     "text": [
      "instance method : korea\n",
      "class method: python\n",
      "static method: python\n"
     ]
    }
   ],
   "source": [
    "s.instance_method()\n",
    "s.class_method()\n",
    "Sam.static_method()"
   ]
  },
  {
   "cell_type": "code",
   "execution_count": 131,
   "id": "d895c026",
   "metadata": {},
   "outputs": [
    {
     "name": "stdout",
     "output_type": "stream",
     "text": [
      "class method: python\n"
     ]
    }
   ],
   "source": [
    "Sam.class_method()"
   ]
  },
  {
   "cell_type": "code",
   "execution_count": 132,
   "id": "b2a85ba4",
   "metadata": {},
   "outputs": [],
   "source": [
    "# 클래스 메소드나 스테틱 메소드는 객체를 생성하지 않고 클래스명으로 바로 호출 가능\n",
    "# 클래스 매소드와 스테틱 메소드는 클래스 변수에만 접근이 가능하다\n",
    "\n",
    "# 클래스 메소드 cls키워드를 사용\n",
    "# 스테틱 메소드 cls를 사용하지 않고 클래스 명으로 호출한다"
   ]
  },
  {
   "cell_type": "code",
   "execution_count": null,
   "id": "6be25076",
   "metadata": {},
   "outputs": [],
   "source": []
  },
  {
   "cell_type": "code",
   "execution_count": 133,
   "id": "634562da",
   "metadata": {},
   "outputs": [],
   "source": [
    "#학생 리스트"
   ]
  },
  {
   "cell_type": "code",
   "execution_count": 166,
   "id": "9109e562",
   "metadata": {},
   "outputs": [
    {
     "name": "stdout",
     "output_type": "stream",
     "text": [
      "Name\tTotal\tAvg\n",
      "윤인성 375 93.75\n",
      "박민수 345 86.25\n",
      "박철호 312 78.0\n",
      "이호성 353 88.25\n",
      "최민수 320 80.0\n",
      "유인태 350 87.5\n"
     ]
    }
   ],
   "source": [
    "students = [\n",
    "    {'name': '윤인성', 'korean': 87, 'math': 98, 'english': 95, 'science': 95},\n",
    "    {'name': '박민수', 'korean': 88, 'math': 98, 'english': 64, 'science': 95},\n",
    "    {'name': '박철호', 'korean': 95, 'math': 98, 'english': 24, 'science': 95},\n",
    "    {'name': '이호성', 'korean': 75, 'math': 98, 'english': 85, 'science': 95},\n",
    "    {'name': '최민수', 'korean': 62, 'math': 98, 'english': 65, 'science': 95},\n",
    "    {'name': '유인태', 'korean': 76, 'math': 98, 'english': 81, 'science': 95}\n",
    "]\n",
    "\n",
    "print('Name', 'Total', 'Avg', sep='\\t')\n",
    "for s in students:\n",
    "    suma = s['korean'] + s['math'] + s['english'] + s['science']\n",
    "    avg = suma/4\n",
    "    print(s['name'], suma, avg)\n",
    "\n"
   ]
  },
  {
   "cell_type": "code",
   "execution_count": 167,
   "id": "03be2fcc",
   "metadata": {},
   "outputs": [],
   "source": [
    "# 이름      총점     평점\n",
    "# 윤인성     89       85\n",
    "# 박민수     87       98\n",
    "#..."
   ]
  },
  {
   "cell_type": "code",
   "execution_count": 168,
   "id": "3e5141a0",
   "metadata": {},
   "outputs": [],
   "source": [
    "def create_student(name, kor,math, eng, sci):\n",
    "    return {'name': name, 'korean': kor, 'math': math, 'english':eng, 'science':sci}\n",
    "\n",
    "#create_student('윤인성', 87,88,96,78)"
   ]
  },
  {
   "cell_type": "code",
   "execution_count": 169,
   "id": "b199cf1a",
   "metadata": {},
   "outputs": [],
   "source": [
    "def student_get_sum(s):\n",
    "    return s['korean'] + s['math'] + s['english'] + s['science']"
   ]
  },
  {
   "cell_type": "code",
   "execution_count": 170,
   "id": "588a6313",
   "metadata": {},
   "outputs": [],
   "source": [
    "def student_get_average(s):\n",
    "    return student_get_sum(s)/4"
   ]
  },
  {
   "cell_type": "code",
   "execution_count": 171,
   "id": "14338388",
   "metadata": {},
   "outputs": [],
   "source": [
    "def student_to_string(s):\n",
    "    return \"{}\\t{}\\t{}\".format(s['name'], student_get_sum(s), student_get_average(s))"
   ]
  },
  {
   "cell_type": "code",
   "execution_count": 172,
   "id": "f582ac33",
   "metadata": {},
   "outputs": [],
   "source": [
    "s= [\n",
    "    create_student('윤인성',89,87,89,34),\n",
    "    create_student('박민수',89,87,89,34),\n",
    "    create_student('박철호',89,87,89,34),\n",
    "    create_student('윤인성',89,87,89,34),\n",
    "    create_student('윤인성',89,87,89,34),\n",
    "    create_student('윤인성',89,87,89,34)\n",
    "    ]"
   ]
  },
  {
   "cell_type": "code",
   "execution_count": 173,
   "id": "bda6257e",
   "metadata": {},
   "outputs": [],
   "source": [
    "class Student:\n",
    "    def __init__(self, name, kor, math, eng, sci):\n",
    "        self.name = name\n",
    "        self.kor = kor\n",
    "        self.math = math\n",
    "        self.eng = eng\n",
    "        self.sci = sci\n",
    "    \n",
    "    def get_sum(self):\n",
    "        self.korean + self.math + self.eng + self.sci\n",
    "    \n",
    "    def get_average(self):\n",
    "        return self.get_sum()/4\n",
    "    \n",
    "    def to_string(self):\n",
    "        return \"{}\\t{}\\t{}\".format(self.name, self.get_sum(s), self.get_average(s))\n",
    "        "
   ]
  },
  {
   "cell_type": "code",
   "execution_count": 174,
   "id": "7d0a9d4d",
   "metadata": {},
   "outputs": [
    {
     "ename": "AttributeError",
     "evalue": "'Student' object has no attribute 'to_stirng'",
     "output_type": "error",
     "traceback": [
      "\u001b[1;31m---------------------------------------------------------------------------\u001b[0m",
      "\u001b[1;31mAttributeError\u001b[0m                            Traceback (most recent call last)",
      "\u001b[1;32m~\\AppData\\Local\\Temp/ipykernel_2012/3893044480.py\u001b[0m in \u001b[0;36m<module>\u001b[1;34m\u001b[0m\n\u001b[0;32m      9\u001b[0m \u001b[1;33m\u001b[0m\u001b[0m\n\u001b[0;32m     10\u001b[0m \u001b[1;32mfor\u001b[0m \u001b[0ms\u001b[0m \u001b[1;32min\u001b[0m \u001b[0mstudents\u001b[0m\u001b[1;33m:\u001b[0m\u001b[1;33m\u001b[0m\u001b[1;33m\u001b[0m\u001b[0m\n\u001b[1;32m---> 11\u001b[1;33m     \u001b[0mprint\u001b[0m\u001b[1;33m(\u001b[0m\u001b[0ms\u001b[0m\u001b[1;33m.\u001b[0m\u001b[0mto_stirng\u001b[0m\u001b[1;33m(\u001b[0m\u001b[1;33m)\u001b[0m\u001b[1;33m)\u001b[0m\u001b[1;33m\u001b[0m\u001b[1;33m\u001b[0m\u001b[0m\n\u001b[0m",
      "\u001b[1;31mAttributeError\u001b[0m: 'Student' object has no attribute 'to_stirng'"
     ]
    }
   ],
   "source": [
    "students = [\n",
    "    Student('윤인성',89,87,89,34),\n",
    "    Student('박민수',89,87,89,34),\n",
    "    Student('박철호',89,87,89,34),\n",
    "    Student('윤인성',89,87,89,34),\n",
    "    Student('윤인성',89,87,89,34),\n",
    "    Student('윤인성',89,87,89,34)\n",
    "    ]\n",
    "\n",
    "for s in students:\n",
    "    print(s.to_stirng())"
   ]
  },
  {
   "cell_type": "code",
   "execution_count": 175,
   "id": "8adc65c1",
   "metadata": {},
   "outputs": [],
   "source": [
    "# 은닉화\n",
    "# 클래스 내에서 변수의 값을 노출시키고 싶지 않을 때, 변수를 은닉화"
   ]
  },
  {
   "cell_type": "code",
   "execution_count": 184,
   "id": "19c6e8fd",
   "metadata": {},
   "outputs": [],
   "source": [
    "import math\n",
    "\n",
    "class Circle:\n",
    "    def __init__(self,radius):\n",
    "        self.__radius = radius   #__변수명 : 외부에서 접근금지. 클래스 내의 메소드에서만 접근이 가능\n",
    "    def get_circumference(self):\n",
    "        return 2 * math.pi * self.__radius\n",
    "    def get_area(self):\n",
    "        return math.pi * (self.__radius **2)\n",
    "    \n",
    "    # 게터와 세터\n",
    "    # 게터 : 은닉된 변수의 값을 얻어올 수 있는 메서도\n",
    "    # 세터 : 은닉된 변수의 값을 수정할 수 있도록 하는 메서도\n",
    "    \n",
    "    @property\n",
    "    def get_radius(self):\n",
    "        return self.__radius\n",
    "    \n",
    "    @get_radius.setter\n",
    "    def set_radius(self, value):\n",
    "        if value <= 0:\n",
    "            raise TypeError('길이는 양의 숫자이어야 합니다..')\n",
    "        self.__radius = value"
   ]
  },
  {
   "cell_type": "code",
   "execution_count": 185,
   "id": "d3e1754e",
   "metadata": {},
   "outputs": [],
   "source": [
    "cir = Circle(2)"
   ]
  },
  {
   "cell_type": "code",
   "execution_count": 186,
   "id": "30decc93",
   "metadata": {},
   "outputs": [
    {
     "data": {
      "text/plain": [
       "12.566370614359172"
      ]
     },
     "execution_count": 186,
     "metadata": {},
     "output_type": "execute_result"
    }
   ],
   "source": [
    "cir.get_circumference()"
   ]
  },
  {
   "cell_type": "code",
   "execution_count": 187,
   "id": "e39e422f",
   "metadata": {},
   "outputs": [
    {
     "data": {
      "text/plain": [
       "12.566370614359172"
      ]
     },
     "execution_count": 187,
     "metadata": {},
     "output_type": "execute_result"
    }
   ],
   "source": [
    "cir.get_area()"
   ]
  },
  {
   "cell_type": "code",
   "execution_count": 188,
   "id": "18a26275",
   "metadata": {},
   "outputs": [
    {
     "ename": "AttributeError",
     "evalue": "'Circle' object has no attribute '__radius'",
     "output_type": "error",
     "traceback": [
      "\u001b[1;31m---------------------------------------------------------------------------\u001b[0m",
      "\u001b[1;31mAttributeError\u001b[0m                            Traceback (most recent call last)",
      "\u001b[1;32m~\\AppData\\Local\\Temp/ipykernel_2012/216821377.py\u001b[0m in \u001b[0;36m<module>\u001b[1;34m\u001b[0m\n\u001b[1;32m----> 1\u001b[1;33m \u001b[0mcir\u001b[0m\u001b[1;33m.\u001b[0m\u001b[0m__radius\u001b[0m   \u001b[1;31m#외부에서 접근이 안 됨\u001b[0m\u001b[1;33m\u001b[0m\u001b[1;33m\u001b[0m\u001b[0m\n\u001b[0m",
      "\u001b[1;31mAttributeError\u001b[0m: 'Circle' object has no attribute '__radius'"
     ]
    }
   ],
   "source": [
    "cir.__radius   #외부에서 접근이 안 됨"
   ]
  },
  {
   "cell_type": "code",
   "execution_count": 189,
   "id": "714b7a06",
   "metadata": {},
   "outputs": [
    {
     "data": {
      "text/plain": [
       "2"
      ]
     },
     "execution_count": 189,
     "metadata": {},
     "output_type": "execute_result"
    }
   ],
   "source": [
    "cir.get_radius"
   ]
  },
  {
   "cell_type": "code",
   "execution_count": 192,
   "id": "d731aa99",
   "metadata": {},
   "outputs": [
    {
     "ename": "AttributeError",
     "evalue": "'int' object has no attribute 'setter'",
     "output_type": "error",
     "traceback": [
      "\u001b[1;31m---------------------------------------------------------------------------\u001b[0m",
      "\u001b[1;31mAttributeError\u001b[0m                            Traceback (most recent call last)",
      "\u001b[1;32m~\\AppData\\Local\\Temp/ipykernel_2012/2980325957.py\u001b[0m in \u001b[0;36m<module>\u001b[1;34m\u001b[0m\n\u001b[1;32m----> 1\u001b[1;33m \u001b[0mcir\u001b[0m\u001b[1;33m.\u001b[0m\u001b[0mget_radius\u001b[0m\u001b[1;33m.\u001b[0m\u001b[0msetter\u001b[0m\u001b[1;33m(\u001b[0m\u001b[1;36m3\u001b[0m\u001b[1;33m)\u001b[0m\u001b[1;33m\u001b[0m\u001b[1;33m\u001b[0m\u001b[0m\n\u001b[0m",
      "\u001b[1;31mAttributeError\u001b[0m: 'int' object has no attribute 'setter'"
     ]
    }
   ],
   "source": [
    "cir.get_radius.setter"
   ]
  },
  {
   "cell_type": "code",
   "execution_count": null,
   "id": "f95fe8f4",
   "metadata": {},
   "outputs": [],
   "source": []
  }
 ],
 "metadata": {
  "kernelspec": {
   "display_name": "Python 3 (ipykernel)",
   "language": "python",
   "name": "python3"
  },
  "language_info": {
   "codemirror_mode": {
    "name": "ipython",
    "version": 3
   },
   "file_extension": ".py",
   "mimetype": "text/x-python",
   "name": "python",
   "nbconvert_exporter": "python",
   "pygments_lexer": "ipython3",
   "version": "3.9.7"
  }
 },
 "nbformat": 4,
 "nbformat_minor": 5
}
