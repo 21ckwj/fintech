{
 "cells": [
  {
   "cell_type": "markdown",
   "id": "581a69bd",
   "metadata": {},
   "source": [
    "### Set"
   ]
  },
  {
   "cell_type": "code",
   "execution_count": 142,
   "id": "cc25ebe8",
   "metadata": {},
   "outputs": [],
   "source": [
    "# 원소가 없는 set인 s를 만드세요\n",
    "s= set()"
   ]
  },
  {
   "cell_type": "code",
   "execution_count": 144,
   "id": "2b782dd2",
   "metadata": {},
   "outputs": [
    {
     "data": {
      "text/plain": [
       "{'earth', 'sky'}"
      ]
     },
     "execution_count": 144,
     "metadata": {},
     "output_type": "execute_result"
    }
   ],
   "source": [
    "# s에 원소 'sky'와 'earth'를 추가하세요\n",
    "s.add('sky')\n",
    "s.add('earth')\n",
    "s"
   ]
  },
  {
   "cell_type": "code",
   "execution_count": 145,
   "id": "8571fe93",
   "metadata": {},
   "outputs": [
    {
     "data": {
      "text/plain": [
       "{'1', '2', 'earth', 'sky'}"
      ]
     },
     "execution_count": 145,
     "metadata": {},
     "output_type": "execute_result"
    }
   ],
   "source": [
    "# s에 1,2 두 원소를 추가하세요\n",
    "s.update('1','2')\n",
    "s"
   ]
  },
  {
   "cell_type": "code",
   "execution_count": 164,
   "id": "3366e052",
   "metadata": {},
   "outputs": [],
   "source": [
    "# s에서 'sky'를 삭제하세요\n",
    "s.remove('sky')"
   ]
  },
  {
   "cell_type": "code",
   "execution_count": 165,
   "id": "59c5d8d4",
   "metadata": {},
   "outputs": [],
   "source": [
    "A = {1,2,3,4,5,6}\n",
    "B = {1,2,3,7,8,9}\n",
    "C = {1,2,3}"
   ]
  },
  {
   "cell_type": "code",
   "execution_count": 166,
   "id": "f650c6e7",
   "metadata": {},
   "outputs": [
    {
     "data": {
      "text/plain": [
       "{1, 2, 3, 4, 5, 6, 7, 8, 9}"
      ]
     },
     "execution_count": 166,
     "metadata": {},
     "output_type": "execute_result"
    }
   ],
   "source": [
    "# 두 집합의 합집합을 출력\n",
    "A.union(B)"
   ]
  },
  {
   "cell_type": "code",
   "execution_count": 167,
   "id": "976471ea",
   "metadata": {},
   "outputs": [
    {
     "data": {
      "text/plain": [
       "{1, 2, 3}"
      ]
     },
     "execution_count": 167,
     "metadata": {},
     "output_type": "execute_result"
    }
   ],
   "source": [
    "# 두 집합의 교집합을 출력\n",
    "A.intersection(B)"
   ]
  },
  {
   "cell_type": "code",
   "execution_count": 168,
   "id": "b547a59d",
   "metadata": {},
   "outputs": [
    {
     "data": {
      "text/plain": [
       "{4, 5, 6}"
      ]
     },
     "execution_count": 168,
     "metadata": {},
     "output_type": "execute_result"
    }
   ],
   "source": [
    "# A의 B에 대한 차집합\n",
    "A.difference(B)"
   ]
  },
  {
   "cell_type": "code",
   "execution_count": 169,
   "id": "21142ffa",
   "metadata": {},
   "outputs": [
    {
     "data": {
      "text/plain": [
       "{4, 5, 6, 7, 8, 9}"
      ]
     },
     "execution_count": 169,
     "metadata": {},
     "output_type": "execute_result"
    }
   ],
   "source": [
    "# 대칭차집합\n",
    "A.symmetric_difference(B)"
   ]
  },
  {
   "cell_type": "code",
   "execution_count": 170,
   "id": "a041f724",
   "metadata": {},
   "outputs": [
    {
     "data": {
      "text/plain": [
       "True"
      ]
     },
     "execution_count": 170,
     "metadata": {},
     "output_type": "execute_result"
    }
   ],
   "source": [
    "# C가 A의 부분집합인지 확인\n",
    "C.issubset(A)"
   ]
  },
  {
   "cell_type": "code",
   "execution_count": 171,
   "id": "b2c8a031",
   "metadata": {},
   "outputs": [
    {
     "data": {
      "text/plain": [
       "True"
      ]
     },
     "execution_count": 171,
     "metadata": {},
     "output_type": "execute_result"
    }
   ],
   "source": [
    "# A가 C를 포함하는지 확인\n",
    "A.issuperset(C)"
   ]
  },
  {
   "cell_type": "code",
   "execution_count": 172,
   "id": "16c0b338",
   "metadata": {},
   "outputs": [
    {
     "data": {
      "text/plain": [
       "6"
      ]
     },
     "execution_count": 172,
     "metadata": {},
     "output_type": "execute_result"
    }
   ],
   "source": [
    "# 집합 B의 길이를 출력\n",
    "len(B)"
   ]
  },
  {
   "cell_type": "code",
   "execution_count": 173,
   "id": "7ca05286",
   "metadata": {},
   "outputs": [
    {
     "data": {
      "text/plain": [
       "9"
      ]
     },
     "execution_count": 173,
     "metadata": {},
     "output_type": "execute_result"
    }
   ],
   "source": [
    "# 집합 B의 최대값 출력\n",
    "max(B)"
   ]
  },
  {
   "cell_type": "code",
   "execution_count": 174,
   "id": "14131877",
   "metadata": {},
   "outputs": [
    {
     "data": {
      "text/plain": [
       "1"
      ]
     },
     "execution_count": 174,
     "metadata": {},
     "output_type": "execute_result"
    }
   ],
   "source": [
    "# 집합 B의 최소값 출력\n",
    "min(B)"
   ]
  },
  {
   "cell_type": "code",
   "execution_count": 175,
   "id": "0b2fdcf3",
   "metadata": {},
   "outputs": [
    {
     "data": {
      "text/plain": [
       "30"
      ]
     },
     "execution_count": 175,
     "metadata": {},
     "output_type": "execute_result"
    }
   ],
   "source": [
    "# 집합 B의 합을 출력\n",
    "sum(B)"
   ]
  },
  {
   "cell_type": "code",
   "execution_count": 176,
   "id": "e901d64f",
   "metadata": {},
   "outputs": [
    {
     "data": {
      "text/plain": [
       "6.0"
      ]
     },
     "execution_count": 176,
     "metadata": {},
     "output_type": "execute_result"
    }
   ],
   "source": [
    "# 집합 B의 평균출력\n",
    "sum(B)/5"
   ]
  },
  {
   "cell_type": "code",
   "execution_count": 177,
   "id": "2992da47",
   "metadata": {},
   "outputs": [
    {
     "data": {
      "text/plain": [
       "[9, 8, 7, 3, 2, 1]"
      ]
     },
     "execution_count": 177,
     "metadata": {},
     "output_type": "execute_result"
    }
   ],
   "source": [
    "# 집합 B의 내림차순 출력\n",
    "sorted(B,reverse=True)"
   ]
  },
  {
   "cell_type": "code",
   "execution_count": 178,
   "id": "211448c6",
   "metadata": {},
   "outputs": [
    {
     "data": {
      "text/plain": [
       "False"
      ]
     },
     "execution_count": 178,
     "metadata": {},
     "output_type": "execute_result"
    }
   ],
   "source": [
    "# 집합 B에 5가 포함되어 있는지 확인\n",
    "5 in B"
   ]
  },
  {
   "cell_type": "code",
   "execution_count": 3,
   "id": "1165fab4",
   "metadata": {},
   "outputs": [],
   "source": []
  },
  {
   "cell_type": "code",
   "execution_count": 182,
   "id": "15711e02",
   "metadata": {},
   "outputs": [],
   "source": [
    "# Dictionary"
   ]
  },
  {
   "cell_type": "code",
   "execution_count": 183,
   "id": "2ee42701",
   "metadata": {},
   "outputs": [],
   "source": [
    "# 'mydict'라는 딕셔너리를 만드세요.\n",
    "d = {}\n",
    "d = dict()"
   ]
  },
  {
   "cell_type": "code",
   "execution_count": 184,
   "id": "0b6a366c",
   "metadata": {},
   "outputs": [],
   "source": [
    "# 'red':4, 'blue':3, 'green':1 세 요소를 추가하세요.\n",
    "d['red'] = 4\n",
    "d['blue'] = 3\n",
    "d['green'] = 1"
   ]
  },
  {
   "cell_type": "code",
   "execution_count": 185,
   "id": "cf82bae0",
   "metadata": {},
   "outputs": [
    {
     "data": {
      "text/plain": [
       "True"
      ]
     },
     "execution_count": 185,
     "metadata": {},
     "output_type": "execute_result"
    }
   ],
   "source": [
    "# key에 'blue'가 있는지 확인하세요.\n",
    "'blue' in d"
   ]
  },
  {
   "cell_type": "code",
   "execution_count": 186,
   "id": "1c72dd1a",
   "metadata": {},
   "outputs": [
    {
     "data": {
      "text/plain": [
       "3"
      ]
     },
     "execution_count": 186,
     "metadata": {},
     "output_type": "execute_result"
    }
   ],
   "source": [
    "# mydict의 길이를 출력하세요.\n",
    "len(d)"
   ]
  },
  {
   "cell_type": "code",
   "execution_count": 187,
   "id": "5dae3ab7",
   "metadata": {},
   "outputs": [
    {
     "data": {
      "text/plain": [
       "4"
      ]
     },
     "execution_count": 187,
     "metadata": {},
     "output_type": "execute_result"
    }
   ],
   "source": [
    "# 'red'의 값을 출력하세요.\n",
    "d['red']"
   ]
  },
  {
   "cell_type": "code",
   "execution_count": 188,
   "id": "6e90ae4e",
   "metadata": {},
   "outputs": [],
   "source": [
    "# 'red'의 값을 10으로 수정하세요.\n",
    "d['red'] = 10"
   ]
  },
  {
   "cell_type": "code",
   "execution_count": 189,
   "id": "23a93364",
   "metadata": {},
   "outputs": [
    {
     "data": {
      "text/plain": [
       "dict_keys(['red', 'blue', 'green'])"
      ]
     },
     "execution_count": 189,
     "metadata": {},
     "output_type": "execute_result"
    }
   ],
   "source": [
    "# key값만 출력하세요\n",
    "d.keys()"
   ]
  },
  {
   "cell_type": "code",
   "execution_count": 190,
   "id": "214ae113",
   "metadata": {},
   "outputs": [
    {
     "data": {
      "text/plain": [
       "dict_values([10, 3, 1])"
      ]
     },
     "execution_count": 190,
     "metadata": {},
     "output_type": "execute_result"
    }
   ],
   "source": [
    "# value값만 출력하세요\n",
    "d.values()"
   ]
  },
  {
   "cell_type": "code",
   "execution_count": 191,
   "id": "549cbacd",
   "metadata": {},
   "outputs": [
    {
     "data": {
      "text/plain": [
       "dict_items([('red', 10), ('blue', 3), ('green', 1)])"
      ]
     },
     "execution_count": 191,
     "metadata": {},
     "output_type": "execute_result"
    }
   ],
   "source": [
    "# key와 value를 튜플로 출력하세요.\n",
    "d.items()"
   ]
  },
  {
   "cell_type": "code",
   "execution_count": 192,
   "id": "35dcbd1b",
   "metadata": {},
   "outputs": [
    {
     "data": {
      "text/plain": [
       "['blue', 'green', 'red']"
      ]
     },
     "execution_count": 192,
     "metadata": {},
     "output_type": "execute_result"
    }
   ],
   "source": [
    "# (key기준으로 정렬하세요.)\n",
    "sorted(d.items(), key= lambda x: x[0])\n",
    "sorted(d)"
   ]
  },
  {
   "cell_type": "code",
   "execution_count": 193,
   "id": "21cb8160",
   "metadata": {},
   "outputs": [
    {
     "data": {
      "text/plain": [
       "[('green', 1), ('blue', 3), ('red', 10)]"
      ]
     },
     "execution_count": 193,
     "metadata": {},
     "output_type": "execute_result"
    }
   ],
   "source": [
    "# (value기준으로 정렬하세요)\n",
    "sorted(d.items(), key = lambda x: x[1])"
   ]
  },
  {
   "cell_type": "code",
   "execution_count": 194,
   "id": "70acb6b2",
   "metadata": {},
   "outputs": [
    {
     "data": {
      "text/plain": [
       "3"
      ]
     },
     "execution_count": 194,
     "metadata": {},
     "output_type": "execute_result"
    }
   ],
   "source": [
    "# key 'blue'요소를 삭제하세요\n",
    "# del d['blue']\n",
    "d.pop('blue')"
   ]
  },
  {
   "cell_type": "code",
   "execution_count": 195,
   "id": "f575e851",
   "metadata": {},
   "outputs": [],
   "source": [
    "# key 'pink'요소 값을 출력하되 오류가 없도록 하세요\n",
    "d.get('pink')"
   ]
  },
  {
   "cell_type": "code",
   "execution_count": 196,
   "id": "1e3baca0",
   "metadata": {},
   "outputs": [
    {
     "data": {
      "text/plain": [
       "20"
      ]
     },
     "execution_count": 196,
     "metadata": {},
     "output_type": "execute_result"
    }
   ],
   "source": [
    "# key 'pink' 값을 출력하되 없으면, value 20으로 새로이 추가하세요\n",
    "d.setdefault('pink', 20)"
   ]
  },
  {
   "cell_type": "code",
   "execution_count": 197,
   "id": "02dd52b8",
   "metadata": {},
   "outputs": [
    {
     "data": {
      "text/plain": [
       "True"
      ]
     },
     "execution_count": 197,
     "metadata": {},
     "output_type": "execute_result"
    }
   ],
   "source": [
    "# value에 20이 있는지 확인하세요.\n",
    "20 in d.values()"
   ]
  },
  {
   "cell_type": "code",
   "execution_count": 198,
   "id": "af1ae7da",
   "metadata": {},
   "outputs": [],
   "source": [
    "# key는 'yellow'에 value는 30을 추가하세요.\n",
    "d['yellow'] = 30"
   ]
  },
  {
   "cell_type": "code",
   "execution_count": 199,
   "id": "f9cfba5a",
   "metadata": {},
   "outputs": [
    {
     "data": {
      "text/plain": [
       "{'red': 10, 'green': 1, 'pink': 20, 'yellow': 30, '파랑': 50, '빨강': 70}"
      ]
     },
     "execution_count": 199,
     "metadata": {},
     "output_type": "execute_result"
    }
   ],
   "source": [
    "# yourdict = {'파랑':50, '빨강':70}을 합하세요.\n",
    "d.update({'파랑':50, '빨강':70})\n",
    "d"
   ]
  },
  {
   "cell_type": "markdown",
   "id": "13dcdf82",
   "metadata": {},
   "source": [
    "### IF"
   ]
  },
  {
   "cell_type": "code",
   "execution_count": 1,
   "id": "6e253240",
   "metadata": {},
   "outputs": [],
   "source": [
    "# 조건식 => True / False\n",
    "\n",
    "# if 조건식:\n",
    "#     실행코드\n",
    "# elif 조건식:\n",
    "#     실행코드\n",
    "# elif 조건식:\n",
    "#     실행코드\n",
    "# else:\n",
    "#     실행코드\n"
   ]
  },
  {
   "cell_type": "code",
   "execution_count": 2,
   "id": "92ba197f",
   "metadata": {},
   "outputs": [
    {
     "name": "stdout",
     "output_type": "stream",
     "text": [
      "점수를 입력하세요75\n",
      "C학점입니다\n"
     ]
    }
   ],
   "source": [
    "# 점수를 입력받은 후 학점을 출력하시오\n",
    "\n",
    "score = int(input('점수를 입력하세요'))\n",
    "if score >= 90:\n",
    "    print(\"A학점입니다\")\n",
    "elif 90 > score >= 80:\n",
    "    print(\"B학점입니다\")\n",
    "elif 80> score >= 70:\n",
    "    print('C학점입니다')\n",
    "else:\n",
    "    print('D학점입니다')"
   ]
  },
  {
   "cell_type": "code",
   "execution_count": 5,
   "id": "0f821df7",
   "metadata": {},
   "outputs": [
    {
     "name": "stdout",
     "output_type": "stream",
     "text": [
      "비밀번호를 입력하세요:1111\n",
      "비밀번호가 틀립니다.\n"
     ]
    }
   ],
   "source": [
    "# 비밀번호 =1234 인 경우 비밀번호를 입력받은 후 맞으면 '환영합니다'. 틀리면\n",
    "# '비밀번호가 틀립니다'를 출력하시오\n",
    "\n",
    "pw = int(input(\"비밀번호를 입력하세요:\"))\n",
    "if pw == 1234:\n",
    "    print(\"환영합니다\")\n",
    "else:\n",
    "    print(\"비밀번호가 틀립니다.\")"
   ]
  },
  {
   "cell_type": "code",
   "execution_count": 6,
   "id": "2af26963",
   "metadata": {},
   "outputs": [
    {
     "name": "stdout",
     "output_type": "stream",
     "text": [
      "임의의 정수를 입력하세요12\n",
      "짝수입니다\n"
     ]
    }
   ],
   "source": [
    "# 임의의 정수를 입력받은 후 짝수면 '짝수입니다', 홀수면'홀수입니다'를 출력..\n",
    "\n",
    "num = int(input('임의의 정수를 입력하세요'))\n",
    "if num%2 == 0:\n",
    "    print('짝수입니다')\n",
    "else:\n",
    "    print('홀수입니다')"
   ]
  },
  {
   "cell_type": "code",
   "execution_count": 15,
   "id": "8eb0098b",
   "metadata": {},
   "outputs": [
    {
     "name": "stdout",
     "output_type": "stream",
     "text": [
      "주민번호를 입력하세오:950118-1111111\n",
      "나이는 27이고 성별은 남성입니다.\n"
     ]
    }
   ],
   "source": [
    "# 주민번호  @@@@@@-@@@@@@@\n",
    "# 주민번호를 입력받은 후 \"당신의 나이는 __이고, 성별은 __ 입니다.\"를 출력하시오\n",
    "\n",
    "ssn = input(\"주민번호를 입력하세오:\")\n",
    "lst = list(ssn)\n",
    "# 성별\n",
    "if ssn[7] == '1':\n",
    "    sex = \"남성\"\n",
    "#     print(\"성별은 {}입니다\".format(sex))\n",
    "    birth = int(ssn[0:2])\n",
    "    if 22-birth >0:\n",
    "        age = 22-birth\n",
    "        print(\"나이는 {} 이고 성별은 {}입니다.\".format(age,sex))\n",
    "    else:\n",
    "        age = 100+22-birth\n",
    "        print(\"나이는 {}이고 성별은 {}입니다.\".format(age,sex))\n",
    "else :\n",
    "    sex = \"여성\"\n",
    "    birth = int(ssn[0:2])\n",
    "    if 22-birth >0:\n",
    "        age = 22-birth\n",
    "        print(\"나이는 {} 이고 성별은 {}입니다.\".format(age,sex))\n",
    "    else:\n",
    "        age = 100+22-birth\n",
    "        print(\"나이는 {}이고 성별은 {}입니다.\".format(age,sex))\n",
    "    \n",
    "# 나이 올해 2022년\n",
    "# 22 -00\n",
    "# 100+22 - 95\n",
    "\n"
   ]
  },
  {
   "cell_type": "code",
   "execution_count": 17,
   "id": "2faa9469",
   "metadata": {},
   "outputs": [
    {
     "name": "stdout",
     "output_type": "stream",
     "text": [
      "주민번호를 입력하세요950118-111111\n",
      "당신의 나이는 27이고, 성별은 남성입니다.\n"
     ]
    }
   ],
   "source": [
    "#강사님 코드\n",
    "res_num = input(\"주민번호를 입력하세요\")\n",
    "\n",
    "birth_year = int(res_num[:2])\n",
    "gender = res_num.split('-')[1][0]\n",
    "\n",
    "#print(birth_year,gender)\n",
    "\n",
    "age = 2022-(birth_year +1900)   # 2000년생 이후는??\n",
    "def to_sex(gender):\n",
    "    if gender == '1':\n",
    "        return '남성'\n",
    "    if gender == '2':\n",
    "        return '여성'\n",
    "sex = to_sex(gender)\n",
    "\n",
    "print(\"당신의 나이는 {}이고, 성별은 {}입니다.\".format(age,sex))"
   ]
  },
  {
   "cell_type": "code",
   "execution_count": 24,
   "id": "2cb456a7",
   "metadata": {},
   "outputs": [
    {
     "name": "stdout",
     "output_type": "stream",
     "text": [
      "이름을 입력하세요:kim\n"
     ]
    },
    {
     "data": {
      "text/plain": [
       "{'Mary': 85, 'Sam': 95, 'Bob': 87, 'Han': 77, 'kim': '0'}"
      ]
     },
     "execution_count": 24,
     "metadata": {},
     "output_type": "execute_result"
    }
   ],
   "source": [
    "scores = {'Mary': 85, \"Sam\": 95, \"Bob\": 87, \"Han\": 77}\n",
    "\n",
    "# 이름을 입력받은 후 이름이 있으면 80점 이상이면 '합격입니다'\n",
    "# 이하이면 '불합격입니다'를 출력하시오, 이름이 없으면 값을 0으로 하여 추가하시오.\n",
    "\n",
    "name = input(\"이름을 입력하세요:\")\n",
    "# if scores[name] in scores: \n",
    "if name in scores:\n",
    "    if scores[name] >= 80:\n",
    "        print(\"합격입니다\")\n",
    "    else:\n",
    "        print(\"불합격입니다\")\n",
    "else:\n",
    "    scores.setdefault(name,'0')\n",
    "\n",
    "scores"
   ]
  },
  {
   "cell_type": "code",
   "execution_count": 238,
   "id": "8d8e773d",
   "metadata": {},
   "outputs": [
    {
     "name": "stdout",
     "output_type": "stream",
     "text": [
      "mine <= 가위, 바위, 보 중에서 하나를 선택하세요가위\n",
      "yours <= 가위, 바위, 보 중에서 하나를 선택하세요바위\n",
      "당신이 이겼습니다\n"
     ]
    }
   ],
   "source": [
    "# 가위, 바위 , 보 게임\n",
    "\n",
    "mine = input(\"mine <= 가위, 바위, 보 중에서 하나를 선택하세요\")\n",
    "yours = input(\"yours <= 가위, 바위, 보 중에서 하나를 선택하세요\")\n",
    "\n",
    "#비겼습니다.\n",
    "#내가 이겼습니다\n",
    "#당신이 이겼습니다.\n",
    "\n",
    "if mine == yours:\n",
    "    print(\"비겼습니다\")\n",
    "else:\n",
    "    if mine == '가위':\n",
    "        if yours == '보':\n",
    "            print(\"내가 이겼습니다\")\n",
    "        if yours == '바위':         # else 사용가능\n",
    "            print(\"당신이 이겼습니다\")\n",
    "    if mine == '바위' :\n",
    "        if yours== '가위':\n",
    "            print(\"내가 이겼습니다\")\n",
    "        if yours == '보':\n",
    "            print(\"당신이 이겼습니다\")\n",
    "    if mine == '보' :\n",
    "        if yours== '바위':\n",
    "            print(\"내가 이겼습니다\")\n",
    "        if yours == '가위':\n",
    "            print(\"당신이 이겼습니다\")\n",
    "\n",
    "        \n",
    "        "
   ]
  },
  {
   "cell_type": "code",
   "execution_count": null,
   "id": "16d81035",
   "metadata": {},
   "outputs": [],
   "source": [
    "## 가위, 바위, 보 게임 강사님 코드\n",
    "\n",
    "\n",
    "mine = input('mine <= 가위, 바위, 보 중에서 하나를 선택하세요')\n",
    "yours = input('yours <= 가위, 바위, 보 중에서 하나를 선택하세요')\n",
    "\n",
    "if mine == yours:\n",
    "    print('비겼습니다')\n",
    "    \n",
    "elif mine=='가위':\n",
    "    if yours == '보':\n",
    "        print('내가 이겼습니다')\n",
    "    else:\n",
    "        print('당신이 이겼습니다..')\n",
    "        \n",
    "elif mine=='보':\n",
    "    if yours == '주먹':\n",
    "        print('내가 이겼습니다')\n",
    "    else:\n",
    "        print('당신이 이겼습니다..')       \n",
    "        \n",
    "else:\n",
    "    if yours == '가위':\n",
    "        print('내가 이겼습니다')\n",
    "    else:\n",
    "        print('당신이 이겼습니다..')  \n"
   ]
  },
  {
   "cell_type": "code",
   "execution_count": 37,
   "id": "4fa95a44",
   "metadata": {},
   "outputs": [
    {
     "name": "stdout",
     "output_type": "stream",
     "text": [
      "나이를 입력하세요45\n",
      "젊으시군요\n"
     ]
    }
   ],
   "source": [
    "# 나이를 입력받은 후, 50대 이상이면 '중년이시군요', 20~45대이면 '젊으시군요', \n",
    "# 20세 미만이면 '어리시군요'를 출력.\n",
    "\n",
    "age = int(input('나이를 입력하세요'))\n",
    "\n",
    "if age >= 50:\n",
    "    print(\"중년이시군요\")\n",
    "if 50> age >=20:\n",
    "    print('젊으시군요')\n",
    "else:\n",
    "    print('어리시군요')\n",
    "    \n",
    "    \n"
   ]
  },
  {
   "cell_type": "markdown",
   "id": "e2859040",
   "metadata": {},
   "source": [
    "### 반복문"
   ]
  },
  {
   "cell_type": "code",
   "execution_count": 38,
   "id": "77fdf454",
   "metadata": {},
   "outputs": [],
   "source": [
    "# for 임시변수 in 군집형데이터 : \n",
    "#     실행코드\n",
    "#     실행코드\n",
    "#     ..."
   ]
  },
  {
   "cell_type": "code",
   "execution_count": 39,
   "id": "e28b1180",
   "metadata": {},
   "outputs": [],
   "source": [
    "# while 조건식:\n",
    "#     실행코드\n",
    "#     실행코드\n",
    "#     ..."
   ]
  },
  {
   "cell_type": "code",
   "execution_count": 41,
   "id": "65506f8d",
   "metadata": {},
   "outputs": [
    {
     "data": {
      "text/plain": [
       "8"
      ]
     },
     "execution_count": 41,
     "metadata": {},
     "output_type": "execute_result"
    }
   ],
   "source": [
    "# 모음의 숫자를 계산하시오..단, 모음은 'aeiouAEIOU'\n",
    "\n",
    "text = 'computational thinking'\n",
    "vowel = 'aeiousAEIOU'\n",
    "\n",
    "suma = 0\n",
    "\n",
    "for c in text:\n",
    "    if c in vowel:\n",
    "        suma += 1\n",
    "suma "
   ]
  },
  {
   "cell_type": "code",
   "execution_count": 45,
   "id": "e41601cf",
   "metadata": {},
   "outputs": [
    {
     "data": {
      "text/plain": [
       "22"
      ]
     },
     "execution_count": 45,
     "metadata": {},
     "output_type": "execute_result"
    }
   ],
   "source": [
    "# word의 길이가 4 이상인 단어의 단어길이 총합을 구하시오\n",
    "\n",
    "words = ['mountain', 'sea', 'sky', 'river', 'cloud', 'tree']\n",
    "lst = []\n",
    "for w in words:\n",
    "    if len(w)>=4:\n",
    "        lst.append(w)\n",
    "lst=''.join(lst)\n",
    "\n",
    "len(lst)"
   ]
  },
  {
   "cell_type": "code",
   "execution_count": 46,
   "id": "a38b36bc",
   "metadata": {},
   "outputs": [
    {
     "name": "stdout",
     "output_type": "stream",
     "text": [
      "mountain 8\n",
      "river 5\n",
      "cloud 5\n",
      "tree 4\n"
     ]
    },
    {
     "data": {
      "text/plain": [
       "22"
      ]
     },
     "execution_count": 46,
     "metadata": {},
     "output_type": "execute_result"
    }
   ],
   "source": [
    "# 강사님 코드\n",
    "words = ['mountain', 'sea', 'sky', 'river', 'cloud', 'tree']\n",
    "suma = 0\n",
    "for w in words:\n",
    "    if len(w)>=4:\n",
    "        print(w, len(w))\n",
    "        suma += len(w)\n",
    "suma\n",
    "        "
   ]
  },
  {
   "cell_type": "code",
   "execution_count": 47,
   "id": "51acccbb",
   "metadata": {},
   "outputs": [
    {
     "data": {
      "text/plain": [
       "[('a', '가'),\n",
       " ('a', '나'),\n",
       " ('a', '다'),\n",
       " ('a', '라'),\n",
       " ('b', '가'),\n",
       " ('b', '나'),\n",
       " ('b', '다'),\n",
       " ('b', '라'),\n",
       " ('c', '가'),\n",
       " ('c', '나'),\n",
       " ('c', '다'),\n",
       " ('c', '라'),\n",
       " ('d', '가'),\n",
       " ('d', '나'),\n",
       " ('d', '다'),\n",
       " ('d', '라')]"
      ]
     },
     "execution_count": 47,
     "metadata": {},
     "output_type": "execute_result"
    }
   ],
   "source": [
    "# 두 리스트 원소간의 모든 조합을 리스트에 담으시오\n",
    "#[('a', '가'),('a', '나')...('d','다'),('d','라')]\n",
    "\n",
    "L1 = ['a', 'b', 'c', 'd']\n",
    "L2 = ['가', '나', '다', '라']\n",
    "\n",
    "L3=[]\n",
    "for a in L1:\n",
    "    for k in L2:\n",
    "        L3.append((a,k))\n",
    "L3"
   ]
  },
  {
   "cell_type": "code",
   "execution_count": 77,
   "id": "c36d127b",
   "metadata": {},
   "outputs": [
    {
     "name": "stdout",
     "output_type": "stream",
     "text": [
      "110 100\n"
     ]
    }
   ],
   "source": [
    "# for 문과 while문을 이용해서 1부터 20까지의 정수에서 짝수의 합과 홀수의 합을 구하시오.\n",
    "\n",
    "#for문\n",
    "even_sum = 0\n",
    "odd_sum = 0\n",
    "\n",
    "for count in range(1,20+1):\n",
    "    if count%2 ==0:\n",
    "        even_sum += count\n",
    "    if count%2 ==1:\n",
    "        odd_sum += count\n",
    "        \n",
    "print(even_sum, odd_sum)"
   ]
  },
  {
   "cell_type": "code",
   "execution_count": 89,
   "id": "226a5739",
   "metadata": {},
   "outputs": [
    {
     "name": "stdout",
     "output_type": "stream",
     "text": [
      "110 100\n"
     ]
    }
   ],
   "source": [
    "#while\n",
    "even_sum = 0\n",
    "odd_sum = 0\n",
    "count = 0\n",
    "\n",
    "while count < 20:  # 20까지면 19까지 해야 20까지 더한다\n",
    "    count +=1\n",
    "    if count%2 == 0:\n",
    "        even_sum += count\n",
    "    else:\n",
    "        odd_sum += count\n",
    "   \n",
    "print(even_sum, odd_sum)"
   ]
  },
  {
   "cell_type": "code",
   "execution_count": 234,
   "id": "05bc81e7",
   "metadata": {},
   "outputs": [
    {
     "name": "stdout",
     "output_type": "stream",
     "text": [
      "4\n",
      "5\n",
      "6\n",
      "7\n"
     ]
    }
   ],
   "source": [
    "# break 와 continue 를 이용해서 1부터 10까지의 정수 중에서 4,5,6,7 만을 출력하시오\n",
    "\n",
    "suma = 0\n",
    "count = 0\n",
    "\n",
    "while count<10:\n",
    "    count += 1\n",
    "    if count <4:\n",
    "        continue\n",
    "    elif count<8:\n",
    "        print(count)\n",
    "    else:\n",
    "        break\n"
   ]
  },
  {
   "cell_type": "code",
   "execution_count": 90,
   "id": "143a63fa",
   "metadata": {},
   "outputs": [
    {
     "name": "stdout",
     "output_type": "stream",
     "text": [
      "점수를 입력하세요13\n",
      "점수를 입력하세요11\n",
      "점수를 입력하세요10\n",
      "점수를 입력하세요12\n",
      "점수를 입력하세요15\n",
      "12.2\n"
     ]
    }
   ],
   "source": [
    "# 점수를 5번 입력받은 후 평균점수를 출력하시오\n",
    "\n",
    "count = 0\n",
    "suma = 0\n",
    "\n",
    "while count < 5:\n",
    "    \n",
    "    score = int(input('점수를 입력하세요'))\n",
    "    suma += score\n",
    "    \n",
    "    count += 1\n",
    "print(suma/5)"
   ]
  },
  {
   "cell_type": "code",
   "execution_count": 82,
   "id": "9bfae6d0",
   "metadata": {},
   "outputs": [
    {
     "name": "stdout",
     "output_type": "stream",
     "text": [
      "임의의 수를 입력하세요5\n",
      "120\n"
     ]
    }
   ],
   "source": [
    "# 임의의 수를 입력받은 후 팩토리얼을 계산하는 코드를 작성하시오.\n",
    "# 5! = 5*4*3*2*1\n",
    "\n",
    "total =1\n",
    "num = int(input(\"임의의 수를 입력하세요\"))\n",
    "for n in range(1,num+1):\n",
    "    total *= n\n",
    "print(total)\n",
    "    "
   ]
  },
  {
   "cell_type": "code",
   "execution_count": 95,
   "id": "a12f5d48",
   "metadata": {},
   "outputs": [
    {
     "name": "stdout",
     "output_type": "stream",
     "text": [
      "임의의 정수를 입력하세요7\n"
     ]
    },
    {
     "data": {
      "text/plain": [
       "5040"
      ]
     },
     "execution_count": 95,
     "metadata": {},
     "output_type": "execute_result"
    }
   ],
   "source": [
    "#강사님\n",
    "num = int(input(\"임의의 정수를 입력하세요\"))\n",
    "result =1\n",
    "while num > 1:\n",
    "    result *= num\n",
    "    num -= 1\n",
    "result\n"
   ]
  },
  {
   "cell_type": "code",
   "execution_count": 87,
   "id": "b6542db6",
   "metadata": {},
   "outputs": [
    {
     "data": {
      "text/plain": [
       "120"
      ]
     },
     "execution_count": 87,
     "metadata": {},
     "output_type": "execute_result"
    }
   ],
   "source": [
    "import math\n",
    "math.factorial(5)"
   ]
  },
  {
   "cell_type": "code",
   "execution_count": 102,
   "id": "cdbb8e97",
   "metadata": {},
   "outputs": [
    {
     "name": "stdout",
     "output_type": "stream",
     "text": [
      "130\n",
      "70\n"
     ]
    }
   ],
   "source": [
    "L = [70, 100, 80, 120, 130]\n",
    "\n",
    "# 반복문을 이용해서 최대값과 최소값을 구하시오.\n",
    "\n",
    "Max_n = 0\n",
    "for n in L:\n",
    "    if n > Max_n:\n",
    "        Max_n = n\n",
    "print(Max_n)\n",
    "\n",
    "Min_n = Max_n\n",
    "for n in L:\n",
    "    if n < Min_n:\n",
    "        Min_n = n\n",
    "Min_n\n",
    "print(Min_n)"
   ]
  },
  {
   "cell_type": "code",
   "execution_count": 103,
   "id": "b77330c8",
   "metadata": {},
   "outputs": [
    {
     "name": "stdout",
     "output_type": "stream",
     "text": [
      "최대값 130, 최소값 70\n"
     ]
    }
   ],
   "source": [
    "L = [70, 100, 80, 120, 130]\n",
    "\n",
    "max_n = L[0]  #임의의 초기값을 잡아줌\n",
    "min_n = L[0]\n",
    "\n",
    "for n in L:\n",
    "    if max_n < n:\n",
    "        max_n = n\n",
    "    if min_n > n:\n",
    "        min_n = n\n",
    "print(\"최대값 {}, 최소값 {}\".format(max_n, min_n))"
   ]
  },
  {
   "cell_type": "code",
   "execution_count": 105,
   "id": "8967d1f2",
   "metadata": {},
   "outputs": [
    {
     "name": "stdout",
     "output_type": "stream",
     "text": [
      "*\n",
      "**\n",
      "***\n",
      "****\n",
      "*****\n"
     ]
    }
   ],
   "source": [
    "# *\n",
    "# **\n",
    "# ***\n",
    "# ****\n",
    "# *****\n",
    "# 를 출력하세요.\n",
    "\n",
    "for i in range(1,5+1):\n",
    "    print(\"*\"*i)"
   ]
  },
  {
   "cell_type": "code",
   "execution_count": 125,
   "id": "6bfda496",
   "metadata": {},
   "outputs": [
    {
     "name": "stdout",
     "output_type": "stream",
     "text": [
      "*****\n",
      " ****\n",
      "  ***\n",
      "   **\n",
      "    *\n"
     ]
    }
   ],
   "source": [
    "# *****\n",
    "#  ****\n",
    "#   ***\n",
    "#    **\n",
    "#     *\n",
    "\n",
    "for i in range(5):\n",
    "    print(\" \"*(i) + \"*\"*(5-i))"
   ]
  },
  {
   "cell_type": "code",
   "execution_count": 128,
   "id": "19544b24",
   "metadata": {},
   "outputs": [
    {
     "name": "stdout",
     "output_type": "stream",
     "text": [
      "      \n",
      "     *\n",
      "    **\n",
      "   ***\n",
      "  ****\n",
      " *****\n"
     ]
    }
   ],
   "source": [
    "#     *\n",
    "#    **\n",
    "#   ***\n",
    "#  ****\n",
    "# *****\n",
    "\n",
    "for i in range(6):\n",
    "    print(\" \"*(6-i) + \"*\"*i)\n",
    "    "
   ]
  },
  {
   "cell_type": "code",
   "execution_count": 132,
   "id": "5c8eeff1",
   "metadata": {},
   "outputs": [
    {
     "name": "stdout",
     "output_type": "stream",
     "text": [
      "*****\n",
      "****\n",
      "*** \n",
      "**  \n",
      "*   \n",
      "    \n"
     ]
    }
   ],
   "source": [
    "# *****\n",
    "# ****\n",
    "# ***\n",
    "# **\n",
    "# *\n",
    "\n",
    "for i in range(6):\n",
    "    print(\"*\"*(5-i) + \" \"*(i-1))"
   ]
  },
  {
   "cell_type": "code",
   "execution_count": 134,
   "id": "b77b429c",
   "metadata": {},
   "outputs": [
    {
     "name": "stdout",
     "output_type": "stream",
     "text": [
      "opttoa hnig"
     ]
    }
   ],
   "source": [
    "text = 'computational thinking'\n",
    "# 홀수번 인덱스만 출력하시오\n",
    "\n",
    "for i in range(1, len(text),2):\n",
    "    print(text[i],end = '')\n",
    "        "
   ]
  },
  {
   "cell_type": "code",
   "execution_count": 141,
   "id": "c0173453",
   "metadata": {},
   "outputs": [
    {
     "name": "stdout",
     "output_type": "stream",
     "text": [
      "\n",
      "1*1 =1 1*2 =2 1*3 =3 1*4 =4 1*5 =5 1*6 =6 1*7 =7 1*8 =8 1*9 =9 \n",
      "2*1 =2 2*2 =4 2*3 =6 2*4 =8 2*5 =10 2*6 =12 2*7 =14 2*8 =16 2*9 =18 \n",
      "3*1 =3 3*2 =6 3*3 =9 3*4 =12 3*5 =15 3*6 =18 3*7 =21 3*8 =24 3*9 =27 \n",
      "4*1 =4 4*2 =8 4*3 =12 4*4 =16 4*5 =20 4*6 =24 4*7 =28 4*8 =32 4*9 =36 \n",
      "5*1 =5 5*2 =10 5*3 =15 5*4 =20 5*5 =25 5*6 =30 5*7 =35 5*8 =40 5*9 =45 \n",
      "6*1 =6 6*2 =12 6*3 =18 6*4 =24 6*5 =30 6*6 =36 6*7 =42 6*8 =48 6*9 =54 \n",
      "7*1 =7 7*2 =14 7*3 =21 7*4 =28 7*5 =35 7*6 =42 7*7 =49 7*8 =56 7*9 =63 \n",
      "8*1 =8 8*2 =16 8*3 =24 8*4 =32 8*5 =40 8*6 =48 8*7 =56 8*8 =64 8*9 =72 \n",
      "9*1 =9 9*2 =18 9*3 =27 9*4 =36 9*5 =45 9*6 =54 9*7 =63 9*8 =72 9*9 =81 "
     ]
    }
   ],
   "source": [
    "# 구구단 출력하기\n",
    "for i in range(1,10):\n",
    "    print()\n",
    "    for j in range(1,10):\n",
    "        print(\"{}*{} ={}\".format(i,j,i*j), end = ' ')\n"
   ]
  },
  {
   "cell_type": "markdown",
   "id": "8e1e536f",
   "metadata": {},
   "source": [
    "### File"
   ]
  },
  {
   "cell_type": "code",
   "execution_count": 200,
   "id": "7e4b6dba",
   "metadata": {},
   "outputs": [],
   "source": [
    "# 1. 파일을 연다 - open(), 모드를 설정 : 'r', 'w'\n",
    "# 2. 파일을 읽거나 쓴다 - read(), write()\n",
    "# 3. 파일을 닫는다 - close()\n",
    "\n",
    "# f = open(\"filename\", 'r')\n",
    "# text = f.read()\n",
    "# f.close()\n",
    "\n",
    "# with open(\"filename\", 'r') as f:\n",
    "# text = f.read()\n",
    "\n",
    "# f = open('filename','w')\n",
    "# f.write(text)\n",
    "# f.close()\n",
    "\n",
    "# with open(\"filename\",'w') as f:\n",
    "#     f.write(text)\n"
   ]
  },
  {
   "cell_type": "code",
   "execution_count": 203,
   "id": "0d344d39",
   "metadata": {},
   "outputs": [],
   "source": [
    "# 뉴스 텍스트를 'news.txt' 파일로 저장하세요\n",
    "news = \"\"\"\n",
    "홍남기 부총리 겸 기획재정부 장관은 오늘(17일) 국세청에 \"올해는 부동산 시장 안정을 위한 중요한 전환기적 시점인 만큼 부동산 탈세에 엄정한 자세로 대응해달라\"고 강조했습니다.\n",
    "홍 부총리는 이날 정부세종청사에서 김대지 국세청장, 임재현 관세청장, 김정우 조달청장, 류근관 통계청장 등 4개 외청장과 함께 외청장 회의를 열고 이같이 밝혔습니다.\n",
    "홍 부총리는 또 \"세무조사는 국민들의 정상적인 경제활동에 부담이 되지 않도록 세심하게 운영하고, 코로나19 피해 업종을 중심으로 세금 납부 기한 연장 등 세정 지원을 지속해서 추진해달라\"고 국세청에 당부했습니다.\n",
    "관세청에는 바이오·정보기술(IT) 등 국가 핵심 산업 관련 원재료의 신속한 통관과 주요 수입 품목 수급이 불안해질 때 즉시 대응할 수 있는 통관 지원체계 구축을 주문했습니다.\n",
    "아울러 해외 직구 등 전자상거래 과정에서 수입 절차를 간소화하는 등 이용자 편의성을 최대한 높여달라고 요청했습니다.\n",
    "조달청에는 주요 물품 수급에 대응하기 위한 긴급구매 소요 기간 단축과 신규 비축 품목 추가를 지시했습니다.\n",
    "통계청에는 가구 분화와 고령화 등 사회 변화에 대응해 정책 통계를 개발, 개선하고 데이터 활용 확대를 위한 인프라 구축을 추진하라고 당부했습니다.\n",
    "\"\"\"\n",
    "f = open('news.txt','w')  #txt 로 저장하기\n",
    "f.write(news)\n",
    "f.close()\n",
    "\n",
    "#with open('news.txt','w') as f:\n",
    "#f.write(news)"
   ]
  },
  {
   "cell_type": "markdown",
   "id": "82de6a21",
   "metadata": {},
   "source": [
    "### with open('filename', 'r') as f:\n",
    "    1. text = f.read()        -전체 text를 한번에 읽는다\n",
    "    2. text = f.readlines()   - 한 문장씩 리스트에 담아서 출력\n",
    "    3. text = f.readline()    - 한 문장을 읽는다\n",
    "    4. for line as f:         - 파일 객체를 for을 이용해서 한 문장씩 출력"
   ]
  },
  {
   "cell_type": "code",
   "execution_count": 209,
   "id": "b187e70e",
   "metadata": {
    "collapsed": true
   },
   "outputs": [
    {
     "data": {
      "text/plain": [
       "'\\n홍남기 부총리 겸 기획재정부 장관은 오늘(17일) 국세청에 \"올해는 부동산 시장 안정을 위한 중요한 전환기적 시점인 만큼 부동산 탈세에 엄정한 자세로 대응해달라\"고 강조했습니다.\\n홍 부총리는 이날 정부세종청사에서 김대지 국세청장, 임재현 관세청장, 김정우 조달청장, 류근관 통계청장 등 4개 외청장과 함께 외청장 회의를 열고 이같이 밝혔습니다.\\n홍 부총리는 또 \"세무조사는 국민들의 정상적인 경제활동에 부담이 되지 않도록 세심하게 운영하고, 코로나19 피해 업종을 중심으로 세금 납부 기한 연장 등 세정 지원을 지속해서 추진해달라\"고 국세청에 당부했습니다.\\n관세청에는 바이오·정보기술(IT) 등 국가 핵심 산업 관련 원재료의 신속한 통관과 주요 수입 품목 수급이 불안해질 때 즉시 대응할 수 있는 통관 지원체계 구축을 주문했습니다.\\n아울러 해외 직구 등 전자상거래 과정에서 수입 절차를 간소화하는 등 이용자 편의성을 최대한 높여달라고 요청했습니다.\\n조달청에는 주요 물품 수급에 대응하기 위한 긴급구매 소요 기간 단축과 신규 비축 품목 추가를 지시했습니다.\\n통계청에는 가구 분화와 고령화 등 사회 변화에 대응해 정책 통계를 개발, 개선하고 데이터 활용 확대를 위한 인프라 구축을 추진하라고 당부했습니다.\\n'"
      ]
     },
     "execution_count": 209,
     "metadata": {},
     "output_type": "execute_result"
    }
   ],
   "source": [
    "# 'news.txt' 파일을 4가지 다른 방식으로 열어서 출력하시오.\n",
    "#1.\n",
    "f = open('news.txt','r')\n",
    "text = f.read()\n",
    "f.close()\n",
    "text"
   ]
  },
  {
   "cell_type": "code",
   "execution_count": 211,
   "id": "a5969101",
   "metadata": {
    "collapsed": true
   },
   "outputs": [
    {
     "data": {
      "text/plain": [
       "'\\n홍남기 부총리 겸 기획재정부 장관은 오늘(17일) 국세청에 \"올해는 부동산 시장 안정을 위한 중요한 전환기적 시점인 만큼 부동산 탈세에 엄정한 자세로 대응해달라\"고 강조했습니다.\\n홍 부총리는 이날 정부세종청사에서 김대지 국세청장, 임재현 관세청장, 김정우 조달청장, 류근관 통계청장 등 4개 외청장과 함께 외청장 회의를 열고 이같이 밝혔습니다.\\n홍 부총리는 또 \"세무조사는 국민들의 정상적인 경제활동에 부담이 되지 않도록 세심하게 운영하고, 코로나19 피해 업종을 중심으로 세금 납부 기한 연장 등 세정 지원을 지속해서 추진해달라\"고 국세청에 당부했습니다.\\n관세청에는 바이오·정보기술(IT) 등 국가 핵심 산업 관련 원재료의 신속한 통관과 주요 수입 품목 수급이 불안해질 때 즉시 대응할 수 있는 통관 지원체계 구축을 주문했습니다.\\n아울러 해외 직구 등 전자상거래 과정에서 수입 절차를 간소화하는 등 이용자 편의성을 최대한 높여달라고 요청했습니다.\\n조달청에는 주요 물품 수급에 대응하기 위한 긴급구매 소요 기간 단축과 신규 비축 품목 추가를 지시했습니다.\\n통계청에는 가구 분화와 고령화 등 사회 변화에 대응해 정책 통계를 개발, 개선하고 데이터 활용 확대를 위한 인프라 구축을 추진하라고 당부했습니다.\\n'"
      ]
     },
     "execution_count": 211,
     "metadata": {},
     "output_type": "execute_result"
    }
   ],
   "source": [
    "#1 with open 사용\n",
    "with open('news.txt','r') as f:\n",
    "    text = f.read()\n",
    "text\n"
   ]
  },
  {
   "cell_type": "code",
   "execution_count": 231,
   "id": "d1aba387",
   "metadata": {
    "collapsed": true
   },
   "outputs": [
    {
     "data": {
      "text/plain": [
       "['\\n',\n",
       " '홍남기 부총리 겸 기획재정부 장관은 오늘(17일) 국세청에 \"올해는 부동산 시장 안정을 위한 중요한 전환기적 시점인 만큼 부동산 탈세에 엄정한 자세로 대응해달라\"고 강조했습니다.\\n',\n",
       " '홍 부총리는 이날 정부세종청사에서 김대지 국세청장, 임재현 관세청장, 김정우 조달청장, 류근관 통계청장 등 4개 외청장과 함께 외청장 회의를 열고 이같이 밝혔습니다.\\n',\n",
       " '홍 부총리는 또 \"세무조사는 국민들의 정상적인 경제활동에 부담이 되지 않도록 세심하게 운영하고, 코로나19 피해 업종을 중심으로 세금 납부 기한 연장 등 세정 지원을 지속해서 추진해달라\"고 국세청에 당부했습니다.\\n',\n",
       " '관세청에는 바이오·정보기술(IT) 등 국가 핵심 산업 관련 원재료의 신속한 통관과 주요 수입 품목 수급이 불안해질 때 즉시 대응할 수 있는 통관 지원체계 구축을 주문했습니다.\\n',\n",
       " '아울러 해외 직구 등 전자상거래 과정에서 수입 절차를 간소화하는 등 이용자 편의성을 최대한 높여달라고 요청했습니다.\\n',\n",
       " '조달청에는 주요 물품 수급에 대응하기 위한 긴급구매 소요 기간 단축과 신규 비축 품목 추가를 지시했습니다.\\n',\n",
       " '통계청에는 가구 분화와 고령화 등 사회 변화에 대응해 정책 통계를 개발, 개선하고 데이터 활용 확대를 위한 인프라 구축을 추진하라고 당부했습니다.\\n']"
      ]
     },
     "execution_count": 231,
     "metadata": {},
     "output_type": "execute_result"
    }
   ],
   "source": [
    "#2 . readlines()\n",
    "f = open('news.txt', 'r')\n",
    "lines = f.readlines()  # 문장 하나씩  리스트에 담겨서 나옴\n",
    "f.close()\n",
    "lines"
   ]
  },
  {
   "cell_type": "code",
   "execution_count": 229,
   "id": "24cf6196",
   "metadata": {
    "collapsed": true
   },
   "outputs": [
    {
     "name": "stdout",
     "output_type": "stream",
     "text": [
      "\n",
      "\n",
      "홍남기 부총리 겸 기획재정부 장관은 오늘(17일) 국세청에 \"올해는 부동산 시장 안정을 위한 중요한 전환기적 시점인 만큼 부동산 탈세에 엄정한 자세로 대응해달라\"고 강조했습니다.\n",
      "\n",
      "홍 부총리는 이날 정부세종청사에서 김대지 국세청장, 임재현 관세청장, 김정우 조달청장, 류근관 통계청장 등 4개 외청장과 함께 외청장 회의를 열고 이같이 밝혔습니다.\n",
      "\n",
      "홍 부총리는 또 \"세무조사는 국민들의 정상적인 경제활동에 부담이 되지 않도록 세심하게 운영하고, 코로나19 피해 업종을 중심으로 세금 납부 기한 연장 등 세정 지원을 지속해서 추진해달라\"고 국세청에 당부했습니다.\n",
      "\n",
      "관세청에는 바이오·정보기술(IT) 등 국가 핵심 산업 관련 원재료의 신속한 통관과 주요 수입 품목 수급이 불안해질 때 즉시 대응할 수 있는 통관 지원체계 구축을 주문했습니다.\n",
      "\n",
      "아울러 해외 직구 등 전자상거래 과정에서 수입 절차를 간소화하는 등 이용자 편의성을 최대한 높여달라고 요청했습니다.\n",
      "\n",
      "조달청에는 주요 물품 수급에 대응하기 위한 긴급구매 소요 기간 단축과 신규 비축 품목 추가를 지시했습니다.\n",
      "\n",
      "통계청에는 가구 분화와 고령화 등 사회 변화에 대응해 정책 통계를 개발, 개선하고 데이터 활용 확대를 위한 인프라 구축을 추진하라고 당부했습니다.\n",
      "\n"
     ]
    }
   ],
   "source": [
    "#3. readline()\n",
    "f = open('news.txt', 'r')\n",
    "text = f.readline()  # 한줄 읽고 저장\n",
    "\n",
    "while text:\n",
    "    print(text)\n",
    "    text = f.readline()  # 다음 줄\n",
    "f.close()\n",
    "\n"
   ]
  },
  {
   "cell_type": "code",
   "execution_count": 228,
   "id": "57eca62e",
   "metadata": {
    "collapsed": true
   },
   "outputs": [
    {
     "name": "stdout",
     "output_type": "stream",
     "text": [
      "\n",
      "\n",
      "홍남기 부총리 겸 기획재정부 장관은 오늘(17일) 국세청에 \"올해는 부동산 시장 안정을 위한 중요한 전환기적 시점인 만큼 부동산 탈세에 엄정한 자세로 대응해달라\"고 강조했습니다.\n",
      "\n",
      "홍 부총리는 이날 정부세종청사에서 김대지 국세청장, 임재현 관세청장, 김정우 조달청장, 류근관 통계청장 등 4개 외청장과 함께 외청장 회의를 열고 이같이 밝혔습니다.\n",
      "\n",
      "홍 부총리는 또 \"세무조사는 국민들의 정상적인 경제활동에 부담이 되지 않도록 세심하게 운영하고, 코로나19 피해 업종을 중심으로 세금 납부 기한 연장 등 세정 지원을 지속해서 추진해달라\"고 국세청에 당부했습니다.\n",
      "\n",
      "관세청에는 바이오·정보기술(IT) 등 국가 핵심 산업 관련 원재료의 신속한 통관과 주요 수입 품목 수급이 불안해질 때 즉시 대응할 수 있는 통관 지원체계 구축을 주문했습니다.\n",
      "\n",
      "아울러 해외 직구 등 전자상거래 과정에서 수입 절차를 간소화하는 등 이용자 편의성을 최대한 높여달라고 요청했습니다.\n",
      "\n",
      "조달청에는 주요 물품 수급에 대응하기 위한 긴급구매 소요 기간 단축과 신규 비축 품목 추가를 지시했습니다.\n",
      "\n",
      "통계청에는 가구 분화와 고령화 등 사회 변화에 대응해 정책 통계를 개발, 개선하고 데이터 활용 확대를 위한 인프라 구축을 추진하라고 당부했습니다.\n",
      "\n"
     ]
    }
   ],
   "source": [
    "#4.\n",
    "f = open('news.txt', 'r')\n",
    "for line in f:\n",
    "    print(line)"
   ]
  },
  {
   "cell_type": "code",
   "execution_count": null,
   "id": "a0fe445d",
   "metadata": {},
   "outputs": [],
   "source": []
  }
 ],
 "metadata": {
  "kernelspec": {
   "display_name": "Python 3 (ipykernel)",
   "language": "python",
   "name": "python3"
  },
  "language_info": {
   "codemirror_mode": {
    "name": "ipython",
    "version": 3
   },
   "file_extension": ".py",
   "mimetype": "text/x-python",
   "name": "python",
   "nbconvert_exporter": "python",
   "pygments_lexer": "ipython3",
   "version": "3.9.7"
  }
 },
 "nbformat": 4,
 "nbformat_minor": 5
}
