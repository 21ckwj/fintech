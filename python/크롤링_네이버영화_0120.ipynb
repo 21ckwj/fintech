{
 "cells": [
  {
   "cell_type": "code",
   "execution_count": 1,
   "id": "5c106c18",
   "metadata": {},
   "outputs": [],
   "source": [
    "# 네이버 영화 평점 및 후기 크롤링\n",
    "\n",
    "# https://movie.naver.com/movie/point/af/list.naver"
   ]
  },
  {
   "cell_type": "code",
   "execution_count": 2,
   "id": "39504c66",
   "metadata": {},
   "outputs": [],
   "source": [
    "# 10 page 까지\n",
    "# 제목, 평점, 후기, 날짜"
   ]
  },
  {
   "cell_type": "code",
   "execution_count": 3,
   "id": "2fad963c",
   "metadata": {},
   "outputs": [],
   "source": [
    "import requests\n",
    "from bs4 import BeautifulSoup"
   ]
  },
  {
   "cell_type": "code",
   "execution_count": 5,
   "id": "772cbfb1",
   "metadata": {},
   "outputs": [],
   "source": [
    "url = 'https://movie.naver.com/movie/point/af/list.naver'\n",
    "\n",
    "res = requests.get(url)\n",
    "\n",
    "soup = BeautifulSoup(res.text, 'html.parser')"
   ]
  },
  {
   "cell_type": "code",
   "execution_count": 6,
   "id": "3cb9af00",
   "metadata": {},
   "outputs": [],
   "source": [
    "path = 'tr:nth-child(1) > td.title > a'\n",
    "tags = soup.select(path)"
   ]
  },
  {
   "cell_type": "code",
   "execution_count": 7,
   "id": "c1bfe58e",
   "metadata": {},
   "outputs": [
    {
     "data": {
      "text/plain": [
       "[<a class=\"movie color_b\" href=\"?st=mcode&amp;sword=186233&amp;target=after\">특송</a>,\n",
       " <a class=\"report\" href=\"#\" onclick=\"report('6ivr****', 'BOcmVc2ERoDUY2ibRx2O3kGB5UzLjsB1zCVtti6A8Hw=', '간만에 재미난 영화를 만났네 액션도 연기도 너무 좋았고 독보적이었다', '17918701', 'point_after');\" style=\"color:#8F8F8F\" title=\"새 창\">신고</a>]"
      ]
     },
     "execution_count": 7,
     "metadata": {},
     "output_type": "execute_result"
    }
   ],
   "source": [
    "tags"
   ]
  },
  {
   "cell_type": "code",
   "execution_count": 8,
   "id": "5a22f1ef",
   "metadata": {},
   "outputs": [
    {
     "data": {
      "text/plain": [
       "'특송'"
      ]
     },
     "execution_count": 8,
     "metadata": {},
     "output_type": "execute_result"
    }
   ],
   "source": [
    "# Title\n",
    "tags[0].text"
   ]
  },
  {
   "cell_type": "code",
   "execution_count": 70,
   "id": "ef9f22a1",
   "metadata": {},
   "outputs": [
    {
     "data": {
      "text/plain": [
       "[<a class=\"movie color_b\" href=\"?st=mcode&amp;sword=208077&amp;target=after\">스파이더맨: 노 웨이 홈</a>,\n",
       " <a class=\"report\" href=\"#\" onclick=\"report('jeon****', 'jd6RAOVL1N4pt2xTLt201HodDuX+gwWSlJ7dgPwbyl8=', '재밌게 잘 봤습니다. 긴 영화 감사합니다.', '17917135', 'point_after');\" style=\"color:#8F8F8F\" title=\"새 창\">신고</a>,\n",
       " <a class=\"movie color_b\" href=\"?st=mcode&amp;sword=179158&amp;target=after\">유열의 음악앨범</a>,\n",
       " <a class=\"report\" href=\"#\" onclick=\"report('jdb_****', 'G21l6ndSpT+8kVUqZ46+I6vUZ8ZxIrsr9JFgPnBP+Zw=', '이걸 왜 이제 봤나 싶을정도로 여운 오지게 남습니다 평이 안좋던데 왜 안좋은지 모르겠음..무엇보다 정해인님이 크', '17917134', 'point_after');\" style=\"color:#8F8F8F\" title=\"새 창\">신고</a>,\n",
       " <a class=\"movie color_b\" href=\"?st=mcode&amp;sword=190400&amp;target=after\">경관의 피</a>,\n",
       " <a class=\"report\" href=\"#\" onclick=\"report('jsw1****', 'QUIEl00leTkdpyQY2KRCl8Hmv6goHScKTOBRNfPHon0=', '', '17917133', 'point_after');\" style=\"color:#8F8F8F\" title=\"새 창\">신고</a>,\n",
       " <a class=\"movie color_b\" href=\"?st=mcode&amp;sword=187320&amp;target=after\">씽2게더</a>,\n",
       " <a class=\"report\" href=\"#\" onclick=\"report('jink****', 'UuBRapk7AAwD9cjE0MRJrTyu25foLYTZElOx5nFx6a0=', '', '17917132', 'point_after');\" style=\"color:#8F8F8F\" title=\"새 창\">신고</a>,\n",
       " <a class=\"movie color_b\" href=\"?st=mcode&amp;sword=28876&amp;target=after\">화양연화</a>,\n",
       " <a class=\"report\" href=\"#\" onclick=\"report('piep****', 'D44/kd2tv7XMhJjtTYjrI/HUhrhdkXrd7wBV91Wd384=', '장만옥씨의 연기, 눈빛은 항상 마음이 가게 만드는 무언가 있습니다. 중간중간 나오는 첼로 연주 들어간 음악, 스페인어 노래도 좋았습니다. 그리고 이 대사가 가장 인상적이었습니다. &amp;amp;#34;두 사람의 시작이 궁금했는데, 이제 알았죠. 많은 일이 나도 모르게 시작되요.&amp;amp;#34;', '17917131', 'point_after');\" style=\"color:#8F8F8F\" title=\"새 창\">신고</a>,\n",
       " <a class=\"movie color_b\" href=\"?st=mcode&amp;sword=208077&amp;target=after\">스파이더맨: 노 웨이 홈</a>,\n",
       " <a class=\"report\" href=\"#\" onclick=\"report('lims****', '4rFBGBlOu4/zu5OxQifeJ3d3Awy06gbPIPviSxQGpAk=', '역쉬 스파이더맨, 늦게 봤지만 기대를 저버리지 않네요', '17917130', 'point_after');\" style=\"color:#8F8F8F\" title=\"새 창\">신고</a>,\n",
       " <a class=\"movie color_b\" href=\"?st=mcode&amp;sword=22841&amp;target=after\">장한몽</a>,\n",
       " <a class=\"report\" href=\"#\" onclick=\"report('dent****', 'MDKIPXyWHotCKfTaLwtShpAKSIeO39IMbeOfHj0oTTU=', '이 영화의 평점은 10점입니다.', '17917129', 'point_after');\" style=\"color:#8F8F8F\" title=\"새 창\">신고</a>,\n",
       " <a class=\"movie color_b\" href=\"?st=mcode&amp;sword=191545&amp;target=after\">라스트 듀얼: 최후의 결투</a>,\n",
       " <a class=\"report\" href=\"#\" onclick=\"report('cine****', '+No0+FhM6aRBOfDhw3jvymr6u2wPfVFQhwbBqqfqhME=', '인간의 의식은 과연 진화하는가?  현재와 다를 것 없는 기시감. 구로자와의 라쇼몽에 약간 빚을 졌다. ', '17917128', 'point_after');\" style=\"color:#8F8F8F\" title=\"새 창\">신고</a>,\n",
       " <a class=\"movie color_b\" href=\"?st=mcode&amp;sword=187320&amp;target=after\">씽2게더</a>,\n",
       " <a class=\"report\" href=\"#\" onclick=\"report('kvic****', 'dJXQt34agjQXQsm4S6mE8Oqci1Pm+x09M33yg6rncTQ=', '보다 울었음 노래도 너무 좋고 스토리도 좋았습니다 그래픽 개쩝니다', '17917127', 'point_after');\" style=\"color:#8F8F8F\" title=\"새 창\">신고</a>,\n",
       " <a class=\"movie color_b\" href=\"?st=mcode&amp;sword=196984&amp;target=after\">도쿄 리벤저스</a>,\n",
       " <a class=\"report\" href=\"#\" onclick=\"report('worl****', '+gHeBtbVAb17H9SOlf75AtylP5lyXzeArTIZoX5ZR8s=', '여자들은 좀 싫어할 수 있겠지만 남자들은 좋아할 듯한 도쿄리벤저스!! 히나 너무이뻐요..', '17917126', 'point_after');\" style=\"color:#8F8F8F\" title=\"새 창\">신고</a>]"
      ]
     },
     "execution_count": 70,
     "metadata": {},
     "output_type": "execute_result"
    }
   ],
   "source": [
    "# 평점\n",
    "path1 = 'tr > td.title > div > em'\n",
    "tags1 = soup.select(path1)\n",
    "tags"
   ]
  },
  {
   "cell_type": "code",
   "execution_count": 71,
   "id": "58c8debe",
   "metadata": {},
   "outputs": [
    {
     "data": {
      "text/plain": [
       "'스파이더맨: 노 웨이 홈'"
      ]
     },
     "execution_count": 71,
     "metadata": {},
     "output_type": "execute_result"
    }
   ],
   "source": [
    "tags[0].text"
   ]
  },
  {
   "cell_type": "code",
   "execution_count": 92,
   "id": "c2781447",
   "metadata": {},
   "outputs": [
    {
     "data": {
      "text/plain": [
       "[<a class=\"movie color_b\" href=\"?st=mcode&amp;sword=208077&amp;target=after\">스파이더맨: 노 웨이 홈</a>,\n",
       " <a class=\"report\" href=\"#\" onclick=\"report('jeon****', 'jd6RAOVL1N4pt2xTLt201HodDuX+gwWSlJ7dgPwbyl8=', '재밌게 잘 봤습니다. 긴 영화 감사합니다.', '17917135', 'point_after');\" style=\"color:#8F8F8F\" title=\"새 창\">신고</a>,\n",
       " <a class=\"movie color_b\" href=\"?st=mcode&amp;sword=179158&amp;target=after\">유열의 음악앨범</a>,\n",
       " <a class=\"report\" href=\"#\" onclick=\"report('jdb_****', 'G21l6ndSpT+8kVUqZ46+I6vUZ8ZxIrsr9JFgPnBP+Zw=', '이걸 왜 이제 봤나 싶을정도로 여운 오지게 남습니다 평이 안좋던데 왜 안좋은지 모르겠음..무엇보다 정해인님이 크', '17917134', 'point_after');\" style=\"color:#8F8F8F\" title=\"새 창\">신고</a>,\n",
       " <a class=\"movie color_b\" href=\"?st=mcode&amp;sword=190400&amp;target=after\">경관의 피</a>,\n",
       " <a class=\"report\" href=\"#\" onclick=\"report('jsw1****', 'QUIEl00leTkdpyQY2KRCl8Hmv6goHScKTOBRNfPHon0=', '', '17917133', 'point_after');\" style=\"color:#8F8F8F\" title=\"새 창\">신고</a>,\n",
       " <a class=\"movie color_b\" href=\"?st=mcode&amp;sword=187320&amp;target=after\">씽2게더</a>,\n",
       " <a class=\"report\" href=\"#\" onclick=\"report('jink****', 'UuBRapk7AAwD9cjE0MRJrTyu25foLYTZElOx5nFx6a0=', '', '17917132', 'point_after');\" style=\"color:#8F8F8F\" title=\"새 창\">신고</a>,\n",
       " <a class=\"movie color_b\" href=\"?st=mcode&amp;sword=28876&amp;target=after\">화양연화</a>,\n",
       " <a class=\"report\" href=\"#\" onclick=\"report('piep****', 'D44/kd2tv7XMhJjtTYjrI/HUhrhdkXrd7wBV91Wd384=', '장만옥씨의 연기, 눈빛은 항상 마음이 가게 만드는 무언가 있습니다. 중간중간 나오는 첼로 연주 들어간 음악, 스페인어 노래도 좋았습니다. 그리고 이 대사가 가장 인상적이었습니다. &amp;amp;#34;두 사람의 시작이 궁금했는데, 이제 알았죠. 많은 일이 나도 모르게 시작되요.&amp;amp;#34;', '17917131', 'point_after');\" style=\"color:#8F8F8F\" title=\"새 창\">신고</a>,\n",
       " <a class=\"movie color_b\" href=\"?st=mcode&amp;sword=208077&amp;target=after\">스파이더맨: 노 웨이 홈</a>,\n",
       " <a class=\"report\" href=\"#\" onclick=\"report('lims****', '4rFBGBlOu4/zu5OxQifeJ3d3Awy06gbPIPviSxQGpAk=', '역쉬 스파이더맨, 늦게 봤지만 기대를 저버리지 않네요', '17917130', 'point_after');\" style=\"color:#8F8F8F\" title=\"새 창\">신고</a>,\n",
       " <a class=\"movie color_b\" href=\"?st=mcode&amp;sword=22841&amp;target=after\">장한몽</a>,\n",
       " <a class=\"report\" href=\"#\" onclick=\"report('dent****', 'MDKIPXyWHotCKfTaLwtShpAKSIeO39IMbeOfHj0oTTU=', '이 영화의 평점은 10점입니다.', '17917129', 'point_after');\" style=\"color:#8F8F8F\" title=\"새 창\">신고</a>,\n",
       " <a class=\"movie color_b\" href=\"?st=mcode&amp;sword=191545&amp;target=after\">라스트 듀얼: 최후의 결투</a>,\n",
       " <a class=\"report\" href=\"#\" onclick=\"report('cine****', '+No0+FhM6aRBOfDhw3jvymr6u2wPfVFQhwbBqqfqhME=', '인간의 의식은 과연 진화하는가?  현재와 다를 것 없는 기시감. 구로자와의 라쇼몽에 약간 빚을 졌다. ', '17917128', 'point_after');\" style=\"color:#8F8F8F\" title=\"새 창\">신고</a>,\n",
       " <a class=\"movie color_b\" href=\"?st=mcode&amp;sword=187320&amp;target=after\">씽2게더</a>,\n",
       " <a class=\"report\" href=\"#\" onclick=\"report('kvic****', 'dJXQt34agjQXQsm4S6mE8Oqci1Pm+x09M33yg6rncTQ=', '보다 울었음 노래도 너무 좋고 스토리도 좋았습니다 그래픽 개쩝니다', '17917127', 'point_after');\" style=\"color:#8F8F8F\" title=\"새 창\">신고</a>,\n",
       " <a class=\"movie color_b\" href=\"?st=mcode&amp;sword=196984&amp;target=after\">도쿄 리벤저스</a>,\n",
       " <a class=\"report\" href=\"#\" onclick=\"report('worl****', '+gHeBtbVAb17H9SOlf75AtylP5lyXzeArTIZoX5ZR8s=', '여자들은 좀 싫어할 수 있겠지만 남자들은 좋아할 듯한 도쿄리벤저스!! 히나 너무이뻐요..', '17917126', 'point_after');\" style=\"color:#8F8F8F\" title=\"새 창\">신고</a>]"
      ]
     },
     "execution_count": 92,
     "metadata": {},
     "output_type": "execute_result"
    }
   ],
   "source": [
    "# 후기  # 직접 하나씩 찾아 들어가서 찾아보고 -> \n",
    "path = 'tr > td.title > a'\n",
    "tags = soup.select(path)\n",
    "tags"
   ]
  },
  {
   "cell_type": "code",
   "execution_count": 100,
   "id": "93e6b11f",
   "metadata": {},
   "outputs": [
    {
     "data": {
      "text/plain": [
       "\"report('jeon****', 'jd6RAOVL1N4pt2xTLt201HodDuX+gwWSlJ7dgPwbyl8=', '재밌게 잘 봤습니다. 긴 영화 감사합니다.', '17917135', 'point_after');\""
      ]
     },
     "execution_count": 100,
     "metadata": {},
     "output_type": "execute_result"
    }
   ],
   "source": [
    "tags[1]['onclick'] "
   ]
  },
  {
   "cell_type": "code",
   "execution_count": 9,
   "id": "5854e8d4",
   "metadata": {},
   "outputs": [
    {
     "data": {
      "text/plain": [
       "[\"report('6ivr****'\",\n",
       " \" 'BOcmVc2ERoDUY2ibRx2O3kGB5UzLjsB1zCVtti6A8Hw='\",\n",
       " \" '간만에 재미난 영화를 만났네 액션도 연기도 너무 좋았고 독보적이었다'\",\n",
       " \" '17918701'\",\n",
       " \" 'point_after');\"]"
      ]
     },
     "execution_count": 9,
     "metadata": {},
     "output_type": "execute_result"
    }
   ],
   "source": [
    "tags[1]['onclick'].split(',')  "
   ]
  },
  {
   "cell_type": "code",
   "execution_count": 86,
   "id": "e3e2741c",
   "metadata": {},
   "outputs": [
    {
     "name": "stdout",
     "output_type": "stream",
     "text": [
      "[<td class=\"num\"><a class=\"author\" href=\"javascript:find_list('nickname','17917135', 'after');\">jeon****</a><br/>22.01.20</td>, <td class=\"num\"><a class=\"author\" href=\"javascript:find_list('nickname','17917134', 'after');\">jdb_****</a><br/>22.01.20</td>, <td class=\"num\"><a class=\"author\" href=\"javascript:find_list('nickname','17917133', 'after');\">jsw1****</a><br/>22.01.20</td>, <td class=\"num\"><a class=\"author\" href=\"javascript:find_list('nickname','17917132', 'after');\">jink****</a><br/>22.01.20</td>, <td class=\"num\"><a class=\"author\" href=\"javascript:find_list('nickname','17917131', 'after');\">piep****</a><br/>22.01.20</td>, <td class=\"num\"><a class=\"author\" href=\"javascript:find_list('nickname','17917130', 'after');\">lims****</a><br/>22.01.20</td>, <td class=\"num\"><a class=\"author\" href=\"javascript:find_list('nickname','17917129', 'after');\">dent****</a><br/>22.01.20</td>, <td class=\"num\"><a class=\"author\" href=\"javascript:find_list('nickname','17917128', 'after');\">cine****</a><br/>22.01.20</td>, <td class=\"num\"><a class=\"author\" href=\"javascript:find_list('nickname','17917127', 'after');\">kvic****</a><br/>22.01.20</td>, <td class=\"num\"><a class=\"author\" href=\"javascript:find_list('nickname','17917126', 'after');\">worl****</a><br/>22.01.20</td>]\n"
     ]
    },
    {
     "data": {
      "text/plain": [
       "10"
      ]
     },
     "execution_count": 86,
     "metadata": {},
     "output_type": "execute_result"
    }
   ],
   "source": [
    "#날짜\n",
    "path2 = 'tr > td:nth-child(3)'\n",
    "tags2 = soup.select(path2)\n",
    "print(tags2)\n",
    "len(tags2)\n",
    "# #old_content > table > tbody > tr:nth-child(1) > td:nth-child(3)"
   ]
  },
  {
   "cell_type": "code",
   "execution_count": 84,
   "id": "889291b3",
   "metadata": {},
   "outputs": [
    {
     "data": {
      "text/plain": [
       "'jeon****22.01.20'"
      ]
     },
     "execution_count": 84,
     "metadata": {},
     "output_type": "execute_result"
    }
   ],
   "source": [
    "tags2[0].text"
   ]
  },
  {
   "cell_type": "code",
   "execution_count": 85,
   "id": "d4a74aee",
   "metadata": {},
   "outputs": [
    {
     "data": {
      "text/plain": [
       "'22.01.20'"
      ]
     },
     "execution_count": 85,
     "metadata": {},
     "output_type": "execute_result"
    }
   ],
   "source": [
    "tags2[0].text.split(\"*\")[-1]"
   ]
  }
 ],
 "metadata": {
  "kernelspec": {
   "display_name": "Python 3 (ipykernel)",
   "language": "python",
   "name": "python3"
  },
  "language_info": {
   "codemirror_mode": {
    "name": "ipython",
    "version": 3
   },
   "file_extension": ".py",
   "mimetype": "text/x-python",
   "name": "python",
   "nbconvert_exporter": "python",
   "pygments_lexer": "ipython3",
   "version": "3.9.7"
  }
 },
 "nbformat": 4,
 "nbformat_minor": 5
}
