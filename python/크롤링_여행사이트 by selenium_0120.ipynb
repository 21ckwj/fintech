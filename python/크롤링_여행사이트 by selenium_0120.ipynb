{
 "cells": [
  {
   "cell_type": "code",
   "execution_count": null,
   "id": "9f4f3300",
   "metadata": {},
   "outputs": [],
   "source": [
    "#### selenuim 정리  태그 => element\n",
    "\n",
    "elem =  find_element_by_class_name()   # 만족하는 하나만\n",
    "elem =  find_element_by_id()\n",
    "elem =  find_element_by_xpath()\n",
    "elem =  find_element_by_link_text()\n",
    "elem =  find_element_by_partial_link_text()\n",
    "elem =  find_element_by_partial_link_text()\n",
    "elem =  find_element_by_name()\n",
    "elem =  find_element_by_tag_name()\n",
    "\n",
    "\n",
    "elem =  find_elements_by_class_name()   # 만족하는 모두\n",
    "elem =  find_elements_by_id()\n",
    "elem =  find_elements_by_xpath()\n",
    "elem =  find_elements_by_link_text()\n",
    "elem =  find_elements_by_partial_link_text()\n",
    "elem =  find_elements_by_partial_link_text()\n",
    "elem =  find_elements_by_name()\n",
    "elem =  find_elements_by_css_selector()\n"
   ]
  },
  {
   "cell_type": "code",
   "execution_count": null,
   "id": "7b6864d6",
   "metadata": {},
   "outputs": [],
   "source": []
  },
  {
   "cell_type": "code",
   "execution_count": 73,
   "id": "3eac0a7d",
   "metadata": {},
   "outputs": [],
   "source": [
    "# https://korean.visitkorea.or.kr\n",
    "# 검색어를 입력한 후 게시물의 제목, 지역, 해시태그를 출력"
   ]
  },
  {
   "cell_type": "code",
   "execution_count": 154,
   "id": "646cc625",
   "metadata": {},
   "outputs": [],
   "source": [
    "import requests\n",
    "from bs4 import BeautifulSoup\n",
    "\n",
    "from selenium import webdriver\n",
    "from selenium.webdriver.common.keys import Keys"
   ]
  },
  {
   "cell_type": "code",
   "execution_count": 155,
   "id": "bcb3393a",
   "metadata": {},
   "outputs": [
    {
     "name": "stderr",
     "output_type": "stream",
     "text": [
      "C:\\Users\\bitcamp\\AppData\\Local\\Temp/ipykernel_11624/2353503971.py:5: DeprecationWarning: use options instead of chrome_options\n",
      "  driver = webdriver.Chrome(chrome_options=chrome_options)\n"
     ]
    }
   ],
   "source": [
    "from selenium.webdriver.chrome.options import Options\n",
    "\n",
    "chrome_options = Options()\n",
    "chrome_options.add_argument(\"--window-size=1200,800\")\n",
    "driver = webdriver.Chrome(chrome_options=chrome_options)"
   ]
  },
  {
   "cell_type": "code",
   "execution_count": 156,
   "id": "457aeb04",
   "metadata": {},
   "outputs": [],
   "source": [
    "driver.get('https://korean.visitkorea.or.kr')"
   ]
  },
  {
   "cell_type": "code",
   "execution_count": 157,
   "id": "07db3010",
   "metadata": {},
   "outputs": [],
   "source": [
    "# search_kw = input(\"검색할 키워드를 입력하세요: \")"
   ]
  },
  {
   "cell_type": "code",
   "execution_count": 158,
   "id": "0e4e6880",
   "metadata": {},
   "outputs": [
    {
     "name": "stderr",
     "output_type": "stream",
     "text": [
      "C:\\Users\\bitcamp\\AppData\\Local\\Temp/ipykernel_11624/378641915.py:1: DeprecationWarning: find_element_by_* commands are deprecated. Please use find_element() instead\n",
      "  elem = driver.find_element_by_id('inp_search')\n"
     ]
    }
   ],
   "source": [
    "elem = driver.find_element_by_id('inp_search')"
   ]
  },
  {
   "cell_type": "code",
   "execution_count": 159,
   "id": "93c2b189",
   "metadata": {},
   "outputs": [],
   "source": [
    "elem.send_keys('바다')"
   ]
  },
  {
   "cell_type": "code",
   "execution_count": 160,
   "id": "28ad26b0",
   "metadata": {},
   "outputs": [],
   "source": [
    "#엔터\n",
    "elem.send_keys(Keys.RETURN)"
   ]
  },
  {
   "cell_type": "code",
   "execution_count": 161,
   "id": "ee62b1c6",
   "metadata": {},
   "outputs": [],
   "source": [
    "# 클릭 버튼 클릭\n",
    "# driver.find_element_by_css_selector('#gnbMain > div.top_menu > div > div.search > span > a').click()"
   ]
  },
  {
   "cell_type": "code",
   "execution_count": 162,
   "id": "2e70341f",
   "metadata": {},
   "outputs": [],
   "source": [
    "html = driver.page_source\n",
    "soup = BeautifulSoup(html ,'html.parser')\n",
    "\n"
   ]
  },
  {
   "cell_type": "code",
   "execution_count": 163,
   "id": "b3642860",
   "metadata": {},
   "outputs": [],
   "source": [
    "# path를 정할 때 반복해서 출력하기 위해 첫 path를 어디까지 잡아야 할지 생각\n",
    "# 여행 상품들이 <li> 로 묶여 있기 때문에 첫 path를 li 까지 잡아야 한다.\n",
    "\n",
    "path = '#listBody > ul > li '\n",
    "\n",
    "# #listBody > ul > li:nth-child(1) > div.area_txt : 박스전체\n",
    "# #listBody > ul > li:nth-child(1) > div.area_txt > div.tit > a : 제목만"
   ]
  },
  {
   "cell_type": "code",
   "execution_count": 164,
   "id": "d7b8078b",
   "metadata": {},
   "outputs": [],
   "source": [
    "tags = soup.select(path)"
   ]
  },
  {
   "cell_type": "code",
   "execution_count": 165,
   "id": "61aa4649",
   "metadata": {},
   "outputs": [
    {
     "data": {
      "text/plain": [
       "<li><div class=\"photo\"><a href=\"javascript:goSearchDetail('eb64d6f5-cb1c-400f-ac42-1e685b642dbb');\"> <img alt=\"별바다부산 야간관광 시리즈 3편 &lt;br&gt;마음을 물들이는 '감성 레포츠' 여행\" src=\"https://cdn.visitkorea.or.kr/img/call?cmd=VIEW&amp;id=f369ac46-1467-44e6-b5a4-22943aae41c7\"/> </a></div> <div class=\"area_txt\"> <div class=\"tit\"> <a href=\"javascript:goSearchDetail('eb64d6f5-cb1c-400f-ac42-1e685b642dbb');\"><em></em>별<!--HS--><em>바다</em><!--HE-->부산 야간관광 시리즈 3편 <br/>마음을 물들이는 '감성 레포츠' 여행</a> </div> <div class=\"service\"> <p>부산 </p> <ul class=\"brandingIcon\" id=\"branding_eb64d6f5-cb1c-400f-ac42-1e685b642dbb\"> </ul> </div> <p class=\"tag_type\"><span>#<em></em>부산여행</span><span>#<em></em>부산가볼만한곳</span><span>#<em></em>야간여행</span><span>#<em></em>부산레포츠</span><span>#<em></em>레포츠여행</span><span>#<em></em>마린시티</span><span>#<em></em>요트투어</span><span>#<em></em>광안리해수욕장</span><span>#<em></em>서핑</span><span>#<em></em>다대포해수욕장</span><span>#<em></em>제트스키</span><span>#<em></em>웨이크보드</span><span>#<em></em>다대포꿈의낙조분수</span><span>#<em></em>봉래산</span><span>#<em></em>트레킹</span><span>#<em></em>공공누리</span><span>#<em></em>별<em>바다</em>부산</span> </p></div><button class=\"btn_view\" onclick='viewClick(\"eb64d6f5-cb1c-400f-ac42-1e685b642dbb\")' title=\"열기\" type=\"button\">더보기</button><div class=\"pop_subMenu\"> <ul> <li class=\"btn_far\"><a href=\"javascript:\" onclick='setFavoContent(\"eb64d6f5-cb1c-400f-ac42-1e685b642dbb\")'>즐겨찾기</a></li> <li class=\"btn_share\" id=\"eb64d6f5-cb1c-400f-ac42-1e685b642dbb\"><a href=\"javascript:\" onclick='getShareInfo(\"%EB%B3%84%3C!HS%3E%EB%B0%94%EB%8B%A4%3C!HE%3E%EB%B6%80%EC%82%B0%20%EC%95%BC%EA%B0%84%EA%B4%80%EA%B4%91%20%EC%8B%9C%EB%A6%AC%EC%A6%88%203%ED%8E%B8%20%3Cbr%3E%EB%A7%88%EC%9D%8C%EC%9D%84%20%EB%AC%BC%EB%93%A4%EC%9D%B4%EB%8A%94%20%26%2339%3B%EA%B0%90%EC%84%B1%20%EB%A0%88%ED%8F%AC%EC%B8%A0%26%2339%3B%20%EC%97%AC%ED%96%89\",\"f369ac46-1467-44e6-b5a4-22943aae41c7\",\"eb64d6f5-cb1c-400f-ac42-1e685b642dbb\",\"304\");'>공유하기</a></li> </ul></div></li>"
      ]
     },
     "execution_count": 165,
     "metadata": {},
     "output_type": "execute_result"
    }
   ],
   "source": [
    "tags[0]"
   ]
  },
  {
   "cell_type": "code",
   "execution_count": 166,
   "id": "0bfcdff8",
   "metadata": {},
   "outputs": [
    {
     "data": {
      "text/plain": [
       "11"
      ]
     },
     "execution_count": 166,
     "metadata": {},
     "output_type": "execute_result"
    }
   ],
   "source": [
    "len(tags)"
   ]
  },
  {
   "cell_type": "code",
   "execution_count": 167,
   "id": "79dec2ee",
   "metadata": {},
   "outputs": [
    {
     "name": "stdout",
     "output_type": "stream",
     "text": [
      "<class 'bs4.element.ResultSet'>\n"
     ]
    }
   ],
   "source": [
    "print(type(tags))"
   ]
  },
  {
   "cell_type": "code",
   "execution_count": 168,
   "id": "529c1f30",
   "metadata": {},
   "outputs": [
    {
     "name": "stdout",
     "output_type": "stream",
     "text": [
      "<class 'bs4.element.Tag'>\n"
     ]
    }
   ],
   "source": [
    "print(type(tags[0]))"
   ]
  },
  {
   "cell_type": "code",
   "execution_count": 169,
   "id": "d139e78f",
   "metadata": {},
   "outputs": [
    {
     "data": {
      "text/plain": [
       "\"별바다부산 야간관광 시리즈 3편 마음을 물들이는 '감성 레포츠' 여행\""
      ]
     },
     "execution_count": 169,
     "metadata": {},
     "output_type": "execute_result"
    }
   ],
   "source": [
    "# 상품명\n",
    "\n",
    "#상품명 전체 path = '#listBody > ul > li:nth-child(1) > div.area_txt > div.tit > a'\n",
    "# 큰 path 제외한 세부 path만 넣어준다\n",
    "\n",
    "path = 'div.area_txt > div.tit > a'\n",
    "tags[0].select(path)[0].text"
   ]
  },
  {
   "cell_type": "code",
   "execution_count": null,
   "id": "3ed09578",
   "metadata": {},
   "outputs": [],
   "source": []
  },
  {
   "cell_type": "code",
   "execution_count": 170,
   "id": "694b06fb",
   "metadata": {},
   "outputs": [
    {
     "data": {
      "text/plain": [
       "'부산 '"
      ]
     },
     "execution_count": 170,
     "metadata": {},
     "output_type": "execute_result"
    }
   ],
   "source": [
    "# 위치\n",
    "# 같은 논리로 세부 path 지정\n",
    "\n",
    "path = 'div.area_txt > div.service > p'\n",
    "tags[0].select(path)[0].text\n",
    "\n",
    "\n",
    "# '#listBody > ul > li:nth-child(1) > div.area_txt > div.service > p'"
   ]
  },
  {
   "cell_type": "code",
   "execution_count": 171,
   "id": "b8ce1e4e",
   "metadata": {},
   "outputs": [
    {
     "data": {
      "text/plain": [
       "'#부산여행#부산가볼만한곳#야간여행#부산레포츠#레포츠여행#마린시티#요트투어#광안리해수욕장#서핑#다대포해수욕장#제트스키#웨이크보드#다대포꿈의낙조분수#봉래산#트레킹#공공누리#별바다부산 '"
      ]
     },
     "execution_count": 171,
     "metadata": {},
     "output_type": "execute_result"
    }
   ],
   "source": [
    "# 해쉬태그\n",
    "\n",
    "path ='div.area_txt > p'\n",
    "\n",
    "tags[0].select(path)[0].text"
   ]
  },
  {
   "cell_type": "code",
   "execution_count": 175,
   "id": "48d82add",
   "metadata": {
    "scrolled": true
   },
   "outputs": [
    {
     "name": "stdout",
     "output_type": "stream",
     "text": [
      "여행상품명:  별바다부산 야간관광 시리즈 3편 마음을 물들이는 '감성 레포츠' 여행\n",
      "위치:  부산 \n",
      "해쉬태그:  #부산여행#부산가볼만한곳#야간여행#부산레포츠#레포츠여행#마린시티#요트투어#광안리해수욕장#서핑#다대포해수욕장#제트스키#웨이크보드#다대포꿈의낙조분수#봉래산#트레킹#공공누리#별바다부산 \n",
      "여행상품명:  고성, 양양, 강릉까지 시원한 강원도 바다 완전정복!\n",
      "위치:  강원도 \n",
      "해쉬태그:  #부산여행#부산가볼만한곳#야간여행#부산레포츠#레포츠여행#마린시티#요트투어#광안리해수욕장#서핑#다대포해수욕장#제트스키#웨이크보드#다대포꿈의낙조분수#봉래산#트레킹#공공누리#별바다부산 \n",
      "여행상품명:  쪽빛 바다 가르며 '카약 타고 서핑하고'…남해 두모마을과 송정솔바람해변\n",
      "위치:  경상남도 남해군\n",
      "해쉬태그:  #부산여행#부산가볼만한곳#야간여행#부산레포츠#레포츠여행#마린시티#요트투어#광안리해수욕장#서핑#다대포해수욕장#제트스키#웨이크보드#다대포꿈의낙조분수#봉래산#트레킹#공공누리#별바다부산 \n",
      "여행상품명:  쪽빛 남쪽바다가 눈부시게 펼쳐진 길, 저도 비치로드\n",
      "위치:  경상남도 창원시\n",
      "해쉬태그:  #부산여행#부산가볼만한곳#야간여행#부산레포츠#레포츠여행#마린시티#요트투어#광안리해수욕장#서핑#다대포해수욕장#제트스키#웨이크보드#다대포꿈의낙조분수#봉래산#트레킹#공공누리#별바다부산 \n"
     ]
    },
    {
     "ename": "IndexError",
     "evalue": "list index out of range",
     "output_type": "error",
     "traceback": [
      "\u001b[1;31m---------------------------------------------------------------------------\u001b[0m",
      "\u001b[1;31mIndexError\u001b[0m                                Traceback (most recent call last)",
      "\u001b[1;32m~\\AppData\\Local\\Temp/ipykernel_11624/85671975.py\u001b[0m in \u001b[0;36m<module>\u001b[1;34m\u001b[0m\n\u001b[0;32m      6\u001b[0m \u001b[1;33m\u001b[0m\u001b[0m\n\u001b[0;32m      7\u001b[0m     \u001b[0mpath\u001b[0m \u001b[1;33m=\u001b[0m \u001b[1;34m'div.area_txt > div.tit > a'\u001b[0m\u001b[1;33m\u001b[0m\u001b[1;33m\u001b[0m\u001b[0m\n\u001b[1;32m----> 8\u001b[1;33m     \u001b[0mprint\u001b[0m\u001b[1;33m(\u001b[0m\u001b[1;34m\"여행상품명: \"\u001b[0m\u001b[1;33m,\u001b[0m \u001b[0mtag\u001b[0m\u001b[1;33m.\u001b[0m\u001b[0mselect\u001b[0m\u001b[1;33m(\u001b[0m\u001b[0mpath\u001b[0m\u001b[1;33m)\u001b[0m\u001b[1;33m[\u001b[0m\u001b[1;36m0\u001b[0m\u001b[1;33m]\u001b[0m\u001b[1;33m.\u001b[0m\u001b[0mtext\u001b[0m\u001b[1;33m)\u001b[0m\u001b[1;33m\u001b[0m\u001b[1;33m\u001b[0m\u001b[0m\n\u001b[0m\u001b[0;32m      9\u001b[0m \u001b[1;33m\u001b[0m\u001b[0m\n\u001b[0;32m     10\u001b[0m     \u001b[0mpath\u001b[0m \u001b[1;33m=\u001b[0m \u001b[1;34m'div.area_txt > div.service > p'\u001b[0m\u001b[1;33m\u001b[0m\u001b[1;33m\u001b[0m\u001b[0m\n",
      "\u001b[1;31mIndexError\u001b[0m: list index out of range"
     ]
    }
   ],
   "source": [
    "# # tags \n",
    "\n",
    "for tag in tags:\n",
    "    \n",
    "    \n",
    "    \n",
    "    path = 'div.area_txt > div.tit > a'\n",
    "    print(\"여행상품명: \", tag.select(path)[0].text)\n",
    "    \n",
    "    path = 'div.area_txt > div.service > p'\n",
    "    print(\"위치: \", tag.select(path)[0].text)\n",
    "    \n",
    "    path ='div.area_txt > p'\n",
    "    print(\"해쉬태그: \",tags[0].select(path)[0].text)\n",
    "    \n",
    "    # 5 번째 칸 비어있어서 에러 출력\n",
    "     \n",
    "    \n",
    "#     print(\"=\"* 50)\n",
    "# #listBody > ul > li:nth-child(1) > div.area_txt : 박스전체"
   ]
  },
  {
   "cell_type": "code",
   "execution_count": 146,
   "id": "4dd335d5",
   "metadata": {},
   "outputs": [],
   "source": [
    "# 강사님 출력\n",
    "\n",
    "# path = '#listBody > ul > li'  \n",
    "# tags = soup.select(path)\n",
    "\n",
    "for tag in tags:\n",
    "    \n",
    "    try:\n",
    "    \n",
    "        path = 'div.area_txt > div.tit > a'\n",
    "        title = tag.select(path)[0].text\n",
    "\n",
    "        path = 'div.area_txt > div.service > p'\n",
    "        location = tag.select(path)[0].text\n",
    "\n",
    "        path = 'div.area_txt > p'\n",
    "        hash_tags = tag.select(path)[0].text\n",
    "\n",
    "        print('Title :', title)\n",
    "        print('Location :',location)\n",
    "        print('Tags :', hash_tags)\n",
    "        print()\n",
    "        print('===========')\n",
    "    except:\n",
    "        pass"
   ]
  },
  {
   "cell_type": "code",
   "execution_count": null,
   "id": "14ad7f29",
   "metadata": {},
   "outputs": [],
   "source": []
  },
  {
   "cell_type": "code",
   "execution_count": null,
   "id": "f2bc1b0b",
   "metadata": {},
   "outputs": [],
   "source": []
  }
 ],
 "metadata": {
  "kernelspec": {
   "display_name": "Python 3 (ipykernel)",
   "language": "python",
   "name": "python3"
  },
  "language_info": {
   "codemirror_mode": {
    "name": "ipython",
    "version": 3
   },
   "file_extension": ".py",
   "mimetype": "text/x-python",
   "name": "python",
   "nbconvert_exporter": "python",
   "pygments_lexer": "ipython3",
   "version": "3.9.7"
  }
 },
 "nbformat": 4,
 "nbformat_minor": 5
}
