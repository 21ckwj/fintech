{
 "cells": [
  {
   "cell_type": "code",
   "execution_count": 1,
   "id": "966acf21",
   "metadata": {},
   "outputs": [],
   "source": [
    "#네이버 중고나라 검색어를 입력한 후 검색 결과페이지의 게시물의\n",
    "# 제목, 작성자, 작성일,조회수를 크롤링하세요 "
   ]
  },
  {
   "cell_type": "code",
   "execution_count": 2,
   "id": "f3ad2f20",
   "metadata": {},
   "outputs": [],
   "source": [
    "import requests\n",
    "from bs4 import BeautifulSoup\n",
    "\n",
    "from selenium import webdriver\n",
    "from selenium.webdriver.common.keys import Keys"
   ]
  },
  {
   "cell_type": "code",
   "execution_count": 3,
   "id": "9978e5c0",
   "metadata": {},
   "outputs": [],
   "source": [
    "url = 'https://cafe.naver.com/joonggonara'"
   ]
  },
  {
   "cell_type": "code",
   "execution_count": 4,
   "id": "af2c45d3",
   "metadata": {},
   "outputs": [],
   "source": [
    "driver = webdriver.Chrome()\n",
    "driver.get(url)"
   ]
  },
  {
   "cell_type": "code",
   "execution_count": 6,
   "id": "1ee4d487",
   "metadata": {},
   "outputs": [
    {
     "name": "stderr",
     "output_type": "stream",
     "text": [
      "C:\\Users\\bitcamp\\AppData\\Local\\Temp/ipykernel_9104/1450859144.py:1: DeprecationWarning: find_element_by_* commands are deprecated. Please use find_element() instead\n",
      "  elem = driver.find_element_by_css_selector('#topLayerQueryInput')\n"
     ]
    }
   ],
   "source": [
    "elem = driver.find_element_by_css_selector('#topLayerQueryInput')"
   ]
  },
  {
   "cell_type": "code",
   "execution_count": 10,
   "id": "34155b3e",
   "metadata": {},
   "outputs": [],
   "source": [
    "elem.send_keys('신발')"
   ]
  },
  {
   "cell_type": "code",
   "execution_count": 31,
   "id": "bb7edc96",
   "metadata": {},
   "outputs": [],
   "source": [
    "elem.send_keys(Keys.RETURN)"
   ]
  },
  {
   "cell_type": "code",
   "execution_count": 32,
   "id": "9626ea00",
   "metadata": {},
   "outputs": [
    {
     "ename": "SyntaxError",
     "evalue": "invalid syntax (Temp/ipykernel_9104/2794804657.py, line 1)",
     "output_type": "error",
     "traceback": [
      "\u001b[1;36m  File \u001b[1;32m\"C:\\Users\\bitcamp\\AppData\\Local\\Temp/ipykernel_9104/2794804657.py\"\u001b[1;36m, line \u001b[1;32m1\u001b[0m\n\u001b[1;33m    elem = driver.find_elements_by_xpath(\"//*[@id=\"main-area\"]/div[5]/table/tbody/tr[1]/td[1]/div[2]/div/a[1]\")\u001b[0m\n\u001b[1;37m                                                   ^\u001b[0m\n\u001b[1;31mSyntaxError\u001b[0m\u001b[1;31m:\u001b[0m invalid syntax\n"
     ]
    }
   ],
   "source": [
    "elem = driver.find_elements_by_xpath(\"//*[@id=\"main-area\"]/div[5]/table/tbody/tr[1]/td[1]/div[2]/div/a[1]\")"
   ]
  },
  {
   "cell_type": "code",
   "execution_count": null,
   "id": "21929ed1",
   "metadata": {},
   "outputs": [],
   "source": []
  },
  {
   "cell_type": "code",
   "execution_count": 1,
   "id": "dd6244c0",
   "metadata": {},
   "outputs": [],
   "source": [
    "# iframe - html  주로 네이버 현재는 잘 안쓰는 구조\n",
    "\n",
    "# html 안에 다른 웹페이지를 가져와서 보여주는 기능\n",
    "# iframe 내부에 있는 내용을 크롤링 하고자 하는 경우 \n",
    "# -> 콘텐츠가 있는 원본 사이트로 이동을 해야 한다"
   ]
  },
  {
   "cell_type": "code",
   "execution_count": 2,
   "id": "47ef0733",
   "metadata": {},
   "outputs": [],
   "source": [
    "import requests\n",
    "from bs4 import BeautifulSoup\n",
    "\n",
    "from selenium import webdriver\n",
    "from selenium.webdriver.common.keys import Keys"
   ]
  },
  {
   "cell_type": "code",
   "execution_count": 3,
   "id": "da83983b",
   "metadata": {},
   "outputs": [],
   "source": [
    "url = 'https://cafe.naver.com/joonggonara'"
   ]
  },
  {
   "cell_type": "code",
   "execution_count": 4,
   "id": "79e7a600",
   "metadata": {},
   "outputs": [],
   "source": [
    "driver = webdriver.Chrome()\n",
    "driver.get(url)"
   ]
  },
  {
   "cell_type": "code",
   "execution_count": 5,
   "id": "c26d49d6",
   "metadata": {},
   "outputs": [
    {
     "name": "stderr",
     "output_type": "stream",
     "text": [
      "C:\\Users\\21ckw\\AppData\\Local\\Temp/ipykernel_11236/1450859144.py:1: DeprecationWarning: find_element_by_* commands are deprecated. Please use find_element() instead\n",
      "  elem = driver.find_element_by_css_selector('#topLayerQueryInput')\n"
     ]
    }
   ],
   "source": [
    "elem = driver.find_element_by_css_selector('#topLayerQueryInput')"
   ]
  },
  {
   "cell_type": "code",
   "execution_count": 6,
   "id": "b42a5cf0",
   "metadata": {},
   "outputs": [],
   "source": [
    "elem.send_keys('신발')\n",
    "elem.send_keys(Keys.RETURN)"
   ]
  },
  {
   "cell_type": "code",
   "execution_count": null,
   "id": "fef42751",
   "metadata": {},
   "outputs": [],
   "source": [
    "# 경로를 찾으려고 봤더니 원하는 내용이 없고 url만 있다"
   ]
  },
  {
   "cell_type": "code",
   "execution_count": 33,
   "id": "0b42dba6",
   "metadata": {},
   "outputs": [
    {
     "name": "stderr",
     "output_type": "stream",
     "text": [
      "C:\\Users\\bitcamp\\AppData\\Local\\Temp/ipykernel_9104/2441785703.py:2: DeprecationWarning: find_element_by_* commands are deprecated. Please use find_element() instead\n",
      "  iframe = driver.find_element_by_id('cafe_main')\n"
     ]
    }
   ],
   "source": [
    "# iframe 내부의 프레임으로 이동\n",
    "\n",
    "iframe = driver.find_element_by_id('cafe_main')\n"
   ]
  },
  {
   "cell_type": "code",
   "execution_count": 34,
   "id": "b2ce5fe4",
   "metadata": {},
   "outputs": [],
   "source": [
    "driver.switch_to.frame(iframe)"
   ]
  },
  {
   "cell_type": "code",
   "execution_count": 35,
   "id": "287e7e74",
   "metadata": {},
   "outputs": [
    {
     "name": "stderr",
     "output_type": "stream",
     "text": [
      "C:\\Users\\bitcamp\\AppData\\Local\\Temp/ipykernel_9104/3701577808.py:1: DeprecationWarning: find_element_by_* commands are deprecated. Please use find_element() instead\n",
      "  elems = driver.find_element_by_css_selector('a.article')\n"
     ]
    }
   ],
   "source": [
    "elems = driver.find_element_by_css_selector('a.article')  #iframe 안에 있는 글 제목"
   ]
  },
  {
   "cell_type": "code",
   "execution_count": 36,
   "id": "6b55e6d8",
   "metadata": {},
   "outputs": [
    {
     "ename": "TypeError",
     "evalue": "'WebElement' object is not iterable",
     "output_type": "error",
     "traceback": [
      "\u001b[1;31m---------------------------------------------------------------------------\u001b[0m",
      "\u001b[1;31mTypeError\u001b[0m                                 Traceback (most recent call last)",
      "\u001b[1;32m~\\AppData\\Local\\Temp/ipykernel_9104/389183462.py\u001b[0m in \u001b[0;36m<module>\u001b[1;34m\u001b[0m\n\u001b[1;32m----> 1\u001b[1;33m \u001b[1;32mfor\u001b[0m \u001b[0me\u001b[0m \u001b[1;32min\u001b[0m \u001b[0melems\u001b[0m\u001b[1;33m:\u001b[0m\u001b[1;33m\u001b[0m\u001b[1;33m\u001b[0m\u001b[0m\n\u001b[0m\u001b[0;32m      2\u001b[0m     \u001b[0mprint\u001b[0m\u001b[1;33m(\u001b[0m\u001b[0me\u001b[0m\u001b[1;33m.\u001b[0m\u001b[0mtext\u001b[0m\u001b[1;33m)\u001b[0m\u001b[1;33m\u001b[0m\u001b[1;33m\u001b[0m\u001b[0m\n",
      "\u001b[1;31mTypeError\u001b[0m: 'WebElement' object is not iterable"
     ]
    }
   ],
   "source": [
    "for e in elems:\n",
    "    print(e.text)"
   ]
  },
  {
   "cell_type": "code",
   "execution_count": null,
   "id": "c9d24040",
   "metadata": {},
   "outputs": [],
   "source": []
  }
 ],
 "metadata": {
  "kernelspec": {
   "display_name": "Python 3 (ipykernel)",
   "language": "python",
   "name": "python3"
  },
  "language_info": {
   "codemirror_mode": {
    "name": "ipython",
    "version": 3
   },
   "file_extension": ".py",
   "mimetype": "text/x-python",
   "name": "python",
   "nbconvert_exporter": "python",
   "pygments_lexer": "ipython3",
   "version": "3.9.7"
  }
 },
 "nbformat": 4,
 "nbformat_minor": 5
}
