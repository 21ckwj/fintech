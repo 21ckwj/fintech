{
 "cells": [
  {
   "cell_type": "markdown",
   "id": "76b777a8",
   "metadata": {},
   "source": [
    "## imdb 2월 신작 페이지에서 영화 제목, 장르, 감독, 배우 데이터 가져오기"
   ]
  },
  {
   "cell_type": "code",
   "execution_count": 1,
   "id": "2b944563",
   "metadata": {},
   "outputs": [],
   "source": [
    "import requests\n",
    "from bs4 import BeautifulSoup"
   ]
  },
  {
   "cell_type": "code",
   "execution_count": 2,
   "id": "f07877b9",
   "metadata": {},
   "outputs": [],
   "source": [
    "url = 'https://www.imdb.com/movies-coming-soon/2022-02/'"
   ]
  },
  {
   "cell_type": "code",
   "execution_count": 3,
   "id": "e9502ab1",
   "metadata": {},
   "outputs": [],
   "source": [
    "res = requests.get(url)"
   ]
  },
  {
   "cell_type": "code",
   "execution_count": 4,
   "id": "f2d326d0",
   "metadata": {},
   "outputs": [],
   "source": [
    "soup = BeautifulSoup(res.text, 'html.parser')"
   ]
  },
  {
   "cell_type": "code",
   "execution_count": 6,
   "id": "bbd64667",
   "metadata": {},
   "outputs": [],
   "source": [
    "path = \"#main > div > div.list.detail > div > table > tbody > tr > td.overview-top\" #전체 박스 경로"
   ]
  },
  {
   "cell_type": "code",
   "execution_count": 8,
   "id": "66eb38d1",
   "metadata": {},
   "outputs": [
    {
     "data": {
      "text/plain": [
       "<td class=\"overview-top\">\n",
       "<h4><a href=\"/title/tt11466222/\" title=\"Jackass Forever (2022)\"> Jackass Forever (2022)</a></h4>\n",
       "<p class=\"cert-runtime-genre\">\n",
       "<img alt=\"Certificate R\" class=\"absmiddle certimage\" src=\"https://m.media-amazon.com/images/S/sash/HnfGvvr0ifGfk6P.png\" title=\"R\"/>\n",
       "<time datetime=\"PT96M\">96 min</time>\n",
       "                                  -  \n",
       "                                <span>Documentary</span>\n",
       "<span class=\"ghost\">|</span>\n",
       "<span>Action</span>\n",
       "<span class=\"ghost\">|</span>\n",
       "<span>Comedy</span>\n",
       "</p>\n",
       "<div class=\"rating_txt\">\n",
       "</div>\n",
       "<div class=\"outline\">\n",
       "After 11 years, the Jackass crew is back for their final crusade.                    </div>\n",
       "<div class=\"txt-block\">\n",
       "<h5 class=\"inline\">Director:</h5>\n",
       "<span>\n",
       "<a href=\"/name/nm0871860/\">Jeff Tremaine</a> </span>\n",
       "</div>\n",
       "<div class=\"txt-block\">\n",
       "<h5 class=\"inline\">Stars:</h5>\n",
       "<a href=\"/name/nm0424216/\">Johnny Knoxville</a>, \n",
       "<a href=\"/name/nm0828177/\">Steve-O</a>, \n",
       "<a href=\"/name/nm0690686/\">Chris Pontius</a>, \n",
       "<a href=\"/name/nm2765191/\">Eric André</a>\n",
       "</div>\n",
       "</td>"
      ]
     },
     "execution_count": 8,
     "metadata": {},
     "output_type": "execute_result"
    }
   ],
   "source": [
    "tags = soup.select(path)\n",
    "tags[0]"
   ]
  },
  {
   "cell_type": "code",
   "execution_count": 24,
   "id": "f505ec4d",
   "metadata": {},
   "outputs": [
    {
     "data": {
      "text/plain": [
       "'\\n Jackass Forever (2022)\\n\\n\\n96 min\\n                                \\xa0\\xa0-\\xa0\\xa0\\n                                Documentary\\n|\\nAction\\n|\\nComedy\\n\\n\\n\\n\\nAfter 11 years, the Jackass crew is back for their final crusade.                    \\n\\nDirector:\\n\\nJeff Tremaine \\n\\n\\nStars:\\nJohnny Knoxville, \\nSteve-O, \\nChris Pontius, \\nEric André\\n\\n'"
      ]
     },
     "execution_count": 24,
     "metadata": {},
     "output_type": "execute_result"
    }
   ],
   "source": [
    "tags[0].text # 원하는 정보가 모두 text형식"
   ]
  },
  {
   "cell_type": "code",
   "execution_count": 15,
   "id": "78888bf9",
   "metadata": {},
   "outputs": [
    {
     "data": {
      "text/plain": [
       "<a href=\"/title/tt11466222/\" title=\"Jackass Forever (2022)\"> Jackass Forever (2022)</a>"
      ]
     },
     "execution_count": 15,
     "metadata": {},
     "output_type": "execute_result"
    }
   ],
   "source": [
    "# title\n",
    "\n",
    "tags[0].select('a')[0]"
   ]
  },
  {
   "cell_type": "code",
   "execution_count": 16,
   "id": "520af34c",
   "metadata": {},
   "outputs": [
    {
     "data": {
      "text/plain": [
       "' Jackass Forever (2022)'"
      ]
     },
     "execution_count": 16,
     "metadata": {},
     "output_type": "execute_result"
    }
   ],
   "source": [
    "tags[0].select('a')[0].text  "
   ]
  },
  {
   "cell_type": "code",
   "execution_count": 23,
   "id": "fdf38807",
   "metadata": {},
   "outputs": [
    {
     "data": {
      "text/plain": [
       "[<span>Documentary</span>,\n",
       " <span class=\"ghost\">|</span>,\n",
       " <span>Action</span>,\n",
       " <span class=\"ghost\">|</span>,\n",
       " <span>Comedy</span>]"
      ]
     },
     "execution_count": 23,
     "metadata": {},
     "output_type": "execute_result"
    }
   ],
   "source": [
    "# genre\n",
    "\n",
    "tags[0].select('p.cert-runtime-genre')[0].select('span')"
   ]
  },
  {
   "cell_type": "code",
   "execution_count": null,
   "id": "d0cd7a7d",
   "metadata": {},
   "outputs": [],
   "source": []
  },
  {
   "cell_type": "code",
   "execution_count": 29,
   "id": "b1ec5682",
   "metadata": {},
   "outputs": [
    {
     "name": "stdout",
     "output_type": "stream",
     "text": [
      "<span>Documentary</span>\n",
      "<span class=\"ghost\">|</span>\n",
      "<span>Action</span>\n",
      "<span class=\"ghost\">|</span>\n",
      "<span>Comedy</span>\n"
     ]
    }
   ],
   "source": [
    "for g in tags[0].select('p.cert-runtime-genre')[0].select('span'):\n",
    "    print(g)"
   ]
  },
  {
   "cell_type": "code",
   "execution_count": 38,
   "id": "c731de41",
   "metadata": {},
   "outputs": [
    {
     "ename": "SyntaxError",
     "evalue": "invalid syntax (Temp/ipykernel_2668/2192765455.py, line 2)",
     "output_type": "error",
     "traceback": [
      "\u001b[1;36m  File \u001b[1;32m\"C:\\Users\\21ckw\\AppData\\Local\\Temp/ipykernel_2668/2192765455.py\"\u001b[1;36m, line \u001b[1;32m2\u001b[0m\n\u001b[1;33m    if g.text != '|'\u001b[0m\n\u001b[1;37m                    ^\u001b[0m\n\u001b[1;31mSyntaxError\u001b[0m\u001b[1;31m:\u001b[0m invalid syntax\n"
     ]
    }
   ],
   "source": [
    "genres = []\n",
    "for g in tags[0].select('p.cert-runtime-genre')[0].select('span'):\n",
    "    if g.text != '|'\n",
    "        genres.append(g.text)\n",
    "        \n",
    "        #g.test 하면 출력됨 | 를 제외해줘야함"
   ]
  },
  {
   "cell_type": "markdown",
   "id": "57c9e42f",
   "metadata": {},
   "source": [
    "## 다음 뉴스 페이지 크롤링"
   ]
  },
  {
   "cell_type": "code",
   "execution_count": null,
   "id": "d15e57c4",
   "metadata": {},
   "outputs": [],
   "source": [
    "# 검색어를 입력 받은 후 해당 검색어로 검색한 결과 다음 뉴스 페이지에서 \n",
    "# 검색한 결과의 제목, url, summary를 크롤링하시오\n",
    "# (url을 잘 조사하면... )"
   ]
  },
  {
   "cell_type": "code",
   "execution_count": 39,
   "id": "a8e5beb1",
   "metadata": {},
   "outputs": [
    {
     "name": "stdout",
     "output_type": "stream",
     "text": [
      "검색할 단어를 입력하세요..인공지능\n"
     ]
    },
    {
     "data": {
      "text/plain": [
       "'https://search.daum.net/search?w=news&nil_search=btn&DA=NTB&enc=utf8&cluster=y&cluster_page=1&q=인공지능'"
      ]
     },
     "execution_count": 39,
     "metadata": {},
     "output_type": "execute_result"
    }
   ],
   "source": [
    "url = 'https://search.daum.net/search?w=news&nil_search=btn&DA=NTB&enc=utf8&cluster=y&cluster_page=1&q={}'\n",
    "search_kw = input('검색할 단어를 입력하세요..')\n",
    "url = url.format(search_kw)\n",
    "url"
   ]
  },
  {
   "cell_type": "code",
   "execution_count": 40,
   "id": "81d34978",
   "metadata": {},
   "outputs": [],
   "source": [
    "res = requests.get(url)"
   ]
  },
  {
   "cell_type": "code",
   "execution_count": 42,
   "id": "ceabfb24",
   "metadata": {},
   "outputs": [],
   "source": [
    "soup = BeautifulSoup(res.text , 'html.parser')"
   ]
  },
  {
   "cell_type": "code",
   "execution_count": 43,
   "id": "ecadce02",
   "metadata": {},
   "outputs": [],
   "source": [
    "path = '#newsColl > div.cont_divider > ul > li > div.wrap_cont'"
   ]
  },
  {
   "cell_type": "code",
   "execution_count": 45,
   "id": "275a1c15",
   "metadata": {},
   "outputs": [
    {
     "data": {
      "text/plain": [
       "[<div class=\"wrap_cont\"> <a class=\"tit_main fn_tit_u\" href=\"https://cp.news.search.daum.net/p/115245320\" onclick='smartLog(this, \"dc=NNS&amp;d=26AArLjoY4HBbVxbRy&amp;pg=1&amp;r=1&amp;p=4&amp;rc=10&amp;e1=16mDBlbisJS3wxqCxs&amp;e3=0&amp;ext=dsid=26AArLjoY4HBbVxbRy\", event, {\"cpid\": {\"value\": \"16mDBlbisJS3wxqCxs\"}});' target=\"_blank\">[보일스님이 들려주는 <b>인공지능</b> 이야기] &lt;11&gt; <b>인공지능</b> 특이점과 불교①</a> <p class=\"desc\">주고받는 경우를 상상해 보자. 그것도 인간은 알아들을 수도, 이해할 수도 없는 언어로 말이다. 이런 상황은 애초에 인간들이 <b>인공지능</b>을 만들면서 상상은 해봤지만, 원했던 일은 아니었다. 그런데, 2017년, 상상했던 것과 유사한 일이 실제로 일어났다. 페이스북...</p> <span class=\"cont_info\"> <span class=\"f_nb\">불교신문</span> <span class=\"f_nb\">15시간전</span> </span> <span id=\"newsSQC_t1_0\" style=\"display:none;\">10301^https://cp.news.search.daum.net/p/115245320^26AArLjoY4HBbVxbRy^news^mediaArticle^%EC%9D%B8%EA%B3%B5%EC%A7%80%EB%8A%A5^26AArLjoY4HBbVxbRy</span> </div>,\n",
       " <div class=\"wrap_cont\"> <a class=\"tit_main fn_tit_u\" href=\"https://cp.news.search.daum.net/p/115280280\" onclick='smartLog(this, \"dc=NNS&amp;d=26Q3_W2RgTXUJixVb9&amp;pg=1&amp;r=2&amp;p=4&amp;rc=10&amp;e1=16RpHrLQphPmJqy1Zt&amp;e3=0&amp;ext=dsid=26Q3_W2RgTXUJixVb9\", event, {\"cpid\": {\"value\": \"16RpHrLQphPmJqy1Zt\"}});' target=\"_blank\"><b>인공지능</b> 공무원과 사람행정</a> <p class=\"desc\"><b>인공지능</b>(AI)이라는 말은 내가 어렸던 90년대에도 생소한 단어는 아니었다. 그런데 그 당시 사용했던 AI라는 표현은 온도에 따라 냉난방기의 바람세기가 조절되는 정도의 광고 문구 정도였던 걸로 기억한다. <b>인공지능</b>이 인류를 위협하는 상상은 아직 터미네이터 같은...</p> <span class=\"cont_info\"> <span class=\"f_nb\">중부매일</span> <span class=\"f_nb\">6시간전</span> </span> <span id=\"newsSQC_t1_1\" style=\"display:none;\">10301^https://cp.news.search.daum.net/p/115280280^26Q3_W2RgTXUJixVb9^news^mediaArticle^%EC%9D%B8%EA%B3%B5%EC%A7%80%EB%8A%A5^26Q3_W2RgTXUJixVb9</span> </div>,\n",
       " <div class=\"wrap_cont\"> <a class=\"tit_main fn_tit_u\" href=\"http://v.media.daum.net/v/20220120132411132?f=o\" onclick='smartLog(this, \"dc=NNS&amp;d=26fXkRgBLzHJfS69ED&amp;pg=1&amp;r=3&amp;p=4&amp;rc=10&amp;e1=16mKHIlsR6WVoQImSS&amp;e3=0&amp;ext=dsid=26fXkRgBLzHJfS69ED\", event, {\"cpid\": {\"value\": \"16mKHIlsR6WVoQImSS\"}});' target=\"_blank\">한전KDN, <b>인공지능</b>영상분석 시스템 현장 실증 성공</a> <p class=\"tit_sub f_nb\">화재, 연기, 안전모 미착용, 위험지역 출입 탐지 AI가 탐지한다</p> <p class=\"desc\">현장은 안전 문제에 대한 대책 마련에 고심하고 있다. AI라면 더 꼼꼼하게 관리감독해 주지 않을까? 한전KDN(사장 김장현)은 <b>인공지능</b>(AI) 영상분석시스템을 적용한 스마트 플랜트 안전환경 구축 현장 실증을 완료하였다고 밝혔다. ▲한전KDN, APC시스템을 반영한...</p> <span class=\"cont_info\"> <span class=\"f_nb\">프레시안</span> <span class=\"f_nb\">11시간전</span> <a class=\"f_nb\" href=\"http://v.media.daum.net/v/20220120132411132\" onclick='smartLog(this, \"dc=NNS&amp;d=26fXkRgBLzHJfS69ED&amp;pg=1&amp;r=3&amp;p=3&amp;rc=10&amp;e1=16mKHIlsR6WVoQImSS&amp;e3=0&amp;ext=dsid=26fXkRgBLzHJfS69ED\", event, {\"cpid\": {\"value\": \"16mKHIlsR6WVoQImSS\"}});' target=\"_blank\">다음뉴스</a> </span> <span id=\"newsSQC_t1_2\" style=\"display:none;\">10301^http://v.media.daum.net/v/20220120132411132?f=o^26fXkRgBLzHJfS69ED^news^mediaArticle^%EC%9D%B8%EA%B3%B5%EC%A7%80%EB%8A%A5^26fXkRgBLzHJfS69ED</span> </div>,\n",
       " <div class=\"wrap_cont\"> <a class=\"tit_main fn_tit_u\" href=\"http://v.media.daum.net/v/20220120164712538?f=o\" onclick='smartLog(this, \"dc=NNS&amp;d=26TiYn7AQ7l7MwjQHw&amp;pg=1&amp;r=4&amp;p=4&amp;rc=10&amp;e1=16b9_Haq_djmtbOGBh&amp;e3=0&amp;ext=dsid=26TiYn7AQ7l7MwjQHw\", event, {\"cpid\": {\"value\": \"16b9_Haq_djmtbOGBh\"}});' target=\"_blank\">과기정통부, 올해 <b>인공지능</b> 학습용 데이터 310종 구축..5797억 투입</a> <p class=\"desc\">구축사업'을 21일부터 진행한다고 20일 밝혔다. 이 사업은 기업과 연구자, 개인 등이 시간과 비용 문제로 개별 구축하기 어려운 <b>인공지능</b> 학습용 데이터를 대규모로 구축해 AI허브를 통해 개방하는 사업이다. 2025년까지 1300여종의 학습용 데이터를 구축한다. 그...</p> <span class=\"cont_info\"> <span class=\"f_nb\">뉴스1</span> <span class=\"f_nb\">8시간전</span> <a class=\"f_nb\" href=\"http://v.media.daum.net/v/20220120164712538\" onclick='smartLog(this, \"dc=NNS&amp;d=26TiYn7AQ7l7MwjQHw&amp;pg=1&amp;r=4&amp;p=3&amp;rc=10&amp;e1=16b9_Haq_djmtbOGBh&amp;e3=0&amp;ext=dsid=26TiYn7AQ7l7MwjQHw\", event, {\"cpid\": {\"value\": \"16b9_Haq_djmtbOGBh\"}});' target=\"_blank\">다음뉴스</a> </span> <div class=\"cont_rel\"> <dl> <dt class=\"screen_out\">관련기사</dt> <dd> <a class=\"tit_rel f_link\" href=\"https://cp.news.search.daum.net/p/115279002\" onclick='smartLog(this, \"dc=NNS&amp;d=26WxWIjsI7J_jMLzfn&amp;pg=1&amp;r=4&amp;p=5&amp;rc=10&amp;e1=16Di4dkj6V1Ygv8tk7&amp;e3=0&amp;ext=dsid=26WxWIjsI7J_jMLzfn&amp;rtt=parent&amp;rtid=26TiYn7AQ7l7MwjQHw&amp;rtsc=\", event, {\"cpid\": {\"value\": \"16Di4dkj6V1Ygv8tk7\"}});' target=\"_blank\"> ’22년 <b>인공지능</b> 학습용 데이터 구축 사업 공모...... </a> <span class=\"cont_info\"> <span class=\"f_nb\">인공지능신문</span> <span class=\"f_nb\">6시간전</span> </span> </dd> <dd> <a class=\"tit_rel f_link\" href=\"http://v.media.daum.net/v/20220120152100819?f=o\" onclick='smartLog(this, \"dc=NNS&amp;d=26a2KGWXZnlD3gi-Sv&amp;pg=1&amp;r=4&amp;p=6&amp;rc=10&amp;e1=16X5Xh1MWS7Qt1sMrW&amp;e3=0&amp;ext=dsid=26a2KGWXZnlD3gi-Sv&amp;rtt=parent&amp;rtid=26TiYn7AQ7l7MwjQHw&amp;rtsc=\", event, {\"cpid\": {\"value\": \"16X5Xh1MWS7Qt1sMrW\"}});' target=\"_blank\"> 올해 <b>인공지능</b> 학습용 데이터 310종 구축에 5천800... </a> <span class=\"cont_info\"> <span class=\"f_nb\">연합뉴스</span> <span class=\"f_nb\">9시간전</span> <a class=\"f_nb\" href=\"http://v.media.daum.net/v/20220120152100819\" onclick='smartLog(this, \"dc=NNS&amp;d=26a2KGWXZnlD3gi-Sv&amp;pg=1&amp;r=4&amp;p=12&amp;rc=10&amp;e1=16X5Xh1MWS7Qt1sMrW&amp;e3=0&amp;ext=dsid=26a2KGWXZnlD3gi-Sv&amp;rtt=parent&amp;rtid=26TiYn7AQ7l7MwjQHw&amp;rtsc=\", event, {\"cpid\": {\"value\": \"16X5Xh1MWS7Qt1sMrW\"}});' target=\"_blank\">다음뉴스</a> </span> </dd> <dd> <a class=\"tit_rel f_link\" href=\"https://cp.news.search.daum.net/p/115275342\" onclick='smartLog(this, \"dc=NNS&amp;d=26Wai1Ou7YXGjvm3nN&amp;pg=1&amp;r=4&amp;p=7&amp;rc=10&amp;e1=16FnzLm0Q71k9y-U2z&amp;e3=0&amp;ext=dsid=26Wai1Ou7YXGjvm3nN&amp;rtt=parent&amp;rtid=26TiYn7AQ7l7MwjQHw&amp;rtsc=\", event, {\"cpid\": {\"value\": \"16FnzLm0Q71k9y-U2z\"}});' target=\"_blank\"> 과기부, 올해 <b>인공지능</b> 학습용 데이터 310종 구축 </a> <span class=\"cont_info\"> <span class=\"f_nb\">국회뉴스</span> <span class=\"f_nb\">8시간전</span> </span> </dd> </dl> </div> <span id=\"newsSQC_t1_3\" style=\"display:none;\">10301^http://v.media.daum.net/v/20220120164712538?f=o^26TiYn7AQ7l7MwjQHw^news^mediaArticle^%EC%9D%B8%EA%B3%B5%EC%A7%80%EB%8A%A5^26TiYn7AQ7l7MwjQHw</span> </div>,\n",
       " <div class=\"wrap_cont\"> <a class=\"tit_main fn_tit_u\" href=\"http://v.media.daum.net/v/20220119104408374?f=o\" onclick='smartLog(this, \"dc=NNS&amp;d=266_SzzeKIQrK0LGIw&amp;pg=1&amp;r=5&amp;p=4&amp;rc=10&amp;e1=16sIQ8rx97vi9RHx8w&amp;e3=0&amp;ext=dsid=266_SzzeKIQrK0LGIw\", event, {\"cpid\": {\"value\": \"16sIQ8rx97vi9RHx8w\"}});' target=\"_blank\"><b>인공지능</b> 학습용 데이터, 수준 높이고 범위 넓힌다</a> <p class=\"tit_sub f_nb\">인공지능 최고위 전략대화과기정통부, 3大 정책방안 발표초거대 AI 생태계 활성화 추진차세대 반도체 개발 지원 강화도</p> <p class=\"desc\">정부가 <b>인공지능</b>(AI) 기술 개발 고도화를 위해 구축하는 학습용 데이터 수준을 높이고 범위를 확대한다. 중소기업의 초거대 <b>인공지능</b> 응용프로그래밍 인터페이스(API) 활용 기회도 넓힌다. AI 반도체 기술력 확보를 위한 다양한 정책도 추진한다. 과학기술정보통신부...</p> <span class=\"cont_info\"> <span class=\"f_nb\">전자신문</span> <span class=\"f_nb\">2022.01.19</span> <a class=\"f_nb\" href=\"http://v.media.daum.net/v/20220119104408374\" onclick='smartLog(this, \"dc=NNS&amp;d=266_SzzeKIQrK0LGIw&amp;pg=1&amp;r=5&amp;p=3&amp;rc=10&amp;e1=16sIQ8rx97vi9RHx8w&amp;e3=0&amp;ext=dsid=266_SzzeKIQrK0LGIw\", event, {\"cpid\": {\"value\": \"16sIQ8rx97vi9RHx8w\"}});' target=\"_blank\">다음뉴스</a> </span> <span id=\"newsSQC_t1_4\" style=\"display:none;\">10301^http://v.media.daum.net/v/20220119104408374?f=o^266_SzzeKIQrK0LGIw^news^mediaArticle^%EC%9D%B8%EA%B3%B5%EC%A7%80%EB%8A%A5^266_SzzeKIQrK0LGIw</span> </div>,\n",
       " <div class=\"wrap_cont\"> <a class=\"tit_main fn_tit_u\" href=\"http://v.media.daum.net/v/20220120113615510?f=o\" onclick='smartLog(this, \"dc=NNS&amp;d=26oxW8gJfXBEk8XI1m&amp;pg=1&amp;r=6&amp;p=4&amp;rc=10&amp;e1=16JfL24RCJKYboAM86&amp;e3=0&amp;ext=dsid=26oxW8gJfXBEk8XI1m\", event, {\"cpid\": {\"value\": \"16JfL24RCJKYboAM86\"}});' target=\"_blank\">울산교육청, 전 중·고교생에 <b>인공지능</b> 영어학습 무상 지원</a> <p class=\"desc\">울산시교육청 전경 [울산=뉴시스]구미현 기자 = 울산시교육청이 <b>인공지능</b> 기반의 영어학습 서비스를 오는 3월부터 전체 중·고교 학생과 교원에게 지원한다고 20일 밝혔다. 시교육청은 LG CNS의 영어학습 플랫폼인 ‘스피킹클래스’와 ‘AI튜터 미션 잉글리쉬’ 학습...</p> <span class=\"cont_info\"> <span class=\"f_nb\">뉴시스</span> <span class=\"f_nb\">13시간전</span> <a class=\"f_nb\" href=\"http://v.media.daum.net/v/20220120113615510\" onclick='smartLog(this, \"dc=NNS&amp;d=26oxW8gJfXBEk8XI1m&amp;pg=1&amp;r=6&amp;p=3&amp;rc=10&amp;e1=16JfL24RCJKYboAM86&amp;e3=0&amp;ext=dsid=26oxW8gJfXBEk8XI1m\", event, {\"cpid\": {\"value\": \"16JfL24RCJKYboAM86\"}});' target=\"_blank\">다음뉴스</a> </span> <div class=\"cont_rel\"> <dl> <dt class=\"screen_out\">관련기사</dt> <dd> <a class=\"tit_rel f_link\" href=\"http://v.media.daum.net/v/20220120164037314?f=o\" onclick='smartLog(this, \"dc=NNS&amp;d=26mSEAL_oEpqg6cU5g&amp;pg=1&amp;r=6&amp;p=5&amp;rc=10&amp;e1=16b9_Haq_djmtbOGBh&amp;e3=0&amp;ext=dsid=26mSEAL_oEpqg6cU5g&amp;rtt=parent&amp;rtid=26oxW8gJfXBEk8XI1m&amp;rtsc=\", event, {\"cpid\": {\"value\": \"16b9_Haq_djmtbOGBh\"}});' target=\"_blank\"> 울산교육청, 3월부터 <b>인공지능</b> 기반 영어학습 지원 </a> <span class=\"cont_info\"> <span class=\"f_nb\">뉴스1</span> <span class=\"f_nb\">8시간전</span> <a class=\"f_nb\" href=\"http://v.media.daum.net/v/20220120164037314\" onclick='smartLog(this, \"dc=NNS&amp;d=26mSEAL_oEpqg6cU5g&amp;pg=1&amp;r=6&amp;p=12&amp;rc=10&amp;e1=16b9_Haq_djmtbOGBh&amp;e3=0&amp;ext=dsid=26mSEAL_oEpqg6cU5g&amp;rtt=parent&amp;rtid=26oxW8gJfXBEk8XI1m&amp;rtsc=\", event, {\"cpid\": {\"value\": \"16b9_Haq_djmtbOGBh\"}});' target=\"_blank\">다음뉴스</a> </span> </dd> <dd> <a class=\"tit_rel f_link\" href=\"https://cp.news.search.daum.net/p/115273702\" onclick='smartLog(this, \"dc=NNS&amp;d=26vkQ-PIorr_-aznOB&amp;pg=1&amp;r=6&amp;p=6&amp;rc=10&amp;e1=163heLOpmRUPcv9Szf&amp;e3=0&amp;ext=dsid=26vkQ-PIorr_-aznOB&amp;rtt=parent&amp;rtid=26oxW8gJfXBEk8XI1m&amp;rtsc=\", event, {\"cpid\": {\"value\": \"163heLOpmRUPcv9Szf\"}});' target=\"_blank\"> 울산시교육청, <b>인공지능</b> 기반 영어학습 지원 </a> <span class=\"cont_info\"> <span class=\"f_nb\">울산종합일보</span> <span class=\"f_nb\">8시간전</span> </span> </dd> <dd> <a class=\"tit_rel f_link\" href=\"https://cp.news.search.daum.net/p/115259871\" onclick='smartLog(this, \"dc=NNS&amp;d=26R6t4T139UdKuoFUy&amp;pg=1&amp;r=6&amp;p=7&amp;rc=10&amp;e1=16ghLeq4G84dhsgmTd&amp;e3=0&amp;ext=dsid=26R6t4T139UdKuoFUy&amp;rtt=parent&amp;rtid=26oxW8gJfXBEk8XI1m&amp;rtsc=\", event, {\"cpid\": {\"value\": \"16ghLeq4G84dhsgmTd\"}});' target=\"_blank\"> 울산교육청, <b>인공지능</b> 기반 영어학습 지원 </a> <span class=\"cont_info\"> <span class=\"f_nb\">경남에나뉴스</span> <span class=\"f_nb\">11시간전</span> </span> </dd> </dl> <a class=\"link_cluster f_nb\" href=\"?w=news&amp;req=tab&amp;q=%EC%9D%B8%EA%B3%B5%EC%A7%80%EB%8A%A5&amp;cluster=y&amp;viewio=i&amp;repno=0&amp;n=10&amp;p=1&amp;related_page=1&amp;cluster_docid=26oxW8gJfXBEk8XI1m&amp;DA=NTB\" onclick='smartLog(this, \"dc=NNS&amp;ext=dsid=26oxW8gJfXBEk8XI1m&amp;d=26oxW8gJfXBEk8XI1m&amp;pg=1&amp;r=6&amp;p=19&amp;rc=10&amp;e1=16JfL24RCJKYboAM86\", event);'> 관련뉴스 <b>7</b>건 전체보기<span class=\"ico_rwd\"></span> </a> </div> <span id=\"newsSQC_t1_5\" style=\"display:none;\">10301^http://v.media.daum.net/v/20220120113615510?f=o^26oxW8gJfXBEk8XI1m^news^mediaArticle^%EC%9D%B8%EA%B3%B5%EC%A7%80%EB%8A%A5^26oxW8gJfXBEk8XI1m</span> </div>,\n",
       " <div class=\"wrap_cont\"> <a class=\"tit_main fn_tit_u\" href=\"http://v.media.daum.net/v/20220120170304130?f=o\" onclick='smartLog(this, \"dc=NNS&amp;d=26M3y7TtrMzEtfZwbO&amp;pg=1&amp;r=7&amp;p=4&amp;rc=10&amp;e1=16nzyJHdH5ORpabfqG&amp;e3=0&amp;ext=dsid=26M3y7TtrMzEtfZwbO\", event, {\"cpid\": {\"value\": \"16nzyJHdH5ORpabfqG\"}});' target=\"_blank\"><b>인공지능</b>이 중심인 미래 시대에 되묻는 '인간 중심성의 신화'</a> <p class=\"tit_sub f_nb\">머핀과 치와와(21~30일)</p> <p class=\"desc\">남성과 여성의 차이를 구별하기 어렵다’는 내용의 논문을 발표하기도 했다. 최근에는 머핀과 치와와를 구별하지 못하는 <b>인공지능</b>(AI)이 알려지면서 기술의 한계를 드러내기도 했다. ‘다음 세상을 여는 예술가’를 뽑는 서울문화재단의 비넥스트(BENXT)에 선정된...</p> <span class=\"cont_info\"> <span class=\"f_nb\">한겨레</span> <span class=\"f_nb\">7시간전</span> <a class=\"f_nb\" href=\"http://v.media.daum.net/v/20220120170304130\" onclick='smartLog(this, \"dc=NNS&amp;d=26M3y7TtrMzEtfZwbO&amp;pg=1&amp;r=7&amp;p=3&amp;rc=10&amp;e1=16nzyJHdH5ORpabfqG&amp;e3=0&amp;ext=dsid=26M3y7TtrMzEtfZwbO\", event, {\"cpid\": {\"value\": \"16nzyJHdH5ORpabfqG\"}});' target=\"_blank\">다음뉴스</a> </span> <span id=\"newsSQC_t1_6\" style=\"display:none;\">10301^http://v.media.daum.net/v/20220120170304130?f=o^26M3y7TtrMzEtfZwbO^news^mediaArticle^%EC%9D%B8%EA%B3%B5%EC%A7%80%EB%8A%A5^26M3y7TtrMzEtfZwbO</span> </div>,\n",
       " <div class=\"wrap_cont\"> <a class=\"tit_main fn_tit_u\" href=\"https://cp.news.search.daum.net/p/115247554\" onclick='smartLog(this, \"dc=NNS&amp;d=26kCLVW0EWtpOj2uoN&amp;pg=1&amp;r=8&amp;p=4&amp;rc=10&amp;e1=16LCcWbu_th-HHdy13&amp;e3=0&amp;ext=dsid=26kCLVW0EWtpOj2uoN\", event, {\"cpid\": {\"value\": \"16LCcWbu_th-HHdy13\"}});' target=\"_blank\"><b>인공지능</b> 경쟁력 강화를 위해 민·관이 함께한다</a> <p class=\"desc\">과기정통부, ‘제2회 <b>인공지능</b>최고위전략대화(AIStrategySummit)’ 개최[보안뉴스 박미영 기자] 과학기술정보통신부(이하 과기정통부)는 민·관이 <b>인공지능</b> 분야의 비전을 공유하고 전략적 협력 방안을 논의하기 위해 ‘제2회 <b>인공지능</b> 최고위 전략대화(AI Strategy...</p> <span class=\"cont_info\"> <span class=\"f_nb\">보안뉴스</span> <span class=\"f_nb\">15시간전</span> </span> <div class=\"cont_rel\"> <dl> <dt class=\"screen_out\">관련기사</dt> <dd> <a class=\"tit_rel f_link\" href=\"https://cp.news.search.daum.net/p/115239072\" onclick='smartLog(this, \"dc=NNS&amp;d=26Sr9Y75_sVJqHCxq2&amp;pg=1&amp;r=8&amp;p=5&amp;rc=10&amp;e1=16Di4dkj6V1Ygv8tk7&amp;e3=0&amp;ext=dsid=26Sr9Y75_sVJqHCxq2&amp;rtt=parent&amp;rtid=26kCLVW0EWtpOj2uoN&amp;rtsc=\", event, {\"cpid\": {\"value\": \"16Di4dkj6V1Ygv8tk7\"}});' target=\"_blank\"> AI경쟁력 강화 위해 민‧관이 함께 한다!...과기정... </a> <span class=\"cont_info\"> <span class=\"f_nb\">인공지능신문</span> <span class=\"f_nb\">2022.01.19</span> </span> </dd> </dl> </div> <span id=\"newsSQC_t1_7\" style=\"display:none;\">10301^https://cp.news.search.daum.net/p/115247554^26kCLVW0EWtpOj2uoN^news^mediaArticle^%EC%9D%B8%EA%B3%B5%EC%A7%80%EB%8A%A5^26kCLVW0EWtpOj2uoN</span> </div>,\n",
       " <div class=\"wrap_cont\"> <a class=\"tit_main fn_tit_u\" href=\"http://v.media.daum.net/v/20220117152045653?f=o\" onclick='smartLog(this, \"dc=NNS&amp;d=26wH2xLryRHw4ry50f&amp;pg=1&amp;r=9&amp;p=4&amp;rc=10&amp;e1=16Fbn8iLTIqdeOvaST&amp;e3=0&amp;ext=dsid=26wH2xLryRHw4ry50f\", event, {\"cpid\": {\"value\": \"16Fbn8iLTIqdeOvaST\"}});' target=\"_blank\">한국<b>인공지능</b>윤리협회, 한국-캐나다 <b>인공지능</b> 교육 연구 보고서 공개</a> <p class=\"tit_sub f_nb\">- 캐나다아시아태평양재단, 중앙대학교 인문콘텐츠연구소와 AI 교육 공동 연구- 인공지능 기술, 인공지능 윤리의 조화로운 교육 강조</p> <p class=\"desc\">[서울경제] 코로나19 팬데믹 속에서 전세계적으로 <b>인공지능</b>(AI) 도입이 가속화되고 있다. 세계 각국이 <b>인공지능</b> 기술과 산업을 진흥하고 있지만, 정작 <b>인공지능</b> 전문가의 부족은 그 수요를 따라잡지 못하고 있다. 이와 같은 상황에서 우리나라도 AI 인재 양성을 위해...</p> <span class=\"cont_info\"> <span class=\"f_nb\">서울경제</span> <span class=\"f_nb\">2022.01.17</span> <a class=\"f_nb\" href=\"http://v.media.daum.net/v/20220117152045653\" onclick='smartLog(this, \"dc=NNS&amp;d=26wH2xLryRHw4ry50f&amp;pg=1&amp;r=9&amp;p=3&amp;rc=10&amp;e1=16Fbn8iLTIqdeOvaST&amp;e3=0&amp;ext=dsid=26wH2xLryRHw4ry50f\", event, {\"cpid\": {\"value\": \"16Fbn8iLTIqdeOvaST\"}});' target=\"_blank\">다음뉴스</a> </span> <div class=\"cont_rel\"> <dl> <dt class=\"screen_out\">관련기사</dt> <dd> <a class=\"tit_rel f_link\" href=\"https://cp.news.search.daum.net/p/115122656\" onclick='smartLog(this, \"dc=NNS&amp;d=26C1ntbbhWIZY22sK1&amp;pg=1&amp;r=9&amp;p=5&amp;rc=10&amp;e1=16LF73daRP8xmsgeQs&amp;e3=0&amp;ext=dsid=26C1ntbbhWIZY22sK1&amp;rtt=parent&amp;rtid=26wH2xLryRHw4ry50f&amp;rtsc=\", event, {\"cpid\": {\"value\": \"16LF73daRP8xmsgeQs\"}});' target=\"_blank\"> 한국<b>인공지능</b>윤리협회, 한국-캐나다 AI 교육 연구 ... </a> <span class=\"cont_info\"> <span class=\"f_nb\">메트로신문</span> <span class=\"f_nb\">2022.01.17</span> </span> </dd> </dl> </div> <span id=\"newsSQC_t1_8\" style=\"display:none;\">10301^http://v.media.daum.net/v/20220117152045653?f=o^26wH2xLryRHw4ry50f^news^mediaArticle^%EC%9D%B8%EA%B3%B5%EC%A7%80%EB%8A%A5^26wH2xLryRHw4ry50f</span> </div>,\n",
       " <div class=\"wrap_cont\"> <a class=\"tit_main fn_tit_u\" href=\"https://cp.news.search.daum.net/p/115243644\" onclick='smartLog(this, \"dc=NNS&amp;d=264LxAXOC1cilQBiL5&amp;pg=1&amp;r=10&amp;p=4&amp;rc=10&amp;e1=16m6acv12x0BGjM8Kg&amp;e3=0&amp;ext=dsid=264LxAXOC1cilQBiL5\", event, {\"cpid\": {\"value\": \"16m6acv12x0BGjM8Kg\"}});' target=\"_blank\">“<b>인공지능</b>과 어떻게 공존할 것인가” 한상기의 신간 ‘신뢰할 수 있는 <b>인공지능</b>’</a> <p class=\"desc\">[한국강사신문 김지영 기자] 국내 최초 <b>인공지능</b>의 신뢰 문제에 관한 본격적인 논의와 가이드라인을 담은 책! <b>인공지능</b>의 윤리와 신뢰의 문제는 미래의 일이 아닌 지금 일어나는 시급한 일이다! <b>인공지능</b>과 어떻게 공존할 것인가. <b>인공지능</b>의 의사결정 지원을 신뢰할...</p> <span class=\"cont_info\"> <span class=\"f_nb\">한국강사신문</span> <span class=\"f_nb\">16시간전</span> </span> <span id=\"newsSQC_t1_9\" style=\"display:none;\">10301^https://cp.news.search.daum.net/p/115243644^264LxAXOC1cilQBiL5^news^mediaArticle^%EC%9D%B8%EA%B3%B5%EC%A7%80%EB%8A%A5^264LxAXOC1cilQBiL5</span> </div>]"
      ]
     },
     "execution_count": 45,
     "metadata": {},
     "output_type": "execute_result"
    }
   ],
   "source": [
    "tags = soup.select(path)\n",
    "tags"
   ]
  },
  {
   "cell_type": "code",
   "execution_count": 46,
   "id": "2224b08c",
   "metadata": {},
   "outputs": [
    {
     "data": {
      "text/plain": [
       "' [보일스님이 들려주는 인공지능 이야기] <11> 인공지능 특이점과 불교① 주고받는 경우를 상상해 보자. 그것도 인간은 알아들을 수도, 이해할 수도 없는 언어로 말이다. 이런 상황은 애초에 인간들이 인공지능을 만들면서 상상은 해봤지만, 원했던 일은 아니었다. 그런데, 2017년, 상상했던 것과 유사한 일이 실제로 일어났다. 페이스북...  불교신문 15시간전  10301^https://cp.news.search.daum.net/p/115245320^26AArLjoY4HBbVxbRy^news^mediaArticle^%EC%9D%B8%EA%B3%B5%EC%A7%80%EB%8A%A5^26AArLjoY4HBbVxbRy '"
      ]
     },
     "execution_count": 46,
     "metadata": {},
     "output_type": "execute_result"
    }
   ],
   "source": [
    "# url 추출\n",
    "tags[0].text"
   ]
  },
  {
   "cell_type": "code",
   "execution_count": 49,
   "id": "6145bf83",
   "metadata": {},
   "outputs": [
    {
     "data": {
      "text/plain": [
       "[<a class=\"tit_main fn_tit_u\" href=\"https://cp.news.search.daum.net/p/115245320\" onclick='smartLog(this, \"dc=NNS&amp;d=26AArLjoY4HBbVxbRy&amp;pg=1&amp;r=1&amp;p=4&amp;rc=10&amp;e1=16mDBlbisJS3wxqCxs&amp;e3=0&amp;ext=dsid=26AArLjoY4HBbVxbRy\", event, {\"cpid\": {\"value\": \"16mDBlbisJS3wxqCxs\"}});' target=\"_blank\">[보일스님이 들려주는 <b>인공지능</b> 이야기] &lt;11&gt; <b>인공지능</b> 특이점과 불교①</a>]"
      ]
     },
     "execution_count": 49,
     "metadata": {},
     "output_type": "execute_result"
    }
   ],
   "source": [
    "tags[0].select('a.tit_main') # 리스트 형식"
   ]
  },
  {
   "cell_type": "code",
   "execution_count": 50,
   "id": "75fbece4",
   "metadata": {},
   "outputs": [
    {
     "data": {
      "text/plain": [
       "<a class=\"tit_main fn_tit_u\" href=\"https://cp.news.search.daum.net/p/115245320\" onclick='smartLog(this, \"dc=NNS&amp;d=26AArLjoY4HBbVxbRy&amp;pg=1&amp;r=1&amp;p=4&amp;rc=10&amp;e1=16mDBlbisJS3wxqCxs&amp;e3=0&amp;ext=dsid=26AArLjoY4HBbVxbRy\", event, {\"cpid\": {\"value\": \"16mDBlbisJS3wxqCxs\"}});' target=\"_blank\">[보일스님이 들려주는 <b>인공지능</b> 이야기] &lt;11&gt; <b>인공지능</b> 특이점과 불교①</a>"
      ]
     },
     "execution_count": 50,
     "metadata": {},
     "output_type": "execute_result"
    }
   ],
   "source": [
    "tags[0].select('a.tit_main')[0] #요소"
   ]
  },
  {
   "cell_type": "code",
   "execution_count": 54,
   "id": "80c5b316",
   "metadata": {},
   "outputs": [],
   "source": [
    "# tags[0].select('a.tit_main')['href']\n",
    "# TypeError: list indices must be integers or slices, not str"
   ]
  },
  {
   "cell_type": "code",
   "execution_count": 52,
   "id": "cc13b668",
   "metadata": {},
   "outputs": [
    {
     "data": {
      "text/plain": [
       "'https://cp.news.search.daum.net/p/115245320'"
      ]
     },
     "execution_count": 52,
     "metadata": {},
     "output_type": "execute_result"
    }
   ],
   "source": [
    "tags[0].select('a.tit_main')[0]['href']  # 이중리스트에서 요소 뽑는 느낌"
   ]
  },
  {
   "cell_type": "code",
   "execution_count": 53,
   "id": "3785be52",
   "metadata": {},
   "outputs": [
    {
     "name": "stdout",
     "output_type": "stream",
     "text": [
      "https://cp.news.search.daum.net/p/115245320\n",
      "https://cp.news.search.daum.net/p/115280280\n",
      "http://v.media.daum.net/v/20220120132411132?f=o\n",
      "http://v.media.daum.net/v/20220120164712538?f=o\n",
      "http://v.media.daum.net/v/20220119104408374?f=o\n",
      "http://v.media.daum.net/v/20220120113615510?f=o\n",
      "http://v.media.daum.net/v/20220120170304130?f=o\n",
      "https://cp.news.search.daum.net/p/115247554\n",
      "http://v.media.daum.net/v/20220117152045653?f=o\n",
      "https://cp.news.search.daum.net/p/115243644\n"
     ]
    }
   ],
   "source": [
    "# 원문URL 출력\n",
    "\n",
    "for tag in tags:\n",
    "    print(tag.select('a.tit_main')[0]['href'])"
   ]
  },
  {
   "cell_type": "code",
   "execution_count": null,
   "id": "1a54b244",
   "metadata": {},
   "outputs": [],
   "source": []
  }
 ],
 "metadata": {
  "kernelspec": {
   "display_name": "Python 3 (ipykernel)",
   "language": "python",
   "name": "python3"
  },
  "language_info": {
   "codemirror_mode": {
    "name": "ipython",
    "version": 3
   },
   "file_extension": ".py",
   "mimetype": "text/x-python",
   "name": "python",
   "nbconvert_exporter": "python",
   "pygments_lexer": "ipython3",
   "version": "3.9.7"
  }
 },
 "nbformat": 4,
 "nbformat_minor": 5
}
