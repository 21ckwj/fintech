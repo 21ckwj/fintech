{
 "cells": [
  {
   "cell_type": "markdown",
   "id": "f64aa135",
   "metadata": {},
   "source": [
    "    \n",
    "네이버 카페(iframe구조) 크롤링"
   ]
  },
  {
   "cell_type": "code",
   "execution_count": 23,
   "id": "2b25ab49",
   "metadata": {},
   "outputs": [],
   "source": [
    "import requests\n",
    "from bs4 import BeautifulSoup\n",
    "\n",
    "from selenium import webdriver\n",
    "from selenium.webdriver.common.keys import Keys"
   ]
  },
  {
   "cell_type": "code",
   "execution_count": 24,
   "id": "328cb06a",
   "metadata": {},
   "outputs": [],
   "source": [
    "url = 'https://cafe.naver.com/joonggonara'"
   ]
  },
  {
   "cell_type": "code",
   "execution_count": 25,
   "id": "3897275e",
   "metadata": {},
   "outputs": [],
   "source": [
    "driver = webdriver.Chrome()\n",
    "driver.get(url)"
   ]
  },
  {
   "cell_type": "code",
   "execution_count": 26,
   "id": "45f22b9b",
   "metadata": {},
   "outputs": [
    {
     "name": "stderr",
     "output_type": "stream",
     "text": [
      "C:\\Users\\21ckw\\AppData\\Local\\Temp/ipykernel_16068/1450859144.py:1: DeprecationWarning: find_element_by_* commands are deprecated. Please use find_element() instead\n",
      "  elem = driver.find_element_by_css_selector('#topLayerQueryInput')\n"
     ]
    }
   ],
   "source": [
    "elem = driver.find_element_by_css_selector('#topLayerQueryInput')"
   ]
  },
  {
   "cell_type": "code",
   "execution_count": 27,
   "id": "ed2cd9ca",
   "metadata": {},
   "outputs": [],
   "source": [
    "elem.send_keys('신발')"
   ]
  },
  {
   "cell_type": "code",
   "execution_count": 28,
   "id": "a477c2cf",
   "metadata": {},
   "outputs": [],
   "source": [
    "elem.send_keys(Keys.RETURN)"
   ]
  },
  {
   "cell_type": "code",
   "execution_count": 29,
   "id": "7ef216ef",
   "metadata": {},
   "outputs": [],
   "source": [
    "# html = driver.page_source\n",
    "# soup = BeautifulSoup(html, 'html.parser')"
   ]
  },
  {
   "cell_type": "code",
   "execution_count": 30,
   "id": "215b4a78",
   "metadata": {},
   "outputs": [
    {
     "name": "stderr",
     "output_type": "stream",
     "text": [
      "C:\\Users\\21ckw\\AppData\\Local\\Temp/ipykernel_16068/1036171933.py:3: DeprecationWarning: find_element_by_* commands are deprecated. Please use find_element() instead\n",
      "  iframe = driver.find_element_by_id('cafe_main')\n"
     ]
    }
   ],
   "source": [
    "# iframe구조 - 내부 프레임으로 이동 _switch_to.frame() 함수 사용\n",
    "\n",
    "iframe = driver.find_element_by_id('cafe_main')\n",
    "driver.switch_to.frame(iframe)"
   ]
  },
  {
   "cell_type": "code",
   "execution_count": 33,
   "id": "dc23c81e",
   "metadata": {},
   "outputs": [
    {
     "name": "stderr",
     "output_type": "stream",
     "text": [
      "C:\\Users\\21ckw\\AppData\\Local\\Temp/ipykernel_16068/2190463503.py:2: DeprecationWarning: find_elements_by_* commands are deprecated. Please use find_elements() instead\n",
      "  elem = driver.find_elements_by_css_selector('a.article')  #find_element_by 가 아님에 유의\n"
     ]
    },
    {
     "data": {
      "text/plain": [
       "[<selenium.webdriver.remote.webelement.WebElement (session=\"c2a73f760a389560746ea0d5fa0e2c44\", element=\"16d7ab3f-e2b6-4b2e-924a-ac24695dd865\")>,\n",
       " <selenium.webdriver.remote.webelement.WebElement (session=\"c2a73f760a389560746ea0d5fa0e2c44\", element=\"4a3b2c53-4f92-44e6-9d32-c4d84ee2ff6b\")>,\n",
       " <selenium.webdriver.remote.webelement.WebElement (session=\"c2a73f760a389560746ea0d5fa0e2c44\", element=\"76b6fb1c-fd70-4303-a0a9-487630c824e2\")>,\n",
       " <selenium.webdriver.remote.webelement.WebElement (session=\"c2a73f760a389560746ea0d5fa0e2c44\", element=\"81a14fff-d575-4539-b986-48a236e526e0\")>,\n",
       " <selenium.webdriver.remote.webelement.WebElement (session=\"c2a73f760a389560746ea0d5fa0e2c44\", element=\"6773fed8-b695-43a6-9226-e569b0804970\")>,\n",
       " <selenium.webdriver.remote.webelement.WebElement (session=\"c2a73f760a389560746ea0d5fa0e2c44\", element=\"23688b96-2ba3-447a-a5ac-63548ea3ef93\")>,\n",
       " <selenium.webdriver.remote.webelement.WebElement (session=\"c2a73f760a389560746ea0d5fa0e2c44\", element=\"6737ddf0-2e6b-4bb9-b1b1-25411dcbbf31\")>,\n",
       " <selenium.webdriver.remote.webelement.WebElement (session=\"c2a73f760a389560746ea0d5fa0e2c44\", element=\"72ec690f-a8a1-4dae-983d-a2ad93e28798\")>,\n",
       " <selenium.webdriver.remote.webelement.WebElement (session=\"c2a73f760a389560746ea0d5fa0e2c44\", element=\"7e1d0085-ce9a-44a0-87a9-678d6de071c4\")>,\n",
       " <selenium.webdriver.remote.webelement.WebElement (session=\"c2a73f760a389560746ea0d5fa0e2c44\", element=\"1b9fff32-5bfd-4719-af98-21cacbc989eb\")>,\n",
       " <selenium.webdriver.remote.webelement.WebElement (session=\"c2a73f760a389560746ea0d5fa0e2c44\", element=\"258fa5e2-6d74-4d93-9515-29e9f81cfd08\")>,\n",
       " <selenium.webdriver.remote.webelement.WebElement (session=\"c2a73f760a389560746ea0d5fa0e2c44\", element=\"a491795f-3f3a-480f-b19d-67080742c210\")>,\n",
       " <selenium.webdriver.remote.webelement.WebElement (session=\"c2a73f760a389560746ea0d5fa0e2c44\", element=\"d86d8801-94fd-4a08-8a82-2c1a08350630\")>,\n",
       " <selenium.webdriver.remote.webelement.WebElement (session=\"c2a73f760a389560746ea0d5fa0e2c44\", element=\"1ef3ab50-eb94-4bc8-9d90-113e088ab13e\")>,\n",
       " <selenium.webdriver.remote.webelement.WebElement (session=\"c2a73f760a389560746ea0d5fa0e2c44\", element=\"25219c80-131e-41b2-aae9-29062b7debf6\")>]"
      ]
     },
     "execution_count": 33,
     "metadata": {},
     "output_type": "execute_result"
    }
   ],
   "source": [
    "# elem = driver.find_element_by_css_selector('#main-area > div > table > tbody > tr > td.td_article > div.board-list > div > a')\n",
    "elem = driver.find_elements_by_css_selector('a.article')  #find_element_by 가 아님에 유의\n",
    "elem"
   ]
  },
  {
   "cell_type": "code",
   "execution_count": 34,
   "id": "3a7ac3a3",
   "metadata": {
    "scrolled": true
   },
   "outputs": [
    {
     "name": "stdout",
     "output_type": "stream",
     "text": [
      "여성 신발 3\n",
      "나이키 유아 신발 판매합니다 맥스 등등 (사이즈 130)\n",
      "새제품 270 아디다스 가죽 스니커즈 신발 남자 운동화 단화 나이키 뉴발란스 라코스테 프레드페리 발렌시아 컨버스 조던1로우 슈퍼코트 조던\n",
      "배드민턴 신발~요넥스파워쿠션 이클립션 Z~ 240미리\n",
      "아디다스 유아 신발 판매합니다.\n",
      "180사이즈 여아 신발판매\n",
      "신발 255mm사이즈(남자) 신지 않은 거의 새제품\n",
      "[정품][국내백화점 구매] 디올 옴므 DIOR HOMME 끈+쇼핑백 종이가방 판매합니다. (가방, 신발, 악세사리, 스카프 등 담으실 수 있음)\n",
      "[정품][국내백화점 구매] 디올 DIOR 홀리데이 끈+쇼핑백 명품 종이가방 판매합니다. (가방, 신발, 악세사리, 스카프 등 담으실 수 있음)\n",
      "(새신발)닥터마틴 8홀부츠 230mm\n",
      "스피드스케이트 신발\n",
      "노스페이스 250 고어텍스 신발\n",
      "꼬무신 아기신발 키즈신발 135\n",
      "꼬무신 아기신발 키즈신발 125\n",
      "[정품][백화점 구매] 토즈 TOD'S 쇼핑백, 종이가방 중/대 사이즈 총4개 판매합니다. 신발박스, 핸드백 들어갑니다.\n"
     ]
    }
   ],
   "source": [
    "# 출력\n",
    "\n",
    "for e in elem:\n",
    "    print(e.text)"
   ]
  },
  {
   "cell_type": "code",
   "execution_count": null,
   "id": "91dbe791",
   "metadata": {},
   "outputs": [],
   "source": []
  }
 ],
 "metadata": {
  "kernelspec": {
   "display_name": "Python 3 (ipykernel)",
   "language": "python",
   "name": "python3"
  },
  "language_info": {
   "codemirror_mode": {
    "name": "ipython",
    "version": 3
   },
   "file_extension": ".py",
   "mimetype": "text/x-python",
   "name": "python",
   "nbconvert_exporter": "python",
   "pygments_lexer": "ipython3",
   "version": "3.9.7"
  }
 },
 "nbformat": 4,
 "nbformat_minor": 5
}
