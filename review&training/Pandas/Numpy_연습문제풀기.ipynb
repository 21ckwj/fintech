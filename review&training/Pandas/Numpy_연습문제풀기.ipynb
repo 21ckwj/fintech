{
 "cells": [
  {
   "cell_type": "markdown",
   "id": "cdefbe6c",
   "metadata": {},
   "source": [
    "## numpy 연습문제\n",
    "\n",
    "url = 'https://www.machinelearningplus.com/python/101-numpy-exercises-python/'"
   ]
  },
  {
   "cell_type": "code",
   "execution_count": null,
   "id": "3386c20a",
   "metadata": {},
   "outputs": [],
   "source": [
    "#1 ~ 5\n",
    "\n",
    "#2.How to create a 1D array?\n",
    "# Difficulty Level: L1 Q. Create a 1D array of numbers from 0 to 9 Desired output:\n",
    "#> array([0, 1, 2, 3, 4, 5, 6, 7, 8, 9])\n",
    "\n",
    "#3. How to create a boolean array?\n",
    "# Difficulty Level: L1 Q. Create a 3×3 numpy array of all True’s\n",
    "\n",
    "#4. How to extract items that satisfy a given condition from 1D array?\n",
    "# Difficulty Level: L1 Q. Extract all odd numbers from arr Input:\n",
    "#         arr = np.array([0, 1, 2, 3, 4, 5, 6, 7, 8, 9])\n",
    "# Desired output:\n",
    "\n",
    "#> array([1, 3, 5, 7, 9])\n",
    "\n",
    "# 5. How to replace items that satisfy a condition with another value in numpy array?\n",
    "# Difficulty Level: L1 Q. Replace all odd numbers in arr with -1 Input:\n",
    "\n",
    "# arr = np.array([0, 1, 2, 3, 4, 5, 6, 7, 8, 9])\n",
    "# Desired Output:\n",
    "\n",
    "# #>  array([ 0, -1,  2, -1,  4, -1,  6, -1,  8, -1])\n"
   ]
  },
  {
   "cell_type": "code",
   "execution_count": null,
   "id": "3c52a873",
   "metadata": {},
   "outputs": [],
   "source": []
  },
  {
   "cell_type": "code",
   "execution_count": null,
   "id": "174d7e09",
   "metadata": {},
   "outputs": [],
   "source": [
    "# 1. Import numpy as np and see the version\n",
    "# Difficulty Level: L1 Q. Import numpy as `np` and print the version number"
   ]
  },
  {
   "cell_type": "code",
   "execution_count": 2,
   "id": "c523ea3a",
   "metadata": {},
   "outputs": [
    {
     "name": "stdout",
     "output_type": "stream",
     "text": [
      "1.20.3\n"
     ]
    }
   ],
   "source": [
    "import numpy as np\n",
    "print(np.__version__)"
   ]
  },
  {
   "cell_type": "code",
   "execution_count": null,
   "id": "6c327ccf",
   "metadata": {},
   "outputs": [],
   "source": [
    "# 2. How to create a 1D array?\n",
    "# Difficulty Level: L1 Q. Create a 1D array of numbers from 0 to 9 Desired output:\n",
    "\n",
    "#> array([0, 1, 2, 3, 4, 5, 6, 7, 8, 9])"
   ]
  },
  {
   "cell_type": "code",
   "execution_count": 5,
   "id": "cebc9506",
   "metadata": {},
   "outputs": [
    {
     "data": {
      "text/plain": [
       "array([0, 1, 2, 3, 4, 5, 6, 7, 8, 9])"
      ]
     },
     "execution_count": 5,
     "metadata": {},
     "output_type": "execute_result"
    }
   ],
   "source": [
    "np.array(np.arange(10))"
   ]
  },
  {
   "cell_type": "code",
   "execution_count": 6,
   "id": "d280ba1e",
   "metadata": {},
   "outputs": [],
   "source": [
    "# 3. How to create a boolean array?\n",
    "# Difficulty Level: L1 Q. Create a 3×3 numpy array of all True’s"
   ]
  },
  {
   "cell_type": "code",
   "execution_count": 7,
   "id": "aa8a38e1",
   "metadata": {},
   "outputs": [
    {
     "data": {
      "text/plain": [
       "array([[ True,  True,  True],\n",
       "       [ True,  True,  True],\n",
       "       [ True,  True,  True]])"
      ]
     },
     "execution_count": 7,
     "metadata": {},
     "output_type": "execute_result"
    }
   ],
   "source": [
    "#1\n",
    "np.full((3,3), True, dtype=bool)"
   ]
  },
  {
   "cell_type": "code",
   "execution_count": 9,
   "id": "13ec9504",
   "metadata": {},
   "outputs": [
    {
     "data": {
      "text/plain": [
       "array([[ True,  True,  True],\n",
       "       [ True,  True,  True],\n",
       "       [ True,  True,  True]])"
      ]
     },
     "execution_count": 9,
     "metadata": {},
     "output_type": "execute_result"
    }
   ],
   "source": [
    "#2\n",
    "np.ones((3,3), dtype= bool)"
   ]
  },
  {
   "cell_type": "code",
   "execution_count": 10,
   "id": "d2fd9eab",
   "metadata": {},
   "outputs": [],
   "source": [
    "# 4. How to extract items that satisfy a given condition from 1D array?\n",
    "# Difficulty Level: L1 Q. Extract all odd numbers from arr Input:\n",
    "#         arr = np.array([0, 1, 2, 3, 4, 5, 6, 7, 8, 9])\n",
    "# Desired output:\n",
    "\n",
    "# #> array([1, 3, 5, 7, 9])"
   ]
  },
  {
   "cell_type": "code",
   "execution_count": 14,
   "id": "12a59855",
   "metadata": {},
   "outputs": [
    {
     "data": {
      "text/plain": [
       "array([1, 3, 5, 7, 9])"
      ]
     },
     "execution_count": 14,
     "metadata": {},
     "output_type": "execute_result"
    }
   ],
   "source": [
    "arr = np.array([0, 1, 2, 3, 4, 5, 6, 7, 8, 9])\n",
    "\n",
    "arr[ arr%2 ==1 ]"
   ]
  },
  {
   "cell_type": "code",
   "execution_count": null,
   "id": "a52d8608",
   "metadata": {},
   "outputs": [],
   "source": [
    "# 5. How to replace items that satisfy a condition with another value in numpy array?\n",
    "# Difficulty Level: L1 Q. Replace all odd numbers in arr with -1 Input:\n",
    "\n",
    "# arr = np.array([0, 1, 2, 3, 4, 5, 6, 7, 8, 9])\n",
    "# Desired Output:\n",
    "\n",
    "# #>  array([ 0, -1,  2, -1,  4, -1,  6, -1,  8, -1])"
   ]
  },
  {
   "cell_type": "code",
   "execution_count": 16,
   "id": "4f062d14",
   "metadata": {},
   "outputs": [
    {
     "data": {
      "text/plain": [
       "array([ 0, -1,  2, -1,  4, -1,  6, -1,  8, -1])"
      ]
     },
     "execution_count": 16,
     "metadata": {},
     "output_type": "execute_result"
    }
   ],
   "source": [
    "arr = np.array([0, 1, 2, 3, 4, 5, 6, 7, 8, 9])\n",
    "arr[arr%2 ==1] = -1\n",
    "arr"
   ]
  },
  {
   "cell_type": "code",
   "execution_count": null,
   "id": "7ae03803",
   "metadata": {},
   "outputs": [],
   "source": [
    "# 6~10\n",
    "\n",
    "# 6. How to replace items that satisfy a condition without affecting the original array?\n",
    "# Difficulty Level: L2 Q. Replace all odd numbers in arr with -1 without changing arr Input\n",
    "# arr = np.array([0, 1, 2, 3, 4, 5, 6, 7, 8, 9])\n",
    "# Desired Output:\n",
    "\n",
    "# out\n",
    "#>  array([ 0, -1,  2, -1,  4, -1,  6, -1,  8, -1])\n",
    "# arr\n",
    "#>  array([0, 1, 2, 3, 4, 5, 6, 7, 8, 9])\n",
    "\n",
    "# 7. How to reshape an array?\n",
    "# Difficulty Level: L1 Q. Convert a 1D array to a 2D array with 2 rows Input:\n",
    "# np.arange(10)\n",
    "#> array([ 0, 1, 2, 3, 4, 5, 6, 7, 8, 9])\n",
    "\n",
    "# Desired Output:\n",
    "#> array([[0, 1, 2, 3, 4],\n",
    "#>        [5, 6, 7, 8, 9]])\n",
    "\n",
    "# 8. How to stack two arrays vertically?\n",
    "# Difficulty Level: L2 Q. Stack arrays a and b vertically Input\n",
    "\n",
    "# a = np.arange(10).reshape(2,-1)\n",
    "# b = np.repeat(1, 10).reshape(2,-1)\n",
    "# Desired Output:\n",
    "\n",
    "    #> array([[0, 1, 2, 3, 4],\n",
    "#>        [5, 6, 7, 8, 9],\n",
    "#>        [1, 1, 1, 1, 1],\n",
    "#>        [1, 1, 1, 1, 1]])\n",
    "\n",
    "# 9. How to stack two arrays horizontally?\n",
    "# Difficulty Level: L2 Q. Stack the arrays a and b horizontally. Input\n",
    "# 행렬 가로로 붙이기\n",
    "\n",
    "# a = np.arange(10).reshape(2,-1)\n",
    "# b = np.repeat(1, 10).reshape(2,-1)\n",
    "# Desired Output:\n",
    "\n",
    "#> array([[0, 1, 2, 3, 4, 1, 1, 1, 1, 1],\n",
    "#>        [5, 6, 7, 8, 9, 1, 1, 1, 1, 1]])\n",
    "\n",
    "# 10. How to generate custom sequences in numpy without hardcoding?\n",
    "# Difficulty Level: L2 Q. Create the following pattern without hardcoding. Use only numpy functions and the below input array a. Input:\n",
    "\n",
    "a = np.array([1,2,3])\n",
    "# Desired Output:\n",
    "\n",
    "#> array([1, 1, 1, 2, 2, 2, 3, 3, 3, 1, 2, 3, 1, 2, 3, 1, 2, 3])"
   ]
  },
  {
   "cell_type": "code",
   "execution_count": null,
   "id": "489ff31f",
   "metadata": {},
   "outputs": [],
   "source": [
    "# 6. How to replace items that satisfy a condition without affecting the original array?\n",
    "# Difficulty Level: L2 Q. Replace all odd numbers in arr with -1 without changing arr Input\n",
    "\n",
    "# arr = np.array([0, 1, 2, 3, 4, 5, 6, 7, 8, 9])\n",
    "# Desired Output:\n",
    "\n",
    "# out\n",
    "# #>  array([ 0, -1,  2, -1,  4, -1,  6, -1,  8, -1])\n",
    "# arr\n",
    "# #>  array([0, 1, 2, 3, 4, 5, 6, 7, 8, 9])"
   ]
  },
  {
   "cell_type": "code",
   "execution_count": 19,
   "id": "152c29f1",
   "metadata": {},
   "outputs": [
    {
     "name": "stdout",
     "output_type": "stream",
     "text": [
      "[0 1 2 3 4 5 6 7 8 9]\n",
      "[ 0 -1  2 -1  4 -1  6 -1  8 -1]\n"
     ]
    }
   ],
   "source": [
    "arr = np.arange(10)\n",
    "out = np.where(arr%2 ==1, -1, arr)\n",
    "print(arr)\n",
    "print(out)"
   ]
  },
  {
   "cell_type": "code",
   "execution_count": null,
   "id": "4ef4e882",
   "metadata": {},
   "outputs": [],
   "source": [
    "# 7. How to reshape an array?\n",
    "# Difficulty Level: L1 Q. Convert a 1D array to a 2D array with 2 rows Input:\n",
    "\n",
    "# np.arange(10)\n",
    "\n",
    "# #> array([ 0, 1, 2, 3, 4, 5, 6, 7, 8, 9])\n",
    "# Desired Output:\n",
    "\n",
    "# #> array([[0, 1, 2, 3, 4],\n",
    "# #>        [5, 6, 7, 8, 9]])"
   ]
  },
  {
   "cell_type": "code",
   "execution_count": 20,
   "id": "9b43faec",
   "metadata": {},
   "outputs": [
    {
     "data": {
      "text/plain": [
       "array([[0, 1, 2, 3, 4],\n",
       "       [5, 6, 7, 8, 9]])"
      ]
     },
     "execution_count": 20,
     "metadata": {},
     "output_type": "execute_result"
    }
   ],
   "source": [
    "np.arange(10).reshape(2,5)"
   ]
  },
  {
   "cell_type": "code",
   "execution_count": 21,
   "id": "e3a63b9a",
   "metadata": {},
   "outputs": [],
   "source": [
    "# 8. How to stack two arrays vertically?\n",
    "# Difficulty Level: L2 Q. Stack arrays a and b vertically Input\n",
    "\n",
    "a = np.arange(10).reshape(2,-1)\n",
    "b = np.repeat(1, 10).reshape(2,-1)\n",
    "# Desired Output:\n",
    "\n",
    "    #> array([[0, 1, 2, 3, 4],\n",
    "#>        [5, 6, 7, 8, 9],\n",
    "#>        [1, 1, 1, 1, 1],\n",
    "#>        [1, 1, 1, 1, 1]])"
   ]
  },
  {
   "cell_type": "code",
   "execution_count": 23,
   "id": "9d7c749f",
   "metadata": {},
   "outputs": [
    {
     "data": {
      "text/plain": [
       "array([[0, 1, 2, 3, 4],\n",
       "       [5, 6, 7, 8, 9],\n",
       "       [1, 1, 1, 1, 1],\n",
       "       [1, 1, 1, 1, 1]])"
      ]
     },
     "execution_count": 23,
     "metadata": {},
     "output_type": "execute_result"
    }
   ],
   "source": [
    "#3가지 방법\n",
    "#1. \n",
    "np.concatenate([a,b], axis=0)"
   ]
  },
  {
   "cell_type": "code",
   "execution_count": 24,
   "id": "2a0ae341",
   "metadata": {},
   "outputs": [
    {
     "data": {
      "text/plain": [
       "array([[0, 1, 2, 3, 4],\n",
       "       [5, 6, 7, 8, 9],\n",
       "       [1, 1, 1, 1, 1],\n",
       "       [1, 1, 1, 1, 1]])"
      ]
     },
     "execution_count": 24,
     "metadata": {},
     "output_type": "execute_result"
    }
   ],
   "source": [
    "#2.\n",
    "np.vstack([a,b])"
   ]
  },
  {
   "cell_type": "code",
   "execution_count": 25,
   "id": "386c2f79",
   "metadata": {},
   "outputs": [
    {
     "data": {
      "text/plain": [
       "array([[0, 1, 2, 3, 4],\n",
       "       [5, 6, 7, 8, 9],\n",
       "       [1, 1, 1, 1, 1],\n",
       "       [1, 1, 1, 1, 1]])"
      ]
     },
     "execution_count": 25,
     "metadata": {},
     "output_type": "execute_result"
    }
   ],
   "source": [
    "#3.\n",
    "np.r_[a,b]"
   ]
  },
  {
   "cell_type": "code",
   "execution_count": 26,
   "id": "682ae856",
   "metadata": {},
   "outputs": [],
   "source": [
    "# 9. How to stack two arrays horizontally?\n",
    "# Difficulty Level: L2 Q. Stack the arrays a and b horizontally. Input\n",
    "# 행렬 가로로 붙이기\n",
    "\n",
    "a = np.arange(10).reshape(2,-1)\n",
    "b = np.repeat(1, 10).reshape(2,-1)\n",
    "# Desired Output:\n",
    "\n",
    "#> array([[0, 1, 2, 3, 4, 1, 1, 1, 1, 1],\n",
    "#>        [5, 6, 7, 8, 9, 1, 1, 1, 1, 1]])"
   ]
  },
  {
   "cell_type": "code",
   "execution_count": 29,
   "id": "3d2ad933",
   "metadata": {},
   "outputs": [
    {
     "data": {
      "text/plain": [
       "array([[0, 1, 2, 3, 4],\n",
       "       [5, 6, 7, 8, 9]])"
      ]
     },
     "execution_count": 29,
     "metadata": {},
     "output_type": "execute_result"
    }
   ],
   "source": [
    "np.arange(10).reshape(2,-1)  # reshape(2,-1)에서 -1의 의미: 2행으로 열은 나머지로 알아서 맞춰라 "
   ]
  },
  {
   "cell_type": "code",
   "execution_count": 30,
   "id": "7596bb53",
   "metadata": {},
   "outputs": [
    {
     "data": {
      "text/plain": [
       "array([[0, 1, 2, 3, 4, 1, 1, 1, 1, 1],\n",
       "       [5, 6, 7, 8, 9, 1, 1, 1, 1, 1]])"
      ]
     },
     "execution_count": 30,
     "metadata": {},
     "output_type": "execute_result"
    }
   ],
   "source": [
    "#1.\n",
    "np.concatenate([a,b],axis=1)"
   ]
  },
  {
   "cell_type": "code",
   "execution_count": 32,
   "id": "3d98e1e0",
   "metadata": {},
   "outputs": [
    {
     "data": {
      "text/plain": [
       "array([[0, 1, 2, 3, 4, 1, 1, 1, 1, 1],\n",
       "       [5, 6, 7, 8, 9, 1, 1, 1, 1, 1]])"
      ]
     },
     "execution_count": 32,
     "metadata": {},
     "output_type": "execute_result"
    }
   ],
   "source": [
    "#2.\n",
    "np.hstack([a,b])"
   ]
  },
  {
   "cell_type": "code",
   "execution_count": 35,
   "id": "f40be815",
   "metadata": {},
   "outputs": [
    {
     "data": {
      "text/plain": [
       "array([[0, 1, 2, 3, 4, 1, 1, 1, 1, 1],\n",
       "       [5, 6, 7, 8, 9, 1, 1, 1, 1, 1]])"
      ]
     },
     "execution_count": 35,
     "metadata": {},
     "output_type": "execute_result"
    }
   ],
   "source": [
    "np.c_[a,b]"
   ]
  },
  {
   "cell_type": "code",
   "execution_count": 37,
   "id": "9e5b4904",
   "metadata": {},
   "outputs": [],
   "source": [
    "# 10. How to generate custom sequences in numpy without hardcoding?\n",
    "# Difficulty Level: L2 Q. Create the following pattern without hardcoding. Use only numpy functions and the below input array a. Input:\n",
    "\n",
    "a = np.array([1,2,3])\n",
    "# Desired Output:\n",
    "\n",
    "#> array([1, 1, 1, 2, 2, 2, 3, 3, 3, 1, 2, 3, 1, 2, 3, 1, 2, 3])"
   ]
  },
  {
   "cell_type": "code",
   "execution_count": 39,
   "id": "650eafa1",
   "metadata": {},
   "outputs": [
    {
     "data": {
      "text/plain": [
       "array([1, 1, 1, 2, 2, 2, 3, 3, 3, 1, 2, 3, 1, 2, 3, 1, 2, 3])"
      ]
     },
     "execution_count": 39,
     "metadata": {},
     "output_type": "execute_result"
    }
   ],
   "source": [
    "np.r_[np.repeat(a,3), np.tile(a,3)]"
   ]
  },
  {
   "cell_type": "code",
   "execution_count": 40,
   "id": "433873f3",
   "metadata": {},
   "outputs": [],
   "source": [
    "# 11. How to get the common items between two python numpy arrays?\n",
    "# Difficulty Level: L2 Q. Get the common items between a and b Input:\n",
    "\n",
    "a = np.array([1,2,3,2,3,4,3,4,5,6])\n",
    "b = np.array([7,2,10,2,7,4,9,4,9,8])\n",
    "# Desired Output:\n",
    "\n",
    "# array([2, 4])"
   ]
  },
  {
   "cell_type": "code",
   "execution_count": 42,
   "id": "662e3115",
   "metadata": {},
   "outputs": [
    {
     "data": {
      "text/plain": [
       "array([2, 4])"
      ]
     },
     "execution_count": 42,
     "metadata": {},
     "output_type": "execute_result"
    }
   ],
   "source": [
    "np.intersect1d(a,b)"
   ]
  },
  {
   "cell_type": "code",
   "execution_count": 44,
   "id": "aeecd6e9",
   "metadata": {},
   "outputs": [],
   "source": [
    "# 12. How to remove from one array those items that exist in another?\n",
    "# Difficulty Level: L2 Q. From array a remove all items present in array b Input:\n",
    "\n",
    "a = np.array([1,2,3,4,5])\n",
    "b = np.array([5,6,7,8,9])\n",
    "# Desired Output:\n",
    "\n",
    "# array([1,2,3,4])"
   ]
  },
  {
   "cell_type": "code",
   "execution_count": 45,
   "id": "257bd6ef",
   "metadata": {},
   "outputs": [
    {
     "data": {
      "text/plain": [
       "array([1, 2, 3, 4])"
      ]
     },
     "execution_count": 45,
     "metadata": {},
     "output_type": "execute_result"
    }
   ],
   "source": [
    "np.setdiff1d(a,b)"
   ]
  },
  {
   "cell_type": "code",
   "execution_count": 48,
   "id": "7399940d",
   "metadata": {},
   "outputs": [],
   "source": [
    "# 13. How to get the positions where elements of two arrays match?\n",
    "# Difficulty Level: L2 Q. Get the positions where elements of a and b match Input:\n",
    "\n",
    "a = np.array([1,2,3,2,3,4,3,4,5,6])\n",
    "b = np.array([7,2,10,2,7,4,9,4,9,8])\n",
    "# Desired Output:\n",
    "    #> (array([1, 3, 5, 7]),)"
   ]
  },
  {
   "cell_type": "code",
   "execution_count": 50,
   "id": "28beea03",
   "metadata": {},
   "outputs": [
    {
     "data": {
      "text/plain": [
       "(array([1, 3, 5, 7], dtype=int64),)"
      ]
     },
     "execution_count": 50,
     "metadata": {},
     "output_type": "execute_result"
    }
   ],
   "source": [
    "np.where(a==b)  # 인덱스 출력"
   ]
  },
  {
   "cell_type": "code",
   "execution_count": 51,
   "id": "c15abf9a",
   "metadata": {},
   "outputs": [],
   "source": [
    "# 14. How to extract all numbers between a given range from a numpy array?\n",
    "# Difficulty Level: L2 Q. Get all items between 5 and 10 from a. Input:\n",
    "\n",
    "a = np.array([2, 6, 1, 9, 10, 3, 27])\n",
    "# Desired Output:\n",
    "\n",
    "# (array([6, 9, 10]),)"
   ]
  },
  {
   "cell_type": "code",
   "execution_count": 55,
   "id": "4fc98fc5",
   "metadata": {},
   "outputs": [
    {
     "data": {
      "text/plain": [
       "array([ 6,  9, 10])"
      ]
     },
     "execution_count": 55,
     "metadata": {},
     "output_type": "execute_result"
    }
   ],
   "source": [
    "#1\n",
    "index = np.where((a>=5) & (a<=10))  # 인덱스 출력\n",
    "a[index]"
   ]
  },
  {
   "cell_type": "code",
   "execution_count": 57,
   "id": "7a73ce83",
   "metadata": {},
   "outputs": [
    {
     "data": {
      "text/plain": [
       "array([ 6,  9, 10])"
      ]
     },
     "execution_count": 57,
     "metadata": {},
     "output_type": "execute_result"
    }
   ],
   "source": [
    "#2\n",
    "a[(a>=5) & (a <= 10)]"
   ]
  },
  {
   "cell_type": "code",
   "execution_count": 58,
   "id": "f5fb02b3",
   "metadata": {},
   "outputs": [],
   "source": [
    "# 15. How to make a python function that handles scalars to work on numpy arrays?\n",
    "# Difficulty Level: L2 Q. Convert the function maxx that works on two scalars, to work on two arrays. Input:\n",
    "\n",
    "# def maxx(x, y):\n",
    "#     \"\"\"Get the maximum of two items\"\"\"\n",
    "#     if x >= y:\n",
    "#         return x\n",
    "#     else:\n",
    "#         return y\n",
    "\n",
    "# maxx(1, 5)\n",
    "# #> 5\n",
    "# Desired Output:\n",
    "\n",
    "a = np.array([5, 7, 9, 8, 6, 4, 5])\n",
    "b = np.array([6, 3, 4, 8, 9, 7, 1])\n",
    "# pair_max(a, b)\n",
    "# #> array([ 6.,  7.,  9.,  8.,  9.,  7.,  5.])"
   ]
  },
  {
   "cell_type": "code",
   "execution_count": null,
   "id": "7f76dd03",
   "metadata": {},
   "outputs": [],
   "source": []
  },
  {
   "cell_type": "code",
   "execution_count": 64,
   "id": "c436ed11",
   "metadata": {},
   "outputs": [
    {
     "data": {
      "text/plain": [
       "array([[1, 0, 2],\n",
       "       [4, 3, 5],\n",
       "       [7, 6, 8]])"
      ]
     },
     "execution_count": 64,
     "metadata": {},
     "output_type": "execute_result"
    }
   ],
   "source": [
    "# 16. How to swap two columns in a 2d numpy array?\n",
    "# Difficulty Level: L2 Q. Swap columns 1 and 2 in the array arr.\n",
    "\n",
    "arr = np.arange(9).reshape(3,3)\n",
    "# arr\n",
    "arr[:,[1,0,2]]  # why??????? 일단 외우자"
   ]
  },
  {
   "cell_type": "code",
   "execution_count": 67,
   "id": "e2e05c6a",
   "metadata": {},
   "outputs": [
    {
     "data": {
      "text/plain": [
       "array([[0, 1, 2],\n",
       "       [3, 4, 5],\n",
       "       [6, 7, 8]])"
      ]
     },
     "execution_count": 67,
     "metadata": {},
     "output_type": "execute_result"
    }
   ],
   "source": [
    "# 17. How to swap two rows in a 2d numpy array?\n",
    "# Difficulty Level: L2 Q. Swap rows 1 and 2 in the array arr:\n",
    "\n",
    "arr = np.arange(9).reshape(3,3)\n",
    "arr"
   ]
  },
  {
   "cell_type": "code",
   "execution_count": 69,
   "id": "1e3846e3",
   "metadata": {},
   "outputs": [
    {
     "data": {
      "text/plain": [
       "array([[3, 4, 5],\n",
       "       [0, 1, 2],\n",
       "       [6, 7, 8]])"
      ]
     },
     "execution_count": 69,
     "metadata": {},
     "output_type": "execute_result"
    }
   ],
   "source": [
    "arr[[1,0,2],:]"
   ]
  },
  {
   "cell_type": "code",
   "execution_count": 72,
   "id": "ed02cd8b",
   "metadata": {},
   "outputs": [
    {
     "data": {
      "text/plain": [
       "array([[0, 1, 2],\n",
       "       [3, 4, 5],\n",
       "       [6, 7, 8]])"
      ]
     },
     "execution_count": 72,
     "metadata": {},
     "output_type": "execute_result"
    }
   ],
   "source": [
    "# 18. How to reverse the rows of a 2D array?\n",
    "# Difficulty Level: L2 Q. Reverse the rows of a 2D array arr.\n",
    "\n",
    "## Input\n",
    "arr = np.arange(9).reshape(3,3)\n",
    "arr"
   ]
  },
  {
   "cell_type": "code",
   "execution_count": 73,
   "id": "bb2803f9",
   "metadata": {},
   "outputs": [
    {
     "data": {
      "text/plain": [
       "array([[6, 7, 8],\n",
       "       [3, 4, 5],\n",
       "       [0, 1, 2]])"
      ]
     },
     "execution_count": 73,
     "metadata": {},
     "output_type": "execute_result"
    }
   ],
   "source": [
    "arr[::-1]"
   ]
  },
  {
   "cell_type": "code",
   "execution_count": 74,
   "id": "36e123fd",
   "metadata": {},
   "outputs": [],
   "source": [
    "# 19. How to reverse the columns of a 2D array?\n",
    "# Difficulty Level: L2 Q. Reverse the columns of a 2D array arr.\n",
    "\n",
    "# # Input\n",
    "arr = np.arange(9).reshape(3,3)"
   ]
  },
  {
   "cell_type": "code",
   "execution_count": 77,
   "id": "bb384e47",
   "metadata": {},
   "outputs": [
    {
     "data": {
      "text/plain": [
       "array([[2, 1, 0],\n",
       "       [5, 4, 3],\n",
       "       [8, 7, 6]])"
      ]
     },
     "execution_count": 77,
     "metadata": {},
     "output_type": "execute_result"
    }
   ],
   "source": [
    "arr[:,::-1]"
   ]
  },
  {
   "cell_type": "code",
   "execution_count": 79,
   "id": "9ffae4bd",
   "metadata": {},
   "outputs": [],
   "source": [
    "# 20. How to create a 2D array containing random floats between 5 and 10?\n",
    "# Difficulty Level: L2 Q. Create a 2D array of shape 5×3 to contain random decimal numbers between 5 and 10"
   ]
  },
  {
   "cell_type": "code",
   "execution_count": 86,
   "id": "7cbd7aa9",
   "metadata": {},
   "outputs": [
    {
     "data": {
      "text/plain": [
       "array([[5.4984547 , 6.75900131, 9.80286841],\n",
       "       [8.76574901, 5.74795246, 6.34420876],\n",
       "       [7.30914311, 6.77907916, 8.1148131 ],\n",
       "       [6.00246531, 6.75889802, 6.37412172],\n",
       "       [5.70458179, 9.42360685, 8.89524858]])"
      ]
     },
     "execution_count": 86,
     "metadata": {},
     "output_type": "execute_result"
    }
   ],
   "source": [
    "#1\n",
    "rand_arr = np.random.randint(low=5, high=10, size=(5,3))+ np.random.random((5,3))  # 정수 부분 + 소수부분 좋은방법인가..?\n",
    "rand_arr"
   ]
  },
  {
   "cell_type": "code",
   "execution_count": 89,
   "id": "2f846689",
   "metadata": {},
   "outputs": [
    {
     "data": {
      "text/plain": [
       "array([[8.34038272, 9.3503205 , 6.14276949],\n",
       "       [6.43631772, 8.42130191, 6.57222254],\n",
       "       [6.25174847, 6.00456483, 6.22570243],\n",
       "       [7.55032495, 6.86373763, 7.37703907],\n",
       "       [5.91130131, 5.68813125, 8.96967003]])"
      ]
     },
     "execution_count": 89,
     "metadata": {},
     "output_type": "execute_result"
    }
   ],
   "source": [
    "#2. \n",
    "rand_arr = np.random.uniform(5,10, size=(5,3))\n",
    "rand_arr"
   ]
  },
  {
   "cell_type": "code",
   "execution_count": null,
   "id": "47179709",
   "metadata": {},
   "outputs": [],
   "source": []
  }
 ],
 "metadata": {
  "kernelspec": {
   "display_name": "Python 3 (ipykernel)",
   "language": "python",
   "name": "python3"
  },
  "language_info": {
   "codemirror_mode": {
    "name": "ipython",
    "version": 3
   },
   "file_extension": ".py",
   "mimetype": "text/x-python",
   "name": "python",
   "nbconvert_exporter": "python",
   "pygments_lexer": "ipython3",
   "version": "3.9.7"
  }
 },
 "nbformat": 4,
 "nbformat_minor": 5
}
