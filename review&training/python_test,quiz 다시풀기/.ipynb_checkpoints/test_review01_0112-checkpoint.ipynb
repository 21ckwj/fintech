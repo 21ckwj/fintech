{
 "cells": [
  {
   "cell_type": "markdown",
   "metadata": {},
   "source": [
    ">string"
   ]
  },
  {
   "cell_type": "code",
   "execution_count": 5,
   "metadata": {},
   "outputs": [
    {
     "name": "stdout",
     "output_type": "stream",
     "text": [
      " \n"
     ]
    },
    {
     "data": {
      "text/plain": [
       "'ale'"
      ]
     },
     "execution_count": 5,
     "metadata": {},
     "output_type": "execute_result"
    }
   ],
   "source": [
    "# 인덱스에 공백도 들어갈까?\n",
    "a = \"life is short\"\n",
    "print(a[4]) # 들어간다!\n",
    "\n",
    "txt1 = 'A tale that was not right'\n",
    "txt1[3:6]\n",
    "txt1.split(\" \")[1][1:]  # 굳이 이렇게 할 필요 없군\n"
   ]
  },
  {
   "cell_type": "code",
   "execution_count": 6,
   "metadata": {},
   "outputs": [
    {
     "name": "stdout",
     "output_type": "stream",
     "text": [
      "True\n"
     ]
    }
   ],
   "source": [
    "#존재 여부\n",
    "txt1 = 'A tale that was not right'\n",
    "print('right' in txt1)"
   ]
  },
  {
   "cell_type": "markdown",
   "metadata": {},
   "source": [
    ">list"
   ]
  },
  {
   "cell_type": "code",
   "execution_count": 8,
   "metadata": {},
   "outputs": [
    {
     "data": {
      "text/plain": [
       "['수성', '금성']"
      ]
     },
     "execution_count": 8,
     "metadata": {},
     "output_type": "execute_result"
    }
   ],
   "source": [
    "#List\n",
    "sol = ['태양','수성','금성','지구','화성','목성','지구']\n",
    "sol1 = ['토성','천황성','해왕성']\n",
    "# planet = '지구\n"
   ]
  },
  {
   "cell_type": "code",
   "execution_count": 18,
   "metadata": {},
   "outputs": [
    {
     "data": {
      "text/plain": [
       "['태양', '수성', '금성', '지구', '해왕성', '화성', '목성', '지구']"
      ]
     },
     "execution_count": 18,
     "metadata": {},
     "output_type": "execute_result"
    }
   ],
   "source": [
    "# 3. sol에서 '화성'을 '해왕성'으로 수정하시오.\n",
    "# 4. 같은 논리\n",
    "sol = ['태양','수성','금성','지구','화성','목성','지구']\n",
    "\n",
    "# 내 코드 : sol.replace(\"화성\",\"해왕성\") (x)\n",
    "# 리스트엔 replace 없다!!\n",
    "\n",
    "sol.insert(4, \"해왕성\")\n",
    "sol"
   ]
  },
  {
   "cell_type": "code",
   "execution_count": 21,
   "metadata": {},
   "outputs": [
    {
     "data": {
      "text/plain": [
       "['태양', '수성', '금성', '지구', '화성', '목성', '지구', '토성']"
      ]
     },
     "execution_count": 21,
     "metadata": {},
     "output_type": "execute_result"
    }
   ],
   "source": [
    "# 5. '토성'을 맨 끝에 삽입\n",
    "\n",
    "# 내 코드 : sol.insert(-1,\"토성\")  # 끝에서 2번째에 토성 삽입됨\n",
    "sol = ['태양','수성','금성','지구','화성','목성','지구']\n",
    "sol.append(\"토성\")  # append 가 마지막에 원소 추가\n",
    "# sol.insert(7, \"토성\")\n",
    "sol\n"
   ]
  },
  {
   "cell_type": "code",
   "execution_count": 23,
   "metadata": {},
   "outputs": [
    {
     "data": {
      "text/plain": [
       "['태양', '수성', '금성', '지구', '화성', '목성']"
      ]
     },
     "execution_count": 23,
     "metadata": {},
     "output_type": "execute_result"
    }
   ],
   "source": [
    "# 6. 맨 끝 요소를 삭제하고 리턴\n",
    "sol = ['태양','수성','금성','지구','화성','목성','지구']\n",
    "\n",
    "sol.pop(-1) # pop(x): 리스트의 x번째 요소를 돌려주고 그 요소는 삭제 \n",
    "sol         # 빈칸일시 맨 마지막 원소"
   ]
  },
  {
   "cell_type": "code",
   "execution_count": 25,
   "metadata": {},
   "outputs": [
    {
     "data": {
      "text/plain": [
       "['태양', '수성', '지구', '화성', '목성', '지구']"
      ]
     },
     "execution_count": 25,
     "metadata": {},
     "output_type": "execute_result"
    }
   ],
   "source": [
    "# 7. '금성'을 제거\n",
    "sol = ['태양','수성','금성','지구','화성','목성','지구']\n",
    "\n",
    "# sol.delete(\"금성\")  리스트에 delete라는 함수 없음\n",
    "\n",
    "#remove(x): 리스트에서 첫번째로 나오는 x를 삭제\n",
    "\n",
    "sol.remove(\"금성\")  \n",
    "sol"
   ]
  },
  {
   "cell_type": "code",
   "execution_count": 29,
   "metadata": {},
   "outputs": [
    {
     "data": {
      "text/plain": [
       "['태양', '화성', '목성', '지구']"
      ]
     },
     "execution_count": 29,
     "metadata": {},
     "output_type": "execute_result"
    }
   ],
   "source": [
    "# 8. 1번 인덱스에서 3번 인덱스까지 삭제\n",
    "# 9. 같은 논리\n",
    "sol = ['태양','수성','금성','지구','화성','목성','지구']\n",
    "\n",
    "# 내 코드: delete.sol[1:4]\n",
    "\n",
    "del sol[1:4]            #delete 가 아니고 del 리스트\n",
    "sol"
   ]
  },
  {
   "cell_type": "code",
   "execution_count": 39,
   "metadata": {},
   "outputs": [
    {
     "data": {
      "text/plain": [
       "[]"
      ]
     },
     "execution_count": 39,
     "metadata": {},
     "output_type": "execute_result"
    }
   ],
   "source": [
    "# 17. 모든 원소를 지우세요.\n",
    "# 18. sol리스트를 삭제하세요.\n",
    "sol = ['태양','수성','금성','지구','화성','목성','지구']\n",
    "\n",
    "# 17.del sol[:]        del 리스트 원소 or sol.clear()\n",
    "# 18.del sol           del 리스트 이름\n",
    "\n",
    "sol\n",
    "\n"
   ]
  },
  {
   "cell_type": "markdown",
   "metadata": {},
   "source": [
    ">Tuple"
   ]
  },
  {
   "cell_type": "code",
   "execution_count": 52,
   "metadata": {},
   "outputs": [],
   "source": [
    "myTuple = ('tuple', (1,2,3) , [4,5,6,7,8] ,'7', '8', '9')\n",
    "\n",
    "# 'tuple'을 출력하세요\n",
    "# 3을 출력하세요\n",
    "# 4,5를 출력하세요\n",
    "# [4,5,6]을 출력하세요\n",
    "# tuple의 길이를 리턴하세요 ( 요소의 갯수가 몇 개인지 )\n",
    "# *오답 '7'이 있는지 확인하세요\n",
    "# '7'의 인덱스를 출력하세요.\n",
    "# '7'이 몇 개 있는지 확인하세요\n",
    "# 인데스 2번를 출력하세요\n",
    "# 인데스 2번에서 최대값을 출력하세요\n",
    "# 인데스 2번에서 최소값을 출력하세요\n",
    "# 인데스 2번에서 총합을 출력하세요\n",
    "# 인데스 2번에서 평균을 출력하세요\n",
    "# 인데스 2번를 내림차순 정렬해서 출력하세요.\n",
    "\n",
    "# myTuple[0]\n",
    "# myTuple[1][2]\n",
    "# myTuple[2][:2]\n",
    "# myTuple[2][:3]\n",
    "# len(myTuple) \n",
    "# myTuple\n",
    "# myTuple.index('7')\n",
    "# myTuple.count('7')\n",
    "# myTuple[2]\n",
    "# max(myTuple[2])\n",
    "# min(myTuple[2])\n",
    "# sum(myTuple[2])\n",
    "# sum(myTuple[2])/len(myTuple[2])\n",
    "# myTuple[2].reverse()\n"
   ]
  },
  {
   "cell_type": "code",
   "execution_count": 53,
   "metadata": {},
   "outputs": [
    {
     "name": "stdout",
     "output_type": "stream",
     "text": [
      "True\n"
     ]
    }
   ],
   "source": [
    "myTuple = ('tuple', (1,2,3) , [4,5,6,7,8] ,'7', '8', '9')\n",
    "\n",
    "# '7'이 있는지 확인하세요\n",
    "\n",
    "print('7' in myTuple)  # 리스트와 같은 방식"
   ]
  },
  {
   "cell_type": "markdown",
   "metadata": {},
   "source": [
    ">Set"
   ]
  },
  {
   "cell_type": "code",
   "execution_count": 1,
   "metadata": {},
   "outputs": [],
   "source": [
    "# 원소가 없는 set인 s를 만드세요\n",
    "# s에 원소 'sky'와 'earth'를 추가하세요 **\n",
    "# s에 1,2 두 원소를 추가하세요\n",
    "# s에서 'sky'를 삭제하세요\n",
    "\n",
    "A = {1,2,3,4,5,6}\n",
    "B = {1,2,3,7,8,9}\n",
    "C = {1,2,3}\n",
    "# 두 집합의 합집합을 출력\n",
    "# 두 집합의 교집합을 출력\n",
    "# A의 B에 대한 차집합\n",
    "# 대칭차집합\n",
    "# C가 A의 부분집합인지 확인\n",
    "# A가 C를 포함하는지 확인\n",
    "\n",
    "# 집합 B의 길이를 출력\n",
    "# 집합 B의 최대값 출력\n",
    "# 집합 B의 최소값 출력\n",
    "# 집합 B의 합을 출력\n",
    "# 집합 B의 평균출력\n",
    "# 집합 B의 내림차순 출력\n",
    "# 집합 B에 5가 포함되어 있는지 확인\n",
    "\n",
    "\n",
    "# s = {}\n",
    "# s.append('sky') s.append('earth')\n",
    "# s.append(1) s.append(2)\n",
    "# s.delete('sky')\n",
    "\n",
    "# A+B\n",
    "# A&B\n",
    "# A-B\n",
    "# ??\n",
    "# \n",
    "# print( C in A)\n",
    "\n",
    "# len(B)\n",
    "# max(B)\n",
    "# min(B)\n",
    "# sum(B)\n",
    "# sum(B)/len(B)\n",
    "# B.reverse()\n",
    "# print( 5 in B)"
   ]
  },
  {
   "cell_type": "code",
   "execution_count": 9,
   "metadata": {},
   "outputs": [
    {
     "data": {
      "text/plain": [
       "{1, 2, 3, 4, 'earth'}"
      ]
     },
     "execution_count": 9,
     "metadata": {},
     "output_type": "execute_result"
    }
   ],
   "source": [
    "# 원소가 없는 set인 s를 만드세요\n",
    "# s에 원소 'sky'와 'earth'를 추가하세요\n",
    "# s에 1,2 두 원소를 추가하세요\n",
    "# s에서 'sky'를 삭제하세요\n",
    "\n",
    "s = set()\n",
    "s.add('sky')\n",
    "s.add('earth')\n",
    "s.add(1)\n",
    "s.add(2)\n",
    "s.update({3,4})\n",
    "s\n",
    "s.remove('sky')\n",
    "s\n",
    "# s.append('sky')         # 오류\n"
   ]
  },
  {
   "cell_type": "code",
   "execution_count": 15,
   "metadata": {},
   "outputs": [
    {
     "data": {
      "text/plain": [
       "True"
      ]
     },
     "execution_count": 15,
     "metadata": {},
     "output_type": "execute_result"
    }
   ],
   "source": [
    "A = {1,2,3,4,5,6}\n",
    "B = {1,2,3,7,8,9}\n",
    "C = {1,2,3}\n",
    "# 두 집합의 합집합을 출력\n",
    "# 두 집합의 교집합을 출력\n",
    "# A의 B에 대한 차집합\n",
    "# 대칭차집합\n",
    "# C가 A의 부분집합인지 확인\n",
    "# A가 C를 포함하는지 확인\n",
    "\n",
    "A.union(B)\n",
    "A.intersection(B)\n",
    "A.difference(B)\n",
    "A.symmetric_difference(B)       # {4,5,6,7,8,9}\n",
    "C.issubset(A)                   # \n",
    "A.issuperset(C)                 #\n",
    "\n",
    "\n"
   ]
  },
  {
   "cell_type": "markdown",
   "metadata": {},
   "source": [
    ">Dictionary"
   ]
  },
  {
   "cell_type": "code",
   "execution_count": null,
   "metadata": {},
   "outputs": [],
   "source": [
    "# 'mydict'라는 딕셔너리를 만드세요.\n",
    "# 'red':4, 'blue':3, 'green':1 세 요소를 추가하세요.\n",
    "# key에 'blue'가 있는지 확인하세요.\n",
    "# mydict의 길이를 출력하세요.\n",
    "# 'red'의 값을 출력하세요.\n",
    "# 'red'의 값을 10으로 수정하세요.\n",
    "# key값만 출력하세요\n",
    "# value값만 출력하세요\n",
    "# key와 value를 튜플로 출력하세요.\n",
    "# (key기준으로 정렬하세요.)\n",
    "# (value기준으로 정렬하세요)\n",
    "# key 'blue'요소를 삭제하세요\n",
    "# key 'pink'요소 값을 출력하되 오류가 없도록 하세요\n",
    "# key 'pink' 값을 출력하되 없으면, value 20으로 새로이 추가하세요\n",
    "# value에 20이 있는지 확인하세요.\n",
    "# key는 'yellow'에 value는 30을 추가하세요.\n",
    "# yourdict = {'파랑':50, '빨강':70}을 합하세요.."
   ]
  },
  {
   "cell_type": "code",
   "execution_count": 24,
   "metadata": {},
   "outputs": [
    {
     "data": {
      "text/plain": [
       "True"
      ]
     },
     "execution_count": 24,
     "metadata": {},
     "output_type": "execute_result"
    }
   ],
   "source": [
    "# 'mydict'라는 딕셔너리를 만드세요.\n",
    "# 'red':4, 'blue':3, 'green':1 세 요소를 추가하세요.\n",
    "# key에 'blue'가 있는지 확인하세요.\n",
    "# mydict의 길이를 출력하세요.\n",
    "\n",
    "mydict = {}\n",
    "mydict[\"red\"]=4\n",
    "mydict[\"blue\"]=3\n",
    "mydict[\"green\"]=1\n",
    "mydict\n",
    "\n",
    "len(mydict)\n",
    "\n",
    "'blue' in mydict"
   ]
  },
  {
   "cell_type": "code",
   "execution_count": 31,
   "metadata": {},
   "outputs": [
    {
     "data": {
      "text/plain": [
       "dict_items([('red', 10), ('blue', 3), ('green', 1)])"
      ]
     },
     "execution_count": 31,
     "metadata": {},
     "output_type": "execute_result"
    }
   ],
   "source": [
    "# 'red'의 값을 출력하세요.\n",
    "# 'red'의 값을 10으로 수정하세요.\n",
    "# key값만 출력하세요\n",
    "# value값만 출력하세요\n",
    "# key와 value를 튜플로 출력하세요.\n",
    "\n",
    "mydict['red']\n",
    "mydict['red'] = 10\n",
    "\n",
    "mydict['red']   \n",
    "\n",
    "# key값만 출력\n",
    "mydict.keys()\n",
    "# value값만 출력\n",
    "mydict.values()\n",
    "# key, value 를 튜플로 출력\n",
    "mydict.items()\n",
    "\n"
   ]
  },
  {
   "cell_type": "code",
   "execution_count": 39,
   "metadata": {},
   "outputs": [],
   "source": [
    "# (key기준으로 정렬하세요.)\n",
    "sorted(mydict.items(), key= lambda x:x[0])\n",
    "\n",
    "# (value기준으로 정렬하세요)\n",
    "sorted(mydict.items(), key= lambda x:x[1])\n",
    "\n",
    "# key 'blue'요소를 삭제하세요\n",
    "# del mydict[\"blue\"]\n",
    "mydict\n",
    "\n",
    "# key 'pink'요소 값을 출력하되 오류가 없도록 하세요\n",
    "mydict.get(\"pink\")\n"
   ]
  },
  {
   "cell_type": "code",
   "execution_count": 50,
   "metadata": {},
   "outputs": [
    {
     "data": {
      "text/plain": [
       "{'red': 10, 'green': 1, 'pink': 100, 'yellow': 30, '파랑': 50, '빨강': 70}"
      ]
     },
     "execution_count": 50,
     "metadata": {},
     "output_type": "execute_result"
    }
   ],
   "source": [
    "# key 'pink' 값을 출력하되 없으면, value 20으로 새로이 추가하세요\n",
    "mydict.setdefault('pink',100)\n",
    "mydict\n",
    "\n",
    "# value에 20이 있는지 확인하세요.\n",
    "20 in mydict.values()\n",
    "\n",
    "# key는 'yellow'에 value는 30을 추가하세요.\n",
    "mydict[\"yellow\"] = 30\n",
    "mydict\n",
    "\n",
    "# yourdict = {'파랑':50, '빨강':70}을 합하세요\n",
    "yourdict = {'파랑':50, '빨강':70}\n",
    "mydict.update(yourdict)\n",
    "mydict\n"
   ]
  }
 ],
 "metadata": {
  "interpreter": {
   "hash": "8931d08a56ba8ec5bd4013e6d6c9066a90d099ecd0b9731835efa4c48cf46a24"
  },
  "kernelspec": {
   "display_name": "Python 3 (ipykernel)",
   "language": "python",
   "name": "python3"
  },
  "language_info": {
   "codemirror_mode": {
    "name": "ipython",
    "version": 3
   },
   "file_extension": ".py",
   "mimetype": "text/x-python",
   "name": "python",
   "nbconvert_exporter": "python",
   "pygments_lexer": "ipython3",
   "version": "3.9.7"
  }
 },
 "nbformat": 4,
 "nbformat_minor": 2
}
