{
 "cells": [
  {
   "cell_type": "markdown",
   "metadata": {},
   "source": [
    "> For 문"
   ]
  },
  {
   "cell_type": "code",
<<<<<<< HEAD
   "execution_count": 7,
=======
   "execution_count": null,
   "metadata": {},
   "outputs": [],
   "source": [
    "# text = 'python is fun'\n",
    "# text의 character를 모음만 대문자로 전환해서 출력하세요. 참고) 영어모음 = ‘aeiou’\n",
    "\n",
    "# 위의 text의 문자를 index와 함께 출력하시오.\n",
    "\n",
    "# 1~10까지 정수를 출력하는 while문에서 \n",
    "# continue와 break를 이용해서 3,4,5,6만 출력하도록 하시오.\n",
    "\n",
    "# x = ['a','b','c','d','e'], y = ['가','나','다','라','마'] 두 리스트의 원소들의 모든 조합을\n",
    "#  아래와 같이 출력하시오. \n",
    "# => [('a','가'), ('a','나'), ('a', '다') ... ('e','라'), ('e', '마')]\n",
    "\n",
    "# computational thinking에서 홀수인덱스만 리스트에 담으세요\n",
    "\n",
    "# text = 'hello world'에서 각 문자를 인덱스와 함께 튜플로 묶어서 출력\n",
    "# (0, 'h'), (1, 'e') ...\n",
    " "
   ]
  },
  {
   "cell_type": "code",
   "execution_count": 6,
>>>>>>> d41a6f058750bd3cfbcb3bf19051d28672ed7c1d
   "metadata": {},
   "outputs": [
    {
     "name": "stdout",
     "output_type": "stream",
     "text": [
      "O\n",
      "I\n",
      "U\n"
     ]
<<<<<<< HEAD
=======
    },
    {
     "data": {
      "text/plain": [
       "[]"
      ]
     },
     "execution_count": 6,
     "metadata": {},
     "output_type": "execute_result"
>>>>>>> d41a6f058750bd3cfbcb3bf19051d28672ed7c1d
    }
   ],
   "source": [
    "# text = 'python is fun'\n",
    "# text의 character를 모음만 대문자로 전환해서 출력하세요. 참고) 영어모음 = ‘aeiou’\n",
    "\n",
    "\n",
    "text = 'python is fun'\n",
<<<<<<< HEAD
    "\n",
    "for c in text:\n",
    "    if c in 'aeiou':\n",
    "        print(c.upper())"
   ]
  },
  {
   "cell_type": "code",
   "execution_count": null,
   "metadata": {},
   "outputs": [],
   "source": [
    "# text = 'python is fun'\n",
    "# 위의 text의 문자를 index와 함께 출력하시오."
=======
    "list=[]\n",
    "for s in text:\n",
    "    if s in 'aeiou':\n",
    "        print(s.upper())\n",
    "#         list.append(s.upper())  #리스트에 담으란 말 없음\n",
    "list\n"
>>>>>>> d41a6f058750bd3cfbcb3bf19051d28672ed7c1d
   ]
  },
  {
   "cell_type": "code",
   "execution_count": 5,
   "metadata": {},
   "outputs": [
    {
     "name": "stdout",
     "output_type": "stream",
     "text": [
      "(0, 'p')\n",
      "(1, 'y')\n",
      "(2, 't')\n",
      "(3, 'h')\n",
      "(4, 'o')\n",
      "(5, 'n')\n",
      "(6, ' ')\n",
      "(7, 'i')\n",
      "(8, 's')\n",
      "(9, ' ')\n",
      "(10, 'f')\n",
      "(11, 'u')\n",
      "(12, 'n')\n"
     ]
    }
   ],
   "source": [
<<<<<<< HEAD
    "text = 'python is fun'\n",
    "for i in enumerate(text):\n",
    "    print(i)"
   ]
  },
  {
   "cell_type": "code",
   "execution_count": 10,
   "metadata": {},
   "outputs": [
    {
     "name": "stdout",
     "output_type": "stream",
     "text": [
      "(4, 'O')\n",
      "(7, 'I')\n",
      "(11, 'U')\n"
     ]
    }
   ],
   "source": [
    "# text = 'python is fun'\n",
    "# 위의 text의 대문자를 index와 함께 출력하시오.\n",
    "\n",
    "text = 'python is fun'\n",
    "vowel = 'aeiou'\n",
    "for i,c in enumerate(text):\n",
    "    if c in vowel:\n",
    "        print((i,c.upper()))"
=======
    "# 위의 text의 문자를 index와 함께 출력하시오.\n",
    "\n",
    "for i in enumerate(text):\n",
    "    print(i)"
   ]
  },
  {
   "cell_type": "code",
   "execution_count": 3,
   "metadata": {},
   "outputs": [
    {
     "name": "stdout",
     "output_type": "stream",
     "text": [
      "(4, 'O')\n",
      "(7, 'I')\n",
      "(11, 'U')\n"
     ]
    }
   ],
   "source": [
    "# text = 'python is fun'\n",
    "# text의 character를 모음만 대문자로 전환해서 출력하세요. 참고) 영어모음 = ‘aeiou’\n",
    "# 위의 text의 대문자를 index와 함께 출력하시오.\n",
    "\n",
    "\n",
    "text = 'python is fun'\n",
    "vowel = 'aeiou'\n",
    "lst = []\n",
    "\n",
    "for c in text:\n",
    "    if c in vowel:\n",
    "        i = text.index(c)\n",
    "        v = c.upper()\n",
    "        print((i,v))\n",
    "        "
>>>>>>> d41a6f058750bd3cfbcb3bf19051d28672ed7c1d
   ]
  },
  {
   "cell_type": "code",
   "execution_count": 1,
   "metadata": {},
   "outputs": [
    {
     "name": "stdout",
     "output_type": "stream",
     "text": [
      "3\n",
      "4\n",
      "5\n",
      "6\n"
     ]
    }
   ],
   "source": [
    "# 1~10까지 정수를 출력하는 while문에서 \n",
    "# continue와 break를 이용해서 3,4,5,6만 출력하도록 하시오.\n",
    "\n",
    "# count= 1\n",
    "# while count< 10:\n",
    "#     if count < 3:\n",
    "#         continue\n",
    "#     print(count)\n",
    "\n",
    "#     if count > 7:\n",
    "#         break\n",
    "\n",
    "count = 0\n",
    "\n",
    "while count < 10:\n",
    "    count += 1\n",
    "    if count < 3:\n",
    "        continue\n",
    "    if count > 6:\n",
    "        break\n",
    "    print(count)\n",
    "    \n"
   ]
  },
  {
   "cell_type": "code",
   "execution_count": null,
   "metadata": {},
   "outputs": [],
   "source": [
    "# x = ['a','b','c','d','e'], y = ['가','나','다','라','마'] 두 리스트의 원소들의 모든 조합을\n",
    "#  아래와 같이 출력하시오. \n",
    "# => [('a','가'), ('a','나'), ('a', '다') ... ('e','라'), ('e', '마')]"
   ]
  },
  {
   "cell_type": "code",
   "execution_count": 9,
   "metadata": {},
   "outputs": [
    {
     "data": {
      "text/plain": [
       "[('a', '가'),\n",
       " ('a', '나'),\n",
       " ('a', '다'),\n",
       " ('a', '라'),\n",
       " ('a', '마'),\n",
       " ('b', '가'),\n",
       " ('b', '나'),\n",
       " ('b', '다'),\n",
       " ('b', '라'),\n",
       " ('b', '마'),\n",
       " ('c', '가'),\n",
       " ('c', '나'),\n",
       " ('c', '다'),\n",
       " ('c', '라'),\n",
       " ('c', '마'),\n",
       " ('d', '가'),\n",
       " ('d', '나'),\n",
       " ('d', '다'),\n",
       " ('d', '라'),\n",
       " ('d', '마'),\n",
       " ('e', '가'),\n",
       " ('e', '나'),\n",
       " ('e', '다'),\n",
       " ('e', '라'),\n",
       " ('e', '마')]"
      ]
     },
     "execution_count": 9,
     "metadata": {},
     "output_type": "execute_result"
    }
   ],
   "source": [
    "x = ['a','b','c','d','e'] \n",
    "y = ['가','나','다','라','마']\n",
    "\n",
    "lst = []\n",
    "for a in x:\n",
    "    for h in y:\n",
    "        lst.append((a,h))\n",
    "lst"
   ]
  },
  {
   "cell_type": "code",
   "execution_count": 17,
   "metadata": {},
   "outputs": [
    {
     "name": "stdout",
     "output_type": "stream",
     "text": [
      "cmuainltikn"
     ]
    }
   ],
   "source": [
    "# computational thinking에서 홀수인덱스만 리스트에 담으세요\n",
    "text = \"computational thinking\"\n",
    "for i in range(0,len(text),2):\n",
    "    print(text[i], end='')\n"
   ]
  },
  {
   "cell_type": "code",
   "execution_count": 10,
   "metadata": {},
   "outputs": [],
   "source": [
    "# text = 'hello world'에서 각 문자를 인덱스와 함께 튜플로 묶어서 출력\n",
    "# (0, 'h'), (1, 'e') ...\n",
    " "
   ]
  },
  {
   "cell_type": "code",
   "execution_count": null,
   "metadata": {},
   "outputs": [],
   "source": [
    "text = 'hello world'\n",
    "for i in enumerate(text):\n",
    "    print(i)\n",
    "    # print(\"index: {}, value= {}\".format(i,v))"
   ]
  }
 ],
 "metadata": {
  "interpreter": {
   "hash": "8931d08a56ba8ec5bd4013e6d6c9066a90d099ecd0b9731835efa4c48cf46a24"
  },
  "kernelspec": {
   "display_name": "Python 3 (ipykernel)",
   "language": "python",
   "name": "python3"
  },
  "language_info": {
   "codemirror_mode": {
    "name": "ipython",
    "version": 3
   },
   "file_extension": ".py",
   "mimetype": "text/x-python",
   "name": "python",
   "nbconvert_exporter": "python",
   "pygments_lexer": "ipython3",
   "version": "3.9.7"
  }
 },
 "nbformat": 4,
 "nbformat_minor": 2
}
