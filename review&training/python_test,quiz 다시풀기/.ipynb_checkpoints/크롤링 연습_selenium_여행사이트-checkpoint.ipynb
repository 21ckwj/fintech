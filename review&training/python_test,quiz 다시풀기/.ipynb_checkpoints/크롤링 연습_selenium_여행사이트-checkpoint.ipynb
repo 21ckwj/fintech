{
 "cells": [
  {
   "cell_type": "markdown",
   "id": "5bae1461",
   "metadata": {},
   "source": [
    "### 여행사이트"
   ]
  },
  {
   "cell_type": "code",
   "execution_count": 5,
   "id": "50e8a0ff",
   "metadata": {},
   "outputs": [],
   "source": [
    "import requests\n",
    "from bs4 import BeautifulSoup\n",
    "\n",
    "from selenium import webdriver\n",
    "from selenium.webdriver.common.keys import Keys"
   ]
  },
  {
   "cell_type": "code",
   "execution_count": 6,
   "id": "73dfba5e",
   "metadata": {},
   "outputs": [],
   "source": [
    "driver = webdriver.Chrome()"
   ]
  },
  {
   "cell_type": "code",
   "execution_count": 7,
   "id": "15079ad5",
   "metadata": {},
   "outputs": [],
   "source": [
    "driver.get('https://korean.visitkorea.or.kr')"
   ]
  },
  {
   "cell_type": "code",
   "execution_count": 8,
   "id": "d504de0c",
   "metadata": {},
   "outputs": [
    {
     "name": "stdout",
     "output_type": "stream",
     "text": [
      "검색어를 입력하세요: 바다\n"
     ]
    }
   ],
   "source": [
    "search_kw = input(\"검색어를 입력하세요: \")"
   ]
  },
  {
   "cell_type": "code",
   "execution_count": 20,
   "id": "f2ad9bc9",
   "metadata": {},
   "outputs": [
    {
     "name": "stderr",
     "output_type": "stream",
     "text": [
      "C:\\Users\\bitcamp\\AppData\\Local\\Temp/ipykernel_1308/2544945653.py:1: DeprecationWarning: find_element_by_* commands are deprecated. Please use find_element() instead\n",
      "  elem = driver.find_element_by_id(\"inp_search\")  # 검색창이 아이디인가..??\n"
     ]
    }
   ],
   "source": [
    "elem = driver.find_element_by_id(\"inp_search\")  # 검색창이 아이디인가..??"
   ]
  },
  {
   "cell_type": "code",
   "execution_count": 21,
   "id": "3c49acbc",
   "metadata": {},
   "outputs": [],
   "source": [
    "elem.send_keys('바다')"
   ]
  },
  {
   "cell_type": "code",
   "execution_count": 22,
   "id": "07552d8c",
   "metadata": {},
   "outputs": [
    {
     "name": "stderr",
     "output_type": "stream",
     "text": [
      "C:\\Users\\bitcamp\\AppData\\Local\\Temp/ipykernel_1308/4252880883.py:2: DeprecationWarning: find_element_by_* commands are deprecated. Please use find_element() instead\n",
      "  driver.find_element_by_css_selector(\"#gnbMain > div.top_menu > div > div.search > span > a\").click()\n"
     ]
    }
   ],
   "source": [
    "# search 버튼 클릭\n",
    "driver.find_element_by_css_selector(\"#gnbMain > div.top_menu > div > div.search > span > a\").click()  \n"
   ]
  },
  {
   "cell_type": "code",
   "execution_count": 23,
   "id": "00e92fd5",
   "metadata": {},
   "outputs": [],
   "source": [
    "html = driver.page_source"
   ]
  },
  {
   "cell_type": "code",
   "execution_count": 24,
   "id": "96a6d542",
   "metadata": {},
   "outputs": [],
   "source": [
    "soup = BeautifulSoup(html, 'html.parser')"
   ]
  },
  {
   "cell_type": "code",
   "execution_count": 34,
   "id": "c870f97a",
   "metadata": {},
   "outputs": [],
   "source": [
    "path = '#listBody > ul > li > div.area_txt'\n",
    "# path = '#listBody > ul > li '\n",
    "#listBody > ul > li:nth-child(1) > div.area_txt > div.tit > a\n"
   ]
  },
  {
   "cell_type": "code",
   "execution_count": null,
   "id": "54559583",
   "metadata": {},
   "outputs": [],
   "source": []
  },
  {
   "cell_type": "code",
   "execution_count": 35,
   "id": "5802c8b9",
   "metadata": {},
   "outputs": [
    {
     "data": {
      "text/plain": [
       "<div class=\"area_txt\"> <div class=\"tit\"> <a href=\"javascript:goSearchDetail('eb64d6f5-cb1c-400f-ac42-1e685b642dbb');\"><em></em>별<!--HS-->바다<!--HE-->부산 야간관광 시리즈 3편 <br/>마음을 물들이는 '감성 레포츠' 여행</a> </div> <div class=\"service\"> <p>부산 </p> <ul class=\"brandingIcon\" id=\"branding_eb64d6f5-cb1c-400f-ac42-1e685b642dbb\"> </ul> </div> <p class=\"tag_type\"><span>#<em></em>부산여행</span><span>#<em></em>부산가볼만한곳</span><span>#<em></em>야간여행</span><span>#<em></em>부산레포츠</span><span>#<em></em>레포츠여행</span><span>#<em></em>마린시티</span><span>#<em></em>요트투어</span><span>#<em></em>광안리해수욕장</span><span>#<em></em>서핑</span><span>#<em></em>다대포해수욕장</span><span>#<em></em>제트스키</span><span>#<em></em>웨이크보드</span><span>#<em></em>다대포꿈의낙조분수</span><span>#<em></em>봉래산</span><span>#<em></em>트레킹</span><span>#<em></em>공공누리</span><span>#<em></em>별바다부산</span> </p></div>"
      ]
     },
     "execution_count": 35,
     "metadata": {},
     "output_type": "execute_result"
    }
   ],
   "source": [
    "tags = soup.select(path)\n",
    "tags[0]"
   ]
  },
  {
   "cell_type": "code",
   "execution_count": 36,
   "id": "9ea96962",
   "metadata": {},
   "outputs": [
    {
     "data": {
      "text/plain": [
       "10"
      ]
     },
     "execution_count": 36,
     "metadata": {},
     "output_type": "execute_result"
    }
   ],
   "source": [
    "len(tags)"
   ]
  },
  {
   "cell_type": "code",
   "execution_count": 42,
   "id": "52500277",
   "metadata": {},
   "outputs": [
    {
     "data": {
      "text/plain": [
       "\"별바다부산 야간관광 시리즈 3편 마음을 물들이는 '감성 레포츠' 여행\""
      ]
     },
     "execution_count": 42,
     "metadata": {},
     "output_type": "execute_result"
    }
   ],
   "source": [
    "path = '#listBody > ul > li:nth-child(1) > div.area_txt > div.tit > a'\n",
    "tags[0].select(path)[0].text"
   ]
  },
  {
   "cell_type": "code",
   "execution_count": 43,
   "id": "8325d4ed",
   "metadata": {},
   "outputs": [
    {
     "data": {
      "text/plain": [
       "'부산 '"
      ]
     },
     "execution_count": 43,
     "metadata": {},
     "output_type": "execute_result"
    }
   ],
   "source": [
    "path = '#listBody > ul > li:nth-child(1) > div.area_txt > div.service > p'\n",
    "tags[0].select(path)[0].text"
   ]
  },
  {
   "cell_type": "code",
   "execution_count": 44,
   "id": "b7bbfb73",
   "metadata": {},
   "outputs": [
    {
     "data": {
      "text/plain": [
       "'#부산여행#부산가볼만한곳#야간여행#부산레포츠#레포츠여행#마린시티#요트투어#광안리해수욕장#서핑#다대포해수욕장#제트스키#웨이크보드#다대포꿈의낙조분수#봉래산#트레킹#공공누리#별바다부산 '"
      ]
     },
     "execution_count": 44,
     "metadata": {},
     "output_type": "execute_result"
    }
   ],
   "source": [
    "path = '#listBody > ul > li:nth-child(1) > div.area_txt > p'\n",
    "tags[0].select(path)[0].text"
   ]
  },
  {
   "cell_type": "code",
   "execution_count": 50,
   "id": "35f0972e",
   "metadata": {},
   "outputs": [
    {
     "name": "stdout",
     "output_type": "stream",
     "text": [
      "Title : 별바다부산 야간관광 시리즈 3편 마음을 물들이는 '감성 레포츠' 여행\n",
      "Location : 부산 \n",
      "Tags : #부산여행#부산가볼만한곳#야간여행#부산레포츠#레포츠여행#마린시티#요트투어#광안리해수욕장#서핑#다대포해수욕장#제트스키#웨이크보드#다대포꿈의낙조분수#봉래산#트레킹#공공누리#별바다부산 \n",
      "\n",
      "===========\n",
      "Title : 고성, 양양, 강릉까지 시원한 강원도 바다 완전정복!\n",
      "Location : 강원도 \n",
      "Tags : #강원도여행#강원도가볼만한곳#바다여행#아야진해수욕장#하조대해수욕장#향호해변#영진해변#도깨비촬영지#금진해변 \n",
      "\n",
      "===========\n",
      "Title : 쪽빛 바다 가르며 '카약 타고 서핑하고'…남해 두모마을과 송정솔바람해변\n",
      "Location : 경상남도 남해군\n",
      "Tags : #2020년9월추천가볼만한곳#9월추천가볼만한곳#추천가볼만한곳#9월가볼만한곳#수상레포츠#레포츠#레저활동#남해여행#남해가볼만한곳#공공누리#인생샷_핫플레이스#꿀잼_액티비티#바다풍경여행 \n",
      "\n",
      "===========\n",
      "Title : 쪽빛 남쪽바다가 눈부시게 펼쳐진 길, 저도 비치로드\n",
      "Location : 경상남도 창원시\n",
      "Tags : #2021겨울시즌비대면안심관광지25선#창원여행#창원가볼만한곳#저도#저도비치로드#섬#스카이워크#풍경어행#해안데크로드#용두산#걷기좋은길#바다풍경여행#2021비대면안심관광지#비대면안심관광지#비대면_안심관광지#경상권_비대면관광지#겨울_비대면관광지#자연과함께 \n",
      "\n",
      "===========\n",
      "Title : 머리 위엔 모노레일, 발밑은 유리알 바다 달맞이길 달리는 해운대 블루라인파크 해변열차\n",
      "Location : 부산 해운대구\n",
      "Tags : #부산여행#부산가볼만한곳#해변열차#해운대블루라인파크#송정해변#청사포다릿돌전망대#달맞이터널#공공누리#바다풍경여행#꿀잼_액티비티#미포#모노레일#이색관광지#송정역 \n",
      "\n",
      "===========\n",
      "Title : 별바다부산 야간관광 시리즈 1편 '하트'를 뛰게 하는 '아트'적인 부산의 밤\n",
      "Location : 부산 \n",
      "Tags : #부산여행#부산가볼만한곳#야간여행#F1963#영화의전당#부산영화의전당#감천문화마을#부산감천문화마을#흰여울문화마을#부산흰여울문화마을#공공누리#별바다부산 \n",
      "\n",
      "===========\n",
      "Title : 부산 도심에서 가장 빨리 기장의 바다를 만나는 동해선\n",
      "Location : 부산\n",
      "Tags : #부산#동해선#수영사적공원#국립부산과학관#죽성드림성당#기장죽성리왜성#기장죽성리해송#대변항장승등대#대변항#일광해수욕장#송도구름산책로#송도해상케이블카#황령산#바다#일몰#추천가볼만한곳#부산가볼만한곳#부산당일코스#부산1박2일코스#지하철여행#추천가볼만한곳#2018년3월추천가볼만한곳#겨울기차여행#2월가볼만한곳#바다풍경여행 \n",
      "\n",
      "===========\n",
      "Title : 어디서든 바다\n",
      "Location : 경상남도 통영시\n",
      "Tags : #바다#통영#삼칭이길#통영케이블카#평안#박경리기념관#장애인#장애인숙박#장애인추천여행지#장애인추천코스#월요일엔 저스트고!#월요일엔 저스트 고!#모두의관광_열린여행#모두가_행복한_여행#바다풍경여행 \n",
      "\n",
      "===========\n",
      "Title : 향기에 취하고 바다에 반하고, 안산 바다향기수목원\n",
      "Location : 경기도 안산시\n",
      "Tags : #숨은관광지#안산여행#안산가볼만한곳#바다향기수목원#공공누리#6월가볼만한곳#수목원 \n",
      "\n",
      "===========\n",
      "Title : 바다… '봄'으로 가득해지다, 전남 완도\n",
      "Location : 전라남도 완도군\n",
      "Tags : #장애인추천코스#완도가볼만한곳#완도당일코스#완도수목원#장보고기념관#완도군해조류센터#완도타워#정도리구계등#다슬기식당#완도회타운#늘푸른식당#장애인추천여행지#무장애여행지#청산도#유채꽃#범바위#완도여객선터미널#장애인숙박#완도2박3일코스#바다풍경여행#미리봄_여행지 \n",
      "\n",
      "===========\n"
     ]
    }
   ],
   "source": [
    "for tag in tags:\n",
    "    try:\n",
    "        path = '#listBody > ul > li > div.area_txt > div.tit > a'\n",
    "        title = tag.select(path)[0].text\n",
    "        \n",
    "        path = '#listBody > ul > li > div.area_txt > div.service > p'\n",
    "        location = tag.select(path)[0].text\n",
    "        \n",
    "        path = '#listBody > ul > li > div.area_txt > p'\n",
    "        hash_tag = tag.select(path)[0].text\n",
    "        \n",
    "        print('Title :', title)\n",
    "        print('Location :',location)\n",
    "        print('Tags :', hash_tag)\n",
    "        print()\n",
    "        print('===========')\n",
    "        \n",
    "    except:\n",
    "        pass\n",
    "    \n",
    "        "
   ]
  },
  {
   "cell_type": "code",
   "execution_count": null,
   "id": "bce4c91d",
   "metadata": {},
   "outputs": [],
   "source": []
  },
  {
   "cell_type": "code",
   "execution_count": null,
   "id": "37840f41",
   "metadata": {},
   "outputs": [],
   "source": []
  },
  {
   "cell_type": "markdown",
   "id": "961d3e29",
   "metadata": {},
   "source": [
    "### 네이버뉴스 댓글 "
   ]
  },
  {
   "cell_type": "code",
   "execution_count": 51,
   "id": "1bab468b",
   "metadata": {},
   "outputs": [],
   "source": [
    "import requests \n",
    "from bs4 import BeautifulSoup\n",
    "\n",
    "from selenium import webdriver\n",
    "from selenium.webdriver.common.keys import Keys"
   ]
  },
  {
   "cell_type": "code",
   "execution_count": 55,
   "id": "d5d80d65",
   "metadata": {},
   "outputs": [],
   "source": [
    "url ='https://news.naver.com/main/read.naver?mode=LPOD&mid=sec&oid=001&aid=0012930410&isYeonhapFlash=Y&rc=N'"
   ]
  },
  {
   "cell_type": "code",
   "execution_count": 58,
   "id": "700f3277",
   "metadata": {},
   "outputs": [],
   "source": [
    "from selenium import webdriver\n",
    "from selenium.webdriver.common.keys import Keys"
   ]
  },
  {
   "cell_type": "code",
   "execution_count": 59,
   "id": "7a537c6a",
   "metadata": {},
   "outputs": [],
   "source": [
    "driver = webdriver.Chrome()"
   ]
  },
  {
   "cell_type": "code",
   "execution_count": 60,
   "id": "67f62022",
   "metadata": {},
   "outputs": [],
   "source": [
    "driver.get(url)"
   ]
  },
  {
   "cell_type": "code",
   "execution_count": 61,
   "id": "f646d695",
   "metadata": {},
   "outputs": [],
   "source": [
    "html = driver.page_source"
   ]
  },
  {
   "cell_type": "code",
   "execution_count": 62,
   "id": "91a654d7",
   "metadata": {},
   "outputs": [],
   "source": [
    "soup = BeautifulSoup(html, 'html.parser')"
   ]
  },
  {
   "cell_type": "code",
   "execution_count": 117,
   "id": "81fcd1d8",
   "metadata": {},
   "outputs": [],
   "source": [
    "path = '#cbox_module_wai_u_cbox_content_wrap_tabpanel > ul > li'\n",
    "# path 를 변경하면서 내가 원하는 정보가 다 들어있는지 확인해야 한다\n",
    "#cbox_module_wai_u_cbox_content_wrap_tabpanel > ul > li.u_cbox_comment.cbox_module__comment_747287367315882367._user_id_no_1edDX > div.u_cbox_comment_box.u_cbox_type_profile > div > div.u_cbox_text_wrap > span.u_cbox_contents"
   ]
  },
  {
   "cell_type": "code",
   "execution_count": 118,
   "id": "547a0f3f",
   "metadata": {
    "scrolled": false
   },
   "outputs": [],
   "source": [
    "tags = soup.select(path)\n"
   ]
  },
  {
   "cell_type": "code",
   "execution_count": 125,
   "id": "c3aad2a8",
   "metadata": {},
   "outputs": [
    {
     "data": {
      "text/plain": [
       "10"
      ]
     },
     "execution_count": 125,
     "metadata": {},
     "output_type": "execute_result"
    }
   ],
   "source": [
    "len(tags)"
   ]
  },
  {
   "cell_type": "code",
   "execution_count": 126,
   "id": "2130af48",
   "metadata": {},
   "outputs": [
    {
     "data": {
      "text/plain": [
       "<li class=\"u_cbox_comment cbox_module__comment_747287367315882367 _user_id_no_1edDX\" data-info=\"commentNo:'747287367315882367',deleted:false,best:false,visible:true,secret:false,manager:false,mine:false,report:undefined,blindReport:false,objectId:'news001,0012930410',replyLevel:1,parentCommentNo:'747287367315882367',pick:false\"><div class=\"u_cbox_comment_box u_cbox_type_profile\"><div class=\"u_cbox_area\"><div class=\"u_cbox_info\"><div class=\"u_cbox_thumb u_cbox_naver\"><span class=\"u_cbox_thumb_wrap\"><img alt=\"프로필 이미지\" class=\"u_cbox_img_profile\" onerror=\"cbox.Util.onImageError(this);\" src=\"https://static.nid.naver.com/images/web/user/default.png?type=f132_132\"/><span class=\"u_cbox_thumb_mask\"></span></span></div><span class=\"u_cbox_info_main\"><span class=\"u_cbox_name\"><span class=\"u_cbox_name_area\"><span class=\"u_cbox_nick_area\"><span class=\"u_cbox_nick\">klee****</span></span></span></span><button class=\"u_cbox_btn_totalcomment\" data-action=\"userComment\" data-log=\"RPC.ulist\" data-param=\"objectId:'news001,0012930410',commentNo:'747287367315882367',mine:false,open:true\" type=\"button\"><span class=\"u_cbox_txt_total\">댓글모음</span><span class=\"u_cbox_ico_arrow\"></span></button></span><span class=\"u_cbox_info_sub\"><span class=\"u_cbox_work_sub\"><a class=\"u_cbox_btn_open\" data-action=\"list#toggleButtons\" data-param=\"@event\" href=\"#\"><span class=\"u_cbox_ico_open\"></span><span class=\"u_cbox_in_open\">옵션 열기</span></a><span class=\"u_cbox_work_box\"><span class=\"u_cbox_work_inner\"><a class=\"u_cbox_btn_userreport\" data-action=\"report#openLayer\" data-log=\"RPC.fold\" data-param=\"747287367315882367\" href=\"#\"><span class=\"u_cbox_ico_block\"></span><span class=\"u_cbox_in_block\">신고</span></a><a class=\"u_cbox_btn_userblock\" data-action=\"userBlock#requestBlock\" data-param=\"commentNo:'747287367315882367',objectId:'news001,0012930410',nickName:'klee****',maskedId:'klee****',idNo:'1edDX'\" href=\"#\"><span class=\"u_cbox_ico_block\"></span><span class=\"u_cbox_in_block\">차단</span></a></span></span></span></span></div><div class=\"u_cbox_text_wrap\"><span class=\"u_cbox_contents\" data-lang=\"ko\" style=\"\">제발 부탁이다, 코로나를 정치적으로 이용해 먹으려고 하지 마라, 또 부탁한다, 제발 정부와 질병청 특유의 똥고집 부리지 말고 진짜 전문가들에게 상의하고 자문의 구해라,마지막으로 다시 부탁한다, 제발 국민들을 위하는 방역을 해라 ㅉㅉ</span><span class=\"u_cbox_ico_exclamation\" style=\"display:none;\"></span><span class=\"u_cbox_delete_contents\" style=\"display:none;\">내가 차단한 이용자의 댓글입니다.</span></div><div class=\"u_cbox_info_base\"><span class=\"u_cbox_date\" data-value=\"2022-01-20T12:46:35+0900\">2022.01.20. 12:46:35</span></div><div class=\"u_cbox_tool\"><a class=\"u_cbox_btn_reply\" data-action=\"reply#toggle\" data-log=\"RPC.replyopen#RPC.replyclose\" data-param=\"747287367315882367\" href=\"#\"><strong class=\"u_cbox_reply_txt\">답글</strong><span class=\"u_cbox_reply_cnt\">21</span></a><div class=\"u_cbox_recomm_set\"><strong class=\"u_vc\">공감/비공감</strong><a class=\"u_cbox_btn_recomm\" data-action=\"vote\" data-log=\"RPC.sym#RPC.unsym\" data-param=\"mine:false,commentNo:'747287367315882367',voteStatus:'SYMPATHY',objectId:'news001,0012930410',ticket:'news'\" href=\"#\"><span class=\"u_cbox_ico_recomm\">공감</span><em class=\"u_cbox_cnt_recomm\">432</em></a><a class=\"u_cbox_btn_unrecomm\" data-action=\"vote\" data-log=\"RPC.dis#RPC.undis\" data-param=\"mine:false,commentNo:'747287367315882367',voteStatus:'ANTIPATHY',objectId:'news001,0012930410',ticket:'news'\" href=\"#\"><span class=\"u_cbox_ico_unrecomm\">비공감</span><em class=\"u_cbox_cnt_unrecomm\">17</em></a></div></div><span class=\"u_cbox_comment_frame\"><span class=\"u_cbox_ico_tip\"></span><span class=\"u_cbox_comment_frame_top\"><span class=\"u_cbox_comment_bg_r\"></span><span class=\"u_cbox_comment_bg_l\"></span></span><span class=\"u_cbox_comment_frame_bottom\"><span class=\"u_cbox_comment_bg_r\"></span><span class=\"u_cbox_comment_bg_l\"></span></span></span></div></div><div class=\"u_cbox_reply_area\" style=\"display:none;\"></div></li>"
      ]
     },
     "execution_count": 126,
     "metadata": {},
     "output_type": "execute_result"
    }
   ],
   "source": [
    "tags[0]  # 첫번째 tag "
   ]
  },
  {
   "cell_type": "code",
   "execution_count": 127,
   "id": "33f95b6c",
   "metadata": {},
   "outputs": [
    {
     "data": {
      "text/plain": [
       "'제발 부탁이다, 코로나를 정치적으로 이용해 먹으려고 하지 마라, 또 부탁한다, 제발 정부와 질병청 특유의 똥고집 부리지 말고 진짜 전문가들에게 상의하고 자문의 구해라,마지막으로 다시 부탁한다, 제발 국민들을 위하는 방역을 해라 ㅉㅉ'"
      ]
     },
     "execution_count": 127,
     "metadata": {},
     "output_type": "execute_result"
    }
   ],
   "source": [
    "# 댓글\n",
    "tags[0].select('span.u_cbox_contents')[0].text"
   ]
  },
  {
   "cell_type": "code",
   "execution_count": 137,
   "id": "71c33d07",
   "metadata": {
    "scrolled": true
   },
   "outputs": [
    {
     "ename": "IndexError",
     "evalue": "list index out of range",
     "output_type": "error",
     "traceback": [
      "\u001b[1;31m---------------------------------------------------------------------------\u001b[0m",
      "\u001b[1;31mIndexError\u001b[0m                                Traceback (most recent call last)",
      "\u001b[1;32m~\\AppData\\Local\\Temp/ipykernel_1308/20161957.py\u001b[0m in \u001b[0;36m<module>\u001b[1;34m\u001b[0m\n\u001b[0;32m      2\u001b[0m \u001b[0mpath\u001b[0m \u001b[1;33m=\u001b[0m \u001b[1;34m'#cbox_module_wai_u_cbox_content_wrap_tabpanel > ul > li'\u001b[0m\u001b[1;33m\u001b[0m\u001b[1;33m\u001b[0m\u001b[0m\n\u001b[0;32m      3\u001b[0m \u001b[1;31m# path = '#cbox_module_wai_u_cbox_content_wrap_tabpanel > ul > li > div.u_cbox_comment_box.u_cbox_type_profile > div > div.u_cbox_info > span.u_cbox_info_main > span > span > span > span'\u001b[0m\u001b[1;33m\u001b[0m\u001b[1;33m\u001b[0m\u001b[0m\n\u001b[1;32m----> 4\u001b[1;33m \u001b[0mtags\u001b[0m\u001b[1;33m[\u001b[0m\u001b[1;36m0\u001b[0m\u001b[1;33m]\u001b[0m\u001b[1;33m.\u001b[0m\u001b[0mselect\u001b[0m\u001b[1;33m(\u001b[0m\u001b[0mpath\u001b[0m\u001b[1;33m)\u001b[0m\u001b[1;33m[\u001b[0m\u001b[1;36m0\u001b[0m\u001b[1;33m]\u001b[0m\u001b[1;33m\u001b[0m\u001b[1;33m\u001b[0m\u001b[0m\n\u001b[0m\u001b[0;32m      5\u001b[0m \u001b[1;31m# .u_cbox_comment.cbox_module__comment_747287367315882367._user_id_no_1edDX\u001b[0m\u001b[1;33m\u001b[0m\u001b[1;33m\u001b[0m\u001b[0m\n\u001b[0;32m      6\u001b[0m \u001b[1;33m\u001b[0m\u001b[0m\n",
      "\u001b[1;31mIndexError\u001b[0m: list index out of range"
     ]
    }
   ],
   "source": [
    "# 아이디\n",
    "# path = '#cbox_module_wai_u_cbox_content_wrap_tabpanel > ul > li'\n",
    "# path = '#cbox_module_wai_u_cbox_content_wrap_tabpanel > ul > li > div.u_cbox_comment_box.u_cbox_type_profile > div > div.u_cbox_info > span.u_cbox_info_main > span > span > span > span'\n",
    "# tags.select(path)[0]\n",
    "# .u_cbox_comment.cbox_module__comment_747287367315882367._user_id_no_1edDX\n",
    "\n",
    "# #cbox_module_wai_u_cbox_content_wrap_tabpanel > ul > li.u_cbox_comment.cbox_module__comment_747287367315882367._user_id_no_1edDX > div.u_cbox_comment_box.u_cbox_type_profile > div > div.u_cbox_info > span.u_cbox_info_main"
   ]
  },
  {
   "cell_type": "code",
   "execution_count": 141,
   "id": "0c1af68a",
   "metadata": {},
   "outputs": [
    {
     "data": {
      "text/plain": [
       "'klee****'"
      ]
     },
     "execution_count": 141,
     "metadata": {},
     "output_type": "execute_result"
    }
   ],
   "source": [
    "#아이디\n",
    "tags[0].select(\"span.u_cbox_nick\")[0].text\n"
   ]
  },
  {
   "cell_type": "code",
   "execution_count": 142,
   "id": "44d20025",
   "metadata": {},
   "outputs": [
    {
     "name": "stdout",
     "output_type": "stream",
     "text": [
      "ID=  klee****\n",
      "댓글=  제발 부탁이다, 코로나를 정치적으로 이용해 먹으려고 하지 마라, 또 부탁한다, 제발 정부와 질병청 특유의 똥고집 부리지 말고 진짜 전문가들에게 상의하고 자문의 구해라,마지막으로 다시 부탁한다, 제발 국민들을 위하는 방역을 해라 ㅉㅉ\n",
      "============================================================\n",
      "ID=  lyt7****\n",
      "댓글=  법원에서 방역패스 확대금지 판결 나오고 나서 귀신같이 확진자수 급증이라고 뉴스 나오네 지난번 확진자수 줄어 들고 있다고 방송 내보내다가 보수단체에서 집회예정을 발표하니 귀신같이 확진자수 폭증이라고 바로 발표하더니 정치방역이 이제는 확실히 감이 오네 평상시는 지들이 방역 잘하고 있다는 느낌주기 위해 확진자수 점진적 감소 뉴스내보내고 지들에 거슬리는 뭔가가 생기면 확진자 폭증 발표하고, 이번 정부는 방역도 지들 유리한대로 조작질하고 통계도 지들 유리한대로 조작질하네  살다살다 이런 정부는 정말 처음이다 정말 한번도 겪어보지 못한 나라\n",
      "============================================================\n",
      "ID=  bigp****\n",
      "댓글=  상식적으로 생각을 해봐라. 식당,카페,버스,지하철,마트,백화점,학교,직장 다 다니면서 코로나와 함께 지내온 세월이 벌써 2년이다. 이쯤되면 코로나는 이미 퍼질대로 다 퍼진거다. 지금와서 무슨 백신패스니 방역강화니 이딴 소릴 하냐. PCR 선제검사니 QR코드,안심콜 동선추적도 이제 아무 의미없다. 그냥 다 없애라. 무증상 확진자도 더 이상 찾지말고 증상있는 사람들만 동네 병의원에서 진료하고 치료하는걸로 가는게 맞다.\n",
      "============================================================\n",
      "ID=  lieb****\n",
      "댓글=  감기보다도 약한 감기를 백신으로 막겠다는 발상 자체가 정신이상\n",
      "============================================================\n",
      "ID=  gkwj****\n",
      "댓글=  문재인 구속이 최고의 방역!!\n",
      "============================================================\n",
      "ID=  lmhe****\n",
      "댓글=  의사로서의 양심조차 다 팔여 먹은건가요? 오미크론은 코로나 변이종긴 해도, 이미 약화될대로 약화된, 거의 감기 수준 아닌가요? 매일 발표 하는 위중증 환자조차도 , 예~~전 코로나 감염자들 이잖아요? 오미크론 진단 되서 위중증 환자는 도대체 몇 명이란 말인거죠??? 왜~??? 국민을 똥개만도 못한 취급을 하려 하는 것인가요?\n",
      "============================================================\n",
      "ID=  badr****\n",
      "댓글=  불리하면확진자늘리는군요\n",
      "============================================================\n",
      "ID=  savi****\n",
      "댓글=  아 검토중이군요 그럼 다시최대 모임인원 4명 영업제한 9시 백화점 마트 백신패스 적용하겠네요 아 나도 아제는 방역 전문가 다 된 듯\n",
      "============================================================\n",
      "ID=  raem****\n",
      "댓글=  전자투표로 조작하려는 밑밥까는 구만\n",
      "============================================================\n",
      "ID=  jocu****\n",
      "댓글=  이제 검사받으러 가지 않는게 낫겠어요.\n",
      "============================================================\n"
     ]
    }
   ],
   "source": [
    "for tag in tags:\n",
    "    #아이디\n",
    "    path = \"span.u_cbox_nick\"\n",
    "    ID = tag.select(path)[0].text\n",
    "    \n",
    "    path = 'span.u_cbox_contents'\n",
    "    comment = tag.select(path)[0].text\n",
    "    \n",
    "    print(\"ID= \",ID )\n",
    "    print(\"댓글= \",comment)\n",
    "    print(\"=\"*60)"
   ]
  },
  {
   "cell_type": "code",
   "execution_count": null,
   "id": "84467eb5",
   "metadata": {},
   "outputs": [],
   "source": []
  }
 ],
 "metadata": {
  "kernelspec": {
   "display_name": "Python 3 (ipykernel)",
   "language": "python",
   "name": "python3"
  },
  "language_info": {
   "codemirror_mode": {
    "name": "ipython",
    "version": 3
   },
   "file_extension": ".py",
   "mimetype": "text/x-python",
   "name": "python",
   "nbconvert_exporter": "python",
   "pygments_lexer": "ipython3",
   "version": "3.9.7"
  }
 },
 "nbformat": 4,
 "nbformat_minor": 5
}
