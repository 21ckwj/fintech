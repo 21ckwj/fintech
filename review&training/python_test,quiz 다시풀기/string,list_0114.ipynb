{
 "cells": [
  {
   "cell_type": "markdown",
   "id": "b66fed72",
   "metadata": {},
   "source": [
    "### string,list 오답노트"
   ]
  },
  {
   "cell_type": "markdown",
   "id": "2f43a477",
   "metadata": {},
   "source": [
    "string"
   ]
  },
  {
   "cell_type": "code",
   "execution_count": 3,
   "id": "0cfff58b",
   "metadata": {},
   "outputs": [],
   "source": [
    "txt1 = ' A tale that was not right '\n",
    "txt2 = '이 또한 지나가리라 '\n",
    "\n",
    "#4.txt1에서 모음의 갯수는 몇 개인가?\n",
    "#12. txt2를 역순으로 출력하시오\n",
    "\n",
    "#14.\n",
    "# log = 'name:홍길동, age:17, sex:남성, nation:대한민국'\n",
    "#아래와 같이 출력하시오\n",
    "\n",
    "# name=> '홍길동'\n",
    "# age=> 17\n",
    "# sex=> 남성\n",
    "\n",
    "#txt1의 문자를 index와 튜플로 묶어서 리스트에 담으시오\n",
    "\n",
    "# score = [81, 90, 78, 'python', 'hello', True, [78, 56, 32], (24,25,3) ]\n",
    "# 'python'을 'world'로 수정하시오\n",
    "# True 를 False로 수정하시오\n",
    "# 'world'를 제거하시오\n",
    "#[78,56,32]를 78:56:32로 수정하시오"
   ]
  },
  {
   "cell_type": "code",
   "execution_count": 4,
   "id": "1ecfd07a",
   "metadata": {},
   "outputs": [
    {
     "name": "stdout",
     "output_type": "stream",
     "text": [
      "7\n"
     ]
    }
   ],
   "source": [
    "#4.txt1에서 모음의 갯수는 몇 개인가?\n",
    "cnt =0\n",
    "for c in txt1:\n",
    "    if c in \"aeiouAEIOU\":\n",
    "        cnt +=1\n",
    "print(cnt)"
   ]
  },
  {
   "cell_type": "code",
   "execution_count": 5,
   "id": "0af7415f",
   "metadata": {},
   "outputs": [
    {
     "data": {
      "text/plain": [
       "(3, 2, 1)"
      ]
     },
     "execution_count": 5,
     "metadata": {},
     "output_type": "execute_result"
    }
   ],
   "source": [
    "#12. txt2를 역순으로 출력하시오\n",
    "txt2[::-1] # 문자열도 가능하네?\n",
    "\n",
    "# 그럼 튜플도 가능할까?\n",
    "txt3 = (1,2,3)\n",
    "txt3[::-1]   # (3,2,1) 출력 가능하다!\n",
    "\n",
    "# 순서와 인덱스가 있다면 모두 가능"
   ]
  },
  {
   "cell_type": "code",
   "execution_count": 6,
   "id": "c3240aed",
   "metadata": {},
   "outputs": [
    {
     "name": "stdout",
     "output_type": "stream",
     "text": [
      "name => 홍길동\n",
      "age => 17\n",
      "sex => 남성\n",
      "nation => 대한민국\n"
     ]
    }
   ],
   "source": [
    "#14.\n",
    "log = 'name:홍길동, age:17, sex:남성, nation:대한민국'\n",
    "#아래와 같이 출력하시오\n",
    "\n",
    "# name=> '홍길동'\n",
    "# age=> 17\n",
    "# sex=> 남성\n",
    "\n",
    "# ','기준으로 나누기\n",
    "# log1 = log.split(\",\") \n",
    "# # ':' 기준으로 나누기\n",
    "# log1[0].split(\":\")[0] #name\n",
    "# log1[0].split(\":\")[1] #홍길동\n",
    "\n",
    "for i in log.split(\",\") :\n",
    "    name = i.split(\":\")[0].strip()    # for 문의 i를 이렇게도 사용할 수 있구나\n",
    "    value = i.split(\":\")[1].strip()\n",
    "    print(\"{} => {}\".format(name, value))\n"
   ]
  },
  {
   "cell_type": "code",
   "execution_count": 7,
   "id": "5640d4d8",
   "metadata": {},
   "outputs": [
    {
     "data": {
      "text/plain": [
       "[(0, ' '),\n",
       " (1, 'A'),\n",
       " (2, ' '),\n",
       " (3, 't'),\n",
       " (4, 'a'),\n",
       " (5, 'l'),\n",
       " (6, 'e'),\n",
       " (7, ' '),\n",
       " (8, 't'),\n",
       " (9, 'h'),\n",
       " (10, 'a'),\n",
       " (11, 't'),\n",
       " (12, ' '),\n",
       " (13, 'w'),\n",
       " (14, 'a'),\n",
       " (15, 's'),\n",
       " (16, ' '),\n",
       " (17, 'n'),\n",
       " (18, 'o'),\n",
       " (19, 't'),\n",
       " (20, ' '),\n",
       " (21, 'r'),\n",
       " (22, 'i'),\n",
       " (23, 'g'),\n",
       " (24, 'h'),\n",
       " (25, 't'),\n",
       " (26, ' ')]"
      ]
     },
     "execution_count": 7,
     "metadata": {},
     "output_type": "execute_result"
    }
   ],
   "source": [
    "#txt1의 문자를 index와 튜플로 묶어서 리스트에 담으시오\n",
    "lst = []\n",
    "for i,v in enumerate(txt1):\n",
    "    lst.append((i,v))\n",
    "lst\n",
    "\n",
    "# append 로 튜플을 리스트에 넣을 수 있는 지 의문이었지만\n",
    "# 리스트에 추가하는 거면 종류 상관없이 가능\n"
   ]
  },
  {
   "cell_type": "code",
   "execution_count": 8,
   "id": "c926cf29",
   "metadata": {},
   "outputs": [
    {
     "name": "stdout",
     "output_type": "stream",
     "text": [
      "(0, ' ')\n",
      "(1, 'A')\n",
      "(2, ' ')\n",
      "(3, 't')\n",
      "(4, 'a')\n",
      "(5, 'l')\n",
      "(6, 'e')\n",
      "(7, ' ')\n",
      "(8, 't')\n",
      "(9, 'h')\n",
      "(10, 'a')\n",
      "(11, 't')\n",
      "(12, ' ')\n",
      "(13, 'w')\n",
      "(14, 'a')\n",
      "(15, 's')\n",
      "(16, ' ')\n",
      "(17, 'n')\n",
      "(18, 'o')\n",
      "(19, 't')\n",
      "(20, ' ')\n",
      "(21, 'r')\n",
      "(22, 'i')\n",
      "(23, 'g')\n",
      "(24, 'h')\n",
      "(25, 't')\n",
      "(26, ' ')\n"
     ]
    }
   ],
   "source": [
    "# enumerate 를 사용하면?   -> 리스트에 담기지는 않는다.\n",
    "\n",
    "for i in enumerate(txt1):\n",
    "    print(i)\n",
    "    "
   ]
  },
  {
   "cell_type": "markdown",
   "id": "3927705f",
   "metadata": {},
   "source": [
    "list"
   ]
  },
  {
   "cell_type": "code",
<<<<<<< HEAD
   "execution_count": 1,
=======
   "execution_count": 9,
>>>>>>> d41a6f058750bd3cfbcb3bf19051d28672ed7c1d
   "id": "26d29e79",
   "metadata": {},
   "outputs": [],
   "source": [
    "score = [81, 90, 78, 'python', 'hello', True, [78, 56, 32], (24,25,3) ]"
   ]
  },
  {
   "cell_type": "code",
   "execution_count": 10,
   "id": "1f91d2cb",
   "metadata": {},
   "outputs": [
    {
     "data": {
      "text/plain": [
       "[81, 90, 78, 'world', 'hello', True, [78, 56, 32], (24, 25, 3)]"
      ]
     },
     "execution_count": 10,
     "metadata": {},
     "output_type": "execute_result"
    }
   ],
   "source": [
    "# 'python'을 'world'로 수정하시오\n",
    "indx = score.index('python')\n",
    "score[indx] = 'world'\n",
    "score"
   ]
  },
  {
   "cell_type": "code",
   "execution_count": 11,
   "id": "9dcbb89f",
   "metadata": {},
   "outputs": [
    {
     "data": {
      "text/plain": [
       "[81, 90, 78, 'world', 'hello', False, [78, 56, 32], (24, 25, 3)]"
      ]
     },
     "execution_count": 11,
     "metadata": {},
     "output_type": "execute_result"
    }
   ],
   "source": [
    "# True 를 False로 수정하시오\n",
    "indxT = score.index(True)  # 문자열인지 아닌지 판단하고 index함수에 대입 :'True'(x)\n",
    "score[indxT] = False   \n",
    "score"
   ]
  },
  {
   "cell_type": "code",
   "execution_count": 12,
   "id": "40437a50",
   "metadata": {},
   "outputs": [],
   "source": [
    "# 'world'를 제거하시오\n",
    "# del score[3] 혹은\n",
    "score.remove('world')  #인덱스 몰라도 처음 나오는 'world' 제거 가능"
   ]
  },
  {
   "cell_type": "code",
   "execution_count": 13,
   "id": "ef0050a3",
   "metadata": {},
   "outputs": [
    {
     "data": {
      "text/plain": [
       "[81, 90, 78, 'hello', False, '78:56:32', (24, 25, 3)]"
      ]
     },
     "execution_count": 13,
     "metadata": {},
     "output_type": "execute_result"
    }
   ],
   "source": [
    "#[78,56,32]를 78:56:32로 수정하시오\n",
    "\n",
    "#[78,56,32]의 인덱스 찾기\n",
    "num = [78,56,32]\n",
    "indx = score.index(num) # 인덱스 = 5\n",
    "\n",
    "# join 함수를 쓰기 위해 리스트 원소를 문자열로 바꿔야 함\n",
    "score[indx]=[\"78\",\"56\",\"32\"]   # score[5] = [\"78\",\"56\",\"32\"]\n",
    "\n",
    "# join 함수 사용 :로 연결시켜 리스트 값 변경\n",
    "score[indx] = \":\".join(score[indx])\n",
    "score\n",
    "\n"
   ]
  },
  {
   "cell_type": "code",
   "execution_count": null,
   "id": "3899a897",
   "metadata": {},
   "outputs": [],
   "source": []
  },
  {
   "cell_type": "code",
   "execution_count": null,
   "id": "f9d8d5b2",
   "metadata": {},
   "outputs": [],
   "source": []
  },
  {
   "cell_type": "code",
   "execution_count": null,
   "id": "551eff70",
   "metadata": {},
   "outputs": [],
   "source": []
  },
  {
   "cell_type": "code",
   "execution_count": null,
   "id": "2e8ec1f5",
   "metadata": {},
   "outputs": [],
   "source": []
  }
 ],
 "metadata": {
  "kernelspec": {
   "display_name": "Python 3 (ipykernel)",
   "language": "python",
   "name": "python3"
  },
  "language_info": {
   "codemirror_mode": {
    "name": "ipython",
    "version": 3
   },
   "file_extension": ".py",
   "mimetype": "text/x-python",
   "name": "python",
   "nbconvert_exporter": "python",
   "pygments_lexer": "ipython3",
   "version": "3.9.7"
  }
 },
 "nbformat": 4,
 "nbformat_minor": 5
}
