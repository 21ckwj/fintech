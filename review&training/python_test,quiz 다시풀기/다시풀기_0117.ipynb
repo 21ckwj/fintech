{
 "cells": [
  {
   "cell_type": "markdown",
   "id": "64142076",
   "metadata": {},
   "source": [
    "### 다시 풀기_0117\n",
    "수업시간에 헷갈렸던 문제들"
   ]
  },
  {
   "cell_type": "code",
   "execution_count": null,
   "id": "321469a5",
   "metadata": {},
   "outputs": [],
   "source": [
    "### set,dictionary   \n",
    "\n",
    "# * 대칭차집합\n",
    "\n",
    "# * C가 A의 부분집합인지 확인\n",
    "\n",
    "# * A가 C를 포함하는지 확인\n",
    "\n",
    "# * key에 'blue'가 있는지 확인하세요.\n",
    "\n",
    "# * (key기준으로 정렬하세요.)\n",
    "\n",
    "# * key 'pink'요소 값을 출력하되 오류가 없도록 하세요\n",
    "\n",
    "# * key 'pink' 값을 출력하되 없으면, value 20으로 새로이 추가하세요\n",
    "\n",
    "# * value에 20이 있는지 확인하세요.\n"
   ]
  },
  {
   "cell_type": "code",
   "execution_count": null,
   "id": "52f82685",
   "metadata": {},
   "outputs": [],
   "source": [
    "# A.symmetric_difference(B)\n",
    "# C.issubset(A)\n",
    "# A.issuperset(C)\n",
    "# 'blue' in d\n",
    "# sorted(d.items(), key= lambda x: x[0]) # sorted(d)\n",
    "# d.get('pink')\n",
    "# d.setdefault('pink', 20)\n",
    "# 20 in d.values()"
   ]
  },
  {
   "cell_type": "markdown",
   "id": "00db8a1c",
   "metadata": {},
   "source": [
    "### IF"
   ]
  },
  {
   "cell_type": "code",
   "execution_count": null,
   "id": "aee4b6b0",
   "metadata": {},
   "outputs": [],
   "source": [
    "# 주민번호  @@@@@@-@@@@@@@\n",
    "# 주민번호를 입력받은 후 \"당신의 나이는 __이고, 성별은 __ 입니다.\"를 출력하시오\n",
    "\n",
    "#scores = {'Mary': 85, \"Sam\": 95, \"Bob\": 87, \"Han\": 77}\n",
    "# 이름을 입력받은 후 이름이 있으면 80점 이상이면 '합격입니다'\n",
    "# 이하이면 '불합격입니다'를 출력하시오, 이름이 없으면 값을 0으로 하여 추가하시오.\n",
    "\n",
    "# 가위, 바위 , 보 게임\n",
    "# mine = input(\"mine <= 가위, 바위, 보 중에서 하나를 선택하세요\")\n",
    "# yours = input(\"yours <= 가위, 바위, 보 중에서 하나를 선택하세요\")\n",
    "#비겼습니다.\n",
    "#내가 이겼습니다\n",
    "#당신이 이겼습니다.\n",
    "\n",
    "\n"
   ]
  },
  {
   "cell_type": "code",
   "execution_count": 6,
   "id": "9e68a043",
   "metadata": {},
   "outputs": [],
   "source": [
    "# 주민번호  @@@@@@-@@@@@@@\n",
    "# 주민번호를 입력받은 후 \"당신의 나이는 __이고, 성별은 __ 입니다.\"를 출력하시오"
   ]
  },
  {
   "cell_type": "code",
   "execution_count": 12,
   "id": "d3468c0f",
   "metadata": {},
   "outputs": [
    {
     "name": "stdout",
     "output_type": "stream",
     "text": [
      "주민번호를 입력하세요:950118-222222\n",
      "당신의 나이는 27이고, 성별은 여성입니다.\n"
     ]
    }
   ],
   "source": [
    "ssn = input(\"주민번호를 입력하세요:\")\n",
    "\n",
    "gender = ssn.split(\"-\")[1][0]\n",
    "birth = ssn[:2]\n",
    "\n",
    "def sexf(gender):\n",
    "    if gender == 1:\n",
    "        sex = \"남성\"\n",
    "        return sex\n",
    "    else:\n",
    "        sex = \"여성\"\n",
    "        return sex\n",
    "sex = sexf(gender)\n",
    "\n",
    "def agef(birth):\n",
    "    age1 = 22- int(birth)\n",
    "    if age1 > 0:\n",
    "        age = age1\n",
    "        return age\n",
    "    else:\n",
    "        age = age1 +100\n",
    "        return age\n",
    "        \n",
    "age = agef(birth)\n",
    "# print(age)\n",
    "    \n",
    "print(\"당신의 나이는 {}이고, 성별은 {}입니다.\".format(age,sex))\n",
    "        \n",
    "        "
   ]
  },
  {
   "cell_type": "code",
   "execution_count": 13,
   "id": "9dad424d",
   "metadata": {},
   "outputs": [],
   "source": [
    "scores = {'Mary': 85, \"Sam\": 95, \"Bob\": 87, \"Han\": 77}\n",
    "\n",
    "# 이름을 입력받은 후 이름이 있으면 80점 이상이면 '합격입니다'\n",
    "# 이하이면 '불합격입니다'를 출력하시오, 이름이 없으면 값을 0으로 하여 추가하시오."
   ]
  },
  {
   "cell_type": "code",
   "execution_count": 18,
   "id": "6885e84c",
   "metadata": {},
   "outputs": [
    {
     "name": "stdout",
     "output_type": "stream",
     "text": [
      "이름을 입력하세요:ahn\n"
     ]
    },
    {
     "data": {
      "text/plain": [
       "{'Mary': 85, 'Sam': 95, 'Bob': 87, 'Han': 77, 'ahn': 0}"
      ]
     },
     "execution_count": 18,
     "metadata": {},
     "output_type": "execute_result"
    }
   ],
   "source": [
    "scores = {'Mary': 85, \"Sam\": 95, \"Bob\": 87, \"Han\": 77}\n",
    "name = input(\"이름을 입력하세요:\")\n",
    "if name in scores:        # key값이 딕셔너리에 있는 지 확인 <- 이걸 몰랐었음\n",
    "    if scores[name] >= 80:\n",
    "        print(\"합격입니다\")\n",
    "    else:\n",
    "        print(\"불합격입니다\")\n",
    "else:\n",
    "    scores[name]= 0\n",
    "scores\n",
    "    "
   ]
  },
  {
   "cell_type": "code",
   "execution_count": 19,
   "id": "a34374f5",
   "metadata": {},
   "outputs": [
    {
     "name": "stdout",
     "output_type": "stream",
     "text": [
      "mine <= 가위, 바위, 보 중에서 하나를 선택하세요d\n",
      "yours <= 가위, 바위, 보 중에서 하나를 선택하세요d\n"
     ]
    }
   ],
   "source": [
    "# 가위, 바위 , 보 게임\n",
    "\n",
    "# mine = input(\"mine <= 가위, 바위, 보 중에서 하나를 선택하세요\")\n",
    "# yours = input(\"yours <= 가위, 바위, 보 중에서 하나를 선택하세요\")\n",
    "\n",
    "#비겼습니다.\n",
    "#내가 이겼습니다\n",
    "#당신이 이겼습니다."
   ]
  },
  {
   "cell_type": "code",
   "execution_count": 22,
   "id": "fbbd94fd",
   "metadata": {},
   "outputs": [
    {
     "name": "stdout",
     "output_type": "stream",
     "text": [
      "mine <= 가위, 바위, 보 중에서 하나를 선택하세요가위\n",
      "yours <= 가위, 바위, 보 중에서 하나를 선택하세요가위\n",
      "비겼습니다\n",
      "당신이 이겼습니다\n"
     ]
    }
   ],
   "source": [
    "mine = input(\"mine <= 가위, 바위, 보 중에서 하나를 선택하세요\")\n",
    "yours = input(\"yours <= 가위, 바위, 보 중에서 하나를 선택하세요\")\n",
    "\n",
    "if mine == yours:    #문자열\n",
    "    print(\"비겼습니다\")\n",
    "    if mine == '가위':\n",
    "        if yours == '보':\n",
    "            print(\"내가 이겼습니다\")\n",
    "        else:\n",
    "            print(\"당신이 이겼습니다\")\n",
    "    elif mine == '바위':\n",
    "        if yours == '가위':\n",
    "            print(\"내가 이겼습니다\")\n",
    "        else:\n",
    "            print(\"당신이 이겼습니다\")\n",
    "    else:\n",
    "        if yours == '가위':\n",
    "            print(\"내가 이겼습니다\")\n",
    "        else:\n",
    "            print(\"당신이 이겼습니다\")\n",
    "# 내 코드는 두가지 결과가 출력되는 결과가 나타났다\n",
    "# 지금처럼 하게 되면 mine == yours 일때 mine == '가위'라면..\n",
    "#"
   ]
  },
  {
   "cell_type": "code",
   "execution_count": 23,
   "id": "084c6478",
   "metadata": {},
   "outputs": [
    {
     "name": "stdout",
     "output_type": "stream",
     "text": [
      "mine <= 가위, 바위, 보 중에서 하나를 선택하세요가위\n",
      "yours <= 가위, 바위, 보 중에서 하나를 선택하세요가위\n",
      "비겼습니다\n"
     ]
    }
   ],
   "source": [
    "# 가위, 바위, 보 게임\n",
    "\n",
    "mine = input('mine <= 가위, 바위, 보 중에서 하나를 선택하세요')\n",
    "yours = input('yours <= 가위, 바위, 보 중에서 하나를 선택하세요')\n",
    "\n",
    "if mine == yours:\n",
    "    print('비겼습니다')\n",
    "    \n",
    "elif mine=='가위':\n",
    "    if yours == '보':\n",
    "        print('내가 이겼습니다')\n",
    "    else:\n",
    "        print('당신이 이겼습니다..')\n",
    "        \n",
    "elif mine=='보':\n",
    "    if yours == '주먹':\n",
    "        print('내가 이겼습니다')\n",
    "    else:\n",
    "        print('당신이 이겼습니다.')       \n",
    "        \n",
    "else:\n",
    "    if yours == '가위':\n",
    "        print('내가 이겼습니다')\n",
    "    else:\n",
    "        print('당신이 이겼습니다.')  \n",
    "\n",
    "\n",
    "# 비겼습니다..\n",
    "# 내가 이겼습니다..\n",
    "# 당신이 이겼습니다.."
   ]
  },
  {
   "cell_type": "markdown",
   "id": "f79e982d",
   "metadata": {},
   "source": [
    "### 반복문"
   ]
  },
  {
   "cell_type": "code",
   "execution_count": null,
   "id": "5aa7357a",
   "metadata": {},
   "outputs": [],
   "source": [
    "# word의 길이가 4 이상인 단어의 단어길이 총합을 구하시오\n",
    "# words = ['mountain', 'sea', 'sky', 'river', 'cloud', 'tree']\n",
    "\n",
    "# for 문과 while문을 이용해서 1부터 20까지의 정수에서 짝수의 합과 홀수의 합을 구하시오.\n",
    "\n",
    "# 임의의 수를 입력받은 후 팩토리얼을 계산하는 코드를 작성하시오.\n",
    "# 5! = 5*4*3*2*1\n",
    "\n",
    "# L = [70, 100, 80, 120, 130]\n",
    "# 반복문을 이용해서 최대값과 최소값을 구하시오."
   ]
  },
  {
   "cell_type": "code",
   "execution_count": 17,
   "id": "af5139b4",
   "metadata": {},
   "outputs": [],
   "source": [
    "# word의 길이가 4 이상인 단어의 단어길이 총합을 구하시오\n",
    "\n",
    "words = ['mountain', 'sea', 'sky', 'river', 'cloud', 'tree']"
   ]
  },
  {
   "cell_type": "code",
   "execution_count": 24,
   "id": "25d08058",
   "metadata": {},
   "outputs": [
    {
     "name": "stdout",
     "output_type": "stream",
     "text": [
      "22\n"
     ]
    }
   ],
   "source": [
    "words = ['mountain', 'sea', 'sky', 'river', 'cloud', 'tree']\n",
    "\n",
    "total = 0\n",
    "for w in words:\n",
    "    if len(w)>=4:\n",
    "        total += len(w)\n",
    "print(total)"
   ]
  },
  {
   "cell_type": "code",
   "execution_count": null,
   "id": "46921c2d",
   "metadata": {},
   "outputs": [],
   "source": [
    "# for 문과 while문을 이용해서 1부터 20까지의 정수에서 짝수의 합과 홀수의 합을 구하시오."
   ]
  },
  {
   "cell_type": "code",
   "execution_count": 25,
   "id": "5d75870f",
   "metadata": {},
   "outputs": [
    {
     "name": "stdout",
     "output_type": "stream",
     "text": [
      "짝수의 합: 110\n",
      "홀수의 합: 100\n"
     ]
    }
   ],
   "source": [
    "#for\n",
    "even_sum = 0\n",
    "odd_sum =0\n",
    "\n",
    "for n in range(1,20+1):\n",
    "    if n%2 == 0:\n",
    "        even_sum += n\n",
    "    else:\n",
    "        odd_sum += n\n",
    "print(\"짝수의 합:\",even_sum)\n",
    "print(\"홀수의 합:\",odd_sum)\n",
    "        "
   ]
  },
  {
   "cell_type": "code",
   "execution_count": 28,
   "id": "cf17a341",
   "metadata": {},
   "outputs": [
    {
     "name": "stdout",
     "output_type": "stream",
     "text": [
      "짝수의 합: 110\n",
      "홀수의 합: 100\n"
     ]
    }
   ],
   "source": [
    "#while\n",
    "even_sum = 0\n",
    "odd_sum =0\n",
    "n = 0\n",
    "while n < 20:\n",
    "    n += 1\n",
    "    if n%2 ==0:\n",
    "        even_sum += n\n",
    "    else:\n",
    "        odd_sum +=n\n",
    "        \n",
    "print(\"짝수의 합:\",even_sum)\n",
    "print(\"홀수의 합:\",odd_sum)"
   ]
  },
  {
   "cell_type": "code",
   "execution_count": 30,
   "id": "ae4e1ad1",
   "metadata": {},
   "outputs": [
    {
     "name": "stdout",
     "output_type": "stream",
     "text": [
      "임의의 수를 입력하세요: 5\n",
      "120\n"
     ]
    }
   ],
   "source": [
    "# 임의의 수를 입력받은 후 팩토리얼을 계산하는 코드를 작성하시오.\n",
    "# 5! = 5*4*3*2*1\n",
    "\n",
    "total = 1\n",
    "n = int(input(\"임의의 수를 입력하세요: \"))\n",
    "for i in range(1,n+1):       #range(1,n+1,-1) 이거로 했더니 안됨 왜 그럴까 -> 스텝 -1 쓰려면 range(n,0,-1)으로 해야함\n",
    "    total *= i\n",
    "    \n",
    "print(total)\n",
    "    "
   ]
  },
  {
   "cell_type": "code",
   "execution_count": 19,
   "id": "67625154",
   "metadata": {},
   "outputs": [
    {
     "name": "stdout",
     "output_type": "stream",
     "text": [
      " 5\n"
     ]
    },
    {
     "data": {
      "text/plain": [
       "120"
      ]
     },
     "execution_count": 19,
     "metadata": {},
     "output_type": "execute_result"
    }
   ],
   "source": [
    "num = int(input(\" \"))\n",
    "total=1\n",
    "while num >0 :\n",
    "    total *= num\n",
    "    num -= 1\n",
    "total"
   ]
  },
  {
   "cell_type": "code",
   "execution_count": null,
   "id": "8de95855",
   "metadata": {},
   "outputs": [],
   "source": [
    "L = [70, 100, 80, 120, 130]\n",
    "# 반복문을 이용해서 최대값과 최소값을 구하시오."
   ]
  },
  {
   "cell_type": "code",
   "execution_count": 41,
   "id": "dec5350a",
   "metadata": {},
   "outputs": [
    {
     "name": "stdout",
     "output_type": "stream",
     "text": [
      "최대값= 130, 최소값= 70\n"
     ]
    }
   ],
   "source": [
    "L = [70, 100, 80, 120, 130]\n",
    "\n",
    "Max_n = L[0]\n",
    "Min_n = L[0]\n",
    "\n",
    "for n in L:\n",
    "    if n > Max_n:      # 만약 n이 Max_n보다 크면 n에 Max_n값을 넣는다 \n",
    "        Max_n = n\n",
    "    if n < Min_n:\n",
    "        Min_n = n \n",
    "print(\"최대값= {}, 최소값= {}\".format(Max_n, Min_n))"
   ]
  },
  {
   "cell_type": "code",
   "execution_count": 39,
   "id": "de4fc55c",
   "metadata": {},
   "outputs": [],
   "source": [
    "#     *\n",
    "#    **\n",
    "#   ***\n",
    "#  ****\n",
    "# *****"
   ]
  },
  {
   "cell_type": "code",
   "execution_count": 44,
   "id": "2b70d5af",
   "metadata": {},
   "outputs": [
    {
     "name": "stdout",
     "output_type": "stream",
     "text": [
      "    *\n",
      "   **\n",
      "  ***\n",
      " ****\n",
      "*****\n"
     ]
    }
   ],
   "source": [
    "for i in range(1,6):\n",
    "    print(\" \"*(5-i) + \"*\"*i)"
   ]
  },
  {
   "cell_type": "code",
   "execution_count": null,
   "id": "c4a02adc",
   "metadata": {},
   "outputs": [],
   "source": []
  }
 ],
 "metadata": {
  "kernelspec": {
   "display_name": "Python 3 (ipykernel)",
   "language": "python",
   "name": "python3"
  },
  "language_info": {
   "codemirror_mode": {
    "name": "ipython",
    "version": 3
   },
   "file_extension": ".py",
   "mimetype": "text/x-python",
   "name": "python",
   "nbconvert_exporter": "python",
   "pygments_lexer": "ipython3",
   "version": "3.9.7"
  }
 },
 "nbformat": 4,
 "nbformat_minor": 5
}
