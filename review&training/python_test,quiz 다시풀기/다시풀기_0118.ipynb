{
 "cells": [
  {
   "cell_type": "code",
   "execution_count": 1,
   "id": "8339987a",
   "metadata": {},
   "outputs": [],
   "source": [
    "# Quiz"
   ]
  },
  {
   "cell_type": "code",
   "execution_count": null,
   "id": "cbc5d258",
   "metadata": {},
   "outputs": [],
   "source": [
    "# Tuple"
   ]
  },
  {
   "cell_type": "code",
   "execution_count": 3,
   "id": "8e15f7e9",
   "metadata": {},
   "outputs": [],
   "source": [
    "# myTuple = ('tuple',(1,2,3),[4,5,6,7,8],'7','8','9')\n",
    "\n",
    "# 3을 출력하세요\n",
    "# 4,5를 출력하세요\n",
    "# [4,5,6]을 출력하세요"
   ]
  },
  {
   "cell_type": "code",
   "execution_count": 6,
   "id": "7a231d41",
   "metadata": {},
   "outputs": [
    {
     "data": {
      "text/plain": [
       "1"
      ]
     },
     "execution_count": 6,
     "metadata": {},
     "output_type": "execute_result"
    }
   ],
   "source": [
    "myTuple = ('tuple',(1,2,3),[4,5,6,7,8],'7','8','9')\n",
    "\n",
    "# 3을 출력하세요\n",
    "# 4,5를 출력하세요\n",
    "myTuple[2][0]\n",
    "myTuple[1][0]   # 요소가 튜플안에 있던 리스트 안에 있던 상관없다!"
   ]
  },
  {
   "cell_type": "code",
   "execution_count": 10,
   "id": "468c3122",
   "metadata": {},
   "outputs": [
    {
     "data": {
      "text/plain": [
       "[4, 5]"
      ]
     },
     "execution_count": 10,
     "metadata": {},
     "output_type": "execute_result"
    }
   ],
   "source": [
    "# [4,5,6]을 출력하세요\n",
    "myTuple = ('tuple',(1,2,3),[4,5,6,7,8],'7','8','9')\n",
    "\n",
    "# 요소 안에 여러값 출력시 알아서 튜플,리스트 형태를 가지고 온다\n",
    "myTuple[1][0:2]   # 튜플 형태로 출력   [1,2]\n",
    "myTuple[2][0:2]   # 리스트 형태로 출력 [4,5]"
   ]
  },
  {
   "cell_type": "code",
   "execution_count": 14,
   "id": "f73ca1d2",
   "metadata": {},
   "outputs": [
    {
     "data": {
      "text/plain": [
       "6.0"
      ]
     },
     "execution_count": 14,
     "metadata": {},
     "output_type": "execute_result"
    }
   ],
   "source": [
    "# 인덱스 2번에서 평균을 출력하세요\n",
    "import numpy as np\n",
    "np.mean(myTuple[2])\n"
   ]
  },
  {
   "cell_type": "code",
   "execution_count": null,
   "id": "732f7aff",
   "metadata": {},
   "outputs": [],
   "source": [
    "# set\n",
    "# set s에 1,2 두 원소를 추가하세요\n",
    "\n",
    "# A = {1,2,3,4,5,6}\n",
    "# C = {1,2,3}\n",
    "# C가 A의 부분집합인지 확인\n",
    "# A가 C를 포함하는지 확인"
   ]
  },
  {
   "cell_type": "code",
   "execution_count": 22,
   "id": "db4421cc",
   "metadata": {},
   "outputs": [
    {
     "data": {
      "text/plain": [
       "{1, 2, 3}"
      ]
     },
     "execution_count": 22,
     "metadata": {},
     "output_type": "execute_result"
    }
   ],
   "source": [
    "# set s에 1,2 두 원소를 추가하세요\n",
    "s = set()\n",
    "s.update({1,2}) # 두개 이상의 원소 집합 형태로 추가 가능\n",
    "s\n",
    "s.add(3)        # 원소 한개만 추가 가능\n",
    "s"
   ]
  },
  {
   "cell_type": "code",
   "execution_count": 23,
   "id": "9d317e6e",
   "metadata": {},
   "outputs": [
    {
     "data": {
      "text/plain": [
       "True"
      ]
     },
     "execution_count": 23,
     "metadata": {},
     "output_type": "execute_result"
    }
   ],
   "source": [
    "# C가 A의 부분집합인지 확인  작은집합.issubset(큰집합)\n",
    "# A가 C를 포함하는지 확인     큰 집합.issuperset(작은집합)\n",
    "\n",
    "A = {1,2,3,4,5,6}\n",
    "C = {1,2,3}\n",
    "\n",
    "A.issuperset(C)"
   ]
  },
  {
   "cell_type": "code",
   "execution_count": 24,
   "id": "29eefe4e",
   "metadata": {},
   "outputs": [],
   "source": [
    "# Dictionary"
   ]
  },
  {
   "cell_type": "code",
   "execution_count": 43,
   "id": "3ffd01cf",
   "metadata": {},
   "outputs": [],
   "source": [
    "d= {'red':4, 'blue':3, 'green':1, 'yellow':10}\n",
    "# (key기준으로 정렬하세요.)\n",
    "# (value기준으로 정렬하세요)\n",
    "# key에 'blue'가 있는지 확인하세요.\n",
    "# value에 20이 있는지 확인하세요."
   ]
  },
  {
   "cell_type": "code",
   "execution_count": 49,
   "id": "3b406625",
   "metadata": {},
   "outputs": [
    {
     "ename": "TypeError",
     "evalue": "'values' is an invalid keyword argument for sort()",
     "output_type": "error",
     "traceback": [
      "\u001b[1;31m---------------------------------------------------------------------------\u001b[0m",
      "\u001b[1;31mTypeError\u001b[0m                                 Traceback (most recent call last)",
      "\u001b[1;32m~\\AppData\\Local\\Temp/ipykernel_3760/1653937305.py\u001b[0m in \u001b[0;36m<module>\u001b[1;34m\u001b[0m\n\u001b[0;32m      3\u001b[0m \u001b[1;31m# sorted(d.items(), key= lambda x: x[0])\u001b[0m\u001b[1;33m\u001b[0m\u001b[1;33m\u001b[0m\u001b[0m\n\u001b[0;32m      4\u001b[0m \u001b[1;33m\u001b[0m\u001b[0m\n\u001b[1;32m----> 5\u001b[1;33m \u001b[0msorted\u001b[0m\u001b[1;33m(\u001b[0m\u001b[0md\u001b[0m\u001b[1;33m.\u001b[0m\u001b[0mitems\u001b[0m\u001b[1;33m(\u001b[0m\u001b[1;33m)\u001b[0m\u001b[1;33m,\u001b[0m \u001b[0mvalues\u001b[0m \u001b[1;33m=\u001b[0m \u001b[1;32mlambda\u001b[0m \u001b[0mx\u001b[0m \u001b[1;33m:\u001b[0m\u001b[0mx\u001b[0m\u001b[1;33m[\u001b[0m\u001b[1;36m1\u001b[0m\u001b[1;33m]\u001b[0m\u001b[1;33m)\u001b[0m\u001b[1;33m\u001b[0m\u001b[1;33m\u001b[0m\u001b[0m\n\u001b[0m\u001b[0;32m      6\u001b[0m \u001b[0md\u001b[0m\u001b[1;33m\u001b[0m\u001b[1;33m\u001b[0m\u001b[0m\n",
      "\u001b[1;31mTypeError\u001b[0m: 'values' is an invalid keyword argument for sort()"
     ]
    }
   ],
   "source": [
    "# (key기준으로 정렬하세요.)\n",
    "# (value기준으로 정렬하세요)\n",
    "# sorted(d.items(), key= lambda x: x[0])\n",
    "\n",
    "sorted(d.items(), keys = lambda x :x[1]) \n",
    "d"
   ]
  },
  {
   "cell_type": "code",
   "execution_count": 50,
   "id": "f4fe6460",
   "metadata": {},
   "outputs": [],
   "source": [
    "# For문, while문"
   ]
  },
  {
   "cell_type": "code",
   "execution_count": 52,
   "id": "c30a41db",
   "metadata": {},
   "outputs": [],
   "source": [
    "# 1~10까지 정수를 출력하는 while문에서 continue와 break를 이용해서 3,4,5,6만 출력하도록 하시오."
   ]
  },
  {
   "cell_type": "code",
   "execution_count": 54,
   "id": "7c4a3771",
   "metadata": {},
   "outputs": [
    {
     "name": "stdout",
     "output_type": "stream",
     "text": [
      "3\n",
      "4\n",
      "5\n",
      "6\n"
     ]
    }
   ],
   "source": [
    "n=0\n",
    "while n <10:\n",
    "    n+=1  \n",
    "    if n < 3:\n",
    "        continue       # n이 3보다 작다면 while 제일 첫번째 단계로\n",
    "    elif n< 7:\n",
    "        print(n)\n",
    "    else:\n",
    "        break"
   ]
  },
  {
   "cell_type": "code",
   "execution_count": null,
   "id": "8ac5166b",
   "metadata": {},
   "outputs": [],
   "source": [
    "# text = 'hello world'에서 각 문자를 인덱스와 함께 튜플로 묶어서 출력\n",
    "# (0, 'h'), (1, 'e') ..."
   ]
  },
  {
   "cell_type": "code",
   "execution_count": 55,
   "id": "2e320a30",
   "metadata": {},
   "outputs": [
    {
     "name": "stdout",
     "output_type": "stream",
     "text": [
      "(0, 'h')\n",
      "(1, 'e')\n",
      "(2, 'l')\n",
      "(3, 'l')\n",
      "(4, 'o')\n",
      "(5, ' ')\n",
      "(6, 'w')\n",
      "(7, 'o')\n",
      "(8, 'r')\n",
      "(9, 'l')\n",
      "(10, 'd')\n"
     ]
    }
   ],
   "source": [
    "text = 'hello world'\n",
    "for i in enumerate(text):\n",
    "    print(i)"
   ]
  }
 ],
 "metadata": {
  "kernelspec": {
   "display_name": "Python 3 (ipykernel)",
   "language": "python",
   "name": "python3"
  },
  "language_info": {
   "codemirror_mode": {
    "name": "ipython",
    "version": 3
   },
   "file_extension": ".py",
   "mimetype": "text/x-python",
   "name": "python",
   "nbconvert_exporter": "python",
   "pygments_lexer": "ipython3",
   "version": "3.9.7"
  }
 },
 "nbformat": 4,
 "nbformat_minor": 5
}
