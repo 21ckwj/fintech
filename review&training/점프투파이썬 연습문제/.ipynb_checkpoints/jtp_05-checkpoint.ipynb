{
 "cells": [
  {
   "cell_type": "markdown",
   "metadata": {},
   "source": [
    "### 점프 투 파이썬 5장 연습문제\n",
    "---\n"
   ]
  },
  {
   "cell_type": "markdown",
   "metadata": {},
   "source": [
    "### Q1. 다음은 Calculator 클래스이다.\n",
    "\n",
    "#### class Calculator:\n",
    "#### &#160; def __init__(self):\n",
    "#### &nbsp; &#160;&#160;   self.value = 0\n",
    "\n",
    "#### &#160; def add(self, val):\n",
    "#### &#160;&#160;&nbsp; self.value += val\n",
    "#### 위 클래스를 상속하는 UpgradeCalculator를 만들고 값을 뺄 수 있는 minus 메서드를 추가해 보자. 즉 다음과 같이 동작하는 클래스를 만들어야 한다.\n",
    "\n",
    "#### cal = UpgradeCalculator()\n",
    "#### &#160; cal.add(10)\n",
    "#### &#160; cal.minus(7)\n",
    "\n",
    "#### print(cal.value) # 10에서 7을 뺀 3을 출력\n"
   ]
  },
  {
   "cell_type": "code",
   "execution_count": 11,
   "metadata": {},
   "outputs": [
    {
     "name": "stdout",
     "output_type": "stream",
     "text": [
      "7\n"
     ]
    }
   ],
   "source": [
    "# Q1. 다음은 Calculator 클래스이다.\n",
    "\n",
    "# class Calculator:\n",
    "#     def __init__(self):\n",
    "#         self.value = 0   -> 객체에 value라는 변수를 생성\n",
    "\n",
    "#     def add(self, val):\n",
    "#         self.value += val  -> Calculator(val) 시 value변수에 val 더해줌\n",
    "\n",
    "# 위 클래스를 상속하는 UpgradeCalculator를 만들고 값을 뺄 수 있는 minus 메서드를 추가해 보자. 즉 다음과 같이 동작하는 클래스를 만들어야 한다.\n",
    "\n",
    "# cal = UpgradeCalculator()\n",
    "# cal.add(10)\n",
    "# cal.minus(7)\n",
    "\n",
    "# print(cal.value) # 10에서 7을 뺀 3을 출력\n",
    "\n",
    "class Calculator:\n",
    "    def __init__(self):\n",
    "        self.value = 0\n",
    "\n",
    "    def add(self, val):\n",
    "        self.value += val\n",
    "\n",
    "class UpgradeCalculator(Calculator):\n",
    "    def minus(self,val):\n",
    "        self.value -= val\n",
    "\n",
    "cal = UpgradeCalculator()\n",
    "cal.add(10)\n",
    "cal.minus(3)\n",
    "print(cal.value)\n"
   ]
  },
  {
   "cell_type": "markdown",
   "metadata": {},
   "source": [
    "### Q2. 객체변수 value가 100 이상의 값은 가질 수 없도록 제한하는 MaxLimitCalculator 클래스를 만들어 보자. 즉 다음과 같이 동작해야 한다.\n",
    "\n",
    "#### cal = MaxLimitCalculator()\n",
    "#### cal.add(50) # 50 더하기\n",
    "#### cal.add(60) # 60 더하기\n",
    "\n",
    "#### print(cal.value) # 100 출력\n",
    "#### 단 반드시 다음과 같은 Calculator 클래스를 상속해서 만들어야 한다.\n",
    "\n",
    "#### class Calculator:\n",
    "####  &nbsp;&nbsp;def __init__(self):\n",
    "#### &nbsp;&nbsp;&nbsp;        self.value = 0\n",
    "\n",
    "#### &nbsp;    def add(self, val):\n",
    "#### &nbsp;&nbsp;&nbsp;        self.value += val"
   ]
  },
  {
   "cell_type": "code",
   "execution_count": 15,
   "metadata": {},
   "outputs": [
    {
     "name": "stdout",
     "output_type": "stream",
     "text": [
      "100\n"
     ]
    }
   ],
   "source": [
    "# Q2. 객체변수 value가 100 이상의 값은 가질 수 없도록 제한하는 MaxLimitCalculator 클래스를 만들어 보자. 즉 다음과 같이 동작해야 한다.\n",
    "\n",
    "# cal = MaxLimitCalculator()\n",
    "# cal.add(50) # 50 더하기\n",
    "# cal.add(60) # 60 더하기\n",
    "\n",
    "# print(cal.value) # 100 출력\n",
    "# 단 반드시 다음과 같은 Calculator 클래스를 상속해서 만들어야 한다.\n",
    "\n",
    "class Calculator:\n",
    "    def __init__(self):\n",
    "        self.value = 0\n",
    "\n",
    "    def add(self, val):\n",
    "        self.value += val\n",
    "\n",
    "class MaxLimitCalculator(Calculator):\n",
    "    def add(self, val):\n",
    "        self.value+= val\n",
    "        if self.value >100:\n",
    "            self.value = 100\n",
    "        else:\n",
    "            return self.value\n",
    "        \n",
    "cal = MaxLimitCalculator()\n",
    "cal.add(50)\n",
    "cal.add(60)\n",
    "print(cal.value)\n",
    "    "
   ]
  },
  {
   "cell_type": "code",
   "execution_count": 23,
   "metadata": {},
   "outputs": [
    {
     "data": {
      "text/plain": [
       "False"
      ]
     },
     "execution_count": 23,
     "metadata": {},
     "output_type": "execute_result"
    }
   ],
   "source": [
    "# Q3. 다음 결과를 예측해 보자.\n",
    "\n",
    "# (1)\n",
    "# >>> all([1, 2, abs(-3)-3])\n",
    "\n",
    "# (2)\n",
    "\n",
    "# >>> chr(ord('a')) == 'a'\n",
    "\n",
    "#(1) 참고\n",
    "# all(x)는 반복 가능한(iterable) 자료형 x를 입력 인수로 받으며 이 x의 요소가 모두 참이면 True, 거짓이 하나라도 있으면 False를 돌려준다.\n",
    "\n",
    "# ※ 반복 가능한 자료형이란 for문으로 그 값을 출력할 수 있는 것을 의미한다. 리스트, 튜플, 문자열, 딕셔너리, 집합 등이 있다.\n",
    "\n",
    "\n",
    "all([1, 2, abs(-3)-3])      # False abs(-3)-3 = 0 --> all([1,2,0]) 요소 0은 거짓이므로 False\n",
    "\n",
    "#(2)\n",
    "chr(ord('a')) == 'a'        # True  디코딩 인코딩 \n",
    "\n"
   ]
  },
  {
   "cell_type": "code",
   "execution_count": 28,
   "metadata": {},
   "outputs": [
    {
     "name": "stdout",
     "output_type": "stream",
     "text": [
      "[1, 3, 8]\n"
     ]
    }
   ],
   "source": [
    "# Q4. filter와 lambda를 사용하여 리스트 [1, -2, 3, -5, 8, -3]에서 음수를 모두 제거해 보자.\n",
    "\n",
    "# def positive(x):\n",
    "#     return x >0\n",
    "\n",
    "# print(list(filter(positive, [1, -2, 3, -5, 8, -3])))\n",
    "\n",
    "print(list(filter((lambda x: x>0),[1, -2, 3, -5, 8, -3])))  # postive 라는 함수를 따로 정의하지 말고 lambda를 사용\n",
    "\n"
   ]
  },
  {
   "cell_type": "code",
   "execution_count": null,
   "metadata": {},
   "outputs": [],
   "source": [
    "# Q5. 234라는 10진수의 16진수는 다음과 같이 구할 수 있다.\n",
    "\n",
    "# >>> hex(234)\n",
    "# '0xea'\n",
    "# 이번에는 반대로 16진수 문자열 0xea를 10진수로 변경해 보자."
   ]
  },
  {
   "cell_type": "code",
   "execution_count": 29,
   "metadata": {},
   "outputs": [
    {
     "name": "stdout",
     "output_type": "stream",
     "text": [
      "[3, 6, 9, 12]\n"
     ]
    }
   ],
   "source": [
    "# Q6. map과 lambda를 사용하여 [1, 2, 3, 4] 리스트의 각 요솟값에 3이 곱해진 리스트 [3, 6, 9, 12]를 만들어 보자.\n",
    "\n",
    "print(list(map((lambda x: x*3), [1, 2, 3, 4] )))"
   ]
  },
  {
   "cell_type": "code",
   "execution_count": 30,
   "metadata": {},
   "outputs": [
    {
     "name": "stdout",
     "output_type": "stream",
     "text": [
      "-1\n"
     ]
    }
   ],
   "source": [
    "# Q7. 다음 리스트의 최댓값과 최솟값의 합을 구해 보자.\n",
    "\n",
    "# [-8, 2, 7, 5, -3, 5, 0, 1]\n",
    "\n",
    "high = max([-8, 2, 7, 5, -3, 5, 0, 1])\n",
    "low = min([-8, 2, 7, 5, -3, 5, 0, 1])\n",
    "\n",
    "result = high + low\n",
    "print(result)"
   ]
  }
 ],
 "metadata": {
  "interpreter": {
   "hash": "8931d08a56ba8ec5bd4013e6d6c9066a90d099ecd0b9731835efa4c48cf46a24"
  },
  "kernelspec": {
   "display_name": "Python 3 (ipykernel)",
   "language": "python",
   "name": "python3"
  },
  "language_info": {
   "codemirror_mode": {
    "name": "ipython",
    "version": 3
   },
   "file_extension": ".py",
   "mimetype": "text/x-python",
   "name": "python",
   "nbconvert_exporter": "python",
   "pygments_lexer": "ipython3",
   "version": "3.9.7"
  }
 },
 "nbformat": 4,
 "nbformat_minor": 2
}
