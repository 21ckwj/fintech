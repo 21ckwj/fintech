{
 "cells": [
  {
   "cell_type": "markdown",
   "id": "4b4e206c",
   "metadata": {},
   "source": [
    "### Q13 DashInsert 함수\n",
    "DashInsert 함수는 숫자로 구성된 문자열을 입력받은 뒤 문자열 안에서 홀수가 연속되면 두 수 사이에 - 를 추가하고, 짝수가 연속되면 * 를 추가하는 기능을 갖고 있다.   \n",
    "DashInsert 함수를 완성하시오.\n",
    "\n",
    "입력 예시: 4546793\n",
    "출력 예시: 454*67-9-3"
   ]
  },
  {
   "cell_type": "code",
   "execution_count": 13,
   "id": "f97fe489",
   "metadata": {},
   "outputs": [
    {
     "name": "stdout",
     "output_type": "stream",
     "text": [
      "숫자를 입력하세요:4546987\n"
     ]
    },
    {
     "ename": "TypeError",
     "evalue": "'builtin_function_or_method' object is not subscriptable",
     "output_type": "error",
     "traceback": [
      "\u001b[1;31m---------------------------------------------------------------------------\u001b[0m",
      "\u001b[1;31mTypeError\u001b[0m                                 Traceback (most recent call last)",
      "\u001b[1;32m~\\AppData\\Local\\Temp/ipykernel_9244/1776628197.py\u001b[0m in \u001b[0;36m<module>\u001b[1;34m\u001b[0m\n\u001b[0;32m     22\u001b[0m \u001b[0mlst1\u001b[0m\u001b[1;33m.\u001b[0m\u001b[0mappend\u001b[0m\u001b[1;33m(\u001b[0m\u001b[0mlst\u001b[0m\u001b[1;33m[\u001b[0m\u001b[1;33m-\u001b[0m\u001b[1;36m1\u001b[0m\u001b[1;33m]\u001b[0m\u001b[1;33m)\u001b[0m  \u001b[1;31m# 마지막 값은 비교가 안되어 따로 추가\u001b[0m\u001b[1;33m\u001b[0m\u001b[1;33m\u001b[0m\u001b[0m\n\u001b[0;32m     23\u001b[0m \u001b[1;33m\u001b[0m\u001b[0m\n\u001b[1;32m---> 24\u001b[1;33m \u001b[0manswer\u001b[0m \u001b[1;33m=\u001b[0m \u001b[1;34m\"\"\u001b[0m\u001b[1;33m.\u001b[0m\u001b[0mjoin\u001b[0m\u001b[1;33m[\u001b[0m\u001b[0mlst1\u001b[0m\u001b[1;33m]\u001b[0m\u001b[1;33m\u001b[0m\u001b[1;33m\u001b[0m\u001b[0m\n\u001b[0m\u001b[0;32m     25\u001b[0m \u001b[1;33m\u001b[0m\u001b[0m\n\u001b[0;32m     26\u001b[0m \u001b[1;31m# a = \".\".join(lst1)  #에러 TypeError: sequence item 0: expected str instance, int found\u001b[0m\u001b[1;33m\u001b[0m\u001b[1;33m\u001b[0m\u001b[0m\n",
      "\u001b[1;31mTypeError\u001b[0m: 'builtin_function_or_method' object is not subscriptable"
     ]
    }
   ],
   "source": [
    "n = input(\"숫자를 입력하세요:\")\n",
    "\n",
    "lst_n = list(n)\n",
    "lst = list(map(int,lst_n))\n",
    "ln = len(lst)\n",
    "lst1 = []\n",
    "\n",
    "# for c in lst_n: 이렇게 하면 다음 숫자랑 비교를 못함\n",
    "for i in range(ln-1):\n",
    "#     if lst_n[i]%2 == lst_n[i+1]%2:  #에러남 TypeError: not all arguments converted during string formatting\n",
    "                                     # string formating = 문자열 가지고 해서 에러가 났다 -> lst_n[i]: 문자열 타입 숫자로 고치지 않아서 에러\n",
    "    if lst[i]%2 == lst[i+1]%2:\n",
    "        if lst[i]%2 == 0:        # 짝수로 앞 숫자와 같다면 자신과 기호 추가\n",
    "            lst1.append(lst[i])  \n",
    "            lst1.append('*')\n",
    "        else:\n",
    "            lst1.append(lst[i]) # 홀수로 앞 숫자와 같다면 자신과 기호 추가\n",
    "            lst1.append('-')\n",
    "    else:\n",
    "           lst1.append(lst[i])\n",
    "\n",
    "lst1.append(lst[-1])  # 마지막 값은 비교가 안되어 따로 추가\n",
    "\n",
    "\n",
    "\n",
    "# a = \".\".join(lst1)  #에러 TypeError: sequence item 0: expected str instance, int found\n",
    "# a\n",
    "\n",
    "            "
   ]
  },
  {
   "cell_type": "code",
   "execution_count": null,
   "id": "1c56bf5f",
   "metadata": {},
   "outputs": [],
   "source": []
  }
 ],
 "metadata": {
  "kernelspec": {
   "display_name": "Python 3 (ipykernel)",
   "language": "python",
   "name": "python3"
  },
  "language_info": {
   "codemirror_mode": {
    "name": "ipython",
    "version": 3
   },
   "file_extension": ".py",
   "mimetype": "text/x-python",
   "name": "python",
   "nbconvert_exporter": "python",
   "pygments_lexer": "ipython3",
   "version": "3.9.7"
  }
 },
 "nbformat": 4,
 "nbformat_minor": 5
}
