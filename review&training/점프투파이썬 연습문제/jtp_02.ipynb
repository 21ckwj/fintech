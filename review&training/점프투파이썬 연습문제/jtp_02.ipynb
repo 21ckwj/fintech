{
 "cells": [
  {
   "cell_type": "markdown",
   "metadata": {},
   "source": [
    "### 점프 투 파이썬 연습문제 02장"
   ]
  },
  {
   "cell_type": "code",
   "execution_count": 25,
   "metadata": {},
   "outputs": [
    {
     "name": "stdout",
     "output_type": "stream",
     "text": [
      "[1, 2, 3, 4, 5]\n",
      "[5, 4, 3, 2, 1]\n"
     ]
    }
   ],
   "source": [
    "#Q6. [1,3,5,4,2] 리스트를 [5,4,3,2,1]로 만들어 보자.\n",
    "\n",
    "a=[1,3,5,4,2]\n",
    "a.sort()\n",
    "print(a)\n",
    "\n",
    "# a.sort(reverse=True)\n",
    "a.reverse()\n",
    "print(a)\n",
    "\n",
    "#오름차순 sort()\n",
    "#내림차순 sort(reverse=True) or a.reverse()\n"
   ]
  },
  {
   "cell_type": "code",
   "execution_count": 30,
   "metadata": {},
   "outputs": [
    {
     "name": "stdout",
     "output_type": "stream",
     "text": [
      "Life is too short\n"
     ]
    }
   ],
   "source": [
    "#Q7. ['Life','is','too','short'] 리스트를 Life is too short 문자열로 만들어 출력해 보자. \n",
    "\n",
    "a = ['Life', 'is', 'too', 'short']\n",
    "result = \" \".join(a)\n",
    "print(result)\n",
    "\n",
    "#'구분자'.join(리스트) 여기서의 구분자는 공백"
   ]
  },
  {
   "cell_type": "code",
   "execution_count": 34,
   "metadata": {},
   "outputs": [
    {
     "name": "stdout",
     "output_type": "stream",
     "text": [
      "(1, 2, 3, 4)\n"
     ]
    }
   ],
   "source": [
    "#Q8. (1,2,3) 튜플에 값 4를 추가하여 (1,2,3,4)를 만들어 출력해보자.\n",
    "\n",
    "a = (1,2,3)\n",
    "a = a + (4,)\n",
    "print(a)\n",
    "\n",
    "#튜플도 리스트처럼 인덱싱,슬라이싱,더하기, 곱하기 다 가능\n",
    "# 하나의 원소인 튜플 더할 때 (4) 가 아닌 (4,) 이어야 한다."
   ]
  },
  {
   "cell_type": "code",
   "execution_count": 42,
   "metadata": {},
   "outputs": [],
   "source": [
    "#Q9.다음과 같은 딕셔너리 a가 있다. a = dict() \n",
    "# 다음 중 오류가 발생하는 경우를 고르고 그 이유를 설명해 보자.\n",
    "a= dict()\n",
    "# 1.\n",
    "a['name'] = 'python'\n",
    "# 2.\n",
    "a[('a',)] = 'python'\n",
    "# 3.\n",
    "# a[[1]]  = 'python'\n",
    "# 4.\n",
    "a[250] = 'python'\n",
    "\n",
    "#답지 참조\n",
    "#딕셔너리의 키로는 변하는(mutable)한 값을 사용할 수 없기 때문이다.\n",
    "#문자열, 튜플, 숫자는 변하지 않는(immutable)한 값이므로 딕셔너리 키로 사용가능하다.\n",
    "\n"
   ]
  },
  {
   "cell_type": "code",
   "execution_count": 36,
   "metadata": {},
   "outputs": [
    {
     "name": "stdout",
     "output_type": "stream",
     "text": [
      "{'A': 90, 'C': 70}\n",
      "80\n"
     ]
    }
   ],
   "source": [
    "#Q10. 딕셔너리 a에서 'B'에 해당되는 값을 추출해 보자.\n",
    "\n",
    "a = {'A':90, 'B':80, 'C':70}\n",
    "result = a.pop('B')\n",
    "print(a)                #{'A':90, 'C':70} 출력\n",
    "print(result)           # 80 출력\n",
    "\n",
    "# pop(key)\n"
   ]
  },
  {
   "cell_type": "code",
   "execution_count": 16,
   "metadata": {},
   "outputs": [
    {
     "name": "stdout",
     "output_type": "stream",
     "text": [
      "[1, 2, 3, 4, 5]\n",
      "{1, 2, 3, 4, 5}\n"
     ]
    }
   ],
   "source": [
    "#Q11. a 리스트에서 중복 숫자를 제거해 보자.\n",
    "a = [1,1,1,2,2,3,3,3,4,4,5]\n",
    "aSet = set(a)                       # a 리스트를 집합 자료형으로 변환\n",
    "b = list(aSet)                      # 집합 자료형을 리스트 자료형으로 다시 변환\n",
    "print(b)                            # [1,2,3,4,5] 출력\n",
    "\n",
    "\n",
    "# 리스트 자료형을 집합자료형으로 바꾸게 되면 중복된 값을 쉽게 처리할 수 있다\n"
   ]
  },
  {
   "cell_type": "code",
   "execution_count": 14,
   "metadata": {},
   "outputs": [
    {
     "name": "stdout",
     "output_type": "stream",
     "text": [
      "[1, 4, 3]\n"
     ]
    }
   ],
   "source": [
    "# Q12. 파이썬은 다음처럼 동일한 값에 여러 개의 변수를 선언할 수 있다. 다음과 같이 a,b 변수를 선언한 후\n",
    "# a의 두 번째의 요솟값을 변경하면 b 값은 어떻게 될까? 그리고 이런 결과가 나오는 이유에 대해 설명해 보자.\n",
    "\n",
    "a = b = [1, 2, 3]\n",
    "a[1] = 4\n",
    "print(b)\n",
    "\n",
    "# 답지 참조 : a와 b 변수는 모두 동일한 [1,2,3]이라는 동일한 리스트 객체를 가리키고 있기 때문에 [1,4,3]이 출력된다.\n"
   ]
  }
 ],
 "metadata": {
  "interpreter": {
   "hash": "dc8f76e70a020781c3d9570dcc216c8634a08ba84b5db65cc3b0707bc1885291"
  },
  "kernelspec": {
   "display_name": "Python 3.10.1 64-bit",
   "language": "python",
   "name": "python3"
  },
  "language_info": {
   "codemirror_mode": {
    "name": "ipython",
    "version": 3
   },
   "file_extension": ".py",
   "mimetype": "text/x-python",
   "name": "python",
   "nbconvert_exporter": "python",
   "pygments_lexer": "ipython3",
   "version": "3.10.1"
  },
  "orig_nbformat": 4
 },
 "nbformat": 4,
 "nbformat_minor": 2
}
