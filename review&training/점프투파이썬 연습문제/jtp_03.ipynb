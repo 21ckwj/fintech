{
 "cells": [
  {
   "cell_type": "markdown",
   "metadata": {},
   "source": [
    "### 점프 투 파이썬 3장 연습문제"
   ]
  },
  {
   "cell_type": "markdown",
   "metadata": {},
   "source": [
    "###### 너무 쉬운거 같기도 하고..."
   ]
  },
  {
   "cell_type": "code",
   "execution_count": 1,
   "metadata": {},
   "outputs": [
    {
     "name": "stdout",
     "output_type": "stream",
     "text": [
      "shirt\n"
     ]
    }
   ],
   "source": [
    "# Q1.다음 코드 결과값?\n",
    "\n",
    "a = \"Life is too short, you need python\"\n",
    "if \"wife\" in a : print(\"wife\")\n",
    "elif \"python\" in a and \"you\" not in a: prnt(\"python\")\n",
    "elif \"shirt\" not in a: print(\"shirt\")\n",
    "elif \"need\" in a : print(\"need\")\n",
    "else: print(\"none\") \n",
    "\n",
    "# shirt need (x)\n",
    "# 가장 먼저 참 인 조건만 출력된다!!\n",
    "# 정답 shirt"
   ]
  },
  {
   "cell_type": "code",
   "execution_count": 9,
   "metadata": {},
   "outputs": [
    {
     "name": "stdout",
     "output_type": "stream",
     "text": [
      "166833\n"
     ]
    }
   ],
   "source": [
    "#Q2. while 문을 사용해 1부터 1000까지의 자연수 중 3의 배수의 합을 구해보자.\n",
    "\n",
    "result = 0\n",
    "i =1\n",
    "while i <= 1000:\n",
    "    if i % 3 == 0:\n",
    "        result += i\n",
    "    i += 1\n",
    "print(result)"
   ]
  },
  {
   "cell_type": "code",
   "execution_count": 10,
   "metadata": {},
   "outputs": [
    {
     "name": "stdout",
     "output_type": "stream",
     "text": [
      "*\n",
      "**\n",
      "***\n",
      "****\n",
      "*****\n"
     ]
    }
   ],
   "source": [
    "# Q3. while문을 사용하여 다음과 같이 별(*)을 표시하는 프로그램을 작성해 보자.\n",
    "# *\n",
    "# **\n",
    "# ***\n",
    "# ****\n",
    "# *****\n",
    "\n",
    "i=1 \n",
    "while i <= 5:\n",
    "    print(\"*\" * i)\n",
    "    i += 1\n",
    "    \n",
    "\n"
   ]
  },
  {
   "cell_type": "code",
   "execution_count": null,
   "metadata": {},
   "outputs": [],
   "source": [
    "#Q4. for 문을 사용해 1부터 100까지의 숫자를 출력해보자\n",
    "\n",
    "for i in range(1,100+1):\n",
    "    print(i)"
   ]
  },
  {
   "cell_type": "code",
   "execution_count": 13,
   "metadata": {},
   "outputs": [
    {
     "name": "stdout",
     "output_type": "stream",
     "text": [
      "9\n",
      "A학급의 평균점수는 78.88888888888889입니다\n"
     ]
    }
   ],
   "source": [
    "#Q5. A학급에 총 10명의 학생이 있다. 이 학생들의 중간고사 점수는 다음과 같다. A = [70,60,55,75,95,90,80,85,100]\n",
    "#    for 문을 사용하여 A학급의 평균점수를 구해보자\n",
    "\n",
    "A = [70,60,55,75,95,90,80,85,100]\n",
    "print(len(A))\n",
    "sum = 0\n",
    "for score in A:\n",
    "    sum += score\n",
    "\n",
    "print(\"A학급의 평균점수는 {}입니다\".format(sum/len(A)))"
   ]
  },
  {
   "cell_type": "code",
   "execution_count": 17,
   "metadata": {},
   "outputs": [
    {
     "data": {
      "text/plain": [
       "[1, 3, 5]"
      ]
     },
     "execution_count": 17,
     "metadata": {},
     "output_type": "execute_result"
    }
   ],
   "source": [
    "# Q6. 리스트 중에서 홀수에만 2를 곱하여 저장하는 다음 코드가 있다.\n",
    "numbers = [1,2,3,4,5]\n",
    "\n",
    "# result=[]\n",
    "# for n in numbers:\n",
    "#     if n%2 ==1 :\n",
    "#         result.append(n)\n",
    "# result\n",
    "\n",
    "# list comprehension 으로 나타내시오\n",
    "\n",
    "result =[n for n in numbers if n%2==1 ]\n",
    "result"
   ]
  }
 ],
 "metadata": {
  "interpreter": {
   "hash": "8931d08a56ba8ec5bd4013e6d6c9066a90d099ecd0b9731835efa4c48cf46a24"
  },
  "kernelspec": {
   "display_name": "Python 3.10.1 64-bit",
   "language": "python",
   "name": "python3"
  },
  "language_info": {
   "codemirror_mode": {
    "name": "ipython",
    "version": 3
   },
   "file_extension": ".py",
   "mimetype": "text/x-python",
   "name": "python",
   "nbconvert_exporter": "python",
   "pygments_lexer": "ipython3",
   "version": "3.10.1"
  },
  "orig_nbformat": 4
 },
 "nbformat": 4,
 "nbformat_minor": 2
}
