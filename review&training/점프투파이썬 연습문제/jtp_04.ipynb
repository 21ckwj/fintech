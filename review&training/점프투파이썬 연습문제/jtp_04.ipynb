{
 "cells": [
  {
   "cell_type": "markdown",
   "metadata": {},
   "source": [
    "### 점프 투 파이썬 4장 연습문제"
   ]
  },
  {
   "cell_type": "markdown",
   "metadata": {},
   "source": [
    "###### 쉬워서 모르는 문제만 "
   ]
  },
  {
   "cell_type": "code",
   "execution_count": 2,
   "metadata": {},
   "outputs": [
    {
     "name": "stdout",
     "output_type": "stream",
     "text": [
      "3.0\n"
     ]
    }
   ],
   "source": [
    "#Q2. 입력으로 들어오는 모든 수의 평균값을 계산해 주는 함수를 작성해보자.(입력으로 들어오는 수의 개수는 정해져 있지 않다)\n",
    "\n",
    "def avg_number(*num):\n",
    "    total = 0\n",
    "    for n in num:\n",
    "        total += n\n",
    "    avg = total/len(num)                # len(*num) 아니고 len(num) 왜\n",
    "    print(avg)\n",
    "\n",
    "avg_number(1,2,3,4,5)\n",
    "\n"
   ]
  },
  {
   "cell_type": "code",
   "execution_count": 4,
   "metadata": {},
   "outputs": [
    {
     "name": "stdout",
     "output_type": "stream",
     "text": [
      "Life is too short\n"
     ]
    }
   ],
   "source": [
    "# Q5. 다음은 \"text.txt\"라는 파일에 \"Life is too short\" 문자열을 저장한 후 다시 그 파일을 읽어서 출력하는 프로그램이다.\n",
    "# 오류가 안나게 수정해보자.\n",
    "\n",
    "f1 = open(\"test.txt\", 'w')              # text파일 만들어서 life is too short 씀\n",
    "f1.write(\"Life is too short\") \n",
    "f1.close()\n",
    "\n",
    "f2 = open(\"test.txt\", 'r')              # 만든 파일을 열어서 읽음\n",
    "print(f2.read())\n",
    "f2.close()"
   ]
  },
  {
   "cell_type": "code",
   "execution_count": 7,
   "metadata": {},
   "outputs": [],
   "source": [
    "#Q6. 사용자의 입력을 파일(test.txt)에 저장하는 프로그램을 작성해 보자. (단 프로그램을 다시 실행하더라도 기존에 작성한 내용을 유지하고 새로운 내용추가)\n",
    "\n",
    "user_input = input(\"저장할 내용을 입력하세요: \")\n",
    "f = open('test.txt', 'a')       # 새로운 내용을 추가하니깐 'a'  \n",
    "f.write(user_input)\n",
    "f.write(\"\\n\")                   # 내용 추가시 줄바꿈\n",
    "f.close()\n",
    "\n",
    "# 한글 입력 시 글자 깨짐\n",
    "\n",
    "\n"
   ]
  },
  {
   "cell_type": "code",
   "execution_count": null,
   "metadata": {},
   "outputs": [],
   "source": [
    "# Q7. 다음과 같은 test1.txt 가 있다. 이 파일의 내용 중 'java'라는 문자열을 'python'으로 바꾸어 저장해보자\n",
    "\n",
    "#Life is too short\n",
    "#you need java\n",
    "\n",
    "f1 = open('test1.txt', 'w')\n",
    "f1.write(\"Life is too short\\n you need java\")\n",
    "f1.close()\n",
    "\n",
    "f2= open('test1.txt', 'r')\n",
    "body = f2.read()\n",
    "f2.close()\n",
    "\n",
    "body = body.replace(\"java\", \"python\")       # java를 python으로 변경\n",
    "\n",
    "f2 = open('test1.txt', 'w')                 # f 함수를 읽기모드 쓰기모드 따로 지정 안해줘도 되는건가??\n",
    "f2.write(body)\n",
    "f2.close()\n",
    "\n"
   ]
  }
 ],
 "metadata": {
  "interpreter": {
   "hash": "8931d08a56ba8ec5bd4013e6d6c9066a90d099ecd0b9731835efa4c48cf46a24"
  },
  "kernelspec": {
   "display_name": "Python 3.10.1 64-bit",
   "language": "python",
   "name": "python3"
  },
  "language_info": {
   "codemirror_mode": {
    "name": "ipython",
    "version": 3
   },
   "file_extension": ".py",
   "mimetype": "text/x-python",
   "name": "python",
   "nbconvert_exporter": "python",
   "pygments_lexer": "ipython3",
   "version": "3.10.1"
  },
  "orig_nbformat": 4
 },
 "nbformat": 4,
 "nbformat_minor": 2
}
