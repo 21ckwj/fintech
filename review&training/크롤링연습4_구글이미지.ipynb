{
 "cells": [
  {
   "cell_type": "code",
   "execution_count": 49,
   "id": "2322bd0e",
   "metadata": {},
   "outputs": [],
   "source": [
    "from selenium import webdriver\n",
    "from selenium.webdriver.common.keys import Keys\n",
    "import urllib.request"
   ]
  },
  {
   "cell_type": "code",
   "execution_count": 50,
   "id": "62c2a99c",
   "metadata": {},
   "outputs": [],
   "source": [
    "url = 'http://www.google.com'"
   ]
  },
  {
   "cell_type": "code",
   "execution_count": 51,
   "id": "50866f3b",
   "metadata": {},
   "outputs": [],
   "source": [
    "driver = webdriver.Chrome()\n",
    "driver.get(url)"
   ]
  },
  {
   "cell_type": "code",
   "execution_count": 52,
   "id": "342764dc",
   "metadata": {},
   "outputs": [
    {
     "name": "stderr",
     "output_type": "stream",
     "text": [
      "C:\\Users\\21ckw\\AppData\\Local\\Temp/ipykernel_16284/1938880115.py:1: DeprecationWarning: find_element_by_* commands are deprecated. Please use find_element() instead\n",
      "  elem = driver.find_element_by_css_selector(\"body > div.L3eUgb > div.o3j99.ikrT4e.om7nvf > form > div:nth-child(1) > div.A8SBwf > div.RNNXgb > div > div.a4bIc > input\")\n"
     ]
    }
   ],
   "source": [
    "elem = driver.find_element_by_css_selector(\"body > div.L3eUgb > div.o3j99.ikrT4e.om7nvf > form > div:nth-child(1) > div.A8SBwf > div.RNNXgb > div > div.a4bIc > input\")\n",
    "\n",
    "# elem = driver.find_element_by_css_selector('input.gLFyf.gsfi')\n",
    "# <input class = \"gLFy gsfi\""
   ]
  },
  {
   "cell_type": "code",
   "execution_count": 53,
   "id": "238d6fe1",
   "metadata": {},
   "outputs": [],
   "source": [
    "# 검색\n",
    "elem.send_keys('빅데이터')\n",
    "elem.send_keys(Keys.RETURN)"
   ]
  },
  {
   "cell_type": "code",
   "execution_count": 54,
   "id": "4dbee8b2",
   "metadata": {},
   "outputs": [
    {
     "name": "stderr",
     "output_type": "stream",
     "text": [
      "C:\\Users\\21ckw\\AppData\\Local\\Temp/ipykernel_16284/3424050471.py:3: DeprecationWarning: find_element_by_* commands are deprecated. Please use find_element() instead\n",
      "  driver.find_element_by_xpath('//*[@id=\"hdtb-msb\"]/div[1]/div/div[2]/a').click()\n"
     ]
    }
   ],
   "source": [
    "# 이미지 섹터 클릭\n",
    "# elem = driver.find_element_by_css_selector('#hdtb-msb > div:nth-child(1) > div > div:nth-child(2) > a').click()\n",
    "driver.find_element_by_xpath('//*[@id=\"hdtb-msb\"]/div[1]/div/div[2]/a').click()"
   ]
  },
  {
   "cell_type": "code",
   "execution_count": 55,
   "id": "182ad94a",
   "metadata": {},
   "outputs": [],
   "source": [
    "# # 스크롤을 끝까지 내리는 코드\n",
    "\n",
    "# import time\n",
    "\n",
    "# SCROLL_PAUSE_TIME = 2\n",
    "\n",
    "# last_height = driver.execute_script(\"return document.body.scrollHeight\")\n",
    "\n",
    "# while True: \n",
    "#     driver.execute_script('window.scrollTo(0, document.body.scrollHeight);')\n",
    "#     time.sleep(SCROLL_PAUSE_TIME)\n",
    "    \n",
    "#     new_height = driver.execute_script('return document.body.scrollHeight')\n",
    "    \n",
    "#     if new_height == last_height:\n",
    "#         try:\n",
    "#             time.sleep(SCROLL_PAUSE_TIME)\n",
    "#             driver.find_element_by_css_selector(\".mye4qd\").click()\n",
    "#         except:\n",
    "#             break\n",
    "#     last_height = new_height"
   ]
  },
  {
   "cell_type": "code",
   "execution_count": 56,
   "id": "27102204",
   "metadata": {},
   "outputs": [
    {
     "name": "stderr",
     "output_type": "stream",
     "text": [
      "C:\\Users\\21ckw\\AppData\\Local\\Temp/ipykernel_16284/585336256.py:3: DeprecationWarning: find_elements_by_* commands are deprecated. Please use find_elements() instead\n",
      "  images = driver.find_elements_by_css_selector('img.rg_i Q4LuWd')\n"
     ]
    }
   ],
   "source": [
    "# 이미지 섹터에서는 base 64 작은 이미지(썸네일)만 클릭가능\n",
    "\n",
    "images = driver.find_elements_by_css_selector('img.rg_i Q4LuWd')"
   ]
  },
  {
   "cell_type": "code",
   "execution_count": 57,
   "id": "5345d7db",
   "metadata": {},
   "outputs": [
    {
     "name": "stdout",
     "output_type": "stream",
     "text": [
      "<class 'list'>\n"
     ]
    }
   ],
   "source": [
    "print(type(images))"
   ]
  },
  {
   "cell_type": "code",
   "execution_count": 59,
   "id": "3fbca059",
   "metadata": {},
   "outputs": [
    {
     "name": "stdout",
     "output_type": "stream",
     "text": [
      "[]\n"
     ]
    }
   ],
   "source": [
    "print(images)"
   ]
  },
  {
   "cell_type": "code",
   "execution_count": 62,
   "id": "b2507fdd",
   "metadata": {},
   "outputs": [],
   "source": [
    "import time\n",
    "\n",
    "for i,img in enumerate(images):\n",
    "    try:\n",
    "        img.click()  #썸네일 이미지 클릭\n",
    "        time.sleep(2)\n",
    "        elem = driver.find_element_by_css_selector('#Sva75c > div > div > div.pxAole > div.tvh9oe.BIB1wf > c-wiz > div > div.OUZ5W > div.zjoqD > div.qdnLaf.isv-id > div > a > img')\n",
    "        time.sleep(1)\n",
    "        imgUrl = elem.get_attribute('src')\n",
    "        print(i,imgUrl)\n",
    "        urllib.request.urlretrieve(imgUrl, '빅데이터'+str(i)+'jpg')\n",
    "    except:\n",
    "        pass\n"
   ]
  },
  {
   "cell_type": "code",
   "execution_count": null,
   "id": "cb635ac3",
   "metadata": {},
   "outputs": [],
   "source": []
  }
 ],
 "metadata": {
  "kernelspec": {
   "display_name": "Python 3 (ipykernel)",
   "language": "python",
   "name": "python3"
  },
  "language_info": {
   "codemirror_mode": {
    "name": "ipython",
    "version": 3
   },
   "file_extension": ".py",
   "mimetype": "text/x-python",
   "name": "python",
   "nbconvert_exporter": "python",
   "pygments_lexer": "ipython3",
   "version": "3.9.7"
  }
 },
 "nbformat": 4,
 "nbformat_minor": 5
}
