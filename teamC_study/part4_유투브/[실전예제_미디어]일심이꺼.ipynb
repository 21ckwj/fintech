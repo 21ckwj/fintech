{
 "cells": [
  {
   "cell_type": "markdown",
   "metadata": {
    "colab_type": "text",
    "id": "5OMnOywJGoqw"
   },
   "source": [
    "#[실전예제-미디어] - 유튜브 인기 채널 및 영상 분석"
   ]
  },
  {
   "cell_type": "markdown",
   "metadata": {
    "colab_type": "text",
    "id": "Ygx5ITj9ZVc9"
   },
   "source": [
    "# 인기 채널 순위 시각화 - 환경 설정 (라이브러리, 폰트, 데이터)"
   ]
  },
  {
   "cell_type": "markdown",
   "metadata": {
    "colab_type": "text",
    "id": "y1sTYRE3PuO1"
   },
   "source": [
    "###1. 한글 폰트 설치 및 적용"
   ]
  },
  {
   "cell_type": "code",
   "execution_count": 22,
   "metadata": {
    "colab": {},
    "colab_type": "code",
    "id": "eoRj9QogPyuS"
   },
   "outputs": [
    {
     "name": "stdout",
     "output_type": "stream",
     "text": [
      "['MaruBuri-Regular']\n",
      "10.0\n"
     ]
    }
   ],
   "source": [
    "import matplotlib.pyplot as plt\n",
    "import matplotlib as mpl\n",
    "import matplotlib.font_manager as fonm\n",
    "\n",
    "\n",
    "\n",
    "mpl.rcParams['font.family'] = 'MaruBuri-Regular'\n",
    "mpl.rcParams['font.size'] = 10\n",
    "\n",
    "print(mpl.rcParams['font.family'])\n",
    "print(mpl.rcParams['font.size'])"
   ]
  },
  {
   "cell_type": "markdown",
   "metadata": {
    "colab_type": "text",
    "id": "NhXldEnd1L2Z"
   },
   "source": [
    "###2. 한글 폰트 설치 테스트"
   ]
  },
  {
   "cell_type": "code",
   "execution_count": 23,
   "metadata": {
    "colab": {},
    "colab_type": "code",
    "id": "17jRSNfJRm2k"
   },
   "outputs": [
    {
     "data": {
      "text/plain": [
       "[<matplotlib.lines.Line2D at 0x1ba679a4310>]"
      ]
     },
     "execution_count": 23,
     "metadata": {},
     "output_type": "execute_result"
    },
    {
     "data": {
      "image/png": "[encoded data removed]",
      "text/plain": [
       "<Figure size 432x288 with 1 Axes>"
      ]
     },
     "metadata": {
      "needs_background": "light"
     },
     "output_type": "display_data"
    }
   ],
   "source": [
    "def example_f(x):\n",
    "    return x**2\n",
    "\n",
    "x = np.arange(0,100,1)\n",
    "plt.xlabel('이것은 엑스축')\n",
    "plt.ylabel('이것은 와이축')\n",
    "plt.title('이것은 제목')\n",
    "plt.plot(x, example_f(x))"
   ]
  },
  {
   "cell_type": "markdown",
   "metadata": {
    "colab_type": "text",
    "id": "rP9_y3tu1zhc"
   },
   "source": [
    "###3. Warning 출력 무시"
   ]
  },
  {
   "cell_type": "code",
   "execution_count": 24,
   "metadata": {
    "colab": {},
    "colab_type": "code",
    "id": "DWFXsA4G2DZJ"
   },
   "outputs": [],
   "source": [
    "import warnings\n",
    "warnings.filterwarnings(action='ignore')"
   ]
  },
  {
   "cell_type": "markdown",
   "metadata": {
    "colab_type": "text",
    "id": "YyH-_rzz1inn"
   },
   "source": [
    "###4. 라이브러리 import"
   ]
  },
  {
   "cell_type": "code",
   "execution_count": 49,
   "metadata": {
    "colab": {},
    "colab_type": "code",
    "id": "lqNKRqvF1nE8"
   },
   "outputs": [],
   "source": [
    "import numpy as np\n",
    "import pandas as pd\n",
    "import seaborn as sns\n"
   ]
  },
  {
   "cell_type": "markdown",
   "metadata": {
    "colab_type": "text",
    "id": "RBnTpZzT2XhM"
   },
   "source": [
    "###5. 데이터 가져오기 Drag & Drop"
   ]
  },
  {
   "cell_type": "code",
   "execution_count": 27,
   "metadata": {},
   "outputs": [
    {
     "name": "stdout",
     "output_type": "stream",
     "text": [
      "['CA_category_id.json', 'CAvideos.csv', 'DE_category_id.json', 'DEvideos.csv', 'FR_category_id.json', 'FRvideos.csv', 'GB_category_id.json', 'GBvideos.csv', 'IN_category_id.json', 'INvideos.csv', 'JP_category_id.json', 'JPvideos.csv', 'KR_category_id.json', 'KRvideos.csv', 'MX_category_id.json', 'MXvideos.csv', 'RU_category_id.json', 'RUvideos.csv', 'US_category_id.json', 'USvideos.csv']\n"
     ]
    },
    {
     "ename": "ValueError",
     "evalue": "Attempt to use ZIP archive that was already closed",
     "output_type": "error",
     "traceback": [
      "\u001b[1;31m---------------------------------------------------------------------------\u001b[0m",
      "\u001b[1;31mValueError\u001b[0m                                Traceback (most recent call last)",
      "\u001b[1;32m~\\AppData\\Local\\Temp/ipykernel_15520/2964817583.py\u001b[0m in \u001b[0;36m<module>\u001b[1;34m\u001b[0m\n\u001b[0;32m      3\u001b[0m \u001b[1;32mwith\u001b[0m \u001b[0mzipfile\u001b[0m\u001b[1;33m.\u001b[0m\u001b[0mZipFile\u001b[0m\u001b[1;33m(\u001b[0m\u001b[1;34m'archive.zip'\u001b[0m\u001b[1;33m)\u001b[0m \u001b[1;32mas\u001b[0m \u001b[0mz\u001b[0m\u001b[1;33m:\u001b[0m\u001b[1;33m\u001b[0m\u001b[1;33m\u001b[0m\u001b[0m\n\u001b[0;32m      4\u001b[0m     \u001b[0mprint\u001b[0m\u001b[1;33m(\u001b[0m\u001b[0mz\u001b[0m\u001b[1;33m.\u001b[0m\u001b[0mnamelist\u001b[0m\u001b[1;33m(\u001b[0m\u001b[1;33m)\u001b[0m\u001b[1;33m)\u001b[0m\u001b[1;33m\u001b[0m\u001b[1;33m\u001b[0m\u001b[0m\n\u001b[1;32m----> 5\u001b[1;33m \u001b[0mdf\u001b[0m \u001b[1;33m=\u001b[0m \u001b[0mpd\u001b[0m\u001b[1;33m.\u001b[0m\u001b[0mread_csv\u001b[0m\u001b[1;33m(\u001b[0m\u001b[0mz\u001b[0m\u001b[1;33m.\u001b[0m\u001b[0mopen\u001b[0m\u001b[1;33m(\u001b[0m\u001b[1;34m'KRvideos.csv'\u001b[0m\u001b[1;33m)\u001b[0m\u001b[1;33m,\u001b[0m\u001b[0mengine\u001b[0m\u001b[1;33m=\u001b[0m\u001b[1;34m\"python\"\u001b[0m\u001b[1;33m,\u001b[0m \u001b[0merror_bad_lines\u001b[0m\u001b[1;33m=\u001b[0m\u001b[1;32mTrue\u001b[0m\u001b[1;33m,\u001b[0m \u001b[0mencoding_errors\u001b[0m\u001b[1;33m=\u001b[0m\u001b[1;34m'ignore'\u001b[0m\u001b[1;33m)\u001b[0m\u001b[1;33m\u001b[0m\u001b[1;33m\u001b[0m\u001b[0m\n\u001b[0m",
      "\u001b[1;32m~\\Anaconda3\\lib\\zipfile.py\u001b[0m in \u001b[0;36mopen\u001b[1;34m(self, name, mode, pwd, force_zip64)\u001b[0m\n\u001b[0;32m   1487\u001b[0m             \u001b[1;32mraise\u001b[0m \u001b[0mValueError\u001b[0m\u001b[1;33m(\u001b[0m\u001b[1;34m\"pwd is only supported for reading files\"\u001b[0m\u001b[1;33m)\u001b[0m\u001b[1;33m\u001b[0m\u001b[1;33m\u001b[0m\u001b[0m\n\u001b[0;32m   1488\u001b[0m         \u001b[1;32mif\u001b[0m \u001b[1;32mnot\u001b[0m \u001b[0mself\u001b[0m\u001b[1;33m.\u001b[0m\u001b[0mfp\u001b[0m\u001b[1;33m:\u001b[0m\u001b[1;33m\u001b[0m\u001b[1;33m\u001b[0m\u001b[0m\n\u001b[1;32m-> 1489\u001b[1;33m             raise ValueError(\n\u001b[0m\u001b[0;32m   1490\u001b[0m                 \"Attempt to use ZIP archive that was already closed\")\n\u001b[0;32m   1491\u001b[0m \u001b[1;33m\u001b[0m\u001b[0m\n",
      "\u001b[1;31mValueError\u001b[0m: Attempt to use ZIP archive that was already closed"
     ]
    }
   ],
   "source": [
    "# kaggle trending youtube video statistics\n"
   ]
  },
  {
   "cell_type": "markdown",
   "metadata": {
    "colab_type": "text",
    "id": "upPSC3YPZXhJ"
   },
   "source": [
    "# 인기 채널 순위 시각화 - 데이터 구조 파악 및 정리"
   ]
  },
  {
   "cell_type": "markdown",
   "metadata": {
    "colab_type": "text",
    "id": "nGjOBevX6BYX"
   },
   "source": [
    "## 데이터 불러오기"
   ]
  },
  {
   "cell_type": "markdown",
   "metadata": {
    "colab_type": "text",
    "id": "qSaXuP6d2mAL"
   },
   "source": [
    "###1. pandas로 데이터 불러오기 (engine=\"python\", error_bad_lines=\"false\")"
   ]
  },
  {
   "cell_type": "code",
   "execution_count": 33,
   "metadata": {
    "colab": {},
    "colab_type": "code",
    "id": "J9RboIU0VfGe"
   },
   "outputs": [
    {
     "name": "stdout",
     "output_type": "stream",
     "text": [
      "['CA_category_id.json', 'CAvideos.csv', 'DE_category_id.json', 'DEvideos.csv', 'FR_category_id.json', 'FRvideos.csv', 'GB_category_id.json', 'GBvideos.csv', 'IN_category_id.json', 'INvideos.csv', 'JP_category_id.json', 'JPvideos.csv', 'KR_category_id.json', 'KRvideos.csv', 'MX_category_id.json', 'MXvideos.csv', 'RU_category_id.json', 'RUvideos.csv', 'US_category_id.json', 'USvideos.csv']\n"
     ]
    }
   ],
   "source": [
    "import zipfile\n",
    "with zipfile.ZipFile('archive.zip') as z:\n",
    "    print(z.namelist())\n",
    "    df = pd.read_csv(z.open('KRvideos.csv'),engine=\"python\", error_bad_lines=True, encoding_errors='ignore')"
   ]
  },
  {
   "cell_type": "markdown",
   "metadata": {
    "colab_type": "text",
    "id": "GqA9se9h6IrX"
   },
   "source": [
    "## 데이터 구조 파악하기"
   ]
  },
  {
   "cell_type": "markdown",
   "metadata": {
    "colab_type": "text",
    "id": "WKL9jzUL4dOV"
   },
   "source": [
    "###1. row, column 수 파악하기"
   ]
  },
  {
   "cell_type": "code",
   "execution_count": 36,
   "metadata": {
    "colab": {},
    "colab_type": "code",
    "id": "lXS8AWb_diLy"
   },
   "outputs": [
    {
     "data": {
      "text/plain": [
       "(34567, 16)"
      ]
     },
     "execution_count": 36,
     "metadata": {},
     "output_type": "execute_result"
    }
   ],
   "source": [
    "df.shape"
   ]
  },
  {
   "cell_type": "markdown",
   "metadata": {
    "colab_type": "text",
    "id": "Tbi3ETC05TUS"
   },
   "source": [
    "###2. 결측 값 확인"
   ]
  },
  {
   "cell_type": "code",
   "execution_count": 39,
   "metadata": {
    "colab": {},
    "colab_type": "code",
    "collapsed": true,
    "id": "2MTo1JONZL9B"
   },
   "outputs": [
    {
     "data": {
      "text/plain": [
       "video_id                     0\n",
       "trending_date                0\n",
       "title                        0\n",
       "channel_title                0\n",
       "category_id                  0\n",
       "publish_time                 0\n",
       "tags                         0\n",
       "views                        0\n",
       "likes                        0\n",
       "dislikes                     0\n",
       "comment_count                0\n",
       "thumbnail_link               0\n",
       "comments_disabled            0\n",
       "ratings_disabled             0\n",
       "video_error_or_removed       0\n",
       "description               3163\n",
       "dtype: int64"
      ]
     },
     "execution_count": 39,
     "metadata": {},
     "output_type": "execute_result"
    }
   ],
   "source": [
    "df.isnull().sum()"
   ]
  },
  {
   "cell_type": "markdown",
   "metadata": {
    "colab_type": "text",
    "id": "NCpk9MBs5cnx"
   },
   "source": [
    "###3. 전체 데이터 구조 파악하기"
   ]
  },
  {
   "cell_type": "code",
   "execution_count": 40,
   "metadata": {
    "colab": {},
    "colab_type": "code",
    "collapsed": true,
    "id": "fM47X17WZOEB"
   },
   "outputs": [
    {
     "name": "stdout",
     "output_type": "stream",
     "text": [
      "<class 'pandas.core.frame.DataFrame'>\n",
      "RangeIndex: 34567 entries, 0 to 34566\n",
      "Data columns (total 16 columns):\n",
      " #   Column                  Non-Null Count  Dtype \n",
      "---  ------                  --------------  ----- \n",
      " 0   video_id                34567 non-null  object\n",
      " 1   trending_date           34567 non-null  object\n",
      " 2   title                   34567 non-null  object\n",
      " 3   channel_title           34567 non-null  object\n",
      " 4   category_id             34567 non-null  int64 \n",
      " 5   publish_time            34567 non-null  object\n",
      " 6   tags                    34567 non-null  object\n",
      " 7   views                   34567 non-null  int64 \n",
      " 8   likes                   34567 non-null  int64 \n",
      " 9   dislikes                34567 non-null  int64 \n",
      " 10  comment_count           34567 non-null  int64 \n",
      " 11  thumbnail_link          34567 non-null  object\n",
      " 12  comments_disabled       34567 non-null  bool  \n",
      " 13  ratings_disabled        34567 non-null  bool  \n",
      " 14  video_error_or_removed  34567 non-null  bool  \n",
      " 15  description             31404 non-null  object\n",
      "dtypes: bool(3), int64(5), object(8)\n",
      "memory usage: 3.5+ MB\n"
     ]
    }
   ],
   "source": [
    "df.info()"
   ]
  },
  {
   "cell_type": "markdown",
   "metadata": {
    "colab_type": "text",
    "id": "brf87bE-6YO4"
   },
   "source": [
    "## 데이터 정리하기"
   ]
  },
  {
   "cell_type": "markdown",
   "metadata": {
    "colab_type": "text",
    "id": "9VT47j2_5n52"
   },
   "source": [
    "###1. 필요한 칼럼만 추리기\n",
    "\n"
   ]
  },
  {
   "cell_type": "code",
   "execution_count": 41,
   "metadata": {
    "colab": {},
    "colab_type": "code",
    "collapsed": true,
    "id": "3bAZgykEbO2x"
   },
   "outputs": [
    {
     "data": {
      "text/html": [
       "<div>\n",
       "<style scoped>\n",
       "    .dataframe tbody tr th:only-of-type {\n",
       "        vertical-align: middle;\n",
       "    }\n",
       "\n",
       "    .dataframe tbody tr th {\n",
       "        vertical-align: top;\n",
       "    }\n",
       "\n",
       "    .dataframe thead th {\n",
       "        text-align: right;\n",
       "    }\n",
       "</style>\n",
       "<table border=\"1\" class=\"dataframe\">\n",
       "  <thead>\n",
       "    <tr style=\"text-align: right;\">\n",
       "      <th></th>\n",
       "      <th>tags</th>\n",
       "      <th>views</th>\n",
       "    </tr>\n",
       "  </thead>\n",
       "  <tbody>\n",
       "    <tr>\n",
       "      <th>0</th>\n",
       "      <td>라푸마|\"윤종신\"|\"좋니\"|\"좋아\"|\"샬레\"|\"민서\"</td>\n",
       "      <td>156130</td>\n",
       "    </tr>\n",
       "    <tr>\n",
       "      <th>1</th>\n",
       "      <td>JSA|\"귀순\"|\"북한군\"|\"총격\"|\"부상\"|\"JSA 귀순 북한군 총격 부상\"</td>\n",
       "      <td>76533</td>\n",
       "    </tr>\n",
       "    <tr>\n",
       "      <th>2</th>\n",
       "      <td>아디다스|\"빼빼로\"|\"핫쇼\"|\"나몰라패밀리\"|\"대학로\"|\"공연\"</td>\n",
       "      <td>421409</td>\n",
       "    </tr>\n",
       "    <tr>\n",
       "      <th>3</th>\n",
       "      <td>이명박|\"이명박 출국금지\"|\"이명박 출국현장\"|\"이명박 바레인\"|\"이명박 대통령\"|...</td>\n",
       "      <td>222850</td>\n",
       "    </tr>\n",
       "    <tr>\n",
       "      <th>4</th>\n",
       "      <td>nocutV|\"노컷V\"|\"CBS\"|\"mbc\"|\"김장겸\"|\"해임\"|\"허일후\"</td>\n",
       "      <td>84466</td>\n",
       "    </tr>\n",
       "    <tr>\n",
       "      <th>...</th>\n",
       "      <td>...</td>\n",
       "      <td>...</td>\n",
       "    </tr>\n",
       "    <tr>\n",
       "      <th>34562</th>\n",
       "      <td>[none]</td>\n",
       "      <td>156439</td>\n",
       "    </tr>\n",
       "    <tr>\n",
       "      <th>34563</th>\n",
       "      <td>[none]</td>\n",
       "      <td>130948</td>\n",
       "    </tr>\n",
       "    <tr>\n",
       "      <th>34564</th>\n",
       "      <td>한국|\"북한\"|\"미국\"|\"중국\"|\"일본\"|\"러시아\"|\"한국뉴스\"|\"뉴스\"|\"국제뉴스...</td>\n",
       "      <td>62555</td>\n",
       "    </tr>\n",
       "    <tr>\n",
       "      <th>34565</th>\n",
       "      <td>워너원|\"워너원 고\"|\"워너원 GO\"|\"웃음참기\"|\"워너원 웃음참기\"|\"워너원 레전...</td>\n",
       "      <td>63306</td>\n",
       "    </tr>\n",
       "    <tr>\n",
       "      <th>34566</th>\n",
       "      <td>불교|\"즉문즉설\"|\"법륜스님\"|\"정토회\"|\"buddha\"|\"buddhism\"|\"po...</td>\n",
       "      <td>63716</td>\n",
       "    </tr>\n",
       "  </tbody>\n",
       "</table>\n",
       "<p>34567 rows × 2 columns</p>\n",
       "</div>"
      ],
      "text/plain": [
       "                                                    tags   views\n",
       "0                          라푸마|\"윤종신\"|\"좋니\"|\"좋아\"|\"샬레\"|\"민서\"  156130\n",
       "1            JSA|\"귀순\"|\"북한군\"|\"총격\"|\"부상\"|\"JSA 귀순 북한군 총격 부상\"   76533\n",
       "2                    아디다스|\"빼빼로\"|\"핫쇼\"|\"나몰라패밀리\"|\"대학로\"|\"공연\"  421409\n",
       "3      이명박|\"이명박 출국금지\"|\"이명박 출국현장\"|\"이명박 바레인\"|\"이명박 대통령\"|...  222850\n",
       "4              nocutV|\"노컷V\"|\"CBS\"|\"mbc\"|\"김장겸\"|\"해임\"|\"허일후\"   84466\n",
       "...                                                  ...     ...\n",
       "34562                                             [none]  156439\n",
       "34563                                             [none]  130948\n",
       "34564  한국|\"북한\"|\"미국\"|\"중국\"|\"일본\"|\"러시아\"|\"한국뉴스\"|\"뉴스\"|\"국제뉴스...   62555\n",
       "34565  워너원|\"워너원 고\"|\"워너원 GO\"|\"웃음참기\"|\"워너원 웃음참기\"|\"워너원 레전...   63306\n",
       "34566  불교|\"즉문즉설\"|\"법륜스님\"|\"정토회\"|\"buddha\"|\"buddhism\"|\"po...   63716\n",
       "\n",
       "[34567 rows x 2 columns]"
      ]
     },
     "execution_count": 41,
     "metadata": {},
     "output_type": "execute_result"
    }
   ],
   "source": [
    "df[['tags','views']]"
   ]
  },
  {
   "cell_type": "markdown",
   "metadata": {
    "colab_type": "text",
    "id": "gxYlUwNl6pbh"
   },
   "source": [
    "###2. view 내림차순 정렬 하기"
   ]
  },
  {
   "cell_type": "code",
   "execution_count": 42,
   "metadata": {
    "colab": {},
    "colab_type": "code",
    "collapsed": true,
    "id": "LVaT24wHbiSP"
   },
   "outputs": [
    {
     "data": {
      "text/html": [
       "<div>\n",
       "<style scoped>\n",
       "    .dataframe tbody tr th:only-of-type {\n",
       "        vertical-align: middle;\n",
       "    }\n",
       "\n",
       "    .dataframe tbody tr th {\n",
       "        vertical-align: top;\n",
       "    }\n",
       "\n",
       "    .dataframe thead th {\n",
       "        text-align: right;\n",
       "    }\n",
       "</style>\n",
       "<table border=\"1\" class=\"dataframe\">\n",
       "  <thead>\n",
       "    <tr style=\"text-align: right;\">\n",
       "      <th></th>\n",
       "      <th>video_id</th>\n",
       "      <th>trending_date</th>\n",
       "      <th>title</th>\n",
       "      <th>channel_title</th>\n",
       "      <th>category_id</th>\n",
       "      <th>publish_time</th>\n",
       "      <th>tags</th>\n",
       "      <th>views</th>\n",
       "      <th>likes</th>\n",
       "      <th>dislikes</th>\n",
       "      <th>comment_count</th>\n",
       "      <th>thumbnail_link</th>\n",
       "      <th>comments_disabled</th>\n",
       "      <th>ratings_disabled</th>\n",
       "      <th>video_error_or_removed</th>\n",
       "      <th>description</th>\n",
       "    </tr>\n",
       "  </thead>\n",
       "  <tbody>\n",
       "    <tr>\n",
       "      <th>4856</th>\n",
       "      <td>FlsCjmMhFmw</td>\n",
       "      <td>17.11.12</td>\n",
       "      <td>YouTube Rewind: The Shape of 2017 | #YouTubeRe...</td>\n",
       "      <td>YouTube Spotlight</td>\n",
       "      <td>24</td>\n",
       "      <td>2017-12-06T17:58:51.000Z</td>\n",
       "      <td>Rewind|\"Rewind 2017\"|\"youtube rewind 2017\"|\"#Y...</td>\n",
       "      <td>113876217</td>\n",
       "      <td>2811223</td>\n",
       "      <td>1470388</td>\n",
       "      <td>787174</td>\n",
       "      <td>https://i.ytimg.com/vi/FlsCjmMhFmw/default.jpg</td>\n",
       "      <td>False</td>\n",
       "      <td>False</td>\n",
       "      <td>False</td>\n",
       "      <td>YouTube Rewind 2017. Celebrating the videos, p...</td>\n",
       "    </tr>\n",
       "    <tr>\n",
       "      <th>4678</th>\n",
       "      <td>FlsCjmMhFmw</td>\n",
       "      <td>17.10.12</td>\n",
       "      <td>YouTube Rewind: The Shape of 2017 | #YouTubeRe...</td>\n",
       "      <td>YouTube Spotlight</td>\n",
       "      <td>24</td>\n",
       "      <td>2017-12-06T17:58:51.000Z</td>\n",
       "      <td>Rewind|\"Rewind 2017\"|\"youtube rewind 2017\"|\"#Y...</td>\n",
       "      <td>100911567</td>\n",
       "      <td>2656686</td>\n",
       "      <td>1353663</td>\n",
       "      <td>682890</td>\n",
       "      <td>https://i.ytimg.com/vi/FlsCjmMhFmw/default.jpg</td>\n",
       "      <td>False</td>\n",
       "      <td>False</td>\n",
       "      <td>False</td>\n",
       "      <td>YouTube Rewind 2017. Celebrating the videos, p...</td>\n",
       "    </tr>\n",
       "    <tr>\n",
       "      <th>4018</th>\n",
       "      <td>6ZfuNTqbHE8</td>\n",
       "      <td>17.06.12</td>\n",
       "      <td>Marvel Studios' Avengers: Infinity War Officia...</td>\n",
       "      <td>Marvel Entertainment</td>\n",
       "      <td>24</td>\n",
       "      <td>2017-11-29T13:26:24.000Z</td>\n",
       "      <td>marvel|\"comics\"|\"comic books\"|\"nerdy\"|\"geeky\"|...</td>\n",
       "      <td>87450245</td>\n",
       "      <td>2584675</td>\n",
       "      <td>52176</td>\n",
       "      <td>341571</td>\n",
       "      <td>https://i.ytimg.com/vi/6ZfuNTqbHE8/default.jpg</td>\n",
       "      <td>False</td>\n",
       "      <td>False</td>\n",
       "      <td>False</td>\n",
       "      <td>There was an idea… Avengers: Infinity War. In ...</td>\n",
       "    </tr>\n",
       "    <tr>\n",
       "      <th>30844</th>\n",
       "      <td>7C2z4GqqS5E</td>\n",
       "      <td>18.24.05</td>\n",
       "      <td>BTS (방탄소년단) 'FAKE LOVE' Official MV</td>\n",
       "      <td>ibighit</td>\n",
       "      <td>10</td>\n",
       "      <td>2018-05-18T09:00:02.000Z</td>\n",
       "      <td>BIGHIT|\"빅히트\"|\"방탄소년단\"|\"BTS\"|\"BANGTAN\"|\"방탄\"|\"FAK...</td>\n",
       "      <td>87430865</td>\n",
       "      <td>5150839</td>\n",
       "      <td>172570</td>\n",
       "      <td>1142274</td>\n",
       "      <td>https://i.ytimg.com/vi/7C2z4GqqS5E/default.jpg</td>\n",
       "      <td>False</td>\n",
       "      <td>False</td>\n",
       "      <td>False</td>\n",
       "      <td>BTS (방탄소년단) 'FAKE LOVE' Official MVDirector : ...</td>\n",
       "    </tr>\n",
       "    <tr>\n",
       "      <th>3750</th>\n",
       "      <td>6ZfuNTqbHE8</td>\n",
       "      <td>17.05.12</td>\n",
       "      <td>Marvel Studios' Avengers: Infinity War Officia...</td>\n",
       "      <td>Marvel Entertainment</td>\n",
       "      <td>24</td>\n",
       "      <td>2017-11-29T13:26:24.000Z</td>\n",
       "      <td>marvel|\"comics\"|\"comic books\"|\"nerdy\"|\"geeky\"|...</td>\n",
       "      <td>84281319</td>\n",
       "      <td>2555414</td>\n",
       "      <td>51008</td>\n",
       "      <td>339708</td>\n",
       "      <td>https://i.ytimg.com/vi/6ZfuNTqbHE8/default.jpg</td>\n",
       "      <td>False</td>\n",
       "      <td>False</td>\n",
       "      <td>False</td>\n",
       "      <td>There was an idea… Avengers: Infinity War. In ...</td>\n",
       "    </tr>\n",
       "    <tr>\n",
       "      <th>...</th>\n",
       "      <td>...</td>\n",
       "      <td>...</td>\n",
       "      <td>...</td>\n",
       "      <td>...</td>\n",
       "      <td>...</td>\n",
       "      <td>...</td>\n",
       "      <td>...</td>\n",
       "      <td>...</td>\n",
       "      <td>...</td>\n",
       "      <td>...</td>\n",
       "      <td>...</td>\n",
       "      <td>...</td>\n",
       "      <td>...</td>\n",
       "      <td>...</td>\n",
       "      <td>...</td>\n",
       "      <td>...</td>\n",
       "    </tr>\n",
       "    <tr>\n",
       "      <th>4806</th>\n",
       "      <td>xzrwNEV_8Gg</td>\n",
       "      <td>17.11.12</td>\n",
       "      <td>다니엘 생일 축하해!</td>\n",
       "      <td>여름감기 from OSW</td>\n",
       "      <td>22</td>\n",
       "      <td>2017-12-10T12:20:41.000Z</td>\n",
       "      <td>kangdaniel|\"daniel\"|\"다녤\"|\"fanmade\"|\"데뷔전\"|\"pre-...</td>\n",
       "      <td>3268</td>\n",
       "      <td>333</td>\n",
       "      <td>0</td>\n",
       "      <td>10</td>\n",
       "      <td>https://i.ytimg.com/vi/xzrwNEV_8Gg/default.jpg</td>\n",
       "      <td>False</td>\n",
       "      <td>False</td>\n",
       "      <td>False</td>\n",
       "      <td>※재업로드 하지마세요! Do not Re-upload※\\n※재편집 하지마세요! Do...</td>\n",
       "    </tr>\n",
       "    <tr>\n",
       "      <th>18568</th>\n",
       "      <td>Pj-QWzy4PsQ</td>\n",
       "      <td>18.06.03</td>\n",
       "      <td>[홍익인간 인성교육] 7128강 산에 들어가고 싶다</td>\n",
       "      <td>jungbub2013</td>\n",
       "      <td>25</td>\n",
       "      <td>2018-03-05T20:31:15.000Z</td>\n",
       "      <td>정법|\"정법강의\"|\"진정스승님\"|\"즉문즉설\"|\"천부경\"|\"정법시대\"|\"정법클럽\"|\"...</td>\n",
       "      <td>3124</td>\n",
       "      <td>0</td>\n",
       "      <td>0</td>\n",
       "      <td>0</td>\n",
       "      <td>https://i.ytimg.com/vi/Pj-QWzy4PsQ/default.jpg</td>\n",
       "      <td>True</td>\n",
       "      <td>True</td>\n",
       "      <td>False</td>\n",
       "      <td>질문 : 먼저 공도 사상에 뿌리 된 공적인 삶과 또 제 신을 제 수준만큼 이해할 수...</td>\n",
       "    </tr>\n",
       "    <tr>\n",
       "      <th>17414</th>\n",
       "      <td>3cdfrhklH_8</td>\n",
       "      <td>18.27.02</td>\n",
       "      <td>애슐리 18년도 딸기축제 영상❣</td>\n",
       "      <td>ashley wow</td>\n",
       "      <td>24</td>\n",
       "      <td>2018-02-27T00:57:01.000Z</td>\n",
       "      <td>[none]</td>\n",
       "      <td>2919</td>\n",
       "      <td>10</td>\n",
       "      <td>4</td>\n",
       "      <td>1</td>\n",
       "      <td>https://i.ytimg.com/vi/3cdfrhklH_8/default.jpg</td>\n",
       "      <td>False</td>\n",
       "      <td>False</td>\n",
       "      <td>False</td>\n",
       "      <td>딸기 신메뉴가 13종!\\n산처럼 쌓인 신선한 생딸기!\\n애슐리의 봄은 생딸기 인가 봄❣</td>\n",
       "    </tr>\n",
       "    <tr>\n",
       "      <th>509</th>\n",
       "      <td>vWkMCsWwHYU</td>\n",
       "      <td>17.16.11</td>\n",
       "      <td>만취 브이로그ㅣ서프라이즈 생일 파티ㅣ실시간 현실 술판ㅣ여자셋 일상ㅣ일상브이로그</td>\n",
       "      <td>시때메라 _</td>\n",
       "      <td>22</td>\n",
       "      <td>2017-11-15T07:54:36.000Z</td>\n",
       "      <td>일상브이로그|\"일상\"|\"브이로그\"|\"만취브이로그\"|\"만취\"|\"현실술판\"|\"혼술\"|\"...</td>\n",
       "      <td>2623</td>\n",
       "      <td>8</td>\n",
       "      <td>0</td>\n",
       "      <td>25</td>\n",
       "      <td>https://i.ytimg.com/vi/vWkMCsWwHYU/default.jpg</td>\n",
       "      <td>False</td>\n",
       "      <td>False</td>\n",
       "      <td>False</td>\n",
       "      <td>#일상브이로그\\n.\\n.\\n#만취_브이로그\\n#서프라이즈_생일파티\\n#실시간_현실_...</td>\n",
       "    </tr>\n",
       "    <tr>\n",
       "      <th>1071</th>\n",
       "      <td>36qc1QtE6bk</td>\n",
       "      <td>17.19.11</td>\n",
       "      <td>소셜 잠금화면 앱 (달고나)</td>\n",
       "      <td>락캐스트</td>\n",
       "      <td>22</td>\n",
       "      <td>2017-11-17T08:18:01.000Z</td>\n",
       "      <td>잠그화면|\"소셜 잠금화면\"|\"소셜\"</td>\n",
       "      <td>2050</td>\n",
       "      <td>3</td>\n",
       "      <td>0</td>\n",
       "      <td>0</td>\n",
       "      <td>https://i.ytimg.com/vi/36qc1QtE6bk/default.jpg</td>\n",
       "      <td>False</td>\n",
       "      <td>False</td>\n",
       "      <td>False</td>\n",
       "      <td>달고나는 핸드폰 화면을 켜는 매 순간마다 \\n보고 싶은 사진들을 잠금화면에 세상에서...</td>\n",
       "    </tr>\n",
       "  </tbody>\n",
       "</table>\n",
       "<p>34567 rows × 16 columns</p>\n",
       "</div>"
      ],
      "text/plain": [
       "          video_id trending_date  \\\n",
       "4856   FlsCjmMhFmw      17.11.12   \n",
       "4678   FlsCjmMhFmw      17.10.12   \n",
       "4018   6ZfuNTqbHE8      17.06.12   \n",
       "30844  7C2z4GqqS5E      18.24.05   \n",
       "3750   6ZfuNTqbHE8      17.05.12   \n",
       "...            ...           ...   \n",
       "4806   xzrwNEV_8Gg      17.11.12   \n",
       "18568  Pj-QWzy4PsQ      18.06.03   \n",
       "17414  3cdfrhklH_8      18.27.02   \n",
       "509    vWkMCsWwHYU      17.16.11   \n",
       "1071   36qc1QtE6bk      17.19.11   \n",
       "\n",
       "                                                   title  \\\n",
       "4856   YouTube Rewind: The Shape of 2017 | #YouTubeRe...   \n",
       "4678   YouTube Rewind: The Shape of 2017 | #YouTubeRe...   \n",
       "4018   Marvel Studios' Avengers: Infinity War Officia...   \n",
       "30844                BTS (방탄소년단) 'FAKE LOVE' Official MV   \n",
       "3750   Marvel Studios' Avengers: Infinity War Officia...   \n",
       "...                                                  ...   \n",
       "4806                                         다니엘 생일 축하해!   \n",
       "18568                       [홍익인간 인성교육] 7128강 산에 들어가고 싶다   \n",
       "17414                                  애슐리 18년도 딸기축제 영상❣   \n",
       "509          만취 브이로그ㅣ서프라이즈 생일 파티ㅣ실시간 현실 술판ㅣ여자셋 일상ㅣ일상브이로그   \n",
       "1071                                     소셜 잠금화면 앱 (달고나)   \n",
       "\n",
       "              channel_title  category_id              publish_time  \\\n",
       "4856      YouTube Spotlight           24  2017-12-06T17:58:51.000Z   \n",
       "4678      YouTube Spotlight           24  2017-12-06T17:58:51.000Z   \n",
       "4018   Marvel Entertainment           24  2017-11-29T13:26:24.000Z   \n",
       "30844               ibighit           10  2018-05-18T09:00:02.000Z   \n",
       "3750   Marvel Entertainment           24  2017-11-29T13:26:24.000Z   \n",
       "...                     ...          ...                       ...   \n",
       "4806          여름감기 from OSW           22  2017-12-10T12:20:41.000Z   \n",
       "18568           jungbub2013           25  2018-03-05T20:31:15.000Z   \n",
       "17414            ashley wow           24  2018-02-27T00:57:01.000Z   \n",
       "509                  시때메라 _           22  2017-11-15T07:54:36.000Z   \n",
       "1071                   락캐스트           22  2017-11-17T08:18:01.000Z   \n",
       "\n",
       "                                                    tags      views    likes  \\\n",
       "4856   Rewind|\"Rewind 2017\"|\"youtube rewind 2017\"|\"#Y...  113876217  2811223   \n",
       "4678   Rewind|\"Rewind 2017\"|\"youtube rewind 2017\"|\"#Y...  100911567  2656686   \n",
       "4018   marvel|\"comics\"|\"comic books\"|\"nerdy\"|\"geeky\"|...   87450245  2584675   \n",
       "30844  BIGHIT|\"빅히트\"|\"방탄소년단\"|\"BTS\"|\"BANGTAN\"|\"방탄\"|\"FAK...   87430865  5150839   \n",
       "3750   marvel|\"comics\"|\"comic books\"|\"nerdy\"|\"geeky\"|...   84281319  2555414   \n",
       "...                                                  ...        ...      ...   \n",
       "4806   kangdaniel|\"daniel\"|\"다녤\"|\"fanmade\"|\"데뷔전\"|\"pre-...       3268      333   \n",
       "18568  정법|\"정법강의\"|\"진정스승님\"|\"즉문즉설\"|\"천부경\"|\"정법시대\"|\"정법클럽\"|\"...       3124        0   \n",
       "17414                                             [none]       2919       10   \n",
       "509    일상브이로그|\"일상\"|\"브이로그\"|\"만취브이로그\"|\"만취\"|\"현실술판\"|\"혼술\"|\"...       2623        8   \n",
       "1071                                 잠그화면|\"소셜 잠금화면\"|\"소셜\"       2050        3   \n",
       "\n",
       "       dislikes  comment_count  \\\n",
       "4856    1470388         787174   \n",
       "4678    1353663         682890   \n",
       "4018      52176         341571   \n",
       "30844    172570        1142274   \n",
       "3750      51008         339708   \n",
       "...         ...            ...   \n",
       "4806          0             10   \n",
       "18568         0              0   \n",
       "17414         4              1   \n",
       "509           0             25   \n",
       "1071          0              0   \n",
       "\n",
       "                                       thumbnail_link  comments_disabled  \\\n",
       "4856   https://i.ytimg.com/vi/FlsCjmMhFmw/default.jpg              False   \n",
       "4678   https://i.ytimg.com/vi/FlsCjmMhFmw/default.jpg              False   \n",
       "4018   https://i.ytimg.com/vi/6ZfuNTqbHE8/default.jpg              False   \n",
       "30844  https://i.ytimg.com/vi/7C2z4GqqS5E/default.jpg              False   \n",
       "3750   https://i.ytimg.com/vi/6ZfuNTqbHE8/default.jpg              False   \n",
       "...                                               ...                ...   \n",
       "4806   https://i.ytimg.com/vi/xzrwNEV_8Gg/default.jpg              False   \n",
       "18568  https://i.ytimg.com/vi/Pj-QWzy4PsQ/default.jpg               True   \n",
       "17414  https://i.ytimg.com/vi/3cdfrhklH_8/default.jpg              False   \n",
       "509    https://i.ytimg.com/vi/vWkMCsWwHYU/default.jpg              False   \n",
       "1071   https://i.ytimg.com/vi/36qc1QtE6bk/default.jpg              False   \n",
       "\n",
       "       ratings_disabled  video_error_or_removed  \\\n",
       "4856              False                   False   \n",
       "4678              False                   False   \n",
       "4018              False                   False   \n",
       "30844             False                   False   \n",
       "3750              False                   False   \n",
       "...                 ...                     ...   \n",
       "4806              False                   False   \n",
       "18568              True                   False   \n",
       "17414             False                   False   \n",
       "509               False                   False   \n",
       "1071              False                   False   \n",
       "\n",
       "                                             description  \n",
       "4856   YouTube Rewind 2017. Celebrating the videos, p...  \n",
       "4678   YouTube Rewind 2017. Celebrating the videos, p...  \n",
       "4018   There was an idea… Avengers: Infinity War. In ...  \n",
       "30844  BTS (방탄소년단) 'FAKE LOVE' Official MVDirector : ...  \n",
       "3750   There was an idea… Avengers: Infinity War. In ...  \n",
       "...                                                  ...  \n",
       "4806   ※재업로드 하지마세요! Do not Re-upload※\\n※재편집 하지마세요! Do...  \n",
       "18568  질문 : 먼저 공도 사상에 뿌리 된 공적인 삶과 또 제 신을 제 수준만큼 이해할 수...  \n",
       "17414   딸기 신메뉴가 13종!\\n산처럼 쌓인 신선한 생딸기!\\n애슐리의 봄은 생딸기 인가 봄❣  \n",
       "509    #일상브이로그\\n.\\n.\\n#만취_브이로그\\n#서프라이즈_생일파티\\n#실시간_현실_...  \n",
       "1071   달고나는 핸드폰 화면을 켜는 매 순간마다 \\n보고 싶은 사진들을 잠금화면에 세상에서...  \n",
       "\n",
       "[34567 rows x 16 columns]"
      ]
     },
     "execution_count": 42,
     "metadata": {},
     "output_type": "execute_result"
    }
   ],
   "source": [
    "df.sort_values('views',ascending=False)"
   ]
  },
  {
   "cell_type": "markdown",
   "metadata": {
    "colab_type": "text",
    "id": "5BBCSfZa7vFN"
   },
   "source": [
    "###3. 중복 제거 (MAX만 남김)"
   ]
  },
  {
   "cell_type": "code",
   "execution_count": 45,
   "metadata": {
    "colab": {},
    "colab_type": "code",
    "collapsed": true,
    "id": "OaoVX86PbmJ5"
   },
   "outputs": [
    {
     "data": {
      "text/html": [
       "<div>\n",
       "<style scoped>\n",
       "    .dataframe tbody tr th:only-of-type {\n",
       "        vertical-align: middle;\n",
       "    }\n",
       "\n",
       "    .dataframe tbody tr th {\n",
       "        vertical-align: top;\n",
       "    }\n",
       "\n",
       "    .dataframe thead th {\n",
       "        text-align: right;\n",
       "    }\n",
       "</style>\n",
       "<table border=\"1\" class=\"dataframe\">\n",
       "  <thead>\n",
       "    <tr style=\"text-align: right;\">\n",
       "      <th></th>\n",
       "      <th>video_id</th>\n",
       "      <th>trending_date</th>\n",
       "      <th>title</th>\n",
       "      <th>channel_title</th>\n",
       "      <th>category_id</th>\n",
       "      <th>publish_time</th>\n",
       "      <th>tags</th>\n",
       "      <th>views</th>\n",
       "      <th>likes</th>\n",
       "      <th>dislikes</th>\n",
       "      <th>comment_count</th>\n",
       "      <th>thumbnail_link</th>\n",
       "      <th>comments_disabled</th>\n",
       "      <th>ratings_disabled</th>\n",
       "      <th>video_error_or_removed</th>\n",
       "      <th>description</th>\n",
       "    </tr>\n",
       "  </thead>\n",
       "  <tbody>\n",
       "    <tr>\n",
       "      <th>0</th>\n",
       "      <td>RxGQe4EeEpA</td>\n",
       "      <td>17.14.11</td>\n",
       "      <td>좋아 by 민서_윤종신_좋니 답가</td>\n",
       "      <td>라푸마코리아</td>\n",
       "      <td>22</td>\n",
       "      <td>2017-11-13T07:07:36.000Z</td>\n",
       "      <td>라푸마|\"윤종신\"|\"좋니\"|\"좋아\"|\"샬레\"|\"민서\"</td>\n",
       "      <td>156130</td>\n",
       "      <td>1422</td>\n",
       "      <td>40</td>\n",
       "      <td>272</td>\n",
       "      <td>https://i.ytimg.com/vi/RxGQe4EeEpA/default.jpg</td>\n",
       "      <td>False</td>\n",
       "      <td>False</td>\n",
       "      <td>False</td>\n",
       "      <td>윤종신 '좋니'의 답가 '좋아' 최초 공개!\\n그 여자의 이야기를 지금 만나보세요....</td>\n",
       "    </tr>\n",
       "    <tr>\n",
       "      <th>1</th>\n",
       "      <td>hH7wVE8OlQ0</td>\n",
       "      <td>17.14.11</td>\n",
       "      <td>JSA 귀순 북한군 총격 부상</td>\n",
       "      <td>Edward</td>\n",
       "      <td>25</td>\n",
       "      <td>2017-11-13T10:59:16.000Z</td>\n",
       "      <td>JSA|\"귀순\"|\"북한군\"|\"총격\"|\"부상\"|\"JSA 귀순 북한군 총격 부상\"</td>\n",
       "      <td>76533</td>\n",
       "      <td>211</td>\n",
       "      <td>28</td>\n",
       "      <td>113</td>\n",
       "      <td>https://i.ytimg.com/vi/hH7wVE8OlQ0/default.jpg</td>\n",
       "      <td>False</td>\n",
       "      <td>False</td>\n",
       "      <td>False</td>\n",
       "      <td>[채널A단독]北 병사 현재 '의식불명'… 혈압 떨어지는 중 \\n[채널A단독]우리측 ...</td>\n",
       "    </tr>\n",
       "    <tr>\n",
       "      <th>2</th>\n",
       "      <td>9V8bnWUmE9U</td>\n",
       "      <td>17.14.11</td>\n",
       "      <td>나몰라패밀리 운동화 영상 2탄 (빼빼로데이버젼)</td>\n",
       "      <td>나몰라패밀리 핫쇼</td>\n",
       "      <td>22</td>\n",
       "      <td>2017-11-11T07:16:08.000Z</td>\n",
       "      <td>아디다스|\"빼빼로\"|\"핫쇼\"|\"나몰라패밀리\"|\"대학로\"|\"공연\"</td>\n",
       "      <td>421409</td>\n",
       "      <td>5112</td>\n",
       "      <td>166</td>\n",
       "      <td>459</td>\n",
       "      <td>https://i.ytimg.com/vi/9V8bnWUmE9U/default.jpg</td>\n",
       "      <td>False</td>\n",
       "      <td>False</td>\n",
       "      <td>False</td>\n",
       "      <td>퍼가실때 꼭 출처 부탁드려요</td>\n",
       "    </tr>\n",
       "    <tr>\n",
       "      <th>3</th>\n",
       "      <td>0_8py-t5R80</td>\n",
       "      <td>17.14.11</td>\n",
       "      <td>이명박 출국 현장, 놓치면 안되는 장면</td>\n",
       "      <td>미디어몽구</td>\n",
       "      <td>25</td>\n",
       "      <td>2017-11-12T11:19:52.000Z</td>\n",
       "      <td>이명박|\"이명박 출국금지\"|\"이명박 출국현장\"|\"이명박 바레인\"|\"이명박 대통령\"|...</td>\n",
       "      <td>222850</td>\n",
       "      <td>2093</td>\n",
       "      <td>173</td>\n",
       "      <td>1219</td>\n",
       "      <td>https://i.ytimg.com/vi/0_8py-t5R80/default.jpg</td>\n",
       "      <td>False</td>\n",
       "      <td>False</td>\n",
       "      <td>False</td>\n",
       "      <td>다스는 누구겁니까 듣고 난 후 표정</td>\n",
       "    </tr>\n",
       "    <tr>\n",
       "      <th>4</th>\n",
       "      <td>bk55RbxiQdI</td>\n",
       "      <td>17.14.11</td>\n",
       "      <td>김장겸은 물러갔다 MBC 노조 환호와 눈물</td>\n",
       "      <td>NocutV</td>\n",
       "      <td>25</td>\n",
       "      <td>2017-11-13T11:08:59.000Z</td>\n",
       "      <td>nocutV|\"노컷V\"|\"CBS\"|\"mbc\"|\"김장겸\"|\"해임\"|\"허일후\"</td>\n",
       "      <td>84466</td>\n",
       "      <td>1094</td>\n",
       "      <td>109</td>\n",
       "      <td>450</td>\n",
       "      <td>https://i.ytimg.com/vi/bk55RbxiQdI/default.jpg</td>\n",
       "      <td>False</td>\n",
       "      <td>False</td>\n",
       "      <td>False</td>\n",
       "      <td>김장겸 MBC 사장이 결국 해임됐다.\\n\\nMBC 대주주인 방송문화진흥회는 13일 ...</td>\n",
       "    </tr>\n",
       "    <tr>\n",
       "      <th>...</th>\n",
       "      <td>...</td>\n",
       "      <td>...</td>\n",
       "      <td>...</td>\n",
       "      <td>...</td>\n",
       "      <td>...</td>\n",
       "      <td>...</td>\n",
       "      <td>...</td>\n",
       "      <td>...</td>\n",
       "      <td>...</td>\n",
       "      <td>...</td>\n",
       "      <td>...</td>\n",
       "      <td>...</td>\n",
       "      <td>...</td>\n",
       "      <td>...</td>\n",
       "      <td>...</td>\n",
       "      <td>...</td>\n",
       "    </tr>\n",
       "    <tr>\n",
       "      <th>34562</th>\n",
       "      <td>pj6YBBrO1sQ</td>\n",
       "      <td>18.14.06</td>\n",
       "      <td>장모님 가게한다고 1억만 달라는 아내 사이다카톡</td>\n",
       "      <td>이슈트래커</td>\n",
       "      <td>24</td>\n",
       "      <td>2018-06-10T23:00:01.000Z</td>\n",
       "      <td>[none]</td>\n",
       "      <td>156439</td>\n",
       "      <td>383</td>\n",
       "      <td>58</td>\n",
       "      <td>308</td>\n",
       "      <td>https://i.ytimg.com/vi/pj6YBBrO1sQ/default.jpg</td>\n",
       "      <td>False</td>\n",
       "      <td>False</td>\n",
       "      <td>False</td>\n",
       "      <td>- 남편을 돈줄로만 본 아내- 좋아요와 구독은 언제나 환영입니다.- 카톡시리즈- 모...</td>\n",
       "    </tr>\n",
       "    <tr>\n",
       "      <th>34563</th>\n",
       "      <td>_Ne9ER-jr20</td>\n",
       "      <td>18.14.06</td>\n",
       "      <td>여러분~ 렌즈가 이렇게 위험합니다!!!ㅜㅜ _[이슈텔러]</td>\n",
       "      <td>이슈텔러 issueTeller</td>\n",
       "      <td>24</td>\n",
       "      <td>2018-06-12T07:00:06.000Z</td>\n",
       "      <td>[none]</td>\n",
       "      <td>130948</td>\n",
       "      <td>3121</td>\n",
       "      <td>55</td>\n",
       "      <td>988</td>\n",
       "      <td>https://i.ytimg.com/vi/_Ne9ER-jr20/default.jpg</td>\n",
       "      <td>False</td>\n",
       "      <td>False</td>\n",
       "      <td>False</td>\n",
       "      <td>안녕하세요~! 이슈텔러 입니다~^^화, 목 오후 4시 / 토요일 오전 9시 재밌고 ...</td>\n",
       "    </tr>\n",
       "    <tr>\n",
       "      <th>34564</th>\n",
       "      <td>xuOQq_fzEjk</td>\n",
       "      <td>18.14.06</td>\n",
       "      <td>2018년 6월 13일 아침 뉴스</td>\n",
       "      <td>News Express</td>\n",
       "      <td>25</td>\n",
       "      <td>2018-06-12T13:17:29.000Z</td>\n",
       "      <td>한국|\"북한\"|\"미국\"|\"중국\"|\"일본\"|\"러시아\"|\"한국뉴스\"|\"뉴스\"|\"국제뉴스...</td>\n",
       "      <td>62555</td>\n",
       "      <td>319</td>\n",
       "      <td>71</td>\n",
       "      <td>105</td>\n",
       "      <td>https://i.ytimg.com/vi/xuOQq_fzEjk/default.jpg</td>\n",
       "      <td>False</td>\n",
       "      <td>False</td>\n",
       "      <td>False</td>\n",
       "      <td>2018년 6월 13일 아침 뉴스등록되지 않은 구독자가 여기에서 내 새 채널을 지원...</td>\n",
       "    </tr>\n",
       "    <tr>\n",
       "      <th>34565</th>\n",
       "      <td>uXvjxeg08eQ</td>\n",
       "      <td>18.14.06</td>\n",
       "      <td>워너원 웃음 참기 영상 워너원 GO X-con.ver</td>\n",
       "      <td>원플</td>\n",
       "      <td>22</td>\n",
       "      <td>2018-06-11T11:57:20.000Z</td>\n",
       "      <td>워너원|\"워너원 고\"|\"워너원 GO\"|\"웃음참기\"|\"워너원 웃음참기\"|\"워너원 레전...</td>\n",
       "      <td>63306</td>\n",
       "      <td>2369</td>\n",
       "      <td>27</td>\n",
       "      <td>571</td>\n",
       "      <td>https://i.ytimg.com/vi/uXvjxeg08eQ/default.jpg</td>\n",
       "      <td>False</td>\n",
       "      <td>False</td>\n",
       "      <td>False</td>\n",
       "      <td>워너원 웃음 참기 영상 항상 좋아해주셔서 감사합니다8ㅅ8이번에는 얼마전에 있었던 원...</td>\n",
       "    </tr>\n",
       "    <tr>\n",
       "      <th>34566</th>\n",
       "      <td>C-bLqIftDY4</td>\n",
       "      <td>18.14.06</td>\n",
       "      <td>[법륜스님의 즉문즉설 제 1398회] 시동생의 아이를 키우게 됐어요</td>\n",
       "      <td>법륜스님의 즉문즉설</td>\n",
       "      <td>29</td>\n",
       "      <td>2018-06-10T20:00:01.000Z</td>\n",
       "      <td>불교|\"즉문즉설\"|\"법륜스님\"|\"정토회\"|\"buddha\"|\"buddhism\"|\"po...</td>\n",
       "      <td>63716</td>\n",
       "      <td>500</td>\n",
       "      <td>58</td>\n",
       "      <td>135</td>\n",
       "      <td>https://i.ytimg.com/vi/C-bLqIftDY4/default.jpg</td>\n",
       "      <td>False</td>\n",
       "      <td>False</td>\n",
       "      <td>False</td>\n",
       "      <td>3월에 시동생이 이혼했습니다 그러면서 제가중2, 7살, 4살 되는 조카들을 데리고 ...</td>\n",
       "    </tr>\n",
       "  </tbody>\n",
       "</table>\n",
       "<p>32251 rows × 16 columns</p>\n",
       "</div>"
      ],
      "text/plain": [
       "          video_id trending_date                                  title  \\\n",
       "0      RxGQe4EeEpA      17.14.11                     좋아 by 민서_윤종신_좋니 답가   \n",
       "1      hH7wVE8OlQ0      17.14.11                       JSA 귀순 북한군 총격 부상   \n",
       "2      9V8bnWUmE9U      17.14.11             나몰라패밀리 운동화 영상 2탄 (빼빼로데이버젼)   \n",
       "3      0_8py-t5R80      17.14.11             이명박 출국 현장, 놓치면 안되는 장면   \n",
       "4      bk55RbxiQdI      17.14.11                김장겸은 물러갔다 MBC 노조 환호와 눈물   \n",
       "...            ...           ...                                    ...   \n",
       "34562  pj6YBBrO1sQ      18.14.06             장모님 가게한다고 1억만 달라는 아내 사이다카톡   \n",
       "34563  _Ne9ER-jr20      18.14.06        여러분~ 렌즈가 이렇게 위험합니다!!!ㅜㅜ _[이슈텔러]   \n",
       "34564  xuOQq_fzEjk      18.14.06                     2018년 6월 13일 아침 뉴스   \n",
       "34565  uXvjxeg08eQ      18.14.06          워너원 웃음 참기 영상 워너원 GO X-con.ver   \n",
       "34566  C-bLqIftDY4      18.14.06  [법륜스님의 즉문즉설 제 1398회] 시동생의 아이를 키우게 됐어요   \n",
       "\n",
       "          channel_title  category_id              publish_time  \\\n",
       "0                라푸마코리아           22  2017-11-13T07:07:36.000Z   \n",
       "1                Edward           25  2017-11-13T10:59:16.000Z   \n",
       "2             나몰라패밀리 핫쇼           22  2017-11-11T07:16:08.000Z   \n",
       "3                 미디어몽구           25  2017-11-12T11:19:52.000Z   \n",
       "4                NocutV           25  2017-11-13T11:08:59.000Z   \n",
       "...                 ...          ...                       ...   \n",
       "34562             이슈트래커           24  2018-06-10T23:00:01.000Z   \n",
       "34563  이슈텔러 issueTeller           24  2018-06-12T07:00:06.000Z   \n",
       "34564      News Express           25  2018-06-12T13:17:29.000Z   \n",
       "34565                원플           22  2018-06-11T11:57:20.000Z   \n",
       "34566        법륜스님의 즉문즉설           29  2018-06-10T20:00:01.000Z   \n",
       "\n",
       "                                                    tags   views  likes  \\\n",
       "0                          라푸마|\"윤종신\"|\"좋니\"|\"좋아\"|\"샬레\"|\"민서\"  156130   1422   \n",
       "1            JSA|\"귀순\"|\"북한군\"|\"총격\"|\"부상\"|\"JSA 귀순 북한군 총격 부상\"   76533    211   \n",
       "2                    아디다스|\"빼빼로\"|\"핫쇼\"|\"나몰라패밀리\"|\"대학로\"|\"공연\"  421409   5112   \n",
       "3      이명박|\"이명박 출국금지\"|\"이명박 출국현장\"|\"이명박 바레인\"|\"이명박 대통령\"|...  222850   2093   \n",
       "4              nocutV|\"노컷V\"|\"CBS\"|\"mbc\"|\"김장겸\"|\"해임\"|\"허일후\"   84466   1094   \n",
       "...                                                  ...     ...    ...   \n",
       "34562                                             [none]  156439    383   \n",
       "34563                                             [none]  130948   3121   \n",
       "34564  한국|\"북한\"|\"미국\"|\"중국\"|\"일본\"|\"러시아\"|\"한국뉴스\"|\"뉴스\"|\"국제뉴스...   62555    319   \n",
       "34565  워너원|\"워너원 고\"|\"워너원 GO\"|\"웃음참기\"|\"워너원 웃음참기\"|\"워너원 레전...   63306   2369   \n",
       "34566  불교|\"즉문즉설\"|\"법륜스님\"|\"정토회\"|\"buddha\"|\"buddhism\"|\"po...   63716    500   \n",
       "\n",
       "       dislikes  comment_count  \\\n",
       "0            40            272   \n",
       "1            28            113   \n",
       "2           166            459   \n",
       "3           173           1219   \n",
       "4           109            450   \n",
       "...         ...            ...   \n",
       "34562        58            308   \n",
       "34563        55            988   \n",
       "34564        71            105   \n",
       "34565        27            571   \n",
       "34566        58            135   \n",
       "\n",
       "                                       thumbnail_link  comments_disabled  \\\n",
       "0      https://i.ytimg.com/vi/RxGQe4EeEpA/default.jpg              False   \n",
       "1      https://i.ytimg.com/vi/hH7wVE8OlQ0/default.jpg              False   \n",
       "2      https://i.ytimg.com/vi/9V8bnWUmE9U/default.jpg              False   \n",
       "3      https://i.ytimg.com/vi/0_8py-t5R80/default.jpg              False   \n",
       "4      https://i.ytimg.com/vi/bk55RbxiQdI/default.jpg              False   \n",
       "...                                               ...                ...   \n",
       "34562  https://i.ytimg.com/vi/pj6YBBrO1sQ/default.jpg              False   \n",
       "34563  https://i.ytimg.com/vi/_Ne9ER-jr20/default.jpg              False   \n",
       "34564  https://i.ytimg.com/vi/xuOQq_fzEjk/default.jpg              False   \n",
       "34565  https://i.ytimg.com/vi/uXvjxeg08eQ/default.jpg              False   \n",
       "34566  https://i.ytimg.com/vi/C-bLqIftDY4/default.jpg              False   \n",
       "\n",
       "       ratings_disabled  video_error_or_removed  \\\n",
       "0                 False                   False   \n",
       "1                 False                   False   \n",
       "2                 False                   False   \n",
       "3                 False                   False   \n",
       "4                 False                   False   \n",
       "...                 ...                     ...   \n",
       "34562             False                   False   \n",
       "34563             False                   False   \n",
       "34564             False                   False   \n",
       "34565             False                   False   \n",
       "34566             False                   False   \n",
       "\n",
       "                                             description  \n",
       "0      윤종신 '좋니'의 답가 '좋아' 최초 공개!\\n그 여자의 이야기를 지금 만나보세요....  \n",
       "1      [채널A단독]北 병사 현재 '의식불명'… 혈압 떨어지는 중 \\n[채널A단독]우리측 ...  \n",
       "2                                        퍼가실때 꼭 출처 부탁드려요  \n",
       "3                                    다스는 누구겁니까 듣고 난 후 표정  \n",
       "4      김장겸 MBC 사장이 결국 해임됐다.\\n\\nMBC 대주주인 방송문화진흥회는 13일 ...  \n",
       "...                                                  ...  \n",
       "34562  - 남편을 돈줄로만 본 아내- 좋아요와 구독은 언제나 환영입니다.- 카톡시리즈- 모...  \n",
       "34563  안녕하세요~! 이슈텔러 입니다~^^화, 목 오후 4시 / 토요일 오전 9시 재밌고 ...  \n",
       "34564  2018년 6월 13일 아침 뉴스등록되지 않은 구독자가 여기에서 내 새 채널을 지원...  \n",
       "34565  워너원 웃음 참기 영상 항상 좋아해주셔서 감사합니다8ㅅ8이번에는 얼마전에 있었던 원...  \n",
       "34566  3월에 시동생이 이혼했습니다 그러면서 제가중2, 7살, 4살 되는 조카들을 데리고 ...  \n",
       "\n",
       "[32251 rows x 16 columns]"
      ]
     },
     "execution_count": 45,
     "metadata": {},
     "output_type": "execute_result"
    }
   ],
   "source": [
    "df.drop_duplicates(keep='first')"
   ]
  },
  {
   "cell_type": "markdown",
   "metadata": {
    "colab_type": "text",
    "id": "RJShYJ7r8m5N"
   },
   "source": [
    "###4. 중복된 row는 몇개였을까?"
   ]
  },
  {
   "cell_type": "code",
   "execution_count": 48,
   "metadata": {
    "colab": {},
    "colab_type": "code",
    "id": "rp49B3xTdcgt"
   },
   "outputs": [
    {
     "data": {
      "text/plain": [
       "0        False\n",
       "1        False\n",
       "2        False\n",
       "3        False\n",
       "4        False\n",
       "         ...  \n",
       "34562    False\n",
       "34563    False\n",
       "34564    False\n",
       "34565     True\n",
       "34566    False\n",
       "Length: 34567, dtype: bool"
      ]
     },
     "execution_count": 48,
     "metadata": {},
     "output_type": "execute_result"
    }
   ],
   "source": [
    "df.duplicated(['views'])"
   ]
  },
  {
   "cell_type": "markdown",
   "metadata": {
    "colab_type": "text",
    "id": "dhluTGiO9H20"
   },
   "source": [
    "###5. 중복 제거된 것 확인하기"
   ]
  },
  {
   "cell_type": "code",
   "execution_count": 53,
   "metadata": {
    "colab": {},
    "colab_type": "code",
    "collapsed": true,
    "id": "s3C-zp-BetWS"
   },
   "outputs": [
    {
     "data": {
      "text/html": [
       "<div>\n",
       "<style scoped>\n",
       "    .dataframe tbody tr th:only-of-type {\n",
       "        vertical-align: middle;\n",
       "    }\n",
       "\n",
       "    .dataframe tbody tr th {\n",
       "        vertical-align: top;\n",
       "    }\n",
       "\n",
       "    .dataframe thead th {\n",
       "        text-align: right;\n",
       "    }\n",
       "</style>\n",
       "<table border=\"1\" class=\"dataframe\">\n",
       "  <thead>\n",
       "    <tr style=\"text-align: right;\">\n",
       "      <th></th>\n",
       "      <th>video_id</th>\n",
       "      <th>trending_date</th>\n",
       "      <th>title</th>\n",
       "      <th>channel_title</th>\n",
       "      <th>category_id</th>\n",
       "      <th>publish_time</th>\n",
       "      <th>tags</th>\n",
       "      <th>views</th>\n",
       "      <th>likes</th>\n",
       "      <th>dislikes</th>\n",
       "      <th>comment_count</th>\n",
       "      <th>thumbnail_link</th>\n",
       "      <th>comments_disabled</th>\n",
       "      <th>ratings_disabled</th>\n",
       "      <th>video_error_or_removed</th>\n",
       "      <th>description</th>\n",
       "    </tr>\n",
       "  </thead>\n",
       "  <tbody>\n",
       "    <tr>\n",
       "      <th>0</th>\n",
       "      <td>RxGQe4EeEpA</td>\n",
       "      <td>17.14.11</td>\n",
       "      <td>좋아 by 민서_윤종신_좋니 답가</td>\n",
       "      <td>라푸마코리아</td>\n",
       "      <td>22</td>\n",
       "      <td>2017-11-13T07:07:36.000Z</td>\n",
       "      <td>라푸마|\"윤종신\"|\"좋니\"|\"좋아\"|\"샬레\"|\"민서\"</td>\n",
       "      <td>156130</td>\n",
       "      <td>1422</td>\n",
       "      <td>40</td>\n",
       "      <td>272</td>\n",
       "      <td>https://i.ytimg.com/vi/RxGQe4EeEpA/default.jpg</td>\n",
       "      <td>False</td>\n",
       "      <td>False</td>\n",
       "      <td>False</td>\n",
       "      <td>윤종신 '좋니'의 답가 '좋아' 최초 공개!\\n그 여자의 이야기를 지금 만나보세요....</td>\n",
       "    </tr>\n",
       "    <tr>\n",
       "      <th>1</th>\n",
       "      <td>hH7wVE8OlQ0</td>\n",
       "      <td>17.14.11</td>\n",
       "      <td>JSA 귀순 북한군 총격 부상</td>\n",
       "      <td>Edward</td>\n",
       "      <td>25</td>\n",
       "      <td>2017-11-13T10:59:16.000Z</td>\n",
       "      <td>JSA|\"귀순\"|\"북한군\"|\"총격\"|\"부상\"|\"JSA 귀순 북한군 총격 부상\"</td>\n",
       "      <td>76533</td>\n",
       "      <td>211</td>\n",
       "      <td>28</td>\n",
       "      <td>113</td>\n",
       "      <td>https://i.ytimg.com/vi/hH7wVE8OlQ0/default.jpg</td>\n",
       "      <td>False</td>\n",
       "      <td>False</td>\n",
       "      <td>False</td>\n",
       "      <td>[채널A단독]北 병사 현재 '의식불명'… 혈압 떨어지는 중 \\n[채널A단독]우리측 ...</td>\n",
       "    </tr>\n",
       "    <tr>\n",
       "      <th>2</th>\n",
       "      <td>9V8bnWUmE9U</td>\n",
       "      <td>17.14.11</td>\n",
       "      <td>나몰라패밀리 운동화 영상 2탄 (빼빼로데이버젼)</td>\n",
       "      <td>나몰라패밀리 핫쇼</td>\n",
       "      <td>22</td>\n",
       "      <td>2017-11-11T07:16:08.000Z</td>\n",
       "      <td>아디다스|\"빼빼로\"|\"핫쇼\"|\"나몰라패밀리\"|\"대학로\"|\"공연\"</td>\n",
       "      <td>421409</td>\n",
       "      <td>5112</td>\n",
       "      <td>166</td>\n",
       "      <td>459</td>\n",
       "      <td>https://i.ytimg.com/vi/9V8bnWUmE9U/default.jpg</td>\n",
       "      <td>False</td>\n",
       "      <td>False</td>\n",
       "      <td>False</td>\n",
       "      <td>퍼가실때 꼭 출처 부탁드려요</td>\n",
       "    </tr>\n",
       "  </tbody>\n",
       "</table>\n",
       "</div>"
      ],
      "text/plain": [
       "      video_id trending_date                       title channel_title  \\\n",
       "0  RxGQe4EeEpA      17.14.11          좋아 by 민서_윤종신_좋니 답가        라푸마코리아   \n",
       "1  hH7wVE8OlQ0      17.14.11            JSA 귀순 북한군 총격 부상        Edward   \n",
       "2  9V8bnWUmE9U      17.14.11  나몰라패밀리 운동화 영상 2탄 (빼빼로데이버젼)     나몰라패밀리 핫쇼   \n",
       "\n",
       "   category_id              publish_time  \\\n",
       "0           22  2017-11-13T07:07:36.000Z   \n",
       "1           25  2017-11-13T10:59:16.000Z   \n",
       "2           22  2017-11-11T07:16:08.000Z   \n",
       "\n",
       "                                          tags   views  likes  dislikes  \\\n",
       "0                라푸마|\"윤종신\"|\"좋니\"|\"좋아\"|\"샬레\"|\"민서\"  156130   1422        40   \n",
       "1  JSA|\"귀순\"|\"북한군\"|\"총격\"|\"부상\"|\"JSA 귀순 북한군 총격 부상\"   76533    211        28   \n",
       "2          아디다스|\"빼빼로\"|\"핫쇼\"|\"나몰라패밀리\"|\"대학로\"|\"공연\"  421409   5112       166   \n",
       "\n",
       "   comment_count                                  thumbnail_link  \\\n",
       "0            272  https://i.ytimg.com/vi/RxGQe4EeEpA/default.jpg   \n",
       "1            113  https://i.ytimg.com/vi/hH7wVE8OlQ0/default.jpg   \n",
       "2            459  https://i.ytimg.com/vi/9V8bnWUmE9U/default.jpg   \n",
       "\n",
       "   comments_disabled  ratings_disabled  video_error_or_removed  \\\n",
       "0              False             False                   False   \n",
       "1              False             False                   False   \n",
       "2              False             False                   False   \n",
       "\n",
       "                                         description  \n",
       "0  윤종신 '좋니'의 답가 '좋아' 최초 공개!\\n그 여자의 이야기를 지금 만나보세요....  \n",
       "1  [채널A단독]北 병사 현재 '의식불명'… 혈압 떨어지는 중 \\n[채널A단독]우리측 ...  \n",
       "2                                    퍼가실때 꼭 출처 부탁드려요  "
      ]
     },
     "execution_count": 53,
     "metadata": {},
     "output_type": "execute_result"
    }
   ],
   "source": [
    "# 질문\n",
    "df.head(3)"
   ]
  },
  {
   "cell_type": "markdown",
   "metadata": {
    "colab_type": "text",
    "id": "6MNRtzyNgFv1"
   },
   "source": [
    "# 인기 채널 순위 시각화 - seaborn을 활용한 데이터 시각화"
   ]
  },
  {
   "cell_type": "markdown",
   "metadata": {
    "colab_type": "text",
    "id": "9UbZR1A49M-A"
   },
   "source": [
    "##1. 조회수 기준 TOP 100 채널 순위 조회"
   ]
  },
  {
   "cell_type": "markdown",
   "metadata": {
    "colab_type": "text",
    "id": "6ICZyD0X-8sm"
   },
   "source": [
    "####채널별 조회수 합계"
   ]
  },
  {
   "cell_type": "code",
   "execution_count": null,
   "metadata": {
    "colab": {},
    "colab_type": "code",
    "id": "0Ce6iWRnffNM"
   },
   "outputs": [],
   "source": [
    "sns.countplot(x=\"channel_title\",y=\"views\",data=df)\n",
    "plt.show()"
   ]
  },
  {
   "cell_type": "markdown",
   "metadata": {
    "colab_type": "text",
    "id": "3WtFD0r4_M6M"
   },
   "source": [
    "####정렬"
   ]
  },
  {
   "cell_type": "code",
   "execution_count": 0,
   "metadata": {
    "colab": {},
    "colab_type": "code",
    "id": "xurIiylOvjbh"
   },
   "outputs": [],
   "source": []
  },
  {
   "cell_type": "markdown",
   "metadata": {
    "colab_type": "text",
    "id": "gxUUr8rUDRe2"
   },
   "source": [
    "###TOP 100만 뽑기"
   ]
  },
  {
   "cell_type": "code",
   "execution_count": 0,
   "metadata": {
    "colab": {},
    "colab_type": "code",
    "id": "klARwg2ZDUlx"
   },
   "outputs": [],
   "source": []
  },
  {
   "cell_type": "markdown",
   "metadata": {
    "colab_type": "text",
    "id": "Ye80y1CSEFeT"
   },
   "source": [
    "###reset_index()"
   ]
  },
  {
   "cell_type": "code",
   "execution_count": 0,
   "metadata": {
    "colab": {},
    "colab_type": "code",
    "id": "LSr5vUcCEIBG"
   },
   "outputs": [],
   "source": []
  },
  {
   "cell_type": "markdown",
   "metadata": {
    "colab_type": "text",
    "id": "r8CUrMFlAjKL"
   },
   "source": [
    "##2. seaborn barplot 사용하여 TOP 100 채널 데이터 시각화"
   ]
  },
  {
   "cell_type": "code",
   "execution_count": 0,
   "metadata": {
    "colab": {},
    "colab_type": "code",
    "id": "zOzXRmh31mlB"
   },
   "outputs": [],
   "source": []
  },
  {
   "cell_type": "markdown",
   "metadata": {
    "colab_type": "text",
    "id": "8L31BE9VEVwp"
   },
   "source": [
    "##3. 사이즈 (20*100) 및 축 조정"
   ]
  },
  {
   "cell_type": "code",
   "execution_count": 0,
   "metadata": {
    "colab": {},
    "colab_type": "code",
    "id": "uwEIbpvWg3Fx"
   },
   "outputs": [],
   "source": []
  },
  {
   "cell_type": "markdown",
   "metadata": {
    "colab_type": "text",
    "id": "AFnwX6p54X31"
   },
   "source": [
    "# 인기 영상 키워드 분석하기 - 제목 추출 및 정제하기"
   ]
  },
  {
   "cell_type": "markdown",
   "metadata": {
    "colab_type": "text",
    "id": "5ic80NcdH99i"
   },
   "source": [
    "###1. 데이터 조회"
   ]
  },
  {
   "cell_type": "code",
   "execution_count": 0,
   "metadata": {
    "colab": {},
    "colab_type": "code",
    "id": "a2-8M4sT4x4t"
   },
   "outputs": [],
   "source": []
  },
  {
   "cell_type": "markdown",
   "metadata": {
    "colab_type": "text",
    "id": "iG5GaVgmINIT"
   },
   "source": [
    "###2. 제목, 뷰만 가져오고 뷰 많은 순으로 정렬 후 중복 제거"
   ]
  },
  {
   "cell_type": "code",
   "execution_count": 0,
   "metadata": {
    "colab": {},
    "colab_type": "code",
    "id": "kOu_MC2p43_p"
   },
   "outputs": [],
   "source": []
  },
  {
   "cell_type": "code",
   "execution_count": 0,
   "metadata": {
    "colab": {},
    "colab_type": "code",
    "id": "k8Anb3dh5pOB"
   },
   "outputs": [],
   "source": []
  },
  {
   "cell_type": "markdown",
   "metadata": {
    "colab_type": "text",
    "id": "R6--78A88BEH"
   },
   "source": [
    "###3. 제목 Array로 조회"
   ]
  },
  {
   "cell_type": "code",
   "execution_count": 0,
   "metadata": {
    "colab": {},
    "colab_type": "code",
    "id": "MIKlZ2EI6-Ed"
   },
   "outputs": [],
   "source": []
  },
  {
   "cell_type": "markdown",
   "metadata": {
    "colab_type": "text",
    "id": "7o87PoIIIy2a"
   },
   "source": [
    "###4. 정규표현식(re)로 한글 데이터만 남기기 (한글,띄어쓰기 포함)"
   ]
  },
  {
   "cell_type": "code",
   "execution_count": 0,
   "metadata": {
    "colab": {},
    "colab_type": "code",
    "id": "xjBWVMG0-KYG"
   },
   "outputs": [],
   "source": []
  },
  {
   "cell_type": "markdown",
   "metadata": {
    "colab_type": "text",
    "id": "_st3PqKsVQaK"
   },
   "source": [
    "###5. 공백만 있는 row는 삭제"
   ]
  },
  {
   "cell_type": "code",
   "execution_count": 0,
   "metadata": {
    "colab": {},
    "colab_type": "code",
    "id": "u8kMhGFMEYUN"
   },
   "outputs": [],
   "source": []
  },
  {
   "cell_type": "markdown",
   "metadata": {
    "colab_type": "text",
    "id": "bbV6uF5f_nUo"
   },
   "source": [
    "# 인기 영상 키워드 분석하기 - 제목 단어 추출 및 빈도 수 구하기"
   ]
  },
  {
   "cell_type": "markdown",
   "metadata": {
    "colab_type": "text",
    "id": "lOhbQ5BYUyPg"
   },
   "source": [
    "###1. soynlp 설치"
   ]
  },
  {
   "cell_type": "code",
   "execution_count": 0,
   "metadata": {
    "colab": {},
    "colab_type": "code",
    "id": "rPAlfTym_4DI"
   },
   "outputs": [],
   "source": []
  },
  {
   "cell_type": "markdown",
   "metadata": {
    "colab_type": "text",
    "id": "Lm_08C1iU7QO"
   },
   "source": [
    "###2. WordExtractor로 단어 점수 학습"
   ]
  },
  {
   "cell_type": "code",
   "execution_count": 0,
   "metadata": {
    "colab": {},
    "colab_type": "code",
    "id": "v8CpfUao7zMH"
   },
   "outputs": [],
   "source": []
  },
  {
   "cell_type": "markdown",
   "metadata": {
    "colab_type": "text",
    "id": "boymD3deVZvO"
   },
   "source": [
    "###3. LTokenizer로 L-R 분리"
   ]
  },
  {
   "cell_type": "code",
   "execution_count": 0,
   "metadata": {
    "colab": {},
    "colab_type": "code",
    "id": "8eRp44Zg_6wB"
   },
   "outputs": [],
   "source": []
  },
  {
   "cell_type": "markdown",
   "metadata": {
    "colab_type": "text",
    "id": "lETXs6W6VjQe"
   },
   "source": [
    "###4. 제목 데이터 중 L만 남기기"
   ]
  },
  {
   "cell_type": "code",
   "execution_count": 0,
   "metadata": {
    "colab": {},
    "colab_type": "code",
    "id": "2PGZFe0bAd7K"
   },
   "outputs": [],
   "source": []
  },
  {
   "cell_type": "markdown",
   "metadata": {
    "colab_type": "text",
    "id": "4lp5ssmJCd3z"
   },
   "source": [
    "# 인기 영상 키워드 분석하기 - 단어 빈도 수 구하기"
   ]
  },
  {
   "cell_type": "markdown",
   "metadata": {
    "colab_type": "text",
    "id": "E6OySjtNWMW8"
   },
   "source": [
    "###1. 인기 영상 (50만 조회수 이상)"
   ]
  },
  {
   "cell_type": "code",
   "execution_count": 0,
   "metadata": {
    "colab": {},
    "colab_type": "code",
    "id": "MLcp7Sm-YJd3"
   },
   "outputs": [],
   "source": []
  },
  {
   "cell_type": "markdown",
   "metadata": {
    "colab_type": "text",
    "id": "WDve3R1CeJqd"
   },
   "source": [
    "###2. tokenized 단어 한 배열에 담기"
   ]
  },
  {
   "cell_type": "code",
   "execution_count": 0,
   "metadata": {
    "colab": {},
    "colab_type": "code",
    "id": "FynJEuqAeVSr"
   },
   "outputs": [],
   "source": []
  },
  {
   "cell_type": "markdown",
   "metadata": {
    "colab_type": "text",
    "id": "3i9Vi90XfvDy"
   },
   "source": [
    "### Counter로 words 빈도 수 파악하기"
   ]
  },
  {
   "cell_type": "code",
   "execution_count": 0,
   "metadata": {
    "colab": {},
    "colab_type": "code",
    "id": "3lNBnVs-Cvbt"
   },
   "outputs": [],
   "source": []
  },
  {
   "cell_type": "markdown",
   "metadata": {
    "colab_type": "text",
    "id": "C0aDA-iaIQCG"
   },
   "source": [
    "# 인기 영상 키워드 분석하기 - 워드 클라우드 그리기"
   ]
  },
  {
   "cell_type": "markdown",
   "metadata": {
    "colab_type": "text",
    "id": "E9ycJ-67hHyO"
   },
   "source": [
    "### wordcloud 폰트 설정 및 생성하기"
   ]
  },
  {
   "cell_type": "code",
   "execution_count": 0,
   "metadata": {
    "colab": {},
    "colab_type": "code",
    "id": "UCleK67gDWC0"
   },
   "outputs": [],
   "source": [
    "with open('대한민국헌법.txt', 'r', encoding='utf-8') as f:\n",
    "    text = f.read()\n",
    "\n",
    "okt = Okt()\n",
    "nouns = okt.nouns(text) # 명사만 추출\n",
    "\n",
    "words = [n for n in nouns if len(n) > 1] # 단어의 길이가 1개인 것은 제외\n",
    "\n",
    "c = Counter(words) # 위에서 얻은 word"
   ]
  },
  {
   "cell_type": "code",
   "execution_count": 2,
   "metadata": {},
   "outputs": [
    {
     "name": "stdout",
     "output_type": "stream",
     "text": [
      "Note: you may need to restart the kernel to use updated packages.Collecting wordcloud\n",
      "  Using cached wordcloud-1.8.1.tar.gz (220 kB)\n",
      "Requirement already satisfied: numpy>=1.6.1 in c:\\users\\sim\\anaconda3\\lib\\site-packages (from wordcloud) (1.20.3)\n",
      "Requirement already satisfied: pillow in c:\\users\\sim\\anaconda3\\lib\\site-packages (from wordcloud) (8.4.0)\n",
      "Requirement already satisfied: matplotlib in c:\\users\\sim\\anaconda3\\lib\\site-packages (from wordcloud) (3.4.3)\n",
      "Requirement already satisfied: cycler>=0.10 in c:\\users\\sim\\anaconda3\\lib\\site-packages (from matplotlib->wordcloud) (0.10.0)\n",
      "Requirement already satisfied: kiwisolver>=1.0.1 in c:\\users\\sim\\anaconda3\\lib\\site-packages (from matplotlib->wordcloud) (1.3.1)\n",
      "Requirement already satisfied: python-dateutil>=2.7 in c:\\users\\sim\\anaconda3\\lib\\site-packages (from matplotlib->wordcloud) (2.8.2)\n",
      "Requirement already satisfied: pyparsing>=2.2.1 in c:\\users\\sim\\anaconda3\\lib\\site-packages (from matplotlib->wordcloud) (3.0.4)\n",
      "Requirement already satisfied: six in c:\\users\\sim\\anaconda3\\lib\\site-packages (from cycler>=0.10->matplotlib->wordcloud) (1.16.0)\n",
      "Building wheels for collected packages: wordcloud\n",
      "  Building wheel for wordcloud (setup.py): started\n",
      "  Building wheel for wordcloud (setup.py): finished with status 'error'\n",
      "\n",
      "  Running setup.py clean for wordcloud\n",
      "Failed to build wordcloud\n",
      "Installing collected packages: wordcloud\n",
      "    Running setup.py install for wordcloud: started\n",
      "    Running setup.py install for wordcloud: finished with status 'error'\n"
     ]
    },
    {
     "name": "stderr",
     "output_type": "stream",
     "text": [
      "  ERROR: Command errored out with exit status 1:\n",
      "   command: 'C:\\Users\\sim\\Anaconda3\\python.exe' -u -c 'import io, os, sys, setuptools, tokenize; sys.argv[0] = '\"'\"'C:\\\\Users\\\\sim\\\\AppData\\\\Local\\\\Temp\\\\pip-install-22wuzvcc\\\\wordcloud_fd3459d3cd474d85bbd43c2bdd7a0082\\\\setup.py'\"'\"'; __file__='\"'\"'C:\\\\Users\\\\sim\\\\AppData\\\\Local\\\\Temp\\\\pip-install-22wuzvcc\\\\wordcloud_fd3459d3cd474d85bbd43c2bdd7a0082\\\\setup.py'\"'\"';f = getattr(tokenize, '\"'\"'open'\"'\"', open)(__file__) if os.path.exists(__file__) else io.StringIO('\"'\"'from setuptools import setup; setup()'\"'\"');code = f.read().replace('\"'\"'\\r\\n'\"'\"', '\"'\"'\\n'\"'\"');f.close();exec(compile(code, __file__, '\"'\"'exec'\"'\"'))' bdist_wheel -d 'C:\\Users\\sim\\AppData\\Local\\Temp\\pip-wheel-p48plz6m'\n",
      "       cwd: C:\\Users\\sim\\AppData\\Local\\Temp\\pip-install-22wuzvcc\\wordcloud_fd3459d3cd474d85bbd43c2bdd7a0082\\\n",
      "  Complete output (20 lines):\n",
      "  running bdist_wheel\n",
      "  running build\n",
      "  running build_py\n",
      "  creating build\n",
      "  creating build\\lib.win-amd64-3.9\n",
      "  creating build\\lib.win-amd64-3.9\\wordcloud\n",
      "  copying wordcloud\\color_from_image.py -> build\\lib.win-amd64-3.9\\wordcloud\n",
      "  copying wordcloud\\tokenization.py -> build\\lib.win-amd64-3.9\\wordcloud\n",
      "  copying wordcloud\\wordcloud.py -> build\\lib.win-amd64-3.9\\wordcloud\n",
      "  copying wordcloud\\wordcloud_cli.py -> build\\lib.win-amd64-3.9\\wordcloud\n",
      "  copying wordcloud\\_version.py -> build\\lib.win-amd64-3.9\\wordcloud\n",
      "  copying wordcloud\\__init__.py -> build\\lib.win-amd64-3.9\\wordcloud\n",
      "  copying wordcloud\\__main__.py -> build\\lib.win-amd64-3.9\\wordcloud\n",
      "  copying wordcloud\\stopwords -> build\\lib.win-amd64-3.9\\wordcloud\n",
      "  copying wordcloud\\DroidSansMono.ttf -> build\\lib.win-amd64-3.9\\wordcloud\n",
      "  UPDATING build\\lib.win-amd64-3.9\\wordcloud/_version.py\n",
      "  set build\\lib.win-amd64-3.9\\wordcloud/_version.py to '1.8.1'\n",
      "  running build_ext\n",
      "  building 'wordcloud.query_integral_image' extension\n",
      "  error: Microsoft Visual C++ 14.0 or greater is required. Get it with \"Microsoft C++ Build Tools\": https://visualstudio.microsoft.com/visual-cpp-build-tools/\n",
      "  ----------------------------------------\n",
      "  ERROR: Failed building wheel for wordcloud\n",
      "    ERROR: Command errored out with exit status 1:\n",
      "     command: 'C:\\Users\\sim\\Anaconda3\\python.exe' -u -c 'import io, os, sys, setuptools, tokenize; sys.argv[0] = '\"'\"'C:\\\\Users\\\\sim\\\\AppData\\\\Local\\\\Temp\\\\pip-install-22wuzvcc\\\\wordcloud_fd3459d3cd474d85bbd43c2bdd7a0082\\\\setup.py'\"'\"'; __file__='\"'\"'C:\\\\Users\\\\sim\\\\AppData\\\\Local\\\\Temp\\\\pip-install-22wuzvcc\\\\wordcloud_fd3459d3cd474d85bbd43c2bdd7a0082\\\\setup.py'\"'\"';f = getattr(tokenize, '\"'\"'open'\"'\"', open)(__file__) if os.path.exists(__file__) else io.StringIO('\"'\"'from setuptools import setup; setup()'\"'\"');code = f.read().replace('\"'\"'\\r\\n'\"'\"', '\"'\"'\\n'\"'\"');f.close();exec(compile(code, __file__, '\"'\"'exec'\"'\"'))' install --record 'C:\\Users\\sim\\AppData\\Local\\Temp\\pip-record-b14q9fjb\\install-record.txt' --single-version-externally-managed --compile --install-headers 'C:\\Users\\sim\\Anaconda3\\Include\\wordcloud'\n",
      "         cwd: C:\\Users\\sim\\AppData\\Local\\Temp\\pip-install-22wuzvcc\\wordcloud_fd3459d3cd474d85bbd43c2bdd7a0082\\\n",
      "    Complete output (20 lines):\n",
      "    running install\n",
      "    running build\n",
      "    running build_py\n",
      "    creating build\n",
      "    creating build\\lib.win-amd64-3.9\n",
      "    creating build\\lib.win-amd64-3.9\\wordcloud\n",
      "    copying wordcloud\\color_from_image.py -> build\\lib.win-amd64-3.9\\wordcloud\n",
      "    copying wordcloud\\tokenization.py -> build\\lib.win-amd64-3.9\\wordcloud\n",
      "    copying wordcloud\\wordcloud.py -> build\\lib.win-amd64-3.9\\wordcloud\n",
      "    copying wordcloud\\wordcloud_cli.py -> build\\lib.win-amd64-3.9\\wordcloud\n",
      "    copying wordcloud\\_version.py -> build\\lib.win-amd64-3.9\\wordcloud\n",
      "    copying wordcloud\\__init__.py -> build\\lib.win-amd64-3.9\\wordcloud\n",
      "    copying wordcloud\\__main__.py -> build\\lib.win-amd64-3.9\\wordcloud\n",
      "    copying wordcloud\\stopwords -> build\\lib.win-amd64-3.9\\wordcloud\n",
      "    copying wordcloud\\DroidSansMono.ttf -> build\\lib.win-amd64-3.9\\wordcloud\n",
      "    UPDATING build\\lib.win-amd64-3.9\\wordcloud/_version.py\n",
      "    set build\\lib.win-amd64-3.9\\wordcloud/_version.py to '1.8.1'\n",
      "    running build_ext\n",
      "    building 'wordcloud.query_integral_image' extension\n",
      "    error: Microsoft Visual C++ 14.0 or greater is required. Get it with \"Microsoft C++ Build Tools\": https://visualstudio.microsoft.com/visual-cpp-build-tools/\n",
      "    ----------------------------------------\n",
      "ERROR: Command errored out with exit status 1: 'C:\\Users\\sim\\Anaconda3\\python.exe' -u -c 'import io, os, sys, setuptools, tokenize; sys.argv[0] = '\"'\"'C:\\\\Users\\\\sim\\\\AppData\\\\Local\\\\Temp\\\\pip-install-22wuzvcc\\\\wordcloud_fd3459d3cd474d85bbd43c2bdd7a0082\\\\setup.py'\"'\"'; __file__='\"'\"'C:\\\\Users\\\\sim\\\\AppData\\\\Local\\\\Temp\\\\pip-install-22wuzvcc\\\\wordcloud_fd3459d3cd474d85bbd43c2bdd7a0082\\\\setup.py'\"'\"';f = getattr(tokenize, '\"'\"'open'\"'\"', open)(__file__) if os.path.exists(__file__) else io.StringIO('\"'\"'from setuptools import setup; setup()'\"'\"');code = f.read().replace('\"'\"'\\r\\n'\"'\"', '\"'\"'\\n'\"'\"');f.close();exec(compile(code, __file__, '\"'\"'exec'\"'\"'))' install --record 'C:\\Users\\sim\\AppData\\Local\\Temp\\pip-record-b14q9fjb\\install-record.txt' --single-version-externally-managed --compile --install-headers 'C:\\Users\\sim\\Anaconda3\\Include\\wordcloud' Check the logs for full command output.\n"
     ]
    }
   ],
   "source": [
    "pip install wordcloud"
   ]
  },
  {
   "cell_type": "code",
   "execution_count": 4,
   "metadata": {},
   "outputs": [
    {
     "ename": "ModuleNotFoundError",
     "evalue": "No module named 'wordcloud'",
     "output_type": "error",
     "traceback": [
      "\u001b[1;31m---------------------------------------------------------------------------\u001b[0m",
      "\u001b[1;31mModuleNotFoundError\u001b[0m                       Traceback (most recent call last)",
      "\u001b[1;32m~\\AppData\\Local\\Temp/ipykernel_9320/2490807496.py\u001b[0m in \u001b[0;36m<module>\u001b[1;34m\u001b[0m\n\u001b[1;32m----> 1\u001b[1;33m \u001b[1;32mfrom\u001b[0m \u001b[0mwordcloud\u001b[0m \u001b[1;32mimport\u001b[0m \u001b[0mWordCloud\u001b[0m\u001b[1;33m\u001b[0m\u001b[1;33m\u001b[0m\u001b[0m\n\u001b[0m\u001b[0;32m      2\u001b[0m \u001b[1;32mimport\u001b[0m \u001b[0mmatplotlib\u001b[0m\u001b[1;33m.\u001b[0m\u001b[0mpyplot\u001b[0m \u001b[1;32mas\u001b[0m \u001b[0mplt\u001b[0m\u001b[1;33m\u001b[0m\u001b[1;33m\u001b[0m\u001b[0m\n\u001b[0;32m      3\u001b[0m \u001b[1;32mfrom\u001b[0m \u001b[0mcollections\u001b[0m \u001b[1;32mimport\u001b[0m \u001b[0mCounter\u001b[0m\u001b[1;33m\u001b[0m\u001b[1;33m\u001b[0m\u001b[0m\n\u001b[0;32m      4\u001b[0m \u001b[1;32mfrom\u001b[0m \u001b[0mkonlpy\u001b[0m\u001b[1;33m.\u001b[0m\u001b[0mtag\u001b[0m \u001b[1;32mimport\u001b[0m \u001b[0mOkt\u001b[0m\u001b[1;33m\u001b[0m\u001b[1;33m\u001b[0m\u001b[0m\n\u001b[0;32m      5\u001b[0m \u001b[1;32mfrom\u001b[0m \u001b[0mPIL\u001b[0m \u001b[1;32mimport\u001b[0m \u001b[0mImage\u001b[0m\u001b[1;33m\u001b[0m\u001b[1;33m\u001b[0m\u001b[0m\n",
      "\u001b[1;31mModuleNotFoundError\u001b[0m: No module named 'wordcloud'"
     ]
    }
   ],
   "source": [
    "from wordcloud import WordCloud\n",
    "import matplotlib.pyplot as plt\n",
    "from collections import Counter\n",
    "from konlpy.tag import Okt\n",
    "from PIL import Image\n",
    "import numpy as np"
   ]
  },
  {
   "cell_type": "code",
   "execution_count": 0,
   "metadata": {
    "colab": {},
    "colab_type": "code",
    "id": "z_2dEkAjiUwk"
   },
   "outputs": [],
   "source": [
    "wc = WordCloud(font_path='malgun', width=400, height=400, scale=2.0, max_font_size=250)\n",
    "gen = wc.generate_from_frequencies(c)\n",
    "plt.figure()\n",
    "plt.imshow(gen)"
   ]
  },
  {
   "cell_type": "markdown",
   "metadata": {
    "colab_type": "text",
    "id": "4Ec97cyIijjo"
   },
   "source": [
    "### StopWord 설정 후 다시 보기"
   ]
  },
  {
   "cell_type": "code",
   "execution_count": 0,
   "metadata": {
    "colab": {},
    "colab_type": "code",
    "id": "vnCDUkt6Za-v"
   },
   "outputs": [],
   "source": []
  }
 ],
 "metadata": {
  "colab": {
   "collapsed_sections": [],
   "name": "youtube_실습용.ipynb",
   "provenance": [],
   "toc_visible": true
  },
  "kernelspec": {
   "display_name": "Python 3 (ipykernel)",
   "language": "python",
   "name": "python3"
  },
  "language_info": {
   "codemirror_mode": {
    "name": "ipython",
    "version": 3
   },
   "file_extension": ".py",
   "mimetype": "text/x-python",
   "name": "python",
   "nbconvert_exporter": "python",
   "pygments_lexer": "ipython3",
   "version": "3.9.7"
  }
 },
 "nbformat": 4,
 "nbformat_minor": 1
}
