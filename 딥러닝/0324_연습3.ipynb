{
 "cells": [
  {
   "cell_type": "code",
   "execution_count": 1,
   "id": "5b4c6838",
   "metadata": {
    "ExecuteTime": {
     "end_time": "2022-03-24T05:15:11.037469Z",
     "start_time": "2022-03-24T05:15:08.511471Z"
    }
   },
   "outputs": [],
   "source": [
    "import pandas as pd\n",
    "import numpy as np\n",
    "import matplotlib.pyplot as plt\n",
    "import seaborn as sns"
   ]
  },
  {
   "cell_type": "code",
   "execution_count": 29,
   "id": "13874720",
   "metadata": {
    "ExecuteTime": {
     "end_time": "2022-03-24T05:35:13.405473Z",
     "start_time": "2022-03-24T05:35:13.395125Z"
    }
   },
   "outputs": [],
   "source": [
    "from tensorflow.keras.models import Sequential\n",
    "from tensorflow.keras.layers import Dense,Dropout\n",
    "import tensorflow as tf"
   ]
  },
  {
   "cell_type": "code",
   "execution_count": 3,
   "id": "bbeba79e",
   "metadata": {
    "ExecuteTime": {
     "end_time": "2022-03-24T05:15:51.884302Z",
     "start_time": "2022-03-24T05:15:51.842452Z"
    }
   },
   "outputs": [
    {
     "data": {
      "text/html": [
       "<div>\n",
       "<style scoped>\n",
       "    .dataframe tbody tr th:only-of-type {\n",
       "        vertical-align: middle;\n",
       "    }\n",
       "\n",
       "    .dataframe tbody tr th {\n",
       "        vertical-align: top;\n",
       "    }\n",
       "\n",
       "    .dataframe thead th {\n",
       "        text-align: right;\n",
       "    }\n",
       "</style>\n",
       "<table border=\"1\" class=\"dataframe\">\n",
       "  <thead>\n",
       "    <tr style=\"text-align: right;\">\n",
       "      <th></th>\n",
       "      <th>6</th>\n",
       "      <th>148</th>\n",
       "      <th>72</th>\n",
       "      <th>35</th>\n",
       "      <th>0</th>\n",
       "      <th>33.6</th>\n",
       "      <th>0.627</th>\n",
       "      <th>50</th>\n",
       "      <th>1</th>\n",
       "    </tr>\n",
       "  </thead>\n",
       "  <tbody>\n",
       "    <tr>\n",
       "      <th>0</th>\n",
       "      <td>1</td>\n",
       "      <td>85</td>\n",
       "      <td>66</td>\n",
       "      <td>29</td>\n",
       "      <td>0</td>\n",
       "      <td>26.6</td>\n",
       "      <td>0.351</td>\n",
       "      <td>31</td>\n",
       "      <td>0</td>\n",
       "    </tr>\n",
       "    <tr>\n",
       "      <th>1</th>\n",
       "      <td>8</td>\n",
       "      <td>183</td>\n",
       "      <td>64</td>\n",
       "      <td>0</td>\n",
       "      <td>0</td>\n",
       "      <td>23.3</td>\n",
       "      <td>0.672</td>\n",
       "      <td>32</td>\n",
       "      <td>1</td>\n",
       "    </tr>\n",
       "    <tr>\n",
       "      <th>2</th>\n",
       "      <td>1</td>\n",
       "      <td>89</td>\n",
       "      <td>66</td>\n",
       "      <td>23</td>\n",
       "      <td>94</td>\n",
       "      <td>28.1</td>\n",
       "      <td>0.167</td>\n",
       "      <td>21</td>\n",
       "      <td>0</td>\n",
       "    </tr>\n",
       "    <tr>\n",
       "      <th>3</th>\n",
       "      <td>0</td>\n",
       "      <td>137</td>\n",
       "      <td>40</td>\n",
       "      <td>35</td>\n",
       "      <td>168</td>\n",
       "      <td>43.1</td>\n",
       "      <td>2.288</td>\n",
       "      <td>33</td>\n",
       "      <td>1</td>\n",
       "    </tr>\n",
       "    <tr>\n",
       "      <th>4</th>\n",
       "      <td>5</td>\n",
       "      <td>116</td>\n",
       "      <td>74</td>\n",
       "      <td>0</td>\n",
       "      <td>0</td>\n",
       "      <td>25.6</td>\n",
       "      <td>0.201</td>\n",
       "      <td>30</td>\n",
       "      <td>0</td>\n",
       "    </tr>\n",
       "    <tr>\n",
       "      <th>...</th>\n",
       "      <td>...</td>\n",
       "      <td>...</td>\n",
       "      <td>...</td>\n",
       "      <td>...</td>\n",
       "      <td>...</td>\n",
       "      <td>...</td>\n",
       "      <td>...</td>\n",
       "      <td>...</td>\n",
       "      <td>...</td>\n",
       "    </tr>\n",
       "    <tr>\n",
       "      <th>762</th>\n",
       "      <td>10</td>\n",
       "      <td>101</td>\n",
       "      <td>76</td>\n",
       "      <td>48</td>\n",
       "      <td>180</td>\n",
       "      <td>32.9</td>\n",
       "      <td>0.171</td>\n",
       "      <td>63</td>\n",
       "      <td>0</td>\n",
       "    </tr>\n",
       "    <tr>\n",
       "      <th>763</th>\n",
       "      <td>2</td>\n",
       "      <td>122</td>\n",
       "      <td>70</td>\n",
       "      <td>27</td>\n",
       "      <td>0</td>\n",
       "      <td>36.8</td>\n",
       "      <td>0.340</td>\n",
       "      <td>27</td>\n",
       "      <td>0</td>\n",
       "    </tr>\n",
       "    <tr>\n",
       "      <th>764</th>\n",
       "      <td>5</td>\n",
       "      <td>121</td>\n",
       "      <td>72</td>\n",
       "      <td>23</td>\n",
       "      <td>112</td>\n",
       "      <td>26.2</td>\n",
       "      <td>0.245</td>\n",
       "      <td>30</td>\n",
       "      <td>0</td>\n",
       "    </tr>\n",
       "    <tr>\n",
       "      <th>765</th>\n",
       "      <td>1</td>\n",
       "      <td>126</td>\n",
       "      <td>60</td>\n",
       "      <td>0</td>\n",
       "      <td>0</td>\n",
       "      <td>30.1</td>\n",
       "      <td>0.349</td>\n",
       "      <td>47</td>\n",
       "      <td>1</td>\n",
       "    </tr>\n",
       "    <tr>\n",
       "      <th>766</th>\n",
       "      <td>1</td>\n",
       "      <td>93</td>\n",
       "      <td>70</td>\n",
       "      <td>31</td>\n",
       "      <td>0</td>\n",
       "      <td>30.4</td>\n",
       "      <td>0.315</td>\n",
       "      <td>23</td>\n",
       "      <td>0</td>\n",
       "    </tr>\n",
       "  </tbody>\n",
       "</table>\n",
       "<p>767 rows × 9 columns</p>\n",
       "</div>"
      ],
      "text/plain": [
       "      6  148  72  35    0  33.6  0.627  50  1\n",
       "0     1   85  66  29    0  26.6  0.351  31  0\n",
       "1     8  183  64   0    0  23.3  0.672  32  1\n",
       "2     1   89  66  23   94  28.1  0.167  21  0\n",
       "3     0  137  40  35  168  43.1  2.288  33  1\n",
       "4     5  116  74   0    0  25.6  0.201  30  0\n",
       "..   ..  ...  ..  ..  ...   ...    ...  .. ..\n",
       "762  10  101  76  48  180  32.9  0.171  63  0\n",
       "763   2  122  70  27    0  36.8  0.340  27  0\n",
       "764   5  121  72  23  112  26.2  0.245  30  0\n",
       "765   1  126  60   0    0  30.1  0.349  47  1\n",
       "766   1   93  70  31    0  30.4  0.315  23  0\n",
       "\n",
       "[767 rows x 9 columns]"
      ]
     },
     "execution_count": 3,
     "metadata": {},
     "output_type": "execute_result"
    }
   ],
   "source": [
    "df = pd.read_csv('./data/pima-indians-diabetes.csv')\n",
    "df"
   ]
  },
  {
   "cell_type": "code",
   "execution_count": 30,
   "id": "ddbb36ac",
   "metadata": {
    "ExecuteTime": {
     "end_time": "2022-03-24T05:35:46.853369Z",
     "start_time": "2022-03-24T05:35:46.836289Z"
    }
   },
   "outputs": [
    {
     "data": {
      "text/plain": [
       "(767, 8)"
      ]
     },
     "execution_count": 30,
     "metadata": {},
     "output_type": "execute_result"
    }
   ],
   "source": [
    "y = df.iloc[:,-1]\n",
    "x = df.iloc[:,:-1]\n",
    "x.shape"
   ]
  },
  {
   "cell_type": "code",
   "execution_count": 31,
   "id": "97422f58",
   "metadata": {
    "ExecuteTime": {
     "end_time": "2022-03-24T05:35:47.032892Z",
     "start_time": "2022-03-24T05:35:47.020924Z"
    }
   },
   "outputs": [],
   "source": [
    "# scaler \n",
    "from sklearn.preprocessing import MinMaxScaler\n",
    "scaler = MinMaxScaler()\n",
    "x_sc = scaler.fit_transform(x)\n"
   ]
  },
  {
   "cell_type": "code",
   "execution_count": 32,
   "id": "7b2411a3",
   "metadata": {
    "ExecuteTime": {
     "end_time": "2022-03-24T05:35:47.198452Z",
     "start_time": "2022-03-24T05:35:47.180498Z"
    }
   },
   "outputs": [],
   "source": [
    "# from sklearn.model_selection import train_test_split\n",
    "# x_train, x_test, y_train, y_test = train_test_split(x_sc, y)"
   ]
  },
  {
   "cell_type": "code",
   "execution_count": 33,
   "id": "02576198",
   "metadata": {
    "ExecuteTime": {
     "end_time": "2022-03-24T05:35:47.349049Z",
     "start_time": "2022-03-24T05:35:47.341070Z"
    }
   },
   "outputs": [
    {
     "data": {
      "text/plain": [
       "(575, 8)"
      ]
     },
     "execution_count": 33,
     "metadata": {},
     "output_type": "execute_result"
    }
   ],
   "source": [
    "x_train.shape"
   ]
  },
  {
   "cell_type": "code",
   "execution_count": 34,
   "id": "8ea8e8b6",
   "metadata": {
    "ExecuteTime": {
     "end_time": "2022-03-24T05:35:47.668475Z",
     "start_time": "2022-03-24T05:35:47.563475Z"
    }
   },
   "outputs": [
    {
     "name": "stdout",
     "output_type": "stream",
     "text": [
      "Model: \"sequential_2\"\n",
      "_________________________________________________________________\n",
      " Layer (type)                Output Shape              Param #   \n",
      "=================================================================\n",
      " dense_8 (Dense)             (None, 64)                576       \n",
      "                                                                 \n",
      " dense_9 (Dense)             (None, 32)                2080      \n",
      "                                                                 \n",
      " dropout (Dropout)           (None, 32)                0         \n",
      "                                                                 \n",
      " dense_10 (Dense)            (None, 16)                528       \n",
      "                                                                 \n",
      " dense_11 (Dense)            (None, 1)                 17        \n",
      "                                                                 \n",
      "=================================================================\n",
      "Total params: 3,201\n",
      "Trainable params: 3,201\n",
      "Non-trainable params: 0\n",
      "_________________________________________________________________\n"
     ]
    }
   ],
   "source": [
    "model = Sequential()\n",
    "model.add(Dense(64, input_dim=8, activation='relu'))\n",
    "model.add(Dense(32,activation='relu'))\n",
    "model.add(Dropout(0.3))\n",
    "model.add(Dense(16,activation='relu'))\n",
    "model.add(Dense(1,activation='sigmoid'))\n",
    "model.summary()"
   ]
  },
  {
   "cell_type": "code",
   "execution_count": 35,
   "id": "122cd3b4",
   "metadata": {
    "ExecuteTime": {
     "end_time": "2022-03-24T05:35:48.255220Z",
     "start_time": "2022-03-24T05:35:48.243730Z"
    }
   },
   "outputs": [],
   "source": [
    "model.compile(loss='binary_crossentropy',metrics=['accuracy'],optimizer='adam')"
   ]
  },
  {
   "cell_type": "code",
   "execution_count": 36,
   "id": "6192447d",
   "metadata": {
    "ExecuteTime": {
     "end_time": "2022-03-24T05:36:11.376448Z",
     "start_time": "2022-03-24T05:35:52.644398Z"
    }
   },
   "outputs": [
    {
     "name": "stdout",
     "output_type": "stream",
     "text": [
      "Epoch 1/100\n",
      "62/62 [==============================] - 1s 5ms/step - loss: 0.6684 - accuracy: 0.6378 - val_loss: 0.6514 - val_accuracy: 0.6429\n",
      "Epoch 2/100\n",
      "62/62 [==============================] - 0s 4ms/step - loss: 0.6413 - accuracy: 0.6607 - val_loss: 0.6264 - val_accuracy: 0.6429\n",
      "Epoch 3/100\n",
      "62/62 [==============================] - 0s 3ms/step - loss: 0.6218 - accuracy: 0.6672 - val_loss: 0.6014 - val_accuracy: 0.6494\n",
      "Epoch 4/100\n",
      "62/62 [==============================] - 0s 3ms/step - loss: 0.5926 - accuracy: 0.7047 - val_loss: 0.5765 - val_accuracy: 0.6299\n",
      "Epoch 5/100\n",
      "62/62 [==============================] - 0s 3ms/step - loss: 0.5816 - accuracy: 0.6982 - val_loss: 0.5478 - val_accuracy: 0.6558\n",
      "Epoch 6/100\n",
      "62/62 [==============================] - 0s 3ms/step - loss: 0.5594 - accuracy: 0.7015 - val_loss: 0.5182 - val_accuracy: 0.7532\n",
      "Epoch 7/100\n",
      "62/62 [==============================] - 0s 3ms/step - loss: 0.5394 - accuracy: 0.7374 - val_loss: 0.5246 - val_accuracy: 0.7143\n",
      "Epoch 8/100\n",
      "62/62 [==============================] - 0s 2ms/step - loss: 0.5267 - accuracy: 0.7423 - val_loss: 0.4976 - val_accuracy: 0.7338\n",
      "Epoch 9/100\n",
      "62/62 [==============================] - 0s 2ms/step - loss: 0.4934 - accuracy: 0.7602 - val_loss: 0.5012 - val_accuracy: 0.7208\n",
      "Epoch 10/100\n",
      "62/62 [==============================] - 0s 2ms/step - loss: 0.5069 - accuracy: 0.7716 - val_loss: 0.4732 - val_accuracy: 0.8182\n",
      "Epoch 11/100\n",
      "62/62 [==============================] - 0s 2ms/step - loss: 0.4862 - accuracy: 0.7586 - val_loss: 0.4934 - val_accuracy: 0.7468\n",
      "Epoch 12/100\n",
      "62/62 [==============================] - 0s 2ms/step - loss: 0.4808 - accuracy: 0.7945 - val_loss: 0.4646 - val_accuracy: 0.7792\n",
      "Epoch 13/100\n",
      "62/62 [==============================] - 0s 3ms/step - loss: 0.4817 - accuracy: 0.7765 - val_loss: 0.4674 - val_accuracy: 0.7532\n",
      "Epoch 14/100\n",
      "62/62 [==============================] - 0s 2ms/step - loss: 0.4714 - accuracy: 0.7847 - val_loss: 0.4813 - val_accuracy: 0.7857\n",
      "Epoch 15/100\n",
      "62/62 [==============================] - 0s 2ms/step - loss: 0.4815 - accuracy: 0.7569 - val_loss: 0.4601 - val_accuracy: 0.8052\n",
      "Epoch 16/100\n",
      "62/62 [==============================] - 0s 2ms/step - loss: 0.4760 - accuracy: 0.7667 - val_loss: 0.4558 - val_accuracy: 0.7922\n",
      "Epoch 17/100\n",
      "62/62 [==============================] - 0s 2ms/step - loss: 0.4701 - accuracy: 0.7847 - val_loss: 0.4552 - val_accuracy: 0.8182\n",
      "Epoch 18/100\n",
      "62/62 [==============================] - 0s 2ms/step - loss: 0.4662 - accuracy: 0.7781 - val_loss: 0.4628 - val_accuracy: 0.8117\n",
      "Epoch 19/100\n",
      "62/62 [==============================] - 0s 2ms/step - loss: 0.4632 - accuracy: 0.7781 - val_loss: 0.4633 - val_accuracy: 0.7987\n",
      "Epoch 20/100\n",
      "62/62 [==============================] - 0s 3ms/step - loss: 0.4494 - accuracy: 0.8010 - val_loss: 0.4927 - val_accuracy: 0.7857\n",
      "Epoch 21/100\n",
      "62/62 [==============================] - 0s 3ms/step - loss: 0.4531 - accuracy: 0.7961 - val_loss: 0.4676 - val_accuracy: 0.7857\n",
      "Epoch 22/100\n",
      "62/62 [==============================] - 0s 3ms/step - loss: 0.4566 - accuracy: 0.7896 - val_loss: 0.4672 - val_accuracy: 0.7922\n",
      "Epoch 23/100\n",
      "62/62 [==============================] - 0s 3ms/step - loss: 0.4613 - accuracy: 0.7749 - val_loss: 0.5108 - val_accuracy: 0.7403\n",
      "Epoch 24/100\n",
      "62/62 [==============================] - 0s 3ms/step - loss: 0.4598 - accuracy: 0.7847 - val_loss: 0.4711 - val_accuracy: 0.7597\n",
      "Epoch 25/100\n",
      "62/62 [==============================] - 0s 3ms/step - loss: 0.4623 - accuracy: 0.7847 - val_loss: 0.4686 - val_accuracy: 0.7922\n",
      "Epoch 26/100\n",
      "62/62 [==============================] - 0s 3ms/step - loss: 0.4524 - accuracy: 0.7781 - val_loss: 0.4670 - val_accuracy: 0.7727\n",
      "Epoch 27/100\n",
      "62/62 [==============================] - 0s 2ms/step - loss: 0.4420 - accuracy: 0.8010 - val_loss: 0.4836 - val_accuracy: 0.8182\n",
      "Epoch 28/100\n",
      "62/62 [==============================] - 0s 3ms/step - loss: 0.4391 - accuracy: 0.8010 - val_loss: 0.4742 - val_accuracy: 0.7597\n",
      "Epoch 29/100\n",
      "62/62 [==============================] - 0s 3ms/step - loss: 0.4338 - accuracy: 0.7879 - val_loss: 0.4749 - val_accuracy: 0.7922\n",
      "Epoch 30/100\n",
      "62/62 [==============================] - 0s 3ms/step - loss: 0.4524 - accuracy: 0.7847 - val_loss: 0.4721 - val_accuracy: 0.7792\n",
      "Epoch 31/100\n",
      "62/62 [==============================] - 0s 3ms/step - loss: 0.4618 - accuracy: 0.7863 - val_loss: 0.4604 - val_accuracy: 0.7857\n",
      "Epoch 32/100\n",
      "62/62 [==============================] - 0s 3ms/step - loss: 0.4427 - accuracy: 0.7814 - val_loss: 0.4652 - val_accuracy: 0.7857\n",
      "Epoch 33/100\n",
      "62/62 [==============================] - 0s 3ms/step - loss: 0.4364 - accuracy: 0.7945 - val_loss: 0.4493 - val_accuracy: 0.8052\n",
      "Epoch 34/100\n",
      "62/62 [==============================] - 0s 3ms/step - loss: 0.4398 - accuracy: 0.7945 - val_loss: 0.4567 - val_accuracy: 0.8182\n",
      "Epoch 35/100\n",
      "62/62 [==============================] - 0s 3ms/step - loss: 0.4343 - accuracy: 0.8010 - val_loss: 0.4752 - val_accuracy: 0.7662\n",
      "Epoch 36/100\n",
      "62/62 [==============================] - 0s 3ms/step - loss: 0.4453 - accuracy: 0.7814 - val_loss: 0.4808 - val_accuracy: 0.7662\n",
      "Epoch 37/100\n",
      "62/62 [==============================] - 0s 3ms/step - loss: 0.4453 - accuracy: 0.7912 - val_loss: 0.4653 - val_accuracy: 0.7662\n",
      "Epoch 38/100\n",
      "62/62 [==============================] - 0s 3ms/step - loss: 0.4401 - accuracy: 0.7863 - val_loss: 0.4514 - val_accuracy: 0.8182\n",
      "Epoch 39/100\n",
      "62/62 [==============================] - 0s 3ms/step - loss: 0.4356 - accuracy: 0.7961 - val_loss: 0.4654 - val_accuracy: 0.8052\n",
      "Epoch 40/100\n",
      "62/62 [==============================] - 0s 3ms/step - loss: 0.4358 - accuracy: 0.7863 - val_loss: 0.4680 - val_accuracy: 0.7987\n",
      "Epoch 41/100\n",
      "62/62 [==============================] - 0s 3ms/step - loss: 0.4413 - accuracy: 0.7977 - val_loss: 0.4874 - val_accuracy: 0.7532\n",
      "Epoch 42/100\n",
      "62/62 [==============================] - 0s 3ms/step - loss: 0.4272 - accuracy: 0.7928 - val_loss: 0.4782 - val_accuracy: 0.7922\n",
      "Epoch 43/100\n",
      "62/62 [==============================] - 0s 3ms/step - loss: 0.4342 - accuracy: 0.7879 - val_loss: 0.4720 - val_accuracy: 0.7727\n",
      "Epoch 44/100\n",
      "62/62 [==============================] - 0s 2ms/step - loss: 0.4305 - accuracy: 0.7961 - val_loss: 0.4711 - val_accuracy: 0.8182\n",
      "Epoch 45/100\n",
      "62/62 [==============================] - 0s 3ms/step - loss: 0.4397 - accuracy: 0.7896 - val_loss: 0.4780 - val_accuracy: 0.7857\n",
      "Epoch 46/100\n",
      "62/62 [==============================] - 0s 3ms/step - loss: 0.4144 - accuracy: 0.8042 - val_loss: 0.4680 - val_accuracy: 0.8117\n",
      "Epoch 47/100\n",
      "62/62 [==============================] - 0s 2ms/step - loss: 0.4316 - accuracy: 0.7961 - val_loss: 0.4600 - val_accuracy: 0.8377\n",
      "Epoch 48/100\n",
      "62/62 [==============================] - 0s 2ms/step - loss: 0.4236 - accuracy: 0.7977 - val_loss: 0.4689 - val_accuracy: 0.7857\n",
      "Epoch 49/100\n",
      "62/62 [==============================] - 0s 2ms/step - loss: 0.4205 - accuracy: 0.8026 - val_loss: 0.4654 - val_accuracy: 0.8117\n",
      "Epoch 50/100\n",
      "62/62 [==============================] - 0s 3ms/step - loss: 0.4134 - accuracy: 0.8026 - val_loss: 0.4687 - val_accuracy: 0.8182\n",
      "Epoch 51/100\n",
      "62/62 [==============================] - 0s 2ms/step - loss: 0.4276 - accuracy: 0.8026 - val_loss: 0.4728 - val_accuracy: 0.8052\n",
      "Epoch 52/100\n",
      "62/62 [==============================] - 0s 3ms/step - loss: 0.4266 - accuracy: 0.7879 - val_loss: 0.4710 - val_accuracy: 0.8052\n",
      "Epoch 53/100\n",
      "62/62 [==============================] - 0s 3ms/step - loss: 0.4245 - accuracy: 0.7896 - val_loss: 0.4701 - val_accuracy: 0.8182\n",
      "Epoch 54/100\n",
      "62/62 [==============================] - 0s 3ms/step - loss: 0.4100 - accuracy: 0.7945 - val_loss: 0.4677 - val_accuracy: 0.8182\n",
      "Epoch 55/100\n",
      "62/62 [==============================] - 0s 3ms/step - loss: 0.4131 - accuracy: 0.8026 - val_loss: 0.5063 - val_accuracy: 0.7662\n",
      "Epoch 56/100\n",
      "62/62 [==============================] - 0s 3ms/step - loss: 0.4161 - accuracy: 0.8075 - val_loss: 0.4760 - val_accuracy: 0.8117\n",
      "Epoch 57/100\n",
      "62/62 [==============================] - 0s 3ms/step - loss: 0.4203 - accuracy: 0.7961 - val_loss: 0.4660 - val_accuracy: 0.8312\n",
      "Epoch 58/100\n",
      "62/62 [==============================] - 0s 3ms/step - loss: 0.4109 - accuracy: 0.8059 - val_loss: 0.4760 - val_accuracy: 0.8182\n"
     ]
    },
    {
     "name": "stdout",
     "output_type": "stream",
     "text": [
      "Epoch 59/100\n",
      "62/62 [==============================] - 0s 5ms/step - loss: 0.4152 - accuracy: 0.8010 - val_loss: 0.4872 - val_accuracy: 0.7922\n",
      "Epoch 60/100\n",
      "62/62 [==============================] - 0s 3ms/step - loss: 0.4147 - accuracy: 0.8075 - val_loss: 0.4950 - val_accuracy: 0.7792\n",
      "Epoch 61/100\n",
      "62/62 [==============================] - 0s 4ms/step - loss: 0.4291 - accuracy: 0.8026 - val_loss: 0.4708 - val_accuracy: 0.8247\n",
      "Epoch 62/100\n",
      "62/62 [==============================] - 0s 3ms/step - loss: 0.4159 - accuracy: 0.7961 - val_loss: 0.4888 - val_accuracy: 0.7987\n",
      "Epoch 63/100\n",
      "62/62 [==============================] - 0s 4ms/step - loss: 0.4261 - accuracy: 0.7912 - val_loss: 0.4731 - val_accuracy: 0.8182\n",
      "Epoch 64/100\n",
      "62/62 [==============================] - 0s 3ms/step - loss: 0.4113 - accuracy: 0.8091 - val_loss: 0.4830 - val_accuracy: 0.8247\n",
      "Epoch 65/100\n",
      "62/62 [==============================] - 0s 3ms/step - loss: 0.4108 - accuracy: 0.8173 - val_loss: 0.4828 - val_accuracy: 0.7922\n",
      "Epoch 66/100\n",
      "62/62 [==============================] - 0s 3ms/step - loss: 0.4058 - accuracy: 0.8140 - val_loss: 0.4670 - val_accuracy: 0.8247\n",
      "Epoch 67/100\n",
      "62/62 [==============================] - 0s 3ms/step - loss: 0.4150 - accuracy: 0.7977 - val_loss: 0.4946 - val_accuracy: 0.7792\n",
      "Epoch 68/100\n",
      "62/62 [==============================] - 0s 3ms/step - loss: 0.4239 - accuracy: 0.7977 - val_loss: 0.4951 - val_accuracy: 0.7987\n",
      "Epoch 69/100\n",
      "62/62 [==============================] - 0s 3ms/step - loss: 0.4040 - accuracy: 0.8042 - val_loss: 0.4839 - val_accuracy: 0.8052\n",
      "Epoch 70/100\n",
      "62/62 [==============================] - 0s 3ms/step - loss: 0.4128 - accuracy: 0.8108 - val_loss: 0.4826 - val_accuracy: 0.7987\n",
      "Epoch 71/100\n",
      "62/62 [==============================] - 0s 4ms/step - loss: 0.3959 - accuracy: 0.8189 - val_loss: 0.4976 - val_accuracy: 0.7857\n",
      "Epoch 72/100\n",
      "62/62 [==============================] - 0s 4ms/step - loss: 0.3992 - accuracy: 0.8042 - val_loss: 0.4882 - val_accuracy: 0.8052\n",
      "Epoch 73/100\n",
      "62/62 [==============================] - 0s 3ms/step - loss: 0.4084 - accuracy: 0.8026 - val_loss: 0.4877 - val_accuracy: 0.8182\n",
      "Epoch 74/100\n",
      "62/62 [==============================] - 0s 3ms/step - loss: 0.4094 - accuracy: 0.7977 - val_loss: 0.4965 - val_accuracy: 0.8312\n",
      "Epoch 75/100\n",
      "62/62 [==============================] - 0s 3ms/step - loss: 0.4041 - accuracy: 0.8189 - val_loss: 0.4961 - val_accuracy: 0.8117\n",
      "Epoch 76/100\n",
      "62/62 [==============================] - 0s 4ms/step - loss: 0.3994 - accuracy: 0.7961 - val_loss: 0.4889 - val_accuracy: 0.8247\n",
      "Epoch 77/100\n",
      "62/62 [==============================] - 0s 3ms/step - loss: 0.3985 - accuracy: 0.8189 - val_loss: 0.4874 - val_accuracy: 0.8247\n",
      "Epoch 78/100\n",
      "62/62 [==============================] - 0s 3ms/step - loss: 0.4010 - accuracy: 0.8091 - val_loss: 0.5045 - val_accuracy: 0.7987\n",
      "Epoch 79/100\n",
      "62/62 [==============================] - 0s 3ms/step - loss: 0.3925 - accuracy: 0.8173 - val_loss: 0.5012 - val_accuracy: 0.7922\n",
      "Epoch 80/100\n",
      "62/62 [==============================] - 0s 3ms/step - loss: 0.3974 - accuracy: 0.8075 - val_loss: 0.5056 - val_accuracy: 0.8052\n",
      "Epoch 81/100\n",
      "62/62 [==============================] - 0s 2ms/step - loss: 0.3888 - accuracy: 0.8157 - val_loss: 0.4947 - val_accuracy: 0.8247\n",
      "Epoch 82/100\n",
      "62/62 [==============================] - 0s 2ms/step - loss: 0.3903 - accuracy: 0.8157 - val_loss: 0.5065 - val_accuracy: 0.7857\n",
      "Epoch 83/100\n",
      "62/62 [==============================] - 0s 3ms/step - loss: 0.3897 - accuracy: 0.8091 - val_loss: 0.4908 - val_accuracy: 0.8052\n",
      "Epoch 84/100\n",
      "62/62 [==============================] - 0s 2ms/step - loss: 0.3882 - accuracy: 0.8189 - val_loss: 0.5241 - val_accuracy: 0.7792\n",
      "Epoch 85/100\n",
      "62/62 [==============================] - 0s 3ms/step - loss: 0.3943 - accuracy: 0.8206 - val_loss: 0.4922 - val_accuracy: 0.7987\n",
      "Epoch 86/100\n",
      "62/62 [==============================] - 0s 2ms/step - loss: 0.3988 - accuracy: 0.8124 - val_loss: 0.4968 - val_accuracy: 0.8182\n",
      "Epoch 87/100\n",
      "62/62 [==============================] - 0s 2ms/step - loss: 0.3919 - accuracy: 0.8206 - val_loss: 0.5014 - val_accuracy: 0.8052\n",
      "Epoch 88/100\n",
      "62/62 [==============================] - 0s 2ms/step - loss: 0.3920 - accuracy: 0.8222 - val_loss: 0.5201 - val_accuracy: 0.7987\n",
      "Epoch 89/100\n",
      "62/62 [==============================] - 0s 2ms/step - loss: 0.3874 - accuracy: 0.8157 - val_loss: 0.5130 - val_accuracy: 0.8117\n",
      "Epoch 90/100\n",
      "62/62 [==============================] - 0s 3ms/step - loss: 0.3798 - accuracy: 0.8303 - val_loss: 0.5241 - val_accuracy: 0.8052\n",
      "Epoch 91/100\n",
      "62/62 [==============================] - 0s 3ms/step - loss: 0.3975 - accuracy: 0.8091 - val_loss: 0.4988 - val_accuracy: 0.8117\n",
      "Epoch 92/100\n",
      "62/62 [==============================] - 0s 3ms/step - loss: 0.3893 - accuracy: 0.8173 - val_loss: 0.5139 - val_accuracy: 0.8052\n",
      "Epoch 93/100\n",
      "62/62 [==============================] - 0s 3ms/step - loss: 0.3834 - accuracy: 0.8173 - val_loss: 0.5276 - val_accuracy: 0.7987\n",
      "Epoch 94/100\n",
      "62/62 [==============================] - 0s 3ms/step - loss: 0.3849 - accuracy: 0.8189 - val_loss: 0.5265 - val_accuracy: 0.7987\n",
      "Epoch 95/100\n",
      "62/62 [==============================] - 0s 3ms/step - loss: 0.3775 - accuracy: 0.8206 - val_loss: 0.5120 - val_accuracy: 0.8182\n",
      "Epoch 96/100\n",
      "62/62 [==============================] - 0s 3ms/step - loss: 0.3912 - accuracy: 0.8336 - val_loss: 0.5081 - val_accuracy: 0.8182\n",
      "Epoch 97/100\n",
      "62/62 [==============================] - 0s 3ms/step - loss: 0.3830 - accuracy: 0.8287 - val_loss: 0.5099 - val_accuracy: 0.8052\n",
      "Epoch 98/100\n",
      "62/62 [==============================] - 0s 2ms/step - loss: 0.3809 - accuracy: 0.8157 - val_loss: 0.5243 - val_accuracy: 0.8052\n",
      "Epoch 99/100\n",
      "62/62 [==============================] - 0s 3ms/step - loss: 0.3739 - accuracy: 0.8173 - val_loss: 0.5072 - val_accuracy: 0.8117\n",
      "Epoch 100/100\n",
      "62/62 [==============================] - 0s 3ms/step - loss: 0.3810 - accuracy: 0.8206 - val_loss: 0.5129 - val_accuracy: 0.8052\n"
     ]
    }
   ],
   "source": [
    "hist =model.fit(x_sc,y,epochs=100,batch_size=10,validation_split=0.2)"
   ]
  },
  {
   "cell_type": "code",
   "execution_count": 13,
   "id": "1f970be3",
   "metadata": {
    "ExecuteTime": {
     "end_time": "2022-03-24T05:25:38.468814Z",
     "start_time": "2022-03-24T05:25:38.372559Z"
    }
   },
   "outputs": [
    {
     "data": {
      "text/plain": [
       "array([[0.9430442 ],\n",
       "       [0.93659055],\n",
       "       [0.8939344 ],\n",
       "       [0.37536287],\n",
       "       [0.8013768 ],\n",
       "       [0.8199415 ],\n",
       "       [0.08226529],\n",
       "       [0.60786235],\n",
       "       [0.11292541],\n",
       "       [0.12060231],\n",
       "       [0.82387   ],\n",
       "       [0.89589185],\n",
       "       [0.93063873],\n",
       "       [0.9639517 ],\n",
       "       [0.60203534],\n",
       "       [0.9309675 ],\n",
       "       [0.05438647],\n",
       "       [0.11682084],\n",
       "       [0.37937185],\n",
       "       [0.9812726 ],\n",
       "       [0.05007392],\n",
       "       [0.02679405],\n",
       "       [0.19559652],\n",
       "       [0.06815222],\n",
       "       [0.9377263 ],\n",
       "       [0.9889833 ],\n",
       "       [0.9338372 ],\n",
       "       [0.10689068],\n",
       "       [0.19697282],\n",
       "       [0.6245034 ],\n",
       "       [0.8730099 ],\n",
       "       [0.03400853],\n",
       "       [0.39166445],\n",
       "       [0.12665829],\n",
       "       [0.47383964],\n",
       "       [0.9863324 ],\n",
       "       [0.8629889 ],\n",
       "       [0.7140976 ],\n",
       "       [0.9191111 ],\n",
       "       [0.21035913],\n",
       "       [0.5235906 ],\n",
       "       [0.6895739 ],\n",
       "       [0.69471693],\n",
       "       [0.6044873 ],\n",
       "       [0.10987025],\n",
       "       [0.9079665 ],\n",
       "       [0.07016328],\n",
       "       [0.6375985 ],\n",
       "       [0.5832696 ],\n",
       "       [0.1838269 ],\n",
       "       [0.3183778 ],\n",
       "       [0.14570868],\n",
       "       [0.17823821],\n",
       "       [0.47983193],\n",
       "       [0.34767556],\n",
       "       [0.4205904 ],\n",
       "       [0.15972546],\n",
       "       [0.02050096],\n",
       "       [0.57904816],\n",
       "       [0.06087068],\n",
       "       [0.95178974],\n",
       "       [0.48315704],\n",
       "       [0.03673786],\n",
       "       [0.93957484],\n",
       "       [0.9080492 ],\n",
       "       [0.09487379],\n",
       "       [0.02693474],\n",
       "       [0.06033069],\n",
       "       [0.14404693],\n",
       "       [0.00983903],\n",
       "       [0.6073118 ],\n",
       "       [0.82278705],\n",
       "       [0.8815236 ],\n",
       "       [0.42480102],\n",
       "       [0.04809764],\n",
       "       [0.8526446 ],\n",
       "       [0.0294812 ],\n",
       "       [0.37577358],\n",
       "       [0.18057734],\n",
       "       [0.00361037],\n",
       "       [0.05718738],\n",
       "       [0.7913764 ],\n",
       "       [0.9482043 ],\n",
       "       [0.92820466],\n",
       "       [0.7996838 ],\n",
       "       [0.03743818],\n",
       "       [0.02346316],\n",
       "       [0.51613116],\n",
       "       [0.8782028 ],\n",
       "       [0.3819078 ],\n",
       "       [0.21436605],\n",
       "       [0.07772166],\n",
       "       [0.76826304],\n",
       "       [0.05383548],\n",
       "       [0.6528268 ],\n",
       "       [0.97714424],\n",
       "       [0.23107252],\n",
       "       [0.4515613 ],\n",
       "       [0.00700518],\n",
       "       [0.47903067],\n",
       "       [0.7702925 ],\n",
       "       [0.792078  ],\n",
       "       [0.92379516],\n",
       "       [0.27588156],\n",
       "       [0.17808738],\n",
       "       [0.6302475 ],\n",
       "       [0.71907806],\n",
       "       [0.009772  ],\n",
       "       [0.0687049 ],\n",
       "       [0.0946233 ],\n",
       "       [0.8943117 ],\n",
       "       [0.9344115 ],\n",
       "       [0.9167412 ],\n",
       "       [0.8861109 ],\n",
       "       [0.04899183],\n",
       "       [0.7595943 ],\n",
       "       [0.17357361],\n",
       "       [0.66368103],\n",
       "       [0.4860305 ],\n",
       "       [0.06413028],\n",
       "       [0.3135956 ],\n",
       "       [0.5701807 ],\n",
       "       [0.11989039],\n",
       "       [0.27425188],\n",
       "       [0.9369744 ],\n",
       "       [0.22519338],\n",
       "       [0.97680163],\n",
       "       [0.9600632 ],\n",
       "       [0.01543662],\n",
       "       [0.52136225],\n",
       "       [0.07874829],\n",
       "       [0.01639736],\n",
       "       [0.80914116],\n",
       "       [0.74896884],\n",
       "       [0.01005098],\n",
       "       [0.4203801 ],\n",
       "       [0.79664695],\n",
       "       [0.02704382],\n",
       "       [0.04034674],\n",
       "       [0.7228563 ],\n",
       "       [0.01675057],\n",
       "       [0.49003923],\n",
       "       [0.7130416 ],\n",
       "       [0.33054027],\n",
       "       [0.6580764 ],\n",
       "       [0.00845057],\n",
       "       [0.25037777],\n",
       "       [0.11680627],\n",
       "       [0.1437799 ],\n",
       "       [0.83856237],\n",
       "       [0.2950095 ],\n",
       "       [0.2460931 ],\n",
       "       [0.01681042],\n",
       "       [0.11392322],\n",
       "       [0.33389705],\n",
       "       [0.00512874],\n",
       "       [0.45998278],\n",
       "       [0.06436408],\n",
       "       [0.3900122 ],\n",
       "       [0.01505759],\n",
       "       [0.01651561],\n",
       "       [0.08029217],\n",
       "       [0.95225334],\n",
       "       [0.4974529 ],\n",
       "       [0.09746936],\n",
       "       [0.3957735 ],\n",
       "       [0.63872623],\n",
       "       [0.3738032 ],\n",
       "       [0.1685451 ],\n",
       "       [0.40660292],\n",
       "       [0.19188645],\n",
       "       [0.03776672],\n",
       "       [0.9613625 ],\n",
       "       [0.02854097],\n",
       "       [0.9296187 ],\n",
       "       [0.7252859 ],\n",
       "       [0.80535275],\n",
       "       [0.921157  ],\n",
       "       [0.34902242],\n",
       "       [0.22273475],\n",
       "       [0.01131034],\n",
       "       [0.98416215],\n",
       "       [0.01277477],\n",
       "       [0.11391541],\n",
       "       [0.01174089],\n",
       "       [0.06618756],\n",
       "       [0.61327183],\n",
       "       [0.00726092],\n",
       "       [0.06234357],\n",
       "       [0.0205676 ],\n",
       "       [0.02103531],\n",
       "       [0.41101778]], dtype=float32)"
      ]
     },
     "execution_count": 13,
     "metadata": {},
     "output_type": "execute_result"
    }
   ],
   "source": [
    "preds = model.predict(x_test)\n",
    "preds"
   ]
  },
  {
   "cell_type": "code",
   "execution_count": null,
   "id": "7e43b38c",
   "metadata": {
    "ExecuteTime": {
     "end_time": "2022-03-24T05:30:53.781715Z",
     "start_time": "2022-03-24T05:30:53.691735Z"
    }
   },
   "outputs": [],
   "source": []
  },
  {
   "cell_type": "code",
   "execution_count": 37,
   "id": "74c513ae",
   "metadata": {
    "ExecuteTime": {
     "end_time": "2022-03-24T05:36:15.534730Z",
     "start_time": "2022-03-24T05:36:15.331760Z"
    }
   },
   "outputs": [
    {
     "data": {
      "text/plain": [
       "[<matplotlib.lines.Line2D at 0x1b852bdb310>]"
      ]
     },
     "execution_count": 37,
     "metadata": {},
     "output_type": "execute_result"
    },
    {
     "data": {
      "image/png": "[encoded data removed]",
      "text/plain": [
       "<Figure size 432x288 with 1 Axes>"
      ]
     },
     "metadata": {
      "needs_background": "light"
     },
     "output_type": "display_data"
    }
   ],
   "source": [
    "plt.plot(hist.history['loss'])\n",
    "plt.plot(hist.history['val_loss'])"
   ]
  },
  {
   "cell_type": "code",
   "execution_count": 38,
   "id": "4a7e0d6d",
   "metadata": {
    "ExecuteTime": {
     "end_time": "2022-03-24T05:37:46.232243Z",
     "start_time": "2022-03-24T05:37:45.988345Z"
    }
   },
   "outputs": [
    {
     "data": {
      "text/plain": [
       "[<matplotlib.lines.Line2D at 0x1b85461dc10>]"
      ]
     },
     "execution_count": 38,
     "metadata": {},
     "output_type": "execute_result"
    },
    {
     "data": {
      "image/png": "[encoded data removed]",
      "text/plain": [
       "<Figure size 432x288 with 1 Axes>"
      ]
     },
     "metadata": {
      "needs_background": "light"
     },
     "output_type": "display_data"
    }
   ],
   "source": [
    "plt.plot(hist.history['accuracy'])\n",
    "plt.plot(hist.history['val_accuracy'])"
   ]
  },
  {
   "cell_type": "code",
   "execution_count": null,
   "id": "da6e7466",
   "metadata": {},
   "outputs": [],
   "source": []
  }
 ],
 "metadata": {
  "kernelspec": {
   "display_name": "Python 3 (ipykernel)",
   "language": "python",
   "name": "python3"
  },
  "language_info": {
   "codemirror_mode": {
    "name": "ipython",
    "version": 3
   },
   "file_extension": ".py",
   "mimetype": "text/x-python",
   "name": "python",
   "nbconvert_exporter": "python",
   "pygments_lexer": "ipython3",
   "version": "3.9.7"
  },
  "toc": {
   "base_numbering": 1,
   "nav_menu": {},
   "number_sections": true,
   "sideBar": true,
   "skip_h1_title": false,
   "title_cell": "Table of Contents",
   "title_sidebar": "Contents",
   "toc_cell": false,
   "toc_position": {},
   "toc_section_display": true,
   "toc_window_display": false
  },
  "varInspector": {
   "cols": {
    "lenName": 16,
    "lenType": 16,
    "lenVar": 40
   },
   "kernels_config": {
    "python": {
     "delete_cmd_postfix": "",
     "delete_cmd_prefix": "del ",
     "library": "var_list.py",
     "varRefreshCmd": "print(var_dic_list())"
    },
    "r": {
     "delete_cmd_postfix": ") ",
     "delete_cmd_prefix": "rm(",
     "library": "var_list.r",
     "varRefreshCmd": "cat(var_dic_list()) "
    }
   },
   "types_to_exclude": [
    "module",
    "function",
    "builtin_function_or_method",
    "instance",
    "_Feature"
   ],
   "window_display": false
  }
 },
 "nbformat": 4,
 "nbformat_minor": 5
}
