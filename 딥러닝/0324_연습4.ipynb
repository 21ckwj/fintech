{
 "cells": [
  {
   "cell_type": "code",
   "execution_count": 1,
   "id": "d4f2af5f",
   "metadata": {
    "ExecuteTime": {
     "end_time": "2022-03-24T06:13:55.029683Z",
     "start_time": "2022-03-24T06:13:54.219528Z"
    }
   },
   "outputs": [],
   "source": [
    "import pandas as pd\n",
    "import numpy as np\n",
    "import matplotlib.pyplot as plt"
   ]
  },
  {
   "cell_type": "code",
   "execution_count": 2,
   "id": "138da35e",
   "metadata": {
    "ExecuteTime": {
     "end_time": "2022-03-24T06:14:57.703523Z",
     "start_time": "2022-03-24T06:14:57.688433Z"
    }
   },
   "outputs": [],
   "source": [
    "from tensorflow.keras.models import Sequential\n",
    "from tensorflow.keras.layers import *\n",
    "import tensorflow as tf"
   ]
  },
  {
   "cell_type": "code",
   "execution_count": 6,
   "id": "2019fe3e",
   "metadata": {
    "ExecuteTime": {
     "end_time": "2022-03-24T06:19:25.406643Z",
     "start_time": "2022-03-24T06:19:25.389138Z"
    }
   },
   "outputs": [],
   "source": [
    "from tensorflow.keras.datasets import cifar100\n",
    "\n",
    "import ssl\n",
    "ssl._create_default_https_context = ssl._create_unverified_context"
   ]
  },
  {
   "cell_type": "code",
   "execution_count": 7,
   "id": "f6146d4d",
   "metadata": {
    "ExecuteTime": {
     "end_time": "2022-03-24T06:20:34.793686Z",
     "start_time": "2022-03-24T06:19:26.325057Z"
    }
   },
   "outputs": [
    {
     "name": "stdout",
     "output_type": "stream",
     "text": [
      "Downloading data from https://www.cs.toronto.edu/~kriz/cifar-100-python.tar.gz\n",
      "169009152/169001437 [==============================] - 66s 0us/step\n",
      "169017344/169001437 [==============================] - 66s 0us/step\n"
     ]
    }
   ],
   "source": [
    "(x_train, y_train), (x_test,y_test) = cifar100.load_data()"
   ]
  },
  {
   "cell_type": "code",
   "execution_count": 29,
   "id": "18dd418f",
   "metadata": {
    "ExecuteTime": {
     "end_time": "2022-03-24T06:45:51.642579Z",
     "start_time": "2022-03-24T06:45:51.629646Z"
    }
   },
   "outputs": [
    {
     "name": "stdout",
     "output_type": "stream",
     "text": [
      "(50000, 32, 32, 3) (50000, 1)\n"
     ]
    }
   ],
   "source": [
    "print(x_train.shape,y_train.shape)"
   ]
  },
  {
   "cell_type": "code",
   "execution_count": 38,
   "id": "1cce9bec",
   "metadata": {
    "ExecuteTime": {
     "end_time": "2022-03-24T06:51:31.796200Z",
     "start_time": "2022-03-24T06:51:31.783195Z"
    }
   },
   "outputs": [],
   "source": [
    "x_train1 = x_train[:1000]\n",
    "y_train1 = y_train[:1000]\n",
    "x_test1 = x_test[:1000]\n",
    "y_test1 = y_test[:1000]"
   ]
  },
  {
   "cell_type": "code",
   "execution_count": 39,
   "id": "0c2a1cc8",
   "metadata": {
    "ExecuteTime": {
     "end_time": "2022-03-24T06:51:32.026920Z",
     "start_time": "2022-03-24T06:51:32.005642Z"
    }
   },
   "outputs": [
    {
     "data": {
      "text/plain": [
       "array([[[[255, 255, 255],\n",
       "         [255, 255, 255],\n",
       "         [255, 255, 255],\n",
       "         ...,\n",
       "         [195, 205, 193],\n",
       "         [212, 224, 204],\n",
       "         [182, 194, 167]],\n",
       "\n",
       "        [[255, 255, 255],\n",
       "         [254, 254, 254],\n",
       "         [254, 254, 254],\n",
       "         ...,\n",
       "         [170, 176, 150],\n",
       "         [161, 168, 130],\n",
       "         [146, 154, 113]],\n",
       "\n",
       "        [[255, 255, 255],\n",
       "         [254, 254, 254],\n",
       "         [255, 255, 255],\n",
       "         ...,\n",
       "         [189, 199, 169],\n",
       "         [166, 178, 130],\n",
       "         [121, 133,  87]],\n",
       "\n",
       "        ...,\n",
       "\n",
       "        [[148, 185,  79],\n",
       "         [142, 182,  57],\n",
       "         [140, 179,  60],\n",
       "         ...,\n",
       "         [ 30,  17,   1],\n",
       "         [ 65,  62,  15],\n",
       "         [ 76,  77,  20]],\n",
       "\n",
       "        [[122, 157,  66],\n",
       "         [120, 155,  58],\n",
       "         [126, 160,  71],\n",
       "         ...,\n",
       "         [ 22,  16,   3],\n",
       "         [ 97, 112,  56],\n",
       "         [141, 161,  87]],\n",
       "\n",
       "        [[ 87, 122,  41],\n",
       "         [ 88, 122,  39],\n",
       "         [101, 134,  56],\n",
       "         ...,\n",
       "         [ 34,  36,  10],\n",
       "         [105, 133,  59],\n",
       "         [138, 173,  79]]],\n",
       "\n",
       "\n",
       "       [[[255, 255, 255],\n",
       "         [253, 253, 253],\n",
       "         [253, 253, 253],\n",
       "         ...,\n",
       "         [253, 253, 253],\n",
       "         [253, 253, 253],\n",
       "         [255, 255, 255]],\n",
       "\n",
       "        [[255, 255, 255],\n",
       "         [255, 255, 255],\n",
       "         [255, 255, 255],\n",
       "         ...,\n",
       "         [255, 255, 255],\n",
       "         [255, 255, 255],\n",
       "         [255, 255, 255]],\n",
       "\n",
       "        [[255, 255, 255],\n",
       "         [255, 255, 255],\n",
       "         [255, 255, 255],\n",
       "         ...,\n",
       "         [255, 255, 255],\n",
       "         [255, 255, 255],\n",
       "         [255, 255, 255]],\n",
       "\n",
       "        ...,\n",
       "\n",
       "        [[255, 255, 255],\n",
       "         [255, 255, 255],\n",
       "         [255, 255, 255],\n",
       "         ...,\n",
       "         [255, 255, 255],\n",
       "         [255, 255, 255],\n",
       "         [255, 255, 255]],\n",
       "\n",
       "        [[255, 255, 255],\n",
       "         [255, 255, 255],\n",
       "         [255, 255, 255],\n",
       "         ...,\n",
       "         [255, 255, 255],\n",
       "         [255, 255, 255],\n",
       "         [255, 255, 255]],\n",
       "\n",
       "        [[255, 255, 255],\n",
       "         [253, 253, 253],\n",
       "         [253, 253, 253],\n",
       "         ...,\n",
       "         [253, 253, 253],\n",
       "         [253, 253, 253],\n",
       "         [255, 255, 255]]],\n",
       "\n",
       "\n",
       "       [[[250, 250, 248],\n",
       "         [248, 249, 243],\n",
       "         [247, 248, 239],\n",
       "         ...,\n",
       "         [250, 250, 246],\n",
       "         [250, 250, 246],\n",
       "         [249, 250, 246]],\n",
       "\n",
       "        [[250, 251, 245],\n",
       "         [248, 249, 238],\n",
       "         [247, 247, 234],\n",
       "         ...,\n",
       "         [251, 251, 242],\n",
       "         [251, 252, 243],\n",
       "         [250, 251, 243]],\n",
       "\n",
       "        [[251, 251, 244],\n",
       "         [250, 248, 237],\n",
       "         [250, 245, 233],\n",
       "         ...,\n",
       "         [250, 249, 238],\n",
       "         [250, 249, 240],\n",
       "         [250, 249, 242]],\n",
       "\n",
       "        ...,\n",
       "\n",
       "        [[221, 213, 191],\n",
       "         [221, 206, 176],\n",
       "         [225, 207, 181],\n",
       "         ...,\n",
       "         [199, 176, 134],\n",
       "         [207, 193, 165],\n",
       "         [233, 229, 226]],\n",
       "\n",
       "        [[225, 223, 204],\n",
       "         [227, 219, 196],\n",
       "         [229, 216, 200],\n",
       "         ...,\n",
       "         [204, 185, 151],\n",
       "         [212, 201, 180],\n",
       "         [234, 232, 228]],\n",
       "\n",
       "        [[233, 233, 226],\n",
       "         [234, 232, 224],\n",
       "         [235, 230, 225],\n",
       "         ...,\n",
       "         [219, 209, 194],\n",
       "         [223, 216, 207],\n",
       "         [232, 230, 228]]],\n",
       "\n",
       "\n",
       "       ...,\n",
       "\n",
       "\n",
       "       [[[248, 244, 242],\n",
       "         [240, 232, 223],\n",
       "         [236, 232, 223],\n",
       "         ...,\n",
       "         [233, 229, 222],\n",
       "         [230, 228, 222],\n",
       "         [238, 237, 233]],\n",
       "\n",
       "        [[225, 213, 204],\n",
       "         [186, 167, 149],\n",
       "         [175, 159, 140],\n",
       "         ...,\n",
       "         [163, 148, 134],\n",
       "         [156, 144, 133],\n",
       "         [192, 184, 176]],\n",
       "\n",
       "        [[209, 194, 179],\n",
       "         [144, 120,  95],\n",
       "         [139, 115,  87],\n",
       "         ...,\n",
       "         [109,  86,  67],\n",
       "         [109,  90,  76],\n",
       "         [157, 145, 135]],\n",
       "\n",
       "        ...,\n",
       "\n",
       "        [[161, 159, 153],\n",
       "         [ 39,  34,  28],\n",
       "         [ 28,  20,  14],\n",
       "         ...,\n",
       "         [ 93,  72,  53],\n",
       "         [ 85,  67,  50],\n",
       "         [136, 126, 115]],\n",
       "\n",
       "        [[181, 179, 172],\n",
       "         [ 86,  83,  77],\n",
       "         [ 71,  68,  62],\n",
       "         ...,\n",
       "         [122, 103,  89],\n",
       "         [105,  92,  82],\n",
       "         [151, 145, 141]],\n",
       "\n",
       "        [[224, 223, 218],\n",
       "         [180, 180, 175],\n",
       "         [173, 172, 167],\n",
       "         ...,\n",
       "         [196, 187, 180],\n",
       "         [183, 178, 174],\n",
       "         [204, 205, 205]]],\n",
       "\n",
       "\n",
       "       [[[156, 154, 137],\n",
       "         [151, 146, 123],\n",
       "         [151, 144, 125],\n",
       "         ...,\n",
       "         [155, 150, 129],\n",
       "         [152, 148, 125],\n",
       "         [186, 184, 163]],\n",
       "\n",
       "        [[110, 106,  77],\n",
       "         [116, 108,  62],\n",
       "         [114, 101,  57],\n",
       "         ...,\n",
       "         [116, 106,  61],\n",
       "         [111, 103,  56],\n",
       "         [134, 129,  92]],\n",
       "\n",
       "        [[116, 112,  82],\n",
       "         [124, 118,  66],\n",
       "         [128, 118,  67],\n",
       "         ...,\n",
       "         [ 99,  84,  43],\n",
       "         [101,  87,  43],\n",
       "         [129, 118,  86]],\n",
       "\n",
       "        ...,\n",
       "\n",
       "        [[109, 101,  74],\n",
       "         [112, 100,  54],\n",
       "         [118, 105,  62],\n",
       "         ...,\n",
       "         [126, 113,  65],\n",
       "         [126, 111,  61],\n",
       "         [138, 124,  89]],\n",
       "\n",
       "        [[ 98,  92,  63],\n",
       "         [ 93,  82,  35],\n",
       "         [ 96,  83,  38],\n",
       "         ...,\n",
       "         [112,  96,  47],\n",
       "         [109,  92,  45],\n",
       "         [127, 113,  80]],\n",
       "\n",
       "        [[170, 167, 145],\n",
       "         [160, 153, 118],\n",
       "         [163, 152, 119],\n",
       "         ...,\n",
       "         [161, 151, 114],\n",
       "         [156, 144, 107],\n",
       "         [163, 154, 126]]],\n",
       "\n",
       "\n",
       "       [[[ 31,  67, 122],\n",
       "         [ 30,  68, 124],\n",
       "         [ 31,  69, 126],\n",
       "         ...,\n",
       "         [ 32,  70, 129],\n",
       "         [ 32,  70, 125],\n",
       "         [ 32,  69, 122]],\n",
       "\n",
       "        [[ 29,  68, 126],\n",
       "         [ 28,  69, 128],\n",
       "         [ 30,  69, 130],\n",
       "         ...,\n",
       "         [ 32,  70, 131],\n",
       "         [ 32,  69, 127],\n",
       "         [ 31,  69, 124]],\n",
       "\n",
       "        [[ 30,  67, 126],\n",
       "         [ 29,  68, 128],\n",
       "         [ 30,  69, 130],\n",
       "         ...,\n",
       "         [ 32,  72, 132],\n",
       "         [ 31,  70, 130],\n",
       "         [ 30,  69, 127]],\n",
       "\n",
       "        ...,\n",
       "\n",
       "        [[ 39,  41,  76],\n",
       "         [ 38,  42,  76],\n",
       "         [ 38,  44,  78],\n",
       "         ...,\n",
       "         [ 39,  44,  79],\n",
       "         [ 38,  42,  77],\n",
       "         [ 39,  41,  76]],\n",
       "\n",
       "        [[ 40,  39,  73],\n",
       "         [ 39,  40,  74],\n",
       "         [ 39,  41,  76],\n",
       "         ...,\n",
       "         [ 39,  41,  76],\n",
       "         [ 40,  41,  74],\n",
       "         [ 40,  39,  73]],\n",
       "\n",
       "        [[ 40,  39,  70],\n",
       "         [ 40,  39,  71],\n",
       "         [ 40,  39,  72],\n",
       "         ...,\n",
       "         [ 41,  38,  72],\n",
       "         [ 39,  38,  69],\n",
       "         [ 40,  37,  67]]]], dtype=uint8)"
      ]
     },
     "execution_count": 39,
     "metadata": {},
     "output_type": "execute_result"
    }
   ],
   "source": [
    "x_train"
   ]
  },
  {
   "cell_type": "code",
   "execution_count": 40,
   "id": "b1777434",
   "metadata": {
    "ExecuteTime": {
     "end_time": "2022-03-24T06:51:32.221990Z",
     "start_time": "2022-03-24T06:51:32.206069Z"
    }
   },
   "outputs": [
    {
     "data": {
      "text/plain": [
       "array([ 0,  1,  2,  3,  4,  5,  6,  7,  8,  9, 10, 11, 12, 13, 14, 15, 16,\n",
       "       17, 18, 19, 20, 21, 22, 23, 24, 25, 26, 27, 28, 29, 30, 31, 32, 33,\n",
       "       34, 35, 36, 37, 38, 39, 40, 41, 42, 43, 44, 45, 46, 47, 48, 49, 50,\n",
       "       51, 52, 53, 54, 55, 56, 57, 58, 59, 60, 61, 62, 63, 64, 65, 66, 67,\n",
       "       68, 69, 70, 71, 72, 73, 74, 75, 76, 77, 78, 79, 80, 81, 82, 83, 84,\n",
       "       85, 86, 87, 88, 89, 90, 91, 92, 93, 94, 95, 96, 97, 98, 99])"
      ]
     },
     "execution_count": 40,
     "metadata": {},
     "output_type": "execute_result"
    }
   ],
   "source": [
    "np.unique(y_train1) # 100개"
   ]
  },
  {
   "cell_type": "code",
   "execution_count": 41,
   "id": "168f92c1",
   "metadata": {
    "ExecuteTime": {
     "end_time": "2022-03-24T06:51:32.658774Z",
     "start_time": "2022-03-24T06:51:32.653754Z"
    }
   },
   "outputs": [],
   "source": [
    "from tensorflow.keras.utils import to_categorical\n",
    "\n",
    "y_train_oh = to_categorical(y_train1)\n",
    "y_test_oh = to_categorical(y_test1)"
   ]
  },
  {
   "cell_type": "code",
   "execution_count": 42,
   "id": "7d0dbb10",
   "metadata": {
    "ExecuteTime": {
     "end_time": "2022-03-24T06:51:33.345910Z",
     "start_time": "2022-03-24T06:51:33.333940Z"
    }
   },
   "outputs": [
    {
     "data": {
      "text/plain": [
       "(50000, 32, 32, 3)"
      ]
     },
     "execution_count": 42,
     "metadata": {},
     "output_type": "execute_result"
    }
   ],
   "source": [
    "x_train.shape"
   ]
  },
  {
   "cell_type": "code",
   "execution_count": 43,
   "id": "91a2905f",
   "metadata": {
    "ExecuteTime": {
     "end_time": "2022-03-24T06:52:22.686634Z",
     "start_time": "2022-03-24T06:52:22.590589Z"
    }
   },
   "outputs": [
    {
     "name": "stdout",
     "output_type": "stream",
     "text": [
      "Model: \"sequential_4\"\n",
      "_________________________________________________________________\n",
      " Layer (type)                Output Shape              Param #   \n",
      "=================================================================\n",
      " conv2d_6 (Conv2D)           (None, 30, 30, 128)       3584      \n",
      "                                                                 \n",
      " max_pooling2d_4 (MaxPooling  (None, 15, 15, 128)      0         \n",
      " 2D)                                                             \n",
      "                                                                 \n",
      " conv2d_7 (Conv2D)           (None, 13, 13, 64)        73792     \n",
      "                                                                 \n",
      " max_pooling2d_5 (MaxPooling  (None, 6, 6, 64)         0         \n",
      " 2D)                                                             \n",
      "                                                                 \n",
      " dropout (Dropout)           (None, 6, 6, 64)          0         \n",
      "                                                                 \n",
      " conv2d_8 (Conv2D)           (None, 4, 4, 32)          18464     \n",
      "                                                                 \n",
      " max_pooling2d_6 (MaxPooling  (None, 2, 2, 32)         0         \n",
      " 2D)                                                             \n",
      "                                                                 \n",
      " flatten_2 (Flatten)         (None, 128)               0         \n",
      "                                                                 \n",
      " dense_4 (Dense)             (None, 500)               64500     \n",
      "                                                                 \n",
      " dense_5 (Dense)             (None, 250)               125250    \n",
      "                                                                 \n",
      " dense_6 (Dense)             (None, 100)               25100     \n",
      "                                                                 \n",
      "=================================================================\n",
      "Total params: 310,690\n",
      "Trainable params: 310,690\n",
      "Non-trainable params: 0\n",
      "_________________________________________________________________\n"
     ]
    }
   ],
   "source": [
    "model = Sequential()\n",
    "model.add(Conv2D(128, input_shape=(32,32,3),padding='same',kernel_size=(3,3),activation='relu'))\n",
    "model.add(MaxPooling2D(pool_size=(2,2)))\n",
    "\n",
    "model.add(Conv2D(64,(3,3),padding='same',activation='relu'))\n",
    "model.add(MaxPooling2D(pool_size=(2,2)))\n",
    "model.add(Dropout(0.3))\n",
    "model.add(Conv2D(32,(3,3),activation='relu'))\n",
    "model.add(MaxPooling2D(pool_size=(2,2)))\n",
    "\n",
    "model.add(Flatten())\n",
    "\n",
    "model.add(Dense(500,activation='relu'))\n",
    "model.add(Dense(250,activation='relu'))\n",
    "model.add(Dense(100,activation='softmax'))\n",
    "\n",
    "model.summary()"
   ]
  },
  {
   "cell_type": "code",
   "execution_count": 44,
   "id": "98d83537",
   "metadata": {
    "ExecuteTime": {
     "end_time": "2022-03-24T06:52:25.183831Z",
     "start_time": "2022-03-24T06:52:25.173971Z"
    }
   },
   "outputs": [],
   "source": [
    "model.compile(loss='categorical_crossentropy', metrics=['accuracy'],optimizer='adam')"
   ]
  },
  {
   "cell_type": "code",
   "execution_count": 45,
   "id": "b0b41584",
   "metadata": {
    "ExecuteTime": {
     "end_time": "2022-03-24T06:56:02.323592Z",
     "start_time": "2022-03-24T06:52:27.646704Z"
    },
    "scrolled": true
   },
   "outputs": [
    {
     "name": "stdout",
     "output_type": "stream",
     "text": [
      "Epoch 1/100\n",
      "80/80 [==============================] - 2s 21ms/step - loss: 5.5002 - accuracy: 0.0088 - val_loss: 4.5933 - val_accuracy: 0.0100\n",
      "Epoch 2/100\n",
      "80/80 [==============================] - 1s 18ms/step - loss: 4.5371 - accuracy: 0.0250 - val_loss: 4.5694 - val_accuracy: 0.0150\n",
      "Epoch 3/100\n",
      "80/80 [==============================] - 2s 27ms/step - loss: 4.5348 - accuracy: 0.0225 - val_loss: 4.5256 - val_accuracy: 0.0200\n",
      "Epoch 4/100\n",
      "80/80 [==============================] - 2s 26ms/step - loss: 4.5196 - accuracy: 0.0262 - val_loss: 4.5915 - val_accuracy: 0.0250\n",
      "Epoch 5/100\n",
      "80/80 [==============================] - 2s 24ms/step - loss: 4.4979 - accuracy: 0.0162 - val_loss: 4.5862 - val_accuracy: 0.0150\n",
      "Epoch 6/100\n",
      "80/80 [==============================] - 2s 26ms/step - loss: 4.4421 - accuracy: 0.0375 - val_loss: 4.5656 - val_accuracy: 0.0100\n",
      "Epoch 7/100\n",
      "80/80 [==============================] - 2s 28ms/step - loss: 4.3854 - accuracy: 0.0325 - val_loss: 4.5811 - val_accuracy: 0.0300\n",
      "Epoch 8/100\n",
      "80/80 [==============================] - 2s 25ms/step - loss: 4.3489 - accuracy: 0.0450 - val_loss: 4.5450 - val_accuracy: 0.0350\n",
      "Epoch 9/100\n",
      "80/80 [==============================] - 2s 26ms/step - loss: 4.3149 - accuracy: 0.0512 - val_loss: 4.5646 - val_accuracy: 0.0300\n",
      "Epoch 10/100\n",
      "80/80 [==============================] - 2s 28ms/step - loss: 4.1917 - accuracy: 0.0650 - val_loss: 4.5494 - val_accuracy: 0.0350\n",
      "Epoch 11/100\n",
      "80/80 [==============================] - 2s 27ms/step - loss: 4.1327 - accuracy: 0.0775 - val_loss: 4.5371 - val_accuracy: 0.0400\n",
      "Epoch 12/100\n",
      "80/80 [==============================] - 2s 24ms/step - loss: 4.1402 - accuracy: 0.0600 - val_loss: 4.6240 - val_accuracy: 0.0450\n",
      "Epoch 13/100\n",
      "80/80 [==============================] - 2s 28ms/step - loss: 4.0666 - accuracy: 0.0737 - val_loss: 4.7089 - val_accuracy: 0.0350\n",
      "Epoch 14/100\n",
      "80/80 [==============================] - 2s 28ms/step - loss: 3.9553 - accuracy: 0.1000 - val_loss: 4.6455 - val_accuracy: 0.0200\n",
      "Epoch 15/100\n",
      "80/80 [==============================] - 2s 24ms/step - loss: 3.8580 - accuracy: 0.1175 - val_loss: 4.6995 - val_accuracy: 0.0300\n",
      "Epoch 16/100\n",
      "80/80 [==============================] - 2s 26ms/step - loss: 3.7768 - accuracy: 0.1325 - val_loss: 4.8059 - val_accuracy: 0.0250\n",
      "Epoch 17/100\n",
      "80/80 [==============================] - 2s 28ms/step - loss: 3.6754 - accuracy: 0.1500 - val_loss: 4.7343 - val_accuracy: 0.0350\n",
      "Epoch 18/100\n",
      "80/80 [==============================] - 2s 26ms/step - loss: 3.5593 - accuracy: 0.1488 - val_loss: 4.8392 - val_accuracy: 0.0200\n",
      "Epoch 19/100\n",
      "80/80 [==============================] - 2s 25ms/step - loss: 3.4688 - accuracy: 0.1800 - val_loss: 5.0468 - val_accuracy: 0.0400\n",
      "Epoch 20/100\n",
      "80/80 [==============================] - 2s 27ms/step - loss: 3.4237 - accuracy: 0.1775 - val_loss: 4.9691 - val_accuracy: 0.0450\n",
      "Epoch 21/100\n",
      "80/80 [==============================] - 2s 28ms/step - loss: 3.2797 - accuracy: 0.2087 - val_loss: 5.2148 - val_accuracy: 0.0500\n",
      "Epoch 22/100\n",
      "80/80 [==============================] - 2s 25ms/step - loss: 3.1944 - accuracy: 0.2288 - val_loss: 5.2387 - val_accuracy: 0.0400\n",
      "Epoch 23/100\n",
      "80/80 [==============================] - 2s 26ms/step - loss: 3.1909 - accuracy: 0.2400 - val_loss: 5.3607 - val_accuracy: 0.0400\n",
      "Epoch 24/100\n",
      "80/80 [==============================] - 2s 29ms/step - loss: 3.0907 - accuracy: 0.2575 - val_loss: 5.2645 - val_accuracy: 0.0450\n",
      "Epoch 25/100\n",
      "80/80 [==============================] - 2s 25ms/step - loss: 3.0321 - accuracy: 0.2725 - val_loss: 5.4990 - val_accuracy: 0.0400\n",
      "Epoch 26/100\n",
      "80/80 [==============================] - 2s 27ms/step - loss: 2.9118 - accuracy: 0.2950 - val_loss: 5.8518 - val_accuracy: 0.0350\n",
      "Epoch 27/100\n",
      "80/80 [==============================] - 2s 27ms/step - loss: 2.8586 - accuracy: 0.3063 - val_loss: 5.9047 - val_accuracy: 0.0500\n",
      "Epoch 28/100\n",
      "80/80 [==============================] - 2s 27ms/step - loss: 2.7661 - accuracy: 0.3313 - val_loss: 5.6344 - val_accuracy: 0.0450\n",
      "Epoch 29/100\n",
      "80/80 [==============================] - 2s 25ms/step - loss: 2.6190 - accuracy: 0.3600 - val_loss: 6.4474 - val_accuracy: 0.0550\n",
      "Epoch 30/100\n",
      "80/80 [==============================] - 2s 26ms/step - loss: 2.5991 - accuracy: 0.3650 - val_loss: 6.2748 - val_accuracy: 0.0450\n",
      "Epoch 31/100\n",
      "80/80 [==============================] - 2s 28ms/step - loss: 2.5867 - accuracy: 0.3512 - val_loss: 6.7686 - val_accuracy: 0.0550\n",
      "Epoch 32/100\n",
      "80/80 [==============================] - 2s 24ms/step - loss: 2.5506 - accuracy: 0.3700 - val_loss: 6.7997 - val_accuracy: 0.0550\n",
      "Epoch 33/100\n",
      "80/80 [==============================] - 2s 27ms/step - loss: 2.4838 - accuracy: 0.3925 - val_loss: 6.4743 - val_accuracy: 0.0400\n",
      "Epoch 34/100\n",
      "80/80 [==============================] - 2s 27ms/step - loss: 2.3102 - accuracy: 0.4187 - val_loss: 6.7529 - val_accuracy: 0.0600\n",
      "Epoch 35/100\n",
      "80/80 [==============================] - 2s 26ms/step - loss: 2.2546 - accuracy: 0.4600 - val_loss: 7.0892 - val_accuracy: 0.0500\n",
      "Epoch 36/100\n",
      "80/80 [==============================] - 2s 25ms/step - loss: 2.2478 - accuracy: 0.4300 - val_loss: 7.7625 - val_accuracy: 0.0450\n",
      "Epoch 37/100\n",
      "80/80 [==============================] - 2s 28ms/step - loss: 2.3208 - accuracy: 0.4462 - val_loss: 8.1705 - val_accuracy: 0.0500\n",
      "Epoch 38/100\n",
      "80/80 [==============================] - 2s 28ms/step - loss: 2.4480 - accuracy: 0.4013 - val_loss: 7.5165 - val_accuracy: 0.0500\n",
      "Epoch 39/100\n",
      "80/80 [==============================] - 2s 27ms/step - loss: 2.2179 - accuracy: 0.4300 - val_loss: 8.1760 - val_accuracy: 0.0450\n",
      "Epoch 40/100\n",
      "80/80 [==============================] - 2s 26ms/step - loss: 2.1116 - accuracy: 0.4850 - val_loss: 8.3830 - val_accuracy: 0.0550\n",
      "Epoch 41/100\n",
      "80/80 [==============================] - 2s 28ms/step - loss: 2.0311 - accuracy: 0.5000 - val_loss: 8.1281 - val_accuracy: 0.0450\n",
      "Epoch 42/100\n",
      "80/80 [==============================] - 2s 24ms/step - loss: 1.8714 - accuracy: 0.5188 - val_loss: 7.7908 - val_accuracy: 0.0400\n",
      "Epoch 43/100\n",
      "80/80 [==============================] - 2s 26ms/step - loss: 1.8746 - accuracy: 0.5188 - val_loss: 8.4402 - val_accuracy: 0.0400\n",
      "Epoch 44/100\n",
      "80/80 [==============================] - 2s 27ms/step - loss: 1.7413 - accuracy: 0.5537 - val_loss: 9.2460 - val_accuracy: 0.0450\n",
      "Epoch 45/100\n",
      "80/80 [==============================] - 2s 30ms/step - loss: 1.7536 - accuracy: 0.5537 - val_loss: 8.6826 - val_accuracy: 0.0500\n",
      "Epoch 46/100\n",
      "80/80 [==============================] - 2s 30ms/step - loss: 1.6214 - accuracy: 0.5725 - val_loss: 8.9643 - val_accuracy: 0.0450\n",
      "Epoch 47/100\n",
      "80/80 [==============================] - 3s 32ms/step - loss: 1.9457 - accuracy: 0.5188 - val_loss: 8.9666 - val_accuracy: 0.0350\n",
      "Epoch 48/100\n",
      "80/80 [==============================] - 2s 28ms/step - loss: 1.6173 - accuracy: 0.5938 - val_loss: 9.3973 - val_accuracy: 0.0400\n",
      "Epoch 49/100\n",
      "80/80 [==============================] - 2s 28ms/step - loss: 1.6062 - accuracy: 0.6050 - val_loss: 9.8743 - val_accuracy: 0.0250\n",
      "Epoch 50/100\n",
      "80/80 [==============================] - 2s 28ms/step - loss: 1.5804 - accuracy: 0.6162 - val_loss: 10.9023 - val_accuracy: 0.0500\n",
      "Epoch 51/100\n",
      "80/80 [==============================] - 2s 29ms/step - loss: 1.6111 - accuracy: 0.6087 - val_loss: 10.2538 - val_accuracy: 0.0350\n",
      "Epoch 52/100\n",
      "80/80 [==============================] - 2s 27ms/step - loss: 1.5960 - accuracy: 0.6075 - val_loss: 10.0633 - val_accuracy: 0.0400\n",
      "Epoch 53/100\n",
      "80/80 [==============================] - 2s 26ms/step - loss: 1.6396 - accuracy: 0.5913 - val_loss: 9.8812 - val_accuracy: 0.0350\n",
      "Epoch 54/100\n",
      "80/80 [==============================] - 2s 29ms/step - loss: 1.5483 - accuracy: 0.6150 - val_loss: 10.2436 - val_accuracy: 0.0350\n",
      "Epoch 55/100\n",
      "80/80 [==============================] - 2s 26ms/step - loss: 1.5195 - accuracy: 0.6237 - val_loss: 10.4017 - val_accuracy: 0.0350\n",
      "Epoch 56/100\n",
      "80/80 [==============================] - 2s 27ms/step - loss: 1.5902 - accuracy: 0.6237 - val_loss: 9.9181 - val_accuracy: 0.0300\n",
      "Epoch 57/100\n",
      "80/80 [==============================] - 2s 29ms/step - loss: 1.5291 - accuracy: 0.6062 - val_loss: 9.8947 - val_accuracy: 0.0500\n",
      "Epoch 58/100\n"
     ]
    },
    {
     "name": "stdout",
     "output_type": "stream",
     "text": [
      "80/80 [==============================] - 2s 27ms/step - loss: 1.3193 - accuracy: 0.6650 - val_loss: 10.5694 - val_accuracy: 0.0450\n",
      "Epoch 59/100\n",
      "80/80 [==============================] - 2s 26ms/step - loss: 1.4757 - accuracy: 0.6400 - val_loss: 10.4930 - val_accuracy: 0.0350\n",
      "Epoch 60/100\n",
      "80/80 [==============================] - 2s 25ms/step - loss: 1.3236 - accuracy: 0.6662 - val_loss: 10.9294 - val_accuracy: 0.0400\n",
      "Epoch 61/100\n",
      "80/80 [==============================] - 2s 30ms/step - loss: 1.4092 - accuracy: 0.6662 - val_loss: 9.9042 - val_accuracy: 0.0500\n",
      "Epoch 62/100\n",
      "80/80 [==============================] - 2s 27ms/step - loss: 1.4023 - accuracy: 0.6513 - val_loss: 11.2369 - val_accuracy: 0.0600\n",
      "Epoch 63/100\n",
      "80/80 [==============================] - 2s 26ms/step - loss: 1.3936 - accuracy: 0.6775 - val_loss: 11.2454 - val_accuracy: 0.0550\n",
      "Epoch 64/100\n",
      "80/80 [==============================] - 2s 29ms/step - loss: 1.3208 - accuracy: 0.6562 - val_loss: 11.0218 - val_accuracy: 0.0350\n",
      "Epoch 65/100\n",
      "80/80 [==============================] - 2s 26ms/step - loss: 1.3396 - accuracy: 0.6562 - val_loss: 10.7424 - val_accuracy: 0.0450\n",
      "Epoch 66/100\n",
      "80/80 [==============================] - 2s 26ms/step - loss: 1.2005 - accuracy: 0.6875 - val_loss: 11.2716 - val_accuracy: 0.0250\n",
      "Epoch 67/100\n",
      "80/80 [==============================] - 2s 26ms/step - loss: 1.1476 - accuracy: 0.7262 - val_loss: 12.2731 - val_accuracy: 0.0350\n",
      "Epoch 68/100\n",
      "80/80 [==============================] - 2s 27ms/step - loss: 1.0668 - accuracy: 0.7325 - val_loss: 11.7111 - val_accuracy: 0.0300\n",
      "Epoch 69/100\n",
      "80/80 [==============================] - 2s 27ms/step - loss: 1.2729 - accuracy: 0.6812 - val_loss: 11.5505 - val_accuracy: 0.0450\n",
      "Epoch 70/100\n",
      "80/80 [==============================] - 2s 25ms/step - loss: 1.3157 - accuracy: 0.6787 - val_loss: 10.9526 - val_accuracy: 0.0400\n",
      "Epoch 71/100\n",
      "80/80 [==============================] - 2s 28ms/step - loss: 1.2507 - accuracy: 0.6750 - val_loss: 11.1708 - val_accuracy: 0.0250\n",
      "Epoch 72/100\n",
      "80/80 [==============================] - 2s 27ms/step - loss: 1.1292 - accuracy: 0.7188 - val_loss: 12.2462 - val_accuracy: 0.0250\n",
      "Epoch 73/100\n",
      "80/80 [==============================] - 2s 25ms/step - loss: 1.1204 - accuracy: 0.7250 - val_loss: 12.3814 - val_accuracy: 0.0450\n",
      "Epoch 74/100\n",
      "80/80 [==============================] - 2s 30ms/step - loss: 1.0940 - accuracy: 0.7262 - val_loss: 12.8278 - val_accuracy: 0.0200\n",
      "Epoch 75/100\n",
      "80/80 [==============================] - 2s 26ms/step - loss: 1.0507 - accuracy: 0.7250 - val_loss: 12.7168 - val_accuracy: 0.0400\n",
      "Epoch 76/100\n",
      "80/80 [==============================] - 2s 26ms/step - loss: 1.1145 - accuracy: 0.7100 - val_loss: 11.5151 - val_accuracy: 0.0400\n",
      "Epoch 77/100\n",
      "80/80 [==============================] - 2s 26ms/step - loss: 1.0846 - accuracy: 0.7362 - val_loss: 12.4047 - val_accuracy: 0.0450\n",
      "Epoch 78/100\n",
      "80/80 [==============================] - 2s 28ms/step - loss: 1.0088 - accuracy: 0.7425 - val_loss: 12.8856 - val_accuracy: 0.0300\n",
      "Epoch 79/100\n",
      "80/80 [==============================] - 2s 27ms/step - loss: 1.2161 - accuracy: 0.6925 - val_loss: 12.0633 - val_accuracy: 0.0400\n",
      "Epoch 80/100\n",
      "80/80 [==============================] - 2s 25ms/step - loss: 1.0820 - accuracy: 0.7287 - val_loss: 11.9930 - val_accuracy: 0.0150\n",
      "Epoch 81/100\n",
      "80/80 [==============================] - 2s 29ms/step - loss: 1.0818 - accuracy: 0.7200 - val_loss: 11.5784 - val_accuracy: 0.0550\n",
      "Epoch 82/100\n",
      "80/80 [==============================] - 2s 27ms/step - loss: 0.9224 - accuracy: 0.7588 - val_loss: 12.2031 - val_accuracy: 0.0300\n",
      "Epoch 83/100\n",
      "80/80 [==============================] - 2s 26ms/step - loss: 0.8504 - accuracy: 0.7613 - val_loss: 12.7587 - val_accuracy: 0.0450\n",
      "Epoch 84/100\n",
      "80/80 [==============================] - 2s 28ms/step - loss: 0.9601 - accuracy: 0.7462 - val_loss: 13.3935 - val_accuracy: 0.0450\n",
      "Epoch 85/100\n",
      "80/80 [==============================] - 2s 27ms/step - loss: 1.1418 - accuracy: 0.7325 - val_loss: 11.9657 - val_accuracy: 0.0300\n",
      "Epoch 86/100\n",
      "80/80 [==============================] - 2s 25ms/step - loss: 1.1131 - accuracy: 0.7375 - val_loss: 11.2135 - val_accuracy: 0.0400\n",
      "Epoch 87/100\n",
      "80/80 [==============================] - 2s 25ms/step - loss: 1.0459 - accuracy: 0.7337 - val_loss: 11.8748 - val_accuracy: 0.0300\n",
      "Epoch 88/100\n",
      "80/80 [==============================] - 2s 27ms/step - loss: 0.8814 - accuracy: 0.7725 - val_loss: 11.6219 - val_accuracy: 0.0650\n",
      "Epoch 89/100\n",
      "80/80 [==============================] - 2s 26ms/step - loss: 0.7959 - accuracy: 0.7950 - val_loss: 11.8865 - val_accuracy: 0.0500\n",
      "Epoch 90/100\n",
      "80/80 [==============================] - 2s 24ms/step - loss: 0.7371 - accuracy: 0.8075 - val_loss: 11.9891 - val_accuracy: 0.0300\n",
      "Epoch 91/100\n",
      "80/80 [==============================] - 2s 29ms/step - loss: 0.7409 - accuracy: 0.8012 - val_loss: 13.0398 - val_accuracy: 0.0300\n",
      "Epoch 92/100\n",
      "80/80 [==============================] - 2s 27ms/step - loss: 0.7651 - accuracy: 0.8125 - val_loss: 13.4549 - val_accuracy: 0.0350\n",
      "Epoch 93/100\n",
      "80/80 [==============================] - 2s 25ms/step - loss: 0.8589 - accuracy: 0.7862 - val_loss: 11.9223 - val_accuracy: 0.0250\n",
      "Epoch 94/100\n",
      "80/80 [==============================] - 2s 26ms/step - loss: 0.8695 - accuracy: 0.7650 - val_loss: 12.3435 - val_accuracy: 0.0600\n",
      "Epoch 95/100\n",
      "80/80 [==============================] - 2s 29ms/step - loss: 0.9201 - accuracy: 0.7688 - val_loss: 12.7142 - val_accuracy: 0.0450\n",
      "Epoch 96/100\n",
      "80/80 [==============================] - 2s 28ms/step - loss: 0.8362 - accuracy: 0.7825 - val_loss: 12.5087 - val_accuracy: 0.0450\n",
      "Epoch 97/100\n",
      "80/80 [==============================] - 2s 28ms/step - loss: 0.9221 - accuracy: 0.7700 - val_loss: 12.8156 - val_accuracy: 0.0350\n",
      "Epoch 98/100\n",
      "80/80 [==============================] - 2s 31ms/step - loss: 0.9378 - accuracy: 0.7600 - val_loss: 12.8479 - val_accuracy: 0.0400\n",
      "Epoch 99/100\n",
      "80/80 [==============================] - 2s 28ms/step - loss: 0.8144 - accuracy: 0.7738 - val_loss: 12.7917 - val_accuracy: 0.0300\n",
      "Epoch 100/100\n",
      "80/80 [==============================] - 2s 27ms/step - loss: 0.7637 - accuracy: 0.7837 - val_loss: 13.7822 - val_accuracy: 0.0250\n"
     ]
    }
   ],
   "source": [
    "hist= model.fit(x_train1,y_train_oh,epochs=100, batch_size=10, validation_split= 0.2)"
   ]
  },
  {
   "cell_type": "code",
   "execution_count": 48,
   "id": "5c77acf7",
   "metadata": {
    "ExecuteTime": {
     "end_time": "2022-03-24T07:00:25.323367Z",
     "start_time": "2022-03-24T07:00:24.758960Z"
    }
   },
   "outputs": [
    {
     "name": "stdout",
     "output_type": "stream",
     "text": [
      "32/32 [==============================] - 1s 12ms/step - loss: 14.0865 - accuracy: 0.0410\n"
     ]
    },
    {
     "data": {
      "text/plain": [
       "[14.086515426635742, 0.04100000113248825]"
      ]
     },
     "execution_count": 48,
     "metadata": {},
     "output_type": "execute_result"
    }
   ],
   "source": [
    "model.evaluate(x_test1,y_test_oh)"
   ]
  },
  {
   "cell_type": "code",
   "execution_count": 46,
   "id": "8b1d1fd2",
   "metadata": {
    "ExecuteTime": {
     "end_time": "2022-03-24T06:57:34.995556Z",
     "start_time": "2022-03-24T06:57:34.838666Z"
    }
   },
   "outputs": [
    {
     "data": {
      "text/plain": [
       "[<matplotlib.lines.Line2D at 0x27b0ba6e040>]"
      ]
     },
     "execution_count": 46,
     "metadata": {},
     "output_type": "execute_result"
    },
    {
     "data": {
      "image/png": "[encoded data removed]",
      "text/plain": [
       "<Figure size 432x288 with 1 Axes>"
      ]
     },
     "metadata": {
      "needs_background": "light"
     },
     "output_type": "display_data"
    }
   ],
   "source": [
    "plt.plot(hist.history['loss'],color='b')\n",
    "plt.plot(hist.history['val_loss'],color= 'lightblue')"
   ]
  },
  {
   "cell_type": "code",
   "execution_count": null,
   "id": "d4d4020a",
   "metadata": {},
   "outputs": [],
   "source": []
  }
 ],
 "metadata": {
  "kernelspec": {
   "display_name": "Python 3 (ipykernel)",
   "language": "python",
   "name": "python3"
  },
  "language_info": {
   "codemirror_mode": {
    "name": "ipython",
    "version": 3
   },
   "file_extension": ".py",
   "mimetype": "text/x-python",
   "name": "python",
   "nbconvert_exporter": "python",
   "pygments_lexer": "ipython3",
   "version": "3.9.7"
  },
  "toc": {
   "base_numbering": 1,
   "nav_menu": {},
   "number_sections": true,
   "sideBar": true,
   "skip_h1_title": false,
   "title_cell": "Table of Contents",
   "title_sidebar": "Contents",
   "toc_cell": false,
   "toc_position": {},
   "toc_section_display": true,
   "toc_window_display": false
  },
  "varInspector": {
   "cols": {
    "lenName": 16,
    "lenType": 16,
    "lenVar": 40
   },
   "kernels_config": {
    "python": {
     "delete_cmd_postfix": "",
     "delete_cmd_prefix": "del ",
     "library": "var_list.py",
     "varRefreshCmd": "print(var_dic_list())"
    },
    "r": {
     "delete_cmd_postfix": ") ",
     "delete_cmd_prefix": "rm(",
     "library": "var_list.r",
     "varRefreshCmd": "cat(var_dic_list()) "
    }
   },
   "types_to_exclude": [
    "module",
    "function",
    "builtin_function_or_method",
    "instance",
    "_Feature"
   ],
   "window_display": false
  }
 },
 "nbformat": 4,
 "nbformat_minor": 5
}
