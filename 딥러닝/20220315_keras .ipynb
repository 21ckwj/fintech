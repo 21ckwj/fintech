{
 "cells": [
  {
   "cell_type": "code",
   "execution_count": 12,
   "id": "8cca8bd6",
   "metadata": {
    "ExecuteTime": {
     "end_time": "2022-03-16T02:30:53.863545Z",
     "start_time": "2022-03-16T02:30:53.858569Z"
    }
   },
   "outputs": [],
   "source": [
    "import tensorflow as tf"
   ]
  },
  {
   "cell_type": "code",
   "execution_count": 13,
   "id": "b4765dbc",
   "metadata": {
    "ExecuteTime": {
     "end_time": "2022-03-16T02:30:54.068742Z",
     "start_time": "2022-03-16T02:30:54.050504Z"
    }
   },
   "outputs": [
    {
     "data": {
      "text/plain": [
       "'2.8.0'"
      ]
     },
     "execution_count": 13,
     "metadata": {},
     "output_type": "execute_result"
    }
   ],
   "source": [
    "tf.__version__"
   ]
  },
  {
   "cell_type": "code",
   "execution_count": 14,
   "id": "edc4e4bf",
   "metadata": {
    "ExecuteTime": {
     "end_time": "2022-03-16T02:30:54.226307Z",
     "start_time": "2022-03-16T02:30:54.209875Z"
    }
   },
   "outputs": [],
   "source": [
    "from tensorflow.keras.models import Sequential\n",
    "from tensorflow.keras.layers import Dense"
   ]
  },
  {
   "cell_type": "code",
   "execution_count": 15,
   "id": "566c39c7",
   "metadata": {
    "ExecuteTime": {
     "end_time": "2022-03-16T02:30:54.367045Z",
     "start_time": "2022-03-16T02:30:54.353964Z"
    }
   },
   "outputs": [],
   "source": [
    "import numpy as np\n",
    "import pandas as pd"
   ]
  },
  {
   "cell_type": "code",
   "execution_count": 16,
   "id": "f6bf2217",
   "metadata": {
    "ExecuteTime": {
     "end_time": "2022-03-16T02:30:54.539847Z",
     "start_time": "2022-03-16T02:30:54.529852Z"
    }
   },
   "outputs": [],
   "source": [
    "dataset = np.loadtxt('data/ThoraricSurgery.csv', delimiter=',')"
   ]
  },
  {
   "cell_type": "code",
   "execution_count": 17,
   "id": "3cce1114",
   "metadata": {
    "ExecuteTime": {
     "end_time": "2022-03-16T02:30:55.309258Z",
     "start_time": "2022-03-16T02:30:55.296292Z"
    }
   },
   "outputs": [],
   "source": [
    "x = dataset[:,0:17]\n",
    "y = dataset[:,17]"
   ]
  },
  {
   "cell_type": "code",
   "execution_count": 18,
   "id": "0c30d182",
   "metadata": {
    "ExecuteTime": {
     "end_time": "2022-03-16T02:30:55.750006Z",
     "start_time": "2022-03-16T02:30:55.730086Z"
    }
   },
   "outputs": [],
   "source": [
    "from sklearn.model_selection import train_test_split\n",
    "x_train, x_test, y_train, y_test = train_test_split(x,y,test_size=0.2,stratify=y, random_state=11)\n",
    "x_train, x_val, y_train, y_val = train_test_split(x_train,y_train,test_size=0.25,stratify=y_train, random_state=11)"
   ]
  },
  {
   "cell_type": "code",
   "execution_count": 19,
   "id": "253e6953",
   "metadata": {
    "ExecuteTime": {
     "end_time": "2022-03-16T02:30:56.221913Z",
     "start_time": "2022-03-16T02:30:56.161868Z"
    }
   },
   "outputs": [
    {
     "name": "stdout",
     "output_type": "stream",
     "text": [
      "Model: \"sequential_1\"\n",
      "_________________________________________________________________\n",
      " Layer (type)                Output Shape              Param #   \n",
      "=================================================================\n",
      " dense_5 (Dense)             (None, 300)               5400      \n",
      "                                                                 \n",
      " dense_6 (Dense)             (None, 500)               150500    \n",
      "                                                                 \n",
      " dense_7 (Dense)             (None, 300)               150300    \n",
      "                                                                 \n",
      " dense_8 (Dense)             (None, 100)               30100     \n",
      "                                                                 \n",
      " dense_9 (Dense)             (None, 1)                 101       \n",
      "                                                                 \n",
      "=================================================================\n",
      "Total params: 336,401\n",
      "Trainable params: 336,401\n",
      "Non-trainable params: 0\n",
      "_________________________________________________________________\n"
     ]
    }
   ],
   "source": [
    "with tf.device('/GPU:0'):\n",
    "    model = Sequential()\n",
    "    model.add(Dense(300,input_dim = 17, activation = 'relu'))\n",
    "    model.add(Dense(500,activation='relu'))\n",
    "    model.add(Dense(300,activation='relu'))\n",
    "    model.add(Dense(100,activation='relu'))\n",
    "    model.add(Dense(1,activation='sigmoid'))\n",
    "    \n",
    "    model.compile(loss='binary_crossentropy', optimizer = 'adam', metrics=['accuracy'])\n",
    "    model.summary()"
   ]
  },
  {
   "cell_type": "code",
   "execution_count": 20,
   "id": "5f984db3",
   "metadata": {
    "ExecuteTime": {
     "end_time": "2022-03-16T02:31:06.441922Z",
     "start_time": "2022-03-16T02:30:58.546518Z"
    }
   },
   "outputs": [
    {
     "name": "stdout",
     "output_type": "stream",
     "text": [
      "Epoch 1/100\n",
      "9/9 [==============================] - 0s 22ms/step - loss: 2.2560 - accuracy: 0.7837 - val_loss: 1.1560 - val_accuracy: 0.8511\n",
      "Epoch 2/100\n",
      "9/9 [==============================] - 0s 11ms/step - loss: 1.5363 - accuracy: 0.7730 - val_loss: 1.3190 - val_accuracy: 0.8511\n",
      "Epoch 3/100\n",
      "9/9 [==============================] - 0s 11ms/step - loss: 1.0067 - accuracy: 0.7660 - val_loss: 0.9391 - val_accuracy: 0.8511\n",
      "Epoch 4/100\n",
      "9/9 [==============================] - 0s 9ms/step - loss: 0.5936 - accuracy: 0.7872 - val_loss: 0.5395 - val_accuracy: 0.8511\n",
      "Epoch 5/100\n",
      "9/9 [==============================] - 0s 10ms/step - loss: 0.4996 - accuracy: 0.8511 - val_loss: 0.4585 - val_accuracy: 0.8511\n",
      "Epoch 6/100\n",
      "9/9 [==============================] - 0s 10ms/step - loss: 0.4636 - accuracy: 0.8511 - val_loss: 0.4312 - val_accuracy: 0.8511\n",
      "Epoch 7/100\n",
      "9/9 [==============================] - 0s 9ms/step - loss: 0.4560 - accuracy: 0.8475 - val_loss: 0.4303 - val_accuracy: 0.8511\n",
      "Epoch 8/100\n",
      "9/9 [==============================] - 0s 9ms/step - loss: 0.4409 - accuracy: 0.8369 - val_loss: 0.5566 - val_accuracy: 0.8511\n",
      "Epoch 9/100\n",
      "9/9 [==============================] - 0s 9ms/step - loss: 0.5825 - accuracy: 0.8121 - val_loss: 0.4734 - val_accuracy: 0.8511\n",
      "Epoch 10/100\n",
      "9/9 [==============================] - 0s 11ms/step - loss: 0.6195 - accuracy: 0.7908 - val_loss: 0.4636 - val_accuracy: 0.8404\n",
      "Epoch 11/100\n",
      "9/9 [==============================] - 0s 8ms/step - loss: 0.5035 - accuracy: 0.8511 - val_loss: 0.5246 - val_accuracy: 0.8511\n",
      "Epoch 12/100\n",
      "9/9 [==============================] - 0s 9ms/step - loss: 0.4584 - accuracy: 0.8369 - val_loss: 0.7025 - val_accuracy: 0.8511\n",
      "Epoch 13/100\n",
      "9/9 [==============================] - 0s 9ms/step - loss: 0.6692 - accuracy: 0.7908 - val_loss: 0.6026 - val_accuracy: 0.8511\n",
      "Epoch 14/100\n",
      "9/9 [==============================] - 0s 9ms/step - loss: 0.5119 - accuracy: 0.8511 - val_loss: 0.4580 - val_accuracy: 0.8511\n",
      "Epoch 15/100\n",
      "9/9 [==============================] - 0s 10ms/step - loss: 0.4723 - accuracy: 0.8511 - val_loss: 0.7103 - val_accuracy: 0.8511\n",
      "Epoch 16/100\n",
      "9/9 [==============================] - 0s 9ms/step - loss: 0.5734 - accuracy: 0.8298 - val_loss: 0.6285 - val_accuracy: 0.8511\n",
      "Epoch 17/100\n",
      "9/9 [==============================] - 0s 9ms/step - loss: 0.4974 - accuracy: 0.8511 - val_loss: 0.6162 - val_accuracy: 0.8511\n",
      "Epoch 18/100\n",
      "9/9 [==============================] - 0s 9ms/step - loss: 0.4650 - accuracy: 0.8511 - val_loss: 0.4429 - val_accuracy: 0.8511\n",
      "Epoch 19/100\n",
      "9/9 [==============================] - 0s 8ms/step - loss: 0.4161 - accuracy: 0.8475 - val_loss: 0.4417 - val_accuracy: 0.8511\n",
      "Epoch 20/100\n",
      "9/9 [==============================] - 0s 8ms/step - loss: 0.4226 - accuracy: 0.8511 - val_loss: 0.4534 - val_accuracy: 0.8511\n",
      "Epoch 21/100\n",
      "9/9 [==============================] - 0s 8ms/step - loss: 0.4172 - accuracy: 0.8511 - val_loss: 0.5047 - val_accuracy: 0.8511\n",
      "Epoch 22/100\n",
      "9/9 [==============================] - 0s 7ms/step - loss: 0.4189 - accuracy: 0.8511 - val_loss: 0.4359 - val_accuracy: 0.8511\n",
      "Epoch 23/100\n",
      "9/9 [==============================] - 0s 7ms/step - loss: 0.4152 - accuracy: 0.8511 - val_loss: 0.4362 - val_accuracy: 0.8511\n",
      "Epoch 24/100\n",
      "9/9 [==============================] - 0s 8ms/step - loss: 0.4108 - accuracy: 0.8511 - val_loss: 0.4536 - val_accuracy: 0.8511\n",
      "Epoch 25/100\n",
      "9/9 [==============================] - 0s 8ms/step - loss: 0.4473 - accuracy: 0.8475 - val_loss: 0.4955 - val_accuracy: 0.8511\n",
      "Epoch 26/100\n",
      "9/9 [==============================] - 0s 8ms/step - loss: 0.4647 - accuracy: 0.8475 - val_loss: 0.4458 - val_accuracy: 0.8511\n",
      "Epoch 27/100\n",
      "9/9 [==============================] - 0s 8ms/step - loss: 0.4431 - accuracy: 0.8511 - val_loss: 0.4357 - val_accuracy: 0.8511\n",
      "Epoch 28/100\n",
      "9/9 [==============================] - 0s 7ms/step - loss: 0.4343 - accuracy: 0.8440 - val_loss: 0.4241 - val_accuracy: 0.8511\n",
      "Epoch 29/100\n",
      "9/9 [==============================] - 0s 8ms/step - loss: 0.4205 - accuracy: 0.8511 - val_loss: 0.4218 - val_accuracy: 0.8511\n",
      "Epoch 30/100\n",
      "9/9 [==============================] - 0s 7ms/step - loss: 0.4197 - accuracy: 0.8511 - val_loss: 0.6505 - val_accuracy: 0.8511\n",
      "Epoch 31/100\n",
      "9/9 [==============================] - 0s 8ms/step - loss: 0.4709 - accuracy: 0.8546 - val_loss: 0.4252 - val_accuracy: 0.8511\n",
      "Epoch 32/100\n",
      "9/9 [==============================] - 0s 8ms/step - loss: 0.4029 - accuracy: 0.8511 - val_loss: 0.4309 - val_accuracy: 0.8511\n",
      "Epoch 33/100\n",
      "9/9 [==============================] - 0s 8ms/step - loss: 0.4273 - accuracy: 0.8511 - val_loss: 0.4370 - val_accuracy: 0.8511\n",
      "Epoch 34/100\n",
      "9/9 [==============================] - 0s 8ms/step - loss: 0.4417 - accuracy: 0.8511 - val_loss: 0.4214 - val_accuracy: 0.8511\n",
      "Epoch 35/100\n",
      "9/9 [==============================] - 0s 8ms/step - loss: 0.4198 - accuracy: 0.8546 - val_loss: 0.4301 - val_accuracy: 0.8511\n",
      "Epoch 36/100\n",
      "9/9 [==============================] - 0s 8ms/step - loss: 0.4119 - accuracy: 0.8582 - val_loss: 0.4325 - val_accuracy: 0.8511\n",
      "Epoch 37/100\n",
      "9/9 [==============================] - 0s 8ms/step - loss: 0.4022 - accuracy: 0.8582 - val_loss: 0.4196 - val_accuracy: 0.8511\n",
      "Epoch 38/100\n",
      "9/9 [==============================] - 0s 8ms/step - loss: 0.4381 - accuracy: 0.8475 - val_loss: 0.5868 - val_accuracy: 0.8511\n",
      "Epoch 39/100\n",
      "9/9 [==============================] - 0s 7ms/step - loss: 0.4752 - accuracy: 0.8227 - val_loss: 0.5270 - val_accuracy: 0.8511\n",
      "Epoch 40/100\n",
      "9/9 [==============================] - 0s 7ms/step - loss: 0.4592 - accuracy: 0.8404 - val_loss: 0.4285 - val_accuracy: 0.8511\n",
      "Epoch 41/100\n",
      "9/9 [==============================] - 0s 7ms/step - loss: 0.4302 - accuracy: 0.8511 - val_loss: 0.4305 - val_accuracy: 0.8511\n",
      "Epoch 42/100\n",
      "9/9 [==============================] - 0s 8ms/step - loss: 0.4063 - accuracy: 0.8546 - val_loss: 0.4357 - val_accuracy: 0.8511\n",
      "Epoch 43/100\n",
      "9/9 [==============================] - 0s 8ms/step - loss: 0.4151 - accuracy: 0.8511 - val_loss: 0.4342 - val_accuracy: 0.8511\n",
      "Epoch 44/100\n",
      "9/9 [==============================] - 0s 8ms/step - loss: 0.4243 - accuracy: 0.8546 - val_loss: 0.4224 - val_accuracy: 0.8511\n",
      "Epoch 45/100\n",
      "9/9 [==============================] - 0s 9ms/step - loss: 0.4166 - accuracy: 0.8511 - val_loss: 0.5477 - val_accuracy: 0.8511\n",
      "Epoch 46/100\n",
      "9/9 [==============================] - 0s 10ms/step - loss: 0.4507 - accuracy: 0.8546 - val_loss: 0.4358 - val_accuracy: 0.8511\n",
      "Epoch 47/100\n",
      "9/9 [==============================] - 0s 9ms/step - loss: 0.4023 - accuracy: 0.8546 - val_loss: 0.4207 - val_accuracy: 0.8511\n",
      "Epoch 48/100\n",
      "9/9 [==============================] - 0s 9ms/step - loss: 0.4007 - accuracy: 0.8511 - val_loss: 0.4242 - val_accuracy: 0.8511\n",
      "Epoch 49/100\n",
      "9/9 [==============================] - 0s 9ms/step - loss: 0.4018 - accuracy: 0.8546 - val_loss: 0.4306 - val_accuracy: 0.8511\n",
      "Epoch 50/100\n",
      "9/9 [==============================] - 0s 8ms/step - loss: 0.4146 - accuracy: 0.8582 - val_loss: 0.4587 - val_accuracy: 0.8511\n",
      "Epoch 51/100\n",
      "9/9 [==============================] - 0s 7ms/step - loss: 0.4055 - accuracy: 0.8475 - val_loss: 0.4222 - val_accuracy: 0.8511\n",
      "Epoch 52/100\n",
      "9/9 [==============================] - 0s 7ms/step - loss: 0.3973 - accuracy: 0.8546 - val_loss: 0.4172 - val_accuracy: 0.8511\n",
      "Epoch 53/100\n",
      "9/9 [==============================] - 0s 7ms/step - loss: 0.3935 - accuracy: 0.8546 - val_loss: 0.4163 - val_accuracy: 0.8511\n",
      "Epoch 54/100\n",
      "9/9 [==============================] - 0s 7ms/step - loss: 0.4026 - accuracy: 0.8511 - val_loss: 0.4115 - val_accuracy: 0.8511\n",
      "Epoch 55/100\n",
      "9/9 [==============================] - 0s 7ms/step - loss: 0.4306 - accuracy: 0.8617 - val_loss: 0.4748 - val_accuracy: 0.8511\n",
      "Epoch 56/100\n",
      "9/9 [==============================] - 0s 7ms/step - loss: 0.4247 - accuracy: 0.8546 - val_loss: 0.4504 - val_accuracy: 0.8511\n",
      "Epoch 57/100\n",
      "9/9 [==============================] - 0s 7ms/step - loss: 0.3990 - accuracy: 0.8582 - val_loss: 0.4159 - val_accuracy: 0.8511\n",
      "Epoch 58/100\n",
      "9/9 [==============================] - 0s 7ms/step - loss: 0.3935 - accuracy: 0.8511 - val_loss: 0.4342 - val_accuracy: 0.8511\n",
      "Epoch 59/100\n"
     ]
    },
    {
     "name": "stdout",
     "output_type": "stream",
     "text": [
      "9/9 [==============================] - 0s 7ms/step - loss: 0.4122 - accuracy: 0.8511 - val_loss: 0.4318 - val_accuracy: 0.8511\n",
      "Epoch 60/100\n",
      "9/9 [==============================] - 0s 7ms/step - loss: 0.4244 - accuracy: 0.8440 - val_loss: 0.4521 - val_accuracy: 0.8404\n",
      "Epoch 61/100\n",
      "9/9 [==============================] - 0s 7ms/step - loss: 0.4018 - accuracy: 0.8546 - val_loss: 0.4069 - val_accuracy: 0.8511\n",
      "Epoch 62/100\n",
      "9/9 [==============================] - 0s 7ms/step - loss: 0.3938 - accuracy: 0.8511 - val_loss: 0.4306 - val_accuracy: 0.8511\n",
      "Epoch 63/100\n",
      "9/9 [==============================] - 0s 7ms/step - loss: 0.3959 - accuracy: 0.8652 - val_loss: 0.4451 - val_accuracy: 0.8511\n",
      "Epoch 64/100\n",
      "9/9 [==============================] - 0s 7ms/step - loss: 0.4040 - accuracy: 0.8582 - val_loss: 0.4059 - val_accuracy: 0.8511\n",
      "Epoch 65/100\n",
      "9/9 [==============================] - 0s 7ms/step - loss: 0.3983 - accuracy: 0.8546 - val_loss: 0.4163 - val_accuracy: 0.8511\n",
      "Epoch 66/100\n",
      "9/9 [==============================] - 0s 7ms/step - loss: 0.4098 - accuracy: 0.8652 - val_loss: 0.4201 - val_accuracy: 0.8511\n",
      "Epoch 67/100\n",
      "9/9 [==============================] - 0s 7ms/step - loss: 0.4039 - accuracy: 0.8617 - val_loss: 0.4094 - val_accuracy: 0.8511\n",
      "Epoch 68/100\n",
      "9/9 [==============================] - 0s 7ms/step - loss: 0.3952 - accuracy: 0.8652 - val_loss: 0.4152 - val_accuracy: 0.8511\n",
      "Epoch 69/100\n",
      "9/9 [==============================] - 0s 7ms/step - loss: 0.3996 - accuracy: 0.8511 - val_loss: 0.4109 - val_accuracy: 0.8511\n",
      "Epoch 70/100\n",
      "9/9 [==============================] - 0s 7ms/step - loss: 0.3952 - accuracy: 0.8582 - val_loss: 0.4220 - val_accuracy: 0.8511\n",
      "Epoch 71/100\n",
      "9/9 [==============================] - 0s 7ms/step - loss: 0.3934 - accuracy: 0.8511 - val_loss: 0.4019 - val_accuracy: 0.8511\n",
      "Epoch 72/100\n",
      "9/9 [==============================] - 0s 7ms/step - loss: 0.3890 - accuracy: 0.8582 - val_loss: 0.4032 - val_accuracy: 0.8511\n",
      "Epoch 73/100\n",
      "9/9 [==============================] - 0s 8ms/step - loss: 0.3766 - accuracy: 0.8652 - val_loss: 0.4199 - val_accuracy: 0.8511\n",
      "Epoch 74/100\n",
      "9/9 [==============================] - 0s 7ms/step - loss: 0.3922 - accuracy: 0.8511 - val_loss: 0.4235 - val_accuracy: 0.8511\n",
      "Epoch 75/100\n",
      "9/9 [==============================] - 0s 7ms/step - loss: 0.4004 - accuracy: 0.8617 - val_loss: 0.4084 - val_accuracy: 0.8511\n",
      "Epoch 76/100\n",
      "9/9 [==============================] - 0s 7ms/step - loss: 0.3897 - accuracy: 0.8688 - val_loss: 0.4044 - val_accuracy: 0.8511\n",
      "Epoch 77/100\n",
      "9/9 [==============================] - 0s 7ms/step - loss: 0.3764 - accuracy: 0.8652 - val_loss: 0.4161 - val_accuracy: 0.8511\n",
      "Epoch 78/100\n",
      "9/9 [==============================] - 0s 8ms/step - loss: 0.3717 - accuracy: 0.8688 - val_loss: 0.4287 - val_accuracy: 0.8511\n",
      "Epoch 79/100\n",
      "9/9 [==============================] - 0s 8ms/step - loss: 0.3808 - accuracy: 0.8652 - val_loss: 0.3980 - val_accuracy: 0.8511\n",
      "Epoch 80/100\n",
      "9/9 [==============================] - 0s 9ms/step - loss: 0.3818 - accuracy: 0.8652 - val_loss: 0.4012 - val_accuracy: 0.8511\n",
      "Epoch 81/100\n",
      "9/9 [==============================] - 0s 9ms/step - loss: 0.3594 - accuracy: 0.8759 - val_loss: 0.4230 - val_accuracy: 0.8511\n",
      "Epoch 82/100\n",
      "9/9 [==============================] - 0s 9ms/step - loss: 0.3778 - accuracy: 0.8723 - val_loss: 0.4158 - val_accuracy: 0.8511\n",
      "Epoch 83/100\n",
      "9/9 [==============================] - 0s 9ms/step - loss: 0.3877 - accuracy: 0.8546 - val_loss: 0.3918 - val_accuracy: 0.8511\n",
      "Epoch 84/100\n",
      "9/9 [==============================] - 0s 9ms/step - loss: 0.3876 - accuracy: 0.8511 - val_loss: 0.4122 - val_accuracy: 0.8511\n",
      "Epoch 85/100\n",
      "9/9 [==============================] - 0s 9ms/step - loss: 0.3902 - accuracy: 0.8546 - val_loss: 0.3975 - val_accuracy: 0.8511\n",
      "Epoch 86/100\n",
      "9/9 [==============================] - 0s 9ms/step - loss: 0.3971 - accuracy: 0.8582 - val_loss: 0.4047 - val_accuracy: 0.8511\n",
      "Epoch 87/100\n",
      "9/9 [==============================] - 0s 9ms/step - loss: 0.3909 - accuracy: 0.8652 - val_loss: 0.4274 - val_accuracy: 0.8511\n",
      "Epoch 88/100\n",
      "9/9 [==============================] - 0s 9ms/step - loss: 0.3648 - accuracy: 0.8652 - val_loss: 0.4123 - val_accuracy: 0.8511\n",
      "Epoch 89/100\n",
      "9/9 [==============================] - 0s 9ms/step - loss: 0.3782 - accuracy: 0.8723 - val_loss: 0.4044 - val_accuracy: 0.8511\n",
      "Epoch 90/100\n",
      "9/9 [==============================] - 0s 9ms/step - loss: 0.3804 - accuracy: 0.8617 - val_loss: 0.3951 - val_accuracy: 0.8511\n",
      "Epoch 91/100\n",
      "9/9 [==============================] - 0s 9ms/step - loss: 0.3664 - accuracy: 0.8688 - val_loss: 0.4038 - val_accuracy: 0.8511\n",
      "Epoch 92/100\n",
      "9/9 [==============================] - 0s 9ms/step - loss: 0.3704 - accuracy: 0.8723 - val_loss: 0.4130 - val_accuracy: 0.8511\n",
      "Epoch 93/100\n",
      "9/9 [==============================] - 0s 9ms/step - loss: 0.3636 - accuracy: 0.8652 - val_loss: 0.3963 - val_accuracy: 0.8511\n",
      "Epoch 94/100\n",
      "9/9 [==============================] - 0s 9ms/step - loss: 0.3653 - accuracy: 0.8652 - val_loss: 0.4032 - val_accuracy: 0.8511\n",
      "Epoch 95/100\n",
      "9/9 [==============================] - 0s 9ms/step - loss: 0.3584 - accuracy: 0.8794 - val_loss: 0.3896 - val_accuracy: 0.8511\n",
      "Epoch 96/100\n",
      "9/9 [==============================] - 0s 8ms/step - loss: 0.3424 - accuracy: 0.8794 - val_loss: 0.4129 - val_accuracy: 0.8511\n",
      "Epoch 97/100\n",
      "9/9 [==============================] - 0s 19ms/step - loss: 0.3504 - accuracy: 0.8688 - val_loss: 0.4078 - val_accuracy: 0.8511\n",
      "Epoch 98/100\n",
      "9/9 [==============================] - 0s 9ms/step - loss: 0.3848 - accuracy: 0.8688 - val_loss: 0.4163 - val_accuracy: 0.8617\n",
      "Epoch 99/100\n",
      "9/9 [==============================] - 0s 8ms/step - loss: 0.3620 - accuracy: 0.8759 - val_loss: 0.4167 - val_accuracy: 0.8511\n",
      "Epoch 100/100\n",
      "9/9 [==============================] - 0s 8ms/step - loss: 0.3676 - accuracy: 0.8688 - val_loss: 0.4463 - val_accuracy: 0.8511\n"
     ]
    }
   ],
   "source": [
    "history = model.fit(x_train,y_train,validation_data=[x_val, y_val], batch_size=32, epochs=100,verbose=1)"
   ]
  },
  {
   "cell_type": "code",
   "execution_count": 10,
   "id": "6d188746",
   "metadata": {
    "ExecuteTime": {
     "end_time": "2022-03-16T01:39:25.654626Z",
     "start_time": "2022-03-16T01:39:25.498203Z"
    }
   },
   "outputs": [
    {
     "name": "stdout",
     "output_type": "stream",
     "text": [
      "3/3 [==============================] - 0s 3ms/step - loss: 0.4650 - accuracy: 0.8404\n"
     ]
    },
    {
     "data": {
      "text/plain": [
       "[0.4650096893310547, 0.8404255509376526]"
      ]
     },
     "execution_count": 10,
     "metadata": {},
     "output_type": "execute_result"
    }
   ],
   "source": [
    "pred = model.predict(x)\n",
    "model.evaluate(x_test,y_test) # loss, accuracy"
   ]
  },
  {
   "cell_type": "code",
   "execution_count": 11,
   "id": "771423ab",
   "metadata": {
    "ExecuteTime": {
     "end_time": "2022-03-16T01:39:26.150445Z",
     "start_time": "2022-03-16T01:39:25.671295Z"
    }
   },
   "outputs": [
    {
     "data": {
      "text/plain": [
       "[<matplotlib.lines.Line2D at 0x277ee0a35e0>]"
      ]
     },
     "execution_count": 11,
     "metadata": {},
     "output_type": "execute_result"
    },
    {
     "data": {
      "image/png": "[encoded data removed]",
      "text/plain": [
       "<Figure size 432x288 with 1 Axes>"
      ]
     },
     "metadata": {
      "needs_background": "light"
     },
     "output_type": "display_data"
    }
   ],
   "source": [
    "import matplotlib.pyplot as plt\n",
    "plt.plot(history.history['loss'])\n",
    "plt.plot(history.history['val_loss'])"
   ]
  },
  {
   "cell_type": "code",
   "execution_count": 55,
   "id": "11ee6991",
   "metadata": {
    "ExecuteTime": {
     "end_time": "2022-03-15T08:07:52.458959Z",
     "start_time": "2022-03-15T08:07:52.449984Z"
    }
   },
   "outputs": [
    {
     "data": {
      "text/plain": [
       "[0.4050891101360321,\n",
       " 0.4034000635147095,\n",
       " 0.4028485119342804,\n",
       " 0.40654999017715454,\n",
       " 0.409537136554718,\n",
       " 0.3986937701702118,\n",
       " 0.416614830493927,\n",
       " 0.3965643644332886,\n",
       " 0.4289083182811737,\n",
       " 0.398739755153656,\n",
       " 0.4055376946926117,\n",
       " 0.4055323898792267,\n",
       " 0.4053894281387329,\n",
       " 0.41029950976371765,\n",
       " 0.4086669087409973,\n",
       " 0.40324118733406067,\n",
       " 0.40313559770584106,\n",
       " 0.39096394181251526,\n",
       " 0.39237484335899353,\n",
       " 0.4062623381614685,\n",
       " 0.4165371358394623,\n",
       " 0.3883301317691803,\n",
       " 0.4239402115345001,\n",
       " 0.39297813177108765,\n",
       " 0.40637916326522827,\n",
       " 0.43098554015159607,\n",
       " 0.38888901472091675,\n",
       " 0.4297924339771271,\n",
       " 0.3874342441558838,\n",
       " 0.3886007070541382,\n",
       " 0.3955952227115631,\n",
       " 0.42971307039260864,\n",
       " 0.415296345949173,\n",
       " 0.3936159610748291,\n",
       " 0.4189806580543518,\n",
       " 0.38186103105545044,\n",
       " 0.39662235975265503,\n",
       " 0.3935003876686096,\n",
       " 0.4145257771015167,\n",
       " 0.3964122533798218,\n",
       " 0.4125485122203827,\n",
       " 0.3861866295337677,\n",
       " 0.4034576117992401,\n",
       " 0.38355860114097595,\n",
       " 0.37817901372909546,\n",
       " 0.4011683464050293,\n",
       " 0.38297727704048157,\n",
       " 0.3744719624519348,\n",
       " 0.4127759039402008,\n",
       " 0.4086630046367645,\n",
       " 0.3807457387447357,\n",
       " 0.4231383204460144,\n",
       " 0.3868783712387085,\n",
       " 0.38321202993392944,\n",
       " 0.3832349181175232,\n",
       " 0.4383440911769867,\n",
       " 0.42733699083328247,\n",
       " 0.3950071632862091,\n",
       " 0.39791545271873474,\n",
       " 0.4449332654476166,\n",
       " 0.3976632356643677,\n",
       " 0.40466585755348206,\n",
       " 0.4024960994720459,\n",
       " 0.41283348202705383,\n",
       " 0.3854683041572571,\n",
       " 0.39617279171943665,\n",
       " 0.41785281896591187,\n",
       " 0.41170549392700195,\n",
       " 0.4114106297492981,\n",
       " 0.39621052145957947,\n",
       " 0.3992595374584198,\n",
       " 0.3808478116989136,\n",
       " 0.4037743806838989,\n",
       " 0.426215261220932,\n",
       " 0.38932159543037415,\n",
       " 0.3894788324832916,\n",
       " 0.38287609815597534,\n",
       " 0.43498390913009644,\n",
       " 0.4149048626422882,\n",
       " 0.38348138332366943,\n",
       " 0.37191760540008545,\n",
       " 0.39286088943481445,\n",
       " 0.4131535589694977,\n",
       " 0.39674121141433716,\n",
       " 0.38309600949287415,\n",
       " 0.3639910817146301,\n",
       " 0.3887878954410553,\n",
       " 0.37615954875946045,\n",
       " 0.37509703636169434,\n",
       " 0.3807377815246582,\n",
       " 0.38141119480133057,\n",
       " 0.36688554286956787,\n",
       " 0.3977159857749939,\n",
       " 0.42342227697372437,\n",
       " 0.4115537703037262,\n",
       " 0.3817541301250458,\n",
       " 0.3902992010116577,\n",
       " 0.42088958621025085,\n",
       " 0.39233845472335815,\n",
       " 0.36658599972724915]"
      ]
     },
     "execution_count": 55,
     "metadata": {},
     "output_type": "execute_result"
    }
   ],
   "source": [
    "history.history['val_loss']"
   ]
  },
  {
   "cell_type": "code",
   "execution_count": null,
   "id": "453df61f",
   "metadata": {},
   "outputs": [],
   "source": []
  }
 ],
 "metadata": {
  "kernelspec": {
   "display_name": "Python 3 (ipykernel)",
   "language": "python",
   "name": "python3"
  },
  "language_info": {
   "codemirror_mode": {
    "name": "ipython",
    "version": 3
   },
   "file_extension": ".py",
   "mimetype": "text/x-python",
   "name": "python",
   "nbconvert_exporter": "python",
   "pygments_lexer": "ipython3",
   "version": "3.9.7"
  },
  "toc": {
   "base_numbering": 1,
   "nav_menu": {},
   "number_sections": true,
   "sideBar": true,
   "skip_h1_title": false,
   "title_cell": "Table of Contents",
   "title_sidebar": "Contents",
   "toc_cell": false,
   "toc_position": {},
   "toc_section_display": true,
   "toc_window_display": false
  },
  "varInspector": {
   "cols": {
    "lenName": 16,
    "lenType": 16,
    "lenVar": 40
   },
   "kernels_config": {
    "python": {
     "delete_cmd_postfix": "",
     "delete_cmd_prefix": "del ",
     "library": "var_list.py",
     "varRefreshCmd": "print(var_dic_list())"
    },
    "r": {
     "delete_cmd_postfix": ") ",
     "delete_cmd_prefix": "rm(",
     "library": "var_list.r",
     "varRefreshCmd": "cat(var_dic_list()) "
    }
   },
   "position": {
    "height": "144.844px",
    "left": "1401px",
    "right": "20px",
    "top": "121px",
    "width": "350px"
   },
   "types_to_exclude": [
    "module",
    "function",
    "builtin_function_or_method",
    "instance",
    "_Feature"
   ],
   "window_display": false
  }
 },
 "nbformat": 4,
 "nbformat_minor": 5
}
