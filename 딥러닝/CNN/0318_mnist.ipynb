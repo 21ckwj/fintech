{
 "cells": [
  {
   "cell_type": "code",
   "execution_count": 1,
   "id": "847cdf45",
   "metadata": {
    "ExecuteTime": {
     "end_time": "2022-03-22T02:33:12.553700Z",
     "start_time": "2022-03-22T02:33:11.635115Z"
    }
   },
   "outputs": [],
   "source": [
    "import pandas as pd\n",
    "import numpy as np\n",
    "import matplotlib.pyplot as plt\n",
    "import seaborn as sns"
   ]
  },
  {
   "cell_type": "code",
   "execution_count": 2,
   "id": "47d10b13",
   "metadata": {
    "ExecuteTime": {
     "end_time": "2022-03-22T02:33:14.865693Z",
     "start_time": "2022-03-22T02:33:12.592658Z"
    }
   },
   "outputs": [],
   "source": [
    "from tensorflow.keras.datasets import mnist  #필기체 손글씨\n",
    "from tensorflow.keras import utils\n",
    "import tensorflow as tf"
   ]
  },
  {
   "cell_type": "code",
   "execution_count": 3,
   "id": "56ae9747",
   "metadata": {
    "ExecuteTime": {
     "end_time": "2022-03-22T02:33:14.913344Z",
     "start_time": "2022-03-22T02:33:14.898360Z"
    }
   },
   "outputs": [],
   "source": [
    "from tensorflow.keras.models import *\n",
    "from tensorflow.keras.layers import *"
   ]
  },
  {
   "cell_type": "code",
   "execution_count": 4,
   "id": "03c7898c",
   "metadata": {
    "ExecuteTime": {
     "end_time": "2022-03-22T02:33:15.152970Z",
     "start_time": "2022-03-22T02:33:14.947354Z"
    }
   },
   "outputs": [],
   "source": [
    "(x_train , y_train), (x_test, y_test) = mnist.load_data()"
   ]
  },
  {
   "cell_type": "code",
   "execution_count": 5,
   "id": "75f3cb14",
   "metadata": {
    "ExecuteTime": {
     "end_time": "2022-03-22T02:33:15.215435Z",
     "start_time": "2022-03-22T02:33:15.203467Z"
    }
   },
   "outputs": [
    {
     "name": "stdout",
     "output_type": "stream",
     "text": [
      "(60000, 28, 28)\n",
      "(10000, 28, 28)\n",
      "(60000,)\n",
      "(10000,)\n"
     ]
    }
   ],
   "source": [
    "print(x_train.shape)\n",
    "print(x_test.shape)\n",
    "print(y_train.shape)\n",
    "print(y_test.shape)"
   ]
  },
  {
   "cell_type": "code",
   "execution_count": 6,
   "id": "165aea31",
   "metadata": {
    "ExecuteTime": {
     "end_time": "2022-03-22T02:33:15.263146Z",
     "start_time": "2022-03-22T02:33:15.248403Z"
    }
   },
   "outputs": [
    {
     "data": {
      "text/plain": [
       "(28, 28)"
      ]
     },
     "execution_count": 6,
     "metadata": {},
     "output_type": "execute_result"
    }
   ],
   "source": [
    "x_train[0].shape"
   ]
  },
  {
   "cell_type": "code",
   "execution_count": 7,
   "id": "92fead68",
   "metadata": {
    "ExecuteTime": {
     "end_time": "2022-03-22T02:33:15.406502Z",
     "start_time": "2022-03-22T02:33:15.298058Z"
    }
   },
   "outputs": [
    {
     "data": {
      "text/plain": [
       "<matplotlib.image.AxesImage at 0x24513ef3af0>"
      ]
     },
     "execution_count": 7,
     "metadata": {},
     "output_type": "execute_result"
    },
    {
     "data": {
      "image/png": "[encoded data removed]",
      "text/plain": [
       "<Figure size 432x288 with 1 Axes>"
      ]
     },
     "metadata": {
      "needs_background": "light"
     },
     "output_type": "display_data"
    }
   ],
   "source": [
    "plt.imshow(x_train[0],cmap='Greys')"
   ]
  },
  {
   "cell_type": "code",
   "execution_count": 8,
   "id": "ec0beb24",
   "metadata": {
    "ExecuteTime": {
     "end_time": "2022-03-22T02:33:15.470369Z",
     "start_time": "2022-03-22T02:33:15.456406Z"
    }
   },
   "outputs": [],
   "source": [
    "x_train_vec = x_train.reshape(60000, 28*28)\n",
    "x_test_vec = x_test.reshape(10000, 28*28)"
   ]
  },
  {
   "cell_type": "code",
   "execution_count": 9,
   "id": "b65f9094",
   "metadata": {
    "ExecuteTime": {
     "end_time": "2022-03-22T02:33:15.518507Z",
     "start_time": "2022-03-22T02:33:15.504371Z"
    }
   },
   "outputs": [],
   "source": [
    "y_train_oh = utils.to_categorical(y_train)\n",
    "y_test_oh = utils.to_categorical(y_test)"
   ]
  },
  {
   "cell_type": "code",
   "execution_count": null,
   "id": "b10d0022",
   "metadata": {},
   "outputs": [],
   "source": []
  },
  {
   "cell_type": "code",
   "execution_count": 10,
   "id": "1da31e35",
   "metadata": {
    "ExecuteTime": {
     "end_time": "2022-03-22T02:33:18.367210Z",
     "start_time": "2022-03-22T02:33:16.482198Z"
    },
    "scrolled": true
   },
   "outputs": [
    {
     "name": "stdout",
     "output_type": "stream",
     "text": [
      "Model: \"sequential\"\n",
      "_________________________________________________________________\n",
      " Layer (type)                Output Shape              Param #   \n",
      "=================================================================\n",
      " dense (Dense)               (None, 112)               87920     \n",
      "                                                                 \n",
      " dense_1 (Dense)             (None, 56)                6328      \n",
      "                                                                 \n",
      " dense_2 (Dense)             (None, 28)                1596      \n",
      "                                                                 \n",
      " dense_3 (Dense)             (None, 10)                290       \n",
      "                                                                 \n",
      "=================================================================\n",
      "Total params: 96,134\n",
      "Trainable params: 96,134\n",
      "Non-trainable params: 0\n",
      "_________________________________________________________________\n"
     ]
    }
   ],
   "source": [
    "with tf.device('/GPU:0'):\n",
    "    model = Sequential()\n",
    "    model.add(Dense(112, input_dim=28*28, activation= 'relu'))\n",
    "    model.add(Dense(56, activation='relu'))\n",
    "    model.add(Dense(28, activation='relu'))\n",
    "    model.add(Dense(10, activation='softmax'))\n",
    "    model.compile(loss= 'categorical_crossentropy', metrics=['accuracy'], optimizer='adam')\n",
    "    model.summary()"
   ]
  },
  {
   "cell_type": "code",
   "execution_count": 11,
   "id": "d0de795c",
   "metadata": {
    "ExecuteTime": {
     "end_time": "2022-03-22T02:46:30.664057Z",
     "start_time": "2022-03-22T02:33:18.482605Z"
    },
    "scrolled": true
   },
   "outputs": [
    {
     "name": "stdout",
     "output_type": "stream",
     "text": [
      "Epoch 1/50\n",
      "4800/4800 [==============================] - 17s 3ms/step - loss: 1.0974 - accuracy: 0.7387 - val_loss: 0.4095 - val_accuracy: 0.9014\n",
      "Epoch 2/50\n",
      "4800/4800 [==============================] - 16s 3ms/step - loss: 0.3413 - accuracy: 0.9115 - val_loss: 0.2270 - val_accuracy: 0.9439\n",
      "Epoch 3/50\n",
      "4800/4800 [==============================] - 16s 3ms/step - loss: 0.2250 - accuracy: 0.9411 - val_loss: 0.2087 - val_accuracy: 0.9451\n",
      "Epoch 4/50\n",
      "4800/4800 [==============================] - 16s 3ms/step - loss: 0.1807 - accuracy: 0.9529 - val_loss: 0.1681 - val_accuracy: 0.9578\n",
      "Epoch 5/50\n",
      "4800/4800 [==============================] - 16s 3ms/step - loss: 0.1485 - accuracy: 0.9614 - val_loss: 0.2004 - val_accuracy: 0.9524\n",
      "Epoch 6/50\n",
      "4800/4800 [==============================] - 15s 3ms/step - loss: 0.1352 - accuracy: 0.9653 - val_loss: 0.1873 - val_accuracy: 0.9610\n",
      "Epoch 7/50\n",
      "4800/4800 [==============================] - 16s 3ms/step - loss: 0.1306 - accuracy: 0.9688 - val_loss: 0.2012 - val_accuracy: 0.9627\n",
      "Epoch 8/50\n",
      "4800/4800 [==============================] - 15s 3ms/step - loss: 0.1191 - accuracy: 0.9707 - val_loss: 0.1711 - val_accuracy: 0.9631\n",
      "Epoch 9/50\n",
      "4800/4800 [==============================] - 15s 3ms/step - loss: 0.1049 - accuracy: 0.9738 - val_loss: 0.1554 - val_accuracy: 0.9666\n",
      "Epoch 10/50\n",
      "4800/4800 [==============================] - 16s 3ms/step - loss: 0.1014 - accuracy: 0.9754 - val_loss: 0.2183 - val_accuracy: 0.9616\n",
      "Epoch 11/50\n",
      "4800/4800 [==============================] - 15s 3ms/step - loss: 0.1018 - accuracy: 0.9764 - val_loss: 0.1773 - val_accuracy: 0.9636\n",
      "Epoch 12/50\n",
      "4800/4800 [==============================] - 15s 3ms/step - loss: 0.0922 - accuracy: 0.9781 - val_loss: 0.2094 - val_accuracy: 0.9702\n",
      "Epoch 13/50\n",
      "4800/4800 [==============================] - 16s 3ms/step - loss: 0.0925 - accuracy: 0.9783 - val_loss: 0.1728 - val_accuracy: 0.9678\n",
      "Epoch 14/50\n",
      "4800/4800 [==============================] - 16s 3ms/step - loss: 0.0828 - accuracy: 0.9804 - val_loss: 0.1803 - val_accuracy: 0.9654\n",
      "Epoch 15/50\n",
      "4800/4800 [==============================] - 15s 3ms/step - loss: 0.0884 - accuracy: 0.9798 - val_loss: 0.1729 - val_accuracy: 0.9707\n",
      "Epoch 16/50\n",
      "4800/4800 [==============================] - 16s 3ms/step - loss: 0.0827 - accuracy: 0.9811 - val_loss: 0.1932 - val_accuracy: 0.9676\n",
      "Epoch 17/50\n",
      "4800/4800 [==============================] - 17s 3ms/step - loss: 0.0846 - accuracy: 0.9815 - val_loss: 0.2361 - val_accuracy: 0.9651\n",
      "Epoch 18/50\n",
      "4800/4800 [==============================] - 16s 3ms/step - loss: 0.0794 - accuracy: 0.9823 - val_loss: 0.2421 - val_accuracy: 0.9625\n",
      "Epoch 19/50\n",
      "4800/4800 [==============================] - 15s 3ms/step - loss: 0.0751 - accuracy: 0.9830 - val_loss: 0.2135 - val_accuracy: 0.9620\n",
      "Epoch 20/50\n",
      "4800/4800 [==============================] - 16s 3ms/step - loss: 0.0808 - accuracy: 0.9831 - val_loss: 0.2208 - val_accuracy: 0.9632\n",
      "Epoch 21/50\n",
      "4800/4800 [==============================] - 16s 3ms/step - loss: 0.0673 - accuracy: 0.9848 - val_loss: 0.2222 - val_accuracy: 0.9669\n",
      "Epoch 22/50\n",
      "4800/4800 [==============================] - 16s 3ms/step - loss: 0.0756 - accuracy: 0.9832 - val_loss: 0.3088 - val_accuracy: 0.9691\n",
      "Epoch 23/50\n",
      "4800/4800 [==============================] - 16s 3ms/step - loss: 0.0755 - accuracy: 0.9845 - val_loss: 0.2830 - val_accuracy: 0.9643\n",
      "Epoch 24/50\n",
      "4800/4800 [==============================] - 16s 3ms/step - loss: 0.0730 - accuracy: 0.9850 - val_loss: 0.3877 - val_accuracy: 0.9698\n",
      "Epoch 25/50\n",
      "4800/4800 [==============================] - 16s 3ms/step - loss: 0.0683 - accuracy: 0.9850 - val_loss: 0.2717 - val_accuracy: 0.9674\n",
      "Epoch 26/50\n",
      "4800/4800 [==============================] - 16s 3ms/step - loss: 0.0770 - accuracy: 0.9839 - val_loss: 0.2386 - val_accuracy: 0.9678\n",
      "Epoch 27/50\n",
      "4800/4800 [==============================] - 16s 3ms/step - loss: 0.0712 - accuracy: 0.9852 - val_loss: 0.2392 - val_accuracy: 0.9702\n",
      "Epoch 28/50\n",
      "4800/4800 [==============================] - 16s 3ms/step - loss: 0.0750 - accuracy: 0.9849 - val_loss: 0.2225 - val_accuracy: 0.9697\n",
      "Epoch 29/50\n",
      "4800/4800 [==============================] - 16s 3ms/step - loss: 0.0586 - accuracy: 0.9871 - val_loss: 0.2940 - val_accuracy: 0.9707\n",
      "Epoch 30/50\n",
      "4800/4800 [==============================] - 16s 3ms/step - loss: 0.0723 - accuracy: 0.9850 - val_loss: 0.3010 - val_accuracy: 0.9699\n",
      "Epoch 31/50\n",
      "4800/4800 [==============================] - 16s 3ms/step - loss: 0.0720 - accuracy: 0.9851 - val_loss: 0.3669 - val_accuracy: 0.9675\n",
      "Epoch 32/50\n",
      "4800/4800 [==============================] - 16s 3ms/step - loss: 0.0635 - accuracy: 0.9868 - val_loss: 0.4504 - val_accuracy: 0.9710\n",
      "Epoch 33/50\n",
      "4800/4800 [==============================] - 16s 3ms/step - loss: 0.0688 - accuracy: 0.9868 - val_loss: 0.2306 - val_accuracy: 0.9701\n",
      "Epoch 34/50\n",
      "4800/4800 [==============================] - 17s 3ms/step - loss: 0.0746 - accuracy: 0.9871 - val_loss: 0.2776 - val_accuracy: 0.9638\n",
      "Epoch 35/50\n",
      "4800/4800 [==============================] - 16s 3ms/step - loss: 0.0612 - accuracy: 0.9881 - val_loss: 0.3403 - val_accuracy: 0.9698\n",
      "Epoch 36/50\n",
      "4800/4800 [==============================] - 16s 3ms/step - loss: 0.0776 - accuracy: 0.9870 - val_loss: 0.3565 - val_accuracy: 0.9697\n",
      "Epoch 37/50\n",
      "4800/4800 [==============================] - 16s 3ms/step - loss: 0.0667 - accuracy: 0.9867 - val_loss: 0.5896 - val_accuracy: 0.9674\n",
      "Epoch 38/50\n",
      "4800/4800 [==============================] - 16s 3ms/step - loss: 0.0859 - accuracy: 0.9851 - val_loss: 0.4123 - val_accuracy: 0.9705\n",
      "Epoch 39/50\n",
      "4800/4800 [==============================] - 15s 3ms/step - loss: 0.0709 - accuracy: 0.9869 - val_loss: 0.3437 - val_accuracy: 0.9673\n",
      "Epoch 40/50\n",
      "4800/4800 [==============================] - 16s 3ms/step - loss: 0.0725 - accuracy: 0.9869 - val_loss: 0.4052 - val_accuracy: 0.9661\n",
      "Epoch 41/50\n",
      "4800/4800 [==============================] - 15s 3ms/step - loss: 0.0580 - accuracy: 0.9886 - val_loss: 0.3036 - val_accuracy: 0.9706\n",
      "Epoch 42/50\n",
      "4800/4800 [==============================] - 15s 3ms/step - loss: 0.0703 - accuracy: 0.9869 - val_loss: 0.3121 - val_accuracy: 0.9690\n",
      "Epoch 43/50\n",
      "4800/4800 [==============================] - 16s 3ms/step - loss: 0.0732 - accuracy: 0.9874 - val_loss: 0.5788 - val_accuracy: 0.9510\n",
      "Epoch 44/50\n",
      "4800/4800 [==============================] - 16s 3ms/step - loss: 0.0718 - accuracy: 0.9869 - val_loss: 0.4887 - val_accuracy: 0.9723\n",
      "Epoch 45/50\n",
      "4800/4800 [==============================] - 16s 3ms/step - loss: 0.0766 - accuracy: 0.9874 - val_loss: 0.6074 - val_accuracy: 0.9666\n",
      "Epoch 46/50\n",
      "4800/4800 [==============================] - 16s 3ms/step - loss: 0.0788 - accuracy: 0.9856 - val_loss: 0.4910 - val_accuracy: 0.9698\n",
      "Epoch 47/50\n",
      "4800/4800 [==============================] - 16s 3ms/step - loss: 0.0696 - accuracy: 0.9882 - val_loss: 0.4639 - val_accuracy: 0.9680\n",
      "Epoch 48/50\n",
      "4800/4800 [==============================] - 16s 3ms/step - loss: 0.0659 - accuracy: 0.9876 - val_loss: 0.4179 - val_accuracy: 0.9711\n",
      "Epoch 49/50\n",
      "4800/4800 [==============================] - 16s 3ms/step - loss: 0.0721 - accuracy: 0.9870 - val_loss: 0.5066 - val_accuracy: 0.9666\n",
      "Epoch 50/50\n",
      "4800/4800 [==============================] - 16s 3ms/step - loss: 0.0736 - accuracy: 0.9870 - val_loss: 0.5851 - val_accuracy: 0.9694\n"
     ]
    }
   ],
   "source": [
    "# 느리거나 안돌아감\n",
    "hist = model.fit(x_train_vec,y_train_oh,validation_split=0.2, epochs=50, batch_size=10)"
   ]
  },
  {
   "cell_type": "code",
   "execution_count": null,
   "id": "19098384",
   "metadata": {},
   "outputs": [],
   "source": []
  },
  {
   "cell_type": "code",
   "execution_count": null,
   "id": "20de7149",
   "metadata": {},
   "outputs": [],
   "source": [
    "model.evaluate(x_test_vec, y_test_oh)"
   ]
  },
  {
   "cell_type": "code",
   "execution_count": null,
   "id": "faa5a90a",
   "metadata": {},
   "outputs": [],
   "source": [
    "plt.plot(hist.history['accuracy'])\n",
    "plt.plot(hist.history['val_accuracy'])"
   ]
  },
  {
   "cell_type": "code",
   "execution_count": null,
   "id": "606f2202",
   "metadata": {},
   "outputs": [],
   "source": []
  },
  {
   "cell_type": "markdown",
   "id": "5ad5eae3",
   "metadata": {},
   "source": [
    "# CNN 모델"
   ]
  },
  {
   "cell_type": "code",
   "execution_count": 14,
   "id": "4532951b",
   "metadata": {
    "ExecuteTime": {
     "end_time": "2022-03-18T02:37:07.597203Z",
     "start_time": "2022-03-18T02:37:07.592217Z"
    }
   },
   "outputs": [],
   "source": [
    "from tensorflow.keras.layers import Conv2D, Flatten, MaxPooling2D, Dropout"
   ]
  },
  {
   "cell_type": "code",
   "execution_count": 15,
   "id": "72a30478",
   "metadata": {
    "ExecuteTime": {
     "end_time": "2022-03-18T02:37:07.865179Z",
     "start_time": "2022-03-18T02:37:07.846942Z"
    }
   },
   "outputs": [],
   "source": [
    "x_train_cov = x_train.reshape(60000,28,28,1) # (data num, row num, col num, depth)\n",
    "x_test_cov = x_test.reshape(10000,28,28,1)"
   ]
  },
  {
   "cell_type": "code",
   "execution_count": 16,
   "id": "2edfeb43",
   "metadata": {
    "ExecuteTime": {
     "end_time": "2022-03-18T02:37:08.541285Z",
     "start_time": "2022-03-18T02:37:08.488666Z"
    }
   },
   "outputs": [
    {
     "name": "stdout",
     "output_type": "stream",
     "text": [
      "Model: \"sequential_1\"\n",
      "_________________________________________________________________\n",
      " Layer (type)                Output Shape              Param #   \n",
      "=================================================================\n",
      " conv2d_2 (Conv2D)           (None, 26, 26, 32)        320       \n",
      "                                                                 \n",
      " conv2d_3 (Conv2D)           (None, 24, 24, 64)        18496     \n",
      "                                                                 \n",
      " max_pooling2d_1 (MaxPooling  (None, 12, 12, 64)       0         \n",
      " 2D)                                                             \n",
      "                                                                 \n",
      " flatten_1 (Flatten)         (None, 9216)              0         \n",
      "                                                                 \n",
      " dense_2 (Dense)             (None, 128)               1179776   \n",
      "                                                                 \n",
      " dense_3 (Dense)             (None, 10)                1290      \n",
      "                                                                 \n",
      "=================================================================\n",
      "Total params: 1,199,882\n",
      "Trainable params: 1,199,882\n",
      "Non-trainable params: 0\n",
      "_________________________________________________________________\n"
     ]
    }
   ],
   "source": [
    "model = Sequential()\n",
    "model.add(Conv2D(32,kernel_size=(3,3), input_shape= (28,28,1), activation='relu'))\n",
    "model.add(Conv2D(64, (3,3), activation='relu'))\n",
    "\n",
    "model.add(MaxPooling2D(pool_size=2))\n",
    "model.add(Flatten())\n",
    "model.add(Dense(128,activation='relu'))\n",
    "model.add(Dense(10,activation='softmax'))\n",
    "model.summary()"
   ]
  },
  {
   "cell_type": "code",
   "execution_count": 17,
   "id": "e93e8608",
   "metadata": {
    "ExecuteTime": {
     "end_time": "2022-03-18T02:37:08.967487Z",
     "start_time": "2022-03-18T02:37:08.951228Z"
    }
   },
   "outputs": [],
   "source": [
    "model.compile(loss= 'categorical_crossentropy', metrics=['accuracy'], optimizer='adam')"
   ]
  },
  {
   "cell_type": "code",
   "execution_count": null,
   "id": "61d34dc0",
   "metadata": {
    "ExecuteTime": {
     "start_time": "2022-03-18T02:37:09.543Z"
    }
   },
   "outputs": [
    {
     "name": "stdout",
     "output_type": "stream",
     "text": [
      "Epoch 1/10\n"
     ]
    }
   ],
   "source": [
    "model.fit(x_train_cov,y_train_oh, epochs=10, batch_size=20, validation_split=0.2)"
   ]
  },
  {
   "cell_type": "code",
   "execution_count": null,
   "id": "2b092324",
   "metadata": {},
   "outputs": [],
   "source": []
  }
 ],
 "metadata": {
  "kernelspec": {
   "display_name": "Python 3 (ipykernel)",
   "language": "python",
   "name": "python3"
  },
  "language_info": {
   "codemirror_mode": {
    "name": "ipython",
    "version": 3
   },
   "file_extension": ".py",
   "mimetype": "text/x-python",
   "name": "python",
   "nbconvert_exporter": "python",
   "pygments_lexer": "ipython3",
   "version": "3.9.7"
  },
  "toc": {
   "base_numbering": 1,
   "nav_menu": {},
   "number_sections": true,
   "sideBar": true,
   "skip_h1_title": false,
   "title_cell": "Table of Contents",
   "title_sidebar": "Contents",
   "toc_cell": false,
   "toc_position": {},
   "toc_section_display": true,
   "toc_window_display": false
  },
  "varInspector": {
   "cols": {
    "lenName": 16,
    "lenType": 16,
    "lenVar": 40
   },
   "kernels_config": {
    "python": {
     "delete_cmd_postfix": "",
     "delete_cmd_prefix": "del ",
     "library": "var_list.py",
     "varRefreshCmd": "print(var_dic_list())"
    },
    "r": {
     "delete_cmd_postfix": ") ",
     "delete_cmd_prefix": "rm(",
     "library": "var_list.r",
     "varRefreshCmd": "cat(var_dic_list()) "
    }
   },
   "types_to_exclude": [
    "module",
    "function",
    "builtin_function_or_method",
    "instance",
    "_Feature"
   ],
   "window_display": false
  }
 },
 "nbformat": 4,
 "nbformat_minor": 5
}
