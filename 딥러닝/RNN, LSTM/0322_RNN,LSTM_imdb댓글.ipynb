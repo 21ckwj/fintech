{
 "cells": [
  {
   "cell_type": "markdown",
   "id": "0b772cce",
   "metadata": {},
   "source": [
    "# imdb 댓글 긍정,부정판단"
   ]
  },
  {
   "cell_type": "code",
   "execution_count": 1,
   "id": "b9206439",
   "metadata": {
    "ExecuteTime": {
     "end_time": "2022-03-22T08:43:11.621752Z",
     "start_time": "2022-03-22T08:43:11.614771Z"
    }
   },
   "outputs": [],
   "source": [
    "# ex) That was great. [35 , 60, 100 ]\n",
    "# 단어들의 번호를 매겨서 list 안에 번호로 넣어준 값"
   ]
  },
  {
   "cell_type": "code",
   "execution_count": 2,
   "id": "1298d88b",
   "metadata": {
    "ExecuteTime": {
     "end_time": "2022-03-22T08:43:12.707576Z",
     "start_time": "2022-03-22T08:43:11.787869Z"
    }
   },
   "outputs": [],
   "source": [
    "import pandas as pd\n",
    "import numpy as np\n",
    "import matplotlib.pyplot as plt\n",
    "import seaborn as sns"
   ]
  },
  {
   "cell_type": "code",
   "execution_count": 3,
   "id": "700e03f9",
   "metadata": {
    "ExecuteTime": {
     "end_time": "2022-03-22T08:43:14.900763Z",
     "start_time": "2022-03-22T08:43:12.742673Z"
    }
   },
   "outputs": [],
   "source": [
    "from tensorflow.keras.preprocessing import sequence\n",
    "from tensorflow.keras.models import Sequential\n",
    "from tensorflow.keras.layers import Dense, Dropout, Activation, Embedding, SimpleRNN, LSTM"
   ]
  },
  {
   "cell_type": "code",
   "execution_count": 4,
   "id": "e8ac95af",
   "metadata": {
    "ExecuteTime": {
     "end_time": "2022-03-22T08:43:17.900178Z",
     "start_time": "2022-03-22T08:43:14.935819Z"
    }
   },
   "outputs": [],
   "source": [
    "from tensorflow.keras.datasets import imdb\n",
    "\n",
    "(x_train, y_train), (x_test, y_test)= imdb.load_data(num_words= 500)"
   ]
  },
  {
   "cell_type": "code",
   "execution_count": 5,
   "id": "c30098b6",
   "metadata": {
    "ExecuteTime": {
     "end_time": "2022-03-22T08:43:17.947046Z",
     "start_time": "2022-03-22T08:43:17.935878Z"
    }
   },
   "outputs": [],
   "source": [
    "x_train = x_train[:2500]\n",
    "x_test = x_test[:2500]\n",
    "y_train = y_train[:2500]\n",
    "y_test = y_test[:2500]"
   ]
  },
  {
   "cell_type": "code",
   "execution_count": 6,
   "id": "7a817aa8",
   "metadata": {
    "ExecuteTime": {
     "end_time": "2022-03-22T08:43:19.390189Z",
     "start_time": "2022-03-22T08:43:19.372237Z"
    }
   },
   "outputs": [
    {
     "name": "stdout",
     "output_type": "stream",
     "text": [
      "(2500,) (2500,)\n"
     ]
    }
   ],
   "source": [
    "print(x_train.shape, x_test.shape)"
   ]
  },
  {
   "cell_type": "code",
   "execution_count": 7,
   "id": "3ccf13ac",
   "metadata": {
    "ExecuteTime": {
     "end_time": "2022-03-22T08:43:20.540375Z",
     "start_time": "2022-03-22T08:43:20.525386Z"
    }
   },
   "outputs": [
    {
     "data": {
      "text/plain": [
       "array([list([1, 14, 22, 16, 43, 2, 2, 2, 2, 65, 458, 2, 66, 2, 4, 173, 36, 256, 5, 25, 100, 43, 2, 112, 50, 2, 2, 9, 35, 480, 284, 5, 150, 4, 172, 112, 167, 2, 336, 385, 39, 4, 172, 2, 2, 17, 2, 38, 13, 447, 4, 192, 50, 16, 6, 147, 2, 19, 14, 22, 4, 2, 2, 469, 4, 22, 71, 87, 12, 16, 43, 2, 38, 76, 15, 13, 2, 4, 22, 17, 2, 17, 12, 16, 2, 18, 2, 5, 62, 386, 12, 8, 316, 8, 106, 5, 4, 2, 2, 16, 480, 66, 2, 33, 4, 130, 12, 16, 38, 2, 5, 25, 124, 51, 36, 135, 48, 25, 2, 33, 6, 22, 12, 215, 28, 77, 52, 5, 14, 407, 16, 82, 2, 8, 4, 107, 117, 2, 15, 256, 4, 2, 7, 2, 5, 2, 36, 71, 43, 2, 476, 26, 400, 317, 46, 7, 4, 2, 2, 13, 104, 88, 4, 381, 15, 297, 98, 32, 2, 56, 26, 141, 6, 194, 2, 18, 4, 226, 22, 21, 134, 476, 26, 480, 5, 144, 30, 2, 18, 51, 36, 28, 224, 92, 25, 104, 4, 226, 65, 16, 38, 2, 88, 12, 16, 283, 5, 16, 2, 113, 103, 32, 15, 16, 2, 19, 178, 32]),\n",
       "       list([1, 194, 2, 194, 2, 78, 228, 5, 6, 2, 2, 2, 134, 26, 4, 2, 8, 118, 2, 14, 394, 20, 13, 119, 2, 189, 102, 5, 207, 110, 2, 21, 14, 69, 188, 8, 30, 23, 7, 4, 249, 126, 93, 4, 114, 9, 2, 2, 5, 2, 4, 116, 9, 35, 2, 4, 229, 9, 340, 2, 4, 118, 9, 4, 130, 2, 19, 4, 2, 5, 89, 29, 2, 46, 37, 4, 455, 9, 45, 43, 38, 2, 2, 398, 4, 2, 26, 2, 5, 163, 11, 2, 2, 4, 2, 9, 194, 2, 7, 2, 2, 349, 2, 148, 2, 2, 2, 15, 123, 125, 68, 2, 2, 15, 349, 165, 2, 98, 5, 4, 228, 9, 43, 2, 2, 15, 299, 120, 5, 120, 174, 11, 220, 175, 136, 50, 9, 2, 228, 2, 5, 2, 2, 245, 2, 5, 4, 2, 131, 152, 491, 18, 2, 32, 2, 2, 14, 9, 6, 371, 78, 22, 2, 64, 2, 9, 8, 168, 145, 23, 4, 2, 15, 16, 4, 2, 5, 28, 6, 52, 154, 462, 33, 89, 78, 285, 16, 145, 95]),\n",
       "       list([1, 14, 47, 8, 30, 31, 7, 4, 249, 108, 7, 4, 2, 54, 61, 369, 13, 71, 149, 14, 22, 112, 4, 2, 311, 12, 16, 2, 33, 75, 43, 2, 296, 4, 86, 320, 35, 2, 19, 263, 2, 2, 4, 2, 33, 89, 78, 12, 66, 16, 4, 360, 7, 4, 58, 316, 334, 11, 4, 2, 43, 2, 2, 8, 257, 85, 2, 42, 2, 2, 83, 68, 2, 15, 36, 165, 2, 278, 36, 69, 2, 2, 8, 106, 14, 2, 2, 18, 6, 22, 12, 215, 28, 2, 40, 6, 87, 326, 23, 2, 21, 23, 22, 12, 272, 40, 57, 31, 11, 4, 22, 47, 6, 2, 51, 9, 170, 23, 2, 116, 2, 2, 13, 191, 79, 2, 89, 2, 14, 9, 8, 106, 2, 2, 35, 2, 6, 227, 7, 129, 113]),\n",
       "       list([1, 4, 2, 2, 33, 2, 4, 2, 432, 111, 153, 103, 4, 2, 13, 70, 131, 67, 11, 61, 2, 2, 35, 2, 2, 61, 2, 452, 2, 4, 2, 7, 2, 59, 166, 4, 105, 216, 2, 41, 2, 9, 15, 7, 35, 2, 2, 31, 8, 4, 2, 23, 4, 2, 2, 6, 2, 42, 38, 39, 121, 59, 456, 10, 10, 7, 265, 12, 2, 111, 153, 159, 59, 16, 2, 21, 25, 2, 482, 39, 4, 96, 59, 2, 12, 4, 172, 65, 9, 2, 11, 2, 4, 2, 5, 2, 7, 2, 17, 13, 2, 12, 19, 6, 464, 31, 314, 11, 2, 6, 2, 2, 11, 8, 202, 27, 310, 4, 2, 2, 8, 2, 58, 10, 10, 2, 2, 180, 40, 14, 413, 173, 7, 263, 112, 37, 152, 377, 4, 2, 263, 2, 2, 178, 54, 75, 71, 476, 36, 413, 263, 2, 182, 5, 17, 75, 2, 2, 36, 279, 131, 2, 17, 2, 42, 17, 35, 2, 2, 192, 5, 2, 2, 19, 2, 217, 2, 2, 2, 2, 2, 5, 2, 10, 10, 61, 403, 9, 2, 40, 61, 2, 5, 27, 2, 159, 90, 263, 2, 2, 309, 8, 178, 5, 82, 2, 4, 65, 15, 2, 145, 143, 2, 12, 2, 2, 2, 2, 2, 15, 2, 4, 2, 2, 7, 2, 94, 2, 2, 2, 11, 2, 4, 2, 7, 2, 246, 2, 9, 2, 11, 2, 14, 9, 51, 408, 12, 94, 318, 2, 12, 47, 6, 2, 2, 5, 2, 2, 19, 49, 7, 4, 2, 2, 2, 25, 80, 126, 2, 10, 10, 2, 2, 2, 27, 2, 11, 2, 2, 159, 27, 341, 29, 2, 19, 2, 173, 7, 90, 2, 8, 30, 11, 4, 2, 86, 2, 8, 2, 46, 11, 2, 21, 29, 9, 2, 23, 4, 2, 2, 2, 6, 2, 2, 2, 10, 10, 246, 50, 9, 6, 2, 2, 2, 90, 29, 2, 8, 124, 4, 2, 4, 2, 496, 27, 2, 2, 2, 121, 127, 2, 130, 5, 29, 494, 8, 124, 4, 2, 496, 4, 341, 7, 27, 2, 10, 10, 29, 9, 2, 8, 97, 6, 236, 2, 2, 8, 4, 2, 7, 31, 7, 2, 91, 2, 2, 70, 4, 2, 30, 2, 42, 9, 12, 32, 11, 2, 10, 10, 11, 14, 65, 44, 2, 75, 2, 2, 2, 2, 2, 4, 2, 7, 154, 5, 4, 2, 53, 2, 2, 7, 2, 2, 11, 399, 38, 75, 257, 2, 19, 2, 17, 29, 456, 4, 65, 7, 27, 205, 113, 10, 10, 2, 4, 2, 2, 9, 242, 4, 91, 2, 2, 5, 2, 307, 22, 7, 2, 126, 93, 40, 2, 13, 188, 2, 2, 19, 4, 2, 7, 2, 2, 23, 53, 2, 21, 82, 40, 2, 13, 2, 14, 280, 13, 219, 4, 2, 431, 2, 2, 4, 2, 2, 2, 7, 2, 5, 94, 40, 25, 238, 60, 2, 4, 2, 2, 2, 7, 4, 2, 132, 8, 67, 6, 22, 15, 9, 283, 8, 2, 14, 31, 9, 242, 2, 48, 25, 279, 2, 23, 12, 2, 195, 25, 238, 60, 2, 2, 4, 2, 7, 2, 5, 4, 2, 154, 2, 7, 2, 50, 26, 49, 2, 15, 2, 30, 2, 21, 64, 2])],\n",
       "      dtype=object)"
      ]
     },
     "execution_count": 7,
     "metadata": {},
     "output_type": "execute_result"
    }
   ],
   "source": [
    "x_train[:4]"
   ]
  },
  {
   "cell_type": "code",
   "execution_count": 8,
   "id": "1d54ea84",
   "metadata": {
    "ExecuteTime": {
     "end_time": "2022-03-22T08:43:23.135361Z",
     "start_time": "2022-03-22T08:43:23.116447Z"
    }
   },
   "outputs": [
    {
     "data": {
      "text/plain": [
       "array([1, 0, 0, 1], dtype=int64)"
      ]
     },
     "execution_count": 8,
     "metadata": {},
     "output_type": "execute_result"
    }
   ],
   "source": [
    "y_train[:4] # 긍부정 binary class"
   ]
  },
  {
   "cell_type": "code",
   "execution_count": 9,
   "id": "9dc11ccc",
   "metadata": {
    "ExecuteTime": {
     "end_time": "2022-03-22T08:43:23.542120Z",
     "start_time": "2022-03-22T08:43:23.534112Z"
    }
   },
   "outputs": [],
   "source": [
    "lengths = [len(line) for line in x_train]"
   ]
  },
  {
   "cell_type": "code",
   "execution_count": 10,
   "id": "a36bffec",
   "metadata": {
    "ExecuteTime": {
     "end_time": "2022-03-22T08:43:24.094437Z",
     "start_time": "2022-03-22T08:43:23.869393Z"
    }
   },
   "outputs": [
    {
     "data": {
      "text/plain": [
       "(array([  8.,  34.,  79.,  67.,  75., 103., 242., 262., 212., 158., 144.,\n",
       "        117.,  94.,  94.,  70.,  71.,  41.,  49.,  50.,  47.,  37.,  35.,\n",
       "         24.,  21.,  29.,  21.,  28.,  18.,  22.,  16.,  13.,  16.,  20.,\n",
       "         11.,  10.,  10.,   9.,  11.,  18.,  11.,   3.,   7.,   8.,   7.,\n",
       "          6.,   5.,   4.,   8.,   3.,   4.,   5.,   3.,   3.,   2.,   2.,\n",
       "          3.,   5.,   3.,   2.,   2.,   5.,   9.,   1.,   2.,   0.,   0.,\n",
       "          0.,   0.,   0.,   0.,   0.,   0.,   0.,   0.,   0.,   0.,   0.,\n",
       "          0.,   0.,   0.,   0.,   0.,   0.,   0.,   0.,   0.,   0.,   0.,\n",
       "          0.,   0.,   0.,   0.,   0.,   0.,   0.,   0.,   0.,   0.,   0.,\n",
       "          1.]),\n",
       " array([  16.  ,   32.13,   48.26,   64.39,   80.52,   96.65,  112.78,\n",
       "         128.91,  145.04,  161.17,  177.3 ,  193.43,  209.56,  225.69,\n",
       "         241.82,  257.95,  274.08,  290.21,  306.34,  322.47,  338.6 ,\n",
       "         354.73,  370.86,  386.99,  403.12,  419.25,  435.38,  451.51,\n",
       "         467.64,  483.77,  499.9 ,  516.03,  532.16,  548.29,  564.42,\n",
       "         580.55,  596.68,  612.81,  628.94,  645.07,  661.2 ,  677.33,\n",
       "         693.46,  709.59,  725.72,  741.85,  757.98,  774.11,  790.24,\n",
       "         806.37,  822.5 ,  838.63,  854.76,  870.89,  887.02,  903.15,\n",
       "         919.28,  935.41,  951.54,  967.67,  983.8 ,  999.93, 1016.06,\n",
       "        1032.19, 1048.32, 1064.45, 1080.58, 1096.71, 1112.84, 1128.97,\n",
       "        1145.1 , 1161.23, 1177.36, 1193.49, 1209.62, 1225.75, 1241.88,\n",
       "        1258.01, 1274.14, 1290.27, 1306.4 , 1322.53, 1338.66, 1354.79,\n",
       "        1370.92, 1387.05, 1403.18, 1419.31, 1435.44, 1451.57, 1467.7 ,\n",
       "        1483.83, 1499.96, 1516.09, 1532.22, 1548.35, 1564.48, 1580.61,\n",
       "        1596.74, 1612.87, 1629.  ]),\n",
       " <BarContainer object of 100 artists>)"
      ]
     },
     "execution_count": 10,
     "metadata": {},
     "output_type": "execute_result"
    },
    {
     "data": {
      "image/png": "[encoded data removed]",
      "text/plain": [
       "<Figure size 432x288 with 1 Axes>"
      ]
     },
     "metadata": {
      "needs_background": "light"
     },
     "output_type": "display_data"
    }
   ],
   "source": [
    "plt.hist(lengths, bins=100)"
   ]
  },
  {
   "cell_type": "markdown",
   "id": "c72fd8fe",
   "metadata": {},
   "source": [
    "### 데이터길이 일정하게 바꿔주기: x_train_seq, x_test_seq"
   ]
  },
  {
   "cell_type": "code",
   "execution_count": 11,
   "id": "ff7f1873",
   "metadata": {
    "ExecuteTime": {
     "end_time": "2022-03-22T08:43:31.762840Z",
     "start_time": "2022-03-22T08:43:31.707074Z"
    }
   },
   "outputs": [],
   "source": [
    "from tensorflow.keras.preprocessing.sequence import pad_sequences \n",
    "\n",
    "# pad _sequences :데이터 길이를 일정하게 만들어주는 함수\n",
    "# default 앞에서부터 자름\n",
    "\n",
    "x_train_seq = pad_sequences(x_train, maxlen=200)\n",
    "x_test_seq = pad_sequences(x_test, maxlen=200)\n"
   ]
  },
  {
   "cell_type": "code",
   "execution_count": 13,
   "id": "8d83cf90",
   "metadata": {
    "ExecuteTime": {
     "end_time": "2022-03-22T08:44:20.363205Z",
     "start_time": "2022-03-22T08:44:20.350284Z"
    }
   },
   "outputs": [
    {
     "data": {
      "text/plain": [
       "array([[  5,  25, 100, ...,  19, 178,  32],\n",
       "       [  0,   0,   0, ...,  16, 145,  95],\n",
       "       [  0,   0,   0, ...,   7, 129, 113],\n",
       "       ...,\n",
       "       [207, 126, 110, ...,  30,   2, 133],\n",
       "       [  2, 123,   6, ...,  95, 106,  15],\n",
       "       [  2,   2,  34, ...,   2, 457, 158]])"
      ]
     },
     "execution_count": 13,
     "metadata": {},
     "output_type": "execute_result"
    }
   ],
   "source": [
    "x_train_seq # 앞쪽을 0으로 채움"
   ]
  },
  {
   "cell_type": "code",
   "execution_count": 23,
   "id": "590c3130",
   "metadata": {
    "ExecuteTime": {
     "end_time": "2022-03-22T11:38:55.339618Z",
     "start_time": "2022-03-22T11:38:55.326653Z"
    }
   },
   "outputs": [
    {
     "data": {
      "text/plain": [
       "array([[  5,  25, 100, ...,  19, 178,  32],\n",
       "       [  0,   0,   0, ...,  16, 145,  95],\n",
       "       [  0,   0,   0, ...,   7, 129, 113],\n",
       "       ...,\n",
       "       [207, 126, 110, ...,  30,   2, 133],\n",
       "       [  2, 123,   6, ...,  95, 106,  15],\n",
       "       [  2,   2,  34, ...,   2, 457, 158]])"
      ]
     },
     "execution_count": 23,
     "metadata": {},
     "output_type": "execute_result"
    }
   ],
   "source": [
    "x_train_seq"
   ]
  },
  {
   "cell_type": "code",
   "execution_count": 14,
   "id": "38219cc3",
   "metadata": {
    "ExecuteTime": {
     "end_time": "2022-03-22T08:44:20.768230Z",
     "start_time": "2022-03-22T08:44:20.749251Z"
    }
   },
   "outputs": [
    {
     "name": "stdout",
     "output_type": "stream",
     "text": [
      "(2500, 200) (2500, 200)\n"
     ]
    }
   ],
   "source": [
    "print(x_train_seq.shape, x_test_seq.shape)"
   ]
  },
  {
   "cell_type": "markdown",
   "id": "f6d1fb3d",
   "metadata": {},
   "source": [
    "## RNN 사용해보기"
   ]
  },
  {
   "cell_type": "code",
   "execution_count": 15,
   "id": "fa0ba997",
   "metadata": {
    "ExecuteTime": {
     "end_time": "2022-03-22T08:45:41.013751Z",
     "start_time": "2022-03-22T08:45:40.190312Z"
    }
   },
   "outputs": [
    {
     "name": "stdout",
     "output_type": "stream",
     "text": [
      "Model: \"sequential\"\n",
      "_________________________________________________________________\n",
      " Layer (type)                Output Shape              Param #   \n",
      "=================================================================\n",
      " simple_rnn (SimpleRNN)      (None, 8)                 80        \n",
      "                                                                 \n",
      " dense (Dense)               (None, 1)                 9         \n",
      "                                                                 \n",
      "=================================================================\n",
      "Total params: 89\n",
      "Trainable params: 89\n",
      "Non-trainable params: 0\n",
      "_________________________________________________________________\n"
     ]
    }
   ],
   "source": [
    "model = Sequential()\n",
    "model.add(SimpleRNN(8, input_shape=(200,1))) # 200개 \n",
    "model.add(Dense(1, activation='sigmoid'))\n",
    "model.summary()"
   ]
  },
  {
   "cell_type": "code",
   "execution_count": 16,
   "id": "1b07299a",
   "metadata": {
    "ExecuteTime": {
     "end_time": "2022-03-22T08:45:41.092771Z",
     "start_time": "2022-03-22T08:45:41.068837Z"
    }
   },
   "outputs": [],
   "source": [
    "model.compile(loss = 'binary_crossentropy', metrics=['accuracy'], optimizer = 'adam')"
   ]
  },
  {
   "cell_type": "code",
   "execution_count": 17,
   "id": "f30a07aa",
   "metadata": {
    "ExecuteTime": {
     "end_time": "2022-03-22T08:45:41.138878Z",
     "start_time": "2022-03-22T08:45:41.126882Z"
    }
   },
   "outputs": [],
   "source": [
    "# model.fit(x_train_seq,y_train, epochs= 10, batch_size=64, validation_data=(x_test_seq,y_test) )"
   ]
  },
  {
   "cell_type": "code",
   "execution_count": null,
   "id": "83ea1fbf",
   "metadata": {},
   "outputs": [],
   "source": []
  },
  {
   "cell_type": "code",
   "execution_count": 18,
   "id": "79ecf3d0",
   "metadata": {
    "ExecuteTime": {
     "end_time": "2022-03-22T08:45:49.484031Z",
     "start_time": "2022-03-22T08:45:49.468959Z"
    }
   },
   "outputs": [
    {
     "data": {
      "text/plain": [
       "array([[  5,  25, 100, ...,  19, 178,  32],\n",
       "       [  0,   0,   0, ...,  16, 145,  95],\n",
       "       [  0,   0,   0, ...,   7, 129, 113],\n",
       "       ...,\n",
       "       [207, 126, 110, ...,  30,   2, 133],\n",
       "       [  2, 123,   6, ...,  95, 106,  15],\n",
       "       [  2,   2,  34, ...,   2, 457, 158]])"
      ]
     },
     "execution_count": 18,
     "metadata": {},
     "output_type": "execute_result"
    }
   ],
   "source": [
    "x_train_seq  # 숫자크기를 나타내는 것이 아니기때문에 카테고리형식으로 바꿔줘야함"
   ]
  },
  {
   "cell_type": "markdown",
   "id": "f3bc29af",
   "metadata": {},
   "source": [
    "### 원핫 벡터로 만들기 : x_train_oh, x_test_oh"
   ]
  },
  {
   "cell_type": "code",
   "execution_count": 19,
   "id": "9b2c9bbf",
   "metadata": {
    "ExecuteTime": {
     "end_time": "2022-03-22T08:46:06.407764Z",
     "start_time": "2022-03-22T08:46:06.236964Z"
    }
   },
   "outputs": [],
   "source": [
    "# 원핫 벡터로 만들기\n",
    "\n",
    "from tensorflow.keras.utils import to_categorical\n",
    "\n",
    "x_train_oh = to_categorical(x_train_seq)\n",
    "x_test_oh = to_categorical(x_test_seq)"
   ]
  },
  {
   "cell_type": "code",
   "execution_count": 20,
   "id": "6be18a79",
   "metadata": {
    "ExecuteTime": {
     "end_time": "2022-03-22T08:46:26.769904Z",
     "start_time": "2022-03-22T08:46:26.765917Z"
    }
   },
   "outputs": [
    {
     "data": {
      "text/plain": [
       "(2500, 200, 500)"
      ]
     },
     "execution_count": 20,
     "metadata": {},
     "output_type": "execute_result"
    }
   ],
   "source": [
    "x_train_oh.shape"
   ]
  },
  {
   "cell_type": "code",
   "execution_count": 21,
   "id": "fdc695a1",
   "metadata": {
    "ExecuteTime": {
     "end_time": "2022-03-22T08:46:34.508726Z",
     "start_time": "2022-03-22T08:46:34.254076Z"
    }
   },
   "outputs": [
    {
     "name": "stdout",
     "output_type": "stream",
     "text": [
      "Model: \"sequential_1\"\n",
      "_________________________________________________________________\n",
      " Layer (type)                Output Shape              Param #   \n",
      "=================================================================\n",
      " simple_rnn_1 (SimpleRNN)    (None, 8)                 4072      \n",
      "                                                                 \n",
      " dense_1 (Dense)             (None, 1)                 9         \n",
      "                                                                 \n",
      "=================================================================\n",
      "Total params: 4,081\n",
      "Trainable params: 4,081\n",
      "Non-trainable params: 0\n",
      "_________________________________________________________________\n"
     ]
    }
   ],
   "source": [
    "model = Sequential()\n",
    "model.add(SimpleRNN(8, input_shape=(200,500))) \n",
    "model.add(Dense(1, activation='sigmoid'))\n",
    "model.summary()"
   ]
  },
  {
   "cell_type": "code",
   "execution_count": 22,
   "id": "fb3ebbbf",
   "metadata": {
    "ExecuteTime": {
     "end_time": "2022-03-22T08:46:39.862065Z",
     "start_time": "2022-03-22T08:46:39.853090Z"
    }
   },
   "outputs": [],
   "source": [
    "model.compile(loss = 'binary_crossentropy', metrics=['accuracy'], optimizer = 'adam')"
   ]
  },
  {
   "cell_type": "code",
   "execution_count": 23,
   "id": "9063da7e",
   "metadata": {
    "ExecuteTime": {
     "end_time": "2022-03-22T03:17:55.853844Z",
     "start_time": "2022-03-22T03:16:24.612886Z"
    }
   },
   "outputs": [
    {
     "name": "stdout",
     "output_type": "stream",
     "text": [
      "Epoch 1/10\n",
      "40/40 [==============================] - 9s 202ms/step - loss: 0.7005 - accuracy: 0.5068 - val_loss: 0.6998 - val_accuracy: 0.5076\n",
      "Epoch 2/10\n",
      "40/40 [==============================] - 8s 210ms/step - loss: 0.6857 - accuracy: 0.5464 - val_loss: 0.6982 - val_accuracy: 0.5080\n",
      "Epoch 3/10\n",
      "40/40 [==============================] - 9s 237ms/step - loss: 0.6747 - accuracy: 0.5856 - val_loss: 0.6944 - val_accuracy: 0.5284\n",
      "Epoch 4/10\n",
      "40/40 [==============================] - 9s 230ms/step - loss: 0.6639 - accuracy: 0.6124 - val_loss: 0.6955 - val_accuracy: 0.5164\n",
      "Epoch 5/10\n",
      "40/40 [==============================] - 9s 232ms/step - loss: 0.6506 - accuracy: 0.6480 - val_loss: 0.6946 - val_accuracy: 0.5264\n",
      "Epoch 6/10\n",
      "40/40 [==============================] - 9s 232ms/step - loss: 0.6337 - accuracy: 0.6724 - val_loss: 0.6939 - val_accuracy: 0.5296\n",
      "Epoch 7/10\n",
      "40/40 [==============================] - 9s 228ms/step - loss: 0.6128 - accuracy: 0.7020 - val_loss: 0.6978 - val_accuracy: 0.5380\n",
      "Epoch 8/10\n",
      "40/40 [==============================] - 9s 237ms/step - loss: 0.5893 - accuracy: 0.7348 - val_loss: 0.7002 - val_accuracy: 0.5356\n",
      "Epoch 9/10\n",
      "40/40 [==============================] - 9s 219ms/step - loss: 0.5663 - accuracy: 0.7580 - val_loss: 0.7059 - val_accuracy: 0.5400\n",
      "Epoch 10/10\n",
      "40/40 [==============================] - 9s 226ms/step - loss: 0.5337 - accuracy: 0.7964 - val_loss: 0.7111 - val_accuracy: 0.5420\n"
     ]
    },
    {
     "data": {
      "text/plain": [
       "<keras.callbacks.History at 0x1e0cbd8d340>"
      ]
     },
     "execution_count": 23,
     "metadata": {},
     "output_type": "execute_result"
    }
   ],
   "source": [
    "model.fit(x_train_oh,y_train, epochs= 10, batch_size=64, validation_data=(x_test_oh,y_test) )"
   ]
  },
  {
   "cell_type": "code",
   "execution_count": null,
   "id": "5b90d47e",
   "metadata": {},
   "outputs": [],
   "source": []
  },
  {
   "cell_type": "code",
   "execution_count": null,
   "id": "c0570c79",
   "metadata": {},
   "outputs": [],
   "source": []
  },
  {
   "cell_type": "markdown",
   "id": "16e27d12",
   "metadata": {},
   "source": [
    "## LSTM 사용해보기"
   ]
  },
  {
   "cell_type": "code",
   "execution_count": 24,
   "id": "069cfd75",
   "metadata": {
    "ExecuteTime": {
     "end_time": "2022-03-22T03:18:30.532482Z",
     "start_time": "2022-03-22T03:18:30.310083Z"
    }
   },
   "outputs": [
    {
     "name": "stdout",
     "output_type": "stream",
     "text": [
      "Model: \"sequential_3\"\n",
      "_________________________________________________________________\n",
      " Layer (type)                Output Shape              Param #   \n",
      "=================================================================\n",
      " lstm (LSTM)                 (None, 8)                 16288     \n",
      "                                                                 \n",
      " dense_3 (Dense)             (None, 1)                 9         \n",
      "                                                                 \n",
      "=================================================================\n",
      "Total params: 16,297\n",
      "Trainable params: 16,297\n",
      "Non-trainable params: 0\n",
      "_________________________________________________________________\n"
     ]
    }
   ],
   "source": [
    "model = Sequential()\n",
    "model.add(LSTM(8, input_shape=(200,500))) # 200개 \n",
    "model.add(Dense(1, activation='sigmoid'))\n",
    "model.summary()"
   ]
  },
  {
   "cell_type": "code",
   "execution_count": 25,
   "id": "d6ef5d07",
   "metadata": {
    "ExecuteTime": {
     "end_time": "2022-03-22T03:18:31.488909Z",
     "start_time": "2022-03-22T03:18:31.478947Z"
    }
   },
   "outputs": [],
   "source": [
    "model.compile(loss = 'binary_crossentropy', metrics=['accuracy'], optimizer = 'adam')"
   ]
  },
  {
   "cell_type": "code",
   "execution_count": 26,
   "id": "2faef3d2",
   "metadata": {
    "ExecuteTime": {
     "end_time": "2022-03-22T03:18:52.903222Z",
     "start_time": "2022-03-22T03:18:31.782617Z"
    }
   },
   "outputs": [
    {
     "name": "stdout",
     "output_type": "stream",
     "text": [
      "Epoch 1/10\n",
      "40/40 [==============================] - 11s 51ms/step - loss: 0.6934 - accuracy: 0.5160 - val_loss: 0.6922 - val_accuracy: 0.5212\n",
      "Epoch 2/10\n",
      "40/40 [==============================] - 1s 27ms/step - loss: 0.6892 - accuracy: 0.5448 - val_loss: 0.6911 - val_accuracy: 0.5032\n",
      "Epoch 3/10\n",
      "40/40 [==============================] - 1s 27ms/step - loss: 0.6838 - accuracy: 0.5984 - val_loss: 0.6846 - val_accuracy: 0.5396\n",
      "Epoch 4/10\n",
      "40/40 [==============================] - 1s 26ms/step - loss: 0.6499 - accuracy: 0.6304 - val_loss: 0.6368 - val_accuracy: 0.6904\n",
      "Epoch 5/10\n",
      "40/40 [==============================] - 1s 27ms/step - loss: 0.5856 - accuracy: 0.7288 - val_loss: 0.5610 - val_accuracy: 0.7508\n",
      "Epoch 6/10\n",
      "40/40 [==============================] - 1s 27ms/step - loss: 0.5159 - accuracy: 0.7736 - val_loss: 0.5158 - val_accuracy: 0.7716\n",
      "Epoch 7/10\n",
      "40/40 [==============================] - 1s 27ms/step - loss: 0.4679 - accuracy: 0.7996 - val_loss: 0.4915 - val_accuracy: 0.7864\n",
      "Epoch 8/10\n",
      "40/40 [==============================] - 1s 26ms/step - loss: 0.4444 - accuracy: 0.8076 - val_loss: 0.4767 - val_accuracy: 0.7888\n",
      "Epoch 9/10\n",
      "40/40 [==============================] - 1s 27ms/step - loss: 0.4118 - accuracy: 0.8304 - val_loss: 0.4708 - val_accuracy: 0.7880\n",
      "Epoch 10/10\n",
      "40/40 [==============================] - 1s 27ms/step - loss: 0.3839 - accuracy: 0.8400 - val_loss: 0.4549 - val_accuracy: 0.7928\n"
     ]
    }
   ],
   "source": [
    "hist = model.fit(x_train_oh,y_train, epochs= 10, batch_size=64, validation_data=(x_test_oh,y_test) )"
   ]
  },
  {
   "cell_type": "markdown",
   "id": "5f1e95b3",
   "metadata": {},
   "source": [
    "### 차원 낮춰주기: Embedding"
   ]
  },
  {
   "cell_type": "code",
   "execution_count": 30,
   "id": "f83fe06e",
   "metadata": {
    "ExecuteTime": {
     "end_time": "2022-03-22T03:24:27.038074Z",
     "start_time": "2022-03-22T03:24:26.871443Z"
    }
   },
   "outputs": [
    {
     "name": "stdout",
     "output_type": "stream",
     "text": [
      "Model: \"sequential_5\"\n",
      "_________________________________________________________________\n",
      " Layer (type)                Output Shape              Param #   \n",
      "=================================================================\n",
      " embedding_1 (Embedding)     (None, 200, 16)           8000      \n",
      "                                                                 \n",
      " lstm_2 (LSTM)               (None, 8)                 800       \n",
      "                                                                 \n",
      " dense_5 (Dense)             (None, 1)                 9         \n",
      "                                                                 \n",
      "=================================================================\n",
      "Total params: 8,809\n",
      "Trainable params: 8,809\n",
      "Non-trainable params: 0\n",
      "_________________________________________________________________\n"
     ]
    }
   ],
   "source": [
    "# 원핫 벡터를 사용하게 되면 단어하나가 500차원이 되어버림\n",
    "# 원핫벡터 대신 Embedding 사용\n",
    "\n",
    "model = Sequential()\n",
    "model.add(Embedding(500,16,input_length=200))\n",
    "model.add(LSTM(8)) \n",
    "model.add(Dense(1, activation='sigmoid'))\n",
    "model.summary()"
   ]
  },
  {
   "cell_type": "code",
   "execution_count": 31,
   "id": "558dc20e",
   "metadata": {
    "ExecuteTime": {
     "end_time": "2022-03-22T03:24:27.211197Z",
     "start_time": "2022-03-22T03:24:27.191249Z"
    }
   },
   "outputs": [],
   "source": [
    "model.compile(loss = 'binary_crossentropy', metrics=['accuracy'], optimizer = 'adam')"
   ]
  },
  {
   "cell_type": "code",
   "execution_count": 32,
   "id": "8cba5c0f",
   "metadata": {
    "ExecuteTime": {
     "end_time": "2022-03-22T03:24:50.664124Z",
     "start_time": "2022-03-22T03:24:44.072223Z"
    }
   },
   "outputs": [
    {
     "name": "stdout",
     "output_type": "stream",
     "text": [
      "Epoch 1/10\n",
      "40/40 [==============================] - 2s 25ms/step - loss: 0.6921 - accuracy: 0.5164 - val_loss: 0.6917 - val_accuracy: 0.4852\n",
      "Epoch 2/10\n",
      "40/40 [==============================] - 1s 13ms/step - loss: 0.6835 - accuracy: 0.5352 - val_loss: 0.6757 - val_accuracy: 0.5708\n",
      "Epoch 3/10\n",
      "40/40 [==============================] - 1s 13ms/step - loss: 0.6279 - accuracy: 0.6884 - val_loss: 0.5968 - val_accuracy: 0.7244\n",
      "Epoch 4/10\n",
      "40/40 [==============================] - 0s 12ms/step - loss: 0.5623 - accuracy: 0.7552 - val_loss: 0.5510 - val_accuracy: 0.7644\n",
      "Epoch 5/10\n",
      "40/40 [==============================] - 0s 12ms/step - loss: 0.5056 - accuracy: 0.7976 - val_loss: 0.5073 - val_accuracy: 0.7820\n",
      "Epoch 6/10\n",
      "40/40 [==============================] - 0s 12ms/step - loss: 0.4541 - accuracy: 0.8124 - val_loss: 0.4888 - val_accuracy: 0.7852\n",
      "Epoch 7/10\n",
      "40/40 [==============================] - 0s 12ms/step - loss: 0.4350 - accuracy: 0.8156 - val_loss: 0.4764 - val_accuracy: 0.7848\n",
      "Epoch 8/10\n",
      "40/40 [==============================] - 0s 12ms/step - loss: 0.4163 - accuracy: 0.8268 - val_loss: 0.5044 - val_accuracy: 0.7772\n",
      "Epoch 9/10\n",
      "40/40 [==============================] - 0s 12ms/step - loss: 0.3955 - accuracy: 0.8376 - val_loss: 0.4762 - val_accuracy: 0.7840\n",
      "Epoch 10/10\n",
      "40/40 [==============================] - 0s 12ms/step - loss: 0.3654 - accuracy: 0.8588 - val_loss: 0.4711 - val_accuracy: 0.7904\n"
     ]
    }
   ],
   "source": [
    "hist = model.fit(x_train_seq,y_train, epochs= 10, batch_size=64, validation_data=(x_test_seq,y_test) )"
   ]
  },
  {
   "cell_type": "code",
   "execution_count": null,
   "id": "4ca460f9",
   "metadata": {},
   "outputs": [],
   "source": []
  }
 ],
 "metadata": {
  "kernelspec": {
   "display_name": "Python 3 (ipykernel)",
   "language": "python",
   "name": "python3"
  },
  "language_info": {
   "codemirror_mode": {
    "name": "ipython",
    "version": 3
   },
   "file_extension": ".py",
   "mimetype": "text/x-python",
   "name": "python",
   "nbconvert_exporter": "python",
   "pygments_lexer": "ipython3",
   "version": "3.9.7"
  },
  "toc": {
   "base_numbering": 1,
   "nav_menu": {},
   "number_sections": true,
   "sideBar": true,
   "skip_h1_title": false,
   "title_cell": "Table of Contents",
   "title_sidebar": "Contents",
   "toc_cell": false,
   "toc_position": {},
   "toc_section_display": true,
   "toc_window_display": false
  },
  "varInspector": {
   "cols": {
    "lenName": 16,
    "lenType": 16,
    "lenVar": 40
   },
   "kernels_config": {
    "python": {
     "delete_cmd_postfix": "",
     "delete_cmd_prefix": "del ",
     "library": "var_list.py",
     "varRefreshCmd": "print(var_dic_list())"
    },
    "r": {
     "delete_cmd_postfix": ") ",
     "delete_cmd_prefix": "rm(",
     "library": "var_list.r",
     "varRefreshCmd": "cat(var_dic_list()) "
    }
   },
   "types_to_exclude": [
    "module",
    "function",
    "builtin_function_or_method",
    "instance",
    "_Feature"
   ],
   "window_display": false
  }
 },
 "nbformat": 4,
 "nbformat_minor": 5
}
