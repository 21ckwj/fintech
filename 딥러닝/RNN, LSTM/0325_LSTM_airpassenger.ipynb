{
 "cells": [
  {
   "cell_type": "code",
   "execution_count": 42,
   "id": "2026507c",
   "metadata": {
    "ExecuteTime": {
     "end_time": "2022-03-25T07:30:36.567676Z",
     "start_time": "2022-03-25T07:30:36.550448Z"
    }
   },
   "outputs": [],
   "source": [
    "import pandas as pd\n",
    "import numpy as np\n",
    "import matplotlib.pyplot as plt"
   ]
  },
  {
   "cell_type": "code",
   "execution_count": 43,
   "id": "0673f5b2",
   "metadata": {
    "ExecuteTime": {
     "end_time": "2022-03-25T07:30:36.724263Z",
     "start_time": "2022-03-25T07:30:36.710271Z"
    }
   },
   "outputs": [],
   "source": [
    "from tensorflow.keras.models import Sequential\n",
    "from tensorflow.keras.layers import Dense, Dropout, LSTM\n",
    "import tensorflow as tf"
   ]
  },
  {
   "cell_type": "code",
   "execution_count": 44,
   "id": "17d4b857",
   "metadata": {
    "ExecuteTime": {
     "end_time": "2022-03-25T07:30:36.880332Z",
     "start_time": "2022-03-25T07:30:36.869395Z"
    }
   },
   "outputs": [
    {
     "data": {
      "text/html": [
       "<div>\n",
       "<style scoped>\n",
       "    .dataframe tbody tr th:only-of-type {\n",
       "        vertical-align: middle;\n",
       "    }\n",
       "\n",
       "    .dataframe tbody tr th {\n",
       "        vertical-align: top;\n",
       "    }\n",
       "\n",
       "    .dataframe thead th {\n",
       "        text-align: right;\n",
       "    }\n",
       "</style>\n",
       "<table border=\"1\" class=\"dataframe\">\n",
       "  <thead>\n",
       "    <tr style=\"text-align: right;\">\n",
       "      <th></th>\n",
       "      <th>Month</th>\n",
       "      <th>#Passengers</th>\n",
       "    </tr>\n",
       "  </thead>\n",
       "  <tbody>\n",
       "    <tr>\n",
       "      <th>0</th>\n",
       "      <td>1949-01</td>\n",
       "      <td>112</td>\n",
       "    </tr>\n",
       "    <tr>\n",
       "      <th>1</th>\n",
       "      <td>1949-02</td>\n",
       "      <td>118</td>\n",
       "    </tr>\n",
       "    <tr>\n",
       "      <th>2</th>\n",
       "      <td>1949-03</td>\n",
       "      <td>132</td>\n",
       "    </tr>\n",
       "    <tr>\n",
       "      <th>3</th>\n",
       "      <td>1949-04</td>\n",
       "      <td>129</td>\n",
       "    </tr>\n",
       "    <tr>\n",
       "      <th>4</th>\n",
       "      <td>1949-05</td>\n",
       "      <td>121</td>\n",
       "    </tr>\n",
       "  </tbody>\n",
       "</table>\n",
       "</div>"
      ],
      "text/plain": [
       "     Month  #Passengers\n",
       "0  1949-01          112\n",
       "1  1949-02          118\n",
       "2  1949-03          132\n",
       "3  1949-04          129\n",
       "4  1949-05          121"
      ]
     },
     "execution_count": 44,
     "metadata": {},
     "output_type": "execute_result"
    }
   ],
   "source": [
    "df = pd.read_csv('./data/AirPassengers.csv')\n",
    "df.head()"
   ]
  },
  {
   "cell_type": "code",
   "execution_count": 45,
   "id": "38892905",
   "metadata": {
    "ExecuteTime": {
     "end_time": "2022-03-25T07:30:37.033742Z",
     "start_time": "2022-03-25T07:30:37.014524Z"
    }
   },
   "outputs": [
    {
     "data": {
      "text/html": [
       "<div>\n",
       "<style scoped>\n",
       "    .dataframe tbody tr th:only-of-type {\n",
       "        vertical-align: middle;\n",
       "    }\n",
       "\n",
       "    .dataframe tbody tr th {\n",
       "        vertical-align: top;\n",
       "    }\n",
       "\n",
       "    .dataframe thead th {\n",
       "        text-align: right;\n",
       "    }\n",
       "</style>\n",
       "<table border=\"1\" class=\"dataframe\">\n",
       "  <thead>\n",
       "    <tr style=\"text-align: right;\">\n",
       "      <th></th>\n",
       "      <th>Month</th>\n",
       "      <th>#Passengers</th>\n",
       "    </tr>\n",
       "  </thead>\n",
       "  <tbody>\n",
       "    <tr>\n",
       "      <th>139</th>\n",
       "      <td>1960-08</td>\n",
       "      <td>606</td>\n",
       "    </tr>\n",
       "    <tr>\n",
       "      <th>140</th>\n",
       "      <td>1960-09</td>\n",
       "      <td>508</td>\n",
       "    </tr>\n",
       "    <tr>\n",
       "      <th>141</th>\n",
       "      <td>1960-10</td>\n",
       "      <td>461</td>\n",
       "    </tr>\n",
       "    <tr>\n",
       "      <th>142</th>\n",
       "      <td>1960-11</td>\n",
       "      <td>390</td>\n",
       "    </tr>\n",
       "    <tr>\n",
       "      <th>143</th>\n",
       "      <td>1960-12</td>\n",
       "      <td>432</td>\n",
       "    </tr>\n",
       "  </tbody>\n",
       "</table>\n",
       "</div>"
      ],
      "text/plain": [
       "       Month  #Passengers\n",
       "139  1960-08          606\n",
       "140  1960-09          508\n",
       "141  1960-10          461\n",
       "142  1960-11          390\n",
       "143  1960-12          432"
      ]
     },
     "execution_count": 45,
     "metadata": {},
     "output_type": "execute_result"
    }
   ],
   "source": [
    "df.tail()"
   ]
  },
  {
   "cell_type": "code",
   "execution_count": 46,
   "id": "b4045721",
   "metadata": {
    "ExecuteTime": {
     "end_time": "2022-03-25T07:30:37.190578Z",
     "start_time": "2022-03-25T07:30:37.174621Z"
    }
   },
   "outputs": [
    {
     "name": "stdout",
     "output_type": "stream",
     "text": [
      "<class 'pandas.core.frame.DataFrame'>\n",
      "RangeIndex: 144 entries, 0 to 143\n",
      "Data columns (total 2 columns):\n",
      " #   Column       Non-Null Count  Dtype \n",
      "---  ------       --------------  ----- \n",
      " 0   Month        144 non-null    object\n",
      " 1   #Passengers  144 non-null    int64 \n",
      "dtypes: int64(1), object(1)\n",
      "memory usage: 2.4+ KB\n"
     ]
    }
   ],
   "source": [
    "df.info()"
   ]
  },
  {
   "cell_type": "markdown",
   "id": "e038a71b",
   "metadata": {
    "ExecuteTime": {
     "end_time": "2022-03-25T05:20:44.796782Z",
     "start_time": "2022-03-25T05:20:44.779827Z"
    }
   },
   "source": [
    "# Q.과거 5개월의 데이터를 학습해서 다음 년도의 탑승객 수를 예측하는 모델을 만들고 1960-07 ~ 1960-11의 5개월 데이터를 기반으로 1960-12월의 탑승객 수를 예측하시오"
   ]
  },
  {
   "cell_type": "code",
   "execution_count": 92,
   "id": "1855ef5a",
   "metadata": {
    "ExecuteTime": {
     "end_time": "2022-03-25T08:28:00.842506Z",
     "start_time": "2022-03-25T08:28:00.828544Z"
    }
   },
   "outputs": [
    {
     "data": {
      "text/plain": [
       "0      01\n",
       "1      02\n",
       "2      03\n",
       "3      04\n",
       "4      05\n",
       "       ..\n",
       "139    08\n",
       "140    09\n",
       "141    10\n",
       "142    11\n",
       "143    12\n",
       "Name: mon, Length: 144, dtype: object"
      ]
     },
     "execution_count": 92,
     "metadata": {},
     "output_type": "execute_result"
    }
   ],
   "source": [
    "# month 카테고리 \n",
    "df['mon'] = df['Month'].apply(lambda x:x.split('-')[1])\n",
    "df['mon']"
   ]
  },
  {
   "cell_type": "code",
   "execution_count": 93,
   "id": "c871c554",
   "metadata": {
    "ExecuteTime": {
     "end_time": "2022-03-25T08:28:01.028406Z",
     "start_time": "2022-03-25T08:28:01.004470Z"
    }
   },
   "outputs": [
    {
     "data": {
      "text/html": [
       "<div>\n",
       "<style scoped>\n",
       "    .dataframe tbody tr th:only-of-type {\n",
       "        vertical-align: middle;\n",
       "    }\n",
       "\n",
       "    .dataframe tbody tr th {\n",
       "        vertical-align: top;\n",
       "    }\n",
       "\n",
       "    .dataframe thead th {\n",
       "        text-align: right;\n",
       "    }\n",
       "</style>\n",
       "<table border=\"1\" class=\"dataframe\">\n",
       "  <thead>\n",
       "    <tr style=\"text-align: right;\">\n",
       "      <th></th>\n",
       "      <th>Month</th>\n",
       "      <th>#Passengers</th>\n",
       "      <th>mon</th>\n",
       "    </tr>\n",
       "  </thead>\n",
       "  <tbody>\n",
       "    <tr>\n",
       "      <th>0</th>\n",
       "      <td>1949-01</td>\n",
       "      <td>112</td>\n",
       "      <td>01</td>\n",
       "    </tr>\n",
       "    <tr>\n",
       "      <th>1</th>\n",
       "      <td>1949-02</td>\n",
       "      <td>118</td>\n",
       "      <td>02</td>\n",
       "    </tr>\n",
       "    <tr>\n",
       "      <th>2</th>\n",
       "      <td>1949-03</td>\n",
       "      <td>132</td>\n",
       "      <td>03</td>\n",
       "    </tr>\n",
       "    <tr>\n",
       "      <th>3</th>\n",
       "      <td>1949-04</td>\n",
       "      <td>129</td>\n",
       "      <td>04</td>\n",
       "    </tr>\n",
       "    <tr>\n",
       "      <th>4</th>\n",
       "      <td>1949-05</td>\n",
       "      <td>121</td>\n",
       "      <td>05</td>\n",
       "    </tr>\n",
       "    <tr>\n",
       "      <th>...</th>\n",
       "      <td>...</td>\n",
       "      <td>...</td>\n",
       "      <td>...</td>\n",
       "    </tr>\n",
       "    <tr>\n",
       "      <th>139</th>\n",
       "      <td>1960-08</td>\n",
       "      <td>606</td>\n",
       "      <td>08</td>\n",
       "    </tr>\n",
       "    <tr>\n",
       "      <th>140</th>\n",
       "      <td>1960-09</td>\n",
       "      <td>508</td>\n",
       "      <td>09</td>\n",
       "    </tr>\n",
       "    <tr>\n",
       "      <th>141</th>\n",
       "      <td>1960-10</td>\n",
       "      <td>461</td>\n",
       "      <td>10</td>\n",
       "    </tr>\n",
       "    <tr>\n",
       "      <th>142</th>\n",
       "      <td>1960-11</td>\n",
       "      <td>390</td>\n",
       "      <td>11</td>\n",
       "    </tr>\n",
       "    <tr>\n",
       "      <th>143</th>\n",
       "      <td>1960-12</td>\n",
       "      <td>432</td>\n",
       "      <td>12</td>\n",
       "    </tr>\n",
       "  </tbody>\n",
       "</table>\n",
       "<p>144 rows × 3 columns</p>\n",
       "</div>"
      ],
      "text/plain": [
       "       Month  #Passengers mon\n",
       "0    1949-01          112  01\n",
       "1    1949-02          118  02\n",
       "2    1949-03          132  03\n",
       "3    1949-04          129  04\n",
       "4    1949-05          121  05\n",
       "..       ...          ...  ..\n",
       "139  1960-08          606  08\n",
       "140  1960-09          508  09\n",
       "141  1960-10          461  10\n",
       "142  1960-11          390  11\n",
       "143  1960-12          432  12\n",
       "\n",
       "[144 rows x 3 columns]"
      ]
     },
     "execution_count": 93,
     "metadata": {},
     "output_type": "execute_result"
    }
   ],
   "source": [
    "df"
   ]
  },
  {
   "cell_type": "code",
   "execution_count": 94,
   "id": "e61c7c20",
   "metadata": {
    "ExecuteTime": {
     "end_time": "2022-03-25T08:28:01.202613Z",
     "start_time": "2022-03-25T08:28:01.195664Z"
    }
   },
   "outputs": [
    {
     "data": {
      "text/plain": [
       "mon\n",
       "01    241.750000\n",
       "02    235.000000\n",
       "03    270.166667\n",
       "04    267.083333\n",
       "05    271.833333\n",
       "06    311.666667\n",
       "07    351.333333\n",
       "08    351.083333\n",
       "09    302.416667\n",
       "10    266.583333\n",
       "11    232.833333\n",
       "12    261.833333\n",
       "Name: #Passengers, dtype: float64"
      ]
     },
     "execution_count": 94,
     "metadata": {},
     "output_type": "execute_result"
    }
   ],
   "source": [
    "df.groupby('mon')['#Passengers'].mean()"
   ]
  },
  {
   "cell_type": "code",
   "execution_count": 95,
   "id": "7bdb4f28",
   "metadata": {
    "ExecuteTime": {
     "end_time": "2022-03-25T08:28:01.516630Z",
     "start_time": "2022-03-25T08:28:01.499649Z"
    }
   },
   "outputs": [],
   "source": [
    "# 마지막 1960-12: test데이터"
   ]
  },
  {
   "cell_type": "code",
   "execution_count": 96,
   "id": "6efe750c",
   "metadata": {
    "ExecuteTime": {
     "end_time": "2022-03-25T08:28:01.925804Z",
     "start_time": "2022-03-25T08:28:01.914834Z"
    }
   },
   "outputs": [],
   "source": [
    "# month 원핫 벡터로 만들기\n",
    "# 지금까지 x는 get_dummies y값만 to_categorical\n",
    "\n",
    "from tensorflow.keras.utils import to_categorical\n",
    "df_mon = to_categorical(df.mon)"
   ]
  },
  {
   "cell_type": "code",
   "execution_count": 97,
   "id": "f5a5ec6a",
   "metadata": {
    "ExecuteTime": {
     "end_time": "2022-03-25T08:28:02.252649Z",
     "start_time": "2022-03-25T08:28:02.235688Z"
    }
   },
   "outputs": [
    {
     "data": {
      "text/plain": [
       "array([[0., 1., 0., ..., 0., 0., 0.],\n",
       "       [0., 0., 1., ..., 0., 0., 0.],\n",
       "       [0., 0., 0., ..., 0., 0., 0.],\n",
       "       ...,\n",
       "       [0., 0., 0., ..., 1., 0., 0.],\n",
       "       [0., 0., 0., ..., 0., 1., 0.],\n",
       "       [0., 0., 0., ..., 0., 0., 1.]], dtype=float32)"
      ]
     },
     "execution_count": 97,
     "metadata": {},
     "output_type": "execute_result"
    }
   ],
   "source": [
    "df_mon"
   ]
  },
  {
   "cell_type": "code",
   "execution_count": 98,
   "id": "a576dc6e",
   "metadata": {
    "ExecuteTime": {
     "end_time": "2022-03-25T08:28:02.768503Z",
     "start_time": "2022-03-25T08:28:02.748586Z"
    }
   },
   "outputs": [
    {
     "data": {
      "text/html": [
       "<div>\n",
       "<style scoped>\n",
       "    .dataframe tbody tr th:only-of-type {\n",
       "        vertical-align: middle;\n",
       "    }\n",
       "\n",
       "    .dataframe tbody tr th {\n",
       "        vertical-align: top;\n",
       "    }\n",
       "\n",
       "    .dataframe thead th {\n",
       "        text-align: right;\n",
       "    }\n",
       "</style>\n",
       "<table border=\"1\" class=\"dataframe\">\n",
       "  <thead>\n",
       "    <tr style=\"text-align: right;\">\n",
       "      <th></th>\n",
       "      <th>0</th>\n",
       "      <th>1</th>\n",
       "      <th>2</th>\n",
       "      <th>3</th>\n",
       "      <th>4</th>\n",
       "      <th>5</th>\n",
       "      <th>6</th>\n",
       "      <th>7</th>\n",
       "      <th>8</th>\n",
       "      <th>9</th>\n",
       "      <th>10</th>\n",
       "      <th>11</th>\n",
       "      <th>12</th>\n",
       "    </tr>\n",
       "  </thead>\n",
       "  <tbody>\n",
       "    <tr>\n",
       "      <th>0</th>\n",
       "      <td>0.0</td>\n",
       "      <td>1.0</td>\n",
       "      <td>0.0</td>\n",
       "      <td>0.0</td>\n",
       "      <td>0.0</td>\n",
       "      <td>0.0</td>\n",
       "      <td>0.0</td>\n",
       "      <td>0.0</td>\n",
       "      <td>0.0</td>\n",
       "      <td>0.0</td>\n",
       "      <td>0.0</td>\n",
       "      <td>0.0</td>\n",
       "      <td>0.0</td>\n",
       "    </tr>\n",
       "    <tr>\n",
       "      <th>1</th>\n",
       "      <td>0.0</td>\n",
       "      <td>0.0</td>\n",
       "      <td>1.0</td>\n",
       "      <td>0.0</td>\n",
       "      <td>0.0</td>\n",
       "      <td>0.0</td>\n",
       "      <td>0.0</td>\n",
       "      <td>0.0</td>\n",
       "      <td>0.0</td>\n",
       "      <td>0.0</td>\n",
       "      <td>0.0</td>\n",
       "      <td>0.0</td>\n",
       "      <td>0.0</td>\n",
       "    </tr>\n",
       "    <tr>\n",
       "      <th>2</th>\n",
       "      <td>0.0</td>\n",
       "      <td>0.0</td>\n",
       "      <td>0.0</td>\n",
       "      <td>1.0</td>\n",
       "      <td>0.0</td>\n",
       "      <td>0.0</td>\n",
       "      <td>0.0</td>\n",
       "      <td>0.0</td>\n",
       "      <td>0.0</td>\n",
       "      <td>0.0</td>\n",
       "      <td>0.0</td>\n",
       "      <td>0.0</td>\n",
       "      <td>0.0</td>\n",
       "    </tr>\n",
       "    <tr>\n",
       "      <th>3</th>\n",
       "      <td>0.0</td>\n",
       "      <td>0.0</td>\n",
       "      <td>0.0</td>\n",
       "      <td>0.0</td>\n",
       "      <td>1.0</td>\n",
       "      <td>0.0</td>\n",
       "      <td>0.0</td>\n",
       "      <td>0.0</td>\n",
       "      <td>0.0</td>\n",
       "      <td>0.0</td>\n",
       "      <td>0.0</td>\n",
       "      <td>0.0</td>\n",
       "      <td>0.0</td>\n",
       "    </tr>\n",
       "    <tr>\n",
       "      <th>4</th>\n",
       "      <td>0.0</td>\n",
       "      <td>0.0</td>\n",
       "      <td>0.0</td>\n",
       "      <td>0.0</td>\n",
       "      <td>0.0</td>\n",
       "      <td>1.0</td>\n",
       "      <td>0.0</td>\n",
       "      <td>0.0</td>\n",
       "      <td>0.0</td>\n",
       "      <td>0.0</td>\n",
       "      <td>0.0</td>\n",
       "      <td>0.0</td>\n",
       "      <td>0.0</td>\n",
       "    </tr>\n",
       "    <tr>\n",
       "      <th>...</th>\n",
       "      <td>...</td>\n",
       "      <td>...</td>\n",
       "      <td>...</td>\n",
       "      <td>...</td>\n",
       "      <td>...</td>\n",
       "      <td>...</td>\n",
       "      <td>...</td>\n",
       "      <td>...</td>\n",
       "      <td>...</td>\n",
       "      <td>...</td>\n",
       "      <td>...</td>\n",
       "      <td>...</td>\n",
       "      <td>...</td>\n",
       "    </tr>\n",
       "    <tr>\n",
       "      <th>139</th>\n",
       "      <td>0.0</td>\n",
       "      <td>0.0</td>\n",
       "      <td>0.0</td>\n",
       "      <td>0.0</td>\n",
       "      <td>0.0</td>\n",
       "      <td>0.0</td>\n",
       "      <td>0.0</td>\n",
       "      <td>0.0</td>\n",
       "      <td>1.0</td>\n",
       "      <td>0.0</td>\n",
       "      <td>0.0</td>\n",
       "      <td>0.0</td>\n",
       "      <td>0.0</td>\n",
       "    </tr>\n",
       "    <tr>\n",
       "      <th>140</th>\n",
       "      <td>0.0</td>\n",
       "      <td>0.0</td>\n",
       "      <td>0.0</td>\n",
       "      <td>0.0</td>\n",
       "      <td>0.0</td>\n",
       "      <td>0.0</td>\n",
       "      <td>0.0</td>\n",
       "      <td>0.0</td>\n",
       "      <td>0.0</td>\n",
       "      <td>1.0</td>\n",
       "      <td>0.0</td>\n",
       "      <td>0.0</td>\n",
       "      <td>0.0</td>\n",
       "    </tr>\n",
       "    <tr>\n",
       "      <th>141</th>\n",
       "      <td>0.0</td>\n",
       "      <td>0.0</td>\n",
       "      <td>0.0</td>\n",
       "      <td>0.0</td>\n",
       "      <td>0.0</td>\n",
       "      <td>0.0</td>\n",
       "      <td>0.0</td>\n",
       "      <td>0.0</td>\n",
       "      <td>0.0</td>\n",
       "      <td>0.0</td>\n",
       "      <td>1.0</td>\n",
       "      <td>0.0</td>\n",
       "      <td>0.0</td>\n",
       "    </tr>\n",
       "    <tr>\n",
       "      <th>142</th>\n",
       "      <td>0.0</td>\n",
       "      <td>0.0</td>\n",
       "      <td>0.0</td>\n",
       "      <td>0.0</td>\n",
       "      <td>0.0</td>\n",
       "      <td>0.0</td>\n",
       "      <td>0.0</td>\n",
       "      <td>0.0</td>\n",
       "      <td>0.0</td>\n",
       "      <td>0.0</td>\n",
       "      <td>0.0</td>\n",
       "      <td>1.0</td>\n",
       "      <td>0.0</td>\n",
       "    </tr>\n",
       "    <tr>\n",
       "      <th>143</th>\n",
       "      <td>0.0</td>\n",
       "      <td>0.0</td>\n",
       "      <td>0.0</td>\n",
       "      <td>0.0</td>\n",
       "      <td>0.0</td>\n",
       "      <td>0.0</td>\n",
       "      <td>0.0</td>\n",
       "      <td>0.0</td>\n",
       "      <td>0.0</td>\n",
       "      <td>0.0</td>\n",
       "      <td>0.0</td>\n",
       "      <td>0.0</td>\n",
       "      <td>1.0</td>\n",
       "    </tr>\n",
       "  </tbody>\n",
       "</table>\n",
       "<p>144 rows × 13 columns</p>\n",
       "</div>"
      ],
      "text/plain": [
       "      0    1    2    3    4    5    6    7    8    9    10   11   12\n",
       "0    0.0  1.0  0.0  0.0  0.0  0.0  0.0  0.0  0.0  0.0  0.0  0.0  0.0\n",
       "1    0.0  0.0  1.0  0.0  0.0  0.0  0.0  0.0  0.0  0.0  0.0  0.0  0.0\n",
       "2    0.0  0.0  0.0  1.0  0.0  0.0  0.0  0.0  0.0  0.0  0.0  0.0  0.0\n",
       "3    0.0  0.0  0.0  0.0  1.0  0.0  0.0  0.0  0.0  0.0  0.0  0.0  0.0\n",
       "4    0.0  0.0  0.0  0.0  0.0  1.0  0.0  0.0  0.0  0.0  0.0  0.0  0.0\n",
       "..   ...  ...  ...  ...  ...  ...  ...  ...  ...  ...  ...  ...  ...\n",
       "139  0.0  0.0  0.0  0.0  0.0  0.0  0.0  0.0  1.0  0.0  0.0  0.0  0.0\n",
       "140  0.0  0.0  0.0  0.0  0.0  0.0  0.0  0.0  0.0  1.0  0.0  0.0  0.0\n",
       "141  0.0  0.0  0.0  0.0  0.0  0.0  0.0  0.0  0.0  0.0  1.0  0.0  0.0\n",
       "142  0.0  0.0  0.0  0.0  0.0  0.0  0.0  0.0  0.0  0.0  0.0  1.0  0.0\n",
       "143  0.0  0.0  0.0  0.0  0.0  0.0  0.0  0.0  0.0  0.0  0.0  0.0  1.0\n",
       "\n",
       "[144 rows x 13 columns]"
      ]
     },
     "execution_count": 98,
     "metadata": {},
     "output_type": "execute_result"
    }
   ],
   "source": [
    "df_month = pd.DataFrame(df_mon)\n",
    "df_month"
   ]
  },
  {
   "cell_type": "code",
   "execution_count": 99,
   "id": "d2d45062",
   "metadata": {
    "ExecuteTime": {
     "end_time": "2022-03-25T08:28:03.361022Z",
     "start_time": "2022-03-25T08:28:03.324586Z"
    }
   },
   "outputs": [
    {
     "data": {
      "text/html": [
       "<div>\n",
       "<style scoped>\n",
       "    .dataframe tbody tr th:only-of-type {\n",
       "        vertical-align: middle;\n",
       "    }\n",
       "\n",
       "    .dataframe tbody tr th {\n",
       "        vertical-align: top;\n",
       "    }\n",
       "\n",
       "    .dataframe thead th {\n",
       "        text-align: right;\n",
       "    }\n",
       "</style>\n",
       "<table border=\"1\" class=\"dataframe\">\n",
       "  <thead>\n",
       "    <tr style=\"text-align: right;\">\n",
       "      <th></th>\n",
       "      <th>Month</th>\n",
       "      <th>#Passengers</th>\n",
       "      <th>mon</th>\n",
       "      <th>0</th>\n",
       "      <th>1</th>\n",
       "      <th>2</th>\n",
       "      <th>3</th>\n",
       "      <th>4</th>\n",
       "      <th>5</th>\n",
       "      <th>6</th>\n",
       "      <th>7</th>\n",
       "      <th>8</th>\n",
       "      <th>9</th>\n",
       "      <th>10</th>\n",
       "      <th>11</th>\n",
       "      <th>12</th>\n",
       "    </tr>\n",
       "  </thead>\n",
       "  <tbody>\n",
       "    <tr>\n",
       "      <th>0</th>\n",
       "      <td>1949-01</td>\n",
       "      <td>112</td>\n",
       "      <td>01</td>\n",
       "      <td>0.0</td>\n",
       "      <td>1.0</td>\n",
       "      <td>0.0</td>\n",
       "      <td>0.0</td>\n",
       "      <td>0.0</td>\n",
       "      <td>0.0</td>\n",
       "      <td>0.0</td>\n",
       "      <td>0.0</td>\n",
       "      <td>0.0</td>\n",
       "      <td>0.0</td>\n",
       "      <td>0.0</td>\n",
       "      <td>0.0</td>\n",
       "      <td>0.0</td>\n",
       "    </tr>\n",
       "    <tr>\n",
       "      <th>1</th>\n",
       "      <td>1949-02</td>\n",
       "      <td>118</td>\n",
       "      <td>02</td>\n",
       "      <td>0.0</td>\n",
       "      <td>0.0</td>\n",
       "      <td>1.0</td>\n",
       "      <td>0.0</td>\n",
       "      <td>0.0</td>\n",
       "      <td>0.0</td>\n",
       "      <td>0.0</td>\n",
       "      <td>0.0</td>\n",
       "      <td>0.0</td>\n",
       "      <td>0.0</td>\n",
       "      <td>0.0</td>\n",
       "      <td>0.0</td>\n",
       "      <td>0.0</td>\n",
       "    </tr>\n",
       "    <tr>\n",
       "      <th>2</th>\n",
       "      <td>1949-03</td>\n",
       "      <td>132</td>\n",
       "      <td>03</td>\n",
       "      <td>0.0</td>\n",
       "      <td>0.0</td>\n",
       "      <td>0.0</td>\n",
       "      <td>1.0</td>\n",
       "      <td>0.0</td>\n",
       "      <td>0.0</td>\n",
       "      <td>0.0</td>\n",
       "      <td>0.0</td>\n",
       "      <td>0.0</td>\n",
       "      <td>0.0</td>\n",
       "      <td>0.0</td>\n",
       "      <td>0.0</td>\n",
       "      <td>0.0</td>\n",
       "    </tr>\n",
       "    <tr>\n",
       "      <th>3</th>\n",
       "      <td>1949-04</td>\n",
       "      <td>129</td>\n",
       "      <td>04</td>\n",
       "      <td>0.0</td>\n",
       "      <td>0.0</td>\n",
       "      <td>0.0</td>\n",
       "      <td>0.0</td>\n",
       "      <td>1.0</td>\n",
       "      <td>0.0</td>\n",
       "      <td>0.0</td>\n",
       "      <td>0.0</td>\n",
       "      <td>0.0</td>\n",
       "      <td>0.0</td>\n",
       "      <td>0.0</td>\n",
       "      <td>0.0</td>\n",
       "      <td>0.0</td>\n",
       "    </tr>\n",
       "    <tr>\n",
       "      <th>4</th>\n",
       "      <td>1949-05</td>\n",
       "      <td>121</td>\n",
       "      <td>05</td>\n",
       "      <td>0.0</td>\n",
       "      <td>0.0</td>\n",
       "      <td>0.0</td>\n",
       "      <td>0.0</td>\n",
       "      <td>0.0</td>\n",
       "      <td>1.0</td>\n",
       "      <td>0.0</td>\n",
       "      <td>0.0</td>\n",
       "      <td>0.0</td>\n",
       "      <td>0.0</td>\n",
       "      <td>0.0</td>\n",
       "      <td>0.0</td>\n",
       "      <td>0.0</td>\n",
       "    </tr>\n",
       "    <tr>\n",
       "      <th>...</th>\n",
       "      <td>...</td>\n",
       "      <td>...</td>\n",
       "      <td>...</td>\n",
       "      <td>...</td>\n",
       "      <td>...</td>\n",
       "      <td>...</td>\n",
       "      <td>...</td>\n",
       "      <td>...</td>\n",
       "      <td>...</td>\n",
       "      <td>...</td>\n",
       "      <td>...</td>\n",
       "      <td>...</td>\n",
       "      <td>...</td>\n",
       "      <td>...</td>\n",
       "      <td>...</td>\n",
       "      <td>...</td>\n",
       "    </tr>\n",
       "    <tr>\n",
       "      <th>139</th>\n",
       "      <td>1960-08</td>\n",
       "      <td>606</td>\n",
       "      <td>08</td>\n",
       "      <td>0.0</td>\n",
       "      <td>0.0</td>\n",
       "      <td>0.0</td>\n",
       "      <td>0.0</td>\n",
       "      <td>0.0</td>\n",
       "      <td>0.0</td>\n",
       "      <td>0.0</td>\n",
       "      <td>0.0</td>\n",
       "      <td>1.0</td>\n",
       "      <td>0.0</td>\n",
       "      <td>0.0</td>\n",
       "      <td>0.0</td>\n",
       "      <td>0.0</td>\n",
       "    </tr>\n",
       "    <tr>\n",
       "      <th>140</th>\n",
       "      <td>1960-09</td>\n",
       "      <td>508</td>\n",
       "      <td>09</td>\n",
       "      <td>0.0</td>\n",
       "      <td>0.0</td>\n",
       "      <td>0.0</td>\n",
       "      <td>0.0</td>\n",
       "      <td>0.0</td>\n",
       "      <td>0.0</td>\n",
       "      <td>0.0</td>\n",
       "      <td>0.0</td>\n",
       "      <td>0.0</td>\n",
       "      <td>1.0</td>\n",
       "      <td>0.0</td>\n",
       "      <td>0.0</td>\n",
       "      <td>0.0</td>\n",
       "    </tr>\n",
       "    <tr>\n",
       "      <th>141</th>\n",
       "      <td>1960-10</td>\n",
       "      <td>461</td>\n",
       "      <td>10</td>\n",
       "      <td>0.0</td>\n",
       "      <td>0.0</td>\n",
       "      <td>0.0</td>\n",
       "      <td>0.0</td>\n",
       "      <td>0.0</td>\n",
       "      <td>0.0</td>\n",
       "      <td>0.0</td>\n",
       "      <td>0.0</td>\n",
       "      <td>0.0</td>\n",
       "      <td>0.0</td>\n",
       "      <td>1.0</td>\n",
       "      <td>0.0</td>\n",
       "      <td>0.0</td>\n",
       "    </tr>\n",
       "    <tr>\n",
       "      <th>142</th>\n",
       "      <td>1960-11</td>\n",
       "      <td>390</td>\n",
       "      <td>11</td>\n",
       "      <td>0.0</td>\n",
       "      <td>0.0</td>\n",
       "      <td>0.0</td>\n",
       "      <td>0.0</td>\n",
       "      <td>0.0</td>\n",
       "      <td>0.0</td>\n",
       "      <td>0.0</td>\n",
       "      <td>0.0</td>\n",
       "      <td>0.0</td>\n",
       "      <td>0.0</td>\n",
       "      <td>0.0</td>\n",
       "      <td>1.0</td>\n",
       "      <td>0.0</td>\n",
       "    </tr>\n",
       "    <tr>\n",
       "      <th>143</th>\n",
       "      <td>1960-12</td>\n",
       "      <td>432</td>\n",
       "      <td>12</td>\n",
       "      <td>0.0</td>\n",
       "      <td>0.0</td>\n",
       "      <td>0.0</td>\n",
       "      <td>0.0</td>\n",
       "      <td>0.0</td>\n",
       "      <td>0.0</td>\n",
       "      <td>0.0</td>\n",
       "      <td>0.0</td>\n",
       "      <td>0.0</td>\n",
       "      <td>0.0</td>\n",
       "      <td>0.0</td>\n",
       "      <td>0.0</td>\n",
       "      <td>1.0</td>\n",
       "    </tr>\n",
       "  </tbody>\n",
       "</table>\n",
       "<p>144 rows × 16 columns</p>\n",
       "</div>"
      ],
      "text/plain": [
       "       Month  #Passengers mon    0    1    2    3    4    5    6    7    8  \\\n",
       "0    1949-01          112  01  0.0  1.0  0.0  0.0  0.0  0.0  0.0  0.0  0.0   \n",
       "1    1949-02          118  02  0.0  0.0  1.0  0.0  0.0  0.0  0.0  0.0  0.0   \n",
       "2    1949-03          132  03  0.0  0.0  0.0  1.0  0.0  0.0  0.0  0.0  0.0   \n",
       "3    1949-04          129  04  0.0  0.0  0.0  0.0  1.0  0.0  0.0  0.0  0.0   \n",
       "4    1949-05          121  05  0.0  0.0  0.0  0.0  0.0  1.0  0.0  0.0  0.0   \n",
       "..       ...          ...  ..  ...  ...  ...  ...  ...  ...  ...  ...  ...   \n",
       "139  1960-08          606  08  0.0  0.0  0.0  0.0  0.0  0.0  0.0  0.0  1.0   \n",
       "140  1960-09          508  09  0.0  0.0  0.0  0.0  0.0  0.0  0.0  0.0  0.0   \n",
       "141  1960-10          461  10  0.0  0.0  0.0  0.0  0.0  0.0  0.0  0.0  0.0   \n",
       "142  1960-11          390  11  0.0  0.0  0.0  0.0  0.0  0.0  0.0  0.0  0.0   \n",
       "143  1960-12          432  12  0.0  0.0  0.0  0.0  0.0  0.0  0.0  0.0  0.0   \n",
       "\n",
       "       9   10   11   12  \n",
       "0    0.0  0.0  0.0  0.0  \n",
       "1    0.0  0.0  0.0  0.0  \n",
       "2    0.0  0.0  0.0  0.0  \n",
       "3    0.0  0.0  0.0  0.0  \n",
       "4    0.0  0.0  0.0  0.0  \n",
       "..   ...  ...  ...  ...  \n",
       "139  0.0  0.0  0.0  0.0  \n",
       "140  1.0  0.0  0.0  0.0  \n",
       "141  0.0  1.0  0.0  0.0  \n",
       "142  0.0  0.0  1.0  0.0  \n",
       "143  0.0  0.0  0.0  1.0  \n",
       "\n",
       "[144 rows x 16 columns]"
      ]
     },
     "execution_count": 99,
     "metadata": {},
     "output_type": "execute_result"
    }
   ],
   "source": [
    "df_con = pd.concat([df,df_month],axis=1)\n",
    "df_con"
   ]
  },
  {
   "cell_type": "code",
   "execution_count": 100,
   "id": "2905dd08",
   "metadata": {
    "ExecuteTime": {
     "end_time": "2022-03-25T08:28:04.315393Z",
     "start_time": "2022-03-25T08:28:04.299405Z"
    }
   },
   "outputs": [
    {
     "data": {
      "text/plain": [
       "array([0.], dtype=float32)"
      ]
     },
     "execution_count": 100,
     "metadata": {},
     "output_type": "execute_result"
    }
   ],
   "source": [
    "np.unique(df_con[0])"
   ]
  },
  {
   "cell_type": "code",
   "execution_count": 101,
   "id": "5214f62d",
   "metadata": {
    "ExecuteTime": {
     "end_time": "2022-03-25T08:28:05.630123Z",
     "start_time": "2022-03-25T08:28:05.611174Z"
    }
   },
   "outputs": [
    {
     "data": {
      "text/html": [
       "<div>\n",
       "<style scoped>\n",
       "    .dataframe tbody tr th:only-of-type {\n",
       "        vertical-align: middle;\n",
       "    }\n",
       "\n",
       "    .dataframe tbody tr th {\n",
       "        vertical-align: top;\n",
       "    }\n",
       "\n",
       "    .dataframe thead th {\n",
       "        text-align: right;\n",
       "    }\n",
       "</style>\n",
       "<table border=\"1\" class=\"dataframe\">\n",
       "  <thead>\n",
       "    <tr style=\"text-align: right;\">\n",
       "      <th></th>\n",
       "      <th>#Passengers</th>\n",
       "      <th>1</th>\n",
       "      <th>2</th>\n",
       "      <th>3</th>\n",
       "      <th>4</th>\n",
       "      <th>5</th>\n",
       "      <th>6</th>\n",
       "      <th>7</th>\n",
       "      <th>8</th>\n",
       "      <th>9</th>\n",
       "      <th>10</th>\n",
       "      <th>11</th>\n",
       "      <th>12</th>\n",
       "    </tr>\n",
       "  </thead>\n",
       "  <tbody>\n",
       "    <tr>\n",
       "      <th>0</th>\n",
       "      <td>112</td>\n",
       "      <td>1.0</td>\n",
       "      <td>0.0</td>\n",
       "      <td>0.0</td>\n",
       "      <td>0.0</td>\n",
       "      <td>0.0</td>\n",
       "      <td>0.0</td>\n",
       "      <td>0.0</td>\n",
       "      <td>0.0</td>\n",
       "      <td>0.0</td>\n",
       "      <td>0.0</td>\n",
       "      <td>0.0</td>\n",
       "      <td>0.0</td>\n",
       "    </tr>\n",
       "    <tr>\n",
       "      <th>1</th>\n",
       "      <td>118</td>\n",
       "      <td>0.0</td>\n",
       "      <td>1.0</td>\n",
       "      <td>0.0</td>\n",
       "      <td>0.0</td>\n",
       "      <td>0.0</td>\n",
       "      <td>0.0</td>\n",
       "      <td>0.0</td>\n",
       "      <td>0.0</td>\n",
       "      <td>0.0</td>\n",
       "      <td>0.0</td>\n",
       "      <td>0.0</td>\n",
       "      <td>0.0</td>\n",
       "    </tr>\n",
       "    <tr>\n",
       "      <th>2</th>\n",
       "      <td>132</td>\n",
       "      <td>0.0</td>\n",
       "      <td>0.0</td>\n",
       "      <td>1.0</td>\n",
       "      <td>0.0</td>\n",
       "      <td>0.0</td>\n",
       "      <td>0.0</td>\n",
       "      <td>0.0</td>\n",
       "      <td>0.0</td>\n",
       "      <td>0.0</td>\n",
       "      <td>0.0</td>\n",
       "      <td>0.0</td>\n",
       "      <td>0.0</td>\n",
       "    </tr>\n",
       "    <tr>\n",
       "      <th>3</th>\n",
       "      <td>129</td>\n",
       "      <td>0.0</td>\n",
       "      <td>0.0</td>\n",
       "      <td>0.0</td>\n",
       "      <td>1.0</td>\n",
       "      <td>0.0</td>\n",
       "      <td>0.0</td>\n",
       "      <td>0.0</td>\n",
       "      <td>0.0</td>\n",
       "      <td>0.0</td>\n",
       "      <td>0.0</td>\n",
       "      <td>0.0</td>\n",
       "      <td>0.0</td>\n",
       "    </tr>\n",
       "    <tr>\n",
       "      <th>4</th>\n",
       "      <td>121</td>\n",
       "      <td>0.0</td>\n",
       "      <td>0.0</td>\n",
       "      <td>0.0</td>\n",
       "      <td>0.0</td>\n",
       "      <td>1.0</td>\n",
       "      <td>0.0</td>\n",
       "      <td>0.0</td>\n",
       "      <td>0.0</td>\n",
       "      <td>0.0</td>\n",
       "      <td>0.0</td>\n",
       "      <td>0.0</td>\n",
       "      <td>0.0</td>\n",
       "    </tr>\n",
       "    <tr>\n",
       "      <th>...</th>\n",
       "      <td>...</td>\n",
       "      <td>...</td>\n",
       "      <td>...</td>\n",
       "      <td>...</td>\n",
       "      <td>...</td>\n",
       "      <td>...</td>\n",
       "      <td>...</td>\n",
       "      <td>...</td>\n",
       "      <td>...</td>\n",
       "      <td>...</td>\n",
       "      <td>...</td>\n",
       "      <td>...</td>\n",
       "      <td>...</td>\n",
       "    </tr>\n",
       "    <tr>\n",
       "      <th>139</th>\n",
       "      <td>606</td>\n",
       "      <td>0.0</td>\n",
       "      <td>0.0</td>\n",
       "      <td>0.0</td>\n",
       "      <td>0.0</td>\n",
       "      <td>0.0</td>\n",
       "      <td>0.0</td>\n",
       "      <td>0.0</td>\n",
       "      <td>1.0</td>\n",
       "      <td>0.0</td>\n",
       "      <td>0.0</td>\n",
       "      <td>0.0</td>\n",
       "      <td>0.0</td>\n",
       "    </tr>\n",
       "    <tr>\n",
       "      <th>140</th>\n",
       "      <td>508</td>\n",
       "      <td>0.0</td>\n",
       "      <td>0.0</td>\n",
       "      <td>0.0</td>\n",
       "      <td>0.0</td>\n",
       "      <td>0.0</td>\n",
       "      <td>0.0</td>\n",
       "      <td>0.0</td>\n",
       "      <td>0.0</td>\n",
       "      <td>1.0</td>\n",
       "      <td>0.0</td>\n",
       "      <td>0.0</td>\n",
       "      <td>0.0</td>\n",
       "    </tr>\n",
       "    <tr>\n",
       "      <th>141</th>\n",
       "      <td>461</td>\n",
       "      <td>0.0</td>\n",
       "      <td>0.0</td>\n",
       "      <td>0.0</td>\n",
       "      <td>0.0</td>\n",
       "      <td>0.0</td>\n",
       "      <td>0.0</td>\n",
       "      <td>0.0</td>\n",
       "      <td>0.0</td>\n",
       "      <td>0.0</td>\n",
       "      <td>1.0</td>\n",
       "      <td>0.0</td>\n",
       "      <td>0.0</td>\n",
       "    </tr>\n",
       "    <tr>\n",
       "      <th>142</th>\n",
       "      <td>390</td>\n",
       "      <td>0.0</td>\n",
       "      <td>0.0</td>\n",
       "      <td>0.0</td>\n",
       "      <td>0.0</td>\n",
       "      <td>0.0</td>\n",
       "      <td>0.0</td>\n",
       "      <td>0.0</td>\n",
       "      <td>0.0</td>\n",
       "      <td>0.0</td>\n",
       "      <td>0.0</td>\n",
       "      <td>1.0</td>\n",
       "      <td>0.0</td>\n",
       "    </tr>\n",
       "    <tr>\n",
       "      <th>143</th>\n",
       "      <td>432</td>\n",
       "      <td>0.0</td>\n",
       "      <td>0.0</td>\n",
       "      <td>0.0</td>\n",
       "      <td>0.0</td>\n",
       "      <td>0.0</td>\n",
       "      <td>0.0</td>\n",
       "      <td>0.0</td>\n",
       "      <td>0.0</td>\n",
       "      <td>0.0</td>\n",
       "      <td>0.0</td>\n",
       "      <td>0.0</td>\n",
       "      <td>1.0</td>\n",
       "    </tr>\n",
       "  </tbody>\n",
       "</table>\n",
       "<p>144 rows × 13 columns</p>\n",
       "</div>"
      ],
      "text/plain": [
       "     #Passengers    1    2    3    4    5    6    7    8    9   10   11   12\n",
       "0            112  1.0  0.0  0.0  0.0  0.0  0.0  0.0  0.0  0.0  0.0  0.0  0.0\n",
       "1            118  0.0  1.0  0.0  0.0  0.0  0.0  0.0  0.0  0.0  0.0  0.0  0.0\n",
       "2            132  0.0  0.0  1.0  0.0  0.0  0.0  0.0  0.0  0.0  0.0  0.0  0.0\n",
       "3            129  0.0  0.0  0.0  1.0  0.0  0.0  0.0  0.0  0.0  0.0  0.0  0.0\n",
       "4            121  0.0  0.0  0.0  0.0  1.0  0.0  0.0  0.0  0.0  0.0  0.0  0.0\n",
       "..           ...  ...  ...  ...  ...  ...  ...  ...  ...  ...  ...  ...  ...\n",
       "139          606  0.0  0.0  0.0  0.0  0.0  0.0  0.0  1.0  0.0  0.0  0.0  0.0\n",
       "140          508  0.0  0.0  0.0  0.0  0.0  0.0  0.0  0.0  1.0  0.0  0.0  0.0\n",
       "141          461  0.0  0.0  0.0  0.0  0.0  0.0  0.0  0.0  0.0  1.0  0.0  0.0\n",
       "142          390  0.0  0.0  0.0  0.0  0.0  0.0  0.0  0.0  0.0  0.0  1.0  0.0\n",
       "143          432  0.0  0.0  0.0  0.0  0.0  0.0  0.0  0.0  0.0  0.0  0.0  1.0\n",
       "\n",
       "[144 rows x 13 columns]"
      ]
     },
     "execution_count": 101,
     "metadata": {},
     "output_type": "execute_result"
    }
   ],
   "source": [
    "# 완성된 특성\n",
    "df_con.drop(columns=['mon','Month',0],inplace=True)\n",
    "df_con"
   ]
  },
  {
   "cell_type": "code",
   "execution_count": null,
   "id": "8ad6945e",
   "metadata": {},
   "outputs": [],
   "source": []
  },
  {
   "cell_type": "code",
   "execution_count": 102,
   "id": "d9e5a398",
   "metadata": {
    "ExecuteTime": {
     "end_time": "2022-03-25T08:28:07.357354Z",
     "start_time": "2022-03-25T08:28:07.339334Z"
    }
   },
   "outputs": [],
   "source": [
    "# test 1960-12 제외\n",
    "df_train = df_con.iloc[:-1,:]\n",
    "df_test = df_con.iloc[-1,:]"
   ]
  },
  {
   "cell_type": "code",
   "execution_count": 105,
   "id": "5f1b5ff5",
   "metadata": {
    "ExecuteTime": {
     "end_time": "2022-03-25T08:33:41.805145Z",
     "start_time": "2022-03-25T08:33:41.787193Z"
    }
   },
   "outputs": [
    {
     "data": {
      "text/plain": [
       "144"
      ]
     },
     "execution_count": 105,
     "metadata": {},
     "output_type": "execute_result"
    }
   ],
   "source": [
    "len(df_con)"
   ]
  },
  {
   "cell_type": "code",
   "execution_count": 108,
   "id": "2218675a",
   "metadata": {
    "ExecuteTime": {
     "end_time": "2022-03-25T08:36:25.158530Z",
     "start_time": "2022-03-25T08:36:25.085634Z"
    }
   },
   "outputs": [],
   "source": [
    "# 5일뒤의 승객 : y\n",
    "window_size = 5\n",
    "X=[]\n",
    "Y=[]\n",
    "\n",
    "for i in range(len(df_con)-window_size):\n",
    "    X.append([df_con.iloc[i+j] for j in range(window_size)])\n",
    "    Y.append(df_con.iloc[window_size+i])"
   ]
  },
  {
   "cell_type": "code",
   "execution_count": 109,
   "id": "fd4dc9f6",
   "metadata": {
    "ExecuteTime": {
     "end_time": "2022-03-25T08:36:30.052381Z",
     "start_time": "2022-03-25T08:36:30.044405Z"
    }
   },
   "outputs": [],
   "source": [
    "X = np.array(X)\n",
    "Y = np.array(Y)"
   ]
  },
  {
   "cell_type": "code",
   "execution_count": 110,
   "id": "195ebe1a",
   "metadata": {
    "ExecuteTime": {
     "end_time": "2022-03-25T08:36:30.365615Z",
     "start_time": "2022-03-25T08:36:30.348407Z"
    }
   },
   "outputs": [
    {
     "data": {
      "text/plain": [
       "(139, 5, 13)"
      ]
     },
     "execution_count": 110,
     "metadata": {},
     "output_type": "execute_result"
    }
   ],
   "source": [
    "X.shape"
   ]
  },
  {
   "cell_type": "code",
   "execution_count": null,
   "id": "3462be74",
   "metadata": {},
   "outputs": [],
   "source": []
  },
  {
   "cell_type": "code",
   "execution_count": 123,
   "id": "593286fc",
   "metadata": {
    "ExecuteTime": {
     "end_time": "2022-03-25T08:56:37.488815Z",
     "start_time": "2022-03-25T08:56:37.342608Z"
    }
   },
   "outputs": [
    {
     "name": "stdout",
     "output_type": "stream",
     "text": [
      "WARNING:tensorflow:Layer lstm_5 will not use cuDNN kernels since it doesn't meet the criteria. It will use a generic GPU kernel as fallback when running on GPU.\n",
      "WARNING:tensorflow:Layer lstm_6 will not use cuDNN kernels since it doesn't meet the criteria. It will use a generic GPU kernel as fallback when running on GPU.\n",
      "Model: \"sequential_4\"\n",
      "_________________________________________________________________\n",
      " Layer (type)                Output Shape              Param #   \n",
      "=================================================================\n",
      " lstm_5 (LSTM)               (None, 5, 15)             1740      \n",
      "                                                                 \n",
      " lstm_6 (LSTM)               (None, 15)                1860      \n",
      "                                                                 \n",
      " dropout (Dropout)           (None, 15)                0         \n",
      "                                                                 \n",
      " dense_3 (Dense)             (None, 128)               2048      \n",
      "                                                                 \n",
      " dense_4 (Dense)             (None, 64)                8256      \n",
      "                                                                 \n",
      " dense_5 (Dense)             (None, 32)                2080      \n",
      "                                                                 \n",
      " dense_6 (Dense)             (None, 1)                 33        \n",
      "                                                                 \n",
      "=================================================================\n",
      "Total params: 16,017\n",
      "Trainable params: 16,017\n",
      "Non-trainable params: 0\n",
      "_________________________________________________________________\n"
     ]
    }
   ],
   "source": [
    "model = Sequential()\n",
    "model.add(LSTM(15 ,input_shape = (5,13),activation= 'relu',return_sequences=True))\n",
    "model.add(LSTM(15 ,activation= 'relu'))\n",
    "model.add(Dropout(0.2))\n",
    "model.add(Dense(128))\n",
    "model.add(Dense(64))\n",
    "model.add(Dense(32))\n",
    "model.add(Dense(1))\n",
    "model.summary()"
   ]
  },
  {
   "cell_type": "code",
   "execution_count": 124,
   "id": "7048aad8",
   "metadata": {
    "ExecuteTime": {
     "end_time": "2022-03-25T08:56:39.179701Z",
     "start_time": "2022-03-25T08:56:39.165739Z"
    }
   },
   "outputs": [],
   "source": [
    "model.compile(loss='mse', metrics=['mse'], optimizer ='adam')"
   ]
  },
  {
   "cell_type": "code",
   "execution_count": 125,
   "id": "463ef679",
   "metadata": {
    "ExecuteTime": {
     "end_time": "2022-03-25T08:57:26.383907Z",
     "start_time": "2022-03-25T08:56:41.102181Z"
    }
   },
   "outputs": [
    {
     "name": "stdout",
     "output_type": "stream",
     "text": [
      "Epoch 1/100\n",
      "14/14 [==============================] - 2s 40ms/step - loss: 6976.3989 - mse: 6976.3989\n",
      "Epoch 2/100\n",
      "14/14 [==============================] - 0s 31ms/step - loss: 6936.6143 - mse: 6936.6143\n",
      "Epoch 3/100\n",
      "14/14 [==============================] - 0s 32ms/step - loss: 6917.7471 - mse: 6917.7471\n",
      "Epoch 4/100\n",
      "14/14 [==============================] - 0s 30ms/step - loss: 6853.4282 - mse: 6853.4282\n",
      "Epoch 5/100\n",
      "14/14 [==============================] - 0s 31ms/step - loss: 6848.2441 - mse: 6848.2441\n",
      "Epoch 6/100\n",
      "14/14 [==============================] - 0s 28ms/step - loss: 6843.9019 - mse: 6843.9019\n",
      "Epoch 7/100\n",
      "14/14 [==============================] - 1s 36ms/step - loss: 6847.9731 - mse: 6847.9731\n",
      "Epoch 8/100\n",
      "14/14 [==============================] - 0s 32ms/step - loss: 6854.5684 - mse: 6854.5684\n",
      "Epoch 9/100\n",
      "14/14 [==============================] - 0s 30ms/step - loss: 6830.0190 - mse: 6830.0190\n",
      "Epoch 10/100\n",
      "14/14 [==============================] - 0s 31ms/step - loss: 6846.9893 - mse: 6846.9893\n",
      "Epoch 11/100\n",
      "14/14 [==============================] - 0s 32ms/step - loss: 6842.8945 - mse: 6842.8945\n",
      "Epoch 12/100\n",
      "14/14 [==============================] - 0s 29ms/step - loss: 6834.1670 - mse: 6834.1670\n",
      "Epoch 13/100\n",
      "14/14 [==============================] - 0s 32ms/step - loss: 6850.9507 - mse: 6850.9507\n",
      "Epoch 14/100\n",
      "14/14 [==============================] - 1s 35ms/step - loss: 6834.3892 - mse: 6834.3892\n",
      "Epoch 15/100\n",
      "14/14 [==============================] - 0s 31ms/step - loss: 6851.2832 - mse: 6851.2827\n",
      "Epoch 16/100\n",
      "14/14 [==============================] - 0s 30ms/step - loss: 6858.1313 - mse: 6858.1309\n",
      "Epoch 17/100\n",
      "14/14 [==============================] - 0s 31ms/step - loss: 6841.6709 - mse: 6841.6709\n",
      "Epoch 18/100\n",
      "14/14 [==============================] - 0s 28ms/step - loss: 6847.4497 - mse: 6847.4497\n",
      "Epoch 19/100\n",
      "14/14 [==============================] - 0s 30ms/step - loss: 6838.9722 - mse: 6838.9722\n",
      "Epoch 20/100\n",
      "14/14 [==============================] - 0s 31ms/step - loss: 6829.5679 - mse: 6829.5679\n",
      "Epoch 21/100\n",
      "14/14 [==============================] - 1s 37ms/step - loss: 6826.3809 - mse: 6826.3809\n",
      "Epoch 22/100\n",
      "14/14 [==============================] - 0s 34ms/step - loss: 6823.7417 - mse: 6823.7417\n",
      "Epoch 23/100\n",
      "14/14 [==============================] - 0s 30ms/step - loss: 6831.3853 - mse: 6831.3853\n",
      "Epoch 24/100\n",
      "14/14 [==============================] - 0s 32ms/step - loss: 6829.9995 - mse: 6829.9995\n",
      "Epoch 25/100\n",
      "14/14 [==============================] - 0s 27ms/step - loss: 6822.3833 - mse: 6822.3833\n",
      "Epoch 26/100\n",
      "14/14 [==============================] - 0s 29ms/step - loss: 6834.4219 - mse: 6834.4219\n",
      "Epoch 27/100\n",
      "14/14 [==============================] - 0s 29ms/step - loss: 6836.9141 - mse: 6836.9141\n",
      "Epoch 28/100\n",
      "14/14 [==============================] - 0s 36ms/step - loss: 6816.9165 - mse: 6816.9165\n",
      "Epoch 29/100\n",
      "14/14 [==============================] - 0s 33ms/step - loss: 6836.9639 - mse: 6836.9639\n",
      "Epoch 30/100\n",
      "14/14 [==============================] - 0s 28ms/step - loss: 6819.8535 - mse: 6819.8535\n",
      "Epoch 31/100\n",
      "14/14 [==============================] - 0s 31ms/step - loss: 6818.6357 - mse: 6818.6357\n",
      "Epoch 32/100\n",
      "14/14 [==============================] - 0s 29ms/step - loss: 6818.8867 - mse: 6818.8867\n",
      "Epoch 33/100\n",
      "14/14 [==============================] - 0s 29ms/step - loss: 6815.8677 - mse: 6815.8677\n",
      "Epoch 34/100\n",
      "14/14 [==============================] - 0s 32ms/step - loss: 6815.7617 - mse: 6815.7617\n",
      "Epoch 35/100\n",
      "14/14 [==============================] - 1s 37ms/step - loss: 6832.6812 - mse: 6832.6812\n",
      "Epoch 36/100\n",
      "14/14 [==============================] - 1s 37ms/step - loss: 6819.2798 - mse: 6819.2798\n",
      "Epoch 37/100\n",
      "14/14 [==============================] - 0s 32ms/step - loss: 6815.2134 - mse: 6815.2134\n",
      "Epoch 38/100\n",
      "14/14 [==============================] - 0s 29ms/step - loss: 6819.5283 - mse: 6819.5283\n",
      "Epoch 39/100\n",
      "14/14 [==============================] - 0s 30ms/step - loss: 6818.1919 - mse: 6818.1914\n",
      "Epoch 40/100\n",
      "14/14 [==============================] - 0s 30ms/step - loss: 6819.0674 - mse: 6819.0674\n",
      "Epoch 41/100\n",
      "14/14 [==============================] - 0s 28ms/step - loss: 6841.1860 - mse: 6841.1860\n",
      "Epoch 42/100\n",
      "14/14 [==============================] - 0s 29ms/step - loss: 6824.4375 - mse: 6824.4375\n",
      "Epoch 43/100\n",
      "14/14 [==============================] - 0s 29ms/step - loss: 6860.1821 - mse: 6860.1821\n",
      "Epoch 44/100\n",
      "14/14 [==============================] - 0s 35ms/step - loss: 6858.2856 - mse: 6858.2856\n",
      "Epoch 45/100\n",
      "14/14 [==============================] - 0s 30ms/step - loss: 6880.8691 - mse: 6880.8691\n",
      "Epoch 46/100\n",
      "14/14 [==============================] - 0s 29ms/step - loss: 6851.4336 - mse: 6851.4336\n",
      "Epoch 47/100\n",
      "14/14 [==============================] - 0s 30ms/step - loss: 6827.9463 - mse: 6827.9463\n",
      "Epoch 48/100\n",
      "14/14 [==============================] - 0s 31ms/step - loss: 6836.6323 - mse: 6836.6323\n",
      "Epoch 49/100\n",
      "14/14 [==============================] - 0s 28ms/step - loss: 6844.9917 - mse: 6844.9917\n",
      "Epoch 50/100\n",
      "14/14 [==============================] - 0s 29ms/step - loss: 6831.6626 - mse: 6831.6626\n",
      "Epoch 51/100\n",
      "14/14 [==============================] - 1s 39ms/step - loss: 6831.4922 - mse: 6831.4917\n",
      "Epoch 52/100\n",
      "14/14 [==============================] - 0s 33ms/step - loss: 6821.3047 - mse: 6821.3047\n",
      "Epoch 53/100\n",
      "14/14 [==============================] - 0s 31ms/step - loss: 6836.7524 - mse: 6836.7524\n",
      "Epoch 54/100\n",
      "14/14 [==============================] - 0s 30ms/step - loss: 6826.5430 - mse: 6826.5430\n",
      "Epoch 55/100\n",
      "14/14 [==============================] - 0s 30ms/step - loss: 6815.2510 - mse: 6815.2510\n",
      "Epoch 56/100\n",
      "14/14 [==============================] - 0s 29ms/step - loss: 6821.0264 - mse: 6821.0264\n",
      "Epoch 57/100\n",
      "14/14 [==============================] - 0s 32ms/step - loss: 6820.7017 - mse: 6820.7017\n",
      "Epoch 58/100\n",
      "14/14 [==============================] - 0s 35ms/step - loss: 6822.9365 - mse: 6822.9365\n",
      "Epoch 59/100\n",
      "14/14 [==============================] - 0s 32ms/step - loss: 6820.6113 - mse: 6820.6113\n",
      "Epoch 60/100\n",
      "14/14 [==============================] - 0s 29ms/step - loss: 6824.1006 - mse: 6824.1006\n",
      "Epoch 61/100\n",
      "14/14 [==============================] - 0s 31ms/step - loss: 6819.9883 - mse: 6819.9883\n",
      "Epoch 62/100\n",
      "14/14 [==============================] - 0s 32ms/step - loss: 6816.6626 - mse: 6816.6631\n",
      "Epoch 63/100\n",
      "14/14 [==============================] - 0s 30ms/step - loss: 6820.4927 - mse: 6820.4927\n",
      "Epoch 64/100\n",
      "14/14 [==============================] - 0s 31ms/step - loss: 6817.0024 - mse: 6817.0024\n",
      "Epoch 65/100\n",
      "14/14 [==============================] - 1s 36ms/step - loss: 6820.9688 - mse: 6820.9688\n",
      "Epoch 66/100\n",
      "14/14 [==============================] - 0s 34ms/step - loss: 6825.6069 - mse: 6825.6060\n",
      "Epoch 67/100\n",
      "14/14 [==============================] - 0s 31ms/step - loss: 6827.6045 - mse: 6827.6050\n",
      "Epoch 68/100\n",
      "14/14 [==============================] - 0s 31ms/step - loss: 6823.3701 - mse: 6823.3701\n",
      "Epoch 69/100\n",
      "14/14 [==============================] - 0s 30ms/step - loss: 6815.3311 - mse: 6815.3311\n",
      "Epoch 70/100\n",
      "14/14 [==============================] - 0s 29ms/step - loss: 6826.1943 - mse: 6826.1938\n",
      "Epoch 71/100\n",
      "14/14 [==============================] - 0s 31ms/step - loss: 6820.2471 - mse: 6820.2471\n",
      "Epoch 72/100\n",
      "14/14 [==============================] - 0s 28ms/step - loss: 6815.8740 - mse: 6815.8745\n",
      "Epoch 73/100\n",
      "14/14 [==============================] - 1s 37ms/step - loss: 6806.0767 - mse: 6806.0767\n",
      "Epoch 74/100\n",
      "14/14 [==============================] - 0s 30ms/step - loss: 6815.1812 - mse: 6815.1812\n",
      "Epoch 75/100\n",
      "14/14 [==============================] - 0s 27ms/step - loss: 6809.8999 - mse: 6809.8999\n",
      "Epoch 76/100\n",
      "14/14 [==============================] - 0s 30ms/step - loss: 6813.7666 - mse: 6813.7666\n",
      "Epoch 77/100\n",
      "14/14 [==============================] - 0s 31ms/step - loss: 6806.9487 - mse: 6806.9487\n",
      "Epoch 78/100\n",
      "14/14 [==============================] - 0s 30ms/step - loss: 6803.4971 - mse: 6803.4971\n",
      "Epoch 79/100\n",
      "14/14 [==============================] - 0s 28ms/step - loss: 6810.3325 - mse: 6810.3325\n",
      "Epoch 80/100\n",
      "14/14 [==============================] - 1s 38ms/step - loss: 6811.4097 - mse: 6811.4097\n",
      "Epoch 81/100\n"
     ]
    },
    {
     "name": "stdout",
     "output_type": "stream",
     "text": [
      "14/14 [==============================] - 0s 30ms/step - loss: 6814.1235 - mse: 6814.1235\n",
      "Epoch 82/100\n",
      "14/14 [==============================] - 0s 28ms/step - loss: 6810.1562 - mse: 6810.1562\n",
      "Epoch 83/100\n",
      "14/14 [==============================] - 0s 28ms/step - loss: 6808.8901 - mse: 6808.8901\n",
      "Epoch 84/100\n",
      "14/14 [==============================] - 0s 28ms/step - loss: 6812.3491 - mse: 6812.3486\n",
      "Epoch 85/100\n",
      "14/14 [==============================] - 0s 28ms/step - loss: 6807.5942 - mse: 6807.5942\n",
      "Epoch 86/100\n",
      "14/14 [==============================] - 0s 30ms/step - loss: 6811.2788 - mse: 6811.2788\n",
      "Epoch 87/100\n",
      "14/14 [==============================] - 0s 35ms/step - loss: 6810.4634 - mse: 6810.4634\n",
      "Epoch 88/100\n",
      "14/14 [==============================] - 1s 37ms/step - loss: 6807.6309 - mse: 6807.6309\n",
      "Epoch 89/100\n",
      "14/14 [==============================] - 0s 31ms/step - loss: 6808.1431 - mse: 6808.1426\n",
      "Epoch 90/100\n",
      "14/14 [==============================] - 0s 31ms/step - loss: 6802.9980 - mse: 6802.9980\n",
      "Epoch 91/100\n",
      "14/14 [==============================] - 0s 32ms/step - loss: 6805.6997 - mse: 6805.6997\n",
      "Epoch 92/100\n",
      "14/14 [==============================] - 0s 29ms/step - loss: 6803.9004 - mse: 6803.9004\n",
      "Epoch 93/100\n",
      "14/14 [==============================] - 0s 28ms/step - loss: 6805.4561 - mse: 6805.4561\n",
      "Epoch 94/100\n",
      "14/14 [==============================] - 0s 33ms/step - loss: 6803.5923 - mse: 6803.5923\n",
      "Epoch 95/100\n",
      "14/14 [==============================] - 0s 34ms/step - loss: 6807.6274 - mse: 6807.6274\n",
      "Epoch 96/100\n",
      "14/14 [==============================] - 0s 32ms/step - loss: 6809.8247 - mse: 6809.8247\n",
      "Epoch 97/100\n",
      "14/14 [==============================] - 0s 31ms/step - loss: 6805.9971 - mse: 6805.9971\n",
      "Epoch 98/100\n",
      "14/14 [==============================] - 0s 30ms/step - loss: 6802.7993 - mse: 6802.7993\n",
      "Epoch 99/100\n",
      "14/14 [==============================] - 0s 30ms/step - loss: 6806.2256 - mse: 6806.2256\n",
      "Epoch 100/100\n",
      "14/14 [==============================] - 0s 30ms/step - loss: 6802.3525 - mse: 6802.3525\n"
     ]
    }
   ],
   "source": [
    "hist = model.fit(X,Y, epochs=100,batch_size=10)"
   ]
  },
  {
   "cell_type": "code",
   "execution_count": 126,
   "id": "166fc923",
   "metadata": {
    "ExecuteTime": {
     "end_time": "2022-03-25T08:57:29.408021Z",
     "start_time": "2022-03-25T08:57:29.118090Z"
    }
   },
   "outputs": [
    {
     "name": "stdout",
     "output_type": "stream",
     "text": [
      "5/5 [==============================] - 0s 8ms/step - loss: 6795.1582 - mse: 6795.1582\n"
     ]
    },
    {
     "data": {
      "text/plain": [
       "[6795.158203125, 6795.158203125]"
      ]
     },
     "execution_count": 126,
     "metadata": {},
     "output_type": "execute_result"
    }
   ],
   "source": [
    "model.evaluate(X,Y)"
   ]
  },
  {
   "cell_type": "code",
   "execution_count": null,
   "id": "a6c3167b",
   "metadata": {
    "ExecuteTime": {
     "end_time": "2022-03-25T05:54:08.812447Z",
     "start_time": "2022-03-25T05:54:08.604794Z"
    }
   },
   "outputs": [],
   "source": []
  },
  {
   "cell_type": "code",
   "execution_count": 127,
   "id": "9de20fea",
   "metadata": {
    "ExecuteTime": {
     "end_time": "2022-03-25T08:57:31.460175Z",
     "start_time": "2022-03-25T08:57:31.454193Z"
    }
   },
   "outputs": [
    {
     "data": {
      "text/plain": [
       "array([[128.9048  ],\n",
       "       [145.54912 ],\n",
       "       [156.25342 ],\n",
       "       [152.34326 ],\n",
       "       [142.08086 ],\n",
       "       [118.282455],\n",
       "       [115.52792 ],\n",
       "       [125.653656],\n",
       "       [133.16362 ],\n",
       "       [135.51387 ],\n",
       "       [138.9363  ],\n",
       "       [139.55588 ],\n",
       "       [132.03185 ],\n",
       "       [157.81764 ],\n",
       "       [175.44025 ],\n",
       "       [166.76344 ],\n",
       "       [160.69058 ],\n",
       "       [126.086174],\n",
       "       [129.98256 ],\n",
       "       [146.93571 ],\n",
       "       [166.24556 ],\n",
       "       [154.77098 ],\n",
       "       [173.40924 ],\n",
       "       [168.30399 ],\n",
       "       [180.17265 ],\n",
       "       [190.84329 ],\n",
       "       [205.0881  ],\n",
       "       [202.46109 ],\n",
       "       [193.79323 ],\n",
       "       [151.38017 ],\n",
       "       [153.3102  ],\n",
       "       [169.46985 ],\n",
       "       [189.864   ],\n",
       "       [187.20361 ],\n",
       "       [191.81212 ],\n",
       "       [193.02626 ],\n",
       "       [199.07887 ],\n",
       "       [223.39201 ],\n",
       "       [227.55525 ],\n",
       "       [233.73929 ],\n",
       "       [202.87439 ],\n",
       "       [175.76399 ],\n",
       "       [182.28062 ],\n",
       "       [197.31406 ],\n",
       "       [212.77171 ],\n",
       "       [213.86418 ],\n",
       "       [232.97679 ],\n",
       "       [235.57867 ],\n",
       "       [240.3745  ],\n",
       "       [257.04285 ],\n",
       "       [276.90878 ],\n",
       "       [278.6736  ],\n",
       "       [229.665   ],\n",
       "       [190.85526 ],\n",
       "       [203.8964  ],\n",
       "       [214.8482  ],\n",
       "       [200.17575 ],\n",
       "       [205.83315 ],\n",
       "       [233.91562 ],\n",
       "       [239.92406 ],\n",
       "       [242.93794 ],\n",
       "       [259.00885 ],\n",
       "       [293.80194 ],\n",
       "       [289.03503 ],\n",
       "       [247.10965 ],\n",
       "       [207.50473 ],\n",
       "       [227.42374 ],\n",
       "       [235.74971 ],\n",
       "       [241.10655 ],\n",
       "       [254.08975 ],\n",
       "       [264.4774  ],\n",
       "       [279.21292 ],\n",
       "       [287.09125 ],\n",
       "       [306.03336 ],\n",
       "       [360.67447 ],\n",
       "       [341.09702 ],\n",
       "       [302.64255 ],\n",
       "       [245.05188 ],\n",
       "       [270.44174 ],\n",
       "       [289.80396 ],\n",
       "       [281.43127 ],\n",
       "       [303.30206 ],\n",
       "       [312.83026 ],\n",
       "       [331.49982 ],\n",
       "       [339.4702  ],\n",
       "       [360.95535 ],\n",
       "       [393.202   ],\n",
       "       [398.48618 ],\n",
       "       [321.91397 ],\n",
       "       [278.1492  ],\n",
       "       [311.03458 ],\n",
       "       [316.56357 ],\n",
       "       [310.44434 ],\n",
       "       [334.56696 ],\n",
       "       [348.58377 ],\n",
       "       [366.3681  ],\n",
       "       [376.2502  ],\n",
       "       [406.39417 ],\n",
       "       [442.0754  ],\n",
       "       [448.31802 ],\n",
       "       [362.23734 ],\n",
       "       [313.0139  ],\n",
       "       [353.56958 ],\n",
       "       [350.54254 ],\n",
       "       [330.45282 ],\n",
       "       [348.77588 ],\n",
       "       [378.9082  ],\n",
       "       [387.9423  ],\n",
       "       [393.09027 ],\n",
       "       [420.68228 ]], dtype=float32)"
      ]
     },
     "execution_count": 127,
     "metadata": {},
     "output_type": "execute_result"
    }
   ],
   "source": [
    "x_train_pred"
   ]
  },
  {
   "cell_type": "code",
   "execution_count": null,
   "id": "fc7b4626",
   "metadata": {},
   "outputs": [],
   "source": []
  },
  {
   "cell_type": "code",
   "execution_count": 128,
   "id": "68b1a4c7",
   "metadata": {
    "ExecuteTime": {
     "end_time": "2022-03-25T08:58:09.992596Z",
     "start_time": "2022-03-25T08:58:09.981625Z"
    }
   },
   "outputs": [],
   "source": [
    "test_df = df_train[-5:].values.reshape(1, 5, 13)"
   ]
  },
  {
   "cell_type": "code",
   "execution_count": 129,
   "id": "f61bb953",
   "metadata": {
    "ExecuteTime": {
     "end_time": "2022-03-25T08:58:12.954177Z",
     "start_time": "2022-03-25T08:58:12.733197Z"
    }
   },
   "outputs": [
    {
     "data": {
      "text/plain": [
       "array([[33.701206]], dtype=float32)"
      ]
     },
     "execution_count": 129,
     "metadata": {},
     "output_type": "execute_result"
    }
   ],
   "source": [
    "model.predict(test_df)"
   ]
  },
  {
   "cell_type": "code",
   "execution_count": null,
   "id": "469ef939",
   "metadata": {},
   "outputs": [],
   "source": [
    "model.predict(X)"
   ]
  }
 ],
 "metadata": {
  "kernelspec": {
   "display_name": "Python 3 (ipykernel)",
   "language": "python",
   "name": "python3"
  },
  "language_info": {
   "codemirror_mode": {
    "name": "ipython",
    "version": 3
   },
   "file_extension": ".py",
   "mimetype": "text/x-python",
   "name": "python",
   "nbconvert_exporter": "python",
   "pygments_lexer": "ipython3",
   "version": "3.9.7"
  },
  "toc": {
   "base_numbering": 1,
   "nav_menu": {},
   "number_sections": true,
   "sideBar": true,
   "skip_h1_title": false,
   "title_cell": "Table of Contents",
   "title_sidebar": "Contents",
   "toc_cell": false,
   "toc_position": {},
   "toc_section_display": true,
   "toc_window_display": false
  },
  "varInspector": {
   "cols": {
    "lenName": 16,
    "lenType": 16,
    "lenVar": 40
   },
   "kernels_config": {
    "python": {
     "delete_cmd_postfix": "",
     "delete_cmd_prefix": "del ",
     "library": "var_list.py",
     "varRefreshCmd": "print(var_dic_list())"
    },
    "r": {
     "delete_cmd_postfix": ") ",
     "delete_cmd_prefix": "rm(",
     "library": "var_list.r",
     "varRefreshCmd": "cat(var_dic_list()) "
    }
   },
   "types_to_exclude": [
    "module",
    "function",
    "builtin_function_or_method",
    "instance",
    "_Feature"
   ],
   "window_display": false
  }
 },
 "nbformat": 4,
 "nbformat_minor": 5
}
