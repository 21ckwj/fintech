{
 "cells": [
  {
   "cell_type": "markdown",
   "id": "595f0493",
   "metadata": {
    "ExecuteTime": {
     "end_time": "2022-03-23T05:38:54.201784Z",
     "start_time": "2022-03-23T05:38:54.190824Z"
    }
   },
   "source": [
    "* 생성자 모델: 가상의 이미지를 판별하는 모델\n",
    "                \n",
    "* 판별자 모델: 이미지가 진짜인지 가짜인지 판별하는 모델\n",
    "\n",
    "* gan 모델: <br>\n",
    "생성자와 판별자가 결합된 모델<br>\n",
    "생성자가 생성한 이미지를 판별자에게 판별하도록 하는 모델<br>\n",
    "생성자가 생성한 이미지를 True 라벨로 학습 => 생성자가 진짜이미지와 같은 이미지를 생성하도록 학습"
   ]
  },
  {
   "cell_type": "code",
   "execution_count": 2,
   "id": "997910c7",
   "metadata": {
    "ExecuteTime": {
     "end_time": "2022-03-23T05:45:29.614188Z",
     "start_time": "2022-03-23T05:45:29.596236Z"
    }
   },
   "outputs": [],
   "source": [
    "from tensorflow.keras.datasets import mnist\n",
    "from tensorflow.keras.layers import Input,Dense, Reshape, Flatten, Dropout\n",
    "from tensorflow.keras.layers import BatchNormalization, Activation, LeakyReLU, UpSampling2D, Conv2D\n",
    "from tensorflow.keras.models import Sequential, Model"
   ]
  },
  {
   "cell_type": "code",
   "execution_count": 3,
   "id": "ba1076d0",
   "metadata": {
    "ExecuteTime": {
     "end_time": "2022-03-23T05:46:10.576685Z",
     "start_time": "2022-03-23T05:46:09.980033Z"
    }
   },
   "outputs": [],
   "source": [
    "import pandas as pd\n",
    "import numpy as np\n",
    "import matplotlib.pyplot as plt\n",
    "import seaborn as sns"
   ]
  },
  {
   "cell_type": "code",
   "execution_count": 5,
   "id": "a0d8c7a1",
   "metadata": {
    "ExecuteTime": {
     "end_time": "2022-03-23T05:47:11.238079Z",
     "start_time": "2022-03-23T05:47:11.228106Z"
    }
   },
   "outputs": [],
   "source": [
    "import os\n",
    "if not os.path.exists('gan_images'):\n",
    "    os.mkdir('gan_images')"
   ]
  },
  {
   "cell_type": "code",
   "execution_count": 6,
   "id": "1b54adb9",
   "metadata": {
    "ExecuteTime": {
     "end_time": "2022-03-23T05:54:54.965809Z",
     "start_time": "2022-03-23T05:54:53.596786Z"
    }
   },
   "outputs": [
    {
     "name": "stdout",
     "output_type": "stream",
     "text": [
      "Model: \"sequential\"\n",
      "_________________________________________________________________\n",
      " Layer (type)                Output Shape              Param #   \n",
      "=================================================================\n",
      " dense (Dense)               (None, 6272)              633472    \n",
      "                                                                 \n",
      " reshape (Reshape)           (None, 7, 7, 128)         0         \n",
      "                                                                 \n",
      " up_sampling2d (UpSampling2D  (None, 14, 14, 128)      0         \n",
      " )                                                               \n",
      "                                                                 \n",
      " conv2d (Conv2D)             (None, 14, 14, 64)        204864    \n",
      "                                                                 \n",
      " batch_normalization (BatchN  (None, 14, 14, 64)       256       \n",
      " ormalization)                                                   \n",
      "                                                                 \n",
      " activation (Activation)     (None, 14, 14, 64)        0         \n",
      "                                                                 \n",
      " up_sampling2d_1 (UpSampling  (None, 28, 28, 64)       0         \n",
      " 2D)                                                             \n",
      "                                                                 \n",
      " conv2d_1 (Conv2D)           (None, 28, 28, 1)         1601      \n",
      "                                                                 \n",
      "=================================================================\n",
      "Total params: 840,193\n",
      "Trainable params: 840,065\n",
      "Non-trainable params: 128\n",
      "_________________________________________________________________\n"
     ]
    }
   ],
   "source": [
    "# 생성자\n",
    "\n",
    "generator = Sequential()\n",
    "generator.add(Dense(128*7*7, input_dim=100, activation= LeakyReLU(0.2))) # 100차원\n",
    "generator.add(Reshape((7,7,128))) # 7 7\n",
    "generator.add(UpSampling2D()) #14 14\n",
    "generator.add(Conv2D(64, kernel_size=5, padding='same')) #14 14 64\n",
    "generator.add(BatchNormalization())\n",
    "generator.add(Activation(LeakyReLU(0.2)))\n",
    "generator.add(UpSampling2D()) # 28 28 64\n",
    "generator.add(Conv2D(1, kernel_size=5, padding='same', activation='tanh')) # 28 28 1\n",
    "generator.summary()"
   ]
  },
  {
   "cell_type": "code",
   "execution_count": 8,
   "id": "50a3a8af",
   "metadata": {
    "ExecuteTime": {
     "end_time": "2022-03-23T06:09:34.697593Z",
     "start_time": "2022-03-23T06:09:34.637754Z"
    }
   },
   "outputs": [
    {
     "name": "stdout",
     "output_type": "stream",
     "text": [
      "Model: \"sequential_2\"\n",
      "_________________________________________________________________\n",
      " Layer (type)                Output Shape              Param #   \n",
      "=================================================================\n",
      " conv2d_2 (Conv2D)           (None, 14, 14, 64)        1664      \n",
      "                                                                 \n",
      " activation_1 (Activation)   (None, 14, 14, 64)        0         \n",
      "                                                                 \n",
      " dropout (Dropout)           (None, 14, 14, 64)        0         \n",
      "                                                                 \n",
      " conv2d_3 (Conv2D)           (None, 7, 7, 128)         204928    \n",
      "                                                                 \n",
      " activation_2 (Activation)   (None, 7, 7, 128)         0         \n",
      "                                                                 \n",
      " dropout_1 (Dropout)         (None, 7, 7, 128)         0         \n",
      "                                                                 \n",
      " flatten (Flatten)           (None, 6272)              0         \n",
      "                                                                 \n",
      " dense_1 (Dense)             (None, 1)                 6273      \n",
      "                                                                 \n",
      "=================================================================\n",
      "Total params: 212,865\n",
      "Trainable params: 212,865\n",
      "Non-trainable params: 0\n",
      "_________________________________________________________________\n"
     ]
    }
   ],
   "source": [
    "# 판별자\n",
    "\n",
    "discriminator = Sequential()\n",
    "discriminator.add(Conv2D(64, kernel_size=5, strides=2, input_shape=(28,28,1), padding='same'))\n",
    "discriminator.add(Activation(LeakyReLU(0.2)))\n",
    "discriminator.add((Dropout(0.3)))\n",
    "discriminator.add(Conv2D(128, kernel_size=5, strides=2, padding='same'))\n",
    "discriminator.add(Activation(LeakyReLU(0.2)))\n",
    "discriminator.add(Dropout(0.3))\n",
    "discriminator.add(Flatten())\n",
    "discriminator.add(Dense(1,activation='sigmoid'))\n",
    "discriminator.summary()\n",
    "discriminator.compile(loss='binary_crossentropy', optimizer='adam')\n"
   ]
  },
  {
   "cell_type": "code",
   "execution_count": 10,
   "id": "516c048d",
   "metadata": {
    "ExecuteTime": {
     "end_time": "2022-03-23T06:10:48.784151Z",
     "start_time": "2022-03-23T06:10:48.734282Z"
    }
   },
   "outputs": [
    {
     "name": "stdout",
     "output_type": "stream",
     "text": [
      "Model: \"model\"\n",
      "_________________________________________________________________\n",
      " Layer (type)                Output Shape              Param #   \n",
      "=================================================================\n",
      " input_1 (InputLayer)        [(None, 100)]             0         \n",
      "                                                                 \n",
      " sequential (Sequential)     (None, 28, 28, 1)         840193    \n",
      "                                                                 \n",
      " sequential_2 (Sequential)   (None, 1)                 212865    \n",
      "                                                                 \n",
      "=================================================================\n",
      "Total params: 1,053,058\n",
      "Trainable params: 1,052,930\n",
      "Non-trainable params: 128\n",
      "_________________________________________________________________\n"
     ]
    }
   ],
   "source": [
    "ginput = Input(shape=(100,))\n",
    "dis_output = discriminator(generator(ginput))\n",
    "gan = Model(ginput, dis_output)\n",
    "gan.summary()"
   ]
  },
  {
   "cell_type": "code",
   "execution_count": null,
   "id": "9d2f38c5",
   "metadata": {},
   "outputs": [],
   "source": []
  },
  {
   "cell_type": "code",
   "execution_count": null,
   "id": "3259ce75",
   "metadata": {},
   "outputs": [],
   "source": [
    "def gan_train(epoch, batch_size, saving_interval):\n",
    "    \n",
    "    (x_train. _), (_,_) = mnist.load_data()\n",
    "    x_train = x_train.reshape(x_train.shape[0],28,28,1).astype('float32')\n",
    "    x_train = (x_train-127.5)/ (127.5)\n",
    "    \n",
    "    true = np.ones((batch_size,1))\n",
    "    fake = np.zeros((batch_size,1))\n",
    "    \n",
    "    for i in range(epoch):\n",
    "        idx = np.random.randint(0,x_train.shape[0],batch_size)\n",
    "        imgs = x_train\n",
    "        d_loss_real = discriminator.train_on_batch(imgs,true)\n",
    "        \n",
    "        noise "
   ]
  }
 ],
 "metadata": {
  "kernelspec": {
   "display_name": "Python 3 (ipykernel)",
   "language": "python",
   "name": "python3"
  },
  "language_info": {
   "codemirror_mode": {
    "name": "ipython",
    "version": 3
   },
   "file_extension": ".py",
   "mimetype": "text/x-python",
   "name": "python",
   "nbconvert_exporter": "python",
   "pygments_lexer": "ipython3",
   "version": "3.9.7"
  },
  "toc": {
   "base_numbering": 1,
   "nav_menu": {},
   "number_sections": true,
   "sideBar": true,
   "skip_h1_title": false,
   "title_cell": "Table of Contents",
   "title_sidebar": "Contents",
   "toc_cell": false,
   "toc_position": {},
   "toc_section_display": true,
   "toc_window_display": false
  },
  "varInspector": {
   "cols": {
    "lenName": 16,
    "lenType": 16,
    "lenVar": 40
   },
   "kernels_config": {
    "python": {
     "delete_cmd_postfix": "",
     "delete_cmd_prefix": "del ",
     "library": "var_list.py",
     "varRefreshCmd": "print(var_dic_list())"
    },
    "r": {
     "delete_cmd_postfix": ") ",
     "delete_cmd_prefix": "rm(",
     "library": "var_list.r",
     "varRefreshCmd": "cat(var_dic_list()) "
    }
   },
   "types_to_exclude": [
    "module",
    "function",
    "builtin_function_or_method",
    "instance",
    "_Feature"
   ],
   "window_display": false
  }
 },
 "nbformat": 4,
 "nbformat_minor": 5
}
