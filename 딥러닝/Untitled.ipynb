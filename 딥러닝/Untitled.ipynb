{
 "cells": [
  {
   "cell_type": "markdown",
   "id": "3676d4da",
   "metadata": {},
   "source": [
    "딥러닝 기초모델: LinearRegression => sigmoid() => 2진 분류: LogisiticRegression\n",
    "=> 다중분류 : LogisiticRegression을 여러개 사용 => 클래스 a,b,c : a/bc, b/ac, c/ab\n",
    "\n",
    "LinearRegression CostFunction => MSE( sigma(y-y_hat)** 2) / m  )\n",
    "\n",
    "LogisticRegression CostFunction ==> y * log(y_hat)_(1 - y)\n",
    "\n",
    "multiclassificaition CostFunction => sigma( y * log(y_hat)) \n",
    "\n",
    "\n",
    "Y_hat = Wx + b => cost funtion을 w,b의 함수로 표현이 가능\n",
    "\n",
    "LinearRegression CostFunction => sigma (y-Wx+b) ** 2\n",
    "\n",
    "\n",
    "\n",
    "\n",
    "\n"
   ]
  },
  {
   "cell_type": "markdown",
   "id": "3dc04760",
   "metadata": {},
   "source": [
    "Gradient desent \n",
    "\n",
    "Cost함수를 w로 미분한값으로 wㄹ를 빼서 업데이트를 반복혼다\n",
    "Cost가 최소 되는 w점으로 w가 수렴하게 된다"
   ]
  },
  {
   "cell_type": "code",
   "execution_count": 22,
   "id": "088df05a",
   "metadata": {},
   "outputs": [],
   "source": [
    "# !pip install tensorflow"
   ]
  },
  {
   "cell_type": "code",
   "execution_count": 23,
   "id": "7f98ad4d",
   "metadata": {},
   "outputs": [],
   "source": [
    "from tensorflow.keras.models import Sequential\n",
    "from tensorflow.keras.layers import Dense"
   ]
  },
  {
   "cell_type": "code",
   "execution_count": 24,
   "id": "ef918b7e",
   "metadata": {},
   "outputs": [],
   "source": [
    "# import pandas as pd\n",
    "import numpy as np\n",
    "import tensorflow as tf"
   ]
  },
  {
   "cell_type": "code",
   "execution_count": 33,
   "id": "c010fd81",
   "metadata": {},
   "outputs": [
    {
     "data": {
      "text/plain": [
       "'2.8.0'"
      ]
     },
     "execution_count": 33,
     "metadata": {},
     "output_type": "execute_result"
    }
   ],
   "source": [
    "tf.__version__"
   ]
  },
  {
   "cell_type": "code",
   "execution_count": 25,
   "id": "72eccff4",
   "metadata": {},
   "outputs": [
    {
     "data": {
      "text/plain": [
       "array([[293.  ,   1.  ,   3.8 , ...,   0.  ,  62.  ,   0.  ],\n",
       "       [  1.  ,   2.  ,   2.88, ...,   0.  ,  60.  ,   0.  ],\n",
       "       [  8.  ,   2.  ,   3.19, ...,   0.  ,  66.  ,   1.  ],\n",
       "       ...,\n",
       "       [406.  ,   6.  ,   5.36, ...,   0.  ,  62.  ,   0.  ],\n",
       "       [ 25.  ,   8.  ,   4.32, ...,   0.  ,  58.  ,   1.  ],\n",
       "       [447.  ,   8.  ,   5.2 , ...,   0.  ,  49.  ,   0.  ]])"
      ]
     },
     "execution_count": 25,
     "metadata": {},
     "output_type": "execute_result"
    }
   ],
   "source": [
    "data_set = np.loadtxt('./data/ThoraricSurgery.csv',delimiter=',')\n",
    "data_set\n"
   ]
  },
  {
   "cell_type": "code",
   "execution_count": 26,
   "id": "120bafc2",
   "metadata": {},
   "outputs": [],
   "source": [
    "x = data_set[:, 0:17]\n",
    "y = data_set[:, 17]"
   ]
  },
  {
   "cell_type": "code",
   "execution_count": null,
   "id": "16d0a185",
   "metadata": {},
   "outputs": [],
   "source": []
  },
  {
   "cell_type": "code",
   "execution_count": 30,
   "id": "1ac52572",
   "metadata": {},
   "outputs": [
    {
     "name": "stdout",
     "output_type": "stream",
     "text": [
      "Model: \"sequential_5\"\n",
      "_________________________________________________________________\n",
      " Layer (type)                Output Shape              Param #   \n",
      "=================================================================\n",
      " dense_15 (Dense)            (None, 3)                 54        \n",
      "                                                                 \n",
      " dense_16 (Dense)            (None, 4)                 16        \n",
      "                                                                 \n",
      " dense_17 (Dense)            (None, 1)                 5         \n",
      "                                                                 \n",
      "=================================================================\n",
      "Total params: 75\n",
      "Trainable params: 75\n",
      "Non-trainable params: 0\n",
      "_________________________________________________________________\n"
     ]
    }
   ],
   "source": [
    "model = Sequential()\n",
    "model.add(Dense(3, input_dim=17, activation='relu'))\n",
    "model.add(Dense(4, activation='relu'))\n",
    "model.add(Dense(1, activation='sigmoid'))\n",
    "model.summary()"
   ]
  },
  {
   "cell_type": "code",
   "execution_count": null,
   "id": "486994cf",
   "metadata": {},
   "outputs": [],
   "source": []
  },
  {
   "cell_type": "code",
   "execution_count": 31,
   "id": "056cf5b1",
   "metadata": {},
   "outputs": [],
   "source": [
    "model.compile(loss = 'binary_crossentropy', metrics = ['accuracy'], optimizer = 'adam' )"
   ]
  },
  {
   "cell_type": "code",
   "execution_count": null,
   "id": "b8f476e6",
   "metadata": {},
   "outputs": [],
   "source": []
  },
  {
   "cell_type": "code",
   "execution_count": 32,
   "id": "73bb83f7",
   "metadata": {},
   "outputs": [
    {
     "name": "stdout",
     "output_type": "stream",
     "text": [
      "Epoch 1/10\n",
      "15/15 [==============================] - 0s 831us/step - loss: 2.4818 - accuracy: 0.8511\n",
      "Epoch 2/10\n",
      "15/15 [==============================] - 0s 808us/step - loss: 1.8522 - accuracy: 0.8511\n",
      "Epoch 3/10\n",
      "15/15 [==============================] - 0s 784us/step - loss: 1.3349 - accuracy: 0.8511\n",
      "Epoch 4/10\n",
      "15/15 [==============================] - 0s 746us/step - loss: 0.8344 - accuracy: 0.8511\n",
      "Epoch 5/10\n",
      "15/15 [==============================] - 0s 714us/step - loss: 0.5810 - accuracy: 0.8511\n",
      "Epoch 6/10\n",
      "15/15 [==============================] - 0s 712us/step - loss: 0.4911 - accuracy: 0.8511\n",
      "Epoch 7/10\n",
      "15/15 [==============================] - 0s 712us/step - loss: 0.4659 - accuracy: 0.8511\n",
      "Epoch 8/10\n",
      "15/15 [==============================] - 0s 697us/step - loss: 0.4550 - accuracy: 0.8511\n",
      "Epoch 9/10\n",
      "15/15 [==============================] - 0s 717us/step - loss: 0.4532 - accuracy: 0.8511\n",
      "Epoch 10/10\n",
      "15/15 [==============================] - 0s 712us/step - loss: 0.4498 - accuracy: 0.8511\n"
     ]
    },
    {
     "data": {
      "text/plain": [
       "<keras.callbacks.History at 0x1a7adb3cc70>"
      ]
     },
     "execution_count": 32,
     "metadata": {},
     "output_type": "execute_result"
    }
   ],
   "source": [
    "model.fit(x,y , epochs=10)"
   ]
  },
  {
   "cell_type": "code",
   "execution_count": null,
   "id": "4e769b77",
   "metadata": {},
   "outputs": [],
   "source": []
  },
  {
   "cell_type": "code",
   "execution_count": null,
   "id": "47e8ef9a",
   "metadata": {},
   "outputs": [],
   "source": []
  },
  {
   "cell_type": "code",
   "execution_count": null,
   "id": "af7bf90e",
   "metadata": {},
   "outputs": [],
   "source": []
  }
 ],
 "metadata": {
  "kernelspec": {
   "display_name": "Python 3 (ipykernel)",
   "language": "python",
   "name": "python3"
  },
  "language_info": {
   "codemirror_mode": {
    "name": "ipython",
    "version": 3
   },
   "file_extension": ".py",
   "mimetype": "text/x-python",
   "name": "python",
   "nbconvert_exporter": "python",
   "pygments_lexer": "ipython3",
   "version": "3.9.7"
  },
  "varInspector": {
   "cols": {
    "lenName": 16,
    "lenType": 16,
    "lenVar": 40
   },
   "kernels_config": {
    "python": {
     "delete_cmd_postfix": "",
     "delete_cmd_prefix": "del ",
     "library": "var_list.py",
     "varRefreshCmd": "print(var_dic_list())"
    },
    "r": {
     "delete_cmd_postfix": ") ",
     "delete_cmd_prefix": "rm(",
     "library": "var_list.r",
     "varRefreshCmd": "cat(var_dic_list()) "
    }
   },
   "position": {
    "height": "229.844px",
    "left": "1377px",
    "right": "20px",
    "top": "172px",
    "width": "461px"
   },
   "types_to_exclude": [
    "module",
    "function",
    "builtin_function_or_method",
    "instance",
    "_Feature"
   ],
   "window_display": true
  }
 },
 "nbformat": 4,
 "nbformat_minor": 5
}
