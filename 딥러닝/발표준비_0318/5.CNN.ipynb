{
 "cells": [
  {
   "cell_type": "markdown",
   "id": "20234e72",
   "metadata": {
    "ExecuteTime": {
     "end_time": "2022-03-17T05:57:24.951966Z",
     "start_time": "2022-03-17T05:57:24.938190Z"
    }
   },
   "source": [
    "# 이미지 딥러닝"
   ]
  },
  {
   "cell_type": "code",
   "execution_count": 1,
   "id": "6d166fb3",
   "metadata": {
    "ExecuteTime": {
     "end_time": "2022-03-17T10:30:56.195997Z",
     "start_time": "2022-03-17T10:30:55.331490Z"
    }
   },
   "outputs": [],
   "source": [
    "import pandas as pd\n",
    "import numpy as np\n",
    "import matplotlib.pyplot as plt\n",
    "import seaborn as sns"
   ]
  },
  {
   "cell_type": "code",
   "execution_count": 2,
   "id": "4d142680",
   "metadata": {
    "ExecuteTime": {
     "end_time": "2022-03-17T10:30:58.489766Z",
     "start_time": "2022-03-17T10:30:56.227395Z"
    }
   },
   "outputs": [],
   "source": [
    "from tensorflow.keras.models import Sequential\n",
    "from tensorflow.keras.layers import Dense\n",
    "import tensorflow as tf\n",
    "from tensorflow import keras"
   ]
  },
  {
   "cell_type": "code",
   "execution_count": 3,
   "id": "dcf7ed6a",
   "metadata": {
    "ExecuteTime": {
     "end_time": "2022-03-17T10:31:00.169319Z",
     "start_time": "2022-03-17T10:30:59.873871Z"
    }
   },
   "outputs": [],
   "source": [
    "(train_input, train_target) , (test_input, test_target) = keras.datasets.fashion_mnist.load_data()"
   ]
  },
  {
   "cell_type": "code",
   "execution_count": 4,
   "id": "7c9fe7f7",
   "metadata": {
    "ExecuteTime": {
     "end_time": "2022-03-17T10:31:00.215336Z",
     "start_time": "2022-03-17T10:31:00.200326Z"
    }
   },
   "outputs": [
    {
     "name": "stdout",
     "output_type": "stream",
     "text": [
      "(60000, 28, 28) (60000,)\n"
     ]
    }
   ],
   "source": [
    "print(train_input.shape, train_target.shape)"
   ]
  },
  {
   "cell_type": "code",
   "execution_count": 5,
   "id": "b721666d",
   "metadata": {
    "ExecuteTime": {
     "end_time": "2022-03-17T10:31:01.235996Z",
     "start_time": "2022-03-17T10:31:01.219041Z"
    }
   },
   "outputs": [
    {
     "name": "stdout",
     "output_type": "stream",
     "text": [
      "(10000, 28, 28) (10000,)\n"
     ]
    }
   ],
   "source": [
    "print(test_input.shape, test_target.shape)"
   ]
  },
  {
   "cell_type": "code",
   "execution_count": 28,
   "id": "87582e68",
   "metadata": {
    "ExecuteTime": {
     "end_time": "2022-03-17T10:48:16.307904Z",
     "start_time": "2022-03-17T10:48:15.907061Z"
    }
   },
   "outputs": [
    {
     "data": {
      "image/png": "[encoded data removed]",
      "text/plain": [
       "<Figure size 720x720 with 10 Axes>"
      ]
     },
     "metadata": {
      "needs_background": "light"
     },
     "output_type": "display_data"
    }
   ],
   "source": [
    "# fig 그림, axs 도화지\n",
    "fig, axs = plt.subplots(1,10,figsize=(10,10)) \n",
    "for i in range(10):\n",
    "    axs[i].imshow(train_input[i],cmap='gray_r')\n",
    "    axs[i].axis('off')\n",
    "plt.show()"
   ]
  },
  {
   "cell_type": "code",
   "execution_count": 30,
   "id": "21af4f8e",
   "metadata": {
    "ExecuteTime": {
     "end_time": "2022-03-17T10:48:50.690889Z",
     "start_time": "2022-03-17T10:48:50.676926Z"
    }
   },
   "outputs": [
    {
     "data": {
      "text/plain": [
       "array([[[0, 0, 0, ..., 0, 0, 0],\n",
       "        [0, 0, 0, ..., 0, 0, 0],\n",
       "        [0, 0, 0, ..., 0, 0, 0],\n",
       "        ...,\n",
       "        [0, 0, 0, ..., 0, 0, 0],\n",
       "        [0, 0, 0, ..., 0, 0, 0],\n",
       "        [0, 0, 0, ..., 0, 0, 0]],\n",
       "\n",
       "       [[0, 0, 0, ..., 0, 0, 0],\n",
       "        [0, 0, 0, ..., 0, 0, 0],\n",
       "        [0, 0, 0, ..., 0, 0, 0],\n",
       "        ...,\n",
       "        [0, 0, 0, ..., 0, 0, 0],\n",
       "        [0, 0, 0, ..., 0, 0, 0],\n",
       "        [0, 0, 0, ..., 0, 0, 0]],\n",
       "\n",
       "       [[0, 0, 0, ..., 0, 0, 0],\n",
       "        [0, 0, 0, ..., 0, 0, 0],\n",
       "        [0, 0, 0, ..., 0, 0, 0],\n",
       "        ...,\n",
       "        [0, 0, 0, ..., 0, 0, 0],\n",
       "        [0, 0, 0, ..., 0, 0, 0],\n",
       "        [0, 0, 0, ..., 0, 0, 0]],\n",
       "\n",
       "       ...,\n",
       "\n",
       "       [[0, 0, 0, ..., 0, 0, 0],\n",
       "        [0, 0, 0, ..., 0, 0, 0],\n",
       "        [0, 0, 0, ..., 0, 0, 0],\n",
       "        ...,\n",
       "        [0, 0, 0, ..., 0, 0, 0],\n",
       "        [0, 0, 0, ..., 0, 0, 0],\n",
       "        [0, 0, 0, ..., 0, 0, 0]],\n",
       "\n",
       "       [[0, 0, 0, ..., 0, 0, 0],\n",
       "        [0, 0, 0, ..., 0, 0, 0],\n",
       "        [0, 0, 0, ..., 0, 0, 0],\n",
       "        ...,\n",
       "        [0, 0, 0, ..., 0, 0, 0],\n",
       "        [0, 0, 0, ..., 0, 0, 0],\n",
       "        [0, 0, 0, ..., 0, 0, 0]],\n",
       "\n",
       "       [[0, 0, 0, ..., 0, 0, 0],\n",
       "        [0, 0, 0, ..., 0, 0, 0],\n",
       "        [0, 0, 0, ..., 0, 0, 0],\n",
       "        ...,\n",
       "        [0, 0, 0, ..., 0, 0, 0],\n",
       "        [0, 0, 0, ..., 0, 0, 0],\n",
       "        [0, 0, 0, ..., 0, 0, 0]]], dtype=uint8)"
      ]
     },
     "execution_count": 30,
     "metadata": {},
     "output_type": "execute_result"
    }
   ],
   "source": [
    "train_input"
   ]
  },
  {
   "cell_type": "code",
   "execution_count": 31,
   "id": "7ec1b23c",
   "metadata": {
    "ExecuteTime": {
     "end_time": "2022-03-17T10:52:11.526531Z",
     "start_time": "2022-03-17T10:52:11.268807Z"
    }
   },
   "outputs": [
    {
     "data": {
      "image/png": "[encoded data removed]",
      "text/plain": [
       "<Figure size 720x720 with 10 Axes>"
      ]
     },
     "metadata": {
      "needs_background": "light"
     },
     "output_type": "display_data"
    }
   ],
   "source": [
    "fig, axs = plt.subplots(2,5,figsize=(10,10)) \n",
    "k = 0\n",
    "for i in range(2):\n",
    "    for v in range(5):\n",
    "        axs[i][v].imshow(train_input[k],cmap='gray_r')\n",
    "        axs[i][v].axis('off')\n",
    "        k =k+1\n",
    "plt.show()"
   ]
  },
  {
   "cell_type": "code",
   "execution_count": 19,
   "id": "0252e556",
   "metadata": {
    "ExecuteTime": {
     "end_time": "2022-03-17T05:24:48.701644Z",
     "start_time": "2022-03-17T05:24:48.695665Z"
    }
   },
   "outputs": [
    {
     "data": {
      "text/plain": [
       "array([9, 0, 0, 3, 0, 2, 7, 2, 5, 5], dtype=uint8)"
      ]
     },
     "execution_count": 19,
     "metadata": {},
     "output_type": "execute_result"
    }
   ],
   "source": [
    "train_target[:10]"
   ]
  },
  {
   "cell_type": "code",
   "execution_count": 20,
   "id": "2830b4a8",
   "metadata": {
    "ExecuteTime": {
     "end_time": "2022-03-17T05:25:07.209837Z",
     "start_time": "2022-03-17T05:25:07.192882Z"
    }
   },
   "outputs": [
    {
     "data": {
      "text/plain": [
       "9    6000\n",
       "0    6000\n",
       "3    6000\n",
       "2    6000\n",
       "7    6000\n",
       "5    6000\n",
       "1    6000\n",
       "6    6000\n",
       "4    6000\n",
       "8    6000\n",
       "dtype: int64"
      ]
     },
     "execution_count": 20,
     "metadata": {},
     "output_type": "execute_result"
    }
   ],
   "source": [
    "pd.Series(train_target).value_counts()"
   ]
  },
  {
   "cell_type": "code",
   "execution_count": 22,
   "id": "459959ba",
   "metadata": {
    "ExecuteTime": {
     "end_time": "2022-03-17T05:27:26.046411Z",
     "start_time": "2022-03-17T05:27:25.960502Z"
    }
   },
   "outputs": [
    {
     "data": {
      "text/plain": [
       "<matplotlib.image.AxesImage at 0x186172f0b80>"
      ]
     },
     "execution_count": 22,
     "metadata": {},
     "output_type": "execute_result"
    },
    {
     "data": {
      "image/png": "[encoded data removed]",
      "text/plain": [
       "<Figure size 432x288 with 1 Axes>"
      ]
     },
     "metadata": {
      "needs_background": "light"
     },
     "output_type": "display_data"
    }
   ],
   "source": [
    "plt.imshow(train_input[0],cmap='gray_r')"
   ]
  },
  {
   "cell_type": "code",
   "execution_count": 32,
   "id": "3ac1de06",
   "metadata": {
    "ExecuteTime": {
     "end_time": "2022-03-17T10:53:22.935587Z",
     "start_time": "2022-03-17T10:53:22.917476Z"
    }
   },
   "outputs": [
    {
     "data": {
      "text/plain": [
       "784"
      ]
     },
     "execution_count": 32,
     "metadata": {},
     "output_type": "execute_result"
    }
   ],
   "source": [
    "28*28"
   ]
  },
  {
   "cell_type": "code",
   "execution_count": 26,
   "id": "aeca76cd",
   "metadata": {
    "ExecuteTime": {
     "end_time": "2022-03-17T05:33:44.689670Z",
     "start_time": "2022-03-17T05:33:44.681680Z"
    }
   },
   "outputs": [],
   "source": [
    "# 2차원 데이터 사용못하기 때문에 형태바꿔줘야함 \n",
    "\n",
    "x_train = train_input.reshape(60000,28*28)  #  60000개, 1차원데이터\n",
    "x_test = test_input.reshape(10000,28*28)\n",
    "y_train = train_target\n",
    "y_test = test_target"
   ]
  },
  {
   "cell_type": "code",
   "execution_count": 33,
   "id": "66dd57a6",
   "metadata": {
    "ExecuteTime": {
     "end_time": "2022-03-17T05:39:57.482654Z",
     "start_time": "2022-03-17T05:39:57.466731Z"
    }
   },
   "outputs": [
    {
     "data": {
      "text/plain": [
       "(60000, 784)"
      ]
     },
     "execution_count": 33,
     "metadata": {},
     "output_type": "execute_result"
    }
   ],
   "source": [
    "x_train.shape"
   ]
  },
  {
   "cell_type": "code",
   "execution_count": 36,
   "id": "0b5ff62b",
   "metadata": {
    "ExecuteTime": {
     "end_time": "2022-03-17T05:44:39.649267Z",
     "start_time": "2022-03-17T05:44:39.641276Z"
    }
   },
   "outputs": [],
   "source": [
    "# y값 one-hot벡터 형태로 바꿔주기\n",
    "\n",
    "y_train_oh = tf.keras.utils.to_categorical(y_train)\n",
    "y_test_oh = tf.keras.utils.to_categorical(y_test)"
   ]
  },
  {
   "cell_type": "markdown",
   "id": "33300208",
   "metadata": {},
   "source": [
    "## 머신러닝"
   ]
  },
  {
   "cell_type": "code",
   "execution_count": 37,
   "id": "bf64ea39",
   "metadata": {
    "ExecuteTime": {
     "end_time": "2022-03-17T05:44:48.245583Z",
     "start_time": "2022-03-17T05:44:40.008595Z"
    }
   },
   "outputs": [
    {
     "name": "stderr",
     "output_type": "stream",
     "text": [
      "C:\\Users\\bitcamp\\anaconda3\\lib\\site-packages\\sklearn\\linear_model\\_logistic.py:814: ConvergenceWarning: lbfgs failed to converge (status=1):\n",
      "STOP: TOTAL NO. of ITERATIONS REACHED LIMIT.\n",
      "\n",
      "Increase the number of iterations (max_iter) or scale the data as shown in:\n",
      "    https://scikit-learn.org/stable/modules/preprocessing.html\n",
      "Please also refer to the documentation for alternative solver options:\n",
      "    https://scikit-learn.org/stable/modules/linear_model.html#logistic-regression\n",
      "  n_iter_i = _check_optimize_result(\n"
     ]
    },
    {
     "data": {
      "text/plain": [
       "0.8412"
      ]
     },
     "execution_count": 37,
     "metadata": {},
     "output_type": "execute_result"
    }
   ],
   "source": [
    "from sklearn.linear_model import LogisticRegression\n",
    "log = LogisticRegression()\n",
    "log.fit(x_train, y_train)\n",
    "log.score(x_test,y_test)"
   ]
  },
  {
   "cell_type": "code",
   "execution_count": null,
   "id": "fb0fd4d0",
   "metadata": {},
   "outputs": [],
   "source": []
  },
  {
   "cell_type": "code",
   "execution_count": null,
   "id": "4050324d",
   "metadata": {},
   "outputs": [],
   "source": []
  },
  {
   "cell_type": "markdown",
   "id": "82a3b7cd",
   "metadata": {
    "ExecuteTime": {
     "end_time": "2022-03-17T05:57:54.323886Z",
     "start_time": "2022-03-17T05:57:54.298898Z"
    }
   },
   "source": [
    "## deep learning"
   ]
  },
  {
   "cell_type": "code",
   "execution_count": 38,
   "id": "b22a06ec",
   "metadata": {
    "ExecuteTime": {
     "end_time": "2022-03-17T05:44:49.663471Z",
     "start_time": "2022-03-17T05:44:49.593798Z"
    }
   },
   "outputs": [
    {
     "name": "stdout",
     "output_type": "stream",
     "text": [
      "Model: \"sequential_2\"\n",
      "_________________________________________________________________\n",
      " Layer (type)                Output Shape              Param #   \n",
      "=================================================================\n",
      " dense_6 (Dense)             (None, 128)               100480    \n",
      "                                                                 \n",
      " dense_7 (Dense)             (None, 56)                7224      \n",
      "                                                                 \n",
      " dense_8 (Dense)             (None, 10)                570       \n",
      "                                                                 \n",
      "=================================================================\n",
      "Total params: 108,274\n",
      "Trainable params: 108,274\n",
      "Non-trainable params: 0\n",
      "_________________________________________________________________\n"
     ]
    }
   ],
   "source": [
    "with tf.device('/GPU:0'):\n",
    "    model = Sequential()\n",
    "    model.add(Dense(128, input_dim=28*28, activation='relu'))\n",
    "    model.add(Dense(56,activation='relu'))\n",
    "    model.add(Dense(10,activation='softmax'))\n",
    "    model.summary()"
   ]
  },
  {
   "cell_type": "code",
   "execution_count": 39,
   "id": "d83d2b2b",
   "metadata": {
    "ExecuteTime": {
     "end_time": "2022-03-17T05:44:50.086401Z",
     "start_time": "2022-03-17T05:44:50.072471Z"
    }
   },
   "outputs": [],
   "source": [
    "model.compile(loss='categorical_crossentropy', metrics=['accuracy'], optimizer='adam')"
   ]
  },
  {
   "cell_type": "code",
   "execution_count": 40,
   "id": "bc8c4859",
   "metadata": {
    "ExecuteTime": {
     "end_time": "2022-03-17T05:50:35.732127Z",
     "start_time": "2022-03-17T05:44:50.522166Z"
    },
    "collapsed": true
   },
   "outputs": [
    {
     "name": "stdout",
     "output_type": "stream",
     "text": [
      "Epoch 1/50\n",
      "2400/2400 [==============================] - 8s 3ms/step - loss: 2.3676 - accuracy: 0.7368 - val_loss: 0.6526 - val_accuracy: 0.7893\n",
      "Epoch 2/50\n",
      "2400/2400 [==============================] - 7s 3ms/step - loss: 0.6540 - accuracy: 0.7887 - val_loss: 0.6321 - val_accuracy: 0.7815\n",
      "Epoch 3/50\n",
      "2400/2400 [==============================] - 7s 3ms/step - loss: 0.5783 - accuracy: 0.8043 - val_loss: 0.5472 - val_accuracy: 0.8236\n",
      "Epoch 4/50\n",
      "2400/2400 [==============================] - 7s 3ms/step - loss: 0.5198 - accuracy: 0.8218 - val_loss: 0.5489 - val_accuracy: 0.8142\n",
      "Epoch 5/50\n",
      "2400/2400 [==============================] - 7s 3ms/step - loss: 0.4854 - accuracy: 0.8315 - val_loss: 0.4972 - val_accuracy: 0.8332\n",
      "Epoch 6/50\n",
      "2400/2400 [==============================] - 7s 3ms/step - loss: 0.4586 - accuracy: 0.8378 - val_loss: 0.5441 - val_accuracy: 0.8095\n",
      "Epoch 7/50\n",
      "2400/2400 [==============================] - 7s 3ms/step - loss: 0.4389 - accuracy: 0.8462 - val_loss: 0.4665 - val_accuracy: 0.8336\n",
      "Epoch 8/50\n",
      "2400/2400 [==============================] - 7s 3ms/step - loss: 0.4204 - accuracy: 0.8509 - val_loss: 0.5593 - val_accuracy: 0.8194\n",
      "Epoch 9/50\n",
      "2400/2400 [==============================] - 7s 3ms/step - loss: 0.4093 - accuracy: 0.8556 - val_loss: 0.4303 - val_accuracy: 0.8467\n",
      "Epoch 10/50\n",
      "2400/2400 [==============================] - 7s 3ms/step - loss: 0.4039 - accuracy: 0.8576 - val_loss: 0.4326 - val_accuracy: 0.8507\n",
      "Epoch 11/50\n",
      "2400/2400 [==============================] - 7s 3ms/step - loss: 0.4022 - accuracy: 0.8571 - val_loss: 0.4419 - val_accuracy: 0.8490\n",
      "Epoch 12/50\n",
      "2400/2400 [==============================] - 7s 3ms/step - loss: 0.3896 - accuracy: 0.8577 - val_loss: 0.4210 - val_accuracy: 0.8482\n",
      "Epoch 13/50\n",
      "2400/2400 [==============================] - 7s 3ms/step - loss: 0.3935 - accuracy: 0.8593 - val_loss: 0.4211 - val_accuracy: 0.8554\n",
      "Epoch 14/50\n",
      "2400/2400 [==============================] - 7s 3ms/step - loss: 0.3825 - accuracy: 0.8613 - val_loss: 0.4100 - val_accuracy: 0.8563\n",
      "Epoch 15/50\n",
      "2400/2400 [==============================] - 7s 3ms/step - loss: 0.3805 - accuracy: 0.8626 - val_loss: 0.4149 - val_accuracy: 0.8542\n",
      "Epoch 16/50\n",
      "2400/2400 [==============================] - 7s 3ms/step - loss: 0.3732 - accuracy: 0.8622 - val_loss: 0.4470 - val_accuracy: 0.8413\n",
      "Epoch 17/50\n",
      "2400/2400 [==============================] - 7s 3ms/step - loss: 0.3699 - accuracy: 0.8653 - val_loss: 0.4139 - val_accuracy: 0.8534\n",
      "Epoch 18/50\n",
      "2400/2400 [==============================] - 7s 3ms/step - loss: 0.3698 - accuracy: 0.8661 - val_loss: 0.4195 - val_accuracy: 0.8577\n",
      "Epoch 19/50\n",
      "2400/2400 [==============================] - 7s 3ms/step - loss: 0.3660 - accuracy: 0.8673 - val_loss: 0.4935 - val_accuracy: 0.8377\n",
      "Epoch 20/50\n",
      "2400/2400 [==============================] - 7s 3ms/step - loss: 0.3691 - accuracy: 0.8659 - val_loss: 0.4410 - val_accuracy: 0.8576\n",
      "Epoch 21/50\n",
      "2400/2400 [==============================] - 7s 3ms/step - loss: 0.3683 - accuracy: 0.8666 - val_loss: 0.4657 - val_accuracy: 0.8508\n",
      "Epoch 22/50\n",
      "2400/2400 [==============================] - 7s 3ms/step - loss: 0.3613 - accuracy: 0.8677 - val_loss: 0.4517 - val_accuracy: 0.8565\n",
      "Epoch 23/50\n",
      "2400/2400 [==============================] - 7s 3ms/step - loss: 0.3588 - accuracy: 0.8668 - val_loss: 0.4606 - val_accuracy: 0.8475\n",
      "Epoch 24/50\n",
      "2400/2400 [==============================] - 7s 3ms/step - loss: 0.3600 - accuracy: 0.8699 - val_loss: 0.4438 - val_accuracy: 0.8574\n",
      "Epoch 25/50\n",
      "2400/2400 [==============================] - 7s 3ms/step - loss: 0.3573 - accuracy: 0.8701 - val_loss: 0.4421 - val_accuracy: 0.8535\n",
      "Epoch 26/50\n",
      "2400/2400 [==============================] - 7s 3ms/step - loss: 0.3584 - accuracy: 0.8708 - val_loss: 0.5195 - val_accuracy: 0.8565\n",
      "Epoch 27/50\n",
      "2400/2400 [==============================] - 7s 3ms/step - loss: 0.3602 - accuracy: 0.8689 - val_loss: 0.4385 - val_accuracy: 0.8534\n",
      "Epoch 28/50\n",
      "2400/2400 [==============================] - 7s 3ms/step - loss: 0.3531 - accuracy: 0.8706 - val_loss: 0.4735 - val_accuracy: 0.8602\n",
      "Epoch 29/50\n",
      "2400/2400 [==============================] - 7s 3ms/step - loss: 0.3561 - accuracy: 0.8698 - val_loss: 0.4675 - val_accuracy: 0.8486\n",
      "Epoch 30/50\n",
      "2400/2400 [==============================] - 7s 3ms/step - loss: 0.3486 - accuracy: 0.8726 - val_loss: 0.4866 - val_accuracy: 0.8523\n",
      "Epoch 31/50\n",
      "2400/2400 [==============================] - 7s 3ms/step - loss: 0.3515 - accuracy: 0.8731 - val_loss: 0.5975 - val_accuracy: 0.8111\n",
      "Epoch 32/50\n",
      "2400/2400 [==============================] - 7s 3ms/step - loss: 0.3424 - accuracy: 0.8740 - val_loss: 0.4637 - val_accuracy: 0.8571\n",
      "Epoch 33/50\n",
      "2400/2400 [==============================] - 7s 3ms/step - loss: 0.3470 - accuracy: 0.8759 - val_loss: 0.4674 - val_accuracy: 0.8552\n",
      "Epoch 34/50\n",
      "2400/2400 [==============================] - 7s 3ms/step - loss: 0.3374 - accuracy: 0.8767 - val_loss: 0.4615 - val_accuracy: 0.8555\n",
      "Epoch 35/50\n",
      "2400/2400 [==============================] - 7s 3ms/step - loss: 0.3502 - accuracy: 0.8730 - val_loss: 0.4640 - val_accuracy: 0.8582\n",
      "Epoch 36/50\n",
      "2400/2400 [==============================] - 7s 3ms/step - loss: 0.3391 - accuracy: 0.8775 - val_loss: 0.5407 - val_accuracy: 0.8523\n",
      "Epoch 37/50\n",
      "2400/2400 [==============================] - 7s 3ms/step - loss: 0.3530 - accuracy: 0.8748 - val_loss: 0.4804 - val_accuracy: 0.8627\n",
      "Epoch 38/50\n",
      "2400/2400 [==============================] - 7s 3ms/step - loss: 0.3399 - accuracy: 0.8755 - val_loss: 0.5360 - val_accuracy: 0.8533\n",
      "Epoch 39/50\n",
      "2400/2400 [==============================] - 7s 3ms/step - loss: 0.3336 - accuracy: 0.8776 - val_loss: 0.4875 - val_accuracy: 0.8574\n",
      "Epoch 40/50\n",
      "2400/2400 [==============================] - 7s 3ms/step - loss: 0.3398 - accuracy: 0.8749 - val_loss: 0.4959 - val_accuracy: 0.8522\n",
      "Epoch 41/50\n",
      "2400/2400 [==============================] - 7s 3ms/step - loss: 0.3392 - accuracy: 0.8755 - val_loss: 0.5091 - val_accuracy: 0.8537\n",
      "Epoch 42/50\n",
      "2400/2400 [==============================] - 7s 3ms/step - loss: 0.3344 - accuracy: 0.8769 - val_loss: 0.5704 - val_accuracy: 0.8539\n",
      "Epoch 43/50\n",
      "2400/2400 [==============================] - 7s 3ms/step - loss: 0.3374 - accuracy: 0.8767 - val_loss: 0.5350 - val_accuracy: 0.8575\n",
      "Epoch 44/50\n",
      "2400/2400 [==============================] - 7s 3ms/step - loss: 0.3370 - accuracy: 0.8754 - val_loss: 0.4770 - val_accuracy: 0.8547\n",
      "Epoch 45/50\n",
      "2400/2400 [==============================] - 7s 3ms/step - loss: 0.3343 - accuracy: 0.8775 - val_loss: 0.6390 - val_accuracy: 0.8467\n",
      "Epoch 46/50\n",
      "2400/2400 [==============================] - 7s 3ms/step - loss: 0.3330 - accuracy: 0.8776 - val_loss: 0.4870 - val_accuracy: 0.8618\n",
      "Epoch 47/50\n",
      "2400/2400 [==============================] - 7s 3ms/step - loss: 0.3388 - accuracy: 0.8755 - val_loss: 0.4907 - val_accuracy: 0.8607\n",
      "Epoch 48/50\n",
      "2400/2400 [==============================] - 7s 3ms/step - loss: 0.3329 - accuracy: 0.8778 - val_loss: 0.5027 - val_accuracy: 0.8528\n",
      "Epoch 49/50\n",
      "2400/2400 [==============================] - 7s 3ms/step - loss: 0.3348 - accuracy: 0.8760 - val_loss: 0.4989 - val_accuracy: 0.8482\n",
      "Epoch 50/50\n",
      "2400/2400 [==============================] - 7s 3ms/step - loss: 0.3335 - accuracy: 0.8758 - val_loss: 0.5364 - val_accuracy: 0.8596\n"
     ]
    },
    {
     "data": {
      "text/plain": [
       "<keras.callbacks.History at 0x186bb81c730>"
      ]
     },
     "execution_count": 40,
     "metadata": {},
     "output_type": "execute_result"
    }
   ],
   "source": [
    "hist = model.fit(x_train, y_train_oh, validation_split=0.2 , epochs=50, batch_size=20)"
   ]
  },
  {
   "cell_type": "code",
   "execution_count": 41,
   "id": "ca2a4826",
   "metadata": {
    "ExecuteTime": {
     "end_time": "2022-03-17T05:51:11.206538Z",
     "start_time": "2022-03-17T05:51:09.754895Z"
    }
   },
   "outputs": [
    {
     "name": "stdout",
     "output_type": "stream",
     "text": [
      "313/313 [==============================] - 1s 4ms/step - loss: 0.5253 - accuracy: 0.8492\n"
     ]
    },
    {
     "data": {
      "text/plain": [
       "[0.5252902507781982, 0.8492000102996826]"
      ]
     },
     "execution_count": 41,
     "metadata": {},
     "output_type": "execute_result"
    }
   ],
   "source": [
    "model.evaluate(x_test, y_test_oh)"
   ]
  },
  {
   "cell_type": "code",
   "execution_count": null,
   "id": "e68188d0",
   "metadata": {
    "ExecuteTime": {
     "end_time": "2022-03-17T05:54:39.334996Z",
     "start_time": "2022-03-17T05:54:35.802878Z"
    }
   },
   "outputs": [],
   "source": []
  },
  {
   "cell_type": "markdown",
   "id": "5a035408",
   "metadata": {},
   "source": [
    "# CNN"
   ]
  },
  {
   "cell_type": "code",
   "execution_count": 17,
   "id": "73910e84",
   "metadata": {
    "ExecuteTime": {
     "end_time": "2022-03-17T10:39:42.399162Z",
     "start_time": "2022-03-17T10:39:42.388191Z"
    }
   },
   "outputs": [],
   "source": [
    "# image matrix데이터를 vectorizing 하지 말고, matrix 구조 그대로 학습 =>CNN"
   ]
  },
  {
   "cell_type": "code",
   "execution_count": null,
   "id": "2edcad7f",
   "metadata": {
    "ExecuteTime": {
     "end_time": "2022-03-17T05:59:49.598481Z",
     "start_time": "2022-03-17T05:59:49.595460Z"
    }
   },
   "outputs": [],
   "source": []
  },
  {
   "cell_type": "code",
   "execution_count": null,
   "id": "3dd52d58",
   "metadata": {},
   "outputs": [],
   "source": []
  },
  {
   "cell_type": "code",
   "execution_count": null,
   "id": "e4a6897b",
   "metadata": {},
   "outputs": [],
   "source": []
  },
  {
   "cell_type": "code",
   "execution_count": null,
   "id": "ca4c34b3",
   "metadata": {},
   "outputs": [],
   "source": []
  },
  {
   "cell_type": "code",
   "execution_count": null,
   "id": "f57acc4d",
   "metadata": {},
   "outputs": [],
   "source": []
  }
 ],
 "metadata": {
  "kernelspec": {
   "display_name": "Python 3 (ipykernel)",
   "language": "python",
   "name": "python3"
  },
  "language_info": {
   "codemirror_mode": {
    "name": "ipython",
    "version": 3
   },
   "file_extension": ".py",
   "mimetype": "text/x-python",
   "name": "python",
   "nbconvert_exporter": "python",
   "pygments_lexer": "ipython3",
   "version": "3.9.7"
  },
  "toc": {
   "base_numbering": 1,
   "nav_menu": {},
   "number_sections": true,
   "sideBar": true,
   "skip_h1_title": false,
   "title_cell": "Table of Contents",
   "title_sidebar": "Contents",
   "toc_cell": false,
   "toc_position": {},
   "toc_section_display": true,
   "toc_window_display": false
  },
  "varInspector": {
   "cols": {
    "lenName": 16,
    "lenType": 16,
    "lenVar": 40
   },
   "kernels_config": {
    "python": {
     "delete_cmd_postfix": "",
     "delete_cmd_prefix": "del ",
     "library": "var_list.py",
     "varRefreshCmd": "print(var_dic_list())"
    },
    "r": {
     "delete_cmd_postfix": ") ",
     "delete_cmd_prefix": "rm(",
     "library": "var_list.r",
     "varRefreshCmd": "cat(var_dic_list()) "
    }
   },
   "types_to_exclude": [
    "module",
    "function",
    "builtin_function_or_method",
    "instance",
    "_Feature"
   ],
   "window_display": false
  }
 },
 "nbformat": 4,
 "nbformat_minor": 5
}
