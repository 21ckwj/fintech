{
 "cells": [
  {
   "cell_type": "code",
   "execution_count": 34,
   "id": "aa52694d",
   "metadata": {
    "ExecuteTime": {
     "end_time": "2022-03-16T07:06:59.557187Z",
     "start_time": "2022-03-16T07:06:59.539236Z"
    }
   },
   "outputs": [],
   "source": [
    "import pandas as pd\n",
    "import numpy as np\n",
    "import matplotlib.pyplot as plt\n",
    "import seaborn as sns"
   ]
  },
  {
   "cell_type": "code",
   "execution_count": 35,
   "id": "c71c983e",
   "metadata": {
    "ExecuteTime": {
     "end_time": "2022-03-16T07:06:59.698062Z",
     "start_time": "2022-03-16T07:06:59.684069Z"
    }
   },
   "outputs": [],
   "source": [
    "from tensorflow.keras.models import Sequential\n",
    "from tensorflow.keras.layers import Dense\n",
    "import tensorflow as tf"
   ]
  },
  {
   "cell_type": "code",
   "execution_count": 36,
   "id": "bbda7fa2",
   "metadata": {
    "ExecuteTime": {
     "end_time": "2022-03-16T07:06:59.857312Z",
     "start_time": "2022-03-16T07:06:59.826366Z"
    }
   },
   "outputs": [
    {
     "data": {
      "text/html": [
       "<div>\n",
       "<style scoped>\n",
       "    .dataframe tbody tr th:only-of-type {\n",
       "        vertical-align: middle;\n",
       "    }\n",
       "\n",
       "    .dataframe tbody tr th {\n",
       "        vertical-align: top;\n",
       "    }\n",
       "\n",
       "    .dataframe thead th {\n",
       "        text-align: right;\n",
       "    }\n",
       "</style>\n",
       "<table border=\"1\" class=\"dataframe\">\n",
       "  <thead>\n",
       "    <tr style=\"text-align: right;\">\n",
       "      <th></th>\n",
       "      <th>0</th>\n",
       "      <th>1</th>\n",
       "      <th>2</th>\n",
       "      <th>3</th>\n",
       "      <th>4</th>\n",
       "      <th>5</th>\n",
       "      <th>6</th>\n",
       "      <th>7</th>\n",
       "      <th>8</th>\n",
       "      <th>9</th>\n",
       "      <th>10</th>\n",
       "      <th>11</th>\n",
       "      <th>12</th>\n",
       "    </tr>\n",
       "  </thead>\n",
       "  <tbody>\n",
       "    <tr>\n",
       "      <th>0</th>\n",
       "      <td>7.4</td>\n",
       "      <td>0.70</td>\n",
       "      <td>0.00</td>\n",
       "      <td>1.9</td>\n",
       "      <td>0.076</td>\n",
       "      <td>11.0</td>\n",
       "      <td>34.0</td>\n",
       "      <td>0.9978</td>\n",
       "      <td>3.51</td>\n",
       "      <td>0.56</td>\n",
       "      <td>9.4</td>\n",
       "      <td>5</td>\n",
       "      <td>1</td>\n",
       "    </tr>\n",
       "    <tr>\n",
       "      <th>1</th>\n",
       "      <td>7.8</td>\n",
       "      <td>0.88</td>\n",
       "      <td>0.00</td>\n",
       "      <td>2.6</td>\n",
       "      <td>0.098</td>\n",
       "      <td>25.0</td>\n",
       "      <td>67.0</td>\n",
       "      <td>0.9968</td>\n",
       "      <td>3.20</td>\n",
       "      <td>0.68</td>\n",
       "      <td>9.8</td>\n",
       "      <td>5</td>\n",
       "      <td>1</td>\n",
       "    </tr>\n",
       "    <tr>\n",
       "      <th>2</th>\n",
       "      <td>7.8</td>\n",
       "      <td>0.76</td>\n",
       "      <td>0.04</td>\n",
       "      <td>2.3</td>\n",
       "      <td>0.092</td>\n",
       "      <td>15.0</td>\n",
       "      <td>54.0</td>\n",
       "      <td>0.9970</td>\n",
       "      <td>3.26</td>\n",
       "      <td>0.65</td>\n",
       "      <td>9.8</td>\n",
       "      <td>5</td>\n",
       "      <td>1</td>\n",
       "    </tr>\n",
       "    <tr>\n",
       "      <th>3</th>\n",
       "      <td>11.2</td>\n",
       "      <td>0.28</td>\n",
       "      <td>0.56</td>\n",
       "      <td>1.9</td>\n",
       "      <td>0.075</td>\n",
       "      <td>17.0</td>\n",
       "      <td>60.0</td>\n",
       "      <td>0.9980</td>\n",
       "      <td>3.16</td>\n",
       "      <td>0.58</td>\n",
       "      <td>9.8</td>\n",
       "      <td>6</td>\n",
       "      <td>1</td>\n",
       "    </tr>\n",
       "    <tr>\n",
       "      <th>4</th>\n",
       "      <td>7.4</td>\n",
       "      <td>0.70</td>\n",
       "      <td>0.00</td>\n",
       "      <td>1.9</td>\n",
       "      <td>0.076</td>\n",
       "      <td>11.0</td>\n",
       "      <td>34.0</td>\n",
       "      <td>0.9978</td>\n",
       "      <td>3.51</td>\n",
       "      <td>0.56</td>\n",
       "      <td>9.4</td>\n",
       "      <td>5</td>\n",
       "      <td>1</td>\n",
       "    </tr>\n",
       "  </tbody>\n",
       "</table>\n",
       "</div>"
      ],
      "text/plain": [
       "     0     1     2    3      4     5     6       7     8     9    10  11  12\n",
       "0   7.4  0.70  0.00  1.9  0.076  11.0  34.0  0.9978  3.51  0.56  9.4   5   1\n",
       "1   7.8  0.88  0.00  2.6  0.098  25.0  67.0  0.9968  3.20  0.68  9.8   5   1\n",
       "2   7.8  0.76  0.04  2.3  0.092  15.0  54.0  0.9970  3.26  0.65  9.8   5   1\n",
       "3  11.2  0.28  0.56  1.9  0.075  17.0  60.0  0.9980  3.16  0.58  9.8   6   1\n",
       "4   7.4  0.70  0.00  1.9  0.076  11.0  34.0  0.9978  3.51  0.56  9.4   5   1"
      ]
     },
     "execution_count": 36,
     "metadata": {},
     "output_type": "execute_result"
    }
   ],
   "source": [
    "df = pd.read_csv('./data/wine.csv',header=None)\n",
    "df.head()"
   ]
  },
  {
   "cell_type": "code",
   "execution_count": 37,
   "id": "0b3b35d5",
   "metadata": {
    "ExecuteTime": {
     "end_time": "2022-03-16T07:06:59.997908Z",
     "start_time": "2022-03-16T07:06:59.984942Z"
    }
   },
   "outputs": [
    {
     "name": "stdout",
     "output_type": "stream",
     "text": [
      "<class 'pandas.core.frame.DataFrame'>\n",
      "RangeIndex: 6497 entries, 0 to 6496\n",
      "Data columns (total 13 columns):\n",
      " #   Column  Non-Null Count  Dtype  \n",
      "---  ------  --------------  -----  \n",
      " 0   0       6497 non-null   float64\n",
      " 1   1       6497 non-null   float64\n",
      " 2   2       6497 non-null   float64\n",
      " 3   3       6497 non-null   float64\n",
      " 4   4       6497 non-null   float64\n",
      " 5   5       6497 non-null   float64\n",
      " 6   6       6497 non-null   float64\n",
      " 7   7       6497 non-null   float64\n",
      " 8   8       6497 non-null   float64\n",
      " 9   9       6497 non-null   float64\n",
      " 10  10      6497 non-null   float64\n",
      " 11  11      6497 non-null   int64  \n",
      " 12  12      6497 non-null   int64  \n",
      "dtypes: float64(11), int64(2)\n",
      "memory usage: 660.0 KB\n"
     ]
    }
   ],
   "source": [
    "df.info()"
   ]
  },
  {
   "cell_type": "code",
   "execution_count": 38,
   "id": "c0d8a4d5",
   "metadata": {
    "ExecuteTime": {
     "end_time": "2022-03-16T07:07:00.139365Z",
     "start_time": "2022-03-16T07:07:00.130418Z"
    }
   },
   "outputs": [
    {
     "data": {
      "text/plain": [
       "(6497, 13)"
      ]
     },
     "execution_count": 38,
     "metadata": {},
     "output_type": "execute_result"
    }
   ],
   "source": [
    "df.shape"
   ]
  },
  {
   "cell_type": "code",
   "execution_count": 39,
   "id": "a062ff57",
   "metadata": {
    "ExecuteTime": {
     "end_time": "2022-03-16T07:07:00.311838Z",
     "start_time": "2022-03-16T07:07:00.291895Z"
    }
   },
   "outputs": [
    {
     "data": {
      "text/plain": [
       "array([[ 7.4 ,  0.7 ,  0.  , ...,  9.4 ,  5.  ,  1.  ],\n",
       "       [ 7.8 ,  0.88,  0.  , ...,  9.8 ,  5.  ,  1.  ],\n",
       "       [ 7.8 ,  0.76,  0.04, ...,  9.8 ,  5.  ,  1.  ],\n",
       "       ...,\n",
       "       [ 6.5 ,  0.24,  0.19, ...,  9.4 ,  6.  ,  0.  ],\n",
       "       [ 5.5 ,  0.29,  0.3 , ..., 12.8 ,  7.  ,  0.  ],\n",
       "       [ 6.  ,  0.21,  0.38, ..., 11.8 ,  6.  ,  0.  ]])"
      ]
     },
     "execution_count": 39,
     "metadata": {},
     "output_type": "execute_result"
    }
   ],
   "source": [
    "df.values"
   ]
  },
  {
   "cell_type": "code",
   "execution_count": 40,
   "id": "8f737777",
   "metadata": {
    "ExecuteTime": {
     "end_time": "2022-03-16T07:07:00.749675Z",
     "start_time": "2022-03-16T07:07:00.738704Z"
    }
   },
   "outputs": [],
   "source": [
    "# y = df.values[:,12]\n",
    "# x = df.values[:,0:12]\n",
    "\n",
    "# y=df.iloc[]"
   ]
  },
  {
   "cell_type": "code",
   "execution_count": null,
   "id": "ee7ad831",
   "metadata": {
    "ExecuteTime": {
     "end_time": "2022-03-16T06:44:08.955457Z",
     "start_time": "2022-03-16T06:44:08.373077Z"
    }
   },
   "outputs": [],
   "source": []
  },
  {
   "cell_type": "code",
   "execution_count": 41,
   "id": "7a3ca60a",
   "metadata": {
    "ExecuteTime": {
     "end_time": "2022-03-16T07:07:01.843596Z",
     "start_time": "2022-03-16T07:07:01.826642Z"
    }
   },
   "outputs": [],
   "source": [
    "# from sklearn.preprocessing import LabelEncoder\n",
    "# enc = LabelEncoder()\n",
    "# y_enc = enc.fit_transform(y)\n",
    "# y_enc"
   ]
  },
  {
   "cell_type": "code",
   "execution_count": null,
   "id": "3b4fbdc7",
   "metadata": {},
   "outputs": [],
   "source": []
  },
  {
   "cell_type": "code",
   "execution_count": 42,
   "id": "2c79b5ec",
   "metadata": {
    "ExecuteTime": {
     "end_time": "2022-03-16T07:07:03.127253Z",
     "start_time": "2022-03-16T07:07:03.121270Z"
    }
   },
   "outputs": [],
   "source": [
    "y =df.iloc[:,12].values\n",
    "x = df.iloc[:,:12].values"
   ]
  },
  {
   "cell_type": "code",
   "execution_count": 43,
   "id": "a1fcced0",
   "metadata": {
    "ExecuteTime": {
     "end_time": "2022-03-16T07:07:03.906503Z",
     "start_time": "2022-03-16T07:07:03.890546Z"
    }
   },
   "outputs": [
    {
     "data": {
      "text/plain": [
       "array([1, 1, 1, ..., 0, 0, 0], dtype=int64)"
      ]
     },
     "execution_count": 43,
     "metadata": {},
     "output_type": "execute_result"
    }
   ],
   "source": [
    "y"
   ]
  },
  {
   "cell_type": "code",
   "execution_count": 49,
   "id": "de54dbe6",
   "metadata": {
    "ExecuteTime": {
     "end_time": "2022-03-16T07:07:51.951613Z",
     "start_time": "2022-03-16T07:07:51.939675Z"
    }
   },
   "outputs": [],
   "source": [
    "from sklearn.model_selection import train_test_split\n",
    "x_train, x_test, y_train, y_test = train_test_split(x,y, test_size=0.2)"
   ]
  },
  {
   "cell_type": "code",
   "execution_count": 50,
   "id": "9c2c29a0",
   "metadata": {
    "ExecuteTime": {
     "end_time": "2022-03-16T07:07:52.389856Z",
     "start_time": "2022-03-16T07:07:52.370935Z"
    }
   },
   "outputs": [
    {
     "data": {
      "text/plain": [
       "(6497, 12)"
      ]
     },
     "execution_count": 50,
     "metadata": {},
     "output_type": "execute_result"
    }
   ],
   "source": [
    "x.shape"
   ]
  },
  {
   "cell_type": "markdown",
   "id": "49a650bf",
   "metadata": {},
   "source": [
    "# 모델돌리기"
   ]
  },
  {
   "cell_type": "markdown",
   "id": "f1f683f5",
   "metadata": {
    "ExecuteTime": {
     "end_time": "2022-03-16T06:20:22.893409Z",
     "start_time": "2022-03-16T06:20:22.878449Z"
    }
   },
   "source": [
    "## binary"
   ]
  },
  {
   "cell_type": "code",
   "execution_count": 51,
   "id": "5fa9d411",
   "metadata": {
    "ExecuteTime": {
     "end_time": "2022-03-16T07:07:53.645968Z",
     "start_time": "2022-03-16T07:07:53.602920Z"
    }
   },
   "outputs": [
    {
     "name": "stdout",
     "output_type": "stream",
     "text": [
      "Model: \"sequential_3\"\n",
      "_________________________________________________________________\n",
      " Layer (type)                Output Shape              Param #   \n",
      "=================================================================\n",
      " dense_12 (Dense)            (None, 36)                468       \n",
      "                                                                 \n",
      " dense_13 (Dense)            (None, 18)                666       \n",
      "                                                                 \n",
      " dense_14 (Dense)            (None, 9)                 171       \n",
      "                                                                 \n",
      " dense_15 (Dense)            (None, 1)                 10        \n",
      "                                                                 \n",
      "=================================================================\n",
      "Total params: 1,315\n",
      "Trainable params: 1,315\n",
      "Non-trainable params: 0\n",
      "_________________________________________________________________\n"
     ]
    }
   ],
   "source": [
    "#모델 생성\n",
    "model = Sequential()\n",
    "model.add(Dense(36 ,input_dim=12, activation='relu'))  # input_dim x열 개수\n",
    "model.add(Dense(18,activation='relu'))\n",
    "model.add(Dense(9,activation='relu'))\n",
    "model.add(Dense(1,activation = 'sigmoid')) # 마지막 노드 :1 , activation='sigmoid'\n",
    "model.summary()"
   ]
  },
  {
   "cell_type": "code",
   "execution_count": 53,
   "id": "b3a2dd1d",
   "metadata": {
    "ExecuteTime": {
     "end_time": "2022-03-16T07:08:01.760625Z",
     "start_time": "2022-03-16T07:08:01.747661Z"
    }
   },
   "outputs": [
    {
     "data": {
      "text/plain": [
       "(5197,)"
      ]
     },
     "execution_count": 53,
     "metadata": {},
     "output_type": "execute_result"
    }
   ],
   "source": [
    "x_train.shape\n",
    "y_train.shape"
   ]
  },
  {
   "cell_type": "code",
   "execution_count": 54,
   "id": "2372d4a3",
   "metadata": {
    "ExecuteTime": {
     "end_time": "2022-03-16T07:08:02.436205Z",
     "start_time": "2022-03-16T07:08:02.419252Z"
    }
   },
   "outputs": [],
   "source": [
    "# compile\n",
    "model.compile(loss= 'binary_crossentropy', metrics=['accuracy'], optimizer='adam')"
   ]
  },
  {
   "cell_type": "code",
   "execution_count": 55,
   "id": "dc926978",
   "metadata": {
    "ExecuteTime": {
     "end_time": "2022-03-16T07:08:47.996670Z",
     "start_time": "2022-03-16T07:08:02.867625Z"
    },
    "scrolled": true
   },
   "outputs": [
    {
     "name": "stdout",
     "output_type": "stream",
     "text": [
      "Epoch 1/50\n",
      "260/260 [==============================] - 1s 4ms/step - loss: 0.3185 - accuracy: 0.8911\n",
      "Epoch 2/50\n",
      "260/260 [==============================] - 1s 3ms/step - loss: 0.1945 - accuracy: 0.9319\n",
      "Epoch 3/50\n",
      "260/260 [==============================] - 1s 3ms/step - loss: 0.1692 - accuracy: 0.9407\n",
      "Epoch 4/50\n",
      "260/260 [==============================] - 1s 3ms/step - loss: 0.1564 - accuracy: 0.9463\n",
      "Epoch 5/50\n",
      "260/260 [==============================] - 1s 4ms/step - loss: 0.1414 - accuracy: 0.9498\n",
      "Epoch 6/50\n",
      "260/260 [==============================] - 1s 3ms/step - loss: 0.1337 - accuracy: 0.9552\n",
      "Epoch 7/50\n",
      "260/260 [==============================] - 1s 3ms/step - loss: 0.1184 - accuracy: 0.9607\n",
      "Epoch 8/50\n",
      "260/260 [==============================] - 1s 3ms/step - loss: 0.1119 - accuracy: 0.9613\n",
      "Epoch 9/50\n",
      "260/260 [==============================] - 1s 3ms/step - loss: 0.0999 - accuracy: 0.9696\n",
      "Epoch 10/50\n",
      "260/260 [==============================] - 1s 3ms/step - loss: 0.0980 - accuracy: 0.9665\n",
      "Epoch 11/50\n",
      "260/260 [==============================] - 1s 4ms/step - loss: 0.0892 - accuracy: 0.9702\n",
      "Epoch 12/50\n",
      "260/260 [==============================] - 1s 4ms/step - loss: 0.0914 - accuracy: 0.9690\n",
      "Epoch 13/50\n",
      "260/260 [==============================] - 1s 4ms/step - loss: 0.0879 - accuracy: 0.9709\n",
      "Epoch 14/50\n",
      "260/260 [==============================] - 1s 3ms/step - loss: 0.0830 - accuracy: 0.9702\n",
      "Epoch 15/50\n",
      "260/260 [==============================] - 1s 3ms/step - loss: 0.0870 - accuracy: 0.9690\n",
      "Epoch 16/50\n",
      "260/260 [==============================] - 1s 4ms/step - loss: 0.0824 - accuracy: 0.9721\n",
      "Epoch 17/50\n",
      "260/260 [==============================] - 1s 3ms/step - loss: 0.0810 - accuracy: 0.9740\n",
      "Epoch 18/50\n",
      "260/260 [==============================] - 1s 3ms/step - loss: 0.0802 - accuracy: 0.9752\n",
      "Epoch 19/50\n",
      "260/260 [==============================] - 1s 3ms/step - loss: 0.0741 - accuracy: 0.9771\n",
      "Epoch 20/50\n",
      "260/260 [==============================] - 1s 3ms/step - loss: 0.0739 - accuracy: 0.9754\n",
      "Epoch 21/50\n",
      "260/260 [==============================] - 1s 3ms/step - loss: 0.0728 - accuracy: 0.9775\n",
      "Epoch 22/50\n",
      "260/260 [==============================] - 1s 4ms/step - loss: 0.0761 - accuracy: 0.9750\n",
      "Epoch 23/50\n",
      "260/260 [==============================] - 1s 3ms/step - loss: 0.0681 - accuracy: 0.9765\n",
      "Epoch 24/50\n",
      "260/260 [==============================] - 1s 3ms/step - loss: 0.0791 - accuracy: 0.9756\n",
      "Epoch 25/50\n",
      "260/260 [==============================] - 1s 4ms/step - loss: 0.0662 - accuracy: 0.9786\n",
      "Epoch 26/50\n",
      "260/260 [==============================] - 1s 3ms/step - loss: 0.0637 - accuracy: 0.9813\n",
      "Epoch 27/50\n",
      "260/260 [==============================] - 1s 3ms/step - loss: 0.0657 - accuracy: 0.9800\n",
      "Epoch 28/50\n",
      "260/260 [==============================] - 1s 3ms/step - loss: 0.0661 - accuracy: 0.9804\n",
      "Epoch 29/50\n",
      "260/260 [==============================] - 1s 3ms/step - loss: 0.0607 - accuracy: 0.9823\n",
      "Epoch 30/50\n",
      "260/260 [==============================] - 1s 3ms/step - loss: 0.0795 - accuracy: 0.9746\n",
      "Epoch 31/50\n",
      "260/260 [==============================] - 1s 3ms/step - loss: 0.0636 - accuracy: 0.9792\n",
      "Epoch 32/50\n",
      "260/260 [==============================] - 1s 3ms/step - loss: 0.0690 - accuracy: 0.9781\n",
      "Epoch 33/50\n",
      "260/260 [==============================] - 1s 4ms/step - loss: 0.0631 - accuracy: 0.9792\n",
      "Epoch 34/50\n",
      "260/260 [==============================] - 1s 4ms/step - loss: 0.0639 - accuracy: 0.9810\n",
      "Epoch 35/50\n",
      "260/260 [==============================] - 1s 4ms/step - loss: 0.0591 - accuracy: 0.9821\n",
      "Epoch 36/50\n",
      "260/260 [==============================] - 1s 4ms/step - loss: 0.0626 - accuracy: 0.9813\n",
      "Epoch 37/50\n",
      "260/260 [==============================] - 1s 4ms/step - loss: 0.0654 - accuracy: 0.9788\n",
      "Epoch 38/50\n",
      "260/260 [==============================] - 1s 4ms/step - loss: 0.0619 - accuracy: 0.9815\n",
      "Epoch 39/50\n",
      "260/260 [==============================] - 1s 4ms/step - loss: 0.0620 - accuracy: 0.9808\n",
      "Epoch 40/50\n",
      "260/260 [==============================] - 1s 3ms/step - loss: 0.0702 - accuracy: 0.9788\n",
      "Epoch 41/50\n",
      "260/260 [==============================] - 1s 4ms/step - loss: 0.0574 - accuracy: 0.9829\n",
      "Epoch 42/50\n",
      "260/260 [==============================] - 1s 3ms/step - loss: 0.0630 - accuracy: 0.9813\n",
      "Epoch 43/50\n",
      "260/260 [==============================] - 1s 3ms/step - loss: 0.0609 - accuracy: 0.9827\n",
      "Epoch 44/50\n",
      "260/260 [==============================] - 1s 4ms/step - loss: 0.0606 - accuracy: 0.9804\n",
      "Epoch 45/50\n",
      "260/260 [==============================] - 1s 4ms/step - loss: 0.0554 - accuracy: 0.9823\n",
      "Epoch 46/50\n",
      "260/260 [==============================] - 1s 3ms/step - loss: 0.0551 - accuracy: 0.9846\n",
      "Epoch 47/50\n",
      "260/260 [==============================] - 1s 3ms/step - loss: 0.0582 - accuracy: 0.9825\n",
      "Epoch 48/50\n",
      "260/260 [==============================] - 1s 4ms/step - loss: 0.0663 - accuracy: 0.9811\n",
      "Epoch 49/50\n",
      "260/260 [==============================] - 1s 3ms/step - loss: 0.0574 - accuracy: 0.9808\n",
      "Epoch 50/50\n",
      "260/260 [==============================] - 1s 3ms/step - loss: 0.0568 - accuracy: 0.9823\n"
     ]
    },
    {
     "data": {
      "text/plain": [
       "<keras.callbacks.History at 0x1b7c3607fa0>"
      ]
     },
     "execution_count": 55,
     "metadata": {},
     "output_type": "execute_result"
    }
   ],
   "source": [
    "model.fit(x_train,y_train, epochs=50, batch_size=20)"
   ]
  },
  {
   "cell_type": "code",
   "execution_count": 56,
   "id": "d1a05a06",
   "metadata": {
    "ExecuteTime": {
     "end_time": "2022-03-16T07:08:48.323364Z",
     "start_time": "2022-03-16T07:08:48.090768Z"
    }
   },
   "outputs": [
    {
     "name": "stdout",
     "output_type": "stream",
     "text": [
      "41/41 [==============================] - 0s 3ms/step - loss: 0.0729 - accuracy: 0.9754\n"
     ]
    },
    {
     "data": {
      "text/plain": [
       "[0.07287593185901642, 0.9753845930099487]"
      ]
     },
     "execution_count": 56,
     "metadata": {},
     "output_type": "execute_result"
    }
   ],
   "source": [
    "model.evaluate(x_test,y_test)"
   ]
  },
  {
   "cell_type": "code",
   "execution_count": null,
   "id": "f75dfac9",
   "metadata": {},
   "outputs": [],
   "source": []
  },
  {
   "cell_type": "code",
   "execution_count": null,
   "id": "964e1265",
   "metadata": {},
   "outputs": [],
   "source": []
  },
  {
   "cell_type": "markdown",
   "id": "14589d4c",
   "metadata": {},
   "source": [
    "## multi classification "
   ]
  },
  {
   "cell_type": "code",
   "execution_count": 57,
   "id": "a7b7985e",
   "metadata": {
    "ExecuteTime": {
     "end_time": "2022-03-16T07:09:01.300383Z",
     "start_time": "2022-03-16T07:09:01.283427Z"
    }
   },
   "outputs": [],
   "source": [
    "# 원핫으로 만들기\n",
    "y_oh = tf.keras.utils.to_categorical(y)"
   ]
  },
  {
   "cell_type": "code",
   "execution_count": 58,
   "id": "c972ff6b",
   "metadata": {
    "ExecuteTime": {
     "end_time": "2022-03-16T07:09:02.052787Z",
     "start_time": "2022-03-16T07:09:02.034807Z"
    }
   },
   "outputs": [],
   "source": [
    "from sklearn.model_selection import train_test_split\n",
    "x_train, x_test, y_train, y_test = train_test_split(x,y_oh, test_size=0.2)"
   ]
  },
  {
   "cell_type": "code",
   "execution_count": 60,
   "id": "b403cba7",
   "metadata": {
    "ExecuteTime": {
     "end_time": "2022-03-16T07:09:10.035315Z",
     "start_time": "2022-03-16T07:09:09.987416Z"
    }
   },
   "outputs": [
    {
     "name": "stdout",
     "output_type": "stream",
     "text": [
      "Model: \"sequential_5\"\n",
      "_________________________________________________________________\n",
      " Layer (type)                Output Shape              Param #   \n",
      "=================================================================\n",
      " dense_20 (Dense)            (None, 36)                468       \n",
      "                                                                 \n",
      " dense_21 (Dense)            (None, 18)                666       \n",
      "                                                                 \n",
      " dense_22 (Dense)            (None, 9)                 171       \n",
      "                                                                 \n",
      " dense_23 (Dense)            (None, 2)                 20        \n",
      "                                                                 \n",
      "=================================================================\n",
      "Total params: 1,325\n",
      "Trainable params: 1,325\n",
      "Non-trainable params: 0\n",
      "_________________________________________________________________\n"
     ]
    }
   ],
   "source": [
    "model = Sequential()\n",
    "model.add(Dense(36 ,input_dim=12, activation='relu'))  # input_dim x열 개수\n",
    "model.add(Dense(18,activation='relu'))\n",
    "model.add(Dense(9,activation='relu'))\n",
    "model.add(Dense(2,activation = 'softmax')) # 마지막 노드 :3 , activation='softmax'\n",
    "model.summary()"
   ]
  },
  {
   "cell_type": "code",
   "execution_count": 61,
   "id": "7ec57c03",
   "metadata": {
    "ExecuteTime": {
     "end_time": "2022-03-16T07:09:13.151125Z",
     "start_time": "2022-03-16T07:09:13.138160Z"
    }
   },
   "outputs": [],
   "source": [
    "model.compile(loss = ['categorical_crossentropy'], metrics=['accuracy'], optimizer='adam')"
   ]
  },
  {
   "cell_type": "code",
   "execution_count": 63,
   "id": "b7d274f9",
   "metadata": {
    "ExecuteTime": {
     "end_time": "2022-03-16T07:09:35.448846Z",
     "start_time": "2022-03-16T07:09:35.443860Z"
    }
   },
   "outputs": [
    {
     "data": {
      "text/plain": [
       "array([[ 6.9 ,  0.41,  0.33, ...,  0.75, 11.1 ,  6.  ],\n",
       "       [ 6.7 ,  0.16,  0.49, ...,  0.81, 10.4 ,  6.  ],\n",
       "       [ 8.3 ,  0.42,  0.62, ...,  0.67,  9.7 ,  5.  ],\n",
       "       ...,\n",
       "       [ 6.1 ,  0.27,  0.43, ...,  0.47,  9.  ,  5.  ],\n",
       "       [ 6.  ,  0.27,  0.26, ...,  0.43, 11.1 ,  6.  ],\n",
       "       [ 6.7 ,  0.48,  0.08, ...,  0.64,  9.7 ,  5.  ]])"
      ]
     },
     "execution_count": 63,
     "metadata": {},
     "output_type": "execute_result"
    }
   ],
   "source": [
    "x_train"
   ]
  },
  {
   "cell_type": "code",
   "execution_count": 64,
   "id": "07787038",
   "metadata": {
    "ExecuteTime": {
     "end_time": "2022-03-16T07:10:24.393905Z",
     "start_time": "2022-03-16T07:09:41.714176Z"
    },
    "collapsed": true
   },
   "outputs": [
    {
     "name": "stdout",
     "output_type": "stream",
     "text": [
      "Epoch 1/50\n",
      "260/260 [==============================] - 1s 4ms/step - loss: 0.3028 - accuracy: 0.8801\n",
      "Epoch 2/50\n",
      "260/260 [==============================] - 1s 3ms/step - loss: 0.2010 - accuracy: 0.9296\n",
      "Epoch 3/50\n",
      "260/260 [==============================] - 1s 3ms/step - loss: 0.1866 - accuracy: 0.9353\n",
      "Epoch 4/50\n",
      "260/260 [==============================] - 1s 3ms/step - loss: 0.1794 - accuracy: 0.9375\n",
      "Epoch 5/50\n",
      "260/260 [==============================] - 1s 3ms/step - loss: 0.1604 - accuracy: 0.9440\n",
      "Epoch 6/50\n",
      "260/260 [==============================] - 1s 3ms/step - loss: 0.1557 - accuracy: 0.9452\n",
      "Epoch 7/50\n",
      "260/260 [==============================] - 1s 3ms/step - loss: 0.1375 - accuracy: 0.9513\n",
      "Epoch 8/50\n",
      "260/260 [==============================] - 1s 3ms/step - loss: 0.1280 - accuracy: 0.9530\n",
      "Epoch 9/50\n",
      "260/260 [==============================] - 1s 3ms/step - loss: 0.1147 - accuracy: 0.9621\n",
      "Epoch 10/50\n",
      "260/260 [==============================] - 1s 3ms/step - loss: 0.1024 - accuracy: 0.9665\n",
      "Epoch 11/50\n",
      "260/260 [==============================] - 1s 3ms/step - loss: 0.1005 - accuracy: 0.9665\n",
      "Epoch 12/50\n",
      "260/260 [==============================] - 1s 3ms/step - loss: 0.0878 - accuracy: 0.9731\n",
      "Epoch 13/50\n",
      "260/260 [==============================] - 1s 3ms/step - loss: 0.0798 - accuracy: 0.9723\n",
      "Epoch 14/50\n",
      "260/260 [==============================] - 1s 3ms/step - loss: 0.0859 - accuracy: 0.9709\n",
      "Epoch 15/50\n",
      "260/260 [==============================] - 1s 3ms/step - loss: 0.0907 - accuracy: 0.9694\n",
      "Epoch 16/50\n",
      "260/260 [==============================] - 1s 3ms/step - loss: 0.0750 - accuracy: 0.9763\n",
      "Epoch 17/50\n",
      "260/260 [==============================] - 1s 3ms/step - loss: 0.0746 - accuracy: 0.9759\n",
      "Epoch 18/50\n",
      "260/260 [==============================] - 1s 3ms/step - loss: 0.0716 - accuracy: 0.9783\n",
      "Epoch 19/50\n",
      "260/260 [==============================] - 1s 3ms/step - loss: 0.0741 - accuracy: 0.9771\n",
      "Epoch 20/50\n",
      "260/260 [==============================] - 1s 3ms/step - loss: 0.0750 - accuracy: 0.9788\n",
      "Epoch 21/50\n",
      "260/260 [==============================] - 1s 3ms/step - loss: 0.0697 - accuracy: 0.9779\n",
      "Epoch 22/50\n",
      "260/260 [==============================] - 1s 3ms/step - loss: 0.0719 - accuracy: 0.9777\n",
      "Epoch 23/50\n",
      "260/260 [==============================] - 1s 3ms/step - loss: 0.0660 - accuracy: 0.9800\n",
      "Epoch 24/50\n",
      "260/260 [==============================] - 1s 3ms/step - loss: 0.0672 - accuracy: 0.9781\n",
      "Epoch 25/50\n",
      "260/260 [==============================] - 1s 3ms/step - loss: 0.0652 - accuracy: 0.9802\n",
      "Epoch 26/50\n",
      "260/260 [==============================] - 1s 3ms/step - loss: 0.0629 - accuracy: 0.9821\n",
      "Epoch 27/50\n",
      "260/260 [==============================] - 1s 3ms/step - loss: 0.0629 - accuracy: 0.9796\n",
      "Epoch 28/50\n",
      "260/260 [==============================] - 1s 3ms/step - loss: 0.0630 - accuracy: 0.9794\n",
      "Epoch 29/50\n",
      "260/260 [==============================] - 1s 3ms/step - loss: 0.0644 - accuracy: 0.9792\n",
      "Epoch 30/50\n",
      "260/260 [==============================] - 1s 3ms/step - loss: 0.0673 - accuracy: 0.9792\n",
      "Epoch 31/50\n",
      "260/260 [==============================] - 1s 3ms/step - loss: 0.0707 - accuracy: 0.9784\n",
      "Epoch 32/50\n",
      "260/260 [==============================] - 1s 3ms/step - loss: 0.0658 - accuracy: 0.9817\n",
      "Epoch 33/50\n",
      "260/260 [==============================] - 1s 3ms/step - loss: 0.0620 - accuracy: 0.9831\n",
      "Epoch 34/50\n",
      "260/260 [==============================] - 1s 3ms/step - loss: 0.0595 - accuracy: 0.9817\n",
      "Epoch 35/50\n",
      "260/260 [==============================] - 1s 3ms/step - loss: 0.0643 - accuracy: 0.9810\n",
      "Epoch 36/50\n",
      "260/260 [==============================] - 1s 3ms/step - loss: 0.0573 - accuracy: 0.9817\n",
      "Epoch 37/50\n",
      "260/260 [==============================] - 1s 3ms/step - loss: 0.0614 - accuracy: 0.9817\n",
      "Epoch 38/50\n",
      "260/260 [==============================] - 1s 3ms/step - loss: 0.0596 - accuracy: 0.9811\n",
      "Epoch 39/50\n",
      "260/260 [==============================] - 1s 3ms/step - loss: 0.0589 - accuracy: 0.9815\n",
      "Epoch 40/50\n",
      "260/260 [==============================] - 1s 3ms/step - loss: 0.0662 - accuracy: 0.9784\n",
      "Epoch 41/50\n",
      "260/260 [==============================] - 1s 3ms/step - loss: 0.0578 - accuracy: 0.9815\n",
      "Epoch 42/50\n",
      "260/260 [==============================] - 1s 3ms/step - loss: 0.0561 - accuracy: 0.9835\n",
      "Epoch 43/50\n",
      "260/260 [==============================] - 1s 3ms/step - loss: 0.0576 - accuracy: 0.9827\n",
      "Epoch 44/50\n",
      "260/260 [==============================] - 1s 3ms/step - loss: 0.0586 - accuracy: 0.9810\n",
      "Epoch 45/50\n",
      "260/260 [==============================] - 1s 3ms/step - loss: 0.0580 - accuracy: 0.9831\n",
      "Epoch 46/50\n",
      "260/260 [==============================] - 1s 3ms/step - loss: 0.0562 - accuracy: 0.9815\n",
      "Epoch 47/50\n",
      "260/260 [==============================] - 1s 3ms/step - loss: 0.0594 - accuracy: 0.9813\n",
      "Epoch 48/50\n",
      "260/260 [==============================] - 1s 3ms/step - loss: 0.0532 - accuracy: 0.9838\n",
      "Epoch 49/50\n",
      "260/260 [==============================] - 1s 3ms/step - loss: 0.0537 - accuracy: 0.9844\n",
      "Epoch 50/50\n",
      "260/260 [==============================] - 1s 3ms/step - loss: 0.0561 - accuracy: 0.9835\n"
     ]
    },
    {
     "data": {
      "text/plain": [
       "<keras.callbacks.History at 0x1b7c36eed60>"
      ]
     },
     "execution_count": 64,
     "metadata": {},
     "output_type": "execute_result"
    }
   ],
   "source": [
    "model.fit(x_train,y_train, epochs=50, batch_size=20)"
   ]
  },
  {
   "cell_type": "code",
   "execution_count": 65,
   "id": "6ef59bd3",
   "metadata": {
    "ExecuteTime": {
     "end_time": "2022-03-16T07:10:53.801882Z",
     "start_time": "2022-03-16T07:10:53.523855Z"
    }
   },
   "outputs": [
    {
     "name": "stdout",
     "output_type": "stream",
     "text": [
      "41/41 [==============================] - 0s 4ms/step - loss: 0.0413 - accuracy: 0.9885\n"
     ]
    },
    {
     "data": {
      "text/plain": [
       "[0.04130246117711067, 0.9884615540504456]"
      ]
     },
     "execution_count": 65,
     "metadata": {},
     "output_type": "execute_result"
    }
   ],
   "source": [
    "model.evaluate(x_test, y_test)"
   ]
  },
  {
   "cell_type": "code",
   "execution_count": 66,
   "id": "5d223e41",
   "metadata": {
    "ExecuteTime": {
     "end_time": "2022-03-16T07:10:55.835899Z",
     "start_time": "2022-03-16T07:10:55.795231Z"
    }
   },
   "outputs": [],
   "source": [
    "model.save('./data/wine_model.h5')"
   ]
  },
  {
   "cell_type": "code",
   "execution_count": null,
   "id": "46a8b364",
   "metadata": {},
   "outputs": [],
   "source": []
  },
  {
   "cell_type": "markdown",
   "id": "814e5645",
   "metadata": {},
   "source": [
    "# 저장하기"
   ]
  },
  {
   "cell_type": "markdown",
   "id": "3a831082",
   "metadata": {
    "ExecuteTime": {
     "end_time": "2022-03-16T06:29:12.538994Z",
     "start_time": "2022-03-16T06:29:12.527030Z"
    }
   },
   "source": [
    "## model checkpointer"
   ]
  },
  {
   "cell_type": "markdown",
   "id": "bca48ecd",
   "metadata": {},
   "source": [
    "* 중간에 가장 좋았던 모델을 저장하기 위해"
   ]
  },
  {
   "cell_type": "code",
   "execution_count": 67,
   "id": "ef8a2c3d",
   "metadata": {
    "ExecuteTime": {
     "end_time": "2022-03-16T07:11:31.198752Z",
     "start_time": "2022-03-16T07:11:31.154852Z"
    }
   },
   "outputs": [
    {
     "name": "stdout",
     "output_type": "stream",
     "text": [
      "Model: \"sequential_6\"\n",
      "_________________________________________________________________\n",
      " Layer (type)                Output Shape              Param #   \n",
      "=================================================================\n",
      " dense_24 (Dense)            (None, 36)                468       \n",
      "                                                                 \n",
      " dense_25 (Dense)            (None, 18)                666       \n",
      "                                                                 \n",
      " dense_26 (Dense)            (None, 9)                 171       \n",
      "                                                                 \n",
      " dense_27 (Dense)            (None, 2)                 20        \n",
      "                                                                 \n",
      "=================================================================\n",
      "Total params: 1,325\n",
      "Trainable params: 1,325\n",
      "Non-trainable params: 0\n",
      "_________________________________________________________________\n"
     ]
    }
   ],
   "source": [
    "x_train, x_test, y_train, y_test = train_test_split(x,y_oh, test_size=0.2)\n",
    "model = Sequential()\n",
    "model.add(Dense(36 ,input_dim=12, activation='relu'))  # input_dim x열 개수\n",
    "model.add(Dense(18,activation='relu'))\n",
    "model.add(Dense(9,activation='relu'))\n",
    "model.add(Dense(2,activation = 'softmax')) # 마지막 노드 :3 , activation='softmax'\n",
    "model.summary()\n",
    "model.compile(loss = ['categorical_crossentropy'], metrics=['accuracy'], optimizer='adam')"
   ]
  },
  {
   "cell_type": "code",
   "execution_count": 68,
   "id": "7e77c778",
   "metadata": {
    "ExecuteTime": {
     "end_time": "2022-03-16T07:11:38.334734Z",
     "start_time": "2022-03-16T07:11:38.323760Z"
    }
   },
   "outputs": [],
   "source": [
    "import os"
   ]
  },
  {
   "cell_type": "code",
   "execution_count": 69,
   "id": "f5841ac9",
   "metadata": {
    "ExecuteTime": {
     "end_time": "2022-03-16T07:11:45.121035Z",
     "start_time": "2022-03-16T07:11:45.107076Z"
    }
   },
   "outputs": [],
   "source": [
    "model_dir = './data/model_check'\n",
    "if not os.path.exists(model_dir):\n",
    "    os.mkdir(model_dir)"
   ]
  },
  {
   "cell_type": "code",
   "execution_count": 70,
   "id": "3e90c0bd",
   "metadata": {
    "ExecuteTime": {
     "end_time": "2022-03-16T07:12:30.501730Z",
     "start_time": "2022-03-16T07:12:30.483750Z"
    }
   },
   "outputs": [],
   "source": [
    "from tensorflow.keras.callbacks import ModelCheckpoint"
   ]
  },
  {
   "cell_type": "code",
   "execution_count": 71,
   "id": "102e651f",
   "metadata": {
    "ExecuteTime": {
     "end_time": "2022-03-16T07:12:31.250082Z",
     "start_time": "2022-03-16T07:12:31.235125Z"
    }
   },
   "outputs": [],
   "source": [
    "modelpath = './data/model_check/{epoch:02d}-{val_loss:4f}.hdf5'\n",
    "checkpointer = ModelCheckpoint(filepath = modelpath, monitor='val_loss',verbose=1, save_best_only=True)\n",
    "\n",
    "# save_best_only 성능이 좋아질 경우에만 저장"
   ]
  },
  {
   "cell_type": "code",
   "execution_count": 72,
   "id": "7bb7dc5e",
   "metadata": {
    "ExecuteTime": {
     "end_time": "2022-03-16T07:13:08.070840Z",
     "start_time": "2022-03-16T07:12:33.826415Z"
    }
   },
   "outputs": [
    {
     "name": "stdout",
     "output_type": "stream",
     "text": [
      "Epoch 1/100\n",
      "84/84 [==============================] - ETA: 0s - loss: 5.5641 - accuracy: 0.5160\n",
      "Epoch 1: val_loss improved from inf to 0.29755, saving model to ./data/model_check\\01-0.297549.hdf5\n",
      "84/84 [==============================] - 1s 6ms/step - loss: 5.5641 - accuracy: 0.5160 - val_loss: 0.2975 - val_accuracy: 0.8846\n",
      "Epoch 2/100\n",
      "78/84 [==========================>...] - ETA: 0s - loss: 0.2308 - accuracy: 0.9197\n",
      "Epoch 2: val_loss improved from 0.29755 to 0.18730, saving model to ./data/model_check\\02-0.187303.hdf5\n",
      "84/84 [==============================] - 0s 5ms/step - loss: 0.2314 - accuracy: 0.9197 - val_loss: 0.1873 - val_accuracy: 0.9365\n",
      "Epoch 3/100\n",
      "76/84 [==========================>...] - ETA: 0s - loss: 0.2056 - accuracy: 0.9313\n",
      "Epoch 3: val_loss improved from 0.18730 to 0.18683, saving model to ./data/model_check\\03-0.186826.hdf5\n",
      "84/84 [==============================] - 0s 5ms/step - loss: 0.2045 - accuracy: 0.9317 - val_loss: 0.1868 - val_accuracy: 0.9356\n",
      "Epoch 4/100\n",
      "76/84 [==========================>...] - ETA: 0s - loss: 0.1968 - accuracy: 0.9361\n",
      "Epoch 4: val_loss improved from 0.18683 to 0.18118, saving model to ./data/model_check\\04-0.181176.hdf5\n",
      "84/84 [==============================] - 0s 5ms/step - loss: 0.2018 - accuracy: 0.9336 - val_loss: 0.1812 - val_accuracy: 0.9365\n",
      "Epoch 5/100\n",
      "81/84 [===========================>..] - ETA: 0s - loss: 0.2001 - accuracy: 0.9331\n",
      "Epoch 5: val_loss improved from 0.18118 to 0.18104, saving model to ./data/model_check\\05-0.181036.hdf5\n",
      "84/84 [==============================] - 0s 5ms/step - loss: 0.2005 - accuracy: 0.9329 - val_loss: 0.1810 - val_accuracy: 0.9375\n",
      "Epoch 6/100\n",
      "80/84 [===========================>..] - ETA: 0s - loss: 0.1990 - accuracy: 0.9333\n",
      "Epoch 6: val_loss improved from 0.18104 to 0.17764, saving model to ./data/model_check\\06-0.177637.hdf5\n",
      "84/84 [==============================] - 0s 5ms/step - loss: 0.1977 - accuracy: 0.9343 - val_loss: 0.1776 - val_accuracy: 0.9385\n",
      "Epoch 7/100\n",
      "81/84 [===========================>..] - ETA: 0s - loss: 0.1988 - accuracy: 0.9328\n",
      "Epoch 7: val_loss improved from 0.17764 to 0.17638, saving model to ./data/model_check\\07-0.176376.hdf5\n",
      "84/84 [==============================] - 0s 5ms/step - loss: 0.1977 - accuracy: 0.9336 - val_loss: 0.1764 - val_accuracy: 0.9385\n",
      "Epoch 8/100\n",
      "77/84 [==========================>...] - ETA: 0s - loss: 0.1936 - accuracy: 0.9353\n",
      "Epoch 8: val_loss did not improve from 0.17638\n",
      "84/84 [==============================] - 0s 5ms/step - loss: 0.1953 - accuracy: 0.9350 - val_loss: 0.1787 - val_accuracy: 0.9365\n",
      "Epoch 9/100\n",
      "79/84 [===========================>..] - ETA: 0s - loss: 0.1925 - accuracy: 0.9334\n",
      "Epoch 9: val_loss improved from 0.17638 to 0.17633, saving model to ./data/model_check\\09-0.176333.hdf5\n",
      "84/84 [==============================] - 0s 5ms/step - loss: 0.1931 - accuracy: 0.9334 - val_loss: 0.1763 - val_accuracy: 0.9385\n",
      "Epoch 10/100\n",
      "76/84 [==========================>...] - ETA: 0s - loss: 0.1971 - accuracy: 0.9355\n",
      "Epoch 10: val_loss improved from 0.17633 to 0.17378, saving model to ./data/model_check\\10-0.173784.hdf5\n",
      "84/84 [==============================] - 0s 5ms/step - loss: 0.1938 - accuracy: 0.9367 - val_loss: 0.1738 - val_accuracy: 0.9394\n",
      "Epoch 11/100\n",
      "82/84 [============================>.] - ETA: 0s - loss: 0.1866 - accuracy: 0.9349\n",
      "Epoch 11: val_loss improved from 0.17378 to 0.16947, saving model to ./data/model_check\\11-0.169473.hdf5\n",
      "84/84 [==============================] - 0s 5ms/step - loss: 0.1861 - accuracy: 0.9350 - val_loss: 0.1695 - val_accuracy: 0.9394\n",
      "Epoch 12/100\n",
      "77/84 [==========================>...] - ETA: 0s - loss: 0.1829 - accuracy: 0.9364\n",
      "Epoch 12: val_loss improved from 0.16947 to 0.16054, saving model to ./data/model_check\\12-0.160538.hdf5\n",
      "84/84 [==============================] - 0s 5ms/step - loss: 0.1816 - accuracy: 0.9377 - val_loss: 0.1605 - val_accuracy: 0.9490\n",
      "Epoch 13/100\n",
      "79/84 [===========================>..] - ETA: 0s - loss: 0.1676 - accuracy: 0.9410\n",
      "Epoch 13: val_loss improved from 0.16054 to 0.15000, saving model to ./data/model_check\\13-0.150005.hdf5\n",
      "84/84 [==============================] - 0s 5ms/step - loss: 0.1677 - accuracy: 0.9403 - val_loss: 0.1500 - val_accuracy: 0.9510\n",
      "Epoch 14/100\n",
      "79/84 [===========================>..] - ETA: 0s - loss: 0.1576 - accuracy: 0.9418\n",
      "Epoch 14: val_loss improved from 0.15000 to 0.13148, saving model to ./data/model_check\\14-0.131481.hdf5\n",
      "84/84 [==============================] - 0s 4ms/step - loss: 0.1540 - accuracy: 0.9435 - val_loss: 0.1315 - val_accuracy: 0.9500\n",
      "Epoch 15/100\n",
      "76/84 [==========================>...] - ETA: 0s - loss: 0.1374 - accuracy: 0.9500\n",
      "Epoch 15: val_loss improved from 0.13148 to 0.13058, saving model to ./data/model_check\\15-0.130580.hdf5\n",
      "84/84 [==============================] - 0s 4ms/step - loss: 0.1375 - accuracy: 0.9492 - val_loss: 0.1306 - val_accuracy: 0.9481\n",
      "Epoch 16/100\n",
      "72/84 [========================>.....] - ETA: 0s - loss: 0.1292 - accuracy: 0.9506\n",
      "Epoch 16: val_loss improved from 0.13058 to 0.11421, saving model to ./data/model_check\\16-0.114207.hdf5\n",
      "84/84 [==============================] - 0s 5ms/step - loss: 0.1272 - accuracy: 0.9509 - val_loss: 0.1142 - val_accuracy: 0.9625\n",
      "Epoch 17/100\n",
      "75/84 [=========================>....] - ETA: 0s - loss: 0.1343 - accuracy: 0.9528\n",
      "Epoch 17: val_loss did not improve from 0.11421\n",
      "84/84 [==============================] - 0s 4ms/step - loss: 0.1319 - accuracy: 0.9533 - val_loss: 0.1248 - val_accuracy: 0.9490\n",
      "Epoch 18/100\n",
      "83/84 [============================>.] - ETA: 0s - loss: 0.1164 - accuracy: 0.9559\n",
      "Epoch 18: val_loss improved from 0.11421 to 0.10432, saving model to ./data/model_check\\18-0.104322.hdf5\n",
      "84/84 [==============================] - 0s 5ms/step - loss: 0.1163 - accuracy: 0.9560 - val_loss: 0.1043 - val_accuracy: 0.9663\n",
      "Epoch 19/100\n",
      "78/84 [==========================>...] - ETA: 0s - loss: 0.1105 - accuracy: 0.9574\n",
      "Epoch 19: val_loss did not improve from 0.10432\n",
      "84/84 [==============================] - 0s 5ms/step - loss: 0.1081 - accuracy: 0.9581 - val_loss: 0.1086 - val_accuracy: 0.9596\n",
      "Epoch 20/100\n",
      "81/84 [===========================>..] - ETA: 0s - loss: 0.1146 - accuracy: 0.9615\n",
      "Epoch 20: val_loss did not improve from 0.10432\n",
      "84/84 [==============================] - 0s 4ms/step - loss: 0.1137 - accuracy: 0.9620 - val_loss: 0.1087 - val_accuracy: 0.9587\n",
      "Epoch 21/100\n",
      "83/84 [============================>.] - ETA: 0s - loss: 0.1025 - accuracy: 0.9641\n",
      "Epoch 21: val_loss improved from 0.10432 to 0.09823, saving model to ./data/model_check\\21-0.098231.hdf5\n",
      "84/84 [==============================] - 0s 4ms/step - loss: 0.1023 - accuracy: 0.9642 - val_loss: 0.0982 - val_accuracy: 0.9702\n",
      "Epoch 22/100\n",
      "73/84 [=========================>....] - ETA: 0s - loss: 0.0986 - accuracy: 0.9641\n",
      "Epoch 22: val_loss improved from 0.09823 to 0.09332, saving model to ./data/model_check\\22-0.093315.hdf5\n",
      "84/84 [==============================] - 0s 5ms/step - loss: 0.0969 - accuracy: 0.9649 - val_loss: 0.0933 - val_accuracy: 0.9692\n",
      "Epoch 23/100\n",
      "75/84 [=========================>....] - ETA: 0s - loss: 0.0995 - accuracy: 0.9691\n",
      "Epoch 23: val_loss improved from 0.09332 to 0.08528, saving model to ./data/model_check\\23-0.085278.hdf5\n",
      "84/84 [==============================] - 0s 4ms/step - loss: 0.0992 - accuracy: 0.9690 - val_loss: 0.0853 - val_accuracy: 0.9798\n",
      "Epoch 24/100\n",
      "72/84 [========================>.....] - ETA: 0s - loss: 0.0843 - accuracy: 0.9744\n",
      "Epoch 24: val_loss improved from 0.08528 to 0.08391, saving model to ./data/model_check\\24-0.083905.hdf5\n",
      "84/84 [==============================] - 0s 4ms/step - loss: 0.0876 - accuracy: 0.9738 - val_loss: 0.0839 - val_accuracy: 0.9769\n",
      "Epoch 25/100\n",
      "69/84 [=======================>......] - ETA: 0s - loss: 0.0839 - accuracy: 0.9728\n",
      "Epoch 25: val_loss improved from 0.08391 to 0.07909, saving model to ./data/model_check\\25-0.079086.hdf5\n",
      "84/84 [==============================] - 0s 4ms/step - loss: 0.0857 - accuracy: 0.9723 - val_loss: 0.0791 - val_accuracy: 0.9798\n",
      "Epoch 26/100\n",
      "77/84 [==========================>...] - ETA: 0s - loss: 0.0857 - accuracy: 0.9722\n",
      "Epoch 26: val_loss did not improve from 0.07909\n",
      "84/84 [==============================] - 0s 4ms/step - loss: 0.0860 - accuracy: 0.9721 - val_loss: 0.0918 - val_accuracy: 0.9721\n"
     ]
    },
    {
     "name": "stdout",
     "output_type": "stream",
     "text": [
      "Epoch 27/100\n",
      "71/84 [========================>.....] - ETA: 0s - loss: 0.0777 - accuracy: 0.9763\n",
      "Epoch 27: val_loss improved from 0.07909 to 0.07594, saving model to ./data/model_check\\27-0.075940.hdf5\n",
      "84/84 [==============================] - 0s 4ms/step - loss: 0.0801 - accuracy: 0.9750 - val_loss: 0.0759 - val_accuracy: 0.9788\n",
      "Epoch 28/100\n",
      "71/84 [========================>.....] - ETA: 0s - loss: 0.0798 - accuracy: 0.9758\n",
      "Epoch 28: val_loss improved from 0.07594 to 0.07322, saving model to ./data/model_check\\28-0.073222.hdf5\n",
      "84/84 [==============================] - 0s 5ms/step - loss: 0.0778 - accuracy: 0.9757 - val_loss: 0.0732 - val_accuracy: 0.9788\n",
      "Epoch 29/100\n",
      "78/84 [==========================>...] - ETA: 0s - loss: 0.0782 - accuracy: 0.9728\n",
      "Epoch 29: val_loss did not improve from 0.07322\n",
      "84/84 [==============================] - 0s 4ms/step - loss: 0.0772 - accuracy: 0.9731 - val_loss: 0.0852 - val_accuracy: 0.9779\n",
      "Epoch 30/100\n",
      "70/84 [========================>.....] - ETA: 0s - loss: 0.0734 - accuracy: 0.9766\n",
      "Epoch 30: val_loss did not improve from 0.07322\n",
      "84/84 [==============================] - 0s 4ms/step - loss: 0.0789 - accuracy: 0.9745 - val_loss: 0.1049 - val_accuracy: 0.9663\n",
      "Epoch 31/100\n",
      "79/84 [===========================>..] - ETA: 0s - loss: 0.0910 - accuracy: 0.9689\n",
      "Epoch 31: val_loss improved from 0.07322 to 0.07071, saving model to ./data/model_check\\31-0.070709.hdf5\n",
      "84/84 [==============================] - 0s 4ms/step - loss: 0.0916 - accuracy: 0.9692 - val_loss: 0.0707 - val_accuracy: 0.9798\n",
      "Epoch 32/100\n",
      "74/84 [=========================>....] - ETA: 0s - loss: 0.0734 - accuracy: 0.9762\n",
      "Epoch 32: val_loss improved from 0.07071 to 0.06610, saving model to ./data/model_check\\32-0.066102.hdf5\n",
      "84/84 [==============================] - 0s 4ms/step - loss: 0.0718 - accuracy: 0.9762 - val_loss: 0.0661 - val_accuracy: 0.9817\n",
      "Epoch 33/100\n",
      "71/84 [========================>.....] - ETA: 0s - loss: 0.0733 - accuracy: 0.9744\n",
      "Epoch 33: val_loss did not improve from 0.06610\n",
      "84/84 [==============================] - 0s 4ms/step - loss: 0.0767 - accuracy: 0.9733 - val_loss: 0.0697 - val_accuracy: 0.9769\n",
      "Epoch 34/100\n",
      "72/84 [========================>.....] - ETA: 0s - loss: 0.0699 - accuracy: 0.9781\n",
      "Epoch 34: val_loss did not improve from 0.06610\n",
      "84/84 [==============================] - 0s 4ms/step - loss: 0.0685 - accuracy: 0.9774 - val_loss: 0.1070 - val_accuracy: 0.9663\n",
      "Epoch 35/100\n",
      "69/84 [=======================>......] - ETA: 0s - loss: 0.0710 - accuracy: 0.9757\n",
      "Epoch 35: val_loss improved from 0.06610 to 0.06579, saving model to ./data/model_check\\35-0.065788.hdf5\n",
      "84/84 [==============================] - 0s 4ms/step - loss: 0.0683 - accuracy: 0.9764 - val_loss: 0.0658 - val_accuracy: 0.9808\n",
      "Epoch 36/100\n",
      "84/84 [==============================] - ETA: 0s - loss: 0.0689 - accuracy: 0.9776\n",
      "Epoch 36: val_loss improved from 0.06579 to 0.06217, saving model to ./data/model_check\\36-0.062174.hdf5\n",
      "84/84 [==============================] - 0s 4ms/step - loss: 0.0689 - accuracy: 0.9776 - val_loss: 0.0622 - val_accuracy: 0.9827\n",
      "Epoch 37/100\n",
      "82/84 [============================>.] - ETA: 0s - loss: 0.0804 - accuracy: 0.9722\n",
      "Epoch 37: val_loss did not improve from 0.06217\n",
      "84/84 [==============================] - 0s 4ms/step - loss: 0.0795 - accuracy: 0.9726 - val_loss: 0.0786 - val_accuracy: 0.9760\n",
      "Epoch 38/100\n",
      "78/84 [==========================>...] - ETA: 0s - loss: 0.0659 - accuracy: 0.9772\n",
      "Epoch 38: val_loss improved from 0.06217 to 0.06213, saving model to ./data/model_check\\38-0.062131.hdf5\n",
      "84/84 [==============================] - 0s 4ms/step - loss: 0.0662 - accuracy: 0.9776 - val_loss: 0.0621 - val_accuracy: 0.9808\n",
      "Epoch 39/100\n",
      "79/84 [===========================>..] - ETA: 0s - loss: 0.0677 - accuracy: 0.9795\n",
      "Epoch 39: val_loss did not improve from 0.06213\n",
      "84/84 [==============================] - 0s 4ms/step - loss: 0.0666 - accuracy: 0.9798 - val_loss: 0.0839 - val_accuracy: 0.9760\n",
      "Epoch 40/100\n",
      "70/84 [========================>.....] - ETA: 0s - loss: 0.0593 - accuracy: 0.9826\n",
      "Epoch 40: val_loss did not improve from 0.06213\n",
      "84/84 [==============================] - 0s 4ms/step - loss: 0.0634 - accuracy: 0.9808 - val_loss: 0.0649 - val_accuracy: 0.9798\n",
      "Epoch 41/100\n",
      "78/84 [==========================>...] - ETA: 0s - loss: 0.0692 - accuracy: 0.9759\n",
      "Epoch 41: val_loss improved from 0.06213 to 0.05869, saving model to ./data/model_check\\41-0.058688.hdf5\n",
      "84/84 [==============================] - 0s 4ms/step - loss: 0.0680 - accuracy: 0.9757 - val_loss: 0.0587 - val_accuracy: 0.9846\n",
      "Epoch 42/100\n",
      "77/84 [==========================>...] - ETA: 0s - loss: 0.0650 - accuracy: 0.9758\n",
      "Epoch 42: val_loss did not improve from 0.05869\n",
      "84/84 [==============================] - 0s 4ms/step - loss: 0.0653 - accuracy: 0.9762 - val_loss: 0.0701 - val_accuracy: 0.9808\n",
      "Epoch 43/100\n",
      "70/84 [========================>.....] - ETA: 0s - loss: 0.0677 - accuracy: 0.9797\n",
      "Epoch 43: val_loss did not improve from 0.05869\n",
      "84/84 [==============================] - 0s 4ms/step - loss: 0.0670 - accuracy: 0.9788 - val_loss: 0.0610 - val_accuracy: 0.9837\n",
      "Epoch 44/100\n",
      "68/84 [=======================>......] - ETA: 0s - loss: 0.0684 - accuracy: 0.9809\n",
      "Epoch 44: val_loss did not improve from 0.05869\n",
      "84/84 [==============================] - 0s 4ms/step - loss: 0.0652 - accuracy: 0.9805 - val_loss: 0.0588 - val_accuracy: 0.9817\n",
      "Epoch 45/100\n",
      "81/84 [===========================>..] - ETA: 0s - loss: 0.0598 - accuracy: 0.9793\n",
      "Epoch 45: val_loss improved from 0.05869 to 0.05530, saving model to ./data/model_check\\45-0.055295.hdf5\n",
      "84/84 [==============================] - 0s 4ms/step - loss: 0.0598 - accuracy: 0.9796 - val_loss: 0.0553 - val_accuracy: 0.9846\n",
      "Epoch 46/100\n",
      "79/84 [===========================>..] - ETA: 0s - loss: 0.0644 - accuracy: 0.9813\n",
      "Epoch 46: val_loss did not improve from 0.05530\n",
      "84/84 [==============================] - 0s 4ms/step - loss: 0.0651 - accuracy: 0.9803 - val_loss: 0.0559 - val_accuracy: 0.9846\n",
      "Epoch 47/100\n",
      "84/84 [==============================] - ETA: 0s - loss: 0.0588 - accuracy: 0.9812\n",
      "Epoch 47: val_loss did not improve from 0.05530\n",
      "84/84 [==============================] - 0s 4ms/step - loss: 0.0588 - accuracy: 0.9812 - val_loss: 0.1298 - val_accuracy: 0.9615\n",
      "Epoch 48/100\n",
      "80/84 [===========================>..] - ETA: 0s - loss: 0.0763 - accuracy: 0.9760\n",
      "Epoch 48: val_loss did not improve from 0.05530\n",
      "84/84 [==============================] - 0s 4ms/step - loss: 0.0745 - accuracy: 0.9767 - val_loss: 0.0578 - val_accuracy: 0.9817\n",
      "Epoch 49/100\n",
      "81/84 [===========================>..] - ETA: 0s - loss: 0.0540 - accuracy: 0.9827\n",
      "Epoch 49: val_loss did not improve from 0.05530\n",
      "84/84 [==============================] - 0s 4ms/step - loss: 0.0551 - accuracy: 0.9827 - val_loss: 0.0729 - val_accuracy: 0.9788\n",
      "Epoch 50/100\n",
      "79/84 [===========================>..] - ETA: 0s - loss: 0.0627 - accuracy: 0.9792\n",
      "Epoch 50: val_loss did not improve from 0.05530\n",
      "84/84 [==============================] - 0s 4ms/step - loss: 0.0639 - accuracy: 0.9791 - val_loss: 0.0785 - val_accuracy: 0.9779\n",
      "Epoch 51/100\n",
      "78/84 [==========================>...] - ETA: 0s - loss: 0.0593 - accuracy: 0.9795\n",
      "Epoch 51: val_loss did not improve from 0.05530\n",
      "84/84 [==============================] - 0s 4ms/step - loss: 0.0593 - accuracy: 0.9798 - val_loss: 0.0610 - val_accuracy: 0.9817\n",
      "Epoch 52/100\n",
      "79/84 [===========================>..] - ETA: 0s - loss: 0.0641 - accuracy: 0.9805\n",
      "Epoch 52: val_loss did not improve from 0.05530\n",
      "84/84 [==============================] - 0s 4ms/step - loss: 0.0636 - accuracy: 0.9803 - val_loss: 0.0663 - val_accuracy: 0.9808\n",
      "Epoch 53/100\n",
      "79/84 [===========================>..] - ETA: 0s - loss: 0.0643 - accuracy: 0.9797\n",
      "Epoch 53: val_loss improved from 0.05530 to 0.05465, saving model to ./data/model_check\\53-0.054646.hdf5\n",
      "84/84 [==============================] - 0s 4ms/step - loss: 0.0624 - accuracy: 0.9805 - val_loss: 0.0546 - val_accuracy: 0.9875\n",
      "Epoch 54/100\n",
      "74/84 [=========================>....] - ETA: 0s - loss: 0.0597 - accuracy: 0.9814\n",
      "Epoch 54: val_loss did not improve from 0.05465\n",
      "84/84 [==============================] - 0s 5ms/step - loss: 0.0578 - accuracy: 0.9820 - val_loss: 0.0551 - val_accuracy: 0.9856\n"
     ]
    },
    {
     "name": "stdout",
     "output_type": "stream",
     "text": [
      "Epoch 55/100\n",
      "81/84 [===========================>..] - ETA: 0s - loss: 0.0598 - accuracy: 0.9802\n",
      "Epoch 55: val_loss did not improve from 0.05465\n",
      "84/84 [==============================] - 0s 4ms/step - loss: 0.0604 - accuracy: 0.9798 - val_loss: 0.0694 - val_accuracy: 0.9798\n",
      "Epoch 56/100\n",
      "80/84 [===========================>..] - ETA: 0s - loss: 0.0568 - accuracy: 0.9833\n",
      "Epoch 56: val_loss improved from 0.05465 to 0.05453, saving model to ./data/model_check\\56-0.054526.hdf5\n",
      "84/84 [==============================] - 0s 4ms/step - loss: 0.0554 - accuracy: 0.9839 - val_loss: 0.0545 - val_accuracy: 0.9846\n",
      "Epoch 57/100\n",
      "75/84 [=========================>....] - ETA: 0s - loss: 0.0570 - accuracy: 0.9813\n",
      "Epoch 57: val_loss did not improve from 0.05453\n",
      "84/84 [==============================] - 0s 4ms/step - loss: 0.0595 - accuracy: 0.9803 - val_loss: 0.0575 - val_accuracy: 0.9846\n",
      "Epoch 58/100\n",
      "71/84 [========================>.....] - ETA: 0s - loss: 0.0505 - accuracy: 0.9842\n",
      "Epoch 58: val_loss did not improve from 0.05453\n",
      "84/84 [==============================] - 0s 4ms/step - loss: 0.0606 - accuracy: 0.9822 - val_loss: 0.0711 - val_accuracy: 0.9779\n",
      "Epoch 59/100\n",
      "81/84 [===========================>..] - ETA: 0s - loss: 0.0601 - accuracy: 0.9810\n",
      "Epoch 59: val_loss improved from 0.05453 to 0.05420, saving model to ./data/model_check\\59-0.054198.hdf5\n",
      "84/84 [==============================] - 0s 4ms/step - loss: 0.0590 - accuracy: 0.9815 - val_loss: 0.0542 - val_accuracy: 0.9856\n",
      "Epoch 60/100\n",
      "79/84 [===========================>..] - ETA: 0s - loss: 0.0539 - accuracy: 0.9841\n",
      "Epoch 60: val_loss did not improve from 0.05420\n",
      "84/84 [==============================] - 0s 4ms/step - loss: 0.0544 - accuracy: 0.9836 - val_loss: 0.0800 - val_accuracy: 0.9740\n",
      "Epoch 61/100\n",
      "80/84 [===========================>..] - ETA: 0s - loss: 0.0667 - accuracy: 0.9800\n",
      "Epoch 61: val_loss improved from 0.05420 to 0.05151, saving model to ./data/model_check\\61-0.051508.hdf5\n",
      "84/84 [==============================] - 0s 4ms/step - loss: 0.0663 - accuracy: 0.9798 - val_loss: 0.0515 - val_accuracy: 0.9865\n",
      "Epoch 62/100\n",
      "69/84 [=======================>......] - ETA: 0s - loss: 0.0612 - accuracy: 0.9783\n",
      "Epoch 62: val_loss did not improve from 0.05151\n",
      "84/84 [==============================] - 0s 4ms/step - loss: 0.0591 - accuracy: 0.9796 - val_loss: 0.0799 - val_accuracy: 0.9779\n",
      "Epoch 63/100\n",
      "81/84 [===========================>..] - ETA: 0s - loss: 0.0578 - accuracy: 0.9812\n",
      "Epoch 63: val_loss did not improve from 0.05151\n",
      "84/84 [==============================] - 0s 4ms/step - loss: 0.0579 - accuracy: 0.9812 - val_loss: 0.0531 - val_accuracy: 0.9846\n",
      "Epoch 64/100\n",
      "79/84 [===========================>..] - ETA: 0s - loss: 0.0661 - accuracy: 0.9795\n",
      "Epoch 64: val_loss improved from 0.05151 to 0.04977, saving model to ./data/model_check\\64-0.049767.hdf5\n",
      "84/84 [==============================] - 0s 4ms/step - loss: 0.0643 - accuracy: 0.9800 - val_loss: 0.0498 - val_accuracy: 0.9894\n",
      "Epoch 65/100\n",
      "78/84 [==========================>...] - ETA: 0s - loss: 0.0545 - accuracy: 0.9826\n",
      "Epoch 65: val_loss did not improve from 0.04977\n",
      "84/84 [==============================] - 0s 4ms/step - loss: 0.0555 - accuracy: 0.9817 - val_loss: 0.0507 - val_accuracy: 0.9875\n",
      "Epoch 66/100\n",
      "73/84 [=========================>....] - ETA: 0s - loss: 0.0556 - accuracy: 0.9827\n",
      "Epoch 66: val_loss did not improve from 0.04977\n",
      "84/84 [==============================] - 0s 4ms/step - loss: 0.0559 - accuracy: 0.9820 - val_loss: 0.0506 - val_accuracy: 0.9885\n",
      "Epoch 67/100\n",
      "76/84 [==========================>...] - ETA: 0s - loss: 0.0478 - accuracy: 0.9847\n",
      "Epoch 67: val_loss did not improve from 0.04977\n",
      "84/84 [==============================] - 0s 4ms/step - loss: 0.0520 - accuracy: 0.9839 - val_loss: 0.0521 - val_accuracy: 0.9875\n",
      "Epoch 68/100\n",
      "74/84 [=========================>....] - ETA: 0s - loss: 0.0605 - accuracy: 0.9800\n",
      "Epoch 68: val_loss did not improve from 0.04977\n",
      "84/84 [==============================] - 0s 4ms/step - loss: 0.0576 - accuracy: 0.9805 - val_loss: 0.0613 - val_accuracy: 0.9817\n",
      "Epoch 69/100\n",
      "74/84 [=========================>....] - ETA: 0s - loss: 0.0547 - accuracy: 0.9808\n",
      "Epoch 69: val_loss did not improve from 0.04977\n",
      "84/84 [==============================] - 0s 4ms/step - loss: 0.0552 - accuracy: 0.9808 - val_loss: 0.0540 - val_accuracy: 0.9846\n",
      "Epoch 70/100\n",
      "79/84 [===========================>..] - ETA: 0s - loss: 0.0490 - accuracy: 0.9835\n",
      "Epoch 70: val_loss did not improve from 0.04977\n",
      "84/84 [==============================] - 0s 4ms/step - loss: 0.0509 - accuracy: 0.9836 - val_loss: 0.0762 - val_accuracy: 0.9808\n",
      "Epoch 71/100\n",
      "76/84 [==========================>...] - ETA: 0s - loss: 0.0573 - accuracy: 0.9805\n",
      "Epoch 71: val_loss did not improve from 0.04977\n",
      "84/84 [==============================] - 0s 3ms/step - loss: 0.0548 - accuracy: 0.9810 - val_loss: 0.0694 - val_accuracy: 0.9808\n",
      "Epoch 72/100\n",
      "75/84 [=========================>....] - ETA: 0s - loss: 0.0501 - accuracy: 0.9853\n",
      "Epoch 72: val_loss did not improve from 0.04977\n",
      "84/84 [==============================] - 0s 3ms/step - loss: 0.0512 - accuracy: 0.9846 - val_loss: 0.0751 - val_accuracy: 0.9798\n",
      "Epoch 73/100\n",
      "71/84 [========================>.....] - ETA: 0s - loss: 0.0495 - accuracy: 0.9834\n",
      "Epoch 73: val_loss did not improve from 0.04977\n",
      "84/84 [==============================] - 0s 4ms/step - loss: 0.0504 - accuracy: 0.9836 - val_loss: 0.0511 - val_accuracy: 0.9865\n",
      "Epoch 74/100\n",
      "81/84 [===========================>..] - ETA: 0s - loss: 0.0561 - accuracy: 0.9795\n",
      "Epoch 74: val_loss did not improve from 0.04977\n",
      "84/84 [==============================] - 0s 3ms/step - loss: 0.0551 - accuracy: 0.9800 - val_loss: 0.0530 - val_accuracy: 0.9875\n",
      "Epoch 75/100\n",
      "82/84 [============================>.] - ETA: 0s - loss: 0.0572 - accuracy: 0.9815\n",
      "Epoch 75: val_loss did not improve from 0.04977\n",
      "84/84 [==============================] - 0s 3ms/step - loss: 0.0566 - accuracy: 0.9815 - val_loss: 0.0699 - val_accuracy: 0.9808\n",
      "Epoch 76/100\n",
      "79/84 [===========================>..] - ETA: 0s - loss: 0.0535 - accuracy: 0.9838\n",
      "Epoch 76: val_loss did not improve from 0.04977\n",
      "84/84 [==============================] - 0s 3ms/step - loss: 0.0528 - accuracy: 0.9834 - val_loss: 0.0512 - val_accuracy: 0.9865\n",
      "Epoch 77/100\n",
      "80/84 [===========================>..] - ETA: 0s - loss: 0.0482 - accuracy: 0.9855\n",
      "Epoch 77: val_loss did not improve from 0.04977\n",
      "84/84 [==============================] - 0s 3ms/step - loss: 0.0497 - accuracy: 0.9851 - val_loss: 0.0553 - val_accuracy: 0.9827\n",
      "Epoch 78/100\n",
      "80/84 [===========================>..] - ETA: 0s - loss: 0.0521 - accuracy: 0.9845\n",
      "Epoch 78: val_loss did not improve from 0.04977\n",
      "84/84 [==============================] - 0s 3ms/step - loss: 0.0535 - accuracy: 0.9841 - val_loss: 0.0554 - val_accuracy: 0.9846\n",
      "Epoch 79/100\n",
      "82/84 [============================>.] - ETA: 0s - loss: 0.0501 - accuracy: 0.9849\n",
      "Epoch 79: val_loss did not improve from 0.04977\n",
      "84/84 [==============================] - 0s 3ms/step - loss: 0.0495 - accuracy: 0.9851 - val_loss: 0.1106 - val_accuracy: 0.9712\n",
      "Epoch 80/100\n",
      "80/84 [===========================>..] - ETA: 0s - loss: 0.0503 - accuracy: 0.9827\n",
      "Epoch 80: val_loss improved from 0.04977 to 0.04813, saving model to ./data/model_check\\80-0.048132.hdf5\n",
      "84/84 [==============================] - 0s 3ms/step - loss: 0.0529 - accuracy: 0.9820 - val_loss: 0.0481 - val_accuracy: 0.9875\n",
      "Epoch 81/100\n",
      "80/84 [===========================>..] - ETA: 0s - loss: 0.0519 - accuracy: 0.9827\n",
      "Epoch 81: val_loss did not improve from 0.04813\n",
      "84/84 [==============================] - 0s 3ms/step - loss: 0.0514 - accuracy: 0.9827 - val_loss: 0.0637 - val_accuracy: 0.9750\n",
      "Epoch 82/100\n",
      "79/84 [===========================>..] - ETA: 0s - loss: 0.0527 - accuracy: 0.9838\n",
      "Epoch 82: val_loss did not improve from 0.04813\n",
      "84/84 [==============================] - 0s 3ms/step - loss: 0.0522 - accuracy: 0.9839 - val_loss: 0.0558 - val_accuracy: 0.9837\n",
      "Epoch 83/100\n",
      "81/84 [===========================>..] - ETA: 0s - loss: 0.0521 - accuracy: 0.9835\n",
      "Epoch 83: val_loss did not improve from 0.04813\n",
      "84/84 [==============================] - 0s 3ms/step - loss: 0.0516 - accuracy: 0.9834 - val_loss: 0.0547 - val_accuracy: 0.9856\n"
     ]
    },
    {
     "name": "stdout",
     "output_type": "stream",
     "text": [
      "Epoch 84/100\n",
      "81/84 [===========================>..] - ETA: 0s - loss: 0.0530 - accuracy: 0.9805\n",
      "Epoch 84: val_loss improved from 0.04813 to 0.04676, saving model to ./data/model_check\\84-0.046764.hdf5\n",
      "84/84 [==============================] - 0s 3ms/step - loss: 0.0523 - accuracy: 0.9808 - val_loss: 0.0468 - val_accuracy: 0.9894\n",
      "Epoch 85/100\n",
      "79/84 [===========================>..] - ETA: 0s - loss: 0.0650 - accuracy: 0.9780\n",
      "Epoch 85: val_loss did not improve from 0.04676\n",
      "84/84 [==============================] - 0s 3ms/step - loss: 0.0660 - accuracy: 0.9779 - val_loss: 0.0544 - val_accuracy: 0.9846\n",
      "Epoch 86/100\n",
      "79/84 [===========================>..] - ETA: 0s - loss: 0.0622 - accuracy: 0.9797\n",
      "Epoch 86: val_loss did not improve from 0.04676\n",
      "84/84 [==============================] - 0s 3ms/step - loss: 0.0627 - accuracy: 0.9793 - val_loss: 0.0492 - val_accuracy: 0.9885\n",
      "Epoch 87/100\n",
      "80/84 [===========================>..] - ETA: 0s - loss: 0.0477 - accuracy: 0.9840\n",
      "Epoch 87: val_loss improved from 0.04676 to 0.04656, saving model to ./data/model_check\\87-0.046562.hdf5\n",
      "84/84 [==============================] - 0s 3ms/step - loss: 0.0504 - accuracy: 0.9836 - val_loss: 0.0466 - val_accuracy: 0.9894\n",
      "Epoch 88/100\n",
      "77/84 [==========================>...] - ETA: 0s - loss: 0.0527 - accuracy: 0.9831\n",
      "Epoch 88: val_loss did not improve from 0.04656\n",
      "84/84 [==============================] - 0s 3ms/step - loss: 0.0504 - accuracy: 0.9839 - val_loss: 0.0469 - val_accuracy: 0.9894\n",
      "Epoch 89/100\n",
      "76/84 [==========================>...] - ETA: 0s - loss: 0.0488 - accuracy: 0.9845\n",
      "Epoch 89: val_loss did not improve from 0.04656\n",
      "84/84 [==============================] - 0s 3ms/step - loss: 0.0494 - accuracy: 0.9844 - val_loss: 0.0575 - val_accuracy: 0.9837\n",
      "Epoch 90/100\n",
      "71/84 [========================>.....] - ETA: 0s - loss: 0.0564 - accuracy: 0.9828\n",
      "Epoch 90: val_loss did not improve from 0.04656\n",
      "84/84 [==============================] - 0s 4ms/step - loss: 0.0537 - accuracy: 0.9839 - val_loss: 0.0472 - val_accuracy: 0.9885\n",
      "Epoch 91/100\n",
      "70/84 [========================>.....] - ETA: 0s - loss: 0.0470 - accuracy: 0.9857\n",
      "Epoch 91: val_loss improved from 0.04656 to 0.04526, saving model to ./data/model_check\\91-0.045258.hdf5\n",
      "84/84 [==============================] - 0s 4ms/step - loss: 0.0491 - accuracy: 0.9858 - val_loss: 0.0453 - val_accuracy: 0.9894\n",
      "Epoch 92/100\n",
      "68/84 [=======================>......] - ETA: 0s - loss: 0.0480 - accuracy: 0.9818\n",
      "Epoch 92: val_loss did not improve from 0.04526\n",
      "84/84 [==============================] - 0s 4ms/step - loss: 0.0511 - accuracy: 0.9815 - val_loss: 0.0556 - val_accuracy: 0.9846\n",
      "Epoch 93/100\n",
      "82/84 [============================>.] - ETA: 0s - loss: 0.0536 - accuracy: 0.9822\n",
      "Epoch 93: val_loss did not improve from 0.04526\n",
      "84/84 [==============================] - 0s 4ms/step - loss: 0.0540 - accuracy: 0.9820 - val_loss: 0.0458 - val_accuracy: 0.9904\n",
      "Epoch 94/100\n",
      "82/84 [============================>.] - ETA: 0s - loss: 0.0515 - accuracy: 0.9841\n",
      "Epoch 94: val_loss did not improve from 0.04526\n",
      "84/84 [==============================] - 0s 4ms/step - loss: 0.0509 - accuracy: 0.9844 - val_loss: 0.0478 - val_accuracy: 0.9885\n",
      "Epoch 95/100\n",
      "78/84 [==========================>...] - ETA: 0s - loss: 0.0741 - accuracy: 0.9733\n",
      "Epoch 95: val_loss did not improve from 0.04526\n",
      "84/84 [==============================] - 0s 4ms/step - loss: 0.0711 - accuracy: 0.9745 - val_loss: 0.0570 - val_accuracy: 0.9856\n",
      "Epoch 96/100\n",
      "72/84 [========================>.....] - ETA: 0s - loss: 0.0601 - accuracy: 0.9789\n",
      "Epoch 96: val_loss did not improve from 0.04526\n",
      "84/84 [==============================] - 0s 4ms/step - loss: 0.0580 - accuracy: 0.9798 - val_loss: 0.0764 - val_accuracy: 0.9760\n",
      "Epoch 97/100\n",
      "71/84 [========================>.....] - ETA: 0s - loss: 0.0509 - accuracy: 0.9834\n",
      "Epoch 97: val_loss did not improve from 0.04526\n",
      "84/84 [==============================] - 0s 4ms/step - loss: 0.0498 - accuracy: 0.9834 - val_loss: 0.0865 - val_accuracy: 0.9702\n",
      "Epoch 98/100\n",
      "70/84 [========================>.....] - ETA: 0s - loss: 0.0637 - accuracy: 0.9797\n",
      "Epoch 98: val_loss did not improve from 0.04526\n",
      "84/84 [==============================] - 0s 4ms/step - loss: 0.0598 - accuracy: 0.9803 - val_loss: 0.0903 - val_accuracy: 0.9760\n",
      "Epoch 99/100\n",
      "69/84 [=======================>......] - ETA: 0s - loss: 0.0524 - accuracy: 0.9826\n",
      "Epoch 99: val_loss improved from 0.04526 to 0.04489, saving model to ./data/model_check\\99-0.044890.hdf5\n",
      "84/84 [==============================] - 0s 4ms/step - loss: 0.0519 - accuracy: 0.9834 - val_loss: 0.0449 - val_accuracy: 0.9885\n",
      "Epoch 100/100\n",
      "70/84 [========================>.....] - ETA: 0s - loss: 0.0441 - accuracy: 0.9854\n",
      "Epoch 100: val_loss did not improve from 0.04489\n",
      "84/84 [==============================] - 0s 4ms/step - loss: 0.0478 - accuracy: 0.9851 - val_loss: 0.0712 - val_accuracy: 0.9808\n"
     ]
    }
   ],
   "source": [
    "history = model.fit(x_train, y_train, validation_split= 0.2, batch_size= 50, epochs=100, callbacks= [checkpointer])\n",
    "# 한 에포크가 끝날때마다 "
   ]
  },
  {
   "cell_type": "code",
   "execution_count": 73,
   "id": "9a81cfd1",
   "metadata": {
    "ExecuteTime": {
     "end_time": "2022-03-16T07:13:20.399258Z",
     "start_time": "2022-03-16T07:13:20.387291Z"
    }
   },
   "outputs": [
    {
     "data": {
      "text/plain": [
       "{'loss': [5.564115524291992,\n",
       "  0.23140081763267517,\n",
       "  0.20453116297721863,\n",
       "  0.20179399847984314,\n",
       "  0.20051699876785278,\n",
       "  0.19770249724388123,\n",
       "  0.19768109917640686,\n",
       "  0.19527791440486908,\n",
       "  0.19305600225925446,\n",
       "  0.19375914335250854,\n",
       "  0.1861114799976349,\n",
       "  0.18160246312618256,\n",
       "  0.16772343218326569,\n",
       "  0.15400047600269318,\n",
       "  0.1374875158071518,\n",
       "  0.12720340490341187,\n",
       "  0.13185624778270721,\n",
       "  0.11630086600780487,\n",
       "  0.10813713073730469,\n",
       "  0.11372558027505875,\n",
       "  0.10234512388706207,\n",
       "  0.09692849218845367,\n",
       "  0.09923221915960312,\n",
       "  0.08762723207473755,\n",
       "  0.08565179258584976,\n",
       "  0.08603063225746155,\n",
       "  0.08005048334598541,\n",
       "  0.07782482355833054,\n",
       "  0.07724923640489578,\n",
       "  0.0789167508482933,\n",
       "  0.09162230044603348,\n",
       "  0.07182350009679794,\n",
       "  0.07673182338476181,\n",
       "  0.06850089877843857,\n",
       "  0.0682917982339859,\n",
       "  0.0688658207654953,\n",
       "  0.07953288406133652,\n",
       "  0.06617726385593414,\n",
       "  0.06663692742586136,\n",
       "  0.06339521706104279,\n",
       "  0.06802722066640854,\n",
       "  0.0653359517455101,\n",
       "  0.06698566675186157,\n",
       "  0.06522588431835175,\n",
       "  0.059845246374607086,\n",
       "  0.06509890407323837,\n",
       "  0.058759499341249466,\n",
       "  0.07450886815786362,\n",
       "  0.055091001093387604,\n",
       "  0.06387226283550262,\n",
       "  0.059276238083839417,\n",
       "  0.06357252597808838,\n",
       "  0.06237092614173889,\n",
       "  0.05778786912560463,\n",
       "  0.06038767099380493,\n",
       "  0.05542024224996567,\n",
       "  0.05954571068286896,\n",
       "  0.060638003051280975,\n",
       "  0.05895574390888214,\n",
       "  0.05438060313463211,\n",
       "  0.06631787866353989,\n",
       "  0.059073176234960556,\n",
       "  0.05792081356048584,\n",
       "  0.06432079523801804,\n",
       "  0.05545508489012718,\n",
       "  0.05593569576740265,\n",
       "  0.05203695222735405,\n",
       "  0.05760866403579712,\n",
       "  0.05516840144991875,\n",
       "  0.05094759166240692,\n",
       "  0.054842449724674225,\n",
       "  0.05124852806329727,\n",
       "  0.050374072045087814,\n",
       "  0.055136438459157944,\n",
       "  0.05664703622460365,\n",
       "  0.05278743803501129,\n",
       "  0.049711719155311584,\n",
       "  0.053462643176317215,\n",
       "  0.04949783906340599,\n",
       "  0.052931029349565506,\n",
       "  0.05137704312801361,\n",
       "  0.05217156559228897,\n",
       "  0.051576416939496994,\n",
       "  0.05234154313802719,\n",
       "  0.06598593294620514,\n",
       "  0.06273218244314194,\n",
       "  0.0503799244761467,\n",
       "  0.05043961480259895,\n",
       "  0.049406569451093674,\n",
       "  0.05374687537550926,\n",
       "  0.04911094903945923,\n",
       "  0.05106906220316887,\n",
       "  0.05396869778633118,\n",
       "  0.05094904452562332,\n",
       "  0.07111714035272598,\n",
       "  0.05804860219359398,\n",
       "  0.049848996102809906,\n",
       "  0.05976593494415283,\n",
       "  0.05190965160727501,\n",
       "  0.04780305549502373],\n",
       " 'accuracy': [0.5159971117973328,\n",
       "  0.919653594493866,\n",
       "  0.9316815137863159,\n",
       "  0.933605968952179,\n",
       "  0.9328842759132385,\n",
       "  0.9343276619911194,\n",
       "  0.933605968952179,\n",
       "  0.935049295425415,\n",
       "  0.9333654046058655,\n",
       "  0.9367332458496094,\n",
       "  0.935049295425415,\n",
       "  0.9376954436302185,\n",
       "  0.940341591835022,\n",
       "  0.9434688687324524,\n",
       "  0.9492422342300415,\n",
       "  0.9509261250495911,\n",
       "  0.953331708908081,\n",
       "  0.9559778571128845,\n",
       "  0.958142876625061,\n",
       "  0.9619918465614319,\n",
       "  0.9641568660736084,\n",
       "  0.964878499507904,\n",
       "  0.9689680337905884,\n",
       "  0.9737791419029236,\n",
       "  0.9723358154296875,\n",
       "  0.972095251083374,\n",
       "  0.974981963634491,\n",
       "  0.9757036566734314,\n",
       "  0.9730575084686279,\n",
       "  0.974500834941864,\n",
       "  0.9692085385322571,\n",
       "  0.9761847257614136,\n",
       "  0.9732980728149414,\n",
       "  0.977387547492981,\n",
       "  0.976425290107727,\n",
       "  0.9776281118392944,\n",
       "  0.972576379776001,\n",
       "  0.9776281118392944,\n",
       "  0.979793131351471,\n",
       "  0.9807553291320801,\n",
       "  0.9757036566734314,\n",
       "  0.9761847257614136,\n",
       "  0.978830873966217,\n",
       "  0.9805147647857666,\n",
       "  0.9795525670051575,\n",
       "  0.9802742600440979,\n",
       "  0.981236457824707,\n",
       "  0.9766658544540405,\n",
       "  0.9826798439025879,\n",
       "  0.9790714383125305,\n",
       "  0.979793131351471,\n",
       "  0.9802742600440979,\n",
       "  0.9805147647857666,\n",
       "  0.9819581508636475,\n",
       "  0.979793131351471,\n",
       "  0.9838826060295105,\n",
       "  0.9802742600440979,\n",
       "  0.9821987152099609,\n",
       "  0.9814770221710205,\n",
       "  0.983642041683197,\n",
       "  0.979793131351471,\n",
       "  0.9795525670051575,\n",
       "  0.981236457824707,\n",
       "  0.9800336956977844,\n",
       "  0.981717586517334,\n",
       "  0.9819581508636475,\n",
       "  0.9838826060295105,\n",
       "  0.9805147647857666,\n",
       "  0.9807553291320801,\n",
       "  0.983642041683197,\n",
       "  0.9809958934783936,\n",
       "  0.9846042990684509,\n",
       "  0.983642041683197,\n",
       "  0.9800336956977844,\n",
       "  0.9814770221710205,\n",
       "  0.9834014773368835,\n",
       "  0.9850854277610779,\n",
       "  0.984123170375824,\n",
       "  0.9850854277610779,\n",
       "  0.9819581508636475,\n",
       "  0.9826798439025879,\n",
       "  0.9838826060295105,\n",
       "  0.9834014773368835,\n",
       "  0.9807553291320801,\n",
       "  0.9778686761856079,\n",
       "  0.979312002658844,\n",
       "  0.983642041683197,\n",
       "  0.9838826060295105,\n",
       "  0.9843637347221375,\n",
       "  0.9838826060295105,\n",
       "  0.9858070611953735,\n",
       "  0.9814770221710205,\n",
       "  0.9819581508636475,\n",
       "  0.9843637347221375,\n",
       "  0.974500834941864,\n",
       "  0.979793131351471,\n",
       "  0.9834014773368835,\n",
       "  0.9802742600440979,\n",
       "  0.9834014773368835,\n",
       "  0.9850854277610779],\n",
       " 'val_loss': [0.29754921793937683,\n",
       "  0.18730340898036957,\n",
       "  0.1868259161710739,\n",
       "  0.18117626011371613,\n",
       "  0.18103648722171783,\n",
       "  0.17763668298721313,\n",
       "  0.17637616395950317,\n",
       "  0.17867697775363922,\n",
       "  0.17633295059204102,\n",
       "  0.1737843006849289,\n",
       "  0.16947276890277863,\n",
       "  0.1605376899242401,\n",
       "  0.15000486373901367,\n",
       "  0.13148128986358643,\n",
       "  0.1305801272392273,\n",
       "  0.11420746147632599,\n",
       "  0.12478404492139816,\n",
       "  0.10432246327400208,\n",
       "  0.10861344635486603,\n",
       "  0.108681321144104,\n",
       "  0.09823057055473328,\n",
       "  0.0933150127530098,\n",
       "  0.08527766168117523,\n",
       "  0.08390506356954575,\n",
       "  0.07908584922552109,\n",
       "  0.09184172749519348,\n",
       "  0.07594045996665955,\n",
       "  0.07322224229574203,\n",
       "  0.08516422659158707,\n",
       "  0.10490629076957703,\n",
       "  0.07070882618427277,\n",
       "  0.06610231101512909,\n",
       "  0.0696529820561409,\n",
       "  0.10698182135820389,\n",
       "  0.06578771024942398,\n",
       "  0.06217384338378906,\n",
       "  0.07859624177217484,\n",
       "  0.062131449580192566,\n",
       "  0.08391475677490234,\n",
       "  0.06492343544960022,\n",
       "  0.05868813395500183,\n",
       "  0.07010359317064285,\n",
       "  0.061005599796772,\n",
       "  0.058772869408130646,\n",
       "  0.055295057594776154,\n",
       "  0.05594778433442116,\n",
       "  0.12983393669128418,\n",
       "  0.057809218764305115,\n",
       "  0.07288145273923874,\n",
       "  0.07854390144348145,\n",
       "  0.0609949491918087,\n",
       "  0.06632007658481598,\n",
       "  0.054645780473947525,\n",
       "  0.05506998673081398,\n",
       "  0.06936483085155487,\n",
       "  0.054525699466466904,\n",
       "  0.05752253532409668,\n",
       "  0.07109451293945312,\n",
       "  0.05419836565852165,\n",
       "  0.08000636845827103,\n",
       "  0.05150768905878067,\n",
       "  0.07988610863685608,\n",
       "  0.053081028163433075,\n",
       "  0.049767494201660156,\n",
       "  0.05070257931947708,\n",
       "  0.05058205500245094,\n",
       "  0.05207256227731705,\n",
       "  0.06125707924365997,\n",
       "  0.05400468781590462,\n",
       "  0.07615764439105988,\n",
       "  0.06940798461437225,\n",
       "  0.075135737657547,\n",
       "  0.051091957837343216,\n",
       "  0.053017787635326385,\n",
       "  0.06991110742092133,\n",
       "  0.05122650787234306,\n",
       "  0.05526728928089142,\n",
       "  0.055373191833496094,\n",
       "  0.11062115430831909,\n",
       "  0.04813195765018463,\n",
       "  0.06372770667076111,\n",
       "  0.0558207631111145,\n",
       "  0.05466142296791077,\n",
       "  0.04676445573568344,\n",
       "  0.054392509162425995,\n",
       "  0.04922690615057945,\n",
       "  0.046562206000089645,\n",
       "  0.04693809896707535,\n",
       "  0.05751115083694458,\n",
       "  0.04721808061003685,\n",
       "  0.04525754600763321,\n",
       "  0.05559887737035751,\n",
       "  0.04577614367008209,\n",
       "  0.047795966267585754,\n",
       "  0.05701831355690956,\n",
       "  0.07637764513492584,\n",
       "  0.08646683394908905,\n",
       "  0.09031391143798828,\n",
       "  0.04488959163427353,\n",
       "  0.07116855680942535],\n",
       " 'val_accuracy': [0.8846153616905212,\n",
       "  0.9365384578704834,\n",
       "  0.9355769157409668,\n",
       "  0.9365384578704834,\n",
       "  0.9375,\n",
       "  0.9384615421295166,\n",
       "  0.9384615421295166,\n",
       "  0.9365384578704834,\n",
       "  0.9384615421295166,\n",
       "  0.9394230842590332,\n",
       "  0.9394230842590332,\n",
       "  0.9490384459495544,\n",
       "  0.9509615302085876,\n",
       "  0.949999988079071,\n",
       "  0.9480769038200378,\n",
       "  0.9624999761581421,\n",
       "  0.9490384459495544,\n",
       "  0.9663461446762085,\n",
       "  0.9596154093742371,\n",
       "  0.9586538672447205,\n",
       "  0.9701923131942749,\n",
       "  0.9692307710647583,\n",
       "  0.9798076748847961,\n",
       "  0.9769230484962463,\n",
       "  0.9798076748847961,\n",
       "  0.9721153974533081,\n",
       "  0.9788461327552795,\n",
       "  0.9788461327552795,\n",
       "  0.9778845906257629,\n",
       "  0.9663461446762085,\n",
       "  0.9798076748847961,\n",
       "  0.9817307591438293,\n",
       "  0.9769230484962463,\n",
       "  0.9663461446762085,\n",
       "  0.9807692170143127,\n",
       "  0.982692301273346,\n",
       "  0.9759615659713745,\n",
       "  0.9807692170143127,\n",
       "  0.9759615659713745,\n",
       "  0.9798076748847961,\n",
       "  0.9846153855323792,\n",
       "  0.9807692170143127,\n",
       "  0.9836538434028625,\n",
       "  0.9817307591438293,\n",
       "  0.9846153855323792,\n",
       "  0.9846153855323792,\n",
       "  0.9615384340286255,\n",
       "  0.9817307591438293,\n",
       "  0.9788461327552795,\n",
       "  0.9778845906257629,\n",
       "  0.9817307591438293,\n",
       "  0.9807692170143127,\n",
       "  0.987500011920929,\n",
       "  0.9855769276618958,\n",
       "  0.9798076748847961,\n",
       "  0.9846153855323792,\n",
       "  0.9846153855323792,\n",
       "  0.9778845906257629,\n",
       "  0.9855769276618958,\n",
       "  0.9740384817123413,\n",
       "  0.9865384697914124,\n",
       "  0.9778845906257629,\n",
       "  0.9846153855323792,\n",
       "  0.9894230961799622,\n",
       "  0.987500011920929,\n",
       "  0.9884615540504456,\n",
       "  0.987500011920929,\n",
       "  0.9817307591438293,\n",
       "  0.9846153855323792,\n",
       "  0.9807692170143127,\n",
       "  0.9807692170143127,\n",
       "  0.9798076748847961,\n",
       "  0.9865384697914124,\n",
       "  0.987500011920929,\n",
       "  0.9807692170143127,\n",
       "  0.9865384697914124,\n",
       "  0.982692301273346,\n",
       "  0.9846153855323792,\n",
       "  0.9711538553237915,\n",
       "  0.987500011920929,\n",
       "  0.9750000238418579,\n",
       "  0.9836538434028625,\n",
       "  0.9855769276618958,\n",
       "  0.9894230961799622,\n",
       "  0.9846153855323792,\n",
       "  0.9884615540504456,\n",
       "  0.9894230961799622,\n",
       "  0.9894230961799622,\n",
       "  0.9836538434028625,\n",
       "  0.9884615540504456,\n",
       "  0.9894230961799622,\n",
       "  0.9846153855323792,\n",
       "  0.9903846383094788,\n",
       "  0.9884615540504456,\n",
       "  0.9855769276618958,\n",
       "  0.9759615659713745,\n",
       "  0.9701923131942749,\n",
       "  0.9759615659713745,\n",
       "  0.9884615540504456,\n",
       "  0.9807692170143127]}"
      ]
     },
     "execution_count": 73,
     "metadata": {},
     "output_type": "execute_result"
    }
   ],
   "source": [
    "history.history"
   ]
  },
  {
   "cell_type": "code",
   "execution_count": 74,
   "id": "14f7bd65",
   "metadata": {
    "ExecuteTime": {
     "end_time": "2022-03-16T07:13:27.091673Z",
     "start_time": "2022-03-16T07:13:26.996313Z"
    }
   },
   "outputs": [
    {
     "data": {
      "text/plain": [
       "[<matplotlib.lines.Line2D at 0x1b7c3e24d90>]"
      ]
     },
     "execution_count": 74,
     "metadata": {},
     "output_type": "execute_result"
    },
    {
     "data": {
      "image/png": "[encoded data removed]",
      "text/plain": [
       "<Figure size 432x288 with 1 Axes>"
      ]
     },
     "metadata": {
      "needs_background": "light"
     },
     "output_type": "display_data"
    }
   ],
   "source": [
    "plt.plot(history.history['loss'])\n",
    "plt.plot(history.history['val_loss'])"
   ]
  },
  {
   "cell_type": "code",
   "execution_count": 75,
   "id": "ff5f40f2",
   "metadata": {
    "ExecuteTime": {
     "end_time": "2022-03-16T07:13:29.521555Z",
     "start_time": "2022-03-16T07:13:29.315109Z"
    }
   },
   "outputs": [
    {
     "data": {
      "text/plain": [
       "[<matplotlib.lines.Line2D at 0x1b7c3415d90>]"
      ]
     },
     "execution_count": 75,
     "metadata": {},
     "output_type": "execute_result"
    },
    {
     "data": {
      "image/png": "[encoded data removed]",
      "text/plain": [
       "<Figure size 432x288 with 1 Axes>"
      ]
     },
     "metadata": {
      "needs_background": "light"
     },
     "output_type": "display_data"
    }
   ],
   "source": [
    "plt.plot(history.history['accuracy'])\n",
    "plt.plot(history.history['val_accuracy'])"
   ]
  },
  {
   "cell_type": "code",
   "execution_count": null,
   "id": "f24cb883",
   "metadata": {},
   "outputs": [],
   "source": []
  },
  {
   "cell_type": "markdown",
   "id": "8f8c26d7",
   "metadata": {
    "ExecuteTime": {
     "end_time": "2022-03-16T07:13:31.914330Z",
     "start_time": "2022-03-16T07:13:31.906352Z"
    }
   },
   "source": [
    "## early stopping"
   ]
  },
  {
   "cell_type": "code",
   "execution_count": 77,
   "id": "0c426a3e",
   "metadata": {
    "ExecuteTime": {
     "end_time": "2022-03-16T07:13:32.244849Z",
     "start_time": "2022-03-16T07:13:32.226913Z"
    }
   },
   "outputs": [],
   "source": [
    "from tensorflow.keras.callbacks import EarlyStopping"
   ]
  },
  {
   "cell_type": "code",
   "execution_count": 78,
   "id": "fe35ecd2",
   "metadata": {
    "ExecuteTime": {
     "end_time": "2022-03-16T07:13:32.604641Z",
     "start_time": "2022-03-16T07:13:32.595665Z"
    }
   },
   "outputs": [],
   "source": [
    "early_stopping_callback = EarlyStopping(monitor ='val_loss', patience =10)"
   ]
  },
  {
   "cell_type": "code",
   "execution_count": 79,
   "id": "3df39aa3",
   "metadata": {
    "ExecuteTime": {
     "end_time": "2022-03-16T07:13:37.921623Z",
     "start_time": "2022-03-16T07:13:33.010932Z"
    },
    "collapsed": true
   },
   "outputs": [
    {
     "name": "stdout",
     "output_type": "stream",
     "text": [
      "Epoch 1/100\n",
      "71/84 [========================>.....] - ETA: 0s - loss: 0.0447 - accuracy: 0.9856\n",
      "Epoch 1: val_loss did not improve from 0.04489\n",
      "84/84 [==============================] - 0s 5ms/step - loss: 0.0481 - accuracy: 0.9844 - val_loss: 0.0460 - val_accuracy: 0.9885\n",
      "Epoch 2/100\n",
      "80/84 [===========================>..] - ETA: 0s - loss: 0.0455 - accuracy: 0.9875\n",
      "Epoch 2: val_loss did not improve from 0.04489\n",
      "84/84 [==============================] - 0s 5ms/step - loss: 0.0451 - accuracy: 0.9875 - val_loss: 0.0456 - val_accuracy: 0.9894\n",
      "Epoch 3/100\n",
      "82/84 [============================>.] - ETA: 0s - loss: 0.0497 - accuracy: 0.9817\n",
      "Epoch 3: val_loss did not improve from 0.04489\n",
      "84/84 [==============================] - 0s 5ms/step - loss: 0.0491 - accuracy: 0.9820 - val_loss: 0.0457 - val_accuracy: 0.9894\n",
      "Epoch 4/100\n",
      "73/84 [=========================>....] - ETA: 0s - loss: 0.0436 - accuracy: 0.9866\n",
      "Epoch 4: val_loss did not improve from 0.04489\n",
      "84/84 [==============================] - 0s 5ms/step - loss: 0.0441 - accuracy: 0.9858 - val_loss: 0.0451 - val_accuracy: 0.9894\n",
      "Epoch 5/100\n",
      "84/84 [==============================] - ETA: 0s - loss: 0.0455 - accuracy: 0.9844\n",
      "Epoch 5: val_loss did not improve from 0.04489\n",
      "84/84 [==============================] - 0s 4ms/step - loss: 0.0455 - accuracy: 0.9844 - val_loss: 0.0451 - val_accuracy: 0.9894\n",
      "Epoch 6/100\n",
      "69/84 [=======================>......] - ETA: 0s - loss: 0.0545 - accuracy: 0.9829\n",
      "Epoch 6: val_loss did not improve from 0.04489\n",
      "84/84 [==============================] - 0s 4ms/step - loss: 0.0504 - accuracy: 0.9846 - val_loss: 0.0499 - val_accuracy: 0.9875\n",
      "Epoch 7/100\n",
      "70/84 [========================>.....] - ETA: 0s - loss: 0.0513 - accuracy: 0.9863\n",
      "Epoch 7: val_loss did not improve from 0.04489\n",
      "84/84 [==============================] - 0s 4ms/step - loss: 0.0483 - accuracy: 0.9868 - val_loss: 0.0493 - val_accuracy: 0.9856\n",
      "Epoch 8/100\n",
      "73/84 [=========================>....] - ETA: 0s - loss: 0.0516 - accuracy: 0.9819\n",
      "Epoch 8: val_loss did not improve from 0.04489\n",
      "84/84 [==============================] - 0s 3ms/step - loss: 0.0512 - accuracy: 0.9817 - val_loss: 0.0642 - val_accuracy: 0.9808\n",
      "Epoch 9/100\n",
      "70/84 [========================>.....] - ETA: 0s - loss: 0.0487 - accuracy: 0.9843\n",
      "Epoch 9: val_loss did not improve from 0.04489\n",
      "84/84 [==============================] - 0s 4ms/step - loss: 0.0493 - accuracy: 0.9839 - val_loss: 0.0630 - val_accuracy: 0.9808\n",
      "Epoch 10/100\n",
      "84/84 [==============================] - ETA: 0s - loss: 0.0479 - accuracy: 0.9863\n",
      "Epoch 10: val_loss did not improve from 0.04489\n",
      "84/84 [==============================] - 0s 4ms/step - loss: 0.0479 - accuracy: 0.9863 - val_loss: 0.0482 - val_accuracy: 0.9885\n",
      "Epoch 11/100\n",
      "69/84 [=======================>......] - ETA: 0s - loss: 0.0413 - accuracy: 0.9867\n",
      "Epoch 11: val_loss did not improve from 0.04489\n",
      "84/84 [==============================] - 0s 4ms/step - loss: 0.0431 - accuracy: 0.9858 - val_loss: 0.0518 - val_accuracy: 0.9865\n",
      "Epoch 12/100\n",
      "82/84 [============================>.] - ETA: 0s - loss: 0.0494 - accuracy: 0.9834\n",
      "Epoch 12: val_loss did not improve from 0.04489\n",
      "84/84 [==============================] - 0s 4ms/step - loss: 0.0504 - accuracy: 0.9829 - val_loss: 0.0486 - val_accuracy: 0.9865\n",
      "Epoch 13/100\n",
      "83/84 [============================>.] - ETA: 0s - loss: 0.0874 - accuracy: 0.9699\n",
      "Epoch 13: val_loss did not improve from 0.04489\n",
      "84/84 [==============================] - 0s 4ms/step - loss: 0.0874 - accuracy: 0.9699 - val_loss: 0.0685 - val_accuracy: 0.9779\n",
      "Epoch 14/100\n",
      "84/84 [==============================] - ETA: 0s - loss: 0.0495 - accuracy: 0.9836\n",
      "Epoch 14: val_loss did not improve from 0.04489\n",
      "84/84 [==============================] - 0s 4ms/step - loss: 0.0495 - accuracy: 0.9836 - val_loss: 0.0458 - val_accuracy: 0.9894\n"
     ]
    }
   ],
   "source": [
    "# callbacks 변수에 early_stopping 추가\n",
    "history = model.fit(x_train, y_train, validation_split=0.2 , batch_size=50, epochs=100,\\\n",
    "                   callbacks= [checkpointer,early_stopping_callback])"
   ]
  },
  {
   "cell_type": "code",
   "execution_count": 80,
   "id": "b42b22bf",
   "metadata": {
    "ExecuteTime": {
     "end_time": "2022-03-16T07:13:48.530130Z",
     "start_time": "2022-03-16T07:13:48.436640Z"
    }
   },
   "outputs": [
    {
     "data": {
      "text/plain": [
       "[<matplotlib.lines.Line2D at 0x1b61aa2f370>]"
      ]
     },
     "execution_count": 80,
     "metadata": {},
     "output_type": "execute_result"
    },
    {
     "data": {
      "image/png": "[encoded data removed]",
      "text/plain": [
       "<Figure size 432x288 with 1 Axes>"
      ]
     },
     "metadata": {
      "needs_background": "light"
     },
     "output_type": "display_data"
    }
   ],
   "source": [
    "plt.plot(history.history['loss'])\n",
    "plt.plot(history.history['val_loss'])"
   ]
  },
  {
   "cell_type": "code",
   "execution_count": 81,
   "id": "61e36ab6",
   "metadata": {
    "ExecuteTime": {
     "end_time": "2022-03-16T07:14:00.545018Z",
     "start_time": "2022-03-16T07:14:00.451864Z"
    }
   },
   "outputs": [
    {
     "data": {
      "text/plain": [
       "[<matplotlib.lines.Line2D at 0x1b7c33e4c40>]"
      ]
     },
     "execution_count": 81,
     "metadata": {},
     "output_type": "execute_result"
    },
    {
     "data": {
      "image/png": "[encoded data removed]",
      "text/plain": [
       "<Figure size 432x288 with 1 Axes>"
      ]
     },
     "metadata": {
      "needs_background": "light"
     },
     "output_type": "display_data"
    }
   ],
   "source": [
    "plt.plot(history.history['accuracy'])\n",
    "plt.plot(history.history['val_accuracy'])"
   ]
  },
  {
   "cell_type": "code",
   "execution_count": null,
   "id": "6c53ba46",
   "metadata": {},
   "outputs": [],
   "source": []
  }
 ],
 "metadata": {
  "kernelspec": {
   "display_name": "Python 3 (ipykernel)",
   "language": "python",
   "name": "python3"
  },
  "language_info": {
   "codemirror_mode": {
    "name": "ipython",
    "version": 3
   },
   "file_extension": ".py",
   "mimetype": "text/x-python",
   "name": "python",
   "nbconvert_exporter": "python",
   "pygments_lexer": "ipython3",
   "version": "3.9.7"
  },
  "toc": {
   "base_numbering": 1,
   "nav_menu": {},
   "number_sections": true,
   "sideBar": true,
   "skip_h1_title": false,
   "title_cell": "Table of Contents",
   "title_sidebar": "Contents",
   "toc_cell": false,
   "toc_position": {},
   "toc_section_display": true,
   "toc_window_display": false
  },
  "varInspector": {
   "cols": {
    "lenName": 16,
    "lenType": 16,
    "lenVar": 40
   },
   "kernels_config": {
    "python": {
     "delete_cmd_postfix": "",
     "delete_cmd_prefix": "del ",
     "library": "var_list.py",
     "varRefreshCmd": "print(var_dic_list())"
    },
    "r": {
     "delete_cmd_postfix": ") ",
     "delete_cmd_prefix": "rm(",
     "library": "var_list.r",
     "varRefreshCmd": "cat(var_dic_list()) "
    }
   },
   "types_to_exclude": [
    "module",
    "function",
    "builtin_function_or_method",
    "instance",
    "_Feature"
   ],
   "window_display": false
  }
 },
 "nbformat": 4,
 "nbformat_minor": 5
}
