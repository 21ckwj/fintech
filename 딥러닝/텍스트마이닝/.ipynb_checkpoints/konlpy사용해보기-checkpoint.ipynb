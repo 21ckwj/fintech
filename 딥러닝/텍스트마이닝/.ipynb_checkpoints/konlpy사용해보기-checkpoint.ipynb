{
 "cells": [
  {
   "cell_type": "code",
   "execution_count": 1,
   "id": "fbf16401",
   "metadata": {
    "ExecuteTime": {
     "end_time": "2022-04-05T03:37:49.222696Z",
     "start_time": "2022-04-05T03:37:49.215715Z"
    }
   },
   "outputs": [],
   "source": [
    "# 한글 처리 => 형태소 단위 처리 => 형태소 분석기 => konlpy\n",
    "# 형태소 : 문장에서 의미를 갖는 가장 작은 단위\n",
    "# 형태소 분석기 : "
   ]
  },
  {
   "cell_type": "code",
   "execution_count": 2,
   "id": "96cff94e",
   "metadata": {
    "ExecuteTime": {
     "end_time": "2022-04-05T03:38:51.619899Z",
     "start_time": "2022-04-05T03:38:51.615910Z"
    }
   },
   "outputs": [],
   "source": [
    "# 1. java 다운 jdk설치\n"
   ]
  },
  {
   "cell_type": "code",
   "execution_count": null,
   "id": "b8ff70d9",
   "metadata": {},
   "outputs": [],
   "source": []
  },
  {
   "cell_type": "code",
   "execution_count": 1,
   "id": "d258ca9d",
   "metadata": {
    "ExecuteTime": {
     "end_time": "2022-04-05T05:10:55.041810Z",
     "start_time": "2022-04-05T05:10:55.026850Z"
    }
   },
   "outputs": [],
   "source": [
    "# !pip install konlpy"
   ]
  },
  {
   "cell_type": "code",
   "execution_count": 2,
   "id": "e9d54b26",
   "metadata": {
    "ExecuteTime": {
     "end_time": "2022-04-05T05:26:21.987284Z",
     "start_time": "2022-04-05T05:26:21.971294Z"
    },
    "scrolled": true
   },
   "outputs": [],
   "source": [
    "import konlpy"
   ]
  },
  {
   "cell_type": "code",
   "execution_count": 3,
   "id": "7647e0e2",
   "metadata": {
    "ExecuteTime": {
     "end_time": "2022-04-05T05:26:22.496890Z",
     "start_time": "2022-04-05T05:26:22.483955Z"
    }
   },
   "outputs": [],
   "source": [
    "from konlpy.tag import Hannanum, Kkma, Komoran"
   ]
  },
  {
   "cell_type": "code",
   "execution_count": 4,
   "id": "f54e5624",
   "metadata": {
    "ExecuteTime": {
     "end_time": "2022-04-05T05:26:24.792752Z",
     "start_time": "2022-04-05T05:26:22.914773Z"
    }
   },
   "outputs": [],
   "source": [
    "kor = Komoran()"
   ]
  },
  {
   "cell_type": "code",
   "execution_count": 5,
   "id": "5671da14",
   "metadata": {
    "ExecuteTime": {
     "end_time": "2022-04-05T05:32:28.476790Z",
     "start_time": "2022-04-05T05:32:28.467814Z"
    }
   },
   "outputs": [],
   "source": [
    "text = \"배달이 친구들 지금 뭐해?\" "
   ]
  },
  {
   "cell_type": "code",
   "execution_count": 6,
   "id": "e94ce7ce",
   "metadata": {
    "ExecuteTime": {
     "end_time": "2022-04-05T05:32:42.202101Z",
     "start_time": "2022-04-05T05:32:42.083417Z"
    }
   },
   "outputs": [
    {
     "data": {
      "text/plain": [
       "['배달', '이', '친구', '들', '지금', '뭐', '하', '아', '?']"
      ]
     },
     "execution_count": 6,
     "metadata": {},
     "output_type": "execute_result"
    }
   ],
   "source": [
    "kor.morphs(text)"
   ]
  },
  {
   "cell_type": "code",
   "execution_count": null,
   "id": "74d31783",
   "metadata": {},
   "outputs": [],
   "source": []
  },
  {
   "cell_type": "code",
   "execution_count": null,
   "id": "4a0c2c87",
   "metadata": {},
   "outputs": [],
   "source": []
  },
  {
   "cell_type": "code",
   "execution_count": null,
   "id": "a0fa8aaa",
   "metadata": {},
   "outputs": [],
   "source": []
  },
  {
   "cell_type": "code",
   "execution_count": null,
   "id": "9bc65dcc",
   "metadata": {},
   "outputs": [],
   "source": []
  }
 ],
 "metadata": {
  "kernelspec": {
   "display_name": "Python 3 (ipykernel)",
   "language": "python",
   "name": "python3"
  },
  "language_info": {
   "codemirror_mode": {
    "name": "ipython",
    "version": 3
   },
   "file_extension": ".py",
   "mimetype": "text/x-python",
   "name": "python",
   "nbconvert_exporter": "python",
   "pygments_lexer": "ipython3",
   "version": "3.9.7"
  },
  "toc": {
   "base_numbering": 1,
   "nav_menu": {},
   "number_sections": true,
   "sideBar": true,
   "skip_h1_title": false,
   "title_cell": "Table of Contents",
   "title_sidebar": "Contents",
   "toc_cell": false,
   "toc_position": {},
   "toc_section_display": true,
   "toc_window_display": false
  },
  "varInspector": {
   "cols": {
    "lenName": 16,
    "lenType": 16,
    "lenVar": 40
   },
   "kernels_config": {
    "python": {
     "delete_cmd_postfix": "",
     "delete_cmd_prefix": "del ",
     "library": "var_list.py",
     "varRefreshCmd": "print(var_dic_list())"
    },
    "r": {
     "delete_cmd_postfix": ") ",
     "delete_cmd_prefix": "rm(",
     "library": "var_list.r",
     "varRefreshCmd": "cat(var_dic_list()) "
    }
   },
   "types_to_exclude": [
    "module",
    "function",
    "builtin_function_or_method",
    "instance",
    "_Feature"
   ],
   "window_display": false
  }
 },
 "nbformat": 4,
 "nbformat_minor": 5
}
