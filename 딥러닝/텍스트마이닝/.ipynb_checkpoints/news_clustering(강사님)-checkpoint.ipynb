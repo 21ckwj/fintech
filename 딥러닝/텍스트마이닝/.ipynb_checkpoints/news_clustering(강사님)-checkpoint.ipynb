{
 "cells": [
  {
   "cell_type": "code",
   "execution_count": 17,
   "id": "89adf83f",
   "metadata": {
    "ExecuteTime": {
     "end_time": "2022-04-06T05:45:42.707589Z",
     "start_time": "2022-04-06T05:45:42.411317Z"
    }
   },
   "outputs": [],
   "source": [
    "import pandas as pd\n",
    "import numpy as np\n",
    "import requests\n",
    "from bs4 import BeautifulSoup"
   ]
  },
  {
   "cell_type": "code",
   "execution_count": 2,
   "id": "8f8a3c1c",
   "metadata": {
    "ExecuteTime": {
     "end_time": "2022-04-06T05:45:11.966280Z",
     "start_time": "2022-04-06T05:45:11.946333Z"
    }
   },
   "outputs": [
    {
     "data": {
      "text/plain": [
       "'https://news.daum.net/economic#1'"
      ]
     },
     "execution_count": 2,
     "metadata": {},
     "output_type": "execute_result"
    }
   ],
   "source": [
    "cate = 'economic'  # politics, society\n",
    "url = 'https://news.daum.net/{}#1'.format(cate)\n",
    "url"
   ]
  },
  {
   "cell_type": "code",
   "execution_count": null,
   "id": "03d089a4",
   "metadata": {},
   "outputs": [],
   "source": []
  },
  {
   "cell_type": "code",
   "execution_count": 3,
   "id": "994258ea",
   "metadata": {
    "ExecuteTime": {
     "end_time": "2022-04-06T05:45:12.482662Z",
     "start_time": "2022-04-06T05:45:12.363519Z"
    }
   },
   "outputs": [],
   "source": [
    "res = requests.get(url)"
   ]
  },
  {
   "cell_type": "code",
   "execution_count": 4,
   "id": "772e17b4",
   "metadata": {
    "ExecuteTime": {
     "end_time": "2022-04-06T05:45:12.607358Z",
     "start_time": "2022-04-06T05:45:12.587137Z"
    }
   },
   "outputs": [],
   "source": [
    "path = 'body > div.container-doc.cont-category > main > section > div.main-sub > div.box_g.box_news_major > ul > li'\n",
    "\n",
    "soup = BeautifulSoup(res.text)\n",
    "lis = soup.select(path)"
   ]
  },
  {
   "cell_type": "code",
   "execution_count": 5,
   "id": "c7c06fed",
   "metadata": {
    "ExecuteTime": {
     "end_time": "2022-04-06T05:45:12.811564Z",
     "start_time": "2022-04-06T05:45:12.795638Z"
    }
   },
   "outputs": [
    {
     "data": {
      "text/plain": [
       "['https://v.daum.net/v/20220406143530218',\n",
       " 'https://v.daum.net/v/20220406142740794',\n",
       " 'https://v.daum.net/v/20220406142800805',\n",
       " 'https://v.daum.net/v/20220406142605718',\n",
       " 'https://v.daum.net/v/20220406142416634',\n",
       " 'https://v.daum.net/v/20220406142402604',\n",
       " 'https://v.daum.net/v/20220406142307556',\n",
       " 'https://v.daum.net/v/20220406142304555',\n",
       " 'https://v.daum.net/v/20220406141938388',\n",
       " 'https://v.daum.net/v/20220406141903375']"
      ]
     },
     "execution_count": 5,
     "metadata": {},
     "output_type": "execute_result"
    }
   ],
   "source": [
    "news_urls = []\n",
    "for li in lis:\n",
    "    news_url = li.select('a')[0]['href']\n",
    "    news_urls.append(news_url)\n",
    "news_urls"
   ]
  },
  {
   "cell_type": "code",
   "execution_count": 6,
   "id": "0bcd472b",
   "metadata": {
    "ExecuteTime": {
     "end_time": "2022-04-06T05:45:12.999383Z",
     "start_time": "2022-04-06T05:45:12.986419Z"
    }
   },
   "outputs": [
    {
     "data": {
      "text/plain": [
       "'https://v.daum.net/v/20220406143530218'"
      ]
     },
     "execution_count": 6,
     "metadata": {},
     "output_type": "execute_result"
    }
   ],
   "source": [
    "news_urls[0]"
   ]
  },
  {
   "cell_type": "code",
   "execution_count": 7,
   "id": "362d5ba9",
   "metadata": {
    "ExecuteTime": {
     "end_time": "2022-04-06T05:45:13.344324Z",
     "start_time": "2022-04-06T05:45:13.195628Z"
    }
   },
   "outputs": [],
   "source": [
    "res1 = requests.get(news_urls[0])"
   ]
  },
  {
   "cell_type": "code",
   "execution_count": 8,
   "id": "52b28d4b",
   "metadata": {
    "ExecuteTime": {
     "end_time": "2022-04-06T05:45:13.454278Z",
     "start_time": "2022-04-06T05:45:13.419124Z"
    }
   },
   "outputs": [],
   "source": [
    "soup1 = BeautifulSoup(res1.text, 'html.parser')"
   ]
  },
  {
   "cell_type": "code",
   "execution_count": 9,
   "id": "37d473f7",
   "metadata": {
    "ExecuteTime": {
     "end_time": "2022-04-06T05:45:13.642681Z",
     "start_time": "2022-04-06T05:45:13.626725Z"
    }
   },
   "outputs": [],
   "source": [
    "news_texts = []\n",
    "\n",
    "path1 = '#harmonyContainer > section > p'\n",
    "\n",
    "for p in soup1.select(path1):\n",
    "    news_texts.append(p.text)"
   ]
  },
  {
   "cell_type": "code",
   "execution_count": null,
   "id": "1edc5a25",
   "metadata": {},
   "outputs": [],
   "source": []
  },
  {
   "cell_type": "code",
   "execution_count": 10,
   "id": "52c2e4e9",
   "metadata": {
    "ExecuteTime": {
     "end_time": "2022-04-06T05:45:18.807645Z",
     "start_time": "2022-04-06T05:45:14.092269Z"
    }
   },
   "outputs": [
    {
     "name": "stdout",
     "output_type": "stream",
     "text": [
      "https://v.daum.net/v/20220406143530218\n",
      "https://v.daum.net/v/20220406142740794\n",
      "https://v.daum.net/v/20220406142800805\n",
      "https://v.daum.net/v/20220406142605718\n",
      "https://v.daum.net/v/20220406142416634\n",
      "https://v.daum.net/v/20220406142402604\n",
      "https://v.daum.net/v/20220406142307556\n",
      "https://v.daum.net/v/20220406142304555\n",
      "https://v.daum.net/v/20220406141938388\n",
      "https://v.daum.net/v/20220406141903375\n",
      "https://v.daum.net/v/20220406143918465\n",
      "https://v.daum.net/v/20220406142703765\n",
      "https://v.daum.net/v/20220406142637748\n",
      "https://v.daum.net/v/20220406142628746\n",
      "https://v.daum.net/v/20220406142402607\n",
      "https://v.daum.net/v/20220406141727266\n",
      "https://v.daum.net/v/20220406141656240\n",
      "https://v.daum.net/v/20220406141523181\n",
      "https://v.daum.net/v/20220406134602144\n",
      "https://v.daum.net/v/20220406135857493\n",
      "https://v.daum.net/v/20220406143645302\n",
      "https://v.daum.net/v/20220406143546232\n",
      "https://v.daum.net/v/20220406143416157\n",
      "https://v.daum.net/v/20220406143342119\n",
      "https://v.daum.net/v/20220406143310090\n",
      "https://v.daum.net/v/20220406143130018\n",
      "https://v.daum.net/v/20220406143125016\n",
      "https://v.daum.net/v/20220406143117013\n",
      "https://v.daum.net/v/20220406143110001\n",
      "https://v.daum.net/v/20220406142823822\n"
     ]
    }
   ],
   "source": [
    "cate_news_list = []\n",
    "\n",
    "for cate in ['economic', 'politics', 'society']:\n",
    "    \n",
    "    cate_news_texts = []\n",
    "    url = 'https://news.daum.net/{}#1'.format(cate)\n",
    "\n",
    "    res = requests.get(url)\n",
    "\n",
    "    path = 'body > div.container-doc.cont-category > main > section > div.main-sub > div.box_g.box_news_major > ul > li'\n",
    "\n",
    "\n",
    "    soup = BeautifulSoup(res.text)\n",
    "    lis = soup.select(path)\n",
    "\n",
    "    news_urls = []\n",
    "    for li in lis:\n",
    "        news_url = li.select('a')[0]['href']\n",
    "        print(news_url)\n",
    "        news_urls.append(news_url)\n",
    "\n",
    "\n",
    "    # print(news_urls)\n",
    "\n",
    "    for url in news_urls:\n",
    "        news_texts = []\n",
    "        res1 = requests.get(url)\n",
    "\n",
    "        soup1 = BeautifulSoup(res1.text, 'html.parser')\n",
    "\n",
    "        path1 = '#harmonyContainer > section > p'\n",
    "\n",
    "        text = ''\n",
    "        for p in soup1.select(path1):\n",
    "            text += p.text\n",
    "\n",
    "        news_texts.append(text)\n",
    "\n",
    "        cate_news_texts.append(news_texts)\n",
    "    \n",
    "    cate_news_list.append(cate_news_texts)"
   ]
  },
  {
   "cell_type": "code",
   "execution_count": 11,
   "id": "f84afd58",
   "metadata": {
    "ExecuteTime": {
     "end_time": "2022-04-06T05:45:18.885799Z",
     "start_time": "2022-04-06T05:45:18.872014Z"
    }
   },
   "outputs": [
    {
     "data": {
      "text/plain": [
       "3"
      ]
     },
     "execution_count": 11,
     "metadata": {},
     "output_type": "execute_result"
    }
   ],
   "source": [
    "len(cate_news_list)"
   ]
  },
  {
   "cell_type": "code",
   "execution_count": 12,
   "id": "71f847c7",
   "metadata": {
    "ExecuteTime": {
     "end_time": "2022-04-06T05:45:18.964432Z",
     "start_time": "2022-04-06T05:45:18.950473Z"
    }
   },
   "outputs": [
    {
     "data": {
      "text/plain": [
       "10"
      ]
     },
     "execution_count": 12,
     "metadata": {},
     "output_type": "execute_result"
    }
   ],
   "source": [
    "len(cate_news_list[2])"
   ]
  },
  {
   "cell_type": "code",
   "execution_count": null,
   "id": "feb5a52f",
   "metadata": {},
   "outputs": [],
   "source": []
  },
  {
   "cell_type": "code",
   "execution_count": 18,
   "id": "f2666d44",
   "metadata": {
    "ExecuteTime": {
     "end_time": "2022-04-06T05:45:47.575480Z",
     "start_time": "2022-04-06T05:45:47.563545Z"
    }
   },
   "outputs": [],
   "source": [
    "economic_news = cate_news_list[0]\n",
    "politics_news = cate_news_list[1]\n",
    "society_news = cate_news_list[2]"
   ]
  },
  {
   "cell_type": "code",
   "execution_count": null,
   "id": "447e7673",
   "metadata": {},
   "outputs": [],
   "source": []
  },
  {
   "cell_type": "code",
   "execution_count": 19,
   "id": "34b12db9",
   "metadata": {
    "ExecuteTime": {
     "end_time": "2022-04-06T05:45:48.452024Z",
     "start_time": "2022-04-06T05:45:48.443048Z"
    }
   },
   "outputs": [],
   "source": [
    "total_news = economic_news + politics_news + society_news"
   ]
  },
  {
   "cell_type": "code",
   "execution_count": 20,
   "id": "804da132",
   "metadata": {
    "ExecuteTime": {
     "end_time": "2022-04-06T05:45:48.716807Z",
     "start_time": "2022-04-06T05:45:48.700850Z"
    }
   },
   "outputs": [
    {
     "data": {
      "text/plain": [
       "30"
      ]
     },
     "execution_count": 20,
     "metadata": {},
     "output_type": "execute_result"
    }
   ],
   "source": [
    "len(total_news)"
   ]
  },
  {
   "cell_type": "code",
   "execution_count": 21,
   "id": "fdb4b01a",
   "metadata": {
    "ExecuteTime": {
     "end_time": "2022-04-06T05:45:48.999556Z",
     "start_time": "2022-04-06T05:45:48.971506Z"
    }
   },
   "outputs": [
    {
     "data": {
      "text/html": [
       "<div>\n",
       "<style scoped>\n",
       "    .dataframe tbody tr th:only-of-type {\n",
       "        vertical-align: middle;\n",
       "    }\n",
       "\n",
       "    .dataframe tbody tr th {\n",
       "        vertical-align: top;\n",
       "    }\n",
       "\n",
       "    .dataframe thead th {\n",
       "        text-align: right;\n",
       "    }\n",
       "</style>\n",
       "<table border=\"1\" class=\"dataframe\">\n",
       "  <thead>\n",
       "    <tr style=\"text-align: right;\">\n",
       "      <th></th>\n",
       "      <th>cate</th>\n",
       "      <th>news</th>\n",
       "    </tr>\n",
       "  </thead>\n",
       "  <tbody>\n",
       "    <tr>\n",
       "      <th>0</th>\n",
       "      <td>eco</td>\n",
       "      <td>[공정거래위원회가 우유 시장 점유율 1위 업체 서울우유협동조합(서울우유) 대리점들이...</td>\n",
       "    </tr>\n",
       "    <tr>\n",
       "      <th>1</th>\n",
       "      <td>eco</td>\n",
       "      <td>[한은 관계자는 6일 “한은과 대통령직인수위의 간담회 일정은 아직 정해지지 않았으나...</td>\n",
       "    </tr>\n",
       "    <tr>\n",
       "      <th>2</th>\n",
       "      <td>eco</td>\n",
       "      <td>[(서울=뉴스1) 김민성 기자 = 포스코홀딩스가 경북 포항에 이어 전남 광양과도 지...</td>\n",
       "    </tr>\n",
       "    <tr>\n",
       "      <th>3</th>\n",
       "      <td>eco</td>\n",
       "      <td>[경기도 고양시 일산에서 음식점을 운영 중인 최아무개(40)씨는 얼마 전 황당한 일...</td>\n",
       "    </tr>\n",
       "    <tr>\n",
       "      <th>4</th>\n",
       "      <td>eco</td>\n",
       "      <td>[ [파이낸셜뉴스] 미국과 영국이 가상자산 투자자 보호와 산업을 육성을 위한 제도 ...</td>\n",
       "    </tr>\n",
       "    <tr>\n",
       "      <th>5</th>\n",
       "      <td>eco</td>\n",
       "      <td>[대통령직 인수위원회(이하 인수위)가 '물가 파이터' 한국은행을 만난다. 인수위는 ...</td>\n",
       "    </tr>\n",
       "    <tr>\n",
       "      <th>6</th>\n",
       "      <td>eco</td>\n",
       "      <td>[]</td>\n",
       "    </tr>\n",
       "    <tr>\n",
       "      <th>7</th>\n",
       "      <td>eco</td>\n",
       "      <td>[2년여 전. 에스엠엔터테인먼트에 대한 KB자산운용의 주주행동과 한진칼에 대한 KC...</td>\n",
       "    </tr>\n",
       "    <tr>\n",
       "      <th>8</th>\n",
       "      <td>eco</td>\n",
       "      <td>[(김천=연합뉴스) 홍창진 기자 = 경북 김천시 부항면에 있는 부항댐 둘레길 일대가...</td>\n",
       "    </tr>\n",
       "    <tr>\n",
       "      <th>9</th>\n",
       "      <td>eco</td>\n",
       "      <td>[(대구=연합뉴스) 김선형 박세진 기자 = \"한 끼 식사 차리려고 몇 가지만 골라도...</td>\n",
       "    </tr>\n",
       "    <tr>\n",
       "      <th>10</th>\n",
       "      <td>pol</td>\n",
       "      <td>[[헤럴드경제=배두헌 기자] 더불어민주당은 6일 대통령 집무실 용산 이전을 밤을 새...</td>\n",
       "    </tr>\n",
       "    <tr>\n",
       "      <th>11</th>\n",
       "      <td>pol</td>\n",
       "      <td>[기사내용 요약 안철수, 인수위서 싱하이밍 中 대사 만나 中 대사, 북한 불만 사항...</td>\n",
       "    </tr>\n",
       "    <tr>\n",
       "      <th>12</th>\n",
       "      <td>pol</td>\n",
       "      <td>[이들의 만남과 관련해 구체적인 일정은 아직 드러나지 않았지만 재계는 조만간 성사될...</td>\n",
       "    </tr>\n",
       "    <tr>\n",
       "      <th>13</th>\n",
       "      <td>pol</td>\n",
       "      <td>[ [이데일리 박기주 기자] 김영춘 전 해양수산부 장관에 이어 최재성 전 청와대 정...</td>\n",
       "    </tr>\n",
       "    <tr>\n",
       "      <th>14</th>\n",
       "      <td>pol</td>\n",
       "      <td>[[이재호 기자(jh1128@pressian.com)]북한이 금강산 관광지구에서 활...</td>\n",
       "    </tr>\n",
       "    <tr>\n",
       "      <th>15</th>\n",
       "      <td>pol</td>\n",
       "      <td>[(광주=연합뉴스) 박철홍 기자 = 광주 북구 두암2동 커뮤니티센터 사적 점유 문제...</td>\n",
       "    </tr>\n",
       "    <tr>\n",
       "      <th>16</th>\n",
       "      <td>pol</td>\n",
       "      <td>[]</td>\n",
       "    </tr>\n",
       "    <tr>\n",
       "      <th>17</th>\n",
       "      <td>pol</td>\n",
       "      <td>[[아이뉴스24 박정민 기자] 더불어민주당의 경기도지사 출마 예정자들이 6일까지 당...</td>\n",
       "    </tr>\n",
       "    <tr>\n",
       "      <th>18</th>\n",
       "      <td>pol</td>\n",
       "      <td>[윤석열 정부의 산업통상자원부 장관 후보로 유력하게 거론되고 있는 대통령직인수위원회...</td>\n",
       "    </tr>\n",
       "    <tr>\n",
       "      <th>19</th>\n",
       "      <td>pol</td>\n",
       "      <td>[(용인=연합뉴스) 최해민 기자 = 경기 용인시는 7일부터 14일까지 농지원부 발급...</td>\n",
       "    </tr>\n",
       "    <tr>\n",
       "      <th>20</th>\n",
       "      <td>soc</td>\n",
       "      <td>[(서울=연합뉴스) 송은경 오진송 기자 = 서울 동작구 국립현충원 인근 길가에 주차...</td>\n",
       "    </tr>\n",
       "    <tr>\n",
       "      <th>21</th>\n",
       "      <td>soc</td>\n",
       "      <td>[(서울=뉴스1) 양새롬 기자 = 윤석열 대통령 당선인의 대통령직인수위원회(인수위)...</td>\n",
       "    </tr>\n",
       "    <tr>\n",
       "      <th>22</th>\n",
       "      <td>soc</td>\n",
       "      <td>[기사내용 요약 재판부 \"조항들 종합한 결과 용도 엄격히 제한된 자금이라고 보여\" ...</td>\n",
       "    </tr>\n",
       "    <tr>\n",
       "      <th>23</th>\n",
       "      <td>soc</td>\n",
       "      <td>[ [대구=뉴시스]고여정 기자 = 교육부가 지난해와 마찬가지로 코로나19 확진자 시...</td>\n",
       "    </tr>\n",
       "    <tr>\n",
       "      <th>24</th>\n",
       "      <td>soc</td>\n",
       "      <td>[(서울=뉴스1) 김진 기자 = 성장현 용산구청장의 채용비리 의혹을 제기한 시민단체...</td>\n",
       "    </tr>\n",
       "    <tr>\n",
       "      <th>25</th>\n",
       "      <td>soc</td>\n",
       "      <td>[ [청주=뉴시스] 천영준 기자 = 지난해 충북 도내 기업 94곳이 대기오염물질 기...</td>\n",
       "    </tr>\n",
       "    <tr>\n",
       "      <th>26</th>\n",
       "      <td>soc</td>\n",
       "      <td>[기사내용 요약 8일까지 후보 신청받고, 11일 본조직 출범 예정 민노총 소속 후보...</td>\n",
       "    </tr>\n",
       "    <tr>\n",
       "      <th>27</th>\n",
       "      <td>soc</td>\n",
       "      <td>[기사내용 요약 예비후보자 57명 중 21명 전과기록 보유 고양 8명, 포천 4명,...</td>\n",
       "    </tr>\n",
       "    <tr>\n",
       "      <th>28</th>\n",
       "      <td>soc</td>\n",
       "      <td>[(강릉=연합뉴스) 박영서 기자 = 지난 주말 강원 강릉시 한 식당에서 식사하던 중...</td>\n",
       "    </tr>\n",
       "    <tr>\n",
       "      <th>29</th>\n",
       "      <td>soc</td>\n",
       "      <td>[■ 진행 : 김정아 앵커, 박석원 앵커 ■ 출연 : 백순영 / 가톨릭대 의대 명예...</td>\n",
       "    </tr>\n",
       "  </tbody>\n",
       "</table>\n",
       "</div>"
      ],
      "text/plain": [
       "   cate                                               news\n",
       "0   eco  [공정거래위원회가 우유 시장 점유율 1위 업체 서울우유협동조합(서울우유) 대리점들이...\n",
       "1   eco  [한은 관계자는 6일 “한은과 대통령직인수위의 간담회 일정은 아직 정해지지 않았으나...\n",
       "2   eco  [(서울=뉴스1) 김민성 기자 = 포스코홀딩스가 경북 포항에 이어 전남 광양과도 지...\n",
       "3   eco  [경기도 고양시 일산에서 음식점을 운영 중인 최아무개(40)씨는 얼마 전 황당한 일...\n",
       "4   eco  [ [파이낸셜뉴스] 미국과 영국이 가상자산 투자자 보호와 산업을 육성을 위한 제도 ...\n",
       "5   eco  [대통령직 인수위원회(이하 인수위)가 '물가 파이터' 한국은행을 만난다. 인수위는 ...\n",
       "6   eco                                                 []\n",
       "7   eco  [2년여 전. 에스엠엔터테인먼트에 대한 KB자산운용의 주주행동과 한진칼에 대한 KC...\n",
       "8   eco  [(김천=연합뉴스) 홍창진 기자 = 경북 김천시 부항면에 있는 부항댐 둘레길 일대가...\n",
       "9   eco  [(대구=연합뉴스) 김선형 박세진 기자 = \"한 끼 식사 차리려고 몇 가지만 골라도...\n",
       "10  pol  [[헤럴드경제=배두헌 기자] 더불어민주당은 6일 대통령 집무실 용산 이전을 밤을 새...\n",
       "11  pol  [기사내용 요약 안철수, 인수위서 싱하이밍 中 대사 만나 中 대사, 북한 불만 사항...\n",
       "12  pol  [이들의 만남과 관련해 구체적인 일정은 아직 드러나지 않았지만 재계는 조만간 성사될...\n",
       "13  pol  [ [이데일리 박기주 기자] 김영춘 전 해양수산부 장관에 이어 최재성 전 청와대 정...\n",
       "14  pol  [[이재호 기자(jh1128@pressian.com)]북한이 금강산 관광지구에서 활...\n",
       "15  pol  [(광주=연합뉴스) 박철홍 기자 = 광주 북구 두암2동 커뮤니티센터 사적 점유 문제...\n",
       "16  pol                                                 []\n",
       "17  pol  [[아이뉴스24 박정민 기자] 더불어민주당의 경기도지사 출마 예정자들이 6일까지 당...\n",
       "18  pol  [윤석열 정부의 산업통상자원부 장관 후보로 유력하게 거론되고 있는 대통령직인수위원회...\n",
       "19  pol  [(용인=연합뉴스) 최해민 기자 = 경기 용인시는 7일부터 14일까지 농지원부 발급...\n",
       "20  soc  [(서울=연합뉴스) 송은경 오진송 기자 = 서울 동작구 국립현충원 인근 길가에 주차...\n",
       "21  soc  [(서울=뉴스1) 양새롬 기자 = 윤석열 대통령 당선인의 대통령직인수위원회(인수위)...\n",
       "22  soc  [기사내용 요약 재판부 \"조항들 종합한 결과 용도 엄격히 제한된 자금이라고 보여\" ...\n",
       "23  soc  [ [대구=뉴시스]고여정 기자 = 교육부가 지난해와 마찬가지로 코로나19 확진자 시...\n",
       "24  soc  [(서울=뉴스1) 김진 기자 = 성장현 용산구청장의 채용비리 의혹을 제기한 시민단체...\n",
       "25  soc  [ [청주=뉴시스] 천영준 기자 = 지난해 충북 도내 기업 94곳이 대기오염물질 기...\n",
       "26  soc  [기사내용 요약 8일까지 후보 신청받고, 11일 본조직 출범 예정 민노총 소속 후보...\n",
       "27  soc  [기사내용 요약 예비후보자 57명 중 21명 전과기록 보유 고양 8명, 포천 4명,...\n",
       "28  soc  [(강릉=연합뉴스) 박영서 기자 = 지난 주말 강원 강릉시 한 식당에서 식사하던 중...\n",
       "29  soc  [■ 진행 : 김정아 앵커, 박석원 앵커 ■ 출연 : 백순영 / 가톨릭대 의대 명예..."
      ]
     },
     "execution_count": 21,
     "metadata": {},
     "output_type": "execute_result"
    }
   ],
   "source": [
    "category = ['eco']*10 + ['pol']*10 + ['soc']*10\n",
    "news = total_news\n",
    "\n",
    "news_df = pd.DataFrame({'cate':category, 'news':total_news})\n",
    "news_df"
   ]
  },
  {
   "cell_type": "code",
   "execution_count": 22,
   "id": "0a90bd60",
   "metadata": {
    "ExecuteTime": {
     "end_time": "2022-04-06T05:45:49.216429Z",
     "start_time": "2022-04-06T05:45:49.211413Z"
    }
   },
   "outputs": [
    {
     "data": {
      "text/plain": [
       "['2년여 전. 에스엠엔터테인먼트에 대한 KB자산운용의 주주행동과 한진칼에 대한 KCGI의 공격이 별 성과없이 사그라들자 시장엔 실망감이 퍼졌다. 주주가 기업에 적극적으로 의견을 개진하고 이를 통해 수익률을 제고하는 주주행동주의는 한국 시장에선 시기상조일지도 모른다는 자조 섞인 목소리가 흘러 나왔다.올들어 분위기는 딴판이다. 에스엠과 사조오양 정기주주총회에서 기업측의 반대에도 주주가 내세운 감사가 선임되는 등 행동주의 펀드가 약진했기 때문이다. 올해 행동주의 펀드가 성과를 올릴 수 있었던 배경은 무엇이고 또 자본시장엔 어떤 과제를 남겼을까.\\xa0○당하지 만은 않는 동학개미…행동주의 붐으로\\xa0지난달 24일 사조오양 주주총회에선 차파트너스가 내세운 감사후보가 선임됐다. 또 같은달 31일 에스엠 주주총회에서도 얼라인파트너스가 추천한 감사후보가 선임됐다. 두 회사 모두 오랜 기간 대주주가 자신의 이익을 극대화하기 위해 소액주주의 권리제고를 등한시 해왔단 공통점이 있다. 이번 감사선임이 증권가에 의미가 큰 이유다.주주행동주의가 성공한 원인으로는 크게 두 가지가 언급된다. 먼저 코로나19로 주식투자 인구가 늘었고 미국주식에 직접 투자하는 사람 또한 늘었다. 김형균 차파트너스 상무는 \"서학개미가 늘면서 왜 한국주식만 유독 물적분할 등 소액주주가 피해보는 일이 잦을까 의문을 가지는 투자자가 늘었다\"고 설명했다. 다른 요인으로는 최근 수년동안 일어난 주주행동주의가 기반을 닦았다는 점이 꼽힌다. 이창환 얼라인파트너스 대표는 \"2년 반 전에 KB자산운용이 에스엠에 라이크기획의 부당함을 꼬집는 주주서한을 보냈을 때 에스엠이 무시로 일관하면서 여의도 기관투자자들의 분노가 들끓었다\"며 \"이번 주주행동도 우리가 앞서긴 했지만 시작할 때부터 많은 기관투자자들이 의결권을 위임해주는 등 여의도가 같이 뛰어 만들어 낸 결과\"라고 설명했다.행동주의는 높은 수익률로 이어졌다. 에스엠을 담고 있는 얼라인파트너스의 1호펀드는 지난해 9월 15일 설정 이후 코스피지수 대비 42.8%포인트의 추가수익을 올렸다. 사조오양을 담고 있는 차파트너스의 고배당가치주2호 펀드 역시 현재 운용역으로 재단장 한 지난해 1월 31일 이후 벤치마크를 44.1%포인트 웃돌았다. 김 상무는 \"성장주 투자는 미래를 끊임없이 잘 예측해야 하는데 대부분은 시장이 그 기대를 잘 반영하고 있어 추가수익을 내기 까다롭다\"며 \"행동주의는 가버넌스에 문제가 있는 회사를 찾아 그 문제만 해소하면 시황과 상관없이 추가수익을 올릴 수 있는 확실한 투자 방식\"이라고 말했다.대신 성공에는 고차원 방정식이 필요하다는 조언이다. 특히 대주주와 펀드의 이해관계를 일치시키는 게 중요하다고 했다. 이 대표는 \"에스엠의 경우 여러 채널을 확인해도 이수만 최대주주가 기업 상속에 의지가 없었다\"며 \"최대주주가 지분을 높은 가격에 매각하려면 실적과 주가상승이 필요하다고 생각했고 이는 펀드의 이해관계와도 부합했다\"고 짚었다. 이 대표는 이수만 최대주주가 빠른 기간 내 지분 매각에 나설 것이라고도 봤다. 이 대표는 \"이번 주총 결과를 보면 얼라인 측이 내년엔 에스엠의 이사회를 교체할 수 있을 만큼의 표를 모았다\"면서 \"최대주주 입장에선 이사회를 장악하고 있을 때 지분을 매각하는 게 가장 유리하다\"고 언급했다.\\xa0○더 많은 변화 위해선 상법 개정 필요주주행동이 승기를 든 사례가 생기면서 시장에선 앞으로 한국 자본시장에 주주행동주의가 더 활발해질 것이란 시각이 지배적이다. 이미 시장은 이들에 힘을 실어주고 있다. 차파트너스는 이번 주총서 주주행동주의가 소기의 성과를 이루면서 몇몇 기관투자자로부터 추가 투자를 받았다고 했다.\\xa0홍진채 라쿤자산운용 대표는 \"이 흐름이 좋은 방향으로 흘러간다면 친기업과 반기업이란 대립구도에서 주주라는 새로운 힘이 등장해 기업을 더 건강하고 튼튼하게 만들어서 나라를 더 경쟁력 있게 만들어줄 수 있다\"고 기대를 드러냈다.다만 주주행동이 더 많은 성과를 내기 위해선 법 개정, 특히 이사의 충실의무를 규정하는 현행 상법을 고치는 것이 중요하다고 시장관계자들은 입을 모은다. 김규식 한국기업거버넌스포럼 회장은 \"에스엠의 라이크기획에 대한 연간 수백억원의 수수료지급은 사실상 배임이며 주주대표소송하면 회사측이 수백억원대의 손해배상 책임이 발생할 수 있다\"며 \"현재 상법상 이사의 충실의무 대상은 회사에 국한돼 있기 때문에 이에 대한 소송이 어렵지만 주주로 범위를 넓히면 가능하게 돼 주주권리 침해를 막을 수 있다\"고 강조했다.한편 감사선임에 성공한 운용사들은 본격적으로 활동을 시작, 주주가치를 더 높일 수 있는 방안을 모색할 계획이다. 이 대표는 \"감사가 가진 영업 및 회계권에 대한 조사권을 이용해 에스엠 이사회가 라이크기획 외의 대안도 고려를 했는지 따져볼 것\"이라며 \"그렇지 않은 경우 회사는 합당한 대안을 내놓아야 한다\"고 말했다.이슬기 기자 surugi@hankyung.com']"
      ]
     },
     "execution_count": 22,
     "metadata": {},
     "output_type": "execute_result"
    }
   ],
   "source": [
    "news_df.iloc[7, 1]"
   ]
  },
  {
   "cell_type": "code",
   "execution_count": 196,
   "id": "487f12be",
   "metadata": {},
   "outputs": [],
   "source": [
    "news_df.to_csv('news_df.csv')"
   ]
  },
  {
   "cell_type": "code",
   "execution_count": null,
   "id": "31bebb52",
   "metadata": {},
   "outputs": [],
   "source": []
  }
 ],
 "metadata": {
  "kernelspec": {
   "display_name": "Python 3 (ipykernel)",
   "language": "python",
   "name": "python3"
  },
  "language_info": {
   "codemirror_mode": {
    "name": "ipython",
    "version": 3
   },
   "file_extension": ".py",
   "mimetype": "text/x-python",
   "name": "python",
   "nbconvert_exporter": "python",
   "pygments_lexer": "ipython3",
   "version": "3.9.7"
  },
  "toc": {
   "base_numbering": 1,
   "nav_menu": {},
   "number_sections": true,
   "sideBar": true,
   "skip_h1_title": false,
   "title_cell": "Table of Contents",
   "title_sidebar": "Contents",
   "toc_cell": false,
   "toc_position": {},
   "toc_section_display": true,
   "toc_window_display": false
  },
  "varInspector": {
   "cols": {
    "lenName": 16,
    "lenType": 16,
    "lenVar": 40
   },
   "kernels_config": {
    "python": {
     "delete_cmd_postfix": "",
     "delete_cmd_prefix": "del ",
     "library": "var_list.py",
     "varRefreshCmd": "print(var_dic_list())"
    },
    "r": {
     "delete_cmd_postfix": ") ",
     "delete_cmd_prefix": "rm(",
     "library": "var_list.r",
     "varRefreshCmd": "cat(var_dic_list()) "
    }
   },
   "types_to_exclude": [
    "module",
    "function",
    "builtin_function_or_method",
    "instance",
    "_Feature"
   ],
   "window_display": false
  }
 },
 "nbformat": 4,
 "nbformat_minor": 5
}
