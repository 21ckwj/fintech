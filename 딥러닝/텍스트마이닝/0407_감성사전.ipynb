{
 "cells": [
  {
   "cell_type": "markdown",
   "id": "ee4f8bca",
   "metadata": {},
   "source": [
    "# 감성사전"
   ]
  },
  {
   "cell_type": "code",
   "execution_count": 76,
   "id": "3df0b742",
   "metadata": {
    "ExecuteTime": {
     "end_time": "2022-04-07T08:45:59.174352Z",
     "start_time": "2022-04-07T08:45:59.157427Z"
    }
   },
   "outputs": [],
   "source": [
    "import pandas as pd\n",
    "import numpy as np\n",
    "import matplotlib.pyplot as plt\n",
    "import seaborn as sns"
   ]
  },
  {
   "cell_type": "code",
   "execution_count": 77,
   "id": "2b09fb82",
   "metadata": {
    "ExecuteTime": {
     "end_time": "2022-04-07T08:45:59.315914Z",
     "start_time": "2022-04-07T08:45:59.299513Z"
    }
   },
   "outputs": [],
   "source": [
    "# !pip install afinn"
   ]
  },
  {
   "cell_type": "code",
   "execution_count": 78,
   "id": "7f102646",
   "metadata": {
    "ExecuteTime": {
     "end_time": "2022-04-07T08:45:59.440267Z",
     "start_time": "2022-04-07T08:45:59.430293Z"
    }
   },
   "outputs": [],
   "source": [
    "from afinn import Afinn\n",
    "from nltk.corpus import stopwords\n",
    "from nltk.stem.porter import PorterStemmer\n",
    "from nltk.tokenize import RegexpTokenizer"
   ]
  },
  {
   "cell_type": "markdown",
   "id": "9bbd82f0",
   "metadata": {},
   "source": [
    "## 분석할 데이터: 부정적인 댓글, 긍정적인 댓글 데이터"
   ]
  },
  {
   "cell_type": "code",
   "execution_count": 79,
   "id": "f87f3921",
   "metadata": {
    "ExecuteTime": {
     "end_time": "2022-04-07T08:45:59.720444Z",
     "start_time": "2022-04-07T08:45:59.700500Z"
    }
   },
   "outputs": [],
   "source": [
    "import glob\n",
    "neg_reviews = glob.glob('./data/neg/*.txt')\n",
    "pos_reviews = glob.glob('./data/pos/*.txt')"
   ]
  },
  {
   "cell_type": "code",
   "execution_count": 80,
   "id": "9e31dc78",
   "metadata": {
    "ExecuteTime": {
     "end_time": "2022-04-07T08:46:00.110957Z",
     "start_time": "2022-04-07T08:46:00.100954Z"
    }
   },
   "outputs": [
    {
     "name": "stdout",
     "output_type": "stream",
     "text": [
      "Critics need to review what they class as a quality movie. I think the critics have seen too many actions films and have succumbed to the Matrix style of films. Europa is a breath of fresh air, a film with so many layers that one viewing is not enough to understand or appreciate this outstanding film. Lars von Trier shows that old styles of filming can produce marvellous cinema and build drama and tension. The back projection effect he uses during the film arouses and enhances the characters, and the focus of the conversation they are having. Other effects he uses such as the colour and black and white in one scene much like Hitchcock and the girl with the red coat grabs attention and enhances the drama and meaning of the scene. The commentary is superb and has a hypnotic effect, again maintaining the focus on the central characters in the scene and there actions.<br /><br />I could talk about the effects more but I think you all would agree they push this film into a category of its own, and really heighten the drama of the film. A film to buy if you don't own already and one to see if you have not.<br /><br />10/10 Don't miss this artistic noir film from one of the great film directors.\n"
     ]
    }
   ],
   "source": [
    "# pos_text\n",
    "f= open(pos_reviews[20], 'r')\n",
    "pos_text = f.read()\n",
    "print(pos_text)"
   ]
  },
  {
   "cell_type": "code",
   "execution_count": 81,
   "id": "81157c17",
   "metadata": {
    "ExecuteTime": {
     "end_time": "2022-04-07T08:46:00.406730Z",
     "start_time": "2022-04-07T08:46:00.389094Z"
    }
   },
   "outputs": [
    {
     "name": "stdout",
     "output_type": "stream",
     "text": [
      "Whoever wrote the screenplay for this movie obviously never consulted any books about Lucille Ball, especially her autobiography. I've never seen so many mistakes in a biopic, ranging from her early years in Celoron and Jamestown to her later years with Desi. I could write a whole list of factual errors, but it would go on for pages. In all, I believe that Lucille Ball is one of those inimitable people who simply cannot be portrayed by anyone other than themselves. If I were Lucie Arnaz and Desi, Jr., I would be irate at how many mistakes were made in this film. The filmmakers tried hard, but the movie seems awfully sloppy to me.\n"
     ]
    }
   ],
   "source": [
    "# neg_text\n",
    "f= open(neg_reviews[20], 'r')\n",
    "neg_text = f.read()\n",
    "print(neg_text)"
   ]
  },
  {
   "cell_type": "markdown",
   "id": "b65526c6",
   "metadata": {},
   "source": [
    "### 감성어 사전1 - Afinn(모듈)"
   ]
  },
  {
   "cell_type": "code",
   "execution_count": 82,
   "id": "8c16968d",
   "metadata": {
    "ExecuteTime": {
     "end_time": "2022-04-07T08:46:01.405535Z",
     "start_time": "2022-04-07T08:46:01.380374Z"
    }
   },
   "outputs": [],
   "source": [
    "afinn = Afinn()"
   ]
  },
  {
   "cell_type": "code",
   "execution_count": 84,
   "id": "9a07eba8",
   "metadata": {
    "ExecuteTime": {
     "end_time": "2022-04-07T08:46:07.047948Z",
     "start_time": "2022-04-07T08:46:07.027973Z"
    }
   },
   "outputs": [
    {
     "data": {
      "text/plain": [
       "14.0"
      ]
     },
     "execution_count": 84,
     "metadata": {},
     "output_type": "execute_result"
    }
   ],
   "source": [
    "afinn.score(pos_text)"
   ]
  },
  {
   "cell_type": "code",
   "execution_count": null,
   "id": "1d2d8e9f",
   "metadata": {},
   "outputs": [],
   "source": []
  },
  {
   "cell_type": "markdown",
   "id": "303fd9b9",
   "metadata": {
    "ExecuteTime": {
     "end_time": "2022-04-07T06:21:54.709506Z",
     "start_time": "2022-04-07T06:21:54.701527Z"
    }
   },
   "source": [
    "### 감성어 사전2 - NRC(csv파일)"
   ]
  },
  {
   "cell_type": "code",
   "execution_count": 85,
   "id": "c49c6fec",
   "metadata": {
    "ExecuteTime": {
     "end_time": "2022-04-07T08:46:11.054733Z",
     "start_time": "2022-04-07T08:46:10.629082Z"
    }
   },
   "outputs": [
    {
     "data": {
      "text/html": [
       "<div>\n",
       "<style scoped>\n",
       "    .dataframe tbody tr th:only-of-type {\n",
       "        vertical-align: middle;\n",
       "    }\n",
       "\n",
       "    .dataframe tbody tr th {\n",
       "        vertical-align: top;\n",
       "    }\n",
       "\n",
       "    .dataframe thead th {\n",
       "        text-align: right;\n",
       "    }\n",
       "</style>\n",
       "<table border=\"1\" class=\"dataframe\">\n",
       "  <thead>\n",
       "    <tr style=\"text-align: right;\">\n",
       "      <th></th>\n",
       "      <th>0</th>\n",
       "      <th>1</th>\n",
       "      <th>2</th>\n",
       "    </tr>\n",
       "  </thead>\n",
       "  <tbody>\n",
       "    <tr>\n",
       "      <th>0</th>\n",
       "      <td>aback</td>\n",
       "      <td>anger</td>\n",
       "      <td>0</td>\n",
       "    </tr>\n",
       "    <tr>\n",
       "      <th>1</th>\n",
       "      <td>aback</td>\n",
       "      <td>anticipation</td>\n",
       "      <td>0</td>\n",
       "    </tr>\n",
       "    <tr>\n",
       "      <th>2</th>\n",
       "      <td>aback</td>\n",
       "      <td>disgust</td>\n",
       "      <td>0</td>\n",
       "    </tr>\n",
       "    <tr>\n",
       "      <th>3</th>\n",
       "      <td>aback</td>\n",
       "      <td>fear</td>\n",
       "      <td>0</td>\n",
       "    </tr>\n",
       "    <tr>\n",
       "      <th>4</th>\n",
       "      <td>aback</td>\n",
       "      <td>joy</td>\n",
       "      <td>0</td>\n",
       "    </tr>\n",
       "    <tr>\n",
       "      <th>...</th>\n",
       "      <td>...</td>\n",
       "      <td>...</td>\n",
       "      <td>...</td>\n",
       "    </tr>\n",
       "    <tr>\n",
       "      <th>141815</th>\n",
       "      <td>zoom</td>\n",
       "      <td>negative</td>\n",
       "      <td>0</td>\n",
       "    </tr>\n",
       "    <tr>\n",
       "      <th>141816</th>\n",
       "      <td>zoom</td>\n",
       "      <td>positive</td>\n",
       "      <td>0</td>\n",
       "    </tr>\n",
       "    <tr>\n",
       "      <th>141817</th>\n",
       "      <td>zoom</td>\n",
       "      <td>sadness</td>\n",
       "      <td>0</td>\n",
       "    </tr>\n",
       "    <tr>\n",
       "      <th>141818</th>\n",
       "      <td>zoom</td>\n",
       "      <td>surprise</td>\n",
       "      <td>0</td>\n",
       "    </tr>\n",
       "    <tr>\n",
       "      <th>141819</th>\n",
       "      <td>zoom</td>\n",
       "      <td>trust</td>\n",
       "      <td>0</td>\n",
       "    </tr>\n",
       "  </tbody>\n",
       "</table>\n",
       "<p>141820 rows × 3 columns</p>\n",
       "</div>"
      ],
      "text/plain": [
       "            0             1  2\n",
       "0       aback         anger  0\n",
       "1       aback  anticipation  0\n",
       "2       aback       disgust  0\n",
       "3       aback          fear  0\n",
       "4       aback           joy  0\n",
       "...       ...           ... ..\n",
       "141815   zoom      negative  0\n",
       "141816   zoom      positive  0\n",
       "141817   zoom       sadness  0\n",
       "141818   zoom      surprise  0\n",
       "141819   zoom         trust  0\n",
       "\n",
       "[141820 rows x 3 columns]"
      ]
     },
     "execution_count": 85,
     "metadata": {},
     "output_type": "execute_result"
    }
   ],
   "source": [
    "nrc = pd.read_csv('./data/NRC.txt',engine='python',header=None, sep='\\t')\n",
    "nrc"
   ]
  },
  {
   "cell_type": "code",
   "execution_count": 86,
   "id": "1ec095da",
   "metadata": {
    "ExecuteTime": {
     "end_time": "2022-04-07T08:46:11.196541Z",
     "start_time": "2022-04-07T08:46:11.172629Z"
    }
   },
   "outputs": [
    {
     "data": {
      "text/plain": [
       "anger           14182\n",
       "anticipation    14182\n",
       "disgust         14182\n",
       "fear            14182\n",
       "joy             14182\n",
       "negative        14182\n",
       "positive        14182\n",
       "sadness         14182\n",
       "surprise        14182\n",
       "trust           14182\n",
       "Name: 1, dtype: int64"
      ]
     },
     "execution_count": 86,
     "metadata": {},
     "output_type": "execute_result"
    }
   ],
   "source": [
    "# 총 10개의 감성\n",
    "nrc.iloc[:,1].value_counts()"
   ]
  },
  {
   "cell_type": "code",
   "execution_count": 87,
   "id": "d0651165",
   "metadata": {
    "ExecuteTime": {
     "end_time": "2022-04-07T08:46:11.778487Z",
     "start_time": "2022-04-07T08:46:11.748407Z"
    }
   },
   "outputs": [
    {
     "data": {
      "text/plain": [
       "aback            10\n",
       "poker            10\n",
       "poignant         10\n",
       "point            10\n",
       "pointedly        10\n",
       "                 ..\n",
       "fallow           10\n",
       "falsehood        10\n",
       "falsely          10\n",
       "falsification    10\n",
       "zoom             10\n",
       "Name: 0, Length: 14181, dtype: int64"
      ]
     },
     "execution_count": 87,
     "metadata": {},
     "output_type": "execute_result"
    }
   ],
   "source": [
    "# 14181 개의 단어가 10개의 감성에 포함되면 1 안되면 0\n",
    "nrc.iloc[:,0].value_counts()"
   ]
  },
  {
   "cell_type": "markdown",
   "id": "fa5f844c",
   "metadata": {},
   "source": [
    "#### nrc 전처리"
   ]
  },
  {
   "cell_type": "code",
   "execution_count": 88,
   "id": "8d06645d",
   "metadata": {
    "ExecuteTime": {
     "end_time": "2022-04-07T08:46:12.092157Z",
     "start_time": "2022-04-07T08:46:12.052509Z"
    }
   },
   "outputs": [
    {
     "data": {
      "text/html": [
       "<div>\n",
       "<style scoped>\n",
       "    .dataframe tbody tr th:only-of-type {\n",
       "        vertical-align: middle;\n",
       "    }\n",
       "\n",
       "    .dataframe tbody tr th {\n",
       "        vertical-align: top;\n",
       "    }\n",
       "\n",
       "    .dataframe thead th {\n",
       "        text-align: right;\n",
       "    }\n",
       "</style>\n",
       "<table border=\"1\" class=\"dataframe\">\n",
       "  <thead>\n",
       "    <tr style=\"text-align: right;\">\n",
       "      <th></th>\n",
       "      <th>0</th>\n",
       "      <th>1</th>\n",
       "      <th>2</th>\n",
       "    </tr>\n",
       "  </thead>\n",
       "  <tbody>\n",
       "    <tr>\n",
       "      <th>19</th>\n",
       "      <td>abacus</td>\n",
       "      <td>trust</td>\n",
       "      <td>1</td>\n",
       "    </tr>\n",
       "    <tr>\n",
       "      <th>23</th>\n",
       "      <td>abandon</td>\n",
       "      <td>fear</td>\n",
       "      <td>1</td>\n",
       "    </tr>\n",
       "    <tr>\n",
       "      <th>25</th>\n",
       "      <td>abandon</td>\n",
       "      <td>negative</td>\n",
       "      <td>1</td>\n",
       "    </tr>\n",
       "    <tr>\n",
       "      <th>27</th>\n",
       "      <td>abandon</td>\n",
       "      <td>sadness</td>\n",
       "      <td>1</td>\n",
       "    </tr>\n",
       "    <tr>\n",
       "      <th>30</th>\n",
       "      <td>abandoned</td>\n",
       "      <td>anger</td>\n",
       "      <td>1</td>\n",
       "    </tr>\n",
       "  </tbody>\n",
       "</table>\n",
       "</div>"
      ],
      "text/plain": [
       "            0         1  2\n",
       "19     abacus     trust  1\n",
       "23    abandon      fear  1\n",
       "25    abandon  negative  1\n",
       "27    abandon   sadness  1\n",
       "30  abandoned     anger  1"
      ]
     },
     "execution_count": 88,
     "metadata": {},
     "output_type": "execute_result"
    }
   ],
   "source": [
    "# 1값들만 모아주기\n",
    "nrc = nrc[(nrc != 0).all(1)]\n",
    "nrc.head()"
   ]
  },
  {
   "cell_type": "code",
   "execution_count": 89,
   "id": "2826a4c8",
   "metadata": {
    "ExecuteTime": {
     "end_time": "2022-04-07T08:46:12.733398Z",
     "start_time": "2022-04-07T08:46:12.724425Z"
    }
   },
   "outputs": [
    {
     "data": {
      "text/html": [
       "<div>\n",
       "<style scoped>\n",
       "    .dataframe tbody tr th:only-of-type {\n",
       "        vertical-align: middle;\n",
       "    }\n",
       "\n",
       "    .dataframe tbody tr th {\n",
       "        vertical-align: top;\n",
       "    }\n",
       "\n",
       "    .dataframe thead th {\n",
       "        text-align: right;\n",
       "    }\n",
       "</style>\n",
       "<table border=\"1\" class=\"dataframe\">\n",
       "  <thead>\n",
       "    <tr style=\"text-align: right;\">\n",
       "      <th></th>\n",
       "      <th>0</th>\n",
       "      <th>1</th>\n",
       "      <th>2</th>\n",
       "    </tr>\n",
       "  </thead>\n",
       "  <tbody>\n",
       "    <tr>\n",
       "      <th>57871</th>\n",
       "      <td>happy</td>\n",
       "      <td>anticipation</td>\n",
       "      <td>1</td>\n",
       "    </tr>\n",
       "    <tr>\n",
       "      <th>57874</th>\n",
       "      <td>happy</td>\n",
       "      <td>joy</td>\n",
       "      <td>1</td>\n",
       "    </tr>\n",
       "    <tr>\n",
       "      <th>57876</th>\n",
       "      <td>happy</td>\n",
       "      <td>positive</td>\n",
       "      <td>1</td>\n",
       "    </tr>\n",
       "    <tr>\n",
       "      <th>57879</th>\n",
       "      <td>happy</td>\n",
       "      <td>trust</td>\n",
       "      <td>1</td>\n",
       "    </tr>\n",
       "  </tbody>\n",
       "</table>\n",
       "</div>"
      ],
      "text/plain": [
       "           0             1  2\n",
       "57871  happy  anticipation  1\n",
       "57874  happy           joy  1\n",
       "57876  happy      positive  1\n",
       "57879  happy         trust  1"
      ]
     },
     "execution_count": 89,
     "metadata": {},
     "output_type": "execute_result"
    }
   ],
   "source": [
    "# 단어 happy에 들어간 감정: anticipation, joy, positive,trust\n",
    "nrc[nrc[0]== 'happy']"
   ]
  },
  {
   "cell_type": "code",
   "execution_count": 27,
   "id": "e3a98e10",
   "metadata": {
    "ExecuteTime": {
     "end_time": "2022-04-07T06:28:52.190655Z",
     "start_time": "2022-04-07T06:28:52.173828Z"
    }
   },
   "outputs": [
    {
     "data": {
      "text/html": [
       "<div>\n",
       "<style scoped>\n",
       "    .dataframe tbody tr th:only-of-type {\n",
       "        vertical-align: middle;\n",
       "    }\n",
       "\n",
       "    .dataframe tbody tr th {\n",
       "        vertical-align: top;\n",
       "    }\n",
       "\n",
       "    .dataframe thead th {\n",
       "        text-align: right;\n",
       "    }\n",
       "</style>\n",
       "<table border=\"1\" class=\"dataframe\">\n",
       "  <thead>\n",
       "    <tr style=\"text-align: right;\">\n",
       "      <th></th>\n",
       "      <th>0</th>\n",
       "      <th>1</th>\n",
       "      <th>2</th>\n",
       "    </tr>\n",
       "  </thead>\n",
       "  <tbody>\n",
       "    <tr>\n",
       "      <th>0</th>\n",
       "      <td>abacus</td>\n",
       "      <td>trust</td>\n",
       "      <td>1</td>\n",
       "    </tr>\n",
       "    <tr>\n",
       "      <th>1</th>\n",
       "      <td>abandon</td>\n",
       "      <td>fear</td>\n",
       "      <td>1</td>\n",
       "    </tr>\n",
       "    <tr>\n",
       "      <th>2</th>\n",
       "      <td>abandon</td>\n",
       "      <td>negative</td>\n",
       "      <td>1</td>\n",
       "    </tr>\n",
       "    <tr>\n",
       "      <th>3</th>\n",
       "      <td>abandon</td>\n",
       "      <td>sadness</td>\n",
       "      <td>1</td>\n",
       "    </tr>\n",
       "    <tr>\n",
       "      <th>4</th>\n",
       "      <td>abandoned</td>\n",
       "      <td>anger</td>\n",
       "      <td>1</td>\n",
       "    </tr>\n",
       "    <tr>\n",
       "      <th>...</th>\n",
       "      <td>...</td>\n",
       "      <td>...</td>\n",
       "      <td>...</td>\n",
       "    </tr>\n",
       "    <tr>\n",
       "      <th>13896</th>\n",
       "      <td>zest</td>\n",
       "      <td>anticipation</td>\n",
       "      <td>1</td>\n",
       "    </tr>\n",
       "    <tr>\n",
       "      <th>13897</th>\n",
       "      <td>zest</td>\n",
       "      <td>joy</td>\n",
       "      <td>1</td>\n",
       "    </tr>\n",
       "    <tr>\n",
       "      <th>13898</th>\n",
       "      <td>zest</td>\n",
       "      <td>positive</td>\n",
       "      <td>1</td>\n",
       "    </tr>\n",
       "    <tr>\n",
       "      <th>13899</th>\n",
       "      <td>zest</td>\n",
       "      <td>trust</td>\n",
       "      <td>1</td>\n",
       "    </tr>\n",
       "    <tr>\n",
       "      <th>13900</th>\n",
       "      <td>zip</td>\n",
       "      <td>negative</td>\n",
       "      <td>1</td>\n",
       "    </tr>\n",
       "  </tbody>\n",
       "</table>\n",
       "<p>13901 rows × 3 columns</p>\n",
       "</div>"
      ],
      "text/plain": [
       "               0             1  2\n",
       "0         abacus         trust  1\n",
       "1        abandon          fear  1\n",
       "2        abandon      negative  1\n",
       "3        abandon       sadness  1\n",
       "4      abandoned         anger  1\n",
       "...          ...           ... ..\n",
       "13896       zest  anticipation  1\n",
       "13897       zest           joy  1\n",
       "13898       zest      positive  1\n",
       "13899       zest         trust  1\n",
       "13900        zip      negative  1\n",
       "\n",
       "[13901 rows x 3 columns]"
      ]
     },
     "execution_count": 27,
     "metadata": {},
     "output_type": "execute_result"
    }
   ],
   "source": [
    "# 인덱스 다시 설정\n",
    "nrc = nrc.reset_index(drop = True)\n",
    "nrc"
   ]
  },
  {
   "cell_type": "markdown",
   "id": "1edcd5c5",
   "metadata": {},
   "source": [
    "#### nrc를 활용한 긍정댓글 감성 분석"
   ]
  },
  {
   "cell_type": "code",
   "execution_count": 90,
   "id": "db2746e8",
   "metadata": {
    "ExecuteTime": {
     "end_time": "2022-04-07T08:46:42.594383Z",
     "start_time": "2022-04-07T08:46:42.581446Z"
    }
   },
   "outputs": [],
   "source": [
    "lines1 = pos_text"
   ]
  },
  {
   "cell_type": "code",
   "execution_count": 91,
   "id": "db9b4b92",
   "metadata": {
    "ExecuteTime": {
     "end_time": "2022-04-07T08:46:42.795516Z",
     "start_time": "2022-04-07T08:46:42.788537Z"
    }
   },
   "outputs": [],
   "source": [
    "tokenizer = RegexpTokenizer('[\\w]+')\n",
    "stop_words = stopwords.words('english')\n",
    "p_stemmer = PorterStemmer()"
   ]
  },
  {
   "cell_type": "code",
   "execution_count": 53,
   "id": "1a0a8b6c",
   "metadata": {
    "ExecuteTime": {
     "end_time": "2022-04-07T06:39:55.416362Z",
     "start_time": "2022-04-07T06:39:55.407386Z"
    }
   },
   "outputs": [
    {
     "data": {
      "text/plain": [
       "['critics',\n",
       " 'need',\n",
       " 'review',\n",
       " 'class',\n",
       " 'quality',\n",
       " 'movie',\n",
       " 'think',\n",
       " 'critics',\n",
       " 'seen',\n",
       " 'many',\n",
       " 'actions',\n",
       " 'films',\n",
       " 'succumbed',\n",
       " 'matrix',\n",
       " 'style',\n",
       " 'films',\n",
       " 'europa',\n",
       " 'breath',\n",
       " 'fresh',\n",
       " 'air',\n",
       " 'film',\n",
       " 'many',\n",
       " 'layers',\n",
       " 'one',\n",
       " 'viewing',\n",
       " 'enough',\n",
       " 'understand',\n",
       " 'appreciate',\n",
       " 'outstanding',\n",
       " 'film',\n",
       " 'lars',\n",
       " 'von',\n",
       " 'trier',\n",
       " 'shows',\n",
       " 'old',\n",
       " 'styles',\n",
       " 'filming',\n",
       " 'produce',\n",
       " 'marvellous',\n",
       " 'cinema',\n",
       " 'build',\n",
       " 'drama',\n",
       " 'tension',\n",
       " 'back',\n",
       " 'projection',\n",
       " 'effect',\n",
       " 'uses',\n",
       " 'film',\n",
       " 'arouses',\n",
       " 'enhances',\n",
       " 'characters',\n",
       " 'focus',\n",
       " 'conversation',\n",
       " 'effects',\n",
       " 'uses',\n",
       " 'colour',\n",
       " 'black',\n",
       " 'white',\n",
       " 'one',\n",
       " 'scene',\n",
       " 'much',\n",
       " 'like',\n",
       " 'hitchcock',\n",
       " 'girl',\n",
       " 'red',\n",
       " 'coat',\n",
       " 'grabs',\n",
       " 'attention',\n",
       " 'enhances',\n",
       " 'drama',\n",
       " 'meaning',\n",
       " 'scene',\n",
       " 'commentary',\n",
       " 'superb',\n",
       " 'hypnotic',\n",
       " 'effect',\n",
       " 'maintaining',\n",
       " 'focus',\n",
       " 'central',\n",
       " 'characters',\n",
       " 'scene',\n",
       " 'actions',\n",
       " 'br',\n",
       " 'br',\n",
       " 'could',\n",
       " 'talk',\n",
       " 'effects',\n",
       " 'think',\n",
       " 'would',\n",
       " 'agree',\n",
       " 'push',\n",
       " 'film',\n",
       " 'category',\n",
       " 'really',\n",
       " 'heighten',\n",
       " 'drama',\n",
       " 'film',\n",
       " 'film',\n",
       " 'buy',\n",
       " 'already',\n",
       " 'one',\n",
       " 'see',\n",
       " 'br',\n",
       " 'br',\n",
       " '10',\n",
       " '10',\n",
       " 'miss',\n",
       " 'artistic',\n",
       " 'noir',\n",
       " 'film',\n",
       " 'one',\n",
       " 'great',\n",
       " 'film',\n",
       " 'directors']"
      ]
     },
     "execution_count": 53,
     "metadata": {},
     "output_type": "execute_result"
    }
   ],
   "source": [
    "raw = lines1.lower()\n",
    "tokens = tokenizer.tokenize(raw)\n",
    "stopped_tokens = [i for i in tokens if i not in stop_words]\n",
    "stopped_tokens"
   ]
  },
  {
   "cell_type": "code",
   "execution_count": 54,
   "id": "cc9a7a47",
   "metadata": {
    "ExecuteTime": {
     "end_time": "2022-04-07T06:39:56.482442Z",
     "start_time": "2022-04-07T06:39:56.366754Z"
    }
   },
   "outputs": [
    {
     "data": {
      "text/plain": [
       "['outstanding',\n",
       " 'build',\n",
       " 'tension',\n",
       " 'focus',\n",
       " 'black',\n",
       " 'white',\n",
       " 'attention',\n",
       " 'superb',\n",
       " 'focus',\n",
       " 'talk',\n",
       " 'agree',\n",
       " 'heighten',\n",
       " 'artistic']"
      ]
     },
     "execution_count": 54,
     "metadata": {},
     "output_type": "execute_result"
    }
   ],
   "source": [
    "match_tokens = [x for x in stopped_tokens if x in list(nrc[0])] # nrc[0]은 단어목록\n",
    "match_tokens"
   ]
  },
  {
   "cell_type": "code",
   "execution_count": 55,
   "id": "8deceaa1",
   "metadata": {
    "ExecuteTime": {
     "end_time": "2022-04-07T06:39:56.936226Z",
     "start_time": "2022-04-07T06:39:56.910309Z"
    }
   },
   "outputs": [
    {
     "data": {
      "text/plain": [
       "['joy',\n",
       " 'negative',\n",
       " 'positive',\n",
       " 'positive',\n",
       " 'anger',\n",
       " 'positive',\n",
       " 'negative',\n",
       " 'sadness',\n",
       " 'anticipation',\n",
       " 'joy',\n",
       " 'positive',\n",
       " 'trust',\n",
       " 'positive',\n",
       " 'positive',\n",
       " 'positive',\n",
       " 'positive',\n",
       " 'positive',\n",
       " 'fear',\n",
       " 'negative',\n",
       " 'positive']"
      ]
     },
     "execution_count": 55,
     "metadata": {},
     "output_type": "execute_result"
    }
   ],
   "source": [
    "# emotion 단어 모아주기\n",
    "emotion = []\n",
    "\n",
    "for i in match_tokens:\n",
    "    em_word = nrc[nrc[0]==i][1].values\n",
    "    for j in em_word:\n",
    "        emotion.append(j)\n",
    "emotion"
   ]
  },
  {
   "cell_type": "code",
   "execution_count": 56,
   "id": "2b04b0e3",
   "metadata": {
    "ExecuteTime": {
     "end_time": "2022-04-07T06:39:59.608013Z",
     "start_time": "2022-04-07T06:39:59.598041Z"
    }
   },
   "outputs": [
    {
     "data": {
      "text/plain": [
       "positive        10\n",
       "negative         3\n",
       "joy              2\n",
       "anger            1\n",
       "sadness          1\n",
       "anticipation     1\n",
       "trust            1\n",
       "fear             1\n",
       "dtype: int64"
      ]
     },
     "execution_count": 56,
     "metadata": {},
     "output_type": "execute_result"
    }
   ],
   "source": [
    "sent_result = pd.Series(emotion).value_counts()\n",
    "sent_result"
   ]
  },
  {
   "cell_type": "code",
   "execution_count": 94,
   "id": "83b6bfa7",
   "metadata": {
    "ExecuteTime": {
     "end_time": "2022-04-07T10:01:35.642479Z",
     "start_time": "2022-04-07T10:01:35.624527Z"
    }
   },
   "outputs": [],
   "source": [
    "def emotion_score(series): # series: 감성 단어의 점수 series\n",
    "    emot_score = 0\n",
    "    for j in range(len(series)):\n",
    "        if series.index[j] in ('positive', 'anticipation', 'trust', 'joy', 'surprise'):\n",
    "            emot_score += series.iloc[j]\n",
    "        else:\n",
    "            emot_score -= series.iloc[j]\n",
    "    return emot_score"
   ]
  },
  {
   "cell_type": "code",
   "execution_count": 95,
   "id": "4980beba",
   "metadata": {
    "ExecuteTime": {
     "end_time": "2022-04-07T10:01:35.985460Z",
     "start_time": "2022-04-07T10:01:35.975483Z"
    }
   },
   "outputs": [
    {
     "data": {
      "text/plain": [
       "8"
      ]
     },
     "execution_count": 95,
     "metadata": {},
     "output_type": "execute_result"
    }
   ],
   "source": [
    "emotion_score(sent_result)"
   ]
  },
  {
   "cell_type": "code",
   "execution_count": null,
   "id": "5cc2a1c5",
   "metadata": {},
   "outputs": [],
   "source": []
  },
  {
   "cell_type": "code",
   "execution_count": 97,
   "id": "c8e2b72f",
   "metadata": {
    "ExecuteTime": {
     "end_time": "2022-04-07T10:02:28.453827Z",
     "start_time": "2022-04-07T10:02:28.376877Z"
    }
   },
   "outputs": [
    {
     "data": {
      "text/plain": [
       "-2"
      ]
     },
     "execution_count": 97,
     "metadata": {},
     "output_type": "execute_result"
    }
   ],
   "source": [
    "# 부정 댓글\n",
    "lines2 = neg_text\n",
    "\n",
    "raw = lines2.lower()\n",
    "tokens = tokenizer.tokenize(raw)\n",
    "stopped_tokens = [i for i in tokens if not i in stop_words]\n",
    "match_tokens = [x for x in stopped_tokens if x in list(nrc[0])]\n",
    "\n",
    "emotion = []\n",
    "for i in match_tokens:\n",
    "    em_word = nrc[nrc[0] == i][1].values\n",
    "    for j in em_word:\n",
    "        emotion.append(j)\n",
    "        \n",
    "sent_result = pd.Series(emotion).value_counts()\n",
    "\n",
    "emotion_score(sent_result)"
   ]
  },
  {
   "cell_type": "code",
   "execution_count": null,
   "id": "d396498e",
   "metadata": {},
   "outputs": [],
   "source": []
  },
  {
   "cell_type": "markdown",
   "id": "3069c783",
   "metadata": {},
   "source": [
    "## 한글 감성어 사전"
   ]
  },
  {
   "cell_type": "code",
   "execution_count": 98,
   "id": "00a03421",
   "metadata": {
    "ExecuteTime": {
     "end_time": "2022-04-07T10:04:14.986578Z",
     "start_time": "2022-04-07T10:04:14.952670Z"
    }
   },
   "outputs": [
    {
     "data": {
      "text/html": [
       "<div>\n",
       "<style scoped>\n",
       "    .dataframe tbody tr th:only-of-type {\n",
       "        vertical-align: middle;\n",
       "    }\n",
       "\n",
       "    .dataframe tbody tr th {\n",
       "        vertical-align: top;\n",
       "    }\n",
       "\n",
       "    .dataframe thead th {\n",
       "        text-align: right;\n",
       "    }\n",
       "</style>\n",
       "<table border=\"1\" class=\"dataframe\">\n",
       "  <thead>\n",
       "    <tr style=\"text-align: right;\">\n",
       "      <th></th>\n",
       "      <th>ngram</th>\n",
       "      <th>freq</th>\n",
       "      <th>COMP</th>\n",
       "      <th>NEG</th>\n",
       "      <th>NEUT</th>\n",
       "      <th>None</th>\n",
       "      <th>POS</th>\n",
       "      <th>max.value</th>\n",
       "      <th>max.prop</th>\n",
       "    </tr>\n",
       "  </thead>\n",
       "  <tbody>\n",
       "    <tr>\n",
       "      <th>0</th>\n",
       "      <td>가*/JKS</td>\n",
       "      <td>1</td>\n",
       "      <td>0.0</td>\n",
       "      <td>0.000000</td>\n",
       "      <td>0.000000</td>\n",
       "      <td>0.0</td>\n",
       "      <td>1.000000</td>\n",
       "      <td>POS</td>\n",
       "      <td>1.000000</td>\n",
       "    </tr>\n",
       "    <tr>\n",
       "      <th>1</th>\n",
       "      <td>가*/JKS;있/VV</td>\n",
       "      <td>1</td>\n",
       "      <td>0.0</td>\n",
       "      <td>0.000000</td>\n",
       "      <td>0.000000</td>\n",
       "      <td>0.0</td>\n",
       "      <td>1.000000</td>\n",
       "      <td>POS</td>\n",
       "      <td>1.000000</td>\n",
       "    </tr>\n",
       "    <tr>\n",
       "      <th>2</th>\n",
       "      <td>가*/JKS;있/VV;었/EP</td>\n",
       "      <td>1</td>\n",
       "      <td>0.0</td>\n",
       "      <td>0.000000</td>\n",
       "      <td>0.000000</td>\n",
       "      <td>0.0</td>\n",
       "      <td>1.000000</td>\n",
       "      <td>POS</td>\n",
       "      <td>1.000000</td>\n",
       "    </tr>\n",
       "    <tr>\n",
       "      <th>3</th>\n",
       "      <td>가*/VV</td>\n",
       "      <td>3</td>\n",
       "      <td>0.0</td>\n",
       "      <td>0.000000</td>\n",
       "      <td>0.000000</td>\n",
       "      <td>0.0</td>\n",
       "      <td>1.000000</td>\n",
       "      <td>POS</td>\n",
       "      <td>1.000000</td>\n",
       "    </tr>\n",
       "    <tr>\n",
       "      <th>4</th>\n",
       "      <td>가*/VV;ㄴ다*/EF</td>\n",
       "      <td>1</td>\n",
       "      <td>0.0</td>\n",
       "      <td>0.000000</td>\n",
       "      <td>0.000000</td>\n",
       "      <td>0.0</td>\n",
       "      <td>1.000000</td>\n",
       "      <td>POS</td>\n",
       "      <td>1.000000</td>\n",
       "    </tr>\n",
       "    <tr>\n",
       "      <th>5</th>\n",
       "      <td>가/JKC</td>\n",
       "      <td>17</td>\n",
       "      <td>0.0</td>\n",
       "      <td>0.470588</td>\n",
       "      <td>0.235294</td>\n",
       "      <td>0.0</td>\n",
       "      <td>0.294118</td>\n",
       "      <td>NEG</td>\n",
       "      <td>0.470588</td>\n",
       "    </tr>\n",
       "    <tr>\n",
       "      <th>6</th>\n",
       "      <td>가/JKC;되/VV</td>\n",
       "      <td>11</td>\n",
       "      <td>0.0</td>\n",
       "      <td>0.363636</td>\n",
       "      <td>0.272727</td>\n",
       "      <td>0.0</td>\n",
       "      <td>0.363636</td>\n",
       "      <td>NEG</td>\n",
       "      <td>0.363636</td>\n",
       "    </tr>\n",
       "    <tr>\n",
       "      <th>7</th>\n",
       "      <td>가/JKC;되/VV;ㄴ/ETM</td>\n",
       "      <td>2</td>\n",
       "      <td>0.0</td>\n",
       "      <td>0.000000</td>\n",
       "      <td>1.000000</td>\n",
       "      <td>0.0</td>\n",
       "      <td>0.000000</td>\n",
       "      <td>NEUT</td>\n",
       "      <td>1.000000</td>\n",
       "    </tr>\n",
       "    <tr>\n",
       "      <th>8</th>\n",
       "      <td>가/JKC;되/VV;ㄹ/ETM</td>\n",
       "      <td>1</td>\n",
       "      <td>0.0</td>\n",
       "      <td>0.000000</td>\n",
       "      <td>1.000000</td>\n",
       "      <td>0.0</td>\n",
       "      <td>0.000000</td>\n",
       "      <td>NEUT</td>\n",
       "      <td>1.000000</td>\n",
       "    </tr>\n",
       "    <tr>\n",
       "      <th>9</th>\n",
       "      <td>가/JKC;되/VV;어/EC</td>\n",
       "      <td>2</td>\n",
       "      <td>0.0</td>\n",
       "      <td>1.000000</td>\n",
       "      <td>0.000000</td>\n",
       "      <td>0.0</td>\n",
       "      <td>0.000000</td>\n",
       "      <td>NEG</td>\n",
       "      <td>1.000000</td>\n",
       "    </tr>\n",
       "  </tbody>\n",
       "</table>\n",
       "</div>"
      ],
      "text/plain": [
       "              ngram  freq  COMP       NEG      NEUT  None       POS max.value  \\\n",
       "0            가*/JKS     1   0.0  0.000000  0.000000   0.0  1.000000       POS   \n",
       "1       가*/JKS;있/VV     1   0.0  0.000000  0.000000   0.0  1.000000       POS   \n",
       "2  가*/JKS;있/VV;었/EP     1   0.0  0.000000  0.000000   0.0  1.000000       POS   \n",
       "3             가*/VV     3   0.0  0.000000  0.000000   0.0  1.000000       POS   \n",
       "4      가*/VV;ㄴ다*/EF     1   0.0  0.000000  0.000000   0.0  1.000000       POS   \n",
       "5             가/JKC    17   0.0  0.470588  0.235294   0.0  0.294118       NEG   \n",
       "6        가/JKC;되/VV    11   0.0  0.363636  0.272727   0.0  0.363636       NEG   \n",
       "7  가/JKC;되/VV;ㄴ/ETM     2   0.0  0.000000  1.000000   0.0  0.000000      NEUT   \n",
       "8  가/JKC;되/VV;ㄹ/ETM     1   0.0  0.000000  1.000000   0.0  0.000000      NEUT   \n",
       "9   가/JKC;되/VV;어/EC     2   0.0  1.000000  0.000000   0.0  0.000000       NEG   \n",
       "\n",
       "   max.prop  \n",
       "0  1.000000  \n",
       "1  1.000000  \n",
       "2  1.000000  \n",
       "3  1.000000  \n",
       "4  1.000000  \n",
       "5  0.470588  \n",
       "6  0.363636  \n",
       "7  1.000000  \n",
       "8  1.000000  \n",
       "9  1.000000  "
      ]
     },
     "execution_count": 98,
     "metadata": {},
     "output_type": "execute_result"
    }
   ],
   "source": [
    "ko_dict = pd.read_csv('./data/polarity.csv')\n",
    "ko_dict.head(10)"
   ]
  },
  {
   "cell_type": "code",
   "execution_count": 99,
   "id": "1667face",
   "metadata": {
    "ExecuteTime": {
     "end_time": "2022-04-07T10:04:15.283143Z",
     "start_time": "2022-04-07T10:04:15.272140Z"
    }
   },
   "outputs": [],
   "source": [
    "import csv"
   ]
  },
  {
   "cell_type": "code",
   "execution_count": 69,
   "id": "1099ab6c",
   "metadata": {
    "ExecuteTime": {
     "end_time": "2022-04-07T06:56:39.253484Z",
     "start_time": "2022-04-07T06:56:39.216597Z"
    }
   },
   "outputs": [],
   "source": [
    "table = dict()\n",
    "\n",
    "with open('./data/polarity.csv', 'r', -1, 'utf-8') as polarity:\n",
    "    next(polarity)\n",
    "    \n",
    "    for line in csv.reader(polarity):\n",
    "        key = str()\n",
    "        for word in line[0].split(':'):\n",
    "            key += word.split('/')[0]\n",
    "        table[key] = {'neg': line[3], 'neut': line[4], 'pos': line[6]}"
   ]
  },
  {
   "cell_type": "code",
   "execution_count": null,
   "id": "5795840c",
   "metadata": {},
   "outputs": [],
   "source": [
    "columns = ['neg', 'neut', 'pos']\n",
    "\n",
    "df= pd.DataFrame(colunms)"
   ]
  },
  {
   "cell_type": "code",
   "execution_count": null,
   "id": "c98c4d35",
   "metadata": {},
   "outputs": [],
   "source": []
  },
  {
   "cell_type": "code",
   "execution_count": null,
   "id": "a4895b70",
   "metadata": {},
   "outputs": [],
   "source": []
  },
  {
   "cell_type": "code",
   "execution_count": null,
   "id": "2e830429",
   "metadata": {},
   "outputs": [],
   "source": []
  },
  {
   "cell_type": "code",
   "execution_count": null,
   "id": "b7d6d516",
   "metadata": {},
   "outputs": [],
   "source": []
  },
  {
   "cell_type": "code",
   "execution_count": null,
   "id": "80c6a7f3",
   "metadata": {},
   "outputs": [],
   "source": []
  },
  {
   "cell_type": "code",
   "execution_count": null,
   "id": "c0e86fbf",
   "metadata": {},
   "outputs": [],
   "source": []
  },
  {
   "cell_type": "code",
   "execution_count": null,
   "id": "befb0797",
   "metadata": {},
   "outputs": [],
   "source": []
  },
  {
   "cell_type": "code",
   "execution_count": null,
   "id": "7332cfe0",
   "metadata": {},
   "outputs": [],
   "source": []
  }
 ],
 "metadata": {
  "kernelspec": {
   "display_name": "Python 3 (ipykernel)",
   "language": "python",
   "name": "python3"
  },
  "language_info": {
   "codemirror_mode": {
    "name": "ipython",
    "version": 3
   },
   "file_extension": ".py",
   "mimetype": "text/x-python",
   "name": "python",
   "nbconvert_exporter": "python",
   "pygments_lexer": "ipython3",
   "version": "3.9.7"
  },
  "toc": {
   "base_numbering": 1,
   "nav_menu": {},
   "number_sections": true,
   "sideBar": true,
   "skip_h1_title": false,
   "title_cell": "Table of Contents",
   "title_sidebar": "Contents",
   "toc_cell": false,
   "toc_position": {},
   "toc_section_display": true,
   "toc_window_display": true
  },
  "varInspector": {
   "cols": {
    "lenName": 16,
    "lenType": 16,
    "lenVar": 40
   },
   "kernels_config": {
    "python": {
     "delete_cmd_postfix": "",
     "delete_cmd_prefix": "del ",
     "library": "var_list.py",
     "varRefreshCmd": "print(var_dic_list())"
    },
    "r": {
     "delete_cmd_postfix": ") ",
     "delete_cmd_prefix": "rm(",
     "library": "var_list.r",
     "varRefreshCmd": "cat(var_dic_list()) "
    }
   },
   "types_to_exclude": [
    "module",
    "function",
    "builtin_function_or_method",
    "instance",
    "_Feature"
   ],
   "window_display": false
  }
 },
 "nbformat": 4,
 "nbformat_minor": 5
}
