{
 "cells": [
  {
   "cell_type": "code",
   "execution_count": 1,
   "id": "fbf16401",
   "metadata": {
    "ExecuteTime": {
     "end_time": "2022-04-05T03:37:49.222696Z",
     "start_time": "2022-04-05T03:37:49.215715Z"
    }
   },
   "outputs": [],
   "source": [
    "# 한글 처리 => 형태소 단위 처리 => 형태소 분석기 => konlpy\n",
    "# 형태소 : 문장에서 의미를 갖는 가장 작은 단위\n",
    "# 형태소 분석기 : 한글에서 형태소를 추출하는 분석기"
   ]
  },
  {
   "cell_type": "code",
   "execution_count": 1,
   "id": "d258ca9d",
   "metadata": {
    "ExecuteTime": {
     "end_time": "2022-04-05T05:10:55.041810Z",
     "start_time": "2022-04-05T05:10:55.026850Z"
    }
   },
   "outputs": [],
   "source": [
    "# !pip install konlpy"
   ]
  },
  {
   "cell_type": "code",
   "execution_count": 2,
   "id": "e9d54b26",
   "metadata": {
    "ExecuteTime": {
     "end_time": "2022-04-05T05:26:21.987284Z",
     "start_time": "2022-04-05T05:26:21.971294Z"
    },
    "scrolled": true
   },
   "outputs": [],
   "source": [
    "import konlpy"
   ]
  },
  {
   "cell_type": "code",
   "execution_count": 3,
   "id": "7647e0e2",
   "metadata": {
    "ExecuteTime": {
     "end_time": "2022-04-05T05:26:22.496890Z",
     "start_time": "2022-04-05T05:26:22.483955Z"
    }
   },
   "outputs": [],
   "source": [
    "from konlpy.tag import Hannanum, Kkma, Komoran, Twitter # Mecab, Kahiii"
   ]
  },
  {
   "cell_type": "code",
   "execution_count": 4,
   "id": "f54e5624",
   "metadata": {
    "ExecuteTime": {
     "end_time": "2022-04-05T05:26:24.792752Z",
     "start_time": "2022-04-05T05:26:22.914773Z"
    }
   },
   "outputs": [],
   "source": [
    "kor = Komoran()"
   ]
  },
  {
   "cell_type": "code",
   "execution_count": 7,
   "id": "5671da14",
   "metadata": {
    "ExecuteTime": {
     "end_time": "2022-04-05T05:39:34.785433Z",
     "start_time": "2022-04-05T05:39:34.773439Z"
    }
   },
   "outputs": [],
   "source": [
    "text = \"최근 1년 사이 집을 산 20~30대의 평균 빚이 1억6000만원대라는 설문조사 결과가 나왔다. 현재 무주택인 20~30대 중 향후 2년 내 집을 마련하겠다는 비율은 10명 중 1명 수준에 불과했다.\" "
   ]
  },
  {
   "cell_type": "code",
   "execution_count": 13,
   "id": "9af55b8a",
   "metadata": {
    "ExecuteTime": {
     "end_time": "2022-04-05T05:45:29.955981Z",
     "start_time": "2022-04-05T05:45:29.940023Z"
    },
    "scrolled": true
   },
   "outputs": [
    {
     "data": {
      "text/plain": [
       "['최근',\n",
       " '1',\n",
       " '년',\n",
       " '사이',\n",
       " '집',\n",
       " '을',\n",
       " '살',\n",
       " 'ㄴ',\n",
       " '20',\n",
       " '~',\n",
       " '30대',\n",
       " '의',\n",
       " '평균',\n",
       " '빚',\n",
       " '이',\n",
       " '1',\n",
       " '억',\n",
       " '6000',\n",
       " '만원',\n",
       " '대']"
      ]
     },
     "execution_count": 13,
     "metadata": {},
     "output_type": "execute_result"
    }
   ],
   "source": [
    "kor.morphs(text)[:20]"
   ]
  },
  {
   "cell_type": "code",
   "execution_count": 14,
   "id": "f6a2bfd5",
   "metadata": {
    "ExecuteTime": {
     "end_time": "2022-04-05T05:45:36.669036Z",
     "start_time": "2022-04-05T05:45:36.660060Z"
    },
    "scrolled": true
   },
   "outputs": [
    {
     "data": {
      "text/plain": [
       "['최근',\n",
       " '년',\n",
       " '사이',\n",
       " '집',\n",
       " '30대',\n",
       " '평균',\n",
       " '빚',\n",
       " '만원',\n",
       " '대',\n",
       " '설문',\n",
       " '조사',\n",
       " '결과',\n",
       " '주택',\n",
       " '30대',\n",
       " '중',\n",
       " '향후',\n",
       " '년',\n",
       " '집',\n",
       " '마련',\n",
       " '비율']"
      ]
     },
     "execution_count": 14,
     "metadata": {},
     "output_type": "execute_result"
    }
   ],
   "source": [
    "# 명사\n",
    "kor.nouns(text)[:20]"
   ]
  },
  {
   "cell_type": "code",
   "execution_count": 15,
   "id": "f75266b3",
   "metadata": {
    "ExecuteTime": {
     "end_time": "2022-04-05T05:45:38.935976Z",
     "start_time": "2022-04-05T05:45:38.916057Z"
    },
    "scrolled": true
   },
   "outputs": [
    {
     "data": {
      "text/plain": [
       "[('최근', 'NNG'),\n",
       " ('1', 'SN'),\n",
       " ('년', 'NNB'),\n",
       " ('사이', 'NNG'),\n",
       " ('집', 'NNG'),\n",
       " ('을', 'JKO'),\n",
       " ('살', 'VV'),\n",
       " ('ㄴ', 'ETM'),\n",
       " ('20', 'SN'),\n",
       " ('~', 'SO'),\n",
       " ('30대', 'NNP'),\n",
       " ('의', 'JKG'),\n",
       " ('평균', 'NNG'),\n",
       " ('빚', 'NNG'),\n",
       " ('이', 'JKS'),\n",
       " ('1', 'SN'),\n",
       " ('억', 'NR'),\n",
       " ('6000', 'SN'),\n",
       " ('만원', 'NNP'),\n",
       " ('대', 'NNB')]"
      ]
     },
     "execution_count": 15,
     "metadata": {},
     "output_type": "execute_result"
    }
   ],
   "source": [
    "# 형태소, 태그\n",
    "kor.pos(text)[:20]"
   ]
  },
  {
   "cell_type": "code",
   "execution_count": 11,
   "id": "dd256b88",
   "metadata": {
    "ExecuteTime": {
     "end_time": "2022-04-05T05:45:05.460461Z",
     "start_time": "2022-04-05T05:45:05.444532Z"
    }
   },
   "outputs": [],
   "source": [
    "han = Hannanum()"
   ]
  },
  {
   "cell_type": "code",
   "execution_count": 16,
   "id": "0a151ebe",
   "metadata": {
    "ExecuteTime": {
     "end_time": "2022-04-05T05:46:42.402349Z",
     "start_time": "2022-04-05T05:46:42.388359Z"
    }
   },
   "outputs": [
    {
     "data": {
      "text/plain": [
       "['최근',\n",
       " '1년',\n",
       " '사이',\n",
       " '집',\n",
       " '을',\n",
       " '사',\n",
       " 'ㄴ',\n",
       " '20',\n",
       " '~',\n",
       " '30대',\n",
       " '의',\n",
       " '평균',\n",
       " '빚',\n",
       " '이',\n",
       " '1억6000만원',\n",
       " '대',\n",
       " '라는',\n",
       " '설문조사',\n",
       " '결과',\n",
       " '가']"
      ]
     },
     "execution_count": 16,
     "metadata": {},
     "output_type": "execute_result"
    }
   ],
   "source": [
    "han.morphs(text)[:20]"
   ]
  },
  {
   "cell_type": "code",
   "execution_count": 17,
   "id": "c26b91a2",
   "metadata": {
    "ExecuteTime": {
     "end_time": "2022-04-05T05:48:13.847875Z",
     "start_time": "2022-04-05T05:48:13.827971Z"
    }
   },
   "outputs": [
    {
     "data": {
      "text/plain": [
       "[('최근', 'M'),\n",
       " ('1년', 'N'),\n",
       " ('사이', 'N'),\n",
       " ('집', 'N'),\n",
       " ('을', 'J'),\n",
       " ('사', 'P'),\n",
       " ('ㄴ', 'E'),\n",
       " ('20', 'N'),\n",
       " ('~', 'S'),\n",
       " ('30대', 'N'),\n",
       " ('의', 'J'),\n",
       " ('평균', 'N'),\n",
       " ('빚', 'N'),\n",
       " ('이', 'J'),\n",
       " ('1억6000만원', 'N'),\n",
       " ('대', 'X'),\n",
       " ('라는', 'J'),\n",
       " ('설문조사', 'N'),\n",
       " ('결과', 'N'),\n",
       " ('가', 'J'),\n",
       " ('나', 'N')]"
      ]
     },
     "execution_count": 17,
     "metadata": {},
     "output_type": "execute_result"
    }
   ],
   "source": [
    " han.pos(text[:50])"
   ]
  },
  {
   "cell_type": "code",
   "execution_count": 18,
   "id": "f1f86ac0",
   "metadata": {
    "ExecuteTime": {
     "end_time": "2022-04-05T05:49:13.652277Z",
     "start_time": "2022-04-05T05:49:13.636300Z"
    }
   },
   "outputs": [],
   "source": [
    "kkm =Kkma()"
   ]
  },
  {
   "cell_type": "code",
   "execution_count": 19,
   "id": "a64e9f2d",
   "metadata": {
    "ExecuteTime": {
     "end_time": "2022-04-05T05:49:36.994851Z",
     "start_time": "2022-04-05T05:49:33.748557Z"
    }
   },
   "outputs": [
    {
     "data": {
      "text/plain": [
       "['최근',\n",
       " '1',\n",
       " '년',\n",
       " '사이',\n",
       " '집',\n",
       " '을',\n",
       " '사',\n",
       " 'ㄴ',\n",
       " '20',\n",
       " '~',\n",
       " '30',\n",
       " '대',\n",
       " '의',\n",
       " '평균',\n",
       " '빚',\n",
       " '이',\n",
       " '1',\n",
       " '억',\n",
       " '6000',\n",
       " '만',\n",
       " '원',\n",
       " '대',\n",
       " '이',\n",
       " '라는',\n",
       " '설문',\n",
       " '조사',\n",
       " '결과',\n",
       " '가',\n",
       " '나']"
      ]
     },
     "execution_count": 19,
     "metadata": {},
     "output_type": "execute_result"
    }
   ],
   "source": [
    "kkm.morphs(text[:50])"
   ]
  },
  {
   "cell_type": "code",
   "execution_count": 20,
   "id": "2d807c1a",
   "metadata": {
    "ExecuteTime": {
     "end_time": "2022-04-05T05:49:55.786618Z",
     "start_time": "2022-04-05T05:49:55.748719Z"
    }
   },
   "outputs": [
    {
     "data": {
      "text/plain": [
       "[('최근', 'NNG'),\n",
       " ('1', 'NR'),\n",
       " ('년', 'NNM'),\n",
       " ('사이', 'NNG'),\n",
       " ('집', 'NNG'),\n",
       " ('을', 'JKO'),\n",
       " ('사', 'VV'),\n",
       " ('ㄴ', 'ETD'),\n",
       " ('20', 'NR'),\n",
       " ('~', 'SO'),\n",
       " ('30', 'NR'),\n",
       " ('대', 'NNB'),\n",
       " ('의', 'JKG'),\n",
       " ('평균', 'NNG'),\n",
       " ('빚', 'NNG'),\n",
       " ('이', 'JKS'),\n",
       " ('1', 'NR'),\n",
       " ('억', 'NR'),\n",
       " ('6000', 'NR'),\n",
       " ('만', 'NR'),\n",
       " ('원', 'NNM'),\n",
       " ('대', 'NNG'),\n",
       " ('이', 'VCP'),\n",
       " ('라는', 'ETD'),\n",
       " ('설문', 'NNG'),\n",
       " ('조사', 'NNG'),\n",
       " ('결과', 'NNG'),\n",
       " ('가', 'JKS'),\n",
       " ('나', 'NNG')]"
      ]
     },
     "execution_count": 20,
     "metadata": {},
     "output_type": "execute_result"
    }
   ],
   "source": [
    "kkm.pos(text[:50])"
   ]
  },
  {
   "cell_type": "code",
   "execution_count": null,
   "id": "6af31a91",
   "metadata": {},
   "outputs": [],
   "source": [
    " "
   ]
  }
 ],
 "metadata": {
  "kernelspec": {
   "display_name": "Python 3 (ipykernel)",
   "language": "python",
   "name": "python3"
  },
  "language_info": {
   "codemirror_mode": {
    "name": "ipython",
    "version": 3
   },
   "file_extension": ".py",
   "mimetype": "text/x-python",
   "name": "python",
   "nbconvert_exporter": "python",
   "pygments_lexer": "ipython3",
   "version": "3.9.7"
  },
  "toc": {
   "base_numbering": 1,
   "nav_menu": {},
   "number_sections": true,
   "sideBar": true,
   "skip_h1_title": false,
   "title_cell": "Table of Contents",
   "title_sidebar": "Contents",
   "toc_cell": false,
   "toc_position": {},
   "toc_section_display": true,
   "toc_window_display": false
  },
  "varInspector": {
   "cols": {
    "lenName": 16,
    "lenType": 16,
    "lenVar": 40
   },
   "kernels_config": {
    "python": {
     "delete_cmd_postfix": "",
     "delete_cmd_prefix": "del ",
     "library": "var_list.py",
     "varRefreshCmd": "print(var_dic_list())"
    },
    "r": {
     "delete_cmd_postfix": ") ",
     "delete_cmd_prefix": "rm(",
     "library": "var_list.r",
     "varRefreshCmd": "cat(var_dic_list()) "
    }
   },
   "types_to_exclude": [
    "module",
    "function",
    "builtin_function_or_method",
    "instance",
    "_Feature"
   ],
   "window_display": false
  }
 },
 "nbformat": 4,
 "nbformat_minor": 5
}
