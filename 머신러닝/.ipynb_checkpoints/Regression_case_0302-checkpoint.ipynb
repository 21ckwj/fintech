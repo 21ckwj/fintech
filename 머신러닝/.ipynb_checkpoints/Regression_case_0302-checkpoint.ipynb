{
 "cells": [
  {
   "cell_type": "code",
   "execution_count": 1,
   "id": "1ce2f555",
   "metadata": {},
   "outputs": [],
   "source": [
    "import pandas as pd\n",
    "import numpy as np\n",
    "import matplotlib.pyplot as plt\n",
    "import seaborn as sns"
   ]
  },
  {
   "cell_type": "code",
   "execution_count": 2,
   "id": "8c6d012e",
   "metadata": {},
   "outputs": [
    {
     "data": {
      "text/html": [
       "<div>\n",
       "<style scoped>\n",
       "    .dataframe tbody tr th:only-of-type {\n",
       "        vertical-align: middle;\n",
       "    }\n",
       "\n",
       "    .dataframe tbody tr th {\n",
       "        vertical-align: top;\n",
       "    }\n",
       "\n",
       "    .dataframe thead th {\n",
       "        text-align: right;\n",
       "    }\n",
       "</style>\n",
       "<table border=\"1\" class=\"dataframe\">\n",
       "  <thead>\n",
       "    <tr style=\"text-align: right;\">\n",
       "      <th></th>\n",
       "      <th>datetime</th>\n",
       "      <th>season</th>\n",
       "      <th>holiday</th>\n",
       "      <th>workingday</th>\n",
       "      <th>weather</th>\n",
       "      <th>temp</th>\n",
       "      <th>atemp</th>\n",
       "      <th>humidity</th>\n",
       "      <th>windspeed</th>\n",
       "      <th>casual</th>\n",
       "      <th>registered</th>\n",
       "      <th>count</th>\n",
       "    </tr>\n",
       "  </thead>\n",
       "  <tbody>\n",
       "    <tr>\n",
       "      <th>0</th>\n",
       "      <td>2011-01-01 00:00:00</td>\n",
       "      <td>1</td>\n",
       "      <td>0</td>\n",
       "      <td>0</td>\n",
       "      <td>1</td>\n",
       "      <td>9.84</td>\n",
       "      <td>14.395</td>\n",
       "      <td>81</td>\n",
       "      <td>0.0</td>\n",
       "      <td>3</td>\n",
       "      <td>13</td>\n",
       "      <td>16</td>\n",
       "    </tr>\n",
       "    <tr>\n",
       "      <th>1</th>\n",
       "      <td>2011-01-01 01:00:00</td>\n",
       "      <td>1</td>\n",
       "      <td>0</td>\n",
       "      <td>0</td>\n",
       "      <td>1</td>\n",
       "      <td>9.02</td>\n",
       "      <td>13.635</td>\n",
       "      <td>80</td>\n",
       "      <td>0.0</td>\n",
       "      <td>8</td>\n",
       "      <td>32</td>\n",
       "      <td>40</td>\n",
       "    </tr>\n",
       "    <tr>\n",
       "      <th>2</th>\n",
       "      <td>2011-01-01 02:00:00</td>\n",
       "      <td>1</td>\n",
       "      <td>0</td>\n",
       "      <td>0</td>\n",
       "      <td>1</td>\n",
       "      <td>9.02</td>\n",
       "      <td>13.635</td>\n",
       "      <td>80</td>\n",
       "      <td>0.0</td>\n",
       "      <td>5</td>\n",
       "      <td>27</td>\n",
       "      <td>32</td>\n",
       "    </tr>\n",
       "    <tr>\n",
       "      <th>3</th>\n",
       "      <td>2011-01-01 03:00:00</td>\n",
       "      <td>1</td>\n",
       "      <td>0</td>\n",
       "      <td>0</td>\n",
       "      <td>1</td>\n",
       "      <td>9.84</td>\n",
       "      <td>14.395</td>\n",
       "      <td>75</td>\n",
       "      <td>0.0</td>\n",
       "      <td>3</td>\n",
       "      <td>10</td>\n",
       "      <td>13</td>\n",
       "    </tr>\n",
       "    <tr>\n",
       "      <th>4</th>\n",
       "      <td>2011-01-01 04:00:00</td>\n",
       "      <td>1</td>\n",
       "      <td>0</td>\n",
       "      <td>0</td>\n",
       "      <td>1</td>\n",
       "      <td>9.84</td>\n",
       "      <td>14.395</td>\n",
       "      <td>75</td>\n",
       "      <td>0.0</td>\n",
       "      <td>0</td>\n",
       "      <td>1</td>\n",
       "      <td>1</td>\n",
       "    </tr>\n",
       "  </tbody>\n",
       "</table>\n",
       "</div>"
      ],
      "text/plain": [
       "              datetime  season  holiday  workingday  weather  temp   atemp  \\\n",
       "0  2011-01-01 00:00:00       1        0           0        1  9.84  14.395   \n",
       "1  2011-01-01 01:00:00       1        0           0        1  9.02  13.635   \n",
       "2  2011-01-01 02:00:00       1        0           0        1  9.02  13.635   \n",
       "3  2011-01-01 03:00:00       1        0           0        1  9.84  14.395   \n",
       "4  2011-01-01 04:00:00       1        0           0        1  9.84  14.395   \n",
       "\n",
       "   humidity  windspeed  casual  registered  count  \n",
       "0        81        0.0       3          13     16  \n",
       "1        80        0.0       8          32     40  \n",
       "2        80        0.0       5          27     32  \n",
       "3        75        0.0       3          10     13  \n",
       "4        75        0.0       0           1      1  "
      ]
     },
     "execution_count": 2,
     "metadata": {},
     "output_type": "execute_result"
    }
   ],
   "source": [
    "df = pd.read_csv('./data_ml/bike_sharing.csv')\n",
    "df.head()"
   ]
  },
  {
   "cell_type": "code",
   "execution_count": 3,
   "id": "8446032c",
   "metadata": {},
   "outputs": [
    {
     "name": "stdout",
     "output_type": "stream",
     "text": [
      "<class 'pandas.core.frame.DataFrame'>\n",
      "RangeIndex: 10886 entries, 0 to 10885\n",
      "Data columns (total 12 columns):\n",
      " #   Column      Non-Null Count  Dtype  \n",
      "---  ------      --------------  -----  \n",
      " 0   datetime    10886 non-null  object \n",
      " 1   season      10886 non-null  int64  \n",
      " 2   holiday     10886 non-null  int64  \n",
      " 3   workingday  10886 non-null  int64  \n",
      " 4   weather     10886 non-null  int64  \n",
      " 5   temp        10886 non-null  float64\n",
      " 6   atemp       10886 non-null  float64\n",
      " 7   humidity    10886 non-null  int64  \n",
      " 8   windspeed   10886 non-null  float64\n",
      " 9   casual      10886 non-null  int64  \n",
      " 10  registered  10886 non-null  int64  \n",
      " 11  count       10886 non-null  int64  \n",
      "dtypes: float64(3), int64(8), object(1)\n",
      "memory usage: 1020.7+ KB\n"
     ]
    }
   ],
   "source": [
    "df.info()"
   ]
  },
  {
   "cell_type": "code",
   "execution_count": 4,
   "id": "92435d9b",
   "metadata": {},
   "outputs": [],
   "source": [
    "df.datetime = df.datetime.astype('datetime64')"
   ]
  },
  {
   "cell_type": "code",
   "execution_count": 5,
   "id": "6c7bfe57",
   "metadata": {},
   "outputs": [
    {
     "data": {
      "text/plain": [
       "0         1\n",
       "1         1\n",
       "2         1\n",
       "3         1\n",
       "4         1\n",
       "         ..\n",
       "10881    12\n",
       "10882    12\n",
       "10883    12\n",
       "10884    12\n",
       "10885    12\n",
       "Name: datetime, Length: 10886, dtype: int64"
      ]
     },
     "execution_count": 5,
     "metadata": {},
     "output_type": "execute_result"
    }
   ],
   "source": [
    "df['datetime'].apply(lambda x : x.month)"
   ]
  },
  {
   "cell_type": "code",
   "execution_count": 6,
   "id": "44e54ccf",
   "metadata": {},
   "outputs": [],
   "source": [
    "df['year'] = df['datetime'].apply(lambda x : str(x.year))\n",
    "df['month'] = df['datetime'].apply(lambda x : str(x.month))\n",
    "df['day'] = df['datetime'].apply(lambda x : str(x.day))\n",
    "df['hour'] = df['datetime'].apply(lambda x : str(x.hour))"
   ]
  },
  {
   "cell_type": "code",
   "execution_count": 7,
   "id": "e65e0713",
   "metadata": {},
   "outputs": [
    {
     "data": {
      "text/html": [
       "<div>\n",
       "<style scoped>\n",
       "    .dataframe tbody tr th:only-of-type {\n",
       "        vertical-align: middle;\n",
       "    }\n",
       "\n",
       "    .dataframe tbody tr th {\n",
       "        vertical-align: top;\n",
       "    }\n",
       "\n",
       "    .dataframe thead th {\n",
       "        text-align: right;\n",
       "    }\n",
       "</style>\n",
       "<table border=\"1\" class=\"dataframe\">\n",
       "  <thead>\n",
       "    <tr style=\"text-align: right;\">\n",
       "      <th></th>\n",
       "      <th>datetime</th>\n",
       "      <th>season</th>\n",
       "      <th>holiday</th>\n",
       "      <th>workingday</th>\n",
       "      <th>weather</th>\n",
       "      <th>temp</th>\n",
       "      <th>atemp</th>\n",
       "      <th>humidity</th>\n",
       "      <th>windspeed</th>\n",
       "      <th>casual</th>\n",
       "      <th>registered</th>\n",
       "      <th>count</th>\n",
       "      <th>year</th>\n",
       "      <th>month</th>\n",
       "      <th>day</th>\n",
       "      <th>hour</th>\n",
       "    </tr>\n",
       "  </thead>\n",
       "  <tbody>\n",
       "    <tr>\n",
       "      <th>0</th>\n",
       "      <td>2011-01-01 00:00:00</td>\n",
       "      <td>1</td>\n",
       "      <td>0</td>\n",
       "      <td>0</td>\n",
       "      <td>1</td>\n",
       "      <td>9.84</td>\n",
       "      <td>14.395</td>\n",
       "      <td>81</td>\n",
       "      <td>0.0</td>\n",
       "      <td>3</td>\n",
       "      <td>13</td>\n",
       "      <td>16</td>\n",
       "      <td>2011</td>\n",
       "      <td>1</td>\n",
       "      <td>1</td>\n",
       "      <td>0</td>\n",
       "    </tr>\n",
       "    <tr>\n",
       "      <th>1</th>\n",
       "      <td>2011-01-01 01:00:00</td>\n",
       "      <td>1</td>\n",
       "      <td>0</td>\n",
       "      <td>0</td>\n",
       "      <td>1</td>\n",
       "      <td>9.02</td>\n",
       "      <td>13.635</td>\n",
       "      <td>80</td>\n",
       "      <td>0.0</td>\n",
       "      <td>8</td>\n",
       "      <td>32</td>\n",
       "      <td>40</td>\n",
       "      <td>2011</td>\n",
       "      <td>1</td>\n",
       "      <td>1</td>\n",
       "      <td>1</td>\n",
       "    </tr>\n",
       "    <tr>\n",
       "      <th>2</th>\n",
       "      <td>2011-01-01 02:00:00</td>\n",
       "      <td>1</td>\n",
       "      <td>0</td>\n",
       "      <td>0</td>\n",
       "      <td>1</td>\n",
       "      <td>9.02</td>\n",
       "      <td>13.635</td>\n",
       "      <td>80</td>\n",
       "      <td>0.0</td>\n",
       "      <td>5</td>\n",
       "      <td>27</td>\n",
       "      <td>32</td>\n",
       "      <td>2011</td>\n",
       "      <td>1</td>\n",
       "      <td>1</td>\n",
       "      <td>2</td>\n",
       "    </tr>\n",
       "  </tbody>\n",
       "</table>\n",
       "</div>"
      ],
      "text/plain": [
       "             datetime  season  holiday  workingday  weather  temp   atemp  \\\n",
       "0 2011-01-01 00:00:00       1        0           0        1  9.84  14.395   \n",
       "1 2011-01-01 01:00:00       1        0           0        1  9.02  13.635   \n",
       "2 2011-01-01 02:00:00       1        0           0        1  9.02  13.635   \n",
       "\n",
       "   humidity  windspeed  casual  registered  count  year month day hour  \n",
       "0        81        0.0       3          13     16  2011     1   1    0  \n",
       "1        80        0.0       8          32     40  2011     1   1    1  \n",
       "2        80        0.0       5          27     32  2011     1   1    2  "
      ]
     },
     "execution_count": 7,
     "metadata": {},
     "output_type": "execute_result"
    }
   ],
   "source": [
    "df.head(3)"
   ]
  },
  {
   "cell_type": "code",
   "execution_count": 8,
   "id": "2afd56ef",
   "metadata": {},
   "outputs": [],
   "source": [
    "df.drop(['datetime','casual','registered'], axis=1, inplace= True)"
   ]
  },
  {
   "cell_type": "code",
   "execution_count": 9,
   "id": "d04f8bda",
   "metadata": {},
   "outputs": [
    {
     "name": "stdout",
     "output_type": "stream",
     "text": [
      "<class 'pandas.core.frame.DataFrame'>\n",
      "RangeIndex: 10886 entries, 0 to 10885\n",
      "Data columns (total 13 columns):\n",
      " #   Column      Non-Null Count  Dtype  \n",
      "---  ------      --------------  -----  \n",
      " 0   season      10886 non-null  int64  \n",
      " 1   holiday     10886 non-null  int64  \n",
      " 2   workingday  10886 non-null  int64  \n",
      " 3   weather     10886 non-null  int64  \n",
      " 4   temp        10886 non-null  float64\n",
      " 5   atemp       10886 non-null  float64\n",
      " 6   humidity    10886 non-null  int64  \n",
      " 7   windspeed   10886 non-null  float64\n",
      " 8   count       10886 non-null  int64  \n",
      " 9   year        10886 non-null  object \n",
      " 10  month       10886 non-null  object \n",
      " 11  day         10886 non-null  object \n",
      " 12  hour        10886 non-null  object \n",
      "dtypes: float64(3), int64(6), object(4)\n",
      "memory usage: 1.1+ MB\n"
     ]
    }
   ],
   "source": [
    "df.info() # 년,월,일 int형"
   ]
  },
  {
   "cell_type": "code",
   "execution_count": 10,
   "id": "934fa08b",
   "metadata": {},
   "outputs": [],
   "source": [
    "df = pd.get_dummies(df)"
   ]
  },
  {
   "cell_type": "code",
   "execution_count": 11,
   "id": "569458ea",
   "metadata": {},
   "outputs": [
    {
     "data": {
      "text/html": [
       "<div>\n",
       "<style scoped>\n",
       "    .dataframe tbody tr th:only-of-type {\n",
       "        vertical-align: middle;\n",
       "    }\n",
       "\n",
       "    .dataframe tbody tr th {\n",
       "        vertical-align: top;\n",
       "    }\n",
       "\n",
       "    .dataframe thead th {\n",
       "        text-align: right;\n",
       "    }\n",
       "</style>\n",
       "<table border=\"1\" class=\"dataframe\">\n",
       "  <thead>\n",
       "    <tr style=\"text-align: right;\">\n",
       "      <th></th>\n",
       "      <th>season</th>\n",
       "      <th>holiday</th>\n",
       "      <th>workingday</th>\n",
       "      <th>weather</th>\n",
       "      <th>temp</th>\n",
       "      <th>atemp</th>\n",
       "      <th>humidity</th>\n",
       "      <th>windspeed</th>\n",
       "      <th>count</th>\n",
       "      <th>year_2011</th>\n",
       "      <th>...</th>\n",
       "      <th>hour_21</th>\n",
       "      <th>hour_22</th>\n",
       "      <th>hour_23</th>\n",
       "      <th>hour_3</th>\n",
       "      <th>hour_4</th>\n",
       "      <th>hour_5</th>\n",
       "      <th>hour_6</th>\n",
       "      <th>hour_7</th>\n",
       "      <th>hour_8</th>\n",
       "      <th>hour_9</th>\n",
       "    </tr>\n",
       "  </thead>\n",
       "  <tbody>\n",
       "    <tr>\n",
       "      <th>0</th>\n",
       "      <td>1</td>\n",
       "      <td>0</td>\n",
       "      <td>0</td>\n",
       "      <td>1</td>\n",
       "      <td>9.84</td>\n",
       "      <td>14.395</td>\n",
       "      <td>81</td>\n",
       "      <td>0.0</td>\n",
       "      <td>16</td>\n",
       "      <td>1</td>\n",
       "      <td>...</td>\n",
       "      <td>0</td>\n",
       "      <td>0</td>\n",
       "      <td>0</td>\n",
       "      <td>0</td>\n",
       "      <td>0</td>\n",
       "      <td>0</td>\n",
       "      <td>0</td>\n",
       "      <td>0</td>\n",
       "      <td>0</td>\n",
       "      <td>0</td>\n",
       "    </tr>\n",
       "    <tr>\n",
       "      <th>1</th>\n",
       "      <td>1</td>\n",
       "      <td>0</td>\n",
       "      <td>0</td>\n",
       "      <td>1</td>\n",
       "      <td>9.02</td>\n",
       "      <td>13.635</td>\n",
       "      <td>80</td>\n",
       "      <td>0.0</td>\n",
       "      <td>40</td>\n",
       "      <td>1</td>\n",
       "      <td>...</td>\n",
       "      <td>0</td>\n",
       "      <td>0</td>\n",
       "      <td>0</td>\n",
       "      <td>0</td>\n",
       "      <td>0</td>\n",
       "      <td>0</td>\n",
       "      <td>0</td>\n",
       "      <td>0</td>\n",
       "      <td>0</td>\n",
       "      <td>0</td>\n",
       "    </tr>\n",
       "    <tr>\n",
       "      <th>2</th>\n",
       "      <td>1</td>\n",
       "      <td>0</td>\n",
       "      <td>0</td>\n",
       "      <td>1</td>\n",
       "      <td>9.02</td>\n",
       "      <td>13.635</td>\n",
       "      <td>80</td>\n",
       "      <td>0.0</td>\n",
       "      <td>32</td>\n",
       "      <td>1</td>\n",
       "      <td>...</td>\n",
       "      <td>0</td>\n",
       "      <td>0</td>\n",
       "      <td>0</td>\n",
       "      <td>0</td>\n",
       "      <td>0</td>\n",
       "      <td>0</td>\n",
       "      <td>0</td>\n",
       "      <td>0</td>\n",
       "      <td>0</td>\n",
       "      <td>0</td>\n",
       "    </tr>\n",
       "  </tbody>\n",
       "</table>\n",
       "<p>3 rows × 66 columns</p>\n",
       "</div>"
      ],
      "text/plain": [
       "   season  holiday  workingday  weather  temp   atemp  humidity  windspeed  \\\n",
       "0       1        0           0        1  9.84  14.395        81        0.0   \n",
       "1       1        0           0        1  9.02  13.635        80        0.0   \n",
       "2       1        0           0        1  9.02  13.635        80        0.0   \n",
       "\n",
       "   count  year_2011  ...  hour_21  hour_22  hour_23  hour_3  hour_4  hour_5  \\\n",
       "0     16          1  ...        0        0        0       0       0       0   \n",
       "1     40          1  ...        0        0        0       0       0       0   \n",
       "2     32          1  ...        0        0        0       0       0       0   \n",
       "\n",
       "   hour_6  hour_7  hour_8  hour_9  \n",
       "0       0       0       0       0  \n",
       "1       0       0       0       0  \n",
       "2       0       0       0       0  \n",
       "\n",
       "[3 rows x 66 columns]"
      ]
     },
     "execution_count": 11,
     "metadata": {},
     "output_type": "execute_result"
    }
   ],
   "source": [
    "df.head(3)"
   ]
  },
  {
   "cell_type": "code",
   "execution_count": 12,
   "id": "9f5635b9",
   "metadata": {},
   "outputs": [],
   "source": [
    "from sklearn.metrics import mean_squared_error, mean_absolute_error\n",
    "\n",
    "def rmse(y, pred):\n",
    "    squarred_error = (y-pred)**2\n",
    "    rmse = np.sqrt(np.mean(squarred_error))\n",
    "    return rmse"
   ]
  },
  {
   "cell_type": "code",
   "execution_count": 13,
   "id": "e397aec1",
   "metadata": {},
   "outputs": [],
   "source": [
    "from sklearn.model_selection import train_test_split, GridSearchCV"
   ]
  },
  {
   "cell_type": "code",
   "execution_count": 14,
   "id": "cc74632f",
   "metadata": {},
   "outputs": [],
   "source": [
    "y= df['count']\n",
    "x = df.drop(columns = ['count'])"
   ]
  },
  {
   "cell_type": "code",
   "execution_count": 15,
   "id": "faa01015",
   "metadata": {},
   "outputs": [],
   "source": [
    "x_train, x_test, y_train, y_test = train_test_split(x,y ,test_size= 0.3, random_state= 111)"
   ]
  },
  {
   "cell_type": "code",
   "execution_count": null,
   "id": "df8cefaa",
   "metadata": {},
   "outputs": [],
   "source": []
  },
  {
   "cell_type": "code",
   "execution_count": 16,
   "id": "3b293e72",
   "metadata": {},
   "outputs": [],
   "source": [
    "from sklearn.linear_model import LinearRegression, Ridge, Lasso"
   ]
  },
  {
   "cell_type": "code",
   "execution_count": 17,
   "id": "0d893260",
   "metadata": {},
   "outputs": [
    {
     "name": "stdout",
     "output_type": "stream",
     "text": [
      "rmse_lr : 100.1440373015736\n",
      "rmse_rid : 100.15805988968935\n",
      "rmse_lasso : 104.29002838932085\n"
     ]
    }
   ],
   "source": [
    "lr = LinearRegression()\n",
    "rid = Ridge()\n",
    "lasso = Lasso()\n",
    "\n",
    "lr.fit(x_train, y_train)\n",
    "rid.fit(x_train, y_train)\n",
    "lasso.fit(x_train, y_train)\n",
    "\n",
    "preds_lr = lr.predict(x_test)\n",
    "preds_rid = rid.predict(x_test)\n",
    "preds_lasso = lasso.predict(x_test)\n",
    "\n",
    "print('rmse_lr :', rmse(y_test, preds_lr))\n",
    "print('rmse_rid :', rmse(y_test, preds_rid))\n",
    "print('rmse_lasso :', rmse(y_test, preds_lasso))"
   ]
  },
  {
   "cell_type": "code",
   "execution_count": null,
   "id": "fa37584b",
   "metadata": {},
   "outputs": [],
   "source": []
  },
  {
   "cell_type": "code",
   "execution_count": 18,
   "id": "8068b434",
   "metadata": {},
   "outputs": [],
   "source": [
    "# scaling\n",
    "\n",
    "from sklearn.preprocessing import MinMaxScaler\n",
    "scaler = MinMaxScaler()\n",
    "scaler.fit(x_train)\n",
    "\n",
    "x_train_scaled = scaler.transform(x_train)\n",
    "x_test_scaled = scaler.transform(x_test)"
   ]
  },
  {
   "cell_type": "code",
   "execution_count": null,
   "id": "9ba5e0f3",
   "metadata": {},
   "outputs": [],
   "source": []
  },
  {
   "cell_type": "code",
   "execution_count": 19,
   "id": "4f3ed8aa",
   "metadata": {},
   "outputs": [
    {
     "name": "stdout",
     "output_type": "stream",
     "text": [
      "rmse_lr : 100.14544400559083\n",
      "rmse_rid : 100.15120878142162\n",
      "rmse_lasso : 104.27949448343307\n"
     ]
    }
   ],
   "source": [
    " lr = LinearRegression()\n",
    "rid = Ridge()\n",
    "lasso = Lasso()\n",
    "\n",
    "lr.fit(x_train_scaled, y_train)\n",
    "rid.fit(x_train_scaled, y_train)\n",
    "lasso.fit(x_train_scaled, y_train)\n",
    "\n",
    "preds_lr = lr.predict(x_test_scaled)\n",
    "preds_rid = rid.predict(x_test_scaled)\n",
    "preds_lasso = lasso.predict(x_test_scaled)\n",
    "\n",
    "print('rmse_lr :', rmse(y_test, preds_lr))\n",
    "print('rmse_rid :', rmse(y_test, preds_rid))\n",
    "print('rmse_lasso :', rmse(y_test, preds_lasso))"
   ]
  },
  {
   "cell_type": "code",
   "execution_count": 20,
   "id": "de0022cc",
   "metadata": {},
   "outputs": [
    {
     "data": {
      "text/plain": [
       "0.6994119180793785"
      ]
     },
     "execution_count": 20,
     "metadata": {},
     "output_type": "execute_result"
    }
   ],
   "source": [
    "lr.score(x_test_scaled,y_test)"
   ]
  },
  {
   "cell_type": "code",
   "execution_count": 21,
   "id": "83567ce9",
   "metadata": {},
   "outputs": [
    {
     "data": {
      "text/html": [
       "<div>\n",
       "<style scoped>\n",
       "    .dataframe tbody tr th:only-of-type {\n",
       "        vertical-align: middle;\n",
       "    }\n",
       "\n",
       "    .dataframe tbody tr th {\n",
       "        vertical-align: top;\n",
       "    }\n",
       "\n",
       "    .dataframe thead th {\n",
       "        text-align: right;\n",
       "    }\n",
       "</style>\n",
       "<table border=\"1\" class=\"dataframe\">\n",
       "  <thead>\n",
       "    <tr style=\"text-align: right;\">\n",
       "      <th></th>\n",
       "      <th>0</th>\n",
       "    </tr>\n",
       "  </thead>\n",
       "  <tbody>\n",
       "    <tr>\n",
       "      <th>season</th>\n",
       "      <td>1.354954e+14</td>\n",
       "    </tr>\n",
       "    <tr>\n",
       "      <th>holiday</th>\n",
       "      <td>-4.968750e+00</td>\n",
       "    </tr>\n",
       "    <tr>\n",
       "      <th>workingday</th>\n",
       "      <td>3.656250e+00</td>\n",
       "    </tr>\n",
       "    <tr>\n",
       "      <th>weather</th>\n",
       "      <td>-7.384180e+01</td>\n",
       "    </tr>\n",
       "    <tr>\n",
       "      <th>temp</th>\n",
       "      <td>6.064453e+01</td>\n",
       "    </tr>\n",
       "    <tr>\n",
       "      <th>...</th>\n",
       "      <td>...</td>\n",
       "    </tr>\n",
       "    <tr>\n",
       "      <th>hour_5</th>\n",
       "      <td>-8.958348e+13</td>\n",
       "    </tr>\n",
       "    <tr>\n",
       "      <th>hour_6</th>\n",
       "      <td>-8.958348e+13</td>\n",
       "    </tr>\n",
       "    <tr>\n",
       "      <th>hour_7</th>\n",
       "      <td>-8.958348e+13</td>\n",
       "    </tr>\n",
       "    <tr>\n",
       "      <th>hour_8</th>\n",
       "      <td>-8.958348e+13</td>\n",
       "    </tr>\n",
       "    <tr>\n",
       "      <th>hour_9</th>\n",
       "      <td>-8.958348e+13</td>\n",
       "    </tr>\n",
       "  </tbody>\n",
       "</table>\n",
       "<p>65 rows × 1 columns</p>\n",
       "</div>"
      ],
      "text/plain": [
       "                       0\n",
       "season      1.354954e+14\n",
       "holiday    -4.968750e+00\n",
       "workingday  3.656250e+00\n",
       "weather    -7.384180e+01\n",
       "temp        6.064453e+01\n",
       "...                  ...\n",
       "hour_5     -8.958348e+13\n",
       "hour_6     -8.958348e+13\n",
       "hour_7     -8.958348e+13\n",
       "hour_8     -8.958348e+13\n",
       "hour_9     -8.958348e+13\n",
       "\n",
       "[65 rows x 1 columns]"
      ]
     },
     "execution_count": 21,
     "metadata": {},
     "output_type": "execute_result"
    }
   ],
   "source": [
    "coef_df =pd.DataFrame(lr.coef_, index= x.columns)\n",
    "coef_df"
   ]
  },
  {
   "cell_type": "code",
   "execution_count": null,
   "id": "5ed530b5",
   "metadata": {},
   "outputs": [],
   "source": []
  },
  {
   "cell_type": "code",
   "execution_count": 22,
   "id": "b78c502e",
   "metadata": {},
   "outputs": [
    {
     "data": {
      "text/plain": [
       "<AxesSubplot:>"
      ]
     },
     "execution_count": 22,
     "metadata": {},
     "output_type": "execute_result"
    },
    {
     "data": {
      "image/png": "[encoded data removed]",
      "text/plain": [
       "<Figure size 360x1080 with 1 Axes>"
      ]
     },
     "metadata": {
      "needs_background": "light"
     },
     "output_type": "display_data"
    }
   ],
   "source": [
    "coef_df.sort_values(0,ascending= False).plot(kind='barh',figsize=(5,15))"
   ]
  },
  {
   "cell_type": "code",
   "execution_count": 23,
   "id": "ad1458a7",
   "metadata": {},
   "outputs": [],
   "source": [
    "from sklearn.ensemble import RandomForestRegressor, GradientBoostingRegressor\n",
    "from xgboost import XGBRegressor\n",
    "from lightgbm import LGBMRegressor\n"
   ]
  },
  {
   "cell_type": "code",
   "execution_count": 25,
   "id": "f005be54",
   "metadata": {},
   "outputs": [
    {
     "name": "stdout",
     "output_type": "stream",
     "text": [
      "<class 'sklearn.ensemble._forest.RandomForestRegressor'> 49.61298231487765\n",
      "<class 'sklearn.ensemble._gb.GradientBoostingRegressor'> 81.2040703364815\n",
      "<class 'xgboost.sklearn.XGBRegressor'> 45.86804309854254\n",
      "<class 'lightgbm.sklearn.LGBMRegressor'> 45.39967886971719\n"
     ]
    }
   ],
   "source": [
    "\n",
    "rfc_reg = RandomForestRegressor()\n",
    "gbm_reg= GradientBoostingRegressor()\n",
    "xgb_reg = XGBRegressor()\n",
    "lgbm_reg = LGBMRegressor()\n",
    "\n",
    "for model in [rfc_reg, gbm_reg, xgb_reg, lgbm_reg]:\n",
    "    model.fit(x_train_scaled, y_train)\n",
    "    preds = model.predict(x_test_scaled)\n",
    "    rmse = np.sqrt(mean_squared_error(y_test, preds))\n",
    "    print( model.__class__, rmse)"
   ]
  },
  {
   "cell_type": "code",
   "execution_count": 26,
   "id": "f546567f",
   "metadata": {},
   "outputs": [],
   "source": [
    "# y 분포"
   ]
  },
  {
   "cell_type": "code",
   "execution_count": 27,
   "id": "136945d5",
   "metadata": {},
   "outputs": [
    {
     "data": {
      "text/plain": [
       "<AxesSubplot:>"
      ]
     },
     "execution_count": 27,
     "metadata": {},
     "output_type": "execute_result"
    },
    {
     "data": {
      "image/png": "[encoded data removed]",
      "text/plain": [
       "<Figure size 432x288 with 1 Axes>"
      ]
     },
     "metadata": {
      "needs_background": "light"
     },
     "output_type": "display_data"
    }
   ],
   "source": [
    "y.hist(bins=50) # long tail - label 값이 쏠려있음"
   ]
  },
  {
   "cell_type": "code",
   "execution_count": 39,
   "id": "3f2fe906",
   "metadata": {},
   "outputs": [],
   "source": [
    "y_log = np.log1p(y)\n",
    "y_train_log = np.log1p(y_train) #  로그쓰는 이유:  0값으로 인한 error를 방지\n",
    "y_test_log = np.log1p(y_test)"
   ]
  },
  {
   "cell_type": "code",
   "execution_count": 40,
   "id": "d7c01bf4",
   "metadata": {},
   "outputs": [
    {
     "data": {
      "text/plain": [
       "<AxesSubplot:>"
      ]
     },
     "execution_count": 40,
     "metadata": {},
     "output_type": "execute_result"
    },
    {
     "data": {
      "image/png": "[encoded data removed]",
      "text/plain": [
       "<Figure size 432x288 with 1 Axes>"
      ]
     },
     "metadata": {
      "needs_background": "light"
     },
     "output_type": "display_data"
    }
   ],
   "source": [
    "y_log.hist(bins=50)"
   ]
  },
  {
   "cell_type": "code",
   "execution_count": 42,
   "id": "aaac748d",
   "metadata": {},
   "outputs": [
    {
     "name": "stdout",
     "output_type": "stream",
     "text": [
      "rmse_lr : 95.59103377677496\n",
      "rmse_rid : 95.71035086085791\n",
      "rmse_lasso : 95.61643945818338\n"
     ]
    }
   ],
   "source": [
    "lr = LinearRegression()\n",
    "rid = Ridge()\n",
    "lasso = Lasso(0.0001)\n",
    "\n",
    "lr.fit(x_train_scaled, y_train_log)\n",
    "rid.fit(x_train_scaled, y_train_log)\n",
    "lasso.fit(x_train_scaled, y_train_log)\n",
    "\n",
    "preds_lr = lr.predict(x_test_scaled)\n",
    "preds_rid = rid.predict(x_test_scaled)\n",
    "preds_lasso = lasso.predict(x_test_scaled)\n",
    "\n",
    "preds_lr_exp = np.expm1(preds_lr)\n",
    "preds_rid_exp = np.expm1(preds_rid)\n",
    "preds_lasso_exp = np.expm1(preds_lasso)\n",
    "\n",
    "print('rmse_lr :', np.sqrt(mean_squared_error(y_test.values, preds_lr_exp)))\n",
    "print('rmse_rid :', np.sqrt(mean_squared_error(y_test.values, preds_rid_exp)))\n",
    "print('rmse_lasso :',np.sqrt(mean_squared_error(y_test.values, preds_lasso_exp)))"
   ]
  },
  {
   "cell_type": "code",
   "execution_count": 43,
   "id": "32334801",
   "metadata": {},
   "outputs": [
    {
     "name": "stdout",
     "output_type": "stream",
     "text": [
      "<class 'sklearn.ensemble._forest.RandomForestRegressor'> 49.52854378826083\n",
      "<class 'sklearn.ensemble._gb.GradientBoostingRegressor'> 81.20412684448772\n",
      "<class 'xgboost.sklearn.XGBRegressor'> 45.86804309854254\n",
      "<class 'lightgbm.sklearn.LGBMRegressor'> 45.39967886971719\n"
     ]
    }
   ],
   "source": [
    "rfc_reg = RandomForestRegressor()\n",
    "gbm_reg= GradientBoostingRegressor()\n",
    "xgb_reg = XGBRegressor()\n",
    "lgbm_reg = LGBMRegressor()\n",
    "\n",
    "for model in [rfc_reg, gbm_reg, xgb_reg, lgbm_reg]:\n",
    "    model.fit(x_train_scaled, y_train)\n",
    "    preds = model.predict(x_test_scaled)\n",
    "    rmse = np.sqrt(mean_squared_error(y_test, preds))\n",
    "    print( model.__class__, rmse)"
   ]
  },
  {
   "cell_type": "code",
   "execution_count": null,
   "id": "100d4419",
   "metadata": {},
   "outputs": [],
   "source": [
    " "
   ]
  }
 ],
 "metadata": {
  "kernelspec": {
   "display_name": "Python 3 (ipykernel)",
   "language": "python",
   "name": "python3"
  },
  "language_info": {
   "codemirror_mode": {
    "name": "ipython",
    "version": 3
   },
   "file_extension": ".py",
   "mimetype": "text/x-python",
   "name": "python",
   "nbconvert_exporter": "python",
   "pygments_lexer": "ipython3",
   "version": "3.9.7"
  },
  "varInspector": {
   "cols": {
    "lenName": 16,
    "lenType": 16,
    "lenVar": 40
   },
   "kernels_config": {
    "python": {
     "delete_cmd_postfix": "",
     "delete_cmd_prefix": "del ",
     "library": "var_list.py",
     "varRefreshCmd": "print(var_dic_list())"
    },
    "r": {
     "delete_cmd_postfix": ") ",
     "delete_cmd_prefix": "rm(",
     "library": "var_list.r",
     "varRefreshCmd": "cat(var_dic_list()) "
    }
   },
   "types_to_exclude": [
    "module",
    "function",
    "builtin_function_or_method",
    "instance",
    "_Feature"
   ],
   "window_display": false
  }
 },
 "nbformat": 4,
 "nbformat_minor": 5
}
