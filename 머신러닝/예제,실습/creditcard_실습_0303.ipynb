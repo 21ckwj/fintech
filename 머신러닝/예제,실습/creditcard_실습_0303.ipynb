{
 "cells": [
  {
   "cell_type": "code",
   "execution_count": 1,
   "id": "bd00edb0",
   "metadata": {},
   "outputs": [],
   "source": [
    "import pandas as pd\n",
    "import numpy as np\n",
    "import matplotlib.pyplot as plt\n",
    "import seaborn as sns"
   ]
  },
  {
   "cell_type": "code",
   "execution_count": 2,
   "id": "6add16d3",
   "metadata": {},
   "outputs": [],
   "source": [
    "import warnings\n",
    "warnings.filterwarnings(action='ignore')"
   ]
  },
  {
   "cell_type": "code",
   "execution_count": 3,
   "id": "5987a145",
   "metadata": {},
   "outputs": [
    {
     "data": {
      "text/html": [
       "<div>\n",
       "<style scoped>\n",
       "    .dataframe tbody tr th:only-of-type {\n",
       "        vertical-align: middle;\n",
       "    }\n",
       "\n",
       "    .dataframe tbody tr th {\n",
       "        vertical-align: top;\n",
       "    }\n",
       "\n",
       "    .dataframe thead th {\n",
       "        text-align: right;\n",
       "    }\n",
       "</style>\n",
       "<table border=\"1\" class=\"dataframe\">\n",
       "  <thead>\n",
       "    <tr style=\"text-align: right;\">\n",
       "      <th></th>\n",
       "      <th>Time</th>\n",
       "      <th>V1</th>\n",
       "      <th>V2</th>\n",
       "      <th>V3</th>\n",
       "      <th>V4</th>\n",
       "      <th>V5</th>\n",
       "      <th>V6</th>\n",
       "      <th>V7</th>\n",
       "      <th>V8</th>\n",
       "      <th>V9</th>\n",
       "      <th>...</th>\n",
       "      <th>V21</th>\n",
       "      <th>V22</th>\n",
       "      <th>V23</th>\n",
       "      <th>V24</th>\n",
       "      <th>V25</th>\n",
       "      <th>V26</th>\n",
       "      <th>V27</th>\n",
       "      <th>V28</th>\n",
       "      <th>Amount</th>\n",
       "      <th>Class</th>\n",
       "    </tr>\n",
       "  </thead>\n",
       "  <tbody>\n",
       "    <tr>\n",
       "      <th>0</th>\n",
       "      <td>0.0</td>\n",
       "      <td>-1.359807</td>\n",
       "      <td>-0.072781</td>\n",
       "      <td>2.536347</td>\n",
       "      <td>1.378155</td>\n",
       "      <td>-0.338321</td>\n",
       "      <td>0.462388</td>\n",
       "      <td>0.239599</td>\n",
       "      <td>0.098698</td>\n",
       "      <td>0.363787</td>\n",
       "      <td>...</td>\n",
       "      <td>-0.018307</td>\n",
       "      <td>0.277838</td>\n",
       "      <td>-0.110474</td>\n",
       "      <td>0.066928</td>\n",
       "      <td>0.128539</td>\n",
       "      <td>-0.189115</td>\n",
       "      <td>0.133558</td>\n",
       "      <td>-0.021053</td>\n",
       "      <td>149.62</td>\n",
       "      <td>0</td>\n",
       "    </tr>\n",
       "    <tr>\n",
       "      <th>1</th>\n",
       "      <td>0.0</td>\n",
       "      <td>1.191857</td>\n",
       "      <td>0.266151</td>\n",
       "      <td>0.166480</td>\n",
       "      <td>0.448154</td>\n",
       "      <td>0.060018</td>\n",
       "      <td>-0.082361</td>\n",
       "      <td>-0.078803</td>\n",
       "      <td>0.085102</td>\n",
       "      <td>-0.255425</td>\n",
       "      <td>...</td>\n",
       "      <td>-0.225775</td>\n",
       "      <td>-0.638672</td>\n",
       "      <td>0.101288</td>\n",
       "      <td>-0.339846</td>\n",
       "      <td>0.167170</td>\n",
       "      <td>0.125895</td>\n",
       "      <td>-0.008983</td>\n",
       "      <td>0.014724</td>\n",
       "      <td>2.69</td>\n",
       "      <td>0</td>\n",
       "    </tr>\n",
       "    <tr>\n",
       "      <th>2</th>\n",
       "      <td>1.0</td>\n",
       "      <td>-1.358354</td>\n",
       "      <td>-1.340163</td>\n",
       "      <td>1.773209</td>\n",
       "      <td>0.379780</td>\n",
       "      <td>-0.503198</td>\n",
       "      <td>1.800499</td>\n",
       "      <td>0.791461</td>\n",
       "      <td>0.247676</td>\n",
       "      <td>-1.514654</td>\n",
       "      <td>...</td>\n",
       "      <td>0.247998</td>\n",
       "      <td>0.771679</td>\n",
       "      <td>0.909412</td>\n",
       "      <td>-0.689281</td>\n",
       "      <td>-0.327642</td>\n",
       "      <td>-0.139097</td>\n",
       "      <td>-0.055353</td>\n",
       "      <td>-0.059752</td>\n",
       "      <td>378.66</td>\n",
       "      <td>0</td>\n",
       "    </tr>\n",
       "    <tr>\n",
       "      <th>3</th>\n",
       "      <td>1.0</td>\n",
       "      <td>-0.966272</td>\n",
       "      <td>-0.185226</td>\n",
       "      <td>1.792993</td>\n",
       "      <td>-0.863291</td>\n",
       "      <td>-0.010309</td>\n",
       "      <td>1.247203</td>\n",
       "      <td>0.237609</td>\n",
       "      <td>0.377436</td>\n",
       "      <td>-1.387024</td>\n",
       "      <td>...</td>\n",
       "      <td>-0.108300</td>\n",
       "      <td>0.005274</td>\n",
       "      <td>-0.190321</td>\n",
       "      <td>-1.175575</td>\n",
       "      <td>0.647376</td>\n",
       "      <td>-0.221929</td>\n",
       "      <td>0.062723</td>\n",
       "      <td>0.061458</td>\n",
       "      <td>123.50</td>\n",
       "      <td>0</td>\n",
       "    </tr>\n",
       "    <tr>\n",
       "      <th>4</th>\n",
       "      <td>2.0</td>\n",
       "      <td>-1.158233</td>\n",
       "      <td>0.877737</td>\n",
       "      <td>1.548718</td>\n",
       "      <td>0.403034</td>\n",
       "      <td>-0.407193</td>\n",
       "      <td>0.095921</td>\n",
       "      <td>0.592941</td>\n",
       "      <td>-0.270533</td>\n",
       "      <td>0.817739</td>\n",
       "      <td>...</td>\n",
       "      <td>-0.009431</td>\n",
       "      <td>0.798278</td>\n",
       "      <td>-0.137458</td>\n",
       "      <td>0.141267</td>\n",
       "      <td>-0.206010</td>\n",
       "      <td>0.502292</td>\n",
       "      <td>0.219422</td>\n",
       "      <td>0.215153</td>\n",
       "      <td>69.99</td>\n",
       "      <td>0</td>\n",
       "    </tr>\n",
       "  </tbody>\n",
       "</table>\n",
       "<p>5 rows × 31 columns</p>\n",
       "</div>"
      ],
      "text/plain": [
       "   Time        V1        V2        V3        V4        V5        V6        V7  \\\n",
       "0   0.0 -1.359807 -0.072781  2.536347  1.378155 -0.338321  0.462388  0.239599   \n",
       "1   0.0  1.191857  0.266151  0.166480  0.448154  0.060018 -0.082361 -0.078803   \n",
       "2   1.0 -1.358354 -1.340163  1.773209  0.379780 -0.503198  1.800499  0.791461   \n",
       "3   1.0 -0.966272 -0.185226  1.792993 -0.863291 -0.010309  1.247203  0.237609   \n",
       "4   2.0 -1.158233  0.877737  1.548718  0.403034 -0.407193  0.095921  0.592941   \n",
       "\n",
       "         V8        V9  ...       V21       V22       V23       V24       V25  \\\n",
       "0  0.098698  0.363787  ... -0.018307  0.277838 -0.110474  0.066928  0.128539   \n",
       "1  0.085102 -0.255425  ... -0.225775 -0.638672  0.101288 -0.339846  0.167170   \n",
       "2  0.247676 -1.514654  ...  0.247998  0.771679  0.909412 -0.689281 -0.327642   \n",
       "3  0.377436 -1.387024  ... -0.108300  0.005274 -0.190321 -1.175575  0.647376   \n",
       "4 -0.270533  0.817739  ... -0.009431  0.798278 -0.137458  0.141267 -0.206010   \n",
       "\n",
       "        V26       V27       V28  Amount  Class  \n",
       "0 -0.189115  0.133558 -0.021053  149.62      0  \n",
       "1  0.125895 -0.008983  0.014724    2.69      0  \n",
       "2 -0.139097 -0.055353 -0.059752  378.66      0  \n",
       "3 -0.221929  0.062723  0.061458  123.50      0  \n",
       "4  0.502292  0.219422  0.215153   69.99      0  \n",
       "\n",
       "[5 rows x 31 columns]"
      ]
     },
     "execution_count": 3,
     "metadata": {},
     "output_type": "execute_result"
    }
   ],
   "source": [
    "df = pd.read_csv('../data_ml/creditcard.csv')\n",
    "df.head()"
   ]
  },
  {
   "cell_type": "code",
   "execution_count": 4,
   "id": "122e854c",
   "metadata": {},
   "outputs": [],
   "source": [
    "# creditcard 부정거래 탐지"
   ]
  },
  {
   "cell_type": "code",
   "execution_count": 5,
   "id": "6d6b57c4",
   "metadata": {},
   "outputs": [
    {
     "name": "stdout",
     "output_type": "stream",
     "text": [
      "<class 'pandas.core.frame.DataFrame'>\n",
      "RangeIndex: 284807 entries, 0 to 284806\n",
      "Data columns (total 31 columns):\n",
      " #   Column  Non-Null Count   Dtype  \n",
      "---  ------  --------------   -----  \n",
      " 0   Time    284807 non-null  float64\n",
      " 1   V1      284807 non-null  float64\n",
      " 2   V2      284807 non-null  float64\n",
      " 3   V3      284807 non-null  float64\n",
      " 4   V4      284807 non-null  float64\n",
      " 5   V5      284807 non-null  float64\n",
      " 6   V6      284807 non-null  float64\n",
      " 7   V7      284807 non-null  float64\n",
      " 8   V8      284807 non-null  float64\n",
      " 9   V9      284807 non-null  float64\n",
      " 10  V10     284807 non-null  float64\n",
      " 11  V11     284807 non-null  float64\n",
      " 12  V12     284807 non-null  float64\n",
      " 13  V13     284807 non-null  float64\n",
      " 14  V14     284807 non-null  float64\n",
      " 15  V15     284807 non-null  float64\n",
      " 16  V16     284807 non-null  float64\n",
      " 17  V17     284807 non-null  float64\n",
      " 18  V18     284807 non-null  float64\n",
      " 19  V19     284807 non-null  float64\n",
      " 20  V20     284807 non-null  float64\n",
      " 21  V21     284807 non-null  float64\n",
      " 22  V22     284807 non-null  float64\n",
      " 23  V23     284807 non-null  float64\n",
      " 24  V24     284807 non-null  float64\n",
      " 25  V25     284807 non-null  float64\n",
      " 26  V26     284807 non-null  float64\n",
      " 27  V27     284807 non-null  float64\n",
      " 28  V28     284807 non-null  float64\n",
      " 29  Amount  284807 non-null  float64\n",
      " 30  Class   284807 non-null  int64  \n",
      "dtypes: float64(30), int64(1)\n",
      "memory usage: 67.4 MB\n"
     ]
    }
   ],
   "source": [
    "df.info()"
   ]
  },
  {
   "cell_type": "code",
   "execution_count": 6,
   "id": "ecd6eaa6",
   "metadata": {},
   "outputs": [
    {
     "data": {
      "text/plain": [
       "0              0.0\n",
       "1              0.0\n",
       "2              1.0\n",
       "3              1.0\n",
       "4              2.0\n",
       "            ...   \n",
       "284802    172786.0\n",
       "284803    172787.0\n",
       "284804    172788.0\n",
       "284805    172788.0\n",
       "284806    172792.0\n",
       "Name: Time, Length: 284807, dtype: float64"
      ]
     },
     "execution_count": 6,
     "metadata": {},
     "output_type": "execute_result"
    }
   ],
   "source": [
    " df.Time # 처리가 이상하여 날리기로 결정"
   ]
  },
  {
   "cell_type": "code",
   "execution_count": 7,
   "id": "1cd86dbe",
   "metadata": {},
   "outputs": [],
   "source": [
    "df.drop(columns='Time',inplace=True)"
   ]
  },
  {
   "cell_type": "code",
   "execution_count": 8,
   "id": "2c47ce51",
   "metadata": {},
   "outputs": [
    {
     "data": {
      "text/plain": [
       "array([0, 1], dtype=int64)"
      ]
     },
     "execution_count": 8,
     "metadata": {},
     "output_type": "execute_result"
    }
   ],
   "source": [
    "df['Class'].unique()"
   ]
  },
  {
   "cell_type": "code",
   "execution_count": 9,
   "id": "abb42367",
   "metadata": {},
   "outputs": [
    {
     "data": {
      "text/plain": [
       "0"
      ]
     },
     "execution_count": 9,
     "metadata": {},
     "output_type": "execute_result"
    }
   ],
   "source": [
    "df.isnull().sum().sum()"
   ]
  },
  {
   "cell_type": "code",
   "execution_count": 10,
   "id": "544a2ddf",
   "metadata": {},
   "outputs": [],
   "source": [
    "# x data, y data divide\n",
    "y =df['Class']\n",
    "x = df.drop('Class', axis=1)"
   ]
  },
  {
   "cell_type": "code",
   "execution_count": 11,
   "id": "219677a7",
   "metadata": {},
   "outputs": [],
   "source": [
    "from sklearn.model_selection import train_test_split\n",
    "x_train, x_test, y_train, y_test = train_test_split(x,y,test_size=0.2, random_state=111)"
   ]
  },
  {
   "cell_type": "code",
   "execution_count": 12,
   "id": "abcecf6c",
   "metadata": {},
   "outputs": [
    {
     "data": {
      "text/plain": [
       "LogisticRegression()"
      ]
     },
     "execution_count": 12,
     "metadata": {},
     "output_type": "execute_result"
    }
   ],
   "source": [
    "from sklearn.linear_model import LogisticRegression\n",
    "lr = LogisticRegression()\n",
    "lr.fit(x_train,y_train)"
   ]
  },
  {
   "cell_type": "code",
   "execution_count": 13,
   "id": "ce3ecb6f",
   "metadata": {},
   "outputs": [],
   "source": [
    "# 예측값\n",
    "preds = lr.predict(x_test)"
   ]
  },
  {
   "cell_type": "code",
   "execution_count": 14,
   "id": "48b82ac1",
   "metadata": {},
   "outputs": [
    {
     "name": "stdout",
     "output_type": "stream",
     "text": [
      "              precision    recall  f1-score   support\n",
      "\n",
      "           0       1.00      1.00      1.00     56861\n",
      "           1       0.84      0.68      0.75       101\n",
      "\n",
      "    accuracy                           1.00     56962\n",
      "   macro avg       0.92      0.84      0.88     56962\n",
      "weighted avg       1.00      1.00      1.00     56962\n",
      "\n"
     ]
    }
   ],
   "source": [
    "# 평가 classification_report, auc값\n",
    "from sklearn.metrics import classification_report\n",
    "print(classification_report(y_test,preds))"
   ]
  },
  {
   "cell_type": "code",
   "execution_count": 15,
   "id": "9a3f4652",
   "metadata": {},
   "outputs": [
    {
     "data": {
      "text/plain": [
       "0.8414698445627613"
      ]
     },
     "execution_count": 15,
     "metadata": {},
     "output_type": "execute_result"
    }
   ],
   "source": [
    "from sklearn.metrics import roc_auc_score\n",
    "# 이렇게 하면 안되고\n",
    "roc_auc_score(y_test, preds)"
   ]
  },
  {
   "cell_type": "code",
   "execution_count": 16,
   "id": "b07c830b",
   "metadata": {},
   "outputs": [
    {
     "data": {
      "text/plain": [
       "array([0.00351499, 0.00025742, 0.00023339, ..., 0.00122444, 0.00042829,\n",
       "       0.00029703])"
      ]
     },
     "execution_count": 16,
     "metadata": {},
     "output_type": "execute_result"
    }
   ],
   "source": [
    "lr.predict_proba(x_test)[:,1]"
   ]
  },
  {
   "cell_type": "code",
   "execution_count": 17,
   "id": "f125cdf0",
   "metadata": {},
   "outputs": [
    {
     "data": {
      "text/plain": [
       "array([-5.64719626, -8.26452621, -8.36255795, ..., -6.70404529,\n",
       "       -7.75527959, -8.12136537])"
      ]
     },
     "execution_count": 17,
     "metadata": {},
     "output_type": "execute_result"
    }
   ],
   "source": [
    "lr.decision_function(x_test)"
   ]
  },
  {
   "cell_type": "code",
   "execution_count": 18,
   "id": "353a3a6e",
   "metadata": {},
   "outputs": [
    {
     "data": {
      "text/plain": [
       "0.9692292878186008"
      ]
     },
     "execution_count": 18,
     "metadata": {},
     "output_type": "execute_result"
    }
   ],
   "source": [
    "from sklearn.metrics import roc_auc_score\n",
    "roc_auc_score(y_test, lr.predict_proba(x_test)[:,1] )"
   ]
  },
  {
   "cell_type": "code",
   "execution_count": null,
   "id": "ad3e4101",
   "metadata": {},
   "outputs": [],
   "source": []
  },
  {
   "cell_type": "code",
   "execution_count": 19,
   "id": "4bf3fbae",
   "metadata": {},
   "outputs": [],
   "source": [
    "# LGBMClassifier를 통한 예측"
   ]
  },
  {
   "cell_type": "code",
   "execution_count": 20,
   "id": "dc408d4c",
   "metadata": {},
   "outputs": [
    {
     "data": {
      "text/plain": [
       "LGBMClassifier()"
      ]
     },
     "execution_count": 20,
     "metadata": {},
     "output_type": "execute_result"
    }
   ],
   "source": [
    "from lightgbm import LGBMClassifier\n",
    "lgbm = LGBMClassifier()\n",
    "lgbm.fit(x_train,y_train)"
   ]
  },
  {
   "cell_type": "code",
   "execution_count": 21,
   "id": "33d737d3",
   "metadata": {},
   "outputs": [],
   "source": [
    "# lgbm.score(x_test,y_test)"
   ]
  },
  {
   "cell_type": "code",
   "execution_count": 22,
   "id": "5da6c252",
   "metadata": {},
   "outputs": [
    {
     "data": {
      "text/plain": [
       "array([0, 0, 0, ..., 0, 0, 0], dtype=int64)"
      ]
     },
     "execution_count": 22,
     "metadata": {},
     "output_type": "execute_result"
    }
   ],
   "source": [
    "preds_lgbm = lgbm.predict(x_test)\n",
    "preds_lgbm"
   ]
  },
  {
   "cell_type": "code",
   "execution_count": 23,
   "id": "d9177ea1",
   "metadata": {},
   "outputs": [
    {
     "name": "stdout",
     "output_type": "stream",
     "text": [
      "              precision    recall  f1-score   support\n",
      "\n",
      "           0       1.00      1.00      1.00     56861\n",
      "           1       0.40      0.65      0.50       101\n",
      "\n",
      "    accuracy                           1.00     56962\n",
      "   macro avg       0.70      0.83      0.75     56962\n",
      "weighted avg       1.00      1.00      1.00     56962\n",
      "\n"
     ]
    }
   ],
   "source": [
    "print(classification_report(y_test,preds_lgbm))"
   ]
  },
  {
   "cell_type": "code",
   "execution_count": 24,
   "id": "ea5af831",
   "metadata": {},
   "outputs": [
    {
     "data": {
      "text/plain": [
       "array([0.00000000e+00, 0.00000000e+00, 0.00000000e+00, ...,\n",
       "       0.00000000e+00, 3.91044853e-55, 8.36883602e-10])"
      ]
     },
     "execution_count": 24,
     "metadata": {},
     "output_type": "execute_result"
    }
   ],
   "source": [
    "#lgbm에서 확률값 뽑을때\n",
    "# class 1에 대한 확률값\n",
    "lgbm.predict_proba(x_test)[:,1]"
   ]
  },
  {
   "cell_type": "code",
   "execution_count": 25,
   "id": "eb4f6404",
   "metadata": {},
   "outputs": [
    {
     "data": {
      "text/plain": [
       "0.7993430566566619"
      ]
     },
     "execution_count": 25,
     "metadata": {},
     "output_type": "execute_result"
    }
   ],
   "source": [
    "# 1을 맞춘 확률값\n",
    "roc_auc_score(y_test,lgbm.predict_proba(x_test)[:,1])"
   ]
  },
  {
   "cell_type": "code",
   "execution_count": null,
   "id": "da35005a",
   "metadata": {},
   "outputs": [],
   "source": []
  },
  {
   "cell_type": "code",
   "execution_count": 26,
   "id": "1181d8ff",
   "metadata": {},
   "outputs": [],
   "source": [
    "# randomforest"
   ]
  },
  {
   "cell_type": "code",
   "execution_count": 27,
   "id": "239ba477",
   "metadata": {},
   "outputs": [
    {
     "data": {
      "text/plain": [
       "RandomForestClassifier()"
      ]
     },
     "execution_count": 27,
     "metadata": {},
     "output_type": "execute_result"
    }
   ],
   "source": [
    "from sklearn.ensemble import RandomForestClassifier\n",
    "rfc = RandomForestClassifier()\n",
    "rfc.fit(x_train, y_train)"
   ]
  },
  {
   "cell_type": "code",
   "execution_count": 28,
   "id": "f2c160ad",
   "metadata": {},
   "outputs": [
    {
     "data": {
      "text/plain": [
       "array([0, 0, 0, ..., 0, 0, 0], dtype=int64)"
      ]
     },
     "execution_count": 28,
     "metadata": {},
     "output_type": "execute_result"
    }
   ],
   "source": [
    "preds_rfc = rfc.predict(x_test)\n",
    "preds_rfc"
   ]
  },
  {
   "cell_type": "code",
   "execution_count": 29,
   "id": "9fbd6f98",
   "metadata": {},
   "outputs": [
    {
     "data": {
      "text/plain": [
       "array([0., 0., 0., ..., 0., 0., 0.])"
      ]
     },
     "execution_count": 29,
     "metadata": {},
     "output_type": "execute_result"
    }
   ],
   "source": [
    "rfc.predict_proba(x_test)[:,1]"
   ]
  },
  {
   "cell_type": "code",
   "execution_count": 30,
   "id": "316bb18f",
   "metadata": {},
   "outputs": [
    {
     "data": {
      "text/plain": [
       "0.9795088282856178"
      ]
     },
     "execution_count": 30,
     "metadata": {},
     "output_type": "execute_result"
    }
   ],
   "source": [
    "roc_auc_score(y_test, rfc.predict_proba(x_test)[:,1])"
   ]
  },
  {
   "cell_type": "markdown",
   "id": "eb519417",
   "metadata": {},
   "source": [
    "# scaling(표준화,정규화)"
   ]
  },
  {
   "cell_type": "code",
   "execution_count": 31,
   "id": "0ae7b5ce",
   "metadata": {},
   "outputs": [
    {
     "data": {
      "text/plain": [
       "166262    98.00\n",
       "243831    58.85\n",
       "196659     8.86\n",
       "31984      7.94\n",
       "178084    60.75\n",
       "          ...  \n",
       "105747    43.05\n",
       "102486    49.00\n",
       "135892     9.23\n",
       "10196     87.00\n",
       "129900     1.00\n",
       "Name: Amount, Length: 227845, dtype: float64"
      ]
     },
     "execution_count": 31,
     "metadata": {},
     "output_type": "execute_result"
    }
   ],
   "source": [
    "x_train.Amount"
   ]
  },
  {
   "cell_type": "code",
   "execution_count": 32,
   "id": "744b4777",
   "metadata": {},
   "outputs": [],
   "source": [
    "from sklearn.preprocessing import StandardScaler\n",
    "scaler = StandardScaler()\n",
    "scaler.fit(x_train)\n",
    "\n",
    "x_train_scaled = scaler.transform(x_train)\n",
    "x_test_scaled = scaler.transform(x_test)"
   ]
  },
  {
   "cell_type": "code",
   "execution_count": null,
   "id": "acb3d81c",
   "metadata": {},
   "outputs": [],
   "source": []
  },
  {
   "cell_type": "code",
   "execution_count": 33,
   "id": "73765194",
   "metadata": {},
   "outputs": [],
   "source": [
    "# scaling 한 데이터를 기반으로 위의 세 모델을 생성하고 평가하시오"
   ]
  },
  {
   "cell_type": "code",
   "execution_count": 34,
   "id": "52d71232",
   "metadata": {},
   "outputs": [],
   "source": [
    "# models = [lr,lgbm,rfc ]\n",
    "\n",
    "# for model in models:\n",
    "#     model.fit(x_train_scaled,y_train)\n",
    "#     preds_model = model.predict(x_test_scaled)\n",
    "#     auc_model = model.predict_proba(x_test_scaled)[:,1]\n",
    "#     roc_auc = roc_auc_score(y_test,model.predict_proba(x_test_scaled)[:,1])\n",
    "    \n",
    "#     print('모델이름: ', model.__class__)\n",
    "#     print('roc_auc_score: ', roc_auc)"
   ]
  },
  {
   "cell_type": "code",
   "execution_count": 35,
   "id": "5afaaec2",
   "metadata": {},
   "outputs": [],
   "source": [
    "from sklearn.metrics import f1_score, roc_auc_score, accuracy_score"
   ]
  },
  {
   "cell_type": "code",
   "execution_count": 36,
   "id": "813bc70f",
   "metadata": {},
   "outputs": [],
   "source": [
    "log = LogisticRegression()\n",
    "lgbm = LGBMClassifier()\n",
    "rfc = RandomForestClassifier()\n",
    "\n",
    "log.fit(x_train,y_train)\n",
    "lgbm.fit(x_train,y_train)\n",
    "rfc.fit(x_train,y_train)\n",
    "\n",
    "log_pre = log.predict(x_test)\n",
    "lgbm_pre = lgbm.predict(x_test)\n",
    "rfc_pre = rfc.predict(x_test)\n",
    "\n",
    "log_pro = log.predict_proba(x_test)\n",
    "lgbm_pro = lgbm.predict_proba(x_test)\n",
    "rfc_pro = rfc.predict_proba(x_test)"
   ]
  },
  {
   "cell_type": "code",
   "execution_count": 37,
   "id": "21443148",
   "metadata": {},
   "outputs": [
    {
     "name": "stdout",
     "output_type": "stream",
     "text": [
      "log_f1 :  0.7540983606557378\n",
      "lgbm_f1 :  0.49624060150375937\n",
      "rfc_f1 :  0.8900523560209423\n"
     ]
    }
   ],
   "source": [
    "print('log_f1 : ',f1_score(y_test, log_pre))\n",
    "print('lgbm_f1 : ',f1_score(y_test, lgbm_pre))\n",
    "print('rfc_f1 : ',f1_score(y_test, rfc_pre))"
   ]
  },
  {
   "cell_type": "code",
   "execution_count": 38,
   "id": "4fe2c918",
   "metadata": {},
   "outputs": [
    {
     "name": "stdout",
     "output_type": "stream",
     "text": [
      "log_auc_score :  0.9692292878186008\n",
      "lgbm_auc_score :  0.7993430566566619\n",
      "rfc_auc_score :  0.9841621769675957\n"
     ]
    }
   ],
   "source": [
    "print('log_auc_score : ', roc_auc_score(y_test, log_pro[:,1]))\n",
    "print('lgbm_auc_score : ',roc_auc_score(y_test, lgbm_pro[:,1]))\n",
    "print('rfc_auc_score : ', roc_auc_score(y_test, rfc_pro[:,1]))"
   ]
  },
  {
   "cell_type": "code",
   "execution_count": 39,
   "id": "7a120a29",
   "metadata": {},
   "outputs": [],
   "source": [
    "log = LogisticRegression()\n",
    "lgbm = LGBMClassifier()\n",
    "rfc = RandomForestClassifier()\n",
    "\n",
    "log.fit(x_train_scaled,y_train)\n",
    "lgbm.fit(x_train_scaled,y_train)\n",
    "rfc.fit(x_train_scaled,y_train)\n",
    "\n",
    "log_pre = log.predict(x_test_scaled)\n",
    "lgbm_pre = lgbm.predict(x_test_scaled)\n",
    "rfc_pre = rfc.predict(x_test_scaled)\n",
    "\n",
    "log_pro = log.predict_proba(x_test_scaled)\n",
    "lgbm_pro = lgbm.predict_proba(x_test_scaled)\n",
    "rfc_pro = rfc.predict_proba(x_test_scaled)"
   ]
  },
  {
   "cell_type": "code",
   "execution_count": 40,
   "id": "fdab7fd0",
   "metadata": {},
   "outputs": [
    {
     "name": "stdout",
     "output_type": "stream",
     "text": [
      "log_f1 :  0.7472527472527474\n",
      "lgbm_f1 :  0.3462686567164179\n",
      "rfc_f1 :  0.8783068783068783\n"
     ]
    }
   ],
   "source": [
    "print('log_f1 : ', f1_score(y_test, log_pre))\n",
    "print('lgbm_f1 : ',f1_score(y_test, lgbm_pre))\n",
    "print('rfc_f1 : ', f1_score(y_test, rfc_pre))"
   ]
  },
  {
   "cell_type": "code",
   "execution_count": 41,
   "id": "dc4197b9",
   "metadata": {},
   "outputs": [
    {
     "name": "stdout",
     "output_type": "stream",
     "text": [
      "log_auc_score :  0.9935096198633423\n",
      "lgbm_auc_score :  0.728441478185208\n",
      "rfc_auc_score :  0.9844339879724066\n"
     ]
    }
   ],
   "source": [
    "print('log_auc_score : ', roc_auc_score(y_test, log_pro[:,1]))\n",
    "print('lgbm_auc_score : ',roc_auc_score(y_test, lgbm_pro[:,1]))\n",
    "print('rfc_auc_score : ', roc_auc_score(y_test, rfc_pro[:,1]))"
   ]
  },
  {
   "cell_type": "code",
   "execution_count": null,
   "id": "97f03416",
   "metadata": {},
   "outputs": [],
   "source": []
  },
  {
   "cell_type": "markdown",
   "id": "253ca323",
   "metadata": {},
   "source": [
    "# 이상치(outlier) 제거\n",
    " :boxplot을 사용"
   ]
  },
  {
   "cell_type": "code",
   "execution_count": 42,
   "id": "c37b970f",
   "metadata": {},
   "outputs": [],
   "source": [
    "# pd.DataFrame(x_train_scaled).plot(kind='bar')"
   ]
  },
  {
   "cell_type": "code",
   "execution_count": 43,
   "id": "93d7b635",
   "metadata": {},
   "outputs": [
    {
     "data": {
      "text/plain": [
       "<AxesSubplot:>"
      ]
     },
     "execution_count": 43,
     "metadata": {},
     "output_type": "execute_result"
    },
    {
     "data": {
      "image/png": "[encoded data removed]",
      "text/plain": [
       "<Figure size 432x288 with 1 Axes>"
      ]
     },
     "metadata": {
      "needs_background": "light"
     },
     "output_type": "display_data"
    }
   ],
   "source": [
    "df['V14'].plot(kind='box')"
   ]
  },
  {
   "cell_type": "code",
   "execution_count": 44,
   "id": "f9a830e4",
   "metadata": {},
   "outputs": [
    {
     "data": {
      "text/plain": [
       "0.9187238616731425"
      ]
     },
     "execution_count": 44,
     "metadata": {},
     "output_type": "execute_result"
    }
   ],
   "source": [
    "# 25% 와 75% 데이터의 차이값\n",
    "qu25 = np.percentile(df['V14'].values, 25)\n",
    "qu75 = np.percentile(df['V14'].values, 75)\n",
    "iqr = qu75 -qu25\n",
    "iqr"
   ]
  },
  {
   "cell_type": "code",
   "execution_count": 45,
   "id": "8a48243c",
   "metadata": {},
   "outputs": [
    {
     "name": "stdout",
     "output_type": "stream",
     "text": [
      "-1.803659804964707 1.8712356417278626\n"
     ]
    }
   ],
   "source": [
    "# 박스밖 limit값 구하기\n",
    "low_limit = qu25 - iqr*1.5\n",
    "high_limit = qu75 + iqr*1.5\n",
    "print(low_limit, high_limit)"
   ]
  },
  {
   "cell_type": "code",
   "execution_count": 46,
   "id": "a5998dce",
   "metadata": {},
   "outputs": [
    {
     "data": {
      "text/plain": [
       "array([[ 1.10574809, -0.86230917, -0.95810222, ..., -0.08619806,\n",
       "        -0.13861722,  0.03988964],\n",
       "       [ 1.02202287,  0.02455657, -1.3794686 , ..., -0.06272566,\n",
       "        -0.19257345, -0.11970133],\n",
       "       [ 0.14237309,  0.55362382, -1.23626219, ..., -0.39385845,\n",
       "        -0.31960802, -0.32348046],\n",
       "       ...,\n",
       "       [-1.12229071,  1.29544028, -0.05453878, ...,  0.66187822,\n",
       "         0.44380678, -0.3219722 ],\n",
       "       [-1.01896155, -0.08327497,  1.45139781, ...,  1.3102704 ,\n",
       "         0.21293027, -0.00495073],\n",
       "       [ 0.63480976, -0.27176532,  0.58268026, ...,  0.20794987,\n",
       "         0.09666552, -0.35552095]])"
      ]
     },
     "execution_count": 46,
     "metadata": {},
     "output_type": "execute_result"
    }
   ],
   "source": [
    "x_train_scaled #array 형"
   ]
  },
  {
   "cell_type": "code",
   "execution_count": 47,
   "id": "de874988",
   "metadata": {},
   "outputs": [],
   "source": [
    "# 이상치 값 불린인덱싱으로 제거\n",
    "\n",
    "x_train_scaled_no = x_train_scaled[ (x_train_scaled[:,13] >= low_limit) & (x_train_scaled[:,13]<=high_limit) ]\n",
    "\n",
    "y_train_no = y_train[ (x_train_scaled[:,13] >= low_limit) & (x_train_scaled[:,13]<= high_limit) ] "
   ]
  },
  {
   "cell_type": "code",
   "execution_count": null,
   "id": "9b3f2ef8",
   "metadata": {},
   "outputs": [],
   "source": []
  },
  {
   "cell_type": "code",
   "execution_count": 48,
   "id": "e7960fd2",
   "metadata": {},
   "outputs": [],
   "source": [
    "# 세 모델 평가"
   ]
  },
  {
   "cell_type": "code",
   "execution_count": 50,
   "id": "5482769b",
   "metadata": {},
   "outputs": [
    {
     "name": "stdout",
     "output_type": "stream",
     "text": [
      "LogisticRegression\n",
      "f1_score :  0.7753303964757708\n",
      "roc_auc_score :  0.9957859717313073\n",
      "--------------------------------------------------\n",
      "LGBMClassifier\n",
      "f1_score :  0.0\n",
      "roc_auc_score :  0.4837938129825364\n",
      "--------------------------------------------------\n",
      "RandomForestClassifier\n",
      "f1_score :  0.6\n",
      "roc_auc_score :  0.983442513365492\n",
      "--------------------------------------------------\n"
     ]
    }
   ],
   "source": [
    "log = LogisticRegression()\n",
    "lgmb = LGBMClassifier()\n",
    "rfc = RandomForestClassifier()\n",
    "\n",
    "\n",
    "models = [log,lgbm,rfc ]\n",
    "for model in models:\n",
    "    model.fit(x_train_scaled_no,y_train_no)\n",
    "    \n",
    "    preds_no = model.predict(x_test_scaled)\n",
    "    proba = model.predict_proba(x_test_scaled)\n",
    "    \n",
    "    f1 = f1_score(y_test, preds_no)\n",
    "    roc_auc = roc_auc_score(y_test, proba[:,1])\n",
    "    \n",
    "    print(model.__class__.__name__)\n",
    "    print('f1_score : ', f1)\n",
    "    print('roc_auc_score : ', roc_auc)\n",
    "    print('-'*50)"
   ]
  },
  {
   "cell_type": "code",
   "execution_count": null,
   "id": "620f1328",
   "metadata": {},
   "outputs": [],
   "source": []
  },
  {
   "cell_type": "code",
   "execution_count": null,
   "id": "b4550207",
   "metadata": {},
   "outputs": [],
   "source": []
  },
  {
   "cell_type": "markdown",
   "id": "f307a5be",
   "metadata": {},
   "source": [
    "# imbalanced dataset (불균형데이터 처리)"
   ]
  },
  {
   "cell_type": "code",
   "execution_count": null,
   "id": "7587d03f",
   "metadata": {},
   "outputs": [],
   "source": [
    "y_train_no.value_counts() # 상당히 불균형한 데이터"
   ]
  },
  {
   "cell_type": "code",
   "execution_count": null,
   "id": "0e22552b",
   "metadata": {},
   "outputs": [],
   "source": [
    "# !pip install -U imbalanced-learn"
   ]
  },
  {
   "cell_type": "code",
   "execution_count": null,
   "id": "657b2499",
   "metadata": {},
   "outputs": [],
   "source": [
    "import imblearn\n",
    "from imblearn.over_sampling import SMOTE"
   ]
  },
  {
   "cell_type": "code",
   "execution_count": null,
   "id": "9cfe28a1",
   "metadata": {},
   "outputs": [],
   "source": [
    "smote = SMOTE(random_state=111)\n",
    "x_train_sm, y_train_sm = smote.fit_resample(x_train_scaled_no, y_train_no)"
   ]
  },
  {
   "cell_type": "code",
   "execution_count": null,
   "id": "4e35d41c",
   "metadata": {},
   "outputs": [],
   "source": [
    "y_train_sm.value_counts() # 데이터 증폭시켜줌"
   ]
  },
  {
   "cell_type": "code",
   "execution_count": null,
   "id": "42a0342b",
   "metadata": {},
   "outputs": [],
   "source": [
    "log = LogisticRegression()\n",
    "lgmb = LGBMClassifier()\n",
    "rfc = RandomForestClassifier()\n",
    "\n",
    "\n",
    "models = [log,lgbm,rfc ]\n",
    "for model in models:\n",
    "    model.fit(x_train_sm,y_train_sm)\n",
    "    \n",
    "    preds_no = model.predict(x_test_scaled)\n",
    "    proba = model.predict_proba(x_test_scaled)\n",
    "    \n",
    "    f1 = f1_score(y_test, preds_no)\n",
    "    roc_auc = roc_auc_score(y_test, proba[:,1])\n",
    "    \n",
    "#     print(model.__class__.__name__)\n",
    "    print('f1_score : ', f1)\n",
    "    print('roc_auc_score : ', roc_auc)\n",
    "    print('-'*50)"
   ]
  },
  {
   "cell_type": "markdown",
   "id": "8078eee0",
   "metadata": {},
   "source": [
    "## ★ 뭘 적용한다고 무조건 좋다는 것이 아니라 해보고 좋은 것을 찾아야 한다"
   ]
  },
  {
   "cell_type": "code",
   "execution_count": null,
   "id": "b3e4a42a",
   "metadata": {},
   "outputs": [],
   "source": []
  },
  {
   "cell_type": "code",
   "execution_count": null,
   "id": "85d7e4ca",
   "metadata": {},
   "outputs": [],
   "source": []
  },
  {
   "cell_type": "code",
   "execution_count": null,
   "id": "6bce7a42",
   "metadata": {},
   "outputs": [],
   "source": []
  }
 ],
 "metadata": {
  "kernelspec": {
   "display_name": "Python 3 (ipykernel)",
   "language": "python",
   "name": "python3"
  },
  "language_info": {
   "codemirror_mode": {
    "name": "ipython",
    "version": 3
   },
   "file_extension": ".py",
   "mimetype": "text/x-python",
   "name": "python",
   "nbconvert_exporter": "python",
   "pygments_lexer": "ipython3",
   "version": "3.9.7"
  },
  "varInspector": {
   "cols": {
    "lenName": 16,
    "lenType": 16,
    "lenVar": 40
   },
   "kernels_config": {
    "python": {
     "delete_cmd_postfix": "",
     "delete_cmd_prefix": "del ",
     "library": "var_list.py",
     "varRefreshCmd": "print(var_dic_list())"
    },
    "r": {
     "delete_cmd_postfix": ") ",
     "delete_cmd_prefix": "rm(",
     "library": "var_list.r",
     "varRefreshCmd": "cat(var_dic_list()) "
    }
   },
   "types_to_exclude": [
    "module",
    "function",
    "builtin_function_or_method",
    "instance",
    "_Feature"
   ],
   "window_display": false
  }
 },
 "nbformat": 4,
 "nbformat_minor": 5
}
