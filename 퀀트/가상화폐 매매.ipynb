{
 "cells": [
  {
   "cell_type": "markdown",
   "id": "812b70b7",
   "metadata": {},
   "source": [
    "# 가상화폐 자동매매"
   ]
  },
  {
   "cell_type": "code",
   "execution_count": 5,
   "id": "bf101646",
   "metadata": {
    "ExecuteTime": {
     "end_time": "2022-05-04T01:46:45.337304Z",
     "start_time": "2022-05-04T01:46:45.326363Z"
    }
   },
   "outputs": [],
   "source": [
    "# upbit, bithumb"
   ]
  },
  {
   "cell_type": "code",
   "execution_count": 27,
   "id": "63cb8d7a",
   "metadata": {
    "ExecuteTime": {
     "end_time": "2022-05-04T02:09:06.842317Z",
     "start_time": "2022-05-04T02:09:06.191526Z"
    }
   },
   "outputs": [],
   "source": [
    "import pandas as pd\n",
    "import numpy as np\n",
    "import matplotlib.pyplot as plt\n",
    "import seaborn as sns"
   ]
  },
  {
   "cell_type": "markdown",
   "id": "0910350b",
   "metadata": {},
   "source": [
    "# upbit API"
   ]
  },
  {
   "cell_type": "code",
   "execution_count": 6,
   "id": "39111fb9",
   "metadata": {
    "ExecuteTime": {
     "end_time": "2022-05-04T01:46:49.322648Z",
     "start_time": "2022-05-04T01:46:49.310680Z"
    }
   },
   "outputs": [],
   "source": [
    "# !pip install -U pyupbit"
   ]
  },
  {
   "cell_type": "code",
   "execution_count": 7,
   "id": "35d7e608",
   "metadata": {
    "ExecuteTime": {
     "end_time": "2022-05-04T01:46:50.643145Z",
     "start_time": "2022-05-04T01:46:50.638158Z"
    }
   },
   "outputs": [],
   "source": [
    "import pyupbit"
   ]
  },
  {
   "cell_type": "code",
   "execution_count": 9,
   "id": "83cac90f",
   "metadata": {
    "ExecuteTime": {
     "end_time": "2022-05-04T01:48:51.621261Z",
     "start_time": "2022-05-04T01:48:51.582365Z"
    }
   },
   "outputs": [
    {
     "name": "stdout",
     "output_type": "stream",
     "text": [
      "['KRW-BTC', 'KRW-ETH', 'BTC-ETH', 'BTC-LTC', 'BTC-XRP', 'BTC-ETC', 'BTC-OMG', 'BTC-CVC', 'BTC-DGB', 'BTC-SC', 'BTC-SNT', 'BTC-WAVES', 'BTC-NMR', 'BTC-XEM', 'BTC-QTUM', 'BTC-BAT', 'BTC-LSK', 'BTC-STEEM', 'BTC-DOGE', 'BTC-BNT', 'BTC-XLM', 'BTC-ARDR', 'BTC-ARK', 'BTC-STORJ', 'BTC-GRS', 'BTC-REP', 'BTC-RLC', 'USDT-BTC', 'USDT-ETH', 'USDT-LTC', 'USDT-XRP', 'USDT-ETC', 'KRW-NEO', 'KRW-MTL', 'KRW-LTC', 'KRW-XRP', 'KRW-ETC', 'KRW-OMG', 'KRW-SNT', 'KRW-WAVES', 'KRW-XEM', 'KRW-QTUM', 'KRW-LSK', 'KRW-STEEM', 'KRW-XLM', 'KRW-ARDR', 'KRW-ARK', 'KRW-STORJ', 'KRW-GRS', 'KRW-REP', 'KRW-ADA', 'BTC-ADA', 'BTC-MANA', 'USDT-OMG', 'KRW-SBD', 'BTC-SBD', 'KRW-POWR', 'BTC-POWR', 'KRW-BTG', 'USDT-ADA', 'BTC-DNT', 'BTC-ZRX', 'BTC-TRX', 'BTC-TUSD', 'BTC-LRC', 'KRW-ICX', 'KRW-EOS', 'USDT-TUSD', 'KRW-TRX', 'BTC-POLY', 'USDT-SC', 'USDT-TRX', 'KRW-SC', 'KRW-ONT', 'KRW-ZIL', 'KRW-POLY', 'KRW-ZRX', 'KRW-LOOM', 'BTC-BCH', 'USDT-BCH', 'KRW-BCH', 'BTC-MFT', 'BTC-LOOM', 'KRW-BAT', 'KRW-IOST', 'BTC-RFR', 'KRW-RFR', 'USDT-DGB', 'KRW-CVC', 'KRW-IQ', 'KRW-IOTA', 'BTC-RVN', 'BTC-GO', 'BTC-UPP', 'BTC-ENJ', 'KRW-MFT', 'KRW-ONG', 'KRW-GAS', 'BTC-MTL', 'KRW-UPP', 'KRW-ELF', 'USDT-DOGE', 'USDT-ZRX', 'USDT-RVN', 'USDT-BAT', 'KRW-KNC', 'BTC-MOC', 'BTC-ZIL', 'KRW-BSV', 'BTC-BSV', 'BTC-IOST', 'KRW-THETA', 'BTC-DENT', 'KRW-QKC', 'BTC-ELF', 'KRW-BTT', 'BTC-IOTX', 'BTC-SOLVE', 'BTC-NKN', 'BTC-META', 'KRW-MOC', 'BTC-ANKR', 'BTC-CRO', 'KRW-ENJ', 'KRW-TFUEL', 'KRW-MANA', 'KRW-ANKR', 'BTC-ORBS', 'BTC-AERGO', 'KRW-AERGO', 'KRW-ATOM', 'KRW-TT', 'KRW-CRE', 'BTC-ATOM', 'BTC-STPT', 'KRW-MBL', 'BTC-EOS', 'BTC-LUNA', 'BTC-DAI', 'BTC-MKR', 'BTC-BORA', 'KRW-WAXP', 'BTC-WAXP', 'KRW-HBAR', 'KRW-MED', 'BTC-MED', 'BTC-MLK', 'KRW-MLK', 'KRW-STPT', 'BTC-VET', 'KRW-ORBS', 'BTC-CHZ', 'KRW-VET', 'BTC-FX', 'BTC-OGN', 'KRW-CHZ', 'BTC-XTZ', 'BTC-HIVE', 'BTC-HBD', 'BTC-OBSR', 'BTC-DKA', 'KRW-STMX', 'BTC-STMX', 'BTC-AHT', 'BTC-PCI', 'KRW-DKA', 'BTC-LINK', 'KRW-HIVE', 'KRW-KAVA', 'BTC-KAVA', 'KRW-AHT', 'KRW-LINK', 'KRW-XTZ', 'KRW-BORA', 'BTC-JST', 'BTC-CHR', 'BTC-DAD', 'BTC-TON', 'KRW-JST', 'BTC-CTSI', 'BTC-DOT', 'KRW-CRO', 'BTC-COMP', 'BTC-SXP', 'BTC-HUNT', 'KRW-TON', 'BTC-ONIT', 'BTC-CRV', 'BTC-ALGO', 'BTC-RSR', 'KRW-SXP', 'BTC-OXT', 'BTC-PLA', 'KRW-HUNT', 'BTC-MARO', 'BTC-SAND', 'BTC-SUN', 'KRW-PLA', 'KRW-DOT', 'BTC-SRM', 'BTC-QTCON', 'BTC-MVL', 'KRW-SRM', 'KRW-MVL', 'BTC-REI', 'BTC-AQT', 'BTC-AXS', 'BTC-STRAX', 'KRW-STRAX', 'KRW-AQT', 'BTC-GLM', 'KRW-GLM', 'BTC-FCT2', 'BTC-SSX', 'KRW-SSX', 'KRW-META', 'KRW-FCT2', 'BTC-FIL', 'BTC-UNI', 'BTC-BASIC', 'BTC-INJ', 'BTC-PROM', 'BTC-VAL', 'BTC-PSG', 'BTC-JUV', 'BTC-CBK', 'BTC-FOR', 'KRW-CBK', 'BTC-BFC', 'BTC-LINA', 'BTC-HUM', 'BTC-CELO', 'KRW-SAND', 'KRW-HUM', 'BTC-IQ', 'BTC-STX', 'KRW-DOGE', 'BTC-NEAR', 'BTC-AUCTION', 'BTC-DAWN', 'BTC-FLOW', 'BTC-STRK', 'KRW-STRK', 'BTC-PUNDIX', 'KRW-PUNDIX', 'KRW-FLOW', 'KRW-DAWN', 'KRW-AXS', 'KRW-STX', 'BTC-GRT', 'BTC-SNX', 'BTC-USDP', 'KRW-XEC', 'KRW-SOL', 'BTC-SOL', 'KRW-MATIC', 'BTC-MATIC', 'KRW-NU', 'BTC-NU', 'KRW-AAVE', 'KRW-1INCH', 'BTC-AAVE', 'BTC-1INCH', 'BTC-MASK', 'KRW-ALGO', 'BTC-AUDIO', 'KRW-NEAR', 'BTC-YGG', 'BTC-GTC', 'BTC-OCEAN', 'BTC-CTC', 'BTC-LPT', 'KRW-WEMIX', 'BTC-WEMIX', 'KRW-AVAX', 'BTC-AVAX', 'BTC-IMX', 'BTC-RNDR', 'BTC-RLY', 'KRW-T', 'BTC-T', 'KRW-CELO', 'BTC-RAD', 'BTC-AGLD', 'BTC-API3', 'BTC-ARPA', 'BTC-ENS']\n"
     ]
    }
   ],
   "source": [
    "tickers = pyupbit.get_tickers()\n",
    "print(tickers)"
   ]
  },
  {
   "cell_type": "code",
   "execution_count": 10,
   "id": "3c0dda3d",
   "metadata": {
    "ExecuteTime": {
     "end_time": "2022-05-04T01:49:44.467960Z",
     "start_time": "2022-05-04T01:49:44.448044Z"
    },
    "collapsed": true
   },
   "outputs": [
    {
     "name": "stdout",
     "output_type": "stream",
     "text": [
      "KRW-BTC\n",
      "KRW-ETH\n",
      "BTC-ETH\n",
      "BTC-LTC\n",
      "BTC-XRP\n",
      "BTC-ETC\n",
      "BTC-OMG\n",
      "BTC-CVC\n",
      "BTC-DGB\n",
      "BTC-SC\n",
      "BTC-SNT\n",
      "BTC-WAVES\n",
      "BTC-NMR\n",
      "BTC-XEM\n",
      "BTC-QTUM\n",
      "BTC-BAT\n",
      "BTC-LSK\n",
      "BTC-STEEM\n",
      "BTC-DOGE\n",
      "BTC-BNT\n",
      "BTC-XLM\n",
      "BTC-ARDR\n",
      "BTC-ARK\n",
      "BTC-STORJ\n",
      "BTC-GRS\n",
      "BTC-REP\n",
      "BTC-RLC\n",
      "USDT-BTC\n",
      "USDT-ETH\n",
      "USDT-LTC\n",
      "USDT-XRP\n",
      "USDT-ETC\n",
      "KRW-NEO\n",
      "KRW-MTL\n",
      "KRW-LTC\n",
      "KRW-XRP\n",
      "KRW-ETC\n",
      "KRW-OMG\n",
      "KRW-SNT\n",
      "KRW-WAVES\n",
      "KRW-XEM\n",
      "KRW-QTUM\n",
      "KRW-LSK\n",
      "KRW-STEEM\n",
      "KRW-XLM\n",
      "KRW-ARDR\n",
      "KRW-ARK\n",
      "KRW-STORJ\n",
      "KRW-GRS\n",
      "KRW-REP\n",
      "KRW-ADA\n",
      "BTC-ADA\n",
      "BTC-MANA\n",
      "USDT-OMG\n",
      "KRW-SBD\n",
      "BTC-SBD\n",
      "KRW-POWR\n",
      "BTC-POWR\n",
      "KRW-BTG\n",
      "USDT-ADA\n",
      "BTC-DNT\n",
      "BTC-ZRX\n",
      "BTC-TRX\n",
      "BTC-TUSD\n",
      "BTC-LRC\n",
      "KRW-ICX\n",
      "KRW-EOS\n",
      "USDT-TUSD\n",
      "KRW-TRX\n",
      "BTC-POLY\n",
      "USDT-SC\n",
      "USDT-TRX\n",
      "KRW-SC\n",
      "KRW-ONT\n",
      "KRW-ZIL\n",
      "KRW-POLY\n",
      "KRW-ZRX\n",
      "KRW-LOOM\n",
      "BTC-BCH\n",
      "USDT-BCH\n",
      "KRW-BCH\n",
      "BTC-MFT\n",
      "BTC-LOOM\n",
      "KRW-BAT\n",
      "KRW-IOST\n",
      "BTC-RFR\n",
      "KRW-RFR\n",
      "USDT-DGB\n",
      "KRW-CVC\n",
      "KRW-IQ\n",
      "KRW-IOTA\n",
      "BTC-RVN\n",
      "BTC-GO\n",
      "BTC-UPP\n",
      "BTC-ENJ\n",
      "KRW-MFT\n",
      "KRW-ONG\n",
      "KRW-GAS\n",
      "BTC-MTL\n",
      "KRW-UPP\n",
      "KRW-ELF\n",
      "USDT-DOGE\n",
      "USDT-ZRX\n",
      "USDT-RVN\n",
      "USDT-BAT\n",
      "KRW-KNC\n",
      "BTC-MOC\n",
      "BTC-ZIL\n",
      "KRW-BSV\n",
      "BTC-BSV\n",
      "BTC-IOST\n",
      "KRW-THETA\n",
      "BTC-DENT\n",
      "KRW-QKC\n",
      "BTC-ELF\n",
      "KRW-BTT\n",
      "BTC-IOTX\n",
      "BTC-SOLVE\n",
      "BTC-NKN\n",
      "BTC-META\n",
      "KRW-MOC\n",
      "BTC-ANKR\n",
      "BTC-CRO\n",
      "KRW-ENJ\n",
      "KRW-TFUEL\n",
      "KRW-MANA\n",
      "KRW-ANKR\n",
      "BTC-ORBS\n",
      "BTC-AERGO\n",
      "KRW-AERGO\n",
      "KRW-ATOM\n",
      "KRW-TT\n",
      "KRW-CRE\n",
      "BTC-ATOM\n",
      "BTC-STPT\n",
      "KRW-MBL\n",
      "BTC-EOS\n",
      "BTC-LUNA\n",
      "BTC-DAI\n",
      "BTC-MKR\n",
      "BTC-BORA\n",
      "KRW-WAXP\n",
      "BTC-WAXP\n",
      "KRW-HBAR\n",
      "KRW-MED\n",
      "BTC-MED\n",
      "BTC-MLK\n",
      "KRW-MLK\n",
      "KRW-STPT\n",
      "BTC-VET\n",
      "KRW-ORBS\n",
      "BTC-CHZ\n",
      "KRW-VET\n",
      "BTC-FX\n",
      "BTC-OGN\n",
      "KRW-CHZ\n",
      "BTC-XTZ\n",
      "BTC-HIVE\n",
      "BTC-HBD\n",
      "BTC-OBSR\n",
      "BTC-DKA\n",
      "KRW-STMX\n",
      "BTC-STMX\n",
      "BTC-AHT\n",
      "BTC-PCI\n",
      "KRW-DKA\n",
      "BTC-LINK\n",
      "KRW-HIVE\n",
      "KRW-KAVA\n",
      "BTC-KAVA\n",
      "KRW-AHT\n",
      "KRW-LINK\n",
      "KRW-XTZ\n",
      "KRW-BORA\n",
      "BTC-JST\n",
      "BTC-CHR\n",
      "BTC-DAD\n",
      "BTC-TON\n",
      "KRW-JST\n",
      "BTC-CTSI\n",
      "BTC-DOT\n",
      "KRW-CRO\n",
      "BTC-COMP\n",
      "BTC-SXP\n",
      "BTC-HUNT\n",
      "KRW-TON\n",
      "BTC-ONIT\n",
      "BTC-CRV\n",
      "BTC-ALGO\n",
      "BTC-RSR\n",
      "KRW-SXP\n",
      "BTC-OXT\n",
      "BTC-PLA\n",
      "KRW-HUNT\n",
      "BTC-MARO\n",
      "BTC-SAND\n",
      "BTC-SUN\n",
      "KRW-PLA\n",
      "KRW-DOT\n",
      "BTC-SRM\n",
      "BTC-QTCON\n",
      "BTC-MVL\n",
      "KRW-SRM\n",
      "KRW-MVL\n",
      "BTC-REI\n",
      "BTC-AQT\n",
      "BTC-AXS\n",
      "BTC-STRAX\n",
      "KRW-STRAX\n",
      "KRW-AQT\n",
      "BTC-GLM\n",
      "KRW-GLM\n",
      "BTC-FCT2\n",
      "BTC-SSX\n",
      "KRW-SSX\n",
      "KRW-META\n",
      "KRW-FCT2\n",
      "BTC-FIL\n",
      "BTC-UNI\n",
      "BTC-BASIC\n",
      "BTC-INJ\n",
      "BTC-PROM\n",
      "BTC-VAL\n",
      "BTC-PSG\n",
      "BTC-JUV\n",
      "BTC-CBK\n",
      "BTC-FOR\n",
      "KRW-CBK\n",
      "BTC-BFC\n",
      "BTC-LINA\n",
      "BTC-HUM\n",
      "BTC-CELO\n",
      "KRW-SAND\n",
      "KRW-HUM\n",
      "BTC-IQ\n",
      "BTC-STX\n",
      "KRW-DOGE\n",
      "BTC-NEAR\n",
      "BTC-AUCTION\n",
      "BTC-DAWN\n",
      "BTC-FLOW\n",
      "BTC-STRK\n",
      "KRW-STRK\n",
      "BTC-PUNDIX\n",
      "KRW-PUNDIX\n",
      "KRW-FLOW\n",
      "KRW-DAWN\n",
      "KRW-AXS\n",
      "KRW-STX\n",
      "BTC-GRT\n",
      "BTC-SNX\n",
      "BTC-USDP\n",
      "KRW-XEC\n",
      "KRW-SOL\n",
      "BTC-SOL\n",
      "KRW-MATIC\n",
      "BTC-MATIC\n",
      "KRW-NU\n",
      "BTC-NU\n",
      "KRW-AAVE\n",
      "KRW-1INCH\n",
      "BTC-AAVE\n",
      "BTC-1INCH\n",
      "BTC-MASK\n",
      "KRW-ALGO\n",
      "BTC-AUDIO\n",
      "KRW-NEAR\n",
      "BTC-YGG\n",
      "BTC-GTC\n",
      "BTC-OCEAN\n",
      "BTC-CTC\n",
      "BTC-LPT\n",
      "KRW-WEMIX\n",
      "BTC-WEMIX\n",
      "KRW-AVAX\n",
      "BTC-AVAX\n",
      "BTC-IMX\n",
      "BTC-RNDR\n",
      "BTC-RLY\n",
      "KRW-T\n",
      "BTC-T\n",
      "KRW-CELO\n",
      "BTC-RAD\n",
      "BTC-AGLD\n",
      "BTC-API3\n",
      "BTC-ARPA\n",
      "BTC-ENS\n"
     ]
    }
   ],
   "source": [
    "for 변수 in tickers:\n",
    "    print(변수)"
   ]
  },
  {
   "cell_type": "code",
   "execution_count": 11,
   "id": "2f95a8f7",
   "metadata": {
    "ExecuteTime": {
     "end_time": "2022-05-04T01:50:46.334541Z",
     "start_time": "2022-05-04T01:50:46.319581Z"
    }
   },
   "outputs": [
    {
     "name": "stdout",
     "output_type": "stream",
     "text": [
      "KRW-BTC\n",
      "KRW-ETH\n",
      "BTC-ETH\n",
      "BTC-LTC\n",
      "BTC-XRP\n",
      "BTC-ETC\n",
      "BTC-OMG\n",
      "BTC-CVC\n",
      "BTC-DGB\n",
      "BTC-SC\n",
      "BTC-SNT\n",
      "BTC-WAVES\n",
      "BTC-NMR\n",
      "BTC-XEM\n",
      "BTC-QTUM\n",
      "BTC-BAT\n",
      "BTC-LSK\n",
      "BTC-STEEM\n",
      "BTC-DOGE\n",
      "BTC-BNT\n",
      "BTC-XLM\n",
      "BTC-ARDR\n",
      "BTC-ARK\n",
      "BTC-STORJ\n",
      "BTC-GRS\n",
      "BTC-REP\n",
      "BTC-RLC\n",
      "USDT-BTC\n",
      "USDT-ETH\n",
      "USDT-LTC\n",
      "USDT-XRP\n",
      "USDT-ETC\n",
      "KRW-NEO\n",
      "KRW-MTL\n",
      "KRW-LTC\n",
      "KRW-XRP\n",
      "KRW-ETC\n",
      "KRW-OMG\n",
      "KRW-SNT\n",
      "KRW-WAVES\n",
      "KRW-XEM\n",
      "KRW-QTUM\n",
      "KRW-LSK\n",
      "KRW-STEEM\n",
      "KRW-XLM\n",
      "KRW-ARDR\n",
      "KRW-ARK\n",
      "KRW-STORJ\n",
      "KRW-GRS\n",
      "KRW-REP\n",
      "KRW-ADA\n",
      "BTC-ADA\n",
      "BTC-MANA\n",
      "USDT-OMG\n",
      "KRW-SBD\n",
      "BTC-SBD\n",
      "KRW-POWR\n",
      "BTC-POWR\n",
      "KRW-BTG\n",
      "USDT-ADA\n",
      "BTC-DNT\n",
      "BTC-ZRX\n",
      "BTC-TRX\n",
      "BTC-TUSD\n",
      "BTC-LRC\n",
      "KRW-ICX\n",
      "KRW-EOS\n",
      "USDT-TUSD\n",
      "KRW-TRX\n",
      "BTC-POLY\n",
      "USDT-SC\n",
      "USDT-TRX\n",
      "KRW-SC\n",
      "KRW-ONT\n",
      "KRW-ZIL\n",
      "KRW-POLY\n",
      "KRW-ZRX\n",
      "KRW-LOOM\n",
      "BTC-BCH\n",
      "USDT-BCH\n",
      "KRW-BCH\n",
      "BTC-MFT\n",
      "BTC-LOOM\n",
      "KRW-BAT\n",
      "KRW-IOST\n",
      "BTC-RFR\n",
      "KRW-RFR\n",
      "USDT-DGB\n",
      "KRW-CVC\n",
      "KRW-IQ\n",
      "KRW-IOTA\n",
      "BTC-RVN\n",
      "BTC-GO\n",
      "BTC-UPP\n",
      "BTC-ENJ\n",
      "KRW-MFT\n",
      "KRW-ONG\n",
      "KRW-GAS\n",
      "BTC-MTL\n",
      "KRW-UPP\n",
      "KRW-ELF\n",
      "USDT-DOGE\n",
      "USDT-ZRX\n",
      "USDT-RVN\n",
      "USDT-BAT\n",
      "KRW-KNC\n",
      "BTC-MOC\n",
      "BTC-ZIL\n",
      "KRW-BSV\n",
      "BTC-BSV\n",
      "BTC-IOST\n",
      "KRW-THETA\n",
      "BTC-DENT\n",
      "KRW-QKC\n",
      "BTC-ELF\n",
      "KRW-BTT\n",
      "BTC-IOTX\n",
      "BTC-SOLVE\n",
      "BTC-NKN\n",
      "BTC-META\n",
      "KRW-MOC\n",
      "BTC-ANKR\n",
      "BTC-CRO\n",
      "KRW-ENJ\n",
      "KRW-TFUEL\n",
      "KRW-MANA\n",
      "KRW-ANKR\n",
      "BTC-ORBS\n",
      "BTC-AERGO\n",
      "KRW-AERGO\n",
      "KRW-ATOM\n",
      "KRW-TT\n",
      "KRW-CRE\n",
      "BTC-ATOM\n",
      "BTC-STPT\n",
      "KRW-MBL\n",
      "BTC-EOS\n",
      "BTC-LUNA\n",
      "BTC-DAI\n",
      "BTC-MKR\n",
      "BTC-BORA\n",
      "KRW-WAXP\n",
      "BTC-WAXP\n",
      "KRW-HBAR\n",
      "KRW-MED\n",
      "BTC-MED\n",
      "BTC-MLK\n",
      "KRW-MLK\n",
      "KRW-STPT\n",
      "BTC-VET\n",
      "KRW-ORBS\n",
      "BTC-CHZ\n",
      "KRW-VET\n",
      "BTC-FX\n",
      "BTC-OGN\n",
      "KRW-CHZ\n",
      "BTC-XTZ\n",
      "BTC-HIVE\n",
      "BTC-HBD\n",
      "BTC-OBSR\n",
      "BTC-DKA\n",
      "KRW-STMX\n",
      "BTC-STMX\n",
      "BTC-AHT\n",
      "BTC-PCI\n",
      "KRW-DKA\n",
      "BTC-LINK\n",
      "KRW-HIVE\n",
      "KRW-KAVA\n",
      "BTC-KAVA\n",
      "KRW-AHT\n",
      "KRW-LINK\n",
      "KRW-XTZ\n",
      "KRW-BORA\n",
      "BTC-JST\n",
      "BTC-CHR\n",
      "BTC-DAD\n",
      "BTC-TON\n",
      "KRW-JST\n",
      "BTC-CTSI\n",
      "BTC-DOT\n",
      "KRW-CRO\n",
      "BTC-COMP\n",
      "BTC-SXP\n",
      "BTC-HUNT\n",
      "KRW-TON\n",
      "BTC-ONIT\n",
      "BTC-CRV\n",
      "BTC-ALGO\n",
      "BTC-RSR\n",
      "KRW-SXP\n",
      "BTC-OXT\n",
      "BTC-PLA\n",
      "KRW-HUNT\n",
      "BTC-MARO\n",
      "BTC-SAND\n",
      "BTC-SUN\n",
      "KRW-PLA\n",
      "KRW-DOT\n",
      "BTC-SRM\n",
      "BTC-QTCON\n",
      "BTC-MVL\n",
      "KRW-SRM\n",
      "KRW-MVL\n",
      "BTC-REI\n",
      "BTC-AQT\n",
      "BTC-AXS\n",
      "BTC-STRAX\n",
      "KRW-STRAX\n",
      "KRW-AQT\n",
      "BTC-GLM\n",
      "KRW-GLM\n",
      "BTC-FCT2\n",
      "BTC-SSX\n",
      "KRW-SSX\n",
      "KRW-META\n",
      "KRW-FCT2\n",
      "BTC-FIL\n",
      "BTC-UNI\n",
      "BTC-BASIC\n",
      "BTC-INJ\n",
      "BTC-PROM\n",
      "BTC-VAL\n",
      "BTC-PSG\n",
      "BTC-JUV\n",
      "BTC-CBK\n",
      "BTC-FOR\n",
      "KRW-CBK\n",
      "BTC-BFC\n",
      "BTC-LINA\n",
      "BTC-HUM\n",
      "BTC-CELO\n",
      "KRW-SAND\n",
      "KRW-HUM\n",
      "BTC-IQ\n",
      "BTC-STX\n",
      "KRW-DOGE\n",
      "BTC-NEAR\n",
      "BTC-AUCTION\n",
      "BTC-DAWN\n",
      "BTC-FLOW\n",
      "BTC-STRK\n",
      "KRW-STRK\n",
      "BTC-PUNDIX\n",
      "KRW-PUNDIX\n",
      "KRW-FLOW\n",
      "KRW-DAWN\n",
      "KRW-AXS\n",
      "KRW-STX\n",
      "BTC-GRT\n",
      "BTC-SNX\n",
      "BTC-USDP\n",
      "KRW-XEC\n",
      "KRW-SOL\n",
      "BTC-SOL\n",
      "KRW-MATIC\n",
      "BTC-MATIC\n",
      "KRW-NU\n",
      "BTC-NU\n",
      "KRW-AAVE\n",
      "KRW-1INCH\n",
      "BTC-AAVE\n",
      "BTC-1INCH\n",
      "BTC-MASK\n",
      "KRW-ALGO\n",
      "BTC-AUDIO\n",
      "KRW-NEAR\n",
      "BTC-YGG\n",
      "BTC-GTC\n",
      "BTC-OCEAN\n",
      "BTC-CTC\n",
      "BTC-LPT\n",
      "KRW-WEMIX\n",
      "BTC-WEMIX\n",
      "KRW-AVAX\n",
      "BTC-AVAX\n",
      "BTC-IMX\n",
      "BTC-RNDR\n",
      "BTC-RLY\n",
      "KRW-T\n",
      "BTC-T\n",
      "KRW-CELO\n",
      "BTC-RAD\n",
      "BTC-AGLD\n",
      "BTC-API3\n",
      "BTC-ARPA\n",
      "BTC-ENS\n"
     ]
    }
   ],
   "source": [
    "for i in range(len(tickers)):\n",
    "    print(tickers[i])"
   ]
  },
  {
   "cell_type": "code",
   "execution_count": null,
   "id": "e0393c30",
   "metadata": {},
   "outputs": [],
   "source": []
  },
  {
   "cell_type": "markdown",
   "id": "5ded489a",
   "metadata": {},
   "source": [
    "## 현재가 조회"
   ]
  },
  {
   "cell_type": "code",
   "execution_count": 13,
   "id": "bcac1afe",
   "metadata": {
    "ExecuteTime": {
     "end_time": "2022-05-04T01:52:07.684029Z",
     "start_time": "2022-05-04T01:52:07.631171Z"
    }
   },
   "outputs": [
    {
     "data": {
      "text/plain": [
       "48849000.0"
      ]
     },
     "execution_count": 13,
     "metadata": {},
     "output_type": "execute_result"
    }
   ],
   "source": [
    "pyupbit.get_current_price('KRW-BTC')"
   ]
  },
  {
   "cell_type": "code",
   "execution_count": 14,
   "id": "97b433ff",
   "metadata": {
    "ExecuteTime": {
     "end_time": "2022-05-04T01:52:18.374095Z",
     "start_time": "2022-05-04T01:52:18.319592Z"
    }
   },
   "outputs": [
    {
     "data": {
      "text/plain": [
       "3597000.0"
      ]
     },
     "execution_count": 14,
     "metadata": {},
     "output_type": "execute_result"
    }
   ],
   "source": [
    "pyupbit.get_current_price('KRW-ETH')"
   ]
  },
  {
   "cell_type": "code",
   "execution_count": 15,
   "id": "51bafe1c",
   "metadata": {
    "ExecuteTime": {
     "end_time": "2022-05-04T01:52:33.678175Z",
     "start_time": "2022-05-04T01:52:33.631273Z"
    }
   },
   "outputs": [
    {
     "data": {
      "text/plain": [
       "0.07353068"
      ]
     },
     "execution_count": 15,
     "metadata": {},
     "output_type": "execute_result"
    }
   ],
   "source": [
    "pyupbit.get_current_price('BTC-ETH')"
   ]
  },
  {
   "cell_type": "code",
   "execution_count": null,
   "id": "03b3e30e",
   "metadata": {},
   "outputs": [],
   "source": []
  },
  {
   "cell_type": "code",
   "execution_count": 16,
   "id": "4e6ba740",
   "metadata": {
    "ExecuteTime": {
     "end_time": "2022-05-04T01:54:29.713891Z",
     "start_time": "2022-05-04T01:54:29.710899Z"
    }
   },
   "outputs": [],
   "source": [
    "# 주문 : 초당 8회, 분당 200회\n",
    "# 주문 이외 : 초당 30회, 분당900회"
   ]
  },
  {
   "cell_type": "code",
   "execution_count": 17,
   "id": "779a6131",
   "metadata": {
    "ExecuteTime": {
     "end_time": "2022-05-04T01:57:20.612941Z",
     "start_time": "2022-05-04T01:57:08.015654Z"
    }
   },
   "outputs": [
    {
     "name": "stdout",
     "output_type": "stream",
     "text": [
      "48793000.0\n",
      "3594000.0\n",
      "0.07353068\n",
      "0.00264\n",
      "1.618e-05\n",
      "0.00071492\n",
      "9.723e-05\n",
      "6.83e-06\n",
      "5.1e-07\n",
      "2.1e-07\n",
      "1.4e-06\n",
      "0.00032295\n",
      "0.000603\n",
      "2.3e-06\n",
      "0.00014148\n",
      "1.503e-05\n",
      "4.569e-05\n",
      "9.57e-06\n",
      "3.45e-06\n",
      "5.24e-05\n",
      "4.51e-06\n",
      "4.8e-06\n",
      "2.094e-05\n"
     ]
    },
    {
     "ename": "KeyboardInterrupt",
     "evalue": "",
     "output_type": "error",
     "traceback": [
      "\u001b[1;31m---------------------------------------------------------------------------\u001b[0m",
      "\u001b[1;31mKeyboardInterrupt\u001b[0m                         Traceback (most recent call last)",
      "\u001b[1;32m~\\AppData\\Local\\Temp/ipykernel_12836/1896773676.py\u001b[0m in \u001b[0;36m<module>\u001b[1;34m\u001b[0m\n\u001b[0;32m      4\u001b[0m     \u001b[0mprice\u001b[0m \u001b[1;33m=\u001b[0m \u001b[0mpyupbit\u001b[0m\u001b[1;33m.\u001b[0m\u001b[0mget_current_price\u001b[0m\u001b[1;33m(\u001b[0m\u001b[0mt\u001b[0m\u001b[1;33m)\u001b[0m\u001b[1;33m\u001b[0m\u001b[1;33m\u001b[0m\u001b[0m\n\u001b[0;32m      5\u001b[0m     \u001b[0mprint\u001b[0m\u001b[1;33m(\u001b[0m\u001b[0mprice\u001b[0m\u001b[1;33m)\u001b[0m\u001b[1;33m\u001b[0m\u001b[1;33m\u001b[0m\u001b[0m\n\u001b[1;32m----> 6\u001b[1;33m     \u001b[0mtime\u001b[0m\u001b[1;33m.\u001b[0m\u001b[0msleep\u001b[0m\u001b[1;33m(\u001b[0m\u001b[1;36m0.5\u001b[0m\u001b[1;33m)\u001b[0m\u001b[1;33m\u001b[0m\u001b[1;33m\u001b[0m\u001b[0m\n\u001b[0m",
      "\u001b[1;31mKeyboardInterrupt\u001b[0m: "
     ]
    }
   ],
   "source": [
    "import time\n",
    "\n",
    "for t in tickers:\n",
    "    price = pyupbit.get_current_price(t)\n",
    "    print(price)\n",
    "    time.sleep(0.5)"
   ]
  },
  {
   "cell_type": "code",
   "execution_count": 18,
   "id": "877930c6",
   "metadata": {
    "ExecuteTime": {
     "end_time": "2022-05-04T01:59:19.924925Z",
     "start_time": "2022-05-04T01:59:14.430616Z"
    }
   },
   "outputs": [
    {
     "name": "stdout",
     "output_type": "stream",
     "text": [
      "KRW-BTC 48787000.0\n",
      "KRW-ETH 3592000.0\n"
     ]
    }
   ],
   "source": [
    "import time\n",
    "\n",
    "for t in tickers[:10]:\n",
    "    price = pyupbit.get_current_price(t)\n",
    "    \n",
    "    if t[:3] == 'KRW':\n",
    "        print(t,price)\n",
    "    \n",
    "    else:\n",
    "        pass\n",
    "    \n",
    "    time.sleep(0.5)"
   ]
  },
  {
   "cell_type": "code",
   "execution_count": null,
   "id": "d0f5e077",
   "metadata": {},
   "outputs": [],
   "source": []
  },
  {
   "cell_type": "code",
   "execution_count": 20,
   "id": "d2881d4c",
   "metadata": {
    "ExecuteTime": {
     "end_time": "2022-05-04T02:00:42.664849Z",
     "start_time": "2022-05-04T02:00:42.606851Z"
    }
   },
   "outputs": [
    {
     "name": "stdout",
     "output_type": "stream",
     "text": [
      "('KRW-BTC', 48830000.0)\n",
      "('BTC-ETH', 0.07353068)\n"
     ]
    }
   ],
   "source": [
    "data = pyupbit.get_current_price(['KRW-BTC','BTC-ETH'])\n",
    "data\n",
    "\n",
    "for d in data.items():\n",
    "    print(d)"
   ]
  },
  {
   "cell_type": "code",
   "execution_count": null,
   "id": "deaeef63",
   "metadata": {},
   "outputs": [],
   "source": []
  },
  {
   "cell_type": "markdown",
   "id": "81c8db12",
   "metadata": {},
   "source": [
    "## 분봉/일봉/주봉/월봉 조회"
   ]
  },
  {
   "cell_type": "code",
   "execution_count": null,
   "id": "ac7c3c3a",
   "metadata": {},
   "outputs": [],
   "source": [
    "# minute, day, week, month, "
   ]
  },
  {
   "cell_type": "code",
   "execution_count": 22,
   "id": "460a2f7b",
   "metadata": {
    "ExecuteTime": {
     "end_time": "2022-05-04T02:04:06.872867Z",
     "start_time": "2022-05-04T02:04:06.774131Z"
    }
   },
   "outputs": [
    {
     "data": {
      "text/html": [
       "<div>\n",
       "<style scoped>\n",
       "    .dataframe tbody tr th:only-of-type {\n",
       "        vertical-align: middle;\n",
       "    }\n",
       "\n",
       "    .dataframe tbody tr th {\n",
       "        vertical-align: top;\n",
       "    }\n",
       "\n",
       "    .dataframe thead th {\n",
       "        text-align: right;\n",
       "    }\n",
       "</style>\n",
       "<table border=\"1\" class=\"dataframe\">\n",
       "  <thead>\n",
       "    <tr style=\"text-align: right;\">\n",
       "      <th></th>\n",
       "      <th>open</th>\n",
       "      <th>high</th>\n",
       "      <th>low</th>\n",
       "      <th>close</th>\n",
       "      <th>volume</th>\n",
       "      <th>value</th>\n",
       "    </tr>\n",
       "  </thead>\n",
       "  <tbody>\n",
       "    <tr>\n",
       "      <th>2022-04-25 09:00:00</th>\n",
       "      <td>49620000.0</td>\n",
       "      <td>50993000.0</td>\n",
       "      <td>48600000.0</td>\n",
       "      <td>50614000.0</td>\n",
       "      <td>4209.037602</td>\n",
       "      <td>2.080057e+11</td>\n",
       "    </tr>\n",
       "    <tr>\n",
       "      <th>2022-04-26 09:00:00</th>\n",
       "      <td>50614000.0</td>\n",
       "      <td>51193000.0</td>\n",
       "      <td>48300000.0</td>\n",
       "      <td>48777000.0</td>\n",
       "      <td>4171.124098</td>\n",
       "      <td>2.075713e+11</td>\n",
       "    </tr>\n",
       "    <tr>\n",
       "      <th>2022-04-27 09:00:00</th>\n",
       "      <td>48718000.0</td>\n",
       "      <td>50100000.0</td>\n",
       "      <td>48568000.0</td>\n",
       "      <td>49954000.0</td>\n",
       "      <td>2774.396468</td>\n",
       "      <td>1.369618e+11</td>\n",
       "    </tr>\n",
       "    <tr>\n",
       "      <th>2022-04-28 09:00:00</th>\n",
       "      <td>49954000.0</td>\n",
       "      <td>51299000.0</td>\n",
       "      <td>49666000.0</td>\n",
       "      <td>50580000.0</td>\n",
       "      <td>3157.489825</td>\n",
       "      <td>1.593737e+11</td>\n",
       "    </tr>\n",
       "    <tr>\n",
       "      <th>2022-04-29 09:00:00</th>\n",
       "      <td>50580000.0</td>\n",
       "      <td>50829000.0</td>\n",
       "      <td>49412000.0</td>\n",
       "      <td>49731000.0</td>\n",
       "      <td>2848.957459</td>\n",
       "      <td>1.423444e+11</td>\n",
       "    </tr>\n",
       "    <tr>\n",
       "      <th>2022-04-30 09:00:00</th>\n",
       "      <td>49731000.0</td>\n",
       "      <td>49953000.0</td>\n",
       "      <td>49243000.0</td>\n",
       "      <td>49283000.0</td>\n",
       "      <td>2078.698534</td>\n",
       "      <td>1.032479e+11</td>\n",
       "    </tr>\n",
       "    <tr>\n",
       "      <th>2022-05-01 09:00:00</th>\n",
       "      <td>49283000.0</td>\n",
       "      <td>49620000.0</td>\n",
       "      <td>48500000.0</td>\n",
       "      <td>49383000.0</td>\n",
       "      <td>2882.994540</td>\n",
       "      <td>1.416309e+11</td>\n",
       "    </tr>\n",
       "    <tr>\n",
       "      <th>2022-05-02 09:00:00</th>\n",
       "      <td>49383000.0</td>\n",
       "      <td>50210000.0</td>\n",
       "      <td>49110000.0</td>\n",
       "      <td>49520000.0</td>\n",
       "      <td>2614.563560</td>\n",
       "      <td>1.299316e+11</td>\n",
       "    </tr>\n",
       "    <tr>\n",
       "      <th>2022-05-03 09:00:00</th>\n",
       "      <td>49501000.0</td>\n",
       "      <td>49678000.0</td>\n",
       "      <td>48638000.0</td>\n",
       "      <td>48777000.0</td>\n",
       "      <td>2755.309315</td>\n",
       "      <td>1.356670e+11</td>\n",
       "    </tr>\n",
       "    <tr>\n",
       "      <th>2022-05-04 09:00:00</th>\n",
       "      <td>48772000.0</td>\n",
       "      <td>48999000.0</td>\n",
       "      <td>48722000.0</td>\n",
       "      <td>48866000.0</td>\n",
       "      <td>275.041819</td>\n",
       "      <td>1.344659e+10</td>\n",
       "    </tr>\n",
       "  </tbody>\n",
       "</table>\n",
       "</div>"
      ],
      "text/plain": [
       "                           open        high         low       close  \\\n",
       "2022-04-25 09:00:00  49620000.0  50993000.0  48600000.0  50614000.0   \n",
       "2022-04-26 09:00:00  50614000.0  51193000.0  48300000.0  48777000.0   \n",
       "2022-04-27 09:00:00  48718000.0  50100000.0  48568000.0  49954000.0   \n",
       "2022-04-28 09:00:00  49954000.0  51299000.0  49666000.0  50580000.0   \n",
       "2022-04-29 09:00:00  50580000.0  50829000.0  49412000.0  49731000.0   \n",
       "2022-04-30 09:00:00  49731000.0  49953000.0  49243000.0  49283000.0   \n",
       "2022-05-01 09:00:00  49283000.0  49620000.0  48500000.0  49383000.0   \n",
       "2022-05-02 09:00:00  49383000.0  50210000.0  49110000.0  49520000.0   \n",
       "2022-05-03 09:00:00  49501000.0  49678000.0  48638000.0  48777000.0   \n",
       "2022-05-04 09:00:00  48772000.0  48999000.0  48722000.0  48866000.0   \n",
       "\n",
       "                          volume         value  \n",
       "2022-04-25 09:00:00  4209.037602  2.080057e+11  \n",
       "2022-04-26 09:00:00  4171.124098  2.075713e+11  \n",
       "2022-04-27 09:00:00  2774.396468  1.369618e+11  \n",
       "2022-04-28 09:00:00  3157.489825  1.593737e+11  \n",
       "2022-04-29 09:00:00  2848.957459  1.423444e+11  \n",
       "2022-04-30 09:00:00  2078.698534  1.032479e+11  \n",
       "2022-05-01 09:00:00  2882.994540  1.416309e+11  \n",
       "2022-05-02 09:00:00  2614.563560  1.299316e+11  \n",
       "2022-05-03 09:00:00  2755.309315  1.356670e+11  \n",
       "2022-05-04 09:00:00   275.041819  1.344659e+10  "
      ]
     },
     "execution_count": 22,
     "metadata": {},
     "output_type": "execute_result"
    }
   ],
   "source": [
    "df = pyupbit.get_ohlcv('KRW-BTC', interval='day', count=10)\n",
    "df"
   ]
  },
  {
   "cell_type": "code",
   "execution_count": 23,
   "id": "e12cd652",
   "metadata": {
    "ExecuteTime": {
     "end_time": "2022-05-04T02:04:18.325245Z",
     "start_time": "2022-05-04T02:04:18.255404Z"
    }
   },
   "outputs": [
    {
     "data": {
      "text/html": [
       "<div>\n",
       "<style scoped>\n",
       "    .dataframe tbody tr th:only-of-type {\n",
       "        vertical-align: middle;\n",
       "    }\n",
       "\n",
       "    .dataframe tbody tr th {\n",
       "        vertical-align: top;\n",
       "    }\n",
       "\n",
       "    .dataframe thead th {\n",
       "        text-align: right;\n",
       "    }\n",
       "</style>\n",
       "<table border=\"1\" class=\"dataframe\">\n",
       "  <thead>\n",
       "    <tr style=\"text-align: right;\">\n",
       "      <th></th>\n",
       "      <th>open</th>\n",
       "      <th>high</th>\n",
       "      <th>low</th>\n",
       "      <th>close</th>\n",
       "      <th>volume</th>\n",
       "      <th>value</th>\n",
       "    </tr>\n",
       "  </thead>\n",
       "  <tbody>\n",
       "    <tr>\n",
       "      <th>2022-05-04 10:15:00</th>\n",
       "      <td>48967000.0</td>\n",
       "      <td>48999000.0</td>\n",
       "      <td>48964000.0</td>\n",
       "      <td>48969000.0</td>\n",
       "      <td>6.675540</td>\n",
       "      <td>3.269238e+08</td>\n",
       "    </tr>\n",
       "    <tr>\n",
       "      <th>2022-05-04 10:20:00</th>\n",
       "      <td>48969000.0</td>\n",
       "      <td>48999000.0</td>\n",
       "      <td>48966000.0</td>\n",
       "      <td>48996000.0</td>\n",
       "      <td>5.565098</td>\n",
       "      <td>2.726218e+08</td>\n",
       "    </tr>\n",
       "    <tr>\n",
       "      <th>2022-05-04 10:25:00</th>\n",
       "      <td>48998000.0</td>\n",
       "      <td>48999000.0</td>\n",
       "      <td>48965000.0</td>\n",
       "      <td>48972000.0</td>\n",
       "      <td>6.926145</td>\n",
       "      <td>3.392833e+08</td>\n",
       "    </tr>\n",
       "    <tr>\n",
       "      <th>2022-05-04 10:30:00</th>\n",
       "      <td>48987000.0</td>\n",
       "      <td>48989000.0</td>\n",
       "      <td>48962000.0</td>\n",
       "      <td>48987000.0</td>\n",
       "      <td>7.607306</td>\n",
       "      <td>3.725988e+08</td>\n",
       "    </tr>\n",
       "    <tr>\n",
       "      <th>2022-05-04 10:35:00</th>\n",
       "      <td>48987000.0</td>\n",
       "      <td>48988000.0</td>\n",
       "      <td>48877000.0</td>\n",
       "      <td>48922000.0</td>\n",
       "      <td>11.800236</td>\n",
       "      <td>5.773662e+08</td>\n",
       "    </tr>\n",
       "    <tr>\n",
       "      <th>2022-05-04 10:40:00</th>\n",
       "      <td>48922000.0</td>\n",
       "      <td>48938000.0</td>\n",
       "      <td>48877000.0</td>\n",
       "      <td>48904000.0</td>\n",
       "      <td>5.153133</td>\n",
       "      <td>2.519704e+08</td>\n",
       "    </tr>\n",
       "    <tr>\n",
       "      <th>2022-05-04 10:45:00</th>\n",
       "      <td>48890000.0</td>\n",
       "      <td>48904000.0</td>\n",
       "      <td>48872000.0</td>\n",
       "      <td>48872000.0</td>\n",
       "      <td>11.664950</td>\n",
       "      <td>5.703478e+08</td>\n",
       "    </tr>\n",
       "    <tr>\n",
       "      <th>2022-05-04 10:50:00</th>\n",
       "      <td>48872000.0</td>\n",
       "      <td>48885000.0</td>\n",
       "      <td>48810000.0</td>\n",
       "      <td>48810000.0</td>\n",
       "      <td>9.171051</td>\n",
       "      <td>4.479290e+08</td>\n",
       "    </tr>\n",
       "    <tr>\n",
       "      <th>2022-05-04 10:55:00</th>\n",
       "      <td>48809000.0</td>\n",
       "      <td>48850000.0</td>\n",
       "      <td>48782000.0</td>\n",
       "      <td>48810000.0</td>\n",
       "      <td>13.758736</td>\n",
       "      <td>6.713754e+08</td>\n",
       "    </tr>\n",
       "    <tr>\n",
       "      <th>2022-05-04 11:00:00</th>\n",
       "      <td>48840000.0</td>\n",
       "      <td>48866000.0</td>\n",
       "      <td>48810000.0</td>\n",
       "      <td>48856000.0</td>\n",
       "      <td>4.230350</td>\n",
       "      <td>2.066172e+08</td>\n",
       "    </tr>\n",
       "  </tbody>\n",
       "</table>\n",
       "</div>"
      ],
      "text/plain": [
       "                           open        high         low       close  \\\n",
       "2022-05-04 10:15:00  48967000.0  48999000.0  48964000.0  48969000.0   \n",
       "2022-05-04 10:20:00  48969000.0  48999000.0  48966000.0  48996000.0   \n",
       "2022-05-04 10:25:00  48998000.0  48999000.0  48965000.0  48972000.0   \n",
       "2022-05-04 10:30:00  48987000.0  48989000.0  48962000.0  48987000.0   \n",
       "2022-05-04 10:35:00  48987000.0  48988000.0  48877000.0  48922000.0   \n",
       "2022-05-04 10:40:00  48922000.0  48938000.0  48877000.0  48904000.0   \n",
       "2022-05-04 10:45:00  48890000.0  48904000.0  48872000.0  48872000.0   \n",
       "2022-05-04 10:50:00  48872000.0  48885000.0  48810000.0  48810000.0   \n",
       "2022-05-04 10:55:00  48809000.0  48850000.0  48782000.0  48810000.0   \n",
       "2022-05-04 11:00:00  48840000.0  48866000.0  48810000.0  48856000.0   \n",
       "\n",
       "                        volume         value  \n",
       "2022-05-04 10:15:00   6.675540  3.269238e+08  \n",
       "2022-05-04 10:20:00   5.565098  2.726218e+08  \n",
       "2022-05-04 10:25:00   6.926145  3.392833e+08  \n",
       "2022-05-04 10:30:00   7.607306  3.725988e+08  \n",
       "2022-05-04 10:35:00  11.800236  5.773662e+08  \n",
       "2022-05-04 10:40:00   5.153133  2.519704e+08  \n",
       "2022-05-04 10:45:00  11.664950  5.703478e+08  \n",
       "2022-05-04 10:50:00   9.171051  4.479290e+08  \n",
       "2022-05-04 10:55:00  13.758736  6.713754e+08  \n",
       "2022-05-04 11:00:00   4.230350  2.066172e+08  "
      ]
     },
     "execution_count": 23,
     "metadata": {},
     "output_type": "execute_result"
    }
   ],
   "source": [
    "df = pyupbit.get_ohlcv('KRW-BTC', interval='minute5', count=10)\n",
    "df"
   ]
  },
  {
   "cell_type": "code",
   "execution_count": 28,
   "id": "168afd0b",
   "metadata": {
    "ExecuteTime": {
     "end_time": "2022-05-04T02:09:35.148660Z",
     "start_time": "2022-05-04T02:09:35.087794Z"
    }
   },
   "outputs": [
    {
     "data": {
      "text/html": [
       "<div>\n",
       "<style scoped>\n",
       "    .dataframe tbody tr th:only-of-type {\n",
       "        vertical-align: middle;\n",
       "    }\n",
       "\n",
       "    .dataframe tbody tr th {\n",
       "        vertical-align: top;\n",
       "    }\n",
       "\n",
       "    .dataframe thead th {\n",
       "        text-align: right;\n",
       "    }\n",
       "</style>\n",
       "<table border=\"1\" class=\"dataframe\">\n",
       "  <thead>\n",
       "    <tr style=\"text-align: right;\">\n",
       "      <th></th>\n",
       "      <th>open</th>\n",
       "      <th>high</th>\n",
       "      <th>low</th>\n",
       "      <th>close</th>\n",
       "      <th>volume</th>\n",
       "      <th>value</th>\n",
       "    </tr>\n",
       "  </thead>\n",
       "  <tbody>\n",
       "    <tr>\n",
       "      <th>2022-05-04 02:00:00</th>\n",
       "      <td>49129000.0</td>\n",
       "      <td>49256000.0</td>\n",
       "      <td>49030000.0</td>\n",
       "      <td>49032000.0</td>\n",
       "      <td>35.539927</td>\n",
       "      <td>1.745829e+09</td>\n",
       "    </tr>\n",
       "    <tr>\n",
       "      <th>2022-05-04 03:00:00</th>\n",
       "      <td>49032000.0</td>\n",
       "      <td>49051000.0</td>\n",
       "      <td>48674000.0</td>\n",
       "      <td>48807000.0</td>\n",
       "      <td>242.674233</td>\n",
       "      <td>1.185205e+10</td>\n",
       "    </tr>\n",
       "    <tr>\n",
       "      <th>2022-05-04 04:00:00</th>\n",
       "      <td>48842000.0</td>\n",
       "      <td>48933000.0</td>\n",
       "      <td>48638000.0</td>\n",
       "      <td>48861000.0</td>\n",
       "      <td>74.827553</td>\n",
       "      <td>3.647856e+09</td>\n",
       "    </tr>\n",
       "    <tr>\n",
       "      <th>2022-05-04 05:00:00</th>\n",
       "      <td>48861000.0</td>\n",
       "      <td>49081000.0</td>\n",
       "      <td>48642000.0</td>\n",
       "      <td>49000000.0</td>\n",
       "      <td>108.714631</td>\n",
       "      <td>5.299411e+09</td>\n",
       "    </tr>\n",
       "    <tr>\n",
       "      <th>2022-05-04 06:00:00</th>\n",
       "      <td>48999000.0</td>\n",
       "      <td>49229000.0</td>\n",
       "      <td>48821000.0</td>\n",
       "      <td>48961000.0</td>\n",
       "      <td>100.332037</td>\n",
       "      <td>4.913253e+09</td>\n",
       "    </tr>\n",
       "    <tr>\n",
       "      <th>2022-05-04 07:00:00</th>\n",
       "      <td>48960000.0</td>\n",
       "      <td>49065000.0</td>\n",
       "      <td>48900000.0</td>\n",
       "      <td>48908000.0</td>\n",
       "      <td>75.733532</td>\n",
       "      <td>3.708499e+09</td>\n",
       "    </tr>\n",
       "    <tr>\n",
       "      <th>2022-05-04 08:00:00</th>\n",
       "      <td>48908000.0</td>\n",
       "      <td>48908000.0</td>\n",
       "      <td>48759000.0</td>\n",
       "      <td>48777000.0</td>\n",
       "      <td>126.864370</td>\n",
       "      <td>6.192003e+09</td>\n",
       "    </tr>\n",
       "    <tr>\n",
       "      <th>2022-05-04 09:00:00</th>\n",
       "      <td>48772000.0</td>\n",
       "      <td>48966000.0</td>\n",
       "      <td>48722000.0</td>\n",
       "      <td>48948000.0</td>\n",
       "      <td>151.824671</td>\n",
       "      <td>7.418711e+09</td>\n",
       "    </tr>\n",
       "    <tr>\n",
       "      <th>2022-05-04 10:00:00</th>\n",
       "      <td>48948000.0</td>\n",
       "      <td>48999000.0</td>\n",
       "      <td>48782000.0</td>\n",
       "      <td>48810000.0</td>\n",
       "      <td>118.994806</td>\n",
       "      <td>5.821656e+09</td>\n",
       "    </tr>\n",
       "    <tr>\n",
       "      <th>2022-05-04 11:00:00</th>\n",
       "      <td>48840000.0</td>\n",
       "      <td>48868000.0</td>\n",
       "      <td>48810000.0</td>\n",
       "      <td>48855000.0</td>\n",
       "      <td>11.878269</td>\n",
       "      <td>5.801898e+08</td>\n",
       "    </tr>\n",
       "  </tbody>\n",
       "</table>\n",
       "</div>"
      ],
      "text/plain": [
       "                           open        high         low       close  \\\n",
       "2022-05-04 02:00:00  49129000.0  49256000.0  49030000.0  49032000.0   \n",
       "2022-05-04 03:00:00  49032000.0  49051000.0  48674000.0  48807000.0   \n",
       "2022-05-04 04:00:00  48842000.0  48933000.0  48638000.0  48861000.0   \n",
       "2022-05-04 05:00:00  48861000.0  49081000.0  48642000.0  49000000.0   \n",
       "2022-05-04 06:00:00  48999000.0  49229000.0  48821000.0  48961000.0   \n",
       "2022-05-04 07:00:00  48960000.0  49065000.0  48900000.0  48908000.0   \n",
       "2022-05-04 08:00:00  48908000.0  48908000.0  48759000.0  48777000.0   \n",
       "2022-05-04 09:00:00  48772000.0  48966000.0  48722000.0  48948000.0   \n",
       "2022-05-04 10:00:00  48948000.0  48999000.0  48782000.0  48810000.0   \n",
       "2022-05-04 11:00:00  48840000.0  48868000.0  48810000.0  48855000.0   \n",
       "\n",
       "                         volume         value  \n",
       "2022-05-04 02:00:00   35.539927  1.745829e+09  \n",
       "2022-05-04 03:00:00  242.674233  1.185205e+10  \n",
       "2022-05-04 04:00:00   74.827553  3.647856e+09  \n",
       "2022-05-04 05:00:00  108.714631  5.299411e+09  \n",
       "2022-05-04 06:00:00  100.332037  4.913253e+09  \n",
       "2022-05-04 07:00:00   75.733532  3.708499e+09  \n",
       "2022-05-04 08:00:00  126.864370  6.192003e+09  \n",
       "2022-05-04 09:00:00  151.824671  7.418711e+09  \n",
       "2022-05-04 10:00:00  118.994806  5.821656e+09  \n",
       "2022-05-04 11:00:00   11.878269  5.801898e+08  "
      ]
     },
     "execution_count": 28,
     "metadata": {},
     "output_type": "execute_result"
    }
   ],
   "source": [
    "df = pyupbit.get_ohlcv('KRW-BTC', interval='minute60', count=10)\n",
    "df"
   ]
  },
  {
   "cell_type": "markdown",
   "id": "49304d4f",
   "metadata": {},
   "source": [
    "### 시간 단위 바꾸기"
   ]
  },
  {
   "cell_type": "code",
   "execution_count": 30,
   "id": "03274683",
   "metadata": {
    "ExecuteTime": {
     "end_time": "2022-05-04T02:09:48.615656Z",
     "start_time": "2022-05-04T02:09:48.591719Z"
    }
   },
   "outputs": [
    {
     "data": {
      "text/html": [
       "<div>\n",
       "<style scoped>\n",
       "    .dataframe tbody tr th:only-of-type {\n",
       "        vertical-align: middle;\n",
       "    }\n",
       "\n",
       "    .dataframe tbody tr th {\n",
       "        vertical-align: top;\n",
       "    }\n",
       "\n",
       "    .dataframe thead th {\n",
       "        text-align: right;\n",
       "    }\n",
       "</style>\n",
       "<table border=\"1\" class=\"dataframe\">\n",
       "  <thead>\n",
       "    <tr style=\"text-align: right;\">\n",
       "      <th></th>\n",
       "      <th>open</th>\n",
       "      <th>high</th>\n",
       "      <th>low</th>\n",
       "      <th>close</th>\n",
       "      <th>volume</th>\n",
       "      <th>value</th>\n",
       "    </tr>\n",
       "  </thead>\n",
       "  <tbody>\n",
       "    <tr>\n",
       "      <th>2022-05-04 02:00:00</th>\n",
       "      <td>49129000.0</td>\n",
       "      <td>49256000.0</td>\n",
       "      <td>49030000.0</td>\n",
       "      <td>49032000.0</td>\n",
       "      <td>35.539927</td>\n",
       "      <td>1.745829e+09</td>\n",
       "    </tr>\n",
       "    <tr>\n",
       "      <th>2022-05-04 02:02:00</th>\n",
       "      <td>NaN</td>\n",
       "      <td>NaN</td>\n",
       "      <td>NaN</td>\n",
       "      <td>NaN</td>\n",
       "      <td>NaN</td>\n",
       "      <td>NaN</td>\n",
       "    </tr>\n",
       "    <tr>\n",
       "      <th>2022-05-04 02:04:00</th>\n",
       "      <td>NaN</td>\n",
       "      <td>NaN</td>\n",
       "      <td>NaN</td>\n",
       "      <td>NaN</td>\n",
       "      <td>NaN</td>\n",
       "      <td>NaN</td>\n",
       "    </tr>\n",
       "    <tr>\n",
       "      <th>2022-05-04 02:06:00</th>\n",
       "      <td>NaN</td>\n",
       "      <td>NaN</td>\n",
       "      <td>NaN</td>\n",
       "      <td>NaN</td>\n",
       "      <td>NaN</td>\n",
       "      <td>NaN</td>\n",
       "    </tr>\n",
       "    <tr>\n",
       "      <th>2022-05-04 02:08:00</th>\n",
       "      <td>NaN</td>\n",
       "      <td>NaN</td>\n",
       "      <td>NaN</td>\n",
       "      <td>NaN</td>\n",
       "      <td>NaN</td>\n",
       "      <td>NaN</td>\n",
       "    </tr>\n",
       "    <tr>\n",
       "      <th>...</th>\n",
       "      <td>...</td>\n",
       "      <td>...</td>\n",
       "      <td>...</td>\n",
       "      <td>...</td>\n",
       "      <td>...</td>\n",
       "      <td>...</td>\n",
       "    </tr>\n",
       "    <tr>\n",
       "      <th>2022-05-04 10:52:00</th>\n",
       "      <td>NaN</td>\n",
       "      <td>NaN</td>\n",
       "      <td>NaN</td>\n",
       "      <td>NaN</td>\n",
       "      <td>NaN</td>\n",
       "      <td>NaN</td>\n",
       "    </tr>\n",
       "    <tr>\n",
       "      <th>2022-05-04 10:54:00</th>\n",
       "      <td>NaN</td>\n",
       "      <td>NaN</td>\n",
       "      <td>NaN</td>\n",
       "      <td>NaN</td>\n",
       "      <td>NaN</td>\n",
       "      <td>NaN</td>\n",
       "    </tr>\n",
       "    <tr>\n",
       "      <th>2022-05-04 10:56:00</th>\n",
       "      <td>NaN</td>\n",
       "      <td>NaN</td>\n",
       "      <td>NaN</td>\n",
       "      <td>NaN</td>\n",
       "      <td>NaN</td>\n",
       "      <td>NaN</td>\n",
       "    </tr>\n",
       "    <tr>\n",
       "      <th>2022-05-04 10:58:00</th>\n",
       "      <td>NaN</td>\n",
       "      <td>NaN</td>\n",
       "      <td>NaN</td>\n",
       "      <td>NaN</td>\n",
       "      <td>NaN</td>\n",
       "      <td>NaN</td>\n",
       "    </tr>\n",
       "    <tr>\n",
       "      <th>2022-05-04 11:00:00</th>\n",
       "      <td>48840000.0</td>\n",
       "      <td>48868000.0</td>\n",
       "      <td>48810000.0</td>\n",
       "      <td>48855000.0</td>\n",
       "      <td>11.878269</td>\n",
       "      <td>5.801898e+08</td>\n",
       "    </tr>\n",
       "  </tbody>\n",
       "</table>\n",
       "<p>271 rows × 6 columns</p>\n",
       "</div>"
      ],
      "text/plain": [
       "                           open        high         low       close  \\\n",
       "2022-05-04 02:00:00  49129000.0  49256000.0  49030000.0  49032000.0   \n",
       "2022-05-04 02:02:00         NaN         NaN         NaN         NaN   \n",
       "2022-05-04 02:04:00         NaN         NaN         NaN         NaN   \n",
       "2022-05-04 02:06:00         NaN         NaN         NaN         NaN   \n",
       "2022-05-04 02:08:00         NaN         NaN         NaN         NaN   \n",
       "...                         ...         ...         ...         ...   \n",
       "2022-05-04 10:52:00         NaN         NaN         NaN         NaN   \n",
       "2022-05-04 10:54:00         NaN         NaN         NaN         NaN   \n",
       "2022-05-04 10:56:00         NaN         NaN         NaN         NaN   \n",
       "2022-05-04 10:58:00         NaN         NaN         NaN         NaN   \n",
       "2022-05-04 11:00:00  48840000.0  48868000.0  48810000.0  48855000.0   \n",
       "\n",
       "                        volume         value  \n",
       "2022-05-04 02:00:00  35.539927  1.745829e+09  \n",
       "2022-05-04 02:02:00        NaN           NaN  \n",
       "2022-05-04 02:04:00        NaN           NaN  \n",
       "2022-05-04 02:06:00        NaN           NaN  \n",
       "2022-05-04 02:08:00        NaN           NaN  \n",
       "...                        ...           ...  \n",
       "2022-05-04 10:52:00        NaN           NaN  \n",
       "2022-05-04 10:54:00        NaN           NaN  \n",
       "2022-05-04 10:56:00        NaN           NaN  \n",
       "2022-05-04 10:58:00        NaN           NaN  \n",
       "2022-05-04 11:00:00  11.878269  5.801898e+08  \n",
       "\n",
       "[271 rows x 6 columns]"
      ]
     },
     "execution_count": 30,
     "metadata": {},
     "output_type": "execute_result"
    }
   ],
   "source": [
    "df.resample('2T').apply(np.mean)"
   ]
  },
  {
   "cell_type": "markdown",
   "id": "de3eab6a",
   "metadata": {},
   "source": [
    "## 받을 데이터 개수 조절하기"
   ]
  },
  {
   "cell_type": "code",
   "execution_count": 31,
   "id": "50a3cf70",
   "metadata": {
    "ExecuteTime": {
     "end_time": "2022-05-04T02:10:28.206768Z",
     "start_time": "2022-05-04T02:10:28.192806Z"
    }
   },
   "outputs": [],
   "source": [
    "## 기본값이 200개씩 데이터를 전송"
   ]
  },
  {
   "cell_type": "code",
   "execution_count": 32,
   "id": "170d539c",
   "metadata": {
    "ExecuteTime": {
     "end_time": "2022-05-04T02:10:55.292347Z",
     "start_time": "2022-05-04T02:10:55.199595Z"
    }
   },
   "outputs": [
    {
     "data": {
      "text/html": [
       "<div>\n",
       "<style scoped>\n",
       "    .dataframe tbody tr th:only-of-type {\n",
       "        vertical-align: middle;\n",
       "    }\n",
       "\n",
       "    .dataframe tbody tr th {\n",
       "        vertical-align: top;\n",
       "    }\n",
       "\n",
       "    .dataframe thead th {\n",
       "        text-align: right;\n",
       "    }\n",
       "</style>\n",
       "<table border=\"1\" class=\"dataframe\">\n",
       "  <thead>\n",
       "    <tr style=\"text-align: right;\">\n",
       "      <th></th>\n",
       "      <th>open</th>\n",
       "      <th>high</th>\n",
       "      <th>low</th>\n",
       "      <th>close</th>\n",
       "      <th>volume</th>\n",
       "      <th>value</th>\n",
       "    </tr>\n",
       "  </thead>\n",
       "  <tbody>\n",
       "    <tr>\n",
       "      <th>2021-10-17 09:00:00</th>\n",
       "      <td>74806000.0</td>\n",
       "      <td>76200000.0</td>\n",
       "      <td>74008000.0</td>\n",
       "      <td>75933000.0</td>\n",
       "      <td>5403.948537</td>\n",
       "      <td>4.049907e+11</td>\n",
       "    </tr>\n",
       "    <tr>\n",
       "      <th>2021-10-18 09:00:00</th>\n",
       "      <td>75933000.0</td>\n",
       "      <td>77276000.0</td>\n",
       "      <td>74193000.0</td>\n",
       "      <td>76546000.0</td>\n",
       "      <td>8312.737819</td>\n",
       "      <td>6.326885e+11</td>\n",
       "    </tr>\n",
       "    <tr>\n",
       "      <th>2021-10-19 09:00:00</th>\n",
       "      <td>76541000.0</td>\n",
       "      <td>79285000.0</td>\n",
       "      <td>75925000.0</td>\n",
       "      <td>78776000.0</td>\n",
       "      <td>9018.170951</td>\n",
       "      <td>6.964016e+11</td>\n",
       "    </tr>\n",
       "    <tr>\n",
       "      <th>2021-10-20 09:00:00</th>\n",
       "      <td>78776000.0</td>\n",
       "      <td>81750000.0</td>\n",
       "      <td>78001000.0</td>\n",
       "      <td>79917000.0</td>\n",
       "      <td>14472.097423</td>\n",
       "      <td>1.152411e+12</td>\n",
       "    </tr>\n",
       "    <tr>\n",
       "      <th>2021-10-21 09:00:00</th>\n",
       "      <td>79919000.0</td>\n",
       "      <td>80811000.0</td>\n",
       "      <td>76324000.0</td>\n",
       "      <td>76396000.0</td>\n",
       "      <td>15551.933346</td>\n",
       "      <td>1.225372e+12</td>\n",
       "    </tr>\n",
       "    <tr>\n",
       "      <th>...</th>\n",
       "      <td>...</td>\n",
       "      <td>...</td>\n",
       "      <td>...</td>\n",
       "      <td>...</td>\n",
       "      <td>...</td>\n",
       "      <td>...</td>\n",
       "    </tr>\n",
       "    <tr>\n",
       "      <th>2022-04-30 09:00:00</th>\n",
       "      <td>49731000.0</td>\n",
       "      <td>49953000.0</td>\n",
       "      <td>49243000.0</td>\n",
       "      <td>49283000.0</td>\n",
       "      <td>2078.698534</td>\n",
       "      <td>1.032479e+11</td>\n",
       "    </tr>\n",
       "    <tr>\n",
       "      <th>2022-05-01 09:00:00</th>\n",
       "      <td>49283000.0</td>\n",
       "      <td>49620000.0</td>\n",
       "      <td>48500000.0</td>\n",
       "      <td>49383000.0</td>\n",
       "      <td>2882.994540</td>\n",
       "      <td>1.416309e+11</td>\n",
       "    </tr>\n",
       "    <tr>\n",
       "      <th>2022-05-02 09:00:00</th>\n",
       "      <td>49383000.0</td>\n",
       "      <td>50210000.0</td>\n",
       "      <td>49110000.0</td>\n",
       "      <td>49520000.0</td>\n",
       "      <td>2614.563560</td>\n",
       "      <td>1.299316e+11</td>\n",
       "    </tr>\n",
       "    <tr>\n",
       "      <th>2022-05-03 09:00:00</th>\n",
       "      <td>49501000.0</td>\n",
       "      <td>49678000.0</td>\n",
       "      <td>48638000.0</td>\n",
       "      <td>48777000.0</td>\n",
       "      <td>2755.309315</td>\n",
       "      <td>1.356670e+11</td>\n",
       "    </tr>\n",
       "    <tr>\n",
       "      <th>2022-05-04 09:00:00</th>\n",
       "      <td>48772000.0</td>\n",
       "      <td>48999000.0</td>\n",
       "      <td>48722000.0</td>\n",
       "      <td>48853000.0</td>\n",
       "      <td>283.439461</td>\n",
       "      <td>1.385679e+10</td>\n",
       "    </tr>\n",
       "  </tbody>\n",
       "</table>\n",
       "<p>200 rows × 6 columns</p>\n",
       "</div>"
      ],
      "text/plain": [
       "                           open        high         low       close  \\\n",
       "2021-10-17 09:00:00  74806000.0  76200000.0  74008000.0  75933000.0   \n",
       "2021-10-18 09:00:00  75933000.0  77276000.0  74193000.0  76546000.0   \n",
       "2021-10-19 09:00:00  76541000.0  79285000.0  75925000.0  78776000.0   \n",
       "2021-10-20 09:00:00  78776000.0  81750000.0  78001000.0  79917000.0   \n",
       "2021-10-21 09:00:00  79919000.0  80811000.0  76324000.0  76396000.0   \n",
       "...                         ...         ...         ...         ...   \n",
       "2022-04-30 09:00:00  49731000.0  49953000.0  49243000.0  49283000.0   \n",
       "2022-05-01 09:00:00  49283000.0  49620000.0  48500000.0  49383000.0   \n",
       "2022-05-02 09:00:00  49383000.0  50210000.0  49110000.0  49520000.0   \n",
       "2022-05-03 09:00:00  49501000.0  49678000.0  48638000.0  48777000.0   \n",
       "2022-05-04 09:00:00  48772000.0  48999000.0  48722000.0  48853000.0   \n",
       "\n",
       "                           volume         value  \n",
       "2021-10-17 09:00:00   5403.948537  4.049907e+11  \n",
       "2021-10-18 09:00:00   8312.737819  6.326885e+11  \n",
       "2021-10-19 09:00:00   9018.170951  6.964016e+11  \n",
       "2021-10-20 09:00:00  14472.097423  1.152411e+12  \n",
       "2021-10-21 09:00:00  15551.933346  1.225372e+12  \n",
       "...                           ...           ...  \n",
       "2022-04-30 09:00:00   2078.698534  1.032479e+11  \n",
       "2022-05-01 09:00:00   2882.994540  1.416309e+11  \n",
       "2022-05-02 09:00:00   2614.563560  1.299316e+11  \n",
       "2022-05-03 09:00:00   2755.309315  1.356670e+11  \n",
       "2022-05-04 09:00:00    283.439461  1.385679e+10  \n",
       "\n",
       "[200 rows x 6 columns]"
      ]
     },
     "execution_count": 32,
     "metadata": {},
     "output_type": "execute_result"
    }
   ],
   "source": [
    "df = pyupbit.get_ohlcv('KRW-BTC')\n",
    "df"
   ]
  },
  {
   "cell_type": "code",
   "execution_count": 33,
   "id": "aae65e95",
   "metadata": {
    "ExecuteTime": {
     "end_time": "2022-05-04T02:12:08.340858Z",
     "start_time": "2022-05-04T02:12:08.255289Z"
    }
   },
   "outputs": [
    {
     "data": {
      "text/html": [
       "<div>\n",
       "<style scoped>\n",
       "    .dataframe tbody tr th:only-of-type {\n",
       "        vertical-align: middle;\n",
       "    }\n",
       "\n",
       "    .dataframe tbody tr th {\n",
       "        vertical-align: top;\n",
       "    }\n",
       "\n",
       "    .dataframe thead th {\n",
       "        text-align: right;\n",
       "    }\n",
       "</style>\n",
       "<table border=\"1\" class=\"dataframe\">\n",
       "  <thead>\n",
       "    <tr style=\"text-align: right;\">\n",
       "      <th></th>\n",
       "      <th>open</th>\n",
       "      <th>high</th>\n",
       "      <th>low</th>\n",
       "      <th>close</th>\n",
       "      <th>volume</th>\n",
       "      <th>value</th>\n",
       "    </tr>\n",
       "  </thead>\n",
       "  <tbody>\n",
       "    <tr>\n",
       "      <th>2020-03-22 09:00:00</th>\n",
       "      <td>7740000.0</td>\n",
       "      <td>7970000.0</td>\n",
       "      <td>7335000.0</td>\n",
       "      <td>7366000.0</td>\n",
       "      <td>8795.775039</td>\n",
       "      <td>6.752927e+10</td>\n",
       "    </tr>\n",
       "    <tr>\n",
       "      <th>2020-03-23 09:00:00</th>\n",
       "      <td>7379000.0</td>\n",
       "      <td>8189000.0</td>\n",
       "      <td>7219000.0</td>\n",
       "      <td>8047000.0</td>\n",
       "      <td>16867.529534</td>\n",
       "      <td>1.305781e+11</td>\n",
       "    </tr>\n",
       "    <tr>\n",
       "      <th>2020-03-24 09:00:00</th>\n",
       "      <td>8047000.0</td>\n",
       "      <td>8412000.0</td>\n",
       "      <td>7892000.0</td>\n",
       "      <td>8367000.0</td>\n",
       "      <td>15158.039589</td>\n",
       "      <td>1.244216e+11</td>\n",
       "    </tr>\n",
       "    <tr>\n",
       "      <th>2020-03-25 09:00:00</th>\n",
       "      <td>8362000.0</td>\n",
       "      <td>8538000.0</td>\n",
       "      <td>8080000.0</td>\n",
       "      <td>8271000.0</td>\n",
       "      <td>12629.118008</td>\n",
       "      <td>1.043876e+11</td>\n",
       "    </tr>\n",
       "    <tr>\n",
       "      <th>2020-03-26 09:00:00</th>\n",
       "      <td>8276000.0</td>\n",
       "      <td>8344000.0</td>\n",
       "      <td>8091000.0</td>\n",
       "      <td>8272000.0</td>\n",
       "      <td>6160.813270</td>\n",
       "      <td>5.057246e+10</td>\n",
       "    </tr>\n",
       "    <tr>\n",
       "      <th>...</th>\n",
       "      <td>...</td>\n",
       "      <td>...</td>\n",
       "      <td>...</td>\n",
       "      <td>...</td>\n",
       "      <td>...</td>\n",
       "      <td>...</td>\n",
       "    </tr>\n",
       "    <tr>\n",
       "      <th>2020-10-03 09:00:00</th>\n",
       "      <td>12423000.0</td>\n",
       "      <td>12434000.0</td>\n",
       "      <td>12326000.0</td>\n",
       "      <td>12393000.0</td>\n",
       "      <td>802.758950</td>\n",
       "      <td>9.938724e+09</td>\n",
       "    </tr>\n",
       "    <tr>\n",
       "      <th>2020-10-04 09:00:00</th>\n",
       "      <td>12393000.0</td>\n",
       "      <td>12496000.0</td>\n",
       "      <td>12348000.0</td>\n",
       "      <td>12447000.0</td>\n",
       "      <td>869.827279</td>\n",
       "      <td>1.079626e+10</td>\n",
       "    </tr>\n",
       "    <tr>\n",
       "      <th>2020-10-05 09:00:00</th>\n",
       "      <td>12446000.0</td>\n",
       "      <td>12545000.0</td>\n",
       "      <td>12385000.0</td>\n",
       "      <td>12536000.0</td>\n",
       "      <td>1578.027830</td>\n",
       "      <td>1.965762e+10</td>\n",
       "    </tr>\n",
       "    <tr>\n",
       "      <th>2020-10-06 09:00:00</th>\n",
       "      <td>12536000.0</td>\n",
       "      <td>12600000.0</td>\n",
       "      <td>12330000.0</td>\n",
       "      <td>12418000.0</td>\n",
       "      <td>1745.875329</td>\n",
       "      <td>2.175526e+10</td>\n",
       "    </tr>\n",
       "    <tr>\n",
       "      <th>2020-10-07 09:00:00</th>\n",
       "      <td>12408000.0</td>\n",
       "      <td>12435000.0</td>\n",
       "      <td>12337000.0</td>\n",
       "      <td>12423000.0</td>\n",
       "      <td>1357.358223</td>\n",
       "      <td>1.679513e+10</td>\n",
       "    </tr>\n",
       "  </tbody>\n",
       "</table>\n",
       "<p>200 rows × 6 columns</p>\n",
       "</div>"
      ],
      "text/plain": [
       "                           open        high         low       close  \\\n",
       "2020-03-22 09:00:00   7740000.0   7970000.0   7335000.0   7366000.0   \n",
       "2020-03-23 09:00:00   7379000.0   8189000.0   7219000.0   8047000.0   \n",
       "2020-03-24 09:00:00   8047000.0   8412000.0   7892000.0   8367000.0   \n",
       "2020-03-25 09:00:00   8362000.0   8538000.0   8080000.0   8271000.0   \n",
       "2020-03-26 09:00:00   8276000.0   8344000.0   8091000.0   8272000.0   \n",
       "...                         ...         ...         ...         ...   \n",
       "2020-10-03 09:00:00  12423000.0  12434000.0  12326000.0  12393000.0   \n",
       "2020-10-04 09:00:00  12393000.0  12496000.0  12348000.0  12447000.0   \n",
       "2020-10-05 09:00:00  12446000.0  12545000.0  12385000.0  12536000.0   \n",
       "2020-10-06 09:00:00  12536000.0  12600000.0  12330000.0  12418000.0   \n",
       "2020-10-07 09:00:00  12408000.0  12435000.0  12337000.0  12423000.0   \n",
       "\n",
       "                           volume         value  \n",
       "2020-03-22 09:00:00   8795.775039  6.752927e+10  \n",
       "2020-03-23 09:00:00  16867.529534  1.305781e+11  \n",
       "2020-03-24 09:00:00  15158.039589  1.244216e+11  \n",
       "2020-03-25 09:00:00  12629.118008  1.043876e+11  \n",
       "2020-03-26 09:00:00   6160.813270  5.057246e+10  \n",
       "...                           ...           ...  \n",
       "2020-10-03 09:00:00    802.758950  9.938724e+09  \n",
       "2020-10-04 09:00:00    869.827279  1.079626e+10  \n",
       "2020-10-05 09:00:00   1578.027830  1.965762e+10  \n",
       "2020-10-06 09:00:00   1745.875329  2.175526e+10  \n",
       "2020-10-07 09:00:00   1357.358223  1.679513e+10  \n",
       "\n",
       "[200 rows x 6 columns]"
      ]
     },
     "execution_count": 33,
     "metadata": {},
     "output_type": "execute_result"
    }
   ],
   "source": [
    "df = pyupbit.get_ohlcv('KRW-BTC', to='20201008')\n",
    "df"
   ]
  },
  {
   "cell_type": "code",
   "execution_count": 34,
   "id": "59bbb420",
   "metadata": {
    "ExecuteTime": {
     "end_time": "2022-05-04T02:14:22.169001Z",
     "start_time": "2022-05-04T02:14:22.063283Z"
    }
   },
   "outputs": [
    {
     "data": {
      "text/html": [
       "<div>\n",
       "<style scoped>\n",
       "    .dataframe tbody tr th:only-of-type {\n",
       "        vertical-align: middle;\n",
       "    }\n",
       "\n",
       "    .dataframe tbody tr th {\n",
       "        vertical-align: top;\n",
       "    }\n",
       "\n",
       "    .dataframe thead th {\n",
       "        text-align: right;\n",
       "    }\n",
       "</style>\n",
       "<table border=\"1\" class=\"dataframe\">\n",
       "  <thead>\n",
       "    <tr style=\"text-align: right;\">\n",
       "      <th></th>\n",
       "      <th>open</th>\n",
       "      <th>high</th>\n",
       "      <th>low</th>\n",
       "      <th>close</th>\n",
       "      <th>volume</th>\n",
       "      <th>value</th>\n",
       "    </tr>\n",
       "  </thead>\n",
       "  <tbody>\n",
       "    <tr>\n",
       "      <th>2020-03-23 09:00:00</th>\n",
       "      <td>7379000.0</td>\n",
       "      <td>8189000.0</td>\n",
       "      <td>7219000.0</td>\n",
       "      <td>8047000.0</td>\n",
       "      <td>16867.529534</td>\n",
       "      <td>1.305781e+11</td>\n",
       "    </tr>\n",
       "    <tr>\n",
       "      <th>2020-03-24 09:00:00</th>\n",
       "      <td>8047000.0</td>\n",
       "      <td>8412000.0</td>\n",
       "      <td>7892000.0</td>\n",
       "      <td>8367000.0</td>\n",
       "      <td>15158.039589</td>\n",
       "      <td>1.244216e+11</td>\n",
       "    </tr>\n",
       "    <tr>\n",
       "      <th>2020-03-25 09:00:00</th>\n",
       "      <td>8362000.0</td>\n",
       "      <td>8538000.0</td>\n",
       "      <td>8080000.0</td>\n",
       "      <td>8271000.0</td>\n",
       "      <td>12629.118008</td>\n",
       "      <td>1.043876e+11</td>\n",
       "    </tr>\n",
       "    <tr>\n",
       "      <th>2020-03-26 09:00:00</th>\n",
       "      <td>8276000.0</td>\n",
       "      <td>8344000.0</td>\n",
       "      <td>8091000.0</td>\n",
       "      <td>8272000.0</td>\n",
       "      <td>6160.813270</td>\n",
       "      <td>5.057246e+10</td>\n",
       "    </tr>\n",
       "    <tr>\n",
       "      <th>2020-03-27 09:00:00</th>\n",
       "      <td>8281000.0</td>\n",
       "      <td>8365000.0</td>\n",
       "      <td>7820000.0</td>\n",
       "      <td>7880000.0</td>\n",
       "      <td>6749.553055</td>\n",
       "      <td>5.514416e+10</td>\n",
       "    </tr>\n",
       "    <tr>\n",
       "      <th>...</th>\n",
       "      <td>...</td>\n",
       "      <td>...</td>\n",
       "      <td>...</td>\n",
       "      <td>...</td>\n",
       "      <td>...</td>\n",
       "      <td>...</td>\n",
       "    </tr>\n",
       "    <tr>\n",
       "      <th>2020-10-04 09:00:00</th>\n",
       "      <td>12393000.0</td>\n",
       "      <td>12496000.0</td>\n",
       "      <td>12348000.0</td>\n",
       "      <td>12447000.0</td>\n",
       "      <td>869.827279</td>\n",
       "      <td>1.079626e+10</td>\n",
       "    </tr>\n",
       "    <tr>\n",
       "      <th>2020-10-05 09:00:00</th>\n",
       "      <td>12446000.0</td>\n",
       "      <td>12545000.0</td>\n",
       "      <td>12385000.0</td>\n",
       "      <td>12536000.0</td>\n",
       "      <td>1578.027830</td>\n",
       "      <td>1.965762e+10</td>\n",
       "    </tr>\n",
       "    <tr>\n",
       "      <th>2020-10-06 09:00:00</th>\n",
       "      <td>12536000.0</td>\n",
       "      <td>12600000.0</td>\n",
       "      <td>12330000.0</td>\n",
       "      <td>12418000.0</td>\n",
       "      <td>1745.875329</td>\n",
       "      <td>2.175526e+10</td>\n",
       "    </tr>\n",
       "    <tr>\n",
       "      <th>2020-10-07 09:00:00</th>\n",
       "      <td>12408000.0</td>\n",
       "      <td>12435000.0</td>\n",
       "      <td>12337000.0</td>\n",
       "      <td>12423000.0</td>\n",
       "      <td>1357.358223</td>\n",
       "      <td>1.679513e+10</td>\n",
       "    </tr>\n",
       "    <tr>\n",
       "      <th>2020-10-08 09:00:00</th>\n",
       "      <td>12422000.0</td>\n",
       "      <td>12680000.0</td>\n",
       "      <td>12280000.0</td>\n",
       "      <td>12582000.0</td>\n",
       "      <td>2422.119262</td>\n",
       "      <td>3.014610e+10</td>\n",
       "    </tr>\n",
       "  </tbody>\n",
       "</table>\n",
       "<p>200 rows × 6 columns</p>\n",
       "</div>"
      ],
      "text/plain": [
       "                           open        high         low       close  \\\n",
       "2020-03-23 09:00:00   7379000.0   8189000.0   7219000.0   8047000.0   \n",
       "2020-03-24 09:00:00   8047000.0   8412000.0   7892000.0   8367000.0   \n",
       "2020-03-25 09:00:00   8362000.0   8538000.0   8080000.0   8271000.0   \n",
       "2020-03-26 09:00:00   8276000.0   8344000.0   8091000.0   8272000.0   \n",
       "2020-03-27 09:00:00   8281000.0   8365000.0   7820000.0   7880000.0   \n",
       "...                         ...         ...         ...         ...   \n",
       "2020-10-04 09:00:00  12393000.0  12496000.0  12348000.0  12447000.0   \n",
       "2020-10-05 09:00:00  12446000.0  12545000.0  12385000.0  12536000.0   \n",
       "2020-10-06 09:00:00  12536000.0  12600000.0  12330000.0  12418000.0   \n",
       "2020-10-07 09:00:00  12408000.0  12435000.0  12337000.0  12423000.0   \n",
       "2020-10-08 09:00:00  12422000.0  12680000.0  12280000.0  12582000.0   \n",
       "\n",
       "                           volume         value  \n",
       "2020-03-23 09:00:00  16867.529534  1.305781e+11  \n",
       "2020-03-24 09:00:00  15158.039589  1.244216e+11  \n",
       "2020-03-25 09:00:00  12629.118008  1.043876e+11  \n",
       "2020-03-26 09:00:00   6160.813270  5.057246e+10  \n",
       "2020-03-27 09:00:00   6749.553055  5.514416e+10  \n",
       "...                           ...           ...  \n",
       "2020-10-04 09:00:00    869.827279  1.079626e+10  \n",
       "2020-10-05 09:00:00   1578.027830  1.965762e+10  \n",
       "2020-10-06 09:00:00   1745.875329  2.175526e+10  \n",
       "2020-10-07 09:00:00   1357.358223  1.679513e+10  \n",
       "2020-10-08 09:00:00   2422.119262  3.014610e+10  \n",
       "\n",
       "[200 rows x 6 columns]"
      ]
     },
     "execution_count": 34,
     "metadata": {},
     "output_type": "execute_result"
    }
   ],
   "source": [
    "last = '20201008'\n",
    "last = pd.to_datetime(last)\n",
    "last = last + pd.Timedelta(days=1)\n",
    "\n",
    "df = pyupbit.get_ohlcv('KRW-BTC',to = last)\n",
    "df"
   ]
  },
  {
   "cell_type": "code",
   "execution_count": null,
   "id": "ce557337",
   "metadata": {},
   "outputs": [],
   "source": []
  },
  {
   "cell_type": "code",
   "execution_count": null,
   "id": "c35b02cb",
   "metadata": {},
   "outputs": [],
   "source": [
    "start = '20190101'\n",
    "last = '20210101'\n",
    "last = pd.to_datetime(last) + pd.Timedelta(days=1)\n",
    "\n",
    "# 200개 받아오고 마지막\n",
    "# while True:\n",
    "#     df = pyupbit.get_ohlcv('KRW-BTC', to = last)\n",
    "#     last = df.index[0]\n",
    "    \n",
    "#     print(df.head(1))\n",
    "    \n",
    "#     if start in df.index:\n",
    "#         break\n",
    "        "
   ]
  },
  {
   "cell_type": "code",
   "execution_count": null,
   "id": "94a500b6",
   "metadata": {},
   "outputs": [],
   "source": []
  },
  {
   "cell_type": "code",
   "execution_count": 35,
   "id": "dfd2a698",
   "metadata": {
    "ExecuteTime": {
     "end_time": "2022-05-04T02:44:22.854987Z",
     "start_time": "2022-05-04T02:44:22.848006Z"
    }
   },
   "outputs": [],
   "source": [
    "def ohlcv(ticker, start, last):\n",
    "    last = pd.to_datetime(last)\n",
    "    last = last + pd.Timedelta(days=1)\n",
    "    \n",
    "    dfs= []\n",
    "    \n",
    "    while True:\n",
    "        df = pyupbit.get_ohlcv(ticker, to=last)\n",
    "        last = df.index[0]\n",
    "        \n",
    "        dfs.append(df)\n",
    "        \n",
    "        if start in df.index:\n",
    "            break\n",
    "            \n",
    "        time.sleep(0.2)\n",
    "    \n",
    "    result = pd.concat(dfs).sort_index()\n",
    "    \n",
    "    return result.loc[start:]"
   ]
  },
  {
   "cell_type": "code",
   "execution_count": 36,
   "id": "9c9473fb",
   "metadata": {
    "ExecuteTime": {
     "end_time": "2022-05-04T02:47:37.189946Z",
     "start_time": "2022-05-04T02:47:36.143710Z"
    }
   },
   "outputs": [
    {
     "data": {
      "text/html": [
       "<div>\n",
       "<style scoped>\n",
       "    .dataframe tbody tr th:only-of-type {\n",
       "        vertical-align: middle;\n",
       "    }\n",
       "\n",
       "    .dataframe tbody tr th {\n",
       "        vertical-align: top;\n",
       "    }\n",
       "\n",
       "    .dataframe thead th {\n",
       "        text-align: right;\n",
       "    }\n",
       "</style>\n",
       "<table border=\"1\" class=\"dataframe\">\n",
       "  <thead>\n",
       "    <tr style=\"text-align: right;\">\n",
       "      <th></th>\n",
       "      <th>open</th>\n",
       "      <th>high</th>\n",
       "      <th>low</th>\n",
       "      <th>close</th>\n",
       "      <th>volume</th>\n",
       "      <th>value</th>\n",
       "    </tr>\n",
       "  </thead>\n",
       "  <tbody>\n",
       "    <tr>\n",
       "      <th>2020-01-01 09:00:00</th>\n",
       "      <td>0.005400</td>\n",
       "      <td>0.005400</td>\n",
       "      <td>0.005400</td>\n",
       "      <td>0.005400</td>\n",
       "      <td>0.477830</td>\n",
       "      <td>0.002580</td>\n",
       "    </tr>\n",
       "    <tr>\n",
       "      <th>2020-01-03 09:00:00</th>\n",
       "      <td>0.005400</td>\n",
       "      <td>0.005401</td>\n",
       "      <td>0.005400</td>\n",
       "      <td>0.005401</td>\n",
       "      <td>25.404035</td>\n",
       "      <td>0.137188</td>\n",
       "    </tr>\n",
       "    <tr>\n",
       "      <th>2020-01-05 09:00:00</th>\n",
       "      <td>0.005401</td>\n",
       "      <td>0.006000</td>\n",
       "      <td>0.005401</td>\n",
       "      <td>0.006000</td>\n",
       "      <td>32.330073</td>\n",
       "      <td>0.192652</td>\n",
       "    </tr>\n",
       "    <tr>\n",
       "      <th>2020-01-06 09:00:00</th>\n",
       "      <td>0.006000</td>\n",
       "      <td>0.006000</td>\n",
       "      <td>0.006000</td>\n",
       "      <td>0.006000</td>\n",
       "      <td>14.091164</td>\n",
       "      <td>0.084545</td>\n",
       "    </tr>\n",
       "    <tr>\n",
       "      <th>2020-01-07 09:00:00</th>\n",
       "      <td>0.006000</td>\n",
       "      <td>0.006000</td>\n",
       "      <td>0.006000</td>\n",
       "      <td>0.006000</td>\n",
       "      <td>2.125082</td>\n",
       "      <td>0.012750</td>\n",
       "    </tr>\n",
       "    <tr>\n",
       "      <th>...</th>\n",
       "      <td>...</td>\n",
       "      <td>...</td>\n",
       "      <td>...</td>\n",
       "      <td>...</td>\n",
       "      <td>...</td>\n",
       "      <td>...</td>\n",
       "    </tr>\n",
       "    <tr>\n",
       "      <th>2021-09-27 09:00:00</th>\n",
       "      <td>0.003476</td>\n",
       "      <td>0.003534</td>\n",
       "      <td>0.003422</td>\n",
       "      <td>0.003422</td>\n",
       "      <td>77.210812</td>\n",
       "      <td>0.268239</td>\n",
       "    </tr>\n",
       "    <tr>\n",
       "      <th>2021-09-28 09:00:00</th>\n",
       "      <td>0.003417</td>\n",
       "      <td>0.003505</td>\n",
       "      <td>0.003412</td>\n",
       "      <td>0.003429</td>\n",
       "      <td>224.073112</td>\n",
       "      <td>0.771242</td>\n",
       "    </tr>\n",
       "    <tr>\n",
       "      <th>2021-09-29 09:00:00</th>\n",
       "      <td>0.003445</td>\n",
       "      <td>0.003547</td>\n",
       "      <td>0.003412</td>\n",
       "      <td>0.003472</td>\n",
       "      <td>101.271949</td>\n",
       "      <td>0.351531</td>\n",
       "    </tr>\n",
       "    <tr>\n",
       "      <th>2021-09-30 09:00:00</th>\n",
       "      <td>0.003472</td>\n",
       "      <td>0.003560</td>\n",
       "      <td>0.003460</td>\n",
       "      <td>0.003479</td>\n",
       "      <td>81.567286</td>\n",
       "      <td>0.284006</td>\n",
       "    </tr>\n",
       "    <tr>\n",
       "      <th>2021-10-01 09:00:00</th>\n",
       "      <td>0.003497</td>\n",
       "      <td>0.003562</td>\n",
       "      <td>0.003400</td>\n",
       "      <td>0.003433</td>\n",
       "      <td>148.220338</td>\n",
       "      <td>0.517757</td>\n",
       "    </tr>\n",
       "  </tbody>\n",
       "</table>\n",
       "<p>612 rows × 6 columns</p>\n",
       "</div>"
      ],
      "text/plain": [
       "                         open      high       low     close      volume  \\\n",
       "2020-01-01 09:00:00  0.005400  0.005400  0.005400  0.005400    0.477830   \n",
       "2020-01-03 09:00:00  0.005400  0.005401  0.005400  0.005401   25.404035   \n",
       "2020-01-05 09:00:00  0.005401  0.006000  0.005401  0.006000   32.330073   \n",
       "2020-01-06 09:00:00  0.006000  0.006000  0.006000  0.006000   14.091164   \n",
       "2020-01-07 09:00:00  0.006000  0.006000  0.006000  0.006000    2.125082   \n",
       "...                       ...       ...       ...       ...         ...   \n",
       "2021-09-27 09:00:00  0.003476  0.003534  0.003422  0.003422   77.210812   \n",
       "2021-09-28 09:00:00  0.003417  0.003505  0.003412  0.003429  224.073112   \n",
       "2021-09-29 09:00:00  0.003445  0.003547  0.003412  0.003472  101.271949   \n",
       "2021-09-30 09:00:00  0.003472  0.003560  0.003460  0.003479   81.567286   \n",
       "2021-10-01 09:00:00  0.003497  0.003562  0.003400  0.003433  148.220338   \n",
       "\n",
       "                        value  \n",
       "2020-01-01 09:00:00  0.002580  \n",
       "2020-01-03 09:00:00  0.137188  \n",
       "2020-01-05 09:00:00  0.192652  \n",
       "2020-01-06 09:00:00  0.084545  \n",
       "2020-01-07 09:00:00  0.012750  \n",
       "...                       ...  \n",
       "2021-09-27 09:00:00  0.268239  \n",
       "2021-09-28 09:00:00  0.771242  \n",
       "2021-09-29 09:00:00  0.351531  \n",
       "2021-09-30 09:00:00  0.284006  \n",
       "2021-10-01 09:00:00  0.517757  \n",
       "\n",
       "[612 rows x 6 columns]"
      ]
     },
     "execution_count": 36,
     "metadata": {},
     "output_type": "execute_result"
    }
   ],
   "source": [
    "start = '20200101'\n",
    "end = '20211001'\n",
    "\n",
    "ohlcv('BTC-LTC',start ,end)"
   ]
  },
  {
   "cell_type": "code",
   "execution_count": null,
   "id": "7186726f",
   "metadata": {},
   "outputs": [],
   "source": []
  },
  {
   "cell_type": "markdown",
   "id": "12649e31",
   "metadata": {
    "ExecuteTime": {
     "end_time": "2022-05-04T02:49:24.597919Z",
     "start_time": "2022-05-04T02:49:24.591935Z"
    }
   },
   "source": [
    "## 호가정보"
   ]
  },
  {
   "cell_type": "code",
   "execution_count": 38,
   "id": "6f03e217",
   "metadata": {
    "ExecuteTime": {
     "end_time": "2022-05-04T02:50:13.771467Z",
     "start_time": "2022-05-04T02:50:13.711600Z"
    },
    "scrolled": true
   },
   "outputs": [
    {
     "data": {
      "text/plain": [
       "{'market': 'KRW-BTC',\n",
       " 'timestamp': 1651632607905,\n",
       " 'total_ask_size': 11.096160219999998,\n",
       " 'total_bid_size': 1.1655050200000001,\n",
       " 'orderbook_units': [{'ask_price': 48851000.0,\n",
       "   'bid_price': 48850000.0,\n",
       "   'ask_size': 6.48249701,\n",
       "   'bid_size': 0.16365218},\n",
       "  {'ask_price': 48875000.0,\n",
       "   'bid_price': 48849000.0,\n",
       "   'ask_size': 0.08361149,\n",
       "   'bid_size': 0.05507227},\n",
       "  {'ask_price': 48889000.0,\n",
       "   'bid_price': 48848000.0,\n",
       "   'ask_size': 0.17750568,\n",
       "   'bid_size': 0.13215832},\n",
       "  {'ask_price': 48890000.0,\n",
       "   'bid_price': 48847000.0,\n",
       "   'ask_size': 0.68242117,\n",
       "   'bid_size': 0.01044077},\n",
       "  {'ask_price': 48891000.0,\n",
       "   'bid_price': 48846000.0,\n",
       "   'ask_size': 0.3404,\n",
       "   'bid_size': 0.01095857},\n",
       "  {'ask_price': 48895000.0,\n",
       "   'bid_price': 48845000.0,\n",
       "   'ask_size': 0.19814299,\n",
       "   'bid_size': 0.0057882},\n",
       "  {'ask_price': 48899000.0,\n",
       "   'bid_price': 48844000.0,\n",
       "   'ask_size': 0.14866807,\n",
       "   'bid_size': 0.00102354},\n",
       "  {'ask_price': 48900000.0,\n",
       "   'bid_price': 48843000.0,\n",
       "   'ask_size': 0.96020514,\n",
       "   'bid_size': 0.00122329},\n",
       "  {'ask_price': 48902000.0,\n",
       "   'bid_price': 48842000.0,\n",
       "   'ask_size': 0.3761,\n",
       "   'bid_size': 0.0150137},\n",
       "  {'ask_price': 48910000.0,\n",
       "   'bid_price': 48841000.0,\n",
       "   'ask_size': 0.03014792,\n",
       "   'bid_size': 0.00225216},\n",
       "  {'ask_price': 48914000.0,\n",
       "   'bid_price': 48840000.0,\n",
       "   'ask_size': 0.3378,\n",
       "   'bid_size': 0.04871011},\n",
       "  {'ask_price': 48922000.0,\n",
       "   'bid_price': 48839000.0,\n",
       "   'ask_size': 0.00022712,\n",
       "   'bid_size': 0.01185743},\n",
       "  {'ask_price': 48923000.0,\n",
       "   'bid_price': 48838000.0,\n",
       "   'ask_size': 0.04899076,\n",
       "   'bid_size': 0.20834343},\n",
       "  {'ask_price': 48925000.0,\n",
       "   'bid_price': 48837000.0,\n",
       "   'ask_size': 0.6,\n",
       "   'bid_size': 0.49351128},\n",
       "  {'ask_price': 48926000.0,\n",
       "   'bid_price': 48835000.0,\n",
       "   'ask_size': 0.62944287,\n",
       "   'bid_size': 0.00549977}]}"
      ]
     },
     "execution_count": 38,
     "metadata": {},
     "output_type": "execute_result"
    }
   ],
   "source": [
    "r = pyupbit.get_orderbook('KRW-BTC')\n",
    "r"
   ]
  },
  {
   "cell_type": "code",
   "execution_count": 39,
   "id": "a0d021fa",
   "metadata": {
    "ExecuteTime": {
     "end_time": "2022-05-04T02:53:15.250201Z",
     "start_time": "2022-05-04T02:53:15.231252Z"
    }
   },
   "outputs": [
    {
     "data": {
      "text/plain": [
       "dict_keys(['market', 'timestamp', 'total_ask_size', 'total_bid_size', 'orderbook_units'])"
      ]
     },
     "execution_count": 39,
     "metadata": {},
     "output_type": "execute_result"
    }
   ],
   "source": [
    "r.keys()"
   ]
  },
  {
   "cell_type": "code",
   "execution_count": 40,
   "id": "47503df1",
   "metadata": {
    "ExecuteTime": {
     "end_time": "2022-05-04T02:53:44.260738Z",
     "start_time": "2022-05-04T02:53:44.255751Z"
    }
   },
   "outputs": [
    {
     "data": {
      "text/plain": [
       "'KRW-BTC'"
      ]
     },
     "execution_count": 40,
     "metadata": {},
     "output_type": "execute_result"
    }
   ],
   "source": [
    "r['market']"
   ]
  },
  {
   "cell_type": "code",
   "execution_count": null,
   "id": "05180b58",
   "metadata": {},
   "outputs": [],
   "source": []
  },
  {
   "cell_type": "markdown",
   "id": "145150ba",
   "metadata": {
    "ExecuteTime": {
     "end_time": "2022-05-04T02:53:54.263991Z",
     "start_time": "2022-05-04T02:53:54.257010Z"
    }
   },
   "source": [
    "## 타임스탬프"
   ]
  },
  {
   "cell_type": "code",
   "execution_count": 43,
   "id": "e0443388",
   "metadata": {
    "ExecuteTime": {
     "end_time": "2022-05-04T02:54:33.570922Z",
     "start_time": "2022-05-04T02:54:33.567929Z"
    }
   },
   "outputs": [
    {
     "data": {
      "text/plain": [
       "1651632607905"
      ]
     },
     "execution_count": 43,
     "metadata": {},
     "output_type": "execute_result"
    }
   ],
   "source": [
    "r['timestamp'] # 19700101부터 현재 시점까지의 mili seconds"
   ]
  },
  {
   "cell_type": "code",
   "execution_count": 44,
   "id": "d973937f",
   "metadata": {
    "ExecuteTime": {
     "end_time": "2022-05-04T02:55:44.771517Z",
     "start_time": "2022-05-04T02:55:44.767528Z"
    }
   },
   "outputs": [
    {
     "data": {
      "text/plain": [
       "52.37292643027016"
      ]
     },
     "execution_count": 44,
     "metadata": {},
     "output_type": "execute_result"
    }
   ],
   "source": [
    "r['timestamp'] / 1000/60/60/24/365"
   ]
  },
  {
   "cell_type": "code",
   "execution_count": 45,
   "id": "6c8c578d",
   "metadata": {
    "ExecuteTime": {
     "end_time": "2022-05-04T02:58:06.138775Z",
     "start_time": "2022-05-04T02:58:06.128802Z"
    },
    "scrolled": true
   },
   "outputs": [
    {
     "data": {
      "text/plain": [
       "[{'ask_price': 48851000.0,\n",
       "  'bid_price': 48850000.0,\n",
       "  'ask_size': 6.48249701,\n",
       "  'bid_size': 0.16365218},\n",
       " {'ask_price': 48875000.0,\n",
       "  'bid_price': 48849000.0,\n",
       "  'ask_size': 0.08361149,\n",
       "  'bid_size': 0.05507227},\n",
       " {'ask_price': 48889000.0,\n",
       "  'bid_price': 48848000.0,\n",
       "  'ask_size': 0.17750568,\n",
       "  'bid_size': 0.13215832},\n",
       " {'ask_price': 48890000.0,\n",
       "  'bid_price': 48847000.0,\n",
       "  'ask_size': 0.68242117,\n",
       "  'bid_size': 0.01044077},\n",
       " {'ask_price': 48891000.0,\n",
       "  'bid_price': 48846000.0,\n",
       "  'ask_size': 0.3404,\n",
       "  'bid_size': 0.01095857},\n",
       " {'ask_price': 48895000.0,\n",
       "  'bid_price': 48845000.0,\n",
       "  'ask_size': 0.19814299,\n",
       "  'bid_size': 0.0057882},\n",
       " {'ask_price': 48899000.0,\n",
       "  'bid_price': 48844000.0,\n",
       "  'ask_size': 0.14866807,\n",
       "  'bid_size': 0.00102354},\n",
       " {'ask_price': 48900000.0,\n",
       "  'bid_price': 48843000.0,\n",
       "  'ask_size': 0.96020514,\n",
       "  'bid_size': 0.00122329},\n",
       " {'ask_price': 48902000.0,\n",
       "  'bid_price': 48842000.0,\n",
       "  'ask_size': 0.3761,\n",
       "  'bid_size': 0.0150137},\n",
       " {'ask_price': 48910000.0,\n",
       "  'bid_price': 48841000.0,\n",
       "  'ask_size': 0.03014792,\n",
       "  'bid_size': 0.00225216},\n",
       " {'ask_price': 48914000.0,\n",
       "  'bid_price': 48840000.0,\n",
       "  'ask_size': 0.3378,\n",
       "  'bid_size': 0.04871011},\n",
       " {'ask_price': 48922000.0,\n",
       "  'bid_price': 48839000.0,\n",
       "  'ask_size': 0.00022712,\n",
       "  'bid_size': 0.01185743},\n",
       " {'ask_price': 48923000.0,\n",
       "  'bid_price': 48838000.0,\n",
       "  'ask_size': 0.04899076,\n",
       "  'bid_size': 0.20834343},\n",
       " {'ask_price': 48925000.0,\n",
       "  'bid_price': 48837000.0,\n",
       "  'ask_size': 0.6,\n",
       "  'bid_size': 0.49351128},\n",
       " {'ask_price': 48926000.0,\n",
       "  'bid_price': 48835000.0,\n",
       "  'ask_size': 0.62944287,\n",
       "  'bid_size': 0.00549977}]"
      ]
     },
     "execution_count": 45,
     "metadata": {},
     "output_type": "execute_result"
    }
   ],
   "source": [
    "r['orderbook_units']"
   ]
  },
  {
   "cell_type": "code",
   "execution_count": 47,
   "id": "68acb941",
   "metadata": {
    "ExecuteTime": {
     "end_time": "2022-05-04T02:59:55.702271Z",
     "start_time": "2022-05-04T02:59:55.695290Z"
    }
   },
   "outputs": [
    {
     "name": "stdout",
     "output_type": "stream",
     "text": [
      "48926000.0 0.62944287\n",
      "48925000.0 0.6\n",
      "48923000.0 0.04899076\n",
      "48922000.0 0.00022712\n",
      "48914000.0 0.3378\n",
      "48910000.0 0.03014792\n",
      "48902000.0 0.3761\n",
      "48900000.0 0.96020514\n",
      "48899000.0 0.14866807\n",
      "48895000.0 0.19814299\n",
      "48891000.0 0.3404\n",
      "48890000.0 0.68242117\n",
      "48889000.0 0.17750568\n",
      "48875000.0 0.08361149\n",
      "48851000.0 6.48249701\n"
     ]
    }
   ],
   "source": [
    "for v in r['orderbook_units'][::-1]:\n",
    "    print(v['ask_price'], v['ask_size'])"
   ]
  },
  {
   "cell_type": "code",
   "execution_count": 50,
   "id": "53794a49",
   "metadata": {
    "ExecuteTime": {
     "end_time": "2022-05-04T03:01:08.189176Z",
     "start_time": "2022-05-04T03:01:08.175182Z"
    }
   },
   "outputs": [
    {
     "name": "stdout",
     "output_type": "stream",
     "text": [
      "48850000.0 0.16365218\n",
      "48849000.0 0.05507227\n",
      "48848000.0 0.13215832\n",
      "48847000.0 0.01044077\n",
      "48846000.0 0.01095857\n",
      "48845000.0 0.0057882\n",
      "48844000.0 0.00102354\n",
      "48843000.0 0.00122329\n",
      "48842000.0 0.0150137\n",
      "48841000.0 0.00225216\n",
      "48840000.0 0.04871011\n",
      "48839000.0 0.01185743\n",
      "48838000.0 0.20834343\n",
      "48837000.0 0.49351128\n",
      "48835000.0 0.00549977\n"
     ]
    }
   ],
   "source": [
    "for v in r['orderbook_units']:\n",
    "    print(v['bid_price'], v['bid_size'])"
   ]
  },
  {
   "cell_type": "code",
   "execution_count": null,
   "id": "2b643b66",
   "metadata": {},
   "outputs": [],
   "source": []
  },
  {
   "cell_type": "markdown",
   "id": "685d1694",
   "metadata": {},
   "source": [
    "# bithumb api"
   ]
  },
  {
   "cell_type": "code",
   "execution_count": 51,
   "id": "830f4804",
   "metadata": {
    "ExecuteTime": {
     "end_time": "2022-05-04T03:05:53.739023Z",
     "start_time": "2022-05-04T03:05:53.728024Z"
    }
   },
   "outputs": [],
   "source": [
    "# 1초당 최대 135회 "
   ]
  },
  {
   "cell_type": "code",
   "execution_count": 53,
   "id": "827aa326",
   "metadata": {
    "ExecuteTime": {
     "end_time": "2022-05-04T03:06:23.368770Z",
     "start_time": "2022-05-04T03:06:23.358797Z"
    }
   },
   "outputs": [],
   "source": [
    "# !pip install -U pybithumb"
   ]
  },
  {
   "cell_type": "code",
   "execution_count": 54,
   "id": "311e5d0a",
   "metadata": {
    "ExecuteTime": {
     "end_time": "2022-05-04T03:06:33.773950Z",
     "start_time": "2022-05-04T03:06:33.758988Z"
    }
   },
   "outputs": [],
   "source": [
    "import pybithumb"
   ]
  },
  {
   "cell_type": "code",
   "execution_count": 55,
   "id": "6626267a",
   "metadata": {
    "ExecuteTime": {
     "end_time": "2022-05-04T03:06:48.500573Z",
     "start_time": "2022-05-04T03:06:48.095655Z"
    }
   },
   "outputs": [],
   "source": [
    "tickers = pybithumb.get_tickers()"
   ]
  },
  {
   "cell_type": "code",
   "execution_count": 56,
   "id": "2701e746",
   "metadata": {
    "ExecuteTime": {
     "end_time": "2022-05-04T03:06:57.757821Z",
     "start_time": "2022-05-04T03:06:57.743858Z"
    }
   },
   "outputs": [
    {
     "data": {
      "text/plain": [
       "201"
      ]
     },
     "execution_count": 56,
     "metadata": {},
     "output_type": "execute_result"
    }
   ],
   "source": [
    "len(tickers)"
   ]
  },
  {
   "cell_type": "code",
   "execution_count": 58,
   "id": "4234ae26",
   "metadata": {
    "ExecuteTime": {
     "end_time": "2022-05-04T03:08:52.773323Z",
     "start_time": "2022-05-04T03:08:48.704201Z"
    }
   },
   "outputs": [
    {
     "name": "stdout",
     "output_type": "stream",
     "text": [
      "BTC 48739000.0\n",
      "ETH 3588000.0\n",
      "LTC 128400.0\n",
      "ETC 34790.0\n",
      "XRP 788.7\n",
      "BCH 363700.0\n",
      "QTUM 7005.0\n"
     ]
    },
    {
     "ename": "KeyboardInterrupt",
     "evalue": "",
     "output_type": "error",
     "traceback": [
      "\u001b[1;31m---------------------------------------------------------------------------\u001b[0m",
      "\u001b[1;31mKeyboardInterrupt\u001b[0m                         Traceback (most recent call last)",
      "\u001b[1;32m~\\AppData\\Local\\Temp/ipykernel_12836/4125441631.py\u001b[0m in \u001b[0;36m<module>\u001b[1;34m\u001b[0m\n\u001b[0;32m      3\u001b[0m     \u001b[0mprint\u001b[0m\u001b[1;33m(\u001b[0m\u001b[0mticker\u001b[0m\u001b[1;33m,\u001b[0m \u001b[0mprice\u001b[0m\u001b[1;33m)\u001b[0m\u001b[1;33m\u001b[0m\u001b[1;33m\u001b[0m\u001b[0m\n\u001b[0;32m      4\u001b[0m \u001b[1;33m\u001b[0m\u001b[0m\n\u001b[1;32m----> 5\u001b[1;33m     \u001b[0mtime\u001b[0m\u001b[1;33m.\u001b[0m\u001b[0msleep\u001b[0m\u001b[1;33m(\u001b[0m\u001b[1;36m0.5\u001b[0m\u001b[1;33m)\u001b[0m\u001b[1;33m\u001b[0m\u001b[1;33m\u001b[0m\u001b[0m\n\u001b[0m",
      "\u001b[1;31mKeyboardInterrupt\u001b[0m: "
     ]
    }
   ],
   "source": [
    "for ticker in tickers:\n",
    "    price = pybithumb.get_current_price(ticker)\n",
    "    print(ticker, price)\n",
    "    \n",
    "    time.sleep(0.5)"
   ]
  },
  {
   "cell_type": "code",
   "execution_count": 59,
   "id": "5e11643b",
   "metadata": {
    "ExecuteTime": {
     "end_time": "2022-05-04T03:09:48.840381Z",
     "start_time": "2022-05-04T03:09:48.832402Z"
    }
   },
   "outputs": [
    {
     "data": {
      "text/plain": [
       "<function pybithumb.get_current_price(order_currency, payment_currency='KRW')>"
      ]
     },
     "execution_count": 59,
     "metadata": {},
     "output_type": "execute_result"
    }
   ],
   "source": [
    "pybithumb.get_current_price                                   "
   ]
  },
  {
   "cell_type": "code",
   "execution_count": 68,
   "id": "492bd0ce",
   "metadata": {
    "ExecuteTime": {
     "end_time": "2022-05-04T03:11:17.390133Z",
     "start_time": "2022-05-04T03:11:17.327302Z"
    }
   },
   "outputs": [
    {
     "data": {
      "text/plain": [
       "{'timestamp': '1651633870437',\n",
       " 'payment_currency': 'KRW',\n",
       " 'order_currency': 'BTC',\n",
       " 'bids': [{'price': 48757000.0, 'quantity': 0.0228},\n",
       "  {'price': 48752000.0, 'quantity': 0.0233},\n",
       "  {'price': 48751000.0, 'quantity': 0.0328},\n",
       "  {'price': 48750000.0, 'quantity': 0.2743},\n",
       "  {'price': 48748000.0, 'quantity': 0.0309}],\n",
       " 'asks': [{'price': 48776000.0, 'quantity': 0.1223},\n",
       "  {'price': 48777000.0, 'quantity': 0.4092},\n",
       "  {'price': 48778000.0, 'quantity': 0.9778},\n",
       "  {'price': 48779000.0, 'quantity': 1.0005},\n",
       "  {'price': 48780000.0, 'quantity': 0.0893}]}"
      ]
     },
     "execution_count": 68,
     "metadata": {},
     "output_type": "execute_result"
    }
   ],
   "source": [
    "r = pybithumb.get_orderbook('BTC')\n",
    "r"
   ]
  },
  {
   "cell_type": "code",
   "execution_count": 69,
   "id": "1c7caba2",
   "metadata": {
    "ExecuteTime": {
     "end_time": "2022-05-04T03:11:23.228552Z",
     "start_time": "2022-05-04T03:11:23.215586Z"
    }
   },
   "outputs": [
    {
     "data": {
      "text/plain": [
       "[{'price': 48757000.0, 'quantity': 0.0228},\n",
       " {'price': 48752000.0, 'quantity': 0.0233},\n",
       " {'price': 48751000.0, 'quantity': 0.0328},\n",
       " {'price': 48750000.0, 'quantity': 0.2743},\n",
       " {'price': 48748000.0, 'quantity': 0.0309}]"
      ]
     },
     "execution_count": 69,
     "metadata": {},
     "output_type": "execute_result"
    }
   ],
   "source": [
    "r['bids']"
   ]
  },
  {
   "cell_type": "code",
   "execution_count": 70,
   "id": "8ce7051c",
   "metadata": {
    "ExecuteTime": {
     "end_time": "2022-05-04T03:11:23.477856Z",
     "start_time": "2022-05-04T03:11:23.470903Z"
    }
   },
   "outputs": [
    {
     "data": {
      "text/plain": [
       "[{'price': 48776000.0, 'quantity': 0.1223},\n",
       " {'price': 48777000.0, 'quantity': 0.4092},\n",
       " {'price': 48778000.0, 'quantity': 0.9778},\n",
       " {'price': 48779000.0, 'quantity': 1.0005},\n",
       " {'price': 48780000.0, 'quantity': 0.0893}]"
      ]
     },
     "execution_count": 70,
     "metadata": {},
     "output_type": "execute_result"
    }
   ],
   "source": [
    "r['asks']"
   ]
  },
  {
   "cell_type": "code",
   "execution_count": null,
   "id": "2a268868",
   "metadata": {},
   "outputs": [],
   "source": []
  },
  {
   "cell_type": "code",
   "execution_count": 73,
   "id": "3600b75f",
   "metadata": {
    "ExecuteTime": {
     "end_time": "2022-05-04T03:16:46.551054Z",
     "start_time": "2022-05-04T03:16:46.480213Z"
    }
   },
   "outputs": [
    {
     "data": {
      "text/plain": [
       "{'timestamp': '1651634199521',\n",
       " 'payment_currency': 'KRW',\n",
       " 'order_currency': 'BTC',\n",
       " 'bids': [{'price': 48777000.0, 'quantity': 0.0378},\n",
       "  {'price': 48775000.0, 'quantity': 0.0756},\n",
       "  {'price': 48773000.0, 'quantity': 0.0309},\n",
       "  {'price': 48771000.0, 'quantity': 0.0758},\n",
       "  {'price': 48770000.0, 'quantity': 0.6494},\n",
       "  {'price': 48767000.0, 'quantity': 0.0374},\n",
       "  {'price': 48763000.0, 'quantity': 0.0862},\n",
       "  {'price': 48761000.0, 'quantity': 0.2877},\n",
       "  {'price': 48754000.0, 'quantity': 0.0042},\n",
       "  {'price': 48752000.0, 'quantity': 0.149},\n",
       "  {'price': 48751000.0, 'quantity': 0.0043},\n",
       "  {'price': 48750000.0, 'quantity': 0.2747},\n",
       "  {'price': 48745000.0, 'quantity': 0.01},\n",
       "  {'price': 48742000.0, 'quantity': 0.3881},\n",
       "  {'price': 48740000.0, 'quantity': 0.0591},\n",
       "  {'price': 48737000.0, 'quantity': 0.6},\n",
       "  {'price': 48732000.0, 'quantity': 0.0484},\n",
       "  {'price': 48726000.0, 'quantity': 0.0051},\n",
       "  {'price': 48725000.0, 'quantity': 0.002},\n",
       "  {'price': 48722000.0, 'quantity': 0.1294}],\n",
       " 'asks': [{'price': 48794000.0, 'quantity': 0.1738},\n",
       "  {'price': 48795000.0, 'quantity': 0.3897},\n",
       "  {'price': 48797000.0, 'quantity': 0.0234},\n",
       "  {'price': 48799000.0, 'quantity': 0.0153},\n",
       "  {'price': 48800000.0, 'quantity': 1.0359},\n",
       "  {'price': 48801000.0, 'quantity': 0.02},\n",
       "  {'price': 48803000.0, 'quantity': 0.4662},\n",
       "  {'price': 48806000.0, 'quantity': 0.2383},\n",
       "  {'price': 48813000.0, 'quantity': 0.0238},\n",
       "  {'price': 48815000.0, 'quantity': 0.0615},\n",
       "  {'price': 48816000.0, 'quantity': 1.33},\n",
       "  {'price': 48817000.0, 'quantity': 0.151},\n",
       "  {'price': 48830000.0, 'quantity': 1.0},\n",
       "  {'price': 48831000.0, 'quantity': 7.751},\n",
       "  {'price': 48840000.0, 'quantity': 0.0001},\n",
       "  {'price': 48842000.0, 'quantity': 0.6},\n",
       "  {'price': 48845000.0, 'quantity': 0.153},\n",
       "  {'price': 48851000.0, 'quantity': 0.0124},\n",
       "  {'price': 48860000.0, 'quantity': 0.6001},\n",
       "  {'price': 48866000.0, 'quantity': 0.1996}]}"
      ]
     },
     "execution_count": 73,
     "metadata": {},
     "output_type": "execute_result"
    }
   ],
   "source": [
    "r = pybithumb.get_orderbook('BTC', limit=20)\n",
    "r"
   ]
  },
  {
   "cell_type": "code",
   "execution_count": 75,
   "id": "cc51be3f",
   "metadata": {
    "ExecuteTime": {
     "end_time": "2022-05-04T03:17:12.921544Z",
     "start_time": "2022-05-04T03:17:12.911541Z"
    }
   },
   "outputs": [
    {
     "data": {
      "text/plain": [
       "20"
      ]
     },
     "execution_count": 75,
     "metadata": {},
     "output_type": "execute_result"
    }
   ],
   "source": [
    "len(r['asks'])"
   ]
  },
  {
   "cell_type": "code",
   "execution_count": null,
   "id": "ed37633b",
   "metadata": {},
   "outputs": [],
   "source": []
  }
 ],
 "metadata": {
  "kernelspec": {
   "display_name": "Python 3 (ipykernel)",
   "language": "python",
   "name": "python3"
  },
  "language_info": {
   "codemirror_mode": {
    "name": "ipython",
    "version": 3
   },
   "file_extension": ".py",
   "mimetype": "text/x-python",
   "name": "python",
   "nbconvert_exporter": "python",
   "pygments_lexer": "ipython3",
   "version": "3.9.7"
  },
  "toc": {
   "base_numbering": 1,
   "nav_menu": {},
   "number_sections": true,
   "sideBar": true,
   "skip_h1_title": false,
   "title_cell": "Table of Contents",
   "title_sidebar": "Contents",
   "toc_cell": false,
   "toc_position": {},
   "toc_section_display": true,
   "toc_window_display": true
  },
  "varInspector": {
   "cols": {
    "lenName": 16,
    "lenType": 16,
    "lenVar": 40
   },
   "kernels_config": {
    "python": {
     "delete_cmd_postfix": "",
     "delete_cmd_prefix": "del ",
     "library": "var_list.py",
     "varRefreshCmd": "print(var_dic_list())"
    },
    "r": {
     "delete_cmd_postfix": ") ",
     "delete_cmd_prefix": "rm(",
     "library": "var_list.r",
     "varRefreshCmd": "cat(var_dic_list()) "
    }
   },
   "types_to_exclude": [
    "module",
    "function",
    "builtin_function_or_method",
    "instance",
    "_Feature"
   ],
   "window_display": false
  }
 },
 "nbformat": 4,
 "nbformat_minor": 5
}
