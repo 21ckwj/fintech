{
 "cells": [
  {
   "cell_type": "markdown",
   "id": "18d4deac",
   "metadata": {},
   "source": [
    "# Technical_analysis"
   ]
  },
  {
   "cell_type": "code",
   "execution_count": 1,
   "id": "e54a17b5",
   "metadata": {
    "ExecuteTime": {
     "end_time": "2022-04-27T02:52:29.158634Z",
     "start_time": "2022-04-27T02:52:29.151653Z"
    }
   },
   "outputs": [],
   "source": [
    "# 이동평균선\n",
    "# 볼린져밴드\n",
    "# RSI\n",
    "# MACD\n",
    "# (stochastic)"
   ]
  },
  {
   "cell_type": "code",
   "execution_count": 2,
   "id": "bc6fc99d",
   "metadata": {
    "ExecuteTime": {
     "end_time": "2022-04-27T02:54:42.147866Z",
     "start_time": "2022-04-27T02:54:41.358975Z"
    }
   },
   "outputs": [],
   "source": [
    "import pandas as pd\n",
    "import numpy as np\n",
    "import matplotlib.pyplot as plt\n",
    "import seaborn as sns"
   ]
  },
  {
   "cell_type": "code",
   "execution_count": 3,
   "id": "3369587b",
   "metadata": {
    "ExecuteTime": {
     "end_time": "2022-04-27T02:54:50.561370Z",
     "start_time": "2022-04-27T02:54:50.366890Z"
    }
   },
   "outputs": [],
   "source": [
    "import FinanceDataReader as fdr"
   ]
  },
  {
   "cell_type": "code",
   "execution_count": 5,
   "id": "005ee39b",
   "metadata": {
    "ExecuteTime": {
     "end_time": "2022-04-27T02:56:07.383962Z",
     "start_time": "2022-04-27T02:56:07.279242Z"
    }
   },
   "outputs": [
    {
     "data": {
      "text/html": [
       "<div>\n",
       "<style scoped>\n",
       "    .dataframe tbody tr th:only-of-type {\n",
       "        vertical-align: middle;\n",
       "    }\n",
       "\n",
       "    .dataframe tbody tr th {\n",
       "        vertical-align: top;\n",
       "    }\n",
       "\n",
       "    .dataframe thead th {\n",
       "        text-align: right;\n",
       "    }\n",
       "</style>\n",
       "<table border=\"1\" class=\"dataframe\">\n",
       "  <thead>\n",
       "    <tr style=\"text-align: right;\">\n",
       "      <th></th>\n",
       "      <th>Open</th>\n",
       "      <th>High</th>\n",
       "      <th>Low</th>\n",
       "      <th>Close</th>\n",
       "      <th>Volume</th>\n",
       "      <th>Change</th>\n",
       "    </tr>\n",
       "    <tr>\n",
       "      <th>Date</th>\n",
       "      <th></th>\n",
       "      <th></th>\n",
       "      <th></th>\n",
       "      <th></th>\n",
       "      <th></th>\n",
       "      <th></th>\n",
       "    </tr>\n",
       "  </thead>\n",
       "  <tbody>\n",
       "    <tr>\n",
       "      <th>2020-01-02</th>\n",
       "      <td>55500</td>\n",
       "      <td>56000</td>\n",
       "      <td>55000</td>\n",
       "      <td>55200</td>\n",
       "      <td>12993228</td>\n",
       "      <td>-0.010753</td>\n",
       "    </tr>\n",
       "    <tr>\n",
       "      <th>2020-01-03</th>\n",
       "      <td>56000</td>\n",
       "      <td>56600</td>\n",
       "      <td>54900</td>\n",
       "      <td>55500</td>\n",
       "      <td>15422255</td>\n",
       "      <td>0.005435</td>\n",
       "    </tr>\n",
       "    <tr>\n",
       "      <th>2020-01-06</th>\n",
       "      <td>54900</td>\n",
       "      <td>55600</td>\n",
       "      <td>54600</td>\n",
       "      <td>55500</td>\n",
       "      <td>10278951</td>\n",
       "      <td>0.000000</td>\n",
       "    </tr>\n",
       "    <tr>\n",
       "      <th>2020-01-07</th>\n",
       "      <td>55700</td>\n",
       "      <td>56400</td>\n",
       "      <td>55600</td>\n",
       "      <td>55800</td>\n",
       "      <td>10009778</td>\n",
       "      <td>0.005405</td>\n",
       "    </tr>\n",
       "    <tr>\n",
       "      <th>2020-01-08</th>\n",
       "      <td>56200</td>\n",
       "      <td>57400</td>\n",
       "      <td>55900</td>\n",
       "      <td>56800</td>\n",
       "      <td>23501171</td>\n",
       "      <td>0.017921</td>\n",
       "    </tr>\n",
       "  </tbody>\n",
       "</table>\n",
       "</div>"
      ],
      "text/plain": [
       "             Open   High    Low  Close    Volume    Change\n",
       "Date                                                      \n",
       "2020-01-02  55500  56000  55000  55200  12993228 -0.010753\n",
       "2020-01-03  56000  56600  54900  55500  15422255  0.005435\n",
       "2020-01-06  54900  55600  54600  55500  10278951  0.000000\n",
       "2020-01-07  55700  56400  55600  55800  10009778  0.005405\n",
       "2020-01-08  56200  57400  55900  56800  23501171  0.017921"
      ]
     },
     "execution_count": 5,
     "metadata": {},
     "output_type": "execute_result"
    }
   ],
   "source": [
    "df = fdr.DataReader('005930', '2020','2022')\n",
    "df.head()"
   ]
  },
  {
   "cell_type": "markdown",
   "id": "d49ed559",
   "metadata": {},
   "source": [
    "## 변화율계산"
   ]
  },
  {
   "cell_type": "code",
   "execution_count": 6,
   "id": "49ffface",
   "metadata": {
    "ExecuteTime": {
     "end_time": "2022-04-27T02:57:05.580914Z",
     "start_time": "2022-04-27T02:57:05.566951Z"
    }
   },
   "outputs": [
    {
     "data": {
      "text/plain": [
       "Date\n",
       "2020-01-02         NaN\n",
       "2020-01-03    0.005435\n",
       "2020-01-06    0.000000\n",
       "2020-01-07    0.005405\n",
       "2020-01-08    0.017921\n",
       "                ...   \n",
       "2021-12-24    0.007509\n",
       "2021-12-27   -0.003727\n",
       "2021-12-28    0.001247\n",
       "2021-12-29   -0.018680\n",
       "2021-12-30   -0.006345\n",
       "Name: Close, Length: 496, dtype: float64"
      ]
     },
     "execution_count": 6,
     "metadata": {},
     "output_type": "execute_result"
    }
   ],
   "source": [
    "df['Close']/df['Close'].shift(1)-1"
   ]
  },
  {
   "cell_type": "code",
   "execution_count": 7,
   "id": "94b9f048",
   "metadata": {
    "ExecuteTime": {
     "end_time": "2022-04-27T02:58:11.010061Z",
     "start_time": "2022-04-27T02:58:10.990086Z"
    }
   },
   "outputs": [
    {
     "data": {
      "text/plain": [
       "Date\n",
       "2020-01-02         NaN\n",
       "2020-01-03    0.005435\n",
       "2020-01-06    0.000000\n",
       "2020-01-07    0.005405\n",
       "2020-01-08    0.017921\n",
       "                ...   \n",
       "2021-12-24    0.007509\n",
       "2021-12-27   -0.003727\n",
       "2021-12-28    0.001247\n",
       "2021-12-29   -0.018680\n",
       "2021-12-30   -0.006345\n",
       "Name: Close, Length: 496, dtype: float64"
      ]
     },
     "execution_count": 7,
     "metadata": {},
     "output_type": "execute_result"
    }
   ],
   "source": [
    "df['Close'].pct_change(1)"
   ]
  },
  {
   "cell_type": "code",
   "execution_count": null,
   "id": "cd65d8cf",
   "metadata": {},
   "outputs": [],
   "source": []
  },
  {
   "cell_type": "markdown",
   "id": "b4813483",
   "metadata": {},
   "source": [
    "## 원금대비 수익률"
   ]
  },
  {
   "cell_type": "code",
   "execution_count": 8,
   "id": "608fe81e",
   "metadata": {
    "ExecuteTime": {
     "end_time": "2022-04-27T03:00:12.717741Z",
     "start_time": "2022-04-27T03:00:12.702743Z"
    }
   },
   "outputs": [],
   "source": [
    "df['return'] = df['Change'] + 1"
   ]
  },
  {
   "cell_type": "code",
   "execution_count": 9,
   "id": "854bdf33",
   "metadata": {
    "ExecuteTime": {
     "end_time": "2022-04-27T03:00:15.434438Z",
     "start_time": "2022-04-27T03:00:15.422470Z"
    }
   },
   "outputs": [
    {
     "data": {
      "text/html": [
       "<div>\n",
       "<style scoped>\n",
       "    .dataframe tbody tr th:only-of-type {\n",
       "        vertical-align: middle;\n",
       "    }\n",
       "\n",
       "    .dataframe tbody tr th {\n",
       "        vertical-align: top;\n",
       "    }\n",
       "\n",
       "    .dataframe thead th {\n",
       "        text-align: right;\n",
       "    }\n",
       "</style>\n",
       "<table border=\"1\" class=\"dataframe\">\n",
       "  <thead>\n",
       "    <tr style=\"text-align: right;\">\n",
       "      <th></th>\n",
       "      <th>Open</th>\n",
       "      <th>High</th>\n",
       "      <th>Low</th>\n",
       "      <th>Close</th>\n",
       "      <th>Volume</th>\n",
       "      <th>Change</th>\n",
       "      <th>return</th>\n",
       "    </tr>\n",
       "    <tr>\n",
       "      <th>Date</th>\n",
       "      <th></th>\n",
       "      <th></th>\n",
       "      <th></th>\n",
       "      <th></th>\n",
       "      <th></th>\n",
       "      <th></th>\n",
       "      <th></th>\n",
       "    </tr>\n",
       "  </thead>\n",
       "  <tbody>\n",
       "    <tr>\n",
       "      <th>2020-01-02</th>\n",
       "      <td>55500</td>\n",
       "      <td>56000</td>\n",
       "      <td>55000</td>\n",
       "      <td>55200</td>\n",
       "      <td>12993228</td>\n",
       "      <td>-0.010753</td>\n",
       "      <td>0.989247</td>\n",
       "    </tr>\n",
       "    <tr>\n",
       "      <th>2020-01-03</th>\n",
       "      <td>56000</td>\n",
       "      <td>56600</td>\n",
       "      <td>54900</td>\n",
       "      <td>55500</td>\n",
       "      <td>15422255</td>\n",
       "      <td>0.005435</td>\n",
       "      <td>1.005435</td>\n",
       "    </tr>\n",
       "    <tr>\n",
       "      <th>2020-01-06</th>\n",
       "      <td>54900</td>\n",
       "      <td>55600</td>\n",
       "      <td>54600</td>\n",
       "      <td>55500</td>\n",
       "      <td>10278951</td>\n",
       "      <td>0.000000</td>\n",
       "      <td>1.000000</td>\n",
       "    </tr>\n",
       "    <tr>\n",
       "      <th>2020-01-07</th>\n",
       "      <td>55700</td>\n",
       "      <td>56400</td>\n",
       "      <td>55600</td>\n",
       "      <td>55800</td>\n",
       "      <td>10009778</td>\n",
       "      <td>0.005405</td>\n",
       "      <td>1.005405</td>\n",
       "    </tr>\n",
       "    <tr>\n",
       "      <th>2020-01-08</th>\n",
       "      <td>56200</td>\n",
       "      <td>57400</td>\n",
       "      <td>55900</td>\n",
       "      <td>56800</td>\n",
       "      <td>23501171</td>\n",
       "      <td>0.017921</td>\n",
       "      <td>1.017921</td>\n",
       "    </tr>\n",
       "  </tbody>\n",
       "</table>\n",
       "</div>"
      ],
      "text/plain": [
       "             Open   High    Low  Close    Volume    Change    return\n",
       "Date                                                                \n",
       "2020-01-02  55500  56000  55000  55200  12993228 -0.010753  0.989247\n",
       "2020-01-03  56000  56600  54900  55500  15422255  0.005435  1.005435\n",
       "2020-01-06  54900  55600  54600  55500  10278951  0.000000  1.000000\n",
       "2020-01-07  55700  56400  55600  55800  10009778  0.005405  1.005405\n",
       "2020-01-08  56200  57400  55900  56800  23501171  0.017921  1.017921"
      ]
     },
     "execution_count": 9,
     "metadata": {},
     "output_type": "execute_result"
    }
   ],
   "source": [
    "df.head()"
   ]
  },
  {
   "cell_type": "markdown",
   "id": "24645bb7",
   "metadata": {
    "ExecuteTime": {
     "end_time": "2022-04-27T03:04:00.272409Z",
     "start_time": "2022-04-27T03:04:00.254429Z"
    }
   },
   "source": [
    "## 누적 수익률"
   ]
  },
  {
   "cell_type": "code",
   "execution_count": 11,
   "id": "b2bc4273",
   "metadata": {
    "ExecuteTime": {
     "end_time": "2022-04-27T03:01:49.405207Z",
     "start_time": "2022-04-27T03:01:49.392230Z"
    }
   },
   "outputs": [
    {
     "data": {
      "text/plain": [
       "Date\n",
       "2020-01-02    0.989247\n",
       "2020-01-03    0.994624\n",
       "2020-01-06    0.994624\n",
       "2020-01-07    1.000000\n",
       "2020-01-08    1.017921\n",
       "                ...   \n",
       "2021-12-24    1.442652\n",
       "2021-12-27    1.437276\n",
       "2021-12-28    1.439068\n",
       "2021-12-29    1.412186\n",
       "2021-12-30    1.403226\n",
       "Name: return, Length: 496, dtype: float64"
      ]
     },
     "execution_count": 11,
     "metadata": {},
     "output_type": "execute_result"
    }
   ],
   "source": [
    "df['return'].cumprod() # 누적곱"
   ]
  },
  {
   "cell_type": "code",
   "execution_count": null,
   "id": "b05e3f47",
   "metadata": {},
   "outputs": [],
   "source": [
    " "
   ]
  },
  {
   "cell_type": "markdown",
   "id": "95f9c123",
   "metadata": {},
   "source": [
    "## 이동평균선"
   ]
  },
  {
   "cell_type": "code",
   "execution_count": 119,
   "id": "d441be35",
   "metadata": {
    "ExecuteTime": {
     "end_time": "2022-04-27T08:00:31.885868Z",
     "start_time": "2022-04-27T08:00:31.874900Z"
    }
   },
   "outputs": [],
   "source": [
    "# 단점 과거라서 후행"
   ]
  },
  {
   "cell_type": "code",
   "execution_count": 13,
   "id": "5fe4ce70",
   "metadata": {
    "ExecuteTime": {
     "end_time": "2022-04-27T03:04:20.787556Z",
     "start_time": "2022-04-27T03:04:20.782542Z"
    }
   },
   "outputs": [
    {
     "data": {
      "text/plain": [
       "Date\n",
       "2020-01-02    55200\n",
       "2020-01-03    55500\n",
       "2020-01-06    55500\n",
       "2020-01-07    55800\n",
       "2020-01-08    56800\n",
       "              ...  \n",
       "2021-12-24    80500\n",
       "2021-12-27    80200\n",
       "2021-12-28    80300\n",
       "2021-12-29    78800\n",
       "2021-12-30    78300\n",
       "Name: Close, Length: 496, dtype: int64"
      ]
     },
     "execution_count": 13,
     "metadata": {},
     "output_type": "execute_result"
    }
   ],
   "source": [
    "df.Close"
   ]
  },
  {
   "cell_type": "code",
   "execution_count": 24,
   "id": "e43512a5",
   "metadata": {
    "ExecuteTime": {
     "end_time": "2022-04-27T03:12:03.386500Z",
     "start_time": "2022-04-27T03:12:03.375529Z"
    }
   },
   "outputs": [],
   "source": [
    "df['5ma'] = df['Close'].rolling(5).mean()\n",
    "df['20ma'] = df['Close'].rolling(20).mean()\n",
    "df['60ma'] = df['Close'].rolling(60).mean()\n",
    "df['120ma'] = df['Close'].rolling(120).mean()"
   ]
  },
  {
   "cell_type": "code",
   "execution_count": 25,
   "id": "94ad92f7",
   "metadata": {
    "ExecuteTime": {
     "end_time": "2022-04-27T03:12:04.239220Z",
     "start_time": "2022-04-27T03:12:04.223262Z"
    }
   },
   "outputs": [
    {
     "data": {
      "text/html": [
       "<div>\n",
       "<style scoped>\n",
       "    .dataframe tbody tr th:only-of-type {\n",
       "        vertical-align: middle;\n",
       "    }\n",
       "\n",
       "    .dataframe tbody tr th {\n",
       "        vertical-align: top;\n",
       "    }\n",
       "\n",
       "    .dataframe thead th {\n",
       "        text-align: right;\n",
       "    }\n",
       "</style>\n",
       "<table border=\"1\" class=\"dataframe\">\n",
       "  <thead>\n",
       "    <tr style=\"text-align: right;\">\n",
       "      <th></th>\n",
       "      <th>Open</th>\n",
       "      <th>High</th>\n",
       "      <th>Low</th>\n",
       "      <th>Close</th>\n",
       "      <th>Volume</th>\n",
       "      <th>Change</th>\n",
       "      <th>return</th>\n",
       "      <th>5ma</th>\n",
       "      <th>20ma</th>\n",
       "      <th>60ma</th>\n",
       "      <th>120ma</th>\n",
       "    </tr>\n",
       "    <tr>\n",
       "      <th>Date</th>\n",
       "      <th></th>\n",
       "      <th></th>\n",
       "      <th></th>\n",
       "      <th></th>\n",
       "      <th></th>\n",
       "      <th></th>\n",
       "      <th></th>\n",
       "      <th></th>\n",
       "      <th></th>\n",
       "      <th></th>\n",
       "      <th></th>\n",
       "    </tr>\n",
       "  </thead>\n",
       "  <tbody>\n",
       "    <tr>\n",
       "      <th>2020-01-02</th>\n",
       "      <td>55500</td>\n",
       "      <td>56000</td>\n",
       "      <td>55000</td>\n",
       "      <td>55200</td>\n",
       "      <td>12993228</td>\n",
       "      <td>-0.010753</td>\n",
       "      <td>0.989247</td>\n",
       "      <td>NaN</td>\n",
       "      <td>NaN</td>\n",
       "      <td>NaN</td>\n",
       "      <td>NaN</td>\n",
       "    </tr>\n",
       "    <tr>\n",
       "      <th>2020-01-03</th>\n",
       "      <td>56000</td>\n",
       "      <td>56600</td>\n",
       "      <td>54900</td>\n",
       "      <td>55500</td>\n",
       "      <td>15422255</td>\n",
       "      <td>0.005435</td>\n",
       "      <td>1.005435</td>\n",
       "      <td>NaN</td>\n",
       "      <td>NaN</td>\n",
       "      <td>NaN</td>\n",
       "      <td>NaN</td>\n",
       "    </tr>\n",
       "    <tr>\n",
       "      <th>2020-01-06</th>\n",
       "      <td>54900</td>\n",
       "      <td>55600</td>\n",
       "      <td>54600</td>\n",
       "      <td>55500</td>\n",
       "      <td>10278951</td>\n",
       "      <td>0.000000</td>\n",
       "      <td>1.000000</td>\n",
       "      <td>NaN</td>\n",
       "      <td>NaN</td>\n",
       "      <td>NaN</td>\n",
       "      <td>NaN</td>\n",
       "    </tr>\n",
       "    <tr>\n",
       "      <th>2020-01-07</th>\n",
       "      <td>55700</td>\n",
       "      <td>56400</td>\n",
       "      <td>55600</td>\n",
       "      <td>55800</td>\n",
       "      <td>10009778</td>\n",
       "      <td>0.005405</td>\n",
       "      <td>1.005405</td>\n",
       "      <td>NaN</td>\n",
       "      <td>NaN</td>\n",
       "      <td>NaN</td>\n",
       "      <td>NaN</td>\n",
       "    </tr>\n",
       "    <tr>\n",
       "      <th>2020-01-08</th>\n",
       "      <td>56200</td>\n",
       "      <td>57400</td>\n",
       "      <td>55900</td>\n",
       "      <td>56800</td>\n",
       "      <td>23501171</td>\n",
       "      <td>0.017921</td>\n",
       "      <td>1.017921</td>\n",
       "      <td>55760.0</td>\n",
       "      <td>NaN</td>\n",
       "      <td>NaN</td>\n",
       "      <td>NaN</td>\n",
       "    </tr>\n",
       "    <tr>\n",
       "      <th>...</th>\n",
       "      <td>...</td>\n",
       "      <td>...</td>\n",
       "      <td>...</td>\n",
       "      <td>...</td>\n",
       "      <td>...</td>\n",
       "      <td>...</td>\n",
       "      <td>...</td>\n",
       "      <td>...</td>\n",
       "      <td>...</td>\n",
       "      <td>...</td>\n",
       "      <td>...</td>\n",
       "    </tr>\n",
       "    <tr>\n",
       "      <th>2021-12-24</th>\n",
       "      <td>80200</td>\n",
       "      <td>80800</td>\n",
       "      <td>80200</td>\n",
       "      <td>80500</td>\n",
       "      <td>12086380</td>\n",
       "      <td>0.007509</td>\n",
       "      <td>1.007509</td>\n",
       "      <td>79000.0</td>\n",
       "      <td>76890.0</td>\n",
       "      <td>73046.666667</td>\n",
       "      <td>75388.333333</td>\n",
       "    </tr>\n",
       "    <tr>\n",
       "      <th>2021-12-27</th>\n",
       "      <td>80600</td>\n",
       "      <td>80600</td>\n",
       "      <td>79800</td>\n",
       "      <td>80200</td>\n",
       "      <td>10783368</td>\n",
       "      <td>-0.003727</td>\n",
       "      <td>0.996273</td>\n",
       "      <td>79620.0</td>\n",
       "      <td>77285.0</td>\n",
       "      <td>73148.333333</td>\n",
       "      <td>75390.000000</td>\n",
       "    </tr>\n",
       "    <tr>\n",
       "      <th>2021-12-28</th>\n",
       "      <td>80200</td>\n",
       "      <td>80400</td>\n",
       "      <td>79700</td>\n",
       "      <td>80300</td>\n",
       "      <td>18226325</td>\n",
       "      <td>0.001247</td>\n",
       "      <td>1.001247</td>\n",
       "      <td>80060.0</td>\n",
       "      <td>77735.0</td>\n",
       "      <td>73266.666667</td>\n",
       "      <td>75389.166667</td>\n",
       "    </tr>\n",
       "    <tr>\n",
       "      <th>2021-12-29</th>\n",
       "      <td>80200</td>\n",
       "      <td>80200</td>\n",
       "      <td>78500</td>\n",
       "      <td>78800</td>\n",
       "      <td>19794795</td>\n",
       "      <td>-0.018680</td>\n",
       "      <td>0.981320</td>\n",
       "      <td>79940.0</td>\n",
       "      <td>77955.0</td>\n",
       "      <td>73376.666667</td>\n",
       "      <td>75369.166667</td>\n",
       "    </tr>\n",
       "    <tr>\n",
       "      <th>2021-12-30</th>\n",
       "      <td>78900</td>\n",
       "      <td>79500</td>\n",
       "      <td>78100</td>\n",
       "      <td>78300</td>\n",
       "      <td>14236700</td>\n",
       "      <td>-0.006345</td>\n",
       "      <td>0.993655</td>\n",
       "      <td>79620.0</td>\n",
       "      <td>78080.0</td>\n",
       "      <td>73493.333333</td>\n",
       "      <td>75348.333333</td>\n",
       "    </tr>\n",
       "  </tbody>\n",
       "</table>\n",
       "<p>496 rows × 11 columns</p>\n",
       "</div>"
      ],
      "text/plain": [
       "             Open   High    Low  Close    Volume    Change    return      5ma  \\\n",
       "Date                                                                            \n",
       "2020-01-02  55500  56000  55000  55200  12993228 -0.010753  0.989247      NaN   \n",
       "2020-01-03  56000  56600  54900  55500  15422255  0.005435  1.005435      NaN   \n",
       "2020-01-06  54900  55600  54600  55500  10278951  0.000000  1.000000      NaN   \n",
       "2020-01-07  55700  56400  55600  55800  10009778  0.005405  1.005405      NaN   \n",
       "2020-01-08  56200  57400  55900  56800  23501171  0.017921  1.017921  55760.0   \n",
       "...           ...    ...    ...    ...       ...       ...       ...      ...   \n",
       "2021-12-24  80200  80800  80200  80500  12086380  0.007509  1.007509  79000.0   \n",
       "2021-12-27  80600  80600  79800  80200  10783368 -0.003727  0.996273  79620.0   \n",
       "2021-12-28  80200  80400  79700  80300  18226325  0.001247  1.001247  80060.0   \n",
       "2021-12-29  80200  80200  78500  78800  19794795 -0.018680  0.981320  79940.0   \n",
       "2021-12-30  78900  79500  78100  78300  14236700 -0.006345  0.993655  79620.0   \n",
       "\n",
       "               20ma          60ma         120ma  \n",
       "Date                                             \n",
       "2020-01-02      NaN           NaN           NaN  \n",
       "2020-01-03      NaN           NaN           NaN  \n",
       "2020-01-06      NaN           NaN           NaN  \n",
       "2020-01-07      NaN           NaN           NaN  \n",
       "2020-01-08      NaN           NaN           NaN  \n",
       "...             ...           ...           ...  \n",
       "2021-12-24  76890.0  73046.666667  75388.333333  \n",
       "2021-12-27  77285.0  73148.333333  75390.000000  \n",
       "2021-12-28  77735.0  73266.666667  75389.166667  \n",
       "2021-12-29  77955.0  73376.666667  75369.166667  \n",
       "2021-12-30  78080.0  73493.333333  75348.333333  \n",
       "\n",
       "[496 rows x 11 columns]"
      ]
     },
     "execution_count": 25,
     "metadata": {},
     "output_type": "execute_result"
    }
   ],
   "source": [
    "df"
   ]
  },
  {
   "cell_type": "code",
   "execution_count": 26,
   "id": "68db3ab9",
   "metadata": {
    "ExecuteTime": {
     "end_time": "2022-04-27T03:12:15.834247Z",
     "start_time": "2022-04-27T03:12:15.662676Z"
    }
   },
   "outputs": [
    {
     "data": {
      "text/plain": [
       "<AxesSubplot:xlabel='Date'>"
      ]
     },
     "execution_count": 26,
     "metadata": {},
     "output_type": "execute_result"
    },
    {
     "data": {
      "image/png": "[encoded data removed]",
      "text/plain": [
       "<Figure size 1080x360 with 1 Axes>"
      ]
     },
     "metadata": {
      "needs_background": "light"
     },
     "output_type": "display_data"
    }
   ],
   "source": [
    "df[['Close','5ma','20ma','60ma','120ma']].plot(figsize=(15,5))"
   ]
  },
  {
   "cell_type": "code",
   "execution_count": null,
   "id": "e3be5e34",
   "metadata": {},
   "outputs": [],
   "source": []
  },
  {
   "cell_type": "markdown",
   "id": "3a99052d",
   "metadata": {
    "ExecuteTime": {
     "end_time": "2022-04-27T03:14:30.029407Z",
     "start_time": "2022-04-27T03:14:30.015444Z"
    }
   },
   "source": [
    "## 지수 이동평균선 : 현재와 가까운 값에 더 큰 가중치를 주어서 계산한 평균값"
   ]
  },
  {
   "cell_type": "code",
   "execution_count": 28,
   "id": "189201b5",
   "metadata": {
    "ExecuteTime": {
     "end_time": "2022-04-27T03:15:48.126591Z",
     "start_time": "2022-04-27T03:15:48.110633Z"
    }
   },
   "outputs": [],
   "source": [
    "df['20ewma'] = df['Close'].ewm(span=20).mean()\n",
    "df['60ewma'] = df['Close'].ewm(span=60).mean()"
   ]
  },
  {
   "cell_type": "code",
   "execution_count": 30,
   "id": "665e3b3e",
   "metadata": {
    "ExecuteTime": {
     "end_time": "2022-04-27T03:16:18.840468Z",
     "start_time": "2022-04-27T03:16:18.686878Z"
    }
   },
   "outputs": [
    {
     "data": {
      "text/plain": [
       "<AxesSubplot:xlabel='Date'>"
      ]
     },
     "execution_count": 30,
     "metadata": {},
     "output_type": "execute_result"
    },
    {
     "data": {
      "image/png": "[encoded data removed]",
      "text/plain": [
       "<Figure size 1080x360 with 1 Axes>"
      ]
     },
     "metadata": {
      "needs_background": "light"
     },
     "output_type": "display_data"
    }
   ],
   "source": [
    "df[['Close','20ewma','60ewma']].plot(figsize=(15,5))"
   ]
  },
  {
   "cell_type": "code",
   "execution_count": null,
   "id": "a66bc151",
   "metadata": {},
   "outputs": [],
   "source": []
  },
  {
   "cell_type": "markdown",
   "id": "dbfb7972",
   "metadata": {
    "ExecuteTime": {
     "end_time": "2022-04-27T03:32:08.294568Z",
     "start_time": "2022-04-27T03:32:08.288556Z"
    }
   },
   "source": [
    "## 간격별 가격 뽑기"
   ]
  },
  {
   "cell_type": "code",
   "execution_count": 34,
   "id": "7c7d5ef8",
   "metadata": {
    "ExecuteTime": {
     "end_time": "2022-04-27T03:33:59.365558Z",
     "start_time": "2022-04-27T03:33:59.358577Z"
    }
   },
   "outputs": [
    {
     "data": {
      "text/plain": [
       "Date\n",
       "2020-01-02    55200.0\n",
       "2020-01-05        NaN\n",
       "2020-01-08    56800.0\n",
       "2020-01-11        NaN\n",
       "2020-01-14    60000.0\n",
       "               ...   \n",
       "2021-12-16    77800.0\n",
       "2021-12-19        NaN\n",
       "2021-12-22    79400.0\n",
       "2021-12-25        NaN\n",
       "2021-12-28    80300.0\n",
       "Freq: 3D, Name: Close, Length: 243, dtype: float64"
      ]
     },
     "execution_count": 34,
     "metadata": {},
     "output_type": "execute_result"
    }
   ],
   "source": [
    "# 3일간격\n",
    "df['Close'].asfreq('3D')"
   ]
  },
  {
   "cell_type": "code",
   "execution_count": 35,
   "id": "bf8cb1b3",
   "metadata": {
    "ExecuteTime": {
     "end_time": "2022-04-27T03:34:27.194151Z",
     "start_time": "2022-04-27T03:34:27.183180Z"
    },
    "scrolled": true
   },
   "outputs": [
    {
     "data": {
      "text/plain": [
       "Date\n",
       "2020-01-31    58815.000000\n",
       "2020-02-29    59085.000000\n",
       "2020-03-31    50168.181818\n",
       "2020-04-30    49045.000000\n",
       "2020-05-31    49100.000000\n",
       "2020-06-30    52986.363636\n",
       "2020-07-31    54726.086957\n",
       "2020-08-31    56980.000000\n",
       "2020-09-30    58176.190476\n",
       "2020-10-31    59736.842105\n",
       "2020-11-30    63419.047619\n",
       "2020-12-31    73619.047619\n",
       "2021-01-31    86565.000000\n",
       "2021-02-28    83127.777778\n",
       "2021-03-31    82072.727273\n",
       "2021-04-30    83586.363636\n",
       "2021-05-31    80521.052632\n",
       "2021-06-30    81104.545455\n",
       "2021-07-31    79577.272727\n",
       "2021-08-31    77023.809524\n",
       "2021-09-30    76305.263158\n",
       "2021-10-31    70563.157895\n",
       "2021-11-30    71536.363636\n",
       "2021-12-31    77809.090909\n",
       "Freq: M, Name: Close, dtype: float64"
      ]
     },
     "execution_count": 35,
     "metadata": {},
     "output_type": "execute_result"
    }
   ],
   "source": [
    "# 월별\n",
    "df['Close'].resample('M').mean()"
   ]
  },
  {
   "cell_type": "code",
   "execution_count": 36,
   "id": "9502f4d1",
   "metadata": {
    "ExecuteTime": {
     "end_time": "2022-04-27T03:35:12.483207Z",
     "start_time": "2022-04-27T03:35:12.463230Z"
    }
   },
   "outputs": [
    {
     "data": {
      "text/plain": [
       "Date\n",
       "2020-03-31    55833.870968\n",
       "2020-06-30    50483.606557\n",
       "2020-09-30    56562.500000\n",
       "2020-12-31    65783.606557\n",
       "2021-03-31    83886.666667\n",
       "2021-06-30    81795.238095\n",
       "2021-09-30    77709.677419\n",
       "2021-12-31    73433.333333\n",
       "Freq: Q-DEC, Name: Close, dtype: float64"
      ]
     },
     "execution_count": 36,
     "metadata": {},
     "output_type": "execute_result"
    }
   ],
   "source": [
    "# 분기별\n",
    "df['Close'].resample('Q').mean()"
   ]
  },
  {
   "cell_type": "code",
   "execution_count": null,
   "id": "71f17e68",
   "metadata": {},
   "outputs": [],
   "source": []
  },
  {
   "cell_type": "code",
   "execution_count": 38,
   "id": "ce566a3e",
   "metadata": {
    "ExecuteTime": {
     "end_time": "2022-04-27T03:36:26.291856Z",
     "start_time": "2022-04-27T03:36:26.270884Z"
    }
   },
   "outputs": [
    {
     "data": {
      "text/plain": [
       "Date\n",
       "2020-01-05    55350.0\n",
       "2020-01-12    57240.0\n",
       "2020-01-19    60200.0\n",
       "2020-01-26    61725.0\n",
       "2020-02-02    57875.0\n",
       "               ...   \n",
       "2021-12-05    73880.0\n",
       "2021-12-12    77240.0\n",
       "2021-12-19    77440.0\n",
       "2021-12-26    79000.0\n",
       "2022-01-02    79400.0\n",
       "Freq: W-SUN, Name: Close, Length: 105, dtype: float64"
      ]
     },
     "execution_count": 38,
     "metadata": {},
     "output_type": "execute_result"
    }
   ],
   "source": [
    "# 주별\n",
    "df['Close'].resample('W').mean()"
   ]
  },
  {
   "cell_type": "code",
   "execution_count": null,
   "id": "1fe35570",
   "metadata": {},
   "outputs": [],
   "source": []
  },
  {
   "cell_type": "markdown",
   "id": "6d46bb1d",
   "metadata": {},
   "source": [
    "## 볼린져밴드(boolinger band)"
   ]
  },
  {
   "cell_type": "code",
   "execution_count": 39,
   "id": "fa8b659c",
   "metadata": {
    "ExecuteTime": {
     "end_time": "2022-04-27T03:39:44.520870Z",
     "start_time": "2022-04-27T03:39:44.401162Z"
    }
   },
   "outputs": [
    {
     "data": {
      "text/html": [
       "<div>\n",
       "<style scoped>\n",
       "    .dataframe tbody tr th:only-of-type {\n",
       "        vertical-align: middle;\n",
       "    }\n",
       "\n",
       "    .dataframe tbody tr th {\n",
       "        vertical-align: top;\n",
       "    }\n",
       "\n",
       "    .dataframe thead th {\n",
       "        text-align: right;\n",
       "    }\n",
       "</style>\n",
       "<table border=\"1\" class=\"dataframe\">\n",
       "  <thead>\n",
       "    <tr style=\"text-align: right;\">\n",
       "      <th></th>\n",
       "      <th>Open</th>\n",
       "      <th>High</th>\n",
       "      <th>Low</th>\n",
       "      <th>Close</th>\n",
       "      <th>Volume</th>\n",
       "      <th>Change</th>\n",
       "    </tr>\n",
       "    <tr>\n",
       "      <th>Date</th>\n",
       "      <th></th>\n",
       "      <th></th>\n",
       "      <th></th>\n",
       "      <th></th>\n",
       "      <th></th>\n",
       "      <th></th>\n",
       "    </tr>\n",
       "  </thead>\n",
       "  <tbody>\n",
       "    <tr>\n",
       "      <th>2022-04-21</th>\n",
       "      <td>67600</td>\n",
       "      <td>68300</td>\n",
       "      <td>67500</td>\n",
       "      <td>67700</td>\n",
       "      <td>12847448</td>\n",
       "      <td>0.004451</td>\n",
       "    </tr>\n",
       "    <tr>\n",
       "      <th>2022-04-22</th>\n",
       "      <td>67200</td>\n",
       "      <td>67300</td>\n",
       "      <td>66700</td>\n",
       "      <td>67000</td>\n",
       "      <td>11791478</td>\n",
       "      <td>-0.010340</td>\n",
       "    </tr>\n",
       "    <tr>\n",
       "      <th>2022-04-25</th>\n",
       "      <td>66500</td>\n",
       "      <td>66700</td>\n",
       "      <td>66300</td>\n",
       "      <td>66300</td>\n",
       "      <td>11016474</td>\n",
       "      <td>-0.010448</td>\n",
       "    </tr>\n",
       "    <tr>\n",
       "      <th>2022-04-26</th>\n",
       "      <td>66400</td>\n",
       "      <td>66700</td>\n",
       "      <td>66100</td>\n",
       "      <td>66100</td>\n",
       "      <td>12946923</td>\n",
       "      <td>-0.003017</td>\n",
       "    </tr>\n",
       "    <tr>\n",
       "      <th>2022-04-27</th>\n",
       "      <td>65400</td>\n",
       "      <td>65500</td>\n",
       "      <td>64900</td>\n",
       "      <td>65100</td>\n",
       "      <td>10800158</td>\n",
       "      <td>-0.015129</td>\n",
       "    </tr>\n",
       "  </tbody>\n",
       "</table>\n",
       "</div>"
      ],
      "text/plain": [
       "             Open   High    Low  Close    Volume    Change\n",
       "Date                                                      \n",
       "2022-04-21  67600  68300  67500  67700  12847448  0.004451\n",
       "2022-04-22  67200  67300  66700  67000  11791478 -0.010340\n",
       "2022-04-25  66500  66700  66300  66300  11016474 -0.010448\n",
       "2022-04-26  66400  66700  66100  66100  12946923 -0.003017\n",
       "2022-04-27  65400  65500  64900  65100  10800158 -0.015129"
      ]
     },
     "execution_count": 39,
     "metadata": {},
     "output_type": "execute_result"
    }
   ],
   "source": [
    "df = fdr.DataReader('005930','2020','2023')\n",
    "df.tail()"
   ]
  },
  {
   "cell_type": "code",
   "execution_count": 40,
   "id": "af7cfc97",
   "metadata": {
    "ExecuteTime": {
     "end_time": "2022-04-27T03:45:07.583453Z",
     "start_time": "2022-04-27T03:45:07.567466Z"
    }
   },
   "outputs": [],
   "source": [
    "df['ma20'] = df['Close'].rolling(20).mean()"
   ]
  },
  {
   "cell_type": "code",
   "execution_count": 41,
   "id": "0d60a6e9",
   "metadata": {
    "ExecuteTime": {
     "end_time": "2022-04-27T03:45:12.340703Z",
     "start_time": "2022-04-27T03:45:12.318761Z"
    }
   },
   "outputs": [
    {
     "data": {
      "text/html": [
       "<div>\n",
       "<style scoped>\n",
       "    .dataframe tbody tr th:only-of-type {\n",
       "        vertical-align: middle;\n",
       "    }\n",
       "\n",
       "    .dataframe tbody tr th {\n",
       "        vertical-align: top;\n",
       "    }\n",
       "\n",
       "    .dataframe thead th {\n",
       "        text-align: right;\n",
       "    }\n",
       "</style>\n",
       "<table border=\"1\" class=\"dataframe\">\n",
       "  <thead>\n",
       "    <tr style=\"text-align: right;\">\n",
       "      <th></th>\n",
       "      <th>Open</th>\n",
       "      <th>High</th>\n",
       "      <th>Low</th>\n",
       "      <th>Close</th>\n",
       "      <th>Volume</th>\n",
       "      <th>Change</th>\n",
       "      <th>ma20</th>\n",
       "    </tr>\n",
       "    <tr>\n",
       "      <th>Date</th>\n",
       "      <th></th>\n",
       "      <th></th>\n",
       "      <th></th>\n",
       "      <th></th>\n",
       "      <th></th>\n",
       "      <th></th>\n",
       "      <th></th>\n",
       "    </tr>\n",
       "  </thead>\n",
       "  <tbody>\n",
       "    <tr>\n",
       "      <th>2020-01-02</th>\n",
       "      <td>55500</td>\n",
       "      <td>56000</td>\n",
       "      <td>55000</td>\n",
       "      <td>55200</td>\n",
       "      <td>12993228</td>\n",
       "      <td>-0.010753</td>\n",
       "      <td>NaN</td>\n",
       "    </tr>\n",
       "    <tr>\n",
       "      <th>2020-01-03</th>\n",
       "      <td>56000</td>\n",
       "      <td>56600</td>\n",
       "      <td>54900</td>\n",
       "      <td>55500</td>\n",
       "      <td>15422255</td>\n",
       "      <td>0.005435</td>\n",
       "      <td>NaN</td>\n",
       "    </tr>\n",
       "    <tr>\n",
       "      <th>2020-01-06</th>\n",
       "      <td>54900</td>\n",
       "      <td>55600</td>\n",
       "      <td>54600</td>\n",
       "      <td>55500</td>\n",
       "      <td>10278951</td>\n",
       "      <td>0.000000</td>\n",
       "      <td>NaN</td>\n",
       "    </tr>\n",
       "    <tr>\n",
       "      <th>2020-01-07</th>\n",
       "      <td>55700</td>\n",
       "      <td>56400</td>\n",
       "      <td>55600</td>\n",
       "      <td>55800</td>\n",
       "      <td>10009778</td>\n",
       "      <td>0.005405</td>\n",
       "      <td>NaN</td>\n",
       "    </tr>\n",
       "    <tr>\n",
       "      <th>2020-01-08</th>\n",
       "      <td>56200</td>\n",
       "      <td>57400</td>\n",
       "      <td>55900</td>\n",
       "      <td>56800</td>\n",
       "      <td>23501171</td>\n",
       "      <td>0.017921</td>\n",
       "      <td>NaN</td>\n",
       "    </tr>\n",
       "  </tbody>\n",
       "</table>\n",
       "</div>"
      ],
      "text/plain": [
       "             Open   High    Low  Close    Volume    Change  ma20\n",
       "Date                                                            \n",
       "2020-01-02  55500  56000  55000  55200  12993228 -0.010753   NaN\n",
       "2020-01-03  56000  56600  54900  55500  15422255  0.005435   NaN\n",
       "2020-01-06  54900  55600  54600  55500  10278951  0.000000   NaN\n",
       "2020-01-07  55700  56400  55600  55800  10009778  0.005405   NaN\n",
       "2020-01-08  56200  57400  55900  56800  23501171  0.017921   NaN"
      ]
     },
     "execution_count": 41,
     "metadata": {},
     "output_type": "execute_result"
    }
   ],
   "source": [
    "df.head()"
   ]
  },
  {
   "cell_type": "code",
   "execution_count": 42,
   "id": "56bc7a23",
   "metadata": {
    "ExecuteTime": {
     "end_time": "2022-04-27T03:45:48.039281Z",
     "start_time": "2022-04-27T03:45:47.855743Z"
    }
   },
   "outputs": [
    {
     "data": {
      "image/png": "[encoded data removed]",
      "text/plain": [
       "<Figure size 432x288 with 1 Axes>"
      ]
     },
     "metadata": {
      "needs_background": "light"
     },
     "output_type": "display_data"
    }
   ],
   "source": [
    "plt.hist(df.Change, bins=100)\n",
    "plt.show()"
   ]
  },
  {
   "cell_type": "code",
   "execution_count": null,
   "id": "f3290ec4",
   "metadata": {},
   "outputs": [],
   "source": [
    "# 표준정규분포 : 평균이 0이고 표준편차가 1인 좌우대칭인 정규분포\n",
    "# 표준편차: 데이터들의 평균과의 차이(편차)의 평균, 데이터가 평균에서 얼마나 떨어져 있는가\n",
    "# 정규분포의 성질\n",
    "1. +- 1표준편차의 범위에 68.2%의 데이터가 존재\n",
    "2. +- 2표준편차의 범위에 95%의 데이터가 존재\n",
    "3. +- 3준편차의 범위에 99.7%의 데이터가 존재"
   ]
  },
  {
   "cell_type": "code",
   "execution_count": 43,
   "id": "9879f0f6",
   "metadata": {
    "ExecuteTime": {
     "end_time": "2022-04-27T03:48:24.617621Z",
     "start_time": "2022-04-27T03:48:24.431092Z"
    }
   },
   "outputs": [
    {
     "data": {
      "text/plain": [
       "(array([ 1.,  0.,  0.,  1.,  0.,  0.,  0.,  0.,  0.,  0.,  2.,  0.,  0.,\n",
       "         4.,  0.,  0.,  2.,  3.,  4.,  2.,  3.,  2.,  3.,  7.,  3.,  6.,\n",
       "        14.,  9., 14., 19., 16., 28., 17., 20., 26., 33., 20., 46., 22.,\n",
       "        30., 26., 21., 25., 23., 14., 14., 17., 10.,  8.,  7.,  2.,  5.,\n",
       "         7.,  6.,  3.,  3.,  6.,  0.,  1.,  5.,  1.,  1.,  0.,  2.,  1.,\n",
       "         0.,  2.,  0.,  1.,  2.,  0.,  1.,  0.,  1.,  0.,  0.,  0.,  0.,\n",
       "         0.,  0.,  1.,  0.,  0.,  0.,  0.,  0.,  0.,  0.,  0.,  0.,  0.,\n",
       "         0.,  0.,  0.,  0.,  0.,  0.,  0.,  0.,  1.]),\n",
       " array([-3.77450378, -3.67552644, -3.5765491 , -3.47757176, -3.37859442,\n",
       "        -3.27961707, -3.18063973, -3.08166239, -2.98268505, -2.88370771,\n",
       "        -2.78473036, -2.68575302, -2.58677568, -2.48779834, -2.388821  ,\n",
       "        -2.28984365, -2.19086631, -2.09188897, -1.99291163, -1.89393429,\n",
       "        -1.79495694, -1.6959796 , -1.59700226, -1.49802492, -1.39904758,\n",
       "        -1.30007023, -1.20109289, -1.10211555, -1.00313821, -0.90416087,\n",
       "        -0.80518352, -0.70620618, -0.60722884, -0.5082515 , -0.40927415,\n",
       "        -0.31029681, -0.21131947, -0.11234213, -0.01336479,  0.08561256,\n",
       "         0.1845899 ,  0.28356724,  0.38254458,  0.48152192,  0.58049927,\n",
       "         0.67947661,  0.77845395,  0.87743129,  0.97640863,  1.07538598,\n",
       "         1.17436332,  1.27334066,  1.372318  ,  1.47129534,  1.57027269,\n",
       "         1.66925003,  1.76822737,  1.86720471,  1.96618205,  2.0651594 ,\n",
       "         2.16413674,  2.26311408,  2.36209142,  2.46106876,  2.56004611,\n",
       "         2.65902345,  2.75800079,  2.85697813,  2.95595547,  3.05493282,\n",
       "         3.15391016,  3.2528875 ,  3.35186484,  3.45084218,  3.54981953,\n",
       "         3.64879687,  3.74777421,  3.84675155,  3.94572889,  4.04470624,\n",
       "         4.14368358,  4.24266092,  4.34163826,  4.4406156 ,  4.53959295,\n",
       "         4.63857029,  4.73754763,  4.83652497,  4.93550231,  5.03447966,\n",
       "         5.133457  ,  5.23243434,  5.33141168,  5.43038902,  5.52936637,\n",
       "         5.62834371,  5.72732105,  5.82629839,  5.92527573,  6.02425308,\n",
       "         6.12323042]),\n",
       " <BarContainer object of 100 artists>)"
      ]
     },
     "execution_count": 43,
     "metadata": {},
     "output_type": "execute_result"
    },
    {
     "data": {
      "image/png": "[encoded data removed]",
      "text/plain": [
       "<Figure size 432x288 with 1 Axes>"
      ]
     },
     "metadata": {
      "needs_background": "light"
     },
     "output_type": "display_data"
    }
   ],
   "source": [
    "plt.hist((df.Change- df.Change.mean())/df.Change.std(), bins=100)"
   ]
  },
  {
   "cell_type": "code",
   "execution_count": null,
   "id": "5067e635",
   "metadata": {},
   "outputs": [],
   "source": []
  },
  {
   "cell_type": "code",
   "execution_count": 44,
   "id": "34c1f993",
   "metadata": {
    "ExecuteTime": {
     "end_time": "2022-04-27T03:55:31.781894Z",
     "start_time": "2022-04-27T03:55:31.759952Z"
    }
   },
   "outputs": [
    {
     "data": {
      "text/html": [
       "<div>\n",
       "<style scoped>\n",
       "    .dataframe tbody tr th:only-of-type {\n",
       "        vertical-align: middle;\n",
       "    }\n",
       "\n",
       "    .dataframe tbody tr th {\n",
       "        vertical-align: top;\n",
       "    }\n",
       "\n",
       "    .dataframe thead th {\n",
       "        text-align: right;\n",
       "    }\n",
       "</style>\n",
       "<table border=\"1\" class=\"dataframe\">\n",
       "  <thead>\n",
       "    <tr style=\"text-align: right;\">\n",
       "      <th></th>\n",
       "      <th>Open</th>\n",
       "      <th>High</th>\n",
       "      <th>Low</th>\n",
       "      <th>Close</th>\n",
       "      <th>Volume</th>\n",
       "      <th>Change</th>\n",
       "      <th>ma20</th>\n",
       "      <th>stdev</th>\n",
       "    </tr>\n",
       "    <tr>\n",
       "      <th>Date</th>\n",
       "      <th></th>\n",
       "      <th></th>\n",
       "      <th></th>\n",
       "      <th></th>\n",
       "      <th></th>\n",
       "      <th></th>\n",
       "      <th></th>\n",
       "      <th></th>\n",
       "    </tr>\n",
       "  </thead>\n",
       "  <tbody>\n",
       "    <tr>\n",
       "      <th>2020-01-02</th>\n",
       "      <td>55500</td>\n",
       "      <td>56000</td>\n",
       "      <td>55000</td>\n",
       "      <td>55200</td>\n",
       "      <td>12993228</td>\n",
       "      <td>-0.010753</td>\n",
       "      <td>NaN</td>\n",
       "      <td>NaN</td>\n",
       "    </tr>\n",
       "    <tr>\n",
       "      <th>2020-01-03</th>\n",
       "      <td>56000</td>\n",
       "      <td>56600</td>\n",
       "      <td>54900</td>\n",
       "      <td>55500</td>\n",
       "      <td>15422255</td>\n",
       "      <td>0.005435</td>\n",
       "      <td>NaN</td>\n",
       "      <td>NaN</td>\n",
       "    </tr>\n",
       "    <tr>\n",
       "      <th>2020-01-06</th>\n",
       "      <td>54900</td>\n",
       "      <td>55600</td>\n",
       "      <td>54600</td>\n",
       "      <td>55500</td>\n",
       "      <td>10278951</td>\n",
       "      <td>0.000000</td>\n",
       "      <td>NaN</td>\n",
       "      <td>NaN</td>\n",
       "    </tr>\n",
       "    <tr>\n",
       "      <th>2020-01-07</th>\n",
       "      <td>55700</td>\n",
       "      <td>56400</td>\n",
       "      <td>55600</td>\n",
       "      <td>55800</td>\n",
       "      <td>10009778</td>\n",
       "      <td>0.005405</td>\n",
       "      <td>NaN</td>\n",
       "      <td>NaN</td>\n",
       "    </tr>\n",
       "    <tr>\n",
       "      <th>2020-01-08</th>\n",
       "      <td>56200</td>\n",
       "      <td>57400</td>\n",
       "      <td>55900</td>\n",
       "      <td>56800</td>\n",
       "      <td>23501171</td>\n",
       "      <td>0.017921</td>\n",
       "      <td>NaN</td>\n",
       "      <td>NaN</td>\n",
       "    </tr>\n",
       "  </tbody>\n",
       "</table>\n",
       "</div>"
      ],
      "text/plain": [
       "             Open   High    Low  Close    Volume    Change  ma20  stdev\n",
       "Date                                                                   \n",
       "2020-01-02  55500  56000  55000  55200  12993228 -0.010753   NaN    NaN\n",
       "2020-01-03  56000  56600  54900  55500  15422255  0.005435   NaN    NaN\n",
       "2020-01-06  54900  55600  54600  55500  10278951  0.000000   NaN    NaN\n",
       "2020-01-07  55700  56400  55600  55800  10009778  0.005405   NaN    NaN\n",
       "2020-01-08  56200  57400  55900  56800  23501171  0.017921   NaN    NaN"
      ]
     },
     "execution_count": 44,
     "metadata": {},
     "output_type": "execute_result"
    }
   ],
   "source": [
    "# 20일 표준편차\n",
    "df['stdev'] = df['Close'].rolling(20).std()\n",
    "df.head()"
   ]
  },
  {
   "cell_type": "code",
   "execution_count": 45,
   "id": "8028b862",
   "metadata": {
    "ExecuteTime": {
     "end_time": "2022-04-27T03:59:20.530402Z",
     "start_time": "2022-04-27T03:59:20.511423Z"
    }
   },
   "outputs": [
    {
     "data": {
      "text/html": [
       "<div>\n",
       "<style scoped>\n",
       "    .dataframe tbody tr th:only-of-type {\n",
       "        vertical-align: middle;\n",
       "    }\n",
       "\n",
       "    .dataframe tbody tr th {\n",
       "        vertical-align: top;\n",
       "    }\n",
       "\n",
       "    .dataframe thead th {\n",
       "        text-align: right;\n",
       "    }\n",
       "</style>\n",
       "<table border=\"1\" class=\"dataframe\">\n",
       "  <thead>\n",
       "    <tr style=\"text-align: right;\">\n",
       "      <th></th>\n",
       "      <th>Open</th>\n",
       "      <th>High</th>\n",
       "      <th>Low</th>\n",
       "      <th>Close</th>\n",
       "      <th>Volume</th>\n",
       "      <th>Change</th>\n",
       "      <th>ma20</th>\n",
       "      <th>stdev</th>\n",
       "      <th>upper_b</th>\n",
       "      <th>lower_b</th>\n",
       "    </tr>\n",
       "    <tr>\n",
       "      <th>Date</th>\n",
       "      <th></th>\n",
       "      <th></th>\n",
       "      <th></th>\n",
       "      <th></th>\n",
       "      <th></th>\n",
       "      <th></th>\n",
       "      <th></th>\n",
       "      <th></th>\n",
       "      <th></th>\n",
       "      <th></th>\n",
       "    </tr>\n",
       "  </thead>\n",
       "  <tbody>\n",
       "    <tr>\n",
       "      <th>2020-01-02</th>\n",
       "      <td>55500</td>\n",
       "      <td>56000</td>\n",
       "      <td>55000</td>\n",
       "      <td>55200</td>\n",
       "      <td>12993228</td>\n",
       "      <td>-0.010753</td>\n",
       "      <td>NaN</td>\n",
       "      <td>NaN</td>\n",
       "      <td>NaN</td>\n",
       "      <td>NaN</td>\n",
       "    </tr>\n",
       "    <tr>\n",
       "      <th>2020-01-03</th>\n",
       "      <td>56000</td>\n",
       "      <td>56600</td>\n",
       "      <td>54900</td>\n",
       "      <td>55500</td>\n",
       "      <td>15422255</td>\n",
       "      <td>0.005435</td>\n",
       "      <td>NaN</td>\n",
       "      <td>NaN</td>\n",
       "      <td>NaN</td>\n",
       "      <td>NaN</td>\n",
       "    </tr>\n",
       "    <tr>\n",
       "      <th>2020-01-06</th>\n",
       "      <td>54900</td>\n",
       "      <td>55600</td>\n",
       "      <td>54600</td>\n",
       "      <td>55500</td>\n",
       "      <td>10278951</td>\n",
       "      <td>0.000000</td>\n",
       "      <td>NaN</td>\n",
       "      <td>NaN</td>\n",
       "      <td>NaN</td>\n",
       "      <td>NaN</td>\n",
       "    </tr>\n",
       "    <tr>\n",
       "      <th>2020-01-07</th>\n",
       "      <td>55700</td>\n",
       "      <td>56400</td>\n",
       "      <td>55600</td>\n",
       "      <td>55800</td>\n",
       "      <td>10009778</td>\n",
       "      <td>0.005405</td>\n",
       "      <td>NaN</td>\n",
       "      <td>NaN</td>\n",
       "      <td>NaN</td>\n",
       "      <td>NaN</td>\n",
       "    </tr>\n",
       "    <tr>\n",
       "      <th>2020-01-08</th>\n",
       "      <td>56200</td>\n",
       "      <td>57400</td>\n",
       "      <td>55900</td>\n",
       "      <td>56800</td>\n",
       "      <td>23501171</td>\n",
       "      <td>0.017921</td>\n",
       "      <td>NaN</td>\n",
       "      <td>NaN</td>\n",
       "      <td>NaN</td>\n",
       "      <td>NaN</td>\n",
       "    </tr>\n",
       "  </tbody>\n",
       "</table>\n",
       "</div>"
      ],
      "text/plain": [
       "             Open   High    Low  Close    Volume    Change  ma20  stdev  \\\n",
       "Date                                                                      \n",
       "2020-01-02  55500  56000  55000  55200  12993228 -0.010753   NaN    NaN   \n",
       "2020-01-03  56000  56600  54900  55500  15422255  0.005435   NaN    NaN   \n",
       "2020-01-06  54900  55600  54600  55500  10278951  0.000000   NaN    NaN   \n",
       "2020-01-07  55700  56400  55600  55800  10009778  0.005405   NaN    NaN   \n",
       "2020-01-08  56200  57400  55900  56800  23501171  0.017921   NaN    NaN   \n",
       "\n",
       "            upper_b  lower_b  \n",
       "Date                          \n",
       "2020-01-02      NaN      NaN  \n",
       "2020-01-03      NaN      NaN  \n",
       "2020-01-06      NaN      NaN  \n",
       "2020-01-07      NaN      NaN  \n",
       "2020-01-08      NaN      NaN  "
      ]
     },
     "execution_count": 45,
     "metadata": {},
     "output_type": "execute_result"
    }
   ],
   "source": [
    "# 변동률이 정규분포와 비슷한 분포를 이루기 때문에 통계적으로 95%의 주가데이터가 존재함!\n",
    "# 5%는 벗어날수 있지만 -> 그 이후엔 들어올 것이다! 라는 해석도 가능\n",
    "\n",
    "df['upper_b'] = df['ma20'] + (df['stdev']*2)\n",
    "df['lower_b'] = df['ma20'] - (df['stdev']*2)\n",
    "df.head()"
   ]
  },
  {
   "cell_type": "code",
   "execution_count": 48,
   "id": "62b3b8cc",
   "metadata": {
    "ExecuteTime": {
     "end_time": "2022-04-27T04:04:28.877977Z",
     "start_time": "2022-04-27T04:04:28.703444Z"
    }
   },
   "outputs": [
    {
     "data": {
      "text/plain": [
       "<matplotlib.collections.PolyCollection at 0x2dd54f4af70>"
      ]
     },
     "execution_count": 48,
     "metadata": {},
     "output_type": "execute_result"
    },
    {
     "data": {
      "image/png": "[encoded data removed]",
      "text/plain": [
       "<Figure size 1080x360 with 1 Axes>"
      ]
     },
     "metadata": {
      "needs_background": "light"
     },
     "output_type": "display_data"
    }
   ],
   "source": [
    "df[['upper_b','lower_b','ma20','Close']][100:].plot(figsize=(15,5))\n",
    "plt.fill_between(df.index, df.lower_b, df.upper_b, alpha=0.2)"
   ]
  },
  {
   "cell_type": "code",
   "execution_count": null,
   "id": "935d693a",
   "metadata": {},
   "outputs": [],
   "source": []
  },
  {
   "cell_type": "markdown",
   "id": "287fd590",
   "metadata": {},
   "source": [
    "## 매도 매수 포지션 정해보기"
   ]
  },
  {
   "cell_type": "code",
   "execution_count": 126,
   "id": "13eae530",
   "metadata": {
    "ExecuteTime": {
     "end_time": "2022-04-27T08:35:20.992472Z",
     "start_time": "2022-04-27T08:35:20.880772Z"
    }
   },
   "outputs": [],
   "source": [
    "df = fdr.DataReader('005930','2020','2023')\n",
    "df['ma20'] = df['Close'].rolling(20).mean()\n",
    "df['stdev'] = df['Close'].rolling(20).std()\n",
    "df['upper_b'] = df['ma20'] + (df['stdev']*2)\n",
    "df['lower_b'] = df['ma20'] - (df['stdev']*2)\n"
   ]
  },
  {
   "cell_type": "code",
   "execution_count": 127,
   "id": "85c394d7",
   "metadata": {
    "ExecuteTime": {
     "end_time": "2022-04-27T08:35:21.072259Z",
     "start_time": "2022-04-27T08:35:21.056301Z"
    }
   },
   "outputs": [
    {
     "data": {
      "text/html": [
       "<div>\n",
       "<style scoped>\n",
       "    .dataframe tbody tr th:only-of-type {\n",
       "        vertical-align: middle;\n",
       "    }\n",
       "\n",
       "    .dataframe tbody tr th {\n",
       "        vertical-align: top;\n",
       "    }\n",
       "\n",
       "    .dataframe thead th {\n",
       "        text-align: right;\n",
       "    }\n",
       "</style>\n",
       "<table border=\"1\" class=\"dataframe\">\n",
       "  <thead>\n",
       "    <tr style=\"text-align: right;\">\n",
       "      <th></th>\n",
       "      <th>Open</th>\n",
       "      <th>High</th>\n",
       "      <th>Low</th>\n",
       "      <th>Close</th>\n",
       "      <th>Volume</th>\n",
       "      <th>Change</th>\n",
       "      <th>ma20</th>\n",
       "      <th>stdev</th>\n",
       "      <th>upper_b</th>\n",
       "      <th>lower_b</th>\n",
       "    </tr>\n",
       "    <tr>\n",
       "      <th>Date</th>\n",
       "      <th></th>\n",
       "      <th></th>\n",
       "      <th></th>\n",
       "      <th></th>\n",
       "      <th></th>\n",
       "      <th></th>\n",
       "      <th></th>\n",
       "      <th></th>\n",
       "      <th></th>\n",
       "      <th></th>\n",
       "    </tr>\n",
       "  </thead>\n",
       "  <tbody>\n",
       "    <tr>\n",
       "      <th>2020-01-02</th>\n",
       "      <td>55500</td>\n",
       "      <td>56000</td>\n",
       "      <td>55000</td>\n",
       "      <td>55200</td>\n",
       "      <td>12993228</td>\n",
       "      <td>-0.010753</td>\n",
       "      <td>NaN</td>\n",
       "      <td>NaN</td>\n",
       "      <td>NaN</td>\n",
       "      <td>NaN</td>\n",
       "    </tr>\n",
       "    <tr>\n",
       "      <th>2020-01-03</th>\n",
       "      <td>56000</td>\n",
       "      <td>56600</td>\n",
       "      <td>54900</td>\n",
       "      <td>55500</td>\n",
       "      <td>15422255</td>\n",
       "      <td>0.005435</td>\n",
       "      <td>NaN</td>\n",
       "      <td>NaN</td>\n",
       "      <td>NaN</td>\n",
       "      <td>NaN</td>\n",
       "    </tr>\n",
       "    <tr>\n",
       "      <th>2020-01-06</th>\n",
       "      <td>54900</td>\n",
       "      <td>55600</td>\n",
       "      <td>54600</td>\n",
       "      <td>55500</td>\n",
       "      <td>10278951</td>\n",
       "      <td>0.000000</td>\n",
       "      <td>NaN</td>\n",
       "      <td>NaN</td>\n",
       "      <td>NaN</td>\n",
       "      <td>NaN</td>\n",
       "    </tr>\n",
       "    <tr>\n",
       "      <th>2020-01-07</th>\n",
       "      <td>55700</td>\n",
       "      <td>56400</td>\n",
       "      <td>55600</td>\n",
       "      <td>55800</td>\n",
       "      <td>10009778</td>\n",
       "      <td>0.005405</td>\n",
       "      <td>NaN</td>\n",
       "      <td>NaN</td>\n",
       "      <td>NaN</td>\n",
       "      <td>NaN</td>\n",
       "    </tr>\n",
       "    <tr>\n",
       "      <th>2020-01-08</th>\n",
       "      <td>56200</td>\n",
       "      <td>57400</td>\n",
       "      <td>55900</td>\n",
       "      <td>56800</td>\n",
       "      <td>23501171</td>\n",
       "      <td>0.017921</td>\n",
       "      <td>NaN</td>\n",
       "      <td>NaN</td>\n",
       "      <td>NaN</td>\n",
       "      <td>NaN</td>\n",
       "    </tr>\n",
       "  </tbody>\n",
       "</table>\n",
       "</div>"
      ],
      "text/plain": [
       "             Open   High    Low  Close    Volume    Change  ma20  stdev  \\\n",
       "Date                                                                      \n",
       "2020-01-02  55500  56000  55000  55200  12993228 -0.010753   NaN    NaN   \n",
       "2020-01-03  56000  56600  54900  55500  15422255  0.005435   NaN    NaN   \n",
       "2020-01-06  54900  55600  54600  55500  10278951  0.000000   NaN    NaN   \n",
       "2020-01-07  55700  56400  55600  55800  10009778  0.005405   NaN    NaN   \n",
       "2020-01-08  56200  57400  55900  56800  23501171  0.017921   NaN    NaN   \n",
       "\n",
       "            upper_b  lower_b  \n",
       "Date                          \n",
       "2020-01-02      NaN      NaN  \n",
       "2020-01-03      NaN      NaN  \n",
       "2020-01-06      NaN      NaN  \n",
       "2020-01-07      NaN      NaN  \n",
       "2020-01-08      NaN      NaN  "
      ]
     },
     "execution_count": 127,
     "metadata": {},
     "output_type": "execute_result"
    }
   ],
   "source": [
    "df.head()"
   ]
  },
  {
   "cell_type": "markdown",
   "id": "b763d4e5",
   "metadata": {},
   "source": [
    "### 매수 : 주가가 20ma 보다 작을때"
   ]
  },
  {
   "cell_type": "markdown",
   "id": "40cba952",
   "metadata": {},
   "source": [
    "### 매도: 주가가 20ma를 dead cross"
   ]
  },
  {
   "cell_type": "code",
   "execution_count": null,
   "id": "69af26e7",
   "metadata": {},
   "outputs": [],
   "source": []
  },
  {
   "cell_type": "code",
   "execution_count": 128,
   "id": "76370d0d",
   "metadata": {
    "ExecuteTime": {
     "end_time": "2022-04-27T08:35:31.768683Z",
     "start_time": "2022-04-27T08:35:31.744724Z"
    }
   },
   "outputs": [
    {
     "data": {
      "text/html": [
       "<div>\n",
       "<style scoped>\n",
       "    .dataframe tbody tr th:only-of-type {\n",
       "        vertical-align: middle;\n",
       "    }\n",
       "\n",
       "    .dataframe tbody tr th {\n",
       "        vertical-align: top;\n",
       "    }\n",
       "\n",
       "    .dataframe thead th {\n",
       "        text-align: right;\n",
       "    }\n",
       "</style>\n",
       "<table border=\"1\" class=\"dataframe\">\n",
       "  <thead>\n",
       "    <tr style=\"text-align: right;\">\n",
       "      <th></th>\n",
       "      <th>Open</th>\n",
       "      <th>High</th>\n",
       "      <th>Low</th>\n",
       "      <th>Close</th>\n",
       "      <th>Volume</th>\n",
       "      <th>Change</th>\n",
       "      <th>ma20</th>\n",
       "      <th>stdev</th>\n",
       "      <th>upper_b</th>\n",
       "      <th>lower_b</th>\n",
       "      <th>stock_pos</th>\n",
       "      <th>buy_sig</th>\n",
       "    </tr>\n",
       "    <tr>\n",
       "      <th>Date</th>\n",
       "      <th></th>\n",
       "      <th></th>\n",
       "      <th></th>\n",
       "      <th></th>\n",
       "      <th></th>\n",
       "      <th></th>\n",
       "      <th></th>\n",
       "      <th></th>\n",
       "      <th></th>\n",
       "      <th></th>\n",
       "      <th></th>\n",
       "      <th></th>\n",
       "    </tr>\n",
       "  </thead>\n",
       "  <tbody>\n",
       "    <tr>\n",
       "      <th>2020-01-02</th>\n",
       "      <td>55500</td>\n",
       "      <td>56000</td>\n",
       "      <td>55000</td>\n",
       "      <td>55200</td>\n",
       "      <td>12993228</td>\n",
       "      <td>-0.010753</td>\n",
       "      <td>NaN</td>\n",
       "      <td>NaN</td>\n",
       "      <td>NaN</td>\n",
       "      <td>NaN</td>\n",
       "      <td>0</td>\n",
       "      <td>False</td>\n",
       "    </tr>\n",
       "    <tr>\n",
       "      <th>2020-01-03</th>\n",
       "      <td>56000</td>\n",
       "      <td>56600</td>\n",
       "      <td>54900</td>\n",
       "      <td>55500</td>\n",
       "      <td>15422255</td>\n",
       "      <td>0.005435</td>\n",
       "      <td>NaN</td>\n",
       "      <td>NaN</td>\n",
       "      <td>NaN</td>\n",
       "      <td>NaN</td>\n",
       "      <td>0</td>\n",
       "      <td>False</td>\n",
       "    </tr>\n",
       "    <tr>\n",
       "      <th>2020-01-06</th>\n",
       "      <td>54900</td>\n",
       "      <td>55600</td>\n",
       "      <td>54600</td>\n",
       "      <td>55500</td>\n",
       "      <td>10278951</td>\n",
       "      <td>0.000000</td>\n",
       "      <td>NaN</td>\n",
       "      <td>NaN</td>\n",
       "      <td>NaN</td>\n",
       "      <td>NaN</td>\n",
       "      <td>0</td>\n",
       "      <td>False</td>\n",
       "    </tr>\n",
       "    <tr>\n",
       "      <th>2020-01-07</th>\n",
       "      <td>55700</td>\n",
       "      <td>56400</td>\n",
       "      <td>55600</td>\n",
       "      <td>55800</td>\n",
       "      <td>10009778</td>\n",
       "      <td>0.005405</td>\n",
       "      <td>NaN</td>\n",
       "      <td>NaN</td>\n",
       "      <td>NaN</td>\n",
       "      <td>NaN</td>\n",
       "      <td>0</td>\n",
       "      <td>False</td>\n",
       "    </tr>\n",
       "    <tr>\n",
       "      <th>2020-01-08</th>\n",
       "      <td>56200</td>\n",
       "      <td>57400</td>\n",
       "      <td>55900</td>\n",
       "      <td>56800</td>\n",
       "      <td>23501171</td>\n",
       "      <td>0.017921</td>\n",
       "      <td>NaN</td>\n",
       "      <td>NaN</td>\n",
       "      <td>NaN</td>\n",
       "      <td>NaN</td>\n",
       "      <td>0</td>\n",
       "      <td>False</td>\n",
       "    </tr>\n",
       "    <tr>\n",
       "      <th>...</th>\n",
       "      <td>...</td>\n",
       "      <td>...</td>\n",
       "      <td>...</td>\n",
       "      <td>...</td>\n",
       "      <td>...</td>\n",
       "      <td>...</td>\n",
       "      <td>...</td>\n",
       "      <td>...</td>\n",
       "      <td>...</td>\n",
       "      <td>...</td>\n",
       "      <td>...</td>\n",
       "      <td>...</td>\n",
       "    </tr>\n",
       "    <tr>\n",
       "      <th>2022-04-21</th>\n",
       "      <td>67600</td>\n",
       "      <td>68300</td>\n",
       "      <td>67500</td>\n",
       "      <td>67700</td>\n",
       "      <td>12847448</td>\n",
       "      <td>0.004451</td>\n",
       "      <td>68395.0</td>\n",
       "      <td>1146.837758</td>\n",
       "      <td>70688.675515</td>\n",
       "      <td>66101.324485</td>\n",
       "      <td>0</td>\n",
       "      <td>False</td>\n",
       "    </tr>\n",
       "    <tr>\n",
       "      <th>2022-04-22</th>\n",
       "      <td>67200</td>\n",
       "      <td>67300</td>\n",
       "      <td>66700</td>\n",
       "      <td>67000</td>\n",
       "      <td>11791478</td>\n",
       "      <td>-0.010340</td>\n",
       "      <td>68255.0</td>\n",
       "      <td>1137.159434</td>\n",
       "      <td>70529.318869</td>\n",
       "      <td>65980.681131</td>\n",
       "      <td>0</td>\n",
       "      <td>False</td>\n",
       "    </tr>\n",
       "    <tr>\n",
       "      <th>2022-04-25</th>\n",
       "      <td>66500</td>\n",
       "      <td>66700</td>\n",
       "      <td>66300</td>\n",
       "      <td>66300</td>\n",
       "      <td>11016474</td>\n",
       "      <td>-0.010448</td>\n",
       "      <td>68085.0</td>\n",
       "      <td>1163.603749</td>\n",
       "      <td>70412.207498</td>\n",
       "      <td>65757.792502</td>\n",
       "      <td>0</td>\n",
       "      <td>False</td>\n",
       "    </tr>\n",
       "    <tr>\n",
       "      <th>2022-04-26</th>\n",
       "      <td>66400</td>\n",
       "      <td>66700</td>\n",
       "      <td>66100</td>\n",
       "      <td>66100</td>\n",
       "      <td>12946923</td>\n",
       "      <td>-0.003017</td>\n",
       "      <td>67880.0</td>\n",
       "      <td>1132.114928</td>\n",
       "      <td>70144.229856</td>\n",
       "      <td>65615.770144</td>\n",
       "      <td>0</td>\n",
       "      <td>False</td>\n",
       "    </tr>\n",
       "    <tr>\n",
       "      <th>2022-04-27</th>\n",
       "      <td>65400</td>\n",
       "      <td>65500</td>\n",
       "      <td>64900</td>\n",
       "      <td>65000</td>\n",
       "      <td>17991668</td>\n",
       "      <td>-0.016641</td>\n",
       "      <td>67635.0</td>\n",
       "      <td>1200.120608</td>\n",
       "      <td>70035.241216</td>\n",
       "      <td>65234.758784</td>\n",
       "      <td>0</td>\n",
       "      <td>True</td>\n",
       "    </tr>\n",
       "  </tbody>\n",
       "</table>\n",
       "<p>574 rows × 12 columns</p>\n",
       "</div>"
      ],
      "text/plain": [
       "             Open   High    Low  Close    Volume    Change     ma20  \\\n",
       "Date                                                                  \n",
       "2020-01-02  55500  56000  55000  55200  12993228 -0.010753      NaN   \n",
       "2020-01-03  56000  56600  54900  55500  15422255  0.005435      NaN   \n",
       "2020-01-06  54900  55600  54600  55500  10278951  0.000000      NaN   \n",
       "2020-01-07  55700  56400  55600  55800  10009778  0.005405      NaN   \n",
       "2020-01-08  56200  57400  55900  56800  23501171  0.017921      NaN   \n",
       "...           ...    ...    ...    ...       ...       ...      ...   \n",
       "2022-04-21  67600  68300  67500  67700  12847448  0.004451  68395.0   \n",
       "2022-04-22  67200  67300  66700  67000  11791478 -0.010340  68255.0   \n",
       "2022-04-25  66500  66700  66300  66300  11016474 -0.010448  68085.0   \n",
       "2022-04-26  66400  66700  66100  66100  12946923 -0.003017  67880.0   \n",
       "2022-04-27  65400  65500  64900  65000  17991668 -0.016641  67635.0   \n",
       "\n",
       "                  stdev       upper_b       lower_b  stock_pos  buy_sig  \n",
       "Date                                                                     \n",
       "2020-01-02          NaN           NaN           NaN          0    False  \n",
       "2020-01-03          NaN           NaN           NaN          0    False  \n",
       "2020-01-06          NaN           NaN           NaN          0    False  \n",
       "2020-01-07          NaN           NaN           NaN          0    False  \n",
       "2020-01-08          NaN           NaN           NaN          0    False  \n",
       "...                 ...           ...           ...        ...      ...  \n",
       "2022-04-21  1146.837758  70688.675515  66101.324485          0    False  \n",
       "2022-04-22  1137.159434  70529.318869  65980.681131          0    False  \n",
       "2022-04-25  1163.603749  70412.207498  65757.792502          0    False  \n",
       "2022-04-26  1132.114928  70144.229856  65615.770144          0    False  \n",
       "2022-04-27  1200.120608  70035.241216  65234.758784          0     True  \n",
       "\n",
       "[574 rows x 12 columns]"
      ]
     },
     "execution_count": 128,
     "metadata": {},
     "output_type": "execute_result"
    }
   ],
   "source": [
    "df['stock_pos'] = 0\n",
    "# 매수\n",
    "df['buy_sig'] = (df['Close'] <= df['lower_b'])\n",
    "df"
   ]
  },
  {
   "cell_type": "code",
   "execution_count": 130,
   "id": "146d65a6",
   "metadata": {
    "ExecuteTime": {
     "end_time": "2022-04-27T08:36:25.394693Z",
     "start_time": "2022-04-27T08:36:25.376741Z"
    }
   },
   "outputs": [
    {
     "data": {
      "text/html": [
       "<div>\n",
       "<style scoped>\n",
       "    .dataframe tbody tr th:only-of-type {\n",
       "        vertical-align: middle;\n",
       "    }\n",
       "\n",
       "    .dataframe tbody tr th {\n",
       "        vertical-align: top;\n",
       "    }\n",
       "\n",
       "    .dataframe thead th {\n",
       "        text-align: right;\n",
       "    }\n",
       "</style>\n",
       "<table border=\"1\" class=\"dataframe\">\n",
       "  <thead>\n",
       "    <tr style=\"text-align: right;\">\n",
       "      <th></th>\n",
       "      <th>Open</th>\n",
       "      <th>High</th>\n",
       "      <th>Low</th>\n",
       "      <th>Close</th>\n",
       "      <th>Volume</th>\n",
       "      <th>Change</th>\n",
       "      <th>ma20</th>\n",
       "      <th>stdev</th>\n",
       "      <th>upper_b</th>\n",
       "      <th>lower_b</th>\n",
       "      <th>stock_pos</th>\n",
       "      <th>buy_sig</th>\n",
       "      <th>sell_sig</th>\n",
       "    </tr>\n",
       "    <tr>\n",
       "      <th>Date</th>\n",
       "      <th></th>\n",
       "      <th></th>\n",
       "      <th></th>\n",
       "      <th></th>\n",
       "      <th></th>\n",
       "      <th></th>\n",
       "      <th></th>\n",
       "      <th></th>\n",
       "      <th></th>\n",
       "      <th></th>\n",
       "      <th></th>\n",
       "      <th></th>\n",
       "      <th></th>\n",
       "    </tr>\n",
       "  </thead>\n",
       "  <tbody>\n",
       "    <tr>\n",
       "      <th>2020-01-02</th>\n",
       "      <td>55500</td>\n",
       "      <td>56000</td>\n",
       "      <td>55000</td>\n",
       "      <td>55200</td>\n",
       "      <td>12993228</td>\n",
       "      <td>-0.010753</td>\n",
       "      <td>NaN</td>\n",
       "      <td>NaN</td>\n",
       "      <td>NaN</td>\n",
       "      <td>NaN</td>\n",
       "      <td>0</td>\n",
       "      <td>False</td>\n",
       "      <td>False</td>\n",
       "    </tr>\n",
       "    <tr>\n",
       "      <th>2020-01-03</th>\n",
       "      <td>56000</td>\n",
       "      <td>56600</td>\n",
       "      <td>54900</td>\n",
       "      <td>55500</td>\n",
       "      <td>15422255</td>\n",
       "      <td>0.005435</td>\n",
       "      <td>NaN</td>\n",
       "      <td>NaN</td>\n",
       "      <td>NaN</td>\n",
       "      <td>NaN</td>\n",
       "      <td>0</td>\n",
       "      <td>False</td>\n",
       "      <td>False</td>\n",
       "    </tr>\n",
       "    <tr>\n",
       "      <th>2020-01-06</th>\n",
       "      <td>54900</td>\n",
       "      <td>55600</td>\n",
       "      <td>54600</td>\n",
       "      <td>55500</td>\n",
       "      <td>10278951</td>\n",
       "      <td>0.000000</td>\n",
       "      <td>NaN</td>\n",
       "      <td>NaN</td>\n",
       "      <td>NaN</td>\n",
       "      <td>NaN</td>\n",
       "      <td>0</td>\n",
       "      <td>False</td>\n",
       "      <td>False</td>\n",
       "    </tr>\n",
       "    <tr>\n",
       "      <th>2020-01-07</th>\n",
       "      <td>55700</td>\n",
       "      <td>56400</td>\n",
       "      <td>55600</td>\n",
       "      <td>55800</td>\n",
       "      <td>10009778</td>\n",
       "      <td>0.005405</td>\n",
       "      <td>NaN</td>\n",
       "      <td>NaN</td>\n",
       "      <td>NaN</td>\n",
       "      <td>NaN</td>\n",
       "      <td>0</td>\n",
       "      <td>False</td>\n",
       "      <td>False</td>\n",
       "    </tr>\n",
       "    <tr>\n",
       "      <th>2020-01-08</th>\n",
       "      <td>56200</td>\n",
       "      <td>57400</td>\n",
       "      <td>55900</td>\n",
       "      <td>56800</td>\n",
       "      <td>23501171</td>\n",
       "      <td>0.017921</td>\n",
       "      <td>NaN</td>\n",
       "      <td>NaN</td>\n",
       "      <td>NaN</td>\n",
       "      <td>NaN</td>\n",
       "      <td>0</td>\n",
       "      <td>False</td>\n",
       "      <td>False</td>\n",
       "    </tr>\n",
       "    <tr>\n",
       "      <th>...</th>\n",
       "      <td>...</td>\n",
       "      <td>...</td>\n",
       "      <td>...</td>\n",
       "      <td>...</td>\n",
       "      <td>...</td>\n",
       "      <td>...</td>\n",
       "      <td>...</td>\n",
       "      <td>...</td>\n",
       "      <td>...</td>\n",
       "      <td>...</td>\n",
       "      <td>...</td>\n",
       "      <td>...</td>\n",
       "      <td>...</td>\n",
       "    </tr>\n",
       "    <tr>\n",
       "      <th>2022-04-21</th>\n",
       "      <td>67600</td>\n",
       "      <td>68300</td>\n",
       "      <td>67500</td>\n",
       "      <td>67700</td>\n",
       "      <td>12847448</td>\n",
       "      <td>0.004451</td>\n",
       "      <td>68395.0</td>\n",
       "      <td>1146.837758</td>\n",
       "      <td>70688.675515</td>\n",
       "      <td>66101.324485</td>\n",
       "      <td>0</td>\n",
       "      <td>False</td>\n",
       "      <td>False</td>\n",
       "    </tr>\n",
       "    <tr>\n",
       "      <th>2022-04-22</th>\n",
       "      <td>67200</td>\n",
       "      <td>67300</td>\n",
       "      <td>66700</td>\n",
       "      <td>67000</td>\n",
       "      <td>11791478</td>\n",
       "      <td>-0.010340</td>\n",
       "      <td>68255.0</td>\n",
       "      <td>1137.159434</td>\n",
       "      <td>70529.318869</td>\n",
       "      <td>65980.681131</td>\n",
       "      <td>0</td>\n",
       "      <td>False</td>\n",
       "      <td>False</td>\n",
       "    </tr>\n",
       "    <tr>\n",
       "      <th>2022-04-25</th>\n",
       "      <td>66500</td>\n",
       "      <td>66700</td>\n",
       "      <td>66300</td>\n",
       "      <td>66300</td>\n",
       "      <td>11016474</td>\n",
       "      <td>-0.010448</td>\n",
       "      <td>68085.0</td>\n",
       "      <td>1163.603749</td>\n",
       "      <td>70412.207498</td>\n",
       "      <td>65757.792502</td>\n",
       "      <td>0</td>\n",
       "      <td>False</td>\n",
       "      <td>False</td>\n",
       "    </tr>\n",
       "    <tr>\n",
       "      <th>2022-04-26</th>\n",
       "      <td>66400</td>\n",
       "      <td>66700</td>\n",
       "      <td>66100</td>\n",
       "      <td>66100</td>\n",
       "      <td>12946923</td>\n",
       "      <td>-0.003017</td>\n",
       "      <td>67880.0</td>\n",
       "      <td>1132.114928</td>\n",
       "      <td>70144.229856</td>\n",
       "      <td>65615.770144</td>\n",
       "      <td>0</td>\n",
       "      <td>False</td>\n",
       "      <td>False</td>\n",
       "    </tr>\n",
       "    <tr>\n",
       "      <th>2022-04-27</th>\n",
       "      <td>65400</td>\n",
       "      <td>65500</td>\n",
       "      <td>64900</td>\n",
       "      <td>65000</td>\n",
       "      <td>17991668</td>\n",
       "      <td>-0.016641</td>\n",
       "      <td>67635.0</td>\n",
       "      <td>1200.120608</td>\n",
       "      <td>70035.241216</td>\n",
       "      <td>65234.758784</td>\n",
       "      <td>0</td>\n",
       "      <td>True</td>\n",
       "      <td>False</td>\n",
       "    </tr>\n",
       "  </tbody>\n",
       "</table>\n",
       "<p>574 rows × 13 columns</p>\n",
       "</div>"
      ],
      "text/plain": [
       "             Open   High    Low  Close    Volume    Change     ma20  \\\n",
       "Date                                                                  \n",
       "2020-01-02  55500  56000  55000  55200  12993228 -0.010753      NaN   \n",
       "2020-01-03  56000  56600  54900  55500  15422255  0.005435      NaN   \n",
       "2020-01-06  54900  55600  54600  55500  10278951  0.000000      NaN   \n",
       "2020-01-07  55700  56400  55600  55800  10009778  0.005405      NaN   \n",
       "2020-01-08  56200  57400  55900  56800  23501171  0.017921      NaN   \n",
       "...           ...    ...    ...    ...       ...       ...      ...   \n",
       "2022-04-21  67600  68300  67500  67700  12847448  0.004451  68395.0   \n",
       "2022-04-22  67200  67300  66700  67000  11791478 -0.010340  68255.0   \n",
       "2022-04-25  66500  66700  66300  66300  11016474 -0.010448  68085.0   \n",
       "2022-04-26  66400  66700  66100  66100  12946923 -0.003017  67880.0   \n",
       "2022-04-27  65400  65500  64900  65000  17991668 -0.016641  67635.0   \n",
       "\n",
       "                  stdev       upper_b       lower_b  stock_pos  buy_sig  \\\n",
       "Date                                                                      \n",
       "2020-01-02          NaN           NaN           NaN          0    False   \n",
       "2020-01-03          NaN           NaN           NaN          0    False   \n",
       "2020-01-06          NaN           NaN           NaN          0    False   \n",
       "2020-01-07          NaN           NaN           NaN          0    False   \n",
       "2020-01-08          NaN           NaN           NaN          0    False   \n",
       "...                 ...           ...           ...        ...      ...   \n",
       "2022-04-21  1146.837758  70688.675515  66101.324485          0    False   \n",
       "2022-04-22  1137.159434  70529.318869  65980.681131          0    False   \n",
       "2022-04-25  1163.603749  70412.207498  65757.792502          0    False   \n",
       "2022-04-26  1132.114928  70144.229856  65615.770144          0    False   \n",
       "2022-04-27  1200.120608  70035.241216  65234.758784          0     True   \n",
       "\n",
       "            sell_sig  \n",
       "Date                  \n",
       "2020-01-02     False  \n",
       "2020-01-03     False  \n",
       "2020-01-06     False  \n",
       "2020-01-07     False  \n",
       "2020-01-08     False  \n",
       "...              ...  \n",
       "2022-04-21     False  \n",
       "2022-04-22     False  \n",
       "2022-04-25     False  \n",
       "2022-04-26     False  \n",
       "2022-04-27     False  \n",
       "\n",
       "[574 rows x 13 columns]"
      ]
     },
     "execution_count": 130,
     "metadata": {},
     "output_type": "execute_result"
    }
   ],
   "source": [
    "# 전일에는 이동평균선보다 위에있고 당일에 20ma를 하회할때 \n",
    "df['sell_sig'] = (df['Close'].shift(1) > df['ma20'].shift(1)) & (df['Close'] < df['ma20'])\n",
    "df"
   ]
  },
  {
   "cell_type": "code",
   "execution_count": null,
   "id": "60d3af08",
   "metadata": {},
   "outputs": [],
   "source": [
    "df['buy_sig'] = df['buy_sig'].apply(int)\n",
    "df['sell_sig'] = df['sell_sig'].apply(int)"
   ]
  },
  {
   "cell_type": "code",
   "execution_count": null,
   "id": "844848ee",
   "metadata": {},
   "outputs": [],
   "source": [
    "con_df = df[(df.buy_sig == 1) | (df.sell_sig == 1)].sort_index()"
   ]
  },
  {
   "cell_type": "code",
   "execution_count": null,
   "id": "c31d1be3",
   "metadata": {},
   "outputs": [],
   "source": [
    "con_df = con_df.loc['2020-02-28':]"
   ]
  },
  {
   "cell_type": "code",
   "execution_count": null,
   "id": "2ac443d5",
   "metadata": {},
   "outputs": [],
   "source": [
    "# pd.set_option('display.max_rows', 500)"
   ]
  },
  {
   "cell_type": "code",
   "execution_count": null,
   "id": "108c33ce",
   "metadata": {},
   "outputs": [],
   "source": [
    "# 전일에는 매수신호가 없는데 당일에 있는경우\n",
    "buy_df = con_df[(con_df['buy_sig'] == 1) & (con_df['buy_sig'].shift(1) == 0)].loc['2020-08-31':'2022-02-11']\n",
    "sell_df = con_df[(con_df['sell_sig'] == 1) & (con_df['sell_sig'].shift(1) ==0)].loc['2020-08-31':'2022-02-11']"
   ]
  },
  {
   "cell_type": "code",
   "execution_count": null,
   "id": "987fc06e",
   "metadata": {},
   "outputs": [],
   "source": [
    "sell_df.Close.values - buy_df.Close.values"
   ]
  },
  {
   "cell_type": "code",
   "execution_count": null,
   "id": "4ffde747",
   "metadata": {},
   "outputs": [],
   "source": []
  },
  {
   "cell_type": "code",
   "execution_count": null,
   "id": "ba006951",
   "metadata": {},
   "outputs": [],
   "source": [
    "buy_df[['Close','ma20']].reset_index()"
   ]
  },
  {
   "cell_type": "code",
   "execution_count": null,
   "id": "6b0525a0",
   "metadata": {},
   "outputs": [],
   "source": [
    "sell_df[['Close', 'ma20']].reset_index()"
   ]
  },
  {
   "cell_type": "code",
   "execution_count": null,
   "id": "f0870388",
   "metadata": {},
   "outputs": [],
   "source": [
    "merge_df = pd.merge(buy_df[['Close','ma20']].reset_index(), sell_df[['Close', 'ma20']].reset_index(), right_index=True, left_index=True)"
   ]
  },
  {
   "cell_type": "code",
   "execution_count": null,
   "id": "51ccdb5c",
   "metadata": {},
   "outputs": [],
   "source": [
    "merge_df['margin'] = merge_df['Close_y'] - merge_df['Close_x']"
   ]
  },
  {
   "cell_type": "code",
   "execution_count": null,
   "id": "8a0ba341",
   "metadata": {},
   "outputs": [],
   "source": [
    "merge_df['return'] = (merge_df['margin']/merge_df['Close_x']) +1"
   ]
  },
  {
   "cell_type": "code",
   "execution_count": null,
   "id": "ab2e9077",
   "metadata": {},
   "outputs": [],
   "source": [
    "merge_df['cu_return'] = merge_df['return'].cumprod()"
   ]
  },
  {
   "cell_type": "code",
   "execution_count": null,
   "id": "3fa2003c",
   "metadata": {},
   "outputs": [],
   "source": [
    "merge_df"
   ]
  },
  {
   "cell_type": "code",
   "execution_count": null,
   "id": "012e5c2a",
   "metadata": {},
   "outputs": [],
   "source": []
  },
  {
   "cell_type": "code",
   "execution_count": null,
   "id": "b76c50ee",
   "metadata": {},
   "outputs": [],
   "source": []
  },
  {
   "cell_type": "markdown",
   "id": "363deb3e",
   "metadata": {},
   "source": [
    "## RSI"
   ]
  },
  {
   "cell_type": "code",
   "execution_count": 65,
   "id": "eec41762",
   "metadata": {
    "ExecuteTime": {
     "end_time": "2022-04-27T05:53:56.370385Z",
     "start_time": "2022-04-27T05:53:56.354427Z"
    }
   },
   "outputs": [],
   "source": [
    "# 기간=14일\n",
    "# 가격이 전일보다 상승한 날의 상승분은 U\n",
    "# 가격이 전일보다 하락한 경우하락분 D\n",
    "\n",
    "# U의 평균값을 AU\n",
    "# D의 평균값을 AD\n",
    "\n",
    "# RSI = AU/ (AU+AD) : 1~0 \n",
    "\n",
    "# 0.7 이상이면 과열\n",
    "# 0.3 이하이면 침체"
   ]
  },
  {
   "cell_type": "code",
   "execution_count": null,
   "id": "0dff865a",
   "metadata": {},
   "outputs": [],
   "source": []
  },
  {
   "cell_type": "code",
   "execution_count": 66,
   "id": "be459b22",
   "metadata": {
    "ExecuteTime": {
     "end_time": "2022-04-27T05:54:29.237533Z",
     "start_time": "2022-04-27T05:54:29.119819Z"
    }
   },
   "outputs": [
    {
     "data": {
      "text/html": [
       "<div>\n",
       "<style scoped>\n",
       "    .dataframe tbody tr th:only-of-type {\n",
       "        vertical-align: middle;\n",
       "    }\n",
       "\n",
       "    .dataframe tbody tr th {\n",
       "        vertical-align: top;\n",
       "    }\n",
       "\n",
       "    .dataframe thead th {\n",
       "        text-align: right;\n",
       "    }\n",
       "</style>\n",
       "<table border=\"1\" class=\"dataframe\">\n",
       "  <thead>\n",
       "    <tr style=\"text-align: right;\">\n",
       "      <th></th>\n",
       "      <th>Open</th>\n",
       "      <th>High</th>\n",
       "      <th>Low</th>\n",
       "      <th>Close</th>\n",
       "      <th>Volume</th>\n",
       "      <th>Change</th>\n",
       "    </tr>\n",
       "    <tr>\n",
       "      <th>Date</th>\n",
       "      <th></th>\n",
       "      <th></th>\n",
       "      <th></th>\n",
       "      <th></th>\n",
       "      <th></th>\n",
       "      <th></th>\n",
       "    </tr>\n",
       "  </thead>\n",
       "  <tbody>\n",
       "    <tr>\n",
       "      <th>2020-01-02</th>\n",
       "      <td>55500</td>\n",
       "      <td>56000</td>\n",
       "      <td>55000</td>\n",
       "      <td>55200</td>\n",
       "      <td>12993228</td>\n",
       "      <td>-0.010753</td>\n",
       "    </tr>\n",
       "    <tr>\n",
       "      <th>2020-01-03</th>\n",
       "      <td>56000</td>\n",
       "      <td>56600</td>\n",
       "      <td>54900</td>\n",
       "      <td>55500</td>\n",
       "      <td>15422255</td>\n",
       "      <td>0.005435</td>\n",
       "    </tr>\n",
       "    <tr>\n",
       "      <th>2020-01-06</th>\n",
       "      <td>54900</td>\n",
       "      <td>55600</td>\n",
       "      <td>54600</td>\n",
       "      <td>55500</td>\n",
       "      <td>10278951</td>\n",
       "      <td>0.000000</td>\n",
       "    </tr>\n",
       "    <tr>\n",
       "      <th>2020-01-07</th>\n",
       "      <td>55700</td>\n",
       "      <td>56400</td>\n",
       "      <td>55600</td>\n",
       "      <td>55800</td>\n",
       "      <td>10009778</td>\n",
       "      <td>0.005405</td>\n",
       "    </tr>\n",
       "    <tr>\n",
       "      <th>2020-01-08</th>\n",
       "      <td>56200</td>\n",
       "      <td>57400</td>\n",
       "      <td>55900</td>\n",
       "      <td>56800</td>\n",
       "      <td>23501171</td>\n",
       "      <td>0.017921</td>\n",
       "    </tr>\n",
       "  </tbody>\n",
       "</table>\n",
       "</div>"
      ],
      "text/plain": [
       "             Open   High    Low  Close    Volume    Change\n",
       "Date                                                      \n",
       "2020-01-02  55500  56000  55000  55200  12993228 -0.010753\n",
       "2020-01-03  56000  56600  54900  55500  15422255  0.005435\n",
       "2020-01-06  54900  55600  54600  55500  10278951  0.000000\n",
       "2020-01-07  55700  56400  55600  55800  10009778  0.005405\n",
       "2020-01-08  56200  57400  55900  56800  23501171  0.017921"
      ]
     },
     "execution_count": 66,
     "metadata": {},
     "output_type": "execute_result"
    }
   ],
   "source": [
    "df = fdr.DataReader('005930','2020','2021')\n",
    "df.head()"
   ]
  },
  {
   "cell_type": "code",
   "execution_count": 67,
   "id": "91acaf35",
   "metadata": {
    "ExecuteTime": {
     "end_time": "2022-04-27T05:56:16.903627Z",
     "start_time": "2022-04-27T05:56:16.895649Z"
    }
   },
   "outputs": [],
   "source": [
    "def UD(diff):\n",
    "    ups = 0\n",
    "    downs = 0\n",
    "    \n",
    "    if diff>0:\n",
    "        ups =diff\n",
    "    elif diff<0:\n",
    "        downs = abs(diff)\n",
    "    \n",
    "    return pd.Series([ups, downs])\n",
    "        "
   ]
  },
  {
   "cell_type": "code",
   "execution_count": 69,
   "id": "67a79017",
   "metadata": {
    "ExecuteTime": {
     "end_time": "2022-04-27T05:57:32.237200Z",
     "start_time": "2022-04-27T05:57:32.224235Z"
    }
   },
   "outputs": [],
   "source": [
    "df['diff'] = df['Close'] - df['Close'].shift(1)"
   ]
  },
  {
   "cell_type": "code",
   "execution_count": 71,
   "id": "3d5a41f2",
   "metadata": {
    "ExecuteTime": {
     "end_time": "2022-04-27T05:59:10.962229Z",
     "start_time": "2022-04-27T05:59:10.912363Z"
    }
   },
   "outputs": [
    {
     "data": {
      "text/html": [
       "<div>\n",
       "<style scoped>\n",
       "    .dataframe tbody tr th:only-of-type {\n",
       "        vertical-align: middle;\n",
       "    }\n",
       "\n",
       "    .dataframe tbody tr th {\n",
       "        vertical-align: top;\n",
       "    }\n",
       "\n",
       "    .dataframe thead th {\n",
       "        text-align: right;\n",
       "    }\n",
       "</style>\n",
       "<table border=\"1\" class=\"dataframe\">\n",
       "  <thead>\n",
       "    <tr style=\"text-align: right;\">\n",
       "      <th></th>\n",
       "      <th>Open</th>\n",
       "      <th>High</th>\n",
       "      <th>Low</th>\n",
       "      <th>Close</th>\n",
       "      <th>Volume</th>\n",
       "      <th>Change</th>\n",
       "      <th>diff</th>\n",
       "      <th>up</th>\n",
       "      <th>down</th>\n",
       "    </tr>\n",
       "    <tr>\n",
       "      <th>Date</th>\n",
       "      <th></th>\n",
       "      <th></th>\n",
       "      <th></th>\n",
       "      <th></th>\n",
       "      <th></th>\n",
       "      <th></th>\n",
       "      <th></th>\n",
       "      <th></th>\n",
       "      <th></th>\n",
       "    </tr>\n",
       "  </thead>\n",
       "  <tbody>\n",
       "    <tr>\n",
       "      <th>2020-01-02</th>\n",
       "      <td>55500</td>\n",
       "      <td>56000</td>\n",
       "      <td>55000</td>\n",
       "      <td>55200</td>\n",
       "      <td>12993228</td>\n",
       "      <td>-0.010753</td>\n",
       "      <td>NaN</td>\n",
       "      <td>0.0</td>\n",
       "      <td>0.0</td>\n",
       "    </tr>\n",
       "    <tr>\n",
       "      <th>2020-01-03</th>\n",
       "      <td>56000</td>\n",
       "      <td>56600</td>\n",
       "      <td>54900</td>\n",
       "      <td>55500</td>\n",
       "      <td>15422255</td>\n",
       "      <td>0.005435</td>\n",
       "      <td>300.0</td>\n",
       "      <td>300.0</td>\n",
       "      <td>0.0</td>\n",
       "    </tr>\n",
       "    <tr>\n",
       "      <th>2020-01-06</th>\n",
       "      <td>54900</td>\n",
       "      <td>55600</td>\n",
       "      <td>54600</td>\n",
       "      <td>55500</td>\n",
       "      <td>10278951</td>\n",
       "      <td>0.000000</td>\n",
       "      <td>0.0</td>\n",
       "      <td>0.0</td>\n",
       "      <td>0.0</td>\n",
       "    </tr>\n",
       "    <tr>\n",
       "      <th>2020-01-07</th>\n",
       "      <td>55700</td>\n",
       "      <td>56400</td>\n",
       "      <td>55600</td>\n",
       "      <td>55800</td>\n",
       "      <td>10009778</td>\n",
       "      <td>0.005405</td>\n",
       "      <td>300.0</td>\n",
       "      <td>300.0</td>\n",
       "      <td>0.0</td>\n",
       "    </tr>\n",
       "    <tr>\n",
       "      <th>2020-01-08</th>\n",
       "      <td>56200</td>\n",
       "      <td>57400</td>\n",
       "      <td>55900</td>\n",
       "      <td>56800</td>\n",
       "      <td>23501171</td>\n",
       "      <td>0.017921</td>\n",
       "      <td>1000.0</td>\n",
       "      <td>1000.0</td>\n",
       "      <td>0.0</td>\n",
       "    </tr>\n",
       "    <tr>\n",
       "      <th>...</th>\n",
       "      <td>...</td>\n",
       "      <td>...</td>\n",
       "      <td>...</td>\n",
       "      <td>...</td>\n",
       "      <td>...</td>\n",
       "      <td>...</td>\n",
       "      <td>...</td>\n",
       "      <td>...</td>\n",
       "      <td>...</td>\n",
       "    </tr>\n",
       "    <tr>\n",
       "      <th>2020-12-23</th>\n",
       "      <td>72400</td>\n",
       "      <td>74000</td>\n",
       "      <td>72300</td>\n",
       "      <td>73900</td>\n",
       "      <td>19411326</td>\n",
       "      <td>0.022130</td>\n",
       "      <td>1600.0</td>\n",
       "      <td>1600.0</td>\n",
       "      <td>0.0</td>\n",
       "    </tr>\n",
       "    <tr>\n",
       "      <th>2020-12-24</th>\n",
       "      <td>74100</td>\n",
       "      <td>78800</td>\n",
       "      <td>74000</td>\n",
       "      <td>77800</td>\n",
       "      <td>32502870</td>\n",
       "      <td>0.052774</td>\n",
       "      <td>3900.0</td>\n",
       "      <td>3900.0</td>\n",
       "      <td>0.0</td>\n",
       "    </tr>\n",
       "    <tr>\n",
       "      <th>2020-12-28</th>\n",
       "      <td>79000</td>\n",
       "      <td>80100</td>\n",
       "      <td>78200</td>\n",
       "      <td>78700</td>\n",
       "      <td>40085044</td>\n",
       "      <td>0.011568</td>\n",
       "      <td>900.0</td>\n",
       "      <td>900.0</td>\n",
       "      <td>0.0</td>\n",
       "    </tr>\n",
       "    <tr>\n",
       "      <th>2020-12-29</th>\n",
       "      <td>78800</td>\n",
       "      <td>78900</td>\n",
       "      <td>77300</td>\n",
       "      <td>78300</td>\n",
       "      <td>30339449</td>\n",
       "      <td>-0.005083</td>\n",
       "      <td>-400.0</td>\n",
       "      <td>0.0</td>\n",
       "      <td>400.0</td>\n",
       "    </tr>\n",
       "    <tr>\n",
       "      <th>2020-12-30</th>\n",
       "      <td>77400</td>\n",
       "      <td>81300</td>\n",
       "      <td>77300</td>\n",
       "      <td>81000</td>\n",
       "      <td>29417421</td>\n",
       "      <td>0.034483</td>\n",
       "      <td>2700.0</td>\n",
       "      <td>2700.0</td>\n",
       "      <td>0.0</td>\n",
       "    </tr>\n",
       "  </tbody>\n",
       "</table>\n",
       "<p>248 rows × 9 columns</p>\n",
       "</div>"
      ],
      "text/plain": [
       "             Open   High    Low  Close    Volume    Change    diff      up  \\\n",
       "Date                                                                         \n",
       "2020-01-02  55500  56000  55000  55200  12993228 -0.010753     NaN     0.0   \n",
       "2020-01-03  56000  56600  54900  55500  15422255  0.005435   300.0   300.0   \n",
       "2020-01-06  54900  55600  54600  55500  10278951  0.000000     0.0     0.0   \n",
       "2020-01-07  55700  56400  55600  55800  10009778  0.005405   300.0   300.0   \n",
       "2020-01-08  56200  57400  55900  56800  23501171  0.017921  1000.0  1000.0   \n",
       "...           ...    ...    ...    ...       ...       ...     ...     ...   \n",
       "2020-12-23  72400  74000  72300  73900  19411326  0.022130  1600.0  1600.0   \n",
       "2020-12-24  74100  78800  74000  77800  32502870  0.052774  3900.0  3900.0   \n",
       "2020-12-28  79000  80100  78200  78700  40085044  0.011568   900.0   900.0   \n",
       "2020-12-29  78800  78900  77300  78300  30339449 -0.005083  -400.0     0.0   \n",
       "2020-12-30  77400  81300  77300  81000  29417421  0.034483  2700.0  2700.0   \n",
       "\n",
       "             down  \n",
       "Date               \n",
       "2020-01-02    0.0  \n",
       "2020-01-03    0.0  \n",
       "2020-01-06    0.0  \n",
       "2020-01-07    0.0  \n",
       "2020-01-08    0.0  \n",
       "...           ...  \n",
       "2020-12-23    0.0  \n",
       "2020-12-24    0.0  \n",
       "2020-12-28    0.0  \n",
       "2020-12-29  400.0  \n",
       "2020-12-30    0.0  \n",
       "\n",
       "[248 rows x 9 columns]"
      ]
     },
     "execution_count": 71,
     "metadata": {},
     "output_type": "execute_result"
    }
   ],
   "source": [
    "df[['up','down']] = df['diff'].apply(UD)\n",
    "df"
   ]
  },
  {
   "cell_type": "code",
   "execution_count": 73,
   "id": "4fd970af",
   "metadata": {
    "ExecuteTime": {
     "end_time": "2022-04-27T06:00:28.970679Z",
     "start_time": "2022-04-27T06:00:28.959680Z"
    }
   },
   "outputs": [],
   "source": [
    "df['AU'] = df['up'].rolling(14).mean()\n",
    "df['AD'] = df['down'].rolling(14).mean()"
   ]
  },
  {
   "cell_type": "code",
   "execution_count": 75,
   "id": "aaa9bd7a",
   "metadata": {
    "ExecuteTime": {
     "end_time": "2022-04-27T06:00:55.576757Z",
     "start_time": "2022-04-27T06:00:55.567781Z"
    }
   },
   "outputs": [
    {
     "data": {
      "text/html": [
       "<div>\n",
       "<style scoped>\n",
       "    .dataframe tbody tr th:only-of-type {\n",
       "        vertical-align: middle;\n",
       "    }\n",
       "\n",
       "    .dataframe tbody tr th {\n",
       "        vertical-align: top;\n",
       "    }\n",
       "\n",
       "    .dataframe thead th {\n",
       "        text-align: right;\n",
       "    }\n",
       "</style>\n",
       "<table border=\"1\" class=\"dataframe\">\n",
       "  <thead>\n",
       "    <tr style=\"text-align: right;\">\n",
       "      <th></th>\n",
       "      <th>Open</th>\n",
       "      <th>High</th>\n",
       "      <th>Low</th>\n",
       "      <th>Close</th>\n",
       "      <th>Volume</th>\n",
       "      <th>Change</th>\n",
       "      <th>diff</th>\n",
       "      <th>up</th>\n",
       "      <th>down</th>\n",
       "      <th>AU</th>\n",
       "      <th>AD</th>\n",
       "    </tr>\n",
       "    <tr>\n",
       "      <th>Date</th>\n",
       "      <th></th>\n",
       "      <th></th>\n",
       "      <th></th>\n",
       "      <th></th>\n",
       "      <th></th>\n",
       "      <th></th>\n",
       "      <th></th>\n",
       "      <th></th>\n",
       "      <th></th>\n",
       "      <th></th>\n",
       "      <th></th>\n",
       "    </tr>\n",
       "  </thead>\n",
       "  <tbody>\n",
       "    <tr>\n",
       "      <th>2020-01-02</th>\n",
       "      <td>55500</td>\n",
       "      <td>56000</td>\n",
       "      <td>55000</td>\n",
       "      <td>55200</td>\n",
       "      <td>12993228</td>\n",
       "      <td>-0.010753</td>\n",
       "      <td>NaN</td>\n",
       "      <td>0.0</td>\n",
       "      <td>0.0</td>\n",
       "      <td>NaN</td>\n",
       "      <td>NaN</td>\n",
       "    </tr>\n",
       "    <tr>\n",
       "      <th>2020-01-03</th>\n",
       "      <td>56000</td>\n",
       "      <td>56600</td>\n",
       "      <td>54900</td>\n",
       "      <td>55500</td>\n",
       "      <td>15422255</td>\n",
       "      <td>0.005435</td>\n",
       "      <td>300.0</td>\n",
       "      <td>300.0</td>\n",
       "      <td>0.0</td>\n",
       "      <td>NaN</td>\n",
       "      <td>NaN</td>\n",
       "    </tr>\n",
       "    <tr>\n",
       "      <th>2020-01-06</th>\n",
       "      <td>54900</td>\n",
       "      <td>55600</td>\n",
       "      <td>54600</td>\n",
       "      <td>55500</td>\n",
       "      <td>10278951</td>\n",
       "      <td>0.000000</td>\n",
       "      <td>0.0</td>\n",
       "      <td>0.0</td>\n",
       "      <td>0.0</td>\n",
       "      <td>NaN</td>\n",
       "      <td>NaN</td>\n",
       "    </tr>\n",
       "  </tbody>\n",
       "</table>\n",
       "</div>"
      ],
      "text/plain": [
       "             Open   High    Low  Close    Volume    Change   diff     up  \\\n",
       "Date                                                                       \n",
       "2020-01-02  55500  56000  55000  55200  12993228 -0.010753    NaN    0.0   \n",
       "2020-01-03  56000  56600  54900  55500  15422255  0.005435  300.0  300.0   \n",
       "2020-01-06  54900  55600  54600  55500  10278951  0.000000    0.0    0.0   \n",
       "\n",
       "            down  AU  AD  \n",
       "Date                      \n",
       "2020-01-02   0.0 NaN NaN  \n",
       "2020-01-03   0.0 NaN NaN  \n",
       "2020-01-06   0.0 NaN NaN  "
      ]
     },
     "execution_count": 75,
     "metadata": {},
     "output_type": "execute_result"
    }
   ],
   "source": [
    "df.head(3)"
   ]
  },
  {
   "cell_type": "code",
   "execution_count": 77,
   "id": "85325e66",
   "metadata": {
    "ExecuteTime": {
     "end_time": "2022-04-27T06:01:51.549098Z",
     "start_time": "2022-04-27T06:01:51.536133Z"
    }
   },
   "outputs": [],
   "source": [
    "df['RSI'] = df['AU']/(df['AU'] + df['AD']) "
   ]
  },
  {
   "cell_type": "code",
   "execution_count": 79,
   "id": "d0582de5",
   "metadata": {
    "ExecuteTime": {
     "end_time": "2022-04-27T06:02:49.607861Z",
     "start_time": "2022-04-27T06:02:49.600879Z"
    }
   },
   "outputs": [],
   "source": [
    "df['RSI_sig'] = df['RSI'].rolling(6).mean()"
   ]
  },
  {
   "cell_type": "code",
   "execution_count": 81,
   "id": "82537c8a",
   "metadata": {
    "ExecuteTime": {
     "end_time": "2022-04-27T06:05:02.902458Z",
     "start_time": "2022-04-27T06:05:02.656117Z"
    }
   },
   "outputs": [
    {
     "data": {
      "text/plain": [
       "<matplotlib.lines.Line2D at 0x2dd5534b9a0>"
      ]
     },
     "execution_count": 81,
     "metadata": {},
     "output_type": "execute_result"
    },
    {
     "data": {
      "image/png": "[encoded data removed]",
      "text/plain": [
       "<Figure size 1080x360 with 1 Axes>"
      ]
     },
     "metadata": {
      "needs_background": "light"
     },
     "output_type": "display_data"
    },
    {
     "data": {
      "image/png": "[encoded data removed]",
      "text/plain": [
       "<Figure size 1080x360 with 1 Axes>"
      ]
     },
     "metadata": {
      "needs_background": "light"
     },
     "output_type": "display_data"
    }
   ],
   "source": [
    "df['Close'].plot(figsize=(15,5))\n",
    "df[['RSI', 'RSI_sig']].plot(figsize=(15,5))\n",
    "plt.axhline(0.7, c='y', ls='--')\n",
    "plt.axhline(0.3, c='y', ls='--')"
   ]
  },
  {
   "cell_type": "code",
   "execution_count": null,
   "id": "693abb52",
   "metadata": {},
   "outputs": [],
   "source": []
  },
  {
   "cell_type": "markdown",
   "id": "8d8806a2",
   "metadata": {},
   "source": [
    "## MACD"
   ]
  },
  {
   "cell_type": "code",
   "execution_count": 82,
   "id": "a215eb0d",
   "metadata": {
    "ExecuteTime": {
     "end_time": "2022-04-27T06:17:19.460082Z",
     "start_time": "2022-04-27T06:17:19.457060Z"
    }
   },
   "outputs": [],
   "source": [
    "# 단기이평(12) - 장기이평(26)\n",
    "# MACD signal : macd 9ma"
   ]
  },
  {
   "cell_type": "code",
   "execution_count": 104,
   "id": "d9ed6b6c",
   "metadata": {
    "ExecuteTime": {
     "end_time": "2022-04-27T06:42:25.208499Z",
     "start_time": "2022-04-27T06:42:25.120706Z"
    }
   },
   "outputs": [
    {
     "data": {
      "text/html": [
       "<div>\n",
       "<style scoped>\n",
       "    .dataframe tbody tr th:only-of-type {\n",
       "        vertical-align: middle;\n",
       "    }\n",
       "\n",
       "    .dataframe tbody tr th {\n",
       "        vertical-align: top;\n",
       "    }\n",
       "\n",
       "    .dataframe thead th {\n",
       "        text-align: right;\n",
       "    }\n",
       "</style>\n",
       "<table border=\"1\" class=\"dataframe\">\n",
       "  <thead>\n",
       "    <tr style=\"text-align: right;\">\n",
       "      <th></th>\n",
       "      <th>Open</th>\n",
       "      <th>High</th>\n",
       "      <th>Low</th>\n",
       "      <th>Close</th>\n",
       "      <th>Volume</th>\n",
       "      <th>Change</th>\n",
       "      <th>ma5</th>\n",
       "      <th>ma20</th>\n",
       "      <th>stdev</th>\n",
       "      <th>upper_b</th>\n",
       "      <th>lower_b</th>\n",
       "    </tr>\n",
       "    <tr>\n",
       "      <th>Date</th>\n",
       "      <th></th>\n",
       "      <th></th>\n",
       "      <th></th>\n",
       "      <th></th>\n",
       "      <th></th>\n",
       "      <th></th>\n",
       "      <th></th>\n",
       "      <th></th>\n",
       "      <th></th>\n",
       "      <th></th>\n",
       "      <th></th>\n",
       "    </tr>\n",
       "  </thead>\n",
       "  <tbody>\n",
       "    <tr>\n",
       "      <th>2020-01-02</th>\n",
       "      <td>55500</td>\n",
       "      <td>56000</td>\n",
       "      <td>55000</td>\n",
       "      <td>55200</td>\n",
       "      <td>12993228</td>\n",
       "      <td>-0.010753</td>\n",
       "      <td>NaN</td>\n",
       "      <td>NaN</td>\n",
       "      <td>NaN</td>\n",
       "      <td>NaN</td>\n",
       "      <td>NaN</td>\n",
       "    </tr>\n",
       "    <tr>\n",
       "      <th>2020-01-03</th>\n",
       "      <td>56000</td>\n",
       "      <td>56600</td>\n",
       "      <td>54900</td>\n",
       "      <td>55500</td>\n",
       "      <td>15422255</td>\n",
       "      <td>0.005435</td>\n",
       "      <td>NaN</td>\n",
       "      <td>NaN</td>\n",
       "      <td>NaN</td>\n",
       "      <td>NaN</td>\n",
       "      <td>NaN</td>\n",
       "    </tr>\n",
       "    <tr>\n",
       "      <th>2020-01-06</th>\n",
       "      <td>54900</td>\n",
       "      <td>55600</td>\n",
       "      <td>54600</td>\n",
       "      <td>55500</td>\n",
       "      <td>10278951</td>\n",
       "      <td>0.000000</td>\n",
       "      <td>NaN</td>\n",
       "      <td>NaN</td>\n",
       "      <td>NaN</td>\n",
       "      <td>NaN</td>\n",
       "      <td>NaN</td>\n",
       "    </tr>\n",
       "    <tr>\n",
       "      <th>2020-01-07</th>\n",
       "      <td>55700</td>\n",
       "      <td>56400</td>\n",
       "      <td>55600</td>\n",
       "      <td>55800</td>\n",
       "      <td>10009778</td>\n",
       "      <td>0.005405</td>\n",
       "      <td>NaN</td>\n",
       "      <td>NaN</td>\n",
       "      <td>NaN</td>\n",
       "      <td>NaN</td>\n",
       "      <td>NaN</td>\n",
       "    </tr>\n",
       "    <tr>\n",
       "      <th>2020-01-08</th>\n",
       "      <td>56200</td>\n",
       "      <td>57400</td>\n",
       "      <td>55900</td>\n",
       "      <td>56800</td>\n",
       "      <td>23501171</td>\n",
       "      <td>0.017921</td>\n",
       "      <td>55760.0</td>\n",
       "      <td>NaN</td>\n",
       "      <td>NaN</td>\n",
       "      <td>NaN</td>\n",
       "      <td>NaN</td>\n",
       "    </tr>\n",
       "    <tr>\n",
       "      <th>...</th>\n",
       "      <td>...</td>\n",
       "      <td>...</td>\n",
       "      <td>...</td>\n",
       "      <td>...</td>\n",
       "      <td>...</td>\n",
       "      <td>...</td>\n",
       "      <td>...</td>\n",
       "      <td>...</td>\n",
       "      <td>...</td>\n",
       "      <td>...</td>\n",
       "      <td>...</td>\n",
       "    </tr>\n",
       "    <tr>\n",
       "      <th>2022-04-21</th>\n",
       "      <td>67600</td>\n",
       "      <td>68300</td>\n",
       "      <td>67500</td>\n",
       "      <td>67700</td>\n",
       "      <td>12847448</td>\n",
       "      <td>0.004451</td>\n",
       "      <td>67140.0</td>\n",
       "      <td>68395.0</td>\n",
       "      <td>1146.837758</td>\n",
       "      <td>70688.675515</td>\n",
       "      <td>66101.324485</td>\n",
       "    </tr>\n",
       "    <tr>\n",
       "      <th>2022-04-22</th>\n",
       "      <td>67200</td>\n",
       "      <td>67300</td>\n",
       "      <td>66700</td>\n",
       "      <td>67000</td>\n",
       "      <td>11791478</td>\n",
       "      <td>-0.010340</td>\n",
       "      <td>67220.0</td>\n",
       "      <td>68255.0</td>\n",
       "      <td>1137.159434</td>\n",
       "      <td>70529.318869</td>\n",
       "      <td>65980.681131</td>\n",
       "    </tr>\n",
       "    <tr>\n",
       "      <th>2022-04-25</th>\n",
       "      <td>66500</td>\n",
       "      <td>66700</td>\n",
       "      <td>66300</td>\n",
       "      <td>66300</td>\n",
       "      <td>11016474</td>\n",
       "      <td>-0.010448</td>\n",
       "      <td>67140.0</td>\n",
       "      <td>68085.0</td>\n",
       "      <td>1163.603749</td>\n",
       "      <td>70412.207498</td>\n",
       "      <td>65757.792502</td>\n",
       "    </tr>\n",
       "    <tr>\n",
       "      <th>2022-04-26</th>\n",
       "      <td>66400</td>\n",
       "      <td>66700</td>\n",
       "      <td>66100</td>\n",
       "      <td>66100</td>\n",
       "      <td>12946923</td>\n",
       "      <td>-0.003017</td>\n",
       "      <td>66900.0</td>\n",
       "      <td>67880.0</td>\n",
       "      <td>1132.114928</td>\n",
       "      <td>70144.229856</td>\n",
       "      <td>65615.770144</td>\n",
       "    </tr>\n",
       "    <tr>\n",
       "      <th>2022-04-27</th>\n",
       "      <td>65400</td>\n",
       "      <td>65500</td>\n",
       "      <td>64900</td>\n",
       "      <td>65000</td>\n",
       "      <td>17986545</td>\n",
       "      <td>-0.016641</td>\n",
       "      <td>66420.0</td>\n",
       "      <td>67635.0</td>\n",
       "      <td>1200.120608</td>\n",
       "      <td>70035.241216</td>\n",
       "      <td>65234.758784</td>\n",
       "    </tr>\n",
       "  </tbody>\n",
       "</table>\n",
       "<p>574 rows × 11 columns</p>\n",
       "</div>"
      ],
      "text/plain": [
       "             Open   High    Low  Close    Volume    Change      ma5     ma20  \\\n",
       "Date                                                                           \n",
       "2020-01-02  55500  56000  55000  55200  12993228 -0.010753      NaN      NaN   \n",
       "2020-01-03  56000  56600  54900  55500  15422255  0.005435      NaN      NaN   \n",
       "2020-01-06  54900  55600  54600  55500  10278951  0.000000      NaN      NaN   \n",
       "2020-01-07  55700  56400  55600  55800  10009778  0.005405      NaN      NaN   \n",
       "2020-01-08  56200  57400  55900  56800  23501171  0.017921  55760.0      NaN   \n",
       "...           ...    ...    ...    ...       ...       ...      ...      ...   \n",
       "2022-04-21  67600  68300  67500  67700  12847448  0.004451  67140.0  68395.0   \n",
       "2022-04-22  67200  67300  66700  67000  11791478 -0.010340  67220.0  68255.0   \n",
       "2022-04-25  66500  66700  66300  66300  11016474 -0.010448  67140.0  68085.0   \n",
       "2022-04-26  66400  66700  66100  66100  12946923 -0.003017  66900.0  67880.0   \n",
       "2022-04-27  65400  65500  64900  65000  17986545 -0.016641  66420.0  67635.0   \n",
       "\n",
       "                  stdev       upper_b       lower_b  \n",
       "Date                                                 \n",
       "2020-01-02          NaN           NaN           NaN  \n",
       "2020-01-03          NaN           NaN           NaN  \n",
       "2020-01-06          NaN           NaN           NaN  \n",
       "2020-01-07          NaN           NaN           NaN  \n",
       "2020-01-08          NaN           NaN           NaN  \n",
       "...                 ...           ...           ...  \n",
       "2022-04-21  1146.837758  70688.675515  66101.324485  \n",
       "2022-04-22  1137.159434  70529.318869  65980.681131  \n",
       "2022-04-25  1163.603749  70412.207498  65757.792502  \n",
       "2022-04-26  1132.114928  70144.229856  65615.770144  \n",
       "2022-04-27  1200.120608  70035.241216  65234.758784  \n",
       "\n",
       "[574 rows x 11 columns]"
      ]
     },
     "execution_count": 104,
     "metadata": {},
     "output_type": "execute_result"
    }
   ],
   "source": [
    "df = fdr.DataReader('005930','2020','2023')\n",
    "df['ma5'] = df['Close'].rolling(5).mean()\n",
    "df['ma20'] = df['Close'].rolling(20).mean()\n",
    "df['stdev'] = df['Close'].rolling(20).std()\n",
    "\n",
    "df['upper_b'] = df['ma20'] + (df['stdev']*2)\n",
    "df['lower_b'] = df['ma20'] - (df['stdev']*2)\n",
    "\n",
    "df"
   ]
  },
  {
   "cell_type": "code",
   "execution_count": 105,
   "id": "669e65b8",
   "metadata": {
    "ExecuteTime": {
     "end_time": "2022-04-27T06:42:40.725011Z",
     "start_time": "2022-04-27T06:42:40.719998Z"
    }
   },
   "outputs": [],
   "source": [
    "df['ema_short'] = df['Close'].ewm(12).mean() #지수 이동평균\n",
    "df['ema_long'] = df['Close'].ewm(26).mean()"
   ]
  },
  {
   "cell_type": "code",
   "execution_count": 121,
   "id": "21a42fb0",
   "metadata": {
    "ExecuteTime": {
     "end_time": "2022-04-27T08:24:03.605667Z",
     "start_time": "2022-04-27T08:24:03.441107Z"
    }
   },
   "outputs": [
    {
     "data": {
      "text/plain": [
       "<AxesSubplot:xlabel='Date'>"
      ]
     },
     "execution_count": 121,
     "metadata": {},
     "output_type": "execute_result"
    },
    {
     "data": {
      "image/png": "[encoded data removed]",
      "text/plain": [
       "<Figure size 1080x360 with 1 Axes>"
      ]
     },
     "metadata": {
      "needs_background": "light"
     },
     "output_type": "display_data"
    }
   ],
   "source": [
    "df[['Close','ema_short','ema_long']].plot(figsize=(15,5))"
   ]
  },
  {
   "cell_type": "code",
   "execution_count": 107,
   "id": "18ec6a0c",
   "metadata": {
    "ExecuteTime": {
     "end_time": "2022-04-27T06:42:41.514871Z",
     "start_time": "2022-04-27T06:42:41.503901Z"
    }
   },
   "outputs": [],
   "source": [
    "df['macd'] = df['ema_short']- df['ema_long']\n",
    "df['macd_signal'] = df['macd'].ewm(9).mean()\n",
    "df['macdhist'] = df['macd']-df['macd_signal']"
   ]
  },
  {
   "cell_type": "code",
   "execution_count": 108,
   "id": "4b3647a4",
   "metadata": {
    "ExecuteTime": {
     "end_time": "2022-04-27T06:42:42.195085Z",
     "start_time": "2022-04-27T06:42:42.176103Z"
    }
   },
   "outputs": [],
   "source": [
    "df_macd = df[['macd','macd_signal','macdhist']].div(df['Close'],axis=0)"
   ]
  },
  {
   "cell_type": "code",
   "execution_count": 109,
   "id": "fe6ae971",
   "metadata": {
    "ExecuteTime": {
     "end_time": "2022-04-27T06:42:42.814396Z",
     "start_time": "2022-04-27T06:42:42.639863Z"
    }
   },
   "outputs": [
    {
     "data": {
      "text/plain": [
       "<matplotlib.lines.Line2D at 0x2dd576d68b0>"
      ]
     },
     "execution_count": 109,
     "metadata": {},
     "output_type": "execute_result"
    },
    {
     "data": {
      "image/png": "[encoded data removed]",
      "text/plain": [
       "<Figure size 1080x360 with 1 Axes>"
      ]
     },
     "metadata": {
      "needs_background": "light"
     },
     "output_type": "display_data"
    }
   ],
   "source": [
    "df_macd[['macd', 'macd_signal']].plot(figsize=(15,5))\n",
    "plt.axhline(0.06, c='y', ls='--')\n",
    "plt.axhline(-0.06, c='y', ls='--')"
   ]
  },
  {
   "cell_type": "code",
   "execution_count": 110,
   "id": "93dc71b3",
   "metadata": {
    "ExecuteTime": {
     "end_time": "2022-04-27T06:42:48.946037Z",
     "start_time": "2022-04-27T06:42:43.232279Z"
    }
   },
   "outputs": [
    {
     "data": {
      "text/plain": [
       "<AxesSubplot:xlabel='Date'>"
      ]
     },
     "execution_count": 110,
     "metadata": {},
     "output_type": "execute_result"
    },
    {
     "data": {
      "image/png": "[encoded data removed]",
      "text/plain": [
       "<Figure size 1080x360 with 1 Axes>"
      ]
     },
     "metadata": {
      "needs_background": "light"
     },
     "output_type": "display_data"
    }
   ],
   "source": [
    "df['macdhist'].plot(kind='bar',figsize=(15,5))"
   ]
  },
  {
   "cell_type": "code",
   "execution_count": 111,
   "id": "b68a04dd",
   "metadata": {
    "ExecuteTime": {
     "end_time": "2022-04-27T06:42:48.993909Z",
     "start_time": "2022-04-27T06:42:48.978950Z"
    }
   },
   "outputs": [],
   "source": [
    "df.drop(['Open','High','Low','Volume','Change'],axis=1,inplace=True)"
   ]
  },
  {
   "cell_type": "code",
   "execution_count": 112,
   "id": "bfd62245",
   "metadata": {
    "ExecuteTime": {
     "end_time": "2022-04-27T06:42:49.041781Z",
     "start_time": "2022-04-27T06:42:49.026822Z"
    }
   },
   "outputs": [
    {
     "data": {
      "text/html": [
       "<div>\n",
       "<style scoped>\n",
       "    .dataframe tbody tr th:only-of-type {\n",
       "        vertical-align: middle;\n",
       "    }\n",
       "\n",
       "    .dataframe tbody tr th {\n",
       "        vertical-align: top;\n",
       "    }\n",
       "\n",
       "    .dataframe thead th {\n",
       "        text-align: right;\n",
       "    }\n",
       "</style>\n",
       "<table border=\"1\" class=\"dataframe\">\n",
       "  <thead>\n",
       "    <tr style=\"text-align: right;\">\n",
       "      <th></th>\n",
       "      <th>Close</th>\n",
       "      <th>ma5</th>\n",
       "      <th>ma20</th>\n",
       "      <th>stdev</th>\n",
       "      <th>upper_b</th>\n",
       "      <th>lower_b</th>\n",
       "      <th>ema_short</th>\n",
       "      <th>ema_long</th>\n",
       "      <th>macd</th>\n",
       "      <th>macd_signal</th>\n",
       "      <th>macdhist</th>\n",
       "    </tr>\n",
       "    <tr>\n",
       "      <th>Date</th>\n",
       "      <th></th>\n",
       "      <th></th>\n",
       "      <th></th>\n",
       "      <th></th>\n",
       "      <th></th>\n",
       "      <th></th>\n",
       "      <th></th>\n",
       "      <th></th>\n",
       "      <th></th>\n",
       "      <th></th>\n",
       "      <th></th>\n",
       "    </tr>\n",
       "  </thead>\n",
       "  <tbody>\n",
       "    <tr>\n",
       "      <th>2020-01-02</th>\n",
       "      <td>55200</td>\n",
       "      <td>NaN</td>\n",
       "      <td>NaN</td>\n",
       "      <td>NaN</td>\n",
       "      <td>NaN</td>\n",
       "      <td>NaN</td>\n",
       "      <td>55200.000000</td>\n",
       "      <td>55200.000000</td>\n",
       "      <td>0.000000</td>\n",
       "      <td>0.000000</td>\n",
       "      <td>0.000000</td>\n",
       "    </tr>\n",
       "    <tr>\n",
       "      <th>2020-01-03</th>\n",
       "      <td>55500</td>\n",
       "      <td>NaN</td>\n",
       "      <td>NaN</td>\n",
       "      <td>NaN</td>\n",
       "      <td>NaN</td>\n",
       "      <td>NaN</td>\n",
       "      <td>55356.000000</td>\n",
       "      <td>55352.830189</td>\n",
       "      <td>3.169811</td>\n",
       "      <td>1.668322</td>\n",
       "      <td>1.501490</td>\n",
       "    </tr>\n",
       "    <tr>\n",
       "      <th>2020-01-06</th>\n",
       "      <td>55500</td>\n",
       "      <td>NaN</td>\n",
       "      <td>NaN</td>\n",
       "      <td>NaN</td>\n",
       "      <td>NaN</td>\n",
       "      <td>NaN</td>\n",
       "      <td>55407.889126</td>\n",
       "      <td>55403.749407</td>\n",
       "      <td>4.139719</td>\n",
       "      <td>2.580276</td>\n",
       "      <td>1.559443</td>\n",
       "    </tr>\n",
       "    <tr>\n",
       "      <th>2020-01-07</th>\n",
       "      <td>55800</td>\n",
       "      <td>NaN</td>\n",
       "      <td>NaN</td>\n",
       "      <td>NaN</td>\n",
       "      <td>NaN</td>\n",
       "      <td>NaN</td>\n",
       "      <td>55517.980831</td>\n",
       "      <td>55508.488552</td>\n",
       "      <td>9.492279</td>\n",
       "      <td>4.590164</td>\n",
       "      <td>4.902115</td>\n",
       "    </tr>\n",
       "    <tr>\n",
       "      <th>2020-01-08</th>\n",
       "      <td>56800</td>\n",
       "      <td>55760.0</td>\n",
       "      <td>NaN</td>\n",
       "      <td>NaN</td>\n",
       "      <td>NaN</td>\n",
       "      <td>NaN</td>\n",
       "      <td>55816.980100</td>\n",
       "      <td>55786.646004</td>\n",
       "      <td>30.334096</td>\n",
       "      <td>10.876685</td>\n",
       "      <td>19.457411</td>\n",
       "    </tr>\n",
       "  </tbody>\n",
       "</table>\n",
       "</div>"
      ],
      "text/plain": [
       "            Close      ma5  ma20  stdev  upper_b  lower_b     ema_short  \\\n",
       "Date                                                                      \n",
       "2020-01-02  55200      NaN   NaN    NaN      NaN      NaN  55200.000000   \n",
       "2020-01-03  55500      NaN   NaN    NaN      NaN      NaN  55356.000000   \n",
       "2020-01-06  55500      NaN   NaN    NaN      NaN      NaN  55407.889126   \n",
       "2020-01-07  55800      NaN   NaN    NaN      NaN      NaN  55517.980831   \n",
       "2020-01-08  56800  55760.0   NaN    NaN      NaN      NaN  55816.980100   \n",
       "\n",
       "                ema_long       macd  macd_signal   macdhist  \n",
       "Date                                                         \n",
       "2020-01-02  55200.000000   0.000000     0.000000   0.000000  \n",
       "2020-01-03  55352.830189   3.169811     1.668322   1.501490  \n",
       "2020-01-06  55403.749407   4.139719     2.580276   1.559443  \n",
       "2020-01-07  55508.488552   9.492279     4.590164   4.902115  \n",
       "2020-01-08  55786.646004  30.334096    10.876685  19.457411  "
      ]
     },
     "execution_count": 112,
     "metadata": {},
     "output_type": "execute_result"
    }
   ],
   "source": [
    "df.head()"
   ]
  },
  {
   "cell_type": "code",
   "execution_count": null,
   "id": "41352d57",
   "metadata": {},
   "outputs": [],
   "source": []
  },
  {
   "cell_type": "code",
   "execution_count": 114,
   "id": "1b08acfa",
   "metadata": {
    "ExecuteTime": {
     "end_time": "2022-04-27T06:44:22.909798Z",
     "start_time": "2022-04-27T06:44:22.896832Z"
    },
    "scrolled": true
   },
   "outputs": [],
   "source": [
    "df['stock_pos'] = 0\n",
    "df['buy_sig'] = (df['stock_pos'].shift(1)==0) & (df['Close']<=df['lower_b'])\n",
    "df['sell_sig'] = (df['Close'].shift(1) > df['ma20'].shift(1)) & (df['Close']<df['ma20'])"
   ]
  },
  {
   "cell_type": "code",
   "execution_count": 115,
   "id": "a49f1c3e",
   "metadata": {
    "ExecuteTime": {
     "end_time": "2022-04-27T06:44:57.229064Z",
     "start_time": "2022-04-27T06:44:57.216069Z"
    }
   },
   "outputs": [],
   "source": [
    "df['buy_sig'] = df['buy_sig'].apply(int)\n",
    "df['sell_sig'] = df['sell_sig'].apply(int)"
   ]
  },
  {
   "cell_type": "code",
   "execution_count": 116,
   "id": "4b021c77",
   "metadata": {
    "ExecuteTime": {
     "end_time": "2022-04-27T06:45:34.310885Z",
     "start_time": "2022-04-27T06:45:34.303904Z"
    }
   },
   "outputs": [],
   "source": [
    "con_df = df[(df.buy_sig==1)|(df.sell_sig==1)].sort_index()"
   ]
  },
  {
   "cell_type": "code",
   "execution_count": 117,
   "id": "ab07d610",
   "metadata": {
    "ExecuteTime": {
     "end_time": "2022-04-27T06:45:54.388203Z",
     "start_time": "2022-04-27T06:45:54.368256Z"
    }
   },
   "outputs": [],
   "source": [
    "con_df = con_df.loc['2020-02-28':]"
   ]
  },
  {
   "cell_type": "code",
   "execution_count": 118,
   "id": "e2de0550",
   "metadata": {
    "ExecuteTime": {
     "end_time": "2022-04-27T06:45:59.569350Z",
     "start_time": "2022-04-27T06:45:59.551397Z"
    }
   },
   "outputs": [
    {
     "data": {
      "text/html": [
       "<div>\n",
       "<style scoped>\n",
       "    .dataframe tbody tr th:only-of-type {\n",
       "        vertical-align: middle;\n",
       "    }\n",
       "\n",
       "    .dataframe tbody tr th {\n",
       "        vertical-align: top;\n",
       "    }\n",
       "\n",
       "    .dataframe thead th {\n",
       "        text-align: right;\n",
       "    }\n",
       "</style>\n",
       "<table border=\"1\" class=\"dataframe\">\n",
       "  <thead>\n",
       "    <tr style=\"text-align: right;\">\n",
       "      <th></th>\n",
       "      <th>Close</th>\n",
       "      <th>ma5</th>\n",
       "      <th>ma20</th>\n",
       "      <th>stdev</th>\n",
       "      <th>upper_b</th>\n",
       "      <th>lower_b</th>\n",
       "      <th>ema_short</th>\n",
       "      <th>ema_long</th>\n",
       "      <th>macd</th>\n",
       "      <th>macd_signal</th>\n",
       "      <th>macdhist</th>\n",
       "      <th>pos</th>\n",
       "      <th>buy_pos</th>\n",
       "      <th>stock_pos</th>\n",
       "      <th>buy_sig</th>\n",
       "      <th>sell_sig</th>\n",
       "    </tr>\n",
       "    <tr>\n",
       "      <th>Date</th>\n",
       "      <th></th>\n",
       "      <th></th>\n",
       "      <th></th>\n",
       "      <th></th>\n",
       "      <th></th>\n",
       "      <th></th>\n",
       "      <th></th>\n",
       "      <th></th>\n",
       "      <th></th>\n",
       "      <th></th>\n",
       "      <th></th>\n",
       "      <th></th>\n",
       "      <th></th>\n",
       "      <th></th>\n",
       "      <th></th>\n",
       "      <th></th>\n",
       "    </tr>\n",
       "  </thead>\n",
       "  <tbody>\n",
       "    <tr>\n",
       "      <th>2020-02-28</th>\n",
       "      <td>54200</td>\n",
       "      <td>56260.0</td>\n",
       "      <td>59085.0</td>\n",
       "      <td>2030.368128</td>\n",
       "      <td>63145.736257</td>\n",
       "      <td>55024.263743</td>\n",
       "      <td>58591.063261</td>\n",
       "      <td>58886.141614</td>\n",
       "      <td>-295.078353</td>\n",
       "      <td>94.767803</td>\n",
       "      <td>-389.846157</td>\n",
       "      <td>0</td>\n",
       "      <td>True</td>\n",
       "      <td>0</td>\n",
       "      <td>1</td>\n",
       "      <td>0</td>\n",
       "    </tr>\n",
       "    <tr>\n",
       "      <th>2020-03-12</th>\n",
       "      <td>50800</td>\n",
       "      <td>53640.0</td>\n",
       "      <td>56880.0</td>\n",
       "      <td>2980.038855</td>\n",
       "      <td>62840.077711</td>\n",
       "      <td>50919.922289</td>\n",
       "      <td>56461.402616</td>\n",
       "      <td>57459.146608</td>\n",
       "      <td>-997.743991</td>\n",
       "      <td>-362.368058</td>\n",
       "      <td>-635.375933</td>\n",
       "      <td>0</td>\n",
       "      <td>True</td>\n",
       "      <td>0</td>\n",
       "      <td>1</td>\n",
       "      <td>0</td>\n",
       "    </tr>\n",
       "    <tr>\n",
       "      <th>2020-03-13</th>\n",
       "      <td>49950</td>\n",
       "      <td>52330.0</td>\n",
       "      <td>56287.5</td>\n",
       "      <td>3124.852628</td>\n",
       "      <td>62537.205256</td>\n",
       "      <td>50037.794744</td>\n",
       "      <td>55951.200752</td>\n",
       "      <td>57131.363282</td>\n",
       "      <td>-1180.162530</td>\n",
       "      <td>-444.571162</td>\n",
       "      <td>-735.591368</td>\n",
       "      <td>0</td>\n",
       "      <td>True</td>\n",
       "      <td>0</td>\n",
       "      <td>1</td>\n",
       "      <td>0</td>\n",
       "    </tr>\n",
       "    <tr>\n",
       "      <th>2020-03-16</th>\n",
       "      <td>48900</td>\n",
       "      <td>51270.0</td>\n",
       "      <td>55657.5</td>\n",
       "      <td>3284.704385</td>\n",
       "      <td>62226.908769</td>\n",
       "      <td>49088.091231</td>\n",
       "      <td>55399.493009</td>\n",
       "      <td>56774.415240</td>\n",
       "      <td>-1374.922231</td>\n",
       "      <td>-538.039813</td>\n",
       "      <td>-836.882418</td>\n",
       "      <td>0</td>\n",
       "      <td>True</td>\n",
       "      <td>0</td>\n",
       "      <td>1</td>\n",
       "      <td>0</td>\n",
       "    </tr>\n",
       "    <tr>\n",
       "      <th>2020-03-17</th>\n",
       "      <td>47300</td>\n",
       "      <td>49810.0</td>\n",
       "      <td>55032.5</td>\n",
       "      <td>3626.447987</td>\n",
       "      <td>62285.395973</td>\n",
       "      <td>47779.604027</td>\n",
       "      <td>54766.599069</td>\n",
       "      <td>56366.146272</td>\n",
       "      <td>-1599.547202</td>\n",
       "      <td>-644.635542</td>\n",
       "      <td>-954.911660</td>\n",
       "      <td>0</td>\n",
       "      <td>True</td>\n",
       "      <td>0</td>\n",
       "      <td>1</td>\n",
       "      <td>0</td>\n",
       "    </tr>\n",
       "    <tr>\n",
       "      <th>...</th>\n",
       "      <td>...</td>\n",
       "      <td>...</td>\n",
       "      <td>...</td>\n",
       "      <td>...</td>\n",
       "      <td>...</td>\n",
       "      <td>...</td>\n",
       "      <td>...</td>\n",
       "      <td>...</td>\n",
       "      <td>...</td>\n",
       "      <td>...</td>\n",
       "      <td>...</td>\n",
       "      <td>...</td>\n",
       "      <td>...</td>\n",
       "      <td>...</td>\n",
       "      <td>...</td>\n",
       "      <td>...</td>\n",
       "    </tr>\n",
       "    <tr>\n",
       "      <th>2022-04-07</th>\n",
       "      <td>68000</td>\n",
       "      <td>68820.0</td>\n",
       "      <td>69790.0</td>\n",
       "      <td>740.483484</td>\n",
       "      <td>71270.966967</td>\n",
       "      <td>68309.033033</td>\n",
       "      <td>70206.690251</td>\n",
       "      <td>71720.795153</td>\n",
       "      <td>-1514.104901</td>\n",
       "      <td>-1322.843296</td>\n",
       "      <td>-191.261605</td>\n",
       "      <td>0</td>\n",
       "      <td>True</td>\n",
       "      <td>0</td>\n",
       "      <td>1</td>\n",
       "      <td>0</td>\n",
       "    </tr>\n",
       "    <tr>\n",
       "      <th>2022-04-08</th>\n",
       "      <td>67800</td>\n",
       "      <td>68560.0</td>\n",
       "      <td>69680.0</td>\n",
       "      <td>861.210898</td>\n",
       "      <td>71402.421796</td>\n",
       "      <td>67957.578204</td>\n",
       "      <td>70021.560232</td>\n",
       "      <td>71575.580517</td>\n",
       "      <td>-1554.020285</td>\n",
       "      <td>-1345.960995</td>\n",
       "      <td>-208.059290</td>\n",
       "      <td>0</td>\n",
       "      <td>True</td>\n",
       "      <td>0</td>\n",
       "      <td>1</td>\n",
       "      <td>0</td>\n",
       "    </tr>\n",
       "    <tr>\n",
       "      <th>2022-04-12</th>\n",
       "      <td>67000</td>\n",
       "      <td>67840.0</td>\n",
       "      <td>69440.0</td>\n",
       "      <td>1099.952152</td>\n",
       "      <td>71639.904304</td>\n",
       "      <td>67240.095696</td>\n",
       "      <td>69638.489192</td>\n",
       "      <td>71275.023909</td>\n",
       "      <td>-1636.534717</td>\n",
       "      <td>-1396.179493</td>\n",
       "      <td>-240.355224</td>\n",
       "      <td>0</td>\n",
       "      <td>True</td>\n",
       "      <td>0</td>\n",
       "      <td>1</td>\n",
       "      <td>0</td>\n",
       "    </tr>\n",
       "    <tr>\n",
       "      <th>2022-04-15</th>\n",
       "      <td>66600</td>\n",
       "      <td>67540.0</td>\n",
       "      <td>68965.0</td>\n",
       "      <td>1152.697066</td>\n",
       "      <td>71270.394132</td>\n",
       "      <td>66659.605868</td>\n",
       "      <td>69191.401604</td>\n",
       "      <td>70878.799991</td>\n",
       "      <td>-1687.398387</td>\n",
       "      <td>-1464.478013</td>\n",
       "      <td>-222.920374</td>\n",
       "      <td>0</td>\n",
       "      <td>True</td>\n",
       "      <td>0</td>\n",
       "      <td>1</td>\n",
       "      <td>0</td>\n",
       "    </tr>\n",
       "    <tr>\n",
       "      <th>2022-04-27</th>\n",
       "      <td>65000</td>\n",
       "      <td>66420.0</td>\n",
       "      <td>67635.0</td>\n",
       "      <td>1200.120608</td>\n",
       "      <td>70035.241216</td>\n",
       "      <td>65234.758784</td>\n",
       "      <td>67952.295145</td>\n",
       "      <td>69772.641000</td>\n",
       "      <td>-1820.345855</td>\n",
       "      <td>-1622.834339</td>\n",
       "      <td>-197.511516</td>\n",
       "      <td>0</td>\n",
       "      <td>True</td>\n",
       "      <td>0</td>\n",
       "      <td>1</td>\n",
       "      <td>0</td>\n",
       "    </tr>\n",
       "  </tbody>\n",
       "</table>\n",
       "<p>68 rows × 16 columns</p>\n",
       "</div>"
      ],
      "text/plain": [
       "            Close      ma5     ma20        stdev       upper_b       lower_b  \\\n",
       "Date                                                                           \n",
       "2020-02-28  54200  56260.0  59085.0  2030.368128  63145.736257  55024.263743   \n",
       "2020-03-12  50800  53640.0  56880.0  2980.038855  62840.077711  50919.922289   \n",
       "2020-03-13  49950  52330.0  56287.5  3124.852628  62537.205256  50037.794744   \n",
       "2020-03-16  48900  51270.0  55657.5  3284.704385  62226.908769  49088.091231   \n",
       "2020-03-17  47300  49810.0  55032.5  3626.447987  62285.395973  47779.604027   \n",
       "...           ...      ...      ...          ...           ...           ...   \n",
       "2022-04-07  68000  68820.0  69790.0   740.483484  71270.966967  68309.033033   \n",
       "2022-04-08  67800  68560.0  69680.0   861.210898  71402.421796  67957.578204   \n",
       "2022-04-12  67000  67840.0  69440.0  1099.952152  71639.904304  67240.095696   \n",
       "2022-04-15  66600  67540.0  68965.0  1152.697066  71270.394132  66659.605868   \n",
       "2022-04-27  65000  66420.0  67635.0  1200.120608  70035.241216  65234.758784   \n",
       "\n",
       "               ema_short      ema_long         macd  macd_signal    macdhist  \\\n",
       "Date                                                                           \n",
       "2020-02-28  58591.063261  58886.141614  -295.078353    94.767803 -389.846157   \n",
       "2020-03-12  56461.402616  57459.146608  -997.743991  -362.368058 -635.375933   \n",
       "2020-03-13  55951.200752  57131.363282 -1180.162530  -444.571162 -735.591368   \n",
       "2020-03-16  55399.493009  56774.415240 -1374.922231  -538.039813 -836.882418   \n",
       "2020-03-17  54766.599069  56366.146272 -1599.547202  -644.635542 -954.911660   \n",
       "...                  ...           ...          ...          ...         ...   \n",
       "2022-04-07  70206.690251  71720.795153 -1514.104901 -1322.843296 -191.261605   \n",
       "2022-04-08  70021.560232  71575.580517 -1554.020285 -1345.960995 -208.059290   \n",
       "2022-04-12  69638.489192  71275.023909 -1636.534717 -1396.179493 -240.355224   \n",
       "2022-04-15  69191.401604  70878.799991 -1687.398387 -1464.478013 -222.920374   \n",
       "2022-04-27  67952.295145  69772.641000 -1820.345855 -1622.834339 -197.511516   \n",
       "\n",
       "            pos  buy_pos  stock_pos  buy_sig  sell_sig  \n",
       "Date                                                    \n",
       "2020-02-28    0     True          0        1         0  \n",
       "2020-03-12    0     True          0        1         0  \n",
       "2020-03-13    0     True          0        1         0  \n",
       "2020-03-16    0     True          0        1         0  \n",
       "2020-03-17    0     True          0        1         0  \n",
       "...         ...      ...        ...      ...       ...  \n",
       "2022-04-07    0     True          0        1         0  \n",
       "2022-04-08    0     True          0        1         0  \n",
       "2022-04-12    0     True          0        1         0  \n",
       "2022-04-15    0     True          0        1         0  \n",
       "2022-04-27    0     True          0        1         0  \n",
       "\n",
       "[68 rows x 16 columns]"
      ]
     },
     "execution_count": 118,
     "metadata": {},
     "output_type": "execute_result"
    }
   ],
   "source": [
    "con_df"
   ]
  },
  {
   "cell_type": "code",
   "execution_count": null,
   "id": "e0b29837",
   "metadata": {},
   "outputs": [],
   "source": [
    " "
   ]
  },
  {
   "cell_type": "code",
   "execution_count": null,
   "id": "8745514e",
   "metadata": {},
   "outputs": [],
   "source": []
  },
  {
   "cell_type": "code",
   "execution_count": null,
   "id": "2fa314a0",
   "metadata": {},
   "outputs": [],
   "source": []
  },
  {
   "cell_type": "code",
   "execution_count": null,
   "id": "7e64bafd",
   "metadata": {},
   "outputs": [],
   "source": []
  },
  {
   "cell_type": "code",
   "execution_count": null,
   "id": "d2d369de",
   "metadata": {},
   "outputs": [],
   "source": []
  },
  {
   "cell_type": "code",
   "execution_count": null,
   "id": "4df302d4",
   "metadata": {},
   "outputs": [],
   "source": []
  },
  {
   "cell_type": "code",
   "execution_count": null,
   "id": "edea7977",
   "metadata": {},
   "outputs": [],
   "source": []
  },
  {
   "cell_type": "code",
   "execution_count": null,
   "id": "70d7e042",
   "metadata": {},
   "outputs": [],
   "source": []
  },
  {
   "cell_type": "code",
   "execution_count": null,
   "id": "866d50df",
   "metadata": {},
   "outputs": [],
   "source": []
  },
  {
   "cell_type": "code",
   "execution_count": null,
   "id": "3c5fa26d",
   "metadata": {},
   "outputs": [],
   "source": []
  }
 ],
 "metadata": {
  "kernelspec": {
   "display_name": "Python 3 (ipykernel)",
   "language": "python",
   "name": "python3"
  },
  "language_info": {
   "codemirror_mode": {
    "name": "ipython",
    "version": 3
   },
   "file_extension": ".py",
   "mimetype": "text/x-python",
   "name": "python",
   "nbconvert_exporter": "python",
   "pygments_lexer": "ipython3",
   "version": "3.9.7"
  },
  "toc": {
   "base_numbering": 1,
   "nav_menu": {},
   "number_sections": true,
   "sideBar": true,
   "skip_h1_title": false,
   "title_cell": "Table of Contents",
   "title_sidebar": "Contents",
   "toc_cell": false,
   "toc_position": {
    "height": "calc(100% - 180px)",
    "left": "10px",
    "top": "150px",
    "width": "349.091px"
   },
   "toc_section_display": true,
   "toc_window_display": true
  },
  "varInspector": {
   "cols": {
    "lenName": 16,
    "lenType": 16,
    "lenVar": 40
   },
   "kernels_config": {
    "python": {
     "delete_cmd_postfix": "",
     "delete_cmd_prefix": "del ",
     "library": "var_list.py",
     "varRefreshCmd": "print(var_dic_list())"
    },
    "r": {
     "delete_cmd_postfix": ") ",
     "delete_cmd_prefix": "rm(",
     "library": "var_list.r",
     "varRefreshCmd": "cat(var_dic_list()) "
    }
   },
   "types_to_exclude": [
    "module",
    "function",
    "builtin_function_or_method",
    "instance",
    "_Feature"
   ],
   "window_display": false
  }
 },
 "nbformat": 4,
 "nbformat_minor": 5
}
