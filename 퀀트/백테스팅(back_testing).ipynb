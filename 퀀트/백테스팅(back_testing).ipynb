{
 "cells": [
  {
   "cell_type": "markdown",
   "id": "9bacae58",
   "metadata": {},
   "source": [
    "# Back Testing"
   ]
  },
  {
   "cell_type": "code",
   "execution_count": 144,
   "id": "fffa9761",
   "metadata": {
    "ExecuteTime": {
     "end_time": "2022-04-29T03:35:30.399715Z",
     "start_time": "2022-04-29T03:35:30.383758Z"
    }
   },
   "outputs": [],
   "source": [
    "import pandas as pd\n",
    "import numpy as np\n",
    "import matplotlib.pyplot as plt\n",
    "import seaborn as sns"
   ]
  },
  {
   "cell_type": "code",
   "execution_count": 145,
   "id": "c9ce0a84",
   "metadata": {
    "ExecuteTime": {
     "end_time": "2022-04-29T03:35:30.557294Z",
     "start_time": "2022-04-29T03:35:30.544329Z"
    }
   },
   "outputs": [],
   "source": [
    "import FinanceDataReader as fdr"
   ]
  },
  {
   "cell_type": "code",
   "execution_count": 146,
   "id": "8b881112",
   "metadata": {
    "ExecuteTime": {
     "end_time": "2022-04-29T03:35:30.679966Z",
     "start_time": "2022-04-29T03:35:30.671987Z"
    }
   },
   "outputs": [],
   "source": [
    "import plotly.express as plt\n",
    "import plotly.graph_objects as go"
   ]
  },
  {
   "cell_type": "code",
   "execution_count": 147,
   "id": "7f7dd90f",
   "metadata": {
    "ExecuteTime": {
     "end_time": "2022-04-29T03:35:30.834582Z",
     "start_time": "2022-04-29T03:35:30.815604Z"
    }
   },
   "outputs": [],
   "source": [
    "def get_returns_df(df, N=1, log=False):\n",
    "    if log: \n",
    "        return np.log(df/df.shift(N)).iloc[N-1:].fillna(0) # log수익률\n",
    "    else:\n",
    "        return df.pct_change(N, fill_method= None).iloc[N-1:].fillna(0) # 단순수익률\n",
    "    \n",
    "def get_cum_returns_df(return_df, log=False):\n",
    "    if log:\n",
    "        return np.exp(return_df.cumsum())\n",
    "    else:\n",
    "        return (1 + return_df).cumprod()"
   ]
  },
  {
   "cell_type": "code",
   "execution_count": 148,
   "id": "ade81701",
   "metadata": {
    "ExecuteTime": {
     "end_time": "2022-04-29T03:35:30.976174Z",
     "start_time": "2022-04-29T03:35:30.960217Z"
    }
   },
   "outputs": [],
   "source": [
    "# 성과지표들\n",
    "\n",
    "def get_annualized_returns_series(log_return_df, num_day_in_year=250):\n",
    "    return(log_return_df.mean()*num_day_in_year).round(2)\n",
    "\n",
    "def get_annualized_std_series(log_return_df, num_day_in_year=250):\n",
    "    return (log_return_df.std() * (num_day_in_year ** 0.5)).round(2)\n",
    "\n",
    "\n",
    "def get_cagr_series(cum_rtn_df, num_day_in_year= 250):\n",
    "    cagr_series = cum_rtn_df.iloc[-1]**(num_day_in_year/(len(cum_rtn_df)))-1\n",
    "    return cagr_series\n",
    "\n",
    "\n",
    "def get_sharpe_ratio(log_rtn_df, yearly_rfr = 0.025):\n",
    "    excess_rtns = log_rtn_df.mean()*252 -yearly_rfr\n",
    "    return excess_rtns / (log_rtn_df.std() * np.sqrt(252))\n",
    "\n",
    "def get_drawdown_infos(cum_returns_df):\n",
    "    cummax_df = cum_returns_df.cummax()\n",
    "    dd_df = cum_returns_df / cummax_df -1\n",
    "    \n",
    "    mdd_series = dd_df.min()\n",
    "    \n",
    "    max_point_df = dd_df[dd_df==0]\n",
    "    \n",
    "    first_df = max_point_df.index[:-1]\n",
    "    second_df = max_point_df.index[1:]\n",
    "    \n",
    "    period = second_df-first_df\n",
    "    \n",
    "    longest_dd_period = period.max().days\n",
    "    \n",
    "    ldd_st = first_df[period.argmax()]\n",
    "    ldd_ed = second_df[period.argmax()]\n",
    "    \n",
    "    return mdd_series, longest_dd_period, ldd_st, ldd_ed"
   ]
  },
  {
   "cell_type": "code",
   "execution_count": 149,
   "id": "17407ce9",
   "metadata": {
    "ExecuteTime": {
     "end_time": "2022-04-29T03:35:31.116826Z",
     "start_time": "2022-04-29T03:35:31.103833Z"
    }
   },
   "outputs": [],
   "source": [
    "def backtest_eval(str_cum_rtn, str_rtn): # 열 이름(전략적누적수익, 전략적수익) 대입\n",
    "    \n",
    "    cagr = get_cagr_series(df[str_cum_rtn], num_day_in_year = 250)\n",
    "    sharp_ratio = get_sharpe_ratio(df[str_rtn], yearly_rfr = 0.025)\n",
    "    mdd, ldd_period, ldd_st, ldd_ed = get_drawdown_infos(df[str_cum_rtn])\n",
    "\n",
    "    print('cagr :', cagr)\n",
    "    print('sharp_ratio :', sharp_ratio)\n",
    "    print('Max_drawdown :', mdd)\n",
    "    print('Longest_dd_period :', ldd_period)\n",
    "    print('Longest_dd_st_date :', ldd_st)\n",
    "    print('Longest_dd_ed_date :', ldd_ed)"
   ]
  },
  {
   "cell_type": "code",
   "execution_count": null,
   "id": "ecfa7a6a",
   "metadata": {},
   "outputs": [],
   "source": []
  },
  {
   "cell_type": "markdown",
   "id": "8f8eb44a",
   "metadata": {},
   "source": [
    "## 이동평균선 매매전략"
   ]
  },
  {
   "cell_type": "code",
   "execution_count": 102,
   "id": "c4e59d91",
   "metadata": {
    "ExecuteTime": {
     "end_time": "2022-04-28T07:19:29.916636Z",
     "start_time": "2022-04-28T07:19:29.795958Z"
    }
   },
   "outputs": [
    {
     "data": {
      "text/html": [
       "<div>\n",
       "<style scoped>\n",
       "    .dataframe tbody tr th:only-of-type {\n",
       "        vertical-align: middle;\n",
       "    }\n",
       "\n",
       "    .dataframe tbody tr th {\n",
       "        vertical-align: top;\n",
       "    }\n",
       "\n",
       "    .dataframe thead th {\n",
       "        text-align: right;\n",
       "    }\n",
       "</style>\n",
       "<table border=\"1\" class=\"dataframe\">\n",
       "  <thead>\n",
       "    <tr style=\"text-align: right;\">\n",
       "      <th></th>\n",
       "      <th>Open</th>\n",
       "      <th>High</th>\n",
       "      <th>Low</th>\n",
       "      <th>Close</th>\n",
       "      <th>Volume</th>\n",
       "      <th>Change</th>\n",
       "    </tr>\n",
       "    <tr>\n",
       "      <th>Date</th>\n",
       "      <th></th>\n",
       "      <th></th>\n",
       "      <th></th>\n",
       "      <th></th>\n",
       "      <th></th>\n",
       "      <th></th>\n",
       "    </tr>\n",
       "  </thead>\n",
       "  <tbody>\n",
       "    <tr>\n",
       "      <th>2010-01-04</th>\n",
       "      <td>16060</td>\n",
       "      <td>16180</td>\n",
       "      <td>16000</td>\n",
       "      <td>16180</td>\n",
       "      <td>239271</td>\n",
       "      <td>0.012516</td>\n",
       "    </tr>\n",
       "    <tr>\n",
       "      <th>2010-01-05</th>\n",
       "      <td>16520</td>\n",
       "      <td>16580</td>\n",
       "      <td>16300</td>\n",
       "      <td>16440</td>\n",
       "      <td>559219</td>\n",
       "      <td>0.016069</td>\n",
       "    </tr>\n",
       "    <tr>\n",
       "      <th>2010-01-06</th>\n",
       "      <td>16580</td>\n",
       "      <td>16820</td>\n",
       "      <td>16520</td>\n",
       "      <td>16820</td>\n",
       "      <td>459755</td>\n",
       "      <td>0.023114</td>\n",
       "    </tr>\n",
       "    <tr>\n",
       "      <th>2010-01-07</th>\n",
       "      <td>16820</td>\n",
       "      <td>16820</td>\n",
       "      <td>16260</td>\n",
       "      <td>16260</td>\n",
       "      <td>443237</td>\n",
       "      <td>-0.033294</td>\n",
       "    </tr>\n",
       "    <tr>\n",
       "      <th>2010-01-08</th>\n",
       "      <td>16400</td>\n",
       "      <td>16420</td>\n",
       "      <td>16120</td>\n",
       "      <td>16420</td>\n",
       "      <td>295798</td>\n",
       "      <td>0.009840</td>\n",
       "    </tr>\n",
       "    <tr>\n",
       "      <th>...</th>\n",
       "      <td>...</td>\n",
       "      <td>...</td>\n",
       "      <td>...</td>\n",
       "      <td>...</td>\n",
       "      <td>...</td>\n",
       "      <td>...</td>\n",
       "    </tr>\n",
       "    <tr>\n",
       "      <th>2020-10-26</th>\n",
       "      <td>60400</td>\n",
       "      <td>61100</td>\n",
       "      <td>60100</td>\n",
       "      <td>60400</td>\n",
       "      <td>13268226</td>\n",
       "      <td>0.003322</td>\n",
       "    </tr>\n",
       "    <tr>\n",
       "      <th>2020-10-27</th>\n",
       "      <td>60300</td>\n",
       "      <td>60300</td>\n",
       "      <td>59500</td>\n",
       "      <td>59800</td>\n",
       "      <td>17260416</td>\n",
       "      <td>-0.009934</td>\n",
       "    </tr>\n",
       "    <tr>\n",
       "      <th>2020-10-28</th>\n",
       "      <td>59400</td>\n",
       "      <td>59400</td>\n",
       "      <td>58800</td>\n",
       "      <td>59000</td>\n",
       "      <td>14428882</td>\n",
       "      <td>-0.013378</td>\n",
       "    </tr>\n",
       "    <tr>\n",
       "      <th>2020-10-29</th>\n",
       "      <td>58200</td>\n",
       "      <td>58500</td>\n",
       "      <td>57500</td>\n",
       "      <td>58100</td>\n",
       "      <td>22636966</td>\n",
       "      <td>-0.015254</td>\n",
       "    </tr>\n",
       "    <tr>\n",
       "      <th>2020-10-30</th>\n",
       "      <td>58000</td>\n",
       "      <td>58000</td>\n",
       "      <td>56600</td>\n",
       "      <td>56600</td>\n",
       "      <td>26907844</td>\n",
       "      <td>-0.025818</td>\n",
       "    </tr>\n",
       "  </tbody>\n",
       "</table>\n",
       "<p>2672 rows × 6 columns</p>\n",
       "</div>"
      ],
      "text/plain": [
       "             Open   High    Low  Close    Volume    Change\n",
       "Date                                                      \n",
       "2010-01-04  16060  16180  16000  16180    239271  0.012516\n",
       "2010-01-05  16520  16580  16300  16440    559219  0.016069\n",
       "2010-01-06  16580  16820  16520  16820    459755  0.023114\n",
       "2010-01-07  16820  16820  16260  16260    443237 -0.033294\n",
       "2010-01-08  16400  16420  16120  16420    295798  0.009840\n",
       "...           ...    ...    ...    ...       ...       ...\n",
       "2020-10-26  60400  61100  60100  60400  13268226  0.003322\n",
       "2020-10-27  60300  60300  59500  59800  17260416 -0.009934\n",
       "2020-10-28  59400  59400  58800  59000  14428882 -0.013378\n",
       "2020-10-29  58200  58500  57500  58100  22636966 -0.015254\n",
       "2020-10-30  58000  58000  56600  56600  26907844 -0.025818\n",
       "\n",
       "[2672 rows x 6 columns]"
      ]
     },
     "execution_count": 102,
     "metadata": {},
     "output_type": "execute_result"
    }
   ],
   "source": [
    "df = fdr.DataReader('005930', '2010-01-02', '2020-10-30')\n",
    "df"
   ]
  },
  {
   "cell_type": "code",
   "execution_count": 103,
   "id": "e2121638",
   "metadata": {
    "ExecuteTime": {
     "end_time": "2022-04-28T07:19:29.978501Z",
     "start_time": "2022-04-28T07:19:29.963510Z"
    }
   },
   "outputs": [],
   "source": [
    "# 단기 이동평균선 (short moving average)\n",
    "# 장기 이동평균선\n",
    "df['sma'] = df.Close.rolling(5).mean()\n",
    "df['lma'] = df.Close.rolling(20).mean()"
   ]
  },
  {
   "cell_type": "code",
   "execution_count": 104,
   "id": "4b252e21",
   "metadata": {
    "ExecuteTime": {
     "end_time": "2022-04-28T07:19:30.025373Z",
     "start_time": "2022-04-28T07:19:30.010385Z"
    }
   },
   "outputs": [
    {
     "data": {
      "text/html": [
       "<div>\n",
       "<style scoped>\n",
       "    .dataframe tbody tr th:only-of-type {\n",
       "        vertical-align: middle;\n",
       "    }\n",
       "\n",
       "    .dataframe tbody tr th {\n",
       "        vertical-align: top;\n",
       "    }\n",
       "\n",
       "    .dataframe thead th {\n",
       "        text-align: right;\n",
       "    }\n",
       "</style>\n",
       "<table border=\"1\" class=\"dataframe\">\n",
       "  <thead>\n",
       "    <tr style=\"text-align: right;\">\n",
       "      <th></th>\n",
       "      <th>Open</th>\n",
       "      <th>High</th>\n",
       "      <th>Low</th>\n",
       "      <th>Close</th>\n",
       "      <th>Volume</th>\n",
       "      <th>Change</th>\n",
       "      <th>sma</th>\n",
       "      <th>lma</th>\n",
       "    </tr>\n",
       "    <tr>\n",
       "      <th>Date</th>\n",
       "      <th></th>\n",
       "      <th></th>\n",
       "      <th></th>\n",
       "      <th></th>\n",
       "      <th></th>\n",
       "      <th></th>\n",
       "      <th></th>\n",
       "      <th></th>\n",
       "    </tr>\n",
       "  </thead>\n",
       "  <tbody>\n",
       "    <tr>\n",
       "      <th>2010-01-04</th>\n",
       "      <td>16060</td>\n",
       "      <td>16180</td>\n",
       "      <td>16000</td>\n",
       "      <td>16180</td>\n",
       "      <td>239271</td>\n",
       "      <td>0.012516</td>\n",
       "      <td>NaN</td>\n",
       "      <td>NaN</td>\n",
       "    </tr>\n",
       "    <tr>\n",
       "      <th>2010-01-05</th>\n",
       "      <td>16520</td>\n",
       "      <td>16580</td>\n",
       "      <td>16300</td>\n",
       "      <td>16440</td>\n",
       "      <td>559219</td>\n",
       "      <td>0.016069</td>\n",
       "      <td>NaN</td>\n",
       "      <td>NaN</td>\n",
       "    </tr>\n",
       "    <tr>\n",
       "      <th>2010-01-06</th>\n",
       "      <td>16580</td>\n",
       "      <td>16820</td>\n",
       "      <td>16520</td>\n",
       "      <td>16820</td>\n",
       "      <td>459755</td>\n",
       "      <td>0.023114</td>\n",
       "      <td>NaN</td>\n",
       "      <td>NaN</td>\n",
       "    </tr>\n",
       "    <tr>\n",
       "      <th>2010-01-07</th>\n",
       "      <td>16820</td>\n",
       "      <td>16820</td>\n",
       "      <td>16260</td>\n",
       "      <td>16260</td>\n",
       "      <td>443237</td>\n",
       "      <td>-0.033294</td>\n",
       "      <td>NaN</td>\n",
       "      <td>NaN</td>\n",
       "    </tr>\n",
       "    <tr>\n",
       "      <th>2010-01-08</th>\n",
       "      <td>16400</td>\n",
       "      <td>16420</td>\n",
       "      <td>16120</td>\n",
       "      <td>16420</td>\n",
       "      <td>295798</td>\n",
       "      <td>0.009840</td>\n",
       "      <td>16424.0</td>\n",
       "      <td>NaN</td>\n",
       "    </tr>\n",
       "  </tbody>\n",
       "</table>\n",
       "</div>"
      ],
      "text/plain": [
       "             Open   High    Low  Close  Volume    Change      sma  lma\n",
       "Date                                                                  \n",
       "2010-01-04  16060  16180  16000  16180  239271  0.012516      NaN  NaN\n",
       "2010-01-05  16520  16580  16300  16440  559219  0.016069      NaN  NaN\n",
       "2010-01-06  16580  16820  16520  16820  459755  0.023114      NaN  NaN\n",
       "2010-01-07  16820  16820  16260  16260  443237 -0.033294      NaN  NaN\n",
       "2010-01-08  16400  16420  16120  16420  295798  0.009840  16424.0  NaN"
      ]
     },
     "execution_count": 104,
     "metadata": {},
     "output_type": "execute_result"
    }
   ],
   "source": [
    "df.head()"
   ]
  },
  {
   "cell_type": "code",
   "execution_count": 105,
   "id": "3ad53b9d",
   "metadata": {
    "ExecuteTime": {
     "end_time": "2022-04-28T07:19:30.071254Z",
     "start_time": "2022-04-28T07:19:30.058257Z"
    }
   },
   "outputs": [],
   "source": [
    "df.dropna(inplace=True)"
   ]
  },
  {
   "cell_type": "code",
   "execution_count": 106,
   "id": "ad076822",
   "metadata": {
    "ExecuteTime": {
     "end_time": "2022-04-28T07:19:30.241797Z",
     "start_time": "2022-04-28T07:19:30.103138Z"
    }
   },
   "outputs": [
    {
     "data": {
      "text/plain": [
       "<AxesSubplot:xlabel='Date'>"
      ]
     },
     "execution_count": 106,
     "metadata": {},
     "output_type": "execute_result"
    },
    {
     "data": {
      "image/png": "[encoded data removed]",
      "text/plain": [
       "<Figure size 1080x360 with 1 Axes>"
      ]
     },
     "metadata": {
      "needs_background": "light"
     },
     "output_type": "display_data"
    }
   ],
   "source": [
    "df[['sma','lma']].plot(figsize=(15,5))"
   ]
  },
  {
   "cell_type": "code",
   "execution_count": 107,
   "id": "66076a56",
   "metadata": {
    "ExecuteTime": {
     "end_time": "2022-04-28T07:19:30.396386Z",
     "start_time": "2022-04-28T07:19:30.242764Z"
    }
   },
   "outputs": [
    {
     "data": {
      "text/plain": [
       "<AxesSubplot:xlabel='Date'>"
      ]
     },
     "execution_count": 107,
     "metadata": {},
     "output_type": "execute_result"
    },
    {
     "data": {
      "image/png": "[encoded data removed]",
      "text/plain": [
       "<Figure size 1080x360 with 1 Axes>"
      ]
     },
     "metadata": {
      "needs_background": "light"
     },
     "output_type": "display_data"
    }
   ],
   "source": [
    "# df[['Close','sma','lma']].iloc[-200:].plot(figsize=(15,5))\n",
    "df[['sma','lma']].iloc[-200:].plot(figsize=(15,5))\n"
   ]
  },
  {
   "cell_type": "code",
   "execution_count": 108,
   "id": "816b9a69",
   "metadata": {
    "ExecuteTime": {
     "end_time": "2022-04-28T07:19:30.473178Z",
     "start_time": "2022-04-28T07:19:30.458188Z"
    }
   },
   "outputs": [],
   "source": [
    "# 매수 매도 포지션 : 단기가 장기보다 클때\n",
    "# 이동평균선 매매 기본전략\n",
    "\n",
    "df['position'] = np.where(df['sma']>=df['lma'],1,0)"
   ]
  },
  {
   "cell_type": "code",
   "execution_count": 109,
   "id": "b0f737c6",
   "metadata": {
    "ExecuteTime": {
     "end_time": "2022-04-28T07:19:30.754424Z",
     "start_time": "2022-04-28T07:19:30.505063Z"
    }
   },
   "outputs": [
    {
     "data": {
      "text/plain": [
       "<AxesSubplot:xlabel='Date'>"
      ]
     },
     "execution_count": 109,
     "metadata": {},
     "output_type": "execute_result"
    },
    {
     "data": {
      "image/png": "[encoded data removed]",
      "text/plain": [
       "<Figure size 1080x72 with 1 Axes>"
      ]
     },
     "metadata": {
      "needs_background": "light"
     },
     "output_type": "display_data"
    }
   ],
   "source": [
    "df['position'].plot(marker='.', linestyle='none', figsize=(15,1))"
   ]
  },
  {
   "cell_type": "code",
   "execution_count": 110,
   "id": "a77198e6",
   "metadata": {
    "ExecuteTime": {
     "end_time": "2022-04-28T07:19:30.864131Z",
     "start_time": "2022-04-28T07:19:30.757388Z"
    }
   },
   "outputs": [
    {
     "data": {
      "text/plain": [
       "<AxesSubplot:xlabel='Date'>"
      ]
     },
     "execution_count": 110,
     "metadata": {},
     "output_type": "execute_result"
    },
    {
     "data": {
      "image/png": "[encoded data removed]",
      "text/plain": [
       "<Figure size 1080x144 with 1 Axes>"
      ]
     },
     "metadata": {
      "needs_background": "light"
     },
     "output_type": "display_data"
    }
   ],
   "source": [
    "df['position'][-300:].plot(marker='.', linestyle='none', figsize=(15,2), ylim=[-1.01,1.7])"
   ]
  },
  {
   "cell_type": "code",
   "execution_count": 111,
   "id": "8bf7693e",
   "metadata": {
    "ExecuteTime": {
     "end_time": "2022-04-28T07:19:30.941922Z",
     "start_time": "2022-04-28T07:19:30.926935Z"
    }
   },
   "outputs": [],
   "source": [
    "long_index = df[(df['position']-df['position'].shift(1))== 1].index\n",
    "exit_index = df[(df['position']-df['position'].shift(1))== -1].index"
   ]
  },
  {
   "cell_type": "code",
   "execution_count": 112,
   "id": "8abc5d60",
   "metadata": {
    "ExecuteTime": {
     "end_time": "2022-04-28T07:19:30.987799Z",
     "start_time": "2022-04-28T07:19:30.973809Z"
    }
   },
   "outputs": [
    {
     "data": {
      "text/plain": [
       "DatetimeIndex(['2010-03-05', '2010-06-08', '2010-07-14', '2010-10-04',\n",
       "               '2010-10-26', '2010-11-08', '2011-01-18', '2011-03-29',\n",
       "               '2011-04-27', '2011-05-02', '2011-06-01', '2011-07-05',\n",
       "               '2011-08-03', '2011-09-01', '2011-11-30', '2011-12-26',\n",
       "               '2012-01-25', '2012-02-15', '2012-04-26', '2012-06-12',\n",
       "               '2012-07-19', '2012-09-12', '2012-11-06', '2013-02-13',\n",
       "               '2013-03-29', '2013-05-03', '2013-05-21', '2013-05-30',\n",
       "               '2013-07-17', '2013-07-25', '2013-08-19', '2013-10-02',\n",
       "               '2013-11-20', '2014-01-27', '2014-02-13', '2014-03-31',\n",
       "               '2014-05-14', '2014-07-18', '2014-10-30', '2014-11-27',\n",
       "               '2014-12-19', '2015-01-13', '2015-02-25', '2015-04-09',\n",
       "               '2015-04-22', '2015-06-25', '2015-07-02', '2015-07-21',\n",
       "               '2015-09-08', '2015-10-07', '2015-12-01', '2015-12-22',\n",
       "               '2015-12-24', '2016-02-02', '2016-02-17', '2016-04-18',\n",
       "               '2016-05-11', '2016-05-25', '2016-07-01', '2016-09-08',\n",
       "               '2016-10-04', '2016-10-21', '2016-11-01', '2016-11-24',\n",
       "               '2017-02-23', '2017-04-13', '2017-04-27', '2017-06-09',\n",
       "               '2017-08-25', '2017-09-06', '2018-01-04', '2018-01-29',\n",
       "               '2018-03-08', '2018-04-17', '2018-05-28', '2018-06-07',\n",
       "               '2018-07-19', '2018-08-27', '2018-09-21', '2018-11-06',\n",
       "               '2019-01-11', '2019-03-25', '2019-06-04', '2019-07-15',\n",
       "               '2019-08-28', '2019-08-30', '2019-10-11', '2019-12-12',\n",
       "               '2020-02-10', '2020-04-07', '2020-05-21', '2020-07-06',\n",
       "               '2020-09-09', '2020-10-08'],\n",
       "              dtype='datetime64[ns]', name='Date', freq=None)"
      ]
     },
     "execution_count": 112,
     "metadata": {},
     "output_type": "execute_result"
    }
   ],
   "source": [
    "long_index"
   ]
  },
  {
   "cell_type": "code",
   "execution_count": 113,
   "id": "52196d7e",
   "metadata": {
    "ExecuteTime": {
     "end_time": "2022-04-28T07:19:31.190231Z",
     "start_time": "2022-04-28T07:19:31.020684Z"
    }
   },
   "outputs": [
    {
     "data": {
      "text/plain": [
       "<AxesSubplot:xlabel='Date'>"
      ]
     },
     "execution_count": 113,
     "metadata": {},
     "output_type": "execute_result"
    },
    {
     "data": {
      "image/png": "[encoded data removed]",
      "text/plain": [
       "<Figure size 1080x360 with 1 Axes>"
      ]
     },
     "metadata": {
      "needs_background": "light"
     },
     "output_type": "display_data"
    }
   ],
   "source": [
    "df[['sma','lma']].loc['2018-01-01':].plot(figsize=(15,5))\n",
    "df.loc[long_index,'sma'].loc['2018-01-01':].plot(marker='o',color='red',linestyle='none',markersize=5)\n",
    "df.loc[exit_index,'sma'].loc['2018-01-01':].plot(marker='o',color='blue',linestyle='none',markersize=5)"
   ]
  },
  {
   "cell_type": "code",
   "execution_count": null,
   "id": "41411e4b",
   "metadata": {},
   "outputs": [],
   "source": []
  },
  {
   "cell_type": "code",
   "execution_count": 114,
   "id": "4a724a20",
   "metadata": {
    "ExecuteTime": {
     "end_time": "2022-04-28T07:19:31.236135Z",
     "start_time": "2022-04-28T07:19:31.222146Z"
    }
   },
   "outputs": [
    {
     "data": {
      "text/html": [
       "<div>\n",
       "<style scoped>\n",
       "    .dataframe tbody tr th:only-of-type {\n",
       "        vertical-align: middle;\n",
       "    }\n",
       "\n",
       "    .dataframe tbody tr th {\n",
       "        vertical-align: top;\n",
       "    }\n",
       "\n",
       "    .dataframe thead th {\n",
       "        text-align: right;\n",
       "    }\n",
       "</style>\n",
       "<table border=\"1\" class=\"dataframe\">\n",
       "  <thead>\n",
       "    <tr style=\"text-align: right;\">\n",
       "      <th></th>\n",
       "      <th>Open</th>\n",
       "      <th>High</th>\n",
       "      <th>Low</th>\n",
       "      <th>Close</th>\n",
       "      <th>Volume</th>\n",
       "      <th>Change</th>\n",
       "      <th>sma</th>\n",
       "      <th>lma</th>\n",
       "      <th>position</th>\n",
       "      <th>rtn</th>\n",
       "    </tr>\n",
       "    <tr>\n",
       "      <th>Date</th>\n",
       "      <th></th>\n",
       "      <th></th>\n",
       "      <th></th>\n",
       "      <th></th>\n",
       "      <th></th>\n",
       "      <th></th>\n",
       "      <th></th>\n",
       "      <th></th>\n",
       "      <th></th>\n",
       "      <th></th>\n",
       "    </tr>\n",
       "  </thead>\n",
       "  <tbody>\n",
       "    <tr>\n",
       "      <th>2010-01-29</th>\n",
       "      <td>16000</td>\n",
       "      <td>16019</td>\n",
       "      <td>15600</td>\n",
       "      <td>15680</td>\n",
       "      <td>457285</td>\n",
       "      <td>-0.029703</td>\n",
       "      <td>16196.0</td>\n",
       "      <td>16402.0</td>\n",
       "      <td>0</td>\n",
       "      <td>0.000000</td>\n",
       "    </tr>\n",
       "    <tr>\n",
       "      <th>2010-02-01</th>\n",
       "      <td>15679</td>\n",
       "      <td>15700</td>\n",
       "      <td>15300</td>\n",
       "      <td>15540</td>\n",
       "      <td>501042</td>\n",
       "      <td>-0.008929</td>\n",
       "      <td>15936.0</td>\n",
       "      <td>16370.0</td>\n",
       "      <td>0</td>\n",
       "      <td>-0.008969</td>\n",
       "    </tr>\n",
       "    <tr>\n",
       "      <th>2010-02-02</th>\n",
       "      <td>15800</td>\n",
       "      <td>15800</td>\n",
       "      <td>15400</td>\n",
       "      <td>15440</td>\n",
       "      <td>393803</td>\n",
       "      <td>-0.006435</td>\n",
       "      <td>15764.0</td>\n",
       "      <td>16320.0</td>\n",
       "      <td>0</td>\n",
       "      <td>-0.006456</td>\n",
       "    </tr>\n",
       "    <tr>\n",
       "      <th>2010-02-03</th>\n",
       "      <td>15640</td>\n",
       "      <td>15700</td>\n",
       "      <td>15360</td>\n",
       "      <td>15540</td>\n",
       "      <td>330235</td>\n",
       "      <td>0.006477</td>\n",
       "      <td>15672.0</td>\n",
       "      <td>16256.0</td>\n",
       "      <td>0</td>\n",
       "      <td>0.006456</td>\n",
       "    </tr>\n",
       "    <tr>\n",
       "      <th>2010-02-04</th>\n",
       "      <td>15500</td>\n",
       "      <td>15660</td>\n",
       "      <td>15440</td>\n",
       "      <td>15520</td>\n",
       "      <td>239799</td>\n",
       "      <td>-0.001287</td>\n",
       "      <td>15544.0</td>\n",
       "      <td>16219.0</td>\n",
       "      <td>0</td>\n",
       "      <td>-0.001288</td>\n",
       "    </tr>\n",
       "    <tr>\n",
       "      <th>...</th>\n",
       "      <td>...</td>\n",
       "      <td>...</td>\n",
       "      <td>...</td>\n",
       "      <td>...</td>\n",
       "      <td>...</td>\n",
       "      <td>...</td>\n",
       "      <td>...</td>\n",
       "      <td>...</td>\n",
       "      <td>...</td>\n",
       "      <td>...</td>\n",
       "    </tr>\n",
       "    <tr>\n",
       "      <th>2020-10-26</th>\n",
       "      <td>60400</td>\n",
       "      <td>61100</td>\n",
       "      <td>60100</td>\n",
       "      <td>60400</td>\n",
       "      <td>13268226</td>\n",
       "      <td>0.003322</td>\n",
       "      <td>60500.0</td>\n",
       "      <td>59610.0</td>\n",
       "      <td>1</td>\n",
       "      <td>0.003317</td>\n",
       "    </tr>\n",
       "    <tr>\n",
       "      <th>2020-10-27</th>\n",
       "      <td>60300</td>\n",
       "      <td>60300</td>\n",
       "      <td>59500</td>\n",
       "      <td>59800</td>\n",
       "      <td>17260416</td>\n",
       "      <td>-0.009934</td>\n",
       "      <td>60280.0</td>\n",
       "      <td>59670.0</td>\n",
       "      <td>1</td>\n",
       "      <td>-0.009983</td>\n",
       "    </tr>\n",
       "    <tr>\n",
       "      <th>2020-10-28</th>\n",
       "      <td>59400</td>\n",
       "      <td>59400</td>\n",
       "      <td>58800</td>\n",
       "      <td>59000</td>\n",
       "      <td>14428882</td>\n",
       "      <td>-0.013378</td>\n",
       "      <td>59900.0</td>\n",
       "      <td>59730.0</td>\n",
       "      <td>1</td>\n",
       "      <td>-0.013468</td>\n",
       "    </tr>\n",
       "    <tr>\n",
       "      <th>2020-10-29</th>\n",
       "      <td>58200</td>\n",
       "      <td>58500</td>\n",
       "      <td>57500</td>\n",
       "      <td>58100</td>\n",
       "      <td>22636966</td>\n",
       "      <td>-0.015254</td>\n",
       "      <td>59500.0</td>\n",
       "      <td>59740.0</td>\n",
       "      <td>0</td>\n",
       "      <td>-0.015372</td>\n",
       "    </tr>\n",
       "    <tr>\n",
       "      <th>2020-10-30</th>\n",
       "      <td>58000</td>\n",
       "      <td>58000</td>\n",
       "      <td>56600</td>\n",
       "      <td>56600</td>\n",
       "      <td>26907844</td>\n",
       "      <td>-0.025818</td>\n",
       "      <td>58780.0</td>\n",
       "      <td>59660.0</td>\n",
       "      <td>0</td>\n",
       "      <td>-0.026157</td>\n",
       "    </tr>\n",
       "  </tbody>\n",
       "</table>\n",
       "<p>2653 rows × 10 columns</p>\n",
       "</div>"
      ],
      "text/plain": [
       "             Open   High    Low  Close    Volume    Change      sma      lma  \\\n",
       "Date                                                                           \n",
       "2010-01-29  16000  16019  15600  15680    457285 -0.029703  16196.0  16402.0   \n",
       "2010-02-01  15679  15700  15300  15540    501042 -0.008929  15936.0  16370.0   \n",
       "2010-02-02  15800  15800  15400  15440    393803 -0.006435  15764.0  16320.0   \n",
       "2010-02-03  15640  15700  15360  15540    330235  0.006477  15672.0  16256.0   \n",
       "2010-02-04  15500  15660  15440  15520    239799 -0.001287  15544.0  16219.0   \n",
       "...           ...    ...    ...    ...       ...       ...      ...      ...   \n",
       "2020-10-26  60400  61100  60100  60400  13268226  0.003322  60500.0  59610.0   \n",
       "2020-10-27  60300  60300  59500  59800  17260416 -0.009934  60280.0  59670.0   \n",
       "2020-10-28  59400  59400  58800  59000  14428882 -0.013378  59900.0  59730.0   \n",
       "2020-10-29  58200  58500  57500  58100  22636966 -0.015254  59500.0  59740.0   \n",
       "2020-10-30  58000  58000  56600  56600  26907844 -0.025818  58780.0  59660.0   \n",
       "\n",
       "            position       rtn  \n",
       "Date                            \n",
       "2010-01-29         0  0.000000  \n",
       "2010-02-01         0 -0.008969  \n",
       "2010-02-02         0 -0.006456  \n",
       "2010-02-03         0  0.006456  \n",
       "2010-02-04         0 -0.001288  \n",
       "...              ...       ...  \n",
       "2020-10-26         1  0.003317  \n",
       "2020-10-27         1 -0.009983  \n",
       "2020-10-28         1 -0.013468  \n",
       "2020-10-29         0 -0.015372  \n",
       "2020-10-30         0 -0.026157  \n",
       "\n",
       "[2653 rows x 10 columns]"
      ]
     },
     "execution_count": 114,
     "metadata": {},
     "output_type": "execute_result"
    }
   ],
   "source": [
    "df.loc[:,'rtn'] = get_return_df(df['Close'],N=1,log=True)\n",
    "df"
   ]
  },
  {
   "cell_type": "code",
   "execution_count": 115,
   "id": "e5e605fc",
   "metadata": {
    "ExecuteTime": {
     "end_time": "2022-04-28T07:19:31.283980Z",
     "start_time": "2022-04-28T07:19:31.268053Z"
    }
   },
   "outputs": [],
   "source": [
    "# 투자전략 수익률\n",
    "df.loc[:,'str_rtn'] = (df['position'].shift(1)*df['rtn']).fillna(0)"
   ]
  },
  {
   "cell_type": "code",
   "execution_count": 116,
   "id": "3cd2d35f",
   "metadata": {
    "ExecuteTime": {
     "end_time": "2022-04-28T07:19:31.330880Z",
     "start_time": "2022-04-28T07:19:31.316892Z"
    }
   },
   "outputs": [],
   "source": [
    "# 투자전략 수익률의 누적합\n",
    "df.loc[:,'cum_str_rtn'] = get_cum_returns_df(df['str_rtn'],log=True)"
   ]
  },
  {
   "cell_type": "code",
   "execution_count": 117,
   "id": "48a42162",
   "metadata": {
    "ExecuteTime": {
     "end_time": "2022-04-28T07:19:31.377757Z",
     "start_time": "2022-04-28T07:19:31.362794Z"
    }
   },
   "outputs": [
    {
     "data": {
      "text/html": [
       "<div>\n",
       "<style scoped>\n",
       "    .dataframe tbody tr th:only-of-type {\n",
       "        vertical-align: middle;\n",
       "    }\n",
       "\n",
       "    .dataframe tbody tr th {\n",
       "        vertical-align: top;\n",
       "    }\n",
       "\n",
       "    .dataframe thead th {\n",
       "        text-align: right;\n",
       "    }\n",
       "</style>\n",
       "<table border=\"1\" class=\"dataframe\">\n",
       "  <thead>\n",
       "    <tr style=\"text-align: right;\">\n",
       "      <th></th>\n",
       "      <th>Open</th>\n",
       "      <th>High</th>\n",
       "      <th>Low</th>\n",
       "      <th>Close</th>\n",
       "      <th>Volume</th>\n",
       "      <th>Change</th>\n",
       "      <th>sma</th>\n",
       "      <th>lma</th>\n",
       "      <th>position</th>\n",
       "      <th>rtn</th>\n",
       "      <th>str_rtn</th>\n",
       "      <th>cum_str_rtn</th>\n",
       "    </tr>\n",
       "    <tr>\n",
       "      <th>Date</th>\n",
       "      <th></th>\n",
       "      <th></th>\n",
       "      <th></th>\n",
       "      <th></th>\n",
       "      <th></th>\n",
       "      <th></th>\n",
       "      <th></th>\n",
       "      <th></th>\n",
       "      <th></th>\n",
       "      <th></th>\n",
       "      <th></th>\n",
       "      <th></th>\n",
       "    </tr>\n",
       "  </thead>\n",
       "  <tbody>\n",
       "    <tr>\n",
       "      <th>2010-01-29</th>\n",
       "      <td>16000</td>\n",
       "      <td>16019</td>\n",
       "      <td>15600</td>\n",
       "      <td>15680</td>\n",
       "      <td>457285</td>\n",
       "      <td>-0.029703</td>\n",
       "      <td>16196.0</td>\n",
       "      <td>16402.0</td>\n",
       "      <td>0</td>\n",
       "      <td>0.000000</td>\n",
       "      <td>0.000000</td>\n",
       "      <td>1.000000</td>\n",
       "    </tr>\n",
       "    <tr>\n",
       "      <th>2010-02-01</th>\n",
       "      <td>15679</td>\n",
       "      <td>15700</td>\n",
       "      <td>15300</td>\n",
       "      <td>15540</td>\n",
       "      <td>501042</td>\n",
       "      <td>-0.008929</td>\n",
       "      <td>15936.0</td>\n",
       "      <td>16370.0</td>\n",
       "      <td>0</td>\n",
       "      <td>-0.008969</td>\n",
       "      <td>-0.000000</td>\n",
       "      <td>1.000000</td>\n",
       "    </tr>\n",
       "    <tr>\n",
       "      <th>2010-02-02</th>\n",
       "      <td>15800</td>\n",
       "      <td>15800</td>\n",
       "      <td>15400</td>\n",
       "      <td>15440</td>\n",
       "      <td>393803</td>\n",
       "      <td>-0.006435</td>\n",
       "      <td>15764.0</td>\n",
       "      <td>16320.0</td>\n",
       "      <td>0</td>\n",
       "      <td>-0.006456</td>\n",
       "      <td>-0.000000</td>\n",
       "      <td>1.000000</td>\n",
       "    </tr>\n",
       "    <tr>\n",
       "      <th>2010-02-03</th>\n",
       "      <td>15640</td>\n",
       "      <td>15700</td>\n",
       "      <td>15360</td>\n",
       "      <td>15540</td>\n",
       "      <td>330235</td>\n",
       "      <td>0.006477</td>\n",
       "      <td>15672.0</td>\n",
       "      <td>16256.0</td>\n",
       "      <td>0</td>\n",
       "      <td>0.006456</td>\n",
       "      <td>0.000000</td>\n",
       "      <td>1.000000</td>\n",
       "    </tr>\n",
       "    <tr>\n",
       "      <th>2010-02-04</th>\n",
       "      <td>15500</td>\n",
       "      <td>15660</td>\n",
       "      <td>15440</td>\n",
       "      <td>15520</td>\n",
       "      <td>239799</td>\n",
       "      <td>-0.001287</td>\n",
       "      <td>15544.0</td>\n",
       "      <td>16219.0</td>\n",
       "      <td>0</td>\n",
       "      <td>-0.001288</td>\n",
       "      <td>-0.000000</td>\n",
       "      <td>1.000000</td>\n",
       "    </tr>\n",
       "    <tr>\n",
       "      <th>...</th>\n",
       "      <td>...</td>\n",
       "      <td>...</td>\n",
       "      <td>...</td>\n",
       "      <td>...</td>\n",
       "      <td>...</td>\n",
       "      <td>...</td>\n",
       "      <td>...</td>\n",
       "      <td>...</td>\n",
       "      <td>...</td>\n",
       "      <td>...</td>\n",
       "      <td>...</td>\n",
       "      <td>...</td>\n",
       "    </tr>\n",
       "    <tr>\n",
       "      <th>2020-10-26</th>\n",
       "      <td>60400</td>\n",
       "      <td>61100</td>\n",
       "      <td>60100</td>\n",
       "      <td>60400</td>\n",
       "      <td>13268226</td>\n",
       "      <td>0.003322</td>\n",
       "      <td>60500.0</td>\n",
       "      <td>59610.0</td>\n",
       "      <td>1</td>\n",
       "      <td>0.003317</td>\n",
       "      <td>0.003317</td>\n",
       "      <td>1.352149</td>\n",
       "    </tr>\n",
       "    <tr>\n",
       "      <th>2020-10-27</th>\n",
       "      <td>60300</td>\n",
       "      <td>60300</td>\n",
       "      <td>59500</td>\n",
       "      <td>59800</td>\n",
       "      <td>17260416</td>\n",
       "      <td>-0.009934</td>\n",
       "      <td>60280.0</td>\n",
       "      <td>59670.0</td>\n",
       "      <td>1</td>\n",
       "      <td>-0.009983</td>\n",
       "      <td>-0.009983</td>\n",
       "      <td>1.338717</td>\n",
       "    </tr>\n",
       "    <tr>\n",
       "      <th>2020-10-28</th>\n",
       "      <td>59400</td>\n",
       "      <td>59400</td>\n",
       "      <td>58800</td>\n",
       "      <td>59000</td>\n",
       "      <td>14428882</td>\n",
       "      <td>-0.013378</td>\n",
       "      <td>59900.0</td>\n",
       "      <td>59730.0</td>\n",
       "      <td>1</td>\n",
       "      <td>-0.013468</td>\n",
       "      <td>-0.013468</td>\n",
       "      <td>1.320808</td>\n",
       "    </tr>\n",
       "    <tr>\n",
       "      <th>2020-10-29</th>\n",
       "      <td>58200</td>\n",
       "      <td>58500</td>\n",
       "      <td>57500</td>\n",
       "      <td>58100</td>\n",
       "      <td>22636966</td>\n",
       "      <td>-0.015254</td>\n",
       "      <td>59500.0</td>\n",
       "      <td>59740.0</td>\n",
       "      <td>0</td>\n",
       "      <td>-0.015372</td>\n",
       "      <td>-0.015372</td>\n",
       "      <td>1.300660</td>\n",
       "    </tr>\n",
       "    <tr>\n",
       "      <th>2020-10-30</th>\n",
       "      <td>58000</td>\n",
       "      <td>58000</td>\n",
       "      <td>56600</td>\n",
       "      <td>56600</td>\n",
       "      <td>26907844</td>\n",
       "      <td>-0.025818</td>\n",
       "      <td>58780.0</td>\n",
       "      <td>59660.0</td>\n",
       "      <td>0</td>\n",
       "      <td>-0.026157</td>\n",
       "      <td>-0.000000</td>\n",
       "      <td>1.300660</td>\n",
       "    </tr>\n",
       "  </tbody>\n",
       "</table>\n",
       "<p>2653 rows × 12 columns</p>\n",
       "</div>"
      ],
      "text/plain": [
       "             Open   High    Low  Close    Volume    Change      sma      lma  \\\n",
       "Date                                                                           \n",
       "2010-01-29  16000  16019  15600  15680    457285 -0.029703  16196.0  16402.0   \n",
       "2010-02-01  15679  15700  15300  15540    501042 -0.008929  15936.0  16370.0   \n",
       "2010-02-02  15800  15800  15400  15440    393803 -0.006435  15764.0  16320.0   \n",
       "2010-02-03  15640  15700  15360  15540    330235  0.006477  15672.0  16256.0   \n",
       "2010-02-04  15500  15660  15440  15520    239799 -0.001287  15544.0  16219.0   \n",
       "...           ...    ...    ...    ...       ...       ...      ...      ...   \n",
       "2020-10-26  60400  61100  60100  60400  13268226  0.003322  60500.0  59610.0   \n",
       "2020-10-27  60300  60300  59500  59800  17260416 -0.009934  60280.0  59670.0   \n",
       "2020-10-28  59400  59400  58800  59000  14428882 -0.013378  59900.0  59730.0   \n",
       "2020-10-29  58200  58500  57500  58100  22636966 -0.015254  59500.0  59740.0   \n",
       "2020-10-30  58000  58000  56600  56600  26907844 -0.025818  58780.0  59660.0   \n",
       "\n",
       "            position       rtn   str_rtn  cum_str_rtn  \n",
       "Date                                                   \n",
       "2010-01-29         0  0.000000  0.000000     1.000000  \n",
       "2010-02-01         0 -0.008969 -0.000000     1.000000  \n",
       "2010-02-02         0 -0.006456 -0.000000     1.000000  \n",
       "2010-02-03         0  0.006456  0.000000     1.000000  \n",
       "2010-02-04         0 -0.001288 -0.000000     1.000000  \n",
       "...              ...       ...       ...          ...  \n",
       "2020-10-26         1  0.003317  0.003317     1.352149  \n",
       "2020-10-27         1 -0.009983 -0.009983     1.338717  \n",
       "2020-10-28         1 -0.013468 -0.013468     1.320808  \n",
       "2020-10-29         0 -0.015372 -0.015372     1.300660  \n",
       "2020-10-30         0 -0.026157 -0.000000     1.300660  \n",
       "\n",
       "[2653 rows x 12 columns]"
      ]
     },
     "execution_count": 117,
     "metadata": {},
     "output_type": "execute_result"
    }
   ],
   "source": [
    "df"
   ]
  },
  {
   "cell_type": "code",
   "execution_count": 118,
   "id": "bfbf0185",
   "metadata": {
    "ExecuteTime": {
     "end_time": "2022-04-28T07:19:31.423630Z",
     "start_time": "2022-04-28T07:19:31.409643Z"
    }
   },
   "outputs": [],
   "source": [
    "cagr = get_cagr_series(df['cum_str_rtn'], num_day_in_year=250)\n",
    "sharp_ratio =get_sharpe_ratio(df['str_rtn'], yearly_rfr = 0.025)"
   ]
  },
  {
   "cell_type": "code",
   "execution_count": 119,
   "id": "34a600c1",
   "metadata": {
    "ExecuteTime": {
     "end_time": "2022-04-28T07:19:31.469511Z",
     "start_time": "2022-04-28T07:19:31.455522Z"
    }
   },
   "outputs": [],
   "source": [
    "mdd_series, longest_dd_period, ldd_sd, ldd_ed = get_drawdown_infos(df['cum_str_rtn'])"
   ]
  },
  {
   "cell_type": "code",
   "execution_count": 120,
   "id": "d8cd4fe6",
   "metadata": {
    "ExecuteTime": {
     "end_time": "2022-04-28T07:19:31.516386Z",
     "start_time": "2022-04-28T07:19:31.502396Z"
    }
   },
   "outputs": [
    {
     "name": "stdout",
     "output_type": "stream",
     "text": [
      "cagr:  1.025080520098154\n",
      "sharp_ratio:  -0.00016068342693508565\n",
      "최대하락폭:  -0.36030614769557534\n",
      "최대하락기간:  1764\n",
      "하락시작기간:  2013-01-02 00:00:00\n",
      "하락끝기간:  2017-11-01 00:00:00\n"
     ]
    }
   ],
   "source": [
    "print('cagr: ',cagr)\n",
    "print('sharp_ratio: ', sharp_ratio)\n",
    "print('최대하락폭: ',mdd_series)\n",
    "print('최대하락기간: ', longest_dd_period)\n",
    "print('하락시작기간: ', ldd_sd)\n",
    "print('하락끝기간: ', ldd_ed)"
   ]
  },
  {
   "cell_type": "code",
   "execution_count": null,
   "id": "79d0b81c",
   "metadata": {},
   "outputs": [],
   "source": []
  },
  {
   "cell_type": "markdown",
   "id": "0e3c1ec6",
   "metadata": {},
   "source": [
    "## 모멘텀 전략"
   ]
  },
  {
   "cell_type": "code",
   "execution_count": 121,
   "id": "a22852cf",
   "metadata": {
    "ExecuteTime": {
     "end_time": "2022-04-28T07:19:31.655986Z",
     "start_time": "2022-04-28T07:19:31.550304Z"
    }
   },
   "outputs": [],
   "source": [
    "df = fdr.DataReader('005930','2018-01-02','2022-04-29')"
   ]
  },
  {
   "cell_type": "code",
   "execution_count": 122,
   "id": "575c14ba",
   "metadata": {
    "ExecuteTime": {
     "end_time": "2022-04-28T07:19:31.702887Z",
     "start_time": "2022-04-28T07:19:31.687900Z"
    }
   },
   "outputs": [],
   "source": [
    "# 3달 모멘텀\n",
    "momentum_window = 20 * 3"
   ]
  },
  {
   "cell_type": "code",
   "execution_count": 123,
   "id": "071b269e",
   "metadata": {
    "ExecuteTime": {
     "end_time": "2022-04-28T07:19:31.750759Z",
     "start_time": "2022-04-28T07:19:31.736769Z"
    }
   },
   "outputs": [
    {
     "data": {
      "text/plain": [
       "Date\n",
       "2018-03-29    0.0\n",
       "2018-03-30   -1.0\n",
       "2018-04-02   -1.0\n",
       "2018-04-03   -1.0\n",
       "2018-04-04   -1.0\n",
       "Name: Close, dtype: float64"
      ]
     },
     "execution_count": 123,
     "metadata": {},
     "output_type": "execute_result"
    }
   ],
   "source": [
    "# np.sign: 0보다 크면 1 작으면 -1 반환\n",
    "position = np.sign(get_return_df(df['Close'],N=momentum_window)) # 3달후 수익률이 0보다 크면 1, 작으면 -1\n",
    "position.head()"
   ]
  },
  {
   "cell_type": "code",
   "execution_count": 124,
   "id": "321a23de",
   "metadata": {
    "ExecuteTime": {
     "end_time": "2022-04-28T07:19:31.795636Z",
     "start_time": "2022-04-28T07:19:31.781650Z"
    }
   },
   "outputs": [
    {
     "data": {
      "text/plain": [
       " 1.0    537\n",
       "-1.0    464\n",
       " 0.0      5\n",
       "Name: Close, dtype: int64"
      ]
     },
     "execution_count": 124,
     "metadata": {},
     "output_type": "execute_result"
    }
   ],
   "source": [
    "position.value_counts()"
   ]
  },
  {
   "cell_type": "code",
   "execution_count": 125,
   "id": "54d65a15",
   "metadata": {
    "ExecuteTime": {
     "end_time": "2022-04-28T07:19:32.275358Z",
     "start_time": "2022-04-28T07:19:32.263361Z"
    }
   },
   "outputs": [],
   "source": [
    "# 매수 포지션만 사용 -> 주식을 가지고 있거나(1), 가지고 있지 않거나(-1)\n",
    "position[position ==-1] = 0"
   ]
  },
  {
   "cell_type": "code",
   "execution_count": 126,
   "id": "dc890d81",
   "metadata": {
    "ExecuteTime": {
     "end_time": "2022-04-28T07:19:32.321206Z",
     "start_time": "2022-04-28T07:19:32.306246Z"
    }
   },
   "outputs": [
    {
     "data": {
      "text/plain": [
       "1.0    537\n",
       "0.0    469\n",
       "Name: Close, dtype: int64"
      ]
     },
     "execution_count": 126,
     "metadata": {},
     "output_type": "execute_result"
    }
   ],
   "source": [
    "position.value_counts()"
   ]
  },
  {
   "cell_type": "code",
   "execution_count": 127,
   "id": "0e5c3497",
   "metadata": {
    "ExecuteTime": {
     "end_time": "2022-04-28T07:19:32.849821Z",
     "start_time": "2022-04-28T07:19:32.719142Z"
    }
   },
   "outputs": [
    {
     "data": {
      "text/plain": [
       "<AxesSubplot:xlabel='Date'>"
      ]
     },
     "execution_count": 127,
     "metadata": {},
     "output_type": "execute_result"
    },
    {
     "data": {
      "image/png": "[encoded data removed]",
      "text/plain": [
       "<Figure size 1080x144 with 1 Axes>"
      ]
     },
     "metadata": {
      "needs_background": "light"
     },
     "output_type": "display_data"
    }
   ],
   "source": [
    "position.plot(marker='.', linestyle='none', figsize=(15,2), ylim=[-1.01,1.7])"
   ]
  },
  {
   "cell_type": "code",
   "execution_count": 128,
   "id": "52e2f7fb",
   "metadata": {
    "ExecuteTime": {
     "end_time": "2022-04-28T07:19:33.085192Z",
     "start_time": "2022-04-28T07:19:33.071201Z"
    }
   },
   "outputs": [],
   "source": [
    "df.loc[:,'position'] = position"
   ]
  },
  {
   "cell_type": "code",
   "execution_count": 129,
   "id": "da0e965a",
   "metadata": {
    "ExecuteTime": {
     "end_time": "2022-04-28T07:19:33.286625Z",
     "start_time": "2022-04-28T07:19:33.279644Z"
    }
   },
   "outputs": [],
   "source": [
    "df.dropna(inplace=True)"
   ]
  },
  {
   "cell_type": "code",
   "execution_count": 130,
   "id": "b312cc7b",
   "metadata": {
    "ExecuteTime": {
     "end_time": "2022-04-28T07:19:33.489114Z",
     "start_time": "2022-04-28T07:19:33.471132Z"
    }
   },
   "outputs": [
    {
     "data": {
      "text/html": [
       "<div>\n",
       "<style scoped>\n",
       "    .dataframe tbody tr th:only-of-type {\n",
       "        vertical-align: middle;\n",
       "    }\n",
       "\n",
       "    .dataframe tbody tr th {\n",
       "        vertical-align: top;\n",
       "    }\n",
       "\n",
       "    .dataframe thead th {\n",
       "        text-align: right;\n",
       "    }\n",
       "</style>\n",
       "<table border=\"1\" class=\"dataframe\">\n",
       "  <thead>\n",
       "    <tr style=\"text-align: right;\">\n",
       "      <th></th>\n",
       "      <th>Open</th>\n",
       "      <th>High</th>\n",
       "      <th>Low</th>\n",
       "      <th>Close</th>\n",
       "      <th>Volume</th>\n",
       "      <th>Change</th>\n",
       "      <th>position</th>\n",
       "    </tr>\n",
       "    <tr>\n",
       "      <th>Date</th>\n",
       "      <th></th>\n",
       "      <th></th>\n",
       "      <th></th>\n",
       "      <th></th>\n",
       "      <th></th>\n",
       "      <th></th>\n",
       "      <th></th>\n",
       "    </tr>\n",
       "  </thead>\n",
       "  <tbody>\n",
       "    <tr>\n",
       "      <th>2018-03-29</th>\n",
       "      <td>48700</td>\n",
       "      <td>49560</td>\n",
       "      <td>48320</td>\n",
       "      <td>49040</td>\n",
       "      <td>201340</td>\n",
       "      <td>0.006982</td>\n",
       "      <td>0.0</td>\n",
       "    </tr>\n",
       "    <tr>\n",
       "      <th>2018-03-30</th>\n",
       "      <td>49080</td>\n",
       "      <td>49900</td>\n",
       "      <td>49080</td>\n",
       "      <td>49220</td>\n",
       "      <td>155542</td>\n",
       "      <td>0.003670</td>\n",
       "      <td>0.0</td>\n",
       "    </tr>\n",
       "    <tr>\n",
       "      <th>2018-04-02</th>\n",
       "      <td>49000</td>\n",
       "      <td>49220</td>\n",
       "      <td>48500</td>\n",
       "      <td>48540</td>\n",
       "      <td>142313</td>\n",
       "      <td>-0.013816</td>\n",
       "      <td>0.0</td>\n",
       "    </tr>\n",
       "    <tr>\n",
       "      <th>2018-04-03</th>\n",
       "      <td>47880</td>\n",
       "      <td>48140</td>\n",
       "      <td>47280</td>\n",
       "      <td>48120</td>\n",
       "      <td>255365</td>\n",
       "      <td>-0.008653</td>\n",
       "      <td>0.0</td>\n",
       "    </tr>\n",
       "    <tr>\n",
       "      <th>2018-04-04</th>\n",
       "      <td>48160</td>\n",
       "      <td>48260</td>\n",
       "      <td>46920</td>\n",
       "      <td>46920</td>\n",
       "      <td>247684</td>\n",
       "      <td>-0.024938</td>\n",
       "      <td>0.0</td>\n",
       "    </tr>\n",
       "    <tr>\n",
       "      <th>...</th>\n",
       "      <td>...</td>\n",
       "      <td>...</td>\n",
       "      <td>...</td>\n",
       "      <td>...</td>\n",
       "      <td>...</td>\n",
       "      <td>...</td>\n",
       "      <td>...</td>\n",
       "    </tr>\n",
       "    <tr>\n",
       "      <th>2022-04-22</th>\n",
       "      <td>67200</td>\n",
       "      <td>67300</td>\n",
       "      <td>66700</td>\n",
       "      <td>67000</td>\n",
       "      <td>11791478</td>\n",
       "      <td>-0.010340</td>\n",
       "      <td>0.0</td>\n",
       "    </tr>\n",
       "    <tr>\n",
       "      <th>2022-04-25</th>\n",
       "      <td>66500</td>\n",
       "      <td>66700</td>\n",
       "      <td>66300</td>\n",
       "      <td>66300</td>\n",
       "      <td>11016474</td>\n",
       "      <td>-0.010448</td>\n",
       "      <td>0.0</td>\n",
       "    </tr>\n",
       "    <tr>\n",
       "      <th>2022-04-26</th>\n",
       "      <td>66400</td>\n",
       "      <td>66700</td>\n",
       "      <td>66100</td>\n",
       "      <td>66100</td>\n",
       "      <td>12946923</td>\n",
       "      <td>-0.003017</td>\n",
       "      <td>0.0</td>\n",
       "    </tr>\n",
       "    <tr>\n",
       "      <th>2022-04-27</th>\n",
       "      <td>65400</td>\n",
       "      <td>65500</td>\n",
       "      <td>64900</td>\n",
       "      <td>65000</td>\n",
       "      <td>18122084</td>\n",
       "      <td>-0.016641</td>\n",
       "      <td>0.0</td>\n",
       "    </tr>\n",
       "    <tr>\n",
       "      <th>2022-04-28</th>\n",
       "      <td>65400</td>\n",
       "      <td>65500</td>\n",
       "      <td>64500</td>\n",
       "      <td>64800</td>\n",
       "      <td>16701453</td>\n",
       "      <td>-0.003077</td>\n",
       "      <td>0.0</td>\n",
       "    </tr>\n",
       "  </tbody>\n",
       "</table>\n",
       "<p>1006 rows × 7 columns</p>\n",
       "</div>"
      ],
      "text/plain": [
       "             Open   High    Low  Close    Volume    Change  position\n",
       "Date                                                                \n",
       "2018-03-29  48700  49560  48320  49040    201340  0.006982       0.0\n",
       "2018-03-30  49080  49900  49080  49220    155542  0.003670       0.0\n",
       "2018-04-02  49000  49220  48500  48540    142313 -0.013816       0.0\n",
       "2018-04-03  47880  48140  47280  48120    255365 -0.008653       0.0\n",
       "2018-04-04  48160  48260  46920  46920    247684 -0.024938       0.0\n",
       "...           ...    ...    ...    ...       ...       ...       ...\n",
       "2022-04-22  67200  67300  66700  67000  11791478 -0.010340       0.0\n",
       "2022-04-25  66500  66700  66300  66300  11016474 -0.010448       0.0\n",
       "2022-04-26  66400  66700  66100  66100  12946923 -0.003017       0.0\n",
       "2022-04-27  65400  65500  64900  65000  18122084 -0.016641       0.0\n",
       "2022-04-28  65400  65500  64500  64800  16701453 -0.003077       0.0\n",
       "\n",
       "[1006 rows x 7 columns]"
      ]
     },
     "execution_count": 130,
     "metadata": {},
     "output_type": "execute_result"
    }
   ],
   "source": [
    "df"
   ]
  },
  {
   "cell_type": "code",
   "execution_count": 131,
   "id": "1b6d074b",
   "metadata": {
    "ExecuteTime": {
     "end_time": "2022-04-28T07:19:33.693565Z",
     "start_time": "2022-04-28T07:19:33.678606Z"
    }
   },
   "outputs": [],
   "source": [
    "# 0 ->1 바뀔때\n",
    "long_index = df[(df['position']-df['position'].shift(1))== 1].index\n",
    "\n",
    "# 1->0 바뀔때\n",
    "exit_index = df[(df['position']-df['position'].shift(1))== -1].index"
   ]
  },
  {
   "cell_type": "code",
   "execution_count": 132,
   "id": "b3db7138",
   "metadata": {
    "ExecuteTime": {
     "end_time": "2022-04-28T07:19:34.135356Z",
     "start_time": "2022-04-28T07:19:33.950850Z"
    }
   },
   "outputs": [
    {
     "data": {
      "text/plain": [
       "<AxesSubplot:xlabel='Date'>"
      ]
     },
     "execution_count": 132,
     "metadata": {},
     "output_type": "execute_result"
    },
    {
     "data": {
      "image/png": "[encoded data removed]",
      "text/plain": [
       "<Figure size 1080x360 with 1 Axes>"
      ]
     },
     "metadata": {
      "needs_background": "light"
     },
     "output_type": "display_data"
    }
   ],
   "source": [
    "ax = df.loc[:,'Close'].loc['2018-01-01':].plot(figsize=(15,5))\n",
    "\n",
    "df.loc[long_index,'Close'].loc['2018-01-01':].plot(marker='o',color='red',linestyle='none',markersize=5)\n",
    "df.loc[exit_index,'Close'].loc['2018-01-01':].plot(marker='o',color='blue',linestyle='none',markersize=5)"
   ]
  },
  {
   "cell_type": "code",
   "execution_count": null,
   "id": "e9761b20",
   "metadata": {},
   "outputs": [],
   "source": []
  },
  {
   "cell_type": "code",
   "execution_count": 133,
   "id": "6606f303",
   "metadata": {
    "ExecuteTime": {
     "end_time": "2022-04-28T07:19:34.851441Z",
     "start_time": "2022-04-28T07:19:34.831495Z"
    }
   },
   "outputs": [],
   "source": [
    "df.loc[:, 'rtn'] = get_returns_df(df['Close'], N=1, log=True)\n",
    "df.loc[:, 'str_rtn'] = (df['position'].shift(1) * df['rtn']).fillna(0)\n",
    "\n",
    "df.loc[:, 'cum_str_rtn'] = get_cum_returns_df(df['str_rtn'], log=True)"
   ]
  },
  {
   "cell_type": "code",
   "execution_count": 134,
   "id": "5501a466",
   "metadata": {
    "ExecuteTime": {
     "end_time": "2022-04-28T07:19:37.396664Z",
     "start_time": "2022-04-28T07:19:37.391650Z"
    },
    "scrolled": true
   },
   "outputs": [],
   "source": [
    "cagr = get_cagr_series(df['cum_str_rtn'], num_day_in_year = 250)\n",
    "sharp_ratio = get_sharpe_ratio(df['str_rtn'], yearly_rfr = 0.025)\n",
    "mdd, ldd_period, ldd_st, ldd_ed = get_drawdown_infos(df['cum_str_rtn'])"
   ]
  },
  {
   "cell_type": "code",
   "execution_count": 135,
   "id": "b512ff3a",
   "metadata": {
    "ExecuteTime": {
     "end_time": "2022-04-28T07:19:44.099741Z",
     "start_time": "2022-04-28T07:19:44.094726Z"
    }
   },
   "outputs": [
    {
     "name": "stdout",
     "output_type": "stream",
     "text": [
      "cagr : 1.0567925409962098\n",
      "sharp_ratio : 0.16541971431568003\n",
      "Max_drawdown : -0.36030614769557534\n",
      "Longest_dd_period : 607\n",
      "Longest_dd_st_date : 2018-04-19 00:00:00\n",
      "Longest_dd_ed_date : 2019-12-17 00:00:00\n"
     ]
    }
   ],
   "source": [
    "print('cagr :', cagr)\n",
    "print('sharp_ratio :', sharp_ratio)\n",
    "print('Max_drawdown :', mdd_series)\n",
    "print('Longest_dd_period :', ldd_period)\n",
    "print('Longest_dd_st_date :', ldd_st)\n",
    "print('Longest_dd_ed_date :', ldd_ed)"
   ]
  },
  {
   "cell_type": "code",
   "execution_count": 136,
   "id": "2244df67",
   "metadata": {
    "ExecuteTime": {
     "end_time": "2022-04-28T07:19:52.794464Z",
     "start_time": "2022-04-28T07:19:52.638882Z"
    }
   },
   "outputs": [
    {
     "data": {
      "text/plain": [
       "<AxesSubplot:xlabel='Date'>"
      ]
     },
     "execution_count": 136,
     "metadata": {},
     "output_type": "execute_result"
    },
    {
     "data": {
      "image/png": "[encoded data removed]",
      "text/plain": [
       "<Figure size 1080x360 with 1 Axes>"
      ]
     },
     "metadata": {
      "needs_background": "light"
     },
     "output_type": "display_data"
    }
   ],
   "source": [
    "df.loc[:, 'cum_str_rtn'].plot(figsize=(15,5))"
   ]
  },
  {
   "cell_type": "code",
   "execution_count": 138,
   "id": "19916cc6",
   "metadata": {
    "ExecuteTime": {
     "end_time": "2022-04-28T07:20:02.727935Z",
     "start_time": "2022-04-28T07:20:02.719926Z"
    }
   },
   "outputs": [],
   "source": [
    "def momentum(df, mw):\n",
    "    \n",
    "    momentum_window=mw\n",
    "    \n",
    "    position = np.sign(get_returns_df(df['Close'], N=momentum_window))\n",
    "    position[position == -1] = 0\n",
    "    \n",
    "    df.loc[:, 'position'] = position\n",
    "    df.dropna(inplace=True)\n",
    "    \n",
    "    df.loc[:, 'rtn'] = get_returns_df(df['Close'], N=1, log=True)\n",
    "    df.loc[:, 'str_rtn'] = (df['position'].shift(1) * df['rtn']).fillna(0)\n",
    "\n",
    "    df.loc[:, 'cum_str_rtn'] = get_cum_returns_df(df['str_rtn'], log=True)\n",
    "    \n",
    "    cagr = get_cagr_series(df['cum_str_rtn'], num_day_in_year = 250)\n",
    "    sharp_ratio = get_sharpe_ratio(df['str_rtn'], yearly_rfr = 0.025)\n",
    "    mdd, ldd_period, ldd_st, ldd_ed = get_drawdown_infos(df['cum_str_rtn'])\n",
    "    \n",
    "    print('cagr :', cagr)\n",
    "    print('sharp_ratio :', sharp_ratio)\n",
    "    print('Max_drawdown :', mdd_series)\n",
    "    print('Longest_dd_period :', ldd_period)\n",
    "    print('Longest_dd_st_date :', ldd_st)\n",
    "    print('Longest_dd_ed_date :', ldd_ed)\n",
    "    \n",
    "    df.loc[:, 'cum_str_rtn'].plot(figsize=(15,5))"
   ]
  },
  {
   "cell_type": "code",
   "execution_count": 139,
   "id": "e3015fdc",
   "metadata": {
    "ExecuteTime": {
     "end_time": "2022-04-28T07:20:03.164765Z",
     "start_time": "2022-04-28T07:20:02.927371Z"
    }
   },
   "outputs": [
    {
     "name": "stdout",
     "output_type": "stream",
     "text": [
      "cagr : 0.987198424896133\n",
      "sharp_ratio : -0.11121261924501334\n",
      "Max_drawdown : -0.36030614769557534\n",
      "Longest_dd_period : 13\n",
      "Longest_dd_st_date : 2018-05-15 00:00:00\n",
      "Longest_dd_ed_date : 2018-05-28 00:00:00\n"
     ]
    },
    {
     "data": {
      "image/png": "[encoded data removed]",
      "text/plain": [
       "<Figure size 1080x360 with 1 Axes>"
      ]
     },
     "metadata": {
      "needs_background": "light"
     },
     "output_type": "display_data"
    }
   ],
   "source": [
    "df = fdr.DataReader('000720','2018-01-02','2022-04-29')\n",
    "mw = 60\n",
    "\n",
    "momentum(df, mw)"
   ]
  },
  {
   "cell_type": "code",
   "execution_count": null,
   "id": "be0cb654",
   "metadata": {},
   "outputs": [],
   "source": []
  },
  {
   "cell_type": "code",
   "execution_count": null,
   "id": "fa9ada19",
   "metadata": {},
   "outputs": [],
   "source": []
  },
  {
   "cell_type": "markdown",
   "id": "c7d0e7b1",
   "metadata": {},
   "source": [
    "## Mean Reverse전략"
   ]
  },
  {
   "cell_type": "code",
   "execution_count": 122,
   "id": "ef2897a9",
   "metadata": {
    "ExecuteTime": {
     "end_time": "2022-04-29T03:27:12.310158Z",
     "start_time": "2022-04-29T03:27:12.192476Z"
    }
   },
   "outputs": [
    {
     "data": {
      "text/html": [
       "<div>\n",
       "<style scoped>\n",
       "    .dataframe tbody tr th:only-of-type {\n",
       "        vertical-align: middle;\n",
       "    }\n",
       "\n",
       "    .dataframe tbody tr th {\n",
       "        vertical-align: top;\n",
       "    }\n",
       "\n",
       "    .dataframe thead th {\n",
       "        text-align: right;\n",
       "    }\n",
       "</style>\n",
       "<table border=\"1\" class=\"dataframe\">\n",
       "  <thead>\n",
       "    <tr style=\"text-align: right;\">\n",
       "      <th></th>\n",
       "      <th>Open</th>\n",
       "      <th>High</th>\n",
       "      <th>Low</th>\n",
       "      <th>Close</th>\n",
       "      <th>Volume</th>\n",
       "      <th>Change</th>\n",
       "    </tr>\n",
       "    <tr>\n",
       "      <th>Date</th>\n",
       "      <th></th>\n",
       "      <th></th>\n",
       "      <th></th>\n",
       "      <th></th>\n",
       "      <th></th>\n",
       "      <th></th>\n",
       "    </tr>\n",
       "  </thead>\n",
       "  <tbody>\n",
       "    <tr>\n",
       "      <th>2020-01-02</th>\n",
       "      <td>55500</td>\n",
       "      <td>56000</td>\n",
       "      <td>55000</td>\n",
       "      <td>55200</td>\n",
       "      <td>12993228</td>\n",
       "      <td>-0.010753</td>\n",
       "    </tr>\n",
       "    <tr>\n",
       "      <th>2020-01-03</th>\n",
       "      <td>56000</td>\n",
       "      <td>56600</td>\n",
       "      <td>54900</td>\n",
       "      <td>55500</td>\n",
       "      <td>15422255</td>\n",
       "      <td>0.005435</td>\n",
       "    </tr>\n",
       "    <tr>\n",
       "      <th>2020-01-06</th>\n",
       "      <td>54900</td>\n",
       "      <td>55600</td>\n",
       "      <td>54600</td>\n",
       "      <td>55500</td>\n",
       "      <td>10278951</td>\n",
       "      <td>0.000000</td>\n",
       "    </tr>\n",
       "    <tr>\n",
       "      <th>2020-01-07</th>\n",
       "      <td>55700</td>\n",
       "      <td>56400</td>\n",
       "      <td>55600</td>\n",
       "      <td>55800</td>\n",
       "      <td>10009778</td>\n",
       "      <td>0.005405</td>\n",
       "    </tr>\n",
       "    <tr>\n",
       "      <th>2020-01-08</th>\n",
       "      <td>56200</td>\n",
       "      <td>57400</td>\n",
       "      <td>55900</td>\n",
       "      <td>56800</td>\n",
       "      <td>23501171</td>\n",
       "      <td>0.017921</td>\n",
       "    </tr>\n",
       "  </tbody>\n",
       "</table>\n",
       "</div>"
      ],
      "text/plain": [
       "             Open   High    Low  Close    Volume    Change\n",
       "Date                                                      \n",
       "2020-01-02  55500  56000  55000  55200  12993228 -0.010753\n",
       "2020-01-03  56000  56600  54900  55500  15422255  0.005435\n",
       "2020-01-06  54900  55600  54600  55500  10278951  0.000000\n",
       "2020-01-07  55700  56400  55600  55800  10009778  0.005405\n",
       "2020-01-08  56200  57400  55900  56800  23501171  0.017921"
      ]
     },
     "execution_count": 122,
     "metadata": {},
     "output_type": "execute_result"
    }
   ],
   "source": [
    "df = fdr.DataReader('005930','2020-01-02','2022-04-30')\n",
    "df.head()"
   ]
  },
  {
   "cell_type": "code",
   "execution_count": 123,
   "id": "8baf635c",
   "metadata": {
    "ExecuteTime": {
     "end_time": "2022-04-29T03:27:12.389918Z",
     "start_time": "2022-04-29T03:27:12.369002Z"
    }
   },
   "outputs": [
    {
     "data": {
      "text/html": [
       "<div>\n",
       "<style scoped>\n",
       "    .dataframe tbody tr th:only-of-type {\n",
       "        vertical-align: middle;\n",
       "    }\n",
       "\n",
       "    .dataframe tbody tr th {\n",
       "        vertical-align: top;\n",
       "    }\n",
       "\n",
       "    .dataframe thead th {\n",
       "        text-align: right;\n",
       "    }\n",
       "</style>\n",
       "<table border=\"1\" class=\"dataframe\">\n",
       "  <thead>\n",
       "    <tr style=\"text-align: right;\">\n",
       "      <th></th>\n",
       "      <th>Close</th>\n",
       "    </tr>\n",
       "    <tr>\n",
       "      <th>Date</th>\n",
       "      <th></th>\n",
       "    </tr>\n",
       "  </thead>\n",
       "  <tbody>\n",
       "    <tr>\n",
       "      <th>2020-01-02</th>\n",
       "      <td>55200</td>\n",
       "    </tr>\n",
       "    <tr>\n",
       "      <th>2020-01-03</th>\n",
       "      <td>55500</td>\n",
       "    </tr>\n",
       "    <tr>\n",
       "      <th>2020-01-06</th>\n",
       "      <td>55500</td>\n",
       "    </tr>\n",
       "    <tr>\n",
       "      <th>2020-01-07</th>\n",
       "      <td>55800</td>\n",
       "    </tr>\n",
       "    <tr>\n",
       "      <th>2020-01-08</th>\n",
       "      <td>56800</td>\n",
       "    </tr>\n",
       "    <tr>\n",
       "      <th>...</th>\n",
       "      <td>...</td>\n",
       "    </tr>\n",
       "    <tr>\n",
       "      <th>2022-04-25</th>\n",
       "      <td>66300</td>\n",
       "    </tr>\n",
       "    <tr>\n",
       "      <th>2022-04-26</th>\n",
       "      <td>66100</td>\n",
       "    </tr>\n",
       "    <tr>\n",
       "      <th>2022-04-27</th>\n",
       "      <td>65000</td>\n",
       "    </tr>\n",
       "    <tr>\n",
       "      <th>2022-04-28</th>\n",
       "      <td>64800</td>\n",
       "    </tr>\n",
       "    <tr>\n",
       "      <th>2022-04-29</th>\n",
       "      <td>66900</td>\n",
       "    </tr>\n",
       "  </tbody>\n",
       "</table>\n",
       "<p>576 rows × 1 columns</p>\n",
       "</div>"
      ],
      "text/plain": [
       "            Close\n",
       "Date             \n",
       "2020-01-02  55200\n",
       "2020-01-03  55500\n",
       "2020-01-06  55500\n",
       "2020-01-07  55800\n",
       "2020-01-08  56800\n",
       "...           ...\n",
       "2022-04-25  66300\n",
       "2022-04-26  66100\n",
       "2022-04-27  65000\n",
       "2022-04-28  64800\n",
       "2022-04-29  66900\n",
       "\n",
       "[576 rows x 1 columns]"
      ]
     },
     "execution_count": 123,
     "metadata": {},
     "output_type": "execute_result"
    }
   ],
   "source": [
    "df = df[['Close']]\n",
    "df"
   ]
  },
  {
   "cell_type": "code",
   "execution_count": 124,
   "id": "6d81cc98",
   "metadata": {
    "ExecuteTime": {
     "end_time": "2022-04-29T03:27:12.545529Z",
     "start_time": "2022-04-29T03:27:12.529572Z"
    }
   },
   "outputs": [],
   "source": [
    "window = 20 \n",
    "df.loc[:,'sma'] = df['Close'].rolling(window).mean()"
   ]
  },
  {
   "cell_type": "code",
   "execution_count": 125,
   "id": "95f76243",
   "metadata": {
    "ExecuteTime": {
     "end_time": "2022-04-29T03:27:12.699118Z",
     "start_time": "2022-04-29T03:27:12.688148Z"
    }
   },
   "outputs": [],
   "source": [
    "rolling_std = df['Close'].rolling(window).std()"
   ]
  },
  {
   "cell_type": "code",
   "execution_count": 126,
   "id": "328adec0",
   "metadata": {
    "ExecuteTime": {
     "end_time": "2022-04-29T03:27:12.886618Z",
     "start_time": "2022-04-29T03:27:12.879608Z"
    }
   },
   "outputs": [],
   "source": [
    "df.dropna(inplace=True)"
   ]
  },
  {
   "cell_type": "code",
   "execution_count": 127,
   "id": "bd47d483",
   "metadata": {
    "ExecuteTime": {
     "end_time": "2022-04-29T03:27:14.133256Z",
     "start_time": "2022-04-29T03:27:13.984653Z"
    }
   },
   "outputs": [
    {
     "data": {
      "text/plain": [
       "<AxesSubplot:xlabel='Date'>"
      ]
     },
     "execution_count": 127,
     "metadata": {},
     "output_type": "execute_result"
    },
    {
     "data": {
      "image/png": "[encoded data removed]",
      "text/plain": [
       "<Figure size 1080x360 with 1 Axes>"
      ]
     },
     "metadata": {
      "needs_background": "light"
     },
     "output_type": "display_data"
    }
   ],
   "source": [
    "df.plot(figsize=(15,5))"
   ]
  },
  {
   "cell_type": "code",
   "execution_count": 128,
   "id": "85dc623f",
   "metadata": {
    "ExecuteTime": {
     "end_time": "2022-04-29T03:27:16.855976Z",
     "start_time": "2022-04-29T03:27:16.847997Z"
    }
   },
   "outputs": [],
   "source": [
    "df['+threshold'] = df['sma']+ 2*rolling_std\n",
    "df['-threshold'] = df['sma']- 2*rolling_std"
   ]
  },
  {
   "cell_type": "code",
   "execution_count": 129,
   "id": "dddefc64",
   "metadata": {
    "ExecuteTime": {
     "end_time": "2022-04-29T03:27:17.073395Z",
     "start_time": "2022-04-29T03:27:17.056470Z"
    }
   },
   "outputs": [
    {
     "data": {
      "text/html": [
       "<div>\n",
       "<style scoped>\n",
       "    .dataframe tbody tr th:only-of-type {\n",
       "        vertical-align: middle;\n",
       "    }\n",
       "\n",
       "    .dataframe tbody tr th {\n",
       "        vertical-align: top;\n",
       "    }\n",
       "\n",
       "    .dataframe thead th {\n",
       "        text-align: right;\n",
       "    }\n",
       "</style>\n",
       "<table border=\"1\" class=\"dataframe\">\n",
       "  <thead>\n",
       "    <tr style=\"text-align: right;\">\n",
       "      <th></th>\n",
       "      <th>Close</th>\n",
       "      <th>sma</th>\n",
       "      <th>+threshold</th>\n",
       "      <th>-threshold</th>\n",
       "    </tr>\n",
       "    <tr>\n",
       "      <th>Date</th>\n",
       "      <th></th>\n",
       "      <th></th>\n",
       "      <th></th>\n",
       "      <th></th>\n",
       "    </tr>\n",
       "  </thead>\n",
       "  <tbody>\n",
       "    <tr>\n",
       "      <th>2020-01-31</th>\n",
       "      <td>56400</td>\n",
       "      <td>58815.0</td>\n",
       "      <td>63526.140213</td>\n",
       "      <td>54103.859787</td>\n",
       "    </tr>\n",
       "    <tr>\n",
       "      <th>2020-02-03</th>\n",
       "      <td>57200</td>\n",
       "      <td>58915.0</td>\n",
       "      <td>63381.612987</td>\n",
       "      <td>54448.387013</td>\n",
       "    </tr>\n",
       "    <tr>\n",
       "      <th>2020-02-04</th>\n",
       "      <td>58900</td>\n",
       "      <td>59085.0</td>\n",
       "      <td>63253.187793</td>\n",
       "      <td>54916.812207</td>\n",
       "    </tr>\n",
       "    <tr>\n",
       "      <th>2020-02-05</th>\n",
       "      <td>59500</td>\n",
       "      <td>59285.0</td>\n",
       "      <td>63097.596850</td>\n",
       "      <td>55472.403150</td>\n",
       "    </tr>\n",
       "    <tr>\n",
       "      <th>2020-02-06</th>\n",
       "      <td>61100</td>\n",
       "      <td>59550.0</td>\n",
       "      <td>63068.073636</td>\n",
       "      <td>56031.926364</td>\n",
       "    </tr>\n",
       "  </tbody>\n",
       "</table>\n",
       "</div>"
      ],
      "text/plain": [
       "            Close      sma    +threshold    -threshold\n",
       "Date                                                  \n",
       "2020-01-31  56400  58815.0  63526.140213  54103.859787\n",
       "2020-02-03  57200  58915.0  63381.612987  54448.387013\n",
       "2020-02-04  58900  59085.0  63253.187793  54916.812207\n",
       "2020-02-05  59500  59285.0  63097.596850  55472.403150\n",
       "2020-02-06  61100  59550.0  63068.073636  56031.926364"
      ]
     },
     "execution_count": 129,
     "metadata": {},
     "output_type": "execute_result"
    }
   ],
   "source": [
    "df.head()"
   ]
  },
  {
   "cell_type": "code",
   "execution_count": 130,
   "id": "5e156781",
   "metadata": {
    "ExecuteTime": {
     "end_time": "2022-04-29T03:27:17.384590Z",
     "start_time": "2022-04-29T03:27:17.231971Z"
    }
   },
   "outputs": [
    {
     "data": {
      "text/plain": [
       "<AxesSubplot:xlabel='Date'>"
      ]
     },
     "execution_count": 130,
     "metadata": {},
     "output_type": "execute_result"
    },
    {
     "data": {
      "image/png": "[encoded data removed]",
      "text/plain": [
       "<Figure size 1080x360 with 1 Axes>"
      ]
     },
     "metadata": {
      "needs_background": "light"
     },
     "output_type": "display_data"
    }
   ],
   "source": [
    "df[['Close','sma','+threshold','-threshold']].iloc[-300:].plot(figsize=(15,5))"
   ]
  },
  {
   "cell_type": "code",
   "execution_count": 131,
   "id": "0a68fa2a",
   "metadata": {
    "ExecuteTime": {
     "end_time": "2022-04-29T03:27:17.446434Z",
     "start_time": "2022-04-29T03:27:17.440413Z"
    }
   },
   "outputs": [],
   "source": [
    "pos1 = np.where(df['Close'] <= df['-threshold'], 1,0) # 매수\n",
    "pos2 = np.where(df['Close'] >= df['+threshold'],-1,0) # 매도\n",
    "\n",
    "df.loc[:,'position'] = pos1 + pos2"
   ]
  },
  {
   "cell_type": "code",
   "execution_count": 132,
   "id": "06637628",
   "metadata": {
    "ExecuteTime": {
     "end_time": "2022-04-29T03:27:17.648884Z",
     "start_time": "2022-04-29T03:27:17.631929Z"
    }
   },
   "outputs": [
    {
     "data": {
      "text/html": [
       "<div>\n",
       "<style scoped>\n",
       "    .dataframe tbody tr th:only-of-type {\n",
       "        vertical-align: middle;\n",
       "    }\n",
       "\n",
       "    .dataframe tbody tr th {\n",
       "        vertical-align: top;\n",
       "    }\n",
       "\n",
       "    .dataframe thead th {\n",
       "        text-align: right;\n",
       "    }\n",
       "</style>\n",
       "<table border=\"1\" class=\"dataframe\">\n",
       "  <thead>\n",
       "    <tr style=\"text-align: right;\">\n",
       "      <th></th>\n",
       "      <th>Close</th>\n",
       "      <th>sma</th>\n",
       "      <th>+threshold</th>\n",
       "      <th>-threshold</th>\n",
       "      <th>position</th>\n",
       "    </tr>\n",
       "    <tr>\n",
       "      <th>Date</th>\n",
       "      <th></th>\n",
       "      <th></th>\n",
       "      <th></th>\n",
       "      <th></th>\n",
       "      <th></th>\n",
       "    </tr>\n",
       "  </thead>\n",
       "  <tbody>\n",
       "    <tr>\n",
       "      <th>2020-01-31</th>\n",
       "      <td>56400</td>\n",
       "      <td>58815.0</td>\n",
       "      <td>63526.140213</td>\n",
       "      <td>54103.859787</td>\n",
       "      <td>0</td>\n",
       "    </tr>\n",
       "    <tr>\n",
       "      <th>2020-02-03</th>\n",
       "      <td>57200</td>\n",
       "      <td>58915.0</td>\n",
       "      <td>63381.612987</td>\n",
       "      <td>54448.387013</td>\n",
       "      <td>0</td>\n",
       "    </tr>\n",
       "    <tr>\n",
       "      <th>2020-02-04</th>\n",
       "      <td>58900</td>\n",
       "      <td>59085.0</td>\n",
       "      <td>63253.187793</td>\n",
       "      <td>54916.812207</td>\n",
       "      <td>0</td>\n",
       "    </tr>\n",
       "    <tr>\n",
       "      <th>2020-02-05</th>\n",
       "      <td>59500</td>\n",
       "      <td>59285.0</td>\n",
       "      <td>63097.596850</td>\n",
       "      <td>55472.403150</td>\n",
       "      <td>0</td>\n",
       "    </tr>\n",
       "    <tr>\n",
       "      <th>2020-02-06</th>\n",
       "      <td>61100</td>\n",
       "      <td>59550.0</td>\n",
       "      <td>63068.073636</td>\n",
       "      <td>56031.926364</td>\n",
       "      <td>0</td>\n",
       "    </tr>\n",
       "    <tr>\n",
       "      <th>...</th>\n",
       "      <td>...</td>\n",
       "      <td>...</td>\n",
       "      <td>...</td>\n",
       "      <td>...</td>\n",
       "      <td>...</td>\n",
       "    </tr>\n",
       "    <tr>\n",
       "      <th>2022-04-25</th>\n",
       "      <td>66300</td>\n",
       "      <td>68085.0</td>\n",
       "      <td>70412.207498</td>\n",
       "      <td>65757.792502</td>\n",
       "      <td>0</td>\n",
       "    </tr>\n",
       "    <tr>\n",
       "      <th>2022-04-26</th>\n",
       "      <td>66100</td>\n",
       "      <td>67880.0</td>\n",
       "      <td>70144.229856</td>\n",
       "      <td>65615.770144</td>\n",
       "      <td>0</td>\n",
       "    </tr>\n",
       "    <tr>\n",
       "      <th>2022-04-27</th>\n",
       "      <td>65000</td>\n",
       "      <td>67635.0</td>\n",
       "      <td>70035.241216</td>\n",
       "      <td>65234.758784</td>\n",
       "      <td>1</td>\n",
       "    </tr>\n",
       "    <tr>\n",
       "      <th>2022-04-28</th>\n",
       "      <td>64800</td>\n",
       "      <td>67395.0</td>\n",
       "      <td>69924.385197</td>\n",
       "      <td>64865.614803</td>\n",
       "      <td>1</td>\n",
       "    </tr>\n",
       "    <tr>\n",
       "      <th>2022-04-29</th>\n",
       "      <td>66900</td>\n",
       "      <td>67285.0</td>\n",
       "      <td>69690.498088</td>\n",
       "      <td>64879.501912</td>\n",
       "      <td>0</td>\n",
       "    </tr>\n",
       "  </tbody>\n",
       "</table>\n",
       "<p>557 rows × 5 columns</p>\n",
       "</div>"
      ],
      "text/plain": [
       "            Close      sma    +threshold    -threshold  position\n",
       "Date                                                            \n",
       "2020-01-31  56400  58815.0  63526.140213  54103.859787         0\n",
       "2020-02-03  57200  58915.0  63381.612987  54448.387013         0\n",
       "2020-02-04  58900  59085.0  63253.187793  54916.812207         0\n",
       "2020-02-05  59500  59285.0  63097.596850  55472.403150         0\n",
       "2020-02-06  61100  59550.0  63068.073636  56031.926364         0\n",
       "...           ...      ...           ...           ...       ...\n",
       "2022-04-25  66300  68085.0  70412.207498  65757.792502         0\n",
       "2022-04-26  66100  67880.0  70144.229856  65615.770144         0\n",
       "2022-04-27  65000  67635.0  70035.241216  65234.758784         1\n",
       "2022-04-28  64800  67395.0  69924.385197  64865.614803         1\n",
       "2022-04-29  66900  67285.0  69690.498088  64879.501912         0\n",
       "\n",
       "[557 rows x 5 columns]"
      ]
     },
     "execution_count": 132,
     "metadata": {},
     "output_type": "execute_result"
    }
   ],
   "source": [
    "df"
   ]
  },
  {
   "cell_type": "code",
   "execution_count": 133,
   "id": "4756ba7f",
   "metadata": {
    "ExecuteTime": {
     "end_time": "2022-04-29T03:27:18.097655Z",
     "start_time": "2022-04-29T03:27:17.952046Z"
    }
   },
   "outputs": [
    {
     "data": {
      "text/plain": [
       "<AxesSubplot:xlabel='Date'>"
      ]
     },
     "execution_count": 133,
     "metadata": {},
     "output_type": "execute_result"
    },
    {
     "data": {
      "image/png": "[encoded data removed]",
      "text/plain": [
       "<Figure size 1080x360 with 1 Axes>"
      ]
     },
     "metadata": {
      "needs_background": "light"
     },
     "output_type": "display_data"
    }
   ],
   "source": [
    "df['position'].plot(\n",
    "    marker='.', linestyle='none', markersize=5, figsize=(15,5)\n",
    ")"
   ]
  },
  {
   "cell_type": "code",
   "execution_count": 134,
   "id": "0053c06a",
   "metadata": {
    "ExecuteTime": {
     "end_time": "2022-04-29T03:27:18.175447Z",
     "start_time": "2022-04-29T03:27:18.159519Z"
    }
   },
   "outputs": [
    {
     "data": {
      "text/plain": [
       "DatetimeIndex(['2020-06-01', '2020-06-03', '2020-07-21', '2020-07-28',\n",
       "               '2020-09-14', '2020-11-13', '2020-12-24', '2020-12-30',\n",
       "               '2021-01-08', '2021-04-02', '2021-08-03', '2021-11-15',\n",
       "               '2021-11-22'],\n",
       "              dtype='datetime64[ns]', name='Date', freq=None)"
      ]
     },
     "execution_count": 134,
     "metadata": {},
     "output_type": "execute_result"
    }
   ],
   "source": [
    "# 우리나라엔 매도 포지션없지만 구현\n",
    "# 현재포지션 매도(-1) & 현재포지션0 전날포지션 1 \n",
    "short_index = df[\n",
    "    ((df['position']-df['position'].shift()) == -1)& (df['position']== -1)\n",
    "].index\n",
    "short_index"
   ]
  },
  {
   "cell_type": "code",
   "execution_count": 135,
   "id": "71ad19c9",
   "metadata": {
    "ExecuteTime": {
     "end_time": "2022-04-29T03:27:18.581363Z",
     "start_time": "2022-04-29T03:27:18.575379Z"
    }
   },
   "outputs": [
    {
     "data": {
      "text/plain": [
       "DatetimeIndex(['2020-02-28', '2020-03-12', '2020-08-31', '2020-10-30',\n",
       "               '2021-05-12', '2021-08-13', '2021-09-29', '2021-10-12',\n",
       "               '2022-01-25', '2022-02-24', '2022-03-07', '2022-04-06',\n",
       "               '2022-04-12', '2022-04-15', '2022-04-27'],\n",
       "              dtype='datetime64[ns]', name='Date', freq=None)"
      ]
     },
     "execution_count": 135,
     "metadata": {},
     "output_type": "execute_result"
    }
   ],
   "source": [
    "long_index = df[\n",
    "    ((df['position']-df['position'].shift()) == 1)& (df['position']== 1)\n",
    "].index\n",
    "long_index"
   ]
  },
  {
   "cell_type": "code",
   "execution_count": null,
   "id": "aea26f3a",
   "metadata": {},
   "outputs": [],
   "source": []
  },
  {
   "cell_type": "code",
   "execution_count": 136,
   "id": "d85f02bd",
   "metadata": {
    "ExecuteTime": {
     "end_time": "2022-04-29T03:27:19.637566Z",
     "start_time": "2022-04-29T03:27:19.456056Z"
    }
   },
   "outputs": [
    {
     "data": {
      "text/plain": [
       "<AxesSubplot:xlabel='Date'>"
      ]
     },
     "execution_count": 136,
     "metadata": {},
     "output_type": "execute_result"
    },
    {
     "data": {
      "image/png": "[encoded data removed]",
      "text/plain": [
       "<Figure size 1080x360 with 1 Axes>"
      ]
     },
     "metadata": {
      "needs_background": "light"
     },
     "output_type": "display_data"
    }
   ],
   "source": [
    "ax = df[['Close','sma','+threshold','-threshold']].loc['2018-01-01':].plot(figsize=(15,5))\n",
    "\n",
    "df.loc[long_index,'Close'].plot(ax=ax,marker='o',color='red',linestyle='none',markersize=5)\n",
    "df.loc[short_index,'Close'].plot(ax=ax,marker='o',color='blue',linestyle='none',markersize=5)"
   ]
  },
  {
   "cell_type": "code",
   "execution_count": 137,
   "id": "3ed3892f",
   "metadata": {
    "ExecuteTime": {
     "end_time": "2022-04-29T03:27:19.823042Z",
     "start_time": "2022-04-29T03:27:19.808091Z"
    }
   },
   "outputs": [],
   "source": [
    "df.loc[:, 'rtn'] = get_returns_df(df['Close'], log=True)\n",
    "df.loc[:, 'str_rtn'] = (df['position'].shift() * df['rtn']).fillna(0)"
   ]
  },
  {
   "cell_type": "code",
   "execution_count": 138,
   "id": "1d7d28c7",
   "metadata": {
    "ExecuteTime": {
     "end_time": "2022-04-29T03:27:20.179116Z",
     "start_time": "2022-04-29T03:27:20.160175Z"
    }
   },
   "outputs": [],
   "source": [
    "df.loc[:, 'cum_rtn'] = get_cum_returns_df(df['rtn'], log=True)\n",
    "df.loc[:, 'str_cum_rtn'] = get_cum_returns_df(df['str_rtn'], log=True)"
   ]
  },
  {
   "cell_type": "code",
   "execution_count": 139,
   "id": "af1bda80",
   "metadata": {
    "ExecuteTime": {
     "end_time": "2022-04-29T03:27:20.661799Z",
     "start_time": "2022-04-29T03:27:20.529180Z"
    }
   },
   "outputs": [
    {
     "data": {
      "text/plain": [
       "<AxesSubplot:xlabel='Date'>"
      ]
     },
     "execution_count": 139,
     "metadata": {},
     "output_type": "execute_result"
    },
    {
     "data": {
      "image/png": "[encoded data removed]",
      "text/plain": [
       "<Figure size 432x288 with 1 Axes>"
      ]
     },
     "metadata": {
      "needs_background": "light"
     },
     "output_type": "display_data"
    }
   ],
   "source": [
    "df['str_cum_rtn'].plot()"
   ]
  },
  {
   "cell_type": "code",
   "execution_count": 140,
   "id": "fb56f615",
   "metadata": {
    "ExecuteTime": {
     "end_time": "2022-04-29T03:27:21.207341Z",
     "start_time": "2022-04-29T03:27:21.184403Z"
    }
   },
   "outputs": [
    {
     "data": {
      "text/html": [
       "<div>\n",
       "<style scoped>\n",
       "    .dataframe tbody tr th:only-of-type {\n",
       "        vertical-align: middle;\n",
       "    }\n",
       "\n",
       "    .dataframe tbody tr th {\n",
       "        vertical-align: top;\n",
       "    }\n",
       "\n",
       "    .dataframe thead th {\n",
       "        text-align: right;\n",
       "    }\n",
       "</style>\n",
       "<table border=\"1\" class=\"dataframe\">\n",
       "  <thead>\n",
       "    <tr style=\"text-align: right;\">\n",
       "      <th></th>\n",
       "      <th>Close</th>\n",
       "      <th>sma</th>\n",
       "      <th>+threshold</th>\n",
       "      <th>-threshold</th>\n",
       "      <th>position</th>\n",
       "      <th>rtn</th>\n",
       "      <th>str_rtn</th>\n",
       "      <th>cum_rtn</th>\n",
       "      <th>str_cum_rtn</th>\n",
       "    </tr>\n",
       "    <tr>\n",
       "      <th>Date</th>\n",
       "      <th></th>\n",
       "      <th></th>\n",
       "      <th></th>\n",
       "      <th></th>\n",
       "      <th></th>\n",
       "      <th></th>\n",
       "      <th></th>\n",
       "      <th></th>\n",
       "      <th></th>\n",
       "    </tr>\n",
       "  </thead>\n",
       "  <tbody>\n",
       "    <tr>\n",
       "      <th>2020-01-31</th>\n",
       "      <td>56400</td>\n",
       "      <td>58815.0</td>\n",
       "      <td>63526.140213</td>\n",
       "      <td>54103.859787</td>\n",
       "      <td>0</td>\n",
       "      <td>0.000000</td>\n",
       "      <td>0.000000</td>\n",
       "      <td>1.000000</td>\n",
       "      <td>1.000000</td>\n",
       "    </tr>\n",
       "    <tr>\n",
       "      <th>2020-02-03</th>\n",
       "      <td>57200</td>\n",
       "      <td>58915.0</td>\n",
       "      <td>63381.612987</td>\n",
       "      <td>54448.387013</td>\n",
       "      <td>0</td>\n",
       "      <td>0.014085</td>\n",
       "      <td>0.000000</td>\n",
       "      <td>1.014184</td>\n",
       "      <td>1.000000</td>\n",
       "    </tr>\n",
       "    <tr>\n",
       "      <th>2020-02-04</th>\n",
       "      <td>58900</td>\n",
       "      <td>59085.0</td>\n",
       "      <td>63253.187793</td>\n",
       "      <td>54916.812207</td>\n",
       "      <td>0</td>\n",
       "      <td>0.029287</td>\n",
       "      <td>0.000000</td>\n",
       "      <td>1.044326</td>\n",
       "      <td>1.000000</td>\n",
       "    </tr>\n",
       "    <tr>\n",
       "      <th>2020-02-05</th>\n",
       "      <td>59500</td>\n",
       "      <td>59285.0</td>\n",
       "      <td>63097.596850</td>\n",
       "      <td>55472.403150</td>\n",
       "      <td>0</td>\n",
       "      <td>0.010135</td>\n",
       "      <td>0.000000</td>\n",
       "      <td>1.054965</td>\n",
       "      <td>1.000000</td>\n",
       "    </tr>\n",
       "    <tr>\n",
       "      <th>2020-02-06</th>\n",
       "      <td>61100</td>\n",
       "      <td>59550.0</td>\n",
       "      <td>63068.073636</td>\n",
       "      <td>56031.926364</td>\n",
       "      <td>0</td>\n",
       "      <td>0.026536</td>\n",
       "      <td>0.000000</td>\n",
       "      <td>1.083333</td>\n",
       "      <td>1.000000</td>\n",
       "    </tr>\n",
       "    <tr>\n",
       "      <th>...</th>\n",
       "      <td>...</td>\n",
       "      <td>...</td>\n",
       "      <td>...</td>\n",
       "      <td>...</td>\n",
       "      <td>...</td>\n",
       "      <td>...</td>\n",
       "      <td>...</td>\n",
       "      <td>...</td>\n",
       "      <td>...</td>\n",
       "    </tr>\n",
       "    <tr>\n",
       "      <th>2022-04-25</th>\n",
       "      <td>66300</td>\n",
       "      <td>68085.0</td>\n",
       "      <td>70412.207498</td>\n",
       "      <td>65757.792502</td>\n",
       "      <td>0</td>\n",
       "      <td>-0.010503</td>\n",
       "      <td>-0.000000</td>\n",
       "      <td>1.175532</td>\n",
       "      <td>0.860081</td>\n",
       "    </tr>\n",
       "    <tr>\n",
       "      <th>2022-04-26</th>\n",
       "      <td>66100</td>\n",
       "      <td>67880.0</td>\n",
       "      <td>70144.229856</td>\n",
       "      <td>65615.770144</td>\n",
       "      <td>0</td>\n",
       "      <td>-0.003021</td>\n",
       "      <td>-0.000000</td>\n",
       "      <td>1.171986</td>\n",
       "      <td>0.860081</td>\n",
       "    </tr>\n",
       "    <tr>\n",
       "      <th>2022-04-27</th>\n",
       "      <td>65000</td>\n",
       "      <td>67635.0</td>\n",
       "      <td>70035.241216</td>\n",
       "      <td>65234.758784</td>\n",
       "      <td>1</td>\n",
       "      <td>-0.016781</td>\n",
       "      <td>-0.000000</td>\n",
       "      <td>1.152482</td>\n",
       "      <td>0.860081</td>\n",
       "    </tr>\n",
       "    <tr>\n",
       "      <th>2022-04-28</th>\n",
       "      <td>64800</td>\n",
       "      <td>67395.0</td>\n",
       "      <td>69924.385197</td>\n",
       "      <td>64865.614803</td>\n",
       "      <td>1</td>\n",
       "      <td>-0.003082</td>\n",
       "      <td>-0.003082</td>\n",
       "      <td>1.148936</td>\n",
       "      <td>0.857434</td>\n",
       "    </tr>\n",
       "    <tr>\n",
       "      <th>2022-04-29</th>\n",
       "      <td>66900</td>\n",
       "      <td>67285.0</td>\n",
       "      <td>69690.498088</td>\n",
       "      <td>64879.501912</td>\n",
       "      <td>0</td>\n",
       "      <td>0.031893</td>\n",
       "      <td>0.031893</td>\n",
       "      <td>1.186170</td>\n",
       "      <td>0.885222</td>\n",
       "    </tr>\n",
       "  </tbody>\n",
       "</table>\n",
       "<p>557 rows × 9 columns</p>\n",
       "</div>"
      ],
      "text/plain": [
       "            Close      sma    +threshold    -threshold  position       rtn  \\\n",
       "Date                                                                         \n",
       "2020-01-31  56400  58815.0  63526.140213  54103.859787         0  0.000000   \n",
       "2020-02-03  57200  58915.0  63381.612987  54448.387013         0  0.014085   \n",
       "2020-02-04  58900  59085.0  63253.187793  54916.812207         0  0.029287   \n",
       "2020-02-05  59500  59285.0  63097.596850  55472.403150         0  0.010135   \n",
       "2020-02-06  61100  59550.0  63068.073636  56031.926364         0  0.026536   \n",
       "...           ...      ...           ...           ...       ...       ...   \n",
       "2022-04-25  66300  68085.0  70412.207498  65757.792502         0 -0.010503   \n",
       "2022-04-26  66100  67880.0  70144.229856  65615.770144         0 -0.003021   \n",
       "2022-04-27  65000  67635.0  70035.241216  65234.758784         1 -0.016781   \n",
       "2022-04-28  64800  67395.0  69924.385197  64865.614803         1 -0.003082   \n",
       "2022-04-29  66900  67285.0  69690.498088  64879.501912         0  0.031893   \n",
       "\n",
       "             str_rtn   cum_rtn  str_cum_rtn  \n",
       "Date                                         \n",
       "2020-01-31  0.000000  1.000000     1.000000  \n",
       "2020-02-03  0.000000  1.014184     1.000000  \n",
       "2020-02-04  0.000000  1.044326     1.000000  \n",
       "2020-02-05  0.000000  1.054965     1.000000  \n",
       "2020-02-06  0.000000  1.083333     1.000000  \n",
       "...              ...       ...          ...  \n",
       "2022-04-25 -0.000000  1.175532     0.860081  \n",
       "2022-04-26 -0.000000  1.171986     0.860081  \n",
       "2022-04-27 -0.000000  1.152482     0.860081  \n",
       "2022-04-28 -0.003082  1.148936     0.857434  \n",
       "2022-04-29  0.031893  1.186170     0.885222  \n",
       "\n",
       "[557 rows x 9 columns]"
      ]
     },
     "execution_count": 140,
     "metadata": {},
     "output_type": "execute_result"
    }
   ],
   "source": [
    "df"
   ]
  },
  {
   "cell_type": "code",
   "execution_count": null,
   "id": "cc6f5b14",
   "metadata": {
    "ExecuteTime": {
     "end_time": "2022-04-29T02:39:10.323410Z",
     "start_time": "2022-04-29T02:39:10.304433Z"
    }
   },
   "outputs": [],
   "source": []
  },
  {
   "cell_type": "code",
   "execution_count": 141,
   "id": "94c54e7d",
   "metadata": {
    "ExecuteTime": {
     "end_time": "2022-04-29T03:27:22.434562Z",
     "start_time": "2022-04-29T03:27:22.415613Z"
    }
   },
   "outputs": [],
   "source": [
    "def backtest_eval(str_cum_rtn, str_rtn): # 열 이름(전략적누적수익, 전략적수익) 대입\n",
    "    \n",
    "    cagr = get_cagr_series(df[str_cum_rtn], num_day_in_year = 250)\n",
    "    sharp_ratio = get_sharpe_ratio(df[str_rtn], yearly_rfr = 0.025)\n",
    "    mdd, ldd_period, ldd_st, ldd_ed = get_drawdown_infos(df[str_cum_rtn])\n",
    "\n",
    "    print('cagr :', cagr)\n",
    "    print('sharp_ratio :', sharp_ratio)\n",
    "    print('Max_drawdown :', mdd)\n",
    "    print('Longest_dd_period :', ldd_period)\n",
    "    print('Longest_dd_st_date :', ldd_st)\n",
    "    print('Longest_dd_ed_date :', ldd_ed)"
   ]
  },
  {
   "cell_type": "code",
   "execution_count": 142,
   "id": "b7a83e0e",
   "metadata": {
    "ExecuteTime": {
     "end_time": "2022-04-29T03:27:23.800881Z",
     "start_time": "2022-04-29T03:27:23.791905Z"
    }
   },
   "outputs": [
    {
     "name": "stdout",
     "output_type": "stream",
     "text": [
      "cagr : 0.9467497663757474\n",
      "sharp_ratio : -0.8031865996509531\n",
      "Max_drawdown : -0.2070170212747433\n",
      "Longest_dd_period : 3\n",
      "Longest_dd_st_date : 2020-01-31 00:00:00\n",
      "Longest_dd_ed_date : 2020-02-03 00:00:00\n"
     ]
    }
   ],
   "source": [
    "backtest_eval('str_cum_rtn', 'str_rtn')"
   ]
  },
  {
   "cell_type": "code",
   "execution_count": null,
   "id": "c5656492",
   "metadata": {},
   "outputs": [],
   "source": []
  },
  {
   "cell_type": "markdown",
   "id": "51a77281",
   "metadata": {},
   "source": [
    "## 변동성 돌파전략"
   ]
  },
  {
   "cell_type": "code",
   "execution_count": 150,
   "id": "b16fde53",
   "metadata": {
    "ExecuteTime": {
     "end_time": "2022-04-29T03:35:35.257726Z",
     "start_time": "2022-04-29T03:35:35.142036Z"
    }
   },
   "outputs": [
    {
     "data": {
      "text/html": [
       "<div>\n",
       "<style scoped>\n",
       "    .dataframe tbody tr th:only-of-type {\n",
       "        vertical-align: middle;\n",
       "    }\n",
       "\n",
       "    .dataframe tbody tr th {\n",
       "        vertical-align: top;\n",
       "    }\n",
       "\n",
       "    .dataframe thead th {\n",
       "        text-align: right;\n",
       "    }\n",
       "</style>\n",
       "<table border=\"1\" class=\"dataframe\">\n",
       "  <thead>\n",
       "    <tr style=\"text-align: right;\">\n",
       "      <th></th>\n",
       "      <th>Open</th>\n",
       "      <th>High</th>\n",
       "      <th>Low</th>\n",
       "      <th>Close</th>\n",
       "      <th>Volume</th>\n",
       "      <th>Change</th>\n",
       "    </tr>\n",
       "    <tr>\n",
       "      <th>Date</th>\n",
       "      <th></th>\n",
       "      <th></th>\n",
       "      <th></th>\n",
       "      <th></th>\n",
       "      <th></th>\n",
       "      <th></th>\n",
       "    </tr>\n",
       "  </thead>\n",
       "  <tbody>\n",
       "    <tr>\n",
       "      <th>2020-01-02</th>\n",
       "      <td>55500</td>\n",
       "      <td>56000</td>\n",
       "      <td>55000</td>\n",
       "      <td>55200</td>\n",
       "      <td>12993228</td>\n",
       "      <td>-0.010753</td>\n",
       "    </tr>\n",
       "    <tr>\n",
       "      <th>2020-01-03</th>\n",
       "      <td>56000</td>\n",
       "      <td>56600</td>\n",
       "      <td>54900</td>\n",
       "      <td>55500</td>\n",
       "      <td>15422255</td>\n",
       "      <td>0.005435</td>\n",
       "    </tr>\n",
       "    <tr>\n",
       "      <th>2020-01-06</th>\n",
       "      <td>54900</td>\n",
       "      <td>55600</td>\n",
       "      <td>54600</td>\n",
       "      <td>55500</td>\n",
       "      <td>10278951</td>\n",
       "      <td>0.000000</td>\n",
       "    </tr>\n",
       "    <tr>\n",
       "      <th>2020-01-07</th>\n",
       "      <td>55700</td>\n",
       "      <td>56400</td>\n",
       "      <td>55600</td>\n",
       "      <td>55800</td>\n",
       "      <td>10009778</td>\n",
       "      <td>0.005405</td>\n",
       "    </tr>\n",
       "    <tr>\n",
       "      <th>2020-01-08</th>\n",
       "      <td>56200</td>\n",
       "      <td>57400</td>\n",
       "      <td>55900</td>\n",
       "      <td>56800</td>\n",
       "      <td>23501171</td>\n",
       "      <td>0.017921</td>\n",
       "    </tr>\n",
       "  </tbody>\n",
       "</table>\n",
       "</div>"
      ],
      "text/plain": [
       "             Open   High    Low  Close    Volume    Change\n",
       "Date                                                      \n",
       "2020-01-02  55500  56000  55000  55200  12993228 -0.010753\n",
       "2020-01-03  56000  56600  54900  55500  15422255  0.005435\n",
       "2020-01-06  54900  55600  54600  55500  10278951  0.000000\n",
       "2020-01-07  55700  56400  55600  55800  10009778  0.005405\n",
       "2020-01-08  56200  57400  55900  56800  23501171  0.017921"
      ]
     },
     "execution_count": 150,
     "metadata": {},
     "output_type": "execute_result"
    }
   ],
   "source": [
    "df = fdr.DataReader('005930','2020-01-02','2022-04-30')\n",
    "df.head()"
   ]
  },
  {
   "cell_type": "code",
   "execution_count": 151,
   "id": "e8aa382a",
   "metadata": {
    "ExecuteTime": {
     "end_time": "2022-04-29T03:35:35.303632Z",
     "start_time": "2022-04-29T03:35:35.289641Z"
    }
   },
   "outputs": [],
   "source": [
    "df = df[['Open','High','Close','Low']]"
   ]
  },
  {
   "cell_type": "code",
   "execution_count": 152,
   "id": "85696c4d",
   "metadata": {
    "ExecuteTime": {
     "end_time": "2022-04-29T03:35:35.351504Z",
     "start_time": "2022-04-29T03:35:35.336516Z"
    }
   },
   "outputs": [
    {
     "data": {
      "text/html": [
       "<div>\n",
       "<style scoped>\n",
       "    .dataframe tbody tr th:only-of-type {\n",
       "        vertical-align: middle;\n",
       "    }\n",
       "\n",
       "    .dataframe tbody tr th {\n",
       "        vertical-align: top;\n",
       "    }\n",
       "\n",
       "    .dataframe thead th {\n",
       "        text-align: right;\n",
       "    }\n",
       "</style>\n",
       "<table border=\"1\" class=\"dataframe\">\n",
       "  <thead>\n",
       "    <tr style=\"text-align: right;\">\n",
       "      <th></th>\n",
       "      <th>Open</th>\n",
       "      <th>High</th>\n",
       "      <th>Close</th>\n",
       "      <th>Low</th>\n",
       "      <th>range</th>\n",
       "      <th>threshold</th>\n",
       "    </tr>\n",
       "    <tr>\n",
       "      <th>Date</th>\n",
       "      <th></th>\n",
       "      <th></th>\n",
       "      <th></th>\n",
       "      <th></th>\n",
       "      <th></th>\n",
       "      <th></th>\n",
       "    </tr>\n",
       "  </thead>\n",
       "  <tbody>\n",
       "    <tr>\n",
       "      <th>2020-01-02</th>\n",
       "      <td>55500</td>\n",
       "      <td>56000</td>\n",
       "      <td>55200</td>\n",
       "      <td>55000</td>\n",
       "      <td>1000</td>\n",
       "      <td>NaN</td>\n",
       "    </tr>\n",
       "    <tr>\n",
       "      <th>2020-01-03</th>\n",
       "      <td>56000</td>\n",
       "      <td>56600</td>\n",
       "      <td>55500</td>\n",
       "      <td>54900</td>\n",
       "      <td>1700</td>\n",
       "      <td>56600.0</td>\n",
       "    </tr>\n",
       "    <tr>\n",
       "      <th>2020-01-06</th>\n",
       "      <td>54900</td>\n",
       "      <td>55600</td>\n",
       "      <td>55500</td>\n",
       "      <td>54600</td>\n",
       "      <td>1000</td>\n",
       "      <td>55920.0</td>\n",
       "    </tr>\n",
       "    <tr>\n",
       "      <th>2020-01-07</th>\n",
       "      <td>55700</td>\n",
       "      <td>56400</td>\n",
       "      <td>55800</td>\n",
       "      <td>55600</td>\n",
       "      <td>800</td>\n",
       "      <td>56300.0</td>\n",
       "    </tr>\n",
       "    <tr>\n",
       "      <th>2020-01-08</th>\n",
       "      <td>56200</td>\n",
       "      <td>57400</td>\n",
       "      <td>56800</td>\n",
       "      <td>55900</td>\n",
       "      <td>1500</td>\n",
       "      <td>56680.0</td>\n",
       "    </tr>\n",
       "  </tbody>\n",
       "</table>\n",
       "</div>"
      ],
      "text/plain": [
       "             Open   High  Close    Low  range  threshold\n",
       "Date                                                    \n",
       "2020-01-02  55500  56000  55200  55000   1000        NaN\n",
       "2020-01-03  56000  56600  55500  54900   1700    56600.0\n",
       "2020-01-06  54900  55600  55500  54600   1000    55920.0\n",
       "2020-01-07  55700  56400  55800  55600    800    56300.0\n",
       "2020-01-08  56200  57400  56800  55900   1500    56680.0"
      ]
     },
     "execution_count": 152,
     "metadata": {},
     "output_type": "execute_result"
    }
   ],
   "source": [
    "df['range'] = df['High'] - df['Low'] # 변동폭\n",
    "df['threshold'] = df['Open'] + df['range'].shift()*0.6  # 시가가 전날변동폭*0.6보다 크면 매수\n",
    "df.head()"
   ]
  },
  {
   "cell_type": "code",
   "execution_count": 153,
   "id": "ea5a9250",
   "metadata": {
    "ExecuteTime": {
     "end_time": "2022-04-29T03:35:35.399373Z",
     "start_time": "2022-04-29T03:35:35.384388Z"
    }
   },
   "outputs": [],
   "source": [
    "df.dropna(inplace=True)"
   ]
  },
  {
   "cell_type": "code",
   "execution_count": 154,
   "id": "da4b93bd",
   "metadata": {
    "ExecuteTime": {
     "end_time": "2022-04-29T03:35:35.446222Z",
     "start_time": "2022-04-29T03:35:35.432261Z"
    }
   },
   "outputs": [
    {
     "data": {
      "text/html": [
       "<div>\n",
       "<style scoped>\n",
       "    .dataframe tbody tr th:only-of-type {\n",
       "        vertical-align: middle;\n",
       "    }\n",
       "\n",
       "    .dataframe tbody tr th {\n",
       "        vertical-align: top;\n",
       "    }\n",
       "\n",
       "    .dataframe thead th {\n",
       "        text-align: right;\n",
       "    }\n",
       "</style>\n",
       "<table border=\"1\" class=\"dataframe\">\n",
       "  <thead>\n",
       "    <tr style=\"text-align: right;\">\n",
       "      <th></th>\n",
       "      <th>Open</th>\n",
       "      <th>High</th>\n",
       "      <th>Close</th>\n",
       "      <th>Low</th>\n",
       "      <th>range</th>\n",
       "      <th>threshold</th>\n",
       "      <th>position</th>\n",
       "    </tr>\n",
       "    <tr>\n",
       "      <th>Date</th>\n",
       "      <th></th>\n",
       "      <th></th>\n",
       "      <th></th>\n",
       "      <th></th>\n",
       "      <th></th>\n",
       "      <th></th>\n",
       "      <th></th>\n",
       "    </tr>\n",
       "  </thead>\n",
       "  <tbody>\n",
       "    <tr>\n",
       "      <th>2020-01-03</th>\n",
       "      <td>56000</td>\n",
       "      <td>56600</td>\n",
       "      <td>55500</td>\n",
       "      <td>54900</td>\n",
       "      <td>1700</td>\n",
       "      <td>56600.0</td>\n",
       "      <td>1</td>\n",
       "    </tr>\n",
       "    <tr>\n",
       "      <th>2020-01-06</th>\n",
       "      <td>54900</td>\n",
       "      <td>55600</td>\n",
       "      <td>55500</td>\n",
       "      <td>54600</td>\n",
       "      <td>1000</td>\n",
       "      <td>55920.0</td>\n",
       "      <td>0</td>\n",
       "    </tr>\n",
       "    <tr>\n",
       "      <th>2020-01-07</th>\n",
       "      <td>55700</td>\n",
       "      <td>56400</td>\n",
       "      <td>55800</td>\n",
       "      <td>55600</td>\n",
       "      <td>800</td>\n",
       "      <td>56300.0</td>\n",
       "      <td>1</td>\n",
       "    </tr>\n",
       "    <tr>\n",
       "      <th>2020-01-08</th>\n",
       "      <td>56200</td>\n",
       "      <td>57400</td>\n",
       "      <td>56800</td>\n",
       "      <td>55900</td>\n",
       "      <td>1500</td>\n",
       "      <td>56680.0</td>\n",
       "      <td>1</td>\n",
       "    </tr>\n",
       "    <tr>\n",
       "      <th>2020-01-09</th>\n",
       "      <td>58400</td>\n",
       "      <td>58600</td>\n",
       "      <td>58600</td>\n",
       "      <td>57400</td>\n",
       "      <td>1200</td>\n",
       "      <td>59300.0</td>\n",
       "      <td>0</td>\n",
       "    </tr>\n",
       "    <tr>\n",
       "      <th>...</th>\n",
       "      <td>...</td>\n",
       "      <td>...</td>\n",
       "      <td>...</td>\n",
       "      <td>...</td>\n",
       "      <td>...</td>\n",
       "      <td>...</td>\n",
       "      <td>...</td>\n",
       "    </tr>\n",
       "    <tr>\n",
       "      <th>2022-04-25</th>\n",
       "      <td>66500</td>\n",
       "      <td>66700</td>\n",
       "      <td>66300</td>\n",
       "      <td>66300</td>\n",
       "      <td>400</td>\n",
       "      <td>66860.0</td>\n",
       "      <td>0</td>\n",
       "    </tr>\n",
       "    <tr>\n",
       "      <th>2022-04-26</th>\n",
       "      <td>66400</td>\n",
       "      <td>66700</td>\n",
       "      <td>66100</td>\n",
       "      <td>66100</td>\n",
       "      <td>600</td>\n",
       "      <td>66640.0</td>\n",
       "      <td>1</td>\n",
       "    </tr>\n",
       "    <tr>\n",
       "      <th>2022-04-27</th>\n",
       "      <td>65400</td>\n",
       "      <td>65500</td>\n",
       "      <td>65000</td>\n",
       "      <td>64900</td>\n",
       "      <td>600</td>\n",
       "      <td>65760.0</td>\n",
       "      <td>0</td>\n",
       "    </tr>\n",
       "    <tr>\n",
       "      <th>2022-04-28</th>\n",
       "      <td>65400</td>\n",
       "      <td>65500</td>\n",
       "      <td>64800</td>\n",
       "      <td>64500</td>\n",
       "      <td>1000</td>\n",
       "      <td>65760.0</td>\n",
       "      <td>0</td>\n",
       "    </tr>\n",
       "    <tr>\n",
       "      <th>2022-04-29</th>\n",
       "      <td>65100</td>\n",
       "      <td>67200</td>\n",
       "      <td>67000</td>\n",
       "      <td>65000</td>\n",
       "      <td>2200</td>\n",
       "      <td>65700.0</td>\n",
       "      <td>1</td>\n",
       "    </tr>\n",
       "  </tbody>\n",
       "</table>\n",
       "<p>575 rows × 7 columns</p>\n",
       "</div>"
      ],
      "text/plain": [
       "             Open   High  Close    Low  range  threshold  position\n",
       "Date                                                              \n",
       "2020-01-03  56000  56600  55500  54900   1700    56600.0         1\n",
       "2020-01-06  54900  55600  55500  54600   1000    55920.0         0\n",
       "2020-01-07  55700  56400  55800  55600    800    56300.0         1\n",
       "2020-01-08  56200  57400  56800  55900   1500    56680.0         1\n",
       "2020-01-09  58400  58600  58600  57400   1200    59300.0         0\n",
       "...           ...    ...    ...    ...    ...        ...       ...\n",
       "2022-04-25  66500  66700  66300  66300    400    66860.0         0\n",
       "2022-04-26  66400  66700  66100  66100    600    66640.0         1\n",
       "2022-04-27  65400  65500  65000  64900    600    65760.0         0\n",
       "2022-04-28  65400  65500  64800  64500   1000    65760.0         0\n",
       "2022-04-29  65100  67200  67000  65000   2200    65700.0         1\n",
       "\n",
       "[575 rows x 7 columns]"
      ]
     },
     "execution_count": 154,
     "metadata": {},
     "output_type": "execute_result"
    }
   ],
   "source": [
    "cond = df['threshold'] <= df['High'] # 오늘의 고가\n",
    "df['position'] = cond.astype(int)\n",
    "df"
   ]
  },
  {
   "cell_type": "code",
   "execution_count": 155,
   "id": "7b35aae4",
   "metadata": {
    "ExecuteTime": {
     "end_time": "2022-04-29T03:35:35.600837Z",
     "start_time": "2022-04-29T03:35:35.583854Z"
    }
   },
   "outputs": [],
   "source": [
    "p_current = df['Open']  # 오늘의 시가\n",
    "p_prev = df['threshold'].shift() # 전일의 threshold값\n",
    "df['rtn'] = p_current/p_prev -1"
   ]
  },
  {
   "cell_type": "code",
   "execution_count": 156,
   "id": "db437ba0",
   "metadata": {
    "ExecuteTime": {
     "end_time": "2022-04-29T03:35:35.740450Z",
     "start_time": "2022-04-29T03:35:35.728497Z"
    }
   },
   "outputs": [
    {
     "data": {
      "text/html": [
       "<div>\n",
       "<style scoped>\n",
       "    .dataframe tbody tr th:only-of-type {\n",
       "        vertical-align: middle;\n",
       "    }\n",
       "\n",
       "    .dataframe tbody tr th {\n",
       "        vertical-align: top;\n",
       "    }\n",
       "\n",
       "    .dataframe thead th {\n",
       "        text-align: right;\n",
       "    }\n",
       "</style>\n",
       "<table border=\"1\" class=\"dataframe\">\n",
       "  <thead>\n",
       "    <tr style=\"text-align: right;\">\n",
       "      <th></th>\n",
       "      <th>Open</th>\n",
       "      <th>High</th>\n",
       "      <th>Close</th>\n",
       "      <th>Low</th>\n",
       "      <th>range</th>\n",
       "      <th>threshold</th>\n",
       "      <th>position</th>\n",
       "      <th>rtn</th>\n",
       "    </tr>\n",
       "    <tr>\n",
       "      <th>Date</th>\n",
       "      <th></th>\n",
       "      <th></th>\n",
       "      <th></th>\n",
       "      <th></th>\n",
       "      <th></th>\n",
       "      <th></th>\n",
       "      <th></th>\n",
       "      <th></th>\n",
       "    </tr>\n",
       "  </thead>\n",
       "  <tbody>\n",
       "    <tr>\n",
       "      <th>2020-01-03</th>\n",
       "      <td>56000</td>\n",
       "      <td>56600</td>\n",
       "      <td>55500</td>\n",
       "      <td>54900</td>\n",
       "      <td>1700</td>\n",
       "      <td>56600.0</td>\n",
       "      <td>1</td>\n",
       "      <td>NaN</td>\n",
       "    </tr>\n",
       "    <tr>\n",
       "      <th>2020-01-06</th>\n",
       "      <td>54900</td>\n",
       "      <td>55600</td>\n",
       "      <td>55500</td>\n",
       "      <td>54600</td>\n",
       "      <td>1000</td>\n",
       "      <td>55920.0</td>\n",
       "      <td>0</td>\n",
       "      <td>-0.030035</td>\n",
       "    </tr>\n",
       "    <tr>\n",
       "      <th>2020-01-07</th>\n",
       "      <td>55700</td>\n",
       "      <td>56400</td>\n",
       "      <td>55800</td>\n",
       "      <td>55600</td>\n",
       "      <td>800</td>\n",
       "      <td>56300.0</td>\n",
       "      <td>1</td>\n",
       "      <td>-0.003934</td>\n",
       "    </tr>\n",
       "    <tr>\n",
       "      <th>2020-01-08</th>\n",
       "      <td>56200</td>\n",
       "      <td>57400</td>\n",
       "      <td>56800</td>\n",
       "      <td>55900</td>\n",
       "      <td>1500</td>\n",
       "      <td>56680.0</td>\n",
       "      <td>1</td>\n",
       "      <td>-0.001776</td>\n",
       "    </tr>\n",
       "    <tr>\n",
       "      <th>2020-01-09</th>\n",
       "      <td>58400</td>\n",
       "      <td>58600</td>\n",
       "      <td>58600</td>\n",
       "      <td>57400</td>\n",
       "      <td>1200</td>\n",
       "      <td>59300.0</td>\n",
       "      <td>0</td>\n",
       "      <td>0.030346</td>\n",
       "    </tr>\n",
       "    <tr>\n",
       "      <th>...</th>\n",
       "      <td>...</td>\n",
       "      <td>...</td>\n",
       "      <td>...</td>\n",
       "      <td>...</td>\n",
       "      <td>...</td>\n",
       "      <td>...</td>\n",
       "      <td>...</td>\n",
       "      <td>...</td>\n",
       "    </tr>\n",
       "    <tr>\n",
       "      <th>2022-04-25</th>\n",
       "      <td>66500</td>\n",
       "      <td>66700</td>\n",
       "      <td>66300</td>\n",
       "      <td>66300</td>\n",
       "      <td>400</td>\n",
       "      <td>66860.0</td>\n",
       "      <td>0</td>\n",
       "      <td>-0.017435</td>\n",
       "    </tr>\n",
       "    <tr>\n",
       "      <th>2022-04-26</th>\n",
       "      <td>66400</td>\n",
       "      <td>66700</td>\n",
       "      <td>66100</td>\n",
       "      <td>66100</td>\n",
       "      <td>600</td>\n",
       "      <td>66640.0</td>\n",
       "      <td>1</td>\n",
       "      <td>-0.006880</td>\n",
       "    </tr>\n",
       "    <tr>\n",
       "      <th>2022-04-27</th>\n",
       "      <td>65400</td>\n",
       "      <td>65500</td>\n",
       "      <td>65000</td>\n",
       "      <td>64900</td>\n",
       "      <td>600</td>\n",
       "      <td>65760.0</td>\n",
       "      <td>0</td>\n",
       "      <td>-0.018607</td>\n",
       "    </tr>\n",
       "    <tr>\n",
       "      <th>2022-04-28</th>\n",
       "      <td>65400</td>\n",
       "      <td>65500</td>\n",
       "      <td>64800</td>\n",
       "      <td>64500</td>\n",
       "      <td>1000</td>\n",
       "      <td>65760.0</td>\n",
       "      <td>0</td>\n",
       "      <td>-0.005474</td>\n",
       "    </tr>\n",
       "    <tr>\n",
       "      <th>2022-04-29</th>\n",
       "      <td>65100</td>\n",
       "      <td>67200</td>\n",
       "      <td>67000</td>\n",
       "      <td>65000</td>\n",
       "      <td>2200</td>\n",
       "      <td>65700.0</td>\n",
       "      <td>1</td>\n",
       "      <td>-0.010036</td>\n",
       "    </tr>\n",
       "  </tbody>\n",
       "</table>\n",
       "<p>575 rows × 8 columns</p>\n",
       "</div>"
      ],
      "text/plain": [
       "             Open   High  Close    Low  range  threshold  position       rtn\n",
       "Date                                                                        \n",
       "2020-01-03  56000  56600  55500  54900   1700    56600.0         1       NaN\n",
       "2020-01-06  54900  55600  55500  54600   1000    55920.0         0 -0.030035\n",
       "2020-01-07  55700  56400  55800  55600    800    56300.0         1 -0.003934\n",
       "2020-01-08  56200  57400  56800  55900   1500    56680.0         1 -0.001776\n",
       "2020-01-09  58400  58600  58600  57400   1200    59300.0         0  0.030346\n",
       "...           ...    ...    ...    ...    ...        ...       ...       ...\n",
       "2022-04-25  66500  66700  66300  66300    400    66860.0         0 -0.017435\n",
       "2022-04-26  66400  66700  66100  66100    600    66640.0         1 -0.006880\n",
       "2022-04-27  65400  65500  65000  64900    600    65760.0         0 -0.018607\n",
       "2022-04-28  65400  65500  64800  64500   1000    65760.0         0 -0.005474\n",
       "2022-04-29  65100  67200  67000  65000   2200    65700.0         1 -0.010036\n",
       "\n",
       "[575 rows x 8 columns]"
      ]
     },
     "execution_count": 156,
     "metadata": {},
     "output_type": "execute_result"
    }
   ],
   "source": [
    "df"
   ]
  },
  {
   "cell_type": "code",
   "execution_count": 157,
   "id": "00137fee",
   "metadata": {
    "ExecuteTime": {
     "end_time": "2022-04-29T03:35:35.879065Z",
     "start_time": "2022-04-29T03:35:35.872084Z"
    }
   },
   "outputs": [],
   "source": [
    "df['str_rtn'] = df['position'].shift()*df['rtn'] # 어제1인경우만 *수익률\n",
    "df['str_rtn'] = df['str_rtn'].fillna(0)"
   ]
  },
  {
   "cell_type": "code",
   "execution_count": 158,
   "id": "41968126",
   "metadata": {
    "ExecuteTime": {
     "end_time": "2022-04-29T03:35:36.049637Z",
     "start_time": "2022-04-29T03:35:36.031691Z"
    }
   },
   "outputs": [],
   "source": [
    "df.loc[:,'str_cum_rtn'] = get_cum_returns_df(df['str_rtn'],log=False)"
   ]
  },
  {
   "cell_type": "code",
   "execution_count": 159,
   "id": "6760c2ce",
   "metadata": {
    "ExecuteTime": {
     "end_time": "2022-04-29T03:35:36.330857Z",
     "start_time": "2022-04-29T03:35:36.192229Z"
    }
   },
   "outputs": [
    {
     "data": {
      "text/plain": [
       "<AxesSubplot:xlabel='Date'>"
      ]
     },
     "execution_count": 159,
     "metadata": {},
     "output_type": "execute_result"
    },
    {
     "data": {
      "image/png": "[encoded data removed]",
      "text/plain": [
       "<Figure size 432x288 with 1 Axes>"
      ]
     },
     "metadata": {
      "needs_background": "light"
     },
     "output_type": "display_data"
    }
   ],
   "source": [
    "df['str_cum_rtn'].plot()"
   ]
  },
  {
   "cell_type": "code",
   "execution_count": 160,
   "id": "6f8dbe40",
   "metadata": {
    "ExecuteTime": {
     "end_time": "2022-04-29T03:35:36.377732Z",
     "start_time": "2022-04-29T03:35:36.362772Z"
    }
   },
   "outputs": [
    {
     "name": "stdout",
     "output_type": "stream",
     "text": [
      "cagr : 0.2992110530693959\n",
      "sharp_ratio : 1.4282388585691228\n",
      "Max_drawdown : -0.12318200796557954\n",
      "Longest_dd_period : 316\n",
      "Longest_dd_st_date : 2021-01-11 00:00:00\n",
      "Longest_dd_ed_date : 2021-11-23 00:00:00\n"
     ]
    }
   ],
   "source": [
    "backtest_eval('str_cum_rtn','str_rtn')\n"
   ]
  },
  {
   "cell_type": "code",
   "execution_count": null,
   "id": "19856f3d",
   "metadata": {},
   "outputs": [],
   "source": []
  },
  {
   "cell_type": "code",
   "execution_count": null,
   "id": "916fa979",
   "metadata": {},
   "outputs": [],
   "source": []
  },
  {
   "cell_type": "code",
   "execution_count": null,
   "id": "e43b2e9e",
   "metadata": {},
   "outputs": [],
   "source": []
  },
  {
   "cell_type": "code",
   "execution_count": null,
   "id": "c9b1334f",
   "metadata": {},
   "outputs": [],
   "source": []
  },
  {
   "cell_type": "code",
   "execution_count": null,
   "id": "421bd5ab",
   "metadata": {},
   "outputs": [],
   "source": []
  },
  {
   "cell_type": "code",
   "execution_count": null,
   "id": "de9a5ca0",
   "metadata": {},
   "outputs": [],
   "source": []
  },
  {
   "cell_type": "code",
   "execution_count": null,
   "id": "86656a61",
   "metadata": {},
   "outputs": [],
   "source": []
  }
 ],
 "metadata": {
  "kernelspec": {
   "display_name": "Python 3 (ipykernel)",
   "language": "python",
   "name": "python3"
  },
  "language_info": {
   "codemirror_mode": {
    "name": "ipython",
    "version": 3
   },
   "file_extension": ".py",
   "mimetype": "text/x-python",
   "name": "python",
   "nbconvert_exporter": "python",
   "pygments_lexer": "ipython3",
   "version": "3.9.7"
  },
  "toc": {
   "base_numbering": 1,
   "nav_menu": {},
   "number_sections": true,
   "sideBar": true,
   "skip_h1_title": false,
   "title_cell": "Table of Contents",
   "title_sidebar": "Contents",
   "toc_cell": false,
   "toc_position": {
    "height": "calc(100% - 180px)",
    "left": "10px",
    "top": "150px",
    "width": "349.091px"
   },
   "toc_section_display": true,
   "toc_window_display": true
  },
  "varInspector": {
   "cols": {
    "lenName": 16,
    "lenType": 16,
    "lenVar": 40
   },
   "kernels_config": {
    "python": {
     "delete_cmd_postfix": "",
     "delete_cmd_prefix": "del ",
     "library": "var_list.py",
     "varRefreshCmd": "print(var_dic_list())"
    },
    "r": {
     "delete_cmd_postfix": ") ",
     "delete_cmd_prefix": "rm(",
     "library": "var_list.r",
     "varRefreshCmd": "cat(var_dic_list()) "
    }
   },
   "types_to_exclude": [
    "module",
    "function",
    "builtin_function_or_method",
    "instance",
    "_Feature"
   ],
   "window_display": false
  }
 },
 "nbformat": 4,
 "nbformat_minor": 5
}
