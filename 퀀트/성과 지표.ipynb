{
 "cells": [
  {
   "cell_type": "markdown",
   "id": "fc5b0b24",
   "metadata": {},
   "source": [
    "# performance_indicator\n",
    "* log return\n",
    "* Sharp ratio\n",
    "* drawdown"
   ]
  },
  {
   "cell_type": "code",
   "execution_count": 1,
   "id": "60822950",
   "metadata": {
    "ExecuteTime": {
     "end_time": "2022-04-28T01:51:18.281395Z",
     "start_time": "2022-04-28T01:51:17.359859Z"
    }
   },
   "outputs": [],
   "source": [
    "import pandas as pd\n",
    "import numpy as np\n",
    "import matplotlib.pyplot as plt\n",
    "import seaborn as sns"
   ]
  },
  {
   "cell_type": "code",
   "execution_count": 3,
   "id": "543d7ef5",
   "metadata": {
    "ExecuteTime": {
     "end_time": "2022-04-28T01:51:34.126030Z",
     "start_time": "2022-04-28T01:51:33.950500Z"
    }
   },
   "outputs": [],
   "source": [
    "import FinanceDataReader as fdr"
   ]
  },
  {
   "cell_type": "code",
   "execution_count": 6,
   "id": "0af5c82b",
   "metadata": {
    "ExecuteTime": {
     "end_time": "2022-04-28T01:53:42.543671Z",
     "start_time": "2022-04-28T01:53:42.350159Z"
    }
   },
   "outputs": [],
   "source": [
    "df1 = fdr.DataReader('005930','2018-01-02','2018-10-30')\n",
    "df2 = fdr.DataReader('069500','2018-01-02','2018-10-30')"
   ]
  },
  {
   "cell_type": "code",
   "execution_count": 7,
   "id": "09a50521",
   "metadata": {
    "ExecuteTime": {
     "end_time": "2022-04-28T01:53:42.575586Z",
     "start_time": "2022-04-28T01:53:42.560597Z"
    }
   },
   "outputs": [
    {
     "data": {
      "text/html": [
       "<div>\n",
       "<style scoped>\n",
       "    .dataframe tbody tr th:only-of-type {\n",
       "        vertical-align: middle;\n",
       "    }\n",
       "\n",
       "    .dataframe tbody tr th {\n",
       "        vertical-align: top;\n",
       "    }\n",
       "\n",
       "    .dataframe thead th {\n",
       "        text-align: right;\n",
       "    }\n",
       "</style>\n",
       "<table border=\"1\" class=\"dataframe\">\n",
       "  <thead>\n",
       "    <tr style=\"text-align: right;\">\n",
       "      <th></th>\n",
       "      <th>Close</th>\n",
       "      <th>Close</th>\n",
       "    </tr>\n",
       "    <tr>\n",
       "      <th>Date</th>\n",
       "      <th></th>\n",
       "      <th></th>\n",
       "    </tr>\n",
       "  </thead>\n",
       "  <tbody>\n",
       "    <tr>\n",
       "      <th>2018-01-02</th>\n",
       "      <td>51020</td>\n",
       "      <td>29836</td>\n",
       "    </tr>\n",
       "    <tr>\n",
       "      <th>2018-01-03</th>\n",
       "      <td>51620</td>\n",
       "      <td>29964</td>\n",
       "    </tr>\n",
       "    <tr>\n",
       "      <th>2018-01-04</th>\n",
       "      <td>51080</td>\n",
       "      <td>29727</td>\n",
       "    </tr>\n",
       "    <tr>\n",
       "      <th>2018-01-05</th>\n",
       "      <td>52120</td>\n",
       "      <td>30131</td>\n",
       "    </tr>\n",
       "    <tr>\n",
       "      <th>2018-01-08</th>\n",
       "      <td>52020</td>\n",
       "      <td>30333</td>\n",
       "    </tr>\n",
       "  </tbody>\n",
       "</table>\n",
       "</div>"
      ],
      "text/plain": [
       "            Close  Close\n",
       "Date                    \n",
       "2018-01-02  51020  29836\n",
       "2018-01-03  51620  29964\n",
       "2018-01-04  51080  29727\n",
       "2018-01-05  52120  30131\n",
       "2018-01-08  52020  30333"
      ]
     },
     "execution_count": 7,
     "metadata": {},
     "output_type": "execute_result"
    }
   ],
   "source": [
    "df = pd.concat([df1['Close'],df2['Close']],axis=1)\n",
    "df.head()"
   ]
  },
  {
   "cell_type": "code",
   "execution_count": 8,
   "id": "a9c8f57e",
   "metadata": {
    "ExecuteTime": {
     "end_time": "2022-04-28T01:54:56.586665Z",
     "start_time": "2022-04-28T01:54:56.574697Z"
    }
   },
   "outputs": [],
   "source": [
    "df.columns = ['삼성전자','kodex200']"
   ]
  },
  {
   "cell_type": "code",
   "execution_count": 16,
   "id": "95c65efe",
   "metadata": {
    "ExecuteTime": {
     "end_time": "2022-04-28T02:01:53.497966Z",
     "start_time": "2022-04-28T02:01:53.486995Z"
    }
   },
   "outputs": [
    {
     "data": {
      "text/html": [
       "<div>\n",
       "<style scoped>\n",
       "    .dataframe tbody tr th:only-of-type {\n",
       "        vertical-align: middle;\n",
       "    }\n",
       "\n",
       "    .dataframe tbody tr th {\n",
       "        vertical-align: top;\n",
       "    }\n",
       "\n",
       "    .dataframe thead th {\n",
       "        text-align: right;\n",
       "    }\n",
       "</style>\n",
       "<table border=\"1\" class=\"dataframe\">\n",
       "  <thead>\n",
       "    <tr style=\"text-align: right;\">\n",
       "      <th></th>\n",
       "      <th>삼성전자</th>\n",
       "      <th>kodex200</th>\n",
       "    </tr>\n",
       "    <tr>\n",
       "      <th>Date</th>\n",
       "      <th></th>\n",
       "      <th></th>\n",
       "    </tr>\n",
       "  </thead>\n",
       "  <tbody>\n",
       "    <tr>\n",
       "      <th>2018-01-02</th>\n",
       "      <td>0.000000</td>\n",
       "      <td>0.000000</td>\n",
       "    </tr>\n",
       "    <tr>\n",
       "      <th>2018-01-03</th>\n",
       "      <td>0.011760</td>\n",
       "      <td>0.004290</td>\n",
       "    </tr>\n",
       "    <tr>\n",
       "      <th>2018-01-04</th>\n",
       "      <td>-0.010461</td>\n",
       "      <td>-0.007909</td>\n",
       "    </tr>\n",
       "    <tr>\n",
       "      <th>2018-01-05</th>\n",
       "      <td>0.020360</td>\n",
       "      <td>0.013590</td>\n",
       "    </tr>\n",
       "    <tr>\n",
       "      <th>2018-01-08</th>\n",
       "      <td>-0.001919</td>\n",
       "      <td>0.006704</td>\n",
       "    </tr>\n",
       "  </tbody>\n",
       "</table>\n",
       "</div>"
      ],
      "text/plain": [
       "                삼성전자  kodex200\n",
       "Date                          \n",
       "2018-01-02  0.000000  0.000000\n",
       "2018-01-03  0.011760  0.004290\n",
       "2018-01-04 -0.010461 -0.007909\n",
       "2018-01-05  0.020360  0.013590\n",
       "2018-01-08 -0.001919  0.006704"
      ]
     },
     "execution_count": 16,
     "metadata": {},
     "output_type": "execute_result"
    }
   ],
   "source": [
    "# simple return\n",
    "simple_rtn_df = df.pct_change(1).head().fillna(0)\n",
    "simple_rtn_df"
   ]
  },
  {
   "cell_type": "code",
   "execution_count": null,
   "id": "0568d663",
   "metadata": {},
   "outputs": [],
   "source": []
  },
  {
   "cell_type": "code",
   "execution_count": 94,
   "id": "d5756dfa",
   "metadata": {
    "ExecuteTime": {
     "end_time": "2022-04-28T03:59:45.313985Z",
     "start_time": "2022-04-28T03:59:45.296034Z"
    }
   },
   "outputs": [
    {
     "data": {
      "text/html": [
       "<div>\n",
       "<style scoped>\n",
       "    .dataframe tbody tr th:only-of-type {\n",
       "        vertical-align: middle;\n",
       "    }\n",
       "\n",
       "    .dataframe tbody tr th {\n",
       "        vertical-align: top;\n",
       "    }\n",
       "\n",
       "    .dataframe thead th {\n",
       "        text-align: right;\n",
       "    }\n",
       "</style>\n",
       "<table border=\"1\" class=\"dataframe\">\n",
       "  <thead>\n",
       "    <tr style=\"text-align: right;\">\n",
       "      <th></th>\n",
       "      <th>삼성전자</th>\n",
       "      <th>kodex200</th>\n",
       "    </tr>\n",
       "    <tr>\n",
       "      <th>Date</th>\n",
       "      <th></th>\n",
       "      <th></th>\n",
       "    </tr>\n",
       "  </thead>\n",
       "  <tbody>\n",
       "    <tr>\n",
       "      <th>2018-01-02</th>\n",
       "      <td>1.000000</td>\n",
       "      <td>1.000000</td>\n",
       "    </tr>\n",
       "    <tr>\n",
       "      <th>2018-01-03</th>\n",
       "      <td>1.011760</td>\n",
       "      <td>1.004290</td>\n",
       "    </tr>\n",
       "    <tr>\n",
       "      <th>2018-01-04</th>\n",
       "      <td>1.001176</td>\n",
       "      <td>0.996347</td>\n",
       "    </tr>\n",
       "    <tr>\n",
       "      <th>2018-01-05</th>\n",
       "      <td>1.021560</td>\n",
       "      <td>1.009887</td>\n",
       "    </tr>\n",
       "    <tr>\n",
       "      <th>2018-01-08</th>\n",
       "      <td>1.019600</td>\n",
       "      <td>1.016658</td>\n",
       "    </tr>\n",
       "  </tbody>\n",
       "</table>\n",
       "</div>"
      ],
      "text/plain": [
       "                삼성전자  kodex200\n",
       "Date                          \n",
       "2018-01-02  1.000000  1.000000\n",
       "2018-01-03  1.011760  1.004290\n",
       "2018-01-04  1.001176  0.996347\n",
       "2018-01-05  1.021560  1.009887\n",
       "2018-01-08  1.019600  1.016658"
      ]
     },
     "execution_count": 94,
     "metadata": {},
     "output_type": "execute_result"
    }
   ],
   "source": [
    "# 누적수익률\n",
    "cum_rtn_df = (simple_rtn_df+1).cumprod()\n",
    "cum_rtn_df"
   ]
  },
  {
   "cell_type": "code",
   "execution_count": null,
   "id": "dc6bd396",
   "metadata": {},
   "outputs": [],
   "source": []
  },
  {
   "cell_type": "markdown",
   "id": "e1cb31d6",
   "metadata": {},
   "source": [
    "## log return"
   ]
  },
  {
   "cell_type": "code",
   "execution_count": 13,
   "id": "ac659b64",
   "metadata": {
    "ExecuteTime": {
     "end_time": "2022-04-28T01:59:29.509669Z",
     "start_time": "2022-04-28T01:59:29.486733Z"
    }
   },
   "outputs": [
    {
     "data": {
      "text/html": [
       "<div>\n",
       "<style scoped>\n",
       "    .dataframe tbody tr th:only-of-type {\n",
       "        vertical-align: middle;\n",
       "    }\n",
       "\n",
       "    .dataframe tbody tr th {\n",
       "        vertical-align: top;\n",
       "    }\n",
       "\n",
       "    .dataframe thead th {\n",
       "        text-align: right;\n",
       "    }\n",
       "</style>\n",
       "<table border=\"1\" class=\"dataframe\">\n",
       "  <thead>\n",
       "    <tr style=\"text-align: right;\">\n",
       "      <th></th>\n",
       "      <th>삼성전자</th>\n",
       "      <th>kodex200</th>\n",
       "    </tr>\n",
       "    <tr>\n",
       "      <th>Date</th>\n",
       "      <th></th>\n",
       "      <th></th>\n",
       "    </tr>\n",
       "  </thead>\n",
       "  <tbody>\n",
       "    <tr>\n",
       "      <th>2018-01-02</th>\n",
       "      <td>NaN</td>\n",
       "      <td>NaN</td>\n",
       "    </tr>\n",
       "    <tr>\n",
       "      <th>2018-01-03</th>\n",
       "      <td>0.011691</td>\n",
       "      <td>0.004281</td>\n",
       "    </tr>\n",
       "    <tr>\n",
       "      <th>2018-01-04</th>\n",
       "      <td>-0.010516</td>\n",
       "      <td>-0.007941</td>\n",
       "    </tr>\n",
       "    <tr>\n",
       "      <th>2018-01-05</th>\n",
       "      <td>0.020156</td>\n",
       "      <td>0.013499</td>\n",
       "    </tr>\n",
       "    <tr>\n",
       "      <th>2018-01-08</th>\n",
       "      <td>-0.001920</td>\n",
       "      <td>0.006682</td>\n",
       "    </tr>\n",
       "    <tr>\n",
       "      <th>...</th>\n",
       "      <td>...</td>\n",
       "      <td>...</td>\n",
       "    </tr>\n",
       "    <tr>\n",
       "      <th>2018-10-24</th>\n",
       "      <td>-0.011682</td>\n",
       "      <td>-0.005166</td>\n",
       "    </tr>\n",
       "    <tr>\n",
       "      <th>2018-10-25</th>\n",
       "      <td>-0.037108</td>\n",
       "      <td>-0.016105</td>\n",
       "    </tr>\n",
       "    <tr>\n",
       "      <th>2018-10-26</th>\n",
       "      <td>0.000000</td>\n",
       "      <td>-0.015998</td>\n",
       "    </tr>\n",
       "    <tr>\n",
       "      <th>2018-10-29</th>\n",
       "      <td>0.009709</td>\n",
       "      <td>-0.008096</td>\n",
       "    </tr>\n",
       "    <tr>\n",
       "      <th>2018-10-30</th>\n",
       "      <td>0.022688</td>\n",
       "      <td>0.006902</td>\n",
       "    </tr>\n",
       "  </tbody>\n",
       "</table>\n",
       "<p>202 rows × 2 columns</p>\n",
       "</div>"
      ],
      "text/plain": [
       "                삼성전자  kodex200\n",
       "Date                          \n",
       "2018-01-02       NaN       NaN\n",
       "2018-01-03  0.011691  0.004281\n",
       "2018-01-04 -0.010516 -0.007941\n",
       "2018-01-05  0.020156  0.013499\n",
       "2018-01-08 -0.001920  0.006682\n",
       "...              ...       ...\n",
       "2018-10-24 -0.011682 -0.005166\n",
       "2018-10-25 -0.037108 -0.016105\n",
       "2018-10-26  0.000000 -0.015998\n",
       "2018-10-29  0.009709 -0.008096\n",
       "2018-10-30  0.022688  0.006902\n",
       "\n",
       "[202 rows x 2 columns]"
      ]
     },
     "execution_count": 13,
     "metadata": {},
     "output_type": "execute_result"
    }
   ],
   "source": [
    "# -> 곱셈 연산을 덧셈연산으로 바꿀수있고, 큰값을 작게 만들수 있다\n",
    "\n",
    "log_rtn_df = np.log(df/df.shift(1))\n",
    "log_rtn_df"
   ]
  },
  {
   "cell_type": "code",
   "execution_count": 14,
   "id": "173b1b5c",
   "metadata": {
    "ExecuteTime": {
     "end_time": "2022-04-28T01:59:53.342237Z",
     "start_time": "2022-04-28T01:59:53.166707Z"
    }
   },
   "outputs": [
    {
     "data": {
      "text/plain": [
       "<function matplotlib.pyplot.show(close=None, block=None)>"
      ]
     },
     "execution_count": 14,
     "metadata": {},
     "output_type": "execute_result"
    },
    {
     "name": "stderr",
     "output_type": "stream",
     "text": [
      "C:\\Users\\bitcamp\\anaconda3\\lib\\site-packages\\matplotlib\\backends\\backend_agg.py:240: RuntimeWarning: Glyph 49340 missing from current font.\n",
      "  font.set_text(s, 0.0, flags=flags)\n",
      "C:\\Users\\bitcamp\\anaconda3\\lib\\site-packages\\matplotlib\\backends\\backend_agg.py:240: RuntimeWarning: Glyph 49457 missing from current font.\n",
      "  font.set_text(s, 0.0, flags=flags)\n",
      "C:\\Users\\bitcamp\\anaconda3\\lib\\site-packages\\matplotlib\\backends\\backend_agg.py:240: RuntimeWarning: Glyph 51204 missing from current font.\n",
      "  font.set_text(s, 0.0, flags=flags)\n",
      "C:\\Users\\bitcamp\\anaconda3\\lib\\site-packages\\matplotlib\\backends\\backend_agg.py:240: RuntimeWarning: Glyph 51088 missing from current font.\n",
      "  font.set_text(s, 0.0, flags=flags)\n",
      "C:\\Users\\bitcamp\\anaconda3\\lib\\site-packages\\matplotlib\\backends\\backend_agg.py:203: RuntimeWarning: Glyph 49340 missing from current font.\n",
      "  font.set_text(s, 0, flags=flags)\n",
      "C:\\Users\\bitcamp\\anaconda3\\lib\\site-packages\\matplotlib\\backends\\backend_agg.py:203: RuntimeWarning: Glyph 49457 missing from current font.\n",
      "  font.set_text(s, 0, flags=flags)\n",
      "C:\\Users\\bitcamp\\anaconda3\\lib\\site-packages\\matplotlib\\backends\\backend_agg.py:203: RuntimeWarning: Glyph 51204 missing from current font.\n",
      "  font.set_text(s, 0, flags=flags)\n",
      "C:\\Users\\bitcamp\\anaconda3\\lib\\site-packages\\matplotlib\\backends\\backend_agg.py:203: RuntimeWarning: Glyph 51088 missing from current font.\n",
      "  font.set_text(s, 0, flags=flags)\n"
     ]
    },
    {
     "data": {
      "image/png": "[encoded data removed]",
      "text/plain": [
       "<Figure size 432x288 with 1 Axes>"
      ]
     },
     "metadata": {
      "needs_background": "light"
     },
     "output_type": "display_data"
    }
   ],
   "source": [
    "log_rtn_df.plot()\n",
    "plt.show"
   ]
  },
  {
   "cell_type": "code",
   "execution_count": 21,
   "id": "221c93c5",
   "metadata": {
    "ExecuteTime": {
     "end_time": "2022-04-28T02:03:17.759758Z",
     "start_time": "2022-04-28T02:03:17.534361Z"
    },
    "scrolled": true
   },
   "outputs": [
    {
     "data": {
      "text/plain": [
       "<AxesSubplot:ylabel='Frequency'>"
      ]
     },
     "execution_count": 21,
     "metadata": {},
     "output_type": "execute_result"
    },
    {
     "name": "stderr",
     "output_type": "stream",
     "text": [
      "C:\\Users\\bitcamp\\anaconda3\\lib\\site-packages\\matplotlib\\backends\\backend_agg.py:240: RuntimeWarning: Glyph 49340 missing from current font.\n",
      "  font.set_text(s, 0.0, flags=flags)\n",
      "C:\\Users\\bitcamp\\anaconda3\\lib\\site-packages\\matplotlib\\backends\\backend_agg.py:240: RuntimeWarning: Glyph 49457 missing from current font.\n",
      "  font.set_text(s, 0.0, flags=flags)\n",
      "C:\\Users\\bitcamp\\anaconda3\\lib\\site-packages\\matplotlib\\backends\\backend_agg.py:240: RuntimeWarning: Glyph 51204 missing from current font.\n",
      "  font.set_text(s, 0.0, flags=flags)\n",
      "C:\\Users\\bitcamp\\anaconda3\\lib\\site-packages\\matplotlib\\backends\\backend_agg.py:240: RuntimeWarning: Glyph 51088 missing from current font.\n",
      "  font.set_text(s, 0.0, flags=flags)\n",
      "C:\\Users\\bitcamp\\anaconda3\\lib\\site-packages\\matplotlib\\backends\\backend_agg.py:203: RuntimeWarning: Glyph 49340 missing from current font.\n",
      "  font.set_text(s, 0, flags=flags)\n",
      "C:\\Users\\bitcamp\\anaconda3\\lib\\site-packages\\matplotlib\\backends\\backend_agg.py:203: RuntimeWarning: Glyph 49457 missing from current font.\n",
      "  font.set_text(s, 0, flags=flags)\n",
      "C:\\Users\\bitcamp\\anaconda3\\lib\\site-packages\\matplotlib\\backends\\backend_agg.py:203: RuntimeWarning: Glyph 51204 missing from current font.\n",
      "  font.set_text(s, 0, flags=flags)\n",
      "C:\\Users\\bitcamp\\anaconda3\\lib\\site-packages\\matplotlib\\backends\\backend_agg.py:203: RuntimeWarning: Glyph 51088 missing from current font.\n",
      "  font.set_text(s, 0, flags=flags)\n"
     ]
    },
    {
     "data": {
      "image/png": "[encoded data removed]",
      "text/plain": [
       "<Figure size 432x288 with 1 Axes>"
      ]
     },
     "metadata": {
      "needs_background": "light"
     },
     "output_type": "display_data"
    }
   ],
   "source": [
    "log_rtn_df.plot(kind='hist',bins= 50)"
   ]
  },
  {
   "cell_type": "code",
   "execution_count": null,
   "id": "1d043b46",
   "metadata": {},
   "outputs": [],
   "source": []
  },
  {
   "cell_type": "code",
   "execution_count": 28,
   "id": "ba54de75",
   "metadata": {
    "ExecuteTime": {
     "end_time": "2022-04-28T02:11:39.595252Z",
     "start_time": "2022-04-28T02:11:39.583314Z"
    }
   },
   "outputs": [
    {
     "data": {
      "text/html": [
       "<div>\n",
       "<style scoped>\n",
       "    .dataframe tbody tr th:only-of-type {\n",
       "        vertical-align: middle;\n",
       "    }\n",
       "\n",
       "    .dataframe tbody tr th {\n",
       "        vertical-align: top;\n",
       "    }\n",
       "\n",
       "    .dataframe thead th {\n",
       "        text-align: right;\n",
       "    }\n",
       "</style>\n",
       "<table border=\"1\" class=\"dataframe\">\n",
       "  <thead>\n",
       "    <tr style=\"text-align: right;\">\n",
       "      <th></th>\n",
       "      <th>삼성전자</th>\n",
       "      <th>kodex200</th>\n",
       "    </tr>\n",
       "    <tr>\n",
       "      <th>Date</th>\n",
       "      <th></th>\n",
       "      <th></th>\n",
       "    </tr>\n",
       "  </thead>\n",
       "  <tbody>\n",
       "    <tr>\n",
       "      <th>2018-01-02</th>\n",
       "      <td>1.000000</td>\n",
       "      <td>1.000000</td>\n",
       "    </tr>\n",
       "    <tr>\n",
       "      <th>2018-01-03</th>\n",
       "      <td>1.011760</td>\n",
       "      <td>1.004290</td>\n",
       "    </tr>\n",
       "    <tr>\n",
       "      <th>2018-01-04</th>\n",
       "      <td>1.001176</td>\n",
       "      <td>0.996347</td>\n",
       "    </tr>\n",
       "    <tr>\n",
       "      <th>2018-01-05</th>\n",
       "      <td>1.021560</td>\n",
       "      <td>1.009887</td>\n",
       "    </tr>\n",
       "    <tr>\n",
       "      <th>2018-01-08</th>\n",
       "      <td>1.019600</td>\n",
       "      <td>1.016658</td>\n",
       "    </tr>\n",
       "  </tbody>\n",
       "</table>\n",
       "</div>"
      ],
      "text/plain": [
       "                삼성전자  kodex200\n",
       "Date                          \n",
       "2018-01-02  1.000000  1.000000\n",
       "2018-01-03  1.011760  1.004290\n",
       "2018-01-04  1.001176  0.996347\n",
       "2018-01-05  1.021560  1.009887\n",
       "2018-01-08  1.019600  1.016658"
      ]
     },
     "execution_count": 28,
     "metadata": {},
     "output_type": "execute_result"
    }
   ],
   "source": [
    "cum_rtn_df = (simple_rtn_df+1).cumprod()\n",
    "cum_rtn_df"
   ]
  },
  {
   "cell_type": "code",
   "execution_count": 22,
   "id": "af6c1b86",
   "metadata": {
    "ExecuteTime": {
     "end_time": "2022-04-28T02:05:18.537934Z",
     "start_time": "2022-04-28T02:05:18.526963Z"
    }
   },
   "outputs": [
    {
     "data": {
      "text/html": [
       "<div>\n",
       "<style scoped>\n",
       "    .dataframe tbody tr th:only-of-type {\n",
       "        vertical-align: middle;\n",
       "    }\n",
       "\n",
       "    .dataframe tbody tr th {\n",
       "        vertical-align: top;\n",
       "    }\n",
       "\n",
       "    .dataframe thead th {\n",
       "        text-align: right;\n",
       "    }\n",
       "</style>\n",
       "<table border=\"1\" class=\"dataframe\">\n",
       "  <thead>\n",
       "    <tr style=\"text-align: right;\">\n",
       "      <th></th>\n",
       "      <th>삼성전자</th>\n",
       "      <th>kodex200</th>\n",
       "    </tr>\n",
       "    <tr>\n",
       "      <th>Date</th>\n",
       "      <th></th>\n",
       "      <th></th>\n",
       "    </tr>\n",
       "  </thead>\n",
       "  <tbody>\n",
       "    <tr>\n",
       "      <th>2018-01-02</th>\n",
       "      <td>NaN</td>\n",
       "      <td>NaN</td>\n",
       "    </tr>\n",
       "    <tr>\n",
       "      <th>2018-01-03</th>\n",
       "      <td>1.011760</td>\n",
       "      <td>1.004290</td>\n",
       "    </tr>\n",
       "    <tr>\n",
       "      <th>2018-01-04</th>\n",
       "      <td>1.001176</td>\n",
       "      <td>0.996347</td>\n",
       "    </tr>\n",
       "    <tr>\n",
       "      <th>2018-01-05</th>\n",
       "      <td>1.021560</td>\n",
       "      <td>1.009887</td>\n",
       "    </tr>\n",
       "    <tr>\n",
       "      <th>2018-01-08</th>\n",
       "      <td>1.019600</td>\n",
       "      <td>1.016658</td>\n",
       "    </tr>\n",
       "    <tr>\n",
       "      <th>...</th>\n",
       "      <td>...</td>\n",
       "      <td>...</td>\n",
       "    </tr>\n",
       "    <tr>\n",
       "      <th>2018-10-24</th>\n",
       "      <td>0.833987</td>\n",
       "      <td>0.841266</td>\n",
       "    </tr>\n",
       "    <tr>\n",
       "      <th>2018-10-25</th>\n",
       "      <td>0.803606</td>\n",
       "      <td>0.827825</td>\n",
       "    </tr>\n",
       "    <tr>\n",
       "      <th>2018-10-26</th>\n",
       "      <td>0.803606</td>\n",
       "      <td>0.814687</td>\n",
       "    </tr>\n",
       "    <tr>\n",
       "      <th>2018-10-29</th>\n",
       "      <td>0.811446</td>\n",
       "      <td>0.808118</td>\n",
       "    </tr>\n",
       "    <tr>\n",
       "      <th>2018-10-30</th>\n",
       "      <td>0.830067</td>\n",
       "      <td>0.813715</td>\n",
       "    </tr>\n",
       "  </tbody>\n",
       "</table>\n",
       "<p>202 rows × 2 columns</p>\n",
       "</div>"
      ],
      "text/plain": [
       "                삼성전자  kodex200\n",
       "Date                          \n",
       "2018-01-02       NaN       NaN\n",
       "2018-01-03  1.011760  1.004290\n",
       "2018-01-04  1.001176  0.996347\n",
       "2018-01-05  1.021560  1.009887\n",
       "2018-01-08  1.019600  1.016658\n",
       "...              ...       ...\n",
       "2018-10-24  0.833987  0.841266\n",
       "2018-10-25  0.803606  0.827825\n",
       "2018-10-26  0.803606  0.814687\n",
       "2018-10-29  0.811446  0.808118\n",
       "2018-10-30  0.830067  0.813715\n",
       "\n",
       "[202 rows x 2 columns]"
      ]
     },
     "execution_count": 22,
     "metadata": {},
     "output_type": "execute_result"
    }
   ],
   "source": [
    "log_rtn_df.cumsum()\n",
    "np.exp(log_rtn_df.cumsum())"
   ]
  },
  {
   "cell_type": "markdown",
   "id": "b79b535f",
   "metadata": {
    "ExecuteTime": {
     "end_time": "2022-04-28T02:47:18.033245Z",
     "start_time": "2022-04-28T02:47:18.016290Z"
    }
   },
   "source": [
    "### log return 연환산 함수화"
   ]
  },
  {
   "cell_type": "code",
   "execution_count": 39,
   "id": "885cd184",
   "metadata": {
    "ExecuteTime": {
     "end_time": "2022-04-28T02:50:00.910775Z",
     "start_time": "2022-04-28T02:50:00.895784Z"
    }
   },
   "outputs": [],
   "source": [
    "def get_annualized_returns_series(log_return_df, num_day_in_year=250):\n",
    "    return(log_return_df.mean()*num_day_in_year).round(2)\n",
    "\n",
    "def get_annualized_std_series(log_return_df, num_day_in_year=250):\n",
    "    return (log_return_df.std() * (num_day_in_year ** 0.5)).round(2)\n",
    "# var1 + var1 + .. => n* var1 의 분산구하기 위해 루트 씌워줌"
   ]
  },
  {
   "cell_type": "code",
   "execution_count": null,
   "id": "11b7d73b",
   "metadata": {},
   "outputs": [],
   "source": []
  },
  {
   "cell_type": "code",
   "execution_count": 40,
   "id": "96a14ed3",
   "metadata": {
    "ExecuteTime": {
     "end_time": "2022-04-28T02:50:38.805450Z",
     "start_time": "2022-04-28T02:50:38.799437Z"
    }
   },
   "outputs": [
    {
     "data": {
      "text/plain": [
       "삼성전자       -0.23\n",
       "kodex200   -0.26\n",
       "dtype: float64"
      ]
     },
     "execution_count": 40,
     "metadata": {},
     "output_type": "execute_result"
    }
   ],
   "source": [
    "get_annualized_returns_series(log_rtn_df, num_day_in_year =250) # 연평균 로그수익률"
   ]
  },
  {
   "cell_type": "code",
   "execution_count": 42,
   "id": "8e3d8203",
   "metadata": {
    "ExecuteTime": {
     "end_time": "2022-04-28T02:52:01.793991Z",
     "start_time": "2022-04-28T02:52:01.775014Z"
    }
   },
   "outputs": [
    {
     "data": {
      "text/plain": [
       "삼성전자        0.27\n",
       "kodex200    0.14\n",
       "dtype: float64"
      ]
     },
     "execution_count": 42,
     "metadata": {},
     "output_type": "execute_result"
    }
   ],
   "source": [
    "get_annualized_std_series(log_rtn_df, num_day_in_year=250) # 연평균 로그수익률의 표준편차"
   ]
  },
  {
   "cell_type": "code",
   "execution_count": null,
   "id": "1e8005f1",
   "metadata": {},
   "outputs": [],
   "source": []
  },
  {
   "cell_type": "code",
   "execution_count": null,
   "id": "b7526f86",
   "metadata": {},
   "outputs": [],
   "source": []
  },
  {
   "cell_type": "markdown",
   "id": "865aa767",
   "metadata": {},
   "source": [
    "## CAGR(연환산 복리수익률)"
   ]
  },
  {
   "cell_type": "code",
   "execution_count": 52,
   "id": "956075fc",
   "metadata": {
    "ExecuteTime": {
     "end_time": "2022-04-28T03:28:40.646183Z",
     "start_time": "2022-04-28T03:28:40.640199Z"
    }
   },
   "outputs": [
    {
     "data": {
      "text/html": [
       "<div>\n",
       "<style scoped>\n",
       "    .dataframe tbody tr th:only-of-type {\n",
       "        vertical-align: middle;\n",
       "    }\n",
       "\n",
       "    .dataframe tbody tr th {\n",
       "        vertical-align: top;\n",
       "    }\n",
       "\n",
       "    .dataframe thead th {\n",
       "        text-align: right;\n",
       "    }\n",
       "</style>\n",
       "<table border=\"1\" class=\"dataframe\">\n",
       "  <thead>\n",
       "    <tr style=\"text-align: right;\">\n",
       "      <th></th>\n",
       "      <th>삼성전자</th>\n",
       "      <th>kodex200</th>\n",
       "    </tr>\n",
       "    <tr>\n",
       "      <th>Date</th>\n",
       "      <th></th>\n",
       "      <th></th>\n",
       "    </tr>\n",
       "  </thead>\n",
       "  <tbody>\n",
       "    <tr>\n",
       "      <th>2018-01-02</th>\n",
       "      <td>1.000000</td>\n",
       "      <td>1.000000</td>\n",
       "    </tr>\n",
       "    <tr>\n",
       "      <th>2018-01-03</th>\n",
       "      <td>1.011760</td>\n",
       "      <td>1.004290</td>\n",
       "    </tr>\n",
       "    <tr>\n",
       "      <th>2018-01-04</th>\n",
       "      <td>1.001176</td>\n",
       "      <td>0.996347</td>\n",
       "    </tr>\n",
       "    <tr>\n",
       "      <th>2018-01-05</th>\n",
       "      <td>1.021560</td>\n",
       "      <td>1.009887</td>\n",
       "    </tr>\n",
       "    <tr>\n",
       "      <th>2018-01-08</th>\n",
       "      <td>1.019600</td>\n",
       "      <td>1.016658</td>\n",
       "    </tr>\n",
       "  </tbody>\n",
       "</table>\n",
       "</div>"
      ],
      "text/plain": [
       "                삼성전자  kodex200\n",
       "Date                          \n",
       "2018-01-02  1.000000  1.000000\n",
       "2018-01-03  1.011760  1.004290\n",
       "2018-01-04  1.001176  0.996347\n",
       "2018-01-05  1.021560  1.009887\n",
       "2018-01-08  1.019600  1.016658"
      ]
     },
     "execution_count": 52,
     "metadata": {},
     "output_type": "execute_result"
    }
   ],
   "source": [
    "# 누적수익률\n",
    "cum_rtn_df"
   ]
  },
  {
   "cell_type": "code",
   "execution_count": 53,
   "id": "0a77727a",
   "metadata": {
    "ExecuteTime": {
     "end_time": "2022-04-28T03:28:40.866621Z",
     "start_time": "2022-04-28T03:28:40.847645Z"
    }
   },
   "outputs": [
    {
     "data": {
      "text/plain": [
       "삼성전자        2.659908\n",
       "kodex200    2.299367\n",
       "Name: 2018-01-08 00:00:00, dtype: float64"
      ]
     },
     "execution_count": 53,
     "metadata": {},
     "output_type": "execute_result"
    }
   ],
   "source": [
    "# 1년 기준으로 바꿔주는 수익률\n",
    "\n",
    "num_day_in_year = 252\n",
    "\n",
    "cum_rtn_df.iloc[-1]**(252/len(cum_rtn_df))"
   ]
  },
  {
   "cell_type": "code",
   "execution_count": 54,
   "id": "2f87ee91",
   "metadata": {
    "ExecuteTime": {
     "end_time": "2022-04-28T03:28:41.038163Z",
     "start_time": "2022-04-28T03:28:41.024172Z"
    }
   },
   "outputs": [],
   "source": [
    "# 연 평균 복리 수익률\n",
    "\n",
    "def get_cagr_series(cum_rtn_df, num_day_in_year= 250):\n",
    "    cagr_series = cum_rtn_df.iloc[-1]**(num_day_in_year/(len(cum_rtn_df)))\n",
    "    return cagr_series"
   ]
  },
  {
   "cell_type": "code",
   "execution_count": 55,
   "id": "bd118afb",
   "metadata": {
    "ExecuteTime": {
     "end_time": "2022-04-28T03:28:41.276522Z",
     "start_time": "2022-04-28T03:28:41.263561Z"
    }
   },
   "outputs": [
    {
     "data": {
      "text/plain": [
       "삼성전자        2.639336\n",
       "kodex200    2.284222\n",
       "Name: 2018-01-08 00:00:00, dtype: float64"
      ]
     },
     "execution_count": 55,
     "metadata": {},
     "output_type": "execute_result"
    }
   ],
   "source": [
    "get_cagr_series(cum_rtn_df, num_day_in_year=250)"
   ]
  },
  {
   "cell_type": "code",
   "execution_count": null,
   "id": "ed94d814",
   "metadata": {},
   "outputs": [],
   "source": []
  },
  {
   "cell_type": "markdown",
   "id": "6741e89f",
   "metadata": {
    "ExecuteTime": {
     "end_time": "2022-04-28T03:01:37.585527Z",
     "start_time": "2022-04-28T03:01:37.567574Z"
    }
   },
   "source": [
    "## Sharp ratio(초과수익률/변동성)\n",
    "* 단위위험당 얻을수있는 수익률(Ra-Rf/표준편차)"
   ]
  },
  {
   "cell_type": "code",
   "execution_count": 56,
   "id": "08759fc5",
   "metadata": {
    "ExecuteTime": {
     "end_time": "2022-04-28T03:28:41.889857Z",
     "start_time": "2022-04-28T03:28:41.870908Z"
    }
   },
   "outputs": [
    {
     "data": {
      "text/plain": [
       "삼성전자       -0.094232\n",
       "kodex200   -0.179420\n",
       "dtype: float64"
      ]
     },
     "execution_count": 56,
     "metadata": {},
     "output_type": "execute_result"
    }
   ],
   "source": [
    "yearly_rfr = 0.025\n",
    "excess_rtns = log_rtn_df.mean()-yearly_rfr\n",
    "excess_rtns / (log_rtn_df.std() * np.sqrt(252))"
   ]
  },
  {
   "cell_type": "code",
   "execution_count": 57,
   "id": "f013f27b",
   "metadata": {
    "ExecuteTime": {
     "end_time": "2022-04-28T03:28:42.063422Z",
     "start_time": "2022-04-28T03:28:42.047436Z"
    }
   },
   "outputs": [],
   "source": [
    "#함수화\n",
    "def get_sharpe_ratio(log_rtn_df, yearly_rfr = 0.025):\n",
    "    excess_rtns = log_rtn_df.mean()*252 -yearly_rfr\n",
    "    return excess_rtns / (log_rtn_df.std() * np.sqrt(252))"
   ]
  },
  {
   "cell_type": "code",
   "execution_count": null,
   "id": "30ef6771",
   "metadata": {},
   "outputs": [],
   "source": []
  },
  {
   "cell_type": "markdown",
   "id": "38a8a3e2",
   "metadata": {},
   "source": [
    "## Drawdown: 고점대비 하락률\n",
    "* 낙폭이 크면 위험"
   ]
  },
  {
   "cell_type": "code",
   "execution_count": 60,
   "id": "91ccf055",
   "metadata": {
    "ExecuteTime": {
     "end_time": "2022-04-28T03:30:21.836543Z",
     "start_time": "2022-04-28T03:30:21.727835Z"
    }
   },
   "outputs": [
    {
     "data": {
      "text/plain": [
       "1.10478620660929"
      ]
     },
     "execution_count": 60,
     "metadata": {},
     "output_type": "execute_result"
    }
   ],
   "source": [
    "temp_df = fdr.DataReader('069500','2019-01-02','2020-10-30')\n",
    "log_rtn_df = np.log(temp_df.pct_change()+1).fillna(0)\n",
    "log_rtn_df = log_rtn_df['Close']\n",
    "cum_rtn_df = np.exp(log_rtn_df.cumsum())\n",
    "get_cagr_series(cum_rtn_df, num_day_in_year = 250)"
   ]
  },
  {
   "cell_type": "code",
   "execution_count": 65,
   "id": "c135b8f7",
   "metadata": {
    "ExecuteTime": {
     "end_time": "2022-04-28T03:39:03.306451Z",
     "start_time": "2022-04-28T03:39:03.295454Z"
    }
   },
   "outputs": [
    {
     "data": {
      "text/plain": [
       "Date\n",
       "2019-01-02    1.000000\n",
       "2019-01-03    1.000000\n",
       "2019-01-04    1.000000\n",
       "2019-01-07    1.012027\n",
       "2019-01-08    1.012027\n",
       "                ...   \n",
       "2020-10-26    1.280336\n",
       "2020-10-27    1.280336\n",
       "2020-10-28    1.280336\n",
       "2020-10-29    1.280336\n",
       "2020-10-30    1.280336\n",
       "Name: Close, Length: 452, dtype: float64"
      ]
     },
     "execution_count": 65,
     "metadata": {},
     "output_type": "execute_result"
    }
   ],
   "source": [
    "cummax_df = cum_rtn_df.cummax() # 누적수익률의 전고점\n",
    "cummax_df"
   ]
  },
  {
   "cell_type": "code",
   "execution_count": 61,
   "id": "cb97d9dc",
   "metadata": {
    "ExecuteTime": {
     "end_time": "2022-04-28T03:30:23.109170Z",
     "start_time": "2022-04-28T03:30:22.847839Z"
    },
    "scrolled": true
   },
   "outputs": [
    {
     "data": {
      "image/png": "[encoded data removed]",
      "text/plain": [
       "<Figure size 720x360 with 1 Axes>"
      ]
     },
     "metadata": {
      "needs_background": "light"
     },
     "output_type": "display_data"
    }
   ],
   "source": [
    "ax = cum_rtn_df.plot(figsize=(10,5))\n",
    "cummax_df.plot(ax=ax)\n",
    "\n",
    "plt.show()"
   ]
  },
  {
   "cell_type": "code",
   "execution_count": 62,
   "id": "6ecaedde",
   "metadata": {
    "ExecuteTime": {
     "end_time": "2022-04-28T03:30:24.677946Z",
     "start_time": "2022-04-28T03:30:24.671961Z"
    }
   },
   "outputs": [
    {
     "data": {
      "text/plain": [
       "Date\n",
       "2019-01-02    0.000000\n",
       "2019-01-03   -0.009721\n",
       "2019-01-04   -0.002142\n",
       "2019-01-07    0.000000\n",
       "2019-01-08   -0.006390\n",
       "                ...   \n",
       "2020-10-26   -0.025383\n",
       "2020-10-27   -0.033747\n",
       "2020-10-28   -0.028600\n",
       "2020-10-29   -0.038702\n",
       "2020-10-30   -0.064760\n",
       "Name: Close, Length: 452, dtype: float64"
      ]
     },
     "execution_count": 62,
     "metadata": {},
     "output_type": "execute_result"
    }
   ],
   "source": [
    "drawdown_df = cum_rtn_df/cummax_df -1\n",
    "drawdown_df"
   ]
  },
  {
   "cell_type": "code",
   "execution_count": null,
   "id": "a0489295",
   "metadata": {},
   "outputs": [],
   "source": []
  },
  {
   "cell_type": "markdown",
   "id": "fefb5fd1",
   "metadata": {},
   "source": [
    "### 1.MDD(max draw down)"
   ]
  },
  {
   "cell_type": "code",
   "execution_count": 63,
   "id": "b3dc93e1",
   "metadata": {
    "ExecuteTime": {
     "end_time": "2022-04-28T03:30:26.963833Z",
     "start_time": "2022-04-28T03:30:26.958847Z"
    }
   },
   "outputs": [
    {
     "data": {
      "text/plain": [
       "-0.34642576590730545"
      ]
     },
     "execution_count": 63,
     "metadata": {},
     "output_type": "execute_result"
    }
   ],
   "source": [
    "# 가장 많이 떨어진 수치\n",
    "mdd = drawdown_df.min() # 마이너스 값이므로\n",
    "mdd"
   ]
  },
  {
   "cell_type": "markdown",
   "id": "4115d124",
   "metadata": {},
   "source": [
    "### 2. Longest dd period"
   ]
  },
  {
   "cell_type": "code",
   "execution_count": 67,
   "id": "4266a580",
   "metadata": {
    "ExecuteTime": {
     "end_time": "2022-04-28T03:44:44.545080Z",
     "start_time": "2022-04-28T03:44:44.528124Z"
    },
    "scrolled": true
   },
   "outputs": [
    {
     "data": {
      "text/plain": [
       "Date\n",
       "2019-01-02    0.0\n",
       "2019-01-07    0.0\n",
       "2019-01-09    0.0\n",
       "2019-01-11    0.0\n",
       "2019-01-15    0.0\n",
       "2019-01-16    0.0\n",
       "2019-01-17    0.0\n",
       "2019-01-18    0.0\n",
       "2019-01-21    0.0\n",
       "2019-01-23    0.0\n",
       "2019-01-24    0.0\n",
       "2019-01-25    0.0\n",
       "2019-01-29    0.0\n",
       "2019-01-30    0.0\n",
       "2019-02-14    0.0\n",
       "2019-02-20    0.0\n",
       "2019-02-21    0.0\n",
       "2019-02-22    0.0\n",
       "2019-02-25    0.0\n",
       "2019-04-15    0.0\n",
       "2019-04-16    0.0\n",
       "2019-12-13    0.0\n",
       "2019-12-17    0.0\n",
       "2019-12-19    0.0\n",
       "2019-12-20    0.0\n",
       "2019-12-27    0.0\n",
       "2020-01-10    0.0\n",
       "2020-01-13    0.0\n",
       "2020-01-14    0.0\n",
       "2020-01-16    0.0\n",
       "2020-01-17    0.0\n",
       "2020-01-20    0.0\n",
       "2020-01-22    0.0\n",
       "2020-08-05    0.0\n",
       "2020-08-06    0.0\n",
       "2020-08-07    0.0\n",
       "2020-08-10    0.0\n",
       "2020-08-11    0.0\n",
       "2020-08-12    0.0\n",
       "2020-09-15    0.0\n",
       "Name: Close, dtype: float64"
      ]
     },
     "execution_count": 67,
     "metadata": {},
     "output_type": "execute_result"
    }
   ],
   "source": [
    "# 가장 긴 기간\n",
    "max_point_df = drawdown_df[drawdown_df==0]\n",
    "max_point_df"
   ]
  },
  {
   "cell_type": "code",
   "execution_count": null,
   "id": "24082448",
   "metadata": {},
   "outputs": [],
   "source": []
  },
  {
   "cell_type": "code",
   "execution_count": 74,
   "id": "41cac5c5",
   "metadata": {
    "ExecuteTime": {
     "end_time": "2022-04-28T03:48:50.073021Z",
     "start_time": "2022-04-28T03:48:50.064046Z"
    }
   },
   "outputs": [
    {
     "data": {
      "text/plain": [
       "DatetimeIndex(['2019-01-02', '2019-01-07', '2019-01-09', '2019-01-11',\n",
       "               '2019-01-15', '2019-01-16', '2019-01-17', '2019-01-18',\n",
       "               '2019-01-21', '2019-01-23', '2019-01-24', '2019-01-25',\n",
       "               '2019-01-29', '2019-01-30', '2019-02-14', '2019-02-20',\n",
       "               '2019-02-21', '2019-02-22', '2019-02-25', '2019-04-15',\n",
       "               '2019-04-16', '2019-12-13', '2019-12-17', '2019-12-19',\n",
       "               '2019-12-20', '2019-12-27', '2020-01-10', '2020-01-13',\n",
       "               '2020-01-14', '2020-01-16', '2020-01-17', '2020-01-20',\n",
       "               '2020-01-22', '2020-08-05', '2020-08-06', '2020-08-07',\n",
       "               '2020-08-10', '2020-08-11', '2020-08-12'],\n",
       "              dtype='datetime64[ns]', name='Date', freq=None)"
      ]
     },
     "execution_count": 74,
     "metadata": {},
     "output_type": "execute_result"
    }
   ],
   "source": [
    "first_df = max_point_df.index[:-1]\n",
    "first_df"
   ]
  },
  {
   "cell_type": "code",
   "execution_count": 75,
   "id": "99500a65",
   "metadata": {
    "ExecuteTime": {
     "end_time": "2022-04-28T03:49:00.952903Z",
     "start_time": "2022-04-28T03:49:00.943960Z"
    }
   },
   "outputs": [
    {
     "data": {
      "text/plain": [
       "DatetimeIndex(['2019-01-07', '2019-01-09', '2019-01-11', '2019-01-15',\n",
       "               '2019-01-16', '2019-01-17', '2019-01-18', '2019-01-21',\n",
       "               '2019-01-23', '2019-01-24', '2019-01-25', '2019-01-29',\n",
       "               '2019-01-30', '2019-02-14', '2019-02-20', '2019-02-21',\n",
       "               '2019-02-22', '2019-02-25', '2019-04-15', '2019-04-16',\n",
       "               '2019-12-13', '2019-12-17', '2019-12-19', '2019-12-20',\n",
       "               '2019-12-27', '2020-01-10', '2020-01-13', '2020-01-14',\n",
       "               '2020-01-16', '2020-01-17', '2020-01-20', '2020-01-22',\n",
       "               '2020-08-05', '2020-08-06', '2020-08-07', '2020-08-10',\n",
       "               '2020-08-11', '2020-08-12', '2020-09-15'],\n",
       "              dtype='datetime64[ns]', name='Date', freq=None)"
      ]
     },
     "execution_count": 75,
     "metadata": {},
     "output_type": "execute_result"
    }
   ],
   "source": [
    "second_df = max_point_df.index[1:]\n",
    "second_df"
   ]
  },
  {
   "cell_type": "code",
   "execution_count": 76,
   "id": "63cfb8c0",
   "metadata": {
    "ExecuteTime": {
     "end_time": "2022-04-28T03:49:15.750365Z",
     "start_time": "2022-04-28T03:49:15.743383Z"
    }
   },
   "outputs": [
    {
     "data": {
      "text/plain": [
       "TimedeltaIndex([  '5 days',   '2 days',   '2 days',   '4 days',   '1 days',\n",
       "                  '1 days',   '1 days',   '3 days',   '2 days',   '1 days',\n",
       "                  '1 days',   '4 days',   '1 days',  '15 days',   '6 days',\n",
       "                  '1 days',   '1 days',   '3 days',  '49 days',   '1 days',\n",
       "                '241 days',   '4 days',   '2 days',   '1 days',   '7 days',\n",
       "                 '14 days',   '3 days',   '1 days',   '2 days',   '1 days',\n",
       "                  '3 days',   '2 days', '196 days',   '1 days',   '1 days',\n",
       "                  '3 days',   '1 days',   '1 days',  '34 days'],\n",
       "               dtype='timedelta64[ns]', name='Date', freq=None)"
      ]
     },
     "execution_count": 76,
     "metadata": {},
     "output_type": "execute_result"
    }
   ],
   "source": [
    "period = second_df-first_df\n",
    "period"
   ]
  },
  {
   "cell_type": "code",
   "execution_count": 78,
   "id": "66934ebb",
   "metadata": {
    "ExecuteTime": {
     "end_time": "2022-04-28T03:49:33.142834Z",
     "start_time": "2022-04-28T03:49:33.135851Z"
    }
   },
   "outputs": [
    {
     "data": {
      "text/plain": [
       "20"
      ]
     },
     "execution_count": 78,
     "metadata": {},
     "output_type": "execute_result"
    }
   ],
   "source": [
    "# 가장 큰 인덱스값 출력\n",
    "period.argmax()"
   ]
  },
  {
   "cell_type": "code",
   "execution_count": 90,
   "id": "2c626af1",
   "metadata": {
    "ExecuteTime": {
     "end_time": "2022-04-28T03:56:23.713599Z",
     "start_time": "2022-04-28T03:56:23.696645Z"
    }
   },
   "outputs": [
    {
     "data": {
      "text/plain": [
       "241"
      ]
     },
     "execution_count": 90,
     "metadata": {},
     "output_type": "execute_result"
    }
   ],
   "source": [
    "period.max().days"
   ]
  },
  {
   "cell_type": "code",
   "execution_count": 87,
   "id": "39f64aec",
   "metadata": {
    "ExecuteTime": {
     "end_time": "2022-04-28T03:51:40.078981Z",
     "start_time": "2022-04-28T03:51:40.064030Z"
    }
   },
   "outputs": [],
   "source": [
    "ldd_st = first_df[period.argmax()]"
   ]
  },
  {
   "cell_type": "code",
   "execution_count": 88,
   "id": "076e50e5",
   "metadata": {
    "ExecuteTime": {
     "end_time": "2022-04-28T03:51:40.249560Z",
     "start_time": "2022-04-28T03:51:40.240548Z"
    }
   },
   "outputs": [],
   "source": [
    "ldd_ed = second_df[period.argmax()]"
   ]
  },
  {
   "cell_type": "code",
   "execution_count": 89,
   "id": "58223942",
   "metadata": {
    "ExecuteTime": {
     "end_time": "2022-04-28T03:51:40.327316Z",
     "start_time": "2022-04-28T03:51:40.319338Z"
    }
   },
   "outputs": [
    {
     "name": "stdout",
     "output_type": "stream",
     "text": [
      "2019-04-16 00:00:00 2019-12-13 00:00:00\n"
     ]
    }
   ],
   "source": [
    "print(ldd_st, ldd_ed)"
   ]
  },
  {
   "cell_type": "code",
   "execution_count": null,
   "id": "86c3268b",
   "metadata": {},
   "outputs": [],
   "source": []
  },
  {
   "cell_type": "markdown",
   "id": "43ad5b69",
   "metadata": {},
   "source": [
    "### 함수화"
   ]
  },
  {
   "cell_type": "code",
   "execution_count": 102,
   "id": "93337659",
   "metadata": {
    "ExecuteTime": {
     "end_time": "2022-04-28T04:03:48.060221Z",
     "start_time": "2022-04-28T04:03:47.951470Z"
    }
   },
   "outputs": [
    {
     "data": {
      "text/plain": [
       "1.10478620660929"
      ]
     },
     "execution_count": 102,
     "metadata": {},
     "output_type": "execute_result"
    }
   ],
   "source": [
    "temp_df = fdr.DataReader('069500','2019-01-02','2020-10-30')\n",
    "log_rtn_df = np.log(temp_df.pct_change()+1).fillna(0)\n",
    "log_rtn_df = log_rtn_df['Close']\n",
    "cum_rtn_df = np.exp(log_rtn_df.cumsum())\n",
    "get_cagr_series(cum_rtn_df, num_day_in_year = 250)"
   ]
  },
  {
   "cell_type": "code",
   "execution_count": 103,
   "id": "69d473ef",
   "metadata": {
    "ExecuteTime": {
     "end_time": "2022-04-28T04:03:48.139966Z",
     "start_time": "2022-04-28T04:03:48.127998Z"
    }
   },
   "outputs": [],
   "source": [
    "def get_drawdown_infos(cum_returns_df):\n",
    "    cummax_df = cum_rtn_df.cummax()\n",
    "    dd_df = cum_returns_df / cummax_df -1\n",
    "    \n",
    "    mdd_series = dd_df.min()\n",
    "    \n",
    "    max_point_df = dd_df[dd_df==0]\n",
    "    \n",
    "    first_df = max_point_df.index[:-1]\n",
    "    second_df = max_point_df.index[1:]\n",
    "    \n",
    "    period = second_df-first_df\n",
    "    \n",
    "    longest_dd_period = period.max().days\n",
    "    \n",
    "    ldd_st = first_df[period.argmax()]\n",
    "    ldd_ed = second_df[period.argmax()]\n",
    "    \n",
    "    return mdd_series, longest_dd_period, ldd_st, ldd_ed"
   ]
  },
  {
   "cell_type": "code",
   "execution_count": 104,
   "id": "85c72512",
   "metadata": {
    "ExecuteTime": {
     "end_time": "2022-04-28T04:03:48.283612Z",
     "start_time": "2022-04-28T04:03:48.271614Z"
    }
   },
   "outputs": [],
   "source": [
    "mmd, longest_dd, longest_dd_st, longest_dd_ed = get_drawdown_infos(cum_rtn_df)"
   ]
  },
  {
   "cell_type": "code",
   "execution_count": 105,
   "id": "966e222f",
   "metadata": {
    "ExecuteTime": {
     "end_time": "2022-04-28T04:03:48.872008Z",
     "start_time": "2022-04-28T04:03:48.864030Z"
    }
   },
   "outputs": [
    {
     "name": "stdout",
     "output_type": "stream",
     "text": [
      "최대하락폭:  -0.34642576590730545\n",
      "최대하락기간:  241\n",
      "하락시작기간:  2019-04-16 00:00:00\n",
      "하락끝기간:  2019-12-13 00:00:00\n"
     ]
    }
   ],
   "source": [
    "print('최대하락폭: ',mdd)\n",
    "print('최대하락기간: ', longest_dd)\n",
    "print('하락시작기간: ', longest_dd_st)\n",
    "print('하락끝기간: ', longest_dd_ed)"
   ]
  },
  {
   "cell_type": "code",
   "execution_count": null,
   "id": "b9ed7146",
   "metadata": {},
   "outputs": [],
   "source": []
  },
  {
   "cell_type": "code",
   "execution_count": null,
   "id": "6d079dcb",
   "metadata": {},
   "outputs": [],
   "source": []
  },
  {
   "cell_type": "code",
   "execution_count": null,
   "id": "c1d98fae",
   "metadata": {},
   "outputs": [],
   "source": []
  },
  {
   "cell_type": "code",
   "execution_count": null,
   "id": "4f315141",
   "metadata": {},
   "outputs": [],
   "source": []
  },
  {
   "cell_type": "code",
   "execution_count": null,
   "id": "86e60ce2",
   "metadata": {},
   "outputs": [],
   "source": []
  },
  {
   "cell_type": "code",
   "execution_count": null,
   "id": "6d366619",
   "metadata": {},
   "outputs": [],
   "source": []
  },
  {
   "cell_type": "code",
   "execution_count": null,
   "id": "eb0bde0f",
   "metadata": {},
   "outputs": [],
   "source": []
  },
  {
   "cell_type": "code",
   "execution_count": null,
   "id": "e8194639",
   "metadata": {},
   "outputs": [],
   "source": []
  },
  {
   "cell_type": "code",
   "execution_count": null,
   "id": "fb66a867",
   "metadata": {},
   "outputs": [],
   "source": []
  },
  {
   "cell_type": "code",
   "execution_count": null,
   "id": "68bceab5",
   "metadata": {},
   "outputs": [],
   "source": []
  },
  {
   "cell_type": "code",
   "execution_count": null,
   "id": "40ed465d",
   "metadata": {},
   "outputs": [],
   "source": []
  },
  {
   "cell_type": "code",
   "execution_count": null,
   "id": "a8aabe67",
   "metadata": {},
   "outputs": [],
   "source": []
  }
 ],
 "metadata": {
  "kernelspec": {
   "display_name": "Python 3 (ipykernel)",
   "language": "python",
   "name": "python3"
  },
  "language_info": {
   "codemirror_mode": {
    "name": "ipython",
    "version": 3
   },
   "file_extension": ".py",
   "mimetype": "text/x-python",
   "name": "python",
   "nbconvert_exporter": "python",
   "pygments_lexer": "ipython3",
   "version": "3.9.7"
  },
  "toc": {
   "base_numbering": 1,
   "nav_menu": {},
   "number_sections": true,
   "sideBar": true,
   "skip_h1_title": false,
   "title_cell": "Table of Contents",
   "title_sidebar": "Contents",
   "toc_cell": false,
   "toc_position": {},
   "toc_section_display": true,
   "toc_window_display": true
  },
  "varInspector": {
   "cols": {
    "lenName": 16,
    "lenType": 16,
    "lenVar": 40
   },
   "kernels_config": {
    "python": {
     "delete_cmd_postfix": "",
     "delete_cmd_prefix": "del ",
     "library": "var_list.py",
     "varRefreshCmd": "print(var_dic_list())"
    },
    "r": {
     "delete_cmd_postfix": ") ",
     "delete_cmd_prefix": "rm(",
     "library": "var_list.r",
     "varRefreshCmd": "cat(var_dic_list()) "
    }
   },
   "types_to_exclude": [
    "module",
    "function",
    "builtin_function_or_method",
    "instance",
    "_Feature"
   ],
   "window_display": false
  }
 },
 "nbformat": 4,
 "nbformat_minor": 5
}
