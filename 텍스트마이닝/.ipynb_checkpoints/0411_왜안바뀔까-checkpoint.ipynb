{
 "cells": [
  {
   "cell_type": "markdown",
   "id": "0c5d0c85",
   "metadata": {
    "ExecuteTime": {
     "end_time": "2022-04-11T08:00:23.065174Z",
     "start_time": "2022-04-11T08:00:23.059219Z"
    }
   },
   "source": [
    "# 왜 안 변했을까"
   ]
  },
  {
   "cell_type": "code",
   "execution_count": 14,
   "id": "6fc926bf",
   "metadata": {
    "ExecuteTime": {
     "end_time": "2022-04-11T08:02:23.213775Z",
     "start_time": "2022-04-11T08:02:23.203801Z"
    }
   },
   "outputs": [],
   "source": [
    "import pandas as pd \n",
    "import numpy as np\n",
    "import matplotlib.pyplot as plt\n",
    "import seaborn as sns"
   ]
  },
  {
   "cell_type": "code",
   "execution_count": 15,
   "id": "c49a65db",
   "metadata": {
    "ExecuteTime": {
     "end_time": "2022-04-11T08:02:24.549789Z",
     "start_time": "2022-04-11T08:02:23.364183Z"
    }
   },
   "outputs": [],
   "source": [
    "from konlpy.tag import Okt,Komoran, Kkma,Hannanum\n",
    "\n",
    "okt = Okt()\n",
    "kom = Komoran()\n",
    "kkma = Kkma()\n",
    "han = Hannanum()"
   ]
  },
  {
   "cell_type": "code",
   "execution_count": 16,
   "id": "ad597753",
   "metadata": {
    "ExecuteTime": {
     "end_time": "2022-04-11T08:02:24.989732Z",
     "start_time": "2022-04-11T08:02:24.586759Z"
    }
   },
   "outputs": [],
   "source": [
    "train_df = pd.read_csv('./data/ratings_train.txt', sep='\\t')\n",
    "test_df = pd.read_csv('./data/ratings_test.txt', sep='\\t')"
   ]
  },
  {
   "cell_type": "code",
   "execution_count": 17,
   "id": "1a493ebe",
   "metadata": {
    "ExecuteTime": {
     "end_time": "2022-04-11T08:02:25.036941Z",
     "start_time": "2022-04-11T08:02:25.006520Z"
    }
   },
   "outputs": [],
   "source": [
    "train_df.dropna(inplace=True)\n",
    "test_df.dropna(inplace=True)"
   ]
  },
  {
   "cell_type": "code",
   "execution_count": 18,
   "id": "4e3b5c4a",
   "metadata": {
    "ExecuteTime": {
     "end_time": "2022-04-11T08:02:25.178792Z",
     "start_time": "2022-04-11T08:02:25.053704Z"
    }
   },
   "outputs": [],
   "source": [
    "train_df.drop_duplicates(['document'], keep='first', inplace=True)\n",
    "test_df.drop_duplicates(['document'], keep='first', inplace=True)"
   ]
  },
  {
   "cell_type": "code",
   "execution_count": 19,
   "id": "c820dc7e",
   "metadata": {
    "ExecuteTime": {
     "end_time": "2022-04-11T08:02:25.382010Z",
     "start_time": "2022-04-11T08:02:25.294219Z"
    }
   },
   "outputs": [
    {
     "data": {
      "text/plain": [
       "0"
      ]
     },
     "execution_count": 19,
     "metadata": {},
     "output_type": "execute_result"
    }
   ],
   "source": [
    "train_df.duplicated(subset=['document']).sum()"
   ]
  },
  {
   "cell_type": "code",
   "execution_count": 20,
   "id": "0fb88bbc",
   "metadata": {
    "ExecuteTime": {
     "end_time": "2022-04-11T08:02:26.187808Z",
     "start_time": "2022-04-11T08:02:25.397939Z"
    }
   },
   "outputs": [
    {
     "name": "stderr",
     "output_type": "stream",
     "text": [
      "C:\\Users\\bitcamp\\AppData\\Local\\Temp/ipykernel_13708/390526663.py:1: FutureWarning: The default value of regex will change from True to False in a future version.\n",
      "  train_df['document'] = train_df['document'].str.replace(\"[^ㄱ-ㅎㅏ-ㅣ가-힣a-zA-Z ]\", '')\n",
      "C:\\Users\\bitcamp\\AppData\\Local\\Temp/ipykernel_13708/390526663.py:2: FutureWarning: The default value of regex will change from True to False in a future version.\n",
      "  test_df['document'] = test_df['document'].str.replace(\"[^ㄱ-ㅎㅏ-ㅣ가-힣a-zA-Z ]\", '')\n",
      "C:\\Users\\bitcamp\\AppData\\Local\\Temp/ipykernel_13708/390526663.py:4: FutureWarning: The default value of regex will change from True to False in a future version.\n",
      "  train_df['document'] = train_df['document'].str.replace(\"\\s+\", ' ')\n",
      "C:\\Users\\bitcamp\\AppData\\Local\\Temp/ipykernel_13708/390526663.py:5: FutureWarning: The default value of regex will change from True to False in a future version.\n",
      "  test_df['document'] = test_df['document'].str.replace(\"\\s+\", ' ')\n"
     ]
    }
   ],
   "source": [
    "train_df['document'] = train_df['document'].str.replace(\"[^ㄱ-ㅎㅏ-ㅣ가-힣a-zA-Z ]\", '')\n",
    "test_df['document'] = test_df['document'].str.replace(\"[^ㄱ-ㅎㅏ-ㅣ가-힣a-zA-Z ]\", '')\n",
    "\n",
    "train_df['document'] = train_df['document'].str.replace(\"\\s+\", ' ')\n",
    "test_df['document'] = test_df['document'].str.replace(\"\\s+\", ' ')"
   ]
  },
  {
   "cell_type": "markdown",
   "id": "800fc212",
   "metadata": {
    "ExecuteTime": {
     "end_time": "2022-04-11T08:03:01.890422Z",
     "start_time": "2022-04-11T08:03:01.843792Z"
    }
   },
   "source": [
    "## '' 만 지웠을 때"
   ]
  },
  {
   "cell_type": "code",
   "execution_count": 21,
   "id": "8f0c162a",
   "metadata": {
    "ExecuteTime": {
     "end_time": "2022-04-11T08:02:41.530668Z",
     "start_time": "2022-04-11T08:02:41.523696Z"
    }
   },
   "outputs": [],
   "source": [
    "train1_df = train_df.copy()"
   ]
  },
  {
   "cell_type": "code",
   "execution_count": 22,
   "id": "9fad2f8f",
   "metadata": {
    "ExecuteTime": {
     "end_time": "2022-04-11T08:03:01.890422Z",
     "start_time": "2022-04-11T08:03:01.843792Z"
    }
   },
   "outputs": [
    {
     "data": {
      "text/html": [
       "<div>\n",
       "<style scoped>\n",
       "    .dataframe tbody tr th:only-of-type {\n",
       "        vertical-align: middle;\n",
       "    }\n",
       "\n",
       "    .dataframe tbody tr th {\n",
       "        vertical-align: top;\n",
       "    }\n",
       "\n",
       "    .dataframe thead th {\n",
       "        text-align: right;\n",
       "    }\n",
       "</style>\n",
       "<table border=\"1\" class=\"dataframe\">\n",
       "  <thead>\n",
       "    <tr style=\"text-align: right;\">\n",
       "      <th></th>\n",
       "      <th>id</th>\n",
       "      <th>document</th>\n",
       "      <th>label</th>\n",
       "    </tr>\n",
       "  </thead>\n",
       "  <tbody>\n",
       "  </tbody>\n",
       "</table>\n",
       "</div>"
      ],
      "text/plain": [
       "Empty DataFrame\n",
       "Columns: [id, document, label]\n",
       "Index: []"
      ]
     },
     "execution_count": 22,
     "metadata": {},
     "output_type": "execute_result"
    }
   ],
   "source": [
    "train1_df = train1_df[(train1_df['document'] != '') ]\n",
    "train1_df[(train1_df['document'] == '') ]"
   ]
  },
  {
   "cell_type": "markdown",
   "id": "5b121e04",
   "metadata": {},
   "source": [
    "## '', ' ' 같이 지웠을때"
   ]
  },
  {
   "cell_type": "code",
   "execution_count": 23,
   "id": "2dd30444",
   "metadata": {
    "ExecuteTime": {
     "end_time": "2022-04-11T08:03:18.915316Z",
     "start_time": "2022-04-11T08:03:18.900106Z"
    }
   },
   "outputs": [],
   "source": [
    "train2_df = train_df.copy()"
   ]
  },
  {
   "cell_type": "code",
   "execution_count": 25,
   "id": "9f60f767",
   "metadata": {
    "ExecuteTime": {
     "end_time": "2022-04-11T08:05:49.994432Z",
     "start_time": "2022-04-11T08:05:49.954538Z"
    }
   },
   "outputs": [],
   "source": [
    "train2_df = train2_df[(train2_df['document'] != '') | (train2_df['document'] != ' ')]"
   ]
  },
  {
   "cell_type": "code",
   "execution_count": 26,
   "id": "48d086e6",
   "metadata": {
    "ExecuteTime": {
     "end_time": "2022-04-11T08:05:52.221059Z",
     "start_time": "2022-04-11T08:05:52.196127Z"
    }
   },
   "outputs": [
    {
     "data": {
      "text/html": [
       "<div>\n",
       "<style scoped>\n",
       "    .dataframe tbody tr th:only-of-type {\n",
       "        vertical-align: middle;\n",
       "    }\n",
       "\n",
       "    .dataframe tbody tr th {\n",
       "        vertical-align: top;\n",
       "    }\n",
       "\n",
       "    .dataframe thead th {\n",
       "        text-align: right;\n",
       "    }\n",
       "</style>\n",
       "<table border=\"1\" class=\"dataframe\">\n",
       "  <thead>\n",
       "    <tr style=\"text-align: right;\">\n",
       "      <th></th>\n",
       "      <th>id</th>\n",
       "      <th>document</th>\n",
       "      <th>label</th>\n",
       "    </tr>\n",
       "  </thead>\n",
       "  <tbody>\n",
       "    <tr>\n",
       "      <th>584</th>\n",
       "      <td>7117896</td>\n",
       "      <td></td>\n",
       "      <td>0</td>\n",
       "    </tr>\n",
       "    <tr>\n",
       "      <th>593</th>\n",
       "      <td>6478189</td>\n",
       "      <td></td>\n",
       "      <td>0</td>\n",
       "    </tr>\n",
       "    <tr>\n",
       "      <th>638</th>\n",
       "      <td>9364602</td>\n",
       "      <td></td>\n",
       "      <td>0</td>\n",
       "    </tr>\n",
       "    <tr>\n",
       "      <th>1840</th>\n",
       "      <td>7095375</td>\n",
       "      <td></td>\n",
       "      <td>1</td>\n",
       "    </tr>\n",
       "    <tr>\n",
       "      <th>2327</th>\n",
       "      <td>9317820</td>\n",
       "      <td></td>\n",
       "      <td>1</td>\n",
       "    </tr>\n",
       "    <tr>\n",
       "      <th>...</th>\n",
       "      <td>...</td>\n",
       "      <td>...</td>\n",
       "      <td>...</td>\n",
       "    </tr>\n",
       "    <tr>\n",
       "      <th>144713</th>\n",
       "      <td>5887409</td>\n",
       "      <td></td>\n",
       "      <td>1</td>\n",
       "    </tr>\n",
       "    <tr>\n",
       "      <th>146064</th>\n",
       "      <td>8014067</td>\n",
       "      <td></td>\n",
       "      <td>0</td>\n",
       "    </tr>\n",
       "    <tr>\n",
       "      <th>146607</th>\n",
       "      <td>4602734</td>\n",
       "      <td></td>\n",
       "      <td>0</td>\n",
       "    </tr>\n",
       "    <tr>\n",
       "      <th>147059</th>\n",
       "      <td>7089618</td>\n",
       "      <td></td>\n",
       "      <td>1</td>\n",
       "    </tr>\n",
       "    <tr>\n",
       "      <th>149364</th>\n",
       "      <td>8014701</td>\n",
       "      <td></td>\n",
       "      <td>1</td>\n",
       "    </tr>\n",
       "  </tbody>\n",
       "</table>\n",
       "<p>173 rows × 3 columns</p>\n",
       "</div>"
      ],
      "text/plain": [
       "             id document  label\n",
       "584     7117896               0\n",
       "593     6478189               0\n",
       "638     9364602               0\n",
       "1840    7095375               1\n",
       "2327    9317820               1\n",
       "...         ...      ...    ...\n",
       "144713  5887409               1\n",
       "146064  8014067               0\n",
       "146607  4602734               0\n",
       "147059  7089618               1\n",
       "149364  8014701               1\n",
       "\n",
       "[173 rows x 3 columns]"
      ]
     },
     "execution_count": 26,
     "metadata": {},
     "output_type": "execute_result"
    }
   ],
   "source": [
    "# 반영 안됨 \n",
    "train2_df[(train2_df['document'] == '') ]"
   ]
  },
  {
   "cell_type": "code",
   "execution_count": 27,
   "id": "9714de20",
   "metadata": {
    "ExecuteTime": {
     "end_time": "2022-04-11T08:05:59.328787Z",
     "start_time": "2022-04-11T08:05:59.298897Z"
    }
   },
   "outputs": [
    {
     "data": {
      "text/html": [
       "<div>\n",
       "<style scoped>\n",
       "    .dataframe tbody tr th:only-of-type {\n",
       "        vertical-align: middle;\n",
       "    }\n",
       "\n",
       "    .dataframe tbody tr th {\n",
       "        vertical-align: top;\n",
       "    }\n",
       "\n",
       "    .dataframe thead th {\n",
       "        text-align: right;\n",
       "    }\n",
       "</style>\n",
       "<table border=\"1\" class=\"dataframe\">\n",
       "  <thead>\n",
       "    <tr style=\"text-align: right;\">\n",
       "      <th></th>\n",
       "      <th>id</th>\n",
       "      <th>document</th>\n",
       "      <th>label</th>\n",
       "    </tr>\n",
       "  </thead>\n",
       "  <tbody>\n",
       "    <tr>\n",
       "      <th>30166</th>\n",
       "      <td>5310569</td>\n",
       "      <td></td>\n",
       "      <td>0</td>\n",
       "    </tr>\n",
       "    <tr>\n",
       "      <th>38555</th>\n",
       "      <td>5483915</td>\n",
       "      <td></td>\n",
       "      <td>0</td>\n",
       "    </tr>\n",
       "    <tr>\n",
       "      <th>40569</th>\n",
       "      <td>10124907</td>\n",
       "      <td></td>\n",
       "      <td>1</td>\n",
       "    </tr>\n",
       "    <tr>\n",
       "      <th>129364</th>\n",
       "      <td>7796253</td>\n",
       "      <td></td>\n",
       "      <td>1</td>\n",
       "    </tr>\n",
       "    <tr>\n",
       "      <th>129616</th>\n",
       "      <td>10187596</td>\n",
       "      <td></td>\n",
       "      <td>0</td>\n",
       "    </tr>\n",
       "    <tr>\n",
       "      <th>138058</th>\n",
       "      <td>8633968</td>\n",
       "      <td></td>\n",
       "      <td>1</td>\n",
       "    </tr>\n",
       "  </tbody>\n",
       "</table>\n",
       "</div>"
      ],
      "text/plain": [
       "              id document  label\n",
       "30166    5310569               0\n",
       "38555    5483915               0\n",
       "40569   10124907               1\n",
       "129364   7796253               1\n",
       "129616  10187596               0\n",
       "138058   8633968               1"
      ]
     },
     "execution_count": 27,
     "metadata": {},
     "output_type": "execute_result"
    }
   ],
   "source": [
    "# 반영 안됨 \n",
    "train2_df[(train2_df['document'] == ' ') ]"
   ]
  },
  {
   "cell_type": "code",
   "execution_count": null,
   "id": "beb4b1fd",
   "metadata": {},
   "outputs": [],
   "source": []
  },
  {
   "cell_type": "code",
   "execution_count": 44,
   "id": "d1ad331a",
   "metadata": {
    "ExecuteTime": {
     "end_time": "2022-04-11T08:28:34.313216Z",
     "start_time": "2022-04-11T08:28:34.277342Z"
    }
   },
   "outputs": [],
   "source": [
    "# ''이 아닌 train2_df or '' 이 아닌 train2_df 를 합치면 -> 원래 그대로 train2_df\n",
    "# ''와 ' '는 겹치지 않으므로\n",
    "# 벤다이어그램\n",
    "train2_df = train2_df[(train2_df['document'] != '') | (train2_df['document'] != ' ')]"
   ]
  },
  {
   "cell_type": "code",
   "execution_count": null,
   "id": "dd96e064",
   "metadata": {
    "ExecuteTime": {
     "end_time": "2022-04-11T08:29:06.412198Z",
     "start_time": "2022-04-11T08:29:06.389235Z"
    }
   },
   "outputs": [],
   "source": [
    "# 따로따로 지우는게 맞다!"
   ]
  },
  {
   "cell_type": "code",
   "execution_count": null,
   "id": "02566e0e",
   "metadata": {},
   "outputs": [],
   "source": []
  },
  {
   "cell_type": "code",
   "execution_count": null,
   "id": "bf8c8b67",
   "metadata": {},
   "outputs": [],
   "source": []
  },
  {
   "cell_type": "code",
   "execution_count": null,
   "id": "774d0442",
   "metadata": {},
   "outputs": [],
   "source": []
  },
  {
   "cell_type": "code",
   "execution_count": null,
   "id": "3b024671",
   "metadata": {},
   "outputs": [],
   "source": []
  },
  {
   "cell_type": "code",
   "execution_count": null,
   "id": "b90dcdf5",
   "metadata": {},
   "outputs": [],
   "source": []
  },
  {
   "cell_type": "markdown",
   "id": "0b9f7556",
   "metadata": {},
   "source": [
    "# 왜 안바뀔까 2"
   ]
  },
  {
   "cell_type": "code",
   "execution_count": 46,
   "id": "5b80590a",
   "metadata": {
    "ExecuteTime": {
     "end_time": "2022-04-11T08:37:05.495355Z",
     "start_time": "2022-04-11T08:37:05.478400Z"
    }
   },
   "outputs": [],
   "source": [
    "train3_df = train_df.copy()"
   ]
  },
  {
   "cell_type": "code",
   "execution_count": 47,
   "id": "e14e7ec1",
   "metadata": {
    "ExecuteTime": {
     "end_time": "2022-04-11T08:37:05.872093Z",
     "start_time": "2022-04-11T08:37:05.860091Z"
    }
   },
   "outputs": [
    {
     "name": "stderr",
     "output_type": "stream",
     "text": [
      "C:\\Users\\bitcamp\\AppData\\Local\\Temp/ipykernel_13708/4269182150.py:3: SettingWithCopyWarning: \n",
      "A value is trying to be set on a copy of a slice from a DataFrame.\n",
      "Try using .loc[row_indexer,col_indexer] = value instead\n",
      "\n",
      "See the caveats in the documentation: https://pandas.pydata.org/pandas-docs/stable/user_guide/indexing.html#returning-a-view-versus-a-copy\n",
      "  train3_df[train3_df['label']== 0 ]['label'] = 1\n"
     ]
    }
   ],
   "source": [
    "# label 이 0인값을 1로 바꾸고 싶음\n",
    "\n",
    "train3_df[train3_df['label']== 0 ]['label'] = 1"
   ]
  },
  {
   "cell_type": "code",
   "execution_count": 48,
   "id": "e46615f9",
   "metadata": {
    "ExecuteTime": {
     "end_time": "2022-04-11T08:37:07.109282Z",
     "start_time": "2022-04-11T08:37:07.094285Z"
    }
   },
   "outputs": [
    {
     "data": {
      "text/html": [
       "<div>\n",
       "<style scoped>\n",
       "    .dataframe tbody tr th:only-of-type {\n",
       "        vertical-align: middle;\n",
       "    }\n",
       "\n",
       "    .dataframe tbody tr th {\n",
       "        vertical-align: top;\n",
       "    }\n",
       "\n",
       "    .dataframe thead th {\n",
       "        text-align: right;\n",
       "    }\n",
       "</style>\n",
       "<table border=\"1\" class=\"dataframe\">\n",
       "  <thead>\n",
       "    <tr style=\"text-align: right;\">\n",
       "      <th></th>\n",
       "      <th>id</th>\n",
       "      <th>document</th>\n",
       "      <th>label</th>\n",
       "    </tr>\n",
       "  </thead>\n",
       "  <tbody>\n",
       "    <tr>\n",
       "      <th>0</th>\n",
       "      <td>9976970</td>\n",
       "      <td>아 더빙 진짜 짜증나네요 목소리</td>\n",
       "      <td>0</td>\n",
       "    </tr>\n",
       "    <tr>\n",
       "      <th>2</th>\n",
       "      <td>10265843</td>\n",
       "      <td>너무재밓었다그래서보는것을추천한다</td>\n",
       "      <td>0</td>\n",
       "    </tr>\n",
       "    <tr>\n",
       "      <th>3</th>\n",
       "      <td>9045019</td>\n",
       "      <td>교도소 이야기구먼 솔직히 재미는 없다평점 조정</td>\n",
       "      <td>0</td>\n",
       "    </tr>\n",
       "    <tr>\n",
       "      <th>5</th>\n",
       "      <td>5403919</td>\n",
       "      <td>막 걸음마 뗀 세부터 초등학교 학년생인 살용영화ㅋㅋㅋ별반개도 아까움</td>\n",
       "      <td>0</td>\n",
       "    </tr>\n",
       "    <tr>\n",
       "      <th>6</th>\n",
       "      <td>7797314</td>\n",
       "      <td>원작의 긴장감을 제대로 살려내지못했다</td>\n",
       "      <td>0</td>\n",
       "    </tr>\n",
       "    <tr>\n",
       "      <th>...</th>\n",
       "      <td>...</td>\n",
       "      <td>...</td>\n",
       "      <td>...</td>\n",
       "    </tr>\n",
       "    <tr>\n",
       "      <th>149990</th>\n",
       "      <td>6373651</td>\n",
       "      <td>이걸 영화라고 찎었냐</td>\n",
       "      <td>0</td>\n",
       "    </tr>\n",
       "    <tr>\n",
       "      <th>149992</th>\n",
       "      <td>9335962</td>\n",
       "      <td>공포나 재난영화가 아니라 아예 대놓고 비급 크리쳐개그물임ㅋㅋ 음악 완전 흥겹다ㅋ 점...</td>\n",
       "      <td>0</td>\n",
       "    </tr>\n",
       "    <tr>\n",
       "      <th>149995</th>\n",
       "      <td>6222902</td>\n",
       "      <td>인간이 문제지 소는 뭔죄인가</td>\n",
       "      <td>0</td>\n",
       "    </tr>\n",
       "    <tr>\n",
       "      <th>149997</th>\n",
       "      <td>9311800</td>\n",
       "      <td>이게 뭐요 한국인은 거들먹거리고 필리핀 혼혈은 착하다</td>\n",
       "      <td>0</td>\n",
       "    </tr>\n",
       "    <tr>\n",
       "      <th>149999</th>\n",
       "      <td>9619869</td>\n",
       "      <td>한국 영화 최초로 수간하는 내용이 담긴 영화</td>\n",
       "      <td>0</td>\n",
       "    </tr>\n",
       "  </tbody>\n",
       "</table>\n",
       "<p>73342 rows × 3 columns</p>\n",
       "</div>"
      ],
      "text/plain": [
       "              id                                           document  label\n",
       "0        9976970                                  아 더빙 진짜 짜증나네요 목소리      0\n",
       "2       10265843                                  너무재밓었다그래서보는것을추천한다      0\n",
       "3        9045019                          교도소 이야기구먼 솔직히 재미는 없다평점 조정      0\n",
       "5        5403919              막 걸음마 뗀 세부터 초등학교 학년생인 살용영화ㅋㅋㅋ별반개도 아까움      0\n",
       "6        7797314                               원작의 긴장감을 제대로 살려내지못했다      0\n",
       "...          ...                                                ...    ...\n",
       "149990   6373651                                        이걸 영화라고 찎었냐      0\n",
       "149992   9335962  공포나 재난영화가 아니라 아예 대놓고 비급 크리쳐개그물임ㅋㅋ 음악 완전 흥겹다ㅋ 점...      0\n",
       "149995   6222902                                    인간이 문제지 소는 뭔죄인가      0\n",
       "149997   9311800                      이게 뭐요 한국인은 거들먹거리고 필리핀 혼혈은 착하다      0\n",
       "149999   9619869                           한국 영화 최초로 수간하는 내용이 담긴 영화      0\n",
       "\n",
       "[73342 rows x 3 columns]"
      ]
     },
     "execution_count": 48,
     "metadata": {},
     "output_type": "execute_result"
    }
   ],
   "source": [
    "# 반영 안됨 \n",
    "train3_df[train3_df['label']== 0 ]"
   ]
  },
  {
   "cell_type": "code",
   "execution_count": null,
   "id": "ee3e9a40",
   "metadata": {},
   "outputs": [],
   "source": []
  },
  {
   "cell_type": "code",
   "execution_count": 32,
   "id": "79d861e6",
   "metadata": {
    "ExecuteTime": {
     "end_time": "2022-04-11T08:12:23.969463Z",
     "start_time": "2022-04-11T08:12:23.958521Z"
    }
   },
   "outputs": [],
   "source": [
    "## 해결 : train3_df에서 벗어나면 안된다"
   ]
  },
  {
   "cell_type": "code",
   "execution_count": 49,
   "id": "1835d86a",
   "metadata": {
    "ExecuteTime": {
     "end_time": "2022-04-11T08:39:37.228378Z",
     "start_time": "2022-04-11T08:39:37.206437Z"
    }
   },
   "outputs": [],
   "source": [
    "# 새로운 df3 지정시\n",
    "df3 = train3_df[train3_df['label']== 0 ]"
   ]
  },
  {
   "cell_type": "code",
   "execution_count": 50,
   "id": "0d743f35",
   "metadata": {
    "ExecuteTime": {
     "end_time": "2022-04-11T08:39:58.160330Z",
     "start_time": "2022-04-11T08:39:58.150357Z"
    }
   },
   "outputs": [
    {
     "data": {
      "text/plain": [
       "0         0\n",
       "2         0\n",
       "3         0\n",
       "5         0\n",
       "6         0\n",
       "         ..\n",
       "149990    0\n",
       "149992    0\n",
       "149995    0\n",
       "149997    0\n",
       "149999    0\n",
       "Name: label, Length: 73342, dtype: int64"
      ]
     },
     "execution_count": 50,
     "metadata": {},
     "output_type": "execute_result"
    }
   ],
   "source": [
    "df3['label']"
   ]
  },
  {
   "cell_type": "code",
   "execution_count": 51,
   "id": "f28bdf6c",
   "metadata": {
    "ExecuteTime": {
     "end_time": "2022-04-11T08:40:09.681481Z",
     "start_time": "2022-04-11T08:40:09.669485Z"
    }
   },
   "outputs": [
    {
     "name": "stderr",
     "output_type": "stream",
     "text": [
      "C:\\Users\\bitcamp\\AppData\\Local\\Temp/ipykernel_13708/2835199873.py:1: SettingWithCopyWarning: \n",
      "A value is trying to be set on a copy of a slice from a DataFrame.\n",
      "Try using .loc[row_indexer,col_indexer] = value instead\n",
      "\n",
      "See the caveats in the documentation: https://pandas.pydata.org/pandas-docs/stable/user_guide/indexing.html#returning-a-view-versus-a-copy\n",
      "  df3['label']=1\n"
     ]
    }
   ],
   "source": [
    "df3['label']=1"
   ]
  },
  {
   "cell_type": "code",
   "execution_count": 53,
   "id": "b63f25f6",
   "metadata": {
    "ExecuteTime": {
     "end_time": "2022-04-11T08:40:25.786346Z",
     "start_time": "2022-04-11T08:40:25.766400Z"
    }
   },
   "outputs": [
    {
     "data": {
      "text/plain": [
       "0         1\n",
       "2         1\n",
       "3         1\n",
       "5         1\n",
       "6         1\n",
       "         ..\n",
       "149990    1\n",
       "149992    1\n",
       "149995    1\n",
       "149997    1\n",
       "149999    1\n",
       "Name: label, Length: 73342, dtype: int64"
      ]
     },
     "execution_count": 53,
     "metadata": {},
     "output_type": "execute_result"
    }
   ],
   "source": [
    "df3['label']"
   ]
  },
  {
   "cell_type": "code",
   "execution_count": null,
   "id": "ffed4d11",
   "metadata": {},
   "outputs": [],
   "source": []
  },
  {
   "cell_type": "code",
   "execution_count": null,
   "id": "b4a2533b",
   "metadata": {},
   "outputs": [],
   "source": []
  },
  {
   "cell_type": "code",
   "execution_count": null,
   "id": "977e4a8c",
   "metadata": {},
   "outputs": [],
   "source": []
  },
  {
   "cell_type": "code",
   "execution_count": 39,
   "id": "ccff5f60",
   "metadata": {
    "ExecuteTime": {
     "end_time": "2022-04-11T08:21:36.615618Z",
     "start_time": "2022-04-11T08:21:36.597633Z"
    },
    "scrolled": true
   },
   "outputs": [],
   "source": [
    "# 세부적인 내용 고치기\n",
    "train3_df.loc[0,'label']=1"
   ]
  },
  {
   "cell_type": "code",
   "execution_count": 41,
   "id": "5eb18ab8",
   "metadata": {
    "ExecuteTime": {
     "end_time": "2022-04-11T08:21:53.202890Z",
     "start_time": "2022-04-11T08:21:53.188957Z"
    }
   },
   "outputs": [
    {
     "data": {
      "text/html": [
       "<div>\n",
       "<style scoped>\n",
       "    .dataframe tbody tr th:only-of-type {\n",
       "        vertical-align: middle;\n",
       "    }\n",
       "\n",
       "    .dataframe tbody tr th {\n",
       "        vertical-align: top;\n",
       "    }\n",
       "\n",
       "    .dataframe thead th {\n",
       "        text-align: right;\n",
       "    }\n",
       "</style>\n",
       "<table border=\"1\" class=\"dataframe\">\n",
       "  <thead>\n",
       "    <tr style=\"text-align: right;\">\n",
       "      <th></th>\n",
       "      <th>id</th>\n",
       "      <th>document</th>\n",
       "      <th>label</th>\n",
       "    </tr>\n",
       "  </thead>\n",
       "  <tbody>\n",
       "    <tr>\n",
       "      <th>0</th>\n",
       "      <td>9976970</td>\n",
       "      <td>아 더빙 진짜 짜증나네요 목소리</td>\n",
       "      <td>1</td>\n",
       "    </tr>\n",
       "    <tr>\n",
       "      <th>1</th>\n",
       "      <td>3819312</td>\n",
       "      <td>흠포스터보고 초딩영화줄오버연기조차 가볍지 않구나</td>\n",
       "      <td>1</td>\n",
       "    </tr>\n",
       "    <tr>\n",
       "      <th>2</th>\n",
       "      <td>10265843</td>\n",
       "      <td>너무재밓었다그래서보는것을추천한다</td>\n",
       "      <td>0</td>\n",
       "    </tr>\n",
       "    <tr>\n",
       "      <th>3</th>\n",
       "      <td>9045019</td>\n",
       "      <td>교도소 이야기구먼 솔직히 재미는 없다평점 조정</td>\n",
       "      <td>0</td>\n",
       "    </tr>\n",
       "    <tr>\n",
       "      <th>4</th>\n",
       "      <td>6483659</td>\n",
       "      <td>사이몬페그의 익살스런 연기가 돋보였던 영화스파이더맨에서 늙어보이기만 했던 커스틴 던...</td>\n",
       "      <td>1</td>\n",
       "    </tr>\n",
       "  </tbody>\n",
       "</table>\n",
       "</div>"
      ],
      "text/plain": [
       "         id                                           document  label\n",
       "0   9976970                                  아 더빙 진짜 짜증나네요 목소리      1\n",
       "1   3819312                         흠포스터보고 초딩영화줄오버연기조차 가볍지 않구나      1\n",
       "2  10265843                                  너무재밓었다그래서보는것을추천한다      0\n",
       "3   9045019                          교도소 이야기구먼 솔직히 재미는 없다평점 조정      0\n",
       "4   6483659  사이몬페그의 익살스런 연기가 돋보였던 영화스파이더맨에서 늙어보이기만 했던 커스틴 던...      1"
      ]
     },
     "execution_count": 41,
     "metadata": {},
     "output_type": "execute_result"
    }
   ],
   "source": [
    "train3_df.head()"
   ]
  },
  {
   "cell_type": "code",
   "execution_count": 42,
   "id": "93342007",
   "metadata": {
    "ExecuteTime": {
     "end_time": "2022-04-11T08:24:22.865922Z",
     "start_time": "2022-04-11T08:24:22.821011Z"
    }
   },
   "outputs": [
    {
     "data": {
      "text/plain": [
       "0         1\n",
       "1         1\n",
       "2         1\n",
       "3         1\n",
       "4         1\n",
       "         ..\n",
       "149995    1\n",
       "149996    1\n",
       "149997    1\n",
       "149998    1\n",
       "149999    1\n",
       "Name: label, Length: 146182, dtype: int64"
      ]
     },
     "execution_count": 42,
     "metadata": {},
     "output_type": "execute_result"
    }
   ],
   "source": [
    "# 전체를 바꾸기\n",
    "train3_df['label'].apply(lambda x : 1 if x==0 else x)"
   ]
  },
  {
   "cell_type": "code",
   "execution_count": null,
   "id": "56172ad5",
   "metadata": {},
   "outputs": [],
   "source": []
  }
 ],
 "metadata": {
  "kernelspec": {
   "display_name": "Python 3 (ipykernel)",
   "language": "python",
   "name": "python3"
  },
  "language_info": {
   "codemirror_mode": {
    "name": "ipython",
    "version": 3
   },
   "file_extension": ".py",
   "mimetype": "text/x-python",
   "name": "python",
   "nbconvert_exporter": "python",
   "pygments_lexer": "ipython3",
   "version": "3.9.7"
  },
  "toc": {
   "base_numbering": 1,
   "nav_menu": {},
   "number_sections": true,
   "sideBar": true,
   "skip_h1_title": false,
   "title_cell": "Table of Contents",
   "title_sidebar": "Contents",
   "toc_cell": false,
   "toc_position": {},
   "toc_section_display": true,
   "toc_window_display": false
  },
  "varInspector": {
   "cols": {
    "lenName": 16,
    "lenType": 16,
    "lenVar": 40
   },
   "kernels_config": {
    "python": {
     "delete_cmd_postfix": "",
     "delete_cmd_prefix": "del ",
     "library": "var_list.py",
     "varRefreshCmd": "print(var_dic_list())"
    },
    "r": {
     "delete_cmd_postfix": ") ",
     "delete_cmd_prefix": "rm(",
     "library": "var_list.r",
     "varRefreshCmd": "cat(var_dic_list()) "
    }
   },
   "types_to_exclude": [
    "module",
    "function",
    "builtin_function_or_method",
    "instance",
    "_Feature"
   ],
   "window_display": false
  }
 },
 "nbformat": 4,
 "nbformat_minor": 5
}
