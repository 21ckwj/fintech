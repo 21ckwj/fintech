{
 "cells": [
  {
   "cell_type": "code",
   "execution_count": 1,
   "id": "67b94a4e",
   "metadata": {
    "ExecuteTime": {
     "end_time": "2022-04-13T10:48:36.884509Z",
     "start_time": "2022-04-13T10:48:36.605351Z"
    }
   },
   "outputs": [],
   "source": [
    "import pandas as pd\n",
    "import numpy as np"
   ]
  },
  {
   "cell_type": "code",
   "execution_count": 1,
   "id": "13dab4ae",
   "metadata": {
    "ExecuteTime": {
     "end_time": "2022-04-13T14:06:24.583995Z",
     "start_time": "2022-04-13T14:06:19.790364Z"
    }
   },
   "outputs": [],
   "source": [
    "import os\n",
    "import shutil\n",
    "import zipfile\n",
    "\n",
    "import pandas as pd\n",
    "import tensorflow as tf\n",
    "import urllib3\n",
    "from tensorflow.keras.preprocessing.sequence import pad_sequences\n",
    "from tensorflow.keras.utils import to_categorical"
   ]
  },
  {
   "cell_type": "code",
   "execution_count": 3,
   "id": "ead96333",
   "metadata": {
    "ExecuteTime": {
     "end_time": "2022-04-13T14:07:08.733426Z",
     "start_time": "2022-04-13T14:07:08.714478Z"
    }
   },
   "outputs": [],
   "source": [
    "# urllib = urllib3.PoolManager()\n",
    "# url = 'http://www.manythings.org/anki/fra-eng.zip'\n",
    "# filename = 'fra-eng.zip'\n",
    "# path = os.getcwd()\n",
    "# zipfilename = os.path.join(path, filename)\n",
    "\n",
    "# with urllib.request('GET', url, preload_content=False) as r, open(zipfilename, 'wb') as out_file:\n",
    "#     shutil.copyfileobj(r, out_file)\n",
    "\n",
    "# with zipfile.ZipFile(zipfilename, 'r') as zip_ref:\n",
    "#     zip_ref.extractall(path)"
   ]
  },
  {
   "cell_type": "code",
   "execution_count": 4,
   "id": "5b48f457",
   "metadata": {
    "ExecuteTime": {
     "end_time": "2022-04-13T14:07:10.520137Z",
     "start_time": "2022-04-13T14:07:09.903741Z"
    }
   },
   "outputs": [
    {
     "data": {
      "text/html": [
       "<div>\n",
       "<style scoped>\n",
       "    .dataframe tbody tr th:only-of-type {\n",
       "        vertical-align: middle;\n",
       "    }\n",
       "\n",
       "    .dataframe tbody tr th {\n",
       "        vertical-align: top;\n",
       "    }\n",
       "\n",
       "    .dataframe thead th {\n",
       "        text-align: right;\n",
       "    }\n",
       "</style>\n",
       "<table border=\"1\" class=\"dataframe\">\n",
       "  <thead>\n",
       "    <tr style=\"text-align: right;\">\n",
       "      <th></th>\n",
       "      <th>src</th>\n",
       "      <th>tar</th>\n",
       "    </tr>\n",
       "  </thead>\n",
       "  <tbody>\n",
       "    <tr>\n",
       "      <th>43445</th>\n",
       "      <td>Maybe we should pray.</td>\n",
       "      <td>Peut-être devrions-nous prier.</td>\n",
       "    </tr>\n",
       "    <tr>\n",
       "      <th>134042</th>\n",
       "      <td>She works as hard as anybody does.</td>\n",
       "      <td>Elle travaille aussi dur que n'importe qui.</td>\n",
       "    </tr>\n",
       "    <tr>\n",
       "      <th>119129</th>\n",
       "      <td>Do you know how to ride a horse?</td>\n",
       "      <td>Savez-vous monter à cheval ?</td>\n",
       "    </tr>\n",
       "    <tr>\n",
       "      <th>172061</th>\n",
       "      <td>Will it stop raining soon? \"I'm afraid not.\"</td>\n",
       "      <td>« Est-ce qu'il va bientôt s'arrêter de pleuvoi...</td>\n",
       "    </tr>\n",
       "    <tr>\n",
       "      <th>41855</th>\n",
       "      <td>I like that necklace.</td>\n",
       "      <td>J'aime ce collier.</td>\n",
       "    </tr>\n",
       "    <tr>\n",
       "      <th>48010</th>\n",
       "      <td>How could you do that?</td>\n",
       "      <td>Comment as-tu pu faire ça ?</td>\n",
       "    </tr>\n",
       "    <tr>\n",
       "      <th>109324</th>\n",
       "      <td>Please help me take this down.</td>\n",
       "      <td>Veuillez m'aider à descendre ceci.</td>\n",
       "    </tr>\n",
       "    <tr>\n",
       "      <th>26841</th>\n",
       "      <td>What a smart idea!</td>\n",
       "      <td>Quelle idée judicieuse !</td>\n",
       "    </tr>\n",
       "    <tr>\n",
       "      <th>97345</th>\n",
       "      <td>Why did she come home early?</td>\n",
       "      <td>Pourquoi est-elle rentrée tôt à la maison ?</td>\n",
       "    </tr>\n",
       "    <tr>\n",
       "      <th>111692</th>\n",
       "      <td>You can't get there from here.</td>\n",
       "      <td>On ne peut pas y parvenir d'ici.</td>\n",
       "    </tr>\n",
       "  </tbody>\n",
       "</table>\n",
       "</div>"
      ],
      "text/plain": [
       "                                                 src  \\\n",
       "43445                          Maybe we should pray.   \n",
       "134042            She works as hard as anybody does.   \n",
       "119129              Do you know how to ride a horse?   \n",
       "172061  Will it stop raining soon? \"I'm afraid not.\"   \n",
       "41855                          I like that necklace.   \n",
       "48010                         How could you do that?   \n",
       "109324                Please help me take this down.   \n",
       "26841                             What a smart idea!   \n",
       "97345                   Why did she come home early?   \n",
       "111692                You can't get there from here.   \n",
       "\n",
       "                                                      tar  \n",
       "43445                      Peut-être devrions-nous prier.  \n",
       "134042        Elle travaille aussi dur que n'importe qui.  \n",
       "119129                       Savez-vous monter à cheval ?  \n",
       "172061  « Est-ce qu'il va bientôt s'arrêter de pleuvoi...  \n",
       "41855                                  J'aime ce collier.  \n",
       "48010                         Comment as-tu pu faire ça ?  \n",
       "109324                 Veuillez m'aider à descendre ceci.  \n",
       "26841                            Quelle idée judicieuse !  \n",
       "97345         Pourquoi est-elle rentrée tôt à la maison ?  \n",
       "111692                   On ne peut pas y parvenir d'ici.  "
      ]
     },
     "execution_count": 4,
     "metadata": {},
     "output_type": "execute_result"
    }
   ],
   "source": [
    "lines = pd.read_csv('fra.txt', names=['src','tar','lic'],sep='\\t')\n",
    "del lines['lic']\n",
    "lines.sample(10)"
   ]
  },
  {
   "cell_type": "code",
   "execution_count": 5,
   "id": "bb67c636",
   "metadata": {
    "ExecuteTime": {
     "end_time": "2022-04-13T14:07:10.552007Z",
     "start_time": "2022-04-13T14:07:10.541037Z"
    }
   },
   "outputs": [
    {
     "data": {
      "text/plain": [
       "192341"
      ]
     },
     "execution_count": 5,
     "metadata": {},
     "output_type": "execute_result"
    }
   ],
   "source": [
    "len(lines)"
   ]
  },
  {
   "cell_type": "code",
   "execution_count": 6,
   "id": "7bc1efe8",
   "metadata": {
    "ExecuteTime": {
     "end_time": "2022-04-13T14:07:12.596786Z",
     "start_time": "2022-04-13T14:07:12.578817Z"
    }
   },
   "outputs": [],
   "source": [
    "# 전처리 1. 앞뒤 토큰붙여주고 2. 알파벳별로 모아서 인덱싱 3. encoder_input 만들기"
   ]
  },
  {
   "cell_type": "code",
   "execution_count": 7,
   "id": "a259af31",
   "metadata": {
    "ExecuteTime": {
     "end_time": "2022-04-13T14:07:12.772279Z",
     "start_time": "2022-04-13T14:07:12.759315Z"
    }
   },
   "outputs": [
    {
     "data": {
      "text/html": [
       "<div>\n",
       "<style scoped>\n",
       "    .dataframe tbody tr th:only-of-type {\n",
       "        vertical-align: middle;\n",
       "    }\n",
       "\n",
       "    .dataframe tbody tr th {\n",
       "        vertical-align: top;\n",
       "    }\n",
       "\n",
       "    .dataframe thead th {\n",
       "        text-align: right;\n",
       "    }\n",
       "</style>\n",
       "<table border=\"1\" class=\"dataframe\">\n",
       "  <thead>\n",
       "    <tr style=\"text-align: right;\">\n",
       "      <th></th>\n",
       "      <th>src</th>\n",
       "      <th>tar</th>\n",
       "    </tr>\n",
       "  </thead>\n",
       "  <tbody>\n",
       "    <tr>\n",
       "      <th>0</th>\n",
       "      <td>Go.</td>\n",
       "      <td>Va !</td>\n",
       "    </tr>\n",
       "    <tr>\n",
       "      <th>1</th>\n",
       "      <td>Go.</td>\n",
       "      <td>Marche.</td>\n",
       "    </tr>\n",
       "    <tr>\n",
       "      <th>2</th>\n",
       "      <td>Go.</td>\n",
       "      <td>Bouge !</td>\n",
       "    </tr>\n",
       "    <tr>\n",
       "      <th>3</th>\n",
       "      <td>Hi.</td>\n",
       "      <td>Salut !</td>\n",
       "    </tr>\n",
       "    <tr>\n",
       "      <th>4</th>\n",
       "      <td>Hi.</td>\n",
       "      <td>Salut.</td>\n",
       "    </tr>\n",
       "    <tr>\n",
       "      <th>...</th>\n",
       "      <td>...</td>\n",
       "      <td>...</td>\n",
       "    </tr>\n",
       "    <tr>\n",
       "      <th>59995</th>\n",
       "      <td>Why would they do that?</td>\n",
       "      <td>Pourquoi feraient-elles ça ?</td>\n",
       "    </tr>\n",
       "    <tr>\n",
       "      <th>59996</th>\n",
       "      <td>Why would you ask that?</td>\n",
       "      <td>Pourquoi demanderais-tu cela ?</td>\n",
       "    </tr>\n",
       "    <tr>\n",
       "      <th>59997</th>\n",
       "      <td>Why would you ask that?</td>\n",
       "      <td>Pourquoi demanderiez-vous cela ?</td>\n",
       "    </tr>\n",
       "    <tr>\n",
       "      <th>59998</th>\n",
       "      <td>Why would you say that?</td>\n",
       "      <td>Pourquoi dirais-tu cela ?</td>\n",
       "    </tr>\n",
       "    <tr>\n",
       "      <th>59999</th>\n",
       "      <td>Why would you say that?</td>\n",
       "      <td>Pourquoi diriez-vous cela ?</td>\n",
       "    </tr>\n",
       "  </tbody>\n",
       "</table>\n",
       "<p>60000 rows × 2 columns</p>\n",
       "</div>"
      ],
      "text/plain": [
       "                           src                               tar\n",
       "0                          Go.                              Va !\n",
       "1                          Go.                           Marche.\n",
       "2                          Go.                           Bouge !\n",
       "3                          Hi.                           Salut !\n",
       "4                          Hi.                            Salut.\n",
       "...                        ...                               ...\n",
       "59995  Why would they do that?      Pourquoi feraient-elles ça ?\n",
       "59996  Why would you ask that?    Pourquoi demanderais-tu cela ?\n",
       "59997  Why would you ask that?  Pourquoi demanderiez-vous cela ?\n",
       "59998  Why would you say that?         Pourquoi dirais-tu cela ?\n",
       "59999  Why would you say that?       Pourquoi diriez-vous cela ?\n",
       "\n",
       "[60000 rows x 2 columns]"
      ]
     },
     "execution_count": 7,
     "metadata": {},
     "output_type": "execute_result"
    }
   ],
   "source": [
    "lines = lines.iloc[:60000,:]\n",
    "lines"
   ]
  },
  {
   "cell_type": "code",
   "execution_count": 8,
   "id": "aa41cb89",
   "metadata": {
    "ExecuteTime": {
     "end_time": "2022-04-13T14:07:12.991693Z",
     "start_time": "2022-04-13T14:07:12.942824Z"
    }
   },
   "outputs": [
    {
     "data": {
      "text/html": [
       "<div>\n",
       "<style scoped>\n",
       "    .dataframe tbody tr th:only-of-type {\n",
       "        vertical-align: middle;\n",
       "    }\n",
       "\n",
       "    .dataframe tbody tr th {\n",
       "        vertical-align: top;\n",
       "    }\n",
       "\n",
       "    .dataframe thead th {\n",
       "        text-align: right;\n",
       "    }\n",
       "</style>\n",
       "<table border=\"1\" class=\"dataframe\">\n",
       "  <thead>\n",
       "    <tr style=\"text-align: right;\">\n",
       "      <th></th>\n",
       "      <th>src</th>\n",
       "      <th>tar</th>\n",
       "    </tr>\n",
       "  </thead>\n",
       "  <tbody>\n",
       "    <tr>\n",
       "      <th>17847</th>\n",
       "      <td>He was all wrong.</td>\n",
       "      <td>\\t Il avait tout faux. \\n</td>\n",
       "    </tr>\n",
       "    <tr>\n",
       "      <th>41617</th>\n",
       "      <td>I had lunch with Tom.</td>\n",
       "      <td>\\t J'ai déjeuné avec Tom. \\n</td>\n",
       "    </tr>\n",
       "    <tr>\n",
       "      <th>20705</th>\n",
       "      <td>Tom is terrified.</td>\n",
       "      <td>\\t Tom est terrifié. \\n</td>\n",
       "    </tr>\n",
       "    <tr>\n",
       "      <th>40857</th>\n",
       "      <td>He looks like a girl.</td>\n",
       "      <td>\\t Il a l'air d'une fille. \\n</td>\n",
       "    </tr>\n",
       "    <tr>\n",
       "      <th>34197</th>\n",
       "      <td>Don't you like fish?</td>\n",
       "      <td>\\t Vous n'aimez pas le poisson ? \\n</td>\n",
       "    </tr>\n",
       "    <tr>\n",
       "      <th>23662</th>\n",
       "      <td>I like your house.</td>\n",
       "      <td>\\t J'aime ta maison. \\n</td>\n",
       "    </tr>\n",
       "    <tr>\n",
       "      <th>54311</th>\n",
       "      <td>Everyone remained calm.</td>\n",
       "      <td>\\t Tout le monde est resté calme. \\n</td>\n",
       "    </tr>\n",
       "    <tr>\n",
       "      <th>24480</th>\n",
       "      <td>Is that all clear?</td>\n",
       "      <td>\\t Est-ce entièrement clair ? \\n</td>\n",
       "    </tr>\n",
       "    <tr>\n",
       "      <th>26286</th>\n",
       "      <td>Tom never gave up.</td>\n",
       "      <td>\\t Tom ne renonça jamais. \\n</td>\n",
       "    </tr>\n",
       "    <tr>\n",
       "      <th>27002</th>\n",
       "      <td>Where's my sister?</td>\n",
       "      <td>\\t Où est ma sœur ? \\n</td>\n",
       "    </tr>\n",
       "  </tbody>\n",
       "</table>\n",
       "</div>"
      ],
      "text/plain": [
       "                           src                                   tar\n",
       "17847        He was all wrong.             \\t Il avait tout faux. \\n\n",
       "41617    I had lunch with Tom.          \\t J'ai déjeuné avec Tom. \\n\n",
       "20705        Tom is terrified.               \\t Tom est terrifié. \\n\n",
       "40857    He looks like a girl.         \\t Il a l'air d'une fille. \\n\n",
       "34197     Don't you like fish?   \\t Vous n'aimez pas le poisson ? \\n\n",
       "23662       I like your house.               \\t J'aime ta maison. \\n\n",
       "54311  Everyone remained calm.  \\t Tout le monde est resté calme. \\n\n",
       "24480       Is that all clear?      \\t Est-ce entièrement clair ? \\n\n",
       "26286       Tom never gave up.          \\t Tom ne renonça jamais. \\n\n",
       "27002       Where's my sister?                \\t Où est ma sœur ? \\n"
      ]
     },
     "execution_count": 8,
     "metadata": {},
     "output_type": "execute_result"
    }
   ],
   "source": [
    "lines['tar'] = lines['tar'].apply(lambda x : '\\t '+ x + ' \\n' )\n",
    "lines.sample(10)"
   ]
  },
  {
   "cell_type": "code",
   "execution_count": 9,
   "id": "9577a5af",
   "metadata": {
    "ExecuteTime": {
     "end_time": "2022-04-13T14:07:13.132318Z",
     "start_time": "2022-04-13T14:07:13.118356Z"
    }
   },
   "outputs": [],
   "source": [
    " # 2. 알파벳별로 모아서 인덱싱 "
   ]
  },
  {
   "cell_type": "code",
   "execution_count": 10,
   "id": "8432e8ef",
   "metadata": {
    "ExecuteTime": {
     "end_time": "2022-04-13T14:07:13.462434Z",
     "start_time": "2022-04-13T14:07:13.285908Z"
    }
   },
   "outputs": [],
   "source": [
    "src_vocab = set() # 중복피하기 위해\n",
    "\n",
    "for line in lines['src']:\n",
    "    for char in line:\n",
    "        src_vocab.add(char)\n",
    "# src_vocab[:10] set순서가 없어서 인덱싱 불가능"
   ]
  },
  {
   "cell_type": "code",
   "execution_count": 11,
   "id": "24a033ee",
   "metadata": {
    "ExecuteTime": {
     "end_time": "2022-04-13T14:07:13.684839Z",
     "start_time": "2022-04-13T14:07:13.480386Z"
    }
   },
   "outputs": [],
   "source": [
    "tar_vocab = set()\n",
    "for line in lines['tar']:\n",
    "    for char in line:\n",
    "        tar_vocab.add(char)"
   ]
  },
  {
   "cell_type": "code",
   "execution_count": 12,
   "id": "1647aa5c",
   "metadata": {
    "ExecuteTime": {
     "end_time": "2022-04-13T14:07:13.715797Z",
     "start_time": "2022-04-13T14:07:13.701795Z"
    }
   },
   "outputs": [
    {
     "name": "stdout",
     "output_type": "stream",
     "text": [
      "80\n",
      "105\n"
     ]
    }
   ],
   "source": [
    "# 단어사이즈 확인\n",
    "src_vocab_size = len(src_vocab)+1\n",
    "tar_vocab_size = len(tar_vocab)+1\n",
    "\n",
    "print(src_vocab_size)\n",
    "print(tar_vocab_size)"
   ]
  },
  {
   "cell_type": "code",
   "execution_count": 13,
   "id": "35c853b4",
   "metadata": {
    "ExecuteTime": {
     "end_time": "2022-04-13T14:07:13.825505Z",
     "start_time": "2022-04-13T14:07:13.805516Z"
    }
   },
   "outputs": [
    {
     "data": {
      "text/plain": [
       "['9', ':', '?', 'A', 'B', 'C', 'D', 'E', 'F', 'G']"
      ]
     },
     "execution_count": 13,
     "metadata": {},
     "output_type": "execute_result"
    }
   ],
   "source": [
    "# 인덱싱을 위해 정렬\n",
    "src_vocab_sorted = sorted(list(src_vocab))\n",
    "tar_vocab_sorted = sorted(list(tar_vocab))\n",
    "\n",
    "src_vocab_sorted[20:30]\n"
   ]
  },
  {
   "cell_type": "code",
   "execution_count": 16,
   "id": "bccf123c",
   "metadata": {
    "ExecuteTime": {
     "end_time": "2022-04-13T14:56:35.074121Z",
     "start_time": "2022-04-13T14:56:35.054175Z"
    }
   },
   "outputs": [
    {
     "name": "stdout",
     "output_type": "stream",
     "text": [
      "{' ': 1, '!': 2, '\"': 3, '$': 4, '%': 5, '&': 6, \"'\": 7, ',': 8, '-': 9, '.': 10, '/': 11, '0': 12, '1': 13, '2': 14, '3': 15, '4': 16, '5': 17, '6': 18, '7': 19, '8': 20, '9': 21, ':': 22, '?': 23, 'A': 24, 'B': 25, 'C': 26, 'D': 27, 'E': 28, 'F': 29, 'G': 30, 'H': 31, 'I': 32, 'J': 33, 'K': 34, 'L': 35, 'M': 36, 'N': 37, 'O': 38, 'P': 39, 'Q': 40, 'R': 41, 'S': 42, 'T': 43, 'U': 44, 'V': 45, 'W': 46, 'X': 47, 'Y': 48, 'Z': 49, 'a': 50, 'b': 51, 'c': 52, 'd': 53, 'e': 54, 'f': 55, 'g': 56, 'h': 57, 'i': 58, 'j': 59, 'k': 60, 'l': 61, 'm': 62, 'n': 63, 'o': 64, 'p': 65, 'q': 66, 'r': 67, 's': 68, 't': 69, 'u': 70, 'v': 71, 'w': 72, 'x': 73, 'y': 74, 'z': 75, '°': 76, 'é': 77, '’': 78, '€': 79}\n"
     ]
    }
   ],
   "source": [
    "# 인덱싱\n",
    "\n",
    "src_to_index = dict([(word, i+1) for i,word in enumerate(src_vocab_sorted)])\n",
    "tar_to_index = dict([(word, i+1) for i,word in enumerate(tar_vocab_sorted)])\n",
    "print(src_to_index)"
   ]
  },
  {
   "cell_type": "code",
   "execution_count": 26,
   "id": "ed8d0c32",
   "metadata": {
    "ExecuteTime": {
     "end_time": "2022-04-13T15:55:48.508081Z",
     "start_time": "2022-04-13T15:55:48.194143Z"
    }
   },
   "outputs": [
    {
     "data": {
      "text/plain": [
       "[[30, 64, 10], [30, 64, 10], [30, 64, 10], [31, 58, 10], [31, 58, 10]]"
      ]
     },
     "execution_count": 26,
     "metadata": {},
     "output_type": "execute_result"
    }
   ],
   "source": [
    "# encoder input \n",
    "\n",
    "encoder_input = []\n",
    "for line in lines['src']:\n",
    "    temp = []\n",
    "    for char in line:\n",
    "        temp.append(src_to_index[char])\n",
    "    encoder_input.append(temp)\n",
    "encoder_input[:5]"
   ]
  },
  {
   "cell_type": "code",
   "execution_count": 25,
   "id": "82c824fb",
   "metadata": {
    "ExecuteTime": {
     "end_time": "2022-04-13T15:55:41.036846Z",
     "start_time": "2022-04-13T15:55:40.775538Z"
    },
    "scrolled": false
   },
   "outputs": [
    {
     "data": {
      "text/plain": [
       "[[1, 3, 48, 53, 3, 4, 3, 2],\n",
       " [1, 3, 39, 53, 70, 55, 60, 57, 14, 3, 2],\n",
       " [1, 3, 28, 67, 73, 59, 57, 3, 4, 3, 2],\n",
       " [1, 3, 45, 53, 64, 73, 72, 3, 4, 3, 2],\n",
       " [1, 3, 45, 53, 64, 73, 72, 14, 3, 2]]"
      ]
     },
     "execution_count": 25,
     "metadata": {},
     "output_type": "execute_result"
    }
   ],
   "source": [
    "# decoder input\n",
    "decoder_input= []\n",
    "for line in lines['tar']:\n",
    "    temp = []\n",
    "    for char in line:\n",
    "        temp.append(tar_to_index[char])\n",
    "    decoder_input.append(temp)\n",
    "decoder_input[:5]"
   ]
  },
  {
   "cell_type": "code",
   "execution_count": 27,
   "id": "71bc0258",
   "metadata": {
    "ExecuteTime": {
     "end_time": "2022-04-13T16:00:01.975259Z",
     "start_time": "2022-04-13T16:00:01.639197Z"
    }
   },
   "outputs": [
    {
     "data": {
      "text/plain": [
       "[[3, 48, 53, 3, 4, 3, 2],\n",
       " [3, 39, 53, 70, 55, 60, 57, 14, 3, 2],\n",
       " [3, 28, 67, 73, 59, 57, 3, 4, 3, 2],\n",
       " [3, 45, 53, 64, 73, 72, 3, 4, 3, 2],\n",
       " [3, 45, 53, 64, 73, 72, 14, 3, 2]]"
      ]
     },
     "execution_count": 27,
     "metadata": {},
     "output_type": "execute_result"
    }
   ],
   "source": [
    "# decoder target 첫번째 <sos>제외 시켜줘야함\n",
    "\n",
    "decoder_target = []\n",
    "for line in lines['tar']:\n",
    "    temp = []\n",
    "    for char in line[1:]:\n",
    "        temp.append(tar_to_index[char])\n",
    "    decoder_target.append(temp)\n",
    "    \n",
    "decoder_target[:5]"
   ]
  },
  {
   "cell_type": "code",
   "execution_count": 33,
   "id": "318498d1",
   "metadata": {
    "ExecuteTime": {
     "end_time": "2022-04-13T16:31:33.654720Z",
     "start_time": "2022-04-13T16:31:33.624738Z"
    }
   },
   "outputs": [
    {
     "name": "stdout",
     "output_type": "stream",
     "text": [
      "23\n",
      "76\n",
      "75\n"
     ]
    }
   ],
   "source": [
    "# 인코딩한 input, target값들 길이 맞춰주려면 최댓값을 알아야 함\n",
    "\n",
    "max_len_enc = max([len(x) for x in encoder_input])\n",
    "max_len_dec_inp = max([len(x) for x in decoder_input])\n",
    "max_len_dec_tar = max([len(x) for x in decoder_target])\n",
    "print(max_len_enc)\n",
    "print(max_len_dec_inp)\n",
    "print(max_len_dec_tar)"
   ]
  },
  {
   "cell_type": "code",
   "execution_count": 34,
   "id": "9acae274",
   "metadata": {
    "ExecuteTime": {
     "end_time": "2022-04-13T16:34:44.621388Z",
     "start_time": "2022-04-13T16:34:43.942195Z"
    }
   },
   "outputs": [],
   "source": [
    "from tensorflow.keras.preprocessing.sequence import pad_sequences\n",
    "encoder_input_pad = pad_sequences(encoder_input,maxlen=max_len_enc, padding='post')\n",
    "decoder_input_pad = pad_sequences(decoder_input,maxlen=max_len_dec_inp, padding='post')\n",
    "decoder_target_pad = pad_sequences(decoder_target,maxlen=max_len_dec_tar, padding='post')"
   ]
  },
  {
   "cell_type": "code",
   "execution_count": null,
   "id": "41b457b3",
   "metadata": {},
   "outputs": [],
   "source": []
  },
  {
   "cell_type": "code",
   "execution_count": null,
   "id": "e371f1eb",
   "metadata": {},
   "outputs": [],
   "source": []
  },
  {
   "cell_type": "code",
   "execution_count": null,
   "id": "3c251e5e",
   "metadata": {},
   "outputs": [],
   "source": []
  },
  {
   "cell_type": "code",
   "execution_count": null,
   "id": "4a3bf70f",
   "metadata": {},
   "outputs": [],
   "source": []
  },
  {
   "cell_type": "code",
   "execution_count": null,
   "id": "035f7a34",
   "metadata": {},
   "outputs": [],
   "source": []
  },
  {
   "cell_type": "code",
   "execution_count": null,
   "id": "683ab9df",
   "metadata": {},
   "outputs": [],
   "source": []
  },
  {
   "cell_type": "code",
   "execution_count": null,
   "id": "5ddc8e99",
   "metadata": {},
   "outputs": [],
   "source": []
  },
  {
   "cell_type": "code",
   "execution_count": null,
   "id": "e3be8287",
   "metadata": {},
   "outputs": [],
   "source": []
  },
  {
   "cell_type": "code",
   "execution_count": null,
   "id": "f07378b1",
   "metadata": {},
   "outputs": [],
   "source": []
  }
 ],
 "metadata": {
  "kernelspec": {
   "display_name": "Python 3 (ipykernel)",
   "language": "python",
   "name": "python3"
  },
  "language_info": {
   "codemirror_mode": {
    "name": "ipython",
    "version": 3
   },
   "file_extension": ".py",
   "mimetype": "text/x-python",
   "name": "python",
   "nbconvert_exporter": "python",
   "pygments_lexer": "ipython3",
   "version": "3.9.7"
  },
  "toc": {
   "base_numbering": 1,
   "nav_menu": {},
   "number_sections": true,
   "sideBar": true,
   "skip_h1_title": false,
   "title_cell": "Table of Contents",
   "title_sidebar": "Contents",
   "toc_cell": false,
   "toc_position": {},
   "toc_section_display": true,
   "toc_window_display": false
  },
  "varInspector": {
   "cols": {
    "lenName": 16,
    "lenType": 16,
    "lenVar": 40
   },
   "kernels_config": {
    "python": {
     "delete_cmd_postfix": "",
     "delete_cmd_prefix": "del ",
     "library": "var_list.py",
     "varRefreshCmd": "print(var_dic_list())"
    },
    "r": {
     "delete_cmd_postfix": ") ",
     "delete_cmd_prefix": "rm(",
     "library": "var_list.r",
     "varRefreshCmd": "cat(var_dic_list()) "
    }
   },
   "types_to_exclude": [
    "module",
    "function",
    "builtin_function_or_method",
    "instance",
    "_Feature"
   ],
   "window_display": false
  }
 },
 "nbformat": 4,
 "nbformat_minor": 5
}
