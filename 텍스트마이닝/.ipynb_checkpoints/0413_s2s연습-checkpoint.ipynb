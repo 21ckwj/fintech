{
 "cells": [
  {
   "cell_type": "code",
   "execution_count": 1,
   "id": "67b94a4e",
   "metadata": {
    "ExecuteTime": {
     "end_time": "2022-04-13T10:48:36.884509Z",
     "start_time": "2022-04-13T10:48:36.605351Z"
    }
   },
   "outputs": [],
   "source": [
    "import pandas as pd\n",
    "import numpy as np"
   ]
  },
  {
   "cell_type": "code",
   "execution_count": 27,
   "id": "5b48f457",
   "metadata": {
    "ExecuteTime": {
     "end_time": "2022-04-13T11:06:55.073837Z",
     "start_time": "2022-04-13T11:06:54.621066Z"
    }
   },
   "outputs": [
    {
     "data": {
      "text/html": [
       "<div>\n",
       "<style scoped>\n",
       "    .dataframe tbody tr th:only-of-type {\n",
       "        vertical-align: middle;\n",
       "    }\n",
       "\n",
       "    .dataframe tbody tr th {\n",
       "        vertical-align: top;\n",
       "    }\n",
       "\n",
       "    .dataframe thead th {\n",
       "        text-align: right;\n",
       "    }\n",
       "</style>\n",
       "<table border=\"1\" class=\"dataframe\">\n",
       "  <thead>\n",
       "    <tr style=\"text-align: right;\">\n",
       "      <th></th>\n",
       "      <th>src</th>\n",
       "      <th>tar</th>\n",
       "    </tr>\n",
       "  </thead>\n",
       "  <tbody>\n",
       "    <tr>\n",
       "      <th>165185</th>\n",
       "      <td>There's a simple solution to this problem.</td>\n",
       "      <td>Il y a une solution simple au problème.</td>\n",
       "    </tr>\n",
       "    <tr>\n",
       "      <th>174895</th>\n",
       "      <td>She went to the market to buy fresh vegetables.</td>\n",
       "      <td>Elle est allée au marché pour acheter des légu...</td>\n",
       "    </tr>\n",
       "    <tr>\n",
       "      <th>7766</th>\n",
       "      <td>I'm terrified.</td>\n",
       "      <td>Je suis terrifiée.</td>\n",
       "    </tr>\n",
       "    <tr>\n",
       "      <th>103020</th>\n",
       "      <td>The unrest lasted three days.</td>\n",
       "      <td>L'agitation a duré trois jours.</td>\n",
       "    </tr>\n",
       "    <tr>\n",
       "      <th>11345</th>\n",
       "      <td>Please help us.</td>\n",
       "      <td>Veuillez nous aider !</td>\n",
       "    </tr>\n",
       "    <tr>\n",
       "      <th>147697</th>\n",
       "      <td>My father is busy as a bee every day.</td>\n",
       "      <td>Mon père est, chaque jour, affairé comme une a...</td>\n",
       "    </tr>\n",
       "    <tr>\n",
       "      <th>151198</th>\n",
       "      <td>I wonder if Tom is still eating lunch.</td>\n",
       "      <td>Je me demande si Tom déjeune encore.</td>\n",
       "    </tr>\n",
       "    <tr>\n",
       "      <th>61069</th>\n",
       "      <td>Do you have an umbrella?</td>\n",
       "      <td>Avez-vous un parapluie ?</td>\n",
       "    </tr>\n",
       "    <tr>\n",
       "      <th>93638</th>\n",
       "      <td>I want to hear your opinion.</td>\n",
       "      <td>Je veux entendre ton opinion.</td>\n",
       "    </tr>\n",
       "    <tr>\n",
       "      <th>169072</th>\n",
       "      <td>I'm going to work out the problem by myself.</td>\n",
       "      <td>Je vais résoudre le problème moi-même.</td>\n",
       "    </tr>\n",
       "  </tbody>\n",
       "</table>\n",
       "</div>"
      ],
      "text/plain": [
       "                                                    src  \\\n",
       "165185       There's a simple solution to this problem.   \n",
       "174895  She went to the market to buy fresh vegetables.   \n",
       "7766                                     I'm terrified.   \n",
       "103020                    The unrest lasted three days.   \n",
       "11345                                   Please help us.   \n",
       "147697            My father is busy as a bee every day.   \n",
       "151198           I wonder if Tom is still eating lunch.   \n",
       "61069                          Do you have an umbrella?   \n",
       "93638                      I want to hear your opinion.   \n",
       "169072     I'm going to work out the problem by myself.   \n",
       "\n",
       "                                                      tar  \n",
       "165185            Il y a une solution simple au problème.  \n",
       "174895  Elle est allée au marché pour acheter des légu...  \n",
       "7766                                   Je suis terrifiée.  \n",
       "103020                    L'agitation a duré trois jours.  \n",
       "11345                               Veuillez nous aider !  \n",
       "147697  Mon père est, chaque jour, affairé comme une a...  \n",
       "151198               Je me demande si Tom déjeune encore.  \n",
       "61069                            Avez-vous un parapluie ?  \n",
       "93638                       Je veux entendre ton opinion.  \n",
       "169072             Je vais résoudre le problème moi-même.  "
      ]
     },
     "execution_count": 27,
     "metadata": {},
     "output_type": "execute_result"
    }
   ],
   "source": [
    "lines = pd.read_csv('fra.txt', names=['src','tar','lic'],sep='\\t')\n",
    "del lines['lic']\n",
    "lines.sample(10)"
   ]
  },
  {
   "cell_type": "code",
   "execution_count": 22,
   "id": "bb67c636",
   "metadata": {
    "ExecuteTime": {
     "end_time": "2022-04-13T11:06:24.937937Z",
     "start_time": "2022-04-13T11:06:24.923647Z"
    }
   },
   "outputs": [
    {
     "data": {
      "text/plain": [
       "192341"
      ]
     },
     "execution_count": 22,
     "metadata": {},
     "output_type": "execute_result"
    }
   ],
   "source": [
    "len(lines)"
   ]
  },
  {
   "cell_type": "code",
   "execution_count": 23,
   "id": "7bc1efe8",
   "metadata": {
    "ExecuteTime": {
     "end_time": "2022-04-13T11:06:24.984579Z",
     "start_time": "2022-04-13T11:06:24.969700Z"
    }
   },
   "outputs": [],
   "source": [
    "# 전처리 1. 앞뒤 토큰붙여주고 2. 알파벳별로 모아서 인덱싱 3. encoder_input 만들기"
   ]
  },
  {
   "cell_type": "code",
   "execution_count": 28,
   "id": "a259af31",
   "metadata": {
    "ExecuteTime": {
     "end_time": "2022-04-13T11:06:59.358205Z",
     "start_time": "2022-04-13T11:06:59.341211Z"
    }
   },
   "outputs": [
    {
     "data": {
      "text/html": [
       "<div>\n",
       "<style scoped>\n",
       "    .dataframe tbody tr th:only-of-type {\n",
       "        vertical-align: middle;\n",
       "    }\n",
       "\n",
       "    .dataframe tbody tr th {\n",
       "        vertical-align: top;\n",
       "    }\n",
       "\n",
       "    .dataframe thead th {\n",
       "        text-align: right;\n",
       "    }\n",
       "</style>\n",
       "<table border=\"1\" class=\"dataframe\">\n",
       "  <thead>\n",
       "    <tr style=\"text-align: right;\">\n",
       "      <th></th>\n",
       "      <th>src</th>\n",
       "      <th>tar</th>\n",
       "    </tr>\n",
       "  </thead>\n",
       "  <tbody>\n",
       "    <tr>\n",
       "      <th>0</th>\n",
       "      <td>Go.</td>\n",
       "      <td>Va !</td>\n",
       "    </tr>\n",
       "    <tr>\n",
       "      <th>1</th>\n",
       "      <td>Go.</td>\n",
       "      <td>Marche.</td>\n",
       "    </tr>\n",
       "    <tr>\n",
       "      <th>2</th>\n",
       "      <td>Go.</td>\n",
       "      <td>Bouge !</td>\n",
       "    </tr>\n",
       "    <tr>\n",
       "      <th>3</th>\n",
       "      <td>Hi.</td>\n",
       "      <td>Salut !</td>\n",
       "    </tr>\n",
       "    <tr>\n",
       "      <th>4</th>\n",
       "      <td>Hi.</td>\n",
       "      <td>Salut.</td>\n",
       "    </tr>\n",
       "    <tr>\n",
       "      <th>...</th>\n",
       "      <td>...</td>\n",
       "      <td>...</td>\n",
       "    </tr>\n",
       "    <tr>\n",
       "      <th>59995</th>\n",
       "      <td>Why would they do that?</td>\n",
       "      <td>Pourquoi feraient-elles ça ?</td>\n",
       "    </tr>\n",
       "    <tr>\n",
       "      <th>59996</th>\n",
       "      <td>Why would you ask that?</td>\n",
       "      <td>Pourquoi demanderais-tu cela ?</td>\n",
       "    </tr>\n",
       "    <tr>\n",
       "      <th>59997</th>\n",
       "      <td>Why would you ask that?</td>\n",
       "      <td>Pourquoi demanderiez-vous cela ?</td>\n",
       "    </tr>\n",
       "    <tr>\n",
       "      <th>59998</th>\n",
       "      <td>Why would you say that?</td>\n",
       "      <td>Pourquoi dirais-tu cela ?</td>\n",
       "    </tr>\n",
       "    <tr>\n",
       "      <th>59999</th>\n",
       "      <td>Why would you say that?</td>\n",
       "      <td>Pourquoi diriez-vous cela ?</td>\n",
       "    </tr>\n",
       "  </tbody>\n",
       "</table>\n",
       "<p>60000 rows × 2 columns</p>\n",
       "</div>"
      ],
      "text/plain": [
       "                           src                               tar\n",
       "0                          Go.                              Va !\n",
       "1                          Go.                           Marche.\n",
       "2                          Go.                           Bouge !\n",
       "3                          Hi.                           Salut !\n",
       "4                          Hi.                            Salut.\n",
       "...                        ...                               ...\n",
       "59995  Why would they do that?      Pourquoi feraient-elles ça ?\n",
       "59996  Why would you ask that?    Pourquoi demanderais-tu cela ?\n",
       "59997  Why would you ask that?  Pourquoi demanderiez-vous cela ?\n",
       "59998  Why would you say that?         Pourquoi dirais-tu cela ?\n",
       "59999  Why would you say that?       Pourquoi diriez-vous cela ?\n",
       "\n",
       "[60000 rows x 2 columns]"
      ]
     },
     "execution_count": 28,
     "metadata": {},
     "output_type": "execute_result"
    }
   ],
   "source": [
    "lines = lines.iloc[:60000,:]\n",
    "lines"
   ]
  },
  {
   "cell_type": "code",
   "execution_count": 29,
   "id": "aa41cb89",
   "metadata": {
    "ExecuteTime": {
     "end_time": "2022-04-13T11:07:01.096448Z",
     "start_time": "2022-04-13T11:07:01.070518Z"
    }
   },
   "outputs": [
    {
     "data": {
      "text/html": [
       "<div>\n",
       "<style scoped>\n",
       "    .dataframe tbody tr th:only-of-type {\n",
       "        vertical-align: middle;\n",
       "    }\n",
       "\n",
       "    .dataframe tbody tr th {\n",
       "        vertical-align: top;\n",
       "    }\n",
       "\n",
       "    .dataframe thead th {\n",
       "        text-align: right;\n",
       "    }\n",
       "</style>\n",
       "<table border=\"1\" class=\"dataframe\">\n",
       "  <thead>\n",
       "    <tr style=\"text-align: right;\">\n",
       "      <th></th>\n",
       "      <th>src</th>\n",
       "      <th>tar</th>\n",
       "    </tr>\n",
       "  </thead>\n",
       "  <tbody>\n",
       "    <tr>\n",
       "      <th>35341</th>\n",
       "      <td>I just brewed a pot.</td>\n",
       "      <td>\\t Je viens d'en préparer une cafetière. \\n</td>\n",
       "    </tr>\n",
       "    <tr>\n",
       "      <th>5699</th>\n",
       "      <td>Stop running.</td>\n",
       "      <td>\\t Arrêtez de courir. \\n</td>\n",
       "    </tr>\n",
       "    <tr>\n",
       "      <th>45124</th>\n",
       "      <td>Tom was contributing.</td>\n",
       "      <td>\\t Tom contribuait. \\n</td>\n",
       "    </tr>\n",
       "    <tr>\n",
       "      <th>46429</th>\n",
       "      <td>You're not the first.</td>\n",
       "      <td>\\t Tu n'es pas la première. \\n</td>\n",
       "    </tr>\n",
       "    <tr>\n",
       "      <th>7554</th>\n",
       "      <td>I'll be going.</td>\n",
       "      <td>\\t J'irai. \\n</td>\n",
       "    </tr>\n",
       "    <tr>\n",
       "      <th>31386</th>\n",
       "      <td>The path is direct.</td>\n",
       "      <td>\\t C'est le chemin qui est direct. \\n</td>\n",
       "    </tr>\n",
       "    <tr>\n",
       "      <th>2938</th>\n",
       "      <td>He helps us.</td>\n",
       "      <td>\\t Il nous aide. \\n</td>\n",
       "    </tr>\n",
       "    <tr>\n",
       "      <th>28229</th>\n",
       "      <td>Everybody loves it.</td>\n",
       "      <td>\\t Tout le monde adore ça. \\n</td>\n",
       "    </tr>\n",
       "    <tr>\n",
       "      <th>58500</th>\n",
       "      <td>This food is delicious.</td>\n",
       "      <td>\\t Cette nourriture est délicieuse. \\n</td>\n",
       "    </tr>\n",
       "    <tr>\n",
       "      <th>3349</th>\n",
       "      <td>I'm fasting.</td>\n",
       "      <td>\\t Je suis à la diète. \\n</td>\n",
       "    </tr>\n",
       "  </tbody>\n",
       "</table>\n",
       "</div>"
      ],
      "text/plain": [
       "                           src                                          tar\n",
       "35341     I just brewed a pot.  \\t Je viens d'en préparer une cafetière. \\n\n",
       "5699             Stop running.                     \\t Arrêtez de courir. \\n\n",
       "45124    Tom was contributing.                       \\t Tom contribuait. \\n\n",
       "46429    You're not the first.               \\t Tu n'es pas la première. \\n\n",
       "7554            I'll be going.                                \\t J'irai. \\n\n",
       "31386      The path is direct.        \\t C'est le chemin qui est direct. \\n\n",
       "2938              He helps us.                          \\t Il nous aide. \\n\n",
       "28229      Everybody loves it.                \\t Tout le monde adore ça. \\n\n",
       "58500  This food is delicious.       \\t Cette nourriture est délicieuse. \\n\n",
       "3349              I'm fasting.                    \\t Je suis à la diète. \\n"
      ]
     },
     "execution_count": 29,
     "metadata": {},
     "output_type": "execute_result"
    }
   ],
   "source": [
    "lines['tar'] = lines['tar'].apply(lambda x : '\\t '+ x + ' \\n' )\n",
    "lines.sample(10)"
   ]
  },
  {
   "cell_type": "code",
   "execution_count": 30,
   "id": "9577a5af",
   "metadata": {
    "ExecuteTime": {
     "end_time": "2022-04-13T11:07:24.840796Z",
     "start_time": "2022-04-13T11:07:24.828828Z"
    }
   },
   "outputs": [],
   "source": [
    " # 2. 알파벳별로 모아서 인덱싱 "
   ]
  },
  {
   "cell_type": "code",
   "execution_count": 35,
   "id": "8432e8ef",
   "metadata": {
    "ExecuteTime": {
     "end_time": "2022-04-13T11:18:43.126993Z",
     "start_time": "2022-04-13T11:18:43.006127Z"
    }
   },
   "outputs": [],
   "source": [
    "src_vocab = set() # 중복피하기 위해\n",
    "\n",
    "for line in lines['src']:\n",
    "    for char in line:\n",
    "        src_vocab.add(char)\n",
    "# src_vocab[:10] set순서가 없어서 인덱싱 불가능"
   ]
  },
  {
   "cell_type": "code",
   "execution_count": 36,
   "id": "24a033ee",
   "metadata": {
    "ExecuteTime": {
     "end_time": "2022-04-13T11:22:43.412013Z",
     "start_time": "2022-04-13T11:22:43.245509Z"
    }
   },
   "outputs": [],
   "source": [
    "tar_vocab = set()\n",
    "for line in lines['tar']:\n",
    "    for char in line:\n",
    "        tar_vocab.add(char)"
   ]
  },
  {
   "cell_type": "code",
   "execution_count": 38,
   "id": "1647aa5c",
   "metadata": {
    "ExecuteTime": {
     "end_time": "2022-04-13T11:26:13.526310Z",
     "start_time": "2022-04-13T11:26:13.518362Z"
    }
   },
   "outputs": [
    {
     "name": "stdout",
     "output_type": "stream",
     "text": [
      "80\n",
      "105\n"
     ]
    }
   ],
   "source": [
    "# 단어사이즈 확인\n",
    "src_vocab_size = len(src_vocab)+1\n",
    "tar_vocab_size = len(tar_vocab)+1\n",
    "\n",
    "print(src_vocab_size)\n",
    "print(tar_vocab_size)"
   ]
  },
  {
   "cell_type": "code",
   "execution_count": 41,
   "id": "35c853b4",
   "metadata": {
    "ExecuteTime": {
     "end_time": "2022-04-13T11:28:58.333340Z",
     "start_time": "2022-04-13T11:28:58.318199Z"
    }
   },
   "outputs": [
    {
     "data": {
      "text/plain": [
       "['9', ':', '?', 'A', 'B', 'C', 'D', 'E', 'F', 'G']"
      ]
     },
     "execution_count": 41,
     "metadata": {},
     "output_type": "execute_result"
    }
   ],
   "source": [
    "# 인덱싱을 위해 정렬\n",
    "src_vocab_sorted = sorted(list(src_vocab))\n",
    "tar_vocab_sorted = sorted(list(tar_vocab))\n",
    "\n",
    "src_vocab_sorted[20:30]\n"
   ]
  },
  {
   "cell_type": "code",
   "execution_count": null,
   "id": "bccf123c",
   "metadata": {},
   "outputs": [],
   "source": [
    "# 인덱싱\n",
    "\n",
    "src_to_index = dict([(word, i+1) for i,word in enumerate(src_vocab_sorted)])"
   ]
  }
 ],
 "metadata": {
  "kernelspec": {
   "display_name": "Python 3 (ipykernel)",
   "language": "python",
   "name": "python3"
  },
  "language_info": {
   "codemirror_mode": {
    "name": "ipython",
    "version": 3
   },
   "file_extension": ".py",
   "mimetype": "text/x-python",
   "name": "python",
   "nbconvert_exporter": "python",
   "pygments_lexer": "ipython3",
   "version": "3.9.7"
  },
  "toc": {
   "base_numbering": 1,
   "nav_menu": {},
   "number_sections": true,
   "sideBar": true,
   "skip_h1_title": false,
   "title_cell": "Table of Contents",
   "title_sidebar": "Contents",
   "toc_cell": false,
   "toc_position": {},
   "toc_section_display": true,
   "toc_window_display": false
  },
  "varInspector": {
   "cols": {
    "lenName": 16,
    "lenType": 16,
    "lenVar": 40
   },
   "kernels_config": {
    "python": {
     "delete_cmd_postfix": "",
     "delete_cmd_prefix": "del ",
     "library": "var_list.py",
     "varRefreshCmd": "print(var_dic_list())"
    },
    "r": {
     "delete_cmd_postfix": ") ",
     "delete_cmd_prefix": "rm(",
     "library": "var_list.r",
     "varRefreshCmd": "cat(var_dic_list()) "
    }
   },
   "types_to_exclude": [
    "module",
    "function",
    "builtin_function_or_method",
    "instance",
    "_Feature"
   ],
   "window_display": false
  }
 },
 "nbformat": 4,
 "nbformat_minor": 5
}
