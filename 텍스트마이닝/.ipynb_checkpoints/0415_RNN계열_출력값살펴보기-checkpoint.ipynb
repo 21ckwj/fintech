{
 "cells": [
  {
   "cell_type": "markdown",
   "id": "8f493b8c",
   "metadata": {},
   "source": [
    "# 순환신경망(Recurrent Nerual Network) 출력값 살펴보기"
   ]
  },
  {
   "cell_type": "markdown",
   "id": "366cba5f",
   "metadata": {},
   "source": [
    "![](http://i.imgur.com/jKodJ1u.png)"
   ]
  },
  {
   "cell_type": "code",
   "execution_count": 1,
   "id": "1e3913f0",
   "metadata": {
    "ExecuteTime": {
     "end_time": "2022-04-15T01:47:56.974001Z",
     "start_time": "2022-04-15T01:47:56.970012Z"
    }
   },
   "outputs": [],
   "source": [
    "# hidden_state => vector\n",
    "# vector size(hidden state shape == cell state : hyperparmaeter => 처음부터 끝까지 고정"
   ]
  },
  {
   "cell_type": "code",
   "execution_count": 2,
   "id": "f4c536cd",
   "metadata": {
    "ExecuteTime": {
     "end_time": "2022-04-15T01:48:23.683683Z",
     "start_time": "2022-04-15T01:48:22.745193Z"
    }
   },
   "outputs": [],
   "source": [
    "import pandas as pd\n",
    "import numpy as np\n",
    "import matplotlib.pyplot as plt\n",
    "import seaborn as sns"
   ]
  },
  {
   "cell_type": "code",
   "execution_count": 4,
   "id": "6df4c2cd",
   "metadata": {
    "ExecuteTime": {
     "end_time": "2022-04-15T01:51:05.682417Z",
     "start_time": "2022-04-15T01:51:05.672415Z"
    }
   },
   "outputs": [],
   "source": [
    "import tensorflow as tf\n",
    "from tensorflow.keras.layers import SimpleRNN, LSTM, GRU, Bidirectional"
   ]
  },
  {
   "cell_type": "code",
   "execution_count": 17,
   "id": "edab4638",
   "metadata": {
    "ExecuteTime": {
     "end_time": "2022-04-15T02:07:21.721796Z",
     "start_time": "2022-04-15T02:07:21.703845Z"
    }
   },
   "outputs": [],
   "source": [
    "train_x = [[0.1, 4.2, 1.5, 1.1, 2.8],\n",
    "           [1.0, 2.3, 2.4, 1.5, 3.1],\n",
    "           [1.2, 2.1, 3.2, 2.2, 1.0],\n",
    "           [0.2, 0.3, 1.2, 1.3, 2.0]\n",
    "          ]"
   ]
  },
  {
   "cell_type": "code",
   "execution_count": 18,
   "id": "fe76bbf7",
   "metadata": {
    "ExecuteTime": {
     "end_time": "2022-04-15T02:07:21.928244Z",
     "start_time": "2022-04-15T02:07:21.911290Z"
    }
   },
   "outputs": [],
   "source": [
    "train_x_ar = np.array(train_x)"
   ]
  },
  {
   "cell_type": "code",
   "execution_count": 19,
   "id": "6d1a0149",
   "metadata": {
    "ExecuteTime": {
     "end_time": "2022-04-15T02:08:17.165502Z",
     "start_time": "2022-04-15T02:08:17.159518Z"
    }
   },
   "outputs": [
    {
     "data": {
      "text/plain": [
       "(4, 5)"
      ]
     },
     "execution_count": 19,
     "metadata": {},
     "output_type": "execute_result"
    }
   ],
   "source": [
    "train_x_ar.shape"
   ]
  },
  {
   "cell_type": "code",
   "execution_count": 31,
   "id": "61e93f64",
   "metadata": {
    "ExecuteTime": {
     "end_time": "2022-04-15T02:09:43.265339Z",
     "start_time": "2022-04-15T02:09:43.256364Z"
    }
   },
   "outputs": [],
   "source": [
    "train_x_ar_r = train_x_ar.reshape(1,4,5)"
   ]
  },
  {
   "cell_type": "code",
   "execution_count": 32,
   "id": "4ed5b438",
   "metadata": {
    "ExecuteTime": {
     "end_time": "2022-04-15T02:09:47.650610Z",
     "start_time": "2022-04-15T02:09:47.639640Z"
    }
   },
   "outputs": [
    {
     "data": {
      "text/plain": [
       "(1, 4, 5)"
      ]
     },
     "execution_count": 32,
     "metadata": {},
     "output_type": "execute_result"
    }
   ],
   "source": [
    "train_x_ar_r.shape"
   ]
  },
  {
   "cell_type": "code",
   "execution_count": 24,
   "id": "91145b29",
   "metadata": {
    "ExecuteTime": {
     "end_time": "2022-04-15T02:08:43.510195Z",
     "start_time": "2022-04-15T02:08:43.495206Z"
    }
   },
   "outputs": [],
   "source": [
    "train_z = [[[0.1, 4.2, 1.5, 1.1, 2.8],\n",
    "           [1.0, 2.3, 2.4, 1.5, 3.1],\n",
    "           [1.2, 2.1, 3.2, 2.2, 1.0],\n",
    "           [0.2, 0.3, 1.2, 1.3, 2.0]\n",
    "          ],\n",
    "           [[0.1, 4.2, 1.5, 1.1, 2.8],\n",
    "           [1.0, 2.3, 2.4, 1.5, 3.1],\n",
    "           [1.2, 2.1, 3.2, 2.2, 1.0],\n",
    "           [0.2, 0.3, 1.2, 1.3, 2.0]\n",
    "          ]]"
   ]
  },
  {
   "cell_type": "code",
   "execution_count": 25,
   "id": "2906341e",
   "metadata": {
    "ExecuteTime": {
     "end_time": "2022-04-15T02:08:43.669738Z",
     "start_time": "2022-04-15T02:08:43.655776Z"
    }
   },
   "outputs": [],
   "source": [
    "train_z_ar = np.array(train_z)"
   ]
  },
  {
   "cell_type": "code",
   "execution_count": 29,
   "id": "44b5be52",
   "metadata": {
    "ExecuteTime": {
     "end_time": "2022-04-15T02:09:10.474045Z",
     "start_time": "2022-04-15T02:09:10.456094Z"
    }
   },
   "outputs": [
    {
     "data": {
      "text/plain": [
       "(2, 4, 5)"
      ]
     },
     "execution_count": 29,
     "metadata": {},
     "output_type": "execute_result"
    }
   ],
   "source": [
    "np.array(train_z_ar).shape"
   ]
  },
  {
   "cell_type": "markdown",
   "id": "5d083fee",
   "metadata": {
    "ExecuteTime": {
     "end_time": "2022-04-15T02:08:44.163418Z",
     "start_time": "2022-04-15T02:08:44.151450Z"
    }
   },
   "source": [
    "## RNN 출력값 살펴보기 "
   ]
  },
  {
   "cell_type": "markdown",
   "id": "30b644cc",
   "metadata": {},
   "source": [
    "### shape 형태"
   ]
  },
  {
   "cell_type": "code",
   "execution_count": 33,
   "id": "8f97dcd8",
   "metadata": {
    "ExecuteTime": {
     "end_time": "2022-04-15T02:09:54.184135Z",
     "start_time": "2022-04-15T02:09:52.648244Z"
    }
   },
   "outputs": [
    {
     "name": "stdout",
     "output_type": "stream",
     "text": [
      "tf.Tensor([[-0.3767398  -0.96109396  0.9277037  -0.8697183  -0.5624354 ]], shape=(1, 5), dtype=float32)\n"
     ]
    }
   ],
   "source": [
    "# [[v, v, v, v, v], [v, v, v, v, v], [v, v, v, v, v], [v, v, v, v, v]]\n",
    "rnn = SimpleRNN(5, input_shape=(4,5)) # hiddenstate의 shape, input_shape = (seq_len, input_dim)\n",
    "output = rnn(train_x_ar_r)\n",
    "\n",
    "print(output) # 마지막 rnn cell 의 hidden state값"
   ]
  },
  {
   "cell_type": "code",
   "execution_count": 34,
   "id": "8a4e779c",
   "metadata": {
    "ExecuteTime": {
     "end_time": "2022-04-15T02:11:28.197679Z",
     "start_time": "2022-04-15T02:11:28.167760Z"
    }
   },
   "outputs": [
    {
     "name": "stdout",
     "output_type": "stream",
     "text": [
      "tf.Tensor(\n",
      "[[[ 0.9568488   0.28440353  0.99050754]\n",
      "  [ 0.9973883   0.90371305 -0.27190065]\n",
      "  [ 0.998177    0.8735651  -0.41468865]\n",
      "  [ 0.98796636  0.9075211  -0.18795598]]], shape=(1, 4, 3), dtype=float32)\n"
     ]
    }
   ],
   "source": [
    "hidden_state_size = 3\n",
    "\n",
    "rnn = SimpleRNN(hidden_state_size, input_shape=(4,5), return_sequences=True) # rnn cell마다 hidden state값을 출력\n",
    "output_1 = rnn(train_x_ar_r)\n",
    "print(output_1) # rnn cell 마다의 hidden state값"
   ]
  },
  {
   "cell_type": "code",
   "execution_count": 35,
   "id": "dc192c4a",
   "metadata": {
    "ExecuteTime": {
     "end_time": "2022-04-15T02:14:00.776581Z",
     "start_time": "2022-04-15T02:14:00.759625Z"
    }
   },
   "outputs": [
    {
     "name": "stdout",
     "output_type": "stream",
     "text": [
      "tf.Tensor(\n",
      "[[[ 0.86388206 -0.99860036 -0.88033307]\n",
      "  [ 0.996518   -0.8129765  -0.91519576]\n",
      "  [ 0.9753208  -0.5808571  -0.88386005]\n",
      "  [ 0.99563074 -0.37182677 -0.5639355 ]]], shape=(1, 4, 3), dtype=float32)\n",
      "tf.Tensor([[ 0.99563074 -0.37182677 -0.5639355 ]], shape=(1, 3), dtype=float32)\n"
     ]
    }
   ],
   "source": [
    "hidden_state_size = 3\n",
    "\n",
    "rnn = SimpleRNN(hidden_state_size, input_shape=(4,5), return_sequences=True, return_state=True) # rnn cell마다 hidden state값을 출력\n",
    "output_1, output_2 = rnn(train_x_ar_r)\n",
    "\n",
    "print(output_1) # rnn cell 마다의 hidden state값\n",
    "print(output_2) # 마지막 rnn cell 의 hidden state값"
   ]
  },
  {
   "cell_type": "code",
   "execution_count": null,
   "id": "61d828b1",
   "metadata": {},
   "outputs": [],
   "source": []
  },
  {
   "cell_type": "code",
   "execution_count": 39,
   "id": "b5ee9e1d",
   "metadata": {
    "ExecuteTime": {
     "end_time": "2022-04-15T02:16:41.845771Z",
     "start_time": "2022-04-15T02:16:41.815852Z"
    }
   },
   "outputs": [
    {
     "name": "stdout",
     "output_type": "stream",
     "text": [
      "tf.Tensor([[-0.942425    0.75883496 -0.9696767 ]], shape=(1, 3), dtype=float32)\n"
     ]
    }
   ],
   "source": [
    "hidden_state_size = 3\n",
    "\n",
    "rnn = SimpleRNN(hidden_state_size, input_shape=(4,5), return_sequences=False, return_state=False)\n",
    "output_1 = rnn(train_x_ar_r)\n",
    "\n",
    "print(output_1) # rnn cell 마다의 hidden state값\n"
   ]
  },
  {
   "cell_type": "code",
   "execution_count": null,
   "id": "6dba27c6",
   "metadata": {},
   "outputs": [],
   "source": [
    " "
   ]
  },
  {
   "cell_type": "code",
   "execution_count": null,
   "id": "b99e013e",
   "metadata": {},
   "outputs": [],
   "source": []
  },
  {
   "cell_type": "markdown",
   "id": "bb1e0c39",
   "metadata": {},
   "source": [
    "## LSTM 출력값 살펴보기"
   ]
  },
  {
   "cell_type": "code",
   "execution_count": 41,
   "id": "64ef89fe",
   "metadata": {
    "ExecuteTime": {
     "end_time": "2022-04-15T02:18:30.633799Z",
     "start_time": "2022-04-15T02:18:18.135257Z"
    }
   },
   "outputs": [
    {
     "name": "stdout",
     "output_type": "stream",
     "text": [
      "tf.Tensor([[-0.35930216 -0.05958316  0.44322985]], shape=(1, 3), dtype=float32)\n"
     ]
    }
   ],
   "source": [
    "lstm = LSTM(3)\n",
    "output = lstm(train_x_ar_r)\n",
    "\n",
    "print(output) # 마지막 cell의 hidden state값만 출력"
   ]
  },
  {
   "cell_type": "code",
   "execution_count": 44,
   "id": "1593d2bb",
   "metadata": {
    "ExecuteTime": {
     "end_time": "2022-04-15T02:20:40.980227Z",
     "start_time": "2022-04-15T02:20:40.951304Z"
    }
   },
   "outputs": [
    {
     "name": "stdout",
     "output_type": "stream",
     "text": [
      "[<tf.Tensor: shape=(1, 3), dtype=float32, numpy=array([[-0.8919671 ,  0.18602505, -0.34199256]], dtype=float32)>, <tf.Tensor: shape=(1, 3), dtype=float32, numpy=array([[-0.8919671 ,  0.18602505, -0.34199256]], dtype=float32)>, <tf.Tensor: shape=(1, 3), dtype=float32, numpy=array([[-2.4659142,  0.7292801, -0.5225645]], dtype=float32)>]\n"
     ]
    }
   ],
   "source": [
    "# return_state= True 시 \n",
    "\n",
    "lstm = LSTM(3, return_state=True)\n",
    "output_1 = lstm(train_x_ar_r)\n",
    "print(output_1)"
   ]
  },
  {
   "cell_type": "code",
   "execution_count": 43,
   "id": "80fcc946",
   "metadata": {
    "ExecuteTime": {
     "end_time": "2022-04-15T02:20:36.807416Z",
     "start_time": "2022-04-15T02:20:36.792429Z"
    }
   },
   "outputs": [
    {
     "name": "stdout",
     "output_type": "stream",
     "text": [
      "tf.Tensor(\n",
      "[[[ 0.05632742  0.01993735 -0.0248731 ]\n",
      "  [ 0.07706689  0.07607211 -0.07532709]\n",
      "  [ 0.05503419  0.09508669 -0.04825127]\n",
      "  [ 0.13193704  0.20610796 -0.18775049]]], shape=(1, 4, 3), dtype=float32)\n"
     ]
    }
   ],
   "source": [
    "# return_sequences= True : 모든 셀의 hidden_state 출력\n",
    "\n",
    "lstm = LSTM(3, return_sequences=True)\n",
    "output_1 = lstm(train_x_ar_r)\n",
    "print(output_1)"
   ]
  },
  {
   "cell_type": "code",
   "execution_count": 45,
   "id": "4e7d164e",
   "metadata": {
    "ExecuteTime": {
     "end_time": "2022-04-15T02:22:59.660303Z",
     "start_time": "2022-04-15T02:22:59.639359Z"
    }
   },
   "outputs": [
    {
     "name": "stdout",
     "output_type": "stream",
     "text": [
      "tf.Tensor(\n",
      "[[[-0.45312697  0.00336938 -0.09233103]\n",
      "  [-0.390318    0.07626963  0.15734616]\n",
      "  [-0.30161613  0.05520511 -0.2258054 ]\n",
      "  [-0.4498668   0.3205226  -0.00266031]]], shape=(1, 4, 3), dtype=float32)\n",
      "tf.Tensor([[-0.4498668   0.3205226  -0.00266031]], shape=(1, 3), dtype=float32)\n",
      "tf.Tensor([[-1.250593    0.7727998  -0.00650894]], shape=(1, 3), dtype=float32)\n"
     ]
    }
   ],
   "source": [
    "\n",
    "lstm = LSTM(3, return_sequences=True, return_state= True)\n",
    "output_1, output_2, output_3 = lstm(train_x_ar_r)\n",
    "\n",
    "print(output_1) # 모든 셀의 hidden state값을 출력\n",
    "print(output_2) # 마지막 셀의 hidden state값을 출력\n",
    "print(output_3) # 마지막 셀의 cell state값을 출력"
   ]
  },
  {
   "cell_type": "code",
   "execution_count": null,
   "id": "d0855270",
   "metadata": {},
   "outputs": [],
   "source": []
  },
  {
   "cell_type": "markdown",
   "id": "15cc4635",
   "metadata": {},
   "source": [
    "## Bidirectional_LSTM 출력값 살펴보기"
   ]
  },
  {
   "cell_type": "code",
   "execution_count": 56,
   "id": "c8d5f7a2",
   "metadata": {
    "ExecuteTime": {
     "end_time": "2022-04-15T02:58:53.868516Z",
     "start_time": "2022-04-15T02:58:53.861518Z"
    }
   },
   "outputs": [
    {
     "data": {
      "image/jpeg": "[encoded data removed]",
      "text/plain": [
       "<IPython.core.display.Image object>"
      ]
     },
     "execution_count": 56,
     "metadata": {},
     "output_type": "execute_result"
    }
   ],
   "source": [
    "from IPython.display import Image\n",
    "Image('bidirectionjpeg.jpeg')"
   ]
  },
  {
   "cell_type": "code",
   "execution_count": 48,
   "id": "8a14a035",
   "metadata": {
    "ExecuteTime": {
     "end_time": "2022-04-15T02:50:52.014304Z",
     "start_time": "2022-04-15T02:50:51.974412Z"
    }
   },
   "outputs": [
    {
     "name": "stdout",
     "output_type": "stream",
     "text": [
      "tf.Tensor([[-0.05568488  0.0779635  -0.06447493  0.02801641 -0.00284716 -0.91532934]], shape=(1, 6), dtype=float32)\n"
     ]
    }
   ],
   "source": [
    "bilstm = Bidirectional(LSTM(3))\n",
    "hidden_states = bilstm(train_x_ar_r)\n",
    "\n",
    "print(hidden_states) # 순방향 역방향의 hiddens state를 출력"
   ]
  },
  {
   "cell_type": "code",
   "execution_count": 50,
   "id": "2d60928a",
   "metadata": {
    "ExecuteTime": {
     "end_time": "2022-04-15T02:53:52.822700Z",
     "start_time": "2022-04-15T02:53:52.789788Z"
    }
   },
   "outputs": [
    {
     "name": "stdout",
     "output_type": "stream",
     "text": [
      "tf.Tensor(\n",
      "[[[ 0.00854585 -0.07175904 -0.01021371  0.15940785 -0.4024086\n",
      "    0.17235936]\n",
      "  [-0.0402995  -0.09042812 -0.01279166  0.24006034 -0.15811226\n",
      "    0.29669726]\n",
      "  [-0.09045769 -0.0432291  -0.02692158  0.09682054 -0.19859457\n",
      "    0.5764559 ]\n",
      "  [-0.16735545 -0.10121166 -0.12172027  0.25495675  0.19022506\n",
      "    0.25175282]]], shape=(1, 4, 6), dtype=float32)\n"
     ]
    }
   ],
   "source": [
    "bilstm = Bidirectional(LSTM(3, return_sequences=True))\n",
    "a = bilstm(train_x_ar_r)\n",
    "print(a)"
   ]
  },
  {
   "cell_type": "code",
   "execution_count": 55,
   "id": "25937b78",
   "metadata": {
    "ExecuteTime": {
     "end_time": "2022-04-15T02:57:48.877330Z",
     "start_time": "2022-04-15T02:57:48.837437Z"
    }
   },
   "outputs": [
    {
     "name": "stdout",
     "output_type": "stream",
     "text": [
      "tf.Tensor([[-0.08393174 -0.2900732  -0.2791781   0.00372245 -0.06090768  0.74375975]], shape=(1, 6), dtype=float32)\n",
      "tf.Tensor([[-0.08393174 -0.2900732  -0.2791781 ]], shape=(1, 3), dtype=float32)\n",
      "tf.Tensor([[-0.13545524 -2.283151   -0.41994196]], shape=(1, 3), dtype=float32)\n",
      "tf.Tensor([[ 0.00372245 -0.06090768  0.74375975]], shape=(1, 3), dtype=float32)\n",
      "tf.Tensor([[ 0.1946648  -0.35784334  1.5613443 ]], shape=(1, 3), dtype=float32)\n"
     ]
    }
   ],
   "source": [
    "bilstm = Bidirectional(LSTM(3, return_sequences=False, return_state = True))\n",
    "a,b,c,d,e = bilstm(train_x_ar_r)\n",
    "\n",
    "print(a)  # 마지막셀 \n",
    "print(b)  # forward_h\n",
    "print(c)  # forward_c\n",
    "print(d)  # backward_h\n",
    "print(e)  # backward_c"
   ]
  },
  {
   "cell_type": "code",
   "execution_count": 57,
   "id": "cabdaf56",
   "metadata": {
    "ExecuteTime": {
     "end_time": "2022-04-15T02:59:38.066315Z",
     "start_time": "2022-04-15T02:59:38.022402Z"
    }
   },
   "outputs": [
    {
     "name": "stdout",
     "output_type": "stream",
     "text": [
      "tf.Tensor(\n",
      "[[[ 0.01735009  0.21579614 -0.03894112  0.28649288  0.23115188\n",
      "   -0.29956076]\n",
      "  [-0.21472128  0.47849897 -0.14923723  0.4339252   0.15891695\n",
      "   -0.63393104]\n",
      "  [-0.27450526  0.5538184  -0.19340532  0.32568753  0.07052509\n",
      "   -0.53261423]\n",
      "  [-0.5015484   0.39271888 -0.13691132  0.12326299  0.09331542\n",
      "   -0.4420601 ]]], shape=(1, 4, 6), dtype=float32)\n",
      "tf.Tensor([[-0.5015484   0.39271888 -0.13691132]], shape=(1, 3), dtype=float32)\n",
      "tf.Tensor([[-1.1289476  1.326621  -0.4077465]], shape=(1, 3), dtype=float32)\n",
      "tf.Tensor([[ 0.28649288  0.23115188 -0.29956076]], shape=(1, 3), dtype=float32)\n",
      "tf.Tensor([[ 2.0349376  0.3528611 -0.5441148]], shape=(1, 3), dtype=float32)\n"
     ]
    }
   ],
   "source": [
    "bilstm = Bidirectional(LSTM(3, return_sequences= True, return_state = True))\n",
    "a,b,c,d,e = bilstm(train_x_ar_r)\n",
    "\n",
    "print(a)  # 모든 셀의 hidden_state\n",
    "print(b)  # forward_h\n",
    "print(c)  # forward_c\n",
    "print(d)  # backward_h\n",
    "print(e)  # backward_c"
   ]
  },
  {
   "cell_type": "code",
   "execution_count": null,
   "id": "158e29ce",
   "metadata": {},
   "outputs": [],
   "source": []
  },
  {
   "cell_type": "code",
   "execution_count": null,
   "id": "191d0862",
   "metadata": {},
   "outputs": [],
   "source": []
  },
  {
   "cell_type": "code",
   "execution_count": null,
   "id": "3f765f75",
   "metadata": {},
   "outputs": [],
   "source": []
  },
  {
   "cell_type": "code",
   "execution_count": null,
   "id": "affdf63d",
   "metadata": {},
   "outputs": [],
   "source": []
  },
  {
   "cell_type": "code",
   "execution_count": null,
   "id": "6200cf35",
   "metadata": {},
   "outputs": [],
   "source": []
  }
 ],
 "metadata": {
  "kernelspec": {
   "display_name": "Python 3 (ipykernel)",
   "language": "python",
   "name": "python3"
  },
  "language_info": {
   "codemirror_mode": {
    "name": "ipython",
    "version": 3
   },
   "file_extension": ".py",
   "mimetype": "text/x-python",
   "name": "python",
   "nbconvert_exporter": "python",
   "pygments_lexer": "ipython3",
   "version": "3.9.7"
  },
  "toc": {
   "base_numbering": 1,
   "nav_menu": {},
   "number_sections": true,
   "sideBar": true,
   "skip_h1_title": false,
   "title_cell": "Table of Contents",
   "title_sidebar": "Contents",
   "toc_cell": false,
   "toc_position": {},
   "toc_section_display": true,
   "toc_window_display": true
  },
  "varInspector": {
   "cols": {
    "lenName": 16,
    "lenType": 16,
    "lenVar": 40
   },
   "kernels_config": {
    "python": {
     "delete_cmd_postfix": "",
     "delete_cmd_prefix": "del ",
     "library": "var_list.py",
     "varRefreshCmd": "print(var_dic_list())"
    },
    "r": {
     "delete_cmd_postfix": ") ",
     "delete_cmd_prefix": "rm(",
     "library": "var_list.r",
     "varRefreshCmd": "cat(var_dic_list()) "
    }
   },
   "types_to_exclude": [
    "module",
    "function",
    "builtin_function_or_method",
    "instance",
    "_Feature"
   ],
   "window_display": false
  }
 },
 "nbformat": 4,
 "nbformat_minor": 5
}
