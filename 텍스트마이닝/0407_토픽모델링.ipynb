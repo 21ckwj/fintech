{
 "cells": [
  {
   "cell_type": "markdown",
   "id": "018e7815",
   "metadata": {},
   "source": [
    "# Topic Modeling"
   ]
  },
  {
   "cell_type": "code",
   "execution_count": null,
   "id": "108d82eb",
   "metadata": {},
   "outputs": [],
   "source": [
    "# 맥락과 관련된 단어 "
   ]
  },
  {
   "cell_type": "code",
   "execution_count": 110,
   "id": "6bd7b58a",
   "metadata": {
    "ExecuteTime": {
     "end_time": "2022-04-07T08:05:02.674099Z",
     "start_time": "2022-04-07T08:05:02.226737Z"
    }
   },
   "outputs": [],
   "source": [
    "import pandas as pd\n",
    "import numpy as np\n",
    "import matplotlib.pyplot as plt"
   ]
  },
  {
   "cell_type": "code",
   "execution_count": 2,
   "id": "ebb191d6",
   "metadata": {
    "ExecuteTime": {
     "end_time": "2022-04-07T03:08:00.382899Z",
     "start_time": "2022-04-07T03:08:00.372926Z"
    }
   },
   "outputs": [],
   "source": [
    "# !pip install gensim"
   ]
  },
  {
   "cell_type": "markdown",
   "id": "b85afc38",
   "metadata": {},
   "source": [
    "## 전처리"
   ]
  },
  {
   "cell_type": "code",
   "execution_count": 83,
   "id": "5654c814",
   "metadata": {
    "ExecuteTime": {
     "end_time": "2022-04-07T07:59:56.252058Z",
     "start_time": "2022-04-07T07:59:56.244051Z"
    }
   },
   "outputs": [],
   "source": [
    "from nltk.corpus import stopwords\n",
    "from nltk.stem.porter import PorterStemmer\n",
    "from gensim import corpora, models\n",
    "import gensim\n",
    "from nltk.tokenize import RegexpTokenizer"
   ]
  },
  {
   "cell_type": "code",
   "execution_count": 84,
   "id": "2c8a7515",
   "metadata": {
    "ExecuteTime": {
     "end_time": "2022-04-07T07:59:56.515474Z",
     "start_time": "2022-04-07T07:59:56.497522Z"
    }
   },
   "outputs": [],
   "source": [
    "doc_a = \"Brocolli is good to eat. My brother likes to eat good brocolli, but not my mother.\"\n",
    "doc_b = \"My mother spends a lot of time driving my brother around to baseball practice.\"\n",
    "doc_c = \"Some health experts suggest that driving may cause increased tension and blood pressure.\"\n",
    "doc_d = \"I often feel pressure to perform well at school, but my mother never seems to drive my brother to do better.\"\n",
    "doc_e = \"Health professionals say that brocolli is good for your health.\"\n",
    "doc_f = \"Big data is a term used to refer to data sets that are too large or complex for traditional data-processing application software to adequately deal with.\"\n",
    "doc_g = \"Data with many cases offer greater statistical power, while data with higher complexity may lead to a higher false discovery rate\"\n",
    "doc_h = \"Big data was originally associated with three key concepts: volume, variety, and velocity.\"\n",
    "doc_i = \"A 2016 definition states that 'Big data represents the information assets characterized by such a high volume, velocity and variety to require specific technology and analytical methods for its transformation into value'.\"\n",
    "doc_j = \"Data must be processed with advanced tools to reveal meaningful information.\""
   ]
  },
  {
   "cell_type": "code",
   "execution_count": 85,
   "id": "b1380995",
   "metadata": {
    "ExecuteTime": {
     "end_time": "2022-04-07T07:59:56.813992Z",
     "start_time": "2022-04-07T07:59:56.803052Z"
    }
   },
   "outputs": [],
   "source": [
    "tokenizer = RegexpTokenizer('[\\w]+')"
   ]
  },
  {
   "cell_type": "code",
   "execution_count": 86,
   "id": "fed7edd9",
   "metadata": {
    "ExecuteTime": {
     "end_time": "2022-04-07T07:59:57.175373Z",
     "start_time": "2022-04-07T07:59:57.154425Z"
    }
   },
   "outputs": [],
   "source": [
    "stop_words = stopwords.words('english')"
   ]
  },
  {
   "cell_type": "code",
   "execution_count": 87,
   "id": "acf86455",
   "metadata": {
    "ExecuteTime": {
     "end_time": "2022-04-07T07:59:57.424992Z",
     "start_time": "2022-04-07T07:59:57.411001Z"
    }
   },
   "outputs": [],
   "source": [
    "p_stemmer = PorterStemmer() # 어근 추출.. : runs, running, ran => run"
   ]
  },
  {
   "cell_type": "code",
   "execution_count": 88,
   "id": "5063fdf3",
   "metadata": {
    "ExecuteTime": {
     "end_time": "2022-04-07T07:59:57.643891Z",
     "start_time": "2022-04-07T07:59:57.633917Z"
    }
   },
   "outputs": [],
   "source": [
    "# topics - keywords를 기준으로 keywords의 빈도(중요돌)를 계산해서 문서의 유사도\n",
    "\n",
    "# 1. health\n",
    "# 2. food\n",
    "# 3. bigdata\n",
    "# 4. drive\n",
    "# 5. data"
   ]
  },
  {
   "cell_type": "code",
   "execution_count": 89,
   "id": "82a6904e",
   "metadata": {
    "ExecuteTime": {
     "end_time": "2022-04-07T07:59:58.944313Z",
     "start_time": "2022-04-07T07:59:58.930343Z"
    }
   },
   "outputs": [],
   "source": [
    "doc_set = [doc_a,doc_b,doc_c,doc_d,doc_e,doc_f,doc_g,doc_h,doc_i,doc_j]"
   ]
  },
  {
   "cell_type": "code",
   "execution_count": 91,
   "id": "629920cb",
   "metadata": {
    "ExecuteTime": {
     "end_time": "2022-04-07T07:59:59.400452Z",
     "start_time": "2022-04-07T07:59:59.378412Z"
    }
   },
   "outputs": [],
   "source": [
    "# 문장에서 토큰나이징, stopword제외, 어근추출 전처리\n",
    "texts=[]\n",
    "for w in doc_set:\n",
    "    raw = w.lower()\n",
    "    tokens = tokenizer.tokenize(raw)\n",
    "    stopped_tokens = [i for i in tokens if i not in stop_words]\n",
    "    stemmer_tokens = [p_stemmer.stem(i) for i in stopped_tokens]\n",
    "    texts.append(stemmer_tokens)"
   ]
  },
  {
   "cell_type": "markdown",
   "id": "d1249d22",
   "metadata": {
    "ExecuteTime": {
     "end_time": "2022-04-07T07:59:59.620997Z",
     "start_time": "2022-04-07T07:59:59.602083Z"
    }
   },
   "source": [
    "### 분석할 text"
   ]
  },
  {
   "cell_type": "code",
   "execution_count": 92,
   "id": "6a93cf4e",
   "metadata": {
    "ExecuteTime": {
     "end_time": "2022-04-07T07:59:59.620997Z",
     "start_time": "2022-04-07T07:59:59.602083Z"
    },
    "scrolled": true
   },
   "outputs": [
    {
     "data": {
      "text/plain": [
       "[['brocolli',\n",
       "  'good',\n",
       "  'eat',\n",
       "  'brother',\n",
       "  'like',\n",
       "  'eat',\n",
       "  'good',\n",
       "  'brocolli',\n",
       "  'mother'],\n",
       " ['mother',\n",
       "  'spend',\n",
       "  'lot',\n",
       "  'time',\n",
       "  'drive',\n",
       "  'brother',\n",
       "  'around',\n",
       "  'basebal',\n",
       "  'practic'],\n",
       " ['health',\n",
       "  'expert',\n",
       "  'suggest',\n",
       "  'drive',\n",
       "  'may',\n",
       "  'caus',\n",
       "  'increas',\n",
       "  'tension',\n",
       "  'blood',\n",
       "  'pressur'],\n",
       " ['often',\n",
       "  'feel',\n",
       "  'pressur',\n",
       "  'perform',\n",
       "  'well',\n",
       "  'school',\n",
       "  'mother',\n",
       "  'never',\n",
       "  'seem',\n",
       "  'drive',\n",
       "  'brother',\n",
       "  'better'],\n",
       " ['health', 'profession', 'say', 'brocolli', 'good', 'health'],\n",
       " ['big',\n",
       "  'data',\n",
       "  'term',\n",
       "  'use',\n",
       "  'refer',\n",
       "  'data',\n",
       "  'set',\n",
       "  'larg',\n",
       "  'complex',\n",
       "  'tradit',\n",
       "  'data',\n",
       "  'process',\n",
       "  'applic',\n",
       "  'softwar',\n",
       "  'adequ',\n",
       "  'deal'],\n",
       " ['data',\n",
       "  'mani',\n",
       "  'case',\n",
       "  'offer',\n",
       "  'greater',\n",
       "  'statist',\n",
       "  'power',\n",
       "  'data',\n",
       "  'higher',\n",
       "  'complex',\n",
       "  'may',\n",
       "  'lead',\n",
       "  'higher',\n",
       "  'fals',\n",
       "  'discoveri',\n",
       "  'rate'],\n",
       " ['big',\n",
       "  'data',\n",
       "  'origin',\n",
       "  'associ',\n",
       "  'three',\n",
       "  'key',\n",
       "  'concept',\n",
       "  'volum',\n",
       "  'varieti',\n",
       "  'veloc'],\n",
       " ['2016',\n",
       "  'definit',\n",
       "  'state',\n",
       "  'big',\n",
       "  'data',\n",
       "  'repres',\n",
       "  'inform',\n",
       "  'asset',\n",
       "  'character',\n",
       "  'high',\n",
       "  'volum',\n",
       "  'veloc',\n",
       "  'varieti',\n",
       "  'requir',\n",
       "  'specif',\n",
       "  'technolog',\n",
       "  'analyt',\n",
       "  'method',\n",
       "  'transform',\n",
       "  'valu'],\n",
       " ['data', 'must', 'process', 'advanc', 'tool', 'reveal', 'meaning', 'inform']]"
      ]
     },
     "execution_count": 92,
     "metadata": {},
     "output_type": "execute_result"
    }
   ],
   "source": [
    "texts"
   ]
  },
  {
   "cell_type": "markdown",
   "id": "8eeef8bd",
   "metadata": {},
   "source": [
    "## gensim-corpora 를 통한 dictionary 만들기"
   ]
  },
  {
   "cell_type": "code",
   "execution_count": 93,
   "id": "9a16e35a",
   "metadata": {
    "ExecuteTime": {
     "end_time": "2022-04-07T08:00:00.136896Z",
     "start_time": "2022-04-07T08:00:00.129944Z"
    }
   },
   "outputs": [],
   "source": [
    "from gensim import corpora, models\n",
    "import gensim"
   ]
  },
  {
   "cell_type": "code",
   "execution_count": 94,
   "id": "1b0c6392",
   "metadata": {
    "ExecuteTime": {
     "end_time": "2022-04-07T08:00:00.450529Z",
     "start_time": "2022-04-07T08:00:00.435571Z"
    }
   },
   "outputs": [],
   "source": [
    "# Dictionary : token에 index를 붙여서 사전을 만든다\n",
    "dictionary = corpora.Dictionary(texts) "
   ]
  },
  {
   "cell_type": "code",
   "execution_count": 95,
   "id": "a4874776",
   "metadata": {
    "ExecuteTime": {
     "end_time": "2022-04-07T08:00:00.732500Z",
     "start_time": "2022-04-07T08:00:00.721530Z"
    },
    "scrolled": true
   },
   "outputs": [
    {
     "name": "stdout",
     "output_type": "stream",
     "text": [
      "(0, 'brocolli')\n",
      "(1, 'brother')\n",
      "(2, 'eat')\n",
      "(3, 'good')\n",
      "(4, 'like')\n",
      "(5, 'mother')\n",
      "(6, 'around')\n",
      "(7, 'basebal')\n",
      "(8, 'drive')\n",
      "(9, 'lot')\n",
      "(10, 'practic')\n",
      "(11, 'spend')\n",
      "(12, 'time')\n",
      "(13, 'blood')\n",
      "(14, 'caus')\n",
      "(15, 'expert')\n",
      "(16, 'health')\n",
      "(17, 'increas')\n",
      "(18, 'may')\n",
      "(19, 'pressur')\n",
      "(20, 'suggest')\n",
      "(21, 'tension')\n",
      "(22, 'better')\n",
      "(23, 'feel')\n",
      "(24, 'never')\n",
      "(25, 'often')\n",
      "(26, 'perform')\n",
      "(27, 'school')\n",
      "(28, 'seem')\n",
      "(29, 'well')\n",
      "(30, 'profession')\n",
      "(31, 'say')\n",
      "(32, 'adequ')\n",
      "(33, 'applic')\n",
      "(34, 'big')\n",
      "(35, 'complex')\n",
      "(36, 'data')\n",
      "(37, 'deal')\n",
      "(38, 'larg')\n",
      "(39, 'process')\n",
      "(40, 'refer')\n",
      "(41, 'set')\n",
      "(42, 'softwar')\n",
      "(43, 'term')\n",
      "(44, 'tradit')\n",
      "(45, 'use')\n",
      "(46, 'case')\n",
      "(47, 'discoveri')\n",
      "(48, 'fals')\n",
      "(49, 'greater')\n",
      "(50, 'higher')\n",
      "(51, 'lead')\n",
      "(52, 'mani')\n",
      "(53, 'offer')\n",
      "(54, 'power')\n",
      "(55, 'rate')\n",
      "(56, 'statist')\n",
      "(57, 'associ')\n",
      "(58, 'concept')\n",
      "(59, 'key')\n",
      "(60, 'origin')\n",
      "(61, 'three')\n",
      "(62, 'varieti')\n",
      "(63, 'veloc')\n",
      "(64, 'volum')\n",
      "(65, '2016')\n",
      "(66, 'analyt')\n",
      "(67, 'asset')\n",
      "(68, 'character')\n",
      "(69, 'definit')\n",
      "(70, 'high')\n",
      "(71, 'inform')\n",
      "(72, 'method')\n",
      "(73, 'repres')\n",
      "(74, 'requir')\n",
      "(75, 'specif')\n",
      "(76, 'state')\n",
      "(77, 'technolog')\n",
      "(78, 'transform')\n",
      "(79, 'valu')\n",
      "(80, 'advanc')\n",
      "(81, 'meaning')\n",
      "(82, 'must')\n",
      "(83, 'reveal')\n",
      "(84, 'tool')\n"
     ]
    }
   ],
   "source": [
    "for w in dictionary.items():\n",
    "    print(w)"
   ]
  },
  {
   "cell_type": "code",
   "execution_count": 96,
   "id": "94a043c4",
   "metadata": {
    "ExecuteTime": {
     "end_time": "2022-04-07T08:00:00.983214Z",
     "start_time": "2022-04-07T08:00:00.977200Z"
    }
   },
   "outputs": [
    {
     "data": {
      "text/plain": [
       "['mother',\n",
       " 'spend',\n",
       " 'lot',\n",
       " 'time',\n",
       " 'drive',\n",
       " 'brother',\n",
       " 'around',\n",
       " 'basebal',\n",
       " 'practic']"
      ]
     },
     "execution_count": 96,
     "metadata": {},
     "output_type": "execute_result"
    }
   ],
   "source": [
    "texts[1]"
   ]
  },
  {
   "cell_type": "code",
   "execution_count": 97,
   "id": "60ad302b",
   "metadata": {
    "ExecuteTime": {
     "end_time": "2022-04-07T08:00:01.219038Z",
     "start_time": "2022-04-07T08:00:01.203096Z"
    }
   },
   "outputs": [
    {
     "data": {
      "text/plain": [
       "array(['around', 'basebal', 'brother', 'drive', 'lot', 'mother',\n",
       "       'practic', 'spend', 'time'], dtype='<U7')"
      ]
     },
     "execution_count": 97,
     "metadata": {},
     "output_type": "execute_result"
    }
   ],
   "source": [
    "np.unique(np.array(texts[1]))"
   ]
  },
  {
   "cell_type": "code",
   "execution_count": 98,
   "id": "755fbfc4",
   "metadata": {
    "ExecuteTime": {
     "end_time": "2022-04-07T08:00:01.437257Z",
     "start_time": "2022-04-07T08:00:01.426260Z"
    }
   },
   "outputs": [
    {
     "data": {
      "text/plain": [
       "[(1, 1), (5, 1), (6, 1), (7, 1), (8, 1), (9, 1), (10, 1), (11, 1), (12, 1)]"
      ]
     },
     "execution_count": 98,
     "metadata": {},
     "output_type": "execute_result"
    }
   ],
   "source": [
    "# token의 등장횟수를 tuple로 반환\n",
    "# 인덱싱은 dictionary 기준\n",
    "\n",
    "dictionary.doc2bow(texts[1]) "
   ]
  },
  {
   "cell_type": "code",
   "execution_count": null,
   "id": "ca6f2670",
   "metadata": {},
   "outputs": [],
   "source": [
    "dictionary.token2id"
   ]
  },
  {
   "cell_type": "code",
   "execution_count": 99,
   "id": "04a2aa4c",
   "metadata": {
    "ExecuteTime": {
     "end_time": "2022-04-07T08:00:01.750352Z",
     "start_time": "2022-04-07T08:00:01.729409Z"
    },
    "scrolled": true
   },
   "outputs": [
    {
     "data": {
      "text/plain": [
       "[[(0, 2), (1, 1), (2, 2), (3, 2), (4, 1), (5, 1)],\n",
       " [(1, 1), (5, 1), (6, 1), (7, 1), (8, 1), (9, 1), (10, 1), (11, 1), (12, 1)],\n",
       " [(8, 1),\n",
       "  (13, 1),\n",
       "  (14, 1),\n",
       "  (15, 1),\n",
       "  (16, 1),\n",
       "  (17, 1),\n",
       "  (18, 1),\n",
       "  (19, 1),\n",
       "  (20, 1),\n",
       "  (21, 1)],\n",
       " [(1, 1),\n",
       "  (5, 1),\n",
       "  (8, 1),\n",
       "  (19, 1),\n",
       "  (22, 1),\n",
       "  (23, 1),\n",
       "  (24, 1),\n",
       "  (25, 1),\n",
       "  (26, 1),\n",
       "  (27, 1),\n",
       "  (28, 1),\n",
       "  (29, 1)],\n",
       " [(0, 1), (3, 1), (16, 2), (30, 1), (31, 1)],\n",
       " [(32, 1),\n",
       "  (33, 1),\n",
       "  (34, 1),\n",
       "  (35, 1),\n",
       "  (36, 3),\n",
       "  (37, 1),\n",
       "  (38, 1),\n",
       "  (39, 1),\n",
       "  (40, 1),\n",
       "  (41, 1),\n",
       "  (42, 1),\n",
       "  (43, 1),\n",
       "  (44, 1),\n",
       "  (45, 1)],\n",
       " [(18, 1),\n",
       "  (35, 1),\n",
       "  (36, 2),\n",
       "  (46, 1),\n",
       "  (47, 1),\n",
       "  (48, 1),\n",
       "  (49, 1),\n",
       "  (50, 2),\n",
       "  (51, 1),\n",
       "  (52, 1),\n",
       "  (53, 1),\n",
       "  (54, 1),\n",
       "  (55, 1),\n",
       "  (56, 1)],\n",
       " [(34, 1),\n",
       "  (36, 1),\n",
       "  (57, 1),\n",
       "  (58, 1),\n",
       "  (59, 1),\n",
       "  (60, 1),\n",
       "  (61, 1),\n",
       "  (62, 1),\n",
       "  (63, 1),\n",
       "  (64, 1)],\n",
       " [(34, 1),\n",
       "  (36, 1),\n",
       "  (62, 1),\n",
       "  (63, 1),\n",
       "  (64, 1),\n",
       "  (65, 1),\n",
       "  (66, 1),\n",
       "  (67, 1),\n",
       "  (68, 1),\n",
       "  (69, 1),\n",
       "  (70, 1),\n",
       "  (71, 1),\n",
       "  (72, 1),\n",
       "  (73, 1),\n",
       "  (74, 1),\n",
       "  (75, 1),\n",
       "  (76, 1),\n",
       "  (77, 1),\n",
       "  (78, 1),\n",
       "  (79, 1)],\n",
       " [(36, 1), (39, 1), (71, 1), (80, 1), (81, 1), (82, 1), (83, 1), (84, 1)]]"
      ]
     },
     "execution_count": 99,
     "metadata": {},
     "output_type": "execute_result"
    }
   ],
   "source": [
    "# corpus : 텍스트 분석 연산에 용이하게 만든 데이터 집합(발생빈도수)\n",
    "corpus = [dictionary.doc2bow(text) for text in texts]\n",
    "corpus"
   ]
  },
  {
   "cell_type": "markdown",
   "id": "6aad9b98",
   "metadata": {},
   "source": [
    "## gensim.models 를 통한 LDAModel"
   ]
  },
  {
   "cell_type": "markdown",
   "id": "c438c779",
   "metadata": {},
   "source": [
    "### ldamodel이란? \n"
   ]
  },
  {
   "cell_type": "code",
   "execution_count": 100,
   "id": "fcd3041d",
   "metadata": {
    "ExecuteTime": {
     "end_time": "2022-04-07T08:00:02.374046Z",
     "start_time": "2022-04-07T08:00:02.354099Z"
    }
   },
   "outputs": [],
   "source": [
    "ldamodel = gensim.models.ldamodel.LdaModel(corpus, num_topics=3, id2word= dictionary) "
   ]
  },
  {
   "cell_type": "code",
   "execution_count": 101,
   "id": "adf47967",
   "metadata": {
    "ExecuteTime": {
     "end_time": "2022-04-07T08:00:02.795795Z",
     "start_time": "2022-04-07T08:00:02.785821Z"
    }
   },
   "outputs": [
    {
     "data": {
      "text/plain": [
       "[(0,\n",
       "  '0.046*\"data\" + 0.038*\"health\" + 0.037*\"higher\" + 0.022*\"good\" + 0.022*\"brocolli\" + 0.022*\"profession\" + 0.021*\"say\"'),\n",
       " (1,\n",
       "  '0.042*\"drive\" + 0.029*\"data\" + 0.029*\"pressur\" + 0.028*\"mother\" + 0.028*\"brother\" + 0.020*\"may\" + 0.020*\"inform\"'),\n",
       " (2,\n",
       "  '0.059*\"data\" + 0.033*\"brocolli\" + 0.033*\"good\" + 0.032*\"eat\" + 0.031*\"big\" + 0.024*\"brother\" + 0.024*\"mother\"')]"
      ]
     },
     "execution_count": 101,
     "metadata": {},
     "output_type": "execute_result"
    }
   ],
   "source": [
    "# print_topics 함수\n",
    "ldamodel.print_topics(num_words=7)  # topic별 중요 token"
   ]
  },
  {
   "cell_type": "markdown",
   "id": "ff0b452f",
   "metadata": {
    "ExecuteTime": {
     "end_time": "2022-04-07T05:34:59.742241Z",
     "start_time": "2022-04-07T05:34:59.723929Z"
    }
   },
   "source": [
    "## get_documnet_topics 함수로 토픽 예측"
   ]
  },
  {
   "cell_type": "code",
   "execution_count": 102,
   "id": "2d5e745d",
   "metadata": {
    "ExecuteTime": {
     "end_time": "2022-04-07T08:00:03.935194Z",
     "start_time": "2022-04-07T08:00:03.923225Z"
    }
   },
   "outputs": [
    {
     "data": {
      "text/plain": [
       "[(0, 0.0347162), (1, 0.03485127), (2, 0.9304325)]"
      ]
     },
     "execution_count": 102,
     "metadata": {},
     "output_type": "execute_result"
    }
   ],
   "source": [
    "ldamodel.get_document_topics(corpus)[0] # 1번토픽에 가깝다"
   ]
  },
  {
   "cell_type": "code",
   "execution_count": 103,
   "id": "9a212653",
   "metadata": {
    "ExecuteTime": {
     "end_time": "2022-04-07T08:00:04.168975Z",
     "start_time": "2022-04-07T08:00:04.161995Z"
    }
   },
   "outputs": [
    {
     "data": {
      "text/plain": [
       "[(0, 0.03358508), (1, 0.93190616), (2, 0.034508754)]"
      ]
     },
     "execution_count": 103,
     "metadata": {},
     "output_type": "execute_result"
    }
   ],
   "source": [
    "ldamodel.get_document_topics(corpus)[1]"
   ]
  },
  {
   "cell_type": "code",
   "execution_count": 104,
   "id": "898d2105",
   "metadata": {
    "ExecuteTime": {
     "end_time": "2022-04-07T08:00:04.385717Z",
     "start_time": "2022-04-07T08:00:04.369761Z"
    }
   },
   "outputs": [
    {
     "name": "stdout",
     "output_type": "stream",
     "text": [
      "[(0, 0.0347176), (1, 0.034851823), (2, 0.9304306)]\n",
      "[(0, 0.03358509), (1, 0.9319037), (2, 0.034511194)]\n",
      "[(0, 0.03209253), (1, 0.93728864), (2, 0.030618839)]\n",
      "[(0, 0.025936829), (1, 0.9457096), (2, 0.028353598)]\n",
      "[(0, 0.8976828), (1, 0.048891682), (2, 0.053425487)]\n",
      "[(0, 0.020422248), (1, 0.020177756), (2, 0.9594)]\n",
      "[(0, 0.95941156), (1, 0.02020002), (2, 0.020388437)]\n",
      "[(0, 0.03247646), (1, 0.034040645), (2, 0.9334829)]\n",
      "[(0, 0.9639846), (1, 0.016760997), (2, 0.019254401)]\n",
      "[(0, 0.039008338), (1, 0.9208079), (2, 0.040183753)]\n"
     ]
    }
   ],
   "source": [
    "for d in ldamodel.get_document_topics(corpus):\n",
    "    print(d)"
   ]
  },
  {
   "cell_type": "code",
   "execution_count": null,
   "id": "b71ff0a5",
   "metadata": {},
   "outputs": [],
   "source": []
  },
  {
   "cell_type": "markdown",
   "id": "866d6170",
   "metadata": {},
   "source": [
    "## LDA 시각화"
   ]
  },
  {
   "cell_type": "code",
   "execution_count": 119,
   "id": "f6c385db",
   "metadata": {
    "ExecuteTime": {
     "end_time": "2022-04-07T08:22:49.251596Z",
     "start_time": "2022-04-07T08:22:49.235610Z"
    }
   },
   "outputs": [],
   "source": [
    "# !pip install pyLDAvis"
   ]
  },
  {
   "cell_type": "code",
   "execution_count": null,
   "id": "6f4443d8",
   "metadata": {},
   "outputs": [],
   "source": [
    "# https://wikidocs.net/30708\n",
    "\n",
    "# 좌측의 원들은 각각의 20개의 토픽을 나타냅니다. 각 원과의 거리는 각 토픽들이 서로 얼마나 다른지를 보여줍니다. \n",
    "# 만약 두 개의 원이 겹친다면, 이 두 개의 토픽은 유사한 토픽이라는 의미입니다. 위의 그림에서는 10번 토픽을 클릭하였고, \n",
    "# 이에 따라 우측에는 10번 토픽에 대한 정보가 나타납니다. \n",
    "# 한 가지 주의할 점은 LDA 모델의 출력 결과에서는 토픽 번호가 0부터 할당되어 0~19의 숫자가 사용된 것과는 달리 \n",
    "# 위의 LDA 시각화에서는 토픽의 번호가 1부터 시작하므로 각 토픽 번호는 이제 +1이 된 값인 1~20까지의 값을 가집니다."
   ]
  },
  {
   "cell_type": "code",
   "execution_count": 120,
   "id": "e683af3c",
   "metadata": {
    "ExecuteTime": {
     "end_time": "2022-04-07T08:23:34.609984Z",
     "start_time": "2022-04-07T08:23:32.900730Z"
    }
   },
   "outputs": [
    {
     "name": "stderr",
     "output_type": "stream",
     "text": [
      "C:\\Users\\bitcamp\\anaconda3\\lib\\site-packages\\pyLDAvis\\_prepare.py:246: FutureWarning: In a future version of pandas all arguments of DataFrame.drop except for the argument 'labels' will be keyword-only\n",
      "  default_term_info = default_term_info.sort_values(\n"
     ]
    },
    {
     "data": {
      "text/html": [
       "\n",
       "<link rel=\"stylesheet\" type=\"text/css\" href=\"https://cdn.jsdelivr.net/gh/bmabey/pyLDAvis@3.3.1/pyLDAvis/js/ldavis.v1.0.0.css\">\n",
       "\n",
       "\n",
       "<div id=\"ldavis_el325618953723815366663720532\"></div>\n",
       "<script type=\"text/javascript\">\n",
       "\n",
       "var ldavis_el325618953723815366663720532_data = {\"mdsDat\": {\"x\": [0.16295815724126608, 0.13808611410048083, -0.17577675281533844, -0.08821884819173616, -0.07851696587476939, 0.010366677886986262, 0.010367521465838542, 0.01036675966675106, 0.01036733652052131], \"y\": [0.13451417380651695, -0.14589206523967724, 0.014450506382750609, -0.009619643564037932, 0.00169836830014447, 0.001212079649945018, 0.001212244478432688, 0.0012121048534265476, 0.0012122313324989943], \"topics\": [1, 2, 3, 4, 5, 6, 7, 8, 9], \"cluster\": [1, 1, 1, 1, 1, 1, 1, 1, 1], \"Freq\": [34.6742200710351, 23.42438340496679, 20.126855556999608, 10.422856338842132, 7.856635872504572, 0.8737621889129493, 0.8737621889129493, 0.8737621889129493, 0.8737621889129493]}, \"tinfo\": {\"Term\": [\"good\", \"brocolli\", \"data\", \"health\", \"eat\", \"drive\", \"brother\", \"mother\", \"inform\", \"complex\", \"higher\", \"pressur\", \"big\", \"may\", \"veloc\", \"process\", \"volum\", \"varieti\", \"like\", \"concept\", \"associ\", \"fals\", \"key\", \"three\", \"mani\", \"power\", \"discoveri\", \"adequ\", \"set\", \"origin\", \"higher\", \"complex\", \"statist\", \"rate\", \"term\", \"softwar\", \"greater\", \"lead\", \"applic\", \"larg\", \"tradit\", \"offer\", \"deal\", \"mani\", \"case\", \"set\", \"use\", \"discoveri\", \"adequ\", \"refer\", \"power\", \"fals\", \"associ\", \"three\", \"key\", \"origin\", \"concept\", \"data\", \"big\", \"may\", \"varieti\", \"process\", \"veloc\", \"volum\", \"inform\", \"specif\", \"method\", \"analyt\", \"definit\", \"repres\", \"state\", \"valu\", \"character\", \"technolog\", \"2016\", \"asset\", \"requir\", \"high\", \"transform\", \"tool\", \"reveal\", \"meaning\", \"advanc\", \"must\", \"volum\", \"veloc\", \"varieti\", \"process\", \"big\", \"data\", \"like\", \"never\", \"often\", \"better\", \"well\", \"health\", \"brocolli\", \"good\", \"mother\", \"health\", \"time\", \"increas\", \"tension\", \"suggest\", \"caus\", \"expert\", \"basebal\", \"practic\", \"blood\", \"lot\", \"spend\", \"around\", \"say\", \"profession\", \"drive\", \"pressur\", \"may\", \"brocolli\", \"good\", \"mother\", \"brother\", \"like\", \"never\", \"well\", \"perform\", \"better\", \"often\", \"feel\", \"school\", \"seem\", \"data\", \"big\", \"process\", \"inform\", \"eat\", \"advanc\", \"varieti\", \"must\", \"seem\", \"school\", \"perform\", \"better\", \"feel\", \"often\", \"never\", \"well\", \"pressur\", \"brother\", \"mother\", \"drive\", \"like\", \"say\", \"spend\", \"around\", \"basebal\", \"lot\", \"blood\", \"profession\", \"practic\", \"tension\", \"expert\", \"increas\", \"time\", \"caus\", \"suggest\", \"must\", \"meaning\", \"advanc\", \"data\", \"health\", \"brocolli\", \"good\", \"volum\", \"big\", \"may\", \"eat\", \"varieti\", \"process\", \"eat\", \"like\", \"good\", \"brocolli\", \"brother\", \"mother\", \"never\", \"well\", \"often\", \"school\", \"feel\", \"perform\", \"seem\", \"better\", \"profession\", \"say\", \"lot\", \"basebal\", \"around\", \"suggest\", \"spend\", \"expert\", \"caus\", \"tension\", \"blood\", \"practic\", \"increas\", \"time\", \"must\", \"advanc\", \"data\", \"health\", \"process\", \"drive\", \"big\", \"varieti\", \"pressur\", \"inform\", \"may\", \"complex\", \"veloc\", \"concept\", \"associ\", \"volum\", \"origin\", \"higher\", \"like\", \"never\", \"often\", \"feel\", \"well\", \"school\", \"better\", \"perform\", \"seem\", \"say\", \"profession\", \"around\", \"blood\", \"lot\", \"practic\", \"spend\", \"increas\", \"suggest\", \"basebal\", \"tension\", \"caus\", \"time\", \"expert\", \"must\", \"meaning\", \"advanc\", \"tool\", \"reveal\", \"transform\", \"high\", \"technolog\", \"data\", \"health\", \"good\", \"brocolli\", \"mother\", \"drive\", \"brother\", \"big\", \"eat\", \"veloc\", \"may\", \"process\", \"pressur\", \"inform\", \"volum\", \"concept\", \"varieti\", \"higher\", \"key\", \"like\", \"often\", \"better\", \"never\", \"well\", \"feel\", \"perform\", \"school\", \"seem\", \"say\", \"profession\", \"spend\", \"around\", \"lot\", \"basebal\", \"tension\", \"blood\", \"caus\", \"practic\", \"expert\", \"increas\", \"suggest\", \"time\", \"must\", \"meaning\", \"advanc\", \"reveal\", \"tool\", \"transform\", \"technolog\", \"data\", \"health\", \"brocolli\", \"mother\", \"brother\", \"good\", \"drive\", \"big\", \"eat\", \"pressur\", \"may\", \"veloc\", \"process\", \"concept\", \"inform\", \"complex\", \"varieti\", \"volum\", \"higher\", \"like\", \"often\", \"better\", \"school\", \"well\", \"feel\", \"never\", \"perform\", \"seem\", \"say\", \"profession\", \"lot\", \"spend\", \"around\", \"basebal\", \"suggest\", \"expert\", \"blood\", \"tension\", \"time\", \"caus\", \"practic\", \"increas\", \"must\", \"meaning\", \"advanc\", \"reveal\", \"tool\", \"transform\", \"valu\", \"good\", \"data\", \"brocolli\", \"brother\", \"health\", \"mother\", \"drive\", \"big\", \"may\", \"pressur\", \"process\", \"volum\", \"inform\", \"veloc\", \"varieti\", \"complex\", \"eat\", \"associ\", \"like\", \"feel\", \"better\", \"never\", \"often\", \"well\", \"school\", \"seem\", \"perform\", \"spend\", \"profession\", \"around\", \"suggest\", \"say\", \"blood\", \"increas\", \"basebal\", \"lot\", \"expert\", \"caus\", \"practic\", \"tension\", \"time\", \"must\", \"meaning\", \"advanc\", \"tool\", \"transform\", \"reveal\", \"high\", \"data\", \"health\", \"brocolli\", \"mother\", \"good\", \"drive\", \"brother\", \"big\", \"process\", \"may\", \"eat\", \"veloc\", \"complex\", \"varieti\", \"inform\", \"volum\", \"concept\", \"pressur\", \"associ\", \"higher\"], \"Freq\": [2.0, 2.0, 6.0, 2.0, 1.0, 2.0, 2.0, 2.0, 1.0, 1.0, 1.0, 1.0, 2.0, 1.0, 1.0, 1.0, 1.0, 1.0, 0.0, 1.0, 1.0, 1.0, 1.0, 1.0, 1.0, 1.0, 1.0, 1.0, 1.0, 1.0, 1.6505683968202147, 1.6505630026163438, 0.8687302401792414, 0.868726494204331, 0.86872611960684, 0.8687241716998866, 0.8687237971023956, 0.8687205755639726, 0.8687192270130049, 0.8687181781400299, 0.8687174289450479, 0.8687165299110694, 0.8687166797500658, 0.8687146569236143, 0.8687139826481304, 0.8687107611097075, 0.8687111357071985, 0.8687103115927182, 0.8687049173888473, 0.8687064906983096, 0.8687029694818938, 0.8687028196428974, 0.8686975752780228, 0.8687023701259081, 0.8686997479434709, 0.8686965264050479, 0.868677421933005, 4.777982906889627, 1.6505337840120426, 0.8687324128446895, 0.8687136080506394, 0.868710611270711, 0.8687076144907827, 0.8687028196428974, 1.53192629547589, 0.8062970747308502, 0.8062948984006828, 0.8062952526869891, 0.8062952526869891, 0.8062921147225617, 0.8062888249211457, 0.806287357163591, 0.806287357163591, 0.8062872053266026, 0.8062869522649552, 0.8062858387937067, 0.806285231445753, 0.8062828020539382, 0.8062775889840024, 0.8062672134564599, 0.8062633163070904, 0.8062471709739878, 0.8062448934191615, 0.8062266729805504, 0.8062937849294344, 0.8062797653141698, 0.806285130221094, 0.8062675677427663, 0.8062922159472206, 1.531894207259003, 0.08063563291155831, 0.0806389986314684, 0.08063772067014915, 0.08063801801758481, 0.08063796107871415, 0.08066401377531143, 0.08066336214156944, 0.08066035070796568, 0.08065552355704199, 2.108635840350771, 0.7531279149611698, 0.7531210439417586, 0.753119130493315, 0.7531169561200837, 0.7531186956186687, 0.7531175649445885, 0.7531123464488332, 0.7531153035964278, 0.753110954849965, 0.7531079977023704, 0.7531021703821102, 0.7531019094573225, 0.7530971258362135, 0.7530927770897508, 1.430934932362816, 0.753122870415273, 0.7531030401314028, 0.7531035619809784, 0.7531037359308369, 0.7531284368107454, 0.7531193044431735, 0.07532166946202071, 0.07532344701213736, 0.07532353398706662, 0.07532221849126162, 0.07532188689934384, 0.07532153356369374, 0.07532166402608763, 0.07532132156230369, 0.07532152269182758, 0.07534923507866154, 0.07533255763597685, 0.07532852960956571, 0.07532733914022154, 0.0753269966764376, 0.0753264639549959, 0.0753259366694873, 0.0753252789215848, 0.6264239289336855, 0.6264160468152754, 0.6264167224254248, 0.6264141100661803, 0.6264136146187373, 0.626410867137463, 0.6264097861612239, 0.6264099212832538, 0.6264253702353376, 0.6264240190150387, 0.6264220822659438, 0.6264272619437561, 0.06264891816139523, 0.06265254956594847, 0.06265175572402287, 0.06265154178080888, 0.06265181202486866, 0.06265149111004767, 0.06265113078463463, 0.0626504270240623, 0.0626510913740426, 0.06265081549989823, 0.06265022434101748, 0.06264989216602733, 0.06264984712535071, 0.06264939108849983, 0.06264883371012654, 0.06265325895660538, 0.06265146295962479, 0.06265153052063972, 0.06267272778907841, 0.06267243502468031, 0.06266702451340021, 0.06266301589318021, 0.06265531393747659, 0.06265432304259075, 0.06265305064347597, 0.06265269594814751, 0.06265268468797835, 0.06265239755366483, 1.043064767885404, 0.5489919566286792, 1.043049218248301, 1.0430310204197266, 0.5489868639527721, 0.5489694809523428, 0.05490612934111533, 0.054905993536424474, 0.05490573041483594, 0.0549058662195268, 0.05490516597658958, 0.05490475007472384, 0.0549046482212057, 0.05490432144116833, 0.05490985972621722, 0.05490890909338124, 0.054907270949297815, 0.0549071988030558, 0.0549068465596389, 0.054907067242261534, 0.05490664285260262, 0.0549068465596389, 0.05490649431622199, 0.05490619299956416, 0.05490596382914835, 0.05490612509721873, 0.0549055521711792, 0.05490507685476121, 0.0549097111898366, 0.054908259777203094, 0.05492409375537735, 0.05492337653685378, 0.054911489382507464, 0.05491132387054049, 0.05491120504143599, 0.05490963904359458, 0.05490882421544946, 0.0549085313865848, 0.054908174899271314, 0.054907453436851154, 0.05490744494905797, 0.054907415241781846, 0.054907372802815956, 0.0549073176321603, 0.054907287924884175, 0.05490693992536386, 0.011923831380365207, 0.011924207074558121, 0.011924115510898038, 0.011924018283506406, 0.011923983357161837, 0.011923965422011925, 0.011923919168204254, 0.01192388329790443, 0.01192377757491547, 0.011924770615847492, 0.011924550674272243, 0.011924278815157773, 0.011924204242692346, 0.011924184419631915, 0.011924243888813205, 0.011924106071345454, 0.011924186307542432, 0.011924132502092694, 0.011924110791121746, 0.011924092855971832, 0.011924037162611577, 0.011923970141788219, 0.011923840819917793, 0.01192497734204912, 0.011924603535766723, 0.011924541234719657, 0.011924198578960793, 0.011923975805519769, 0.01192385686715719, 0.011923724713420989, 0.011923729433197281, 0.011928100889999751, 0.011928019709847512, 0.011927441065274005, 0.01192705970734954, 0.011926585841809735, 0.01192603834775976, 0.011925738169987533, 0.011925011324438428, 0.011924954687122914, 0.011924938639883517, 0.011924744185100252, 0.011924740409279218, 0.01192451386001716, 0.011924477989717332, 0.011924348667846908, 0.011924343004115356, 0.011924246720678981, 0.01192421462620019, 0.011924210850379155, 0.011923850259470379, 0.011924221233886999, 0.011924059817537783, 0.01192390972865167, 0.01192390312096486, 0.011923885185814945, 0.011923871970441327, 0.011923838932007276, 0.011923758695810298, 0.011924972622272826, 0.011924883890478521, 0.011924517635838194, 0.011924470438075263, 0.01192443267986492, 0.011924335452473287, 0.011924285422844582, 0.011924192915229243, 0.011924174036124072, 0.011924156100974158, 0.011924139109779503, 0.011924126838361141, 0.011924065481269334, 0.01192410229552442, 0.011924498756733022, 0.011924408137028199, 0.011924383594191474, 0.011924344892025873, 0.011924191027318724, 0.011923812501260036, 0.011923814389170553, 0.011927547732218224, 0.011927052155707472, 0.011926701004351281, 0.011926055338954415, 0.011925867491857957, 0.011925572977817281, 0.011925484246022976, 0.011925320941763242, 0.011925234097879453, 0.011924969790407051, 0.011924933920107225, 0.011924908433315243, 0.011924878226746968, 0.011924851795999728, 0.011924508196285606, 0.011924424184267594, 0.011924397753520354, 0.011924370378817856, 0.011924343948070616, 0.011923864418799258, 0.01192408152850873, 0.011924046602164163, 0.011924028667014249, 0.011924012619774854, 0.011923956926414597, 0.011923933327533134, 0.01192377568700495, 0.011923616158566252, 0.011924508196285606, 0.01192445911061216, 0.011924494036956728, 0.01192437981837044, 0.011924367546952079, 0.011924306189860272, 0.011924282590978807, 0.011924259936052601, 0.011924223121797518, 0.011924145717466313, 0.011924156100974158, 0.011924038106566837, 0.011924041882387871, 0.01192399468462494, 0.011924947135480845, 0.011924622414871895, 0.011924313741502341, 0.01192408813619554, 0.011924003180222268, 0.011923871026486068, 0.011923753976034004, 0.011927963072531998, 0.011927604369533738, 0.01192750997400788, 0.011926296047545352, 0.011926265840977078, 0.01192611764000148, 0.011925809910587185, 0.011925199171534884, 0.011925111383695838, 0.011925042474961962, 0.01192495091130188, 0.011924726249950338, 0.011924689435695253, 0.011924622414871895, 0.011924614863229826, 0.011924424184267594, 0.011924297694262944, 0.01192426088000786, 0.011923991852759165, 0.011924085304329764, 0.011924063593358817, 0.011923957870369857, 0.01192386913857555, 0.011923910672606928, 0.011923838932007276, 0.01192388235394917, 0.011923756807899779, 0.011924675276366375, 0.011924642237932326, 0.011924600703900948, 0.011924365659041562, 0.01192426654373941, 0.011924343004115356, 0.011924308077770788, 0.01192422784157381, 0.011924200466871312, 0.011924229729484327, 0.011924097575748126, 0.011923972029698734, 0.011923947486862013, 0.011923837988052018, 0.011924872563015419, 0.011924381706280959, 0.011924278815157773, 0.011924195747095018, 0.011924044714253646, 0.0119239956285802, 0.011923859699022965, 0.01192800083074234, 0.011927765785882956, 0.011927080474365229, 0.011926380059563365, 0.011926362124413451, 0.01192589958633675, 0.01192570041177719, 0.011925551266846334, 0.011924995277199032, 0.011924988669512223, 0.01192493769592826, 0.011924922592644122, 0.011924556338003794, 0.011924493093001469, 0.011924481765538366, 0.01192443362382018, 0.011924383594191474, 0.011924367546952079, 0.01192428070306829, 0.011924235393215878], \"Total\": [2.0, 2.0, 6.0, 2.0, 1.0, 2.0, 2.0, 2.0, 1.0, 1.0, 1.0, 1.0, 2.0, 1.0, 1.0, 1.0, 1.0, 1.0, 0.0, 1.0, 1.0, 1.0, 1.0, 1.0, 1.0, 1.0, 1.0, 1.0, 1.0, 1.0, 1.9717850782325739, 1.9717817738816905, 1.1899315889793096, 1.1899288579545975, 1.1899296487543563, 1.1899271936861324, 1.1899278999420462, 1.189925110751416, 1.1899236083010207, 1.1899233720982911, 1.1899226536269933, 1.1899223121432398, 1.189922765394763, 1.1899204898361504, 1.1899207760254922, 1.189917808735544, 1.1899186934234374, 1.1899177017374256, 1.1899130713567903, 1.1899166744498493, 1.189912427870912, 1.1899123738456276, 1.1899093912709597, 1.1899162600873896, 1.189913856975598, 1.189913163978893, 1.1898992835224924, 6.550534424594242, 2.6974251683838495, 1.8677427940964975, 1.9155847511032247, 1.9155701603837425, 1.915570014609398, 1.9155819482374767, 1.8593962229738796, 1.1337402959974485, 1.1337390553289162, 1.1337397313931181, 1.1337399013281932, 1.133736975472686, 1.1337352818096742, 1.1337335772080575, 1.1337341904167217, 1.1337344827081128, 1.133734202517485, 1.1337331312203547, 1.133733566159688, 1.1337313552757344, 1.1337266389809308, 1.133725598034945, 1.1337244115164813, 1.133712939159085, 1.1337142305994956, 1.133699858307278, 1.9155819482374767, 1.915570014609398, 1.9155847511032247, 1.9155701603837425, 2.6974251683838495, 6.550534424594242, 0.9021746356080826, 0.9718543157266163, 0.9718523948204998, 0.9718564324713015, 0.971856022541395, 2.4415047192656116, 2.0740802752744116, 2.0740813999807037, 2.143776838482261, 2.4415047192656116, 1.0858975630274135, 1.0858939017821043, 1.0858925473700038, 1.0858901016621685, 1.0858935350569925, 1.0858928436919633, 1.0858894336172822, 1.085894249878136, 1.0858900030055672, 1.08588844478591, 1.0858845531058436, 1.0858844293227645, 1.0858825284309517, 1.0858822448133076, 2.3275088714072885, 1.64968604994126, 1.8677427940964975, 2.0740802752744116, 2.0740813999807037, 2.143776838482261, 2.1437817527409266, 0.9021746356080826, 0.9718543157266163, 0.971856022541395, 0.9718590880052564, 0.9718564324713015, 0.9718523948204998, 0.9718559501205809, 0.9718572879484606, 0.9718616480759064, 6.550534424594242, 2.6974251683838495, 1.9155701603837425, 1.8593962229738796, 1.3962758298073201, 1.1337142305994956, 1.9155847511032247, 1.133699858307278, 0.9718616480759064, 0.9718572879484606, 0.9718590880052564, 0.9718564324713015, 0.9718559501205809, 0.9718523948204998, 0.9718543157266163, 0.971856022541395, 1.64968604994126, 2.1437817527409266, 2.143776838482261, 2.3275088714072885, 0.9021746356080826, 1.0858825284309517, 1.0858845531058436, 1.0858844293227645, 1.0858894336172822, 1.08588844478591, 1.0858900030055672, 1.0858822448133076, 1.085894249878136, 1.0858925473700038, 1.0858928436919633, 1.0858939017821043, 1.0858975630274135, 1.0858935350569925, 1.0858901016621685, 1.133699858307278, 1.133712939159085, 1.1337142305994956, 6.550534424594242, 2.4415047192656116, 2.0740802752744116, 2.0740813999807037, 1.9155819482374767, 2.6974251683838495, 1.8677427940964975, 1.3962758298073201, 1.9155847511032247, 1.9155701603837425, 1.3962758298073201, 0.9021746356080826, 2.0740813999807037, 2.0740802752744116, 2.1437817527409266, 2.143776838482261, 0.9718543157266163, 0.971856022541395, 0.9718523948204998, 0.9718572879484606, 0.9718559501205809, 0.9718590880052564, 0.9718616480759064, 0.9718564324713015, 1.0858822448133076, 1.0858825284309517, 1.08588844478591, 1.0858894336172822, 1.0858844293227645, 1.0858901016621685, 1.0858845531058436, 1.0858928436919633, 1.0858935350569925, 1.0858925473700038, 1.0858900030055672, 1.085894249878136, 1.0858939017821043, 1.0858975630274135, 1.133699858307278, 1.1337142305994956, 6.550534424594242, 2.4415047192656116, 1.9155701603837425, 2.3275088714072885, 2.6974251683838495, 1.9155847511032247, 1.64968604994126, 1.8593962229738796, 1.8677427940964975, 1.9717817738816905, 1.915570014609398, 1.1898992835224924, 1.1899093912709597, 1.9155819482374767, 1.189913163978893, 1.9717850782325739, 0.9021746356080826, 0.9718543157266163, 0.9718523948204998, 0.9718559501205809, 0.971856022541395, 0.9718572879484606, 0.9718564324713015, 0.9718590880052564, 0.9718616480759064, 1.0858825284309517, 1.0858822448133076, 1.0858844293227645, 1.0858900030055672, 1.08588844478591, 1.085894249878136, 1.0858845531058436, 1.0858939017821043, 1.0858901016621685, 1.0858894336172822, 1.0858925473700038, 1.0858935350569925, 1.0858975630274135, 1.0858928436919633, 1.133699858307278, 1.133712939159085, 1.1337142305994956, 1.133725598034945, 1.1337244115164813, 1.1337266389809308, 1.1337313552757344, 1.1337344827081128, 6.550534424594242, 2.4415047192656116, 2.0740813999807037, 2.0740802752744116, 2.143776838482261, 2.3275088714072885, 2.1437817527409266, 2.6974251683838495, 1.3962758298073201, 1.915570014609398, 1.8677427940964975, 1.9155701603837425, 1.64968604994126, 1.8593962229738796, 1.9155819482374767, 1.1898992835224924, 1.9155847511032247, 1.9717850782325739, 1.189913856975598, 0.9021746356080826, 0.9718523948204998, 0.9718564324713015, 0.9718543157266163, 0.971856022541395, 0.9718559501205809, 0.9718590880052564, 0.9718572879484606, 0.9718616480759064, 1.0858825284309517, 1.0858822448133076, 1.0858845531058436, 1.0858844293227645, 1.08588844478591, 1.0858894336172822, 1.0858925473700038, 1.0858900030055672, 1.0858935350569925, 1.085894249878136, 1.0858928436919633, 1.0858939017821043, 1.0858901016621685, 1.0858975630274135, 1.133699858307278, 1.133712939159085, 1.1337142305994956, 1.1337244115164813, 1.133725598034945, 1.1337266389809308, 1.1337344827081128, 6.550534424594242, 2.4415047192656116, 2.0740802752744116, 2.143776838482261, 2.1437817527409266, 2.0740813999807037, 2.3275088714072885, 2.6974251683838495, 1.3962758298073201, 1.64968604994126, 1.8677427940964975, 1.915570014609398, 1.9155701603837425, 1.1898992835224924, 1.8593962229738796, 1.9717817738816905, 1.9155847511032247, 1.9155819482374767, 1.9717850782325739, 0.9021746356080826, 0.9718523948204998, 0.9718564324713015, 0.9718572879484606, 0.971856022541395, 0.9718559501205809, 0.9718543157266163, 0.9718590880052564, 0.9718616480759064, 1.0858825284309517, 1.0858822448133076, 1.08588844478591, 1.0858845531058436, 1.0858844293227645, 1.0858894336172822, 1.0858901016621685, 1.0858928436919633, 1.0858900030055672, 1.0858925473700038, 1.0858975630274135, 1.0858935350569925, 1.085894249878136, 1.0858939017821043, 1.133699858307278, 1.133712939159085, 1.1337142305994956, 1.1337244115164813, 1.133725598034945, 1.1337266389809308, 1.1337335772080575, 2.0740813999807037, 6.550534424594242, 2.0740802752744116, 2.1437817527409266, 2.4415047192656116, 2.143776838482261, 2.3275088714072885, 2.6974251683838495, 1.8677427940964975, 1.64968604994126, 1.9155701603837425, 1.9155819482374767, 1.8593962229738796, 1.915570014609398, 1.9155847511032247, 1.9717817738816905, 1.3962758298073201, 1.1899093912709597, 0.9021746356080826, 0.9718559501205809, 0.9718564324713015, 0.9718543157266163, 0.9718523948204998, 0.971856022541395, 0.9718572879484606, 0.9718616480759064, 0.9718590880052564, 1.0858845531058436, 1.0858822448133076, 1.0858844293227645, 1.0858901016621685, 1.0858825284309517, 1.0858900030055672, 1.0858939017821043, 1.0858894336172822, 1.08588844478591, 1.0858928436919633, 1.0858935350569925, 1.085894249878136, 1.0858925473700038, 1.0858975630274135, 1.133699858307278, 1.133712939159085, 1.1337142305994956, 1.133725598034945, 1.1337266389809308, 1.1337244115164813, 1.1337313552757344, 6.550534424594242, 2.4415047192656116, 2.0740802752744116, 2.143776838482261, 2.0740813999807037, 2.3275088714072885, 2.1437817527409266, 2.6974251683838495, 1.9155701603837425, 1.8677427940964975, 1.3962758298073201, 1.915570014609398, 1.9717817738816905, 1.9155847511032247, 1.8593962229738796, 1.9155819482374767, 1.1898992835224924, 1.64968604994126, 1.1899093912709597, 1.9717850782325739], \"Category\": [\"Default\", \"Default\", \"Default\", \"Default\", \"Default\", \"Default\", \"Default\", \"Default\", \"Default\", \"Default\", \"Default\", \"Default\", \"Default\", \"Default\", \"Default\", \"Default\", \"Default\", \"Default\", \"Default\", \"Default\", \"Default\", \"Default\", \"Default\", \"Default\", \"Default\", \"Default\", \"Default\", \"Default\", \"Default\", \"Default\", \"Topic1\", \"Topic1\", \"Topic1\", \"Topic1\", \"Topic1\", \"Topic1\", \"Topic1\", \"Topic1\", \"Topic1\", \"Topic1\", \"Topic1\", \"Topic1\", \"Topic1\", \"Topic1\", \"Topic1\", \"Topic1\", \"Topic1\", \"Topic1\", \"Topic1\", \"Topic1\", \"Topic1\", \"Topic1\", \"Topic1\", \"Topic1\", \"Topic1\", \"Topic1\", \"Topic1\", \"Topic1\", \"Topic1\", \"Topic1\", \"Topic1\", \"Topic1\", \"Topic1\", \"Topic1\", \"Topic2\", \"Topic2\", \"Topic2\", \"Topic2\", \"Topic2\", \"Topic2\", \"Topic2\", \"Topic2\", \"Topic2\", \"Topic2\", \"Topic2\", \"Topic2\", \"Topic2\", \"Topic2\", \"Topic2\", \"Topic2\", \"Topic2\", \"Topic2\", \"Topic2\", \"Topic2\", \"Topic2\", \"Topic2\", \"Topic2\", \"Topic2\", \"Topic2\", \"Topic2\", \"Topic2\", \"Topic2\", \"Topic2\", \"Topic2\", \"Topic2\", \"Topic2\", \"Topic2\", \"Topic2\", \"Topic2\", \"Topic3\", \"Topic3\", \"Topic3\", \"Topic3\", \"Topic3\", \"Topic3\", \"Topic3\", \"Topic3\", \"Topic3\", \"Topic3\", \"Topic3\", \"Topic3\", \"Topic3\", \"Topic3\", \"Topic3\", \"Topic3\", \"Topic3\", \"Topic3\", \"Topic3\", \"Topic3\", \"Topic3\", \"Topic3\", \"Topic3\", \"Topic3\", \"Topic3\", \"Topic3\", \"Topic3\", \"Topic3\", \"Topic3\", \"Topic3\", \"Topic3\", \"Topic3\", \"Topic3\", \"Topic3\", \"Topic3\", \"Topic3\", \"Topic3\", \"Topic3\", \"Topic3\", \"Topic4\", \"Topic4\", \"Topic4\", \"Topic4\", \"Topic4\", \"Topic4\", \"Topic4\", \"Topic4\", \"Topic4\", \"Topic4\", \"Topic4\", \"Topic4\", \"Topic4\", \"Topic4\", \"Topic4\", \"Topic4\", \"Topic4\", \"Topic4\", \"Topic4\", \"Topic4\", \"Topic4\", \"Topic4\", \"Topic4\", \"Topic4\", \"Topic4\", \"Topic4\", \"Topic4\", \"Topic4\", \"Topic4\", \"Topic4\", \"Topic4\", \"Topic4\", \"Topic4\", \"Topic4\", \"Topic4\", \"Topic4\", \"Topic4\", \"Topic4\", \"Topic4\", \"Topic4\", \"Topic5\", \"Topic5\", \"Topic5\", \"Topic5\", \"Topic5\", \"Topic5\", \"Topic5\", \"Topic5\", \"Topic5\", \"Topic5\", \"Topic5\", \"Topic5\", \"Topic5\", \"Topic5\", \"Topic5\", \"Topic5\", \"Topic5\", \"Topic5\", \"Topic5\", \"Topic5\", \"Topic5\", \"Topic5\", \"Topic5\", \"Topic5\", \"Topic5\", \"Topic5\", \"Topic5\", \"Topic5\", \"Topic5\", \"Topic5\", \"Topic5\", \"Topic5\", \"Topic5\", \"Topic5\", \"Topic5\", \"Topic5\", \"Topic5\", \"Topic5\", \"Topic5\", \"Topic5\", \"Topic5\", \"Topic5\", \"Topic5\", \"Topic5\", \"Topic5\", \"Topic5\", \"Topic6\", \"Topic6\", \"Topic6\", \"Topic6\", \"Topic6\", \"Topic6\", \"Topic6\", \"Topic6\", \"Topic6\", \"Topic6\", \"Topic6\", \"Topic6\", \"Topic6\", \"Topic6\", \"Topic6\", \"Topic6\", \"Topic6\", \"Topic6\", \"Topic6\", \"Topic6\", \"Topic6\", \"Topic6\", \"Topic6\", \"Topic6\", \"Topic6\", \"Topic6\", \"Topic6\", \"Topic6\", \"Topic6\", \"Topic6\", \"Topic6\", \"Topic6\", \"Topic6\", \"Topic6\", \"Topic6\", \"Topic6\", \"Topic6\", \"Topic6\", \"Topic6\", \"Topic6\", \"Topic6\", \"Topic6\", \"Topic6\", \"Topic6\", \"Topic6\", \"Topic6\", \"Topic6\", \"Topic6\", \"Topic6\", \"Topic6\", \"Topic7\", \"Topic7\", \"Topic7\", \"Topic7\", \"Topic7\", \"Topic7\", \"Topic7\", \"Topic7\", \"Topic7\", \"Topic7\", \"Topic7\", \"Topic7\", \"Topic7\", \"Topic7\", \"Topic7\", \"Topic7\", \"Topic7\", \"Topic7\", \"Topic7\", \"Topic7\", \"Topic7\", \"Topic7\", \"Topic7\", \"Topic7\", \"Topic7\", \"Topic7\", \"Topic7\", \"Topic7\", \"Topic7\", \"Topic7\", \"Topic7\", \"Topic7\", \"Topic7\", \"Topic7\", \"Topic7\", \"Topic7\", \"Topic7\", \"Topic7\", \"Topic7\", \"Topic7\", \"Topic7\", \"Topic7\", \"Topic7\", \"Topic7\", \"Topic7\", \"Topic7\", \"Topic7\", \"Topic7\", \"Topic7\", \"Topic8\", \"Topic8\", \"Topic8\", \"Topic8\", \"Topic8\", \"Topic8\", \"Topic8\", \"Topic8\", \"Topic8\", \"Topic8\", \"Topic8\", \"Topic8\", \"Topic8\", \"Topic8\", \"Topic8\", \"Topic8\", \"Topic8\", \"Topic8\", \"Topic8\", \"Topic8\", \"Topic8\", \"Topic8\", \"Topic8\", \"Topic8\", \"Topic8\", \"Topic8\", \"Topic8\", \"Topic8\", \"Topic8\", \"Topic8\", \"Topic8\", \"Topic8\", \"Topic8\", \"Topic8\", \"Topic8\", \"Topic8\", \"Topic8\", \"Topic8\", \"Topic8\", \"Topic8\", \"Topic8\", \"Topic8\", \"Topic8\", \"Topic8\", \"Topic8\", \"Topic8\", \"Topic8\", \"Topic8\", \"Topic9\", \"Topic9\", \"Topic9\", \"Topic9\", \"Topic9\", \"Topic9\", \"Topic9\", \"Topic9\", \"Topic9\", \"Topic9\", \"Topic9\", \"Topic9\", \"Topic9\", \"Topic9\", \"Topic9\", \"Topic9\", \"Topic9\", \"Topic9\", \"Topic9\", \"Topic9\", \"Topic9\", \"Topic9\", \"Topic9\", \"Topic9\", \"Topic9\", \"Topic9\", \"Topic9\", \"Topic9\", \"Topic9\", \"Topic9\", \"Topic9\", \"Topic9\", \"Topic9\", \"Topic9\", \"Topic9\", \"Topic9\", \"Topic9\", \"Topic9\", \"Topic9\", \"Topic9\", \"Topic9\", \"Topic9\", \"Topic9\", \"Topic9\", \"Topic9\", \"Topic9\", \"Topic9\", \"Topic9\", \"Topic9\", \"Topic9\"], \"logprob\": [30.0, 29.0, 28.0, 27.0, 26.0, 25.0, 24.0, 23.0, 22.0, 21.0, 20.0, 19.0, 18.0, 17.0, 16.0, 15.0, 14.0, 13.0, 12.0, 11.0, 10.0, 9.0, 8.0, 7.0, 6.0, 5.0, 4.0, 3.0, 2.0, 1.0, -3.1933, -3.1933, -3.8351, -3.8351, -3.8351, -3.8351, -3.8351, -3.8352, -3.8352, -3.8352, -3.8352, -3.8352, -3.8352, -3.8352, -3.8352, -3.8352, -3.8352, -3.8352, -3.8352, -3.8352, -3.8352, -3.8352, -3.8352, -3.8352, -3.8352, -3.8352, -3.8352, -2.1304, -3.1933, -3.8351, -3.8352, -3.8352, -3.8352, -3.8352, -2.8757, -3.5175, -3.5175, -3.5175, -3.5175, -3.5175, -3.5175, -3.5175, -3.5175, -3.5175, -3.5175, -3.5175, -3.5175, -3.5175, -3.5175, -3.5175, -3.5175, -3.5176, -3.5176, -3.5176, -3.5175, -3.5175, -3.5175, -3.5175, -3.5175, -2.8757, -5.82, -5.82, -5.82, -5.82, -5.82, -5.8197, -5.8197, -5.8197, -5.8198, -2.4044, -3.434, -3.434, -3.434, -3.434, -3.434, -3.434, -3.434, -3.434, -3.434, -3.434, -3.434, -3.434, -3.434, -3.434, -2.7921, -3.434, -3.434, -3.434, -3.434, -3.434, -3.434, -5.7365, -5.7364, -5.7364, -5.7365, -5.7365, -5.7365, -5.7365, -5.7365, -5.7365, -5.7361, -5.7363, -5.7364, -5.7364, -5.7364, -5.7364, -5.7364, -5.7364, -2.9601, -2.9602, -2.9602, -2.9602, -2.9602, -2.9602, -2.9602, -2.9602, -2.9601, -2.9601, -2.9602, -2.9601, -5.2626, -5.2626, -5.2626, -5.2626, -5.2626, -5.2626, -5.2626, -5.2626, -5.2626, -5.2626, -5.2626, -5.2626, -5.2626, -5.2626, -5.2626, -5.2626, -5.2626, -5.2626, -5.2623, -5.2623, -5.2623, -5.2624, -5.2625, -5.2625, -5.2626, -5.2626, -5.2626, -5.2626, -2.1676, -2.8095, -2.1676, -2.1676, -2.8095, -2.8095, -5.1119, -5.1119, -5.1119, -5.1119, -5.1119, -5.1119, -5.1119, -5.1119, -5.1118, -5.1119, -5.1119, -5.1119, -5.1119, -5.1119, -5.1119, -5.1119, -5.1119, -5.1119, -5.1119, -5.1119, -5.1119, -5.1119, -5.1118, -5.1119, -5.1116, -5.1116, -5.1118, -5.1118, -5.1118, -5.1118, -5.1119, -5.1119, -5.1119, -5.1119, -5.1119, -5.1119, -5.1119, -5.1119, -5.1119, -5.1119, -4.4427, -4.4427, -4.4427, -4.4427, -4.4427, -4.4427, -4.4427, -4.4427, -4.4427, -4.4426, -4.4426, -4.4427, -4.4427, -4.4427, -4.4427, -4.4427, -4.4427, -4.4427, -4.4427, -4.4427, -4.4427, -4.4427, -4.4427, -4.4426, -4.4426, -4.4426, -4.4427, -4.4427, -4.4427, -4.4427, -4.4427, -4.4423, -4.4423, -4.4424, -4.4424, -4.4425, -4.4425, -4.4425, -4.4426, -4.4426, -4.4426, -4.4426, -4.4426, -4.4426, -4.4426, -4.4426, -4.4426, -4.4427, -4.4427, -4.4427, -4.4427, -4.4427, -4.4427, -4.4427, -4.4427, -4.4427, -4.4427, -4.4427, -4.4427, -4.4426, -4.4426, -4.4426, -4.4426, -4.4426, -4.4426, -4.4427, -4.4427, -4.4427, -4.4427, -4.4427, -4.4427, -4.4427, -4.4427, -4.4426, -4.4426, -4.4426, -4.4426, -4.4427, -4.4427, -4.4427, -4.4424, -4.4424, -4.4424, -4.4425, -4.4425, -4.4425, -4.4426, -4.4426, -4.4426, -4.4426, -4.4426, -4.4426, -4.4426, -4.4426, -4.4426, -4.4426, -4.4426, -4.4426, -4.4426, -4.4427, -4.4427, -4.4427, -4.4427, -4.4427, -4.4427, -4.4427, -4.4427, -4.4427, -4.4426, -4.4426, -4.4426, -4.4426, -4.4426, -4.4426, -4.4427, -4.4427, -4.4427, -4.4427, -4.4427, -4.4427, -4.4427, -4.4427, -4.4426, -4.4426, -4.4426, -4.4427, -4.4427, -4.4427, -4.4427, -4.4423, -4.4424, -4.4424, -4.4425, -4.4425, -4.4425, -4.4425, -4.4426, -4.4426, -4.4426, -4.4426, -4.4426, -4.4426, -4.4426, -4.4426, -4.4426, -4.4427, -4.4427, -4.4427, -4.4427, -4.4427, -4.4427, -4.4427, -4.4427, -4.4427, -4.4427, -4.4427, -4.4426, -4.4426, -4.4426, -4.4426, -4.4427, -4.4426, -4.4426, -4.4427, -4.4427, -4.4427, -4.4427, -4.4427, -4.4427, -4.4427, -4.4426, -4.4426, -4.4427, -4.4427, -4.4427, -4.4427, -4.4427, -4.4423, -4.4424, -4.4424, -4.4425, -4.4425, -4.4425, -4.4425, -4.4425, -4.4426, -4.4426, -4.4426, -4.4426, -4.4426, -4.4426, -4.4426, -4.4426, -4.4426, -4.4426, -4.4427, -4.4427], \"loglift\": [30.0, 29.0, 28.0, 27.0, 26.0, 25.0, 24.0, 23.0, 22.0, 21.0, 20.0, 19.0, 18.0, 17.0, 16.0, 15.0, 14.0, 13.0, 12.0, 11.0, 10.0, 9.0, 8.0, 7.0, 6.0, 5.0, 4.0, 3.0, 2.0, 1.0, 0.8814, 0.8814, 0.7446, 0.7446, 0.7446, 0.7446, 0.7446, 0.7445, 0.7445, 0.7445, 0.7445, 0.7445, 0.7445, 0.7445, 0.7445, 0.7445, 0.7445, 0.7445, 0.7445, 0.7445, 0.7445, 0.7445, 0.7445, 0.7445, 0.7445, 0.7445, 0.7445, 0.7436, 0.568, 0.2937, 0.2684, 0.2684, 0.2684, 0.2684, 1.2577, 1.1106, 1.1106, 1.1106, 1.1106, 1.1106, 1.1106, 1.1106, 1.1106, 1.1106, 1.1106, 1.1106, 1.1106, 1.1106, 1.1106, 1.1105, 1.1105, 1.1105, 1.1105, 1.1105, 0.5861, 0.5861, 0.5861, 0.586, 0.2438, -0.0016, -0.9635, -1.0378, -1.0378, -1.0378, -1.0378, -1.9587, -1.7956, -1.7956, -1.8287, 1.4565, 1.2372, 1.2372, 1.2372, 1.2372, 1.2372, 1.2372, 1.2372, 1.2372, 1.2372, 1.2372, 1.2372, 1.2372, 1.2372, 1.2372, 1.1166, 0.819, 0.6948, 0.59, 0.59, 0.557, 0.557, -0.8799, -0.9543, -0.9543, -0.9543, -0.9543, -0.9543, -0.9543, -0.9543, -0.9543, -2.8621, -1.975, -1.6328, -1.603, -1.3166, -1.1083, -1.6328, -1.1083, 1.822, 1.822, 1.822, 1.822, 1.822, 1.822, 1.822, 1.822, 1.2929, 1.0309, 1.0309, 0.9486, -0.4061, -0.5914, -0.5914, -0.5914, -0.5914, -0.5914, -0.5914, -0.5914, -0.5914, -0.5914, -0.5914, -0.5914, -0.5914, -0.5914, -0.5914, -0.6345, -0.6345, -0.6345, -2.3882, -1.4013, -1.2383, -1.2383, -1.159, -1.5013, -1.1337, -0.8428, -1.159, -1.159, 2.2522, 2.0471, 1.8564, 1.8564, 1.1816, 1.1815, -0.3298, -0.3298, -0.3298, -0.3298, -0.3298, -0.3298, -0.3298, -0.3298, -0.4406, -0.4407, -0.4407, -0.4407, -0.4407, -0.4407, -0.4407, -0.4407, -0.4407, -0.4407, -0.4407, -0.4407, -0.4407, -0.4407, -0.4837, -0.4838, -2.2375, -1.2506, -1.0082, -1.203, -1.3505, -1.0083, -0.8589, -0.9785, -0.983, -1.0372, -1.0083, -0.5322, -0.5322, -1.0083, -0.5322, -1.0372, 0.4138, 0.3395, 0.3395, 0.3395, 0.3395, 0.3395, 0.3395, 0.3394, 0.3394, 0.2286, 0.2286, 0.2285, 0.2285, 0.2285, 0.2285, 0.2285, 0.2285, 0.2285, 0.2285, 0.2285, 0.2285, 0.2285, 0.2285, 0.1855, 0.1855, 0.1855, 0.1854, 0.1854, 0.1854, 0.1854, 0.1854, -1.5683, -0.5814, -0.4183, -0.4183, -0.4514, -0.5337, -0.4515, -0.6813, -0.0228, -0.339, -0.3138, -0.339, -0.1896, -0.3093, -0.3391, 0.1371, -0.3391, -0.368, 0.1371, 0.4138, 0.3395, 0.3395, 0.3395, 0.3395, 0.3395, 0.3394, 0.3394, 0.3394, 0.2286, 0.2286, 0.2286, 0.2286, 0.2286, 0.2285, 0.2285, 0.2285, 0.2285, 0.2285, 0.2285, 0.2285, 0.2285, 0.2285, 0.1855, 0.1855, 0.1854, 0.1854, 0.1854, 0.1854, 0.1854, -1.5683, -0.5814, -0.4184, -0.4515, -0.4515, -0.4185, -0.5338, -0.6813, -0.0228, -0.1896, -0.3137, -0.339, -0.339, 0.1371, -0.3093, -0.368, -0.3391, -0.3391, -0.368, 0.4139, 0.3395, 0.3395, 0.3395, 0.3395, 0.3395, 0.3395, 0.3394, 0.3394, 0.2286, 0.2286, 0.2286, 0.2286, 0.2286, 0.2285, 0.2285, 0.2285, 0.2285, 0.2285, 0.2285, 0.2285, 0.2285, 0.2285, 0.1855, 0.1855, 0.1854, 0.1854, 0.1854, 0.1854, 0.1854, -0.4183, -1.5683, -0.4183, -0.4515, -0.5815, -0.4515, -0.5337, -0.6813, -0.3137, -0.1896, -0.339, -0.339, -0.3093, -0.339, -0.3391, -0.368, -0.0229, 0.1371, 0.4139, 0.3395, 0.3395, 0.3395, 0.3395, 0.3395, 0.3394, 0.3394, 0.3394, 0.2286, 0.2286, 0.2286, 0.2285, 0.2285, 0.2285, 0.2285, 0.2285, 0.2285, 0.2285, 0.2285, 0.2285, 0.2285, 0.2285, 0.1855, 0.1854, 0.1854, 0.1854, 0.1854, 0.1854, 0.1854, -1.5683, -0.5814, -0.4183, -0.4515, -0.4184, -0.5337, -0.4515, -0.6813, -0.339, -0.3137, -0.0228, -0.339, -0.368, -0.3391, -0.3093, -0.3391, 0.1371, -0.1896, 0.1371, -0.368]}, \"token.table\": {\"Topic\": [2, 1, 2, 2, 1, 3, 2, 1, 3, 4, 1, 2, 3, 3, 5, 3, 4, 5, 1, 3, 2, 1, 1, 1, 2, 1, 2, 1, 3, 4, 5, 3, 1, 4, 3, 5, 1, 3, 2, 1, 3, 2, 1, 1, 1, 5, 3, 1, 1, 3, 2, 2, 3, 4, 5, 2, 4, 1, 4, 1, 4, 1, 3, 3, 4, 1, 2, 3, 1, 1, 2, 2, 2, 3, 4, 4, 1, 1, 2, 3, 2, 1, 3, 2, 3, 1, 1, 3, 2, 1, 2, 1, 2, 1, 2, 1, 2, 1, 2, 4], \"Freq\": [0.8820409561425201, 0.8403975248878952, 0.8820564944935119, 0.8820366547189968, 0.8403900830472684, 0.9209083149149415, 0.8820417896084559, 0.8404001240227924, 0.9209040709318168, 1.028958564854207, 0.7414478160290509, 0.3707239080145254, 0.9209035880541881, 0.4821414156053795, 0.4821414156053795, 0.46646539402691184, 0.46646539402691184, 0.46646539402691184, 0.8403920833621755, 0.9209005926603252, 0.8820409655568686, 1.0143110289850983, 0.8404072629068838, 0.7632965000881914, 0.30531860003527656, 0.8403906783548635, 0.8820365225114553, 0.8403942546109512, 0.42964390481371917, 0.42964390481371917, 0.7161908690620217, 0.9209011789782744, 0.8403980175179977, 1.028959075546049, 0.48214115415590897, 0.48214115415590897, 0.8403870520631574, 0.8191669605298108, 0.8820431712914831, 1.0143093291854692, 0.9209002816563014, 1.0756179749581516, 0.8403969700308376, 0.8403902498667764, 0.8403890219347655, 1.108432847179284, 0.9209049095251736, 0.8403922854859807, 0.5354056260641286, 0.5354056260641286, 0.8820574992658506, 0.8820371806895932, 0.46646646332272834, 0.46646646332272834, 0.46646646332272834, 0.8820676766186558, 1.028960805974649, 0.8403909984668163, 1.0289628397578823, 0.8403974594718732, 1.0289557533001032, 0.8403979793616252, 0.9208999864510052, 0.6061759448324163, 0.6061759448324163, 0.5220377831526003, 0.5220377831526003, 0.9209101675402446, 0.8403863754669573, 0.8403949801462728, 0.8820387987990536, 0.8820414512267767, 0.8820485735703528, 0.9209099270111217, 1.0289576591136618, 1.0289530428325904, 0.8403941790421992, 0.8403875508569731, 0.882036215463449, 0.9209082099379746, 0.8820401164580455, 0.8403844466872018, 0.9209035043871412, 0.8820407381553167, 0.920901430276842, 0.8403858169655839, 0.8403952727955479, 0.9208971767208534, 0.8820476504484613, 0.8403907572915839, 0.8820468405848404, 0.8403935542208899, 0.8820414426311771, 0.5220338068697192, 0.5220338068697192, 0.5220378228795303, 0.5220378228795303, 0.5220345707058359, 0.5220345707058359, 1.0289589988700267], \"Term\": [\"2016\", \"adequ\", \"advanc\", \"analyt\", \"applic\", \"around\", \"asset\", \"associ\", \"basebal\", \"better\", \"big\", \"big\", \"blood\", \"brocolli\", \"brocolli\", \"brother\", \"brother\", \"brother\", \"case\", \"caus\", \"character\", \"complex\", \"concept\", \"data\", \"data\", \"deal\", \"definit\", \"discoveri\", \"drive\", \"drive\", \"eat\", \"expert\", \"fals\", \"feel\", \"good\", \"good\", \"greater\", \"health\", \"high\", \"higher\", \"increas\", \"inform\", \"key\", \"larg\", \"lead\", \"like\", \"lot\", \"mani\", \"may\", \"may\", \"meaning\", \"method\", \"mother\", \"mother\", \"mother\", \"must\", \"never\", \"offer\", \"often\", \"origin\", \"perform\", \"power\", \"practic\", \"pressur\", \"pressur\", \"process\", \"process\", \"profession\", \"rate\", \"refer\", \"repres\", \"requir\", \"reveal\", \"say\", \"school\", \"seem\", \"set\", \"softwar\", \"specif\", \"spend\", \"state\", \"statist\", \"suggest\", \"technolog\", \"tension\", \"term\", \"three\", \"time\", \"tool\", \"tradit\", \"transform\", \"use\", \"valu\", \"varieti\", \"varieti\", \"veloc\", \"veloc\", \"volum\", \"volum\", \"well\"]}, \"R\": 30, \"lambda.step\": 0.01, \"plot.opts\": {\"xlab\": \"PC1\", \"ylab\": \"PC2\"}, \"topic.order\": [5, 1, 2, 3, 7, 4, 6, 8, 9]};\n",
       "\n",
       "function LDAvis_load_lib(url, callback){\n",
       "  var s = document.createElement('script');\n",
       "  s.src = url;\n",
       "  s.async = true;\n",
       "  s.onreadystatechange = s.onload = callback;\n",
       "  s.onerror = function(){console.warn(\"failed to load library \" + url);};\n",
       "  document.getElementsByTagName(\"head\")[0].appendChild(s);\n",
       "}\n",
       "\n",
       "if(typeof(LDAvis) !== \"undefined\"){\n",
       "   // already loaded: just create the visualization\n",
       "   !function(LDAvis){\n",
       "       new LDAvis(\"#\" + \"ldavis_el325618953723815366663720532\", ldavis_el325618953723815366663720532_data);\n",
       "   }(LDAvis);\n",
       "}else if(typeof define === \"function\" && define.amd){\n",
       "   // require.js is available: use it to load d3/LDAvis\n",
       "   require.config({paths: {d3: \"https://d3js.org/d3.v5\"}});\n",
       "   require([\"d3\"], function(d3){\n",
       "      window.d3 = d3;\n",
       "      LDAvis_load_lib(\"https://cdn.jsdelivr.net/gh/bmabey/pyLDAvis@3.3.1/pyLDAvis/js/ldavis.v3.0.0.js\", function(){\n",
       "        new LDAvis(\"#\" + \"ldavis_el325618953723815366663720532\", ldavis_el325618953723815366663720532_data);\n",
       "      });\n",
       "    });\n",
       "}else{\n",
       "    // require.js not available: dynamically load d3 & LDAvis\n",
       "    LDAvis_load_lib(\"https://d3js.org/d3.v5.js\", function(){\n",
       "         LDAvis_load_lib(\"https://cdn.jsdelivr.net/gh/bmabey/pyLDAvis@3.3.1/pyLDAvis/js/ldavis.v3.0.0.js\", function(){\n",
       "                 new LDAvis(\"#\" + \"ldavis_el325618953723815366663720532\", ldavis_el325618953723815366663720532_data);\n",
       "            })\n",
       "         });\n",
       "}\n",
       "</script>"
      ],
      "text/plain": [
       "<IPython.core.display.HTML object>"
      ]
     },
     "execution_count": 120,
     "metadata": {},
     "output_type": "execute_result"
    }
   ],
   "source": [
    "import pyLDAvis.gensim_models\n",
    "\n",
    "pyLDAvis.enable_notebook()\n",
    "vis = pyLDAvis.gensim_models.prepare(ldamodel, corpus, dictionary)\n",
    "pyLDAvis.display(vis)"
   ]
  },
  {
   "cell_type": "code",
   "execution_count": null,
   "id": "4cf369b1",
   "metadata": {},
   "outputs": [],
   "source": []
  },
  {
   "cell_type": "code",
   "execution_count": null,
   "id": "57f9455e",
   "metadata": {},
   "outputs": [],
   "source": []
  },
  {
   "cell_type": "markdown",
   "id": "e532622b",
   "metadata": {
    "ExecuteTime": {
     "end_time": "2022-04-07T05:35:03.111776Z",
     "start_time": "2022-04-07T05:35:03.099808Z"
    }
   },
   "source": [
    "## LDA Topic modeling : perplexity\n",
    "\n",
    "* perplexity(혼란)<br>\n",
    " 문헌 내 주제 출현확률과 주제 내 용어출현 확률\n",
    "* 값이 낮을수록 분류가 잘됬다는 뜻"
   ]
  },
  {
   "cell_type": "code",
   "execution_count": 109,
   "id": "39e9bdc5",
   "metadata": {
    "ExecuteTime": {
     "end_time": "2022-04-07T08:04:32.870253Z",
     "start_time": "2022-04-07T08:04:32.850306Z"
    }
   },
   "outputs": [
    {
     "name": "stdout",
     "output_type": "stream",
     "text": [
      "-5.471927107408129\n"
     ]
    }
   ],
   "source": [
    "print(ldamodel.log_perplexity(corpus))"
   ]
  },
  {
   "cell_type": "code",
   "execution_count": 112,
   "id": "bbeea6ae",
   "metadata": {
    "ExecuteTime": {
     "end_time": "2022-04-07T08:10:02.634382Z",
     "start_time": "2022-04-07T08:10:02.547419Z"
    }
   },
   "outputs": [],
   "source": [
    "# 주제 개수에 따른 perplexity값들\n",
    "\n",
    "perplexity_values = []\n",
    "\n",
    "for i in range(2,10):\n",
    "    ldamodel = gensim.models.ldamodel.LdaModel(corpus, num_topics=i,id2word=dictionary) # ldamodel객체\n",
    "    perplexity_values.append(ldamodel.log_perplexity(corpus))"
   ]
  },
  {
   "cell_type": "code",
   "execution_count": 113,
   "id": "3e347dd6",
   "metadata": {
    "ExecuteTime": {
     "end_time": "2022-04-07T08:10:05.792292Z",
     "start_time": "2022-04-07T08:10:05.700376Z"
    },
    "scrolled": true
   },
   "outputs": [
    {
     "data": {
      "text/plain": [
       "[<matplotlib.lines.Line2D at 0x1b94aacf250>]"
      ]
     },
     "execution_count": 113,
     "metadata": {},
     "output_type": "execute_result"
    },
    {
     "data": {
      "image/png": "[encoded data removed]",
      "text/plain": [
       "<Figure size 432x288 with 1 Axes>"
      ]
     },
     "metadata": {
      "needs_background": "light"
     },
     "output_type": "display_data"
    }
   ],
   "source": [
    "plt.plot(range(2,10),perplexity_values)"
   ]
  },
  {
   "cell_type": "code",
   "execution_count": null,
   "id": "04c6dd80",
   "metadata": {},
   "outputs": [],
   "source": []
  },
  {
   "cell_type": "markdown",
   "id": "89aedc07",
   "metadata": {
    "ExecuteTime": {
     "end_time": "2022-04-07T05:35:03.111776Z",
     "start_time": "2022-04-07T05:35:03.099808Z"
    }
   },
   "source": [
    "## LDA Topic modeling : coherence\n",
    "* coherence<br>\n",
    " 해당 주제가 의미론적으로 일치하는 단어들끼리 모여있는 지 \n",
    "* 높을수록 분류가 잘됨"
   ]
  },
  {
   "cell_type": "code",
   "execution_count": null,
   "id": "c870f90f",
   "metadata": {},
   "outputs": [],
   "source": [
    "from gensim.models import CoherenceModel"
   ]
  },
  {
   "cell_type": "code",
   "execution_count": 117,
   "id": "392d8dd4",
   "metadata": {
    "ExecuteTime": {
     "end_time": "2022-04-07T08:11:09.444702Z",
     "start_time": "2022-04-07T08:11:09.426842Z"
    }
   },
   "outputs": [
    {
     "data": {
      "text/plain": [
       "[['brocolli',\n",
       "  'good',\n",
       "  'eat',\n",
       "  'brother',\n",
       "  'like',\n",
       "  'eat',\n",
       "  'good',\n",
       "  'brocolli',\n",
       "  'mother'],\n",
       " ['mother',\n",
       "  'spend',\n",
       "  'lot',\n",
       "  'time',\n",
       "  'drive',\n",
       "  'brother',\n",
       "  'around',\n",
       "  'basebal',\n",
       "  'practic']]"
      ]
     },
     "execution_count": 117,
     "metadata": {},
     "output_type": "execute_result"
    }
   ],
   "source": [
    "texts[:2]"
   ]
  },
  {
   "cell_type": "code",
   "execution_count": 77,
   "id": "b4a0832f",
   "metadata": {
    "ExecuteTime": {
     "end_time": "2022-04-07T05:41:40.349550Z",
     "start_time": "2022-04-07T05:41:30.476823Z"
    }
   },
   "outputs": [],
   "source": [
    "coherence_values = []\n",
    "\n",
    "for i in range(2,10):\n",
    "    ldamodel = gensim.models.ldamodel.LdaModel(corpus,num_topics=i,id2word=dictionary)\n",
    "    coherence_model_lda = CoherenceModel(model=ldamodel, texts= texts, dictionary= dictionary,topn=10) # \n",
    "    coherence_lda = coherence_model_lda.get_coherence()\n",
    "    coherence_values.append(coherence_lda)"
   ]
  },
  {
   "cell_type": "code",
   "execution_count": 78,
   "id": "226f5d53",
   "metadata": {
    "ExecuteTime": {
     "end_time": "2022-04-07T05:41:45.816852Z",
     "start_time": "2022-04-07T05:41:45.692812Z"
    }
   },
   "outputs": [
    {
     "data": {
      "text/plain": [
       "[<matplotlib.lines.Line2D at 0x1b944f7d790>]"
      ]
     },
     "execution_count": 78,
     "metadata": {},
     "output_type": "execute_result"
    },
    {
     "data": {
      "image/png": "[encoded data removed]",
      "text/plain": [
       "<Figure size 432x288 with 1 Axes>"
      ]
     },
     "metadata": {
      "needs_background": "light"
     },
     "output_type": "display_data"
    }
   ],
   "source": [
    "plt.plot(range(2,10), coherence_values)"
   ]
  },
  {
   "cell_type": "code",
   "execution_count": null,
   "id": "de88d1dd",
   "metadata": {},
   "outputs": [],
   "source": []
  },
  {
   "cell_type": "code",
   "execution_count": null,
   "id": "fa7f3ffe",
   "metadata": {},
   "outputs": [],
   "source": []
  },
  {
   "cell_type": "code",
   "execution_count": null,
   "id": "d0a5c12c",
   "metadata": {},
   "outputs": [],
   "source": []
  },
  {
   "cell_type": "code",
   "execution_count": null,
   "id": "8c9a766a",
   "metadata": {},
   "outputs": [],
   "source": []
  },
  {
   "cell_type": "code",
   "execution_count": null,
   "id": "1cfeff86",
   "metadata": {},
   "outputs": [],
   "source": []
  },
  {
   "cell_type": "code",
   "execution_count": null,
   "id": "58118fe6",
   "metadata": {},
   "outputs": [],
   "source": []
  }
 ],
 "metadata": {
  "kernelspec": {
   "display_name": "Python 3 (ipykernel)",
   "language": "python",
   "name": "python3"
  },
  "language_info": {
   "codemirror_mode": {
    "name": "ipython",
    "version": 3
   },
   "file_extension": ".py",
   "mimetype": "text/x-python",
   "name": "python",
   "nbconvert_exporter": "python",
   "pygments_lexer": "ipython3",
   "version": "3.9.7"
  },
  "toc": {
   "base_numbering": 1,
   "nav_menu": {},
   "number_sections": true,
   "sideBar": true,
   "skip_h1_title": false,
   "title_cell": "Table of Contents",
   "title_sidebar": "Contents",
   "toc_cell": false,
   "toc_position": {},
   "toc_section_display": true,
   "toc_window_display": true
  },
  "varInspector": {
   "cols": {
    "lenName": 16,
    "lenType": 16,
    "lenVar": 40
   },
   "kernels_config": {
    "python": {
     "delete_cmd_postfix": "",
     "delete_cmd_prefix": "del ",
     "library": "var_list.py",
     "varRefreshCmd": "print(var_dic_list())"
    },
    "r": {
     "delete_cmd_postfix": ") ",
     "delete_cmd_prefix": "rm(",
     "library": "var_list.r",
     "varRefreshCmd": "cat(var_dic_list()) "
    }
   },
   "types_to_exclude": [
    "module",
    "function",
    "builtin_function_or_method",
    "instance",
    "_Feature"
   ],
   "window_display": false
  }
 },
 "nbformat": 4,
 "nbformat_minor": 5
}
