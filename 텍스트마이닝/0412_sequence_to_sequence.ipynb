{
 "cells": [
  {
   "cell_type": "markdown",
   "id": "44a33e17",
   "metadata": {
    "ExecuteTime": {
     "end_time": "2022-04-12T06:52:37.419499Z",
     "start_time": "2022-04-12T06:52:37.407531Z"
    }
   },
   "source": [
    "# Senquence-to-Sequence"
   ]
  },
  {
   "cell_type": "code",
   "execution_count": 2,
   "id": "3a58a457",
   "metadata": {
    "ExecuteTime": {
     "end_time": "2022-04-12T06:28:54.368628Z",
     "start_time": "2022-04-12T06:28:54.350465Z"
    }
   },
   "outputs": [],
   "source": [
    "import os\n",
    "import shutil\n",
    "import zipfile\n",
    "\n",
    "import pandas as pd\n",
    "import tensorflow as tf\n",
    "import urllib3\n",
    "from tensorflow.keras.preprocessing.sequence import pad_sequences\n",
    "from tensorflow.keras.utils import to_categorical"
   ]
  },
  {
   "cell_type": "code",
   "execution_count": 6,
   "id": "a1725313",
   "metadata": {
    "ExecuteTime": {
     "end_time": "2022-04-12T06:38:38.239036Z",
     "start_time": "2022-04-12T06:38:37.808382Z"
    },
    "scrolled": true
   },
   "outputs": [
    {
     "ename": "BadZipFile",
     "evalue": "File is not a zip file",
     "output_type": "error",
     "traceback": [
      "\u001b[1;31m---------------------------------------------------------------------------\u001b[0m",
      "\u001b[1;31mBadZipFile\u001b[0m                                Traceback (most recent call last)",
      "\u001b[1;32m~\\AppData\\Local\\Temp/ipykernel_14396/1316996837.py\u001b[0m in \u001b[0;36m<module>\u001b[1;34m\u001b[0m\n\u001b[0;32m      8\u001b[0m     \u001b[0mshutil\u001b[0m\u001b[1;33m.\u001b[0m\u001b[0mcopyfileobj\u001b[0m\u001b[1;33m(\u001b[0m\u001b[0mr\u001b[0m\u001b[1;33m,\u001b[0m \u001b[0mout_file\u001b[0m\u001b[1;33m)\u001b[0m\u001b[1;33m\u001b[0m\u001b[1;33m\u001b[0m\u001b[0m\n\u001b[0;32m      9\u001b[0m \u001b[1;33m\u001b[0m\u001b[0m\n\u001b[1;32m---> 10\u001b[1;33m \u001b[1;32mwith\u001b[0m \u001b[0mzipfile\u001b[0m\u001b[1;33m.\u001b[0m\u001b[0mZipFile\u001b[0m\u001b[1;33m(\u001b[0m\u001b[0mzipfilename\u001b[0m\u001b[1;33m,\u001b[0m \u001b[1;34m'r'\u001b[0m\u001b[1;33m)\u001b[0m \u001b[1;32mas\u001b[0m \u001b[0mzip_ref\u001b[0m\u001b[1;33m:\u001b[0m\u001b[1;33m\u001b[0m\u001b[1;33m\u001b[0m\u001b[0m\n\u001b[0m\u001b[0;32m     11\u001b[0m     \u001b[0mzip_ref\u001b[0m\u001b[1;33m.\u001b[0m\u001b[0mextractall\u001b[0m\u001b[1;33m(\u001b[0m\u001b[0mpath\u001b[0m\u001b[1;33m)\u001b[0m\u001b[1;33m\u001b[0m\u001b[1;33m\u001b[0m\u001b[0m\n",
      "\u001b[1;32m~\\anaconda3\\lib\\zipfile.py\u001b[0m in \u001b[0;36m__init__\u001b[1;34m(self, file, mode, compression, allowZip64, compresslevel, strict_timestamps)\u001b[0m\n\u001b[0;32m   1255\u001b[0m         \u001b[1;32mtry\u001b[0m\u001b[1;33m:\u001b[0m\u001b[1;33m\u001b[0m\u001b[1;33m\u001b[0m\u001b[0m\n\u001b[0;32m   1256\u001b[0m             \u001b[1;32mif\u001b[0m \u001b[0mmode\u001b[0m \u001b[1;33m==\u001b[0m \u001b[1;34m'r'\u001b[0m\u001b[1;33m:\u001b[0m\u001b[1;33m\u001b[0m\u001b[1;33m\u001b[0m\u001b[0m\n\u001b[1;32m-> 1257\u001b[1;33m                 \u001b[0mself\u001b[0m\u001b[1;33m.\u001b[0m\u001b[0m_RealGetContents\u001b[0m\u001b[1;33m(\u001b[0m\u001b[1;33m)\u001b[0m\u001b[1;33m\u001b[0m\u001b[1;33m\u001b[0m\u001b[0m\n\u001b[0m\u001b[0;32m   1258\u001b[0m             \u001b[1;32melif\u001b[0m \u001b[0mmode\u001b[0m \u001b[1;32min\u001b[0m \u001b[1;33m(\u001b[0m\u001b[1;34m'w'\u001b[0m\u001b[1;33m,\u001b[0m \u001b[1;34m'x'\u001b[0m\u001b[1;33m)\u001b[0m\u001b[1;33m:\u001b[0m\u001b[1;33m\u001b[0m\u001b[1;33m\u001b[0m\u001b[0m\n\u001b[0;32m   1259\u001b[0m                 \u001b[1;31m# set the modified flag so central directory gets written\u001b[0m\u001b[1;33m\u001b[0m\u001b[1;33m\u001b[0m\u001b[0m\n",
      "\u001b[1;32m~\\anaconda3\\lib\\zipfile.py\u001b[0m in \u001b[0;36m_RealGetContents\u001b[1;34m(self)\u001b[0m\n\u001b[0;32m   1322\u001b[0m             \u001b[1;32mraise\u001b[0m \u001b[0mBadZipFile\u001b[0m\u001b[1;33m(\u001b[0m\u001b[1;34m\"File is not a zip file\"\u001b[0m\u001b[1;33m)\u001b[0m\u001b[1;33m\u001b[0m\u001b[1;33m\u001b[0m\u001b[0m\n\u001b[0;32m   1323\u001b[0m         \u001b[1;32mif\u001b[0m \u001b[1;32mnot\u001b[0m \u001b[0mendrec\u001b[0m\u001b[1;33m:\u001b[0m\u001b[1;33m\u001b[0m\u001b[1;33m\u001b[0m\u001b[0m\n\u001b[1;32m-> 1324\u001b[1;33m             \u001b[1;32mraise\u001b[0m \u001b[0mBadZipFile\u001b[0m\u001b[1;33m(\u001b[0m\u001b[1;34m\"File is not a zip file\"\u001b[0m\u001b[1;33m)\u001b[0m\u001b[1;33m\u001b[0m\u001b[1;33m\u001b[0m\u001b[0m\n\u001b[0m\u001b[0;32m   1325\u001b[0m         \u001b[1;32mif\u001b[0m \u001b[0mself\u001b[0m\u001b[1;33m.\u001b[0m\u001b[0mdebug\u001b[0m \u001b[1;33m>\u001b[0m \u001b[1;36m1\u001b[0m\u001b[1;33m:\u001b[0m\u001b[1;33m\u001b[0m\u001b[1;33m\u001b[0m\u001b[0m\n\u001b[0;32m   1326\u001b[0m             \u001b[0mprint\u001b[0m\u001b[1;33m(\u001b[0m\u001b[0mendrec\u001b[0m\u001b[1;33m)\u001b[0m\u001b[1;33m\u001b[0m\u001b[1;33m\u001b[0m\u001b[0m\n",
      "\u001b[1;31mBadZipFile\u001b[0m: File is not a zip file"
     ]
    }
   ],
   "source": [
    "urllib = urllib3.PoolManager()\n",
    "url = 'http://www.manythings.org/anki/fra-eng.zip'\n",
    "filename = 'fra-eng.zip'\n",
    "path = os.getcwd()\n",
    "zipfilepath = os.path.join(path, filename)\n",
    "\n",
    "with urllib.request('GET',url,preload_content=False) as r, open(zipfilepath, 'wb') as out_file:\n",
    "    shutil.copyfileobj(r, out_file)\n",
    "    \n",
    "with zipfile.ZipFile(zipfilepath, 'r') as zip_ref:\n",
    "    zip_ref.extractall(path)"
   ]
  },
  {
   "cell_type": "code",
   "execution_count": 9,
   "id": "bc335bed",
   "metadata": {
    "ExecuteTime": {
     "end_time": "2022-04-12T06:41:22.521273Z",
     "start_time": "2022-04-12T06:41:22.048819Z"
    }
   },
   "outputs": [],
   "source": [
    "urllib = urllib3.PoolManager()\n",
    "url = 'http://www.manythings.org/anki/fra-eng.zip'\n",
    "filename = 'fra-eng.zip'\n",
    "path = os.getcwd()\n",
    "zipfilename = os.path.join(path, filename)\n",
    "\n",
    "with urllib.request('GET', url, preload_content=False) as r, open(zipfilename, 'wb') as out_file:\n",
    "  shutil.copyfileobj(r, out_file)\n",
    "\n",
    "with zipfile.ZipFile(zipfilename, 'r') as zip_ref:\n",
    "  zip_ref.extractall(path)"
   ]
  },
  {
   "cell_type": "code",
   "execution_count": 10,
   "id": "e5cad6d5",
   "metadata": {
    "ExecuteTime": {
     "end_time": "2022-04-12T06:42:52.176360Z",
     "start_time": "2022-04-12T06:42:51.744593Z"
    }
   },
   "outputs": [
    {
     "name": "stdout",
     "output_type": "stream",
     "text": [
      "전체 샘플의 개수 : 192341\n"
     ]
    }
   ],
   "source": [
    "lines = pd.read_csv('fra.txt', names=['src', 'tar', 'lic'], sep='\\t')\n",
    "del lines['lic']\n",
    "print('전체 샘플의 개수 :',len(lines))"
   ]
  },
  {
   "cell_type": "code",
   "execution_count": 13,
   "id": "463c7c34",
   "metadata": {
    "ExecuteTime": {
     "end_time": "2022-04-12T06:45:01.564202Z",
     "start_time": "2022-04-12T06:45:01.552264Z"
    }
   },
   "outputs": [
    {
     "data": {
      "text/html": [
       "<div>\n",
       "<style scoped>\n",
       "    .dataframe tbody tr th:only-of-type {\n",
       "        vertical-align: middle;\n",
       "    }\n",
       "\n",
       "    .dataframe tbody tr th {\n",
       "        vertical-align: top;\n",
       "    }\n",
       "\n",
       "    .dataframe thead th {\n",
       "        text-align: right;\n",
       "    }\n",
       "</style>\n",
       "<table border=\"1\" class=\"dataframe\">\n",
       "  <thead>\n",
       "    <tr style=\"text-align: right;\">\n",
       "      <th></th>\n",
       "      <th>src</th>\n",
       "      <th>tar</th>\n",
       "    </tr>\n",
       "  </thead>\n",
       "  <tbody>\n",
       "    <tr>\n",
       "      <th>37097</th>\n",
       "      <td>She called for help.</td>\n",
       "      <td>Elle a appelé à l'aide.</td>\n",
       "    </tr>\n",
       "    <tr>\n",
       "      <th>7033</th>\n",
       "      <td>I am very sad.</td>\n",
       "      <td>Je suis très triste.</td>\n",
       "    </tr>\n",
       "    <tr>\n",
       "      <th>16988</th>\n",
       "      <td>You've been had.</td>\n",
       "      <td>Vous vous êtes fait avoir.</td>\n",
       "    </tr>\n",
       "    <tr>\n",
       "      <th>36655</th>\n",
       "      <td>Jesus answered them.</td>\n",
       "      <td>Jésus leur répondit.</td>\n",
       "    </tr>\n",
       "    <tr>\n",
       "      <th>48108</th>\n",
       "      <td>How's that your fault?</td>\n",
       "      <td>En quoi est-ce que c'est ta faute ?</td>\n",
       "    </tr>\n",
       "    <tr>\n",
       "      <th>44137</th>\n",
       "      <td>That's not happening!</td>\n",
       "      <td>Cela n'arrivera pas !</td>\n",
       "    </tr>\n",
       "    <tr>\n",
       "      <th>42116</th>\n",
       "      <td>I still don't get it.</td>\n",
       "      <td>Je ne capte toujours pas.</td>\n",
       "    </tr>\n",
       "    <tr>\n",
       "      <th>29907</th>\n",
       "      <td>I'll stay involved.</td>\n",
       "      <td>Je resterai impliqué.</td>\n",
       "    </tr>\n",
       "    <tr>\n",
       "      <th>20752</th>\n",
       "      <td>Tom kept texting.</td>\n",
       "      <td>Tom continuait à envoyer des SMS.</td>\n",
       "    </tr>\n",
       "    <tr>\n",
       "      <th>55292</th>\n",
       "      <td>I don't regret a thing.</td>\n",
       "      <td>Je ne regrette rien.</td>\n",
       "    </tr>\n",
       "  </tbody>\n",
       "</table>\n",
       "</div>"
      ],
      "text/plain": [
       "                           src                                  tar\n",
       "37097     She called for help.              Elle a appelé à l'aide.\n",
       "7033            I am very sad.                 Je suis très triste.\n",
       "16988         You've been had.           Vous vous êtes fait avoir.\n",
       "36655     Jesus answered them.                 Jésus leur répondit.\n",
       "48108   How's that your fault?  En quoi est-ce que c'est ta faute ?\n",
       "44137    That's not happening!                Cela n'arrivera pas !\n",
       "42116    I still don't get it.            Je ne capte toujours pas.\n",
       "29907      I'll stay involved.                Je resterai impliqué.\n",
       "20752        Tom kept texting.    Tom continuait à envoyer des SMS.\n",
       "55292  I don't regret a thing.                 Je ne regrette rien."
      ]
     },
     "execution_count": 13,
     "metadata": {},
     "output_type": "execute_result"
    }
   ],
   "source": [
    "lines = lines.loc[:, 'src':'tar']\n",
    "lines = lines[0:60000] # 6만개만 저장\n",
    "lines.sample(10)"
   ]
  },
  {
   "cell_type": "code",
   "execution_count": 14,
   "id": "c1a1bf61",
   "metadata": {
    "ExecuteTime": {
     "end_time": "2022-04-12T06:45:34.248722Z",
     "start_time": "2022-04-12T06:45:34.239775Z"
    }
   },
   "outputs": [
    {
     "data": {
      "text/plain": [
       "0                                    Va !\n",
       "1                                 Marche.\n",
       "2                                 Bouge !\n",
       "3                                 Salut !\n",
       "4                                  Salut.\n",
       "                       ...               \n",
       "59995        Pourquoi feraient-elles ça ?\n",
       "59996      Pourquoi demanderais-tu cela ?\n",
       "59997    Pourquoi demanderiez-vous cela ?\n",
       "59998           Pourquoi dirais-tu cela ?\n",
       "59999         Pourquoi diriez-vous cela ?\n",
       "Name: tar, Length: 60000, dtype: object"
      ]
     },
     "execution_count": 14,
     "metadata": {},
     "output_type": "execute_result"
    }
   ],
   "source": [
    "lines['tar']"
   ]
  },
  {
   "cell_type": "code",
   "execution_count": 15,
   "id": "5892b176",
   "metadata": {
    "ExecuteTime": {
     "end_time": "2022-04-12T06:47:08.043881Z",
     "start_time": "2022-04-12T06:47:08.015961Z"
    }
   },
   "outputs": [
    {
     "data": {
      "text/html": [
       "<div>\n",
       "<style scoped>\n",
       "    .dataframe tbody tr th:only-of-type {\n",
       "        vertical-align: middle;\n",
       "    }\n",
       "\n",
       "    .dataframe tbody tr th {\n",
       "        vertical-align: top;\n",
       "    }\n",
       "\n",
       "    .dataframe thead th {\n",
       "        text-align: right;\n",
       "    }\n",
       "</style>\n",
       "<table border=\"1\" class=\"dataframe\">\n",
       "  <thead>\n",
       "    <tr style=\"text-align: right;\">\n",
       "      <th></th>\n",
       "      <th>src</th>\n",
       "      <th>tar</th>\n",
       "    </tr>\n",
       "  </thead>\n",
       "  <tbody>\n",
       "    <tr>\n",
       "      <th>26508</th>\n",
       "      <td>We agree with you.</td>\n",
       "      <td>\\t Nous sommes d’accord avec vous. \\n</td>\n",
       "    </tr>\n",
       "    <tr>\n",
       "      <th>2619</th>\n",
       "      <td>Who's that?</td>\n",
       "      <td>\\t C’est qui ? \\n</td>\n",
       "    </tr>\n",
       "    <tr>\n",
       "      <th>57446</th>\n",
       "      <td>Nobody can replace Tom.</td>\n",
       "      <td>\\t Personne ne peut remplacer Tom. \\n</td>\n",
       "    </tr>\n",
       "    <tr>\n",
       "      <th>25074</th>\n",
       "      <td>Please forgive me.</td>\n",
       "      <td>\\t Pardonne-moi s'il te plait. \\n</td>\n",
       "    </tr>\n",
       "    <tr>\n",
       "      <th>31648</th>\n",
       "      <td>They're mad at you.</td>\n",
       "      <td>\\t Elles sont en colère après toi. \\n</td>\n",
       "    </tr>\n",
       "    <tr>\n",
       "      <th>37956</th>\n",
       "      <td>This isn't my money.</td>\n",
       "      <td>\\t Ce n'est pas mon argent. \\n</td>\n",
       "    </tr>\n",
       "    <tr>\n",
       "      <th>26812</th>\n",
       "      <td>We've been warned.</td>\n",
       "      <td>\\t Nous avons été prévenus. \\n</td>\n",
       "    </tr>\n",
       "    <tr>\n",
       "      <th>56552</th>\n",
       "      <td>I'm not busy right now.</td>\n",
       "      <td>\\t Je ne suis pas occupé pour le moment. \\n</td>\n",
       "    </tr>\n",
       "    <tr>\n",
       "      <th>12758</th>\n",
       "      <td>You're too old.</td>\n",
       "      <td>\\t Vous êtes trop vieux. \\n</td>\n",
       "    </tr>\n",
       "    <tr>\n",
       "      <th>41962</th>\n",
       "      <td>I must work tomorrow.</td>\n",
       "      <td>\\t Je dois travailler demain. \\n</td>\n",
       "    </tr>\n",
       "  </tbody>\n",
       "</table>\n",
       "</div>"
      ],
      "text/plain": [
       "                           src                                          tar\n",
       "26508       We agree with you.        \\t Nous sommes d’accord avec vous. \\n\n",
       "2619               Who's that?                            \\t C’est qui ? \\n\n",
       "57446  Nobody can replace Tom.        \\t Personne ne peut remplacer Tom. \\n\n",
       "25074       Please forgive me.            \\t Pardonne-moi s'il te plait. \\n\n",
       "31648      They're mad at you.        \\t Elles sont en colère après toi. \\n\n",
       "37956     This isn't my money.               \\t Ce n'est pas mon argent. \\n\n",
       "26812       We've been warned.               \\t Nous avons été prévenus. \\n\n",
       "56552  I'm not busy right now.  \\t Je ne suis pas occupé pour le moment. \\n\n",
       "12758          You're too old.                  \\t Vous êtes trop vieux. \\n\n",
       "41962    I must work tomorrow.             \\t Je dois travailler demain. \\n"
      ]
     },
     "execution_count": 15,
     "metadata": {},
     "output_type": "execute_result"
    }
   ],
   "source": [
    "lines['tar'] =lines['tar'].apply(lambda x : '\\t '+ x +' \\n') # 문장의 시작 끝 표시\n",
    "lines.sample(10)"
   ]
  },
  {
   "cell_type": "code",
   "execution_count": 16,
   "id": "d0c5e102",
   "metadata": {
    "ExecuteTime": {
     "end_time": "2022-04-12T06:48:11.834025Z",
     "start_time": "2022-04-12T06:48:11.712757Z"
    }
   },
   "outputs": [],
   "source": [
    "# 문자 집합 구축\n",
    "src_vocab = set()\n",
    "for line in lines['src']:  # 1줄씩 읽음\n",
    "    for char in line:  # 1개의 문자씩 읽음\n",
    "        src_vocab.add(char)"
   ]
  },
  {
   "cell_type": "code",
   "execution_count": 18,
   "id": "3884b228",
   "metadata": {
    "ExecuteTime": {
     "end_time": "2022-04-12T06:48:26.950820Z",
     "start_time": "2022-04-12T06:48:26.944836Z"
    },
    "scrolled": true
   },
   "outputs": [
    {
     "data": {
      "text/plain": [
       "{' ',\n",
       " '!',\n",
       " '\"',\n",
       " '$',\n",
       " '%',\n",
       " '&',\n",
       " \"'\",\n",
       " ',',\n",
       " '-',\n",
       " '.',\n",
       " '/',\n",
       " '0',\n",
       " '1',\n",
       " '2',\n",
       " '3',\n",
       " '4',\n",
       " '5',\n",
       " '6',\n",
       " '7',\n",
       " '8',\n",
       " '9',\n",
       " ':',\n",
       " '?',\n",
       " 'A',\n",
       " 'B',\n",
       " 'C',\n",
       " 'D',\n",
       " 'E',\n",
       " 'F',\n",
       " 'G',\n",
       " 'H',\n",
       " 'I',\n",
       " 'J',\n",
       " 'K',\n",
       " 'L',\n",
       " 'M',\n",
       " 'N',\n",
       " 'O',\n",
       " 'P',\n",
       " 'Q',\n",
       " 'R',\n",
       " 'S',\n",
       " 'T',\n",
       " 'U',\n",
       " 'V',\n",
       " 'W',\n",
       " 'X',\n",
       " 'Y',\n",
       " 'Z',\n",
       " 'a',\n",
       " 'b',\n",
       " 'c',\n",
       " 'd',\n",
       " 'e',\n",
       " 'f',\n",
       " 'g',\n",
       " 'h',\n",
       " 'i',\n",
       " 'j',\n",
       " 'k',\n",
       " 'l',\n",
       " 'm',\n",
       " 'n',\n",
       " 'o',\n",
       " 'p',\n",
       " 'q',\n",
       " 'r',\n",
       " 's',\n",
       " 't',\n",
       " 'u',\n",
       " 'v',\n",
       " 'w',\n",
       " 'x',\n",
       " 'y',\n",
       " 'z',\n",
       " '°',\n",
       " 'é',\n",
       " '’',\n",
       " '€'}"
      ]
     },
     "execution_count": 18,
     "metadata": {},
     "output_type": "execute_result"
    }
   ],
   "source": [
    "# 단어 단위보다 char 단위로 했을 시 훨씬 작음\n",
    "src_vocab"
   ]
  },
  {
   "cell_type": "code",
   "execution_count": 19,
   "id": "caf86b93",
   "metadata": {
    "ExecuteTime": {
     "end_time": "2022-04-12T06:50:30.592064Z",
     "start_time": "2022-04-12T06:50:30.432955Z"
    }
   },
   "outputs": [],
   "source": [
    "tar_vocab = set()\n",
    "\n",
    "for line in lines.tar:\n",
    "    for char in line:\n",
    "        tar_vocab.add(char)"
   ]
  },
  {
   "cell_type": "code",
   "execution_count": 20,
   "id": "649a5ac5",
   "metadata": {
    "ExecuteTime": {
     "end_time": "2022-04-12T06:50:36.678607Z",
     "start_time": "2022-04-12T06:50:36.671622Z"
    },
    "scrolled": true
   },
   "outputs": [
    {
     "data": {
      "text/plain": [
       "{'\\t',\n",
       " '\\n',\n",
       " ' ',\n",
       " '!',\n",
       " '\"',\n",
       " '$',\n",
       " '%',\n",
       " '&',\n",
       " \"'\",\n",
       " '(',\n",
       " ')',\n",
       " ',',\n",
       " '-',\n",
       " '.',\n",
       " '0',\n",
       " '1',\n",
       " '2',\n",
       " '3',\n",
       " '4',\n",
       " '5',\n",
       " '6',\n",
       " '7',\n",
       " '8',\n",
       " '9',\n",
       " ':',\n",
       " '?',\n",
       " 'A',\n",
       " 'B',\n",
       " 'C',\n",
       " 'D',\n",
       " 'E',\n",
       " 'F',\n",
       " 'G',\n",
       " 'H',\n",
       " 'I',\n",
       " 'J',\n",
       " 'K',\n",
       " 'L',\n",
       " 'M',\n",
       " 'N',\n",
       " 'O',\n",
       " 'P',\n",
       " 'Q',\n",
       " 'R',\n",
       " 'S',\n",
       " 'T',\n",
       " 'U',\n",
       " 'V',\n",
       " 'W',\n",
       " 'X',\n",
       " 'Y',\n",
       " 'Z',\n",
       " 'a',\n",
       " 'b',\n",
       " 'c',\n",
       " 'd',\n",
       " 'e',\n",
       " 'f',\n",
       " 'g',\n",
       " 'h',\n",
       " 'i',\n",
       " 'j',\n",
       " 'k',\n",
       " 'l',\n",
       " 'm',\n",
       " 'n',\n",
       " 'o',\n",
       " 'p',\n",
       " 'q',\n",
       " 'r',\n",
       " 's',\n",
       " 't',\n",
       " 'u',\n",
       " 'v',\n",
       " 'w',\n",
       " 'x',\n",
       " 'y',\n",
       " 'z',\n",
       " '\\xa0',\n",
       " '«',\n",
       " '»',\n",
       " 'À',\n",
       " 'Ç',\n",
       " 'É',\n",
       " 'Ê',\n",
       " 'Ô',\n",
       " 'à',\n",
       " 'â',\n",
       " 'ç',\n",
       " 'è',\n",
       " 'é',\n",
       " 'ê',\n",
       " 'ë',\n",
       " 'î',\n",
       " 'ï',\n",
       " 'ô',\n",
       " 'ù',\n",
       " 'û',\n",
       " 'œ',\n",
       " '\\u2009',\n",
       " '\\u200b',\n",
       " '‘',\n",
       " '’',\n",
       " '\\u202f'}"
      ]
     },
     "execution_count": 20,
     "metadata": {},
     "output_type": "execute_result"
    }
   ],
   "source": [
    "tar_vocab"
   ]
  },
  {
   "cell_type": "code",
   "execution_count": 21,
   "id": "d262df0a",
   "metadata": {
    "ExecuteTime": {
     "end_time": "2022-04-12T06:51:36.577227Z",
     "start_time": "2022-04-12T06:51:36.561272Z"
    }
   },
   "outputs": [
    {
     "name": "stdout",
     "output_type": "stream",
     "text": [
      "80\n",
      "105\n"
     ]
    }
   ],
   "source": [
    "src_vocab_size = len(src_vocab) +1\n",
    "tar_vocab_size = len(tar_vocab) +1\n",
    "\n",
    "print(src_vocab_size)\n",
    "print(tar_vocab_size)"
   ]
  },
  {
   "cell_type": "code",
   "execution_count": 25,
   "id": "40d3ba9c",
   "metadata": {
    "ExecuteTime": {
     "end_time": "2022-04-12T06:56:33.428431Z",
     "start_time": "2022-04-12T06:56:33.409483Z"
    }
   },
   "outputs": [
    {
     "name": "stdout",
     "output_type": "stream",
     "text": [
      "['q', 'r', 's', 't', 'u', 'v', 'w', 'x', 'y', 'z']\n",
      "['n', 'o', 'p', 'q', 'r', 's', 't', 'u', 'v', 'w']\n"
     ]
    }
   ],
   "source": [
    "# 정렬하여 순서를 정해줘야 인덱스를 사용할 수 있다\n",
    "src_vocab = sorted(list(src_vocab))\n",
    "tar_vocab = sorted(list(tar_vocab))\n",
    "print(src_vocab[65:75])\n",
    "print(tar_vocab[65:75])"
   ]
  },
  {
   "cell_type": "code",
   "execution_count": null,
   "id": "b88b1a00",
   "metadata": {},
   "outputs": [],
   "source": [
    "# 각 문자에 인덱스 부여하기\n",
    "\n",
    "src_to_index = dict"
   ]
  },
  {
   "cell_type": "code",
   "execution_count": null,
   "id": "59c1dcd3",
   "metadata": {},
   "outputs": [],
   "source": []
  },
  {
   "cell_type": "code",
   "execution_count": null,
   "id": "aa0dee34",
   "metadata": {},
   "outputs": [],
   "source": []
  },
  {
   "cell_type": "code",
   "execution_count": null,
   "id": "2966ea5b",
   "metadata": {},
   "outputs": [],
   "source": []
  },
  {
   "cell_type": "code",
   "execution_count": null,
   "id": "fc3fcf09",
   "metadata": {},
   "outputs": [],
   "source": []
  },
  {
   "cell_type": "code",
   "execution_count": null,
   "id": "0a0c1626",
   "metadata": {},
   "outputs": [],
   "source": []
  },
  {
   "cell_type": "code",
   "execution_count": null,
   "id": "95759190",
   "metadata": {},
   "outputs": [],
   "source": []
  },
  {
   "cell_type": "code",
   "execution_count": null,
   "id": "06491a0e",
   "metadata": {},
   "outputs": [],
   "source": []
  }
 ],
 "metadata": {
  "kernelspec": {
   "display_name": "Python 3 (ipykernel)",
   "language": "python",
   "name": "python3"
  },
  "language_info": {
   "codemirror_mode": {
    "name": "ipython",
    "version": 3
   },
   "file_extension": ".py",
   "mimetype": "text/x-python",
   "name": "python",
   "nbconvert_exporter": "python",
   "pygments_lexer": "ipython3",
   "version": "3.9.7"
  },
  "toc": {
   "base_numbering": 1,
   "nav_menu": {},
   "number_sections": true,
   "sideBar": true,
   "skip_h1_title": false,
   "title_cell": "Table of Contents",
   "title_sidebar": "Contents",
   "toc_cell": false,
   "toc_position": {},
   "toc_section_display": true,
   "toc_window_display": false
  },
  "varInspector": {
   "cols": {
    "lenName": 16,
    "lenType": 16,
    "lenVar": 40
   },
   "kernels_config": {
    "python": {
     "delete_cmd_postfix": "",
     "delete_cmd_prefix": "del ",
     "library": "var_list.py",
     "varRefreshCmd": "print(var_dic_list())"
    },
    "r": {
     "delete_cmd_postfix": ") ",
     "delete_cmd_prefix": "rm(",
     "library": "var_list.r",
     "varRefreshCmd": "cat(var_dic_list()) "
    }
   },
   "types_to_exclude": [
    "module",
    "function",
    "builtin_function_or_method",
    "instance",
    "_Feature"
   ],
   "window_display": false
  }
 },
 "nbformat": 4,
 "nbformat_minor": 5
}
