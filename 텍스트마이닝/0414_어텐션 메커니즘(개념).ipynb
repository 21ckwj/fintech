{
 "cells": [
  {
   "cell_type": "markdown",
   "id": "436c1215",
   "metadata": {},
   "source": [
    "# 어텐션 메커니즘(Attention Mechanism)"
   ]
  },
  {
   "cell_type": "markdown",
   "id": "9c830f4f",
   "metadata": {},
   "source": [
    "## sequence to sequence 모델의 문제점\n",
    "* 첫째, 하나의 고정된 크기의 벡터에 모든 정보를 압축하려고 하다보니 정보손실 발생\n",
    "* 둘째, RNN의 고질적인 기울기 소실(vanishing gradient)문제 존재\n",
    "\n",
    "-> 입력문장이 길어지면 번역품질이 떨어지는 현상발생"
   ]
  },
  {
   "cell_type": "markdown",
   "id": "c7bcf776",
   "metadata": {},
   "source": [
    "## Attention의 아이디어\n",
    "어텐션의 기본 아이디어는 디코더에서 출력 단어를 예측하는 매 시점(time step)마다,<br>\n",
    "인코더에서의 전체 입력 문장을 다시 한 번 참고한다는 점\n"
   ]
  },
  {
   "cell_type": "markdown",
   "id": "1adea4ab",
   "metadata": {},
   "source": [
    "## 닷-프로덕션 어텐션(Dot-Production Attention)"
   ]
  },
  {
   "cell_type": "markdown",
   "id": "d7905891",
   "metadata": {},
   "source": [
    "![](https://wikidocs.net/images/page/22893/dotproductattention1_final.PNG)"
   ]
  },
  {
   "cell_type": "markdown",
   "id": "3ff43477",
   "metadata": {
    "ExecuteTime": {
     "end_time": "2022-04-14T05:26:28.604598Z",
     "start_time": "2022-04-14T05:26:28.586646Z"
    }
   },
   "source": [
    "### 1) 어텐션 스코어(Attention score)를 구한다"
   ]
  },
  {
   "cell_type": "markdown",
   "id": "29d42c45",
   "metadata": {},
   "source": [
    "![](https://wikidocs.net/images/page/22893/dotproductattention2_final.PNG)"
   ]
  },
  {
   "cell_type": "code",
   "execution_count": null,
   "id": "8c1b979d",
   "metadata": {},
   "outputs": [],
   "source": []
  },
  {
   "cell_type": "markdown",
   "id": "9dc80c43",
   "metadata": {},
   "source": [
    "### 2) 소프트맥스(softmax) 함수를 통해 어텐션 분포(Attention Distribution)를 구한다"
   ]
  },
  {
   "cell_type": "markdown",
   "id": "9e941746",
   "metadata": {},
   "source": [
    "![](https://wikidocs.net/images/page/22893/dotproductattention3_final.PNG)"
   ]
  },
  {
   "cell_type": "code",
   "execution_count": null,
   "id": "1a1a1926",
   "metadata": {},
   "outputs": [],
   "source": []
  },
  {
   "cell_type": "code",
   "execution_count": null,
   "id": "b2671fdc",
   "metadata": {},
   "outputs": [],
   "source": []
  },
  {
   "cell_type": "code",
   "execution_count": null,
   "id": "a24e2670",
   "metadata": {},
   "outputs": [],
   "source": []
  }
 ],
 "metadata": {
  "kernelspec": {
   "display_name": "Python 3 (ipykernel)",
   "language": "python",
   "name": "python3"
  },
  "language_info": {
   "codemirror_mode": {
    "name": "ipython",
    "version": 3
   },
   "file_extension": ".py",
   "mimetype": "text/x-python",
   "name": "python",
   "nbconvert_exporter": "python",
   "pygments_lexer": "ipython3",
   "version": "3.9.7"
  },
  "toc": {
   "base_numbering": 1,
   "nav_menu": {},
   "number_sections": true,
   "sideBar": true,
   "skip_h1_title": false,
   "title_cell": "Table of Contents",
   "title_sidebar": "Contents",
   "toc_cell": false,
   "toc_position": {},
   "toc_section_display": true,
   "toc_window_display": true
  },
  "varInspector": {
   "cols": {
    "lenName": 16,
    "lenType": 16,
    "lenVar": 40
   },
   "kernels_config": {
    "python": {
     "delete_cmd_postfix": "",
     "delete_cmd_prefix": "del ",
     "library": "var_list.py",
     "varRefreshCmd": "print(var_dic_list())"
    },
    "r": {
     "delete_cmd_postfix": ") ",
     "delete_cmd_prefix": "rm(",
     "library": "var_list.r",
     "varRefreshCmd": "cat(var_dic_list()) "
    }
   },
   "types_to_exclude": [
    "module",
    "function",
    "builtin_function_or_method",
    "instance",
    "_Feature"
   ],
   "window_display": false
  }
 },
 "nbformat": 4,
 "nbformat_minor": 5
}
