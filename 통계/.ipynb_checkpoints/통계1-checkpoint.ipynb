{
 "cells": [
  {
   "cell_type": "markdown",
   "id": "6df8d972",
   "metadata": {},
   "source": [
    "# 통계"
   ]
  },
  {
   "cell_type": "code",
   "execution_count": 1,
   "id": "80d56706",
   "metadata": {
    "ExecuteTime": {
     "end_time": "2022-05-17T03:59:10.402199Z",
     "start_time": "2022-05-17T03:59:09.429538Z"
    }
   },
   "outputs": [],
   "source": [
    "import pandas as pd\n",
    "import numpy as np\n",
    "import matplotlib.pyplot as plt\n",
    "import seaborn as sns"
   ]
  },
  {
   "cell_type": "code",
   "execution_count": 2,
   "id": "a2cbbda5",
   "metadata": {
    "ExecuteTime": {
     "end_time": "2022-05-17T03:59:16.127570Z",
     "start_time": "2022-05-17T03:59:16.122584Z"
    }
   },
   "outputs": [],
   "source": [
    "import scipy as sp"
   ]
  },
  {
   "cell_type": "code",
   "execution_count": 12,
   "id": "1eef6f82",
   "metadata": {
    "ExecuteTime": {
     "end_time": "2022-05-17T04:13:32.218028Z",
     "start_time": "2022-05-17T04:13:32.202103Z"
    }
   },
   "outputs": [],
   "source": [
    "# 분산, 표준편차: 데이터가 얼마나 평균에서 흩어져 있는다. 변동성의 크기를 의미\n",
    "\n",
    "# 분산: sum((x-x.mean)**2)/n\n",
    "# 표준편차: sp.sqrt(sum((x-x.mean)**2)/n)"
   ]
  },
  {
   "cell_type": "code",
   "execution_count": 3,
   "id": "edb3dbc4",
   "metadata": {
    "ExecuteTime": {
     "end_time": "2022-05-17T04:02:35.393762Z",
     "start_time": "2022-05-17T04:02:35.386781Z"
    }
   },
   "outputs": [],
   "source": [
    "# %precision 3 # 소수점 3자리까지 표현\n",
    "\n",
    "pd.options.display.float_format = '{:.3f}'.format"
   ]
  },
  {
   "cell_type": "code",
   "execution_count": 4,
   "id": "1780b2b6",
   "metadata": {
    "ExecuteTime": {
     "end_time": "2022-05-17T04:02:54.037682Z",
     "start_time": "2022-05-17T04:02:54.025686Z"
    }
   },
   "outputs": [],
   "source": [
    "import warnings\n",
    "warnings.filterwarnings(action='ignore')"
   ]
  },
  {
   "cell_type": "code",
   "execution_count": 7,
   "id": "d3cb134c",
   "metadata": {
    "ExecuteTime": {
     "end_time": "2022-05-17T04:06:40.254740Z",
     "start_time": "2022-05-17T04:06:40.240805Z"
    }
   },
   "outputs": [
    {
     "data": {
      "text/html": [
       "<div>\n",
       "<style scoped>\n",
       "    .dataframe tbody tr th:only-of-type {\n",
       "        vertical-align: middle;\n",
       "    }\n",
       "\n",
       "    .dataframe tbody tr th {\n",
       "        vertical-align: top;\n",
       "    }\n",
       "\n",
       "    .dataframe thead th {\n",
       "        text-align: right;\n",
       "    }\n",
       "</style>\n",
       "<table border=\"1\" class=\"dataframe\">\n",
       "  <thead>\n",
       "    <tr style=\"text-align: right;\">\n",
       "      <th></th>\n",
       "      <th>length</th>\n",
       "    </tr>\n",
       "  </thead>\n",
       "  <tbody>\n",
       "    <tr>\n",
       "      <th>0</th>\n",
       "      <td>4.353</td>\n",
       "    </tr>\n",
       "    <tr>\n",
       "      <th>1</th>\n",
       "      <td>3.735</td>\n",
       "    </tr>\n",
       "    <tr>\n",
       "      <th>2</th>\n",
       "      <td>5.945</td>\n",
       "    </tr>\n",
       "    <tr>\n",
       "      <th>3</th>\n",
       "      <td>3.798</td>\n",
       "    </tr>\n",
       "    <tr>\n",
       "      <th>4</th>\n",
       "      <td>4.088</td>\n",
       "    </tr>\n",
       "  </tbody>\n",
       "</table>\n",
       "</div>"
      ],
      "text/plain": [
       "   length\n",
       "0   4.353\n",
       "1   3.735\n",
       "2   5.945\n",
       "3   3.798\n",
       "4   4.088"
      ]
     },
     "execution_count": 7,
     "metadata": {},
     "output_type": "execute_result"
    }
   ],
   "source": [
    "fish_data = pd.read_csv('./data/stat_files/fish_length.csv')\n",
    "fish_data.head()"
   ]
  },
  {
   "cell_type": "code",
   "execution_count": 8,
   "id": "43541a8e",
   "metadata": {
    "ExecuteTime": {
     "end_time": "2022-05-17T04:06:43.464778Z",
     "start_time": "2022-05-17T04:06:43.448826Z"
    }
   },
   "outputs": [
    {
     "data": {
      "text/plain": [
       "length   4.187\n",
       "dtype: float64"
      ]
     },
     "execution_count": 8,
     "metadata": {},
     "output_type": "execute_result"
    }
   ],
   "source": [
    "sp.mean(fish_data)"
   ]
  },
  {
   "cell_type": "code",
   "execution_count": 9,
   "id": "df8156d5",
   "metadata": {
    "ExecuteTime": {
     "end_time": "2022-05-17T04:06:48.402755Z",
     "start_time": "2022-05-17T04:06:48.392793Z"
    }
   },
   "outputs": [
    {
     "data": {
      "text/plain": [
       "length   0.612\n",
       "dtype: float64"
      ]
     },
     "execution_count": 9,
     "metadata": {},
     "output_type": "execute_result"
    }
   ],
   "source": [
    "sp.var(fish_data)"
   ]
  },
  {
   "cell_type": "code",
   "execution_count": 11,
   "id": "4a2eb581",
   "metadata": {
    "ExecuteTime": {
     "end_time": "2022-05-17T04:09:14.620916Z",
     "start_time": "2022-05-17T04:09:14.608948Z"
    }
   },
   "outputs": [
    {
     "data": {
      "text/plain": [
       "length   0.612\n",
       "dtype: float64"
      ]
     },
     "execution_count": 11,
     "metadata": {},
     "output_type": "execute_result"
    }
   ],
   "source": [
    "sp.sum((fish_data - sp.mean(fish_data))**2/len(fish_data))"
   ]
  },
  {
   "cell_type": "code",
   "execution_count": null,
   "id": "e259fe16",
   "metadata": {},
   "outputs": [],
   "source": []
  },
  {
   "cell_type": "code",
   "execution_count": 10,
   "id": "dca5a743",
   "metadata": {
    "ExecuteTime": {
     "end_time": "2022-05-17T04:06:49.155338Z",
     "start_time": "2022-05-17T04:06:49.144337Z"
    }
   },
   "outputs": [
    {
     "data": {
      "text/plain": [
       "length   0.680\n",
       "dtype: float64"
      ]
     },
     "execution_count": 10,
     "metadata": {},
     "output_type": "execute_result"
    }
   ],
   "source": [
    "sp.var(fish_data, ddof=1)\n",
    "\n",
    "# 불편분산\n",
    "# ddof : 자유도(전체데이터수 - 변수의수)\n",
    "# 표본의 통계량 계산 시 사용\n",
    "# 자유로이 값을 가질 수 있는 값의 갯수\n",
    "# 표본의 분산이 모분산 보다 작게 값이 계산되는 것을 보정하는 값"
   ]
  },
  {
   "cell_type": "code",
   "execution_count": null,
   "id": "5125af0a",
   "metadata": {},
   "outputs": [],
   "source": []
  },
  {
   "cell_type": "code",
   "execution_count": 13,
   "id": "403bb5a2",
   "metadata": {
    "ExecuteTime": {
     "end_time": "2022-05-17T05:20:16.775596Z",
     "start_time": "2022-05-17T05:20:16.768615Z"
    }
   },
   "outputs": [
    {
     "data": {
      "text/plain": [
       "length   0.782\n",
       "dtype: float64"
      ]
     },
     "execution_count": 13,
     "metadata": {},
     "output_type": "execute_result"
    }
   ],
   "source": [
    "sp.std(fish_data)"
   ]
  },
  {
   "cell_type": "code",
   "execution_count": 14,
   "id": "b9260f5a",
   "metadata": {
    "ExecuteTime": {
     "end_time": "2022-05-17T05:20:27.261386Z",
     "start_time": "2022-05-17T05:20:27.248422Z"
    }
   },
   "outputs": [
    {
     "data": {
      "text/plain": [
       "length   0.825\n",
       "dtype: float64"
      ]
     },
     "execution_count": 14,
     "metadata": {},
     "output_type": "execute_result"
    }
   ],
   "source": [
    "sp.std(fish_data, ddof=1)"
   ]
  },
  {
   "cell_type": "code",
   "execution_count": null,
   "id": "1929864e",
   "metadata": {},
   "outputs": [],
   "source": []
  },
  {
   "cell_type": "code",
   "execution_count": 15,
   "id": "7ac9a505",
   "metadata": {
    "ExecuteTime": {
     "end_time": "2022-05-17T05:22:43.231845Z",
     "start_time": "2022-05-17T05:22:43.219857Z"
    }
   },
   "outputs": [],
   "source": [
    "# 정규화(z) : 평균을 0으로 표준편차를 1인 정규분포로 만드는 것\n",
    "# 정규화된 z값 : 평균 0을 중심으로 몇 표준편차 떨어져 있는가를 나타내는 값"
   ]
  },
  {
   "cell_type": "code",
   "execution_count": 19,
   "id": "556e548c",
   "metadata": {
    "ExecuteTime": {
     "end_time": "2022-05-17T05:23:43.649690Z",
     "start_time": "2022-05-17T05:23:43.635727Z"
    }
   },
   "outputs": [
    {
     "data": {
      "text/html": [
       "<div>\n",
       "<style scoped>\n",
       "    .dataframe tbody tr th:only-of-type {\n",
       "        vertical-align: middle;\n",
       "    }\n",
       "\n",
       "    .dataframe tbody tr th {\n",
       "        vertical-align: top;\n",
       "    }\n",
       "\n",
       "    .dataframe thead th {\n",
       "        text-align: right;\n",
       "    }\n",
       "</style>\n",
       "<table border=\"1\" class=\"dataframe\">\n",
       "  <thead>\n",
       "    <tr style=\"text-align: right;\">\n",
       "      <th></th>\n",
       "      <th>length</th>\n",
       "    </tr>\n",
       "  </thead>\n",
       "  <tbody>\n",
       "    <tr>\n",
       "      <th>0</th>\n",
       "      <td>0.212</td>\n",
       "    </tr>\n",
       "    <tr>\n",
       "      <th>1</th>\n",
       "      <td>-0.577</td>\n",
       "    </tr>\n",
       "    <tr>\n",
       "      <th>2</th>\n",
       "      <td>2.246</td>\n",
       "    </tr>\n",
       "    <tr>\n",
       "      <th>3</th>\n",
       "      <td>-0.497</td>\n",
       "    </tr>\n",
       "    <tr>\n",
       "      <th>4</th>\n",
       "      <td>-0.127</td>\n",
       "    </tr>\n",
       "    <tr>\n",
       "      <th>5</th>\n",
       "      <td>1.379</td>\n",
       "    </tr>\n",
       "    <tr>\n",
       "      <th>6</th>\n",
       "      <td>-1.169</td>\n",
       "    </tr>\n",
       "    <tr>\n",
       "      <th>7</th>\n",
       "      <td>-0.844</td>\n",
       "    </tr>\n",
       "    <tr>\n",
       "      <th>8</th>\n",
       "      <td>-0.047</td>\n",
       "    </tr>\n",
       "    <tr>\n",
       "      <th>9</th>\n",
       "      <td>-0.576</td>\n",
       "    </tr>\n",
       "  </tbody>\n",
       "</table>\n",
       "</div>"
      ],
      "text/plain": [
       "   length\n",
       "0   0.212\n",
       "1  -0.577\n",
       "2   2.246\n",
       "3  -0.497\n",
       "4  -0.127\n",
       "5   1.379\n",
       "6  -1.169\n",
       "7  -0.844\n",
       "8  -0.047\n",
       "9  -0.576"
      ]
     },
     "execution_count": 19,
     "metadata": {},
     "output_type": "execute_result"
    }
   ],
   "source": [
    "(fish_data - sp.mean(fish_data))/ sp.std(fish_data) # 표준정규분포"
   ]
  },
  {
   "cell_type": "code",
   "execution_count": 20,
   "id": "84aa197d",
   "metadata": {
    "ExecuteTime": {
     "end_time": "2022-05-17T05:24:03.853687Z",
     "start_time": "2022-05-17T05:24:03.842716Z"
    }
   },
   "outputs": [
    {
     "data": {
      "text/plain": [
       "length   0.000\n",
       "dtype: float64"
      ]
     },
     "execution_count": 20,
     "metadata": {},
     "output_type": "execute_result"
    }
   ],
   "source": [
    "# 정규화시킨 값의 평균 = 0\n",
    "sp.mean((fish_data - sp.mean(fish_data))/ sp.std(fish_data))"
   ]
  },
  {
   "cell_type": "code",
   "execution_count": 21,
   "id": "cc8c3503",
   "metadata": {
    "ExecuteTime": {
     "end_time": "2022-05-17T05:24:38.364427Z",
     "start_time": "2022-05-17T05:24:38.354453Z"
    }
   },
   "outputs": [
    {
     "data": {
      "text/plain": [
       "length   1.000\n",
       "dtype: float64"
      ]
     },
     "execution_count": 21,
     "metadata": {},
     "output_type": "execute_result"
    }
   ],
   "source": [
    "# 정규화시킨 값의 표준편차 = 0\n",
    "sp.std((fish_data - sp.mean(fish_data))/ sp.std(fish_data))"
   ]
  },
  {
   "cell_type": "code",
   "execution_count": null,
   "id": "a002c14d",
   "metadata": {},
   "outputs": [],
   "source": []
  },
  {
   "cell_type": "markdown",
   "id": "db4fd31a",
   "metadata": {
    "ExecuteTime": {
     "end_time": "2022-05-17T05:26:07.848439Z",
     "start_time": "2022-05-17T05:26:07.841459Z"
    }
   },
   "source": [
    "## 기본 통계함수"
   ]
  },
  {
   "cell_type": "code",
   "execution_count": 23,
   "id": "9681b21f",
   "metadata": {
    "ExecuteTime": {
     "end_time": "2022-05-17T05:26:23.754507Z",
     "start_time": "2022-05-17T05:26:23.745501Z"
    }
   },
   "outputs": [
    {
     "data": {
      "text/plain": [
       "length   4.187\n",
       "dtype: float64"
      ]
     },
     "execution_count": 23,
     "metadata": {},
     "output_type": "execute_result"
    }
   ],
   "source": [
    "sp.mean(fish_data)"
   ]
  },
  {
   "cell_type": "code",
   "execution_count": 24,
   "id": "2bab4409",
   "metadata": {
    "ExecuteTime": {
     "end_time": "2022-05-17T05:26:42.091340Z",
     "start_time": "2022-05-17T05:26:42.081368Z"
    }
   },
   "outputs": [
    {
     "data": {
      "text/plain": [
       "length   0.612\n",
       "dtype: float64"
      ]
     },
     "execution_count": 24,
     "metadata": {},
     "output_type": "execute_result"
    }
   ],
   "source": [
    "sp.var(fish_data)"
   ]
  },
  {
   "cell_type": "code",
   "execution_count": 25,
   "id": "2ee3c22f",
   "metadata": {
    "ExecuteTime": {
     "end_time": "2022-05-17T05:26:57.228414Z",
     "start_time": "2022-05-17T05:26:57.216476Z"
    }
   },
   "outputs": [
    {
     "data": {
      "text/plain": [
       "length   0.782\n",
       "dtype: float64"
      ]
     },
     "execution_count": 25,
     "metadata": {},
     "output_type": "execute_result"
    }
   ],
   "source": [
    "sp.std(fish_data)"
   ]
  },
  {
   "cell_type": "code",
   "execution_count": 26,
   "id": "7a5218e2",
   "metadata": {
    "ExecuteTime": {
     "end_time": "2022-05-17T05:27:09.823329Z",
     "start_time": "2022-05-17T05:27:09.809367Z"
    }
   },
   "outputs": [
    {
     "data": {
      "text/plain": [
       "length   5.945\n",
       "dtype: float64"
      ]
     },
     "execution_count": 26,
     "metadata": {},
     "output_type": "execute_result"
    }
   ],
   "source": [
    "sp.amax(fish_data)"
   ]
  },
  {
   "cell_type": "code",
   "execution_count": 27,
   "id": "8ef944c3",
   "metadata": {
    "ExecuteTime": {
     "end_time": "2022-05-17T05:27:19.572206Z",
     "start_time": "2022-05-17T05:27:19.553346Z"
    }
   },
   "outputs": [
    {
     "data": {
      "text/plain": [
       "length   3.273\n",
       "dtype: float64"
      ]
     },
     "execution_count": 27,
     "metadata": {},
     "output_type": "execute_result"
    }
   ],
   "source": [
    "sp.amin(fish_data)"
   ]
  },
  {
   "cell_type": "code",
   "execution_count": 28,
   "id": "23fcae4e",
   "metadata": {
    "ExecuteTime": {
     "end_time": "2022-05-17T05:27:27.514323Z",
     "start_time": "2022-05-17T05:27:27.505361Z"
    }
   },
   "outputs": [
    {
     "data": {
      "text/plain": [
       "3.9430070847900422"
      ]
     },
     "execution_count": 28,
     "metadata": {},
     "output_type": "execute_result"
    }
   ],
   "source": [
    "sp.median(fish_data)"
   ]
  },
  {
   "cell_type": "code",
   "execution_count": null,
   "id": "1cdd7294",
   "metadata": {},
   "outputs": [],
   "source": []
  },
  {
   "cell_type": "markdown",
   "id": "de098551",
   "metadata": {},
   "source": [
    "## 공분산"
   ]
  },
  {
   "cell_type": "code",
   "execution_count": 29,
   "id": "9cd79820",
   "metadata": {
    "ExecuteTime": {
     "end_time": "2022-05-17T05:28:30.282183Z",
     "start_time": "2022-05-17T05:28:30.273175Z"
    }
   },
   "outputs": [],
   "source": [
    "# 공분산\n",
    "# 두 데이터가 함께 움직이는 수준, 두 데이터의 관계성, 방향성 .."
   ]
  },
  {
   "cell_type": "code",
   "execution_count": 30,
   "id": "e4a04013",
   "metadata": {
    "ExecuteTime": {
     "end_time": "2022-05-17T05:28:57.970159Z",
     "start_time": "2022-05-17T05:28:57.954209Z"
    }
   },
   "outputs": [
    {
     "data": {
      "text/html": [
       "<div>\n",
       "<style scoped>\n",
       "    .dataframe tbody tr th:only-of-type {\n",
       "        vertical-align: middle;\n",
       "    }\n",
       "\n",
       "    .dataframe tbody tr th {\n",
       "        vertical-align: top;\n",
       "    }\n",
       "\n",
       "    .dataframe thead th {\n",
       "        text-align: right;\n",
       "    }\n",
       "</style>\n",
       "<table border=\"1\" class=\"dataframe\">\n",
       "  <thead>\n",
       "    <tr style=\"text-align: right;\">\n",
       "      <th></th>\n",
       "      <th>x</th>\n",
       "      <th>y</th>\n",
       "    </tr>\n",
       "  </thead>\n",
       "  <tbody>\n",
       "    <tr>\n",
       "      <th>0</th>\n",
       "      <td>18.500</td>\n",
       "      <td>34</td>\n",
       "    </tr>\n",
       "    <tr>\n",
       "      <th>1</th>\n",
       "      <td>18.700</td>\n",
       "      <td>39</td>\n",
       "    </tr>\n",
       "    <tr>\n",
       "      <th>2</th>\n",
       "      <td>19.100</td>\n",
       "      <td>41</td>\n",
       "    </tr>\n",
       "    <tr>\n",
       "      <th>3</th>\n",
       "      <td>19.700</td>\n",
       "      <td>38</td>\n",
       "    </tr>\n",
       "    <tr>\n",
       "      <th>4</th>\n",
       "      <td>21.500</td>\n",
       "      <td>45</td>\n",
       "    </tr>\n",
       "    <tr>\n",
       "      <th>5</th>\n",
       "      <td>21.700</td>\n",
       "      <td>41</td>\n",
       "    </tr>\n",
       "    <tr>\n",
       "      <th>6</th>\n",
       "      <td>21.800</td>\n",
       "      <td>52</td>\n",
       "    </tr>\n",
       "    <tr>\n",
       "      <th>7</th>\n",
       "      <td>22.000</td>\n",
       "      <td>44</td>\n",
       "    </tr>\n",
       "    <tr>\n",
       "      <th>8</th>\n",
       "      <td>23.400</td>\n",
       "      <td>44</td>\n",
       "    </tr>\n",
       "    <tr>\n",
       "      <th>9</th>\n",
       "      <td>23.800</td>\n",
       "      <td>49</td>\n",
       "    </tr>\n",
       "  </tbody>\n",
       "</table>\n",
       "</div>"
      ],
      "text/plain": [
       "       x   y\n",
       "0 18.500  34\n",
       "1 18.700  39\n",
       "2 19.100  41\n",
       "3 19.700  38\n",
       "4 21.500  45\n",
       "5 21.700  41\n",
       "6 21.800  52\n",
       "7 22.000  44\n",
       "8 23.400  44\n",
       "9 23.800  49"
      ]
     },
     "execution_count": 30,
     "metadata": {},
     "output_type": "execute_result"
    }
   ],
   "source": [
    "cov_data = pd.read_csv('./data/stat_files/cov.csv')\n",
    "cov_data"
   ]
  },
  {
   "cell_type": "code",
   "execution_count": 41,
   "id": "56c94b2f",
   "metadata": {
    "ExecuteTime": {
     "end_time": "2022-05-17T05:42:58.248696Z",
     "start_time": "2022-05-17T05:42:58.239690Z"
    }
   },
   "outputs": [],
   "source": [
    "x = cov_data.x\n",
    "y= cov_data.y"
   ]
  },
  {
   "cell_type": "code",
   "execution_count": 33,
   "id": "91f3c05a",
   "metadata": {
    "ExecuteTime": {
     "end_time": "2022-05-17T05:32:44.073713Z",
     "start_time": "2022-05-17T05:32:44.063784Z"
    }
   },
   "outputs": [
    {
     "data": {
      "text/plain": [
       "6.9060000000000015"
      ]
     },
     "execution_count": 33,
     "metadata": {},
     "output_type": "execute_result"
    }
   ],
   "source": [
    "np.sum((cov_data.x-sp.mean(cov_data.x))*(cov_data.y-sp.mean(cov_data.y)))/ len(cov_data.x)"
   ]
  },
  {
   "cell_type": "code",
   "execution_count": 34,
   "id": "4e81dcf0",
   "metadata": {
    "ExecuteTime": {
     "end_time": "2022-05-17T05:33:50.242373Z",
     "start_time": "2022-05-17T05:33:50.209596Z"
    }
   },
   "outputs": [
    {
     "data": {
      "text/plain": [
       "array([[ 3.2816,  6.906 ],\n",
       "       [ 6.906 , 25.21  ]])"
      ]
     },
     "execution_count": 34,
     "metadata": {},
     "output_type": "execute_result"
    }
   ],
   "source": [
    "sp.cov(cov_data.x, cov_data.y, ddof=0)"
   ]
  },
  {
   "cell_type": "code",
   "execution_count": null,
   "id": "e8dbc114",
   "metadata": {},
   "outputs": [],
   "source": []
  },
  {
   "cell_type": "markdown",
   "id": "f3ed34be",
   "metadata": {
    "ExecuteTime": {
     "end_time": "2022-05-17T05:35:01.941497Z",
     "start_time": "2022-05-17T05:35:01.937478Z"
    }
   },
   "source": [
    "## 상관계수 : 공분산/(x표준편차 * y표준편차)"
   ]
  },
  {
   "cell_type": "code",
   "execution_count": null,
   "id": "22d5631a",
   "metadata": {},
   "outputs": [],
   "source": []
  },
  {
   "cell_type": "code",
   "execution_count": null,
   "id": "14ff6e15",
   "metadata": {},
   "outputs": [],
   "source": []
  },
  {
   "cell_type": "code",
   "execution_count": 37,
   "id": "e7378559",
   "metadata": {
    "ExecuteTime": {
     "end_time": "2022-05-17T05:38:32.714675Z",
     "start_time": "2022-05-17T05:38:32.704701Z"
    }
   },
   "outputs": [
    {
     "data": {
      "text/plain": [
       "0.7592719041137087"
      ]
     },
     "execution_count": 37,
     "metadata": {},
     "output_type": "execute_result"
    }
   ],
   "source": [
    "# 상관계수\n",
    "np.sum((cov_data.x - sp.mean(cov_data.x)) * (cov_data.y-sp.mean(cov_data.y))/ len(cov_data.x))\\\n",
    "/(sp.std(cov_data.x)*sp.std(cov_data.y))"
   ]
  },
  {
   "cell_type": "code",
   "execution_count": 39,
   "id": "cce9e7f6",
   "metadata": {
    "ExecuteTime": {
     "end_time": "2022-05-17T05:40:11.080611Z",
     "start_time": "2022-05-17T05:40:11.071635Z"
    }
   },
   "outputs": [
    {
     "data": {
      "text/plain": [
       "0.8436354490152319"
      ]
     },
     "execution_count": 39,
     "metadata": {},
     "output_type": "execute_result"
    }
   ],
   "source": [
    "# 불편 상관계수 - 자유도 반영\n",
    "\n",
    "np.sum((cov_data.x - sp.mean(cov_data.x)) * (cov_data.y-sp.mean(cov_data.y))/ (len(cov_data.x)-1))\\\n",
    "/(sp.std(cov_data.x)*sp.std(cov_data.y))"
   ]
  },
  {
   "cell_type": "code",
   "execution_count": 42,
   "id": "9a813316",
   "metadata": {
    "ExecuteTime": {
     "end_time": "2022-05-17T05:43:15.111252Z",
     "start_time": "2022-05-17T05:43:15.104272Z"
    }
   },
   "outputs": [
    {
     "data": {
      "text/plain": [
       "array([[ 3.2816,  6.906 ],\n",
       "       [ 6.906 , 25.21  ]])"
      ]
     },
     "execution_count": 42,
     "metadata": {},
     "output_type": "execute_result"
    }
   ],
   "source": [
    "# 모듈 사용\n",
    "\n",
    "sp.cov(x,y,ddof=0)"
   ]
  },
  {
   "cell_type": "code",
   "execution_count": 43,
   "id": "567b539e",
   "metadata": {
    "ExecuteTime": {
     "end_time": "2022-05-17T05:43:15.567638Z",
     "start_time": "2022-05-17T05:43:15.551681Z"
    }
   },
   "outputs": [
    {
     "data": {
      "text/plain": [
       "array([[ 3.64622222,  7.67333333],\n",
       "       [ 7.67333333, 28.01111111]])"
      ]
     },
     "execution_count": 43,
     "metadata": {},
     "output_type": "execute_result"
    }
   ],
   "source": [
    "sp.cov(x,y,ddof=1)"
   ]
  },
  {
   "cell_type": "code",
   "execution_count": 45,
   "id": "949a41de",
   "metadata": {
    "ExecuteTime": {
     "end_time": "2022-05-17T05:44:06.442797Z",
     "start_time": "2022-05-17T05:44:06.432795Z"
    }
   },
   "outputs": [
    {
     "data": {
      "text/plain": [
       "array([[0.07185715, 0.15122058],\n",
       "       [0.15122058, 0.55202301]])"
      ]
     },
     "execution_count": 45,
     "metadata": {},
     "output_type": "execute_result"
    }
   ],
   "source": [
    "sp.cov(x,y, ddof=0)/(sp.std(x)* sp.var(y))"
   ]
  },
  {
   "cell_type": "code",
   "execution_count": null,
   "id": "94bd9c9f",
   "metadata": {},
   "outputs": [],
   "source": []
  },
  {
   "cell_type": "code",
   "execution_count": null,
   "id": "5c288dad",
   "metadata": {},
   "outputs": [],
   "source": []
  },
  {
   "cell_type": "markdown",
   "id": "a1040aa7",
   "metadata": {},
   "source": [
    "## 표본추출"
   ]
  },
  {
   "cell_type": "code",
   "execution_count": 46,
   "id": "f0848e4c",
   "metadata": {
    "ExecuteTime": {
     "end_time": "2022-05-17T05:47:02.288211Z",
     "start_time": "2022-05-17T05:47:02.272253Z"
    }
   },
   "outputs": [],
   "source": [
    "fish_5 = np.array([2,3,4,5,6,7])"
   ]
  },
  {
   "cell_type": "code",
   "execution_count": 47,
   "id": "1592805f",
   "metadata": {
    "ExecuteTime": {
     "end_time": "2022-05-17T05:47:30.931286Z",
     "start_time": "2022-05-17T05:47:30.911311Z"
    }
   },
   "outputs": [
    {
     "data": {
      "text/plain": [
       "array([6])"
      ]
     },
     "execution_count": 47,
     "metadata": {},
     "output_type": "execute_result"
    }
   ],
   "source": [
    "np.random.choice(fish_5, size=1, replace= False) # 비복원 추출"
   ]
  },
  {
   "cell_type": "code",
   "execution_count": 48,
   "id": "aec03b74",
   "metadata": {
    "ExecuteTime": {
     "end_time": "2022-05-17T05:47:46.545796Z",
     "start_time": "2022-05-17T05:47:46.527844Z"
    }
   },
   "outputs": [
    {
     "data": {
      "text/plain": [
       "array([7, 2, 4])"
      ]
     },
     "execution_count": 48,
     "metadata": {},
     "output_type": "execute_result"
    }
   ],
   "source": [
    "np.random.choice(fish_5, size=3, replace= True) # 복원 추출"
   ]
  },
  {
   "cell_type": "code",
   "execution_count": null,
   "id": "618bfbc0",
   "metadata": {},
   "outputs": [],
   "source": []
  },
  {
   "cell_type": "code",
   "execution_count": 59,
   "id": "db90b090",
   "metadata": {
    "ExecuteTime": {
     "end_time": "2022-05-17T06:26:03.521829Z",
     "start_time": "2022-05-17T06:26:03.478944Z"
    }
   },
   "outputs": [
    {
     "data": {
      "text/html": [
       "<div>\n",
       "<style scoped>\n",
       "    .dataframe tbody tr th:only-of-type {\n",
       "        vertical-align: middle;\n",
       "    }\n",
       "\n",
       "    .dataframe tbody tr th {\n",
       "        vertical-align: top;\n",
       "    }\n",
       "\n",
       "    .dataframe thead th {\n",
       "        text-align: right;\n",
       "    }\n",
       "</style>\n",
       "<table border=\"1\" class=\"dataframe\">\n",
       "  <thead>\n",
       "    <tr style=\"text-align: right;\">\n",
       "      <th></th>\n",
       "      <th>length</th>\n",
       "    </tr>\n",
       "  </thead>\n",
       "  <tbody>\n",
       "    <tr>\n",
       "      <th>0</th>\n",
       "      <td>5.297</td>\n",
       "    </tr>\n",
       "    <tr>\n",
       "      <th>1</th>\n",
       "      <td>3.506</td>\n",
       "    </tr>\n",
       "    <tr>\n",
       "      <th>2</th>\n",
       "      <td>3.573</td>\n",
       "    </tr>\n",
       "    <tr>\n",
       "      <th>3</th>\n",
       "      <td>3.136</td>\n",
       "    </tr>\n",
       "    <tr>\n",
       "      <th>4</th>\n",
       "      <td>4.689</td>\n",
       "    </tr>\n",
       "    <tr>\n",
       "      <th>...</th>\n",
       "      <td>...</td>\n",
       "    </tr>\n",
       "    <tr>\n",
       "      <th>99995</th>\n",
       "      <td>4.159</td>\n",
       "    </tr>\n",
       "    <tr>\n",
       "      <th>99996</th>\n",
       "      <td>4.819</td>\n",
       "    </tr>\n",
       "    <tr>\n",
       "      <th>99997</th>\n",
       "      <td>4.061</td>\n",
       "    </tr>\n",
       "    <tr>\n",
       "      <th>99998</th>\n",
       "      <td>4.271</td>\n",
       "    </tr>\n",
       "    <tr>\n",
       "      <th>99999</th>\n",
       "      <td>3.397</td>\n",
       "    </tr>\n",
       "  </tbody>\n",
       "</table>\n",
       "<p>100000 rows × 1 columns</p>\n",
       "</div>"
      ],
      "text/plain": [
       "       length\n",
       "0       5.297\n",
       "1       3.506\n",
       "2       3.573\n",
       "3       3.136\n",
       "4       4.689\n",
       "...       ...\n",
       "99995   4.159\n",
       "99996   4.819\n",
       "99997   4.061\n",
       "99998   4.271\n",
       "99999   3.397\n",
       "\n",
       "[100000 rows x 1 columns]"
      ]
     },
     "execution_count": 59,
     "metadata": {},
     "output_type": "execute_result"
    }
   ],
   "source": [
    "fish_100000 = pd.read_csv('./data/stat_files/fish_length_100000.csv')\n",
    "fish_100000"
   ]
  },
  {
   "cell_type": "code",
   "execution_count": 60,
   "id": "8a113b61",
   "metadata": {
    "ExecuteTime": {
     "end_time": "2022-05-17T06:26:03.661082Z",
     "start_time": "2022-05-17T06:26:03.644157Z"
    }
   },
   "outputs": [
    {
     "data": {
      "text/plain": [
       "100000"
      ]
     },
     "execution_count": 60,
     "metadata": {},
     "output_type": "execute_result"
    }
   ],
   "source": [
    "# 모집단\n",
    "len(fish_100000) "
   ]
  },
  {
   "cell_type": "code",
   "execution_count": 61,
   "id": "b6d31170",
   "metadata": {
    "ExecuteTime": {
     "end_time": "2022-05-17T06:26:03.833162Z",
     "start_time": "2022-05-17T06:26:03.822232Z"
    }
   },
   "outputs": [
    {
     "data": {
      "text/plain": [
       "array([4.9762411 , 3.35230202, 3.53247209, 4.05972898, 6.02702463,\n",
       "       3.45669584, 4.17670657, 5.5837576 , 4.40367756, 5.97955192])"
      ]
     },
     "execution_count": 61,
     "metadata": {},
     "output_type": "execute_result"
    }
   ],
   "source": [
    "fish_sample = np.random.choice(fish_10000.length, size =10, replace= False) # 샘플(표본), 샘플의 크기 n=10\n",
    "fish_sample"
   ]
  },
  {
   "cell_type": "code",
   "execution_count": 62,
   "id": "134d8278",
   "metadata": {
    "ExecuteTime": {
     "end_time": "2022-05-17T06:26:04.004227Z",
     "start_time": "2022-05-17T06:26:03.996248Z"
    }
   },
   "outputs": [
    {
     "data": {
      "text/plain": [
       "4.554815830529426"
      ]
     },
     "execution_count": 62,
     "metadata": {},
     "output_type": "execute_result"
    }
   ],
   "source": [
    "sp.mean(fish_sample)"
   ]
  },
  {
   "cell_type": "code",
   "execution_count": 63,
   "id": "4180287f",
   "metadata": {
    "ExecuteTime": {
     "end_time": "2022-05-17T06:26:04.192490Z",
     "start_time": "2022-05-17T06:26:04.172542Z"
    }
   },
   "outputs": [
    {
     "data": {
      "text/plain": [
       "0.9541606190398065"
      ]
     },
     "execution_count": 63,
     "metadata": {},
     "output_type": "execute_result"
    }
   ],
   "source": [
    "sp.var(fish_sample)"
   ]
  },
  {
   "cell_type": "code",
   "execution_count": 64,
   "id": "56d7b127",
   "metadata": {
    "ExecuteTime": {
     "end_time": "2022-05-17T06:26:04.489244Z",
     "start_time": "2022-05-17T06:26:04.476256Z"
    }
   },
   "outputs": [
    {
     "data": {
      "text/plain": [
       "0.9768114552152869"
      ]
     },
     "execution_count": 64,
     "metadata": {},
     "output_type": "execute_result"
    }
   ],
   "source": [
    "np.std(fish_sample) # 샘플의 표준"
   ]
  },
  {
   "cell_type": "code",
   "execution_count": null,
   "id": "5fbf0722",
   "metadata": {},
   "outputs": [],
   "source": []
  },
  {
   "cell_type": "code",
   "execution_count": null,
   "id": "c976e132",
   "metadata": {},
   "outputs": [],
   "source": []
  },
  {
   "cell_type": "code",
   "execution_count": null,
   "id": "43b2ce15",
   "metadata": {},
   "outputs": [],
   "source": []
  },
  {
   "cell_type": "code",
   "execution_count": 65,
   "id": "01cce47b",
   "metadata": {
    "ExecuteTime": {
     "end_time": "2022-05-17T06:26:07.478205Z",
     "start_time": "2022-05-17T06:26:07.466237Z"
    }
   },
   "outputs": [],
   "source": [
    "# 중심극한정리\n",
    "\n",
    "# 모집단의 형태에 상관없이 사이즈가 큰 표본의 평균의 분포는 평균이 모평균, 분산이 모분산을 np.sqrt(n)으로\n",
    "# 나눈 정규분표를 따른다"
   ]
  },
  {
   "cell_type": "code",
   "execution_count": 66,
   "id": "8e053abf",
   "metadata": {
    "ExecuteTime": {
     "end_time": "2022-05-17T06:26:07.650520Z",
     "start_time": "2022-05-17T06:26:07.642510Z"
    }
   },
   "outputs": [
    {
     "name": "stdout",
     "output_type": "stream",
     "text": [
      "length   4.000\n",
      "dtype: float64 length   0.640\n",
      "dtype: float64\n"
     ]
    }
   ],
   "source": [
    "# 모수\n",
    "\n",
    "mu = sp.mean(fish_100000)\n",
    "theta = sp.var(fish_100000)\n",
    "\n",
    "print(mu, theta)"
   ]
  },
  {
   "cell_type": "code",
   "execution_count": 67,
   "id": "272c9093",
   "metadata": {
    "ExecuteTime": {
     "end_time": "2022-05-17T06:26:09.875463Z",
     "start_time": "2022-05-17T06:26:08.172171Z"
    }
   },
   "outputs": [],
   "source": [
    "sample_means = []\n",
    "\n",
    "for _ in range(1000):\n",
    "    sample = np.random.choice(fish_100000.length, size=100, replace=False)\n",
    "    sample_mean = sp.mean(sample)\n",
    "    sample_means.append(sample_mean)"
   ]
  },
  {
   "cell_type": "code",
   "execution_count": 68,
   "id": "e4732b3e",
   "metadata": {
    "ExecuteTime": {
     "end_time": "2022-05-17T06:26:20.207773Z",
     "start_time": "2022-05-17T06:26:20.178851Z"
    }
   },
   "outputs": [
    {
     "data": {
      "text/plain": [
       "[4.049574638242683,\n",
       " 3.9258233935054556,\n",
       " 3.936342127808516,\n",
       " 3.930943827500611,\n",
       " 3.9776780305757393,\n",
       " 3.94557349741079,\n",
       " 4.040094068325464,\n",
       " 4.009207714115264,\n",
       " 3.993738964802996,\n",
       " 3.9624669731225715,\n",
       " 3.915962712930916,\n",
       " 3.9496933865532826,\n",
       " 3.950029457365759,\n",
       " 4.098492527520129,\n",
       " 4.0341540899619455,\n",
       " 4.1040732522580035,\n",
       " 4.018883440932455,\n",
       " 3.978018994078605,\n",
       " 4.036115090920645,\n",
       " 3.855022414916293,\n",
       " 3.9498184479839953,\n",
       " 3.934774361801971,\n",
       " 4.070607862055364,\n",
       " 4.083989009940946,\n",
       " 3.9685612332039404,\n",
       " 3.864018231758091,\n",
       " 4.064317311114275,\n",
       " 3.9138069167946963,\n",
       " 4.052918396716611,\n",
       " 3.9380352272814863,\n",
       " 4.128623014679044,\n",
       " 4.022981134661843,\n",
       " 4.05986540265869,\n",
       " 3.9712336910986905,\n",
       " 3.980248562031457,\n",
       " 4.051170884278597,\n",
       " 3.9754489777461246,\n",
       " 4.001627344439042,\n",
       " 4.029466264423977,\n",
       " 4.006153845558169,\n",
       " 3.973522724202732,\n",
       " 4.091463429297547,\n",
       " 4.0018115754813195,\n",
       " 4.110090398486923,\n",
       " 4.110738735995081,\n",
       " 4.124963730892222,\n",
       " 3.926849696092706,\n",
       " 4.053942451067088,\n",
       " 4.017117627955937,\n",
       " 3.832278879354508,\n",
       " 3.918257322831906,\n",
       " 3.9098744780642836,\n",
       " 4.001758373377289,\n",
       " 4.05591170198633,\n",
       " 4.016388650066812,\n",
       " 4.038642886950739,\n",
       " 3.9633408904327094,\n",
       " 3.808650093569578,\n",
       " 3.89662958586823,\n",
       " 3.9729387384505435,\n",
       " 3.9381416942828222,\n",
       " 4.0726234736633735,\n",
       " 3.951808211807205,\n",
       " 4.175076764822959,\n",
       " 3.9490928675247683,\n",
       " 4.15306156110793,\n",
       " 3.995890270137536,\n",
       " 3.890788670836199,\n",
       " 4.04237371653802,\n",
       " 3.857381380750797,\n",
       " 3.9605463412411206,\n",
       " 4.154751667888821,\n",
       " 4.024205289197854,\n",
       " 4.1060212962233456,\n",
       " 4.083674871349228,\n",
       " 4.149702280479672,\n",
       " 4.034750814120922,\n",
       " 4.035328439475671,\n",
       " 3.9616768069914685,\n",
       " 4.057696229851979,\n",
       " 4.061352245744751,\n",
       " 4.120311156788999,\n",
       " 4.002103658539804,\n",
       " 3.887436471169611,\n",
       " 4.039174114511112,\n",
       " 4.024637416451019,\n",
       " 3.9495805245113145,\n",
       " 4.018758293087059,\n",
       " 3.9060419261283936,\n",
       " 4.057958887449909,\n",
       " 3.9190366949029634,\n",
       " 3.980626374386398,\n",
       " 4.029591243981773,\n",
       " 4.0280477958436185,\n",
       " 3.9746183731425493,\n",
       " 3.991813913415139,\n",
       " 4.073649431789138,\n",
       " 3.9887949537876226,\n",
       " 4.031091805446943,\n",
       " 3.9212117773180966,\n",
       " 3.8032698450262212,\n",
       " 4.10729073979839,\n",
       " 4.006892023329028,\n",
       " 4.126884574748105,\n",
       " 3.919862576692837,\n",
       " 4.015393898948314,\n",
       " 4.020263555436496,\n",
       " 4.055663043003545,\n",
       " 3.9922759056105686,\n",
       " 3.8967663317531906,\n",
       " 3.9335723769263407,\n",
       " 3.9001244072210373,\n",
       " 3.8079151234641757,\n",
       " 4.03176655756166,\n",
       " 3.9522220005662105,\n",
       " 3.838157759880527,\n",
       " 4.190453463570424,\n",
       " 3.965093307230846,\n",
       " 4.037804541475043,\n",
       " 4.034254236213255,\n",
       " 3.8402470887904734,\n",
       " 3.917823499298476,\n",
       " 4.178497963005519,\n",
       " 3.8485236124169604,\n",
       " 4.162058321186223,\n",
       " 4.0200714441652865,\n",
       " 3.9898898241855405,\n",
       " 4.0646506249825265,\n",
       " 4.050126136603738,\n",
       " 4.1223735696305575,\n",
       " 4.104671129062728,\n",
       " 4.045452311290728,\n",
       " 3.9036385430382894,\n",
       " 3.9426327473400407,\n",
       " 3.87653232267901,\n",
       " 3.9931862393244417,\n",
       " 3.927079526502267,\n",
       " 4.092515507229488,\n",
       " 4.089182444031433,\n",
       " 4.010775813638835,\n",
       " 3.9903336551766317,\n",
       " 3.9587890098312797,\n",
       " 4.034273859533234,\n",
       " 3.9911631796399667,\n",
       " 4.017950079916205,\n",
       " 3.9493821863241876,\n",
       " 3.99188873442903,\n",
       " 3.9934598213112724,\n",
       " 4.025564137245422,\n",
       " 3.9508486728393057,\n",
       " 4.101061956232666,\n",
       " 4.006444883523312,\n",
       " 3.9713662250110495,\n",
       " 3.9833193987370925,\n",
       " 3.9789802216483197,\n",
       " 4.033672490966058,\n",
       " 4.018907007252131,\n",
       " 4.022509590799979,\n",
       " 4.123997811497051,\n",
       " 4.033215920072797,\n",
       " 4.008951913983037,\n",
       " 3.9673723175843736,\n",
       " 4.054855532253188,\n",
       " 4.107389764896907,\n",
       " 3.9201563652252838,\n",
       " 3.9257626386216105,\n",
       " 4.030517397970666,\n",
       " 3.9698402546514706,\n",
       " 4.047883723181408,\n",
       " 4.048663957550282,\n",
       " 3.985554936102704,\n",
       " 4.0185719625101255,\n",
       " 4.13794725024192,\n",
       " 4.025807929429335,\n",
       " 4.000737586614098,\n",
       " 3.992321457324115,\n",
       " 4.076998486241626,\n",
       " 4.0049320242469175,\n",
       " 3.967796647763432,\n",
       " 3.931009279058882,\n",
       " 3.932308948288187,\n",
       " 3.9571935843960215,\n",
       " 4.1158209566557,\n",
       " 3.8392210254781536,\n",
       " 3.8156224563306576,\n",
       " 4.042981869014776,\n",
       " 4.158216930032909,\n",
       " 3.9961709013242275,\n",
       " 4.031353905725839,\n",
       " 3.9296411227541355,\n",
       " 3.9687031109591926,\n",
       " 3.926625354457201,\n",
       " 3.83133377836115,\n",
       " 4.084834805002973,\n",
       " 4.0897911344041935,\n",
       " 4.135123771906112,\n",
       " 3.838270169909137,\n",
       " 3.992769938895384,\n",
       " 4.011004777031433,\n",
       " 3.9763221205607278,\n",
       " 4.169962489725526,\n",
       " 4.015959723733988,\n",
       " 4.044611982515289,\n",
       " 4.153676893817455,\n",
       " 3.9348808220999145,\n",
       " 4.027237226432273,\n",
       " 4.054282707922563,\n",
       " 3.8965377688882956,\n",
       " 4.090219313458675,\n",
       " 3.9489737907049123,\n",
       " 4.009061803636175,\n",
       " 4.1174786264853624,\n",
       " 4.091662515585835,\n",
       " 4.018844848419484,\n",
       " 3.9545364664411715,\n",
       " 4.18189849414275,\n",
       " 4.066859958547276,\n",
       " 4.039253184722063,\n",
       " 3.960474563973451,\n",
       " 3.927376578743866,\n",
       " 4.143524283677066,\n",
       " 3.7710821478635284,\n",
       " 4.011018311965972,\n",
       " 4.007189957054082,\n",
       " 4.0031743079612,\n",
       " 4.01337689163223,\n",
       " 4.03737942577213,\n",
       " 4.081910043374182,\n",
       " 4.025290500542899,\n",
       " 3.970637328643004,\n",
       " 3.975676250684105,\n",
       " 4.104558086809751,\n",
       " 3.9850381654177904,\n",
       " 4.049535942823909,\n",
       " 3.9258911626803177,\n",
       " 3.9083541064414664,\n",
       " 3.91882538191375,\n",
       " 4.108581610082322,\n",
       " 4.054962877097431,\n",
       " 3.9995183867102098,\n",
       " 4.09929506417442,\n",
       " 4.1035826863967575,\n",
       " 4.0571458273077345,\n",
       " 3.9357887837693886,\n",
       " 4.152214677870287,\n",
       " 4.156701571355942,\n",
       " 4.03971708729399,\n",
       " 3.859610172021235,\n",
       " 3.993937056704961,\n",
       " 3.8742735197559237,\n",
       " 3.9331040021078736,\n",
       " 4.0755461280872,\n",
       " 4.100803971238874,\n",
       " 3.8944672643730347,\n",
       " 3.8969269449111046,\n",
       " 4.010802283746494,\n",
       " 3.9835107605380755,\n",
       " 3.943305527333269,\n",
       " 3.830248433419387,\n",
       " 4.082869349917801,\n",
       " 3.9386444004199457,\n",
       " 4.022010149354011,\n",
       " 4.024930327562868,\n",
       " 4.037927800447441,\n",
       " 3.8604453693740557,\n",
       " 4.197131864469289,\n",
       " 4.022528563535517,\n",
       " 3.9102794092969417,\n",
       " 4.13113770597295,\n",
       " 4.149267756024605,\n",
       " 4.066625955028549,\n",
       " 3.9426728129096413,\n",
       " 4.036418489818306,\n",
       " 3.981506733444971,\n",
       " 4.02266582399345,\n",
       " 4.034905398121547,\n",
       " 4.023033355705078,\n",
       " 4.042758073427555,\n",
       " 4.055044848146681,\n",
       " 4.202597538540782,\n",
       " 3.8549709770484015,\n",
       " 3.927561784228276,\n",
       " 3.9982428445058233,\n",
       " 4.0558698428848015,\n",
       " 4.127968167701997,\n",
       " 3.9512944657611127,\n",
       " 3.9979689589784355,\n",
       " 3.982332069806742,\n",
       " 3.7908360592621606,\n",
       " 3.920313409566239,\n",
       " 4.098076183752309,\n",
       " 4.028087603704385,\n",
       " 3.7557811119305233,\n",
       " 3.9472018211304136,\n",
       " 3.9973720008513074,\n",
       " 4.020705100212062,\n",
       " 3.939227912079259,\n",
       " 4.020206915644014,\n",
       " 4.064176021746594,\n",
       " 4.004366997455406,\n",
       " 3.9820091561581963,\n",
       " 4.09278482130688,\n",
       " 3.9464268232979616,\n",
       " 3.96921250657857,\n",
       " 4.10568535066216,\n",
       " 3.9548097970858564,\n",
       " 3.981299628492398,\n",
       " 4.090340094824893,\n",
       " 3.9150858351706823,\n",
       " 4.065394545451472,\n",
       " 4.222453773639725,\n",
       " 4.022874365625927,\n",
       " 4.119319029346319,\n",
       " 3.9738765482238056,\n",
       " 4.027192885987353,\n",
       " 4.087557954808465,\n",
       " 4.053803968279603,\n",
       " 4.015226193332722,\n",
       " 4.011148857387597,\n",
       " 3.990539978696214,\n",
       " 3.993189893287536,\n",
       " 4.141611739781163,\n",
       " 4.036845839279891,\n",
       " 3.8998421360470634,\n",
       " 3.8881892226324144,\n",
       " 4.026285233988431,\n",
       " 4.02592189865555,\n",
       " 4.044971069411631,\n",
       " 3.9381930166691888,\n",
       " 4.067615415910703,\n",
       " 3.96022972756454,\n",
       " 4.203631207058589,\n",
       " 4.017686113795889,\n",
       " 3.9845003167773467,\n",
       " 3.99876590370519,\n",
       " 3.972133013235054,\n",
       " 3.984167978294122,\n",
       " 3.8446919704385625,\n",
       " 3.968346353435814,\n",
       " 4.0610130604067605,\n",
       " 4.0255502056919825,\n",
       " 3.8653350499850605,\n",
       " 4.037646492017214,\n",
       " 3.942649481836732,\n",
       " 3.8049804204166726,\n",
       " 4.08864574176075,\n",
       " 3.9297491724895237,\n",
       " 3.973657141350559,\n",
       " 3.9908177499020625,\n",
       " 3.9478206348142337,\n",
       " 4.008160789333292,\n",
       " 4.0413809939041245,\n",
       " 4.075900211072447,\n",
       " 4.136659332380528,\n",
       " 4.0355590023144865,\n",
       " 3.8921550631161095,\n",
       " 4.005020563657448,\n",
       " 4.107736319861005,\n",
       " 3.9625450269008877,\n",
       " 3.95054481071504,\n",
       " 3.8557775899928597,\n",
       " 3.948406165129596,\n",
       " 3.9029848394670155,\n",
       " 4.070041777840204,\n",
       " 4.112417973576008,\n",
       " 3.9204612821356988,\n",
       " 4.047994694580053,\n",
       " 3.96696880758339,\n",
       " 4.101226084000527,\n",
       " 3.961437220400118,\n",
       " 3.970491275565077,\n",
       " 3.9234357237273287,\n",
       " 3.951039245714482,\n",
       " 3.9296059615249934,\n",
       " 4.057144873077275,\n",
       " 4.11037958227586,\n",
       " 3.8888055077047468,\n",
       " 4.000158339521353,\n",
       " 4.006483676177883,\n",
       " 4.0212100858821795,\n",
       " 3.9390804031017677,\n",
       " 3.9389475881953877,\n",
       " 4.1382634677371115,\n",
       " 3.9873696905363287,\n",
       " 4.053392325563395,\n",
       " 3.971402844683437,\n",
       " 3.8181358017349702,\n",
       " 4.003582415945029,\n",
       " 4.0623221544927,\n",
       " 3.9472948199520816,\n",
       " 4.023988688049674,\n",
       " 3.870938161492793,\n",
       " 4.063817902810857,\n",
       " 3.902259399195253,\n",
       " 3.905198008360513,\n",
       " 4.072242942431235,\n",
       " 4.067001313014236,\n",
       " 3.9570161531314874,\n",
       " 4.030067310318994,\n",
       " 3.913492361564406,\n",
       " 4.044351154742973,\n",
       " 4.029568469224288,\n",
       " 3.9750276862438003,\n",
       " 4.1085332559025405,\n",
       " 3.8939028074197832,\n",
       " 3.8491701216058987,\n",
       " 3.904546635740155,\n",
       " 3.9510395272134557,\n",
       " 4.03504415187944,\n",
       " 4.044361848257505,\n",
       " 4.020339475691881,\n",
       " 4.111526808774369,\n",
       " 3.9315675489984714,\n",
       " 3.942882170592961,\n",
       " 3.9911447800929807,\n",
       " 3.9539493063754207,\n",
       " 4.15792700467815,\n",
       " 4.039913438217632,\n",
       " 4.140996315719295,\n",
       " 4.061703416171334,\n",
       " 4.064092560688122,\n",
       " 3.96288774327335,\n",
       " 3.955791656610711,\n",
       " 4.020105100123622,\n",
       " 3.8071828629033018,\n",
       " 3.9210528987441937,\n",
       " 3.9625942872407034,\n",
       " 4.101447277601241,\n",
       " 3.9973591056031794,\n",
       " 4.137059279770661,\n",
       " 3.933817793355844,\n",
       " 4.063463929060118,\n",
       " 3.9798643556017925,\n",
       " 3.900296324942031,\n",
       " 4.097361524334767,\n",
       " 3.8646050221352164,\n",
       " 4.042844850299869,\n",
       " 4.097486827522485,\n",
       " 3.9140241401330353,\n",
       " 4.002678944696408,\n",
       " 4.115756059286981,\n",
       " 4.06259271414368,\n",
       " 4.036343522784663,\n",
       " 4.01292555927184,\n",
       " 4.151526205177241,\n",
       " 4.0313695053307725,\n",
       " 4.033443214361492,\n",
       " 4.105743776072677,\n",
       " 4.005598246207622,\n",
       " 4.04304619308915,\n",
       " 3.9420088134258253,\n",
       " 4.014852084742774,\n",
       " 3.963988626060957,\n",
       " 3.9767442217929134,\n",
       " 3.9430617789893523,\n",
       " 3.9726423962053063,\n",
       " 4.046126974678419,\n",
       " 3.9803225550929136,\n",
       " 4.060339027753584,\n",
       " 3.950610259031084,\n",
       " 3.873176410717814,\n",
       " 4.070688813306567,\n",
       " 4.070509706315342,\n",
       " 3.9306099659044293,\n",
       " 3.9345258684253475,\n",
       " 4.046469590461209,\n",
       " 4.026270785666669,\n",
       " 4.102548041696144,\n",
       " 4.001360065797721,\n",
       " 3.96200326133679,\n",
       " 4.166445272626103,\n",
       " 3.9062723032010482,\n",
       " 4.036144576227001,\n",
       " 4.144273498194092,\n",
       " 3.991492307384169,\n",
       " 4.020398949916141,\n",
       " 3.9908929059712235,\n",
       " 4.014762874345923,\n",
       " 4.012591120541518,\n",
       " 4.048397928720693,\n",
       " 4.033189186057689,\n",
       " 4.144686484202919,\n",
       " 3.926038134541926,\n",
       " 3.977337653630038,\n",
       " 4.045419569409119,\n",
       " 4.046876673048177,\n",
       " 4.0199317112974,\n",
       " 3.9362330391995926,\n",
       " 3.9399302757486283,\n",
       " 4.0197291345686,\n",
       " 4.078246593747314,\n",
       " 3.949148856306222,\n",
       " 3.9671335151791243,\n",
       " 4.159995962207121,\n",
       " 3.9661219467676276,\n",
       " 4.055130363279253,\n",
       " 4.111346644524933,\n",
       " 3.916291031491749,\n",
       " 4.018465274037522,\n",
       " 4.026958741960265,\n",
       " 4.043932677656531,\n",
       " 3.9360040574678514,\n",
       " 4.048063942964393,\n",
       " 4.001392266510036,\n",
       " 4.030332561009833,\n",
       " 3.996804319069765,\n",
       " 4.000634364712422,\n",
       " 4.102167986816196,\n",
       " 3.986371240559066,\n",
       " 4.126856136160811,\n",
       " 4.00929827510157,\n",
       " 4.016459431377823,\n",
       " 3.95270683134182,\n",
       " 4.067224416855744,\n",
       " 3.953547892668807,\n",
       " 3.989397696772903,\n",
       " 4.12048837865989,\n",
       " 4.012369288776653,\n",
       " 3.8951598860336287,\n",
       " 4.071140908552148,\n",
       " 3.952148162159375,\n",
       " 3.9433068540975165,\n",
       " 4.055976446891645,\n",
       " 3.923650797676065,\n",
       " 4.0574579210652715,\n",
       " 3.8865195396124217,\n",
       " 4.001320208975678,\n",
       " 4.0533607659473,\n",
       " 3.922007605355865,\n",
       " 3.9383126450573567,\n",
       " 3.9451535561238207,\n",
       " 3.9995929562958388,\n",
       " 4.033351124375144,\n",
       " 3.971097405386855,\n",
       " 4.1174742669158135,\n",
       " 4.018081122170359,\n",
       " 3.940750678412202,\n",
       " 4.00997113466909,\n",
       " 3.9950604941673773,\n",
       " 3.9250078065445733,\n",
       " 3.9870768673970307,\n",
       " 3.9823032817146755,\n",
       " 3.9395021697642125,\n",
       " 3.9985192101445906,\n",
       " 3.996305589930439,\n",
       " 4.214741259452684,\n",
       " 3.9281301251407212,\n",
       " 4.221670228572202,\n",
       " 4.00625065244036,\n",
       " 3.857392110704242,\n",
       " 3.9947591616890388,\n",
       " 4.052605245114497,\n",
       " 4.167277336595621,\n",
       " 4.037029663596766,\n",
       " 3.964600581408031,\n",
       " 4.025528065191557,\n",
       " 4.008932178541373,\n",
       " 4.090777178978088,\n",
       " 4.102932278495876,\n",
       " 4.0282934379382604,\n",
       " 3.947632255087452,\n",
       " 4.067607027505199,\n",
       " 4.06819282778719,\n",
       " 4.013193323649616,\n",
       " 3.9935592006795315,\n",
       " 3.980385290291106,\n",
       " 3.9917171814449803,\n",
       " 3.9841846943071846,\n",
       " 3.937299840909701,\n",
       " 3.918670184629731,\n",
       " 4.015388207321192,\n",
       " 3.9227246412466816,\n",
       " 3.890646146585367,\n",
       " 3.938536643036643,\n",
       " 3.9879340074365395,\n",
       " 3.9823912939727903,\n",
       " 3.978633838568632,\n",
       " 3.9971039118302785,\n",
       " 3.9427969279679003,\n",
       " 3.8778845141518867,\n",
       " 4.054243730615721,\n",
       " 4.073737452365168,\n",
       " 3.981840596453684,\n",
       " 4.0033794836284,\n",
       " 4.076910553428907,\n",
       " 3.981926025310862,\n",
       " 3.8003703548813523,\n",
       " 3.803954003301476,\n",
       " 4.040426811295556,\n",
       " 4.06449091071604,\n",
       " 3.949458264345763,\n",
       " 4.017036025676114,\n",
       " 4.065416398608768,\n",
       " 4.062580394937174,\n",
       " 4.050477018771609,\n",
       " 3.9749402070626587,\n",
       " 4.021544318092516,\n",
       " 3.9613654139421874,\n",
       " 3.882516177859943,\n",
       " 3.959336503755912,\n",
       " 3.9286847862137404,\n",
       " 3.9679450176716555,\n",
       " 4.0141194970487515,\n",
       " 3.99772675961458,\n",
       " 3.8077917681568594,\n",
       " 4.000836873667566,\n",
       " 3.90321625265983,\n",
       " 4.079260913111567,\n",
       " 4.052185107684673,\n",
       " 3.992842134934547,\n",
       " 3.992644562674191,\n",
       " 4.144448078493788,\n",
       " 4.042311911951731,\n",
       " 4.172982450983653,\n",
       " 4.009588559835102,\n",
       " 4.024224046583759,\n",
       " 3.9264708151946297,\n",
       " 3.8884201653700887,\n",
       " 3.9594011875656054,\n",
       " 4.0388131553796125,\n",
       " 3.9928382586615725,\n",
       " 3.993803428096273,\n",
       " 4.036971704834174,\n",
       " 4.01085904062688,\n",
       " 4.007884363461449,\n",
       " 4.052219772523744,\n",
       " 3.9504449614019563,\n",
       " 4.074202725167087,\n",
       " 3.893819255763515,\n",
       " 4.032844547462118,\n",
       " 3.930970171587917,\n",
       " 3.962806506030735,\n",
       " 3.9198003368556784,\n",
       " 4.105276603399924,\n",
       " 4.040846906034308,\n",
       " 4.015586113484552,\n",
       " 4.127604871855139,\n",
       " 3.897400382010844,\n",
       " 3.90859702673495,\n",
       " 4.090663337066097,\n",
       " 3.9725932988464296,\n",
       " 3.9373125651395378,\n",
       " 3.9504398819340754,\n",
       " 3.9978592477897297,\n",
       " 3.9268426518399595,\n",
       " 4.073243077826465,\n",
       " 4.07679559932102,\n",
       " 4.081825229364233,\n",
       " 4.104366970460305,\n",
       " 3.978394106342094,\n",
       " 3.974254693290787,\n",
       " 3.776671113133547,\n",
       " 4.043928424395287,\n",
       " 3.960091055301445,\n",
       " 3.946850772464772,\n",
       " 4.060947540336787,\n",
       " 3.9940676940151274,\n",
       " 4.019040268666739,\n",
       " 3.9859668905954364,\n",
       " 4.1005369679579395,\n",
       " 4.017653748364027,\n",
       " 4.158931514614378,\n",
       " 3.960916885363443,\n",
       " 3.95130597146099,\n",
       " 4.04871089800128,\n",
       " 3.971369011202209,\n",
       " 4.004148723194801,\n",
       " 4.177792562236113,\n",
       " 4.117819618748896,\n",
       " 4.092862554895392,\n",
       " 4.131964915855134,\n",
       " 3.9453252722375187,\n",
       " 3.936899299132522,\n",
       " 4.152212036708916,\n",
       " 3.955497782811839,\n",
       " 3.971037235245003,\n",
       " 3.984578068924988,\n",
       " 3.990784481109312,\n",
       " 3.8764801678193823,\n",
       " 3.9621786059831305,\n",
       " 4.066742717083722,\n",
       " 4.001140908426375,\n",
       " 3.9109435931962184,\n",
       " 4.010681836881677,\n",
       " 3.965776089371727,\n",
       " 3.9477922824179164,\n",
       " 3.9077006077320253,\n",
       " 3.889855841546469,\n",
       " 4.0998969702879,\n",
       " 4.039994787885553,\n",
       " 4.146499738194518,\n",
       " 4.075871317675902,\n",
       " 3.938753048689678,\n",
       " 4.0271685438479565,\n",
       " 4.1186613092276225,\n",
       " 3.9608840140641077,\n",
       " 3.820143205119831,\n",
       " 3.907285237930651,\n",
       " 3.910653234232695,\n",
       " 4.2493485266375535,\n",
       " 4.07779824844312,\n",
       " 3.9262337378025625,\n",
       " 3.9421110723618926,\n",
       " 3.961420594996834,\n",
       " 4.051124355477298,\n",
       " 4.047346428156513,\n",
       " 4.013895845479884,\n",
       " 4.001687894614835,\n",
       " 4.0732251802156005,\n",
       " 4.006305860670563,\n",
       " 3.99611760455023,\n",
       " 3.857822998638811,\n",
       " 3.998937529134817,\n",
       " 4.0184866506666275,\n",
       " 3.986036646248883,\n",
       " 3.8447599426263843,\n",
       " 3.9426027412157327,\n",
       " 4.018068098577586,\n",
       " 3.9379903406767527,\n",
       " 3.9687077606422845,\n",
       " 3.989986010485784,\n",
       " 3.9500749520970033,\n",
       " 4.007321848833867,\n",
       " 3.879238424392396,\n",
       " 4.096743058572591,\n",
       " 4.011427905637287,\n",
       " 4.013258943718506,\n",
       " 3.978449384297924,\n",
       " 4.1124041910947575,\n",
       " 4.067135569804472,\n",
       " 4.053601892135188,\n",
       " 3.823613516568882,\n",
       " 4.0553032305318535,\n",
       " 3.999112388398518,\n",
       " 3.9825744395437592,\n",
       " 4.014456843243152,\n",
       " 3.9892453848986587,\n",
       " 3.962648726555234,\n",
       " 3.9889544641968833,\n",
       " 3.9126967813680347,\n",
       " 4.157404427469996,\n",
       " 4.039286403614839,\n",
       " 4.0172848286023175,\n",
       " 4.049544906567615,\n",
       " 4.104101126350438,\n",
       " 4.068415163991933,\n",
       " 4.005006728819613,\n",
       " 3.9187039143139804,\n",
       " 4.024816386450713,\n",
       " 3.964413979906242,\n",
       " 3.964351419320738,\n",
       " 4.055693694816817,\n",
       " 4.144077896093512,\n",
       " 3.9771916947412107,\n",
       " 3.9230291140266846,\n",
       " 4.075797037481539,\n",
       " 4.009393658026116,\n",
       " 4.068973869269756,\n",
       " 3.933359592972357,\n",
       " 3.9497771809625495,\n",
       " 3.9698259260067115,\n",
       " 3.9486451702330196,\n",
       " 4.058575040301352,\n",
       " 3.990550476587276,\n",
       " 3.8105482457676794,\n",
       " 3.917234487616505,\n",
       " 4.04813156207002,\n",
       " 4.09733720635355,\n",
       " 4.146195696340238,\n",
       " 3.8505355067724634,\n",
       " 3.9227786017483557,\n",
       " 3.9087012052895864,\n",
       " 4.0004806954475765,\n",
       " 4.024686082251611,\n",
       " 3.8975315070629493,\n",
       " 4.070821108442927,\n",
       " 3.958946460863993,\n",
       " 4.085507103066984,\n",
       " 3.967241218909815,\n",
       " 3.99675342653543,\n",
       " 3.8988692652472903,\n",
       " 4.006501006587636,\n",
       " 4.091873560152555,\n",
       " 3.9433261227830805,\n",
       " 4.031346821996856,\n",
       " 3.970374821218059,\n",
       " 3.9572796960635075,\n",
       " 4.004240214149081,\n",
       " 4.1090024740325655,\n",
       " 4.0945238742974,\n",
       " 4.046408826242298,\n",
       " 3.9930689740802126,\n",
       " 4.081726690698656,\n",
       " 3.9454690249196243,\n",
       " 3.7917814910959016,\n",
       " 4.061998666079147,\n",
       " 4.061626797319643,\n",
       " 3.9935100882924552,\n",
       " 4.01003666836337,\n",
       " 3.9821353504740817,\n",
       " 4.038913749213258,\n",
       " 4.006329665438131,\n",
       " 4.067162497712084,\n",
       " 3.9840333417952154,\n",
       " 3.973630657006356,\n",
       " 3.972555460767022,\n",
       " 4.047415443535443,\n",
       " 3.894507931493174,\n",
       " 4.095273722547455,\n",
       " 4.030889792674586,\n",
       " 3.9813160641530514,\n",
       " 3.9648112524292465,\n",
       " 4.030376043503669,\n",
       " 4.0269313180635935,\n",
       " 3.849879650528582,\n",
       " 3.9212541097238547,\n",
       " 3.96925394456494,\n",
       " 4.046743275366066,\n",
       " 3.9753468813684294,\n",
       " 3.999094470179672,\n",
       " 4.1432798397757065,\n",
       " 4.014674688740739,\n",
       " 3.9133061241675238,\n",
       " 4.05575362864355,\n",
       " 4.064608835375966,\n",
       " 4.1537283922642185,\n",
       " 3.9657286374034926,\n",
       " 3.96940959094656,\n",
       " 4.115988662446791,\n",
       " 4.025097941516313,\n",
       " 4.023831827455871,\n",
       " 4.060644531632311,\n",
       " 4.095418350601117,\n",
       " 4.060228893468141,\n",
       " 4.001766945073923,\n",
       " 3.9306219778040115,\n",
       " 3.977010933394931,\n",
       " 3.875730616488316,\n",
       " 3.951053966797752,\n",
       " 3.8656718714122267,\n",
       " 4.041142480056376,\n",
       " 4.010800210000191,\n",
       " 4.022535945173456,\n",
       " 4.007939230954877,\n",
       " 3.9315338628870626,\n",
       " 4.0392923079865275,\n",
       " 3.9854386322136857,\n",
       " 3.9202677646976114,\n",
       " 3.8780401361813466,\n",
       " 4.030846712307337,\n",
       " 4.0408885223302375,\n",
       " 4.078381867330343,\n",
       " 3.987736698503237,\n",
       " 3.9416000951853256,\n",
       " 3.9010271614476437,\n",
       " 4.055402908855664,\n",
       " 3.9680970927109325,\n",
       " 4.093377837048598,\n",
       " 3.9288008177451483,\n",
       " 3.8867931347471814,\n",
       " 3.971263015466793,\n",
       " 3.9724882659594836,\n",
       " 4.064827708164517,\n",
       " 4.044516043980706,\n",
       " 4.033221501680013,\n",
       " 3.9789865623131275,\n",
       " 4.037116633540934,\n",
       " 3.889652267254098,\n",
       " 4.088092431389314,\n",
       " 4.110544112689554,\n",
       " 4.042771810054689,\n",
       " 4.078770454514991,\n",
       " 4.169268812238091,\n",
       " 3.8864699554796958,\n",
       " 4.041353334240361,\n",
       " 3.844348985184993,\n",
       " 3.9092615586303214,\n",
       " 3.9647616531627246,\n",
       " 3.8092343545302594,\n",
       " 4.044311256374043,\n",
       " 4.123012346082799,\n",
       " 3.92986743115757,\n",
       " 4.001463088410161,\n",
       " 4.16664140120972,\n",
       " 3.9896541469269913,\n",
       " 3.9698716156689215,\n",
       " 3.8878091678527342,\n",
       " 3.9604444744500222,\n",
       " 3.991640035639946,\n",
       " 3.9912604958075137,\n",
       " 4.03844082519315,\n",
       " 4.065784958534454,\n",
       " 3.915919165249527,\n",
       " 4.0061346972303555,\n",
       " 3.996506849404754,\n",
       " 3.9406944330461835,\n",
       " 4.104278119600243,\n",
       " 3.938787468919844,\n",
       " 4.0682738210006155,\n",
       " 4.036458783683188,\n",
       " 3.977224564162477,\n",
       " 4.086547797474076,\n",
       " 4.061533319386692,\n",
       " 3.9657848505804636,\n",
       " 3.9781170396042556,\n",
       " 3.930017609922992,\n",
       " 4.052834614742421,\n",
       " 4.073826840221224,\n",
       " 3.998482400313049,\n",
       " 3.9091390298095625,\n",
       " 4.028466017246668,\n",
       " 3.9803029247992794,\n",
       " 3.9110918190380732,\n",
       " 4.012425473483959,\n",
       " 4.015730439370448,\n",
       " 3.879208943878616,\n",
       " 3.9062086531830675,\n",
       " 4.005860470495769,\n",
       " 3.9351180299679744,\n",
       " 3.9800527168461595,\n",
       " 4.168906017509399,\n",
       " 3.976410158042676,\n",
       " 3.933677072970389,\n",
       " 3.9567693804887902,\n",
       " 3.9904086654059028,\n",
       " 3.9904758123998825,\n",
       " 4.063240407531406,\n",
       " 3.885053667266512,\n",
       " 4.111023911847849,\n",
       " 3.893172600057393,\n",
       " 3.9858416204381215,\n",
       " 3.9061293390289666,\n",
       " 3.986736564268658,\n",
       " 4.041287528849686,\n",
       " 3.92852000567599,\n",
       " 3.8696998531986875,\n",
       " 3.9442789454894727,\n",
       " 4.063453299014172,\n",
       " 3.829304444034142,\n",
       " 4.004681926611191,\n",
       " 4.106393415562739,\n",
       " 4.068832618813688,\n",
       " 4.123095599788953,\n",
       " 3.944938128378366,\n",
       " 3.9424050925011596,\n",
       " 3.922769464854688,\n",
       " 3.8623741440612953,\n",
       " 3.9623052013105498,\n",
       " 4.110669965482723,\n",
       " 3.9579425589808728,\n",
       " 4.069225583114688,\n",
       " 3.9477275035071178,\n",
       " 4.001424614396447,\n",
       " 4.082414513343245,\n",
       " 3.975747138333404,\n",
       " 4.055340836973687,\n",
       " 3.9885357282726717,\n",
       " 3.9967848506030044,\n",
       " 3.9366840588216383,\n",
       " 3.9129019792954205,\n",
       " 4.136207938132997,\n",
       " 4.107840847985282,\n",
       " 4.102510875130724,\n",
       " 4.13924397949937,\n",
       " 4.040647679363863,\n",
       " 3.952884347889297,\n",
       " 3.8002578489894945,\n",
       " 4.030077040175043,\n",
       " 3.948806088805913,\n",
       " 3.969252005002567,\n",
       " 4.010336872551514,\n",
       " 4.018230073528117,\n",
       " 4.0457869582397645,\n",
       " 3.9604201322806967,\n",
       " 4.011510232137287,\n",
       " 4.073371870308669,\n",
       " 4.1654640843460875,\n",
       " 4.027773914041331,\n",
       " 3.9996712959754155,\n",
       " 3.982175134341746,\n",
       " 3.9689608571155373,\n",
       " 3.958585809986402,\n",
       " 4.068365187634555,\n",
       " 3.8911541822638838,\n",
       " 3.942886738854382,\n",
       " 4.097129594360706,\n",
       " 3.9881042563572784,\n",
       " 3.894975998721992,\n",
       " 4.010069209642289,\n",
       " 3.8758752814971005,\n",
       " 3.905387770981909,\n",
       " 3.98087790348072,\n",
       " 4.029765229838472,\n",
       " 4.060312398972975,\n",
       " 4.086594164685864,\n",
       " 4.088184049878843,\n",
       " 4.050474243790206,\n",
       " 3.8953577486308286,\n",
       " 4.050427429739099,\n",
       " 4.021155051993177]"
      ]
     },
     "execution_count": 68,
     "metadata": {},
     "output_type": "execute_result"
    }
   ],
   "source": [
    "sample_means  # 샘플 평균들의 분포"
   ]
  },
  {
   "cell_type": "code",
   "execution_count": 69,
   "id": "e4d2e0a8",
   "metadata": {
    "ExecuteTime": {
     "end_time": "2022-05-17T06:26:26.541204Z",
     "start_time": "2022-05-17T06:26:26.524251Z"
    }
   },
   "outputs": [
    {
     "data": {
      "text/plain": [
       "4.001767481604932"
      ]
     },
     "execution_count": 69,
     "metadata": {},
     "output_type": "execute_result"
    }
   ],
   "source": [
    "sp.mean(sample_means)  # 샘플 평균들의 분포의 평균  => 모평균에 수렴"
   ]
  },
  {
   "cell_type": "code",
   "execution_count": 70,
   "id": "396147f7",
   "metadata": {
    "ExecuteTime": {
     "end_time": "2022-05-17T06:26:31.014559Z",
     "start_time": "2022-05-17T06:26:31.004558Z"
    }
   },
   "outputs": [
    {
     "data": {
      "text/plain": [
       "0.006193556394165851"
      ]
     },
     "execution_count": 70,
     "metadata": {},
     "output_type": "execute_result"
    }
   ],
   "source": [
    "sp.var(sample_means)   # 샘플 평균들의 분포의 분산  => 모분산에 수렴.."
   ]
  },
  {
   "cell_type": "code",
   "execution_count": 71,
   "id": "48771b7a",
   "metadata": {
    "ExecuteTime": {
     "end_time": "2022-05-17T06:26:38.433139Z",
     "start_time": "2022-05-17T06:26:38.428124Z"
    }
   },
   "outputs": [
    {
     "data": {
      "text/plain": [
       "0.6193556394165851"
      ]
     },
     "execution_count": 71,
     "metadata": {},
     "output_type": "execute_result"
    }
   ],
   "source": [
    "# 모분산/n     0.64/30\n",
    "# 모분산 \n",
    "\n",
    "sp.var(sample_means) * 100"
   ]
  },
  {
   "cell_type": "code",
   "execution_count": 72,
   "id": "a73375a5",
   "metadata": {
    "ExecuteTime": {
     "end_time": "2022-05-17T06:26:44.419109Z",
     "start_time": "2022-05-17T06:26:44.187624Z"
    }
   },
   "outputs": [
    {
     "data": {
      "text/plain": [
       "<AxesSubplot:ylabel='Density'>"
      ]
     },
     "execution_count": 72,
     "metadata": {},
     "output_type": "execute_result"
    },
    {
     "data": {
      "image/png": "[encoded data removed]",
      "text/plain": [
       "<Figure size 432x288 with 1 Axes>"
      ]
     },
     "metadata": {
      "needs_background": "light"
     },
     "output_type": "display_data"
    }
   ],
   "source": [
    "sns.distplot(sample_means, bins=100)  # 샘플 평균들의 분포 >> 정규분포(mu, theta/n)  >  N(4, 0.61)"
   ]
  },
  {
   "cell_type": "code",
   "execution_count": null,
   "id": "97809256",
   "metadata": {},
   "outputs": [],
   "source": []
  },
  {
   "cell_type": "markdown",
   "id": "dd5f86c2",
   "metadata": {},
   "source": [
    "# Scipy stats함수 사용(stats.pdf, stats.cdf...)"
   ]
  },
  {
   "cell_type": "code",
   "execution_count": 73,
   "id": "8b71771d",
   "metadata": {
    "ExecuteTime": {
     "end_time": "2022-05-17T06:27:19.717533Z",
     "start_time": "2022-05-17T06:27:19.708557Z"
    }
   },
   "outputs": [],
   "source": [
    "from scipy import stats"
   ]
  },
  {
   "cell_type": "code",
   "execution_count": 74,
   "id": "e656eed9",
   "metadata": {
    "ExecuteTime": {
     "end_time": "2022-05-17T06:27:43.855957Z",
     "start_time": "2022-05-17T06:27:43.837009Z"
    }
   },
   "outputs": [
    {
     "data": {
      "text/plain": [
       "array([1. , 1.1, 1.2, 1.3, 1.4, 1.5, 1.6, 1.7, 1.8, 1.9, 2. , 2.1, 2.2,\n",
       "       2.3, 2.4, 2.5, 2.6, 2.7, 2.8, 2.9, 3. , 3.1, 3.2, 3.3, 3.4, 3.5,\n",
       "       3.6, 3.7, 3.8, 3.9, 4. , 4.1, 4.2, 4.3, 4.4, 4.5, 4.6, 4.7, 4.8,\n",
       "       4.9, 5. , 5.1, 5.2, 5.3, 5.4, 5.5, 5.6, 5.7, 5.8, 5.9, 6. , 6.1,\n",
       "       6.2, 6.3, 6.4, 6.5, 6.6, 6.7, 6.8, 6.9])"
      ]
     },
     "execution_count": 74,
     "metadata": {},
     "output_type": "execute_result"
    }
   ],
   "source": [
    "x = np.arange(start=1, stop=7, step= 0.1)\n",
    "x"
   ]
  },
  {
   "cell_type": "code",
   "execution_count": 75,
   "id": "db2ce8c1",
   "metadata": {
    "ExecuteTime": {
     "end_time": "2022-05-17T06:28:30.635630Z",
     "start_time": "2022-05-17T06:28:30.621668Z"
    }
   },
   "outputs": [
    {
     "data": {
      "text/plain": [
       "array([4.40744603e-04, 6.98826903e-04, 1.09085337e-03, 1.67639859e-03,\n",
       "       2.53631007e-03, 3.77782254e-03, 5.53981051e-03, 7.99765039e-03,\n",
       "       1.13669531e-02, 1.59052270e-02, 2.19103756e-02, 2.97148760e-02,\n",
       "       3.96745648e-02, 5.21512316e-02, 6.74887081e-02, 8.59828448e-02,\n",
       "       1.07846649e-01, 1.33172835e-01, 1.61896995e-01, 1.93765332e-01,\n",
       "       2.28311357e-01, 2.64845807e-01, 3.02463406e-01, 3.40068748e-01,\n",
       "       3.76421790e-01, 4.10201211e-01, 4.40081658e-01, 4.64818867e-01,\n",
       "       4.83335146e-01, 4.94797109e-01, 4.98677851e-01, 4.94797109e-01,\n",
       "       4.83335146e-01, 4.64818867e-01, 4.40081658e-01, 4.10201211e-01,\n",
       "       3.76421790e-01, 3.40068748e-01, 3.02463406e-01, 2.64845807e-01,\n",
       "       2.28311357e-01, 1.93765332e-01, 1.61896995e-01, 1.33172835e-01,\n",
       "       1.07846649e-01, 8.59828448e-02, 6.74887081e-02, 5.21512316e-02,\n",
       "       3.96745648e-02, 2.97148760e-02, 2.19103756e-02, 1.59052270e-02,\n",
       "       1.13669531e-02, 7.99765039e-03, 5.53981051e-03, 3.77782254e-03,\n",
       "       2.53631007e-03, 1.67639859e-03, 1.09085337e-03, 6.98826903e-04])"
      ]
     },
     "execution_count": 75,
     "metadata": {},
     "output_type": "execute_result"
    }
   ],
   "source": [
    "stats.norm.pdf(x=x, loc=4, scale=0.8) # 평균4, 표준편차 0.8인 정규분포에서 x값에 대한 확률값"
   ]
  },
  {
   "cell_type": "code",
   "execution_count": 76,
   "id": "faec3dc4",
   "metadata": {
    "ExecuteTime": {
     "end_time": "2022-05-17T06:30:59.096474Z",
     "start_time": "2022-05-17T06:30:59.004673Z"
    }
   },
   "outputs": [
    {
     "data": {
      "text/plain": [
       "[<matplotlib.lines.Line2D at 0x2a39b07a190>]"
      ]
     },
     "execution_count": 76,
     "metadata": {},
     "output_type": "execute_result"
    },
    {
     "data": {
      "image/png": "[encoded data removed]",
      "text/plain": [
       "<Figure size 432x288 with 1 Axes>"
      ]
     },
     "metadata": {
      "needs_background": "light"
     },
     "output_type": "display_data"
    }
   ],
   "source": [
    "plt.plot(x , stats.norm.pdf(x=x, loc=4, scale=0.8))"
   ]
  },
  {
   "cell_type": "code",
   "execution_count": 77,
   "id": "57d3b9ee",
   "metadata": {
    "ExecuteTime": {
     "end_time": "2022-05-17T06:32:07.211535Z",
     "start_time": "2022-05-17T06:32:07.195582Z"
    }
   },
   "outputs": [
    {
     "data": {
      "text/plain": [
       "0.021910375616960673"
      ]
     },
     "execution_count": 77,
     "metadata": {},
     "output_type": "execute_result"
    }
   ],
   "source": [
    "stats.norm.pdf(2, loc=4, scale=0.8)"
   ]
  },
  {
   "cell_type": "code",
   "execution_count": 78,
   "id": "b8e6fa89",
   "metadata": {
    "ExecuteTime": {
     "end_time": "2022-05-17T06:32:26.849498Z",
     "start_time": "2022-05-17T06:32:26.843496Z"
    }
   },
   "outputs": [
    {
     "data": {
      "text/plain": [
       "0.2283113567362774"
      ]
     },
     "execution_count": 78,
     "metadata": {},
     "output_type": "execute_result"
    }
   ],
   "source": [
    "stats.norm.pdf(3, loc=4, scale=0.8)"
   ]
  },
  {
   "cell_type": "code",
   "execution_count": null,
   "id": "068a45ab",
   "metadata": {},
   "outputs": [],
   "source": [
    "# rvs : 특정분포에서 샘플을 추출하는 함수"
   ]
  },
  {
   "cell_type": "code",
   "execution_count": 80,
   "id": "b1d7f375",
   "metadata": {
    "ExecuteTime": {
     "end_time": "2022-05-17T06:34:25.233326Z",
     "start_time": "2022-05-17T06:34:25.212415Z"
    }
   },
   "outputs": [
    {
     "data": {
      "text/plain": [
       "array([2.67150783, 4.67129348, 5.0464361 , 4.39386423, 3.99942014,\n",
       "       5.78812065, 4.96319138, 3.27686225, 5.20150732, 5.33789801])"
      ]
     },
     "execution_count": 80,
     "metadata": {},
     "output_type": "execute_result"
    }
   ],
   "source": [
    "sample_norm = stats.norm.rvs(loc=4, scale=0.8, size=10) \n",
    "sample_norm"
   ]
  },
  {
   "cell_type": "code",
   "execution_count": 81,
   "id": "826c4620",
   "metadata": {
    "ExecuteTime": {
     "end_time": "2022-05-17T06:34:36.837348Z",
     "start_time": "2022-05-17T06:34:36.827373Z"
    }
   },
   "outputs": [
    {
     "data": {
      "text/plain": [
       "4.535010140721079"
      ]
     },
     "execution_count": 81,
     "metadata": {},
     "output_type": "execute_result"
    }
   ],
   "source": [
    "sp.mean(sample_norm)"
   ]
  },
  {
   "cell_type": "code",
   "execution_count": 82,
   "id": "c8395ad7",
   "metadata": {
    "ExecuteTime": {
     "end_time": "2022-05-17T06:34:46.547257Z",
     "start_time": "2022-05-17T06:34:46.540262Z"
    }
   },
   "outputs": [
    {
     "data": {
      "text/plain": [
       "0.8484958002055187"
      ]
     },
     "execution_count": 82,
     "metadata": {},
     "output_type": "execute_result"
    }
   ],
   "source": [
    "sp.var(sample_norm)"
   ]
  },
  {
   "cell_type": "code",
   "execution_count": null,
   "id": "8a798e7c",
   "metadata": {},
   "outputs": [],
   "source": []
  },
  {
   "cell_type": "code",
   "execution_count": 86,
   "id": "b5e26345",
   "metadata": {
    "ExecuteTime": {
     "end_time": "2022-05-17T06:36:43.038059Z",
     "start_time": "2022-05-17T06:36:43.021123Z"
    }
   },
   "outputs": [],
   "source": [
    "population = stats.norm(loc=4, scale=0.8) # 평균이 4이고 표준편차가 0.8인 정규분포 객체 생성"
   ]
  },
  {
   "cell_type": "code",
   "execution_count": 89,
   "id": "eeb437a8",
   "metadata": {
    "ExecuteTime": {
     "end_time": "2022-05-17T06:36:57.125587Z",
     "start_time": "2022-05-17T06:36:57.118610Z"
    }
   },
   "outputs": [
    {
     "data": {
      "text/plain": [
       "array([4.83616747, 4.91772858, 3.87034535, 3.98996276, 5.11345648,\n",
       "       3.11453158, 4.83568547, 4.12711894, 4.60187515, 4.51057635])"
      ]
     },
     "execution_count": 89,
     "metadata": {},
     "output_type": "execute_result"
    }
   ],
   "source": [
    "population.rvs(size=10) # 샘플10개 추출"
   ]
  },
  {
   "cell_type": "code",
   "execution_count": 90,
   "id": "0d051abb",
   "metadata": {
    "ExecuteTime": {
     "end_time": "2022-05-17T06:38:29.939927Z",
     "start_time": "2022-05-17T06:38:29.933944Z"
    }
   },
   "outputs": [
    {
     "data": {
      "text/plain": [
       "0.2283113567362774"
      ]
     },
     "execution_count": 90,
     "metadata": {},
     "output_type": "execute_result"
    }
   ],
   "source": [
    "population.pdf(5) # 5가 등장할 확률"
   ]
  },
  {
   "cell_type": "code",
   "execution_count": null,
   "id": "d92de11d",
   "metadata": {},
   "outputs": [],
   "source": []
  },
  {
   "cell_type": "markdown",
   "id": "a435d3a6",
   "metadata": {
    "ExecuteTime": {
     "end_time": "2022-05-17T06:38:43.291877Z",
     "start_time": "2022-05-17T06:38:43.277915Z"
    }
   },
   "source": [
    "## 중심극한 정리"
   ]
  },
  {
   "cell_type": "code",
   "execution_count": 92,
   "id": "3a343330",
   "metadata": {
    "ExecuteTime": {
     "end_time": "2022-05-17T06:40:16.094656Z",
     "start_time": "2022-05-17T06:40:16.075708Z"
    }
   },
   "outputs": [],
   "source": [
    "sample_means = []\n",
    "\n",
    "for _ in range(100):\n",
    "    sample = population.rvs(size=30)  # 이론적으로 30개 이상 추출해야 성립\n",
    "    sample_means.append(sp.mean(sample))"
   ]
  },
  {
   "cell_type": "code",
   "execution_count": 94,
   "id": "6f525cfa",
   "metadata": {
    "ExecuteTime": {
     "end_time": "2022-05-17T06:40:36.611335Z",
     "start_time": "2022-05-17T06:40:36.603328Z"
    }
   },
   "outputs": [
    {
     "data": {
      "text/plain": [
       "3.9927818588206363"
      ]
     },
     "execution_count": 94,
     "metadata": {},
     "output_type": "execute_result"
    }
   ],
   "source": [
    "sp.mean(sample_means)"
   ]
  },
  {
   "cell_type": "code",
   "execution_count": 95,
   "id": "c56f98e7",
   "metadata": {
    "ExecuteTime": {
     "end_time": "2022-05-17T06:41:02.374364Z",
     "start_time": "2022-05-17T06:41:02.362366Z"
    }
   },
   "outputs": [
    {
     "data": {
      "text/plain": [
       "0.5258869672119779"
      ]
     },
     "execution_count": 95,
     "metadata": {},
     "output_type": "execute_result"
    }
   ],
   "source": [
    "sp.var(sample_means) * 30  # 표본평균분포의 분산 = theta/n"
   ]
  },
  {
   "cell_type": "code",
   "execution_count": 96,
   "id": "48b512ea",
   "metadata": {
    "ExecuteTime": {
     "end_time": "2022-05-17T06:42:38.020903Z",
     "start_time": "2022-05-17T06:42:37.835482Z"
    }
   },
   "outputs": [
    {
     "data": {
      "text/plain": [
       "<AxesSubplot:ylabel='Density'>"
      ]
     },
     "execution_count": 96,
     "metadata": {},
     "output_type": "execute_result"
    },
    {
     "data": {
      "image/png": "[encoded data removed]",
      "text/plain": [
       "<Figure size 432x288 with 1 Axes>"
      ]
     },
     "metadata": {
      "needs_background": "light"
     },
     "output_type": "display_data"
    }
   ],
   "source": [
    "sns.distplot(sample_means, bins=100)"
   ]
  },
  {
   "cell_type": "code",
   "execution_count": null,
   "id": "1cf9a87a",
   "metadata": {},
   "outputs": [],
   "source": []
  },
  {
   "cell_type": "code",
   "execution_count": 97,
   "id": "a9442865",
   "metadata": {
    "ExecuteTime": {
     "end_time": "2022-05-17T06:46:47.565644Z",
     "start_time": "2022-05-17T06:46:47.547693Z"
    }
   },
   "outputs": [],
   "source": [
    "def calc_sample_mean(size=30, n_trial=10000):\n",
    "\n",
    "    sample_means = []\n",
    "\n",
    "    for _ in range(n_trial):\n",
    "        sample = population.rvs(size)  # 이론적으로 30개 이상 추출해야 성립\n",
    "        sample_means.append(sp.mean(sample))\n",
    "    \n",
    "    return sample_means"
   ]
  },
  {
   "cell_type": "code",
   "execution_count": 98,
   "id": "d315c7e1",
   "metadata": {
    "ExecuteTime": {
     "end_time": "2022-05-17T06:46:54.974325Z",
     "start_time": "2022-05-17T06:46:54.473099Z"
    }
   },
   "outputs": [
    {
     "data": {
      "text/plain": [
       "[4.134284254067149,\n",
       " 3.8512205446069845,\n",
       " 4.066621290714436,\n",
       " 4.218533767842079,\n",
       " 3.77760180102777,\n",
       " 3.881240259379429,\n",
       " 4.065457735606285,\n",
       " 3.9738495957409823,\n",
       " 3.8680097251295265,\n",
       " 4.129127301175614,\n",
       " 4.07550189524497,\n",
       " 3.909237081913471,\n",
       " 3.8918787109142445,\n",
       " 3.6280717933140494,\n",
       " 4.010602009289922,\n",
       " 4.133684293078166,\n",
       " 3.941801636030559,\n",
       " 4.142329232377702,\n",
       " 3.9417333402005226,\n",
       " 3.9375035901339936,\n",
       " 3.686390145696334,\n",
       " 4.132629386973483,\n",
       " 3.8344512542684246,\n",
       " 3.900504787901578,\n",
       " 3.926452462196503,\n",
       " 3.984065148732964,\n",
       " 3.9139730863140354,\n",
       " 3.983061200839543,\n",
       " 4.257254435867153,\n",
       " 4.003792195568217,\n",
       " 4.01255761261485,\n",
       " 4.14032242951608,\n",
       " 4.204726339355933,\n",
       " 4.017426042781243,\n",
       " 4.114378837902306,\n",
       " 4.095140083646214,\n",
       " 3.9783282245462948,\n",
       " 4.348275183816488,\n",
       " 4.218480370856701,\n",
       " 4.18381935286346,\n",
       " 4.040323534707186,\n",
       " 3.8226534841331086,\n",
       " 4.086181425166822,\n",
       " 3.991567739448171,\n",
       " 3.8353753806700395,\n",
       " 3.955188777341534,\n",
       " 4.097858924796136,\n",
       " 4.252530019173716,\n",
       " 4.214090238977374,\n",
       " 3.8902419327136855,\n",
       " 4.093758333991076,\n",
       " 3.957031869609685,\n",
       " 3.905579913083225,\n",
       " 3.857906573626105,\n",
       " 4.343500212890505,\n",
       " 4.017618153986709,\n",
       " 3.6727225923613793,\n",
       " 4.044874728312998,\n",
       " 3.842437227354535,\n",
       " 3.970438915647577,\n",
       " 4.036962355367707,\n",
       " 4.023793019576958,\n",
       " 3.960027542024074,\n",
       " 4.017421320141257,\n",
       " 3.7357423195379607,\n",
       " 3.8744666617792674,\n",
       " 4.077134503702707,\n",
       " 4.115570966812287,\n",
       " 4.056513687727927,\n",
       " 4.096224512438996,\n",
       " 4.267507053364409,\n",
       " 3.76309882567885,\n",
       " 3.9503525339219427,\n",
       " 3.85702943929525,\n",
       " 3.8302777953259555,\n",
       " 4.048958456774982,\n",
       " 3.963917617271825,\n",
       " 4.141025823876915,\n",
       " 3.711885555871978,\n",
       " 4.15207831609055,\n",
       " 4.1121148879367615,\n",
       " 4.126368826374001,\n",
       " 4.1105377080747205,\n",
       " 3.868167406236235,\n",
       " 4.179379821922946,\n",
       " 3.9424227302560673,\n",
       " 4.030240076989022,\n",
       " 4.00750026648664,\n",
       " 4.046662755243924,\n",
       " 3.9098423974573353,\n",
       " 3.8322872798921375,\n",
       " 4.193364992151416,\n",
       " 3.968604249241427,\n",
       " 4.136317728299914,\n",
       " 3.938355314744662,\n",
       " 3.9502142134020373,\n",
       " 4.1175588518832615,\n",
       " 3.6917462436094843,\n",
       " 4.1529798724615805,\n",
       " 3.8410436248988318,\n",
       " 3.8873097593400776,\n",
       " 3.8918995428390457,\n",
       " 3.9553302068354834,\n",
       " 3.9297636209699016,\n",
       " 3.9842279271198944,\n",
       " 4.342860185849831,\n",
       " 4.104690230699069,\n",
       " 4.043674116928934,\n",
       " 3.8294626717909974,\n",
       " 3.998818370310418,\n",
       " 3.8128131013530644,\n",
       " 3.8620259737120697,\n",
       " 4.023522956536897,\n",
       " 4.069440369744102,\n",
       " 4.213524411362136,\n",
       " 4.095892007781964,\n",
       " 4.072973413169765,\n",
       " 4.141749226872601,\n",
       " 3.797364513277422,\n",
       " 3.9932985977876636,\n",
       " 4.102744151214876,\n",
       " 4.069609324547669,\n",
       " 3.9722931364617007,\n",
       " 3.9095262303764744,\n",
       " 3.8234116633763504,\n",
       " 3.961873045380212,\n",
       " 3.7596911159824984,\n",
       " 4.037087266995175,\n",
       " 3.8377161338199586,\n",
       " 3.7839117647516884,\n",
       " 4.069779455626375,\n",
       " 3.908377196649881,\n",
       " 3.8540207191176625,\n",
       " 3.9330451473231265,\n",
       " 3.9679577348938095,\n",
       " 3.9117651741254265,\n",
       " 3.9129247448879623,\n",
       " 4.109147849573765,\n",
       " 3.995756002281204,\n",
       " 3.8738222040606574,\n",
       " 3.9997823489358004,\n",
       " 3.961349690532852,\n",
       " 3.9748502168625257,\n",
       " 4.219287656524719,\n",
       " 3.937748777568716,\n",
       " 3.9589849426793973,\n",
       " 4.05967224827653,\n",
       " 4.159182465707407,\n",
       " 4.015035475321681,\n",
       " 3.798734731334557,\n",
       " 3.8313110342701795,\n",
       " 3.8669753639151865,\n",
       " 4.124154288765028,\n",
       " 3.893172929271681,\n",
       " 4.167088034678609,\n",
       " 4.255875065978127,\n",
       " 4.125231372507552,\n",
       " 4.085980748264217,\n",
       " 3.919696581567037,\n",
       " 3.932837700386759,\n",
       " 4.004467599940835,\n",
       " 3.935725984109783,\n",
       " 4.091504294324858,\n",
       " 4.230752306759835,\n",
       " 3.8253542674489203,\n",
       " 4.195311305214719,\n",
       " 3.9373543089575,\n",
       " 3.7419443651157844,\n",
       " 4.028739460986312,\n",
       " 4.01759470056485,\n",
       " 4.051934337442696,\n",
       " 4.05518158683572,\n",
       " 3.9470218023222987,\n",
       " 3.841882251188452,\n",
       " 4.093193814042162,\n",
       " 4.15081268984292,\n",
       " 4.224220083709317,\n",
       " 4.057696966573653,\n",
       " 4.043914118991647,\n",
       " 3.9099560658867336,\n",
       " 3.887633996112897,\n",
       " 4.066525225517783,\n",
       " 4.0392538892216825,\n",
       " 4.153328660490854,\n",
       " 4.041063603346319,\n",
       " 3.965024017233395,\n",
       " 4.073525893378797,\n",
       " 4.028248472395038,\n",
       " 4.164015118547112,\n",
       " 3.812586681907726,\n",
       " 3.996524179587445,\n",
       " 4.07949533947939,\n",
       " 4.111653791737106,\n",
       " 4.2244910361003924,\n",
       " 4.322650295309458,\n",
       " 3.851562410702599,\n",
       " 3.934138518007408,\n",
       " 4.03788862104533,\n",
       " 3.86562204961872,\n",
       " 4.176064305902191,\n",
       " 3.9081452611598504,\n",
       " 4.124828842161348,\n",
       " 4.0339999114476495,\n",
       " 3.8713982824980873,\n",
       " 4.026512316881278,\n",
       " 4.104219830072663,\n",
       " 4.26108721850718,\n",
       " 4.075640251488483,\n",
       " 4.140984174740164,\n",
       " 4.012480580903971,\n",
       " 4.053593689749161,\n",
       " 3.8567286413137265,\n",
       " 3.9254020432459575,\n",
       " 3.77057166116794,\n",
       " 3.838555678009881,\n",
       " 3.9585198568553515,\n",
       " 3.9009185773208666,\n",
       " 3.985925383938621,\n",
       " 3.997798740439038,\n",
       " 3.98126195465212,\n",
       " 3.931683050087351,\n",
       " 4.4100840972268465,\n",
       " 4.114625263806757,\n",
       " 3.9793590027243675,\n",
       " 3.928227186901445,\n",
       " 3.9282675690657944,\n",
       " 3.9730002566528047,\n",
       " 4.101508733346975,\n",
       " 3.9518447945815294,\n",
       " 4.082370235019019,\n",
       " 4.003057572278563,\n",
       " 4.224953640543202,\n",
       " 4.068929694548286,\n",
       " 3.94195227213649,\n",
       " 4.137632278168031,\n",
       " 3.795000432779047,\n",
       " 3.8533940829360676,\n",
       " 4.129635943470602,\n",
       " 3.7587845542632663,\n",
       " 3.831780772244299,\n",
       " 3.8532882151277423,\n",
       " 4.2953300830577685,\n",
       " 3.814452178797639,\n",
       " 4.146588482892104,\n",
       " 4.074129411498135,\n",
       " 3.9334418081375793,\n",
       " 3.9646112305864354,\n",
       " 3.9497986820554702,\n",
       " 4.088590157581665,\n",
       " 3.8242959320190133,\n",
       " 3.951869660487812,\n",
       " 4.021337505907513,\n",
       " 3.988230936655683,\n",
       " 3.8901910726020548,\n",
       " 3.993583319480021,\n",
       " 3.993766726085273,\n",
       " 3.880642741777348,\n",
       " 4.087847159698224,\n",
       " 3.941230754578118,\n",
       " 3.930640025957223,\n",
       " 3.7112263743005363,\n",
       " 3.66241865294465,\n",
       " 4.223647920049102,\n",
       " 3.9817438693185414,\n",
       " 4.101137944377768,\n",
       " 4.05694923894761,\n",
       " 4.044354416391027,\n",
       " 4.159585087763613,\n",
       " 3.8716028057880654,\n",
       " 4.141059334007655,\n",
       " 4.012086963684781,\n",
       " 4.135277217202023,\n",
       " 4.209171988221263,\n",
       " 3.7876486014691655,\n",
       " 4.099245203721945,\n",
       " 4.154716305844132,\n",
       " 3.9193532944644462,\n",
       " 4.157511085581535,\n",
       " 4.03089956064864,\n",
       " 4.081605848673839,\n",
       " 3.911455140062004,\n",
       " 3.976827564733074,\n",
       " 3.8044033357904774,\n",
       " 4.132474352154471,\n",
       " 3.9879933021081375,\n",
       " 4.148625306077075,\n",
       " 4.058615651441979,\n",
       " 4.050490690383279,\n",
       " 4.1925000993453185,\n",
       " 4.276088333198614,\n",
       " 3.9332020498223144,\n",
       " 4.067390623101837,\n",
       " 4.062235270235492,\n",
       " 3.8842365665194465,\n",
       " 4.050649464619554,\n",
       " 4.2359210180415205,\n",
       " 4.267816102990781,\n",
       " 3.9055739172047863,\n",
       " 3.957747188772816,\n",
       " 3.9165305171918257,\n",
       " 3.7164214571020175,\n",
       " 3.9430618303637246,\n",
       " 4.023909772465021,\n",
       " 3.8361196766837713,\n",
       " 4.13925376462816,\n",
       " 3.9983750266680778,\n",
       " 4.134074321670283,\n",
       " 4.111619012941924,\n",
       " 3.8447412064469138,\n",
       " 4.003805220673526,\n",
       " 3.9509635627477317,\n",
       " 3.8278960235292123,\n",
       " 4.03377185184265,\n",
       " 3.989117678575767,\n",
       " 3.999861567930821,\n",
       " 4.0462169531665015,\n",
       " 3.988168993682209,\n",
       " 4.109924544355702,\n",
       " 3.974309008601895,\n",
       " 4.260831467043505,\n",
       " 4.018592214953259,\n",
       " 4.318948972990904,\n",
       " 3.9583712128197797,\n",
       " 3.860260843617046,\n",
       " 3.9425987332067733,\n",
       " 3.9495153489673016,\n",
       " 3.6783704032843696,\n",
       " 3.884483602520151,\n",
       " 4.116149199180859,\n",
       " 4.068603479744146,\n",
       " 4.1198746371741315,\n",
       " 3.897693839227753,\n",
       " 3.9299486516722126,\n",
       " 3.844376824356113,\n",
       " 4.046190240628735,\n",
       " 4.168873649859479,\n",
       " 4.02989478248601,\n",
       " 3.848237465645229,\n",
       " 3.6120837967448147,\n",
       " 4.039096890322897,\n",
       " 3.96774413899036,\n",
       " 3.9261122282135608,\n",
       " 4.237718766873374,\n",
       " 4.114657459692908,\n",
       " 3.8698368853130827,\n",
       " 4.014402933080368,\n",
       " 4.200639025141635,\n",
       " 3.935019995309297,\n",
       " 4.033086748751081,\n",
       " 4.053424728536784,\n",
       " 4.060299328559431,\n",
       " 4.106098562978036,\n",
       " 4.091816357244792,\n",
       " 3.981747077829552,\n",
       " 3.761498919842713,\n",
       " 3.840686823499225,\n",
       " 4.072032078391987,\n",
       " 4.037235220033756,\n",
       " 3.9989940567344258,\n",
       " 4.056067219819321,\n",
       " 3.9279084823726196,\n",
       " 4.143444840344475,\n",
       " 3.8779058311371957,\n",
       " 3.920219108882501,\n",
       " 3.9004806976965494,\n",
       " 3.933864401560178,\n",
       " 3.9137258408823445,\n",
       " 4.049330008194281,\n",
       " 4.048827922803236,\n",
       " 4.219245139043268,\n",
       " 3.850361979512158,\n",
       " 4.016041758205945,\n",
       " 3.9764941182094877,\n",
       " 3.919545370058669,\n",
       " 4.072221327434458,\n",
       " 4.077915842695484,\n",
       " 3.936130737303138,\n",
       " 4.029194825339674,\n",
       " 4.023897513548731,\n",
       " 3.850542211831803,\n",
       " 3.9326180440669622,\n",
       " 4.0788652837045944,\n",
       " 3.900656778699945,\n",
       " 3.88024405983534,\n",
       " 3.999445370347926,\n",
       " 4.010220712916018,\n",
       " 3.5462591454024297,\n",
       " 3.9975271775954444,\n",
       " 3.9053632300027363,\n",
       " 4.132405404193512,\n",
       " 3.8815237386213797,\n",
       " 4.126201264725323,\n",
       " 3.8431164513547467,\n",
       " 4.105272027235251,\n",
       " 3.911597665864741,\n",
       " 3.991820853313321,\n",
       " 3.7593814981437346,\n",
       " 3.866296719768954,\n",
       " 4.041726854236608,\n",
       " 3.8611975187986363,\n",
       " 4.080380249733872,\n",
       " 4.116310853002227,\n",
       " 4.010346643006909,\n",
       " 3.9069417589791593,\n",
       " 4.089772781680478,\n",
       " 4.058107998458917,\n",
       " 4.021470689372078,\n",
       " 3.941109268680231,\n",
       " 3.789551619989295,\n",
       " 4.03616524083805,\n",
       " 3.8682553095188186,\n",
       " 4.023805874457351,\n",
       " 4.108536286768705,\n",
       " 4.232597048319688,\n",
       " 3.9074252740747526,\n",
       " 4.207297592393686,\n",
       " 3.7924146207548044,\n",
       " 3.978065823812898,\n",
       " 3.987031906146302,\n",
       " 3.830014793248735,\n",
       " 3.9544998357642926,\n",
       " 4.17550404526826,\n",
       " 3.971018357081177,\n",
       " 3.9423982909598294,\n",
       " 4.0679136500832085,\n",
       " 3.8148470884134413,\n",
       " 3.5866314689849492,\n",
       " 4.016376039972849,\n",
       " 4.162459723841652,\n",
       " 4.2002619274334085,\n",
       " 3.8648918476301204,\n",
       " 3.687038683250502,\n",
       " 4.039842136463552,\n",
       " 3.768496873846833,\n",
       " 4.202578915435325,\n",
       " 3.945880137736513,\n",
       " 4.140507608371604,\n",
       " 3.7186210103659434,\n",
       " 4.0425378109972385,\n",
       " 3.914128411521775,\n",
       " 4.100606189232916,\n",
       " 4.142803527577515,\n",
       " 3.908212177548521,\n",
       " 3.7592020104564425,\n",
       " 3.9938248732427777,\n",
       " 3.8971607168732945,\n",
       " 4.148443587551356,\n",
       " 3.8848226015779947,\n",
       " 3.7980530118268434,\n",
       " 3.7729927355465374,\n",
       " 3.905509410221751,\n",
       " 3.793937224107694,\n",
       " 4.256712543356195,\n",
       " 3.810643811226226,\n",
       " 4.049943298953028,\n",
       " 3.8842829895681854,\n",
       " 3.9920464821544304,\n",
       " 4.0500385037811615,\n",
       " 4.001257204307105,\n",
       " 3.940175836658407,\n",
       " 4.117471247945156,\n",
       " 4.056978281100067,\n",
       " 3.973782789584814,\n",
       " 3.8820370504200925,\n",
       " 4.072731260305096,\n",
       " 4.003275116076953,\n",
       " 3.911013769804958,\n",
       " 3.949839243326563,\n",
       " 4.1194717662506655,\n",
       " 3.927328482027163,\n",
       " 3.8611992975476714,\n",
       " 3.8748020474838696,\n",
       " 3.959845895457549,\n",
       " 3.8533147352016752,\n",
       " 3.89376171495771,\n",
       " 3.8677156442466076,\n",
       " 4.0954484618291165,\n",
       " 4.1248047018605885,\n",
       " 4.112980534209375,\n",
       " 4.123814226114529,\n",
       " 4.097040116443876,\n",
       " 3.9515455818674736,\n",
       " 3.9834715001336076,\n",
       " 3.9278914085479655,\n",
       " 3.8576989882212103,\n",
       " 3.974152115969074,\n",
       " 4.04953955642205,\n",
       " 3.9450237177494447,\n",
       " 4.122593061104066,\n",
       " 3.8827332008754327,\n",
       " 3.996246485517662,\n",
       " 4.203479463102408,\n",
       " 4.277654630272729,\n",
       " 3.8742426398848733,\n",
       " 3.8772889342623333,\n",
       " 3.9642242687853666,\n",
       " 4.008033850808559,\n",
       " 3.9355809816510985,\n",
       " 3.972894410152976,\n",
       " 3.943763431152467,\n",
       " 4.032173543244968,\n",
       " 3.882335929564051,\n",
       " 3.892598350251673,\n",
       " 3.9005738352606416,\n",
       " 3.951576429354904,\n",
       " 3.8740206910481843,\n",
       " 3.824579575350354,\n",
       " 4.1268708232729985,\n",
       " 3.9967645674098566,\n",
       " 4.276781850572623,\n",
       " 3.895133109028877,\n",
       " 4.244531705440187,\n",
       " 4.206864994977062,\n",
       " 3.8162724616741146,\n",
       " 4.359499282026754,\n",
       " 4.087140665402322,\n",
       " 3.9695204066432703,\n",
       " 4.026541725478053,\n",
       " 4.051466937930942,\n",
       " 3.9251364929106436,\n",
       " 4.041056597263288,\n",
       " 4.102218605843373,\n",
       " 3.9738615470111998,\n",
       " 4.155599315532045,\n",
       " 4.044521371084226,\n",
       " 3.9137388921946425,\n",
       " 3.792176206800853,\n",
       " 4.251956741803396,\n",
       " 3.9181023218520465,\n",
       " 4.079067490656089,\n",
       " 4.352749382586214,\n",
       " 3.9772846060866613,\n",
       " 3.653506729107969,\n",
       " 3.9682417512157246,\n",
       " 3.9081966493394535,\n",
       " 4.26506296556047,\n",
       " 4.078872278077122,\n",
       " 4.132309485932698,\n",
       " 3.837665257529676,\n",
       " 4.119105903673362,\n",
       " 3.814001547683807,\n",
       " 3.974489933627228,\n",
       " 4.0133045413721185,\n",
       " 4.152539221991861,\n",
       " 3.9956701676578548,\n",
       " 3.9417165606265194,\n",
       " 4.14440029071408,\n",
       " 3.7844685381784706,\n",
       " 3.856855321422524,\n",
       " 3.9355945232397063,\n",
       " 4.2762396086082735,\n",
       " 4.135205313584978,\n",
       " 3.833448239602676,\n",
       " 4.324316145647879,\n",
       " 4.080115319717016,\n",
       " 4.2149546395228885,\n",
       " 4.171076237496889,\n",
       " 3.91482061748352,\n",
       " 3.9578230947994886,\n",
       " 4.019682604133984,\n",
       " 3.87580000380711,\n",
       " 3.8504467433869456,\n",
       " 3.7394599609777885,\n",
       " 4.198741761277027,\n",
       " 4.116959781324065,\n",
       " 3.8852899756759913,\n",
       " 4.079901912018342,\n",
       " 3.938825395079376,\n",
       " 3.929724511505091,\n",
       " 4.261178378955537,\n",
       " 4.140768513367339,\n",
       " 3.899729149031928,\n",
       " 4.1755933539425545,\n",
       " 4.327235036124424,\n",
       " 3.7653695244785093,\n",
       " 3.9928443698577434,\n",
       " 3.9973710480819387,\n",
       " 3.7447619781104313,\n",
       " 4.301284237024208,\n",
       " 3.8279336917452587,\n",
       " 3.991300685501463,\n",
       " 4.04312122331746,\n",
       " 4.108010393706454,\n",
       " 4.007035784922575,\n",
       " 4.057291457619653,\n",
       " 3.907201874505692,\n",
       " 4.030884198431069,\n",
       " 3.9498181589094505,\n",
       " 4.17479413027109,\n",
       " 3.9571604396692384,\n",
       " 4.03568759252771,\n",
       " 4.016487386849868,\n",
       " 4.0926592111498055,\n",
       " 3.9943790680267837,\n",
       " 3.99324699544204,\n",
       " 4.39996172299371,\n",
       " 4.067557071353136,\n",
       " 3.7226049121919402,\n",
       " 4.082474279914801,\n",
       " 3.7812706815175097,\n",
       " 4.0243518713021125,\n",
       " 4.168013479698246,\n",
       " 3.6826774080372973,\n",
       " 3.7754940912597954,\n",
       " 3.9159583834501337,\n",
       " 3.9093854155831327,\n",
       " 3.8555516066317908,\n",
       " 3.998879004537615,\n",
       " 4.2079583314158775,\n",
       " 3.8645142638019707,\n",
       " 4.0693643977879415,\n",
       " 4.277436990416072,\n",
       " 4.03815560906092,\n",
       " 4.186479386405059,\n",
       " 4.04546433262401,\n",
       " 4.031982130513273,\n",
       " 3.68713046939078,\n",
       " 3.9710752481952367,\n",
       " 4.073595379022457,\n",
       " 3.9444667532429905,\n",
       " 3.873445219476182,\n",
       " 4.147534500136937,\n",
       " 4.061980314291443,\n",
       " 4.11838787335926,\n",
       " 4.064207128506195,\n",
       " 3.810054297773834,\n",
       " 3.788894119370136,\n",
       " 4.194318932850087,\n",
       " 3.999657691126951,\n",
       " 3.986251552376414,\n",
       " 3.578096295223896,\n",
       " 3.8940541038284633,\n",
       " 4.200933913969715,\n",
       " 3.917703800288305,\n",
       " 3.980720084130946,\n",
       " 4.152996986976754,\n",
       " 4.041025007153459,\n",
       " 4.037862379952312,\n",
       " 3.8194303016319364,\n",
       " 4.040198635753125,\n",
       " 4.056601716878087,\n",
       " 3.789248973677791,\n",
       " 4.089522123036902,\n",
       " 4.144710032976241,\n",
       " 4.063122853627178,\n",
       " 3.8049844428057518,\n",
       " 4.015520818911518,\n",
       " 3.834806786780191,\n",
       " 3.870704747106068,\n",
       " 4.054532536783209,\n",
       " 3.8993082290599586,\n",
       " 4.095210492614969,\n",
       " 3.827656320175315,\n",
       " 4.009512352374078,\n",
       " 4.026311726559469,\n",
       " 3.834350413836168,\n",
       " 3.7351053055020103,\n",
       " 4.01775738688925,\n",
       " 3.978613440413258,\n",
       " 3.781792395716852,\n",
       " 4.04608333526033,\n",
       " 3.935739015381196,\n",
       " 3.9424882904744263,\n",
       " 4.009437824395688,\n",
       " 4.114371769797951,\n",
       " 4.136765734551362,\n",
       " 3.8343333412690797,\n",
       " 4.128272823115753,\n",
       " 4.070330604690441,\n",
       " 4.052766629267235,\n",
       " 4.019562554151217,\n",
       " 3.8961551823341103,\n",
       " 4.038888999017944,\n",
       " 4.079246108411511,\n",
       " 4.15213094899619,\n",
       " 3.908775265160488,\n",
       " 3.824168398118633,\n",
       " 3.999894403091077,\n",
       " 3.8019439991725923,\n",
       " 3.913715683893217,\n",
       " 3.953540543211097,\n",
       " 4.072795793365585,\n",
       " 3.950000738040662,\n",
       " 4.058848850103923,\n",
       " 3.7269392351140542,\n",
       " 3.7902481280662106,\n",
       " 4.201791368643902,\n",
       " 3.8264331819085653,\n",
       " 3.95526818285926,\n",
       " 4.0777311128426454,\n",
       " 4.032010352551129,\n",
       " 4.1238728235442395,\n",
       " 3.7556016861267616,\n",
       " 3.8784536419424915,\n",
       " 3.9775755133697936,\n",
       " 3.814540419133388,\n",
       " 4.127000104313078,\n",
       " 3.832902317399089,\n",
       " 3.9181873769635422,\n",
       " 3.785695059024926,\n",
       " 4.014963968119605,\n",
       " 4.05677545640087,\n",
       " 3.7626686972625785,\n",
       " 4.122227331252733,\n",
       " 3.85086952662193,\n",
       " 4.011272841854273,\n",
       " 4.066141944137505,\n",
       " 4.060645661904844,\n",
       " 3.9869741337965676,\n",
       " 4.00444595938159,\n",
       " 4.156567493969802,\n",
       " 3.9318337125482685,\n",
       " 3.932462302332404,\n",
       " 3.643733137910566,\n",
       " 3.914707122965893,\n",
       " 3.7352769260221392,\n",
       " 3.9591789868324687,\n",
       " 3.8554531020667047,\n",
       " 4.01497280220558,\n",
       " 3.8886952696508446,\n",
       " 3.895578134277636,\n",
       " 4.2150748553956525,\n",
       " 4.0019127739769305,\n",
       " 4.129182126558467,\n",
       " 3.913114429826095,\n",
       " 3.9453938118284397,\n",
       " 3.9627596943378944,\n",
       " 4.131930674153938,\n",
       " 4.051697569516007,\n",
       " 4.1601315567356965,\n",
       " 4.1170773169935915,\n",
       " 4.230293807805802,\n",
       " 3.9864752696181487,\n",
       " 3.839038569992566,\n",
       " 3.9027179476740694,\n",
       " 4.145338976077798,\n",
       " 3.661677372136372,\n",
       " 3.891761755264784,\n",
       " 4.188521188070764,\n",
       " 3.9895349421643713,\n",
       " 3.8249272752899164,\n",
       " 4.156135415192442,\n",
       " 4.152458130195453,\n",
       " 3.9358342124849415,\n",
       " 3.805737671222969,\n",
       " 3.9424854461619616,\n",
       " 4.168270994885414,\n",
       " 3.8670951934124793,\n",
       " 4.13135799704667,\n",
       " 3.966343359525543,\n",
       " 3.8874382486772214,\n",
       " 3.7264758745709377,\n",
       " 4.038887919090273,\n",
       " 3.9789986964932624,\n",
       " 3.841288666942458,\n",
       " 3.732504511189696,\n",
       " 3.8935989225135414,\n",
       " 4.043816278173938,\n",
       " 4.06949403399777,\n",
       " 4.003243359564114,\n",
       " 3.9777452247296594,\n",
       " 3.7680023735422092,\n",
       " 3.5904226264742887,\n",
       " 3.926466854691644,\n",
       " 3.828233310738485,\n",
       " 4.042983114048838,\n",
       " 3.920088576520181,\n",
       " 3.768520232423584,\n",
       " 4.1249531092041245,\n",
       " 3.8418466626188783,\n",
       " 3.98900524938458,\n",
       " 4.014154861010846,\n",
       " 4.002785358361655,\n",
       " 4.0730718844733484,\n",
       " 3.8597709655761383,\n",
       " 3.9559727781585106,\n",
       " 4.0998928986427545,\n",
       " 4.149488041666453,\n",
       " 4.035219702126134,\n",
       " 3.893474806423596,\n",
       " 3.96417195830493,\n",
       " 4.0519989236257326,\n",
       " 3.918404183861792,\n",
       " 4.027193151758002,\n",
       " 4.0151368225125825,\n",
       " 4.110485337021217,\n",
       " 4.005805651753242,\n",
       " 3.9525382265482145,\n",
       " 3.848475459987361,\n",
       " 3.9485793839130747,\n",
       " 4.097215903357881,\n",
       " 3.797320580182128,\n",
       " 4.226515661269493,\n",
       " 3.9130741809192395,\n",
       " 4.145829351850777,\n",
       " 3.589959767823876,\n",
       " 4.151368633599552,\n",
       " 4.2184478774325145,\n",
       " 4.260401950262417,\n",
       " 3.8383299932005586,\n",
       " 4.18754159625106,\n",
       " 3.96565602713969,\n",
       " 3.906888341844012,\n",
       " 3.8356860223766396,\n",
       " 4.059313873597324,\n",
       " 4.234046514580056,\n",
       " 3.9962465541842804,\n",
       " 4.058409501416497,\n",
       " 4.067871045772133,\n",
       " 3.9835636675290322,\n",
       " 3.9247343090474396,\n",
       " 4.089939735587014,\n",
       " 3.64949052954573,\n",
       " 3.7850062981381924,\n",
       " 3.9963286803841402,\n",
       " 4.0092766956197465,\n",
       " 4.00922293036014,\n",
       " 4.100240084559435,\n",
       " 4.323391242915829,\n",
       " 4.140682480310366,\n",
       " 3.929279519858972,\n",
       " 4.090007293362696,\n",
       " 3.946891817201341,\n",
       " 4.172880771958236,\n",
       " 4.020017192078282,\n",
       " 4.157109524579364,\n",
       " 4.281906643427411,\n",
       " 4.067002969906184,\n",
       " 3.8862836874764284,\n",
       " 4.1079845441711,\n",
       " 3.8074582791014047,\n",
       " 4.196770522416013,\n",
       " 3.9116911565335486,\n",
       " 3.889891362585496,\n",
       " 4.097417952343157,\n",
       " 4.108768291582078,\n",
       " 4.043597770578447,\n",
       " 3.9696500684512737,\n",
       " 4.256135669853457,\n",
       " 4.12432089617254,\n",
       " 4.129063552061859,\n",
       " 4.057445423432875,\n",
       " 3.6800257882823852,\n",
       " 4.123495729751298,\n",
       " 3.9200200184255616,\n",
       " 4.228115956536906,\n",
       " 3.828448799752096,\n",
       " 3.851780804799906,\n",
       " 3.9112681159137477,\n",
       " 3.9073445937422657,\n",
       " 3.839734263704087,\n",
       " 3.792085508803799,\n",
       " 4.1601540053950945,\n",
       " 3.7436744281983456,\n",
       " 3.8420985000355548,\n",
       " 4.235258631213109,\n",
       " 3.9457136005841984,\n",
       " 3.905814005554243,\n",
       " 3.9941921464201395,\n",
       " 4.094367606494014,\n",
       " 3.9289509057993492,\n",
       " 3.934244492901093,\n",
       " 3.90766317066557,\n",
       " 3.9018493903166065,\n",
       " 4.258615084420435,\n",
       " 4.008934026523411,\n",
       " 4.115343813358635,\n",
       " 3.9747104120252783,\n",
       " 3.995843368902824,\n",
       " 3.91123634900035,\n",
       " 3.9873520404658165,\n",
       " 3.781662021422477,\n",
       " 3.956879018376847,\n",
       " 4.020264214788139,\n",
       " 4.029522401198526,\n",
       " 3.904382129614857,\n",
       " 3.9208879554358855,\n",
       " 3.8988535136069724,\n",
       " 3.672537144303027,\n",
       " 3.8839823797129918,\n",
       " 4.069079335386166,\n",
       " 3.8971554516550384,\n",
       " 4.208366409968332,\n",
       " 4.030612115922865,\n",
       " 4.185036484464237,\n",
       " 3.9370965984182025,\n",
       " 3.879752067218937,\n",
       " 4.0509777852807,\n",
       " 4.181084339871247,\n",
       " 4.088969536908771,\n",
       " 3.8911850100455525,\n",
       " 3.92972230362222,\n",
       " 4.111156191537267,\n",
       " 3.7840292404957876,\n",
       " 3.9405080043650718,\n",
       " 4.118132422642829,\n",
       " 4.02684498653637,\n",
       " 3.820399802443773,\n",
       " 3.985728766971198,\n",
       " 3.9762612196414144,\n",
       " 4.107489833067272,\n",
       " 3.9418342626742966,\n",
       " 4.156526673088271,\n",
       " 3.984675288864596,\n",
       " 4.0338376522943165,\n",
       " 4.057469315378414,\n",
       " 4.043595820118572,\n",
       " 4.101027695348736,\n",
       " 4.1434974397425,\n",
       " 3.83311734379565,\n",
       " 4.198272281744014,\n",
       " 4.112434185164009,\n",
       " 4.260394732656912,\n",
       " 4.091792710076802,\n",
       " 4.195202884002263,\n",
       " 3.8963868276929166,\n",
       " 4.044273979482168,\n",
       " 4.087478183946913,\n",
       " 4.0751199490877905,\n",
       " 3.937431656924939,\n",
       " 3.790486583386939,\n",
       " 3.874453521995846,\n",
       " 3.874881317099919,\n",
       " 4.233317727412631,\n",
       " 4.1103222555559515,\n",
       " 4.073132891245023,\n",
       " 4.0872937436284085,\n",
       " 4.009910164409588,\n",
       " 3.770232397876463,\n",
       " 4.306540947527918,\n",
       " 4.108671074728511,\n",
       " 3.928718470405073,\n",
       " 4.084831910559584,\n",
       " 4.077830967943081,\n",
       " 3.928894696560912,\n",
       " 3.9312316095685262,\n",
       " 3.908819549963864,\n",
       " 3.996015614380337,\n",
       " 3.984705930504248,\n",
       " 4.1418426352270235,\n",
       " 4.03897691882006,\n",
       " 3.818081003493466,\n",
       " 3.7943197795152317,\n",
       " 3.9475460715919253,\n",
       " 3.9616681435327066,\n",
       " 3.8115718407871886,\n",
       " 3.7930109636618723,\n",
       " 4.137888722248618,\n",
       " 3.911132631720319,\n",
       " 3.8215844361883433,\n",
       " 3.9983983930791513,\n",
       " 3.9618331198150707,\n",
       " 4.186120444875052,\n",
       " 4.00445983618786,\n",
       " 3.9079053599546665,\n",
       " 3.980203440634881,\n",
       " 3.9129687605643726,\n",
       " 4.155480619110992,\n",
       " 3.9680816382482518,\n",
       " 4.063320933873808,\n",
       " 3.9091911127143675,\n",
       " 4.1732407049488485,\n",
       " 3.8652911774183107,\n",
       " 4.166769924679975,\n",
       " 3.9319971385500883,\n",
       " 3.8591997809871,\n",
       " 4.002123478029563,\n",
       " 4.037445156163681,\n",
       " 3.8445812856192325,\n",
       " 4.049180101291241,\n",
       " 3.9381087486018576,\n",
       " 4.162617728648288,\n",
       " 4.022659231192066,\n",
       " 3.8526321365521414,\n",
       " 4.1704448280543485,\n",
       " 3.8561796654084484,\n",
       " 3.750083737931802,\n",
       " 3.8622518630254405,\n",
       " 4.005151848509887,\n",
       " 3.771438431062832,\n",
       " 4.084681133473448,\n",
       " 4.127835333300779,\n",
       " 3.9521420742979507,\n",
       " 3.78813170186116,\n",
       " 4.1498480854871005,\n",
       " 4.051431788897632,\n",
       " 4.128436271151582,\n",
       " 3.64364289985113,\n",
       " 3.7249549288479584,\n",
       " 3.6944369195206352,\n",
       " 4.241887323211914,\n",
       " 4.0096878288346,\n",
       " 3.933058246275079,\n",
       " 4.0785537394884575,\n",
       " 4.170151511245594,\n",
       " 3.9569160836373274,\n",
       " 4.033480112804552,\n",
       " 3.834948151808059,\n",
       " 3.9160032273376846,\n",
       " 3.995946655558968,\n",
       " ...]"
      ]
     },
     "execution_count": 98,
     "metadata": {},
     "output_type": "execute_result"
    }
   ],
   "source": [
    "calc_sample_mean()"
   ]
  },
  {
   "cell_type": "code",
   "execution_count": 107,
   "id": "1a1d6f52",
   "metadata": {
    "ExecuteTime": {
     "end_time": "2022-05-17T06:53:36.644878Z",
     "start_time": "2022-05-17T06:53:36.394326Z"
    }
   },
   "outputs": [],
   "source": [
    "sam_arr1 = calc_sample_mean(size=30, n_trial=1000)\n",
    "sam_arr2 = calc_sample_mean(size=100, n_trial=1000)\n",
    "sam_arr3 = calc_sample_mean(size=500, n_trial=1000)\n",
    "sam_arr4= calc_sample_mean(size=1000, n_trial=1000)"
   ]
  },
  {
   "cell_type": "code",
   "execution_count": 108,
   "id": "4bac8bfb",
   "metadata": {
    "ExecuteTime": {
     "end_time": "2022-05-17T06:53:36.925338Z",
     "start_time": "2022-05-17T06:53:36.906395Z"
    }
   },
   "outputs": [
    {
     "name": "stdout",
     "output_type": "stream",
     "text": [
      "3.999166670242556 3.9970473039541328 4.000115550252352 3.9996607994598627\n"
     ]
    }
   ],
   "source": [
    "print(sp.mean(sam_arr1), sp.mean(sam_arr2), sp.mean(sam_arr3), sp.mean(sam_arr4))"
   ]
  },
  {
   "cell_type": "code",
   "execution_count": 109,
   "id": "ef9d22c9",
   "metadata": {
    "ExecuteTime": {
     "end_time": "2022-05-17T06:53:54.039743Z",
     "start_time": "2022-05-17T06:53:54.025780Z"
    }
   },
   "outputs": [
    {
     "name": "stdout",
     "output_type": "stream",
     "text": [
      "0.14682686982201834 0.080623123558709 0.03520111880975177 0.026159706004617863\n"
     ]
    }
   ],
   "source": [
    "print(sp.std(sam_arr1), sp.std(sam_arr2), sp.std(sam_arr3), sp.std(sam_arr4))"
   ]
  },
  {
   "cell_type": "code",
   "execution_count": 106,
   "id": "139f0c9f",
   "metadata": {
    "ExecuteTime": {
     "end_time": "2022-05-17T06:51:16.791055Z",
     "start_time": "2022-05-17T06:51:16.586490Z"
    }
   },
   "outputs": [
    {
     "data": {
      "text/plain": [
       "<AxesSubplot:ylabel='Density'>"
      ]
     },
     "execution_count": 106,
     "metadata": {},
     "output_type": "execute_result"
    },
    {
     "data": {
      "image/png": "[encoded data removed]",
      "text/plain": [
       "<Figure size 432x288 with 1 Axes>"
      ]
     },
     "metadata": {
      "needs_background": "light"
     },
     "output_type": "display_data"
    }
   ],
   "source": [
    "sns.distplot(sam_arr1, bins=100)"
   ]
  },
  {
   "cell_type": "code",
   "execution_count": 105,
   "id": "08af791f",
   "metadata": {
    "ExecuteTime": {
     "end_time": "2022-05-17T06:51:10.814663Z",
     "start_time": "2022-05-17T06:51:10.619186Z"
    }
   },
   "outputs": [
    {
     "data": {
      "text/plain": [
       "<AxesSubplot:ylabel='Density'>"
      ]
     },
     "execution_count": 105,
     "metadata": {},
     "output_type": "execute_result"
    },
    {
     "data": {
      "image/png": "[encoded data removed]",
      "text/plain": [
       "<Figure size 432x288 with 1 Axes>"
      ]
     },
     "metadata": {
      "needs_background": "light"
     },
     "output_type": "display_data"
    }
   ],
   "source": [
    "sns.distplot(sam_arr2, bins=100)"
   ]
  },
  {
   "cell_type": "code",
   "execution_count": 104,
   "id": "612f25ed",
   "metadata": {
    "ExecuteTime": {
     "end_time": "2022-05-17T06:51:07.381066Z",
     "start_time": "2022-05-17T06:51:07.178564Z"
    }
   },
   "outputs": [
    {
     "data": {
      "text/plain": [
       "<AxesSubplot:ylabel='Density'>"
      ]
     },
     "execution_count": 104,
     "metadata": {},
     "output_type": "execute_result"
    },
    {
     "data": {
      "image/png": "[encoded data removed]",
      "text/plain": [
       "<Figure size 432x288 with 1 Axes>"
      ]
     },
     "metadata": {
      "needs_background": "light"
     },
     "output_type": "display_data"
    }
   ],
   "source": [
    "sns.distplot(sam_arr3, bins=100)"
   ]
  },
  {
   "cell_type": "code",
   "execution_count": 110,
   "id": "a49dc828",
   "metadata": {
    "ExecuteTime": {
     "end_time": "2022-05-17T06:54:05.169928Z",
     "start_time": "2022-05-17T06:54:04.954280Z"
    }
   },
   "outputs": [
    {
     "data": {
      "text/plain": [
       "<AxesSubplot:ylabel='Density'>"
      ]
     },
     "execution_count": 110,
     "metadata": {},
     "output_type": "execute_result"
    },
    {
     "data": {
      "image/png": "[encoded data removed]",
      "text/plain": [
       "<Figure size 432x288 with 1 Axes>"
      ]
     },
     "metadata": {
      "needs_background": "light"
     },
     "output_type": "display_data"
    }
   ],
   "source": [
    "sns.distplot(sam_arr4, bins=100)"
   ]
  },
  {
   "cell_type": "code",
   "execution_count": null,
   "id": "d2d4192e",
   "metadata": {},
   "outputs": [],
   "source": [
    "# 샘플의 사이즈가 클수록 샘플평균의 분포는 모평균에 더욱 수렴하고 분산은 줄어든다"
   ]
  },
  {
   "cell_type": "code",
   "execution_count": null,
   "id": "9cf60f14",
   "metadata": {},
   "outputs": [],
   "source": []
  },
  {
   "cell_type": "markdown",
   "id": "682419c9",
   "metadata": {
    "ExecuteTime": {
     "end_time": "2022-05-17T06:55:21.191104Z",
     "start_time": "2022-05-17T06:55:21.181101Z"
    }
   },
   "source": [
    "## 확률밀도함수,누적확률분포함수"
   ]
  },
  {
   "cell_type": "markdown",
   "id": "439f0541",
   "metadata": {
    "ExecuteTime": {
     "end_time": "2022-05-17T06:58:40.569758Z",
     "start_time": "2022-05-17T06:58:40.553800Z"
    }
   },
   "source": [
    "* PDF(Probability Density Function): 확률밀도함수\n",
    "* CDF(Cumulative Density Function): 누적분포함수 -> x값을 입력받은 후 x까지의 누적밀도확률값"
   ]
  },
  {
   "cell_type": "code",
   "execution_count": 115,
   "id": "6a261f63",
   "metadata": {
    "ExecuteTime": {
     "end_time": "2022-05-17T07:01:09.474613Z",
     "start_time": "2022-05-17T07:01:09.465639Z"
    }
   },
   "outputs": [],
   "source": [
    "x = np.arange(start=1, stop=7, step= 0.1)"
   ]
  },
  {
   "cell_type": "code",
   "execution_count": 116,
   "id": "0265bd3e",
   "metadata": {
    "ExecuteTime": {
     "end_time": "2022-05-17T07:01:09.722183Z",
     "start_time": "2022-05-17T07:01:09.626264Z"
    }
   },
   "outputs": [
    {
     "data": {
      "text/plain": [
       "[<matplotlib.lines.Line2D at 0x2a39d68aca0>]"
      ]
     },
     "execution_count": 116,
     "metadata": {},
     "output_type": "execute_result"
    },
    {
     "data": {
      "image/png": "[encoded data removed]",
      "text/plain": [
       "<Figure size 432x288 with 1 Axes>"
      ]
     },
     "metadata": {
      "needs_background": "light"
     },
     "output_type": "display_data"
    }
   ],
   "source": [
    "plt.plot(x, stats.norm.pdf(x=x, loc=4, scale=0.8))"
   ]
  },
  {
   "cell_type": "code",
   "execution_count": 117,
   "id": "c6be259f",
   "metadata": {
    "ExecuteTime": {
     "end_time": "2022-05-17T07:01:09.909500Z",
     "start_time": "2022-05-17T07:01:09.815992Z"
    }
   },
   "outputs": [
    {
     "data": {
      "text/plain": [
       "[<matplotlib.lines.Line2D at 0x2a39d6ecbe0>]"
      ]
     },
     "execution_count": 117,
     "metadata": {},
     "output_type": "execute_result"
    },
    {
     "data": {
      "image/png": "[encoded data removed]",
      "text/plain": [
       "<Figure size 432x288 with 1 Axes>"
      ]
     },
     "metadata": {
      "needs_background": "light"
     },
     "output_type": "display_data"
    }
   ],
   "source": [
    "plt.plot(x, stats.norm.cdf(x=x, loc=4, scale=0.8))"
   ]
  },
  {
   "cell_type": "code",
   "execution_count": null,
   "id": "6ee476a0",
   "metadata": {},
   "outputs": [],
   "source": []
  },
  {
   "cell_type": "code",
   "execution_count": 120,
   "id": "088c4d7b",
   "metadata": {
    "ExecuteTime": {
     "end_time": "2022-05-17T07:03:10.015542Z",
     "start_time": "2022-05-17T07:03:10.008561Z"
    }
   },
   "outputs": [],
   "source": [
    "norm_dist = stats.norm(loc=4, scale=0.8)"
   ]
  },
  {
   "cell_type": "code",
   "execution_count": 121,
   "id": "8ce067a8",
   "metadata": {
    "ExecuteTime": {
     "end_time": "2022-05-17T07:03:21.317160Z",
     "start_time": "2022-05-17T07:03:21.305163Z"
    }
   },
   "outputs": [
    {
     "name": "stdout",
     "output_type": "stream",
     "text": [
      "0.2283113567362774\n",
      "0.10564977366685535\n"
     ]
    }
   ],
   "source": [
    "print(norm_dist.pdf(x=3))\n",
    "print(norm_dist.cdf(x=3))"
   ]
  },
  {
   "cell_type": "code",
   "execution_count": 122,
   "id": "b520afe5",
   "metadata": {
    "ExecuteTime": {
     "end_time": "2022-05-17T07:03:43.306285Z",
     "start_time": "2022-05-17T07:03:43.290342Z"
    }
   },
   "outputs": [
    {
     "data": {
      "text/plain": [
       "0.9937903346742238"
      ]
     },
     "execution_count": 122,
     "metadata": {},
     "output_type": "execute_result"
    }
   ],
   "source": [
    "norm_dist.cdf(x=6)"
   ]
  },
  {
   "cell_type": "code",
   "execution_count": null,
   "id": "c39afa03",
   "metadata": {},
   "outputs": [],
   "source": []
  },
  {
   "cell_type": "markdown",
   "id": "aa724c87",
   "metadata": {},
   "source": [
    "## 퍼센트 포인트: 누적확률값을 입력받은 후 x값을 리턴"
   ]
  },
  {
   "cell_type": "code",
   "execution_count": 124,
   "id": "7b36f398",
   "metadata": {
    "ExecuteTime": {
     "end_time": "2022-05-17T07:06:02.646316Z",
     "start_time": "2022-05-17T07:06:02.631356Z"
    }
   },
   "outputs": [
    {
     "data": {
      "text/plain": [
       "2.4320288123679563"
      ]
     },
     "execution_count": 124,
     "metadata": {},
     "output_type": "execute_result"
    }
   ],
   "source": [
    "norm_dist.ppf(q=0.025)"
   ]
  },
  {
   "cell_type": "code",
   "execution_count": 125,
   "id": "8e1c7af0",
   "metadata": {
    "ExecuteTime": {
     "end_time": "2022-05-17T07:07:05.399867Z",
     "start_time": "2022-05-17T07:07:05.385878Z"
    }
   },
   "outputs": [
    {
     "data": {
      "text/plain": [
       "4.673296986858332"
      ]
     },
     "execution_count": 125,
     "metadata": {},
     "output_type": "execute_result"
    }
   ],
   "source": [
    "norm_dist.ppf(q=0.8)"
   ]
  },
  {
   "cell_type": "code",
   "execution_count": null,
   "id": "bb973f27",
   "metadata": {},
   "outputs": [],
   "source": []
  },
  {
   "cell_type": "code",
   "execution_count": null,
   "id": "2efecaf7",
   "metadata": {},
   "outputs": [],
   "source": []
  },
  {
   "cell_type": "code",
   "execution_count": 126,
   "id": "c6e186dd",
   "metadata": {
    "ExecuteTime": {
     "end_time": "2022-05-17T07:28:33.260594Z",
     "start_time": "2022-05-17T07:28:33.242615Z"
    }
   },
   "outputs": [
    {
     "data": {
      "text/plain": [
       "<scipy.stats._distn_infrastructure.rv_frozen at 0x2a39fbd08b0>"
      ]
     },
     "execution_count": 126,
     "metadata": {},
     "output_type": "execute_result"
    }
   ],
   "source": [
    "norm_dist # 평균 5, 표준편차 0.8 정규분포"
   ]
  },
  {
   "cell_type": "code",
   "execution_count": 131,
   "id": "afd9fb87",
   "metadata": {
    "ExecuteTime": {
     "end_time": "2022-05-17T07:29:58.382833Z",
     "start_time": "2022-05-17T07:29:58.372888Z"
    }
   },
   "outputs": [
    {
     "data": {
      "text/plain": [
       "0.10564977366685535"
      ]
     },
     "execution_count": 131,
     "metadata": {},
     "output_type": "execute_result"
    }
   ],
   "source": [
    "# 3 이하가 나올 확률\n",
    "norm_dist.cdf(x=3)"
   ]
  },
  {
   "cell_type": "code",
   "execution_count": 134,
   "id": "49444d77",
   "metadata": {
    "ExecuteTime": {
     "end_time": "2022-05-17T07:30:32.236525Z",
     "start_time": "2022-05-17T07:30:32.231440Z"
    }
   },
   "outputs": [
    {
     "data": {
      "text/plain": [
       "0.10564977366685535"
      ]
     },
     "execution_count": 134,
     "metadata": {},
     "output_type": "execute_result"
    }
   ],
   "source": [
    "# 5 이상 나올 확률\n",
    "1-norm_dist.cdf(x=5)"
   ]
  },
  {
   "cell_type": "code",
   "execution_count": 135,
   "id": "8a1382c5",
   "metadata": {
    "ExecuteTime": {
     "end_time": "2022-05-17T07:30:53.947344Z",
     "start_time": "2022-05-17T07:30:53.927369Z"
    }
   },
   "outputs": [
    {
     "data": {
      "text/plain": [
       "0.09944010834107922"
      ]
     },
     "execution_count": 135,
     "metadata": {},
     "output_type": "execute_result"
    }
   ],
   "source": [
    "# 2~3 나올 확률\n",
    "norm_dist.cdf(x=3) - norm_dist.cdf(x=2)"
   ]
  },
  {
   "cell_type": "code",
   "execution_count": 137,
   "id": "f54f4580",
   "metadata": {
    "ExecuteTime": {
     "end_time": "2022-05-17T07:32:17.841208Z",
     "start_time": "2022-05-17T07:32:17.831209Z"
    }
   },
   "outputs": [
    {
     "data": {
      "text/plain": [
       "0.9005598916589208"
      ]
     },
     "execution_count": 137,
     "metadata": {},
     "output_type": "execute_result"
    }
   ],
   "source": [
    "# 2~3이외의 값이 나올 확률\n",
    "1- (norm_dist.cdf(x=3)-norm_dist.cdf(x=2))"
   ]
  },
  {
   "cell_type": "code",
   "execution_count": 138,
   "id": "db9e1c16",
   "metadata": {
    "ExecuteTime": {
     "end_time": "2022-05-17T07:32:45.992146Z",
     "start_time": "2022-05-17T07:32:45.975219Z"
    }
   },
   "outputs": [
    {
     "data": {
      "text/plain": [
       "4.419520410166433"
      ]
     },
     "execution_count": 138,
     "metadata": {},
     "output_type": "execute_result"
    }
   ],
   "source": [
    "# 누적확률이 70%가 되는 x값\n",
    "norm_dist.ppf(q=0.7)"
   ]
  },
  {
   "cell_type": "code",
   "execution_count": 139,
   "id": "04da27ca",
   "metadata": {
    "ExecuteTime": {
     "end_time": "2022-05-17T07:41:08.383467Z",
     "start_time": "2022-05-17T07:41:08.373464Z"
    }
   },
   "outputs": [
    {
     "data": {
      "text/plain": [
       "0.2112995473337107"
      ]
     },
     "execution_count": 139,
     "metadata": {},
     "output_type": "execute_result"
    }
   ],
   "source": [
    "# 3보다 작고 5보다 클 확률\n",
    "norm_dist.cdf(x=3)*2"
   ]
  },
  {
   "cell_type": "code",
   "execution_count": null,
   "id": "30e70c37",
   "metadata": {},
   "outputs": [],
   "source": []
  },
  {
   "cell_type": "markdown",
   "id": "e58cce24",
   "metadata": {},
   "source": [
    "## 표준화: 정규분포 -> 표준정규분포"
   ]
  },
  {
   "cell_type": "code",
   "execution_count": 140,
   "id": "b1988935",
   "metadata": {
    "ExecuteTime": {
     "end_time": "2022-05-17T07:45:48.336460Z",
     "start_time": "2022-05-17T07:45:48.324468Z"
    }
   },
   "outputs": [],
   "source": [
    "z_arr = (x-x.mean())/x.std()"
   ]
  },
  {
   "cell_type": "code",
   "execution_count": 141,
   "id": "ca8a004e",
   "metadata": {
    "ExecuteTime": {
     "end_time": "2022-05-17T07:45:56.160815Z",
     "start_time": "2022-05-17T07:45:56.149848Z"
    }
   },
   "outputs": [
    {
     "data": {
      "text/plain": [
       "-1.2212453270876723e-16"
      ]
     },
     "execution_count": 141,
     "metadata": {},
     "output_type": "execute_result"
    }
   ],
   "source": [
    "sp.mean(z_arr)"
   ]
  },
  {
   "cell_type": "code",
   "execution_count": 142,
   "id": "cac137c8",
   "metadata": {
    "ExecuteTime": {
     "end_time": "2022-05-17T07:46:02.957298Z",
     "start_time": "2022-05-17T07:46:02.948322Z"
    }
   },
   "outputs": [
    {
     "data": {
      "text/plain": [
       "1.0"
      ]
     },
     "execution_count": 142,
     "metadata": {},
     "output_type": "execute_result"
    }
   ],
   "source": [
    "sp.std(z_arr)"
   ]
  },
  {
   "cell_type": "code",
   "execution_count": 143,
   "id": "87ee87eb",
   "metadata": {
    "ExecuteTime": {
     "end_time": "2022-05-17T07:47:18.165654Z",
     "start_time": "2022-05-17T07:47:18.149697Z"
    }
   },
   "outputs": [],
   "source": [
    "z_dist = stats.norm(loc=0, scale=1)"
   ]
  },
  {
   "cell_type": "code",
   "execution_count": 144,
   "id": "1f107c6b",
   "metadata": {
    "ExecuteTime": {
     "end_time": "2022-05-17T07:51:19.125236Z",
     "start_time": "2022-05-17T07:51:19.109278Z"
    }
   },
   "outputs": [
    {
     "name": "stdout",
     "output_type": "stream",
     "text": [
      "4.007410137765721 0.8384438638365436\n"
     ]
    }
   ],
   "source": [
    "norm_temp = norm_dist.rvs(size=100)\n",
    "print(sp.mean(norm_temp), sp.std(norm_temp))"
   ]
  },
  {
   "cell_type": "code",
   "execution_count": 145,
   "id": "694d99c6",
   "metadata": {
    "ExecuteTime": {
     "end_time": "2022-05-17T07:51:55.563215Z",
     "start_time": "2022-05-17T07:51:55.558227Z"
    }
   },
   "outputs": [],
   "source": [
    "z_temp = (norm_temp - norm_temp.mean())/ sp.std(norm_temp)"
   ]
  },
  {
   "cell_type": "code",
   "execution_count": 146,
   "id": "f0e44a9b",
   "metadata": {
    "ExecuteTime": {
     "end_time": "2022-05-17T07:52:31.591104Z",
     "start_time": "2022-05-17T07:52:31.574150Z"
    }
   },
   "outputs": [],
   "source": [
    "def to_standardization(x):\n",
    "    return (x-4)/0.8"
   ]
  },
  {
   "cell_type": "code",
   "execution_count": 147,
   "id": "366ceb27",
   "metadata": {
    "ExecuteTime": {
     "end_time": "2022-05-17T07:54:06.322774Z",
     "start_time": "2022-05-17T07:54:06.308793Z"
    }
   },
   "outputs": [
    {
     "data": {
      "text/plain": [
       "-1.25"
      ]
     },
     "execution_count": 147,
     "metadata": {},
     "output_type": "execute_result"
    }
   ],
   "source": [
    "z3 = to_standardization(3)\n",
    "z3"
   ]
  },
  {
   "cell_type": "code",
   "execution_count": 148,
   "id": "13f60c2f",
   "metadata": {
    "ExecuteTime": {
     "end_time": "2022-05-17T07:57:38.608217Z",
     "start_time": "2022-05-17T07:57:38.595222Z"
    }
   },
   "outputs": [],
   "source": [
    "# 표준정규분포 객체\n",
    "z_dist = stats.norm(loc=0, scale=1)"
   ]
  },
  {
   "cell_type": "code",
   "execution_count": null,
   "id": "211d20d1",
   "metadata": {},
   "outputs": [],
   "source": []
  },
  {
   "cell_type": "markdown",
   "id": "32d47def",
   "metadata": {},
   "source": [
    "# 추정"
   ]
  },
  {
   "cell_type": "code",
   "execution_count": 167,
   "id": "6afcf476",
   "metadata": {
    "ExecuteTime": {
     "end_time": "2022-05-18T02:21:23.474989Z",
     "start_time": "2022-05-18T02:21:23.458037Z"
    }
   },
   "outputs": [],
   "source": [
    "# 모집단에 통계값(평균, 분산)을 표본추출을 통해서 추정해내는 것\n",
    "\n",
    "# 검정: 귀무가설과 대립가설의 주장을 검정\n",
    "\n",
    "# 귀무가설: 기존의 주장, 사실이 지속된다는 주장\n",
    "# 대립가설: 기존의 주장, 사실이 달라졌다는 주장\n",
    "\n",
    "# 검정방법:\n",
    "# 귀무가설이 옳다라는 전제로 검정을 실행해서 나오는 확률값이 매우 작으면 귀무가설을 기각\n",
    "# 귀무가설이 옳다라는 전제로 검정을 실행해서 나오는 확률값이 크면 귀무가설을 채택\n",
    "\n",
    "# 기준이 되는 확률값.. (신뢰수준 또는 유의수준)\n",
    "\n",
    "# 임계값 < 통계값 : 귀무가설 기각 \n",
    "# 임계값 > 통계값 : 귀무가설 채택\n",
    "\n",
    "# 유의수준 < p_value : 귀무가설 채택\n",
    "# 유의수준 > p_value : 귀무가설 기각"
   ]
  },
  {
   "cell_type": "code",
   "execution_count": 150,
   "id": "861646cc",
   "metadata": {
    "ExecuteTime": {
     "end_time": "2022-05-18T01:46:04.025695Z",
     "start_time": "2022-05-18T01:46:04.004754Z"
    }
   },
   "outputs": [
    {
     "data": {
      "text/plain": [
       "0   4.353\n",
       "1   3.735\n",
       "2   5.945\n",
       "3   3.798\n",
       "4   4.088\n",
       "5   5.266\n",
       "6   3.273\n",
       "7   3.527\n",
       "8   4.150\n",
       "9   3.736\n",
       "Name: length, dtype: float64"
      ]
     },
     "execution_count": 150,
     "metadata": {},
     "output_type": "execute_result"
    }
   ],
   "source": [
    "fish = pd.read_csv('./data/stat_files/fish_length.csv')['length']\n",
    "fish"
   ]
  },
  {
   "cell_type": "code",
   "execution_count": 153,
   "id": "150b9d78",
   "metadata": {
    "ExecuteTime": {
     "end_time": "2022-05-18T01:50:35.871240Z",
     "start_time": "2022-05-18T01:50:35.859272Z"
    }
   },
   "outputs": [
    {
     "data": {
      "text/plain": [
       "1.959963984540054"
      ]
     },
     "execution_count": 153,
     "metadata": {},
     "output_type": "execute_result"
    }
   ],
   "source": [
    "stats.norm.ppf(0.975)"
   ]
  },
  {
   "cell_type": "code",
   "execution_count": 157,
   "id": "26e2cea1",
   "metadata": {
    "ExecuteTime": {
     "end_time": "2022-05-18T01:51:46.530034Z",
     "start_time": "2022-05-18T01:51:46.516044Z"
    }
   },
   "outputs": [],
   "source": [
    "# 자유도\n",
    "df = len(fish) -1"
   ]
  },
  {
   "cell_type": "code",
   "execution_count": 160,
   "id": "2217117e",
   "metadata": {
    "ExecuteTime": {
     "end_time": "2022-05-18T01:58:32.430461Z",
     "start_time": "2022-05-18T01:58:32.419464Z"
    }
   },
   "outputs": [
    {
     "data": {
      "text/plain": [
       "2.2621571627409915"
      ]
     },
     "execution_count": 160,
     "metadata": {},
     "output_type": "execute_result"
    }
   ],
   "source": [
    "stats.t.ppf(0.975,df=df)"
   ]
  },
  {
   "cell_type": "code",
   "execution_count": 161,
   "id": "6fba7d92",
   "metadata": {
    "ExecuteTime": {
     "end_time": "2022-05-18T01:59:48.916183Z",
     "start_time": "2022-05-18T01:59:48.899200Z"
    }
   },
   "outputs": [],
   "source": [
    "# 모평균 95% 신뢰구간을 추정\n",
    "# mu => x_mean - 2.26*(s/np.sqrt(n))< mu < x_mean + 2.26*(s/np.sqrt(n))"
   ]
  },
  {
   "cell_type": "code",
   "execution_count": 162,
   "id": "4368b4cf",
   "metadata": {
    "ExecuteTime": {
     "end_time": "2022-05-18T01:59:56.159184Z",
     "start_time": "2022-05-18T01:59:56.147188Z"
    }
   },
   "outputs": [
    {
     "data": {
      "text/plain": [
       "4.187039324504523"
      ]
     },
     "execution_count": 162,
     "metadata": {},
     "output_type": "execute_result"
    }
   ],
   "source": [
    "sp.mean(fish)"
   ]
  },
  {
   "cell_type": "code",
   "execution_count": 163,
   "id": "80d682e9",
   "metadata": {
    "ExecuteTime": {
     "end_time": "2022-05-18T02:00:01.974148Z",
     "start_time": "2022-05-18T02:00:01.955172Z"
    }
   },
   "outputs": [
    {
     "data": {
      "text/plain": [
       "0.782477819030633"
      ]
     },
     "execution_count": 163,
     "metadata": {},
     "output_type": "execute_result"
    }
   ],
   "source": [
    "sp.std(fish)"
   ]
  },
  {
   "cell_type": "code",
   "execution_count": 165,
   "id": "bd80943a",
   "metadata": {
    "ExecuteTime": {
     "end_time": "2022-05-18T02:01:03.174764Z",
     "start_time": "2022-05-18T02:01:03.160803Z"
    }
   },
   "outputs": [
    {
     "data": {
      "text/plain": [
       "4.737446305934482"
      ]
     },
     "execution_count": 165,
     "metadata": {},
     "output_type": "execute_result"
    }
   ],
   "source": [
    "4.18 - 2.26*(0.78/np.sqrt(10))\n",
    "4.18 + 2.26*(0.78/np.sqrt(10))"
   ]
  },
  {
   "cell_type": "code",
   "execution_count": 166,
   "id": "a7d05ef1",
   "metadata": {
    "ExecuteTime": {
     "end_time": "2022-05-18T02:02:24.564892Z",
     "start_time": "2022-05-18T02:02:24.546940Z"
    }
   },
   "outputs": [
    {
     "data": {
      "text/plain": [
       "(3.5918391376873418, 4.768160862312658)"
      ]
     },
     "execution_count": 166,
     "metadata": {},
     "output_type": "execute_result"
    }
   ],
   "source": [
    "stats.t.interval(alpha=0.95, df=9, loc=4.18, scale=0.26)"
   ]
  },
  {
   "cell_type": "markdown",
   "id": "db47b4b6",
   "metadata": {},
   "source": [
    "# Quiz"
   ]
  },
  {
   "cell_type": "markdown",
   "id": "5c78fea1",
   "metadata": {},
   "source": [
    "## quiz1"
   ]
  },
  {
   "cell_type": "code",
   "execution_count": null,
   "id": "f76db8fd",
   "metadata": {},
   "outputs": [],
   "source": [
    "# Q1.검정\n",
    "# 귀무가설 : 세상 모든 과자의 무게가 50이다\n",
    "# 대립가설 : 세상 모든 과자의 무게가 50이 아니다.\n",
    "\n",
    "# 신뢰수준 95%로 검정하시오(유의수준5%로 검정)"
   ]
  },
  {
   "cell_type": "code",
   "execution_count": 168,
   "id": "1f25bd7c",
   "metadata": {
    "ExecuteTime": {
     "end_time": "2022-05-18T02:55:58.533230Z",
     "start_time": "2022-05-18T02:55:58.509294Z"
    }
   },
   "outputs": [
    {
     "data": {
      "text/html": [
       "<div>\n",
       "<style scoped>\n",
       "    .dataframe tbody tr th:only-of-type {\n",
       "        vertical-align: middle;\n",
       "    }\n",
       "\n",
       "    .dataframe tbody tr th {\n",
       "        vertical-align: top;\n",
       "    }\n",
       "\n",
       "    .dataframe thead th {\n",
       "        text-align: right;\n",
       "    }\n",
       "</style>\n",
       "<table border=\"1\" class=\"dataframe\">\n",
       "  <thead>\n",
       "    <tr style=\"text-align: right;\">\n",
       "      <th></th>\n",
       "      <th>weight</th>\n",
       "    </tr>\n",
       "  </thead>\n",
       "  <tbody>\n",
       "    <tr>\n",
       "      <th>0</th>\n",
       "      <td>58.530</td>\n",
       "    </tr>\n",
       "    <tr>\n",
       "      <th>1</th>\n",
       "      <td>52.353</td>\n",
       "    </tr>\n",
       "    <tr>\n",
       "      <th>2</th>\n",
       "      <td>74.446</td>\n",
       "    </tr>\n",
       "    <tr>\n",
       "      <th>3</th>\n",
       "      <td>52.983</td>\n",
       "    </tr>\n",
       "    <tr>\n",
       "      <th>4</th>\n",
       "      <td>55.877</td>\n",
       "    </tr>\n",
       "    <tr>\n",
       "      <th>5</th>\n",
       "      <td>67.660</td>\n",
       "    </tr>\n",
       "    <tr>\n",
       "      <th>6</th>\n",
       "      <td>47.726</td>\n",
       "    </tr>\n",
       "    <tr>\n",
       "      <th>7</th>\n",
       "      <td>50.267</td>\n",
       "    </tr>\n",
       "    <tr>\n",
       "      <th>8</th>\n",
       "      <td>56.501</td>\n",
       "    </tr>\n",
       "    <tr>\n",
       "      <th>9</th>\n",
       "      <td>52.361</td>\n",
       "    </tr>\n",
       "    <tr>\n",
       "      <th>10</th>\n",
       "      <td>45.458</td>\n",
       "    </tr>\n",
       "    <tr>\n",
       "      <th>11</th>\n",
       "      <td>53.361</td>\n",
       "    </tr>\n",
       "    <tr>\n",
       "      <th>12</th>\n",
       "      <td>52.129</td>\n",
       "    </tr>\n",
       "    <tr>\n",
       "      <th>13</th>\n",
       "      <td>59.828</td>\n",
       "    </tr>\n",
       "    <tr>\n",
       "      <th>14</th>\n",
       "      <td>41.682</td>\n",
       "    </tr>\n",
       "    <tr>\n",
       "      <th>15</th>\n",
       "      <td>49.399</td>\n",
       "    </tr>\n",
       "    <tr>\n",
       "      <th>16</th>\n",
       "      <td>64.211</td>\n",
       "    </tr>\n",
       "    <tr>\n",
       "      <th>17</th>\n",
       "      <td>69.859</td>\n",
       "    </tr>\n",
       "    <tr>\n",
       "      <th>18</th>\n",
       "      <td>42.911</td>\n",
       "    </tr>\n",
       "    <tr>\n",
       "      <th>19</th>\n",
       "      <td>60.159</td>\n",
       "    </tr>\n",
       "  </tbody>\n",
       "</table>\n",
       "</div>"
      ],
      "text/plain": [
       "    weight\n",
       "0   58.530\n",
       "1   52.353\n",
       "2   74.446\n",
       "3   52.983\n",
       "4   55.877\n",
       "5   67.660\n",
       "6   47.726\n",
       "7   50.267\n",
       "8   56.501\n",
       "9   52.361\n",
       "10  45.458\n",
       "11  53.361\n",
       "12  52.129\n",
       "13  59.828\n",
       "14  41.682\n",
       "15  49.399\n",
       "16  64.211\n",
       "17  69.859\n",
       "18  42.911\n",
       "19  60.159"
      ]
     },
     "execution_count": 168,
     "metadata": {},
     "output_type": "execute_result"
    }
   ],
   "source": [
    "# 표본\n",
    "junk_food = pd.read_csv('./data/stat_files/junk-food-weight.csv')\n",
    "junk_food"
   ]
  },
  {
   "cell_type": "code",
   "execution_count": 169,
   "id": "ef065627",
   "metadata": {
    "ExecuteTime": {
     "end_time": "2022-05-18T02:56:21.456152Z",
     "start_time": "2022-05-18T02:56:21.438232Z"
    }
   },
   "outputs": [
    {
     "data": {
      "text/plain": [
       "weight   55.385\n",
       "dtype: float64"
      ]
     },
     "execution_count": 169,
     "metadata": {},
     "output_type": "execute_result"
    }
   ],
   "source": [
    "sp.mean(junk_food)"
   ]
  },
  {
   "cell_type": "code",
   "execution_count": 170,
   "id": "807d3ba2",
   "metadata": {
    "ExecuteTime": {
     "end_time": "2022-05-18T02:56:29.103629Z",
     "start_time": "2022-05-18T02:56:29.083653Z"
    }
   },
   "outputs": [
    {
     "data": {
      "text/plain": [
       "weight   8.534\n",
       "dtype: float64"
      ]
     },
     "execution_count": 170,
     "metadata": {},
     "output_type": "execute_result"
    }
   ],
   "source": [
    "sp.std(junk_food)"
   ]
  },
  {
   "cell_type": "code",
   "execution_count": 171,
   "id": "752bd7e4",
   "metadata": {
    "ExecuteTime": {
     "end_time": "2022-05-18T03:37:00.186998Z",
     "start_time": "2022-05-18T03:37:00.171045Z"
    }
   },
   "outputs": [
    {
     "data": {
      "text/plain": [
       "2.7885083013526777"
      ]
     },
     "execution_count": 171,
     "metadata": {},
     "output_type": "execute_result"
    }
   ],
   "source": [
    "# 검정통계량\n",
    "\n",
    "t = (55.3-50)/(8.5/sp.sqrt(20))\n",
    "t"
   ]
  },
  {
   "cell_type": "code",
   "execution_count": 173,
   "id": "3e3d39db",
   "metadata": {
    "ExecuteTime": {
     "end_time": "2022-05-18T03:37:56.274860Z",
     "start_time": "2022-05-18T03:37:56.264858Z"
    }
   },
   "outputs": [
    {
     "data": {
      "text/plain": [
       "2.093024054408263"
      ]
     },
     "execution_count": 173,
     "metadata": {},
     "output_type": "execute_result"
    }
   ],
   "source": [
    "# 임계값\n",
    "stats.t.ppf(0.975,df=19)"
   ]
  },
  {
   "cell_type": "code",
   "execution_count": 175,
   "id": "b9142032",
   "metadata": {
    "ExecuteTime": {
     "end_time": "2022-05-18T03:38:29.800732Z",
     "start_time": "2022-05-18T03:38:29.784776Z"
    }
   },
   "outputs": [
    {
     "data": {
      "text/plain": [
       "0.17090563762271815"
      ]
     },
     "execution_count": 175,
     "metadata": {},
     "output_type": "execute_result"
    }
   ],
   "source": [
    "# p-value\n",
    "1-stats.t.cdf(0.975,df=19)"
   ]
  },
  {
   "cell_type": "code",
   "execution_count": null,
   "id": "5d8dae86",
   "metadata": {},
   "outputs": [],
   "source": []
  },
  {
   "cell_type": "markdown",
   "id": "5eb2c5b1",
   "metadata": {},
   "source": [
    "## quiz2"
   ]
  },
  {
   "cell_type": "code",
   "execution_count": 176,
   "id": "a1d52058",
   "metadata": {
    "ExecuteTime": {
     "end_time": "2022-05-18T03:41:22.525335Z",
     "start_time": "2022-05-18T03:41:22.508351Z"
    }
   },
   "outputs": [],
   "source": [
    "# Quiz2\n",
    "\n",
    "L = [175, 177, 179, 181, 183]\n",
    "# 평균,편차,분산,표준편차를 구하시오. 단 sum(),len() 이외에는 함수 사용하지마시오"
   ]
  },
  {
   "cell_type": "code",
   "execution_count": 179,
   "id": "c99f16c7",
   "metadata": {
    "ExecuteTime": {
     "end_time": "2022-05-18T03:44:07.162256Z",
     "start_time": "2022-05-18T03:44:07.144276Z"
    }
   },
   "outputs": [
    {
     "name": "stdout",
     "output_type": "stream",
     "text": [
      "평균 : 179.0\n"
     ]
    }
   ],
   "source": [
    "# 평균\n",
    "m = sum(L)/len(L)\n",
    "print('평균 :',m)"
   ]
  },
  {
   "cell_type": "code",
   "execution_count": 187,
   "id": "720ff0df",
   "metadata": {
    "ExecuteTime": {
     "end_time": "2022-05-18T03:48:17.265768Z",
     "start_time": "2022-05-18T03:48:17.256795Z"
    }
   },
   "outputs": [
    {
     "data": {
      "text/plain": [
       "[-4.0, -2.0, 0.0, 2.0, 4.0]"
      ]
     },
     "execution_count": 187,
     "metadata": {},
     "output_type": "execute_result"
    }
   ],
   "source": [
    "# 편차\n",
    "diff = []\n",
    "for i in range(len(L)):\n",
    "    diff.append((L[i]-m))\n",
    "diff"
   ]
  },
  {
   "cell_type": "code",
   "execution_count": 192,
   "id": "e95a28ac",
   "metadata": {
    "ExecuteTime": {
     "end_time": "2022-05-18T03:51:08.166047Z",
     "start_time": "2022-05-18T03:51:08.152114Z"
    }
   },
   "outputs": [
    {
     "data": {
      "text/plain": [
       "8.0"
      ]
     },
     "execution_count": 192,
     "metadata": {},
     "output_type": "execute_result"
    }
   ],
   "source": [
    "# 분산\n",
    "v= []\n",
    "for i in range(len(L)):\n",
    "    v.append((diff[i]**2))\n",
    "    \n",
    "var = sum(v)/len(v)\n",
    "var"
   ]
  },
  {
   "cell_type": "code",
   "execution_count": 193,
   "id": "ac3d97a1",
   "metadata": {
    "ExecuteTime": {
     "end_time": "2022-05-18T03:51:12.897434Z",
     "start_time": "2022-05-18T03:51:12.888458Z"
    }
   },
   "outputs": [
    {
     "data": {
      "text/plain": [
       "2.8284271247461903"
      ]
     },
     "execution_count": 193,
     "metadata": {},
     "output_type": "execute_result"
    }
   ],
   "source": [
    "# 표준편차\n",
    "np.sqrt(var)"
   ]
  },
  {
   "cell_type": "markdown",
   "id": "8d0cf02c",
   "metadata": {},
   "source": [
    "## quiz3"
   ]
  },
  {
   "cell_type": "code",
   "execution_count": 194,
   "id": "b45aeeed",
   "metadata": {
    "ExecuteTime": {
     "end_time": "2022-05-18T03:54:21.456662Z",
     "start_time": "2022-05-18T03:54:21.447686Z"
    }
   },
   "outputs": [],
   "source": [
    "# quiz3\n",
    "# 공분산과 상관계수를 구하시오\n",
    "L1 = [2,5,4,7,9,5]\n",
    "L2 = [12,54,86,32,54,72]\n",
    "\n",
    "# 공분산: 편차곱의 평균\n",
    "# 상관계수: 공분산을 각각의 표준편차로 나눈값"
   ]
  },
  {
   "cell_type": "code",
   "execution_count": 195,
   "id": "affc82ec",
   "metadata": {
    "ExecuteTime": {
     "end_time": "2022-05-18T03:54:34.133102Z",
     "start_time": "2022-05-18T03:54:34.119108Z"
    }
   },
   "outputs": [
    {
     "data": {
      "text/html": [
       "<div>\n",
       "<style scoped>\n",
       "    .dataframe tbody tr th:only-of-type {\n",
       "        vertical-align: middle;\n",
       "    }\n",
       "\n",
       "    .dataframe tbody tr th {\n",
       "        vertical-align: top;\n",
       "    }\n",
       "\n",
       "    .dataframe thead th {\n",
       "        text-align: right;\n",
       "    }\n",
       "</style>\n",
       "<table border=\"1\" class=\"dataframe\">\n",
       "  <thead>\n",
       "    <tr style=\"text-align: right;\">\n",
       "      <th></th>\n",
       "      <th>L1</th>\n",
       "      <th>L2</th>\n",
       "    </tr>\n",
       "  </thead>\n",
       "  <tbody>\n",
       "    <tr>\n",
       "      <th>0</th>\n",
       "      <td>2</td>\n",
       "      <td>12</td>\n",
       "    </tr>\n",
       "    <tr>\n",
       "      <th>1</th>\n",
       "      <td>5</td>\n",
       "      <td>54</td>\n",
       "    </tr>\n",
       "    <tr>\n",
       "      <th>2</th>\n",
       "      <td>4</td>\n",
       "      <td>86</td>\n",
       "    </tr>\n",
       "    <tr>\n",
       "      <th>3</th>\n",
       "      <td>7</td>\n",
       "      <td>32</td>\n",
       "    </tr>\n",
       "    <tr>\n",
       "      <th>4</th>\n",
       "      <td>9</td>\n",
       "      <td>54</td>\n",
       "    </tr>\n",
       "    <tr>\n",
       "      <th>5</th>\n",
       "      <td>5</td>\n",
       "      <td>72</td>\n",
       "    </tr>\n",
       "  </tbody>\n",
       "</table>\n",
       "</div>"
      ],
      "text/plain": [
       "   L1  L2\n",
       "0   2  12\n",
       "1   5  54\n",
       "2   4  86\n",
       "3   7  32\n",
       "4   9  54\n",
       "5   5  72"
      ]
     },
     "execution_count": 195,
     "metadata": {},
     "output_type": "execute_result"
    }
   ],
   "source": [
    "df = pd.DataFrame({'L1': L1, 'L2': L2})\n",
    "df"
   ]
  },
  {
   "cell_type": "code",
   "execution_count": 196,
   "id": "cdb84523",
   "metadata": {
    "ExecuteTime": {
     "end_time": "2022-05-18T03:55:46.776957Z",
     "start_time": "2022-05-18T03:55:46.760003Z"
    }
   },
   "outputs": [
    {
     "data": {
      "text/html": [
       "<div>\n",
       "<style scoped>\n",
       "    .dataframe tbody tr th:only-of-type {\n",
       "        vertical-align: middle;\n",
       "    }\n",
       "\n",
       "    .dataframe tbody tr th {\n",
       "        vertical-align: top;\n",
       "    }\n",
       "\n",
       "    .dataframe thead th {\n",
       "        text-align: right;\n",
       "    }\n",
       "</style>\n",
       "<table border=\"1\" class=\"dataframe\">\n",
       "  <thead>\n",
       "    <tr style=\"text-align: right;\">\n",
       "      <th></th>\n",
       "      <th>L1</th>\n",
       "      <th>L2</th>\n",
       "      <th>L1평균</th>\n",
       "      <th>L2평균</th>\n",
       "    </tr>\n",
       "  </thead>\n",
       "  <tbody>\n",
       "    <tr>\n",
       "      <th>0</th>\n",
       "      <td>2</td>\n",
       "      <td>12</td>\n",
       "      <td>5.333</td>\n",
       "      <td>51.667</td>\n",
       "    </tr>\n",
       "    <tr>\n",
       "      <th>1</th>\n",
       "      <td>5</td>\n",
       "      <td>54</td>\n",
       "      <td>5.333</td>\n",
       "      <td>51.667</td>\n",
       "    </tr>\n",
       "    <tr>\n",
       "      <th>2</th>\n",
       "      <td>4</td>\n",
       "      <td>86</td>\n",
       "      <td>5.333</td>\n",
       "      <td>51.667</td>\n",
       "    </tr>\n",
       "    <tr>\n",
       "      <th>3</th>\n",
       "      <td>7</td>\n",
       "      <td>32</td>\n",
       "      <td>5.333</td>\n",
       "      <td>51.667</td>\n",
       "    </tr>\n",
       "    <tr>\n",
       "      <th>4</th>\n",
       "      <td>9</td>\n",
       "      <td>54</td>\n",
       "      <td>5.333</td>\n",
       "      <td>51.667</td>\n",
       "    </tr>\n",
       "    <tr>\n",
       "      <th>5</th>\n",
       "      <td>5</td>\n",
       "      <td>72</td>\n",
       "      <td>5.333</td>\n",
       "      <td>51.667</td>\n",
       "    </tr>\n",
       "  </tbody>\n",
       "</table>\n",
       "</div>"
      ],
      "text/plain": [
       "   L1  L2  L1평균   L2평균\n",
       "0   2  12 5.333 51.667\n",
       "1   5  54 5.333 51.667\n",
       "2   4  86 5.333 51.667\n",
       "3   7  32 5.333 51.667\n",
       "4   9  54 5.333 51.667\n",
       "5   5  72 5.333 51.667"
      ]
     },
     "execution_count": 196,
     "metadata": {},
     "output_type": "execute_result"
    }
   ],
   "source": [
    "df['L1평균'] = df['L1'].sum()/len(L1)\n",
    "df['L2평균'] = df['L2'].sum()/len(L2)\n",
    "df"
   ]
  },
  {
   "cell_type": "code",
   "execution_count": 202,
   "id": "6da5aa04",
   "metadata": {
    "ExecuteTime": {
     "end_time": "2022-05-18T04:01:54.174030Z",
     "start_time": "2022-05-18T04:01:54.152088Z"
    }
   },
   "outputs": [
    {
     "data": {
      "text/html": [
       "<div>\n",
       "<style scoped>\n",
       "    .dataframe tbody tr th:only-of-type {\n",
       "        vertical-align: middle;\n",
       "    }\n",
       "\n",
       "    .dataframe tbody tr th {\n",
       "        vertical-align: top;\n",
       "    }\n",
       "\n",
       "    .dataframe thead th {\n",
       "        text-align: right;\n",
       "    }\n",
       "</style>\n",
       "<table border=\"1\" class=\"dataframe\">\n",
       "  <thead>\n",
       "    <tr style=\"text-align: right;\">\n",
       "      <th></th>\n",
       "      <th>L1</th>\n",
       "      <th>L2</th>\n",
       "      <th>L1평균</th>\n",
       "      <th>L2평균</th>\n",
       "      <th>cov</th>\n",
       "    </tr>\n",
       "  </thead>\n",
       "  <tbody>\n",
       "    <tr>\n",
       "      <th>0</th>\n",
       "      <td>2</td>\n",
       "      <td>12</td>\n",
       "      <td>5.333</td>\n",
       "      <td>51.667</td>\n",
       "      <td>9.111</td>\n",
       "    </tr>\n",
       "    <tr>\n",
       "      <th>1</th>\n",
       "      <td>5</td>\n",
       "      <td>54</td>\n",
       "      <td>5.333</td>\n",
       "      <td>51.667</td>\n",
       "      <td>9.111</td>\n",
       "    </tr>\n",
       "    <tr>\n",
       "      <th>2</th>\n",
       "      <td>4</td>\n",
       "      <td>86</td>\n",
       "      <td>5.333</td>\n",
       "      <td>51.667</td>\n",
       "      <td>9.111</td>\n",
       "    </tr>\n",
       "    <tr>\n",
       "      <th>3</th>\n",
       "      <td>7</td>\n",
       "      <td>32</td>\n",
       "      <td>5.333</td>\n",
       "      <td>51.667</td>\n",
       "      <td>9.111</td>\n",
       "    </tr>\n",
       "    <tr>\n",
       "      <th>4</th>\n",
       "      <td>9</td>\n",
       "      <td>54</td>\n",
       "      <td>5.333</td>\n",
       "      <td>51.667</td>\n",
       "      <td>9.111</td>\n",
       "    </tr>\n",
       "    <tr>\n",
       "      <th>5</th>\n",
       "      <td>5</td>\n",
       "      <td>72</td>\n",
       "      <td>5.333</td>\n",
       "      <td>51.667</td>\n",
       "      <td>9.111</td>\n",
       "    </tr>\n",
       "  </tbody>\n",
       "</table>\n",
       "</div>"
      ],
      "text/plain": [
       "   L1  L2  L1평균   L2평균   cov\n",
       "0   2  12 5.333 51.667 9.111\n",
       "1   5  54 5.333 51.667 9.111\n",
       "2   4  86 5.333 51.667 9.111\n",
       "3   7  32 5.333 51.667 9.111\n",
       "4   9  54 5.333 51.667 9.111\n",
       "5   5  72 5.333 51.667 9.111"
      ]
     },
     "execution_count": 202,
     "metadata": {},
     "output_type": "execute_result"
    }
   ],
   "source": [
    "# 공분산 \n",
    "df['cov'] = (((df['L1']-df['L1평균']) * (df['L2']-df['L2평균']))).sum() /len(df)\n",
    "df"
   ]
  },
  {
   "cell_type": "code",
   "execution_count": 208,
   "id": "68c5a995",
   "metadata": {
    "ExecuteTime": {
     "end_time": "2022-05-18T04:04:46.527999Z",
     "start_time": "2022-05-18T04:04:46.518053Z"
    }
   },
   "outputs": [
    {
     "data": {
      "text/html": [
       "<div>\n",
       "<style scoped>\n",
       "    .dataframe tbody tr th:only-of-type {\n",
       "        vertical-align: middle;\n",
       "    }\n",
       "\n",
       "    .dataframe tbody tr th {\n",
       "        vertical-align: top;\n",
       "    }\n",
       "\n",
       "    .dataframe thead th {\n",
       "        text-align: right;\n",
       "    }\n",
       "</style>\n",
       "<table border=\"1\" class=\"dataframe\">\n",
       "  <thead>\n",
       "    <tr style=\"text-align: right;\">\n",
       "      <th></th>\n",
       "      <th>L1</th>\n",
       "      <th>L2</th>\n",
       "      <th>L1평균</th>\n",
       "      <th>L2평균</th>\n",
       "      <th>cov</th>\n",
       "      <th>L1std</th>\n",
       "      <th>L2std</th>\n",
       "    </tr>\n",
       "  </thead>\n",
       "  <tbody>\n",
       "    <tr>\n",
       "      <th>0</th>\n",
       "      <td>2</td>\n",
       "      <td>12</td>\n",
       "      <td>5.333</td>\n",
       "      <td>51.667</td>\n",
       "      <td>9.111</td>\n",
       "      <td>2.211</td>\n",
       "      <td>24.370</td>\n",
       "    </tr>\n",
       "    <tr>\n",
       "      <th>1</th>\n",
       "      <td>5</td>\n",
       "      <td>54</td>\n",
       "      <td>5.333</td>\n",
       "      <td>51.667</td>\n",
       "      <td>9.111</td>\n",
       "      <td>2.211</td>\n",
       "      <td>24.370</td>\n",
       "    </tr>\n",
       "    <tr>\n",
       "      <th>2</th>\n",
       "      <td>4</td>\n",
       "      <td>86</td>\n",
       "      <td>5.333</td>\n",
       "      <td>51.667</td>\n",
       "      <td>9.111</td>\n",
       "      <td>2.211</td>\n",
       "      <td>24.370</td>\n",
       "    </tr>\n",
       "    <tr>\n",
       "      <th>3</th>\n",
       "      <td>7</td>\n",
       "      <td>32</td>\n",
       "      <td>5.333</td>\n",
       "      <td>51.667</td>\n",
       "      <td>9.111</td>\n",
       "      <td>2.211</td>\n",
       "      <td>24.370</td>\n",
       "    </tr>\n",
       "    <tr>\n",
       "      <th>4</th>\n",
       "      <td>9</td>\n",
       "      <td>54</td>\n",
       "      <td>5.333</td>\n",
       "      <td>51.667</td>\n",
       "      <td>9.111</td>\n",
       "      <td>2.211</td>\n",
       "      <td>24.370</td>\n",
       "    </tr>\n",
       "    <tr>\n",
       "      <th>5</th>\n",
       "      <td>5</td>\n",
       "      <td>72</td>\n",
       "      <td>5.333</td>\n",
       "      <td>51.667</td>\n",
       "      <td>9.111</td>\n",
       "      <td>2.211</td>\n",
       "      <td>24.370</td>\n",
       "    </tr>\n",
       "  </tbody>\n",
       "</table>\n",
       "</div>"
      ],
      "text/plain": [
       "   L1  L2  L1평균   L2평균   cov  L1std  L2std\n",
       "0   2  12 5.333 51.667 9.111  2.211 24.370\n",
       "1   5  54 5.333 51.667 9.111  2.211 24.370\n",
       "2   4  86 5.333 51.667 9.111  2.211 24.370\n",
       "3   7  32 5.333 51.667 9.111  2.211 24.370\n",
       "4   9  54 5.333 51.667 9.111  2.211 24.370\n",
       "5   5  72 5.333 51.667 9.111  2.211 24.370"
      ]
     },
     "execution_count": 208,
     "metadata": {},
     "output_type": "execute_result"
    }
   ],
   "source": [
    "\n",
    "df['L1std'] = np.sqrt( ( (df['L1']-df['L1평균'])**2 ).sum()/ len(df))\n",
    "df['L2std'] = np.sqrt( ( (df['L2']-df['L2평균'])**2 ).sum()/ len(df))\n",
    "df"
   ]
  },
  {
   "cell_type": "code",
   "execution_count": 211,
   "id": "5d1dba2f",
   "metadata": {
    "ExecuteTime": {
     "end_time": "2022-05-18T04:05:50.639377Z",
     "start_time": "2022-05-18T04:05:50.630401Z"
    }
   },
   "outputs": [
    {
     "data": {
      "text/html": [
       "<div>\n",
       "<style scoped>\n",
       "    .dataframe tbody tr th:only-of-type {\n",
       "        vertical-align: middle;\n",
       "    }\n",
       "\n",
       "    .dataframe tbody tr th {\n",
       "        vertical-align: top;\n",
       "    }\n",
       "\n",
       "    .dataframe thead th {\n",
       "        text-align: right;\n",
       "    }\n",
       "</style>\n",
       "<table border=\"1\" class=\"dataframe\">\n",
       "  <thead>\n",
       "    <tr style=\"text-align: right;\">\n",
       "      <th></th>\n",
       "      <th>L1</th>\n",
       "      <th>L2</th>\n",
       "      <th>L1평균</th>\n",
       "      <th>L2평균</th>\n",
       "      <th>cov</th>\n",
       "      <th>L1std</th>\n",
       "      <th>L2std</th>\n",
       "      <th>corr</th>\n",
       "    </tr>\n",
       "  </thead>\n",
       "  <tbody>\n",
       "    <tr>\n",
       "      <th>0</th>\n",
       "      <td>2</td>\n",
       "      <td>12</td>\n",
       "      <td>5.333</td>\n",
       "      <td>51.667</td>\n",
       "      <td>9.111</td>\n",
       "      <td>2.211</td>\n",
       "      <td>24.370</td>\n",
       "      <td>0.169</td>\n",
       "    </tr>\n",
       "    <tr>\n",
       "      <th>1</th>\n",
       "      <td>5</td>\n",
       "      <td>54</td>\n",
       "      <td>5.333</td>\n",
       "      <td>51.667</td>\n",
       "      <td>9.111</td>\n",
       "      <td>2.211</td>\n",
       "      <td>24.370</td>\n",
       "      <td>0.169</td>\n",
       "    </tr>\n",
       "    <tr>\n",
       "      <th>2</th>\n",
       "      <td>4</td>\n",
       "      <td>86</td>\n",
       "      <td>5.333</td>\n",
       "      <td>51.667</td>\n",
       "      <td>9.111</td>\n",
       "      <td>2.211</td>\n",
       "      <td>24.370</td>\n",
       "      <td>0.169</td>\n",
       "    </tr>\n",
       "    <tr>\n",
       "      <th>3</th>\n",
       "      <td>7</td>\n",
       "      <td>32</td>\n",
       "      <td>5.333</td>\n",
       "      <td>51.667</td>\n",
       "      <td>9.111</td>\n",
       "      <td>2.211</td>\n",
       "      <td>24.370</td>\n",
       "      <td>0.169</td>\n",
       "    </tr>\n",
       "    <tr>\n",
       "      <th>4</th>\n",
       "      <td>9</td>\n",
       "      <td>54</td>\n",
       "      <td>5.333</td>\n",
       "      <td>51.667</td>\n",
       "      <td>9.111</td>\n",
       "      <td>2.211</td>\n",
       "      <td>24.370</td>\n",
       "      <td>0.169</td>\n",
       "    </tr>\n",
       "    <tr>\n",
       "      <th>5</th>\n",
       "      <td>5</td>\n",
       "      <td>72</td>\n",
       "      <td>5.333</td>\n",
       "      <td>51.667</td>\n",
       "      <td>9.111</td>\n",
       "      <td>2.211</td>\n",
       "      <td>24.370</td>\n",
       "      <td>0.169</td>\n",
       "    </tr>\n",
       "  </tbody>\n",
       "</table>\n",
       "</div>"
      ],
      "text/plain": [
       "   L1  L2  L1평균   L2평균   cov  L1std  L2std  corr\n",
       "0   2  12 5.333 51.667 9.111  2.211 24.370 0.169\n",
       "1   5  54 5.333 51.667 9.111  2.211 24.370 0.169\n",
       "2   4  86 5.333 51.667 9.111  2.211 24.370 0.169\n",
       "3   7  32 5.333 51.667 9.111  2.211 24.370 0.169\n",
       "4   9  54 5.333 51.667 9.111  2.211 24.370 0.169\n",
       "5   5  72 5.333 51.667 9.111  2.211 24.370 0.169"
      ]
     },
     "execution_count": 211,
     "metadata": {},
     "output_type": "execute_result"
    }
   ],
   "source": [
    "# 상관계수: Cov(x,y)/std(x)*std(y)\n",
    "\n",
    "df['corr'] = df['cov']/ (df['L1std']*df['L2std'])\n",
    "df"
   ]
  },
  {
   "cell_type": "code",
   "execution_count": null,
   "id": "767658ad",
   "metadata": {},
   "outputs": [],
   "source": [
    " "
   ]
  },
  {
   "cell_type": "code",
   "execution_count": 212,
   "id": "b26db372",
   "metadata": {
    "ExecuteTime": {
     "end_time": "2022-05-18T05:17:07.119524Z",
     "start_time": "2022-05-18T05:17:07.104533Z"
    }
   },
   "outputs": [],
   "source": [
    "# 매출액과 광고비의 상관관계를 구하시오(상관계수)\n",
    "\n",
    "adv = [13,8,10,15,12,14,15,17]\n",
    "sales = [94, 70, 90, 100, 95, 100,85,95] "
   ]
  },
  {
   "cell_type": "code",
   "execution_count": 213,
   "id": "3f767849",
   "metadata": {
    "ExecuteTime": {
     "end_time": "2022-05-18T05:17:56.260028Z",
     "start_time": "2022-05-18T05:17:56.239056Z"
    }
   },
   "outputs": [
    {
     "data": {
      "text/html": [
       "<div>\n",
       "<style scoped>\n",
       "    .dataframe tbody tr th:only-of-type {\n",
       "        vertical-align: middle;\n",
       "    }\n",
       "\n",
       "    .dataframe tbody tr th {\n",
       "        vertical-align: top;\n",
       "    }\n",
       "\n",
       "    .dataframe thead th {\n",
       "        text-align: right;\n",
       "    }\n",
       "</style>\n",
       "<table border=\"1\" class=\"dataframe\">\n",
       "  <thead>\n",
       "    <tr style=\"text-align: right;\">\n",
       "      <th></th>\n",
       "      <th>adv</th>\n",
       "      <th>sales</th>\n",
       "    </tr>\n",
       "  </thead>\n",
       "  <tbody>\n",
       "    <tr>\n",
       "      <th>0</th>\n",
       "      <td>13</td>\n",
       "      <td>94</td>\n",
       "    </tr>\n",
       "    <tr>\n",
       "      <th>1</th>\n",
       "      <td>8</td>\n",
       "      <td>70</td>\n",
       "    </tr>\n",
       "    <tr>\n",
       "      <th>2</th>\n",
       "      <td>10</td>\n",
       "      <td>90</td>\n",
       "    </tr>\n",
       "    <tr>\n",
       "      <th>3</th>\n",
       "      <td>15</td>\n",
       "      <td>100</td>\n",
       "    </tr>\n",
       "    <tr>\n",
       "      <th>4</th>\n",
       "      <td>12</td>\n",
       "      <td>95</td>\n",
       "    </tr>\n",
       "    <tr>\n",
       "      <th>5</th>\n",
       "      <td>14</td>\n",
       "      <td>100</td>\n",
       "    </tr>\n",
       "    <tr>\n",
       "      <th>6</th>\n",
       "      <td>15</td>\n",
       "      <td>85</td>\n",
       "    </tr>\n",
       "    <tr>\n",
       "      <th>7</th>\n",
       "      <td>17</td>\n",
       "      <td>95</td>\n",
       "    </tr>\n",
       "  </tbody>\n",
       "</table>\n",
       "</div>"
      ],
      "text/plain": [
       "   adv  sales\n",
       "0   13     94\n",
       "1    8     70\n",
       "2   10     90\n",
       "3   15    100\n",
       "4   12     95\n",
       "5   14    100\n",
       "6   15     85\n",
       "7   17     95"
      ]
     },
     "execution_count": 213,
     "metadata": {},
     "output_type": "execute_result"
    }
   ],
   "source": [
    "df = pd.DataFrame({'adv':adv, 'sales':sales})\n",
    "df"
   ]
  },
  {
   "cell_type": "code",
   "execution_count": 214,
   "id": "d53df026",
   "metadata": {
    "ExecuteTime": {
     "end_time": "2022-05-18T05:19:16.245662Z",
     "start_time": "2022-05-18T05:19:16.239678Z"
    }
   },
   "outputs": [],
   "source": [
    "# 편차\n",
    "df['adv_diff'] = df['adv']-df['adv'].mean()\n",
    "df['sales_diff'] = df['sales']-df['sales'].mean()"
   ]
  },
  {
   "cell_type": "code",
   "execution_count": 216,
   "id": "b11a76ba",
   "metadata": {
    "ExecuteTime": {
     "end_time": "2022-05-18T05:20:25.921084Z",
     "start_time": "2022-05-18T05:20:25.910113Z"
    }
   },
   "outputs": [
    {
     "data": {
      "text/html": [
       "<div>\n",
       "<style scoped>\n",
       "    .dataframe tbody tr th:only-of-type {\n",
       "        vertical-align: middle;\n",
       "    }\n",
       "\n",
       "    .dataframe tbody tr th {\n",
       "        vertical-align: top;\n",
       "    }\n",
       "\n",
       "    .dataframe thead th {\n",
       "        text-align: right;\n",
       "    }\n",
       "</style>\n",
       "<table border=\"1\" class=\"dataframe\">\n",
       "  <thead>\n",
       "    <tr style=\"text-align: right;\">\n",
       "      <th></th>\n",
       "      <th>adv</th>\n",
       "      <th>sales</th>\n",
       "      <th>adv_diff</th>\n",
       "      <th>sales_diff</th>\n",
       "      <th>COV</th>\n",
       "    </tr>\n",
       "  </thead>\n",
       "  <tbody>\n",
       "    <tr>\n",
       "      <th>0</th>\n",
       "      <td>13</td>\n",
       "      <td>94</td>\n",
       "      <td>0.000</td>\n",
       "      <td>2.875</td>\n",
       "      <td>16.875</td>\n",
       "    </tr>\n",
       "    <tr>\n",
       "      <th>1</th>\n",
       "      <td>8</td>\n",
       "      <td>70</td>\n",
       "      <td>-5.000</td>\n",
       "      <td>-21.125</td>\n",
       "      <td>16.875</td>\n",
       "    </tr>\n",
       "    <tr>\n",
       "      <th>2</th>\n",
       "      <td>10</td>\n",
       "      <td>90</td>\n",
       "      <td>-3.000</td>\n",
       "      <td>-1.125</td>\n",
       "      <td>16.875</td>\n",
       "    </tr>\n",
       "    <tr>\n",
       "      <th>3</th>\n",
       "      <td>15</td>\n",
       "      <td>100</td>\n",
       "      <td>2.000</td>\n",
       "      <td>8.875</td>\n",
       "      <td>16.875</td>\n",
       "    </tr>\n",
       "    <tr>\n",
       "      <th>4</th>\n",
       "      <td>12</td>\n",
       "      <td>95</td>\n",
       "      <td>-1.000</td>\n",
       "      <td>3.875</td>\n",
       "      <td>16.875</td>\n",
       "    </tr>\n",
       "    <tr>\n",
       "      <th>5</th>\n",
       "      <td>14</td>\n",
       "      <td>100</td>\n",
       "      <td>1.000</td>\n",
       "      <td>8.875</td>\n",
       "      <td>16.875</td>\n",
       "    </tr>\n",
       "    <tr>\n",
       "      <th>6</th>\n",
       "      <td>15</td>\n",
       "      <td>85</td>\n",
       "      <td>2.000</td>\n",
       "      <td>-6.125</td>\n",
       "      <td>16.875</td>\n",
       "    </tr>\n",
       "    <tr>\n",
       "      <th>7</th>\n",
       "      <td>17</td>\n",
       "      <td>95</td>\n",
       "      <td>4.000</td>\n",
       "      <td>3.875</td>\n",
       "      <td>16.875</td>\n",
       "    </tr>\n",
       "  </tbody>\n",
       "</table>\n",
       "</div>"
      ],
      "text/plain": [
       "   adv  sales  adv_diff  sales_diff    COV\n",
       "0   13     94     0.000       2.875 16.875\n",
       "1    8     70    -5.000     -21.125 16.875\n",
       "2   10     90    -3.000      -1.125 16.875\n",
       "3   15    100     2.000       8.875 16.875\n",
       "4   12     95    -1.000       3.875 16.875\n",
       "5   14    100     1.000       8.875 16.875\n",
       "6   15     85     2.000      -6.125 16.875\n",
       "7   17     95     4.000       3.875 16.875"
      ]
     },
     "execution_count": 216,
     "metadata": {},
     "output_type": "execute_result"
    }
   ],
   "source": [
    "# 공분산\n",
    "df['COV'] = (df['adv_diff']*df['sales_diff']).sum()/len(df)\n",
    "df"
   ]
  },
  {
   "cell_type": "code",
   "execution_count": 219,
   "id": "4e005ba5",
   "metadata": {
    "ExecuteTime": {
     "end_time": "2022-05-18T05:24:44.529589Z",
     "start_time": "2022-05-18T05:24:44.510635Z"
    }
   },
   "outputs": [],
   "source": [
    "# 표준편차\n",
    "df['adv_std'] = np.sqrt((df['adv_diff']**2).sum()/len(df))\n",
    "df['sales_std'] = np.sqrt((df['sales_diff']**2).sum()/len(df))"
   ]
  },
  {
   "cell_type": "code",
   "execution_count": 220,
   "id": "3f0f488a",
   "metadata": {
    "ExecuteTime": {
     "end_time": "2022-05-18T05:24:44.936928Z",
     "start_time": "2022-05-18T05:24:44.919974Z"
    }
   },
   "outputs": [
    {
     "data": {
      "text/html": [
       "<div>\n",
       "<style scoped>\n",
       "    .dataframe tbody tr th:only-of-type {\n",
       "        vertical-align: middle;\n",
       "    }\n",
       "\n",
       "    .dataframe tbody tr th {\n",
       "        vertical-align: top;\n",
       "    }\n",
       "\n",
       "    .dataframe thead th {\n",
       "        text-align: right;\n",
       "    }\n",
       "</style>\n",
       "<table border=\"1\" class=\"dataframe\">\n",
       "  <thead>\n",
       "    <tr style=\"text-align: right;\">\n",
       "      <th></th>\n",
       "      <th>adv</th>\n",
       "      <th>sales</th>\n",
       "      <th>adv_diff</th>\n",
       "      <th>sales_diff</th>\n",
       "      <th>COV</th>\n",
       "      <th>adv_std</th>\n",
       "      <th>sales_std</th>\n",
       "      <th>corr</th>\n",
       "    </tr>\n",
       "  </thead>\n",
       "  <tbody>\n",
       "    <tr>\n",
       "      <th>0</th>\n",
       "      <td>13</td>\n",
       "      <td>94</td>\n",
       "      <td>0.000</td>\n",
       "      <td>2.875</td>\n",
       "      <td>16.875</td>\n",
       "      <td>2.739</td>\n",
       "      <td>9.225</td>\n",
       "      <td>0.668</td>\n",
       "    </tr>\n",
       "    <tr>\n",
       "      <th>1</th>\n",
       "      <td>8</td>\n",
       "      <td>70</td>\n",
       "      <td>-5.000</td>\n",
       "      <td>-21.125</td>\n",
       "      <td>16.875</td>\n",
       "      <td>2.739</td>\n",
       "      <td>9.225</td>\n",
       "      <td>0.668</td>\n",
       "    </tr>\n",
       "    <tr>\n",
       "      <th>2</th>\n",
       "      <td>10</td>\n",
       "      <td>90</td>\n",
       "      <td>-3.000</td>\n",
       "      <td>-1.125</td>\n",
       "      <td>16.875</td>\n",
       "      <td>2.739</td>\n",
       "      <td>9.225</td>\n",
       "      <td>0.668</td>\n",
       "    </tr>\n",
       "    <tr>\n",
       "      <th>3</th>\n",
       "      <td>15</td>\n",
       "      <td>100</td>\n",
       "      <td>2.000</td>\n",
       "      <td>8.875</td>\n",
       "      <td>16.875</td>\n",
       "      <td>2.739</td>\n",
       "      <td>9.225</td>\n",
       "      <td>0.668</td>\n",
       "    </tr>\n",
       "    <tr>\n",
       "      <th>4</th>\n",
       "      <td>12</td>\n",
       "      <td>95</td>\n",
       "      <td>-1.000</td>\n",
       "      <td>3.875</td>\n",
       "      <td>16.875</td>\n",
       "      <td>2.739</td>\n",
       "      <td>9.225</td>\n",
       "      <td>0.668</td>\n",
       "    </tr>\n",
       "    <tr>\n",
       "      <th>5</th>\n",
       "      <td>14</td>\n",
       "      <td>100</td>\n",
       "      <td>1.000</td>\n",
       "      <td>8.875</td>\n",
       "      <td>16.875</td>\n",
       "      <td>2.739</td>\n",
       "      <td>9.225</td>\n",
       "      <td>0.668</td>\n",
       "    </tr>\n",
       "    <tr>\n",
       "      <th>6</th>\n",
       "      <td>15</td>\n",
       "      <td>85</td>\n",
       "      <td>2.000</td>\n",
       "      <td>-6.125</td>\n",
       "      <td>16.875</td>\n",
       "      <td>2.739</td>\n",
       "      <td>9.225</td>\n",
       "      <td>0.668</td>\n",
       "    </tr>\n",
       "    <tr>\n",
       "      <th>7</th>\n",
       "      <td>17</td>\n",
       "      <td>95</td>\n",
       "      <td>4.000</td>\n",
       "      <td>3.875</td>\n",
       "      <td>16.875</td>\n",
       "      <td>2.739</td>\n",
       "      <td>9.225</td>\n",
       "      <td>0.668</td>\n",
       "    </tr>\n",
       "  </tbody>\n",
       "</table>\n",
       "</div>"
      ],
      "text/plain": [
       "   adv  sales  adv_diff  sales_diff    COV  adv_std  sales_std  corr\n",
       "0   13     94     0.000       2.875 16.875    2.739      9.225 0.668\n",
       "1    8     70    -5.000     -21.125 16.875    2.739      9.225 0.668\n",
       "2   10     90    -3.000      -1.125 16.875    2.739      9.225 0.668\n",
       "3   15    100     2.000       8.875 16.875    2.739      9.225 0.668\n",
       "4   12     95    -1.000       3.875 16.875    2.739      9.225 0.668\n",
       "5   14    100     1.000       8.875 16.875    2.739      9.225 0.668\n",
       "6   15     85     2.000      -6.125 16.875    2.739      9.225 0.668\n",
       "7   17     95     4.000       3.875 16.875    2.739      9.225 0.668"
      ]
     },
     "execution_count": 220,
     "metadata": {},
     "output_type": "execute_result"
    }
   ],
   "source": [
    "#상관계수\n",
    "df['corr'] = df['COV']/ (df['adv_std']*df['sales_std'])\n",
    "df"
   ]
  },
  {
   "cell_type": "code",
   "execution_count": null,
   "id": "a23a6147",
   "metadata": {},
   "outputs": [],
   "source": []
  },
  {
   "cell_type": "code",
   "execution_count": null,
   "id": "f5563daf",
   "metadata": {},
   "outputs": [],
   "source": []
  },
  {
   "cell_type": "markdown",
   "id": "12fd4939",
   "metadata": {},
   "source": [
    "## quiz4"
   ]
  },
  {
   "cell_type": "code",
   "execution_count": 224,
   "id": "80e219b1",
   "metadata": {
    "ExecuteTime": {
     "end_time": "2022-05-18T05:49:15.427275Z",
     "start_time": "2022-05-18T05:49:15.419324Z"
    }
   },
   "outputs": [],
   "source": [
    "# quiz4\n",
    "\n",
    "# 아프리카에 서식하는 악어의 몸무게를 추정하시오\n",
    "# 50마리의 악어의 몸무게를 측정한 결과 994kg이었고, 과거 악어몸무게의 표준편차는 10kg이었다\n",
    "# 아프리카 악어의 몸무게를 95% 신뢰수준으로 추정하시오"
   ]
  },
  {
   "cell_type": "code",
   "execution_count": null,
   "id": "50632602",
   "metadata": {},
   "outputs": [],
   "source": [
    "# 표본평균: 994\n",
    "# 모표준편차: 10 => 정규분포 사용가능\n",
    "# 샘플사이즈: 50\n",
    "# 신뢰수준: 95\n",
    "\n",
    "# 정규에서 신뢰수준 95% => 평균에서 -1.96*표준편차 ~ 1.96*표준편차 범위 사이에 해당"
   ]
  },
  {
   "cell_type": "code",
   "execution_count": 227,
   "id": "1cb76dd9",
   "metadata": {
    "ExecuteTime": {
     "end_time": "2022-05-18T06:04:21.196477Z",
     "start_time": "2022-05-18T06:04:21.178496Z"
    }
   },
   "outputs": [
    {
     "name": "stdout",
     "output_type": "stream",
     "text": [
      "994 - 1.96* 10/np.sqrt(50) ~ 994 + 1.96* 10/np.sqrt(50)\n"
     ]
    }
   ],
   "source": [
    "print('994 - 1.96* 10/np.sqrt(50)','~','994 + 1.96* 10/np.sqrt(50)')"
   ]
  },
  {
   "cell_type": "code",
   "execution_count": 230,
   "id": "dac38afe",
   "metadata": {
    "ExecuteTime": {
     "end_time": "2022-05-18T06:08:41.786036Z",
     "start_time": "2022-05-18T06:08:41.769083Z"
    }
   },
   "outputs": [
    {
     "data": {
      "text/plain": [
       "(991.2281923513007, 996.7718076486993)"
      ]
     },
     "execution_count": 230,
     "metadata": {},
     "output_type": "execute_result"
    }
   ],
   "source": [
    "stats.norm.interval(alpha=0.95, loc=994, scale=10/sp.sqrt(50))"
   ]
  },
  {
   "cell_type": "markdown",
   "id": "6ff88615",
   "metadata": {},
   "source": [
    "## quiz5"
   ]
  },
  {
   "cell_type": "markdown",
   "id": "aa75ccac",
   "metadata": {},
   "source": [
    "\n",
    "아프리카에 서식하는 악어의 평균몸무게는 1ton이었다. 한 동물학자는 이들의 몸무게가 1ton이 아니라고 주장한다.<br>\n",
    "이를 실험하기 위해 50마리의 악어의 몸무게를 확인하였다. 50마리 악어의 평균 몸무게는 995kg이었다. 과거의 조사를 통해<br>\n",
    "악어의 몸무게의 표준편차는 10kg이라는 것을 알고 있다.<br>\n",
    "유의수준 5%수준에서 이 동물학자의 주장이 맞는지 검정하시오.<br>\n",
    "\n",
    "귀무가설: 아프리카 악어의 평균몸무게는 1ton이다.<br>\n",
    "대립가설: 아프리카 악어의 평균몸무게는 1ton이 아니다.<br>\n"
   ]
  },
  {
   "cell_type": "code",
   "execution_count": 243,
   "id": "1e372540",
   "metadata": {
    "ExecuteTime": {
     "end_time": "2022-05-18T06:47:09.672956Z",
     "start_time": "2022-05-18T06:47:09.655044Z"
    }
   },
   "outputs": [
    {
     "name": "stdout",
     "output_type": "stream",
     "text": [
      "(992.2281923513007, 997.7718076486993)\n",
      "-1.9599639845400545\n"
     ]
    },
    {
     "data": {
      "text/plain": [
       "995"
      ]
     },
     "execution_count": 243,
     "metadata": {},
     "output_type": "execute_result"
    }
   ],
   "source": [
    "# 모평균 : 1000 \n",
    "# 모표준편차: 10\n",
    "# 샘플: 50\n",
    "# 표본평균: 995\n",
    "\n",
    "# 임계값\n",
    "print(stats.norm.interval(alpha=0.95, loc=995, scale=10/sp.sqrt(50)))\n",
    "\n",
    "# 표준 임계값\n",
    "print(stats.norm.ppf(loc=0, scale=1, q= 0.025))\n",
    "\n",
    "# 검정통계량\n",
    "995"
   ]
  },
  {
   "cell_type": "code",
   "execution_count": 238,
   "id": "427207c8",
   "metadata": {
    "ExecuteTime": {
     "end_time": "2022-05-18T06:37:19.662138Z",
     "start_time": "2022-05-18T06:37:19.655158Z"
    }
   },
   "outputs": [
    {
     "data": {
      "text/plain": [
       "-3.5355339059327378"
      ]
     },
     "execution_count": 238,
     "metadata": {},
     "output_type": "execute_result"
    }
   ],
   "source": [
    "# 표준정규분포\n",
    "z= (995-1000)/(10/sp.sqrt(50))\n",
    "z"
   ]
  },
  {
   "cell_type": "code",
   "execution_count": 240,
   "id": "d5fb2b96",
   "metadata": {
    "ExecuteTime": {
     "end_time": "2022-05-18T06:40:08.578967Z",
     "start_time": "2022-05-18T06:40:08.565004Z"
    }
   },
   "outputs": [
    {
     "data": {
      "text/plain": [
       "0.0002034760087224789"
      ]
     },
     "execution_count": 240,
     "metadata": {},
     "output_type": "execute_result"
    }
   ],
   "source": [
    "# 유의수준 5%\n",
    "\n",
    "# p-value\n",
    "stats.norm.cdf(z)"
   ]
  },
  {
   "cell_type": "code",
   "execution_count": null,
   "id": "340b8acb",
   "metadata": {},
   "outputs": [],
   "source": []
  },
  {
   "cell_type": "markdown",
   "id": "060ada9f",
   "metadata": {},
   "source": [
    "## quiz6"
   ]
  },
  {
   "cell_type": "code",
   "execution_count": 245,
   "id": "d8831b07",
   "metadata": {
    "ExecuteTime": {
     "end_time": "2022-05-18T07:01:39.016341Z",
     "start_time": "2022-05-18T07:01:39.012360Z"
    }
   },
   "outputs": [],
   "source": [
    "# 화장품 회사에서는 용기에 화장품을 담고 있으며, 화장품의 무게는 정규분포를 따른다.\n",
    "# 공장에서 16개의 sample을 추출해서 조사한 결과 평균은 60g, 표준편차는 12g이었다.\n",
    "# 평균적으로 화장품의 용기에 화장품이 얼마나 들어가는지 95%신뢰구간을 구하시오"
   ]
  },
  {
   "cell_type": "code",
   "execution_count": 246,
   "id": "f9d6a661",
   "metadata": {
    "ExecuteTime": {
     "end_time": "2022-05-18T07:07:24.547879Z",
     "start_time": "2022-05-18T07:07:24.540911Z"
    }
   },
   "outputs": [
    {
     "data": {
      "text/plain": [
       "(36.48043218551935, 83.51956781448065)"
      ]
     },
     "execution_count": 246,
     "metadata": {},
     "output_type": "execute_result"
    }
   ],
   "source": [
    "# 샘플수 16, 표본평균 60g, \n",
    "# 표본표준편차 12g -> 모표준편차..?\n",
    "stats.norm.interval(alpha=0.95, loc= 60, scale=12)"
   ]
  },
  {
   "cell_type": "code",
   "execution_count": null,
   "id": "2f4a2f9b",
   "metadata": {},
   "outputs": [],
   "source": []
  },
  {
   "cell_type": "markdown",
   "id": "8606a4fd",
   "metadata": {},
   "source": [
    "## quiz7"
   ]
  },
  {
   "cell_type": "code",
   "execution_count": null,
   "id": "c667cfa2",
   "metadata": {},
   "outputs": [],
   "source": [
    "# 한 화장품 공장에서는 화장품을 용기에 담고 있으며,기계는 화장품을 65g씩 담도록 설계되어있다.\n",
    "# 화장품의 무게는 정규분포를 따른다고 한다. 기계의 오작동 여부를 알기 위해 \n",
    "# 16개의 샘플을 무작위로 뽑아서 검사한 결과 평균무게는 60g,표준편차는 20g이었다.\n",
    "# 유의수준 5%로 기계의 오작동 여부를 검정하시오"
   ]
  },
  {
   "cell_type": "code",
   "execution_count": null,
   "id": "9762db9c",
   "metadata": {},
   "outputs": [],
   "source": [
    "# 샘플수 16, 표본평균 60, 표본표준편차 20\n",
    "# 귀무가설: (기존가설) 모평균=65g\n",
    "# 대립가설: 모평균 65g이 아닐것이다."
   ]
  },
  {
   "cell_type": "code",
   "execution_count": 248,
   "id": "65cedf0d",
   "metadata": {
    "ExecuteTime": {
     "end_time": "2022-05-18T07:12:30.992634Z",
     "start_time": "2022-05-18T07:12:30.978672Z"
    }
   },
   "outputs": [
    {
     "data": {
      "text/plain": [
       "-0.25"
      ]
     },
     "execution_count": 248,
     "metadata": {},
     "output_type": "execute_result"
    }
   ],
   "source": [
    "z = (60-65)/20\n",
    "z"
   ]
  },
  {
   "cell_type": "code",
   "execution_count": 249,
   "id": "5284873f",
   "metadata": {
    "ExecuteTime": {
     "end_time": "2022-05-18T07:16:59.358865Z",
     "start_time": "2022-05-18T07:16:59.345929Z"
    }
   },
   "outputs": [
    {
     "data": {
      "text/plain": [
       "0.4012936743170763"
      ]
     },
     "execution_count": 249,
     "metadata": {},
     "output_type": "execute_result"
    }
   ],
   "source": [
    "# stats.norm.cdf(x, loc= , scale = )\n",
    "stats.norm.cdf(z)"
   ]
  },
  {
   "cell_type": "code",
   "execution_count": null,
   "id": "675215c9",
   "metadata": {},
   "outputs": [],
   "source": []
  },
  {
   "cell_type": "code",
   "execution_count": null,
   "id": "f3bd2686",
   "metadata": {},
   "outputs": [],
   "source": []
  },
  {
   "cell_type": "code",
   "execution_count": null,
   "id": "1bb16370",
   "metadata": {},
   "outputs": [],
   "source": []
  },
  {
   "cell_type": "code",
   "execution_count": null,
   "id": "774b06dd",
   "metadata": {},
   "outputs": [],
   "source": []
  },
  {
   "cell_type": "code",
   "execution_count": null,
   "id": "5d4fedb2",
   "metadata": {},
   "outputs": [],
   "source": []
  },
  {
   "cell_type": "code",
   "execution_count": null,
   "id": "dcacf417",
   "metadata": {},
   "outputs": [],
   "source": []
  },
  {
   "cell_type": "code",
   "execution_count": null,
   "id": "e60dd023",
   "metadata": {},
   "outputs": [],
   "source": []
  },
  {
   "cell_type": "code",
   "execution_count": null,
   "id": "84974a3d",
   "metadata": {},
   "outputs": [],
   "source": []
  }
 ],
 "metadata": {
  "kernelspec": {
   "display_name": "Python 3 (ipykernel)",
   "language": "python",
   "name": "python3"
  },
  "language_info": {
   "codemirror_mode": {
    "name": "ipython",
    "version": 3
   },
   "file_extension": ".py",
   "mimetype": "text/x-python",
   "name": "python",
   "nbconvert_exporter": "python",
   "pygments_lexer": "ipython3",
   "version": "3.9.7"
  },
  "toc": {
   "base_numbering": 1,
   "nav_menu": {},
   "number_sections": true,
   "sideBar": true,
   "skip_h1_title": false,
   "title_cell": "Table of Contents",
   "title_sidebar": "Contents",
   "toc_cell": false,
   "toc_position": {},
   "toc_section_display": true,
   "toc_window_display": true
  },
  "varInspector": {
   "cols": {
    "lenName": 16,
    "lenType": 16,
    "lenVar": 40
   },
   "kernels_config": {
    "python": {
     "delete_cmd_postfix": "",
     "delete_cmd_prefix": "del ",
     "library": "var_list.py",
     "varRefreshCmd": "print(var_dic_list())"
    },
    "r": {
     "delete_cmd_postfix": ") ",
     "delete_cmd_prefix": "rm(",
     "library": "var_list.r",
     "varRefreshCmd": "cat(var_dic_list()) "
    }
   },
   "types_to_exclude": [
    "module",
    "function",
    "builtin_function_or_method",
    "instance",
    "_Feature"
   ],
   "window_display": false
  }
 },
 "nbformat": 4,
 "nbformat_minor": 5
}
