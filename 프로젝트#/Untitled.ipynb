{
 "cells": [
  {
   "cell_type": "code",
   "execution_count": 1,
   "id": "fe18df57",
   "metadata": {},
   "outputs": [],
   "source": [
    "import pandas as pd\n",
    "import numpy as np\n",
    "import matplotlib.pyplot as plt\n",
    "import seaborn as sns"
   ]
  },
  {
   "cell_type": "code",
   "execution_count": 4,
   "id": "8c440fd7",
   "metadata": {},
   "outputs": [],
   "source": [
    "import requests\n",
    "from bs4 import BeautifulSoup\n",
    "from selenium import webdriver\n",
    "from selenium.webdriver.common.keys import Keys"
   ]
  },
  {
   "cell_type": "code",
   "execution_count": 5,
   "id": "d334c512",
   "metadata": {},
   "outputs": [],
   "source": [
    "key='5d464a1fb07f1591664f23e8b404a2b9'\n",
    "\n",
    "# 영화인 목록\n",
    "# http://www.kobis.or.kr/kobisopenapi/webservice/rest/people/searchPeopleList.xml"
   ]
  },
  {
   "cell_type": "code",
   "execution_count": 23,
   "id": "6bb57732",
   "metadata": {},
   "outputs": [],
   "source": [
    "# 영화인 목록\n",
    "url = 'http://www.kobis.or.kr/kobisopenapi/webservice/rest/people/searchPeopleList.xml'\n",
    "# curPage  # 현재 페이지\n",
    "# itemPerPage  결과 row수,  default=10 \n",
    "\n",
    "query = '?'+'key=5d464a1fb07f1591664f23e8b404a2b9'+'curPage=1'+'itemPerPage=20'"
   ]
  },
  {
   "cell_type": "code",
   "execution_count": 24,
   "id": "17f6d652",
   "metadata": {},
   "outputs": [
    {
     "data": {
      "text/plain": [
       "'\\n320010유효하지않은 키값입니다.\\n'"
      ]
     },
     "execution_count": 24,
     "metadata": {},
     "output_type": "execute_result"
    }
   ],
   "source": [
    "url1 = url + query\n",
    "res = requests.get(url1)\n",
    "soup = BeautifulSoup(res.text,'html.parser')\n",
    "soup.text"
   ]
  },
  {
   "cell_type": "code",
   "execution_count": null,
   "id": "45d34ed9",
   "metadata": {},
   "outputs": [],
   "source": []
  }
 ],
 "metadata": {
  "kernelspec": {
   "display_name": "Python 3 (ipykernel)",
   "language": "python",
   "name": "python3"
  },
  "language_info": {
   "codemirror_mode": {
    "name": "ipython",
    "version": 3
   },
   "file_extension": ".py",
   "mimetype": "text/x-python",
   "name": "python",
   "nbconvert_exporter": "python",
   "pygments_lexer": "ipython3",
   "version": "3.9.7"
  }
 },
 "nbformat": 4,
 "nbformat_minor": 5
}
