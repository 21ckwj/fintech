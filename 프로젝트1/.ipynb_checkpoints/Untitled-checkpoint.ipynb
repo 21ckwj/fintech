{
 "cells": [
  {
   "cell_type": "code",
   "execution_count": 1,
   "id": "1f25fcce",
   "metadata": {},
   "outputs": [],
   "source": [
    "# 뉴스데이터 날짜 전처리"
   ]
  },
  {
   "cell_type": "code",
   "execution_count": 2,
   "id": "cec05016",
   "metadata": {},
   "outputs": [],
   "source": [
    "import pandas as pd\n",
    "import numpy as np"
   ]
  },
  {
   "cell_type": "code",
   "execution_count": 21,
   "id": "1b70255f",
   "metadata": {},
   "outputs": [],
   "source": []
  },
  {
   "cell_type": "code",
   "execution_count": 49,
   "id": "0073e81b",
   "metadata": {},
   "outputs": [
    {
     "data": {
      "text/html": [
       "<div>\n",
       "<style scoped>\n",
       "    .dataframe tbody tr th:only-of-type {\n",
       "        vertical-align: middle;\n",
       "    }\n",
       "\n",
       "    .dataframe tbody tr th {\n",
       "        vertical-align: top;\n",
       "    }\n",
       "\n",
       "    .dataframe thead th {\n",
       "        text-align: right;\n",
       "    }\n",
       "</style>\n",
       "<table border=\"1\" class=\"dataframe\">\n",
       "  <thead>\n",
       "    <tr style=\"text-align: right;\">\n",
       "      <th></th>\n",
       "      <th>Unnamed: 0</th>\n",
       "      <th>날짜</th>\n",
       "      <th>제목</th>\n",
       "      <th>요약</th>\n",
       "    </tr>\n",
       "  </thead>\n",
       "  <tbody>\n",
       "    <tr>\n",
       "      <th>0</th>\n",
       "      <td>0</td>\n",
       "      <td>3일 전</td>\n",
       "      <td>심상찮은 국제유가…\"서방의 러시아 제재가 변수\"</td>\n",
       "      <td>기사내용 요약산업부, '에너지·자원 수급 TF' 개최 국제유가 동향·석유수급 계획 ...</td>\n",
       "    </tr>\n",
       "    <tr>\n",
       "      <th>1</th>\n",
       "      <td>1</td>\n",
       "      <td>2일 전</td>\n",
       "      <td>\"러시아 우크라이나 침공시 유가 배럴당 120달러 도달 전망\"</td>\n",
       "      <td>러시아가 우크라이나를 침공하면 국제유가가 배럴당 120달러에 도달할 것이라는 전망이...</td>\n",
       "    </tr>\n",
       "    <tr>\n",
       "      <th>2</th>\n",
       "      <td>2</td>\n",
       "      <td>3일 전</td>\n",
       "      <td>정부, 고유가에 유류세 인하기간 연장 등 검토…석유수급계획 점검</td>\n",
       "      <td>박기영 산업부 제2차관은 회의에서 \"국제유가 상승세가 지속될 경우 4월까지 시행 예...</td>\n",
       "    </tr>\n",
       "  </tbody>\n",
       "</table>\n",
       "</div>"
      ],
      "text/plain": [
       "   Unnamed: 0    날짜                                   제목  \\\n",
       "0           0  3일 전           심상찮은 국제유가…\"서방의 러시아 제재가 변수\"   \n",
       "1           1  2일 전   \"러시아 우크라이나 침공시 유가 배럴당 120달러 도달 전망\"   \n",
       "2           2  3일 전  정부, 고유가에 유류세 인하기간 연장 등 검토…석유수급계획 점검   \n",
       "\n",
       "                                                  요약  \n",
       "0  기사내용 요약산업부, '에너지·자원 수급 TF' 개최 국제유가 동향·석유수급 계획 ...  \n",
       "1  러시아가 우크라이나를 침공하면 국제유가가 배럴당 120달러에 도달할 것이라는 전망이...  \n",
       "2  박기영 산업부 제2차관은 회의에서 \"국제유가 상승세가 지속될 경우 4월까지 시행 예...  "
      ]
     },
     "execution_count": 49,
     "metadata": {},
     "output_type": "execute_result"
    }
   ],
   "source": [
    "df = pd.read_csv('./oilnews_data/news_20220111_20220210.csv' )\n",
    "df.head(3)"
   ]
  },
  {
   "cell_type": "code",
   "execution_count": 50,
   "id": "a6cd72d0",
   "metadata": {},
   "outputs": [
    {
     "data": {
      "text/html": [
       "<div>\n",
       "<style scoped>\n",
       "    .dataframe tbody tr th:only-of-type {\n",
       "        vertical-align: middle;\n",
       "    }\n",
       "\n",
       "    .dataframe tbody tr th {\n",
       "        vertical-align: top;\n",
       "    }\n",
       "\n",
       "    .dataframe thead th {\n",
       "        text-align: right;\n",
       "    }\n",
       "</style>\n",
       "<table border=\"1\" class=\"dataframe\">\n",
       "  <thead>\n",
       "    <tr style=\"text-align: right;\">\n",
       "      <th></th>\n",
       "      <th>날짜</th>\n",
       "      <th>제목</th>\n",
       "      <th>요약</th>\n",
       "    </tr>\n",
       "  </thead>\n",
       "  <tbody>\n",
       "    <tr>\n",
       "      <th>0</th>\n",
       "      <td>3일 전</td>\n",
       "      <td>심상찮은 국제유가…\"서방의 러시아 제재가 변수\"</td>\n",
       "      <td>기사내용 요약산업부, '에너지·자원 수급 TF' 개최 국제유가 동향·석유수급 계획 ...</td>\n",
       "    </tr>\n",
       "    <tr>\n",
       "      <th>1</th>\n",
       "      <td>2일 전</td>\n",
       "      <td>\"러시아 우크라이나 침공시 유가 배럴당 120달러 도달 전망\"</td>\n",
       "      <td>러시아가 우크라이나를 침공하면 국제유가가 배럴당 120달러에 도달할 것이라는 전망이...</td>\n",
       "    </tr>\n",
       "    <tr>\n",
       "      <th>2</th>\n",
       "      <td>3일 전</td>\n",
       "      <td>정부, 고유가에 유류세 인하기간 연장 등 검토…석유수급계획 점검</td>\n",
       "      <td>박기영 산업부 제2차관은 회의에서 \"국제유가 상승세가 지속될 경우 4월까지 시행 예...</td>\n",
       "    </tr>\n",
       "  </tbody>\n",
       "</table>\n",
       "</div>"
      ],
      "text/plain": [
       "     날짜                                   제목  \\\n",
       "0  3일 전           심상찮은 국제유가…\"서방의 러시아 제재가 변수\"   \n",
       "1  2일 전   \"러시아 우크라이나 침공시 유가 배럴당 120달러 도달 전망\"   \n",
       "2  3일 전  정부, 고유가에 유류세 인하기간 연장 등 검토…석유수급계획 점검   \n",
       "\n",
       "                                                  요약  \n",
       "0  기사내용 요약산업부, '에너지·자원 수급 TF' 개최 국제유가 동향·석유수급 계획 ...  \n",
       "1  러시아가 우크라이나를 침공하면 국제유가가 배럴당 120달러에 도달할 것이라는 전망이...  \n",
       "2  박기영 산업부 제2차관은 회의에서 \"국제유가 상승세가 지속될 경우 4월까지 시행 예...  "
      ]
     },
     "execution_count": 50,
     "metadata": {},
     "output_type": "execute_result"
    }
   ],
   "source": [
    "df = pd.read_csv('./oilnews_data/news_20220111_20220210.csv',index_col= 0) \n",
    "df.head(3)"
   ]
  },
  {
   "cell_type": "code",
   "execution_count": 51,
   "id": "f18a0fb5",
   "metadata": {},
   "outputs": [
    {
     "name": "stdout",
     "output_type": "stream",
     "text": [
      "<class 'pandas.core.frame.DataFrame'>\n",
      "Int64Index: 4000 entries, 0 to 3999\n",
      "Data columns (total 3 columns):\n",
      " #   Column  Non-Null Count  Dtype \n",
      "---  ------  --------------  ----- \n",
      " 0   날짜      4000 non-null   object\n",
      " 1   제목      4000 non-null   object\n",
      " 2   요약      3998 non-null   object\n",
      "dtypes: object(3)\n",
      "memory usage: 125.0+ KB\n"
     ]
    }
   ],
   "source": [
    "df.info()"
   ]
  },
  {
   "cell_type": "code",
   "execution_count": 52,
   "id": "aa3fb654",
   "metadata": {},
   "outputs": [],
   "source": [
    "# 날짜 형식으로 바꿔주려 했지만 3일 전 안바뀜\n",
    "# apply strftime\n",
    "# pd.to_date\n",
    "# astype()\n",
    "\n"
   ]
  },
  {
   "cell_type": "code",
   "execution_count": 59,
   "id": "e14b1455",
   "metadata": {},
   "outputs": [
    {
     "data": {
      "text/plain": [
       "Int64Index([   0,    1,    2,    3,    4,    5,    6,    7,    8,    9,\n",
       "            ...\n",
       "            3165, 3244, 3313, 3344, 3357, 3401, 3674, 3691, 3858, 3919],\n",
       "           dtype='int64', length=1241)"
      ]
     },
     "execution_count": 59,
     "metadata": {},
     "output_type": "execute_result"
    }
   ],
   "source": [
    "# 3일 전 의 인덱스 추출하기\n",
    "# isin() 단어 아예 똑같을 때만 사용가능\n",
    "\n",
    "\n",
    "index = df[df['날짜'].str.contains('전')].index"
   ]
  },
  {
   "cell_type": "code",
   "execution_count": 87,
   "id": "34c41381",
   "metadata": {},
   "outputs": [
    {
     "data": {
      "text/plain": [
       "datetime.datetime"
      ]
     },
     "execution_count": 87,
     "metadata": {},
     "output_type": "execute_result"
    }
   ],
   "source": [
    "# 날짜 계산을 위해 마지막날을 날짜형식으로 만들어줌\n",
    "\n",
    "from datetime import datetime\n",
    "\n",
    "last_date = '2022.02.10'\n",
    "last_date = datetime.strptime(last_date, '%Y.%m.%d')\n",
    "last_date.day\n",
    "type(last_date)"
   ]
  },
  {
   "cell_type": "code",
   "execution_count": 79,
   "id": "7729efc1",
   "metadata": {},
   "outputs": [
    {
     "data": {
      "text/plain": [
       "3"
      ]
     },
     "execution_count": 79,
     "metadata": {},
     "output_type": "execute_result"
    }
   ],
   "source": [
    "int(df['날짜'][0])"
   ]
  },
  {
   "cell_type": "code",
   "execution_count": 89,
   "id": "e096c1fa",
   "metadata": {},
   "outputs": [],
   "source": [
    "from datetime import datetime\n",
    "\n",
    "last_date = '2022.02.10' # 문자열\n",
    "last_date = datetime.strptime(last_date, '%Y.%m.%d') # 날짜형\n",
    "\n",
    "\n",
    "for i in range(len(df['날짜'])):\n",
    "    if '전' in df['날짜'][i]:\n",
    "        \n",
    "        if int(df['날짜'][i])>= 10:  # 숫자형으로 바꿔주고 10일 전 보다 숫자클경우\n",
    "            print(df['날짜'][i])\n",
    "            last_date.month == 1     # 1월\n",
    "            last_date.day == 31- (int(df['날짜'][i]-10))\n",
    "            df['날짜'][i] = last_date\n",
    "            \n",
    "        else:\n",
    "            last_date.dat == 10 - (int(df['날짜'][i]-10))\n",
    "            df['날짜'][i]= last_date\n",
    "    else:\n",
    "        pass\n",
    "\n"
   ]
  },
  {
   "cell_type": "code",
   "execution_count": 62,
   "id": "0aa6aaba",
   "metadata": {},
   "outputs": [
    {
     "data": {
      "text/plain": [
       "'3'"
      ]
     },
     "execution_count": 62,
     "metadata": {},
     "output_type": "execute_result"
    }
   ],
   "source": [
    "df['날짜'][i].split(' ')[0].replace('일','')"
   ]
  },
  {
   "cell_type": "code",
   "execution_count": null,
   "id": "9e13b28b",
   "metadata": {},
   "outputs": [],
   "source": [
    "# "
   ]
  },
  {
   "cell_type": "code",
   "execution_count": 25,
   "id": "0b523b3c",
   "metadata": {},
   "outputs": [
    {
     "data": {
      "text/plain": [
       "'3일 전'"
      ]
     },
     "execution_count": 25,
     "metadata": {},
     "output_type": "execute_result"
    }
   ],
   "source": [
    "import re\n",
    "# match():문자열의 처음부터 정규식과 매치되는지 조사한다.\n",
    "data = df['날짜'][0]\n",
    "data\n"
   ]
  },
  {
   "cell_type": "code",
   "execution_count": null,
   "id": "d8300711",
   "metadata": {},
   "outputs": [],
   "source": [
    "p= re.compile(\"()\")\n",
    "date_re = re.sub(\"\",data)"
   ]
  },
  {
   "cell_type": "code",
   "execution_count": 26,
   "id": "58a4a756",
   "metadata": {},
   "outputs": [
    {
     "name": "stdout",
     "output_type": "stream",
     "text": [
      "\n",
      "park 800905-*******\n",
      "kim  700905-*******\n",
      "\n"
     ]
    }
   ],
   "source": [
    "import re \n",
    "\n",
    "data = \"\"\"\n",
    "park 800905-1049118\n",
    "kim  700905-1059119\n",
    "\"\"\"\n",
    "\n",
    "pat = re.compile(\"(\\d{6})[-]\\d{7}\")\n",
    "print(pat.sub(\"\\g<1>-*******\", data))"
   ]
  },
  {
   "cell_type": "code",
   "execution_count": null,
   "id": "bb49d98d",
   "metadata": {},
   "outputs": [],
   "source": [
    "df['날짜'].apply(lambda x : x)"
   ]
  }
 ],
 "metadata": {
  "kernelspec": {
   "display_name": "Python 3 (ipykernel)",
   "language": "python",
   "name": "python3"
  },
  "language_info": {
   "codemirror_mode": {
    "name": "ipython",
    "version": 3
   },
   "file_extension": ".py",
   "mimetype": "text/x-python",
   "name": "python",
   "nbconvert_exporter": "python",
   "pygments_lexer": "ipython3",
   "version": "3.9.7"
  },
  "varInspector": {
   "cols": {
    "lenName": 16,
    "lenType": 16,
    "lenVar": 40
   },
   "kernels_config": {
    "python": {
     "delete_cmd_postfix": "",
     "delete_cmd_prefix": "del ",
     "library": "var_list.py",
     "varRefreshCmd": "print(var_dic_list())"
    },
    "r": {
     "delete_cmd_postfix": ") ",
     "delete_cmd_prefix": "rm(",
     "library": "var_list.r",
     "varRefreshCmd": "cat(var_dic_list()) "
    }
   },
   "types_to_exclude": [
    "module",
    "function",
    "builtin_function_or_method",
    "instance",
    "_Feature"
   ],
   "window_display": false
  }
 },
 "nbformat": 4,
 "nbformat_minor": 5
}
