{
 "cells": [
  {
   "cell_type": "code",
   "execution_count": 1,
   "id": "75f82961",
   "metadata": {},
   "outputs": [],
   "source": [
    "from selenium.webdriver import Chrome\n",
    "import pandas as pd\n",
    "import numpy as np\n",
    "import requests\n",
    "from bs4 import BeautifulSoup\n",
    "import time\n",
    "\n",
    "import warnings\n",
    "warnings.filterwarnings(action='ignore')\n",
    "\n",
    "from dateutil.relativedelta import relativedelta\n",
    "import datetime as dt"
   ]
  },
  {
   "cell_type": "code",
   "execution_count": 3,
   "id": "155eaa61",
   "metadata": {},
   "outputs": [
    {
     "data": {
      "text/plain": [
       "['산유국들', '베네수엘라', '이라크', '트럼프', '나이지리아', '원유생산량']"
      ]
     },
     "execution_count": 3,
     "metadata": {},
     "output_type": "execute_result"
    }
   ],
   "source": [
    "keywords = '산유국들 베네수엘라 이라크 트럼프 나이지리아 원유생산량'.split()\n",
    "keywords"
   ]
  },
  {
   "cell_type": "code",
   "execution_count": 4,
   "id": "09b26043",
   "metadata": {},
   "outputs": [
    {
     "ename": "NameError",
     "evalue": "name 'keyword' is not defined",
     "output_type": "error",
     "traceback": [
      "\u001b[1;31m---------------------------------------------------------------------------\u001b[0m",
      "\u001b[1;31mNameError\u001b[0m                                 Traceback (most recent call last)",
      "\u001b[1;32m~\\AppData\\Local\\Temp/ipykernel_14292/1357953476.py\u001b[0m in \u001b[0;36m<module>\u001b[1;34m\u001b[0m\n\u001b[0;32m      1\u001b[0m \u001b[1;32mimport\u001b[0m \u001b[0mos\u001b[0m\u001b[1;33m\u001b[0m\u001b[1;33m\u001b[0m\u001b[0m\n\u001b[1;32m----> 2\u001b[1;33m \u001b[0mos\u001b[0m\u001b[1;33m.\u001b[0m\u001b[0mlistdir\u001b[0m\u001b[1;33m(\u001b[0m\u001b[1;34m'./data/news/Korean/'\u001b[0m\u001b[1;33m+\u001b[0m\u001b[0mkeyword\u001b[0m\u001b[1;33m)\u001b[0m\u001b[1;33m\u001b[0m\u001b[1;33m\u001b[0m\u001b[0m\n\u001b[0m",
      "\u001b[1;31mNameError\u001b[0m: name 'keyword' is not defined"
     ]
    }
   ],
   "source": [
    "import os\n",
    "os.listdir('./data/news/Korean/'+keyword)"
   ]
  },
  {
   "cell_type": "code",
   "execution_count": null,
   "id": "4ec650ff",
   "metadata": {},
   "outputs": [],
   "source": [
    "homepath = './data/news/Korean/'\n",
    "for keyword in keywords:\n",
    "    filepath = homepath+keyword\n",
    "    try:\n",
    "        os.listdir(filepath)\n",
    "    except:\n",
    "        os.mkdir(filepath)\n",
    "        \n",
    "    start_date = dt.datetime(2017,2,10)\n",
    "    while start_date < dt.datetime(2022,2,10):\n",
    "        date_lst = []\n",
    "        title_lst = []\n",
    "        summary_lst = []\n",
    "        \n",
    "        sdname = start_date.strftime('%Y%m%d')\n",
    "        sdtxt = start_date.strftime('%Y.%m.%d')\n",
    "        start_date += relativedelta(months=1)\n",
    "        edname = start_date.strftime('%Y%m%d')\n",
    "        edtxt = start_date.strftime('%Y.%m.%d')\n",
    "        \n",
    "        for page in range(1,401):\n",
    "            # 전체\n",
    "            # url = f'https://search.naver.com/search.naver?where=news&sm=tab_pge&query={keyword}&sort=2&photo=0&field=0&pd=3&ds={sdtxt}&de={edtxt}&mynews=0&office_type=0&office_section_code=0&news_office_checked=&nso=so:r,p:from{sdname}to{edname},a:all&start=41&page={page}'\n",
    "            # 지면기사\n",
    "            url = f'https://search.naver.com/search.naver?where=news&query={keyword}&sm=tab_opt&sort=2&photo=3&field=0&pd=3&ds={sdtxt}&de={edtxt}&docid=&related=0&mynews=0&office_type=0&office_section_code=0&news_office_checked=&nso=so%3Ar%2Cp%3Afrom{sdname}to{edname}&is_sug_officeid=0&page={page}'\n",
    "            soup = BeautifulSoup(requests.get(url).text,'html.parser')\n",
    "            time.sleep(0.1)\n",
    "            for article in soup.select('#main_pack > section > div > div.group_news > ul.list_news > li'):\n",
    "                title = article.select('div > div.news_area > a')[0].text\n",
    "                if len(article.select('div > div.news_area > div.news_info > div.info_group > span')) == 1:\n",
    "                    date = article.select('div > div.news_area > div.news_info > div.info_group > span')[0].text\n",
    "                else:\n",
    "                    date = article.select('div > div.news_area > div.news_info > div.info_group > span')[1].text\n",
    "                try:\n",
    "                    summary = article.select('div > div.news_area > div.news_dsc > div.dsc_wrap > a')[0].text\n",
    "                except:\n",
    "                    summary = np.nan\n",
    "                date_lst.append(date)\n",
    "                title_lst.append(title)\n",
    "                summary_lst.append(summary)\n",
    "        \n",
    "        pd.DataFrame({'date':date_lst, 'title':title_lst, 'summary':summary_lst}).to_csv(filepath+f'/news_{keyword}_{sdname}_{edname}.csv')"
   ]
  }
 ],
 "metadata": {
  "kernelspec": {
   "display_name": "Python 3 (ipykernel)",
   "language": "python",
   "name": "python3"
  },
  "language_info": {
   "codemirror_mode": {
    "name": "ipython",
    "version": 3
   },
   "file_extension": ".py",
   "mimetype": "text/x-python",
   "name": "python",
   "nbconvert_exporter": "python",
   "pygments_lexer": "ipython3",
   "version": "3.9.7"
  },
  "varInspector": {
   "cols": {
    "lenName": 16,
    "lenType": 16,
    "lenVar": 40
   },
   "kernels_config": {
    "python": {
     "delete_cmd_postfix": "",
     "delete_cmd_prefix": "del ",
     "library": "var_list.py",
     "varRefreshCmd": "print(var_dic_list())"
    },
    "r": {
     "delete_cmd_postfix": ") ",
     "delete_cmd_prefix": "rm(",
     "library": "var_list.r",
     "varRefreshCmd": "cat(var_dic_list()) "
    }
   },
   "types_to_exclude": [
    "module",
    "function",
    "builtin_function_or_method",
    "instance",
    "_Feature"
   ],
   "window_display": false
  }
 },
 "nbformat": 4,
 "nbformat_minor": 5
}
