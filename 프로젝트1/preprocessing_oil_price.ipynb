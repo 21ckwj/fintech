{
 "cells": [
  {
   "cell_type": "code",
   "execution_count": 6,
   "id": "b63b3930",
   "metadata": {
    "ExecuteTime": {
     "end_time": "2022-02-10T02:11:50.117947Z",
     "start_time": "2022-02-10T02:11:48.565662Z"
    }
   },
   "outputs": [],
   "source": [
    "from bs4 import BeautifulSoup\n",
    "from selenium import webdriver\n",
    "import time\n",
    "from selenium.webdriver.common.keys import Keys\n",
    "import warnings\n",
    "import requests\n",
    "import re\n",
    "\n",
    "import pandas as pd\n",
    "import numpy as np\n",
    "import seaborn as sns\n",
    "import matplotlib.pyplot as plt\n",
    "warnings.filterwarnings(action='ignore')"
   ]
  },
  {
   "cell_type": "code",
   "execution_count": 7,
   "id": "54a852ef",
   "metadata": {
    "ExecuteTime": {
     "end_time": "2022-02-10T02:11:50.368454Z",
     "start_time": "2022-02-10T02:11:50.368454Z"
    }
   },
   "outputs": [],
   "source": [
    "#  matplotlib - 한글깨짐 설정이 필요\n",
    "\n",
    "import matplotlib as mpl\n",
    "import matplotlib.font_manager as fm\n",
    "\n",
    "mpl.rcParams['axes.unicode_minus'] = False\n",
    "\n",
    "path = 'C:/Windows/Fonts/malgun.ttf'\n",
    "font_name = fm.FontProperties(fname=path, size=50).get_name()\n",
    "plt.rc('font', family=font_name)\n"
   ]
  },
  {
   "cell_type": "code",
   "execution_count": 8,
   "id": "f71cd070",
   "metadata": {
    "ExecuteTime": {
     "end_time": "2022-02-10T02:11:51.424225Z",
     "start_time": "2022-02-10T02:11:51.394318Z"
    }
   },
   "outputs": [
    {
     "data": {
      "text/plain": [
       "array(['WTI원유선물', '두바이유선물', '브렌트원유선물'], dtype=object)"
      ]
     },
     "execution_count": 8,
     "metadata": {},
     "output_type": "execute_result"
    }
   ],
   "source": [
    "df = pd.read_csv('daum_oil.csv')\n",
    "df['company'].unique()"
   ]
  },
  {
   "cell_type": "code",
   "execution_count": 9,
   "id": "274d443f",
   "metadata": {
    "ExecuteTime": {
     "end_time": "2022-02-10T02:11:54.806597Z",
     "start_time": "2022-02-10T02:11:54.786436Z"
    }
   },
   "outputs": [],
   "source": [
    "wtidf = df[df['company'] == 'WTI원유선물']\n",
    "wtidf.columns = 'WTI_'+ wtidf.columns"
   ]
  },
  {
   "cell_type": "code",
   "execution_count": 10,
   "id": "0f4cd985",
   "metadata": {
    "ExecuteTime": {
     "end_time": "2022-02-10T02:11:55.364666Z",
     "start_time": "2022-02-10T02:11:55.345716Z"
    }
   },
   "outputs": [],
   "source": [
    "wtidf.drop('WTI_company', axis=1, inplace = True)"
   ]
  },
  {
   "cell_type": "code",
   "execution_count": 11,
   "id": "6c1dd3bc",
   "metadata": {
    "ExecuteTime": {
     "end_time": "2022-02-10T02:11:56.579143Z",
     "start_time": "2022-02-10T02:11:56.570181Z"
    }
   },
   "outputs": [],
   "source": [
    "wtidf.rename({'WTI_date':'date'},axis=1,inplace=True)"
   ]
  },
  {
   "cell_type": "code",
   "execution_count": 12,
   "id": "8c19a31a",
   "metadata": {
    "ExecuteTime": {
     "end_time": "2022-02-10T02:11:56.967428Z",
     "start_time": "2022-02-10T02:11:56.946195Z"
    }
   },
   "outputs": [],
   "source": [
    "brentdf = df[df['company'] == '브렌트원유선물']\n",
    "brentdf.columns = 'brent_' + brentdf.columns"
   ]
  },
  {
   "cell_type": "code",
   "execution_count": 13,
   "id": "07f9c416",
   "metadata": {
    "ExecuteTime": {
     "end_time": "2022-02-10T02:12:30.723965Z",
     "start_time": "2022-02-10T02:12:30.698034Z"
    }
   },
   "outputs": [],
   "source": [
    "brentdf.drop('brent_company', axis=1, inplace = True)"
   ]
  },
  {
   "cell_type": "code",
   "execution_count": 14,
   "id": "f8161f3a",
   "metadata": {
    "ExecuteTime": {
     "end_time": "2022-02-10T02:11:57.730679Z",
     "start_time": "2022-02-10T02:11:57.721707Z"
    }
   },
   "outputs": [],
   "source": [
    "brentdf.rename({'brent_date':'date'},axis=1,inplace=True)"
   ]
  },
  {
   "cell_type": "code",
   "execution_count": 15,
   "id": "8f4ad1be",
   "metadata": {
    "ExecuteTime": {
     "end_time": "2022-02-10T02:12:03.069045Z",
     "start_time": "2022-02-10T02:12:03.049255Z"
    }
   },
   "outputs": [],
   "source": [
    "dubaidf = df[df['company'] == '두바이유선물']\n",
    "dubaidf.columns = 'dubai_' + dubaidf.columns\n",
    "dubaidf.drop('dubai_company',axis=1,inplace=True)"
   ]
  },
  {
   "cell_type": "code",
   "execution_count": 16,
   "id": "19bb54bc",
   "metadata": {
    "ExecuteTime": {
     "end_time": "2022-02-10T02:12:03.552027Z",
     "start_time": "2022-02-10T02:12:03.547040Z"
    }
   },
   "outputs": [],
   "source": [
    "dubaidf.rename({'dubai_date':'date'},axis=1,inplace=True)"
   ]
  },
  {
   "cell_type": "code",
   "execution_count": 17,
   "id": "2362aa62",
   "metadata": {
    "ExecuteTime": {
     "end_time": "2022-02-10T02:12:30.723965Z",
     "start_time": "2022-02-10T02:12:30.698034Z"
    }
   },
   "outputs": [
    {
     "data": {
      "text/html": [
       "<div>\n",
       "<style scoped>\n",
       "    .dataframe tbody tr th:only-of-type {\n",
       "        vertical-align: middle;\n",
       "    }\n",
       "\n",
       "    .dataframe tbody tr th {\n",
       "        vertical-align: top;\n",
       "    }\n",
       "\n",
       "    .dataframe thead th {\n",
       "        text-align: right;\n",
       "    }\n",
       "</style>\n",
       "<table border=\"1\" class=\"dataframe\">\n",
       "  <thead>\n",
       "    <tr style=\"text-align: right;\">\n",
       "      <th></th>\n",
       "      <th>date</th>\n",
       "      <th>WTI_종가</th>\n",
       "      <th>WTI_전일비</th>\n",
       "      <th>WTI_등락률</th>\n",
       "    </tr>\n",
       "  </thead>\n",
       "  <tbody>\n",
       "    <tr>\n",
       "      <th>0</th>\n",
       "      <td>2022.02.09</td>\n",
       "      <td>89.66</td>\n",
       "      <td>0.30</td>\n",
       "      <td>0.34</td>\n",
       "    </tr>\n",
       "    <tr>\n",
       "      <th>1</th>\n",
       "      <td>2022.02.08</td>\n",
       "      <td>89.36</td>\n",
       "      <td>-1.96</td>\n",
       "      <td>-2.15</td>\n",
       "    </tr>\n",
       "    <tr>\n",
       "      <th>2</th>\n",
       "      <td>2022.02.07</td>\n",
       "      <td>91.32</td>\n",
       "      <td>-0.99</td>\n",
       "      <td>-1.07</td>\n",
       "    </tr>\n",
       "    <tr>\n",
       "      <th>3</th>\n",
       "      <td>2022.02.04</td>\n",
       "      <td>92.31</td>\n",
       "      <td>2.04</td>\n",
       "      <td>2.26</td>\n",
       "    </tr>\n",
       "    <tr>\n",
       "      <th>4</th>\n",
       "      <td>2022.02.03</td>\n",
       "      <td>90.27</td>\n",
       "      <td>2.01</td>\n",
       "      <td>2.28</td>\n",
       "    </tr>\n",
       "    <tr>\n",
       "      <th>...</th>\n",
       "      <td>...</td>\n",
       "      <td>...</td>\n",
       "      <td>...</td>\n",
       "      <td>...</td>\n",
       "    </tr>\n",
       "    <tr>\n",
       "      <th>8067</th>\n",
       "      <td>1990.01.08</td>\n",
       "      <td>21.62</td>\n",
       "      <td>-1.46</td>\n",
       "      <td>-6.33</td>\n",
       "    </tr>\n",
       "    <tr>\n",
       "      <th>8068</th>\n",
       "      <td>1990.01.05</td>\n",
       "      <td>23.08</td>\n",
       "      <td>-0.33</td>\n",
       "      <td>-1.41</td>\n",
       "    </tr>\n",
       "    <tr>\n",
       "      <th>8069</th>\n",
       "      <td>1990.01.04</td>\n",
       "      <td>23.41</td>\n",
       "      <td>-0.27</td>\n",
       "      <td>-1.14</td>\n",
       "    </tr>\n",
       "    <tr>\n",
       "      <th>8070</th>\n",
       "      <td>1990.01.03</td>\n",
       "      <td>23.68</td>\n",
       "      <td>0.79</td>\n",
       "      <td>3.45</td>\n",
       "    </tr>\n",
       "    <tr>\n",
       "      <th>8071</th>\n",
       "      <td>1990.01.02</td>\n",
       "      <td>22.89</td>\n",
       "      <td>-91.04</td>\n",
       "      <td>-79.91</td>\n",
       "    </tr>\n",
       "  </tbody>\n",
       "</table>\n",
       "<p>8072 rows × 4 columns</p>\n",
       "</div>"
      ],
      "text/plain": [
       "            date  WTI_종가  WTI_전일비  WTI_등락률\n",
       "0     2022.02.09   89.66     0.30     0.34\n",
       "1     2022.02.08   89.36    -1.96    -2.15\n",
       "2     2022.02.07   91.32    -0.99    -1.07\n",
       "3     2022.02.04   92.31     2.04     2.26\n",
       "4     2022.02.03   90.27     2.01     2.28\n",
       "...          ...     ...      ...      ...\n",
       "8067  1990.01.08   21.62    -1.46    -6.33\n",
       "8068  1990.01.05   23.08    -0.33    -1.41\n",
       "8069  1990.01.04   23.41    -0.27    -1.14\n",
       "8070  1990.01.03   23.68     0.79     3.45\n",
       "8071  1990.01.02   22.89   -91.04   -79.91\n",
       "\n",
       "[8072 rows x 4 columns]"
      ]
     },
     "execution_count": 17,
     "metadata": {},
     "output_type": "execute_result"
    }
   ],
   "source": [
    "wtidf"
   ]
  },
  {
   "cell_type": "code",
   "execution_count": 18,
   "id": "09f1bc76",
   "metadata": {
    "ExecuteTime": {
     "end_time": "2022-02-10T02:12:34.650307Z",
     "start_time": "2022-02-10T02:12:34.610290Z"
    }
   },
   "outputs": [
    {
     "data": {
      "text/html": [
       "<div>\n",
       "<style scoped>\n",
       "    .dataframe tbody tr th:only-of-type {\n",
       "        vertical-align: middle;\n",
       "    }\n",
       "\n",
       "    .dataframe tbody tr th {\n",
       "        vertical-align: top;\n",
       "    }\n",
       "\n",
       "    .dataframe thead th {\n",
       "        text-align: right;\n",
       "    }\n",
       "</style>\n",
       "<table border=\"1\" class=\"dataframe\">\n",
       "  <thead>\n",
       "    <tr style=\"text-align: right;\">\n",
       "      <th></th>\n",
       "      <th>date</th>\n",
       "      <th>WTI_종가</th>\n",
       "      <th>WTI_전일비</th>\n",
       "      <th>WTI_등락률</th>\n",
       "      <th>brent_종가</th>\n",
       "      <th>brent_전일비</th>\n",
       "      <th>brent_등락률</th>\n",
       "      <th>dubai_종가</th>\n",
       "      <th>dubai_전일비</th>\n",
       "      <th>dubai_등락률</th>\n",
       "    </tr>\n",
       "  </thead>\n",
       "  <tbody>\n",
       "    <tr>\n",
       "      <th>0</th>\n",
       "      <td>2022.02.09</td>\n",
       "      <td>89.66</td>\n",
       "      <td>0.30</td>\n",
       "      <td>0.34</td>\n",
       "      <td>91.55</td>\n",
       "      <td>0.77</td>\n",
       "      <td>0.85</td>\n",
       "      <td>89.883</td>\n",
       "      <td>0.601</td>\n",
       "      <td>0.67</td>\n",
       "    </tr>\n",
       "    <tr>\n",
       "      <th>1</th>\n",
       "      <td>2022.02.08</td>\n",
       "      <td>89.36</td>\n",
       "      <td>-1.96</td>\n",
       "      <td>-2.15</td>\n",
       "      <td>90.78</td>\n",
       "      <td>-1.91</td>\n",
       "      <td>-2.06</td>\n",
       "      <td>89.282</td>\n",
       "      <td>-1.475</td>\n",
       "      <td>-1.63</td>\n",
       "    </tr>\n",
       "    <tr>\n",
       "      <th>2</th>\n",
       "      <td>2022.02.07</td>\n",
       "      <td>91.32</td>\n",
       "      <td>-0.99</td>\n",
       "      <td>-1.07</td>\n",
       "      <td>92.69</td>\n",
       "      <td>-0.58</td>\n",
       "      <td>-0.62</td>\n",
       "      <td>90.757</td>\n",
       "      <td>-0.299</td>\n",
       "      <td>-0.33</td>\n",
       "    </tr>\n",
       "    <tr>\n",
       "      <th>3</th>\n",
       "      <td>2022.02.04</td>\n",
       "      <td>92.31</td>\n",
       "      <td>2.04</td>\n",
       "      <td>2.26</td>\n",
       "      <td>93.27</td>\n",
       "      <td>2.16</td>\n",
       "      <td>2.37</td>\n",
       "      <td>91.056</td>\n",
       "      <td>1.900</td>\n",
       "      <td>2.13</td>\n",
       "    </tr>\n",
       "    <tr>\n",
       "      <th>4</th>\n",
       "      <td>2022.02.03</td>\n",
       "      <td>90.27</td>\n",
       "      <td>2.01</td>\n",
       "      <td>2.28</td>\n",
       "      <td>91.11</td>\n",
       "      <td>1.64</td>\n",
       "      <td>1.83</td>\n",
       "      <td>89.156</td>\n",
       "      <td>1.391</td>\n",
       "      <td>1.58</td>\n",
       "    </tr>\n",
       "    <tr>\n",
       "      <th>...</th>\n",
       "      <td>...</td>\n",
       "      <td>...</td>\n",
       "      <td>...</td>\n",
       "      <td>...</td>\n",
       "      <td>...</td>\n",
       "      <td>...</td>\n",
       "      <td>...</td>\n",
       "      <td>...</td>\n",
       "      <td>...</td>\n",
       "      <td>...</td>\n",
       "    </tr>\n",
       "    <tr>\n",
       "      <th>8274</th>\n",
       "      <td>1990.12.24</td>\n",
       "      <td>NaN</td>\n",
       "      <td>NaN</td>\n",
       "      <td>NaN</td>\n",
       "      <td>26.77</td>\n",
       "      <td>0.99</td>\n",
       "      <td>3.84</td>\n",
       "      <td>NaN</td>\n",
       "      <td>NaN</td>\n",
       "      <td>NaN</td>\n",
       "    </tr>\n",
       "    <tr>\n",
       "      <th>8275</th>\n",
       "      <td>1990.11.22</td>\n",
       "      <td>NaN</td>\n",
       "      <td>NaN</td>\n",
       "      <td>NaN</td>\n",
       "      <td>29.99</td>\n",
       "      <td>1.05</td>\n",
       "      <td>3.63</td>\n",
       "      <td>NaN</td>\n",
       "      <td>NaN</td>\n",
       "      <td>NaN</td>\n",
       "    </tr>\n",
       "    <tr>\n",
       "      <th>8276</th>\n",
       "      <td>1990.09.03</td>\n",
       "      <td>NaN</td>\n",
       "      <td>NaN</td>\n",
       "      <td>NaN</td>\n",
       "      <td>28.55</td>\n",
       "      <td>1.80</td>\n",
       "      <td>6.73</td>\n",
       "      <td>NaN</td>\n",
       "      <td>NaN</td>\n",
       "      <td>NaN</td>\n",
       "    </tr>\n",
       "    <tr>\n",
       "      <th>8277</th>\n",
       "      <td>1990.07.04</td>\n",
       "      <td>NaN</td>\n",
       "      <td>NaN</td>\n",
       "      <td>NaN</td>\n",
       "      <td>15.98</td>\n",
       "      <td>0.01</td>\n",
       "      <td>0.06</td>\n",
       "      <td>NaN</td>\n",
       "      <td>NaN</td>\n",
       "      <td>NaN</td>\n",
       "    </tr>\n",
       "    <tr>\n",
       "      <th>8278</th>\n",
       "      <td>1990.02.19</td>\n",
       "      <td>NaN</td>\n",
       "      <td>NaN</td>\n",
       "      <td>NaN</td>\n",
       "      <td>19.58</td>\n",
       "      <td>-0.10</td>\n",
       "      <td>-0.51</td>\n",
       "      <td>NaN</td>\n",
       "      <td>NaN</td>\n",
       "      <td>NaN</td>\n",
       "    </tr>\n",
       "  </tbody>\n",
       "</table>\n",
       "<p>8279 rows × 10 columns</p>\n",
       "</div>"
      ],
      "text/plain": [
       "            date  WTI_종가  WTI_전일비  WTI_등락률  brent_종가  brent_전일비  brent_등락률  \\\n",
       "0     2022.02.09   89.66     0.30     0.34     91.55       0.77       0.85   \n",
       "1     2022.02.08   89.36    -1.96    -2.15     90.78      -1.91      -2.06   \n",
       "2     2022.02.07   91.32    -0.99    -1.07     92.69      -0.58      -0.62   \n",
       "3     2022.02.04   92.31     2.04     2.26     93.27       2.16       2.37   \n",
       "4     2022.02.03   90.27     2.01     2.28     91.11       1.64       1.83   \n",
       "...          ...     ...      ...      ...       ...        ...        ...   \n",
       "8274  1990.12.24     NaN      NaN      NaN     26.77       0.99       3.84   \n",
       "8275  1990.11.22     NaN      NaN      NaN     29.99       1.05       3.63   \n",
       "8276  1990.09.03     NaN      NaN      NaN     28.55       1.80       6.73   \n",
       "8277  1990.07.04     NaN      NaN      NaN     15.98       0.01       0.06   \n",
       "8278  1990.02.19     NaN      NaN      NaN     19.58      -0.10      -0.51   \n",
       "\n",
       "      dubai_종가  dubai_전일비  dubai_등락률  \n",
       "0       89.883      0.601       0.67  \n",
       "1       89.282     -1.475      -1.63  \n",
       "2       90.757     -0.299      -0.33  \n",
       "3       91.056      1.900       2.13  \n",
       "4       89.156      1.391       1.58  \n",
       "...        ...        ...        ...  \n",
       "8274       NaN        NaN        NaN  \n",
       "8275       NaN        NaN        NaN  \n",
       "8276       NaN        NaN        NaN  \n",
       "8277       NaN        NaN        NaN  \n",
       "8278       NaN        NaN        NaN  \n",
       "\n",
       "[8279 rows x 10 columns]"
      ]
     },
     "execution_count": 18,
     "metadata": {},
     "output_type": "execute_result"
    }
   ],
   "source": [
    "mdf = pd.merge(wtidf, brentdf, how='outer',on = 'date')\n",
    "mdf = pd.merge(mdf, dubaidf, how = 'outer', on = 'date')\n",
    "mdf"
   ]
  },
  {
   "cell_type": "code",
   "execution_count": 19,
   "id": "92cef16f",
   "metadata": {
    "ExecuteTime": {
     "end_time": "2022-02-10T02:12:48.013372Z",
     "start_time": "2022-02-10T02:12:47.994005Z"
    }
   },
   "outputs": [],
   "source": [
    "mdf = mdf.sort_values('date',ascending=False)\n",
    "mdf.index = mdf['date']"
   ]
  },
  {
   "cell_type": "code",
   "execution_count": 20,
   "id": "bd46a809",
   "metadata": {
    "ExecuteTime": {
     "end_time": "2022-02-10T01:10:55.009256Z",
     "start_time": "2022-02-10T01:10:54.985223Z"
    }
   },
   "outputs": [
    {
     "data": {
      "text/html": [
       "<div>\n",
       "<style scoped>\n",
       "    .dataframe tbody tr th:only-of-type {\n",
       "        vertical-align: middle;\n",
       "    }\n",
       "\n",
       "    .dataframe tbody tr th {\n",
       "        vertical-align: top;\n",
       "    }\n",
       "\n",
       "    .dataframe thead th {\n",
       "        text-align: right;\n",
       "    }\n",
       "</style>\n",
       "<table border=\"1\" class=\"dataframe\">\n",
       "  <thead>\n",
       "    <tr style=\"text-align: right;\">\n",
       "      <th></th>\n",
       "      <th>WTI_종가</th>\n",
       "      <th>WTI_전일비</th>\n",
       "      <th>WTI_등락률</th>\n",
       "      <th>brent_종가</th>\n",
       "      <th>brent_전일비</th>\n",
       "      <th>brent_등락률</th>\n",
       "      <th>dubai_종가</th>\n",
       "      <th>dubai_전일비</th>\n",
       "      <th>dubai_등락률</th>\n",
       "    </tr>\n",
       "    <tr>\n",
       "      <th>date</th>\n",
       "      <th></th>\n",
       "      <th></th>\n",
       "      <th></th>\n",
       "      <th></th>\n",
       "      <th></th>\n",
       "      <th></th>\n",
       "      <th></th>\n",
       "      <th></th>\n",
       "      <th></th>\n",
       "    </tr>\n",
       "  </thead>\n",
       "  <tbody>\n",
       "    <tr>\n",
       "      <th>2022.02.09</th>\n",
       "      <td>89.66</td>\n",
       "      <td>0.30</td>\n",
       "      <td>0.34</td>\n",
       "      <td>91.55</td>\n",
       "      <td>0.77</td>\n",
       "      <td>0.85</td>\n",
       "      <td>89.883</td>\n",
       "      <td>0.601</td>\n",
       "      <td>0.67</td>\n",
       "    </tr>\n",
       "    <tr>\n",
       "      <th>2022.02.08</th>\n",
       "      <td>89.36</td>\n",
       "      <td>-1.96</td>\n",
       "      <td>-2.15</td>\n",
       "      <td>90.78</td>\n",
       "      <td>-1.91</td>\n",
       "      <td>-2.06</td>\n",
       "      <td>89.282</td>\n",
       "      <td>-1.475</td>\n",
       "      <td>-1.63</td>\n",
       "    </tr>\n",
       "    <tr>\n",
       "      <th>2022.02.07</th>\n",
       "      <td>91.32</td>\n",
       "      <td>-0.99</td>\n",
       "      <td>-1.07</td>\n",
       "      <td>92.69</td>\n",
       "      <td>-0.58</td>\n",
       "      <td>-0.62</td>\n",
       "      <td>90.757</td>\n",
       "      <td>-0.299</td>\n",
       "      <td>-0.33</td>\n",
       "    </tr>\n",
       "    <tr>\n",
       "      <th>2022.02.04</th>\n",
       "      <td>92.31</td>\n",
       "      <td>2.04</td>\n",
       "      <td>2.26</td>\n",
       "      <td>93.27</td>\n",
       "      <td>2.16</td>\n",
       "      <td>2.37</td>\n",
       "      <td>91.056</td>\n",
       "      <td>1.900</td>\n",
       "      <td>2.13</td>\n",
       "    </tr>\n",
       "    <tr>\n",
       "      <th>2022.02.03</th>\n",
       "      <td>90.27</td>\n",
       "      <td>2.01</td>\n",
       "      <td>2.28</td>\n",
       "      <td>91.11</td>\n",
       "      <td>1.64</td>\n",
       "      <td>1.83</td>\n",
       "      <td>89.156</td>\n",
       "      <td>1.391</td>\n",
       "      <td>1.58</td>\n",
       "    </tr>\n",
       "    <tr>\n",
       "      <th>...</th>\n",
       "      <td>...</td>\n",
       "      <td>...</td>\n",
       "      <td>...</td>\n",
       "      <td>...</td>\n",
       "      <td>...</td>\n",
       "      <td>...</td>\n",
       "      <td>...</td>\n",
       "      <td>...</td>\n",
       "      <td>...</td>\n",
       "    </tr>\n",
       "    <tr>\n",
       "      <th>1990.01.08</th>\n",
       "      <td>21.62</td>\n",
       "      <td>-1.46</td>\n",
       "      <td>-6.33</td>\n",
       "      <td>20.52</td>\n",
       "      <td>-1.48</td>\n",
       "      <td>-6.73</td>\n",
       "      <td>NaN</td>\n",
       "      <td>NaN</td>\n",
       "      <td>NaN</td>\n",
       "    </tr>\n",
       "    <tr>\n",
       "      <th>1990.01.05</th>\n",
       "      <td>23.08</td>\n",
       "      <td>-0.33</td>\n",
       "      <td>-1.41</td>\n",
       "      <td>22.00</td>\n",
       "      <td>0.49</td>\n",
       "      <td>2.28</td>\n",
       "      <td>NaN</td>\n",
       "      <td>NaN</td>\n",
       "      <td>NaN</td>\n",
       "    </tr>\n",
       "    <tr>\n",
       "      <th>1990.01.04</th>\n",
       "      <td>23.41</td>\n",
       "      <td>-0.27</td>\n",
       "      <td>-1.14</td>\n",
       "      <td>21.51</td>\n",
       "      <td>-0.18</td>\n",
       "      <td>-0.83</td>\n",
       "      <td>NaN</td>\n",
       "      <td>NaN</td>\n",
       "      <td>NaN</td>\n",
       "    </tr>\n",
       "    <tr>\n",
       "      <th>1990.01.03</th>\n",
       "      <td>23.68</td>\n",
       "      <td>0.79</td>\n",
       "      <td>3.45</td>\n",
       "      <td>21.69</td>\n",
       "      <td>1.18</td>\n",
       "      <td>5.75</td>\n",
       "      <td>NaN</td>\n",
       "      <td>NaN</td>\n",
       "      <td>NaN</td>\n",
       "    </tr>\n",
       "    <tr>\n",
       "      <th>1990.01.02</th>\n",
       "      <td>22.89</td>\n",
       "      <td>-91.04</td>\n",
       "      <td>-79.91</td>\n",
       "      <td>20.51</td>\n",
       "      <td>19.43</td>\n",
       "      <td>1799.07</td>\n",
       "      <td>NaN</td>\n",
       "      <td>NaN</td>\n",
       "      <td>NaN</td>\n",
       "    </tr>\n",
       "  </tbody>\n",
       "</table>\n",
       "<p>8279 rows × 9 columns</p>\n",
       "</div>"
      ],
      "text/plain": [
       "            WTI_종가  WTI_전일비  WTI_등락률  brent_종가  brent_전일비  brent_등락률  \\\n",
       "date                                                                   \n",
       "2022.02.09   89.66     0.30     0.34     91.55       0.77       0.85   \n",
       "2022.02.08   89.36    -1.96    -2.15     90.78      -1.91      -2.06   \n",
       "2022.02.07   91.32    -0.99    -1.07     92.69      -0.58      -0.62   \n",
       "2022.02.04   92.31     2.04     2.26     93.27       2.16       2.37   \n",
       "2022.02.03   90.27     2.01     2.28     91.11       1.64       1.83   \n",
       "...            ...      ...      ...       ...        ...        ...   \n",
       "1990.01.08   21.62    -1.46    -6.33     20.52      -1.48      -6.73   \n",
       "1990.01.05   23.08    -0.33    -1.41     22.00       0.49       2.28   \n",
       "1990.01.04   23.41    -0.27    -1.14     21.51      -0.18      -0.83   \n",
       "1990.01.03   23.68     0.79     3.45     21.69       1.18       5.75   \n",
       "1990.01.02   22.89   -91.04   -79.91     20.51      19.43    1799.07   \n",
       "\n",
       "            dubai_종가  dubai_전일비  dubai_등락률  \n",
       "date                                        \n",
       "2022.02.09    89.883      0.601       0.67  \n",
       "2022.02.08    89.282     -1.475      -1.63  \n",
       "2022.02.07    90.757     -0.299      -0.33  \n",
       "2022.02.04    91.056      1.900       2.13  \n",
       "2022.02.03    89.156      1.391       1.58  \n",
       "...              ...        ...        ...  \n",
       "1990.01.08       NaN        NaN        NaN  \n",
       "1990.01.05       NaN        NaN        NaN  \n",
       "1990.01.04       NaN        NaN        NaN  \n",
       "1990.01.03       NaN        NaN        NaN  \n",
       "1990.01.02       NaN        NaN        NaN  \n",
       "\n",
       "[8279 rows x 9 columns]"
      ]
     },
     "execution_count": 20,
     "metadata": {},
     "output_type": "execute_result"
    }
   ],
   "source": [
    "mdf.drop('date',axis=1,inplace=True)\n",
    "mdf"
   ]
  },
  {
   "cell_type": "code",
   "execution_count": 21,
   "id": "95387ce1",
   "metadata": {
    "ExecuteTime": {
     "end_time": "2022-02-10T02:13:15.475444Z",
     "start_time": "2022-02-10T02:13:15.330648Z"
    }
   },
   "outputs": [
    {
     "data": {
      "text/plain": [
       "<AxesSubplot:xlabel='date'>"
      ]
     },
     "execution_count": 21,
     "metadata": {},
     "output_type": "execute_result"
    },
    {
     "data": {
      "text/plain": [
       "<Figure size 1080x216 with 0 Axes>"
      ]
     },
     "metadata": {},
     "output_type": "display_data"
    },
    {
     "data": {
      "image/png": "[encoded data removed]",
      "text/plain": [
       "<Figure size 432x288 with 1 Axes>"
      ]
     },
     "metadata": {
      "needs_background": "light"
     },
     "output_type": "display_data"
    }
   ],
   "source": [
    "plt.figure(figsize=(15,3))\n",
    "mdf.filter(like='_종가').plot(kind='line')"
   ]
  },
  {
   "cell_type": "code",
   "execution_count": 22,
   "id": "9ae6f1d1",
   "metadata": {
    "ExecuteTime": {
     "end_time": "2022-02-10T02:13:53.573370Z",
     "start_time": "2022-02-10T02:13:53.564394Z"
    }
   },
   "outputs": [
    {
     "data": {
      "text/plain": [
       "WTI_종가        207\n",
       "WTI_전일비       207\n",
       "WTI_등락률       207\n",
       "brent_종가       76\n",
       "brent_전일비      76\n",
       "brent_등락률      76\n",
       "dubai_종가     4311\n",
       "dubai_전일비    4311\n",
       "dubai_등락률    4311\n",
       "dtype: int64"
      ]
     },
     "execution_count": 22,
     "metadata": {},
     "output_type": "execute_result"
    }
   ],
   "source": [
    "mdf.isna().sum()"
   ]
  },
  {
   "cell_type": "code",
   "execution_count": 23,
   "id": "39d27368",
   "metadata": {
    "ExecuteTime": {
     "end_time": "2022-02-10T02:19:08.859237Z",
     "start_time": "2022-02-10T02:19:08.830983Z"
    },
    "scrolled": true
   },
   "outputs": [
    {
     "data": {
      "text/html": [
       "<div>\n",
       "<style scoped>\n",
       "    .dataframe tbody tr th:only-of-type {\n",
       "        vertical-align: middle;\n",
       "    }\n",
       "\n",
       "    .dataframe tbody tr th {\n",
       "        vertical-align: top;\n",
       "    }\n",
       "\n",
       "    .dataframe thead th {\n",
       "        text-align: right;\n",
       "    }\n",
       "</style>\n",
       "<table border=\"1\" class=\"dataframe\">\n",
       "  <thead>\n",
       "    <tr style=\"text-align: right;\">\n",
       "      <th></th>\n",
       "      <th>WTI_종가</th>\n",
       "      <th>WTI_전일비</th>\n",
       "      <th>WTI_등락률</th>\n",
       "      <th>brent_종가</th>\n",
       "      <th>brent_전일비</th>\n",
       "      <th>brent_등락률</th>\n",
       "      <th>dubai_종가</th>\n",
       "      <th>dubai_전일비</th>\n",
       "      <th>dubai_등락률</th>\n",
       "    </tr>\n",
       "    <tr>\n",
       "      <th>date</th>\n",
       "      <th></th>\n",
       "      <th></th>\n",
       "      <th></th>\n",
       "      <th></th>\n",
       "      <th></th>\n",
       "      <th></th>\n",
       "      <th></th>\n",
       "      <th></th>\n",
       "      <th></th>\n",
       "    </tr>\n",
       "  </thead>\n",
       "  <tbody>\n",
       "    <tr>\n",
       "      <th>2022.02.09</th>\n",
       "      <td>89.66</td>\n",
       "      <td>0.30</td>\n",
       "      <td>0.34</td>\n",
       "      <td>91.55</td>\n",
       "      <td>0.77</td>\n",
       "      <td>0.85</td>\n",
       "      <td>89.883</td>\n",
       "      <td>0.601</td>\n",
       "      <td>0.67</td>\n",
       "    </tr>\n",
       "    <tr>\n",
       "      <th>2022.02.08</th>\n",
       "      <td>89.36</td>\n",
       "      <td>-1.96</td>\n",
       "      <td>-2.15</td>\n",
       "      <td>90.78</td>\n",
       "      <td>-1.91</td>\n",
       "      <td>-2.06</td>\n",
       "      <td>89.282</td>\n",
       "      <td>-1.475</td>\n",
       "      <td>-1.63</td>\n",
       "    </tr>\n",
       "    <tr>\n",
       "      <th>2022.02.07</th>\n",
       "      <td>91.32</td>\n",
       "      <td>-0.99</td>\n",
       "      <td>-1.07</td>\n",
       "      <td>92.69</td>\n",
       "      <td>-0.58</td>\n",
       "      <td>-0.62</td>\n",
       "      <td>90.757</td>\n",
       "      <td>-0.299</td>\n",
       "      <td>-0.33</td>\n",
       "    </tr>\n",
       "    <tr>\n",
       "      <th>2022.02.04</th>\n",
       "      <td>92.31</td>\n",
       "      <td>2.04</td>\n",
       "      <td>2.26</td>\n",
       "      <td>93.27</td>\n",
       "      <td>2.16</td>\n",
       "      <td>2.37</td>\n",
       "      <td>91.056</td>\n",
       "      <td>1.900</td>\n",
       "      <td>2.13</td>\n",
       "    </tr>\n",
       "    <tr>\n",
       "      <th>2022.02.03</th>\n",
       "      <td>90.27</td>\n",
       "      <td>2.01</td>\n",
       "      <td>2.28</td>\n",
       "      <td>91.11</td>\n",
       "      <td>1.64</td>\n",
       "      <td>1.83</td>\n",
       "      <td>89.156</td>\n",
       "      <td>1.391</td>\n",
       "      <td>1.58</td>\n",
       "    </tr>\n",
       "    <tr>\n",
       "      <th>...</th>\n",
       "      <td>...</td>\n",
       "      <td>...</td>\n",
       "      <td>...</td>\n",
       "      <td>...</td>\n",
       "      <td>...</td>\n",
       "      <td>...</td>\n",
       "      <td>...</td>\n",
       "      <td>...</td>\n",
       "      <td>...</td>\n",
       "    </tr>\n",
       "    <tr>\n",
       "      <th>1990.01.08</th>\n",
       "      <td>21.62</td>\n",
       "      <td>-1.46</td>\n",
       "      <td>-6.33</td>\n",
       "      <td>20.52</td>\n",
       "      <td>-1.48</td>\n",
       "      <td>-6.73</td>\n",
       "      <td>NaN</td>\n",
       "      <td>NaN</td>\n",
       "      <td>NaN</td>\n",
       "    </tr>\n",
       "    <tr>\n",
       "      <th>1990.01.05</th>\n",
       "      <td>23.08</td>\n",
       "      <td>-0.33</td>\n",
       "      <td>-1.41</td>\n",
       "      <td>22.00</td>\n",
       "      <td>0.49</td>\n",
       "      <td>2.28</td>\n",
       "      <td>NaN</td>\n",
       "      <td>NaN</td>\n",
       "      <td>NaN</td>\n",
       "    </tr>\n",
       "    <tr>\n",
       "      <th>1990.01.04</th>\n",
       "      <td>23.41</td>\n",
       "      <td>-0.27</td>\n",
       "      <td>-1.14</td>\n",
       "      <td>21.51</td>\n",
       "      <td>-0.18</td>\n",
       "      <td>-0.83</td>\n",
       "      <td>NaN</td>\n",
       "      <td>NaN</td>\n",
       "      <td>NaN</td>\n",
       "    </tr>\n",
       "    <tr>\n",
       "      <th>1990.01.03</th>\n",
       "      <td>23.68</td>\n",
       "      <td>0.79</td>\n",
       "      <td>3.45</td>\n",
       "      <td>21.69</td>\n",
       "      <td>1.18</td>\n",
       "      <td>5.75</td>\n",
       "      <td>NaN</td>\n",
       "      <td>NaN</td>\n",
       "      <td>NaN</td>\n",
       "    </tr>\n",
       "    <tr>\n",
       "      <th>1990.01.02</th>\n",
       "      <td>22.89</td>\n",
       "      <td>-91.04</td>\n",
       "      <td>-79.91</td>\n",
       "      <td>20.51</td>\n",
       "      <td>19.43</td>\n",
       "      <td>1799.07</td>\n",
       "      <td>NaN</td>\n",
       "      <td>NaN</td>\n",
       "      <td>NaN</td>\n",
       "    </tr>\n",
       "  </tbody>\n",
       "</table>\n",
       "<p>8279 rows × 9 columns</p>\n",
       "</div>"
      ],
      "text/plain": [
       "            WTI_종가  WTI_전일비  WTI_등락률  brent_종가  brent_전일비  brent_등락률  \\\n",
       "date                                                                   \n",
       "2022.02.09   89.66     0.30     0.34     91.55       0.77       0.85   \n",
       "2022.02.08   89.36    -1.96    -2.15     90.78      -1.91      -2.06   \n",
       "2022.02.07   91.32    -0.99    -1.07     92.69      -0.58      -0.62   \n",
       "2022.02.04   92.31     2.04     2.26     93.27       2.16       2.37   \n",
       "2022.02.03   90.27     2.01     2.28     91.11       1.64       1.83   \n",
       "...            ...      ...      ...       ...        ...        ...   \n",
       "1990.01.08   21.62    -1.46    -6.33     20.52      -1.48      -6.73   \n",
       "1990.01.05   23.08    -0.33    -1.41     22.00       0.49       2.28   \n",
       "1990.01.04   23.41    -0.27    -1.14     21.51      -0.18      -0.83   \n",
       "1990.01.03   23.68     0.79     3.45     21.69       1.18       5.75   \n",
       "1990.01.02   22.89   -91.04   -79.91     20.51      19.43    1799.07   \n",
       "\n",
       "            dubai_종가  dubai_전일비  dubai_등락률  \n",
       "date                                        \n",
       "2022.02.09    89.883      0.601       0.67  \n",
       "2022.02.08    89.282     -1.475      -1.63  \n",
       "2022.02.07    90.757     -0.299      -0.33  \n",
       "2022.02.04    91.056      1.900       2.13  \n",
       "2022.02.03    89.156      1.391       1.58  \n",
       "...              ...        ...        ...  \n",
       "1990.01.08       NaN        NaN        NaN  \n",
       "1990.01.05       NaN        NaN        NaN  \n",
       "1990.01.04       NaN        NaN        NaN  \n",
       "1990.01.03       NaN        NaN        NaN  \n",
       "1990.01.02       NaN        NaN        NaN  \n",
       "\n",
       "[8279 rows x 9 columns]"
      ]
     },
     "execution_count": 23,
     "metadata": {},
     "output_type": "execute_result"
    }
   ],
   "source": [
    "mdf"
   ]
  },
  {
   "cell_type": "code",
   "execution_count": 34,
   "id": "fbeb7614",
   "metadata": {},
   "outputs": [
    {
     "data": {
      "text/html": [
       "<div>\n",
       "<style scoped>\n",
       "    .dataframe tbody tr th:only-of-type {\n",
       "        vertical-align: middle;\n",
       "    }\n",
       "\n",
       "    .dataframe tbody tr th {\n",
       "        vertical-align: top;\n",
       "    }\n",
       "\n",
       "    .dataframe thead th {\n",
       "        text-align: right;\n",
       "    }\n",
       "</style>\n",
       "<table border=\"1\" class=\"dataframe\">\n",
       "  <thead>\n",
       "    <tr style=\"text-align: right;\">\n",
       "      <th></th>\n",
       "      <th>date</th>\n",
       "      <th>dubai_종가</th>\n",
       "      <th>dubai_전일비</th>\n",
       "      <th>dubai_등락률</th>\n",
       "    </tr>\n",
       "  </thead>\n",
       "  <tbody>\n",
       "    <tr>\n",
       "      <th>8072</th>\n",
       "      <td>2022.02.09</td>\n",
       "      <td>89.883</td>\n",
       "      <td>0.601</td>\n",
       "      <td>0.67</td>\n",
       "    </tr>\n",
       "    <tr>\n",
       "      <th>8073</th>\n",
       "      <td>2022.02.08</td>\n",
       "      <td>89.282</td>\n",
       "      <td>-1.475</td>\n",
       "      <td>-1.63</td>\n",
       "    </tr>\n",
       "    <tr>\n",
       "      <th>8074</th>\n",
       "      <td>2022.02.07</td>\n",
       "      <td>90.757</td>\n",
       "      <td>-0.299</td>\n",
       "      <td>-0.33</td>\n",
       "    </tr>\n",
       "    <tr>\n",
       "      <th>8075</th>\n",
       "      <td>2022.02.04</td>\n",
       "      <td>91.056</td>\n",
       "      <td>1.900</td>\n",
       "      <td>2.13</td>\n",
       "    </tr>\n",
       "    <tr>\n",
       "      <th>8076</th>\n",
       "      <td>2022.02.03</td>\n",
       "      <td>89.156</td>\n",
       "      <td>1.391</td>\n",
       "      <td>1.58</td>\n",
       "    </tr>\n",
       "    <tr>\n",
       "      <th>...</th>\n",
       "      <td>...</td>\n",
       "      <td>...</td>\n",
       "      <td>...</td>\n",
       "      <td>...</td>\n",
       "    </tr>\n",
       "    <tr>\n",
       "      <th>12035</th>\n",
       "      <td>2006.01.30</td>\n",
       "      <td>61.430</td>\n",
       "      <td>0.540</td>\n",
       "      <td>0.89</td>\n",
       "    </tr>\n",
       "    <tr>\n",
       "      <th>12036</th>\n",
       "      <td>2006.01.27</td>\n",
       "      <td>60.890</td>\n",
       "      <td>0.940</td>\n",
       "      <td>1.57</td>\n",
       "    </tr>\n",
       "    <tr>\n",
       "      <th>12037</th>\n",
       "      <td>2006.01.26</td>\n",
       "      <td>59.950</td>\n",
       "      <td>0.630</td>\n",
       "      <td>1.06</td>\n",
       "    </tr>\n",
       "    <tr>\n",
       "      <th>12038</th>\n",
       "      <td>2006.01.25</td>\n",
       "      <td>59.320</td>\n",
       "      <td>-1.470</td>\n",
       "      <td>-2.42</td>\n",
       "    </tr>\n",
       "    <tr>\n",
       "      <th>12039</th>\n",
       "      <td>2006.01.24</td>\n",
       "      <td>60.790</td>\n",
       "      <td>-0.280</td>\n",
       "      <td>-0.46</td>\n",
       "    </tr>\n",
       "  </tbody>\n",
       "</table>\n",
       "<p>3968 rows × 4 columns</p>\n",
       "</div>"
      ],
      "text/plain": [
       "             date  dubai_종가  dubai_전일비  dubai_등락률\n",
       "8072   2022.02.09    89.883      0.601       0.67\n",
       "8073   2022.02.08    89.282     -1.475      -1.63\n",
       "8074   2022.02.07    90.757     -0.299      -0.33\n",
       "8075   2022.02.04    91.056      1.900       2.13\n",
       "8076   2022.02.03    89.156      1.391       1.58\n",
       "...           ...       ...        ...        ...\n",
       "12035  2006.01.30    61.430      0.540       0.89\n",
       "12036  2006.01.27    60.890      0.940       1.57\n",
       "12037  2006.01.26    59.950      0.630       1.06\n",
       "12038  2006.01.25    59.320     -1.470      -2.42\n",
       "12039  2006.01.24    60.790     -0.280      -0.46\n",
       "\n",
       "[3968 rows x 4 columns]"
      ]
     },
     "execution_count": 34,
     "metadata": {},
     "output_type": "execute_result"
    }
   ],
   "source": [
    "dubaidf"
   ]
  },
  {
   "cell_type": "code",
   "execution_count": null,
   "id": "85d2777d",
   "metadata": {},
   "outputs": [],
   "source": [
    "dubaidf['Year'] = dubaidf['date'].apply(lambda x: x.split('.')[0])"
   ]
  },
  {
   "cell_type": "code",
   "execution_count": 38,
   "id": "188ed87a",
   "metadata": {},
   "outputs": [
    {
     "data": {
      "text/html": [
       "<div>\n",
       "<style scoped>\n",
       "    .dataframe tbody tr th:only-of-type {\n",
       "        vertical-align: middle;\n",
       "    }\n",
       "\n",
       "    .dataframe tbody tr th {\n",
       "        vertical-align: top;\n",
       "    }\n",
       "\n",
       "    .dataframe thead th {\n",
       "        text-align: right;\n",
       "    }\n",
       "</style>\n",
       "<table border=\"1\" class=\"dataframe\">\n",
       "  <thead>\n",
       "    <tr style=\"text-align: right;\">\n",
       "      <th></th>\n",
       "      <th>date</th>\n",
       "      <th>dubai_종가</th>\n",
       "      <th>dubai_전일비</th>\n",
       "      <th>dubai_등락률</th>\n",
       "      <th>Year</th>\n",
       "    </tr>\n",
       "  </thead>\n",
       "  <tbody>\n",
       "    <tr>\n",
       "      <th>8072</th>\n",
       "      <td>2022.02.09</td>\n",
       "      <td>89.883</td>\n",
       "      <td>0.601</td>\n",
       "      <td>0.67</td>\n",
       "      <td>2022</td>\n",
       "    </tr>\n",
       "    <tr>\n",
       "      <th>8073</th>\n",
       "      <td>2022.02.08</td>\n",
       "      <td>89.282</td>\n",
       "      <td>-1.475</td>\n",
       "      <td>-1.63</td>\n",
       "      <td>2022</td>\n",
       "    </tr>\n",
       "    <tr>\n",
       "      <th>8074</th>\n",
       "      <td>2022.02.07</td>\n",
       "      <td>90.757</td>\n",
       "      <td>-0.299</td>\n",
       "      <td>-0.33</td>\n",
       "      <td>2022</td>\n",
       "    </tr>\n",
       "    <tr>\n",
       "      <th>8075</th>\n",
       "      <td>2022.02.04</td>\n",
       "      <td>91.056</td>\n",
       "      <td>1.900</td>\n",
       "      <td>2.13</td>\n",
       "      <td>2022</td>\n",
       "    </tr>\n",
       "    <tr>\n",
       "      <th>8076</th>\n",
       "      <td>2022.02.03</td>\n",
       "      <td>89.156</td>\n",
       "      <td>1.391</td>\n",
       "      <td>1.58</td>\n",
       "      <td>2022</td>\n",
       "    </tr>\n",
       "    <tr>\n",
       "      <th>...</th>\n",
       "      <td>...</td>\n",
       "      <td>...</td>\n",
       "      <td>...</td>\n",
       "      <td>...</td>\n",
       "      <td>...</td>\n",
       "    </tr>\n",
       "    <tr>\n",
       "      <th>12035</th>\n",
       "      <td>2006.01.30</td>\n",
       "      <td>61.430</td>\n",
       "      <td>0.540</td>\n",
       "      <td>0.89</td>\n",
       "      <td>2006</td>\n",
       "    </tr>\n",
       "    <tr>\n",
       "      <th>12036</th>\n",
       "      <td>2006.01.27</td>\n",
       "      <td>60.890</td>\n",
       "      <td>0.940</td>\n",
       "      <td>1.57</td>\n",
       "      <td>2006</td>\n",
       "    </tr>\n",
       "    <tr>\n",
       "      <th>12037</th>\n",
       "      <td>2006.01.26</td>\n",
       "      <td>59.950</td>\n",
       "      <td>0.630</td>\n",
       "      <td>1.06</td>\n",
       "      <td>2006</td>\n",
       "    </tr>\n",
       "    <tr>\n",
       "      <th>12038</th>\n",
       "      <td>2006.01.25</td>\n",
       "      <td>59.320</td>\n",
       "      <td>-1.470</td>\n",
       "      <td>-2.42</td>\n",
       "      <td>2006</td>\n",
       "    </tr>\n",
       "    <tr>\n",
       "      <th>12039</th>\n",
       "      <td>2006.01.24</td>\n",
       "      <td>60.790</td>\n",
       "      <td>-0.280</td>\n",
       "      <td>-0.46</td>\n",
       "      <td>2006</td>\n",
       "    </tr>\n",
       "  </tbody>\n",
       "</table>\n",
       "<p>3968 rows × 5 columns</p>\n",
       "</div>"
      ],
      "text/plain": [
       "             date  dubai_종가  dubai_전일비  dubai_등락률  Year\n",
       "8072   2022.02.09    89.883      0.601       0.67  2022\n",
       "8073   2022.02.08    89.282     -1.475      -1.63  2022\n",
       "8074   2022.02.07    90.757     -0.299      -0.33  2022\n",
       "8075   2022.02.04    91.056      1.900       2.13  2022\n",
       "8076   2022.02.03    89.156      1.391       1.58  2022\n",
       "...           ...       ...        ...        ...   ...\n",
       "12035  2006.01.30    61.430      0.540       0.89  2006\n",
       "12036  2006.01.27    60.890      0.940       1.57  2006\n",
       "12037  2006.01.26    59.950      0.630       1.06  2006\n",
       "12038  2006.01.25    59.320     -1.470      -2.42  2006\n",
       "12039  2006.01.24    60.790     -0.280      -0.46  2006\n",
       "\n",
       "[3968 rows x 5 columns]"
      ]
     },
     "execution_count": 38,
     "metadata": {},
     "output_type": "execute_result"
    }
   ],
   "source": [
    "dubaidf"
   ]
  },
  {
   "cell_type": "code",
   "execution_count": null,
   "id": "357143a0",
   "metadata": {},
   "outputs": [],
   "source": [
    "dat= dubaidf['date']"
   ]
  },
  {
   "cell_type": "code",
   "execution_count": 46,
   "id": "78fa2ea9",
   "metadata": {},
   "outputs": [
    {
     "data": {
      "text/plain": [
       "Year\n",
       "2006    0.009832\n",
       "2007    0.164959\n",
       "2008   -0.274746\n",
       "2009    0.301130\n",
       "2010    0.079136\n",
       "2011    0.076546\n",
       "2012    0.013794\n",
       "2013    0.006468\n",
       "2014   -0.258452\n",
       "2015   -0.178696\n",
       "2016    0.232143\n",
       "2017    0.077211\n",
       "2018   -0.036036\n",
       "2019    0.062341\n",
       "2020   -0.096759\n",
       "2021    0.119524\n",
       "2022    0.388889\n",
       "Name: dubai_등락률, dtype: float64"
      ]
     },
     "execution_count": 46,
     "metadata": {},
     "output_type": "execute_result"
    }
   ],
   "source": [
    "df_year =dubaidf.groupby('Year')['dubai_등락률'].mean()"
   ]
  },
  {
   "cell_type": "code",
   "execution_count": 48,
   "id": "16c38124",
   "metadata": {},
   "outputs": [
    {
     "data": {
      "image/png": "[encoded data removed]",
      "text/plain": [
       "<Figure size 432x288 with 1 Axes>"
      ]
     },
     "metadata": {
      "needs_background": "light"
     },
     "output_type": "display_data"
    }
   ],
   "source": [
    "df_year = df_year.reset_index()\n",
    "plt.plot(df_year.Year, df_year.dubai_등락률)\n",
    "plt.show()"
   ]
  },
  {
   "cell_type": "code",
   "execution_count": 30,
   "id": "e2a11abd",
   "metadata": {},
   "outputs": [],
   "source": [
    "rate = dubaidf['dubai_등락률']"
   ]
  },
  {
   "cell_type": "code",
   "execution_count": 32,
   "id": "e80e8e4e",
   "metadata": {},
   "outputs": [
    {
     "data": {
      "image/png": "[encoded data removed]",
      "text/plain": [
       "<Figure size 432x288 with 1 Axes>"
      ]
     },
     "metadata": {
      "needs_background": "light"
     },
     "output_type": "display_data"
    }
   ],
   "source": [
    "plt.plot(dat,rate)\n",
    "plt.show()"
   ]
  },
  {
   "cell_type": "code",
   "execution_count": null,
   "id": "6bb932cc",
   "metadata": {},
   "outputs": [],
   "source": []
  },
  {
   "cell_type": "code",
   "execution_count": null,
   "id": "993d1f0b",
   "metadata": {},
   "outputs": [],
   "source": []
  },
  {
   "cell_type": "code",
   "execution_count": null,
   "id": "7c528a1b",
   "metadata": {},
   "outputs": [],
   "source": []
  },
  {
   "cell_type": "code",
   "execution_count": null,
   "id": "49daf4b5",
   "metadata": {},
   "outputs": [],
   "source": []
  },
  {
   "cell_type": "code",
   "execution_count": null,
   "id": "f02602f1",
   "metadata": {},
   "outputs": [],
   "source": []
  },
  {
   "cell_type": "code",
   "execution_count": null,
   "id": "32640587",
   "metadata": {},
   "outputs": [],
   "source": []
  }
 ],
 "metadata": {
  "kernelspec": {
   "display_name": "Python 3 (ipykernel)",
   "language": "python",
   "name": "python3"
  },
  "language_info": {
   "codemirror_mode": {
    "name": "ipython",
    "version": 3
   },
   "file_extension": ".py",
   "mimetype": "text/x-python",
   "name": "python",
   "nbconvert_exporter": "python",
   "pygments_lexer": "ipython3",
   "version": "3.9.7"
  },
  "toc": {
   "base_numbering": 1,
   "nav_menu": {},
   "number_sections": true,
   "sideBar": true,
   "skip_h1_title": false,
   "title_cell": "Table of Contents",
   "title_sidebar": "Contents",
   "toc_cell": false,
   "toc_position": {},
   "toc_section_display": true,
   "toc_window_display": false
  },
  "varInspector": {
   "cols": {
    "lenName": 16,
    "lenType": 16,
    "lenVar": 40
   },
   "kernels_config": {
    "python": {
     "delete_cmd_postfix": "",
     "delete_cmd_prefix": "del ",
     "library": "var_list.py",
     "varRefreshCmd": "print(var_dic_list())"
    },
    "r": {
     "delete_cmd_postfix": ") ",
     "delete_cmd_prefix": "rm(",
     "library": "var_list.r",
     "varRefreshCmd": "cat(var_dic_list()) "
    }
   },
   "position": {
    "height": "144.844px",
    "left": "637px",
    "right": "20px",
    "top": "-33px",
    "width": "350px"
   },
   "types_to_exclude": [
    "module",
    "function",
    "builtin_function_or_method",
    "instance",
    "_Feature"
   ],
   "window_display": true
  }
 },
 "nbformat": 4,
 "nbformat_minor": 5
}
