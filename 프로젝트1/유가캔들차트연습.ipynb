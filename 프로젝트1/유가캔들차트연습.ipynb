{
 "cells": [
  {
   "cell_type": "code",
   "execution_count": 38,
   "id": "2911f98f",
   "metadata": {},
   "outputs": [],
   "source": [
    "import FinanceDataReader as fdr\n",
    "import pandas as pd\n",
    "import numpy as np"
   ]
  },
  {
   "cell_type": "code",
   "execution_count": 39,
   "id": "ad4c2c4a",
   "metadata": {},
   "outputs": [],
   "source": [
    "from datetime import datetime, timedelta"
   ]
  },
  {
   "cell_type": "code",
   "execution_count": 40,
   "id": "441fb4e4",
   "metadata": {},
   "outputs": [],
   "source": [
    "import plotly.express as px\n",
    "import matplotlib.pyplot as plt\n",
    "import seaborn as sns\n",
    "import plotly.graph_objects as go"
   ]
  },
  {
   "cell_type": "code",
   "execution_count": 41,
   "id": "e29948aa",
   "metadata": {},
   "outputs": [
    {
     "data": {
      "text/html": [
       "<div>\n",
       "<style scoped>\n",
       "    .dataframe tbody tr th:only-of-type {\n",
       "        vertical-align: middle;\n",
       "    }\n",
       "\n",
       "    .dataframe tbody tr th {\n",
       "        vertical-align: top;\n",
       "    }\n",
       "\n",
       "    .dataframe thead th {\n",
       "        text-align: right;\n",
       "    }\n",
       "</style>\n",
       "<table border=\"1\" class=\"dataframe\">\n",
       "  <thead>\n",
       "    <tr style=\"text-align: right;\">\n",
       "      <th></th>\n",
       "      <th>company</th>\n",
       "      <th>date</th>\n",
       "      <th>종가</th>\n",
       "      <th>전일비</th>\n",
       "      <th>등락률</th>\n",
       "    </tr>\n",
       "  </thead>\n",
       "  <tbody>\n",
       "    <tr>\n",
       "      <th>0</th>\n",
       "      <td>WTI원유선물</td>\n",
       "      <td>2022.02.09</td>\n",
       "      <td>89.66</td>\n",
       "      <td>0.30</td>\n",
       "      <td>0.34</td>\n",
       "    </tr>\n",
       "    <tr>\n",
       "      <th>1</th>\n",
       "      <td>WTI원유선물</td>\n",
       "      <td>2022.02.08</td>\n",
       "      <td>89.36</td>\n",
       "      <td>-1.96</td>\n",
       "      <td>-2.15</td>\n",
       "    </tr>\n",
       "    <tr>\n",
       "      <th>2</th>\n",
       "      <td>WTI원유선물</td>\n",
       "      <td>2022.02.07</td>\n",
       "      <td>91.32</td>\n",
       "      <td>-0.99</td>\n",
       "      <td>-1.07</td>\n",
       "    </tr>\n",
       "    <tr>\n",
       "      <th>3</th>\n",
       "      <td>WTI원유선물</td>\n",
       "      <td>2022.02.04</td>\n",
       "      <td>92.31</td>\n",
       "      <td>2.04</td>\n",
       "      <td>2.26</td>\n",
       "    </tr>\n",
       "    <tr>\n",
       "      <th>4</th>\n",
       "      <td>WTI원유선물</td>\n",
       "      <td>2022.02.03</td>\n",
       "      <td>90.27</td>\n",
       "      <td>2.01</td>\n",
       "      <td>2.28</td>\n",
       "    </tr>\n",
       "    <tr>\n",
       "      <th>...</th>\n",
       "      <td>...</td>\n",
       "      <td>...</td>\n",
       "      <td>...</td>\n",
       "      <td>...</td>\n",
       "      <td>...</td>\n",
       "    </tr>\n",
       "    <tr>\n",
       "      <th>20238</th>\n",
       "      <td>브렌트원유선물</td>\n",
       "      <td>1990.01.08</td>\n",
       "      <td>20.52</td>\n",
       "      <td>-1.48</td>\n",
       "      <td>-6.73</td>\n",
       "    </tr>\n",
       "    <tr>\n",
       "      <th>20239</th>\n",
       "      <td>브렌트원유선물</td>\n",
       "      <td>1990.01.05</td>\n",
       "      <td>22.00</td>\n",
       "      <td>0.49</td>\n",
       "      <td>2.28</td>\n",
       "    </tr>\n",
       "    <tr>\n",
       "      <th>20240</th>\n",
       "      <td>브렌트원유선물</td>\n",
       "      <td>1990.01.04</td>\n",
       "      <td>21.51</td>\n",
       "      <td>-0.18</td>\n",
       "      <td>-0.83</td>\n",
       "    </tr>\n",
       "    <tr>\n",
       "      <th>20241</th>\n",
       "      <td>브렌트원유선물</td>\n",
       "      <td>1990.01.03</td>\n",
       "      <td>21.69</td>\n",
       "      <td>1.18</td>\n",
       "      <td>5.75</td>\n",
       "    </tr>\n",
       "    <tr>\n",
       "      <th>20242</th>\n",
       "      <td>브렌트원유선물</td>\n",
       "      <td>1990.01.02</td>\n",
       "      <td>20.51</td>\n",
       "      <td>19.43</td>\n",
       "      <td>1799.07</td>\n",
       "    </tr>\n",
       "  </tbody>\n",
       "</table>\n",
       "<p>20243 rows × 5 columns</p>\n",
       "</div>"
      ],
      "text/plain": [
       "       company        date     종가    전일비      등락률\n",
       "0      WTI원유선물  2022.02.09  89.66   0.30     0.34\n",
       "1      WTI원유선물  2022.02.08  89.36  -1.96    -2.15\n",
       "2      WTI원유선물  2022.02.07  91.32  -0.99    -1.07\n",
       "3      WTI원유선물  2022.02.04  92.31   2.04     2.26\n",
       "4      WTI원유선물  2022.02.03  90.27   2.01     2.28\n",
       "...        ...         ...    ...    ...      ...\n",
       "20238  브렌트원유선물  1990.01.08  20.52  -1.48    -6.73\n",
       "20239  브렌트원유선물  1990.01.05  22.00   0.49     2.28\n",
       "20240  브렌트원유선물  1990.01.04  21.51  -0.18    -0.83\n",
       "20241  브렌트원유선물  1990.01.03  21.69   1.18     5.75\n",
       "20242  브렌트원유선물  1990.01.02  20.51  19.43  1799.07\n",
       "\n",
       "[20243 rows x 5 columns]"
      ]
     },
     "execution_count": 41,
     "metadata": {},
     "output_type": "execute_result"
    }
   ],
   "source": [
    "# 유가데이터 부르기\n",
    "\n",
    "df = pd.read_csv('daum_oil.csv')\n",
    "df"
   ]
  },
  {
   "cell_type": "code",
   "execution_count": 43,
   "id": "e5ead5ca",
   "metadata": {},
   "outputs": [
    {
     "data": {
      "text/html": [
       "<div>\n",
       "<style scoped>\n",
       "    .dataframe tbody tr th:only-of-type {\n",
       "        vertical-align: middle;\n",
       "    }\n",
       "\n",
       "    .dataframe tbody tr th {\n",
       "        vertical-align: top;\n",
       "    }\n",
       "\n",
       "    .dataframe thead th {\n",
       "        text-align: right;\n",
       "    }\n",
       "</style>\n",
       "<table border=\"1\" class=\"dataframe\">\n",
       "  <thead>\n",
       "    <tr style=\"text-align: right;\">\n",
       "      <th></th>\n",
       "      <th>company</th>\n",
       "      <th>date</th>\n",
       "      <th>종가</th>\n",
       "      <th>전일비</th>\n",
       "      <th>등락률</th>\n",
       "    </tr>\n",
       "  </thead>\n",
       "  <tbody>\n",
       "    <tr>\n",
       "      <th>8072</th>\n",
       "      <td>두바이유선물</td>\n",
       "      <td>2022.02.09</td>\n",
       "      <td>89.883</td>\n",
       "      <td>0.601</td>\n",
       "      <td>0.67</td>\n",
       "    </tr>\n",
       "    <tr>\n",
       "      <th>8073</th>\n",
       "      <td>두바이유선물</td>\n",
       "      <td>2022.02.08</td>\n",
       "      <td>89.282</td>\n",
       "      <td>-1.475</td>\n",
       "      <td>-1.63</td>\n",
       "    </tr>\n",
       "    <tr>\n",
       "      <th>8074</th>\n",
       "      <td>두바이유선물</td>\n",
       "      <td>2022.02.07</td>\n",
       "      <td>90.757</td>\n",
       "      <td>-0.299</td>\n",
       "      <td>-0.33</td>\n",
       "    </tr>\n",
       "    <tr>\n",
       "      <th>8075</th>\n",
       "      <td>두바이유선물</td>\n",
       "      <td>2022.02.04</td>\n",
       "      <td>91.056</td>\n",
       "      <td>1.900</td>\n",
       "      <td>2.13</td>\n",
       "    </tr>\n",
       "    <tr>\n",
       "      <th>8076</th>\n",
       "      <td>두바이유선물</td>\n",
       "      <td>2022.02.03</td>\n",
       "      <td>89.156</td>\n",
       "      <td>1.391</td>\n",
       "      <td>1.58</td>\n",
       "    </tr>\n",
       "    <tr>\n",
       "      <th>...</th>\n",
       "      <td>...</td>\n",
       "      <td>...</td>\n",
       "      <td>...</td>\n",
       "      <td>...</td>\n",
       "      <td>...</td>\n",
       "    </tr>\n",
       "    <tr>\n",
       "      <th>12035</th>\n",
       "      <td>두바이유선물</td>\n",
       "      <td>2006.01.30</td>\n",
       "      <td>61.430</td>\n",
       "      <td>0.540</td>\n",
       "      <td>0.89</td>\n",
       "    </tr>\n",
       "    <tr>\n",
       "      <th>12036</th>\n",
       "      <td>두바이유선물</td>\n",
       "      <td>2006.01.27</td>\n",
       "      <td>60.890</td>\n",
       "      <td>0.940</td>\n",
       "      <td>1.57</td>\n",
       "    </tr>\n",
       "    <tr>\n",
       "      <th>12037</th>\n",
       "      <td>두바이유선물</td>\n",
       "      <td>2006.01.26</td>\n",
       "      <td>59.950</td>\n",
       "      <td>0.630</td>\n",
       "      <td>1.06</td>\n",
       "    </tr>\n",
       "    <tr>\n",
       "      <th>12038</th>\n",
       "      <td>두바이유선물</td>\n",
       "      <td>2006.01.25</td>\n",
       "      <td>59.320</td>\n",
       "      <td>-1.470</td>\n",
       "      <td>-2.42</td>\n",
       "    </tr>\n",
       "    <tr>\n",
       "      <th>12039</th>\n",
       "      <td>두바이유선물</td>\n",
       "      <td>2006.01.24</td>\n",
       "      <td>60.790</td>\n",
       "      <td>-0.280</td>\n",
       "      <td>-0.46</td>\n",
       "    </tr>\n",
       "  </tbody>\n",
       "</table>\n",
       "<p>3968 rows × 5 columns</p>\n",
       "</div>"
      ],
      "text/plain": [
       "      company        date      종가    전일비   등락률\n",
       "8072   두바이유선물  2022.02.09  89.883  0.601  0.67\n",
       "8073   두바이유선물  2022.02.08  89.282 -1.475 -1.63\n",
       "8074   두바이유선물  2022.02.07  90.757 -0.299 -0.33\n",
       "8075   두바이유선물  2022.02.04  91.056  1.900  2.13\n",
       "8076   두바이유선물  2022.02.03  89.156  1.391  1.58\n",
       "...       ...         ...     ...    ...   ...\n",
       "12035  두바이유선물  2006.01.30  61.430  0.540  0.89\n",
       "12036  두바이유선물  2006.01.27  60.890  0.940  1.57\n",
       "12037  두바이유선물  2006.01.26  59.950  0.630  1.06\n",
       "12038  두바이유선물  2006.01.25  59.320 -1.470 -2.42\n",
       "12039  두바이유선물  2006.01.24  60.790 -0.280 -0.46\n",
       "\n",
       "[3968 rows x 5 columns]"
      ]
     },
     "execution_count": 43,
     "metadata": {},
     "output_type": "execute_result"
    }
   ],
   "source": [
    "# 단위기간 당 날짜 지정(첫날)\n",
    "#두바이유 \n",
    "df_dubai = df[df['company'] == '두바이유선물']\n",
    "df_dubai "
   ]
  },
  {
   "cell_type": "code",
   "execution_count": 44,
   "id": "d84ac2ec",
   "metadata": {},
   "outputs": [
    {
     "name": "stdout",
     "output_type": "stream",
     "text": [
      "<class 'pandas.core.frame.DataFrame'>\n",
      "Int64Index: 3968 entries, 8072 to 12039\n",
      "Data columns (total 5 columns):\n",
      " #   Column   Non-Null Count  Dtype  \n",
      "---  ------   --------------  -----  \n",
      " 0   company  3968 non-null   object \n",
      " 1   date     3968 non-null   object \n",
      " 2   종가       3968 non-null   float64\n",
      " 3   전일비      3968 non-null   float64\n",
      " 4   등락률      3968 non-null   float64\n",
      "dtypes: float64(3), object(2)\n",
      "memory usage: 186.0+ KB\n"
     ]
    }
   ],
   "source": [
    "df_dubai.info()"
   ]
  },
  {
   "cell_type": "code",
   "execution_count": 45,
   "id": "e2c5690b",
   "metadata": {},
   "outputs": [
    {
     "name": "stdout",
     "output_type": "stream",
     "text": [
      "<class 'pandas.core.frame.DataFrame'>\n",
      "Int64Index: 3968 entries, 8072 to 12039\n",
      "Data columns (total 5 columns):\n",
      " #   Column   Non-Null Count  Dtype         \n",
      "---  ------   --------------  -----         \n",
      " 0   company  3968 non-null   object        \n",
      " 1   date     3968 non-null   datetime64[ns]\n",
      " 2   종가       3968 non-null   float64       \n",
      " 3   전일비      3968 non-null   float64       \n",
      " 4   등락률      3968 non-null   float64       \n",
      "dtypes: datetime64[ns](1), float64(3), object(1)\n",
      "memory usage: 186.0+ KB\n"
     ]
    },
    {
     "name": "stderr",
     "output_type": "stream",
     "text": [
      "C:\\Users\\bitcamp\\AppData\\Local\\Temp/ipykernel_12332/1494046336.py:3: SettingWithCopyWarning:\n",
      "\n",
      "\n",
      "A value is trying to be set on a copy of a slice from a DataFrame.\n",
      "Try using .loc[row_indexer,col_indexer] = value instead\n",
      "\n",
      "See the caveats in the documentation: https://pandas.pydata.org/pandas-docs/stable/user_guide/indexing.html#returning-a-view-versus-a-copy\n",
      "\n"
     ]
    }
   ],
   "source": [
    "# datetime으로 자료형 변경\n",
    "\n",
    "df_dubai['date'] = pd.to_datetime(df_dubai['date'])\n",
    "df_dubai.info()"
   ]
  },
  {
   "cell_type": "code",
   "execution_count": 174,
   "id": "3e0c25c5",
   "metadata": {},
   "outputs": [
    {
     "data": {
      "text/plain": [
       "company    0\n",
       "date       0\n",
       "종가         0\n",
       "전일비        0\n",
       "등락률        0\n",
       "dtype: int64"
      ]
     },
     "execution_count": 174,
     "metadata": {},
     "output_type": "execute_result"
    }
   ],
   "source": [
    "df_dubai.isnull().sum()"
   ]
  },
  {
   "cell_type": "code",
   "execution_count": 108,
   "id": "742ab6ae",
   "metadata": {},
   "outputs": [
    {
     "data": {
      "text/plain": [
       "datetime.datetime"
      ]
     },
     "execution_count": 108,
     "metadata": {},
     "output_type": "execute_result"
    }
   ],
   "source": [
    "# 날짜 기간별 데이터 선택\n",
    "\n",
    "#시작일, 단위기간 설정\n",
    "start_date = '2017.02.10'\n",
    "unit_time = 5\n",
    "\n",
    "#날짜형으로 변경\n",
    "start_date = datetime.strptime(start_date,\"%Y.%m.%d\")\n",
    "start_date\n",
    "type(start_date)"
   ]
  },
  {
   "cell_type": "code",
   "execution_count": 64,
   "id": "25ff168b",
   "metadata": {},
   "outputs": [
    {
     "data": {
      "text/plain": [
       "datetime.datetime"
      ]
     },
     "execution_count": 64,
     "metadata": {},
     "output_type": "execute_result"
    }
   ],
   "source": [
    "# unit_time 일 뒤\n",
    "# data['time'] = pd.DatetimeIndex(data['time']) + timedelta(weeks=1)\n",
    "\n",
    "next_date = start_date + timedelta(days= unit_time )\n",
    "# start_date = next_date\n",
    "\n",
    "type(next_date)"
   ]
  },
  {
   "cell_type": "code",
   "execution_count": 65,
   "id": "82cf8487",
   "metadata": {},
   "outputs": [
    {
     "data": {
      "text/html": [
       "<div>\n",
       "<style scoped>\n",
       "    .dataframe tbody tr th:only-of-type {\n",
       "        vertical-align: middle;\n",
       "    }\n",
       "\n",
       "    .dataframe tbody tr th {\n",
       "        vertical-align: top;\n",
       "    }\n",
       "\n",
       "    .dataframe thead th {\n",
       "        text-align: right;\n",
       "    }\n",
       "</style>\n",
       "<table border=\"1\" class=\"dataframe\">\n",
       "  <thead>\n",
       "    <tr style=\"text-align: right;\">\n",
       "      <th></th>\n",
       "      <th>company</th>\n",
       "      <th>date</th>\n",
       "      <th>종가</th>\n",
       "      <th>전일비</th>\n",
       "      <th>등락률</th>\n",
       "    </tr>\n",
       "  </thead>\n",
       "  <tbody>\n",
       "    <tr>\n",
       "      <th>9298</th>\n",
       "      <td>두바이유선물</td>\n",
       "      <td>2017-02-15</td>\n",
       "      <td>54.14</td>\n",
       "      <td>-0.13</td>\n",
       "      <td>-0.24</td>\n",
       "    </tr>\n",
       "    <tr>\n",
       "      <th>9299</th>\n",
       "      <td>두바이유선물</td>\n",
       "      <td>2017-02-14</td>\n",
       "      <td>54.27</td>\n",
       "      <td>0.24</td>\n",
       "      <td>0.44</td>\n",
       "    </tr>\n",
       "    <tr>\n",
       "      <th>9300</th>\n",
       "      <td>두바이유선물</td>\n",
       "      <td>2017-02-13</td>\n",
       "      <td>54.03</td>\n",
       "      <td>-0.56</td>\n",
       "      <td>-1.03</td>\n",
       "    </tr>\n",
       "    <tr>\n",
       "      <th>9301</th>\n",
       "      <td>두바이유선물</td>\n",
       "      <td>2017-02-10</td>\n",
       "      <td>54.59</td>\n",
       "      <td>0.48</td>\n",
       "      <td>0.89</td>\n",
       "    </tr>\n",
       "  </tbody>\n",
       "</table>\n",
       "</div>"
      ],
      "text/plain": [
       "     company       date     종가   전일비   등락률\n",
       "9298  두바이유선물 2017-02-15  54.14 -0.13 -0.24\n",
       "9299  두바이유선물 2017-02-14  54.27  0.24  0.44\n",
       "9300  두바이유선물 2017-02-13  54.03 -0.56 -1.03\n",
       "9301  두바이유선물 2017-02-10  54.59  0.48  0.89"
      ]
     },
     "execution_count": 65,
     "metadata": {},
     "output_type": "execute_result"
    }
   ],
   "source": [
    "# df_filered = df [df['Date'].between('2021-02-01', '2021-05-01')]\n",
    "df_filtered = df_dubai[df_dubai['date'].between(start_date, next_date)]\n",
    "df_filtered"
   ]
  },
  {
   "cell_type": "code",
   "execution_count": 66,
   "id": "50049f49",
   "metadata": {},
   "outputs": [
    {
     "data": {
      "text/plain": [
       "54.03"
      ]
     },
     "execution_count": 66,
     "metadata": {},
     "output_type": "execute_result"
    }
   ],
   "source": [
    "# 단위기간별 최대 최소\n",
    "#최대\n",
    "max_p = df_filtered['종가'].max()\n",
    "\n",
    "#최소\n",
    "min_p = df_filtered['종가'].min()\n",
    "min_p"
   ]
  },
  {
   "cell_type": "code",
   "execution_count": 109,
   "id": "77856c6f",
   "metadata": {},
   "outputs": [
    {
     "data": {
      "text/html": [
       "<div>\n",
       "<style scoped>\n",
       "    .dataframe tbody tr th:only-of-type {\n",
       "        vertical-align: middle;\n",
       "    }\n",
       "\n",
       "    .dataframe tbody tr th {\n",
       "        vertical-align: top;\n",
       "    }\n",
       "\n",
       "    .dataframe thead th {\n",
       "        text-align: right;\n",
       "    }\n",
       "</style>\n",
       "<table border=\"1\" class=\"dataframe\">\n",
       "  <thead>\n",
       "    <tr style=\"text-align: right;\">\n",
       "      <th></th>\n",
       "      <th>company</th>\n",
       "      <th>date</th>\n",
       "      <th>종가</th>\n",
       "      <th>전일비</th>\n",
       "      <th>등락률</th>\n",
       "    </tr>\n",
       "  </thead>\n",
       "  <tbody>\n",
       "    <tr>\n",
       "      <th>8072</th>\n",
       "      <td>두바이유선물</td>\n",
       "      <td>2022-02-09</td>\n",
       "      <td>89.883</td>\n",
       "      <td>0.601</td>\n",
       "      <td>0.67</td>\n",
       "    </tr>\n",
       "    <tr>\n",
       "      <th>8073</th>\n",
       "      <td>두바이유선물</td>\n",
       "      <td>2022-02-08</td>\n",
       "      <td>89.282</td>\n",
       "      <td>-1.475</td>\n",
       "      <td>-1.63</td>\n",
       "    </tr>\n",
       "    <tr>\n",
       "      <th>8074</th>\n",
       "      <td>두바이유선물</td>\n",
       "      <td>2022-02-07</td>\n",
       "      <td>90.757</td>\n",
       "      <td>-0.299</td>\n",
       "      <td>-0.33</td>\n",
       "    </tr>\n",
       "    <tr>\n",
       "      <th>8075</th>\n",
       "      <td>두바이유선물</td>\n",
       "      <td>2022-02-04</td>\n",
       "      <td>91.056</td>\n",
       "      <td>1.900</td>\n",
       "      <td>2.13</td>\n",
       "    </tr>\n",
       "  </tbody>\n",
       "</table>\n",
       "</div>"
      ],
      "text/plain": [
       "     company       date      종가    전일비   등락률\n",
       "8072  두바이유선물 2022-02-09  89.883  0.601  0.67\n",
       "8073  두바이유선물 2022-02-08  89.282 -1.475 -1.63\n",
       "8074  두바이유선물 2022-02-07  90.757 -0.299 -0.33\n",
       "8075  두바이유선물 2022-02-04  91.056  1.900  2.13"
      ]
     },
     "execution_count": 109,
     "metadata": {},
     "output_type": "execute_result"
    }
   ],
   "source": [
    "# 단위기간별 최대 최소 포함한 데이터프레임 만들기\n",
    "\n",
    "df_filtered.head()"
   ]
  },
  {
   "cell_type": "code",
   "execution_count": 125,
   "id": "e64c5d43",
   "metadata": {},
   "outputs": [
    {
     "data": {
      "text/plain": [
       "8072   2022-02-09\n",
       "8073   2022-02-08\n",
       "8074   2022-02-07\n",
       "8075   2022-02-04\n",
       "Name: date, dtype: datetime64[ns]"
      ]
     },
     "execution_count": 125,
     "metadata": {},
     "output_type": "execute_result"
    }
   ],
   "source": [
    "pd.to_datetime(df_filtered['date'])"
   ]
  },
  {
   "cell_type": "code",
   "execution_count": 126,
   "id": "0b4cc8fe",
   "metadata": {},
   "outputs": [
    {
     "data": {
      "text/html": [
       "<div>\n",
       "<style scoped>\n",
       "    .dataframe tbody tr th:only-of-type {\n",
       "        vertical-align: middle;\n",
       "    }\n",
       "\n",
       "    .dataframe tbody tr th {\n",
       "        vertical-align: top;\n",
       "    }\n",
       "\n",
       "    .dataframe thead th {\n",
       "        text-align: right;\n",
       "    }\n",
       "</style>\n",
       "<table border=\"1\" class=\"dataframe\">\n",
       "  <thead>\n",
       "    <tr style=\"text-align: right;\">\n",
       "      <th></th>\n",
       "      <th>company</th>\n",
       "      <th>date</th>\n",
       "      <th>종가</th>\n",
       "      <th>전일비</th>\n",
       "      <th>등락률</th>\n",
       "    </tr>\n",
       "  </thead>\n",
       "  <tbody>\n",
       "    <tr>\n",
       "      <th>8072</th>\n",
       "      <td>두바이유선물</td>\n",
       "      <td>2022-02-09</td>\n",
       "      <td>89.883</td>\n",
       "      <td>0.601</td>\n",
       "      <td>0.67</td>\n",
       "    </tr>\n",
       "    <tr>\n",
       "      <th>8073</th>\n",
       "      <td>두바이유선물</td>\n",
       "      <td>2022-02-08</td>\n",
       "      <td>89.282</td>\n",
       "      <td>-1.475</td>\n",
       "      <td>-1.63</td>\n",
       "    </tr>\n",
       "    <tr>\n",
       "      <th>8074</th>\n",
       "      <td>두바이유선물</td>\n",
       "      <td>2022-02-07</td>\n",
       "      <td>90.757</td>\n",
       "      <td>-0.299</td>\n",
       "      <td>-0.33</td>\n",
       "    </tr>\n",
       "    <tr>\n",
       "      <th>8075</th>\n",
       "      <td>두바이유선물</td>\n",
       "      <td>2022-02-04</td>\n",
       "      <td>91.056</td>\n",
       "      <td>1.900</td>\n",
       "      <td>2.13</td>\n",
       "    </tr>\n",
       "  </tbody>\n",
       "</table>\n",
       "</div>"
      ],
      "text/plain": [
       "     company       date      종가    전일비   등락률\n",
       "8072  두바이유선물 2022-02-09  89.883  0.601  0.67\n",
       "8073  두바이유선물 2022-02-08  89.282 -1.475 -1.63\n",
       "8074  두바이유선물 2022-02-07  90.757 -0.299 -0.33\n",
       "8075  두바이유선물 2022-02-04  91.056  1.900  2.13"
      ]
     },
     "execution_count": 126,
     "metadata": {},
     "output_type": "execute_result"
    }
   ],
   "source": [
    "df_filtered"
   ]
  },
  {
   "cell_type": "code",
   "execution_count": 144,
   "id": "c1f5b419",
   "metadata": {},
   "outputs": [
    {
     "name": "stdout",
     "output_type": "stream",
     "text": [
      "<class 'pandas._libs.tslibs.timestamps.Timestamp'>\n",
      "2022-02-09 00:00:00\n"
     ]
    },
    {
     "data": {
      "text/plain": [
       "89.883"
      ]
     },
     "execution_count": 144,
     "metadata": {},
     "output_type": "execute_result"
    }
   ],
   "source": [
    "start_date = '2022-02-09'\n",
    "# start_date = datetime.strptime(start_date,\"%Y-%m-%d\")\n",
    "start_date = pd.to_datetime(start_date)\n",
    "print(type(start_date))\n",
    "print(start_date)\n",
    "\n",
    "df_filtered[df_filtered['date']== start_date]['종가'].values[0]"
   ]
  },
  {
   "cell_type": "code",
   "execution_count": 187,
   "id": "614f28b7",
   "metadata": {},
   "outputs": [
    {
     "name": "stderr",
     "output_type": "stream",
     "text": [
      "C:\\Users\\bitcamp\\AppData\\Local\\Temp/ipykernel_12332/4162867415.py:4: SettingWithCopyWarning:\n",
      "\n",
      "\n",
      "A value is trying to be set on a copy of a slice from a DataFrame.\n",
      "Try using .loc[row_indexer,col_indexer] = value instead\n",
      "\n",
      "See the caveats in the documentation: https://pandas.pydata.org/pandas-docs/stable/user_guide/indexing.html#returning-a-view-versus-a-copy\n",
      "\n"
     ]
    },
    {
     "name": "stdout",
     "output_type": "stream",
     "text": [
      "2017-02-10 00:00:00\n",
      "2017-02-10 00:00:00\n"
     ]
    },
    {
     "ename": "OverflowError",
     "evalue": "date value out of range",
     "output_type": "error",
     "traceback": [
      "\u001b[1;31m---------------------------------------------------------------------------\u001b[0m",
      "\u001b[1;31mOverflowError\u001b[0m                             Traceback (most recent call last)",
      "\u001b[1;32m~\\AppData\\Local\\Temp/ipykernel_12332/4162867415.py\u001b[0m in \u001b[0;36m<module>\u001b[1;34m\u001b[0m\n\u001b[0;32m     25\u001b[0m \u001b[1;33m\u001b[0m\u001b[0m\n\u001b[0;32m     26\u001b[0m     \u001b[1;32mwhile\u001b[0m \u001b[0mnext_date\u001b[0m \u001b[1;32mnot\u001b[0m \u001b[1;32min\u001b[0m \u001b[0mdf_filtered\u001b[0m\u001b[1;33m[\u001b[0m\u001b[1;34m'date'\u001b[0m\u001b[1;33m]\u001b[0m\u001b[1;33m:\u001b[0m\u001b[1;33m\u001b[0m\u001b[1;33m\u001b[0m\u001b[0m\n\u001b[1;32m---> 27\u001b[1;33m         \u001b[0mnext_date\u001b[0m \u001b[1;33m=\u001b[0m \u001b[0mnext_date\u001b[0m \u001b[1;33m+\u001b[0m \u001b[0mtimedelta\u001b[0m\u001b[1;33m(\u001b[0m\u001b[0mdays\u001b[0m\u001b[1;33m=\u001b[0m\u001b[1;36m1\u001b[0m\u001b[1;33m)\u001b[0m\u001b[1;33m\u001b[0m\u001b[1;33m\u001b[0m\u001b[0m\n\u001b[0m\u001b[0;32m     28\u001b[0m     \u001b[1;32melse\u001b[0m\u001b[1;33m:\u001b[0m\u001b[1;33m\u001b[0m\u001b[1;33m\u001b[0m\u001b[0m\n\u001b[0;32m     29\u001b[0m         \u001b[0mnext_date\u001b[0m \u001b[1;33m=\u001b[0m \u001b[0mnext_date\u001b[0m\u001b[1;33m\u001b[0m\u001b[1;33m\u001b[0m\u001b[0m\n",
      "\u001b[1;31mOverflowError\u001b[0m: date value out of range"
     ]
    }
   ],
   "source": [
    "# 시작날짜, 최대 최소 포함한 데이터프레임\n",
    "df = pd.read_csv('daum_oil.csv')\n",
    "df_dubai = df[df['company'] == '두바이유선물']\n",
    "df_dubai['date'] = pd.to_datetime(df_dubai['date'])\n",
    "\n",
    "\n",
    "start_date = '2017.02.10'\n",
    "unit_time = 5\n",
    "start_date = datetime.strptime(start_date,\"%Y.%m.%d\")\n",
    "last_date = datetime(2022,2,9)  # 유가데이터 9일까지 추후 10일로 수정필요할 수도 있음\n",
    "print(start_date)\n",
    "\n",
    "dic = dict()\n",
    "start_lst = []\n",
    "max_lst=[]\n",
    "min_lst=[]\n",
    "start_price=[]\n",
    "close_price= []\n",
    "\n",
    "while start_date < last_date: # 2022.02.09 까지 돌아\n",
    "    \n",
    "    \n",
    "    next_date = start_date + timedelta(days= unit_time )\n",
    "    print(start_date)\n",
    "    temp_date = start_date\n",
    "    \n",
    "    df_filtered = df_dubai[df_dubai['date'].between(start_date, next_date)]\n",
    "            \n",
    "                \n",
    "    #최대\n",
    "    max_p = df_filtered['종가'].max()\n",
    "\n",
    "    #최소\n",
    "    min_p = df_filtered['종가'].min()\n",
    "\n",
    "    start_lst.append(start_date)\n",
    "    max_lst.append(max_p)\n",
    "    min_lst.append(min_p)\n",
    "    \n",
    "     #시가\n",
    "    start_p = df_filtered[df_filtered['date']== start_date]['종가'].values[0]\n",
    "    print(start_p)\n",
    "    start_price.append(start_p)\n",
    "    \n",
    "#    #종가\n",
    "    try:\n",
    "        close_p = df_filtered[df_filtered['date']== next_date]['종가'].values[0]\n",
    "    except:\n",
    "        close_p = \n",
    "    close_price.append(close_p)\n",
    "    \n",
    "    #start_date 단위기간 지난후로 다시 변경\n",
    "    start_date = next_date\n",
    "\n",
    "df_set = pd.DataFrame({'start_date': start_lst,'start_price':start_price, 'close_price':close_price ,'max':max_lst, 'min':min_lst})\n",
    "df_set\n",
    "\n",
    "# 'start_price':start_price"
   ]
  },
  {
   "cell_type": "code",
   "execution_count": 179,
   "id": "e8e8b2a7",
   "metadata": {
    "scrolled": true
   },
   "outputs": [
    {
     "data": {
      "text/plain": [
       "datetime.datetime(2017, 2, 21, 0, 0)"
      ]
     },
     "execution_count": 179,
     "metadata": {},
     "output_type": "execute_result"
    }
   ],
   "source": [
    "start_date + timedelta(days=1)"
   ]
  },
  {
   "cell_type": "code",
   "execution_count": 208,
   "id": "0aec4c97",
   "metadata": {},
   "outputs": [
    {
     "data": {
      "text/html": [
       "<div>\n",
       "<style scoped>\n",
       "    .dataframe tbody tr th:only-of-type {\n",
       "        vertical-align: middle;\n",
       "    }\n",
       "\n",
       "    .dataframe tbody tr th {\n",
       "        vertical-align: top;\n",
       "    }\n",
       "\n",
       "    .dataframe thead th {\n",
       "        text-align: right;\n",
       "    }\n",
       "</style>\n",
       "<table border=\"1\" class=\"dataframe\">\n",
       "  <thead>\n",
       "    <tr style=\"text-align: right;\">\n",
       "      <th></th>\n",
       "      <th>날짜</th>\n",
       "      <th>고가</th>\n",
       "      <th>저가</th>\n",
       "      <th>시가</th>\n",
       "      <th>종가</th>\n",
       "    </tr>\n",
       "  </thead>\n",
       "  <tbody>\n",
       "    <tr>\n",
       "      <th>0</th>\n",
       "      <td>2017-02-06</td>\n",
       "      <td>54.590</td>\n",
       "      <td>54.030</td>\n",
       "      <td>54.590</td>\n",
       "      <td>54.030</td>\n",
       "    </tr>\n",
       "    <tr>\n",
       "      <th>1</th>\n",
       "      <td>2017-02-13</td>\n",
       "      <td>54.270</td>\n",
       "      <td>54.120</td>\n",
       "      <td>54.270</td>\n",
       "      <td>54.220</td>\n",
       "    </tr>\n",
       "    <tr>\n",
       "      <th>2</th>\n",
       "      <td>2017-02-20</td>\n",
       "      <td>54.430</td>\n",
       "      <td>54.270</td>\n",
       "      <td>54.420</td>\n",
       "      <td>54.430</td>\n",
       "    </tr>\n",
       "    <tr>\n",
       "      <th>3</th>\n",
       "      <td>2017-02-27</td>\n",
       "      <td>54.950</td>\n",
       "      <td>53.860</td>\n",
       "      <td>54.860</td>\n",
       "      <td>54.320</td>\n",
       "    </tr>\n",
       "    <tr>\n",
       "      <th>4</th>\n",
       "      <td>2017-03-06</td>\n",
       "      <td>54.310</td>\n",
       "      <td>51.360</td>\n",
       "      <td>54.310</td>\n",
       "      <td>51.360</td>\n",
       "    </tr>\n",
       "    <tr>\n",
       "      <th>...</th>\n",
       "      <td>...</td>\n",
       "      <td>...</td>\n",
       "      <td>...</td>\n",
       "      <td>...</td>\n",
       "      <td>...</td>\n",
       "    </tr>\n",
       "    <tr>\n",
       "      <th>257</th>\n",
       "      <td>2022-01-10</td>\n",
       "      <td>82.269</td>\n",
       "      <td>80.789</td>\n",
       "      <td>80.789</td>\n",
       "      <td>82.269</td>\n",
       "    </tr>\n",
       "    <tr>\n",
       "      <th>258</th>\n",
       "      <td>2022-01-17</td>\n",
       "      <td>83.559</td>\n",
       "      <td>82.868</td>\n",
       "      <td>83.221</td>\n",
       "      <td>82.868</td>\n",
       "    </tr>\n",
       "    <tr>\n",
       "      <th>259</th>\n",
       "      <td>2022-01-24</td>\n",
       "      <td>83.455</td>\n",
       "      <td>83.213</td>\n",
       "      <td>83.213</td>\n",
       "      <td>83.455</td>\n",
       "    </tr>\n",
       "    <tr>\n",
       "      <th>260</th>\n",
       "      <td>2022-01-31</td>\n",
       "      <td>91.056</td>\n",
       "      <td>83.455</td>\n",
       "      <td>83.455</td>\n",
       "      <td>90.757</td>\n",
       "    </tr>\n",
       "    <tr>\n",
       "      <th>261</th>\n",
       "      <td>2022-02-07</td>\n",
       "      <td>89.883</td>\n",
       "      <td>89.282</td>\n",
       "      <td>89.282</td>\n",
       "      <td>89.883</td>\n",
       "    </tr>\n",
       "  </tbody>\n",
       "</table>\n",
       "<p>262 rows × 5 columns</p>\n",
       "</div>"
      ],
      "text/plain": [
       "            날짜      고가      저가      시가      종가\n",
       "0   2017-02-06  54.590  54.030  54.590  54.030\n",
       "1   2017-02-13  54.270  54.120  54.270  54.220\n",
       "2   2017-02-20  54.430  54.270  54.420  54.430\n",
       "3   2017-02-27  54.950  53.860  54.860  54.320\n",
       "4   2017-03-06  54.310  51.360  54.310  51.360\n",
       "..         ...     ...     ...     ...     ...\n",
       "257 2022-01-10  82.269  80.789  80.789  82.269\n",
       "258 2022-01-17  83.559  82.868  83.221  82.868\n",
       "259 2022-01-24  83.455  83.213  83.213  83.455\n",
       "260 2022-01-31  91.056  83.455  83.455  90.757\n",
       "261 2022-02-07  89.883  89.282  89.282  89.883\n",
       "\n",
       "[262 rows x 5 columns]"
      ]
     },
     "execution_count": 208,
     "metadata": {},
     "output_type": "execute_result"
    }
   ],
   "source": [
    "# 종합\n",
    "df_tq = df_dubai.set_index('date').loc['2017-2-10':'2022-02-10'].resample('W-MON',label = 'left', closed='right')['종가'].agg(['max','min','first','last'])\n",
    "df_tq = df_tq.reset_index()\n",
    "df_tq = df_tq.rename(columns={'date':'날짜','max':'고가', 'min':'저가', 'first':'시가', 'last': '종가'})\n",
    "df_tq"
   ]
  },
  {
   "cell_type": "code",
   "execution_count": 209,
   "id": "064de34a",
   "metadata": {
    "scrolled": true
   },
   "outputs": [
    {
     "data": {
      "application/vnd.plotly.v1+json": {
       "config": {
        "plotlyServerURL": "https://plot.ly"
       },
       "data": [
        {
         "close": [
          54.03,
          54.22,
          54.43,
          54.32,
          51.36,
          51.32,
          51.01,
          51.35,
          53.83,
          53.43,
          52.31,
          50.69,
          48.54,
          50.04,
          50.93,
          50.59,
          48.25,
          47.48,
          46.56,
          46.25,
          48.54,
          46.03,
          46.98,
          47.11,
          51.27,
          51,
          49.85,
          50.09,
          50.24,
          51.49,
          52.35,
          53.25,
          53.92,
          54.72,
          54.1,
          55.34,
          55.14,
          55.54,
          61.83,
          61.18,
          60.55,
          60.89,
          60.02,
          61.62,
          60.8,
          61.15,
          64.3,
          65.09,
          66.36,
          65.97,
          66.23,
          64.99,
          61.16,
          62.28,
          62.75,
          61.94,
          61.32,
          61.86,
          62.77,
          64.62,
          65.83,
          67.25,
          68.41,
          71.62,
          72.83,
          74.02,
          74.79,
          74.45,
          73.15,
          null,
          null,
          null,
          null,
          null,
          null,
          72.67,
          73.15,
          72.35,
          71.52,
          71.18,
          72.45,
          75.56,
          75.56,
          76.06,
          77.02,
          82.82,
          82.58,
          80.39,
          80.19,
          79.41,
          71.88,
          69.81,
          67.68,
          65.63,
          60.52,
          59.01,
          59.14,
          56.93,
          57.318,
          55.625,
          57.636,
          59.52,
          58.918,
          62.549,
          61.648,
          64.679,
          64.505,
          65.609,
          66.589,
          67.021,
          66.891,
          68.457,
          70.093,
          69.825,
          71.018,
          70.93,
          70.556,
          69.641,
          70.908,
          69.426,
          60.404,
          60.585,
          59.939,
          61.64,
          63.192,
          62.613,
          64.306,
          62.591,
          63.162,
          58.86,
          58.35,
          58.93,
          58.865,
          59.106,
          60.058,
          63.12,
          61.637,
          61.115,
          58.223,
          58.935,
          58.866,
          59.453,
          59.369,
          61.095,
          61.557,
          61.94,
          61.974,
          63.34,
          64.192,
          64.651,
          64.847,
          68.275,
          65.722,
          65.745,
          64.369,
          64.286,
          52.999,
          55.342,
          54.681,
          54.219,
          36.264,
          36.964,
          34.046,
          33.844,
          27.449,
          26.157,
          22.235,
          20.374,
          20.387,
          27.267,
          30.547,
          30.341,
          30.467,
          40.695,
          39.502,
          41.12,
          40.796,
          42.89,
          43.097,
          43.054,
          43.332,
          43.278,
          43.779,
          43.78,
          43.913,
          43.987,
          42.612,
          40.154,
          41.409,
          41.601,
          40.42,
          40.777,
          41.373,
          41.142,
          40.661,
          41.405,
          42.524,
          43.076,
          43.52,
          48.227,
          49.461,
          50.344,
          49.773,
          49.815,
          55.059,
          54.532,
          54.759,
          54.772,
          59.361,
          60.226,
          60.62,
          60.855,
          65.836,
          66.375,
          64.707,
          64.435,
          64.414,
          61.302,
          63.475,
          62.801,
          62.894,
          66.203,
          66.825,
          66.264,
          66.275,
          69.839,
          70.78,
          71.481,
          71.536,
          71.573,
          73.539,
          71.007,
          72.83,
          72.903,
          68.494,
          69.527,
          68.76,
          69.465,
          70.641,
          71.111,
          71.358,
          72.611,
          72.608,
          80.679,
          81.311,
          81.732,
          81.585,
          81.616,
          81.411,
          80.548,
          80.305,
          71.654,
          72.708,
          71.655,
          72.99,
          73.185,
          78.887,
          82.269,
          82.868,
          83.455,
          90.757,
          89.883
         ],
         "high": [
          54.59,
          54.27,
          54.43,
          54.95,
          54.31,
          51.4,
          51.09,
          51.84,
          53.83,
          54.08,
          53.19,
          52.37,
          49.74,
          50.04,
          50.93,
          51.05,
          50.58,
          48.76,
          47.68,
          46.32,
          48.54,
          47.01,
          47.23,
          47.46,
          51.27,
          51.1,
          50.8,
          50.45,
          50.36,
          51.6,
          52.78,
          53.28,
          53.92,
          55.25,
          55.22,
          55.34,
          55.48,
          55.55,
          61.83,
          61.56,
          60.82,
          60.92,
          61.23,
          61.62,
          60.8,
          61.3,
          64.3,
          65.31,
          66.36,
          66.13,
          66.32,
          66.73,
          64.27,
          62.28,
          62.75,
          62.72,
          62.21,
          61.96,
          62.84,
          66.19,
          65.83,
          67.8,
          68.41,
          71.62,
          72.83,
          74.02,
          74.79,
          74.98,
          74.79,
          null,
          null,
          null,
          null,
          null,
          null,
          72.72,
          73.15,
          72.37,
          72.91,
          71.41,
          72.45,
          75.56,
          76.4,
          77.1,
          77.02,
          82.82,
          84.12,
          83.26,
          80.85,
          79.46,
          79.35,
          71.06,
          67.68,
          66.47,
          65.59,
          61.05,
          59.92,
          58.21,
          57.42,
          55.625,
          59.088,
          59.52,
          59.226,
          62.624,
          62.708,
          64.679,
          64.954,
          65.609,
          66.589,
          67.184,
          67.338,
          68.457,
          70.093,
          70.39,
          71.018,
          71.204,
          71.649,
          69.898,
          71.154,
          70.994,
          69.656,
          61.264,
          60.941,
          61.811,
          63.192,
          62.613,
          64.616,
          63.189,
          63.168,
          63.254,
          58.35,
          60.035,
          59.3,
          59.107,
          60.058,
          63.12,
          61.637,
          61.241,
          61.115,
          59.715,
          59.175,
          59.519,
          59.415,
          61.492,
          61.936,
          62.074,
          61.974,
          63.428,
          64.192,
          64.697,
          64.847,
          68.275,
          67.919,
          65.837,
          65.592,
          64.371,
          64.286,
          55.342,
          55.649,
          54.544,
          54.219,
          38.137,
          35.454,
          34.073,
          33.7,
          27.449,
          22.235,
          20.449,
          20.41,
          28.936,
          30.547,
          30.623,
          30.59,
          41.32,
          41.524,
          41.12,
          41.039,
          42.89,
          43.402,
          43.785,
          43.616,
          43.294,
          43.875,
          43.97,
          43.962,
          43.987,
          43.987,
          40.776,
          42.021,
          41.601,
          41.531,
          41.875,
          41.776,
          41.59,
          40.886,
          41.405,
          42.524,
          43.076,
          43.52,
          48.352,
          49.461,
          50.344,
          49.836,
          49.817,
          55.059,
          55.367,
          54.967,
          54.824,
          59.361,
          60.226,
          60.889,
          60.855,
          66.895,
          66.651,
          66.375,
          64.503,
          64.414,
          61.456,
          63.476,
          63.228,
          62.895,
          66.655,
          66.825,
          66.643,
          66.316,
          70.031,
          70.78,
          71.559,
          71.654,
          71.573,
          73.716,
          74.359,
          72.869,
          72.903,
          72.903,
          70.438,
          69.334,
          69.465,
          70.641,
          71.111,
          72.089,
          72.611,
          72.627,
          80.679,
          81.51,
          81.812,
          81.822,
          81.616,
          82.579,
          81.665,
          81.219,
          80.276,
          73.693,
          73.018,
          72.99,
          73.206,
          79.695,
          82.269,
          83.559,
          83.455,
          91.056,
          89.883
         ],
         "low": [
          54.03,
          54.12,
          54.27,
          53.86,
          51.36,
          50.96,
          50.96,
          51.08,
          52.19,
          53.43,
          52.31,
          50.69,
          47.67,
          48.1,
          50.04,
          50.5,
          48.25,
          47.12,
          46.56,
          45.99,
          46.39,
          45.89,
          46.43,
          47,
          47.42,
          50.42,
          49.85,
          49.57,
          50.14,
          50.22,
          52.02,
          52.58,
          53.09,
          53.64,
          53.95,
          54.54,
          55.13,
          55.34,
          58.74,
          61.14,
          60.22,
          60.63,
          60.02,
          59.34,
          60.12,
          61.02,
          61.52,
          64.02,
          65.81,
          65.82,
          66.21,
          64.99,
          61.16,
          61.29,
          62.43,
          60.39,
          60.44,
          61.17,
          62.27,
          62.68,
          64.65,
          67.25,
          67.38,
          68.16,
          70.44,
          71.73,
          74.04,
          74.45,
          73.15,
          null,
          null,
          null,
          null,
          null,
          null,
          72.44,
          72.82,
          70.83,
          71.14,
          70.53,
          71.38,
          72.39,
          74.69,
          76.06,
          76.44,
          77.1,
          82.58,
          80.19,
          80.03,
          79.28,
          71.54,
          69.81,
          66.91,
          65.35,
          58.51,
          59.01,
          59.14,
          56.93,
          57.277,
          53.893,
          56.871,
          58.508,
          58.918,
          59.049,
          61.648,
          62.509,
          64.505,
          64.527,
          65.863,
          66.634,
          66.891,
          66.894,
          68.824,
          69.656,
          70.153,
          70.93,
          70.556,
          69.412,
          70.402,
          69.37,
          60.404,
          59.566,
          59.374,
          60.636,
          61.633,
          61.025,
          62.77,
          62.313,
          63.019,
          58.86,
          56.401,
          58.091,
          58.865,
          58.977,
          56.69,
          58.584,
          61.129,
          61.088,
          57.447,
          57.913,
          58.859,
          59.034,
          59.323,
          60.558,
          61.29,
          60.98,
          61.947,
          61.974,
          62.985,
          64.535,
          64.79,
          64.889,
          65.722,
          65.488,
          64.369,
          64.169,
          52.999,
          53.487,
          54.681,
          54.219,
          36.264,
          36.964,
          33.613,
          33.844,
          27.449,
          26.157,
          21.964,
          19.069,
          20.383,
          27.14,
          26.685,
          30.341,
          30.429,
          30.467,
          39.442,
          40.228,
          40.642,
          40.791,
          42.789,
          42.998,
          43.284,
          43.278,
          43.278,
          43.378,
          43.693,
          43.913,
          42.612,
          40.154,
          40.693,
          41.486,
          40.42,
          40.777,
          41.236,
          41.067,
          40.661,
          39.285,
          41.405,
          42.489,
          43.396,
          43.394,
          48.283,
          49.461,
          49.573,
          49.78,
          49.815,
          54.532,
          54.532,
          54.762,
          54.772,
          59.555,
          60.196,
          60.634,
          60.855,
          65.373,
          64.569,
          63.722,
          64.407,
          60.958,
          61.529,
          62.68,
          62.746,
          62.894,
          65.424,
          65.394,
          66.264,
          66.275,
          70.342,
          70.94,
          71.414,
          71.569,
          72.083,
          71.007,
          71.284,
          72.81,
          68.494,
          69.527,
          67.6,
          69.241,
          69.485,
          69.631,
          71.195,
          71.575,
          72.572,
          78.693,
          80.447,
          81.436,
          81.549,
          78.946,
          81.273,
          80.33,
          80.084,
          68.909,
          72.708,
          71.655,
          72.424,
          72.99,
          73.185,
          80.789,
          82.868,
          83.213,
          83.455,
          89.282
         ],
         "open": [
          54.59,
          54.27,
          54.42,
          54.86,
          54.31,
          50.96,
          51.09,
          51.08,
          52.19,
          54.08,
          53.19,
          52.37,
          49.3,
          48.1,
          50.04,
          51.05,
          50.58,
          48.76,
          47.68,
          46.32,
          46.39,
          46.8,
          46.43,
          47.14,
          47.42,
          50.42,
          50.8,
          49.9,
          50.14,
          50.25,
          52.02,
          52.58,
          53.09,
          53.77,
          54.42,
          54.61,
          55.37,
          55.39,
          59.03,
          61.2,
          60.69,
          60.63,
          60.8,
          60.55,
          60.56,
          61.02,
          61.61,
          64.02,
          65.81,
          66.05,
          66.21,
          66.2,
          64.27,
          61.29,
          62.43,
          62.72,
          62.21,
          61.17,
          62.27,
          62.76,
          65.16,
          67.27,
          67.38,
          68.2,
          70.55,
          71.73,
          74.04,
          74.91,
          74.58,
          null,
          null,
          null,
          null,
          null,
          null,
          72.72,
          72.82,
          72.37,
          72.91,
          71.41,
          71.38,
          72.39,
          76.4,
          76.72,
          76.5,
          77.14,
          82.66,
          83.26,
          80.85,
          79.32,
          79.35,
          70.99,
          66.91,
          66.06,
          65.59,
          61.05,
          59.14,
          57.92,
          57.42,
          53.893,
          56.871,
          58.508,
          59.096,
          59.049,
          62.079,
          62.509,
          64.659,
          64.527,
          65.863,
          66.634,
          67.047,
          66.966,
          68.894,
          69.656,
          70.24,
          71.099,
          70.95,
          69.412,
          70.402,
          70.994,
          69.656,
          60.825,
          60.941,
          60.636,
          61.633,
          61.025,
          62.77,
          63.189,
          63.074,
          63.225,
          58.275,
          60.035,
          59.115,
          58.977,
          56.69,
          59.752,
          61.32,
          61.241,
          61.115,
          57.913,
          58.859,
          59.034,
          59.415,
          61.492,
          61.29,
          60.98,
          61.947,
          61.974,
          63.5,
          64.535,
          64.79,
          64.889,
          67.919,
          65.837,
          65.592,
          64.34,
          64.286,
          53.487,
          55.145,
          54.544,
          54.219,
          38.137,
          35.454,
          33.986,
          33.7,
          27.449,
          21.964,
          19.069,
          20.41,
          28.936,
          26.811,
          30.419,
          30.59,
          30.467,
          40.823,
          40.284,
          41.039,
          40.791,
          43.088,
          43.218,
          43.581,
          43.279,
          43.278,
          43.378,
          43.962,
          43.913,
          43.987,
          40.198,
          40.693,
          41.496,
          41.531,
          41.563,
          41.236,
          41.59,
          40.886,
          40.661,
          41.405,
          42.489,
          43.396,
          43.394,
          48.283,
          49.461,
          49.573,
          49.78,
          49.815,
          55.367,
          54.532,
          54.824,
          54.772,
          59.631,
          60.596,
          60.634,
          60.855,
          65.373,
          66.375,
          63.722,
          64.407,
          60.958,
          61.529,
          63.228,
          62.746,
          62.894,
          66.324,
          66.643,
          66.264,
          66.275,
          70.362,
          71.39,
          71.414,
          71.569,
          72.929,
          74.359,
          71.284,
          72.811,
          72.903,
          69.713,
          69.334,
          69.307,
          69.485,
          69.711,
          71.195,
          71.575,
          72.627,
          79.71,
          80.58,
          81.614,
          81.822,
          81.585,
          82.579,
          81.665,
          81.219,
          80.276,
          73.538,
          72.223,
          72.424,
          72.99,
          73.185,
          80.789,
          83.221,
          83.213,
          83.455,
          89.282
         ],
         "type": "candlestick",
         "x": [
          "2017-02-06T00:00:00",
          "2017-02-13T00:00:00",
          "2017-02-20T00:00:00",
          "2017-02-27T00:00:00",
          "2017-03-06T00:00:00",
          "2017-03-13T00:00:00",
          "2017-03-20T00:00:00",
          "2017-03-27T00:00:00",
          "2017-04-03T00:00:00",
          "2017-04-10T00:00:00",
          "2017-04-17T00:00:00",
          "2017-04-24T00:00:00",
          "2017-05-01T00:00:00",
          "2017-05-08T00:00:00",
          "2017-05-15T00:00:00",
          "2017-05-22T00:00:00",
          "2017-05-29T00:00:00",
          "2017-06-05T00:00:00",
          "2017-06-12T00:00:00",
          "2017-06-19T00:00:00",
          "2017-06-26T00:00:00",
          "2017-07-03T00:00:00",
          "2017-07-10T00:00:00",
          "2017-07-17T00:00:00",
          "2017-07-24T00:00:00",
          "2017-07-31T00:00:00",
          "2017-08-07T00:00:00",
          "2017-08-14T00:00:00",
          "2017-08-21T00:00:00",
          "2017-08-28T00:00:00",
          "2017-09-04T00:00:00",
          "2017-09-11T00:00:00",
          "2017-09-18T00:00:00",
          "2017-09-25T00:00:00",
          "2017-10-02T00:00:00",
          "2017-10-09T00:00:00",
          "2017-10-16T00:00:00",
          "2017-10-23T00:00:00",
          "2017-10-30T00:00:00",
          "2017-11-06T00:00:00",
          "2017-11-13T00:00:00",
          "2017-11-20T00:00:00",
          "2017-11-27T00:00:00",
          "2017-12-04T00:00:00",
          "2017-12-11T00:00:00",
          "2017-12-18T00:00:00",
          "2017-12-25T00:00:00",
          "2018-01-01T00:00:00",
          "2018-01-08T00:00:00",
          "2018-01-15T00:00:00",
          "2018-01-22T00:00:00",
          "2018-01-29T00:00:00",
          "2018-02-05T00:00:00",
          "2018-02-12T00:00:00",
          "2018-02-19T00:00:00",
          "2018-02-26T00:00:00",
          "2018-03-05T00:00:00",
          "2018-03-12T00:00:00",
          "2018-03-19T00:00:00",
          "2018-03-26T00:00:00",
          "2018-04-02T00:00:00",
          "2018-04-09T00:00:00",
          "2018-04-16T00:00:00",
          "2018-04-23T00:00:00",
          "2018-04-30T00:00:00",
          "2018-05-07T00:00:00",
          "2018-05-14T00:00:00",
          "2018-05-21T00:00:00",
          "2018-05-28T00:00:00",
          "2018-06-04T00:00:00",
          "2018-06-11T00:00:00",
          "2018-06-18T00:00:00",
          "2018-06-25T00:00:00",
          "2018-07-02T00:00:00",
          "2018-07-09T00:00:00",
          "2018-07-16T00:00:00",
          "2018-07-23T00:00:00",
          "2018-07-30T00:00:00",
          "2018-08-06T00:00:00",
          "2018-08-13T00:00:00",
          "2018-08-20T00:00:00",
          "2018-08-27T00:00:00",
          "2018-09-03T00:00:00",
          "2018-09-10T00:00:00",
          "2018-09-17T00:00:00",
          "2018-09-24T00:00:00",
          "2018-10-01T00:00:00",
          "2018-10-08T00:00:00",
          "2018-10-15T00:00:00",
          "2018-10-22T00:00:00",
          "2018-10-29T00:00:00",
          "2018-11-05T00:00:00",
          "2018-11-12T00:00:00",
          "2018-11-19T00:00:00",
          "2018-11-26T00:00:00",
          "2018-12-03T00:00:00",
          "2018-12-10T00:00:00",
          "2018-12-17T00:00:00",
          "2018-12-24T00:00:00",
          "2018-12-31T00:00:00",
          "2019-01-07T00:00:00",
          "2019-01-14T00:00:00",
          "2019-01-21T00:00:00",
          "2019-01-28T00:00:00",
          "2019-02-04T00:00:00",
          "2019-02-11T00:00:00",
          "2019-02-18T00:00:00",
          "2019-02-25T00:00:00",
          "2019-03-04T00:00:00",
          "2019-03-11T00:00:00",
          "2019-03-18T00:00:00",
          "2019-03-25T00:00:00",
          "2019-04-01T00:00:00",
          "2019-04-08T00:00:00",
          "2019-04-15T00:00:00",
          "2019-04-22T00:00:00",
          "2019-04-29T00:00:00",
          "2019-05-06T00:00:00",
          "2019-05-13T00:00:00",
          "2019-05-20T00:00:00",
          "2019-05-27T00:00:00",
          "2019-06-03T00:00:00",
          "2019-06-10T00:00:00",
          "2019-06-17T00:00:00",
          "2019-06-24T00:00:00",
          "2019-07-01T00:00:00",
          "2019-07-08T00:00:00",
          "2019-07-15T00:00:00",
          "2019-07-22T00:00:00",
          "2019-07-29T00:00:00",
          "2019-08-05T00:00:00",
          "2019-08-12T00:00:00",
          "2019-08-19T00:00:00",
          "2019-08-26T00:00:00",
          "2019-09-02T00:00:00",
          "2019-09-09T00:00:00",
          "2019-09-16T00:00:00",
          "2019-09-23T00:00:00",
          "2019-09-30T00:00:00",
          "2019-10-07T00:00:00",
          "2019-10-14T00:00:00",
          "2019-10-21T00:00:00",
          "2019-10-28T00:00:00",
          "2019-11-04T00:00:00",
          "2019-11-11T00:00:00",
          "2019-11-18T00:00:00",
          "2019-11-25T00:00:00",
          "2019-12-02T00:00:00",
          "2019-12-09T00:00:00",
          "2019-12-16T00:00:00",
          "2019-12-23T00:00:00",
          "2019-12-30T00:00:00",
          "2020-01-06T00:00:00",
          "2020-01-13T00:00:00",
          "2020-01-20T00:00:00",
          "2020-01-27T00:00:00",
          "2020-02-03T00:00:00",
          "2020-02-10T00:00:00",
          "2020-02-17T00:00:00",
          "2020-02-24T00:00:00",
          "2020-03-02T00:00:00",
          "2020-03-09T00:00:00",
          "2020-03-16T00:00:00",
          "2020-03-23T00:00:00",
          "2020-03-30T00:00:00",
          "2020-04-06T00:00:00",
          "2020-04-13T00:00:00",
          "2020-04-20T00:00:00",
          "2020-04-27T00:00:00",
          "2020-05-04T00:00:00",
          "2020-05-11T00:00:00",
          "2020-05-18T00:00:00",
          "2020-05-25T00:00:00",
          "2020-06-01T00:00:00",
          "2020-06-08T00:00:00",
          "2020-06-15T00:00:00",
          "2020-06-22T00:00:00",
          "2020-06-29T00:00:00",
          "2020-07-06T00:00:00",
          "2020-07-13T00:00:00",
          "2020-07-20T00:00:00",
          "2020-07-27T00:00:00",
          "2020-08-03T00:00:00",
          "2020-08-10T00:00:00",
          "2020-08-17T00:00:00",
          "2020-08-24T00:00:00",
          "2020-08-31T00:00:00",
          "2020-09-07T00:00:00",
          "2020-09-14T00:00:00",
          "2020-09-21T00:00:00",
          "2020-09-28T00:00:00",
          "2020-10-05T00:00:00",
          "2020-10-12T00:00:00",
          "2020-10-19T00:00:00",
          "2020-10-26T00:00:00",
          "2020-11-02T00:00:00",
          "2020-11-09T00:00:00",
          "2020-11-16T00:00:00",
          "2020-11-23T00:00:00",
          "2020-11-30T00:00:00",
          "2020-12-07T00:00:00",
          "2020-12-14T00:00:00",
          "2020-12-21T00:00:00",
          "2020-12-28T00:00:00",
          "2021-01-04T00:00:00",
          "2021-01-11T00:00:00",
          "2021-01-18T00:00:00",
          "2021-01-25T00:00:00",
          "2021-02-01T00:00:00",
          "2021-02-08T00:00:00",
          "2021-02-15T00:00:00",
          "2021-02-22T00:00:00",
          "2021-03-01T00:00:00",
          "2021-03-08T00:00:00",
          "2021-03-15T00:00:00",
          "2021-03-22T00:00:00",
          "2021-03-29T00:00:00",
          "2021-04-05T00:00:00",
          "2021-04-12T00:00:00",
          "2021-04-19T00:00:00",
          "2021-04-26T00:00:00",
          "2021-05-03T00:00:00",
          "2021-05-10T00:00:00",
          "2021-05-17T00:00:00",
          "2021-05-24T00:00:00",
          "2021-05-31T00:00:00",
          "2021-06-07T00:00:00",
          "2021-06-14T00:00:00",
          "2021-06-21T00:00:00",
          "2021-06-28T00:00:00",
          "2021-07-05T00:00:00",
          "2021-07-12T00:00:00",
          "2021-07-19T00:00:00",
          "2021-07-26T00:00:00",
          "2021-08-02T00:00:00",
          "2021-08-09T00:00:00",
          "2021-08-16T00:00:00",
          "2021-08-23T00:00:00",
          "2021-08-30T00:00:00",
          "2021-09-06T00:00:00",
          "2021-09-13T00:00:00",
          "2021-09-20T00:00:00",
          "2021-09-27T00:00:00",
          "2021-10-04T00:00:00",
          "2021-10-11T00:00:00",
          "2021-10-18T00:00:00",
          "2021-10-25T00:00:00",
          "2021-11-01T00:00:00",
          "2021-11-08T00:00:00",
          "2021-11-15T00:00:00",
          "2021-11-22T00:00:00",
          "2021-11-29T00:00:00",
          "2021-12-06T00:00:00",
          "2021-12-13T00:00:00",
          "2021-12-20T00:00:00",
          "2021-12-27T00:00:00",
          "2022-01-03T00:00:00",
          "2022-01-10T00:00:00",
          "2022-01-17T00:00:00",
          "2022-01-24T00:00:00",
          "2022-01-31T00:00:00",
          "2022-02-07T00:00:00"
         ]
        }
       ],
       "layout": {
        "template": {
         "data": {
          "bar": [
           {
            "error_x": {
             "color": "#2a3f5f"
            },
            "error_y": {
             "color": "#2a3f5f"
            },
            "marker": {
             "line": {
              "color": "#E5ECF6",
              "width": 0.5
             },
             "pattern": {
              "fillmode": "overlay",
              "size": 10,
              "solidity": 0.2
             }
            },
            "type": "bar"
           }
          ],
          "barpolar": [
           {
            "marker": {
             "line": {
              "color": "#E5ECF6",
              "width": 0.5
             },
             "pattern": {
              "fillmode": "overlay",
              "size": 10,
              "solidity": 0.2
             }
            },
            "type": "barpolar"
           }
          ],
          "carpet": [
           {
            "aaxis": {
             "endlinecolor": "#2a3f5f",
             "gridcolor": "white",
             "linecolor": "white",
             "minorgridcolor": "white",
             "startlinecolor": "#2a3f5f"
            },
            "baxis": {
             "endlinecolor": "#2a3f5f",
             "gridcolor": "white",
             "linecolor": "white",
             "minorgridcolor": "white",
             "startlinecolor": "#2a3f5f"
            },
            "type": "carpet"
           }
          ],
          "choropleth": [
           {
            "colorbar": {
             "outlinewidth": 0,
             "ticks": ""
            },
            "type": "choropleth"
           }
          ],
          "contour": [
           {
            "colorbar": {
             "outlinewidth": 0,
             "ticks": ""
            },
            "colorscale": [
             [
              0,
              "#0d0887"
             ],
             [
              0.1111111111111111,
              "#46039f"
             ],
             [
              0.2222222222222222,
              "#7201a8"
             ],
             [
              0.3333333333333333,
              "#9c179e"
             ],
             [
              0.4444444444444444,
              "#bd3786"
             ],
             [
              0.5555555555555556,
              "#d8576b"
             ],
             [
              0.6666666666666666,
              "#ed7953"
             ],
             [
              0.7777777777777778,
              "#fb9f3a"
             ],
             [
              0.8888888888888888,
              "#fdca26"
             ],
             [
              1,
              "#f0f921"
             ]
            ],
            "type": "contour"
           }
          ],
          "contourcarpet": [
           {
            "colorbar": {
             "outlinewidth": 0,
             "ticks": ""
            },
            "type": "contourcarpet"
           }
          ],
          "heatmap": [
           {
            "colorbar": {
             "outlinewidth": 0,
             "ticks": ""
            },
            "colorscale": [
             [
              0,
              "#0d0887"
             ],
             [
              0.1111111111111111,
              "#46039f"
             ],
             [
              0.2222222222222222,
              "#7201a8"
             ],
             [
              0.3333333333333333,
              "#9c179e"
             ],
             [
              0.4444444444444444,
              "#bd3786"
             ],
             [
              0.5555555555555556,
              "#d8576b"
             ],
             [
              0.6666666666666666,
              "#ed7953"
             ],
             [
              0.7777777777777778,
              "#fb9f3a"
             ],
             [
              0.8888888888888888,
              "#fdca26"
             ],
             [
              1,
              "#f0f921"
             ]
            ],
            "type": "heatmap"
           }
          ],
          "heatmapgl": [
           {
            "colorbar": {
             "outlinewidth": 0,
             "ticks": ""
            },
            "colorscale": [
             [
              0,
              "#0d0887"
             ],
             [
              0.1111111111111111,
              "#46039f"
             ],
             [
              0.2222222222222222,
              "#7201a8"
             ],
             [
              0.3333333333333333,
              "#9c179e"
             ],
             [
              0.4444444444444444,
              "#bd3786"
             ],
             [
              0.5555555555555556,
              "#d8576b"
             ],
             [
              0.6666666666666666,
              "#ed7953"
             ],
             [
              0.7777777777777778,
              "#fb9f3a"
             ],
             [
              0.8888888888888888,
              "#fdca26"
             ],
             [
              1,
              "#f0f921"
             ]
            ],
            "type": "heatmapgl"
           }
          ],
          "histogram": [
           {
            "marker": {
             "pattern": {
              "fillmode": "overlay",
              "size": 10,
              "solidity": 0.2
             }
            },
            "type": "histogram"
           }
          ],
          "histogram2d": [
           {
            "colorbar": {
             "outlinewidth": 0,
             "ticks": ""
            },
            "colorscale": [
             [
              0,
              "#0d0887"
             ],
             [
              0.1111111111111111,
              "#46039f"
             ],
             [
              0.2222222222222222,
              "#7201a8"
             ],
             [
              0.3333333333333333,
              "#9c179e"
             ],
             [
              0.4444444444444444,
              "#bd3786"
             ],
             [
              0.5555555555555556,
              "#d8576b"
             ],
             [
              0.6666666666666666,
              "#ed7953"
             ],
             [
              0.7777777777777778,
              "#fb9f3a"
             ],
             [
              0.8888888888888888,
              "#fdca26"
             ],
             [
              1,
              "#f0f921"
             ]
            ],
            "type": "histogram2d"
           }
          ],
          "histogram2dcontour": [
           {
            "colorbar": {
             "outlinewidth": 0,
             "ticks": ""
            },
            "colorscale": [
             [
              0,
              "#0d0887"
             ],
             [
              0.1111111111111111,
              "#46039f"
             ],
             [
              0.2222222222222222,
              "#7201a8"
             ],
             [
              0.3333333333333333,
              "#9c179e"
             ],
             [
              0.4444444444444444,
              "#bd3786"
             ],
             [
              0.5555555555555556,
              "#d8576b"
             ],
             [
              0.6666666666666666,
              "#ed7953"
             ],
             [
              0.7777777777777778,
              "#fb9f3a"
             ],
             [
              0.8888888888888888,
              "#fdca26"
             ],
             [
              1,
              "#f0f921"
             ]
            ],
            "type": "histogram2dcontour"
           }
          ],
          "mesh3d": [
           {
            "colorbar": {
             "outlinewidth": 0,
             "ticks": ""
            },
            "type": "mesh3d"
           }
          ],
          "parcoords": [
           {
            "line": {
             "colorbar": {
              "outlinewidth": 0,
              "ticks": ""
             }
            },
            "type": "parcoords"
           }
          ],
          "pie": [
           {
            "automargin": true,
            "type": "pie"
           }
          ],
          "scatter": [
           {
            "marker": {
             "colorbar": {
              "outlinewidth": 0,
              "ticks": ""
             }
            },
            "type": "scatter"
           }
          ],
          "scatter3d": [
           {
            "line": {
             "colorbar": {
              "outlinewidth": 0,
              "ticks": ""
             }
            },
            "marker": {
             "colorbar": {
              "outlinewidth": 0,
              "ticks": ""
             }
            },
            "type": "scatter3d"
           }
          ],
          "scattercarpet": [
           {
            "marker": {
             "colorbar": {
              "outlinewidth": 0,
              "ticks": ""
             }
            },
            "type": "scattercarpet"
           }
          ],
          "scattergeo": [
           {
            "marker": {
             "colorbar": {
              "outlinewidth": 0,
              "ticks": ""
             }
            },
            "type": "scattergeo"
           }
          ],
          "scattergl": [
           {
            "marker": {
             "colorbar": {
              "outlinewidth": 0,
              "ticks": ""
             }
            },
            "type": "scattergl"
           }
          ],
          "scattermapbox": [
           {
            "marker": {
             "colorbar": {
              "outlinewidth": 0,
              "ticks": ""
             }
            },
            "type": "scattermapbox"
           }
          ],
          "scatterpolar": [
           {
            "marker": {
             "colorbar": {
              "outlinewidth": 0,
              "ticks": ""
             }
            },
            "type": "scatterpolar"
           }
          ],
          "scatterpolargl": [
           {
            "marker": {
             "colorbar": {
              "outlinewidth": 0,
              "ticks": ""
             }
            },
            "type": "scatterpolargl"
           }
          ],
          "scatterternary": [
           {
            "marker": {
             "colorbar": {
              "outlinewidth": 0,
              "ticks": ""
             }
            },
            "type": "scatterternary"
           }
          ],
          "surface": [
           {
            "colorbar": {
             "outlinewidth": 0,
             "ticks": ""
            },
            "colorscale": [
             [
              0,
              "#0d0887"
             ],
             [
              0.1111111111111111,
              "#46039f"
             ],
             [
              0.2222222222222222,
              "#7201a8"
             ],
             [
              0.3333333333333333,
              "#9c179e"
             ],
             [
              0.4444444444444444,
              "#bd3786"
             ],
             [
              0.5555555555555556,
              "#d8576b"
             ],
             [
              0.6666666666666666,
              "#ed7953"
             ],
             [
              0.7777777777777778,
              "#fb9f3a"
             ],
             [
              0.8888888888888888,
              "#fdca26"
             ],
             [
              1,
              "#f0f921"
             ]
            ],
            "type": "surface"
           }
          ],
          "table": [
           {
            "cells": {
             "fill": {
              "color": "#EBF0F8"
             },
             "line": {
              "color": "white"
             }
            },
            "header": {
             "fill": {
              "color": "#C8D4E3"
             },
             "line": {
              "color": "white"
             }
            },
            "type": "table"
           }
          ]
         },
         "layout": {
          "annotationdefaults": {
           "arrowcolor": "#2a3f5f",
           "arrowhead": 0,
           "arrowwidth": 1
          },
          "autotypenumbers": "strict",
          "coloraxis": {
           "colorbar": {
            "outlinewidth": 0,
            "ticks": ""
           }
          },
          "colorscale": {
           "diverging": [
            [
             0,
             "#8e0152"
            ],
            [
             0.1,
             "#c51b7d"
            ],
            [
             0.2,
             "#de77ae"
            ],
            [
             0.3,
             "#f1b6da"
            ],
            [
             0.4,
             "#fde0ef"
            ],
            [
             0.5,
             "#f7f7f7"
            ],
            [
             0.6,
             "#e6f5d0"
            ],
            [
             0.7,
             "#b8e186"
            ],
            [
             0.8,
             "#7fbc41"
            ],
            [
             0.9,
             "#4d9221"
            ],
            [
             1,
             "#276419"
            ]
           ],
           "sequential": [
            [
             0,
             "#0d0887"
            ],
            [
             0.1111111111111111,
             "#46039f"
            ],
            [
             0.2222222222222222,
             "#7201a8"
            ],
            [
             0.3333333333333333,
             "#9c179e"
            ],
            [
             0.4444444444444444,
             "#bd3786"
            ],
            [
             0.5555555555555556,
             "#d8576b"
            ],
            [
             0.6666666666666666,
             "#ed7953"
            ],
            [
             0.7777777777777778,
             "#fb9f3a"
            ],
            [
             0.8888888888888888,
             "#fdca26"
            ],
            [
             1,
             "#f0f921"
            ]
           ],
           "sequentialminus": [
            [
             0,
             "#0d0887"
            ],
            [
             0.1111111111111111,
             "#46039f"
            ],
            [
             0.2222222222222222,
             "#7201a8"
            ],
            [
             0.3333333333333333,
             "#9c179e"
            ],
            [
             0.4444444444444444,
             "#bd3786"
            ],
            [
             0.5555555555555556,
             "#d8576b"
            ],
            [
             0.6666666666666666,
             "#ed7953"
            ],
            [
             0.7777777777777778,
             "#fb9f3a"
            ],
            [
             0.8888888888888888,
             "#fdca26"
            ],
            [
             1,
             "#f0f921"
            ]
           ]
          },
          "colorway": [
           "#636efa",
           "#EF553B",
           "#00cc96",
           "#ab63fa",
           "#FFA15A",
           "#19d3f3",
           "#FF6692",
           "#B6E880",
           "#FF97FF",
           "#FECB52"
          ],
          "font": {
           "color": "#2a3f5f"
          },
          "geo": {
           "bgcolor": "white",
           "lakecolor": "white",
           "landcolor": "#E5ECF6",
           "showlakes": true,
           "showland": true,
           "subunitcolor": "white"
          },
          "hoverlabel": {
           "align": "left"
          },
          "hovermode": "closest",
          "mapbox": {
           "style": "light"
          },
          "paper_bgcolor": "white",
          "plot_bgcolor": "#E5ECF6",
          "polar": {
           "angularaxis": {
            "gridcolor": "white",
            "linecolor": "white",
            "ticks": ""
           },
           "bgcolor": "#E5ECF6",
           "radialaxis": {
            "gridcolor": "white",
            "linecolor": "white",
            "ticks": ""
           }
          },
          "scene": {
           "xaxis": {
            "backgroundcolor": "#E5ECF6",
            "gridcolor": "white",
            "gridwidth": 2,
            "linecolor": "white",
            "showbackground": true,
            "ticks": "",
            "zerolinecolor": "white"
           },
           "yaxis": {
            "backgroundcolor": "#E5ECF6",
            "gridcolor": "white",
            "gridwidth": 2,
            "linecolor": "white",
            "showbackground": true,
            "ticks": "",
            "zerolinecolor": "white"
           },
           "zaxis": {
            "backgroundcolor": "#E5ECF6",
            "gridcolor": "white",
            "gridwidth": 2,
            "linecolor": "white",
            "showbackground": true,
            "ticks": "",
            "zerolinecolor": "white"
           }
          },
          "shapedefaults": {
           "line": {
            "color": "#2a3f5f"
           }
          },
          "ternary": {
           "aaxis": {
            "gridcolor": "white",
            "linecolor": "white",
            "ticks": ""
           },
           "baxis": {
            "gridcolor": "white",
            "linecolor": "white",
            "ticks": ""
           },
           "bgcolor": "#E5ECF6",
           "caxis": {
            "gridcolor": "white",
            "linecolor": "white",
            "ticks": ""
           }
          },
          "title": {
           "x": 0.05
          },
          "xaxis": {
           "automargin": true,
           "gridcolor": "white",
           "linecolor": "white",
           "ticks": "",
           "title": {
            "standoff": 15
           },
           "zerolinecolor": "white",
           "zerolinewidth": 2
          },
          "yaxis": {
           "automargin": true,
           "gridcolor": "white",
           "linecolor": "white",
           "ticks": "",
           "title": {
            "standoff": 15
           },
           "zerolinecolor": "white",
           "zerolinewidth": 2
          }
         }
        },
        "xaxis": {
         "rangeslider": {
          "visible": true
         }
        }
       }
      },
      "text/html": [
       "<div>                            <div id=\"7abae6d0-794f-4abc-b272-f89872390b0e\" class=\"plotly-graph-div\" style=\"height:525px; width:100%;\"></div>            <script type=\"text/javascript\">                require([\"plotly\"], function(Plotly) {                    window.PLOTLYENV=window.PLOTLYENV || {};                                    if (document.getElementById(\"7abae6d0-794f-4abc-b272-f89872390b0e\")) {                    Plotly.newPlot(                        \"7abae6d0-794f-4abc-b272-f89872390b0e\",                        [{\"close\":[54.03,54.22,54.43,54.32,51.36,51.32,51.01,51.35,53.83,53.43,52.31,50.69,48.54,50.04,50.93,50.59,48.25,47.48,46.56,46.25,48.54,46.03,46.98,47.11,51.27,51.0,49.85,50.09,50.24,51.49,52.35,53.25,53.92,54.72,54.1,55.34,55.14,55.54,61.83,61.18,60.55,60.89,60.02,61.62,60.8,61.15,64.3,65.09,66.36,65.97,66.23,64.99,61.16,62.28,62.75,61.94,61.32,61.86,62.77,64.62,65.83,67.25,68.41,71.62,72.83,74.02,74.79,74.45,73.15,null,null,null,null,null,null,72.67,73.15,72.35,71.52,71.18,72.45,75.56,75.56,76.06,77.02,82.82,82.58,80.39,80.19,79.41,71.88,69.81,67.68,65.63,60.52,59.01,59.14,56.93,57.318,55.625,57.636,59.52,58.918,62.549,61.648,64.679,64.505,65.609,66.589,67.021,66.891,68.457,70.093,69.825,71.018,70.93,70.556,69.641,70.908,69.426,60.404,60.585,59.939,61.64,63.192,62.613,64.306,62.591,63.162,58.86,58.35,58.93,58.865,59.106,60.058,63.12,61.637,61.115,58.223,58.935,58.866,59.453,59.369,61.095,61.557,61.94,61.974,63.34,64.192,64.651,64.847,68.275,65.722,65.745,64.369,64.286,52.999,55.342,54.681,54.219,36.264,36.964,34.046,33.844,27.449,26.157,22.235,20.374,20.387,27.267,30.547,30.341,30.467,40.695,39.502,41.12,40.796,42.89,43.097,43.054,43.332,43.278,43.779,43.78,43.913,43.987,42.612,40.154,41.409,41.601,40.42,40.777,41.373,41.142,40.661,41.405,42.524,43.076,43.52,48.227,49.461,50.344,49.773,49.815,55.059,54.532,54.759,54.772,59.361,60.226,60.62,60.855,65.836,66.375,64.707,64.435,64.414,61.302,63.475,62.801,62.894,66.203,66.825,66.264,66.275,69.839,70.78,71.481,71.536,71.573,73.539,71.007,72.83,72.903,68.494,69.527,68.76,69.465,70.641,71.111,71.358,72.611,72.608,80.679,81.311,81.732,81.585,81.616,81.411,80.548,80.305,71.654,72.708,71.655,72.99,73.185,78.887,82.269,82.868,83.455,90.757,89.883],\"high\":[54.59,54.27,54.43,54.95,54.31,51.4,51.09,51.84,53.83,54.08,53.19,52.37,49.74,50.04,50.93,51.05,50.58,48.76,47.68,46.32,48.54,47.01,47.23,47.46,51.27,51.1,50.8,50.45,50.36,51.6,52.78,53.28,53.92,55.25,55.22,55.34,55.48,55.55,61.83,61.56,60.82,60.92,61.23,61.62,60.8,61.3,64.3,65.31,66.36,66.13,66.32,66.73,64.27,62.28,62.75,62.72,62.21,61.96,62.84,66.19,65.83,67.8,68.41,71.62,72.83,74.02,74.79,74.98,74.79,null,null,null,null,null,null,72.72,73.15,72.37,72.91,71.41,72.45,75.56,76.4,77.1,77.02,82.82,84.12,83.26,80.85,79.46,79.35,71.06,67.68,66.47,65.59,61.05,59.92,58.21,57.42,55.625,59.088,59.52,59.226,62.624,62.708,64.679,64.954,65.609,66.589,67.184,67.338,68.457,70.093,70.39,71.018,71.204,71.649,69.898,71.154,70.994,69.656,61.264,60.941,61.811,63.192,62.613,64.616,63.189,63.168,63.254,58.35,60.035,59.3,59.107,60.058,63.12,61.637,61.241,61.115,59.715,59.175,59.519,59.415,61.492,61.936,62.074,61.974,63.428,64.192,64.697,64.847,68.275,67.919,65.837,65.592,64.371,64.286,55.342,55.649,54.544,54.219,38.137,35.454,34.073,33.7,27.449,22.235,20.449,20.41,28.936,30.547,30.623,30.59,41.32,41.524,41.12,41.039,42.89,43.402,43.785,43.616,43.294,43.875,43.97,43.962,43.987,43.987,40.776,42.021,41.601,41.531,41.875,41.776,41.59,40.886,41.405,42.524,43.076,43.52,48.352,49.461,50.344,49.836,49.817,55.059,55.367,54.967,54.824,59.361,60.226,60.889,60.855,66.895,66.651,66.375,64.503,64.414,61.456,63.476,63.228,62.895,66.655,66.825,66.643,66.316,70.031,70.78,71.559,71.654,71.573,73.716,74.359,72.869,72.903,72.903,70.438,69.334,69.465,70.641,71.111,72.089,72.611,72.627,80.679,81.51,81.812,81.822,81.616,82.579,81.665,81.219,80.276,73.693,73.018,72.99,73.206,79.695,82.269,83.559,83.455,91.056,89.883],\"low\":[54.03,54.12,54.27,53.86,51.36,50.96,50.96,51.08,52.19,53.43,52.31,50.69,47.67,48.1,50.04,50.5,48.25,47.12,46.56,45.99,46.39,45.89,46.43,47.0,47.42,50.42,49.85,49.57,50.14,50.22,52.02,52.58,53.09,53.64,53.95,54.54,55.13,55.34,58.74,61.14,60.22,60.63,60.02,59.34,60.12,61.02,61.52,64.02,65.81,65.82,66.21,64.99,61.16,61.29,62.43,60.39,60.44,61.17,62.27,62.68,64.65,67.25,67.38,68.16,70.44,71.73,74.04,74.45,73.15,null,null,null,null,null,null,72.44,72.82,70.83,71.14,70.53,71.38,72.39,74.69,76.06,76.44,77.1,82.58,80.19,80.03,79.28,71.54,69.81,66.91,65.35,58.51,59.01,59.14,56.93,57.277,53.893,56.871,58.508,58.918,59.049,61.648,62.509,64.505,64.527,65.863,66.634,66.891,66.894,68.824,69.656,70.153,70.93,70.556,69.412,70.402,69.37,60.404,59.566,59.374,60.636,61.633,61.025,62.77,62.313,63.019,58.86,56.401,58.091,58.865,58.977,56.69,58.584,61.129,61.088,57.447,57.913,58.859,59.034,59.323,60.558,61.29,60.98,61.947,61.974,62.985,64.535,64.79,64.889,65.722,65.488,64.369,64.169,52.999,53.487,54.681,54.219,36.264,36.964,33.613,33.844,27.449,26.157,21.964,19.069,20.383,27.14,26.685,30.341,30.429,30.467,39.442,40.228,40.642,40.791,42.789,42.998,43.284,43.278,43.278,43.378,43.693,43.913,42.612,40.154,40.693,41.486,40.42,40.777,41.236,41.067,40.661,39.285,41.405,42.489,43.396,43.394,48.283,49.461,49.573,49.78,49.815,54.532,54.532,54.762,54.772,59.555,60.196,60.634,60.855,65.373,64.569,63.722,64.407,60.958,61.529,62.68,62.746,62.894,65.424,65.394,66.264,66.275,70.342,70.94,71.414,71.569,72.083,71.007,71.284,72.81,68.494,69.527,67.6,69.241,69.485,69.631,71.195,71.575,72.572,78.693,80.447,81.436,81.549,78.946,81.273,80.33,80.084,68.909,72.708,71.655,72.424,72.99,73.185,80.789,82.868,83.213,83.455,89.282],\"open\":[54.59,54.27,54.42,54.86,54.31,50.96,51.09,51.08,52.19,54.08,53.19,52.37,49.3,48.1,50.04,51.05,50.58,48.76,47.68,46.32,46.39,46.8,46.43,47.14,47.42,50.42,50.8,49.9,50.14,50.25,52.02,52.58,53.09,53.77,54.42,54.61,55.37,55.39,59.03,61.2,60.69,60.63,60.8,60.55,60.56,61.02,61.61,64.02,65.81,66.05,66.21,66.2,64.27,61.29,62.43,62.72,62.21,61.17,62.27,62.76,65.16,67.27,67.38,68.2,70.55,71.73,74.04,74.91,74.58,null,null,null,null,null,null,72.72,72.82,72.37,72.91,71.41,71.38,72.39,76.4,76.72,76.5,77.14,82.66,83.26,80.85,79.32,79.35,70.99,66.91,66.06,65.59,61.05,59.14,57.92,57.42,53.893,56.871,58.508,59.096,59.049,62.079,62.509,64.659,64.527,65.863,66.634,67.047,66.966,68.894,69.656,70.24,71.099,70.95,69.412,70.402,70.994,69.656,60.825,60.941,60.636,61.633,61.025,62.77,63.189,63.074,63.225,58.275,60.035,59.115,58.977,56.69,59.752,61.32,61.241,61.115,57.913,58.859,59.034,59.415,61.492,61.29,60.98,61.947,61.974,63.5,64.535,64.79,64.889,67.919,65.837,65.592,64.34,64.286,53.487,55.145,54.544,54.219,38.137,35.454,33.986,33.7,27.449,21.964,19.069,20.41,28.936,26.811,30.419,30.59,30.467,40.823,40.284,41.039,40.791,43.088,43.218,43.581,43.279,43.278,43.378,43.962,43.913,43.987,40.198,40.693,41.496,41.531,41.563,41.236,41.59,40.886,40.661,41.405,42.489,43.396,43.394,48.283,49.461,49.573,49.78,49.815,55.367,54.532,54.824,54.772,59.631,60.596,60.634,60.855,65.373,66.375,63.722,64.407,60.958,61.529,63.228,62.746,62.894,66.324,66.643,66.264,66.275,70.362,71.39,71.414,71.569,72.929,74.359,71.284,72.811,72.903,69.713,69.334,69.307,69.485,69.711,71.195,71.575,72.627,79.71,80.58,81.614,81.822,81.585,82.579,81.665,81.219,80.276,73.538,72.223,72.424,72.99,73.185,80.789,83.221,83.213,83.455,89.282],\"x\":[\"2017-02-06T00:00:00\",\"2017-02-13T00:00:00\",\"2017-02-20T00:00:00\",\"2017-02-27T00:00:00\",\"2017-03-06T00:00:00\",\"2017-03-13T00:00:00\",\"2017-03-20T00:00:00\",\"2017-03-27T00:00:00\",\"2017-04-03T00:00:00\",\"2017-04-10T00:00:00\",\"2017-04-17T00:00:00\",\"2017-04-24T00:00:00\",\"2017-05-01T00:00:00\",\"2017-05-08T00:00:00\",\"2017-05-15T00:00:00\",\"2017-05-22T00:00:00\",\"2017-05-29T00:00:00\",\"2017-06-05T00:00:00\",\"2017-06-12T00:00:00\",\"2017-06-19T00:00:00\",\"2017-06-26T00:00:00\",\"2017-07-03T00:00:00\",\"2017-07-10T00:00:00\",\"2017-07-17T00:00:00\",\"2017-07-24T00:00:00\",\"2017-07-31T00:00:00\",\"2017-08-07T00:00:00\",\"2017-08-14T00:00:00\",\"2017-08-21T00:00:00\",\"2017-08-28T00:00:00\",\"2017-09-04T00:00:00\",\"2017-09-11T00:00:00\",\"2017-09-18T00:00:00\",\"2017-09-25T00:00:00\",\"2017-10-02T00:00:00\",\"2017-10-09T00:00:00\",\"2017-10-16T00:00:00\",\"2017-10-23T00:00:00\",\"2017-10-30T00:00:00\",\"2017-11-06T00:00:00\",\"2017-11-13T00:00:00\",\"2017-11-20T00:00:00\",\"2017-11-27T00:00:00\",\"2017-12-04T00:00:00\",\"2017-12-11T00:00:00\",\"2017-12-18T00:00:00\",\"2017-12-25T00:00:00\",\"2018-01-01T00:00:00\",\"2018-01-08T00:00:00\",\"2018-01-15T00:00:00\",\"2018-01-22T00:00:00\",\"2018-01-29T00:00:00\",\"2018-02-05T00:00:00\",\"2018-02-12T00:00:00\",\"2018-02-19T00:00:00\",\"2018-02-26T00:00:00\",\"2018-03-05T00:00:00\",\"2018-03-12T00:00:00\",\"2018-03-19T00:00:00\",\"2018-03-26T00:00:00\",\"2018-04-02T00:00:00\",\"2018-04-09T00:00:00\",\"2018-04-16T00:00:00\",\"2018-04-23T00:00:00\",\"2018-04-30T00:00:00\",\"2018-05-07T00:00:00\",\"2018-05-14T00:00:00\",\"2018-05-21T00:00:00\",\"2018-05-28T00:00:00\",\"2018-06-04T00:00:00\",\"2018-06-11T00:00:00\",\"2018-06-18T00:00:00\",\"2018-06-25T00:00:00\",\"2018-07-02T00:00:00\",\"2018-07-09T00:00:00\",\"2018-07-16T00:00:00\",\"2018-07-23T00:00:00\",\"2018-07-30T00:00:00\",\"2018-08-06T00:00:00\",\"2018-08-13T00:00:00\",\"2018-08-20T00:00:00\",\"2018-08-27T00:00:00\",\"2018-09-03T00:00:00\",\"2018-09-10T00:00:00\",\"2018-09-17T00:00:00\",\"2018-09-24T00:00:00\",\"2018-10-01T00:00:00\",\"2018-10-08T00:00:00\",\"2018-10-15T00:00:00\",\"2018-10-22T00:00:00\",\"2018-10-29T00:00:00\",\"2018-11-05T00:00:00\",\"2018-11-12T00:00:00\",\"2018-11-19T00:00:00\",\"2018-11-26T00:00:00\",\"2018-12-03T00:00:00\",\"2018-12-10T00:00:00\",\"2018-12-17T00:00:00\",\"2018-12-24T00:00:00\",\"2018-12-31T00:00:00\",\"2019-01-07T00:00:00\",\"2019-01-14T00:00:00\",\"2019-01-21T00:00:00\",\"2019-01-28T00:00:00\",\"2019-02-04T00:00:00\",\"2019-02-11T00:00:00\",\"2019-02-18T00:00:00\",\"2019-02-25T00:00:00\",\"2019-03-04T00:00:00\",\"2019-03-11T00:00:00\",\"2019-03-18T00:00:00\",\"2019-03-25T00:00:00\",\"2019-04-01T00:00:00\",\"2019-04-08T00:00:00\",\"2019-04-15T00:00:00\",\"2019-04-22T00:00:00\",\"2019-04-29T00:00:00\",\"2019-05-06T00:00:00\",\"2019-05-13T00:00:00\",\"2019-05-20T00:00:00\",\"2019-05-27T00:00:00\",\"2019-06-03T00:00:00\",\"2019-06-10T00:00:00\",\"2019-06-17T00:00:00\",\"2019-06-24T00:00:00\",\"2019-07-01T00:00:00\",\"2019-07-08T00:00:00\",\"2019-07-15T00:00:00\",\"2019-07-22T00:00:00\",\"2019-07-29T00:00:00\",\"2019-08-05T00:00:00\",\"2019-08-12T00:00:00\",\"2019-08-19T00:00:00\",\"2019-08-26T00:00:00\",\"2019-09-02T00:00:00\",\"2019-09-09T00:00:00\",\"2019-09-16T00:00:00\",\"2019-09-23T00:00:00\",\"2019-09-30T00:00:00\",\"2019-10-07T00:00:00\",\"2019-10-14T00:00:00\",\"2019-10-21T00:00:00\",\"2019-10-28T00:00:00\",\"2019-11-04T00:00:00\",\"2019-11-11T00:00:00\",\"2019-11-18T00:00:00\",\"2019-11-25T00:00:00\",\"2019-12-02T00:00:00\",\"2019-12-09T00:00:00\",\"2019-12-16T00:00:00\",\"2019-12-23T00:00:00\",\"2019-12-30T00:00:00\",\"2020-01-06T00:00:00\",\"2020-01-13T00:00:00\",\"2020-01-20T00:00:00\",\"2020-01-27T00:00:00\",\"2020-02-03T00:00:00\",\"2020-02-10T00:00:00\",\"2020-02-17T00:00:00\",\"2020-02-24T00:00:00\",\"2020-03-02T00:00:00\",\"2020-03-09T00:00:00\",\"2020-03-16T00:00:00\",\"2020-03-23T00:00:00\",\"2020-03-30T00:00:00\",\"2020-04-06T00:00:00\",\"2020-04-13T00:00:00\",\"2020-04-20T00:00:00\",\"2020-04-27T00:00:00\",\"2020-05-04T00:00:00\",\"2020-05-11T00:00:00\",\"2020-05-18T00:00:00\",\"2020-05-25T00:00:00\",\"2020-06-01T00:00:00\",\"2020-06-08T00:00:00\",\"2020-06-15T00:00:00\",\"2020-06-22T00:00:00\",\"2020-06-29T00:00:00\",\"2020-07-06T00:00:00\",\"2020-07-13T00:00:00\",\"2020-07-20T00:00:00\",\"2020-07-27T00:00:00\",\"2020-08-03T00:00:00\",\"2020-08-10T00:00:00\",\"2020-08-17T00:00:00\",\"2020-08-24T00:00:00\",\"2020-08-31T00:00:00\",\"2020-09-07T00:00:00\",\"2020-09-14T00:00:00\",\"2020-09-21T00:00:00\",\"2020-09-28T00:00:00\",\"2020-10-05T00:00:00\",\"2020-10-12T00:00:00\",\"2020-10-19T00:00:00\",\"2020-10-26T00:00:00\",\"2020-11-02T00:00:00\",\"2020-11-09T00:00:00\",\"2020-11-16T00:00:00\",\"2020-11-23T00:00:00\",\"2020-11-30T00:00:00\",\"2020-12-07T00:00:00\",\"2020-12-14T00:00:00\",\"2020-12-21T00:00:00\",\"2020-12-28T00:00:00\",\"2021-01-04T00:00:00\",\"2021-01-11T00:00:00\",\"2021-01-18T00:00:00\",\"2021-01-25T00:00:00\",\"2021-02-01T00:00:00\",\"2021-02-08T00:00:00\",\"2021-02-15T00:00:00\",\"2021-02-22T00:00:00\",\"2021-03-01T00:00:00\",\"2021-03-08T00:00:00\",\"2021-03-15T00:00:00\",\"2021-03-22T00:00:00\",\"2021-03-29T00:00:00\",\"2021-04-05T00:00:00\",\"2021-04-12T00:00:00\",\"2021-04-19T00:00:00\",\"2021-04-26T00:00:00\",\"2021-05-03T00:00:00\",\"2021-05-10T00:00:00\",\"2021-05-17T00:00:00\",\"2021-05-24T00:00:00\",\"2021-05-31T00:00:00\",\"2021-06-07T00:00:00\",\"2021-06-14T00:00:00\",\"2021-06-21T00:00:00\",\"2021-06-28T00:00:00\",\"2021-07-05T00:00:00\",\"2021-07-12T00:00:00\",\"2021-07-19T00:00:00\",\"2021-07-26T00:00:00\",\"2021-08-02T00:00:00\",\"2021-08-09T00:00:00\",\"2021-08-16T00:00:00\",\"2021-08-23T00:00:00\",\"2021-08-30T00:00:00\",\"2021-09-06T00:00:00\",\"2021-09-13T00:00:00\",\"2021-09-20T00:00:00\",\"2021-09-27T00:00:00\",\"2021-10-04T00:00:00\",\"2021-10-11T00:00:00\",\"2021-10-18T00:00:00\",\"2021-10-25T00:00:00\",\"2021-11-01T00:00:00\",\"2021-11-08T00:00:00\",\"2021-11-15T00:00:00\",\"2021-11-22T00:00:00\",\"2021-11-29T00:00:00\",\"2021-12-06T00:00:00\",\"2021-12-13T00:00:00\",\"2021-12-20T00:00:00\",\"2021-12-27T00:00:00\",\"2022-01-03T00:00:00\",\"2022-01-10T00:00:00\",\"2022-01-17T00:00:00\",\"2022-01-24T00:00:00\",\"2022-01-31T00:00:00\",\"2022-02-07T00:00:00\"],\"type\":\"candlestick\"}],                        {\"template\":{\"data\":{\"bar\":[{\"error_x\":{\"color\":\"#2a3f5f\"},\"error_y\":{\"color\":\"#2a3f5f\"},\"marker\":{\"line\":{\"color\":\"#E5ECF6\",\"width\":0.5},\"pattern\":{\"fillmode\":\"overlay\",\"size\":10,\"solidity\":0.2}},\"type\":\"bar\"}],\"barpolar\":[{\"marker\":{\"line\":{\"color\":\"#E5ECF6\",\"width\":0.5},\"pattern\":{\"fillmode\":\"overlay\",\"size\":10,\"solidity\":0.2}},\"type\":\"barpolar\"}],\"carpet\":[{\"aaxis\":{\"endlinecolor\":\"#2a3f5f\",\"gridcolor\":\"white\",\"linecolor\":\"white\",\"minorgridcolor\":\"white\",\"startlinecolor\":\"#2a3f5f\"},\"baxis\":{\"endlinecolor\":\"#2a3f5f\",\"gridcolor\":\"white\",\"linecolor\":\"white\",\"minorgridcolor\":\"white\",\"startlinecolor\":\"#2a3f5f\"},\"type\":\"carpet\"}],\"choropleth\":[{\"colorbar\":{\"outlinewidth\":0,\"ticks\":\"\"},\"type\":\"choropleth\"}],\"contour\":[{\"colorbar\":{\"outlinewidth\":0,\"ticks\":\"\"},\"colorscale\":[[0.0,\"#0d0887\"],[0.1111111111111111,\"#46039f\"],[0.2222222222222222,\"#7201a8\"],[0.3333333333333333,\"#9c179e\"],[0.4444444444444444,\"#bd3786\"],[0.5555555555555556,\"#d8576b\"],[0.6666666666666666,\"#ed7953\"],[0.7777777777777778,\"#fb9f3a\"],[0.8888888888888888,\"#fdca26\"],[1.0,\"#f0f921\"]],\"type\":\"contour\"}],\"contourcarpet\":[{\"colorbar\":{\"outlinewidth\":0,\"ticks\":\"\"},\"type\":\"contourcarpet\"}],\"heatmap\":[{\"colorbar\":{\"outlinewidth\":0,\"ticks\":\"\"},\"colorscale\":[[0.0,\"#0d0887\"],[0.1111111111111111,\"#46039f\"],[0.2222222222222222,\"#7201a8\"],[0.3333333333333333,\"#9c179e\"],[0.4444444444444444,\"#bd3786\"],[0.5555555555555556,\"#d8576b\"],[0.6666666666666666,\"#ed7953\"],[0.7777777777777778,\"#fb9f3a\"],[0.8888888888888888,\"#fdca26\"],[1.0,\"#f0f921\"]],\"type\":\"heatmap\"}],\"heatmapgl\":[{\"colorbar\":{\"outlinewidth\":0,\"ticks\":\"\"},\"colorscale\":[[0.0,\"#0d0887\"],[0.1111111111111111,\"#46039f\"],[0.2222222222222222,\"#7201a8\"],[0.3333333333333333,\"#9c179e\"],[0.4444444444444444,\"#bd3786\"],[0.5555555555555556,\"#d8576b\"],[0.6666666666666666,\"#ed7953\"],[0.7777777777777778,\"#fb9f3a\"],[0.8888888888888888,\"#fdca26\"],[1.0,\"#f0f921\"]],\"type\":\"heatmapgl\"}],\"histogram\":[{\"marker\":{\"pattern\":{\"fillmode\":\"overlay\",\"size\":10,\"solidity\":0.2}},\"type\":\"histogram\"}],\"histogram2d\":[{\"colorbar\":{\"outlinewidth\":0,\"ticks\":\"\"},\"colorscale\":[[0.0,\"#0d0887\"],[0.1111111111111111,\"#46039f\"],[0.2222222222222222,\"#7201a8\"],[0.3333333333333333,\"#9c179e\"],[0.4444444444444444,\"#bd3786\"],[0.5555555555555556,\"#d8576b\"],[0.6666666666666666,\"#ed7953\"],[0.7777777777777778,\"#fb9f3a\"],[0.8888888888888888,\"#fdca26\"],[1.0,\"#f0f921\"]],\"type\":\"histogram2d\"}],\"histogram2dcontour\":[{\"colorbar\":{\"outlinewidth\":0,\"ticks\":\"\"},\"colorscale\":[[0.0,\"#0d0887\"],[0.1111111111111111,\"#46039f\"],[0.2222222222222222,\"#7201a8\"],[0.3333333333333333,\"#9c179e\"],[0.4444444444444444,\"#bd3786\"],[0.5555555555555556,\"#d8576b\"],[0.6666666666666666,\"#ed7953\"],[0.7777777777777778,\"#fb9f3a\"],[0.8888888888888888,\"#fdca26\"],[1.0,\"#f0f921\"]],\"type\":\"histogram2dcontour\"}],\"mesh3d\":[{\"colorbar\":{\"outlinewidth\":0,\"ticks\":\"\"},\"type\":\"mesh3d\"}],\"parcoords\":[{\"line\":{\"colorbar\":{\"outlinewidth\":0,\"ticks\":\"\"}},\"type\":\"parcoords\"}],\"pie\":[{\"automargin\":true,\"type\":\"pie\"}],\"scatter\":[{\"marker\":{\"colorbar\":{\"outlinewidth\":0,\"ticks\":\"\"}},\"type\":\"scatter\"}],\"scatter3d\":[{\"line\":{\"colorbar\":{\"outlinewidth\":0,\"ticks\":\"\"}},\"marker\":{\"colorbar\":{\"outlinewidth\":0,\"ticks\":\"\"}},\"type\":\"scatter3d\"}],\"scattercarpet\":[{\"marker\":{\"colorbar\":{\"outlinewidth\":0,\"ticks\":\"\"}},\"type\":\"scattercarpet\"}],\"scattergeo\":[{\"marker\":{\"colorbar\":{\"outlinewidth\":0,\"ticks\":\"\"}},\"type\":\"scattergeo\"}],\"scattergl\":[{\"marker\":{\"colorbar\":{\"outlinewidth\":0,\"ticks\":\"\"}},\"type\":\"scattergl\"}],\"scattermapbox\":[{\"marker\":{\"colorbar\":{\"outlinewidth\":0,\"ticks\":\"\"}},\"type\":\"scattermapbox\"}],\"scatterpolar\":[{\"marker\":{\"colorbar\":{\"outlinewidth\":0,\"ticks\":\"\"}},\"type\":\"scatterpolar\"}],\"scatterpolargl\":[{\"marker\":{\"colorbar\":{\"outlinewidth\":0,\"ticks\":\"\"}},\"type\":\"scatterpolargl\"}],\"scatterternary\":[{\"marker\":{\"colorbar\":{\"outlinewidth\":0,\"ticks\":\"\"}},\"type\":\"scatterternary\"}],\"surface\":[{\"colorbar\":{\"outlinewidth\":0,\"ticks\":\"\"},\"colorscale\":[[0.0,\"#0d0887\"],[0.1111111111111111,\"#46039f\"],[0.2222222222222222,\"#7201a8\"],[0.3333333333333333,\"#9c179e\"],[0.4444444444444444,\"#bd3786\"],[0.5555555555555556,\"#d8576b\"],[0.6666666666666666,\"#ed7953\"],[0.7777777777777778,\"#fb9f3a\"],[0.8888888888888888,\"#fdca26\"],[1.0,\"#f0f921\"]],\"type\":\"surface\"}],\"table\":[{\"cells\":{\"fill\":{\"color\":\"#EBF0F8\"},\"line\":{\"color\":\"white\"}},\"header\":{\"fill\":{\"color\":\"#C8D4E3\"},\"line\":{\"color\":\"white\"}},\"type\":\"table\"}]},\"layout\":{\"annotationdefaults\":{\"arrowcolor\":\"#2a3f5f\",\"arrowhead\":0,\"arrowwidth\":1},\"autotypenumbers\":\"strict\",\"coloraxis\":{\"colorbar\":{\"outlinewidth\":0,\"ticks\":\"\"}},\"colorscale\":{\"diverging\":[[0,\"#8e0152\"],[0.1,\"#c51b7d\"],[0.2,\"#de77ae\"],[0.3,\"#f1b6da\"],[0.4,\"#fde0ef\"],[0.5,\"#f7f7f7\"],[0.6,\"#e6f5d0\"],[0.7,\"#b8e186\"],[0.8,\"#7fbc41\"],[0.9,\"#4d9221\"],[1,\"#276419\"]],\"sequential\":[[0.0,\"#0d0887\"],[0.1111111111111111,\"#46039f\"],[0.2222222222222222,\"#7201a8\"],[0.3333333333333333,\"#9c179e\"],[0.4444444444444444,\"#bd3786\"],[0.5555555555555556,\"#d8576b\"],[0.6666666666666666,\"#ed7953\"],[0.7777777777777778,\"#fb9f3a\"],[0.8888888888888888,\"#fdca26\"],[1.0,\"#f0f921\"]],\"sequentialminus\":[[0.0,\"#0d0887\"],[0.1111111111111111,\"#46039f\"],[0.2222222222222222,\"#7201a8\"],[0.3333333333333333,\"#9c179e\"],[0.4444444444444444,\"#bd3786\"],[0.5555555555555556,\"#d8576b\"],[0.6666666666666666,\"#ed7953\"],[0.7777777777777778,\"#fb9f3a\"],[0.8888888888888888,\"#fdca26\"],[1.0,\"#f0f921\"]]},\"colorway\":[\"#636efa\",\"#EF553B\",\"#00cc96\",\"#ab63fa\",\"#FFA15A\",\"#19d3f3\",\"#FF6692\",\"#B6E880\",\"#FF97FF\",\"#FECB52\"],\"font\":{\"color\":\"#2a3f5f\"},\"geo\":{\"bgcolor\":\"white\",\"lakecolor\":\"white\",\"landcolor\":\"#E5ECF6\",\"showlakes\":true,\"showland\":true,\"subunitcolor\":\"white\"},\"hoverlabel\":{\"align\":\"left\"},\"hovermode\":\"closest\",\"mapbox\":{\"style\":\"light\"},\"paper_bgcolor\":\"white\",\"plot_bgcolor\":\"#E5ECF6\",\"polar\":{\"angularaxis\":{\"gridcolor\":\"white\",\"linecolor\":\"white\",\"ticks\":\"\"},\"bgcolor\":\"#E5ECF6\",\"radialaxis\":{\"gridcolor\":\"white\",\"linecolor\":\"white\",\"ticks\":\"\"}},\"scene\":{\"xaxis\":{\"backgroundcolor\":\"#E5ECF6\",\"gridcolor\":\"white\",\"gridwidth\":2,\"linecolor\":\"white\",\"showbackground\":true,\"ticks\":\"\",\"zerolinecolor\":\"white\"},\"yaxis\":{\"backgroundcolor\":\"#E5ECF6\",\"gridcolor\":\"white\",\"gridwidth\":2,\"linecolor\":\"white\",\"showbackground\":true,\"ticks\":\"\",\"zerolinecolor\":\"white\"},\"zaxis\":{\"backgroundcolor\":\"#E5ECF6\",\"gridcolor\":\"white\",\"gridwidth\":2,\"linecolor\":\"white\",\"showbackground\":true,\"ticks\":\"\",\"zerolinecolor\":\"white\"}},\"shapedefaults\":{\"line\":{\"color\":\"#2a3f5f\"}},\"ternary\":{\"aaxis\":{\"gridcolor\":\"white\",\"linecolor\":\"white\",\"ticks\":\"\"},\"baxis\":{\"gridcolor\":\"white\",\"linecolor\":\"white\",\"ticks\":\"\"},\"bgcolor\":\"#E5ECF6\",\"caxis\":{\"gridcolor\":\"white\",\"linecolor\":\"white\",\"ticks\":\"\"}},\"title\":{\"x\":0.05},\"xaxis\":{\"automargin\":true,\"gridcolor\":\"white\",\"linecolor\":\"white\",\"ticks\":\"\",\"title\":{\"standoff\":15},\"zerolinecolor\":\"white\",\"zerolinewidth\":2},\"yaxis\":{\"automargin\":true,\"gridcolor\":\"white\",\"linecolor\":\"white\",\"ticks\":\"\",\"title\":{\"standoff\":15},\"zerolinecolor\":\"white\",\"zerolinewidth\":2}}},\"xaxis\":{\"rangeslider\":{\"visible\":true}}},                        {\"responsive\": true}                    ).then(function(){\n",
       "                            \n",
       "var gd = document.getElementById('7abae6d0-794f-4abc-b272-f89872390b0e');\n",
       "var x = new MutationObserver(function (mutations, observer) {{\n",
       "        var display = window.getComputedStyle(gd).display;\n",
       "        if (!display || display === 'none') {{\n",
       "            console.log([gd, 'removed!']);\n",
       "            Plotly.purge(gd);\n",
       "            observer.disconnect();\n",
       "        }}\n",
       "}});\n",
       "\n",
       "// Listen for the removal of the full notebook cells\n",
       "var notebookContainer = gd.closest('#notebook-container');\n",
       "if (notebookContainer) {{\n",
       "    x.observe(notebookContainer, {childList: true});\n",
       "}}\n",
       "\n",
       "// Listen for the clearing of the current output cell\n",
       "var outputEl = gd.closest('.output');\n",
       "if (outputEl) {{\n",
       "    x.observe(outputEl, {childList: true});\n",
       "}}\n",
       "\n",
       "                        })                };                });            </script>        </div>"
      ]
     },
     "metadata": {},
     "output_type": "display_data"
    }
   ],
   "source": [
    "# 단위기간 당 캔들차트\n",
    "\n",
    "fig = go.Figure(data = [go.Candlestick(x=df_tq['날짜'],\n",
    "                                       open= df_tq['시가'],\n",
    "                                        high= df_tq['고가'],\n",
    "                                       low= df_tq['저가'],\n",
    "                                        close= df_tq['종가'])] )\n",
    "\n",
    "fig.update_xaxes(rangeslider_visible=True)\n",
    "fig.show()                "
   ]
  },
  {
   "cell_type": "code",
   "execution_count": null,
   "id": "abb23db5",
   "metadata": {},
   "outputs": [],
   "source": []
  },
  {
   "cell_type": "code",
   "execution_count": 197,
   "id": "c241b825",
   "metadata": {},
   "outputs": [
    {
     "data": {
      "text/plain": [
       "date\n",
       "2017-02-06    2\n",
       "2017-02-13    4\n",
       "2017-02-20    5\n",
       "2017-02-27    5\n",
       "2017-03-06    5\n",
       "             ..\n",
       "2022-01-10    4\n",
       "2022-01-17    5\n",
       "2022-01-24    5\n",
       "2022-01-31    5\n",
       "2022-02-07    2\n",
       "Freq: W-MON, Name: 종가, Length: 262, dtype: int64"
      ]
     },
     "execution_count": 197,
     "metadata": {},
     "output_type": "execute_result"
    }
   ],
   "source": [
    "df_dubai.set_index('date').loc['2017-2-10':'2022-02-10'].resample('W-MON',label = 'left', closed='right')['종가'].count()"
   ]
  },
  {
   "cell_type": "code",
   "execution_count": 199,
   "id": "0e6dcc93",
   "metadata": {},
   "outputs": [
    {
     "data": {
      "text/html": [
       "<div>\n",
       "<style scoped>\n",
       "    .dataframe tbody tr th:only-of-type {\n",
       "        vertical-align: middle;\n",
       "    }\n",
       "\n",
       "    .dataframe tbody tr th {\n",
       "        vertical-align: top;\n",
       "    }\n",
       "\n",
       "    .dataframe thead th {\n",
       "        text-align: right;\n",
       "    }\n",
       "</style>\n",
       "<table border=\"1\" class=\"dataframe\">\n",
       "  <thead>\n",
       "    <tr style=\"text-align: right;\">\n",
       "      <th></th>\n",
       "      <th>company</th>\n",
       "      <th>종가</th>\n",
       "      <th>전일비</th>\n",
       "      <th>등락률</th>\n",
       "    </tr>\n",
       "    <tr>\n",
       "      <th>date</th>\n",
       "      <th></th>\n",
       "      <th></th>\n",
       "      <th></th>\n",
       "      <th></th>\n",
       "    </tr>\n",
       "  </thead>\n",
       "  <tbody>\n",
       "    <tr>\n",
       "      <th>2017-02-13</th>\n",
       "      <td>두바이유선물</td>\n",
       "      <td>54.03</td>\n",
       "      <td>-0.56</td>\n",
       "      <td>-1.03</td>\n",
       "    </tr>\n",
       "    <tr>\n",
       "      <th>2017-02-10</th>\n",
       "      <td>두바이유선물</td>\n",
       "      <td>54.59</td>\n",
       "      <td>0.48</td>\n",
       "      <td>0.89</td>\n",
       "    </tr>\n",
       "    <tr>\n",
       "      <th>2017-02-09</th>\n",
       "      <td>두바이유선물</td>\n",
       "      <td>54.11</td>\n",
       "      <td>0.38</td>\n",
       "      <td>0.71</td>\n",
       "    </tr>\n",
       "    <tr>\n",
       "      <th>2017-02-08</th>\n",
       "      <td>두바이유선물</td>\n",
       "      <td>53.73</td>\n",
       "      <td>-0.17</td>\n",
       "      <td>-0.32</td>\n",
       "    </tr>\n",
       "    <tr>\n",
       "      <th>2017-02-07</th>\n",
       "      <td>두바이유선물</td>\n",
       "      <td>53.90</td>\n",
       "      <td>-0.35</td>\n",
       "      <td>-0.65</td>\n",
       "    </tr>\n",
       "    <tr>\n",
       "      <th>2017-02-06</th>\n",
       "      <td>두바이유선물</td>\n",
       "      <td>54.25</td>\n",
       "      <td>-0.84</td>\n",
       "      <td>-1.52</td>\n",
       "    </tr>\n",
       "  </tbody>\n",
       "</table>\n",
       "</div>"
      ],
      "text/plain": [
       "           company     종가   전일비   등락률\n",
       "date                                 \n",
       "2017-02-13  두바이유선물  54.03 -0.56 -1.03\n",
       "2017-02-10  두바이유선물  54.59  0.48  0.89\n",
       "2017-02-09  두바이유선물  54.11  0.38  0.71\n",
       "2017-02-08  두바이유선물  53.73 -0.17 -0.32\n",
       "2017-02-07  두바이유선물  53.90 -0.35 -0.65\n",
       "2017-02-06  두바이유선물  54.25 -0.84 -1.52"
      ]
     },
     "execution_count": 199,
     "metadata": {},
     "output_type": "execute_result"
    }
   ],
   "source": [
    "df_dubai.set_index('date').loc['2017-02-06':'2017-02-13']"
   ]
  },
  {
   "cell_type": "code",
   "execution_count": null,
   "id": "a5ba7056",
   "metadata": {},
   "outputs": [],
   "source": []
  },
  {
   "cell_type": "code",
   "execution_count": null,
   "id": "f08f5bf4",
   "metadata": {},
   "outputs": [],
   "source": []
  },
  {
   "cell_type": "code",
   "execution_count": null,
   "id": "57248f61",
   "metadata": {},
   "outputs": [],
   "source": []
  },
  {
   "cell_type": "code",
   "execution_count": null,
   "id": "aa94450a",
   "metadata": {},
   "outputs": [],
   "source": [
    "\n"
   ]
  }
 ],
 "metadata": {
  "kernelspec": {
   "display_name": "Python 3 (ipykernel)",
   "language": "python",
   "name": "python3"
  },
  "language_info": {
   "codemirror_mode": {
    "name": "ipython",
    "version": 3
   },
   "file_extension": ".py",
   "mimetype": "text/x-python",
   "name": "python",
   "nbconvert_exporter": "python",
   "pygments_lexer": "ipython3",
   "version": "3.9.7"
  },
  "varInspector": {
   "cols": {
    "lenName": 16,
    "lenType": 16,
    "lenVar": 40
   },
   "kernels_config": {
    "python": {
     "delete_cmd_postfix": "",
     "delete_cmd_prefix": "del ",
     "library": "var_list.py",
     "varRefreshCmd": "print(var_dic_list())"
    },
    "r": {
     "delete_cmd_postfix": ") ",
     "delete_cmd_prefix": "rm(",
     "library": "var_list.r",
     "varRefreshCmd": "cat(var_dic_list()) "
    }
   },
   "types_to_exclude": [
    "module",
    "function",
    "builtin_function_or_method",
    "instance",
    "_Feature"
   ],
   "window_display": false
  }
 },
 "nbformat": 4,
 "nbformat_minor": 5
}
