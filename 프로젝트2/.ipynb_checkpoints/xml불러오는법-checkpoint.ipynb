{
 "cells": [
  {
   "cell_type": "code",
   "execution_count": 1,
   "metadata": {},
   "outputs": [],
   "source": [
    "import pandas as pd\n",
    "from pandas.io.json import json_normalize\n",
    "import numpy as np\n",
    "from bs4 import BeautifulSoup\n",
    "import requests\n",
    "import json\n",
    "import datetime as dt\n",
    "from dateutil.relativedelta import relativedelta\n",
    "import datetime as dt\n",
    "import time"
   ]
  },
  {
   "cell_type": "code",
   "execution_count": 4,
   "metadata": {},
   "outputs": [],
   "source": []
  },
  {
   "cell_type": "code",
   "execution_count": 8,
   "metadata": {},
   "outputs": [
    {
     "name": "stdout",
     "output_type": "stream",
     "text": [
      "b'<?xml version=\"1.0\" encoding=\"UTF-8\" standalone=\"yes\"?><response><header><resultCode>00</resultCode><resultMsg>NORMAL SERVICE.</resultMsg></header><body><items><item><anldt>20190501</anldt><anlrst>\\xec\\xa0\\x95\\xec\\x83\\x81</anlrst><anlval>-0.18</anlval><dv>SPI6</dv><hjdcd>1168058000</hjdcd></item><item><anldt>20190501</anldt><anlrst>\\xec\\xa0\\x95\\xec\\x83\\x81</anlrst><anlval>-0.21</anlval><dv>SPI3</dv><hjdcd>1168058000</hjdcd></item><item><anldt>20190502</anldt><anlrst>\\xec\\xa0\\x95\\xec\\x83\\x81</anlrst><anlval>-0.21</anlval><dv>SPI3</dv><hjdcd>1168058000</hjdcd></item><item><anldt>20190502</anldt><anlrst>\\xec\\xa0\\x95\\xec\\x83\\x81</anlrst><anlval>-0.18</anlval><dv>SPI6</dv><hjdcd>1168058000</hjdcd></item><item><anldt>20190503</anldt><anlrst>\\xec\\xa0\\x95\\xec\\x83\\x81</anlrst><anlval>-0.26</anlval><dv>SPI3</dv><hjdcd>1168058000</hjdcd></item><item><anldt>20190503</anldt><anlrst>\\xec\\xa0\\x95\\xec\\x83\\x81</anlrst><anlval>-0.2</anlval><dv>SPI6</dv><hjdcd>1168058000</hjdcd></item><item><anldt>20190504</anldt><anlrst>\\xec\\xa0\\x95\\xec\\x83\\x81</anlrst><anlval>-0.55</anlval><dv>SPI3</dv><hjdcd>1168058000</hjdcd></item><item><anldt>20190504</anldt><anlrst>\\xec\\xa0\\x95\\xec\\x83\\x81</anlrst><anlval>-0.2</anlval><dv>SPI6</dv><hjdcd>1168058000</hjdcd></item><item><anldt>20190505</anldt><anlrst>\\xec\\xa0\\x95\\xec\\x83\\x81</anlrst><anlval>-0.2</anlval><dv>SPI6</dv><hjdcd>1168058000</hjdcd></item><item><anldt>20190505</anldt><anlrst>\\xec\\xa0\\x95\\xec\\x83\\x81</anlrst><anlval>-0.57</anlval><dv>SPI3</dv><hjdcd>1168058000</hjdcd></item><item><anldt>20190506</anldt><anlrst>\\xec\\xa0\\x95\\xec\\x83\\x81</anlrst><anlval>-0.24</anlval><dv>SPI6</dv><hjdcd>1168058000</hjdcd></item><item><anldt>20190506</anldt><anlrst>\\xec\\xa0\\x95\\xec\\x83\\x81</anlrst><anlval>-0.62</anlval><dv>SPI3</dv><hjdcd>1168058000</hjdcd></item><item><anldt>20190507</anldt><anlrst>\\xec\\xa0\\x95\\xec\\x83\\x81</anlrst><anlval>-0.82</anlval><dv>SPI6</dv><hjdcd>1168058000</hjdcd></item><item><anldt>20190507</anldt><anlrst>\\xec\\xa0\\x95\\xec\\x83\\x81</anlrst><anlval>-0.67</anlval><dv>SPI3</dv><hjdcd>1168058000</hjdcd></item><item><anldt>20190508</anldt><anlrst>\\xeb\\xb3\\xb4\\xed\\x86\\xb5\\xea\\xb0\\x80\\xeb\\xad\\x84</anlrst><anlval>-1.23</anlval><dv>SPI3</dv><hjdcd>1168058000</hjdcd></item><item><anldt>20190508</anldt><anlrst>\\xec\\x8b\\xac\\xed\\x95\\x9c\\xea\\xb0\\x80\\xeb\\xad\\x84</anlrst><anlval>-1.56</anlval><dv>SPI6</dv><hjdcd>1168058000</hjdcd></item><item><anldt>20190509</anldt><anlrst>\\xec\\x8b\\xac\\xed\\x95\\x9c\\xea\\xb0\\x80\\xeb\\xad\\x84</anlrst><anlval>-1.58</anlval><dv>SPI6</dv><hjdcd>1168058000</hjdcd></item><item><anldt>20190509</anldt><anlrst>\\xeb\\xb3\\xb4\\xed\\x86\\xb5\\xea\\xb0\\x80\\xeb\\xad\\x84</anlrst><anlval>-1.25</anlval><dv>SPI3</dv><hjdcd>1168058000</hjdcd></item><item><anldt>20190510</anldt><anlrst>\\xec\\x8b\\xac\\xed\\x95\\x9c\\xea\\xb0\\x80\\xeb\\xad\\x84</anlrst><anlval>-1.6</anlval><dv>SPI6</dv><hjdcd>1168058000</hjdcd></item><item><anldt>20190510</anldt><anlrst>\\xeb\\xb3\\xb4\\xed\\x86\\xb5\\xea\\xb0\\x80\\xeb\\xad\\x84</anlrst><anlval>-1.28</anlval><dv>SPI3</dv><hjdcd>1168058000</hjdcd></item><item><anldt>20190511</anldt><anlrst>\\xec\\x8b\\xac\\xed\\x95\\x9c\\xea\\xb0\\x80\\xeb\\xad\\x84</anlrst><anlval>-1.67</anlval><dv>SPI6</dv><hjdcd>1168058000</hjdcd></item><item><anldt>20190511</anldt><anlrst>\\xeb\\xb3\\xb4\\xed\\x86\\xb5\\xea\\xb0\\x80\\xeb\\xad\\x84</anlrst><anlval>-1.4</anlval><dv>SPI3</dv><hjdcd>1168058000</hjdcd></item><item><anldt>20190512</anldt><anlrst>\\xec\\x8b\\xac\\xed\\x95\\x9c\\xea\\xb0\\x80\\xeb\\xad\\x84</anlrst><anlval>-1.7</anlval><dv>SPI6</dv><hjdcd>1168058000</hjdcd></item><item><anldt>20190512</anldt><anlrst>\\xeb\\xb3\\xb4\\xed\\x86\\xb5\\xea\\xb0\\x80\\xeb\\xad\\x84</anlrst><anlval>-1.44</anlval><dv>SPI3</dv><hjdcd>1168058000</hjdcd></item><item><anldt>20190513</anldt><anlrst>\\xec\\x8b\\xac\\xed\\x95\\x9c\\xea\\xb0\\x80\\xeb\\xad\\x84</anlrst><anlval>-1.76</anlval><dv>SPI6</dv><hjdcd>1168058000</hjdcd></item><item><anldt>20190513</anldt><anlrst>\\xec\\x8b\\xac\\xed\\x95\\x9c\\xea\\xb0\\x80\\xeb\\xad\\x84</anlrst><anlval>-1.51</anlval><dv>SPI3</dv><hjdcd>1168058000</hjdcd></item><item><anldt>20190514</anldt><anlrst>\\xec\\x8b\\xac\\xed\\x95\\x9c\\xea\\xb0\\x80\\xeb\\xad\\x84</anlrst><anlval>-1.76</anlval><dv>SPI6</dv><hjdcd>1168058000</hjdcd></item><item><anldt>20190514</anldt><anlrst>\\xec\\x8b\\xac\\xed\\x95\\x9c\\xea\\xb0\\x80\\xeb\\xad\\x84</anlrst><anlval>-1.52</anlval><dv>SPI3</dv><hjdcd>1168058000</hjdcd></item><item><anldt>20190515</anldt><anlrst>\\xec\\x8b\\xac\\xed\\x95\\x9c\\xea\\xb0\\x80\\xeb\\xad\\x84</anlrst><anlval>-1.52</anlval><dv>SPI3</dv><hjdcd>1168058000</hjdcd></item><item><anldt>20190515</anldt><anlrst>\\xec\\x8b\\xac\\xed\\x95\\x9c\\xea\\xb0\\x80\\xeb\\xad\\x84</anlrst><anlval>-1.76</anlval><dv>SPI6</dv><hjdcd>1168058000</hjdcd></item><item><anldt>20190516</anldt><anlrst>\\xec\\x8b\\xac\\xed\\x95\\x9c\\xea\\xb0\\x80\\xeb\\xad\\x84</anlrst><anlval>-1.52</anlval><dv>SPI3</dv><hjdcd>1168058000</hjdcd></item><item><anldt>20190516</anldt><anlrst>\\xec\\x8b\\xac\\xed\\x95\\x9c\\xea\\xb0\\x80\\xeb\\xad\\x84</anlrst><anlval>-1.74</anlval><dv>SPI6</dv><hjdcd>1168058000</hjdcd></item><item><anldt>20190517</anldt><anlrst>\\xec\\x8b\\xac\\xed\\x95\\x9c\\xea\\xb0\\x80\\xeb\\xad\\x84</anlrst><anlval>-1.7</anlval><dv>SPI6</dv><hjdcd>1168058000</hjdcd></item><item><anldt>20190517</anldt><anlrst>\\xec\\x8b\\xac\\xed\\x95\\x9c\\xea\\xb0\\x80\\xeb\\xad\\x84</anlrst><anlval>-1.5</anlval><dv>SPI3</dv><hjdcd>1168058000</hjdcd></item><item><anldt>20190518</anldt><anlrst>\\xec\\x8b\\xac\\xed\\x95\\x9c\\xea\\xb0\\x80\\xeb\\xad\\x84</anlrst><anlval>-1.68</anlval><dv>SPI6</dv><hjdcd>1168058000</hjdcd></item><item><anldt>20190518</anldt><anlrst>\\xec\\x8b\\xac\\xed\\x95\\x9c\\xea\\xb0\\x80\\xeb\\xad\\x84</anlrst><anlval>-1.52</anlval><dv>SPI3</dv><hjdcd>1168058000</hjdcd></item><item><anldt>20190519</anldt><anlrst>\\xeb\\xb3\\xb4\\xed\\x86\\xb5\\xea\\xb0\\x80\\xeb\\xad\\x84</anlrst><anlval>-1.45</anlval><dv>SPI6</dv><hjdcd>1168058000</hjdcd></item><item><anldt>20190519</anldt><anlrst>\\xeb\\xb3\\xb4\\xed\\x86\\xb5\\xea\\xb0\\x80\\xeb\\xad\\x84</anlrst><anlval>-1.25</anlval><dv>SPI3</dv><hjdcd>1168058000</hjdcd></item><item><anldt>20190520</anldt><anlrst>\\xeb\\xb3\\xb4\\xed\\x86\\xb5\\xea\\xb0\\x80\\xeb\\xad\\x84</anlrst><anlval>-1.4</anlval><dv>SPI6</dv><hjdcd>1168058000</hjdcd></item><item><anldt>20190520</anldt><anlrst>\\xeb\\xb3\\xb4\\xed\\x86\\xb5\\xea\\xb0\\x80\\xeb\\xad\\x84</anlrst><anlval>-1.27</anlval><dv>SPI3</dv><hjdcd>1168058000</hjdcd></item><item><anldt>20190521</anldt><anlrst>\\xeb\\xb3\\xb4\\xed\\x86\\xb5\\xea\\xb0\\x80\\xeb\\xad\\x84</anlrst><anlval>-1.4</anlval><dv>SPI6</dv><hjdcd>1168058000</hjdcd></item><item><anldt>20190521</anldt><anlrst>\\xeb\\xb3\\xb4\\xed\\x86\\xb5\\xea\\xb0\\x80\\xeb\\xad\\x84</anlrst><anlval>-1.27</anlval><dv>SPI3</dv><hjdcd>1168058000</hjdcd></item><item><anldt>20190522</anldt><anlrst>\\xeb\\xb3\\xb4\\xed\\x86\\xb5\\xea\\xb0\\x80\\xeb\\xad\\x84</anlrst><anlval>-1.3</anlval><dv>SPI3</dv><hjdcd>1168058000</hjdcd></item><item><anldt>20190522</anldt><anlrst>\\xeb\\xb3\\xb4\\xed\\x86\\xb5\\xea\\xb0\\x80\\xeb\\xad\\x84</anlrst><anlval>-1.4</anlval><dv>SPI6</dv><hjdcd>1168058000</hjdcd></item><item><anldt>20190523</anldt><anlrst>\\xec\\x8b\\xac\\xed\\x95\\x9c\\xea\\xb0\\x80\\xeb\\xad\\x84</anlrst><anlval>-1.54</anlval><dv>SPI6</dv><hjdcd>1168058000</hjdcd></item><item><anldt>20190523</anldt><anlrst>\\xeb\\xb3\\xb4\\xed\\x86\\xb5\\xea\\xb0\\x80\\xeb\\xad\\x84</anlrst><anlval>-1.3</anlval><dv>SPI3</dv><hjdcd>1168058000</hjdcd></item><item><anldt>20190524</anldt><anlrst>\\xeb\\xb3\\xb4\\xed\\x86\\xb5\\xea\\xb0\\x80\\xeb\\xad\\x84</anlrst><anlval>-1.3</anlval><dv>SPI3</dv><hjdcd>1168058000</hjdcd></item><item><anldt>20190524</anldt><anlrst>\\xec\\x8b\\xac\\xed\\x95\\x9c\\xea\\xb0\\x80\\xeb\\xad\\x84</anlrst><anlval>-1.56</anlval><dv>SPI6</dv><hjdcd>1168058000</hjdcd></item><item><anldt>20190525</anldt><anlrst>\\xec\\x8b\\xac\\xed\\x95\\x9c\\xea\\xb0\\x80\\xeb\\xad\\x84</anlrst><anlval>-1.62</anlval><dv>SPI6</dv><hjdcd>1168058000</hjdcd></item><item><anldt>20190525</anldt><anlrst>\\xeb\\xb3\\xb4\\xed\\x86\\xb5\\xea\\xb0\\x80\\xeb\\xad\\x84</anlrst><anlval>-1.35</anlval><dv>SPI3</dv><hjdcd>1168058000</hjdcd></item><item><anldt>20190526</anldt><anlrst>\\xeb\\xb3\\xb4\\xed\\x86\\xb5\\xea\\xb0\\x80\\xeb\\xad\\x84</anlrst><anlval>-1.37</anlval><dv>SPI3</dv><hjdcd>1168058000</hjdcd></item><item><anldt>20190526</anldt><anlrst>\\xec\\x8b\\xac\\xed\\x95\\x9c\\xea\\xb0\\x80\\xeb\\xad\\x84</anlrst><anlval>-1.6</anlval><dv>SPI6</dv><hjdcd>1168058000</hjdcd></item><item><anldt>20190527</anldt><anlrst>\\xeb\\xb3\\xb4\\xed\\x86\\xb5\\xea\\xb0\\x80\\xeb\\xad\\x84</anlrst><anlval>-1.46</anlval><dv>SPI6</dv><hjdcd>1168058000</hjdcd></item><item><anldt>20190527</anldt><anlrst>\\xeb\\xb3\\xb4\\xed\\x86\\xb5\\xea\\xb0\\x80\\xeb\\xad\\x84</anlrst><anlval>-1.25</anlval><dv>SPI3</dv><hjdcd>1168058000</hjdcd></item><item><anldt>20190528</anldt><anlrst>\\xeb\\xb3\\xb4\\xed\\x86\\xb5\\xea\\xb0\\x80\\xeb\\xad\\x84</anlrst><anlval>-1.48</anlval><dv>SPI6</dv><hjdcd>1168058000</hjdcd></item><item><anldt>20190528</anldt><anlrst>\\xeb\\xb3\\xb4\\xed\\x86\\xb5\\xea\\xb0\\x80\\xeb\\xad\\x84</anlrst><anlval>-1.25</anlval><dv>SPI3</dv><hjdcd>1168058000</hjdcd></item><item><anldt>20190529</anldt><anlrst>\\xeb\\xb3\\xb4\\xed\\x86\\xb5\\xea\\xb0\\x80\\xeb\\xad\\x84</anlrst><anlval>-1.24</anlval><dv>SPI3</dv><hjdcd>1168058000</hjdcd></item><item><anldt>20190529</anldt><anlrst>\\xeb\\xb3\\xb4\\xed\\x86\\xb5\\xea\\xb0\\x80\\xeb\\xad\\x84</anlrst><anlval>-1.48</anlval><dv>SPI6</dv><hjdcd>1168058000</hjdcd></item><item><anldt>20190530</anldt><anlrst>\\xeb\\xb3\\xb4\\xed\\x86\\xb5\\xea\\xb0\\x80\\xeb\\xad\\x84</anlrst><anlval>-1.46</anlval><dv>SPI6</dv><hjdcd>1168058000</hjdcd></item><item><anldt>20190530</anldt><anlrst>\\xeb\\xb3\\xb4\\xed\\x86\\xb5\\xea\\xb0\\x80\\xeb\\xad\\x84</anlrst><anlval>-1.22</anlval><dv>SPI3</dv><hjdcd>1168058000</hjdcd></item><item><anldt>20190531</anldt><anlrst>\\xeb\\xb3\\xb4\\xed\\x86\\xb5\\xea\\xb0\\x80\\xeb\\xad\\x84</anlrst><anlval>-1.21</anlval><dv>SPI3</dv><hjdcd>1168058000</hjdcd></item><item><anldt>20190531</anldt><anlrst>\\xeb\\xb3\\xb4\\xed\\x86\\xb5\\xea\\xb0\\x80\\xeb\\xad\\x84</anlrst><anlval>-1.46</anlval><dv>SPI6</dv><hjdcd>1168058000</hjdcd></item></items><numOfRows>100</numOfRows><pageNo>1</pageNo><totalCount>62</totalCount></body></response>'\n"
     ]
    }
   ],
   "source": [
    "df = pd.DataFrame()\n",
    "url = 'http://apis.data.go.kr/B500001/drghtIdexSpiAnals/analsInfoList'\n",
    "key_en = 'jyEdgeNnZVd06qZ%2FUS7YHf%2F7XVPrq5EnWfJ2bVpheVMHaaFe2xK6p53%2Be0mlQyENaepELSnSQl4DB9VusG3zWQ%3D%3D'\n",
    "key_de = 'jyEdgeNnZVd06qZ/US7YHf/7XVPrq5EnWfJ2bVpheVMHaaFe2xK6p53+e0mlQyENaepELSnSQl4DB9VusG3zWQ=='\n",
    "params ={'serviceKey' : key_de, 'pageNo' : '1', 'numOfRows' : '100', 'hjdCd' : '1168058000', 'stDt' : '20190501', 'edDt' : '20190531' }\n",
    "response = requests.get(url, params=params)\n",
    "print(response.content)\n",
    "# while start_date < dt.datetime(2022,1,1):\n",
    "#     start_date = dt.datetime(1980,1,1)\n",
    "#     Startdt = start_date.strftime('%Y%m%d')\n",
    "#     end_date = start_date + relativedelta(years=1)\n",
    "#     Enddt = end_date.strftime('%Y%m%d')\n",
    "#     start_date = end_date\n",
    "#     for locnum, loc in location:\n",
    "#         params ={'serviceKey' : key_de, 'pageNo' : '1', 'numOfRows' : '999', 'dataType' : 'JSON', 'dataCd' : 'ASOS', 'dateCd' : 'DAY', 'startDt' : Startdt, 'endDt' : Enddt, 'stnIds' : locnum }\n",
    "#         res = requests.get(url, params=params)\n",
    "#         time.sleep(0.1)\n",
    "#         json_object = json.loads(res.text)\n",
    "#         try:\n",
    "#             df = pd.concat([df,json_normalize(json_object['response']['body']['items']['item'])])\n",
    "#         except:\n",
    "#             pass"
   ]
  },
  {
   "cell_type": "code",
   "execution_count": 10,
   "metadata": {},
   "outputs": [],
   "source": [
    "import xml.etree.ElementTree as ET\n",
    "xtree = ET.fromstring(response.text)"
   ]
  },
  {
   "cell_type": "code",
   "execution_count": 11,
   "metadata": {},
   "outputs": [
    {
     "data": {
      "text/plain": [
       "<Element 'response' at 0x0000021A1FC4C950>"
      ]
     },
     "execution_count": 11,
     "metadata": {},
     "output_type": "execute_result"
    }
   ],
   "source": [
    "for node in xtree:\n",
    "    n_title = node.find()"
   ]
  },
  {
   "cell_type": "code",
   "execution_count": 17,
   "metadata": {},
   "outputs": [
    {
     "data": {
      "text/html": [
       "<div>\n",
       "<style scoped>\n",
       "    .dataframe tbody tr th:only-of-type {\n",
       "        vertical-align: middle;\n",
       "    }\n",
       "\n",
       "    .dataframe tbody tr th {\n",
       "        vertical-align: top;\n",
       "    }\n",
       "\n",
       "    .dataframe thead th {\n",
       "        text-align: right;\n",
       "    }\n",
       "</style>\n",
       "<table border=\"1\" class=\"dataframe\">\n",
       "  <thead>\n",
       "    <tr style=\"text-align: right;\">\n",
       "      <th></th>\n",
       "      <th>anldt</th>\n",
       "      <th>anlrst</th>\n",
       "      <th>anlval</th>\n",
       "      <th>dv</th>\n",
       "      <th>hjdcd</th>\n",
       "    </tr>\n",
       "  </thead>\n",
       "  <tbody>\n",
       "    <tr>\n",
       "      <th>0</th>\n",
       "      <td>20190501</td>\n",
       "      <td>정상</td>\n",
       "      <td>-0.18</td>\n",
       "      <td>SPI6</td>\n",
       "      <td>1168058000</td>\n",
       "    </tr>\n",
       "    <tr>\n",
       "      <th>1</th>\n",
       "      <td>20190501</td>\n",
       "      <td>정상</td>\n",
       "      <td>-0.21</td>\n",
       "      <td>SPI3</td>\n",
       "      <td>1168058000</td>\n",
       "    </tr>\n",
       "    <tr>\n",
       "      <th>2</th>\n",
       "      <td>20190502</td>\n",
       "      <td>정상</td>\n",
       "      <td>-0.21</td>\n",
       "      <td>SPI3</td>\n",
       "      <td>1168058000</td>\n",
       "    </tr>\n",
       "    <tr>\n",
       "      <th>3</th>\n",
       "      <td>20190502</td>\n",
       "      <td>정상</td>\n",
       "      <td>-0.18</td>\n",
       "      <td>SPI6</td>\n",
       "      <td>1168058000</td>\n",
       "    </tr>\n",
       "    <tr>\n",
       "      <th>4</th>\n",
       "      <td>20190503</td>\n",
       "      <td>정상</td>\n",
       "      <td>-0.26</td>\n",
       "      <td>SPI3</td>\n",
       "      <td>1168058000</td>\n",
       "    </tr>\n",
       "    <tr>\n",
       "      <th>...</th>\n",
       "      <td>...</td>\n",
       "      <td>...</td>\n",
       "      <td>...</td>\n",
       "      <td>...</td>\n",
       "      <td>...</td>\n",
       "    </tr>\n",
       "    <tr>\n",
       "      <th>57</th>\n",
       "      <td>20190529</td>\n",
       "      <td>보통가뭄</td>\n",
       "      <td>-1.48</td>\n",
       "      <td>SPI6</td>\n",
       "      <td>1168058000</td>\n",
       "    </tr>\n",
       "    <tr>\n",
       "      <th>58</th>\n",
       "      <td>20190530</td>\n",
       "      <td>보통가뭄</td>\n",
       "      <td>-1.46</td>\n",
       "      <td>SPI6</td>\n",
       "      <td>1168058000</td>\n",
       "    </tr>\n",
       "    <tr>\n",
       "      <th>59</th>\n",
       "      <td>20190530</td>\n",
       "      <td>보통가뭄</td>\n",
       "      <td>-1.22</td>\n",
       "      <td>SPI3</td>\n",
       "      <td>1168058000</td>\n",
       "    </tr>\n",
       "    <tr>\n",
       "      <th>60</th>\n",
       "      <td>20190531</td>\n",
       "      <td>보통가뭄</td>\n",
       "      <td>-1.21</td>\n",
       "      <td>SPI3</td>\n",
       "      <td>1168058000</td>\n",
       "    </tr>\n",
       "    <tr>\n",
       "      <th>61</th>\n",
       "      <td>20190531</td>\n",
       "      <td>보통가뭄</td>\n",
       "      <td>-1.46</td>\n",
       "      <td>SPI6</td>\n",
       "      <td>1168058000</td>\n",
       "    </tr>\n",
       "  </tbody>\n",
       "</table>\n",
       "<p>62 rows × 5 columns</p>\n",
       "</div>"
      ],
      "text/plain": [
       "       anldt anlrst  anlval    dv       hjdcd\n",
       "0   20190501     정상   -0.18  SPI6  1168058000\n",
       "1   20190501     정상   -0.21  SPI3  1168058000\n",
       "2   20190502     정상   -0.21  SPI3  1168058000\n",
       "3   20190502     정상   -0.18  SPI6  1168058000\n",
       "4   20190503     정상   -0.26  SPI3  1168058000\n",
       "..       ...    ...     ...   ...         ...\n",
       "57  20190529   보통가뭄   -1.48  SPI6  1168058000\n",
       "58  20190530   보통가뭄   -1.46  SPI6  1168058000\n",
       "59  20190530   보통가뭄   -1.22  SPI3  1168058000\n",
       "60  20190531   보통가뭄   -1.21  SPI3  1168058000\n",
       "61  20190531   보통가뭄   -1.46  SPI6  1168058000\n",
       "\n",
       "[62 rows x 5 columns]"
      ]
     },
     "execution_count": 17,
     "metadata": {},
     "output_type": "execute_result"
    }
   ],
   "source": [
    "pd.read_xml(response.text,xpath=\".//item\")"
   ]
  },
  {
   "cell_type": "code",
   "execution_count": null,
   "metadata": {},
   "outputs": [],
   "source": []
  }
 ],
 "metadata": {
  "kernelspec": {
   "display_name": "Python 3 (ipykernel)",
   "language": "python",
   "name": "python3"
  },
  "language_info": {
   "codemirror_mode": {
    "name": "ipython",
    "version": 3
   },
   "file_extension": ".py",
   "mimetype": "text/x-python",
   "name": "python",
   "nbconvert_exporter": "python",
   "pygments_lexer": "ipython3",
   "version": "3.9.7"
  },
  "toc": {
   "base_numbering": 1,
   "nav_menu": {},
   "number_sections": true,
   "sideBar": true,
   "skip_h1_title": false,
   "title_cell": "Table of Contents",
   "title_sidebar": "Contents",
   "toc_cell": false,
   "toc_position": {},
   "toc_section_display": true,
   "toc_window_display": false
  },
  "varInspector": {
   "cols": {
    "lenName": 16,
    "lenType": 16,
    "lenVar": 40
   },
   "kernels_config": {
    "python": {
     "delete_cmd_postfix": "",
     "delete_cmd_prefix": "del ",
     "library": "var_list.py",
     "varRefreshCmd": "print(var_dic_list())"
    },
    "r": {
     "delete_cmd_postfix": ") ",
     "delete_cmd_prefix": "rm(",
     "library": "var_list.r",
     "varRefreshCmd": "cat(var_dic_list()) "
    }
   },
   "position": {
    "height": "144.828px",
    "left": "1068.02px",
    "right": "20px",
    "top": "16px",
    "width": "350px"
   },
   "types_to_exclude": [
    "module",
    "function",
    "builtin_function_or_method",
    "instance",
    "_Feature"
   ],
   "window_display": true
  }
 },
 "nbformat": 4,
 "nbformat_minor": 4
}
