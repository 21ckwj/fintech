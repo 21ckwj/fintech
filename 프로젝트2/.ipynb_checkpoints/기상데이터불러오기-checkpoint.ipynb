{
 "cells": [
  {
   "cell_type": "code",
   "execution_count": 4,
   "id": "fc51e8dc",
   "metadata": {},
   "outputs": [],
   "source": [
    "import pandas as pd\n",
    "import numpy as np"
   ]
  },
  {
   "cell_type": "code",
   "execution_count": 7,
   "id": "e91d5298",
   "metadata": {},
   "outputs": [
    {
     "data": {
      "text/html": [
       "<div>\n",
       "<style scoped>\n",
       "    .dataframe tbody tr th:only-of-type {\n",
       "        vertical-align: middle;\n",
       "    }\n",
       "\n",
       "    .dataframe tbody tr th {\n",
       "        vertical-align: top;\n",
       "    }\n",
       "\n",
       "    .dataframe thead th {\n",
       "        text-align: right;\n",
       "    }\n",
       "</style>\n",
       "<table border=\"1\" class=\"dataframe\">\n",
       "  <thead>\n",
       "    <tr style=\"text-align: right;\">\n",
       "      <th></th>\n",
       "      <th>지점 번호</th>\n",
       "      <th>관측지점</th>\n",
       "      <th>시간</th>\n",
       "      <th>평균 기온</th>\n",
       "      <th>최저 기온</th>\n",
       "      <th>최저 기온 시각</th>\n",
       "      <th>최고 기온</th>\n",
       "      <th>최대 기온 시각</th>\n",
       "      <th>10분 최다 강수량</th>\n",
       "      <th>10분 최다강수량 시각</th>\n",
       "      <th>...</th>\n",
       "      <th>0.5m 지중온도</th>\n",
       "      <th>1.0m 지중온도</th>\n",
       "      <th>1.5m 지중온도</th>\n",
       "      <th>3.0m 지중온도</th>\n",
       "      <th>5.0m 지중온도</th>\n",
       "      <th>합계 대형증발량</th>\n",
       "      <th>합계 소형증발량</th>\n",
       "      <th>9-9강수</th>\n",
       "      <th>일기현상</th>\n",
       "      <th>안개 계속 시간</th>\n",
       "    </tr>\n",
       "  </thead>\n",
       "  <tbody>\n",
       "    <tr>\n",
       "      <th>0</th>\n",
       "      <td>105</td>\n",
       "      <td>강릉</td>\n",
       "      <td>1980-01-01</td>\n",
       "      <td>3.0</td>\n",
       "      <td>-0.4</td>\n",
       "      <td>714</td>\n",
       "      <td>7.0</td>\n",
       "      <td>1549.0</td>\n",
       "      <td>NaN</td>\n",
       "      <td>NaN</td>\n",
       "      <td>...</td>\n",
       "      <td>6.1</td>\n",
       "      <td>9.1</td>\n",
       "      <td>11.4</td>\n",
       "      <td>15.0</td>\n",
       "      <td>15.4</td>\n",
       "      <td>NaN</td>\n",
       "      <td>0.9</td>\n",
       "      <td>2.6</td>\n",
       "      <td>{비}2218-{비}{강도0}2400-</td>\n",
       "      <td>NaN</td>\n",
       "    </tr>\n",
       "    <tr>\n",
       "      <th>1</th>\n",
       "      <td>105</td>\n",
       "      <td>강릉</td>\n",
       "      <td>1980-01-02</td>\n",
       "      <td>6.0</td>\n",
       "      <td>3.5</td>\n",
       "      <td>207</td>\n",
       "      <td>8.4</td>\n",
       "      <td>1500.0</td>\n",
       "      <td>NaN</td>\n",
       "      <td>NaN</td>\n",
       "      <td>...</td>\n",
       "      <td>6.7</td>\n",
       "      <td>9.0</td>\n",
       "      <td>11.1</td>\n",
       "      <td>14.8</td>\n",
       "      <td>15.5</td>\n",
       "      <td>NaN</td>\n",
       "      <td>1.5</td>\n",
       "      <td>1.4</td>\n",
       "      <td>-{비}-{비}{강도0}0300-{비}{강도0}0600-{비}{강도0}0900-{비...</td>\n",
       "      <td>NaN</td>\n",
       "    </tr>\n",
       "    <tr>\n",
       "      <th>2</th>\n",
       "      <td>105</td>\n",
       "      <td>강릉</td>\n",
       "      <td>1980-01-03</td>\n",
       "      <td>7.5</td>\n",
       "      <td>4.1</td>\n",
       "      <td>1810</td>\n",
       "      <td>12.8</td>\n",
       "      <td>1330.0</td>\n",
       "      <td>NaN</td>\n",
       "      <td>NaN</td>\n",
       "      <td>...</td>\n",
       "      <td>6.8</td>\n",
       "      <td>9.0</td>\n",
       "      <td>11.0</td>\n",
       "      <td>14.8</td>\n",
       "      <td>15.3</td>\n",
       "      <td>NaN</td>\n",
       "      <td>2.2</td>\n",
       "      <td>NaN</td>\n",
       "      <td>NaN</td>\n",
       "      <td>NaN</td>\n",
       "    </tr>\n",
       "    <tr>\n",
       "      <th>3</th>\n",
       "      <td>105</td>\n",
       "      <td>강릉</td>\n",
       "      <td>1980-01-04</td>\n",
       "      <td>4.1</td>\n",
       "      <td>-0.8</td>\n",
       "      <td>2356</td>\n",
       "      <td>6.8</td>\n",
       "      <td>1206.0</td>\n",
       "      <td>NaN</td>\n",
       "      <td>NaN</td>\n",
       "      <td>...</td>\n",
       "      <td>7.0</td>\n",
       "      <td>9.1</td>\n",
       "      <td>11.0</td>\n",
       "      <td>14.7</td>\n",
       "      <td>15.5</td>\n",
       "      <td>NaN</td>\n",
       "      <td>1.8</td>\n",
       "      <td>1.5</td>\n",
       "      <td>{비}1406-{싸락눈}1437-{진눈깨비}1450-{진눈깨비}{강도0}1500-{...</td>\n",
       "      <td>NaN</td>\n",
       "    </tr>\n",
       "    <tr>\n",
       "      <th>4</th>\n",
       "      <td>105</td>\n",
       "      <td>강릉</td>\n",
       "      <td>1980-01-05</td>\n",
       "      <td>-0.8</td>\n",
       "      <td>-3.9</td>\n",
       "      <td>746</td>\n",
       "      <td>4.3</td>\n",
       "      <td>1224.0</td>\n",
       "      <td>NaN</td>\n",
       "      <td>NaN</td>\n",
       "      <td>...</td>\n",
       "      <td>7.3</td>\n",
       "      <td>9.1</td>\n",
       "      <td>10.8</td>\n",
       "      <td>14.7</td>\n",
       "      <td>15.4</td>\n",
       "      <td>NaN</td>\n",
       "      <td>2.0</td>\n",
       "      <td>NaN</td>\n",
       "      <td>NaN</td>\n",
       "      <td>NaN</td>\n",
       "    </tr>\n",
       "  </tbody>\n",
       "</table>\n",
       "<p>5 rows × 62 columns</p>\n",
       "</div>"
      ],
      "text/plain": [
       "   지점 번호 관측지점          시간  평균 기온  최저 기온  최저 기온 시각  최고 기온  최대 기온 시각  \\\n",
       "0    105   강릉  1980-01-01    3.0   -0.4       714    7.0    1549.0   \n",
       "1    105   강릉  1980-01-02    6.0    3.5       207    8.4    1500.0   \n",
       "2    105   강릉  1980-01-03    7.5    4.1      1810   12.8    1330.0   \n",
       "3    105   강릉  1980-01-04    4.1   -0.8      2356    6.8    1206.0   \n",
       "4    105   강릉  1980-01-05   -0.8   -3.9       746    4.3    1224.0   \n",
       "\n",
       "   10분 최다 강수량  10분 최다강수량 시각  ...  0.5m 지중온도  1.0m 지중온도  1.5m 지중온도  3.0m 지중온도  \\\n",
       "0         NaN           NaN  ...        6.1        9.1       11.4       15.0   \n",
       "1         NaN           NaN  ...        6.7        9.0       11.1       14.8   \n",
       "2         NaN           NaN  ...        6.8        9.0       11.0       14.8   \n",
       "3         NaN           NaN  ...        7.0        9.1       11.0       14.7   \n",
       "4         NaN           NaN  ...        7.3        9.1       10.8       14.7   \n",
       "\n",
       "   5.0m 지중온도  합계 대형증발량  합계 소형증발량  9-9강수  \\\n",
       "0       15.4       NaN       0.9    2.6   \n",
       "1       15.5       NaN       1.5    1.4   \n",
       "2       15.3       NaN       2.2    NaN   \n",
       "3       15.5       NaN       1.8    1.5   \n",
       "4       15.4       NaN       2.0    NaN   \n",
       "\n",
       "                                                일기현상  안개 계속 시간  \n",
       "0                              {비}2218-{비}{강도0}2400-       NaN  \n",
       "1  -{비}-{비}{강도0}0300-{비}{강도0}0600-{비}{강도0}0900-{비...       NaN  \n",
       "2                                                NaN       NaN  \n",
       "3  {비}1406-{싸락눈}1437-{진눈깨비}1450-{진눈깨비}{강도0}1500-{...       NaN  \n",
       "4                                                NaN       NaN  \n",
       "\n",
       "[5 rows x 62 columns]"
      ]
     },
     "execution_count": 7,
     "metadata": {},
     "output_type": "execute_result"
    }
   ],
   "source": [
    "df = pd.read_csv('./data/기상청ASOS관측.csv',index_col=0)\n",
    "df.head()"
   ]
  },
  {
   "cell_type": "code",
   "execution_count": 6,
   "id": "b614dfc1",
   "metadata": {},
   "outputs": [
    {
     "data": {
      "text/plain": [
       "Index(['Unnamed: 0', '지점 번호', '관측지점', '시간', '평균 기온', '최저 기온', '최저 기온 시각',\n",
       "       '최고 기온', '최대 기온 시각', '10분 최다 강수량', '10분 최다강수량 시각', '1시간 최다강수량',\n",
       "       '1시간 최다 강수량 시각', 'sumRnDur', '일강수량', '최대 순간풍속', '최대 순간 풍속 풍향',\n",
       "       '최대 순간풍속 시간', '최대 풍속', '최대 풍속 풍향', '최대 풍속 시각', '평균 풍속', '풍정합', '최대 풍향',\n",
       "       '평균 이슬점온도', '최소 상대습도', '평균 상대습도 시각', '평균 상대습도', '평균 증기압', '평균 현지기압',\n",
       "       '최고 해면 기압', '최고 해면기압 시각', '최저 해면기압', '최저 해면기압 시각', '평균 해면기압', '가조시간',\n",
       "       '합계 일조 시간', '1시간 최다 일사량 시각', '1시간 최다 일사량', '합계 일사', '일 최심신적설',\n",
       "       '일 최심신적설 시각', '일 최심적설', '일 최심적설 시각', '합계 3시간 신적설', '평균 전운량', '평균 중하층운량',\n",
       "       '평균 지면온도', '최저 초상온도', '평균 5cm 지중온도', '평균10cm 지중온도', '평균 20cm 지중온도',\n",
       "       '평균 30cm 지중온도', '0.5m 지중온도', '1.0m 지중온도', '1.5m 지중온도', '3.0m 지중온도',\n",
       "       '5.0m 지중온도', '합계 대형증발량', '합계 소형증발량', '9-9강수', '일기현상', '안개 계속 시간'],\n",
       "      dtype='object')"
      ]
     },
     "execution_count": 6,
     "metadata": {},
     "output_type": "execute_result"
    }
   ],
   "source": [
    "df.columns"
   ]
  },
  {
   "cell_type": "code",
   "execution_count": 8,
   "id": "b594d4ae",
   "metadata": {},
   "outputs": [
    {
     "data": {
      "text/plain": [
       "array(['강릉', '춘천', '울릉도', '광주', '대구', '대전', '부산', '서울', '전주', '제주', '청주',\n",
       "       '백령도'], dtype=object)"
      ]
     },
     "execution_count": 8,
     "metadata": {},
     "output_type": "execute_result"
    }
   ],
   "source": [
    "df['관측지점'].unique()"
   ]
  },
  {
   "cell_type": "code",
   "execution_count": null,
   "id": "2b1d9b67",
   "metadata": {},
   "outputs": [],
   "source": [
    "# 서울,경기도 : 서울\n",
    "# 강원도 : 강릉, 춘천\n",
    "# 충청남도 : 대전\n",
    "# 충청북도 : 청주\n",
    "# 전라북도 : 전주\n",
    "# 전라남도 : 광주\n",
    "# 경상북도 : 대구\n",
    "# 경상남도 : 부산\n",
    "# 제주도 : 제주\n",
    "# 백렬도 :\n",
    "# 울릉도\n"
   ]
  },
  {
   "cell_type": "code",
   "execution_count": null,
   "id": "f6a5ca03",
   "metadata": {},
   "outputs": [],
   "source": []
  }
 ],
 "metadata": {
  "kernelspec": {
   "display_name": "Python 3 (ipykernel)",
   "language": "python",
   "name": "python3"
  },
  "language_info": {
   "codemirror_mode": {
    "name": "ipython",
    "version": 3
   },
   "file_extension": ".py",
   "mimetype": "text/x-python",
   "name": "python",
   "nbconvert_exporter": "python",
   "pygments_lexer": "ipython3",
   "version": "3.9.7"
  },
  "varInspector": {
   "cols": {
    "lenName": 16,
    "lenType": 16,
    "lenVar": 40
   },
   "kernels_config": {
    "python": {
     "delete_cmd_postfix": "",
     "delete_cmd_prefix": "del ",
     "library": "var_list.py",
     "varRefreshCmd": "print(var_dic_list())"
    },
    "r": {
     "delete_cmd_postfix": ") ",
     "delete_cmd_prefix": "rm(",
     "library": "var_list.r",
     "varRefreshCmd": "cat(var_dic_list()) "
    }
   },
   "types_to_exclude": [
    "module",
    "function",
    "builtin_function_or_method",
    "instance",
    "_Feature"
   ],
   "window_display": false
  }
 },
 "nbformat": 4,
 "nbformat_minor": 5
}
