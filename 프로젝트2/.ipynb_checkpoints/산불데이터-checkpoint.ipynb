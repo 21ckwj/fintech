{
 "cells": [
  {
   "cell_type": "markdown",
   "id": "0db5f5e5",
   "metadata": {},
   "source": [
    "## 산불 원인"
   ]
  },
  {
   "cell_type": "markdown",
   "id": "f7166ac7",
   "metadata": {},
   "source": [
    "![](https://www.forest.go.kr/kfsweb/cmm/fms/getImage.do?atchFileId=FILE_000000020058626&fileSn=1&thumbYn=)"
   ]
  },
  {
   "cell_type": "markdown",
   "id": "6bfd1d22",
   "metadata": {},
   "source": [
    "## 계절별 비율"
   ]
  },
  {
   "cell_type": "markdown",
   "id": "6a80f8a5",
   "metadata": {},
   "source": [
    "![](https://www.forest.go.kr/kfsweb/cmm/fms/getImage.do?atchFileId=FILE_000000020046889&fileSn=1&thumbYn=)"
   ]
  },
  {
   "cell_type": "markdown",
   "id": "6a8af509",
   "metadata": {},
   "source": [
    "## 산불의 가장 큰 원인 \n",
    "* 기후변화(습도, 풍속, 온도 등등)\n",
    "* 등산객 수"
   ]
  },
  {
   "cell_type": "code",
   "execution_count": 8,
   "id": "a7256f3f",
   "metadata": {},
   "outputs": [],
   "source": [
    "import pandas as pd\n",
    "import numpy as np\n",
    "\n",
    "import requests\n",
    "from bs4 import BeautifulSoup"
   ]
  },
  {
   "cell_type": "code",
   "execution_count": 25,
   "id": "356d1092",
   "metadata": {},
   "outputs": [
    {
     "name": "stdout",
     "output_type": "stream",
     "text": [
      "1\n",
      "<ocurdt>198412031150</ocurdt>\n",
      "<ocurcause>입산자실화</ocurcause>\n",
      "<tempavg>13.4</tempavg>\n",
      "--------------------------------------------------\n",
      "2\n",
      "None\n",
      "None\n",
      "None\n",
      "--------------------------------------------------\n",
      "3\n",
      "None\n",
      "None\n",
      "None\n",
      "--------------------------------------------------\n",
      "4\n",
      "None\n",
      "None\n",
      "None\n",
      "--------------------------------------------------\n",
      "5\n",
      "None\n",
      "None\n",
      "None\n",
      "--------------------------------------------------\n",
      "6\n",
      "None\n",
      "None\n",
      "None\n",
      "--------------------------------------------------\n",
      "7\n",
      "None\n",
      "None\n",
      "None\n",
      "--------------------------------------------------\n",
      "8\n",
      "None\n",
      "None\n",
      "None\n",
      "--------------------------------------------------\n",
      "9\n",
      "None\n",
      "None\n",
      "None\n",
      "--------------------------------------------------\n",
      "10\n",
      "None\n",
      "None\n",
      "None\n",
      "--------------------------------------------------\n"
     ]
    }
   ],
   "source": [
    "f_day = '19841201'\n",
    "l_day = '19841204'\n",
    "\n",
    "\n",
    "page = 3\n",
    "\n",
    "reason = []\n",
    "for p in range(1, page+1):\n",
    "\n",
    "    key = 'lj1bcK6kk1SlfbI0bHFwZNqo8sjEyQJ0XDwGOjV70SP2vXBS/DosbER90s3y1LOZCPEcQn3SqArgHpIv+Azj1Q=='\n",
    "    # key = 'lj1bcK6kk1SlfbI0bHFwZNqo8sjEyQJ0XDwGOjV70SP2vXBS%2FDosbER90s3y1LOZCPEcQn3SqArgHpIv%2BAzj1Q%3D%3D'\n",
    "\n",
    "    url = 'http://openapi.forest.go.kr/openapi/service/forestDisasterService/frstFireOpenAPI'\n",
    "    # url = 'http://openapi.forest.go.kr/openapi/service/forestDisasterService?_wadl&type=xml'\n",
    "\n",
    "    params = {'serviceKey' : key, 'searchStDt' : f_day, 'searchEdDt' : l_day, 'pageNo' : p , 'numOfRows' : '10' }\n",
    "\n",
    "\n",
    "    response = requests.get(url, params= params)\n",
    "    res = response.text\n",
    "    soup = BeautifulSoup(res,'html.parser')\n",
    "\n",
    "    # 발생장소(지번)\n",
    "\n",
    "    print(p)\n",
    "    print(soup.find('ocurdt'))\n",
    "    print(soup.find('ocurcause'))\n",
    "    print(soup.find('tempavg'))\n",
    "    print('-'* 50)\n"
   ]
  },
  {
   "cell_type": "code",
   "execution_count": null,
   "id": "0ba045c7",
   "metadata": {},
   "outputs": [],
   "source": [
    "발생장소(지번)\tocurjibun\t20 Byte\t0\t산50-7\t발생장소(지번)\n",
    "\n",
    "발생세부원인\tocurcause\t100 Byte\t0\t입산자실화\t발생세부원인\n",
    "피해면적\tdmgarea\t5,2\t0\t0.01\t피해면적\n",
    "\n",
    "피해액\tdmgmoney\t10\t0\t0\t피해액\n",
    "\n",
    "\n",
    "산불위험지수(평균)\triskavg\t3,1\t0\t0\t산불위험지수(평균)\n",
    "산불위험지수(최대)\triskmax\t3,1\t0\t0\t산불위험지수(최대)\n",
    "평균기온\ttempavg\t3,1\t0\t13.4\t평균기온 단위:섭씨온도(℃)\n",
    "실효습도\thumidcurr\t3,1\t0\t0\t실효습도 단위:퍼센트(%)\n",
    "상대습도\thumidrel\t3,1\t0\t43\t상대습도 단위:퍼센트(%)\n",
    "최소습도\thumidmin\t3,1\t0\t0\t최소습도 단위:퍼센트(%)\n",
    "최대풍속\twindmax\t3,1\t0\t0\t최대풍속 단위:초속(m/s)\n",
    "평균풍속\twindavg\t3,1\t0\t3.3\t평균풍속 단위:초속(m/s)\n",
    "최대풍향\tdirmax\t20 Byte\t0\t0\t최대풍향 0 – 없음 S – 남향 W – 서향 E – 동향 N – 북향\n",
    "평균풍향\tdiravg\t20 Byte\t0\tW\t평균풍향 0 – 없음 S – 남향 W – 서향 E – 동향 N – 북향\n",
    "강우경과일수\traindays\t3\t0\t10\t강우경과일수\n",
    "최종강우량\trainamount\t3,1\t0\t2.7\t최종강우량 0단위:미리미터(mm)\n",
    "\n",
    "    \n",
    "페이지당레코드수\tnumOfRows\t\t1\t10\t페이지당레코드수\n",
    "페이지번호\tpageNo\t\t1\t1\t페이지번호\n",
    "전체카운트\ttotalCount\t\t1\t14\t전체카운트\n",
    "\n",
    "\n",
    "\n",
    "\n",
    "발생일시\tocurdt\t12 Byte\t1\t198412031150\t발생일시\n",
    "\n",
    "진화일시(년월일시분)\textingdt\t12 Byte\t0\t198412031215\t진화일시(년월일시분)\n",
    "\n",
    "\n",
    "\n",
    "발생장소(시도)\tocurdo\t20 Byte\t0\t부산\t발생장소(시도)\n",
    "발생장소(시군구)\tocursgg\t20 Byte\t0\t동래\t발생장소(시군구)\n"
   ]
  },
  {
   "cell_type": "code",
   "execution_count": null,
   "id": "ab33748b",
   "metadata": {},
   "outputs": [],
   "source": []
  },
  {
   "cell_type": "code",
   "execution_count": null,
   "id": "5339022d",
   "metadata": {},
   "outputs": [],
   "source": []
  }
 ],
 "metadata": {
  "kernelspec": {
   "display_name": "Python 3 (ipykernel)",
   "language": "python",
   "name": "python3"
  },
  "language_info": {
   "codemirror_mode": {
    "name": "ipython",
    "version": 3
   },
   "file_extension": ".py",
   "mimetype": "text/x-python",
   "name": "python",
   "nbconvert_exporter": "python",
   "pygments_lexer": "ipython3",
   "version": "3.9.7"
  },
  "varInspector": {
   "cols": {
    "lenName": 16,
    "lenType": 16,
    "lenVar": 40
   },
   "kernels_config": {
    "python": {
     "delete_cmd_postfix": "",
     "delete_cmd_prefix": "del ",
     "library": "var_list.py",
     "varRefreshCmd": "print(var_dic_list())"
    },
    "r": {
     "delete_cmd_postfix": ") ",
     "delete_cmd_prefix": "rm(",
     "library": "var_list.r",
     "varRefreshCmd": "cat(var_dic_list()) "
    }
   },
   "types_to_exclude": [
    "module",
    "function",
    "builtin_function_or_method",
    "instance",
    "_Feature"
   ],
   "window_display": false
  }
 },
 "nbformat": 4,
 "nbformat_minor": 5
}
