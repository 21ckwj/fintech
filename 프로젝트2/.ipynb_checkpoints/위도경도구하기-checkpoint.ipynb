{
 "cells": [
  {
   "cell_type": "code",
   "execution_count": 1,
   "id": "964e9fa4",
   "metadata": {},
   "outputs": [],
   "source": [
    "import pandas as pd\n",
    "import numpy as np\n",
    "import json\n",
    "import requests"
   ]
  },
  {
   "cell_type": "code",
   "execution_count": 2,
   "id": "598c9100",
   "metadata": {},
   "outputs": [],
   "source": [
    "api_key = 'dcf8c004ab92b095154a8edbc67cae15'"
   ]
  },
  {
   "cell_type": "code",
   "execution_count": 3,
   "id": "b25d6e12",
   "metadata": {},
   "outputs": [],
   "source": [
    "def addr_to_lat_lon(addr):\n",
    "    url = 'https://dapi.kakao.com/v2/local/search/address.json?query={address}'.format(address=addr)\n",
    "    headers = {\"Authorization\": \"KakaoAK \" + api_key}\n",
    "    result = json.loads(str(requests.get(url, headers=headers).text))\n",
    "    match_first = result['documents'][0]['address']\n",
    "    return float(match_first['x']), float(match_first['y'])"
   ]
  },
  {
   "cell_type": "code",
   "execution_count": 17,
   "id": "501f7b37",
   "metadata": {},
   "outputs": [
    {
     "ename": "IndexError",
     "evalue": "list index out of range",
     "output_type": "error",
     "traceback": [
      "\u001b[1;31m---------------------------------------------------------------------------\u001b[0m",
      "\u001b[1;31mIndexError\u001b[0m                                Traceback (most recent call last)",
      "\u001b[1;32m~\\AppData\\Local\\Temp/ipykernel_22592/1701081692.py\u001b[0m in \u001b[0;36m<module>\u001b[1;34m\u001b[0m\n\u001b[1;32m----> 1\u001b[1;33m \u001b[0maddr_to_lat_lon\u001b[0m\u001b[1;33m(\u001b[0m\u001b[1;34m'도쿄'\u001b[0m\u001b[1;33m)\u001b[0m\u001b[1;33m\u001b[0m\u001b[1;33m\u001b[0m\u001b[0m\n\u001b[0m",
      "\u001b[1;32m~\\AppData\\Local\\Temp/ipykernel_22592/2107129781.py\u001b[0m in \u001b[0;36maddr_to_lat_lon\u001b[1;34m(addr)\u001b[0m\n\u001b[0;32m      3\u001b[0m     \u001b[0mheaders\u001b[0m \u001b[1;33m=\u001b[0m \u001b[1;33m{\u001b[0m\u001b[1;34m\"Authorization\"\u001b[0m\u001b[1;33m:\u001b[0m \u001b[1;34m\"KakaoAK \"\u001b[0m \u001b[1;33m+\u001b[0m \u001b[0mapi_key\u001b[0m\u001b[1;33m}\u001b[0m\u001b[1;33m\u001b[0m\u001b[1;33m\u001b[0m\u001b[0m\n\u001b[0;32m      4\u001b[0m     \u001b[0mresult\u001b[0m \u001b[1;33m=\u001b[0m \u001b[0mjson\u001b[0m\u001b[1;33m.\u001b[0m\u001b[0mloads\u001b[0m\u001b[1;33m(\u001b[0m\u001b[0mstr\u001b[0m\u001b[1;33m(\u001b[0m\u001b[0mrequests\u001b[0m\u001b[1;33m.\u001b[0m\u001b[0mget\u001b[0m\u001b[1;33m(\u001b[0m\u001b[0murl\u001b[0m\u001b[1;33m,\u001b[0m \u001b[0mheaders\u001b[0m\u001b[1;33m=\u001b[0m\u001b[0mheaders\u001b[0m\u001b[1;33m)\u001b[0m\u001b[1;33m.\u001b[0m\u001b[0mtext\u001b[0m\u001b[1;33m)\u001b[0m\u001b[1;33m)\u001b[0m\u001b[1;33m\u001b[0m\u001b[1;33m\u001b[0m\u001b[0m\n\u001b[1;32m----> 5\u001b[1;33m     \u001b[0mmatch_first\u001b[0m \u001b[1;33m=\u001b[0m \u001b[0mresult\u001b[0m\u001b[1;33m[\u001b[0m\u001b[1;34m'documents'\u001b[0m\u001b[1;33m]\u001b[0m\u001b[1;33m[\u001b[0m\u001b[1;36m0\u001b[0m\u001b[1;33m]\u001b[0m\u001b[1;33m[\u001b[0m\u001b[1;34m'address'\u001b[0m\u001b[1;33m]\u001b[0m\u001b[1;33m\u001b[0m\u001b[1;33m\u001b[0m\u001b[0m\n\u001b[0m\u001b[0;32m      6\u001b[0m     \u001b[1;32mreturn\u001b[0m \u001b[0mfloat\u001b[0m\u001b[1;33m(\u001b[0m\u001b[0mmatch_first\u001b[0m\u001b[1;33m[\u001b[0m\u001b[1;34m'x'\u001b[0m\u001b[1;33m]\u001b[0m\u001b[1;33m)\u001b[0m\u001b[1;33m,\u001b[0m \u001b[0mfloat\u001b[0m\u001b[1;33m(\u001b[0m\u001b[0mmatch_first\u001b[0m\u001b[1;33m[\u001b[0m\u001b[1;34m'y'\u001b[0m\u001b[1;33m]\u001b[0m\u001b[1;33m)\u001b[0m\u001b[1;33m\u001b[0m\u001b[1;33m\u001b[0m\u001b[0m\n",
      "\u001b[1;31mIndexError\u001b[0m: list index out of range"
     ]
    }
   ],
   "source": [
    "addr_to_lat_lon('')"
   ]
  },
  {
   "cell_type": "code",
   "execution_count": 19,
   "id": "2ac83e97",
   "metadata": {},
   "outputs": [
    {
     "data": {
      "text/html": [
       "<div>\n",
       "<style scoped>\n",
       "    .dataframe tbody tr th:only-of-type {\n",
       "        vertical-align: middle;\n",
       "    }\n",
       "\n",
       "    .dataframe tbody tr th {\n",
       "        vertical-align: top;\n",
       "    }\n",
       "\n",
       "    .dataframe thead th {\n",
       "        text-align: right;\n",
       "    }\n",
       "</style>\n",
       "<table border=\"1\" class=\"dataframe\">\n",
       "  <thead>\n",
       "    <tr style=\"text-align: right;\">\n",
       "      <th></th>\n",
       "      <th>가축전염병명</th>\n",
       "      <th>농장명(농장주)</th>\n",
       "      <th>농장소재지</th>\n",
       "      <th>발생일자</th>\n",
       "      <th>축종(품종)</th>\n",
       "      <th>발생두수(마리)</th>\n",
       "      <th>진단기관</th>\n",
       "      <th>종식일</th>\n",
       "      <th>발생일시</th>\n",
       "      <th>발생장소</th>\n",
       "    </tr>\n",
       "  </thead>\n",
       "  <tbody>\n",
       "    <tr>\n",
       "      <th>0</th>\n",
       "      <td>구제역</td>\n",
       "      <td>일호농장</td>\n",
       "      <td>충청북도 충주시 주덕읍 당우리</td>\n",
       "      <td>2019-01-31 (2019-01-31)</td>\n",
       "      <td>소-한우</td>\n",
       "      <td>-</td>\n",
       "      <td>구제역진단과</td>\n",
       "      <td>0025-12-19</td>\n",
       "      <td>2019-01-31</td>\n",
       "      <td>충청북도 충주시</td>\n",
       "    </tr>\n",
       "    <tr>\n",
       "      <th>1</th>\n",
       "      <td>구제역</td>\n",
       "      <td>황희선</td>\n",
       "      <td>경기도 안성시 양성면 방축리</td>\n",
       "      <td>2019-01-29 (2019-01-29)</td>\n",
       "      <td>소-한우</td>\n",
       "      <td>-</td>\n",
       "      <td>구제역진단과</td>\n",
       "      <td>NaN</td>\n",
       "      <td>2019-01-29</td>\n",
       "      <td>경기도 안성시</td>\n",
       "    </tr>\n",
       "    <tr>\n",
       "      <th>2</th>\n",
       "      <td>구제역</td>\n",
       "      <td>이한모</td>\n",
       "      <td>경기도 안성시 금광면 오산리</td>\n",
       "      <td>2019-01-28 (2019-01-29)</td>\n",
       "      <td>소-젖소</td>\n",
       "      <td>-</td>\n",
       "      <td>구제역진단과</td>\n",
       "      <td>NaN</td>\n",
       "      <td>2019-01-28</td>\n",
       "      <td>경기도 안성시</td>\n",
       "    </tr>\n",
       "    <tr>\n",
       "      <th>3</th>\n",
       "      <td>구제역</td>\n",
       "      <td>한강농장</td>\n",
       "      <td>경기도 김포시 하성면 시암리</td>\n",
       "      <td>2018-04-01 (2018-04-03)</td>\n",
       "      <td>돼지-일반</td>\n",
       "      <td>-</td>\n",
       "      <td>구제역진단과</td>\n",
       "      <td>NaN</td>\n",
       "      <td>2018-04-01</td>\n",
       "      <td>경기도 김포시</td>\n",
       "    </tr>\n",
       "    <tr>\n",
       "      <th>4</th>\n",
       "      <td>구제역</td>\n",
       "      <td>뒤울농장</td>\n",
       "      <td>경기도 김포시 대곶면 율생리</td>\n",
       "      <td>2018-03-26 (2018-03-27)</td>\n",
       "      <td>돼지-비육돈</td>\n",
       "      <td>-</td>\n",
       "      <td>구제역진단과</td>\n",
       "      <td>NaN</td>\n",
       "      <td>2018-03-26</td>\n",
       "      <td>경기도 김포시</td>\n",
       "    </tr>\n",
       "  </tbody>\n",
       "</table>\n",
       "</div>"
      ],
      "text/plain": [
       "  가축전염병명 농장명(농장주)             농장소재지                     발생일자  축종(품종) 발생두수(마리)  \\\n",
       "0    구제역     일호농장  충청북도 충주시 주덕읍 당우리  2019-01-31 (2019-01-31)    소-한우        -   \n",
       "1    구제역      황희선   경기도 안성시 양성면 방축리  2019-01-29 (2019-01-29)    소-한우        -   \n",
       "2    구제역      이한모   경기도 안성시 금광면 오산리  2019-01-28 (2019-01-29)    소-젖소        -   \n",
       "3    구제역     한강농장   경기도 김포시 하성면 시암리  2018-04-01 (2018-04-03)   돼지-일반        -   \n",
       "4    구제역     뒤울농장   경기도 김포시 대곶면 율생리  2018-03-26 (2018-03-27)  돼지-비육돈        -   \n",
       "\n",
       "     진단기관         종식일        발생일시      발생장소  \n",
       "0  구제역진단과  0025-12-19  2019-01-31  충청북도 충주시  \n",
       "1  구제역진단과         NaN  2019-01-29   경기도 안성시  \n",
       "2  구제역진단과         NaN  2019-01-28   경기도 안성시  \n",
       "3  구제역진단과         NaN  2018-04-01   경기도 김포시  \n",
       "4  구제역진단과         NaN  2018-03-26   경기도 김포시  "
      ]
     },
     "execution_count": 19,
     "metadata": {},
     "output_type": "execute_result"
    }
   ],
   "source": [
    "df_gu = pd.read_csv('./data/구제역_1.csv')\n",
    "df_gu.head()"
   ]
  },
  {
   "cell_type": "code",
   "execution_count": null,
   "id": "f4996eed",
   "metadata": {},
   "outputs": [],
   "source": [
    "# 구제역 발생장소\n"
   ]
  },
  {
   "cell_type": "code",
   "execution_count": null,
   "id": "9dc73544",
   "metadata": {},
   "outputs": [],
   "source": []
  },
  {
   "cell_type": "code",
   "execution_count": null,
   "id": "097cc1fb",
   "metadata": {},
   "outputs": [],
   "source": []
  },
  {
   "cell_type": "code",
   "execution_count": 11,
   "id": "ebdaf1a5",
   "metadata": {},
   "outputs": [
    {
     "name": "stdout",
     "output_type": "stream",
     "text": [
      "Collecting folium\n",
      "  Downloading folium-0.12.1.post1-py2.py3-none-any.whl (95 kB)\n",
      "     ---------------------------------------- 95.0/95.0 KB 5.3 MB/s eta 0:00:00\n",
      "Requirement already satisfied: numpy in c:\\users\\21ckw\\anaconda3\\lib\\site-packages (from folium) (1.20.3)\n",
      "Requirement already satisfied: requests in c:\\users\\21ckw\\anaconda3\\lib\\site-packages (from folium) (2.26.0)\n",
      "Requirement already satisfied: jinja2>=2.9 in c:\\users\\21ckw\\anaconda3\\lib\\site-packages (from folium) (2.11.3)\n",
      "Collecting branca>=0.3.0\n",
      "  Downloading branca-0.4.2-py3-none-any.whl (24 kB)\n",
      "Requirement already satisfied: MarkupSafe>=0.23 in c:\\users\\21ckw\\anaconda3\\lib\\site-packages (from jinja2>=2.9->folium) (1.1.1)\n",
      "Requirement already satisfied: certifi>=2017.4.17 in c:\\users\\21ckw\\anaconda3\\lib\\site-packages (from requests->folium) (2021.10.8)\n",
      "Requirement already satisfied: idna<4,>=2.5 in c:\\users\\21ckw\\anaconda3\\lib\\site-packages (from requests->folium) (3.2)\n",
      "Requirement already satisfied: urllib3<1.27,>=1.21.1 in c:\\users\\21ckw\\anaconda3\\lib\\site-packages (from requests->folium) (1.26.7)\n",
      "Requirement already satisfied: charset-normalizer~=2.0.0 in c:\\users\\21ckw\\anaconda3\\lib\\site-packages (from requests->folium) (2.0.4)\n",
      "Installing collected packages: branca, folium\n",
      "Successfully installed branca-0.4.2 folium-0.12.1.post1\n",
      "Note: you may need to restart the kernel to use updated packages.\n"
     ]
    },
    {
     "name": "stderr",
     "output_type": "stream",
     "text": [
      "WARNING: You are using pip version 22.0.3; however, version 22.0.4 is available.\n",
      "You should consider upgrading via the 'C:\\Users\\21ckw\\anaconda3\\python.exe -m pip install --upgrade pip' command.\n"
     ]
    }
   ],
   "source": [
    "# pip install folium"
   ]
  },
  {
   "cell_type": "code",
   "execution_count": 12,
   "id": "a9f6b367",
   "metadata": {},
   "outputs": [],
   "source": [
    "import folium"
   ]
  },
  {
   "cell_type": "code",
   "execution_count": null,
   "id": "11c3171c",
   "metadata": {},
   "outputs": [],
   "source": [
    "# 날씨 측정한 곳 위도,경도\n"
   ]
  },
  {
   "cell_type": "code",
   "execution_count": 15,
   "id": "5acf4265",
   "metadata": {},
   "outputs": [
    {
     "ename": "NameError",
     "evalue": "name 'busan_location' is not defined",
     "output_type": "error",
     "traceback": [
      "\u001b[1;31m---------------------------------------------------------------------------\u001b[0m",
      "\u001b[1;31mNameError\u001b[0m                                 Traceback (most recent call last)",
      "\u001b[1;32m~\\AppData\\Local\\Temp/ipykernel_22592/2445937029.py\u001b[0m in \u001b[0;36m<module>\u001b[1;34m\u001b[0m\n\u001b[0;32m      1\u001b[0m \u001b[0mmap\u001b[0m \u001b[1;33m=\u001b[0m \u001b[0mfolium\u001b[0m\u001b[1;33m.\u001b[0m\u001b[0mMap\u001b[0m\u001b[1;33m(\u001b[0m\u001b[0mlocation\u001b[0m \u001b[1;33m=\u001b[0m \u001b[1;33m[\u001b[0m\u001b[1;36m35.1645702\u001b[0m\u001b[1;33m,\u001b[0m\u001b[1;36m129.0017602\u001b[0m\u001b[1;33m]\u001b[0m\u001b[1;33m,\u001b[0m \u001b[0mzoom_start\u001b[0m \u001b[1;33m=\u001b[0m\u001b[1;36m11\u001b[0m\u001b[1;33m)\u001b[0m\u001b[1;33m\u001b[0m\u001b[1;33m\u001b[0m\u001b[0m\n\u001b[0;32m      2\u001b[0m \u001b[1;33m\u001b[0m\u001b[0m\n\u001b[1;32m----> 3\u001b[1;33m \u001b[1;32mfor\u001b[0m \u001b[0ma\u001b[0m \u001b[1;32min\u001b[0m \u001b[0mbusan_location\u001b[0m\u001b[1;33m.\u001b[0m\u001b[0mindex\u001b[0m\u001b[1;33m:\u001b[0m\u001b[1;33m\u001b[0m\u001b[1;33m\u001b[0m\u001b[0m\n\u001b[0m\u001b[0;32m      4\u001b[0m     \u001b[0mlatitude\u001b[0m \u001b[1;33m=\u001b[0m \u001b[0mbusan_location\u001b[0m\u001b[1;33m.\u001b[0m\u001b[0mloc\u001b[0m\u001b[1;33m[\u001b[0m\u001b[0ma\u001b[0m\u001b[1;33m,\u001b[0m\u001b[1;34m\"위도\"\u001b[0m\u001b[1;33m]\u001b[0m\u001b[1;33m\u001b[0m\u001b[1;33m\u001b[0m\u001b[0m\n\u001b[0;32m      5\u001b[0m     \u001b[0mlongtitude\u001b[0m \u001b[1;33m=\u001b[0m \u001b[0mbusan_location\u001b[0m\u001b[1;33m.\u001b[0m\u001b[0mloc\u001b[0m\u001b[1;33m[\u001b[0m\u001b[0ma\u001b[0m\u001b[1;33m,\u001b[0m\u001b[1;34m\"경도\"\u001b[0m\u001b[1;33m]\u001b[0m\u001b[1;33m\u001b[0m\u001b[1;33m\u001b[0m\u001b[0m\n",
      "\u001b[1;31mNameError\u001b[0m: name 'busan_location' is not defined"
     ]
    }
   ],
   "source": [
    "\n",
    "map = folium.Map(location = [35.1645702,129.0017602], zoom_start =11)\n",
    "\n",
    "for a in busan_location.index:\n",
    "    latitude = busan_location.loc[a,\"위도\"]\n",
    "    longtitude = busan_location.loc[a,\"경도\"]\n",
    "    tooltip = \"사고!\"\n",
    "    folium.Marker([latitude, longtitude], popup = '<i>구제역</i>', tooltip =tooltip).add_to(map)   \n",
    "\n",
    "map"
   ]
  },
  {
   "cell_type": "code",
   "execution_count": null,
   "id": "39384135",
   "metadata": {},
   "outputs": [],
   "source": []
  },
  {
   "cell_type": "code",
   "execution_count": null,
   "id": "cf07f132",
   "metadata": {},
   "outputs": [],
   "source": []
  },
  {
   "cell_type": "code",
   "execution_count": null,
   "id": "b8e932e3",
   "metadata": {},
   "outputs": [],
   "source": []
  },
  {
   "cell_type": "code",
   "execution_count": null,
   "id": "159169d7",
   "metadata": {},
   "outputs": [],
   "source": [
    "# 위도 경도 거리 구하는 모듈\n",
    "\n",
    "from haversine import haversine"
   ]
  }
 ],
 "metadata": {
  "kernelspec": {
   "display_name": "Python 3 (ipykernel)",
   "language": "python",
   "name": "python3"
  },
  "language_info": {
   "codemirror_mode": {
    "name": "ipython",
    "version": 3
   },
   "file_extension": ".py",
   "mimetype": "text/x-python",
   "name": "python",
   "nbconvert_exporter": "python",
   "pygments_lexer": "ipython3",
   "version": "3.9.7"
  },
  "varInspector": {
   "cols": {
    "lenName": 16,
    "lenType": 16,
    "lenVar": 40
   },
   "kernels_config": {
    "python": {
     "delete_cmd_postfix": "",
     "delete_cmd_prefix": "del ",
     "library": "var_list.py",
     "varRefreshCmd": "print(var_dic_list())"
    },
    "r": {
     "delete_cmd_postfix": ") ",
     "delete_cmd_prefix": "rm(",
     "library": "var_list.r",
     "varRefreshCmd": "cat(var_dic_list()) "
    }
   },
   "types_to_exclude": [
    "module",
    "function",
    "builtin_function_or_method",
    "instance",
    "_Feature"
   ],
   "window_display": false
  }
 },
 "nbformat": 4,
 "nbformat_minor": 5
}
