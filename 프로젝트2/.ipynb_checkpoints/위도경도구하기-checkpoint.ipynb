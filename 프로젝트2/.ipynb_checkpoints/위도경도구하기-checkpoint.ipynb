{
 "cells": [
  {
   "cell_type": "code",
   "execution_count": 3,
   "id": "e3f9e37a",
   "metadata": {},
   "outputs": [],
   "source": [
    "import pandas as pd\n",
    "import numpy as np\n",
    "import json\n",
    "import requests"
   ]
  },
  {
   "cell_type": "code",
   "execution_count": 4,
   "id": "d0cbed59",
   "metadata": {},
   "outputs": [],
   "source": [
    "api_key = 'dcf8c004ab92b095154a8edbc67cae15'"
   ]
  },
  {
   "cell_type": "code",
   "execution_count": 5,
   "id": "6dd2f3a4",
   "metadata": {},
   "outputs": [],
   "source": [
    "def addr_to_lat_lon(addr):\n",
    "    url = 'https://dapi.kakao.com/v2/local/search/address.json?query={address}'.format(address=addr)\n",
    "    headers = {\"Authorization\": \"KakaoAK \" + api_key}\n",
    "    result = json.loads(str(requests.get(url, headers=headers).text))\n",
    "    match_first = result['documents'][0]['address']\n",
    "    return float(match_first['x']), float(match_first['y'])"
   ]
  },
  {
   "cell_type": "code",
   "execution_count": 6,
   "id": "b5e985cf",
   "metadata": {},
   "outputs": [
    {
     "data": {
      "text/plain": [
       "(127.75749314504, 37.0062028843966)"
      ]
     },
     "execution_count": 6,
     "metadata": {},
     "output_type": "execute_result"
    }
   ],
   "source": [
    "addr_to_lat_lon('충청북도 충주시 주덕읍 당우리')"
   ]
  },
  {
   "cell_type": "code",
   "execution_count": null,
   "id": "1d5ae914",
   "metadata": {},
   "outputs": [],
   "source": []
  }
 ],
 "metadata": {
  "kernelspec": {
   "display_name": "Python 3 (ipykernel)",
   "language": "python",
   "name": "python3"
  },
  "language_info": {
   "codemirror_mode": {
    "name": "ipython",
    "version": 3
   },
   "file_extension": ".py",
   "mimetype": "text/x-python",
   "name": "python",
   "nbconvert_exporter": "python",
   "pygments_lexer": "ipython3",
   "version": "3.9.7"
  },
  "varInspector": {
   "cols": {
    "lenName": 16,
    "lenType": 16,
    "lenVar": 40
   },
   "kernels_config": {
    "python": {
     "delete_cmd_postfix": "",
     "delete_cmd_prefix": "del ",
     "library": "var_list.py",
     "varRefreshCmd": "print(var_dic_list())"
    },
    "r": {
     "delete_cmd_postfix": ") ",
     "delete_cmd_prefix": "rm(",
     "library": "var_list.r",
     "varRefreshCmd": "cat(var_dic_list()) "
    }
   },
   "types_to_exclude": [
    "module",
    "function",
    "builtin_function_or_method",
    "instance",
    "_Feature"
   ],
   "window_display": false
  }
 },
 "nbformat": 4,
 "nbformat_minor": 5
}
