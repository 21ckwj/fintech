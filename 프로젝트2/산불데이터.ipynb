{
 "cells": [
  {
   "cell_type": "markdown",
   "id": "9b1afb32",
   "metadata": {},
   "source": [
    "## 산불 원인"
   ]
  },
  {
   "cell_type": "markdown",
   "id": "a9536da9",
   "metadata": {},
   "source": [
    "![](https://www.forest.go.kr/kfsweb/cmm/fms/getImage.do?atchFileId=FILE_000000020058626&fileSn=1&thumbYn=)"
   ]
  },
  {
   "cell_type": "markdown",
   "id": "832074c9",
   "metadata": {},
   "source": [
    "## 계절별 비율"
   ]
  },
  {
   "cell_type": "markdown",
   "id": "afaf4f62",
   "metadata": {},
   "source": [
    "![](https://www.forest.go.kr/kfsweb/cmm/fms/getImage.do?atchFileId=FILE_000000020046889&fileSn=1&thumbYn=)"
   ]
  },
  {
   "cell_type": "markdown",
   "id": "da6b959c",
   "metadata": {},
   "source": [
    "## 산불의 가장 큰 원인 \n",
    "* 기후변화(습도, 풍속, 온도 등등)\n",
    "* 등산객 수"
   ]
  },
  {
   "cell_type": "code",
   "execution_count": 2,
   "id": "a7256f3f",
   "metadata": {},
   "outputs": [],
   "source": [
    "import pandas as pd\n",
    "import numpy as np\n",
    "\n",
    "import requests\n",
    "from urllib.parse import urlencode,unquote"
   ]
  },
  {
   "cell_type": "code",
   "execution_count": 6,
   "id": "356d1092",
   "metadata": {},
   "outputs": [
    {
     "name": "stdout",
     "output_type": "stream",
     "text": [
      "b'<?xml version=\"1.0\" encoding=\"UTF-8\" standalone=\"yes\"?><response><header><resultCode>00</resultCode><resultMsg>NORMAL SERVICE.</resultMsg></header><body><items><item><diravg>W</diravg><dirmax> </dirmax><dmgarea>0.01</dmgarea><dmgmoney>0</dmgmoney><exintgtm>25</exintgtm><extingdt>198412031215</extingdt><humidcurr>0.0</humidcurr><humidmin>0.0</humidmin><humidrel>43.0</humidrel><ocurcause>\\xec\\x9e\\x85\\xec\\x82\\xb0\\xec\\x9e\\x90\\xec\\x8b\\xa4\\xed\\x99\\x94</ocurcause><ocurdo>\\xeb\\xb6\\x80\\xec\\x82\\xb0</ocurdo><ocurdt>198412031150</ocurdt><ocuremd>\\xeb\\xaa\\x85\\xeb\\xa5\\x9c</ocuremd><ocurgm>\\xeb\\xb6\\x80\\xec\\x82\\xb0</ocurgm><ocurjibun>\\xec\\x82\\xb050-7</ocurjibun><ocurri> </ocurri><ocursgg>\\xeb\\x8f\\x99\\xeb\\x9e\\x98</ocursgg><ocuryoil>\\xec\\x9b\\x94</ocuryoil><ownersec>\\xec\\x82\\xac</ownersec><rainamount>2.7</rainamount><raindays>10</raindays><riskavg>0.0</riskavg><riskmax>0.0</riskmax><tempavg>13.4</tempavg><windavg>3.3</windavg><windmax>0.0</windmax></item><item><diravg>NNW</diravg><dirmax> </dirmax><dmgarea>3.1</dmgarea><dmgmoney>0</dmgmoney><exintgtm>700</exintgtm><extingdt>198412022145</extingdt><humidcurr>0.0</humidcurr><humidmin>0.0</humidmin><humidrel>19.0</humidrel><ocurcause>\\xec\\x9e\\x85\\xec\\x82\\xb0\\xec\\x9e\\x90\\xec\\x8b\\xa4\\xed\\x99\\x94</ocurcause><ocurdo>\\xea\\xb2\\xbd\\xeb\\xb6\\x81</ocurdo><ocurdt>198412021445</ocurdt><ocuremd>\\xea\\xb0\\x81\\xeb\\x82\\xa8</ocuremd><ocurgm>\\xea\\xb2\\xbd\\xeb\\xb6\\x81</ocurgm><ocurjibun>\\xec\\x82\\xb0350</ocurjibun><ocurri>\\xec\\x98\\xa5\\xec\\x82\\xb0</ocurri><ocursgg>\\xec\\xb2\\xad\\xeb\\x8f\\x84</ocursgg><ocuryoil>\\xec\\x9d\\xbc</ocuryoil><ownersec>\\xec\\x82\\xac</ownersec><rainamount>0.7</rainamount><raindays>13</raindays><riskavg>0.0</riskavg><riskmax>0.0</riskmax><tempavg>10.6</tempavg><windavg>4.0</windavg><windmax>0.0</windmax></item><item><diravg>NW</diravg><dirmax> </dirmax><dmgarea>3.0</dmgarea><dmgmoney>0</dmgmoney><exintgtm>135</exintgtm><extingdt>198412011640</extingdt><humidcurr>0.0</humidcurr><humidmin>0.0</humidmin><humidrel>35.0</humidrel><ocurcause>\\xec\\x9e\\x85\\xec\\x82\\xb0\\xec\\x9e\\x90\\xec\\x8b\\xa4\\xed\\x99\\x94</ocurcause><ocurdo>\\xec\\xa0\\x84\\xeb\\x82\\xa8</ocurdo><ocurdt>198412011505</ocurdt><ocuremd>\\xec\\x83\\x81\\xec\\x95\\x94</ocuremd><ocurgm>\\xec\\xa0\\x84\\xeb\\x82\\xa8</ocurgm><ocurjibun>\\xec\\x82\\xb0109</ocurjibun><ocurri> </ocurri><ocursgg>\\xec\\x97\\xac\\xec\\x88\\x98</ocursgg><ocuryoil>\\xed\\x86\\xa0</ocuryoil><ownersec>\\xec\\x82\\xac</ownersec><rainamount>9.3</rainamount><raindays>17</raindays><riskavg>0.0</riskavg><riskmax>0.0</riskmax><tempavg>11.8</tempavg><windavg>9.2</windavg><windmax>0.0</windmax></item></items><numOfRows>10</numOfRows><pageNo>1</pageNo><totalCount>3</totalCount></body></response>'\n"
     ]
    }
   ],
   "source": [
    "f_day = '19841201'\n",
    "l_day = '19841204'\n",
    "\n",
    "# key = 'lj1bcK6kk1SlfbI0bHFwZNqo8sjEyQJ0XDwGOjV70SP2vXBS%2FDosbER90s3y1LOZCPEcQn3SqArgHpIv%2BAzj1Q%3D%3D'\n",
    "\n",
    "key = 'lj1bcK6kk1SlfbI0bHFwZNqo8sjEyQJ0XDwGOjV70SP2vXBS/DosbER90s3y1LOZCPEcQn3SqArgHpIv+Azj1Q=='\n",
    "# key = 'lj1bcK6kk1SlfbI0bHFwZNqo8sjEyQJ0XDwGOjV70SP2vXBS%2FDosbER90s3y1LOZCPEcQn3SqArgHpIv%2BAzj1Q%3D%3D'\n",
    "\n",
    "url = 'http://openapi.forest.go.kr/openapi/service/forestDisasterService/frstFireOpenAPI'\n",
    "# url = 'http://openapi.forest.go.kr/openapi/service/forestDisasterService?_wadl&type=xml'\n",
    "\n",
    "params = {'serviceKey' : key, 'searchStDt' : f_day, 'searchEdDt' : l_day, 'pageNo' : '1', 'numOfRows' : '10' }\n",
    "\n",
    "\n",
    "response = requests.get(url, params= params)\n",
    "\n",
    "print(response.content)\n"
   ]
  },
  {
   "cell_type": "code",
   "execution_count": null,
   "id": "0ba045c7",
   "metadata": {},
   "outputs": [],
   "source": [
    "http://openapi.forest.go.kr/openapi/service/forestDisasterService/frstFireOpenAPI?searchStDt=19841201&searchEdDt=19841204&ServiceKey=lj1bcK6kk1SlfbI0bHFwZNqo8sjEyQJ0XDwGOjV70SP2vXBS%2FDosbER90s3y1LOZCPEcQn3SqArgHpIv%2BAzj1Q%3D%3D"
   ]
  },
  {
   "cell_type": "code",
   "execution_count": null,
   "id": "ab33748b",
   "metadata": {},
   "outputs": [],
   "source": []
  },
  {
   "cell_type": "code",
   "execution_count": null,
   "id": "5339022d",
   "metadata": {},
   "outputs": [],
   "source": []
  }
 ],
 "metadata": {
  "kernelspec": {
   "display_name": "Python 3 (ipykernel)",
   "language": "python",
   "name": "python3"
  },
  "language_info": {
   "codemirror_mode": {
    "name": "ipython",
    "version": 3
   },
   "file_extension": ".py",
   "mimetype": "text/x-python",
   "name": "python",
   "nbconvert_exporter": "python",
   "pygments_lexer": "ipython3",
   "version": "3.9.7"
  },
  "varInspector": {
   "cols": {
    "lenName": 16,
    "lenType": 16,
    "lenVar": 40
   },
   "kernels_config": {
    "python": {
     "delete_cmd_postfix": "",
     "delete_cmd_prefix": "del ",
     "library": "var_list.py",
     "varRefreshCmd": "print(var_dic_list())"
    },
    "r": {
     "delete_cmd_postfix": ") ",
     "delete_cmd_prefix": "rm(",
     "library": "var_list.r",
     "varRefreshCmd": "cat(var_dic_list()) "
    }
   },
   "types_to_exclude": [
    "module",
    "function",
    "builtin_function_or_method",
    "instance",
    "_Feature"
   ],
   "window_display": false
  }
 },
 "nbformat": 4,
 "nbformat_minor": 5
}
