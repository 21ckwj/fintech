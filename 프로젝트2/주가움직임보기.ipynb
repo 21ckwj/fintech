{
 "cells": [
  {
   "cell_type": "code",
   "execution_count": 1,
   "id": "eda5303e",
   "metadata": {},
   "outputs": [],
   "source": [
    "import pandas as pd\n",
    "import numpy as np\n",
    "import matplotlib.pyplot as plt\n",
    "import seaborn as sns"
   ]
  },
  {
   "cell_type": "code",
   "execution_count": 4,
   "id": "f5315510",
   "metadata": {},
   "outputs": [
    {
     "data": {
      "text/html": [
       "<div>\n",
       "<style scoped>\n",
       "    .dataframe tbody tr th:only-of-type {\n",
       "        vertical-align: middle;\n",
       "    }\n",
       "\n",
       "    .dataframe tbody tr th {\n",
       "        vertical-align: top;\n",
       "    }\n",
       "\n",
       "    .dataframe thead th {\n",
       "        text-align: right;\n",
       "    }\n",
       "</style>\n",
       "<table border=\"1\" class=\"dataframe\">\n",
       "  <thead>\n",
       "    <tr style=\"text-align: right;\">\n",
       "      <th></th>\n",
       "      <th>Symbol</th>\n",
       "      <th>Market</th>\n",
       "      <th>Name</th>\n",
       "      <th>Sector</th>\n",
       "      <th>Industry</th>\n",
       "      <th>ListingDate</th>\n",
       "      <th>SettleMonth</th>\n",
       "      <th>Representative</th>\n",
       "      <th>HomePage</th>\n",
       "      <th>Region</th>\n",
       "    </tr>\n",
       "  </thead>\n",
       "  <tbody>\n",
       "    <tr>\n",
       "      <th>0</th>\n",
       "      <td>060310</td>\n",
       "      <td>KOSDAQ</td>\n",
       "      <td>3S</td>\n",
       "      <td>전자부품 제조업</td>\n",
       "      <td>반도체 웨이퍼 캐리어</td>\n",
       "      <td>2002-04-23</td>\n",
       "      <td>03월</td>\n",
       "      <td>김세완</td>\n",
       "      <td>http://www.3sref.com</td>\n",
       "      <td>서울특별시</td>\n",
       "    </tr>\n",
       "    <tr>\n",
       "      <th>1</th>\n",
       "      <td>095570</td>\n",
       "      <td>KOSPI</td>\n",
       "      <td>AJ네트웍스</td>\n",
       "      <td>산업용 기계 및 장비 임대업</td>\n",
       "      <td>렌탈(파렛트, OA장비, 건설장비)</td>\n",
       "      <td>2015-08-21</td>\n",
       "      <td>12월</td>\n",
       "      <td>박대현</td>\n",
       "      <td>http://www.ajnet.co.kr</td>\n",
       "      <td>서울특별시</td>\n",
       "    </tr>\n",
       "    <tr>\n",
       "      <th>2</th>\n",
       "      <td>006840</td>\n",
       "      <td>KOSPI</td>\n",
       "      <td>AK홀딩스</td>\n",
       "      <td>기타 금융업</td>\n",
       "      <td>지주사업</td>\n",
       "      <td>1999-08-11</td>\n",
       "      <td>12월</td>\n",
       "      <td>채형석, 이석주(각자 대표이사)</td>\n",
       "      <td>http://www.aekyunggroup.co.kr</td>\n",
       "      <td>서울특별시</td>\n",
       "    </tr>\n",
       "    <tr>\n",
       "      <th>3</th>\n",
       "      <td>054620</td>\n",
       "      <td>KOSDAQ</td>\n",
       "      <td>APS홀딩스</td>\n",
       "      <td>기타 금융업</td>\n",
       "      <td>인터넷 트래픽 솔루션</td>\n",
       "      <td>2001-12-04</td>\n",
       "      <td>12월</td>\n",
       "      <td>정기로</td>\n",
       "      <td>http://www.apsholdings.co.kr</td>\n",
       "      <td>경기도</td>\n",
       "    </tr>\n",
       "    <tr>\n",
       "      <th>4</th>\n",
       "      <td>265520</td>\n",
       "      <td>KOSDAQ</td>\n",
       "      <td>AP시스템</td>\n",
       "      <td>특수 목적용 기계 제조업</td>\n",
       "      <td>디스플레이 제조 장비</td>\n",
       "      <td>2017-04-07</td>\n",
       "      <td>12월</td>\n",
       "      <td>김영주</td>\n",
       "      <td>http://www.apsystems.co.kr</td>\n",
       "      <td>경기도</td>\n",
       "    </tr>\n",
       "  </tbody>\n",
       "</table>\n",
       "</div>"
      ],
      "text/plain": [
       "   Symbol  Market    Name           Sector             Industry ListingDate  \\\n",
       "0  060310  KOSDAQ      3S         전자부품 제조업          반도체 웨이퍼 캐리어  2002-04-23   \n",
       "1  095570   KOSPI  AJ네트웍스  산업용 기계 및 장비 임대업  렌탈(파렛트, OA장비, 건설장비)  2015-08-21   \n",
       "2  006840   KOSPI   AK홀딩스           기타 금융업                 지주사업  1999-08-11   \n",
       "3  054620  KOSDAQ  APS홀딩스           기타 금융업          인터넷 트래픽 솔루션  2001-12-04   \n",
       "4  265520  KOSDAQ   AP시스템    특수 목적용 기계 제조업          디스플레이 제조 장비  2017-04-07   \n",
       "\n",
       "  SettleMonth     Representative                       HomePage Region  \n",
       "0         03월                김세완           http://www.3sref.com  서울특별시  \n",
       "1         12월                박대현         http://www.ajnet.co.kr  서울특별시  \n",
       "2         12월  채형석, 이석주(각자 대표이사)  http://www.aekyunggroup.co.kr  서울특별시  \n",
       "3         12월                정기로   http://www.apsholdings.co.kr    경기도  \n",
       "4         12월                김영주     http://www.apsystems.co.kr    경기도  "
      ]
     },
     "execution_count": 4,
     "metadata": {},
     "output_type": "execute_result"
    }
   ],
   "source": [
    "import FinanceDataReader as fdr\n",
    "\n",
    "stocklst = fdr.StockListing('KRX')  # stocklst = 한국 전체 주식\n",
    "stocklst.head()"
   ]
  },
  {
   "cell_type": "code",
   "execution_count": 40,
   "id": "4cbf0d5f",
   "metadata": {},
   "outputs": [
    {
     "name": "stdout",
     "output_type": "stream",
     "text": [
      "7\n"
     ]
    },
    {
     "data": {
      "text/plain": [
       "['파라텍', '인콘', '광림', '현대에버다임', '이엔플러스', '오텍', '한국내화']"
      ]
     },
     "execution_count": 40,
     "metadata": {},
     "output_type": "execute_result"
    }
   ],
   "source": [
    "company_fire = [\n",
    "#소방테마주\n",
    "'파라텍', \n",
    "'현대에버다임',\n",
    "    \n",
    "'광림',   \n",
    "'이엔플러스',\n",
    "\n",
    "'오텍',\n",
    "'인콘',\n",
    "'한국내화'\n",
    "]\n",
    "print(len(company_lst1))\n",
    "company_lst1\n",
    "\n"
   ]
  },
  {
   "cell_type": "code",
   "execution_count": 41,
   "id": "421f54fc",
   "metadata": {},
   "outputs": [
    {
     "name": "stdout",
     "output_type": "stream",
     "text": [
      "4\n"
     ]
    },
    {
     "data": {
      "text/plain": [
       "['이건산업', '한솔홈데코', '자연과환경', '아시아종묘']"
      ]
     },
     "execution_count": 41,
     "metadata": {},
     "output_type": "execute_result"
    }
   ],
   "source": [
    "company_rec = [\n",
    "#환경테마주\n",
    "'이건산업','한솔홈데코', '자연과환경', '아시아종묘']\n",
    "\n",
    "print(len(company_lst2))\n",
    "company_lst2"
   ]
  },
  {
   "cell_type": "code",
   "execution_count": 45,
   "id": "311ba460",
   "metadata": {},
   "outputs": [
    {
     "name": "stdout",
     "output_type": "stream",
     "text": [
      "7\n"
     ]
    },
    {
     "data": {
      "text/plain": [
       "['014200', '067170', '074610', '083640', '033540', '010040', '041440']"
      ]
     },
     "execution_count": 45,
     "metadata": {},
     "output_type": "execute_result"
    }
   ],
   "source": [
    "codes_fire = stocklst[stocklst.Name.apply(lambda stock: stock in company_fire)].Symbol.to_list()  #Symbol = 코드\n",
    "print(len(codes_fire)) # codes 의 길이가 company lst 의 길이가 같아야 정상적으로 나온거임 \n",
    "codes_fire"
   ]
  },
  {
   "cell_type": "code",
   "execution_count": 46,
   "id": "fb072635",
   "metadata": {},
   "outputs": [
    {
     "name": "stdout",
     "output_type": "stream",
     "text": [
      "4\n"
     ]
    },
    {
     "data": {
      "text/plain": [
       "['154030', '008250', '043910', '025750']"
      ]
     },
     "execution_count": 46,
     "metadata": {},
     "output_type": "execute_result"
    }
   ],
   "source": [
    "codes_rec = stocklst[stocklst.Name.apply(lambda stock: stock in company_rec)].Symbol.to_list()  #Symbol = 코드\n",
    "print(len(codes_rec)) # codes 의 길이가 company lst 의 길이가 같아야 정상적으로 나온거임 \n",
    "codes_rec"
   ]
  },
  {
   "cell_type": "code",
   "execution_count": null,
   "id": "12aad6a2",
   "metadata": {},
   "outputs": [],
   "source": []
  },
  {
   "cell_type": "code",
   "execution_count": 48,
   "id": "e7f8e078",
   "metadata": {},
   "outputs": [
    {
     "data": {
      "text/html": [
       "<div>\n",
       "<style scoped>\n",
       "    .dataframe tbody tr th:only-of-type {\n",
       "        vertical-align: middle;\n",
       "    }\n",
       "\n",
       "    .dataframe tbody tr th {\n",
       "        vertical-align: top;\n",
       "    }\n",
       "\n",
       "    .dataframe thead th {\n",
       "        text-align: right;\n",
       "    }\n",
       "</style>\n",
       "<table border=\"1\" class=\"dataframe\">\n",
       "  <thead>\n",
       "    <tr style=\"text-align: right;\">\n",
       "      <th></th>\n",
       "      <th>014200</th>\n",
       "      <th>067170</th>\n",
       "      <th>074610</th>\n",
       "      <th>083640</th>\n",
       "      <th>033540</th>\n",
       "      <th>010040</th>\n",
       "      <th>041440</th>\n",
       "    </tr>\n",
       "    <tr>\n",
       "      <th>Date</th>\n",
       "      <th></th>\n",
       "      <th></th>\n",
       "      <th></th>\n",
       "      <th></th>\n",
       "      <th></th>\n",
       "      <th></th>\n",
       "      <th></th>\n",
       "    </tr>\n",
       "  </thead>\n",
       "  <tbody>\n",
       "    <tr>\n",
       "      <th>2019-01-02</th>\n",
       "      <td>2495</td>\n",
       "      <td>10750</td>\n",
       "      <td>5440</td>\n",
       "      <td>7300</td>\n",
       "      <td>2240</td>\n",
       "      <td>5190</td>\n",
       "      <td>5650</td>\n",
       "    </tr>\n",
       "    <tr>\n",
       "      <th>2019-01-03</th>\n",
       "      <td>2495</td>\n",
       "      <td>10900</td>\n",
       "      <td>5440</td>\n",
       "      <td>6950</td>\n",
       "      <td>2188</td>\n",
       "      <td>5300</td>\n",
       "      <td>5730</td>\n",
       "    </tr>\n",
       "    <tr>\n",
       "      <th>2019-01-04</th>\n",
       "      <td>2555</td>\n",
       "      <td>11300</td>\n",
       "      <td>5670</td>\n",
       "      <td>7075</td>\n",
       "      <td>2148</td>\n",
       "      <td>5290</td>\n",
       "      <td>5690</td>\n",
       "    </tr>\n",
       "    <tr>\n",
       "      <th>2019-01-07</th>\n",
       "      <td>2535</td>\n",
       "      <td>11300</td>\n",
       "      <td>6630</td>\n",
       "      <td>7075</td>\n",
       "      <td>2188</td>\n",
       "      <td>5650</td>\n",
       "      <td>5800</td>\n",
       "    </tr>\n",
       "    <tr>\n",
       "      <th>2019-01-08</th>\n",
       "      <td>2540</td>\n",
       "      <td>11450</td>\n",
       "      <td>6150</td>\n",
       "      <td>7275</td>\n",
       "      <td>2216</td>\n",
       "      <td>5550</td>\n",
       "      <td>6200</td>\n",
       "    </tr>\n",
       "    <tr>\n",
       "      <th>...</th>\n",
       "      <td>...</td>\n",
       "      <td>...</td>\n",
       "      <td>...</td>\n",
       "      <td>...</td>\n",
       "      <td>...</td>\n",
       "      <td>...</td>\n",
       "      <td>...</td>\n",
       "    </tr>\n",
       "    <tr>\n",
       "      <th>2019-12-23</th>\n",
       "      <td>2255</td>\n",
       "      <td>11350</td>\n",
       "      <td>7140</td>\n",
       "      <td>3600</td>\n",
       "      <td>1884</td>\n",
       "      <td>4000</td>\n",
       "      <td>4480</td>\n",
       "    </tr>\n",
       "    <tr>\n",
       "      <th>2019-12-24</th>\n",
       "      <td>2200</td>\n",
       "      <td>11250</td>\n",
       "      <td>7080</td>\n",
       "      <td>3488</td>\n",
       "      <td>1864</td>\n",
       "      <td>3920</td>\n",
       "      <td>4450</td>\n",
       "    </tr>\n",
       "    <tr>\n",
       "      <th>2019-12-26</th>\n",
       "      <td>2270</td>\n",
       "      <td>11450</td>\n",
       "      <td>7310</td>\n",
       "      <td>3588</td>\n",
       "      <td>1832</td>\n",
       "      <td>3995</td>\n",
       "      <td>4430</td>\n",
       "    </tr>\n",
       "    <tr>\n",
       "      <th>2019-12-27</th>\n",
       "      <td>2265</td>\n",
       "      <td>11550</td>\n",
       "      <td>7570</td>\n",
       "      <td>3713</td>\n",
       "      <td>1852</td>\n",
       "      <td>4045</td>\n",
       "      <td>4415</td>\n",
       "    </tr>\n",
       "    <tr>\n",
       "      <th>2019-12-30</th>\n",
       "      <td>2225</td>\n",
       "      <td>11700</td>\n",
       "      <td>7790</td>\n",
       "      <td>3725</td>\n",
       "      <td>1826</td>\n",
       "      <td>4045</td>\n",
       "      <td>4430</td>\n",
       "    </tr>\n",
       "  </tbody>\n",
       "</table>\n",
       "<p>246 rows × 7 columns</p>\n",
       "</div>"
      ],
      "text/plain": [
       "            014200  067170  074610  083640  033540  010040  041440\n",
       "Date                                                              \n",
       "2019-01-02    2495   10750    5440    7300    2240    5190    5650\n",
       "2019-01-03    2495   10900    5440    6950    2188    5300    5730\n",
       "2019-01-04    2555   11300    5670    7075    2148    5290    5690\n",
       "2019-01-07    2535   11300    6630    7075    2188    5650    5800\n",
       "2019-01-08    2540   11450    6150    7275    2216    5550    6200\n",
       "...            ...     ...     ...     ...     ...     ...     ...\n",
       "2019-12-23    2255   11350    7140    3600    1884    4000    4480\n",
       "2019-12-24    2200   11250    7080    3488    1864    3920    4450\n",
       "2019-12-26    2270   11450    7310    3588    1832    3995    4430\n",
       "2019-12-27    2265   11550    7570    3713    1852    4045    4415\n",
       "2019-12-30    2225   11700    7790    3725    1826    4045    4430\n",
       "\n",
       "[246 rows x 7 columns]"
      ]
     },
     "execution_count": 48,
     "metadata": {},
     "output_type": "execute_result"
    }
   ],
   "source": [
    "#주가 딕셔너리에 넣기-> 유가,개별 주식간 비교에 사용\n",
    "\n",
    "price_history = dict()\n",
    "\n",
    "for code in codes_fire:\n",
    "    df = fdr.DataReader(code,'2019-01-01', '2019-12-31')\n",
    "    price_history[code]= df['Close']   # 회사코드: [과거주가 리스트] \n",
    "    \n",
    "df_ = pd.DataFrame(price_history)\n",
    "df_history"
   ]
  },
  {
   "cell_type": "code",
   "execution_count": null,
   "id": "9400fcf9",
   "metadata": {},
   "outputs": [],
   "source": []
  },
  {
   "cell_type": "code",
   "execution_count": null,
   "id": "33382043",
   "metadata": {},
   "outputs": [],
   "source": [
    "# 구제역 관련주\n",
    "# 대체식품(수산업,닭)\n",
    ": 한성기업,정다운,동우팜투테이블,사조오양, \n",
    "신라교역, 마니커, 동원산업 \n",
    "신라에스지 \n",
    "하림 \n",
    "동원수산 \n",
    "이지홀딩스\n",
    "팜스토리\n",
    "\n",
    "# 사료\n",
    "한일사료\n",
    "\n",
    "# 백신\n",
    "우성사료 우진비앤지 대성미생물 \n",
    "\n",
    "# 석회\n",
    "태경비케이 \n",
    "\n"
   ]
  },
  {
   "cell_type": "code",
   "execution_count": null,
   "id": "ad8db618",
   "metadata": {},
   "outputs": [],
   "source": [
    "# ai 관련주(주로 백신) : ai가 길어지면 대체식품주 오를 수 있음\n",
    "\n",
    "파루\n",
    "제일바이오\n",
    "이글벳\n",
    "진원생명과학\n",
    "팜스웰바이오\n",
    "씨티씨바이오\n",
    "대한뉴팜"
   ]
  }
 ],
 "metadata": {
  "kernelspec": {
   "display_name": "Python 3 (ipykernel)",
   "language": "python",
   "name": "python3"
  },
  "language_info": {
   "codemirror_mode": {
    "name": "ipython",
    "version": 3
   },
   "file_extension": ".py",
   "mimetype": "text/x-python",
   "name": "python",
   "nbconvert_exporter": "python",
   "pygments_lexer": "ipython3",
   "version": "3.9.7"
  },
  "varInspector": {
   "cols": {
    "lenName": 16,
    "lenType": 16,
    "lenVar": 40
   },
   "kernels_config": {
    "python": {
     "delete_cmd_postfix": "",
     "delete_cmd_prefix": "del ",
     "library": "var_list.py",
     "varRefreshCmd": "print(var_dic_list())"
    },
    "r": {
     "delete_cmd_postfix": ") ",
     "delete_cmd_prefix": "rm(",
     "library": "var_list.r",
     "varRefreshCmd": "cat(var_dic_list()) "
    }
   },
   "types_to_exclude": [
    "module",
    "function",
    "builtin_function_or_method",
    "instance",
    "_Feature"
   ],
   "window_display": false
  }
 },
 "nbformat": 4,
 "nbformat_minor": 5
}
