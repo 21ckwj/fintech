{
 "cells": [
  {
   "cell_type": "markdown",
   "id": "f6b3239c",
   "metadata": {},
   "source": [
    "# 테마주 지수 만들기"
   ]
  },
  {
   "cell_type": "code",
   "execution_count": 138,
   "id": "ddd906d1",
   "metadata": {},
   "outputs": [],
   "source": [
    "import pandas as pd\n",
    "import numpy as np\n",
    "import matplotlib.pyplot as plt\n",
    "import seaborn as sns\n",
    "import plotly.express as px\n",
    "import plotly.graph_objects as go"
   ]
  },
  {
   "cell_type": "code",
   "execution_count": 67,
   "id": "c0a56139",
   "metadata": {},
   "outputs": [],
   "source": [
    "import requests\n",
    "from selenium import webdriver\n",
    "from selenium.webdriver.common.keys import Keys\n",
    "import time"
   ]
  },
  {
   "cell_type": "code",
   "execution_count": 68,
   "id": "0d4b1168",
   "metadata": {},
   "outputs": [
    {
     "data": {
      "text/html": [
       "<div>\n",
       "<style scoped>\n",
       "    .dataframe tbody tr th:only-of-type {\n",
       "        vertical-align: middle;\n",
       "    }\n",
       "\n",
       "    .dataframe tbody tr th {\n",
       "        vertical-align: top;\n",
       "    }\n",
       "\n",
       "    .dataframe thead th {\n",
       "        text-align: right;\n",
       "    }\n",
       "</style>\n",
       "<table border=\"1\" class=\"dataframe\">\n",
       "  <thead>\n",
       "    <tr style=\"text-align: right;\">\n",
       "      <th></th>\n",
       "      <th>Symbol</th>\n",
       "      <th>Market</th>\n",
       "      <th>Name</th>\n",
       "      <th>Sector</th>\n",
       "      <th>Industry</th>\n",
       "      <th>ListingDate</th>\n",
       "      <th>SettleMonth</th>\n",
       "      <th>Representative</th>\n",
       "      <th>HomePage</th>\n",
       "      <th>Region</th>\n",
       "    </tr>\n",
       "  </thead>\n",
       "  <tbody>\n",
       "    <tr>\n",
       "      <th>0</th>\n",
       "      <td>060310</td>\n",
       "      <td>KOSDAQ</td>\n",
       "      <td>3S</td>\n",
       "      <td>전자부품 제조업</td>\n",
       "      <td>반도체 웨이퍼 캐리어</td>\n",
       "      <td>2002-04-23</td>\n",
       "      <td>03월</td>\n",
       "      <td>김세완</td>\n",
       "      <td>http://www.3sref.com</td>\n",
       "      <td>서울특별시</td>\n",
       "    </tr>\n",
       "    <tr>\n",
       "      <th>1</th>\n",
       "      <td>095570</td>\n",
       "      <td>KOSPI</td>\n",
       "      <td>AJ네트웍스</td>\n",
       "      <td>산업용 기계 및 장비 임대업</td>\n",
       "      <td>렌탈(파렛트, OA장비, 건설장비)</td>\n",
       "      <td>2015-08-21</td>\n",
       "      <td>12월</td>\n",
       "      <td>박대현</td>\n",
       "      <td>http://www.ajnet.co.kr</td>\n",
       "      <td>서울특별시</td>\n",
       "    </tr>\n",
       "    <tr>\n",
       "      <th>2</th>\n",
       "      <td>006840</td>\n",
       "      <td>KOSPI</td>\n",
       "      <td>AK홀딩스</td>\n",
       "      <td>기타 금융업</td>\n",
       "      <td>지주사업</td>\n",
       "      <td>1999-08-11</td>\n",
       "      <td>12월</td>\n",
       "      <td>채형석, 이석주(각자 대표이사)</td>\n",
       "      <td>http://www.aekyunggroup.co.kr</td>\n",
       "      <td>서울특별시</td>\n",
       "    </tr>\n",
       "    <tr>\n",
       "      <th>3</th>\n",
       "      <td>054620</td>\n",
       "      <td>KOSDAQ</td>\n",
       "      <td>APS홀딩스</td>\n",
       "      <td>기타 금융업</td>\n",
       "      <td>인터넷 트래픽 솔루션</td>\n",
       "      <td>2001-12-04</td>\n",
       "      <td>12월</td>\n",
       "      <td>정기로</td>\n",
       "      <td>http://www.apsholdings.co.kr</td>\n",
       "      <td>경기도</td>\n",
       "    </tr>\n",
       "    <tr>\n",
       "      <th>4</th>\n",
       "      <td>265520</td>\n",
       "      <td>KOSDAQ</td>\n",
       "      <td>AP시스템</td>\n",
       "      <td>특수 목적용 기계 제조업</td>\n",
       "      <td>디스플레이 제조 장비</td>\n",
       "      <td>2017-04-07</td>\n",
       "      <td>12월</td>\n",
       "      <td>김영주</td>\n",
       "      <td>http://www.apsystems.co.kr</td>\n",
       "      <td>경기도</td>\n",
       "    </tr>\n",
       "  </tbody>\n",
       "</table>\n",
       "</div>"
      ],
      "text/plain": [
       "   Symbol  Market    Name           Sector             Industry ListingDate  \\\n",
       "0  060310  KOSDAQ      3S         전자부품 제조업          반도체 웨이퍼 캐리어  2002-04-23   \n",
       "1  095570   KOSPI  AJ네트웍스  산업용 기계 및 장비 임대업  렌탈(파렛트, OA장비, 건설장비)  2015-08-21   \n",
       "2  006840   KOSPI   AK홀딩스           기타 금융업                 지주사업  1999-08-11   \n",
       "3  054620  KOSDAQ  APS홀딩스           기타 금융업          인터넷 트래픽 솔루션  2001-12-04   \n",
       "4  265520  KOSDAQ   AP시스템    특수 목적용 기계 제조업          디스플레이 제조 장비  2017-04-07   \n",
       "\n",
       "  SettleMonth     Representative                       HomePage Region  \n",
       "0         03월                김세완           http://www.3sref.com  서울특별시  \n",
       "1         12월                박대현         http://www.ajnet.co.kr  서울특별시  \n",
       "2         12월  채형석, 이석주(각자 대표이사)  http://www.aekyunggroup.co.kr  서울특별시  \n",
       "3         12월                정기로   http://www.apsholdings.co.kr    경기도  \n",
       "4         12월                김영주     http://www.apsystems.co.kr    경기도  "
      ]
     },
     "execution_count": 68,
     "metadata": {},
     "output_type": "execute_result"
    }
   ],
   "source": [
    "import FinanceDataReader as fdr\n",
    "\n",
    "stocklst = fdr.StockListing('KRX')  # stocklst = 한국 전체 주식\n",
    "stocklst.head()"
   ]
  },
  {
   "cell_type": "code",
   "execution_count": 52,
   "id": "0f203ec4",
   "metadata": {},
   "outputs": [
    {
     "name": "stdout",
     "output_type": "stream",
     "text": [
      "7\n"
     ]
    },
    {
     "data": {
      "text/plain": [
       "['파라텍', '인콘', '광림', '현대에버다임', '이엔플러스', '오텍', '한국내화']"
      ]
     },
     "execution_count": 52,
     "metadata": {},
     "output_type": "execute_result"
    }
   ],
   "source": [
    "company_fire = [\n",
    "# 장마 테마주\n",
    "'파라텍', \n",
    "'현대에버다임',\n",
    "    \n",
    "'광림',   \n",
    "'이엔플러스',\n",
    "\n",
    "'오텍',\n",
    "'인콘',\n",
    "'한국내화'\n",
    "]\n",
    "print(len(company_lst1))\n",
    "company_lst1\n",
    "\n"
   ]
  },
  {
   "cell_type": "code",
   "execution_count": 53,
   "id": "ff8d3678",
   "metadata": {},
   "outputs": [
    {
     "name": "stdout",
     "output_type": "stream",
     "text": [
      "4\n"
     ]
    },
    {
     "data": {
      "text/plain": [
       "['이건산업', '한솔홈데코', '자연과환경', '아시아종묘']"
      ]
     },
     "execution_count": 53,
     "metadata": {},
     "output_type": "execute_result"
    }
   ],
   "source": [
    "company_rec = [\n",
    "#환경테마주\n",
    "'이건산업','한솔홈데코', '자연과환경', '아시아종묘']\n",
    "\n",
    "print(len(company_lst2))\n",
    "company_lst2"
   ]
  },
  {
   "cell_type": "code",
   "execution_count": 54,
   "id": "6ac7a433",
   "metadata": {},
   "outputs": [
    {
     "name": "stdout",
     "output_type": "stream",
     "text": [
      "7\n"
     ]
    },
    {
     "data": {
      "text/plain": [
       "['014200', '067170', '074610', '083640', '033540', '010040', '041440']"
      ]
     },
     "execution_count": 54,
     "metadata": {},
     "output_type": "execute_result"
    }
   ],
   "source": [
    "codes_fire = stocklst[stocklst.Name.apply(lambda stock: stock in company_fire)].Symbol.to_list()  #Symbol = 코드\n",
    "print(len(codes_fire)) # codes 의 길이가 company lst 의 길이가 같아야 정상적으로 나온거임 \n",
    "codes_fire"
   ]
  },
  {
   "cell_type": "code",
   "execution_count": 55,
   "id": "565ada14",
   "metadata": {},
   "outputs": [
    {
     "name": "stdout",
     "output_type": "stream",
     "text": [
      "4\n"
     ]
    },
    {
     "data": {
      "text/plain": [
       "['154030', '008250', '043910', '025750']"
      ]
     },
     "execution_count": 55,
     "metadata": {},
     "output_type": "execute_result"
    }
   ],
   "source": [
    "codes_rec = stocklst[stocklst.Name.apply(lambda stock: stock in company_rec)].Symbol.to_list()  #Symbol = 코드\n",
    "print(len(codes_rec)) # codes 의 길이가 company lst 의 길이가 같아야 정상적으로 나온거임 \n",
    "codes_rec"
   ]
  },
  {
   "cell_type": "code",
   "execution_count": null,
   "id": "ea4932b0",
   "metadata": {},
   "outputs": [],
   "source": []
  },
  {
   "cell_type": "code",
   "execution_count": 69,
   "id": "182a0438",
   "metadata": {},
   "outputs": [
    {
     "data": {
      "text/html": [
       "<div>\n",
       "<style scoped>\n",
       "    .dataframe tbody tr th:only-of-type {\n",
       "        vertical-align: middle;\n",
       "    }\n",
       "\n",
       "    .dataframe tbody tr th {\n",
       "        vertical-align: top;\n",
       "    }\n",
       "\n",
       "    .dataframe thead th {\n",
       "        text-align: right;\n",
       "    }\n",
       "</style>\n",
       "<table border=\"1\" class=\"dataframe\">\n",
       "  <thead>\n",
       "    <tr style=\"text-align: right;\">\n",
       "      <th></th>\n",
       "      <th>014200</th>\n",
       "      <th>067170</th>\n",
       "      <th>074610</th>\n",
       "      <th>083640</th>\n",
       "      <th>033540</th>\n",
       "      <th>010040</th>\n",
       "      <th>041440</th>\n",
       "    </tr>\n",
       "    <tr>\n",
       "      <th>Date</th>\n",
       "      <th></th>\n",
       "      <th></th>\n",
       "      <th></th>\n",
       "      <th></th>\n",
       "      <th></th>\n",
       "      <th></th>\n",
       "      <th></th>\n",
       "    </tr>\n",
       "  </thead>\n",
       "  <tbody>\n",
       "    <tr>\n",
       "      <th>2020-01-02</th>\n",
       "      <td>2230</td>\n",
       "      <td>11650</td>\n",
       "      <td>7760</td>\n",
       "      <td>3800</td>\n",
       "      <td>1850</td>\n",
       "      <td>4095</td>\n",
       "      <td>4435</td>\n",
       "    </tr>\n",
       "    <tr>\n",
       "      <th>2020-01-03</th>\n",
       "      <td>2220</td>\n",
       "      <td>11800</td>\n",
       "      <td>7530</td>\n",
       "      <td>3788</td>\n",
       "      <td>1840</td>\n",
       "      <td>4090</td>\n",
       "      <td>4450</td>\n",
       "    </tr>\n",
       "    <tr>\n",
       "      <th>2020-01-06</th>\n",
       "      <td>2165</td>\n",
       "      <td>11750</td>\n",
       "      <td>7240</td>\n",
       "      <td>3663</td>\n",
       "      <td>1836</td>\n",
       "      <td>3930</td>\n",
       "      <td>4410</td>\n",
       "    </tr>\n",
       "    <tr>\n",
       "      <th>2020-01-07</th>\n",
       "      <td>2170</td>\n",
       "      <td>11800</td>\n",
       "      <td>7320</td>\n",
       "      <td>3713</td>\n",
       "      <td>1820</td>\n",
       "      <td>3910</td>\n",
       "      <td>4380</td>\n",
       "    </tr>\n",
       "    <tr>\n",
       "      <th>2020-01-08</th>\n",
       "      <td>2070</td>\n",
       "      <td>11100</td>\n",
       "      <td>6730</td>\n",
       "      <td>3488</td>\n",
       "      <td>1820</td>\n",
       "      <td>3690</td>\n",
       "      <td>4310</td>\n",
       "    </tr>\n",
       "    <tr>\n",
       "      <th>...</th>\n",
       "      <td>...</td>\n",
       "      <td>...</td>\n",
       "      <td>...</td>\n",
       "      <td>...</td>\n",
       "      <td>...</td>\n",
       "      <td>...</td>\n",
       "      <td>...</td>\n",
       "    </tr>\n",
       "    <tr>\n",
       "      <th>2020-12-23</th>\n",
       "      <td>1680</td>\n",
       "      <td>16100</td>\n",
       "      <td>3460</td>\n",
       "      <td>3460</td>\n",
       "      <td>4900</td>\n",
       "      <td>3430</td>\n",
       "      <td>4185</td>\n",
       "    </tr>\n",
       "    <tr>\n",
       "      <th>2020-12-24</th>\n",
       "      <td>1675</td>\n",
       "      <td>16350</td>\n",
       "      <td>3490</td>\n",
       "      <td>3315</td>\n",
       "      <td>4800</td>\n",
       "      <td>3860</td>\n",
       "      <td>4235</td>\n",
       "    </tr>\n",
       "    <tr>\n",
       "      <th>2020-12-28</th>\n",
       "      <td>1630</td>\n",
       "      <td>15200</td>\n",
       "      <td>3370</td>\n",
       "      <td>3140</td>\n",
       "      <td>5000</td>\n",
       "      <td>3795</td>\n",
       "      <td>4205</td>\n",
       "    </tr>\n",
       "    <tr>\n",
       "      <th>2020-12-29</th>\n",
       "      <td>1655</td>\n",
       "      <td>16000</td>\n",
       "      <td>3450</td>\n",
       "      <td>3290</td>\n",
       "      <td>5200</td>\n",
       "      <td>4350</td>\n",
       "      <td>4245</td>\n",
       "    </tr>\n",
       "    <tr>\n",
       "      <th>2020-12-30</th>\n",
       "      <td>1680</td>\n",
       "      <td>16000</td>\n",
       "      <td>3590</td>\n",
       "      <td>3325</td>\n",
       "      <td>5400</td>\n",
       "      <td>4195</td>\n",
       "      <td>4300</td>\n",
       "    </tr>\n",
       "  </tbody>\n",
       "</table>\n",
       "<p>248 rows × 7 columns</p>\n",
       "</div>"
      ],
      "text/plain": [
       "            014200  067170  074610  083640  033540  010040  041440\n",
       "Date                                                              \n",
       "2020-01-02    2230   11650    7760    3800    1850    4095    4435\n",
       "2020-01-03    2220   11800    7530    3788    1840    4090    4450\n",
       "2020-01-06    2165   11750    7240    3663    1836    3930    4410\n",
       "2020-01-07    2170   11800    7320    3713    1820    3910    4380\n",
       "2020-01-08    2070   11100    6730    3488    1820    3690    4310\n",
       "...            ...     ...     ...     ...     ...     ...     ...\n",
       "2020-12-23    1680   16100    3460    3460    4900    3430    4185\n",
       "2020-12-24    1675   16350    3490    3315    4800    3860    4235\n",
       "2020-12-28    1630   15200    3370    3140    5000    3795    4205\n",
       "2020-12-29    1655   16000    3450    3290    5200    4350    4245\n",
       "2020-12-30    1680   16000    3590    3325    5400    4195    4300\n",
       "\n",
       "[248 rows x 7 columns]"
      ]
     },
     "execution_count": 69,
     "metadata": {},
     "output_type": "execute_result"
    }
   ],
   "source": [
    "#주가 딕셔너리에 넣기-> 유가,개별 주식간 비교에 사용\n",
    "\n",
    "price_history = dict()\n",
    "\n",
    "for code in codes_fire:\n",
    "    df = fdr.DataReader(code,'2020-01-01', '2020-12-31')\n",
    "    price_history[code]= df['Close']   # 회사코드: [과거주가 리스트] \n",
    "    \n",
    "df_fire = pd.DataFrame(price_history)\n",
    "df_fire"
   ]
  },
  {
   "cell_type": "code",
   "execution_count": 106,
   "id": "d0f44ce1",
   "metadata": {},
   "outputs": [
    {
     "name": "stdout",
     "output_type": "stream",
     "text": [
      "발행 주식수:  75374288.0\n",
      "유동비율:  80.68\n",
      "액면가:  500\n",
      "--------------------------------------------------\n",
      "발행 주식수:  15391605.0\n",
      "유동비율:  64.54\n",
      "액면가:  500\n",
      "--------------------------------------------------\n",
      "발행 주식수:  53234952.0\n",
      "유동비율:  94.1\n",
      "액면가:  500\n",
      "--------------------------------------------------\n",
      "발행 주식수:  44658769.0\n",
      "유동비율:  83.18\n",
      "액면가:  500\n",
      "--------------------------------------------------\n",
      "발행 주식수:  50135131.0\n",
      "유동비율:  81.02\n",
      "액면가:  200\n",
      "--------------------------------------------------\n",
      "발행 주식수:  41067062.0\n",
      "유동비율:  23.75\n",
      "액면가:  500\n",
      "--------------------------------------------------\n",
      "발행 주식수:  17915944.0\n",
      "유동비율:  52.46\n",
      "액면가:  500\n",
      "--------------------------------------------------\n"
     ]
    },
    {
     "data": {
      "text/html": [
       "<div>\n",
       "<style scoped>\n",
       "    .dataframe tbody tr th:only-of-type {\n",
       "        vertical-align: middle;\n",
       "    }\n",
       "\n",
       "    .dataframe tbody tr th {\n",
       "        vertical-align: top;\n",
       "    }\n",
       "\n",
       "    .dataframe thead th {\n",
       "        text-align: right;\n",
       "    }\n",
       "</style>\n",
       "<table border=\"1\" class=\"dataframe\">\n",
       "  <thead>\n",
       "    <tr style=\"text-align: right;\">\n",
       "      <th></th>\n",
       "      <th>014200</th>\n",
       "      <th>067170</th>\n",
       "      <th>074610</th>\n",
       "      <th>083640</th>\n",
       "      <th>033540</th>\n",
       "      <th>010040</th>\n",
       "      <th>041440</th>\n",
       "      <th>total</th>\n",
       "      <th>지수</th>\n",
       "    </tr>\n",
       "    <tr>\n",
       "      <th>Date</th>\n",
       "      <th></th>\n",
       "      <th></th>\n",
       "      <th></th>\n",
       "      <th></th>\n",
       "      <th></th>\n",
       "      <th></th>\n",
       "      <th></th>\n",
       "      <th></th>\n",
       "      <th></th>\n",
       "    </tr>\n",
       "  </thead>\n",
       "  <tbody>\n",
       "    <tr>\n",
       "      <th>2019-01-02</th>\n",
       "      <td>1.517259e+12</td>\n",
       "      <td>1.067877e+12</td>\n",
       "      <td>2.725118e+12</td>\n",
       "      <td>2.711743e+12</td>\n",
       "      <td>9.098764e+12</td>\n",
       "      <td>5.062029e+11</td>\n",
       "      <td>5.310268e+11</td>\n",
       "      <td>1.815799e+13</td>\n",
       "      <td>100.000000</td>\n",
       "    </tr>\n",
       "    <tr>\n",
       "      <th>2019-01-03</th>\n",
       "      <td>1.517259e+12</td>\n",
       "      <td>1.082778e+12</td>\n",
       "      <td>2.725118e+12</td>\n",
       "      <td>2.581728e+12</td>\n",
       "      <td>8.887543e+12</td>\n",
       "      <td>5.169316e+11</td>\n",
       "      <td>5.385458e+11</td>\n",
       "      <td>1.784990e+13</td>\n",
       "      <td>98.303292</td>\n",
       "    </tr>\n",
       "    <tr>\n",
       "      <th>2019-01-04</th>\n",
       "      <td>1.553746e+12</td>\n",
       "      <td>1.122513e+12</td>\n",
       "      <td>2.840335e+12</td>\n",
       "      <td>2.628162e+12</td>\n",
       "      <td>8.725065e+12</td>\n",
       "      <td>5.159563e+11</td>\n",
       "      <td>5.347863e+11</td>\n",
       "      <td>1.792056e+13</td>\n",
       "      <td>98.692431</td>\n",
       "    </tr>\n",
       "    <tr>\n",
       "      <th>2019-01-07</th>\n",
       "      <td>1.541584e+12</td>\n",
       "      <td>1.122513e+12</td>\n",
       "      <td>3.321238e+12</td>\n",
       "      <td>2.628162e+12</td>\n",
       "      <td>8.887543e+12</td>\n",
       "      <td>5.510686e+11</td>\n",
       "      <td>5.451248e+11</td>\n",
       "      <td>1.859723e+13</td>\n",
       "      <td>102.418998</td>\n",
       "    </tr>\n",
       "    <tr>\n",
       "      <th>2019-01-08</th>\n",
       "      <td>1.544624e+12</td>\n",
       "      <td>1.137413e+12</td>\n",
       "      <td>3.080787e+12</td>\n",
       "      <td>2.702456e+12</td>\n",
       "      <td>9.001277e+12</td>\n",
       "      <td>5.413152e+11</td>\n",
       "      <td>5.827197e+11</td>\n",
       "      <td>1.859059e+13</td>\n",
       "      <td>102.382429</td>\n",
       "    </tr>\n",
       "    <tr>\n",
       "      <th>...</th>\n",
       "      <td>...</td>\n",
       "      <td>...</td>\n",
       "      <td>...</td>\n",
       "      <td>...</td>\n",
       "      <td>...</td>\n",
       "      <td>...</td>\n",
       "      <td>...</td>\n",
       "      <td>...</td>\n",
       "      <td>...</td>\n",
       "    </tr>\n",
       "    <tr>\n",
       "      <th>2019-12-23</th>\n",
       "      <td>1.371310e+12</td>\n",
       "      <td>1.127480e+12</td>\n",
       "      <td>3.576718e+12</td>\n",
       "      <td>1.337298e+12</td>\n",
       "      <td>7.652711e+12</td>\n",
       "      <td>3.901371e+11</td>\n",
       "      <td>4.210619e+11</td>\n",
       "      <td>1.587672e+13</td>\n",
       "      <td>87.436518</td>\n",
       "    </tr>\n",
       "    <tr>\n",
       "      <th>2019-12-24</th>\n",
       "      <td>1.337863e+12</td>\n",
       "      <td>1.117546e+12</td>\n",
       "      <td>3.546662e+12</td>\n",
       "      <td>1.295693e+12</td>\n",
       "      <td>7.571472e+12</td>\n",
       "      <td>3.823343e+11</td>\n",
       "      <td>4.182423e+11</td>\n",
       "      <td>1.566981e+13</td>\n",
       "      <td>86.297058</td>\n",
       "    </tr>\n",
       "    <tr>\n",
       "      <th>2019-12-26</th>\n",
       "      <td>1.380432e+12</td>\n",
       "      <td>1.137413e+12</td>\n",
       "      <td>3.661878e+12</td>\n",
       "      <td>1.332840e+12</td>\n",
       "      <td>7.441489e+12</td>\n",
       "      <td>3.896494e+11</td>\n",
       "      <td>4.163626e+11</td>\n",
       "      <td>1.576006e+13</td>\n",
       "      <td>86.794098</td>\n",
       "    </tr>\n",
       "    <tr>\n",
       "      <th>2019-12-27</th>\n",
       "      <td>1.377391e+12</td>\n",
       "      <td>1.147347e+12</td>\n",
       "      <td>3.792123e+12</td>\n",
       "      <td>1.379274e+12</td>\n",
       "      <td>7.522728e+12</td>\n",
       "      <td>3.945261e+11</td>\n",
       "      <td>4.149528e+11</td>\n",
       "      <td>1.602834e+13</td>\n",
       "      <td>88.271561</td>\n",
       "    </tr>\n",
       "    <tr>\n",
       "      <th>2019-12-30</th>\n",
       "      <td>1.353066e+12</td>\n",
       "      <td>1.162248e+12</td>\n",
       "      <td>3.902330e+12</td>\n",
       "      <td>1.383732e+12</td>\n",
       "      <td>7.417118e+12</td>\n",
       "      <td>3.945261e+11</td>\n",
       "      <td>4.163626e+11</td>\n",
       "      <td>1.602938e+13</td>\n",
       "      <td>88.277286</td>\n",
       "    </tr>\n",
       "  </tbody>\n",
       "</table>\n",
       "<p>246 rows × 9 columns</p>\n",
       "</div>"
      ],
      "text/plain": [
       "                  014200        067170        074610        083640  \\\n",
       "Date                                                                 \n",
       "2019-01-02  1.517259e+12  1.067877e+12  2.725118e+12  2.711743e+12   \n",
       "2019-01-03  1.517259e+12  1.082778e+12  2.725118e+12  2.581728e+12   \n",
       "2019-01-04  1.553746e+12  1.122513e+12  2.840335e+12  2.628162e+12   \n",
       "2019-01-07  1.541584e+12  1.122513e+12  3.321238e+12  2.628162e+12   \n",
       "2019-01-08  1.544624e+12  1.137413e+12  3.080787e+12  2.702456e+12   \n",
       "...                  ...           ...           ...           ...   \n",
       "2019-12-23  1.371310e+12  1.127480e+12  3.576718e+12  1.337298e+12   \n",
       "2019-12-24  1.337863e+12  1.117546e+12  3.546662e+12  1.295693e+12   \n",
       "2019-12-26  1.380432e+12  1.137413e+12  3.661878e+12  1.332840e+12   \n",
       "2019-12-27  1.377391e+12  1.147347e+12  3.792123e+12  1.379274e+12   \n",
       "2019-12-30  1.353066e+12  1.162248e+12  3.902330e+12  1.383732e+12   \n",
       "\n",
       "                  033540        010040        041440         total          지수  \n",
       "Date                                                                            \n",
       "2019-01-02  9.098764e+12  5.062029e+11  5.310268e+11  1.815799e+13  100.000000  \n",
       "2019-01-03  8.887543e+12  5.169316e+11  5.385458e+11  1.784990e+13   98.303292  \n",
       "2019-01-04  8.725065e+12  5.159563e+11  5.347863e+11  1.792056e+13   98.692431  \n",
       "2019-01-07  8.887543e+12  5.510686e+11  5.451248e+11  1.859723e+13  102.418998  \n",
       "2019-01-08  9.001277e+12  5.413152e+11  5.827197e+11  1.859059e+13  102.382429  \n",
       "...                  ...           ...           ...           ...         ...  \n",
       "2019-12-23  7.652711e+12  3.901371e+11  4.210619e+11  1.587672e+13   87.436518  \n",
       "2019-12-24  7.571472e+12  3.823343e+11  4.182423e+11  1.566981e+13   86.297058  \n",
       "2019-12-26  7.441489e+12  3.896494e+11  4.163626e+11  1.576006e+13   86.794098  \n",
       "2019-12-27  7.522728e+12  3.945261e+11  4.149528e+11  1.602834e+13   88.271561  \n",
       "2019-12-30  7.417118e+12  3.945261e+11  4.163626e+11  1.602938e+13   88.277286  \n",
       "\n",
       "[246 rows x 9 columns]"
      ]
     },
     "execution_count": 106,
     "metadata": {},
     "output_type": "execute_result"
    }
   ],
   "source": [
    "# Oil 지수 구하기 \n",
    "\n",
    "driver = webdriver.Chrome()\n",
    "\n",
    "driver = webdriver.Chrome()\n",
    "\n",
    "company_fire = [\n",
    "#소방테마주\n",
    "'파라텍', \n",
    "'현대에버다임',\n",
    "    \n",
    "'광림',   \n",
    "'이엔플러스',\n",
    "\n",
    "'오텍',\n",
    "'인콘',\n",
    "'한국내화'\n",
    "]\n",
    "\n",
    "marketcap = dict()\n",
    "\n",
    "for code in codes_fire:\n",
    "    df = fdr.DataReader(code,'2019-01-02', '2019-12-31')\n",
    "    \n",
    "    \n",
    "    #기준시점 시가 총액\n",
    "    price1 = df.loc['2019-01-02']['Close']\n",
    "    \n",
    "    url1 = 'https://navercomp.wisereport.co.kr/v2/company/c1010001.aspx?cmp_cd={}'.format(code)\n",
    "    driver.get(url1)\n",
    "    time.sleep(0.5)\n",
    "    html1 = driver.page_source\n",
    "    df1 = pd.read_html(html1)[1]\n",
    "   \n",
    "    # 발행 주식수\n",
    "    outstanding = df1.iloc[6][1].split('/')[0]\n",
    "    outstanding = outstanding.replace('주','') # 1,231,000주 -> 1,231,000\n",
    "    outstanding = outstanding.replace(',', '') # 1,231,000 -> 1231000\n",
    "    outstanding =  float(outstanding)\n",
    "    print(\"발행 주식수: \",outstanding)\n",
    "    \n",
    "    # 유동비율 \n",
    "    floating = df1.iloc[6][1].split('/')[1]\n",
    "    floating = floating.replace('%', '')  # %기호 없애주기\n",
    "    floating = float(floating)\n",
    "    print(\"유동비율: \",floating)\n",
    "    \n",
    "     #액면가\n",
    "    price_f = df1.iloc[2][1]\n",
    "    price_f = price_f.replace('원', '') # 5,000원 -> 5,000\n",
    "    price_f = price_f.replace(',', '') # 5,000 -> 5000\n",
    "    price_f = int(price_f)\n",
    "    print(\"액면가: \", price_f)\n",
    "    print('-'* 50)\n",
    "    \n",
    "    ## 지수 구하기\n",
    "    \n",
    "    # 기업들의 주가 데이터프레임: df_p\n",
    "    df_p = fdr.DataReader(code,'2019-01-02', '2019-12-31')\n",
    "    \n",
    "    #비교시점의 시가총액(비교시점주가 * 발행주식수 * 유동비율)\n",
    "    \n",
    "    if price_f == 5000:     #액면금액이 5000원\n",
    "        pass\n",
    "    elif price_f == 2500:   #액면금액이 2500원\n",
    "        df_p['Close'] = df_p['Close']/2\n",
    "        \n",
    "    elif price_f == 500:    #액면금액이 500원\n",
    "        df_p['Close'] = df_p['Close']/10\n",
    "        \n",
    "    elif price_f == 100:    #액면금액이 100원\n",
    "        df_p['Close'] = df_p['Close']/50\n",
    "        \n",
    "   \n",
    "    marketcap[code] = df_p['Close'] * outstanding * floating   # 딕셔너리에 추가\n",
    "   \n",
    " \n",
    "df_marketcap = pd.DataFrame(marketcap)\n",
    "df_marketcap['total'] = df_marketcap.sum(axis=1)\n",
    "\n",
    "# 기준시점(2017년 2월 10일) 시가총액( 기준시점주가 * 발행주식수 * 유동비율)\n",
    "\n",
    "marketcap_std = df_marketcap['total'].iloc[0]\n",
    "\n",
    "# 지수 = (각기업시가총액합 / 2019년 1월2일의 각 기업시가총액합) * 100\n",
    "df_marketcap['지수'] = (df_marketcap['total']/ marketcap_std) * 100\n",
    "\n",
    "df_marketcap\n",
    "\n",
    "\n",
    "\n",
    "\n",
    "\n",
    "    "
   ]
  },
  {
   "cell_type": "markdown",
   "id": "1fa2e2be",
   "metadata": {},
   "source": [
    "# 지수변동률 추가"
   ]
  },
  {
   "cell_type": "code",
   "execution_count": 109,
   "id": "cd03e659",
   "metadata": {},
   "outputs": [
    {
     "data": {
      "text/html": [
       "<div>\n",
       "<style scoped>\n",
       "    .dataframe tbody tr th:only-of-type {\n",
       "        vertical-align: middle;\n",
       "    }\n",
       "\n",
       "    .dataframe tbody tr th {\n",
       "        vertical-align: top;\n",
       "    }\n",
       "\n",
       "    .dataframe thead th {\n",
       "        text-align: right;\n",
       "    }\n",
       "</style>\n",
       "<table border=\"1\" class=\"dataframe\">\n",
       "  <thead>\n",
       "    <tr style=\"text-align: right;\">\n",
       "      <th></th>\n",
       "      <th>Date</th>\n",
       "      <th>014200</th>\n",
       "      <th>067170</th>\n",
       "      <th>074610</th>\n",
       "      <th>083640</th>\n",
       "      <th>033540</th>\n",
       "      <th>010040</th>\n",
       "      <th>041440</th>\n",
       "      <th>total</th>\n",
       "      <th>지수</th>\n",
       "      <th>지수변동률</th>\n",
       "    </tr>\n",
       "  </thead>\n",
       "  <tbody>\n",
       "    <tr>\n",
       "      <th>0</th>\n",
       "      <td>2019-01-02</td>\n",
       "      <td>1.517259e+12</td>\n",
       "      <td>1.067877e+12</td>\n",
       "      <td>2.725118e+12</td>\n",
       "      <td>2.711743e+12</td>\n",
       "      <td>9.098764e+12</td>\n",
       "      <td>5.062029e+11</td>\n",
       "      <td>5.310268e+11</td>\n",
       "      <td>1.815799e+13</td>\n",
       "      <td>100.000000</td>\n",
       "      <td>0.000000</td>\n",
       "    </tr>\n",
       "    <tr>\n",
       "      <th>1</th>\n",
       "      <td>2019-01-03</td>\n",
       "      <td>1.517259e+12</td>\n",
       "      <td>1.082778e+12</td>\n",
       "      <td>2.725118e+12</td>\n",
       "      <td>2.581728e+12</td>\n",
       "      <td>8.887543e+12</td>\n",
       "      <td>5.169316e+11</td>\n",
       "      <td>5.385458e+11</td>\n",
       "      <td>1.784990e+13</td>\n",
       "      <td>98.303292</td>\n",
       "      <td>-1.696708</td>\n",
       "    </tr>\n",
       "  </tbody>\n",
       "</table>\n",
       "</div>"
      ],
      "text/plain": [
       "        Date        014200        067170        074610        083640  \\\n",
       "0 2019-01-02  1.517259e+12  1.067877e+12  2.725118e+12  2.711743e+12   \n",
       "1 2019-01-03  1.517259e+12  1.082778e+12  2.725118e+12  2.581728e+12   \n",
       "\n",
       "         033540        010040        041440         total          지수  \\\n",
       "0  9.098764e+12  5.062029e+11  5.310268e+11  1.815799e+13  100.000000   \n",
       "1  8.887543e+12  5.169316e+11  5.385458e+11  1.784990e+13   98.303292   \n",
       "\n",
       "      지수변동률  \n",
       "0  0.000000  \n",
       "1 -1.696708  "
      ]
     },
     "execution_count": 109,
     "metadata": {},
     "output_type": "execute_result"
    }
   ],
   "source": [
    "# 지수변동률 추가\n",
    "\n",
    "diff_lst = [0]\n",
    "for i in range(len(df)-1):\n",
    "    diff = (df_marketcap['지수'].iloc[i+1]-df_marketcap['지수'].iloc[i])*100/df_marketcap['지수'].iloc[i]\n",
    "    diff_lst.append(diff)\n",
    "len(diff_lst)\n",
    "\n",
    "df_marketcap['지수변동률'] = diff_lst\n",
    "df_marketcap.reset_index(inplace=True)\n",
    "df_marketcap.head(2)"
   ]
  },
  {
   "cell_type": "code",
   "execution_count": 133,
   "id": "5bf90b67",
   "metadata": {},
   "outputs": [
    {
     "data": {
      "text/html": [
       "<div>\n",
       "<style scoped>\n",
       "    .dataframe tbody tr th:only-of-type {\n",
       "        vertical-align: middle;\n",
       "    }\n",
       "\n",
       "    .dataframe tbody tr th {\n",
       "        vertical-align: top;\n",
       "    }\n",
       "\n",
       "    .dataframe thead th {\n",
       "        text-align: right;\n",
       "    }\n",
       "</style>\n",
       "<table border=\"1\" class=\"dataframe\">\n",
       "  <thead>\n",
       "    <tr style=\"text-align: right;\">\n",
       "      <th></th>\n",
       "      <th>Date</th>\n",
       "      <th>014200</th>\n",
       "      <th>067170</th>\n",
       "      <th>074610</th>\n",
       "      <th>083640</th>\n",
       "      <th>033540</th>\n",
       "      <th>010040</th>\n",
       "      <th>041440</th>\n",
       "      <th>total</th>\n",
       "      <th>지수</th>\n",
       "      <th>지수변동률</th>\n",
       "    </tr>\n",
       "  </thead>\n",
       "  <tbody>\n",
       "    <tr>\n",
       "      <th>0</th>\n",
       "      <td>2019-01-02</td>\n",
       "      <td>1.517259e+12</td>\n",
       "      <td>1.067877e+12</td>\n",
       "      <td>2.725118e+12</td>\n",
       "      <td>2.711743e+12</td>\n",
       "      <td>9.098764e+12</td>\n",
       "      <td>5.062029e+11</td>\n",
       "      <td>5.310268e+11</td>\n",
       "      <td>1.815799e+13</td>\n",
       "      <td>100.000000</td>\n",
       "      <td>0.000000</td>\n",
       "    </tr>\n",
       "    <tr>\n",
       "      <th>1</th>\n",
       "      <td>2019-01-03</td>\n",
       "      <td>1.517259e+12</td>\n",
       "      <td>1.082778e+12</td>\n",
       "      <td>2.725118e+12</td>\n",
       "      <td>2.581728e+12</td>\n",
       "      <td>8.887543e+12</td>\n",
       "      <td>5.169316e+11</td>\n",
       "      <td>5.385458e+11</td>\n",
       "      <td>1.784990e+13</td>\n",
       "      <td>98.303292</td>\n",
       "      <td>-1.696708</td>\n",
       "    </tr>\n",
       "  </tbody>\n",
       "</table>\n",
       "</div>"
      ],
      "text/plain": [
       "        Date        014200        067170        074610        083640  \\\n",
       "0 2019-01-02  1.517259e+12  1.067877e+12  2.725118e+12  2.711743e+12   \n",
       "1 2019-01-03  1.517259e+12  1.082778e+12  2.725118e+12  2.581728e+12   \n",
       "\n",
       "         033540        010040        041440         total          지수  \\\n",
       "0  9.098764e+12  5.062029e+11  5.310268e+11  1.815799e+13  100.000000   \n",
       "1  8.887543e+12  5.169316e+11  5.385458e+11  1.784990e+13   98.303292   \n",
       "\n",
       "      지수변동률  \n",
       "0  0.000000  \n",
       "1 -1.696708  "
      ]
     },
     "execution_count": 133,
     "metadata": {},
     "output_type": "execute_result"
    }
   ],
   "source": [
    "df_scaler = df_marketcap.copy()\n",
    "df_scaler.head(2)"
   ]
  },
  {
   "cell_type": "markdown",
   "id": "04a5f505",
   "metadata": {},
   "source": [
    "# 시각화"
   ]
  },
  {
   "cell_type": "code",
   "execution_count": 130,
   "id": "5089b295",
   "metadata": {},
   "outputs": [
    {
     "data": {
      "text/html": [
       "<div>\n",
       "<style scoped>\n",
       "    .dataframe tbody tr th:only-of-type {\n",
       "        vertical-align: middle;\n",
       "    }\n",
       "\n",
       "    .dataframe tbody tr th {\n",
       "        vertical-align: top;\n",
       "    }\n",
       "\n",
       "    .dataframe thead th {\n",
       "        text-align: right;\n",
       "    }\n",
       "</style>\n",
       "<table border=\"1\" class=\"dataframe\">\n",
       "  <thead>\n",
       "    <tr style=\"text-align: right;\">\n",
       "      <th></th>\n",
       "      <th>0</th>\n",
       "      <th>1</th>\n",
       "      <th>2</th>\n",
       "      <th>3</th>\n",
       "      <th>4</th>\n",
       "      <th>5</th>\n",
       "      <th>6</th>\n",
       "      <th>7</th>\n",
       "      <th>8</th>\n",
       "      <th>9</th>\n",
       "    </tr>\n",
       "  </thead>\n",
       "  <tbody>\n",
       "    <tr>\n",
       "      <th>0</th>\n",
       "      <td>0.177340</td>\n",
       "      <td>0.234043</td>\n",
       "      <td>0.227477</td>\n",
       "      <td>0.650407</td>\n",
       "      <td>0.844898</td>\n",
       "      <td>0.199693</td>\n",
       "      <td>0.358940</td>\n",
       "      <td>0.551842</td>\n",
       "      <td>0.551842</td>\n",
       "      <td>0.448931</td>\n",
       "    </tr>\n",
       "    <tr>\n",
       "      <th>1</th>\n",
       "      <td>0.177340</td>\n",
       "      <td>0.265957</td>\n",
       "      <td>0.227477</td>\n",
       "      <td>0.593496</td>\n",
       "      <td>0.738776</td>\n",
       "      <td>0.216590</td>\n",
       "      <td>0.380132</td>\n",
       "      <td>0.486272</td>\n",
       "      <td>0.486272</td>\n",
       "      <td>0.329877</td>\n",
       "    </tr>\n",
       "    <tr>\n",
       "      <th>2</th>\n",
       "      <td>0.206897</td>\n",
       "      <td>0.351064</td>\n",
       "      <td>0.253378</td>\n",
       "      <td>0.613821</td>\n",
       "      <td>0.657143</td>\n",
       "      <td>0.215054</td>\n",
       "      <td>0.369536</td>\n",
       "      <td>0.501310</td>\n",
       "      <td>0.501310</td>\n",
       "      <td>0.476707</td>\n",
       "    </tr>\n",
       "    <tr>\n",
       "      <th>3</th>\n",
       "      <td>0.197044</td>\n",
       "      <td>0.351064</td>\n",
       "      <td>0.361486</td>\n",
       "      <td>0.613821</td>\n",
       "      <td>0.738776</td>\n",
       "      <td>0.270353</td>\n",
       "      <td>0.398675</td>\n",
       "      <td>0.645327</td>\n",
       "      <td>0.645327</td>\n",
       "      <td>0.713880</td>\n",
       "    </tr>\n",
       "    <tr>\n",
       "      <th>4</th>\n",
       "      <td>0.199507</td>\n",
       "      <td>0.382979</td>\n",
       "      <td>0.307432</td>\n",
       "      <td>0.646341</td>\n",
       "      <td>0.795918</td>\n",
       "      <td>0.254992</td>\n",
       "      <td>0.504636</td>\n",
       "      <td>0.643913</td>\n",
       "      <td>0.643913</td>\n",
       "      <td>0.446426</td>\n",
       "    </tr>\n",
       "    <tr>\n",
       "      <th>...</th>\n",
       "      <td>...</td>\n",
       "      <td>...</td>\n",
       "      <td>...</td>\n",
       "      <td>...</td>\n",
       "      <td>...</td>\n",
       "      <td>...</td>\n",
       "      <td>...</td>\n",
       "      <td>...</td>\n",
       "      <td>...</td>\n",
       "      <td>...</td>\n",
       "    </tr>\n",
       "    <tr>\n",
       "      <th>241</th>\n",
       "      <td>0.059113</td>\n",
       "      <td>0.361702</td>\n",
       "      <td>0.418919</td>\n",
       "      <td>0.048780</td>\n",
       "      <td>0.118367</td>\n",
       "      <td>0.016897</td>\n",
       "      <td>0.049007</td>\n",
       "      <td>0.066317</td>\n",
       "      <td>0.066317</td>\n",
       "      <td>0.462358</td>\n",
       "    </tr>\n",
       "    <tr>\n",
       "      <th>242</th>\n",
       "      <td>0.032020</td>\n",
       "      <td>0.340426</td>\n",
       "      <td>0.412162</td>\n",
       "      <td>0.030569</td>\n",
       "      <td>0.077551</td>\n",
       "      <td>0.004608</td>\n",
       "      <td>0.041060</td>\n",
       "      <td>0.022282</td>\n",
       "      <td>0.022282</td>\n",
       "      <td>0.357490</td>\n",
       "    </tr>\n",
       "    <tr>\n",
       "      <th>243</th>\n",
       "      <td>0.066502</td>\n",
       "      <td>0.382979</td>\n",
       "      <td>0.438063</td>\n",
       "      <td>0.046829</td>\n",
       "      <td>0.012245</td>\n",
       "      <td>0.016129</td>\n",
       "      <td>0.035762</td>\n",
       "      <td>0.041490</td>\n",
       "      <td>0.041490</td>\n",
       "      <td>0.489345</td>\n",
       "    </tr>\n",
       "    <tr>\n",
       "      <th>244</th>\n",
       "      <td>0.064039</td>\n",
       "      <td>0.404255</td>\n",
       "      <td>0.467342</td>\n",
       "      <td>0.067154</td>\n",
       "      <td>0.053061</td>\n",
       "      <td>0.023810</td>\n",
       "      <td>0.031788</td>\n",
       "      <td>0.098588</td>\n",
       "      <td>0.098588</td>\n",
       "      <td>0.568375</td>\n",
       "    </tr>\n",
       "    <tr>\n",
       "      <th>245</th>\n",
       "      <td>0.044335</td>\n",
       "      <td>0.436170</td>\n",
       "      <td>0.492117</td>\n",
       "      <td>0.069106</td>\n",
       "      <td>0.000000</td>\n",
       "      <td>0.023810</td>\n",
       "      <td>0.035762</td>\n",
       "      <td>0.098809</td>\n",
       "      <td>0.098809</td>\n",
       "      <td>0.449386</td>\n",
       "    </tr>\n",
       "  </tbody>\n",
       "</table>\n",
       "<p>246 rows × 10 columns</p>\n",
       "</div>"
      ],
      "text/plain": [
       "            0         1         2         3         4         5         6  \\\n",
       "0    0.177340  0.234043  0.227477  0.650407  0.844898  0.199693  0.358940   \n",
       "1    0.177340  0.265957  0.227477  0.593496  0.738776  0.216590  0.380132   \n",
       "2    0.206897  0.351064  0.253378  0.613821  0.657143  0.215054  0.369536   \n",
       "3    0.197044  0.351064  0.361486  0.613821  0.738776  0.270353  0.398675   \n",
       "4    0.199507  0.382979  0.307432  0.646341  0.795918  0.254992  0.504636   \n",
       "..        ...       ...       ...       ...       ...       ...       ...   \n",
       "241  0.059113  0.361702  0.418919  0.048780  0.118367  0.016897  0.049007   \n",
       "242  0.032020  0.340426  0.412162  0.030569  0.077551  0.004608  0.041060   \n",
       "243  0.066502  0.382979  0.438063  0.046829  0.012245  0.016129  0.035762   \n",
       "244  0.064039  0.404255  0.467342  0.067154  0.053061  0.023810  0.031788   \n",
       "245  0.044335  0.436170  0.492117  0.069106  0.000000  0.023810  0.035762   \n",
       "\n",
       "            7         8         9  \n",
       "0    0.551842  0.551842  0.448931  \n",
       "1    0.486272  0.486272  0.329877  \n",
       "2    0.501310  0.501310  0.476707  \n",
       "3    0.645327  0.645327  0.713880  \n",
       "4    0.643913  0.643913  0.446426  \n",
       "..        ...       ...       ...  \n",
       "241  0.066317  0.066317  0.462358  \n",
       "242  0.022282  0.022282  0.357490  \n",
       "243  0.041490  0.041490  0.489345  \n",
       "244  0.098588  0.098588  0.568375  \n",
       "245  0.098809  0.098809  0.449386  \n",
       "\n",
       "[246 rows x 10 columns]"
      ]
     },
     "execution_count": 130,
     "metadata": {},
     "output_type": "execute_result"
    }
   ],
   "source": [
    "# 비율 맞춰주기\n",
    "# scaler 쓰려면 데이터타입이 모두 같아야 해서 Date타입 바꿔주는 과정\n",
    "\n",
    "from sklearn.preprocessing import StandardScaler, MinMaxScaler\n",
    "scaler = MinMaxScaler()\n",
    "df_scaler = df_scaler.drop('Date',axis =1)\n",
    "df_scaled = pd.DataFrame(scaler.fit_transform(df_scaler))\n",
    "df_scaled"
   ]
  },
  {
   "cell_type": "code",
   "execution_count": 126,
   "id": "93165624",
   "metadata": {},
   "outputs": [
    {
     "data": {
      "text/plain": [
       "[<matplotlib.lines.Line2D at 0x1c423d3f3d0>,\n",
       " <matplotlib.lines.Line2D at 0x1c4248ace80>]"
      ]
     },
     "execution_count": 126,
     "metadata": {},
     "output_type": "execute_result"
    },
    {
     "data": {
      "image/png": "[encoded data removed]",
      "text/plain": [
       "<Figure size 1440x720 with 1 Axes>"
      ]
     },
     "metadata": {
      "needs_background": "light"
     },
     "output_type": "display_data"
    }
   ],
   "source": [
    "# matplotlib\n",
    "\n",
    "x = df_marketcap['Date']\n",
    "y1_scaled = df_scaled[8]\n",
    "y2_scaled = df_scaled[9]\n",
    "\n",
    "plt.figure(figsize=(20,10))\n",
    "plt.plot(x,y1_scaled,'b',x,y2_scaled,'g')"
   ]
  },
  {
   "cell_type": "code",
   "execution_count": null,
   "id": "eb5d22a7",
   "metadata": {},
   "outputs": [],
   "source": []
  },
  {
   "cell_type": "code",
   "execution_count": 140,
   "id": "0e2e94f0",
   "metadata": {},
   "outputs": [
    {
     "data": {
      "application/vnd.plotly.v1+json": {
       "config": {
        "plotlyServerURL": "https://plot.ly"
       },
       "data": [
        {
         "hovertemplate": "variable=표준화지수<br>Date=%{x}<br>value=%{y}<extra></extra>",
         "legendgroup": "표준화지수",
         "line": {
          "color": "#636efa",
          "dash": "solid"
         },
         "marker": {
          "symbol": "circle"
         },
         "mode": "lines",
         "name": "표준화지수",
         "orientation": "v",
         "showlegend": true,
         "type": "scatter",
         "x": [
          "2019-01-02T00:00:00",
          "2019-01-03T00:00:00",
          "2019-01-04T00:00:00",
          "2019-01-07T00:00:00",
          "2019-01-08T00:00:00",
          "2019-01-09T00:00:00",
          "2019-01-10T00:00:00",
          "2019-01-11T00:00:00",
          "2019-01-14T00:00:00",
          "2019-01-15T00:00:00",
          "2019-01-16T00:00:00",
          "2019-01-17T00:00:00",
          "2019-01-18T00:00:00",
          "2019-01-21T00:00:00",
          "2019-01-22T00:00:00",
          "2019-01-23T00:00:00",
          "2019-01-24T00:00:00",
          "2019-01-25T00:00:00",
          "2019-01-28T00:00:00",
          "2019-01-29T00:00:00",
          "2019-01-30T00:00:00",
          "2019-01-31T00:00:00",
          "2019-02-01T00:00:00",
          "2019-02-07T00:00:00",
          "2019-02-08T00:00:00",
          "2019-02-11T00:00:00",
          "2019-02-12T00:00:00",
          "2019-02-13T00:00:00",
          "2019-02-14T00:00:00",
          "2019-02-15T00:00:00",
          "2019-02-18T00:00:00",
          "2019-02-19T00:00:00",
          "2019-02-20T00:00:00",
          "2019-02-21T00:00:00",
          "2019-02-22T00:00:00",
          "2019-02-25T00:00:00",
          "2019-02-26T00:00:00",
          "2019-02-27T00:00:00",
          "2019-02-28T00:00:00",
          "2019-03-04T00:00:00",
          "2019-03-05T00:00:00",
          "2019-03-06T00:00:00",
          "2019-03-07T00:00:00",
          "2019-03-08T00:00:00",
          "2019-03-11T00:00:00",
          "2019-03-12T00:00:00",
          "2019-03-13T00:00:00",
          "2019-03-14T00:00:00",
          "2019-03-15T00:00:00",
          "2019-03-18T00:00:00",
          "2019-03-19T00:00:00",
          "2019-03-20T00:00:00",
          "2019-03-21T00:00:00",
          "2019-03-22T00:00:00",
          "2019-03-25T00:00:00",
          "2019-03-26T00:00:00",
          "2019-03-27T00:00:00",
          "2019-03-28T00:00:00",
          "2019-03-29T00:00:00",
          "2019-04-01T00:00:00",
          "2019-04-02T00:00:00",
          "2019-04-03T00:00:00",
          "2019-04-04T00:00:00",
          "2019-04-05T00:00:00",
          "2019-04-08T00:00:00",
          "2019-04-09T00:00:00",
          "2019-04-10T00:00:00",
          "2019-04-11T00:00:00",
          "2019-04-12T00:00:00",
          "2019-04-15T00:00:00",
          "2019-04-16T00:00:00",
          "2019-04-17T00:00:00",
          "2019-04-18T00:00:00",
          "2019-04-19T00:00:00",
          "2019-04-22T00:00:00",
          "2019-04-23T00:00:00",
          "2019-04-24T00:00:00",
          "2019-04-25T00:00:00",
          "2019-04-26T00:00:00",
          "2019-04-29T00:00:00",
          "2019-04-30T00:00:00",
          "2019-05-02T00:00:00",
          "2019-05-03T00:00:00",
          "2019-05-07T00:00:00",
          "2019-05-08T00:00:00",
          "2019-05-09T00:00:00",
          "2019-05-10T00:00:00",
          "2019-05-13T00:00:00",
          "2019-05-14T00:00:00",
          "2019-05-15T00:00:00",
          "2019-05-16T00:00:00",
          "2019-05-17T00:00:00",
          "2019-05-20T00:00:00",
          "2019-05-21T00:00:00",
          "2019-05-22T00:00:00",
          "2019-05-23T00:00:00",
          "2019-05-24T00:00:00",
          "2019-05-27T00:00:00",
          "2019-05-28T00:00:00",
          "2019-05-29T00:00:00",
          "2019-05-30T00:00:00",
          "2019-05-31T00:00:00",
          "2019-06-03T00:00:00",
          "2019-06-04T00:00:00",
          "2019-06-05T00:00:00",
          "2019-06-07T00:00:00",
          "2019-06-10T00:00:00",
          "2019-06-11T00:00:00",
          "2019-06-12T00:00:00",
          "2019-06-13T00:00:00",
          "2019-06-14T00:00:00",
          "2019-06-17T00:00:00",
          "2019-06-18T00:00:00",
          "2019-06-19T00:00:00",
          "2019-06-20T00:00:00",
          "2019-06-21T00:00:00",
          "2019-06-24T00:00:00",
          "2019-06-25T00:00:00",
          "2019-06-26T00:00:00",
          "2019-06-27T00:00:00",
          "2019-06-28T00:00:00",
          "2019-07-01T00:00:00",
          "2019-07-02T00:00:00",
          "2019-07-03T00:00:00",
          "2019-07-04T00:00:00",
          "2019-07-05T00:00:00",
          "2019-07-08T00:00:00",
          "2019-07-09T00:00:00",
          "2019-07-10T00:00:00",
          "2019-07-11T00:00:00",
          "2019-07-12T00:00:00",
          "2019-07-15T00:00:00",
          "2019-07-16T00:00:00",
          "2019-07-17T00:00:00",
          "2019-07-18T00:00:00",
          "2019-07-19T00:00:00",
          "2019-07-22T00:00:00",
          "2019-07-23T00:00:00",
          "2019-07-24T00:00:00",
          "2019-07-25T00:00:00",
          "2019-07-26T00:00:00",
          "2019-07-29T00:00:00",
          "2019-07-30T00:00:00",
          "2019-07-31T00:00:00",
          "2019-08-01T00:00:00",
          "2019-08-02T00:00:00",
          "2019-08-05T00:00:00",
          "2019-08-06T00:00:00",
          "2019-08-07T00:00:00",
          "2019-08-08T00:00:00",
          "2019-08-09T00:00:00",
          "2019-08-12T00:00:00",
          "2019-08-13T00:00:00",
          "2019-08-14T00:00:00",
          "2019-08-16T00:00:00",
          "2019-08-19T00:00:00",
          "2019-08-20T00:00:00",
          "2019-08-21T00:00:00",
          "2019-08-22T00:00:00",
          "2019-08-23T00:00:00",
          "2019-08-26T00:00:00",
          "2019-08-27T00:00:00",
          "2019-08-28T00:00:00",
          "2019-08-29T00:00:00",
          "2019-08-30T00:00:00",
          "2019-09-02T00:00:00",
          "2019-09-03T00:00:00",
          "2019-09-04T00:00:00",
          "2019-09-05T00:00:00",
          "2019-09-06T00:00:00",
          "2019-09-09T00:00:00",
          "2019-09-10T00:00:00",
          "2019-09-11T00:00:00",
          "2019-09-16T00:00:00",
          "2019-09-17T00:00:00",
          "2019-09-18T00:00:00",
          "2019-09-19T00:00:00",
          "2019-09-20T00:00:00",
          "2019-09-23T00:00:00",
          "2019-09-24T00:00:00",
          "2019-09-25T00:00:00",
          "2019-09-26T00:00:00",
          "2019-09-27T00:00:00",
          "2019-09-30T00:00:00",
          "2019-10-01T00:00:00",
          "2019-10-02T00:00:00",
          "2019-10-04T00:00:00",
          "2019-10-07T00:00:00",
          "2019-10-08T00:00:00",
          "2019-10-10T00:00:00",
          "2019-10-11T00:00:00",
          "2019-10-14T00:00:00",
          "2019-10-15T00:00:00",
          "2019-10-16T00:00:00",
          "2019-10-17T00:00:00",
          "2019-10-18T00:00:00",
          "2019-10-21T00:00:00",
          "2019-10-22T00:00:00",
          "2019-10-23T00:00:00",
          "2019-10-24T00:00:00",
          "2019-10-25T00:00:00",
          "2019-10-28T00:00:00",
          "2019-10-29T00:00:00",
          "2019-10-30T00:00:00",
          "2019-10-31T00:00:00",
          "2019-11-01T00:00:00",
          "2019-11-04T00:00:00",
          "2019-11-05T00:00:00",
          "2019-11-06T00:00:00",
          "2019-11-07T00:00:00",
          "2019-11-08T00:00:00",
          "2019-11-11T00:00:00",
          "2019-11-12T00:00:00",
          "2019-11-13T00:00:00",
          "2019-11-14T00:00:00",
          "2019-11-15T00:00:00",
          "2019-11-18T00:00:00",
          "2019-11-19T00:00:00",
          "2019-11-20T00:00:00",
          "2019-11-21T00:00:00",
          "2019-11-22T00:00:00",
          "2019-11-25T00:00:00",
          "2019-11-26T00:00:00",
          "2019-11-27T00:00:00",
          "2019-11-28T00:00:00",
          "2019-11-29T00:00:00",
          "2019-12-02T00:00:00",
          "2019-12-03T00:00:00",
          "2019-12-04T00:00:00",
          "2019-12-05T00:00:00",
          "2019-12-06T00:00:00",
          "2019-12-09T00:00:00",
          "2019-12-10T00:00:00",
          "2019-12-11T00:00:00",
          "2019-12-12T00:00:00",
          "2019-12-13T00:00:00",
          "2019-12-16T00:00:00",
          "2019-12-17T00:00:00",
          "2019-12-18T00:00:00",
          "2019-12-19T00:00:00",
          "2019-12-20T00:00:00",
          "2019-12-23T00:00:00",
          "2019-12-24T00:00:00",
          "2019-12-26T00:00:00",
          "2019-12-27T00:00:00",
          "2019-12-30T00:00:00"
         ],
         "xaxis": "x",
         "y": [
          0.5518424731859315,
          0.4862718874136549,
          0.5013104513450939,
          0.6453265233995742,
          0.6439132959889693,
          0.6955929232493343,
          0.6626533370878294,
          0.6406679561398496,
          0.570008388159791,
          0.6141385916802418,
          0.6101321626726905,
          0.6290451824197509,
          0.6508109538850428,
          0.6591308349124176,
          0.65940452219809,
          0.6560928325953483,
          0.6574579498297979,
          0.8939230329584866,
          0.8416816902951814,
          0.7441288254248768,
          0.7209520510714045,
          0.7302883781334932,
          0.8207627344530808,
          0.8483856123427804,
          0.9609618412037069,
          0.9550470679697378,
          0.9572654911952823,
          0.9980350760620178,
          0.9862464197825629,
          0.9451176987405789,
          0.9912661524922965,
          1,
          0.9742363244980128,
          0.8819629389071757,
          0.9217776714927064,
          0.8628985899772239,
          0.8399691976111479,
          0.8175135334239974,
          0.6518547152823992,
          0.6930083700777034,
          0.6943638473349507,
          0.7199217808655236,
          0.6446461488033695,
          0.5975573925463813,
          0.572900270992271,
          0.5811563180879133,
          0.5484568125038307,
          0.5977300913557309,
          0.5591800380009544,
          0.5761586580882767,
          0.5537078443157952,
          0.5251342740610352,
          0.4914729585187736,
          0.5206601101736461,
          0.44575704359087265,
          0.45063152012447416,
          0.4411615362909105,
          0.40629637644378436,
          0.44528980594666967,
          0.4643268163931915,
          0.45201366126301323,
          0.49289088664151004,
          0.4731881732530998,
          0.5128913924412708,
          0.47062490997797557,
          0.4329920722410274,
          0.4427927794106652,
          0.4926199414088668,
          0.46532734695624267,
          0.45633393520412735,
          0.45522642109273637,
          0.4809819368545183,
          0.4245747177792576,
          0.44302507100276856,
          0.45231695319285725,
          0.4542416218994192,
          0.4388859446698845,
          0.4069244179287268,
          0.3857255543368936,
          0.3319648709122065,
          0.3499148688069531,
          0.3874904478704564,
          0.38581776812763646,
          0.3478876058075473,
          0.29490304808928425,
          0.1959668660046021,
          0.2071162804593456,
          0.16169391841476743,
          0.16976281349197775,
          0.23533537111966485,
          0.18967101180315682,
          0.2074006467522964,
          0.16805530170917793,
          0.2513384636459497,
          0.36713816396301624,
          0.5028928639042429,
          0.45423416373663095,
          0.6090751284794447,
          0.5267209052936845,
          0.48424781419580043,
          0.517823635949096,
          0.4915243353720946,
          0.5185585685934782,
          0.4982862239703403,
          0.5045933763840047,
          0.6169670771620264,
          0.5817109329653105,
          0.6558829736617668,
          0.5581078052388615,
          0.5357034162907128,
          0.5682225487173405,
          0.5783686244208499,
          0.7872833646862567,
          0.8802069054727077,
          0.9141905559608032,
          0.9013938358430025,
          0.8595625416646628,
          0.8162862949436267,
          0.6487254661350494,
          0.6306556773984928,
          0.674479176721968,
          0.7224610475567204,
          0.7702365889163465,
          0.7459503471687947,
          0.7499300408082208,
          0.8114054372666342,
          0.7168781934039012,
          0.6465551215492455,
          0.7727350748258335,
          0.7290059968616731,
          0.7304482316548295,
          0.6658724261010418,
          0.6906021900192041,
          0.6382651292256827,
          0.5764260862429791,
          0.5961026164588792,
          0.6288476102095979,
          0.63860810184757,
          0.5820760536202987,
          0.55923427674615,
          0.482920940542912,
          0.24007603447125447,
          0.27053054195372184,
          0.21724049844469429,
          0.18930686259164986,
          0.19330786901613628,
          0.057781404779805534,
          0,
          0.0058784246243615,
          0.21394187411077237,
          0.33801831382544023,
          0.3968747244512625,
          0.4069758308348428,
          0.5331992908822816,
          0.5855797855991729,
          0.4963195547988115,
          0.5437526388087219,
          0.48337414557561553,
          0.44358072837884155,
          0.39847399826006713,
          0.4329044730871412,
          0.4443165573364083,
          0.47667944365486203,
          0.47868646293932926,
          0.49349680262264783,
          0.4609514485900421,
          0.460964329350118,
          0.4267069791784257,
          0.44106334985704887,
          0.40953809903838323,
          0.35280873177094785,
          0.32455705896043563,
          0.43590944326035075,
          0.46116730524670047,
          0.4612927326987699,
          0.502995359099752,
          0.4912026435474073,
          0.4372429975437804,
          0.40910146118568,
          0.40387121902363576,
          0.29703376894387246,
          0.3075470952946495,
          0.2711920486010748,
          0.20537955402378438,
          0.3963963470391274,
          0.2858016501126648,
          0.2910962440232381,
          0.2864982718482527,
          0.2859637049989421,
          0.37560764343992226,
          0.46105660940357707,
          0.5070642092217916,
          0.4966097016347706,
          0.4990494474547753,
          0.5242361509683979,
          0.5059370512059536,
          0.5087724359834702,
          0.6010792216468412,
          0.5337746673072066,
          0.49733217236337524,
          0.36804568549460726,
          0.38720161487477167,
          0.37792006506737463,
          0.3606982892837962,
          0.649194817248592,
          0.798681008095433,
          0.7992576339119415,
          0.7160746841327512,
          0.721564635519508,
          0.5484244216759104,
          0.4438796705974135,
          0.41803803388288774,
          0.39930096503349954,
          0.4172548617391967,
          0.4905648175286932,
          0.48290648434907446,
          0.5039625344976302,
          0.4860251117377592,
          0.49635376369012807,
          0.4101892721310394,
          0.34162785258862494,
          0.3241482256583752,
          0.38634366250156127,
          0.28801509419310634,
          0.263444139423453,
          0.26274280356448276,
          0.1824026813056987,
          0.11362675009534184,
          0.08651410848341534,
          0.04667623041724944,
          0.08757417751733465,
          0.11686235451151994,
          0.10350164596406675,
          0.09813968767819325,
          0.09494746377017016,
          0.13473335367474348,
          0.12745827763948991,
          0.10963157654404565,
          0.11088475590411129,
          0.05917511985810986,
          0.059863260973954,
          0.06631694898386176,
          0.022281659593893277,
          0.04149014329263068,
          0.09858784741609528,
          0.09880911243796975
         ],
         "yaxis": "y"
        },
        {
         "hovertemplate": "variable=표준화지수변동률<br>Date=%{x}<br>value=%{y}<extra></extra>",
         "legendgroup": "표준화지수변동률",
         "line": {
          "color": "#EF553B",
          "dash": "solid"
         },
         "marker": {
          "symbol": "circle"
         },
         "mode": "lines",
         "name": "표준화지수변동률",
         "orientation": "v",
         "showlegend": true,
         "type": "scatter",
         "x": [
          "2019-01-02T00:00:00",
          "2019-01-03T00:00:00",
          "2019-01-04T00:00:00",
          "2019-01-07T00:00:00",
          "2019-01-08T00:00:00",
          "2019-01-09T00:00:00",
          "2019-01-10T00:00:00",
          "2019-01-11T00:00:00",
          "2019-01-14T00:00:00",
          "2019-01-15T00:00:00",
          "2019-01-16T00:00:00",
          "2019-01-17T00:00:00",
          "2019-01-18T00:00:00",
          "2019-01-21T00:00:00",
          "2019-01-22T00:00:00",
          "2019-01-23T00:00:00",
          "2019-01-24T00:00:00",
          "2019-01-25T00:00:00",
          "2019-01-28T00:00:00",
          "2019-01-29T00:00:00",
          "2019-01-30T00:00:00",
          "2019-01-31T00:00:00",
          "2019-02-01T00:00:00",
          "2019-02-07T00:00:00",
          "2019-02-08T00:00:00",
          "2019-02-11T00:00:00",
          "2019-02-12T00:00:00",
          "2019-02-13T00:00:00",
          "2019-02-14T00:00:00",
          "2019-02-15T00:00:00",
          "2019-02-18T00:00:00",
          "2019-02-19T00:00:00",
          "2019-02-20T00:00:00",
          "2019-02-21T00:00:00",
          "2019-02-22T00:00:00",
          "2019-02-25T00:00:00",
          "2019-02-26T00:00:00",
          "2019-02-27T00:00:00",
          "2019-02-28T00:00:00",
          "2019-03-04T00:00:00",
          "2019-03-05T00:00:00",
          "2019-03-06T00:00:00",
          "2019-03-07T00:00:00",
          "2019-03-08T00:00:00",
          "2019-03-11T00:00:00",
          "2019-03-12T00:00:00",
          "2019-03-13T00:00:00",
          "2019-03-14T00:00:00",
          "2019-03-15T00:00:00",
          "2019-03-18T00:00:00",
          "2019-03-19T00:00:00",
          "2019-03-20T00:00:00",
          "2019-03-21T00:00:00",
          "2019-03-22T00:00:00",
          "2019-03-25T00:00:00",
          "2019-03-26T00:00:00",
          "2019-03-27T00:00:00",
          "2019-03-28T00:00:00",
          "2019-03-29T00:00:00",
          "2019-04-01T00:00:00",
          "2019-04-02T00:00:00",
          "2019-04-03T00:00:00",
          "2019-04-04T00:00:00",
          "2019-04-05T00:00:00",
          "2019-04-08T00:00:00",
          "2019-04-09T00:00:00",
          "2019-04-10T00:00:00",
          "2019-04-11T00:00:00",
          "2019-04-12T00:00:00",
          "2019-04-15T00:00:00",
          "2019-04-16T00:00:00",
          "2019-04-17T00:00:00",
          "2019-04-18T00:00:00",
          "2019-04-19T00:00:00",
          "2019-04-22T00:00:00",
          "2019-04-23T00:00:00",
          "2019-04-24T00:00:00",
          "2019-04-25T00:00:00",
          "2019-04-26T00:00:00",
          "2019-04-29T00:00:00",
          "2019-04-30T00:00:00",
          "2019-05-02T00:00:00",
          "2019-05-03T00:00:00",
          "2019-05-07T00:00:00",
          "2019-05-08T00:00:00",
          "2019-05-09T00:00:00",
          "2019-05-10T00:00:00",
          "2019-05-13T00:00:00",
          "2019-05-14T00:00:00",
          "2019-05-15T00:00:00",
          "2019-05-16T00:00:00",
          "2019-05-17T00:00:00",
          "2019-05-20T00:00:00",
          "2019-05-21T00:00:00",
          "2019-05-22T00:00:00",
          "2019-05-23T00:00:00",
          "2019-05-24T00:00:00",
          "2019-05-27T00:00:00",
          "2019-05-28T00:00:00",
          "2019-05-29T00:00:00",
          "2019-05-30T00:00:00",
          "2019-05-31T00:00:00",
          "2019-06-03T00:00:00",
          "2019-06-04T00:00:00",
          "2019-06-05T00:00:00",
          "2019-06-07T00:00:00",
          "2019-06-10T00:00:00",
          "2019-06-11T00:00:00",
          "2019-06-12T00:00:00",
          "2019-06-13T00:00:00",
          "2019-06-14T00:00:00",
          "2019-06-17T00:00:00",
          "2019-06-18T00:00:00",
          "2019-06-19T00:00:00",
          "2019-06-20T00:00:00",
          "2019-06-21T00:00:00",
          "2019-06-24T00:00:00",
          "2019-06-25T00:00:00",
          "2019-06-26T00:00:00",
          "2019-06-27T00:00:00",
          "2019-06-28T00:00:00",
          "2019-07-01T00:00:00",
          "2019-07-02T00:00:00",
          "2019-07-03T00:00:00",
          "2019-07-04T00:00:00",
          "2019-07-05T00:00:00",
          "2019-07-08T00:00:00",
          "2019-07-09T00:00:00",
          "2019-07-10T00:00:00",
          "2019-07-11T00:00:00",
          "2019-07-12T00:00:00",
          "2019-07-15T00:00:00",
          "2019-07-16T00:00:00",
          "2019-07-17T00:00:00",
          "2019-07-18T00:00:00",
          "2019-07-19T00:00:00",
          "2019-07-22T00:00:00",
          "2019-07-23T00:00:00",
          "2019-07-24T00:00:00",
          "2019-07-25T00:00:00",
          "2019-07-26T00:00:00",
          "2019-07-29T00:00:00",
          "2019-07-30T00:00:00",
          "2019-07-31T00:00:00",
          "2019-08-01T00:00:00",
          "2019-08-02T00:00:00",
          "2019-08-05T00:00:00",
          "2019-08-06T00:00:00",
          "2019-08-07T00:00:00",
          "2019-08-08T00:00:00",
          "2019-08-09T00:00:00",
          "2019-08-12T00:00:00",
          "2019-08-13T00:00:00",
          "2019-08-14T00:00:00",
          "2019-08-16T00:00:00",
          "2019-08-19T00:00:00",
          "2019-08-20T00:00:00",
          "2019-08-21T00:00:00",
          "2019-08-22T00:00:00",
          "2019-08-23T00:00:00",
          "2019-08-26T00:00:00",
          "2019-08-27T00:00:00",
          "2019-08-28T00:00:00",
          "2019-08-29T00:00:00",
          "2019-08-30T00:00:00",
          "2019-09-02T00:00:00",
          "2019-09-03T00:00:00",
          "2019-09-04T00:00:00",
          "2019-09-05T00:00:00",
          "2019-09-06T00:00:00",
          "2019-09-09T00:00:00",
          "2019-09-10T00:00:00",
          "2019-09-11T00:00:00",
          "2019-09-16T00:00:00",
          "2019-09-17T00:00:00",
          "2019-09-18T00:00:00",
          "2019-09-19T00:00:00",
          "2019-09-20T00:00:00",
          "2019-09-23T00:00:00",
          "2019-09-24T00:00:00",
          "2019-09-25T00:00:00",
          "2019-09-26T00:00:00",
          "2019-09-27T00:00:00",
          "2019-09-30T00:00:00",
          "2019-10-01T00:00:00",
          "2019-10-02T00:00:00",
          "2019-10-04T00:00:00",
          "2019-10-07T00:00:00",
          "2019-10-08T00:00:00",
          "2019-10-10T00:00:00",
          "2019-10-11T00:00:00",
          "2019-10-14T00:00:00",
          "2019-10-15T00:00:00",
          "2019-10-16T00:00:00",
          "2019-10-17T00:00:00",
          "2019-10-18T00:00:00",
          "2019-10-21T00:00:00",
          "2019-10-22T00:00:00",
          "2019-10-23T00:00:00",
          "2019-10-24T00:00:00",
          "2019-10-25T00:00:00",
          "2019-10-28T00:00:00",
          "2019-10-29T00:00:00",
          "2019-10-30T00:00:00",
          "2019-10-31T00:00:00",
          "2019-11-01T00:00:00",
          "2019-11-04T00:00:00",
          "2019-11-05T00:00:00",
          "2019-11-06T00:00:00",
          "2019-11-07T00:00:00",
          "2019-11-08T00:00:00",
          "2019-11-11T00:00:00",
          "2019-11-12T00:00:00",
          "2019-11-13T00:00:00",
          "2019-11-14T00:00:00",
          "2019-11-15T00:00:00",
          "2019-11-18T00:00:00",
          "2019-11-19T00:00:00",
          "2019-11-20T00:00:00",
          "2019-11-21T00:00:00",
          "2019-11-22T00:00:00",
          "2019-11-25T00:00:00",
          "2019-11-26T00:00:00",
          "2019-11-27T00:00:00",
          "2019-11-28T00:00:00",
          "2019-11-29T00:00:00",
          "2019-12-02T00:00:00",
          "2019-12-03T00:00:00",
          "2019-12-04T00:00:00",
          "2019-12-05T00:00:00",
          "2019-12-06T00:00:00",
          "2019-12-09T00:00:00",
          "2019-12-10T00:00:00",
          "2019-12-11T00:00:00",
          "2019-12-12T00:00:00",
          "2019-12-13T00:00:00",
          "2019-12-16T00:00:00",
          "2019-12-17T00:00:00",
          "2019-12-18T00:00:00",
          "2019-12-19T00:00:00",
          "2019-12-20T00:00:00",
          "2019-12-23T00:00:00",
          "2019-12-24T00:00:00",
          "2019-12-26T00:00:00",
          "2019-12-27T00:00:00",
          "2019-12-30T00:00:00"
         ],
         "xaxis": "x",
         "y": [
          0.4489310634508717,
          0.3298769121877882,
          0.47670732437484076,
          0.7138802528894987,
          0.44642572150348475,
          0.5405804205806171,
          0.3912687061690963,
          0.4101256840305942,
          0.32351955451955183,
          0.5286818067405468,
          0.4417721348941125,
          0.4827605005830134,
          0.4876763753457213,
          0.46365997710991597,
          0.44941456464443824,
          0.4430809723665781,
          0.45134455169705767,
          0.8668508230505056,
          0.36179165242181743,
          0.28416511133739464,
          0.4088443860819175,
          0.4651720106540299,
          0.6059517051247383,
          0.4958219796260321,
          0.6387650162052487,
          0.4392198860883981,
          0.4525784321606658,
          0.5159265990213859,
          0.4297423019590935,
          0.3818009879524949,
          0.5249819043112752,
          0.4631697760788897,
          0.40701383628767485,
          0.297901010029741,
          0.5155320418589157,
          0.351365829861667,
          0.4104002957455607,
          0.41098799871191755,
          0.16749751170835142,
          0.5217673269628557,
          0.451305423689604,
          0.4936851996105519,
          0.31795237167458623,
          0.3654386841968961,
          0.4046854071805584,
          0.46384003297229615,
          0.3900067056018317,
          0.5384732271076768,
          0.3797584684999057,
          0.4797001121824968,
          0.4084228100664079,
          0.39707609051295695,
          0.3873880999608337,
          0.5027660938459025,
          0.3118259944654914,
          0.4580312825014703,
          0.43127433580151836,
          0.38376119270515446,
          0.522500780957811,
          0.48447590669664564,
          0.42605650308229703,
          0.525118422515603,
          0.4126034017220108,
          0.5225164240242183,
          0.37140797809510256,
          0.37913566225950346,
          0.4672904760050476,
          0.542027416987665,
          0.39860567356359067,
          0.4322281260073001,
          0.4468692342530356,
          0.4968935070180792,
          0.344601530458684,
          0.4835714789276253,
          0.4662908088679838,
          0.45251799021326133,
          0.42032793427381104,
          0.3891524190537657,
          0.40894147807874,
          0.3469354986470757,
          0.48348838927504356,
          0.5209170191934864,
          0.445759144299568,
          0.376971191917945,
          0.34736892108092365,
          0.2565024344914356,
          0.4712278917030074,
          0.3583822221832309,
          0.46522658007732415,
          0.5810511250976673,
          0.3586238086234701,
          0.48445088707886685,
          0.37050300643635836,
          0.6168179756839047,
          0.6769118696625658,
          0.7077878297598579,
          0.35944982433806055,
          0.7373550006707348,
          0.3015855863756026,
          0.3713096257092986,
          0.5109787390572375,
          0.40075630100181964,
          0.4987944118596964,
          0.4118035343083627,
          0.46054366316658996,
          0.6554893682228046,
          0.38597860640003734,
          0.5825697033661174,
          0.27605821979414114,
          0.40831806388704994,
          0.5082224910356443,
          0.467275175903953,
          0.8256641680423038,
          0.6079604729891808,
          0.5058017776261111,
          0.42768827270293003,
          0.3792794805013307,
          0.3761511030736915,
          0.16418162535273678,
          0.41692478000661226,
          0.5269095399467519,
          0.5333704580141095,
          0.5320076178235981,
          0.4071940418348245,
          0.4558112744278445,
          0.5551074202937321,
          0.2881032904592544,
          0.32647734658425126,
          0.6725510072826311,
          0.3738265935729326,
          0.45143489430747724,
          0.33686247355423427,
          0.4925451096917638,
          0.3571982620364214,
          0.3391080859408276,
          0.4844312048658984,
          0.5077117671310033,
          0.46630661337501894,
          0.34854175164212786,
          0.40778000701409123,
          0.3106362046056548,
          0,
          0.5090784786111736,
          0.34457815004033654,
          0.393405461788848,
          0.4569475748083586,
          0.1776969047453117,
          0.32864116807619415,
          0.4613822790628556,
          0.8888540192867094,
          0.6957969894642577,
          0.5620535081464418,
          0.46803743509564977,
          0.6870359997218066,
          0.544497465084222,
          0.28826705491455673,
          0.5363089764435276,
          0.33907404068346103,
          0.37537642890965656,
          0.36467197544873986,
          0.5140286813680416,
          0.4703095271909603,
          0.5093728914138239,
          0.4526474162621502,
          0.47634052176717673,
          0.3889338245709507,
          0.44895501387321574,
          0.3852333313571552,
          0.4758696845332095,
          0.390002601093674,
          0.341991796331807,
          0.3948502444469426,
          0.6637432142037303,
          0.4962091437108845,
          0.4491642693028743,
          0.5264657111376765,
          0.42724535356118815,
          0.3493966639971764,
          0.3962740065961183,
          0.43907049372088114,
          0.24722708602945734,
          0.4693671747710996,
          0.378468280553645,
          0.32008039118528137,
          0.8299083371767546,
          0.2397128026917703,
          0.459254973754337,
          0.43997866528317914,
          0.4478889151493792,
          0.6237195967647388,
          0.6114908233450038,
          0.5344749858999318,
          0.4297266721943326,
          0.4534250504039533,
          0.4952950203950618,
          0.4154669989444954,
          0.45414105643562336,
          0.6184180729382098,
          0.3282659449024538,
          0.38245293692449267,
          0.21083182864536648,
          0.4854485420372631,
          0.43132899470288905,
          0.41618855329840365,
          0.9999999999999998,
          0.7136785194503598,
          0.4499151655510348,
          0.3069862633556284,
          0.45849263424249753,
          0.14779186026137348,
          0.25894488923257486,
          0.4006628900602345,
          0.41369070468920294,
          0.4828688914504859,
          0.586840125162639,
          0.4348020710441441,
          0.48785611705841625,
          0.41595416572474503,
          0.46800934579292297,
          0.290206283312603,
          0.31971006391040946,
          0.4153682786074047,
          0.5689270340440764,
          0.26241181955926274,
          0.40104969558088976,
          0.44755498157089635,
          0.2912658442486935,
          0.3108577688538469,
          0.3934076552522318,
          0.3666971985679125,
          0.5343542632531744,
          0.5093692505940957,
          0.4215957630288337,
          0.4379178772907026,
          0.44236409275779015,
          0.5308543663678125,
          0.4341238019928599,
          0.41257091596012174,
          0.45150041898571835,
          0.3429511760765843,
          0.4503630502480131,
          0.4623581210203473,
          0.35748953379791504,
          0.48934513181104555,
          0.5683749515157378,
          0.44938618504129346
         ],
         "yaxis": "y"
        }
       ],
       "layout": {
        "legend": {
         "title": {
          "text": "variable"
         },
         "tracegroupgap": 0
        },
        "margin": {
         "t": 60
        },
        "template": {
         "data": {
          "bar": [
           {
            "error_x": {
             "color": "#2a3f5f"
            },
            "error_y": {
             "color": "#2a3f5f"
            },
            "marker": {
             "line": {
              "color": "#E5ECF6",
              "width": 0.5
             },
             "pattern": {
              "fillmode": "overlay",
              "size": 10,
              "solidity": 0.2
             }
            },
            "type": "bar"
           }
          ],
          "barpolar": [
           {
            "marker": {
             "line": {
              "color": "#E5ECF6",
              "width": 0.5
             },
             "pattern": {
              "fillmode": "overlay",
              "size": 10,
              "solidity": 0.2
             }
            },
            "type": "barpolar"
           }
          ],
          "carpet": [
           {
            "aaxis": {
             "endlinecolor": "#2a3f5f",
             "gridcolor": "white",
             "linecolor": "white",
             "minorgridcolor": "white",
             "startlinecolor": "#2a3f5f"
            },
            "baxis": {
             "endlinecolor": "#2a3f5f",
             "gridcolor": "white",
             "linecolor": "white",
             "minorgridcolor": "white",
             "startlinecolor": "#2a3f5f"
            },
            "type": "carpet"
           }
          ],
          "choropleth": [
           {
            "colorbar": {
             "outlinewidth": 0,
             "ticks": ""
            },
            "type": "choropleth"
           }
          ],
          "contour": [
           {
            "colorbar": {
             "outlinewidth": 0,
             "ticks": ""
            },
            "colorscale": [
             [
              0,
              "#0d0887"
             ],
             [
              0.1111111111111111,
              "#46039f"
             ],
             [
              0.2222222222222222,
              "#7201a8"
             ],
             [
              0.3333333333333333,
              "#9c179e"
             ],
             [
              0.4444444444444444,
              "#bd3786"
             ],
             [
              0.5555555555555556,
              "#d8576b"
             ],
             [
              0.6666666666666666,
              "#ed7953"
             ],
             [
              0.7777777777777778,
              "#fb9f3a"
             ],
             [
              0.8888888888888888,
              "#fdca26"
             ],
             [
              1,
              "#f0f921"
             ]
            ],
            "type": "contour"
           }
          ],
          "contourcarpet": [
           {
            "colorbar": {
             "outlinewidth": 0,
             "ticks": ""
            },
            "type": "contourcarpet"
           }
          ],
          "heatmap": [
           {
            "colorbar": {
             "outlinewidth": 0,
             "ticks": ""
            },
            "colorscale": [
             [
              0,
              "#0d0887"
             ],
             [
              0.1111111111111111,
              "#46039f"
             ],
             [
              0.2222222222222222,
              "#7201a8"
             ],
             [
              0.3333333333333333,
              "#9c179e"
             ],
             [
              0.4444444444444444,
              "#bd3786"
             ],
             [
              0.5555555555555556,
              "#d8576b"
             ],
             [
              0.6666666666666666,
              "#ed7953"
             ],
             [
              0.7777777777777778,
              "#fb9f3a"
             ],
             [
              0.8888888888888888,
              "#fdca26"
             ],
             [
              1,
              "#f0f921"
             ]
            ],
            "type": "heatmap"
           }
          ],
          "heatmapgl": [
           {
            "colorbar": {
             "outlinewidth": 0,
             "ticks": ""
            },
            "colorscale": [
             [
              0,
              "#0d0887"
             ],
             [
              0.1111111111111111,
              "#46039f"
             ],
             [
              0.2222222222222222,
              "#7201a8"
             ],
             [
              0.3333333333333333,
              "#9c179e"
             ],
             [
              0.4444444444444444,
              "#bd3786"
             ],
             [
              0.5555555555555556,
              "#d8576b"
             ],
             [
              0.6666666666666666,
              "#ed7953"
             ],
             [
              0.7777777777777778,
              "#fb9f3a"
             ],
             [
              0.8888888888888888,
              "#fdca26"
             ],
             [
              1,
              "#f0f921"
             ]
            ],
            "type": "heatmapgl"
           }
          ],
          "histogram": [
           {
            "marker": {
             "pattern": {
              "fillmode": "overlay",
              "size": 10,
              "solidity": 0.2
             }
            },
            "type": "histogram"
           }
          ],
          "histogram2d": [
           {
            "colorbar": {
             "outlinewidth": 0,
             "ticks": ""
            },
            "colorscale": [
             [
              0,
              "#0d0887"
             ],
             [
              0.1111111111111111,
              "#46039f"
             ],
             [
              0.2222222222222222,
              "#7201a8"
             ],
             [
              0.3333333333333333,
              "#9c179e"
             ],
             [
              0.4444444444444444,
              "#bd3786"
             ],
             [
              0.5555555555555556,
              "#d8576b"
             ],
             [
              0.6666666666666666,
              "#ed7953"
             ],
             [
              0.7777777777777778,
              "#fb9f3a"
             ],
             [
              0.8888888888888888,
              "#fdca26"
             ],
             [
              1,
              "#f0f921"
             ]
            ],
            "type": "histogram2d"
           }
          ],
          "histogram2dcontour": [
           {
            "colorbar": {
             "outlinewidth": 0,
             "ticks": ""
            },
            "colorscale": [
             [
              0,
              "#0d0887"
             ],
             [
              0.1111111111111111,
              "#46039f"
             ],
             [
              0.2222222222222222,
              "#7201a8"
             ],
             [
              0.3333333333333333,
              "#9c179e"
             ],
             [
              0.4444444444444444,
              "#bd3786"
             ],
             [
              0.5555555555555556,
              "#d8576b"
             ],
             [
              0.6666666666666666,
              "#ed7953"
             ],
             [
              0.7777777777777778,
              "#fb9f3a"
             ],
             [
              0.8888888888888888,
              "#fdca26"
             ],
             [
              1,
              "#f0f921"
             ]
            ],
            "type": "histogram2dcontour"
           }
          ],
          "mesh3d": [
           {
            "colorbar": {
             "outlinewidth": 0,
             "ticks": ""
            },
            "type": "mesh3d"
           }
          ],
          "parcoords": [
           {
            "line": {
             "colorbar": {
              "outlinewidth": 0,
              "ticks": ""
             }
            },
            "type": "parcoords"
           }
          ],
          "pie": [
           {
            "automargin": true,
            "type": "pie"
           }
          ],
          "scatter": [
           {
            "marker": {
             "colorbar": {
              "outlinewidth": 0,
              "ticks": ""
             }
            },
            "type": "scatter"
           }
          ],
          "scatter3d": [
           {
            "line": {
             "colorbar": {
              "outlinewidth": 0,
              "ticks": ""
             }
            },
            "marker": {
             "colorbar": {
              "outlinewidth": 0,
              "ticks": ""
             }
            },
            "type": "scatter3d"
           }
          ],
          "scattercarpet": [
           {
            "marker": {
             "colorbar": {
              "outlinewidth": 0,
              "ticks": ""
             }
            },
            "type": "scattercarpet"
           }
          ],
          "scattergeo": [
           {
            "marker": {
             "colorbar": {
              "outlinewidth": 0,
              "ticks": ""
             }
            },
            "type": "scattergeo"
           }
          ],
          "scattergl": [
           {
            "marker": {
             "colorbar": {
              "outlinewidth": 0,
              "ticks": ""
             }
            },
            "type": "scattergl"
           }
          ],
          "scattermapbox": [
           {
            "marker": {
             "colorbar": {
              "outlinewidth": 0,
              "ticks": ""
             }
            },
            "type": "scattermapbox"
           }
          ],
          "scatterpolar": [
           {
            "marker": {
             "colorbar": {
              "outlinewidth": 0,
              "ticks": ""
             }
            },
            "type": "scatterpolar"
           }
          ],
          "scatterpolargl": [
           {
            "marker": {
             "colorbar": {
              "outlinewidth": 0,
              "ticks": ""
             }
            },
            "type": "scatterpolargl"
           }
          ],
          "scatterternary": [
           {
            "marker": {
             "colorbar": {
              "outlinewidth": 0,
              "ticks": ""
             }
            },
            "type": "scatterternary"
           }
          ],
          "surface": [
           {
            "colorbar": {
             "outlinewidth": 0,
             "ticks": ""
            },
            "colorscale": [
             [
              0,
              "#0d0887"
             ],
             [
              0.1111111111111111,
              "#46039f"
             ],
             [
              0.2222222222222222,
              "#7201a8"
             ],
             [
              0.3333333333333333,
              "#9c179e"
             ],
             [
              0.4444444444444444,
              "#bd3786"
             ],
             [
              0.5555555555555556,
              "#d8576b"
             ],
             [
              0.6666666666666666,
              "#ed7953"
             ],
             [
              0.7777777777777778,
              "#fb9f3a"
             ],
             [
              0.8888888888888888,
              "#fdca26"
             ],
             [
              1,
              "#f0f921"
             ]
            ],
            "type": "surface"
           }
          ],
          "table": [
           {
            "cells": {
             "fill": {
              "color": "#EBF0F8"
             },
             "line": {
              "color": "white"
             }
            },
            "header": {
             "fill": {
              "color": "#C8D4E3"
             },
             "line": {
              "color": "white"
             }
            },
            "type": "table"
           }
          ]
         },
         "layout": {
          "annotationdefaults": {
           "arrowcolor": "#2a3f5f",
           "arrowhead": 0,
           "arrowwidth": 1
          },
          "autotypenumbers": "strict",
          "coloraxis": {
           "colorbar": {
            "outlinewidth": 0,
            "ticks": ""
           }
          },
          "colorscale": {
           "diverging": [
            [
             0,
             "#8e0152"
            ],
            [
             0.1,
             "#c51b7d"
            ],
            [
             0.2,
             "#de77ae"
            ],
            [
             0.3,
             "#f1b6da"
            ],
            [
             0.4,
             "#fde0ef"
            ],
            [
             0.5,
             "#f7f7f7"
            ],
            [
             0.6,
             "#e6f5d0"
            ],
            [
             0.7,
             "#b8e186"
            ],
            [
             0.8,
             "#7fbc41"
            ],
            [
             0.9,
             "#4d9221"
            ],
            [
             1,
             "#276419"
            ]
           ],
           "sequential": [
            [
             0,
             "#0d0887"
            ],
            [
             0.1111111111111111,
             "#46039f"
            ],
            [
             0.2222222222222222,
             "#7201a8"
            ],
            [
             0.3333333333333333,
             "#9c179e"
            ],
            [
             0.4444444444444444,
             "#bd3786"
            ],
            [
             0.5555555555555556,
             "#d8576b"
            ],
            [
             0.6666666666666666,
             "#ed7953"
            ],
            [
             0.7777777777777778,
             "#fb9f3a"
            ],
            [
             0.8888888888888888,
             "#fdca26"
            ],
            [
             1,
             "#f0f921"
            ]
           ],
           "sequentialminus": [
            [
             0,
             "#0d0887"
            ],
            [
             0.1111111111111111,
             "#46039f"
            ],
            [
             0.2222222222222222,
             "#7201a8"
            ],
            [
             0.3333333333333333,
             "#9c179e"
            ],
            [
             0.4444444444444444,
             "#bd3786"
            ],
            [
             0.5555555555555556,
             "#d8576b"
            ],
            [
             0.6666666666666666,
             "#ed7953"
            ],
            [
             0.7777777777777778,
             "#fb9f3a"
            ],
            [
             0.8888888888888888,
             "#fdca26"
            ],
            [
             1,
             "#f0f921"
            ]
           ]
          },
          "colorway": [
           "#636efa",
           "#EF553B",
           "#00cc96",
           "#ab63fa",
           "#FFA15A",
           "#19d3f3",
           "#FF6692",
           "#B6E880",
           "#FF97FF",
           "#FECB52"
          ],
          "font": {
           "color": "#2a3f5f"
          },
          "geo": {
           "bgcolor": "white",
           "lakecolor": "white",
           "landcolor": "#E5ECF6",
           "showlakes": true,
           "showland": true,
           "subunitcolor": "white"
          },
          "hoverlabel": {
           "align": "left"
          },
          "hovermode": "closest",
          "mapbox": {
           "style": "light"
          },
          "paper_bgcolor": "white",
          "plot_bgcolor": "#E5ECF6",
          "polar": {
           "angularaxis": {
            "gridcolor": "white",
            "linecolor": "white",
            "ticks": ""
           },
           "bgcolor": "#E5ECF6",
           "radialaxis": {
            "gridcolor": "white",
            "linecolor": "white",
            "ticks": ""
           }
          },
          "scene": {
           "xaxis": {
            "backgroundcolor": "#E5ECF6",
            "gridcolor": "white",
            "gridwidth": 2,
            "linecolor": "white",
            "showbackground": true,
            "ticks": "",
            "zerolinecolor": "white"
           },
           "yaxis": {
            "backgroundcolor": "#E5ECF6",
            "gridcolor": "white",
            "gridwidth": 2,
            "linecolor": "white",
            "showbackground": true,
            "ticks": "",
            "zerolinecolor": "white"
           },
           "zaxis": {
            "backgroundcolor": "#E5ECF6",
            "gridcolor": "white",
            "gridwidth": 2,
            "linecolor": "white",
            "showbackground": true,
            "ticks": "",
            "zerolinecolor": "white"
           }
          },
          "shapedefaults": {
           "line": {
            "color": "#2a3f5f"
           }
          },
          "ternary": {
           "aaxis": {
            "gridcolor": "white",
            "linecolor": "white",
            "ticks": ""
           },
           "baxis": {
            "gridcolor": "white",
            "linecolor": "white",
            "ticks": ""
           },
           "bgcolor": "#E5ECF6",
           "caxis": {
            "gridcolor": "white",
            "linecolor": "white",
            "ticks": ""
           }
          },
          "title": {
           "x": 0.05
          },
          "xaxis": {
           "automargin": true,
           "gridcolor": "white",
           "linecolor": "white",
           "ticks": "",
           "title": {
            "standoff": 15
           },
           "zerolinecolor": "white",
           "zerolinewidth": 2
          },
          "yaxis": {
           "automargin": true,
           "gridcolor": "white",
           "linecolor": "white",
           "ticks": "",
           "title": {
            "standoff": 15
           },
           "zerolinecolor": "white",
           "zerolinewidth": 2
          }
         }
        },
        "xaxis": {
         "anchor": "y",
         "domain": [
          0,
          1
         ],
         "rangeslider": {
          "visible": true
         },
         "title": {
          "text": "Date"
         }
        },
        "yaxis": {
         "anchor": "x",
         "domain": [
          0,
          1
         ],
         "title": {
          "text": "value"
         }
        }
       }
      },
      "text/html": [
       "<div>                            <div id=\"aa31db32-8919-4457-b0be-a184fe869ee3\" class=\"plotly-graph-div\" style=\"height:525px; width:100%;\"></div>            <script type=\"text/javascript\">                require([\"plotly\"], function(Plotly) {                    window.PLOTLYENV=window.PLOTLYENV || {};                                    if (document.getElementById(\"aa31db32-8919-4457-b0be-a184fe869ee3\")) {                    Plotly.newPlot(                        \"aa31db32-8919-4457-b0be-a184fe869ee3\",                        [{\"hovertemplate\":\"variable=\\ud45c\\uc900\\ud654\\uc9c0\\uc218<br>Date=%{x}<br>value=%{y}<extra></extra>\",\"legendgroup\":\"\\ud45c\\uc900\\ud654\\uc9c0\\uc218\",\"line\":{\"color\":\"#636efa\",\"dash\":\"solid\"},\"marker\":{\"symbol\":\"circle\"},\"mode\":\"lines\",\"name\":\"\\ud45c\\uc900\\ud654\\uc9c0\\uc218\",\"orientation\":\"v\",\"showlegend\":true,\"x\":[\"2019-01-02T00:00:00\",\"2019-01-03T00:00:00\",\"2019-01-04T00:00:00\",\"2019-01-07T00:00:00\",\"2019-01-08T00:00:00\",\"2019-01-09T00:00:00\",\"2019-01-10T00:00:00\",\"2019-01-11T00:00:00\",\"2019-01-14T00:00:00\",\"2019-01-15T00:00:00\",\"2019-01-16T00:00:00\",\"2019-01-17T00:00:00\",\"2019-01-18T00:00:00\",\"2019-01-21T00:00:00\",\"2019-01-22T00:00:00\",\"2019-01-23T00:00:00\",\"2019-01-24T00:00:00\",\"2019-01-25T00:00:00\",\"2019-01-28T00:00:00\",\"2019-01-29T00:00:00\",\"2019-01-30T00:00:00\",\"2019-01-31T00:00:00\",\"2019-02-01T00:00:00\",\"2019-02-07T00:00:00\",\"2019-02-08T00:00:00\",\"2019-02-11T00:00:00\",\"2019-02-12T00:00:00\",\"2019-02-13T00:00:00\",\"2019-02-14T00:00:00\",\"2019-02-15T00:00:00\",\"2019-02-18T00:00:00\",\"2019-02-19T00:00:00\",\"2019-02-20T00:00:00\",\"2019-02-21T00:00:00\",\"2019-02-22T00:00:00\",\"2019-02-25T00:00:00\",\"2019-02-26T00:00:00\",\"2019-02-27T00:00:00\",\"2019-02-28T00:00:00\",\"2019-03-04T00:00:00\",\"2019-03-05T00:00:00\",\"2019-03-06T00:00:00\",\"2019-03-07T00:00:00\",\"2019-03-08T00:00:00\",\"2019-03-11T00:00:00\",\"2019-03-12T00:00:00\",\"2019-03-13T00:00:00\",\"2019-03-14T00:00:00\",\"2019-03-15T00:00:00\",\"2019-03-18T00:00:00\",\"2019-03-19T00:00:00\",\"2019-03-20T00:00:00\",\"2019-03-21T00:00:00\",\"2019-03-22T00:00:00\",\"2019-03-25T00:00:00\",\"2019-03-26T00:00:00\",\"2019-03-27T00:00:00\",\"2019-03-28T00:00:00\",\"2019-03-29T00:00:00\",\"2019-04-01T00:00:00\",\"2019-04-02T00:00:00\",\"2019-04-03T00:00:00\",\"2019-04-04T00:00:00\",\"2019-04-05T00:00:00\",\"2019-04-08T00:00:00\",\"2019-04-09T00:00:00\",\"2019-04-10T00:00:00\",\"2019-04-11T00:00:00\",\"2019-04-12T00:00:00\",\"2019-04-15T00:00:00\",\"2019-04-16T00:00:00\",\"2019-04-17T00:00:00\",\"2019-04-18T00:00:00\",\"2019-04-19T00:00:00\",\"2019-04-22T00:00:00\",\"2019-04-23T00:00:00\",\"2019-04-24T00:00:00\",\"2019-04-25T00:00:00\",\"2019-04-26T00:00:00\",\"2019-04-29T00:00:00\",\"2019-04-30T00:00:00\",\"2019-05-02T00:00:00\",\"2019-05-03T00:00:00\",\"2019-05-07T00:00:00\",\"2019-05-08T00:00:00\",\"2019-05-09T00:00:00\",\"2019-05-10T00:00:00\",\"2019-05-13T00:00:00\",\"2019-05-14T00:00:00\",\"2019-05-15T00:00:00\",\"2019-05-16T00:00:00\",\"2019-05-17T00:00:00\",\"2019-05-20T00:00:00\",\"2019-05-21T00:00:00\",\"2019-05-22T00:00:00\",\"2019-05-23T00:00:00\",\"2019-05-24T00:00:00\",\"2019-05-27T00:00:00\",\"2019-05-28T00:00:00\",\"2019-05-29T00:00:00\",\"2019-05-30T00:00:00\",\"2019-05-31T00:00:00\",\"2019-06-03T00:00:00\",\"2019-06-04T00:00:00\",\"2019-06-05T00:00:00\",\"2019-06-07T00:00:00\",\"2019-06-10T00:00:00\",\"2019-06-11T00:00:00\",\"2019-06-12T00:00:00\",\"2019-06-13T00:00:00\",\"2019-06-14T00:00:00\",\"2019-06-17T00:00:00\",\"2019-06-18T00:00:00\",\"2019-06-19T00:00:00\",\"2019-06-20T00:00:00\",\"2019-06-21T00:00:00\",\"2019-06-24T00:00:00\",\"2019-06-25T00:00:00\",\"2019-06-26T00:00:00\",\"2019-06-27T00:00:00\",\"2019-06-28T00:00:00\",\"2019-07-01T00:00:00\",\"2019-07-02T00:00:00\",\"2019-07-03T00:00:00\",\"2019-07-04T00:00:00\",\"2019-07-05T00:00:00\",\"2019-07-08T00:00:00\",\"2019-07-09T00:00:00\",\"2019-07-10T00:00:00\",\"2019-07-11T00:00:00\",\"2019-07-12T00:00:00\",\"2019-07-15T00:00:00\",\"2019-07-16T00:00:00\",\"2019-07-17T00:00:00\",\"2019-07-18T00:00:00\",\"2019-07-19T00:00:00\",\"2019-07-22T00:00:00\",\"2019-07-23T00:00:00\",\"2019-07-24T00:00:00\",\"2019-07-25T00:00:00\",\"2019-07-26T00:00:00\",\"2019-07-29T00:00:00\",\"2019-07-30T00:00:00\",\"2019-07-31T00:00:00\",\"2019-08-01T00:00:00\",\"2019-08-02T00:00:00\",\"2019-08-05T00:00:00\",\"2019-08-06T00:00:00\",\"2019-08-07T00:00:00\",\"2019-08-08T00:00:00\",\"2019-08-09T00:00:00\",\"2019-08-12T00:00:00\",\"2019-08-13T00:00:00\",\"2019-08-14T00:00:00\",\"2019-08-16T00:00:00\",\"2019-08-19T00:00:00\",\"2019-08-20T00:00:00\",\"2019-08-21T00:00:00\",\"2019-08-22T00:00:00\",\"2019-08-23T00:00:00\",\"2019-08-26T00:00:00\",\"2019-08-27T00:00:00\",\"2019-08-28T00:00:00\",\"2019-08-29T00:00:00\",\"2019-08-30T00:00:00\",\"2019-09-02T00:00:00\",\"2019-09-03T00:00:00\",\"2019-09-04T00:00:00\",\"2019-09-05T00:00:00\",\"2019-09-06T00:00:00\",\"2019-09-09T00:00:00\",\"2019-09-10T00:00:00\",\"2019-09-11T00:00:00\",\"2019-09-16T00:00:00\",\"2019-09-17T00:00:00\",\"2019-09-18T00:00:00\",\"2019-09-19T00:00:00\",\"2019-09-20T00:00:00\",\"2019-09-23T00:00:00\",\"2019-09-24T00:00:00\",\"2019-09-25T00:00:00\",\"2019-09-26T00:00:00\",\"2019-09-27T00:00:00\",\"2019-09-30T00:00:00\",\"2019-10-01T00:00:00\",\"2019-10-02T00:00:00\",\"2019-10-04T00:00:00\",\"2019-10-07T00:00:00\",\"2019-10-08T00:00:00\",\"2019-10-10T00:00:00\",\"2019-10-11T00:00:00\",\"2019-10-14T00:00:00\",\"2019-10-15T00:00:00\",\"2019-10-16T00:00:00\",\"2019-10-17T00:00:00\",\"2019-10-18T00:00:00\",\"2019-10-21T00:00:00\",\"2019-10-22T00:00:00\",\"2019-10-23T00:00:00\",\"2019-10-24T00:00:00\",\"2019-10-25T00:00:00\",\"2019-10-28T00:00:00\",\"2019-10-29T00:00:00\",\"2019-10-30T00:00:00\",\"2019-10-31T00:00:00\",\"2019-11-01T00:00:00\",\"2019-11-04T00:00:00\",\"2019-11-05T00:00:00\",\"2019-11-06T00:00:00\",\"2019-11-07T00:00:00\",\"2019-11-08T00:00:00\",\"2019-11-11T00:00:00\",\"2019-11-12T00:00:00\",\"2019-11-13T00:00:00\",\"2019-11-14T00:00:00\",\"2019-11-15T00:00:00\",\"2019-11-18T00:00:00\",\"2019-11-19T00:00:00\",\"2019-11-20T00:00:00\",\"2019-11-21T00:00:00\",\"2019-11-22T00:00:00\",\"2019-11-25T00:00:00\",\"2019-11-26T00:00:00\",\"2019-11-27T00:00:00\",\"2019-11-28T00:00:00\",\"2019-11-29T00:00:00\",\"2019-12-02T00:00:00\",\"2019-12-03T00:00:00\",\"2019-12-04T00:00:00\",\"2019-12-05T00:00:00\",\"2019-12-06T00:00:00\",\"2019-12-09T00:00:00\",\"2019-12-10T00:00:00\",\"2019-12-11T00:00:00\",\"2019-12-12T00:00:00\",\"2019-12-13T00:00:00\",\"2019-12-16T00:00:00\",\"2019-12-17T00:00:00\",\"2019-12-18T00:00:00\",\"2019-12-19T00:00:00\",\"2019-12-20T00:00:00\",\"2019-12-23T00:00:00\",\"2019-12-24T00:00:00\",\"2019-12-26T00:00:00\",\"2019-12-27T00:00:00\",\"2019-12-30T00:00:00\"],\"xaxis\":\"x\",\"y\":[0.5518424731859315,0.4862718874136549,0.5013104513450939,0.6453265233995742,0.6439132959889693,0.6955929232493343,0.6626533370878294,0.6406679561398496,0.570008388159791,0.6141385916802418,0.6101321626726905,0.6290451824197509,0.6508109538850428,0.6591308349124176,0.65940452219809,0.6560928325953483,0.6574579498297979,0.8939230329584866,0.8416816902951814,0.7441288254248768,0.7209520510714045,0.7302883781334932,0.8207627344530808,0.8483856123427804,0.9609618412037069,0.9550470679697378,0.9572654911952823,0.9980350760620178,0.9862464197825629,0.9451176987405789,0.9912661524922965,1.0,0.9742363244980128,0.8819629389071757,0.9217776714927064,0.8628985899772239,0.8399691976111479,0.8175135334239974,0.6518547152823992,0.6930083700777034,0.6943638473349507,0.7199217808655236,0.6446461488033695,0.5975573925463813,0.572900270992271,0.5811563180879133,0.5484568125038307,0.5977300913557309,0.5591800380009544,0.5761586580882767,0.5537078443157952,0.5251342740610352,0.4914729585187736,0.5206601101736461,0.44575704359087265,0.45063152012447416,0.4411615362909105,0.40629637644378436,0.44528980594666967,0.4643268163931915,0.45201366126301323,0.49289088664151004,0.4731881732530998,0.5128913924412708,0.47062490997797557,0.4329920722410274,0.4427927794106652,0.4926199414088668,0.46532734695624267,0.45633393520412735,0.45522642109273637,0.4809819368545183,0.4245747177792576,0.44302507100276856,0.45231695319285725,0.4542416218994192,0.4388859446698845,0.4069244179287268,0.3857255543368936,0.3319648709122065,0.3499148688069531,0.3874904478704564,0.38581776812763646,0.3478876058075473,0.29490304808928425,0.1959668660046021,0.2071162804593456,0.16169391841476743,0.16976281349197775,0.23533537111966485,0.18967101180315682,0.2074006467522964,0.16805530170917793,0.2513384636459497,0.36713816396301624,0.5028928639042429,0.45423416373663095,0.6090751284794447,0.5267209052936845,0.48424781419580043,0.517823635949096,0.4915243353720946,0.5185585685934782,0.4982862239703403,0.5045933763840047,0.6169670771620264,0.5817109329653105,0.6558829736617668,0.5581078052388615,0.5357034162907128,0.5682225487173405,0.5783686244208499,0.7872833646862567,0.8802069054727077,0.9141905559608032,0.9013938358430025,0.8595625416646628,0.8162862949436267,0.6487254661350494,0.6306556773984928,0.674479176721968,0.7224610475567204,0.7702365889163465,0.7459503471687947,0.7499300408082208,0.8114054372666342,0.7168781934039012,0.6465551215492455,0.7727350748258335,0.7290059968616731,0.7304482316548295,0.6658724261010418,0.6906021900192041,0.6382651292256827,0.5764260862429791,0.5961026164588792,0.6288476102095979,0.63860810184757,0.5820760536202987,0.55923427674615,0.482920940542912,0.24007603447125447,0.27053054195372184,0.21724049844469429,0.18930686259164986,0.19330786901613628,0.057781404779805534,0.0,0.0058784246243615,0.21394187411077237,0.33801831382544023,0.3968747244512625,0.4069758308348428,0.5331992908822816,0.5855797855991729,0.4963195547988115,0.5437526388087219,0.48337414557561553,0.44358072837884155,0.39847399826006713,0.4329044730871412,0.4443165573364083,0.47667944365486203,0.47868646293932926,0.49349680262264783,0.4609514485900421,0.460964329350118,0.4267069791784257,0.44106334985704887,0.40953809903838323,0.35280873177094785,0.32455705896043563,0.43590944326035075,0.46116730524670047,0.4612927326987699,0.502995359099752,0.4912026435474073,0.4372429975437804,0.40910146118568,0.40387121902363576,0.29703376894387246,0.3075470952946495,0.2711920486010748,0.20537955402378438,0.3963963470391274,0.2858016501126648,0.2910962440232381,0.2864982718482527,0.2859637049989421,0.37560764343992226,0.46105660940357707,0.5070642092217916,0.4966097016347706,0.4990494474547753,0.5242361509683979,0.5059370512059536,0.5087724359834702,0.6010792216468412,0.5337746673072066,0.49733217236337524,0.36804568549460726,0.38720161487477167,0.37792006506737463,0.3606982892837962,0.649194817248592,0.798681008095433,0.7992576339119415,0.7160746841327512,0.721564635519508,0.5484244216759104,0.4438796705974135,0.41803803388288774,0.39930096503349954,0.4172548617391967,0.4905648175286932,0.48290648434907446,0.5039625344976302,0.4860251117377592,0.49635376369012807,0.4101892721310394,0.34162785258862494,0.3241482256583752,0.38634366250156127,0.28801509419310634,0.263444139423453,0.26274280356448276,0.1824026813056987,0.11362675009534184,0.08651410848341534,0.04667623041724944,0.08757417751733465,0.11686235451151994,0.10350164596406675,0.09813968767819325,0.09494746377017016,0.13473335367474348,0.12745827763948991,0.10963157654404565,0.11088475590411129,0.05917511985810986,0.059863260973954,0.06631694898386176,0.022281659593893277,0.04149014329263068,0.09858784741609528,0.09880911243796975],\"yaxis\":\"y\",\"type\":\"scatter\"},{\"hovertemplate\":\"variable=\\ud45c\\uc900\\ud654\\uc9c0\\uc218\\ubcc0\\ub3d9\\ub960<br>Date=%{x}<br>value=%{y}<extra></extra>\",\"legendgroup\":\"\\ud45c\\uc900\\ud654\\uc9c0\\uc218\\ubcc0\\ub3d9\\ub960\",\"line\":{\"color\":\"#EF553B\",\"dash\":\"solid\"},\"marker\":{\"symbol\":\"circle\"},\"mode\":\"lines\",\"name\":\"\\ud45c\\uc900\\ud654\\uc9c0\\uc218\\ubcc0\\ub3d9\\ub960\",\"orientation\":\"v\",\"showlegend\":true,\"x\":[\"2019-01-02T00:00:00\",\"2019-01-03T00:00:00\",\"2019-01-04T00:00:00\",\"2019-01-07T00:00:00\",\"2019-01-08T00:00:00\",\"2019-01-09T00:00:00\",\"2019-01-10T00:00:00\",\"2019-01-11T00:00:00\",\"2019-01-14T00:00:00\",\"2019-01-15T00:00:00\",\"2019-01-16T00:00:00\",\"2019-01-17T00:00:00\",\"2019-01-18T00:00:00\",\"2019-01-21T00:00:00\",\"2019-01-22T00:00:00\",\"2019-01-23T00:00:00\",\"2019-01-24T00:00:00\",\"2019-01-25T00:00:00\",\"2019-01-28T00:00:00\",\"2019-01-29T00:00:00\",\"2019-01-30T00:00:00\",\"2019-01-31T00:00:00\",\"2019-02-01T00:00:00\",\"2019-02-07T00:00:00\",\"2019-02-08T00:00:00\",\"2019-02-11T00:00:00\",\"2019-02-12T00:00:00\",\"2019-02-13T00:00:00\",\"2019-02-14T00:00:00\",\"2019-02-15T00:00:00\",\"2019-02-18T00:00:00\",\"2019-02-19T00:00:00\",\"2019-02-20T00:00:00\",\"2019-02-21T00:00:00\",\"2019-02-22T00:00:00\",\"2019-02-25T00:00:00\",\"2019-02-26T00:00:00\",\"2019-02-27T00:00:00\",\"2019-02-28T00:00:00\",\"2019-03-04T00:00:00\",\"2019-03-05T00:00:00\",\"2019-03-06T00:00:00\",\"2019-03-07T00:00:00\",\"2019-03-08T00:00:00\",\"2019-03-11T00:00:00\",\"2019-03-12T00:00:00\",\"2019-03-13T00:00:00\",\"2019-03-14T00:00:00\",\"2019-03-15T00:00:00\",\"2019-03-18T00:00:00\",\"2019-03-19T00:00:00\",\"2019-03-20T00:00:00\",\"2019-03-21T00:00:00\",\"2019-03-22T00:00:00\",\"2019-03-25T00:00:00\",\"2019-03-26T00:00:00\",\"2019-03-27T00:00:00\",\"2019-03-28T00:00:00\",\"2019-03-29T00:00:00\",\"2019-04-01T00:00:00\",\"2019-04-02T00:00:00\",\"2019-04-03T00:00:00\",\"2019-04-04T00:00:00\",\"2019-04-05T00:00:00\",\"2019-04-08T00:00:00\",\"2019-04-09T00:00:00\",\"2019-04-10T00:00:00\",\"2019-04-11T00:00:00\",\"2019-04-12T00:00:00\",\"2019-04-15T00:00:00\",\"2019-04-16T00:00:00\",\"2019-04-17T00:00:00\",\"2019-04-18T00:00:00\",\"2019-04-19T00:00:00\",\"2019-04-22T00:00:00\",\"2019-04-23T00:00:00\",\"2019-04-24T00:00:00\",\"2019-04-25T00:00:00\",\"2019-04-26T00:00:00\",\"2019-04-29T00:00:00\",\"2019-04-30T00:00:00\",\"2019-05-02T00:00:00\",\"2019-05-03T00:00:00\",\"2019-05-07T00:00:00\",\"2019-05-08T00:00:00\",\"2019-05-09T00:00:00\",\"2019-05-10T00:00:00\",\"2019-05-13T00:00:00\",\"2019-05-14T00:00:00\",\"2019-05-15T00:00:00\",\"2019-05-16T00:00:00\",\"2019-05-17T00:00:00\",\"2019-05-20T00:00:00\",\"2019-05-21T00:00:00\",\"2019-05-22T00:00:00\",\"2019-05-23T00:00:00\",\"2019-05-24T00:00:00\",\"2019-05-27T00:00:00\",\"2019-05-28T00:00:00\",\"2019-05-29T00:00:00\",\"2019-05-30T00:00:00\",\"2019-05-31T00:00:00\",\"2019-06-03T00:00:00\",\"2019-06-04T00:00:00\",\"2019-06-05T00:00:00\",\"2019-06-07T00:00:00\",\"2019-06-10T00:00:00\",\"2019-06-11T00:00:00\",\"2019-06-12T00:00:00\",\"2019-06-13T00:00:00\",\"2019-06-14T00:00:00\",\"2019-06-17T00:00:00\",\"2019-06-18T00:00:00\",\"2019-06-19T00:00:00\",\"2019-06-20T00:00:00\",\"2019-06-21T00:00:00\",\"2019-06-24T00:00:00\",\"2019-06-25T00:00:00\",\"2019-06-26T00:00:00\",\"2019-06-27T00:00:00\",\"2019-06-28T00:00:00\",\"2019-07-01T00:00:00\",\"2019-07-02T00:00:00\",\"2019-07-03T00:00:00\",\"2019-07-04T00:00:00\",\"2019-07-05T00:00:00\",\"2019-07-08T00:00:00\",\"2019-07-09T00:00:00\",\"2019-07-10T00:00:00\",\"2019-07-11T00:00:00\",\"2019-07-12T00:00:00\",\"2019-07-15T00:00:00\",\"2019-07-16T00:00:00\",\"2019-07-17T00:00:00\",\"2019-07-18T00:00:00\",\"2019-07-19T00:00:00\",\"2019-07-22T00:00:00\",\"2019-07-23T00:00:00\",\"2019-07-24T00:00:00\",\"2019-07-25T00:00:00\",\"2019-07-26T00:00:00\",\"2019-07-29T00:00:00\",\"2019-07-30T00:00:00\",\"2019-07-31T00:00:00\",\"2019-08-01T00:00:00\",\"2019-08-02T00:00:00\",\"2019-08-05T00:00:00\",\"2019-08-06T00:00:00\",\"2019-08-07T00:00:00\",\"2019-08-08T00:00:00\",\"2019-08-09T00:00:00\",\"2019-08-12T00:00:00\",\"2019-08-13T00:00:00\",\"2019-08-14T00:00:00\",\"2019-08-16T00:00:00\",\"2019-08-19T00:00:00\",\"2019-08-20T00:00:00\",\"2019-08-21T00:00:00\",\"2019-08-22T00:00:00\",\"2019-08-23T00:00:00\",\"2019-08-26T00:00:00\",\"2019-08-27T00:00:00\",\"2019-08-28T00:00:00\",\"2019-08-29T00:00:00\",\"2019-08-30T00:00:00\",\"2019-09-02T00:00:00\",\"2019-09-03T00:00:00\",\"2019-09-04T00:00:00\",\"2019-09-05T00:00:00\",\"2019-09-06T00:00:00\",\"2019-09-09T00:00:00\",\"2019-09-10T00:00:00\",\"2019-09-11T00:00:00\",\"2019-09-16T00:00:00\",\"2019-09-17T00:00:00\",\"2019-09-18T00:00:00\",\"2019-09-19T00:00:00\",\"2019-09-20T00:00:00\",\"2019-09-23T00:00:00\",\"2019-09-24T00:00:00\",\"2019-09-25T00:00:00\",\"2019-09-26T00:00:00\",\"2019-09-27T00:00:00\",\"2019-09-30T00:00:00\",\"2019-10-01T00:00:00\",\"2019-10-02T00:00:00\",\"2019-10-04T00:00:00\",\"2019-10-07T00:00:00\",\"2019-10-08T00:00:00\",\"2019-10-10T00:00:00\",\"2019-10-11T00:00:00\",\"2019-10-14T00:00:00\",\"2019-10-15T00:00:00\",\"2019-10-16T00:00:00\",\"2019-10-17T00:00:00\",\"2019-10-18T00:00:00\",\"2019-10-21T00:00:00\",\"2019-10-22T00:00:00\",\"2019-10-23T00:00:00\",\"2019-10-24T00:00:00\",\"2019-10-25T00:00:00\",\"2019-10-28T00:00:00\",\"2019-10-29T00:00:00\",\"2019-10-30T00:00:00\",\"2019-10-31T00:00:00\",\"2019-11-01T00:00:00\",\"2019-11-04T00:00:00\",\"2019-11-05T00:00:00\",\"2019-11-06T00:00:00\",\"2019-11-07T00:00:00\",\"2019-11-08T00:00:00\",\"2019-11-11T00:00:00\",\"2019-11-12T00:00:00\",\"2019-11-13T00:00:00\",\"2019-11-14T00:00:00\",\"2019-11-15T00:00:00\",\"2019-11-18T00:00:00\",\"2019-11-19T00:00:00\",\"2019-11-20T00:00:00\",\"2019-11-21T00:00:00\",\"2019-11-22T00:00:00\",\"2019-11-25T00:00:00\",\"2019-11-26T00:00:00\",\"2019-11-27T00:00:00\",\"2019-11-28T00:00:00\",\"2019-11-29T00:00:00\",\"2019-12-02T00:00:00\",\"2019-12-03T00:00:00\",\"2019-12-04T00:00:00\",\"2019-12-05T00:00:00\",\"2019-12-06T00:00:00\",\"2019-12-09T00:00:00\",\"2019-12-10T00:00:00\",\"2019-12-11T00:00:00\",\"2019-12-12T00:00:00\",\"2019-12-13T00:00:00\",\"2019-12-16T00:00:00\",\"2019-12-17T00:00:00\",\"2019-12-18T00:00:00\",\"2019-12-19T00:00:00\",\"2019-12-20T00:00:00\",\"2019-12-23T00:00:00\",\"2019-12-24T00:00:00\",\"2019-12-26T00:00:00\",\"2019-12-27T00:00:00\",\"2019-12-30T00:00:00\"],\"xaxis\":\"x\",\"y\":[0.4489310634508717,0.3298769121877882,0.47670732437484076,0.7138802528894987,0.44642572150348475,0.5405804205806171,0.3912687061690963,0.4101256840305942,0.32351955451955183,0.5286818067405468,0.4417721348941125,0.4827605005830134,0.4876763753457213,0.46365997710991597,0.44941456464443824,0.4430809723665781,0.45134455169705767,0.8668508230505056,0.36179165242181743,0.28416511133739464,0.4088443860819175,0.4651720106540299,0.6059517051247383,0.4958219796260321,0.6387650162052487,0.4392198860883981,0.4525784321606658,0.5159265990213859,0.4297423019590935,0.3818009879524949,0.5249819043112752,0.4631697760788897,0.40701383628767485,0.297901010029741,0.5155320418589157,0.351365829861667,0.4104002957455607,0.41098799871191755,0.16749751170835142,0.5217673269628557,0.451305423689604,0.4936851996105519,0.31795237167458623,0.3654386841968961,0.4046854071805584,0.46384003297229615,0.3900067056018317,0.5384732271076768,0.3797584684999057,0.4797001121824968,0.4084228100664079,0.39707609051295695,0.3873880999608337,0.5027660938459025,0.3118259944654914,0.4580312825014703,0.43127433580151836,0.38376119270515446,0.522500780957811,0.48447590669664564,0.42605650308229703,0.525118422515603,0.4126034017220108,0.5225164240242183,0.37140797809510256,0.37913566225950346,0.4672904760050476,0.542027416987665,0.39860567356359067,0.4322281260073001,0.4468692342530356,0.4968935070180792,0.344601530458684,0.4835714789276253,0.4662908088679838,0.45251799021326133,0.42032793427381104,0.3891524190537657,0.40894147807874,0.3469354986470757,0.48348838927504356,0.5209170191934864,0.445759144299568,0.376971191917945,0.34736892108092365,0.2565024344914356,0.4712278917030074,0.3583822221832309,0.46522658007732415,0.5810511250976673,0.3586238086234701,0.48445088707886685,0.37050300643635836,0.6168179756839047,0.6769118696625658,0.7077878297598579,0.35944982433806055,0.7373550006707348,0.3015855863756026,0.3713096257092986,0.5109787390572375,0.40075630100181964,0.4987944118596964,0.4118035343083627,0.46054366316658996,0.6554893682228046,0.38597860640003734,0.5825697033661174,0.27605821979414114,0.40831806388704994,0.5082224910356443,0.467275175903953,0.8256641680423038,0.6079604729891808,0.5058017776261111,0.42768827270293003,0.3792794805013307,0.3761511030736915,0.16418162535273678,0.41692478000661226,0.5269095399467519,0.5333704580141095,0.5320076178235981,0.4071940418348245,0.4558112744278445,0.5551074202937321,0.2881032904592544,0.32647734658425126,0.6725510072826311,0.3738265935729326,0.45143489430747724,0.33686247355423427,0.4925451096917638,0.3571982620364214,0.3391080859408276,0.4844312048658984,0.5077117671310033,0.46630661337501894,0.34854175164212786,0.40778000701409123,0.3106362046056548,0.0,0.5090784786111736,0.34457815004033654,0.393405461788848,0.4569475748083586,0.1776969047453117,0.32864116807619415,0.4613822790628556,0.8888540192867094,0.6957969894642577,0.5620535081464418,0.46803743509564977,0.6870359997218066,0.544497465084222,0.28826705491455673,0.5363089764435276,0.33907404068346103,0.37537642890965656,0.36467197544873986,0.5140286813680416,0.4703095271909603,0.5093728914138239,0.4526474162621502,0.47634052176717673,0.3889338245709507,0.44895501387321574,0.3852333313571552,0.4758696845332095,0.390002601093674,0.341991796331807,0.3948502444469426,0.6637432142037303,0.4962091437108845,0.4491642693028743,0.5264657111376765,0.42724535356118815,0.3493966639971764,0.3962740065961183,0.43907049372088114,0.24722708602945734,0.4693671747710996,0.378468280553645,0.32008039118528137,0.8299083371767546,0.2397128026917703,0.459254973754337,0.43997866528317914,0.4478889151493792,0.6237195967647388,0.6114908233450038,0.5344749858999318,0.4297266721943326,0.4534250504039533,0.4952950203950618,0.4154669989444954,0.45414105643562336,0.6184180729382098,0.3282659449024538,0.38245293692449267,0.21083182864536648,0.4854485420372631,0.43132899470288905,0.41618855329840365,0.9999999999999998,0.7136785194503598,0.4499151655510348,0.3069862633556284,0.45849263424249753,0.14779186026137348,0.25894488923257486,0.4006628900602345,0.41369070468920294,0.4828688914504859,0.586840125162639,0.4348020710441441,0.48785611705841625,0.41595416572474503,0.46800934579292297,0.290206283312603,0.31971006391040946,0.4153682786074047,0.5689270340440764,0.26241181955926274,0.40104969558088976,0.44755498157089635,0.2912658442486935,0.3108577688538469,0.3934076552522318,0.3666971985679125,0.5343542632531744,0.5093692505940957,0.4215957630288337,0.4379178772907026,0.44236409275779015,0.5308543663678125,0.4341238019928599,0.41257091596012174,0.45150041898571835,0.3429511760765843,0.4503630502480131,0.4623581210203473,0.35748953379791504,0.48934513181104555,0.5683749515157378,0.44938618504129346],\"yaxis\":\"y\",\"type\":\"scatter\"}],                        {\"template\":{\"data\":{\"bar\":[{\"error_x\":{\"color\":\"#2a3f5f\"},\"error_y\":{\"color\":\"#2a3f5f\"},\"marker\":{\"line\":{\"color\":\"#E5ECF6\",\"width\":0.5},\"pattern\":{\"fillmode\":\"overlay\",\"size\":10,\"solidity\":0.2}},\"type\":\"bar\"}],\"barpolar\":[{\"marker\":{\"line\":{\"color\":\"#E5ECF6\",\"width\":0.5},\"pattern\":{\"fillmode\":\"overlay\",\"size\":10,\"solidity\":0.2}},\"type\":\"barpolar\"}],\"carpet\":[{\"aaxis\":{\"endlinecolor\":\"#2a3f5f\",\"gridcolor\":\"white\",\"linecolor\":\"white\",\"minorgridcolor\":\"white\",\"startlinecolor\":\"#2a3f5f\"},\"baxis\":{\"endlinecolor\":\"#2a3f5f\",\"gridcolor\":\"white\",\"linecolor\":\"white\",\"minorgridcolor\":\"white\",\"startlinecolor\":\"#2a3f5f\"},\"type\":\"carpet\"}],\"choropleth\":[{\"colorbar\":{\"outlinewidth\":0,\"ticks\":\"\"},\"type\":\"choropleth\"}],\"contour\":[{\"colorbar\":{\"outlinewidth\":0,\"ticks\":\"\"},\"colorscale\":[[0.0,\"#0d0887\"],[0.1111111111111111,\"#46039f\"],[0.2222222222222222,\"#7201a8\"],[0.3333333333333333,\"#9c179e\"],[0.4444444444444444,\"#bd3786\"],[0.5555555555555556,\"#d8576b\"],[0.6666666666666666,\"#ed7953\"],[0.7777777777777778,\"#fb9f3a\"],[0.8888888888888888,\"#fdca26\"],[1.0,\"#f0f921\"]],\"type\":\"contour\"}],\"contourcarpet\":[{\"colorbar\":{\"outlinewidth\":0,\"ticks\":\"\"},\"type\":\"contourcarpet\"}],\"heatmap\":[{\"colorbar\":{\"outlinewidth\":0,\"ticks\":\"\"},\"colorscale\":[[0.0,\"#0d0887\"],[0.1111111111111111,\"#46039f\"],[0.2222222222222222,\"#7201a8\"],[0.3333333333333333,\"#9c179e\"],[0.4444444444444444,\"#bd3786\"],[0.5555555555555556,\"#d8576b\"],[0.6666666666666666,\"#ed7953\"],[0.7777777777777778,\"#fb9f3a\"],[0.8888888888888888,\"#fdca26\"],[1.0,\"#f0f921\"]],\"type\":\"heatmap\"}],\"heatmapgl\":[{\"colorbar\":{\"outlinewidth\":0,\"ticks\":\"\"},\"colorscale\":[[0.0,\"#0d0887\"],[0.1111111111111111,\"#46039f\"],[0.2222222222222222,\"#7201a8\"],[0.3333333333333333,\"#9c179e\"],[0.4444444444444444,\"#bd3786\"],[0.5555555555555556,\"#d8576b\"],[0.6666666666666666,\"#ed7953\"],[0.7777777777777778,\"#fb9f3a\"],[0.8888888888888888,\"#fdca26\"],[1.0,\"#f0f921\"]],\"type\":\"heatmapgl\"}],\"histogram\":[{\"marker\":{\"pattern\":{\"fillmode\":\"overlay\",\"size\":10,\"solidity\":0.2}},\"type\":\"histogram\"}],\"histogram2d\":[{\"colorbar\":{\"outlinewidth\":0,\"ticks\":\"\"},\"colorscale\":[[0.0,\"#0d0887\"],[0.1111111111111111,\"#46039f\"],[0.2222222222222222,\"#7201a8\"],[0.3333333333333333,\"#9c179e\"],[0.4444444444444444,\"#bd3786\"],[0.5555555555555556,\"#d8576b\"],[0.6666666666666666,\"#ed7953\"],[0.7777777777777778,\"#fb9f3a\"],[0.8888888888888888,\"#fdca26\"],[1.0,\"#f0f921\"]],\"type\":\"histogram2d\"}],\"histogram2dcontour\":[{\"colorbar\":{\"outlinewidth\":0,\"ticks\":\"\"},\"colorscale\":[[0.0,\"#0d0887\"],[0.1111111111111111,\"#46039f\"],[0.2222222222222222,\"#7201a8\"],[0.3333333333333333,\"#9c179e\"],[0.4444444444444444,\"#bd3786\"],[0.5555555555555556,\"#d8576b\"],[0.6666666666666666,\"#ed7953\"],[0.7777777777777778,\"#fb9f3a\"],[0.8888888888888888,\"#fdca26\"],[1.0,\"#f0f921\"]],\"type\":\"histogram2dcontour\"}],\"mesh3d\":[{\"colorbar\":{\"outlinewidth\":0,\"ticks\":\"\"},\"type\":\"mesh3d\"}],\"parcoords\":[{\"line\":{\"colorbar\":{\"outlinewidth\":0,\"ticks\":\"\"}},\"type\":\"parcoords\"}],\"pie\":[{\"automargin\":true,\"type\":\"pie\"}],\"scatter\":[{\"marker\":{\"colorbar\":{\"outlinewidth\":0,\"ticks\":\"\"}},\"type\":\"scatter\"}],\"scatter3d\":[{\"line\":{\"colorbar\":{\"outlinewidth\":0,\"ticks\":\"\"}},\"marker\":{\"colorbar\":{\"outlinewidth\":0,\"ticks\":\"\"}},\"type\":\"scatter3d\"}],\"scattercarpet\":[{\"marker\":{\"colorbar\":{\"outlinewidth\":0,\"ticks\":\"\"}},\"type\":\"scattercarpet\"}],\"scattergeo\":[{\"marker\":{\"colorbar\":{\"outlinewidth\":0,\"ticks\":\"\"}},\"type\":\"scattergeo\"}],\"scattergl\":[{\"marker\":{\"colorbar\":{\"outlinewidth\":0,\"ticks\":\"\"}},\"type\":\"scattergl\"}],\"scattermapbox\":[{\"marker\":{\"colorbar\":{\"outlinewidth\":0,\"ticks\":\"\"}},\"type\":\"scattermapbox\"}],\"scatterpolar\":[{\"marker\":{\"colorbar\":{\"outlinewidth\":0,\"ticks\":\"\"}},\"type\":\"scatterpolar\"}],\"scatterpolargl\":[{\"marker\":{\"colorbar\":{\"outlinewidth\":0,\"ticks\":\"\"}},\"type\":\"scatterpolargl\"}],\"scatterternary\":[{\"marker\":{\"colorbar\":{\"outlinewidth\":0,\"ticks\":\"\"}},\"type\":\"scatterternary\"}],\"surface\":[{\"colorbar\":{\"outlinewidth\":0,\"ticks\":\"\"},\"colorscale\":[[0.0,\"#0d0887\"],[0.1111111111111111,\"#46039f\"],[0.2222222222222222,\"#7201a8\"],[0.3333333333333333,\"#9c179e\"],[0.4444444444444444,\"#bd3786\"],[0.5555555555555556,\"#d8576b\"],[0.6666666666666666,\"#ed7953\"],[0.7777777777777778,\"#fb9f3a\"],[0.8888888888888888,\"#fdca26\"],[1.0,\"#f0f921\"]],\"type\":\"surface\"}],\"table\":[{\"cells\":{\"fill\":{\"color\":\"#EBF0F8\"},\"line\":{\"color\":\"white\"}},\"header\":{\"fill\":{\"color\":\"#C8D4E3\"},\"line\":{\"color\":\"white\"}},\"type\":\"table\"}]},\"layout\":{\"annotationdefaults\":{\"arrowcolor\":\"#2a3f5f\",\"arrowhead\":0,\"arrowwidth\":1},\"autotypenumbers\":\"strict\",\"coloraxis\":{\"colorbar\":{\"outlinewidth\":0,\"ticks\":\"\"}},\"colorscale\":{\"diverging\":[[0,\"#8e0152\"],[0.1,\"#c51b7d\"],[0.2,\"#de77ae\"],[0.3,\"#f1b6da\"],[0.4,\"#fde0ef\"],[0.5,\"#f7f7f7\"],[0.6,\"#e6f5d0\"],[0.7,\"#b8e186\"],[0.8,\"#7fbc41\"],[0.9,\"#4d9221\"],[1,\"#276419\"]],\"sequential\":[[0.0,\"#0d0887\"],[0.1111111111111111,\"#46039f\"],[0.2222222222222222,\"#7201a8\"],[0.3333333333333333,\"#9c179e\"],[0.4444444444444444,\"#bd3786\"],[0.5555555555555556,\"#d8576b\"],[0.6666666666666666,\"#ed7953\"],[0.7777777777777778,\"#fb9f3a\"],[0.8888888888888888,\"#fdca26\"],[1.0,\"#f0f921\"]],\"sequentialminus\":[[0.0,\"#0d0887\"],[0.1111111111111111,\"#46039f\"],[0.2222222222222222,\"#7201a8\"],[0.3333333333333333,\"#9c179e\"],[0.4444444444444444,\"#bd3786\"],[0.5555555555555556,\"#d8576b\"],[0.6666666666666666,\"#ed7953\"],[0.7777777777777778,\"#fb9f3a\"],[0.8888888888888888,\"#fdca26\"],[1.0,\"#f0f921\"]]},\"colorway\":[\"#636efa\",\"#EF553B\",\"#00cc96\",\"#ab63fa\",\"#FFA15A\",\"#19d3f3\",\"#FF6692\",\"#B6E880\",\"#FF97FF\",\"#FECB52\"],\"font\":{\"color\":\"#2a3f5f\"},\"geo\":{\"bgcolor\":\"white\",\"lakecolor\":\"white\",\"landcolor\":\"#E5ECF6\",\"showlakes\":true,\"showland\":true,\"subunitcolor\":\"white\"},\"hoverlabel\":{\"align\":\"left\"},\"hovermode\":\"closest\",\"mapbox\":{\"style\":\"light\"},\"paper_bgcolor\":\"white\",\"plot_bgcolor\":\"#E5ECF6\",\"polar\":{\"angularaxis\":{\"gridcolor\":\"white\",\"linecolor\":\"white\",\"ticks\":\"\"},\"bgcolor\":\"#E5ECF6\",\"radialaxis\":{\"gridcolor\":\"white\",\"linecolor\":\"white\",\"ticks\":\"\"}},\"scene\":{\"xaxis\":{\"backgroundcolor\":\"#E5ECF6\",\"gridcolor\":\"white\",\"gridwidth\":2,\"linecolor\":\"white\",\"showbackground\":true,\"ticks\":\"\",\"zerolinecolor\":\"white\"},\"yaxis\":{\"backgroundcolor\":\"#E5ECF6\",\"gridcolor\":\"white\",\"gridwidth\":2,\"linecolor\":\"white\",\"showbackground\":true,\"ticks\":\"\",\"zerolinecolor\":\"white\"},\"zaxis\":{\"backgroundcolor\":\"#E5ECF6\",\"gridcolor\":\"white\",\"gridwidth\":2,\"linecolor\":\"white\",\"showbackground\":true,\"ticks\":\"\",\"zerolinecolor\":\"white\"}},\"shapedefaults\":{\"line\":{\"color\":\"#2a3f5f\"}},\"ternary\":{\"aaxis\":{\"gridcolor\":\"white\",\"linecolor\":\"white\",\"ticks\":\"\"},\"baxis\":{\"gridcolor\":\"white\",\"linecolor\":\"white\",\"ticks\":\"\"},\"bgcolor\":\"#E5ECF6\",\"caxis\":{\"gridcolor\":\"white\",\"linecolor\":\"white\",\"ticks\":\"\"}},\"title\":{\"x\":0.05},\"xaxis\":{\"automargin\":true,\"gridcolor\":\"white\",\"linecolor\":\"white\",\"ticks\":\"\",\"title\":{\"standoff\":15},\"zerolinecolor\":\"white\",\"zerolinewidth\":2},\"yaxis\":{\"automargin\":true,\"gridcolor\":\"white\",\"linecolor\":\"white\",\"ticks\":\"\",\"title\":{\"standoff\":15},\"zerolinecolor\":\"white\",\"zerolinewidth\":2}}},\"xaxis\":{\"anchor\":\"y\",\"domain\":[0.0,1.0],\"title\":{\"text\":\"Date\"},\"rangeslider\":{\"visible\":true}},\"yaxis\":{\"anchor\":\"x\",\"domain\":[0.0,1.0],\"title\":{\"text\":\"value\"}},\"legend\":{\"title\":{\"text\":\"variable\"},\"tracegroupgap\":0},\"margin\":{\"t\":60}},                        {\"responsive\": true}                    ).then(function(){\n",
       "                            \n",
       "var gd = document.getElementById('aa31db32-8919-4457-b0be-a184fe869ee3');\n",
       "var x = new MutationObserver(function (mutations, observer) {{\n",
       "        var display = window.getComputedStyle(gd).display;\n",
       "        if (!display || display === 'none') {{\n",
       "            console.log([gd, 'removed!']);\n",
       "            Plotly.purge(gd);\n",
       "            observer.disconnect();\n",
       "        }}\n",
       "}});\n",
       "\n",
       "// Listen for the removal of the full notebook cells\n",
       "var notebookContainer = gd.closest('#notebook-container');\n",
       "if (notebookContainer) {{\n",
       "    x.observe(notebookContainer, {childList: true});\n",
       "}}\n",
       "\n",
       "// Listen for the clearing of the current output cell\n",
       "var outputEl = gd.closest('.output');\n",
       "if (outputEl) {{\n",
       "    x.observe(outputEl, {childList: true});\n",
       "}}\n",
       "\n",
       "                        })                };                });            </script>        </div>"
      ]
     },
     "metadata": {},
     "output_type": "display_data"
    }
   ],
   "source": [
    "# plotly\n",
    "# scale 된 값들만 따로 붙여주기\n",
    "df_plotly = pd.DataFrame({'Date': df_scaler['Date'],'표준화지수':df_scaled[8],'표준화지수변동률': df_scaled[9] })\n",
    "df_plotly\n",
    "\n",
    "fig = px.line(df_plotly, x='Date', y=['표준화지수','표준화지수변동률'])\n",
    "fig.update_xaxes(rangeslider_visible=True)\n",
    "fig.show()                "
   ]
  },
  {
   "cell_type": "code",
   "execution_count": null,
   "id": "57eb05e0",
   "metadata": {},
   "outputs": [],
   "source": []
  },
  {
   "cell_type": "code",
   "execution_count": null,
   "id": "767433c1",
   "metadata": {},
   "outputs": [],
   "source": []
  },
  {
   "cell_type": "code",
   "execution_count": null,
   "id": "67570d72",
   "metadata": {},
   "outputs": [],
   "source": []
  },
  {
   "cell_type": "code",
   "execution_count": null,
   "id": "a4bb0725",
   "metadata": {},
   "outputs": [],
   "source": []
  },
  {
   "cell_type": "code",
   "execution_count": null,
   "id": "850f1c3e",
   "metadata": {},
   "outputs": [],
   "source": []
  },
  {
   "cell_type": "code",
   "execution_count": null,
   "id": "0638ad33",
   "metadata": {},
   "outputs": [],
   "source": []
  },
  {
   "cell_type": "code",
   "execution_count": null,
   "id": "ff974704",
   "metadata": {},
   "outputs": [],
   "source": []
  },
  {
   "cell_type": "code",
   "execution_count": null,
   "id": "53e727a9",
   "metadata": {},
   "outputs": [],
   "source": []
  },
  {
   "cell_type": "markdown",
   "id": "3fd5f854",
   "metadata": {},
   "source": [
    "## 다음날 아침 급등주 캐치 전략"
   ]
  },
  {
   "cell_type": "code",
   "execution_count": 75,
   "id": "20d6a400",
   "metadata": {},
   "outputs": [
    {
     "data": {
      "text/html": [
       "<div>\n",
       "<style scoped>\n",
       "    .dataframe tbody tr th:only-of-type {\n",
       "        vertical-align: middle;\n",
       "    }\n",
       "\n",
       "    .dataframe tbody tr th {\n",
       "        vertical-align: top;\n",
       "    }\n",
       "\n",
       "    .dataframe thead th {\n",
       "        text-align: right;\n",
       "    }\n",
       "</style>\n",
       "<table border=\"1\" class=\"dataframe\">\n",
       "  <thead>\n",
       "    <tr style=\"text-align: right;\">\n",
       "      <th></th>\n",
       "      <th>Open</th>\n",
       "      <th>High</th>\n",
       "      <th>Low</th>\n",
       "      <th>Close</th>\n",
       "      <th>Volume</th>\n",
       "      <th>Change</th>\n",
       "    </tr>\n",
       "    <tr>\n",
       "      <th>Date</th>\n",
       "      <th></th>\n",
       "      <th></th>\n",
       "      <th></th>\n",
       "      <th></th>\n",
       "      <th></th>\n",
       "      <th></th>\n",
       "    </tr>\n",
       "  </thead>\n",
       "  <tbody>\n",
       "    <tr>\n",
       "      <th>2019-01-02</th>\n",
       "      <td>5760</td>\n",
       "      <td>5880</td>\n",
       "      <td>5650</td>\n",
       "      <td>5650</td>\n",
       "      <td>22922</td>\n",
       "      <td>-0.013962</td>\n",
       "    </tr>\n",
       "    <tr>\n",
       "      <th>2019-01-03</th>\n",
       "      <td>5650</td>\n",
       "      <td>5900</td>\n",
       "      <td>5620</td>\n",
       "      <td>5730</td>\n",
       "      <td>37716</td>\n",
       "      <td>0.014159</td>\n",
       "    </tr>\n",
       "    <tr>\n",
       "      <th>2019-01-04</th>\n",
       "      <td>5770</td>\n",
       "      <td>5770</td>\n",
       "      <td>5590</td>\n",
       "      <td>5690</td>\n",
       "      <td>37358</td>\n",
       "      <td>-0.006981</td>\n",
       "    </tr>\n",
       "    <tr>\n",
       "      <th>2019-01-07</th>\n",
       "      <td>5730</td>\n",
       "      <td>5870</td>\n",
       "      <td>5700</td>\n",
       "      <td>5800</td>\n",
       "      <td>35747</td>\n",
       "      <td>0.019332</td>\n",
       "    </tr>\n",
       "    <tr>\n",
       "      <th>2019-01-08</th>\n",
       "      <td>5940</td>\n",
       "      <td>6340</td>\n",
       "      <td>5860</td>\n",
       "      <td>6200</td>\n",
       "      <td>178631</td>\n",
       "      <td>0.068966</td>\n",
       "    </tr>\n",
       "  </tbody>\n",
       "</table>\n",
       "</div>"
      ],
      "text/plain": [
       "            Open  High   Low  Close  Volume    Change\n",
       "Date                                                 \n",
       "2019-01-02  5760  5880  5650   5650   22922 -0.013962\n",
       "2019-01-03  5650  5900  5620   5730   37716  0.014159\n",
       "2019-01-04  5770  5770  5590   5690   37358 -0.006981\n",
       "2019-01-07  5730  5870  5700   5800   35747  0.019332\n",
       "2019-01-08  5940  6340  5860   6200  178631  0.068966"
      ]
     },
     "execution_count": 75,
     "metadata": {},
     "output_type": "execute_result"
    }
   ],
   "source": [
    "df.head()"
   ]
  },
  {
   "cell_type": "code",
   "execution_count": 78,
   "id": "5eedd3e9",
   "metadata": {},
   "outputs": [
    {
     "data": {
      "text/html": [
       "<div>\n",
       "<style scoped>\n",
       "    .dataframe tbody tr th:only-of-type {\n",
       "        vertical-align: middle;\n",
       "    }\n",
       "\n",
       "    .dataframe tbody tr th {\n",
       "        vertical-align: top;\n",
       "    }\n",
       "\n",
       "    .dataframe thead th {\n",
       "        text-align: right;\n",
       "    }\n",
       "</style>\n",
       "<table border=\"1\" class=\"dataframe\">\n",
       "  <thead>\n",
       "    <tr style=\"text-align: right;\">\n",
       "      <th></th>\n",
       "      <th>014200</th>\n",
       "      <th>067170</th>\n",
       "      <th>074610</th>\n",
       "      <th>083640</th>\n",
       "      <th>033540</th>\n",
       "      <th>010040</th>\n",
       "      <th>041440</th>\n",
       "    </tr>\n",
       "    <tr>\n",
       "      <th>Date</th>\n",
       "      <th></th>\n",
       "      <th></th>\n",
       "      <th></th>\n",
       "      <th></th>\n",
       "      <th></th>\n",
       "      <th></th>\n",
       "      <th></th>\n",
       "    </tr>\n",
       "  </thead>\n",
       "  <tbody>\n",
       "    <tr>\n",
       "      <th>2019-01-02</th>\n",
       "      <td>0.000000</td>\n",
       "      <td>0.023810</td>\n",
       "      <td>-0.038869</td>\n",
       "      <td>0.000000</td>\n",
       "      <td>0.018182</td>\n",
       "      <td>-0.059783</td>\n",
       "      <td>-0.013962</td>\n",
       "    </tr>\n",
       "    <tr>\n",
       "      <th>2019-01-03</th>\n",
       "      <td>0.000000</td>\n",
       "      <td>0.013953</td>\n",
       "      <td>0.000000</td>\n",
       "      <td>-0.047945</td>\n",
       "      <td>-0.023214</td>\n",
       "      <td>0.021195</td>\n",
       "      <td>0.014159</td>\n",
       "    </tr>\n",
       "    <tr>\n",
       "      <th>2019-01-04</th>\n",
       "      <td>0.024048</td>\n",
       "      <td>0.036697</td>\n",
       "      <td>0.042279</td>\n",
       "      <td>0.017986</td>\n",
       "      <td>-0.018282</td>\n",
       "      <td>-0.001887</td>\n",
       "      <td>-0.006981</td>\n",
       "    </tr>\n",
       "    <tr>\n",
       "      <th>2019-01-07</th>\n",
       "      <td>-0.007828</td>\n",
       "      <td>0.000000</td>\n",
       "      <td>0.169312</td>\n",
       "      <td>0.000000</td>\n",
       "      <td>0.018622</td>\n",
       "      <td>0.068053</td>\n",
       "      <td>0.019332</td>\n",
       "    </tr>\n",
       "    <tr>\n",
       "      <th>2019-01-08</th>\n",
       "      <td>0.001972</td>\n",
       "      <td>0.013274</td>\n",
       "      <td>-0.072398</td>\n",
       "      <td>0.028269</td>\n",
       "      <td>0.012797</td>\n",
       "      <td>-0.017699</td>\n",
       "      <td>0.068966</td>\n",
       "    </tr>\n",
       "    <tr>\n",
       "      <th>...</th>\n",
       "      <td>...</td>\n",
       "      <td>...</td>\n",
       "      <td>...</td>\n",
       "      <td>...</td>\n",
       "      <td>...</td>\n",
       "      <td>...</td>\n",
       "      <td>...</td>\n",
       "    </tr>\n",
       "    <tr>\n",
       "      <th>2019-12-23</th>\n",
       "      <td>-0.017429</td>\n",
       "      <td>0.017937</td>\n",
       "      <td>-0.035135</td>\n",
       "      <td>-0.036918</td>\n",
       "      <td>0.030635</td>\n",
       "      <td>-0.025579</td>\n",
       "      <td>-0.002227</td>\n",
       "    </tr>\n",
       "    <tr>\n",
       "      <th>2019-12-24</th>\n",
       "      <td>-0.024390</td>\n",
       "      <td>-0.008811</td>\n",
       "      <td>-0.008403</td>\n",
       "      <td>-0.031111</td>\n",
       "      <td>-0.010616</td>\n",
       "      <td>-0.020000</td>\n",
       "      <td>-0.006696</td>\n",
       "    </tr>\n",
       "    <tr>\n",
       "      <th>2019-12-26</th>\n",
       "      <td>0.031818</td>\n",
       "      <td>0.017778</td>\n",
       "      <td>0.032486</td>\n",
       "      <td>0.028670</td>\n",
       "      <td>-0.017167</td>\n",
       "      <td>0.019133</td>\n",
       "      <td>-0.004494</td>\n",
       "    </tr>\n",
       "    <tr>\n",
       "      <th>2019-12-27</th>\n",
       "      <td>-0.002203</td>\n",
       "      <td>0.008734</td>\n",
       "      <td>0.035568</td>\n",
       "      <td>0.034838</td>\n",
       "      <td>0.010917</td>\n",
       "      <td>0.012516</td>\n",
       "      <td>-0.003386</td>\n",
       "    </tr>\n",
       "    <tr>\n",
       "      <th>2019-12-30</th>\n",
       "      <td>-0.017660</td>\n",
       "      <td>0.012987</td>\n",
       "      <td>0.029062</td>\n",
       "      <td>0.003232</td>\n",
       "      <td>-0.014039</td>\n",
       "      <td>0.000000</td>\n",
       "      <td>0.003398</td>\n",
       "    </tr>\n",
       "  </tbody>\n",
       "</table>\n",
       "<p>246 rows × 7 columns</p>\n",
       "</div>"
      ],
      "text/plain": [
       "              014200    067170    074610    083640    033540    010040  \\\n",
       "Date                                                                     \n",
       "2019-01-02  0.000000  0.023810 -0.038869  0.000000  0.018182 -0.059783   \n",
       "2019-01-03  0.000000  0.013953  0.000000 -0.047945 -0.023214  0.021195   \n",
       "2019-01-04  0.024048  0.036697  0.042279  0.017986 -0.018282 -0.001887   \n",
       "2019-01-07 -0.007828  0.000000  0.169312  0.000000  0.018622  0.068053   \n",
       "2019-01-08  0.001972  0.013274 -0.072398  0.028269  0.012797 -0.017699   \n",
       "...              ...       ...       ...       ...       ...       ...   \n",
       "2019-12-23 -0.017429  0.017937 -0.035135 -0.036918  0.030635 -0.025579   \n",
       "2019-12-24 -0.024390 -0.008811 -0.008403 -0.031111 -0.010616 -0.020000   \n",
       "2019-12-26  0.031818  0.017778  0.032486  0.028670 -0.017167  0.019133   \n",
       "2019-12-27 -0.002203  0.008734  0.035568  0.034838  0.010917  0.012516   \n",
       "2019-12-30 -0.017660  0.012987  0.029062  0.003232 -0.014039  0.000000   \n",
       "\n",
       "              041440  \n",
       "Date                  \n",
       "2019-01-02 -0.013962  \n",
       "2019-01-03  0.014159  \n",
       "2019-01-04 -0.006981  \n",
       "2019-01-07  0.019332  \n",
       "2019-01-08  0.068966  \n",
       "...              ...  \n",
       "2019-12-23 -0.002227  \n",
       "2019-12-24 -0.006696  \n",
       "2019-12-26 -0.004494  \n",
       "2019-12-27 -0.003386  \n",
       "2019-12-30  0.003398  \n",
       "\n",
       "[246 rows x 7 columns]"
      ]
     },
     "execution_count": 78,
     "metadata": {},
     "output_type": "execute_result"
    }
   ],
   "source": [
    "# 전날 종가 다음날 고가 변동률\n",
    "\n",
    "diff_history = dict()\n",
    "\n",
    "for code in codes_fire:\n",
    "    df = fdr.DataReader(code,'2019-01-02', '2019-12-31')\n",
    "    diff_history[code]= df['Change']   # 회사코드: [과거주가 리스트] \n",
    "\n",
    "df_diff = pd.DataFrame(diff_history)\n",
    "df_diff"
   ]
  },
  {
   "cell_type": "code",
   "execution_count": null,
   "id": "b2f33269",
   "metadata": {},
   "outputs": [],
   "source": []
  },
  {
   "cell_type": "code",
   "execution_count": null,
   "id": "305b707d",
   "metadata": {},
   "outputs": [],
   "source": []
  },
  {
   "cell_type": "code",
   "execution_count": null,
   "id": "7fc6bddb",
   "metadata": {},
   "outputs": [],
   "source": []
  },
  {
   "cell_type": "code",
   "execution_count": null,
   "id": "4e04b1d7",
   "metadata": {},
   "outputs": [],
   "source": [
    "# 구제역 관련주\n",
    "# 대체식품(수산업,닭)\n",
    ": 한성기업,정다운,동우팜투테이블,사조오양, \n",
    "신라교역, 마니커, 동원산업 \n",
    "신라에스지 \n",
    "하림 \n",
    "동원수산 \n",
    "이지홀딩스\n",
    "팜스토리\n",
    "\n",
    "\n",
    "# 사료\n",
    "한일사료\n",
    "\n",
    "# 백신\n",
    "우성사료 우진비앤지 대성미생물 \n",
    "\n",
    "# 석회\n",
    "태경비케이 \n",
    "\n"
   ]
  },
  {
   "cell_type": "code",
   "execution_count": null,
   "id": "1a39fcff",
   "metadata": {},
   "outputs": [],
   "source": [
    "# ai 관련주(주로 백신) : ai가 길어지면 대체식품주 오를 수 있음\n",
    "\n",
    "파루\n",
    "제일바이오\n",
    "이글벳\n",
    "진원생명과학\n",
    "팜스웰바이오\n",
    "씨티씨바이오\n",
    "대한뉴팜\n",
    "\n"
   ]
  }
 ],
 "metadata": {
  "kernelspec": {
   "display_name": "Python 3 (ipykernel)",
   "language": "python",
   "name": "python3"
  },
  "language_info": {
   "codemirror_mode": {
    "name": "ipython",
    "version": 3
   },
   "file_extension": ".py",
   "mimetype": "text/x-python",
   "name": "python",
   "nbconvert_exporter": "python",
   "pygments_lexer": "ipython3",
   "version": "3.9.7"
  },
  "varInspector": {
   "cols": {
    "lenName": 16,
    "lenType": 16,
    "lenVar": 40
   },
   "kernels_config": {
    "python": {
     "delete_cmd_postfix": "",
     "delete_cmd_prefix": "del ",
     "library": "var_list.py",
     "varRefreshCmd": "print(var_dic_list())"
    },
    "r": {
     "delete_cmd_postfix": ") ",
     "delete_cmd_prefix": "rm(",
     "library": "var_list.r",
     "varRefreshCmd": "cat(var_dic_list()) "
    }
   },
   "types_to_exclude": [
    "module",
    "function",
    "builtin_function_or_method",
    "instance",
    "_Feature"
   ],
   "window_display": false
  }
 },
 "nbformat": 4,
 "nbformat_minor": 5
}
