{
 "cells": [
  {
   "cell_type": "code",
   "execution_count": 24,
   "id": "4314d335",
   "metadata": {
    "ExecuteTime": {
     "end_time": "2022-03-24T13:23:22.985399Z",
     "start_time": "2022-03-24T13:23:22.967411Z"
    }
   },
   "outputs": [],
   "source": [
    "import pandas as pd\n",
    "import numpy as np\n",
    "import matplotlib.pyplot as plt\n",
    "import seaborn as sns"
   ]
  },
  {
   "cell_type": "code",
   "execution_count": 25,
   "id": "c664e142",
   "metadata": {
    "ExecuteTime": {
     "end_time": "2022-03-24T13:23:23.168908Z",
     "start_time": "2022-03-24T13:23:23.162943Z"
    }
   },
   "outputs": [],
   "source": [
    "from selenium import webdriver\n",
    "from selenium.webdriver.common.keys import Keys\n",
    "import os\n",
    "import urllib.request"
   ]
  },
  {
   "cell_type": "markdown",
   "id": "ea41500d",
   "metadata": {
    "ExecuteTime": {
     "end_time": "2022-03-24T13:37:33.104444Z",
     "start_time": "2022-03-24T13:37:33.094714Z"
    }
   },
   "source": [
    "# 크롤링 시도"
   ]
  },
  {
   "cell_type": "code",
   "execution_count": 26,
   "id": "a81636ca",
   "metadata": {
    "ExecuteTime": {
     "end_time": "2022-03-24T13:23:26.369366Z",
     "start_time": "2022-03-24T13:23:23.363388Z"
    }
   },
   "outputs": [],
   "source": [
    "url = 'http://www.google.com'\n",
    "driver = webdriver.Chrome()\n",
    "driver.get(url)"
   ]
  },
  {
   "cell_type": "code",
   "execution_count": 27,
   "id": "6c656bff",
   "metadata": {
    "ExecuteTime": {
     "end_time": "2022-03-24T13:23:26.414247Z",
     "start_time": "2022-03-24T13:23:26.402298Z"
    }
   },
   "outputs": [],
   "source": [
    "drink = '세종대왕 어주'"
   ]
  },
  {
   "cell_type": "code",
   "execution_count": 28,
   "id": "dc8f6ab2",
   "metadata": {
    "ExecuteTime": {
     "end_time": "2022-03-24T13:23:28.358840Z",
     "start_time": "2022-03-24T13:23:26.446163Z"
    }
   },
   "outputs": [
    {
     "name": "stderr",
     "output_type": "stream",
     "text": [
      "C:\\Users\\21ckw\\AppData\\Local\\Temp/ipykernel_12916/748574576.py:2: DeprecationWarning: find_element_by_* commands are deprecated. Please use find_element() instead\n",
      "  elem = driver.find_element_by_css_selector('body > div.L3eUgb > div.o3j99.ikrT4e.om7nvf > form > div:nth-child(1) > div.A8SBwf > div.RNNXgb > div > div.a4bIc > input')\n"
     ]
    }
   ],
   "source": [
    "# 검색창 클릭\n",
    "elem = driver.find_element_by_css_selector('body > div.L3eUgb > div.o3j99.ikrT4e.om7nvf > form > div:nth-child(1) > div.A8SBwf > div.RNNXgb > div > div.a4bIc > input')\n",
    "\n",
    "# 전통주 검색\n",
    "elem.send_keys(drink)\n",
    "\n",
    "# 엔터\n",
    "elem.send_keys(Keys.RETURN)"
   ]
  },
  {
   "cell_type": "code",
   "execution_count": 29,
   "id": "22733058",
   "metadata": {
    "ExecuteTime": {
     "end_time": "2022-03-24T13:23:30.032610Z",
     "start_time": "2022-03-24T13:23:28.391750Z"
    }
   },
   "outputs": [
    {
     "name": "stderr",
     "output_type": "stream",
     "text": [
      "C:\\Users\\21ckw\\AppData\\Local\\Temp/ipykernel_12916/2660071243.py:2: DeprecationWarning: find_element_by_* commands are deprecated. Please use find_element() instead\n",
      "  driver.find_element_by_css_selector('#hdtb-msb > div:nth-child(1) > div > div:nth-child(2) > a').click()\n"
     ]
    }
   ],
   "source": [
    "# 이미지 카테고리 클릭\n",
    "driver.find_element_by_css_selector('#hdtb-msb > div:nth-child(1) > div > div:nth-child(2) > a').click()"
   ]
  },
  {
   "cell_type": "code",
   "execution_count": 8,
   "id": "785ab1bc",
   "metadata": {
    "ExecuteTime": {
     "end_time": "2022-03-24T13:17:45.124475Z",
     "start_time": "2022-03-24T13:17:34.963796Z"
    }
   },
   "outputs": [
    {
     "name": "stderr",
     "output_type": "stream",
     "text": [
      "C:\\Users\\21ckw\\AppData\\Local\\Temp/ipykernel_12916/4170767260.py:18: DeprecationWarning: find_element_by_* commands are deprecated. Please use find_element() instead\n",
      "  driver.find_element_by_css_selector(\".mye4qd\").click()\n"
     ]
    }
   ],
   "source": [
    "# 스크롤을 끝까지 내리는 코드\n",
    "\n",
    "import time\n",
    "\n",
    "SCROLL_PAUSE_TIME = 2\n",
    "\n",
    "last_height = driver.execute_script(\"return document.body.scrollHeight\")\n",
    "\n",
    "while True: \n",
    "    driver.execute_script('window.scrollTo(0, document.body.scrollHeight);')\n",
    "    time.sleep(SCROLL_PAUSE_TIME)\n",
    "    \n",
    "    new_height = driver.execute_script('return document.body.scrollHeight')\n",
    "    \n",
    "    if new_height == last_height:\n",
    "        try:\n",
    "            time.sleep(SCROLL_PAUSE_TIME)\n",
    "            driver.find_element_by_css_selector(\".mye4qd\").click()\n",
    "        except:\n",
    "            break\n",
    "    last_height = new_height"
   ]
  },
  {
   "cell_type": "code",
   "execution_count": null,
   "id": "bd5674dd",
   "metadata": {
    "ExecuteTime": {
     "end_time": "2022-03-24T11:29:03.898814Z",
     "start_time": "2022-03-24T11:29:03.817280Z"
    }
   },
   "outputs": [],
   "source": []
  },
  {
   "cell_type": "code",
   "execution_count": 31,
   "id": "a9cf6839",
   "metadata": {
    "ExecuteTime": {
     "end_time": "2022-03-24T13:24:00.694526Z",
     "start_time": "2022-03-24T13:24:00.669689Z"
    }
   },
   "outputs": [
    {
     "name": "stderr",
     "output_type": "stream",
     "text": [
      "C:\\Users\\21ckw\\AppData\\Local\\Temp/ipykernel_12916/2299153414.py:2: DeprecationWarning: find_elements_by_* commands are deprecated. Please use find_elements() instead\n",
      "  images = driver.find_elements_by_css_selector('#islrg > div.islrc > div> a.wXeWr.islib.nfEiy')\n"
     ]
    }
   ],
   "source": [
    "# images 전체 \n",
    "images = driver.find_elements_by_css_selector('#islrg > div.islrc > div> a.wXeWr.islib.nfEiy')"
   ]
  },
  {
   "cell_type": "code",
   "execution_count": 32,
   "id": "44f43d2e",
   "metadata": {
    "ExecuteTime": {
     "end_time": "2022-03-24T13:24:01.166509Z",
     "start_time": "2022-03-24T13:24:01.148558Z"
    }
   },
   "outputs": [
    {
     "data": {
      "text/plain": [
       "47"
      ]
     },
     "execution_count": 32,
     "metadata": {},
     "output_type": "execute_result"
    }
   ],
   "source": [
    "# images 전체 \n",
    "images = driver.find_elements_by_css_selector('#islrg > div.islrc > div> a.wXeWr.islib.nfEiy')\n",
    "len(images)"
   ]
  },
  {
   "cell_type": "code",
   "execution_count": 33,
   "id": "818c7e3f",
   "metadata": {
    "ExecuteTime": {
     "end_time": "2022-03-24T13:24:03.363649Z",
     "start_time": "2022-03-24T13:24:03.350765Z"
    }
   },
   "outputs": [
    {
     "name": "stdout",
     "output_type": "stream",
     "text": [
      "0 <selenium.webdriver.remote.webelement.WebElement (session=\"c81eb7f14aaecc66fbd720afa60e8333\", element=\"e2cc6523-d591-439c-acbc-3f346b3e9aa6\")>\n",
      "1 <selenium.webdriver.remote.webelement.WebElement (session=\"c81eb7f14aaecc66fbd720afa60e8333\", element=\"5f340ec1-f940-4b30-8bb1-f8b8719b2de7\")>\n",
      "2 <selenium.webdriver.remote.webelement.WebElement (session=\"c81eb7f14aaecc66fbd720afa60e8333\", element=\"f5c60543-1afd-4e7a-8c80-7c6f571fc352\")>\n"
     ]
    }
   ],
   "source": [
    "for i,img in enumerate(images[:3]):\n",
    "    print(i,img)"
   ]
  },
  {
   "cell_type": "code",
   "execution_count": 34,
   "id": "5d67205d",
   "metadata": {
    "ExecuteTime": {
     "end_time": "2022-03-24T13:24:04.883847Z",
     "start_time": "2022-03-24T13:24:04.875871Z"
    }
   },
   "outputs": [
    {
     "data": {
      "text/plain": [
       "<module 'ntpath' from 'C:\\\\Users\\\\21ckw\\\\anaconda3\\\\lib\\\\ntpath.py'>"
      ]
     },
     "execution_count": 34,
     "metadata": {},
     "output_type": "execute_result"
    }
   ],
   "source": [
    "os.path"
   ]
  },
  {
   "cell_type": "code",
   "execution_count": 35,
   "id": "b2f7bcd0",
   "metadata": {
    "ExecuteTime": {
     "end_time": "2022-03-24T13:24:06.260218Z",
     "start_time": "2022-03-24T13:24:06.244225Z"
    }
   },
   "outputs": [],
   "source": [
    "def createFolder(directory):\n",
    "    try:\n",
    "        if not os.path.exists(directory):\n",
    "            os.makedirs(directory) # 해당 directory가 없으면 파일 생성\n",
    "    except OSError:\n",
    "        print(\"Error: Failed to create the directory.\")"
   ]
  },
  {
   "cell_type": "code",
   "execution_count": 36,
   "id": "2341d5f8",
   "metadata": {
    "ExecuteTime": {
     "end_time": "2022-03-24T13:24:07.844576Z",
     "start_time": "2022-03-24T13:24:07.836556Z"
    }
   },
   "outputs": [],
   "source": [
    "# 폴더 생성\n",
    "directory = './drinks/'+ drink\n",
    "createFolder(directory)\n",
    "\n",
    "count= 0"
   ]
  },
  {
   "cell_type": "code",
   "execution_count": null,
   "id": "b4f36a88",
   "metadata": {
    "ExecuteTime": {
     "end_time": "2022-03-24T13:34:51.420889Z",
     "start_time": "2022-03-24T13:34:47.199374Z"
    },
    "scrolled": true
   },
   "outputs": [],
   "source": []
  },
  {
   "cell_type": "code",
   "execution_count": 43,
   "id": "4e5cca4c",
   "metadata": {
    "ExecuteTime": {
     "end_time": "2022-03-24T13:36:25.559359Z",
     "start_time": "2022-03-24T13:36:16.084741Z"
    }
   },
   "outputs": [
    {
     "name": "stderr",
     "output_type": "stream",
     "text": [
      "C:\\Users\\21ckw\\AppData\\Local\\Temp/ipykernel_12916/1579156375.py:7: DeprecationWarning: find_element_by_* commands are deprecated. Please use find_element() instead\n",
      "  ImgUrl = driver.find_element_by_xpath('//*[@id=\"islrg\"]/div[1]/div[1]/a[1]/div[1]/img').get_attribute('src')\n"
     ]
    },
    {
     "name": "stdout",
     "output_type": "stream",
     "text": [
      "0 data:image/jpeg;base64,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\n",
      "1 data:image/jpeg;base64,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\n"
     ]
    },
    {
     "name": "stdout",
     "output_type": "stream",
     "text": [
      "2 data:image/jpeg;base64,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\n"
     ]
    }
   ],
   "source": [
    "for i,img in enumerate(images):\n",
    "    try:\n",
    "        img.click() # 작은 썸네일에서 큰 사진 받기위해 클릭\n",
    "        time.sleep(2)\n",
    "#         ImgUrl = driver.find_element_by_css_selector('#Sva75c > div > div > div.pxAole > div.tvh9oe.BIB1wf > \\\n",
    "#         c-wiz > div > div.OUZ5W > div.zjoqD > div.qdnLaf.isv-id > div > a > img')\n",
    "        ImgUrl = driver.find_element_by_xpath('//*[@id=\"islrg\"]/div[1]/div[1]/a[1]/div[1]/img').get_attribute('src')\n",
    "        \n",
    "        time.sleep(1)\n",
    "        \n",
    "        print(i, ImgUrl)\n",
    "        \n",
    "        # 파일에 직접 저장하기\n",
    "        urllib.request.urlretrieve(ImgUrl, directory + drink + str(count) + \".jpg\")\n",
    "        count = count + 1\n",
    "        if count >= 10:\n",
    "            break\n",
    "    except:\n",
    "            pass"
   ]
  },
  {
   "cell_type": "markdown",
   "id": "af0cf15f",
   "metadata": {},
   "source": [
    "# 전통주 목록 받기"
   ]
  },
  {
   "cell_type": "code",
   "execution_count": 12,
   "id": "2d31d63e",
   "metadata": {
    "ExecuteTime": {
     "end_time": "2022-03-24T14:48:37.982758Z",
     "start_time": "2022-03-24T14:48:37.946940Z"
    }
   },
   "outputs": [
    {
     "data": {
      "text/html": [
       "<div>\n",
       "<style scoped>\n",
       "    .dataframe tbody tr th:only-of-type {\n",
       "        vertical-align: middle;\n",
       "    }\n",
       "\n",
       "    .dataframe tbody tr th {\n",
       "        vertical-align: top;\n",
       "    }\n",
       "\n",
       "    .dataframe thead th {\n",
       "        text-align: right;\n",
       "    }\n",
       "</style>\n",
       "<table border=\"1\" class=\"dataframe\">\n",
       "  <thead>\n",
       "    <tr style=\"text-align: right;\">\n",
       "      <th></th>\n",
       "      <th>Unnamed: 0</th>\n",
       "      <th>전통주이름</th>\n",
       "    </tr>\n",
       "  </thead>\n",
       "  <tbody>\n",
       "    <tr>\n",
       "      <th>0</th>\n",
       "      <td>0</td>\n",
       "      <td>1000억 유산균 막걸리</td>\n",
       "    </tr>\n",
       "    <tr>\n",
       "      <th>1</th>\n",
       "      <td>1</td>\n",
       "      <td>1932 새싹땅콩+햅쌀/흑미</td>\n",
       "    </tr>\n",
       "    <tr>\n",
       "      <th>2</th>\n",
       "      <td>2</td>\n",
       "      <td>2017년 햅쌀로 빚은 첫술</td>\n",
       "    </tr>\n",
       "    <tr>\n",
       "      <th>3</th>\n",
       "      <td>3</td>\n",
       "      <td>52C</td>\n",
       "    </tr>\n",
       "    <tr>\n",
       "      <th>4</th>\n",
       "      <td>4</td>\n",
       "      <td>DOK막걸리</td>\n",
       "    </tr>\n",
       "    <tr>\n",
       "      <th>...</th>\n",
       "      <td>...</td>\n",
       "      <td>...</td>\n",
       "    </tr>\n",
       "    <tr>\n",
       "      <th>701</th>\n",
       "      <td>701</td>\n",
       "      <td>황감찰</td>\n",
       "    </tr>\n",
       "    <tr>\n",
       "      <th>702</th>\n",
       "      <td>702</td>\n",
       "      <td>황도배기 햅쌀막걸리</td>\n",
       "    </tr>\n",
       "    <tr>\n",
       "      <th>703</th>\n",
       "      <td>703</td>\n",
       "      <td>황진이주</td>\n",
       "    </tr>\n",
       "    <tr>\n",
       "      <th>704</th>\n",
       "      <td>704</td>\n",
       "      <td>희양산 막걸리 15도</td>\n",
       "    </tr>\n",
       "    <tr>\n",
       "      <th>705</th>\n",
       "      <td>705</td>\n",
       "      <td>희양산 막걸리 9도</td>\n",
       "    </tr>\n",
       "  </tbody>\n",
       "</table>\n",
       "<p>706 rows × 2 columns</p>\n",
       "</div>"
      ],
      "text/plain": [
       "     Unnamed: 0            전통주이름\n",
       "0             0    1000억 유산균 막걸리\n",
       "1             1  1932 새싹땅콩+햅쌀/흑미\n",
       "2             2  2017년 햅쌀로 빚은 첫술\n",
       "3             3              52C\n",
       "4             4           DOK막걸리\n",
       "..          ...              ...\n",
       "701         701              황감찰\n",
       "702         702       황도배기 햅쌀막걸리\n",
       "703         703             황진이주\n",
       "704         704      희양산 막걸리 15도\n",
       "705         705       희양산 막걸리 9도\n",
       "\n",
       "[706 rows x 2 columns]"
      ]
     },
     "execution_count": 12,
     "metadata": {},
     "output_type": "execute_result"
    }
   ],
   "source": [
    "df = pd.read_csv('./data/더술_전통주리스트.csv')\n",
    "df"
   ]
  },
  {
   "cell_type": "code",
   "execution_count": 15,
   "id": "0e7a587e",
   "metadata": {
    "ExecuteTime": {
     "end_time": "2022-03-24T14:52:26.333004Z",
     "start_time": "2022-03-24T14:52:26.320009Z"
    }
   },
   "outputs": [],
   "source": [
    "drinks = df['전통주이름'].tolist()"
   ]
  },
  {
   "cell_type": "code",
   "execution_count": 16,
   "id": "21d5d90b",
   "metadata": {
    "ExecuteTime": {
     "end_time": "2022-03-24T14:52:26.649138Z",
     "start_time": "2022-03-24T14:52:26.624205Z"
    }
   },
   "outputs": [
    {
     "data": {
      "text/plain": [
       "['1000억 유산균 막걸리',\n",
       " '1932 새싹땅콩+햅쌀/흑미',\n",
       " '2017년 햅쌀로 빚은 첫술',\n",
       " '52C',\n",
       " 'DOK막걸리',\n",
       " 'G12 골디락스',\n",
       " 'SSOA-포도',\n",
       " 'The 찾을수록',\n",
       " '가야 프리미엄 막걸리',\n",
       " '가야곡왕주',\n",
       " '가평 잣 생막걸리',\n",
       " '각시탈',\n",
       " '감그린 레귤러',\n",
       " '감그린 스페셜',\n",
       " '감그린 아이스와인',\n",
       " '감사',\n",
       " '감사블루',\n",
       " '감아락 25',\n",
       " '감악산 산머루주',\n",
       " '감이슬',\n",
       " '감자술 13%',\n",
       " '강소주',\n",
       " '걍즐겨',\n",
       " '겨울소주 25',\n",
       " '경기전',\n",
       " '경산대추약주 추',\n",
       " '경성과하주',\n",
       " '경주교동법주',\n",
       " '계룡백일주 40%',\n",
       " '계룡산 산삼주 금수강산 21%',\n",
       " '계룡산 산삼주 금수강산 40%',\n",
       " '고도리 레드와인 스위트',\n",
       " '고도리 로제와인',\n",
       " '고도리 복숭아와인',\n",
       " '고도리 샤인머스캣 화이트와인',\n",
       " '고도리 아이스와인(아이스 375)',\n",
       " '고도리 징기스칸 브랜디',\n",
       " '고도리 청수 와인',\n",
       " '고도리 화이트와인 드라이',\n",
       " '고도리 화이트와인 스위트',\n",
       " '고소리술',\n",
       " '고운달 백자',\n",
       " '고운달 오크',\n",
       " '고창선운산 땡큐복분자주',\n",
       " '고창선운산 땡큐블루베리주',\n",
       " '고창선운산 복분자주 특1호',\n",
       " '고향생막걸리',\n",
       " '고향인삼막걸리',\n",
       " '고흥유자주 봄에디션',\n",
       " '곤드레생막걸리',\n",
       " '공주알밤 왕밤주',\n",
       " '공주애 오디와인',\n",
       " '과천미주',\n",
       " '과하주23',\n",
       " '관악산생막걸리',\n",
       " '광양 생 막걸리',\n",
       " '광양 생 막걸리 골드',\n",
       " '괴산 세종 찰옥수수 전통주',\n",
       " '구기홍주 14',\n",
       " '구름을 벗삼아',\n",
       " '구암대추막걸리',\n",
       " '국순당 생막걸리 대박',\n",
       " '국순당 이화주',\n",
       " '귀감',\n",
       " '그랑꼬또 M56',\n",
       " '그랑꼬또 레드와인',\n",
       " '그랑꼬또 로제와인',\n",
       " '그랑꼬또 청수',\n",
       " '그랑티그르 CE2002',\n",
       " '그랑티그르 M1988',\n",
       " '그리움',\n",
       " '금과 명주',\n",
       " '금산인삼백주',\n",
       " '금산인삼주 12.5%',\n",
       " '금산인삼주 수삼 500',\n",
       " '금설',\n",
       " '금정산성막걸리',\n",
       " '금풍양조',\n",
       " '금휘',\n",
       " '기다림 16',\n",
       " '기다림 25',\n",
       " '기다림 34',\n",
       " '기다림 맑은술',\n",
       " '김수한무',\n",
       " '김포 막걸리',\n",
       " '김포별주',\n",
       " '김포약주',\n",
       " '김포예주',\n",
       " '김포예주 프리미엄',\n",
       " '김포특주',\n",
       " '까메오 막걸리',\n",
       " '꽃 와인',\n",
       " '꿀막걸리',\n",
       " '꿀샘 16',\n",
       " '끌로너와 스위트와인',\n",
       " '나 와인',\n",
       " '나루 생 막걸리 11.5도',\n",
       " '나루 생 막걸리 6도',\n",
       " '남산애 레드와인',\n",
       " '남산애 포트와인',\n",
       " '남한산성소주',\n",
       " '내장산 복분자주 지통1호',\n",
       " '냥이탁주 9도',\n",
       " '냥이탁주 fresh',\n",
       " '너와머루와인',\n",
       " '노미',\n",
       " '녹고의 눈물',\n",
       " '녹천 소곡화주 480ml',\n",
       " '녹천 소곡화주 500ml',\n",
       " '녹파주',\n",
       " '느낌 19.8',\n",
       " '느낌 30',\n",
       " '느린마을 막걸리',\n",
       " '느린마을 약주',\n",
       " '느린마을 증류주',\n",
       " '느린마을소주21',\n",
       " '능이주',\n",
       " '니모메',\n",
       " '님 그리다',\n",
       " '다래와인 3004',\n",
       " '다래와인 7004D',\n",
       " '다래와인 7004S',\n",
       " '다랭이팜 생막걸리',\n",
       " '다랭이팜 유자 막걸리',\n",
       " '달 1614 스위트와인',\n",
       " '달홀진주25',\n",
       " '달홀진주40',\n",
       " '담솔',\n",
       " '담양 죽력고',\n",
       " '담은',\n",
       " '당당하리',\n",
       " '대관람차',\n",
       " '대관령 복분자주',\n",
       " '대대포 막걸리',\n",
       " '대윤 가야곡 왕주',\n",
       " '대잎술',\n",
       " '대장부23',\n",
       " '대통대잎술',\n",
       " '대통주',\n",
       " '도구막걸리',\n",
       " '도깨비술 11',\n",
       " '도깨비술 7',\n",
       " '도깨비술 9',\n",
       " '도로시 머루주',\n",
       " '도문대작 생막걸리',\n",
       " '도원결의',\n",
       " '독산 53',\n",
       " '동강더덕주',\n",
       " '동래아들',\n",
       " '동몽',\n",
       " '동백꽃, 제주',\n",
       " '동백우리쌀생막걸리',\n",
       " '동정춘',\n",
       " '동짓달 기나긴 밤',\n",
       " '동학 1957',\n",
       " '동해동동주',\n",
       " '두레앙 일반증류주',\n",
       " '두레앙22',\n",
       " '두레앙목통숙성주',\n",
       " '두레앙와인',\n",
       " '두륜탁주',\n",
       " '두리향',\n",
       " '딸링 막걸리',\n",
       " '라이스퐁당',\n",
       " '라이코펜 토마토와인',\n",
       " '레돔 내추럴 스파클링 로제와인',\n",
       " '레돔 시드르',\n",
       " '레드 와인 500',\n",
       " '레드듀 RED DEW',\n",
       " '려',\n",
       " '로아19레드',\n",
       " '로아19옐로우',\n",
       " '로아19화이트',\n",
       " '로아40 레드',\n",
       " '로아40 옐로우',\n",
       " '로아40퍼플',\n",
       " '로아40화이트',\n",
       " '로얄 안동소주',\n",
       " '로제 와인 750',\n",
       " '로제와인',\n",
       " '루드베리',\n",
       " '르깔롱',\n",
       " '마주 소곡주',\n",
       " '마주 소곡화주',\n",
       " '막시모 40',\n",
       " '만강에 비친 달',\n",
       " '만품 산삼가득',\n",
       " '말이야 막걸리야',\n",
       " '맑은 문희주',\n",
       " '맑은내일 Winery 단감명작',\n",
       " '맑은내일 발효 막걸리',\n",
       " '맑은내일 스파클링 막걸리',\n",
       " '맑은내일 우포',\n",
       " '맑은내일 운암1945',\n",
       " '맑은바당',\n",
       " '맑은술 해밀',\n",
       " '매실 막걸리',\n",
       " '매실원주 허니',\n",
       " '매실탁테일',\n",
       " '매실향기 담은 술',\n",
       " '매아랑',\n",
       " '매화깊은밤',\n",
       " '매화마름',\n",
       " '매화마름 호랑이 막걸리',\n",
       " '머루이야기',\n",
       " '메로니아',\n",
       " '메로니아',\n",
       " '메밀로',\n",
       " '메밀이슬',\n",
       " '멜론서리',\n",
       " '면천두견주 360',\n",
       " '면천두견주 700',\n",
       " '명가원 복분자술',\n",
       " '명랑 스컬',\n",
       " '명인 안동소주',\n",
       " '명인 안동소주 22%',\n",
       " '명인 안동소주 양반탈',\n",
       " '명인 안동소주 하회탈',\n",
       " '명인 홍삼주',\n",
       " '명작복분자',\n",
       " '명품홍주',\n",
       " '모든날에',\n",
       " '모리',\n",
       " '모월 로',\n",
       " '모월 연',\n",
       " '모월 인',\n",
       " '모월 청',\n",
       " '모월로미니',\n",
       " '모월인미니',\n",
       " '모을동주 약주',\n",
       " '무주구천동머루와인',\n",
       " '무주구천동산머루주',\n",
       " '문경바람 백자 25',\n",
       " '문경바람 백자 40',\n",
       " '문경바람 오크',\n",
       " '문배술',\n",
       " '문배술 헤리티지 25도',\n",
       " '문배술 헤리티지 40도',\n",
       " '문삼이공(moon320) 잣 주',\n",
       " '문희 탁주',\n",
       " '미담',\n",
       " '미르',\n",
       " '미르아토 로제와인',\n",
       " '미르아토 증류주 tears of god',\n",
       " '미르아토 청수 스위트 (화이트)와인',\n",
       " '미상25',\n",
       " '미생 막걸리',\n",
       " '미소 생막걸리',\n",
       " '미소 아이스',\n",
       " '미인약주',\n",
       " '미인탁주',\n",
       " '민들레대포',\n",
       " '민속주 안동소주',\n",
       " '바나나 주',\n",
       " '바랑 탁',\n",
       " '밤꽃향기',\n",
       " '밤빛머루',\n",
       " '방문주 약주',\n",
       " '방문주 탁주',\n",
       " '배꽃 필 무렵',\n",
       " '배꽃담은연',\n",
       " '배도가 로아 40도 옐로우',\n",
       " '배도가 심플리 애플',\n",
       " '백년친구 쌀막걸리',\n",
       " '백년친구 풍기홍삼막걸리',\n",
       " '백년향',\n",
       " '백련 맑은술',\n",
       " '백련 생막걸리 snow (스노우)',\n",
       " '백수환동주',\n",
       " '백운 복분자 와인',\n",
       " '백운복분자주',\n",
       " '백이주',\n",
       " '백자주',\n",
       " '백제한산군주',\n",
       " '뱅꼬레 레드와인',\n",
       " '뱅꼬레 로제와인',\n",
       " '뱅꼬레 아이스와인',\n",
       " '뱅꼬레 화이트와인',\n",
       " '베리와인1168 스위트와인',\n",
       " '베베마루 설레임 로제 스위트와인',\n",
       " '베베마루 캠밸로제',\n",
       " '베베마루 캠벨로제 스위트',\n",
       " '별바랑',\n",
       " '별산막걸리',\n",
       " '별산오디 스파클링 막걸리',\n",
       " '병영설성 동동주',\n",
       " '병영설성 생막걸리',\n",
       " '병영설성사또',\n",
       " '병영소주',\n",
       " '보리수헤는밤',\n",
       " '보성 강하주',\n",
       " '복단지',\n",
       " '복단지 350',\n",
       " '복분자아락40',\n",
       " '복분자음',\n",
       " '복분자주 360',\n",
       " '복순도가 손막걸리',\n",
       " '복순도가 약주',\n",
       " '복순도가 탁주',\n",
       " '복숭아와인',\n",
       " '볼빨간막걸리 10',\n",
       " '볼빨간막걸리 7',\n",
       " '볼빨간미자',\n",
       " '봇뜰 막걸리 10도',\n",
       " '봉하쌀 생막걸리',\n",
       " '부안참뽕막걸리',\n",
       " '부안참뽕와인',\n",
       " '부자',\n",
       " '부자 송산포도',\n",
       " '부자진 배치#0001',\n",
       " '부자진 오미자 진',\n",
       " '북극곰 막걸리',\n",
       " '불로생우리쌀막걸리',\n",
       " '불소곡주',\n",
       " '붉은 원숭이',\n",
       " '블루베리 이야기',\n",
       " '빙탄복',\n",
       " '빨간쌀막걸리',\n",
       " '사과와인',\n",
       " '사미인주',\n",
       " '사시통음주',\n",
       " '사십오도',\n",
       " '사임주',\n",
       " '산내울 복분자주',\n",
       " '산내울 사과애주',\n",
       " '산내울 오미자주',\n",
       " '산막 생유 막걸리',\n",
       " '산막생대덕주',\n",
       " '산막와이너리 증류주 환희',\n",
       " '산머루 크라테 드라이',\n",
       " '산머루 크라테 로제',\n",
       " '산머루 크라테 스위트',\n",
       " '산머루와인 깊은맛 드라이',\n",
       " '산머루와인 달콤한 스위트',\n",
       " '산삼가득 명술',\n",
       " '산정호수 동정춘막걸리',\n",
       " '산천어막걸리',\n",
       " '삼선',\n",
       " '삼양춘 생약주',\n",
       " '삼양춘 생탁주',\n",
       " '삼양춘 스파클링',\n",
       " '삼양춘 청주',\n",
       " '삼해소주',\n",
       " '새송이 쌀막걸리 정',\n",
       " '생 청주 막걸리',\n",
       " '생탁주',\n",
       " '샤토미소 랑',\n",
       " '샤토미소 레드 드라이',\n",
       " '샤토미소 레드 스위트',\n",
       " '샤토미소 로제스위트와인',\n",
       " '샤토미소 아이스와인',\n",
       " '샤토미소 영동',\n",
       " '샤토미소 웨딩 자두와인',\n",
       " '샹스프랑보아즈',\n",
       " '서설',\n",
       " '서울의 밤',\n",
       " '서주 16%',\n",
       " '석로주',\n",
       " '석탄주 약주',\n",
       " '석탄주 탁주',\n",
       " '선비 보드카',\n",
       " '선비 진',\n",
       " '선운산 복분자와인',\n",
       " '선운산 복분자주',\n",
       " '선운산 복분자주 프리미엄',\n",
       " '선운산의 아침 복분자 막걸리',\n",
       " '선호 생막걸리',\n",
       " '설궁',\n",
       " '설련주',\n",
       " '설성 만월 막걸리',\n",
       " '설하담',\n",
       " '성읍민속마을 오메기술',\n",
       " '성포 생막걸리',\n",
       " '세오녀탁주',\n",
       " '세우리',\n",
       " '세인트하우스 모과와인',\n",
       " '세인트하우스 살구와인',\n",
       " '세종 쌀막걸리',\n",
       " '세종 알밤주',\n",
       " '세종 오가닉',\n",
       " '세종대왕어주 약주',\n",
       " '세종대왕어주 탁주',\n",
       " '세종청주생막걸리',\n",
       " '소계리 595 스위트 레드와인',\n",
       " '소나무와 학',\n",
       " '소백산(샤토소백) 스위트 레드와인',\n",
       " '소양강 생 막걸리',\n",
       " '소여강',\n",
       " '소여강 25%',\n",
       " '소호',\n",
       " '손가네 태종대 개똥쑥생막걸리',\n",
       " '솔송주',\n",
       " '송로주',\n",
       " '송명섭 막걸리',\n",
       " '송이주',\n",
       " '송화백일주',\n",
       " '수삼단본 720',\n",
       " '수성 프리미엄 백주43',\n",
       " '순향주',\n",
       " '술공방 9.0 막걸리',\n",
       " '술그리다 생탁주',\n",
       " '술샘16',\n",
       " '술샘19',\n",
       " '술아 국화주',\n",
       " '술아 매화주',\n",
       " '술아 순곡주',\n",
       " '술아 연화주',\n",
       " '술아 핸드메이드 막걸리',\n",
       " '술예쁘다 생탁주',\n",
       " '술취한 원숭이',\n",
       " '술헤는밤',\n",
       " '스타베리오디',\n",
       " '스파클링와인',\n",
       " '스파클링와인 오미로제 결',\n",
       " '시나브로 드 글로리아',\n",
       " '시나브로 레드 드라이',\n",
       " '시나브로 레드 스위트',\n",
       " '시나브로 로제와인',\n",
       " '시나브로 에뚜왈 로제 스파클링',\n",
       " '시나브로 에뚜왈 화이트 스파클링와인',\n",
       " '시나브로 청수 화이트',\n",
       " '시인의마을',\n",
       " '시향가',\n",
       " '시향가 미니캔막걸리',\n",
       " '신례명주',\n",
       " '신선주',\n",
       " '신애유자',\n",
       " '심술 10',\n",
       " '심술 7',\n",
       " '심술 알쓰',\n",
       " '심술6 막걸리',\n",
       " '씨(C) 그린막걸리',\n",
       " '씨(C) 막걸리 시그니처 큐베',\n",
       " '씨(C) 옐로막걸리',\n",
       " '아띠',\n",
       " '아리아리',\n",
       " '아우내',\n",
       " '아이스 375',\n",
       " '아이싱 자몽',\n",
       " '아이엠더문',\n",
       " '아이원 막걸리',\n",
       " '아임프리',\n",
       " '아임프리6.0',\n",
       " '아황주',\n",
       " '악양생막걸리',\n",
       " '안동소주 일품 17도',\n",
       " '안동소주 일품 21도',\n",
       " '안동소주 일품 40도 골드',\n",
       " '안성맞춤 생막걸리',\n",
       " '안양동동주',\n",
       " '애석',\n",
       " '애피소드 상그리아',\n",
       " '애피소드 애플',\n",
       " '애피소드호프',\n",
       " '야관문 쌀 막걸리',\n",
       " '양조학당 뜰',\n",
       " '양지백주',\n",
       " '양촌 생 동동주',\n",
       " '양촌 생 막걸리',\n",
       " '양촌 우렁이쌀 청주',\n",
       " '어우야',\n",
       " '얼떨결에',\n",
       " '엄청주',\n",
       " '에델 미디움 스위트와인',\n",
       " '에델 스위트와인',\n",
       " '여민락주',\n",
       " '여포의 꿈 (화이트)',\n",
       " '여포의 꿈 레드(Dry)',\n",
       " '여포의 꿈 레드(SWEET)',\n",
       " '역전주',\n",
       " '연오랑탁주',\n",
       " '연천 아주',\n",
       " '연천 연주',\n",
       " '연천 우주',\n",
       " '영일만친구 막걸리',\n",
       " '영탁막걸리',\n",
       " '예담은 한산소곡주',\n",
       " '예밀와인 레드 드라이',\n",
       " '예밀와인 레드 스위트',\n",
       " '예밀와인 로제',\n",
       " '예술주조 `무작`',\n",
       " '예주',\n",
       " '예천주 사월24',\n",
       " '예천주 사월365',\n",
       " '예천주복 만월24',\n",
       " '예천주복 만월40',\n",
       " '예화',\n",
       " '옛날막걸리 古',\n",
       " '오 마이 갓',\n",
       " '오가피와인',\n",
       " '오계리 아이스와인',\n",
       " '오곡 진상주',\n",
       " '오드린 베베마루 아내를 위한',\n",
       " '오디랑',\n",
       " '오디아락40',\n",
       " '오디여라',\n",
       " '오매락',\n",
       " '오매락퍽',\n",
       " '오매백주',\n",
       " '오메기 맑은술',\n",
       " '오메기술',\n",
       " '오목대',\n",
       " '오미로제 스파클링 와인',\n",
       " '오미로제 연',\n",
       " '오미로제 프리미어와인',\n",
       " '오미시앙 스페셜',\n",
       " '오미자 생막걸리',\n",
       " '오산막걸리',\n",
       " '오크와인',\n",
       " '오희 스파클링 막걸리',\n",
       " '왕매실 막걸리',\n",
       " '왕율주',\n",
       " '왕피천을 품은 미소생막걸리',\n",
       " '요새로제',\n",
       " '우곡생주',\n",
       " '우곡주',\n",
       " '우도 땅콩 전통주',\n",
       " '우도땅콩전통주',\n",
       " '우렁이쌀 손 막걸리',\n",
       " '우렁이쌀 손막걸리 DRY',\n",
       " '우리밀 막걸리 향수',\n",
       " '울금생막걸리 정',\n",
       " '원매',\n",
       " '원매',\n",
       " '원매 프리미엄',\n",
       " '원매 프리미엄',\n",
       " '원조소곡주',\n",
       " '월매 쌀막걸리(캔)',\n",
       " '위 (we)레드 (2018)와인',\n",
       " '유기농 이도 32',\n",
       " '유기농 이도 42',\n",
       " '유기농이도 14',\n",
       " '유자향주',\n",
       " '육십일도',\n",
       " '율무 동동주',\n",
       " '은자골 생 탁배기',\n",
       " '의림소주',\n",
       " '이담',\n",
       " '이도 22',\n",
       " '이동 생 쌀 막걸리',\n",
       " '이상헌 소주',\n",
       " '이상헌 약주',\n",
       " '이천쌀생막걸리',\n",
       " '이화백주 순탁주',\n",
       " '이화주',\n",
       " '인사이더 블루베리',\n",
       " '인생막걸리',\n",
       " '인어교주해적술',\n",
       " '인천 생 소성주',\n",
       " '일엽편주',\n",
       " '일엽편주',\n",
       " '일엽편주',\n",
       " '일지춘',\n",
       " '입술',\n",
       " '입장탁주',\n",
       " '자두와인',\n",
       " '자연담은 복분자막걸리',\n",
       " '자연송이주',\n",
       " '자희향',\n",
       " '자희향 국화주',\n",
       " '자희향 나비',\n",
       " '장수 생막걸리',\n",
       " '장수 오미자주',\n",
       " '장수홍삼주',\n",
       " '장홍삼 장수 막걸리',\n",
       " '정감생막걸리',\n",
       " '정고집 나주배 약주 15%',\n",
       " '정고집 나주배 약주 9%',\n",
       " '제주감귤주 귤로만',\n",
       " '제주낭만',\n",
       " '제주몬순커피주',\n",
       " '제주술익는집 고소리술',\n",
       " '젤코바 스페셜와인',\n",
       " '젤코바 캠벨와인',\n",
       " '젤코바 프리미엄 와인',\n",
       " '조선주조사',\n",
       " '주교주',\n",
       " '주몽복분자주',\n",
       " '주산지 막걸리',\n",
       " '주향담을',\n",
       " '주향아라',\n",
       " '주홍춘',\n",
       " '죽력고',\n",
       " '죽향 생 막걸리',\n",
       " '죽향41',\n",
       " '줄포 생막걸리',\n",
       " '지란지교',\n",
       " '지란지교 무화과 탁주',\n",
       " '지란지교 약주',\n",
       " '지리산 강쇠',\n",
       " '지리산 정담 생쌀 막걸리',\n",
       " '지리산 허브잎술 쌀 막걸리',\n",
       " '지장수 호박 생 막걸리',\n",
       " '지장수 호박막걸리',\n",
       " '지평 생 쌀막걸리',\n",
       " '지평 생 옛막걸리',\n",
       " '지평 이랑이랑',\n",
       " '진도홍주 루비콘',\n",
       " '진도홍주 아라리35%, 루비콘40%',\n",
       " '진도홍주, 만홍',\n",
       " '진맥 소주',\n",
       " '진맥소주 22%',\n",
       " '진심홍삼인삼주 38%, 19%',\n",
       " '진쾌남',\n",
       " '징기스칸',\n",
       " '참동이 허브잎술',\n",
       " '찹쌀 생막걸리 12도',\n",
       " '찹쌀생막걸리 9도',\n",
       " '천마이야기 막걸리',\n",
       " '천매',\n",
       " '천비향 오양주 약주',\n",
       " '천비향 오양주 탁주',\n",
       " '천비향 화주',\n",
       " '천안연미주',\n",
       " '천지향 증류주',\n",
       " '청명주',\n",
       " '청명주 750',\n",
       " '청세주',\n",
       " '청양둔송구기주',\n",
       " '청주신선주탁주',\n",
       " '청진주',\n",
       " '초련 주정강화 와인',\n",
       " '초선의 꿈',\n",
       " '추사 로제',\n",
       " '추사 블루베리 와인',\n",
       " '추사 애플와인',\n",
       " '추사40',\n",
       " '추사47',\n",
       " '추사백25',\n",
       " '추사백40 사과 증류식 소주',\n",
       " '추성주',\n",
       " '커피냑',\n",
       " '커피와인 톡시',\n",
       " '코이버펑크, 머스캣 베일리 에이 2017',\n",
       " '코이버펑크, 샤르도네 세미용 2018',\n",
       " '코이버펑크, 카베르네 소비뇽 2019',\n",
       " '쿨샷 7.5',\n",
       " '키위술',\n",
       " '타락40',\n",
       " '타미앙스',\n",
       " '토끼 소주',\n",
       " '토끼구름',\n",
       " '톡 한잔 소주',\n",
       " '톡쏘는 고구마동동',\n",
       " '톡쏘는 쌀 막걸리',\n",
       " '톡쏘는 알밤동동',\n",
       " '톡쏘는 옥수수동동',\n",
       " '티나(TINA)',\n",
       " '팔공산미나리 생막걸리',\n",
       " '팔팔막걸리',\n",
       " '편백숲 산소막걸리',\n",
       " '편백숲 산소막걸리 딸기 스파클링',\n",
       " '편백숲 산소막걸리 순수령',\n",
       " '편백숲 산소막걸리 순수령 8%',\n",
       " '편백숲 산소막걸리 스파클링',\n",
       " '포엠 로제와인',\n",
       " '포엠 화이트와인',\n",
       " '포항불로주',\n",
       " '풍정사계 동(冬)',\n",
       " '풍정사계 추(秋)',\n",
       " '풍정사계 춘(春)',\n",
       " '프리미엄 애플와인 한스오차드',\n",
       " '필',\n",
       " '필',\n",
       " '하얀까마귀',\n",
       " '하얀연꽃 백련막걸리',\n",
       " '하얀연꽃 백련맑은 술',\n",
       " '하얀연꽃 백련생막걸리',\n",
       " '하향주',\n",
       " '한강의설레임',\n",
       " '한비 동충하초술',\n",
       " '한비 무병장수술',\n",
       " '한비 쌀소주',\n",
       " '한비 오가피술',\n",
       " '한비 유자술',\n",
       " '한비오가피술골드',\n",
       " '한산 소곡화주',\n",
       " '한산소곡주',\n",
       " '한산예담은 한산소곡화주',\n",
       " '한스오차드 사과와인',\n",
       " '한주',\n",
       " '해남진양주',\n",
       " '해방주',\n",
       " '해창 막걸리 9도',\n",
       " '행운 생유자 동동주',\n",
       " '허니문',\n",
       " '허니비',\n",
       " '헤베',\n",
       " '호담 300ml',\n",
       " '호담 산양산삼 막걸리',\n",
       " '호두땅콩막걸리',\n",
       " '호랑이 생 막걸리',\n",
       " '호랑이배꼽',\n",
       " '호모루덴스',\n",
       " '혼',\n",
       " '혼디주',\n",
       " '홍삼명주',\n",
       " '홍시와인',\n",
       " '홍천강 탁주',\n",
       " '화요 41%, 25%, 17%',\n",
       " '화주',\n",
       " '황감찰',\n",
       " '황도배기 햅쌀막걸리',\n",
       " '황진이주',\n",
       " '희양산 막걸리 15도',\n",
       " '희양산 막걸리 9도']"
      ]
     },
     "execution_count": 16,
     "metadata": {},
     "output_type": "execute_result"
    }
   ],
   "source": [
    "drinks"
   ]
  },
  {
   "cell_type": "markdown",
   "id": "b8efe347",
   "metadata": {},
   "source": [
    "# 작동코드"
   ]
  },
  {
   "cell_type": "code",
   "execution_count": 10,
   "id": "52e7ccff",
   "metadata": {
    "ExecuteTime": {
     "end_time": "2022-03-24T14:39:54.519918Z",
     "start_time": "2022-03-24T14:39:54.502965Z"
    }
   },
   "outputs": [],
   "source": [
    "import pandas as pd\n",
    "import numpy as np\n",
    "import matplotlib.pyplot as plt\n",
    "import seaborn as sns\n",
    "from selenium import webdriver\n",
    "from selenium.webdriver.common.keys import Keys\n",
    "import os\n",
    "import urllib.request\n"
   ]
  },
  {
   "cell_type": "code",
   "execution_count": 11,
   "id": "02c21f18",
   "metadata": {
    "ExecuteTime": {
     "end_time": "2022-03-24T14:41:33.013508Z",
     "start_time": "2022-03-24T14:39:54.702431Z"
    }
   },
   "outputs": [
    {
     "name": "stderr",
     "output_type": "stream",
     "text": [
      "C:\\Users\\21ckw\\AppData\\Local\\Temp/ipykernel_4708/1019518348.py:17: DeprecationWarning: find_element_by_* commands are deprecated. Please use find_element() instead\n",
      "  elem = driver.find_element_by_css_selector('body > div.L3eUgb > div.o3j99.ikrT4e.om7nvf > form > div:nth-child(1) > div.A8SBwf > div.RNNXgb > div > div.a4bIc > input')\n",
      "C:\\Users\\21ckw\\AppData\\Local\\Temp/ipykernel_4708/1019518348.py:27: DeprecationWarning: find_element_by_* commands are deprecated. Please use find_element() instead\n",
      "  driver.find_element_by_css_selector('#hdtb-msb > div:nth-child(1) > div > div:nth-child(2) > a').click()\n",
      "C:\\Users\\21ckw\\AppData\\Local\\Temp/ipykernel_4708/1019518348.py:46: DeprecationWarning: find_element_by_* commands are deprecated. Please use find_element() instead\n",
      "  driver.find_element_by_css_selector(\".mye4qd\").click()\n",
      "C:\\Users\\21ckw\\AppData\\Local\\Temp/ipykernel_4708/1019518348.py:52: DeprecationWarning: find_elements_by_* commands are deprecated. Please use find_elements() instead\n",
      "  images = driver.find_elements_by_css_selector('#islrg > div.islrc > div> a.wXeWr.islib.nfEiy')\n"
     ]
    },
    {
     "name": "stdout",
     "output_type": "stream",
     "text": [
      "전체 이미지수: 257\n"
     ]
    },
    {
     "name": "stderr",
     "output_type": "stream",
     "text": [
      "C:\\Users\\21ckw\\AppData\\Local\\Temp/ipykernel_4708/1019518348.py:77: DeprecationWarning: find_element_by_* commands are deprecated. Please use find_element() instead\n",
      "  ImgUrl = driver.find_element_by_xpath('//*[@id=\"Sva75c\"]/div/div/div[3]/div[2]/c-wiz/div/div[1]/div[1]/div[2]/div/a/img').get_attribute('src')\n"
     ]
    },
    {
     "name": "stdout",
     "output_type": "stream",
     "text": [
      "0 https://file.mk.co.kr/meet/neds/2019/12/image_readtop_2019_1023648_15756660624004521.jpg\n",
      "1 http://img.danawa.com/prod_img/500000/878/337/img/5337878_1.jpg?shrink=330:330&_v=20180831173901\n",
      "2 https://s3.ap-northeast-2.amazonaws.com/meesig/v3/prod/image/item/main/564/a5c7691d96e44ccb8020b7c15b7c88a220180410124808\n",
      "3 http://img.danawa.com/prod_img/500000/739/337/img/5337739_1.jpg?shrink=330:330&_v=20180831173738\n",
      "4 https://soolfarm.co.kr/web/product/big/201911/3b53655813f296b90d71062123551310.jpg\n",
      "5 data:image/jpeg;base64,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\n"
     ]
    },
    {
     "name": "stdout",
     "output_type": "stream",
     "text": [
      "6 data:image/jpeg;base64,/9j/4AAQSkZJRgABAQAAAQABAAD/2wCEAAoHCBYWFRgVFRYZGBgYHBoeGRoaGhwaGRwcGBwcGhocHRocIS4lHB4rIRwaJjgnKy8xNTU1GiQ7QDszPy40NTEBDAwMEA8QHhISHzQrJSs0MTY2NDY0NDQ0NDQxNDQ0NDQ0NDQ0NDQ0NDQ0NDQ0NDQ0NjQ0NDQ0NDQ0NDQ0NDQ0NP/AABEIAOEA4QMBIgACEQEDEQH/xAAcAAABBQEBAQAAAAAAAAAAAAAAAgMEBQYBBwj/xABDEAACAQIDBAcEBwcEAQUBAAABAgADEQQSIQUxQVEGIjJhcYGRE0KhsQdSYnKSwdEjM4Ky0uHwFENTosIVRGNzgyT/xAAZAQEAAwEBAAAAAAAAAAAAAAAAAQIDBAX/xAAmEQACAgICAgEDBQAAAAAAAAAAAQIRAyESMRNRQQQygSJhcZGh/9oADAMBAAIRAxEAPwD2aEIQAhCEAIQhACEJTbW6Q0aAILZnHuLqfM7l84BcyFjdpUqQvUqKvcTr5AamYXaHSivVFlPs1O4Iet5vv9LTNYhzfU3vxOsmgbvHdPaK6U0dzzPUX46/CUGK6f4g9hKaDwZ29SQPhMy8YqEyaILx+luMY61iPuqo/KMPt/FHfiKn4rfKU4jw3QCavSDFL/7ip+ImLbphjUF1rM33gpHylaVjbJpaAaHBfSRi1Nqi0nH3WU+qtb4TS4H6RqTaVaTp3qQ4/I/CeV1aZBkinqBeAe5bN27h6/7qqjH6vZb8LWPwlpPnndqNLbjNBsjpfiqFhn9oo92oS2nIP2h8fCRRJ7NCZfYXTPD4iysfZVD7jkWJ5K+5vDQ90095AOwhCAEIQgBCEIAQhCAEIQgBCEIASNi8UlNSzsFUcT8hzPdI219rJh0zMbk3yqN5P5Dvnnm1NpvXbM58FHZXw/WAWO2+llSpdaN6ac/fbz90eGvfM8LmBXjF013mWIEkkbow411Ecdjmjb79BAG3o5mAUXJIAA33OgEcfY+IH+0/4TJWyLf6ml98X9DNszTOUqLxjZ54uyK//E4/hMWNl1v+J/wmb0mJaV8jJ4IwTbKrf8b/AITEHZNe/wC7f0M2mMeoAMio2uudygAtvuFa8g09osyI5QDPUVAL3BQsRnBsNCBcXHGPIxwRlqmxax/229Ix/wCj4gf7T+k2eJxyo6U7rdy17sAQFW4NuNyQPOKx+I9mjPlzEW6t7EkkAAd9yBI8svRPBGMGy63/ABv6QbZlb/jf8JmyesyrmdDoTcIVaygXzXOXT4ww2KR82S/Vy3uCNWRXA1+yw8JHlfocEYhtmVv+N/wmafo70hxmHstSnUq0vqkddfusd/gdPCWRES0jzP0T40bvA41aqB0vY8CLMDyIO4yVPO8JimpsGU2I9CORHETZ7K2otZdNGHaX8xzEvGakUlFosoQhNCoQhCAEIQgBCEIASu2ttJKCFjqT2VvqT+nMyTi8StNGdzZVFz+g755vtLHtXcu3go4KvAf3gEXH4x6zF3NyfQDkBwEjM0TWqWPOcVtJYHFbWdOIscsS05TtxEAcv3xjEVAdB6zrte43SM7WNoBN2K37en98fIzcsZl+i2zc7GoSOoV013sDrpv3bjzmjqo4PUCW45mI8LAKZhkezSK0OERLRgpV4lB/G39E6Kb80/E39MzsvQ1jMPnAUkZb9cfXUA9XwJy35gEcZV4nDoaooBHsStZ8ys1DQkFRfqq7E3sPGXJpPzT1P9MTka29PU/0xYorK2DIdPZqMihroQgQkkEXYgutuSi3hI+Jep7E+0So7io5QUlOuRmNO9hom7U75dFW5p+I/wBMSUb7Hqf6ZFiirwtF6mHCuXBbKH9qtmIUjP1R2QwBHgZ3ZmEKtUqOuV3qVOJtkDWp6Xt2VWWRRvsfiP8ATElG5oP4j+kjkTQho0Y4Ubmv4j+kQabc19T+kqSNtO0qzKQykqw3ETr0m5r6/wBowMO3F0A8T+kA2+xNspXUjQOvaW+viO4y3nkOFqNRxBxCsC69RANQFPWcNzLaA8so1nqGytoLXprUXjvHEEbwZ1QlyRhKNE+EIS5UIQhACEJTdJNpexomx673VeYvvbyGvpAMr0v2v7Sp7JT1EO8e8/E+A1HrM+L8IGp5xGeWA3m18ZLTAVXXOiMV57h6mRC4vNpRpg4BczcObeW4iZZZOMbRaKtmT/0jjeB5EE+kjObCR9nYdfaN1xuO4OLfETmFYBbA3sW115nnMsOaU3TLSiktC0J3wKHfHkMk7HGatTAAPXGhAIPPQzpbpWZouuiLhUq3NiTTtfS+j3teXWaUfTdaqMPZMVHJAqjhyMpsG1QPhyznVxmPVB3HQkakE8JxSzXJqjeK0bImILRBeR8XVYIzLl6ov1r208NZZsmh9zOEypwO2kqj6jcVbePPiJZZxaVsUKvOEyLjMXkW4QubE6EAWAJ1J5+BncPXzAkqVI3g6jnow3j9DJJJBMZqNO5wdxvGKjyrYSO5hEFpXYvai0nVXBs28g9k7xcciOPfE4/a9NEzk3voAupJ/wA5yFsksAY1WEp6222DogokFlVmLOtkDHUsB2iBwB3mJrbTZusoIUXup7Vr2DaXGtr232lZyUVsJkp+Pifyk7YG3f8AS1VzH9nUYK/2b9l/Lj3eEqUxBNMvb6x8bbvWVuPa9NSeLE+Ws1xO2ikume+Azsxv0dbb9th/ZO16lGw1OrIewfLs+Q5zZTrMAhCEAJ5t0q2j7XEMoPVpXQcrg9c+ot/DN3tfGeyo1Kn1V08TovxInlLb78efO8lASU1iSkdzRLNJBG9nNZszZlN8EzVEDG5sTfgxA+UzV5sNnm2A8SfiWmOeuOy0OzzrAbNpO75kvo1tSLW8DJOCQCmgAtpFbJHXfwb5xGGbqDz+ZnP9K7l+DTJ0P3EXgHKupU2bMLEbxraMEx/Zy3qIObr/ADCdkumZIsen2z3UoTWdi1tCF0Jt9mVeyMCfa4fPUZ1szBSFADKLr2QLzRfSK3WTut8hKXBHr4U/eHqhnm3U2v3OhbRp2eM136j24oeNvjwiHaNlgQy3tmRxuuOyd/dNWxRX4nBK4V00fKuo46CRsPtLrMGPZsCbiw0/W8kpU/YjXgBceNjbkN8z216eXVQBruHIeHeZnJ0XNEMfe+VLjmbC48JExeKDWa5UW11IFwwU3twAN/CV+GrAkW0Lnq5rb26osbXt3bpeYGjcKj97ab7+PKxnPHnJ7Y6K3AM5dSikWOvaAy7tcxsePpL0sL6mwGpPcNT8Izj3WjSd0ABCki/EgaeMzex6r5Kjs7sXKICW95yS5XW2XKFt4zojGtENlxYPmZhfP9m3VB6v6+cxO1WK1ypOgcBBw0C5b/ZuWm1r1lQC97bhYX3D4aTO7Zp0WPtChVhqSbHMdNLA+JmkE7tIpJpKhnE1md/21NwQLXpsFDDTeDruEm0cUjqMvVVbAKCSTpoCdbnS5sZEw2IV9xuePPf/AGjxx2XqpSZ2KkX0y3J1IvoN0rmxaorGVsn0RloMCLWz6HgCbAaSHjm/ZJ/m4SzoKWSzLlJJJUG9ute1zK/bIsEA3Xb8pphTtCfQvoltb/TYpKhNkPUf7jkXJ8CA38M94nza89w6D7U/1GDpuTdkGR/vJp8RlPnOxmJooQhIBlOneJtTSn9drnwT+5HpMS50l904xN8QE+oi+rEk/DLM45lkDhMSXiWeJZoAtG1mpoY0DBrTym51vpbj+syAaaRf3KD7I+UyzK4lo9lLs3BsrkmxvcaSNWw5pko28a6d+o+cvsJ2pX9IltWPeqn4W/KYfTRS2WyP4KxnkvYzj29O+7Ot/I3lc7cZM2IL16fiT6KTOt9GaL7py4qOMnXAtu8BK7DUGvhyAeoet3DKRr6yxxw60l4JOo3hPO4XNm/Kkhiq0YSpZlPePnF1jrIjtDZqcwJ0ZDrlZgbrbjuseHCJ2nhc6AADq303DXwGm6MtWyVMxJs4sbsLLlAF7b7nz490sW3aag8YCMttXCH2Ia93R83G2p0A5AWHxlknSSnkX2SEsQCR2UU2uQzcSNYbQqolw/ZcEWGptuJt3Ayj2UhVshyZc9y25+BAN9wtr5yHLimTSfZd0sL7Ye1r1A44pfqLpxB0vIO3q/swiUQFy9fqgAAuRlv/AAjf9oTtGiljUq9hGuRcgMd2XTeb7+QueUkoigHEOFLsC7NvAFr2B7h8Yg7VlXs7iUd0QgWO9lOh1HzvKraGCbL1tN2Ug31E5UrtWIJcqp7CBsjEgbyRq3K17axJxRaiwbtoQRc3LKxsPEjUHw75rHJx0ZyhbI+GokMXci+7QWHfJQbkfQn5AyGr3HVuStzrrcix1INhyt+kkbZqEimy9hxoqnIQSCSbj85Pnv4IeKvkusMCtM67s5395O8yBtsE5P4v/GTsIrLTs/aGbMe+5ufWRdrDs+DflL4/uQl0UZE9H+iPG2NegeOVx49hvhknnzLNF9H2JKY6kPdcOh/iUsP+yrOkxPbYTkJAPKek1XNi6p5Nb8KgSsdgZL22b4isf/kf+YiQZYHLxJEWbCIfdcQAUTS1hZFHIAegmfwiZ3Rbb2Hpe5+Evca0wzukWj2M4VutIvSleujc0I/Cf7xzDtrFdIVzU0b6rEeTD+wmH08t0WmjNvLHo6t6wP1VY+oy/nK1jLvo0mrvyAX11/Kdk3SKIsMW2snYA9UjuMq8S+snbNecMZfrNWtEaqZEc6yRiDYkciZW4zFKil3NgPieAHMmUfZsSAAbg8YlS9M7i6FjuuzAcBYDTh6HnM0/SF2PYNNGuA9rn1tY+Ak3DbQeoLZyALE62LJezG3C+vHh3w9ditju1kFYh0dBZL2YneCTl0BubHcIzTpIljUqrpaypdieYUkaW4XBtu4y2eomTOfZlsrFUcjQW7KjnYAE23ytxmzjdEW/XBuSvs10IbLfcSeQ1sDpIa3dbJdtV6GsTVeqAURkROwg11vfMxOjHd6eQ5XTJhnQ2DMrngAWa+nxjeI2HVY9euQvBVDWHhdgB6RFPYKBlLO7WI7Rvu3eEtFJbbIpdIh0KYPs6xJsgc2tqTe4Hx+EbNTOAcoJve+6xIvz1HD0jdd261rlmZ7DXU5iBpyAAkuvhFQIgAzG9zlBLEWJvKy2v4Gv7G0U3ULqOObdcag+IIjmHpXZcos97WA10IuSTwHpJOyqN2YsAQBxA0zG9td5/WLxeLRBlRRc6dUanuFvnEYSk9ESko7ZbO90ZluLl7HW/aI8ZB2o2qjuPzEl4dz7MNbXU28WMg7VezL4H5zrxqpGUuiuqUydZP2FUyYmgw3ipT/mAMhGrO4apZ0I4Op9GE6TE+ioRj2hnJUHku2z/wD0Vv8A7H/mMgAXlj0p6uLrC3v3/EAfzlQzywJFRgI0DGUOsetALPYtO7lvqj4nQfnJ2Oec2UmWnm4tr5DdGMY84s8uzWCGaL6ybjBnouvG1x4rr+Uq0aWNCpOTHPjKy8o2jLkzT7Dp5aNz75LeWgHymcxFAhyg35rDz3fMTXsgRAo3KAB5T0ck1x0YxWyuxL9aScHUlfiG1juGqTznOpG9aH9onr+Ov+ekyfSRrtSQ9klmYDjlyj5FvWarHm6huWnrM7tXAe1ysrZXTVTw4Gx9BNYyt2XXRUvhajp7RnBCtZUPZHcNLWtLHCVFqWbKFQ2zBSeqQ1yLDWxFzaV7VKyPlqOTnQ2tqo1Fura3nbjObSwjF3qEdXKjBrdVi2Uad5JPoZLVumWTvRpsM+cEKoGdHOoBLDsoSfrWsp43U34ReLUvSZQbXUWys7kZgCt2NgG1HPhGtkMgppnzA5VswJuBbQWABy67xcczLKlSS101AN7BiRm33Ivvv8ZAarQrEJKGttegGy5xe++xtfxtaI27tdmb2NI2t22HD7IMzVJQCy1Blyg2HVuS18rXvqLjhLJJ9kUaens+mrGoo1bdqSovqSB375msbjnqODfKmYqtrE95MnYDbCJSCsSzKSFAHu8BfgNbeUqBTsAd2txffa9zYDuvqZdRpuyCxoYupkCqbhtBfKLEb9QNQd+vKTsDs/32N7aluJtwHpKmgpdgqLma+h1FhuudTprv48Ly1qV2AyMWKpZSdLta1y1tw7uUOfFUjNxUpFxQe9JTa9wDY95/w+Ug7WPWHh+cm0beyTNa2VfmCPjaVu1NX8h8zNMX3FZ6RCYExeFTroPtL8SJ1ZL2VTz4iioHaqIP+4nUYnvWSEfhIB5d9IFDLi83B0VvMZlP8omXYz0jp7spqq03poXZSysBvynW/qPjPPa2FZTZ1KnkQR85KA1eP4ZCzBeZjLJLDYtPr35A/HT9ZWT4xbJirZfPZVsNwFvSU+MeWeIfSUmJfWeZmkbxQ2rSXReV6tH1ewnHyNKJuGw4euH+qt/PcvzPpLDFtpI2yewW5n4D/DO4t53KT8aszrZWV21naLxmq2s6jTjnLZdIsScyFe6VgaT6Dysx7hGcnQC7eVry+OV6JWiv24pyrUChihNwdQVbf6GxkYVTVORHZlfL1bHKnO99LjXdLHDYpXXOD1CCdRbQcSPIyThBSQ9QIpbgLAm/ITf8bGuy3VFyhSAQAAAQCLDQb5nukGL9kQtPMHI5nqqdABx38Nw9JdrUjTBSQxUEjcbajzhSLJmV2fg6raKFQXvdxqSLX047x6yNj6BpuUZsxZSc5FgbiwAFzYDrDuvNPjbg51BJ03akML5Tbje5U9x7onE00cAOgPcdbHjYy6kruiJNujFCoB1QNSe6x7rcfOWH/pFQqXYhSoJVAAde/gPjJe2cMoprlCoVYEDQX4Hx3iMVtv5FAKNmI42C+us1ty6Kyl7LTZLKUBUAH3ueYbyYvHhOqSFzFl19619e8zMYbaLXYBigbU5eY4C97afKSMPUUtxJ4liST53mc4tLZSM0zVoAaaW00pkfAjT4St2kev5CWSrdEHch9AJUY9uufKb4eyk+houZd9A6JqY+gOClnPgiMR/2y+szrPPQPoiwWarWrkaKoQeLnMfgo9Z0mR6rCdhIBC2ojGk+S+YLdbGxJXUC/fa3nPK8biq+IILqAq34gtfvtPYZ5BW2EcJjcSqZ2StldQQFRA7ljY36xBzKNB3mQwVrKBLHY3vHwjjUFL3IFvC+6XuytlCvTZqTKpR8tiND1VO8bjrKZG5RpFo6eynxTynrtNJj9hYlf9st90g/C9/hM/icDWU60qg//Nv0nmZoz9M6ItEQNFM+k57B/qP+Bv0inwlS37t/wN+k5eM76Za0Xuz1tSTwv66yLjHlq+zqtNEujZcq6qCRqAeG7zlHinnZktRSZSOyFUM6jRp3nUM4ZM0ROovrKXpVUNwoBtUCqz6WUMct7b+MtaJkHpGSpphkLBwR7o3EEaMRfy5TX6Zvn0RLoqq7sqZQLKKVQWvfcFAvpv1kivhhmVnCXzplUC28hc7EWLNa9uA00No3VcOCt8pZTod4F7Xtfdr8ZzEYpS3VcADRjlzDrdm7jdv+M7lZVpF1SYrfrFhwvqR3X3keMX7WQKNTqjrZtBduZGhNhFGrKVsuSmqSJjqjhCUNj3i/wnc84XkrRVmTqsS5ZyWPM79IqniA+hA1+Mf2thMpzK1gTcD5gf5uPdKlX1va2s6VFSVmEpyi6fQ89JQ2Zb25SbgE96QkBZrDjLNU0ABt5d0rllS4lYK5cjUt2EGu5N3cOPdKbaB658vlLOruTuKnyA/WVOM1dv8AOE0w9l59DJnt30dbM9hgkuLNVJqN/EAF/wCoWeRdHtlnE4inQF7OeuRwRdXPdpp4kT6DRAAABYAWAG4AbhOhmQ5CEJAOSg6UbPz0/aKOvTDeJU2zDysCPDvl/AiAeGbW2lkW4PH5zcfRdnOHqs+harcA7wMiTP8ASbYa4bEs72NJzmo391t7Ke8Hd3Humr6AV1ejUKkECpbT7ifrKpbJZoa0zz7TpuntFayF2QEgi5RmRtOV0bXulttlR7N2Z3RVVixp9q1tTorNpv6szWJwKBKRV+ogUMblAEVKgzWJDKCxGg5eMsQGHxqVLlHDWJBsdQVNiCN4sdIjGt1TImyyCD1VFmOXKVNg2hVQrHKBbdePY5uqZAN1hf3afcX+USDj6aEXdUtoOsF3nQDXiTJuG/dp9xfkJRbXwlSpVpXCezRy9tSS6KRTLXI6tydF1zBdbXEkEHF7OpXP7JPwD8hIyYCkP9tPwiVe0MKeq9VrslSmWINhmVKftGuDmbqq+UAbxrfdLmkLAC5PedT68Zm8cb6RNscSmq9lVHgAPlMV09UtUokWuoci+7XqncOR+E2uaee/SNUb2lPIzA5WsFFwTmG88OMTjqkWi97KZcOMwYm5sb6dokgjwAtujNcojK2ui2FgBoutixF78rWkbaSMaRzMCRYmy23b7G8TtHFMnZe7adWwOnEkznjFutmrZaYFrIt7gkAkHgTw7pJFSQKVbMAbg6bxu8jHfaTNrZZEs1J3NIqvFB4oBiKYdSp9eR4GZeuhVip3j/NJpy8rNs0rgOPd3+HP/Oc1xunRnONqyLhgMpNr6i/hEPiusculx48OAiFxVky8dR5GJw6jfv0Onfw1luO25GcbdJG2q65e6x+FpU4l1zNrxlnUeHRzo4+MxQUWFMENVYEXCX1H3m3Dz5S+LstPo9A+ivYgWkcWw61UZUvwQHU/xML+AHOehRqjTVFCKLKoAAG4AaAR2bGYQhCAEIQgFN0m2GmMoPQfS+qMO0jjssPC/mCRMt9FWy6uGo4mjXGV1xGvIj2VOxU8VPAz0KNul/GAVO11Rqbo98rqyG2pIcEaWG+ZrFjD5wWu7uvbK5iQl2udNNCRutbTQaHVYpARZhfuMz+2KWYoFbIQWsRvC5Cpty3qJDslUZ7YtJRmIZSFyoAucZclyQc+tzmvru5mSce3VMhI6YfM7/s1LlQAXYPus5BLWY6692slY9uqfCRF32GqPQcP+7T7i/ISm2rgi9RHXKCqOuYgF1zFSGXTU9UjfYZr67jcYc9RPuL/ACiVmMwal85uTy4brePlulnfwFRkdsYeoFR1qVKrICCKZ0Zwo32YAddNS1yMxB3mT6NwoBNyALnmZU7ZwoUHTKgqkqygM5d3BUasCFuQDbU90sqTmwzWDcbSieyWiReYXpy37VPuH+aba8wfTl/2yfcP80jL9pMOzO4prow+yflI2KvTUstiSRe4uTfv3x4m/wDm+35RRaYR0avY3TATUkDNwFwL+FyJJV76g3EhYmmWsQRcc+/WOYcFVAPfuhq9jVE1Xig8jB4oPK0LJGaIexBB3HSIzTmaCSixGHKMRwG49x3R+lZbAjv075OxlLMO8aj8xIFG7MqrqWICgC7Ek2AAG8nlNbckZKPF2jWeweq4pICzMbADeTyH6/pPZeiHRxMFRyCxqOc1VrdpjwHHKu4f3kLoX0WGHHtaoBrNfvCKfdHfzPlNdNIKlbKylejsIQmhUIQhACEIQAhCEAYxFHMO+ZbaFbKWDBlK77jvtpbeNRNhIW0MCKqFSSpO5ltmU8xcRYPPa1Sm5CsA2ugK3156iIx3ZMgdJMBjsKSS2enwqKgt3ZhY5D46d8y9faNdxY1H8F0+C6znedJ007LqDa7PdcFVDUkZSCCi2I3bhImJqrr1hp3zyrYO1q9JBkd05q18p78raa898vn6U1GHXSm/kVOnrJWdL7tBwfwXWLsN3efXW8qcLs9EqVKi5s1Qgvci2m6wt+sqMZ0iB30BoLaVDw/hkROkxUWWkB4uT/4x58fv/AoyNazzzjp7WIxC2PuDhfie+WWI6R1mBtkQcwLn1Mx+0MX7RyxzOd1zc3tx8JMcim6Qpx2MDGN3HyIgMafq+hiFccV084MwG75S3GPocmPDG/Zb4GKGNXvHkfyjGbuPpOq/2T6GRwRHJktcWh971uPnFriFO5h6yEH17Leh/Scc/YPp/aR40W5FkHE6GlWWW3Z18P7TQdFOi+IxzgUqbLTB61UllRfA++3cPO0jxjkM4XDvUdUpoXdjZVXUk/5x3Cev9BegSYQ+3q2fEMPFaYO8Lzbm3pLjor0SoYJLIC9QgZqraue4X7K/ZHneaOXjDjsrKVnYQhNCoQhCAEIQgBCEIAQhCAEIQgDbICCCAQd4OoMx22+gdKpdsOfYubnLr7MnwGq+XpNrCAeD7c6P4mh++Vgo98MzJ+LcPO0qUNQXtUuBzAb5j859GMLzPbT6HYWtc5PZsfep2Q+lsp9JSUIvtFlJo8Qq1XtclTf7H95CqVahNg1vBBf43nqO0Po0f/ZrKRydSp9VuPhKKv0Fxik3p5u9SGHpe/wlPFD0OT9mAqUWftM7eP6DSM/6QcL+d5r63R2ulw1Nx4o36SI2x25eoIl0kuh2Zd8N4xAoa77TUHYrWvYf9olNg1G7KO33Udr+imTZFGYehEmkRxmzo9BcdUNlwz2PvOUQD8ZB+Bmj2b9ElZh+2rJTHEJd2HgTYD4yQeTml4y02H0bxOMbLh6TOL2L7qa+LnT5nunuexvo0wFAhmRq7D3qpDAeCABR6TYU6YUBVAAGgAFgByAG6SQeYdF/ohpU7PjWFZ9/s1JFMHvbRm+A7p6dQoqihUUKq6BVAAA5ADdHoQAhCEAIQhACEIQAhCEAIQhACEIQAhCEAIQhAOTsIQDkDCEA426RKk7CQBKyXT3QhCAoQEISQdhCEAIQhACEIQAhCEAIQhACEIQD/9k=\n"
     ]
    },
    {
     "name": "stdout",
     "output_type": "stream",
     "text": [
      "7 https://s3.ap-northeast-2.amazonaws.com/meesig/v3/prod/image/item/main/564/73d694e84cdd4b99ae2ae54d642f1ab920180410124809\n",
      "8 https://sooldamhwa-static-files.s3.ap-northeast-2.amazonaws.com/content_images/contents_images-1623070804693-%EC%84%B8%EC%A2%85%EB%8C%80%EC%99%95%EC%96%B4%EC%A3%BC2%EB%B3%91%20%EC%84%A0%EB%AC%BC%EC%84%B8%ED%8A%B8-3.jpg\n",
      "전체 이미지수: 672\n",
      "4 data:image/jpeg;base64,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\n",
      "5 https://s3.ap-northeast-2.amazonaws.com/meesig/v3/prod/image/item/main/500/f132968270d44c1b8bc390bb3a41f66a20180109121707\n",
      "6 https://t3.daumcdn.net/thumb/R720x0.fjpg/?fname=http://t1.daumcdn.net/brunch/service/user/6Thj/image/DZGNIj91rLxPJMrshqz7-5w_1wA.jpg\n",
      "7 https://upload.wikimedia.org/wikipedia/commons/thumb/b/bb/Ihwa-ju.jpg/220px-Ihwa-ju.jpg\n",
      "8 https://s3.ap-northeast-2.amazonaws.com/meesig/v3/prod/image/item/main/500/2bf1ae371eb642fbb8b0f945ed3099dc20180109121707\n"
     ]
    }
   ],
   "source": [
    "# 검색할 술 종류\n",
    "df = pd.read_csv('./data/더술_전통주리스트.csv')\n",
    "drinks = df['전통주이름'].tolist()\n",
    "\n",
    "# 이미지개수\n",
    "num = 50\n",
    "# 경로\n",
    "# directory = './drinks/'+ drink\n",
    "\n",
    "# 페이지 접속\n",
    "# 검색\n",
    "for drink in drinks:\n",
    "    \n",
    "    url = 'http://www.google.com'\n",
    "    driver = webdriver.Chrome()\n",
    "    driver.get(url)\n",
    "\n",
    "    # 검색창 클릭\n",
    "    elem = driver.find_element_by_css_selector('body > div.L3eUgb > div.o3j99.ikrT4e.om7nvf > form > div:nth-child(1) > div.A8SBwf > div.RNNXgb > div > div.a4bIc > input')\n",
    "\n",
    "\n",
    "    # 전통주 검색\n",
    "    elem.send_keys(drink)\n",
    "\n",
    "    # 엔터\n",
    "    elem.send_keys(Keys.RETURN)\n",
    "\n",
    "    # 이미지 카테고리 클릭\n",
    "    driver.find_element_by_css_selector('#hdtb-msb > div:nth-child(1) > div > div:nth-child(2) > a').click()\n",
    "\n",
    "\n",
    "    # 스크롤을 끝까지 내리는 코드\n",
    "    import time\n",
    "\n",
    "    SCROLL_PAUSE_TIME = 2\n",
    "\n",
    "    last_height = driver.execute_script(\"return document.body.scrollHeight\")\n",
    "\n",
    "    while True: \n",
    "        driver.execute_script('window.scrollTo(0, document.body.scrollHeight);')\n",
    "        time.sleep(SCROLL_PAUSE_TIME)\n",
    "\n",
    "        new_height = driver.execute_script('return document.body.scrollHeight')\n",
    "\n",
    "        if new_height == last_height:\n",
    "            try:\n",
    "                time.sleep(SCROLL_PAUSE_TIME)\n",
    "                driver.find_element_by_css_selector(\".mye4qd\").click()\n",
    "            except:\n",
    "                break\n",
    "        last_height = new_height\n",
    "        \n",
    "    # images 전체 \n",
    "    images = driver.find_elements_by_css_selector('#islrg > div.islrc > div> a.wXeWr.islib.nfEiy')\n",
    "    print(\"전체 이미지수:\",len(images))\n",
    "\n",
    "    # 폴더 만드는 함수\n",
    "    def createFolder(directory):\n",
    "        try:\n",
    "            if not os.path.exists(directory):\n",
    "                os.makedirs(directory) # 해당 directory가 없으면 파일 생성\n",
    "        except OSError:\n",
    "            print(\"Error: Failed to create the directory.\")\n",
    "\n",
    "    # 폴더 생성\n",
    "    #경로\n",
    "    directory = './drinks/'+ drink\n",
    "    createFolder(directory)\n",
    "\n",
    "    count= 1\n",
    "    \n",
    "    # 이미지 받기\n",
    "\n",
    "    for i,img in enumerate(images):\n",
    "        try:\n",
    "            img.click() # 작은 썸네일에서 큰 사진 받기위해 클릭\n",
    "            time.sleep(2)\n",
    "\n",
    "            ImgUrl = driver.find_element_by_xpath('//*[@id=\"Sva75c\"]/div/div/div[3]/div[2]/c-wiz/div/div[1]/div[1]/div[2]/div/a/img').get_attribute('src')\n",
    "            time.sleep(1)\n",
    "           \n",
    "            print(i, ImgUrl)\n",
    "\n",
    "            # 파일에 직접 저장하기\n",
    "            urllib.request.urlretrieve(ImgUrl, directory+ '/'+drink+ str(count) + \".jpg\")\n",
    "            directory = './drinks/'+ drink\n",
    "            \n",
    "        except:\n",
    "                pass\n",
    "            \n",
    "        count = count + 1\n",
    "        if count >= num:\n",
    "            break\n",
    "    #구분선        \n",
    "    print('-'*50)"
   ]
  },
  {
   "cell_type": "code",
   "execution_count": null,
   "id": "ed2227fe",
   "metadata": {},
   "outputs": [],
   "source": []
  }
 ],
 "metadata": {
  "kernelspec": {
   "display_name": "Python 3 (ipykernel)",
   "language": "python",
   "name": "python3"
  },
  "language_info": {
   "codemirror_mode": {
    "name": "ipython",
    "version": 3
   },
   "file_extension": ".py",
   "mimetype": "text/x-python",
   "name": "python",
   "nbconvert_exporter": "python",
   "pygments_lexer": "ipython3",
   "version": "3.9.7"
  },
  "toc": {
   "base_numbering": 1,
   "nav_menu": {},
   "number_sections": true,
   "sideBar": true,
   "skip_h1_title": false,
   "title_cell": "Table of Contents",
   "title_sidebar": "Contents",
   "toc_cell": false,
   "toc_position": {},
   "toc_section_display": true,
   "toc_window_display": true
  },
  "varInspector": {
   "cols": {
    "lenName": 16,
    "lenType": 16,
    "lenVar": 40
   },
   "kernels_config": {
    "python": {
     "delete_cmd_postfix": "",
     "delete_cmd_prefix": "del ",
     "library": "var_list.py",
     "varRefreshCmd": "print(var_dic_list())"
    },
    "r": {
     "delete_cmd_postfix": ") ",
     "delete_cmd_prefix": "rm(",
     "library": "var_list.r",
     "varRefreshCmd": "cat(var_dic_list()) "
    }
   },
   "types_to_exclude": [
    "module",
    "function",
    "builtin_function_or_method",
    "instance",
    "_Feature"
   ],
   "window_display": false
  }
 },
 "nbformat": 4,
 "nbformat_minor": 5
}
