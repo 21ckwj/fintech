{
 "cells": [
  {
   "cell_type": "code",
   "execution_count": 1,
   "id": "01cd7825",
   "metadata": {
    "ExecuteTime": {
     "end_time": "2022-03-31T07:10:22.400025Z",
     "start_time": "2022-03-31T07:10:21.593803Z"
    }
   },
   "outputs": [
    {
     "ename": "ModuleNotFoundError",
     "evalue": "No module named 'albumentations'",
     "output_type": "error",
     "traceback": [
      "\u001b[1;31m---------------------------------------------------------------------------\u001b[0m",
      "\u001b[1;31mModuleNotFoundError\u001b[0m                       Traceback (most recent call last)",
      "\u001b[1;32m~\\AppData\\Local\\Temp/ipykernel_19708/2665436252.py\u001b[0m in \u001b[0;36m<module>\u001b[1;34m\u001b[0m\n\u001b[0;32m      5\u001b[0m \u001b[1;32mimport\u001b[0m \u001b[0mpandas\u001b[0m \u001b[1;32mas\u001b[0m \u001b[0mpd\u001b[0m\u001b[1;33m\u001b[0m\u001b[1;33m\u001b[0m\u001b[0m\n\u001b[0;32m      6\u001b[0m \u001b[1;33m\u001b[0m\u001b[0m\n\u001b[1;32m----> 7\u001b[1;33m \u001b[1;32mimport\u001b[0m \u001b[0malbumentations\u001b[0m \u001b[1;32mas\u001b[0m \u001b[0mA\u001b[0m\u001b[1;33m\u001b[0m\u001b[1;33m\u001b[0m\u001b[0m\n\u001b[0m\u001b[0;32m      8\u001b[0m \u001b[1;33m\u001b[0m\u001b[0m\n\u001b[0;32m      9\u001b[0m \u001b[1;32mfrom\u001b[0m \u001b[0mpathlib\u001b[0m \u001b[1;32mimport\u001b[0m \u001b[0mPath\u001b[0m\u001b[1;33m\u001b[0m\u001b[1;33m\u001b[0m\u001b[0m\n",
      "\u001b[1;31mModuleNotFoundError\u001b[0m: No module named 'albumentations'"
     ]
    }
   ],
   "source": [
    "import os,  glob\n",
    "import cv2\n",
    "import numpy as np\n",
    "import matplotlib.pyplot as plt\n",
    "import pandas as pd\n",
    "\n",
    "import albumentations as A\n",
    "\n",
    "from pathlib import Path\n",
    "from sklearn.model_selection import StratifiedShuffleSplit\n",
    "import shutil"
   ]
  },
  {
   "cell_type": "code",
   "execution_count": 3,
   "id": "8c02086f",
   "metadata": {
    "ExecuteTime": {
     "end_time": "2022-03-31T06:49:35.020619Z",
     "start_time": "2022-03-31T06:49:28.950839Z"
    }
   },
   "outputs": [
    {
     "name": "stdout",
     "output_type": "stream",
     "text": [
      "Collecting albumentations\n",
      "  Downloading albumentations-1.1.0-py3-none-any.whl (102 kB)\n",
      "Requirement already satisfied: numpy>=1.11.1 in c:\\users\\bitcamp\\anaconda3\\lib\\site-packages (from albumentations) (1.20.3)\n",
      "Collecting qudida>=0.0.4\n",
      "  Downloading qudida-0.0.4-py3-none-any.whl (3.5 kB)\n",
      "Collecting opencv-python-headless>=4.1.1\n",
      "  Downloading opencv_python_headless-4.5.5.64-cp36-abi3-win_amd64.whl (35.3 MB)\n",
      "Requirement already satisfied: scipy in c:\\users\\bitcamp\\anaconda3\\lib\\site-packages (from albumentations) (1.7.1)\n",
      "Requirement already satisfied: PyYAML in c:\\users\\bitcamp\\anaconda3\\lib\\site-packages (from albumentations) (6.0)\n",
      "Requirement already satisfied: scikit-image>=0.16.1 in c:\\users\\bitcamp\\anaconda3\\lib\\site-packages (from albumentations) (0.18.3)\n",
      "Requirement already satisfied: scikit-learn>=0.19.1 in c:\\users\\bitcamp\\anaconda3\\lib\\site-packages (from qudida>=0.0.4->albumentations) (1.0.2)\n",
      "Requirement already satisfied: typing-extensions in c:\\users\\bitcamp\\anaconda3\\lib\\site-packages (from qudida>=0.0.4->albumentations) (3.10.0.2)\n",
      "Requirement already satisfied: matplotlib!=3.0.0,>=2.0.0 in c:\\users\\bitcamp\\anaconda3\\lib\\site-packages (from scikit-image>=0.16.1->albumentations) (3.4.3)\n",
      "Requirement already satisfied: networkx>=2.0 in c:\\users\\bitcamp\\anaconda3\\lib\\site-packages (from scikit-image>=0.16.1->albumentations) (2.6.3)\n",
      "Requirement already satisfied: pillow!=7.1.0,!=7.1.1,>=4.3.0 in c:\\users\\bitcamp\\anaconda3\\lib\\site-packages (from scikit-image>=0.16.1->albumentations) (8.4.0)\n",
      "Requirement already satisfied: imageio>=2.3.0 in c:\\users\\bitcamp\\anaconda3\\lib\\site-packages (from scikit-image>=0.16.1->albumentations) (2.9.0)\n",
      "Requirement already satisfied: tifffile>=2019.7.26 in c:\\users\\bitcamp\\anaconda3\\lib\\site-packages (from scikit-image>=0.16.1->albumentations) (2021.7.2)\n",
      "Requirement already satisfied: PyWavelets>=1.1.1 in c:\\users\\bitcamp\\anaconda3\\lib\\site-packages (from scikit-image>=0.16.1->albumentations) (1.1.1)\n",
      "Requirement already satisfied: python-dateutil>=2.7 in c:\\users\\bitcamp\\anaconda3\\lib\\site-packages (from matplotlib!=3.0.0,>=2.0.0->scikit-image>=0.16.1->albumentations) (2.8.2)\n",
      "Requirement already satisfied: cycler>=0.10 in c:\\users\\bitcamp\\anaconda3\\lib\\site-packages (from matplotlib!=3.0.0,>=2.0.0->scikit-image>=0.16.1->albumentations) (0.10.0)\n",
      "Requirement already satisfied: kiwisolver>=1.0.1 in c:\\users\\bitcamp\\anaconda3\\lib\\site-packages (from matplotlib!=3.0.0,>=2.0.0->scikit-image>=0.16.1->albumentations) (1.3.1)\n",
      "Requirement already satisfied: pyparsing>=2.2.1 in c:\\users\\bitcamp\\anaconda3\\lib\\site-packages (from matplotlib!=3.0.0,>=2.0.0->scikit-image>=0.16.1->albumentations) (3.0.4)\n",
      "Requirement already satisfied: six in c:\\users\\bitcamp\\anaconda3\\lib\\site-packages (from cycler>=0.10->matplotlib!=3.0.0,>=2.0.0->scikit-image>=0.16.1->albumentations) (1.16.0)\n",
      "Requirement already satisfied: joblib>=0.11 in c:\\users\\bitcamp\\anaconda3\\lib\\site-packages (from scikit-learn>=0.19.1->qudida>=0.0.4->albumentations) (1.0.1)\n",
      "Requirement already satisfied: threadpoolctl>=2.0.0 in c:\\users\\bitcamp\\anaconda3\\lib\\site-packages (from scikit-learn>=0.19.1->qudida>=0.0.4->albumentations) (2.2.0)\n",
      "Installing collected packages: opencv-python-headless, qudida, albumentations\n"
     ]
    },
    {
     "name": "stderr",
     "output_type": "stream",
     "text": [
      "ERROR: Could not install packages due to an OSError: [WinError 5] 액세스가 거부되었습니다: 'C:\\\\Users\\\\bitcamp\\\\anaconda3\\\\Lib\\\\site-packages\\\\cv2\\\\cv2.pyd'\n",
      "Consider using the `--user` option or check the permissions.\n",
      "\n"
     ]
    }
   ],
   "source": [
    "!pip install albumentations"
   ]
  },
  {
   "cell_type": "code",
   "execution_count": null,
   "id": "686baba4",
   "metadata": {
    "ExecuteTime": {
     "end_time": "2022-03-31T06:48:34.242388Z",
     "start_time": "2022-03-31T06:48:34.242388Z"
    }
   },
   "outputs": [],
   "source": [
    "origin_path = 'C:/KDT4/fintech/프로젝트3/data/data'"
   ]
  },
  {
   "cell_type": "code",
   "execution_count": null,
   "id": "895766fd",
   "metadata": {
    "ExecuteTime": {
     "end_time": "2022-03-31T06:48:34.243385Z",
     "start_time": "2022-03-31T06:48:34.243385Z"
    }
   },
   "outputs": [],
   "source": [
    "name_pair = {}\n",
    "old_name = os.listdir(origin_path)\n",
    "for ind, oname in enumerate(old_name):\n",
    "    new_name = f'class_{ind:03}'\n",
    "    shutil.move(origin_path+oname,origin_path+new_name)\n",
    "    name_pair[new_name] = oname\n",
    "name_pair"
   ]
  },
  {
   "cell_type": "code",
   "execution_count": 5,
   "id": "06844609",
   "metadata": {
    "ExecuteTime": {
     "end_time": "2022-03-30T11:16:16.326591Z",
     "start_time": "2022-03-30T11:16:15.607803Z"
    }
   },
   "outputs": [],
   "source": [
    "ser = pd.Series(name_pair)\n",
    "ser.to_csv('class_name_pair_20220330.csv')"
   ]
  },
  {
   "cell_type": "code",
   "execution_count": 6,
   "id": "69ab5917",
   "metadata": {
    "ExecuteTime": {
     "end_time": "2022-03-30T11:16:27.825492Z",
     "start_time": "2022-03-30T11:16:26.022894Z"
    }
   },
   "outputs": [],
   "source": [
    "for dr in os.listdir(origin_path):\n",
    "    for ind, img in enumerate(os.listdir(origin_path+dr)):\n",
    "        shutil.move(origin_path+dr+'/'+img,origin_path+dr+f'/{dr}_{ind:03}.jpg')"
   ]
  },
  {
   "cell_type": "code",
   "execution_count": 65,
   "id": "4e993ab0",
   "metadata": {
    "ExecuteTime": {
     "end_time": "2022-03-30T15:14:24.294726Z",
     "start_time": "2022-03-30T15:14:24.287774Z"
    }
   },
   "outputs": [],
   "source": [
    "train_path = Path('D:/Project3/data/train') # train test로 구분한 파일 저장 경로\n",
    "val_path = Path('D:/Project3/data/val')\n",
    "test_path = Path('D:/Project3/data/test')\n",
    "\n",
    "train_path.mkdir(exist_ok=True)\n",
    "val_path.mkdir(exist_ok=True)\n",
    "test_path.mkdir(exist_ok=True)"
   ]
  },
  {
   "cell_type": "code",
   "execution_count": 63,
   "id": "f51f22ee",
   "metadata": {
    "ExecuteTime": {
     "end_time": "2022-03-30T15:09:12.866189Z",
     "start_time": "2022-03-30T15:09:12.752494Z"
    }
   },
   "outputs": [
    {
     "data": {
      "text/plain": [
       "array([  0,   0,   0, ..., 563, 563, 563], dtype=int64)"
      ]
     },
     "execution_count": 63,
     "metadata": {},
     "output_type": "execute_result"
    }
   ],
   "source": [
    "data_path = Path('D:/Project3/padding/') # 원본 파일들 저장 경로\n",
    "data = []\n",
    "cla = []\n",
    "for d in data_path.glob('*'):\n",
    "    for f in d.glob('*.jpg'):\n",
    "        data.append(f)\n",
    "        cla.append(d.stem)\n",
    "data = np.array(data)\n",
    "cla = np.array(cla)\n",
    "from sklearn.preprocessing import LabelEncoder\n",
    "encoder = LabelEncoder()\n",
    "cla2 = encoder.fit_transform(cla)\n",
    "cla2"
   ]
  },
  {
   "cell_type": "code",
   "execution_count": 58,
   "id": "a97ac6ef",
   "metadata": {
    "ExecuteTime": {
     "end_time": "2022-03-30T14:59:55.552606Z",
     "start_time": "2022-03-30T14:59:55.542633Z"
    }
   },
   "outputs": [
    {
     "data": {
      "text/plain": [
       "class_505      4\n",
       "class_483      4\n",
       "class_373      4\n",
       "class_290      4\n",
       "class_235      5\n",
       "            ... \n",
       "class_154     79\n",
       "class_124     84\n",
       "class_129     87\n",
       "class_029    100\n",
       "class_134    106\n",
       "Name: 1, Length: 564, dtype: int64"
      ]
     },
     "execution_count": 58,
     "metadata": {},
     "output_type": "execute_result"
    }
   ],
   "source": [
    "pd.DataFrame(data)[1].value_counts(ascending=True)"
   ]
  },
  {
   "cell_type": "code",
   "execution_count": 67,
   "id": "d68a6ca3",
   "metadata": {
    "ExecuteTime": {
     "end_time": "2022-03-30T15:15:05.212951Z",
     "start_time": "2022-03-30T15:15:05.186993Z"
    }
   },
   "outputs": [
    {
     "name": "stdout",
     "output_type": "stream",
     "text": [
      "7631 3816 3816\n"
     ]
    }
   ],
   "source": [
    "# st = StratifiedShuffleSplit(1, train_size = 0.75) # 얘가 핵심, Stratify 유지하면서 쪼개주는 역할\n",
    "\n",
    "# sv = StratifiedShuffleSplit(1, train_size = 2/3) # 얘가 핵심, Stratify 유지하면서 쪼개주는 역할\n",
    "# train_ix, test_ix = next(st.split(data[:,0],data[:,1])) # next가 뭐하는 놈인지 기억안난다 암튼 나눠준거다\n",
    "from sklearn.model_selection import train_test_split\n",
    "train_data, test_data, train_cla, test_cla = train_test_split(data, cla, test_size=0.25, stratify=cla)\n",
    "train_data, val_data, train_cla, val_cla = train_test_split(train_data, train_cla, test_size=1/3, stratify=train_cla)\n",
    "# data2 = data[train_ix]\n",
    "# train_ix, val_ix = next(sv.split(data2[:,0],data2[:,1])) # next가 뭐하는 놈인지 기억안난다 암튼 나눠준거다\n",
    "\n",
    "print(len(train_data), len(test_data), len(val_data))"
   ]
  },
  {
   "cell_type": "code",
   "execution_count": 68,
   "id": "fa0ee41e",
   "metadata": {
    "ExecuteTime": {
     "end_time": "2022-03-30T15:15:08.024757Z",
     "start_time": "2022-03-30T15:15:08.013759Z"
    }
   },
   "outputs": [
    {
     "data": {
      "text/plain": [
       "array([WindowsPath('D:/Project3/padding/class_256/class_256_017.jpg'),\n",
       "       WindowsPath('D:/Project3/padding/class_047/class_047_035.jpg'),\n",
       "       WindowsPath('D:/Project3/padding/class_310/class_310_012.jpg'),\n",
       "       ...,\n",
       "       WindowsPath('D:/Project3/padding/class_179/class_179_016.jpg'),\n",
       "       WindowsPath('D:/Project3/padding/class_197/class_197_024.jpg'),\n",
       "       WindowsPath('D:/Project3/padding/class_074/class_074_005.jpg')],\n",
       "      dtype=object)"
      ]
     },
     "execution_count": 68,
     "metadata": {},
     "output_type": "execute_result"
    }
   ],
   "source": [
    "train_set, test_set, val_set = data[train_ix], data[test_ix], data[val_ix]\n",
    "train_set"
   ]
  },
  {
   "cell_type": "code",
   "execution_count": 69,
   "id": "5fe6f104",
   "metadata": {
    "ExecuteTime": {
     "end_time": "2022-03-30T15:16:09.410849Z",
     "start_time": "2022-03-30T15:15:14.251102Z"
    }
   },
   "outputs": [],
   "source": [
    "for p, c in zip(train_data,train_cla):\n",
    "    (train_path / c).mkdir(exist_ok=True)\n",
    "    shutil.copy(p, train_path.joinpath(*p.parts[-2:]))\n",
    "for p, c in zip(test_data,test_cla):\n",
    "    (test_path / c).mkdir(exist_ok=True)\n",
    "    shutil.copy(p, test_path.joinpath(*p.parts[-2:]))\n",
    "for p, c in zip(val_data,val_cla):\n",
    "    (val_path / c).mkdir(exist_ok=True)\n",
    "    shutil.copy(p, val_path.joinpath(*p.parts[-2:]))"
   ]
  },
  {
   "cell_type": "code",
   "execution_count": 3,
   "id": "7ed4fe74",
   "metadata": {
    "ExecuteTime": {
     "end_time": "2022-03-31T05:08:40.920415Z",
     "start_time": "2022-03-31T05:08:40.914463Z"
    }
   },
   "outputs": [],
   "source": [
    "def padding(img):\n",
    "    h,w,c = img.shape\n",
    "    set_size = max(h,w)\n",
    "    delta_w = set_size-w\n",
    "    delta_h = set_size-h\n",
    "    value = [0,0,0]\n",
    "    for i in range(3):\n",
    "        value[i] = int((np.sum(img[:,[0,-1],i])+np.sum(img[[0,-1],:,i]))/(np.size(img[:,[0,-1],i])+np.size(img[[0,-1],:,i])))\n",
    "#         value[i] = int((np.mean(img[[0,-1],[0,-1],i])))\n",
    "    top,bottom=delta_h//2,delta_h-(delta_h//2)\n",
    "    left,right = delta_w//2, delta_w-(delta_w//2)\n",
    "    \n",
    "    new_img = cv2.copyMakeBorder(img, top, bottom, left, right, cv2.BORDER_CONSTANT,value=value)\n",
    "    return new_img"
   ]
  },
  {
   "cell_type": "code",
   "execution_count": 4,
   "id": "0f6827aa",
   "metadata": {
    "ExecuteTime": {
     "end_time": "2022-03-31T05:08:41.234491Z",
     "start_time": "2022-03-31T05:08:41.217537Z"
    }
   },
   "outputs": [],
   "source": [
    "def glassblur(drink):\n",
    "    transform = A.GlassBlur(sigma=0.7, max_delta=4, iterations=2, always_apply=False, mode='fast', p=1) \n",
    "    glass_drink = transform(image=drink)['image']\n",
    "    return glass_drink\n",
    "\n",
    "def clahe(drink):\n",
    "    transform = A.CLAHE(clip_limit=4.0, tile_grid_size=(8, 8), always_apply=False, p=1) \n",
    "    clahe_drink = transform(image=drink)['image']\n",
    "    return clahe_drink\n",
    "\n",
    "def rd_gam(drink):\n",
    "    transform = A.RandomGamma(gamma_limit=(80, 120), eps=None, always_apply=False, p=1) \n",
    "    rd_gam_drink = transform(image=drink)['image']\n",
    "    return rd_gam_drink\n",
    "    \n",
    "def emboss(drink):\n",
    "    transform = A.Emboss(alpha=(0.2, 0.5), strength=(0.2, 0.7), always_apply=False, p=1) \n",
    "    emboss_drink = transform(image=drink)['image']\n",
    "    return emboss_drink\n",
    "\n",
    "def equalize(drink):\n",
    "    transform = A.Equalize(mode='cv', by_channels=True, mask=None, mask_params=(), always_apply=False, p=1) \n",
    "    equalize_drink = transform(image=drink)['image']\n",
    "    return equalize_drink\n",
    "\n",
    "def ison(drink):\n",
    "    transform = A.ISONoise(color_shift=(0.01, 0.05), intensity=(0.1, 0.5), always_apply=False, p=1) \n",
    "    ison_drink = transform(image=drink)['image']\n",
    "    return ison_drink\n",
    "\n",
    "def solar(drink):\n",
    "    transform = A.Solarize(threshold=128, always_apply=False, p=1) \n",
    "    solar_drink = transform(image=drink)['image']\n",
    "    return solar_drink\n",
    "\n",
    "def chandrop(drink):\n",
    "    transform = A.ChannelDropout(channel_drop_range=(1, 1), fill_value=0, always_apply=False, p=0.5) \n",
    "    chandrop_drink = transform(image=drink)['image']\n",
    "    return chandrop_drink\n",
    "\n",
    "def colji_a(drink):\n",
    "    transform = A.ColorJitter(brightness=0.3, contrast=0.5, saturation=0.2, hue=0.5, always_apply=False, p=1) \n",
    "    colji_a_drink = transform(image=drink)['image']\n",
    "    return colji_a_drink\n",
    "\n",
    "def colji_b(drink):\n",
    "    transform = A.ColorJitter(brightness=0.2, contrast=0.3, saturation=0.5, hue=0.1, always_apply=False, p=1) \n",
    "    colji_b_drink = transform(image=drink)['image']\n",
    "    return colji_b_drink\n",
    "\n",
    "def colji_c(drink):\n",
    "    transform = A.ColorJitter(brightness=0.5, contrast=0.2, saturation=0.1, hue=0.3, always_apply=False, p=1) \n",
    "    colji_c_drink = transform(image=drink)['image']\n",
    "    return colji_c_drink\n",
    "tit = np.array([ glassblur, clahe, rd_gam, emboss, equalize, ison, solar, chandrop, colji_a, colji_b, colji_c ])\n",
    "titls = np.array([ 'glassblur', 'clahe', 'rd_gam', 'emboss', 'equalize', 'ison', 'solar', 'chandrop', 'colji_a', 'colji_b','colji_c' ])"
   ]
  },
  {
   "cell_type": "code",
   "execution_count": 6,
   "id": "51f2fefa",
   "metadata": {
    "ExecuteTime": {
     "end_time": "2022-03-31T06:18:07.470409Z",
     "start_time": "2022-03-31T05:09:35.887172Z"
    }
   },
   "outputs": [],
   "source": [
    "save_aug_path = 'D:/Project3/smallsize2/'\n",
    "errorlst =[]\n",
    "if not os.path.exists(save_aug_path):\n",
    "    os.mkdir(save_aug_path)\n",
    "for work in ['train','test','val']:\n",
    "    origin_path = f'D:/Project3/data/{work}/'\n",
    "    save_path = f'{save_aug_path}{work}/'\n",
    "    if not os.path.exists(save_path):\n",
    "        os.mkdir(save_path)\n",
    "    for cla in os.listdir(origin_path):\n",
    "        if not os.path.exists(save_path+cla):\n",
    "            os.mkdir(save_path+cla)\n",
    "        for img in os.listdir(origin_path+cla):\n",
    "            tit_rotation = []\n",
    "            try:\n",
    "                drink = cv2.imread(f\"{origin_path+cla}/{img}\")\n",
    "                drink = cv2.cvtColor(drink, cv2.COLOR_BGR2RGB)\n",
    "            except:\n",
    "                print(img)\n",
    "                errorlst.append(img)\n",
    "                continue\n",
    "            rc = np.random.choice([i for i in range(11)],6,False)\n",
    "            for f in tit[rc]:\n",
    "                tiva = f(drink)\n",
    "                rotation=[]\n",
    "                for r in range(1):\n",
    "                    transform = A.Rotate(limit=180, interpolation=1, border_mode=4, value=None, mask_value=None, always_apply=False, p=1)\n",
    "                    rotate_drink = transform(image=padding(tiva))['image']\n",
    "                    rotation.append(rotate_drink)\n",
    "                tit_rotation.append(rotation)\n",
    "            for i, aug in zip(rc,tit_rotation):\n",
    "                for t,rot in enumerate(aug):\n",
    "                    new_img = cv2.cvtColor(rot, cv2.COLOR_RGB2BGR)\n",
    "                    cv2.imwrite(f\"{save_path+cla}/{img[:-4]}_{titls[i]}_{t}.jpg\", new_img)\n",
    "                    "
   ]
  },
  {
   "cell_type": "code",
   "execution_count": 76,
   "id": "9363d1db",
   "metadata": {
    "ExecuteTime": {
     "end_time": "2022-03-30T16:26:43.154962Z",
     "start_time": "2022-03-30T16:26:43.148978Z"
    }
   },
   "outputs": [
    {
     "data": {
      "text/plain": [
       "'class_242_030.jpg'"
      ]
     },
     "execution_count": 76,
     "metadata": {},
     "output_type": "execute_result"
    }
   ],
   "source": [
    "img"
   ]
  },
  {
   "cell_type": "code",
   "execution_count": null,
   "id": "9bdfff64",
   "metadata": {},
   "outputs": [],
   "source": []
  },
  {
   "cell_type": "code",
   "execution_count": null,
   "id": "607d4c10",
   "metadata": {},
   "outputs": [],
   "source": []
  },
  {
   "cell_type": "code",
   "execution_count": 59,
   "id": "921b1c78",
   "metadata": {
    "ExecuteTime": {
     "end_time": "2022-03-30T08:35:20.637645Z",
     "start_time": "2022-03-30T08:35:11.422864Z"
    }
   },
   "outputs": [],
   "source": [
    "file_path = 'D:/Project3/padding'\n",
    "\n",
    "for dr in os.listdir(file_path)[:20]:\n",
    "    images = os.listdir('/'.join([file_path,dr]))\n",
    "    if not os.path.exists(save_path+'/'+dr):\n",
    "        os.mkdir(save_path+'/'+dr)\n",
    "    for image in images:\n",
    "        img = cv2.imread('/'.join([file_path,dr,image]), cv2.IMREAD_COLOR)\n",
    "        new_img = padding(img)\n",
    "        cv2.imwrite('/'.join([save_path,dr,image]),new_img)\n",
    "#         except:\n",
    "#             print('/'.join([file_path,dr,image]))\n",
    "# #             os.remove('/'.join([file_path,dr,image]))\n"
   ]
  },
  {
   "cell_type": "code",
   "execution_count": 11,
   "id": "9f4b298a",
   "metadata": {
    "ExecuteTime": {
     "end_time": "2022-03-30T14:01:44.063620Z",
     "start_time": "2022-03-30T14:01:44.049657Z"
    }
   },
   "outputs": [],
   "source": [
    "img = cv2.imread('/'.join(['D:/Project3/padding/class_023','class_023_010.jpg']))"
   ]
  },
  {
   "cell_type": "code",
   "execution_count": 39,
   "id": "1e2addc3",
   "metadata": {
    "ExecuteTime": {
     "end_time": "2022-03-30T14:24:21.022998Z",
     "start_time": "2022-03-30T14:24:20.908273Z"
    }
   },
   "outputs": [
    {
     "data": {
      "image/png": "[encoded data removed]",
      "text/plain": [
       "<Figure size 432x288 with 1 Axes>"
      ]
     },
     "metadata": {
      "needs_background": "light"
     },
     "output_type": "display_data"
    }
   ],
   "source": [
    "def im_rotate(img, degree): \n",
    "    img = padding(img)\n",
    "    h, w = img.shape[:-1] \n",
    "    crossLine = int(((w * h + h * w) ** 0.5)) \n",
    "    centerRotatePT = int( max(h, w) / 2), int( max(h, w) / 2) \n",
    "    new_h, new_w = max(h, w) , max(h, w)\n",
    "    rotatefigure = cv2.getRotationMatrix2D(centerRotatePT, degree, 1) \n",
    "    result = cv2.warpAffine(img, rotatefigure, (new_w, new_h)) \n",
    "    return result\n",
    "pimg = padding(img)\n",
    "r = A.Rotate(limit=180, interpolation=1, border_mode=4, value=None, mask_value=None, always_apply=False, p=1)\n",
    "# rimg = r(image=pimg)['image']\n",
    "plt.imshow(im_rotate(img, 45))\n",
    "# plt.imshow(img)\n",
    "plt.show()"
   ]
  },
  {
   "cell_type": "code",
   "execution_count": 12,
   "id": "8110e1f7",
   "metadata": {
    "ExecuteTime": {
     "end_time": "2022-03-30T14:01:46.075470Z",
     "start_time": "2022-03-30T14:01:45.921881Z"
    },
    "scrolled": true
   },
   "outputs": [
    {
     "data": {
      "image/png": "[encoded data removed]",
      "text/plain": [
       "<Figure size 432x288 with 1 Axes>"
      ]
     },
     "metadata": {
      "needs_background": "light"
     },
     "output_type": "display_data"
    }
   ],
   "source": [
    "plt.imshow(cv2.cvtColor(img,cv2.COLOR_BGR2RGB)),plt.axis('off')\n",
    "plt.show()"
   ]
  },
  {
   "cell_type": "code",
   "execution_count": 48,
   "id": "08416c3e",
   "metadata": {
    "ExecuteTime": {
     "end_time": "2022-03-29T05:17:10.766585Z",
     "start_time": "2022-03-29T05:17:10.752386Z"
    }
   },
   "outputs": [],
   "source": [
    "new_img = cv2.resize(img,(96,96))"
   ]
  },
  {
   "cell_type": "code",
   "execution_count": 49,
   "id": "18411648",
   "metadata": {
    "ExecuteTime": {
     "end_time": "2022-03-29T05:17:10.860064Z",
     "start_time": "2022-03-29T05:17:10.786782Z"
    }
   },
   "outputs": [
    {
     "data": {
      "image/png": "[encoded data removed]",
      "text/plain": [
       "<Figure size 432x288 with 1 Axes>"
      ]
     },
     "metadata": {
      "needs_background": "light"
     },
     "output_type": "display_data"
    }
   ],
   "source": [
    "plt.imshow(cv2.cvtColor(new_img,cv2.COLOR_BGR2RGB)),plt.axis('off')\n",
    "plt.show()"
   ]
  },
  {
   "cell_type": "code",
   "execution_count": 19,
   "id": "9da26ed2",
   "metadata": {
    "ExecuteTime": {
     "end_time": "2022-03-29T01:46:10.102070Z",
     "start_time": "2022-03-29T01:46:10.097084Z"
    }
   },
   "outputs": [
    {
     "data": {
      "text/plain": [
       "array([[[199, 210, 208],\n",
       "        [199, 210, 208],\n",
       "        [199, 210, 208],\n",
       "        ...,\n",
       "        [199, 210, 208],\n",
       "        [199, 210, 208],\n",
       "        [199, 210, 208]],\n",
       "\n",
       "       [[199, 210, 208],\n",
       "        [199, 210, 208],\n",
       "        [199, 210, 208],\n",
       "        ...,\n",
       "        [199, 210, 208],\n",
       "        [199, 210, 208],\n",
       "        [199, 210, 208]],\n",
       "\n",
       "       [[199, 210, 208],\n",
       "        [199, 210, 208],\n",
       "        [199, 210, 208],\n",
       "        ...,\n",
       "        [199, 210, 208],\n",
       "        [199, 210, 208],\n",
       "        [199, 210, 208]],\n",
       "\n",
       "       ...,\n",
       "\n",
       "       [[199, 210, 208],\n",
       "        [199, 210, 208],\n",
       "        [199, 210, 208],\n",
       "        ...,\n",
       "        [199, 210, 208],\n",
       "        [199, 210, 208],\n",
       "        [199, 210, 208]],\n",
       "\n",
       "       [[199, 210, 208],\n",
       "        [199, 210, 208],\n",
       "        [199, 210, 208],\n",
       "        ...,\n",
       "        [199, 210, 208],\n",
       "        [199, 210, 208],\n",
       "        [199, 210, 208]],\n",
       "\n",
       "       [[199, 210, 208],\n",
       "        [199, 210, 208],\n",
       "        [199, 210, 208],\n",
       "        ...,\n",
       "        [199, 210, 208],\n",
       "        [199, 210, 208],\n",
       "        [199, 210, 208]]], dtype=uint8)"
      ]
     },
     "execution_count": 19,
     "metadata": {},
     "output_type": "execute_result"
    }
   ],
   "source": [
    "new_img"
   ]
  },
  {
   "cell_type": "code",
   "execution_count": null,
   "id": "b5780c83",
   "metadata": {},
   "outputs": [],
   "source": [
    "orgin_path = \n",
    "os.mkdir('')"
   ]
  }
 ],
 "metadata": {
  "kernelspec": {
   "display_name": "Python 3 (ipykernel)",
   "language": "python",
   "name": "python3"
  },
  "language_info": {
   "codemirror_mode": {
    "name": "ipython",
    "version": 3
   },
   "file_extension": ".py",
   "mimetype": "text/x-python",
   "name": "python",
   "nbconvert_exporter": "python",
   "pygments_lexer": "ipython3",
   "version": "3.9.7"
  },
  "toc": {
   "base_numbering": 1,
   "nav_menu": {},
   "number_sections": true,
   "sideBar": true,
   "skip_h1_title": false,
   "title_cell": "Table of Contents",
   "title_sidebar": "Contents",
   "toc_cell": false,
   "toc_position": {},
   "toc_section_display": true,
   "toc_window_display": false
  },
  "varInspector": {
   "cols": {
    "lenName": 16,
    "lenType": 16,
    "lenVar": 40
   },
   "kernels_config": {
    "python": {
     "delete_cmd_postfix": "",
     "delete_cmd_prefix": "del ",
     "library": "var_list.py",
     "varRefreshCmd": "print(var_dic_list())"
    },
    "r": {
     "delete_cmd_postfix": ") ",
     "delete_cmd_prefix": "rm(",
     "library": "var_list.r",
     "varRefreshCmd": "cat(var_dic_list()) "
    }
   },
   "types_to_exclude": [
    "module",
    "function",
    "builtin_function_or_method",
    "instance",
    "_Feature"
   ],
   "window_display": true
  }
 },
 "nbformat": 4,
 "nbformat_minor": 5
}
