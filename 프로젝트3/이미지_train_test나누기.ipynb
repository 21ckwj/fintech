{
 "cells": [
  {
   "cell_type": "code",
   "execution_count": 1,
   "id": "c64f760d",
   "metadata": {
    "ExecuteTime": {
     "end_time": "2022-03-30T08:54:01.343041Z",
     "start_time": "2022-03-30T08:54:00.422053Z"
    }
   },
   "outputs": [],
   "source": [
    "import pandas as pd\n",
    "import numpy as np\n",
    "import matplotlib.pyplot as plt\n",
    "import seaborn as sns"
   ]
  },
  {
   "cell_type": "code",
   "execution_count": 2,
   "id": "69de75ad",
   "metadata": {
    "ExecuteTime": {
     "end_time": "2022-03-30T08:54:01.608340Z",
     "start_time": "2022-03-30T08:54:01.379572Z"
    }
   },
   "outputs": [],
   "source": [
    "from pathlib import Path\n",
    "from sklearn.model_selection import StratifiedShuffleSplit\n",
    "import shutil"
   ]
  },
  {
   "cell_type": "code",
   "execution_count": 4,
   "id": "130bc691",
   "metadata": {
    "ExecuteTime": {
     "end_time": "2022-03-30T08:55:16.471744Z",
     "start_time": "2022-03-30T08:55:16.452728Z"
    }
   },
   "outputs": [],
   "source": [
    "train_path = Path('./data/tf_practice/train') # train test로 구분한 파일 저장 경로\n",
    "test_path = Path('./data/tf_practice/test')\n",
    "\n",
    "train_path.mkdir(exist_ok=True)\n",
    "test_path.mkdir(exist_ok=True)"
   ]
  },
  {
   "cell_type": "code",
   "execution_count": 5,
   "id": "e0f85fc4",
   "metadata": {
    "ExecuteTime": {
     "end_time": "2022-03-30T08:55:39.033608Z",
     "start_time": "2022-03-30T08:55:39.011004Z"
    }
   },
   "outputs": [
    {
     "data": {
      "text/plain": [
       "array([[WindowsPath('C:/KDT4/fintech/프로젝트3/data/padding/class_000/class_000_000.jpg'),\n",
       "        'class_000'],\n",
       "       [WindowsPath('C:/KDT4/fintech/프로젝트3/data/padding/class_000/class_000_001.jpg'),\n",
       "        'class_000'],\n",
       "       [WindowsPath('C:/KDT4/fintech/프로젝트3/data/padding/class_000/class_000_002.jpg'),\n",
       "        'class_000'],\n",
       "       ...,\n",
       "       [WindowsPath('C:/KDT4/fintech/프로젝트3/data/padding/class_019/class_019_034.jpg'),\n",
       "        'class_019'],\n",
       "       [WindowsPath('C:/KDT4/fintech/프로젝트3/data/padding/class_019/class_019_035.jpg'),\n",
       "        'class_019'],\n",
       "       [WindowsPath('C:/KDT4/fintech/프로젝트3/data/padding/class_019/class_019_036.jpg'),\n",
       "        'class_019']], dtype=object)"
      ]
     },
     "execution_count": 5,
     "metadata": {},
     "output_type": "execute_result"
    }
   ],
   "source": [
    "data_path = Path('C:/KDT4/fintech/프로젝트3/data/padding/') # 원본 파일들 저장 경로\n",
    "data = []\n",
    "for d in data_path.glob('*'):\n",
    "    for f in d.glob('*.jpg'):  # 현재 디렉터리의 .jpg 파일\n",
    "        data.append([f, d.stem])\n",
    "data = np.array(data)\n",
    "data"
   ]
  },
  {
   "cell_type": "code",
   "execution_count": 6,
   "id": "8b7c0444",
   "metadata": {
    "ExecuteTime": {
     "end_time": "2022-03-30T08:58:07.661134Z",
     "start_time": "2022-03-30T08:58:07.636959Z"
    }
   },
   "outputs": [
    {
     "data": {
      "text/plain": [
       "array([328, 241, 243, 446, 451, 142, 270, 538, 302, 278, 453, 468,  60,\n",
       "       246, 361, 197, 410,  28, 434, 260, 151, 380, 332, 157,  99, 654,\n",
       "       220, 511, 588, 613, 400, 164, 126, 352, 548, 503,  26, 250,  31,\n",
       "       110, 535, 242, 330, 485, 568, 350, 312, 259, 168, 183,  96, 179,\n",
       "        62, 101, 540, 523, 315,  95, 628,  17, 516, 209, 646, 449, 211,\n",
       "       338, 184, 225, 622,  13, 491, 419, 626,  82, 326, 599, 436, 526,\n",
       "       311,  14, 353, 398, 652,  35, 239, 402, 650, 307, 173, 133, 636,\n",
       "       565, 606, 382,  84, 295, 226, 290, 248, 219, 206, 580, 389, 114,\n",
       "       555, 604, 189, 514, 529,  49, 553, 593,  55, 122, 318, 170,  12,\n",
       "       411, 369, 299, 647,  11,   3, 340, 231, 547, 469, 204, 216,  51,\n",
       "        73, 609, 172, 143, 520,  89, 194, 320, 167, 572, 148, 478, 484,\n",
       "        76, 288, 321, 192, 454, 358, 570, 566, 457, 294, 527, 545,  68,\n",
       "        10, 543, 467, 366, 298, 349, 124, 325, 461, 563, 368, 182, 176,\n",
       "       202, 303, 612, 377, 156, 370, 448, 597, 510, 409, 557,  15, 297,\n",
       "       146, 631, 577,  16, 443, 549,  92, 160, 115, 105, 614, 390,   8,\n",
       "       564, 618, 431, 116, 642, 494, 458, 371, 417, 327, 405, 238, 235,\n",
       "       534, 477, 575, 463, 258,  78, 537, 439,  18, 118, 229, 362, 208,\n",
       "       345,  53, 450, 629, 645, 293, 214, 166, 247, 163, 154, 273, 408,\n",
       "       191,   4, 544, 207, 249,  41, 306,  21, 559, 585, 257, 567,  85,\n",
       "       386, 210, 466, 611,  79, 486, 592, 267, 108,  63, 493, 406, 422,\n",
       "       414, 632,  33, 640, 132, 334, 506, 482, 365, 136,  71, 292, 624,\n",
       "       394, 256, 574, 373, 125, 634,  74, 268, 615, 641, 139, 519, 152,\n",
       "       336, 161, 234,  48, 623, 499,  34, 481,  43, 193,  30, 262, 620,\n",
       "       203,  38, 144, 395, 319, 265, 359, 324, 521, 261, 472, 587,  69,\n",
       "        37, 333,  93,  77, 452, 608, 392, 639, 507, 283, 367, 279, 128,\n",
       "        24, 224, 158, 425, 187, 227, 437, 607, 596, 351,  98, 215, 470,\n",
       "       595, 433,   1, 488, 530,  45, 222, 346, 387, 605, 444, 582, 504,\n",
       "        80, 474, 356,   5,  81, 627, 244, 487, 576, 141, 120, 180, 616,\n",
       "       542, 285,  54,  61, 621, 475, 252, 644, 440, 185, 171,  52, 300,\n",
       "       589, 479, 490, 525, 420, 630,  19,  58, 322, 218, 460, 264, 165,\n",
       "       135, 471, 305, 286, 429, 423,  57,  36, 223, 104, 385, 464, 524,\n",
       "       153, 578, 316, 412, 579, 518, 495, 277, 497, 651, 317, 263, 393,\n",
       "       397, 550, 562, 162, 240, 633, 637,  29, 447, 602,  72, 201, 438,\n",
       "       213, 381, 388, 473,  83, 107, 536, 119, 378, 102, 254, 539, 186,\n",
       "       281, 308, 556, 583, 498,  87, 337, 195,  97, 343, 348, 421, 584,\n",
       "       129,  75, 174, 323, 573, 296, 339, 435, 274, 221, 502, 512, 276,\n",
       "       375, 181, 253, 603, 416,  88, 198, 430, 304,  59, 147,  50, 413,\n",
       "       515, 459, 145, 284, 329, 522,  94,  27, 399, 590,  65, 551, 282,\n",
       "       505, 331, 291, 269, 649, 113, 100,  47, 347, 415,  25, 384, 177,\n",
       "       106, 188,  23, 169, 496, 428,  20, 541,  40, 533, 372, 427, 228,\n",
       "       492, 123, 341, 275], dtype=int64)"
      ]
     },
     "execution_count": 6,
     "metadata": {},
     "output_type": "execute_result"
    }
   ],
   "source": [
    "ss = StratifiedShuffleSplit(1, train_size = 0.8) # 얘가 핵심, Stratify 유지하면서 쪼개주는 역할\n",
    "train_ix, test_ix = next(ss.split(data[:,0],data[:,1])) # next가 뭐하는 놈인지 기억안난다 암튼 나눠준거다\n",
    "train_ix"
   ]
  },
  {
   "cell_type": "code",
   "execution_count": 7,
   "id": "43c1d109",
   "metadata": {
    "ExecuteTime": {
     "end_time": "2022-03-30T08:58:17.668791Z",
     "start_time": "2022-03-30T08:58:17.651836Z"
    }
   },
   "outputs": [
    {
     "data": {
      "text/plain": [
       "array([[WindowsPath('C:/KDT4/fintech/프로젝트3/data/padding/class_008/class_008_032.jpg'),\n",
       "        'class_008'],\n",
       "       [WindowsPath('C:/KDT4/fintech/프로젝트3/data/padding/class_006/class_006_008.jpg'),\n",
       "        'class_006'],\n",
       "       [WindowsPath('C:/KDT4/fintech/프로젝트3/data/padding/class_006/class_006_010.jpg'),\n",
       "        'class_006'],\n",
       "       ...,\n",
       "       [WindowsPath('C:/KDT4/fintech/프로젝트3/data/padding/class_003/class_003_028.jpg'),\n",
       "        'class_003'],\n",
       "       [WindowsPath('C:/KDT4/fintech/프로젝트3/data/padding/class_008/class_008_045.jpg'),\n",
       "        'class_008'],\n",
       "       [WindowsPath('C:/KDT4/fintech/프로젝트3/data/padding/class_007/class_007_010.jpg'),\n",
       "        'class_007']], dtype=object)"
      ]
     },
     "execution_count": 7,
     "metadata": {},
     "output_type": "execute_result"
    }
   ],
   "source": [
    "train_set, test_set = data[train_ix], data[test_ix]\n",
    "train_set"
   ]
  },
  {
   "cell_type": "code",
   "execution_count": 8,
   "id": "c6766142",
   "metadata": {
    "ExecuteTime": {
     "end_time": "2022-03-30T09:00:12.032951Z",
     "start_time": "2022-03-30T09:00:11.797160Z"
    }
   },
   "outputs": [],
   "source": [
    "for p, c in train_set:\n",
    "    (train_path / c).mkdir(exist_ok=True)\n",
    "    shutil.move(p, train_path.joinpath(*p.parts[-2:]))\n",
    "for p, c in test_set:\n",
    "    (test_path / c).mkdir(exist_ok=True)\n",
    "    shutil.move(p, test_path.joinpath(*p.parts[-2:]))"
   ]
  },
  {
   "cell_type": "code",
   "execution_count": null,
   "id": "40ae579a",
   "metadata": {},
   "outputs": [],
   "source": []
  },
  {
   "cell_type": "code",
   "execution_count": 10,
   "id": "077d2fa2",
   "metadata": {
    "ExecuteTime": {
     "end_time": "2022-03-22T05:29:01.661029Z",
     "start_time": "2022-03-22T05:29:01.644777Z"
    }
   },
   "outputs": [],
   "source": [
    "import tensorflow as tf\n",
    "from tensorflow.keras.models import Sequential\n",
    "from tensorflow.keras.layers import *\n",
    "from tensorflow.keras.optimizers import *\n",
    "from tensorflow.keras.preprocessing import image_dataset_from_directory"
   ]
  },
  {
   "cell_type": "code",
   "execution_count": 6,
   "id": "d704c85b",
   "metadata": {
    "ExecuteTime": {
     "end_time": "2022-03-22T05:27:45.212655Z",
     "start_time": "2022-03-22T05:27:43.859718Z"
    }
   },
   "outputs": [
    {
     "name": "stdout",
     "output_type": "stream",
     "text": [
      "Found 16464 files belonging to 120 classes.\n"
     ]
    }
   ],
   "source": [
    "train_data = image_dataset_from_directory('./data/dog/train')"
   ]
  },
  {
   "cell_type": "code",
   "execution_count": null,
   "id": "30a4b476",
   "metadata": {
    "ExecuteTime": {
     "end_time": "2022-03-22T05:28:23.067301Z",
     "start_time": "2022-03-22T05:28:22.469263Z"
    }
   },
   "outputs": [],
   "source": []
  },
  {
   "cell_type": "code",
   "execution_count": null,
   "id": "db127c59",
   "metadata": {},
   "outputs": [],
   "source": []
  }
 ],
 "metadata": {
  "kernelspec": {
   "display_name": "Python 3 (ipykernel)",
   "language": "python",
   "name": "python3"
  },
  "language_info": {
   "codemirror_mode": {
    "name": "ipython",
    "version": 3
   },
   "file_extension": ".py",
   "mimetype": "text/x-python",
   "name": "python",
   "nbconvert_exporter": "python",
   "pygments_lexer": "ipython3",
   "version": "3.9.7"
  },
  "toc": {
   "base_numbering": 1,
   "nav_menu": {},
   "number_sections": true,
   "sideBar": true,
   "skip_h1_title": false,
   "title_cell": "Table of Contents",
   "title_sidebar": "Contents",
   "toc_cell": false,
   "toc_position": {},
   "toc_section_display": true,
   "toc_window_display": false
  },
  "varInspector": {
   "cols": {
    "lenName": 16,
    "lenType": 16,
    "lenVar": 40
   },
   "kernels_config": {
    "python": {
     "delete_cmd_postfix": "",
     "delete_cmd_prefix": "del ",
     "library": "var_list.py",
     "varRefreshCmd": "print(var_dic_list())"
    },
    "r": {
     "delete_cmd_postfix": ") ",
     "delete_cmd_prefix": "rm(",
     "library": "var_list.r",
     "varRefreshCmd": "cat(var_dic_list()) "
    }
   },
   "types_to_exclude": [
    "module",
    "function",
    "builtin_function_or_method",
    "instance",
    "_Feature"
   ],
   "window_display": true
  }
 },
 "nbformat": 4,
 "nbformat_minor": 5
}
