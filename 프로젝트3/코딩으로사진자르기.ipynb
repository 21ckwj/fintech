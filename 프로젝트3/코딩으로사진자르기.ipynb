{
 "cells": [
  {
   "cell_type": "code",
   "execution_count": 1,
   "id": "f6d971c0",
   "metadata": {
    "ExecuteTime": {
     "end_time": "2022-03-26T15:54:37.627625Z",
     "start_time": "2022-03-26T15:54:37.036285Z"
    }
   },
   "outputs": [],
   "source": [
    "import pandas as pd\n",
    "import numpy as np\n",
    "import matplotlib.pyplot as plt\n",
    "import os\n",
    "import cv2"
   ]
  },
  {
   "cell_type": "code",
   "execution_count": 2,
   "id": "ca7b919c",
   "metadata": {
    "ExecuteTime": {
     "end_time": "2022-03-26T15:54:37.674702Z",
     "start_time": "2022-03-26T15:54:37.664694Z"
    }
   },
   "outputs": [],
   "source": [
    "# !pip install opencv-python"
   ]
  },
  {
   "cell_type": "code",
   "execution_count": 3,
   "id": "ca41e326",
   "metadata": {
    "ExecuteTime": {
     "end_time": "2022-03-26T15:54:37.830046Z",
     "start_time": "2022-03-26T15:54:37.812119Z"
    }
   },
   "outputs": [
    {
     "data": {
      "text/plain": [
       "['1000억 유산균 막걸리',\n",
       " '2017년 햅쌀로 빚은 첫술',\n",
       " '52C',\n",
       " 'DOK막걸리',\n",
       " 'SSOA-포도',\n",
       " 'The 찾을수록',\n",
       " '가야 프리미엄 막걸리',\n",
       " '가야곡왕주',\n",
       " '가평 잣 생막걸리',\n",
       " '각시탈',\n",
       " '감그린 레귤러',\n",
       " '감그린 스페셜',\n",
       " '감그린 아이스와인',\n",
       " '감사',\n",
       " '감사블루',\n",
       " '감아락 25',\n",
       " '감이슬',\n",
       " '감자술 13%',\n",
       " '강소주',\n",
       " '걍즐겨',\n",
       " '겨울소주 25',\n",
       " '경산대추약주 추',\n",
       " '경성과하주',\n",
       " '경주교동법주',\n",
       " '계룡백일주 40%',\n",
       " '고도리 레드와인 스위트',\n",
       " '고도리 로제와인',\n",
       " '고도리 복숭아와인',\n",
       " '고도리 샤인머스캣 화이트와인',\n",
       " '고도리 아이스와인(아이스 375)',\n",
       " '고도리 징기스칸 브랜디',\n",
       " '고도리 청수 와인',\n",
       " '고도리 화이트와인 드라이',\n",
       " '고도리 화이트와인 스위트',\n",
       " '고소리술',\n",
       " '고운달 백자',\n",
       " '고운달 오크',\n",
       " '고창선운산 땡큐복분자주',\n",
       " '고창선운산 땡큐블루베리주',\n",
       " '고창선운산 복분자주 특1호',\n",
       " '고향생막걸리',\n",
       " '고향인삼막걸리',\n",
       " '고흥유자주 봄에디션',\n",
       " '곤드레생막걸리',\n",
       " '공주알밤 왕밤주',\n",
       " '공주애 오디와인',\n",
       " '과천미주',\n",
       " '관악산생막걸리',\n",
       " '광양 생 막걸리',\n",
       " '광양 생 막걸리 골드',\n",
       " '괴산 세종 찰옥수수 전통주',\n",
       " '구기홍주 14',\n",
       " '구름을 벗삼아',\n",
       " '구암대추막걸리',\n",
       " '국순당 생막걸리 대박',\n",
       " '국순당 이화주',\n",
       " '귀감',\n",
       " '그랑꼬또 M56',\n",
       " '그랑꼬또 레드와인',\n",
       " '그랑꼬또 로제와인',\n",
       " '그랑꼬또 청수',\n",
       " '그랑티그르 CE2002',\n",
       " '그랑티그르 M1988',\n",
       " '그리움',\n",
       " '금과 명주',\n",
       " '금산인삼백주',\n",
       " '금산인삼주 12.5%',\n",
       " '금산인삼주 수삼 500',\n",
       " '금설',\n",
       " '금정산성막걸리',\n",
       " '금풍양조',\n",
       " '금휘',\n",
       " '기다림 16',\n",
       " '기다림 25',\n",
       " '기다림 34',\n",
       " '기다림 맑은술',\n",
       " '김수한무',\n",
       " '김포 막걸리',\n",
       " '김포약주',\n",
       " '김포예주',\n",
       " '김포예주 프리미엄',\n",
       " '까메오 막걸리',\n",
       " '꽃 와인',\n",
       " '꿀막걸리',\n",
       " '끌로너와 스위트와인',\n",
       " '나 와인',\n",
       " '나루 생 막걸리 11.5도',\n",
       " '나루 생 막걸리 6도',\n",
       " '남산애 레드와인',\n",
       " '남산애 포트와인',\n",
       " '남한산성소주',\n",
       " '내장산 복분자주 지통1호',\n",
       " '냥이탁주 9도',\n",
       " '냥이탁주 fresh',\n",
       " '너와머루와인',\n",
       " '노미',\n",
       " '녹고의 눈물',\n",
       " '녹천 소곡화주 480ml',\n",
       " '녹천 소곡화주 500ml',\n",
       " '녹파주',\n",
       " '느낌 19.8',\n",
       " '느낌 30',\n",
       " '느린마을 막걸리',\n",
       " '느린마을 약주',\n",
       " '느린마을 증류주',\n",
       " '느린마을소주21',\n",
       " '니모메',\n",
       " '님 그리다',\n",
       " '다래와인 7004D',\n",
       " '다래와인 7004S',\n",
       " '다랭이팜 생막걸리',\n",
       " '다랭이팜 유자 막걸리',\n",
       " '달 1614 스위트와인',\n",
       " '담솔',\n",
       " '담양 죽력고',\n",
       " '담은',\n",
       " '당당하리',\n",
       " '대관람차',\n",
       " '대관령 복분자주',\n",
       " '대대포 막걸리',\n",
       " '대잎술',\n",
       " '대장부23',\n",
       " '대통대잎술',\n",
       " '대통주',\n",
       " '도구막걸리',\n",
       " '도깨비술 11',\n",
       " '도깨비술 7',\n",
       " '도깨비술 9',\n",
       " '도로시 머루주',\n",
       " '도문대작 생막걸리',\n",
       " '도원결의',\n",
       " '동래아들',\n",
       " '동몽',\n",
       " '동백꽃, 제주',\n",
       " '동백우리쌀생막걸리',\n",
       " '동정춘',\n",
       " '동짓달 기나긴 밤',\n",
       " '동학 1957',\n",
       " '동해동동주',\n",
       " '두레앙 일반증류주',\n",
       " '두레앙22',\n",
       " '두레앙와인',\n",
       " '두리향',\n",
       " '딸링 막걸리',\n",
       " '라이스퐁당',\n",
       " '라이코펜 토마토와인',\n",
       " '레돔 내추럴 스파클링 로제와인',\n",
       " '레돔 시드르',\n",
       " '레드 와인 500',\n",
       " '레드듀 RED DEW',\n",
       " '려',\n",
       " '로아19레드',\n",
       " '로아19옐로우',\n",
       " '로아19화이트',\n",
       " '로아40 레드',\n",
       " '로아40 옐로우',\n",
       " '로아40퍼플',\n",
       " '로아40화이트',\n",
       " '로얄 안동소주',\n",
       " '로제 와인 750',\n",
       " '로제와인',\n",
       " '루드베리',\n",
       " '르깔롱',\n",
       " '마주 소곡주',\n",
       " '마주 소곡화주',\n",
       " '만강에 비친 달',\n",
       " '만품 산삼가득',\n",
       " '말이야 막걸리야',\n",
       " '맑은 문희주',\n",
       " '맑은내일 Winery 단감명작',\n",
       " '맑은내일 발효 막걸리',\n",
       " '맑은내일 스파클링 막걸리',\n",
       " '맑은내일 우포',\n",
       " '맑은내일 운암1945',\n",
       " '맑은바당',\n",
       " '맑은술 해밀',\n",
       " '매실 막걸리',\n",
       " '매실원주 허니',\n",
       " '매실탁테일',\n",
       " '매실향기 담은 술',\n",
       " '매아랑',\n",
       " '매화깊은밤',\n",
       " '매화마름',\n",
       " '매화마름 호랑이 막걸리',\n",
       " '머루이야기',\n",
       " '메로니아',\n",
       " '메밀로',\n",
       " '메밀이슬',\n",
       " '멜론서리',\n",
       " '면천두견주 360',\n",
       " '면천두견주 700',\n",
       " '명가원 복분자술',\n",
       " '명랑 스컬',\n",
       " '명인 안동소주',\n",
       " '명인 안동소주 22%',\n",
       " '명인 안동소주 양반탈',\n",
       " '명인 안동소주 하회탈',\n",
       " '명인 홍삼주',\n",
       " '명작복분자',\n",
       " '명품홍주',\n",
       " '모든날에',\n",
       " '모리',\n",
       " '모월 연',\n",
       " '모월 인',\n",
       " '모월인미니',\n",
       " '모을동주 약주',\n",
       " '무주구천동머루와인']"
      ]
     },
     "execution_count": 3,
     "metadata": {},
     "output_type": "execute_result"
    }
   ],
   "source": [
    "path = './drinks'\n",
    "drink_lst = os.listdir(path)\n",
    "drink_lst[:207]"
   ]
  },
  {
   "cell_type": "code",
   "execution_count": 4,
   "id": "c8e22476",
   "metadata": {
    "ExecuteTime": {
     "end_time": "2022-03-26T15:54:38.327386Z",
     "start_time": "2022-03-26T15:54:38.315418Z"
    }
   },
   "outputs": [],
   "source": [
    "drink_lst2 = os.listdir(path+'/'+drink_lst[0])"
   ]
  },
  {
   "cell_type": "code",
   "execution_count": 5,
   "id": "d7346d98",
   "metadata": {
    "ExecuteTime": {
     "end_time": "2022-03-26T15:54:38.624519Z",
     "start_time": "2022-03-26T15:54:38.616539Z"
    }
   },
   "outputs": [
    {
     "data": {
      "text/plain": [
       "'1000억 유산균 막걸리'"
      ]
     },
     "execution_count": 5,
     "metadata": {},
     "output_type": "execute_result"
    }
   ],
   "source": [
    "drink_lst[0]"
   ]
  },
  {
   "cell_type": "code",
   "execution_count": 9,
   "id": "7b6dceea",
   "metadata": {
    "ExecuteTime": {
     "end_time": "2022-03-26T15:24:50.488056Z",
     "start_time": "2022-03-26T15:24:50.479082Z"
    }
   },
   "outputs": [
    {
     "data": {
      "text/plain": [
       "'C:\\\\KDT4\\\\fintech\\\\프로젝트3'"
      ]
     },
     "execution_count": 9,
     "metadata": {},
     "output_type": "execute_result"
    }
   ],
   "source": [
    "pwd"
   ]
  },
  {
   "cell_type": "code",
   "execution_count": 10,
   "id": "c720418a",
   "metadata": {
    "ExecuteTime": {
     "end_time": "2022-03-26T15:24:51.780408Z",
     "start_time": "2022-03-26T15:24:51.766484Z"
    }
   },
   "outputs": [
    {
     "name": "stdout",
     "output_type": "stream",
     "text": [
      "./drinks/1000억 유산균 막걸리/1000억 유산균 막걸리.jpg\n"
     ]
    }
   ],
   "source": [
    "img_name = path +'/'+ drink_lst[0]+'/'+ drink_lst2[0] \n",
    "print(img_name)\n",
    "# C:\\KDT4\\fintech\\프로젝트3\\drinks\\1000억 유산균 막걸리"
   ]
  },
  {
   "cell_type": "code",
   "execution_count": 34,
   "id": "c8791670",
   "metadata": {
    "ExecuteTime": {
     "end_time": "2022-03-26T15:40:30.067073Z",
     "start_time": "2022-03-26T15:40:30.059094Z"
    }
   },
   "outputs": [],
   "source": [
    "# img = cv2.imread(img_name, cv2.IMREAD_COLOR)\n",
    "# cv2.imshow('image',img)\n",
    "\n",
    "# # dst = img[0:200, 0:500].copy()\n",
    "\n",
    "# # cv2.imshow('cut',img)\n",
    "\n",
    "# cv2.waitKey(0)\n",
    "# cv2.destroyAllWindows()"
   ]
  },
  {
   "cell_type": "markdown",
   "id": "5e17279e",
   "metadata": {},
   "source": [
    "# Pillow 사용"
   ]
  },
  {
   "cell_type": "code",
   "execution_count": 6,
   "id": "992546f8",
   "metadata": {
    "ExecuteTime": {
     "end_time": "2022-03-26T15:54:44.516490Z",
     "start_time": "2022-03-26T15:54:44.505528Z"
    }
   },
   "outputs": [],
   "source": [
    "# !pip install pillow"
   ]
  },
  {
   "cell_type": "code",
   "execution_count": 7,
   "id": "06fe3bf1",
   "metadata": {
    "ExecuteTime": {
     "end_time": "2022-03-26T15:54:44.719305Z",
     "start_time": "2022-03-26T15:54:44.709332Z"
    }
   },
   "outputs": [
    {
     "data": {
      "text/plain": [
       "['1000억 유산균 막걸리.jpg',\n",
       " '1000억 유산균 막걸리1.jpg',\n",
       " '1000억 유산균 막걸리11_c.jpg',\n",
       " '1000억 유산균 막걸리14.jpg',\n",
       " '1000억 유산균 막걸리16.jpg',\n",
       " '1000억 유산균 막걸리17.jpg',\n",
       " '1000억 유산균 막걸리18.jpg',\n",
       " '1000억 유산균 막걸리22_c.jpg',\n",
       " '1000억 유산균 막걸리23.jpg',\n",
       " '1000억 유산균 막걸리24_c.jpg',\n",
       " '1000억 유산균 막걸리25.jpg',\n",
       " '1000억 유산균 막걸리27.jpg',\n",
       " '1000억 유산균 막걸리28_c.jpg',\n",
       " '1000억 유산균 막걸리28_c2.jpg',\n",
       " '1000억 유산균 막걸리32_1.jpg',\n",
       " '1000억 유산균 막걸리33.jpg',\n",
       " '1000억 유산균 막걸리34.jpg',\n",
       " '1000억 유산균 막걸리35.jpg',\n",
       " '1000억 유산균 막걸리38.jpg',\n",
       " '1000억 유산균 막걸리38_c.jpg',\n",
       " '1000억 유산균 막걸리39._c2jpg.jpg',\n",
       " '1000억 유산균 막걸리39_c.jpg',\n",
       " '1000억 유산균 막걸리4.jpg',\n",
       " '1000억 유산균 막걸리41_c.jpg',\n",
       " '1000억 유산균 막걸리48.jpg',\n",
       " '1000억 유산균 막걸리5_c.jpg',\n",
       " '1000억 유산균 막걸리5_c2.jpg',\n",
       " '1000억 유산균 막걸리5_c3.jpg',\n",
       " '1000억 유산균 막걸리7_c.jpg',\n",
       " '1000억 유산균 막걸리8.jpg']"
      ]
     },
     "execution_count": 7,
     "metadata": {},
     "output_type": "execute_result"
    }
   ],
   "source": [
    "os.listdir(path+'/'+drink_lst[0])"
   ]
  },
  {
   "cell_type": "code",
   "execution_count": 19,
   "id": "fcee2703",
   "metadata": {
    "ExecuteTime": {
     "end_time": "2022-03-26T15:56:59.711432Z",
     "start_time": "2022-03-26T15:56:59.700485Z"
    },
    "scrolled": true
   },
   "outputs": [
    {
     "data": {
      "text/plain": [
       "'./drinks/SSOA-포도/SSOA-포도.jpg'"
      ]
     },
     "execution_count": 19,
     "metadata": {},
     "output_type": "execute_result"
    }
   ],
   "source": [
    "path = './drinks'\n",
    "drink_lst = os.listdir(path) # 전체 술 종류\n",
    "# drink_lst[:207]\n",
    "\n",
    "# i= i번째 술\n",
    "i= 4\n",
    "# v = 술 이미지 v번째\n",
    "v=0\n",
    "drink_lst2 = os.listdir(path+'/'+drink_lst[i]) # 술 이미지 리스트\n",
    "\n",
    "img_name = path +'/'+ drink_lst[i]+'/'+ drink_lst2[v]\n",
    "img_name"
   ]
  },
  {
   "cell_type": "code",
   "execution_count": 20,
   "id": "4b202eca",
   "metadata": {
    "ExecuteTime": {
     "end_time": "2022-03-26T15:57:00.007216Z",
     "start_time": "2022-03-26T15:56:59.989163Z"
    }
   },
   "outputs": [],
   "source": [
    "from PIL import Image\n",
    "\n",
    "img = Image.open(img_name)\n"
   ]
  },
  {
   "cell_type": "code",
   "execution_count": 21,
   "id": "85dc9ac8",
   "metadata": {
    "ExecuteTime": {
     "end_time": "2022-03-26T15:57:00.273408Z",
     "start_time": "2022-03-26T15:57:00.200036Z"
    },
    "scrolled": true
   },
   "outputs": [
    {
     "data": {
      "image/png": "[encoded data removed]",
      "text/plain": [
       "<Figure size 432x288 with 1 Axes>"
      ]
     },
     "metadata": {
      "needs_background": "light"
     },
     "output_type": "display_data"
    }
   ],
   "source": [
    "img_array = np.array(img)\n",
    "\n",
    "plt.imshow(img_array)\n",
    "plt.axis(\"off\")\n",
    "plt.show()"
   ]
  },
  {
   "cell_type": "code",
   "execution_count": 18,
   "id": "586b8a47",
   "metadata": {
    "ExecuteTime": {
     "end_time": "2022-03-26T15:55:37.163694Z",
     "start_time": "2022-03-26T15:55:37.146710Z"
    }
   },
   "outputs": [
    {
     "data": {
      "image/png": "[encoded data removed]",
      "text/plain": [
       "<PIL.Image.Image image mode=RGB size=100x100 at 0x238EB2E0730>"
      ]
     },
     "execution_count": 18,
     "metadata": {},
     "output_type": "execute_result"
    }
   ],
   "source": [
    "img_cropped = img.crop((100,100, 200, 200))\n",
    "img_cropped"
   ]
  },
  {
   "cell_type": "code",
   "execution_count": null,
   "id": "982b7e2e",
   "metadata": {},
   "outputs": [],
   "source": [
    "# 저장\n",
    "# img.save(\"./logo.bmp\")\n",
    "# img = Image.open(\"./logo.bmp\")"
   ]
  },
  {
   "cell_type": "code",
   "execution_count": null,
   "id": "94d930b6",
   "metadata": {},
   "outputs": [],
   "source": []
  }
 ],
 "metadata": {
  "kernelspec": {
   "display_name": "Python 3 (ipykernel)",
   "language": "python",
   "name": "python3"
  },
  "language_info": {
   "codemirror_mode": {
    "name": "ipython",
    "version": 3
   },
   "file_extension": ".py",
   "mimetype": "text/x-python",
   "name": "python",
   "nbconvert_exporter": "python",
   "pygments_lexer": "ipython3",
   "version": "3.9.7"
  },
  "toc": {
   "base_numbering": 1,
   "nav_menu": {},
   "number_sections": true,
   "sideBar": true,
   "skip_h1_title": false,
   "title_cell": "Table of Contents",
   "title_sidebar": "Contents",
   "toc_cell": false,
   "toc_position": {},
   "toc_section_display": true,
   "toc_window_display": false
  },
  "varInspector": {
   "cols": {
    "lenName": 16,
    "lenType": 16,
    "lenVar": 40
   },
   "kernels_config": {
    "python": {
     "delete_cmd_postfix": "",
     "delete_cmd_prefix": "del ",
     "library": "var_list.py",
     "varRefreshCmd": "print(var_dic_list())"
    },
    "r": {
     "delete_cmd_postfix": ") ",
     "delete_cmd_prefix": "rm(",
     "library": "var_list.r",
     "varRefreshCmd": "cat(var_dic_list()) "
    }
   },
   "types_to_exclude": [
    "module",
    "function",
    "builtin_function_or_method",
    "instance",
    "_Feature"
   ],
   "window_display": false
  }
 },
 "nbformat": 4,
 "nbformat_minor": 5
}
