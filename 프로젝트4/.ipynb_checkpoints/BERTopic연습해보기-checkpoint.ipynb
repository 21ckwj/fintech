{
 "cells": [
  {
   "cell_type": "markdown",
   "id": "ad0c3e1c",
   "metadata": {},
   "source": [
    "# BERTopic"
   ]
  },
  {
   "cell_type": "code",
   "execution_count": 1,
   "id": "54a8fae7",
   "metadata": {
    "ExecuteTime": {
     "end_time": "2022-04-21T03:57:19.192442Z",
     "start_time": "2022-04-21T03:57:18.662859Z"
    }
   },
   "outputs": [],
   "source": [
    "import pandas as pd\n",
    "import numpy as np\n",
    "import matplotlib.pyplot as plt\n",
    "import os"
   ]
  },
  {
   "cell_type": "code",
   "execution_count": 2,
   "id": "45c81ede",
   "metadata": {
    "ExecuteTime": {
     "end_time": "2022-04-21T03:57:19.349023Z",
     "start_time": "2022-04-21T03:57:19.338053Z"
    },
    "scrolled": true
   },
   "outputs": [],
   "source": [
    "# !pip install bertopic[visualization]"
   ]
  },
  {
   "cell_type": "code",
   "execution_count": 3,
   "id": "117ca0a4",
   "metadata": {
    "ExecuteTime": {
     "end_time": "2022-04-21T03:57:19.897557Z",
     "start_time": "2022-04-21T03:57:19.882596Z"
    }
   },
   "outputs": [],
   "source": [
    "# !pip install hdbscan"
   ]
  },
  {
   "cell_type": "code",
   "execution_count": 4,
   "id": "320033c7",
   "metadata": {
    "ExecuteTime": {
     "end_time": "2022-04-21T03:57:20.420184Z",
     "start_time": "2022-04-21T03:57:20.411182Z"
    },
    "scrolled": true
   },
   "outputs": [
    {
     "name": "stdout",
     "output_type": "stream",
     "text": [
      "C:\\KDT4\\ML,DL\\프로젝트4\n"
     ]
    },
    {
     "data": {
      "text/plain": [
       "['news_stock-market-news_00001.csv',\n",
       " 'news_stock-market-news_00002.csv',\n",
       " 'news_stock-market-news_00003.csv',\n",
       " 'news_stock-market-news_00004.csv',\n",
       " 'news_stock-market-news_00005.csv',\n",
       " 'news_stock-market-news_00006.csv',\n",
       " 'news_stock-market-news_00007.csv',\n",
       " 'news_stock-market-news_00008.csv',\n",
       " 'news_stock-market-news_00009.csv',\n",
       " 'news_stock-market-news_00010.csv',\n",
       " 'news_stock-market-news_00011.csv',\n",
       " 'news_stock-market-news_00012.csv',\n",
       " 'news_stock-market-news_00013.csv',\n",
       " 'news_stock-market-news_00014.csv',\n",
       " 'news_stock-market-news_00015.csv',\n",
       " 'news_stock-market-news_00016.csv',\n",
       " 'news_stock-market-news_00017.csv',\n",
       " 'news_stock-market-news_00018.csv',\n",
       " 'news_stock-market-news_00019.csv',\n",
       " 'news_stock-market-news_00020.csv',\n",
       " 'news_stock-market-news_00021.csv',\n",
       " 'news_stock-market-news_00022.csv',\n",
       " 'news_stock-market-news_00023.csv',\n",
       " 'news_stock-market-news_00024.csv',\n",
       " 'news_stock-market-news_00025.csv',\n",
       " 'news_stock-market-news_00026.csv',\n",
       " 'news_stock-market-news_00027.csv',\n",
       " 'news_stock-market-news_00028.csv',\n",
       " 'news_stock-market-news_00029.csv',\n",
       " 'news_stock-market-news_00030.csv',\n",
       " 'news_stock-market-news_00031.csv',\n",
       " 'news_stock-market-news_00032.csv',\n",
       " 'news_stock-market-news_00033.csv',\n",
       " 'news_stock-market-news_00034.csv',\n",
       " 'news_stock-market-news_00035.csv',\n",
       " 'news_stock-market-news_00036.csv',\n",
       " 'news_stock-market-news_00037.csv',\n",
       " 'news_stock-market-news_00038.csv',\n",
       " 'news_stock-market-news_00039.csv',\n",
       " 'news_stock-market-news_00040.csv',\n",
       " 'news_stock-market-news_00041.csv',\n",
       " 'news_stock-market-news_00042.csv',\n",
       " 'news_stock-market-news_00043.csv',\n",
       " 'news_stock-market-news_00044.csv',\n",
       " 'news_stock-market-news_00045.csv',\n",
       " 'news_stock-market-news_00046.csv',\n",
       " 'news_stock-market-news_00047.csv',\n",
       " 'news_stock-market-news_00048.csv',\n",
       " 'news_stock-market-news_00049.csv',\n",
       " 'news_stock-market-news_00050.csv',\n",
       " 'news_stock-market-news_00051.csv',\n",
       " 'news_stock-market-news_00052.csv',\n",
       " 'news_stock-market-news_00053.csv',\n",
       " 'news_stock-market-news_00054.csv',\n",
       " 'news_stock-market-news_00055.csv',\n",
       " 'news_stock-market-news_00056.csv',\n",
       " 'news_stock-market-news_00057.csv',\n",
       " 'news_stock-market-news_00058.csv',\n",
       " 'news_stock-market-news_00060.csv',\n",
       " 'news_stock-market-news_00061.csv',\n",
       " 'news_stock-market-news_00062.csv',\n",
       " 'news_stock-market-news_00063.csv',\n",
       " 'news_stock-market-news_00064.csv',\n",
       " 'news_stock-market-news_00065.csv',\n",
       " 'news_stock-market-news_00066.csv',\n",
       " 'news_stock-market-news_00067.csv',\n",
       " 'news_stock-market-news_00068.csv']"
      ]
     },
     "execution_count": 4,
     "metadata": {},
     "output_type": "execute_result"
    }
   ],
   "source": [
    "# 파일읽기\n",
    "\n",
    "path = os.getcwd()\n",
    "print(path)\n",
    "data_path = os.path.join(path,'data','stock-market-news')\n",
    "data_list = os.listdir(data_path)\n",
    "data_list"
   ]
  },
  {
   "cell_type": "code",
   "execution_count": 6,
   "id": "a9a16891",
   "metadata": {
    "ExecuteTime": {
     "end_time": "2022-04-21T03:58:38.831441Z",
     "start_time": "2022-04-21T03:58:38.778583Z"
    }
   },
   "outputs": [
    {
     "data": {
      "text/html": [
       "<div>\n",
       "<style scoped>\n",
       "    .dataframe tbody tr th:only-of-type {\n",
       "        vertical-align: middle;\n",
       "    }\n",
       "\n",
       "    .dataframe tbody tr th {\n",
       "        vertical-align: top;\n",
       "    }\n",
       "\n",
       "    .dataframe thead th {\n",
       "        text-align: right;\n",
       "    }\n",
       "</style>\n",
       "<table border=\"1\" class=\"dataframe\">\n",
       "  <thead>\n",
       "    <tr style=\"text-align: right;\">\n",
       "      <th></th>\n",
       "      <th>company</th>\n",
       "      <th>date</th>\n",
       "      <th>title</th>\n",
       "      <th>content</th>\n",
       "    </tr>\n",
       "  </thead>\n",
       "  <tbody>\n",
       "    <tr>\n",
       "      <th>0</th>\n",
       "      <td>By Reuters</td>\n",
       "      <td>&lt;span&gt;4 hours ago (Apr 16, 2022 07:10PM ET)&lt;/s...</td>\n",
       "      <td>Judge rules Musk's tweets over taking Tesla pr...</td>\n",
       "      <td>By Hyunjoo Jin\\nSAN FRANCISCO (Reuters) - A fe...</td>\n",
       "    </tr>\n",
       "    <tr>\n",
       "      <th>1</th>\n",
       "      <td>By Reuters</td>\n",
       "      <td>&lt;span&gt;5 hours ago (Apr 16, 2022 06:05PM ET)&lt;/s...</td>\n",
       "      <td>New EU sanctions on Russia to target Sberbank,...</td>\n",
       "      <td>FRANKFURT (Reuters) - The European Union's for...</td>\n",
       "    </tr>\n",
       "    <tr>\n",
       "      <th>2</th>\n",
       "      <td>By FXEmpire</td>\n",
       "      <td>NaN</td>\n",
       "      <td>NaN</td>\n",
       "      <td>NaN</td>\n",
       "    </tr>\n",
       "    <tr>\n",
       "      <th>3</th>\n",
       "      <td>By Reuters</td>\n",
       "      <td>&lt;span&gt;8 hours ago (Apr 16, 2022 03:36PM ET)&lt;/s...</td>\n",
       "      <td>Russian oligarch Deripaska's yacht arrives in ...</td>\n",
       "      <td>ISTANBUL (Reuters) - A yacht linked to Russian...</td>\n",
       "    </tr>\n",
       "    <tr>\n",
       "      <th>4</th>\n",
       "      <td>By FXEmpire</td>\n",
       "      <td>NaN</td>\n",
       "      <td>NaN</td>\n",
       "      <td>NaN</td>\n",
       "    </tr>\n",
       "  </tbody>\n",
       "</table>\n",
       "</div>"
      ],
      "text/plain": [
       "       company                                               date  \\\n",
       "0   By Reuters  <span>4 hours ago (Apr 16, 2022 07:10PM ET)</s...   \n",
       "1   By Reuters  <span>5 hours ago (Apr 16, 2022 06:05PM ET)</s...   \n",
       "2  By FXEmpire                                                NaN   \n",
       "3   By Reuters  <span>8 hours ago (Apr 16, 2022 03:36PM ET)</s...   \n",
       "4  By FXEmpire                                                NaN   \n",
       "\n",
       "                                               title  \\\n",
       "0  Judge rules Musk's tweets over taking Tesla pr...   \n",
       "1  New EU sanctions on Russia to target Sberbank,...   \n",
       "2                                                NaN   \n",
       "3  Russian oligarch Deripaska's yacht arrives in ...   \n",
       "4                                                NaN   \n",
       "\n",
       "                                             content  \n",
       "0  By Hyunjoo Jin\\nSAN FRANCISCO (Reuters) - A fe...  \n",
       "1  FRANKFURT (Reuters) - The European Union's for...  \n",
       "2                                                NaN  \n",
       "3  ISTANBUL (Reuters) - A yacht linked to Russian...  \n",
       "4                                                NaN  "
      ]
     },
     "execution_count": 6,
     "metadata": {},
     "output_type": "execute_result"
    }
   ],
   "source": [
    "temp = pd.read_csv('./data/stock-market-news/news_stock-market-news_00001.csv',index_col=0)\n",
    "temp.head()"
   ]
  },
  {
   "cell_type": "code",
   "execution_count": null,
   "id": "b7dd6a1d",
   "metadata": {},
   "outputs": [],
   "source": [
    "for data in data_list:\n",
    "    "
   ]
  },
  {
   "cell_type": "code",
   "execution_count": null,
   "id": "722e404c",
   "metadata": {},
   "outputs": [],
   "source": []
  },
  {
   "cell_type": "code",
   "execution_count": 11,
   "id": "47a1b263",
   "metadata": {
    "ExecuteTime": {
     "end_time": "2022-04-21T03:41:53.305950Z",
     "start_time": "2022-04-21T03:41:53.290990Z"
    }
   },
   "outputs": [],
   "source": [
    "from bertopic import BERTopic"
   ]
  },
  {
   "cell_type": "code",
   "execution_count": null,
   "id": "28eeb2df",
   "metadata": {},
   "outputs": [],
   "source": [
    "model = BERTopic()"
   ]
  },
  {
   "cell_type": "code",
   "execution_count": null,
   "id": "d2af0212",
   "metadata": {},
   "outputs": [],
   "source": []
  },
  {
   "cell_type": "code",
   "execution_count": null,
   "id": "1b761601",
   "metadata": {},
   "outputs": [],
   "source": []
  },
  {
   "cell_type": "code",
   "execution_count": null,
   "id": "c09a0dfe",
   "metadata": {},
   "outputs": [],
   "source": []
  },
  {
   "cell_type": "code",
   "execution_count": null,
   "id": "ba3a363f",
   "metadata": {},
   "outputs": [],
   "source": []
  },
  {
   "cell_type": "code",
   "execution_count": null,
   "id": "05e3c13d",
   "metadata": {},
   "outputs": [],
   "source": []
  },
  {
   "cell_type": "code",
   "execution_count": null,
   "id": "36f69e62",
   "metadata": {},
   "outputs": [],
   "source": []
  },
  {
   "cell_type": "code",
   "execution_count": null,
   "id": "65bf557a",
   "metadata": {},
   "outputs": [],
   "source": []
  },
  {
   "cell_type": "code",
   "execution_count": null,
   "id": "d6213ce6",
   "metadata": {},
   "outputs": [],
   "source": []
  },
  {
   "cell_type": "code",
   "execution_count": null,
   "id": "48af416c",
   "metadata": {},
   "outputs": [],
   "source": []
  },
  {
   "cell_type": "code",
   "execution_count": null,
   "id": "a6b70ce1",
   "metadata": {},
   "outputs": [],
   "source": []
  },
  {
   "cell_type": "code",
   "execution_count": null,
   "id": "77feef9f",
   "metadata": {},
   "outputs": [],
   "source": []
  },
  {
   "cell_type": "code",
   "execution_count": null,
   "id": "a66122f7",
   "metadata": {},
   "outputs": [],
   "source": []
  },
  {
   "cell_type": "code",
   "execution_count": null,
   "id": "6c401ede",
   "metadata": {},
   "outputs": [],
   "source": []
  },
  {
   "cell_type": "code",
   "execution_count": null,
   "id": "67e96df9",
   "metadata": {},
   "outputs": [],
   "source": []
  },
  {
   "cell_type": "code",
   "execution_count": null,
   "id": "67e7c666",
   "metadata": {},
   "outputs": [],
   "source": []
  }
 ],
 "metadata": {
  "kernelspec": {
   "display_name": "Python 3 (ipykernel)",
   "language": "python",
   "name": "python3"
  },
  "language_info": {
   "codemirror_mode": {
    "name": "ipython",
    "version": 3
   },
   "file_extension": ".py",
   "mimetype": "text/x-python",
   "name": "python",
   "nbconvert_exporter": "python",
   "pygments_lexer": "ipython3",
   "version": "3.9.7"
  },
  "toc": {
   "base_numbering": 1,
   "nav_menu": {},
   "number_sections": true,
   "sideBar": true,
   "skip_h1_title": false,
   "title_cell": "Table of Contents",
   "title_sidebar": "Contents",
   "toc_cell": false,
   "toc_position": {},
   "toc_section_display": true,
   "toc_window_display": false
  },
  "varInspector": {
   "cols": {
    "lenName": 16,
    "lenType": 16,
    "lenVar": 40
   },
   "kernels_config": {
    "python": {
     "delete_cmd_postfix": "",
     "delete_cmd_prefix": "del ",
     "library": "var_list.py",
     "varRefreshCmd": "print(var_dic_list())"
    },
    "r": {
     "delete_cmd_postfix": ") ",
     "delete_cmd_prefix": "rm(",
     "library": "var_list.r",
     "varRefreshCmd": "cat(var_dic_list()) "
    }
   },
   "types_to_exclude": [
    "module",
    "function",
    "builtin_function_or_method",
    "instance",
    "_Feature"
   ],
   "window_display": false
  }
 },
 "nbformat": 4,
 "nbformat_minor": 5
}
