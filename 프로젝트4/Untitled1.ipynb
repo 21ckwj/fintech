{
 "cells": [
  {
   "cell_type": "code",
   "execution_count": 1,
   "id": "db5def38",
   "metadata": {
    "ExecuteTime": {
     "end_time": "2022-04-23T00:40:58.509061Z",
     "start_time": "2022-04-23T00:40:58.128210Z"
    }
   },
   "outputs": [],
   "source": [
    "import pandas as pd\n",
    "import numpy as np"
   ]
  },
  {
   "cell_type": "code",
   "execution_count": 3,
   "id": "5f33b283",
   "metadata": {
    "ExecuteTime": {
     "end_time": "2022-04-23T00:41:21.339440Z",
     "start_time": "2022-04-23T00:41:21.235210Z"
    }
   },
   "outputs": [
    {
     "data": {
      "text/html": [
       "<div>\n",
       "<style scoped>\n",
       "    .dataframe tbody tr th:only-of-type {\n",
       "        vertical-align: middle;\n",
       "    }\n",
       "\n",
       "    .dataframe tbody tr th {\n",
       "        vertical-align: top;\n",
       "    }\n",
       "\n",
       "    .dataframe thead th {\n",
       "        text-align: right;\n",
       "    }\n",
       "</style>\n",
       "<table border=\"1\" class=\"dataframe\">\n",
       "  <thead>\n",
       "    <tr style=\"text-align: right;\">\n",
       "      <th></th>\n",
       "      <th>date</th>\n",
       "      <th>news_oil</th>\n",
       "      <th>news_ship</th>\n",
       "      <th>news_sc</th>\n",
       "      <th>news_steel</th>\n",
       "      <th>news_vh</th>\n",
       "      <th>news_minus</th>\n",
       "      <th>news_others</th>\n",
       "    </tr>\n",
       "  </thead>\n",
       "  <tbody>\n",
       "    <tr>\n",
       "      <th>0</th>\n",
       "      <td>&lt;span&gt;3 hours ago (Apr 17, 2022 05:31AM ET)&lt;/s...</td>\n",
       "      <td>NaN</td>\n",
       "      <td>NaN</td>\n",
       "      <td>NaN</td>\n",
       "      <td>NaN</td>\n",
       "      <td>NaN</td>\n",
       "      <td>NaN</td>\n",
       "      <td>By Tarek Amara\\nTUNIS (Reuters) - Some countri...</td>\n",
       "    </tr>\n",
       "    <tr>\n",
       "      <th>1</th>\n",
       "      <td>&lt;span&gt;5 hours ago (Apr 17, 2022 03:32AM ET)&lt;/s...</td>\n",
       "      <td>By Barani Krishnan\\nInvesting.com -- Will they...</td>\n",
       "      <td>NaN</td>\n",
       "      <td>NaN</td>\n",
       "      <td>NaN</td>\n",
       "      <td>NaN</td>\n",
       "      <td>NaN</td>\n",
       "      <td>NaN</td>\n",
       "    </tr>\n",
       "    <tr>\n",
       "      <th>2</th>\n",
       "      <td>&lt;span&gt;8 hours ago (Apr 17, 2022 12:41AM ET)&lt;/s...</td>\n",
       "      <td>MEXICO CITY (Reuters) -Mexican state oil compa...</td>\n",
       "      <td>NaN</td>\n",
       "      <td>NaN</td>\n",
       "      <td>NaN</td>\n",
       "      <td>NaN</td>\n",
       "      <td>NaN</td>\n",
       "      <td>NaN</td>\n",
       "    </tr>\n",
       "    <tr>\n",
       "      <th>3</th>\n",
       "      <td>&lt;span&gt;14 hours ago (Apr 16, 2022 06:05PM ET)&lt;/...</td>\n",
       "      <td>NaN</td>\n",
       "      <td>NaN</td>\n",
       "      <td>NaN</td>\n",
       "      <td>NaN</td>\n",
       "      <td>NaN</td>\n",
       "      <td>By Kanishka Singh\\nWASHINGTON (Reuters) - New ...</td>\n",
       "      <td>NaN</td>\n",
       "    </tr>\n",
       "    <tr>\n",
       "      <th>4</th>\n",
       "      <td>&lt;span&gt;20 hours ago (Apr 16, 2022 12:15PM ET)&lt;/...</td>\n",
       "      <td>By Michel Rose\\nMARSEILLE, France (Reuters) - ...</td>\n",
       "      <td>NaN</td>\n",
       "      <td>NaN</td>\n",
       "      <td>NaN</td>\n",
       "      <td>NaN</td>\n",
       "      <td>NaN</td>\n",
       "      <td>NaN</td>\n",
       "    </tr>\n",
       "  </tbody>\n",
       "</table>\n",
       "</div>"
      ],
      "text/plain": [
       "                                                date  \\\n",
       "0  <span>3 hours ago (Apr 17, 2022 05:31AM ET)</s...   \n",
       "1  <span>5 hours ago (Apr 17, 2022 03:32AM ET)</s...   \n",
       "2  <span>8 hours ago (Apr 17, 2022 12:41AM ET)</s...   \n",
       "3  <span>14 hours ago (Apr 16, 2022 06:05PM ET)</...   \n",
       "4  <span>20 hours ago (Apr 16, 2022 12:15PM ET)</...   \n",
       "\n",
       "                                            news_oil news_ship news_sc  \\\n",
       "0                                                NaN       NaN     NaN   \n",
       "1  By Barani Krishnan\\nInvesting.com -- Will they...       NaN     NaN   \n",
       "2  MEXICO CITY (Reuters) -Mexican state oil compa...       NaN     NaN   \n",
       "3                                                NaN       NaN     NaN   \n",
       "4  By Michel Rose\\nMARSEILLE, France (Reuters) - ...       NaN     NaN   \n",
       "\n",
       "   news_steel news_vh                                         news_minus  \\\n",
       "0         NaN     NaN                                                NaN   \n",
       "1         NaN     NaN                                                NaN   \n",
       "2         NaN     NaN                                                NaN   \n",
       "3         NaN     NaN  By Kanishka Singh\\nWASHINGTON (Reuters) - New ...   \n",
       "4         NaN     NaN                                                NaN   \n",
       "\n",
       "                                         news_others  \n",
       "0  By Tarek Amara\\nTUNIS (Reuters) - Some countri...  \n",
       "1                                                NaN  \n",
       "2                                                NaN  \n",
       "3                                                NaN  \n",
       "4                                                NaN  "
      ]
     },
     "execution_count": 3,
     "metadata": {},
     "output_type": "execute_result"
    }
   ],
   "source": [
    "df = pd.read_csv('./data/뉴스분류_commodities-news_news_commodities-news_00001.csv.csv',index_col=0)\n",
    "df.head()"
   ]
  },
  {
   "cell_type": "code",
   "execution_count": null,
   "id": "c3a74186",
   "metadata": {},
   "outputs": [],
   "source": []
  }
 ],
 "metadata": {
  "kernelspec": {
   "display_name": "Python 3 (ipykernel)",
   "language": "python",
   "name": "python3"
  },
  "language_info": {
   "codemirror_mode": {
    "name": "ipython",
    "version": 3
   },
   "file_extension": ".py",
   "mimetype": "text/x-python",
   "name": "python",
   "nbconvert_exporter": "python",
   "pygments_lexer": "ipython3",
   "version": "3.9.7"
  },
  "toc": {
   "base_numbering": 1,
   "nav_menu": {},
   "number_sections": true,
   "sideBar": true,
   "skip_h1_title": false,
   "title_cell": "Table of Contents",
   "title_sidebar": "Contents",
   "toc_cell": false,
   "toc_position": {},
   "toc_section_display": true,
   "toc_window_display": false
  },
  "varInspector": {
   "cols": {
    "lenName": 16,
    "lenType": 16,
    "lenVar": 40
   },
   "kernels_config": {
    "python": {
     "delete_cmd_postfix": "",
     "delete_cmd_prefix": "del ",
     "library": "var_list.py",
     "varRefreshCmd": "print(var_dic_list())"
    },
    "r": {
     "delete_cmd_postfix": ") ",
     "delete_cmd_prefix": "rm(",
     "library": "var_list.r",
     "varRefreshCmd": "cat(var_dic_list()) "
    }
   },
   "types_to_exclude": [
    "module",
    "function",
    "builtin_function_or_method",
    "instance",
    "_Feature"
   ],
   "window_display": false
  }
 },
 "nbformat": 4,
 "nbformat_minor": 5
}
