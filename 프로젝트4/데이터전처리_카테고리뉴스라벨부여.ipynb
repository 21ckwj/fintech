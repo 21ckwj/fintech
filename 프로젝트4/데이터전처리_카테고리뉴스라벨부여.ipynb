{
 "cells": [
  {
   "cell_type": "markdown",
   "id": "3d6dbf0c",
   "metadata": {},
   "source": [
    "# 카테고리별 기사에 라벨부여하기"
   ]
  },
  {
   "cell_type": "code",
   "execution_count": 25,
   "id": "db5def38",
   "metadata": {
    "ExecuteTime": {
     "end_time": "2022-04-23T07:58:02.573800Z",
     "start_time": "2022-04-23T07:58:02.569810Z"
    }
   },
   "outputs": [],
   "source": [
    "import pandas as pd\n",
    "import numpy as np\n",
    "import os\n",
    "import re"
   ]
  },
  {
   "cell_type": "code",
   "execution_count": 9,
   "id": "5f33b283",
   "metadata": {
    "ExecuteTime": {
     "end_time": "2022-04-23T07:20:02.346962Z",
     "start_time": "2022-04-23T07:20:02.283132Z"
    }
   },
   "outputs": [
    {
     "data": {
      "text/html": [
       "<div>\n",
       "<style scoped>\n",
       "    .dataframe tbody tr th:only-of-type {\n",
       "        vertical-align: middle;\n",
       "    }\n",
       "\n",
       "    .dataframe tbody tr th {\n",
       "        vertical-align: top;\n",
       "    }\n",
       "\n",
       "    .dataframe thead th {\n",
       "        text-align: right;\n",
       "    }\n",
       "</style>\n",
       "<table border=\"1\" class=\"dataframe\">\n",
       "  <thead>\n",
       "    <tr style=\"text-align: right;\">\n",
       "      <th></th>\n",
       "      <th>date</th>\n",
       "      <th>news_oil</th>\n",
       "      <th>news_ship</th>\n",
       "      <th>news_sc</th>\n",
       "      <th>news_steel</th>\n",
       "      <th>news_vh</th>\n",
       "      <th>news_minus</th>\n",
       "      <th>news_others</th>\n",
       "    </tr>\n",
       "  </thead>\n",
       "  <tbody>\n",
       "    <tr>\n",
       "      <th>0</th>\n",
       "      <td>&lt;span&gt;3 hours ago (Apr 17, 2022 05:31AM ET)&lt;/s...</td>\n",
       "      <td>NaN</td>\n",
       "      <td>NaN</td>\n",
       "      <td>NaN</td>\n",
       "      <td>NaN</td>\n",
       "      <td>NaN</td>\n",
       "      <td>NaN</td>\n",
       "      <td>By Tarek Amara\\nTUNIS (Reuters) - Some countri...</td>\n",
       "    </tr>\n",
       "    <tr>\n",
       "      <th>1</th>\n",
       "      <td>&lt;span&gt;5 hours ago (Apr 17, 2022 03:32AM ET)&lt;/s...</td>\n",
       "      <td>By Barani Krishnan\\nInvesting.com -- Will they...</td>\n",
       "      <td>NaN</td>\n",
       "      <td>NaN</td>\n",
       "      <td>NaN</td>\n",
       "      <td>NaN</td>\n",
       "      <td>NaN</td>\n",
       "      <td>NaN</td>\n",
       "    </tr>\n",
       "    <tr>\n",
       "      <th>2</th>\n",
       "      <td>&lt;span&gt;8 hours ago (Apr 17, 2022 12:41AM ET)&lt;/s...</td>\n",
       "      <td>MEXICO CITY (Reuters) -Mexican state oil compa...</td>\n",
       "      <td>NaN</td>\n",
       "      <td>NaN</td>\n",
       "      <td>NaN</td>\n",
       "      <td>NaN</td>\n",
       "      <td>NaN</td>\n",
       "      <td>NaN</td>\n",
       "    </tr>\n",
       "    <tr>\n",
       "      <th>3</th>\n",
       "      <td>&lt;span&gt;14 hours ago (Apr 16, 2022 06:05PM ET)&lt;/...</td>\n",
       "      <td>NaN</td>\n",
       "      <td>NaN</td>\n",
       "      <td>NaN</td>\n",
       "      <td>NaN</td>\n",
       "      <td>NaN</td>\n",
       "      <td>By Kanishka Singh\\nWASHINGTON (Reuters) - New ...</td>\n",
       "      <td>NaN</td>\n",
       "    </tr>\n",
       "    <tr>\n",
       "      <th>4</th>\n",
       "      <td>&lt;span&gt;20 hours ago (Apr 16, 2022 12:15PM ET)&lt;/...</td>\n",
       "      <td>By Michel Rose\\nMARSEILLE, France (Reuters) - ...</td>\n",
       "      <td>NaN</td>\n",
       "      <td>NaN</td>\n",
       "      <td>NaN</td>\n",
       "      <td>NaN</td>\n",
       "      <td>NaN</td>\n",
       "      <td>NaN</td>\n",
       "    </tr>\n",
       "  </tbody>\n",
       "</table>\n",
       "</div>"
      ],
      "text/plain": [
       "                                                date  \\\n",
       "0  <span>3 hours ago (Apr 17, 2022 05:31AM ET)</s...   \n",
       "1  <span>5 hours ago (Apr 17, 2022 03:32AM ET)</s...   \n",
       "2  <span>8 hours ago (Apr 17, 2022 12:41AM ET)</s...   \n",
       "3  <span>14 hours ago (Apr 16, 2022 06:05PM ET)</...   \n",
       "4  <span>20 hours ago (Apr 16, 2022 12:15PM ET)</...   \n",
       "\n",
       "                                            news_oil news_ship news_sc  \\\n",
       "0                                                NaN       NaN     NaN   \n",
       "1  By Barani Krishnan\\nInvesting.com -- Will they...       NaN     NaN   \n",
       "2  MEXICO CITY (Reuters) -Mexican state oil compa...       NaN     NaN   \n",
       "3                                                NaN       NaN     NaN   \n",
       "4  By Michel Rose\\nMARSEILLE, France (Reuters) - ...       NaN     NaN   \n",
       "\n",
       "   news_steel news_vh                                         news_minus  \\\n",
       "0         NaN     NaN                                                NaN   \n",
       "1         NaN     NaN                                                NaN   \n",
       "2         NaN     NaN                                                NaN   \n",
       "3         NaN     NaN  By Kanishka Singh\\nWASHINGTON (Reuters) - New ...   \n",
       "4         NaN     NaN                                                NaN   \n",
       "\n",
       "                                         news_others  \n",
       "0  By Tarek Amara\\nTUNIS (Reuters) - Some countri...  \n",
       "1                                                NaN  \n",
       "2                                                NaN  \n",
       "3                                                NaN  \n",
       "4                                                NaN  "
      ]
     },
     "execution_count": 9,
     "metadata": {},
     "output_type": "execute_result"
    }
   ],
   "source": [
    "df = pd.read_csv('./data/investing_news_1/뉴스분류_commodities-news_news_commodities-news_00001.csv.csv',index_col=0)\n",
    "df.head()"
   ]
  },
  {
   "cell_type": "code",
   "execution_count": 10,
   "id": "c3a74186",
   "metadata": {
    "ExecuteTime": {
     "end_time": "2022-04-23T07:20:05.023289Z",
     "start_time": "2022-04-23T07:20:05.017277Z"
    }
   },
   "outputs": [
    {
     "data": {
      "text/plain": [
       "1693"
      ]
     },
     "execution_count": 10,
     "metadata": {},
     "output_type": "execute_result"
    }
   ],
   "source": [
    "len(df)"
   ]
  },
  {
   "cell_type": "code",
   "execution_count": 11,
   "id": "ab34e746",
   "metadata": {
    "ExecuteTime": {
     "end_time": "2022-04-23T07:20:10.984558Z",
     "start_time": "2022-04-23T07:20:10.969599Z"
    }
   },
   "outputs": [
    {
     "name": "stdout",
     "output_type": "stream",
     "text": [
      "['뉴스분류_commodities-news_news_commodities-news_00001.csv.csv', '뉴스분류_commodities-news_news_commodities-news_00002.csv.csv']\n"
     ]
    }
   ],
   "source": [
    "open_path = './data/뉴스분류_BERTopic/'\n",
    "data_list = os.listdir(open_path) \n",
    "print(data_list)"
   ]
  },
  {
   "cell_type": "code",
   "execution_count": 14,
   "id": "52a05638",
   "metadata": {
    "ExecuteTime": {
     "end_time": "2022-04-23T07:40:45.819093Z",
     "start_time": "2022-04-23T07:40:45.642060Z"
    }
   },
   "outputs": [
    {
     "name": "stdout",
     "output_type": "stream",
     "text": [
      "광고_지수.csv\n",
      "반도체와반도체장비_지수.csv\n",
      "석유와가스_지수.csv\n",
      "조선_지수.csv\n",
      "철강_지수.csv\n"
     ]
    }
   ],
   "source": [
    "# 분류된 데이터\n",
    "open_path = './data/분류된뉴스_BERTopic/'\n",
    "data_list = os.listdir(open_path) \n",
    "\n",
    "# 지수 데이터\n",
    "stock_path = './data/변동률/'\n",
    "stock_list = os.listdir(stock_path)\n",
    "\n",
    "for sto in stock_list:\n",
    "    print(sto)\n",
    "    data_concat = pd.DataFrame()\n",
    "    stock = pd.read_csv(stock_path+sto,index_col=0)\n",
    "    stock['label'] = stock['전일비'].apply(lambda x : 1 if x > 3 else (0 if x >= -3 else -1))"
   ]
  },
  {
   "cell_type": "code",
   "execution_count": 28,
   "id": "667b0e29",
   "metadata": {
    "ExecuteTime": {
     "end_time": "2022-04-23T08:02:50.237849Z",
     "start_time": "2022-04-23T08:02:47.146003Z"
    },
    "scrolled": true
   },
   "outputs": [
    {
     "name": "stdout",
     "output_type": "stream",
     "text": [
      "광고_지수.csv\n"
     ]
    },
    {
     "name": "stderr",
     "output_type": "stream",
     "text": [
      "C:\\Users\\bitcamp\\anaconda3\\lib\\site-packages\\dateutil\\parser\\_parser.py:1207: UnknownTimezoneWarning: tzname ET identified but not understood.  Pass `tzinfos` argument in order to correctly return a timezone-aware datetime.  In a future version, this will raise an exception.\n",
      "  warnings.warn(\"tzname {tzname} identified but not understood.  \"\n",
      "C:\\Users\\bitcamp\\anaconda3\\lib\\site-packages\\dateutil\\parser\\_parser.py:1207: UnknownTimezoneWarning: tzname ET identified but not understood.  Pass `tzinfos` argument in order to correctly return a timezone-aware datetime.  In a future version, this will raise an exception.\n",
      "  warnings.warn(\"tzname {tzname} identified but not understood.  \"\n"
     ]
    },
    {
     "name": "stdout",
     "output_type": "stream",
     "text": [
      "반도체와반도체장비_지수.csv\n"
     ]
    },
    {
     "name": "stderr",
     "output_type": "stream",
     "text": [
      "C:\\Users\\bitcamp\\anaconda3\\lib\\site-packages\\dateutil\\parser\\_parser.py:1207: UnknownTimezoneWarning: tzname ET identified but not understood.  Pass `tzinfos` argument in order to correctly return a timezone-aware datetime.  In a future version, this will raise an exception.\n",
      "  warnings.warn(\"tzname {tzname} identified but not understood.  \"\n",
      "C:\\Users\\bitcamp\\anaconda3\\lib\\site-packages\\dateutil\\parser\\_parser.py:1207: UnknownTimezoneWarning: tzname ET identified but not understood.  Pass `tzinfos` argument in order to correctly return a timezone-aware datetime.  In a future version, this will raise an exception.\n",
      "  warnings.warn(\"tzname {tzname} identified but not understood.  \"\n"
     ]
    },
    {
     "name": "stdout",
     "output_type": "stream",
     "text": [
      "석유와가스_지수.csv\n"
     ]
    },
    {
     "name": "stderr",
     "output_type": "stream",
     "text": [
      "C:\\Users\\bitcamp\\anaconda3\\lib\\site-packages\\dateutil\\parser\\_parser.py:1207: UnknownTimezoneWarning: tzname ET identified but not understood.  Pass `tzinfos` argument in order to correctly return a timezone-aware datetime.  In a future version, this will raise an exception.\n",
      "  warnings.warn(\"tzname {tzname} identified but not understood.  \"\n",
      "C:\\Users\\bitcamp\\anaconda3\\lib\\site-packages\\dateutil\\parser\\_parser.py:1207: UnknownTimezoneWarning: tzname ET identified but not understood.  Pass `tzinfos` argument in order to correctly return a timezone-aware datetime.  In a future version, this will raise an exception.\n",
      "  warnings.warn(\"tzname {tzname} identified but not understood.  \"\n"
     ]
    },
    {
     "name": "stdout",
     "output_type": "stream",
     "text": [
      "조선_지수.csv\n"
     ]
    },
    {
     "name": "stderr",
     "output_type": "stream",
     "text": [
      "C:\\Users\\bitcamp\\anaconda3\\lib\\site-packages\\dateutil\\parser\\_parser.py:1207: UnknownTimezoneWarning: tzname ET identified but not understood.  Pass `tzinfos` argument in order to correctly return a timezone-aware datetime.  In a future version, this will raise an exception.\n",
      "  warnings.warn(\"tzname {tzname} identified but not understood.  \"\n",
      "C:\\Users\\bitcamp\\anaconda3\\lib\\site-packages\\dateutil\\parser\\_parser.py:1207: UnknownTimezoneWarning: tzname ET identified but not understood.  Pass `tzinfos` argument in order to correctly return a timezone-aware datetime.  In a future version, this will raise an exception.\n",
      "  warnings.warn(\"tzname {tzname} identified but not understood.  \"\n"
     ]
    },
    {
     "name": "stdout",
     "output_type": "stream",
     "text": [
      "철강_지수.csv\n"
     ]
    },
    {
     "name": "stderr",
     "output_type": "stream",
     "text": [
      "C:\\Users\\bitcamp\\anaconda3\\lib\\site-packages\\dateutil\\parser\\_parser.py:1207: UnknownTimezoneWarning: tzname ET identified but not understood.  Pass `tzinfos` argument in order to correctly return a timezone-aware datetime.  In a future version, this will raise an exception.\n",
      "  warnings.warn(\"tzname {tzname} identified but not understood.  \"\n",
      "C:\\Users\\bitcamp\\anaconda3\\lib\\site-packages\\dateutil\\parser\\_parser.py:1207: UnknownTimezoneWarning: tzname ET identified but not understood.  Pass `tzinfos` argument in order to correctly return a timezone-aware datetime.  In a future version, this will raise an exception.\n",
      "  warnings.warn(\"tzname {tzname} identified but not understood.  \"\n"
     ]
    }
   ],
   "source": [
    "# 분류된 데이터\n",
    "open_path = './data/분류된뉴스_BERTopic/'\n",
    "data_list = os.listdir(open_path) \n",
    "\n",
    "# 지수 데이터\n",
    "stock_path = './data/변동률/'\n",
    "stock_list = os.listdir(stock_path)\n",
    "\n",
    "# 지수데이터 3% 이상 +1, -3% 이하 -1, 0\n",
    "for sto in stock_list:\n",
    "    print(sto)\n",
    "    data_concat = pd.DataFrame()\n",
    "    stock = pd.read_csv(stock_path+sto,index_col=0)\n",
    "    stock['label'] = stock['전일비'].apply(lambda x : 1 if x > 3 else (0 if x >= -3 else -1))\n",
    "    \n",
    "    # 분류된뉴스\n",
    "    for data in data_list:\n",
    "        df = pd.read_csv(open_path+data, index_col=0)\n",
    "        df = df[['date','news_oil']]\n",
    "        df.dropna(inplace=True)\n",
    "        df['date'] = df['date'].astype(str).str.strip('<span>').str.strip('</span>')\n",
    "        df['date'] = df['date'].str.replace('\\n','').str.replace('—','')\n",
    "        df['date'] = df['date'].apply(lambda x: re.findall('\\(([^)]+)',x)[0] if re.findall('\\(([^)]+)',x) else x )\n",
    "        df['date'] = pd.to_datetime(df['date'].astype(str),utc=True)#.astype(str).apply(lambda x: x[:10]).astype('datetime64')\n",
    "        df['labeldate'] = (df['date'] + np.timedelta64(13,'h')).apply(lambda x : x+ np.timedelta64(1,'D') if x.hour >= 7 else x).apply(lambda x:str(x)[:10])\n",
    "        \n",
    "        temp = pd.merge(df, stock[['Date','label']], how = 'left', left_on = 'labeldate', right_on = 'Date')\n",
    "\n",
    "        temp.dropna(inplace=True)\n",
    "        data_concat = pd.concat([data_concat,temp], ignore_index=True)\n",
    "            \n",
    "    data_concat.drop_duplicates(inplace=True)\n",
    "    data_concat.to_csv('./data/라벨데이터_final/'+sto)\n",
    "        "
   ]
  },
  {
   "cell_type": "code",
   "execution_count": 29,
   "id": "737b1916",
   "metadata": {
    "ExecuteTime": {
     "end_time": "2022-04-23T08:03:32.119930Z",
     "start_time": "2022-04-23T08:03:32.041141Z"
    }
   },
   "outputs": [
    {
     "data": {
      "text/html": [
       "<div>\n",
       "<style scoped>\n",
       "    .dataframe tbody tr th:only-of-type {\n",
       "        vertical-align: middle;\n",
       "    }\n",
       "\n",
       "    .dataframe tbody tr th {\n",
       "        vertical-align: top;\n",
       "    }\n",
       "\n",
       "    .dataframe thead th {\n",
       "        text-align: right;\n",
       "    }\n",
       "</style>\n",
       "<table border=\"1\" class=\"dataframe\">\n",
       "  <thead>\n",
       "    <tr style=\"text-align: right;\">\n",
       "      <th></th>\n",
       "      <th>Unnamed: 0</th>\n",
       "      <th>date</th>\n",
       "      <th>news_oil</th>\n",
       "      <th>labeldate</th>\n",
       "      <th>Date</th>\n",
       "      <th>label</th>\n",
       "    </tr>\n",
       "  </thead>\n",
       "  <tbody>\n",
       "    <tr>\n",
       "      <th>0</th>\n",
       "      <td>0</td>\n",
       "      <td>2022-04-17 03:32:00+00:00</td>\n",
       "      <td>By Barani Krishnan\\nInvesting.com -- Will they...</td>\n",
       "      <td>2022-04-18</td>\n",
       "      <td>2022-04-18</td>\n",
       "      <td>0.0</td>\n",
       "    </tr>\n",
       "    <tr>\n",
       "      <th>1</th>\n",
       "      <td>1</td>\n",
       "      <td>2022-04-17 00:41:00+00:00</td>\n",
       "      <td>MEXICO CITY (Reuters) -Mexican state oil compa...</td>\n",
       "      <td>2022-04-18</td>\n",
       "      <td>2022-04-18</td>\n",
       "      <td>0.0</td>\n",
       "    </tr>\n",
       "    <tr>\n",
       "      <th>2</th>\n",
       "      <td>2</td>\n",
       "      <td>2022-04-14 17:31:00+00:00</td>\n",
       "      <td>By Jarrett Renshaw and Jeff Mason\\n(Reuters) -...</td>\n",
       "      <td>2022-04-15</td>\n",
       "      <td>2022-04-15</td>\n",
       "      <td>0.0</td>\n",
       "    </tr>\n",
       "    <tr>\n",
       "      <th>3</th>\n",
       "      <td>3</td>\n",
       "      <td>2022-04-14 15:24:00+00:00</td>\n",
       "      <td>By Barani Krishnan\\nInvesting.com -- Any sello...</td>\n",
       "      <td>2022-04-15</td>\n",
       "      <td>2022-04-15</td>\n",
       "      <td>0.0</td>\n",
       "    </tr>\n",
       "    <tr>\n",
       "      <th>4</th>\n",
       "      <td>4</td>\n",
       "      <td>2022-04-14 15:21:00+00:00</td>\n",
       "      <td>By Arathy Somasekhar\\nHOUSTON -Oil prices sett...</td>\n",
       "      <td>2022-04-15</td>\n",
       "      <td>2022-04-15</td>\n",
       "      <td>0.0</td>\n",
       "    </tr>\n",
       "  </tbody>\n",
       "</table>\n",
       "</div>"
      ],
      "text/plain": [
       "   Unnamed: 0                       date  \\\n",
       "0           0  2022-04-17 03:32:00+00:00   \n",
       "1           1  2022-04-17 00:41:00+00:00   \n",
       "2           2  2022-04-14 17:31:00+00:00   \n",
       "3           3  2022-04-14 15:24:00+00:00   \n",
       "4           4  2022-04-14 15:21:00+00:00   \n",
       "\n",
       "                                            news_oil   labeldate        Date  \\\n",
       "0  By Barani Krishnan\\nInvesting.com -- Will they...  2022-04-18  2022-04-18   \n",
       "1  MEXICO CITY (Reuters) -Mexican state oil compa...  2022-04-18  2022-04-18   \n",
       "2  By Jarrett Renshaw and Jeff Mason\\n(Reuters) -...  2022-04-15  2022-04-15   \n",
       "3  By Barani Krishnan\\nInvesting.com -- Any sello...  2022-04-15  2022-04-15   \n",
       "4  By Arathy Somasekhar\\nHOUSTON -Oil prices sett...  2022-04-15  2022-04-15   \n",
       "\n",
       "   label  \n",
       "0    0.0  \n",
       "1    0.0  \n",
       "2    0.0  \n",
       "3    0.0  \n",
       "4    0.0  "
      ]
     },
     "execution_count": 29,
     "metadata": {},
     "output_type": "execute_result"
    }
   ],
   "source": [
    "# 결과 확인\n",
    "temp = pd.read_csv('./data/라벨데이터_final/광고_지수.csv')\n",
    "temp.head()"
   ]
  },
  {
   "cell_type": "code",
   "execution_count": 23,
   "id": "24f410d3",
   "metadata": {
    "ExecuteTime": {
     "end_time": "2022-04-23T07:53:51.941870Z",
     "start_time": "2022-04-23T07:53:51.929902Z"
    }
   },
   "outputs": [
    {
     "name": "stdout",
     "output_type": "stream",
     "text": [
      "['뉴스분류_commodities-news_news_commodities-news_00001.csv.csv', '뉴스분류_commodities-news_news_commodities-news_00002.csv.csv']\n"
     ]
    }
   ],
   "source": [
    " open_path = './data/분류된뉴스_BERTopic/'\n",
    "data_list = os.listdir(open_path) \n",
    "print(data_list)"
   ]
  },
  {
   "cell_type": "code",
   "execution_count": 12,
   "id": "6e797acd",
   "metadata": {
    "ExecuteTime": {
     "end_time": "2022-04-23T07:20:20.758910Z",
     "start_time": "2022-04-23T07:20:20.746943Z"
    }
   },
   "outputs": [
    {
     "name": "stdout",
     "output_type": "stream",
     "text": [
      "['뉴스분류_commodities-news_news_commodities-news_00001.csv.csv', '뉴스분류_commodities-news_news_commodities-news_00002.csv.csv']\n"
     ]
    },
    {
     "data": {
      "text/plain": [
       "['광고_지수.csv', '반도체와반도체장비_지수.csv', '석유와가스_지수.csv', '조선_지수.csv', '철강_지수.csv']"
      ]
     },
     "execution_count": 12,
     "metadata": {},
     "output_type": "execute_result"
    }
   ],
   "source": [
    "stock_path = './data/변동률/'\n",
    "stock_list = os.listdir(stock_path)\n",
    "stock_list"
   ]
  },
  {
   "cell_type": "code",
   "execution_count": 17,
   "id": "a93a1cad",
   "metadata": {
    "ExecuteTime": {
     "end_time": "2022-04-23T07:43:17.696939Z",
     "start_time": "2022-04-23T07:43:17.689959Z"
    }
   },
   "outputs": [
    {
     "data": {
      "text/plain": [
       "['뉴스분류_commodities-news_news_commodities-news_00001.csv.csv',\n",
       " '뉴스분류_commodities-news_news_commodities-news_00002.csv.csv']"
      ]
     },
     "execution_count": 17,
     "metadata": {},
     "output_type": "execute_result"
    }
   ],
   "source": [
    "file_list = os.listdir(open_path)\n",
    "file_list"
   ]
  },
  {
   "cell_type": "code",
   "execution_count": 21,
   "id": "7e64f050",
   "metadata": {
    "ExecuteTime": {
     "end_time": "2022-04-23T07:48:21.473263Z",
     "start_time": "2022-04-23T07:48:21.466773Z"
    }
   },
   "outputs": [
    {
     "data": {
      "text/plain": [
       "'./data/분류된뉴스_BERTopic/뉴스분류_commodities-news_news_commodities-news_00002.csv.csv'"
      ]
     },
     "execution_count": 21,
     "metadata": {},
     "output_type": "execute_result"
    }
   ],
   "source": [
    "open_path+data"
   ]
  },
  {
   "cell_type": "code",
   "execution_count": null,
   "id": "22aac39c",
   "metadata": {},
   "outputs": [],
   "source": []
  }
 ],
 "metadata": {
  "kernelspec": {
   "display_name": "Python 3 (ipykernel)",
   "language": "python",
   "name": "python3"
  },
  "language_info": {
   "codemirror_mode": {
    "name": "ipython",
    "version": 3
   },
   "file_extension": ".py",
   "mimetype": "text/x-python",
   "name": "python",
   "nbconvert_exporter": "python",
   "pygments_lexer": "ipython3",
   "version": "3.9.7"
  },
  "toc": {
   "base_numbering": 1,
   "nav_menu": {},
   "number_sections": true,
   "sideBar": true,
   "skip_h1_title": false,
   "title_cell": "Table of Contents",
   "title_sidebar": "Contents",
   "toc_cell": false,
   "toc_position": {},
   "toc_section_display": true,
   "toc_window_display": true
  },
  "varInspector": {
   "cols": {
    "lenName": 16,
    "lenType": 16,
    "lenVar": 40
   },
   "kernels_config": {
    "python": {
     "delete_cmd_postfix": "",
     "delete_cmd_prefix": "del ",
     "library": "var_list.py",
     "varRefreshCmd": "print(var_dic_list())"
    },
    "r": {
     "delete_cmd_postfix": ") ",
     "delete_cmd_prefix": "rm(",
     "library": "var_list.r",
     "varRefreshCmd": "cat(var_dic_list()) "
    }
   },
   "types_to_exclude": [
    "module",
    "function",
    "builtin_function_or_method",
    "instance",
    "_Feature"
   ],
   "window_display": false
  }
 },
 "nbformat": 4,
 "nbformat_minor": 5
}
