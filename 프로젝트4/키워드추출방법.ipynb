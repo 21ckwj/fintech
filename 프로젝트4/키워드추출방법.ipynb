{
 "cells": [
  {
   "cell_type": "markdown",
   "id": "38650d6d",
   "metadata": {},
   "source": [
    "# KeyWord Extraction "
   ]
  },
  {
   "cell_type": "code",
   "execution_count": 35,
   "id": "f98c3939",
   "metadata": {
    "ExecuteTime": {
     "end_time": "2022-04-17T09:03:55.111808Z",
     "start_time": "2022-04-17T09:03:55.095852Z"
    }
   },
   "outputs": [],
   "source": [
    "title = 'Consumer prices rose 8.5% in March, slightly hotter than expected and the highest since 1981'"
   ]
  },
  {
   "cell_type": "code",
   "execution_count": 36,
   "id": "dfec895c",
   "metadata": {
    "ExecuteTime": {
     "end_time": "2022-04-17T09:03:55.317259Z",
     "start_time": "2022-04-17T09:03:55.297315Z"
    }
   },
   "outputs": [],
   "source": [
    "doc = \"\"\"\n",
    "Prices that consumers pay for everyday items surged in March to their highest levels since the early days of the Reagan administration, according to Labor Department data released Tuesday.\n",
    "\n",
    "The consumer price index, which measures a wide-ranging basket of goods and services, jumped 8.5% from a year ago on an unadjusted basis, above even the already elevated Dow Jones estimate for 8.4%.\n",
    "\n",
    "Excluding food and energy, so-called core CPI increased 6.5% on a 12-month basis, in line with the expectation. However, there were signs that core inflation appeared to be ebbing, as it rose just 0.3% for the month, less than the 0.5% estimate. That in turn sparked some hope that inflation overall was easing and that March might represent the peak.\n",
    "\n",
    "Markets reacted positively to the report as stocks rose and government bond yields declined.\n",
    "\n",
    "“The big news in the March report was that core price pressures finally appear to be moderating,” wrote Andrew Hunter, senior U.S. economist at Capital Economics. Hunter said he thinks the March increase will “mark the peak” for inflation as year-over-year comparisons drive the numbers lower and energy prices subside.\n",
    "\n",
    "Federal Reserve Governor Lael Brainard said the slowing increase in core CPI is a “welcome” development in the effort to bring down inflation.\n",
    "\n",
    "″“I’ll be looking to see whether we continue to see moderation in the months ahead,” Brainard told the Wall Street Journal.\n",
    "\n",
    "The data reflected price rises not seen in the U.S. since the stagflation days of the late 1970s and early ’80s. March’s headline reading in fact was the highest since December 1981. Core inflation was the hottest since August 1982.\n",
    "\n",
    "Due to the surge in inflation, worker wages, despite rising 5.6% from a year ago, weren’t keeping pace with the cost of living. Real average hourly earnings posted a seasonally adjusted 0.8% decline for the month, according to a separate Bureau of Labor Statistics report.\n",
    "\n",
    "The inability of wages to keep up with costs could add to inflation pressures.\n",
    "\n",
    "WATCH NOW\n",
    "VIDEO02:20\n",
    "Morning Meeting sneak peek: Jim Cramer breaks down today’s inflation report\n",
    "The Atlanta Federal Reserve wage tracker for March indicated gains of another 6% which is “symptomatic of inflation pressures continuing to broaden,” said Brian Coulton, chief economist at Fitch Ratings. Coulton pointed out that the core inflation deceleration was due largely to a drop in auto prices, while other prices continued to show increases.\n",
    "\n",
    "Shelter costs, which make up about one-third of the CPI weighting, increased another 0.5% on the month, making the 12-month gain a blistering 5%, the highest since May 1991.\n",
    "\n",
    "To combat inflation, the Fed has begun raising interest rates and is expected to continue doing so through the remainder of the year and into 2023. The last time prices were this high, the Fed raised its benchmark rate to nearly 20%, pulling the economy into a recession that finally defeated inflation.\n",
    "\n",
    "Economists generally don’t expect a recession this time around, though many on Wall Street are raising the probability of a downturn.\n",
    "\n",
    "“Overall, this report is encouraging, at the margin, though it is far too soon to be sure that the next few core prints will be as low; much depends on the path of used vehicle prices, which is very hard to forecast with confidence,” wrote Ian Shepherdson, chief economist at Pantheon Macroeconomics. “We’re sure they will fall, but the speed of the decline is what matters.”\n",
    "\n",
    "Price increases came from many of the usual culprits.\n",
    "\n",
    "Food rose 1% for the month and 8.8% over the year, as prices for goods such as rice, ground beef, citrus fruits and fresh vegetables all posted gains of more than 2% in March. Energy prices were up 11% and 32%, respectively, as gasoline prices popped 18.3% for the month, boosted by the war in Ukraine and the pressure it is exerting on supply.\n",
    "\n",
    "One sector that has been a major driver in the inflation burst subsided in March. Used car and truck prices declined 3.8% for the month, though they are still up 35.3% on the year. Also, commodity prices excluding food and energy fell by 0.4%.\n",
    "\n",
    "Those declines, however, were offset by gains in clothing, services excluding energy and medical care, each of which increased 0.6% for the month. Transportation services also rose 2%, bringing its 12-month gain to 7.7%.\n",
    "\n",
    "In a sign of economic recovery from a sector hard-hit during the Covid pandemic, airline fares jumped by 10.7% in the month and were up 23.6% from a year ago.\n",
    "\n",
    "\"\"\""
   ]
  },
  {
   "cell_type": "markdown",
   "id": "b4317cc6",
   "metadata": {
    "ExecuteTime": {
     "end_time": "2022-04-16T14:38:59.564839Z",
     "start_time": "2022-04-16T14:38:59.559140Z"
    }
   },
   "source": [
    "## Rake_NLTK"
   ]
  },
  {
   "cell_type": "markdown",
   "id": "8d5c3129",
   "metadata": {
    "ExecuteTime": {
     "end_time": "2022-04-16T14:42:32.003147Z",
     "start_time": "2022-04-16T14:42:31.995165Z"
    }
   },
   "source": [
    "* Split the input text content by dotes\n",
    "* Create a matrix of word co-occurrences\n",
    "* Word scoring – That score can be calculated as the degree of a word in the matrix, as the word frequency, or as the degree of the word divided by its frequency\n",
    "* keyphrases can also create by combining the keywords\n",
    "* A keyword or keyphrase is chosen if and only if its score belongs to the top T scores where T is the number of keywords you want to extract"
   ]
  },
  {
   "cell_type": "markdown",
   "id": "579d32f7",
   "metadata": {
    "ExecuteTime": {
     "end_time": "2022-04-16T14:39:41.541299Z",
     "start_time": "2022-04-16T14:39:41.529331Z"
    }
   },
   "source": [
    "## Spacy"
   ]
  },
  {
   "cell_type": "code",
   "execution_count": null,
   "id": "0abed7f7",
   "metadata": {},
   "outputs": [],
   "source": []
  },
  {
   "cell_type": "code",
   "execution_count": null,
   "id": "c8616baa",
   "metadata": {},
   "outputs": [],
   "source": []
  },
  {
   "cell_type": "markdown",
   "id": "50987988",
   "metadata": {
    "ExecuteTime": {
     "end_time": "2022-04-16T14:40:02.586419Z",
     "start_time": "2022-04-16T14:40:02.569440Z"
    }
   },
   "source": [
    "## Textrank"
   ]
  },
  {
   "cell_type": "code",
   "execution_count": null,
   "id": "83273467",
   "metadata": {},
   "outputs": [],
   "source": []
  },
  {
   "cell_type": "code",
   "execution_count": null,
   "id": "da9a7746",
   "metadata": {},
   "outputs": [],
   "source": []
  },
  {
   "cell_type": "markdown",
   "id": "129229bc",
   "metadata": {
    "ExecuteTime": {
     "end_time": "2022-04-16T14:40:06.211815Z",
     "start_time": "2022-04-16T14:40:06.205795Z"
    }
   },
   "source": [
    "## Word cloud"
   ]
  },
  {
   "cell_type": "code",
   "execution_count": null,
   "id": "8788bb53",
   "metadata": {},
   "outputs": [],
   "source": []
  },
  {
   "cell_type": "code",
   "execution_count": null,
   "id": "dfd5e524",
   "metadata": {},
   "outputs": [],
   "source": []
  },
  {
   "cell_type": "markdown",
   "id": "803f7d3d",
   "metadata": {
    "ExecuteTime": {
     "end_time": "2022-04-16T14:40:07.649392Z",
     "start_time": "2022-04-16T14:40:07.641407Z"
    }
   },
   "source": [
    "## KeyBert"
   ]
  },
  {
   "cell_type": "markdown",
   "id": "28d42ee0",
   "metadata": {},
   "source": [
    "KeyBERT is a basic and easy-to-use keyword extraction technique that generates the most similar keywords and keyphrases \n",
    "to a given document using BERT embeddings. It uses BERT-embeddings and basic cosine similarity to locate the sub-documents\n",
    "in a document that are the most similar to the document itself.\n",
    "\n",
    "* BERT 임베딩을 사용하여 가장 비슷한 키워드들 찾아내는 방법 \n",
    "* 코사인 유사도를 통해 키워드 추출"
   ]
  },
  {
   "cell_type": "markdown",
   "id": "39ba5c12",
   "metadata": {},
   "source": [
    "### KeyBERT 사용법"
   ]
  },
  {
   "cell_type": "code",
   "execution_count": 11,
   "id": "01c155f5",
   "metadata": {
    "ExecuteTime": {
     "end_time": "2022-04-17T05:52:28.962951Z",
     "start_time": "2022-04-17T05:52:19.868860Z"
    },
    "scrolled": true
   },
   "outputs": [
    {
     "name": "stdout",
     "output_type": "stream",
     "text": [
      "Collecting keybert\n",
      "  Downloading keybert-0.5.1.tar.gz (19 kB)\n",
      "  Preparing metadata (setup.py): started\n",
      "  Preparing metadata (setup.py): finished with status 'done'\n",
      "Requirement already satisfied: sentence-transformers>=0.3.8 in c:\\users\\21ckw\\anaconda3\\lib\\site-packages (from keybert) (2.2.0)\n",
      "Requirement already satisfied: scikit-learn>=0.22.2 in c:\\users\\21ckw\\anaconda3\\lib\\site-packages (from keybert) (1.0.2)\n",
      "Requirement already satisfied: numpy>=1.18.5 in c:\\users\\21ckw\\anaconda3\\lib\\site-packages (from keybert) (1.20.3)\n",
      "Collecting rich>=10.4.0\n",
      "  Downloading rich-12.2.0-py3-none-any.whl (229 kB)\n",
      "     -------------------------------------- 229.8/229.8 KB 6.9 MB/s eta 0:00:00\n",
      "Requirement already satisfied: pygments<3.0.0,>=2.6.0 in c:\\users\\21ckw\\appdata\\roaming\\python\\python39\\site-packages (from rich>=10.4.0->keybert) (2.10.0)\n",
      "Collecting commonmark<0.10.0,>=0.9.0\n",
      "  Downloading commonmark-0.9.1-py2.py3-none-any.whl (51 kB)\n",
      "     ---------------------------------------- 51.1/51.1 KB ? eta 0:00:00\n",
      "Requirement already satisfied: joblib>=0.11 in c:\\users\\21ckw\\anaconda3\\lib\\site-packages (from scikit-learn>=0.22.2->keybert) (1.1.0)\n",
      "Requirement already satisfied: threadpoolctl>=2.0.0 in c:\\users\\21ckw\\anaconda3\\lib\\site-packages (from scikit-learn>=0.22.2->keybert) (2.2.0)\n",
      "Requirement already satisfied: scipy>=1.1.0 in c:\\users\\21ckw\\anaconda3\\lib\\site-packages (from scikit-learn>=0.22.2->keybert) (1.7.3)\n",
      "Requirement already satisfied: nltk in c:\\users\\21ckw\\anaconda3\\lib\\site-packages (from sentence-transformers>=0.3.8->keybert) (3.6.5)\n",
      "Requirement already satisfied: torchvision in c:\\users\\21ckw\\anaconda3\\lib\\site-packages (from sentence-transformers>=0.3.8->keybert) (0.12.0)\n",
      "Requirement already satisfied: huggingface-hub in c:\\users\\21ckw\\anaconda3\\lib\\site-packages (from sentence-transformers>=0.3.8->keybert) (0.5.1)\n",
      "Requirement already satisfied: torch>=1.6.0 in c:\\users\\21ckw\\anaconda3\\lib\\site-packages (from sentence-transformers>=0.3.8->keybert) (1.11.0)\n",
      "Requirement already satisfied: sentencepiece in c:\\users\\21ckw\\anaconda3\\lib\\site-packages (from sentence-transformers>=0.3.8->keybert) (0.1.96)\n",
      "Requirement already satisfied: transformers<5.0.0,>=4.6.0 in c:\\users\\21ckw\\anaconda3\\lib\\site-packages (from sentence-transformers>=0.3.8->keybert) (4.18.0)\n",
      "Requirement already satisfied: tqdm in c:\\users\\21ckw\\anaconda3\\lib\\site-packages (from sentence-transformers>=0.3.8->keybert) (4.62.3)\n",
      "Requirement already satisfied: typing-extensions in c:\\users\\21ckw\\anaconda3\\lib\\site-packages (from torch>=1.6.0->sentence-transformers>=0.3.8->keybert) (3.10.0.2)\n",
      "Requirement already satisfied: regex!=2019.12.17 in c:\\users\\21ckw\\anaconda3\\lib\\site-packages (from transformers<5.0.0,>=4.6.0->sentence-transformers>=0.3.8->keybert) (2021.8.3)\n",
      "Requirement already satisfied: requests in c:\\users\\21ckw\\anaconda3\\lib\\site-packages (from transformers<5.0.0,>=4.6.0->sentence-transformers>=0.3.8->keybert) (2.26.0)\n",
      "Requirement already satisfied: tokenizers!=0.11.3,<0.13,>=0.11.1 in c:\\users\\21ckw\\anaconda3\\lib\\site-packages (from transformers<5.0.0,>=4.6.0->sentence-transformers>=0.3.8->keybert) (0.12.1)\n",
      "Requirement already satisfied: filelock in c:\\users\\21ckw\\anaconda3\\lib\\site-packages (from transformers<5.0.0,>=4.6.0->sentence-transformers>=0.3.8->keybert) (3.3.1)\n",
      "Requirement already satisfied: sacremoses in c:\\users\\21ckw\\anaconda3\\lib\\site-packages (from transformers<5.0.0,>=4.6.0->sentence-transformers>=0.3.8->keybert) (0.0.49)\n",
      "Requirement already satisfied: packaging>=20.0 in c:\\users\\21ckw\\anaconda3\\lib\\site-packages (from transformers<5.0.0,>=4.6.0->sentence-transformers>=0.3.8->keybert) (21.0)\n",
      "Requirement already satisfied: pyyaml>=5.1 in c:\\users\\21ckw\\anaconda3\\lib\\site-packages (from transformers<5.0.0,>=4.6.0->sentence-transformers>=0.3.8->keybert) (6.0)\n",
      "Requirement already satisfied: colorama in c:\\users\\21ckw\\appdata\\roaming\\python\\python39\\site-packages (from tqdm->sentence-transformers>=0.3.8->keybert) (0.4.4)\n",
      "Requirement already satisfied: click in c:\\users\\21ckw\\anaconda3\\lib\\site-packages (from nltk->sentence-transformers>=0.3.8->keybert) (8.0.3)\n",
      "Requirement already satisfied: pillow!=8.3.*,>=5.3.0 in c:\\users\\21ckw\\anaconda3\\lib\\site-packages (from torchvision->sentence-transformers>=0.3.8->keybert) (8.4.0)\n",
      "Requirement already satisfied: pyparsing>=2.0.2 in c:\\users\\21ckw\\anaconda3\\lib\\site-packages (from packaging>=20.0->transformers<5.0.0,>=4.6.0->sentence-transformers>=0.3.8->keybert) (3.0.4)\n",
      "Requirement already satisfied: urllib3<1.27,>=1.21.1 in c:\\users\\21ckw\\anaconda3\\lib\\site-packages (from requests->transformers<5.0.0,>=4.6.0->sentence-transformers>=0.3.8->keybert) (1.26.7)\n",
      "Requirement already satisfied: certifi>=2017.4.17 in c:\\users\\21ckw\\anaconda3\\lib\\site-packages (from requests->transformers<5.0.0,>=4.6.0->sentence-transformers>=0.3.8->keybert) (2021.10.8)\n",
      "Requirement already satisfied: idna<4,>=2.5 in c:\\users\\21ckw\\anaconda3\\lib\\site-packages (from requests->transformers<5.0.0,>=4.6.0->sentence-transformers>=0.3.8->keybert) (3.2)\n",
      "Requirement already satisfied: charset-normalizer~=2.0.0 in c:\\users\\21ckw\\anaconda3\\lib\\site-packages (from requests->transformers<5.0.0,>=4.6.0->sentence-transformers>=0.3.8->keybert) (2.0.4)\n",
      "Requirement already satisfied: six in c:\\users\\21ckw\\appdata\\roaming\\python\\python39\\site-packages (from sacremoses->transformers<5.0.0,>=4.6.0->sentence-transformers>=0.3.8->keybert) (1.16.0)\n",
      "Building wheels for collected packages: keybert\n",
      "  Building wheel for keybert (setup.py): started\n",
      "  Building wheel for keybert (setup.py): finished with status 'done'\n",
      "  Created wheel for keybert: filename=keybert-0.5.1-py3-none-any.whl size=21333 sha256=6628f0d028295b64f3efca037327975269ce1cbf2eb1d402bdff9df489225cf0\n",
      "  Stored in directory: c:\\users\\21ckw\\appdata\\local\\pip\\cache\\wheels\\94\\18\\2a\\f26bbcd25924aab452bb4bcc2345a55c07160823d196a264c7\n",
      "Successfully built keybert\n",
      "Installing collected packages: commonmark, rich, keybert\n",
      "Successfully installed commonmark-0.9.1 keybert-0.5.1 rich-12.2.0\n"
     ]
    }
   ],
   "source": [
    "# !pip install keybert"
   ]
  },
  {
   "cell_type": "code",
   "execution_count": null,
   "id": "aad7d37c",
   "metadata": {},
   "outputs": [],
   "source": [
    "# ECONOMY\n",
    "# Consumer prices rose 8.5% in March, slightly hotter than expected and the highest since 1981"
   ]
  },
  {
   "cell_type": "code",
   "execution_count": 13,
   "id": "387309c4",
   "metadata": {
    "ExecuteTime": {
     "end_time": "2022-04-17T05:56:26.310890Z",
     "start_time": "2022-04-17T05:55:39.742427Z"
    },
    "scrolled": true
   },
   "outputs": [
    {
     "data": {
      "application/vnd.jupyter.widget-view+json": {
       "model_id": "abfc5b1c401c4634aadbca44ae3401db",
       "version_major": 2,
       "version_minor": 0
      },
      "text/plain": [
       "Downloading:   0%|          | 0.00/1.18k [00:00<?, ?B/s]"
      ]
     },
     "metadata": {},
     "output_type": "display_data"
    },
    {
     "data": {
      "application/vnd.jupyter.widget-view+json": {
       "model_id": "fd63619b45894f20918c9958d7b6837b",
       "version_major": 2,
       "version_minor": 0
      },
      "text/plain": [
       "Downloading:   0%|          | 0.00/190 [00:00<?, ?B/s]"
      ]
     },
     "metadata": {},
     "output_type": "display_data"
    },
    {
     "data": {
      "application/vnd.jupyter.widget-view+json": {
       "model_id": "10835e432790473993e30c63a7840fd2",
       "version_major": 2,
       "version_minor": 0
      },
      "text/plain": [
       "Downloading:   0%|          | 0.00/10.2k [00:00<?, ?B/s]"
      ]
     },
     "metadata": {},
     "output_type": "display_data"
    },
    {
     "data": {
      "application/vnd.jupyter.widget-view+json": {
       "model_id": "7f22b842b010407290f7391c6e281f4f",
       "version_major": 2,
       "version_minor": 0
      },
      "text/plain": [
       "Downloading:   0%|          | 0.00/612 [00:00<?, ?B/s]"
      ]
     },
     "metadata": {},
     "output_type": "display_data"
    },
    {
     "data": {
      "application/vnd.jupyter.widget-view+json": {
       "model_id": "e6b8127f2ebb4b7e893c0fd78cd19360",
       "version_major": 2,
       "version_minor": 0
      },
      "text/plain": [
       "Downloading:   0%|          | 0.00/116 [00:00<?, ?B/s]"
      ]
     },
     "metadata": {},
     "output_type": "display_data"
    },
    {
     "data": {
      "application/vnd.jupyter.widget-view+json": {
       "model_id": "d0b98328a4344c84b7d01d5ad982f7f6",
       "version_major": 2,
       "version_minor": 0
      },
      "text/plain": [
       "Downloading:   0%|          | 0.00/39.3k [00:00<?, ?B/s]"
      ]
     },
     "metadata": {},
     "output_type": "display_data"
    },
    {
     "data": {
      "application/vnd.jupyter.widget-view+json": {
       "model_id": "53ab39c4c10a4dde9b945268c5047a4f",
       "version_major": 2,
       "version_minor": 0
      },
      "text/plain": [
       "Downloading:   0%|          | 0.00/349 [00:00<?, ?B/s]"
      ]
     },
     "metadata": {},
     "output_type": "display_data"
    },
    {
     "data": {
      "application/vnd.jupyter.widget-view+json": {
       "model_id": "f4de1e43d6b04930af159f6eef3ba55f",
       "version_major": 2,
       "version_minor": 0
      },
      "text/plain": [
       "Downloading:   0%|          | 0.00/90.9M [00:00<?, ?B/s]"
      ]
     },
     "metadata": {},
     "output_type": "display_data"
    },
    {
     "data": {
      "application/vnd.jupyter.widget-view+json": {
       "model_id": "cc70ff2b02b04ac4b76b983082c03540",
       "version_major": 2,
       "version_minor": 0
      },
      "text/plain": [
       "Downloading:   0%|          | 0.00/53.0 [00:00<?, ?B/s]"
      ]
     },
     "metadata": {},
     "output_type": "display_data"
    },
    {
     "data": {
      "application/vnd.jupyter.widget-view+json": {
       "model_id": "6999865ae1684d3f9b57cb3db6c25ae3",
       "version_major": 2,
       "version_minor": 0
      },
      "text/plain": [
       "Downloading:   0%|          | 0.00/112 [00:00<?, ?B/s]"
      ]
     },
     "metadata": {},
     "output_type": "display_data"
    },
    {
     "data": {
      "application/vnd.jupyter.widget-view+json": {
       "model_id": "818eedf6bc0a4834ab1d1553b5550fc8",
       "version_major": 2,
       "version_minor": 0
      },
      "text/plain": [
       "Downloading:   0%|          | 0.00/466k [00:00<?, ?B/s]"
      ]
     },
     "metadata": {},
     "output_type": "display_data"
    },
    {
     "data": {
      "application/vnd.jupyter.widget-view+json": {
       "model_id": "28c3a4df0d8a4b518898df175cee0ee1",
       "version_major": 2,
       "version_minor": 0
      },
      "text/plain": [
       "Downloading:   0%|          | 0.00/350 [00:00<?, ?B/s]"
      ]
     },
     "metadata": {},
     "output_type": "display_data"
    },
    {
     "data": {
      "application/vnd.jupyter.widget-view+json": {
       "model_id": "5f33c0c121974823a132e181f3f0ec8f",
       "version_major": 2,
       "version_minor": 0
      },
      "text/plain": [
       "Downloading:   0%|          | 0.00/13.2k [00:00<?, ?B/s]"
      ]
     },
     "metadata": {},
     "output_type": "display_data"
    },
    {
     "data": {
      "application/vnd.jupyter.widget-view+json": {
       "model_id": "869a610531a245dbbd9196deb081a861",
       "version_major": 2,
       "version_minor": 0
      },
      "text/plain": [
       "Downloading:   0%|          | 0.00/232k [00:00<?, ?B/s]"
      ]
     },
     "metadata": {},
     "output_type": "display_data"
    },
    {
     "name": "stdout",
     "output_type": "stream",
     "text": [
      "[('inflation', 0.5043), ('cpi', 0.4757), ('recession', 0.3989), ('march', 0.335), ('macroeconomics', 0.3087)]\n"
     ]
    }
   ],
   "source": [
    "# 1번째 방법\n",
    "\n",
    "from keybert import KeyBERT\n",
    "\n",
    "#doc 뉴스내용 맨위에 있음\n",
    "\n",
    "kw_model = KeyBERT()\n",
    "keywords = kw_model.extract_keywords(doc)\n",
    "print(keywords)"
   ]
  },
  {
   "cell_type": "code",
   "execution_count": null,
   "id": "fe6d2159",
   "metadata": {},
   "outputs": [],
   "source": []
  },
  {
   "cell_type": "code",
   "execution_count": 39,
   "id": "109519d3",
   "metadata": {
    "ExecuteTime": {
     "end_time": "2022-04-17T09:07:04.068444Z",
     "start_time": "2022-04-17T09:07:04.054060Z"
    }
   },
   "outputs": [
    {
     "name": "stdout",
     "output_type": "stream",
     "text": [
      "trigram 개수 : 409\n",
      "trigram 다섯개만 출력 : ['10 month 23' '11 32 respectively' '12 month basis' '12 month gain'\n",
      " '18 month boosted']\n"
     ]
    }
   ],
   "source": [
    "# 2번째 방법\n",
    "from sklearn.feature_extraction.text import CountVectorizer\n",
    "\n",
    "# 3개의 단어 묶음인 단어구 추출\n",
    "n_gram_range = (3, 3)\n",
    "stop_words = \"english\"\n",
    "\n",
    "count = CountVectorizer(ngram_range=n_gram_range, stop_words=stop_words).fit([doc])\n",
    "# ((3,3)사이즈 + 불용어제거)한 키워드 후보\n",
    "candidates = count.get_feature_names_out()\n",
    "\n",
    "print('trigram 개수 :',len(candidates))\n",
    "print('trigram 다섯개만 출력 :',candidates[:5])"
   ]
  },
  {
   "cell_type": "code",
   "execution_count": 42,
   "id": "1feb9130",
   "metadata": {
    "ExecuteTime": {
     "end_time": "2022-04-17T09:09:47.550946Z",
     "start_time": "2022-04-17T09:09:00.207015Z"
    },
    "scrolled": true
   },
   "outputs": [
    {
     "data": {
      "application/vnd.jupyter.widget-view+json": {
       "model_id": "2e1d523028fb447f9c02f103a5b660bc",
       "version_major": 2,
       "version_minor": 0
      },
      "text/plain": [
       "Downloading:   0%|          | 0.00/690 [00:00<?, ?B/s]"
      ]
     },
     "metadata": {},
     "output_type": "display_data"
    },
    {
     "data": {
      "application/vnd.jupyter.widget-view+json": {
       "model_id": "a859d3babbec4693b0634240efe58f3a",
       "version_major": 2,
       "version_minor": 0
      },
      "text/plain": [
       "Downloading:   0%|          | 0.00/190 [00:00<?, ?B/s]"
      ]
     },
     "metadata": {},
     "output_type": "display_data"
    },
    {
     "data": {
      "application/vnd.jupyter.widget-view+json": {
       "model_id": "26e51ea67eea4f6ca14b88cf760f1f17",
       "version_major": 2,
       "version_minor": 0
      },
      "text/plain": [
       "Downloading:   0%|          | 0.00/3.99k [00:00<?, ?B/s]"
      ]
     },
     "metadata": {},
     "output_type": "display_data"
    },
    {
     "data": {
      "application/vnd.jupyter.widget-view+json": {
       "model_id": "019ab6ad5f0f47c8b108b31a5d7390c8",
       "version_major": 2,
       "version_minor": 0
      },
      "text/plain": [
       "Downloading:   0%|          | 0.00/550 [00:00<?, ?B/s]"
      ]
     },
     "metadata": {},
     "output_type": "display_data"
    },
    {
     "data": {
      "application/vnd.jupyter.widget-view+json": {
       "model_id": "ad8e2093f1044323b7cfbdfc7c1e47f7",
       "version_major": 2,
       "version_minor": 0
      },
      "text/plain": [
       "Downloading:   0%|          | 0.00/122 [00:00<?, ?B/s]"
      ]
     },
     "metadata": {},
     "output_type": "display_data"
    },
    {
     "data": {
      "application/vnd.jupyter.widget-view+json": {
       "model_id": "3790180c511444f69fa7de9f77d6e68d",
       "version_major": 2,
       "version_minor": 0
      },
      "text/plain": [
       "Downloading:   0%|          | 0.00/229 [00:00<?, ?B/s]"
      ]
     },
     "metadata": {},
     "output_type": "display_data"
    },
    {
     "data": {
      "application/vnd.jupyter.widget-view+json": {
       "model_id": "f8f41a0d44534d7bb0f09691b1ff23e0",
       "version_major": 2,
       "version_minor": 0
      },
      "text/plain": [
       "Downloading:   0%|          | 0.00/265M [00:00<?, ?B/s]"
      ]
     },
     "metadata": {},
     "output_type": "display_data"
    },
    {
     "data": {
      "application/vnd.jupyter.widget-view+json": {
       "model_id": "b99a9c4358bb4ef5958c5031c7fc45a0",
       "version_major": 2,
       "version_minor": 0
      },
      "text/plain": [
       "Downloading:   0%|          | 0.00/53.0 [00:00<?, ?B/s]"
      ]
     },
     "metadata": {},
     "output_type": "display_data"
    },
    {
     "data": {
      "application/vnd.jupyter.widget-view+json": {
       "model_id": "03f785e4d3a14efca2135dc6603b80a0",
       "version_major": 2,
       "version_minor": 0
      },
      "text/plain": [
       "Downloading:   0%|          | 0.00/112 [00:00<?, ?B/s]"
      ]
     },
     "metadata": {},
     "output_type": "display_data"
    },
    {
     "data": {
      "application/vnd.jupyter.widget-view+json": {
       "model_id": "714dca3ed8444ab6a43c76db12f981cb",
       "version_major": 2,
       "version_minor": 0
      },
      "text/plain": [
       "Downloading:   0%|          | 0.00/466k [00:00<?, ?B/s]"
      ]
     },
     "metadata": {},
     "output_type": "display_data"
    },
    {
     "data": {
      "application/vnd.jupyter.widget-view+json": {
       "model_id": "ccba1e83b7a94b05837859355c492080",
       "version_major": 2,
       "version_minor": 0
      },
      "text/plain": [
       "Downloading:   0%|          | 0.00/450 [00:00<?, ?B/s]"
      ]
     },
     "metadata": {},
     "output_type": "display_data"
    },
    {
     "data": {
      "application/vnd.jupyter.widget-view+json": {
       "model_id": "f513953b96be4a859fd4518b8d7d527d",
       "version_major": 2,
       "version_minor": 0
      },
      "text/plain": [
       "Downloading:   0%|          | 0.00/232k [00:00<?, ?B/s]"
      ]
     },
     "metadata": {},
     "output_type": "display_data"
    }
   ],
   "source": [
    "# 수치화\n",
    "# pre-trained model 사용\n",
    "# https://www.sbert.net/docs/pretrained_models.html\n",
    "from sentence_transformers import SentenceTransformer\n",
    "model = SentenceTransformer('distilbert-base-nli-mean-tokens') \n",
    "\n",
    "# 전체문서(doc), 키워드(candidate) 숫자 인코딩\n",
    "doc_embedding = model.encode([doc])\n",
    "candidate_embeddings = model.encode(candidates)"
   ]
  },
  {
   "cell_type": "code",
   "execution_count": 45,
   "id": "5e3b26a3",
   "metadata": {
    "ExecuteTime": {
     "end_time": "2022-04-17T09:14:24.233428Z",
     "start_time": "2022-04-17T09:14:24.218435Z"
    },
    "collapsed": true
   },
   "outputs": [
    {
     "data": {
      "text/plain": [
       "array([ 2.34511271e-02, -6.65197968e-01,  3.28258693e-01, -8.51862907e-01,\n",
       "       -6.59396797e-02,  1.98907226e-01, -9.41708624e-01, -8.66065562e-01,\n",
       "       -4.98717010e-01,  2.87233770e-01,  9.69592094e-01,  7.33804345e-01,\n",
       "       -4.53447372e-01,  6.18324280e-01,  4.87614065e-01, -1.21339536e+00,\n",
       "        1.21255517e-01,  3.67295444e-02,  4.24046159e-01, -2.00928897e-02,\n",
       "        4.47170436e-01,  1.76481813e-01,  1.64404541e-01,  1.00772965e+00,\n",
       "       -7.94420540e-01, -5.30070484e-01, -1.97389483e-01, -6.69744015e-01,\n",
       "        8.45306143e-02,  4.06941205e-01, -1.70291096e-01,  1.22230530e-01,\n",
       "       -2.90161431e-01, -8.09550062e-02, -7.34419376e-02,  1.56845711e-02,\n",
       "       -1.78943440e-01, -1.69675469e-01,  3.65505517e-01, -1.52073193e+00,\n",
       "       -2.48372316e-01, -9.96205091e-01,  6.99268579e-02,  2.65412867e-01,\n",
       "       -2.67742932e-01, -2.62911245e-03, -1.41044557e-01, -3.15267622e-01,\n",
       "        3.44910622e-01,  1.00471407e-01, -4.55298454e-01,  4.89116162e-01,\n",
       "        1.12212598e-01, -3.65996063e-01,  1.12497479e-01, -4.51294929e-01,\n",
       "        5.21686912e-01,  9.98464525e-02,  6.91219509e-01, -1.04488349e+00,\n",
       "        3.14422876e-01, -6.65889382e-02, -5.65299764e-02, -3.67045224e-01,\n",
       "        1.70343354e-01, -3.76578808e-01, -9.46873188e-01,  8.34690213e-01,\n",
       "       -1.35199499e+00,  6.67074502e-01,  4.81927134e-02, -1.74185961e-01,\n",
       "        7.11918235e-01, -9.58425760e-01,  2.19195709e-03, -8.34619462e-01,\n",
       "        5.08753121e-01, -8.34586382e-01, -8.99109960e-01, -3.05933990e-02,\n",
       "       -4.43070024e-01,  1.58372355e+00,  4.89972293e-01,  5.04137695e-01,\n",
       "        1.55543581e-01,  1.12801600e+00,  6.96069300e-01, -7.27947056e-01,\n",
       "        7.79483557e-01,  6.17736757e-01, -7.39976704e-01, -3.21166813e-01,\n",
       "        9.17894125e-01, -1.20993115e-01,  8.23662132e-02, -2.25630701e-01,\n",
       "        3.06975096e-01, -1.08139396e+00,  7.24840760e-01, -3.40821564e-01,\n",
       "       -3.71134251e-01,  7.26232708e-01,  1.32303387e-01,  7.15964139e-01,\n",
       "        7.48101890e-01, -6.30005240e-01, -2.53662348e-01, -2.56587535e-01,\n",
       "       -3.50453734e-01, -3.78928572e-01,  4.13998753e-01,  1.68179333e-01,\n",
       "        3.34320784e-01, -2.95804977e-01, -3.33679318e-01, -9.12454665e-01,\n",
       "        6.23557091e-01,  1.25662386e-01,  1.47724569e-01, -4.61536646e-01,\n",
       "        3.36034775e-01, -7.26966500e-01,  1.20183945e+00,  2.90356487e-01,\n",
       "        1.01971924e-01,  2.49804437e-01, -2.35441446e-01,  5.81831753e-01,\n",
       "        1.46913439e-01,  3.55147302e-01, -6.51447117e-01,  2.34942120e-02,\n",
       "        6.00349307e-01,  3.30840170e-01,  2.61188120e-01, -9.53018665e-01,\n",
       "       -1.21385574e+00,  3.12704027e-01, -1.71721905e-01, -5.10994017e-01,\n",
       "       -8.99275959e-01, -7.40562260e-01,  5.71821392e-01, -7.26385236e-01,\n",
       "       -6.69038221e-02, -4.73256499e-01, -8.39210451e-01, -9.51846063e-01,\n",
       "       -3.21678907e-01, -1.40926987e-01, -3.71878743e-01, -2.55827829e-02,\n",
       "        5.52846432e-01, -1.00278139e+00,  8.79707560e-02, -9.44776595e-01,\n",
       "        8.68163764e-01,  1.98471397e-01,  6.53255165e-01, -8.45835581e-02,\n",
       "       -6.75200701e-01,  6.96482062e-02, -1.57732248e-01, -4.85233366e-01,\n",
       "        3.97462666e-01, -2.13431194e-01,  5.09750724e-01, -9.68369186e-01,\n",
       "       -4.58322018e-01,  4.76416871e-02,  1.15552120e-01, -7.11710304e-02,\n",
       "        4.80828196e-01,  4.07182306e-01,  8.99121881e-01, -4.82729584e-01,\n",
       "        7.66945243e-01,  2.42827132e-01, -1.39185935e-02,  1.57796741e-01,\n",
       "       -3.11345663e-02, -6.47387385e-01, -2.68063545e-02,  8.64326358e-01,\n",
       "       -8.09238255e-01, -4.02889192e-01,  1.04429388e+00,  7.45280147e-01,\n",
       "        5.36943197e-01,  1.17071502e-01,  5.30981123e-01,  1.88490584e-01,\n",
       "       -1.36446929e+00,  3.49577129e-01,  4.24001485e-01,  6.86677396e-02,\n",
       "        8.82648863e-03,  2.77663708e-01,  8.16190124e-01, -2.53706396e-01,\n",
       "       -1.13899648e+00, -1.28183150e+00, -5.73652446e-01, -8.65825653e-01,\n",
       "       -1.90738738e-01, -5.22356331e-01,  8.00301015e-01, -4.14241284e-01,\n",
       "        7.93104053e-01, -5.20418763e-01, -1.45408645e-01,  5.45817971e-01,\n",
       "        2.19711766e-01, -8.24187815e-01, -6.91743270e-02,  3.22517693e-01,\n",
       "       -2.22773463e-01,  5.02845347e-01, -1.64962605e-01,  6.79476082e-01,\n",
       "       -2.52663970e-01, -1.35780364e-01, -1.78114727e-01, -1.20026223e-01,\n",
       "        4.98340935e-01, -5.28227031e-01, -4.45048034e-01, -4.46909130e-01,\n",
       "       -3.48644137e-01,  4.42856457e-03,  3.87866199e-01, -1.27272353e-01,\n",
       "       -2.43835896e-01, -2.05653235e-01,  3.35297555e-01,  1.01771459e-01,\n",
       "       -1.01122630e+00, -3.12915444e-01,  3.90163958e-01, -2.11045101e-01,\n",
       "        1.42388120e-01, -8.13996866e-02,  9.32343364e-01,  7.44042337e-01,\n",
       "       -3.21740866e-01, -1.76534243e-02,  4.03687507e-01, -8.91410589e-01,\n",
       "        5.61245047e-02,  1.12212874e-01, -7.79098749e-01, -6.58964336e-01,\n",
       "       -3.76176924e-01, -6.01946235e-01,  4.79354888e-01, -9.02633309e-01,\n",
       "        2.50364840e-01, -7.58059323e-01,  2.49448776e-01,  7.10887611e-01,\n",
       "        4.04064178e-01, -3.84823263e-01, -1.84828676e-02, -6.13751411e-01,\n",
       "        3.27411562e-01,  6.88999593e-01, -1.26486123e+00,  1.93550080e-01,\n",
       "       -3.49256806e-02, -3.16434443e-01, -5.83725333e-01, -9.39128757e-01,\n",
       "        1.86301291e-01,  2.30795920e-01,  3.89214307e-01, -4.59116697e-01,\n",
       "       -3.65356326e-01, -8.55783045e-01, -1.37914404e-01, -8.01151514e-01,\n",
       "        9.25412476e-01,  3.76500756e-01,  1.63513944e-01,  1.93249732e-01,\n",
       "        5.71633041e-01, -1.50359854e-01,  5.17334521e-01, -8.50257456e-01,\n",
       "        1.05100310e+00, -1.01431358e+00, -1.93570793e-01, -2.42608637e-01,\n",
       "       -6.90407515e-01,  4.20615107e-01,  4.13354278e-01, -6.39503300e-01,\n",
       "        3.26352954e-01,  7.05086946e-01, -2.11870283e-01,  6.89963520e-01,\n",
       "       -5.57418764e-01,  1.13219428e+00,  7.46235371e-01,  4.94865775e-01,\n",
       "        2.08027527e-01, -6.73142433e-01,  5.05716503e-01, -8.06786418e-01,\n",
       "        4.16365325e-01, -1.22117400e+00,  5.91802597e-01, -1.88973951e+00,\n",
       "        1.28305987e-01,  4.25213873e-01, -4.36899811e-01,  6.50568724e-01,\n",
       "        2.89121807e-01, -5.27891576e-01, -7.75511265e-01, -1.92823499e-01,\n",
       "       -4.79401678e-01,  1.29606262e-01,  4.21618879e-01,  3.19145441e-01,\n",
       "       -2.21287429e-01,  6.27787352e-01,  1.19445615e-01,  4.01574939e-01,\n",
       "        1.18298650e-01, -3.94062176e-02, -2.39616290e-01, -6.31661296e-01,\n",
       "        4.13092613e-01, -3.87276821e-02,  2.69527197e-01, -9.87400711e-02,\n",
       "        6.22138858e-01,  5.73673248e-01,  3.96692604e-01,  9.47395742e-01,\n",
       "        1.91774511e+00,  1.12376380e+00, -2.74129547e-02, -4.67070162e-01,\n",
       "       -5.37328005e-01, -3.42446268e-01, -3.74595404e-01, -1.24153286e-01,\n",
       "        7.63804078e-01, -1.91834658e-01, -2.13609725e-01,  6.34704113e-01,\n",
       "        1.26118064e+00, -9.58857954e-01, -7.31829107e-01, -6.06592655e-01,\n",
       "       -4.17727411e-01, -1.00962532e+00,  3.67363483e-01, -3.75944898e-02,\n",
       "       -2.37328127e-01, -4.99124527e-01,  3.97540897e-01,  1.48688346e-01,\n",
       "        2.19622105e-01,  1.17699616e-01, -1.07065928e+00, -1.80716261e-01,\n",
       "       -3.31855029e-01,  1.06523931e+00, -8.88330340e-02,  8.59160185e-01,\n",
       "        3.04471672e-01,  6.20993435e-01,  8.21097612e-01,  8.28138292e-02,\n",
       "        5.18113822e-02,  5.46641201e-02, -7.69351244e-01, -2.68985704e-02,\n",
       "        3.96667033e-01,  5.33944368e-03, -3.85590434e-01,  2.62742907e-01,\n",
       "       -2.53625423e-01, -4.10695493e-01, -9.99756336e-01, -6.35242760e-01,\n",
       "       -1.75246507e-01, -5.86117469e-02,  1.48523957e-01, -4.44051802e-01,\n",
       "        2.94860631e-01, -3.49866450e-01, -2.60281086e-01, -2.15526059e-01,\n",
       "       -4.02114302e-01,  4.12187010e-01, -2.91452140e-01, -5.18075585e-01,\n",
       "        1.01998881e-01,  4.06387448e-01,  4.60839719e-01,  1.22771001e+00,\n",
       "        4.39620823e-01, -2.52955973e-01, -2.16304138e-02, -2.76271611e-01,\n",
       "       -4.63296354e-01, -3.29970777e-01, -2.21060976e-01, -5.13254762e-01,\n",
       "       -1.43490329e-01,  8.34155202e-01,  2.49513999e-01, -1.09717309e+00,\n",
       "       -1.08871448e+00, -8.24515462e-01, -3.79567951e-01,  2.21279502e-01,\n",
       "        1.19087923e+00, -1.17332351e+00,  2.12077498e-01,  6.54243529e-01,\n",
       "       -1.20809245e+00, -1.04286507e-01,  1.07810564e-01,  4.31058794e-01,\n",
       "       -8.67841065e-01, -9.38588083e-02, -1.11246967e+00, -9.74487722e-01,\n",
       "        2.53442192e+00,  6.76060319e-01, -2.57997274e-01,  1.16705649e-01,\n",
       "       -6.33683324e-01, -1.94514155e-01, -4.21171725e-01, -5.81900358e-01,\n",
       "       -1.94740057e-01,  4.31395262e-01,  4.84076589e-01,  8.08676004e-01,\n",
       "       -1.44294605e-01, -2.93948650e-01,  1.00507569e+00, -9.73665193e-02,\n",
       "       -4.26387995e-01,  1.58446699e-01,  1.97879553e-01, -3.51162910e-01,\n",
       "        2.58060694e-01,  1.33750176e+00,  6.72619343e-01,  1.65163755e-01,\n",
       "       -4.36173409e-01, -1.30760282e-01, -1.06997192e+00, -6.03590488e-01,\n",
       "       -2.45383859e-01, -5.79600990e-01, -2.78121471e-01,  2.80078471e-01,\n",
       "        2.81460702e-01,  2.15432405e-01, -7.34624982e-01, -6.10837266e-02,\n",
       "        1.89888716e-01, -1.31597316e+00, -4.71069098e-01, -3.11819911e-01,\n",
       "        7.46760309e-01,  3.79231572e-01,  5.22972047e-01,  3.02742571e-01,\n",
       "        1.01570499e+00,  3.79960448e-01, -1.87957555e-01, -7.72553802e-01,\n",
       "        7.25269794e-01, -5.53787291e-01, -9.48397219e-01, -1.84495300e-02,\n",
       "        1.00074327e+00,  5.28583050e-01,  4.72935289e-01,  5.31924784e-01,\n",
       "       -6.51632726e-01,  4.41279292e-01,  2.00099796e-01,  6.17600739e-01,\n",
       "        1.16631724e-01,  4.68490452e-01, -2.14619100e-01,  8.08421850e-01,\n",
       "       -8.05314064e-01,  1.07435000e+00,  2.91645110e-01, -3.30286086e-01,\n",
       "       -1.06389031e-01, -1.39353439e-01,  4.20976579e-01, -9.11090970e-01,\n",
       "        5.14134407e-01, -5.49096107e-01,  1.13497639e+00,  2.99097955e-01,\n",
       "        2.00218707e-02,  8.19846272e-01, -5.87449789e-01,  1.71827495e-01,\n",
       "       -9.03259814e-02, -1.38187677e-01, -8.49365741e-02,  7.81413555e-01,\n",
       "       -1.11829430e-01,  8.09656501e-01,  4.99192104e-02, -2.54978798e-03,\n",
       "       -3.37813437e-01, -9.59547877e-01,  1.30022514e+00, -1.55309677e-01,\n",
       "       -6.65782988e-01,  2.88681448e-01, -9.30297554e-01, -1.19202709e+00,\n",
       "       -7.36140534e-02, -1.89626589e-02,  4.10846591e-01, -1.25895619e-01,\n",
       "        3.40660900e-01,  4.35578704e-01, -1.74437702e-01,  1.00998306e+00,\n",
       "        4.05788213e-01, -4.47147846e-01,  1.81844428e-01,  4.38712835e-02,\n",
       "       -6.05425425e-02,  8.13089252e-01, -1.38807893e-01, -4.25123125e-01,\n",
       "        3.41598094e-01, -4.97534513e-01, -5.76177716e-01,  6.16104722e-01,\n",
       "       -3.81495535e-01,  7.69418478e-01,  5.37948251e-01, -4.09306213e-02,\n",
       "       -4.60781336e-01, -3.38209063e-01,  3.38603973e-01,  1.15929142e-01,\n",
       "        1.15478492e+00,  1.19897056e+00, -2.10775539e-01,  6.59595847e-01,\n",
       "       -6.23207927e-01,  2.41313338e-01,  9.87284899e-01, -7.14834452e-01,\n",
       "       -2.45177239e-01, -4.36193734e-01, -3.22254986e-01, -1.14227250e-01,\n",
       "       -3.75214517e-01,  5.16891658e-01, -7.92663097e-01, -5.81559911e-02,\n",
       "       -5.23381650e-01, -1.92230009e-02, -1.61370486e-01, -5.53325951e-01,\n",
       "        1.06931436e+00, -3.48063111e-01, -9.19134766e-02,  8.15733433e-01,\n",
       "       -7.55525589e-01, -2.54446745e-01,  5.72833419e-02, -4.03318703e-01,\n",
       "       -8.18554282e-01,  8.03860873e-02,  6.50194734e-02,  5.41145623e-01,\n",
       "       -1.25387534e-01,  7.75547475e-02, -2.07664907e-01,  2.82819837e-01,\n",
       "        3.74717832e-01, -6.89744711e-01,  1.31306410e+00, -2.26036832e-01,\n",
       "        2.77711123e-01,  1.07938170e+00, -8.43031883e-01, -4.84747663e-02,\n",
       "        6.86653554e-02, -7.01690912e-01,  8.60670507e-01,  5.46149313e-01,\n",
       "        9.96032476e-01, -2.46358782e-01,  1.80158511e-01, -6.72415346e-02,\n",
       "       -1.93588629e-01,  6.58888221e-01,  3.49694967e-01, -3.11384857e-01,\n",
       "       -2.51670122e-01,  4.80859101e-01, -3.22474390e-01, -2.02498272e-01,\n",
       "       -5.52521825e-01, -2.76431918e-01, -4.85363126e-01, -4.05145854e-01,\n",
       "        7.15748221e-02, -4.17051256e-01, -1.57401776e+00,  4.60977584e-01,\n",
       "        4.92617249e-01,  2.93708026e-01, -1.03251624e+00,  1.35900950e+00,\n",
       "        3.62187088e-01, -4.94424999e-01, -3.53566438e-01, -2.80822456e-01,\n",
       "        7.69033670e-01, -1.14481032e+00, -4.97008085e-01,  8.73882994e-02,\n",
       "       -7.33335018e-01, -1.49661228e-01,  4.77775931e-02,  4.96566713e-01,\n",
       "       -4.88378853e-01, -7.55062044e-01, -2.21071109e-01,  1.00583605e-01,\n",
       "        1.32322311e+00, -7.62371719e-01, -3.17827165e-02,  6.04529738e-01,\n",
       "        8.98028538e-02,  1.22666681e+00, -6.91888332e-01,  2.09515259e-01,\n",
       "       -5.31059980e-01, -5.79532027e-01,  1.26122981e-02,  1.40841110e-02,\n",
       "        1.49041429e-01,  1.02327061e+00, -2.33447999e-01, -6.31087124e-01,\n",
       "       -2.94214878e-02, -1.21145475e+00,  2.78967172e-01, -2.20326170e-01,\n",
       "       -9.93494689e-02,  8.75946343e-01,  5.13405651e-02, -2.09997401e-01,\n",
       "       -8.51851344e-01,  1.35625672e+00, -1.42318681e-01,  7.41441548e-01,\n",
       "       -7.38108277e-01, -4.85594869e-01,  1.31283391e+00,  6.47767663e-01,\n",
       "       -1.05502343e+00, -1.02934733e-01, -1.34541448e-02, -7.37228513e-01,\n",
       "       -8.08319330e-01, -1.49173960e-01, -6.66675329e-01, -6.81747124e-02,\n",
       "       -1.70035541e-01, -4.29530054e-01, -8.60108614e-01,  1.44170260e+00,\n",
       "        6.58708394e-01, -5.69572568e-01,  5.22278070e-01, -9.54330042e-02,\n",
       "        3.67617816e-01,  7.73101002e-02, -5.12416661e-01,  4.64935124e-01,\n",
       "        2.56998032e-01, -3.44116807e-01,  6.23804629e-01, -8.27048004e-01,\n",
       "       -2.21042007e-01, -3.96277487e-01, -1.81772724e-01, -7.13380754e-01,\n",
       "        3.30327660e-01,  6.88706577e-01, -5.72487786e-02,  3.38167459e-01,\n",
       "        3.53947550e-01, -1.20031571e+00, -5.61182611e-02, -5.66795409e-01,\n",
       "       -6.54537559e-01, -2.92272866e-01,  3.69024873e-01, -5.69576085e-01,\n",
       "       -2.58745670e-01, -4.40800309e-01, -4.50158089e-01,  8.75986218e-01,\n",
       "        1.31177127e-01,  4.51389179e-02, -2.29475200e-01,  3.63223702e-01,\n",
       "       -5.24172485e-01,  2.59642720e-01, -2.75194764e-01, -1.24080867e-01,\n",
       "       -3.12868774e-01, -1.82520524e-01, -4.02585506e-01,  1.25476634e-02,\n",
       "        4.48215306e-01,  1.20330989e+00,  3.24638709e-02,  2.53459550e-02,\n",
       "       -8.45025554e-02,  8.08037668e-02, -8.39944124e-01,  2.15101335e-02,\n",
       "       -3.57969373e-01,  1.20751515e-01, -1.44281954e-01, -1.32015157e+00,\n",
       "        5.98493338e-01,  6.36886120e-01,  3.30833793e-01,  6.12090409e-01,\n",
       "       -2.21460491e-01,  3.07649314e-01,  1.57959089e-01,  2.03473806e-01,\n",
       "        4.21679020e-01,  3.59807432e-01, -2.34335437e-01, -2.25986853e-01,\n",
       "        7.84472704e-01, -2.38731652e-01, -3.95273209e-01, -1.83258578e-01,\n",
       "        6.34002030e-01,  1.14890728e-02,  4.85988677e-01, -6.25343621e-02,\n",
       "       -3.29676360e-01,  1.38461247e-01,  1.59707442e-01, -7.50681877e-01],\n",
       "      dtype=float32)"
      ]
     },
     "execution_count": 45,
     "metadata": {},
     "output_type": "execute_result"
    }
   ],
   "source": [
    "doc_embedding[0]"
   ]
  },
  {
   "cell_type": "code",
   "execution_count": 47,
   "id": "dd3f0bbe",
   "metadata": {
    "ExecuteTime": {
     "end_time": "2022-04-17T09:16:41.211140Z",
     "start_time": "2022-04-17T09:16:41.194244Z"
    }
   },
   "outputs": [
    {
     "name": "stdout",
     "output_type": "stream",
     "text": [
      "['tuesday consumer price', 'recession finally defeated', 'gasoline prices popped', 'economy recession finally', 'peak inflation year']\n"
     ]
    }
   ],
   "source": [
    "# 문서와 가장 유사한 키워드 추출\n",
    "from sklearn.metrics.pairwise import cosine_similarity\n",
    "top_n = 5\n",
    "distances = cosine_similarity(doc_embedding, candidate_embeddings)\n",
    "keywords = [candidates[index] for index in distances.argsort()[0][-top_n:]] # argsort(): array 오름차순정렬\n",
    "print(keywords)"
   ]
  },
  {
   "cell_type": "markdown",
   "id": "97fbf304",
   "metadata": {},
   "source": [
    "### 다양한 키워드 찾기1: Max Sum Similarity<br>\n",
    "데이터 쌍 사이의 최대 합 거리는 데이터 쌍 간의 거리가 최대화되는 데이터 쌍으로 정의<br>\n",
    "키워드 후보 간의 유사성을 최소화하면서 문서와의 후보 유사성을 극대화"
   ]
  },
  {
   "cell_type": "code",
   "execution_count": 57,
   "id": "e84195b2",
   "metadata": {
    "ExecuteTime": {
     "end_time": "2022-04-17T09:35:12.033181Z",
     "start_time": "2022-04-17T09:35:12.011382Z"
    }
   },
   "outputs": [],
   "source": [
    "import itertools\n",
    "\n",
    "def max_sum_sim(doc_embedding, candidate_embeddings, words, top_n, nr_candidates): #상위 10개의 키워드를 선택,서로 가장 유사성이 낮은 5개를 선택\n",
    "    # 문서와 각 키워드들 간의 유사도\n",
    "    distances = cosine_similarity(doc_embedding, candidate_embeddings)\n",
    "\n",
    "    # 각 키워드들 간의 유사도\n",
    "    distances_candidates = cosine_similarity(candidate_embeddings, \n",
    "                                            candidate_embeddings)\n",
    "\n",
    "    # 코사인 유사도에 기반하여 키워드들 중 상위 top_n개의 단어를 pick.\n",
    "    words_idx = list(distances.argsort()[0][-nr_candidates:])\n",
    "    words_vals = [candidates[index] for index in words_idx]\n",
    "    distances_candidates = distances_candidates[np.ix_(words_idx, words_idx)]\n",
    "\n",
    "    # 각 키워드들 중에서 가장 덜 유사한 키워드들간의 조합을 계산\n",
    "    min_sim = np.inf\n",
    "    candidate = None\n",
    "    for combination in itertools.combinations(range(len(words_idx)), top_n):\n",
    "        sim = sum([distances_candidates[i][j] for i in combination for j in combination if i != j])\n",
    "        if sim < min_sim:\n",
    "            candidate = combination\n",
    "            min_sim = sim\n",
    "\n",
    "    return [words_vals[idx] for idx in candidate]"
   ]
  },
  {
   "cell_type": "code",
   "execution_count": 58,
   "id": "868b8e73",
   "metadata": {
    "ExecuteTime": {
     "end_time": "2022-04-17T09:35:14.021001Z",
     "start_time": "2022-04-17T09:35:13.993076Z"
    }
   },
   "outputs": [
    {
     "data": {
      "text/plain": [
       "['inflation hottest august',\n",
       " 'weighting increased month',\n",
       " 'tuesday consumer price',\n",
       " 'gasoline prices popped',\n",
       " 'economy recession finally']"
      ]
     },
     "execution_count": 58,
     "metadata": {},
     "output_type": "execute_result"
    }
   ],
   "source": [
    "max_sum_sim(doc_embedding, candidate_embeddings, candidates, top_n=5, nr_candidates=10)"
   ]
  },
  {
   "cell_type": "code",
   "execution_count": 59,
   "id": "384b2074",
   "metadata": {
    "ExecuteTime": {
     "end_time": "2022-04-17T09:35:15.359543Z",
     "start_time": "2022-04-17T09:35:15.341499Z"
    }
   },
   "outputs": [],
   "source": [
    "# 이해안가는 코드 \n",
    "# 같은 embeddings끼리 벡터 연산을 하면 의미가 있나?\n",
    "# distances_candidates = cosine_similarity(candidate_embeddings, candidate_embeddings)\n",
    "\n",
    "# words_idx = list(distances.argsort()[0][-nr_candidates:])"
   ]
  },
  {
   "cell_type": "code",
   "execution_count": 61,
   "id": "efcdfe7d",
   "metadata": {
    "ExecuteTime": {
     "end_time": "2022-04-17T09:35:37.072573Z",
     "start_time": "2022-04-17T09:35:37.051632Z"
    }
   },
   "outputs": [
    {
     "data": {
      "text/plain": [
       "array([[1.0000001 , 0.616074  , 0.8208634 , ..., 0.6212555 , 0.6630509 ,\n",
       "        0.28212598],\n",
       "       [0.616074  , 0.9999999 , 0.6439796 , ..., 0.5804162 , 0.5693418 ,\n",
       "        0.44779062],\n",
       "       [0.8208634 , 0.6439796 , 1.        , ..., 0.635149  , 0.65534395,\n",
       "        0.2869252 ],\n",
       "       ...,\n",
       "       [0.6212555 , 0.5804162 , 0.635149  , ..., 1.0000001 , 0.75686044,\n",
       "        0.4660572 ],\n",
       "       [0.6630509 , 0.5693418 , 0.65534395, ..., 0.75686044, 1.0000002 ,\n",
       "        0.30874515],\n",
       "       [0.28212598, 0.44779062, 0.2869252 , ..., 0.4660572 , 0.30874515,\n",
       "        1.0000002 ]], dtype=float32)"
      ]
     },
     "execution_count": 61,
     "metadata": {},
     "output_type": "execute_result"
    }
   ],
   "source": [
    "cosine_similarity(candidate_embeddings,candidate_embeddings)"
   ]
  },
  {
   "cell_type": "markdown",
   "id": "05727528",
   "metadata": {},
   "source": [
    "### 다양한 키워드 찾기2: Maximal Marginal Relevance<br>\n",
    "중복을 최소화하고 결과의 다양성을 극대화하기 위해 노력"
   ]
  },
  {
   "cell_type": "code",
   "execution_count": 54,
   "id": "f64d2406",
   "metadata": {
    "ExecuteTime": {
     "end_time": "2022-04-17T09:33:45.966053Z",
     "start_time": "2022-04-17T09:33:45.953490Z"
    }
   },
   "outputs": [],
   "source": [
    "def mmr(doc_embedding, candidate_embeddings, words, top_n, diversity):\n",
    "\n",
    "    # 문서와 각 키워드들 간의 유사도가 적혀있는 리스트\n",
    "    word_doc_similarity = cosine_similarity(candidate_embeddings, doc_embedding)\n",
    "\n",
    "    # 각 키워드들 간의 유사도\n",
    "    word_similarity = cosine_similarity(candidate_embeddings)\n",
    "\n",
    "    # 문서와 가장 높은 유사도를 가진 키워드의 인덱스를 추출.\n",
    "    # 만약, 2번 문서가 가장 유사도가 높았다면\n",
    "    # keywords_idx = [2]\n",
    "    keywords_idx = [np.argmax(word_doc_similarity)]\n",
    "\n",
    "    # 가장 높은 유사도를 가진 키워드의 인덱스를 제외한 문서의 인덱스들\n",
    "    # 만약, 2번 문서가 가장 유사도가 높았다면\n",
    "    # ==> candidates_idx = [0, 1, 3, 4, 5, 6, 7, 8, 9, 10 ... 중략 ...]\n",
    "    candidates_idx = [i for i in range(len(words)) if i != keywords_idx[0]]\n",
    "\n",
    "    # 최고의 키워드는 이미 추출했으므로 top_n-1번만큼 아래를 반복.\n",
    "    # ex) top_n = 5라면, 아래의 loop는 4번 반복됨.\n",
    "    for _ in range(top_n - 1):\n",
    "        candidate_similarities = word_doc_similarity[candidates_idx, :]\n",
    "        target_similarities = np.max(word_similarity[candidates_idx][:, keywords_idx], axis=1)\n",
    "\n",
    "        # MMR을 계산\n",
    "        mmr = (1-diversity) * candidate_similarities - diversity * target_similarities.reshape(-1, 1)\n",
    "        mmr_idx = candidates_idx[np.argmax(mmr)]\n",
    "\n",
    "        # keywords & candidates를 업데이트\n",
    "        keywords_idx.append(mmr_idx)\n",
    "        candidates_idx.remove(mmr_idx)\n",
    "\n",
    "    return [words[idx] for idx in keywords_idx]"
   ]
  },
  {
   "cell_type": "code",
   "execution_count": 55,
   "id": "8466f506",
   "metadata": {
    "ExecuteTime": {
     "end_time": "2022-04-17T09:33:46.724539Z",
     "start_time": "2022-04-17T09:33:46.709543Z"
    }
   },
   "outputs": [
    {
     "data": {
      "text/plain": [
       "['peak inflation year',\n",
       " 'economy recession finally',\n",
       " 'tuesday consumer price',\n",
       " 'gasoline prices popped',\n",
       " 'inflation hottest august']"
      ]
     },
     "execution_count": 55,
     "metadata": {},
     "output_type": "execute_result"
    }
   ],
   "source": [
    "mmr(doc_embedding, candidate_embeddings, candidates, top_n=5, diversity=0.2)"
   ]
  },
  {
   "cell_type": "code",
   "execution_count": null,
   "id": "81c278ad",
   "metadata": {},
   "outputs": [],
   "source": []
  },
  {
   "cell_type": "code",
   "execution_count": null,
   "id": "350a552d",
   "metadata": {},
   "outputs": [],
   "source": []
  },
  {
   "cell_type": "code",
   "execution_count": null,
   "id": "089ed858",
   "metadata": {},
   "outputs": [],
   "source": []
  },
  {
   "cell_type": "markdown",
   "id": "7aaa7b47",
   "metadata": {
    "ExecuteTime": {
     "end_time": "2022-04-16T14:40:10.813818Z",
     "start_time": "2022-04-16T14:40:10.795865Z"
    }
   },
   "source": [
    "## Yake(Yet Another Keyword Extractor)"
   ]
  },
  {
   "cell_type": "markdown",
   "id": "099679e5",
   "metadata": {},
   "source": [
    "YAKE is a basic unsupervised automatic keyword extraction method that identifies the most relevant keywords \n",
    "in a text by using text statistical data from single texts.This technique does not rely on dictionaries, external corpora, \n",
    "text size, language, or domain, and it does not require training on a specific set of documents\n",
    "\n",
    "* Unsupervised approach(비지도 학습 접근법)\n",
    "* Corpus-Independent\n",
    "* Domain and Language Independent (문서내용, 사이즈  등에 상관없음)\n",
    "* Single-Document(?)\n"
   ]
  },
  {
   "cell_type": "markdown",
   "id": "64eda1ae",
   "metadata": {},
   "source": [
    "### Yake 사용법"
   ]
  },
  {
   "cell_type": "code",
   "execution_count": 14,
   "id": "8ae3d4fa",
   "metadata": {
    "ExecuteTime": {
     "end_time": "2022-04-17T05:57:29.913735Z",
     "start_time": "2022-04-17T05:57:25.155320Z"
    },
    "scrolled": true
   },
   "outputs": [
    {
     "name": "stdout",
     "output_type": "stream",
     "text": [
      "Collecting yake\n",
      "  Downloading yake-0.4.8-py2.py3-none-any.whl (60 kB)\n",
      "     ---------------------------------------- 60.2/60.2 KB 3.3 MB/s eta 0:00:00\n",
      "Requirement already satisfied: click>=6.0 in c:\\users\\21ckw\\anaconda3\\lib\\site-packages (from yake) (8.0.3)\n",
      "Requirement already satisfied: networkx in c:\\users\\21ckw\\anaconda3\\lib\\site-packages (from yake) (2.6.3)\n",
      "Collecting tabulate\n",
      "  Downloading tabulate-0.8.9-py3-none-any.whl (25 kB)\n",
      "Collecting jellyfish\n",
      "  Downloading jellyfish-0.9.0-cp39-cp39-win_amd64.whl (26 kB)\n",
      "Collecting segtok\n",
      "  Downloading segtok-1.5.11-py3-none-any.whl (24 kB)\n",
      "Requirement already satisfied: numpy in c:\\users\\21ckw\\anaconda3\\lib\\site-packages (from yake) (1.20.3)\n",
      "Requirement already satisfied: colorama in c:\\users\\21ckw\\appdata\\roaming\\python\\python39\\site-packages (from click>=6.0->yake) (0.4.4)\n",
      "Requirement already satisfied: regex in c:\\users\\21ckw\\anaconda3\\lib\\site-packages (from segtok->yake) (2021.8.3)\n",
      "Installing collected packages: tabulate, segtok, jellyfish, yake\n",
      "Successfully installed jellyfish-0.9.0 segtok-1.5.11 tabulate-0.8.9 yake-0.4.8\n"
     ]
    }
   ],
   "source": [
    "# !pip install yake"
   ]
  },
  {
   "cell_type": "code",
   "execution_count": 17,
   "id": "495d8b15",
   "metadata": {
    "ExecuteTime": {
     "end_time": "2022-04-17T05:59:05.667326Z",
     "start_time": "2022-04-17T05:59:05.259418Z"
    }
   },
   "outputs": [],
   "source": [
    "import yake"
   ]
  },
  {
   "cell_type": "code",
   "execution_count": 18,
   "id": "c479ff3b",
   "metadata": {
    "ExecuteTime": {
     "end_time": "2022-04-17T05:59:07.591149Z",
     "start_time": "2022-04-17T05:59:07.419610Z"
    }
   },
   "outputs": [
    {
     "name": "stdout",
     "output_type": "stream",
     "text": [
      "('data released Tuesday', 0.009428058051207406)\n",
      "('Department data released', 0.0096234876313734)\n",
      "('everyday items surged', 0.012462717013554392)\n",
      "('Reagan administration', 0.014818631568493707)\n",
      "('released Tuesday', 0.014917608852455437)\n",
      "('Labor Department data', 0.01516161268816772)\n",
      "('Dow Jones estimate', 0.02147471627112143)\n",
      "('Labor Department', 0.02254836536627868)\n",
      "('inflation', 0.023716550782715107)\n",
      "('March', 0.024271860360091033)\n",
      "('elevated Dow Jones', 0.025174206418134455)\n",
      "('Prices', 0.029962904876262086)\n",
      "('core inflation', 0.03724745085229474)\n",
      "('Department data', 0.03804939066847838)\n",
      "('month', 0.04095325379825359)\n",
      "('Dow Jones', 0.04218739741688678)\n",
      "('core', 0.046571555082663835)\n",
      "('core CPI', 0.05084221065090602)\n",
      "('pay for everyday', 0.05169130201458279)\n",
      "('everyday items', 0.05169130201458279)\n"
     ]
    }
   ],
   "source": [
    "kw_extractor = yake.KeywordExtractor()\n",
    "keywords =  kw_extractor.extract_keywords(doc)\n",
    "for kw in keywords:\n",
    "    print(kw)"
   ]
  },
  {
   "cell_type": "code",
   "execution_count": 62,
   "id": "b2fb48c1",
   "metadata": {
    "ExecuteTime": {
     "end_time": "2022-04-17T09:37:47.088070Z",
     "start_time": "2022-04-17T09:37:47.079164Z"
    }
   },
   "outputs": [
    {
     "data": {
      "text/plain": [
       "0.05169130201458279"
      ]
     },
     "execution_count": 62,
     "metadata": {},
     "output_type": "execute_result"
    }
   ],
   "source": [
    "kw[1]"
   ]
  },
  {
   "cell_type": "code",
   "execution_count": null,
   "id": "55e59036",
   "metadata": {},
   "outputs": [],
   "source": []
  },
  {
   "cell_type": "markdown",
   "id": "822c60ce",
   "metadata": {
    "ExecuteTime": {
     "end_time": "2022-04-16T14:40:12.041822Z",
     "start_time": "2022-04-16T14:40:12.033842Z"
    }
   },
   "source": [
    "## MonkeyLearn API"
   ]
  },
  {
   "cell_type": "markdown",
   "id": "d2e4d47f",
   "metadata": {},
   "source": [
    "Advantages of keyword extraction automation\n",
    "\n",
    "* Product descriptions, customer feedback, and other sources can all be used to extract keywords.\n",
    "* Determine which terms are most frequently used by customers.\n",
    "* Monitoring of brand, product, and service references in real-time\n",
    "* It is possible to automate and speed up data extraction and entry.\n"
   ]
  },
  {
   "cell_type": "markdown",
   "id": "1f33f7f7",
   "metadata": {},
   "source": [
    "### MonkeyLearn API 사용법"
   ]
  },
  {
   "cell_type": "code",
   "execution_count": 19,
   "id": "fe23cc5e",
   "metadata": {
    "ExecuteTime": {
     "end_time": "2022-04-17T06:00:25.136039Z",
     "start_time": "2022-04-17T06:00:21.011266Z"
    }
   },
   "outputs": [
    {
     "name": "stdout",
     "output_type": "stream",
     "text": [
      "Collecting monkeylearn\n",
      "  Downloading monkeylearn-3.6.0-py3-none-any.whl (17 kB)\n",
      "Requirement already satisfied: requests>=2.8.1 in c:\\users\\21ckw\\anaconda3\\lib\\site-packages (from monkeylearn) (2.26.0)\n",
      "Requirement already satisfied: six>=1.10.0 in c:\\users\\21ckw\\appdata\\roaming\\python\\python39\\site-packages (from monkeylearn) (1.16.0)\n",
      "Requirement already satisfied: urllib3<1.27,>=1.21.1 in c:\\users\\21ckw\\anaconda3\\lib\\site-packages (from requests>=2.8.1->monkeylearn) (1.26.7)\n",
      "Requirement already satisfied: charset-normalizer~=2.0.0 in c:\\users\\21ckw\\anaconda3\\lib\\site-packages (from requests>=2.8.1->monkeylearn) (2.0.4)\n",
      "Requirement already satisfied: certifi>=2017.4.17 in c:\\users\\21ckw\\anaconda3\\lib\\site-packages (from requests>=2.8.1->monkeylearn) (2021.10.8)\n",
      "Requirement already satisfied: idna<4,>=2.5 in c:\\users\\21ckw\\anaconda3\\lib\\site-packages (from requests>=2.8.1->monkeylearn) (3.2)\n",
      "Installing collected packages: monkeylearn\n",
      "Successfully installed monkeylearn-3.6.0\n"
     ]
    }
   ],
   "source": [
    "!pip install monkeylearn"
   ]
  },
  {
   "cell_type": "code",
   "execution_count": 29,
   "id": "70433f1f",
   "metadata": {
    "ExecuteTime": {
     "end_time": "2022-04-17T06:24:54.627526Z",
     "start_time": "2022-04-17T06:24:54.325464Z"
    }
   },
   "outputs": [
    {
     "name": "stdout",
     "output_type": "stream",
     "text": [
      "단어이름:  inflation\n",
      "연관성:  0.980\n",
      "단어이름:  inflation pressure\n",
      "연관성:  0.782\n",
      "단어이름:  chief economist\n",
      "연관성:  0.782\n",
      "단어이름:  energy price\n",
      "연관성:  0.782\n",
      "단어이름:  month\n",
      "연관성:  0.600\n",
      "단어이름:  dow jones estimates\n",
      "연관성:  0.587\n",
      "단어이름:  used vehicle price\n",
      "연관성:  0.587\n",
      "단어이름:  government bond yield\n",
      "연관성:  0.587\n",
      "단어이름:  federal reserve wage\n",
      "연관성:  0.587\n",
      "단어이름:  core price pressure\n",
      "연관성:  0.587\n"
     ]
    }
   ],
   "source": [
    "from monkeylearn import MonkeyLearn\n",
    "\n",
    "ml = MonkeyLearn('ba02694bb0686d4e9dfefb9f26723346ce53a278')\n",
    "\n",
    "data = [doc]\n",
    "model_id = 'ex_YCya9nrn'\n",
    "result = ml.extractors.extract(model_id, data)\n",
    "dataDict = result.body\n",
    "for item in dataDict[0]['extractions'][:10]:\n",
    "    print(\"단어이름: \", item['parsed_value'])\n",
    "    print(\"연관성: \", item['relevance'])"
   ]
  },
  {
   "cell_type": "code",
   "execution_count": 25,
   "id": "70313879",
   "metadata": {
    "ExecuteTime": {
     "end_time": "2022-04-17T06:22:08.976771Z",
     "start_time": "2022-04-17T06:22:08.971784Z"
    }
   },
   "outputs": [
    {
     "data": {
      "text/plain": [
       "dict_keys(['text', 'external_id', 'error', 'extractions'])"
      ]
     },
     "execution_count": 25,
     "metadata": {},
     "output_type": "execute_result"
    }
   ],
   "source": [
    "dataDict[0].keys()"
   ]
  },
  {
   "cell_type": "code",
   "execution_count": 27,
   "id": "2acca47a",
   "metadata": {
    "ExecuteTime": {
     "end_time": "2022-04-17T06:22:37.441089Z",
     "start_time": "2022-04-17T06:22:37.420143Z"
    },
    "scrolled": true
   },
   "outputs": [
    {
     "data": {
      "text/plain": [
       "[{'tag_name': 'KEYWORD',\n",
       "  'parsed_value': 'inflation',\n",
       "  'count': 13,\n",
       "  'relevance': '0.980',\n",
       "  'positions_in_text': [539,\n",
       "   673,\n",
       "   1067,\n",
       "   1291,\n",
       "   1616,\n",
       "   1682,\n",
       "   1994,\n",
       "   2096,\n",
       "   2219,\n",
       "   2351,\n",
       "   2650,\n",
       "   2933,\n",
       "   3905]},\n",
       " {'tag_name': 'KEYWORD',\n",
       "  'parsed_value': 'inflation pressure',\n",
       "  'count': 2,\n",
       "  'relevance': '0.782',\n",
       "  'positions_in_text': [1994, 2219]},\n",
       " {'tag_name': 'KEYWORD',\n",
       "  'parsed_value': 'chief economist',\n",
       "  'count': 2,\n",
       "  'relevance': '0.782',\n",
       "  'positions_in_text': [2283, 3337]},\n",
       " {'tag_name': 'KEYWORD',\n",
       "  'parsed_value': 'energy price',\n",
       "  'count': 2,\n",
       "  'relevance': '0.782',\n",
       "  'positions_in_text': [1135, 3688]},\n",
       " {'tag_name': 'KEYWORD',\n",
       "  'parsed_value': 'month',\n",
       "  'count': 12,\n",
       "  'relevance': '0.600',\n",
       "  'positions_in_text': [460,\n",
       "   601,\n",
       "   1373,\n",
       "   1869,\n",
       "   2562,\n",
       "   2583,\n",
       "   3533,\n",
       "   3777,\n",
       "   3988,\n",
       "   4243,\n",
       "   4304,\n",
       "   4443]},\n",
       " {'tag_name': 'KEYWORD',\n",
       "  'parsed_value': 'dow jones estimates',\n",
       "  'count': 1,\n",
       "  'relevance': '0.587',\n",
       "  'positions_in_text': [361]},\n",
       " {'tag_name': 'KEYWORD',\n",
       "  'parsed_value': 'used vehicle price',\n",
       "  'count': 1,\n",
       "  'relevance': '0.587',\n",
       "  'positions_in_text': [3244]},\n",
       " {'tag_name': 'KEYWORD',\n",
       "  'parsed_value': 'government bond yield',\n",
       "  'count': 1,\n",
       "  'relevance': '0.587',\n",
       "  'positions_in_text': [804]},\n",
       " {'tag_name': 'KEYWORD',\n",
       "  'parsed_value': 'federal reserve wage',\n",
       "  'count': 1,\n",
       "  'relevance': '0.587',\n",
       "  'positions_in_text': [2125]},\n",
       " {'tag_name': 'KEYWORD',\n",
       "  'parsed_value': 'core price pressure',\n",
       "  'count': 1,\n",
       "  'relevance': '0.587',\n",
       "  'positions_in_text': [881]}]"
      ]
     },
     "execution_count": 27,
     "metadata": {},
     "output_type": "execute_result"
    }
   ],
   "source": [
    "dataDict[0]['extractions']"
   ]
  },
  {
   "cell_type": "markdown",
   "id": "4fc9c282",
   "metadata": {
    "ExecuteTime": {
     "end_time": "2022-04-16T14:40:13.238882Z",
     "start_time": "2022-04-16T14:40:13.227812Z"
    }
   },
   "source": [
    "## Textrazor API"
   ]
  },
  {
   "cell_type": "markdown",
   "id": "ef6fb082",
   "metadata": {},
   "source": [
    "Textrazor is a good choice for developers that need speedy extraction tools with comprehensive customization options\n",
    "\n",
    "url을 넣어야 함<br>\n",
    "무료버전 500 requests per day"
   ]
  },
  {
   "cell_type": "code",
   "execution_count": null,
   "id": "790acf79",
   "metadata": {},
   "outputs": [],
   "source": []
  },
  {
   "cell_type": "markdown",
   "id": "679bd964",
   "metadata": {},
   "source": [
    "### Textrazor API 사용법"
   ]
  },
  {
   "cell_type": "code",
   "execution_count": 30,
   "id": "0659fb50",
   "metadata": {
    "ExecuteTime": {
     "end_time": "2022-04-17T06:40:47.994156Z",
     "start_time": "2022-04-17T06:40:41.784135Z"
    },
    "scrolled": true
   },
   "outputs": [
    {
     "name": "stdout",
     "output_type": "stream",
     "text": [
      "Collecting textrazor\n",
      "  Downloading textrazor-1.4.0.tar.gz (16 kB)\n",
      "  Preparing metadata (setup.py): started\n",
      "  Preparing metadata (setup.py): finished with status 'done'\n",
      "Building wheels for collected packages: textrazor\n",
      "  Building wheel for textrazor (setup.py): started\n",
      "  Building wheel for textrazor (setup.py): finished with status 'done'\n",
      "  Created wheel for textrazor: filename=textrazor-1.4.0-py3-none-any.whl size=17021 sha256=1db148439c0d832a8387b4fdc780d45ad98bb3c642430051ff7b650874450583\n",
      "  Stored in directory: c:\\users\\21ckw\\appdata\\local\\pip\\cache\\wheels\\f6\\20\\72\\0f25f865cb1ced565b5fd2e828136cd9775357f67a986029e8\n",
      "Successfully built textrazor\n",
      "Installing collected packages: textrazor\n",
      "Successfully installed textrazor-1.4.0\n"
     ]
    }
   ],
   "source": [
    "# !pip install textrazor"
   ]
  },
  {
   "cell_type": "code",
   "execution_count": 34,
   "id": "0b5498d1",
   "metadata": {
    "ExecuteTime": {
     "end_time": "2022-04-17T06:48:40.863679Z",
     "start_time": "2022-04-17T06:48:38.566417Z"
    }
   },
   "outputs": [
    {
     "name": "stdout",
     "output_type": "stream",
     "text": [
      "Cost 0.2703 2.33\n",
      "United States 0.3843 24.46\n",
      "Economics 0.5174 18.84\n",
      "Wage 0.2983 2.763\n",
      "Economics 0.5058 18.84\n",
      "Stagflation 0.6904 13.13\n",
      "1970s 0.3816 1.493\n",
      "Inflation 0.9164 18.67\n",
      "Cost 0.1943 1.883\n",
      "Cost of living 0.4552 2.815\n",
      "News 0.3461 1.506\n",
      "Pressure 0.1722 1.149\n",
      "Food 0.2683 5.453\n",
      "Consumer 0.1031 5.149\n",
      "Price 0.469 3.884\n",
      "Consumer price index 0.6144 17.72\n",
      "Price index 0.4941 2.975\n",
      "Index (economics) 0.7378 2.295\n",
      "Basket 0.0254 1.646\n",
      "Inflation 0.9164 17.83\n",
      "Wall Street 0.4894 7.004\n",
      "The Wall Street Journal 0.4902 37.83\n",
      "Data 0.1183 0.963\n",
      "Lael Brainard 0.2864 2.401\n",
      "Government bond 0.4045 4.07\n",
      "Bond (finance) 0.4625 1.293\n",
      "Hope 0.184 0.9824\n",
      "Bureau of Labor Statistics 0.09554 16.11\n",
      "Statistics 0.2427 1.573\n",
      "Jim Cramer 0.3229 5.534\n",
      "Atlanta 0.2686 9.267\n",
      "Wage 0.2983 3.58\n",
      "Signs and symptoms 0.1746 1.783\n",
      "Chief economist 0.06688 1.333\n",
      "Economics 0.495 18.84\n",
      "Fitch Ratings 0.09905 5.477\n",
      "Inflation 0.9164 18.43\n",
      "Acceleration 0.1222 2.255\n",
      "Goods 0.3258 1.317\n",
      "Goods and services 0.1581 1.431\n",
      "Federal Reserve 0.4816 11.58\n",
      "Consumer price index 0.698 6.042\n",
      "Federal Reserve 0.5247 1.217\n",
      "Interest 0.4474 2.309\n",
      "Interest rate 0.4638 12.06\n",
      "Economy 0.26 1.629\n",
      "Recession 0.6805 9.496\n",
      "Economics 0.495 18.84\n",
      "Wall Street 0.392 6.486\n",
      "Probability 0.1771 3.665\n",
      "Recession 0.7921 6.891\n",
      "Vehicle 0.1895 1.135\n",
      "Ian Shepherdson 0.2422 1.613\n",
      "Economics 0.495 18.84\n",
      "Pantheon Macroeconomics 0.1852 2.28\n",
      "Macroeconomics 0.6394 12.32\n",
      "Energy 0.1854 7.348\n",
      "Speed 0.08237 0.9716\n",
      "Price 0.3789 4.113\n",
      "Food 0.3953 5.428\n",
      "Goods 0.3515 1.4\n",
      "Used car 0.2632 1.021\n",
      "Car 0.2492 8.88\n",
      "Truck 0.2311 4.398\n",
      "Commodity 0.3862 5.991\n",
      "Commodity market 0.4576 1.892\n",
      "Price 0.3789 1.289\n",
      "Food 0.3953 5.697\n",
      "Clothing 0.2179 2.564\n",
      "Transport 0.3541 5.83\n",
      "Economic recovery 0.427 1.56\n",
      "COVID-19 pandemic 0.3931 55.74\n",
      "Pandemic 0.1612 1.081\n",
      "Airline 0.2981 1.03\n",
      "Data 0.1124 1.022\n",
      "News 0.3863 1.825\n",
      "CNBC 0.3667 6.981\n",
      "Data 0.1124 1.061\n",
      "News 0.3863 1.69\n",
      "Stock 0.3072 1.255\n",
      "Market data 0.4004 1.739\n",
      "Data 0.1124 2.165\n",
      "Energy 0.1854 7.348\n",
      "Cost of living 0.4552 2.815\n",
      "Energy 0.1854 7.348\n",
      "Energy 0.1854 7.348\n",
      "Energy 0.1854 7.348\n",
      "Energy 0.1854 7.348\n",
      "Wage 0.2983 2.763\n",
      "Lael Brainard 0.2864 2.401\n",
      "Federal Reserve 0.4816 11.58\n",
      "Consumer price index 0.698 6.042\n",
      "Consumer price index 0.698 6.042\n",
      "Consumer price index 0.698 6.042\n",
      "Recession 0.6805 9.496\n",
      "Federal Reserve 0.5247 1.217\n",
      "Chief economist 0.06688 1.333\n",
      "2022-04-12T00:00:00.000+00:00 0 0.5\n",
      "2023-03-01T00:00:00.000+00:00 0 0.5\n",
      "2022-04-19T00:00:00.000+00:00 0 0.5\n",
      "12 0 0.5\n",
      "2023-03-01T00:00:00.000+00:00 0 0.5\n",
      "8.49999999999999999913 0 0.5\n",
      "2022-04-12T00:00:00.000+00:00 0 0.5\n",
      "2023-03-01T00:00:00.000+00:00 0 0.5\n",
      "2023-03-01T00:00:00.000+00:00 0 0.5\n",
      "2023-03-01T00:00:00.000+00:00 0 0.5\n",
      "2023-03-01T00:00:00.000+00:00 0 0.5\n",
      "0.799999999999999999902 0 0.5\n",
      "12 0 0.5\n",
      "6 0 0.5\n",
      "5 0 0.5\n",
      "2023-01-01T00:00:00.000+00:00 0 0.5\n",
      "20 0 0.5\n",
      "11 0 0.5\n",
      "12 0 0.5\n",
      "0.499999999999999999946 0 0.5\n",
      "2023-03-01T00:00:00.000+00:00 0 0.5\n",
      "2023-03-01T00:00:00.000+00:00 0 0.5\n",
      "2023-03-01T00:00:00.000+00:00 0 0.5\n",
      "2023-03-01T00:00:00.000+00:00 0 0.5\n",
      "2023-03-01T00:00:00.000+00:00 0 0.5\n",
      "Andrew Hunter 0 0.5\n",
      "32 0 0.5\n",
      "15 0 0.5\n",
      "Brian Coulton 0 0.5\n",
      "2021-04-01T00:00:00.000+00:00 0 0.5\n",
      "2021-04-01T00:00:00.000+00:00 0 0.5\n",
      "2021-04-01T00:00:00.000+00:00 0 0.5\n",
      "8.49999999999999999913 0 0.5\n",
      "Rice 0.353 10.51\n",
      "Ground beef 0.1955 2.888\n",
      "Beef 0.2886 5.783\n",
      "Citrus 0.1827 3.473\n",
      "Fruit 0.2519 9.9\n",
      "Vegetable 0.3893 7.423\n",
      "Percentage 0.2216 1.993\n",
      "Percentage point 0.07691 1.486\n",
      "Food 0.2683 5.426\n",
      "Gasoline 0.3552 6.305\n",
      "Price 0.469 3.668\n",
      "Consumer 0.1031 1.382\n",
      "War 0.1991 1.226\n",
      "Ukraine 0.2891 10.86\n",
      "Pressure 0.1352 4.865\n",
      "Dow Jones & Company 0.3243 10.46\n",
      "Core inflation 0.6662 4.036\n",
      "Inflation 0.7226 17.43\n",
      "Ronald Reagan 0.3646 9.843\n",
      "Inflation 0.9164 18.67\n",
      "Inflation 0.9164 18.67\n",
      "Inflation 0.9164 18.67\n",
      "Inflation 0.9164 18.67\n",
      "Inflation 0.9164 18.67\n",
      "Inflation 0.9164 18.67\n",
      "1991 0 0.5\n",
      "8.79999999999999999931 0 0.5\n",
      "18.2999999999999999976 0 0.5\n",
      "3.79999999999999999952 0 0.5\n",
      "35.2999999999999999958 0 0.5\n",
      "0.399999999999999999951 0 0.5\n",
      "0.599999999999999999913 0 0.5\n",
      "7.69999999999999999896 0 0.5\n",
      "10.699999999999999999 0 0.5\n",
      "23.5999999999999999969 0 0.5\n",
      "Inflation 0.9164 18.67\n",
      "Inflation 0.9164 18.67\n",
      "Inflation 0.9164 18.67\n",
      "Inflation 0.9164 18.67\n",
      "Inflation 0.9164 18.67\n",
      "Price 0.469 3.668\n",
      "Price 0.469 3.668\n",
      "Price 0.469 3.668\n",
      "Price 0.469 3.668\n",
      "Price 0.469 3.668\n",
      "Price 0.469 3.668\n",
      "Price 0.469 3.668\n",
      "Price 0.469 3.668\n",
      "Price 0.469 3.668\n",
      "Core inflation 0.6662 4.036\n",
      "Core inflation 0.6662 4.036\n",
      "Price 0.3789 4.113\n",
      "Price 0.3789 4.113\n",
      "Pressure 0.1722 1.149\n",
      "Pressure 0.1722 1.149\n",
      "United States 0.3843 24.46\n",
      "8.49999999999999999913 0 0.5\n",
      "1981 0 0.5\n",
      "0.799999999999999999902 0 0.5\n",
      "1981 0 0.5\n",
      "8.39999999999999999879 0 0.5\n",
      "6.49999999999999999913 0 0.5\n",
      "0.299999999999999999957 0 0.5\n",
      "0.499999999999999999946 0 0.5\n",
      "1981 0 0.5\n",
      "1982 0 0.5\n",
      "5.59999999999999999948 0 0.5\n",
      "Andrew Hunter 0 0.5\n",
      "Capital Economics 0 0.5\n",
      "Komal Sri-Kumar 0 0.5\n",
      "Labor Department 0 0.5\n",
      "Brian Coulton 0 0.5\n",
      "CNBC Newsletters 0 0.5\n",
      "Data 0 0.5\n",
      "1 0 0.5\n",
      "2 0 0.5\n",
      "2 0 0.5\n",
      "2021-04-01T00:00:00.000+00:00 0 0.5\n"
     ]
    }
   ],
   "source": [
    "import textrazor\n",
    "textrazor.api_key = '36ca83664d76dbac7629b52bc825052e00416a283515071f6248be98'\n",
    "client = textrazor.TextRazor(extractors=[\"entities\", \"topics\"])\n",
    "response = client.analyze_url(\"https://www.cnbc.com/2022/04/12/consumer-prices-rose-8point5percent-in-march-slightly-hotter-than-expected.html\")\n",
    "for entity in response.entities():\n",
    "    print(entity.id, entity.relevance_score, entity.confidence_score)"
   ]
  },
  {
   "cell_type": "code",
   "execution_count": null,
   "id": "c8e7a1ab",
   "metadata": {},
   "outputs": [],
   "source": []
  },
  {
   "cell_type": "code",
   "execution_count": null,
   "id": "e47f8821",
   "metadata": {},
   "outputs": [],
   "source": [
    "키워드 2500개 뉴스 다 읽을 수 없으니 -> 요약한 걸 제공하자 ->\n",
    "키워드 추출 빈도수 -> 키워드제공 -> 요약은 힘듬 \n",
    "-> 2500개 축약 기사의 title만 제공 + 키워드에 맞는 핵심문장 추출해서 제공\n",
    "\n",
    "* 현 상황 문제점\n",
    "1. 뉴스크롤링(forex) 기사본문 안긁어짐(지혜누나꺼 1700개중 70개만 본문 긁어짐)\n",
    "2. 정확히 어떤 것을 구현할지 애매함\n",
    "1) KeyWord만 추출할 시 따로 딥러닝 필요없고\n",
    "2) finBERT는 Keyword가 아닌 문장의 점수를 반환\n",
    "\n",
    "-> finBERT로 Keyword 점수를 뽑는법을 찾거나, 문장단위로 뭘하거나 추가 회의필요\n"
   ]
  },
  {
   "cell_type": "code",
   "execution_count": null,
   "id": "74433e8d",
   "metadata": {},
   "outputs": [],
   "source": []
  },
  {
   "cell_type": "code",
   "execution_count": null,
   "id": "fb5a643d",
   "metadata": {},
   "outputs": [],
   "source": []
  },
  {
   "cell_type": "code",
   "execution_count": null,
   "id": "8459bbdd",
   "metadata": {},
   "outputs": [],
   "source": []
  }
 ],
 "metadata": {
  "kernelspec": {
   "display_name": "Python 3 (ipykernel)",
   "language": "python",
   "name": "python3"
  },
  "language_info": {
   "codemirror_mode": {
    "name": "ipython",
    "version": 3
   },
   "file_extension": ".py",
   "mimetype": "text/x-python",
   "name": "python",
   "nbconvert_exporter": "python",
   "pygments_lexer": "ipython3",
   "version": "3.9.7"
  },
  "toc": {
   "base_numbering": 1,
   "nav_menu": {},
   "number_sections": true,
   "sideBar": true,
   "skip_h1_title": false,
   "title_cell": "Table of Contents",
   "title_sidebar": "Contents",
   "toc_cell": false,
   "toc_position": {
    "height": "calc(100% - 180px)",
    "left": "10px",
    "top": "150px",
    "width": "304.475px"
   },
   "toc_section_display": true,
   "toc_window_display": true
  },
  "varInspector": {
   "cols": {
    "lenName": 16,
    "lenType": 16,
    "lenVar": 40
   },
   "kernels_config": {
    "python": {
     "delete_cmd_postfix": "",
     "delete_cmd_prefix": "del ",
     "library": "var_list.py",
     "varRefreshCmd": "print(var_dic_list())"
    },
    "r": {
     "delete_cmd_postfix": ") ",
     "delete_cmd_prefix": "rm(",
     "library": "var_list.r",
     "varRefreshCmd": "cat(var_dic_list()) "
    }
   },
   "types_to_exclude": [
    "module",
    "function",
    "builtin_function_or_method",
    "instance",
    "_Feature"
   ],
   "window_display": false
  }
 },
 "nbformat": 4,
 "nbformat_minor": 5
}
