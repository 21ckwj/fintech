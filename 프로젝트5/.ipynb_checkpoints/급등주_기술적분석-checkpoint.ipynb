{
 "cells": [
  {
   "cell_type": "markdown",
   "id": "079dd634",
   "metadata": {},
   "source": [
    "# 기술적분석"
   ]
  },
  {
   "cell_type": "markdown",
   "id": "0c442d7b",
   "metadata": {},
   "source": [
    "* 거래량이 실린 매집봉 다수 출현(시가총액대비 거래대금)\n",
    "* 십자가 캔들 즉 캔들자체의 위아래크기가 크지 않을경우\n",
    "* \n",
    "\n",
    "* 상승시: 60일선 볼린저밴드하단 만났을때 매수 120일선 볼린저밴드 하단만난 다음날 매도\n",
    "* 하락시 : 120일선 볼린저 상단 만난다음날 매수, 60일선 볼린저밴드 상단만난 다음날 매도"
   ]
  },
  {
   "cell_type": "code",
   "execution_count": 1,
   "id": "8016fa64",
   "metadata": {
    "ExecuteTime": {
     "end_time": "2022-05-10T01:18:15.777781Z",
     "start_time": "2022-05-10T01:18:14.641791Z"
    }
   },
   "outputs": [],
   "source": [
    "import pandas as pd\n",
    "import numpy as np\n",
    "import matplotlib.pyplot as plt\n",
    "import seaborn as sns\n",
    "import FinanceDataReader as fdr"
   ]
  },
  {
   "cell_type": "markdown",
   "id": "73782b55",
   "metadata": {},
   "source": [
    "## 고려산업"
   ]
  },
  {
   "cell_type": "code",
   "execution_count": 3,
   "id": "8775b4a1",
   "metadata": {
    "ExecuteTime": {
     "end_time": "2022-05-10T03:03:56.326248Z",
     "start_time": "2022-05-10T03:03:56.110825Z"
    }
   },
   "outputs": [
    {
     "data": {
      "text/html": [
       "<div>\n",
       "<style scoped>\n",
       "    .dataframe tbody tr th:only-of-type {\n",
       "        vertical-align: middle;\n",
       "    }\n",
       "\n",
       "    .dataframe tbody tr th {\n",
       "        vertical-align: top;\n",
       "    }\n",
       "\n",
       "    .dataframe thead th {\n",
       "        text-align: right;\n",
       "    }\n",
       "</style>\n",
       "<table border=\"1\" class=\"dataframe\">\n",
       "  <thead>\n",
       "    <tr style=\"text-align: right;\">\n",
       "      <th></th>\n",
       "      <th>Open</th>\n",
       "      <th>High</th>\n",
       "      <th>Low</th>\n",
       "      <th>Close</th>\n",
       "      <th>Volume</th>\n",
       "      <th>Change</th>\n",
       "    </tr>\n",
       "    <tr>\n",
       "      <th>Date</th>\n",
       "      <th></th>\n",
       "      <th></th>\n",
       "      <th></th>\n",
       "      <th></th>\n",
       "      <th></th>\n",
       "      <th></th>\n",
       "    </tr>\n",
       "  </thead>\n",
       "  <tbody>\n",
       "    <tr>\n",
       "      <th>1998-03-17</th>\n",
       "      <td>2303</td>\n",
       "      <td>2303</td>\n",
       "      <td>2240</td>\n",
       "      <td>2241</td>\n",
       "      <td>15890</td>\n",
       "      <td>NaN</td>\n",
       "    </tr>\n",
       "    <tr>\n",
       "      <th>1998-03-18</th>\n",
       "      <td>2303</td>\n",
       "      <td>2340</td>\n",
       "      <td>2240</td>\n",
       "      <td>2241</td>\n",
       "      <td>25060</td>\n",
       "      <td>0.000000</td>\n",
       "    </tr>\n",
       "    <tr>\n",
       "      <th>1998-03-19</th>\n",
       "      <td>2122</td>\n",
       "      <td>2303</td>\n",
       "      <td>2122</td>\n",
       "      <td>2185</td>\n",
       "      <td>13600</td>\n",
       "      <td>-0.024989</td>\n",
       "    </tr>\n",
       "    <tr>\n",
       "      <th>1998-03-20</th>\n",
       "      <td>2147</td>\n",
       "      <td>2240</td>\n",
       "      <td>2147</td>\n",
       "      <td>2185</td>\n",
       "      <td>18810</td>\n",
       "      <td>0.000000</td>\n",
       "    </tr>\n",
       "    <tr>\n",
       "      <th>1998-03-21</th>\n",
       "      <td>2184</td>\n",
       "      <td>2440</td>\n",
       "      <td>2178</td>\n",
       "      <td>2328</td>\n",
       "      <td>32040</td>\n",
       "      <td>0.065446</td>\n",
       "    </tr>\n",
       "    <tr>\n",
       "      <th>...</th>\n",
       "      <td>...</td>\n",
       "      <td>...</td>\n",
       "      <td>...</td>\n",
       "      <td>...</td>\n",
       "      <td>...</td>\n",
       "      <td>...</td>\n",
       "    </tr>\n",
       "    <tr>\n",
       "      <th>2022-05-03</th>\n",
       "      <td>8210</td>\n",
       "      <td>8330</td>\n",
       "      <td>7120</td>\n",
       "      <td>7460</td>\n",
       "      <td>8871723</td>\n",
       "      <td>0.009472</td>\n",
       "    </tr>\n",
       "    <tr>\n",
       "      <th>2022-05-04</th>\n",
       "      <td>7290</td>\n",
       "      <td>7300</td>\n",
       "      <td>6250</td>\n",
       "      <td>6400</td>\n",
       "      <td>4591582</td>\n",
       "      <td>-0.142091</td>\n",
       "    </tr>\n",
       "    <tr>\n",
       "      <th>2022-05-06</th>\n",
       "      <td>6320</td>\n",
       "      <td>6630</td>\n",
       "      <td>5910</td>\n",
       "      <td>6540</td>\n",
       "      <td>3513515</td>\n",
       "      <td>0.021875</td>\n",
       "    </tr>\n",
       "    <tr>\n",
       "      <th>2022-05-09</th>\n",
       "      <td>6360</td>\n",
       "      <td>7100</td>\n",
       "      <td>6330</td>\n",
       "      <td>7100</td>\n",
       "      <td>5357957</td>\n",
       "      <td>0.085627</td>\n",
       "    </tr>\n",
       "    <tr>\n",
       "      <th>2022-05-10</th>\n",
       "      <td>6920</td>\n",
       "      <td>7550</td>\n",
       "      <td>6420</td>\n",
       "      <td>6680</td>\n",
       "      <td>8119978</td>\n",
       "      <td>-0.059155</td>\n",
       "    </tr>\n",
       "  </tbody>\n",
       "</table>\n",
       "<p>6000 rows × 6 columns</p>\n",
       "</div>"
      ],
      "text/plain": [
       "            Open  High   Low  Close   Volume    Change\n",
       "Date                                                  \n",
       "1998-03-17  2303  2303  2240   2241    15890       NaN\n",
       "1998-03-18  2303  2340  2240   2241    25060  0.000000\n",
       "1998-03-19  2122  2303  2122   2185    13600 -0.024989\n",
       "1998-03-20  2147  2240  2147   2185    18810  0.000000\n",
       "1998-03-21  2184  2440  2178   2328    32040  0.065446\n",
       "...          ...   ...   ...    ...      ...       ...\n",
       "2022-05-03  8210  8330  7120   7460  8871723  0.009472\n",
       "2022-05-04  7290  7300  6250   6400  4591582 -0.142091\n",
       "2022-05-06  6320  6630  5910   6540  3513515  0.021875\n",
       "2022-05-09  6360  7100  6330   7100  5357957  0.085627\n",
       "2022-05-10  6920  7550  6420   6680  8119978 -0.059155\n",
       "\n",
       "[6000 rows x 6 columns]"
      ]
     },
     "execution_count": 3,
     "metadata": {},
     "output_type": "execute_result"
    }
   ],
   "source": [
    "df_go = fdr.DataReader('002140')\n",
    "df_go"
   ]
  },
  {
   "cell_type": "code",
   "execution_count": null,
   "id": "78d4dcc3",
   "metadata": {},
   "outputs": [],
   "source": []
  },
  {
   "cell_type": "code",
   "execution_count": null,
   "id": "53521a69",
   "metadata": {},
   "outputs": [],
   "source": []
  },
  {
   "cell_type": "code",
   "execution_count": null,
   "id": "ce867311",
   "metadata": {},
   "outputs": [],
   "source": []
  },
  {
   "cell_type": "code",
   "execution_count": null,
   "id": "ce8133d3",
   "metadata": {},
   "outputs": [],
   "source": []
  },
  {
   "cell_type": "code",
   "execution_count": null,
   "id": "e62688f3",
   "metadata": {},
   "outputs": [],
   "source": []
  },
  {
   "cell_type": "code",
   "execution_count": null,
   "id": "88b2d39e",
   "metadata": {},
   "outputs": [],
   "source": []
  },
  {
   "cell_type": "code",
   "execution_count": null,
   "id": "583f149f",
   "metadata": {},
   "outputs": [],
   "source": []
  },
  {
   "cell_type": "code",
   "execution_count": null,
   "id": "47100734",
   "metadata": {},
   "outputs": [],
   "source": []
  },
  {
   "cell_type": "code",
   "execution_count": null,
   "id": "9533a01b",
   "metadata": {},
   "outputs": [],
   "source": []
  },
  {
   "cell_type": "code",
   "execution_count": null,
   "id": "58531583",
   "metadata": {},
   "outputs": [],
   "source": []
  },
  {
   "cell_type": "code",
   "execution_count": null,
   "id": "91c80478",
   "metadata": {},
   "outputs": [],
   "source": []
  },
  {
   "cell_type": "code",
   "execution_count": null,
   "id": "845f5934",
   "metadata": {},
   "outputs": [],
   "source": []
  }
 ],
 "metadata": {
  "kernelspec": {
   "display_name": "Python 3 (ipykernel)",
   "language": "python",
   "name": "python3"
  },
  "language_info": {
   "codemirror_mode": {
    "name": "ipython",
    "version": 3
   },
   "file_extension": ".py",
   "mimetype": "text/x-python",
   "name": "python",
   "nbconvert_exporter": "python",
   "pygments_lexer": "ipython3",
   "version": "3.9.7"
  },
  "toc": {
   "base_numbering": 1,
   "nav_menu": {},
   "number_sections": true,
   "sideBar": true,
   "skip_h1_title": false,
   "title_cell": "Table of Contents",
   "title_sidebar": "Contents",
   "toc_cell": false,
   "toc_position": {},
   "toc_section_display": true,
   "toc_window_display": false
  },
  "varInspector": {
   "cols": {
    "lenName": 16,
    "lenType": 16,
    "lenVar": 40
   },
   "kernels_config": {
    "python": {
     "delete_cmd_postfix": "",
     "delete_cmd_prefix": "del ",
     "library": "var_list.py",
     "varRefreshCmd": "print(var_dic_list())"
    },
    "r": {
     "delete_cmd_postfix": ") ",
     "delete_cmd_prefix": "rm(",
     "library": "var_list.r",
     "varRefreshCmd": "cat(var_dic_list()) "
    }
   },
   "types_to_exclude": [
    "module",
    "function",
    "builtin_function_or_method",
    "instance",
    "_Feature"
   ],
   "window_display": false
  }
 },
 "nbformat": 4,
 "nbformat_minor": 5
}
