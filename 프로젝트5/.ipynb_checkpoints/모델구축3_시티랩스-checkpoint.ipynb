{
 "cells": [
  {
   "cell_type": "code",
   "execution_count": 1,
   "id": "fe2731f0",
   "metadata": {
    "ExecuteTime": {
     "end_time": "2022-05-14T13:35:26.587620Z",
     "start_time": "2022-05-14T13:35:25.668591Z"
    }
   },
   "outputs": [],
   "source": [
    "import pandas as pd\n",
    "import numpy as np\n",
    "import matplotlib.pyplot as plt\n",
    "import seaborn as sns"
   ]
  },
  {
   "cell_type": "code",
   "execution_count": 2,
   "id": "163b2bac",
   "metadata": {
    "ExecuteTime": {
     "end_time": "2022-05-14T13:35:26.634812Z",
     "start_time": "2022-05-14T13:35:26.620531Z"
    }
   },
   "outputs": [],
   "source": [
    "from datetime import timedelta"
   ]
  },
  {
   "cell_type": "code",
   "execution_count": 3,
   "id": "5e847187",
   "metadata": {
    "ExecuteTime": {
     "end_time": "2022-05-14T13:35:28.854241Z",
     "start_time": "2022-05-14T13:35:26.667758Z"
    }
   },
   "outputs": [],
   "source": [
    "import tensorflow as tf\n",
    "import keras\n",
    "from tensorflow.keras.models import Sequential\n",
    "from tensorflow.keras.layers import Dense, LSTM, Conv1D"
   ]
  },
  {
   "cell_type": "code",
   "execution_count": 4,
   "id": "e8975d56",
   "metadata": {
    "ExecuteTime": {
     "end_time": "2022-05-14T13:35:28.948208Z",
     "start_time": "2022-05-14T13:35:28.891196Z"
    }
   },
   "outputs": [
    {
     "data": {
      "text/html": [
       "<div>\n",
       "<style scoped>\n",
       "    .dataframe tbody tr th:only-of-type {\n",
       "        vertical-align: middle;\n",
       "    }\n",
       "\n",
       "    .dataframe tbody tr th {\n",
       "        vertical-align: top;\n",
       "    }\n",
       "\n",
       "    .dataframe thead th {\n",
       "        text-align: right;\n",
       "    }\n",
       "</style>\n",
       "<table border=\"1\" class=\"dataframe\">\n",
       "  <thead>\n",
       "    <tr style=\"text-align: right;\">\n",
       "      <th></th>\n",
       "      <th>일자</th>\n",
       "      <th>종가</th>\n",
       "      <th>등락률</th>\n",
       "      <th>거래대금</th>\n",
       "      <th>매출액(억원)</th>\n",
       "      <th>영업이익(억원)</th>\n",
       "      <th>당기순이익(억원)</th>\n",
       "      <th>지배주주순이익(억원)</th>\n",
       "      <th>자산총계(억원)</th>\n",
       "      <th>부채총계(억원)</th>\n",
       "      <th>...</th>\n",
       "      <th>EPS(원)</th>\n",
       "      <th>BPS(원)</th>\n",
       "      <th>PBR(배)</th>\n",
       "      <th>고가-종가</th>\n",
       "      <th>고가-시가</th>\n",
       "      <th>고가-저가</th>\n",
       "      <th>종가-시가</th>\n",
       "      <th>종가-저가</th>\n",
       "      <th>시가-저가</th>\n",
       "      <th>전환사채전환총액</th>\n",
       "    </tr>\n",
       "  </thead>\n",
       "  <tbody>\n",
       "    <tr>\n",
       "      <th>1</th>\n",
       "      <td>2016-01-05</td>\n",
       "      <td>3020</td>\n",
       "      <td>0.00</td>\n",
       "      <td>-0.452066</td>\n",
       "      <td>-0.229885</td>\n",
       "      <td>0.666667</td>\n",
       "      <td>4.5</td>\n",
       "      <td>4.5</td>\n",
       "      <td>-0.022624</td>\n",
       "      <td>-0.283582</td>\n",
       "      <td>...</td>\n",
       "      <td>3.357143</td>\n",
       "      <td>0.00627</td>\n",
       "      <td>1.88</td>\n",
       "      <td>-0.913043</td>\n",
       "      <td>-0.176471</td>\n",
       "      <td>-0.200000</td>\n",
       "      <td>-3.000000</td>\n",
       "      <td>8.000000</td>\n",
       "      <td>-0.250000</td>\n",
       "      <td>-0.8</td>\n",
       "    </tr>\n",
       "    <tr>\n",
       "      <th>2</th>\n",
       "      <td>2016-01-06</td>\n",
       "      <td>2895</td>\n",
       "      <td>-4.14</td>\n",
       "      <td>0.292444</td>\n",
       "      <td>-0.229885</td>\n",
       "      <td>0.666667</td>\n",
       "      <td>4.5</td>\n",
       "      <td>4.5</td>\n",
       "      <td>-0.022624</td>\n",
       "      <td>-0.283582</td>\n",
       "      <td>...</td>\n",
       "      <td>3.357143</td>\n",
       "      <td>0.00627</td>\n",
       "      <td>1.88</td>\n",
       "      <td>16.000000</td>\n",
       "      <td>-0.071429</td>\n",
       "      <td>1.250000</td>\n",
       "      <td>-2.750000</td>\n",
       "      <td>-0.388889</td>\n",
       "      <td>4.333333</td>\n",
       "      <td>-0.8</td>\n",
       "    </tr>\n",
       "    <tr>\n",
       "      <th>3</th>\n",
       "      <td>2016-01-07</td>\n",
       "      <td>2945</td>\n",
       "      <td>1.73</td>\n",
       "      <td>0.843234</td>\n",
       "      <td>-0.229885</td>\n",
       "      <td>0.666667</td>\n",
       "      <td>4.5</td>\n",
       "      <td>4.5</td>\n",
       "      <td>-0.022624</td>\n",
       "      <td>-0.283582</td>\n",
       "      <td>...</td>\n",
       "      <td>3.357143</td>\n",
       "      <td>0.00627</td>\n",
       "      <td>1.88</td>\n",
       "      <td>-0.088235</td>\n",
       "      <td>2.615385</td>\n",
       "      <td>0.155556</td>\n",
       "      <td>-1.761905</td>\n",
       "      <td>0.909091</td>\n",
       "      <td>-0.843750</td>\n",
       "      <td>-0.8</td>\n",
       "    </tr>\n",
       "    <tr>\n",
       "      <th>4</th>\n",
       "      <td>2016-01-08</td>\n",
       "      <td>2920</td>\n",
       "      <td>-0.85</td>\n",
       "      <td>-0.546023</td>\n",
       "      <td>-0.229885</td>\n",
       "      <td>0.666667</td>\n",
       "      <td>4.5</td>\n",
       "      <td>4.5</td>\n",
       "      <td>-0.022624</td>\n",
       "      <td>-0.283582</td>\n",
       "      <td>...</td>\n",
       "      <td>3.357143</td>\n",
       "      <td>0.00627</td>\n",
       "      <td>1.88</td>\n",
       "      <td>-0.870968</td>\n",
       "      <td>-0.829787</td>\n",
       "      <td>-0.288462</td>\n",
       "      <td>-0.750000</td>\n",
       "      <td>0.571429</td>\n",
       "      <td>4.800000</td>\n",
       "      <td>-0.8</td>\n",
       "    </tr>\n",
       "    <tr>\n",
       "      <th>5</th>\n",
       "      <td>2016-01-11</td>\n",
       "      <td>2810</td>\n",
       "      <td>-3.77</td>\n",
       "      <td>-0.349444</td>\n",
       "      <td>-0.229885</td>\n",
       "      <td>0.666667</td>\n",
       "      <td>4.5</td>\n",
       "      <td>4.5</td>\n",
       "      <td>-0.022624</td>\n",
       "      <td>-0.283582</td>\n",
       "      <td>...</td>\n",
       "      <td>3.357143</td>\n",
       "      <td>0.00627</td>\n",
       "      <td>1.88</td>\n",
       "      <td>5.250000</td>\n",
       "      <td>-0.375000</td>\n",
       "      <td>-0.270270</td>\n",
       "      <td>-6.000000</td>\n",
       "      <td>-0.939394</td>\n",
       "      <td>-0.241379</td>\n",
       "      <td>-0.8</td>\n",
       "    </tr>\n",
       "  </tbody>\n",
       "</table>\n",
       "<p>5 rows × 27 columns</p>\n",
       "</div>"
      ],
      "text/plain": [
       "           일자    종가   등락률      거래대금   매출액(억원)  영업이익(억원)  당기순이익(억원)  \\\n",
       "1  2016-01-05  3020  0.00 -0.452066 -0.229885  0.666667        4.5   \n",
       "2  2016-01-06  2895 -4.14  0.292444 -0.229885  0.666667        4.5   \n",
       "3  2016-01-07  2945  1.73  0.843234 -0.229885  0.666667        4.5   \n",
       "4  2016-01-08  2920 -0.85 -0.546023 -0.229885  0.666667        4.5   \n",
       "5  2016-01-11  2810 -3.77 -0.349444 -0.229885  0.666667        4.5   \n",
       "\n",
       "   지배주주순이익(억원)  자산총계(억원)  부채총계(억원)  ...    EPS(원)   BPS(원)  PBR(배)      고가-종가  \\\n",
       "1          4.5 -0.022624 -0.283582  ...  3.357143  0.00627    1.88  -0.913043   \n",
       "2          4.5 -0.022624 -0.283582  ...  3.357143  0.00627    1.88  16.000000   \n",
       "3          4.5 -0.022624 -0.283582  ...  3.357143  0.00627    1.88  -0.088235   \n",
       "4          4.5 -0.022624 -0.283582  ...  3.357143  0.00627    1.88  -0.870968   \n",
       "5          4.5 -0.022624 -0.283582  ...  3.357143  0.00627    1.88   5.250000   \n",
       "\n",
       "      고가-시가     고가-저가     종가-시가     종가-저가     시가-저가  전환사채전환총액  \n",
       "1 -0.176471 -0.200000 -3.000000  8.000000 -0.250000      -0.8  \n",
       "2 -0.071429  1.250000 -2.750000 -0.388889  4.333333      -0.8  \n",
       "3  2.615385  0.155556 -1.761905  0.909091 -0.843750      -0.8  \n",
       "4 -0.829787 -0.288462 -0.750000  0.571429  4.800000      -0.8  \n",
       "5 -0.375000 -0.270270 -6.000000 -0.939394 -0.241379      -0.8  \n",
       "\n",
       "[5 rows x 27 columns]"
      ]
     },
     "execution_count": 4,
     "metadata": {},
     "output_type": "execute_result"
    }
   ],
   "source": [
    "df_ct = pd.read_csv('./data/시티랩스_모델데이터1.csv',index_col=0)\n",
    "df_ct.head()"
   ]
  },
  {
   "cell_type": "code",
   "execution_count": 5,
   "id": "3d912274",
   "metadata": {
    "ExecuteTime": {
     "end_time": "2022-05-14T13:20:01.775688Z",
     "start_time": "2022-05-14T13:20:01.760728Z"
    }
   },
   "outputs": [
    {
     "data": {
      "text/plain": [
       "Index(['일자', '종가', '등락률', '거래대금', '매출액(억원)', '영업이익(억원)', '당기순이익(억원)',\n",
       "       '지배주주순이익(억원)', '자산총계(억원)', '부채총계(억원)', '자본총계(억원)', '자본금(억원)', '부채비율(%)',\n",
       "       '영업이익률(%)', '지배주주순이익률(%)', 'ROA(%)', 'ROE(%)', 'EPS(원)', 'BPS(원)',\n",
       "       'PBR(배)', '고가-종가', '고가-시가', '고가-저가', '종가-시가', '종가-저가', '시가-저가',\n",
       "       '전환사채전환총액'],\n",
       "      dtype='object')"
      ]
     },
     "execution_count": 5,
     "metadata": {},
     "output_type": "execute_result"
    }
   ],
   "source": [
    " df_ct.columns"
   ]
  },
  {
   "cell_type": "code",
   "execution_count": 5,
   "id": "9527e9e3",
   "metadata": {
    "ExecuteTime": {
     "end_time": "2022-05-14T13:36:27.679564Z",
     "start_time": "2022-05-14T13:36:27.672599Z"
    }
   },
   "outputs": [],
   "source": [
    "df_ct1 = df_ct[['등락률', '거래대금','고가-종가', '고가-시가', '고가-저가', '종가-시가', '종가-저가', '시가-저가']]"
   ]
  },
  {
   "cell_type": "code",
   "execution_count": 6,
   "id": "b62cb899",
   "metadata": {
    "ExecuteTime": {
     "end_time": "2022-05-14T13:36:28.282854Z",
     "start_time": "2022-05-14T13:36:28.261910Z"
    }
   },
   "outputs": [
    {
     "data": {
      "text/html": [
       "<div>\n",
       "<style scoped>\n",
       "    .dataframe tbody tr th:only-of-type {\n",
       "        vertical-align: middle;\n",
       "    }\n",
       "\n",
       "    .dataframe tbody tr th {\n",
       "        vertical-align: top;\n",
       "    }\n",
       "\n",
       "    .dataframe thead th {\n",
       "        text-align: right;\n",
       "    }\n",
       "</style>\n",
       "<table border=\"1\" class=\"dataframe\">\n",
       "  <thead>\n",
       "    <tr style=\"text-align: right;\">\n",
       "      <th></th>\n",
       "      <th>등락률</th>\n",
       "      <th>거래대금</th>\n",
       "      <th>고가-종가</th>\n",
       "      <th>고가-시가</th>\n",
       "      <th>고가-저가</th>\n",
       "      <th>종가-시가</th>\n",
       "      <th>종가-저가</th>\n",
       "      <th>시가-저가</th>\n",
       "    </tr>\n",
       "  </thead>\n",
       "  <tbody>\n",
       "    <tr>\n",
       "      <th>1</th>\n",
       "      <td>0.00</td>\n",
       "      <td>-0.452066</td>\n",
       "      <td>-0.913043</td>\n",
       "      <td>-0.176471</td>\n",
       "      <td>-0.200000</td>\n",
       "      <td>-3.000000</td>\n",
       "      <td>8.000000</td>\n",
       "      <td>-0.250000</td>\n",
       "    </tr>\n",
       "    <tr>\n",
       "      <th>2</th>\n",
       "      <td>-4.14</td>\n",
       "      <td>0.292444</td>\n",
       "      <td>16.000000</td>\n",
       "      <td>-0.071429</td>\n",
       "      <td>1.250000</td>\n",
       "      <td>-2.750000</td>\n",
       "      <td>-0.388889</td>\n",
       "      <td>4.333333</td>\n",
       "    </tr>\n",
       "    <tr>\n",
       "      <th>3</th>\n",
       "      <td>1.73</td>\n",
       "      <td>0.843234</td>\n",
       "      <td>-0.088235</td>\n",
       "      <td>2.615385</td>\n",
       "      <td>0.155556</td>\n",
       "      <td>-1.761905</td>\n",
       "      <td>0.909091</td>\n",
       "      <td>-0.843750</td>\n",
       "    </tr>\n",
       "  </tbody>\n",
       "</table>\n",
       "</div>"
      ],
      "text/plain": [
       "    등락률      거래대금      고가-종가     고가-시가     고가-저가     종가-시가     종가-저가     시가-저가\n",
       "1  0.00 -0.452066  -0.913043 -0.176471 -0.200000 -3.000000  8.000000 -0.250000\n",
       "2 -4.14  0.292444  16.000000 -0.071429  1.250000 -2.750000 -0.388889  4.333333\n",
       "3  1.73  0.843234  -0.088235  2.615385  0.155556 -1.761905  0.909091 -0.843750"
      ]
     },
     "execution_count": 6,
     "metadata": {},
     "output_type": "execute_result"
    }
   ],
   "source": [
    "df_ct1.head(3)"
   ]
  },
  {
   "cell_type": "code",
   "execution_count": 7,
   "id": "8fa0e552",
   "metadata": {
    "ExecuteTime": {
     "end_time": "2022-05-14T13:36:32.287473Z",
     "start_time": "2022-05-14T13:36:32.277504Z"
    }
   },
   "outputs": [
    {
     "name": "stdout",
     "output_type": "stream",
     "text": [
      "없음\n",
      "1\n",
      "없음\n",
      "없음\n",
      "없음\n",
      "없음\n",
      "없음\n",
      "없음\n"
     ]
    }
   ],
   "source": [
    "for i in range(len(df_ct1.columns)):\n",
    "    \n",
    "    if np.inf in df_ct1.iloc[:,i].unique():\n",
    "        print(i)  \n",
    "        \n",
    "    else:\n",
    "        print('없음')"
   ]
  },
  {
   "cell_type": "code",
   "execution_count": 8,
   "id": "9f81c013",
   "metadata": {
    "ExecuteTime": {
     "end_time": "2022-05-14T13:36:33.267504Z",
     "start_time": "2022-05-14T13:36:33.247188Z"
    }
   },
   "outputs": [
    {
     "data": {
      "text/html": [
       "<div>\n",
       "<style scoped>\n",
       "    .dataframe tbody tr th:only-of-type {\n",
       "        vertical-align: middle;\n",
       "    }\n",
       "\n",
       "    .dataframe tbody tr th {\n",
       "        vertical-align: top;\n",
       "    }\n",
       "\n",
       "    .dataframe thead th {\n",
       "        text-align: right;\n",
       "    }\n",
       "</style>\n",
       "<table border=\"1\" class=\"dataframe\">\n",
       "  <thead>\n",
       "    <tr style=\"text-align: right;\">\n",
       "      <th></th>\n",
       "      <th>등락률</th>\n",
       "      <th>거래대금</th>\n",
       "      <th>고가-종가</th>\n",
       "      <th>고가-시가</th>\n",
       "      <th>고가-저가</th>\n",
       "      <th>종가-시가</th>\n",
       "      <th>종가-저가</th>\n",
       "      <th>시가-저가</th>\n",
       "    </tr>\n",
       "  </thead>\n",
       "  <tbody>\n",
       "    <tr>\n",
       "      <th>275</th>\n",
       "      <td>-11.63</td>\n",
       "      <td>inf</td>\n",
       "      <td>-1.090116</td>\n",
       "      <td>39.0</td>\n",
       "      <td>324.0</td>\n",
       "      <td>-1.078488</td>\n",
       "      <td>-0.995640</td>\n",
       "      <td>284.0</td>\n",
       "    </tr>\n",
       "    <tr>\n",
       "      <th>281</th>\n",
       "      <td>-7.62</td>\n",
       "      <td>inf</td>\n",
       "      <td>-1.068254</td>\n",
       "      <td>99.0</td>\n",
       "      <td>214.0</td>\n",
       "      <td>-1.036508</td>\n",
       "      <td>-0.999683</td>\n",
       "      <td>114.0</td>\n",
       "    </tr>\n",
       "    <tr>\n",
       "      <th>501</th>\n",
       "      <td>-2.35</td>\n",
       "      <td>inf</td>\n",
       "      <td>-1.239216</td>\n",
       "      <td>359.0</td>\n",
       "      <td>1339.0</td>\n",
       "      <td>-1.168627</td>\n",
       "      <td>-0.976471</td>\n",
       "      <td>979.0</td>\n",
       "    </tr>\n",
       "    <tr>\n",
       "      <th>1100</th>\n",
       "      <td>-8.92</td>\n",
       "      <td>inf</td>\n",
       "      <td>-1.069231</td>\n",
       "      <td>22.0</td>\n",
       "      <td>45.0</td>\n",
       "      <td>-1.033846</td>\n",
       "      <td>-0.998462</td>\n",
       "      <td>22.0</td>\n",
       "    </tr>\n",
       "  </tbody>\n",
       "</table>\n",
       "</div>"
      ],
      "text/plain": [
       "        등락률  거래대금     고가-종가  고가-시가   고가-저가     종가-시가     종가-저가  시가-저가\n",
       "275  -11.63   inf -1.090116   39.0   324.0 -1.078488 -0.995640  284.0\n",
       "281   -7.62   inf -1.068254   99.0   214.0 -1.036508 -0.999683  114.0\n",
       "501   -2.35   inf -1.239216  359.0  1339.0 -1.168627 -0.976471  979.0\n",
       "1100  -8.92   inf -1.069231   22.0    45.0 -1.033846 -0.998462   22.0"
      ]
     },
     "execution_count": 8,
     "metadata": {},
     "output_type": "execute_result"
    }
   ],
   "source": [
    "df_ct1[df_ct1.거래대금 == np.inf]"
   ]
  },
  {
   "cell_type": "code",
   "execution_count": 9,
   "id": "5c4d5708",
   "metadata": {
    "ExecuteTime": {
     "end_time": "2022-05-14T13:36:43.520334Z",
     "start_time": "2022-05-14T13:36:43.499364Z"
    }
   },
   "outputs": [
    {
     "data": {
      "text/html": [
       "<div>\n",
       "<style scoped>\n",
       "    .dataframe tbody tr th:only-of-type {\n",
       "        vertical-align: middle;\n",
       "    }\n",
       "\n",
       "    .dataframe tbody tr th {\n",
       "        vertical-align: top;\n",
       "    }\n",
       "\n",
       "    .dataframe thead th {\n",
       "        text-align: right;\n",
       "    }\n",
       "</style>\n",
       "<table border=\"1\" class=\"dataframe\">\n",
       "  <thead>\n",
       "    <tr style=\"text-align: right;\">\n",
       "      <th></th>\n",
       "      <th>등락률</th>\n",
       "      <th>거래대금</th>\n",
       "      <th>고가-종가</th>\n",
       "      <th>고가-시가</th>\n",
       "      <th>고가-저가</th>\n",
       "      <th>종가-시가</th>\n",
       "      <th>종가-저가</th>\n",
       "      <th>시가-저가</th>\n",
       "    </tr>\n",
       "  </thead>\n",
       "  <tbody>\n",
       "    <tr>\n",
       "      <th>1</th>\n",
       "      <td>0.00</td>\n",
       "      <td>-0.452066</td>\n",
       "      <td>-0.913043</td>\n",
       "      <td>-0.176471</td>\n",
       "      <td>-0.200000</td>\n",
       "      <td>-3.000000</td>\n",
       "      <td>8.000000</td>\n",
       "      <td>-0.250000</td>\n",
       "    </tr>\n",
       "    <tr>\n",
       "      <th>2</th>\n",
       "      <td>-4.14</td>\n",
       "      <td>0.292444</td>\n",
       "      <td>16.000000</td>\n",
       "      <td>-0.071429</td>\n",
       "      <td>1.250000</td>\n",
       "      <td>-2.750000</td>\n",
       "      <td>-0.388889</td>\n",
       "      <td>4.333333</td>\n",
       "    </tr>\n",
       "    <tr>\n",
       "      <th>3</th>\n",
       "      <td>1.73</td>\n",
       "      <td>0.843234</td>\n",
       "      <td>-0.088235</td>\n",
       "      <td>2.615385</td>\n",
       "      <td>0.155556</td>\n",
       "      <td>-1.761905</td>\n",
       "      <td>0.909091</td>\n",
       "      <td>-0.843750</td>\n",
       "    </tr>\n",
       "    <tr>\n",
       "      <th>4</th>\n",
       "      <td>-0.85</td>\n",
       "      <td>-0.546023</td>\n",
       "      <td>-0.870968</td>\n",
       "      <td>-0.829787</td>\n",
       "      <td>-0.288462</td>\n",
       "      <td>-0.750000</td>\n",
       "      <td>0.571429</td>\n",
       "      <td>4.800000</td>\n",
       "    </tr>\n",
       "    <tr>\n",
       "      <th>5</th>\n",
       "      <td>-3.77</td>\n",
       "      <td>-0.349444</td>\n",
       "      <td>5.250000</td>\n",
       "      <td>-0.375000</td>\n",
       "      <td>-0.270270</td>\n",
       "      <td>-6.000000</td>\n",
       "      <td>-0.939394</td>\n",
       "      <td>-0.241379</td>\n",
       "    </tr>\n",
       "  </tbody>\n",
       "</table>\n",
       "</div>"
      ],
      "text/plain": [
       "    등락률      거래대금      고가-종가     고가-시가     고가-저가     종가-시가     종가-저가     시가-저가\n",
       "1  0.00 -0.452066  -0.913043 -0.176471 -0.200000 -3.000000  8.000000 -0.250000\n",
       "2 -4.14  0.292444  16.000000 -0.071429  1.250000 -2.750000 -0.388889  4.333333\n",
       "3  1.73  0.843234  -0.088235  2.615385  0.155556 -1.761905  0.909091 -0.843750\n",
       "4 -0.85 -0.546023  -0.870968 -0.829787 -0.288462 -0.750000  0.571429  4.800000\n",
       "5 -3.77 -0.349444   5.250000 -0.375000 -0.270270 -6.000000 -0.939394 -0.241379"
      ]
     },
     "execution_count": 9,
     "metadata": {},
     "output_type": "execute_result"
    }
   ],
   "source": [
    "df_ct2 = df_ct1[df_ct1.거래대금 != np.inf]\n",
    "df_ct2.head()"
   ]
  },
  {
   "cell_type": "code",
   "execution_count": 11,
   "id": "b5544990",
   "metadata": {
    "ExecuteTime": {
     "end_time": "2022-05-14T13:20:06.408824Z",
     "start_time": "2022-05-14T13:20:06.398879Z"
    }
   },
   "outputs": [
    {
     "data": {
      "text/plain": [
       "(1470, 15)"
      ]
     },
     "execution_count": 11,
     "metadata": {},
     "output_type": "execute_result"
    }
   ],
   "source": [
    "df_ct2.shape"
   ]
  },
  {
   "cell_type": "code",
   "execution_count": null,
   "id": "8f18983b",
   "metadata": {},
   "outputs": [],
   "source": []
  },
  {
   "cell_type": "code",
   "execution_count": null,
   "id": "a3ac85ca",
   "metadata": {},
   "outputs": [],
   "source": []
  },
  {
   "cell_type": "code",
   "execution_count": 10,
   "id": "b86508ea",
   "metadata": {
    "ExecuteTime": {
     "end_time": "2022-05-14T13:37:12.708368Z",
     "start_time": "2022-05-14T13:37:08.741952Z"
    }
   },
   "outputs": [],
   "source": [
    "window_size = 30\n",
    "target_period = 10\n",
    "\n",
    "X = []\n",
    "Y = []\n",
    "\n",
    "\n",
    "for i in range(len(df_ct2) - window_size): \n",
    "    \n",
    "    # 피쳐값 \n",
    "    X.append([df_ct2.iloc[i+j,1:] for j in range(window_size)]) # j= 0부터 29 -> 30일치 데이터\n",
    "\n",
    "    # 등락률 \n",
    "    Y.append([df_ct2.iloc[i+j,0] for j in range(target_period)])\n",
    "    \n",
    "Y1 = []\n",
    "for y in Y:\n",
    "    toggle = 0\n",
    "    for i in y:\n",
    "\n",
    "        if i >= 7:\n",
    "            Y1.append(1)\n",
    "            toggle = 1\n",
    "            break\n",
    "    if toggle != 1:\n",
    "        Y1.append(0)\n"
   ]
  },
  {
   "cell_type": "code",
   "execution_count": null,
   "id": "2510ad19",
   "metadata": {
    "ExecuteTime": {
     "start_time": "2022-05-14T13:37:09.650Z"
    }
   },
   "outputs": [],
   "source": [
    "X_ary = np.array(X).astype(float)\n",
    "Y1_ary = np.array(Y1).astype(float)"
   ]
  },
  {
   "cell_type": "code",
   "execution_count": null,
   "id": "9bf3b8da",
   "metadata": {
    "ExecuteTime": {
     "start_time": "2022-05-14T13:37:11.245Z"
    }
   },
   "outputs": [],
   "source": [
    "train_test_split = 1100\n",
    "\n",
    "x_train = X_ary[:1100]\n",
    "y_train = Y1_ary[:1100]\n",
    "\n",
    "x_test = X_ary[1100:]\n",
    "y_test = Y1_ary[1100:]"
   ]
  },
  {
   "cell_type": "code",
   "execution_count": null,
   "id": "4832d630",
   "metadata": {
    "ExecuteTime": {
     "start_time": "2022-05-14T13:37:13.468Z"
    }
   },
   "outputs": [],
   "source": [
    "x_train.shape"
   ]
  },
  {
   "cell_type": "code",
   "execution_count": 16,
   "id": "78f97e33",
   "metadata": {
    "ExecuteTime": {
     "end_time": "2022-05-14T13:22:33.161747Z",
     "start_time": "2022-05-14T13:22:31.865491Z"
    }
   },
   "outputs": [
    {
     "name": "stdout",
     "output_type": "stream",
     "text": [
      "Model: \"sequential\"\n",
      "_________________________________________________________________\n",
      " Layer (type)                Output Shape              Param #   \n",
      "=================================================================\n",
      " lstm (LSTM)                 (None, 100)               46000     \n",
      "                                                                 \n",
      " dense (Dense)               (None, 1)                 101       \n",
      "                                                                 \n",
      "=================================================================\n",
      "Total params: 46,101\n",
      "Trainable params: 46,101\n",
      "Non-trainable params: 0\n",
      "_________________________________________________________________\n"
     ]
    }
   ],
   "source": [
    "with tf.device('/GPU:0'):\n",
    "    model = Sequential()\n",
    "    model.add(LSTM(100, input_shape=(30,14)))\n",
    "    model.add(Dense(1,activation='sigmoid'))\n",
    "    model.summary()"
   ]
  },
  {
   "cell_type": "code",
   "execution_count": 17,
   "id": "3000b25f",
   "metadata": {
    "ExecuteTime": {
     "end_time": "2022-05-14T13:23:06.447336Z",
     "start_time": "2022-05-14T13:23:06.438362Z"
    }
   },
   "outputs": [],
   "source": [
    "# learning rate 설정\n",
    "Adam = tf.keras.optimizers.Adam(learning_rate=0.0001)"
   ]
  },
  {
   "cell_type": "code",
   "execution_count": 18,
   "id": "2a532a86",
   "metadata": {
    "ExecuteTime": {
     "end_time": "2022-05-14T13:23:39.612304Z",
     "start_time": "2022-05-14T13:23:39.568473Z"
    }
   },
   "outputs": [],
   "source": [
    "model.compile(loss='binary_crossentropy', metrics ='accuracy', optimizer=Adam)"
   ]
  },
  {
   "cell_type": "code",
   "execution_count": 19,
   "id": "d46f88b0",
   "metadata": {
    "ExecuteTime": {
     "end_time": "2022-05-14T13:24:46.082805Z",
     "start_time": "2022-05-14T13:24:12.811977Z"
    },
    "scrolled": true
   },
   "outputs": [
    {
     "name": "stdout",
     "output_type": "stream",
     "text": [
      "Epoch 1/50\n",
      "110/110 [==============================] - 3s 8ms/step - loss: 0.7247 - accuracy: 0.4936 - val_loss: 0.6322 - val_accuracy: 0.7412\n",
      "Epoch 2/50\n",
      "110/110 [==============================] - 1s 6ms/step - loss: 0.5786 - accuracy: 0.7018 - val_loss: 0.5931 - val_accuracy: 0.7000\n",
      "Epoch 3/50\n",
      "110/110 [==============================] - 1s 5ms/step - loss: 0.5381 - accuracy: 0.7045 - val_loss: 0.5836 - val_accuracy: 0.6971\n",
      "Epoch 4/50\n",
      "110/110 [==============================] - 1s 6ms/step - loss: 0.5134 - accuracy: 0.7200 - val_loss: 0.5748 - val_accuracy: 0.7000\n",
      "Epoch 5/50\n",
      "110/110 [==============================] - 1s 6ms/step - loss: 0.4940 - accuracy: 0.7318 - val_loss: 0.5680 - val_accuracy: 0.7000\n",
      "Epoch 6/50\n",
      "110/110 [==============================] - 1s 6ms/step - loss: 0.4768 - accuracy: 0.7436 - val_loss: 0.5620 - val_accuracy: 0.7000\n",
      "Epoch 7/50\n",
      "110/110 [==============================] - 1s 5ms/step - loss: 0.4607 - accuracy: 0.7709 - val_loss: 0.5621 - val_accuracy: 0.7029\n",
      "Epoch 8/50\n",
      "110/110 [==============================] - 1s 6ms/step - loss: 0.4446 - accuracy: 0.7964 - val_loss: 0.5511 - val_accuracy: 0.7147\n",
      "Epoch 9/50\n",
      "110/110 [==============================] - 1s 5ms/step - loss: 0.4286 - accuracy: 0.8036 - val_loss: 0.5455 - val_accuracy: 0.7059\n",
      "Epoch 10/50\n",
      "110/110 [==============================] - 1s 5ms/step - loss: 0.4124 - accuracy: 0.8100 - val_loss: 0.5441 - val_accuracy: 0.7471\n",
      "Epoch 11/50\n",
      "110/110 [==============================] - 1s 6ms/step - loss: 0.3982 - accuracy: 0.8191 - val_loss: 0.5410 - val_accuracy: 0.7412\n",
      "Epoch 12/50\n",
      "110/110 [==============================] - 1s 6ms/step - loss: 0.3851 - accuracy: 0.8245 - val_loss: 0.5367 - val_accuracy: 0.7382\n",
      "Epoch 13/50\n",
      "110/110 [==============================] - 1s 6ms/step - loss: 0.3728 - accuracy: 0.8418 - val_loss: 0.5366 - val_accuracy: 0.7059\n",
      "Epoch 14/50\n",
      "110/110 [==============================] - 1s 6ms/step - loss: 0.3606 - accuracy: 0.8445 - val_loss: 0.5362 - val_accuracy: 0.7059\n",
      "Epoch 15/50\n",
      "110/110 [==============================] - 1s 5ms/step - loss: 0.3500 - accuracy: 0.8573 - val_loss: 0.5310 - val_accuracy: 0.7059\n",
      "Epoch 16/50\n",
      "110/110 [==============================] - 1s 6ms/step - loss: 0.3379 - accuracy: 0.8573 - val_loss: 0.5325 - val_accuracy: 0.7000\n",
      "Epoch 17/50\n",
      "110/110 [==============================] - 1s 5ms/step - loss: 0.3290 - accuracy: 0.8627 - val_loss: 0.5249 - val_accuracy: 0.7206\n",
      "Epoch 18/50\n",
      "110/110 [==============================] - 1s 6ms/step - loss: 0.3195 - accuracy: 0.8755 - val_loss: 0.5259 - val_accuracy: 0.7118\n",
      "Epoch 19/50\n",
      "110/110 [==============================] - 1s 5ms/step - loss: 0.3087 - accuracy: 0.8882 - val_loss: 0.5252 - val_accuracy: 0.7176\n",
      "Epoch 20/50\n",
      "110/110 [==============================] - 1s 6ms/step - loss: 0.3009 - accuracy: 0.8864 - val_loss: 0.5372 - val_accuracy: 0.6941\n",
      "Epoch 21/50\n",
      "110/110 [==============================] - 1s 5ms/step - loss: 0.2929 - accuracy: 0.8918 - val_loss: 0.5352 - val_accuracy: 0.6971\n",
      "Epoch 22/50\n",
      "110/110 [==============================] - 1s 6ms/step - loss: 0.2830 - accuracy: 0.9009 - val_loss: 0.5420 - val_accuracy: 0.6941\n",
      "Epoch 23/50\n",
      "110/110 [==============================] - 1s 6ms/step - loss: 0.2740 - accuracy: 0.9082 - val_loss: 0.5143 - val_accuracy: 0.7059\n",
      "Epoch 24/50\n",
      "110/110 [==============================] - 1s 6ms/step - loss: 0.2668 - accuracy: 0.9136 - val_loss: 0.5388 - val_accuracy: 0.6941\n",
      "Epoch 25/50\n",
      "110/110 [==============================] - 1s 6ms/step - loss: 0.2595 - accuracy: 0.9091 - val_loss: 0.5419 - val_accuracy: 0.6971\n",
      "Epoch 26/50\n",
      "110/110 [==============================] - 1s 5ms/step - loss: 0.2491 - accuracy: 0.9209 - val_loss: 0.5200 - val_accuracy: 0.6941\n",
      "Epoch 27/50\n",
      "110/110 [==============================] - 1s 6ms/step - loss: 0.2456 - accuracy: 0.9155 - val_loss: 0.5151 - val_accuracy: 0.7000\n",
      "Epoch 28/50\n",
      "110/110 [==============================] - 1s 5ms/step - loss: 0.2395 - accuracy: 0.9182 - val_loss: 0.5480 - val_accuracy: 0.6941\n",
      "Epoch 29/50\n",
      "110/110 [==============================] - 1s 5ms/step - loss: 0.2337 - accuracy: 0.9291 - val_loss: 0.5188 - val_accuracy: 0.6941\n",
      "Epoch 30/50\n",
      "110/110 [==============================] - 1s 6ms/step - loss: 0.2242 - accuracy: 0.9336 - val_loss: 0.5063 - val_accuracy: 0.7059\n",
      "Epoch 31/50\n",
      "110/110 [==============================] - 1s 6ms/step - loss: 0.2188 - accuracy: 0.9300 - val_loss: 0.5194 - val_accuracy: 0.7029\n",
      "Epoch 32/50\n",
      "110/110 [==============================] - 1s 6ms/step - loss: 0.2113 - accuracy: 0.9318 - val_loss: 0.5202 - val_accuracy: 0.6941\n",
      "Epoch 33/50\n",
      "110/110 [==============================] - 1s 6ms/step - loss: 0.2048 - accuracy: 0.9391 - val_loss: 0.5188 - val_accuracy: 0.6971\n",
      "Epoch 34/50\n",
      "110/110 [==============================] - 1s 6ms/step - loss: 0.2016 - accuracy: 0.9382 - val_loss: 0.5146 - val_accuracy: 0.6941\n",
      "Epoch 35/50\n",
      "110/110 [==============================] - 1s 6ms/step - loss: 0.1938 - accuracy: 0.9418 - val_loss: 0.5200 - val_accuracy: 0.6941\n",
      "Epoch 36/50\n",
      "110/110 [==============================] - 1s 6ms/step - loss: 0.1895 - accuracy: 0.9445 - val_loss: 0.5153 - val_accuracy: 0.6941\n",
      "Epoch 37/50\n",
      "110/110 [==============================] - 1s 5ms/step - loss: 0.1822 - accuracy: 0.9445 - val_loss: 0.5024 - val_accuracy: 0.7000\n",
      "Epoch 38/50\n",
      "110/110 [==============================] - 1s 6ms/step - loss: 0.1755 - accuracy: 0.9564 - val_loss: 0.4890 - val_accuracy: 0.7059\n",
      "Epoch 39/50\n",
      "110/110 [==============================] - 1s 6ms/step - loss: 0.1784 - accuracy: 0.9418 - val_loss: 0.4951 - val_accuracy: 0.7029\n",
      "Epoch 40/50\n",
      "110/110 [==============================] - 1s 6ms/step - loss: 0.1669 - accuracy: 0.9518 - val_loss: 0.5295 - val_accuracy: 0.6794\n",
      "Epoch 41/50\n",
      "110/110 [==============================] - 1s 6ms/step - loss: 0.1610 - accuracy: 0.9545 - val_loss: 0.5078 - val_accuracy: 0.7000\n",
      "Epoch 42/50\n",
      "110/110 [==============================] - 1s 6ms/step - loss: 0.1553 - accuracy: 0.9609 - val_loss: 0.5008 - val_accuracy: 0.7000\n",
      "Epoch 43/50\n",
      "110/110 [==============================] - 1s 6ms/step - loss: 0.1493 - accuracy: 0.9627 - val_loss: 0.4913 - val_accuracy: 0.6971\n",
      "Epoch 44/50\n",
      "110/110 [==============================] - 1s 6ms/step - loss: 0.1565 - accuracy: 0.9500 - val_loss: 0.5139 - val_accuracy: 0.6882\n",
      "Epoch 45/50\n",
      "110/110 [==============================] - 1s 6ms/step - loss: 0.1423 - accuracy: 0.9655 - val_loss: 0.4985 - val_accuracy: 0.7088\n",
      "Epoch 46/50\n",
      "110/110 [==============================] - 1s 6ms/step - loss: 0.1402 - accuracy: 0.9591 - val_loss: 0.5041 - val_accuracy: 0.6971\n",
      "Epoch 47/50\n",
      "110/110 [==============================] - 1s 6ms/step - loss: 0.1340 - accuracy: 0.9655 - val_loss: 0.5150 - val_accuracy: 0.6941\n",
      "Epoch 48/50\n",
      "110/110 [==============================] - 1s 6ms/step - loss: 0.1335 - accuracy: 0.9636 - val_loss: 0.5461 - val_accuracy: 0.7029\n",
      "Epoch 49/50\n",
      "110/110 [==============================] - 1s 6ms/step - loss: 0.1307 - accuracy: 0.9636 - val_loss: 0.5109 - val_accuracy: 0.7059\n",
      "Epoch 50/50\n",
      "110/110 [==============================] - 1s 6ms/step - loss: 0.1220 - accuracy: 0.9673 - val_loss: 0.5215 - val_accuracy: 0.6941\n"
     ]
    }
   ],
   "source": [
    "hist = model.fit(x_train, y_train, epochs=50, batch_size= 10, validation_data= (x_test,y_test))"
   ]
  },
  {
   "cell_type": "code",
   "execution_count": 20,
   "id": "758b15ed",
   "metadata": {
    "ExecuteTime": {
     "end_time": "2022-05-14T13:25:19.744682Z",
     "start_time": "2022-05-14T13:25:19.624642Z"
    }
   },
   "outputs": [
    {
     "data": {
      "text/plain": [
       "[<matplotlib.lines.Line2D at 0x21fbd09dfa0>]"
      ]
     },
     "execution_count": 20,
     "metadata": {},
     "output_type": "execute_result"
    },
    {
     "data": {
      "image/png": "[encoded data removed]",
      "text/plain": [
       "<Figure size 432x288 with 1 Axes>"
      ]
     },
     "metadata": {
      "needs_background": "light"
     },
     "output_type": "display_data"
    }
   ],
   "source": [
    "plt.plot(hist.history['loss'])\n",
    "plt.plot(hist.history['val_loss'])"
   ]
  },
  {
   "cell_type": "code",
   "execution_count": 21,
   "id": "afee9d22",
   "metadata": {
    "ExecuteTime": {
     "end_time": "2022-05-14T13:25:53.358317Z",
     "start_time": "2022-05-14T13:25:53.266445Z"
    }
   },
   "outputs": [
    {
     "data": {
      "text/plain": [
       "[<matplotlib.lines.Line2D at 0x21fe41d78b0>]"
      ]
     },
     "execution_count": 21,
     "metadata": {},
     "output_type": "execute_result"
    },
    {
     "data": {
      "image/png": "[encoded data removed]",
      "text/plain": [
       "<Figure size 432x288 with 1 Axes>"
      ]
     },
     "metadata": {
      "needs_background": "light"
     },
     "output_type": "display_data"
    }
   ],
   "source": [
    "plt.plot(hist.history['accuracy'])\n",
    "plt.plot(hist.history['val_accuracy'])"
   ]
  },
  {
   "cell_type": "code",
   "execution_count": null,
   "id": "419fa3fd",
   "metadata": {},
   "outputs": [],
   "source": []
  },
  {
   "cell_type": "code",
   "execution_count": null,
   "id": "36047043",
   "metadata": {},
   "outputs": [],
   "source": []
  },
  {
   "cell_type": "code",
   "execution_count": 59,
   "id": "14b01703",
   "metadata": {
    "ExecuteTime": {
     "end_time": "2022-05-13T02:20:13.242600Z",
     "start_time": "2022-05-13T02:20:12.120309Z"
    }
   },
   "outputs": [],
   "source": [
    "model.save('./data/model/시티랩스_10,5.h5')"
   ]
  },
  {
   "cell_type": "code",
   "execution_count": null,
   "id": "c5f2a37e",
   "metadata": {},
   "outputs": [],
   "source": []
  },
  {
   "cell_type": "code",
   "execution_count": null,
   "id": "55f42fdc",
   "metadata": {},
   "outputs": [],
   "source": []
  },
  {
   "cell_type": "code",
   "execution_count": 61,
   "id": "140663db",
   "metadata": {
    "ExecuteTime": {
     "end_time": "2022-05-13T02:22:34.434089Z",
     "start_time": "2022-05-13T02:22:34.231896Z"
    }
   },
   "outputs": [],
   "source": [
    "model1 =  keras.models.load_model('./data/model/시티랩스_10,5.h5')"
   ]
  },
  {
   "cell_type": "code",
   "execution_count": 63,
   "id": "566d2c1c",
   "metadata": {
    "ExecuteTime": {
     "end_time": "2022-05-13T02:26:00.523955Z",
     "start_time": "2022-05-13T02:26:00.185212Z"
    }
   },
   "outputs": [
    {
     "name": "stdout",
     "output_type": "stream",
     "text": [
      "9/9 [==============================] - 0s 3ms/step - loss: 0.2809 - accuracy: 0.9269\n"
     ]
    },
    {
     "data": {
      "text/plain": [
       "[0.2809010148048401, 0.9269230961799622]"
      ]
     },
     "execution_count": 63,
     "metadata": {},
     "output_type": "execute_result"
    }
   ],
   "source": [
    "model1.evaluate(x_test,y_test)"
   ]
  },
  {
   "cell_type": "code",
   "execution_count": 66,
   "id": "a84c0928",
   "metadata": {
    "ExecuteTime": {
     "end_time": "2022-05-13T02:33:41.180549Z",
     "start_time": "2022-05-13T02:33:41.174564Z"
    }
   },
   "outputs": [],
   "source": [
    "from sklearn.metrics import classification_report\n"
   ]
  },
  {
   "cell_type": "code",
   "execution_count": 71,
   "id": "3acb4a95",
   "metadata": {
    "ExecuteTime": {
     "end_time": "2022-05-13T02:35:59.711539Z",
     "start_time": "2022-05-13T02:35:59.640048Z"
    }
   },
   "outputs": [
    {
     "data": {
      "text/plain": [
       "260"
      ]
     },
     "execution_count": 71,
     "metadata": {},
     "output_type": "execute_result"
    }
   ],
   "source": [
    "pred = model1.predict(x_test)\n",
    "len(pred)"
   ]
  },
  {
   "cell_type": "code",
   "execution_count": 77,
   "id": "eee6e3d7",
   "metadata": {
    "ExecuteTime": {
     "end_time": "2022-05-13T02:46:26.609814Z",
     "start_time": "2022-05-13T02:46:26.597846Z"
    }
   },
   "outputs": [
    {
     "data": {
      "text/plain": [
       "array([[ -0.11271809,  64.33      ,  13.2       ,   5.47      ,\n",
       "         -5.51      , -34.11      ,   2.53      ,   0.6       ,\n",
       "         -0.88888889,  -0.1       ,  -2.75      ,  -0.8       ,\n",
       "          7.        ,   0.        ],\n",
       "       [  1.10626833,  64.33      ,  13.2       ,   5.47      ,\n",
       "         -5.51      , -34.11      ,   2.53      ,   0.875     ,\n",
       "          7.        ,   0.88888889,   0.        ,   1.        ,\n",
       "          0.125     ,   0.        ],\n",
       "       [ -0.31183154,  64.33      ,  13.2       ,   5.47      ,\n",
       "         -5.51      , -34.11      ,   2.53      ,  -0.4       ,\n",
       "         -0.875     ,  -0.11764706,   0.14285714,   2.        ,\n",
       "          0.55555556,   0.        ],\n",
       "       [ -0.33952301,  64.33      ,  13.2       ,   5.47      ,\n",
       "         -5.51      , -34.11      ,   2.53      ,  -0.88888889,\n",
       "          3.        ,  -0.13333333,  -1.375     ,   1.        ,\n",
       "         -0.35714286,   0.        ],\n",
       "       [  0.07049544,  64.33      ,  13.2       ,   5.47      ,\n",
       "         -5.51      , -34.11      ,   2.53      ,   9.        ,\n",
       "         -0.75      ,  -0.07692308,  -4.        ,  -0.83333333,\n",
       "          0.22222222,   0.        ],\n",
       "       [ -0.24415131,  64.33      ,  13.2       ,   5.47      ,\n",
       "         -5.51      , -34.11      ,   2.53      ,  -0.3       ,\n",
       "          1.        ,   0.16666667,  -0.44444444,   2.5       ,\n",
       "          0.09090909,   0.        ],\n",
       "       [  0.32694526,  64.33      ,  13.2       ,   5.47      ,\n",
       "         -5.51      , -34.11      ,   2.53      ,   0.85714286,\n",
       "          4.5       ,   0.        ,  -0.6       ,  -0.85714286,\n",
       "         -0.75      ,   0.        ],\n",
       "       [ -0.29826052,  64.33      ,  13.2       ,   5.47      ,\n",
       "         -5.51      , -34.11      ,   2.53      ,  -0.98461538,\n",
       "         -0.27272727,  -0.21428571,  -5.        ,  10.        ,\n",
       "          0.        ,   0.        ],\n",
       "       [ -0.09794814,  64.33      ,  13.2       ,   5.47      ,\n",
       "         -5.51      , -34.11      ,   2.53      ,  24.        ,\n",
       "         -0.875     ,  -0.18181818,  -1.5       ,  -0.63636364,\n",
       "          1.66666667,   0.        ],\n",
       "       [ -0.17333041,  64.33      ,  13.2       ,   5.47      ,\n",
       "         -5.51      , -34.11      ,   2.53      ,  -0.4       ,\n",
       "          1.        ,   0.11111111,  -0.75      ,   0.75      ,\n",
       "          0.        ,   0.        ]])"
      ]
     },
     "execution_count": 77,
     "metadata": {},
     "output_type": "execute_result"
    }
   ],
   "source": [
    "x_test[0]"
   ]
  },
  {
   "cell_type": "code",
   "execution_count": 78,
   "id": "9cdf2c9e",
   "metadata": {
    "ExecuteTime": {
     "end_time": "2022-05-13T02:49:40.174442Z",
     "start_time": "2022-05-13T02:49:40.164470Z"
    }
   },
   "outputs": [
    {
     "data": {
      "text/plain": [
       "array([[0.27711883],\n",
       "       [0.28975993],\n",
       "       [0.2950392 ],\n",
       "       [0.26821   ],\n",
       "       [0.27821267],\n",
       "       [0.25682333],\n",
       "       [0.27000904],\n",
       "       [0.3360014 ],\n",
       "       [0.30496275],\n",
       "       [0.25823504],\n",
       "       [0.21957578],\n",
       "       [0.2493262 ],\n",
       "       [0.25572896],\n",
       "       [0.19824457],\n",
       "       [0.17159674],\n",
       "       [0.21405753],\n",
       "       [0.18904315],\n",
       "       [0.16010791],\n",
       "       [0.1608472 ],\n",
       "       [0.15101022],\n",
       "       [0.13397981],\n",
       "       [0.11976197],\n",
       "       [0.11132117],\n",
       "       [0.11762336],\n",
       "       [0.10853408],\n",
       "       [0.10280783],\n",
       "       [0.07385399],\n",
       "       [0.06087089],\n",
       "       [0.08116091],\n",
       "       [0.08103109],\n",
       "       [0.08082778],\n",
       "       [0.09232912],\n",
       "       [0.09211715],\n",
       "       [0.08920299],\n",
       "       [0.09112186],\n",
       "       [0.10173703],\n",
       "       [0.08801971],\n",
       "       [0.10091133],\n",
       "       [0.1033345 ],\n",
       "       [0.09676921],\n",
       "       [0.10721759],\n",
       "       [0.10871453],\n",
       "       [0.09983931],\n",
       "       [0.10090475],\n",
       "       [0.09930041],\n",
       "       [0.09386507],\n",
       "       [0.0978376 ],\n",
       "       [0.0808939 ],\n",
       "       [0.09057106],\n",
       "       [0.09110875],\n",
       "       [0.09519503],\n",
       "       [0.13243777],\n",
       "       [0.10349238],\n",
       "       [0.12290907],\n",
       "       [0.12535863],\n",
       "       [0.12243621],\n",
       "       [0.11940107],\n",
       "       [0.13187598],\n",
       "       [0.12935264],\n",
       "       [0.12429482],\n",
       "       [0.12501918],\n",
       "       [0.09892123],\n",
       "       [0.07390254],\n",
       "       [0.09014334],\n",
       "       [0.08763082],\n",
       "       [0.09011257],\n",
       "       [0.08531817],\n",
       "       [0.08664353],\n",
       "       [0.08182202],\n",
       "       [0.08894797],\n",
       "       [0.08215842],\n",
       "       [0.08644696],\n",
       "       [0.09540471],\n",
       "       [0.07731687],\n",
       "       [0.09766451],\n",
       "       [0.10316353],\n",
       "       [0.11542298],\n",
       "       [0.14386578],\n",
       "       [0.1283265 ],\n",
       "       [0.12116358],\n",
       "       [0.10319585],\n",
       "       [0.10127431],\n",
       "       [0.09706286],\n",
       "       [0.08858635],\n",
       "       [0.09490322],\n",
       "       [0.09597541],\n",
       "       [0.11248708],\n",
       "       [0.08140545],\n",
       "       [0.09992293],\n",
       "       [0.06057255],\n",
       "       [0.09168901],\n",
       "       [0.10089687],\n",
       "       [0.09892473],\n",
       "       [0.10175922],\n",
       "       [0.08588619],\n",
       "       [0.11142513],\n",
       "       [0.06461184],\n",
       "       [0.10604869],\n",
       "       [0.11131784],\n",
       "       [0.09626736],\n",
       "       [0.10974726],\n",
       "       [0.11014184],\n",
       "       [0.06138379],\n",
       "       [0.11147535],\n",
       "       [0.1016391 ],\n",
       "       [0.11270241],\n",
       "       [0.1063374 ],\n",
       "       [0.09207658],\n",
       "       [0.10157098],\n",
       "       [0.09458427],\n",
       "       [0.09490816],\n",
       "       [0.10666751],\n",
       "       [0.10142421],\n",
       "       [0.09634459],\n",
       "       [0.07229997],\n",
       "       [0.09219889],\n",
       "       [0.08234838],\n",
       "       [0.07751096],\n",
       "       [0.10071649],\n",
       "       [0.09927956],\n",
       "       [0.10655017],\n",
       "       [0.08594403],\n",
       "       [0.10003944],\n",
       "       [0.05454398],\n",
       "       [0.08400778],\n",
       "       [0.08408035],\n",
       "       [0.09101646],\n",
       "       [0.06626862],\n",
       "       [0.08930611],\n",
       "       [0.09335251],\n",
       "       [0.09399404],\n",
       "       [0.08943375],\n",
       "       [0.05751127],\n",
       "       [0.09873425],\n",
       "       [0.10026628],\n",
       "       [0.10234916],\n",
       "       [0.0724336 ],\n",
       "       [0.06930391],\n",
       "       [0.07142766],\n",
       "       [0.06421033],\n",
       "       [0.07913925],\n",
       "       [0.07954818],\n",
       "       [0.08792899],\n",
       "       [0.06562349],\n",
       "       [0.07760096],\n",
       "       [0.08316321],\n",
       "       [0.07460409],\n",
       "       [0.06190587],\n",
       "       [0.06648101],\n",
       "       [0.07170489],\n",
       "       [0.07666133],\n",
       "       [0.0766159 ],\n",
       "       [0.07106595],\n",
       "       [0.07894485],\n",
       "       [0.06861366],\n",
       "       [0.08202861],\n",
       "       [0.08464651],\n",
       "       [0.08025632],\n",
       "       [0.08772337],\n",
       "       [0.06455213],\n",
       "       [0.06641384],\n",
       "       [0.0799531 ],\n",
       "       [0.07517275],\n",
       "       [0.08750439],\n",
       "       [0.07460369],\n",
       "       [0.08201223],\n",
       "       [0.06780027],\n",
       "       [0.0822138 ],\n",
       "       [0.08209138],\n",
       "       [0.07678106],\n",
       "       [0.08923586],\n",
       "       [0.08671463],\n",
       "       [0.07510629],\n",
       "       [0.08270714],\n",
       "       [0.08336684],\n",
       "       [0.07681147],\n",
       "       [0.08215158],\n",
       "       [0.074264  ],\n",
       "       [0.08324124],\n",
       "       [0.08185185],\n",
       "       [0.08588287],\n",
       "       [0.08097988],\n",
       "       [0.07318362],\n",
       "       [0.0726061 ],\n",
       "       [0.07497783],\n",
       "       [0.08260301],\n",
       "       [0.08214272],\n",
       "       [0.08033395],\n",
       "       [0.07381453],\n",
       "       [0.07942176],\n",
       "       [0.08209492],\n",
       "       [0.0809091 ],\n",
       "       [0.08391989],\n",
       "       [0.07037595],\n",
       "       [0.08096649],\n",
       "       [0.08132706],\n",
       "       [0.07971957],\n",
       "       [0.08271657],\n",
       "       [0.0644309 ],\n",
       "       [0.08641526],\n",
       "       [0.06767122],\n",
       "       [0.09284981],\n",
       "       [0.10415765],\n",
       "       [0.12462283],\n",
       "       [0.12253992],\n",
       "       [0.14136666],\n",
       "       [0.14900687],\n",
       "       [0.17307049],\n",
       "       [0.18075806],\n",
       "       [0.1870297 ],\n",
       "       [0.1479812 ],\n",
       "       [0.16526094],\n",
       "       [0.18761113],\n",
       "       [0.17982909],\n",
       "       [0.18813965],\n",
       "       [0.19217524],\n",
       "       [0.18717754],\n",
       "       [0.12172187],\n",
       "       [0.1520405 ],\n",
       "       [0.15881702],\n",
       "       [0.17091061],\n",
       "       [0.08252251],\n",
       "       [0.07321721],\n",
       "       [0.0891685 ],\n",
       "       [0.10316616],\n",
       "       [0.11489703],\n",
       "       [0.12075519],\n",
       "       [0.12507884],\n",
       "       [0.1221936 ],\n",
       "       [0.08236687],\n",
       "       [0.05393216],\n",
       "       [0.09453106],\n",
       "       [0.14802893],\n",
       "       [0.16546312],\n",
       "       [0.07381365],\n",
       "       [0.10820626],\n",
       "       [0.09504756],\n",
       "       [0.11078509],\n",
       "       [0.11459764],\n",
       "       [0.08694696],\n",
       "       [0.12781253],\n",
       "       [0.11081363],\n",
       "       [0.12607127],\n",
       "       [0.1246709 ],\n",
       "       [0.1708183 ],\n",
       "       [0.13916828],\n",
       "       [0.1020297 ],\n",
       "       [0.20432888],\n",
       "       [0.14572005],\n",
       "       [0.22486976],\n",
       "       [0.17850609],\n",
       "       [0.19025931],\n",
       "       [0.19358991],\n",
       "       [0.16822013],\n",
       "       [0.1935681 ],\n",
       "       [0.19603567],\n",
       "       [0.19853239],\n",
       "       [0.17302427],\n",
       "       [0.15945904],\n",
       "       [0.27232307]], dtype=float32)"
      ]
     },
     "execution_count": 78,
     "metadata": {},
     "output_type": "execute_result"
    }
   ],
   "source": [
    "pred"
   ]
  },
  {
   "cell_type": "code",
   "execution_count": 86,
   "id": "d193cfe1",
   "metadata": {
    "ExecuteTime": {
     "end_time": "2022-05-13T02:54:05.150088Z",
     "start_time": "2022-05-13T02:54:05.141117Z"
    }
   },
   "outputs": [],
   "source": [
    "ans = []\n",
    "for i in pred:\n",
    "    ans.append(round(i[0]))"
   ]
  },
  {
   "cell_type": "code",
   "execution_count": 88,
   "id": "d2f5df05",
   "metadata": {
    "ExecuteTime": {
     "end_time": "2022-05-13T02:54:38.752606Z",
     "start_time": "2022-05-13T02:54:38.740614Z"
    }
   },
   "outputs": [
    {
     "data": {
      "text/plain": [
       "Counter({0: 260})"
      ]
     },
     "execution_count": 88,
     "metadata": {},
     "output_type": "execute_result"
    }
   ],
   "source": [
    "Counter(ans)"
   ]
  },
  {
   "cell_type": "code",
   "execution_count": 79,
   "id": "6c533a92",
   "metadata": {
    "ExecuteTime": {
     "end_time": "2022-05-13T02:51:03.176405Z",
     "start_time": "2022-05-13T02:51:03.157430Z"
    }
   },
   "outputs": [
    {
     "data": {
      "text/plain": [
       "260"
      ]
     },
     "execution_count": 79,
     "metadata": {},
     "output_type": "execute_result"
    }
   ],
   "source": [
    "len(y_test)"
   ]
  },
  {
   "cell_type": "code",
   "execution_count": 81,
   "id": "c0d75943",
   "metadata": {
    "ExecuteTime": {
     "end_time": "2022-05-13T02:51:37.034633Z",
     "start_time": "2022-05-13T02:51:37.023613Z"
    }
   },
   "outputs": [
    {
     "data": {
      "text/plain": [
       "Counter({0.0: 241, 1.0: 19})"
      ]
     },
     "execution_count": 81,
     "metadata": {},
     "output_type": "execute_result"
    }
   ],
   "source": [
    "from collections import Counter\n",
    "Counter(y_test)\n"
   ]
  },
  {
   "cell_type": "code",
   "execution_count": null,
   "id": "e858c091",
   "metadata": {},
   "outputs": [],
   "source": []
  }
 ],
 "metadata": {
  "kernelspec": {
   "display_name": "Python 3 (ipykernel)",
   "language": "python",
   "name": "python3"
  },
  "language_info": {
   "codemirror_mode": {
    "name": "ipython",
    "version": 3
   },
   "file_extension": ".py",
   "mimetype": "text/x-python",
   "name": "python",
   "nbconvert_exporter": "python",
   "pygments_lexer": "ipython3",
   "version": "3.9.7"
  },
  "toc": {
   "base_numbering": 1,
   "nav_menu": {},
   "number_sections": true,
   "sideBar": true,
   "skip_h1_title": false,
   "title_cell": "Table of Contents",
   "title_sidebar": "Contents",
   "toc_cell": false,
   "toc_position": {},
   "toc_section_display": true,
   "toc_window_display": false
  },
  "varInspector": {
   "cols": {
    "lenName": 16,
    "lenType": 16,
    "lenVar": 40
   },
   "kernels_config": {
    "python": {
     "delete_cmd_postfix": "",
     "delete_cmd_prefix": "del ",
     "library": "var_list.py",
     "varRefreshCmd": "print(var_dic_list())"
    },
    "r": {
     "delete_cmd_postfix": ") ",
     "delete_cmd_prefix": "rm(",
     "library": "var_list.r",
     "varRefreshCmd": "cat(var_dic_list()) "
    }
   },
   "types_to_exclude": [
    "module",
    "function",
    "builtin_function_or_method",
    "instance",
    "_Feature"
   ],
   "window_display": false
  }
 },
 "nbformat": 4,
 "nbformat_minor": 5
}
