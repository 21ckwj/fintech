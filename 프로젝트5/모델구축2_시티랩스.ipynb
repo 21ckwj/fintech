{
 "cells": [
  {
   "cell_type": "code",
   "execution_count": 1,
   "id": "fe2731f0",
   "metadata": {
    "ExecuteTime": {
     "end_time": "2022-05-12T15:23:11.528253Z",
     "start_time": "2022-05-12T15:23:10.644297Z"
    }
   },
   "outputs": [],
   "source": [
    "import pandas as pd\n",
    "import numpy as np\n",
    "import matplotlib.pyplot as plt\n",
    "import seaborn as sns"
   ]
  },
  {
   "cell_type": "code",
   "execution_count": 2,
   "id": "163b2bac",
   "metadata": {
    "ExecuteTime": {
     "end_time": "2022-05-12T15:23:11.591276Z",
     "start_time": "2022-05-12T15:23:11.578316Z"
    }
   },
   "outputs": [],
   "source": [
    "from datetime import timedelta"
   ]
  },
  {
   "cell_type": "code",
   "execution_count": 60,
   "id": "5e847187",
   "metadata": {
    "ExecuteTime": {
     "end_time": "2022-05-13T02:22:05.389528Z",
     "start_time": "2022-05-13T02:22:05.384515Z"
    }
   },
   "outputs": [],
   "source": [
    "import tensorflow as tf\n",
    "import keras\n",
    "from tensorflow.keras.models import Sequential\n",
    "from tensorflow.keras.layers import Dense, LSTM, Conv1D"
   ]
  },
  {
   "cell_type": "code",
   "execution_count": 4,
   "id": "e8975d56",
   "metadata": {
    "ExecuteTime": {
     "end_time": "2022-05-12T15:23:17.658874Z",
     "start_time": "2022-05-12T15:23:17.624228Z"
    }
   },
   "outputs": [
    {
     "data": {
      "text/html": [
       "<div>\n",
       "<style scoped>\n",
       "    .dataframe tbody tr th:only-of-type {\n",
       "        vertical-align: middle;\n",
       "    }\n",
       "\n",
       "    .dataframe tbody tr th {\n",
       "        vertical-align: top;\n",
       "    }\n",
       "\n",
       "    .dataframe thead th {\n",
       "        text-align: right;\n",
       "    }\n",
       "</style>\n",
       "<table border=\"1\" class=\"dataframe\">\n",
       "  <thead>\n",
       "    <tr style=\"text-align: right;\">\n",
       "      <th></th>\n",
       "      <th>일자</th>\n",
       "      <th>종가</th>\n",
       "      <th>등락률</th>\n",
       "      <th>거래대금</th>\n",
       "      <th>매출액(억원)</th>\n",
       "      <th>영업이익(억원)</th>\n",
       "      <th>당기순이익(억원)</th>\n",
       "      <th>지배주주순이익(억원)</th>\n",
       "      <th>자산총계(억원)</th>\n",
       "      <th>부채총계(억원)</th>\n",
       "      <th>...</th>\n",
       "      <th>EPS(원)</th>\n",
       "      <th>BPS(원)</th>\n",
       "      <th>PBR(배)</th>\n",
       "      <th>고가-종가</th>\n",
       "      <th>고가-시가</th>\n",
       "      <th>고가-저가</th>\n",
       "      <th>종가-시가</th>\n",
       "      <th>종가-저가</th>\n",
       "      <th>시가-저가</th>\n",
       "      <th>전환사채전환총액</th>\n",
       "    </tr>\n",
       "  </thead>\n",
       "  <tbody>\n",
       "    <tr>\n",
       "      <th>1</th>\n",
       "      <td>2016-01-05</td>\n",
       "      <td>3020</td>\n",
       "      <td>0.00</td>\n",
       "      <td>-0.452066</td>\n",
       "      <td>0.0</td>\n",
       "      <td>0.0</td>\n",
       "      <td>0.0</td>\n",
       "      <td>0.0</td>\n",
       "      <td>0.0</td>\n",
       "      <td>0.0</td>\n",
       "      <td>...</td>\n",
       "      <td>0.0</td>\n",
       "      <td>0.0</td>\n",
       "      <td>1.88</td>\n",
       "      <td>-0.913043</td>\n",
       "      <td>-0.176471</td>\n",
       "      <td>-0.200000</td>\n",
       "      <td>-3.000000</td>\n",
       "      <td>8.000000</td>\n",
       "      <td>-0.250000</td>\n",
       "      <td>0.0</td>\n",
       "    </tr>\n",
       "    <tr>\n",
       "      <th>2</th>\n",
       "      <td>2016-01-06</td>\n",
       "      <td>2895</td>\n",
       "      <td>-4.14</td>\n",
       "      <td>0.292444</td>\n",
       "      <td>0.0</td>\n",
       "      <td>0.0</td>\n",
       "      <td>0.0</td>\n",
       "      <td>0.0</td>\n",
       "      <td>0.0</td>\n",
       "      <td>0.0</td>\n",
       "      <td>...</td>\n",
       "      <td>0.0</td>\n",
       "      <td>0.0</td>\n",
       "      <td>1.88</td>\n",
       "      <td>16.000000</td>\n",
       "      <td>-0.071429</td>\n",
       "      <td>1.250000</td>\n",
       "      <td>-2.750000</td>\n",
       "      <td>-0.388889</td>\n",
       "      <td>4.333333</td>\n",
       "      <td>0.0</td>\n",
       "    </tr>\n",
       "    <tr>\n",
       "      <th>3</th>\n",
       "      <td>2016-01-07</td>\n",
       "      <td>2945</td>\n",
       "      <td>1.73</td>\n",
       "      <td>0.843234</td>\n",
       "      <td>0.0</td>\n",
       "      <td>0.0</td>\n",
       "      <td>0.0</td>\n",
       "      <td>0.0</td>\n",
       "      <td>0.0</td>\n",
       "      <td>0.0</td>\n",
       "      <td>...</td>\n",
       "      <td>0.0</td>\n",
       "      <td>0.0</td>\n",
       "      <td>1.88</td>\n",
       "      <td>-0.088235</td>\n",
       "      <td>2.615385</td>\n",
       "      <td>0.155556</td>\n",
       "      <td>-1.761905</td>\n",
       "      <td>0.909091</td>\n",
       "      <td>-0.843750</td>\n",
       "      <td>0.0</td>\n",
       "    </tr>\n",
       "    <tr>\n",
       "      <th>4</th>\n",
       "      <td>2016-01-08</td>\n",
       "      <td>2920</td>\n",
       "      <td>-0.85</td>\n",
       "      <td>-0.546023</td>\n",
       "      <td>0.0</td>\n",
       "      <td>0.0</td>\n",
       "      <td>0.0</td>\n",
       "      <td>0.0</td>\n",
       "      <td>0.0</td>\n",
       "      <td>0.0</td>\n",
       "      <td>...</td>\n",
       "      <td>0.0</td>\n",
       "      <td>0.0</td>\n",
       "      <td>1.88</td>\n",
       "      <td>-0.870968</td>\n",
       "      <td>-0.829787</td>\n",
       "      <td>-0.288462</td>\n",
       "      <td>-0.750000</td>\n",
       "      <td>0.571429</td>\n",
       "      <td>4.800000</td>\n",
       "      <td>0.0</td>\n",
       "    </tr>\n",
       "    <tr>\n",
       "      <th>5</th>\n",
       "      <td>2016-01-11</td>\n",
       "      <td>2810</td>\n",
       "      <td>-3.77</td>\n",
       "      <td>-0.349444</td>\n",
       "      <td>0.0</td>\n",
       "      <td>0.0</td>\n",
       "      <td>0.0</td>\n",
       "      <td>0.0</td>\n",
       "      <td>0.0</td>\n",
       "      <td>0.0</td>\n",
       "      <td>...</td>\n",
       "      <td>0.0</td>\n",
       "      <td>0.0</td>\n",
       "      <td>1.88</td>\n",
       "      <td>5.250000</td>\n",
       "      <td>-0.375000</td>\n",
       "      <td>-0.270270</td>\n",
       "      <td>-6.000000</td>\n",
       "      <td>-0.939394</td>\n",
       "      <td>-0.241379</td>\n",
       "      <td>0.0</td>\n",
       "    </tr>\n",
       "  </tbody>\n",
       "</table>\n",
       "<p>5 rows × 27 columns</p>\n",
       "</div>"
      ],
      "text/plain": [
       "           일자    종가   등락률      거래대금  매출액(억원)  영업이익(억원)  당기순이익(억원)  \\\n",
       "1  2016-01-05  3020  0.00 -0.452066      0.0       0.0        0.0   \n",
       "2  2016-01-06  2895 -4.14  0.292444      0.0       0.0        0.0   \n",
       "3  2016-01-07  2945  1.73  0.843234      0.0       0.0        0.0   \n",
       "4  2016-01-08  2920 -0.85 -0.546023      0.0       0.0        0.0   \n",
       "5  2016-01-11  2810 -3.77 -0.349444      0.0       0.0        0.0   \n",
       "\n",
       "   지배주주순이익(억원)  자산총계(억원)  부채총계(억원)  ...  EPS(원)  BPS(원)  PBR(배)      고가-종가  \\\n",
       "1          0.0       0.0       0.0  ...     0.0     0.0    1.88  -0.913043   \n",
       "2          0.0       0.0       0.0  ...     0.0     0.0    1.88  16.000000   \n",
       "3          0.0       0.0       0.0  ...     0.0     0.0    1.88  -0.088235   \n",
       "4          0.0       0.0       0.0  ...     0.0     0.0    1.88  -0.870968   \n",
       "5          0.0       0.0       0.0  ...     0.0     0.0    1.88   5.250000   \n",
       "\n",
       "      고가-시가     고가-저가     종가-시가     종가-저가     시가-저가  전환사채전환총액  \n",
       "1 -0.176471 -0.200000 -3.000000  8.000000 -0.250000       0.0  \n",
       "2 -0.071429  1.250000 -2.750000 -0.388889  4.333333       0.0  \n",
       "3  2.615385  0.155556 -1.761905  0.909091 -0.843750       0.0  \n",
       "4 -0.829787 -0.288462 -0.750000  0.571429  4.800000       0.0  \n",
       "5 -0.375000 -0.270270 -6.000000 -0.939394 -0.241379       0.0  \n",
       "\n",
       "[5 rows x 27 columns]"
      ]
     },
     "execution_count": 4,
     "metadata": {},
     "output_type": "execute_result"
    }
   ],
   "source": [
    "df_ct = pd.read_csv('./data/시티랩스_모델데이터.csv',index_col=0)\n",
    "df_ct.head()"
   ]
  },
  {
   "cell_type": "code",
   "execution_count": 5,
   "id": "3d912274",
   "metadata": {
    "ExecuteTime": {
     "end_time": "2022-05-12T15:23:20.873086Z",
     "start_time": "2022-05-12T15:23:20.859123Z"
    }
   },
   "outputs": [
    {
     "data": {
      "text/plain": [
       "Index(['일자', '종가', '등락률', '거래대금', '매출액(억원)', '영업이익(억원)', '당기순이익(억원)',\n",
       "       '지배주주순이익(억원)', '자산총계(억원)', '부채총계(억원)', '자본총계(억원)', '자본금(억원)', '부채비율(%)',\n",
       "       '영업이익률(%)', '지배주주순이익률(%)', 'ROA(%)', 'ROE(%)', 'EPS(원)', 'BPS(원)',\n",
       "       'PBR(배)', '고가-종가', '고가-시가', '고가-저가', '종가-시가', '종가-저가', '시가-저가',\n",
       "       '전환사채전환총액'],\n",
       "      dtype='object')"
      ]
     },
     "execution_count": 5,
     "metadata": {},
     "output_type": "execute_result"
    }
   ],
   "source": [
    " df_ct.columns"
   ]
  },
  {
   "cell_type": "code",
   "execution_count": 6,
   "id": "9527e9e3",
   "metadata": {
    "ExecuteTime": {
     "end_time": "2022-05-12T15:23:21.137788Z",
     "start_time": "2022-05-12T15:23:21.123800Z"
    }
   },
   "outputs": [],
   "source": [
    "df_ct1 = df_ct[['등락률', '거래대금', '부채비율(%)','영업이익률(%)', '지배주주순이익률(%)', 'ROA(%)',\n",
    "                'ROE(%)','PBR(배)', '고가-종가', '고가-시가', '고가-저가', '종가-시가', '종가-저가', '시가-저가','전환사채전환총액']]"
   ]
  },
  {
   "cell_type": "code",
   "execution_count": 7,
   "id": "b62cb899",
   "metadata": {
    "ExecuteTime": {
     "end_time": "2022-05-12T15:23:21.774087Z",
     "start_time": "2022-05-12T15:23:21.754140Z"
    }
   },
   "outputs": [
    {
     "data": {
      "text/html": [
       "<div>\n",
       "<style scoped>\n",
       "    .dataframe tbody tr th:only-of-type {\n",
       "        vertical-align: middle;\n",
       "    }\n",
       "\n",
       "    .dataframe tbody tr th {\n",
       "        vertical-align: top;\n",
       "    }\n",
       "\n",
       "    .dataframe thead th {\n",
       "        text-align: right;\n",
       "    }\n",
       "</style>\n",
       "<table border=\"1\" class=\"dataframe\">\n",
       "  <thead>\n",
       "    <tr style=\"text-align: right;\">\n",
       "      <th></th>\n",
       "      <th>등락률</th>\n",
       "      <th>거래대금</th>\n",
       "      <th>부채비율(%)</th>\n",
       "      <th>영업이익률(%)</th>\n",
       "      <th>지배주주순이익률(%)</th>\n",
       "      <th>ROA(%)</th>\n",
       "      <th>ROE(%)</th>\n",
       "      <th>PBR(배)</th>\n",
       "      <th>고가-종가</th>\n",
       "      <th>고가-시가</th>\n",
       "      <th>고가-저가</th>\n",
       "      <th>종가-시가</th>\n",
       "      <th>종가-저가</th>\n",
       "      <th>시가-저가</th>\n",
       "      <th>전환사채전환총액</th>\n",
       "    </tr>\n",
       "  </thead>\n",
       "  <tbody>\n",
       "    <tr>\n",
       "      <th>1</th>\n",
       "      <td>0.00</td>\n",
       "      <td>-0.452066</td>\n",
       "      <td>83.63</td>\n",
       "      <td>-3.57</td>\n",
       "      <td>-2.51</td>\n",
       "      <td>-2.0</td>\n",
       "      <td>-3.59</td>\n",
       "      <td>1.88</td>\n",
       "      <td>-0.913043</td>\n",
       "      <td>-0.176471</td>\n",
       "      <td>-0.200000</td>\n",
       "      <td>-3.000000</td>\n",
       "      <td>8.000000</td>\n",
       "      <td>-0.250000</td>\n",
       "      <td>0.0</td>\n",
       "    </tr>\n",
       "    <tr>\n",
       "      <th>2</th>\n",
       "      <td>-4.14</td>\n",
       "      <td>0.292444</td>\n",
       "      <td>83.63</td>\n",
       "      <td>-3.57</td>\n",
       "      <td>-2.51</td>\n",
       "      <td>-2.0</td>\n",
       "      <td>-3.59</td>\n",
       "      <td>1.88</td>\n",
       "      <td>16.000000</td>\n",
       "      <td>-0.071429</td>\n",
       "      <td>1.250000</td>\n",
       "      <td>-2.750000</td>\n",
       "      <td>-0.388889</td>\n",
       "      <td>4.333333</td>\n",
       "      <td>0.0</td>\n",
       "    </tr>\n",
       "    <tr>\n",
       "      <th>3</th>\n",
       "      <td>1.73</td>\n",
       "      <td>0.843234</td>\n",
       "      <td>83.63</td>\n",
       "      <td>-3.57</td>\n",
       "      <td>-2.51</td>\n",
       "      <td>-2.0</td>\n",
       "      <td>-3.59</td>\n",
       "      <td>1.88</td>\n",
       "      <td>-0.088235</td>\n",
       "      <td>2.615385</td>\n",
       "      <td>0.155556</td>\n",
       "      <td>-1.761905</td>\n",
       "      <td>0.909091</td>\n",
       "      <td>-0.843750</td>\n",
       "      <td>0.0</td>\n",
       "    </tr>\n",
       "  </tbody>\n",
       "</table>\n",
       "</div>"
      ],
      "text/plain": [
       "    등락률      거래대금  부채비율(%)  영업이익률(%)  지배주주순이익률(%)  ROA(%)  ROE(%)  PBR(배)  \\\n",
       "1  0.00 -0.452066    83.63     -3.57        -2.51    -2.0   -3.59    1.88   \n",
       "2 -4.14  0.292444    83.63     -3.57        -2.51    -2.0   -3.59    1.88   \n",
       "3  1.73  0.843234    83.63     -3.57        -2.51    -2.0   -3.59    1.88   \n",
       "\n",
       "       고가-종가     고가-시가     고가-저가     종가-시가     종가-저가     시가-저가  전환사채전환총액  \n",
       "1  -0.913043 -0.176471 -0.200000 -3.000000  8.000000 -0.250000       0.0  \n",
       "2  16.000000 -0.071429  1.250000 -2.750000 -0.388889  4.333333       0.0  \n",
       "3  -0.088235  2.615385  0.155556 -1.761905  0.909091 -0.843750       0.0  "
      ]
     },
     "execution_count": 7,
     "metadata": {},
     "output_type": "execute_result"
    }
   ],
   "source": [
    "df_ct1.head(3)"
   ]
  },
  {
   "cell_type": "code",
   "execution_count": 23,
   "id": "8fa0e552",
   "metadata": {
    "ExecuteTime": {
     "end_time": "2022-05-12T15:59:02.026974Z",
     "start_time": "2022-05-12T15:59:02.009021Z"
    }
   },
   "outputs": [
    {
     "name": "stdout",
     "output_type": "stream",
     "text": [
      "없음\n",
      "1\n",
      "없음\n",
      "없음\n",
      "없음\n",
      "없음\n",
      "없음\n",
      "없음\n",
      "없음\n",
      "없음\n",
      "없음\n",
      "없음\n",
      "없음\n",
      "없음\n",
      "없음\n"
     ]
    }
   ],
   "source": [
    "for i in range(len(df_ct1.columns)):\n",
    "    \n",
    "    if np.inf in df_ct1.iloc[:,i].unique():\n",
    "        print(i)  \n",
    "        \n",
    "    else:\n",
    "        print('없음')"
   ]
  },
  {
   "cell_type": "code",
   "execution_count": 30,
   "id": "9f81c013",
   "metadata": {
    "ExecuteTime": {
     "end_time": "2022-05-13T01:27:32.683356Z",
     "start_time": "2022-05-13T01:27:32.662449Z"
    }
   },
   "outputs": [
    {
     "data": {
      "text/html": [
       "<div>\n",
       "<style scoped>\n",
       "    .dataframe tbody tr th:only-of-type {\n",
       "        vertical-align: middle;\n",
       "    }\n",
       "\n",
       "    .dataframe tbody tr th {\n",
       "        vertical-align: top;\n",
       "    }\n",
       "\n",
       "    .dataframe thead th {\n",
       "        text-align: right;\n",
       "    }\n",
       "</style>\n",
       "<table border=\"1\" class=\"dataframe\">\n",
       "  <thead>\n",
       "    <tr style=\"text-align: right;\">\n",
       "      <th></th>\n",
       "      <th>등락률</th>\n",
       "      <th>거래대금</th>\n",
       "      <th>부채비율(%)</th>\n",
       "      <th>영업이익률(%)</th>\n",
       "      <th>지배주주순이익률(%)</th>\n",
       "      <th>ROA(%)</th>\n",
       "      <th>ROE(%)</th>\n",
       "      <th>PBR(배)</th>\n",
       "      <th>고가-종가</th>\n",
       "      <th>고가-시가</th>\n",
       "      <th>고가-저가</th>\n",
       "      <th>종가-시가</th>\n",
       "      <th>종가-저가</th>\n",
       "      <th>시가-저가</th>\n",
       "      <th>전환사채전환총액</th>\n",
       "    </tr>\n",
       "  </thead>\n",
       "  <tbody>\n",
       "    <tr>\n",
       "      <th>275</th>\n",
       "      <td>-11.63</td>\n",
       "      <td>inf</td>\n",
       "      <td>40.97</td>\n",
       "      <td>1.21</td>\n",
       "      <td>3.12</td>\n",
       "      <td>3.40</td>\n",
       "      <td>5.12</td>\n",
       "      <td>1.82</td>\n",
       "      <td>-1.090116</td>\n",
       "      <td>39.0</td>\n",
       "      <td>324.0</td>\n",
       "      <td>-1.078488</td>\n",
       "      <td>-0.995640</td>\n",
       "      <td>284.0</td>\n",
       "      <td>0.0</td>\n",
       "    </tr>\n",
       "    <tr>\n",
       "      <th>281</th>\n",
       "      <td>-7.62</td>\n",
       "      <td>inf</td>\n",
       "      <td>40.97</td>\n",
       "      <td>1.21</td>\n",
       "      <td>3.12</td>\n",
       "      <td>3.40</td>\n",
       "      <td>5.12</td>\n",
       "      <td>1.82</td>\n",
       "      <td>-1.068254</td>\n",
       "      <td>99.0</td>\n",
       "      <td>214.0</td>\n",
       "      <td>-1.036508</td>\n",
       "      <td>-0.999683</td>\n",
       "      <td>114.0</td>\n",
       "      <td>0.0</td>\n",
       "    </tr>\n",
       "    <tr>\n",
       "      <th>501</th>\n",
       "      <td>-2.35</td>\n",
       "      <td>inf</td>\n",
       "      <td>140.52</td>\n",
       "      <td>-12.65</td>\n",
       "      <td>-12.21</td>\n",
       "      <td>-4.42</td>\n",
       "      <td>-9.40</td>\n",
       "      <td>3.12</td>\n",
       "      <td>-1.239216</td>\n",
       "      <td>359.0</td>\n",
       "      <td>1339.0</td>\n",
       "      <td>-1.168627</td>\n",
       "      <td>-0.976471</td>\n",
       "      <td>979.0</td>\n",
       "      <td>0.0</td>\n",
       "    </tr>\n",
       "    <tr>\n",
       "      <th>1100</th>\n",
       "      <td>-8.92</td>\n",
       "      <td>inf</td>\n",
       "      <td>93.59</td>\n",
       "      <td>6.01</td>\n",
       "      <td>-4.47</td>\n",
       "      <td>0.50</td>\n",
       "      <td>-25.01</td>\n",
       "      <td>1.52</td>\n",
       "      <td>-1.069231</td>\n",
       "      <td>22.0</td>\n",
       "      <td>45.0</td>\n",
       "      <td>-1.033846</td>\n",
       "      <td>-0.998462</td>\n",
       "      <td>22.0</td>\n",
       "      <td>0.0</td>\n",
       "    </tr>\n",
       "  </tbody>\n",
       "</table>\n",
       "</div>"
      ],
      "text/plain": [
       "        등락률  거래대금  부채비율(%)  영업이익률(%)  지배주주순이익률(%)  ROA(%)  ROE(%)  PBR(배)  \\\n",
       "275  -11.63   inf    40.97      1.21         3.12    3.40    5.12    1.82   \n",
       "281   -7.62   inf    40.97      1.21         3.12    3.40    5.12    1.82   \n",
       "501   -2.35   inf   140.52    -12.65       -12.21   -4.42   -9.40    3.12   \n",
       "1100  -8.92   inf    93.59      6.01        -4.47    0.50  -25.01    1.52   \n",
       "\n",
       "         고가-종가  고가-시가   고가-저가     종가-시가     종가-저가  시가-저가  전환사채전환총액  \n",
       "275  -1.090116   39.0   324.0 -1.078488 -0.995640  284.0       0.0  \n",
       "281  -1.068254   99.0   214.0 -1.036508 -0.999683  114.0       0.0  \n",
       "501  -1.239216  359.0  1339.0 -1.168627 -0.976471  979.0       0.0  \n",
       "1100 -1.069231   22.0    45.0 -1.033846 -0.998462   22.0       0.0  "
      ]
     },
     "execution_count": 30,
     "metadata": {},
     "output_type": "execute_result"
    }
   ],
   "source": [
    "df_ct1[df_ct1.거래대금 == np.inf]"
   ]
  },
  {
   "cell_type": "code",
   "execution_count": 33,
   "id": "5c4d5708",
   "metadata": {
    "ExecuteTime": {
     "end_time": "2022-05-13T01:32:23.844274Z",
     "start_time": "2022-05-13T01:32:23.822444Z"
    }
   },
   "outputs": [
    {
     "data": {
      "text/html": [
       "<div>\n",
       "<style scoped>\n",
       "    .dataframe tbody tr th:only-of-type {\n",
       "        vertical-align: middle;\n",
       "    }\n",
       "\n",
       "    .dataframe tbody tr th {\n",
       "        vertical-align: top;\n",
       "    }\n",
       "\n",
       "    .dataframe thead th {\n",
       "        text-align: right;\n",
       "    }\n",
       "</style>\n",
       "<table border=\"1\" class=\"dataframe\">\n",
       "  <thead>\n",
       "    <tr style=\"text-align: right;\">\n",
       "      <th></th>\n",
       "      <th>등락률</th>\n",
       "      <th>거래대금</th>\n",
       "      <th>부채비율(%)</th>\n",
       "      <th>영업이익률(%)</th>\n",
       "      <th>지배주주순이익률(%)</th>\n",
       "      <th>ROA(%)</th>\n",
       "      <th>ROE(%)</th>\n",
       "      <th>PBR(배)</th>\n",
       "      <th>고가-종가</th>\n",
       "      <th>고가-시가</th>\n",
       "      <th>고가-저가</th>\n",
       "      <th>종가-시가</th>\n",
       "      <th>종가-저가</th>\n",
       "      <th>시가-저가</th>\n",
       "      <th>전환사채전환총액</th>\n",
       "    </tr>\n",
       "  </thead>\n",
       "  <tbody>\n",
       "    <tr>\n",
       "      <th>1</th>\n",
       "      <td>0.00</td>\n",
       "      <td>-0.452066</td>\n",
       "      <td>83.63</td>\n",
       "      <td>-3.57</td>\n",
       "      <td>-2.51</td>\n",
       "      <td>-2.0</td>\n",
       "      <td>-3.59</td>\n",
       "      <td>1.88</td>\n",
       "      <td>-0.913043</td>\n",
       "      <td>-0.176471</td>\n",
       "      <td>-0.200000</td>\n",
       "      <td>-3.000000</td>\n",
       "      <td>8.000000</td>\n",
       "      <td>-0.250000</td>\n",
       "      <td>0.0</td>\n",
       "    </tr>\n",
       "    <tr>\n",
       "      <th>2</th>\n",
       "      <td>-4.14</td>\n",
       "      <td>0.292444</td>\n",
       "      <td>83.63</td>\n",
       "      <td>-3.57</td>\n",
       "      <td>-2.51</td>\n",
       "      <td>-2.0</td>\n",
       "      <td>-3.59</td>\n",
       "      <td>1.88</td>\n",
       "      <td>16.000000</td>\n",
       "      <td>-0.071429</td>\n",
       "      <td>1.250000</td>\n",
       "      <td>-2.750000</td>\n",
       "      <td>-0.388889</td>\n",
       "      <td>4.333333</td>\n",
       "      <td>0.0</td>\n",
       "    </tr>\n",
       "    <tr>\n",
       "      <th>3</th>\n",
       "      <td>1.73</td>\n",
       "      <td>0.843234</td>\n",
       "      <td>83.63</td>\n",
       "      <td>-3.57</td>\n",
       "      <td>-2.51</td>\n",
       "      <td>-2.0</td>\n",
       "      <td>-3.59</td>\n",
       "      <td>1.88</td>\n",
       "      <td>-0.088235</td>\n",
       "      <td>2.615385</td>\n",
       "      <td>0.155556</td>\n",
       "      <td>-1.761905</td>\n",
       "      <td>0.909091</td>\n",
       "      <td>-0.843750</td>\n",
       "      <td>0.0</td>\n",
       "    </tr>\n",
       "    <tr>\n",
       "      <th>4</th>\n",
       "      <td>-0.85</td>\n",
       "      <td>-0.546023</td>\n",
       "      <td>83.63</td>\n",
       "      <td>-3.57</td>\n",
       "      <td>-2.51</td>\n",
       "      <td>-2.0</td>\n",
       "      <td>-3.59</td>\n",
       "      <td>1.88</td>\n",
       "      <td>-0.870968</td>\n",
       "      <td>-0.829787</td>\n",
       "      <td>-0.288462</td>\n",
       "      <td>-0.750000</td>\n",
       "      <td>0.571429</td>\n",
       "      <td>4.800000</td>\n",
       "      <td>0.0</td>\n",
       "    </tr>\n",
       "    <tr>\n",
       "      <th>5</th>\n",
       "      <td>-3.77</td>\n",
       "      <td>-0.349444</td>\n",
       "      <td>83.63</td>\n",
       "      <td>-3.57</td>\n",
       "      <td>-2.51</td>\n",
       "      <td>-2.0</td>\n",
       "      <td>-3.59</td>\n",
       "      <td>1.88</td>\n",
       "      <td>5.250000</td>\n",
       "      <td>-0.375000</td>\n",
       "      <td>-0.270270</td>\n",
       "      <td>-6.000000</td>\n",
       "      <td>-0.939394</td>\n",
       "      <td>-0.241379</td>\n",
       "      <td>0.0</td>\n",
       "    </tr>\n",
       "  </tbody>\n",
       "</table>\n",
       "</div>"
      ],
      "text/plain": [
       "    등락률      거래대금  부채비율(%)  영업이익률(%)  지배주주순이익률(%)  ROA(%)  ROE(%)  PBR(배)  \\\n",
       "1  0.00 -0.452066    83.63     -3.57        -2.51    -2.0   -3.59    1.88   \n",
       "2 -4.14  0.292444    83.63     -3.57        -2.51    -2.0   -3.59    1.88   \n",
       "3  1.73  0.843234    83.63     -3.57        -2.51    -2.0   -3.59    1.88   \n",
       "4 -0.85 -0.546023    83.63     -3.57        -2.51    -2.0   -3.59    1.88   \n",
       "5 -3.77 -0.349444    83.63     -3.57        -2.51    -2.0   -3.59    1.88   \n",
       "\n",
       "       고가-종가     고가-시가     고가-저가     종가-시가     종가-저가     시가-저가  전환사채전환총액  \n",
       "1  -0.913043 -0.176471 -0.200000 -3.000000  8.000000 -0.250000       0.0  \n",
       "2  16.000000 -0.071429  1.250000 -2.750000 -0.388889  4.333333       0.0  \n",
       "3  -0.088235  2.615385  0.155556 -1.761905  0.909091 -0.843750       0.0  \n",
       "4  -0.870968 -0.829787 -0.288462 -0.750000  0.571429  4.800000       0.0  \n",
       "5   5.250000 -0.375000 -0.270270 -6.000000 -0.939394 -0.241379       0.0  "
      ]
     },
     "execution_count": 33,
     "metadata": {},
     "output_type": "execute_result"
    }
   ],
   "source": [
    "df_ct2 = df_ct1[df_ct1.거래대금 != np.inf]\n",
    "df_ct2.head()"
   ]
  },
  {
   "cell_type": "code",
   "execution_count": 34,
   "id": "b5544990",
   "metadata": {
    "ExecuteTime": {
     "end_time": "2022-05-13T01:32:40.941486Z",
     "start_time": "2022-05-13T01:32:40.929566Z"
    }
   },
   "outputs": [
    {
     "data": {
      "text/plain": [
       "(1470, 15)"
      ]
     },
     "execution_count": 34,
     "metadata": {},
     "output_type": "execute_result"
    }
   ],
   "source": [
    "df_ct2.shape"
   ]
  },
  {
   "cell_type": "code",
   "execution_count": null,
   "id": "8f18983b",
   "metadata": {},
   "outputs": [],
   "source": []
  },
  {
   "cell_type": "code",
   "execution_count": null,
   "id": "a3ac85ca",
   "metadata": {},
   "outputs": [],
   "source": []
  },
  {
   "cell_type": "code",
   "execution_count": 113,
   "id": "b86508ea",
   "metadata": {
    "ExecuteTime": {
     "end_time": "2022-05-13T03:10:19.678434Z",
     "start_time": "2022-05-13T03:10:16.932388Z"
    }
   },
   "outputs": [],
   "source": [
    "window_size = 20\n",
    "target_period = 5\n",
    "\n",
    "X = []\n",
    "Y = []\n",
    "\n",
    "\n",
    "for i in range(len(df_ct2) - window_size): \n",
    "    \n",
    "    # 피쳐값 \n",
    "    X.append([df_ct2.iloc[i+j,1:] for j in range(window_size)]) # j= 0부터 29 -> 30일치 데이터\n",
    "\n",
    "    # 등락률 \n",
    "    Y.append([df_ct2.iloc[i+j,0] for j in range(target_period)])\n",
    "    \n",
    "Y1 = []\n",
    "for y in Y:\n",
    "    toggle = 0\n",
    "    for i in y:\n",
    "\n",
    "        if i >= 5:\n",
    "            Y1.append(1)\n",
    "            toggle = 1\n",
    "            break\n",
    "    if toggle != 1:\n",
    "        Y1.append(0)\n"
   ]
  },
  {
   "cell_type": "code",
   "execution_count": 114,
   "id": "2510ad19",
   "metadata": {
    "ExecuteTime": {
     "end_time": "2022-05-13T03:10:52.968736Z",
     "start_time": "2022-05-13T03:10:52.847181Z"
    }
   },
   "outputs": [],
   "source": [
    "X_ary = np.array(X).astype(float)\n",
    "Y1_ary = np.array(Y1).astype(float)"
   ]
  },
  {
   "cell_type": "code",
   "execution_count": 115,
   "id": "9bf3b8da",
   "metadata": {
    "ExecuteTime": {
     "end_time": "2022-05-13T03:11:26.573664Z",
     "start_time": "2022-05-13T03:11:26.561705Z"
    }
   },
   "outputs": [],
   "source": [
    "train_test_split = 1200\n",
    "\n",
    "x_train = X_ary[:1200]\n",
    "y_train = Y1_ary[:1200]\n",
    "\n",
    "x_test = X_ary[1200:]\n",
    "y_test = Y1_ary[1200:]"
   ]
  },
  {
   "cell_type": "code",
   "execution_count": 116,
   "id": "4832d630",
   "metadata": {
    "ExecuteTime": {
     "end_time": "2022-05-13T03:12:00.574924Z",
     "start_time": "2022-05-13T03:12:00.559964Z"
    }
   },
   "outputs": [
    {
     "data": {
      "text/plain": [
       "(1200, 20, 14)"
      ]
     },
     "execution_count": 116,
     "metadata": {},
     "output_type": "execute_result"
    }
   ],
   "source": [
    "x_train.shape"
   ]
  },
  {
   "cell_type": "code",
   "execution_count": 117,
   "id": "78f97e33",
   "metadata": {
    "ExecuteTime": {
     "end_time": "2022-05-13T03:12:34.391658Z",
     "start_time": "2022-05-13T03:12:34.188665Z"
    }
   },
   "outputs": [
    {
     "name": "stdout",
     "output_type": "stream",
     "text": [
      "Model: \"sequential_9\"\n",
      "_________________________________________________________________\n",
      " Layer (type)                Output Shape              Param #   \n",
      "=================================================================\n",
      " lstm_9 (LSTM)               (None, 100)               46000     \n",
      "                                                                 \n",
      " dense_9 (Dense)             (None, 1)                 101       \n",
      "                                                                 \n",
      "=================================================================\n",
      "Total params: 46,101\n",
      "Trainable params: 46,101\n",
      "Non-trainable params: 0\n",
      "_________________________________________________________________\n"
     ]
    }
   ],
   "source": [
    "with tf.device('/GPU:0'):\n",
    "    model = Sequential()\n",
    "    model.add(LSTM(100, input_shape=(20,14)))\n",
    "    model.add(Dense(1,activation='sigmoid'))\n",
    "    model.summary()"
   ]
  },
  {
   "cell_type": "code",
   "execution_count": 118,
   "id": "3000b25f",
   "metadata": {
    "ExecuteTime": {
     "end_time": "2022-05-13T03:13:08.226697Z",
     "start_time": "2022-05-13T03:13:08.220714Z"
    }
   },
   "outputs": [],
   "source": [
    "# learning rate 설정\n",
    "Adam = tf.keras.optimizers.Adam(learning_rate=0.0001)"
   ]
  },
  {
   "cell_type": "code",
   "execution_count": 119,
   "id": "2a532a86",
   "metadata": {
    "ExecuteTime": {
     "end_time": "2022-05-13T03:13:42.780049Z",
     "start_time": "2022-05-13T03:13:42.749730Z"
    }
   },
   "outputs": [],
   "source": [
    "model.compile(loss='binary_crossentropy', metrics ='accuracy', optimizer=Adam)"
   ]
  },
  {
   "cell_type": "code",
   "execution_count": 120,
   "id": "d46f88b0",
   "metadata": {
    "ExecuteTime": {
     "end_time": "2022-05-13T03:15:17.775073Z",
     "start_time": "2022-05-13T03:14:16.650360Z"
    },
    "scrolled": true
   },
   "outputs": [
    {
     "name": "stdout",
     "output_type": "stream",
     "text": [
      "Epoch 1/100\n",
      "120/120 [==============================] - 2s 8ms/step - loss: 0.5886 - accuracy: 0.6917 - val_loss: 0.5340 - val_accuracy: 0.8120\n",
      "Epoch 2/100\n",
      "120/120 [==============================] - 1s 5ms/step - loss: 0.5060 - accuracy: 0.7367 - val_loss: 0.5197 - val_accuracy: 0.7960\n",
      "Epoch 3/100\n",
      "120/120 [==============================] - 1s 5ms/step - loss: 0.4532 - accuracy: 0.7883 - val_loss: 0.5365 - val_accuracy: 0.7960\n",
      "Epoch 4/100\n",
      "120/120 [==============================] - 1s 5ms/step - loss: 0.4225 - accuracy: 0.8008 - val_loss: 0.4623 - val_accuracy: 0.8000\n",
      "Epoch 5/100\n",
      "120/120 [==============================] - 1s 5ms/step - loss: 0.3933 - accuracy: 0.8325 - val_loss: 0.4958 - val_accuracy: 0.8160\n",
      "Epoch 6/100\n",
      "120/120 [==============================] - 1s 5ms/step - loss: 0.3583 - accuracy: 0.8525 - val_loss: 0.4859 - val_accuracy: 0.7720\n",
      "Epoch 7/100\n",
      "120/120 [==============================] - 1s 5ms/step - loss: 0.3308 - accuracy: 0.8592 - val_loss: 0.4459 - val_accuracy: 0.8200\n",
      "Epoch 8/100\n",
      "120/120 [==============================] - 1s 5ms/step - loss: 0.3198 - accuracy: 0.8642 - val_loss: 0.5102 - val_accuracy: 0.8000\n",
      "Epoch 9/100\n",
      "120/120 [==============================] - 1s 5ms/step - loss: 0.2970 - accuracy: 0.8775 - val_loss: 0.5570 - val_accuracy: 0.7720\n",
      "Epoch 10/100\n",
      "120/120 [==============================] - 1s 5ms/step - loss: 0.2750 - accuracy: 0.8842 - val_loss: 0.4873 - val_accuracy: 0.7920\n",
      "Epoch 11/100\n",
      "120/120 [==============================] - 1s 5ms/step - loss: 0.2645 - accuracy: 0.8925 - val_loss: 0.4752 - val_accuracy: 0.8200\n",
      "Epoch 12/100\n",
      "120/120 [==============================] - 1s 5ms/step - loss: 0.2477 - accuracy: 0.9100 - val_loss: 0.5071 - val_accuracy: 0.8000\n",
      "Epoch 13/100\n",
      "120/120 [==============================] - 1s 6ms/step - loss: 0.2260 - accuracy: 0.9033 - val_loss: 0.4932 - val_accuracy: 0.8080\n",
      "Epoch 14/100\n",
      "120/120 [==============================] - 1s 5ms/step - loss: 0.2286 - accuracy: 0.9067 - val_loss: 0.4858 - val_accuracy: 0.8080\n",
      "Epoch 15/100\n",
      "120/120 [==============================] - 1s 5ms/step - loss: 0.2110 - accuracy: 0.9192 - val_loss: 0.5188 - val_accuracy: 0.8200\n",
      "Epoch 16/100\n",
      "120/120 [==============================] - 1s 5ms/step - loss: 0.2054 - accuracy: 0.9167 - val_loss: 0.5352 - val_accuracy: 0.8040\n",
      "Epoch 17/100\n",
      "120/120 [==============================] - 1s 5ms/step - loss: 0.2037 - accuracy: 0.9158 - val_loss: 0.5673 - val_accuracy: 0.7800\n",
      "Epoch 18/100\n",
      "120/120 [==============================] - 1s 5ms/step - loss: 0.1824 - accuracy: 0.9325 - val_loss: 0.4700 - val_accuracy: 0.8080\n",
      "Epoch 19/100\n",
      "120/120 [==============================] - 1s 5ms/step - loss: 0.1844 - accuracy: 0.9267 - val_loss: 0.4896 - val_accuracy: 0.8080\n",
      "Epoch 20/100\n",
      "120/120 [==============================] - 1s 5ms/step - loss: 0.1751 - accuracy: 0.9350 - val_loss: 0.5437 - val_accuracy: 0.7720\n",
      "Epoch 21/100\n",
      "120/120 [==============================] - 1s 5ms/step - loss: 0.1662 - accuracy: 0.9392 - val_loss: 0.5367 - val_accuracy: 0.8200\n",
      "Epoch 22/100\n",
      "120/120 [==============================] - 1s 5ms/step - loss: 0.1590 - accuracy: 0.9408 - val_loss: 0.5246 - val_accuracy: 0.7960\n",
      "Epoch 23/100\n",
      "120/120 [==============================] - 1s 5ms/step - loss: 0.1451 - accuracy: 0.9433 - val_loss: 0.5413 - val_accuracy: 0.7840\n",
      "Epoch 24/100\n",
      "120/120 [==============================] - 1s 5ms/step - loss: 0.1405 - accuracy: 0.9508 - val_loss: 0.5699 - val_accuracy: 0.8360\n",
      "Epoch 25/100\n",
      "120/120 [==============================] - 1s 5ms/step - loss: 0.1338 - accuracy: 0.9508 - val_loss: 0.5389 - val_accuracy: 0.7960\n",
      "Epoch 26/100\n",
      "120/120 [==============================] - 1s 5ms/step - loss: 0.1328 - accuracy: 0.9525 - val_loss: 0.5068 - val_accuracy: 0.7720\n",
      "Epoch 27/100\n",
      "120/120 [==============================] - 1s 5ms/step - loss: 0.1244 - accuracy: 0.9517 - val_loss: 0.5042 - val_accuracy: 0.8400\n",
      "Epoch 28/100\n",
      "120/120 [==============================] - 1s 5ms/step - loss: 0.1118 - accuracy: 0.9667 - val_loss: 0.6127 - val_accuracy: 0.7520\n",
      "Epoch 29/100\n",
      "120/120 [==============================] - 1s 5ms/step - loss: 0.1121 - accuracy: 0.9558 - val_loss: 0.5232 - val_accuracy: 0.8040\n",
      "Epoch 30/100\n",
      "120/120 [==============================] - 1s 5ms/step - loss: 0.1039 - accuracy: 0.9650 - val_loss: 0.5115 - val_accuracy: 0.8080\n",
      "Epoch 31/100\n",
      "120/120 [==============================] - 1s 5ms/step - loss: 0.1023 - accuracy: 0.9600 - val_loss: 0.5478 - val_accuracy: 0.7720\n",
      "Epoch 32/100\n",
      "120/120 [==============================] - 1s 5ms/step - loss: 0.1123 - accuracy: 0.9575 - val_loss: 0.6138 - val_accuracy: 0.7720\n",
      "Epoch 33/100\n",
      "120/120 [==============================] - 1s 5ms/step - loss: 0.1009 - accuracy: 0.9642 - val_loss: 0.5969 - val_accuracy: 0.7680\n",
      "Epoch 34/100\n",
      "120/120 [==============================] - 1s 5ms/step - loss: 0.0956 - accuracy: 0.9633 - val_loss: 0.5762 - val_accuracy: 0.7720\n",
      "Epoch 35/100\n",
      "120/120 [==============================] - 1s 5ms/step - loss: 0.0804 - accuracy: 0.9717 - val_loss: 0.6355 - val_accuracy: 0.7600\n",
      "Epoch 36/100\n",
      "120/120 [==============================] - 1s 5ms/step - loss: 0.0744 - accuracy: 0.9783 - val_loss: 0.6250 - val_accuracy: 0.8200\n",
      "Epoch 37/100\n",
      "120/120 [==============================] - 1s 5ms/step - loss: 0.0817 - accuracy: 0.9708 - val_loss: 0.6319 - val_accuracy: 0.8240\n",
      "Epoch 38/100\n",
      "120/120 [==============================] - 1s 5ms/step - loss: 0.0753 - accuracy: 0.9708 - val_loss: 0.6466 - val_accuracy: 0.7880\n",
      "Epoch 39/100\n",
      "120/120 [==============================] - 1s 5ms/step - loss: 0.0854 - accuracy: 0.9683 - val_loss: 0.6415 - val_accuracy: 0.7640\n",
      "Epoch 40/100\n",
      "120/120 [==============================] - 1s 6ms/step - loss: 0.0688 - accuracy: 0.9750 - val_loss: 0.7355 - val_accuracy: 0.7400\n",
      "Epoch 41/100\n",
      "120/120 [==============================] - 1s 5ms/step - loss: 0.0798 - accuracy: 0.9725 - val_loss: 0.7316 - val_accuracy: 0.7680\n",
      "Epoch 42/100\n",
      "120/120 [==============================] - 1s 5ms/step - loss: 0.0795 - accuracy: 0.9750 - val_loss: 0.6980 - val_accuracy: 0.8080\n",
      "Epoch 43/100\n",
      "120/120 [==============================] - 1s 5ms/step - loss: 0.0791 - accuracy: 0.9650 - val_loss: 0.6471 - val_accuracy: 0.7960\n",
      "Epoch 44/100\n",
      "120/120 [==============================] - 1s 5ms/step - loss: 0.0602 - accuracy: 0.9817 - val_loss: 0.7275 - val_accuracy: 0.8360\n",
      "Epoch 45/100\n",
      "120/120 [==============================] - 1s 5ms/step - loss: 0.0539 - accuracy: 0.9792 - val_loss: 0.7731 - val_accuracy: 0.8080\n",
      "Epoch 46/100\n",
      "120/120 [==============================] - 1s 5ms/step - loss: 0.0477 - accuracy: 0.9833 - val_loss: 0.7588 - val_accuracy: 0.8480\n",
      "Epoch 47/100\n",
      "120/120 [==============================] - 1s 5ms/step - loss: 0.0416 - accuracy: 0.9875 - val_loss: 0.7993 - val_accuracy: 0.8120\n",
      "Epoch 48/100\n",
      "120/120 [==============================] - 1s 6ms/step - loss: 0.0504 - accuracy: 0.9817 - val_loss: 0.7238 - val_accuracy: 0.8520\n",
      "Epoch 49/100\n",
      "120/120 [==============================] - 1s 5ms/step - loss: 0.0524 - accuracy: 0.9808 - val_loss: 0.7298 - val_accuracy: 0.7920\n",
      "Epoch 50/100\n",
      "120/120 [==============================] - 1s 5ms/step - loss: 0.0726 - accuracy: 0.9725 - val_loss: 0.7742 - val_accuracy: 0.8360\n",
      "Epoch 51/100\n",
      "120/120 [==============================] - 1s 5ms/step - loss: 0.0636 - accuracy: 0.9733 - val_loss: 0.7487 - val_accuracy: 0.7520\n",
      "Epoch 52/100\n",
      "120/120 [==============================] - 1s 5ms/step - loss: 0.0709 - accuracy: 0.9708 - val_loss: 0.7781 - val_accuracy: 0.8080\n",
      "Epoch 53/100\n",
      "120/120 [==============================] - 1s 5ms/step - loss: 0.0580 - accuracy: 0.9750 - val_loss: 0.7327 - val_accuracy: 0.7960\n",
      "Epoch 54/100\n",
      "120/120 [==============================] - 1s 5ms/step - loss: 0.0592 - accuracy: 0.9775 - val_loss: 0.8242 - val_accuracy: 0.8320\n",
      "Epoch 55/100\n",
      "120/120 [==============================] - 1s 5ms/step - loss: 0.0662 - accuracy: 0.9725 - val_loss: 0.8925 - val_accuracy: 0.8160\n",
      "Epoch 56/100\n",
      "120/120 [==============================] - 1s 5ms/step - loss: 0.0420 - accuracy: 0.9858 - val_loss: 0.8697 - val_accuracy: 0.8240\n",
      "Epoch 57/100\n",
      "120/120 [==============================] - 1s 5ms/step - loss: 0.0521 - accuracy: 0.9842 - val_loss: 0.9507 - val_accuracy: 0.8240\n"
     ]
    },
    {
     "name": "stdout",
     "output_type": "stream",
     "text": [
      "Epoch 58/100\n",
      "120/120 [==============================] - 1s 5ms/step - loss: 0.0328 - accuracy: 0.9883 - val_loss: 0.9890 - val_accuracy: 0.8280\n",
      "Epoch 59/100\n",
      "120/120 [==============================] - 1s 5ms/step - loss: 0.0320 - accuracy: 0.9908 - val_loss: 0.9340 - val_accuracy: 0.8280\n",
      "Epoch 60/100\n",
      "120/120 [==============================] - 1s 5ms/step - loss: 0.0253 - accuracy: 0.9925 - val_loss: 0.9813 - val_accuracy: 0.8120\n",
      "Epoch 61/100\n",
      "120/120 [==============================] - 1s 5ms/step - loss: 0.0245 - accuracy: 0.9908 - val_loss: 0.9992 - val_accuracy: 0.8400\n",
      "Epoch 62/100\n",
      "120/120 [==============================] - 1s 5ms/step - loss: 0.0240 - accuracy: 0.9942 - val_loss: 0.9625 - val_accuracy: 0.8200\n",
      "Epoch 63/100\n",
      "120/120 [==============================] - 1s 5ms/step - loss: 0.0218 - accuracy: 0.9925 - val_loss: 0.9502 - val_accuracy: 0.8160\n",
      "Epoch 64/100\n",
      "120/120 [==============================] - 1s 5ms/step - loss: 0.0270 - accuracy: 0.9933 - val_loss: 0.9244 - val_accuracy: 0.7920\n",
      "Epoch 65/100\n",
      "120/120 [==============================] - 1s 5ms/step - loss: 0.0589 - accuracy: 0.9767 - val_loss: 1.0255 - val_accuracy: 0.8440\n",
      "Epoch 66/100\n",
      "120/120 [==============================] - 1s 5ms/step - loss: 0.0663 - accuracy: 0.9783 - val_loss: 0.8941 - val_accuracy: 0.7880\n",
      "Epoch 67/100\n",
      "120/120 [==============================] - 1s 5ms/step - loss: 0.0493 - accuracy: 0.9867 - val_loss: 0.9084 - val_accuracy: 0.7240\n",
      "Epoch 68/100\n",
      "120/120 [==============================] - 1s 5ms/step - loss: 0.0609 - accuracy: 0.9783 - val_loss: 0.7319 - val_accuracy: 0.8240\n",
      "Epoch 69/100\n",
      "120/120 [==============================] - 1s 5ms/step - loss: 0.0373 - accuracy: 0.9875 - val_loss: 0.8379 - val_accuracy: 0.7520\n",
      "Epoch 70/100\n",
      "120/120 [==============================] - 1s 5ms/step - loss: 0.0332 - accuracy: 0.9883 - val_loss: 0.7808 - val_accuracy: 0.7920\n",
      "Epoch 71/100\n",
      "120/120 [==============================] - 1s 5ms/step - loss: 0.0336 - accuracy: 0.9875 - val_loss: 0.8040 - val_accuracy: 0.7800\n",
      "Epoch 72/100\n",
      "120/120 [==============================] - 1s 5ms/step - loss: 0.0298 - accuracy: 0.9917 - val_loss: 0.9647 - val_accuracy: 0.7720\n",
      "Epoch 73/100\n",
      "120/120 [==============================] - 1s 5ms/step - loss: 0.0243 - accuracy: 0.9908 - val_loss: 0.9736 - val_accuracy: 0.7120\n",
      "Epoch 74/100\n",
      "120/120 [==============================] - 1s 5ms/step - loss: 0.0202 - accuracy: 0.9925 - val_loss: 1.0670 - val_accuracy: 0.7440\n",
      "Epoch 75/100\n",
      "120/120 [==============================] - 1s 5ms/step - loss: 0.0184 - accuracy: 0.9925 - val_loss: 1.0533 - val_accuracy: 0.7800\n",
      "Epoch 76/100\n",
      "120/120 [==============================] - 1s 5ms/step - loss: 0.0143 - accuracy: 0.9958 - val_loss: 1.0148 - val_accuracy: 0.7680\n",
      "Epoch 77/100\n",
      "120/120 [==============================] - 1s 5ms/step - loss: 0.0125 - accuracy: 0.9967 - val_loss: 0.9924 - val_accuracy: 0.7440\n",
      "Epoch 78/100\n",
      "120/120 [==============================] - 1s 5ms/step - loss: 0.0145 - accuracy: 0.9942 - val_loss: 0.9611 - val_accuracy: 0.7640\n",
      "Epoch 79/100\n",
      "120/120 [==============================] - 1s 5ms/step - loss: 0.0146 - accuracy: 0.9958 - val_loss: 1.0285 - val_accuracy: 0.7440\n",
      "Epoch 80/100\n",
      "120/120 [==============================] - 1s 5ms/step - loss: 0.0107 - accuracy: 0.9975 - val_loss: 0.9912 - val_accuracy: 0.7560\n",
      "Epoch 81/100\n",
      "120/120 [==============================] - 1s 5ms/step - loss: 0.0236 - accuracy: 0.9908 - val_loss: 0.9130 - val_accuracy: 0.7640\n",
      "Epoch 82/100\n",
      "120/120 [==============================] - 1s 5ms/step - loss: 0.0379 - accuracy: 0.9883 - val_loss: 1.1299 - val_accuracy: 0.7440\n",
      "Epoch 83/100\n",
      "120/120 [==============================] - 1s 5ms/step - loss: 0.0631 - accuracy: 0.9775 - val_loss: 0.9586 - val_accuracy: 0.7600\n",
      "Epoch 84/100\n",
      "120/120 [==============================] - 1s 5ms/step - loss: 0.0547 - accuracy: 0.9783 - val_loss: 0.9808 - val_accuracy: 0.8080\n",
      "Epoch 85/100\n",
      "120/120 [==============================] - 1s 5ms/step - loss: 0.0538 - accuracy: 0.9800 - val_loss: 0.9868 - val_accuracy: 0.7560\n",
      "Epoch 86/100\n",
      "120/120 [==============================] - 1s 5ms/step - loss: 0.0815 - accuracy: 0.9742 - val_loss: 1.1541 - val_accuracy: 0.7680\n",
      "Epoch 87/100\n",
      "120/120 [==============================] - 1s 5ms/step - loss: 0.0888 - accuracy: 0.9742 - val_loss: 0.9288 - val_accuracy: 0.7840\n",
      "Epoch 88/100\n",
      "120/120 [==============================] - 1s 5ms/step - loss: 0.0469 - accuracy: 0.9867 - val_loss: 0.9108 - val_accuracy: 0.7560\n",
      "Epoch 89/100\n",
      "120/120 [==============================] - 1s 5ms/step - loss: 0.0205 - accuracy: 0.9967 - val_loss: 1.0706 - val_accuracy: 0.7720\n",
      "Epoch 90/100\n",
      "120/120 [==============================] - 1s 5ms/step - loss: 0.0215 - accuracy: 0.9950 - val_loss: 1.1591 - val_accuracy: 0.7880\n",
      "Epoch 91/100\n",
      "120/120 [==============================] - 1s 5ms/step - loss: 0.0170 - accuracy: 0.9950 - val_loss: 1.1057 - val_accuracy: 0.7760\n",
      "Epoch 92/100\n",
      "120/120 [==============================] - 1s 5ms/step - loss: 0.0162 - accuracy: 0.9967 - val_loss: 1.1833 - val_accuracy: 0.7520\n",
      "Epoch 93/100\n",
      "120/120 [==============================] - 1s 5ms/step - loss: 0.0115 - accuracy: 0.9983 - val_loss: 1.1750 - val_accuracy: 0.7600\n",
      "Epoch 94/100\n",
      "120/120 [==============================] - 1s 5ms/step - loss: 0.0118 - accuracy: 0.9967 - val_loss: 1.1435 - val_accuracy: 0.8040\n",
      "Epoch 95/100\n",
      "120/120 [==============================] - 1s 5ms/step - loss: 0.0150 - accuracy: 0.9950 - val_loss: 1.1308 - val_accuracy: 0.7840\n",
      "Epoch 96/100\n",
      "120/120 [==============================] - 1s 5ms/step - loss: 0.0122 - accuracy: 0.9975 - val_loss: 1.0946 - val_accuracy: 0.7720\n",
      "Epoch 97/100\n",
      "120/120 [==============================] - 1s 5ms/step - loss: 0.0074 - accuracy: 1.0000 - val_loss: 1.0981 - val_accuracy: 0.7760\n",
      "Epoch 98/100\n",
      "120/120 [==============================] - 1s 5ms/step - loss: 0.0099 - accuracy: 0.9983 - val_loss: 1.0868 - val_accuracy: 0.7880\n",
      "Epoch 99/100\n",
      "120/120 [==============================] - 1s 5ms/step - loss: 0.0168 - accuracy: 0.9925 - val_loss: 0.9601 - val_accuracy: 0.7840\n",
      "Epoch 100/100\n",
      "120/120 [==============================] - 1s 5ms/step - loss: 0.0153 - accuracy: 0.9942 - val_loss: 1.0471 - val_accuracy: 0.7920\n"
     ]
    }
   ],
   "source": [
    "hist = model.fit(x_train, y_train, epochs=100, batch_size= 10, validation_data= (x_test,y_test))"
   ]
  },
  {
   "cell_type": "code",
   "execution_count": 121,
   "id": "758b15ed",
   "metadata": {
    "ExecuteTime": {
     "end_time": "2022-05-13T03:15:51.918413Z",
     "start_time": "2022-05-13T03:15:51.814670Z"
    }
   },
   "outputs": [
    {
     "data": {
      "text/plain": [
       "[<matplotlib.lines.Line2D at 0x1662a8d5be0>]"
      ]
     },
     "execution_count": 121,
     "metadata": {},
     "output_type": "execute_result"
    },
    {
     "data": {
      "image/png": "[encoded data removed]",
      "text/plain": [
       "<Figure size 432x288 with 1 Axes>"
      ]
     },
     "metadata": {
      "needs_background": "light"
     },
     "output_type": "display_data"
    }
   ],
   "source": [
    "plt.plot(hist.history['loss'])\n",
    "plt.plot(hist.history['val_loss'])"
   ]
  },
  {
   "cell_type": "code",
   "execution_count": 122,
   "id": "afee9d22",
   "metadata": {
    "ExecuteTime": {
     "end_time": "2022-05-13T03:16:26.336938Z",
     "start_time": "2022-05-13T03:16:26.244877Z"
    }
   },
   "outputs": [
    {
     "data": {
      "text/plain": [
       "[<matplotlib.lines.Line2D at 0x1662a94b4c0>]"
      ]
     },
     "execution_count": 122,
     "metadata": {},
     "output_type": "execute_result"
    },
    {
     "data": {
      "image/png": "[encoded data removed]",
      "text/plain": [
       "<Figure size 432x288 with 1 Axes>"
      ]
     },
     "metadata": {
      "needs_background": "light"
     },
     "output_type": "display_data"
    }
   ],
   "source": [
    "plt.plot(hist.history['accuracy'])\n",
    "plt.plot(hist.history['val_accuracy'])"
   ]
  },
  {
   "cell_type": "code",
   "execution_count": null,
   "id": "419fa3fd",
   "metadata": {},
   "outputs": [],
   "source": []
  },
  {
   "cell_type": "code",
   "execution_count": null,
   "id": "36047043",
   "metadata": {},
   "outputs": [],
   "source": []
  },
  {
   "cell_type": "code",
   "execution_count": 59,
   "id": "14b01703",
   "metadata": {
    "ExecuteTime": {
     "end_time": "2022-05-13T02:20:13.242600Z",
     "start_time": "2022-05-13T02:20:12.120309Z"
    }
   },
   "outputs": [],
   "source": [
    "model.save('./data/model/시티랩스_10,5.h5')"
   ]
  },
  {
   "cell_type": "code",
   "execution_count": null,
   "id": "c5f2a37e",
   "metadata": {},
   "outputs": [],
   "source": []
  },
  {
   "cell_type": "code",
   "execution_count": null,
   "id": "55f42fdc",
   "metadata": {},
   "outputs": [],
   "source": []
  },
  {
   "cell_type": "code",
   "execution_count": 61,
   "id": "140663db",
   "metadata": {
    "ExecuteTime": {
     "end_time": "2022-05-13T02:22:34.434089Z",
     "start_time": "2022-05-13T02:22:34.231896Z"
    }
   },
   "outputs": [],
   "source": [
    "model1 =  keras.models.load_model('./data/model/시티랩스_10,5.h5')"
   ]
  },
  {
   "cell_type": "code",
   "execution_count": 63,
   "id": "566d2c1c",
   "metadata": {
    "ExecuteTime": {
     "end_time": "2022-05-13T02:26:00.523955Z",
     "start_time": "2022-05-13T02:26:00.185212Z"
    }
   },
   "outputs": [
    {
     "name": "stdout",
     "output_type": "stream",
     "text": [
      "9/9 [==============================] - 0s 3ms/step - loss: 0.2809 - accuracy: 0.9269\n"
     ]
    },
    {
     "data": {
      "text/plain": [
       "[0.2809010148048401, 0.9269230961799622]"
      ]
     },
     "execution_count": 63,
     "metadata": {},
     "output_type": "execute_result"
    }
   ],
   "source": [
    "model1.evaluate(x_test,y_test)"
   ]
  },
  {
   "cell_type": "code",
   "execution_count": 66,
   "id": "a84c0928",
   "metadata": {
    "ExecuteTime": {
     "end_time": "2022-05-13T02:33:41.180549Z",
     "start_time": "2022-05-13T02:33:41.174564Z"
    }
   },
   "outputs": [],
   "source": [
    "from sklearn.metrics import classification_report\n"
   ]
  },
  {
   "cell_type": "code",
   "execution_count": 71,
   "id": "3acb4a95",
   "metadata": {
    "ExecuteTime": {
     "end_time": "2022-05-13T02:35:59.711539Z",
     "start_time": "2022-05-13T02:35:59.640048Z"
    }
   },
   "outputs": [
    {
     "data": {
      "text/plain": [
       "260"
      ]
     },
     "execution_count": 71,
     "metadata": {},
     "output_type": "execute_result"
    }
   ],
   "source": [
    "pred = model1.predict(x_test)\n",
    "len(pred)"
   ]
  },
  {
   "cell_type": "code",
   "execution_count": 77,
   "id": "eee6e3d7",
   "metadata": {
    "ExecuteTime": {
     "end_time": "2022-05-13T02:46:26.609814Z",
     "start_time": "2022-05-13T02:46:26.597846Z"
    }
   },
   "outputs": [
    {
     "data": {
      "text/plain": [
       "array([[ -0.11271809,  64.33      ,  13.2       ,   5.47      ,\n",
       "         -5.51      , -34.11      ,   2.53      ,   0.6       ,\n",
       "         -0.88888889,  -0.1       ,  -2.75      ,  -0.8       ,\n",
       "          7.        ,   0.        ],\n",
       "       [  1.10626833,  64.33      ,  13.2       ,   5.47      ,\n",
       "         -5.51      , -34.11      ,   2.53      ,   0.875     ,\n",
       "          7.        ,   0.88888889,   0.        ,   1.        ,\n",
       "          0.125     ,   0.        ],\n",
       "       [ -0.31183154,  64.33      ,  13.2       ,   5.47      ,\n",
       "         -5.51      , -34.11      ,   2.53      ,  -0.4       ,\n",
       "         -0.875     ,  -0.11764706,   0.14285714,   2.        ,\n",
       "          0.55555556,   0.        ],\n",
       "       [ -0.33952301,  64.33      ,  13.2       ,   5.47      ,\n",
       "         -5.51      , -34.11      ,   2.53      ,  -0.88888889,\n",
       "          3.        ,  -0.13333333,  -1.375     ,   1.        ,\n",
       "         -0.35714286,   0.        ],\n",
       "       [  0.07049544,  64.33      ,  13.2       ,   5.47      ,\n",
       "         -5.51      , -34.11      ,   2.53      ,   9.        ,\n",
       "         -0.75      ,  -0.07692308,  -4.        ,  -0.83333333,\n",
       "          0.22222222,   0.        ],\n",
       "       [ -0.24415131,  64.33      ,  13.2       ,   5.47      ,\n",
       "         -5.51      , -34.11      ,   2.53      ,  -0.3       ,\n",
       "          1.        ,   0.16666667,  -0.44444444,   2.5       ,\n",
       "          0.09090909,   0.        ],\n",
       "       [  0.32694526,  64.33      ,  13.2       ,   5.47      ,\n",
       "         -5.51      , -34.11      ,   2.53      ,   0.85714286,\n",
       "          4.5       ,   0.        ,  -0.6       ,  -0.85714286,\n",
       "         -0.75      ,   0.        ],\n",
       "       [ -0.29826052,  64.33      ,  13.2       ,   5.47      ,\n",
       "         -5.51      , -34.11      ,   2.53      ,  -0.98461538,\n",
       "         -0.27272727,  -0.21428571,  -5.        ,  10.        ,\n",
       "          0.        ,   0.        ],\n",
       "       [ -0.09794814,  64.33      ,  13.2       ,   5.47      ,\n",
       "         -5.51      , -34.11      ,   2.53      ,  24.        ,\n",
       "         -0.875     ,  -0.18181818,  -1.5       ,  -0.63636364,\n",
       "          1.66666667,   0.        ],\n",
       "       [ -0.17333041,  64.33      ,  13.2       ,   5.47      ,\n",
       "         -5.51      , -34.11      ,   2.53      ,  -0.4       ,\n",
       "          1.        ,   0.11111111,  -0.75      ,   0.75      ,\n",
       "          0.        ,   0.        ]])"
      ]
     },
     "execution_count": 77,
     "metadata": {},
     "output_type": "execute_result"
    }
   ],
   "source": [
    "x_test[0]"
   ]
  },
  {
   "cell_type": "code",
   "execution_count": 78,
   "id": "9cdf2c9e",
   "metadata": {
    "ExecuteTime": {
     "end_time": "2022-05-13T02:49:40.174442Z",
     "start_time": "2022-05-13T02:49:40.164470Z"
    }
   },
   "outputs": [
    {
     "data": {
      "text/plain": [
       "array([[0.27711883],\n",
       "       [0.28975993],\n",
       "       [0.2950392 ],\n",
       "       [0.26821   ],\n",
       "       [0.27821267],\n",
       "       [0.25682333],\n",
       "       [0.27000904],\n",
       "       [0.3360014 ],\n",
       "       [0.30496275],\n",
       "       [0.25823504],\n",
       "       [0.21957578],\n",
       "       [0.2493262 ],\n",
       "       [0.25572896],\n",
       "       [0.19824457],\n",
       "       [0.17159674],\n",
       "       [0.21405753],\n",
       "       [0.18904315],\n",
       "       [0.16010791],\n",
       "       [0.1608472 ],\n",
       "       [0.15101022],\n",
       "       [0.13397981],\n",
       "       [0.11976197],\n",
       "       [0.11132117],\n",
       "       [0.11762336],\n",
       "       [0.10853408],\n",
       "       [0.10280783],\n",
       "       [0.07385399],\n",
       "       [0.06087089],\n",
       "       [0.08116091],\n",
       "       [0.08103109],\n",
       "       [0.08082778],\n",
       "       [0.09232912],\n",
       "       [0.09211715],\n",
       "       [0.08920299],\n",
       "       [0.09112186],\n",
       "       [0.10173703],\n",
       "       [0.08801971],\n",
       "       [0.10091133],\n",
       "       [0.1033345 ],\n",
       "       [0.09676921],\n",
       "       [0.10721759],\n",
       "       [0.10871453],\n",
       "       [0.09983931],\n",
       "       [0.10090475],\n",
       "       [0.09930041],\n",
       "       [0.09386507],\n",
       "       [0.0978376 ],\n",
       "       [0.0808939 ],\n",
       "       [0.09057106],\n",
       "       [0.09110875],\n",
       "       [0.09519503],\n",
       "       [0.13243777],\n",
       "       [0.10349238],\n",
       "       [0.12290907],\n",
       "       [0.12535863],\n",
       "       [0.12243621],\n",
       "       [0.11940107],\n",
       "       [0.13187598],\n",
       "       [0.12935264],\n",
       "       [0.12429482],\n",
       "       [0.12501918],\n",
       "       [0.09892123],\n",
       "       [0.07390254],\n",
       "       [0.09014334],\n",
       "       [0.08763082],\n",
       "       [0.09011257],\n",
       "       [0.08531817],\n",
       "       [0.08664353],\n",
       "       [0.08182202],\n",
       "       [0.08894797],\n",
       "       [0.08215842],\n",
       "       [0.08644696],\n",
       "       [0.09540471],\n",
       "       [0.07731687],\n",
       "       [0.09766451],\n",
       "       [0.10316353],\n",
       "       [0.11542298],\n",
       "       [0.14386578],\n",
       "       [0.1283265 ],\n",
       "       [0.12116358],\n",
       "       [0.10319585],\n",
       "       [0.10127431],\n",
       "       [0.09706286],\n",
       "       [0.08858635],\n",
       "       [0.09490322],\n",
       "       [0.09597541],\n",
       "       [0.11248708],\n",
       "       [0.08140545],\n",
       "       [0.09992293],\n",
       "       [0.06057255],\n",
       "       [0.09168901],\n",
       "       [0.10089687],\n",
       "       [0.09892473],\n",
       "       [0.10175922],\n",
       "       [0.08588619],\n",
       "       [0.11142513],\n",
       "       [0.06461184],\n",
       "       [0.10604869],\n",
       "       [0.11131784],\n",
       "       [0.09626736],\n",
       "       [0.10974726],\n",
       "       [0.11014184],\n",
       "       [0.06138379],\n",
       "       [0.11147535],\n",
       "       [0.1016391 ],\n",
       "       [0.11270241],\n",
       "       [0.1063374 ],\n",
       "       [0.09207658],\n",
       "       [0.10157098],\n",
       "       [0.09458427],\n",
       "       [0.09490816],\n",
       "       [0.10666751],\n",
       "       [0.10142421],\n",
       "       [0.09634459],\n",
       "       [0.07229997],\n",
       "       [0.09219889],\n",
       "       [0.08234838],\n",
       "       [0.07751096],\n",
       "       [0.10071649],\n",
       "       [0.09927956],\n",
       "       [0.10655017],\n",
       "       [0.08594403],\n",
       "       [0.10003944],\n",
       "       [0.05454398],\n",
       "       [0.08400778],\n",
       "       [0.08408035],\n",
       "       [0.09101646],\n",
       "       [0.06626862],\n",
       "       [0.08930611],\n",
       "       [0.09335251],\n",
       "       [0.09399404],\n",
       "       [0.08943375],\n",
       "       [0.05751127],\n",
       "       [0.09873425],\n",
       "       [0.10026628],\n",
       "       [0.10234916],\n",
       "       [0.0724336 ],\n",
       "       [0.06930391],\n",
       "       [0.07142766],\n",
       "       [0.06421033],\n",
       "       [0.07913925],\n",
       "       [0.07954818],\n",
       "       [0.08792899],\n",
       "       [0.06562349],\n",
       "       [0.07760096],\n",
       "       [0.08316321],\n",
       "       [0.07460409],\n",
       "       [0.06190587],\n",
       "       [0.06648101],\n",
       "       [0.07170489],\n",
       "       [0.07666133],\n",
       "       [0.0766159 ],\n",
       "       [0.07106595],\n",
       "       [0.07894485],\n",
       "       [0.06861366],\n",
       "       [0.08202861],\n",
       "       [0.08464651],\n",
       "       [0.08025632],\n",
       "       [0.08772337],\n",
       "       [0.06455213],\n",
       "       [0.06641384],\n",
       "       [0.0799531 ],\n",
       "       [0.07517275],\n",
       "       [0.08750439],\n",
       "       [0.07460369],\n",
       "       [0.08201223],\n",
       "       [0.06780027],\n",
       "       [0.0822138 ],\n",
       "       [0.08209138],\n",
       "       [0.07678106],\n",
       "       [0.08923586],\n",
       "       [0.08671463],\n",
       "       [0.07510629],\n",
       "       [0.08270714],\n",
       "       [0.08336684],\n",
       "       [0.07681147],\n",
       "       [0.08215158],\n",
       "       [0.074264  ],\n",
       "       [0.08324124],\n",
       "       [0.08185185],\n",
       "       [0.08588287],\n",
       "       [0.08097988],\n",
       "       [0.07318362],\n",
       "       [0.0726061 ],\n",
       "       [0.07497783],\n",
       "       [0.08260301],\n",
       "       [0.08214272],\n",
       "       [0.08033395],\n",
       "       [0.07381453],\n",
       "       [0.07942176],\n",
       "       [0.08209492],\n",
       "       [0.0809091 ],\n",
       "       [0.08391989],\n",
       "       [0.07037595],\n",
       "       [0.08096649],\n",
       "       [0.08132706],\n",
       "       [0.07971957],\n",
       "       [0.08271657],\n",
       "       [0.0644309 ],\n",
       "       [0.08641526],\n",
       "       [0.06767122],\n",
       "       [0.09284981],\n",
       "       [0.10415765],\n",
       "       [0.12462283],\n",
       "       [0.12253992],\n",
       "       [0.14136666],\n",
       "       [0.14900687],\n",
       "       [0.17307049],\n",
       "       [0.18075806],\n",
       "       [0.1870297 ],\n",
       "       [0.1479812 ],\n",
       "       [0.16526094],\n",
       "       [0.18761113],\n",
       "       [0.17982909],\n",
       "       [0.18813965],\n",
       "       [0.19217524],\n",
       "       [0.18717754],\n",
       "       [0.12172187],\n",
       "       [0.1520405 ],\n",
       "       [0.15881702],\n",
       "       [0.17091061],\n",
       "       [0.08252251],\n",
       "       [0.07321721],\n",
       "       [0.0891685 ],\n",
       "       [0.10316616],\n",
       "       [0.11489703],\n",
       "       [0.12075519],\n",
       "       [0.12507884],\n",
       "       [0.1221936 ],\n",
       "       [0.08236687],\n",
       "       [0.05393216],\n",
       "       [0.09453106],\n",
       "       [0.14802893],\n",
       "       [0.16546312],\n",
       "       [0.07381365],\n",
       "       [0.10820626],\n",
       "       [0.09504756],\n",
       "       [0.11078509],\n",
       "       [0.11459764],\n",
       "       [0.08694696],\n",
       "       [0.12781253],\n",
       "       [0.11081363],\n",
       "       [0.12607127],\n",
       "       [0.1246709 ],\n",
       "       [0.1708183 ],\n",
       "       [0.13916828],\n",
       "       [0.1020297 ],\n",
       "       [0.20432888],\n",
       "       [0.14572005],\n",
       "       [0.22486976],\n",
       "       [0.17850609],\n",
       "       [0.19025931],\n",
       "       [0.19358991],\n",
       "       [0.16822013],\n",
       "       [0.1935681 ],\n",
       "       [0.19603567],\n",
       "       [0.19853239],\n",
       "       [0.17302427],\n",
       "       [0.15945904],\n",
       "       [0.27232307]], dtype=float32)"
      ]
     },
     "execution_count": 78,
     "metadata": {},
     "output_type": "execute_result"
    }
   ],
   "source": [
    "pred"
   ]
  },
  {
   "cell_type": "code",
   "execution_count": 86,
   "id": "d193cfe1",
   "metadata": {
    "ExecuteTime": {
     "end_time": "2022-05-13T02:54:05.150088Z",
     "start_time": "2022-05-13T02:54:05.141117Z"
    }
   },
   "outputs": [],
   "source": [
    "ans = []\n",
    "for i in pred:\n",
    "    ans.append(round(i[0]))"
   ]
  },
  {
   "cell_type": "code",
   "execution_count": 88,
   "id": "d2f5df05",
   "metadata": {
    "ExecuteTime": {
     "end_time": "2022-05-13T02:54:38.752606Z",
     "start_time": "2022-05-13T02:54:38.740614Z"
    }
   },
   "outputs": [
    {
     "data": {
      "text/plain": [
       "Counter({0: 260})"
      ]
     },
     "execution_count": 88,
     "metadata": {},
     "output_type": "execute_result"
    }
   ],
   "source": [
    "Counter(ans)"
   ]
  },
  {
   "cell_type": "code",
   "execution_count": 79,
   "id": "6c533a92",
   "metadata": {
    "ExecuteTime": {
     "end_time": "2022-05-13T02:51:03.176405Z",
     "start_time": "2022-05-13T02:51:03.157430Z"
    }
   },
   "outputs": [
    {
     "data": {
      "text/plain": [
       "260"
      ]
     },
     "execution_count": 79,
     "metadata": {},
     "output_type": "execute_result"
    }
   ],
   "source": [
    "len(y_test)"
   ]
  },
  {
   "cell_type": "code",
   "execution_count": 81,
   "id": "c0d75943",
   "metadata": {
    "ExecuteTime": {
     "end_time": "2022-05-13T02:51:37.034633Z",
     "start_time": "2022-05-13T02:51:37.023613Z"
    }
   },
   "outputs": [
    {
     "data": {
      "text/plain": [
       "Counter({0.0: 241, 1.0: 19})"
      ]
     },
     "execution_count": 81,
     "metadata": {},
     "output_type": "execute_result"
    }
   ],
   "source": [
    "from collections import Counter\n",
    "Counter(y_test)\n"
   ]
  },
  {
   "cell_type": "code",
   "execution_count": null,
   "id": "e858c091",
   "metadata": {},
   "outputs": [],
   "source": []
  }
 ],
 "metadata": {
  "kernelspec": {
   "display_name": "Python 3 (ipykernel)",
   "language": "python",
   "name": "python3"
  },
  "language_info": {
   "codemirror_mode": {
    "name": "ipython",
    "version": 3
   },
   "file_extension": ".py",
   "mimetype": "text/x-python",
   "name": "python",
   "nbconvert_exporter": "python",
   "pygments_lexer": "ipython3",
   "version": "3.9.7"
  },
  "toc": {
   "base_numbering": 1,
   "nav_menu": {},
   "number_sections": true,
   "sideBar": true,
   "skip_h1_title": false,
   "title_cell": "Table of Contents",
   "title_sidebar": "Contents",
   "toc_cell": false,
   "toc_position": {},
   "toc_section_display": true,
   "toc_window_display": false
  },
  "varInspector": {
   "cols": {
    "lenName": 16,
    "lenType": 16,
    "lenVar": 40
   },
   "kernels_config": {
    "python": {
     "delete_cmd_postfix": "",
     "delete_cmd_prefix": "del ",
     "library": "var_list.py",
     "varRefreshCmd": "print(var_dic_list())"
    },
    "r": {
     "delete_cmd_postfix": ") ",
     "delete_cmd_prefix": "rm(",
     "library": "var_list.r",
     "varRefreshCmd": "cat(var_dic_list()) "
    }
   },
   "types_to_exclude": [
    "module",
    "function",
    "builtin_function_or_method",
    "instance",
    "_Feature"
   ],
   "window_display": false
  }
 },
 "nbformat": 4,
 "nbformat_minor": 5
}
