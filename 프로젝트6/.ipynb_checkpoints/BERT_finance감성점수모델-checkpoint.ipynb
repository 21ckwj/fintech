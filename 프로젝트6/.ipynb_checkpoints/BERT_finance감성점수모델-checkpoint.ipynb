{
 "cells": [
  {
   "cell_type": "markdown",
   "id": "52c7d26b",
   "metadata": {},
   "source": [
    "# BERT: finance_sentiment pretrained모델"
   ]
  },
  {
   "cell_type": "code",
   "execution_count": 1,
   "id": "f5e06bef",
   "metadata": {
    "ExecuteTime": {
     "end_time": "2022-06-07T04:04:45.998714Z",
     "start_time": "2022-06-07T04:04:41.855027Z"
    }
   },
   "outputs": [],
   "source": [
    "import os\n",
    "import pandas as pd\n",
    "import numpy as np\n",
    "import re\n",
    "from tqdm import tqdm\n",
    "import urllib.request\n",
    "import seaborn as sns\n",
    "import matplotlib.pyplot as plt\n",
    "import tensorflow_addons as tfa\n",
    "import tensorflow as tf\n",
    "from tensorflow.keras.callbacks import EarlyStopping, ModelCheckpoint\n",
    "from transformers import BertTokenizer, TFBertForSequenceClassification\n",
    "from sklearn.model_selection import train_test_split\n",
    "from sklearn.metrics import accuracy_score, f1_score, precision_score, recall_score, \\\n",
    "                            roc_auc_score, confusion_matrix, classification_report, \\\n",
    "                            matthews_corrcoef, cohen_kappa_score, log_loss"
   ]
  },
  {
   "cell_type": "code",
   "execution_count": 2,
   "id": "c83ef44b",
   "metadata": {
    "ExecuteTime": {
     "end_time": "2022-06-07T04:04:46.045466Z",
     "start_time": "2022-06-07T04:04:46.031171Z"
    }
   },
   "outputs": [],
   "source": [
    "# urllib.request.urlretrieve(\"https://raw.githubusercontent.com/ukairia777/finance_sentiment_corpus/main/finance_data.csv\", filename=\"./data/finance_data.csv\")"
   ]
  },
  {
   "cell_type": "code",
   "execution_count": 3,
   "id": "56e91a44",
   "metadata": {
    "ExecuteTime": {
     "end_time": "2022-06-07T04:04:57.472850Z",
     "start_time": "2022-06-07T04:04:46.078809Z"
    }
   },
   "outputs": [
    {
     "name": "stderr",
     "output_type": "stream",
     "text": [
      "Some weights of the PyTorch model were not used when initializing the TF 2.0 model TFBertForSequenceClassification: ['bert.embeddings.position_ids']\n",
      "- This IS expected if you are initializing TFBertForSequenceClassification from a PyTorch model trained on another task or with another architecture (e.g. initializing a TFBertForSequenceClassification model from a BertForPreTraining model).\n",
      "- This IS NOT expected if you are initializing TFBertForSequenceClassification from a PyTorch model that you expect to be exactly identical (e.g. initializing a TFBertForSequenceClassification model from a BertForSequenceClassification model).\n",
      "Some weights or buffers of the TF 2.0 model TFBertForSequenceClassification were not initialized from the PyTorch model and are newly initialized: ['classifier.weight', 'classifier.bias']\n",
      "You should probably TRAIN this model on a down-stream task to be able to use it for predictions and inference.\n"
     ]
    }
   ],
   "source": [
    "MODEL_NAME = \"klue/bert-base\"\n",
    "model = TFBertForSequenceClassification.from_pretrained(MODEL_NAME, num_labels=3, from_pt=True)\n",
    "tokenizer = BertTokenizer.from_pretrained(MODEL_NAME)"
   ]
  },
  {
   "cell_type": "code",
   "execution_count": 4,
   "id": "58b37cb4",
   "metadata": {
    "ExecuteTime": {
     "end_time": "2022-06-07T04:04:57.550614Z",
     "start_time": "2022-06-07T04:04:57.505189Z"
    }
   },
   "outputs": [
    {
     "name": "stdout",
     "output_type": "stream",
     "text": [
      "총 샘플의 수 : 4846\n"
     ]
    },
    {
     "data": {
      "text/html": [
       "<div>\n",
       "<style scoped>\n",
       "    .dataframe tbody tr th:only-of-type {\n",
       "        vertical-align: middle;\n",
       "    }\n",
       "\n",
       "    .dataframe tbody tr th {\n",
       "        vertical-align: top;\n",
       "    }\n",
       "\n",
       "    .dataframe thead th {\n",
       "        text-align: right;\n",
       "    }\n",
       "</style>\n",
       "<table border=\"1\" class=\"dataframe\">\n",
       "  <thead>\n",
       "    <tr style=\"text-align: right;\">\n",
       "      <th></th>\n",
       "      <th>labels</th>\n",
       "      <th>sentence</th>\n",
       "      <th>kor_sentence</th>\n",
       "    </tr>\n",
       "  </thead>\n",
       "  <tbody>\n",
       "    <tr>\n",
       "      <th>0</th>\n",
       "      <td>neutral</td>\n",
       "      <td>According to Gran, the company has no plans to...</td>\n",
       "      <td>Gran에 따르면, 그 회사는 회사가 성장하고 있는 곳이지만, 모든 생산을 러시아로...</td>\n",
       "    </tr>\n",
       "    <tr>\n",
       "      <th>1</th>\n",
       "      <td>neutral</td>\n",
       "      <td>Technopolis plans to develop in stages an area...</td>\n",
       "      <td>테크노폴리스는 컴퓨터 기술과 통신 분야에서 일하는 회사들을 유치하기 위해 10만 평...</td>\n",
       "    </tr>\n",
       "    <tr>\n",
       "      <th>2</th>\n",
       "      <td>negative</td>\n",
       "      <td>The international electronic industry company ...</td>\n",
       "      <td>국제 전자산업 회사인 엘코텍은 탈린 공장에서 수십 명의 직원을 해고했으며, 이전의 ...</td>\n",
       "    </tr>\n",
       "    <tr>\n",
       "      <th>3</th>\n",
       "      <td>positive</td>\n",
       "      <td>With the new production plant the company woul...</td>\n",
       "      <td>새로운 생산공장으로 인해 회사는 예상되는 수요 증가를 충족시킬 수 있는 능력을 증가...</td>\n",
       "    </tr>\n",
       "    <tr>\n",
       "      <th>4</th>\n",
       "      <td>positive</td>\n",
       "      <td>According to the company's updated strategy fo...</td>\n",
       "      <td>2009-2012년 회사의 업데이트된 전략에 따르면, Basware는 20% - 4...</td>\n",
       "    </tr>\n",
       "  </tbody>\n",
       "</table>\n",
       "</div>"
      ],
      "text/plain": [
       "     labels                                           sentence  \\\n",
       "0   neutral  According to Gran, the company has no plans to...   \n",
       "1   neutral  Technopolis plans to develop in stages an area...   \n",
       "2  negative  The international electronic industry company ...   \n",
       "3  positive  With the new production plant the company woul...   \n",
       "4  positive  According to the company's updated strategy fo...   \n",
       "\n",
       "                                        kor_sentence  \n",
       "0  Gran에 따르면, 그 회사는 회사가 성장하고 있는 곳이지만, 모든 생산을 러시아로...  \n",
       "1  테크노폴리스는 컴퓨터 기술과 통신 분야에서 일하는 회사들을 유치하기 위해 10만 평...  \n",
       "2  국제 전자산업 회사인 엘코텍은 탈린 공장에서 수십 명의 직원을 해고했으며, 이전의 ...  \n",
       "3  새로운 생산공장으로 인해 회사는 예상되는 수요 증가를 충족시킬 수 있는 능력을 증가...  \n",
       "4  2009-2012년 회사의 업데이트된 전략에 따르면, Basware는 20% - 4...  "
      ]
     },
     "execution_count": 4,
     "metadata": {},
     "output_type": "execute_result"
    }
   ],
   "source": [
    "data = pd.read_csv('./data/finance_data.csv')\n",
    "print('총 샘플의 수 :',len(data))\n",
    "data.head()"
   ]
  },
  {
   "cell_type": "code",
   "execution_count": 5,
   "id": "20f1d981",
   "metadata": {
    "ExecuteTime": {
     "end_time": "2022-06-07T04:05:09.152513Z",
     "start_time": "2022-06-07T04:05:09.130543Z"
    }
   },
   "outputs": [
    {
     "data": {
      "text/html": [
       "<div>\n",
       "<style scoped>\n",
       "    .dataframe tbody tr th:only-of-type {\n",
       "        vertical-align: middle;\n",
       "    }\n",
       "\n",
       "    .dataframe tbody tr th {\n",
       "        vertical-align: top;\n",
       "    }\n",
       "\n",
       "    .dataframe thead th {\n",
       "        text-align: right;\n",
       "    }\n",
       "</style>\n",
       "<table border=\"1\" class=\"dataframe\">\n",
       "  <thead>\n",
       "    <tr style=\"text-align: right;\">\n",
       "      <th></th>\n",
       "      <th>labels</th>\n",
       "      <th>sentence</th>\n",
       "      <th>kor_sentence</th>\n",
       "    </tr>\n",
       "  </thead>\n",
       "  <tbody>\n",
       "    <tr>\n",
       "      <th>254</th>\n",
       "      <td>positive</td>\n",
       "      <td>Operating profit surged to EUR21m from EUR106 ...</td>\n",
       "      <td>영업이익이 EUR106,000에서 EUR21M으로 급증했습니다.</td>\n",
       "    </tr>\n",
       "    <tr>\n",
       "      <th>4591</th>\n",
       "      <td>negative</td>\n",
       "      <td>Earlier today, Geberit's Finnish rival Uponor ...</td>\n",
       "      <td>오늘 초, 게베릿의 핀란드 경쟁사인 오노르 OYJ는 독일과 미국의 악조건과 통화 요...</td>\n",
       "    </tr>\n",
       "    <tr>\n",
       "      <th>2362</th>\n",
       "      <td>neutral</td>\n",
       "      <td>A meeting for the media and analysts will be h...</td>\n",
       "      <td>같은 날 오전 10시 30분 헬싱키의 스톤소프트 본사에서 언론과 분석가를 대상으로 ...</td>\n",
       "    </tr>\n",
       "    <tr>\n",
       "      <th>958</th>\n",
       "      <td>positive</td>\n",
       "      <td>Nordea sees a return to positive growth for th...</td>\n",
       "      <td>노르데아는 2011년 발트해 국가들의 성장률이 긍정적으로 회복될 것으로 보고 있다.</td>\n",
       "    </tr>\n",
       "    <tr>\n",
       "      <th>3020</th>\n",
       "      <td>neutral</td>\n",
       "      <td>Maggie Ramsey's wait - and those of thousands ...</td>\n",
       "      <td>매기 램지와 오리건주와 워싱턴주의 가이드들, 낚시꾼들, 그리고 그의 빈번한 세미나에...</td>\n",
       "    </tr>\n",
       "    <tr>\n",
       "      <th>1791</th>\n",
       "      <td>positive</td>\n",
       "      <td>The three year turn-around program is expected...</td>\n",
       "      <td>3년간의 턴어라운드 프로그램은 살로몬의 미래 경쟁력을 보장할 것으로 기대된다고 회사...</td>\n",
       "    </tr>\n",
       "    <tr>\n",
       "      <th>4053</th>\n",
       "      <td>negative</td>\n",
       "      <td>The stock was hit by the profit warning of Fin...</td>\n",
       "      <td>핀란드 경쟁자인 라우타루키 오이(OMX: RTRKS)의 이익 경고로 주가는 타격을 ...</td>\n",
       "    </tr>\n",
       "    <tr>\n",
       "      <th>2601</th>\n",
       "      <td>neutral</td>\n",
       "      <td>The company's plant in Russia will continue to...</td>\n",
       "      <td>이 회사의 러시아 공장은 인근 시장을 위한 타이어를 계속 생산할 것이며, 핀란드 노...</td>\n",
       "    </tr>\n",
       "    <tr>\n",
       "      <th>3540</th>\n",
       "      <td>neutral</td>\n",
       "      <td>Based in Helsinki, Finland, Ramirent has branc...</td>\n",
       "      <td>핀란드 헬싱키에 본사를 둔 라미렌트는 북유럽, 중부, 동유럽 13개국에 지사를 두고...</td>\n",
       "    </tr>\n",
       "    <tr>\n",
       "      <th>2026</th>\n",
       "      <td>positive</td>\n",
       "      <td>Lithuanian beer makers sold 256.88 million lit...</td>\n",
       "      <td>리투아니아 맥주 제조업체들은 2005년 2억5688만 리터의 맥주를 판매했는데 이는...</td>\n",
       "    </tr>\n",
       "    <tr>\n",
       "      <th>3515</th>\n",
       "      <td>neutral</td>\n",
       "      <td>Ahlstrom Corporation STOCK EXCHANGE ANNOUNCEME...</td>\n",
       "      <td>알스트롬 주식거래소 7.2.2.27 10시 30분에 발표 알스트롬 주식회사의 총 5...</td>\n",
       "    </tr>\n",
       "    <tr>\n",
       "      <th>263</th>\n",
       "      <td>positive</td>\n",
       "      <td>Passenger-related revenue rose by 5.1 % to EUR...</td>\n",
       "      <td>승객 관련 수익은 2009년 438.5 mn에서 460.8 mn으로 5.1 % 증가했다.</td>\n",
       "    </tr>\n",
       "    <tr>\n",
       "      <th>1548</th>\n",
       "      <td>neutral</td>\n",
       "      <td>It is part of the development of the world-cla...</td>\n",
       "      <td>카라라의 세계적인 자철석 퇴적물 개발의 일환으로, 30년 수명에 걸쳐 연간 3천만 ...</td>\n",
       "    </tr>\n",
       "    <tr>\n",
       "      <th>2591</th>\n",
       "      <td>neutral</td>\n",
       "      <td>The buyer is real estate owner Propertos Oy, b...</td>\n",
       "      <td>매수자는 부동산 소유자인 프로테토스 오이이지만, 그 회사들은 그 거래에 대한 재무 ...</td>\n",
       "    </tr>\n",
       "    <tr>\n",
       "      <th>1146</th>\n",
       "      <td>positive</td>\n",
       "      <td>Finnish Raisio ( Diagnostics ) is launching ne...</td>\n",
       "      <td>핀란드 건포도 진단기(Finnish Raisio Diagnostics, Finnis...</td>\n",
       "    </tr>\n",
       "    <tr>\n",
       "      <th>1994</th>\n",
       "      <td>positive</td>\n",
       "      <td>According to Finnish insurance companies Tapio...</td>\n",
       "      <td>핀란드 보험회사 타피올라(Tapiola), 현지 보험 그룹(L+Ahehivakuut...</td>\n",
       "    </tr>\n",
       "    <tr>\n",
       "      <th>1377</th>\n",
       "      <td>neutral</td>\n",
       "      <td>The end-to-end delivery combines the competenc...</td>\n",
       "      <td>엔드 투 엔드 제공은 TietoEnators Telecom &amp; Media, 프로세싱...</td>\n",
       "    </tr>\n",
       "    <tr>\n",
       "      <th>4829</th>\n",
       "      <td>negative</td>\n",
       "      <td>The OMX Helsinki index was 0.33 pct lower at 9...</td>\n",
       "      <td>OMX 헬싱키 지수는 0.33포인트 하락한 9,364.80을 기록했고, OMX 헬싱...</td>\n",
       "    </tr>\n",
       "    <tr>\n",
       "      <th>3406</th>\n",
       "      <td>neutral</td>\n",
       "      <td>The volume of investments in the two phases of...</td>\n",
       "      <td>프로젝트의 두 단계에 대한 투자 규모는 USD 3억 (유로 215.03 mn)으로 ...</td>\n",
       "    </tr>\n",
       "    <tr>\n",
       "      <th>3203</th>\n",
       "      <td>neutral</td>\n",
       "      <td>The company says the measures are no longer ne...</td>\n",
       "      <td>회사 측은 더 이상 조치가 필요하지 않다는 입장이다.</td>\n",
       "    </tr>\n",
       "    <tr>\n",
       "      <th>4242</th>\n",
       "      <td>neutral</td>\n",
       "      <td>The authorization is in force for a period of ...</td>\n",
       "      <td>인가는 총회의 의결로부터 18개월 동안 유효하다.</td>\n",
       "    </tr>\n",
       "    <tr>\n",
       "      <th>2255</th>\n",
       "      <td>positive</td>\n",
       "      <td>We can capitalize on our experience from a num...</td>\n",
       "      <td>우리는 북유럽 국가들의 여러 유사한 교량 프로젝트에서의 경험을 활용할 수 있습니다.</td>\n",
       "    </tr>\n",
       "    <tr>\n",
       "      <th>1416</th>\n",
       "      <td>neutral</td>\n",
       "      <td>The report profiles 614 companies including ma...</td>\n",
       "      <td>이 보고서는 블랙 앤 데커, 피스카스, 피스카스 브랜드, 후스크바르나 아웃도어 프로...</td>\n",
       "    </tr>\n",
       "    <tr>\n",
       "      <th>3423</th>\n",
       "      <td>neutral</td>\n",
       "      <td>This includes a EUR 39.5 mn change in the fair...</td>\n",
       "      <td>여기에는 투자부동산의 공정가치의 EUR 39.5 mn 변동이 포함된다.</td>\n",
       "    </tr>\n",
       "    <tr>\n",
       "      <th>2125</th>\n",
       "      <td>neutral</td>\n",
       "      <td>In January-September 2007, operating profit to...</td>\n",
       "      <td>2007년 1월부터 9월까지 영업이익은 총 20.5 유로였다.</td>\n",
       "    </tr>\n",
       "    <tr>\n",
       "      <th>544</th>\n",
       "      <td>negative</td>\n",
       "      <td>However, the growth margin slowed down due to ...</td>\n",
       "      <td>다만 금융위기로 인해 성장률이 둔화됐다.</td>\n",
       "    </tr>\n",
       "    <tr>\n",
       "      <th>1232</th>\n",
       "      <td>neutral</td>\n",
       "      <td>Glaston's well-known brands are Bavelloni, in ...</td>\n",
       "      <td>글래스톤의 잘 알려진 브랜드는 전처리 기계와 도구 분야의 바벨로니, 안전 유리 기계...</td>\n",
       "    </tr>\n",
       "    <tr>\n",
       "      <th>1295</th>\n",
       "      <td>neutral</td>\n",
       "      <td>Of course, you'll have direct access to Nokia'...</td>\n",
       "      <td>물론 노키아 Ovi 스토어에 직접 접속할 수 있기 때문에 좋아하는 미디어를 다운로드...</td>\n",
       "    </tr>\n",
       "    <tr>\n",
       "      <th>2260</th>\n",
       "      <td>positive</td>\n",
       "      <td>Brazilian non-profit interbank Camara Interban...</td>\n",
       "      <td>브라질 비영리 은행인 카마라 인터반카리아 지 파가멘토스 CIP가 미국의 비즈니스 통...</td>\n",
       "    </tr>\n",
       "    <tr>\n",
       "      <th>2115</th>\n",
       "      <td>neutral</td>\n",
       "      <td>In 2006, TeliaSonera net sales were SEK 91 bn,...</td>\n",
       "      <td>2006년 텔리아소네라 순매출액은 91억 크로네, EBITDA 순매출액은 32.26...</td>\n",
       "    </tr>\n",
       "  </tbody>\n",
       "</table>\n",
       "</div>"
      ],
      "text/plain": [
       "        labels                                           sentence  \\\n",
       "254   positive  Operating profit surged to EUR21m from EUR106 ...   \n",
       "4591  negative  Earlier today, Geberit's Finnish rival Uponor ...   \n",
       "2362   neutral  A meeting for the media and analysts will be h...   \n",
       "958   positive  Nordea sees a return to positive growth for th...   \n",
       "3020   neutral  Maggie Ramsey's wait - and those of thousands ...   \n",
       "1791  positive  The three year turn-around program is expected...   \n",
       "4053  negative  The stock was hit by the profit warning of Fin...   \n",
       "2601   neutral  The company's plant in Russia will continue to...   \n",
       "3540   neutral  Based in Helsinki, Finland, Ramirent has branc...   \n",
       "2026  positive  Lithuanian beer makers sold 256.88 million lit...   \n",
       "3515   neutral  Ahlstrom Corporation STOCK EXCHANGE ANNOUNCEME...   \n",
       "263   positive  Passenger-related revenue rose by 5.1 % to EUR...   \n",
       "1548   neutral  It is part of the development of the world-cla...   \n",
       "2591   neutral  The buyer is real estate owner Propertos Oy, b...   \n",
       "1146  positive  Finnish Raisio ( Diagnostics ) is launching ne...   \n",
       "1994  positive  According to Finnish insurance companies Tapio...   \n",
       "1377   neutral  The end-to-end delivery combines the competenc...   \n",
       "4829  negative  The OMX Helsinki index was 0.33 pct lower at 9...   \n",
       "3406   neutral  The volume of investments in the two phases of...   \n",
       "3203   neutral  The company says the measures are no longer ne...   \n",
       "4242   neutral  The authorization is in force for a period of ...   \n",
       "2255  positive  We can capitalize on our experience from a num...   \n",
       "1416   neutral  The report profiles 614 companies including ma...   \n",
       "3423   neutral  This includes a EUR 39.5 mn change in the fair...   \n",
       "2125   neutral  In January-September 2007, operating profit to...   \n",
       "544   negative  However, the growth margin slowed down due to ...   \n",
       "1232   neutral  Glaston's well-known brands are Bavelloni, in ...   \n",
       "1295   neutral  Of course, you'll have direct access to Nokia'...   \n",
       "2260  positive  Brazilian non-profit interbank Camara Interban...   \n",
       "2115   neutral  In 2006, TeliaSonera net sales were SEK 91 bn,...   \n",
       "\n",
       "                                           kor_sentence  \n",
       "254                 영업이익이 EUR106,000에서 EUR21M으로 급증했습니다.  \n",
       "4591  오늘 초, 게베릿의 핀란드 경쟁사인 오노르 OYJ는 독일과 미국의 악조건과 통화 요...  \n",
       "2362  같은 날 오전 10시 30분 헬싱키의 스톤소프트 본사에서 언론과 분석가를 대상으로 ...  \n",
       "958      노르데아는 2011년 발트해 국가들의 성장률이 긍정적으로 회복될 것으로 보고 있다.  \n",
       "3020  매기 램지와 오리건주와 워싱턴주의 가이드들, 낚시꾼들, 그리고 그의 빈번한 세미나에...  \n",
       "1791  3년간의 턴어라운드 프로그램은 살로몬의 미래 경쟁력을 보장할 것으로 기대된다고 회사...  \n",
       "4053  핀란드 경쟁자인 라우타루키 오이(OMX: RTRKS)의 이익 경고로 주가는 타격을 ...  \n",
       "2601  이 회사의 러시아 공장은 인근 시장을 위한 타이어를 계속 생산할 것이며, 핀란드 노...  \n",
       "3540  핀란드 헬싱키에 본사를 둔 라미렌트는 북유럽, 중부, 동유럽 13개국에 지사를 두고...  \n",
       "2026  리투아니아 맥주 제조업체들은 2005년 2억5688만 리터의 맥주를 판매했는데 이는...  \n",
       "3515  알스트롬 주식거래소 7.2.2.27 10시 30분에 발표 알스트롬 주식회사의 총 5...  \n",
       "263   승객 관련 수익은 2009년 438.5 mn에서 460.8 mn으로 5.1 % 증가했다.  \n",
       "1548  카라라의 세계적인 자철석 퇴적물 개발의 일환으로, 30년 수명에 걸쳐 연간 3천만 ...  \n",
       "2591  매수자는 부동산 소유자인 프로테토스 오이이지만, 그 회사들은 그 거래에 대한 재무 ...  \n",
       "1146  핀란드 건포도 진단기(Finnish Raisio Diagnostics, Finnis...  \n",
       "1994  핀란드 보험회사 타피올라(Tapiola), 현지 보험 그룹(L+Ahehivakuut...  \n",
       "1377  엔드 투 엔드 제공은 TietoEnators Telecom & Media, 프로세싱...  \n",
       "4829  OMX 헬싱키 지수는 0.33포인트 하락한 9,364.80을 기록했고, OMX 헬싱...  \n",
       "3406  프로젝트의 두 단계에 대한 투자 규모는 USD 3억 (유로 215.03 mn)으로 ...  \n",
       "3203                      회사 측은 더 이상 조치가 필요하지 않다는 입장이다.  \n",
       "4242                        인가는 총회의 의결로부터 18개월 동안 유효하다.  \n",
       "2255     우리는 북유럽 국가들의 여러 유사한 교량 프로젝트에서의 경험을 활용할 수 있습니다.  \n",
       "1416  이 보고서는 블랙 앤 데커, 피스카스, 피스카스 브랜드, 후스크바르나 아웃도어 프로...  \n",
       "3423            여기에는 투자부동산의 공정가치의 EUR 39.5 mn 변동이 포함된다.  \n",
       "2125                 2007년 1월부터 9월까지 영업이익은 총 20.5 유로였다.  \n",
       "544                              다만 금융위기로 인해 성장률이 둔화됐다.  \n",
       "1232  글래스톤의 잘 알려진 브랜드는 전처리 기계와 도구 분야의 바벨로니, 안전 유리 기계...  \n",
       "1295  물론 노키아 Ovi 스토어에 직접 접속할 수 있기 때문에 좋아하는 미디어를 다운로드...  \n",
       "2260  브라질 비영리 은행인 카마라 인터반카리아 지 파가멘토스 CIP가 미국의 비즈니스 통...  \n",
       "2115  2006년 텔리아소네라 순매출액은 91억 크로네, EBITDA 순매출액은 32.26...  "
      ]
     },
     "execution_count": 5,
     "metadata": {},
     "output_type": "execute_result"
    }
   ],
   "source": [
    "data.sample(30)"
   ]
  },
  {
   "cell_type": "code",
   "execution_count": 42,
   "id": "c947ed1a",
   "metadata": {
    "ExecuteTime": {
     "end_time": "2022-06-04T12:18:43.921130Z",
     "start_time": "2022-06-04T12:18:43.906141Z"
    }
   },
   "outputs": [
    {
     "data": {
      "text/html": [
       "<div>\n",
       "<style scoped>\n",
       "    .dataframe tbody tr th:only-of-type {\n",
       "        vertical-align: middle;\n",
       "    }\n",
       "\n",
       "    .dataframe tbody tr th {\n",
       "        vertical-align: top;\n",
       "    }\n",
       "\n",
       "    .dataframe thead th {\n",
       "        text-align: right;\n",
       "    }\n",
       "</style>\n",
       "<table border=\"1\" class=\"dataframe\">\n",
       "  <thead>\n",
       "    <tr style=\"text-align: right;\">\n",
       "      <th></th>\n",
       "      <th>labels</th>\n",
       "      <th>kor_sentence</th>\n",
       "    </tr>\n",
       "  </thead>\n",
       "  <tbody>\n",
       "    <tr>\n",
       "      <th>0</th>\n",
       "      <td>neutral</td>\n",
       "      <td>Gran에 따르면, 그 회사는 회사가 성장하고 있는 곳이지만, 모든 생산을 러시아로...</td>\n",
       "    </tr>\n",
       "    <tr>\n",
       "      <th>1</th>\n",
       "      <td>neutral</td>\n",
       "      <td>테크노폴리스는 컴퓨터 기술과 통신 분야에서 일하는 회사들을 유치하기 위해 10만 평...</td>\n",
       "    </tr>\n",
       "    <tr>\n",
       "      <th>2</th>\n",
       "      <td>negative</td>\n",
       "      <td>국제 전자산업 회사인 엘코텍은 탈린 공장에서 수십 명의 직원을 해고했으며, 이전의 ...</td>\n",
       "    </tr>\n",
       "    <tr>\n",
       "      <th>3</th>\n",
       "      <td>positive</td>\n",
       "      <td>새로운 생산공장으로 인해 회사는 예상되는 수요 증가를 충족시킬 수 있는 능력을 증가...</td>\n",
       "    </tr>\n",
       "    <tr>\n",
       "      <th>4</th>\n",
       "      <td>positive</td>\n",
       "      <td>2009-2012년 회사의 업데이트된 전략에 따르면, Basware는 20% - 4...</td>\n",
       "    </tr>\n",
       "  </tbody>\n",
       "</table>\n",
       "</div>"
      ],
      "text/plain": [
       "     labels                                       kor_sentence\n",
       "0   neutral  Gran에 따르면, 그 회사는 회사가 성장하고 있는 곳이지만, 모든 생산을 러시아로...\n",
       "1   neutral  테크노폴리스는 컴퓨터 기술과 통신 분야에서 일하는 회사들을 유치하기 위해 10만 평...\n",
       "2  negative  국제 전자산업 회사인 엘코텍은 탈린 공장에서 수십 명의 직원을 해고했으며, 이전의 ...\n",
       "3  positive  새로운 생산공장으로 인해 회사는 예상되는 수요 증가를 충족시킬 수 있는 능력을 증가...\n",
       "4  positive  2009-2012년 회사의 업데이트된 전략에 따르면, Basware는 20% - 4..."
      ]
     },
     "execution_count": 42,
     "metadata": {},
     "output_type": "execute_result"
    }
   ],
   "source": [
    "data = data.drop(columns=['sentence'])\n",
    "data.head()"
   ]
  },
  {
   "cell_type": "code",
   "execution_count": 43,
   "id": "532d099b",
   "metadata": {
    "ExecuteTime": {
     "end_time": "2022-06-04T12:18:45.979363Z",
     "start_time": "2022-06-04T12:18:45.960413Z"
    }
   },
   "outputs": [
    {
     "data": {
      "text/html": [
       "<div>\n",
       "<style scoped>\n",
       "    .dataframe tbody tr th:only-of-type {\n",
       "        vertical-align: middle;\n",
       "    }\n",
       "\n",
       "    .dataframe tbody tr th {\n",
       "        vertical-align: top;\n",
       "    }\n",
       "\n",
       "    .dataframe thead th {\n",
       "        text-align: right;\n",
       "    }\n",
       "</style>\n",
       "<table border=\"1\" class=\"dataframe\">\n",
       "  <thead>\n",
       "    <tr style=\"text-align: right;\">\n",
       "      <th></th>\n",
       "      <th>labels</th>\n",
       "      <th>kor_sentence</th>\n",
       "    </tr>\n",
       "  </thead>\n",
       "  <tbody>\n",
       "    <tr>\n",
       "      <th>0</th>\n",
       "      <td>0</td>\n",
       "      <td>Gran에 따르면, 그 회사는 회사가 성장하고 있는 곳이지만, 모든 생산을 러시아로...</td>\n",
       "    </tr>\n",
       "    <tr>\n",
       "      <th>1</th>\n",
       "      <td>0</td>\n",
       "      <td>테크노폴리스는 컴퓨터 기술과 통신 분야에서 일하는 회사들을 유치하기 위해 10만 평...</td>\n",
       "    </tr>\n",
       "    <tr>\n",
       "      <th>2</th>\n",
       "      <td>2</td>\n",
       "      <td>국제 전자산업 회사인 엘코텍은 탈린 공장에서 수십 명의 직원을 해고했으며, 이전의 ...</td>\n",
       "    </tr>\n",
       "    <tr>\n",
       "      <th>3</th>\n",
       "      <td>1</td>\n",
       "      <td>새로운 생산공장으로 인해 회사는 예상되는 수요 증가를 충족시킬 수 있는 능력을 증가...</td>\n",
       "    </tr>\n",
       "    <tr>\n",
       "      <th>4</th>\n",
       "      <td>1</td>\n",
       "      <td>2009-2012년 회사의 업데이트된 전략에 따르면, Basware는 20% - 4...</td>\n",
       "    </tr>\n",
       "  </tbody>\n",
       "</table>\n",
       "</div>"
      ],
      "text/plain": [
       "   labels                                       kor_sentence\n",
       "0       0  Gran에 따르면, 그 회사는 회사가 성장하고 있는 곳이지만, 모든 생산을 러시아로...\n",
       "1       0  테크노폴리스는 컴퓨터 기술과 통신 분야에서 일하는 회사들을 유치하기 위해 10만 평...\n",
       "2       2  국제 전자산업 회사인 엘코텍은 탈린 공장에서 수십 명의 직원을 해고했으며, 이전의 ...\n",
       "3       1  새로운 생산공장으로 인해 회사는 예상되는 수요 증가를 충족시킬 수 있는 능력을 증가...\n",
       "4       1  2009-2012년 회사의 업데이트된 전략에 따르면, Basware는 20% - 4..."
      ]
     },
     "execution_count": 43,
     "metadata": {},
     "output_type": "execute_result"
    }
   ],
   "source": [
    "data['labels'] = data['labels'].replace(['neutral', 'positive', 'negative'],[0, 1, 2])\n",
    "data.head()"
   ]
  },
  {
   "cell_type": "code",
   "execution_count": 44,
   "id": "81664b3d",
   "metadata": {
    "ExecuteTime": {
     "end_time": "2022-06-04T12:18:46.540962Z",
     "start_time": "2022-06-04T12:18:46.521984Z"
    }
   },
   "outputs": [
    {
     "name": "stdout",
     "output_type": "stream",
     "text": [
      "결측값 여부 : False\n"
     ]
    }
   ],
   "source": [
    "print('결측값 여부 :',data.isnull().values.any())"
   ]
  },
  {
   "cell_type": "code",
   "execution_count": 45,
   "id": "46536208",
   "metadata": {
    "ExecuteTime": {
     "end_time": "2022-06-04T12:18:47.555103Z",
     "start_time": "2022-06-04T12:18:47.536123Z"
    }
   },
   "outputs": [
    {
     "data": {
      "text/html": [
       "<div>\n",
       "<style scoped>\n",
       "    .dataframe tbody tr th:only-of-type {\n",
       "        vertical-align: middle;\n",
       "    }\n",
       "\n",
       "    .dataframe tbody tr th {\n",
       "        vertical-align: top;\n",
       "    }\n",
       "\n",
       "    .dataframe thead th {\n",
       "        text-align: right;\n",
       "    }\n",
       "</style>\n",
       "<table border=\"1\" class=\"dataframe\">\n",
       "  <thead>\n",
       "    <tr style=\"text-align: right;\">\n",
       "      <th></th>\n",
       "      <th>labels</th>\n",
       "      <th>kor_sentence</th>\n",
       "    </tr>\n",
       "  </thead>\n",
       "  <tbody>\n",
       "    <tr>\n",
       "      <th>1099</th>\n",
       "      <td>0</td>\n",
       "      <td>이 발표 내용에 대한 책임은 전적으로 발행자에게 있습니다.</td>\n",
       "    </tr>\n",
       "    <tr>\n",
       "      <th>1394</th>\n",
       "      <td>0</td>\n",
       "      <td>핀란드 헬싱키에 본사를 둔 레민카이넨 그룹은 토목 공학, 건축 계약, 기술 건축 서...</td>\n",
       "    </tr>\n",
       "    <tr>\n",
       "      <th>1416</th>\n",
       "      <td>0</td>\n",
       "      <td>이 보고서는 블랙 앤 데커, 피스카스, 피스카스 브랜드, 후스크바르나 아웃도어 프로...</td>\n",
       "    </tr>\n",
       "    <tr>\n",
       "      <th>2396</th>\n",
       "      <td>0</td>\n",
       "      <td>알스트롬의 주가는 나스닥 OMX 헬싱키에서 인용되고 있다.</td>\n",
       "    </tr>\n",
       "    <tr>\n",
       "      <th>2567</th>\n",
       "      <td>0</td>\n",
       "      <td>SSH 통신 보안 코퍼레이션은 핀란드 헬싱키에 본사를 두고 있다.</td>\n",
       "    </tr>\n",
       "    <tr>\n",
       "      <th>2889</th>\n",
       "      <td>0</td>\n",
       "      <td>재정적인 세부사항은 공개되지 않았다.</td>\n",
       "    </tr>\n",
       "    <tr>\n",
       "      <th>2890</th>\n",
       "      <td>0</td>\n",
       "      <td>재정적인 세부사항은 공개되지 않았다.</td>\n",
       "    </tr>\n",
       "    <tr>\n",
       "      <th>2892</th>\n",
       "      <td>0</td>\n",
       "      <td>금융 조건은 공개되지 않았다.</td>\n",
       "    </tr>\n",
       "    <tr>\n",
       "      <th>3050</th>\n",
       "      <td>0</td>\n",
       "      <td>재정적인 세부사항은 제공되지 않았다.</td>\n",
       "    </tr>\n",
       "    <tr>\n",
       "      <th>3051</th>\n",
       "      <td>0</td>\n",
       "      <td>재정적인 세부사항은 공개되지 않았다.</td>\n",
       "    </tr>\n",
       "    <tr>\n",
       "      <th>3094</th>\n",
       "      <td>0</td>\n",
       "      <td>Proha Plc (Euronext :7327)는 오늘 (5월 19일) 완전 소유 ...</td>\n",
       "    </tr>\n",
       "    <tr>\n",
       "      <th>3206</th>\n",
       "      <td>0</td>\n",
       "      <td>공정 및 자원, 산업기계, 건축, 건축, 건설, 전기, 운송, 전자, 화학, 석유화...</td>\n",
       "    </tr>\n",
       "    <tr>\n",
       "      <th>3350</th>\n",
       "      <td>0</td>\n",
       "      <td>판매 가격은 공개되지 않았다.</td>\n",
       "    </tr>\n",
       "    <tr>\n",
       "      <th>3538</th>\n",
       "      <td>0</td>\n",
       "      <td>아스포의 그룹 구조와 비즈니스 운영은 미리 정의된 일정 없이 지속적으로 개발됩니다.</td>\n",
       "    </tr>\n",
       "    <tr>\n",
       "      <th>3617</th>\n",
       "      <td>0</td>\n",
       "      <td>2007년에 에트플랜은 125.2m의 회전율을 기록했다.</td>\n",
       "    </tr>\n",
       "    <tr>\n",
       "      <th>3938</th>\n",
       "      <td>0</td>\n",
       "      <td>그 거래의 가치는 공개되지 않았다.</td>\n",
       "    </tr>\n",
       "  </tbody>\n",
       "</table>\n",
       "</div>"
      ],
      "text/plain": [
       "      labels                                       kor_sentence\n",
       "1099       0                   이 발표 내용에 대한 책임은 전적으로 발행자에게 있습니다.\n",
       "1394       0  핀란드 헬싱키에 본사를 둔 레민카이넨 그룹은 토목 공학, 건축 계약, 기술 건축 서...\n",
       "1416       0  이 보고서는 블랙 앤 데커, 피스카스, 피스카스 브랜드, 후스크바르나 아웃도어 프로...\n",
       "2396       0                   알스트롬의 주가는 나스닥 OMX 헬싱키에서 인용되고 있다.\n",
       "2567       0               SSH 통신 보안 코퍼레이션은 핀란드 헬싱키에 본사를 두고 있다.\n",
       "2889       0                               재정적인 세부사항은 공개되지 않았다.\n",
       "2890       0                               재정적인 세부사항은 공개되지 않았다.\n",
       "2892       0                                   금융 조건은 공개되지 않았다.\n",
       "3050       0                               재정적인 세부사항은 제공되지 않았다.\n",
       "3051       0                               재정적인 세부사항은 공개되지 않았다.\n",
       "3094       0  Proha Plc (Euronext :7327)는 오늘 (5월 19일) 완전 소유 ...\n",
       "3206       0  공정 및 자원, 산업기계, 건축, 건축, 건설, 전기, 운송, 전자, 화학, 석유화...\n",
       "3350       0                                   판매 가격은 공개되지 않았다.\n",
       "3538       0     아스포의 그룹 구조와 비즈니스 운영은 미리 정의된 일정 없이 지속적으로 개발됩니다.\n",
       "3617       0                    2007년에 에트플랜은 125.2m의 회전율을 기록했다.\n",
       "3938       0                                그 거래의 가치는 공개되지 않았다."
      ]
     },
     "execution_count": 45,
     "metadata": {},
     "output_type": "execute_result"
    }
   ],
   "source": [
    "duplicated = data[data.duplicated()]\n",
    "duplicated"
   ]
  },
  {
   "cell_type": "code",
   "execution_count": 46,
   "id": "ae81de2a",
   "metadata": {
    "ExecuteTime": {
     "end_time": "2022-06-04T12:18:48.053919Z",
     "start_time": "2022-06-04T12:18:48.032948Z"
    }
   },
   "outputs": [
    {
     "name": "stdout",
     "output_type": "stream",
     "text": [
      "총 샘플의 수 : 4827\n"
     ]
    }
   ],
   "source": [
    "# 중복 제거\n",
    "data.drop_duplicates(subset=['kor_sentence'], inplace=True)\n",
    "print('총 샘플의 수 :',len(data))"
   ]
  },
  {
   "cell_type": "code",
   "execution_count": 47,
   "id": "f234e38a",
   "metadata": {
    "ExecuteTime": {
     "end_time": "2022-06-04T12:18:48.599465Z",
     "start_time": "2022-06-04T12:18:48.587517Z"
    }
   },
   "outputs": [
    {
     "name": "stdout",
     "output_type": "stream",
     "text": [
      "레이블의 분포\n",
      "   labels  count\n",
      "0       0   2861\n",
      "1       1   1362\n",
      "2       2    604\n"
     ]
    }
   ],
   "source": [
    "print('레이블의 분포')\n",
    "print(data.groupby('labels').size().reset_index(name='count'))"
   ]
  },
  {
   "cell_type": "code",
   "execution_count": 48,
   "id": "c827ca3e",
   "metadata": {
    "ExecuteTime": {
     "end_time": "2022-06-04T12:18:48.833277Z",
     "start_time": "2022-06-04T12:18:48.818288Z"
    }
   },
   "outputs": [],
   "source": [
    "X_data = data['kor_sentence']\n",
    "y_data = data['labels']"
   ]
  },
  {
   "cell_type": "code",
   "execution_count": 49,
   "id": "9a78e1ae",
   "metadata": {
    "ExecuteTime": {
     "end_time": "2022-06-04T12:18:49.111919Z",
     "start_time": "2022-06-04T12:18:49.088018Z"
    }
   },
   "outputs": [],
   "source": [
    "X_train, X_test, y_train, y_test = train_test_split(X_data, y_data, test_size=0.2, random_state=0, stratify=y_data)"
   ]
  },
  {
   "cell_type": "code",
   "execution_count": 50,
   "id": "c37db54f",
   "metadata": {
    "ExecuteTime": {
     "end_time": "2022-06-04T12:18:49.298075Z",
     "start_time": "2022-06-04T12:18:49.280125Z"
    }
   },
   "outputs": [
    {
     "name": "stdout",
     "output_type": "stream",
     "text": [
      "훈련 샘플의 개수 : 3861\n",
      "테스트 샘플의 개수 : 966\n"
     ]
    }
   ],
   "source": [
    "print('훈련 샘플의 개수 :', len(X_train))\n",
    "print('테스트 샘플의 개수 :', len(X_test))"
   ]
  },
  {
   "cell_type": "code",
   "execution_count": 51,
   "id": "d2f35a0a",
   "metadata": {
    "ExecuteTime": {
     "end_time": "2022-06-04T12:18:49.486017Z",
     "start_time": "2022-06-04T12:18:49.480008Z"
    }
   },
   "outputs": [
    {
     "data": {
      "text/plain": [
       "2049     보험사는 노르데아의 순이익에서 노르데아가 차지하는 비중이 상당할 것으로 예상하고 있다.\n",
       "129                            백화점 부서는 매출이 4% 증가했다고 보고했다.\n",
       "272                     이 기간의 이익은 1.3 mn에서 5.9 mn으로 증가했다.\n",
       "3261    정부는 대신 LMT에 대한 국가 지분을 텔리아소네라의 라떼레콤 지분에 교환할 것을 ...\n",
       "3937                    거래 금액은 SEK25m에서 SEK50m 사이로 추정됩니다.\n",
       "                              ...                        \n",
       "1834                                핀란드는 적극적인 배송이 필수적입니다.\n",
       "2934    헬싱키(Thomson Financial) - M-real은 키로오이로부터 약 13m...\n",
       "415     tinyurl 링크는 사용자들이 구글 (NASDAQ : GOOG) 캐시 광고주가 됨...\n",
       "2489                        아이온파스의 2대 주주는 벤처캐피털 아우라캐피탈이다.\n",
       "341     보고기간 중 순매출은 2008-09년 상반기에 실현된 사업인수 영향으로 전년 동기 ...\n",
       "Name: kor_sentence, Length: 3861, dtype: object"
      ]
     },
     "execution_count": 51,
     "metadata": {},
     "output_type": "execute_result"
    }
   ],
   "source": [
    "X_train"
   ]
  },
  {
   "cell_type": "code",
   "execution_count": 52,
   "id": "e04346c1",
   "metadata": {
    "ExecuteTime": {
     "end_time": "2022-06-04T12:18:49.659346Z",
     "start_time": "2022-06-04T12:18:49.643423Z"
    }
   },
   "outputs": [
    {
     "data": {
      "text/plain": [
       "0    0.592852\n",
       "1    0.282051\n",
       "2    0.125097\n",
       "Name: labels, dtype: float64"
      ]
     },
     "execution_count": 52,
     "metadata": {},
     "output_type": "execute_result"
    }
   ],
   "source": [
    "# 훈련 데이터 라벨별 비율\n",
    "y_train.value_counts(normalize = True)"
   ]
  },
  {
   "cell_type": "code",
   "execution_count": 53,
   "id": "dca33c0e",
   "metadata": {
    "ExecuteTime": {
     "end_time": "2022-06-04T12:18:49.845677Z",
     "start_time": "2022-06-04T12:18:49.826729Z"
    }
   },
   "outputs": [
    {
     "data": {
      "text/plain": [
       "0    0.592133\n",
       "1    0.282609\n",
       "2    0.125259\n",
       "Name: labels, dtype: float64"
      ]
     },
     "execution_count": 53,
     "metadata": {},
     "output_type": "execute_result"
    }
   ],
   "source": [
    "# 테스트 데이터 라벨별 비율\n",
    "y_test.value_counts(normalize = True)"
   ]
  },
  {
   "cell_type": "code",
   "execution_count": null,
   "id": "905249ad",
   "metadata": {},
   "outputs": [],
   "source": []
  },
  {
   "cell_type": "markdown",
   "id": "5432340a",
   "metadata": {},
   "source": [
    "## BERT 입력용 데이터 포맷으로 변경"
   ]
  },
  {
   "cell_type": "code",
   "execution_count": 54,
   "id": "d5995542",
   "metadata": {
    "ExecuteTime": {
     "end_time": "2022-06-04T12:18:50.333936Z",
     "start_time": "2022-06-04T12:18:50.327970Z"
    }
   },
   "outputs": [],
   "source": [
    "MAX_SEQ_LEN = 64"
   ]
  },
  {
   "cell_type": "code",
   "execution_count": 55,
   "id": "351384b4",
   "metadata": {
    "ExecuteTime": {
     "end_time": "2022-06-04T12:18:50.537858Z",
     "start_time": "2022-06-04T12:18:50.531881Z"
    }
   },
   "outputs": [],
   "source": [
    "def convert_data(X_data, y_data):\n",
    "    # BERT 입력으로 들어가는 token, mask, segment, target 저장용 리스트\n",
    "    tokens, masks, segments, targets = [], [], [], []\n",
    "    \n",
    "    for X, y in tqdm(zip(X_data, y_data)):\n",
    "        # token: 입력 문장 토큰화\n",
    "        token = tokenizer.encode(X, truncation = True, padding = 'max_length', max_length = MAX_SEQ_LEN)\n",
    "        \n",
    "        # Mask: 토큰화한 문장 내 패딩이 아닌 경우 1, 패딩인 경우 0으로 초기화\n",
    "        num_zeros = token.count(0)\n",
    "        mask = [1] * (MAX_SEQ_LEN - num_zeros) + [0] * num_zeros\n",
    "        \n",
    "        # segment: 문장 전후관계 구분: 오직 한 문장이므로 모두 0으로 초기화\n",
    "        segment = [0]*MAX_SEQ_LEN\n",
    "\n",
    "        tokens.append(token)\n",
    "        masks.append(mask)\n",
    "        segments.append(segment)\n",
    "        targets.append(y)\n",
    "\n",
    "    # numpy array로 저장\n",
    "    tokens = np.array(tokens)\n",
    "    masks = np.array(masks)\n",
    "    segments = np.array(segments)\n",
    "    targets = np.array(targets)\n",
    "\n",
    "    return [tokens, masks, segments], targets"
   ]
  },
  {
   "cell_type": "code",
   "execution_count": 56,
   "id": "7a98444e",
   "metadata": {
    "ExecuteTime": {
     "end_time": "2022-06-04T12:18:52.155102Z",
     "start_time": "2022-06-04T12:18:50.713416Z"
    }
   },
   "outputs": [
    {
     "name": "stderr",
     "output_type": "stream",
     "text": [
      "3861it [00:01, 3506.63it/s]\n",
      "966it [00:00, 3534.61it/s]\n"
     ]
    }
   ],
   "source": [
    "# train 데이터를 Bert의 Input 타입에 맞게 변환\n",
    "train_x, train_y = convert_data(X_train, y_train)\n",
    "\n",
    "# test 데이터를 Bert의 Input 타입에 맞게 변환\n",
    "test_x, test_y = convert_data(X_test, y_test)"
   ]
  },
  {
   "cell_type": "code",
   "execution_count": 57,
   "id": "6e0ff507",
   "metadata": {
    "ExecuteTime": {
     "end_time": "2022-06-04T12:18:52.215866Z",
     "start_time": "2022-06-04T12:18:52.201943Z"
    }
   },
   "outputs": [
    {
     "data": {
      "text/plain": [
       "31488"
      ]
     },
     "execution_count": 57,
     "metadata": {},
     "output_type": "execute_result"
    }
   ],
   "source": [
    "train_x[0].max()"
   ]
  },
  {
   "cell_type": "code",
   "execution_count": 58,
   "id": "bc6cfc13",
   "metadata": {
    "ExecuteTime": {
     "end_time": "2022-06-04T12:18:52.262737Z",
     "start_time": "2022-06-04T12:18:52.247747Z"
    }
   },
   "outputs": [
    {
     "data": {
      "text/plain": [
       "1"
      ]
     },
     "execution_count": 58,
     "metadata": {},
     "output_type": "execute_result"
    }
   ],
   "source": [
    "train_x[1].max()"
   ]
  },
  {
   "cell_type": "code",
   "execution_count": 59,
   "id": "ef77acf5",
   "metadata": {
    "ExecuteTime": {
     "end_time": "2022-06-04T12:18:52.308614Z",
     "start_time": "2022-06-04T12:18:52.294652Z"
    }
   },
   "outputs": [
    {
     "data": {
      "text/plain": [
       "0"
      ]
     },
     "execution_count": 59,
     "metadata": {},
     "output_type": "execute_result"
    }
   ],
   "source": [
    "train_x[2].max()"
   ]
  },
  {
   "cell_type": "code",
   "execution_count": 60,
   "id": "9f3931db",
   "metadata": {
    "ExecuteTime": {
     "end_time": "2022-06-04T12:18:52.619916Z",
     "start_time": "2022-06-04T12:18:52.608946Z"
    }
   },
   "outputs": [
    {
     "data": {
      "text/plain": [
       "2049    1\n",
       "129     1\n",
       "272     1\n",
       "3261    0\n",
       "3937    0\n",
       "       ..\n",
       "1834    0\n",
       "2934    1\n",
       "415     2\n",
       "2489    0\n",
       "341     1\n",
       "Name: labels, Length: 3861, dtype: int64"
      ]
     },
     "execution_count": 60,
     "metadata": {},
     "output_type": "execute_result"
    }
   ],
   "source": [
    "y_train"
   ]
  },
  {
   "cell_type": "code",
   "execution_count": 61,
   "id": "55b7ca6b",
   "metadata": {
    "ExecuteTime": {
     "end_time": "2022-06-04T12:18:53.256674Z",
     "start_time": "2022-06-04T12:18:53.248687Z"
    }
   },
   "outputs": [
    {
     "data": {
      "text/plain": [
       "2347    0\n",
       "2963    0\n",
       "4423    2\n",
       "4735    2\n",
       "2487    0\n",
       "       ..\n",
       "3907    0\n",
       "957     1\n",
       "275     1\n",
       "2448    0\n",
       "2440    0\n",
       "Name: labels, Length: 966, dtype: int64"
      ]
     },
     "execution_count": 61,
     "metadata": {},
     "output_type": "execute_result"
    }
   ],
   "source": [
    "y_test"
   ]
  },
  {
   "cell_type": "code",
   "execution_count": 62,
   "id": "993a39bc",
   "metadata": {
    "ExecuteTime": {
     "end_time": "2022-06-04T12:18:53.570354Z",
     "start_time": "2022-06-04T12:18:53.553400Z"
    }
   },
   "outputs": [],
   "source": [
    "# token, mask, segment 입력 정의\n",
    "token_inputs = tf.keras.layers.Input((MAX_SEQ_LEN,), dtype = tf.int32, name = 'input_word_ids')\n",
    "mask_inputs = tf.keras.layers.Input((MAX_SEQ_LEN,), dtype = tf.int32, name = 'input_masks')\n",
    "segment_inputs = tf.keras.layers.Input((MAX_SEQ_LEN,), dtype = tf.int32, name = 'input_segment')\n"
   ]
  },
  {
   "cell_type": "markdown",
   "id": "3dbe40b9",
   "metadata": {},
   "source": [
    "## BERT출력 정의"
   ]
  },
  {
   "cell_type": "code",
   "execution_count": 63,
   "id": "dd9aece7",
   "metadata": {
    "ExecuteTime": {
     "end_time": "2022-06-04T12:18:55.658490Z",
     "start_time": "2022-06-04T12:18:54.692153Z"
    }
   },
   "outputs": [],
   "source": [
    "bert_outputs = model([token_inputs, mask_inputs, segment_inputs])\n",
    "bert_output = bert_outputs[0]"
   ]
  },
  {
   "cell_type": "markdown",
   "id": "eb1ce231",
   "metadata": {},
   "source": [
    "## 감정분류모델 컴파일"
   ]
  },
  {
   "cell_type": "code",
   "execution_count": 64,
   "id": "e2fd7e01",
   "metadata": {
    "ExecuteTime": {
     "end_time": "2022-06-04T12:18:55.705639Z",
     "start_time": "2022-06-04T12:18:55.691416Z"
    }
   },
   "outputs": [],
   "source": [
    "DROPOUT_RATE = 0.5\n",
    "NUM_CLASS = 3\n",
    "dropout = tf.keras.layers.Dropout(DROPOUT_RATE)(bert_output)\n",
    "# Multi-class classification 문제이므로 activation function은 softmax로 설정\n",
    "sentiment_layer = tf.keras.layers.Dense(NUM_CLASS, activation='softmax', kernel_initializer = tf.keras.initializers.TruncatedNormal(stddev=0.02))(dropout)\n",
    "sentiment_model = tf.keras.Model([token_inputs, mask_inputs, segment_inputs], sentiment_layer)\n"
   ]
  },
  {
   "cell_type": "code",
   "execution_count": 65,
   "id": "dda34ac4",
   "metadata": {
    "ExecuteTime": {
     "end_time": "2022-06-04T12:18:56.249505Z",
     "start_time": "2022-06-04T12:18:56.237537Z"
    }
   },
   "outputs": [],
   "source": [
    "# 옵티마이저 Rectified Adam 하이퍼파리미터 조정\n",
    "\n",
    "OPTIMIZER_NAME = 'RAdam'\n",
    "LEARNING_RATE = 5e-5\n",
    "TOTAL_STEPS = 10000\n",
    "MIN_LR = 1e-5\n",
    "WARMUP_PROPORTION = 0.1\n",
    "EPSILON = 1e-8\n",
    "CLIPNORM = 1.0\n",
    "optimizer = tfa.optimizers.RectifiedAdam(learning_rate = LEARNING_RATE,\n",
    "                                          total_steps = TOTAL_STEPS, \n",
    "                                          warmup_proportion = WARMUP_PROPORTION, \n",
    "                                          min_lr = MIN_LR, \n",
    "                                          epsilon = EPSILON,\n",
    "                                          clipnorm = CLIPNORM)"
   ]
  },
  {
   "cell_type": "code",
   "execution_count": 66,
   "id": "fdfd6968",
   "metadata": {
    "ExecuteTime": {
     "end_time": "2022-06-04T12:18:56.843349Z",
     "start_time": "2022-06-04T12:18:56.830385Z"
    }
   },
   "outputs": [],
   "source": [
    "# 감정분류 모델 컴파일\n",
    "sentiment_model.compile(optimizer = optimizer, \n",
    "                        loss = tf.keras.losses.SparseCategoricalCrossentropy(), \n",
    "                        metrics = ['accuracy'])"
   ]
  },
  {
   "cell_type": "code",
   "execution_count": 67,
   "id": "5ddd71d1",
   "metadata": {
    "ExecuteTime": {
     "end_time": "2022-06-04T12:18:57.482174Z",
     "start_time": "2022-06-04T12:18:57.464222Z"
    }
   },
   "outputs": [],
   "source": [
    "MIN_DELTA = 1e-3\n",
    "PATIENCE = 5\n",
    "\n",
    "early_stopping = EarlyStopping(\n",
    "    monitor = \"val_accuracy\", \n",
    "    min_delta = MIN_DELTA,\n",
    "    patience = PATIENCE)"
   ]
  },
  {
   "cell_type": "code",
   "execution_count": 68,
   "id": "306c7d07",
   "metadata": {
    "ExecuteTime": {
     "end_time": "2022-06-04T12:18:58.025275Z",
     "start_time": "2022-06-04T12:18:58.008320Z"
    }
   },
   "outputs": [],
   "source": [
    "# 최고 성능의 모델 파일을 저장할 이름과 경로 설정\n",
    "BEST_MODEL_NAME = './data/model/best_model.h5'\n",
    "model_checkpoint = ModelCheckpoint(\n",
    "    filepath = BEST_MODEL_NAME,\n",
    "    monitor = \"val_loss\",\n",
    "    mode = \"min\",\n",
    "    save_best_only = True, # 성능 향상 시에만 모델 저장\n",
    "    verbose = 1\n",
    ")"
   ]
  },
  {
   "cell_type": "code",
   "execution_count": 69,
   "id": "53d432f7",
   "metadata": {
    "ExecuteTime": {
     "end_time": "2022-06-04T12:18:58.476098Z",
     "start_time": "2022-06-04T12:18:58.465133Z"
    }
   },
   "outputs": [],
   "source": [
    "callbacks = [early_stopping, model_checkpoint]"
   ]
  },
  {
   "cell_type": "code",
   "execution_count": 73,
   "id": "15906635",
   "metadata": {
    "ExecuteTime": {
     "end_time": "2022-06-05T08:48:10.327416Z",
     "start_time": "2022-06-05T08:48:10.320443Z"
    }
   },
   "outputs": [],
   "source": [
    "EPOCHS = 100\n",
    "BATCH_SZIE = 32\n",
    "\n",
    "sentiment_model.fit(train_x, train_y, \n",
    "                    epochs = EPOCHS, \n",
    "                    shuffle = True, \n",
    "                    batch_size = BATCH_SZIE, \n",
    "                    validation_data = (test_x, test_y),\n",
    "                    callbacks = callbacks\n",
    "                    )"
   ]
  },
  {
   "cell_type": "code",
   "execution_count": 39,
   "id": "10c6585c",
   "metadata": {
    "ExecuteTime": {
     "end_time": "2022-06-04T12:16:31.188063Z",
     "start_time": "2022-06-04T12:16:31.184040Z"
    }
   },
   "outputs": [
    {
     "data": {
      "text/plain": [
       "31474"
      ]
     },
     "execution_count": 39,
     "metadata": {},
     "output_type": "execute_result"
    }
   ],
   "source": [
    "test_x[0].max()"
   ]
  },
  {
   "cell_type": "code",
   "execution_count": null,
   "id": "cae5cec9",
   "metadata": {},
   "outputs": [],
   "source": []
  },
  {
   "cell_type": "code",
   "execution_count": null,
   "id": "5036ff5b",
   "metadata": {},
   "outputs": [],
   "source": []
  },
  {
   "cell_type": "code",
   "execution_count": null,
   "id": "f7c11735",
   "metadata": {},
   "outputs": [],
   "source": []
  },
  {
   "cell_type": "code",
   "execution_count": null,
   "id": "deea8ac1",
   "metadata": {},
   "outputs": [],
   "source": []
  },
  {
   "cell_type": "code",
   "execution_count": null,
   "id": "802e94b1",
   "metadata": {},
   "outputs": [],
   "source": []
  },
  {
   "cell_type": "code",
   "execution_count": null,
   "id": "ffe25d95",
   "metadata": {},
   "outputs": [],
   "source": []
  },
  {
   "cell_type": "code",
   "execution_count": null,
   "id": "0b206064",
   "metadata": {},
   "outputs": [],
   "source": [
    "# 최고 성능의 모델 불러오기\n",
    "sentiment_model_best = tf.keras.models.load_model(BEST_MODEL_NAME,\n",
    "                                                  custom_objects={'TFBertForSequenceClassification': TFBertForSequenceClassification})"
   ]
  },
  {
   "cell_type": "code",
   "execution_count": null,
   "id": "6b0d49ea",
   "metadata": {},
   "outputs": [],
   "source": [
    "# 모델이 예측한 라벨 도출\n",
    "predicted_value = sentiment_model_best.predict(test_x)\n",
    "predicted_label = np.argmax(predicted_value, axis = 1)"
   ]
  },
  {
   "cell_type": "code",
   "execution_count": null,
   "id": "56b56715",
   "metadata": {},
   "outputs": [],
   "source": [
    "# Classification Report 저장\n",
    "CL_REPORT_FILE = \"./data/metric/cl_report.csv\"\n",
    "\n",
    "cl_report = classification_report(test_y, predicted_label, output_dict = True)\n",
    "cl_report_df = pd.DataFrame(cl_report).transpose()\n",
    "cl_report_df = cl_report_df.round(3)\n",
    "cl_report_df.to_csv(CL_REPORT_FILE)\n",
    "print(cl_report_df)"
   ]
  },
  {
   "cell_type": "code",
   "execution_count": null,
   "id": "8dee71a8",
   "metadata": {},
   "outputs": [],
   "source": []
  },
  {
   "cell_type": "markdown",
   "id": "a0c9beb2",
   "metadata": {
    "ExecuteTime": {
     "end_time": "2022-06-04T15:34:34.547597Z",
     "start_time": "2022-06-04T15:34:34.535602Z"
    }
   },
   "source": [
    "# 모델에 넣어줄 텍스트 데이터 전처리 함수:  text_data()"
   ]
  },
  {
   "cell_type": "markdown",
   "id": "97d6f4a6",
   "metadata": {},
   "source": [
    "## 저장된 모델 불러오기"
   ]
  },
  {
   "cell_type": "code",
   "execution_count": 6,
   "id": "ae2ddde3",
   "metadata": {
    "ExecuteTime": {
     "end_time": "2022-06-07T04:06:47.163436Z",
     "start_time": "2022-06-07T04:06:41.487023Z"
    }
   },
   "outputs": [],
   "source": [
    "# 최고 성능의 모델 불러오기\n",
    "BEST_MODEL_NAME = './data/model/best_model.h5'\n",
    "sentiment_model_best = tf.keras.models.load_model(BEST_MODEL_NAME,\n",
    "                                                  custom_objects={'TFBertForSequenceClassification': TFBertForSequenceClassification})"
   ]
  },
  {
   "cell_type": "code",
   "execution_count": 11,
   "id": "dfae8f46",
   "metadata": {
    "ExecuteTime": {
     "end_time": "2022-06-07T04:07:46.943124Z",
     "start_time": "2022-06-07T04:07:46.924146Z"
    }
   },
   "outputs": [],
   "source": [
    "MAX_SEQ_LEN = 64\n",
    "def text_data(X_data):\n",
    "    # BERT 입력으로 들어가는 token, mask, segment, target 저장용 리스트\n",
    "    tokens, masks, segments, targets = [], [], [], []\n",
    "    \n",
    "    for X in tqdm(X_data):\n",
    "        # token: 입력 문장 토큰화\n",
    "        token = tokenizer.encode(X, truncation = True, padding = 'max_length', max_length = MAX_SEQ_LEN)\n",
    "        \n",
    "        # Mask: 토큰화한 문장 내 패딩이 아닌 경우 1, 패딩인 경우 0으로 초기화\n",
    "        num_zeros = token.count(0)\n",
    "        mask = [1] * (MAX_SEQ_LEN - num_zeros) + [0] * num_zeros\n",
    "        \n",
    "        # segment: 문장 전후관계 구분: 오직 한 문장이므로 모두 0으로 초기화\n",
    "        segment = [0]*MAX_SEQ_LEN\n",
    "\n",
    "        tokens.append(token)\n",
    "        masks.append(mask)\n",
    "        segments.append(segment)\n",
    "\n",
    "\n",
    "    # numpy array로 저장\n",
    "    tokens = np.array(tokens)\n",
    "    masks = np.array(masks)\n",
    "    segments = np.array(segments)\n",
    "\n",
    "\n",
    "    return [tokens, masks, segments]"
   ]
  },
  {
   "cell_type": "code",
   "execution_count": null,
   "id": "66f359ec",
   "metadata": {},
   "outputs": [],
   "source": []
  },
  {
   "cell_type": "code",
   "execution_count": 12,
   "id": "b784b76a",
   "metadata": {
    "ExecuteTime": {
     "end_time": "2022-06-07T04:07:48.841638Z",
     "start_time": "2022-06-07T04:07:48.825652Z"
    }
   },
   "outputs": [
    {
     "data": {
      "text/html": [
       "<div>\n",
       "<style scoped>\n",
       "    .dataframe tbody tr th:only-of-type {\n",
       "        vertical-align: middle;\n",
       "    }\n",
       "\n",
       "    .dataframe tbody tr th {\n",
       "        vertical-align: top;\n",
       "    }\n",
       "\n",
       "    .dataframe thead th {\n",
       "        text-align: right;\n",
       "    }\n",
       "</style>\n",
       "<table border=\"1\" class=\"dataframe\">\n",
       "  <thead>\n",
       "    <tr style=\"text-align: right;\">\n",
       "      <th></th>\n",
       "      <th>날짜</th>\n",
       "      <th>뉴스제목</th>\n",
       "      <th>뉴스요약</th>\n",
       "    </tr>\n",
       "  </thead>\n",
       "  <tbody>\n",
       "    <tr>\n",
       "      <th>1313</th>\n",
       "      <td>2016-01-04</td>\n",
       "      <td>AJ네트웍스, SKB 등에업고 '고리사채급 위약금 폭탄'</td>\n",
       "      <td>AJ네트웍스가 SK브로드밴드를 통해 진행중인 '스마트렌탈'의 위약금 규정 및 취급상...</td>\n",
       "    </tr>\n",
       "    <tr>\n",
       "      <th>1312</th>\n",
       "      <td>2016-01-05</td>\n",
       "      <td>AJ네트웍스, 스마트폰, 태블릿PC 렌탈사업 시작</td>\n",
       "      <td>국내 IT기기 렌탈의 선두주자인 AJ네트웍스에서 Mobile Device(스마트폰,...</td>\n",
       "    </tr>\n",
       "    <tr>\n",
       "      <th>1311</th>\n",
       "      <td>2016-01-06</td>\n",
       "      <td>AJ네트웍스, 스마트폰, 태블릿PC 등 Mobile Device 렌탈 사업 시작</td>\n",
       "      <td>국내 IT기기 렌탈의 선두주자인 AJ네트웍스에서 Mobile Device(스마트폰,...</td>\n",
       "    </tr>\n",
       "    <tr>\n",
       "      <th>1332</th>\n",
       "      <td>2016-01-13</td>\n",
       "      <td>AJ네트웍스, 파렛트및 고소장비 렌탈 신규 서비스 브랜드 런칭</td>\n",
       "      <td>AJ네트웍스(사장 반채운)가 파렛트와 고소장비 렌탈 부문의 신규 서비스 브랜드를 런...</td>\n",
       "    </tr>\n",
       "    <tr>\n",
       "      <th>1335</th>\n",
       "      <td>2016-01-22</td>\n",
       "      <td>대상·AJ네트웍스 등 비우량채도 잇달아 발행 성공</td>\n",
       "      <td>신용등급이 BBB+인 AJ네트웍스도 회사채 발행을 위해 지난 20일 투자자들을 대상...</td>\n",
       "    </tr>\n",
       "  </tbody>\n",
       "</table>\n",
       "</div>"
      ],
      "text/plain": [
       "              날짜                                          뉴스제목  \\\n",
       "1313  2016-01-04               AJ네트웍스, SKB 등에업고 '고리사채급 위약금 폭탄'   \n",
       "1312  2016-01-05                   AJ네트웍스, 스마트폰, 태블릿PC 렌탈사업 시작   \n",
       "1311  2016-01-06  AJ네트웍스, 스마트폰, 태블릿PC 등 Mobile Device 렌탈 사업 시작   \n",
       "1332  2016-01-13            AJ네트웍스, 파렛트및 고소장비 렌탈 신규 서비스 브랜드 런칭   \n",
       "1335  2016-01-22                   대상·AJ네트웍스 등 비우량채도 잇달아 발행 성공   \n",
       "\n",
       "                                                   뉴스요약  \n",
       "1313  AJ네트웍스가 SK브로드밴드를 통해 진행중인 '스마트렌탈'의 위약금 규정 및 취급상...  \n",
       "1312  국내 IT기기 렌탈의 선두주자인 AJ네트웍스에서 Mobile Device(스마트폰,...  \n",
       "1311  국내 IT기기 렌탈의 선두주자인 AJ네트웍스에서 Mobile Device(스마트폰,...  \n",
       "1332  AJ네트웍스(사장 반채운)가 파렛트와 고소장비 렌탈 부문의 신규 서비스 브랜드를 런...  \n",
       "1335  신용등급이 BBB+인 AJ네트웍스도 회사채 발행을 위해 지난 20일 투자자들을 대상...  "
      ]
     },
     "execution_count": 12,
     "metadata": {},
     "output_type": "execute_result"
    }
   ],
   "source": [
    "df_n = pd.read_csv('./data/개별기업뉴스_전처리/AJ네트웍스.csv',index_col=0)\n",
    "df_n.head()"
   ]
  },
  {
   "cell_type": "code",
   "execution_count": 13,
   "id": "4dd74437",
   "metadata": {
    "ExecuteTime": {
     "end_time": "2022-06-07T04:07:49.044072Z",
     "start_time": "2022-06-07T04:07:49.034070Z"
    }
   },
   "outputs": [
    {
     "data": {
      "text/plain": [
       "907"
      ]
     },
     "execution_count": 13,
     "metadata": {},
     "output_type": "execute_result"
    }
   ],
   "source": [
    "news_data = df_n['뉴스제목']\n",
    "len(news_data)"
   ]
  },
  {
   "cell_type": "code",
   "execution_count": 14,
   "id": "1e378386",
   "metadata": {
    "ExecuteTime": {
     "end_time": "2022-06-07T04:07:49.753800Z",
     "start_time": "2022-06-07T04:07:49.530560Z"
    }
   },
   "outputs": [
    {
     "name": "stderr",
     "output_type": "stream",
     "text": [
      "100%|██████████████████████████████████████████████████████████████████████████████| 907/907 [00:00<00:00, 4687.91it/s]\n"
     ]
    },
    {
     "data": {
      "text/plain": [
       "[array([[    2,    37,  2303, ...,     0,     0,     0],\n",
       "        [    2,    37,  2303, ...,     0,     0,     0],\n",
       "        [    2,    37,  2303, ...,     0,     0,     0],\n",
       "        ...,\n",
       "        [    2,    63, 15726, ...,     0,     0,     0],\n",
       "        [    2,    63, 18487, ...,     0,     0,     0],\n",
       "        [    2,    63,  4816, ...,     0,     0,     0]]),\n",
       " array([[1, 1, 1, ..., 0, 0, 0],\n",
       "        [1, 1, 1, ..., 0, 0, 0],\n",
       "        [1, 1, 1, ..., 0, 0, 0],\n",
       "        ...,\n",
       "        [1, 1, 1, ..., 0, 0, 0],\n",
       "        [1, 1, 1, ..., 0, 0, 0],\n",
       "        [1, 1, 1, ..., 0, 0, 0]]),\n",
       " array([[0, 0, 0, ..., 0, 0, 0],\n",
       "        [0, 0, 0, ..., 0, 0, 0],\n",
       "        [0, 0, 0, ..., 0, 0, 0],\n",
       "        ...,\n",
       "        [0, 0, 0, ..., 0, 0, 0],\n",
       "        [0, 0, 0, ..., 0, 0, 0],\n",
       "        [0, 0, 0, ..., 0, 0, 0]])]"
      ]
     },
     "execution_count": 14,
     "metadata": {},
     "output_type": "execute_result"
    }
   ],
   "source": [
    "news_x = text_data(news_data)\n",
    "news_x"
   ]
  },
  {
   "cell_type": "markdown",
   "id": "040a932a",
   "metadata": {},
   "source": [
    "## 예측 결과"
   ]
  },
  {
   "cell_type": "code",
   "execution_count": 15,
   "id": "645713ee",
   "metadata": {
    "ExecuteTime": {
     "end_time": "2022-06-07T04:07:59.595285Z",
     "start_time": "2022-06-07T04:07:55.193015Z"
    }
   },
   "outputs": [
    {
     "data": {
      "text/plain": [
       "array([0, 0, 0, 0, 0, 1, 1, 0, 1, 1, 0, 0, 0, 0, 0, 0, 1, 0, 1, 0, 0, 2,\n",
       "       2, 0, 0, 0, 0, 0, 1, 1, 2, 1, 0, 0, 0, 0, 1, 1, 1, 0, 0, 0, 0, 0,\n",
       "       1, 1, 1, 1, 1, 1, 0, 0, 1, 0, 0, 0, 1, 0, 2, 0, 0, 0, 0, 1, 1, 0,\n",
       "       0, 1, 0, 0, 1, 0, 0, 0, 1, 1, 1, 1, 0, 1, 0, 0, 0, 0, 0, 1, 0, 0,\n",
       "       0, 0, 0, 1, 1, 1, 0, 1, 1, 1, 0, 0, 0, 0, 0, 1, 1, 2, 0, 0, 0, 1,\n",
       "       0, 0, 0, 0, 0, 0, 0, 0, 0, 1, 0, 0, 0, 0, 0, 0, 1, 1, 1, 1, 1, 1,\n",
       "       1, 0, 1, 1, 1, 1, 1, 1, 0, 0, 2, 0, 0, 2, 0, 0, 0, 0, 2, 0, 1, 1,\n",
       "       1, 0, 0, 1, 1, 1, 1, 1, 1, 1, 1, 1, 2, 2, 2, 1, 0, 0, 0, 2, 0, 2,\n",
       "       0, 2, 0, 2, 0, 1, 1, 1, 1, 1, 0, 1, 0, 1, 2, 0, 2, 0, 1, 0, 0, 0,\n",
       "       2, 0, 0, 0, 0, 0, 0, 0, 0, 0, 0, 2, 0, 0, 0, 0, 0, 0, 0, 1, 0, 0,\n",
       "       0, 0, 0, 0, 0, 0, 0, 0, 0, 0, 0, 0, 0, 0, 0, 0, 1, 1, 1, 0, 0, 0,\n",
       "       0, 0, 0, 0, 0, 0, 0, 0, 0, 0, 0, 0, 0, 0, 0, 0, 0, 0, 0, 0, 0, 0,\n",
       "       0, 2, 0, 1, 0, 2, 1, 0, 0, 1, 0, 0, 1, 0, 0, 0, 0, 0, 1, 1, 0, 0,\n",
       "       0, 1, 1, 0, 0, 1, 0, 1, 1, 0, 0, 0, 0, 0, 0, 0, 0, 1, 0, 0, 0, 0,\n",
       "       0, 0, 0, 0, 0, 1, 0, 0, 0, 0, 0, 0, 1, 1, 0, 0, 0, 0, 1, 1, 0, 0,\n",
       "       0, 0, 0, 0, 1, 0, 0, 1, 0, 1, 0, 1, 1, 0, 0, 0, 1, 1, 1, 0, 1, 1,\n",
       "       1, 0, 0, 0, 1, 0, 0, 1, 0, 0, 1, 0, 0, 0, 0, 0, 0, 1, 1, 0, 0, 1,\n",
       "       0, 0, 0, 0, 0, 0, 0, 0, 0, 0, 0, 0, 0, 0, 0, 0, 0, 0, 0, 0, 0, 0,\n",
       "       2, 0, 0, 0, 0, 0, 1, 0, 1, 0, 0, 0, 0, 2, 1, 0, 0, 0, 0, 0, 0, 0,\n",
       "       0, 1, 0, 0, 0, 0, 0, 0, 0, 0, 0, 0, 0, 0, 1, 1, 0, 0, 1, 0, 0, 0,\n",
       "       0, 0, 0, 0, 0, 0, 0, 0, 0, 0, 0, 0, 0, 0, 0, 0, 0, 0, 0, 0, 0, 0,\n",
       "       0, 0, 1, 0, 1, 1, 0, 0, 0, 0, 0, 0, 0, 0, 0, 0, 0, 1, 0, 1, 0, 1,\n",
       "       1, 0, 0, 0, 0, 0, 0, 0, 0, 1, 1, 1, 0, 1, 1, 1, 0, 1, 1, 1, 0, 0,\n",
       "       0, 1, 0, 0, 0, 0, 0, 0, 1, 0, 0, 0, 0, 1, 0, 0, 0, 0, 1, 1, 1, 1,\n",
       "       1, 1, 0, 0, 1, 0, 0, 0, 0, 0, 0, 1, 0, 0, 0, 0, 0, 0, 0, 0, 0, 0,\n",
       "       0, 0, 1, 1, 0, 0, 1, 1, 1, 1, 0, 0, 1, 0, 1, 0, 0, 1, 0, 1, 0, 0,\n",
       "       0, 0, 0, 1, 1, 1, 1, 1, 1, 0, 1, 1, 1, 1, 1, 1, 0, 1, 1, 0, 1, 0,\n",
       "       0, 0, 1, 1, 1, 0, 1, 1, 0, 1, 0, 0, 0, 0, 1, 1, 0, 1, 0, 0, 0, 1,\n",
       "       0, 0, 0, 0, 0, 0, 0, 0, 0, 0, 0, 0, 1, 0, 0, 0, 0, 1, 0, 1, 1, 0,\n",
       "       0, 0, 1, 1, 0, 0, 0, 0, 0, 1, 0, 0, 1, 1, 0, 0, 1, 0, 0, 1, 0, 1,\n",
       "       0, 0, 0, 0, 0, 1, 0, 0, 1, 0, 1, 0, 0, 0, 1, 1, 1, 0, 0, 0, 0, 0,\n",
       "       1, 0, 0, 1, 0, 1, 1, 1, 1, 0, 0, 1, 0, 1, 0, 2, 0, 2, 1, 0, 0, 1,\n",
       "       0, 0, 0, 1, 1, 1, 1, 1, 1, 1, 0, 1, 1, 1, 1, 1, 1, 1, 0, 2, 1, 1,\n",
       "       0, 2, 2, 2, 0, 1, 0, 0, 0, 0, 1, 1, 1, 1, 1, 1, 1, 1, 0, 1, 0, 1,\n",
       "       0, 0, 1, 0, 1, 0, 2, 0, 1, 2, 0, 0, 0, 0, 0, 0, 0, 0, 1, 1, 0, 1,\n",
       "       1, 1, 0, 0, 1, 0, 0, 1, 1, 1, 1, 0, 0, 1, 1, 2, 2, 1, 1, 0, 0, 0,\n",
       "       1, 0, 0, 1, 0, 0, 0, 1, 1, 0, 0, 0, 0, 0, 0, 2, 0, 2, 0, 0, 1, 0,\n",
       "       0, 0, 0, 0, 0, 0, 0, 0, 0, 0, 0, 0, 0, 0, 1, 0, 0, 1, 0, 1, 1, 0,\n",
       "       1, 0, 1, 0, 1, 0, 0, 0, 1, 0, 0, 0, 1, 0, 0, 0, 0, 1, 0, 0, 1, 0,\n",
       "       0, 0, 0, 0, 1, 1, 1, 0, 0, 0, 0, 2, 2, 0, 0, 0, 0, 0, 0, 0, 0, 0,\n",
       "       0, 1, 0, 0, 0, 1, 0, 1, 0, 0, 1, 1, 0, 0, 0, 0, 1, 0, 1, 0, 1, 1,\n",
       "       1, 0, 1, 0, 1], dtype=int64)"
      ]
     },
     "execution_count": 15,
     "metadata": {},
     "output_type": "execute_result"
    }
   ],
   "source": [
    "predicted_value = sentiment_model_best.predict(news_x)\n",
    "predicted_label = np.argmax(predicted_value, axis = 1)\n",
    "predicted_label"
   ]
  },
  {
   "cell_type": "code",
   "execution_count": 19,
   "id": "09d74c3c",
   "metadata": {
    "ExecuteTime": {
     "end_time": "2022-06-07T04:10:10.151071Z",
     "start_time": "2022-06-07T04:10:10.140100Z"
    }
   },
   "outputs": [],
   "source": [
    "pos_idx = np.where(predicted_label==1)\n",
    "neg_idx = np.where(predicted_label==2)\n",
    "neu_idx = np.where(predicted_label==0)"
   ]
  },
  {
   "cell_type": "code",
   "execution_count": 24,
   "id": "d4692799",
   "metadata": {
    "ExecuteTime": {
     "end_time": "2022-06-07T04:11:30.123010Z",
     "start_time": "2022-06-07T04:11:30.108024Z"
    }
   },
   "outputs": [
    {
     "name": "stdout",
     "output_type": "stream",
     "text": [
      "긍정개수 : 284\n",
      "부정개수 : 37\n",
      "중립개수 : 586\n"
     ]
    }
   ],
   "source": [
    "print('긍정개수 :', sum(predicted_label ==1))\n",
    "print('부정개수 :', sum(predicted_label ==2))\n",
    "print('중립개수 :', sum(predicted_label ==0))"
   ]
  },
  {
   "cell_type": "code",
   "execution_count": 23,
   "id": "3f6fc473",
   "metadata": {
    "ExecuteTime": {
     "end_time": "2022-06-07T04:11:07.213976Z",
     "start_time": "2022-06-07T04:11:07.194060Z"
    }
   },
   "outputs": [
    {
     "data": {
      "text/plain": [
       "586"
      ]
     },
     "execution_count": 23,
     "metadata": {},
     "output_type": "execute_result"
    }
   ],
   "source": []
  },
  {
   "cell_type": "markdown",
   "id": "0f4a04d3",
   "metadata": {},
   "source": [
    "### 긍정"
   ]
  },
  {
   "cell_type": "code",
   "execution_count": 93,
   "id": "3fb533ae",
   "metadata": {
    "ExecuteTime": {
     "end_time": "2022-06-05T14:49:54.534160Z",
     "start_time": "2022-06-05T14:49:54.516208Z"
    }
   },
   "outputs": [
    {
     "data": {
      "text/html": [
       "<div>\n",
       "<style scoped>\n",
       "    .dataframe tbody tr th:only-of-type {\n",
       "        vertical-align: middle;\n",
       "    }\n",
       "\n",
       "    .dataframe tbody tr th {\n",
       "        vertical-align: top;\n",
       "    }\n",
       "\n",
       "    .dataframe thead th {\n",
       "        text-align: right;\n",
       "    }\n",
       "</style>\n",
       "<table border=\"1\" class=\"dataframe\">\n",
       "  <thead>\n",
       "    <tr style=\"text-align: right;\">\n",
       "      <th></th>\n",
       "      <th>날짜</th>\n",
       "      <th>뉴스제목</th>\n",
       "      <th>뉴스요약</th>\n",
       "    </tr>\n",
       "  </thead>\n",
       "  <tbody>\n",
       "    <tr>\n",
       "      <th>1338</th>\n",
       "      <td>2016-03-02</td>\n",
       "      <td>[종목전략플러스] AJ네트웍스...렌탈 업계의 절대 강자!</td>\n",
       "      <td>마감전략 플러스 '종목전략 플러스'- 유안타증권 영업부 박우경 과장[AJ네트웍스(0...</td>\n",
       "    </tr>\n",
       "    <tr>\n",
       "      <th>1318</th>\n",
       "      <td>2016-03-22</td>\n",
       "      <td>AJ네트웍스, 신규사업 본격 추진…성장구간 진입-유안타</td>\n",
       "      <td>AJ네트웍스 사업부문별 매출액 추이. 유안타증권은 22일 AJ네트웍스(095570)...</td>\n",
       "    </tr>\n",
       "    <tr>\n",
       "      <th>1305</th>\n",
       "      <td>2016-05-01</td>\n",
       "      <td>'BBB+' AJ네트웍스, 높은 수익성에 수요예측 호조</td>\n",
       "      <td>[안정적 영업기반·재무구조 개선 부각…하이일드 펀드 '눈독'] AJ네트웍스가 BBB...</td>\n",
       "    </tr>\n",
       "    <tr>\n",
       "      <th>1323</th>\n",
       "      <td>2016-05-31</td>\n",
       "      <td>[@기업분석리포트]AJ네트웍스, \"예견된 1Q16 실...\"매수(유지)_한국</td>\n",
       "      <td>한국증권은 31일 AJ네트웍스(095570)에 대해 \"예견된 1Q16 실적 부진\"라...</td>\n",
       "    </tr>\n",
       "    <tr>\n",
       "      <th>1289</th>\n",
       "      <td>2016-07-11</td>\n",
       "      <td>[@테마]AJ네트웍스_관련종목들 상승 우위, 서비스업업종 +0.45%</td>\n",
       "      <td>관련종목들 가운데 위험도는 낮지만 성과는 좋아 11일 오후 12시5분 현재 전일대비...</td>\n",
       "    </tr>\n",
       "    <tr>\n",
       "      <th>1287</th>\n",
       "      <td>2016-07-28</td>\n",
       "      <td>AJ네트웍스, 日·베트남·사우디로 렌탈사업 확대</td>\n",
       "      <td>AJ네트웍스, 업계 최초로 해외 현지업체에 건설장비 공급 반채운 대표가 건설장비 모...</td>\n",
       "    </tr>\n",
       "    <tr>\n",
       "      <th>1275</th>\n",
       "      <td>2016-09-07</td>\n",
       "      <td>캠퍼스라이프-AJ네트웍스, 스마트 캠퍼스 구축 위한 MOU 체결</td>\n",
       "      <td>캠퍼스라이프는 AJ네트웍스와의 업무 협약을 통해 향후 스마트 캠퍼스 구축에 앞장설 ...</td>\n",
       "    </tr>\n",
       "    <tr>\n",
       "      <th>1274</th>\n",
       "      <td>2016-09-07</td>\n",
       "      <td>[@테마]AJ네트웍스_증권사 목표주가 50,000원, 현재주가 대비 62% 추가 상승여</td>\n",
       "      <td>관련종목들 가운데 변동폭 커도 수익율은 낮아 7일 오후 1시25분 현재 전일대비 2...</td>\n",
       "    </tr>\n",
       "    <tr>\n",
       "      <th>1329</th>\n",
       "      <td>2016-09-19</td>\n",
       "      <td>[fnRASSI]AJ네트웍스 전일대비 22.73% 상승</td>\n",
       "      <td>현재 AJ네트웍스(095570)는 전일대비 22.73% 상승하여 37,800원 선에...</td>\n",
       "    </tr>\n",
       "    <tr>\n",
       "      <th>1334</th>\n",
       "      <td>2016-10-07</td>\n",
       "      <td>[fnRASSI]AJ네트웍스(095570) 5.3% 상승</td>\n",
       "      <td>현재 AJ네트웍스(095570)는 전일대비 5.3% 상승하여 33,800원 선에서 ...</td>\n",
       "    </tr>\n",
       "    <tr>\n",
       "      <th>1328</th>\n",
       "      <td>2016-10-11</td>\n",
       "      <td>[@테마]AJ네트웍스_외국인과 기관 모두 집중 매수中 현재 +3.42% 4일간 올라</td>\n",
       "      <td>어제까지 2일 연속 동시 순매수를 기록한 AJ네트웍스는 오늘도 1150원(3.42%...</td>\n",
       "    </tr>\n",
       "    <tr>\n",
       "      <th>1265</th>\n",
       "      <td>2016-10-31</td>\n",
       "      <td>[로봇뉴스]AJ네트웍스_관련종목들 가운데 변동폭 작아도 수익율은 높아</td>\n",
       "      <td>관련종목들 가운데 변동폭 작아도 수익율은 높아 31일 오후 1시50분 현재 전일대비...</td>\n",
       "    </tr>\n",
       "    <tr>\n",
       "      <th>1317</th>\n",
       "      <td>2016-11-30</td>\n",
       "      <td>AJ네트웍스, 액면분할 결정…\"유동성 확대 주가안정 기대\"</td>\n",
       "      <td>[EBN 김지웅 기자] 종합렌탈업체 AJ네트웍스는 유통주식수 확대를 위해 액면분할을...</td>\n",
       "    </tr>\n",
       "    <tr>\n",
       "      <th>1327</th>\n",
       "      <td>2016-11-30</td>\n",
       "      <td>[로봇뉴스]AJ네트웍스, \"나무랄데 없는 종합…\" 매수(신규)-KB투자증권</td>\n",
       "      <td>KB투자증권에서 30일 AJ네트웍스(095570)에 대해 \"나무랄데 없는 종합 렌탈...</td>\n",
       "    </tr>\n",
       "    <tr>\n",
       "      <th>2448</th>\n",
       "      <td>2016-11-30</td>\n",
       "      <td>AJ네트웍스, 유동성 확보용 액면분할…\"주가 안정될 것\"</td>\n",
       "      <td>AJ네트웍스는 3분기 개별 기준 매출액 1691억원, 영업이익 199억원으로 전년동...</td>\n",
       "    </tr>\n",
       "    <tr>\n",
       "      <th>2447</th>\n",
       "      <td>2016-11-30</td>\n",
       "      <td>AJ네트웍스 1045% 성장.. ‘亞太 고속성장 500대 기업’중 48위</td>\n",
       "      <td>딜로이트 글로벌 선정 AJ네트웍스 1천% 성장 48위 한국 기업 50개사가 최근 3...</td>\n",
       "    </tr>\n",
       "    <tr>\n",
       "      <th>1257</th>\n",
       "      <td>2016-12-07</td>\n",
       "      <td>AJ네트웍스, 렌터카 부진에 '후진'…B2B렌털로 반등 기회 잡을까</td>\n",
       "      <td>빅데이터 이 종목 핵심 자회사 AJ렌터카 수익 악화 주가 올들어 40% 이상 하락 ...</td>\n",
       "    </tr>\n",
       "    <tr>\n",
       "      <th>1315</th>\n",
       "      <td>2016-12-09</td>\n",
       "      <td>[로봇뉴스]AJ네트웍스, \"2017년에도 렌탈…\" 매수(유지)-LIG투자증권</td>\n",
       "      <td>LIG투자증권에서 9일 AJ네트웍스(095570)에 대해 \"2017년에도 렌탈산업의...</td>\n",
       "    </tr>\n",
       "    <tr>\n",
       "      <th>1245</th>\n",
       "      <td>2017-01-17</td>\n",
       "      <td>AJ네트웍스 ‘리터너블 케이스’로 사업확장</td>\n",
       "      <td>종합렌탈기업 AJ네트웍스가 회수 가능한 수출용 자동차 부품 전용 ‘리터너블 케이스(...</td>\n",
       "    </tr>\n",
       "    <tr>\n",
       "      <th>1595</th>\n",
       "      <td>2017-02-07</td>\n",
       "      <td>[로봇뉴스]AJ네트웍스, \"과도한 주가 조정은…\" 매수(유지)-KB증권</td>\n",
       "      <td>KB증권에서 7일 AJ네트웍스(095570)에 대해 \"과도한 주가 조정은 장기적 관...</td>\n",
       "    </tr>\n",
       "    <tr>\n",
       "      <th>1242</th>\n",
       "      <td>2017-04-12</td>\n",
       "      <td>[ET투자뉴스]AJ네트웍스_관련종목들과 비교해서 변동성이 작아도 상승률은 높...</td>\n",
       "      <td>관련종목들과 비교해서 변동성이 작아도 상승률은 높은 편 12일 오후 12시5분 현재...</td>\n",
       "    </tr>\n",
       "    <tr>\n",
       "      <th>1325</th>\n",
       "      <td>2017-04-13</td>\n",
       "      <td>[fnRASSI]AJ네트웍스, 2.11% 오르며 거래량 증가</td>\n",
       "      <td>AJ네트웍스(095570)는 당일 거래량 증가로 최근 5거래일 거래량의 최고치를 경...</td>\n",
       "    </tr>\n",
       "    <tr>\n",
       "      <th>1316</th>\n",
       "      <td>2017-05-16</td>\n",
       "      <td>[생생코스닥] AJ네트웍스, 1분기 영업익 218억원…전년比 45.5%↑</td>\n",
       "      <td>- 파렛트, 고소장비 등 영업기반 확대…실적 호조세 종합 렌탈기업 AJ네트웍스는 올...</td>\n",
       "    </tr>\n",
       "    <tr>\n",
       "      <th>1235</th>\n",
       "      <td>2017-06-09</td>\n",
       "      <td>[더벨]AJ네트웍스, '파렛트·건설장비' 효자 노릇</td>\n",
       "      <td>스탠다드차타드 프라이빗에쿼티(SC PE)가 소수 지분을 보유하고 있는 AJ네트웍스 ...</td>\n",
       "    </tr>\n",
       "    <tr>\n",
       "      <th>1582</th>\n",
       "      <td>2017-06-19</td>\n",
       "      <td>[ET투자뉴스]AJ네트웍스, \"이보다 꾸준할 순 …\" 매수(유지)-KB증권</td>\n",
       "      <td>KB증권에서 19일 AJ네트웍스(095570)에 대해 \"이보다 꾸준할 순 없다\"라며...</td>\n",
       "    </tr>\n",
       "    <tr>\n",
       "      <th>1309</th>\n",
       "      <td>2017-06-19</td>\n",
       "      <td>[Hot-Line] \"AJ네트웍스, 지속 성장 전망\"…목표가↑</td>\n",
       "      <td>자료 제공 = KB증권KB증권은 19일 AJ네트웍스에 대해 전 사업부에 걸쳐 고른 ...</td>\n",
       "    </tr>\n",
       "    <tr>\n",
       "      <th>1233</th>\n",
       "      <td>2017-06-19</td>\n",
       "      <td>AJ네트웍스, B2B 렌털 시장점유율 확대…‘매수’-하나</td>\n",
       "      <td>파렛트 렌탈 시장규모 및 AJ네트웍스 점유율 추이. 하나금융투자는 19일 AJ네트웍...</td>\n",
       "    </tr>\n",
       "    <tr>\n",
       "      <th>1324</th>\n",
       "      <td>2017-06-21</td>\n",
       "      <td>[fnRASSI]AJ네트웍스, 3.58% 내리며 거래량 증가</td>\n",
       "      <td>AJ네트웍스(095570)의 당일 거래량이 최근 5거래일 거래량의 최고치를 넘어서며...</td>\n",
       "    </tr>\n",
       "    <tr>\n",
       "      <th>1228</th>\n",
       "      <td>2017-07-17</td>\n",
       "      <td>올림플래닛, AJ네트웍스와 전략적 MOU</td>\n",
       "      <td>[이데일리 e뉴스 최성근 기자] 올림플래닛과 AJ네트웍스가 전략적 업무협약(MOU)...</td>\n",
       "    </tr>\n",
       "    <tr>\n",
       "      <th>1222</th>\n",
       "      <td>2017-08-01</td>\n",
       "      <td>[레이더M] 하이일드債 매력 확대…AJ네트웍스 회사채 완판</td>\n",
       "      <td>신용등급 부담 불구 200억 모집에 330억 몰려…BBB債 잇단 흥행 [본 기사는 ...</td>\n",
       "    </tr>\n",
       "  </tbody>\n",
       "</table>\n",
       "</div>"
      ],
      "text/plain": [
       "              날짜                                              뉴스제목  \\\n",
       "1338  2016-03-02                  [종목전략플러스] AJ네트웍스...렌탈 업계의 절대 강자!   \n",
       "1318  2016-03-22                    AJ네트웍스, 신규사업 본격 추진…성장구간 진입-유안타   \n",
       "1305  2016-05-01                    'BBB+' AJ네트웍스, 높은 수익성에 수요예측 호조   \n",
       "1323  2016-05-31        [@기업분석리포트]AJ네트웍스, \"예견된 1Q16 실...\"매수(유지)_한국   \n",
       "1289  2016-07-11            [@테마]AJ네트웍스_관련종목들 상승 우위, 서비스업업종 +0.45%   \n",
       "1287  2016-07-28                        AJ네트웍스, 日·베트남·사우디로 렌탈사업 확대   \n",
       "1275  2016-09-07               캠퍼스라이프-AJ네트웍스, 스마트 캠퍼스 구축 위한 MOU 체결   \n",
       "1274  2016-09-07  [@테마]AJ네트웍스_증권사 목표주가 50,000원, 현재주가 대비 62% 추가 상승여   \n",
       "1329  2016-09-19                    [fnRASSI]AJ네트웍스 전일대비 22.73% 상승   \n",
       "1334  2016-10-07                   [fnRASSI]AJ네트웍스(095570) 5.3% 상승   \n",
       "1328  2016-10-11    [@테마]AJ네트웍스_외국인과 기관 모두 집중 매수中 현재 +3.42% 4일간 올라   \n",
       "1265  2016-10-31            [로봇뉴스]AJ네트웍스_관련종목들 가운데 변동폭 작아도 수익율은 높아   \n",
       "1317  2016-11-30                  AJ네트웍스, 액면분할 결정…\"유동성 확대 주가안정 기대\"   \n",
       "1327  2016-11-30         [로봇뉴스]AJ네트웍스, \"나무랄데 없는 종합…\" 매수(신규)-KB투자증권   \n",
       "2448  2016-11-30                   AJ네트웍스, 유동성 확보용 액면분할…\"주가 안정될 것\"   \n",
       "2447  2016-11-30          AJ네트웍스 1045% 성장.. ‘亞太 고속성장 500대 기업’중 48위   \n",
       "1257  2016-12-07             AJ네트웍스, 렌터카 부진에 '후진'…B2B렌털로 반등 기회 잡을까   \n",
       "1315  2016-12-09        [로봇뉴스]AJ네트웍스, \"2017년에도 렌탈…\" 매수(유지)-LIG투자증권   \n",
       "1245  2017-01-17                           AJ네트웍스 ‘리터너블 케이스’로 사업확장   \n",
       "1595  2017-02-07           [로봇뉴스]AJ네트웍스, \"과도한 주가 조정은…\" 매수(유지)-KB증권   \n",
       "1242  2017-04-12     [ET투자뉴스]AJ네트웍스_관련종목들과 비교해서 변동성이 작아도 상승률은 높...   \n",
       "1325  2017-04-13                 [fnRASSI]AJ네트웍스, 2.11% 오르며 거래량 증가   \n",
       "1316  2017-05-16          [생생코스닥] AJ네트웍스, 1분기 영업익 218억원…전년比 45.5%↑   \n",
       "1235  2017-06-09                      [더벨]AJ네트웍스, '파렛트·건설장비' 효자 노릇   \n",
       "1582  2017-06-19         [ET투자뉴스]AJ네트웍스, \"이보다 꾸준할 순 …\" 매수(유지)-KB증권   \n",
       "1309  2017-06-19                [Hot-Line] \"AJ네트웍스, 지속 성장 전망\"…목표가↑   \n",
       "1233  2017-06-19                   AJ네트웍스, B2B 렌털 시장점유율 확대…‘매수’-하나   \n",
       "1324  2017-06-21                 [fnRASSI]AJ네트웍스, 3.58% 내리며 거래량 증가   \n",
       "1228  2017-07-17                            올림플래닛, AJ네트웍스와 전략적 MOU   \n",
       "1222  2017-08-01                  [레이더M] 하이일드債 매력 확대…AJ네트웍스 회사채 완판   \n",
       "\n",
       "                                                   뉴스요약  \n",
       "1338  마감전략 플러스 '종목전략 플러스'- 유안타증권 영업부 박우경 과장[AJ네트웍스(0...  \n",
       "1318  AJ네트웍스 사업부문별 매출액 추이. 유안타증권은 22일 AJ네트웍스(095570)...  \n",
       "1305  [안정적 영업기반·재무구조 개선 부각…하이일드 펀드 '눈독'] AJ네트웍스가 BBB...  \n",
       "1323  한국증권은 31일 AJ네트웍스(095570)에 대해 \"예견된 1Q16 실적 부진\"라...  \n",
       "1289  관련종목들 가운데 위험도는 낮지만 성과는 좋아 11일 오후 12시5분 현재 전일대비...  \n",
       "1287  AJ네트웍스, 업계 최초로 해외 현지업체에 건설장비 공급 반채운 대표가 건설장비 모...  \n",
       "1275  캠퍼스라이프는 AJ네트웍스와의 업무 협약을 통해 향후 스마트 캠퍼스 구축에 앞장설 ...  \n",
       "1274  관련종목들 가운데 변동폭 커도 수익율은 낮아 7일 오후 1시25분 현재 전일대비 2...  \n",
       "1329  현재 AJ네트웍스(095570)는 전일대비 22.73% 상승하여 37,800원 선에...  \n",
       "1334  현재 AJ네트웍스(095570)는 전일대비 5.3% 상승하여 33,800원 선에서 ...  \n",
       "1328  어제까지 2일 연속 동시 순매수를 기록한 AJ네트웍스는 오늘도 1150원(3.42%...  \n",
       "1265  관련종목들 가운데 변동폭 작아도 수익율은 높아 31일 오후 1시50분 현재 전일대비...  \n",
       "1317  [EBN 김지웅 기자] 종합렌탈업체 AJ네트웍스는 유통주식수 확대를 위해 액면분할을...  \n",
       "1327  KB투자증권에서 30일 AJ네트웍스(095570)에 대해 \"나무랄데 없는 종합 렌탈...  \n",
       "2448  AJ네트웍스는 3분기 개별 기준 매출액 1691억원, 영업이익 199억원으로 전년동...  \n",
       "2447  딜로이트 글로벌 선정 AJ네트웍스 1천% 성장 48위 한국 기업 50개사가 최근 3...  \n",
       "1257  빅데이터 이 종목 핵심 자회사 AJ렌터카 수익 악화 주가 올들어 40% 이상 하락 ...  \n",
       "1315  LIG투자증권에서 9일 AJ네트웍스(095570)에 대해 \"2017년에도 렌탈산업의...  \n",
       "1245  종합렌탈기업 AJ네트웍스가 회수 가능한 수출용 자동차 부품 전용 ‘리터너블 케이스(...  \n",
       "1595  KB증권에서 7일 AJ네트웍스(095570)에 대해 \"과도한 주가 조정은 장기적 관...  \n",
       "1242  관련종목들과 비교해서 변동성이 작아도 상승률은 높은 편 12일 오후 12시5분 현재...  \n",
       "1325  AJ네트웍스(095570)는 당일 거래량 증가로 최근 5거래일 거래량의 최고치를 경...  \n",
       "1316  - 파렛트, 고소장비 등 영업기반 확대…실적 호조세 종합 렌탈기업 AJ네트웍스는 올...  \n",
       "1235  스탠다드차타드 프라이빗에쿼티(SC PE)가 소수 지분을 보유하고 있는 AJ네트웍스 ...  \n",
       "1582  KB증권에서 19일 AJ네트웍스(095570)에 대해 \"이보다 꾸준할 순 없다\"라며...  \n",
       "1309  자료 제공 = KB증권KB증권은 19일 AJ네트웍스에 대해 전 사업부에 걸쳐 고른 ...  \n",
       "1233  파렛트 렌탈 시장규모 및 AJ네트웍스 점유율 추이. 하나금융투자는 19일 AJ네트웍...  \n",
       "1324  AJ네트웍스(095570)의 당일 거래량이 최근 5거래일 거래량의 최고치를 넘어서며...  \n",
       "1228  [이데일리 e뉴스 최성근 기자] 올림플래닛과 AJ네트웍스가 전략적 업무협약(MOU)...  \n",
       "1222  신용등급 부담 불구 200억 모집에 330억 몰려…BBB債 잇단 흥행 [본 기사는 ...  "
      ]
     },
     "execution_count": 93,
     "metadata": {},
     "output_type": "execute_result"
    }
   ],
   "source": [
    "df_n.iloc[pos_idx][:30]"
   ]
  },
  {
   "cell_type": "markdown",
   "id": "c362cf11",
   "metadata": {},
   "source": [
    "### 부정"
   ]
  },
  {
   "cell_type": "code",
   "execution_count": 88,
   "id": "035a1544",
   "metadata": {
    "ExecuteTime": {
     "end_time": "2022-06-05T09:18:28.774048Z",
     "start_time": "2022-06-05T09:18:28.752106Z"
    }
   },
   "outputs": [
    {
     "data": {
      "text/html": [
       "<div>\n",
       "<style scoped>\n",
       "    .dataframe tbody tr th:only-of-type {\n",
       "        vertical-align: middle;\n",
       "    }\n",
       "\n",
       "    .dataframe tbody tr th {\n",
       "        vertical-align: top;\n",
       "    }\n",
       "\n",
       "    .dataframe thead th {\n",
       "        text-align: right;\n",
       "    }\n",
       "</style>\n",
       "<table border=\"1\" class=\"dataframe\">\n",
       "  <thead>\n",
       "    <tr style=\"text-align: right;\">\n",
       "      <th></th>\n",
       "      <th>날짜</th>\n",
       "      <th>뉴스제목</th>\n",
       "      <th>뉴스요약</th>\n",
       "    </tr>\n",
       "  </thead>\n",
       "  <tbody>\n",
       "    <tr>\n",
       "      <th>1283</th>\n",
       "      <td>2016-08-16</td>\n",
       "      <td>[@테마]AJ네트웍스_업종평균과 비교해서 등락폭 대비 수익률은 낮아</td>\n",
       "      <td>업종평균과 비교해서 등락폭 대비 수익률은 낮아 16일 오후 2시35분 현재 전일대비...</td>\n",
       "    </tr>\n",
       "    <tr>\n",
       "      <th>1279</th>\n",
       "      <td>2016-08-22</td>\n",
       "      <td>[@테마]AJ네트웍스_업종평균과 비교해서 등락폭 대비 수익률은 낮아</td>\n",
       "      <td>업종평균과 비교해서 등락폭 대비 수익률은 낮아 22일 오전 9시5분 현재 전일대비 ...</td>\n",
       "    </tr>\n",
       "    <tr>\n",
       "      <th>1273</th>\n",
       "      <td>2016-09-08</td>\n",
       "      <td>[@테마]AJ네트웍스_주가와 거래량은 침체권, 투자심리는 약세</td>\n",
       "      <td>관련종목들 중에서 변동폭이 커도 수익률은 낮은 편 8일 오후 1시20분 현재 전일대...</td>\n",
       "    </tr>\n",
       "    <tr>\n",
       "      <th>1244</th>\n",
       "      <td>2017-02-08</td>\n",
       "      <td>[ET투자뉴스]AJ네트웍스_주가와 거래량은 침체권, 투자심리는 약세</td>\n",
       "      <td>관련종목들과 비교해서 변동성이 커도 상승률은 낮은 편 8일 오후 2시50분 현재 전...</td>\n",
       "    </tr>\n",
       "    <tr>\n",
       "      <th>1199</th>\n",
       "      <td>2018-02-06</td>\n",
       "      <td>AJ네트웍스, 전일 대비 약 -5% 하락한 7,440원</td>\n",
       "      <td>[한국경제TV 라이온봇 기자] AJ네트웍스는 2월 6일 13시 17분 전일 대비 약...</td>\n",
       "    </tr>\n",
       "    <tr>\n",
       "      <th>1168</th>\n",
       "      <td>2018-07-05</td>\n",
       "      <td>AJ네트웍스, 전일 대비 약 -7% 하락한 5,410원</td>\n",
       "      <td>[한국경제TV 라이온봇 기자] [그림 1] 최근 3개월 간 주가 추세 및 기간별 수...</td>\n",
       "    </tr>\n",
       "    <tr>\n",
       "      <th>1165</th>\n",
       "      <td>2018-07-19</td>\n",
       "      <td>AJ네트웍스 목표주가 낮아져, 자회사 AJ렌터카 지분가치 하락</td>\n",
       "      <td>AJ네트웍스 목표주가가 낮아졌다. 연결대상 종속회사인 AJ렌터카의 지분 가치가 하락...</td>\n",
       "    </tr>\n",
       "    <tr>\n",
       "      <th>1239</th>\n",
       "      <td>2018-08-07</td>\n",
       "      <td>[ET투자뉴스][AJ네트웍스 지분 변동] 신영자산운용(주)-1.236%p 감소, 3...</td>\n",
       "      <td>AJ네트웍스(095570)는 07일 주주 신영자산운용(주)의 보유주식이 감소되었다고...</td>\n",
       "    </tr>\n",
       "    <tr>\n",
       "      <th>1149</th>\n",
       "      <td>2018-09-21</td>\n",
       "      <td>AJ네트웍스, 전일 대비 약 -8% 하락한 6,470원</td>\n",
       "      <td>[한국경제TV 라이온봇 기자] [그림 1] 최근 3개월 간 주가 추세 및 기간별 수...</td>\n",
       "    </tr>\n",
       "    <tr>\n",
       "      <th>1322</th>\n",
       "      <td>2018-09-21</td>\n",
       "      <td>[fnRASSI]장마감, 거래소 하락 종목(AJ네트웍스 -7.68%↓)</td>\n",
       "      <td>21일 거래소 기준으로 하락한 종목은 AJ네트웍스(095570) -7.68%, 웰바...</td>\n",
       "    </tr>\n",
       "    <tr>\n",
       "      <th>1148</th>\n",
       "      <td>2018-09-21</td>\n",
       "      <td>AJ네트웍스, AJ렌터카 이어 같이 급락…7%대 낙폭</td>\n",
       "      <td>(그래픽=네이버금융 캡처) [이코노뉴스=어 만 기자] AJ렌터카에 이어 AJ네트웍스...</td>\n",
       "    </tr>\n",
       "    <tr>\n",
       "      <th>1144</th>\n",
       "      <td>2018-10-10</td>\n",
       "      <td>AJ네트웍스, 전일 대비 약 -5% 하락한 5,580원</td>\n",
       "      <td>[한국경제TV 라이온봇 기자] [그림 1] 최근 3개월 간 주가 추세 및 기간별 수...</td>\n",
       "    </tr>\n",
       "    <tr>\n",
       "      <th>1219</th>\n",
       "      <td>2018-10-17</td>\n",
       "      <td>[Data&amp;Score] AJ네트웍스, 상반기 순익 절반 이하로 감소</td>\n",
       "      <td>AJ네트웍스(대표 반채운, 윤규선)은 올 상반기 매출 증가에도 당기순이익이 반토막 ...</td>\n",
       "    </tr>\n",
       "    <tr>\n",
       "      <th>1140</th>\n",
       "      <td>2018-10-25</td>\n",
       "      <td>AJ네트웍스·AJ렌터카, 모두 급락…6~8% ↓</td>\n",
       "      <td>AJ네트웍스 주가흐름(그래픽=네이버금융 캡처) [이코노뉴스=어 만 기자] AJ렌터카...</td>\n",
       "    </tr>\n",
       "    <tr>\n",
       "      <th>1139</th>\n",
       "      <td>2018-10-25</td>\n",
       "      <td>AJ네트웍스, 전일 대비 약 -5% 하락한 4,640원</td>\n",
       "      <td>[한국경제TV 라이온봇 기자] [그림 1] 최근 3개월 간 주가 추세 및 기간별 수...</td>\n",
       "    </tr>\n",
       "    <tr>\n",
       "      <th>1127</th>\n",
       "      <td>2018-12-05</td>\n",
       "      <td>AJ네트웍스, 자회사 실적 부진에 ‘골머리’</td>\n",
       "      <td>AJ네트웍스의 주요 사업인 렌탈업이 내수위축과 무역전쟁이라는 매서운 칼바람에도 흔들...</td>\n",
       "    </tr>\n",
       "    <tr>\n",
       "      <th>1118</th>\n",
       "      <td>2018-12-11</td>\n",
       "      <td>AJ네트웍스, 전일 대비 약 3% 하락한 4,610원</td>\n",
       "      <td>최근 3개월 간 주가 추세 및 기간별 수익률 AJ네트웍스는 12월 11일 10시 1...</td>\n",
       "    </tr>\n",
       "    <tr>\n",
       "      <th>1113</th>\n",
       "      <td>2018-12-27</td>\n",
       "      <td>[ET투자뉴스]AJ네트웍스_주가와 투자심리는 약세, 거래량은 침체</td>\n",
       "      <td>관련종목들 중에서 변동폭이 커도 수익률은 낮은 편 27일 오후 2시5분 현재 전일대...</td>\n",
       "    </tr>\n",
       "    <tr>\n",
       "      <th>1096</th>\n",
       "      <td>2019-01-10</td>\n",
       "      <td>[ET투자뉴스]AJ네트웍스_주가와 투자심리는 약세, 거래량은 침체</td>\n",
       "      <td>관련종목들 중에서 변동폭이 커도 수익률은 낮은 편 10일 오후 1시55분 현재 전일...</td>\n",
       "    </tr>\n",
       "    <tr>\n",
       "      <th>969</th>\n",
       "      <td>2019-03-28</td>\n",
       "      <td>AJ네트웍스, 전일 대비 약 3% 하락한 4,690원</td>\n",
       "      <td>최근 3개월 간 주가 추세 및 기간별 수익률 AJ네트웍스는 3월 28일 14시 21...</td>\n",
       "    </tr>\n",
       "    <tr>\n",
       "      <th>967</th>\n",
       "      <td>2019-03-29</td>\n",
       "      <td>[실적속보] AJ네트웍스, 지난해 4Q 영업이익 -365억...적자지속</td>\n",
       "      <td>AJ네트웍스의 지난해 4분기 연결기준 영업이익은 -365억3457만원으로 전년 동기...</td>\n",
       "    </tr>\n",
       "    <tr>\n",
       "      <th>629</th>\n",
       "      <td>2019-07-08</td>\n",
       "      <td>AJ네트웍스, 전일 대비 약 4% 하락한 5,080원</td>\n",
       "      <td>최근 3개월 간 주가 추세 및 기간별 수익률 AJ네트웍스는 7월 8일 14시 14분...</td>\n",
       "    </tr>\n",
       "    <tr>\n",
       "      <th>607</th>\n",
       "      <td>2019-07-16</td>\n",
       "      <td>‘이자보상배율 1배↓’ AJ네트웍스, 수익성 확보 ‘안갯속’</td>\n",
       "      <td>자회사 적자·투자 증가, 차입 규모 확대...AJ렌터카 매각 대금 활용 관건 이성규...</td>\n",
       "    </tr>\n",
       "    <tr>\n",
       "      <th>83</th>\n",
       "      <td>2020-03-17</td>\n",
       "      <td>AJ네트웍스, 시대 역행하는 사외이사 운영 실태 '빈축'</td>\n",
       "      <td>시사위크=권정두 기자  종합렌탈기업 AJ네트웍스의 사외이사들이 저조한 이사회 출석률...</td>\n",
       "    </tr>\n",
       "    <tr>\n",
       "      <th>978</th>\n",
       "      <td>2020-03-20</td>\n",
       "      <td>[fnRASSI]AJ네트웍스, 거래량 확대되며 12거래일 연속 하락</td>\n",
       "      <td>AJ네트웍스(095570)의 현재 거래량이 최근 5거래일 거래량의 최고치를 경신하며...</td>\n",
       "    </tr>\n",
       "    <tr>\n",
       "      <th>75</th>\n",
       "      <td>2020-05-03</td>\n",
       "      <td>AJ네트웍스, 지난해 이자보상배율 1 밑으로 추락…서비스업종 중 ‘유일’</td>\n",
       "      <td>종합렌탈업체 AJ네트웍스(대표 윤규선)가 영업이익으로 이자도 못 갚는 상황에 놓인 ...</td>\n",
       "    </tr>\n",
       "    <tr>\n",
       "      <th>73</th>\n",
       "      <td>2020-05-29</td>\n",
       "      <td>[마켓인사이트]계열사 지원에 허리 휜 AJ네트웍스, 신용등급 강등 위기에 처해</td>\n",
       "      <td>≪이 기사는 05월29일(15:21) 자본시장의 혜안 ‘마켓인사이트’에 게재된 기사...</td>\n",
       "    </tr>\n",
       "    <tr>\n",
       "      <th>71</th>\n",
       "      <td>2020-06-03</td>\n",
       "      <td>[한계기업 돋보기] AJ네트웍스, 흑자는 나는데…이자 감당 어쩌나</td>\n",
       "      <td>이투데이=조남호 기자 | AJ네트웍스 연결기준 주요지표 추이. AJ네트웍스가 한 해...</td>\n",
       "    </tr>\n",
       "    <tr>\n",
       "      <th>70</th>\n",
       "      <td>2020-06-08</td>\n",
       "      <td>'동생들 돌보다 장남 휘청' AJ네트웍스 신용등급 전망 하향 속사정</td>\n",
       "      <td>AJ네트웍스가 2018년부터 시작된 계열사 투자 리스크로 결국 신용등급  전망이 하...</td>\n",
       "    </tr>\n",
       "    <tr>\n",
       "      <th>64</th>\n",
       "      <td>2020-07-23</td>\n",
       "      <td>'BBB+' AJ네트웍스 회사채 수요 확보 실패</td>\n",
       "      <td>1.5년물에서 130억원 수요 확보, 3년물은 전량 미매각 발생 AJ네트웍스(BBB...</td>\n",
       "    </tr>\n",
       "    <tr>\n",
       "      <th>62</th>\n",
       "      <td>2020-07-26</td>\n",
       "      <td>[업&amp;다운] AJ네트웍스, 계열사 지원 부담 가중… 신용등급 이어 회사채도 ‘빨...</td>\n",
       "      <td>이투데이=오예린 기자 | 자료제공=한국신용평가, 한국기업평가AJ네트웍스가 계열사 재...</td>\n",
       "    </tr>\n",
       "    <tr>\n",
       "      <th>100</th>\n",
       "      <td>2020-11-05</td>\n",
       "      <td>[마켓인사이트]\"AJ네트웍스의 파렛트 사업 분할, 신용도에 부정적\"</td>\n",
       "      <td>≪이 기사는 11월04일(18:00) 자본시장의 혜안 ‘마켓인사이트’에 게재된 기사...</td>\n",
       "    </tr>\n",
       "    <tr>\n",
       "      <th>55</th>\n",
       "      <td>2020-11-05</td>\n",
       "      <td>[IB토마토](크레딧시그널)AJ네트웍스, 인적분할 결정에 신용도 '부정적'</td>\n",
       "      <td>출처/AJ네트웍스 [IB토마토 노태영 기자] AJ네트웍스(095570)의 최근 파렛...</td>\n",
       "    </tr>\n",
       "    <tr>\n",
       "      <th>2791</th>\n",
       "      <td>2021-01-21</td>\n",
       "      <td>AJ네트웍스, 거래량 강세... 주가는 -9.53% 하락</td>\n",
       "      <td>AJ렌트카를 자회사로 둔 지주사인 AJ네트웍스[095570]는 21일 오전 9시 5...</td>\n",
       "    </tr>\n",
       "    <tr>\n",
       "      <th>44</th>\n",
       "      <td>2021-02-05</td>\n",
       "      <td>[IB토마토](크레딧시그널)AJ네트웍스, 자회사 리스크 확대…악영향 지속</td>\n",
       "      <td>AJ네트웍스(095570)가 기존 사업인 B2B 렌탈 사업은 좋은 평가를 받았지만,...</td>\n",
       "    </tr>\n",
       "    <tr>\n",
       "      <th>22</th>\n",
       "      <td>2021-07-20</td>\n",
       "      <td>AJ네트웍스 회사채 수요예측 미달....BBB급 채권 열풍에도 실패 [마켓인사이트...</td>\n",
       "      <td>≪이 기사는 07월19일(17:33) 자본시장의 혜안 ‘마켓인사이트’에 게재된 기사...</td>\n",
       "    </tr>\n",
       "    <tr>\n",
       "      <th>21</th>\n",
       "      <td>2021-07-23</td>\n",
       "      <td>AJ네트웍스, 내내 가파른 하락세로 8% 급락…상승 행진 제동 걸리나</td>\n",
       "      <td>AJ네트웍스가 급락 중이다. AJ네트웍스는 23일 코스피 시장에서 오후 1시7분 현...</td>\n",
       "    </tr>\n",
       "  </tbody>\n",
       "</table>\n",
       "</div>"
      ],
      "text/plain": [
       "              날짜                                               뉴스제목  \\\n",
       "1283  2016-08-16              [@테마]AJ네트웍스_업종평균과 비교해서 등락폭 대비 수익률은 낮아   \n",
       "1279  2016-08-22              [@테마]AJ네트웍스_업종평균과 비교해서 등락폭 대비 수익률은 낮아   \n",
       "1273  2016-09-08                 [@테마]AJ네트웍스_주가와 거래량은 침체권, 투자심리는 약세   \n",
       "1244  2017-02-08              [ET투자뉴스]AJ네트웍스_주가와 거래량은 침체권, 투자심리는 약세   \n",
       "1199  2018-02-06                     AJ네트웍스, 전일 대비 약 -5% 하락한 7,440원   \n",
       "1168  2018-07-05                     AJ네트웍스, 전일 대비 약 -7% 하락한 5,410원   \n",
       "1165  2018-07-19                 AJ네트웍스 목표주가 낮아져, 자회사 AJ렌터카 지분가치 하락   \n",
       "1239  2018-08-07  [ET투자뉴스][AJ네트웍스 지분 변동] 신영자산운용(주)-1.236%p 감소, 3...   \n",
       "1149  2018-09-21                     AJ네트웍스, 전일 대비 약 -8% 하락한 6,470원   \n",
       "1322  2018-09-21            [fnRASSI]장마감, 거래소 하락 종목(AJ네트웍스 -7.68%↓)   \n",
       "1148  2018-09-21                      AJ네트웍스, AJ렌터카 이어 같이 급락…7%대 낙폭   \n",
       "1144  2018-10-10                     AJ네트웍스, 전일 대비 약 -5% 하락한 5,580원   \n",
       "1219  2018-10-17              [Data&Score] AJ네트웍스, 상반기 순익 절반 이하로 감소   \n",
       "1140  2018-10-25                         AJ네트웍스·AJ렌터카, 모두 급락…6~8% ↓   \n",
       "1139  2018-10-25                     AJ네트웍스, 전일 대비 약 -5% 하락한 4,640원   \n",
       "1127  2018-12-05                           AJ네트웍스, 자회사 실적 부진에 ‘골머리’   \n",
       "1118  2018-12-11                      AJ네트웍스, 전일 대비 약 3% 하락한 4,610원   \n",
       "1113  2018-12-27               [ET투자뉴스]AJ네트웍스_주가와 투자심리는 약세, 거래량은 침체   \n",
       "1096  2019-01-10               [ET투자뉴스]AJ네트웍스_주가와 투자심리는 약세, 거래량은 침체   \n",
       "969   2019-03-28                      AJ네트웍스, 전일 대비 약 3% 하락한 4,690원   \n",
       "967   2019-03-29            [실적속보] AJ네트웍스, 지난해 4Q 영업이익 -365억...적자지속   \n",
       "629   2019-07-08                      AJ네트웍스, 전일 대비 약 4% 하락한 5,080원   \n",
       "607   2019-07-16                  ‘이자보상배율 1배↓’ AJ네트웍스, 수익성 확보 ‘안갯속’   \n",
       "83    2020-03-17                    AJ네트웍스, 시대 역행하는 사외이사 운영 실태 '빈축'   \n",
       "978   2020-03-20              [fnRASSI]AJ네트웍스, 거래량 확대되며 12거래일 연속 하락   \n",
       "75    2020-05-03           AJ네트웍스, 지난해 이자보상배율 1 밑으로 추락…서비스업종 중 ‘유일’   \n",
       "73    2020-05-29        [마켓인사이트]계열사 지원에 허리 휜 AJ네트웍스, 신용등급 강등 위기에 처해   \n",
       "71    2020-06-03               [한계기업 돋보기] AJ네트웍스, 흑자는 나는데…이자 감당 어쩌나   \n",
       "70    2020-06-08              '동생들 돌보다 장남 휘청' AJ네트웍스 신용등급 전망 하향 속사정   \n",
       "64    2020-07-23                         'BBB+' AJ네트웍스 회사채 수요 확보 실패   \n",
       "62    2020-07-26    [업&다운] AJ네트웍스, 계열사 지원 부담 가중… 신용등급 이어 회사채도 ‘빨...   \n",
       "100   2020-11-05              [마켓인사이트]\"AJ네트웍스의 파렛트 사업 분할, 신용도에 부정적\"   \n",
       "55    2020-11-05          [IB토마토](크레딧시그널)AJ네트웍스, 인적분할 결정에 신용도 '부정적'   \n",
       "2791  2021-01-21                    AJ네트웍스, 거래량 강세... 주가는 -9.53% 하락   \n",
       "44    2021-02-05           [IB토마토](크레딧시그널)AJ네트웍스, 자회사 리스크 확대…악영향 지속   \n",
       "22    2021-07-20   AJ네트웍스 회사채 수요예측 미달....BBB급 채권 열풍에도 실패 [마켓인사이트...   \n",
       "21    2021-07-23             AJ네트웍스, 내내 가파른 하락세로 8% 급락…상승 행진 제동 걸리나   \n",
       "\n",
       "                                                   뉴스요약  \n",
       "1283  업종평균과 비교해서 등락폭 대비 수익률은 낮아 16일 오후 2시35분 현재 전일대비...  \n",
       "1279  업종평균과 비교해서 등락폭 대비 수익률은 낮아 22일 오전 9시5분 현재 전일대비 ...  \n",
       "1273  관련종목들 중에서 변동폭이 커도 수익률은 낮은 편 8일 오후 1시20분 현재 전일대...  \n",
       "1244  관련종목들과 비교해서 변동성이 커도 상승률은 낮은 편 8일 오후 2시50분 현재 전...  \n",
       "1199  [한국경제TV 라이온봇 기자] AJ네트웍스는 2월 6일 13시 17분 전일 대비 약...  \n",
       "1168  [한국경제TV 라이온봇 기자] [그림 1] 최근 3개월 간 주가 추세 및 기간별 수...  \n",
       "1165  AJ네트웍스 목표주가가 낮아졌다. 연결대상 종속회사인 AJ렌터카의 지분 가치가 하락...  \n",
       "1239  AJ네트웍스(095570)는 07일 주주 신영자산운용(주)의 보유주식이 감소되었다고...  \n",
       "1149  [한국경제TV 라이온봇 기자] [그림 1] 최근 3개월 간 주가 추세 및 기간별 수...  \n",
       "1322  21일 거래소 기준으로 하락한 종목은 AJ네트웍스(095570) -7.68%, 웰바...  \n",
       "1148  (그래픽=네이버금융 캡처) [이코노뉴스=어 만 기자] AJ렌터카에 이어 AJ네트웍스...  \n",
       "1144  [한국경제TV 라이온봇 기자] [그림 1] 최근 3개월 간 주가 추세 및 기간별 수...  \n",
       "1219  AJ네트웍스(대표 반채운, 윤규선)은 올 상반기 매출 증가에도 당기순이익이 반토막 ...  \n",
       "1140  AJ네트웍스 주가흐름(그래픽=네이버금융 캡처) [이코노뉴스=어 만 기자] AJ렌터카...  \n",
       "1139  [한국경제TV 라이온봇 기자] [그림 1] 최근 3개월 간 주가 추세 및 기간별 수...  \n",
       "1127  AJ네트웍스의 주요 사업인 렌탈업이 내수위축과 무역전쟁이라는 매서운 칼바람에도 흔들...  \n",
       "1118  최근 3개월 간 주가 추세 및 기간별 수익률 AJ네트웍스는 12월 11일 10시 1...  \n",
       "1113  관련종목들 중에서 변동폭이 커도 수익률은 낮은 편 27일 오후 2시5분 현재 전일대...  \n",
       "1096  관련종목들 중에서 변동폭이 커도 수익률은 낮은 편 10일 오후 1시55분 현재 전일...  \n",
       "969   최근 3개월 간 주가 추세 및 기간별 수익률 AJ네트웍스는 3월 28일 14시 21...  \n",
       "967   AJ네트웍스의 지난해 4분기 연결기준 영업이익은 -365억3457만원으로 전년 동기...  \n",
       "629   최근 3개월 간 주가 추세 및 기간별 수익률 AJ네트웍스는 7월 8일 14시 14분...  \n",
       "607   자회사 적자·투자 증가, 차입 규모 확대...AJ렌터카 매각 대금 활용 관건 이성규...  \n",
       "83    시사위크=권정두 기자  종합렌탈기업 AJ네트웍스의 사외이사들이 저조한 이사회 출석률...  \n",
       "978   AJ네트웍스(095570)의 현재 거래량이 최근 5거래일 거래량의 최고치를 경신하며...  \n",
       "75    종합렌탈업체 AJ네트웍스(대표 윤규선)가 영업이익으로 이자도 못 갚는 상황에 놓인 ...  \n",
       "73    ≪이 기사는 05월29일(15:21) 자본시장의 혜안 ‘마켓인사이트’에 게재된 기사...  \n",
       "71    이투데이=조남호 기자 | AJ네트웍스 연결기준 주요지표 추이. AJ네트웍스가 한 해...  \n",
       "70    AJ네트웍스가 2018년부터 시작된 계열사 투자 리스크로 결국 신용등급  전망이 하...  \n",
       "64    1.5년물에서 130억원 수요 확보, 3년물은 전량 미매각 발생 AJ네트웍스(BBB...  \n",
       "62    이투데이=오예린 기자 | 자료제공=한국신용평가, 한국기업평가AJ네트웍스가 계열사 재...  \n",
       "100   ≪이 기사는 11월04일(18:00) 자본시장의 혜안 ‘마켓인사이트’에 게재된 기사...  \n",
       "55    출처/AJ네트웍스 [IB토마토 노태영 기자] AJ네트웍스(095570)의 최근 파렛...  \n",
       "2791  AJ렌트카를 자회사로 둔 지주사인 AJ네트웍스[095570]는 21일 오전 9시 5...  \n",
       "44    AJ네트웍스(095570)가 기존 사업인 B2B 렌탈 사업은 좋은 평가를 받았지만,...  \n",
       "22    ≪이 기사는 07월19일(17:33) 자본시장의 혜안 ‘마켓인사이트’에 게재된 기사...  \n",
       "21    AJ네트웍스가 급락 중이다. AJ네트웍스는 23일 코스피 시장에서 오후 1시7분 현...  "
      ]
     },
     "execution_count": 88,
     "metadata": {},
     "output_type": "execute_result"
    }
   ],
   "source": [
    "df_n.iloc[neg_idx]"
   ]
  },
  {
   "cell_type": "markdown",
   "id": "7062afe8",
   "metadata": {},
   "source": [
    "### 중립"
   ]
  },
  {
   "cell_type": "code",
   "execution_count": 17,
   "id": "cbdf5d9f",
   "metadata": {
    "ExecuteTime": {
     "end_time": "2022-06-07T04:08:24.393829Z",
     "start_time": "2022-06-07T04:08:24.377875Z"
    }
   },
   "outputs": [
    {
     "name": "stdout",
     "output_type": "stream",
     "text": [
      "586\n"
     ]
    },
    {
     "data": {
      "text/html": [
       "<div>\n",
       "<style scoped>\n",
       "    .dataframe tbody tr th:only-of-type {\n",
       "        vertical-align: middle;\n",
       "    }\n",
       "\n",
       "    .dataframe tbody tr th {\n",
       "        vertical-align: top;\n",
       "    }\n",
       "\n",
       "    .dataframe thead th {\n",
       "        text-align: right;\n",
       "    }\n",
       "</style>\n",
       "<table border=\"1\" class=\"dataframe\">\n",
       "  <thead>\n",
       "    <tr style=\"text-align: right;\">\n",
       "      <th></th>\n",
       "      <th>날짜</th>\n",
       "      <th>뉴스제목</th>\n",
       "      <th>뉴스요약</th>\n",
       "    </tr>\n",
       "  </thead>\n",
       "  <tbody>\n",
       "    <tr>\n",
       "      <th>1146</th>\n",
       "      <td>2018-10-07</td>\n",
       "      <td>AJ네트웍스 두 아들, 지분담보 비중 확대 ‘증여세’ 납부용</td>\n",
       "      <td>문덕영 AJ가족 부회장의 두 아들이 1년 새 AJ네트웍스 담보주식 비중을 확대했다....</td>\n",
       "    </tr>\n",
       "    <tr>\n",
       "      <th>59</th>\n",
       "      <td>2021-01-06</td>\n",
       "      <td>[장 마감 후 공시] AJ네트웍스, AJ셀카 주식 전량 처분 결정外</td>\n",
       "      <td>△AJ네트웍스(095570)는 사업 효율성 제고와 지배구조 개선을 위해 계열회사인 ...</td>\n",
       "    </tr>\n",
       "    <tr>\n",
       "      <th>1025</th>\n",
       "      <td>2019-02-22</td>\n",
       "      <td>2월 22일 AJ네트웍스 오늘증권시세 -1.73% 5110원</td>\n",
       "      <td>▲AJ네트웍스의 주가정보 ▲지난 2주간 AJ네트웍스 장 마감 시세 ●22일 AJ네트...</td>\n",
       "    </tr>\n",
       "    <tr>\n",
       "      <th>354</th>\n",
       "      <td>2019-11-04</td>\n",
       "      <td>11월 4일 AJ네트웍스 종목 그래프 및 종목동정과 증시정보 0.12% 변동폭 보여...</td>\n",
       "      <td>▲생활주가정보 AJ네트웍스 흐름▲AJ네트웍스 지난 한달간 흐름 ●차트 분석 지금 차...</td>\n",
       "    </tr>\n",
       "    <tr>\n",
       "      <th>499</th>\n",
       "      <td>2019-08-22</td>\n",
       "      <td>AJ네트웍스주가(095570) 8월 22일 오늘 가격 4740원, 종목 그래프 외 ...</td>\n",
       "      <td>생활주가정보 AJ네트웍스 흐름AJ네트웍스 지난 한달간 흐름●종목 그래프 분석 현재 ...</td>\n",
       "    </tr>\n",
       "    <tr>\n",
       "      <th>973</th>\n",
       "      <td>2019-03-27</td>\n",
       "      <td>3월 27일 AJ네트웍스 종목 그래프 외 증시동향....</td>\n",
       "      <td>생활주가정보 AJ네트웍스 주가AJ네트웍스 지난 한달간 시세 ▶종목 그래프 분석 이 ...</td>\n",
       "    </tr>\n",
       "    <tr>\n",
       "      <th>2722</th>\n",
       "      <td>2021-10-01</td>\n",
       "      <td>AJ네트웍스, 전 임직원 대상 ‘ESG 경영 교육 및 탄소저감’ 캠페인 실시</td>\n",
       "      <td>서울--(뉴스와이어) AJ네트웍스(095570)가 전 임직원 대상 ESG 경영 교육...</td>\n",
       "    </tr>\n",
       "    <tr>\n",
       "      <th>255</th>\n",
       "      <td>2019-12-11</td>\n",
       "      <td>12월 11일 AJ네트웍스(095570) 증권그래프 및 매매동향 -0.12% 변동</td>\n",
       "      <td>▲생활주가정보 AJ네트웍스 흐름▲AJ네트웍스 지난 한달간 흐름 ●차트 분석 11시1...</td>\n",
       "    </tr>\n",
       "    <tr>\n",
       "      <th>169</th>\n",
       "      <td>2020-01-30</td>\n",
       "      <td>AJ네트웍스주가(095570), 30일 -0.82%변화…</td>\n",
       "      <td>▲생활주가정보 AJ네트웍스 흐름▲AJ네트웍스 지난 한달간 흐름 ●종목시황 차트해설 ...</td>\n",
       "    </tr>\n",
       "    <tr>\n",
       "      <th>270</th>\n",
       "      <td>2019-12-05</td>\n",
       "      <td>12월 5일 AJ네트웍스 오늘주식시세 -0.61% 4065원</td>\n",
       "      <td>●5일 AJ네트웍스 주가 현황5일 현재 오후 12시 18분 AJ네트웍스(095570...</td>\n",
       "    </tr>\n",
       "    <tr>\n",
       "      <th>1240</th>\n",
       "      <td>2017-04-14</td>\n",
       "      <td>BBB+등급 AJ네트웍스 회사채 때 아닌 품귀 ‘넷마블 주식 공모’ 노린 수요</td>\n",
       "      <td>이투데이=김남현 기자 | BBB+등급 AJ네트웍스(에이제이네트웍스) 회사채가 때 아...</td>\n",
       "    </tr>\n",
       "    <tr>\n",
       "      <th>42</th>\n",
       "      <td>2021-02-14</td>\n",
       "      <td>AJ네트웍스 렌털플랫폼 모두렌탈 집중, 이현우 불황 견디는 사업 원해</td>\n",
       "      <td>이현우 AJ네트웍스 대표이사가 온라인 렌털 플랫폼을 성장동력으로 키우고 있다. 14...</td>\n",
       "    </tr>\n",
       "    <tr>\n",
       "      <th>436</th>\n",
       "      <td>2019-09-23</td>\n",
       "      <td>9월 23일 AJ네트웍스 실시간증시 -0.79% 4370원</td>\n",
       "      <td>●23일 AJ네트웍스 주가 시황23일 현재 오전 11시 57분 AJ네트웍스(0955...</td>\n",
       "    </tr>\n",
       "    <tr>\n",
       "      <th>204</th>\n",
       "      <td>2020-01-07</td>\n",
       "      <td>1월 7일 AJ네트웍스종목정보 0.99% 변동</td>\n",
       "      <td>▲생활주가정보 AJ네트웍스 흐름▲AJ네트웍스 지난 한달간 흐름 ●종목시황 차트해설 ...</td>\n",
       "    </tr>\n",
       "    <tr>\n",
       "      <th>2760</th>\n",
       "      <td>2022-03-03</td>\n",
       "      <td>[장중수급포착] AJ네트웍스, 외국인 29,734주 대량 순매수... 주가 +6.39%</td>\n",
       "      <td>로보뉴스 = 03일 10시 15분 현재 AJ네트웍스(095570)는 외국인이 29,...</td>\n",
       "    </tr>\n",
       "    <tr>\n",
       "      <th>627</th>\n",
       "      <td>2019-07-10</td>\n",
       "      <td>[스타★주식인사이드] AJ네트웍스, 주가 4,910원(7월 10일 13시 9분 기준)</td>\n",
       "      <td>7월 10일 오후 1시 9분 현재 오늘의 스타 AJ네트웍스(095570) 주가가 전...</td>\n",
       "    </tr>\n",
       "    <tr>\n",
       "      <th>239</th>\n",
       "      <td>2019-12-19</td>\n",
       "      <td>AJ네트웍스오늘증권시세 19일 현재 4460원</td>\n",
       "      <td>●19일 AJ네트웍스 종목 현황19일 현재 오후 1시 35분 AJ네트웍스(09557...</td>\n",
       "    </tr>\n",
       "    <tr>\n",
       "      <th>1227</th>\n",
       "      <td>2017-07-21</td>\n",
       "      <td>[ET투자뉴스]AJ네트웍스_거래비중 기관 24.53%, 외국인 19.06%</td>\n",
       "      <td>업종평균에 비해서 변동폭 대비 수익률은 다소 부정적 21일 오전 10시10분 현재 ...</td>\n",
       "    </tr>\n",
       "    <tr>\n",
       "      <th>648</th>\n",
       "      <td>2019-07-04</td>\n",
       "      <td>[스타★주식인사이드] AJ네트웍스, 주가 5,250원(7월 4일 13시 9분 기준)</td>\n",
       "      <td>7월 4일 오후 1시 9분 현재 오늘의 스타 AJ네트웍스(095570) 주가가 전일...</td>\n",
       "    </tr>\n",
       "    <tr>\n",
       "      <th>1310</th>\n",
       "      <td>2018-12-18</td>\n",
       "      <td>&lt;유&gt;AJ네트웍스, 장중 신저가 기록.. 4,310→4,295(▼15)</td>\n",
       "      <td>오후 1시 14분 현재 AJ네트웍스(095570)가 4.02% 내린 4,295원(▼...</td>\n",
       "    </tr>\n",
       "    <tr>\n",
       "      <th>262</th>\n",
       "      <td>2020-01-05</td>\n",
       "      <td>[주간 도로와철도운송 업종 리포트] 1월 1주차 AJ렌터카, AJ네트웍스, 유성티...</td>\n",
       "      <td>이어 AJ네트웍스 (4970원, +1.64%), 동양고속 (27250원, +1.11...</td>\n",
       "    </tr>\n",
       "    <tr>\n",
       "      <th>459</th>\n",
       "      <td>2019-09-06</td>\n",
       "      <td>9월 6일 AJ네트웍스 정보 0.23% 변동폭 보여..</td>\n",
       "      <td>생활주가정보 AJ네트웍스 흐름AJ네트웍스 지난 한달간 흐름●주식종목차트분석 지금(1...</td>\n",
       "    </tr>\n",
       "    <tr>\n",
       "      <th>647</th>\n",
       "      <td>2019-07-05</td>\n",
       "      <td>AJ네트웍스 주가증권그래프 외 매매동향... 5일 현재 5300원</td>\n",
       "      <td>생활주가정보 AJ네트웍스 흐름AJ네트웍스 지난 한달간 흐름 ●종목 그래프 분석 지금...</td>\n",
       "    </tr>\n",
       "    <tr>\n",
       "      <th>2763</th>\n",
       "      <td>2021-10-06</td>\n",
       "      <td>[리포트 브리핑]AJ네트웍스, '백신은 AZ, 렌탈은 AJ' Not Rated - ...</td>\n",
       "      <td>로보뉴스 = DB금융투자에서 06일 AJ네트웍스(095570)에 대해 '백신은 AZ...</td>\n",
       "    </tr>\n",
       "    <tr>\n",
       "      <th>2771</th>\n",
       "      <td>2021-07-19</td>\n",
       "      <td>[장중수급포착] AJ네트웍스, 외국인 28,265주 대량 순매수... 주가 +4.64%</td>\n",
       "      <td>로보뉴스 = 19일 10시 15분 현재 AJ네트웍스(095570)는 외국인이 28,...</td>\n",
       "    </tr>\n",
       "    <tr>\n",
       "      <th>576</th>\n",
       "      <td>2019-07-30</td>\n",
       "      <td>AJ네트웍스 주가정보 30일 현재 4690원</td>\n",
       "      <td>생활주가정보 AJ네트웍스 흐름AJ네트웍스 지난 한달간 흐름 ▶종목 그래프 분석 현재...</td>\n",
       "    </tr>\n",
       "    <tr>\n",
       "      <th>65</th>\n",
       "      <td>2020-07-22</td>\n",
       "      <td>BBB급의 도전…AJ네트웍스, 공모시장 시험대 올랐다</td>\n",
       "      <td>com [데일리동방] AJ네트웍스가 사업 구조 개편을 등에 업고 공모시장에 도전한다...</td>\n",
       "    </tr>\n",
       "    <tr>\n",
       "      <th>1192</th>\n",
       "      <td>2018-03-30</td>\n",
       "      <td>[종합]AJ네트웍스, 윤규선 지주 부문 대표 신규 선임</td>\n",
       "      <td>【서울=뉴시스】 윤규선 AJ네트웍스 신임 대표이사. (사진 = AJ네트웍스 제공) ...</td>\n",
       "    </tr>\n",
       "    <tr>\n",
       "      <th>2819</th>\n",
       "      <td>2020-12-28</td>\n",
       "      <td>[장중수급포착] AJ네트웍스, 외국인 39,382주 대량 순매수... 주가 +3.30%</td>\n",
       "      <td>로보뉴스 = 28일 10시 15분 현재 AJ네트웍스(095570)는 외국인이 39,...</td>\n",
       "    </tr>\n",
       "    <tr>\n",
       "      <th>425</th>\n",
       "      <td>2019-12-06</td>\n",
       "      <td>AJ네트웍스( 095570 ) , 오후 12시 15분 기준 및 증권정보와 종목동정</td>\n",
       "      <td>6일 오후 12시 15분 기준 AJ네트웍스(095570) 주가가 전일대비 -0.24...</td>\n",
       "    </tr>\n",
       "  </tbody>\n",
       "</table>\n",
       "</div>"
      ],
      "text/plain": [
       "              날짜                                               뉴스제목  \\\n",
       "1146  2018-10-07                  AJ네트웍스 두 아들, 지분담보 비중 확대 ‘증여세’ 납부용   \n",
       "59    2021-01-06              [장 마감 후 공시] AJ네트웍스, AJ셀카 주식 전량 처분 결정外   \n",
       "1025  2019-02-22                  2월 22일 AJ네트웍스 오늘증권시세 -1.73% 5110원   \n",
       "354   2019-11-04  11월 4일 AJ네트웍스 종목 그래프 및 종목동정과 증시정보 0.12% 변동폭 보여...   \n",
       "499   2019-08-22  AJ네트웍스주가(095570) 8월 22일 오늘 가격 4740원, 종목 그래프 외 ...   \n",
       "973   2019-03-27                    3월 27일 AJ네트웍스 종목 그래프 외 증시동향....   \n",
       "2722  2021-10-01         AJ네트웍스, 전 임직원 대상 ‘ESG 경영 교육 및 탄소저감’ 캠페인 실시   \n",
       "255   2019-12-11      12월 11일 AJ네트웍스(095570) 증권그래프 및 매매동향 -0.12% 변동   \n",
       "169   2020-01-30                    AJ네트웍스주가(095570), 30일 -0.82%변화…   \n",
       "270   2019-12-05                  12월 5일 AJ네트웍스 오늘주식시세 -0.61% 4065원   \n",
       "1240  2017-04-14        BBB+등급 AJ네트웍스 회사채 때 아닌 품귀 ‘넷마블 주식 공모’ 노린 수요   \n",
       "42    2021-02-14             AJ네트웍스 렌털플랫폼 모두렌탈 집중, 이현우 불황 견디는 사업 원해   \n",
       "436   2019-09-23                   9월 23일 AJ네트웍스 실시간증시 -0.79% 4370원   \n",
       "204   2020-01-07                          1월 7일 AJ네트웍스종목정보 0.99% 변동   \n",
       "2760  2022-03-03   [장중수급포착] AJ네트웍스, 외국인 29,734주 대량 순매수... 주가 +6.39%   \n",
       "627   2019-07-10    [스타★주식인사이드] AJ네트웍스, 주가 4,910원(7월 10일 13시 9분 기준)   \n",
       "239   2019-12-19                          AJ네트웍스오늘증권시세 19일 현재 4460원   \n",
       "1227  2017-07-21          [ET투자뉴스]AJ네트웍스_거래비중 기관 24.53%, 외국인 19.06%   \n",
       "648   2019-07-04     [스타★주식인사이드] AJ네트웍스, 주가 5,250원(7월 4일 13시 9분 기준)   \n",
       "1310  2018-12-18            <유>AJ네트웍스, 장중 신저가 기록.. 4,310→4,295(▼15)   \n",
       "262   2020-01-05   [주간 도로와철도운송 업종 리포트] 1월 1주차 AJ렌터카, AJ네트웍스, 유성티...   \n",
       "459   2019-09-06                     9월 6일 AJ네트웍스 정보 0.23% 변동폭 보여..   \n",
       "647   2019-07-05               AJ네트웍스 주가증권그래프 외 매매동향... 5일 현재 5300원   \n",
       "2763  2021-10-06  [리포트 브리핑]AJ네트웍스, '백신은 AZ, 렌탈은 AJ' Not Rated - ...   \n",
       "2771  2021-07-19   [장중수급포착] AJ네트웍스, 외국인 28,265주 대량 순매수... 주가 +4.64%   \n",
       "576   2019-07-30                           AJ네트웍스 주가정보 30일 현재 4690원   \n",
       "65    2020-07-22                      BBB급의 도전…AJ네트웍스, 공모시장 시험대 올랐다   \n",
       "1192  2018-03-30                     [종합]AJ네트웍스, 윤규선 지주 부문 대표 신규 선임   \n",
       "2819  2020-12-28   [장중수급포착] AJ네트웍스, 외국인 39,382주 대량 순매수... 주가 +3.30%   \n",
       "425   2019-12-06      AJ네트웍스( 095570 ) , 오후 12시 15분 기준 및 증권정보와 종목동정   \n",
       "\n",
       "                                                   뉴스요약  \n",
       "1146  문덕영 AJ가족 부회장의 두 아들이 1년 새 AJ네트웍스 담보주식 비중을 확대했다....  \n",
       "59    △AJ네트웍스(095570)는 사업 효율성 제고와 지배구조 개선을 위해 계열회사인 ...  \n",
       "1025  ▲AJ네트웍스의 주가정보 ▲지난 2주간 AJ네트웍스 장 마감 시세 ●22일 AJ네트...  \n",
       "354   ▲생활주가정보 AJ네트웍스 흐름▲AJ네트웍스 지난 한달간 흐름 ●차트 분석 지금 차...  \n",
       "499   생활주가정보 AJ네트웍스 흐름AJ네트웍스 지난 한달간 흐름●종목 그래프 분석 현재 ...  \n",
       "973   생활주가정보 AJ네트웍스 주가AJ네트웍스 지난 한달간 시세 ▶종목 그래프 분석 이 ...  \n",
       "2722  서울--(뉴스와이어) AJ네트웍스(095570)가 전 임직원 대상 ESG 경영 교육...  \n",
       "255   ▲생활주가정보 AJ네트웍스 흐름▲AJ네트웍스 지난 한달간 흐름 ●차트 분석 11시1...  \n",
       "169   ▲생활주가정보 AJ네트웍스 흐름▲AJ네트웍스 지난 한달간 흐름 ●종목시황 차트해설 ...  \n",
       "270   ●5일 AJ네트웍스 주가 현황5일 현재 오후 12시 18분 AJ네트웍스(095570...  \n",
       "1240  이투데이=김남현 기자 | BBB+등급 AJ네트웍스(에이제이네트웍스) 회사채가 때 아...  \n",
       "42    이현우 AJ네트웍스 대표이사가 온라인 렌털 플랫폼을 성장동력으로 키우고 있다. 14...  \n",
       "436   ●23일 AJ네트웍스 주가 시황23일 현재 오전 11시 57분 AJ네트웍스(0955...  \n",
       "204   ▲생활주가정보 AJ네트웍스 흐름▲AJ네트웍스 지난 한달간 흐름 ●종목시황 차트해설 ...  \n",
       "2760  로보뉴스 = 03일 10시 15분 현재 AJ네트웍스(095570)는 외국인이 29,...  \n",
       "627   7월 10일 오후 1시 9분 현재 오늘의 스타 AJ네트웍스(095570) 주가가 전...  \n",
       "239   ●19일 AJ네트웍스 종목 현황19일 현재 오후 1시 35분 AJ네트웍스(09557...  \n",
       "1227  업종평균에 비해서 변동폭 대비 수익률은 다소 부정적 21일 오전 10시10분 현재 ...  \n",
       "648   7월 4일 오후 1시 9분 현재 오늘의 스타 AJ네트웍스(095570) 주가가 전일...  \n",
       "1310  오후 1시 14분 현재 AJ네트웍스(095570)가 4.02% 내린 4,295원(▼...  \n",
       "262   이어 AJ네트웍스 (4970원, +1.64%), 동양고속 (27250원, +1.11...  \n",
       "459   생활주가정보 AJ네트웍스 흐름AJ네트웍스 지난 한달간 흐름●주식종목차트분석 지금(1...  \n",
       "647   생활주가정보 AJ네트웍스 흐름AJ네트웍스 지난 한달간 흐름 ●종목 그래프 분석 지금...  \n",
       "2763  로보뉴스 = DB금융투자에서 06일 AJ네트웍스(095570)에 대해 '백신은 AZ...  \n",
       "2771  로보뉴스 = 19일 10시 15분 현재 AJ네트웍스(095570)는 외국인이 28,...  \n",
       "576   생활주가정보 AJ네트웍스 흐름AJ네트웍스 지난 한달간 흐름 ▶종목 그래프 분석 현재...  \n",
       "65    com [데일리동방] AJ네트웍스가 사업 구조 개편을 등에 업고 공모시장에 도전한다...  \n",
       "1192  【서울=뉴시스】 윤규선 AJ네트웍스 신임 대표이사. (사진 = AJ네트웍스 제공) ...  \n",
       "2819  로보뉴스 = 28일 10시 15분 현재 AJ네트웍스(095570)는 외국인이 39,...  \n",
       "425   6일 오후 12시 15분 기준 AJ네트웍스(095570) 주가가 전일대비 -0.24...  "
      ]
     },
     "execution_count": 17,
     "metadata": {},
     "output_type": "execute_result"
    }
   ],
   "source": [
    "df_n.iloc[neu_idx].sample(30)"
   ]
  },
  {
   "cell_type": "code",
   "execution_count": null,
   "id": "d70e2578",
   "metadata": {},
   "outputs": [],
   "source": []
  }
 ],
 "metadata": {
  "kernelspec": {
   "display_name": "Python 3 (ipykernel)",
   "language": "python",
   "name": "python3"
  },
  "language_info": {
   "codemirror_mode": {
    "name": "ipython",
    "version": 3
   },
   "file_extension": ".py",
   "mimetype": "text/x-python",
   "name": "python",
   "nbconvert_exporter": "python",
   "pygments_lexer": "ipython3",
   "version": "3.9.7"
  },
  "toc": {
   "base_numbering": 1,
   "nav_menu": {},
   "number_sections": true,
   "sideBar": true,
   "skip_h1_title": false,
   "title_cell": "Table of Contents",
   "title_sidebar": "Contents",
   "toc_cell": false,
   "toc_position": {},
   "toc_section_display": true,
   "toc_window_display": true
  },
  "varInspector": {
   "cols": {
    "lenName": 16,
    "lenType": 16,
    "lenVar": 40
   },
   "kernels_config": {
    "python": {
     "delete_cmd_postfix": "",
     "delete_cmd_prefix": "del ",
     "library": "var_list.py",
     "varRefreshCmd": "print(var_dic_list())"
    },
    "r": {
     "delete_cmd_postfix": ") ",
     "delete_cmd_prefix": "rm(",
     "library": "var_list.r",
     "varRefreshCmd": "cat(var_dic_list()) "
    }
   },
   "types_to_exclude": [
    "module",
    "function",
    "builtin_function_or_method",
    "instance",
    "_Feature"
   ],
   "window_display": false
  }
 },
 "nbformat": 4,
 "nbformat_minor": 5
}
