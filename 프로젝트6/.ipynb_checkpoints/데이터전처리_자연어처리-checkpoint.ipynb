{
 "cells": [
  {
   "cell_type": "markdown",
   "id": "1fe202bd",
   "metadata": {},
   "source": [
    "# 뉴스기사 전처리 후 저장하기"
   ]
  },
  {
   "cell_type": "code",
   "execution_count": 1,
   "id": "39999621",
   "metadata": {
    "ExecuteTime": {
     "end_time": "2022-06-06T10:10:13.733590Z",
     "start_time": "2022-06-06T10:10:12.723478Z"
    }
   },
   "outputs": [],
   "source": [
    "import pandas as pd\n",
    "import numpy as np\n",
    "import matplotlib.pyplot as plt\n",
    "import seaborn as sns\n",
    "import os\n",
    "\n",
    "# 한글 폰트 사용을 위해서 세팅\n",
    "from matplotlib import font_manager, rc\n",
    "font_path = \"C:/Windows/Fonts/malgun.ttf\"\n",
    "font = font_manager.FontProperties(fname=font_path).get_name()\n",
    "rc('font', family=font)"
   ]
  },
  {
   "cell_type": "code",
   "execution_count": 2,
   "id": "2d2ea82b",
   "metadata": {
    "ExecuteTime": {
     "end_time": "2022-06-06T10:10:16.988869Z",
     "start_time": "2022-06-06T10:10:13.765673Z"
    }
   },
   "outputs": [],
   "source": [
    "import re\n",
    "from pykospacing import Spacing\n",
    "from konlpy.tag import Hannanum,Kkma,Komoran,Okt"
   ]
  },
  {
   "cell_type": "code",
   "execution_count": 3,
   "id": "a0241738",
   "metadata": {
    "ExecuteTime": {
     "end_time": "2022-06-06T10:10:17.128726Z",
     "start_time": "2022-06-06T10:10:17.021331Z"
    }
   },
   "outputs": [],
   "source": [
    "import FinanceDataReader as fdr"
   ]
  },
  {
   "cell_type": "code",
   "execution_count": 4,
   "id": "e83e331b",
   "metadata": {
    "ExecuteTime": {
     "end_time": "2022-06-06T10:10:17.175854Z",
     "start_time": "2022-06-06T10:10:17.161868Z"
    }
   },
   "outputs": [],
   "source": [
    "# 띄어쓰기\n",
    "def spacing_text(docs):\n",
    "    spacing = Spacing()\n",
    "    docs = spacing(docs)\n",
    "    return docs"
   ]
  },
  {
   "cell_type": "code",
   "execution_count": 5,
   "id": "f1ce6633",
   "metadata": {
    "ExecuteTime": {
     "end_time": "2022-06-06T10:10:17.223742Z",
     "start_time": "2022-06-06T10:10:17.208782Z"
    }
   },
   "outputs": [],
   "source": [
    "# 명사 추출\n",
    "def han_noun(docs):\n",
    "    han = Hannanum()\n",
    "    docs = han.nouns(docs)\n",
    "    return docs"
   ]
  },
  {
   "cell_type": "code",
   "execution_count": 6,
   "id": "6eda8bbe",
   "metadata": {
    "ExecuteTime": {
     "end_time": "2022-06-06T10:10:17.271614Z",
     "start_time": "2022-06-06T10:10:17.257651Z"
    }
   },
   "outputs": [],
   "source": [
    "# 모든 날짜 채워주기 (2016-01-01 ~ 2022-03-31)\n",
    "def fill_date(df):\n",
    "    \n",
    "    # 날짜로 묶기\n",
    "    df = df.groupby('날짜')['뉴스제목'].sum().to_frame()\n",
    "    \n",
    "    # 모든 날짜 채우기\n",
    "    idx = pd.date_range('2016-01-01','2022-03-31')\n",
    "    df.index = pd.DatetimeIndex(df.index)\n",
    "    df = df.reindex(idx, fill_value= '')\n",
    "    \n",
    "    return df"
   ]
  },
  {
   "cell_type": "code",
   "execution_count": 7,
   "id": "edc12dcd",
   "metadata": {
    "ExecuteTime": {
     "end_time": "2022-06-06T10:10:17.319100Z",
     "start_time": "2022-06-06T10:10:17.304526Z"
    }
   },
   "outputs": [],
   "source": [
    "# 한글,영어만 남기기\n",
    "def clean_text(docs):\n",
    "    docs = re.sub('[^가-힣A-Za-z ]', '', docs)\n",
    "    docs = re.sub('\\s+', ' ', docs)\n",
    "    docs = '' if docs== ' ' else docs\n",
    "    return docs"
   ]
  },
  {
   "cell_type": "code",
   "execution_count": 8,
   "id": "844af659",
   "metadata": {
    "ExecuteTime": {
     "end_time": "2022-06-06T10:10:17.366267Z",
     "start_time": "2022-06-06T10:10:17.352012Z"
    }
   },
   "outputs": [],
   "source": [
    "# 불용어 제거\n",
    "stw_list = pd.read_csv('./data/stopwords-ko.txt')\n",
    "def remove_stwords(docs):\n",
    "    docs = [w for w in docs if not w in stw_list]\n",
    "    docs = '' if docs== ' ' else docs\n",
    "    docs = [w for w in docs if len(w)>1]\n",
    "    return docs"
   ]
  },
  {
   "cell_type": "code",
   "execution_count": null,
   "id": "119f1573",
   "metadata": {},
   "outputs": [],
   "source": []
  },
  {
   "cell_type": "code",
   "execution_count": 25,
   "id": "e7c2068b",
   "metadata": {
    "ExecuteTime": {
     "end_time": "2022-06-06T06:22:29.149575Z",
     "start_time": "2022-06-06T06:22:29.120890Z"
    }
   },
   "outputs": [
    {
     "name": "stdout",
     "output_type": "stream",
     "text": [
      "907\n"
     ]
    },
    {
     "data": {
      "text/html": [
       "<div>\n",
       "<style scoped>\n",
       "    .dataframe tbody tr th:only-of-type {\n",
       "        vertical-align: middle;\n",
       "    }\n",
       "\n",
       "    .dataframe tbody tr th {\n",
       "        vertical-align: top;\n",
       "    }\n",
       "\n",
       "    .dataframe thead th {\n",
       "        text-align: right;\n",
       "    }\n",
       "</style>\n",
       "<table border=\"1\" class=\"dataframe\">\n",
       "  <thead>\n",
       "    <tr style=\"text-align: right;\">\n",
       "      <th></th>\n",
       "      <th>날짜</th>\n",
       "      <th>뉴스제목</th>\n",
       "      <th>뉴스요약</th>\n",
       "    </tr>\n",
       "  </thead>\n",
       "  <tbody>\n",
       "    <tr>\n",
       "      <th>1313</th>\n",
       "      <td>2016-01-04</td>\n",
       "      <td>AJ네트웍스, SKB 등에업고 '고리사채급 위약금 폭탄'</td>\n",
       "      <td>AJ네트웍스가 SK브로드밴드를 통해 진행중인 '스마트렌탈'의 위약금 규정 및 취급상...</td>\n",
       "    </tr>\n",
       "    <tr>\n",
       "      <th>1312</th>\n",
       "      <td>2016-01-05</td>\n",
       "      <td>AJ네트웍스, 스마트폰, 태블릿PC 렌탈사업 시작</td>\n",
       "      <td>국내 IT기기 렌탈의 선두주자인 AJ네트웍스에서 Mobile Device(스마트폰,...</td>\n",
       "    </tr>\n",
       "    <tr>\n",
       "      <th>1311</th>\n",
       "      <td>2016-01-06</td>\n",
       "      <td>AJ네트웍스, 스마트폰, 태블릿PC 등 Mobile Device 렌탈 사업 시작</td>\n",
       "      <td>국내 IT기기 렌탈의 선두주자인 AJ네트웍스에서 Mobile Device(스마트폰,...</td>\n",
       "    </tr>\n",
       "    <tr>\n",
       "      <th>1332</th>\n",
       "      <td>2016-01-13</td>\n",
       "      <td>AJ네트웍스, 파렛트및 고소장비 렌탈 신규 서비스 브랜드 런칭</td>\n",
       "      <td>AJ네트웍스(사장 반채운)가 파렛트와 고소장비 렌탈 부문의 신규 서비스 브랜드를 런...</td>\n",
       "    </tr>\n",
       "    <tr>\n",
       "      <th>1335</th>\n",
       "      <td>2016-01-22</td>\n",
       "      <td>대상·AJ네트웍스 등 비우량채도 잇달아 발행 성공</td>\n",
       "      <td>신용등급이 BBB+인 AJ네트웍스도 회사채 발행을 위해 지난 20일 투자자들을 대상...</td>\n",
       "    </tr>\n",
       "  </tbody>\n",
       "</table>\n",
       "</div>"
      ],
      "text/plain": [
       "              날짜                                          뉴스제목  \\\n",
       "1313  2016-01-04               AJ네트웍스, SKB 등에업고 '고리사채급 위약금 폭탄'   \n",
       "1312  2016-01-05                   AJ네트웍스, 스마트폰, 태블릿PC 렌탈사업 시작   \n",
       "1311  2016-01-06  AJ네트웍스, 스마트폰, 태블릿PC 등 Mobile Device 렌탈 사업 시작   \n",
       "1332  2016-01-13            AJ네트웍스, 파렛트및 고소장비 렌탈 신규 서비스 브랜드 런칭   \n",
       "1335  2016-01-22                   대상·AJ네트웍스 등 비우량채도 잇달아 발행 성공   \n",
       "\n",
       "                                                   뉴스요약  \n",
       "1313  AJ네트웍스가 SK브로드밴드를 통해 진행중인 '스마트렌탈'의 위약금 규정 및 취급상...  \n",
       "1312  국내 IT기기 렌탈의 선두주자인 AJ네트웍스에서 Mobile Device(스마트폰,...  \n",
       "1311  국내 IT기기 렌탈의 선두주자인 AJ네트웍스에서 Mobile Device(스마트폰,...  \n",
       "1332  AJ네트웍스(사장 반채운)가 파렛트와 고소장비 렌탈 부문의 신규 서비스 브랜드를 런...  \n",
       "1335  신용등급이 BBB+인 AJ네트웍스도 회사채 발행을 위해 지난 20일 투자자들을 대상...  "
      ]
     },
     "execution_count": 25,
     "metadata": {},
     "output_type": "execute_result"
    }
   ],
   "source": [
    "df = pd.read_csv('./data/개별기업뉴스_전처리/AJ네트웍스.csv',index_col=0)\n",
    "print(len(df))\n",
    "df.head()"
   ]
  },
  {
   "cell_type": "code",
   "execution_count": 27,
   "id": "4bc507fa",
   "metadata": {
    "ExecuteTime": {
     "end_time": "2022-06-06T06:22:38.119432Z",
     "start_time": "2022-06-06T06:22:38.107493Z"
    }
   },
   "outputs": [
    {
     "data": {
      "text/html": [
       "<div>\n",
       "<style scoped>\n",
       "    .dataframe tbody tr th:only-of-type {\n",
       "        vertical-align: middle;\n",
       "    }\n",
       "\n",
       "    .dataframe tbody tr th {\n",
       "        vertical-align: top;\n",
       "    }\n",
       "\n",
       "    .dataframe thead th {\n",
       "        text-align: right;\n",
       "    }\n",
       "</style>\n",
       "<table border=\"1\" class=\"dataframe\">\n",
       "  <thead>\n",
       "    <tr style=\"text-align: right;\">\n",
       "      <th></th>\n",
       "      <th>뉴스제목</th>\n",
       "    </tr>\n",
       "  </thead>\n",
       "  <tbody>\n",
       "    <tr>\n",
       "      <th>2016-01-01</th>\n",
       "      <td></td>\n",
       "    </tr>\n",
       "    <tr>\n",
       "      <th>2016-01-02</th>\n",
       "      <td></td>\n",
       "    </tr>\n",
       "    <tr>\n",
       "      <th>2016-01-03</th>\n",
       "      <td></td>\n",
       "    </tr>\n",
       "    <tr>\n",
       "      <th>2016-01-04</th>\n",
       "      <td>AJ네트웍스, SKB 등에업고 '고리사채급 위약금 폭탄'</td>\n",
       "    </tr>\n",
       "    <tr>\n",
       "      <th>2016-01-05</th>\n",
       "      <td>AJ네트웍스, 스마트폰, 태블릿PC 렌탈사업 시작</td>\n",
       "    </tr>\n",
       "  </tbody>\n",
       "</table>\n",
       "</div>"
      ],
      "text/plain": [
       "                                       뉴스제목\n",
       "2016-01-01                                 \n",
       "2016-01-02                                 \n",
       "2016-01-03                                 \n",
       "2016-01-04  AJ네트웍스, SKB 등에업고 '고리사채급 위약금 폭탄'\n",
       "2016-01-05      AJ네트웍스, 스마트폰, 태블릿PC 렌탈사업 시작"
      ]
     },
     "execution_count": 27,
     "metadata": {},
     "output_type": "execute_result"
    }
   ],
   "source": [
    "df = fill_date(df)\n",
    "df.head()"
   ]
  },
  {
   "cell_type": "code",
   "execution_count": 4,
   "id": "07894d9c",
   "metadata": {
    "ExecuteTime": {
     "end_time": "2022-06-06T05:48:01.811397Z",
     "start_time": "2022-06-06T05:48:01.789457Z"
    }
   },
   "outputs": [],
   "source": [
    "df_n = df.groupby('날짜')['뉴스제목'].sum().to_frame()"
   ]
  },
  {
   "cell_type": "code",
   "execution_count": 11,
   "id": "c8cd0ba7",
   "metadata": {
    "ExecuteTime": {
     "end_time": "2022-06-06T05:48:23.243782Z",
     "start_time": "2022-06-06T05:48:23.227795Z"
    }
   },
   "outputs": [
    {
     "data": {
      "text/html": [
       "<div>\n",
       "<style scoped>\n",
       "    .dataframe tbody tr th:only-of-type {\n",
       "        vertical-align: middle;\n",
       "    }\n",
       "\n",
       "    .dataframe tbody tr th {\n",
       "        vertical-align: top;\n",
       "    }\n",
       "\n",
       "    .dataframe thead th {\n",
       "        text-align: right;\n",
       "    }\n",
       "</style>\n",
       "<table border=\"1\" class=\"dataframe\">\n",
       "  <thead>\n",
       "    <tr style=\"text-align: right;\">\n",
       "      <th></th>\n",
       "      <th>뉴스제목</th>\n",
       "      <th>뉴스</th>\n",
       "    </tr>\n",
       "    <tr>\n",
       "      <th>날짜</th>\n",
       "      <th></th>\n",
       "      <th></th>\n",
       "    </tr>\n",
       "  </thead>\n",
       "  <tbody>\n",
       "    <tr>\n",
       "      <th>2016-01-04</th>\n",
       "      <td>AJ네트웍스, SKB 등에업고 '고리사채급 위약금 폭탄'</td>\n",
       "      <td>AJ네트웍스 SKB 등에업고 고리사채급 위약금 폭탄</td>\n",
       "    </tr>\n",
       "    <tr>\n",
       "      <th>2016-01-05</th>\n",
       "      <td>AJ네트웍스, 스마트폰, 태블릿PC 렌탈사업 시작</td>\n",
       "      <td>AJ네트웍스 스마트폰 태블릿PC 렌탈사업 시작</td>\n",
       "    </tr>\n",
       "    <tr>\n",
       "      <th>2016-01-06</th>\n",
       "      <td>AJ네트웍스, 스마트폰, 태블릿PC 등 Mobile Device 렌탈 사업 시작</td>\n",
       "      <td>AJ네트웍스 스마트폰 태블릿PC 등 Mobile Device 렌탈 사업 시작</td>\n",
       "    </tr>\n",
       "    <tr>\n",
       "      <th>2016-01-13</th>\n",
       "      <td>AJ네트웍스, 파렛트및 고소장비 렌탈 신규 서비스 브랜드 런칭</td>\n",
       "      <td>AJ네트웍스 파렛트및 고소장비 렌탈 신규 서비스 브랜드 런칭</td>\n",
       "    </tr>\n",
       "    <tr>\n",
       "      <th>2016-01-22</th>\n",
       "      <td>대상·AJ네트웍스 등 비우량채도 잇달아 발행 성공</td>\n",
       "      <td>대상AJ네트웍스 등 비우량채도 잇달아 발행 성공</td>\n",
       "    </tr>\n",
       "  </tbody>\n",
       "</table>\n",
       "</div>"
      ],
      "text/plain": [
       "                                                    뉴스제목  \\\n",
       "날짜                                                         \n",
       "2016-01-04               AJ네트웍스, SKB 등에업고 '고리사채급 위약금 폭탄'   \n",
       "2016-01-05                   AJ네트웍스, 스마트폰, 태블릿PC 렌탈사업 시작   \n",
       "2016-01-06  AJ네트웍스, 스마트폰, 태블릿PC 등 Mobile Device 렌탈 사업 시작   \n",
       "2016-01-13            AJ네트웍스, 파렛트및 고소장비 렌탈 신규 서비스 브랜드 런칭   \n",
       "2016-01-22                   대상·AJ네트웍스 등 비우량채도 잇달아 발행 성공   \n",
       "\n",
       "                                                    뉴스  \n",
       "날짜                                                      \n",
       "2016-01-04                AJ네트웍스 SKB 등에업고 고리사채급 위약금 폭탄  \n",
       "2016-01-05                   AJ네트웍스 스마트폰 태블릿PC 렌탈사업 시작  \n",
       "2016-01-06  AJ네트웍스 스마트폰 태블릿PC 등 Mobile Device 렌탈 사업 시작  \n",
       "2016-01-13           AJ네트웍스 파렛트및 고소장비 렌탈 신규 서비스 브랜드 런칭  \n",
       "2016-01-22                  대상AJ네트웍스 등 비우량채도 잇달아 발행 성공  "
      ]
     },
     "execution_count": 11,
     "metadata": {},
     "output_type": "execute_result"
    }
   ],
   "source": [
    "df_n['뉴스'] = df_n['뉴스제목'].apply(clean_text)\n",
    "df_n.head()"
   ]
  },
  {
   "cell_type": "code",
   "execution_count": 13,
   "id": "27812162",
   "metadata": {
    "ExecuteTime": {
     "end_time": "2022-06-06T05:52:25.132969Z",
     "start_time": "2022-06-06T05:51:59.550338Z"
    }
   },
   "outputs": [
    {
     "data": {
      "text/plain": [
       "날짜\n",
       "2016-01-04                 AJ네트웍스 SKB 등에 업고 고리 사채급 위약금 폭탄\n",
       "2016-01-05                     AJ네트웍스 스마트폰 태블릿PC 렌탈 사업 시작\n",
       "2016-01-06    AJ네트웍스 스마트폰 태블릿PC 등 Mobile Dev ice 렌탈 사업 시작\n",
       "2016-01-13             AJ네트웍스 파렛트 및 고소장비 렌탈 신규 서비스 브랜드 런칭\n",
       "2016-01-22                    대상 AJ네트웍스 등 비우량채도 잇달아 발행 성공\n",
       "Name: 뉴스, dtype: object"
      ]
     },
     "execution_count": 13,
     "metadata": {},
     "output_type": "execute_result"
    }
   ],
   "source": [
    "df_n['뉴스'] = df_n['뉴스'].apply(spacing_text)\n",
    "df_n['뉴스'].head()"
   ]
  },
  {
   "cell_type": "code",
   "execution_count": 19,
   "id": "b726bb77",
   "metadata": {
    "ExecuteTime": {
     "end_time": "2022-06-06T06:02:01.966357Z",
     "start_time": "2022-06-06T05:57:45.090406Z"
    }
   },
   "outputs": [
    {
     "data": {
      "text/html": [
       "<div>\n",
       "<style scoped>\n",
       "    .dataframe tbody tr th:only-of-type {\n",
       "        vertical-align: middle;\n",
       "    }\n",
       "\n",
       "    .dataframe tbody tr th {\n",
       "        vertical-align: top;\n",
       "    }\n",
       "\n",
       "    .dataframe thead th {\n",
       "        text-align: right;\n",
       "    }\n",
       "</style>\n",
       "<table border=\"1\" class=\"dataframe\">\n",
       "  <thead>\n",
       "    <tr style=\"text-align: right;\">\n",
       "      <th></th>\n",
       "      <th>뉴스제목</th>\n",
       "      <th>뉴스</th>\n",
       "    </tr>\n",
       "    <tr>\n",
       "      <th>날짜</th>\n",
       "      <th></th>\n",
       "      <th></th>\n",
       "    </tr>\n",
       "  </thead>\n",
       "  <tbody>\n",
       "    <tr>\n",
       "      <th>2016-01-04</th>\n",
       "      <td>AJ네트웍스, SKB 등에업고 '고리사채급 위약금 폭탄'</td>\n",
       "      <td>[AJ네트웍스, 등, 사채급, 위약금, 폭탄]</td>\n",
       "    </tr>\n",
       "    <tr>\n",
       "      <th>2016-01-05</th>\n",
       "      <td>AJ네트웍스, 스마트폰, 태블릿PC 렌탈사업 시작</td>\n",
       "      <td>[AJ네트웍스, 스마트폰, 태블릿PC, 렌탈, 사업, 시작]</td>\n",
       "    </tr>\n",
       "    <tr>\n",
       "      <th>2016-01-06</th>\n",
       "      <td>AJ네트웍스, 스마트폰, 태블릿PC 등 Mobile Device 렌탈 사업 시작</td>\n",
       "      <td>[AJ네트웍스, 스마트폰, 태블릿PC, 등, 렌탈, 사업, 시작]</td>\n",
       "    </tr>\n",
       "    <tr>\n",
       "      <th>2016-01-13</th>\n",
       "      <td>AJ네트웍스, 파렛트및 고소장비 렌탈 신규 서비스 브랜드 런칭</td>\n",
       "      <td>[AJ네트웍스, 파렛트, 고소장비, 렌탈, 신규, 서비스, 브랜드, 런칭]</td>\n",
       "    </tr>\n",
       "    <tr>\n",
       "      <th>2016-01-22</th>\n",
       "      <td>대상·AJ네트웍스 등 비우량채도 잇달아 발행 성공</td>\n",
       "      <td>[대상, AJ네트웍스, 등, 우량채, 발행, 성공]</td>\n",
       "    </tr>\n",
       "  </tbody>\n",
       "</table>\n",
       "</div>"
      ],
      "text/plain": [
       "                                                    뉴스제목  \\\n",
       "날짜                                                         \n",
       "2016-01-04               AJ네트웍스, SKB 등에업고 '고리사채급 위약금 폭탄'   \n",
       "2016-01-05                   AJ네트웍스, 스마트폰, 태블릿PC 렌탈사업 시작   \n",
       "2016-01-06  AJ네트웍스, 스마트폰, 태블릿PC 등 Mobile Device 렌탈 사업 시작   \n",
       "2016-01-13            AJ네트웍스, 파렛트및 고소장비 렌탈 신규 서비스 브랜드 런칭   \n",
       "2016-01-22                   대상·AJ네트웍스 등 비우량채도 잇달아 발행 성공   \n",
       "\n",
       "                                                   뉴스  \n",
       "날짜                                                     \n",
       "2016-01-04                  [AJ네트웍스, 등, 사채급, 위약금, 폭탄]  \n",
       "2016-01-05          [AJ네트웍스, 스마트폰, 태블릿PC, 렌탈, 사업, 시작]  \n",
       "2016-01-06       [AJ네트웍스, 스마트폰, 태블릿PC, 등, 렌탈, 사업, 시작]  \n",
       "2016-01-13  [AJ네트웍스, 파렛트, 고소장비, 렌탈, 신규, 서비스, 브랜드, 런칭]  \n",
       "2016-01-22               [대상, AJ네트웍스, 등, 우량채, 발행, 성공]  "
      ]
     },
     "execution_count": 19,
     "metadata": {},
     "output_type": "execute_result"
    }
   ],
   "source": [
    "df_n['뉴스'] = df_n['뉴스'].apply(han_noun)\n",
    "df_n.head()"
   ]
  },
  {
   "cell_type": "code",
   "execution_count": 21,
   "id": "92a19006",
   "metadata": {
    "ExecuteTime": {
     "end_time": "2022-06-06T06:03:48.021543Z",
     "start_time": "2022-06-06T06:03:48.009546Z"
    }
   },
   "outputs": [
    {
     "data": {
      "text/html": [
       "<div>\n",
       "<style scoped>\n",
       "    .dataframe tbody tr th:only-of-type {\n",
       "        vertical-align: middle;\n",
       "    }\n",
       "\n",
       "    .dataframe tbody tr th {\n",
       "        vertical-align: top;\n",
       "    }\n",
       "\n",
       "    .dataframe thead th {\n",
       "        text-align: right;\n",
       "    }\n",
       "</style>\n",
       "<table border=\"1\" class=\"dataframe\">\n",
       "  <thead>\n",
       "    <tr style=\"text-align: right;\">\n",
       "      <th></th>\n",
       "      <th>뉴스제목</th>\n",
       "      <th>뉴스</th>\n",
       "    </tr>\n",
       "    <tr>\n",
       "      <th>날짜</th>\n",
       "      <th></th>\n",
       "      <th></th>\n",
       "    </tr>\n",
       "  </thead>\n",
       "  <tbody>\n",
       "    <tr>\n",
       "      <th>2016-01-04</th>\n",
       "      <td>AJ네트웍스, SKB 등에업고 '고리사채급 위약금 폭탄'</td>\n",
       "      <td>[AJ네트웍스, 사채급, 위약금, 폭탄]</td>\n",
       "    </tr>\n",
       "    <tr>\n",
       "      <th>2016-01-05</th>\n",
       "      <td>AJ네트웍스, 스마트폰, 태블릿PC 렌탈사업 시작</td>\n",
       "      <td>[AJ네트웍스, 스마트폰, 태블릿PC, 렌탈, 사업, 시작]</td>\n",
       "    </tr>\n",
       "    <tr>\n",
       "      <th>2016-01-06</th>\n",
       "      <td>AJ네트웍스, 스마트폰, 태블릿PC 등 Mobile Device 렌탈 사업 시작</td>\n",
       "      <td>[AJ네트웍스, 스마트폰, 태블릿PC, 렌탈, 사업, 시작]</td>\n",
       "    </tr>\n",
       "    <tr>\n",
       "      <th>2016-01-13</th>\n",
       "      <td>AJ네트웍스, 파렛트및 고소장비 렌탈 신규 서비스 브랜드 런칭</td>\n",
       "      <td>[AJ네트웍스, 파렛트, 고소장비, 렌탈, 신규, 서비스, 브랜드, 런칭]</td>\n",
       "    </tr>\n",
       "    <tr>\n",
       "      <th>2016-01-22</th>\n",
       "      <td>대상·AJ네트웍스 등 비우량채도 잇달아 발행 성공</td>\n",
       "      <td>[대상, AJ네트웍스, 우량채, 발행, 성공]</td>\n",
       "    </tr>\n",
       "  </tbody>\n",
       "</table>\n",
       "</div>"
      ],
      "text/plain": [
       "                                                    뉴스제목  \\\n",
       "날짜                                                         \n",
       "2016-01-04               AJ네트웍스, SKB 등에업고 '고리사채급 위약금 폭탄'   \n",
       "2016-01-05                   AJ네트웍스, 스마트폰, 태블릿PC 렌탈사업 시작   \n",
       "2016-01-06  AJ네트웍스, 스마트폰, 태블릿PC 등 Mobile Device 렌탈 사업 시작   \n",
       "2016-01-13            AJ네트웍스, 파렛트및 고소장비 렌탈 신규 서비스 브랜드 런칭   \n",
       "2016-01-22                   대상·AJ네트웍스 등 비우량채도 잇달아 발행 성공   \n",
       "\n",
       "                                                   뉴스  \n",
       "날짜                                                     \n",
       "2016-01-04                     [AJ네트웍스, 사채급, 위약금, 폭탄]  \n",
       "2016-01-05          [AJ네트웍스, 스마트폰, 태블릿PC, 렌탈, 사업, 시작]  \n",
       "2016-01-06          [AJ네트웍스, 스마트폰, 태블릿PC, 렌탈, 사업, 시작]  \n",
       "2016-01-13  [AJ네트웍스, 파렛트, 고소장비, 렌탈, 신규, 서비스, 브랜드, 런칭]  \n",
       "2016-01-22                  [대상, AJ네트웍스, 우량채, 발행, 성공]  "
      ]
     },
     "execution_count": 21,
     "metadata": {},
     "output_type": "execute_result"
    }
   ],
   "source": [
    "df_n['뉴스'] = df_n['뉴스'].apply(remove_stwords)\n",
    "df_n.head()"
   ]
  },
  {
   "cell_type": "code",
   "execution_count": null,
   "id": "09fbaf22",
   "metadata": {},
   "outputs": [],
   "source": []
  },
  {
   "cell_type": "code",
   "execution_count": 22,
   "id": "0631ad88",
   "metadata": {
    "ExecuteTime": {
     "end_time": "2022-06-06T06:20:42.111139Z",
     "start_time": "2022-06-06T06:20:42.102154Z"
    }
   },
   "outputs": [
    {
     "data": {
      "text/plain": [
       "날짜\n",
       "2016-01-04                       [AJ네트웍스, 사채급, 위약금, 폭탄]\n",
       "2016-01-05            [AJ네트웍스, 스마트폰, 태블릿PC, 렌탈, 사업, 시작]\n",
       "2016-01-06            [AJ네트웍스, 스마트폰, 태블릿PC, 렌탈, 사업, 시작]\n",
       "2016-01-13    [AJ네트웍스, 파렛트, 고소장비, 렌탈, 신규, 서비스, 브랜드, 런칭]\n",
       "2016-01-22                    [대상, AJ네트웍스, 우량채, 발행, 성공]\n",
       "Name: 뉴스, dtype: object"
      ]
     },
     "execution_count": 22,
     "metadata": {},
     "output_type": "execute_result"
    }
   ],
   "source": [
    "bgn_date = '2016-01-01'\n",
    "end_date = '2016-02-01'\n",
    "\n",
    "token_lst = df_n['뉴스'].loc[bgn_date:end_date]\n",
    "token_lst"
   ]
  },
  {
   "cell_type": "code",
   "execution_count": 24,
   "id": "bdb30ca9",
   "metadata": {
    "ExecuteTime": {
     "end_time": "2022-06-06T06:21:23.245358Z",
     "start_time": "2022-06-06T06:21:23.230400Z"
    }
   },
   "outputs": [
    {
     "data": {
      "text/plain": [
       "{'사채급': 1,\n",
       " '위약금': 1,\n",
       " '폭탄': 1,\n",
       " '파렛트': 1,\n",
       " '고소장비': 1,\n",
       " '신규': 1,\n",
       " '서비스': 1,\n",
       " '브랜드': 1,\n",
       " '런칭': 1,\n",
       " '대상': 1,\n",
       " '우량채': 1,\n",
       " '발행': 1,\n",
       " '성공': 1,\n",
       " '스마트폰': 2,\n",
       " '태블릿PC': 2,\n",
       " '사업': 2,\n",
       " '시작': 2,\n",
       " '렌탈': 3,\n",
       " 'AJ네트웍스': 5}"
      ]
     },
     "execution_count": 24,
     "metadata": {},
     "output_type": "execute_result"
    }
   ],
   "source": [
    "kw_dict = dict()\n",
    "for tokens in token_lst:\n",
    "\n",
    "    for word in tokens:\n",
    "        if not word in kw_dict.keys():\n",
    "            kw_dict[word] = 1\n",
    "        else:\n",
    "            kw_dict[word] += 1\n",
    "\n",
    "kw_dict = dict(sorted(kw_dict.items(), key = lambda x: x[1]))\n",
    "\n",
    "kw_dict"
   ]
  },
  {
   "cell_type": "code",
   "execution_count": null,
   "id": "0de34533",
   "metadata": {},
   "outputs": [],
   "source": []
  },
  {
   "cell_type": "markdown",
   "id": "5cf956be",
   "metadata": {},
   "source": [
    "# 합친코드"
   ]
  },
  {
   "cell_type": "code",
   "execution_count": 37,
   "id": "c1f09417",
   "metadata": {
    "ExecuteTime": {
     "end_time": "2022-06-06T06:40:32.329812Z",
     "start_time": "2022-06-06T06:40:32.310862Z"
    }
   },
   "outputs": [],
   "source": [
    "df = pd.read_csv('./data/개별기업뉴스_전처리/AJ네트웍스.csv',index_col=0)\n",
    "df = fill_date(df)"
   ]
  },
  {
   "cell_type": "code",
   "execution_count": 38,
   "id": "65bb6c16",
   "metadata": {
    "ExecuteTime": {
     "end_time": "2022-06-06T06:40:40.474122Z",
     "start_time": "2022-06-06T06:40:40.454042Z"
    }
   },
   "outputs": [
    {
     "data": {
      "text/html": [
       "<div>\n",
       "<style scoped>\n",
       "    .dataframe tbody tr th:only-of-type {\n",
       "        vertical-align: middle;\n",
       "    }\n",
       "\n",
       "    .dataframe tbody tr th {\n",
       "        vertical-align: top;\n",
       "    }\n",
       "\n",
       "    .dataframe thead th {\n",
       "        text-align: right;\n",
       "    }\n",
       "</style>\n",
       "<table border=\"1\" class=\"dataframe\">\n",
       "  <thead>\n",
       "    <tr style=\"text-align: right;\">\n",
       "      <th></th>\n",
       "      <th>뉴스제목</th>\n",
       "    </tr>\n",
       "  </thead>\n",
       "  <tbody>\n",
       "    <tr>\n",
       "      <th>2016-01-01</th>\n",
       "      <td></td>\n",
       "    </tr>\n",
       "    <tr>\n",
       "      <th>2016-01-02</th>\n",
       "      <td></td>\n",
       "    </tr>\n",
       "    <tr>\n",
       "      <th>2016-01-03</th>\n",
       "      <td></td>\n",
       "    </tr>\n",
       "    <tr>\n",
       "      <th>2016-01-04</th>\n",
       "      <td>AJ네트웍스, SKB 등에업고 '고리사채급 위약금 폭탄'</td>\n",
       "    </tr>\n",
       "    <tr>\n",
       "      <th>2016-01-05</th>\n",
       "      <td>AJ네트웍스, 스마트폰, 태블릿PC 렌탈사업 시작</td>\n",
       "    </tr>\n",
       "  </tbody>\n",
       "</table>\n",
       "</div>"
      ],
      "text/plain": [
       "                                       뉴스제목\n",
       "2016-01-01                                 \n",
       "2016-01-02                                 \n",
       "2016-01-03                                 \n",
       "2016-01-04  AJ네트웍스, SKB 등에업고 '고리사채급 위약금 폭탄'\n",
       "2016-01-05      AJ네트웍스, 스마트폰, 태블릿PC 렌탈사업 시작"
      ]
     },
     "execution_count": 38,
     "metadata": {},
     "output_type": "execute_result"
    }
   ],
   "source": [
    "df.head()"
   ]
  },
  {
   "cell_type": "code",
   "execution_count": 31,
   "id": "be556422",
   "metadata": {
    "ExecuteTime": {
     "end_time": "2022-06-06T06:35:38.715239Z",
     "start_time": "2022-06-06T06:35:38.704270Z"
    }
   },
   "outputs": [
    {
     "name": "stdout",
     "output_type": "stream",
     "text": [
      "AJ네트웍스\n",
      "AK홀딩스\n",
      "BGF\n"
     ]
    }
   ],
   "source": [
    "path = './data/개별기업뉴스_전처리/'\n",
    "file_list = os.listdir(path)\n",
    "for file in file_list[:3]:\n",
    "    corp_name = file[:-4]\n",
    "    print(corp_name)"
   ]
  },
  {
   "cell_type": "code",
   "execution_count": 53,
   "id": "df16ae38",
   "metadata": {
    "ExecuteTime": {
     "end_time": "2022-06-06T09:28:13.454366Z",
     "start_time": "2022-06-06T09:28:13.430428Z"
    }
   },
   "outputs": [
    {
     "data": {
      "text/html": [
       "<div>\n",
       "<style scoped>\n",
       "    .dataframe tbody tr th:only-of-type {\n",
       "        vertical-align: middle;\n",
       "    }\n",
       "\n",
       "    .dataframe tbody tr th {\n",
       "        vertical-align: top;\n",
       "    }\n",
       "\n",
       "    .dataframe thead th {\n",
       "        text-align: right;\n",
       "    }\n",
       "</style>\n",
       "<table border=\"1\" class=\"dataframe\">\n",
       "  <thead>\n",
       "    <tr style=\"text-align: right;\">\n",
       "      <th></th>\n",
       "      <th>stock_code</th>\n",
       "      <th>회사이름</th>\n",
       "    </tr>\n",
       "  </thead>\n",
       "  <tbody>\n",
       "    <tr>\n",
       "      <th>0</th>\n",
       "      <td>40</td>\n",
       "      <td>KR모터스</td>\n",
       "    </tr>\n",
       "    <tr>\n",
       "      <th>1</th>\n",
       "      <td>50</td>\n",
       "      <td>경방</td>\n",
       "    </tr>\n",
       "    <tr>\n",
       "      <th>2</th>\n",
       "      <td>80</td>\n",
       "      <td>하이트진로</td>\n",
       "    </tr>\n",
       "    <tr>\n",
       "      <th>3</th>\n",
       "      <td>100</td>\n",
       "      <td>유한양행</td>\n",
       "    </tr>\n",
       "    <tr>\n",
       "      <th>4</th>\n",
       "      <td>120</td>\n",
       "      <td>CJ대한통운</td>\n",
       "    </tr>\n",
       "  </tbody>\n",
       "</table>\n",
       "</div>"
      ],
      "text/plain": [
       "   stock_code    회사이름\n",
       "0          40   KR모터스\n",
       "1          50      경방\n",
       "2          80   하이트진로\n",
       "3         100    유한양행\n",
       "4         120  CJ대한통운"
      ]
     },
     "execution_count": 53,
     "metadata": {},
     "output_type": "execute_result"
    }
   ],
   "source": [
    "db_list = pd.read_csv('./data/개별기업명_511',index_col=0)\n",
    "db_list.head()"
   ]
  },
  {
   "cell_type": "code",
   "execution_count": 32,
   "id": "c2e5a924",
   "metadata": {
    "ExecuteTime": {
     "end_time": "2022-06-07T00:34:47.152980Z",
     "start_time": "2022-06-07T00:33:58.209729Z"
    },
    "scrolled": true
   },
   "outputs": [
    {
     "name": "stdout",
     "output_type": "stream",
     "text": [
      "대우부품\n",
      "대우조선해양\n"
     ]
    },
    {
     "ename": "KeyboardInterrupt",
     "evalue": "",
     "output_type": "error",
     "traceback": [
      "\u001b[1;31m---------------------------------------------------------------------------\u001b[0m",
      "\u001b[1;31mKeyboardInterrupt\u001b[0m                         Traceback (most recent call last)",
      "\u001b[1;32m~\\AppData\\Local\\Temp/ipykernel_7312/3049488569.py\u001b[0m in \u001b[0;36m<module>\u001b[1;34m\u001b[0m\n\u001b[0;32m     12\u001b[0m         \u001b[0mdf\u001b[0m \u001b[1;33m=\u001b[0m \u001b[0mfill_date\u001b[0m\u001b[1;33m(\u001b[0m\u001b[0mdf\u001b[0m\u001b[1;33m)\u001b[0m\u001b[1;33m\u001b[0m\u001b[1;33m\u001b[0m\u001b[0m\n\u001b[0;32m     13\u001b[0m         \u001b[0mdf\u001b[0m\u001b[1;33m[\u001b[0m\u001b[1;34m'뉴스'\u001b[0m\u001b[1;33m]\u001b[0m \u001b[1;33m=\u001b[0m \u001b[0mdf\u001b[0m\u001b[1;33m[\u001b[0m\u001b[1;34m'뉴스제목'\u001b[0m\u001b[1;33m]\u001b[0m\u001b[1;33m.\u001b[0m\u001b[0mapply\u001b[0m\u001b[1;33m(\u001b[0m\u001b[0mclean_text\u001b[0m\u001b[1;33m)\u001b[0m\u001b[1;33m\u001b[0m\u001b[1;33m\u001b[0m\u001b[0m\n\u001b[1;32m---> 14\u001b[1;33m         \u001b[0mdf\u001b[0m\u001b[1;33m[\u001b[0m\u001b[1;34m'뉴스'\u001b[0m\u001b[1;33m]\u001b[0m \u001b[1;33m=\u001b[0m \u001b[0mdf\u001b[0m\u001b[1;33m[\u001b[0m\u001b[1;34m'뉴스'\u001b[0m\u001b[1;33m]\u001b[0m\u001b[1;33m.\u001b[0m\u001b[0mapply\u001b[0m\u001b[1;33m(\u001b[0m\u001b[0mhan_noun\u001b[0m\u001b[1;33m)\u001b[0m\u001b[1;33m\u001b[0m\u001b[1;33m\u001b[0m\u001b[0m\n\u001b[0m\u001b[0;32m     15\u001b[0m         \u001b[0mdf\u001b[0m\u001b[1;33m[\u001b[0m\u001b[1;34m'뉴스'\u001b[0m\u001b[1;33m]\u001b[0m \u001b[1;33m=\u001b[0m \u001b[0mdf\u001b[0m\u001b[1;33m[\u001b[0m\u001b[1;34m'뉴스'\u001b[0m\u001b[1;33m]\u001b[0m\u001b[1;33m.\u001b[0m\u001b[0mapply\u001b[0m\u001b[1;33m(\u001b[0m\u001b[0mremove_stwords\u001b[0m\u001b[1;33m)\u001b[0m\u001b[1;33m\u001b[0m\u001b[1;33m\u001b[0m\u001b[0m\n\u001b[0;32m     16\u001b[0m         \u001b[0mdf\u001b[0m\u001b[1;33m.\u001b[0m\u001b[0mto_csv\u001b[0m\u001b[1;33m(\u001b[0m\u001b[1;34m'./data/개별기업뉴스_자연어처리/{}.csv'\u001b[0m\u001b[1;33m.\u001b[0m\u001b[0mformat\u001b[0m\u001b[1;33m(\u001b[0m\u001b[0mcorp_name\u001b[0m\u001b[1;33m)\u001b[0m\u001b[1;33m)\u001b[0m\u001b[1;33m\u001b[0m\u001b[1;33m\u001b[0m\u001b[0m\n",
      "\u001b[1;32m~\\anaconda3\\lib\\site-packages\\pandas\\core\\series.py\u001b[0m in \u001b[0;36mapply\u001b[1;34m(self, func, convert_dtype, args, **kwargs)\u001b[0m\n\u001b[0;32m   4355\u001b[0m         \u001b[0mdtype\u001b[0m\u001b[1;33m:\u001b[0m \u001b[0mfloat64\u001b[0m\u001b[1;33m\u001b[0m\u001b[1;33m\u001b[0m\u001b[0m\n\u001b[0;32m   4356\u001b[0m         \"\"\"\n\u001b[1;32m-> 4357\u001b[1;33m         \u001b[1;32mreturn\u001b[0m \u001b[0mSeriesApply\u001b[0m\u001b[1;33m(\u001b[0m\u001b[0mself\u001b[0m\u001b[1;33m,\u001b[0m \u001b[0mfunc\u001b[0m\u001b[1;33m,\u001b[0m \u001b[0mconvert_dtype\u001b[0m\u001b[1;33m,\u001b[0m \u001b[0margs\u001b[0m\u001b[1;33m,\u001b[0m \u001b[0mkwargs\u001b[0m\u001b[1;33m)\u001b[0m\u001b[1;33m.\u001b[0m\u001b[0mapply\u001b[0m\u001b[1;33m(\u001b[0m\u001b[1;33m)\u001b[0m\u001b[1;33m\u001b[0m\u001b[1;33m\u001b[0m\u001b[0m\n\u001b[0m\u001b[0;32m   4358\u001b[0m \u001b[1;33m\u001b[0m\u001b[0m\n\u001b[0;32m   4359\u001b[0m     def _reduce(\n",
      "\u001b[1;32m~\\anaconda3\\lib\\site-packages\\pandas\\core\\apply.py\u001b[0m in \u001b[0;36mapply\u001b[1;34m(self)\u001b[0m\n\u001b[0;32m   1041\u001b[0m             \u001b[1;32mreturn\u001b[0m \u001b[0mself\u001b[0m\u001b[1;33m.\u001b[0m\u001b[0mapply_str\u001b[0m\u001b[1;33m(\u001b[0m\u001b[1;33m)\u001b[0m\u001b[1;33m\u001b[0m\u001b[1;33m\u001b[0m\u001b[0m\n\u001b[0;32m   1042\u001b[0m \u001b[1;33m\u001b[0m\u001b[0m\n\u001b[1;32m-> 1043\u001b[1;33m         \u001b[1;32mreturn\u001b[0m \u001b[0mself\u001b[0m\u001b[1;33m.\u001b[0m\u001b[0mapply_standard\u001b[0m\u001b[1;33m(\u001b[0m\u001b[1;33m)\u001b[0m\u001b[1;33m\u001b[0m\u001b[1;33m\u001b[0m\u001b[0m\n\u001b[0m\u001b[0;32m   1044\u001b[0m \u001b[1;33m\u001b[0m\u001b[0m\n\u001b[0;32m   1045\u001b[0m     \u001b[1;32mdef\u001b[0m \u001b[0magg\u001b[0m\u001b[1;33m(\u001b[0m\u001b[0mself\u001b[0m\u001b[1;33m)\u001b[0m\u001b[1;33m:\u001b[0m\u001b[1;33m\u001b[0m\u001b[1;33m\u001b[0m\u001b[0m\n",
      "\u001b[1;32m~\\anaconda3\\lib\\site-packages\\pandas\\core\\apply.py\u001b[0m in \u001b[0;36mapply_standard\u001b[1;34m(self)\u001b[0m\n\u001b[0;32m   1096\u001b[0m                 \u001b[1;31m# List[Union[Callable[..., Any], str]]]]]\"; expected\u001b[0m\u001b[1;33m\u001b[0m\u001b[1;33m\u001b[0m\u001b[0m\n\u001b[0;32m   1097\u001b[0m                 \u001b[1;31m# \"Callable[[Any], Any]\"\u001b[0m\u001b[1;33m\u001b[0m\u001b[1;33m\u001b[0m\u001b[0m\n\u001b[1;32m-> 1098\u001b[1;33m                 mapped = lib.map_infer(\n\u001b[0m\u001b[0;32m   1099\u001b[0m                     \u001b[0mvalues\u001b[0m\u001b[1;33m,\u001b[0m\u001b[1;33m\u001b[0m\u001b[1;33m\u001b[0m\u001b[0m\n\u001b[0;32m   1100\u001b[0m                     \u001b[0mf\u001b[0m\u001b[1;33m,\u001b[0m  \u001b[1;31m# type: ignore[arg-type]\u001b[0m\u001b[1;33m\u001b[0m\u001b[1;33m\u001b[0m\u001b[0m\n",
      "\u001b[1;32m~\\anaconda3\\lib\\site-packages\\pandas\\_libs\\lib.pyx\u001b[0m in \u001b[0;36mpandas._libs.lib.map_infer\u001b[1;34m()\u001b[0m\n",
      "\u001b[1;32m~\\AppData\\Local\\Temp/ipykernel_7312/2348314726.py\u001b[0m in \u001b[0;36mhan_noun\u001b[1;34m(docs)\u001b[0m\n\u001b[0;32m      2\u001b[0m \u001b[1;32mdef\u001b[0m \u001b[0mhan_noun\u001b[0m\u001b[1;33m(\u001b[0m\u001b[0mdocs\u001b[0m\u001b[1;33m)\u001b[0m\u001b[1;33m:\u001b[0m\u001b[1;33m\u001b[0m\u001b[1;33m\u001b[0m\u001b[0m\n\u001b[0;32m      3\u001b[0m     \u001b[0mhan\u001b[0m \u001b[1;33m=\u001b[0m \u001b[0mHannanum\u001b[0m\u001b[1;33m(\u001b[0m\u001b[1;33m)\u001b[0m\u001b[1;33m\u001b[0m\u001b[1;33m\u001b[0m\u001b[0m\n\u001b[1;32m----> 4\u001b[1;33m     \u001b[0mdocs\u001b[0m \u001b[1;33m=\u001b[0m \u001b[0mhan\u001b[0m\u001b[1;33m.\u001b[0m\u001b[0mnouns\u001b[0m\u001b[1;33m(\u001b[0m\u001b[0mdocs\u001b[0m\u001b[1;33m)\u001b[0m\u001b[1;33m\u001b[0m\u001b[1;33m\u001b[0m\u001b[0m\n\u001b[0m\u001b[0;32m      5\u001b[0m     \u001b[1;32mreturn\u001b[0m \u001b[0mdocs\u001b[0m\u001b[1;33m\u001b[0m\u001b[1;33m\u001b[0m\u001b[0m\n",
      "\u001b[1;32m~\\anaconda3\\lib\\site-packages\\konlpy\\tag\\_hannanum.py\u001b[0m in \u001b[0;36mnouns\u001b[1;34m(self, phrase)\u001b[0m\n\u001b[0;32m    107\u001b[0m         \u001b[1;34m\"\"\"Noun extractor.\"\"\"\u001b[0m\u001b[1;33m\u001b[0m\u001b[1;33m\u001b[0m\u001b[0m\n\u001b[0;32m    108\u001b[0m \u001b[1;33m\u001b[0m\u001b[0m\n\u001b[1;32m--> 109\u001b[1;33m         \u001b[0mtagged\u001b[0m \u001b[1;33m=\u001b[0m \u001b[0mself\u001b[0m\u001b[1;33m.\u001b[0m\u001b[0mpos\u001b[0m\u001b[1;33m(\u001b[0m\u001b[0mphrase\u001b[0m\u001b[1;33m)\u001b[0m\u001b[1;33m\u001b[0m\u001b[1;33m\u001b[0m\u001b[0m\n\u001b[0m\u001b[0;32m    110\u001b[0m         \u001b[1;32mreturn\u001b[0m \u001b[1;33m[\u001b[0m\u001b[0ms\u001b[0m \u001b[1;32mfor\u001b[0m \u001b[0ms\u001b[0m\u001b[1;33m,\u001b[0m \u001b[0mt\u001b[0m \u001b[1;32min\u001b[0m \u001b[0mtagged\u001b[0m \u001b[1;32mif\u001b[0m \u001b[0mt\u001b[0m\u001b[1;33m.\u001b[0m\u001b[0mstartswith\u001b[0m\u001b[1;33m(\u001b[0m\u001b[1;34m'N'\u001b[0m\u001b[1;33m)\u001b[0m\u001b[1;33m]\u001b[0m\u001b[1;33m\u001b[0m\u001b[1;33m\u001b[0m\u001b[0m\n\u001b[0;32m    111\u001b[0m \u001b[1;33m\u001b[0m\u001b[0m\n",
      "\u001b[1;32m~\\anaconda3\\lib\\site-packages\\konlpy\\tag\\_hannanum.py\u001b[0m in \u001b[0;36mpos\u001b[1;34m(self, phrase, ntags, flatten, join)\u001b[0m\n\u001b[0;32m     97\u001b[0m \u001b[1;33m\u001b[0m\u001b[0m\n\u001b[0;32m     98\u001b[0m         \u001b[1;32mif\u001b[0m \u001b[0mntags\u001b[0m \u001b[1;33m==\u001b[0m \u001b[1;36m9\u001b[0m\u001b[1;33m:\u001b[0m\u001b[1;33m\u001b[0m\u001b[1;33m\u001b[0m\u001b[0m\n\u001b[1;32m---> 99\u001b[1;33m             \u001b[0mresult\u001b[0m \u001b[1;33m=\u001b[0m \u001b[0mself\u001b[0m\u001b[1;33m.\u001b[0m\u001b[0mjhi\u001b[0m\u001b[1;33m.\u001b[0m\u001b[0msimplePos09\u001b[0m\u001b[1;33m(\u001b[0m\u001b[0mphrase\u001b[0m\u001b[1;33m)\u001b[0m\u001b[1;33m\u001b[0m\u001b[1;33m\u001b[0m\u001b[0m\n\u001b[0m\u001b[0;32m    100\u001b[0m         \u001b[1;32melif\u001b[0m \u001b[0mntags\u001b[0m \u001b[1;33m==\u001b[0m \u001b[1;36m22\u001b[0m\u001b[1;33m:\u001b[0m\u001b[1;33m\u001b[0m\u001b[1;33m\u001b[0m\u001b[0m\n\u001b[0;32m    101\u001b[0m             \u001b[0mresult\u001b[0m \u001b[1;33m=\u001b[0m \u001b[0mself\u001b[0m\u001b[1;33m.\u001b[0m\u001b[0mjhi\u001b[0m\u001b[1;33m.\u001b[0m\u001b[0msimplePos22\u001b[0m\u001b[1;33m(\u001b[0m\u001b[0mphrase\u001b[0m\u001b[1;33m)\u001b[0m\u001b[1;33m\u001b[0m\u001b[1;33m\u001b[0m\u001b[0m\n",
      "\u001b[1;31mKeyboardInterrupt\u001b[0m: "
     ]
    }
   ],
   "source": [
    "# 완성코드\n",
    "db_list = pd.read_csv('./data/개별기업명_511.csv',index_col=0)\n",
    "path = './data/개별기업뉴스_전처리/'\n",
    "file_list = os.listdir(path)\n",
    "\n",
    "for file in file_list[200:300]:\n",
    "    corp_name = file[:-4]\n",
    "    print(corp_name)\n",
    "    if corp_name in db_list['회사이름'].values:\n",
    "        file_path = os.path.join(path,file)\n",
    "        df = pd.read_csv(file_path,index_col=0)\n",
    "        df = fill_date(df)\n",
    "        df['뉴스'] = df['뉴스제목'].apply(clean_text)\n",
    "        df['뉴스'] = df['뉴스'].apply(han_noun)\n",
    "        df['뉴스'] = df['뉴스'].apply(remove_stwords)\n",
    "        df.to_csv('./data/개별기업뉴스_자연어처리/{}.csv'.format(corp_name))"
   ]
  },
  {
   "cell_type": "code",
   "execution_count": null,
   "id": "6173a8cb",
   "metadata": {},
   "outputs": [],
   "source": [
    "# 0:90\n",
    "# 90:200"
   ]
  },
  {
   "cell_type": "code",
   "execution_count": 19,
   "id": "2b20bfed",
   "metadata": {
    "ExecuteTime": {
     "end_time": "2022-06-06T13:04:22.898656Z",
     "start_time": "2022-06-06T13:04:22.813018Z"
    }
   },
   "outputs": [],
   "source": [
    "df = pd.read_csv('./data/개별기업뉴스_전처리/LG전자.csv',index_col=0)\n",
    "df = fill_date(df)\n",
    "df = df.iloc[:20]"
   ]
  },
  {
   "cell_type": "code",
   "execution_count": 20,
   "id": "88ce65f9",
   "metadata": {
    "ExecuteTime": {
     "end_time": "2022-06-06T13:04:26.026063Z",
     "start_time": "2022-06-06T13:04:23.317281Z"
    },
    "scrolled": true
   },
   "outputs": [],
   "source": [
    "df['뉴스'] = df['뉴스제목'].apply(clean_text)\n",
    "df['뉴스'] = df['뉴스'].apply(han_noun)\n",
    "df['뉴스'] = df['뉴스'].apply(remove_stwords)"
   ]
  },
  {
   "cell_type": "code",
   "execution_count": 21,
   "id": "3e60a143",
   "metadata": {
    "ExecuteTime": {
     "end_time": "2022-06-06T13:04:27.290571Z",
     "start_time": "2022-06-06T13:04:27.269605Z"
    }
   },
   "outputs": [
    {
     "data": {
      "text/html": [
       "<div>\n",
       "<style scoped>\n",
       "    .dataframe tbody tr th:only-of-type {\n",
       "        vertical-align: middle;\n",
       "    }\n",
       "\n",
       "    .dataframe tbody tr th {\n",
       "        vertical-align: top;\n",
       "    }\n",
       "\n",
       "    .dataframe thead th {\n",
       "        text-align: right;\n",
       "    }\n",
       "</style>\n",
       "<table border=\"1\" class=\"dataframe\">\n",
       "  <thead>\n",
       "    <tr style=\"text-align: right;\">\n",
       "      <th></th>\n",
       "      <th>뉴스제목</th>\n",
       "      <th>뉴스</th>\n",
       "    </tr>\n",
       "  </thead>\n",
       "  <tbody>\n",
       "    <tr>\n",
       "      <th>2016-01-01</th>\n",
       "      <td></td>\n",
       "      <td>[]</td>\n",
       "    </tr>\n",
       "    <tr>\n",
       "      <th>2016-01-02</th>\n",
       "      <td></td>\n",
       "      <td>[]</td>\n",
       "    </tr>\n",
       "    <tr>\n",
       "      <th>2016-01-03</th>\n",
       "      <td>LG전자, 더 선명해진 ‘슈퍼 울트라HD TV’ 공개</td>\n",
       "      <td>[전자, 선명, 슈퍼, 울트라HD, 공개]</td>\n",
       "    </tr>\n",
       "    <tr>\n",
       "      <th>2016-01-04</th>\n",
       "      <td>LG전자 조성진 사장, “2016년은 ‘주도적 변화 창출’의 해”</td>\n",
       "      <td>[전자, 조성진, 사장, 주도적, 변화, 창출]</td>\n",
       "    </tr>\n",
       "    <tr>\n",
       "      <th>2016-01-05</th>\n",
       "      <td>LG전자, 보급형 스마트폰 ‘K 시리즈’ ‘CES 2016’서 공개LG전자, CES...</td>\n",
       "      <td>[전자, 보급형, 스마트폰, 시리즈, 공개LG전자, 글로벌, 시장선, 전략제품]</td>\n",
       "    </tr>\n",
       "    <tr>\n",
       "      <th>2016-01-06</th>\n",
       "      <td>LG전자 안승권 사장 “LG 시그니처에 기술과 디자인의 정수 담았다”</td>\n",
       "      <td>[전자, 안승권, 사장, 시그니처, 기술, 디자인, 정수]</td>\n",
       "    </tr>\n",
       "    <tr>\n",
       "      <th>2016-01-07</th>\n",
       "      <td></td>\n",
       "      <td>[]</td>\n",
       "    </tr>\n",
       "    <tr>\n",
       "      <th>2016-01-08</th>\n",
       "      <td>LG전자, 超프리미엄 빌트인 브랜드 ‘시그니처 키친 스위트’ 론칭</td>\n",
       "      <td>[전자, 프리미엄, 빌트, 브랜드, 시그니처, 키친, 스위트, 론칭]</td>\n",
       "    </tr>\n",
       "    <tr>\n",
       "      <th>2016-01-09</th>\n",
       "      <td></td>\n",
       "      <td>[]</td>\n",
       "    </tr>\n",
       "    <tr>\n",
       "      <th>2016-01-10</th>\n",
       "      <td>LG전자, 프리미엄급 디자인 보급형 스마트폰 ‘K10’ 국내 출시</td>\n",
       "      <td>[전자, 프리미엄급, 디자인, 보급형, 스마트폰, 국내, 출시]</td>\n",
       "    </tr>\n",
       "    <tr>\n",
       "      <th>2016-01-11</th>\n",
       "      <td>LG전자, 스마트 인버터 모터 탑재 침구킹 출시</td>\n",
       "      <td>[전자, 스마트, 인버터, 모터, 탑재, 침구킹, 출시]</td>\n",
       "    </tr>\n",
       "    <tr>\n",
       "      <th>2016-01-12</th>\n",
       "      <td>LG전자, 휘센 듀얼 에어컨 신제품 공개LG전자, 주방가전 캐시백 혜택 이벤트 실시</td>\n",
       "      <td>[전자, 휘센, 듀얼, 에어컨, 신제품, 공개LG전자, 주방가전, 캐시백, 혜택, ...</td>\n",
       "    </tr>\n",
       "    <tr>\n",
       "      <th>2016-01-13</th>\n",
       "      <td>LG전자 구미에 5천억원대 신규투자…일자리 창출 &lt;경북&gt;[경북] LG전자, 구미 태...</td>\n",
       "      <td>[전자, 구미, 천억원, 신규투자일자리, 창출, 경북경북, 전자, 구미, 태양광, ...</td>\n",
       "    </tr>\n",
       "    <tr>\n",
       "      <th>2016-01-14</th>\n",
       "      <td>LG전자, 커피 두 잔 무게 15인치대 초경량 노트북 출시LG전자, 980g 대화면...</td>\n",
       "      <td>[전자, 커피, 인치, 초경량, 노트북, 출시LG전자, 대화, 노트북, 그램, 출시]</td>\n",
       "    </tr>\n",
       "    <tr>\n",
       "      <th>2016-01-15</th>\n",
       "      <td>LG전자, 신년맞이 코드제로 제품 캐시백 혜택 증정</td>\n",
       "      <td>[전자, 신년맞이, 코드제, 제품, 캐시백, 혜택, 증정]</td>\n",
       "    </tr>\n",
       "    <tr>\n",
       "      <th>2016-01-16</th>\n",
       "      <td></td>\n",
       "      <td>[]</td>\n",
       "    </tr>\n",
       "    <tr>\n",
       "      <th>2016-01-17</th>\n",
       "      <td></td>\n",
       "      <td>[]</td>\n",
       "    </tr>\n",
       "    <tr>\n",
       "      <th>2016-01-18</th>\n",
       "      <td></td>\n",
       "      <td>[]</td>\n",
       "    </tr>\n",
       "    <tr>\n",
       "      <th>2016-01-19</th>\n",
       "      <td></td>\n",
       "      <td>[]</td>\n",
       "    </tr>\n",
       "    <tr>\n",
       "      <th>2016-01-20</th>\n",
       "      <td>LG전자 - LG생활건강, ‘2016 세계여자야구월드컵’ 후원SBS-LG전자, 세계...</td>\n",
       "      <td>[전자, LG생활건강, 세계여자야구월드컵, 후원SBSLG전자, 세계, 최초, 실험방...</td>\n",
       "    </tr>\n",
       "  </tbody>\n",
       "</table>\n",
       "</div>"
      ],
      "text/plain": [
       "                                                         뉴스제목  \\\n",
       "2016-01-01                                                      \n",
       "2016-01-02                                                      \n",
       "2016-01-03                      LG전자, 더 선명해진 ‘슈퍼 울트라HD TV’ 공개   \n",
       "2016-01-04               LG전자 조성진 사장, “2016년은 ‘주도적 변화 창출’의 해”   \n",
       "2016-01-05  LG전자, 보급형 스마트폰 ‘K 시리즈’ ‘CES 2016’서 공개LG전자, CES...   \n",
       "2016-01-06             LG전자 안승권 사장 “LG 시그니처에 기술과 디자인의 정수 담았다”   \n",
       "2016-01-07                                                      \n",
       "2016-01-08               LG전자, 超프리미엄 빌트인 브랜드 ‘시그니처 키친 스위트’ 론칭   \n",
       "2016-01-09                                                      \n",
       "2016-01-10               LG전자, 프리미엄급 디자인 보급형 스마트폰 ‘K10’ 국내 출시   \n",
       "2016-01-11                         LG전자, 스마트 인버터 모터 탑재 침구킹 출시   \n",
       "2016-01-12     LG전자, 휘센 듀얼 에어컨 신제품 공개LG전자, 주방가전 캐시백 혜택 이벤트 실시   \n",
       "2016-01-13  LG전자 구미에 5천억원대 신규투자…일자리 창출 <경북>[경북] LG전자, 구미 태...   \n",
       "2016-01-14  LG전자, 커피 두 잔 무게 15인치대 초경량 노트북 출시LG전자, 980g 대화면...   \n",
       "2016-01-15                       LG전자, 신년맞이 코드제로 제품 캐시백 혜택 증정   \n",
       "2016-01-16                                                      \n",
       "2016-01-17                                                      \n",
       "2016-01-18                                                      \n",
       "2016-01-19                                                      \n",
       "2016-01-20  LG전자 - LG생활건강, ‘2016 세계여자야구월드컵’ 후원SBS-LG전자, 세계...   \n",
       "\n",
       "                                                           뉴스  \n",
       "2016-01-01                                                 []  \n",
       "2016-01-02                                                 []  \n",
       "2016-01-03                            [전자, 선명, 슈퍼, 울트라HD, 공개]  \n",
       "2016-01-04                         [전자, 조성진, 사장, 주도적, 변화, 창출]  \n",
       "2016-01-05       [전자, 보급형, 스마트폰, 시리즈, 공개LG전자, 글로벌, 시장선, 전략제품]  \n",
       "2016-01-06                   [전자, 안승권, 사장, 시그니처, 기술, 디자인, 정수]  \n",
       "2016-01-07                                                 []  \n",
       "2016-01-08             [전자, 프리미엄, 빌트, 브랜드, 시그니처, 키친, 스위트, 론칭]  \n",
       "2016-01-09                                                 []  \n",
       "2016-01-10                [전자, 프리미엄급, 디자인, 보급형, 스마트폰, 국내, 출시]  \n",
       "2016-01-11                    [전자, 스마트, 인버터, 모터, 탑재, 침구킹, 출시]  \n",
       "2016-01-12  [전자, 휘센, 듀얼, 에어컨, 신제품, 공개LG전자, 주방가전, 캐시백, 혜택, ...  \n",
       "2016-01-13  [전자, 구미, 천억원, 신규투자일자리, 창출, 경북경북, 전자, 구미, 태양광, ...  \n",
       "2016-01-14    [전자, 커피, 인치, 초경량, 노트북, 출시LG전자, 대화, 노트북, 그램, 출시]  \n",
       "2016-01-15                   [전자, 신년맞이, 코드제, 제품, 캐시백, 혜택, 증정]  \n",
       "2016-01-16                                                 []  \n",
       "2016-01-17                                                 []  \n",
       "2016-01-18                                                 []  \n",
       "2016-01-19                                                 []  \n",
       "2016-01-20  [전자, LG생활건강, 세계여자야구월드컵, 후원SBSLG전자, 세계, 최초, 실험방...  "
      ]
     },
     "execution_count": 21,
     "metadata": {},
     "output_type": "execute_result"
    }
   ],
   "source": [
    "df"
   ]
  },
  {
   "cell_type": "code",
   "execution_count": null,
   "id": "31086ef6",
   "metadata": {},
   "outputs": [],
   "source": []
  },
  {
   "cell_type": "code",
   "execution_count": 45,
   "id": "afd6fcf1",
   "metadata": {
    "ExecuteTime": {
     "end_time": "2022-06-06T09:04:19.976045Z",
     "start_time": "2022-06-06T09:04:19.959112Z"
    }
   },
   "outputs": [
    {
     "data": {
      "text/html": [
       "<div>\n",
       "<style scoped>\n",
       "    .dataframe tbody tr th:only-of-type {\n",
       "        vertical-align: middle;\n",
       "    }\n",
       "\n",
       "    .dataframe tbody tr th {\n",
       "        vertical-align: top;\n",
       "    }\n",
       "\n",
       "    .dataframe thead th {\n",
       "        text-align: right;\n",
       "    }\n",
       "</style>\n",
       "<table border=\"1\" class=\"dataframe\">\n",
       "  <thead>\n",
       "    <tr style=\"text-align: right;\">\n",
       "      <th></th>\n",
       "      <th>stock_code</th>\n",
       "    </tr>\n",
       "  </thead>\n",
       "  <tbody>\n",
       "    <tr>\n",
       "      <th>0</th>\n",
       "      <td>000040</td>\n",
       "    </tr>\n",
       "    <tr>\n",
       "      <th>1</th>\n",
       "      <td>000050</td>\n",
       "    </tr>\n",
       "    <tr>\n",
       "      <th>2</th>\n",
       "      <td>000080</td>\n",
       "    </tr>\n",
       "    <tr>\n",
       "      <th>3</th>\n",
       "      <td>000100</td>\n",
       "    </tr>\n",
       "    <tr>\n",
       "      <th>4</th>\n",
       "      <td>000120</td>\n",
       "    </tr>\n",
       "    <tr>\n",
       "      <th>...</th>\n",
       "      <td>...</td>\n",
       "    </tr>\n",
       "    <tr>\n",
       "      <th>506</th>\n",
       "      <td>214330</td>\n",
       "    </tr>\n",
       "    <tr>\n",
       "      <th>507</th>\n",
       "      <td>214420</td>\n",
       "    </tr>\n",
       "    <tr>\n",
       "      <th>508</th>\n",
       "      <td>226320</td>\n",
       "    </tr>\n",
       "    <tr>\n",
       "      <th>509</th>\n",
       "      <td>227840</td>\n",
       "    </tr>\n",
       "    <tr>\n",
       "      <th>510</th>\n",
       "      <td>900140</td>\n",
       "    </tr>\n",
       "  </tbody>\n",
       "</table>\n",
       "<p>511 rows × 1 columns</p>\n",
       "</div>"
      ],
      "text/plain": [
       "    stock_code\n",
       "0       000040\n",
       "1       000050\n",
       "2       000080\n",
       "3       000100\n",
       "4       000120\n",
       "..         ...\n",
       "506     214330\n",
       "507     214420\n",
       "508     226320\n",
       "509     227840\n",
       "510     900140\n",
       "\n",
       "[511 rows x 1 columns]"
      ]
     },
     "execution_count": 45,
     "metadata": {},
     "output_type": "execute_result"
    }
   ],
   "source": [
    "db_list = pd.read_csv('./data/DB_list_stock_code.csv',index_col=0)\n",
    "db_list['stock_code'] = db_list['stock_code'].apply(lambda x: str(x).zfill(6))\n",
    "db_list"
   ]
  },
  {
   "cell_type": "code",
   "execution_count": 50,
   "id": "9a9eeb2b",
   "metadata": {
    "ExecuteTime": {
     "end_time": "2022-06-06T09:08:02.278378Z",
     "start_time": "2022-06-06T09:08:02.265417Z"
    }
   },
   "outputs": [
    {
     "data": {
      "text/plain": [
       "511"
      ]
     },
     "execution_count": 50,
     "metadata": {},
     "output_type": "execute_result"
    }
   ],
   "source": [
    "len(corp_list)"
   ]
  },
  {
   "cell_type": "code",
   "execution_count": null,
   "id": "57b733d8",
   "metadata": {},
   "outputs": [],
   "source": []
  }
 ],
 "metadata": {
  "kernelspec": {
   "display_name": "Python 3 (ipykernel)",
   "language": "python",
   "name": "python3"
  },
  "language_info": {
   "codemirror_mode": {
    "name": "ipython",
    "version": 3
   },
   "file_extension": ".py",
   "mimetype": "text/x-python",
   "name": "python",
   "nbconvert_exporter": "python",
   "pygments_lexer": "ipython3",
   "version": "3.9.7"
  },
  "toc": {
   "base_numbering": 1,
   "nav_menu": {},
   "number_sections": true,
   "sideBar": true,
   "skip_h1_title": false,
   "title_cell": "Table of Contents",
   "title_sidebar": "Contents",
   "toc_cell": false,
   "toc_position": {},
   "toc_section_display": true,
   "toc_window_display": true
  },
  "varInspector": {
   "cols": {
    "lenName": 16,
    "lenType": 16,
    "lenVar": 40
   },
   "kernels_config": {
    "python": {
     "delete_cmd_postfix": "",
     "delete_cmd_prefix": "del ",
     "library": "var_list.py",
     "varRefreshCmd": "print(var_dic_list())"
    },
    "r": {
     "delete_cmd_postfix": ") ",
     "delete_cmd_prefix": "rm(",
     "library": "var_list.r",
     "varRefreshCmd": "cat(var_dic_list()) "
    }
   },
   "types_to_exclude": [
    "module",
    "function",
    "builtin_function_or_method",
    "instance",
    "_Feature"
   ],
   "window_display": false
  }
 },
 "nbformat": 4,
 "nbformat_minor": 5
}
