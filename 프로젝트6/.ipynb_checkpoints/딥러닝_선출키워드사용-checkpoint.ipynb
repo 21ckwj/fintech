{
 "cells": [
  {
   "cell_type": "markdown",
   "id": "c638df9f",
   "metadata": {},
   "source": [
    "# 딥러닝 사용해보기"
   ]
  },
  {
   "cell_type": "code",
   "execution_count": 8,
   "id": "8c635bf1",
   "metadata": {
    "ExecuteTime": {
     "end_time": "2022-06-13T01:35:36.228142Z",
     "start_time": "2022-06-13T01:35:36.217129Z"
    }
   },
   "outputs": [],
   "source": [
    "import pandas as pd\n",
    "import numpy as np\n",
    "import matplotlib.pyplot as plt\n",
    "import seaborn as sns\n",
    "\n",
    "# 한글 폰트 사용을 위해서 세팅\n",
    "from matplotlib import font_manager, rc\n",
    "font_path = \"C:/Windows/Fonts/malgun.ttf\"\n",
    "font = font_manager.FontProperties(fname=font_path).get_name()\n",
    "rc('font', family=font)\n",
    "\n",
    "import warnings \n",
    "warnings.filterwarnings('ignore')\n",
    "import os \n",
    "import re\n",
    "import FinanceDataReader as fdr\n",
    "import joblib"
   ]
  },
  {
   "cell_type": "code",
   "execution_count": 10,
   "id": "71d7c151",
   "metadata": {
    "ExecuteTime": {
     "end_time": "2022-06-13T01:42:00.028299Z",
     "start_time": "2022-06-13T01:41:59.841050Z"
    }
   },
   "outputs": [],
   "source": [
    "from sklearn.neighbors import KNeighborsClassifier\n",
    "from sklearn.ensemble import RandomForestClassifier\n",
    "from xgboost import XGBClassifier\n",
    "from catboost import CatBoostClassifier\n",
    "from sklearn.metrics import classification_report, f1_score, roc_auc_score ,accuracy_score, precision_score, recall_score, confusion_matrix\n",
    "import joblib \n",
    "\n",
    "rfc = RandomForestClassifier()\n",
    "xgb = XGBClassifier()\n",
    "cat = CatBoostClassifier()\n",
    "models = [rfc,xgb,cat]"
   ]
  },
  {
   "cell_type": "code",
   "execution_count": 16,
   "id": "5da7e71f",
   "metadata": {
    "ExecuteTime": {
     "end_time": "2022-06-13T02:54:50.377261Z",
     "start_time": "2022-06-13T02:54:50.371279Z"
    }
   },
   "outputs": [],
   "source": [
    "from tensorflow.keras.models import Sequential\n",
    "from tensorflow.keras.layers import Dense, LSTM"
   ]
  },
  {
   "cell_type": "code",
   "execution_count": 2,
   "id": "fdc78fd6",
   "metadata": {
    "ExecuteTime": {
     "end_time": "2022-06-13T00:37:51.334556Z",
     "start_time": "2022-06-13T00:37:51.319596Z"
    }
   },
   "outputs": [],
   "source": [
    "df_kospi = pd.read_csv('./data/recent_kospi_list.csv',index_col=0)\n",
    "# 코드 반환\n",
    "def corp_code(corp_name):\n",
    "    code = df_kospi[df_kospi['Name']==corp_name]['Symbol'].iloc[0]\n",
    "    code = str(code).zfill(6)\n",
    "    return code"
   ]
  },
  {
   "cell_type": "code",
   "execution_count": 3,
   "id": "27238933",
   "metadata": {
    "ExecuteTime": {
     "end_time": "2022-06-13T00:38:07.605289Z",
     "start_time": "2022-06-13T00:38:07.591326Z"
    }
   },
   "outputs": [],
   "source": [
    "# 주가데이터\n",
    "def stock_price(code,bgn_date= '2016-01-01',end_date= '2022-03-31'):\n",
    "\n",
    "    df_p = fdr.DataReader(code,bgn_date,end_date)\n",
    "    df_p = df_p.reset_index()\n",
    "    df_p = df_p.rename(columns = {'Date': '날짜'})\n",
    "    df_p = df_p.set_index('날짜',drop=True)\n",
    "    \n",
    "    return df_p"
   ]
  },
  {
   "cell_type": "code",
   "execution_count": 29,
   "id": "acd29605",
   "metadata": {
    "ExecuteTime": {
     "end_time": "2022-06-13T03:33:52.585610Z",
     "start_time": "2022-06-13T03:33:52.569658Z"
    }
   },
   "outputs": [],
   "source": [
    "from sklearn.preprocessing import MinMaxScaler\n",
    "\n",
    "def mscaler(df):\n",
    "\n",
    "    df.index = pd.DatetimeIndex(df.index)\n",
    "    col_list = df.columns\n",
    "    scaler = MinMaxScaler()\n",
    "    df_scaled = df.copy()\n",
    "    df_scaled[col_list] = scaler.fit_transform(df[col_list])\n",
    "    \n",
    "    return df_scaled"
   ]
  },
  {
   "cell_type": "code",
   "execution_count": 5,
   "id": "041623cc",
   "metadata": {
    "ExecuteTime": {
     "end_time": "2022-06-13T00:38:38.404377Z",
     "start_time": "2022-06-13T00:38:38.391410Z"
    }
   },
   "outputs": [],
   "source": [
    "# merge\n",
    "def merge(df_count, df_scaled):\n",
    "    df_merge = pd.merge(df_count,df_p_scaled['Close_scaled'],left_index=True,right_index=True, how='right')\n",
    "    df_merge = pd.merge(df_merge,df_p['Close'],left_index=True,right_index=True, how='right')\n",
    "    return df_merge\n"
   ]
  },
  {
   "cell_type": "code",
   "execution_count": 24,
   "id": "c0181ce2",
   "metadata": {
    "ExecuteTime": {
     "end_time": "2022-06-13T03:25:51.805742Z",
     "start_time": "2022-06-13T03:25:51.785797Z"
    }
   },
   "outputs": [],
   "source": [
    "def add_target(df_merge,window_size, period_rate):\n",
    "\n",
    "    earning_lst = []\n",
    "    for i in range(len(df_merge)-window_size):\n",
    "        \n",
    "        earning_rate = (df_merge.iloc[i+window_size,-1]- df_merge.iloc[i,-1])/df_merge.iloc[i,-1]\n",
    "\n",
    "        if earning_rate >= period_rate:\n",
    "            earning_lst.append(1)\n",
    "        else:\n",
    "            earning_lst.append(0)\n",
    "\n",
    "    df_model = df_merge.iloc[:-window_size,:]\n",
    "    df_model['target'] = earning_lst\n",
    "    \n",
    "    return df_model"
   ]
  },
  {
   "cell_type": "code",
   "execution_count": 33,
   "id": "a8a09085",
   "metadata": {
    "ExecuteTime": {
     "end_time": "2022-06-13T03:38:09.497567Z",
     "start_time": "2022-06-13T03:38:09.481579Z"
    }
   },
   "outputs": [],
   "source": [
    "def lstm_xy(df_merge,window_size, target_size, period_rate):\n",
    "    \n",
    "    X=[]\n",
    "    Y=[]\n",
    "    for i in range(len(df_merge) -window_size- target_size):\n",
    "        # Feature\n",
    "        X.append([df_merge.iloc[i+j,:-2] for j in range(window_size)])\n",
    "                 \n",
    "        # i+window_size일 이후 target_size 이후의 수익률\n",
    "        earning_rate = (df_merge.iloc[i+window_size,-1]- df_merge.iloc[i+window_size+target_size,-1])/df_merge.iloc[i+window_size,-1]\n",
    "        \n",
    "        if earning_rate >= period_rate:\n",
    "            Y.append(1)\n",
    "        else:\n",
    "            Y.append(0)\n",
    "                 \n",
    "    X = np.array(X).astype(float)\n",
    "    Y = np.array(Y).astype(float)\n",
    "        \n",
    "    return X,Y"
   ]
  },
  {
   "cell_type": "code",
   "execution_count": 7,
   "id": "d15164de",
   "metadata": {
    "ExecuteTime": {
     "end_time": "2022-06-13T00:39:11.841859Z",
     "start_time": "2022-06-13T00:39:11.830888Z"
    }
   },
   "outputs": [],
   "source": [
    "def get_clf_eval(y_test, pred, proba):\n",
    "#     confusion = confusion_matrix(y_test, pred)\n",
    "    accuracy = accuracy_score(y_test, pred)\n",
    "    precision = precision_score(y_test, pred)\n",
    "    recall = recall_score(y_test, pred)\n",
    "    try:\n",
    "        roc_auc = roc_auc_score(y_test, proba)\n",
    "    except:\n",
    "        roc_auc = 0\n",
    "\n",
    "    print('accuracy:{0:.4f}, precision:{1:.4f}, recall:{2:.4f}, roc_auc:{3:.4f}'.format(accuracy,precision,recall,roc_auc))"
   ]
  },
  {
   "cell_type": "code",
   "execution_count": 12,
   "id": "9d48174d",
   "metadata": {
    "ExecuteTime": {
     "end_time": "2022-06-13T01:42:08.615307Z",
     "start_time": "2022-06-13T01:42:08.599550Z"
    }
   },
   "outputs": [],
   "source": [
    "def feature20(model):\n",
    "\n",
    "    # 배열형태로 반환\n",
    "    ft_importance_values = model.feature_importances_\n",
    "\n",
    "    # 정렬과 시각화를 쉽게 하기 위해 series 전환\n",
    "    ft_series = pd.Series(ft_importance_values, index = x_train.columns)\n",
    "    ft_top20 = ft_series.sort_values(ascending=False)[:20]\n",
    "\n",
    "    # 시각화\n",
    "    plt.figure(figsize=(8,6))\n",
    "    plt.title('Feature Importance Top 20')\n",
    "    sns.barplot(x=ft_top20, y=ft_top20.index)\n",
    "    plt.show()"
   ]
  },
  {
   "cell_type": "markdown",
   "id": "41fbf68d",
   "metadata": {},
   "source": [
    "# 딥러닝(LSTM) 사용하기"
   ]
  },
  {
   "cell_type": "code",
   "execution_count": 31,
   "id": "3c46c0ad",
   "metadata": {
    "ExecuteTime": {
     "end_time": "2022-06-13T03:33:59.990749Z",
     "start_time": "2022-06-13T03:33:59.833341Z"
    }
   },
   "outputs": [
    {
     "data": {
      "text/html": [
       "<div>\n",
       "<style scoped>\n",
       "    .dataframe tbody tr th:only-of-type {\n",
       "        vertical-align: middle;\n",
       "    }\n",
       "\n",
       "    .dataframe tbody tr th {\n",
       "        vertical-align: top;\n",
       "    }\n",
       "\n",
       "    .dataframe thead th {\n",
       "        text-align: right;\n",
       "    }\n",
       "</style>\n",
       "<table border=\"1\" class=\"dataframe\">\n",
       "  <thead>\n",
       "    <tr style=\"text-align: right;\">\n",
       "      <th></th>\n",
       "      <th>시세보</th>\n",
       "      <th>일오늘의증시</th>\n",
       "      <th>변화</th>\n",
       "      <th>현저한</th>\n",
       "      <th>처분</th>\n",
       "      <th>주가종목</th>\n",
       "      <th>형성</th>\n",
       "      <th>최고치</th>\n",
       "      <th>자기주식</th>\n",
       "      <th>지분변동</th>\n",
       "      <th>...</th>\n",
       "      <th>경신</th>\n",
       "      <th>철강</th>\n",
       "      <th>스틸주가</th>\n",
       "      <th>형지엘리트</th>\n",
       "      <th>신송홀딩스</th>\n",
       "      <th>상승</th>\n",
       "      <th>코스피</th>\n",
       "      <th>스틸</th>\n",
       "      <th>Close_scaled</th>\n",
       "      <th>Close</th>\n",
       "    </tr>\n",
       "    <tr>\n",
       "      <th>날짜</th>\n",
       "      <th></th>\n",
       "      <th></th>\n",
       "      <th></th>\n",
       "      <th></th>\n",
       "      <th></th>\n",
       "      <th></th>\n",
       "      <th></th>\n",
       "      <th></th>\n",
       "      <th></th>\n",
       "      <th></th>\n",
       "      <th></th>\n",
       "      <th></th>\n",
       "      <th></th>\n",
       "      <th></th>\n",
       "      <th></th>\n",
       "      <th></th>\n",
       "      <th></th>\n",
       "      <th></th>\n",
       "      <th></th>\n",
       "      <th></th>\n",
       "      <th></th>\n",
       "    </tr>\n",
       "  </thead>\n",
       "  <tbody>\n",
       "    <tr>\n",
       "      <th>2016-01-04</th>\n",
       "      <td>0.0</td>\n",
       "      <td>0.0</td>\n",
       "      <td>0.0</td>\n",
       "      <td>0.0</td>\n",
       "      <td>0.0</td>\n",
       "      <td>0.0</td>\n",
       "      <td>0.0</td>\n",
       "      <td>0.0</td>\n",
       "      <td>0.0</td>\n",
       "      <td>0.0</td>\n",
       "      <td>...</td>\n",
       "      <td>0.0</td>\n",
       "      <td>0.0</td>\n",
       "      <td>0.0</td>\n",
       "      <td>0.0</td>\n",
       "      <td>0.0</td>\n",
       "      <td>0.0</td>\n",
       "      <td>0.0</td>\n",
       "      <td>0.0</td>\n",
       "      <td>0.082275</td>\n",
       "      <td>2041</td>\n",
       "    </tr>\n",
       "    <tr>\n",
       "      <th>2016-01-05</th>\n",
       "      <td>0.0</td>\n",
       "      <td>0.0</td>\n",
       "      <td>0.0</td>\n",
       "      <td>0.0</td>\n",
       "      <td>0.0</td>\n",
       "      <td>0.0</td>\n",
       "      <td>0.0</td>\n",
       "      <td>0.0</td>\n",
       "      <td>0.0</td>\n",
       "      <td>0.0</td>\n",
       "      <td>...</td>\n",
       "      <td>0.0</td>\n",
       "      <td>0.0</td>\n",
       "      <td>0.0</td>\n",
       "      <td>0.0</td>\n",
       "      <td>0.0</td>\n",
       "      <td>0.0</td>\n",
       "      <td>0.0</td>\n",
       "      <td>0.0</td>\n",
       "      <td>0.081433</td>\n",
       "      <td>2031</td>\n",
       "    </tr>\n",
       "    <tr>\n",
       "      <th>2016-01-06</th>\n",
       "      <td>0.0</td>\n",
       "      <td>0.0</td>\n",
       "      <td>0.0</td>\n",
       "      <td>0.0</td>\n",
       "      <td>0.0</td>\n",
       "      <td>0.0</td>\n",
       "      <td>0.0</td>\n",
       "      <td>0.0</td>\n",
       "      <td>0.0</td>\n",
       "      <td>0.0</td>\n",
       "      <td>...</td>\n",
       "      <td>0.0</td>\n",
       "      <td>0.0</td>\n",
       "      <td>0.0</td>\n",
       "      <td>0.0</td>\n",
       "      <td>0.0</td>\n",
       "      <td>0.0</td>\n",
       "      <td>0.0</td>\n",
       "      <td>0.0</td>\n",
       "      <td>0.078237</td>\n",
       "      <td>1993</td>\n",
       "    </tr>\n",
       "    <tr>\n",
       "      <th>2016-01-07</th>\n",
       "      <td>0.0</td>\n",
       "      <td>0.0</td>\n",
       "      <td>0.0</td>\n",
       "      <td>0.0</td>\n",
       "      <td>0.0</td>\n",
       "      <td>0.0</td>\n",
       "      <td>0.0</td>\n",
       "      <td>0.0</td>\n",
       "      <td>0.0</td>\n",
       "      <td>0.0</td>\n",
       "      <td>...</td>\n",
       "      <td>0.0</td>\n",
       "      <td>0.0</td>\n",
       "      <td>0.0</td>\n",
       "      <td>0.0</td>\n",
       "      <td>0.0</td>\n",
       "      <td>0.0</td>\n",
       "      <td>0.0</td>\n",
       "      <td>0.0</td>\n",
       "      <td>0.074619</td>\n",
       "      <td>1950</td>\n",
       "    </tr>\n",
       "    <tr>\n",
       "      <th>2016-01-08</th>\n",
       "      <td>0.0</td>\n",
       "      <td>0.0</td>\n",
       "      <td>0.0</td>\n",
       "      <td>0.0</td>\n",
       "      <td>0.0</td>\n",
       "      <td>0.0</td>\n",
       "      <td>0.0</td>\n",
       "      <td>0.0</td>\n",
       "      <td>0.0</td>\n",
       "      <td>0.0</td>\n",
       "      <td>...</td>\n",
       "      <td>0.0</td>\n",
       "      <td>0.0</td>\n",
       "      <td>0.0</td>\n",
       "      <td>0.0</td>\n",
       "      <td>0.0</td>\n",
       "      <td>0.0</td>\n",
       "      <td>0.0</td>\n",
       "      <td>0.0</td>\n",
       "      <td>0.072180</td>\n",
       "      <td>1921</td>\n",
       "    </tr>\n",
       "    <tr>\n",
       "      <th>...</th>\n",
       "      <td>...</td>\n",
       "      <td>...</td>\n",
       "      <td>...</td>\n",
       "      <td>...</td>\n",
       "      <td>...</td>\n",
       "      <td>...</td>\n",
       "      <td>...</td>\n",
       "      <td>...</td>\n",
       "      <td>...</td>\n",
       "      <td>...</td>\n",
       "      <td>...</td>\n",
       "      <td>...</td>\n",
       "      <td>...</td>\n",
       "      <td>...</td>\n",
       "      <td>...</td>\n",
       "      <td>...</td>\n",
       "      <td>...</td>\n",
       "      <td>...</td>\n",
       "      <td>...</td>\n",
       "      <td>...</td>\n",
       "      <td>...</td>\n",
       "    </tr>\n",
       "    <tr>\n",
       "      <th>2022-03-25</th>\n",
       "      <td>0.0</td>\n",
       "      <td>0.0</td>\n",
       "      <td>0.0</td>\n",
       "      <td>0.0</td>\n",
       "      <td>0.0</td>\n",
       "      <td>0.0</td>\n",
       "      <td>0.0</td>\n",
       "      <td>0.0</td>\n",
       "      <td>0.0</td>\n",
       "      <td>0.0</td>\n",
       "      <td>...</td>\n",
       "      <td>0.0</td>\n",
       "      <td>0.0</td>\n",
       "      <td>0.0</td>\n",
       "      <td>0.0</td>\n",
       "      <td>0.0</td>\n",
       "      <td>0.0</td>\n",
       "      <td>0.0</td>\n",
       "      <td>0.0</td>\n",
       "      <td>0.793892</td>\n",
       "      <td>10500</td>\n",
       "    </tr>\n",
       "    <tr>\n",
       "      <th>2022-03-28</th>\n",
       "      <td>0.0</td>\n",
       "      <td>0.0</td>\n",
       "      <td>0.0</td>\n",
       "      <td>0.0</td>\n",
       "      <td>0.0</td>\n",
       "      <td>0.0</td>\n",
       "      <td>0.0</td>\n",
       "      <td>0.0</td>\n",
       "      <td>0.0</td>\n",
       "      <td>0.0</td>\n",
       "      <td>...</td>\n",
       "      <td>0.0</td>\n",
       "      <td>0.0</td>\n",
       "      <td>0.0</td>\n",
       "      <td>0.0</td>\n",
       "      <td>0.0</td>\n",
       "      <td>0.0</td>\n",
       "      <td>0.0</td>\n",
       "      <td>0.0</td>\n",
       "      <td>0.827543</td>\n",
       "      <td>10900</td>\n",
       "    </tr>\n",
       "    <tr>\n",
       "      <th>2022-03-29</th>\n",
       "      <td>0.0</td>\n",
       "      <td>0.0</td>\n",
       "      <td>0.0</td>\n",
       "      <td>0.0</td>\n",
       "      <td>0.0</td>\n",
       "      <td>0.0</td>\n",
       "      <td>0.0</td>\n",
       "      <td>0.0</td>\n",
       "      <td>0.0</td>\n",
       "      <td>0.0</td>\n",
       "      <td>...</td>\n",
       "      <td>0.0</td>\n",
       "      <td>0.0</td>\n",
       "      <td>0.0</td>\n",
       "      <td>0.0</td>\n",
       "      <td>0.0</td>\n",
       "      <td>0.0</td>\n",
       "      <td>0.0</td>\n",
       "      <td>0.0</td>\n",
       "      <td>0.819130</td>\n",
       "      <td>10800</td>\n",
       "    </tr>\n",
       "    <tr>\n",
       "      <th>2022-03-30</th>\n",
       "      <td>0.0</td>\n",
       "      <td>0.0</td>\n",
       "      <td>0.0</td>\n",
       "      <td>0.0</td>\n",
       "      <td>0.0</td>\n",
       "      <td>0.0</td>\n",
       "      <td>0.0</td>\n",
       "      <td>0.0</td>\n",
       "      <td>0.0</td>\n",
       "      <td>0.0</td>\n",
       "      <td>...</td>\n",
       "      <td>0.0</td>\n",
       "      <td>0.0</td>\n",
       "      <td>0.0</td>\n",
       "      <td>0.0</td>\n",
       "      <td>0.0</td>\n",
       "      <td>0.0</td>\n",
       "      <td>0.0</td>\n",
       "      <td>0.0</td>\n",
       "      <td>0.789686</td>\n",
       "      <td>10450</td>\n",
       "    </tr>\n",
       "    <tr>\n",
       "      <th>2022-03-31</th>\n",
       "      <td>0.0</td>\n",
       "      <td>0.0</td>\n",
       "      <td>0.0</td>\n",
       "      <td>0.0</td>\n",
       "      <td>0.0</td>\n",
       "      <td>0.0</td>\n",
       "      <td>0.0</td>\n",
       "      <td>0.0</td>\n",
       "      <td>0.0</td>\n",
       "      <td>0.0</td>\n",
       "      <td>...</td>\n",
       "      <td>0.0</td>\n",
       "      <td>0.0</td>\n",
       "      <td>0.0</td>\n",
       "      <td>0.0</td>\n",
       "      <td>0.0</td>\n",
       "      <td>0.0</td>\n",
       "      <td>0.0</td>\n",
       "      <td>0.0</td>\n",
       "      <td>0.823336</td>\n",
       "      <td>10850</td>\n",
       "    </tr>\n",
       "  </tbody>\n",
       "</table>\n",
       "<p>1534 rows × 43 columns</p>\n",
       "</div>"
      ],
      "text/plain": [
       "            시세보  일오늘의증시   변화  현저한   처분  주가종목   형성  최고치  자기주식  지분변동  ...   경신  \\\n",
       "날짜                                                                  ...        \n",
       "2016-01-04  0.0     0.0  0.0  0.0  0.0   0.0  0.0  0.0   0.0   0.0  ...  0.0   \n",
       "2016-01-05  0.0     0.0  0.0  0.0  0.0   0.0  0.0  0.0   0.0   0.0  ...  0.0   \n",
       "2016-01-06  0.0     0.0  0.0  0.0  0.0   0.0  0.0  0.0   0.0   0.0  ...  0.0   \n",
       "2016-01-07  0.0     0.0  0.0  0.0  0.0   0.0  0.0  0.0   0.0   0.0  ...  0.0   \n",
       "2016-01-08  0.0     0.0  0.0  0.0  0.0   0.0  0.0  0.0   0.0   0.0  ...  0.0   \n",
       "...         ...     ...  ...  ...  ...   ...  ...  ...   ...   ...  ...  ...   \n",
       "2022-03-25  0.0     0.0  0.0  0.0  0.0   0.0  0.0  0.0   0.0   0.0  ...  0.0   \n",
       "2022-03-28  0.0     0.0  0.0  0.0  0.0   0.0  0.0  0.0   0.0   0.0  ...  0.0   \n",
       "2022-03-29  0.0     0.0  0.0  0.0  0.0   0.0  0.0  0.0   0.0   0.0  ...  0.0   \n",
       "2022-03-30  0.0     0.0  0.0  0.0  0.0   0.0  0.0  0.0   0.0   0.0  ...  0.0   \n",
       "2022-03-31  0.0     0.0  0.0  0.0  0.0   0.0  0.0  0.0   0.0   0.0  ...  0.0   \n",
       "\n",
       "             철강  스틸주가  형지엘리트  신송홀딩스   상승  코스피   스틸  Close_scaled  Close  \n",
       "날짜                                                                       \n",
       "2016-01-04  0.0   0.0    0.0    0.0  0.0  0.0  0.0      0.082275   2041  \n",
       "2016-01-05  0.0   0.0    0.0    0.0  0.0  0.0  0.0      0.081433   2031  \n",
       "2016-01-06  0.0   0.0    0.0    0.0  0.0  0.0  0.0      0.078237   1993  \n",
       "2016-01-07  0.0   0.0    0.0    0.0  0.0  0.0  0.0      0.074619   1950  \n",
       "2016-01-08  0.0   0.0    0.0    0.0  0.0  0.0  0.0      0.072180   1921  \n",
       "...         ...   ...    ...    ...  ...  ...  ...           ...    ...  \n",
       "2022-03-25  0.0   0.0    0.0    0.0  0.0  0.0  0.0      0.793892  10500  \n",
       "2022-03-28  0.0   0.0    0.0    0.0  0.0  0.0  0.0      0.827543  10900  \n",
       "2022-03-29  0.0   0.0    0.0    0.0  0.0  0.0  0.0      0.819130  10800  \n",
       "2022-03-30  0.0   0.0    0.0    0.0  0.0  0.0  0.0      0.789686  10450  \n",
       "2022-03-31  0.0   0.0    0.0    0.0  0.0  0.0  0.0      0.823336  10850  \n",
       "\n",
       "[1534 rows x 43 columns]"
      ]
     },
     "execution_count": 31,
     "metadata": {},
     "output_type": "execute_result"
    }
   ],
   "source": [
    "path = './data/데이터_뉴스키워드빈도/'\n",
    "\n",
    "corp_name = 'TCC스틸'\n",
    "code = corp_code(corp_name)\n",
    "df_p = stock_price(code)\n",
    "df_p_scaled = mscaler(df_p)\n",
    "df_p_scaled.rename(columns = {'Close':'Close_scaled'},inplace=True)\n",
    "\n",
    "file_path = os.path.join(path,corp_name+'.csv')\n",
    "df_count = pd.read_csv(file_path,index_col=0)\n",
    "df_count.index = pd.DatetimeIndex(df_count.index)\n",
    "df_count\n",
    "df_count = mscaler(df_count)\n",
    "df_merge = merge(df_count,df_p_scaled)\n",
    "df_merge\n"
   ]
  },
  {
   "cell_type": "code",
   "execution_count": 34,
   "id": "70a7844b",
   "metadata": {
    "ExecuteTime": {
     "end_time": "2022-06-13T03:38:30.090792Z",
     "start_time": "2022-06-13T03:38:12.330503Z"
    }
   },
   "outputs": [],
   "source": [
    "X,Y =lstm_xy(df_merge,60,30,0.1)"
   ]
  },
  {
   "cell_type": "code",
   "execution_count": 36,
   "id": "a6ba387d",
   "metadata": {
    "ExecuteTime": {
     "end_time": "2022-06-13T03:41:09.136635Z",
     "start_time": "2022-06-13T03:41:09.130651Z"
    }
   },
   "outputs": [
    {
     "data": {
      "text/plain": [
       "(1444, 60, 41)"
      ]
     },
     "execution_count": 36,
     "metadata": {},
     "output_type": "execute_result"
    }
   ],
   "source": [
    "X.shape"
   ]
  },
  {
   "cell_type": "code",
   "execution_count": 38,
   "id": "d1148c5d",
   "metadata": {
    "ExecuteTime": {
     "end_time": "2022-06-13T03:41:49.989183Z",
     "start_time": "2022-06-13T03:41:49.979208Z"
    }
   },
   "outputs": [],
   "source": [
    "train_test_split = 1100\n",
    "\n",
    "x_train = X[:1100]\n",
    "y_train = Y[:1100]\n",
    "\n",
    "x_test = X[1100:]\n",
    "y_test = Y[1100:]"
   ]
  },
  {
   "cell_type": "code",
   "execution_count": null,
   "id": "22484f22",
   "metadata": {},
   "outputs": [],
   "source": [
    "model = Sequential\n",
    "model.add(LSTM(50,input_dim=))"
   ]
  },
  {
   "cell_type": "code",
   "execution_count": null,
   "id": "1e65ffed",
   "metadata": {},
   "outputs": [],
   "source": []
  },
  {
   "cell_type": "code",
   "execution_count": null,
   "id": "c575279e",
   "metadata": {},
   "outputs": [],
   "source": []
  },
  {
   "cell_type": "code",
   "execution_count": null,
   "id": "90ab6e3c",
   "metadata": {},
   "outputs": [],
   "source": []
  },
  {
   "cell_type": "code",
   "execution_count": null,
   "id": "4d9bca4c",
   "metadata": {},
   "outputs": [],
   "source": []
  },
  {
   "cell_type": "code",
   "execution_count": null,
   "id": "5ddf2f2b",
   "metadata": {},
   "outputs": [],
   "source": []
  },
  {
   "cell_type": "code",
   "execution_count": null,
   "id": "748241e8",
   "metadata": {},
   "outputs": [],
   "source": [
    "observ_size= 60\n",
    "window_size = 30\n",
    "period_rate= 0.1\n",
    "\n",
    "path = './data/데이터_뉴스키워드빈도/'\n",
    "file_list = os.listdir(path)\n",
    "\n",
    "for file in file_list[:] :\n",
    "    corp_name = file[:-4]\n",
    "    print('회사이름: ',corp_name)\n",
    "    code = corp_code(corp_name)\n",
    "    df_p = stock_price(code)\n",
    "    df_p_scaled = mscaler(df_p)\n",
    "    df_p_scaled.rename(columns = {'Close':'Close_scaled'},inplace=True)\n",
    "    \n",
    "    file_path = os.path.join(path,file)\n",
    "    df_count = pd.read_csv(file_path,index_col=0)\n",
    "    df_count.index = pd.DatetimeIndex(df_count.index)\n",
    "    \n",
    "    # 5개 미만 단어 아예없는경우는 생략\n",
    "    try:\n",
    "        df_count = mscaler(df_count)\n",
    "\n",
    "        df_merge = merge(df_count,df_p_scaled)\n",
    "\n",
    "        df_model = add_target(df_merge,window_size=window_size, period_rate= period_rate)\n",
    "\n",
    "        x_train = df_model.loc[:'2021-10-01',:'Close_scaled']\n",
    "        y_train = df_model.loc[:'2021-10-01','target']\n",
    "\n",
    "        x_test = df_model.loc['2021-10-01':,:'Close_scaled']\n",
    "        y_test = df_model.loc['2021-10-01':,'target']\n",
    "\n",
    "        for model in models :\n",
    "            model_name = model.__class__.__name__\n",
    "\n",
    "            if model_name == 'CatBoostClassifier':\n",
    "                model.fit(x_train,y_train, silent=True)\n",
    "            else:\n",
    "                model.fit(x_train,y_train)\n",
    "\n",
    "            pred = model.predict(x_test)\n",
    "            proba = model.predict_proba(x_test)[:,1]\n",
    "            precision = precision_score(y_test, pred)\n",
    "            recall = recall_score(y_test, pred)\n",
    "\n",
    "            if (precision > 0.6) & (recall > 0.4) & (precision!=1):\n",
    "\n",
    "                print('회사이름: ',corp_name)\n",
    "                print('모델이름: ',model_name)\n",
    "                save_path = f'./data/machine_model_30일_10/{corp_name}_{model_name}.pkl'\n",
    "                joblib.dump(model, save_path)\n",
    "                get_clf_eval(y_test,pred, proba)\n",
    "                print(save_path)\n",
    "                print('-'*50)\n",
    "    except:\n",
    "        print('출현 단어 5개 미만 종목')\n",
    "        \n",
    "    print('='* 50)\n",
    "    "
   ]
  },
  {
   "cell_type": "code",
   "execution_count": null,
   "id": "8c7e4555",
   "metadata": {},
   "outputs": [],
   "source": []
  },
  {
   "cell_type": "code",
   "execution_count": null,
   "id": "42a4d095",
   "metadata": {},
   "outputs": [],
   "source": []
  },
  {
   "cell_type": "code",
   "execution_count": null,
   "id": "e0ae89ab",
   "metadata": {},
   "outputs": [],
   "source": []
  },
  {
   "cell_type": "code",
   "execution_count": null,
   "id": "851dfc6b",
   "metadata": {},
   "outputs": [],
   "source": []
  },
  {
   "cell_type": "code",
   "execution_count": null,
   "id": "10701276",
   "metadata": {},
   "outputs": [],
   "source": []
  },
  {
   "cell_type": "code",
   "execution_count": null,
   "id": "8835afca",
   "metadata": {},
   "outputs": [],
   "source": []
  },
  {
   "cell_type": "code",
   "execution_count": null,
   "id": "84cf7ab2",
   "metadata": {},
   "outputs": [],
   "source": []
  },
  {
   "cell_type": "markdown",
   "id": "a807d05e",
   "metadata": {},
   "source": [
    "# 머신러닝 모델 불러오기"
   ]
  },
  {
   "cell_type": "code",
   "execution_count": 14,
   "id": "5a64c2e2",
   "metadata": {
    "ExecuteTime": {
     "end_time": "2022-06-13T02:44:35.512256Z",
     "start_time": "2022-06-13T02:44:35.125239Z"
    }
   },
   "outputs": [
    {
     "name": "stdout",
     "output_type": "stream",
     "text": [
      "              precision    recall  f1-score   support\n",
      "\n",
      "           0       1.00      0.82      0.90        62\n",
      "           1       0.73      1.00      0.85        30\n",
      "\n",
      "    accuracy                           0.88        92\n",
      "   macro avg       0.87      0.91      0.87        92\n",
      "weighted avg       0.91      0.88      0.88        92\n",
      "\n"
     ]
    },
    {
     "data": {
      "image/png": "[encoded data removed]",
      "text/plain": [
       "<Figure size 576x432 with 1 Axes>"
      ]
     },
     "metadata": {
      "needs_background": "light"
     },
     "output_type": "display_data"
    }
   ],
   "source": [
    "corp_name = '디아이씨'\n",
    "window_size = 30\n",
    "period_rate = 0.1\n",
    "\n",
    "code = corp_code(corp_name)\n",
    "df_p = stock_price(code)\n",
    "df_p_scaled = mscaler(df_p)\n",
    "\n",
    "path = './data/데이터_뉴스키워드빈도/'\n",
    "file_path = os.path.join(path,corp_name+'.csv')\n",
    "df_count = pd.read_csv(file_path,index_col=0)\n",
    "df_count.index = pd.DatetimeIndex(df_count.index)\n",
    "\n",
    "df_merge = merge(df_count,df_p_scaled)\n",
    "\n",
    "df_model = add_target(df_merge,window_size=window_size, period_rate= period_rate)\n",
    "\n",
    "x_train = df_model.loc[:'2021-10-01',:'Close_scaled']\n",
    "y_train = df_model.loc[:'2021-10-01','target']\n",
    "\n",
    "x_test = df_model.loc['2021-10-01':,:'Close_scaled']\n",
    "y_test = df_model.loc['2021-10-01':,'target']\n",
    "\n",
    "# featurn importance\n",
    "model_name = './data/machine_model_30일_10/디아이씨_CatBoostClassifier.pkl'\n",
    "model = joblib.load(model_name)\n",
    "pred = model.predict(x_test)\n",
    "\n",
    "print(classification_report(y_test,pred))\n",
    "\n",
    "# 시각화\n",
    "ft_importance_values = model.feature_importances_\n",
    "\n",
    "# 정렬과 시각화를 쉽게 하기 위해 series 전환\n",
    "ft_series = pd.Series(ft_importance_values, index = x_train.columns)\n",
    "ft_top20 = ft_series.sort_values(ascending=False)[:20]\n",
    "\n",
    "# 시각화\n",
    "plt.figure(figsize=(8,6))\n",
    "plt.title('Feature Importance Top 20')\n",
    "sns.barplot(x=ft_top20, y=ft_top20.index)\n",
    "plt.show()"
   ]
  },
  {
   "cell_type": "code",
   "execution_count": 15,
   "id": "4e720070",
   "metadata": {
    "ExecuteTime": {
     "end_time": "2022-06-13T02:44:43.348211Z",
     "start_time": "2022-06-13T02:44:43.329093Z"
    }
   },
   "outputs": [
    {
     "data": {
      "text/plain": [
       "Close_scaled    80.826928\n",
       "하락               2.056832\n",
       "사조오양             1.947140\n",
       "상승               1.224302\n",
       "부진               1.132609\n",
       "매매동향             1.062931\n",
       "관련주              0.724246\n",
       "하락세              0.717661\n",
       "전기차              0.636359\n",
       "행진               0.550424\n",
       "일마감정보            0.534423\n",
       "대창단조             0.482537\n",
       "변화               0.437207\n",
       "성장               0.426771\n",
       "급등               0.379132\n",
       "급등원              0.379019\n",
       "오늘시              0.359381\n",
       "주가종목             0.356123\n",
       "테슬라              0.345210\n",
       "종목검색             0.304744\n",
       "dtype: float64"
      ]
     },
     "execution_count": 15,
     "metadata": {},
     "output_type": "execute_result"
    }
   ],
   "source": [
    "ft_top20"
   ]
  },
  {
   "cell_type": "code",
   "execution_count": null,
   "id": "818d7082",
   "metadata": {},
   "outputs": [],
   "source": []
  },
  {
   "cell_type": "code",
   "execution_count": null,
   "id": "d2fd7e10",
   "metadata": {},
   "outputs": [],
   "source": []
  },
  {
   "cell_type": "code",
   "execution_count": null,
   "id": "bb6aa3b9",
   "metadata": {},
   "outputs": [],
   "source": []
  },
  {
   "cell_type": "code",
   "execution_count": null,
   "id": "cb65491e",
   "metadata": {},
   "outputs": [],
   "source": []
  }
 ],
 "metadata": {
  "kernelspec": {
   "display_name": "Python 3 (ipykernel)",
   "language": "python",
   "name": "python3"
  },
  "language_info": {
   "codemirror_mode": {
    "name": "ipython",
    "version": 3
   },
   "file_extension": ".py",
   "mimetype": "text/x-python",
   "name": "python",
   "nbconvert_exporter": "python",
   "pygments_lexer": "ipython3",
   "version": "3.9.7"
  },
  "toc": {
   "base_numbering": 1,
   "nav_menu": {},
   "number_sections": true,
   "sideBar": true,
   "skip_h1_title": false,
   "title_cell": "Table of Contents",
   "title_sidebar": "Contents",
   "toc_cell": false,
   "toc_position": {},
   "toc_section_display": true,
   "toc_window_display": false
  },
  "varInspector": {
   "cols": {
    "lenName": 16,
    "lenType": 16,
    "lenVar": 40
   },
   "kernels_config": {
    "python": {
     "delete_cmd_postfix": "",
     "delete_cmd_prefix": "del ",
     "library": "var_list.py",
     "varRefreshCmd": "print(var_dic_list())"
    },
    "r": {
     "delete_cmd_postfix": ") ",
     "delete_cmd_prefix": "rm(",
     "library": "var_list.r",
     "varRefreshCmd": "cat(var_dic_list()) "
    }
   },
   "types_to_exclude": [
    "module",
    "function",
    "builtin_function_or_method",
    "instance",
    "_Feature"
   ],
   "window_display": false
  }
 },
 "nbformat": 4,
 "nbformat_minor": 5
}
