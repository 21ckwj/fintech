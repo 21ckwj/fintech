{
 "cells": [
  {
   "cell_type": "markdown",
   "id": "52c7d26b",
   "metadata": {},
   "source": [
    "# BERT: finance_sentiment pretrained모델"
   ]
  },
  {
   "cell_type": "code",
   "execution_count": 1,
   "id": "f5e06bef",
   "metadata": {
    "ExecuteTime": {
     "end_time": "2022-06-25T02:27:12.257501Z",
     "start_time": "2022-06-25T02:27:08.266856Z"
    }
   },
   "outputs": [],
   "source": [
    "import os\n",
    "import pandas as pd\n",
    "import numpy as np\n",
    "import re\n",
    "from tqdm import tqdm\n",
    "import urllib.request\n",
    "import seaborn as sns\n",
    "import matplotlib.pyplot as plt\n",
    "import tensorflow_addons as tfa\n",
    "import tensorflow as tf\n",
    "from tensorflow.keras.callbacks import EarlyStopping, ModelCheckpoint\n",
    "from transformers import BertTokenizer, TFBertForSequenceClassification\n",
    "from sklearn.model_selection import train_test_split\n",
    "from sklearn.metrics import accuracy_score, f1_score, precision_score, recall_score, \\\n",
    "                            roc_auc_score, confusion_matrix, classification_report, \\\n",
    "                            matthews_corrcoef, cohen_kappa_score, log_loss"
   ]
  },
  {
   "cell_type": "code",
   "execution_count": 2,
   "id": "7ae3308d",
   "metadata": {
    "ExecuteTime": {
     "end_time": "2022-06-25T02:27:12.334942Z",
     "start_time": "2022-06-25T02:27:12.320027Z"
    }
   },
   "outputs": [],
   "source": [
    "pd.set_option('display.max_colwidth',70)"
   ]
  },
  {
   "cell_type": "code",
   "execution_count": 3,
   "id": "c83ef44b",
   "metadata": {
    "ExecuteTime": {
     "end_time": "2022-06-25T02:27:12.413830Z",
     "start_time": "2022-06-25T02:27:12.398731Z"
    }
   },
   "outputs": [],
   "source": [
    "# urllib.request.urlretrieve(\"https://raw.githubusercontent.com/ukairia777/finance_sentiment_corpus/main/finance_data.csv\", filename=\"./data/finance_data.csv\")"
   ]
  },
  {
   "cell_type": "code",
   "execution_count": 40,
   "id": "56e91a44",
   "metadata": {
    "ExecuteTime": {
     "end_time": "2022-06-25T01:54:08.102116Z",
     "start_time": "2022-06-25T01:54:01.585120Z"
    }
   },
   "outputs": [
    {
     "name": "stderr",
     "output_type": "stream",
     "text": [
      "Some weights of the PyTorch model were not used when initializing the TF 2.0 model TFBertForSequenceClassification: ['bert.embeddings.position_ids']\n",
      "- This IS expected if you are initializing TFBertForSequenceClassification from a PyTorch model trained on another task or with another architecture (e.g. initializing a TFBertForSequenceClassification model from a BertForPreTraining model).\n",
      "- This IS NOT expected if you are initializing TFBertForSequenceClassification from a PyTorch model that you expect to be exactly identical (e.g. initializing a TFBertForSequenceClassification model from a BertForSequenceClassification model).\n",
      "Some weights or buffers of the TF 2.0 model TFBertForSequenceClassification were not initialized from the PyTorch model and are newly initialized: ['classifier.weight', 'classifier.bias']\n",
      "You should probably TRAIN this model on a down-stream task to be able to use it for predictions and inference.\n"
     ]
    }
   ],
   "source": [
    "MODEL_NAME = \"klue/bert-base\"\n",
    "model = TFBertForSequenceClassification.from_pretrained(MODEL_NAME, num_labels=3, from_pt=True)\n",
    "tokenizer = BertTokenizer.from_pretrained(MODEL_NAME)"
   ]
  },
  {
   "cell_type": "code",
   "execution_count": 4,
   "id": "58b37cb4",
   "metadata": {
    "ExecuteTime": {
     "end_time": "2022-06-25T02:27:12.525744Z",
     "start_time": "2022-06-25T02:27:12.479698Z"
    }
   },
   "outputs": [
    {
     "name": "stdout",
     "output_type": "stream",
     "text": [
      "총 샘플의 수 : 4846\n"
     ]
    },
    {
     "data": {
      "text/html": [
       "<div>\n",
       "<style scoped>\n",
       "    .dataframe tbody tr th:only-of-type {\n",
       "        vertical-align: middle;\n",
       "    }\n",
       "\n",
       "    .dataframe tbody tr th {\n",
       "        vertical-align: top;\n",
       "    }\n",
       "\n",
       "    .dataframe thead th {\n",
       "        text-align: right;\n",
       "    }\n",
       "</style>\n",
       "<table border=\"1\" class=\"dataframe\">\n",
       "  <thead>\n",
       "    <tr style=\"text-align: right;\">\n",
       "      <th></th>\n",
       "      <th>labels</th>\n",
       "      <th>sentence</th>\n",
       "      <th>kor_sentence</th>\n",
       "    </tr>\n",
       "  </thead>\n",
       "  <tbody>\n",
       "    <tr>\n",
       "      <th>0</th>\n",
       "      <td>neutral</td>\n",
       "      <td>According to Gran, the company has no plans to move all production...</td>\n",
       "      <td>Gran에 따르면, 그 회사는 회사가 성장하고 있는 곳이지만, 모든 생산을 러시아로 옮길 계획이 없다고 한다.</td>\n",
       "    </tr>\n",
       "    <tr>\n",
       "      <th>1</th>\n",
       "      <td>neutral</td>\n",
       "      <td>Technopolis plans to develop in stages an area of no less than 100...</td>\n",
       "      <td>테크노폴리스는 컴퓨터 기술과 통신 분야에서 일하는 회사들을 유치하기 위해 10만 평방미터 이상의 면적을 단계적으로 개발...</td>\n",
       "    </tr>\n",
       "    <tr>\n",
       "      <th>2</th>\n",
       "      <td>negative</td>\n",
       "      <td>The international electronic industry company Elcoteq has laid off...</td>\n",
       "      <td>국제 전자산업 회사인 엘코텍은 탈린 공장에서 수십 명의 직원을 해고했으며, 이전의 해고와는 달리 회사는 사무직 직원 수...</td>\n",
       "    </tr>\n",
       "    <tr>\n",
       "      <th>3</th>\n",
       "      <td>positive</td>\n",
       "      <td>With the new production plant the company would increase its capac...</td>\n",
       "      <td>새로운 생산공장으로 인해 회사는 예상되는 수요 증가를 충족시킬 수 있는 능력을 증가시키고 원자재 사용을 개선하여 생산 ...</td>\n",
       "    </tr>\n",
       "    <tr>\n",
       "      <th>4</th>\n",
       "      <td>positive</td>\n",
       "      <td>According to the company's updated strategy for the years 2009-201...</td>\n",
       "      <td>2009-2012년 회사의 업데이트된 전략에 따르면, Basware는 20% - 40% 범위의 장기적인 순매출 성장을 ...</td>\n",
       "    </tr>\n",
       "  </tbody>\n",
       "</table>\n",
       "</div>"
      ],
      "text/plain": [
       "     labels  \\\n",
       "0   neutral   \n",
       "1   neutral   \n",
       "2  negative   \n",
       "3  positive   \n",
       "4  positive   \n",
       "\n",
       "                                                                sentence  \\\n",
       "0  According to Gran, the company has no plans to move all production...   \n",
       "1  Technopolis plans to develop in stages an area of no less than 100...   \n",
       "2  The international electronic industry company Elcoteq has laid off...   \n",
       "3  With the new production plant the company would increase its capac...   \n",
       "4  According to the company's updated strategy for the years 2009-201...   \n",
       "\n",
       "                                                            kor_sentence  \n",
       "0          Gran에 따르면, 그 회사는 회사가 성장하고 있는 곳이지만, 모든 생산을 러시아로 옮길 계획이 없다고 한다.  \n",
       "1  테크노폴리스는 컴퓨터 기술과 통신 분야에서 일하는 회사들을 유치하기 위해 10만 평방미터 이상의 면적을 단계적으로 개발...  \n",
       "2  국제 전자산업 회사인 엘코텍은 탈린 공장에서 수십 명의 직원을 해고했으며, 이전의 해고와는 달리 회사는 사무직 직원 수...  \n",
       "3  새로운 생산공장으로 인해 회사는 예상되는 수요 증가를 충족시킬 수 있는 능력을 증가시키고 원자재 사용을 개선하여 생산 ...  \n",
       "4  2009-2012년 회사의 업데이트된 전략에 따르면, Basware는 20% - 40% 범위의 장기적인 순매출 성장을 ...  "
      ]
     },
     "execution_count": 4,
     "metadata": {},
     "output_type": "execute_result"
    }
   ],
   "source": [
    "data = pd.read_csv('./data/finance_data.csv')\n",
    "print('총 샘플의 수 :',len(data))\n",
    "data.head()"
   ]
  },
  {
   "cell_type": "code",
   "execution_count": 5,
   "id": "20f1d981",
   "metadata": {
    "ExecuteTime": {
     "end_time": "2022-06-25T02:27:12.621698Z",
     "start_time": "2022-06-25T02:27:12.603729Z"
    }
   },
   "outputs": [
    {
     "data": {
      "text/html": [
       "<div>\n",
       "<style scoped>\n",
       "    .dataframe tbody tr th:only-of-type {\n",
       "        vertical-align: middle;\n",
       "    }\n",
       "\n",
       "    .dataframe tbody tr th {\n",
       "        vertical-align: top;\n",
       "    }\n",
       "\n",
       "    .dataframe thead th {\n",
       "        text-align: right;\n",
       "    }\n",
       "</style>\n",
       "<table border=\"1\" class=\"dataframe\">\n",
       "  <thead>\n",
       "    <tr style=\"text-align: right;\">\n",
       "      <th></th>\n",
       "      <th>labels</th>\n",
       "      <th>sentence</th>\n",
       "      <th>kor_sentence</th>\n",
       "    </tr>\n",
       "  </thead>\n",
       "  <tbody>\n",
       "    <tr>\n",
       "      <th>658</th>\n",
       "      <td>positive</td>\n",
       "      <td>narrows to EUR2 .8 m 9-mo'09 29 October 2009 - Finnish software an...</td>\n",
       "      <td>2009년 10월 29일 핀란드 소프트웨어 및 하드웨어 개발업체인 EBG1V는 2009년 첫 9개월 동안 순손실이 1년...</td>\n",
       "    </tr>\n",
       "    <tr>\n",
       "      <th>3582</th>\n",
       "      <td>neutral</td>\n",
       "      <td>Exel's board of directors will propose a dividend of 0.2 euro $ 0....</td>\n",
       "      <td>엑셀의 이사회는 2007년 4월 19일 연례 총회에서 2006년 주당 0.2유로의 배당금을 제안할 예정이다.</td>\n",
       "    </tr>\n",
       "    <tr>\n",
       "      <th>4514</th>\n",
       "      <td>negative</td>\n",
       "      <td>Rapala VMC Corporation STOCK EXCHANGE RELEASE October 10, 2008 at ...</td>\n",
       "      <td>2008년 10월 10일 오전 11시 45분 라팔라 VMC 코퍼레이션 증권거래소 릴리즈 카우프팅 뱅크 오이지 (\"Kap...</td>\n",
       "    </tr>\n",
       "    <tr>\n",
       "      <th>4668</th>\n",
       "      <td>negative</td>\n",
       "      <td>Diluted earnings per share ( EPS ) declined to EUR 0.78 from EUR 1...</td>\n",
       "      <td>희석주당이익(EPS)은 유로 1.76에서 유로 0.78로 감소했다.</td>\n",
       "    </tr>\n",
       "    <tr>\n",
       "      <th>522</th>\n",
       "      <td>neutral</td>\n",
       "      <td>The order consists of capacity expansion, maintenance services and...</td>\n",
       "      <td>이 주문은 용량 확장, 유지보수 서비스, 새로운 충전 기능을 포함하고 있다고 회사측은 말했다.</td>\n",
       "    </tr>\n",
       "    <tr>\n",
       "      <th>2076</th>\n",
       "      <td>positive</td>\n",
       "      <td>According to Olvi's Managing Director Lasse Aho, the company has a...</td>\n",
       "      <td>올비의 상무 이사인 Lasse Aho에 따르면, 그 회사는 핀란드 밖에서 성장을 찾는 것을 목표로 하는 MMX Plus...</td>\n",
       "    </tr>\n",
       "    <tr>\n",
       "      <th>3508</th>\n",
       "      <td>neutral</td>\n",
       "      <td>After the acquisition, Basware's preliminary pro forma net sales f...</td>\n",
       "      <td>인수 후 바스웨어의 2005년 예비 프로포마 순매출액은 52.6유로, 예비 프로포마 영업이익은 7.1유로다.</td>\n",
       "    </tr>\n",
       "    <tr>\n",
       "      <th>4733</th>\n",
       "      <td>negative</td>\n",
       "      <td>However, its market share shrank to 47.59 per cent from 48 per cen...</td>\n",
       "      <td>그러나 시장점유율은 1년 전의 48%에서 47.59%로 줄어들었다.</td>\n",
       "    </tr>\n",
       "    <tr>\n",
       "      <th>2000</th>\n",
       "      <td>positive</td>\n",
       "      <td>`` In the newly formed company YIT Stavo the local contact network...</td>\n",
       "      <td>`` 주하 코스티아이넨 이이트 기업커뮤니케이션즈비즈니스개발 부사장은 \"새로 설립된 이티스타보에서는 유로스타보콘술트의 현...</td>\n",
       "    </tr>\n",
       "    <tr>\n",
       "      <th>4431</th>\n",
       "      <td>negative</td>\n",
       "      <td>The recent troubles simply make NETeller cheaper.</td>\n",
       "      <td>최근의 문제들은 단순히 넷엘러를 더 저렴하게 만든다.</td>\n",
       "    </tr>\n",
       "    <tr>\n",
       "      <th>4094</th>\n",
       "      <td>positive</td>\n",
       "      <td>Cash flow from operations totalled EUR 7.4 mn, compared to a negat...</td>\n",
       "      <td>2008년 2/4분기 마이너스 68.6 mn에 비해 영업 현금 흐름은 총 7.4 mn이었다.</td>\n",
       "    </tr>\n",
       "    <tr>\n",
       "      <th>2444</th>\n",
       "      <td>neutral</td>\n",
       "      <td>Elisa Corporation will disclose its financial statements for 2006 ...</td>\n",
       "      <td>엘리사는 2007년 2월 8일 목요일에 2006년 재무제표를 공시할 것이다.</td>\n",
       "    </tr>\n",
       "    <tr>\n",
       "      <th>2686</th>\n",
       "      <td>neutral</td>\n",
       "      <td>The wireless industry is bracing itself for the iPhone, which will...</td>\n",
       "      <td>무선 업계는 6월 29일 출시될 아이폰에 대비하고 있다.</td>\n",
       "    </tr>\n",
       "    <tr>\n",
       "      <th>1394</th>\n",
       "      <td>neutral</td>\n",
       "      <td>The Lemminkainen Group, headquartered in Helsinki, Finland operate...</td>\n",
       "      <td>핀란드 헬싱키에 본사를 둔 레민카이넨 그룹은 토목 공학, 건축 계약, 기술 건축 서비스, 건축 자재 산업 등 건설 산업...</td>\n",
       "    </tr>\n",
       "    <tr>\n",
       "      <th>104</th>\n",
       "      <td>positive</td>\n",
       "      <td>Finnish and Swedish construction markets are still experiencing an...</td>\n",
       "      <td>핀란드와 스웨덴 건설 시장은 2008년에도 여전히 연간 4%의 성장률을 보이고 있다.</td>\n",
       "    </tr>\n",
       "    <tr>\n",
       "      <th>3220</th>\n",
       "      <td>neutral</td>\n",
       "      <td>The contract incorporates a Convergent Charging rating solution fo...</td>\n",
       "      <td>이 계약에는 인터넷, GPRS, SMS, MMS 및 WAP를 포함하는 음성 및 데이터에 대한 컨버전트 충전 등급 솔루션...</td>\n",
       "    </tr>\n",
       "    <tr>\n",
       "      <th>4752</th>\n",
       "      <td>negative</td>\n",
       "      <td>Operating profit totaled EUR 6.7 mn, down from EUR 7.2 mn in the c...</td>\n",
       "      <td>영업이익은 2005년 같은 기간의 7.2 mn보다 감소한 6.7 mn 유로였다.</td>\n",
       "    </tr>\n",
       "    <tr>\n",
       "      <th>29</th>\n",
       "      <td>positive</td>\n",
       "      <td>Operating profit for the three-month period increased from EUR1 .2...</td>\n",
       "      <td>3개월간의 영업이익은 2005년 같은 기간에 비해 .2 m 유로에서 증가하였고, 수익은 .2 m 유로에서 증가하였다.</td>\n",
       "    </tr>\n",
       "    <tr>\n",
       "      <th>3455</th>\n",
       "      <td>neutral</td>\n",
       "      <td>With five different game modes, co-op tournaments, 4 player split-...</td>\n",
       "      <td>5가지 다른 게임 모드, 코옵 토너먼트, 4가지 플레이어 분할 화면 모드, 멀티플레이어 모드와 함께 플레이어들은 실제로...</td>\n",
       "    </tr>\n",
       "    <tr>\n",
       "      <th>3539</th>\n",
       "      <td>neutral</td>\n",
       "      <td>Aspocomp Group, headquartered in Helsinki, Finland, develops inter...</td>\n",
       "      <td>핀란드 헬싱키에 본사를 둔 Aspocomp 그룹은 전자 산업을 위한 상호 연결 솔루션을 개발한다.</td>\n",
       "    </tr>\n",
       "    <tr>\n",
       "      <th>3746</th>\n",
       "      <td>neutral</td>\n",
       "      <td>Stora Enso's business in North America has annual capacity of abou...</td>\n",
       "      <td>Stora Enso의 북미 사업장은 연간 약 300만 톤의 용량을 가지고 있으며, 약 4,350명의 직원이 근무하고 있...</td>\n",
       "    </tr>\n",
       "    <tr>\n",
       "      <th>4440</th>\n",
       "      <td>negative</td>\n",
       "      <td>A survey conducted by Taloustutkimus for Sampo Life shows that com...</td>\n",
       "      <td>탈루슈투키무스가 삼포생명을 위해 실시한 설문조사에 따르면 기업들은 주요 직원을 잃을 것에 대한 대비가 미흡한 것으로 나...</td>\n",
       "    </tr>\n",
       "    <tr>\n",
       "      <th>2064</th>\n",
       "      <td>positive</td>\n",
       "      <td>`` Neste Oil is working with over 20 research communities in Europ...</td>\n",
       "      <td>`` 네스티오일은 유럽, 미국, 아프리카, 아시아, 호주의 20개 이상의 연구 커뮤니티와 협력하여 새로운 원자재를 개발...</td>\n",
       "    </tr>\n",
       "    <tr>\n",
       "      <th>3388</th>\n",
       "      <td>neutral</td>\n",
       "      <td>The use of validation rule base enables verifying that processing ...</td>\n",
       "      <td>유효성 검사 규칙 기반을 사용하면 서로 다른 관리자가 관리하는 처리 규칙 기반이 일부 설정된 요구 사항을 충족하는지 확...</td>\n",
       "    </tr>\n",
       "    <tr>\n",
       "      <th>3896</th>\n",
       "      <td>neutral</td>\n",
       "      <td>The report contains category level company and brand share as well...</td>\n",
       "      <td>보고서에는 2007년과 2008년의 유통 점유율 정보뿐만 아니라 범주 수준 회사 및 브랜드 점유율이 포함되어 있습니다.</td>\n",
       "    </tr>\n",
       "    <tr>\n",
       "      <th>1687</th>\n",
       "      <td>positive</td>\n",
       "      <td>UPM-Kymmene has generated thirty-one consecutive quarters of posit...</td>\n",
       "      <td>UPM-Kymmene은 31분기 연속 EBITDA 호조를 보였다.</td>\n",
       "    </tr>\n",
       "    <tr>\n",
       "      <th>1896</th>\n",
       "      <td>neutral</td>\n",
       "      <td>City24 users can search for homes and properties in all areas wher...</td>\n",
       "      <td>시티24 이용자들은 시티24가 활동 중인 모든 지역의 주택과 사유지를 자신의 나라 밖에서도 검색할 수 있다.</td>\n",
       "    </tr>\n",
       "    <tr>\n",
       "      <th>2583</th>\n",
       "      <td>neutral</td>\n",
       "      <td>The acquisition does not have to be from the frozen foods or fish ...</td>\n",
       "      <td>이번 인수는 L+에넨테하트의 다른 사업과 시너지 효과가 있다면 냉동식품이나 생선 부문이 아니어도 된다.</td>\n",
       "    </tr>\n",
       "    <tr>\n",
       "      <th>4207</th>\n",
       "      <td>negative</td>\n",
       "      <td>It is a disappointment to see the plan folded.</td>\n",
       "      <td>그 계획이 접히는 것은 실망스러운 일이다.</td>\n",
       "    </tr>\n",
       "    <tr>\n",
       "      <th>4507</th>\n",
       "      <td>neutral</td>\n",
       "      <td>`` Method and System for Controlling a Hard Disk Drive Using a Mul...</td>\n",
       "      <td>`` 멀티미디어카드 물리 인터페이스를 이용한 하드 디스크 드라이브 제어 방법 및 시스템'은 핀란드의 Marko Ahve...</td>\n",
       "    </tr>\n",
       "  </tbody>\n",
       "</table>\n",
       "</div>"
      ],
      "text/plain": [
       "        labels  \\\n",
       "658   positive   \n",
       "3582   neutral   \n",
       "4514  negative   \n",
       "4668  negative   \n",
       "522    neutral   \n",
       "2076  positive   \n",
       "3508   neutral   \n",
       "4733  negative   \n",
       "2000  positive   \n",
       "4431  negative   \n",
       "4094  positive   \n",
       "2444   neutral   \n",
       "2686   neutral   \n",
       "1394   neutral   \n",
       "104   positive   \n",
       "3220   neutral   \n",
       "4752  negative   \n",
       "29    positive   \n",
       "3455   neutral   \n",
       "3539   neutral   \n",
       "3746   neutral   \n",
       "4440  negative   \n",
       "2064  positive   \n",
       "3388   neutral   \n",
       "3896   neutral   \n",
       "1687  positive   \n",
       "1896   neutral   \n",
       "2583   neutral   \n",
       "4207  negative   \n",
       "4507   neutral   \n",
       "\n",
       "                                                                   sentence  \\\n",
       "658   narrows to EUR2 .8 m 9-mo'09 29 October 2009 - Finnish software an...   \n",
       "3582  Exel's board of directors will propose a dividend of 0.2 euro $ 0....   \n",
       "4514  Rapala VMC Corporation STOCK EXCHANGE RELEASE October 10, 2008 at ...   \n",
       "4668  Diluted earnings per share ( EPS ) declined to EUR 0.78 from EUR 1...   \n",
       "522   The order consists of capacity expansion, maintenance services and...   \n",
       "2076  According to Olvi's Managing Director Lasse Aho, the company has a...   \n",
       "3508  After the acquisition, Basware's preliminary pro forma net sales f...   \n",
       "4733  However, its market share shrank to 47.59 per cent from 48 per cen...   \n",
       "2000  `` In the newly formed company YIT Stavo the local contact network...   \n",
       "4431                      The recent troubles simply make NETeller cheaper.   \n",
       "4094  Cash flow from operations totalled EUR 7.4 mn, compared to a negat...   \n",
       "2444  Elisa Corporation will disclose its financial statements for 2006 ...   \n",
       "2686  The wireless industry is bracing itself for the iPhone, which will...   \n",
       "1394  The Lemminkainen Group, headquartered in Helsinki, Finland operate...   \n",
       "104   Finnish and Swedish construction markets are still experiencing an...   \n",
       "3220  The contract incorporates a Convergent Charging rating solution fo...   \n",
       "4752  Operating profit totaled EUR 6.7 mn, down from EUR 7.2 mn in the c...   \n",
       "29    Operating profit for the three-month period increased from EUR1 .2...   \n",
       "3455  With five different game modes, co-op tournaments, 4 player split-...   \n",
       "3539  Aspocomp Group, headquartered in Helsinki, Finland, develops inter...   \n",
       "3746  Stora Enso's business in North America has annual capacity of abou...   \n",
       "4440  A survey conducted by Taloustutkimus for Sampo Life shows that com...   \n",
       "2064  `` Neste Oil is working with over 20 research communities in Europ...   \n",
       "3388  The use of validation rule base enables verifying that processing ...   \n",
       "3896  The report contains category level company and brand share as well...   \n",
       "1687  UPM-Kymmene has generated thirty-one consecutive quarters of posit...   \n",
       "1896  City24 users can search for homes and properties in all areas wher...   \n",
       "2583  The acquisition does not have to be from the frozen foods or fish ...   \n",
       "4207                         It is a disappointment to see the plan folded.   \n",
       "4507  `` Method and System for Controlling a Hard Disk Drive Using a Mul...   \n",
       "\n",
       "                                                               kor_sentence  \n",
       "658   2009년 10월 29일 핀란드 소프트웨어 및 하드웨어 개발업체인 EBG1V는 2009년 첫 9개월 동안 순손실이 1년...  \n",
       "3582           엑셀의 이사회는 2007년 4월 19일 연례 총회에서 2006년 주당 0.2유로의 배당금을 제안할 예정이다.  \n",
       "4514  2008년 10월 10일 오전 11시 45분 라팔라 VMC 코퍼레이션 증권거래소 릴리즈 카우프팅 뱅크 오이지 (\"Kap...  \n",
       "4668                                  희석주당이익(EPS)은 유로 1.76에서 유로 0.78로 감소했다.  \n",
       "522                    이 주문은 용량 확장, 유지보수 서비스, 새로운 충전 기능을 포함하고 있다고 회사측은 말했다.  \n",
       "2076  올비의 상무 이사인 Lasse Aho에 따르면, 그 회사는 핀란드 밖에서 성장을 찾는 것을 목표로 하는 MMX Plus...  \n",
       "3508           인수 후 바스웨어의 2005년 예비 프로포마 순매출액은 52.6유로, 예비 프로포마 영업이익은 7.1유로다.  \n",
       "4733                                  그러나 시장점유율은 1년 전의 48%에서 47.59%로 줄어들었다.  \n",
       "2000  `` 주하 코스티아이넨 이이트 기업커뮤니케이션즈비즈니스개발 부사장은 \"새로 설립된 이티스타보에서는 유로스타보콘술트의 현...  \n",
       "4431                                          최근의 문제들은 단순히 넷엘러를 더 저렴하게 만든다.  \n",
       "4094                    2008년 2/4분기 마이너스 68.6 mn에 비해 영업 현금 흐름은 총 7.4 mn이었다.  \n",
       "2444                             엘리사는 2007년 2월 8일 목요일에 2006년 재무제표를 공시할 것이다.  \n",
       "2686                                        무선 업계는 6월 29일 출시될 아이폰에 대비하고 있다.  \n",
       "1394  핀란드 헬싱키에 본사를 둔 레민카이넨 그룹은 토목 공학, 건축 계약, 기술 건축 서비스, 건축 자재 산업 등 건설 산업...  \n",
       "104                         핀란드와 스웨덴 건설 시장은 2008년에도 여전히 연간 4%의 성장률을 보이고 있다.  \n",
       "3220  이 계약에는 인터넷, GPRS, SMS, MMS 및 WAP를 포함하는 음성 및 데이터에 대한 컨버전트 충전 등급 솔루션...  \n",
       "4752                           영업이익은 2005년 같은 기간의 7.2 mn보다 감소한 6.7 mn 유로였다.  \n",
       "29        3개월간의 영업이익은 2005년 같은 기간에 비해 .2 m 유로에서 증가하였고, 수익은 .2 m 유로에서 증가하였다.  \n",
       "3455  5가지 다른 게임 모드, 코옵 토너먼트, 4가지 플레이어 분할 화면 모드, 멀티플레이어 모드와 함께 플레이어들은 실제로...  \n",
       "3539                 핀란드 헬싱키에 본사를 둔 Aspocomp 그룹은 전자 산업을 위한 상호 연결 솔루션을 개발한다.  \n",
       "3746  Stora Enso의 북미 사업장은 연간 약 300만 톤의 용량을 가지고 있으며, 약 4,350명의 직원이 근무하고 있...  \n",
       "4440  탈루슈투키무스가 삼포생명을 위해 실시한 설문조사에 따르면 기업들은 주요 직원을 잃을 것에 대한 대비가 미흡한 것으로 나...  \n",
       "2064  `` 네스티오일은 유럽, 미국, 아프리카, 아시아, 호주의 20개 이상의 연구 커뮤니티와 협력하여 새로운 원자재를 개발...  \n",
       "3388  유효성 검사 규칙 기반을 사용하면 서로 다른 관리자가 관리하는 처리 규칙 기반이 일부 설정된 요구 사항을 충족하는지 확...  \n",
       "3896     보고서에는 2007년과 2008년의 유통 점유율 정보뿐만 아니라 범주 수준 회사 및 브랜드 점유율이 포함되어 있습니다.  \n",
       "1687                                   UPM-Kymmene은 31분기 연속 EBITDA 호조를 보였다.  \n",
       "1896           시티24 이용자들은 시티24가 활동 중인 모든 지역의 주택과 사유지를 자신의 나라 밖에서도 검색할 수 있다.  \n",
       "2583              이번 인수는 L+에넨테하트의 다른 사업과 시너지 효과가 있다면 냉동식품이나 생선 부문이 아니어도 된다.  \n",
       "4207                                                그 계획이 접히는 것은 실망스러운 일이다.  \n",
       "4507  `` 멀티미디어카드 물리 인터페이스를 이용한 하드 디스크 드라이브 제어 방법 및 시스템'은 핀란드의 Marko Ahve...  "
      ]
     },
     "execution_count": 5,
     "metadata": {},
     "output_type": "execute_result"
    }
   ],
   "source": [
    "data.sample(30)"
   ]
  },
  {
   "cell_type": "code",
   "execution_count": 6,
   "id": "c947ed1a",
   "metadata": {
    "ExecuteTime": {
     "end_time": "2022-06-25T02:27:12.795698Z",
     "start_time": "2022-06-25T02:27:12.763731Z"
    }
   },
   "outputs": [
    {
     "name": "stdout",
     "output_type": "stream",
     "text": [
      "총 샘플의 수 : 4846\n"
     ]
    },
    {
     "data": {
      "text/html": [
       "<div>\n",
       "<style scoped>\n",
       "    .dataframe tbody tr th:only-of-type {\n",
       "        vertical-align: middle;\n",
       "    }\n",
       "\n",
       "    .dataframe tbody tr th {\n",
       "        vertical-align: top;\n",
       "    }\n",
       "\n",
       "    .dataframe thead th {\n",
       "        text-align: right;\n",
       "    }\n",
       "</style>\n",
       "<table border=\"1\" class=\"dataframe\">\n",
       "  <thead>\n",
       "    <tr style=\"text-align: right;\">\n",
       "      <th></th>\n",
       "      <th>labels</th>\n",
       "      <th>kor_sentence</th>\n",
       "    </tr>\n",
       "  </thead>\n",
       "  <tbody>\n",
       "    <tr>\n",
       "      <th>0</th>\n",
       "      <td>neutral</td>\n",
       "      <td>Gran에 따르면, 그 회사는 회사가 성장하고 있는 곳이지만, 모든 생산을 러시아로 옮길 계획이 없다고 한다.</td>\n",
       "    </tr>\n",
       "    <tr>\n",
       "      <th>1</th>\n",
       "      <td>neutral</td>\n",
       "      <td>테크노폴리스는 컴퓨터 기술과 통신 분야에서 일하는 회사들을 유치하기 위해 10만 평방미터 이상의 면적을 단계적으로 개발...</td>\n",
       "    </tr>\n",
       "    <tr>\n",
       "      <th>2</th>\n",
       "      <td>negative</td>\n",
       "      <td>국제 전자산업 회사인 엘코텍은 탈린 공장에서 수십 명의 직원을 해고했으며, 이전의 해고와는 달리 회사는 사무직 직원 수...</td>\n",
       "    </tr>\n",
       "    <tr>\n",
       "      <th>3</th>\n",
       "      <td>positive</td>\n",
       "      <td>새로운 생산공장으로 인해 회사는 예상되는 수요 증가를 충족시킬 수 있는 능력을 증가시키고 원자재 사용을 개선하여 생산 ...</td>\n",
       "    </tr>\n",
       "    <tr>\n",
       "      <th>4</th>\n",
       "      <td>positive</td>\n",
       "      <td>2009-2012년 회사의 업데이트된 전략에 따르면, Basware는 20% - 40% 범위의 장기적인 순매출 성장을 ...</td>\n",
       "    </tr>\n",
       "  </tbody>\n",
       "</table>\n",
       "</div>"
      ],
      "text/plain": [
       "     labels  \\\n",
       "0   neutral   \n",
       "1   neutral   \n",
       "2  negative   \n",
       "3  positive   \n",
       "4  positive   \n",
       "\n",
       "                                                            kor_sentence  \n",
       "0          Gran에 따르면, 그 회사는 회사가 성장하고 있는 곳이지만, 모든 생산을 러시아로 옮길 계획이 없다고 한다.  \n",
       "1  테크노폴리스는 컴퓨터 기술과 통신 분야에서 일하는 회사들을 유치하기 위해 10만 평방미터 이상의 면적을 단계적으로 개발...  \n",
       "2  국제 전자산업 회사인 엘코텍은 탈린 공장에서 수십 명의 직원을 해고했으며, 이전의 해고와는 달리 회사는 사무직 직원 수...  \n",
       "3  새로운 생산공장으로 인해 회사는 예상되는 수요 증가를 충족시킬 수 있는 능력을 증가시키고 원자재 사용을 개선하여 생산 ...  \n",
       "4  2009-2012년 회사의 업데이트된 전략에 따르면, Basware는 20% - 40% 범위의 장기적인 순매출 성장을 ...  "
      ]
     },
     "execution_count": 6,
     "metadata": {},
     "output_type": "execute_result"
    }
   ],
   "source": [
    "data = pd.read_csv('./data/finance_data.csv')\n",
    "print('총 샘플의 수 :',len(data))\n",
    "data = data.drop(columns=['sentence'])\n",
    "data.head()"
   ]
  },
  {
   "cell_type": "code",
   "execution_count": 7,
   "id": "532d099b",
   "metadata": {
    "ExecuteTime": {
     "end_time": "2022-06-25T02:27:12.938698Z",
     "start_time": "2022-06-25T02:27:12.920736Z"
    }
   },
   "outputs": [
    {
     "data": {
      "text/html": [
       "<div>\n",
       "<style scoped>\n",
       "    .dataframe tbody tr th:only-of-type {\n",
       "        vertical-align: middle;\n",
       "    }\n",
       "\n",
       "    .dataframe tbody tr th {\n",
       "        vertical-align: top;\n",
       "    }\n",
       "\n",
       "    .dataframe thead th {\n",
       "        text-align: right;\n",
       "    }\n",
       "</style>\n",
       "<table border=\"1\" class=\"dataframe\">\n",
       "  <thead>\n",
       "    <tr style=\"text-align: right;\">\n",
       "      <th></th>\n",
       "      <th>labels</th>\n",
       "      <th>kor_sentence</th>\n",
       "    </tr>\n",
       "  </thead>\n",
       "  <tbody>\n",
       "    <tr>\n",
       "      <th>0</th>\n",
       "      <td>0</td>\n",
       "      <td>Gran에 따르면, 그 회사는 회사가 성장하고 있는 곳이지만, 모든 생산을 러시아로 옮길 계획이 없다고 한다.</td>\n",
       "    </tr>\n",
       "    <tr>\n",
       "      <th>1</th>\n",
       "      <td>0</td>\n",
       "      <td>테크노폴리스는 컴퓨터 기술과 통신 분야에서 일하는 회사들을 유치하기 위해 10만 평방미터 이상의 면적을 단계적으로 개발...</td>\n",
       "    </tr>\n",
       "    <tr>\n",
       "      <th>2</th>\n",
       "      <td>2</td>\n",
       "      <td>국제 전자산업 회사인 엘코텍은 탈린 공장에서 수십 명의 직원을 해고했으며, 이전의 해고와는 달리 회사는 사무직 직원 수...</td>\n",
       "    </tr>\n",
       "    <tr>\n",
       "      <th>3</th>\n",
       "      <td>1</td>\n",
       "      <td>새로운 생산공장으로 인해 회사는 예상되는 수요 증가를 충족시킬 수 있는 능력을 증가시키고 원자재 사용을 개선하여 생산 ...</td>\n",
       "    </tr>\n",
       "    <tr>\n",
       "      <th>4</th>\n",
       "      <td>1</td>\n",
       "      <td>2009-2012년 회사의 업데이트된 전략에 따르면, Basware는 20% - 40% 범위의 장기적인 순매출 성장을 ...</td>\n",
       "    </tr>\n",
       "  </tbody>\n",
       "</table>\n",
       "</div>"
      ],
      "text/plain": [
       "   labels  \\\n",
       "0       0   \n",
       "1       0   \n",
       "2       2   \n",
       "3       1   \n",
       "4       1   \n",
       "\n",
       "                                                            kor_sentence  \n",
       "0          Gran에 따르면, 그 회사는 회사가 성장하고 있는 곳이지만, 모든 생산을 러시아로 옮길 계획이 없다고 한다.  \n",
       "1  테크노폴리스는 컴퓨터 기술과 통신 분야에서 일하는 회사들을 유치하기 위해 10만 평방미터 이상의 면적을 단계적으로 개발...  \n",
       "2  국제 전자산업 회사인 엘코텍은 탈린 공장에서 수십 명의 직원을 해고했으며, 이전의 해고와는 달리 회사는 사무직 직원 수...  \n",
       "3  새로운 생산공장으로 인해 회사는 예상되는 수요 증가를 충족시킬 수 있는 능력을 증가시키고 원자재 사용을 개선하여 생산 ...  \n",
       "4  2009-2012년 회사의 업데이트된 전략에 따르면, Basware는 20% - 40% 범위의 장기적인 순매출 성장을 ...  "
      ]
     },
     "execution_count": 7,
     "metadata": {},
     "output_type": "execute_result"
    }
   ],
   "source": [
    "data['labels'] = data['labels'].replace(['neutral', 'positive', 'negative'],[0, 1, 2])\n",
    "data.head()"
   ]
  },
  {
   "cell_type": "code",
   "execution_count": 8,
   "id": "81664b3d",
   "metadata": {
    "ExecuteTime": {
     "end_time": "2022-06-25T02:27:13.112714Z",
     "start_time": "2022-06-25T02:27:13.096683Z"
    }
   },
   "outputs": [
    {
     "name": "stdout",
     "output_type": "stream",
     "text": [
      "결측값 여부 : False\n"
     ]
    }
   ],
   "source": [
    "print('결측값 여부 :',data.isnull().values.any())"
   ]
  },
  {
   "cell_type": "code",
   "execution_count": 9,
   "id": "46536208",
   "metadata": {
    "ExecuteTime": {
     "end_time": "2022-06-25T02:27:13.628884Z",
     "start_time": "2022-06-25T02:27:13.608885Z"
    }
   },
   "outputs": [
    {
     "data": {
      "text/html": [
       "<div>\n",
       "<style scoped>\n",
       "    .dataframe tbody tr th:only-of-type {\n",
       "        vertical-align: middle;\n",
       "    }\n",
       "\n",
       "    .dataframe tbody tr th {\n",
       "        vertical-align: top;\n",
       "    }\n",
       "\n",
       "    .dataframe thead th {\n",
       "        text-align: right;\n",
       "    }\n",
       "</style>\n",
       "<table border=\"1\" class=\"dataframe\">\n",
       "  <thead>\n",
       "    <tr style=\"text-align: right;\">\n",
       "      <th></th>\n",
       "      <th>labels</th>\n",
       "      <th>kor_sentence</th>\n",
       "    </tr>\n",
       "  </thead>\n",
       "  <tbody>\n",
       "    <tr>\n",
       "      <th>1099</th>\n",
       "      <td>0</td>\n",
       "      <td>이 발표 내용에 대한 책임은 전적으로 발행자에게 있습니다.</td>\n",
       "    </tr>\n",
       "    <tr>\n",
       "      <th>1394</th>\n",
       "      <td>0</td>\n",
       "      <td>핀란드 헬싱키에 본사를 둔 레민카이넨 그룹은 토목 공학, 건축 계약, 기술 건축 서비스, 건축 자재 산업 등 건설 산업...</td>\n",
       "    </tr>\n",
       "    <tr>\n",
       "      <th>1416</th>\n",
       "      <td>0</td>\n",
       "      <td>이 보고서는 블랙 앤 데커, 피스카스, 피스카스 브랜드, 후스크바르나 아웃도어 프로덕츠, K+S 그룹, 료비 테크놀로지...</td>\n",
       "    </tr>\n",
       "    <tr>\n",
       "      <th>2396</th>\n",
       "      <td>0</td>\n",
       "      <td>알스트롬의 주가는 나스닥 OMX 헬싱키에서 인용되고 있다.</td>\n",
       "    </tr>\n",
       "    <tr>\n",
       "      <th>2567</th>\n",
       "      <td>0</td>\n",
       "      <td>SSH 통신 보안 코퍼레이션은 핀란드 헬싱키에 본사를 두고 있다.</td>\n",
       "    </tr>\n",
       "    <tr>\n",
       "      <th>2889</th>\n",
       "      <td>0</td>\n",
       "      <td>재정적인 세부사항은 공개되지 않았다.</td>\n",
       "    </tr>\n",
       "    <tr>\n",
       "      <th>2890</th>\n",
       "      <td>0</td>\n",
       "      <td>재정적인 세부사항은 공개되지 않았다.</td>\n",
       "    </tr>\n",
       "    <tr>\n",
       "      <th>2892</th>\n",
       "      <td>0</td>\n",
       "      <td>금융 조건은 공개되지 않았다.</td>\n",
       "    </tr>\n",
       "    <tr>\n",
       "      <th>3050</th>\n",
       "      <td>0</td>\n",
       "      <td>재정적인 세부사항은 제공되지 않았다.</td>\n",
       "    </tr>\n",
       "    <tr>\n",
       "      <th>3051</th>\n",
       "      <td>0</td>\n",
       "      <td>재정적인 세부사항은 공개되지 않았다.</td>\n",
       "    </tr>\n",
       "    <tr>\n",
       "      <th>3094</th>\n",
       "      <td>0</td>\n",
       "      <td>Proha Plc (Euronext :7327)는 오늘 (5월 19일) 완전 소유 자회사인 Safran Software...</td>\n",
       "    </tr>\n",
       "    <tr>\n",
       "      <th>3206</th>\n",
       "      <td>0</td>\n",
       "      <td>공정 및 자원, 산업기계, 건축, 건축, 건설, 전기, 운송, 전자, 화학, 석유화학, 에너지, 정보기술(IT) 등 다...</td>\n",
       "    </tr>\n",
       "    <tr>\n",
       "      <th>3350</th>\n",
       "      <td>0</td>\n",
       "      <td>판매 가격은 공개되지 않았다.</td>\n",
       "    </tr>\n",
       "    <tr>\n",
       "      <th>3538</th>\n",
       "      <td>0</td>\n",
       "      <td>아스포의 그룹 구조와 비즈니스 운영은 미리 정의된 일정 없이 지속적으로 개발됩니다.</td>\n",
       "    </tr>\n",
       "    <tr>\n",
       "      <th>3617</th>\n",
       "      <td>0</td>\n",
       "      <td>2007년에 에트플랜은 125.2m의 회전율을 기록했다.</td>\n",
       "    </tr>\n",
       "    <tr>\n",
       "      <th>3938</th>\n",
       "      <td>0</td>\n",
       "      <td>그 거래의 가치는 공개되지 않았다.</td>\n",
       "    </tr>\n",
       "  </tbody>\n",
       "</table>\n",
       "</div>"
      ],
      "text/plain": [
       "      labels  \\\n",
       "1099       0   \n",
       "1394       0   \n",
       "1416       0   \n",
       "2396       0   \n",
       "2567       0   \n",
       "2889       0   \n",
       "2890       0   \n",
       "2892       0   \n",
       "3050       0   \n",
       "3051       0   \n",
       "3094       0   \n",
       "3206       0   \n",
       "3350       0   \n",
       "3538       0   \n",
       "3617       0   \n",
       "3938       0   \n",
       "\n",
       "                                                               kor_sentence  \n",
       "1099                                       이 발표 내용에 대한 책임은 전적으로 발행자에게 있습니다.  \n",
       "1394  핀란드 헬싱키에 본사를 둔 레민카이넨 그룹은 토목 공학, 건축 계약, 기술 건축 서비스, 건축 자재 산업 등 건설 산업...  \n",
       "1416  이 보고서는 블랙 앤 데커, 피스카스, 피스카스 브랜드, 후스크바르나 아웃도어 프로덕츠, K+S 그룹, 료비 테크놀로지...  \n",
       "2396                                       알스트롬의 주가는 나스닥 OMX 헬싱키에서 인용되고 있다.  \n",
       "2567                                   SSH 통신 보안 코퍼레이션은 핀란드 헬싱키에 본사를 두고 있다.  \n",
       "2889                                                   재정적인 세부사항은 공개되지 않았다.  \n",
       "2890                                                   재정적인 세부사항은 공개되지 않았다.  \n",
       "2892                                                       금융 조건은 공개되지 않았다.  \n",
       "3050                                                   재정적인 세부사항은 제공되지 않았다.  \n",
       "3051                                                   재정적인 세부사항은 공개되지 않았다.  \n",
       "3094  Proha Plc (Euronext :7327)는 오늘 (5월 19일) 완전 소유 자회사인 Safran Software...  \n",
       "3206  공정 및 자원, 산업기계, 건축, 건축, 건설, 전기, 운송, 전자, 화학, 석유화학, 에너지, 정보기술(IT) 등 다...  \n",
       "3350                                                       판매 가격은 공개되지 않았다.  \n",
       "3538                         아스포의 그룹 구조와 비즈니스 운영은 미리 정의된 일정 없이 지속적으로 개발됩니다.  \n",
       "3617                                        2007년에 에트플랜은 125.2m의 회전율을 기록했다.  \n",
       "3938                                                    그 거래의 가치는 공개되지 않았다.  "
      ]
     },
     "execution_count": 9,
     "metadata": {},
     "output_type": "execute_result"
    }
   ],
   "source": [
    "duplicated = data[data.duplicated()]\n",
    "duplicated"
   ]
  },
  {
   "cell_type": "code",
   "execution_count": 10,
   "id": "ae81de2a",
   "metadata": {
    "ExecuteTime": {
     "end_time": "2022-06-25T02:27:13.946408Z",
     "start_time": "2022-06-25T02:27:13.932378Z"
    }
   },
   "outputs": [
    {
     "name": "stdout",
     "output_type": "stream",
     "text": [
      "총 샘플의 수 : 4827\n"
     ]
    }
   ],
   "source": [
    "# 중복 제거\n",
    "data.drop_duplicates(subset=['kor_sentence'], inplace=True)\n",
    "print('총 샘플의 수 :',len(data))"
   ]
  },
  {
   "cell_type": "code",
   "execution_count": 11,
   "id": "f234e38a",
   "metadata": {
    "ExecuteTime": {
     "end_time": "2022-06-25T02:27:14.435122Z",
     "start_time": "2022-06-25T02:27:14.426123Z"
    }
   },
   "outputs": [
    {
     "name": "stdout",
     "output_type": "stream",
     "text": [
      "레이블의 분포\n",
      "   labels  count\n",
      "0       0   2861\n",
      "1       1   1362\n",
      "2       2    604\n"
     ]
    }
   ],
   "source": [
    "print('레이블의 분포')\n",
    "print(data.groupby('labels').size().reset_index(name='count'))"
   ]
  },
  {
   "cell_type": "code",
   "execution_count": 12,
   "id": "c827ca3e",
   "metadata": {
    "ExecuteTime": {
     "end_time": "2022-06-25T02:27:14.778603Z",
     "start_time": "2022-06-25T02:27:14.763608Z"
    }
   },
   "outputs": [],
   "source": [
    "X_data = data['kor_sentence']\n",
    "y_data = data['labels']"
   ]
  },
  {
   "cell_type": "code",
   "execution_count": 13,
   "id": "9a78e1ae",
   "metadata": {
    "ExecuteTime": {
     "end_time": "2022-06-25T02:27:15.261460Z",
     "start_time": "2022-06-25T02:27:15.242463Z"
    }
   },
   "outputs": [],
   "source": [
    "X_train, X_test, y_train, y_test = train_test_split(X_data, y_data, test_size=0.2, random_state=0, stratify=y_data)"
   ]
  },
  {
   "cell_type": "code",
   "execution_count": 14,
   "id": "c37db54f",
   "metadata": {
    "ExecuteTime": {
     "end_time": "2022-06-25T02:27:15.451528Z",
     "start_time": "2022-06-25T02:27:15.448562Z"
    }
   },
   "outputs": [
    {
     "name": "stdout",
     "output_type": "stream",
     "text": [
      "훈련 샘플의 개수 : 3861\n",
      "테스트 샘플의 개수 : 966\n"
     ]
    }
   ],
   "source": [
    "print('훈련 샘플의 개수 :', len(X_train))\n",
    "print('테스트 샘플의 개수 :', len(X_test))"
   ]
  },
  {
   "cell_type": "code",
   "execution_count": 15,
   "id": "d2f35a0a",
   "metadata": {
    "ExecuteTime": {
     "end_time": "2022-06-25T02:27:15.609954Z",
     "start_time": "2022-06-25T02:27:15.592923Z"
    }
   },
   "outputs": [
    {
     "data": {
      "text/plain": [
       "2049                         보험사는 노르데아의 순이익에서 노르데아가 차지하는 비중이 상당할 것으로 예상하고 있다.\n",
       "129                                                백화점 부서는 매출이 4% 증가했다고 보고했다.\n",
       "272                                         이 기간의 이익은 1.3 mn에서 5.9 mn으로 증가했다.\n",
       "3261                      정부는 대신 LMT에 대한 국가 지분을 텔리아소네라의 라떼레콤 지분에 교환할 것을 제안했다.\n",
       "3937                                        거래 금액은 SEK25m에서 SEK50m 사이로 추정됩니다.\n",
       "                                        ...                                  \n",
       "1834                                                    핀란드는 적극적인 배송이 필수적입니다.\n",
       "2934    헬싱키(Thomson Financial) - M-real은 키로오이로부터 약 13mln유로에 핀란드 키로스코스키에 50...\n",
       "415     tinyurl 링크는 사용자들이 구글 (NASDAQ : GOOG) 캐시 광고주가 됨으로써 수천 달러를 벌 수 있다고 약...\n",
       "2489                                            아이온파스의 2대 주주는 벤처캐피털 아우라캐피탈이다.\n",
       "341     보고기간 중 순매출은 2008-09년 상반기에 실현된 사업인수 영향으로 전년 동기 대비 8% 증가한 64.3m를 기록했...\n",
       "Name: kor_sentence, Length: 3861, dtype: object"
      ]
     },
     "execution_count": 15,
     "metadata": {},
     "output_type": "execute_result"
    }
   ],
   "source": [
    "X_train"
   ]
  },
  {
   "cell_type": "code",
   "execution_count": 16,
   "id": "e04346c1",
   "metadata": {
    "ExecuteTime": {
     "end_time": "2022-06-25T02:27:16.034411Z",
     "start_time": "2022-06-25T02:27:16.026410Z"
    }
   },
   "outputs": [
    {
     "data": {
      "text/plain": [
       "0    0.592852\n",
       "1    0.282051\n",
       "2    0.125097\n",
       "Name: labels, dtype: float64"
      ]
     },
     "execution_count": 16,
     "metadata": {},
     "output_type": "execute_result"
    }
   ],
   "source": [
    "# 훈련 데이터 라벨별 비율\n",
    "y_train.value_counts(normalize = True)"
   ]
  },
  {
   "cell_type": "code",
   "execution_count": 17,
   "id": "dca33c0e",
   "metadata": {
    "ExecuteTime": {
     "end_time": "2022-06-25T02:27:16.240399Z",
     "start_time": "2022-06-25T02:27:16.232378Z"
    }
   },
   "outputs": [
    {
     "data": {
      "text/plain": [
       "0    0.592133\n",
       "1    0.282609\n",
       "2    0.125259\n",
       "Name: labels, dtype: float64"
      ]
     },
     "execution_count": 17,
     "metadata": {},
     "output_type": "execute_result"
    }
   ],
   "source": [
    "# 테스트 데이터 라벨별 비율\n",
    "y_test.value_counts(normalize = True)"
   ]
  },
  {
   "cell_type": "code",
   "execution_count": null,
   "id": "905249ad",
   "metadata": {},
   "outputs": [],
   "source": []
  },
  {
   "cell_type": "markdown",
   "id": "5432340a",
   "metadata": {},
   "source": [
    "## BERT 입력용 데이터 포맷으로 변경"
   ]
  },
  {
   "cell_type": "code",
   "execution_count": 55,
   "id": "d5995542",
   "metadata": {
    "ExecuteTime": {
     "end_time": "2022-06-25T01:55:09.798257Z",
     "start_time": "2022-06-25T01:55:09.792249Z"
    }
   },
   "outputs": [],
   "source": [
    "MAX_SEQ_LEN = 128"
   ]
  },
  {
   "cell_type": "code",
   "execution_count": 55,
   "id": "351384b4",
   "metadata": {
    "ExecuteTime": {
     "end_time": "2022-06-04T12:18:50.537858Z",
     "start_time": "2022-06-04T12:18:50.531881Z"
    }
   },
   "outputs": [],
   "source": [
    "def convert_data(X_data, y_data):\n",
    "    # BERT 입력으로 들어가는 token, mask, segment, target \n",
    "    tokens, masks, segments, targets = [], [], [], []\n",
    "    \n",
    "    for X, y in tqdm(zip(X_data, y_data)):\n",
    "        # token: 입력 문장 토큰화\n",
    "        token = tokenizer.encode(X, truncation = True, max_length = MAX_SEQ_LEN, padding = 'max_length')\n",
    "        \n",
    "        # Mask: 토큰화한 문장 내 패딩이 아닌 경우 1, 패딩인 경우 0으로 초기화\n",
    "        num_zeros = token.count(0)\n",
    "        mask = [1] * (MAX_SEQ_LEN - num_zeros) + [0] * num_zeros\n",
    "        \n",
    "        # token_type_id: segment인코딩(오직 한 문장이므로 모두 0으로 초기화)\n",
    "        segment = [0]*MAX_SEQ_LEN\n",
    "\n",
    "        tokens.append(token)\n",
    "        masks.append(mask)\n",
    "        segments.append(segment)\n",
    "        targets.append(y)\n",
    "\n",
    "    # numpy array로 저장\n",
    "    tokens = np.array(tokens)\n",
    "    masks = np.array(masks)\n",
    "    segments = np.array(segments)\n",
    "    targets = np.array(targets)\n",
    "\n",
    "    return [tokens, masks, segments], targets"
   ]
  },
  {
   "cell_type": "code",
   "execution_count": 65,
   "id": "7a98444e",
   "metadata": {
    "ExecuteTime": {
     "end_time": "2022-06-25T02:03:17.901664Z",
     "start_time": "2022-06-25T02:03:15.631634Z"
    }
   },
   "outputs": [
    {
     "name": "stderr",
     "output_type": "stream",
     "text": [
      "0it [00:00, ?it/s]C:\\Users\\bitcamp\\anaconda3\\lib\\site-packages\\transformers\\tokenization_utils_base.py:2263: FutureWarning: The `pad_to_max_length` argument is deprecated and will be removed in a future version, use `padding=True` or `padding='longest'` to pad to the longest sequence in the batch, or use `padding='max_length'` to pad to a max length. In this case, you can give a specific length with `max_length` (e.g. `max_length=45`) or leave max_length to None to pad to the maximal input size of the model (e.g. 512 for Bert).\n",
      "  warnings.warn(\n",
      "3861it [00:01, 3450.31it/s]\n",
      "3861it [00:01, 3447.23it/s]\n"
     ]
    }
   ],
   "source": [
    "# train 데이터를 Bert의 Input 타입에 맞게 변환\n",
    "train_x, train_y = convert_text_to_features_data(X_train, y_train,max_seq_len=max_seq_len,tokenizer=tokenizer)\n",
    "\n",
    "# test 데이터를 Bert의 Input 타입에 맞게 변환\n",
    "test_x, test_y = convert_text_to_features_data(X_train, y_train,max_seq_len=max_seq_len,tokenizer=tokenizer)"
   ]
  },
  {
   "cell_type": "code",
   "execution_count": 66,
   "id": "6e0ff507",
   "metadata": {
    "ExecuteTime": {
     "end_time": "2022-06-25T02:03:19.912891Z",
     "start_time": "2022-06-25T02:03:19.900892Z"
    }
   },
   "outputs": [
    {
     "data": {
      "text/plain": [
       "27167"
      ]
     },
     "execution_count": 66,
     "metadata": {},
     "output_type": "execute_result"
    }
   ],
   "source": [
    "train_x[0].max()"
   ]
  },
  {
   "cell_type": "code",
   "execution_count": 67,
   "id": "bc6cfc13",
   "metadata": {
    "ExecuteTime": {
     "end_time": "2022-06-25T02:03:20.573550Z",
     "start_time": "2022-06-25T02:03:20.558522Z"
    }
   },
   "outputs": [
    {
     "data": {
      "text/plain": [
       "1"
      ]
     },
     "execution_count": 67,
     "metadata": {},
     "output_type": "execute_result"
    }
   ],
   "source": [
    "train_x[1].max()"
   ]
  },
  {
   "cell_type": "code",
   "execution_count": 68,
   "id": "ef77acf5",
   "metadata": {
    "ExecuteTime": {
     "end_time": "2022-06-25T02:03:21.419911Z",
     "start_time": "2022-06-25T02:03:21.406910Z"
    }
   },
   "outputs": [
    {
     "data": {
      "text/plain": [
       "0"
      ]
     },
     "execution_count": 68,
     "metadata": {},
     "output_type": "execute_result"
    }
   ],
   "source": [
    "train_x[2].max()"
   ]
  },
  {
   "cell_type": "code",
   "execution_count": 69,
   "id": "9f3931db",
   "metadata": {
    "ExecuteTime": {
     "end_time": "2022-06-25T02:03:22.239315Z",
     "start_time": "2022-06-25T02:03:22.222322Z"
    }
   },
   "outputs": [
    {
     "data": {
      "text/plain": [
       "2049    1\n",
       "129     1\n",
       "272     1\n",
       "3261    0\n",
       "3937    0\n",
       "       ..\n",
       "1834    0\n",
       "2934    1\n",
       "415     2\n",
       "2489    0\n",
       "341     1\n",
       "Name: labels, Length: 3861, dtype: int64"
      ]
     },
     "execution_count": 69,
     "metadata": {},
     "output_type": "execute_result"
    }
   ],
   "source": [
    "y_train"
   ]
  },
  {
   "cell_type": "code",
   "execution_count": 70,
   "id": "55b7ca6b",
   "metadata": {
    "ExecuteTime": {
     "end_time": "2022-06-25T02:03:22.977537Z",
     "start_time": "2022-06-25T02:03:22.958510Z"
    }
   },
   "outputs": [
    {
     "data": {
      "text/plain": [
       "2347    0\n",
       "2963    0\n",
       "4423    2\n",
       "4735    2\n",
       "2487    0\n",
       "       ..\n",
       "3907    0\n",
       "957     1\n",
       "275     1\n",
       "2448    0\n",
       "2440    0\n",
       "Name: labels, Length: 966, dtype: int64"
      ]
     },
     "execution_count": 70,
     "metadata": {},
     "output_type": "execute_result"
    }
   ],
   "source": [
    "y_test"
   ]
  },
  {
   "cell_type": "code",
   "execution_count": 62,
   "id": "993a39bc",
   "metadata": {
    "ExecuteTime": {
     "end_time": "2022-06-04T12:18:53.570354Z",
     "start_time": "2022-06-04T12:18:53.553400Z"
    }
   },
   "outputs": [],
   "source": [
    "# token, mask, segment 입력 정의\n",
    "token_inputs = tf.keras.layers.Input((MAX_SEQ_LEN,), dtype = tf.int32, name = 'input_word_ids')\n",
    "mask_inputs = tf.keras.layers.Input((MAX_SEQ_LEN,), dtype = tf.int32, name = 'input_masks')\n",
    "segment_inputs = tf.keras.layers.Input((MAX_SEQ_LEN,), dtype = tf.int32, name = 'input_segment')\n"
   ]
  },
  {
   "cell_type": "markdown",
   "id": "3dbe40b9",
   "metadata": {},
   "source": [
    "## BERT출력 정의"
   ]
  },
  {
   "cell_type": "code",
   "execution_count": 63,
   "id": "dd9aece7",
   "metadata": {
    "ExecuteTime": {
     "end_time": "2022-06-04T12:18:55.658490Z",
     "start_time": "2022-06-04T12:18:54.692153Z"
    }
   },
   "outputs": [],
   "source": [
    "bert_outputs = model([token_inputs, mask_inputs, segment_inputs])\n",
    "bert_output = bert_outputs[0]"
   ]
  },
  {
   "cell_type": "markdown",
   "id": "eb1ce231",
   "metadata": {},
   "source": [
    "## 감정분류모델 컴파일"
   ]
  },
  {
   "cell_type": "code",
   "execution_count": 64,
   "id": "e2fd7e01",
   "metadata": {
    "ExecuteTime": {
     "end_time": "2022-06-04T12:18:55.705639Z",
     "start_time": "2022-06-04T12:18:55.691416Z"
    }
   },
   "outputs": [],
   "source": [
    "DROPOUT_RATE = 0.5\n",
    "NUM_CLASS = 3\n",
    "dropout = tf.keras.layers.Dropout(DROPOUT_RATE)(bert_output)\n",
    "# Multi-class classification 문제이므로 activation function은 softmax로 설정\n",
    "sentiment_layer = tf.keras.layers.Dense(NUM_CLASS, activation='softmax', kernel_initializer = tf.keras.initializers.TruncatedNormal(stddev=0.02))(dropout)\n",
    "sentiment_model = tf.keras.Model([token_inputs, mask_inputs, segment_inputs], sentiment_layer)\n"
   ]
  },
  {
   "cell_type": "code",
   "execution_count": 65,
   "id": "dda34ac4",
   "metadata": {
    "ExecuteTime": {
     "end_time": "2022-06-04T12:18:56.249505Z",
     "start_time": "2022-06-04T12:18:56.237537Z"
    }
   },
   "outputs": [],
   "source": [
    "# 옵티마이저 Rectified Adam 하이퍼파리미터 조정\n",
    "\n",
    "OPTIMIZER_NAME = 'RAdam'\n",
    "LEARNING_RATE = 5e-5\n",
    "TOTAL_STEPS = 10000\n",
    "MIN_LR = 1e-5\n",
    "WARMUP_PROPORTION = 0.1\n",
    "EPSILON = 1e-8\n",
    "CLIPNORM = 1.0\n",
    "optimizer = tfa.optimizers.RectifiedAdam(learning_rate = LEARNING_RATE,\n",
    "                                          total_steps = TOTAL_STEPS, \n",
    "                                          warmup_proportion = WARMUP_PROPORTION, \n",
    "                                          min_lr = MIN_LR, \n",
    "                                          epsilon = EPSILON,\n",
    "                                          clipnorm = CLIPNORM)"
   ]
  },
  {
   "cell_type": "code",
   "execution_count": 66,
   "id": "fdfd6968",
   "metadata": {
    "ExecuteTime": {
     "end_time": "2022-06-04T12:18:56.843349Z",
     "start_time": "2022-06-04T12:18:56.830385Z"
    }
   },
   "outputs": [],
   "source": [
    "# 감정분류 모델 컴파일\n",
    "sentiment_model.compile(optimizer = optimizer, \n",
    "                        loss = tf.keras.losses.SparseCategoricalCrossentropy(), \n",
    "                        metrics = ['accuracy'])"
   ]
  },
  {
   "cell_type": "code",
   "execution_count": 67,
   "id": "5ddd71d1",
   "metadata": {
    "ExecuteTime": {
     "end_time": "2022-06-04T12:18:57.482174Z",
     "start_time": "2022-06-04T12:18:57.464222Z"
    }
   },
   "outputs": [],
   "source": [
    "MIN_DELTA = 1e-3\n",
    "PATIENCE = 5\n",
    "\n",
    "early_stopping = EarlyStopping(\n",
    "    monitor = \"val_accuracy\", \n",
    "    min_delta = MIN_DELTA,\n",
    "    patience = PATIENCE)"
   ]
  },
  {
   "cell_type": "code",
   "execution_count": 68,
   "id": "306c7d07",
   "metadata": {
    "ExecuteTime": {
     "end_time": "2022-06-04T12:18:58.025275Z",
     "start_time": "2022-06-04T12:18:58.008320Z"
    }
   },
   "outputs": [],
   "source": [
    "# 최고 성능의 모델 파일을 저장할 이름과 경로 설정\n",
    "BEST_MODEL_NAME = './data/model/best_model.h5'\n",
    "model_checkpoint = ModelCheckpoint(\n",
    "    filepath = BEST_MODEL_NAME,\n",
    "    monitor = \"val_loss\",\n",
    "    mode = \"min\",\n",
    "    save_best_only = True, # 성능 향상 시에만 모델 저장\n",
    "    verbose = 1\n",
    ")"
   ]
  },
  {
   "cell_type": "code",
   "execution_count": 69,
   "id": "53d432f7",
   "metadata": {
    "ExecuteTime": {
     "end_time": "2022-06-04T12:18:58.476098Z",
     "start_time": "2022-06-04T12:18:58.465133Z"
    }
   },
   "outputs": [],
   "source": [
    "callbacks = [early_stopping, model_checkpoint]"
   ]
  },
  {
   "cell_type": "code",
   "execution_count": 73,
   "id": "15906635",
   "metadata": {
    "ExecuteTime": {
     "end_time": "2022-06-05T08:48:10.327416Z",
     "start_time": "2022-06-05T08:48:10.320443Z"
    }
   },
   "outputs": [],
   "source": [
    "EPOCHS = 100\n",
    "BATCH_SZIE = 32\n",
    "\n",
    "sentiment_model.fit(train_x, train_y, \n",
    "                    epochs = EPOCHS, \n",
    "                    shuffle = True, \n",
    "                    batch_size = BATCH_SZIE, \n",
    "                    validation_data = (test_x, test_y),\n",
    "                    callbacks = callbacks\n",
    "                    )"
   ]
  },
  {
   "cell_type": "code",
   "execution_count": 39,
   "id": "10c6585c",
   "metadata": {
    "ExecuteTime": {
     "end_time": "2022-06-04T12:16:31.188063Z",
     "start_time": "2022-06-04T12:16:31.184040Z"
    }
   },
   "outputs": [
    {
     "data": {
      "text/plain": [
       "31474"
      ]
     },
     "execution_count": 39,
     "metadata": {},
     "output_type": "execute_result"
    }
   ],
   "source": [
    "test_x[0].max()"
   ]
  },
  {
   "cell_type": "code",
   "execution_count": null,
   "id": "cae5cec9",
   "metadata": {},
   "outputs": [],
   "source": []
  },
  {
   "cell_type": "code",
   "execution_count": null,
   "id": "5036ff5b",
   "metadata": {},
   "outputs": [],
   "source": []
  },
  {
   "cell_type": "code",
   "execution_count": null,
   "id": "ffe25d95",
   "metadata": {},
   "outputs": [],
   "source": []
  },
  {
   "cell_type": "code",
   "execution_count": null,
   "id": "0b206064",
   "metadata": {},
   "outputs": [],
   "source": [
    "# 최고 성능의 모델 불러오기\n",
    "sentiment_model_best = tf.keras.models.load_model(BEST_MODEL_NAME,\n",
    "                                                  custom_objects={'TFBertForSequenceClassification': TFBertForSequenceClassification})"
   ]
  },
  {
   "cell_type": "code",
   "execution_count": null,
   "id": "6b0d49ea",
   "metadata": {},
   "outputs": [],
   "source": [
    "# 모델이 예측한 라벨 도출\n",
    "predicted_value = sentiment_model_best.predict(test_x)\n",
    "predicted_label = np.argmax(predicted_value, axis = 1)"
   ]
  },
  {
   "cell_type": "code",
   "execution_count": null,
   "id": "56b56715",
   "metadata": {},
   "outputs": [],
   "source": [
    "# Classification Report 저장\n",
    "CL_REPORT_FILE = \"./data/metric/cl_report.csv\"\n",
    "\n",
    "cl_report = classification_report(test_y, predicted_label, output_dict = True)\n",
    "cl_report_df = pd.DataFrame(cl_report).transpose()\n",
    "cl_report_df = cl_report_df.round(3)\n",
    "cl_report_df.to_csv(CL_REPORT_FILE)\n",
    "print(cl_report_df)"
   ]
  },
  {
   "cell_type": "code",
   "execution_count": null,
   "id": "8dee71a8",
   "metadata": {},
   "outputs": [],
   "source": []
  },
  {
   "cell_type": "markdown",
   "id": "a0c9beb2",
   "metadata": {
    "ExecuteTime": {
     "end_time": "2022-06-04T15:34:34.547597Z",
     "start_time": "2022-06-04T15:34:34.535602Z"
    }
   },
   "source": [
    "# 모델에 넣어줄 텍스트 데이터 전처리 함수:  text_data()"
   ]
  },
  {
   "cell_type": "markdown",
   "id": "97d6f4a6",
   "metadata": {},
   "source": [
    "## 저장된 모델 불러오기"
   ]
  },
  {
   "cell_type": "code",
   "execution_count": 12,
   "id": "ae2ddde3",
   "metadata": {
    "ExecuteTime": {
     "end_time": "2022-06-24T08:00:51.183404Z",
     "start_time": "2022-06-24T08:00:40.127504Z"
    }
   },
   "outputs": [],
   "source": [
    "# 최고 성능의 모델 불러오기\n",
    "BEST_MODEL_NAME = './data/model/best_model.h5'\n",
    "sentiment_model_best = tf.keras.models.load_model(BEST_MODEL_NAME,\n",
    "                                                  custom_objects={'TFBertForSequenceClassification': TFBertForSequenceClassification})"
   ]
  },
  {
   "cell_type": "code",
   "execution_count": 13,
   "id": "7a7ff4a7",
   "metadata": {
    "ExecuteTime": {
     "end_time": "2022-06-24T08:01:00.315573Z",
     "start_time": "2022-06-24T08:00:51.222309Z"
    }
   },
   "outputs": [
    {
     "name": "stderr",
     "output_type": "stream",
     "text": [
      "Some weights of the PyTorch model were not used when initializing the TF 2.0 model TFBertForSequenceClassification: ['bert.embeddings.position_ids']\n",
      "- This IS expected if you are initializing TFBertForSequenceClassification from a PyTorch model trained on another task or with another architecture (e.g. initializing a TFBertForSequenceClassification model from a BertForPreTraining model).\n",
      "- This IS NOT expected if you are initializing TFBertForSequenceClassification from a PyTorch model that you expect to be exactly identical (e.g. initializing a TFBertForSequenceClassification model from a BertForSequenceClassification model).\n",
      "Some weights or buffers of the TF 2.0 model TFBertForSequenceClassification were not initialized from the PyTorch model and are newly initialized: ['classifier.weight', 'classifier.bias']\n",
      "You should probably TRAIN this model on a down-stream task to be able to use it for predictions and inference.\n"
     ]
    }
   ],
   "source": [
    "MODEL_NAME = \"klue/bert-base\"\n",
    "model = TFBertForSequenceClassification.from_pretrained(MODEL_NAME, num_labels=3, from_pt=True)\n",
    "tokenizer = BertTokenizer.from_pretrained(MODEL_NAME)"
   ]
  },
  {
   "cell_type": "code",
   "execution_count": 14,
   "id": "dfae8f46",
   "metadata": {
    "ExecuteTime": {
     "end_time": "2022-06-24T08:01:00.362314Z",
     "start_time": "2022-06-24T08:01:00.347489Z"
    }
   },
   "outputs": [],
   "source": [
    "MAX_SEQ_LEN = 128\n",
    "def text_data(X_data):\n",
    "    # BERT 입력으로 들어가는 token, mask, segment, target 저장용 리스트\n",
    "    input_ids, attention_masks, token_type_ids, targets = [], [], [], []\n",
    "    \n",
    "    for X in tqdm(X_data):\n",
    "        # input_id: 워드 임베딩을 위한 문장의 정수 인코딩\n",
    "        input_id = tokenizer.encode(X, truncation = True, padding = 'max_length', max_length = MAX_SEQ_LEN)\n",
    "        \n",
    "        # attention_mask: 실제 단어가 위치하면 1, 패딩의 위치에는 0인 시퀀스\n",
    "        num_zeros = token.count(0)\n",
    "        attention_masks = [1] * (MAX_SEQ_LEN - num_zeros) + [0] * num_zeros\n",
    "        \n",
    "        # token_type_id: segment인코딩(오직 한 문장이므로 모두 0으로 초기화)\n",
    "        token_type_id = [0]*MAX_SEQ_LEN\n",
    "\n",
    "        input_ids.append(token)\n",
    "        masks.append(mask)\n",
    "        segments.append(token_type_id)\n",
    "\n",
    "\n",
    "    # numpy array로 저장\n",
    "    input_ids = np.array(input_id)\n",
    "    attention_masks = np.array(attention_mask)\n",
    "    segments = np.array(segments)\n",
    "\n",
    "\n",
    "    return [input_ids, attention_masks, token_type_ids]"
   ]
  },
  {
   "cell_type": "code",
   "execution_count": null,
   "id": "66f359ec",
   "metadata": {},
   "outputs": [],
   "source": []
  },
  {
   "cell_type": "code",
   "execution_count": 15,
   "id": "b784b76a",
   "metadata": {
    "ExecuteTime": {
     "end_time": "2022-06-24T08:01:12.007691Z",
     "start_time": "2022-06-24T08:01:11.896520Z"
    }
   },
   "outputs": [
    {
     "data": {
      "text/html": [
       "<div>\n",
       "<style scoped>\n",
       "    .dataframe tbody tr th:only-of-type {\n",
       "        vertical-align: middle;\n",
       "    }\n",
       "\n",
       "    .dataframe tbody tr th {\n",
       "        vertical-align: top;\n",
       "    }\n",
       "\n",
       "    .dataframe thead th {\n",
       "        text-align: right;\n",
       "    }\n",
       "</style>\n",
       "<table border=\"1\" class=\"dataframe\">\n",
       "  <thead>\n",
       "    <tr style=\"text-align: right;\">\n",
       "      <th></th>\n",
       "      <th>날짜</th>\n",
       "      <th>뉴스제목</th>\n",
       "      <th>뉴스요약</th>\n",
       "    </tr>\n",
       "  </thead>\n",
       "  <tbody>\n",
       "    <tr>\n",
       "      <th>7111</th>\n",
       "      <td>2016-01-07</td>\n",
       "      <td>카카오·스타벅스·카페베네 모바일상품권 갑질 횡포!</td>\n",
       "      <td>상품권 유효기간이 너무 짧습니다 장창엽 / 세종시 한솔동 \"선물을 받은 적이 있었는데 기간이 너무 짧아서 놓쳐서 못받고...</td>\n",
       "    </tr>\n",
       "    <tr>\n",
       "      <th>5979</th>\n",
       "      <td>2016-01-11</td>\n",
       "      <td>멜론 품은 카카오, \"글로벌 진출 발판 마련\"</td>\n",
       "      <td>카카오가 멜론을 서비스하는 국내 1위 음악콘텐츠 회사인 로엔을 인수합니다. 무서운 기세로 사업을 확장하는 카카오, 이제...</td>\n",
       "    </tr>\n",
       "    <tr>\n",
       "      <th>5978</th>\n",
       "      <td>2016-01-11</td>\n",
       "      <td>카카오-로엔, 직접 빅딜…高인수가 논란</td>\n",
       "      <td>&lt;앵커&gt; 지난해부터 M&amp;A로 몸집 불리기에 나섰던 카카오가 새해부터 공격적인 행보를 이어갔습니다. 카카오 사상 최대 규...</td>\n",
       "    </tr>\n",
       "    <tr>\n",
       "      <th>5977</th>\n",
       "      <td>2016-01-11</td>\n",
       "      <td>카카오, 1조 8천억 원에 '음원 시장 1위' 멜론 인수</td>\n",
       "      <td>유명한 카카오가 음원 사이트 멜론을 인수했습니다. 모바일 메신저 1위와 음원 시장 1위 업체의 만남, 콘텐츠 시장에 큰...</td>\n",
       "    </tr>\n",
       "    <tr>\n",
       "      <th>5976</th>\n",
       "      <td>2016-01-11</td>\n",
       "      <td>카카오, '멜론' 운영사 1조9천억원에 인수</td>\n",
       "      <td>카카오, '멜론' 운영사 1조9천억원에 인수 'IT 공룡' 카카오가 국내 1위 음악 콘텐츠업체 로엔엔터테인먼트를 1조8...</td>\n",
       "    </tr>\n",
       "  </tbody>\n",
       "</table>\n",
       "</div>"
      ],
      "text/plain": [
       "              날짜                             뉴스제목  \\\n",
       "7111  2016-01-07      카카오·스타벅스·카페베네 모바일상품권 갑질 횡포!   \n",
       "5979  2016-01-11        멜론 품은 카카오, \"글로벌 진출 발판 마련\"   \n",
       "5978  2016-01-11            카카오-로엔, 직접 빅딜…高인수가 논란   \n",
       "5977  2016-01-11  카카오, 1조 8천억 원에 '음원 시장 1위' 멜론 인수   \n",
       "5976  2016-01-11         카카오, '멜론' 운영사 1조9천억원에 인수   \n",
       "\n",
       "                                                                       뉴스요약  \n",
       "7111  상품권 유효기간이 너무 짧습니다 장창엽 / 세종시 한솔동 \"선물을 받은 적이 있었는데 기간이 너무 짧아서 놓쳐서 못받고...  \n",
       "5979  카카오가 멜론을 서비스하는 국내 1위 음악콘텐츠 회사인 로엔을 인수합니다. 무서운 기세로 사업을 확장하는 카카오, 이제...  \n",
       "5978  <앵커> 지난해부터 M&A로 몸집 불리기에 나섰던 카카오가 새해부터 공격적인 행보를 이어갔습니다. 카카오 사상 최대 규...  \n",
       "5977  유명한 카카오가 음원 사이트 멜론을 인수했습니다. 모바일 메신저 1위와 음원 시장 1위 업체의 만남, 콘텐츠 시장에 큰...  \n",
       "5976  카카오, '멜론' 운영사 1조9천억원에 인수 'IT 공룡' 카카오가 국내 1위 음악 콘텐츠업체 로엔엔터테인먼트를 1조8...  "
      ]
     },
     "execution_count": 15,
     "metadata": {},
     "output_type": "execute_result"
    }
   ],
   "source": [
    "df_n = pd.read_csv('./data/개별기업뉴스_전처리/카카오.csv',index_col=0)\n",
    "df_n.head()"
   ]
  },
  {
   "cell_type": "code",
   "execution_count": 16,
   "id": "4dd74437",
   "metadata": {
    "ExecuteTime": {
     "end_time": "2022-06-24T08:01:16.154500Z",
     "start_time": "2022-06-24T08:01:16.147501Z"
    }
   },
   "outputs": [
    {
     "data": {
      "text/plain": [
       "10996"
      ]
     },
     "execution_count": 16,
     "metadata": {},
     "output_type": "execute_result"
    }
   ],
   "source": [
    "news_data = df_n['뉴스제목']\n",
    "len(news_data)"
   ]
  },
  {
   "cell_type": "code",
   "execution_count": 17,
   "id": "1e378386",
   "metadata": {
    "ExecuteTime": {
     "end_time": "2022-06-24T08:01:20.200261Z",
     "start_time": "2022-06-24T08:01:17.973072Z"
    }
   },
   "outputs": [
    {
     "name": "stderr",
     "output_type": "stream",
     "text": [
      "100%|██████████████████████████████████████████████████████████████████████████| 10996/10996 [00:02<00:00, 5288.66it/s]\n"
     ]
    },
    {
     "data": {
      "text/plain": [
       "[array([[    2,  7270,   100, ...,     0,     0,     0],\n",
       "        [    2, 19632,  1873, ...,     0,     0,     0],\n",
       "        [    2,  7270,    17, ...,     0,     0,     0],\n",
       "        ...,\n",
       "        [    2,  7270,  2882, ...,     0,     0,     0],\n",
       "        [    2,  7270, 13960, ...,     0,     0,     0],\n",
       "        [    2,     6,  3769, ...,     0,     0,     0]]),\n",
       " array([[1, 1, 1, ..., 0, 0, 0],\n",
       "        [1, 1, 1, ..., 0, 0, 0],\n",
       "        [1, 1, 1, ..., 0, 0, 0],\n",
       "        ...,\n",
       "        [1, 1, 1, ..., 0, 0, 0],\n",
       "        [1, 1, 1, ..., 0, 0, 0],\n",
       "        [1, 1, 1, ..., 0, 0, 0]]),\n",
       " array([[0, 0, 0, ..., 0, 0, 0],\n",
       "        [0, 0, 0, ..., 0, 0, 0],\n",
       "        [0, 0, 0, ..., 0, 0, 0],\n",
       "        ...,\n",
       "        [0, 0, 0, ..., 0, 0, 0],\n",
       "        [0, 0, 0, ..., 0, 0, 0],\n",
       "        [0, 0, 0, ..., 0, 0, 0]])]"
      ]
     },
     "execution_count": 17,
     "metadata": {},
     "output_type": "execute_result"
    }
   ],
   "source": [
    "news_x = text_data(news_data)\n",
    "news_x"
   ]
  },
  {
   "cell_type": "markdown",
   "id": "040a932a",
   "metadata": {},
   "source": [
    "## 예측 결과"
   ]
  },
  {
   "cell_type": "code",
   "execution_count": 18,
   "id": "645713ee",
   "metadata": {
    "ExecuteTime": {
     "end_time": "2022-06-24T08:01:58.146405Z",
     "start_time": "2022-06-24T08:01:22.036796Z"
    },
    "scrolled": true
   },
   "outputs": [
    {
     "data": {
      "text/plain": [
       "array([0, 1, 0, ..., 0, 0, 0], dtype=int64)"
      ]
     },
     "execution_count": 18,
     "metadata": {},
     "output_type": "execute_result"
    }
   ],
   "source": [
    "predicted_value = sentiment_model_best.predict(news_x)\n",
    "predicted_label = np.argmax(predicted_value, axis = 1)\n",
    "predicted_label"
   ]
  },
  {
   "cell_type": "code",
   "execution_count": 19,
   "id": "09d74c3c",
   "metadata": {
    "ExecuteTime": {
     "end_time": "2022-06-24T08:01:58.194406Z",
     "start_time": "2022-06-24T08:01:58.179421Z"
    }
   },
   "outputs": [],
   "source": [
    "pos_idx = np.where(predicted_label==1)\n",
    "neg_idx = np.where(predicted_label==2)\n",
    "neu_idx = np.where(predicted_label==0)"
   ]
  },
  {
   "cell_type": "code",
   "execution_count": 20,
   "id": "d4692799",
   "metadata": {
    "ExecuteTime": {
     "end_time": "2022-06-24T08:01:58.290375Z",
     "start_time": "2022-06-24T08:01:58.227409Z"
    }
   },
   "outputs": [
    {
     "name": "stdout",
     "output_type": "stream",
     "text": [
      "긍정개수 : 2002\n",
      "부정개수 : 768\n",
      "중립개수 : 8226\n"
     ]
    }
   ],
   "source": [
    "print('긍정개수 :', sum(predicted_label ==1))\n",
    "print('부정개수 :', sum(predicted_label ==2))\n",
    "print('중립개수 :', sum(predicted_label ==0))"
   ]
  },
  {
   "cell_type": "code",
   "execution_count": null,
   "id": "3f6fc473",
   "metadata": {
    "ExecuteTime": {
     "end_time": "2022-06-07T04:11:07.213976Z",
     "start_time": "2022-06-07T04:11:07.194060Z"
    }
   },
   "outputs": [],
   "source": []
  },
  {
   "cell_type": "markdown",
   "id": "0f4a04d3",
   "metadata": {},
   "source": [
    "### 긍정"
   ]
  },
  {
   "cell_type": "code",
   "execution_count": 32,
   "id": "3fb533ae",
   "metadata": {
    "ExecuteTime": {
     "end_time": "2022-06-24T08:06:05.080552Z",
     "start_time": "2022-06-24T08:06:05.059523Z"
    }
   },
   "outputs": [
    {
     "data": {
      "text/html": [
       "<div>\n",
       "<style scoped>\n",
       "    .dataframe tbody tr th:only-of-type {\n",
       "        vertical-align: middle;\n",
       "    }\n",
       "\n",
       "    .dataframe tbody tr th {\n",
       "        vertical-align: top;\n",
       "    }\n",
       "\n",
       "    .dataframe thead th {\n",
       "        text-align: right;\n",
       "    }\n",
       "</style>\n",
       "<table border=\"1\" class=\"dataframe\">\n",
       "  <thead>\n",
       "    <tr style=\"text-align: right;\">\n",
       "      <th></th>\n",
       "      <th>날짜</th>\n",
       "      <th>뉴스제목</th>\n",
       "      <th>뉴스요약</th>\n",
       "    </tr>\n",
       "  </thead>\n",
       "  <tbody>\n",
       "    <tr>\n",
       "      <th>10365</th>\n",
       "      <td>2021-03-30</td>\n",
       "      <td>네이버보다 못 오른 카카오, 5대1 액면분할로 주가 부양 가능할까?</td>\n",
       "      <td>카카오(035720)의 5대1 액면분할안이 정기주주총회를 통과하면서 소액주주들에게 문턱이 더 낮아졌다. 올... 29일...</td>\n",
       "    </tr>\n",
       "    <tr>\n",
       "      <th>1602</th>\n",
       "      <td>2022-05-27</td>\n",
       "      <td>삼성 금융앱 ‘모니모’ 4월 사용자 수 74만 증가…카카오페이 66만·토스 63...</td>\n",
       "      <td>카카오페이 사용자 수는 66만명 늘었으며, 토스는 63만명 증가했다. 또한 금융앱 중에서 가장 많은 신규... 순위에서...</td>\n",
       "    </tr>\n",
       "    <tr>\n",
       "      <th>1941</th>\n",
       "      <td>2022-05-04</td>\n",
       "      <td>카카오, 1분기 영업익 1587억원…광고 줄고 콘텐츠 성장세(상보)</td>\n",
       "      <td>2022년 1분기 카카오 실적 요약[이데일리 이대호 기자] 카카오(035720)가 한국국제회계기준 2022년 1분기 연...</td>\n",
       "    </tr>\n",
       "    <tr>\n",
       "      <th>12454</th>\n",
       "      <td>2022-04-27</td>\n",
       "      <td>“폰타나로 시작하는 든든한 하루!” 폰타나, 카카오 쇼핑라이브 첫 방송 진행</td>\n",
       "      <td>정통 서양식 브랜드 폰타나가 5월 4일 오전 8시 30분부터 ‘폰타나로 시작하는 든든한 하루’ 카카오... 폰타나 관계...</td>\n",
       "    </tr>\n",
       "    <tr>\n",
       "      <th>8408</th>\n",
       "      <td>2022-05-03</td>\n",
       "      <td>카카오게임즈, 1분기 매출 2663억원…전년比 105% ↑</td>\n",
       "      <td>카카오게임즈가 모바일 게임 '오딘'의 인기로 올해 1분기 매출이 전년 대비 2배 증가했다. 카카오게임즈는 2022년 1...</td>\n",
       "    </tr>\n",
       "    <tr>\n",
       "      <th>10171</th>\n",
       "      <td>2021-05-07</td>\n",
       "      <td>최고 실적 또 갈아치운 카카오… 모빌리티·페이 ‘일등 공신’</td>\n",
       "      <td>카카오가 또다시 역대 최고 실적을 갈아치웠다. 모빌리티(운송 사업)와 페이(간편결제)를 비롯한 신사업이 90%에 육박하...</td>\n",
       "    </tr>\n",
       "    <tr>\n",
       "      <th>3389</th>\n",
       "      <td>2022-05-10</td>\n",
       "      <td>서울대병원-카카오헬스케어, 정밀의료 지식은행 구축 위한 업무협약 체결</td>\n",
       "      <td>김정아 기자 | 서울대병원과 카카오헬스케어가 데이터의 시각화, 요약, 통계 및 분석 자동화가 가능한 차세대 정밀의료 지...</td>\n",
       "    </tr>\n",
       "    <tr>\n",
       "      <th>1967</th>\n",
       "      <td>2022-05-18</td>\n",
       "      <td>더 똑똑해진 카카오 '톡비서 죠르디'…카톡 메시지도 예약 해준다</td>\n",
       "      <td>죠르디 /사진=카카오 제공 카카오톡에 메시지 예약 전송 기능이 생겼다. 생일 축하나 일정 등 메시지를 미리 저장한 날짜...</td>\n",
       "    </tr>\n",
       "    <tr>\n",
       "      <th>16975</th>\n",
       "      <td>2022-05-04</td>\n",
       "      <td>[리포트 브리핑]카카오게임즈, '신작 없이도 선방한 1분기' 목표가 110,000원...</td>\n",
       "      <td>로보뉴스 = 미래에셋증권에서 04일 카카오게임즈(293490)에 대해 '신작 없이도 선방한 1분기'라며... ◆ 카카오...</td>\n",
       "    </tr>\n",
       "    <tr>\n",
       "      <th>17801</th>\n",
       "      <td>2020-08-06</td>\n",
       "      <td>[잠정실적]카카오 2Q 실적, 영업이익 978억원... 전년동기 대비 142% 증가 (연...</td>\n",
       "      <td>로보뉴스 = 카카오의 영업이익률이 전년동기 대비하여 4.5%p 증가하였다. 19년 06월 5.5%이던 영업이익률이......</td>\n",
       "    </tr>\n",
       "  </tbody>\n",
       "</table>\n",
       "</div>"
      ],
      "text/plain": [
       "               날짜                                                  뉴스제목  \\\n",
       "10365  2021-03-30                 네이버보다 못 오른 카카오, 5대1 액면분할로 주가 부양 가능할까?   \n",
       "1602   2022-05-27       삼성 금융앱 ‘모니모’ 4월 사용자 수 74만 증가…카카오페이 66만·토스 63...   \n",
       "1941   2022-05-04                 카카오, 1분기 영업익 1587억원…광고 줄고 콘텐츠 성장세(상보)   \n",
       "12454  2022-04-27            “폰타나로 시작하는 든든한 하루!” 폰타나, 카카오 쇼핑라이브 첫 방송 진행   \n",
       "8408   2022-05-03                      카카오게임즈, 1분기 매출 2663억원…전년比 105% ↑   \n",
       "10171  2021-05-07                     최고 실적 또 갈아치운 카카오… 모빌리티·페이 ‘일등 공신’   \n",
       "3389   2022-05-10                서울대병원-카카오헬스케어, 정밀의료 지식은행 구축 위한 업무협약 체결   \n",
       "1967   2022-05-18                   더 똑똑해진 카카오 '톡비서 죠르디'…카톡 메시지도 예약 해준다   \n",
       "16975  2022-05-04     [리포트 브리핑]카카오게임즈, '신작 없이도 선방한 1분기' 목표가 110,000원...   \n",
       "17801  2020-08-06  [잠정실적]카카오 2Q 실적, 영업이익 978억원... 전년동기 대비 142% 증가 (연...   \n",
       "\n",
       "                                                                        뉴스요약  \n",
       "10365  카카오(035720)의 5대1 액면분할안이 정기주주총회를 통과하면서 소액주주들에게 문턱이 더 낮아졌다. 올... 29일...  \n",
       "1602   카카오페이 사용자 수는 66만명 늘었으며, 토스는 63만명 증가했다. 또한 금융앱 중에서 가장 많은 신규... 순위에서...  \n",
       "1941   2022년 1분기 카카오 실적 요약[이데일리 이대호 기자] 카카오(035720)가 한국국제회계기준 2022년 1분기 연...  \n",
       "12454  정통 서양식 브랜드 폰타나가 5월 4일 오전 8시 30분부터 ‘폰타나로 시작하는 든든한 하루’ 카카오... 폰타나 관계...  \n",
       "8408   카카오게임즈가 모바일 게임 '오딘'의 인기로 올해 1분기 매출이 전년 대비 2배 증가했다. 카카오게임즈는 2022년 1...  \n",
       "10171  카카오가 또다시 역대 최고 실적을 갈아치웠다. 모빌리티(운송 사업)와 페이(간편결제)를 비롯한 신사업이 90%에 육박하...  \n",
       "3389   김정아 기자 | 서울대병원과 카카오헬스케어가 데이터의 시각화, 요약, 통계 및 분석 자동화가 가능한 차세대 정밀의료 지...  \n",
       "1967   죠르디 /사진=카카오 제공 카카오톡에 메시지 예약 전송 기능이 생겼다. 생일 축하나 일정 등 메시지를 미리 저장한 날짜...  \n",
       "16975  로보뉴스 = 미래에셋증권에서 04일 카카오게임즈(293490)에 대해 '신작 없이도 선방한 1분기'라며... ◆ 카카오...  \n",
       "17801  로보뉴스 = 카카오의 영업이익률이 전년동기 대비하여 4.5%p 증가하였다. 19년 06월 5.5%이던 영업이익률이......  "
      ]
     },
     "execution_count": 32,
     "metadata": {},
     "output_type": "execute_result"
    }
   ],
   "source": [
    "df_n.iloc[pos_idx].sample(10)"
   ]
  },
  {
   "cell_type": "code",
   "execution_count": 31,
   "id": "12fc5aa2",
   "metadata": {
    "ExecuteTime": {
     "end_time": "2022-06-24T08:06:02.676486Z",
     "start_time": "2022-06-24T08:06:02.660492Z"
    }
   },
   "outputs": [
    {
     "data": {
      "text/html": [
       "<div>\n",
       "<style scoped>\n",
       "    .dataframe tbody tr th:only-of-type {\n",
       "        vertical-align: middle;\n",
       "    }\n",
       "\n",
       "    .dataframe tbody tr th {\n",
       "        vertical-align: top;\n",
       "    }\n",
       "\n",
       "    .dataframe thead th {\n",
       "        text-align: right;\n",
       "    }\n",
       "</style>\n",
       "<table border=\"1\" class=\"dataframe\">\n",
       "  <thead>\n",
       "    <tr style=\"text-align: right;\">\n",
       "      <th></th>\n",
       "      <th>날짜</th>\n",
       "      <th>뉴스제목</th>\n",
       "      <th>뉴스요약</th>\n",
       "    </tr>\n",
       "  </thead>\n",
       "  <tbody>\n",
       "    <tr>\n",
       "      <th>198</th>\n",
       "      <td>2022-05-30</td>\n",
       "      <td>[기획] 카카오, ESG 경영 강화…이미지 쇄신 팔 걷어</td>\n",
       "      <td>카카오는 16일 두번째 ESG 보고서 '2021 카카오의 약속과 책임'을 발간했다. 사진=카카오 제공 카카오가 ESG(...</td>\n",
       "    </tr>\n",
       "    <tr>\n",
       "      <th>294</th>\n",
       "      <td>2022-05-30</td>\n",
       "      <td>카카오페이 대출비교 홍보영상 500만뷰 돌파... \"제1금융권 제휴 최다\"</td>\n",
       "      <td>카카오페이 '내 대출 한도' 서비스 이미지[사진=카카오페이] 카카오페이의 대출 비교 서비스 영상의 조회수가 500만뷰를...</td>\n",
       "    </tr>\n",
       "    <tr>\n",
       "      <th>73</th>\n",
       "      <td>2022-05-30</td>\n",
       "      <td>\"포용적 금융지원 확대\"...카카오뱅크·캠코, 연체채권 정기 인수계약 체결</td>\n",
       "      <td>협력사업 지속 확대 예정  카카오뱅크는 취약·연체 채무자의 주거안정과 경제적 재기지원을 위해 캠코... 카카오뱅크는 주...</td>\n",
       "    </tr>\n",
       "    <tr>\n",
       "      <th>8</th>\n",
       "      <td>2022-05-30</td>\n",
       "      <td>[특징주] 저점 찍었나…네이버 4%·카카오 2%대 반등</td>\n",
       "      <td>국내 증시 대표 플랫폼주인 네이버와 카카오 주가가 30일 모처럼 큰 폭으로 반등했다. 이날 유가증권시장에서 네이버는 전...</td>\n",
       "    </tr>\n",
       "    <tr>\n",
       "      <th>26</th>\n",
       "      <td>2022-05-30</td>\n",
       "      <td>카카오뱅크, 캠코와 취약 채무자 주거안정 높인다</td>\n",
       "      <td>카카오뱅크는 취약·연체 채무자의 주거안정과 경제적 재기지원을 위해 한국자산관리공사(캠코)와... 카카오뱅크는 주택담보대...</td>\n",
       "    </tr>\n",
       "    <tr>\n",
       "      <th>...</th>\n",
       "      <td>...</td>\n",
       "      <td>...</td>\n",
       "      <td>...</td>\n",
       "    </tr>\n",
       "    <tr>\n",
       "      <th>5953</th>\n",
       "      <td>2016-03-08</td>\n",
       "      <td>카카오 드라이버, 카카오 택시 성공 잇는다</td>\n",
       "      <td>&lt;앵커&gt; 카카오가 대리기사 친화 정책을 내세우며 대리운전 서비스인 `카카오 드라이버` 기사 모집에 나섰습니다. 8만 7...</td>\n",
       "    </tr>\n",
       "    <tr>\n",
       "      <th>5963</th>\n",
       "      <td>2016-02-05</td>\n",
       "      <td>카카오 VS 네이버…어디가 더 매력적?</td>\n",
       "      <td>■ 경제와이드 이슈&amp; - 김민수 메리츠종금증권 여의도금융센터 부장 오늘 카카오의 실적 발표가 예정돼 있다. 이미 네이버...</td>\n",
       "    </tr>\n",
       "    <tr>\n",
       "      <th>5962</th>\n",
       "      <td>2016-02-05</td>\n",
       "      <td>실적부진 카카오…올해 성장성 입증할까</td>\n",
       "      <td>■ 경제와이드 '백브리핑 시시각각' &lt;앵커&gt; 모바일 플랫폼 기업 카카오가 지난해 경영실적을 발표했습니다.... 윤 기자...</td>\n",
       "    </tr>\n",
       "    <tr>\n",
       "      <th>5969</th>\n",
       "      <td>2016-01-12</td>\n",
       "      <td>[그건 이렇습니다] 카카오, 로엔 인수…신의 한 수? 무리수?</td>\n",
       "      <td>■ 경제와이드 '백브리핑 시시각각' &lt;앵커&gt; 카카오가 국내 음원 시장 1위 사업자 로엔엔터테인먼트를 1조8700억 원이...</td>\n",
       "    </tr>\n",
       "    <tr>\n",
       "      <th>5979</th>\n",
       "      <td>2016-01-11</td>\n",
       "      <td>멜론 품은 카카오, \"글로벌 진출 발판 마련\"</td>\n",
       "      <td>카카오가 멜론을 서비스하는 국내 1위 음악콘텐츠 회사인 로엔을 인수합니다. 무서운 기세로 사업을 확장하는 카카오, 이제...</td>\n",
       "    </tr>\n",
       "  </tbody>\n",
       "</table>\n",
       "<p>2002 rows × 3 columns</p>\n",
       "</div>"
      ],
      "text/plain": [
       "              날짜                                       뉴스제목  \\\n",
       "198   2022-05-30            [기획] 카카오, ESG 경영 강화…이미지 쇄신 팔 걷어   \n",
       "294   2022-05-30  카카오페이 대출비교 홍보영상 500만뷰 돌파... \"제1금융권 제휴 최다\"   \n",
       "73    2022-05-30  \"포용적 금융지원 확대\"...카카오뱅크·캠코, 연체채권 정기 인수계약 체결   \n",
       "8     2022-05-30             [특징주] 저점 찍었나…네이버 4%·카카오 2%대 반등   \n",
       "26    2022-05-30                 카카오뱅크, 캠코와 취약 채무자 주거안정 높인다   \n",
       "...          ...                                        ...   \n",
       "5953  2016-03-08                    카카오 드라이버, 카카오 택시 성공 잇는다   \n",
       "5963  2016-02-05                      카카오 VS 네이버…어디가 더 매력적?   \n",
       "5962  2016-02-05                       실적부진 카카오…올해 성장성 입증할까   \n",
       "5969  2016-01-12         [그건 이렇습니다] 카카오, 로엔 인수…신의 한 수? 무리수?   \n",
       "5979  2016-01-11                  멜론 품은 카카오, \"글로벌 진출 발판 마련\"   \n",
       "\n",
       "                                                                       뉴스요약  \n",
       "198   카카오는 16일 두번째 ESG 보고서 '2021 카카오의 약속과 책임'을 발간했다. 사진=카카오 제공 카카오가 ESG(...  \n",
       "294   카카오페이 '내 대출 한도' 서비스 이미지[사진=카카오페이] 카카오페이의 대출 비교 서비스 영상의 조회수가 500만뷰를...  \n",
       "73    협력사업 지속 확대 예정  카카오뱅크는 취약·연체 채무자의 주거안정과 경제적 재기지원을 위해 캠코... 카카오뱅크는 주...  \n",
       "8     국내 증시 대표 플랫폼주인 네이버와 카카오 주가가 30일 모처럼 큰 폭으로 반등했다. 이날 유가증권시장에서 네이버는 전...  \n",
       "26    카카오뱅크는 취약·연체 채무자의 주거안정과 경제적 재기지원을 위해 한국자산관리공사(캠코)와... 카카오뱅크는 주택담보대...  \n",
       "...                                                                     ...  \n",
       "5953  <앵커> 카카오가 대리기사 친화 정책을 내세우며 대리운전 서비스인 `카카오 드라이버` 기사 모집에 나섰습니다. 8만 7...  \n",
       "5963  ■ 경제와이드 이슈& - 김민수 메리츠종금증권 여의도금융센터 부장 오늘 카카오의 실적 발표가 예정돼 있다. 이미 네이버...  \n",
       "5962  ■ 경제와이드 '백브리핑 시시각각' <앵커> 모바일 플랫폼 기업 카카오가 지난해 경영실적을 발표했습니다.... 윤 기자...  \n",
       "5969  ■ 경제와이드 '백브리핑 시시각각' <앵커> 카카오가 국내 음원 시장 1위 사업자 로엔엔터테인먼트를 1조8700억 원이...  \n",
       "5979  카카오가 멜론을 서비스하는 국내 1위 음악콘텐츠 회사인 로엔을 인수합니다. 무서운 기세로 사업을 확장하는 카카오, 이제...  \n",
       "\n",
       "[2002 rows x 3 columns]"
      ]
     },
     "execution_count": 31,
     "metadata": {},
     "output_type": "execute_result"
    }
   ],
   "source": [
    "df_n.iloc[pos_idx].sort_values(by='날짜',ascending=False)"
   ]
  },
  {
   "cell_type": "markdown",
   "id": "c362cf11",
   "metadata": {},
   "source": [
    "### 부정"
   ]
  },
  {
   "cell_type": "code",
   "execution_count": 36,
   "id": "035a1544",
   "metadata": {
    "ExecuteTime": {
     "end_time": "2022-06-24T08:07:39.646031Z",
     "start_time": "2022-06-24T08:07:39.634032Z"
    }
   },
   "outputs": [
    {
     "data": {
      "text/html": [
       "<div>\n",
       "<style scoped>\n",
       "    .dataframe tbody tr th:only-of-type {\n",
       "        vertical-align: middle;\n",
       "    }\n",
       "\n",
       "    .dataframe tbody tr th {\n",
       "        vertical-align: top;\n",
       "    }\n",
       "\n",
       "    .dataframe thead th {\n",
       "        text-align: right;\n",
       "    }\n",
       "</style>\n",
       "<table border=\"1\" class=\"dataframe\">\n",
       "  <thead>\n",
       "    <tr style=\"text-align: right;\">\n",
       "      <th></th>\n",
       "      <th>날짜</th>\n",
       "      <th>뉴스제목</th>\n",
       "      <th>뉴스요약</th>\n",
       "    </tr>\n",
       "  </thead>\n",
       "  <tbody>\n",
       "    <tr>\n",
       "      <th>5196</th>\n",
       "      <td>2021-09-09</td>\n",
       "      <td>[오늘의 경제지표] 네이버·카카오 '이틀째 동반 하락'...여파는?</td>\n",
       "      <td>금융당국의 핀테크 규제 움직임에 네이버와 카카오 등 대형 플랫폼 주들의 주가가 이틀째 무너지며 지수 하락을 주도했습니다...</td>\n",
       "    </tr>\n",
       "    <tr>\n",
       "      <th>3317</th>\n",
       "      <td>2022-05-04</td>\n",
       "      <td>카카오, 1분기 영업익 1587억원... 시장 전망치 밑돌아</td>\n",
       "      <td>카카오 로고. 제공: 카카오 카카오가 올해 1분기 계절적 비수기의 영향과 거시경제 불확실성으로 인해 시장 전망치를 밑도...</td>\n",
       "    </tr>\n",
       "    <tr>\n",
       "      <th>4639</th>\n",
       "      <td>2021-03-26</td>\n",
       "      <td>\"부정 배차 없다\"는 카카오T…기사들은 \"차별 느낀다\"</td>\n",
       "      <td>카카오T는 차량 호출 시장의 80%를 차지하고 있습니다. 그런데 여러 유료 서비스를 만들면서 택시기사들... [기자] ...</td>\n",
       "    </tr>\n",
       "    <tr>\n",
       "      <th>5384</th>\n",
       "      <td>2018-12-14</td>\n",
       "      <td>[뉴스초점] 카풀서비스 연기에도 카카오-택시업계 갈등 지속</td>\n",
       "      <td>카풀서비스 연기에도 카카오-택시업계 갈등 지속 카카오모빌리티가 17일 시작하겠다던 카풀 정식서비스를 잠정 연기한다고 발...</td>\n",
       "    </tr>\n",
       "    <tr>\n",
       "      <th>4126</th>\n",
       "      <td>2022-01-19</td>\n",
       "      <td>카카오 다음 합병 과정 탈세 의혹‥코스피 코스닥 하락</td>\n",
       "      <td>시가 총액 상위 종목 살펴보면 내리는 종목이 더 많은 가운데 김범수 카카오의장과 김범수 의장 소유의케이큐브홀딩스가 카카...</td>\n",
       "    </tr>\n",
       "    <tr>\n",
       "      <th>16913</th>\n",
       "      <td>2021-12-07</td>\n",
       "      <td>07일, 외국인 거래소에서 SK스퀘어(-0.61%), 카카오(-0.41%) 등 순매도</td>\n",
       "      <td>외국인 투자자는 07일 거래소에서 SK스퀘어, 카카오, 코리아써키트 등을 중점적으로 매도한 것으로 나타났다. 외국인 투...</td>\n",
       "    </tr>\n",
       "    <tr>\n",
       "      <th>10621</th>\n",
       "      <td>2022-01-12</td>\n",
       "      <td>카카오 ‘먹튀’ 논란… 보험업 진출에도 악재로</td>\n",
       "      <td>내줘 카카오페이 경영진의 ‘먹튀’ 논란 여파로 리더십이 흔들리면서 향후 사업에 악재가 쌓이고 있다. 카카오페이가 진출을...</td>\n",
       "    </tr>\n",
       "    <tr>\n",
       "      <th>9824</th>\n",
       "      <td>2021-07-11</td>\n",
       "      <td>카카오, '클럽하우스' 잡긴 했지만···대중 관심은 시들</td>\n",
       "      <td>카카오(035720)가 선보인 소셜 오디오 플랫폼 ‘음(mm)’ 국내 이용자가 ‘원조’ 클럽하우스를 넘어섰다. 초대장이...</td>\n",
       "    </tr>\n",
       "    <tr>\n",
       "      <th>2603</th>\n",
       "      <td>2022-05-02</td>\n",
       "      <td>카카오페이, 1분기 영업손실 11억원…주가는 장중 신저가</td>\n",
       "      <td>핀테크기업 카카오페이가 올해 1분기 영업손실 11억원(연결 기준)을 기록해 전년 동기 대비 적자로 전환했다고 2일 공시...</td>\n",
       "    </tr>\n",
       "    <tr>\n",
       "      <th>9506</th>\n",
       "      <td>2021-09-08</td>\n",
       "      <td>정부·여당發 규제 협공에…네이버·카카오 주가 폭락</td>\n",
       "      <td>국내 플랫폼기업 전방위 타격 카카오페이 \"서비스 보완할것\" 정치권과 금융당국이 핀테크 산업을 향한 규제 도입을 공언하면...</td>\n",
       "    </tr>\n",
       "  </tbody>\n",
       "</table>\n",
       "</div>"
      ],
      "text/plain": [
       "               날짜                                             뉴스제목  \\\n",
       "5196   2021-09-09            [오늘의 경제지표] 네이버·카카오 '이틀째 동반 하락'...여파는?   \n",
       "3317   2022-05-04                카카오, 1분기 영업익 1587억원... 시장 전망치 밑돌아   \n",
       "4639   2021-03-26                   \"부정 배차 없다\"는 카카오T…기사들은 \"차별 느낀다\"   \n",
       "5384   2018-12-14                 [뉴스초점] 카풀서비스 연기에도 카카오-택시업계 갈등 지속   \n",
       "4126   2022-01-19                    카카오 다음 합병 과정 탈세 의혹‥코스피 코스닥 하락   \n",
       "16913  2021-12-07  07일, 외국인 거래소에서 SK스퀘어(-0.61%), 카카오(-0.41%) 등 순매도   \n",
       "10621  2022-01-12                        카카오 ‘먹튀’ 논란… 보험업 진출에도 악재로   \n",
       "9824   2021-07-11                  카카오, '클럽하우스' 잡긴 했지만···대중 관심은 시들   \n",
       "2603   2022-05-02                  카카오페이, 1분기 영업손실 11억원…주가는 장중 신저가   \n",
       "9506   2021-09-08                      정부·여당發 규제 협공에…네이버·카카오 주가 폭락   \n",
       "\n",
       "                                                                        뉴스요약  \n",
       "5196   금융당국의 핀테크 규제 움직임에 네이버와 카카오 등 대형 플랫폼 주들의 주가가 이틀째 무너지며 지수 하락을 주도했습니다...  \n",
       "3317   카카오 로고. 제공: 카카오 카카오가 올해 1분기 계절적 비수기의 영향과 거시경제 불확실성으로 인해 시장 전망치를 밑도...  \n",
       "4639   카카오T는 차량 호출 시장의 80%를 차지하고 있습니다. 그런데 여러 유료 서비스를 만들면서 택시기사들... [기자] ...  \n",
       "5384   카풀서비스 연기에도 카카오-택시업계 갈등 지속 카카오모빌리티가 17일 시작하겠다던 카풀 정식서비스를 잠정 연기한다고 발...  \n",
       "4126   시가 총액 상위 종목 살펴보면 내리는 종목이 더 많은 가운데 김범수 카카오의장과 김범수 의장 소유의케이큐브홀딩스가 카카...  \n",
       "16913  외국인 투자자는 07일 거래소에서 SK스퀘어, 카카오, 코리아써키트 등을 중점적으로 매도한 것으로 나타났다. 외국인 투...  \n",
       "10621  내줘 카카오페이 경영진의 ‘먹튀’ 논란 여파로 리더십이 흔들리면서 향후 사업에 악재가 쌓이고 있다. 카카오페이가 진출을...  \n",
       "9824   카카오(035720)가 선보인 소셜 오디오 플랫폼 ‘음(mm)’ 국내 이용자가 ‘원조’ 클럽하우스를 넘어섰다. 초대장이...  \n",
       "2603   핀테크기업 카카오페이가 올해 1분기 영업손실 11억원(연결 기준)을 기록해 전년 동기 대비 적자로 전환했다고 2일 공시...  \n",
       "9506   국내 플랫폼기업 전방위 타격 카카오페이 \"서비스 보완할것\" 정치권과 금융당국이 핀테크 산업을 향한 규제 도입을 공언하면...  "
      ]
     },
     "execution_count": 36,
     "metadata": {},
     "output_type": "execute_result"
    }
   ],
   "source": [
    "df_n.iloc[neg_idx].sample(10)"
   ]
  },
  {
   "cell_type": "markdown",
   "id": "7062afe8",
   "metadata": {},
   "source": [
    "### 중립"
   ]
  },
  {
   "cell_type": "code",
   "execution_count": 37,
   "id": "cbdf5d9f",
   "metadata": {
    "ExecuteTime": {
     "end_time": "2022-06-24T08:09:16.454748Z",
     "start_time": "2022-06-24T08:09:16.435717Z"
    }
   },
   "outputs": [
    {
     "data": {
      "text/html": [
       "<div>\n",
       "<style scoped>\n",
       "    .dataframe tbody tr th:only-of-type {\n",
       "        vertical-align: middle;\n",
       "    }\n",
       "\n",
       "    .dataframe tbody tr th {\n",
       "        vertical-align: top;\n",
       "    }\n",
       "\n",
       "    .dataframe thead th {\n",
       "        text-align: right;\n",
       "    }\n",
       "</style>\n",
       "<table border=\"1\" class=\"dataframe\">\n",
       "  <thead>\n",
       "    <tr style=\"text-align: right;\">\n",
       "      <th></th>\n",
       "      <th>날짜</th>\n",
       "      <th>뉴스제목</th>\n",
       "      <th>뉴스요약</th>\n",
       "    </tr>\n",
       "  </thead>\n",
       "  <tbody>\n",
       "    <tr>\n",
       "      <th>9817</th>\n",
       "      <td>2021-07-22</td>\n",
       "      <td>공정위, 카카오T·딜카 기업 결합 승인</td>\n",
       "      <td>DH ‘요기요’ 매각기한 연장 공정거래위원회가 택시호출 서비스인 ‘카카오T’를 운영하는 카카오모빌리티가 현대캐피탈의 온...</td>\n",
       "    </tr>\n",
       "    <tr>\n",
       "      <th>8974</th>\n",
       "      <td>2021-12-08</td>\n",
       "      <td>CJ는 미국 카카오는 유럽으로…K엔터 영토 무한확장 나섰다</td>\n",
       "      <td>콘텐츠산업 해외 공략 속도 카카오도 佛 웹툰시장 진출 CJ ENM과 카카오엔터테인먼트 등 국내 콘텐츠 제작사들이 세계 ...</td>\n",
       "    </tr>\n",
       "    <tr>\n",
       "      <th>3872</th>\n",
       "      <td>2022-05-04</td>\n",
       "      <td>스카이랩스, 카카오헬스케어와 MOU…\"모바일 만성질환 관리 시스템 구축\"</td>\n",
       "      <td>헬스케어 스타트업 스카이랩스가 카카오헬스케어와 모바일 만성질환 관리 시스템 구축을 위해 업무협약... 있는데, 카카오헬...</td>\n",
       "    </tr>\n",
       "    <tr>\n",
       "      <th>9820</th>\n",
       "      <td>2021-07-22</td>\n",
       "      <td>카카오T, 쏘카와의 한판승부 나서다</td>\n",
       "      <td>공정거래위원회는 22일 카카오모빌리티가 현대캐피탈 ‘딜카’을 인수하는 기업결합 건에 대해 경쟁제한 우려가 적다고 판단해...</td>\n",
       "    </tr>\n",
       "    <tr>\n",
       "      <th>1705</th>\n",
       "      <td>2022-05-17</td>\n",
       "      <td>카카오엔터, '브로커' '헌트' 등 다양한 작품들로 세계 시장 정조준</td>\n",
       "      <td>카카오엔터테인먼트는 직접 기획, 제작한 작품들은 물론 산하 자회사들과 함께한 작품들이 전세계... 공개되는 카카오TV ...</td>\n",
       "    </tr>\n",
       "    <tr>\n",
       "      <th>12285</th>\n",
       "      <td>2022-05-09</td>\n",
       "      <td>카카오브레인, 페이스 스와핑 기술 개발... '메타버스 시대 이끈다'</td>\n",
       "      <td>뉴데일리 김동준 기자 = 카카오브레인이 아이덴티티 임베딩(Identity Embedding) 기능이 향상된 새로운......</td>\n",
       "    </tr>\n",
       "    <tr>\n",
       "      <th>8876</th>\n",
       "      <td>2022-01-10</td>\n",
       "      <td>[기자의 눈/지민구]카카오, 커진 덩치만큼 성숙한 책임 보여야</td>\n",
       "      <td>“세상에서 가장 비싼 자산이 신뢰인데, 시장과 임직원의 신뢰를 모두 잃어버렸습니다.” 직장인 익명 커뮤니티 블라인드 등...</td>\n",
       "    </tr>\n",
       "    <tr>\n",
       "      <th>10920</th>\n",
       "      <td>2020-11-11</td>\n",
       "      <td>\"가보지 않은 길\" 김범수가 그리는 카카오 시즌2</td>\n",
       "      <td>[편집자주] 카카오가 폭풍 성장했다. 분기 매출만 벌써 1조원을 돌파했다. 스타트업에서 출발해 현재는 임직원 1만명, ...</td>\n",
       "    </tr>\n",
       "    <tr>\n",
       "      <th>11232</th>\n",
       "      <td>2021-11-16</td>\n",
       "      <td>카카오, 한글 특화 인공지능 공개…네이버와 '토종 AI 경쟁' 불붙었다</td>\n",
       "      <td>카카오가 ‘초(超)거대 인공지능(AI)’ 구축을 본격화한다. 한국어 특화 AI 언어 모델 ‘KoGPT’를 처음... 한...</td>\n",
       "    </tr>\n",
       "    <tr>\n",
       "      <th>5994</th>\n",
       "      <td>2016-06-10</td>\n",
       "      <td>대기업 딱지 두 달 만에 도로 뗀 카카오·셀트리온</td>\n",
       "      <td>카카오와 셀트리온 등 37개 기업이 대기업 굴레에서 벗어나게 됐는데, 투자 확대로 이어질지 주목됩니다. 김경기 기자가 ...</td>\n",
       "    </tr>\n",
       "  </tbody>\n",
       "</table>\n",
       "</div>"
      ],
      "text/plain": [
       "               날짜                                      뉴스제목  \\\n",
       "9817   2021-07-22                     공정위, 카카오T·딜카 기업 결합 승인   \n",
       "8974   2021-12-08          CJ는 미국 카카오는 유럽으로…K엔터 영토 무한확장 나섰다   \n",
       "3872   2022-05-04  스카이랩스, 카카오헬스케어와 MOU…\"모바일 만성질환 관리 시스템 구축\"   \n",
       "9820   2021-07-22                       카카오T, 쏘카와의 한판승부 나서다   \n",
       "1705   2022-05-17    카카오엔터, '브로커' '헌트' 등 다양한 작품들로 세계 시장 정조준   \n",
       "12285  2022-05-09    카카오브레인, 페이스 스와핑 기술 개발... '메타버스 시대 이끈다'   \n",
       "8876   2022-01-10        [기자의 눈/지민구]카카오, 커진 덩치만큼 성숙한 책임 보여야   \n",
       "10920  2020-11-11               \"가보지 않은 길\" 김범수가 그리는 카카오 시즌2   \n",
       "11232  2021-11-16   카카오, 한글 특화 인공지능 공개…네이버와 '토종 AI 경쟁' 불붙었다   \n",
       "5994   2016-06-10               대기업 딱지 두 달 만에 도로 뗀 카카오·셀트리온   \n",
       "\n",
       "                                                                        뉴스요약  \n",
       "9817   DH ‘요기요’ 매각기한 연장 공정거래위원회가 택시호출 서비스인 ‘카카오T’를 운영하는 카카오모빌리티가 현대캐피탈의 온...  \n",
       "8974   콘텐츠산업 해외 공략 속도 카카오도 佛 웹툰시장 진출 CJ ENM과 카카오엔터테인먼트 등 국내 콘텐츠 제작사들이 세계 ...  \n",
       "3872   헬스케어 스타트업 스카이랩스가 카카오헬스케어와 모바일 만성질환 관리 시스템 구축을 위해 업무협약... 있는데, 카카오헬...  \n",
       "9820   공정거래위원회는 22일 카카오모빌리티가 현대캐피탈 ‘딜카’을 인수하는 기업결합 건에 대해 경쟁제한 우려가 적다고 판단해...  \n",
       "1705   카카오엔터테인먼트는 직접 기획, 제작한 작품들은 물론 산하 자회사들과 함께한 작품들이 전세계... 공개되는 카카오TV ...  \n",
       "12285  뉴데일리 김동준 기자 = 카카오브레인이 아이덴티티 임베딩(Identity Embedding) 기능이 향상된 새로운......  \n",
       "8876   “세상에서 가장 비싼 자산이 신뢰인데, 시장과 임직원의 신뢰를 모두 잃어버렸습니다.” 직장인 익명 커뮤니티 블라인드 등...  \n",
       "10920  [편집자주] 카카오가 폭풍 성장했다. 분기 매출만 벌써 1조원을 돌파했다. 스타트업에서 출발해 현재는 임직원 1만명, ...  \n",
       "11232  카카오가 ‘초(超)거대 인공지능(AI)’ 구축을 본격화한다. 한국어 특화 AI 언어 모델 ‘KoGPT’를 처음... 한...  \n",
       "5994   카카오와 셀트리온 등 37개 기업이 대기업 굴레에서 벗어나게 됐는데, 투자 확대로 이어질지 주목됩니다. 김경기 기자가 ...  "
      ]
     },
     "execution_count": 37,
     "metadata": {},
     "output_type": "execute_result"
    }
   ],
   "source": [
    "df_n.iloc[neu_idx].sample(10)"
   ]
  },
  {
   "cell_type": "code",
   "execution_count": null,
   "id": "d70e2578",
   "metadata": {},
   "outputs": [],
   "source": []
  },
  {
   "cell_type": "markdown",
   "id": "4dc305a8",
   "metadata": {},
   "source": [
    "# 합치기"
   ]
  },
  {
   "cell_type": "code",
   "execution_count": 3,
   "id": "931fc383",
   "metadata": {
    "ExecuteTime": {
     "end_time": "2022-06-10T08:33:44.803744Z",
     "start_time": "2022-06-10T08:33:30.240627Z"
    }
   },
   "outputs": [
    {
     "name": "stderr",
     "output_type": "stream",
     "text": [
      "Some weights of the PyTorch model were not used when initializing the TF 2.0 model TFBertForSequenceClassification: ['bert.embeddings.position_ids']\n",
      "- This IS expected if you are initializing TFBertForSequenceClassification from a PyTorch model trained on another task or with another architecture (e.g. initializing a TFBertForSequenceClassification model from a BertForPreTraining model).\n",
      "- This IS NOT expected if you are initializing TFBertForSequenceClassification from a PyTorch model that you expect to be exactly identical (e.g. initializing a TFBertForSequenceClassification model from a BertForSequenceClassification model).\n",
      "Some weights or buffers of the TF 2.0 model TFBertForSequenceClassification were not initialized from the PyTorch model and are newly initialized: ['classifier.weight', 'classifier.bias']\n",
      "You should probably TRAIN this model on a down-stream task to be able to use it for predictions and inference.\n"
     ]
    }
   ],
   "source": [
    "# 최고 성능의 모델 불러오기\n",
    "BEST_MODEL_NAME = './data/model/best_model.h5'\n",
    "sentiment_model_best = tf.keras.models.load_model(BEST_MODEL_NAME,\n",
    "                                                  custom_objects={'TFBertForSequenceClassification': TFBertForSequenceClassification})\n",
    "MODEL_NAME = \"klue/bert-base\"\n",
    "model = TFBertForSequenceClassification.from_pretrained(MODEL_NAME, num_labels=3, from_pt=True)\n",
    "tokenizer = BertTokenizer.from_pretrained(MODEL_NAME)"
   ]
  },
  {
   "cell_type": "code",
   "execution_count": 4,
   "id": "9f9f9fce",
   "metadata": {
    "ExecuteTime": {
     "end_time": "2022-06-10T08:33:49.374634Z",
     "start_time": "2022-06-10T08:33:49.360671Z"
    }
   },
   "outputs": [],
   "source": [
    "MAX_SEQ_LEN = 64\n",
    "def text_data(X_data):\n",
    "    # BERT 입력으로 들어가는 token, mask, segment, target 저장용 리스트\n",
    "    tokens, masks, segments, targets = [], [], [], []\n",
    "    \n",
    "    for X in tqdm(X_data):\n",
    "        # token: 입력 문장 토큰화\n",
    "        token = tokenizer.encode(X, truncation = True, padding = 'max_length', max_length = MAX_SEQ_LEN)\n",
    "        \n",
    "        # Mask: 토큰화한 문장 내 패딩이 아닌 경우 1, 패딩인 경우 0으로 초기화\n",
    "        num_zeros = token.count(0)\n",
    "        mask = [1] * (MAX_SEQ_LEN - num_zeros) + [0] * num_zeros\n",
    "        \n",
    "        # segment: 문장 전후관계 구분: 오직 한 문장이므로 모두 0으로 초기화\n",
    "        segment = [0]*MAX_SEQ_LEN\n",
    "\n",
    "        tokens.append(token)\n",
    "        masks.append(mask)\n",
    "        segments.append(segment)\n",
    "\n",
    "\n",
    "    # numpy array로 저장\n",
    "    tokens = np.array(tokens)\n",
    "    masks = np.array(masks)\n",
    "    segments = np.array(segments)\n",
    "\n",
    "\n",
    "    return [tokens, masks, segments]"
   ]
  },
  {
   "cell_type": "code",
   "execution_count": 6,
   "id": "f471e636",
   "metadata": {
    "ExecuteTime": {
     "end_time": "2022-06-10T08:35:34.812473Z",
     "start_time": "2022-06-10T08:35:31.749149Z"
    }
   },
   "outputs": [
    {
     "name": "stderr",
     "output_type": "stream",
     "text": [
      "100%|██████████████████████████████████████████████████████████████████████████████| 907/907 [00:00<00:00, 5301.94it/s]\n"
     ]
    },
    {
     "data": {
      "text/plain": [
       "0      0\n",
       "1      0\n",
       "2      0\n",
       "3      0\n",
       "4      0\n",
       "      ..\n",
       "902    1\n",
       "903    0\n",
       "904    1\n",
       "905    0\n",
       "906    1\n",
       "Length: 907, dtype: int64"
      ]
     },
     "execution_count": 6,
     "metadata": {},
     "output_type": "execute_result"
    }
   ],
   "source": [
    "df_n = pd.read_csv('./data/개별기업뉴스_전처리/AJ네트웍스.csv',index_col=0)\n",
    "news_data = df_n['뉴스제목']\n",
    "news_x = text_data(news_data)\n",
    "predicted_value = sentiment_model_best.predict(news_x)\n",
    "predicted_label = np.argmax(predicted_value, axis = 1)\n",
    "predicted_label = pd.Series(predicted_label).apply(lambda x: -1 if x== 2 else x)\n",
    "predicted_label"
   ]
  },
  {
   "cell_type": "code",
   "execution_count": 31,
   "id": "e8452d84",
   "metadata": {
    "ExecuteTime": {
     "end_time": "2022-06-10T16:18:47.738667Z",
     "start_time": "2022-06-10T15:19:34.284804Z"
    },
    "scrolled": true
   },
   "outputs": [
    {
     "name": "stdout",
     "output_type": "stream",
     "text": [
      "인덱스 : 1 회사명 : AJ네트웍스\n"
     ]
    },
    {
     "name": "stderr",
     "output_type": "stream",
     "text": [
      "100%|██████████████████████████████████████████████████████████████████████████████| 907/907 [00:00<00:00, 4993.71it/s]\n"
     ]
    },
    {
     "name": "stdout",
     "output_type": "stream",
     "text": [
      "인덱스 : 2 회사명 : AK홀딩스\n"
     ]
    },
    {
     "name": "stderr",
     "output_type": "stream",
     "text": [
      "100%|██████████████████████████████████████████████████████████████████████████████| 837/837 [00:00<00:00, 5173.85it/s]\n"
     ]
    },
    {
     "name": "stdout",
     "output_type": "stream",
     "text": [
      "인덱스 : 3 회사명 : BGF\n"
     ]
    },
    {
     "name": "stderr",
     "output_type": "stream",
     "text": [
      "100%|████████████████████████████████████████████████████████████████████████████| 1127/1127 [00:00<00:00, 5229.90it/s]\n"
     ]
    },
    {
     "name": "stdout",
     "output_type": "stream",
     "text": [
      "인덱스 : 4 회사명 : BGF리테일\n"
     ]
    },
    {
     "name": "stderr",
     "output_type": "stream",
     "text": [
      "100%|████████████████████████████████████████████████████████████████████████████| 2093/2093 [00:00<00:00, 5157.55it/s]\n"
     ]
    },
    {
     "name": "stdout",
     "output_type": "stream",
     "text": [
      "인덱스 : 5 회사명 : BNK금융지주\n"
     ]
    },
    {
     "name": "stderr",
     "output_type": "stream",
     "text": [
      "100%|████████████████████████████████████████████████████████████████████████████| 1457/1457 [00:00<00:00, 5267.84it/s]\n"
     ]
    },
    {
     "name": "stdout",
     "output_type": "stream",
     "text": [
      "인덱스 : 6 회사명 : BYC\n"
     ]
    },
    {
     "name": "stderr",
     "output_type": "stream",
     "text": [
      "100%|██████████████████████████████████████████████████████████████████████████████| 240/240 [00:00<00:00, 5721.91it/s]\n"
     ]
    },
    {
     "name": "stdout",
     "output_type": "stream",
     "text": [
      "인덱스 : 7 회사명 : CJ CGV\n"
     ]
    },
    {
     "name": "stderr",
     "output_type": "stream",
     "text": [
      "100%|████████████████████████████████████████████████████████████████████████████| 1752/1752 [00:00<00:00, 5312.37it/s]\n"
     ]
    },
    {
     "name": "stdout",
     "output_type": "stream",
     "text": [
      "인덱스 : 8 회사명 : CJ\n"
     ]
    },
    {
     "name": "stderr",
     "output_type": "stream",
     "text": [
      "100%|████████████████████████████████████████████████████████████████████████████| 9956/9956 [00:01<00:00, 5195.64it/s]\n"
     ]
    },
    {
     "name": "stdout",
     "output_type": "stream",
     "text": [
      "인덱스 : 9 회사명 : CJ대한통운\n"
     ]
    },
    {
     "name": "stderr",
     "output_type": "stream",
     "text": [
      "100%|████████████████████████████████████████████████████████████████████████████| 1928/1928 [00:00<00:00, 5333.13it/s]\n"
     ]
    },
    {
     "name": "stdout",
     "output_type": "stream",
     "text": [
      "인덱스 : 10 회사명 : CJ씨푸드\n"
     ]
    },
    {
     "name": "stderr",
     "output_type": "stream",
     "text": [
      "100%|████████████████████████████████████████████████████████████████████████████| 1774/1774 [00:00<00:00, 5018.69it/s]\n"
     ]
    },
    {
     "name": "stdout",
     "output_type": "stream",
     "text": [
      "인덱스 : 11 회사명 : CJ제일제당\n"
     ]
    },
    {
     "name": "stderr",
     "output_type": "stream",
     "text": [
      "100%|████████████████████████████████████████████████████████████████████████████| 2673/2673 [00:00<00:00, 5202.65it/s]\n"
     ]
    },
    {
     "name": "stdout",
     "output_type": "stream",
     "text": [
      "인덱스 : 12 회사명 : CS홀딩스\n"
     ]
    },
    {
     "name": "stderr",
     "output_type": "stream",
     "text": [
      "100%|██████████████████████████████████████████████████████████████████████████████| 555/555 [00:00<00:00, 4783.65it/s]\n"
     ]
    },
    {
     "name": "stdout",
     "output_type": "stream",
     "text": [
      "인덱스 : 13 회사명 : DB\n"
     ]
    },
    {
     "name": "stderr",
     "output_type": "stream",
     "text": [
      "100%|████████████████████████████████████████████████████████████████████████████| 5206/5206 [00:00<00:00, 5328.95it/s]\n"
     ]
    },
    {
     "name": "stdout",
     "output_type": "stream",
     "text": [
      "인덱스 : 14 회사명 : DB금융투자\n"
     ]
    },
    {
     "name": "stderr",
     "output_type": "stream",
     "text": [
      "100%|████████████████████████████████████████████████████████████████████████████| 2207/2207 [00:00<00:00, 5411.51it/s]\n"
     ]
    },
    {
     "name": "stdout",
     "output_type": "stream",
     "text": [
      "인덱스 : 15 회사명 : DB손해보험\n"
     ]
    },
    {
     "name": "stderr",
     "output_type": "stream",
     "text": [
      "100%|████████████████████████████████████████████████████████████████████████████| 1371/1371 [00:00<00:00, 5048.86it/s]\n"
     ]
    },
    {
     "name": "stdout",
     "output_type": "stream",
     "text": [
      "인덱스 : 16 회사명 : DB하이텍\n"
     ]
    },
    {
     "name": "stderr",
     "output_type": "stream",
     "text": [
      "100%|████████████████████████████████████████████████████████████████████████████| 2416/2416 [00:00<00:00, 5125.71it/s]\n"
     ]
    },
    {
     "name": "stdout",
     "output_type": "stream",
     "text": [
      "인덱스 : 17 회사명 : DGB금융지주\n"
     ]
    },
    {
     "name": "stderr",
     "output_type": "stream",
     "text": [
      "100%|████████████████████████████████████████████████████████████████████████████| 1681/1681 [00:00<00:00, 5165.97it/s]\n"
     ]
    },
    {
     "name": "stdout",
     "output_type": "stream",
     "text": [
      "인덱스 : 18 회사명 : DI동일\n"
     ]
    },
    {
     "name": "stderr",
     "output_type": "stream",
     "text": [
      "100%|██████████████████████████████████████████████████████████████████████████████| 467/467 [00:00<00:00, 5145.53it/s]\n"
     ]
    },
    {
     "name": "stdout",
     "output_type": "stream",
     "text": [
      "인덱스 : 19 회사명 : DL\n"
     ]
    },
    {
     "name": "stderr",
     "output_type": "stream",
     "text": [
      "100%|████████████████████████████████████████████████████████████████████████████| 1626/1626 [00:00<00:00, 5199.00it/s]\n"
     ]
    },
    {
     "name": "stdout",
     "output_type": "stream",
     "text": [
      "인덱스 : 20 회사명 : DL건설\n"
     ]
    },
    {
     "name": "stderr",
     "output_type": "stream",
     "text": [
      "100%|██████████████████████████████████████████████████████████████████████████████| 206/206 [00:00<00:00, 5037.59it/s]\n"
     ]
    },
    {
     "name": "stdout",
     "output_type": "stream",
     "text": [
      "인덱스 : 21 회사명 : DL이앤씨\n"
     ]
    },
    {
     "name": "stderr",
     "output_type": "stream",
     "text": [
      "100%|██████████████████████████████████████████████████████████████████████████████| 818/818 [00:00<00:00, 5350.97it/s]\n"
     ]
    },
    {
     "name": "stdout",
     "output_type": "stream",
     "text": [
      "인덱스 : 22 회사명 : DRB동일\n"
     ]
    },
    {
     "name": "stderr",
     "output_type": "stream",
     "text": [
      "100%|██████████████████████████████████████████████████████████████████████████████| 643/643 [00:00<00:00, 4902.86it/s]\n"
     ]
    },
    {
     "name": "stdout",
     "output_type": "stream",
     "text": [
      "인덱스 : 23 회사명 : DSR\n"
     ]
    },
    {
     "name": "stderr",
     "output_type": "stream",
     "text": [
      "100%|████████████████████████████████████████████████████████████████████████████| 1695/1695 [00:00<00:00, 5319.26it/s]\n"
     ]
    },
    {
     "name": "stdout",
     "output_type": "stream",
     "text": [
      "인덱스 : 24 회사명 : DSR제강\n"
     ]
    },
    {
     "name": "stderr",
     "output_type": "stream",
     "text": [
      "100%|██████████████████████████████████████████████████████████████████████████████| 728/728 [00:00<00:00, 5139.38it/s]\n"
     ]
    },
    {
     "name": "stdout",
     "output_type": "stream",
     "text": [
      "인덱스 : 25 회사명 : E1\n"
     ]
    },
    {
     "name": "stderr",
     "output_type": "stream",
     "text": [
      "100%|████████████████████████████████████████████████████████████████████████████| 1532/1532 [00:00<00:00, 5629.73it/s]\n"
     ]
    },
    {
     "name": "stdout",
     "output_type": "stream",
     "text": [
      "인덱스 : 26 회사명 : ESR켄달스퀘어리츠\n"
     ]
    },
    {
     "name": "stderr",
     "output_type": "stream",
     "text": [
      "100%|██████████████████████████████████████████████████████████████████████████████| 116/116 [00:00<00:00, 4646.90it/s]\n"
     ]
    },
    {
     "name": "stdout",
     "output_type": "stream",
     "text": [
      "인덱스 : 27 회사명 : F&F\n"
     ]
    },
    {
     "name": "stderr",
     "output_type": "stream",
     "text": [
      "100%|████████████████████████████████████████████████████████████████████████████████| 45/45 [00:00<00:00, 4496.57it/s]"
     ]
    },
    {
     "name": "stdout",
     "output_type": "stream",
     "text": [
      "인덱스 : 28 회사명 : F&F홀딩스\n"
     ]
    },
    {
     "name": "stderr",
     "output_type": "stream",
     "text": [
      "\n",
      "100%|██████████████████████████████████████████████████████████████████████████████████| 9/9 [00:00<00:00, 4530.03it/s]\n"
     ]
    },
    {
     "name": "stdout",
     "output_type": "stream",
     "text": [
      "인덱스 : 29 회사명 : GKL\n"
     ]
    },
    {
     "name": "stderr",
     "output_type": "stream",
     "text": [
      "100%|████████████████████████████████████████████████████████████████████████████| 2795/2795 [00:00<00:00, 5167.66it/s]\n"
     ]
    },
    {
     "name": "stdout",
     "output_type": "stream",
     "text": [
      "인덱스 : 30 회사명 : GS\n"
     ]
    },
    {
     "name": "stderr",
     "output_type": "stream",
     "text": [
      "100%|████████████████████████████████████████████████████████████████████████████| 7671/7671 [00:01<00:00, 5364.02it/s]\n"
     ]
    },
    {
     "name": "stdout",
     "output_type": "stream",
     "text": [
      "인덱스 : 31 회사명 : GS건설\n"
     ]
    },
    {
     "name": "stderr",
     "output_type": "stream",
     "text": [
      "100%|████████████████████████████████████████████████████████████████████████████| 2207/2207 [00:00<00:00, 2656.85it/s]\n"
     ]
    },
    {
     "name": "stdout",
     "output_type": "stream",
     "text": [
      "인덱스 : 32 회사명 : GS글로벌\n"
     ]
    },
    {
     "name": "stderr",
     "output_type": "stream",
     "text": [
      "100%|████████████████████████████████████████████████████████████████████████████| 1131/1131 [00:00<00:00, 5045.54it/s]\n"
     ]
    },
    {
     "name": "stdout",
     "output_type": "stream",
     "text": [
      "인덱스 : 33 회사명 : GS리테일\n"
     ]
    },
    {
     "name": "stderr",
     "output_type": "stream",
     "text": [
      "100%|████████████████████████████████████████████████████████████████████████████| 1722/1722 [00:00<00:00, 5363.38it/s]\n"
     ]
    },
    {
     "name": "stdout",
     "output_type": "stream",
     "text": [
      "인덱스 : 34 회사명 : HDC\n"
     ]
    },
    {
     "name": "stderr",
     "output_type": "stream",
     "text": [
      "100%|████████████████████████████████████████████████████████████████████████████| 2627/2627 [00:00<00:00, 5272.10it/s]\n"
     ]
    },
    {
     "name": "stdout",
     "output_type": "stream",
     "text": [
      "인덱스 : 35 회사명 : HDC랩스\n"
     ]
    },
    {
     "name": "stderr",
     "output_type": "stream",
     "text": [
      "100%|██████████████████████████████████████████████████████████████████████████████| 113/113 [00:00<00:00, 4526.28it/s]\n"
     ]
    },
    {
     "name": "stdout",
     "output_type": "stream",
     "text": [
      "인덱스 : 36 회사명 : HDC현대EP\n"
     ]
    },
    {
     "name": "stderr",
     "output_type": "stream",
     "text": [
      "100%|██████████████████████████████████████████████████████████████████████████████| 542/542 [00:00<00:00, 5041.39it/s]\n"
     ]
    },
    {
     "name": "stdout",
     "output_type": "stream",
     "text": [
      "인덱스 : 37 회사명 : HDC현대산업개발\n"
     ]
    },
    {
     "name": "stderr",
     "output_type": "stream",
     "text": [
      "100%|████████████████████████████████████████████████████████████████████████████| 1893/1893 [00:00<00:00, 4957.48it/s]\n"
     ]
    },
    {
     "name": "stdout",
     "output_type": "stream",
     "text": [
      "인덱스 : 38 회사명 : HD현대\n"
     ]
    },
    {
     "name": "stderr",
     "output_type": "stream",
     "text": [
      "100%|██████████████████████████████████████████████████████████████████████████████| 122/122 [00:00<00:00, 4438.57it/s]\n"
     ]
    },
    {
     "name": "stdout",
     "output_type": "stream",
     "text": [
      "인덱스 : 39 회사명 : HJ중공업\n"
     ]
    },
    {
     "name": "stderr",
     "output_type": "stream",
     "text": [
      "100%|██████████████████████████████████████████████████████████████████████████████| 125/125 [00:00<00:00, 4988.56it/s]\n"
     ]
    },
    {
     "name": "stdout",
     "output_type": "stream",
     "text": [
      "인덱스 : 40 회사명 : HLB글로벌\n"
     ]
    },
    {
     "name": "stderr",
     "output_type": "stream",
     "text": [
      "100%|████████████████████████████████████████████████████████████████████████████████| 60/60 [00:00<00:00, 3157.73it/s]\n"
     ]
    },
    {
     "name": "stdout",
     "output_type": "stream",
     "text": [
      "인덱스 : 41 회사명 : HMM\n"
     ]
    },
    {
     "name": "stderr",
     "output_type": "stream",
     "text": [
      "100%|████████████████████████████████████████████████████████████████████████████| 2254/2254 [00:00<00:00, 5324.99it/s]\n"
     ]
    },
    {
     "name": "stdout",
     "output_type": "stream",
     "text": [
      "인덱스 : 42 회사명 : HSD엔진\n"
     ]
    },
    {
     "name": "stderr",
     "output_type": "stream",
     "text": [
      "100%|████████████████████████████████████████████████████████████████████████████| 1116/1116 [00:00<00:00, 4939.90it/s]\n"
     ]
    },
    {
     "name": "stdout",
     "output_type": "stream",
     "text": [
      "인덱스 : 43 회사명 : IHQ\n"
     ]
    },
    {
     "name": "stderr",
     "output_type": "stream",
     "text": [
      "100%|████████████████████████████████████████████████████████████████████████████| 1447/1447 [00:00<00:00, 5144.34it/s]\n"
     ]
    },
    {
     "name": "stdout",
     "output_type": "stream",
     "text": [
      "인덱스 : 44 회사명 : JB금융지주\n"
     ]
    },
    {
     "name": "stderr",
     "output_type": "stream",
     "text": [
      "100%|████████████████████████████████████████████████████████████████████████████| 1541/1541 [00:00<00:00, 5023.32it/s]\n"
     ]
    },
    {
     "name": "stdout",
     "output_type": "stream",
     "text": [
      "인덱스 : 45 회사명 : JW생명과학\n"
     ]
    },
    {
     "name": "stderr",
     "output_type": "stream",
     "text": [
      "100%|██████████████████████████████████████████████████████████████████████████████| 952/952 [00:00<00:00, 5032.29it/s]\n"
     ]
    },
    {
     "name": "stdout",
     "output_type": "stream",
     "text": [
      "인덱스 : 46 회사명 : JW중외제약\n"
     ]
    },
    {
     "name": "stderr",
     "output_type": "stream",
     "text": [
      "100%|██████████████████████████████████████████████████████████████████████████████| 640/640 [00:00<00:00, 5203.10it/s]\n"
     ]
    },
    {
     "name": "stdout",
     "output_type": "stream",
     "text": [
      "인덱스 : 47 회사명 : JW홀딩스\n"
     ]
    },
    {
     "name": "stderr",
     "output_type": "stream",
     "text": [
      "100%|██████████████████████████████████████████████████████████████████████████████| 373/373 [00:00<00:00, 5249.64it/s]\n"
     ]
    },
    {
     "name": "stdout",
     "output_type": "stream",
     "text": [
      "인덱스 : 48 회사명 : KB금융\n"
     ]
    },
    {
     "name": "stderr",
     "output_type": "stream",
     "text": [
      "100%|████████████████████████████████████████████████████████████████████████████| 2928/2928 [00:00<00:00, 5508.10it/s]\n"
     ]
    },
    {
     "name": "stdout",
     "output_type": "stream",
     "text": [
      "인덱스 : 49 회사명 : KCC\n"
     ]
    },
    {
     "name": "stderr",
     "output_type": "stream",
     "text": [
      "100%|██████████████████████████████████████████████████████████████████████████████| 270/270 [00:00<00:00, 4710.25it/s]\n"
     ]
    },
    {
     "name": "stdout",
     "output_type": "stream",
     "text": [
      "인덱스 : 50 회사명 : KCC글라스\n"
     ]
    },
    {
     "name": "stderr",
     "output_type": "stream",
     "text": [
      "100%|██████████████████████████████████████████████████████████████████████████████| 140/140 [00:00<00:00, 4779.37it/s]\n"
     ]
    },
    {
     "name": "stdout",
     "output_type": "stream",
     "text": [
      "인덱스 : 51 회사명 : KCTC\n"
     ]
    },
    {
     "name": "stderr",
     "output_type": "stream",
     "text": [
      "100%|████████████████████████████████████████████████████████████████████████████| 1399/1399 [00:00<00:00, 5074.19it/s]\n"
     ]
    },
    {
     "name": "stdout",
     "output_type": "stream",
     "text": [
      "인덱스 : 52 회사명 : KC그린홀딩스\n"
     ]
    },
    {
     "name": "stderr",
     "output_type": "stream",
     "text": [
      "100%|██████████████████████████████████████████████████████████████████████████████| 566/566 [00:00<00:00, 5266.34it/s]\n"
     ]
    },
    {
     "name": "stdout",
     "output_type": "stream",
     "text": [
      "인덱스 : 53 회사명 : KC코트렐\n"
     ]
    },
    {
     "name": "stderr",
     "output_type": "stream",
     "text": [
      "100%|████████████████████████████████████████████████████████████████████████████| 1014/1014 [00:00<00:00, 5120.56it/s]\n"
     ]
    },
    {
     "name": "stdout",
     "output_type": "stream",
     "text": [
      "인덱스 : 54 회사명 : KEC\n"
     ]
    },
    {
     "name": "stderr",
     "output_type": "stream",
     "text": [
      "100%|████████████████████████████████████████████████████████████████████████████| 1323/1323 [00:00<00:00, 5196.38it/s]\n"
     ]
    },
    {
     "name": "stdout",
     "output_type": "stream",
     "text": [
      "인덱스 : 55 회사명 : KG스틸\n"
     ]
    },
    {
     "name": "stderr",
     "output_type": "stream",
     "text": [
      "100%|██████████████████████████████████████████████████████████████████████████████| 341/341 [00:00<00:00, 4695.43it/s]\n"
     ]
    },
    {
     "name": "stdout",
     "output_type": "stream",
     "text": [
      "인덱스 : 56 회사명 : KG케미칼\n"
     ]
    },
    {
     "name": "stderr",
     "output_type": "stream",
     "text": [
      "100%|████████████████████████████████████████████████████████████████████████████| 1178/1178 [00:00<00:00, 4997.15it/s]\n"
     ]
    },
    {
     "name": "stdout",
     "output_type": "stream",
     "text": [
      "인덱스 : 57 회사명 : KH 필룩스\n"
     ]
    },
    {
     "name": "stderr",
     "output_type": "stream",
     "text": [
      "100%|██████████████████████████████████████████████████████████████████████████████| 181/181 [00:00<00:00, 4705.92it/s]\n"
     ]
    },
    {
     "name": "stdout",
     "output_type": "stream",
     "text": [
      "인덱스 : 58 회사명 : KISCO홀딩스\n"
     ]
    },
    {
     "name": "stderr",
     "output_type": "stream",
     "text": [
      "100%|██████████████████████████████████████████████████████████████████████████████| 564/564 [00:00<00:00, 4848.97it/s]\n"
     ]
    },
    {
     "name": "stdout",
     "output_type": "stream",
     "text": [
      "인덱스 : 59 회사명 : KPX케미칼\n"
     ]
    },
    {
     "name": "stderr",
     "output_type": "stream",
     "text": [
      "100%|██████████████████████████████████████████████████████████████████████████████| 593/593 [00:00<00:00, 4922.94it/s]\n"
     ]
    },
    {
     "name": "stdout",
     "output_type": "stream",
     "text": [
      "인덱스 : 60 회사명 : KPX홀딩스\n"
     ]
    },
    {
     "name": "stderr",
     "output_type": "stream",
     "text": [
      "100%|██████████████████████████████████████████████████████████████████████████████| 488/488 [00:00<00:00, 4651.14it/s]\n"
     ]
    },
    {
     "name": "stdout",
     "output_type": "stream",
     "text": [
      "인덱스 : 61 회사명 : KR모터스\n"
     ]
    },
    {
     "name": "stderr",
     "output_type": "stream",
     "text": [
      "100%|██████████████████████████████████████████████████████████████████████████████| 964/964 [00:00<00:00, 4896.38it/s]\n"
     ]
    },
    {
     "name": "stdout",
     "output_type": "stream",
     "text": [
      "인덱스 : 62 회사명 : KSS해운\n"
     ]
    },
    {
     "name": "stderr",
     "output_type": "stream",
     "text": [
      "100%|████████████████████████████████████████████████████████████████████████████| 1308/1308 [00:00<00:00, 5138.11it/s]\n"
     ]
    },
    {
     "name": "stdout",
     "output_type": "stream",
     "text": [
      "인덱스 : 63 회사명 : KT&G\n"
     ]
    },
    {
     "name": "stderr",
     "output_type": "stream",
     "text": [
      "100%|████████████████████████████████████████████████████████████████████████████████| 10/10 [00:00<00:00, 1008.85it/s]\n"
     ]
    },
    {
     "name": "stdout",
     "output_type": "stream",
     "text": [
      "인덱스 : 64 회사명 : KT\n"
     ]
    },
    {
     "name": "stderr",
     "output_type": "stream",
     "text": [
      "100%|██████████████████████████████████████████████████████████████████████████| 10235/10235 [00:01<00:00, 5545.39it/s]\n"
     ]
    },
    {
     "name": "stdout",
     "output_type": "stream",
     "text": [
      "인덱스 : 65 회사명 : KTcs\n"
     ]
    },
    {
     "name": "stderr",
     "output_type": "stream",
     "text": [
      "100%|██████████████████████████████████████████████████████████████████████████████| 769/769 [00:00<00:00, 5341.86it/s]\n"
     ]
    },
    {
     "name": "stdout",
     "output_type": "stream",
     "text": [
      "인덱스 : 66 회사명 : KTis\n"
     ]
    },
    {
     "name": "stderr",
     "output_type": "stream",
     "text": [
      "100%|██████████████████████████████████████████████████████████████████████████████| 411/411 [00:00<00:00, 5294.08it/s]\n"
     ]
    },
    {
     "name": "stdout",
     "output_type": "stream",
     "text": [
      "인덱스 : 67 회사명 : LF\n"
     ]
    },
    {
     "name": "stderr",
     "output_type": "stream",
     "text": [
      "100%|████████████████████████████████████████████████████████████████████████████| 1912/1912 [00:00<00:00, 5470.09it/s]\n"
     ]
    },
    {
     "name": "stdout",
     "output_type": "stream",
     "text": [
      "인덱스 : 68 회사명 : LG\n"
     ]
    },
    {
     "name": "stderr",
     "output_type": "stream",
     "text": [
      "100%|██████████████████████████████████████████████████████████████████████████| 16449/16449 [00:03<00:00, 5241.80it/s]\n"
     ]
    },
    {
     "name": "stdout",
     "output_type": "stream",
     "text": [
      "인덱스 : 69 회사명 : LG디스플레이\n"
     ]
    },
    {
     "name": "stderr",
     "output_type": "stream",
     "text": [
      "100%|████████████████████████████████████████████████████████████████████████████| 2064/2064 [00:00<00:00, 5206.17it/s]\n"
     ]
    },
    {
     "name": "stdout",
     "output_type": "stream",
     "text": [
      "인덱스 : 70 회사명 : LG생활건강\n"
     ]
    },
    {
     "name": "stderr",
     "output_type": "stream",
     "text": [
      "100%|████████████████████████████████████████████████████████████████████████████| 3135/3135 [00:00<00:00, 5189.82it/s]\n"
     ]
    },
    {
     "name": "stdout",
     "output_type": "stream",
     "text": [
      "인덱스 : 71 회사명 : LG에너지솔루션\n"
     ]
    },
    {
     "name": "stderr",
     "output_type": "stream",
     "text": [
      "100%|████████████████████████████████████████████████████████████████████████████| 1996/1996 [00:00<00:00, 4994.88it/s]\n"
     ]
    },
    {
     "name": "stdout",
     "output_type": "stream",
     "text": [
      "인덱스 : 72 회사명 : LG유플러스\n"
     ]
    },
    {
     "name": "stderr",
     "output_type": "stream",
     "text": [
      "100%|████████████████████████████████████████████████████████████████████████████| 4258/4258 [00:00<00:00, 5383.80it/s]\n"
     ]
    },
    {
     "name": "stdout",
     "output_type": "stream",
     "text": [
      "인덱스 : 73 회사명 : LG이노텍\n"
     ]
    },
    {
     "name": "stderr",
     "output_type": "stream",
     "text": [
      "100%|████████████████████████████████████████████████████████████████████████████| 1348/1348 [00:00<00:00, 5263.49it/s]\n"
     ]
    },
    {
     "name": "stdout",
     "output_type": "stream",
     "text": [
      "인덱스 : 74 회사명 : LG전자\n"
     ]
    },
    {
     "name": "stderr",
     "output_type": "stream",
     "text": [
      "100%|████████████████████████████████████████████████████████████████████████████| 7276/7276 [00:01<00:00, 5494.17it/s]\n"
     ]
    },
    {
     "name": "stdout",
     "output_type": "stream",
     "text": [
      "인덱스 : 75 회사명 : LG헬로비전\n"
     ]
    },
    {
     "name": "stderr",
     "output_type": "stream",
     "text": [
      "100%|██████████████████████████████████████████████████████████████████████████████| 942/942 [00:00<00:00, 5462.96it/s]\n"
     ]
    },
    {
     "name": "stdout",
     "output_type": "stream",
     "text": [
      "인덱스 : 76 회사명 : LG화학\n"
     ]
    },
    {
     "name": "stderr",
     "output_type": "stream",
     "text": [
      "100%|████████████████████████████████████████████████████████████████████████████| 4392/4392 [00:00<00:00, 5399.37it/s]\n"
     ]
    },
    {
     "name": "stdout",
     "output_type": "stream",
     "text": [
      "인덱스 : 77 회사명 : LIG넥스원\n"
     ]
    },
    {
     "name": "stderr",
     "output_type": "stream",
     "text": [
      "100%|██████████████████████████████████████████████████████████████████████████████| 620/620 [00:00<00:00, 4985.55it/s]\n"
     ]
    },
    {
     "name": "stdout",
     "output_type": "stream",
     "text": [
      "인덱스 : 78 회사명 : LS ELECTRIC\n"
     ]
    },
    {
     "name": "stderr",
     "output_type": "stream",
     "text": [
      "100%|██████████████████████████████████████████████████████████████████████████████| 416/416 [00:00<00:00, 4654.94it/s]\n"
     ]
    },
    {
     "name": "stdout",
     "output_type": "stream",
     "text": [
      "인덱스 : 79 회사명 : LS\n"
     ]
    },
    {
     "name": "stderr",
     "output_type": "stream",
     "text": [
      "100%|████████████████████████████████████████████████████████████████████████████| 3161/3161 [00:00<00:00, 5503.98it/s]\n"
     ]
    },
    {
     "name": "stdout",
     "output_type": "stream",
     "text": [
      "인덱스 : 80 회사명 : LS네트웍스\n"
     ]
    },
    {
     "name": "stderr",
     "output_type": "stream",
     "text": [
      "100%|██████████████████████████████████████████████████████████████████████████████| 929/929 [00:00<00:00, 5221.91it/s]\n"
     ]
    },
    {
     "name": "stdout",
     "output_type": "stream",
     "text": [
      "인덱스 : 81 회사명 : LS전선아시아\n"
     ]
    },
    {
     "name": "stderr",
     "output_type": "stream",
     "text": [
      "100%|██████████████████████████████████████████████████████████████████████████████| 276/276 [00:00<00:00, 5274.20it/s]\n"
     ]
    },
    {
     "name": "stdout",
     "output_type": "stream",
     "text": [
      "인덱스 : 82 회사명 : LX인터내셔널\n"
     ]
    },
    {
     "name": "stderr",
     "output_type": "stream",
     "text": [
      "100%|██████████████████████████████████████████████████████████████████████████████| 455/455 [00:00<00:00, 4844.35it/s]\n"
     ]
    },
    {
     "name": "stdout",
     "output_type": "stream",
     "text": [
      "인덱스 : 83 회사명 : LX하우시스\n"
     ]
    },
    {
     "name": "stderr",
     "output_type": "stream",
     "text": [
      "100%|██████████████████████████████████████████████████████████████████████████████| 456/456 [00:00<00:00, 5768.51it/s]\n"
     ]
    },
    {
     "name": "stdout",
     "output_type": "stream",
     "text": [
      "인덱스 : 84 회사명 : LX홀딩스\n"
     ]
    },
    {
     "name": "stderr",
     "output_type": "stream",
     "text": [
      "100%|██████████████████████████████████████████████████████████████████████████████| 195/195 [00:00<00:00, 4635.17it/s]\n"
     ]
    },
    {
     "name": "stdout",
     "output_type": "stream",
     "text": [
      "인덱스 : 85 회사명 : MH에탄올\n"
     ]
    },
    {
     "name": "stderr",
     "output_type": "stream",
     "text": [
      "100%|██████████████████████████████████████████████████████████████████████████████| 906/906 [00:00<00:00, 5012.31it/s]\n"
     ]
    },
    {
     "name": "stdout",
     "output_type": "stream",
     "text": [
      "인덱스 : 86 회사명 : NAVER\n"
     ]
    },
    {
     "name": "stderr",
     "output_type": "stream",
     "text": [
      "100%|████████████████████████████████████████████████████████████████████████████| 2692/2692 [00:00<00:00, 4667.45it/s]\n"
     ]
    },
    {
     "name": "stdout",
     "output_type": "stream",
     "text": [
      "인덱스 : 87 회사명 : NHN\n"
     ]
    },
    {
     "name": "stderr",
     "output_type": "stream",
     "text": [
      "100%|████████████████████████████████████████████████████████████████████████████████| 82/82 [00:00<00:00, 5203.22it/s]\n"
     ]
    },
    {
     "name": "stdout",
     "output_type": "stream",
     "text": [
      "인덱스 : 88 회사명 : NH올원리츠\n"
     ]
    },
    {
     "name": "stderr",
     "output_type": "stream",
     "text": [
      "100%|████████████████████████████████████████████████████████████████████████████████| 44/44 [00:00<00:00, 3608.36it/s]"
     ]
    },
    {
     "name": "stdout",
     "output_type": "stream",
     "text": [
      "인덱스 : 89 회사명 : NH투자증권\n"
     ]
    },
    {
     "name": "stderr",
     "output_type": "stream",
     "text": [
      "\n",
      "100%|████████████████████████████████████████████████████████████████████████████| 2748/2748 [00:00<00:00, 5330.22it/s]\n"
     ]
    },
    {
     "name": "stdout",
     "output_type": "stream",
     "text": [
      "인덱스 : 90 회사명 : NH프라임리츠\n"
     ]
    },
    {
     "name": "stderr",
     "output_type": "stream",
     "text": [
      "100%|████████████████████████████████████████████████████████████████████████████████| 78/78 [00:00<00:00, 6246.41it/s]\n"
     ]
    },
    {
     "name": "stdout",
     "output_type": "stream",
     "text": [
      "인덱스 : 91 회사명 : NICE\n"
     ]
    },
    {
     "name": "stderr",
     "output_type": "stream",
     "text": [
      "100%|████████████████████████████████████████████████████████████████████████████| 1561/1561 [00:00<00:00, 5131.59it/s]\n"
     ]
    },
    {
     "name": "stdout",
     "output_type": "stream",
     "text": [
      "인덱스 : 92 회사명 : NI스틸\n"
     ]
    },
    {
     "name": "stderr",
     "output_type": "stream",
     "text": [
      "100%|██████████████████████████████████████████████████████████████████████████████| 704/704 [00:00<00:00, 5041.58it/s]\n"
     ]
    },
    {
     "name": "stdout",
     "output_type": "stream",
     "text": [
      "인덱스 : 93 회사명 : NPC\n"
     ]
    },
    {
     "name": "stderr",
     "output_type": "stream",
     "text": [
      "100%|██████████████████████████████████████████████████████████████████████████████| 893/893 [00:00<00:00, 5451.11it/s]\n"
     ]
    },
    {
     "name": "stdout",
     "output_type": "stream",
     "text": [
      "인덱스 : 94 회사명 : OCI\n"
     ]
    },
    {
     "name": "stderr",
     "output_type": "stream",
     "text": [
      "100%|████████████████████████████████████████████████████████████████████████████| 2918/2918 [00:00<00:00, 5293.38it/s]\n"
     ]
    },
    {
     "name": "stdout",
     "output_type": "stream",
     "text": [
      "인덱스 : 95 회사명 : PI첨단소재\n"
     ]
    },
    {
     "name": "stderr",
     "output_type": "stream",
     "text": [
      "100%|██████████████████████████████████████████████████████████████████████████████| 485/485 [00:00<00:00, 4495.45it/s]\n"
     ]
    },
    {
     "name": "stdout",
     "output_type": "stream",
     "text": [
      "인덱스 : 96 회사명 : POSCO홀딩스\n"
     ]
    },
    {
     "name": "stderr",
     "output_type": "stream",
     "text": [
      "100%|████████████████████████████████████████████████████████████████████████████████| 77/77 [00:00<00:00, 4664.65it/s]\n"
     ]
    },
    {
     "name": "stdout",
     "output_type": "stream",
     "text": [
      "인덱스 : 97 회사명 : S-Oil\n"
     ]
    },
    {
     "name": "stderr",
     "output_type": "stream",
     "text": [
      "100%|████████████████████████████████████████████████████████████████████████████| 1148/1148 [00:00<00:00, 4683.09it/s]\n"
     ]
    },
    {
     "name": "stdout",
     "output_type": "stream",
     "text": [
      "인덱스 : 98 회사명 : SBS\n"
     ]
    },
    {
     "name": "stderr",
     "output_type": "stream",
     "text": [
      "100%|████████████████████████████████████████████████████████████████████████████| 3633/3633 [00:00<00:00, 5140.96it/s]\n"
     ]
    },
    {
     "name": "stdout",
     "output_type": "stream",
     "text": [
      "인덱스 : 99 회사명 : SGC에너지\n"
     ]
    },
    {
     "name": "stderr",
     "output_type": "stream",
     "text": [
      "100%|██████████████████████████████████████████████████████████████████████████████| 307/307 [00:00<00:00, 5060.59it/s]\n"
     ]
    },
    {
     "name": "stdout",
     "output_type": "stream",
     "text": [
      "인덱스 : 100 회사명 : SG글로벌\n"
     ]
    },
    {
     "name": "stderr",
     "output_type": "stream",
     "text": [
      "100%|████████████████████████████████████████████████████████████████████████████████| 30/30 [00:00<00:00, 6427.07it/s]\n"
     ]
    },
    {
     "name": "stdout",
     "output_type": "stream",
     "text": [
      "인덱스 : 101 회사명 : SG세계물산\n"
     ]
    },
    {
     "name": "stderr",
     "output_type": "stream",
     "text": [
      "100%|██████████████████████████████████████████████████████████████████████████████| 707/707 [00:00<00:00, 5153.25it/s]\n"
     ]
    },
    {
     "name": "stdout",
     "output_type": "stream",
     "text": [
      "인덱스 : 102 회사명 : SHD\n"
     ]
    },
    {
     "name": "stderr",
     "output_type": "stream",
     "text": [
      "100%|███████████████████████████████████████████████████████████████████████████████████| 8/8 [00:00<00:00, 829.08it/s]\n"
     ]
    },
    {
     "name": "stdout",
     "output_type": "stream",
     "text": [
      "인덱스 : 103 회사명 : SH에너지화학\n"
     ]
    },
    {
     "name": "stderr",
     "output_type": "stream",
     "text": [
      "100%|██████████████████████████████████████████████████████████████████████████████| 929/929 [00:00<00:00, 4778.97it/s]\n"
     ]
    },
    {
     "name": "stdout",
     "output_type": "stream",
     "text": [
      "인덱스 : 104 회사명 : SIMPAC\n"
     ]
    },
    {
     "name": "stderr",
     "output_type": "stream",
     "text": [
      "100%|██████████████████████████████████████████████████████████████████████████████| 675/675 [00:00<00:00, 5362.51it/s]\n"
     ]
    },
    {
     "name": "stdout",
     "output_type": "stream",
     "text": [
      "인덱스 : 105 회사명 : SJM\n"
     ]
    },
    {
     "name": "stderr",
     "output_type": "stream",
     "text": [
      "100%|██████████████████████████████████████████████████████████████████████████████| 866/866 [00:00<00:00, 5454.14it/s]\n"
     ]
    },
    {
     "name": "stdout",
     "output_type": "stream",
     "text": [
      "인덱스 : 106 회사명 : SJM홀딩스\n"
     ]
    },
    {
     "name": "stderr",
     "output_type": "stream",
     "text": [
      "100%|██████████████████████████████████████████████████████████████████████████████| 373/373 [00:00<00:00, 5292.69it/s]\n"
     ]
    },
    {
     "name": "stdout",
     "output_type": "stream",
     "text": [
      "인덱스 : 107 회사명 : SK\n"
     ]
    },
    {
     "name": "stderr",
     "output_type": "stream",
     "text": [
      "100%|██████████████████████████████████████████████████████████████████████████| 15030/15030 [00:02<00:00, 5203.59it/s]\n"
     ]
    },
    {
     "name": "stdout",
     "output_type": "stream",
     "text": [
      "인덱스 : 108 회사명 : SKC\n"
     ]
    },
    {
     "name": "stderr",
     "output_type": "stream",
     "text": [
      "100%|████████████████████████████████████████████████████████████████████████████| 1048/1048 [00:00<00:00, 5132.70it/s]\n"
     ]
    },
    {
     "name": "stdout",
     "output_type": "stream",
     "text": [
      "인덱스 : 109 회사명 : SK가스\n"
     ]
    },
    {
     "name": "stderr",
     "output_type": "stream",
     "text": [
      "100%|████████████████████████████████████████████████████████████████████████████| 2143/2143 [00:00<00:00, 5357.86it/s]\n"
     ]
    },
    {
     "name": "stdout",
     "output_type": "stream",
     "text": [
      "인덱스 : 110 회사명 : SK네트웍스\n"
     ]
    },
    {
     "name": "stderr",
     "output_type": "stream",
     "text": [
      "100%|██████████████████████████████████████████████████████████████████████████████| 926/926 [00:00<00:00, 5235.79it/s]\n"
     ]
    },
    {
     "name": "stdout",
     "output_type": "stream",
     "text": [
      "인덱스 : 111 회사명 : SK디스커버리\n"
     ]
    },
    {
     "name": "stderr",
     "output_type": "stream",
     "text": [
      "100%|████████████████████████████████████████████████████████████████████████████| 1499/1499 [00:00<00:00, 4998.36it/s]\n"
     ]
    },
    {
     "name": "stdout",
     "output_type": "stream",
     "text": [
      "인덱스 : 112 회사명 : SK디앤디\n"
     ]
    },
    {
     "name": "stderr",
     "output_type": "stream",
     "text": [
      "100%|██████████████████████████████████████████████████████████████████████████████| 241/241 [00:00<00:00, 5583.66it/s]\n"
     ]
    },
    {
     "name": "stdout",
     "output_type": "stream",
     "text": [
      "인덱스 : 113 회사명 : SK렌터카\n"
     ]
    },
    {
     "name": "stderr",
     "output_type": "stream",
     "text": [
      "100%|██████████████████████████████████████████████████████████████████████████████| 737/737 [00:00<00:00, 5218.56it/s]\n"
     ]
    },
    {
     "name": "stdout",
     "output_type": "stream",
     "text": [
      "인덱스 : 114 회사명 : SK리츠\n"
     ]
    },
    {
     "name": "stderr",
     "output_type": "stream",
     "text": [
      "100%|████████████████████████████████████████████████████████████████████████████████| 71/71 [00:00<00:00, 4440.73it/s]\n"
     ]
    },
    {
     "name": "stdout",
     "output_type": "stream",
     "text": [
      "인덱스 : 115 회사명 : SK바이오사이언스\n"
     ]
    },
    {
     "name": "stderr",
     "output_type": "stream",
     "text": [
      "100%|████████████████████████████████████████████████████████████████████████████| 1911/1911 [00:00<00:00, 4966.68it/s]\n"
     ]
    },
    {
     "name": "stdout",
     "output_type": "stream",
     "text": [
      "인덱스 : 116 회사명 : SK바이오팜\n"
     ]
    },
    {
     "name": "stderr",
     "output_type": "stream",
     "text": [
      "100%|██████████████████████████████████████████████████████████████████████████████| 742/742 [00:00<00:00, 5158.14it/s]\n"
     ]
    },
    {
     "name": "stdout",
     "output_type": "stream",
     "text": [
      "인덱스 : 117 회사명 : SK스퀘어\n"
     ]
    },
    {
     "name": "stderr",
     "output_type": "stream",
     "text": [
      "100%|██████████████████████████████████████████████████████████████████████████████| 504/504 [00:00<00:00, 5087.72it/s]\n"
     ]
    },
    {
     "name": "stdout",
     "output_type": "stream",
     "text": [
      "인덱스 : 118 회사명 : SK아이이테크놀로지\n"
     ]
    },
    {
     "name": "stderr",
     "output_type": "stream",
     "text": [
      "100%|██████████████████████████████████████████████████████████████████████████████| 731/731 [00:00<00:00, 4834.75it/s]\n"
     ]
    },
    {
     "name": "stdout",
     "output_type": "stream",
     "text": [
      "인덱스 : 119 회사명 : SK이노베이션\n"
     ]
    },
    {
     "name": "stderr",
     "output_type": "stream",
     "text": [
      "100%|████████████████████████████████████████████████████████████████████████████| 2201/2201 [00:00<00:00, 5148.12it/s]\n"
     ]
    },
    {
     "name": "stdout",
     "output_type": "stream",
     "text": [
      "인덱스 : 120 회사명 : SK증권\n"
     ]
    },
    {
     "name": "stderr",
     "output_type": "stream",
     "text": [
      "100%|████████████████████████████████████████████████████████████████████████████| 2202/2202 [00:00<00:00, 5181.70it/s]\n"
     ]
    },
    {
     "name": "stdout",
     "output_type": "stream",
     "text": [
      "인덱스 : 121 회사명 : SK케미칼\n"
     ]
    },
    {
     "name": "stderr",
     "output_type": "stream",
     "text": [
      "100%|██████████████████████████████████████████████████████████████████████████████| 978/978 [00:00<00:00, 5416.71it/s]\n"
     ]
    },
    {
     "name": "stdout",
     "output_type": "stream",
     "text": [
      "인덱스 : 122 회사명 : SK텔레콤\n"
     ]
    },
    {
     "name": "stderr",
     "output_type": "stream",
     "text": [
      "100%|████████████████████████████████████████████████████████████████████████████| 4518/4518 [00:00<00:00, 5323.15it/s]\n"
     ]
    },
    {
     "name": "stdout",
     "output_type": "stream",
     "text": [
      "인덱스 : 123 회사명 : SK하이닉스\n"
     ]
    },
    {
     "name": "stderr",
     "output_type": "stream",
     "text": [
      "100%|████████████████████████████████████████████████████████████████████████████| 4254/4254 [00:00<00:00, 5292.67it/s]\n"
     ]
    },
    {
     "name": "stdout",
     "output_type": "stream",
     "text": [
      "인덱스 : 124 회사명 : SNT모티브\n"
     ]
    },
    {
     "name": "stderr",
     "output_type": "stream",
     "text": [
      "100%|██████████████████████████████████████████████████████████████████████████████| 215/215 [00:00<00:00, 4731.27it/s]\n"
     ]
    },
    {
     "name": "stdout",
     "output_type": "stream",
     "text": [
      "인덱스 : 125 회사명 : SNT에너지\n"
     ]
    },
    {
     "name": "stderr",
     "output_type": "stream",
     "text": [
      "100%|████████████████████████████████████████████████████████████████████████████████| 98/98 [00:00<00:00, 5082.56it/s]\n"
     ]
    },
    {
     "name": "stdout",
     "output_type": "stream",
     "text": [
      "인덱스 : 126 회사명 : SNT중공업\n"
     ]
    },
    {
     "name": "stderr",
     "output_type": "stream",
     "text": [
      "100%|████████████████████████████████████████████████████████████████████████████████| 91/91 [00:00<00:00, 8045.91it/s]\n"
     ]
    },
    {
     "name": "stdout",
     "output_type": "stream",
     "text": [
      "인덱스 : 127 회사명 : SNT홀딩스\n"
     ]
    },
    {
     "name": "stderr",
     "output_type": "stream",
     "text": [
      "100%|████████████████████████████████████████████████████████████████████████████████| 27/27 [00:00<00:00, 5411.23it/s]\n"
     ]
    },
    {
     "name": "stdout",
     "output_type": "stream",
     "text": [
      "인덱스 : 128 회사명 : SPC삼립\n"
     ]
    },
    {
     "name": "stderr",
     "output_type": "stream",
     "text": [
      "100%|██████████████████████████████████████████████████████████████████████████████| 614/614 [00:00<00:00, 5129.81it/s]\n"
     ]
    },
    {
     "name": "stdout",
     "output_type": "stream",
     "text": [
      "인덱스 : 129 회사명 : STX\n"
     ]
    },
    {
     "name": "stderr",
     "output_type": "stream",
     "text": [
      "100%|████████████████████████████████████████████████████████████████████████████| 3318/3318 [00:00<00:00, 5511.01it/s]\n"
     ]
    },
    {
     "name": "stdout",
     "output_type": "stream",
     "text": [
      "인덱스 : 130 회사명 : STX엔진\n"
     ]
    },
    {
     "name": "stderr",
     "output_type": "stream",
     "text": [
      "100%|████████████████████████████████████████████████████████████████████████████| 1063/1063 [00:00<00:00, 5224.13it/s]\n"
     ]
    },
    {
     "name": "stdout",
     "output_type": "stream",
     "text": [
      "인덱스 : 131 회사명 : STX중공업\n"
     ]
    },
    {
     "name": "stderr",
     "output_type": "stream",
     "text": [
      "100%|████████████████████████████████████████████████████████████████████████████| 1059/1059 [00:00<00:00, 5150.59it/s]\n"
     ]
    },
    {
     "name": "stdout",
     "output_type": "stream",
     "text": [
      "인덱스 : 132 회사명 : SUN&L\n"
     ]
    },
    {
     "name": "stderr",
     "output_type": "stream",
     "text": [
      "100%|████████████████████████████████████████████████████████████████████████████████| 19/19 [00:00<00:00, 3534.79it/s]\n"
     ]
    },
    {
     "name": "stdout",
     "output_type": "stream",
     "text": [
      "인덱스 : 133 회사명 : TBH글로벌\n"
     ]
    },
    {
     "name": "stderr",
     "output_type": "stream",
     "text": [
      "100%|████████████████████████████████████████████████████████████████████████████████| 38/38 [00:00<00:00, 7116.93it/s]\n"
     ]
    },
    {
     "name": "stdout",
     "output_type": "stream",
     "text": [
      "인덱스 : 134 회사명 : TCC스틸\n"
     ]
    },
    {
     "name": "stderr",
     "output_type": "stream",
     "text": [
      "100%|██████████████████████████████████████████████████████████████████████████████| 657/657 [00:00<00:00, 4953.95it/s]\n"
     ]
    },
    {
     "name": "stdout",
     "output_type": "stream",
     "text": [
      "인덱스 : 135 회사명 : TKG휴켐스\n"
     ]
    },
    {
     "name": "stderr",
     "output_type": "stream",
     "text": [
      "100%|████████████████████████████████████████████████████████████████████████████████| 27/27 [00:00<00:00, 2991.50it/s]\n"
     ]
    },
    {
     "name": "stdout",
     "output_type": "stream",
     "text": [
      "인덱스 : 136 회사명 : TYM\n"
     ]
    },
    {
     "name": "stderr",
     "output_type": "stream",
     "text": [
      "100%|██████████████████████████████████████████████████████████████████████████████| 518/518 [00:00<00:00, 5663.53it/s]\n"
     ]
    },
    {
     "name": "stdout",
     "output_type": "stream",
     "text": [
      "인덱스 : 137 회사명 : WISCOM\n"
     ]
    },
    {
     "name": "stderr",
     "output_type": "stream",
     "text": [
      "100%|██████████████████████████████████████████████████████████████████████████████| 430/430 [00:00<00:00, 5621.09it/s]\n"
     ]
    },
    {
     "name": "stdout",
     "output_type": "stream",
     "text": [
      "인덱스 : 138 회사명 : YG PLUS\n"
     ]
    },
    {
     "name": "stderr",
     "output_type": "stream",
     "text": [
      "100%|██████████████████████████████████████████████████████████████████████████████| 838/838 [00:00<00:00, 5247.00it/s]\n"
     ]
    },
    {
     "name": "stdout",
     "output_type": "stream",
     "text": [
      "인덱스 : 139 회사명 : 가온전선\n"
     ]
    },
    {
     "name": "stderr",
     "output_type": "stream",
     "text": [
      "100%|████████████████████████████████████████████████████████████████████████████| 1154/1154 [00:00<00:00, 4954.92it/s]\n"
     ]
    },
    {
     "name": "stdout",
     "output_type": "stream",
     "text": [
      "인덱스 : 140 회사명 : 강남제비스코\n"
     ]
    },
    {
     "name": "stderr",
     "output_type": "stream",
     "text": [
      "100%|██████████████████████████████████████████████████████████████████████████████| 805/805 [00:00<00:00, 5283.43it/s]\n"
     ]
    },
    {
     "name": "stdout",
     "output_type": "stream",
     "text": [
      "인덱스 : 141 회사명 : 강원랜드\n"
     ]
    },
    {
     "name": "stderr",
     "output_type": "stream",
     "text": [
      "100%|████████████████████████████████████████████████████████████████████████████| 1817/1817 [00:00<00:00, 5656.85it/s]\n"
     ]
    },
    {
     "name": "stdout",
     "output_type": "stream",
     "text": [
      "인덱스 : 142 회사명 : 갤럭시아에스엠\n"
     ]
    },
    {
     "name": "stderr",
     "output_type": "stream",
     "text": [
      "100%|██████████████████████████████████████████████████████████████████████████████| 767/767 [00:00<00:00, 5119.10it/s]\n"
     ]
    },
    {
     "name": "stdout",
     "output_type": "stream",
     "text": [
      "인덱스 : 143 회사명 : 경농\n"
     ]
    },
    {
     "name": "stderr",
     "output_type": "stream",
     "text": [
      "100%|████████████████████████████████████████████████████████████████████████████| 1436/1436 [00:00<00:00, 5411.53it/s]\n"
     ]
    },
    {
     "name": "stdout",
     "output_type": "stream",
     "text": [
      "인덱스 : 144 회사명 : 경동나비엔\n"
     ]
    },
    {
     "name": "stderr",
     "output_type": "stream",
     "text": [
      "100%|██████████████████████████████████████████████████████████████████████████████| 915/915 [00:00<00:00, 5707.68it/s]\n"
     ]
    },
    {
     "name": "stdout",
     "output_type": "stream",
     "text": [
      "인덱스 : 145 회사명 : 경동도시가스\n"
     ]
    },
    {
     "name": "stderr",
     "output_type": "stream",
     "text": [
      "100%|██████████████████████████████████████████████████████████████████████████████| 904/904 [00:00<00:00, 5419.25it/s]\n"
     ]
    },
    {
     "name": "stdout",
     "output_type": "stream",
     "text": [
      "인덱스 : 146 회사명 : 경동인베스트\n"
     ]
    },
    {
     "name": "stderr",
     "output_type": "stream",
     "text": [
      "100%|██████████████████████████████████████████████████████████████████████████████| 515/515 [00:00<00:00, 5196.77it/s]\n"
     ]
    },
    {
     "name": "stdout",
     "output_type": "stream",
     "text": [
      "인덱스 : 147 회사명 : 경방\n"
     ]
    },
    {
     "name": "stderr",
     "output_type": "stream",
     "text": [
      "100%|██████████████████████████████████████████████████████████████████████████████| 874/874 [00:00<00:00, 5764.74it/s]\n"
     ]
    },
    {
     "name": "stdout",
     "output_type": "stream",
     "text": [
      "인덱스 : 148 회사명 : 경보제약\n"
     ]
    },
    {
     "name": "stderr",
     "output_type": "stream",
     "text": [
      "100%|██████████████████████████████████████████████████████████████████████████████| 183/183 [00:00<00:00, 6804.17it/s]\n"
     ]
    },
    {
     "name": "stdout",
     "output_type": "stream",
     "text": [
      "인덱스 : 149 회사명 : 경인양행\n"
     ]
    },
    {
     "name": "stderr",
     "output_type": "stream",
     "text": [
      "100%|██████████████████████████████████████████████████████████████████████████████| 700/700 [00:00<00:00, 5436.32it/s]\n"
     ]
    },
    {
     "name": "stdout",
     "output_type": "stream",
     "text": [
      "인덱스 : 150 회사명 : 경인전자\n"
     ]
    },
    {
     "name": "stderr",
     "output_type": "stream",
     "text": [
      "100%|██████████████████████████████████████████████████████████████████████████████| 618/618 [00:00<00:00, 5304.43it/s]\n"
     ]
    },
    {
     "name": "stdout",
     "output_type": "stream",
     "text": [
      "인덱스 : 151 회사명 : 계룡건설\n"
     ]
    },
    {
     "name": "stderr",
     "output_type": "stream",
     "text": [
      "100%|████████████████████████████████████████████████████████████████████████████| 2210/2210 [00:00<00:00, 5519.06it/s]\n"
     ]
    },
    {
     "name": "stdout",
     "output_type": "stream",
     "text": [
      "인덱스 : 152 회사명 : 계양전기\n"
     ]
    },
    {
     "name": "stderr",
     "output_type": "stream",
     "text": [
      "100%|████████████████████████████████████████████████████████████████████████████| 1467/1467 [00:00<00:00, 5428.53it/s]\n"
     ]
    },
    {
     "name": "stdout",
     "output_type": "stream",
     "text": [
      "인덱스 : 153 회사명 : 고려산업\n"
     ]
    },
    {
     "name": "stderr",
     "output_type": "stream",
     "text": [
      "100%|████████████████████████████████████████████████████████████████████████████| 1500/1500 [00:00<00:00, 5131.47it/s]\n"
     ]
    },
    {
     "name": "stdout",
     "output_type": "stream",
     "text": [
      "인덱스 : 154 회사명 : 고려아연\n"
     ]
    },
    {
     "name": "stderr",
     "output_type": "stream",
     "text": [
      "100%|████████████████████████████████████████████████████████████████████████████| 2966/2966 [00:00<00:00, 3144.28it/s]\n"
     ]
    },
    {
     "name": "stdout",
     "output_type": "stream",
     "text": [
      "인덱스 : 155 회사명 : 고려제강\n"
     ]
    },
    {
     "name": "stderr",
     "output_type": "stream",
     "text": [
      "100%|██████████████████████████████████████████████████████████████████████████████| 829/829 [00:00<00:00, 5527.60it/s]\n"
     ]
    },
    {
     "name": "stdout",
     "output_type": "stream",
     "text": [
      "인덱스 : 156 회사명 : 광동제약\n"
     ]
    },
    {
     "name": "stderr",
     "output_type": "stream",
     "text": [
      "100%|██████████████████████████████████████████████████████████████████████████████| 507/507 [00:00<00:00, 5348.24it/s]\n"
     ]
    },
    {
     "name": "stdout",
     "output_type": "stream",
     "text": [
      "인덱스 : 157 회사명 : 광명전기\n"
     ]
    },
    {
     "name": "stderr",
     "output_type": "stream",
     "text": [
      "100%|██████████████████████████████████████████████████████████████████████████████| 977/977 [00:00<00:00, 5148.83it/s]\n"
     ]
    },
    {
     "name": "stdout",
     "output_type": "stream",
     "text": [
      "인덱스 : 158 회사명 : 광전자\n"
     ]
    },
    {
     "name": "stderr",
     "output_type": "stream",
     "text": [
      "100%|██████████████████████████████████████████████████████████████████████████████| 706/706 [00:00<00:00, 5248.50it/s]\n"
     ]
    },
    {
     "name": "stdout",
     "output_type": "stream",
     "text": [
      "인덱스 : 159 회사명 : 광주신세계\n"
     ]
    },
    {
     "name": "stderr",
     "output_type": "stream",
     "text": [
      "100%|████████████████████████████████████████████████████████████████████████████| 2286/2286 [00:00<00:00, 5519.51it/s]\n"
     ]
    },
    {
     "name": "stdout",
     "output_type": "stream",
     "text": [
      "인덱스 : 160 회사명 : 교보증권\n"
     ]
    },
    {
     "name": "stderr",
     "output_type": "stream",
     "text": [
      "100%|██████████████████████████████████████████████████████████████████████████████| 441/441 [00:00<00:00, 5528.74it/s]\n"
     ]
    },
    {
     "name": "stdout",
     "output_type": "stream",
     "text": [
      "인덱스 : 161 회사명 : 교촌에프앤비\n"
     ]
    },
    {
     "name": "stderr",
     "output_type": "stream",
     "text": [
      "100%|████████████████████████████████████████████████████████████████████████████| 1029/1029 [00:00<00:00, 5198.40it/s]\n"
     ]
    },
    {
     "name": "stdout",
     "output_type": "stream",
     "text": [
      "인덱스 : 162 회사명 : 국도화학\n"
     ]
    },
    {
     "name": "stderr",
     "output_type": "stream",
     "text": [
      "100%|██████████████████████████████████████████████████████████████████████████████| 748/748 [00:00<00:00, 5490.57it/s]\n"
     ]
    },
    {
     "name": "stdout",
     "output_type": "stream",
     "text": [
      "인덱스 : 163 회사명 : 국동\n"
     ]
    },
    {
     "name": "stderr",
     "output_type": "stream",
     "text": [
      "100%|████████████████████████████████████████████████████████████████████████████| 1431/1431 [00:00<00:00, 5634.30it/s]\n"
     ]
    },
    {
     "name": "stdout",
     "output_type": "stream",
     "text": [
      "인덱스 : 164 회사명 : 국보\n"
     ]
    },
    {
     "name": "stderr",
     "output_type": "stream",
     "text": [
      "100%|████████████████████████████████████████████████████████████████████████████| 3014/3014 [00:00<00:00, 5455.51it/s]\n"
     ]
    },
    {
     "name": "stdout",
     "output_type": "stream",
     "text": [
      "인덱스 : 165 회사명 : 국제약품\n"
     ]
    },
    {
     "name": "stderr",
     "output_type": "stream",
     "text": [
      "100%|████████████████████████████████████████████████████████████████████████████| 1926/1926 [00:00<00:00, 5306.44it/s]\n"
     ]
    },
    {
     "name": "stdout",
     "output_type": "stream",
     "text": [
      "인덱스 : 166 회사명 : 그린케미칼\n"
     ]
    },
    {
     "name": "stderr",
     "output_type": "stream",
     "text": [
      "100%|██████████████████████████████████████████████████████████████████████████████| 865/865 [00:00<00:00, 5068.77it/s]\n"
     ]
    },
    {
     "name": "stdout",
     "output_type": "stream",
     "text": [
      "인덱스 : 167 회사명 : 극동유화\n"
     ]
    },
    {
     "name": "stderr",
     "output_type": "stream",
     "text": [
      "100%|██████████████████████████████████████████████████████████████████████████████| 769/769 [00:00<00:00, 4900.60it/s]\n"
     ]
    },
    {
     "name": "stdout",
     "output_type": "stream",
     "text": [
      "인덱스 : 168 회사명 : 금강공업\n"
     ]
    },
    {
     "name": "stderr",
     "output_type": "stream",
     "text": [
      "100%|██████████████████████████████████████████████████████████████████████████████| 838/838 [00:00<00:00, 5113.08it/s]\n"
     ]
    },
    {
     "name": "stdout",
     "output_type": "stream",
     "text": [
      "인덱스 : 169 회사명 : 금비\n"
     ]
    },
    {
     "name": "stderr",
     "output_type": "stream",
     "text": [
      "100%|████████████████████████████████████████████████████████████████████████████| 1932/1932 [00:00<00:00, 5032.81it/s]\n"
     ]
    },
    {
     "name": "stdout",
     "output_type": "stream",
     "text": [
      "인덱스 : 170 회사명 : 금양\n"
     ]
    },
    {
     "name": "stderr",
     "output_type": "stream",
     "text": [
      "100%|████████████████████████████████████████████████████████████████████████████| 1263/1263 [00:00<00:00, 5132.55it/s]\n"
     ]
    },
    {
     "name": "stdout",
     "output_type": "stream",
     "text": [
      "인덱스 : 171 회사명 : 금호건설\n"
     ]
    },
    {
     "name": "stderr",
     "output_type": "stream",
     "text": [
      "100%|██████████████████████████████████████████████████████████████████████████████| 356/356 [00:00<00:00, 5308.11it/s]\n"
     ]
    },
    {
     "name": "stdout",
     "output_type": "stream",
     "text": [
      "인덱스 : 172 회사명 : 금호석유\n"
     ]
    },
    {
     "name": "stderr",
     "output_type": "stream",
     "text": [
      "100%|████████████████████████████████████████████████████████████████████████████| 2486/2486 [00:00<00:00, 5045.21it/s]\n"
     ]
    },
    {
     "name": "stdout",
     "output_type": "stream",
     "text": [
      "인덱스 : 173 회사명 : 금호에이치티\n"
     ]
    },
    {
     "name": "stderr",
     "output_type": "stream",
     "text": [
      "100%|████████████████████████████████████████████████████████████████████████████| 1056/1056 [00:00<00:00, 5048.16it/s]\n"
     ]
    },
    {
     "name": "stdout",
     "output_type": "stream",
     "text": [
      "인덱스 : 174 회사명 : 금호전기\n"
     ]
    },
    {
     "name": "stderr",
     "output_type": "stream",
     "text": [
      "100%|██████████████████████████████████████████████████████████████████████████████| 913/913 [00:00<00:00, 5368.20it/s]\n"
     ]
    },
    {
     "name": "stdout",
     "output_type": "stream",
     "text": [
      "인덱스 : 175 회사명 : 금호타이어\n"
     ]
    },
    {
     "name": "stderr",
     "output_type": "stream",
     "text": [
      "100%|████████████████████████████████████████████████████████████████████████████| 1796/1796 [00:00<00:00, 5631.93it/s]\n"
     ]
    },
    {
     "name": "stdout",
     "output_type": "stream",
     "text": [
      "인덱스 : 176 회사명 : 기신정기\n"
     ]
    },
    {
     "name": "stderr",
     "output_type": "stream",
     "text": [
      "100%|██████████████████████████████████████████████████████████████████████████████| 422/422 [00:00<00:00, 5093.94it/s]\n"
     ]
    },
    {
     "name": "stdout",
     "output_type": "stream",
     "text": [
      "인덱스 : 177 회사명 : 기아\n"
     ]
    },
    {
     "name": "stderr",
     "output_type": "stream",
     "text": [
      "100%|████████████████████████████████████████████████████████████████████████████| 7449/7449 [00:01<00:00, 5497.15it/s]\n"
     ]
    },
    {
     "name": "stdout",
     "output_type": "stream",
     "text": [
      "인덱스 : 178 회사명 : 기업은행\n"
     ]
    },
    {
     "name": "stderr",
     "output_type": "stream",
     "text": [
      "100%|████████████████████████████████████████████████████████████████████████████| 3397/3397 [00:00<00:00, 5556.14it/s]\n"
     ]
    },
    {
     "name": "stdout",
     "output_type": "stream",
     "text": [
      "인덱스 : 179 회사명 : 까뮤이앤씨\n"
     ]
    },
    {
     "name": "stderr",
     "output_type": "stream",
     "text": [
      "100%|████████████████████████████████████████████████████████████████████████████| 1196/1196 [00:00<00:00, 5034.77it/s]\n"
     ]
    },
    {
     "name": "stdout",
     "output_type": "stream",
     "text": [
      "인덱스 : 180 회사명 : 깨끗한나라\n"
     ]
    },
    {
     "name": "stderr",
     "output_type": "stream",
     "text": [
      "100%|██████████████████████████████████████████████████████████████████████████████| 497/497 [00:00<00:00, 5596.52it/s]\n"
     ]
    },
    {
     "name": "stdout",
     "output_type": "stream",
     "text": [
      "인덱스 : 181 회사명 : 남광토건\n"
     ]
    },
    {
     "name": "stderr",
     "output_type": "stream",
     "text": [
      "100%|████████████████████████████████████████████████████████████████████████████| 1039/1039 [00:00<00:00, 5217.85it/s]\n"
     ]
    },
    {
     "name": "stdout",
     "output_type": "stream",
     "text": [
      "인덱스 : 182 회사명 : 남선알미늄\n"
     ]
    },
    {
     "name": "stderr",
     "output_type": "stream",
     "text": [
      "100%|████████████████████████████████████████████████████████████████████████████| 2801/2801 [00:00<00:00, 4680.41it/s]\n"
     ]
    },
    {
     "name": "stdout",
     "output_type": "stream",
     "text": [
      "인덱스 : 183 회사명 : 남성\n"
     ]
    },
    {
     "name": "stderr",
     "output_type": "stream",
     "text": [
      "100%|████████████████████████████████████████████████████████████████████████████| 7862/7862 [00:01<00:00, 5501.84it/s]\n"
     ]
    },
    {
     "name": "stdout",
     "output_type": "stream",
     "text": [
      "인덱스 : 184 회사명 : 남양유업\n"
     ]
    },
    {
     "name": "stderr",
     "output_type": "stream",
     "text": [
      "100%|████████████████████████████████████████████████████████████████████████████| 1115/1115 [00:00<00:00, 5667.50it/s]\n"
     ]
    },
    {
     "name": "stdout",
     "output_type": "stream",
     "text": [
      "인덱스 : 185 회사명 : 남해화학\n"
     ]
    },
    {
     "name": "stderr",
     "output_type": "stream",
     "text": [
      "100%|████████████████████████████████████████████████████████████████████████████| 1247/1247 [00:00<00:00, 5287.71it/s]\n"
     ]
    },
    {
     "name": "stdout",
     "output_type": "stream",
     "text": [
      "인덱스 : 186 회사명 : 넥센\n"
     ]
    },
    {
     "name": "stderr",
     "output_type": "stream",
     "text": [
      "100%|████████████████████████████████████████████████████████████████████████████| 3173/3173 [00:00<00:00, 5382.51it/s]\n"
     ]
    },
    {
     "name": "stdout",
     "output_type": "stream",
     "text": [
      "인덱스 : 187 회사명 : 넥센타이어\n"
     ]
    },
    {
     "name": "stderr",
     "output_type": "stream",
     "text": [
      "100%|██████████████████████████████████████████████████████████████████████████████| 709/709 [00:00<00:00, 5514.76it/s]\n"
     ]
    },
    {
     "name": "stdout",
     "output_type": "stream",
     "text": [
      "인덱스 : 188 회사명 : 넷마블\n"
     ]
    },
    {
     "name": "stderr",
     "output_type": "stream",
     "text": [
      "100%|████████████████████████████████████████████████████████████████████████████| 3167/3167 [00:00<00:00, 5531.84it/s]\n"
     ]
    },
    {
     "name": "stdout",
     "output_type": "stream",
     "text": [
      "인덱스 : 189 회사명 : 노루페인트\n"
     ]
    },
    {
     "name": "stderr",
     "output_type": "stream",
     "text": [
      "100%|████████████████████████████████████████████████████████████████████████████| 1788/1788 [00:00<00:00, 5228.25it/s]\n"
     ]
    },
    {
     "name": "stdout",
     "output_type": "stream",
     "text": [
      "인덱스 : 190 회사명 : 노루홀딩스\n"
     ]
    },
    {
     "name": "stderr",
     "output_type": "stream",
     "text": [
      "100%|████████████████████████████████████████████████████████████████████████████| 1335/1335 [00:00<00:00, 4923.37it/s]\n"
     ]
    },
    {
     "name": "stdout",
     "output_type": "stream",
     "text": [
      "인덱스 : 191 회사명 : 녹십자\n"
     ]
    },
    {
     "name": "stderr",
     "output_type": "stream",
     "text": [
      "100%|████████████████████████████████████████████████████████████████████████████| 2393/2393 [00:00<00:00, 5404.87it/s]\n"
     ]
    },
    {
     "name": "stdout",
     "output_type": "stream",
     "text": [
      "인덱스 : 192 회사명 : 녹십자홀딩스\n"
     ]
    },
    {
     "name": "stderr",
     "output_type": "stream",
     "text": [
      "100%|████████████████████████████████████████████████████████████████████████████| 1523/1523 [00:00<00:00, 5039.17it/s]\n"
     ]
    },
    {
     "name": "stdout",
     "output_type": "stream",
     "text": [
      "인덱스 : 193 회사명 : 농심\n"
     ]
    },
    {
     "name": "stderr",
     "output_type": "stream",
     "text": [
      "100%|████████████████████████████████████████████████████████████████████████████| 2176/2176 [00:00<00:00, 5692.38it/s]\n"
     ]
    },
    {
     "name": "stdout",
     "output_type": "stream",
     "text": [
      "인덱스 : 194 회사명 : 농심홀딩스\n"
     ]
    },
    {
     "name": "stderr",
     "output_type": "stream",
     "text": [
      "100%|██████████████████████████████████████████████████████████████████████████████| 530/530 [00:00<00:00, 4898.31it/s]\n"
     ]
    },
    {
     "name": "stdout",
     "output_type": "stream",
     "text": [
      "인덱스 : 195 회사명 : 다스코\n"
     ]
    },
    {
     "name": "stderr",
     "output_type": "stream",
     "text": [
      "100%|██████████████████████████████████████████████████████████████████████████████| 925/925 [00:00<00:00, 5419.26it/s]\n"
     ]
    },
    {
     "name": "stdout",
     "output_type": "stream",
     "text": [
      "인덱스 : 196 회사명 : 다올투자증권\n"
     ]
    },
    {
     "name": "stderr",
     "output_type": "stream",
     "text": [
      "100%|██████████████████████████████████████████████████████████████████████████████| 104/104 [00:00<00:00, 5330.14it/s]\n"
     ]
    },
    {
     "name": "stdout",
     "output_type": "stream",
     "text": [
      "인덱스 : 197 회사명 : 다우기술\n"
     ]
    },
    {
     "name": "stderr",
     "output_type": "stream",
     "text": [
      "100%|████████████████████████████████████████████████████████████████████████████| 1174/1174 [00:00<00:00, 5518.38it/s]\n"
     ]
    },
    {
     "name": "stdout",
     "output_type": "stream",
     "text": [
      "인덱스 : 198 회사명 : 다이나믹디자인\n"
     ]
    },
    {
     "name": "stderr",
     "output_type": "stream",
     "text": [
      "100%|████████████████████████████████████████████████████████████████████████████████| 56/56 [00:00<00:00, 3174.67it/s]\n"
     ]
    },
    {
     "name": "stdout",
     "output_type": "stream",
     "text": [
      "인덱스 : 199 회사명 : 대교\n"
     ]
    },
    {
     "name": "stderr",
     "output_type": "stream",
     "text": [
      "100%|████████████████████████████████████████████████████████████████████████████| 4650/4650 [00:00<00:00, 5755.72it/s]\n"
     ]
    },
    {
     "name": "stdout",
     "output_type": "stream",
     "text": [
      "인덱스 : 200 회사명 : 대구백화점\n"
     ]
    },
    {
     "name": "stderr",
     "output_type": "stream",
     "text": [
      "100%|████████████████████████████████████████████████████████████████████████████| 1736/1736 [00:00<00:00, 5536.58it/s]\n"
     ]
    },
    {
     "name": "stdout",
     "output_type": "stream",
     "text": [
      "인덱스 : 201 회사명 : 대덕\n"
     ]
    },
    {
     "name": "stderr",
     "output_type": "stream",
     "text": [
      "100%|████████████████████████████████████████████████████████████████████████████| 4649/4649 [00:00<00:00, 5556.80it/s]\n"
     ]
    },
    {
     "name": "stdout",
     "output_type": "stream",
     "text": [
      "인덱스 : 202 회사명 : 대덕전자\n"
     ]
    },
    {
     "name": "stderr",
     "output_type": "stream",
     "text": [
      "100%|████████████████████████████████████████████████████████████████████████████| 1402/1402 [00:00<00:00, 5174.01it/s]\n"
     ]
    },
    {
     "name": "stdout",
     "output_type": "stream",
     "text": [
      "인덱스 : 203 회사명 : 대동\n"
     ]
    },
    {
     "name": "stderr",
     "output_type": "stream",
     "text": [
      "100%|████████████████████████████████████████████████████████████████████████████| 3152/3152 [00:00<00:00, 5479.18it/s]\n"
     ]
    },
    {
     "name": "stdout",
     "output_type": "stream",
     "text": [
      "인덱스 : 204 회사명 : 대동전자\n"
     ]
    },
    {
     "name": "stderr",
     "output_type": "stream",
     "text": [
      "100%|██████████████████████████████████████████████████████████████████████████████| 545/545 [00:00<00:00, 5265.92it/s]\n"
     ]
    },
    {
     "name": "stdout",
     "output_type": "stream",
     "text": [
      "인덱스 : 205 회사명 : 대림B&Co\n"
     ]
    },
    {
     "name": "stderr",
     "output_type": "stream",
     "text": [
      "100%|██████████████████████████████████████████████████████████████████████████████| 198/198 [00:00<00:00, 5435.63it/s]\n"
     ]
    },
    {
     "name": "stdout",
     "output_type": "stream",
     "text": [
      "인덱스 : 206 회사명 : 대림통상\n"
     ]
    },
    {
     "name": "stderr",
     "output_type": "stream",
     "text": [
      "100%|██████████████████████████████████████████████████████████████████████████████| 654/654 [00:00<00:00, 4960.80it/s]\n"
     ]
    },
    {
     "name": "stdout",
     "output_type": "stream",
     "text": [
      "인덱스 : 207 회사명 : 대상\n"
     ]
    },
    {
     "name": "stderr",
     "output_type": "stream",
     "text": [
      "100%|████████████████████████████████████████████████████████████████████████████| 8891/8891 [00:01<00:00, 5404.42it/s]\n"
     ]
    },
    {
     "name": "stdout",
     "output_type": "stream",
     "text": [
      "인덱스 : 208 회사명 : 대상홀딩스\n"
     ]
    },
    {
     "name": "stderr",
     "output_type": "stream",
     "text": [
      "100%|██████████████████████████████████████████████████████████████████████████████| 732/732 [00:00<00:00, 5442.40it/s]\n"
     ]
    },
    {
     "name": "stdout",
     "output_type": "stream",
     "text": [
      "인덱스 : 209 회사명 : 대성산업\n"
     ]
    },
    {
     "name": "stderr",
     "output_type": "stream",
     "text": [
      "100%|████████████████████████████████████████████████████████████████████████████| 1155/1155 [00:00<00:00, 5346.51it/s]\n"
     ]
    },
    {
     "name": "stdout",
     "output_type": "stream",
     "text": [
      "인덱스 : 210 회사명 : 대성에너지\n"
     ]
    },
    {
     "name": "stderr",
     "output_type": "stream",
     "text": [
      "100%|████████████████████████████████████████████████████████████████████████████| 2210/2210 [00:00<00:00, 5927.27it/s]\n"
     ]
    },
    {
     "name": "stdout",
     "output_type": "stream",
     "text": [
      "인덱스 : 211 회사명 : 대성홀딩스\n"
     ]
    },
    {
     "name": "stderr",
     "output_type": "stream",
     "text": [
      "100%|██████████████████████████████████████████████████████████████████████████████| 859/859 [00:00<00:00, 5065.69it/s]\n"
     ]
    },
    {
     "name": "stdout",
     "output_type": "stream",
     "text": [
      "인덱스 : 212 회사명 : 대신증권\n"
     ]
    },
    {
     "name": "stderr",
     "output_type": "stream",
     "text": [
      "100%|████████████████████████████████████████████████████████████████████████████| 1504/1504 [00:00<00:00, 5102.73it/s]\n"
     ]
    },
    {
     "name": "stdout",
     "output_type": "stream",
     "text": [
      "인덱스 : 213 회사명 : 대양금속\n"
     ]
    },
    {
     "name": "stderr",
     "output_type": "stream",
     "text": [
      "100%|████████████████████████████████████████████████████████████████████████████| 1050/1050 [00:00<00:00, 5274.16it/s]\n"
     ]
    },
    {
     "name": "stdout",
     "output_type": "stream",
     "text": [
      "인덱스 : 214 회사명 : 대영포장\n"
     ]
    },
    {
     "name": "stderr",
     "output_type": "stream",
     "text": [
      "100%|████████████████████████████████████████████████████████████████████████████| 1196/1196 [00:00<00:00, 5008.59it/s]\n"
     ]
    },
    {
     "name": "stdout",
     "output_type": "stream",
     "text": [
      "인덱스 : 215 회사명 : 대우건설\n"
     ]
    },
    {
     "name": "stderr",
     "output_type": "stream",
     "text": [
      "100%|████████████████████████████████████████████████████████████████████████████| 2706/2706 [00:00<00:00, 5652.99it/s]\n"
     ]
    },
    {
     "name": "stdout",
     "output_type": "stream",
     "text": [
      "인덱스 : 216 회사명 : 대우부품\n"
     ]
    },
    {
     "name": "stderr",
     "output_type": "stream",
     "text": [
      "100%|██████████████████████████████████████████████████████████████████████████████| 996/996 [00:00<00:00, 5062.74it/s]\n"
     ]
    },
    {
     "name": "stdout",
     "output_type": "stream",
     "text": [
      "인덱스 : 217 회사명 : 대우조선해양\n"
     ]
    },
    {
     "name": "stderr",
     "output_type": "stream",
     "text": [
      "100%|████████████████████████████████████████████████████████████████████████████| 1224/1224 [00:00<00:00, 5385.14it/s]\n"
     ]
    },
    {
     "name": "stdout",
     "output_type": "stream",
     "text": [
      "인덱스 : 218 회사명 : 대웅\n"
     ]
    },
    {
     "name": "stderr",
     "output_type": "stream",
     "text": [
      "100%|████████████████████████████████████████████████████████████████████████████| 1878/1878 [00:00<00:00, 5466.01it/s]\n"
     ]
    },
    {
     "name": "stdout",
     "output_type": "stream",
     "text": [
      "인덱스 : 219 회사명 : 대웅제약\n"
     ]
    },
    {
     "name": "stderr",
     "output_type": "stream",
     "text": [
      "100%|████████████████████████████████████████████████████████████████████████████| 1560/1560 [00:00<00:00, 5373.21it/s]\n"
     ]
    },
    {
     "name": "stdout",
     "output_type": "stream",
     "text": [
      "인덱스 : 220 회사명 : 대원강업\n"
     ]
    },
    {
     "name": "stderr",
     "output_type": "stream",
     "text": [
      "100%|██████████████████████████████████████████████████████████████████████████████| 657/657 [00:00<00:00, 5063.52it/s]\n"
     ]
    },
    {
     "name": "stdout",
     "output_type": "stream",
     "text": [
      "인덱스 : 221 회사명 : 대원전선\n"
     ]
    },
    {
     "name": "stderr",
     "output_type": "stream",
     "text": [
      "100%|████████████████████████████████████████████████████████████████████████████| 1986/1986 [00:00<00:00, 5155.25it/s]\n"
     ]
    },
    {
     "name": "stdout",
     "output_type": "stream",
     "text": [
      "인덱스 : 222 회사명 : 대원제약\n"
     ]
    },
    {
     "name": "stderr",
     "output_type": "stream",
     "text": [
      "100%|████████████████████████████████████████████████████████████████████████████| 1962/1962 [00:00<00:00, 5419.33it/s]\n"
     ]
    },
    {
     "name": "stdout",
     "output_type": "stream",
     "text": [
      "인덱스 : 223 회사명 : 대원화성\n"
     ]
    },
    {
     "name": "stderr",
     "output_type": "stream",
     "text": [
      "100%|██████████████████████████████████████████████████████████████████████████████| 788/788 [00:00<00:00, 5202.86it/s]\n"
     ]
    },
    {
     "name": "stdout",
     "output_type": "stream",
     "text": [
      "인덱스 : 224 회사명 : 대유에이텍\n"
     ]
    },
    {
     "name": "stderr",
     "output_type": "stream",
     "text": [
      "100%|██████████████████████████████████████████████████████████████████████████████| 813/813 [00:00<00:00, 5244.32it/s]\n"
     ]
    },
    {
     "name": "stdout",
     "output_type": "stream",
     "text": [
      "인덱스 : 225 회사명 : 대유플러스\n"
     ]
    },
    {
     "name": "stderr",
     "output_type": "stream",
     "text": [
      "100%|██████████████████████████████████████████████████████████████████████████████| 196/196 [00:00<00:00, 4928.77it/s]\n"
     ]
    },
    {
     "name": "stdout",
     "output_type": "stream",
     "text": [
      "인덱스 : 226 회사명 : 대창\n"
     ]
    },
    {
     "name": "stderr",
     "output_type": "stream",
     "text": [
      "100%|████████████████████████████████████████████████████████████████████████████| 2795/2795 [00:00<00:00, 5217.01it/s]\n"
     ]
    },
    {
     "name": "stdout",
     "output_type": "stream",
     "text": [
      "인덱스 : 227 회사명 : 대창단조\n"
     ]
    },
    {
     "name": "stderr",
     "output_type": "stream",
     "text": [
      "100%|██████████████████████████████████████████████████████████████████████████████| 610/610 [00:00<00:00, 5295.78it/s]\n"
     ]
    },
    {
     "name": "stdout",
     "output_type": "stream",
     "text": [
      "인덱스 : 228 회사명 : 대한방직\n"
     ]
    },
    {
     "name": "stderr",
     "output_type": "stream",
     "text": [
      "100%|████████████████████████████████████████████████████████████████████████████| 1218/1218 [00:00<00:00, 5423.82it/s]\n"
     ]
    },
    {
     "name": "stdout",
     "output_type": "stream",
     "text": [
      "인덱스 : 229 회사명 : 대한유화\n"
     ]
    },
    {
     "name": "stderr",
     "output_type": "stream",
     "text": [
      "100%|████████████████████████████████████████████████████████████████████████████| 1936/1936 [00:00<00:00, 5148.91it/s]\n"
     ]
    },
    {
     "name": "stdout",
     "output_type": "stream",
     "text": [
      "인덱스 : 230 회사명 : 대한전선\n"
     ]
    },
    {
     "name": "stderr",
     "output_type": "stream",
     "text": [
      "100%|██████████████████████████████████████████████████████████████████████████████| 845/845 [00:00<00:00, 5303.57it/s]\n"
     ]
    },
    {
     "name": "stdout",
     "output_type": "stream",
     "text": [
      "인덱스 : 231 회사명 : 대한제강\n"
     ]
    },
    {
     "name": "stderr",
     "output_type": "stream",
     "text": [
      "100%|████████████████████████████████████████████████████████████████████████████| 1072/1072 [00:00<00:00, 5276.15it/s]\n"
     ]
    },
    {
     "name": "stdout",
     "output_type": "stream",
     "text": [
      "인덱스 : 232 회사명 : 대한제당\n"
     ]
    },
    {
     "name": "stderr",
     "output_type": "stream",
     "text": [
      "100%|████████████████████████████████████████████████████████████████████████████| 1703/1703 [00:00<00:00, 5168.97it/s]\n"
     ]
    },
    {
     "name": "stdout",
     "output_type": "stream",
     "text": [
      "인덱스 : 233 회사명 : 대한제분\n"
     ]
    },
    {
     "name": "stderr",
     "output_type": "stream",
     "text": [
      "100%|██████████████████████████████████████████████████████████████████████████████| 632/632 [00:00<00:00, 4997.68it/s]\n"
     ]
    },
    {
     "name": "stdout",
     "output_type": "stream",
     "text": [
      "인덱스 : 234 회사명 : 대한항공\n"
     ]
    },
    {
     "name": "stderr",
     "output_type": "stream",
     "text": [
      "100%|████████████████████████████████████████████████████████████████████████████| 6291/6291 [00:01<00:00, 5806.24it/s]\n"
     ]
    },
    {
     "name": "stdout",
     "output_type": "stream",
     "text": [
      "인덱스 : 235 회사명 : 대한해운\n"
     ]
    },
    {
     "name": "stderr",
     "output_type": "stream",
     "text": [
      "100%|████████████████████████████████████████████████████████████████████████████| 2518/2518 [00:00<00:00, 5081.24it/s]\n"
     ]
    },
    {
     "name": "stdout",
     "output_type": "stream",
     "text": [
      "인덱스 : 236 회사명 : 대한화섬\n"
     ]
    },
    {
     "name": "stderr",
     "output_type": "stream",
     "text": [
      "100%|██████████████████████████████████████████████████████████████████████████████| 563/563 [00:00<00:00, 5378.56it/s]\n"
     ]
    },
    {
     "name": "stdout",
     "output_type": "stream",
     "text": [
      "인덱스 : 237 회사명 : 대현\n"
     ]
    },
    {
     "name": "stderr",
     "output_type": "stream",
     "text": [
      "100%|████████████████████████████████████████████████████████████████████████████| 2485/2485 [00:00<00:00, 5344.36it/s]\n"
     ]
    },
    {
     "name": "stdout",
     "output_type": "stream",
     "text": [
      "인덱스 : 238 회사명 : 대호에이엘\n"
     ]
    },
    {
     "name": "stderr",
     "output_type": "stream",
     "text": [
      "100%|██████████████████████████████████████████████████████████████████████████████| 769/769 [00:00<00:00, 5129.44it/s]\n"
     ]
    },
    {
     "name": "stdout",
     "output_type": "stream",
     "text": [
      "인덱스 : 239 회사명 : 더블유게임즈\n"
     ]
    },
    {
     "name": "stderr",
     "output_type": "stream",
     "text": [
      "100%|████████████████████████████████████████████████████████████████████████████| 2127/2127 [00:00<00:00, 5034.04it/s]\n"
     ]
    },
    {
     "name": "stdout",
     "output_type": "stream",
     "text": [
      "인덱스 : 240 회사명 : 더존비즈온\n"
     ]
    },
    {
     "name": "stderr",
     "output_type": "stream",
     "text": [
      "100%|████████████████████████████████████████████████████████████████████████████| 2168/2168 [00:00<00:00, 5155.12it/s]\n"
     ]
    },
    {
     "name": "stdout",
     "output_type": "stream",
     "text": [
      "인덱스 : 241 회사명 : 덕성\n"
     ]
    },
    {
     "name": "stderr",
     "output_type": "stream",
     "text": [
      "100%|████████████████████████████████████████████████████████████████████████████| 2952/2952 [00:00<00:00, 5436.48it/s]\n"
     ]
    },
    {
     "name": "stdout",
     "output_type": "stream",
     "text": [
      "인덱스 : 242 회사명 : 덕양산업\n"
     ]
    },
    {
     "name": "stderr",
     "output_type": "stream",
     "text": [
      "100%|██████████████████████████████████████████████████████████████████████████████| 783/783 [00:00<00:00, 5340.20it/s]\n"
     ]
    },
    {
     "name": "stdout",
     "output_type": "stream",
     "text": [
      "인덱스 : 243 회사명 : 덴티움\n"
     ]
    },
    {
     "name": "stderr",
     "output_type": "stream",
     "text": [
      "100%|████████████████████████████████████████████████████████████████████████████| 1309/1309 [00:00<00:00, 5243.74it/s]\n"
     ]
    },
    {
     "name": "stdout",
     "output_type": "stream",
     "text": [
      "인덱스 : 244 회사명 : 도화엔지니어링\n"
     ]
    },
    {
     "name": "stderr",
     "output_type": "stream",
     "text": [
      "100%|████████████████████████████████████████████████████████████████████████████| 1009/1009 [00:00<00:00, 5039.39it/s]\n"
     ]
    },
    {
     "name": "stdout",
     "output_type": "stream",
     "text": [
      "인덱스 : 245 회사명 : 동국제강\n"
     ]
    },
    {
     "name": "stderr",
     "output_type": "stream",
     "text": [
      "100%|██████████████████████████████████████████████████████████████████████████████| 872/872 [00:00<00:00, 5712.82it/s]\n"
     ]
    },
    {
     "name": "stdout",
     "output_type": "stream",
     "text": [
      "인덱스 : 246 회사명 : 동남합성\n"
     ]
    },
    {
     "name": "stderr",
     "output_type": "stream",
     "text": [
      "100%|██████████████████████████████████████████████████████████████████████████████| 326/326 [00:00<00:00, 5434.09it/s]\n"
     ]
    },
    {
     "name": "stdout",
     "output_type": "stream",
     "text": [
      "인덱스 : 247 회사명 : 동방\n"
     ]
    },
    {
     "name": "stderr",
     "output_type": "stream",
     "text": [
      "100%|████████████████████████████████████████████████████████████████████████████| 3327/3327 [00:00<00:00, 5419.93it/s]\n"
     ]
    },
    {
     "name": "stdout",
     "output_type": "stream",
     "text": [
      "인덱스 : 248 회사명 : 동방아그로\n"
     ]
    },
    {
     "name": "stderr",
     "output_type": "stream",
     "text": [
      "100%|██████████████████████████████████████████████████████████████████████████████| 714/714 [00:00<00:00, 5323.59it/s]\n"
     ]
    },
    {
     "name": "stdout",
     "output_type": "stream",
     "text": [
      "인덱스 : 249 회사명 : 동부건설\n"
     ]
    },
    {
     "name": "stderr",
     "output_type": "stream",
     "text": [
      "100%|████████████████████████████████████████████████████████████████████████████| 2249/2249 [00:00<00:00, 5360.80it/s]\n"
     ]
    },
    {
     "name": "stdout",
     "output_type": "stream",
     "text": [
      "인덱스 : 250 회사명 : 동서\n"
     ]
    },
    {
     "name": "stderr",
     "output_type": "stream",
     "text": [
      "100%|████████████████████████████████████████████████████████████████████████████| 2687/2687 [00:00<00:00, 5613.87it/s]\n"
     ]
    },
    {
     "name": "stdout",
     "output_type": "stream",
     "text": [
      "인덱스 : 251 회사명 : 동성제약\n"
     ]
    },
    {
     "name": "stderr",
     "output_type": "stream",
     "text": [
      "100%|████████████████████████████████████████████████████████████████████████████| 2296/2296 [00:00<00:00, 5310.15it/s]\n"
     ]
    },
    {
     "name": "stdout",
     "output_type": "stream",
     "text": [
      "인덱스 : 252 회사명 : 동성케미컬\n"
     ]
    },
    {
     "name": "stderr",
     "output_type": "stream",
     "text": [
      "100%|████████████████████████████████████████████████████████████████████████████████| 48/48 [00:00<00:00, 9607.57it/s]"
     ]
    },
    {
     "name": "stdout",
     "output_type": "stream",
     "text": [
      "인덱스 : 253 회사명 : 동아쏘시오홀딩스\n"
     ]
    },
    {
     "name": "stderr",
     "output_type": "stream",
     "text": [
      "\n",
      "100%|██████████████████████████████████████████████████████████████████████████████| 244/244 [00:00<00:00, 5257.53it/s]\n"
     ]
    },
    {
     "name": "stdout",
     "output_type": "stream",
     "text": [
      "인덱스 : 254 회사명 : 동아에스티\n"
     ]
    },
    {
     "name": "stderr",
     "output_type": "stream",
     "text": [
      "100%|██████████████████████████████████████████████████████████████████████████████| 899/899 [00:00<00:00, 5449.70it/s]\n"
     ]
    },
    {
     "name": "stdout",
     "output_type": "stream",
     "text": [
      "인덱스 : 255 회사명 : 동아지질\n"
     ]
    },
    {
     "name": "stderr",
     "output_type": "stream",
     "text": [
      "100%|██████████████████████████████████████████████████████████████████████████████| 977/977 [00:00<00:00, 5057.83it/s]\n"
     ]
    },
    {
     "name": "stdout",
     "output_type": "stream",
     "text": [
      "인덱스 : 256 회사명 : 동아타이어\n"
     ]
    },
    {
     "name": "stderr",
     "output_type": "stream",
     "text": [
      "100%|██████████████████████████████████████████████████████████████████████████████| 418/418 [00:00<00:00, 4953.80it/s]\n"
     ]
    },
    {
     "name": "stdout",
     "output_type": "stream",
     "text": [
      "인덱스 : 257 회사명 : 동양\n"
     ]
    },
    {
     "name": "stderr",
     "output_type": "stream",
     "text": [
      "100%|████████████████████████████████████████████████████████████████████████████| 4260/4260 [00:00<00:00, 5579.80it/s]\n"
     ]
    },
    {
     "name": "stdout",
     "output_type": "stream",
     "text": [
      "인덱스 : 258 회사명 : 동양고속\n"
     ]
    },
    {
     "name": "stderr",
     "output_type": "stream",
     "text": [
      "100%|██████████████████████████████████████████████████████████████████████████████| 553/553 [00:00<00:00, 4911.16it/s]\n"
     ]
    },
    {
     "name": "stdout",
     "output_type": "stream",
     "text": [
      "인덱스 : 259 회사명 : 동양생명\n"
     ]
    },
    {
     "name": "stderr",
     "output_type": "stream",
     "text": [
      "100%|██████████████████████████████████████████████████████████████████████████████| 608/608 [00:00<00:00, 5368.30it/s]\n"
     ]
    },
    {
     "name": "stdout",
     "output_type": "stream",
     "text": [
      "인덱스 : 260 회사명 : 동양철관\n"
     ]
    },
    {
     "name": "stderr",
     "output_type": "stream",
     "text": [
      "100%|████████████████████████████████████████████████████████████████████████████| 1266/1266 [00:00<00:00, 4891.10it/s]\n"
     ]
    },
    {
     "name": "stdout",
     "output_type": "stream",
     "text": [
      "인덱스 : 261 회사명 : 동양피스톤\n"
     ]
    },
    {
     "name": "stderr",
     "output_type": "stream",
     "text": [
      "100%|██████████████████████████████████████████████████████████████████████████████| 670/670 [00:00<00:00, 5124.16it/s]\n"
     ]
    },
    {
     "name": "stdout",
     "output_type": "stream",
     "text": [
      "인덱스 : 262 회사명 : 동원F&B\n"
     ]
    },
    {
     "name": "stderr",
     "output_type": "stream",
     "text": [
      "100%|██████████████████████████████████████████████████████████████████████████████| 313/313 [00:00<00:00, 5188.51it/s]\n"
     ]
    },
    {
     "name": "stdout",
     "output_type": "stream",
     "text": [
      "인덱스 : 263 회사명 : 동원금속\n"
     ]
    },
    {
     "name": "stderr",
     "output_type": "stream",
     "text": [
      "100%|██████████████████████████████████████████████████████████████████████████████| 641/641 [00:00<00:00, 5410.19it/s]\n"
     ]
    },
    {
     "name": "stdout",
     "output_type": "stream",
     "text": [
      "인덱스 : 264 회사명 : 동원산업\n"
     ]
    },
    {
     "name": "stderr",
     "output_type": "stream",
     "text": [
      "100%|██████████████████████████████████████████████████████████████████████████████| 307/307 [00:00<00:00, 5775.52it/s]\n"
     ]
    },
    {
     "name": "stdout",
     "output_type": "stream",
     "text": [
      "인덱스 : 265 회사명 : 동원수산\n"
     ]
    },
    {
     "name": "stderr",
     "output_type": "stream",
     "text": [
      "100%|██████████████████████████████████████████████████████████████████████████████| 980/980 [00:00<00:00, 5168.98it/s]\n"
     ]
    },
    {
     "name": "stdout",
     "output_type": "stream",
     "text": [
      "인덱스 : 266 회사명 : 동원시스템즈\n"
     ]
    },
    {
     "name": "stderr",
     "output_type": "stream",
     "text": [
      "100%|██████████████████████████████████████████████████████████████████████████████| 299/299 [00:00<00:00, 5225.14it/s]\n"
     ]
    },
    {
     "name": "stdout",
     "output_type": "stream",
     "text": [
      "인덱스 : 267 회사명 : 동일고무벨트\n"
     ]
    },
    {
     "name": "stderr",
     "output_type": "stream",
     "text": [
      "100%|██████████████████████████████████████████████████████████████████████████████| 647/647 [00:00<00:00, 5264.11it/s]\n"
     ]
    },
    {
     "name": "stdout",
     "output_type": "stream",
     "text": [
      "인덱스 : 268 회사명 : 동일산업\n"
     ]
    },
    {
     "name": "stderr",
     "output_type": "stream",
     "text": [
      "100%|██████████████████████████████████████████████████████████████████████████████| 609/609 [00:00<00:00, 5385.01it/s]\n"
     ]
    },
    {
     "name": "stdout",
     "output_type": "stream",
     "text": [
      "인덱스 : 269 회사명 : 동일제강\n"
     ]
    },
    {
     "name": "stderr",
     "output_type": "stream",
     "text": [
      "100%|██████████████████████████████████████████████████████████████████████████████| 670/670 [00:00<00:00, 5513.19it/s]\n"
     ]
    },
    {
     "name": "stdout",
     "output_type": "stream",
     "text": [
      "인덱스 : 270 회사명 : 동화약품\n"
     ]
    },
    {
     "name": "stderr",
     "output_type": "stream",
     "text": [
      "100%|██████████████████████████████████████████████████████████████████████████████| 694/694 [00:00<00:00, 5398.48it/s]\n"
     ]
    },
    {
     "name": "stdout",
     "output_type": "stream",
     "text": [
      "인덱스 : 271 회사명 : 두산\n"
     ]
    },
    {
     "name": "stderr",
     "output_type": "stream",
     "text": [
      "100%|██████████████████████████████████████████████████████████████████████████| 10288/10288 [00:01<00:00, 5519.54it/s]\n"
     ]
    },
    {
     "name": "stdout",
     "output_type": "stream",
     "text": [
      "인덱스 : 272 회사명 : 두산밥캣\n"
     ]
    },
    {
     "name": "stderr",
     "output_type": "stream",
     "text": [
      "100%|██████████████████████████████████████████████████████████████████████████████| 542/542 [00:00<00:00, 5192.90it/s]\n"
     ]
    },
    {
     "name": "stdout",
     "output_type": "stream",
     "text": [
      "인덱스 : 273 회사명 : 두산에너빌리티\n"
     ]
    },
    {
     "name": "stderr",
     "output_type": "stream",
     "text": [
      "100%|██████████████████████████████████████████████████████████████████████████████| 235/235 [00:00<00:00, 5141.58it/s]\n"
     ]
    },
    {
     "name": "stdout",
     "output_type": "stream",
     "text": [
      "인덱스 : 274 회사명 : 두산퓨얼셀\n"
     ]
    },
    {
     "name": "stderr",
     "output_type": "stream",
     "text": [
      "100%|██████████████████████████████████████████████████████████████████████████████| 557/557 [00:00<00:00, 4840.69it/s]\n"
     ]
    },
    {
     "name": "stdout",
     "output_type": "stream",
     "text": [
      "인덱스 : 275 회사명 : 두올\n"
     ]
    },
    {
     "name": "stderr",
     "output_type": "stream",
     "text": [
      "100%|████████████████████████████████████████████████████████████████████████████| 1559/1559 [00:00<00:00, 5453.44it/s]\n"
     ]
    },
    {
     "name": "stdout",
     "output_type": "stream",
     "text": [
      "인덱스 : 276 회사명 : 드림텍\n"
     ]
    },
    {
     "name": "stderr",
     "output_type": "stream",
     "text": [
      "100%|██████████████████████████████████████████████████████████████████████████████| 879/879 [00:00<00:00, 4959.25it/s]\n"
     ]
    },
    {
     "name": "stdout",
     "output_type": "stream",
     "text": [
      "인덱스 : 277 회사명 : 디씨엠\n"
     ]
    },
    {
     "name": "stderr",
     "output_type": "stream",
     "text": [
      "100%|██████████████████████████████████████████████████████████████████████████████| 529/529 [00:00<00:00, 5168.35it/s]\n"
     ]
    },
    {
     "name": "stdout",
     "output_type": "stream",
     "text": [
      "인덱스 : 278 회사명 : 디아이\n"
     ]
    },
    {
     "name": "stderr",
     "output_type": "stream",
     "text": [
      "100%|██████████████████████████████████████████████████████████████████████████████| 885/885 [00:00<00:00, 5405.96it/s]\n"
     ]
    },
    {
     "name": "stdout",
     "output_type": "stream",
     "text": [
      "인덱스 : 279 회사명 : 디아이씨\n"
     ]
    },
    {
     "name": "stderr",
     "output_type": "stream",
     "text": [
      "100%|██████████████████████████████████████████████████████████████████████████████| 865/865 [00:00<00:00, 5221.57it/s]\n"
     ]
    },
    {
     "name": "stdout",
     "output_type": "stream",
     "text": [
      "인덱스 : 280 회사명 : 디앤디플랫폼리츠\n"
     ]
    },
    {
     "name": "stderr",
     "output_type": "stream",
     "text": [
      "100%|████████████████████████████████████████████████████████████████████████████████| 30/30 [00:00<00:00, 2860.66it/s]\n"
     ]
    },
    {
     "name": "stdout",
     "output_type": "stream",
     "text": [
      "인덱스 : 281 회사명 : 디와이\n"
     ]
    },
    {
     "name": "stderr",
     "output_type": "stream",
     "text": [
      "100%|████████████████████████████████████████████████████████████████████████████| 1552/1552 [00:00<00:00, 5155.52it/s]\n"
     ]
    },
    {
     "name": "stdout",
     "output_type": "stream",
     "text": [
      "인덱스 : 282 회사명 : 디와이파워\n"
     ]
    },
    {
     "name": "stderr",
     "output_type": "stream",
     "text": [
      "100%|██████████████████████████████████████████████████████████████████████████████| 874/874 [00:00<00:00, 5050.17it/s]\n"
     ]
    },
    {
     "name": "stdout",
     "output_type": "stream",
     "text": [
      "인덱스 : 283 회사명 : 디티알오토모티브\n"
     ]
    },
    {
     "name": "stderr",
     "output_type": "stream",
     "text": [
      "100%|██████████████████████████████████████████████████████████████████████████████| 757/757 [00:00<00:00, 4461.22it/s]\n"
     ]
    },
    {
     "name": "stdout",
     "output_type": "stream",
     "text": [
      "인덱스 : 284 회사명 : 락앤락\n"
     ]
    },
    {
     "name": "stderr",
     "output_type": "stream",
     "text": [
      "100%|████████████████████████████████████████████████████████████████████████████| 1805/1805 [00:00<00:00, 5352.94it/s]\n"
     ]
    },
    {
     "name": "stdout",
     "output_type": "stream",
     "text": [
      "인덱스 : 285 회사명 : 롯데관광개발\n"
     ]
    },
    {
     "name": "stderr",
     "output_type": "stream",
     "text": [
      "100%|████████████████████████████████████████████████████████████████████████████| 2264/2264 [00:00<00:00, 5109.54it/s]\n"
     ]
    },
    {
     "name": "stdout",
     "output_type": "stream",
     "text": [
      "인덱스 : 286 회사명 : 롯데렌탈\n"
     ]
    },
    {
     "name": "stderr",
     "output_type": "stream",
     "text": [
      "100%|██████████████████████████████████████████████████████████████████████████████| 608/608 [00:00<00:00, 5268.65it/s]\n"
     ]
    },
    {
     "name": "stdout",
     "output_type": "stream",
     "text": [
      "인덱스 : 287 회사명 : 롯데리츠\n"
     ]
    },
    {
     "name": "stderr",
     "output_type": "stream",
     "text": [
      "100%|██████████████████████████████████████████████████████████████████████████████| 295/295 [00:00<00:00, 5466.16it/s]\n"
     ]
    },
    {
     "name": "stdout",
     "output_type": "stream",
     "text": [
      "인덱스 : 288 회사명 : 롯데손해보험\n"
     ]
    },
    {
     "name": "stderr",
     "output_type": "stream",
     "text": [
      "100%|████████████████████████████████████████████████████████████████████████████| 1139/1139 [00:00<00:00, 5276.48it/s]\n"
     ]
    },
    {
     "name": "stdout",
     "output_type": "stream",
     "text": [
      "인덱스 : 289 회사명 : 롯데쇼핑\n"
     ]
    },
    {
     "name": "stderr",
     "output_type": "stream",
     "text": [
      "100%|████████████████████████████████████████████████████████████████████████████| 1226/1226 [00:00<00:00, 5291.60it/s]\n"
     ]
    },
    {
     "name": "stdout",
     "output_type": "stream",
     "text": [
      "인덱스 : 290 회사명 : 롯데정밀화학\n"
     ]
    },
    {
     "name": "stderr",
     "output_type": "stream",
     "text": [
      "100%|████████████████████████████████████████████████████████████████████████████| 2398/2398 [00:00<00:00, 5055.05it/s]\n"
     ]
    },
    {
     "name": "stdout",
     "output_type": "stream",
     "text": [
      "인덱스 : 291 회사명 : 롯데정보통신\n"
     ]
    },
    {
     "name": "stderr",
     "output_type": "stream",
     "text": [
      "100%|██████████████████████████████████████████████████████████████████████████████| 658/658 [00:00<00:00, 5678.11it/s]\n"
     ]
    },
    {
     "name": "stdout",
     "output_type": "stream",
     "text": [
      "인덱스 : 292 회사명 : 롯데제과\n"
     ]
    },
    {
     "name": "stderr",
     "output_type": "stream",
     "text": [
      "100%|██████████████████████████████████████████████████████████████████████████████| 830/830 [00:00<00:00, 5687.20it/s]\n"
     ]
    },
    {
     "name": "stdout",
     "output_type": "stream",
     "text": [
      "인덱스 : 293 회사명 : 롯데지주\n"
     ]
    },
    {
     "name": "stderr",
     "output_type": "stream",
     "text": [
      "100%|██████████████████████████████████████████████████████████████████████████████| 386/386 [00:00<00:00, 5481.58it/s]\n"
     ]
    },
    {
     "name": "stdout",
     "output_type": "stream",
     "text": [
      "인덱스 : 294 회사명 : 롯데칠성\n"
     ]
    },
    {
     "name": "stderr",
     "output_type": "stream",
     "text": [
      "100%|████████████████████████████████████████████████████████████████████████████| 2559/2559 [00:00<00:00, 5344.95it/s]\n"
     ]
    },
    {
     "name": "stdout",
     "output_type": "stream",
     "text": [
      "인덱스 : 295 회사명 : 롯데케미칼\n"
     ]
    },
    {
     "name": "stderr",
     "output_type": "stream",
     "text": [
      "100%|████████████████████████████████████████████████████████████████████████████| 1508/1508 [00:00<00:00, 5481.39it/s]\n"
     ]
    },
    {
     "name": "stdout",
     "output_type": "stream",
     "text": [
      "인덱스 : 296 회사명 : 롯데푸드\n"
     ]
    },
    {
     "name": "stderr",
     "output_type": "stream",
     "text": [
      "100%|██████████████████████████████████████████████████████████████████████████████| 708/708 [00:00<00:00, 5716.21it/s]\n"
     ]
    },
    {
     "name": "stdout",
     "output_type": "stream",
     "text": [
      "인덱스 : 297 회사명 : 롯데하이마트\n"
     ]
    },
    {
     "name": "stderr",
     "output_type": "stream",
     "text": [
      "100%|████████████████████████████████████████████████████████████████████████████| 2275/2275 [00:00<00:00, 5495.14it/s]\n"
     ]
    },
    {
     "name": "stdout",
     "output_type": "stream",
     "text": [
      "인덱스 : 298 회사명 : 마니커\n"
     ]
    },
    {
     "name": "stderr",
     "output_type": "stream",
     "text": [
      "100%|████████████████████████████████████████████████████████████████████████████| 1796/1796 [00:00<00:00, 5111.55it/s]\n"
     ]
    },
    {
     "name": "stdout",
     "output_type": "stream",
     "text": [
      "인덱스 : 299 회사명 : 만도\n"
     ]
    },
    {
     "name": "stderr",
     "output_type": "stream",
     "text": [
      "100%|████████████████████████████████████████████████████████████████████████████| 2938/2938 [00:00<00:00, 5151.54it/s]\n"
     ]
    },
    {
     "name": "stdout",
     "output_type": "stream",
     "text": [
      "인덱스 : 300 회사명 : 만호제강\n"
     ]
    },
    {
     "name": "stderr",
     "output_type": "stream",
     "text": [
      "100%|██████████████████████████████████████████████████████████████████████████████| 494/494 [00:00<00:00, 5163.66it/s]\n"
     ]
    },
    {
     "name": "stdout",
     "output_type": "stream",
     "text": [
      "인덱스 : 301 회사명 : 맥쿼리인프라\n"
     ]
    },
    {
     "name": "stderr",
     "output_type": "stream",
     "text": [
      "100%|██████████████████████████████████████████████████████████████████████████████| 896/896 [00:00<00:00, 4854.17it/s]\n"
     ]
    },
    {
     "name": "stdout",
     "output_type": "stream",
     "text": [
      "인덱스 : 302 회사명 : 맵스리얼티1\n"
     ]
    },
    {
     "name": "stderr",
     "output_type": "stream",
     "text": [
      "100%|██████████████████████████████████████████████████████████████████████████████| 421/421 [00:00<00:00, 5146.13it/s]\n"
     ]
    },
    {
     "name": "stdout",
     "output_type": "stream",
     "text": [
      "인덱스 : 303 회사명 : 메리츠금융지주\n"
     ]
    },
    {
     "name": "stderr",
     "output_type": "stream",
     "text": [
      "100%|██████████████████████████████████████████████████████████████████████████████| 865/865 [00:00<00:00, 4705.78it/s]\n"
     ]
    },
    {
     "name": "stdout",
     "output_type": "stream",
     "text": [
      "인덱스 : 304 회사명 : 메리츠증권\n"
     ]
    },
    {
     "name": "stderr",
     "output_type": "stream",
     "text": [
      "100%|████████████████████████████████████████████████████████████████████████████| 2079/2079 [00:00<00:00, 5009.30it/s]\n"
     ]
    },
    {
     "name": "stdout",
     "output_type": "stream",
     "text": [
      "인덱스 : 305 회사명 : 메리츠화재\n"
     ]
    },
    {
     "name": "stderr",
     "output_type": "stream",
     "text": [
      "100%|████████████████████████████████████████████████████████████████████████████| 2336/2336 [00:00<00:00, 5131.29it/s]\n"
     ]
    },
    {
     "name": "stdout",
     "output_type": "stream",
     "text": [
      "인덱스 : 306 회사명 : 메타랩스\n"
     ]
    },
    {
     "name": "stderr",
     "output_type": "stream",
     "text": [
      "100%|██████████████████████████████████████████████████████████████████████████████| 885/885 [00:00<00:00, 5233.71it/s]\n"
     ]
    },
    {
     "name": "stdout",
     "output_type": "stream",
     "text": [
      "인덱스 : 307 회사명 : 명문제약\n"
     ]
    },
    {
     "name": "stderr",
     "output_type": "stream",
     "text": [
      "100%|████████████████████████████████████████████████████████████████████████████| 1730/1730 [00:00<00:00, 5028.49it/s]\n"
     ]
    },
    {
     "name": "stdout",
     "output_type": "stream",
     "text": [
      "인덱스 : 308 회사명 : 명신산업\n"
     ]
    },
    {
     "name": "stderr",
     "output_type": "stream",
     "text": [
      "100%|████████████████████████████████████████████████████████████████████████████| 1071/1071 [00:00<00:00, 4693.77it/s]\n"
     ]
    },
    {
     "name": "stdout",
     "output_type": "stream",
     "text": [
      "인덱스 : 309 회사명 : 모나리자\n"
     ]
    },
    {
     "name": "stderr",
     "output_type": "stream",
     "text": [
      "100%|████████████████████████████████████████████████████████████████████████████| 2184/2184 [00:00<00:00, 5153.92it/s]\n"
     ]
    },
    {
     "name": "stdout",
     "output_type": "stream",
     "text": [
      "인덱스 : 310 회사명 : 모나미\n"
     ]
    },
    {
     "name": "stderr",
     "output_type": "stream",
     "text": [
      "100%|████████████████████████████████████████████████████████████████████████████| 2360/2360 [00:00<00:00, 5288.15it/s]\n"
     ]
    },
    {
     "name": "stdout",
     "output_type": "stream",
     "text": [
      "인덱스 : 311 회사명 : 모두투어리츠\n"
     ]
    },
    {
     "name": "stderr",
     "output_type": "stream",
     "text": [
      "100%|██████████████████████████████████████████████████████████████████████████████| 471/471 [00:00<00:00, 5449.49it/s]\n"
     ]
    },
    {
     "name": "stdout",
     "output_type": "stream",
     "text": [
      "인덱스 : 312 회사명 : 모토닉\n"
     ]
    },
    {
     "name": "stderr",
     "output_type": "stream",
     "text": [
      "100%|██████████████████████████████████████████████████████████████████████████████| 609/609 [00:00<00:00, 5380.63it/s]\n"
     ]
    },
    {
     "name": "stdout",
     "output_type": "stream",
     "text": [
      "인덱스 : 313 회사명 : 무림P&P\n"
     ]
    },
    {
     "name": "stderr",
     "output_type": "stream",
     "text": [
      "100%|███████████████████████████████████████████████████████████████████████████████| 33/33 [00:00<00:00, 11544.92it/s]\n"
     ]
    },
    {
     "name": "stdout",
     "output_type": "stream",
     "text": [
      "인덱스 : 314 회사명 : 무림페이퍼\n"
     ]
    },
    {
     "name": "stderr",
     "output_type": "stream",
     "text": [
      "100%|██████████████████████████████████████████████████████████████████████████████| 982/982 [00:00<00:00, 5186.47it/s]\n"
     ]
    },
    {
     "name": "stdout",
     "output_type": "stream",
     "text": [
      "인덱스 : 315 회사명 : 무학\n"
     ]
    },
    {
     "name": "stderr",
     "output_type": "stream",
     "text": [
      "100%|████████████████████████████████████████████████████████████████████████████| 2195/2195 [00:00<00:00, 5810.77it/s]\n"
     ]
    },
    {
     "name": "stdout",
     "output_type": "stream",
     "text": [
      "인덱스 : 316 회사명 : 문배철강\n"
     ]
    },
    {
     "name": "stderr",
     "output_type": "stream",
     "text": [
      "100%|██████████████████████████████████████████████████████████████████████████████| 887/887 [00:00<00:00, 5256.35it/s]\n"
     ]
    },
    {
     "name": "stdout",
     "output_type": "stream",
     "text": [
      "인덱스 : 317 회사명 : 미래산업\n"
     ]
    },
    {
     "name": "stderr",
     "output_type": "stream",
     "text": [
      "100%|██████████████████████████████████████████████████████████████████████████████| 951/951 [00:00<00:00, 5554.49it/s]\n"
     ]
    },
    {
     "name": "stdout",
     "output_type": "stream",
     "text": [
      "인덱스 : 318 회사명 : 미래아이앤지\n"
     ]
    },
    {
     "name": "stderr",
     "output_type": "stream",
     "text": [
      "100%|██████████████████████████████████████████████████████████████████████████████| 519/519 [00:00<00:00, 4563.06it/s]\n"
     ]
    },
    {
     "name": "stdout",
     "output_type": "stream",
     "text": [
      "인덱스 : 319 회사명 : 미래에셋글로벌리츠\n"
     ]
    },
    {
     "name": "stderr",
     "output_type": "stream",
     "text": [
      "100%|████████████████████████████████████████████████████████████████████████████████| 72/72 [00:00<00:00, 4559.51it/s]\n"
     ]
    },
    {
     "name": "stdout",
     "output_type": "stream",
     "text": [
      "인덱스 : 320 회사명 : 미래에셋맵스리츠\n"
     ]
    },
    {
     "name": "stderr",
     "output_type": "stream",
     "text": [
      "100%|████████████████████████████████████████████████████████████████████████████████| 29/29 [00:00<00:00, 5789.10it/s]\n"
     ]
    },
    {
     "name": "stdout",
     "output_type": "stream",
     "text": [
      "인덱스 : 321 회사명 : 미래에셋생명\n"
     ]
    },
    {
     "name": "stderr",
     "output_type": "stream",
     "text": [
      "100%|██████████████████████████████████████████████████████████████████████████████| 673/673 [00:00<00:00, 5531.60it/s]\n"
     ]
    },
    {
     "name": "stdout",
     "output_type": "stream",
     "text": [
      "인덱스 : 322 회사명 : 미래에셋증권\n"
     ]
    },
    {
     "name": "stderr",
     "output_type": "stream",
     "text": [
      "100%|██████████████████████████████████████████████████████████████████████████████| 856/856 [00:00<00:00, 5063.51it/s]\n"
     ]
    },
    {
     "name": "stdout",
     "output_type": "stream",
     "text": [
      "인덱스 : 323 회사명 : 미원상사\n"
     ]
    },
    {
     "name": "stderr",
     "output_type": "stream",
     "text": [
      "100%|██████████████████████████████████████████████████████████████████████████████| 488/488 [00:00<00:00, 5316.40it/s]\n"
     ]
    },
    {
     "name": "stdout",
     "output_type": "stream",
     "text": [
      "인덱스 : 324 회사명 : 미원에스씨\n"
     ]
    },
    {
     "name": "stderr",
     "output_type": "stream",
     "text": [
      "100%|██████████████████████████████████████████████████████████████████████████████| 475/475 [00:00<00:00, 5373.92it/s]\n"
     ]
    },
    {
     "name": "stdout",
     "output_type": "stream",
     "text": [
      "인덱스 : 325 회사명 : 미원홀딩스\n"
     ]
    },
    {
     "name": "stderr",
     "output_type": "stream",
     "text": [
      "100%|██████████████████████████████████████████████████████████████████████████████| 493/493 [00:00<00:00, 5328.61it/s]\n"
     ]
    },
    {
     "name": "stdout",
     "output_type": "stream",
     "text": [
      "인덱스 : 326 회사명 : 미원화학\n"
     ]
    },
    {
     "name": "stderr",
     "output_type": "stream",
     "text": [
      "100%|██████████████████████████████████████████████████████████████████████████████| 535/535 [00:00<00:00, 5814.48it/s]\n"
     ]
    },
    {
     "name": "stdout",
     "output_type": "stream",
     "text": [
      "인덱스 : 327 회사명 : 미창석유\n"
     ]
    },
    {
     "name": "stderr",
     "output_type": "stream",
     "text": [
      "100%|████████████████████████████████████████████████████████████████████████████████| 18/18 [00:00<00:00, 4515.13it/s]\n"
     ]
    },
    {
     "name": "stdout",
     "output_type": "stream",
     "text": [
      "인덱스 : 328 회사명 : 바다로19호\n"
     ]
    },
    {
     "name": "stderr",
     "output_type": "stream",
     "text": [
      "100%|██████████████████████████████████████████████████████████████████████████████| 370/370 [00:00<00:00, 5923.32it/s]\n"
     ]
    },
    {
     "name": "stdout",
     "output_type": "stream",
     "text": [
      "인덱스 : 329 회사명 : 방림\n"
     ]
    },
    {
     "name": "stderr",
     "output_type": "stream",
     "text": [
      "100%|████████████████████████████████████████████████████████████████████████████| 1077/1077 [00:00<00:00, 5190.14it/s]\n"
     ]
    },
    {
     "name": "stdout",
     "output_type": "stream",
     "text": [
      "인덱스 : 330 회사명 : 백광산업\n"
     ]
    },
    {
     "name": "stderr",
     "output_type": "stream",
     "text": [
      "100%|██████████████████████████████████████████████████████████████████████████████| 844/844 [00:00<00:00, 5276.34it/s]\n"
     ]
    },
    {
     "name": "stdout",
     "output_type": "stream",
     "text": [
      "인덱스 : 331 회사명 : 백산\n"
     ]
    },
    {
     "name": "stderr",
     "output_type": "stream",
     "text": [
      "100%|████████████████████████████████████████████████████████████████████████████| 1692/1692 [00:00<00:00, 5380.76it/s]\n"
     ]
    },
    {
     "name": "stdout",
     "output_type": "stream",
     "text": [
      "인덱스 : 332 회사명 : 범양건영\n"
     ]
    },
    {
     "name": "stderr",
     "output_type": "stream",
     "text": [
      "100%|████████████████████████████████████████████████████████████████████████████| 1155/1155 [00:00<00:00, 5077.70it/s]\n"
     ]
    },
    {
     "name": "stdout",
     "output_type": "stream",
     "text": [
      "인덱스 : 333 회사명 : 베트남개발1\n"
     ]
    },
    {
     "name": "stderr",
     "output_type": "stream",
     "text": [
      "100%|██████████████████████████████████████████████████████████████████████████████| 372/372 [00:00<00:00, 5326.21it/s]\n"
     ]
    },
    {
     "name": "stdout",
     "output_type": "stream",
     "text": [
      "인덱스 : 334 회사명 : 벽산\n"
     ]
    },
    {
     "name": "stderr",
     "output_type": "stream",
     "text": [
      "100%|████████████████████████████████████████████████████████████████████████████| 2241/2241 [00:00<00:00, 5194.52it/s]\n"
     ]
    },
    {
     "name": "stdout",
     "output_type": "stream",
     "text": [
      "인덱스 : 335 회사명 : 보락\n"
     ]
    },
    {
     "name": "stderr",
     "output_type": "stream",
     "text": [
      "100%|██████████████████████████████████████████████████████████████████████████████| 843/843 [00:00<00:00, 5570.98it/s]\n"
     ]
    },
    {
     "name": "stdout",
     "output_type": "stream",
     "text": [
      "인덱스 : 336 회사명 : 보령\n"
     ]
    },
    {
     "name": "stderr",
     "output_type": "stream",
     "text": [
      "100%|████████████████████████████████████████████████████████████████████████████| 4572/4572 [00:00<00:00, 5708.02it/s]\n"
     ]
    },
    {
     "name": "stdout",
     "output_type": "stream",
     "text": [
      "인덱스 : 337 회사명 : 보해양조\n"
     ]
    },
    {
     "name": "stderr",
     "output_type": "stream",
     "text": [
      "100%|██████████████████████████████████████████████████████████████████████████████| 985/985 [00:00<00:00, 5380.21it/s]\n"
     ]
    },
    {
     "name": "stdout",
     "output_type": "stream",
     "text": [
      "인덱스 : 338 회사명 : 부광약품\n"
     ]
    },
    {
     "name": "stderr",
     "output_type": "stream",
     "text": [
      "100%|██████████████████████████████████████████████████████████████████████████████| 356/356 [00:00<00:00, 5765.61it/s]\n"
     ]
    },
    {
     "name": "stdout",
     "output_type": "stream",
     "text": [
      "인덱스 : 339 회사명 : 부국증권\n"
     ]
    },
    {
     "name": "stderr",
     "output_type": "stream",
     "text": [
      "100%|████████████████████████████████████████████████████████████████████████████| 1171/1171 [00:00<00:00, 5385.95it/s]\n"
     ]
    },
    {
     "name": "stdout",
     "output_type": "stream",
     "text": [
      "인덱스 : 340 회사명 : 부국철강\n"
     ]
    },
    {
     "name": "stderr",
     "output_type": "stream",
     "text": [
      "100%|██████████████████████████████████████████████████████████████████████████████| 914/914 [00:00<00:00, 5127.67it/s]\n"
     ]
    },
    {
     "name": "stdout",
     "output_type": "stream",
     "text": [
      "인덱스 : 341 회사명 : 부산산업\n"
     ]
    },
    {
     "name": "stderr",
     "output_type": "stream",
     "text": [
      "100%|██████████████████████████████████████████████████████████████████████████████| 632/632 [00:00<00:00, 5195.76it/s]\n"
     ]
    },
    {
     "name": "stdout",
     "output_type": "stream",
     "text": [
      "인덱스 : 342 회사명 : 부산주공\n"
     ]
    },
    {
     "name": "stderr",
     "output_type": "stream",
     "text": [
      "100%|██████████████████████████████████████████████████████████████████████████████| 739/739 [00:00<00:00, 5438.05it/s]\n"
     ]
    },
    {
     "name": "stdout",
     "output_type": "stream",
     "text": [
      "인덱스 : 343 회사명 : 비비안\n"
     ]
    },
    {
     "name": "stderr",
     "output_type": "stream",
     "text": [
      "100%|████████████████████████████████████████████████████████████████████████████| 1521/1521 [00:00<00:00, 5650.86it/s]\n"
     ]
    },
    {
     "name": "stdout",
     "output_type": "stream",
     "text": [
      "인덱스 : 344 회사명 : 비상교육\n"
     ]
    },
    {
     "name": "stderr",
     "output_type": "stream",
     "text": [
      "100%|████████████████████████████████████████████████████████████████████████████| 2346/2346 [00:00<00:00, 5353.04it/s]\n"
     ]
    },
    {
     "name": "stdout",
     "output_type": "stream",
     "text": [
      "인덱스 : 345 회사명 : 비케이탑스\n"
     ]
    },
    {
     "name": "stderr",
     "output_type": "stream",
     "text": [
      "100%|██████████████████████████████████████████████████████████████████████████████| 348/348 [00:00<00:00, 5433.68it/s]\n"
     ]
    },
    {
     "name": "stdout",
     "output_type": "stream",
     "text": [
      "인덱스 : 346 회사명 : 빙그레\n"
     ]
    },
    {
     "name": "stderr",
     "output_type": "stream",
     "text": [
      "100%|████████████████████████████████████████████████████████████████████████████| 1181/1181 [00:00<00:00, 5496.93it/s]\n"
     ]
    },
    {
     "name": "stdout",
     "output_type": "stream",
     "text": [
      "인덱스 : 347 회사명 : 사조대림\n"
     ]
    },
    {
     "name": "stderr",
     "output_type": "stream",
     "text": [
      "100%|████████████████████████████████████████████████████████████████████████████| 1637/1637 [00:00<00:00, 5203.28it/s]\n"
     ]
    },
    {
     "name": "stdout",
     "output_type": "stream",
     "text": [
      "인덱스 : 348 회사명 : 사조동아원\n"
     ]
    },
    {
     "name": "stderr",
     "output_type": "stream",
     "text": [
      "100%|████████████████████████████████████████████████████████████████████████████| 1146/1146 [00:00<00:00, 4868.90it/s]\n"
     ]
    },
    {
     "name": "stdout",
     "output_type": "stream",
     "text": [
      "인덱스 : 349 회사명 : 사조산업\n"
     ]
    },
    {
     "name": "stderr",
     "output_type": "stream",
     "text": [
      "100%|████████████████████████████████████████████████████████████████████████████| 1071/1071 [00:00<00:00, 5022.96it/s]\n"
     ]
    },
    {
     "name": "stdout",
     "output_type": "stream",
     "text": [
      "인덱스 : 350 회사명 : 사조씨푸드\n"
     ]
    },
    {
     "name": "stderr",
     "output_type": "stream",
     "text": [
      "100%|██████████████████████████████████████████████████████████████████████████████| 698/698 [00:00<00:00, 5197.68it/s]\n"
     ]
    },
    {
     "name": "stdout",
     "output_type": "stream",
     "text": [
      "인덱스 : 351 회사명 : 사조오양\n"
     ]
    },
    {
     "name": "stderr",
     "output_type": "stream",
     "text": [
      "100%|██████████████████████████████████████████████████████████████████████████████| 935/935 [00:00<00:00, 5038.19it/s]\n"
     ]
    },
    {
     "name": "stdout",
     "output_type": "stream",
     "text": [
      "인덱스 : 352 회사명 : 삼부토건\n"
     ]
    },
    {
     "name": "stderr",
     "output_type": "stream",
     "text": [
      "100%|████████████████████████████████████████████████████████████████████████████| 1889/1889 [00:00<00:00, 5128.02it/s]\n"
     ]
    },
    {
     "name": "stdout",
     "output_type": "stream",
     "text": [
      "인덱스 : 353 회사명 : 삼성SDI\n"
     ]
    },
    {
     "name": "stderr",
     "output_type": "stream",
     "text": [
      "100%|████████████████████████████████████████████████████████████████████████████| 2063/2063 [00:00<00:00, 5124.99it/s]\n"
     ]
    },
    {
     "name": "stdout",
     "output_type": "stream",
     "text": [
      "인덱스 : 354 회사명 : 삼성공조\n"
     ]
    },
    {
     "name": "stderr",
     "output_type": "stream",
     "text": [
      "100%|██████████████████████████████████████████████████████████████████████████████| 632/632 [00:00<00:00, 5597.24it/s]\n"
     ]
    },
    {
     "name": "stdout",
     "output_type": "stream",
     "text": [
      "인덱스 : 355 회사명 : 삼성물산\n"
     ]
    },
    {
     "name": "stderr",
     "output_type": "stream",
     "text": [
      "100%|████████████████████████████████████████████████████████████████████████████| 3060/3060 [00:00<00:00, 5626.93it/s]\n"
     ]
    },
    {
     "name": "stdout",
     "output_type": "stream",
     "text": [
      "인덱스 : 356 회사명 : 삼성바이오로직스\n"
     ]
    },
    {
     "name": "stderr",
     "output_type": "stream",
     "text": [
      "100%|████████████████████████████████████████████████████████████████████████████| 1153/1153 [00:00<00:00, 4976.97it/s]\n"
     ]
    },
    {
     "name": "stdout",
     "output_type": "stream",
     "text": [
      "인덱스 : 357 회사명 : 삼성생명\n"
     ]
    },
    {
     "name": "stderr",
     "output_type": "stream",
     "text": [
      "100%|████████████████████████████████████████████████████████████████████████████| 2163/2163 [00:00<00:00, 5453.28it/s]\n"
     ]
    },
    {
     "name": "stdout",
     "output_type": "stream",
     "text": [
      "인덱스 : 358 회사명 : 삼성에스디에스\n"
     ]
    },
    {
     "name": "stderr",
     "output_type": "stream",
     "text": [
      "100%|████████████████████████████████████████████████████████████████████████████| 1029/1029 [00:00<00:00, 4772.39it/s]\n"
     ]
    },
    {
     "name": "stdout",
     "output_type": "stream",
     "text": [
      "인덱스 : 359 회사명 : 삼성엔지니어링\n"
     ]
    },
    {
     "name": "stderr",
     "output_type": "stream",
     "text": [
      "100%|██████████████████████████████████████████████████████████████████████████████| 719/719 [00:00<00:00, 5227.88it/s]\n"
     ]
    },
    {
     "name": "stdout",
     "output_type": "stream",
     "text": [
      "인덱스 : 360 회사명 : 삼성전기\n"
     ]
    },
    {
     "name": "stderr",
     "output_type": "stream",
     "text": [
      "100%|████████████████████████████████████████████████████████████████████████████| 1218/1218 [00:00<00:00, 5166.55it/s]\n"
     ]
    },
    {
     "name": "stdout",
     "output_type": "stream",
     "text": [
      "인덱스 : 361 회사명 : 삼성전자\n"
     ]
    },
    {
     "name": "stderr",
     "output_type": "stream",
     "text": [
      "100%|████████████████████████████████████████████████████████████████████████████| 9676/9676 [00:01<00:00, 5320.53it/s]\n"
     ]
    },
    {
     "name": "stdout",
     "output_type": "stream",
     "text": [
      "인덱스 : 362 회사명 : 삼성제약\n"
     ]
    },
    {
     "name": "stderr",
     "output_type": "stream",
     "text": [
      "100%|████████████████████████████████████████████████████████████████████████████| 1838/1838 [00:00<00:00, 4949.14it/s]\n"
     ]
    },
    {
     "name": "stdout",
     "output_type": "stream",
     "text": [
      "인덱스 : 363 회사명 : 삼성중공업\n"
     ]
    },
    {
     "name": "stderr",
     "output_type": "stream",
     "text": [
      "100%|████████████████████████████████████████████████████████████████████████████| 2418/2418 [00:00<00:00, 5192.37it/s]\n"
     ]
    },
    {
     "name": "stdout",
     "output_type": "stream",
     "text": [
      "인덱스 : 364 회사명 : 삼성증권\n"
     ]
    },
    {
     "name": "stderr",
     "output_type": "stream",
     "text": [
      "100%|████████████████████████████████████████████████████████████████████████████| 2641/2641 [00:00<00:00, 5396.00it/s]\n"
     ]
    },
    {
     "name": "stdout",
     "output_type": "stream",
     "text": [
      "인덱스 : 365 회사명 : 삼성출판사\n"
     ]
    },
    {
     "name": "stderr",
     "output_type": "stream",
     "text": [
      "100%|████████████████████████████████████████████████████████████████████████████| 1532/1532 [00:00<00:00, 4963.02it/s]\n"
     ]
    },
    {
     "name": "stdout",
     "output_type": "stream",
     "text": [
      "인덱스 : 366 회사명 : 삼성카드\n"
     ]
    },
    {
     "name": "stderr",
     "output_type": "stream",
     "text": [
      "100%|████████████████████████████████████████████████████████████████████████████| 1340/1340 [00:00<00:00, 5604.26it/s]\n"
     ]
    },
    {
     "name": "stdout",
     "output_type": "stream",
     "text": [
      "인덱스 : 367 회사명 : 삼성화재\n"
     ]
    },
    {
     "name": "stderr",
     "output_type": "stream",
     "text": [
      "100%|████████████████████████████████████████████████████████████████████████████████| 46/46 [00:00<00:00, 5354.93it/s]"
     ]
    },
    {
     "name": "stdout",
     "output_type": "stream",
     "text": [
      "인덱스 : 368 회사명 : 삼아알미늄\n"
     ]
    },
    {
     "name": "stderr",
     "output_type": "stream",
     "text": [
      "\n",
      "100%|██████████████████████████████████████████████████████████████████████████████| 946/946 [00:00<00:00, 5038.31it/s]\n"
     ]
    },
    {
     "name": "stdout",
     "output_type": "stream",
     "text": [
      "인덱스 : 369 회사명 : 삼양사\n"
     ]
    },
    {
     "name": "stderr",
     "output_type": "stream",
     "text": [
      "100%|██████████████████████████████████████████████████████████████████████████████| 628/628 [00:00<00:00, 5498.64it/s]\n"
     ]
    },
    {
     "name": "stdout",
     "output_type": "stream",
     "text": [
      "인덱스 : 370 회사명 : 삼양식품\n"
     ]
    },
    {
     "name": "stderr",
     "output_type": "stream",
     "text": [
      "100%|██████████████████████████████████████████████████████████████████████████████| 803/803 [00:00<00:00, 5578.14it/s]\n"
     ]
    },
    {
     "name": "stdout",
     "output_type": "stream",
     "text": [
      "인덱스 : 371 회사명 : 삼양통상\n"
     ]
    },
    {
     "name": "stderr",
     "output_type": "stream",
     "text": [
      "100%|██████████████████████████████████████████████████████████████████████████████| 588/588 [00:00<00:00, 5014.46it/s]\n"
     ]
    },
    {
     "name": "stdout",
     "output_type": "stream",
     "text": [
      "인덱스 : 372 회사명 : 삼양패키징\n"
     ]
    },
    {
     "name": "stderr",
     "output_type": "stream",
     "text": [
      "100%|██████████████████████████████████████████████████████████████████████████████| 815/815 [00:00<00:00, 5406.16it/s]\n"
     ]
    },
    {
     "name": "stdout",
     "output_type": "stream",
     "text": [
      "인덱스 : 373 회사명 : 삼양홀딩스\n"
     ]
    },
    {
     "name": "stderr",
     "output_type": "stream",
     "text": [
      "100%|██████████████████████████████████████████████████████████████████████████████| 251/251 [00:00<00:00, 5838.09it/s]\n"
     ]
    },
    {
     "name": "stdout",
     "output_type": "stream",
     "text": [
      "인덱스 : 374 회사명 : 삼영무역\n"
     ]
    },
    {
     "name": "stderr",
     "output_type": "stream",
     "text": [
      "100%|██████████████████████████████████████████████████████████████████████████████| 681/681 [00:00<00:00, 4977.13it/s]\n"
     ]
    },
    {
     "name": "stdout",
     "output_type": "stream",
     "text": [
      "인덱스 : 375 회사명 : 삼영전자\n"
     ]
    },
    {
     "name": "stderr",
     "output_type": "stream",
     "text": [
      "100%|██████████████████████████████████████████████████████████████████████████████| 632/632 [00:00<00:00, 5220.13it/s]\n"
     ]
    },
    {
     "name": "stdout",
     "output_type": "stream",
     "text": [
      "인덱스 : 376 회사명 : 삼영화학\n"
     ]
    },
    {
     "name": "stderr",
     "output_type": "stream",
     "text": [
      "100%|██████████████████████████████████████████████████████████████████████████████| 588/588 [00:00<00:00, 5399.85it/s]\n"
     ]
    },
    {
     "name": "stdout",
     "output_type": "stream",
     "text": [
      "인덱스 : 377 회사명 : 삼원강재\n"
     ]
    },
    {
     "name": "stderr",
     "output_type": "stream",
     "text": [
      "100%|██████████████████████████████████████████████████████████████████████████████| 462/462 [00:00<00:00, 5564.16it/s]\n"
     ]
    },
    {
     "name": "stdout",
     "output_type": "stream",
     "text": [
      "인덱스 : 378 회사명 : 삼익THK\n"
     ]
    },
    {
     "name": "stderr",
     "output_type": "stream",
     "text": [
      "100%|██████████████████████████████████████████████████████████████████████████████| 816/816 [00:00<00:00, 5167.37it/s]\n"
     ]
    },
    {
     "name": "stdout",
     "output_type": "stream",
     "text": [
      "인덱스 : 379 회사명 : 삼익악기\n"
     ]
    },
    {
     "name": "stderr",
     "output_type": "stream",
     "text": [
      "100%|██████████████████████████████████████████████████████████████████████████████| 853/853 [00:00<00:00, 5502.19it/s]\n"
     ]
    },
    {
     "name": "stdout",
     "output_type": "stream",
     "text": [
      "인덱스 : 380 회사명 : 삼일씨엔에스\n"
     ]
    },
    {
     "name": "stderr",
     "output_type": "stream",
     "text": [
      "100%|████████████████████████████████████████████████████████████████████████████████| 72/72 [00:00<00:00, 4503.75it/s]\n"
     ]
    },
    {
     "name": "stdout",
     "output_type": "stream",
     "text": [
      "인덱스 : 381 회사명 : 삼일제약\n"
     ]
    },
    {
     "name": "stderr",
     "output_type": "stream",
     "text": [
      "100%|████████████████████████████████████████████████████████████████████████████| 1518/1518 [00:00<00:00, 5225.17it/s]\n"
     ]
    },
    {
     "name": "stdout",
     "output_type": "stream",
     "text": [
      "인덱스 : 382 회사명 : 삼정펄프\n"
     ]
    },
    {
     "name": "stderr",
     "output_type": "stream",
     "text": [
      "100%|██████████████████████████████████████████████████████████████████████████████| 494/494 [00:00<00:00, 5095.95it/s]\n"
     ]
    },
    {
     "name": "stdout",
     "output_type": "stream",
     "text": [
      "인덱스 : 383 회사명 : 삼진제약\n"
     ]
    },
    {
     "name": "stderr",
     "output_type": "stream",
     "text": [
      "100%|████████████████████████████████████████████████████████████████████████████| 2039/2039 [00:00<00:00, 5349.00it/s]\n"
     ]
    },
    {
     "name": "stdout",
     "output_type": "stream",
     "text": [
      "인덱스 : 384 회사명 : 삼천리\n"
     ]
    },
    {
     "name": "stderr",
     "output_type": "stream",
     "text": [
      "100%|████████████████████████████████████████████████████████████████████████████| 2258/2258 [00:00<00:00, 5542.53it/s]\n"
     ]
    },
    {
     "name": "stdout",
     "output_type": "stream",
     "text": [
      "인덱스 : 385 회사명 : 삼호개발\n"
     ]
    },
    {
     "name": "stderr",
     "output_type": "stream",
     "text": [
      "100%|██████████████████████████████████████████████████████████████████████████████| 732/732 [00:00<00:00, 5189.33it/s]\n"
     ]
    },
    {
     "name": "stdout",
     "output_type": "stream",
     "text": [
      "인덱스 : 386 회사명 : 삼화왕관\n"
     ]
    },
    {
     "name": "stderr",
     "output_type": "stream",
     "text": [
      "100%|██████████████████████████████████████████████████████████████████████████████| 408/408 [00:00<00:00, 5135.79it/s]\n"
     ]
    },
    {
     "name": "stdout",
     "output_type": "stream",
     "text": [
      "인덱스 : 387 회사명 : 삼화전기\n"
     ]
    },
    {
     "name": "stderr",
     "output_type": "stream",
     "text": [
      "100%|██████████████████████████████████████████████████████████████████████████████| 999/999 [00:00<00:00, 5088.31it/s]\n"
     ]
    },
    {
     "name": "stdout",
     "output_type": "stream",
     "text": [
      "인덱스 : 388 회사명 : 삼화전자\n"
     ]
    },
    {
     "name": "stderr",
     "output_type": "stream",
     "text": [
      "100%|██████████████████████████████████████████████████████████████████████████████| 661/661 [00:00<00:00, 5459.02it/s]\n"
     ]
    },
    {
     "name": "stdout",
     "output_type": "stream",
     "text": [
      "인덱스 : 389 회사명 : 삼화콘덴서\n"
     ]
    },
    {
     "name": "stderr",
     "output_type": "stream",
     "text": [
      "100%|████████████████████████████████████████████████████████████████████████████| 1183/1183 [00:00<00:00, 4918.80it/s]\n"
     ]
    },
    {
     "name": "stdout",
     "output_type": "stream",
     "text": [
      "인덱스 : 390 회사명 : 삼화페인트\n"
     ]
    },
    {
     "name": "stderr",
     "output_type": "stream",
     "text": [
      "100%|████████████████████████████████████████████████████████████████████████████| 1608/1608 [00:00<00:00, 5339.27it/s]\n"
     ]
    },
    {
     "name": "stdout",
     "output_type": "stream",
     "text": [
      "인덱스 : 391 회사명 : 상상인증권\n"
     ]
    },
    {
     "name": "stderr",
     "output_type": "stream",
     "text": [
      "100%|██████████████████████████████████████████████████████████████████████████████| 780/780 [00:00<00:00, 4989.55it/s]\n"
     ]
    },
    {
     "name": "stdout",
     "output_type": "stream",
     "text": [
      "인덱스 : 392 회사명 : 상신브레이크\n"
     ]
    },
    {
     "name": "stderr",
     "output_type": "stream",
     "text": [
      "100%|██████████████████████████████████████████████████████████████████████████████| 655/655 [00:00<00:00, 5125.97it/s]\n"
     ]
    },
    {
     "name": "stdout",
     "output_type": "stream",
     "text": [
      "인덱스 : 393 회사명 : 새론오토모티브\n"
     ]
    },
    {
     "name": "stderr",
     "output_type": "stream",
     "text": [
      "100%|██████████████████████████████████████████████████████████████████████████████| 484/484 [00:00<00:00, 5179.41it/s]\n"
     ]
    },
    {
     "name": "stdout",
     "output_type": "stream",
     "text": [
      "인덱스 : 394 회사명 : 샘표\n"
     ]
    },
    {
     "name": "stderr",
     "output_type": "stream",
     "text": [
      "100%|██████████████████████████████████████████████████████████████████████████████| 794/794 [00:00<00:00, 5451.36it/s]\n"
     ]
    },
    {
     "name": "stdout",
     "output_type": "stream",
     "text": [
      "인덱스 : 395 회사명 : 샘표식품\n"
     ]
    },
    {
     "name": "stderr",
     "output_type": "stream",
     "text": [
      "100%|████████████████████████████████████████████████████████████████████████████| 1004/1004 [00:00<00:00, 5244.18it/s]\n"
     ]
    },
    {
     "name": "stdout",
     "output_type": "stream",
     "text": [
      "인덱스 : 396 회사명 : 서연\n"
     ]
    },
    {
     "name": "stderr",
     "output_type": "stream",
     "text": [
      "100%|████████████████████████████████████████████████████████████████████████████| 2853/2853 [00:00<00:00, 5208.02it/s]\n"
     ]
    },
    {
     "name": "stdout",
     "output_type": "stream",
     "text": [
      "인덱스 : 397 회사명 : 서연이화\n"
     ]
    },
    {
     "name": "stderr",
     "output_type": "stream",
     "text": [
      "100%|██████████████████████████████████████████████████████████████████████████████| 843/843 [00:00<00:00, 5160.75it/s]\n"
     ]
    },
    {
     "name": "stdout",
     "output_type": "stream",
     "text": [
      "인덱스 : 398 회사명 : 서울가스\n"
     ]
    },
    {
     "name": "stderr",
     "output_type": "stream",
     "text": [
      "100%|██████████████████████████████████████████████████████████████████████████████| 771/771 [00:00<00:00, 5425.35it/s]\n"
     ]
    },
    {
     "name": "stdout",
     "output_type": "stream",
     "text": [
      "인덱스 : 399 회사명 : 서울식품\n"
     ]
    },
    {
     "name": "stderr",
     "output_type": "stream",
     "text": [
      "100%|████████████████████████████████████████████████████████████████████████████████| 30/30 [00:00<00:00, 5881.24it/s]\n"
     ]
    },
    {
     "name": "stdout",
     "output_type": "stream",
     "text": [
      "인덱스 : 400 회사명 : 서원\n"
     ]
    },
    {
     "name": "stderr",
     "output_type": "stream",
     "text": [
      "100%|████████████████████████████████████████████████████████████████████████████| 3049/3049 [00:00<00:00, 5609.21it/s]\n"
     ]
    },
    {
     "name": "stdout",
     "output_type": "stream",
     "text": [
      "인덱스 : 401 회사명 : 서흥\n"
     ]
    },
    {
     "name": "stderr",
     "output_type": "stream",
     "text": [
      "100%|██████████████████████████████████████████████████████████████████████████████| 867/867 [00:00<00:00, 5540.84it/s]\n"
     ]
    },
    {
     "name": "stdout",
     "output_type": "stream",
     "text": [
      "인덱스 : 402 회사명 : 선도전기\n"
     ]
    },
    {
     "name": "stderr",
     "output_type": "stream",
     "text": [
      "100%|██████████████████████████████████████████████████████████████████████████████| 834/834 [00:00<00:00, 5187.54it/s]\n"
     ]
    },
    {
     "name": "stdout",
     "output_type": "stream",
     "text": [
      "인덱스 : 403 회사명 : 선진\n"
     ]
    },
    {
     "name": "stderr",
     "output_type": "stream",
     "text": [
      "100%|████████████████████████████████████████████████████████████████████████████| 5279/5279 [00:00<00:00, 5375.03it/s]\n"
     ]
    },
    {
     "name": "stdout",
     "output_type": "stream",
     "text": [
      "인덱스 : 404 회사명 : 성문전자\n"
     ]
    },
    {
     "name": "stderr",
     "output_type": "stream",
     "text": [
      "100%|████████████████████████████████████████████████████████████████████████████| 1202/1202 [00:00<00:00, 5351.22it/s]\n"
     ]
    },
    {
     "name": "stdout",
     "output_type": "stream",
     "text": [
      "인덱스 : 405 회사명 : 성보화학\n"
     ]
    },
    {
     "name": "stderr",
     "output_type": "stream",
     "text": [
      "100%|██████████████████████████████████████████████████████████████████████████████| 772/772 [00:00<00:00, 5405.52it/s]\n"
     ]
    },
    {
     "name": "stdout",
     "output_type": "stream",
     "text": [
      "인덱스 : 406 회사명 : 성신양회\n"
     ]
    },
    {
     "name": "stderr",
     "output_type": "stream",
     "text": [
      "100%|████████████████████████████████████████████████████████████████████████████| 1873/1873 [00:00<00:00, 5165.74it/s]\n"
     ]
    },
    {
     "name": "stdout",
     "output_type": "stream",
     "text": [
      "인덱스 : 407 회사명 : 성안\n"
     ]
    },
    {
     "name": "stderr",
     "output_type": "stream",
     "text": [
      "100%|████████████████████████████████████████████████████████████████████████████| 1567/1567 [00:00<00:00, 5709.41it/s]\n"
     ]
    },
    {
     "name": "stdout",
     "output_type": "stream",
     "text": [
      "인덱스 : 408 회사명 : 성창기업지주\n"
     ]
    },
    {
     "name": "stderr",
     "output_type": "stream",
     "text": [
      "100%|██████████████████████████████████████████████████████████████████████████████| 570/570 [00:00<00:00, 5077.94it/s]\n"
     ]
    },
    {
     "name": "stdout",
     "output_type": "stream",
     "text": [
      "인덱스 : 409 회사명 : 세기상사\n"
     ]
    },
    {
     "name": "stderr",
     "output_type": "stream",
     "text": [
      "100%|██████████████████████████████████████████████████████████████████████████████| 492/492 [00:00<00:00, 5311.77it/s]\n"
     ]
    },
    {
     "name": "stdout",
     "output_type": "stream",
     "text": [
      "인덱스 : 410 회사명 : 세방\n"
     ]
    },
    {
     "name": "stderr",
     "output_type": "stream",
     "text": [
      "100%|████████████████████████████████████████████████████████████████████████████| 2275/2275 [00:00<00:00, 5295.60it/s]\n"
     ]
    },
    {
     "name": "stdout",
     "output_type": "stream",
     "text": [
      "인덱스 : 411 회사명 : 세방전지\n"
     ]
    },
    {
     "name": "stderr",
     "output_type": "stream",
     "text": [
      "100%|██████████████████████████████████████████████████████████████████████████████| 913/913 [00:00<00:00, 5197.34it/s]\n"
     ]
    },
    {
     "name": "stdout",
     "output_type": "stream",
     "text": [
      "인덱스 : 412 회사명 : 세아베스틸지주\n"
     ]
    },
    {
     "name": "stderr",
     "output_type": "stream",
     "text": [
      "100%|████████████████████████████████████████████████████████████████████████████████| 14/14 [00:00<00:00, 4938.63it/s]\n"
     ]
    },
    {
     "name": "stdout",
     "output_type": "stream",
     "text": [
      "인덱스 : 413 회사명 : 세아제강\n"
     ]
    },
    {
     "name": "stderr",
     "output_type": "stream",
     "text": [
      "100%|████████████████████████████████████████████████████████████████████████████| 2125/2125 [00:00<00:00, 5171.55it/s]\n"
     ]
    },
    {
     "name": "stdout",
     "output_type": "stream",
     "text": [
      "인덱스 : 414 회사명 : 세아제강지주\n"
     ]
    },
    {
     "name": "stderr",
     "output_type": "stream",
     "text": [
      "100%|██████████████████████████████████████████████████████████████████████████████| 902/902 [00:00<00:00, 4926.06it/s]\n"
     ]
    },
    {
     "name": "stdout",
     "output_type": "stream",
     "text": [
      "인덱스 : 415 회사명 : 세아특수강\n"
     ]
    },
    {
     "name": "stderr",
     "output_type": "stream",
     "text": [
      "100%|██████████████████████████████████████████████████████████████████████████████| 484/484 [00:00<00:00, 5088.35it/s]\n"
     ]
    },
    {
     "name": "stdout",
     "output_type": "stream",
     "text": [
      "인덱스 : 416 회사명 : 세아홀딩스\n"
     ]
    },
    {
     "name": "stderr",
     "output_type": "stream",
     "text": [
      "100%|██████████████████████████████████████████████████████████████████████████████| 596/596 [00:00<00:00, 5164.29it/s]\n"
     ]
    },
    {
     "name": "stdout",
     "output_type": "stream",
     "text": [
      "인덱스 : 417 회사명 : 세우글로벌\n"
     ]
    },
    {
     "name": "stderr",
     "output_type": "stream",
     "text": [
      "100%|██████████████████████████████████████████████████████████████████████████████| 889/889 [00:00<00:00, 4990.97it/s]\n"
     ]
    },
    {
     "name": "stdout",
     "output_type": "stream",
     "text": [
      "인덱스 : 418 회사명 : 세원이앤씨\n"
     ]
    },
    {
     "name": "stderr",
     "output_type": "stream",
     "text": [
      "100%|██████████████████████████████████████████████████████████████████████████████| 153/153 [00:00<00:00, 4794.82it/s]\n"
     ]
    },
    {
     "name": "stdout",
     "output_type": "stream",
     "text": [
      "인덱스 : 419 회사명 : 세원정공\n"
     ]
    },
    {
     "name": "stderr",
     "output_type": "stream",
     "text": [
      "100%|██████████████████████████████████████████████████████████████████████████████| 202/202 [00:00<00:00, 5009.60it/s]\n"
     ]
    },
    {
     "name": "stdout",
     "output_type": "stream",
     "text": [
      "인덱스 : 420 회사명 : 세이브존I&C\n"
     ]
    },
    {
     "name": "stderr",
     "output_type": "stream",
     "text": [
      "100%|████████████████████████████████████████████████████████████████████████████████████████████| 3/3 [00:00<?, ?it/s]\n"
     ]
    },
    {
     "name": "stdout",
     "output_type": "stream",
     "text": [
      "인덱스 : 421 회사명 : 세종공업\n"
     ]
    },
    {
     "name": "stderr",
     "output_type": "stream",
     "text": [
      "100%|██████████████████████████████████████████████████████████████████████████████| 857/857 [00:00<00:00, 5227.81it/s]\n"
     ]
    },
    {
     "name": "stdout",
     "output_type": "stream",
     "text": [
      "인덱스 : 422 회사명 : 세진중공업\n"
     ]
    },
    {
     "name": "stderr",
     "output_type": "stream",
     "text": [
      "100%|████████████████████████████████████████████████████████████████████████████| 1109/1109 [00:00<00:00, 5276.66it/s]\n"
     ]
    },
    {
     "name": "stdout",
     "output_type": "stream",
     "text": [
      "인덱스 : 423 회사명 : 세하\n"
     ]
    },
    {
     "name": "stderr",
     "output_type": "stream",
     "text": [
      "100%|██████████████████████████████████████████████████████████████████████████████| 779/779 [00:00<00:00, 5238.16it/s]\n"
     ]
    },
    {
     "name": "stdout",
     "output_type": "stream",
     "text": [
      "인덱스 : 424 회사명 : 센트랄모텍\n"
     ]
    },
    {
     "name": "stderr",
     "output_type": "stream",
     "text": [
      "100%|██████████████████████████████████████████████████████████████████████████████| 832/832 [00:00<00:00, 4763.58it/s]\n"
     ]
    },
    {
     "name": "stdout",
     "output_type": "stream",
     "text": [
      "인덱스 : 425 회사명 : 센트럴인사이트\n"
     ]
    },
    {
     "name": "stderr",
     "output_type": "stream",
     "text": [
      "100%|██████████████████████████████████████████████████████████████████████████████| 176/176 [00:00<00:00, 6629.46it/s]\n"
     ]
    },
    {
     "name": "stdout",
     "output_type": "stream",
     "text": [
      "인덱스 : 426 회사명 : 셀트리온\n"
     ]
    },
    {
     "name": "stderr",
     "output_type": "stream",
     "text": [
      "100%|████████████████████████████████████████████████████████████████████████████| 4078/4078 [00:00<00:00, 5299.98it/s]\n"
     ]
    },
    {
     "name": "stdout",
     "output_type": "stream",
     "text": [
      "인덱스 : 427 회사명 : 솔루스첨단소재\n"
     ]
    },
    {
     "name": "stderr",
     "output_type": "stream",
     "text": [
      "100%|██████████████████████████████████████████████████████████████████████████████| 607/607 [00:00<00:00, 4681.72it/s]\n"
     ]
    },
    {
     "name": "stdout",
     "output_type": "stream",
     "text": [
      "인덱스 : 428 회사명 : 솔루엠\n"
     ]
    },
    {
     "name": "stderr",
     "output_type": "stream",
     "text": [
      "100%|██████████████████████████████████████████████████████████████████████████████| 570/570 [00:00<00:00, 5007.48it/s]\n"
     ]
    },
    {
     "name": "stdout",
     "output_type": "stream",
     "text": [
      "인덱스 : 429 회사명 : 송원산업\n"
     ]
    },
    {
     "name": "stderr",
     "output_type": "stream",
     "text": [
      "100%|████████████████████████████████████████████████████████████████████████████| 1093/1093 [00:00<00:00, 4976.74it/s]\n"
     ]
    },
    {
     "name": "stdout",
     "output_type": "stream",
     "text": [
      "인덱스 : 430 회사명 : 수산중공업\n"
     ]
    },
    {
     "name": "stderr",
     "output_type": "stream",
     "text": [
      "100%|████████████████████████████████████████████████████████████████████████████| 1151/1151 [00:00<00:00, 5026.96it/s]\n"
     ]
    },
    {
     "name": "stdout",
     "output_type": "stream",
     "text": [
      "인덱스 : 431 회사명 : 스카이라이프\n"
     ]
    },
    {
     "name": "stderr",
     "output_type": "stream",
     "text": [
      "100%|████████████████████████████████████████████████████████████████████████████| 2026/2026 [00:00<00:00, 5142.57it/s]\n"
     ]
    },
    {
     "name": "stdout",
     "output_type": "stream",
     "text": [
      "인덱스 : 432 회사명 : 스틱인베스트먼트\n"
     ]
    },
    {
     "name": "stderr",
     "output_type": "stream",
     "text": [
      "100%|██████████████████████████████████████████████████████████████████████████████| 127/127 [00:00<00:00, 5314.44it/s]\n"
     ]
    },
    {
     "name": "stdout",
     "output_type": "stream",
     "text": [
      "인덱스 : 433 회사명 : 시디즈\n"
     ]
    },
    {
     "name": "stderr",
     "output_type": "stream",
     "text": [
      "100%|████████████████████████████████████████████████████████████████████████████| 1224/1224 [00:00<00:00, 5070.75it/s]\n"
     ]
    },
    {
     "name": "stdout",
     "output_type": "stream",
     "text": [
      "인덱스 : 434 회사명 : 신대양제지\n"
     ]
    },
    {
     "name": "stderr",
     "output_type": "stream",
     "text": [
      "100%|██████████████████████████████████████████████████████████████████████████████| 736/736 [00:00<00:00, 5242.10it/s]\n"
     ]
    },
    {
     "name": "stdout",
     "output_type": "stream",
     "text": [
      "인덱스 : 435 회사명 : 신도리코\n"
     ]
    },
    {
     "name": "stderr",
     "output_type": "stream",
     "text": [
      "100%|████████████████████████████████████████████████████████████████████████████| 1096/1096 [00:00<00:00, 5555.52it/s]\n"
     ]
    },
    {
     "name": "stdout",
     "output_type": "stream",
     "text": [
      "인덱스 : 436 회사명 : 신라교역\n"
     ]
    },
    {
     "name": "stderr",
     "output_type": "stream",
     "text": [
      "100%|██████████████████████████████████████████████████████████████████████████████| 640/640 [00:00<00:00, 5126.89it/s]\n"
     ]
    },
    {
     "name": "stdout",
     "output_type": "stream",
     "text": [
      "인덱스 : 437 회사명 : 신성이엔지\n"
     ]
    },
    {
     "name": "stderr",
     "output_type": "stream",
     "text": [
      "100%|████████████████████████████████████████████████████████████████████████████| 2353/2353 [00:00<00:00, 5090.41it/s]\n"
     ]
    },
    {
     "name": "stdout",
     "output_type": "stream",
     "text": [
      "인덱스 : 438 회사명 : 신성통상\n"
     ]
    },
    {
     "name": "stderr",
     "output_type": "stream",
     "text": [
      "100%|████████████████████████████████████████████████████████████████████████████| 1862/1862 [00:00<00:00, 5102.42it/s]\n"
     ]
    },
    {
     "name": "stdout",
     "output_type": "stream",
     "text": [
      "인덱스 : 439 회사명 : 신세계 I&C\n"
     ]
    },
    {
     "name": "stderr",
     "output_type": "stream",
     "text": [
      "100%|██████████████████████████████████████████████████████████████████████████████| 438/438 [00:00<00:00, 5217.94it/s]\n"
     ]
    },
    {
     "name": "stdout",
     "output_type": "stream",
     "text": [
      "인덱스 : 440 회사명 : 신세계\n"
     ]
    },
    {
     "name": "stderr",
     "output_type": "stream",
     "text": [
      "100%|████████████████████████████████████████████████████████████████████████████| 7367/7367 [00:01<00:00, 5498.24it/s]\n"
     ]
    },
    {
     "name": "stdout",
     "output_type": "stream",
     "text": [
      "인덱스 : 441 회사명 : 신세계건설\n"
     ]
    },
    {
     "name": "stderr",
     "output_type": "stream",
     "text": [
      "100%|████████████████████████████████████████████████████████████████████████████| 1874/1874 [00:00<00:00, 5432.78it/s]\n"
     ]
    },
    {
     "name": "stdout",
     "output_type": "stream",
     "text": [
      "인덱스 : 442 회사명 : 신세계인터내셔날\n"
     ]
    },
    {
     "name": "stderr",
     "output_type": "stream",
     "text": [
      "100%|████████████████████████████████████████████████████████████████████████████| 2062/2062 [00:00<00:00, 4970.33it/s]\n"
     ]
    },
    {
     "name": "stdout",
     "output_type": "stream",
     "text": [
      "인덱스 : 443 회사명 : 신세계푸드\n"
     ]
    },
    {
     "name": "stderr",
     "output_type": "stream",
     "text": [
      "100%|██████████████████████████████████████████████████████████████████████████████| 544/544 [00:00<00:00, 5578.47it/s]\n"
     ]
    },
    {
     "name": "stdout",
     "output_type": "stream",
     "text": [
      "인덱스 : 444 회사명 : 신송홀딩스\n"
     ]
    },
    {
     "name": "stderr",
     "output_type": "stream",
     "text": [
      "100%|██████████████████████████████████████████████████████████████████████████████| 795/795 [00:00<00:00, 5042.69it/s]\n"
     ]
    },
    {
     "name": "stdout",
     "output_type": "stream",
     "text": [
      "인덱스 : 445 회사명 : 신영와코루\n"
     ]
    },
    {
     "name": "stderr",
     "output_type": "stream",
     "text": [
      "100%|██████████████████████████████████████████████████████████████████████████████| 492/492 [00:00<00:00, 5426.44it/s]\n"
     ]
    },
    {
     "name": "stdout",
     "output_type": "stream",
     "text": [
      "인덱스 : 446 회사명 : 신영증권\n"
     ]
    },
    {
     "name": "stderr",
     "output_type": "stream",
     "text": [
      "100%|████████████████████████████████████████████████████████████████████████████| 1830/1830 [00:00<00:00, 5670.25it/s]\n"
     ]
    },
    {
     "name": "stdout",
     "output_type": "stream",
     "text": [
      "인덱스 : 447 회사명 : 신원\n"
     ]
    },
    {
     "name": "stderr",
     "output_type": "stream",
     "text": [
      "100%|████████████████████████████████████████████████████████████████████████████| 3464/3464 [00:00<00:00, 5544.44it/s]\n"
     ]
    },
    {
     "name": "stdout",
     "output_type": "stream",
     "text": [
      "인덱스 : 448 회사명 : 신일전자\n"
     ]
    },
    {
     "name": "stderr",
     "output_type": "stream",
     "text": [
      "100%|██████████████████████████████████████████████████████████████████████████████| 501/501 [00:00<00:00, 5034.83it/s]\n"
     ]
    },
    {
     "name": "stdout",
     "output_type": "stream",
     "text": [
      "인덱스 : 449 회사명 : 신풍제약\n"
     ]
    },
    {
     "name": "stderr",
     "output_type": "stream",
     "text": [
      "100%|████████████████████████████████████████████████████████████████████████████| 1044/1044 [00:00<00:00, 5294.35it/s]\n"
     ]
    },
    {
     "name": "stdout",
     "output_type": "stream",
     "text": [
      "인덱스 : 450 회사명 : 신풍제지\n"
     ]
    },
    {
     "name": "stderr",
     "output_type": "stream",
     "text": [
      "100%|██████████████████████████████████████████████████████████████████████████████| 982/982 [00:00<00:00, 1778.89it/s]\n"
     ]
    },
    {
     "name": "stdout",
     "output_type": "stream",
     "text": [
      "인덱스 : 451 회사명 : 신한서부티엔디리츠\n"
     ]
    },
    {
     "name": "stderr",
     "output_type": "stream",
     "text": [
      "100%|████████████████████████████████████████████████████████████████████████████████| 42/42 [00:00<00:00, 6727.80it/s]"
     ]
    },
    {
     "name": "stdout",
     "output_type": "stream",
     "text": [
      "인덱스 : 452 회사명 : 신한알파리츠\n"
     ]
    },
    {
     "name": "stderr",
     "output_type": "stream",
     "text": [
      "\n",
      "100%|██████████████████████████████████████████████████████████████████████████████| 551/551 [00:00<00:00, 4959.20it/s]\n"
     ]
    },
    {
     "name": "stdout",
     "output_type": "stream",
     "text": [
      "인덱스 : 453 회사명 : 신한지주\n"
     ]
    },
    {
     "name": "stderr",
     "output_type": "stream",
     "text": [
      "100%|████████████████████████████████████████████████████████████████████████████| 1138/1138 [00:00<00:00, 4946.35it/s]\n"
     ]
    },
    {
     "name": "stdout",
     "output_type": "stream",
     "text": [
      "인덱스 : 454 회사명 : 신흥\n"
     ]
    },
    {
     "name": "stderr",
     "output_type": "stream",
     "text": [
      "100%|████████████████████████████████████████████████████████████████████████████| 5120/5120 [00:00<00:00, 5392.82it/s]\n"
     ]
    },
    {
     "name": "stdout",
     "output_type": "stream",
     "text": [
      "인덱스 : 455 회사명 : 쌍방울\n"
     ]
    },
    {
     "name": "stderr",
     "output_type": "stream",
     "text": [
      "100%|████████████████████████████████████████████████████████████████████████████| 2095/2095 [00:00<00:00, 5221.37it/s]\n"
     ]
    },
    {
     "name": "stdout",
     "output_type": "stream",
     "text": [
      "인덱스 : 456 회사명 : 쌍용C&E\n"
     ]
    },
    {
     "name": "stderr",
     "output_type": "stream",
     "text": [
      "100%|████████████████████████████████████████████████████████████████████████████████| 26/26 [00:00<00:00, 2783.50it/s]\n"
     ]
    },
    {
     "name": "stdout",
     "output_type": "stream",
     "text": [
      "인덱스 : 457 회사명 : 쌍용차\n"
     ]
    },
    {
     "name": "stderr",
     "output_type": "stream",
     "text": [
      "100%|████████████████████████████████████████████████████████████████████████████| 5459/5459 [00:00<00:00, 5511.87it/s]\n"
     ]
    },
    {
     "name": "stdout",
     "output_type": "stream",
     "text": [
      "인덱스 : 458 회사명 : 써니전자\n"
     ]
    },
    {
     "name": "stderr",
     "output_type": "stream",
     "text": [
      "100%|████████████████████████████████████████████████████████████████████████████| 1571/1571 [00:00<00:00, 4910.97it/s]\n"
     ]
    },
    {
     "name": "stdout",
     "output_type": "stream",
     "text": [
      "인덱스 : 459 회사명 : 쎌마테라퓨틱스\n"
     ]
    },
    {
     "name": "stderr",
     "output_type": "stream",
     "text": [
      "100%|██████████████████████████████████████████████████████████████████████████████| 262/262 [00:00<00:00, 5034.67it/s]\n"
     ]
    },
    {
     "name": "stdout",
     "output_type": "stream",
     "text": [
      "인덱스 : 460 회사명 : 씨아이테크\n"
     ]
    },
    {
     "name": "stderr",
     "output_type": "stream",
     "text": [
      "100%|██████████████████████████████████████████████████████████████████████████████| 752/752 [00:00<00:00, 5031.49it/s]\n"
     ]
    },
    {
     "name": "stdout",
     "output_type": "stream",
     "text": [
      "인덱스 : 461 회사명 : 씨에스윈드\n"
     ]
    },
    {
     "name": "stderr",
     "output_type": "stream",
     "text": [
      "100%|████████████████████████████████████████████████████████████████████████████| 2878/2878 [00:00<00:00, 4575.68it/s]\n"
     ]
    },
    {
     "name": "stdout",
     "output_type": "stream",
     "text": [
      "인덱스 : 462 회사명 : 아남전자\n"
     ]
    },
    {
     "name": "stderr",
     "output_type": "stream",
     "text": [
      "100%|██████████████████████████████████████████████████████████████████████████████| 895/895 [00:00<00:00, 5323.91it/s]\n"
     ]
    },
    {
     "name": "stdout",
     "output_type": "stream",
     "text": [
      "인덱스 : 463 회사명 : 아모레G\n"
     ]
    },
    {
     "name": "stderr",
     "output_type": "stream",
     "text": [
      "100%|████████████████████████████████████████████████████████████████████████████| 1413/1413 [00:00<00:00, 5021.79it/s]\n"
     ]
    },
    {
     "name": "stdout",
     "output_type": "stream",
     "text": [
      "인덱스 : 464 회사명 : 아모레퍼시픽\n"
     ]
    },
    {
     "name": "stderr",
     "output_type": "stream",
     "text": [
      "100%|████████████████████████████████████████████████████████████████████████████| 2955/2955 [00:00<00:00, 5352.84it/s]\n"
     ]
    },
    {
     "name": "stdout",
     "output_type": "stream",
     "text": [
      "인덱스 : 465 회사명 : 아모레퍼시픽G\n"
     ]
    },
    {
     "name": "stderr",
     "output_type": "stream",
     "text": [
      "100%|██████████████████████████████████████████████████████████████████████████████| 225/225 [00:00<00:00, 4946.24it/s]\n"
     ]
    },
    {
     "name": "stdout",
     "output_type": "stream",
     "text": [
      "인덱스 : 466 회사명 : 아세아\n"
     ]
    },
    {
     "name": "stderr",
     "output_type": "stream",
     "text": [
      "100%|████████████████████████████████████████████████████████████████████████████| 2703/2703 [00:00<00:00, 5136.84it/s]\n"
     ]
    },
    {
     "name": "stdout",
     "output_type": "stream",
     "text": [
      "인덱스 : 467 회사명 : 아세아시멘트\n"
     ]
    },
    {
     "name": "stderr",
     "output_type": "stream",
     "text": [
      "100%|████████████████████████████████████████████████████████████████████████████| 1409/1409 [00:00<00:00, 5158.31it/s]\n"
     ]
    },
    {
     "name": "stdout",
     "output_type": "stream",
     "text": [
      "인덱스 : 468 회사명 : 아세아제지\n"
     ]
    },
    {
     "name": "stderr",
     "output_type": "stream",
     "text": [
      "100%|████████████████████████████████████████████████████████████████████████████| 1149/1149 [00:00<00:00, 4711.69it/s]\n"
     ]
    },
    {
     "name": "stdout",
     "output_type": "stream",
     "text": [
      "인덱스 : 469 회사명 : 아센디오\n"
     ]
    },
    {
     "name": "stderr",
     "output_type": "stream",
     "text": [
      "100%|██████████████████████████████████████████████████████████████████████████████| 244/244 [00:00<00:00, 5093.92it/s]\n"
     ]
    },
    {
     "name": "stdout",
     "output_type": "stream",
     "text": [
      "인덱스 : 470 회사명 : 아시아나IDT\n"
     ]
    },
    {
     "name": "stderr",
     "output_type": "stream",
     "text": [
      "100%|████████████████████████████████████████████████████████████████████████████| 1180/1180 [00:00<00:00, 5107.12it/s]\n"
     ]
    },
    {
     "name": "stdout",
     "output_type": "stream",
     "text": [
      "인덱스 : 471 회사명 : 아시아나항공\n"
     ]
    },
    {
     "name": "stderr",
     "output_type": "stream",
     "text": [
      "100%|████████████████████████████████████████████████████████████████████████████| 1804/1804 [00:00<00:00, 5762.99it/s]\n"
     ]
    },
    {
     "name": "stdout",
     "output_type": "stream",
     "text": [
      "인덱스 : 472 회사명 : 아이마켓코리아\n"
     ]
    },
    {
     "name": "stderr",
     "output_type": "stream",
     "text": [
      "100%|██████████████████████████████████████████████████████████████████████████████| 788/788 [00:00<00:00, 5036.63it/s]\n"
     ]
    },
    {
     "name": "stdout",
     "output_type": "stream",
     "text": [
      "인덱스 : 473 회사명 : 아이에스동서\n"
     ]
    },
    {
     "name": "stderr",
     "output_type": "stream",
     "text": [
      "100%|████████████████████████████████████████████████████████████████████████████| 2420/2420 [00:00<00:00, 4865.19it/s]\n"
     ]
    },
    {
     "name": "stdout",
     "output_type": "stream",
     "text": [
      "인덱스 : 474 회사명 : 아주스틸\n"
     ]
    },
    {
     "name": "stderr",
     "output_type": "stream",
     "text": [
      "100%|██████████████████████████████████████████████████████████████████████████████| 327/327 [00:00<00:00, 5453.21it/s]\n"
     ]
    },
    {
     "name": "stdout",
     "output_type": "stream",
     "text": [
      "인덱스 : 475 회사명 : 알루코\n"
     ]
    },
    {
     "name": "stderr",
     "output_type": "stream",
     "text": [
      "100%|████████████████████████████████████████████████████████████████████████████| 1130/1130 [00:00<00:00, 4835.25it/s]\n"
     ]
    },
    {
     "name": "stdout",
     "output_type": "stream",
     "text": [
      "인덱스 : 476 회사명 : 애경산업\n"
     ]
    },
    {
     "name": "stderr",
     "output_type": "stream",
     "text": [
      "100%|████████████████████████████████████████████████████████████████████████████| 1335/1335 [00:00<00:00, 5528.50it/s]\n"
     ]
    },
    {
     "name": "stdout",
     "output_type": "stream",
     "text": [
      "인덱스 : 477 회사명 : 애경케미칼\n"
     ]
    },
    {
     "name": "stderr",
     "output_type": "stream",
     "text": [
      "100%|████████████████████████████████████████████████████████████████████████████████| 76/76 [00:00<00:00, 4063.21it/s]\n"
     ]
    },
    {
     "name": "stdout",
     "output_type": "stream",
     "text": [
      "인덱스 : 478 회사명 : 에넥스\n"
     ]
    },
    {
     "name": "stderr",
     "output_type": "stream",
     "text": [
      "100%|████████████████████████████████████████████████████████████████████████████| 1985/1985 [00:00<00:00, 5068.80it/s]\n"
     ]
    },
    {
     "name": "stdout",
     "output_type": "stream",
     "text": [
      "인덱스 : 479 회사명 : 에스디바이오센서\n"
     ]
    },
    {
     "name": "stderr",
     "output_type": "stream",
     "text": [
      "100%|████████████████████████████████████████████████████████████████████████████| 1049/1049 [00:00<00:00, 4528.35it/s]\n"
     ]
    },
    {
     "name": "stdout",
     "output_type": "stream",
     "text": [
      "인덱스 : 480 회사명 : 에스엘\n"
     ]
    },
    {
     "name": "stderr",
     "output_type": "stream",
     "text": [
      "100%|████████████████████████████████████████████████████████████████████████████| 1799/1799 [00:00<00:00, 5025.41it/s]\n"
     ]
    },
    {
     "name": "stdout",
     "output_type": "stream",
     "text": [
      "인덱스 : 481 회사명 : 에스엠벡셀\n"
     ]
    },
    {
     "name": "stderr",
     "output_type": "stream",
     "text": [
      "100%|████████████████████████████████████████████████████████████████████████████████| 11/11 [00:00<00:00, 3113.18it/s]\n"
     ]
    },
    {
     "name": "stdout",
     "output_type": "stream",
     "text": [
      "인덱스 : 482 회사명 : 에스원\n"
     ]
    },
    {
     "name": "stderr",
     "output_type": "stream",
     "text": [
      "100%|████████████████████████████████████████████████████████████████████████████| 2243/2243 [00:00<00:00, 5444.76it/s]\n"
     ]
    },
    {
     "name": "stdout",
     "output_type": "stream",
     "text": [
      "인덱스 : 483 회사명 : 에쓰씨엔지니어링\n"
     ]
    },
    {
     "name": "stderr",
     "output_type": "stream",
     "text": [
      "100%|██████████████████████████████████████████████████████████████████████████████| 755/755 [00:00<00:00, 5138.02it/s]\n"
     ]
    },
    {
     "name": "stdout",
     "output_type": "stream",
     "text": [
      "인덱스 : 484 회사명 : 에어부산\n"
     ]
    },
    {
     "name": "stderr",
     "output_type": "stream",
     "text": [
      "100%|██████████████████████████████████████████████████████████████████████████████| 918/918 [00:00<00:00, 5585.49it/s]\n"
     ]
    },
    {
     "name": "stdout",
     "output_type": "stream",
     "text": [
      "인덱스 : 485 회사명 : 에이리츠\n"
     ]
    },
    {
     "name": "stderr",
     "output_type": "stream",
     "text": [
      "100%|██████████████████████████████████████████████████████████████████████████████| 432/432 [00:00<00:00, 5354.27it/s]\n"
     ]
    },
    {
     "name": "stdout",
     "output_type": "stream",
     "text": [
      "인덱스 : 486 회사명 : 에이블씨엔씨\n"
     ]
    },
    {
     "name": "stderr",
     "output_type": "stream",
     "text": [
      "100%|██████████████████████████████████████████████████████████████████████████████| 230/230 [00:00<00:00, 5232.02it/s]\n"
     ]
    },
    {
     "name": "stdout",
     "output_type": "stream",
     "text": [
      "인덱스 : 487 회사명 : 에이엔피\n"
     ]
    },
    {
     "name": "stderr",
     "output_type": "stream",
     "text": [
      "100%|██████████████████████████████████████████████████████████████████████████████| 666/666 [00:00<00:00, 5227.69it/s]\n"
     ]
    },
    {
     "name": "stdout",
     "output_type": "stream",
     "text": [
      "인덱스 : 488 회사명 : 에이프로젠 MED\n"
     ]
    },
    {
     "name": "stderr",
     "output_type": "stream",
     "text": [
      "100%|████████████████████████████████████████████████████████████████████████████████| 25/25 [00:00<00:00, 2498.75it/s]\n"
     ]
    },
    {
     "name": "stdout",
     "output_type": "stream",
     "text": [
      "인덱스 : 489 회사명 : 에이프로젠제약\n"
     ]
    },
    {
     "name": "stderr",
     "output_type": "stream",
     "text": [
      "100%|████████████████████████████████████████████████████████████████████████████| 1827/1827 [00:00<00:00, 4617.13it/s]\n"
     ]
    },
    {
     "name": "stdout",
     "output_type": "stream",
     "text": [
      "인덱스 : 490 회사명 : 에이플러스에셋\n"
     ]
    },
    {
     "name": "stderr",
     "output_type": "stream",
     "text": [
      "100%|██████████████████████████████████████████████████████████████████████████████| 342/342 [00:00<00:00, 5600.62it/s]\n"
     ]
    },
    {
     "name": "stdout",
     "output_type": "stream",
     "text": [
      "인덱스 : 491 회사명 : 엔씨소프트\n"
     ]
    },
    {
     "name": "stderr",
     "output_type": "stream",
     "text": [
      "100%|████████████████████████████████████████████████████████████████████████████| 3128/3128 [00:00<00:00, 5129.92it/s]\n"
     ]
    },
    {
     "name": "stdout",
     "output_type": "stream",
     "text": [
      "인덱스 : 492 회사명 : 엔에이치스팩19호\n"
     ]
    },
    {
     "name": "stderr",
     "output_type": "stream",
     "text": [
      "100%|████████████████████████████████████████████████████████████████████████████████| 16/16 [00:00<00:00, 1759.96it/s]\n"
     ]
    },
    {
     "name": "stdout",
     "output_type": "stream",
     "text": [
      "인덱스 : 493 회사명 : 엔케이\n"
     ]
    },
    {
     "name": "stderr",
     "output_type": "stream",
     "text": [
      "100%|████████████████████████████████████████████████████████████████████████████| 2449/2449 [00:00<00:00, 5124.92it/s]\n"
     ]
    },
    {
     "name": "stdout",
     "output_type": "stream",
     "text": [
      "인덱스 : 494 회사명 : 엘브이엠씨홀딩스\n"
     ]
    },
    {
     "name": "stderr",
     "output_type": "stream",
     "text": [
      "100%|██████████████████████████████████████████████████████████████████████████████| 657/657 [00:00<00:00, 4567.78it/s]\n"
     ]
    },
    {
     "name": "stdout",
     "output_type": "stream",
     "text": [
      "인덱스 : 495 회사명 : 엠씨넥스\n"
     ]
    },
    {
     "name": "stderr",
     "output_type": "stream",
     "text": [
      "100%|████████████████████████████████████████████████████████████████████████████| 1367/1367 [00:00<00:00, 5109.85it/s]\n"
     ]
    },
    {
     "name": "stdout",
     "output_type": "stream",
     "text": [
      "인덱스 : 496 회사명 : 영보화학\n"
     ]
    },
    {
     "name": "stderr",
     "output_type": "stream",
     "text": [
      "100%|██████████████████████████████████████████████████████████████████████████████| 617/617 [00:00<00:00, 5240.12it/s]\n"
     ]
    },
    {
     "name": "stdout",
     "output_type": "stream",
     "text": [
      "인덱스 : 497 회사명 : 영원무역\n"
     ]
    },
    {
     "name": "stderr",
     "output_type": "stream",
     "text": [
      "100%|████████████████████████████████████████████████████████████████████████████| 2134/2134 [00:00<00:00, 5117.78it/s]\n"
     ]
    },
    {
     "name": "stdout",
     "output_type": "stream",
     "text": [
      "인덱스 : 498 회사명 : 영원무역홀딩스\n"
     ]
    },
    {
     "name": "stderr",
     "output_type": "stream",
     "text": [
      "100%|██████████████████████████████████████████████████████████████████████████████| 490/490 [00:00<00:00, 4723.21it/s]\n"
     ]
    },
    {
     "name": "stdout",
     "output_type": "stream",
     "text": [
      "인덱스 : 499 회사명 : 영진약품\n"
     ]
    },
    {
     "name": "stderr",
     "output_type": "stream",
     "text": [
      "100%|████████████████████████████████████████████████████████████████████████████| 1746/1746 [00:00<00:00, 5059.83it/s]\n"
     ]
    },
    {
     "name": "stdout",
     "output_type": "stream",
     "text": [
      "인덱스 : 500 회사명 : 영풍\n"
     ]
    },
    {
     "name": "stderr",
     "output_type": "stream",
     "text": [
      "100%|████████████████████████████████████████████████████████████████████████████| 2782/2782 [00:00<00:00, 5292.06it/s]\n"
     ]
    },
    {
     "name": "stdout",
     "output_type": "stream",
     "text": [
      "인덱스 : 501 회사명 : 영풍제지\n"
     ]
    },
    {
     "name": "stderr",
     "output_type": "stream",
     "text": [
      "100%|██████████████████████████████████████████████████████████████████████████████| 900/900 [00:00<00:00, 5125.97it/s]\n"
     ]
    },
    {
     "name": "stdout",
     "output_type": "stream",
     "text": [
      "인덱스 : 502 회사명 : 영화금속\n"
     ]
    },
    {
     "name": "stderr",
     "output_type": "stream",
     "text": [
      "100%|██████████████████████████████████████████████████████████████████████████████| 825/825 [00:00<00:00, 5353.13it/s]\n"
     ]
    },
    {
     "name": "stdout",
     "output_type": "stream",
     "text": [
      "인덱스 : 503 회사명 : 영흥\n"
     ]
    },
    {
     "name": "stderr",
     "output_type": "stream",
     "text": [
      "100%|████████████████████████████████████████████████████████████████████████████| 1547/1547 [00:00<00:00, 5603.20it/s]\n"
     ]
    },
    {
     "name": "stdout",
     "output_type": "stream",
     "text": [
      "인덱스 : 504 회사명 : 예스코홀딩스\n"
     ]
    },
    {
     "name": "stderr",
     "output_type": "stream",
     "text": [
      "100%|██████████████████████████████████████████████████████████████████████████████| 630/630 [00:00<00:00, 4949.96it/s]\n"
     ]
    },
    {
     "name": "stdout",
     "output_type": "stream",
     "text": [
      "인덱스 : 505 회사명 : 오뚜기\n"
     ]
    },
    {
     "name": "stderr",
     "output_type": "stream",
     "text": [
      "100%|████████████████████████████████████████████████████████████████████████████| 1852/1852 [00:00<00:00, 5551.93it/s]\n"
     ]
    },
    {
     "name": "stdout",
     "output_type": "stream",
     "text": [
      "인덱스 : 506 회사명 : 오리엔트바이오\n"
     ]
    },
    {
     "name": "stderr",
     "output_type": "stream",
     "text": [
      "100%|████████████████████████████████████████████████████████████████████████████| 1049/1049 [00:00<00:00, 4997.06it/s]\n"
     ]
    },
    {
     "name": "stdout",
     "output_type": "stream",
     "text": [
      "인덱스 : 507 회사명 : 오리온\n"
     ]
    },
    {
     "name": "stderr",
     "output_type": "stream",
     "text": [
      "100%|████████████████████████████████████████████████████████████████████████████| 2148/2148 [00:00<00:00, 5605.38it/s]\n"
     ]
    },
    {
     "name": "stdout",
     "output_type": "stream",
     "text": [
      "인덱스 : 508 회사명 : 오리온홀딩스\n"
     ]
    },
    {
     "name": "stderr",
     "output_type": "stream",
     "text": [
      "100%|██████████████████████████████████████████████████████████████████████████████| 128/128 [00:00<00:00, 5933.91it/s]\n"
     ]
    },
    {
     "name": "stdout",
     "output_type": "stream",
     "text": [
      "인덱스 : 509 회사명 : 와이투솔루션\n"
     ]
    },
    {
     "name": "stderr",
     "output_type": "stream",
     "text": [
      "100%|██████████████████████████████████████████████████████████████████████████████████| 9/9 [00:00<00:00, 4508.93it/s]\n"
     ]
    },
    {
     "name": "stdout",
     "output_type": "stream",
     "text": [
      "인덱스 : 510 회사명 : 용평리조트\n"
     ]
    },
    {
     "name": "stderr",
     "output_type": "stream",
     "text": [
      "100%|████████████████████████████████████████████████████████████████████████████| 1869/1869 [00:00<00:00, 5152.17it/s]\n"
     ]
    },
    {
     "name": "stdout",
     "output_type": "stream",
     "text": [
      "인덱스 : 511 회사명 : 우리금융지주\n"
     ]
    },
    {
     "name": "stderr",
     "output_type": "stream",
     "text": [
      "100%|██████████████████████████████████████████████████████████████████████████████| 716/716 [00:00<00:00, 5001.77it/s]\n"
     ]
    },
    {
     "name": "stdout",
     "output_type": "stream",
     "text": [
      "인덱스 : 512 회사명 : 우리종금\n"
     ]
    },
    {
     "name": "stderr",
     "output_type": "stream",
     "text": [
      "100%|████████████████████████████████████████████████████████████████████████████| 1146/1146 [00:00<00:00, 5203.15it/s]\n"
     ]
    },
    {
     "name": "stdout",
     "output_type": "stream",
     "text": [
      "인덱스 : 513 회사명 : 우성\n"
     ]
    },
    {
     "name": "stderr",
     "output_type": "stream",
     "text": [
      "100%|████████████████████████████████████████████████████████████████████████████| 1715/1715 [00:00<00:00, 5213.12it/s]\n"
     ]
    },
    {
     "name": "stdout",
     "output_type": "stream",
     "text": [
      "인덱스 : 514 회사명 : 우신시스템\n"
     ]
    },
    {
     "name": "stderr",
     "output_type": "stream",
     "text": [
      "100%|██████████████████████████████████████████████████████████████████████████████| 599/599 [00:00<00:00, 5140.29it/s]\n"
     ]
    },
    {
     "name": "stdout",
     "output_type": "stream",
     "text": [
      "인덱스 : 515 회사명 : 우진\n"
     ]
    },
    {
     "name": "stderr",
     "output_type": "stream",
     "text": [
      "100%|████████████████████████████████████████████████████████████████████████████| 2743/2743 [00:00<00:00, 5085.02it/s]\n"
     ]
    },
    {
     "name": "stdout",
     "output_type": "stream",
     "text": [
      "인덱스 : 516 회사명 : 우진아이엔에스\n"
     ]
    },
    {
     "name": "stderr",
     "output_type": "stream",
     "text": [
      "100%|██████████████████████████████████████████████████████████████████████████████| 583/583 [00:00<00:00, 4725.09it/s]\n"
     ]
    },
    {
     "name": "stdout",
     "output_type": "stream",
     "text": [
      "인덱스 : 517 회사명 : 우진플라임\n"
     ]
    },
    {
     "name": "stderr",
     "output_type": "stream",
     "text": [
      "100%|██████████████████████████████████████████████████████████████████████████████| 703/703 [00:00<00:00, 5048.51it/s]\n"
     ]
    },
    {
     "name": "stdout",
     "output_type": "stream",
     "text": [
      "인덱스 : 518 회사명 : 웅진\n"
     ]
    },
    {
     "name": "stderr",
     "output_type": "stream",
     "text": [
      "100%|████████████████████████████████████████████████████████████████████████████| 3048/3048 [00:00<00:00, 5353.68it/s]\n"
     ]
    },
    {
     "name": "stdout",
     "output_type": "stream",
     "text": [
      "인덱스 : 519 회사명 : 웅진씽크빅\n"
     ]
    },
    {
     "name": "stderr",
     "output_type": "stream",
     "text": [
      "100%|████████████████████████████████████████████████████████████████████████████| 2176/2176 [00:00<00:00, 5365.23it/s]\n"
     ]
    },
    {
     "name": "stdout",
     "output_type": "stream",
     "text": [
      "인덱스 : 520 회사명 : 원림\n"
     ]
    },
    {
     "name": "stderr",
     "output_type": "stream",
     "text": [
      "100%|██████████████████████████████████████████████████████████████████████████████| 735/735 [00:00<00:00, 5353.37it/s]\n"
     ]
    },
    {
     "name": "stdout",
     "output_type": "stream",
     "text": [
      "인덱스 : 521 회사명 : 웰바이오텍\n"
     ]
    },
    {
     "name": "stderr",
     "output_type": "stream",
     "text": [
      "100%|████████████████████████████████████████████████████████████████████████████| 1140/1140 [00:00<00:00, 5186.48it/s]\n"
     ]
    },
    {
     "name": "stdout",
     "output_type": "stream",
     "text": [
      "인덱스 : 522 회사명 : 윌비스\n"
     ]
    },
    {
     "name": "stderr",
     "output_type": "stream",
     "text": [
      "100%|██████████████████████████████████████████████████████████████████████████████| 996/996 [00:00<00:00, 5343.06it/s]\n"
     ]
    },
    {
     "name": "stdout",
     "output_type": "stream",
     "text": [
      "인덱스 : 523 회사명 : 유나이티드\n"
     ]
    },
    {
     "name": "stderr",
     "output_type": "stream",
     "text": [
      "100%|████████████████████████████████████████████████████████████████████████████| 1913/1913 [00:00<00:00, 5396.85it/s]\n"
     ]
    },
    {
     "name": "stdout",
     "output_type": "stream",
     "text": [
      "인덱스 : 524 회사명 : 유니드\n"
     ]
    },
    {
     "name": "stderr",
     "output_type": "stream",
     "text": [
      "100%|████████████████████████████████████████████████████████████████████████████| 1168/1168 [00:00<00:00, 5039.63it/s]\n"
     ]
    },
    {
     "name": "stdout",
     "output_type": "stream",
     "text": [
      "인덱스 : 525 회사명 : 유니온\n"
     ]
    },
    {
     "name": "stderr",
     "output_type": "stream",
     "text": [
      "100%|████████████████████████████████████████████████████████████████████████████| 2621/2621 [00:00<00:00, 5279.73it/s]\n"
     ]
    },
    {
     "name": "stdout",
     "output_type": "stream",
     "text": [
      "인덱스 : 526 회사명 : 유니온머티리얼\n"
     ]
    },
    {
     "name": "stderr",
     "output_type": "stream",
     "text": [
      "100%|████████████████████████████████████████████████████████████████████████████| 1129/1129 [00:00<00:00, 4982.81it/s]\n"
     ]
    },
    {
     "name": "stdout",
     "output_type": "stream",
     "text": [
      "인덱스 : 527 회사명 : 유니켐\n"
     ]
    },
    {
     "name": "stderr",
     "output_type": "stream",
     "text": [
      "100%|██████████████████████████████████████████████████████████████████████████████| 597/597 [00:00<00:00, 5151.77it/s]\n"
     ]
    },
    {
     "name": "stdout",
     "output_type": "stream",
     "text": [
      "인덱스 : 528 회사명 : 유니퀘스트\n"
     ]
    },
    {
     "name": "stderr",
     "output_type": "stream",
     "text": [
      "100%|██████████████████████████████████████████████████████████████████████████████| 792/792 [00:00<00:00, 5038.08it/s]\n"
     ]
    },
    {
     "name": "stdout",
     "output_type": "stream",
     "text": [
      "인덱스 : 529 회사명 : 유성기업\n"
     ]
    },
    {
     "name": "stderr",
     "output_type": "stream",
     "text": [
      "100%|████████████████████████████████████████████████████████████████████████████| 1613/1613 [00:00<00:00, 5431.92it/s]\n"
     ]
    },
    {
     "name": "stdout",
     "output_type": "stream",
     "text": [
      "인덱스 : 530 회사명 : 유수홀딩스\n"
     ]
    },
    {
     "name": "stderr",
     "output_type": "stream",
     "text": [
      "100%|██████████████████████████████████████████████████████████████████████████████| 894/894 [00:00<00:00, 5167.06it/s]\n"
     ]
    },
    {
     "name": "stdout",
     "output_type": "stream",
     "text": [
      "인덱스 : 531 회사명 : 유안타증권\n"
     ]
    },
    {
     "name": "stderr",
     "output_type": "stream",
     "text": [
      "100%|████████████████████████████████████████████████████████████████████████████| 2097/2097 [00:00<00:00, 5105.31it/s]\n"
     ]
    },
    {
     "name": "stdout",
     "output_type": "stream",
     "text": [
      "인덱스 : 532 회사명 : 유엔젤\n"
     ]
    },
    {
     "name": "stderr",
     "output_type": "stream",
     "text": [
      "100%|██████████████████████████████████████████████████████████████████████████████| 766/766 [00:00<00:00, 5141.92it/s]\n"
     ]
    },
    {
     "name": "stdout",
     "output_type": "stream",
     "text": [
      "인덱스 : 533 회사명 : 유유제약\n"
     ]
    },
    {
     "name": "stderr",
     "output_type": "stream",
     "text": [
      "100%|████████████████████████████████████████████████████████████████████████████| 2059/2059 [00:00<00:00, 5225.01it/s]\n"
     ]
    },
    {
     "name": "stdout",
     "output_type": "stream",
     "text": [
      "인덱스 : 534 회사명 : 유진증권\n"
     ]
    },
    {
     "name": "stderr",
     "output_type": "stream",
     "text": [
      "100%|████████████████████████████████████████████████████████████████████████████████| 69/69 [00:00<00:00, 3927.25it/s]\n"
     ]
    },
    {
     "name": "stdout",
     "output_type": "stream",
     "text": [
      "인덱스 : 535 회사명 : 유한양행\n"
     ]
    },
    {
     "name": "stderr",
     "output_type": "stream",
     "text": [
      "100%|██████████████████████████████████████████████████████████████████████████████| 976/976 [00:00<00:00, 5240.35it/s]\n"
     ]
    },
    {
     "name": "stdout",
     "output_type": "stream",
     "text": [
      "인덱스 : 536 회사명 : 유화증권\n"
     ]
    },
    {
     "name": "stderr",
     "output_type": "stream",
     "text": [
      "100%|████████████████████████████████████████████████████████████████████████████| 1091/1091 [00:00<00:00, 5097.33it/s]\n"
     ]
    },
    {
     "name": "stdout",
     "output_type": "stream",
     "text": [
      "인덱스 : 537 회사명 : 율촌화학\n"
     ]
    },
    {
     "name": "stderr",
     "output_type": "stream",
     "text": [
      "100%|██████████████████████████████████████████████████████████████████████████████| 691/691 [00:00<00:00, 5594.83it/s]\n"
     ]
    },
    {
     "name": "stdout",
     "output_type": "stream",
     "text": [
      "인덱스 : 538 회사명 : 이건산업\n"
     ]
    },
    {
     "name": "stderr",
     "output_type": "stream",
     "text": [
      "100%|████████████████████████████████████████████████████████████████████████████| 1105/1105 [00:00<00:00, 5230.97it/s]\n"
     ]
    },
    {
     "name": "stdout",
     "output_type": "stream",
     "text": [
      "인덱스 : 539 회사명 : 이구산업\n"
     ]
    },
    {
     "name": "stderr",
     "output_type": "stream",
     "text": [
      "100%|██████████████████████████████████████████████████████████████████████████████| 877/877 [00:00<00:00, 5199.31it/s]\n"
     ]
    },
    {
     "name": "stdout",
     "output_type": "stream",
     "text": [
      "인덱스 : 540 회사명 : 이노션\n"
     ]
    },
    {
     "name": "stderr",
     "output_type": "stream",
     "text": [
      "100%|██████████████████████████████████████████████████████████████████████████████| 590/590 [00:00<00:00, 5221.17it/s]\n"
     ]
    },
    {
     "name": "stdout",
     "output_type": "stream",
     "text": [
      "인덱스 : 541 회사명 : 이리츠코크렙\n"
     ]
    },
    {
     "name": "stderr",
     "output_type": "stream",
     "text": [
      "100%|██████████████████████████████████████████████████████████████████████████████| 573/573 [00:00<00:00, 4826.18it/s]\n"
     ]
    },
    {
     "name": "stdout",
     "output_type": "stream",
     "text": [
      "인덱스 : 542 회사명 : 이마트\n"
     ]
    },
    {
     "name": "stderr",
     "output_type": "stream",
     "text": [
      "100%|████████████████████████████████████████████████████████████████████████████| 5529/5529 [00:00<00:00, 5551.61it/s]\n"
     ]
    },
    {
     "name": "stdout",
     "output_type": "stream",
     "text": [
      "인덱스 : 543 회사명 : 이수페타시스\n"
     ]
    },
    {
     "name": "stderr",
     "output_type": "stream",
     "text": [
      "100%|████████████████████████████████████████████████████████████████████████████| 1217/1217 [00:00<00:00, 4839.68it/s]\n"
     ]
    },
    {
     "name": "stdout",
     "output_type": "stream",
     "text": [
      "인덱스 : 544 회사명 : 이수화학\n"
     ]
    },
    {
     "name": "stderr",
     "output_type": "stream",
     "text": [
      "100%|████████████████████████████████████████████████████████████████████████████| 1250/1250 [00:00<00:00, 5180.19it/s]\n"
     ]
    },
    {
     "name": "stdout",
     "output_type": "stream",
     "text": [
      "인덱스 : 545 회사명 : 이스타코\n"
     ]
    },
    {
     "name": "stderr",
     "output_type": "stream",
     "text": [
      "100%|██████████████████████████████████████████████████████████████████████████████| 803/803 [00:00<00:00, 5340.78it/s]\n"
     ]
    },
    {
     "name": "stdout",
     "output_type": "stream",
     "text": [
      "인덱스 : 546 회사명 : 이아이디\n"
     ]
    },
    {
     "name": "stderr",
     "output_type": "stream",
     "text": [
      "100%|████████████████████████████████████████████████████████████████████████████| 2663/2663 [00:00<00:00, 4798.16it/s]\n"
     ]
    },
    {
     "name": "stdout",
     "output_type": "stream",
     "text": [
      "인덱스 : 547 회사명 : 이엔플러스\n"
     ]
    },
    {
     "name": "stderr",
     "output_type": "stream",
     "text": [
      "100%|██████████████████████████████████████████████████████████████████████████████| 286/286 [00:00<00:00, 5581.24it/s]\n"
     ]
    },
    {
     "name": "stdout",
     "output_type": "stream",
     "text": [
      "인덱스 : 548 회사명 : 이연제약\n"
     ]
    },
    {
     "name": "stderr",
     "output_type": "stream",
     "text": [
      "100%|████████████████████████████████████████████████████████████████████████████| 1594/1594 [00:00<00:00, 5158.70it/s]\n"
     ]
    },
    {
     "name": "stdout",
     "output_type": "stream",
     "text": [
      "인덱스 : 549 회사명 : 이월드\n"
     ]
    },
    {
     "name": "stderr",
     "output_type": "stream",
     "text": [
      "100%|████████████████████████████████████████████████████████████████████████████| 2363/2363 [00:00<00:00, 5363.81it/s]\n"
     ]
    },
    {
     "name": "stdout",
     "output_type": "stream",
     "text": [
      "인덱스 : 550 회사명 : 이지스레지던스리츠\n"
     ]
    },
    {
     "name": "stderr",
     "output_type": "stream",
     "text": [
      "100%|████████████████████████████████████████████████████████████████████████████████| 45/45 [00:00<00:00, 4524.71it/s]"
     ]
    },
    {
     "name": "stdout",
     "output_type": "stream",
     "text": [
      "인덱스 : 551 회사명 : 이지스밸류리츠\n"
     ]
    },
    {
     "name": "stderr",
     "output_type": "stream",
     "text": [
      "\n",
      "100%|████████████████████████████████████████████████████████████████████████████████| 29/29 [00:00<00:00, 4845.82it/s]\n"
     ]
    },
    {
     "name": "stdout",
     "output_type": "stream",
     "text": [
      "인덱스 : 552 회사명 : 이화산업\n"
     ]
    },
    {
     "name": "stderr",
     "output_type": "stream",
     "text": [
      "100%|██████████████████████████████████████████████████████████████████████████████| 503/503 [00:00<00:00, 5475.44it/s]\n"
     ]
    },
    {
     "name": "stdout",
     "output_type": "stream",
     "text": [
      "인덱스 : 553 회사명 : 인디에프\n"
     ]
    },
    {
     "name": "stderr",
     "output_type": "stream",
     "text": [
      "100%|████████████████████████████████████████████████████████████████████████████| 1223/1223 [00:00<00:00, 4935.46it/s]\n"
     ]
    },
    {
     "name": "stdout",
     "output_type": "stream",
     "text": [
      "인덱스 : 554 회사명 : 인바이오젠\n"
     ]
    },
    {
     "name": "stderr",
     "output_type": "stream",
     "text": [
      "100%|██████████████████████████████████████████████████████████████████████████████| 246/246 [00:00<00:00, 4848.27it/s]\n"
     ]
    },
    {
     "name": "stdout",
     "output_type": "stream",
     "text": [
      "인덱스 : 555 회사명 : 인스코비\n"
     ]
    },
    {
     "name": "stderr",
     "output_type": "stream",
     "text": [
      "100%|████████████████████████████████████████████████████████████████████████████| 2004/2004 [00:00<00:00, 4922.25it/s]\n"
     ]
    },
    {
     "name": "stdout",
     "output_type": "stream",
     "text": [
      "인덱스 : 556 회사명 : 인지컨트롤스\n"
     ]
    },
    {
     "name": "stderr",
     "output_type": "stream",
     "text": [
      "100%|██████████████████████████████████████████████████████████████████████████████| 725/725 [00:00<00:00, 4910.74it/s]\n"
     ]
    },
    {
     "name": "stdout",
     "output_type": "stream",
     "text": [
      "인덱스 : 557 회사명 : 인천도시가스\n"
     ]
    },
    {
     "name": "stderr",
     "output_type": "stream",
     "text": [
      "100%|██████████████████████████████████████████████████████████████████████████████| 713/713 [00:00<00:00, 5539.84it/s]\n"
     ]
    },
    {
     "name": "stdout",
     "output_type": "stream",
     "text": [
      "인덱스 : 558 회사명 : 인터지스\n"
     ]
    },
    {
     "name": "stderr",
     "output_type": "stream",
     "text": [
      "100%|██████████████████████████████████████████████████████████████████████████████| 685/685 [00:00<00:00, 5124.50it/s]\n"
     ]
    },
    {
     "name": "stdout",
     "output_type": "stream",
     "text": [
      "인덱스 : 559 회사명 : 인팩\n"
     ]
    },
    {
     "name": "stderr",
     "output_type": "stream",
     "text": [
      "100%|██████████████████████████████████████████████████████████████████████████████| 694/694 [00:00<00:00, 5831.85it/s]\n"
     ]
    },
    {
     "name": "stdout",
     "output_type": "stream",
     "text": [
      "인덱스 : 560 회사명 : 일동제약\n"
     ]
    },
    {
     "name": "stderr",
     "output_type": "stream",
     "text": [
      "100%|████████████████████████████████████████████████████████████████████████████| 1753/1753 [00:00<00:00, 5222.13it/s]\n"
     ]
    },
    {
     "name": "stdout",
     "output_type": "stream",
     "text": [
      "인덱스 : 561 회사명 : 일동홀딩스\n"
     ]
    },
    {
     "name": "stderr",
     "output_type": "stream",
     "text": [
      "100%|████████████████████████████████████████████████████████████████████████████| 1103/1103 [00:00<00:00, 5110.08it/s]\n"
     ]
    },
    {
     "name": "stdout",
     "output_type": "stream",
     "text": [
      "인덱스 : 562 회사명 : 일성건설\n"
     ]
    },
    {
     "name": "stderr",
     "output_type": "stream",
     "text": [
      "100%|████████████████████████████████████████████████████████████████████████████| 1492/1492 [00:00<00:00, 4965.75it/s]\n"
     ]
    },
    {
     "name": "stdout",
     "output_type": "stream",
     "text": [
      "인덱스 : 563 회사명 : 일성신약\n"
     ]
    },
    {
     "name": "stderr",
     "output_type": "stream",
     "text": [
      "100%|██████████████████████████████████████████████████████████████████████████████| 767/767 [00:00<00:00, 5076.21it/s]\n"
     ]
    },
    {
     "name": "stdout",
     "output_type": "stream",
     "text": [
      "인덱스 : 564 회사명 : 일신방직\n"
     ]
    },
    {
     "name": "stderr",
     "output_type": "stream",
     "text": [
      "100%|██████████████████████████████████████████████████████████████████████████████| 664/664 [00:00<00:00, 5613.46it/s]\n"
     ]
    },
    {
     "name": "stdout",
     "output_type": "stream",
     "text": [
      "인덱스 : 565 회사명 : 일신석재\n"
     ]
    },
    {
     "name": "stderr",
     "output_type": "stream",
     "text": [
      "100%|████████████████████████████████████████████████████████████████████████████| 1031/1031 [00:00<00:00, 5074.79it/s]\n"
     ]
    },
    {
     "name": "stdout",
     "output_type": "stream",
     "text": [
      "인덱스 : 566 회사명 : 일양약품\n"
     ]
    },
    {
     "name": "stderr",
     "output_type": "stream",
     "text": [
      "100%|████████████████████████████████████████████████████████████████████████████| 2726/2726 [00:00<00:00, 5191.92it/s]\n"
     ]
    },
    {
     "name": "stdout",
     "output_type": "stream",
     "text": [
      "인덱스 : 567 회사명 : 일정실업\n"
     ]
    },
    {
     "name": "stderr",
     "output_type": "stream",
     "text": [
      "100%|██████████████████████████████████████████████████████████████████████████████| 495/495 [00:00<00:00, 5755.08it/s]\n"
     ]
    },
    {
     "name": "stdout",
     "output_type": "stream",
     "text": [
      "인덱스 : 568 회사명 : 일진다이아\n"
     ]
    },
    {
     "name": "stderr",
     "output_type": "stream",
     "text": [
      "100%|████████████████████████████████████████████████████████████████████████████| 1343/1343 [00:00<00:00, 4942.58it/s]\n"
     ]
    },
    {
     "name": "stdout",
     "output_type": "stream",
     "text": [
      "인덱스 : 569 회사명 : 일진디스플\n"
     ]
    },
    {
     "name": "stderr",
     "output_type": "stream",
     "text": [
      "100%|████████████████████████████████████████████████████████████████████████████| 1119/1119 [00:00<00:00, 4858.44it/s]\n"
     ]
    },
    {
     "name": "stdout",
     "output_type": "stream",
     "text": [
      "인덱스 : 570 회사명 : 일진머티리얼즈\n"
     ]
    },
    {
     "name": "stderr",
     "output_type": "stream",
     "text": [
      "100%|████████████████████████████████████████████████████████████████████████████| 1735/1735 [00:00<00:00, 4706.92it/s]\n"
     ]
    },
    {
     "name": "stdout",
     "output_type": "stream",
     "text": [
      "인덱스 : 571 회사명 : 일진전기\n"
     ]
    },
    {
     "name": "stderr",
     "output_type": "stream",
     "text": [
      "100%|████████████████████████████████████████████████████████████████████████████| 1132/1132 [00:00<00:00, 5152.29it/s]\n"
     ]
    },
    {
     "name": "stdout",
     "output_type": "stream",
     "text": [
      "인덱스 : 572 회사명 : 일진하이솔루스\n"
     ]
    },
    {
     "name": "stderr",
     "output_type": "stream",
     "text": [
      "100%|██████████████████████████████████████████████████████████████████████████████| 381/381 [00:00<00:00, 5514.92it/s]\n"
     ]
    },
    {
     "name": "stdout",
     "output_type": "stream",
     "text": [
      "인덱스 : 573 회사명 : 일진홀딩스\n"
     ]
    },
    {
     "name": "stderr",
     "output_type": "stream",
     "text": [
      "100%|████████████████████████████████████████████████████████████████████████████| 1027/1027 [00:00<00:00, 4951.70it/s]\n"
     ]
    },
    {
     "name": "stdout",
     "output_type": "stream",
     "text": [
      "인덱스 : 574 회사명 : 잇츠한불\n"
     ]
    },
    {
     "name": "stderr",
     "output_type": "stream",
     "text": [
      "100%|████████████████████████████████████████████████████████████████████████████| 1271/1271 [00:00<00:00, 5013.68it/s]\n"
     ]
    },
    {
     "name": "stdout",
     "output_type": "stream",
     "text": [
      "인덱스 : 575 회사명 : 자이에스앤디\n"
     ]
    },
    {
     "name": "stderr",
     "output_type": "stream",
     "text": [
      "100%|██████████████████████████████████████████████████████████████████████████████| 465/465 [00:00<00:00, 5256.39it/s]\n"
     ]
    },
    {
     "name": "stdout",
     "output_type": "stream",
     "text": [
      "인덱스 : 576 회사명 : 자화전자\n"
     ]
    },
    {
     "name": "stderr",
     "output_type": "stream",
     "text": [
      "100%|██████████████████████████████████████████████████████████████████████████████| 839/839 [00:00<00:00, 4895.77it/s]\n"
     ]
    },
    {
     "name": "stdout",
     "output_type": "stream",
     "text": [
      "인덱스 : 577 회사명 : 전방\n"
     ]
    },
    {
     "name": "stderr",
     "output_type": "stream",
     "text": [
      "100%|████████████████████████████████████████████████████████████████████████████| 1005/1005 [00:00<00:00, 5445.97it/s]\n"
     ]
    },
    {
     "name": "stdout",
     "output_type": "stream",
     "text": [
      "인덱스 : 578 회사명 : 제이알글로벌리츠\n"
     ]
    },
    {
     "name": "stderr",
     "output_type": "stream",
     "text": [
      "100%|██████████████████████████████████████████████████████████████████████████████| 100/100 [00:00<00:00, 5276.72it/s]\n"
     ]
    },
    {
     "name": "stdout",
     "output_type": "stream",
     "text": [
      "인덱스 : 579 회사명 : 제이에스코퍼레이션\n"
     ]
    },
    {
     "name": "stderr",
     "output_type": "stream",
     "text": [
      "100%|██████████████████████████████████████████████████████████████████████████████| 636/636 [00:00<00:00, 4906.04it/s]\n"
     ]
    },
    {
     "name": "stdout",
     "output_type": "stream",
     "text": [
      "인덱스 : 580 회사명 : 제이준코스메틱\n"
     ]
    },
    {
     "name": "stderr",
     "output_type": "stream",
     "text": [
      "100%|████████████████████████████████████████████████████████████████████████████| 1369/1369 [00:00<00:00, 4992.65it/s]\n"
     ]
    },
    {
     "name": "stdout",
     "output_type": "stream",
     "text": [
      "인덱스 : 581 회사명 : 제일기획\n"
     ]
    },
    {
     "name": "stderr",
     "output_type": "stream",
     "text": [
      "100%|████████████████████████████████████████████████████████████████████████████| 2977/2977 [00:00<00:00, 5170.85it/s]\n"
     ]
    },
    {
     "name": "stdout",
     "output_type": "stream",
     "text": [
      "인덱스 : 582 회사명 : 제일약품\n"
     ]
    },
    {
     "name": "stderr",
     "output_type": "stream",
     "text": [
      "100%|████████████████████████████████████████████████████████████████████████████| 2478/2478 [00:00<00:00, 4974.75it/s]\n"
     ]
    },
    {
     "name": "stdout",
     "output_type": "stream",
     "text": [
      "인덱스 : 583 회사명 : 제일연마\n"
     ]
    },
    {
     "name": "stderr",
     "output_type": "stream",
     "text": [
      "100%|██████████████████████████████████████████████████████████████████████████████| 512/512 [00:00<00:00, 5313.61it/s]\n"
     ]
    },
    {
     "name": "stdout",
     "output_type": "stream",
     "text": [
      "인덱스 : 584 회사명 : 제일파마홀딩스\n"
     ]
    },
    {
     "name": "stderr",
     "output_type": "stream",
     "text": [
      "100%|██████████████████████████████████████████████████████████████████████████████| 651/651 [00:00<00:00, 5036.54it/s]\n"
     ]
    },
    {
     "name": "stdout",
     "output_type": "stream",
     "text": [
      "인덱스 : 585 회사명 : 제주은행\n"
     ]
    },
    {
     "name": "stderr",
     "output_type": "stream",
     "text": [
      "100%|████████████████████████████████████████████████████████████████████████████| 2373/2373 [00:00<00:00, 5637.00it/s]\n"
     ]
    },
    {
     "name": "stdout",
     "output_type": "stream",
     "text": [
      "인덱스 : 586 회사명 : 제주항공\n"
     ]
    },
    {
     "name": "stderr",
     "output_type": "stream",
     "text": [
      "100%|████████████████████████████████████████████████████████████████████████████| 1774/1774 [00:00<00:00, 5924.93it/s]\n"
     ]
    },
    {
     "name": "stdout",
     "output_type": "stream",
     "text": [
      "인덱스 : 587 회사명 : 조광페인트\n"
     ]
    },
    {
     "name": "stderr",
     "output_type": "stream",
     "text": [
      "100%|██████████████████████████████████████████████████████████████████████████████| 760/760 [00:00<00:00, 5541.18it/s]\n"
     ]
    },
    {
     "name": "stdout",
     "output_type": "stream",
     "text": [
      "인덱스 : 588 회사명 : 조광피혁\n"
     ]
    },
    {
     "name": "stderr",
     "output_type": "stream",
     "text": [
      "100%|██████████████████████████████████████████████████████████████████████████████| 497/497 [00:00<00:00, 5513.80it/s]\n"
     ]
    },
    {
     "name": "stdout",
     "output_type": "stream",
     "text": [
      "인덱스 : 589 회사명 : 조비\n"
     ]
    },
    {
     "name": "stderr",
     "output_type": "stream",
     "text": [
      "100%|██████████████████████████████████████████████████████████████████████████████| 220/220 [00:00<00:00, 5932.04it/s]\n"
     ]
    },
    {
     "name": "stdout",
     "output_type": "stream",
     "text": [
      "인덱스 : 590 회사명 : 조선내화\n"
     ]
    },
    {
     "name": "stderr",
     "output_type": "stream",
     "text": [
      "100%|██████████████████████████████████████████████████████████████████████████████| 622/622 [00:00<00:00, 5195.94it/s]\n"
     ]
    },
    {
     "name": "stdout",
     "output_type": "stream",
     "text": [
      "인덱스 : 591 회사명 : 조선선재\n"
     ]
    },
    {
     "name": "stderr",
     "output_type": "stream",
     "text": [
      "100%|██████████████████████████████████████████████████████████████████████████████| 568/568 [00:00<00:00, 5131.02it/s]\n"
     ]
    },
    {
     "name": "stdout",
     "output_type": "stream",
     "text": [
      "인덱스 : 592 회사명 : 조일알미늄\n"
     ]
    },
    {
     "name": "stderr",
     "output_type": "stream",
     "text": [
      "100%|██████████████████████████████████████████████████████████████████████████████| 803/803 [00:00<00:00, 4901.63it/s]\n"
     ]
    },
    {
     "name": "stdout",
     "output_type": "stream",
     "text": [
      "인덱스 : 593 회사명 : 조흥\n"
     ]
    },
    {
     "name": "stderr",
     "output_type": "stream",
     "text": [
      "100%|██████████████████████████████████████████████████████████████████████████████| 488/488 [00:00<00:00, 5577.70it/s]\n"
     ]
    },
    {
     "name": "stdout",
     "output_type": "stream",
     "text": [
      "인덱스 : 594 회사명 : 종근당\n"
     ]
    },
    {
     "name": "stderr",
     "output_type": "stream",
     "text": [
      "100%|████████████████████████████████████████████████████████████████████████████| 2226/2226 [00:00<00:00, 5183.52it/s]\n"
     ]
    },
    {
     "name": "stdout",
     "output_type": "stream",
     "text": [
      "인덱스 : 595 회사명 : 종근당바이오\n"
     ]
    },
    {
     "name": "stderr",
     "output_type": "stream",
     "text": [
      "100%|██████████████████████████████████████████████████████████████████████████████| 200/200 [00:00<00:00, 4941.16it/s]\n"
     ]
    },
    {
     "name": "stdout",
     "output_type": "stream",
     "text": [
      "인덱스 : 596 회사명 : 종근당홀딩스\n"
     ]
    },
    {
     "name": "stderr",
     "output_type": "stream",
     "text": [
      "100%|██████████████████████████████████████████████████████████████████████████████| 157/157 [00:00<00:00, 5324.10it/s]\n"
     ]
    },
    {
     "name": "stdout",
     "output_type": "stream",
     "text": [
      "인덱스 : 597 회사명 : 주연테크\n"
     ]
    },
    {
     "name": "stderr",
     "output_type": "stream",
     "text": [
      "100%|████████████████████████████████████████████████████████████████████████████| 1692/1692 [00:00<00:00, 5191.71it/s]\n"
     ]
    },
    {
     "name": "stdout",
     "output_type": "stream",
     "text": [
      "인덱스 : 598 회사명 : 지누스\n"
     ]
    },
    {
     "name": "stderr",
     "output_type": "stream",
     "text": [
      "100%|████████████████████████████████████████████████████████████████████████████| 1034/1034 [00:00<00:00, 5174.20it/s]\n"
     ]
    },
    {
     "name": "stdout",
     "output_type": "stream",
     "text": [
      "인덱스 : 599 회사명 : 지엠비코리아\n"
     ]
    },
    {
     "name": "stderr",
     "output_type": "stream",
     "text": [
      "100%|██████████████████████████████████████████████████████████████████████████████| 739/739 [00:00<00:00, 4837.60it/s]\n"
     ]
    },
    {
     "name": "stdout",
     "output_type": "stream",
     "text": [
      "인덱스 : 600 회사명 : 지역난방공사\n"
     ]
    },
    {
     "name": "stderr",
     "output_type": "stream",
     "text": [
      "100%|████████████████████████████████████████████████████████████████████████████| 2670/2670 [00:00<00:00, 5363.99it/s]\n"
     ]
    },
    {
     "name": "stdout",
     "output_type": "stream",
     "text": [
      "인덱스 : 601 회사명 : 지투알\n"
     ]
    },
    {
     "name": "stderr",
     "output_type": "stream",
     "text": [
      "100%|██████████████████████████████████████████████████████████████████████████████| 616/616 [00:00<00:00, 5301.04it/s]\n"
     ]
    },
    {
     "name": "stdout",
     "output_type": "stream",
     "text": [
      "인덱스 : 602 회사명 : 진도\n"
     ]
    },
    {
     "name": "stderr",
     "output_type": "stream",
     "text": [
      "100%|████████████████████████████████████████████████████████████████████████████| 2872/2872 [00:00<00:00, 5932.85it/s]\n"
     ]
    },
    {
     "name": "stdout",
     "output_type": "stream",
     "text": [
      "인덱스 : 603 회사명 : 진양산업\n"
     ]
    },
    {
     "name": "stderr",
     "output_type": "stream",
     "text": [
      "100%|██████████████████████████████████████████████████████████████████████████████| 859/859 [00:00<00:00, 5288.11it/s]\n"
     ]
    },
    {
     "name": "stdout",
     "output_type": "stream",
     "text": [
      "인덱스 : 604 회사명 : 진양폴리\n"
     ]
    },
    {
     "name": "stderr",
     "output_type": "stream",
     "text": [
      "100%|██████████████████████████████████████████████████████████████████████████████| 552/552 [00:00<00:00, 5288.95it/s]\n"
     ]
    },
    {
     "name": "stdout",
     "output_type": "stream",
     "text": [
      "인덱스 : 605 회사명 : 진양홀딩스\n"
     ]
    },
    {
     "name": "stderr",
     "output_type": "stream",
     "text": [
      "100%|██████████████████████████████████████████████████████████████████████████████| 423/423 [00:00<00:00, 5463.10it/s]\n"
     ]
    },
    {
     "name": "stdout",
     "output_type": "stream",
     "text": [
      "인덱스 : 606 회사명 : 진양화학\n"
     ]
    },
    {
     "name": "stderr",
     "output_type": "stream",
     "text": [
      "100%|██████████████████████████████████████████████████████████████████████████████| 794/794 [00:00<00:00, 5499.47it/s]\n"
     ]
    },
    {
     "name": "stdout",
     "output_type": "stream",
     "text": [
      "인덱스 : 607 회사명 : 진에어\n"
     ]
    },
    {
     "name": "stderr",
     "output_type": "stream",
     "text": [
      "100%|████████████████████████████████████████████████████████████████████████████| 2801/2801 [00:00<00:00, 5748.91it/s]\n"
     ]
    },
    {
     "name": "stdout",
     "output_type": "stream",
     "text": [
      "인덱스 : 608 회사명 : 진원생명과학\n"
     ]
    },
    {
     "name": "stderr",
     "output_type": "stream",
     "text": [
      "100%|████████████████████████████████████████████████████████████████████████████| 2995/2995 [00:00<00:00, 4900.40it/s]\n"
     ]
    },
    {
     "name": "stdout",
     "output_type": "stream",
     "text": [
      "인덱스 : 609 회사명 : 진흥기업\n"
     ]
    },
    {
     "name": "stderr",
     "output_type": "stream",
     "text": [
      "100%|████████████████████████████████████████████████████████████████████████████| 1921/1921 [00:00<00:00, 5188.96it/s]\n"
     ]
    },
    {
     "name": "stdout",
     "output_type": "stream",
     "text": [
      "인덱스 : 610 회사명 : 참엔지니어링\n"
     ]
    },
    {
     "name": "stderr",
     "output_type": "stream",
     "text": [
      "100%|██████████████████████████████████████████████████████████████████████████████| 801/801 [00:00<00:00, 5148.92it/s]\n"
     ]
    },
    {
     "name": "stdout",
     "output_type": "stream",
     "text": [
      "인덱스 : 611 회사명 : 천일고속\n"
     ]
    },
    {
     "name": "stderr",
     "output_type": "stream",
     "text": [
      "100%|██████████████████████████████████████████████████████████████████████████████| 544/544 [00:00<00:00, 5071.32it/s]\n"
     ]
    },
    {
     "name": "stdout",
     "output_type": "stream",
     "text": [
      "인덱스 : 612 회사명 : 체시스\n"
     ]
    },
    {
     "name": "stderr",
     "output_type": "stream",
     "text": [
      "100%|██████████████████████████████████████████████████████████████████████████████| 955/955 [00:00<00:00, 5146.67it/s]\n"
     ]
    },
    {
     "name": "stdout",
     "output_type": "stream",
     "text": [
      "인덱스 : 613 회사명 : 초록뱀헬스케어\n"
     ]
    },
    {
     "name": "stderr",
     "output_type": "stream",
     "text": [
      "100%|██████████████████████████████████████████████████████████████████████████████████| 7/7 [00:00<00:00, 3407.63it/s]\n"
     ]
    },
    {
     "name": "stdout",
     "output_type": "stream",
     "text": [
      "인덱스 : 614 회사명 : 카카오\n"
     ]
    },
    {
     "name": "stderr",
     "output_type": "stream",
     "text": [
      "100%|██████████████████████████████████████████████████████████████████████████| 10996/10996 [00:02<00:00, 5414.02it/s]\n"
     ]
    },
    {
     "name": "stdout",
     "output_type": "stream",
     "text": [
      "인덱스 : 615 회사명 : 카카오뱅크\n"
     ]
    },
    {
     "name": "stderr",
     "output_type": "stream",
     "text": [
      "100%|████████████████████████████████████████████████████████████████████████████| 1689/1689 [00:00<00:00, 5383.39it/s]\n"
     ]
    },
    {
     "name": "stdout",
     "output_type": "stream",
     "text": [
      "인덱스 : 616 회사명 : 카카오페이\n"
     ]
    },
    {
     "name": "stderr",
     "output_type": "stream",
     "text": [
      "100%|████████████████████████████████████████████████████████████████████████████| 1667/1667 [00:00<00:00, 5503.78it/s]\n"
     ]
    },
    {
     "name": "stdout",
     "output_type": "stream",
     "text": [
      "인덱스 : 617 회사명 : 카프로\n"
     ]
    },
    {
     "name": "stderr",
     "output_type": "stream",
     "text": [
      "100%|██████████████████████████████████████████████████████████████████████████████| 810/810 [00:00<00:00, 5422.83it/s]\n"
     ]
    },
    {
     "name": "stdout",
     "output_type": "stream",
     "text": [
      "인덱스 : 618 회사명 : 컨버즈\n"
     ]
    },
    {
     "name": "stderr",
     "output_type": "stream",
     "text": [
      "100%|██████████████████████████████████████████████████████████████████████████████| 474/474 [00:00<00:00, 5005.48it/s]\n"
     ]
    },
    {
     "name": "stdout",
     "output_type": "stream",
     "text": [
      "인덱스 : 619 회사명 : 케이비아이동국실업\n"
     ]
    },
    {
     "name": "stderr",
     "output_type": "stream",
     "text": [
      "100%|██████████████████████████████████████████████████████████████████████████████| 342/342 [00:00<00:00, 4757.43it/s]\n"
     ]
    },
    {
     "name": "stdout",
     "output_type": "stream",
     "text": [
      "인덱스 : 620 회사명 : 케이씨\n"
     ]
    },
    {
     "name": "stderr",
     "output_type": "stream",
     "text": [
      "100%|████████████████████████████████████████████████████████████████████████████| 1025/1025 [00:00<00:00, 5288.38it/s]\n"
     ]
    },
    {
     "name": "stdout",
     "output_type": "stream",
     "text": [
      "인덱스 : 621 회사명 : 케이씨텍\n"
     ]
    },
    {
     "name": "stderr",
     "output_type": "stream",
     "text": [
      "100%|██████████████████████████████████████████████████████████████████████████████| 899/899 [00:00<00:00, 5114.98it/s]\n"
     ]
    },
    {
     "name": "stdout",
     "output_type": "stream",
     "text": [
      "인덱스 : 622 회사명 : 케이카\n"
     ]
    },
    {
     "name": "stderr",
     "output_type": "stream",
     "text": [
      "100%|████████████████████████████████████████████████████████████████████████████| 1270/1270 [00:00<00:00, 5596.97it/s]\n"
     ]
    },
    {
     "name": "stdout",
     "output_type": "stream",
     "text": [
      "인덱스 : 623 회사명 : 케이탑리츠\n"
     ]
    },
    {
     "name": "stderr",
     "output_type": "stream",
     "text": [
      "100%|██████████████████████████████████████████████████████████████████████████████| 442/442 [00:00<00:00, 5740.02it/s]\n"
     ]
    },
    {
     "name": "stdout",
     "output_type": "stream",
     "text": [
      "인덱스 : 624 회사명 : 코람코더원리츠\n"
     ]
    },
    {
     "name": "stderr",
     "output_type": "stream",
     "text": [
      "100%|████████████████████████████████████████████████████████████████████████████████| 57/57 [00:00<00:00, 4751.01it/s]\n"
     ]
    },
    {
     "name": "stdout",
     "output_type": "stream",
     "text": [
      "인덱스 : 625 회사명 : 코람코에너지리츠\n"
     ]
    },
    {
     "name": "stderr",
     "output_type": "stream",
     "text": [
      "100%|██████████████████████████████████████████████████████████████████████████████| 143/143 [00:00<00:00, 5290.23it/s]\n"
     ]
    },
    {
     "name": "stdout",
     "output_type": "stream",
     "text": [
      "인덱스 : 626 회사명 : 코리아써키트\n"
     ]
    },
    {
     "name": "stderr",
     "output_type": "stream",
     "text": [
      "100%|████████████████████████████████████████████████████████████████████████████| 1368/1368 [00:00<00:00, 4840.40it/s]\n"
     ]
    },
    {
     "name": "stdout",
     "output_type": "stream",
     "text": [
      "인덱스 : 627 회사명 : 코리안리\n"
     ]
    },
    {
     "name": "stderr",
     "output_type": "stream",
     "text": [
      "100%|████████████████████████████████████████████████████████████████████████████| 1676/1676 [00:00<00:00, 5245.08it/s]\n"
     ]
    },
    {
     "name": "stdout",
     "output_type": "stream",
     "text": [
      "인덱스 : 628 회사명 : 코스맥스\n"
     ]
    },
    {
     "name": "stderr",
     "output_type": "stream",
     "text": [
      "100%|████████████████████████████████████████████████████████████████████████████| 2766/2766 [00:00<00:00, 5208.90it/s]\n"
     ]
    },
    {
     "name": "stdout",
     "output_type": "stream",
     "text": [
      "인덱스 : 629 회사명 : 코스맥스비티아이\n"
     ]
    },
    {
     "name": "stderr",
     "output_type": "stream",
     "text": [
      "100%|██████████████████████████████████████████████████████████████████████████████| 546/546 [00:00<00:00, 4798.45it/s]\n"
     ]
    },
    {
     "name": "stdout",
     "output_type": "stream",
     "text": [
      "인덱스 : 630 회사명 : 코스모신소재\n"
     ]
    },
    {
     "name": "stderr",
     "output_type": "stream",
     "text": [
      "100%|████████████████████████████████████████████████████████████████████████████| 1851/1851 [00:00<00:00, 4886.29it/s]\n"
     ]
    },
    {
     "name": "stdout",
     "output_type": "stream",
     "text": [
      "인덱스 : 631 회사명 : 코스모화학\n"
     ]
    },
    {
     "name": "stderr",
     "output_type": "stream",
     "text": [
      "100%|████████████████████████████████████████████████████████████████████████████| 1328/1328 [00:00<00:00, 4890.74it/s]\n"
     ]
    },
    {
     "name": "stdout",
     "output_type": "stream",
     "text": [
      "인덱스 : 632 회사명 : 코아스\n"
     ]
    },
    {
     "name": "stderr",
     "output_type": "stream",
     "text": [
      "100%|████████████████████████████████████████████████████████████████████████████| 1283/1283 [00:00<00:00, 5267.37it/s]\n"
     ]
    },
    {
     "name": "stdout",
     "output_type": "stream",
     "text": [
      "인덱스 : 633 회사명 : 코오롱\n"
     ]
    },
    {
     "name": "stderr",
     "output_type": "stream",
     "text": [
      "100%|████████████████████████████████████████████████████████████████████████████| 3920/3920 [00:00<00:00, 5448.00it/s]\n"
     ]
    },
    {
     "name": "stdout",
     "output_type": "stream",
     "text": [
      "인덱스 : 634 회사명 : 코오롱글로벌\n"
     ]
    },
    {
     "name": "stderr",
     "output_type": "stream",
     "text": [
      "100%|████████████████████████████████████████████████████████████████████████████| 2395/2395 [00:00<00:00, 5138.53it/s]\n"
     ]
    },
    {
     "name": "stdout",
     "output_type": "stream",
     "text": [
      "인덱스 : 635 회사명 : 코오롱인더\n"
     ]
    },
    {
     "name": "stderr",
     "output_type": "stream",
     "text": [
      "100%|████████████████████████████████████████████████████████████████████████████| 2860/2860 [00:00<00:00, 5104.12it/s]\n"
     ]
    },
    {
     "name": "stdout",
     "output_type": "stream",
     "text": [
      "인덱스 : 636 회사명 : 코오롱플라스틱\n"
     ]
    },
    {
     "name": "stderr",
     "output_type": "stream",
     "text": [
      "100%|████████████████████████████████████████████████████████████████████████████| 1030/1030 [00:00<00:00, 5135.59it/s]\n"
     ]
    },
    {
     "name": "stdout",
     "output_type": "stream",
     "text": [
      "인덱스 : 637 회사명 : 코웨이\n"
     ]
    },
    {
     "name": "stderr",
     "output_type": "stream",
     "text": [
      "100%|████████████████████████████████████████████████████████████████████████████| 2386/2386 [00:00<00:00, 5682.44it/s]\n"
     ]
    },
    {
     "name": "stdout",
     "output_type": "stream",
     "text": [
      "인덱스 : 638 회사명 : 콘텐트리중앙\n"
     ]
    },
    {
     "name": "stderr",
     "output_type": "stream",
     "text": [
      "100%|████████████████████████████████████████████████████████████████████████████████| 30/30 [00:00<00:00, 3861.09it/s]\n"
     ]
    },
    {
     "name": "stdout",
     "output_type": "stream",
     "text": [
      "인덱스 : 639 회사명 : 콤텍시스템\n"
     ]
    },
    {
     "name": "stderr",
     "output_type": "stream",
     "text": [
      "100%|██████████████████████████████████████████████████████████████████████████████| 917/917 [00:00<00:00, 5292.51it/s]\n"
     ]
    },
    {
     "name": "stdout",
     "output_type": "stream",
     "text": [
      "인덱스 : 640 회사명 : 쿠쿠홀딩스\n"
     ]
    },
    {
     "name": "stderr",
     "output_type": "stream",
     "text": [
      "100%|██████████████████████████████████████████████████████████████████████████████| 582/582 [00:00<00:00, 5049.25it/s]\n"
     ]
    },
    {
     "name": "stdout",
     "output_type": "stream",
     "text": [
      "인덱스 : 641 회사명 : 쿠쿠홈시스\n"
     ]
    },
    {
     "name": "stderr",
     "output_type": "stream",
     "text": [
      "100%|██████████████████████████████████████████████████████████████████████████████| 864/864 [00:00<00:00, 5223.66it/s]\n"
     ]
    },
    {
     "name": "stdout",
     "output_type": "stream",
     "text": [
      "인덱스 : 642 회사명 : 큐로\n"
     ]
    },
    {
     "name": "stderr",
     "output_type": "stream",
     "text": [
      "100%|████████████████████████████████████████████████████████████████████████████| 1571/1571 [00:00<00:00, 5339.19it/s]\n"
     ]
    },
    {
     "name": "stdout",
     "output_type": "stream",
     "text": [
      "인덱스 : 643 회사명 : 크라운제과\n"
     ]
    },
    {
     "name": "stderr",
     "output_type": "stream",
     "text": [
      "100%|████████████████████████████████████████████████████████████████████████████| 1749/1749 [00:00<00:00, 5457.53it/s]\n"
     ]
    },
    {
     "name": "stdout",
     "output_type": "stream",
     "text": [
      "인덱스 : 644 회사명 : 크라운해태홀딩스\n"
     ]
    },
    {
     "name": "stderr",
     "output_type": "stream",
     "text": [
      "100%|████████████████████████████████████████████████████████████████████████████| 1167/1167 [00:00<00:00, 5053.45it/s]\n"
     ]
    },
    {
     "name": "stdout",
     "output_type": "stream",
     "text": [
      "인덱스 : 645 회사명 : 크래프톤\n"
     ]
    },
    {
     "name": "stderr",
     "output_type": "stream",
     "text": [
      "100%|████████████████████████████████████████████████████████████████████████████| 1470/1470 [00:00<00:00, 5164.18it/s]\n"
     ]
    },
    {
     "name": "stdout",
     "output_type": "stream",
     "text": [
      "인덱스 : 646 회사명 : 키다리스튜디오\n"
     ]
    },
    {
     "name": "stderr",
     "output_type": "stream",
     "text": [
      "100%|██████████████████████████████████████████████████████████████████████████████| 253/253 [00:00<00:00, 5637.69it/s]\n"
     ]
    },
    {
     "name": "stdout",
     "output_type": "stream",
     "text": [
      "인덱스 : 647 회사명 : 키움증권\n"
     ]
    },
    {
     "name": "stderr",
     "output_type": "stream",
     "text": [
      "100%|████████████████████████████████████████████████████████████████████████████| 2657/2657 [00:00<00:00, 3090.51it/s]\n"
     ]
    },
    {
     "name": "stdout",
     "output_type": "stream",
     "text": [
      "인덱스 : 648 회사명 : 태경비케이\n"
     ]
    },
    {
     "name": "stderr",
     "output_type": "stream",
     "text": [
      "100%|██████████████████████████████████████████████████████████████████████████████| 135/135 [00:00<00:00, 4969.77it/s]\n"
     ]
    },
    {
     "name": "stdout",
     "output_type": "stream",
     "text": [
      "인덱스 : 649 회사명 : 태경산업\n"
     ]
    },
    {
     "name": "stderr",
     "output_type": "stream",
     "text": [
      "100%|██████████████████████████████████████████████████████████████████████████████| 679/679 [00:00<00:00, 4992.69it/s]\n"
     ]
    },
    {
     "name": "stdout",
     "output_type": "stream",
     "text": [
      "인덱스 : 650 회사명 : 태경케미컬\n"
     ]
    },
    {
     "name": "stderr",
     "output_type": "stream",
     "text": [
      "100%|██████████████████████████████████████████████████████████████████████████████| 415/415 [00:00<00:00, 4945.82it/s]\n"
     ]
    },
    {
     "name": "stdout",
     "output_type": "stream",
     "text": [
      "인덱스 : 651 회사명 : 태광산업\n"
     ]
    },
    {
     "name": "stderr",
     "output_type": "stream",
     "text": [
      "100%|██████████████████████████████████████████████████████████████████████████████| 312/312 [00:00<00:00, 5831.94it/s]\n"
     ]
    },
    {
     "name": "stdout",
     "output_type": "stream",
     "text": [
      "인덱스 : 652 회사명 : 태림포장\n"
     ]
    },
    {
     "name": "stderr",
     "output_type": "stream",
     "text": [
      "100%|████████████████████████████████████████████████████████████████████████████| 1043/1043 [00:00<00:00, 4889.17it/s]\n"
     ]
    },
    {
     "name": "stdout",
     "output_type": "stream",
     "text": [
      "인덱스 : 653 회사명 : 태양금속\n"
     ]
    },
    {
     "name": "stderr",
     "output_type": "stream",
     "text": [
      "100%|████████████████████████████████████████████████████████████████████████████| 1284/1284 [00:00<00:00, 5321.85it/s]\n"
     ]
    },
    {
     "name": "stdout",
     "output_type": "stream",
     "text": [
      "인덱스 : 654 회사명 : 태영건설\n"
     ]
    },
    {
     "name": "stderr",
     "output_type": "stream",
     "text": [
      "100%|██████████████████████████████████████████████████████████████████████████████| 395/395 [00:00<00:00, 5694.47it/s]\n"
     ]
    },
    {
     "name": "stdout",
     "output_type": "stream",
     "text": [
      "인덱스 : 655 회사명 : 태원물산\n"
     ]
    },
    {
     "name": "stderr",
     "output_type": "stream",
     "text": [
      "100%|██████████████████████████████████████████████████████████████████████████████| 549/549 [00:00<00:00, 4966.19it/s]\n"
     ]
    },
    {
     "name": "stdout",
     "output_type": "stream",
     "text": [
      "인덱스 : 656 회사명 : 태평양물산\n"
     ]
    },
    {
     "name": "stderr",
     "output_type": "stream",
     "text": [
      "100%|████████████████████████████████████████████████████████████████████████████| 1092/1092 [00:00<00:00, 5446.01it/s]\n"
     ]
    },
    {
     "name": "stdout",
     "output_type": "stream",
     "text": [
      "인덱스 : 657 회사명 : 테이팩스\n"
     ]
    },
    {
     "name": "stderr",
     "output_type": "stream",
     "text": [
      "100%|██████████████████████████████████████████████████████████████████████████████| 705/705 [00:00<00:00, 5342.41it/s]\n"
     ]
    },
    {
     "name": "stdout",
     "output_type": "stream",
     "text": [
      "인덱스 : 658 회사명 : 텔코웨어\n"
     ]
    },
    {
     "name": "stderr",
     "output_type": "stream",
     "text": [
      "100%|██████████████████████████████████████████████████████████████████████████████| 541/541 [00:00<00:00, 5034.13it/s]\n"
     ]
    },
    {
     "name": "stdout",
     "output_type": "stream",
     "text": [
      "인덱스 : 659 회사명 : 토니모리\n"
     ]
    },
    {
     "name": "stderr",
     "output_type": "stream",
     "text": [
      "100%|████████████████████████████████████████████████████████████████████████████| 2135/2135 [00:00<00:00, 5301.08it/s]\n"
     ]
    },
    {
     "name": "stdout",
     "output_type": "stream",
     "text": [
      "인덱스 : 660 회사명 : 티에이치엔\n"
     ]
    },
    {
     "name": "stderr",
     "output_type": "stream",
     "text": [
      "100%|██████████████████████████████████████████████████████████████████████████████| 697/697 [00:00<00:00, 4842.73it/s]\n"
     ]
    },
    {
     "name": "stdout",
     "output_type": "stream",
     "text": [
      "인덱스 : 661 회사명 : 티와이홀딩스\n"
     ]
    },
    {
     "name": "stderr",
     "output_type": "stream",
     "text": [
      "100%|██████████████████████████████████████████████████████████████████████████████| 130/130 [00:00<00:00, 4648.85it/s]\n"
     ]
    },
    {
     "name": "stdout",
     "output_type": "stream",
     "text": [
      "인덱스 : 662 회사명 : 티웨이항공\n"
     ]
    },
    {
     "name": "stderr",
     "output_type": "stream",
     "text": [
      "100%|████████████████████████████████████████████████████████████████████████████| 1114/1114 [00:00<00:00, 5373.84it/s]\n"
     ]
    },
    {
     "name": "stdout",
     "output_type": "stream",
     "text": [
      "인덱스 : 663 회사명 : 티웨이홀딩스\n"
     ]
    },
    {
     "name": "stderr",
     "output_type": "stream",
     "text": [
      "100%|██████████████████████████████████████████████████████████████████████████████| 853/853 [00:00<00:00, 4974.41it/s]\n"
     ]
    },
    {
     "name": "stdout",
     "output_type": "stream",
     "text": [
      "인덱스 : 664 회사명 : 파미셀\n"
     ]
    },
    {
     "name": "stderr",
     "output_type": "stream",
     "text": [
      "100%|████████████████████████████████████████████████████████████████████████████| 2984/2984 [00:00<00:00, 4816.38it/s]\n"
     ]
    },
    {
     "name": "stdout",
     "output_type": "stream",
     "text": [
      "인덱스 : 665 회사명 : 팜스코\n"
     ]
    },
    {
     "name": "stderr",
     "output_type": "stream",
     "text": [
      "100%|████████████████████████████████████████████████████████████████████████████| 1404/1404 [00:00<00:00, 5429.97it/s]\n"
     ]
    },
    {
     "name": "stdout",
     "output_type": "stream",
     "text": [
      "인덱스 : 666 회사명 : 팜젠사이언스\n"
     ]
    },
    {
     "name": "stderr",
     "output_type": "stream",
     "text": [
      "100%|██████████████████████████████████████████████████████████████████████████████| 313/313 [00:00<00:00, 4895.83it/s]\n"
     ]
    },
    {
     "name": "stdout",
     "output_type": "stream",
     "text": [
      "인덱스 : 667 회사명 : 팬오션\n"
     ]
    },
    {
     "name": "stderr",
     "output_type": "stream",
     "text": [
      "100%|████████████████████████████████████████████████████████████████████████████| 3151/3151 [00:00<00:00, 5149.85it/s]\n"
     ]
    },
    {
     "name": "stdout",
     "output_type": "stream",
     "text": [
      "인덱스 : 668 회사명 : 퍼스텍\n"
     ]
    },
    {
     "name": "stderr",
     "output_type": "stream",
     "text": [
      "100%|████████████████████████████████████████████████████████████████████████████| 1486/1486 [00:00<00:00, 4819.71it/s]\n"
     ]
    },
    {
     "name": "stdout",
     "output_type": "stream",
     "text": [
      "인덱스 : 669 회사명 : 퍼시스\n"
     ]
    },
    {
     "name": "stderr",
     "output_type": "stream",
     "text": [
      "100%|████████████████████████████████████████████████████████████████████████████| 1878/1878 [00:00<00:00, 5527.76it/s]\n"
     ]
    },
    {
     "name": "stdout",
     "output_type": "stream",
     "text": [
      "인덱스 : 670 회사명 : 페이퍼코리아\n"
     ]
    },
    {
     "name": "stderr",
     "output_type": "stream",
     "text": [
      "100%|████████████████████████████████████████████████████████████████████████████| 1144/1144 [00:00<00:00, 4981.60it/s]\n"
     ]
    },
    {
     "name": "stdout",
     "output_type": "stream",
     "text": [
      "인덱스 : 671 회사명 : 평화산업\n"
     ]
    },
    {
     "name": "stderr",
     "output_type": "stream",
     "text": [
      "100%|██████████████████████████████████████████████████████████████████████████████| 893/893 [00:00<00:00, 5267.01it/s]\n"
     ]
    },
    {
     "name": "stdout",
     "output_type": "stream",
     "text": [
      "인덱스 : 672 회사명 : 평화홀딩스\n"
     ]
    },
    {
     "name": "stderr",
     "output_type": "stream",
     "text": [
      "100%|██████████████████████████████████████████████████████████████████████████████| 841/841 [00:00<00:00, 5139.68it/s]\n"
     ]
    },
    {
     "name": "stdout",
     "output_type": "stream",
     "text": [
      "인덱스 : 673 회사명 : 포스코스틸리온\n"
     ]
    },
    {
     "name": "stderr",
     "output_type": "stream",
     "text": [
      "100%|████████████████████████████████████████████████████████████████████████████████| 36/36 [00:00<00:00, 8116.70it/s]\n"
     ]
    },
    {
     "name": "stdout",
     "output_type": "stream",
     "text": [
      "인덱스 : 674 회사명 : 포스코인터내셔널\n"
     ]
    },
    {
     "name": "stderr",
     "output_type": "stream",
     "text": [
      "100%|████████████████████████████████████████████████████████████████████████████| 1702/1702 [00:00<00:00, 5137.30it/s]\n"
     ]
    },
    {
     "name": "stdout",
     "output_type": "stream",
     "text": [
      "인덱스 : 675 회사명 : 포스코케미칼\n"
     ]
    },
    {
     "name": "stderr",
     "output_type": "stream",
     "text": [
      "100%|████████████████████████████████████████████████████████████████████████████| 1024/1024 [00:00<00:00, 5179.59it/s]\n"
     ]
    },
    {
     "name": "stdout",
     "output_type": "stream",
     "text": [
      "인덱스 : 676 회사명 : 풀무원\n"
     ]
    },
    {
     "name": "stderr",
     "output_type": "stream",
     "text": [
      "100%|████████████████████████████████████████████████████████████████████████████| 2316/2316 [00:00<00:00, 5424.01it/s]\n"
     ]
    },
    {
     "name": "stdout",
     "output_type": "stream",
     "text": [
      "인덱스 : 677 회사명 : 풍산\n"
     ]
    },
    {
     "name": "stderr",
     "output_type": "stream",
     "text": [
      "100%|████████████████████████████████████████████████████████████████████████████| 3006/3006 [00:00<00:00, 5269.46it/s]\n"
     ]
    },
    {
     "name": "stdout",
     "output_type": "stream",
     "text": [
      "인덱스 : 678 회사명 : 풍산홀딩스\n"
     ]
    },
    {
     "name": "stderr",
     "output_type": "stream",
     "text": [
      "100%|██████████████████████████████████████████████████████████████████████████████| 593/593 [00:00<00:00, 5063.38it/s]\n"
     ]
    },
    {
     "name": "stdout",
     "output_type": "stream",
     "text": [
      "인덱스 : 679 회사명 : 프레스티지바이오파마\n"
     ]
    },
    {
     "name": "stderr",
     "output_type": "stream",
     "text": [
      "100%|██████████████████████████████████████████████████████████████████████████████| 783/783 [00:00<00:00, 4607.02it/s]\n"
     ]
    },
    {
     "name": "stdout",
     "output_type": "stream",
     "text": [
      "인덱스 : 680 회사명 : 플레이그램\n"
     ]
    },
    {
     "name": "stderr",
     "output_type": "stream",
     "text": [
      "100%|████████████████████████████████████████████████████████████████████████████████| 37/37 [00:00<00:00, 8272.79it/s]\n"
     ]
    },
    {
     "name": "stdout",
     "output_type": "stream",
     "text": [
      "인덱스 : 681 회사명 : 하나금융지주\n"
     ]
    },
    {
     "name": "stderr",
     "output_type": "stream",
     "text": [
      "100%|██████████████████████████████████████████████████████████████████████████████| 543/543 [00:00<00:00, 4833.11it/s]\n"
     ]
    },
    {
     "name": "stdout",
     "output_type": "stream",
     "text": [
      "인덱스 : 682 회사명 : 하나제약\n"
     ]
    },
    {
     "name": "stderr",
     "output_type": "stream",
     "text": [
      "100%|████████████████████████████████████████████████████████████████████████████| 1197/1197 [00:00<00:00, 5185.66it/s]\n"
     ]
    },
    {
     "name": "stdout",
     "output_type": "stream",
     "text": [
      "인덱스 : 683 회사명 : 하나투어\n"
     ]
    },
    {
     "name": "stderr",
     "output_type": "stream",
     "text": [
      "100%|██████████████████████████████████████████████████████████████████████████████| 965/965 [00:00<00:00, 5649.32it/s]\n"
     ]
    },
    {
     "name": "stdout",
     "output_type": "stream",
     "text": [
      "인덱스 : 684 회사명 : 하이브\n"
     ]
    },
    {
     "name": "stderr",
     "output_type": "stream",
     "text": [
      "100%|████████████████████████████████████████████████████████████████████████████| 2374/2374 [00:00<00:00, 5011.35it/s]\n"
     ]
    },
    {
     "name": "stdout",
     "output_type": "stream",
     "text": [
      "인덱스 : 685 회사명 : 하이스틸\n"
     ]
    },
    {
     "name": "stderr",
     "output_type": "stream",
     "text": [
      "100%|██████████████████████████████████████████████████████████████████████████████| 999/999 [00:00<00:00, 5105.53it/s]\n"
     ]
    },
    {
     "name": "stdout",
     "output_type": "stream",
     "text": [
      "인덱스 : 686 회사명 : 하이트론\n"
     ]
    },
    {
     "name": "stderr",
     "output_type": "stream",
     "text": [
      "100%|████████████████████████████████████████████████████████████████████████████████| 61/61 [00:00<00:00, 4310.26it/s]\n"
     ]
    },
    {
     "name": "stdout",
     "output_type": "stream",
     "text": [
      "인덱스 : 687 회사명 : 하이트진로\n"
     ]
    },
    {
     "name": "stderr",
     "output_type": "stream",
     "text": [
      "100%|████████████████████████████████████████████████████████████████████████████| 2405/2405 [00:00<00:00, 5575.13it/s]\n"
     ]
    },
    {
     "name": "stdout",
     "output_type": "stream",
     "text": [
      "인덱스 : 688 회사명 : 하이트진로홀딩스\n"
     ]
    },
    {
     "name": "stderr",
     "output_type": "stream",
     "text": [
      "100%|████████████████████████████████████████████████████████████████████████████| 1395/1395 [00:00<00:00, 4870.58it/s]\n"
     ]
    },
    {
     "name": "stdout",
     "output_type": "stream",
     "text": [
      "인덱스 : 689 회사명 : 한국ANKOR유전\n"
     ]
    },
    {
     "name": "stderr",
     "output_type": "stream",
     "text": [
      "100%|██████████████████████████████████████████████████████████████████████████████| 298/298 [00:00<00:00, 5049.99it/s]\n"
     ]
    },
    {
     "name": "stdout",
     "output_type": "stream",
     "text": [
      "인덱스 : 690 회사명 : 한국가스공사\n"
     ]
    },
    {
     "name": "stderr",
     "output_type": "stream",
     "text": [
      "100%|████████████████████████████████████████████████████████████████████████████| 1777/1777 [00:00<00:00, 5332.74it/s]\n"
     ]
    },
    {
     "name": "stdout",
     "output_type": "stream",
     "text": [
      "인덱스 : 691 회사명 : 한국공항\n"
     ]
    },
    {
     "name": "stderr",
     "output_type": "stream",
     "text": [
      "100%|████████████████████████████████████████████████████████████████████████████| 1303/1303 [00:00<00:00, 5790.11it/s]\n"
     ]
    },
    {
     "name": "stdout",
     "output_type": "stream",
     "text": [
      "인덱스 : 692 회사명 : 한국금융지주\n"
     ]
    },
    {
     "name": "stderr",
     "output_type": "stream",
     "text": [
      "100%|████████████████████████████████████████████████████████████████████████████| 2492/2492 [00:00<00:00, 4951.02it/s]\n"
     ]
    },
    {
     "name": "stdout",
     "output_type": "stream",
     "text": [
      "인덱스 : 693 회사명 : 한국내화\n"
     ]
    },
    {
     "name": "stderr",
     "output_type": "stream",
     "text": [
      "100%|████████████████████████████████████████████████████████████████████████████| 1030/1030 [00:00<00:00, 5153.10it/s]\n"
     ]
    },
    {
     "name": "stdout",
     "output_type": "stream",
     "text": [
      "인덱스 : 694 회사명 : 한국단자\n"
     ]
    },
    {
     "name": "stderr",
     "output_type": "stream",
     "text": [
      "100%|██████████████████████████████████████████████████████████████████████████████| 741/741 [00:00<00:00, 5022.09it/s]\n"
     ]
    },
    {
     "name": "stdout",
     "output_type": "stream",
     "text": [
      "인덱스 : 695 회사명 : 한국석유\n"
     ]
    },
    {
     "name": "stderr",
     "output_type": "stream",
     "text": [
      "100%|████████████████████████████████████████████████████████████████████████████| 1079/1079 [00:00<00:00, 5149.13it/s]\n"
     ]
    },
    {
     "name": "stdout",
     "output_type": "stream",
     "text": [
      "인덱스 : 696 회사명 : 한국수출포장\n"
     ]
    },
    {
     "name": "stderr",
     "output_type": "stream",
     "text": [
      "100%|████████████████████████████████████████████████████████████████████████████████| 57/57 [00:00<00:00, 3443.00it/s]\n"
     ]
    },
    {
     "name": "stdout",
     "output_type": "stream",
     "text": [
      "인덱스 : 697 회사명 : 한국쉘석유\n"
     ]
    },
    {
     "name": "stderr",
     "output_type": "stream",
     "text": [
      "100%|██████████████████████████████████████████████████████████████████████████████| 607/607 [00:00<00:00, 5571.81it/s]\n"
     ]
    },
    {
     "name": "stdout",
     "output_type": "stream",
     "text": [
      "인덱스 : 698 회사명 : 한국앤컴퍼니\n"
     ]
    },
    {
     "name": "stderr",
     "output_type": "stream",
     "text": [
      "100%|██████████████████████████████████████████████████████████████████████████████| 271/271 [00:00<00:00, 4718.47it/s]\n"
     ]
    },
    {
     "name": "stdout",
     "output_type": "stream",
     "text": [
      "인덱스 : 699 회사명 : 한국자산신탁\n"
     ]
    },
    {
     "name": "stderr",
     "output_type": "stream",
     "text": [
      "100%|████████████████████████████████████████████████████████████████████████████| 1298/1298 [00:00<00:00, 5085.51it/s]\n"
     ]
    },
    {
     "name": "stdout",
     "output_type": "stream",
     "text": [
      "인덱스 : 700 회사명 : 한국전력\n"
     ]
    },
    {
     "name": "stderr",
     "output_type": "stream",
     "text": [
      "100%|████████████████████████████████████████████████████████████████████████████| 3311/3311 [00:00<00:00, 5590.37it/s]\n"
     ]
    },
    {
     "name": "stdout",
     "output_type": "stream",
     "text": [
      "인덱스 : 701 회사명 : 한국전자홀딩스\n"
     ]
    },
    {
     "name": "stderr",
     "output_type": "stream",
     "text": [
      "100%|██████████████████████████████████████████████████████████████████████████████| 657/657 [00:00<00:00, 5158.70it/s]\n"
     ]
    },
    {
     "name": "stdout",
     "output_type": "stream",
     "text": [
      "인덱스 : 702 회사명 : 한국조선해양\n"
     ]
    },
    {
     "name": "stderr",
     "output_type": "stream",
     "text": [
      "100%|██████████████████████████████████████████████████████████████████████████████| 948/948 [00:00<00:00, 5177.63it/s]\n"
     ]
    },
    {
     "name": "stdout",
     "output_type": "stream",
     "text": [
      "인덱스 : 703 회사명 : 한국종합기술\n"
     ]
    },
    {
     "name": "stderr",
     "output_type": "stream",
     "text": [
      "100%|████████████████████████████████████████████████████████████████████████████| 1282/1282 [00:00<00:00, 5458.03it/s]\n"
     ]
    },
    {
     "name": "stdout",
     "output_type": "stream",
     "text": [
      "인덱스 : 704 회사명 : 한국주강\n"
     ]
    },
    {
     "name": "stderr",
     "output_type": "stream",
     "text": [
      "100%|██████████████████████████████████████████████████████████████████████████████| 567/567 [00:00<00:00, 5365.59it/s]\n"
     ]
    },
    {
     "name": "stdout",
     "output_type": "stream",
     "text": [
      "인덱스 : 705 회사명 : 한국주철관\n"
     ]
    },
    {
     "name": "stderr",
     "output_type": "stream",
     "text": [
      "100%|██████████████████████████████████████████████████████████████████████████████| 591/591 [00:00<00:00, 5217.95it/s]\n"
     ]
    },
    {
     "name": "stdout",
     "output_type": "stream",
     "text": [
      "인덱스 : 706 회사명 : 한국철강\n"
     ]
    },
    {
     "name": "stderr",
     "output_type": "stream",
     "text": [
      "100%|████████████████████████████████████████████████████████████████████████████| 1160/1160 [00:00<00:00, 5003.87it/s]\n"
     ]
    },
    {
     "name": "stdout",
     "output_type": "stream",
     "text": [
      "인덱스 : 707 회사명 : 한국카본\n"
     ]
    },
    {
     "name": "stderr",
     "output_type": "stream",
     "text": [
      "100%|████████████████████████████████████████████████████████████████████████████| 1355/1355 [00:00<00:00, 4963.27it/s]\n"
     ]
    },
    {
     "name": "stdout",
     "output_type": "stream",
     "text": [
      "인덱스 : 708 회사명 : 한국콜마\n"
     ]
    },
    {
     "name": "stderr",
     "output_type": "stream",
     "text": [
      "100%|████████████████████████████████████████████████████████████████████████████| 1468/1468 [00:00<00:00, 5429.37it/s]\n"
     ]
    },
    {
     "name": "stdout",
     "output_type": "stream",
     "text": [
      "인덱스 : 709 회사명 : 한국콜마홀딩스\n"
     ]
    },
    {
     "name": "stderr",
     "output_type": "stream",
     "text": [
      "100%|██████████████████████████████████████████████████████████████████████████████| 834/834 [00:00<00:00, 5085.24it/s]\n"
     ]
    },
    {
     "name": "stdout",
     "output_type": "stream",
     "text": [
      "인덱스 : 710 회사명 : 한국타이어앤테크놀로지\n"
     ]
    },
    {
     "name": "stderr",
     "output_type": "stream",
     "text": [
      "100%|████████████████████████████████████████████████████████████████████████████| 1073/1073 [00:00<00:00, 4623.78it/s]\n"
     ]
    },
    {
     "name": "stdout",
     "output_type": "stream",
     "text": [
      "인덱스 : 711 회사명 : 한국토지신탁\n"
     ]
    },
    {
     "name": "stderr",
     "output_type": "stream",
     "text": [
      "100%|████████████████████████████████████████████████████████████████████████████| 2177/2177 [00:00<00:00, 5115.39it/s]\n"
     ]
    },
    {
     "name": "stdout",
     "output_type": "stream",
     "text": [
      "인덱스 : 712 회사명 : 한국특강\n"
     ]
    },
    {
     "name": "stderr",
     "output_type": "stream",
     "text": [
      "100%|████████████████████████████████████████████████████████████████████████████████| 78/78 [00:00<00:00, 6261.71it/s]\n"
     ]
    },
    {
     "name": "stdout",
     "output_type": "stream",
     "text": [
      "인덱스 : 713 회사명 : 한국패러랠\n"
     ]
    },
    {
     "name": "stderr",
     "output_type": "stream",
     "text": [
      "100%|██████████████████████████████████████████████████████████████████████████████| 291/291 [00:00<00:00, 5048.30it/s]\n"
     ]
    },
    {
     "name": "stdout",
     "output_type": "stream",
     "text": [
      "인덱스 : 714 회사명 : 한국프랜지\n"
     ]
    },
    {
     "name": "stderr",
     "output_type": "stream",
     "text": [
      "100%|██████████████████████████████████████████████████████████████████████████████| 677/677 [00:00<00:00, 5341.09it/s]\n"
     ]
    },
    {
     "name": "stdout",
     "output_type": "stream",
     "text": [
      "인덱스 : 715 회사명 : 한국항공우주\n"
     ]
    },
    {
     "name": "stderr",
     "output_type": "stream",
     "text": [
      "100%|████████████████████████████████████████████████████████████████████████████| 1602/1602 [00:00<00:00, 4923.70it/s]\n"
     ]
    },
    {
     "name": "stdout",
     "output_type": "stream",
     "text": [
      "인덱스 : 716 회사명 : 한국화장품\n"
     ]
    },
    {
     "name": "stderr",
     "output_type": "stream",
     "text": [
      "100%|████████████████████████████████████████████████████████████████████████████| 1483/1483 [00:00<00:00, 5102.15it/s]\n"
     ]
    },
    {
     "name": "stdout",
     "output_type": "stream",
     "text": [
      "인덱스 : 717 회사명 : 한국화장품제조\n"
     ]
    },
    {
     "name": "stderr",
     "output_type": "stream",
     "text": [
      "100%|██████████████████████████████████████████████████████████████████████████████| 741/741 [00:00<00:00, 4832.00it/s]\n"
     ]
    },
    {
     "name": "stdout",
     "output_type": "stream",
     "text": [
      "인덱스 : 718 회사명 : 한농화성\n"
     ]
    },
    {
     "name": "stderr",
     "output_type": "stream",
     "text": [
      "100%|██████████████████████████████████████████████████████████████████████████████| 979/979 [00:00<00:00, 4961.17it/s]\n"
     ]
    },
    {
     "name": "stdout",
     "output_type": "stream",
     "text": [
      "인덱스 : 719 회사명 : 한독\n"
     ]
    },
    {
     "name": "stderr",
     "output_type": "stream",
     "text": [
      "100%|████████████████████████████████████████████████████████████████████████████| 2379/2379 [00:00<00:00, 5505.10it/s]\n"
     ]
    },
    {
     "name": "stdout",
     "output_type": "stream",
     "text": [
      "인덱스 : 720 회사명 : 한라\n"
     ]
    },
    {
     "name": "stderr",
     "output_type": "stream",
     "text": [
      "100%|████████████████████████████████████████████████████████████████████████████| 1693/1693 [00:00<00:00, 5451.81it/s]\n"
     ]
    },
    {
     "name": "stdout",
     "output_type": "stream",
     "text": [
      "인덱스 : 721 회사명 : 한라홀딩스\n"
     ]
    },
    {
     "name": "stderr",
     "output_type": "stream",
     "text": [
      "100%|████████████████████████████████████████████████████████████████████████████| 1202/1202 [00:00<00:00, 4894.02it/s]\n"
     ]
    },
    {
     "name": "stdout",
     "output_type": "stream",
     "text": [
      "인덱스 : 722 회사명 : 한미글로벌\n"
     ]
    },
    {
     "name": "stderr",
     "output_type": "stream",
     "text": [
      "100%|████████████████████████████████████████████████████████████████████████████| 1568/1568 [00:00<00:00, 5316.60it/s]\n"
     ]
    },
    {
     "name": "stdout",
     "output_type": "stream",
     "text": [
      "인덱스 : 723 회사명 : 한미반도체\n"
     ]
    },
    {
     "name": "stderr",
     "output_type": "stream",
     "text": [
      "100%|████████████████████████████████████████████████████████████████████████████| 1731/1731 [00:00<00:00, 5136.24it/s]\n"
     ]
    },
    {
     "name": "stdout",
     "output_type": "stream",
     "text": [
      "인덱스 : 724 회사명 : 한미사이언스\n"
     ]
    },
    {
     "name": "stderr",
     "output_type": "stream",
     "text": [
      "100%|██████████████████████████████████████████████████████████████████████████████| 507/507 [00:00<00:00, 4817.63it/s]\n"
     ]
    },
    {
     "name": "stdout",
     "output_type": "stream",
     "text": [
      "인덱스 : 725 회사명 : 한미약품\n"
     ]
    },
    {
     "name": "stderr",
     "output_type": "stream",
     "text": [
      "100%|████████████████████████████████████████████████████████████████████████████| 2010/2010 [00:00<00:00, 5431.00it/s]\n"
     ]
    },
    {
     "name": "stdout",
     "output_type": "stream",
     "text": [
      "인덱스 : 726 회사명 : 한샘\n"
     ]
    },
    {
     "name": "stderr",
     "output_type": "stream",
     "text": [
      "100%|████████████████████████████████████████████████████████████████████████████| 1654/1654 [00:00<00:00, 5453.00it/s]\n"
     ]
    },
    {
     "name": "stdout",
     "output_type": "stream",
     "text": [
      "인덱스 : 727 회사명 : 한섬\n"
     ]
    },
    {
     "name": "stderr",
     "output_type": "stream",
     "text": [
      "100%|██████████████████████████████████████████████████████████████████████████████| 575/575 [00:00<00:00, 5804.35it/s]\n"
     ]
    },
    {
     "name": "stdout",
     "output_type": "stream",
     "text": [
      "인덱스 : 728 회사명 : 한성기업\n"
     ]
    },
    {
     "name": "stderr",
     "output_type": "stream",
     "text": [
      "100%|██████████████████████████████████████████████████████████████████████████████| 909/909 [00:00<00:00, 5628.52it/s]\n"
     ]
    },
    {
     "name": "stdout",
     "output_type": "stream",
     "text": [
      "인덱스 : 729 회사명 : 한세실업\n"
     ]
    },
    {
     "name": "stderr",
     "output_type": "stream",
     "text": [
      "100%|████████████████████████████████████████████████████████████████████████████| 2256/2256 [00:00<00:00, 4982.76it/s]\n"
     ]
    },
    {
     "name": "stdout",
     "output_type": "stream",
     "text": [
      "인덱스 : 730 회사명 : 한세엠케이\n"
     ]
    },
    {
     "name": "stderr",
     "output_type": "stream",
     "text": [
      "100%|████████████████████████████████████████████████████████████████████████████| 1198/1198 [00:00<00:00, 5169.22it/s]\n"
     ]
    },
    {
     "name": "stdout",
     "output_type": "stream",
     "text": [
      "인덱스 : 731 회사명 : 한세예스24홀딩스\n"
     ]
    },
    {
     "name": "stderr",
     "output_type": "stream",
     "text": [
      "100%|██████████████████████████████████████████████████████████████████████████████| 699/699 [00:00<00:00, 4439.17it/s]\n"
     ]
    },
    {
     "name": "stdout",
     "output_type": "stream",
     "text": [
      "인덱스 : 732 회사명 : 한솔PNS\n"
     ]
    },
    {
     "name": "stderr",
     "output_type": "stream",
     "text": [
      "100%|████████████████████████████████████████████████████████████████████████████████| 21/21 [00:00<00:00, 3001.34it/s]\n"
     ]
    },
    {
     "name": "stdout",
     "output_type": "stream",
     "text": [
      "인덱스 : 733 회사명 : 한솔로지스틱스\n"
     ]
    },
    {
     "name": "stderr",
     "output_type": "stream",
     "text": [
      "100%|██████████████████████████████████████████████████████████████████████████████| 979/979 [00:00<00:00, 4956.90it/s]\n"
     ]
    },
    {
     "name": "stdout",
     "output_type": "stream",
     "text": [
      "인덱스 : 734 회사명 : 한솔제지\n"
     ]
    },
    {
     "name": "stderr",
     "output_type": "stream",
     "text": [
      "100%|████████████████████████████████████████████████████████████████████████████| 1075/1075 [00:00<00:00, 5588.00it/s]\n"
     ]
    },
    {
     "name": "stdout",
     "output_type": "stream",
     "text": [
      "인덱스 : 735 회사명 : 한솔케미칼\n"
     ]
    },
    {
     "name": "stderr",
     "output_type": "stream",
     "text": [
      "100%|████████████████████████████████████████████████████████████████████████████| 1556/1556 [00:00<00:00, 5140.48it/s]\n"
     ]
    },
    {
     "name": "stdout",
     "output_type": "stream",
     "text": [
      "인덱스 : 736 회사명 : 한솔테크닉스\n"
     ]
    },
    {
     "name": "stderr",
     "output_type": "stream",
     "text": [
      "100%|██████████████████████████████████████████████████████████████████████████████| 833/833 [00:00<00:00, 5061.75it/s]\n"
     ]
    },
    {
     "name": "stdout",
     "output_type": "stream",
     "text": [
      "인덱스 : 737 회사명 : 한솔홀딩스\n"
     ]
    },
    {
     "name": "stderr",
     "output_type": "stream",
     "text": [
      "100%|██████████████████████████████████████████████████████████████████████████████| 929/929 [00:00<00:00, 5002.48it/s]\n"
     ]
    },
    {
     "name": "stdout",
     "output_type": "stream",
     "text": [
      "인덱스 : 738 회사명 : 한솔홈데코\n"
     ]
    },
    {
     "name": "stderr",
     "output_type": "stream",
     "text": [
      "100%|████████████████████████████████████████████████████████████████████████████| 1145/1145 [00:00<00:00, 5158.25it/s]\n"
     ]
    },
    {
     "name": "stdout",
     "output_type": "stream",
     "text": [
      "인덱스 : 739 회사명 : 한신공영\n"
     ]
    },
    {
     "name": "stderr",
     "output_type": "stream",
     "text": [
      "100%|████████████████████████████████████████████████████████████████████████████| 2372/2372 [00:00<00:00, 5384.99it/s]\n"
     ]
    },
    {
     "name": "stdout",
     "output_type": "stream",
     "text": [
      "인덱스 : 740 회사명 : 한신기계\n"
     ]
    },
    {
     "name": "stderr",
     "output_type": "stream",
     "text": [
      "100%|████████████████████████████████████████████████████████████████████████████| 1044/1044 [00:00<00:00, 5288.59it/s]\n"
     ]
    },
    {
     "name": "stdout",
     "output_type": "stream",
     "text": [
      "인덱스 : 741 회사명 : 한양증권\n"
     ]
    },
    {
     "name": "stderr",
     "output_type": "stream",
     "text": [
      "100%|████████████████████████████████████████████████████████████████████████████| 1771/1771 [00:00<00:00, 5293.45it/s]\n"
     ]
    },
    {
     "name": "stdout",
     "output_type": "stream",
     "text": [
      "인덱스 : 742 회사명 : 한온시스템\n"
     ]
    },
    {
     "name": "stderr",
     "output_type": "stream",
     "text": [
      "100%|████████████████████████████████████████████████████████████████████████████| 2609/2609 [00:00<00:00, 4972.35it/s]\n"
     ]
    },
    {
     "name": "stdout",
     "output_type": "stream",
     "text": [
      "인덱스 : 743 회사명 : 한올바이오파마\n"
     ]
    },
    {
     "name": "stderr",
     "output_type": "stream",
     "text": [
      "100%|████████████████████████████████████████████████████████████████████████████| 2098/2098 [00:00<00:00, 4801.01it/s]\n"
     ]
    },
    {
     "name": "stdout",
     "output_type": "stream",
     "text": [
      "인덱스 : 744 회사명 : 한익스프레스\n"
     ]
    },
    {
     "name": "stderr",
     "output_type": "stream",
     "text": [
      "100%|████████████████████████████████████████████████████████████████████████████| 1181/1181 [00:00<00:00, 4839.46it/s]\n"
     ]
    },
    {
     "name": "stdout",
     "output_type": "stream",
     "text": [
      "인덱스 : 745 회사명 : 한일시멘트\n"
     ]
    },
    {
     "name": "stderr",
     "output_type": "stream",
     "text": [
      "100%|████████████████████████████████████████████████████████████████████████████| 1321/1321 [00:00<00:00, 5315.41it/s]\n"
     ]
    },
    {
     "name": "stdout",
     "output_type": "stream",
     "text": [
      "인덱스 : 746 회사명 : 한일철강\n"
     ]
    },
    {
     "name": "stderr",
     "output_type": "stream",
     "text": [
      "100%|██████████████████████████████████████████████████████████████████████████████| 311/311 [00:00<00:00, 6076.75it/s]\n"
     ]
    },
    {
     "name": "stdout",
     "output_type": "stream",
     "text": [
      "인덱스 : 747 회사명 : 한일현대시멘트\n"
     ]
    },
    {
     "name": "stderr",
     "output_type": "stream",
     "text": [
      "100%|██████████████████████████████████████████████████████████████████████████████| 782/782 [00:00<00:00, 5009.88it/s]\n"
     ]
    },
    {
     "name": "stdout",
     "output_type": "stream",
     "text": [
      "인덱스 : 748 회사명 : 한일홀딩스\n"
     ]
    },
    {
     "name": "stderr",
     "output_type": "stream",
     "text": [
      "100%|██████████████████████████████████████████████████████████████████████████████| 647/647 [00:00<00:00, 5117.18it/s]\n"
     ]
    },
    {
     "name": "stdout",
     "output_type": "stream",
     "text": [
      "인덱스 : 749 회사명 : 한전KPS\n"
     ]
    },
    {
     "name": "stderr",
     "output_type": "stream",
     "text": [
      "100%|██████████████████████████████████████████████████████████████████████████████| 429/429 [00:00<00:00, 5640.54it/s]\n"
     ]
    },
    {
     "name": "stdout",
     "output_type": "stream",
     "text": [
      "인덱스 : 750 회사명 : 한전기술\n"
     ]
    },
    {
     "name": "stderr",
     "output_type": "stream",
     "text": [
      "100%|████████████████████████████████████████████████████████████████████████████| 2632/2632 [00:00<00:00, 5495.74it/s]\n"
     ]
    },
    {
     "name": "stdout",
     "output_type": "stream",
     "text": [
      "인덱스 : 751 회사명 : 한전산업\n"
     ]
    },
    {
     "name": "stderr",
     "output_type": "stream",
     "text": [
      "100%|████████████████████████████████████████████████████████████████████████████| 1634/1634 [00:00<00:00, 5612.37it/s]\n"
     ]
    },
    {
     "name": "stdout",
     "output_type": "stream",
     "text": [
      "인덱스 : 752 회사명 : 한진\n"
     ]
    },
    {
     "name": "stderr",
     "output_type": "stream",
     "text": [
      "100%|████████████████████████████████████████████████████████████████████████████| 6808/6808 [00:01<00:00, 5586.34it/s]\n"
     ]
    },
    {
     "name": "stdout",
     "output_type": "stream",
     "text": [
      "인덱스 : 753 회사명 : 한진중공업홀딩스\n"
     ]
    },
    {
     "name": "stderr",
     "output_type": "stream",
     "text": [
      "100%|██████████████████████████████████████████████████████████████████████████████| 743/743 [00:00<00:00, 4861.36it/s]\n"
     ]
    },
    {
     "name": "stdout",
     "output_type": "stream",
     "text": [
      "인덱스 : 754 회사명 : 한진칼\n"
     ]
    },
    {
     "name": "stderr",
     "output_type": "stream",
     "text": [
      "100%|████████████████████████████████████████████████████████████████████████████| 2658/2658 [00:00<00:00, 5361.57it/s]\n"
     ]
    },
    {
     "name": "stdout",
     "output_type": "stream",
     "text": [
      "인덱스 : 755 회사명 : 한창\n"
     ]
    },
    {
     "name": "stderr",
     "output_type": "stream",
     "text": [
      "100%|████████████████████████████████████████████████████████████████████████████| 3942/3942 [00:00<00:00, 5616.35it/s]\n"
     ]
    },
    {
     "name": "stdout",
     "output_type": "stream",
     "text": [
      "인덱스 : 756 회사명 : 한창제지\n"
     ]
    },
    {
     "name": "stderr",
     "output_type": "stream",
     "text": [
      "100%|████████████████████████████████████████████████████████████████████████████| 1649/1649 [00:00<00:00, 4752.96it/s]\n"
     ]
    },
    {
     "name": "stdout",
     "output_type": "stream",
     "text": [
      "인덱스 : 757 회사명 : 한컴라이프케어\n"
     ]
    },
    {
     "name": "stderr",
     "output_type": "stream",
     "text": [
      "100%|██████████████████████████████████████████████████████████████████████████████| 186/186 [00:00<00:00, 4441.35it/s]\n"
     ]
    },
    {
     "name": "stdout",
     "output_type": "stream",
     "text": [
      "인덱스 : 758 회사명 : 한화\n"
     ]
    },
    {
     "name": "stderr",
     "output_type": "stream",
     "text": [
      "100%|██████████████████████████████████████████████████████████████████████████| 11833/11833 [00:02<00:00, 5363.71it/s]\n"
     ]
    },
    {
     "name": "stdout",
     "output_type": "stream",
     "text": [
      "인덱스 : 759 회사명 : 한화생명\n"
     ]
    },
    {
     "name": "stderr",
     "output_type": "stream",
     "text": [
      "100%|████████████████████████████████████████████████████████████████████████████| 2337/2337 [00:00<00:00, 5518.28it/s]\n"
     ]
    },
    {
     "name": "stdout",
     "output_type": "stream",
     "text": [
      "인덱스 : 760 회사명 : 한화손해보험\n"
     ]
    },
    {
     "name": "stderr",
     "output_type": "stream",
     "text": [
      "100%|████████████████████████████████████████████████████████████████████████████| 1310/1310 [00:00<00:00, 5242.48it/s]\n"
     ]
    },
    {
     "name": "stdout",
     "output_type": "stream",
     "text": [
      "인덱스 : 761 회사명 : 한화솔루션\n"
     ]
    },
    {
     "name": "stderr",
     "output_type": "stream",
     "text": [
      "100%|████████████████████████████████████████████████████████████████████████████| 1432/1432 [00:00<00:00, 5166.86it/s]\n"
     ]
    },
    {
     "name": "stdout",
     "output_type": "stream",
     "text": [
      "인덱스 : 762 회사명 : 한화시스템\n"
     ]
    },
    {
     "name": "stderr",
     "output_type": "stream",
     "text": [
      "100%|██████████████████████████████████████████████████████████████████████████████| 970/970 [00:00<00:00, 5467.55it/s]\n"
     ]
    },
    {
     "name": "stdout",
     "output_type": "stream",
     "text": [
      "인덱스 : 763 회사명 : 한화에어로스페이스\n"
     ]
    },
    {
     "name": "stderr",
     "output_type": "stream",
     "text": [
      "100%|████████████████████████████████████████████████████████████████████████████| 1403/1403 [00:00<00:00, 4935.08it/s]\n"
     ]
    },
    {
     "name": "stdout",
     "output_type": "stream",
     "text": [
      "인덱스 : 764 회사명 : 한화투자증권\n"
     ]
    },
    {
     "name": "stderr",
     "output_type": "stream",
     "text": [
      "100%|████████████████████████████████████████████████████████████████████████████| 2002/2002 [00:00<00:00, 5306.75it/s]\n"
     ]
    },
    {
     "name": "stdout",
     "output_type": "stream",
     "text": [
      "인덱스 : 765 회사명 : 해성디에스\n"
     ]
    },
    {
     "name": "stderr",
     "output_type": "stream",
     "text": [
      "100%|████████████████████████████████████████████████████████████████████████████| 1255/1255 [00:00<00:00, 4813.14it/s]\n"
     ]
    },
    {
     "name": "stdout",
     "output_type": "stream",
     "text": [
      "인덱스 : 766 회사명 : 해태제과식품\n"
     ]
    },
    {
     "name": "stderr",
     "output_type": "stream",
     "text": [
      "100%|██████████████████████████████████████████████████████████████████████████████| 586/586 [00:00<00:00, 5281.82it/s]\n"
     ]
    },
    {
     "name": "stdout",
     "output_type": "stream",
     "text": [
      "인덱스 : 767 회사명 : 핸즈코퍼레이션\n"
     ]
    },
    {
     "name": "stderr",
     "output_type": "stream",
     "text": [
      "100%|██████████████████████████████████████████████████████████████████████████████| 688/688 [00:00<00:00, 4982.08it/s]\n"
     ]
    },
    {
     "name": "stdout",
     "output_type": "stream",
     "text": [
      "인덱스 : 768 회사명 : 현대건설\n"
     ]
    },
    {
     "name": "stderr",
     "output_type": "stream",
     "text": [
      "100%|████████████████████████████████████████████████████████████████████████████| 3977/3977 [00:00<00:00, 5580.50it/s]\n"
     ]
    },
    {
     "name": "stdout",
     "output_type": "stream",
     "text": [
      "인덱스 : 769 회사명 : 현대건설기계\n"
     ]
    },
    {
     "name": "stderr",
     "output_type": "stream",
     "text": [
      "100%|██████████████████████████████████████████████████████████████████████████████| 448/448 [00:00<00:00, 5545.52it/s]\n"
     ]
    },
    {
     "name": "stdout",
     "output_type": "stream",
     "text": [
      "인덱스 : 770 회사명 : 현대그린푸드\n"
     ]
    },
    {
     "name": "stderr",
     "output_type": "stream",
     "text": [
      "100%|██████████████████████████████████████████████████████████████████████████████| 506/506 [00:00<00:00, 5462.88it/s]\n"
     ]
    },
    {
     "name": "stdout",
     "output_type": "stream",
     "text": [
      "인덱스 : 771 회사명 : 현대글로비스\n"
     ]
    },
    {
     "name": "stderr",
     "output_type": "stream",
     "text": [
      "100%|████████████████████████████████████████████████████████████████████████████| 2299/2299 [00:00<00:00, 5154.73it/s]\n"
     ]
    },
    {
     "name": "stdout",
     "output_type": "stream",
     "text": [
      "인덱스 : 772 회사명 : 현대두산인프라코어\n"
     ]
    },
    {
     "name": "stderr",
     "output_type": "stream",
     "text": [
      "100%|██████████████████████████████████████████████████████████████████████████████| 255/255 [00:00<00:00, 4748.90it/s]\n"
     ]
    },
    {
     "name": "stdout",
     "output_type": "stream",
     "text": [
      "인덱스 : 773 회사명 : 현대로템\n"
     ]
    },
    {
     "name": "stderr",
     "output_type": "stream",
     "text": [
      "100%|████████████████████████████████████████████████████████████████████████████| 1028/1028 [00:00<00:00, 5484.32it/s]\n"
     ]
    },
    {
     "name": "stdout",
     "output_type": "stream",
     "text": [
      "인덱스 : 774 회사명 : 현대리바트\n"
     ]
    },
    {
     "name": "stderr",
     "output_type": "stream",
     "text": [
      "100%|██████████████████████████████████████████████████████████████████████████████| 487/487 [00:00<00:00, 5608.39it/s]\n"
     ]
    },
    {
     "name": "stdout",
     "output_type": "stream",
     "text": [
      "인덱스 : 775 회사명 : 현대모비스\n"
     ]
    },
    {
     "name": "stderr",
     "output_type": "stream",
     "text": [
      "100%|████████████████████████████████████████████████████████████████████████████| 2673/2673 [00:00<00:00, 5672.73it/s]\n"
     ]
    },
    {
     "name": "stdout",
     "output_type": "stream",
     "text": [
      "인덱스 : 776 회사명 : 현대미포조선\n"
     ]
    },
    {
     "name": "stderr",
     "output_type": "stream",
     "text": [
      "100%|██████████████████████████████████████████████████████████████████████████████| 916/916 [00:00<00:00, 5179.49it/s]\n"
     ]
    },
    {
     "name": "stdout",
     "output_type": "stream",
     "text": [
      "인덱스 : 777 회사명 : 현대백화점\n"
     ]
    },
    {
     "name": "stderr",
     "output_type": "stream",
     "text": [
      "100%|████████████████████████████████████████████████████████████████████████████| 1843/1843 [00:00<00:00, 5477.42it/s]\n"
     ]
    },
    {
     "name": "stdout",
     "output_type": "stream",
     "text": [
      "인덱스 : 778 회사명 : 현대비앤지스틸\n"
     ]
    },
    {
     "name": "stderr",
     "output_type": "stream",
     "text": [
      "100%|████████████████████████████████████████████████████████████████████████████| 1542/1542 [00:00<00:00, 4956.71it/s]\n"
     ]
    },
    {
     "name": "stdout",
     "output_type": "stream",
     "text": [
      "인덱스 : 779 회사명 : 현대약품\n"
     ]
    },
    {
     "name": "stderr",
     "output_type": "stream",
     "text": [
      "100%|████████████████████████████████████████████████████████████████████████████| 1932/1932 [00:00<00:00, 5489.23it/s]\n"
     ]
    },
    {
     "name": "stdout",
     "output_type": "stream",
     "text": [
      "인덱스 : 780 회사명 : 현대에너지솔루션\n"
     ]
    },
    {
     "name": "stderr",
     "output_type": "stream",
     "text": [
      "100%|██████████████████████████████████████████████████████████████████████████████| 175/175 [00:00<00:00, 4302.46it/s]\n"
     ]
    },
    {
     "name": "stdout",
     "output_type": "stream",
     "text": [
      "인덱스 : 781 회사명 : 현대엘리베이\n"
     ]
    },
    {
     "name": "stderr",
     "output_type": "stream",
     "text": [
      "100%|████████████████████████████████████████████████████████████████████████████| 1270/1270 [00:00<00:00, 4821.76it/s]\n"
     ]
    },
    {
     "name": "stdout",
     "output_type": "stream",
     "text": [
      "인덱스 : 782 회사명 : 현대오토에버\n"
     ]
    },
    {
     "name": "stderr",
     "output_type": "stream",
     "text": [
      "100%|██████████████████████████████████████████████████████████████████████████████| 561/561 [00:00<00:00, 4861.21it/s]\n"
     ]
    },
    {
     "name": "stdout",
     "output_type": "stream",
     "text": [
      "인덱스 : 783 회사명 : 현대위아\n"
     ]
    },
    {
     "name": "stderr",
     "output_type": "stream",
     "text": [
      "100%|████████████████████████████████████████████████████████████████████████████| 1051/1051 [00:00<00:00, 5057.74it/s]\n"
     ]
    },
    {
     "name": "stdout",
     "output_type": "stream",
     "text": [
      "인덱스 : 784 회사명 : 현대일렉트릭\n"
     ]
    },
    {
     "name": "stderr",
     "output_type": "stream",
     "text": [
      "100%|██████████████████████████████████████████████████████████████████████████████| 340/340 [00:00<00:00, 5767.63it/s]\n"
     ]
    },
    {
     "name": "stdout",
     "output_type": "stream",
     "text": [
      "인덱스 : 785 회사명 : 현대제철\n"
     ]
    },
    {
     "name": "stderr",
     "output_type": "stream",
     "text": [
      "100%|████████████████████████████████████████████████████████████████████████████| 2801/2801 [00:00<00:00, 5496.66it/s]\n"
     ]
    },
    {
     "name": "stdout",
     "output_type": "stream",
     "text": [
      "인덱스 : 786 회사명 : 현대중공업\n"
     ]
    },
    {
     "name": "stderr",
     "output_type": "stream",
     "text": [
      "100%|████████████████████████████████████████████████████████████████████████████| 3612/3612 [00:00<00:00, 5504.52it/s]\n"
     ]
    },
    {
     "name": "stdout",
     "output_type": "stream",
     "text": [
      "인덱스 : 787 회사명 : 현대차\n"
     ]
    },
    {
     "name": "stderr",
     "output_type": "stream",
     "text": [
      "100%|██████████████████████████████████████████████████████████████████████████| 10771/10771 [00:01<00:00, 5468.95it/s]\n"
     ]
    },
    {
     "name": "stdout",
     "output_type": "stream",
     "text": [
      "인덱스 : 788 회사명 : 현대차증권\n"
     ]
    },
    {
     "name": "stderr",
     "output_type": "stream",
     "text": [
      "100%|████████████████████████████████████████████████████████████████████████████| 1813/1813 [00:00<00:00, 5201.14it/s]\n"
     ]
    },
    {
     "name": "stdout",
     "output_type": "stream",
     "text": [
      "인덱스 : 789 회사명 : 현대코퍼레이션\n"
     ]
    },
    {
     "name": "stderr",
     "output_type": "stream",
     "text": [
      "100%|██████████████████████████████████████████████████████████████████████████████| 926/926 [00:00<00:00, 4695.63it/s]\n"
     ]
    },
    {
     "name": "stdout",
     "output_type": "stream",
     "text": [
      "인덱스 : 790 회사명 : 현대코퍼레이션홀딩스\n"
     ]
    },
    {
     "name": "stderr",
     "output_type": "stream",
     "text": [
      "100%|██████████████████████████████████████████████████████████████████████████████| 594/594 [00:00<00:00, 4807.19it/s]\n"
     ]
    },
    {
     "name": "stdout",
     "output_type": "stream",
     "text": [
      "인덱스 : 791 회사명 : 현대퓨처넷\n"
     ]
    },
    {
     "name": "stderr",
     "output_type": "stream",
     "text": [
      "100%|██████████████████████████████████████████████████████████████████████████████| 141/141 [00:00<00:00, 4712.66it/s]\n"
     ]
    },
    {
     "name": "stdout",
     "output_type": "stream",
     "text": [
      "인덱스 : 792 회사명 : 현대해상\n"
     ]
    },
    {
     "name": "stderr",
     "output_type": "stream",
     "text": [
      "100%|██████████████████████████████████████████████████████████████████████████████| 860/860 [00:00<00:00, 5135.72it/s]\n"
     ]
    },
    {
     "name": "stdout",
     "output_type": "stream",
     "text": [
      "인덱스 : 793 회사명 : 현대홈쇼핑\n"
     ]
    },
    {
     "name": "stderr",
     "output_type": "stream",
     "text": [
      "100%|██████████████████████████████████████████████████████████████████████████████| 572/572 [00:00<00:00, 4932.62it/s]\n"
     ]
    },
    {
     "name": "stdout",
     "output_type": "stream",
     "text": [
      "인덱스 : 794 회사명 : 형지엘리트\n"
     ]
    },
    {
     "name": "stderr",
     "output_type": "stream",
     "text": [
      "100%|████████████████████████████████████████████████████████████████████████████| 1386/1386 [00:00<00:00, 5184.48it/s]\n"
     ]
    },
    {
     "name": "stdout",
     "output_type": "stream",
     "text": [
      "인덱스 : 795 회사명 : 혜인\n"
     ]
    },
    {
     "name": "stderr",
     "output_type": "stream",
     "text": [
      "100%|████████████████████████████████████████████████████████████████████████████| 1477/1477 [00:00<00:00, 5152.20it/s]\n"
     ]
    },
    {
     "name": "stdout",
     "output_type": "stream",
     "text": [
      "인덱스 : 796 회사명 : 호전실업\n"
     ]
    },
    {
     "name": "stderr",
     "output_type": "stream",
     "text": [
      "100%|██████████████████████████████████████████████████████████████████████████████| 690/690 [00:00<00:00, 5177.09it/s]\n"
     ]
    },
    {
     "name": "stdout",
     "output_type": "stream",
     "text": [
      "인덱스 : 797 회사명 : 호텔신라\n"
     ]
    },
    {
     "name": "stderr",
     "output_type": "stream",
     "text": [
      "100%|████████████████████████████████████████████████████████████████████████████| 2602/2602 [00:00<00:00, 5359.46it/s]\n"
     ]
    },
    {
     "name": "stdout",
     "output_type": "stream",
     "text": [
      "인덱스 : 798 회사명 : 화성산업\n"
     ]
    },
    {
     "name": "stderr",
     "output_type": "stream",
     "text": [
      "100%|████████████████████████████████████████████████████████████████████████████| 2058/2058 [00:00<00:00, 2801.09it/s]\n"
     ]
    },
    {
     "name": "stdout",
     "output_type": "stream",
     "text": [
      "인덱스 : 799 회사명 : 화승알앤에이\n"
     ]
    },
    {
     "name": "stderr",
     "output_type": "stream",
     "text": [
      "100%|██████████████████████████████████████████████████████████████████████████████| 608/608 [00:00<00:00, 5369.43it/s]\n"
     ]
    },
    {
     "name": "stdout",
     "output_type": "stream",
     "text": [
      "인덱스 : 800 회사명 : 화승엔터프라이즈\n"
     ]
    },
    {
     "name": "stderr",
     "output_type": "stream",
     "text": [
      "100%|██████████████████████████████████████████████████████████████████████████████| 952/952 [00:00<00:00, 4925.32it/s]\n"
     ]
    },
    {
     "name": "stdout",
     "output_type": "stream",
     "text": [
      "인덱스 : 801 회사명 : 화승인더\n"
     ]
    },
    {
     "name": "stderr",
     "output_type": "stream",
     "text": [
      "100%|██████████████████████████████████████████████████████████████████████████████| 817/817 [00:00<00:00, 5377.47it/s]\n"
     ]
    },
    {
     "name": "stdout",
     "output_type": "stream",
     "text": [
      "인덱스 : 802 회사명 : 화승코퍼레이션\n"
     ]
    },
    {
     "name": "stderr",
     "output_type": "stream",
     "text": [
      "100%|██████████████████████████████████████████████████████████████████████████████| 106/106 [00:00<00:00, 4805.56it/s]\n"
     ]
    },
    {
     "name": "stdout",
     "output_type": "stream",
     "text": [
      "인덱스 : 803 회사명 : 화신\n"
     ]
    },
    {
     "name": "stderr",
     "output_type": "stream",
     "text": [
      "100%|████████████████████████████████████████████████████████████████████████████| 2632/2632 [00:00<00:00, 5419.98it/s]\n"
     ]
    },
    {
     "name": "stdout",
     "output_type": "stream",
     "text": [
      "인덱스 : 804 회사명 : 화인베스틸\n"
     ]
    },
    {
     "name": "stderr",
     "output_type": "stream",
     "text": [
      "100%|██████████████████████████████████████████████████████████████████████████████| 690/690 [00:00<00:00, 4901.65it/s]\n"
     ]
    },
    {
     "name": "stdout",
     "output_type": "stream",
     "text": [
      "인덱스 : 805 회사명 : 화천기계\n"
     ]
    },
    {
     "name": "stderr",
     "output_type": "stream",
     "text": [
      "100%|██████████████████████████████████████████████████████████████████████████████| 738/738 [00:00<00:00, 4771.57it/s]\n"
     ]
    },
    {
     "name": "stdout",
     "output_type": "stream",
     "text": [
      "인덱스 : 806 회사명 : 화천기공\n"
     ]
    },
    {
     "name": "stderr",
     "output_type": "stream",
     "text": [
      "100%|██████████████████████████████████████████████████████████████████████████████| 506/506 [00:00<00:00, 6029.06it/s]\n"
     ]
    },
    {
     "name": "stdout",
     "output_type": "stream",
     "text": [
      "인덱스 : 807 회사명 : 환인제약\n"
     ]
    },
    {
     "name": "stderr",
     "output_type": "stream",
     "text": [
      "100%|██████████████████████████████████████████████████████████████████████████████| 967/967 [00:00<00:00, 5224.73it/s]\n"
     ]
    },
    {
     "name": "stdout",
     "output_type": "stream",
     "text": [
      "인덱스 : 808 회사명 : 황금에스티\n"
     ]
    },
    {
     "name": "stderr",
     "output_type": "stream",
     "text": [
      "100%|██████████████████████████████████████████████████████████████████████████████| 655/655 [00:00<00:00, 5088.43it/s]\n"
     ]
    },
    {
     "name": "stdout",
     "output_type": "stream",
     "text": [
      "인덱스 : 809 회사명 : 효성\n"
     ]
    },
    {
     "name": "stderr",
     "output_type": "stream",
     "text": [
      "100%|████████████████████████████████████████████████████████████████████████████| 4151/4151 [00:00<00:00, 5484.37it/s]\n"
     ]
    },
    {
     "name": "stdout",
     "output_type": "stream",
     "text": [
      "인덱스 : 810 회사명 : 효성ITX\n"
     ]
    },
    {
     "name": "stderr",
     "output_type": "stream",
     "text": [
      "100%|██████████████████████████████████████████████████████████████████████████████| 201/201 [00:00<00:00, 5403.30it/s]\n"
     ]
    },
    {
     "name": "stdout",
     "output_type": "stream",
     "text": [
      "인덱스 : 811 회사명 : 효성중공업\n"
     ]
    },
    {
     "name": "stderr",
     "output_type": "stream",
     "text": [
      "100%|██████████████████████████████████████████████████████████████████████████████| 266/266 [00:00<00:00, 5749.26it/s]\n"
     ]
    },
    {
     "name": "stdout",
     "output_type": "stream",
     "text": [
      "인덱스 : 812 회사명 : 효성첨단소재\n"
     ]
    },
    {
     "name": "stderr",
     "output_type": "stream",
     "text": [
      "100%|██████████████████████████████████████████████████████████████████████████████| 419/419 [00:00<00:00, 4678.08it/s]\n"
     ]
    },
    {
     "name": "stdout",
     "output_type": "stream",
     "text": [
      "인덱스 : 813 회사명 : 효성티앤씨\n"
     ]
    },
    {
     "name": "stderr",
     "output_type": "stream",
     "text": [
      "100%|██████████████████████████████████████████████████████████████████████████████| 443/443 [00:00<00:00, 4893.47it/s]\n"
     ]
    },
    {
     "name": "stdout",
     "output_type": "stream",
     "text": [
      "인덱스 : 814 회사명 : 효성화학\n"
     ]
    },
    {
     "name": "stderr",
     "output_type": "stream",
     "text": [
      "100%|██████████████████████████████████████████████████████████████████████████████| 291/291 [00:00<00:00, 5489.46it/s]\n"
     ]
    },
    {
     "name": "stdout",
     "output_type": "stream",
     "text": [
      "인덱스 : 815 회사명 : 후성\n"
     ]
    },
    {
     "name": "stderr",
     "output_type": "stream",
     "text": [
      "100%|████████████████████████████████████████████████████████████████████████████| 2479/2479 [00:00<00:00, 4873.42it/s]\n"
     ]
    },
    {
     "name": "stdout",
     "output_type": "stream",
     "text": [
      "인덱스 : 816 회사명 : 휠라홀딩스\n"
     ]
    },
    {
     "name": "stderr",
     "output_type": "stream",
     "text": [
      "100%|██████████████████████████████████████████████████████████████████████████████| 264/264 [00:00<00:00, 4520.94it/s]\n"
     ]
    },
    {
     "name": "stdout",
     "output_type": "stream",
     "text": [
      "인덱스 : 817 회사명 : 휴니드\n"
     ]
    },
    {
     "name": "stderr",
     "output_type": "stream",
     "text": [
      "100%|████████████████████████████████████████████████████████████████████████████████| 33/33 [00:00<00:00, 1910.40it/s]"
     ]
    },
    {
     "name": "stdout",
     "output_type": "stream",
     "text": [
      "인덱스 : 818 회사명 : 휴비스\n"
     ]
    },
    {
     "name": "stderr",
     "output_type": "stream",
     "text": [
      "\n",
      "100%|████████████████████████████████████████████████████████████████████████████| 1388/1388 [00:00<00:00, 5403.64it/s]\n"
     ]
    },
    {
     "name": "stdout",
     "output_type": "stream",
     "text": [
      "인덱스 : 819 회사명 : 휴스틸\n"
     ]
    },
    {
     "name": "stderr",
     "output_type": "stream",
     "text": [
      "100%|██████████████████████████████████████████████████████████████████████████████| 878/878 [00:00<00:00, 5075.06it/s]\n"
     ]
    },
    {
     "name": "stdout",
     "output_type": "stream",
     "text": [
      "인덱스 : 820 회사명 : 흥국화재\n"
     ]
    },
    {
     "name": "stderr",
     "output_type": "stream",
     "text": [
      "100%|████████████████████████████████████████████████████████████████████████████| 2027/2027 [00:00<00:00, 5388.71it/s]\n"
     ]
    },
    {
     "name": "stdout",
     "output_type": "stream",
     "text": [
      "인덱스 : 821 회사명 : 흥아해운\n"
     ]
    },
    {
     "name": "stderr",
     "output_type": "stream",
     "text": [
      "100%|████████████████████████████████████████████████████████████████████████████| 1113/1113 [00:00<00:00, 5335.42it/s]\n"
     ]
    }
   ],
   "source": [
    "path = './data/개별기업뉴스_전처리/'\n",
    "file_list = os.listdir(path)\n",
    "cnt = 0\n",
    "for file in file_list[:]:\n",
    "    cnt+=1\n",
    "    corp_name = file[:-4]\n",
    "    print('인덱스 :',cnt, '회사명 :',corp_name)\n",
    "    file_path = os.path.join(path,file)\n",
    "    df_n = pd.read_csv(file_path,index_col=0)\n",
    "    df_n.reset_index(drop=True, inplace=True)\n",
    "    \n",
    "    news_data = df_n['뉴스제목']\n",
    "    news_x = text_data(news_data)\n",
    "    \n",
    "    predicted_value = sentiment_model_best.predict(news_x)\n",
    "    predicted_label = np.argmax(predicted_value, axis = 1)\n",
    "    predicted_label = pd.Series(predicted_label).apply(lambda x: -1 if x== 2 else x )\n",
    "    df_n['감성점수'] = predicted_label\n",
    "    \n",
    "    df_n.to_csv('./data/데이터_뉴스+감성점수/{}.csv'.format(corp_name))\n"
   ]
  },
  {
   "cell_type": "code",
   "execution_count": 25,
   "id": "45bc3402",
   "metadata": {
    "ExecuteTime": {
     "end_time": "2022-06-10T10:20:33.426606Z",
     "start_time": "2022-06-10T10:20:33.412463Z"
    }
   },
   "outputs": [
    {
     "data": {
      "text/plain": [
       "0      0\n",
       "1      0\n",
       "2      0\n",
       "3      0\n",
       "4      0\n",
       "      ..\n",
       "902    1\n",
       "903    0\n",
       "904    1\n",
       "905    0\n",
       "906    1\n",
       "Length: 907, dtype: int64"
      ]
     },
     "execution_count": 25,
     "metadata": {},
     "output_type": "execute_result"
    }
   ],
   "source": [
    "predicted_label"
   ]
  },
  {
   "cell_type": "code",
   "execution_count": 26,
   "id": "d0fcbde8",
   "metadata": {
    "ExecuteTime": {
     "end_time": "2022-06-10T10:20:34.065750Z",
     "start_time": "2022-06-10T10:20:34.050763Z"
    }
   },
   "outputs": [
    {
     "data": {
      "text/plain": [
       "0      0\n",
       "1      0\n",
       "2      0\n",
       "3      0\n",
       "4      0\n",
       "      ..\n",
       "902    1\n",
       "903    0\n",
       "904    1\n",
       "905    0\n",
       "906    1\n",
       "Name: 감성점수, Length: 907, dtype: int64"
      ]
     },
     "execution_count": 26,
     "metadata": {},
     "output_type": "execute_result"
    }
   ],
   "source": [
    "df_n['감성점수']"
   ]
  },
  {
   "cell_type": "code",
   "execution_count": 27,
   "id": "8763ba0d",
   "metadata": {
    "ExecuteTime": {
     "end_time": "2022-06-10T10:20:36.655039Z",
     "start_time": "2022-06-10T10:20:36.620162Z"
    }
   },
   "outputs": [
    {
     "data": {
      "text/html": [
       "<div>\n",
       "<style scoped>\n",
       "    .dataframe tbody tr th:only-of-type {\n",
       "        vertical-align: middle;\n",
       "    }\n",
       "\n",
       "    .dataframe tbody tr th {\n",
       "        vertical-align: top;\n",
       "    }\n",
       "\n",
       "    .dataframe thead th {\n",
       "        text-align: right;\n",
       "    }\n",
       "</style>\n",
       "<table border=\"1\" class=\"dataframe\">\n",
       "  <thead>\n",
       "    <tr style=\"text-align: right;\">\n",
       "      <th></th>\n",
       "      <th>날짜</th>\n",
       "      <th>뉴스제목</th>\n",
       "      <th>뉴스요약</th>\n",
       "      <th>감성점수</th>\n",
       "    </tr>\n",
       "  </thead>\n",
       "  <tbody>\n",
       "    <tr>\n",
       "      <th>0</th>\n",
       "      <td>2016-01-04</td>\n",
       "      <td>AJ네트웍스, SKB 등에업고 '고리사채급 위약금 폭탄'</td>\n",
       "      <td>AJ네트웍스가 SK브로드밴드를 통해 진행중인 '스마트렌탈'의 위약금 규정 및 취급상...</td>\n",
       "      <td>0</td>\n",
       "    </tr>\n",
       "    <tr>\n",
       "      <th>1</th>\n",
       "      <td>2016-01-05</td>\n",
       "      <td>AJ네트웍스, 스마트폰, 태블릿PC 렌탈사업 시작</td>\n",
       "      <td>국내 IT기기 렌탈의 선두주자인 AJ네트웍스에서 Mobile Device(스마트폰,...</td>\n",
       "      <td>0</td>\n",
       "    </tr>\n",
       "    <tr>\n",
       "      <th>2</th>\n",
       "      <td>2016-01-06</td>\n",
       "      <td>AJ네트웍스, 스마트폰, 태블릿PC 등 Mobile Device 렌탈 사업 시작</td>\n",
       "      <td>국내 IT기기 렌탈의 선두주자인 AJ네트웍스에서 Mobile Device(스마트폰,...</td>\n",
       "      <td>0</td>\n",
       "    </tr>\n",
       "    <tr>\n",
       "      <th>3</th>\n",
       "      <td>2016-01-13</td>\n",
       "      <td>AJ네트웍스, 파렛트및 고소장비 렌탈 신규 서비스 브랜드 런칭</td>\n",
       "      <td>AJ네트웍스(사장 반채운)가 파렛트와 고소장비 렌탈 부문의 신규 서비스 브랜드를 런...</td>\n",
       "      <td>0</td>\n",
       "    </tr>\n",
       "    <tr>\n",
       "      <th>4</th>\n",
       "      <td>2016-01-22</td>\n",
       "      <td>대상·AJ네트웍스 등 비우량채도 잇달아 발행 성공</td>\n",
       "      <td>신용등급이 BBB+인 AJ네트웍스도 회사채 발행을 위해 지난 20일 투자자들을 대상...</td>\n",
       "      <td>0</td>\n",
       "    </tr>\n",
       "  </tbody>\n",
       "</table>\n",
       "</div>"
      ],
      "text/plain": [
       "           날짜                                          뉴스제목  \\\n",
       "0  2016-01-04               AJ네트웍스, SKB 등에업고 '고리사채급 위약금 폭탄'   \n",
       "1  2016-01-05                   AJ네트웍스, 스마트폰, 태블릿PC 렌탈사업 시작   \n",
       "2  2016-01-06  AJ네트웍스, 스마트폰, 태블릿PC 등 Mobile Device 렌탈 사업 시작   \n",
       "3  2016-01-13            AJ네트웍스, 파렛트및 고소장비 렌탈 신규 서비스 브랜드 런칭   \n",
       "4  2016-01-22                   대상·AJ네트웍스 등 비우량채도 잇달아 발행 성공   \n",
       "\n",
       "                                                뉴스요약  감성점수  \n",
       "0  AJ네트웍스가 SK브로드밴드를 통해 진행중인 '스마트렌탈'의 위약금 규정 및 취급상...     0  \n",
       "1  국내 IT기기 렌탈의 선두주자인 AJ네트웍스에서 Mobile Device(스마트폰,...     0  \n",
       "2  국내 IT기기 렌탈의 선두주자인 AJ네트웍스에서 Mobile Device(스마트폰,...     0  \n",
       "3  AJ네트웍스(사장 반채운)가 파렛트와 고소장비 렌탈 부문의 신규 서비스 브랜드를 런...     0  \n",
       "4  신용등급이 BBB+인 AJ네트웍스도 회사채 발행을 위해 지난 20일 투자자들을 대상...     0  "
      ]
     },
     "execution_count": 27,
     "metadata": {},
     "output_type": "execute_result"
    }
   ],
   "source": [
    "temp = pd.read_csv('./data/데이터_뉴스+감성점수/AJ네트웍스.csv',index_col=0)\n",
    "temp.head()"
   ]
  },
  {
   "cell_type": "code",
   "execution_count": 28,
   "id": "499a77f0",
   "metadata": {
    "ExecuteTime": {
     "end_time": "2022-06-10T10:21:33.647919Z",
     "start_time": "2022-06-10T10:21:33.633957Z"
    }
   },
   "outputs": [
    {
     "data": {
      "text/plain": [
       "날짜\n",
       "2016-01-04    0\n",
       "2016-01-05    0\n",
       "2016-01-06    0\n",
       "2016-01-13    0\n",
       "2016-01-22    0\n",
       "             ..\n",
       "2022-05-14    0\n",
       "2022-05-15    1\n",
       "2022-05-16    1\n",
       "2022-05-23    1\n",
       "2022-05-25    2\n",
       "Name: 감성점수, Length: 558, dtype: int64"
      ]
     },
     "execution_count": 28,
     "metadata": {},
     "output_type": "execute_result"
    }
   ],
   "source": [
    "temp.groupby('날짜')['감성점수'].sum()"
   ]
  },
  {
   "cell_type": "code",
   "execution_count": null,
   "id": "8a3d5558",
   "metadata": {},
   "outputs": [],
   "source": [
    "max_seq_len = 128\n",
    "def convert_text_to_features(examples, labels, max_seq_len, tokenizer):\n",
    "\n",
    "    input_ids, attention_masks, token_type_ids, data_labels = [], [], [], []\n",
    "\n",
    "    for example, label in tqdm(zip(examples, labels), total=len(examples)):\n",
    "        # input_id는 워드 임베딩을 위한 문장의 정수 인코딩\n",
    "        input_id = tokenizer.encode(example, max_length=max_seq_len, pad_to_max_length=True)\n",
    "\n",
    "        # attention_mask는 실제 단어가 위치하면 1, 패딩의 위치에는 0인 시퀀스.\n",
    "        padding_count = input_id.count(tokenizer.pad_token_id)\n",
    "        attention_mask = [1] * (max_seq_len - padding_count) + [0] * padding_count\n",
    "\n",
    "        # token_type_id은 segment 인코딩(한 문장이므로 모두 0)\n",
    "        token_type_id = [0] * max_seq_len\n",
    "\n",
    "        input_ids.append(input_id)\n",
    "        attention_masks.append(attention_mask)\n",
    "        token_type_ids.append(token_type_id)\n",
    "        data_labels.append(label)\n",
    "        \n",
    "    # numpy array 형태로 저장\n",
    "    input_ids = np.array(input_ids, dtype=int)\n",
    "    attention_masks = np.array(attention_masks, dtype=int)\n",
    "    token_type_ids = np.array(token_type_ids, dtype=int)\n",
    "\n",
    "    data_labels = np.asarray(data_labels, dtype=np.int32)\n",
    "\n",
    "    return (input_ids, attention_masks, token_type_ids), data_labels"
   ]
  },
  {
   "cell_type": "code",
   "execution_count": null,
   "id": "0fd0b35f",
   "metadata": {},
   "outputs": [],
   "source": []
  },
  {
   "cell_type": "code",
   "execution_count": null,
   "id": "af01092e",
   "metadata": {},
   "outputs": [],
   "source": []
  },
  {
   "cell_type": "markdown",
   "id": "45afed17",
   "metadata": {},
   "source": [
    "#  Gitub: github.com/ukairia777/finance_sentiment_corpus/blob/main/BERT_sentiment_analysis_kor.ipynb"
   ]
  },
  {
   "cell_type": "code",
   "execution_count": 18,
   "id": "3ccf3ce7",
   "metadata": {
    "ExecuteTime": {
     "end_time": "2022-06-25T02:27:22.667546Z",
     "start_time": "2022-06-25T02:27:22.651579Z"
    }
   },
   "outputs": [],
   "source": [
    "max_seq_len = 64"
   ]
  },
  {
   "cell_type": "code",
   "execution_count": 19,
   "id": "ae182047",
   "metadata": {
    "ExecuteTime": {
     "end_time": "2022-06-25T02:27:27.150659Z",
     "start_time": "2022-06-25T02:27:22.921505Z"
    }
   },
   "outputs": [],
   "source": [
    "tokenizer = BertTokenizer.from_pretrained('klue/bert-base')"
   ]
  },
  {
   "cell_type": "code",
   "execution_count": 20,
   "id": "c0ee6973",
   "metadata": {
    "ExecuteTime": {
     "end_time": "2022-06-25T02:27:27.229666Z",
     "start_time": "2022-06-25T02:27:27.214698Z"
    }
   },
   "outputs": [],
   "source": [
    "max_seq_len = 64\n",
    "def convert_examples_to_features(examples, labels, max_seq_len, tokenizer):\n",
    "\n",
    "    input_ids, attention_masks, token_type_ids, data_labels = [], [], [], []\n",
    "\n",
    "    for example, label in tqdm(zip(examples, labels), total=len(examples)):\n",
    "        # input_id는 워드 임베딩을 위한 문장의 정수 인코딩\n",
    "        input_id = tokenizer.encode(example, max_length=max_seq_len, pad_to_max_length=True)\n",
    "\n",
    "        # attention_mask는 실제 단어가 위치하면 1, 패딩의 위치에는 0인 시퀀스.\n",
    "        padding_count = input_id.count(tokenizer.pad_token_id)\n",
    "        attention_mask = [1] * (max_seq_len - padding_count) + [0] * padding_count\n",
    "\n",
    "        # token_type_id은 segment 인코딩(한 문장이므로 모두 0)\n",
    "        token_type_id = [0] * max_seq_len\n",
    "\n",
    "        assert len(input_id) == max_seq_len, \"Error with input length {} vs {}\".format(len(input_id), max_seq_len)\n",
    "        assert len(attention_mask) == max_seq_len, \"Error with attention mask length {} vs {}\".format(len(attention_mask), max_seq_len)\n",
    "        assert len(token_type_id) == max_seq_len, \"Error with token type length {} vs {}\".format(len(token_type_id), max_seq_len)\n",
    "\n",
    "        input_ids.append(input_id)\n",
    "        attention_masks.append(attention_mask)\n",
    "        token_type_ids.append(token_type_id)\n",
    "        data_labels.append(label)\n",
    "\n",
    "    input_ids = np.array(input_ids, dtype=int)\n",
    "    attention_masks = np.array(attention_masks, dtype=int)\n",
    "    token_type_ids = np.array(token_type_ids, dtype=int)\n",
    "\n",
    "    data_labels = np.asarray(data_labels, dtype=np.int32)\n",
    "\n",
    "    return (input_ids, attention_masks, token_type_ids), data_labels"
   ]
  },
  {
   "cell_type": "code",
   "execution_count": 21,
   "id": "2b8e4daf",
   "metadata": {
    "ExecuteTime": {
     "end_time": "2022-06-25T02:27:28.471220Z",
     "start_time": "2022-06-25T02:27:27.293672Z"
    }
   },
   "outputs": [
    {
     "name": "stderr",
     "output_type": "stream",
     "text": [
      "  0%|                                                                                         | 0/3861 [00:00<?, ?it/s]Truncation was not explicitly activated but `max_length` is provided a specific value, please use `truncation=True` to explicitly truncate examples to max length. Defaulting to 'longest_first' truncation strategy. If you encode pairs of sequences (GLUE-style) with the tokenizer you can select this strategy more precisely by providing a specific strategy to `truncation`.\n",
      "C:\\Users\\bitcamp\\anaconda3\\lib\\site-packages\\transformers\\tokenization_utils_base.py:2263: FutureWarning: The `pad_to_max_length` argument is deprecated and will be removed in a future version, use `padding=True` or `padding='longest'` to pad to the longest sequence in the batch, or use `padding='max_length'` to pad to a max length. In this case, you can give a specific length with `max_length` (e.g. `max_length=45`) or leave max_length to None to pad to the maximal input size of the model (e.g. 512 for Bert).\n",
      "  warnings.warn(\n",
      "100%|████████████████████████████████████████████████████████████████████████████| 3861/3861 [00:01<00:00, 3467.51it/s]\n"
     ]
    }
   ],
   "source": [
    "train_X, train_y = convert_examples_to_features(X_train, y_train, max_seq_len=max_seq_len, tokenizer=tokenizer)"
   ]
  },
  {
   "cell_type": "code",
   "execution_count": 22,
   "id": "2a7aeb7b",
   "metadata": {
    "ExecuteTime": {
     "end_time": "2022-06-25T02:27:28.839206Z",
     "start_time": "2022-06-25T02:27:28.536149Z"
    }
   },
   "outputs": [
    {
     "name": "stderr",
     "output_type": "stream",
     "text": [
      "  0%|                                                                                          | 0/966 [00:00<?, ?it/s]C:\\Users\\bitcamp\\anaconda3\\lib\\site-packages\\transformers\\tokenization_utils_base.py:2263: FutureWarning: The `pad_to_max_length` argument is deprecated and will be removed in a future version, use `padding=True` or `padding='longest'` to pad to the longest sequence in the batch, or use `padding='max_length'` to pad to a max length. In this case, you can give a specific length with `max_length` (e.g. `max_length=45`) or leave max_length to None to pad to the maximal input size of the model (e.g. 512 for Bert).\n",
      "  warnings.warn(\n",
      "100%|██████████████████████████████████████████████████████████████████████████████| 966/966 [00:00<00:00, 3449.96it/s]\n"
     ]
    }
   ],
   "source": [
    "test_X, test_y = convert_examples_to_features(X_test, y_test, max_seq_len=max_seq_len, tokenizer=tokenizer)"
   ]
  },
  {
   "cell_type": "code",
   "execution_count": 23,
   "id": "5ad5e22d",
   "metadata": {
    "ExecuteTime": {
     "end_time": "2022-06-25T02:27:34.741484Z",
     "start_time": "2022-06-25T02:27:31.386408Z"
    }
   },
   "outputs": [
    {
     "name": "stderr",
     "output_type": "stream",
     "text": [
      "Some weights of the PyTorch model were not used when initializing the TF 2.0 model TFBertForSequenceClassification: ['bert.embeddings.position_ids']\n",
      "- This IS expected if you are initializing TFBertForSequenceClassification from a PyTorch model trained on another task or with another architecture (e.g. initializing a TFBertForSequenceClassification model from a BertForPreTraining model).\n",
      "- This IS NOT expected if you are initializing TFBertForSequenceClassification from a PyTorch model that you expect to be exactly identical (e.g. initializing a TFBertForSequenceClassification model from a BertForSequenceClassification model).\n",
      "Some weights or buffers of the TF 2.0 model TFBertForSequenceClassification were not initialized from the PyTorch model and are newly initialized: ['classifier.weight', 'classifier.bias']\n",
      "You should probably TRAIN this model on a down-stream task to be able to use it for predictions and inference.\n"
     ]
    }
   ],
   "source": [
    "model = TFBertForSequenceClassification.from_pretrained(\"klue/bert-base\", num_labels=3, from_pt=True)\n",
    "optimizer = tf.keras.optimizers.Adam(learning_rate=5e-5)\n",
    "loss = tf.keras.losses.SparseCategoricalCrossentropy()\n",
    "model.compile(optimizer=optimizer, loss=model.compute_loss, metrics = ['accuracy'])"
   ]
  },
  {
   "cell_type": "code",
   "execution_count": 24,
   "id": "4d036d36",
   "metadata": {
    "ExecuteTime": {
     "end_time": "2022-06-25T02:28:53.042433Z",
     "start_time": "2022-06-25T02:27:34.806454Z"
    },
    "scrolled": true
   },
   "outputs": [
    {
     "name": "stdout",
     "output_type": "stream",
     "text": [
      "Epoch 1/2\n"
     ]
    },
    {
     "name": "stderr",
     "output_type": "stream",
     "text": [
      "C:\\Users\\bitcamp\\anaconda3\\lib\\site-packages\\tensorflow\\python\\autograph\\impl\\api.py:376: FutureWarning: The old compute_loss method is deprecated as it conflicts with the Keras compute_loss method added in TF 2.8. If you want the original HF compute_loss, please call hf_compute_loss() instead. From TF versions >= 2.8, or Transformers versions >= 5, calling compute_loss() will get the Keras method instead.\n",
      "  return py_builtins.overload_of(f)(*args)\n"
     ]
    },
    {
     "name": "stdout",
     "output_type": "stream",
     "text": [
      "97/97 [==============================] - 47s 347ms/step - loss: 0.5478 - accuracy: 0.7691 - val_loss: 0.5373 - val_accuracy: 0.7943\n",
      "Epoch 2/2\n",
      "97/97 [==============================] - 32s 326ms/step - loss: 0.2771 - accuracy: 0.8944 - val_loss: 0.4599 - val_accuracy: 0.8111\n"
     ]
    }
   ],
   "source": [
    "early_stopping = EarlyStopping(\n",
    "    monitor=\"val_accuracy\", \n",
    "    min_delta=0.001,\n",
    "    patience=2)\n",
    "\n",
    "with tf.device('/GPU:0'):\n",
    "    model.fit(\n",
    "        train_X, train_y, epochs=2, batch_size=32, validation_split=0.2,\n",
    "        callbacks = [early_stopping]\n",
    "    )"
   ]
  },
  {
   "cell_type": "code",
   "execution_count": 26,
   "id": "c3db6a2c",
   "metadata": {
    "ExecuteTime": {
     "end_time": "2022-06-25T02:29:04.278448Z",
     "start_time": "2022-06-25T02:29:02.122355Z"
    }
   },
   "outputs": [
    {
     "name": "stdout",
     "output_type": "stream",
     "text": [
      "1/1 [==============================] - 2s 2s/step - loss: 0.4109 - accuracy: 0.8416\n"
     ]
    },
    {
     "data": {
      "text/plain": [
       "[0.41085386276245117, 0.8416149020195007]"
      ]
     },
     "execution_count": 26,
     "metadata": {},
     "output_type": "execute_result"
    }
   ],
   "source": [
    "model.evaluate(test_X, test_y, batch_size=1024)"
   ]
  },
  {
   "cell_type": "code",
   "execution_count": null,
   "id": "acfeb914",
   "metadata": {},
   "outputs": [],
   "source": []
  },
  {
   "cell_type": "code",
   "execution_count": null,
   "id": "ef2ff759",
   "metadata": {},
   "outputs": [],
   "source": [
    "# 최고 성능의 모델 파일을 저장할 이름과 경로 설정\n",
    "BEST_MODEL_NAME = './data/model/best_model2.h5'\n",
    "model_checkpoint = ModelCheckpoint(\n",
    "    filepath = BEST_MODEL_NAME,\n",
    "    monitor = \"val_loss\",\n",
    "    mode = \"min\",\n",
    "    save_best_only = True, # 성능 향상 시에만 모델 저장\n",
    "    verbose = 1\n",
    ")"
   ]
  },
  {
   "cell_type": "code",
   "execution_count": null,
   "id": "a3986e9d",
   "metadata": {},
   "outputs": [],
   "source": [
    "callbacks = [early_stopping, model_checkpoint]\n",
    "\n",
    "EPOCHS = 100\n",
    "BATCH_SZIE = 32\n",
    "\n",
    "sentiment_model.fit(train_x, train_y, \n",
    "                    epochs = EPOCHS, \n",
    "                    shuffle = True, \n",
    "                    batch_size = BATCH_SZIE, \n",
    "                    validation_data = (test_x, test_y),\n",
    "                    callbacks = callbacks\n",
    "                    )"
   ]
  },
  {
   "cell_type": "code",
   "execution_count": null,
   "id": "9e04b1b7",
   "metadata": {},
   "outputs": [],
   "source": []
  },
  {
   "cell_type": "code",
   "execution_count": null,
   "id": "e93fab5b",
   "metadata": {},
   "outputs": [],
   "source": []
  },
  {
   "cell_type": "code",
   "execution_count": null,
   "id": "f8f9d97b",
   "metadata": {},
   "outputs": [],
   "source": []
  },
  {
   "cell_type": "code",
   "execution_count": null,
   "id": "a24d0a83",
   "metadata": {},
   "outputs": [],
   "source": []
  },
  {
   "cell_type": "code",
   "execution_count": null,
   "id": "ae2b65f6",
   "metadata": {},
   "outputs": [],
   "source": []
  }
 ],
 "metadata": {
  "kernelspec": {
   "display_name": "Python 3 (ipykernel)",
   "language": "python",
   "name": "python3"
  },
  "language_info": {
   "codemirror_mode": {
    "name": "ipython",
    "version": 3
   },
   "file_extension": ".py",
   "mimetype": "text/x-python",
   "name": "python",
   "nbconvert_exporter": "python",
   "pygments_lexer": "ipython3",
   "version": "3.9.7"
  },
  "toc": {
   "base_numbering": 1,
   "nav_menu": {},
   "number_sections": true,
   "sideBar": true,
   "skip_h1_title": false,
   "title_cell": "Table of Contents",
   "title_sidebar": "Contents",
   "toc_cell": false,
   "toc_position": {
    "height": "calc(100% - 180px)",
    "left": "10px",
    "top": "150px",
    "width": "384px"
   },
   "toc_section_display": true,
   "toc_window_display": true
  },
  "varInspector": {
   "cols": {
    "lenName": 16,
    "lenType": 16,
    "lenVar": 40
   },
   "kernels_config": {
    "python": {
     "delete_cmd_postfix": "",
     "delete_cmd_prefix": "del ",
     "library": "var_list.py",
     "varRefreshCmd": "print(var_dic_list())"
    },
    "r": {
     "delete_cmd_postfix": ") ",
     "delete_cmd_prefix": "rm(",
     "library": "var_list.r",
     "varRefreshCmd": "cat(var_dic_list()) "
    }
   },
   "types_to_exclude": [
    "module",
    "function",
    "builtin_function_or_method",
    "instance",
    "_Feature"
   ],
   "window_display": false
  }
 },
 "nbformat": 4,
 "nbformat_minor": 5
}
