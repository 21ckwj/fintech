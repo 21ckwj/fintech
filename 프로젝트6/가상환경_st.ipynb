{
 "cells": [
  {
   "cell_type": "code",
   "execution_count": 1,
   "id": "c52b55d5",
   "metadata": {
    "ExecuteTime": {
     "end_time": "2022-06-16T16:53:03.487732Z",
     "start_time": "2022-06-16T16:53:01.609265Z"
    }
   },
   "outputs": [],
   "source": [
    "import streamlit as st\n",
    "from streamlit_chat import message as st_message\n",
    "from transformers import BlenderbotTokenizer\n",
    "from transformers import BlenderbotForConditionalGeneration"
   ]
  },
  {
   "cell_type": "code",
   "execution_count": 2,
   "id": "d518cec5",
   "metadata": {
    "ExecuteTime": {
     "end_time": "2022-06-16T16:53:08.300247Z",
     "start_time": "2022-06-16T16:53:08.283291Z"
    }
   },
   "outputs": [],
   "source": [
    "@st.experimental_singleton\n",
    "def get_models():\n",
    "    # it may be necessary for other frameworks to cache the model\n",
    "    # seems pytorch keeps an internal state of the conversation\n",
    "    model_name = \"facebook/blenderbot-400M-distill\"\n",
    "    tokenizer = BlenderbotTokenizer.from_pretrained(model_name)\n",
    "    model = BlenderbotForConditionalGeneration.from_pretrained(model_name)\n",
    "    return tokenizer, model"
   ]
  },
  {
   "cell_type": "code",
   "execution_count": 3,
   "id": "a3e4f2e9",
   "metadata": {
    "ExecuteTime": {
     "end_time": "2022-06-16T16:53:16.691320Z",
     "start_time": "2022-06-16T16:53:16.547738Z"
    }
   },
   "outputs": [
    {
     "name": "stderr",
     "output_type": "stream",
     "text": [
      "2022-06-17 01:53:16.549 WARNING streamlit.state.session_state_proxy: Session state does not function when running a script without `streamlit run`\n",
      "2022-06-17 01:53:16.675 \n",
      "  \u001b[33m\u001b[1mWarning:\u001b[0m to view this Streamlit app on a browser, run it with the following\n",
      "  command:\n",
      "\n",
      "    streamlit run C:\\Users\\bitcamp\\anaconda3\\envs\\streamlit\\lib\\site-packages\\ipykernel_launcher.py [ARGUMENTS]\n"
     ]
    },
    {
     "data": {
      "text/plain": [
       "DeltaGenerator(_root_container=0, _provided_cursor=None, _parent=None, _block_type=None, _form_data=None)"
      ]
     },
     "execution_count": 3,
     "metadata": {},
     "output_type": "execute_result"
    }
   ],
   "source": [
    "if \"history\" not in st.session_state:\n",
    "    st.session_state.history = []\n",
    "\n",
    "st.title(\"Hello Chatbot\")"
   ]
  },
  {
   "cell_type": "code",
   "execution_count": 4,
   "id": "676721fe",
   "metadata": {
    "ExecuteTime": {
     "end_time": "2022-06-16T16:53:28.834928Z",
     "start_time": "2022-06-16T16:53:28.828915Z"
    }
   },
   "outputs": [],
   "source": [
    "def generate_answer():\n",
    "    tokenizer, model = get_models()\n",
    "    user_message = st.session_state.input_text\n",
    "    inputs = tokenizer(st.session_state.input_text, return_tensors=\"pt\")\n",
    "    result = model.generate(**inputs)\n",
    "    message_bot = tokenizer.decode(\n",
    "        result[0], skip_special_tokens=True\n",
    "    )  # .replace(\"<s>\", \"\").replace(\"</s>\", \"\")\n",
    "\n",
    "    st.session_state.history.append({\"message\": user_message, \"is_user\": True})\n",
    "    st.session_state.history.append({\"message\": message_bot, \"is_user\": False})"
   ]
  },
  {
   "cell_type": "code",
   "execution_count": 8,
   "id": "90ad1538",
   "metadata": {
    "ExecuteTime": {
     "end_time": "2022-06-16T16:58:17.029797Z",
     "start_time": "2022-06-16T16:58:17.010815Z"
    }
   },
   "outputs": [
    {
     "data": {
      "text/plain": [
       "<function __main__.generate_answer()>"
      ]
     },
     "execution_count": 8,
     "metadata": {},
     "output_type": "execute_result"
    }
   ],
   "source": [
    "generate_answer"
   ]
  },
  {
   "cell_type": "code",
   "execution_count": 7,
   "id": "cd6a3766",
   "metadata": {
    "ExecuteTime": {
     "end_time": "2022-06-16T16:54:26.130374Z",
     "start_time": "2022-06-16T16:54:26.125412Z"
    }
   },
   "outputs": [],
   "source": [
    "st.text_input(\"Talk to the bot\", key=\"input_text\", on_change=generate_answer)\n",
    "st.write(st.session_state)\n",
    "\n",
    "# for chat in st.session_state.history:\n",
    "#     st_message(**chat)  # unpacking"
   ]
  },
  {
   "cell_type": "code",
   "execution_count": null,
   "id": "e97ae001",
   "metadata": {},
   "outputs": [],
   "source": []
  }
 ],
 "metadata": {
  "kernelspec": {
   "display_name": "Python 3 (ipykernel)",
   "language": "python",
   "name": "python3"
  },
  "language_info": {
   "codemirror_mode": {
    "name": "ipython",
    "version": 3
   },
   "file_extension": ".py",
   "mimetype": "text/x-python",
   "name": "python",
   "nbconvert_exporter": "python",
   "pygments_lexer": "ipython3",
   "version": "3.9.12"
  },
  "toc": {
   "base_numbering": 1,
   "nav_menu": {},
   "number_sections": true,
   "sideBar": true,
   "skip_h1_title": false,
   "title_cell": "Table of Contents",
   "title_sidebar": "Contents",
   "toc_cell": false,
   "toc_position": {},
   "toc_section_display": true,
   "toc_window_display": false
  },
  "varInspector": {
   "cols": {
    "lenName": 16,
    "lenType": 16,
    "lenVar": 40
   },
   "kernels_config": {
    "python": {
     "delete_cmd_postfix": "",
     "delete_cmd_prefix": "del ",
     "library": "var_list.py",
     "varRefreshCmd": "print(var_dic_list())"
    },
    "r": {
     "delete_cmd_postfix": ") ",
     "delete_cmd_prefix": "rm(",
     "library": "var_list.r",
     "varRefreshCmd": "cat(var_dic_list()) "
    }
   },
   "types_to_exclude": [
    "module",
    "function",
    "builtin_function_or_method",
    "instance",
    "_Feature"
   ],
   "window_display": false
  }
 },
 "nbformat": 4,
 "nbformat_minor": 5
}
