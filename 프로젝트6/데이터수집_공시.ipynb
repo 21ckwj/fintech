{
 "cells": [
  {
   "cell_type": "code",
   "execution_count": 3,
   "id": "6a90578a",
   "metadata": {
    "ExecuteTime": {
     "end_time": "2022-05-23T15:45:21.915187Z",
     "start_time": "2022-05-23T15:45:21.824855Z"
    }
   },
   "outputs": [],
   "source": [
    "import pandas as pd\n",
    "import numpy as np\n",
    "\n",
    "import json\n",
    "import requests"
   ]
  },
  {
   "cell_type": "code",
   "execution_count": null,
   "id": "d6bcc79c",
   "metadata": {},
   "outputs": [],
   "source": [
    "# pblntf_ty A B C D E F G "
   ]
  },
  {
   "cell_type": "code",
   "execution_count": 14,
   "id": "c0300509",
   "metadata": {
    "ExecuteTime": {
     "end_time": "2022-05-23T16:47:26.474632Z",
     "start_time": "2022-05-23T16:47:26.457677Z"
    }
   },
   "outputs": [],
   "source": [
    "key = '27676a3402dacfa13da58c1b44a0d723cae77a1e'\n",
    "# corp_code= '00656021'\n",
    "st_date = '20200101'\n",
    "end_date = '20200130'\n",
    "rpt_type = 'B'\n",
    "\n",
    "url = 'https://opendart.fss.or.kr/api/list.json?crtfc_key='+key+'&bgn_de='\\\n",
    "+st_date+ '&end_de='+ end_date+'&pblntf_ty='+rpt_type+'&corp_cls=Y&page_no=1&page_count=10'\n",
    "\n",
    "# https://opendart.fss.or.kr/api/list.json?crtfc_key=xxxxxxxxxxxxxxxxxxxxxxxxxxxxxxxxxxxxxxxx&bgn_de=20200117&end_de=20200117&pblntf_ty=B&corp_cls=Y&page_no=1&page_count=10"
   ]
  },
  {
   "cell_type": "code",
   "execution_count": 15,
   "id": "a105352a",
   "metadata": {
    "ExecuteTime": {
     "end_time": "2022-05-23T16:47:27.875301Z",
     "start_time": "2022-05-23T16:47:27.639683Z"
    },
    "scrolled": true
   },
   "outputs": [
    {
     "data": {
      "text/plain": [
       "{'status': '000',\n",
       " 'message': '정상',\n",
       " 'page_no': 1,\n",
       " 'page_count': 10,\n",
       " 'total_count': 86,\n",
       " 'total_page': 9,\n",
       " 'list': [{'corp_code': '00139889',\n",
       "   'corp_name': 'SKC',\n",
       "   'stock_code': '011790',\n",
       "   'corp_cls': 'Y',\n",
       "   'report_nm': '[기재정정]주요사항보고서(타법인주식및출자증권양도결정)',\n",
       "   'rcept_no': '20200130000452',\n",
       "   'flr_nm': 'SKC',\n",
       "   'rcept_dt': '20200130',\n",
       "   'rm': ''},\n",
       "  {'corp_code': '00111722',\n",
       "   'corp_name': '미래에셋증권',\n",
       "   'stock_code': '006800',\n",
       "   'corp_cls': 'Y',\n",
       "   'report_nm': '주요사항보고서(자기주식처분결정)',\n",
       "   'rcept_no': '20200130000420',\n",
       "   'flr_nm': '미래에셋증권',\n",
       "   'rcept_dt': '20200130',\n",
       "   'rm': ''},\n",
       "  {'corp_code': '00112332',\n",
       "   'corp_name': '미래에셋생명',\n",
       "   'stock_code': '085620',\n",
       "   'corp_cls': 'Y',\n",
       "   'report_nm': '주요사항보고서(자기주식취득결정)',\n",
       "   'rcept_no': '20200130000417',\n",
       "   'flr_nm': '미래에셋생명',\n",
       "   'rcept_dt': '20200130',\n",
       "   'rm': ''},\n",
       "  {'corp_code': '00134723',\n",
       "   'corp_name': '페이퍼코리아',\n",
       "   'stock_code': '001020',\n",
       "   'corp_cls': 'Y',\n",
       "   'report_nm': '[기재정정]주요사항보고서(감자결정)',\n",
       "   'rcept_no': '20200130000427',\n",
       "   'flr_nm': '페이퍼코리아',\n",
       "   'rcept_dt': '20200130',\n",
       "   'rm': '정'},\n",
       "  {'corp_code': '01350869',\n",
       "   'corp_name': '우리금융지주',\n",
       "   'stock_code': '316140',\n",
       "   'corp_cls': 'Y',\n",
       "   'report_nm': '[기재정정]주요사항보고서(상각형조건부자본증권발행결정)',\n",
       "   'rcept_no': '20200130000410',\n",
       "   'flr_nm': '우리금융지주',\n",
       "   'rcept_dt': '20200130',\n",
       "   'rm': ''},\n",
       "  {'corp_code': '00159102',\n",
       "   'corp_name': 'DB손해보험',\n",
       "   'stock_code': '005830',\n",
       "   'corp_cls': 'Y',\n",
       "   'report_nm': '주요사항보고서(자기주식취득결정)',\n",
       "   'rcept_no': '20200130000309',\n",
       "   'flr_nm': 'DB손해보험',\n",
       "   'rcept_dt': '20200130',\n",
       "   'rm': ''},\n",
       "  {'corp_code': '00266961',\n",
       "   'corp_name': 'NAVER',\n",
       "   'stock_code': '035420',\n",
       "   'corp_cls': 'Y',\n",
       "   'report_nm': '[기재정정]주요사항보고서(자기주식취득결정)',\n",
       "   'rcept_no': '20200130000006',\n",
       "   'flr_nm': 'NAVER',\n",
       "   'rcept_dt': '20200130',\n",
       "   'rm': ''},\n",
       "  {'corp_code': '00266961',\n",
       "   'corp_name': 'NAVER',\n",
       "   'stock_code': '035420',\n",
       "   'corp_cls': 'Y',\n",
       "   'report_nm': '주요사항보고서(자기주식취득결정)',\n",
       "   'rcept_no': '20200130000001',\n",
       "   'flr_nm': 'NAVER',\n",
       "   'rcept_dt': '20200130',\n",
       "   'rm': '정'},\n",
       "  {'corp_code': '00108065',\n",
       "   'corp_name': '쎌마테라퓨틱스',\n",
       "   'stock_code': '015540',\n",
       "   'corp_cls': 'Y',\n",
       "   'report_nm': '[기재정정]주요사항보고서(전환사채권발행결정)',\n",
       "   'rcept_no': '20200129000483',\n",
       "   'flr_nm': '쎌마테라퓨틱스',\n",
       "   'rcept_dt': '20200129',\n",
       "   'rm': '정'},\n",
       "  {'corp_code': '01310269',\n",
       "   'corp_name': 'HDC현대산업개발',\n",
       "   'stock_code': '294870',\n",
       "   'corp_cls': 'Y',\n",
       "   'report_nm': '[기재정정]주요사항보고서(유상증자결정)',\n",
       "   'rcept_no': '20200129000449',\n",
       "   'flr_nm': 'HDC현대산업개발',\n",
       "   'rcept_dt': '20200129',\n",
       "   'rm': '정'}]}"
      ]
     },
     "execution_count": 15,
     "metadata": {},
     "output_type": "execute_result"
    }
   ],
   "source": [
    "res = requests.get(url)\n",
    "content = res.content.decode('utf-8')\n",
    "data = json.loads(content)\n",
    "data"
   ]
  },
  {
   "cell_type": "code",
   "execution_count": 16,
   "id": "4ab227d3",
   "metadata": {
    "ExecuteTime": {
     "end_time": "2022-05-23T16:47:34.360720Z",
     "start_time": "2022-05-23T16:47:34.339711Z"
    }
   },
   "outputs": [
    {
     "data": {
      "text/html": [
       "<div>\n",
       "<style scoped>\n",
       "    .dataframe tbody tr th:only-of-type {\n",
       "        vertical-align: middle;\n",
       "    }\n",
       "\n",
       "    .dataframe tbody tr th {\n",
       "        vertical-align: top;\n",
       "    }\n",
       "\n",
       "    .dataframe thead th {\n",
       "        text-align: right;\n",
       "    }\n",
       "</style>\n",
       "<table border=\"1\" class=\"dataframe\">\n",
       "  <thead>\n",
       "    <tr style=\"text-align: right;\">\n",
       "      <th></th>\n",
       "      <th>corp_code</th>\n",
       "      <th>corp_name</th>\n",
       "      <th>stock_code</th>\n",
       "      <th>corp_cls</th>\n",
       "      <th>report_nm</th>\n",
       "      <th>rcept_no</th>\n",
       "      <th>flr_nm</th>\n",
       "      <th>rcept_dt</th>\n",
       "      <th>rm</th>\n",
       "    </tr>\n",
       "  </thead>\n",
       "  <tbody>\n",
       "    <tr>\n",
       "      <th>0</th>\n",
       "      <td>00139889</td>\n",
       "      <td>SKC</td>\n",
       "      <td>011790</td>\n",
       "      <td>Y</td>\n",
       "      <td>[기재정정]주요사항보고서(타법인주식및출자증권양도결정)</td>\n",
       "      <td>20200130000452</td>\n",
       "      <td>SKC</td>\n",
       "      <td>20200130</td>\n",
       "      <td></td>\n",
       "    </tr>\n",
       "    <tr>\n",
       "      <th>1</th>\n",
       "      <td>00111722</td>\n",
       "      <td>미래에셋증권</td>\n",
       "      <td>006800</td>\n",
       "      <td>Y</td>\n",
       "      <td>주요사항보고서(자기주식처분결정)</td>\n",
       "      <td>20200130000420</td>\n",
       "      <td>미래에셋증권</td>\n",
       "      <td>20200130</td>\n",
       "      <td></td>\n",
       "    </tr>\n",
       "    <tr>\n",
       "      <th>2</th>\n",
       "      <td>00112332</td>\n",
       "      <td>미래에셋생명</td>\n",
       "      <td>085620</td>\n",
       "      <td>Y</td>\n",
       "      <td>주요사항보고서(자기주식취득결정)</td>\n",
       "      <td>20200130000417</td>\n",
       "      <td>미래에셋생명</td>\n",
       "      <td>20200130</td>\n",
       "      <td></td>\n",
       "    </tr>\n",
       "    <tr>\n",
       "      <th>3</th>\n",
       "      <td>00134723</td>\n",
       "      <td>페이퍼코리아</td>\n",
       "      <td>001020</td>\n",
       "      <td>Y</td>\n",
       "      <td>[기재정정]주요사항보고서(감자결정)</td>\n",
       "      <td>20200130000427</td>\n",
       "      <td>페이퍼코리아</td>\n",
       "      <td>20200130</td>\n",
       "      <td>정</td>\n",
       "    </tr>\n",
       "    <tr>\n",
       "      <th>4</th>\n",
       "      <td>01350869</td>\n",
       "      <td>우리금융지주</td>\n",
       "      <td>316140</td>\n",
       "      <td>Y</td>\n",
       "      <td>[기재정정]주요사항보고서(상각형조건부자본증권발행결정)</td>\n",
       "      <td>20200130000410</td>\n",
       "      <td>우리금융지주</td>\n",
       "      <td>20200130</td>\n",
       "      <td></td>\n",
       "    </tr>\n",
       "    <tr>\n",
       "      <th>5</th>\n",
       "      <td>00159102</td>\n",
       "      <td>DB손해보험</td>\n",
       "      <td>005830</td>\n",
       "      <td>Y</td>\n",
       "      <td>주요사항보고서(자기주식취득결정)</td>\n",
       "      <td>20200130000309</td>\n",
       "      <td>DB손해보험</td>\n",
       "      <td>20200130</td>\n",
       "      <td></td>\n",
       "    </tr>\n",
       "    <tr>\n",
       "      <th>6</th>\n",
       "      <td>00266961</td>\n",
       "      <td>NAVER</td>\n",
       "      <td>035420</td>\n",
       "      <td>Y</td>\n",
       "      <td>[기재정정]주요사항보고서(자기주식취득결정)</td>\n",
       "      <td>20200130000006</td>\n",
       "      <td>NAVER</td>\n",
       "      <td>20200130</td>\n",
       "      <td></td>\n",
       "    </tr>\n",
       "    <tr>\n",
       "      <th>7</th>\n",
       "      <td>00266961</td>\n",
       "      <td>NAVER</td>\n",
       "      <td>035420</td>\n",
       "      <td>Y</td>\n",
       "      <td>주요사항보고서(자기주식취득결정)</td>\n",
       "      <td>20200130000001</td>\n",
       "      <td>NAVER</td>\n",
       "      <td>20200130</td>\n",
       "      <td>정</td>\n",
       "    </tr>\n",
       "    <tr>\n",
       "      <th>8</th>\n",
       "      <td>00108065</td>\n",
       "      <td>쎌마테라퓨틱스</td>\n",
       "      <td>015540</td>\n",
       "      <td>Y</td>\n",
       "      <td>[기재정정]주요사항보고서(전환사채권발행결정)</td>\n",
       "      <td>20200129000483</td>\n",
       "      <td>쎌마테라퓨틱스</td>\n",
       "      <td>20200129</td>\n",
       "      <td>정</td>\n",
       "    </tr>\n",
       "    <tr>\n",
       "      <th>9</th>\n",
       "      <td>01310269</td>\n",
       "      <td>HDC현대산업개발</td>\n",
       "      <td>294870</td>\n",
       "      <td>Y</td>\n",
       "      <td>[기재정정]주요사항보고서(유상증자결정)</td>\n",
       "      <td>20200129000449</td>\n",
       "      <td>HDC현대산업개발</td>\n",
       "      <td>20200129</td>\n",
       "      <td>정</td>\n",
       "    </tr>\n",
       "  </tbody>\n",
       "</table>\n",
       "</div>"
      ],
      "text/plain": [
       "  corp_code  corp_name stock_code corp_cls                      report_nm  \\\n",
       "0  00139889        SKC     011790        Y  [기재정정]주요사항보고서(타법인주식및출자증권양도결정)   \n",
       "1  00111722     미래에셋증권     006800        Y              주요사항보고서(자기주식처분결정)   \n",
       "2  00112332     미래에셋생명     085620        Y              주요사항보고서(자기주식취득결정)   \n",
       "3  00134723     페이퍼코리아     001020        Y            [기재정정]주요사항보고서(감자결정)   \n",
       "4  01350869     우리금융지주     316140        Y  [기재정정]주요사항보고서(상각형조건부자본증권발행결정)   \n",
       "5  00159102     DB손해보험     005830        Y              주요사항보고서(자기주식취득결정)   \n",
       "6  00266961      NAVER     035420        Y        [기재정정]주요사항보고서(자기주식취득결정)   \n",
       "7  00266961      NAVER     035420        Y              주요사항보고서(자기주식취득결정)   \n",
       "8  00108065    쎌마테라퓨틱스     015540        Y       [기재정정]주요사항보고서(전환사채권발행결정)   \n",
       "9  01310269  HDC현대산업개발     294870        Y          [기재정정]주요사항보고서(유상증자결정)   \n",
       "\n",
       "         rcept_no     flr_nm  rcept_dt rm  \n",
       "0  20200130000452        SKC  20200130     \n",
       "1  20200130000420     미래에셋증권  20200130     \n",
       "2  20200130000417     미래에셋생명  20200130     \n",
       "3  20200130000427     페이퍼코리아  20200130  정  \n",
       "4  20200130000410     우리금융지주  20200130     \n",
       "5  20200130000309     DB손해보험  20200130     \n",
       "6  20200130000006      NAVER  20200130     \n",
       "7  20200130000001      NAVER  20200130  정  \n",
       "8  20200129000483    쎌마테라퓨틱스  20200129  정  \n",
       "9  20200129000449  HDC현대산업개발  20200129  정  "
      ]
     },
     "execution_count": 16,
     "metadata": {},
     "output_type": "execute_result"
    }
   ],
   "source": [
    " pd.DataFrame(data['list'])"
   ]
  },
  {
   "cell_type": "code",
   "execution_count": 8,
   "id": "a3dc375b",
   "metadata": {
    "ExecuteTime": {
     "end_time": "2022-05-23T16:15:38.364303Z",
     "start_time": "2022-05-23T16:15:38.348344Z"
    }
   },
   "outputs": [],
   "source": [
    "# 공시원본서류 "
   ]
  },
  {
   "cell_type": "code",
   "execution_count": 9,
   "id": "9889c1db",
   "metadata": {
    "ExecuteTime": {
     "end_time": "2022-05-23T16:15:38.971501Z",
     "start_time": "2022-05-23T16:15:38.961561Z"
    }
   },
   "outputs": [],
   "source": [
    "import pandas as pd\n",
    "import requests\n",
    "import xml.etree.ElementTree as et\n",
    "from io import BytesIO\n",
    "from zipfile import ZipFile"
   ]
  },
  {
   "cell_type": "code",
   "execution_count": null,
   "id": "d9b029d8",
   "metadata": {},
   "outputs": [],
   "source": [
    " "
   ]
  },
  {
   "cell_type": "code",
   "execution_count": null,
   "id": "1a614457",
   "metadata": {},
   "outputs": [],
   "source": []
  },
  {
   "cell_type": "code",
   "execution_count": null,
   "id": "a71b44ab",
   "metadata": {},
   "outputs": [],
   "source": []
  },
  {
   "cell_type": "code",
   "execution_count": null,
   "id": "4016aca8",
   "metadata": {},
   "outputs": [],
   "source": []
  },
  {
   "cell_type": "code",
   "execution_count": null,
   "id": "fdc91c8a",
   "metadata": {},
   "outputs": [],
   "source": []
  },
  {
   "cell_type": "code",
   "execution_count": null,
   "id": "fc9cc808",
   "metadata": {},
   "outputs": [],
   "source": []
  },
  {
   "cell_type": "code",
   "execution_count": null,
   "id": "24dc809a",
   "metadata": {},
   "outputs": [],
   "source": []
  },
  {
   "cell_type": "code",
   "execution_count": null,
   "id": "0477ea74",
   "metadata": {},
   "outputs": [],
   "source": []
  },
  {
   "cell_type": "code",
   "execution_count": null,
   "id": "ce77728f",
   "metadata": {},
   "outputs": [],
   "source": []
  },
  {
   "cell_type": "code",
   "execution_count": null,
   "id": "d59afe76",
   "metadata": {},
   "outputs": [],
   "source": []
  },
  {
   "cell_type": "code",
   "execution_count": null,
   "id": "16075360",
   "metadata": {},
   "outputs": [],
   "source": []
  },
  {
   "cell_type": "code",
   "execution_count": null,
   "id": "2be2bda6",
   "metadata": {},
   "outputs": [],
   "source": []
  }
 ],
 "metadata": {
  "kernelspec": {
   "display_name": "Python 3 (ipykernel)",
   "language": "python",
   "name": "python3"
  },
  "language_info": {
   "codemirror_mode": {
    "name": "ipython",
    "version": 3
   },
   "file_extension": ".py",
   "mimetype": "text/x-python",
   "name": "python",
   "nbconvert_exporter": "python",
   "pygments_lexer": "ipython3",
   "version": "3.9.7"
  },
  "toc": {
   "base_numbering": 1,
   "nav_menu": {},
   "number_sections": true,
   "sideBar": true,
   "skip_h1_title": false,
   "title_cell": "Table of Contents",
   "title_sidebar": "Contents",
   "toc_cell": false,
   "toc_position": {},
   "toc_section_display": true,
   "toc_window_display": false
  },
  "varInspector": {
   "cols": {
    "lenName": 16,
    "lenType": 16,
    "lenVar": 40
   },
   "kernels_config": {
    "python": {
     "delete_cmd_postfix": "",
     "delete_cmd_prefix": "del ",
     "library": "var_list.py",
     "varRefreshCmd": "print(var_dic_list())"
    },
    "r": {
     "delete_cmd_postfix": ") ",
     "delete_cmd_prefix": "rm(",
     "library": "var_list.r",
     "varRefreshCmd": "cat(var_dic_list()) "
    }
   },
   "types_to_exclude": [
    "module",
    "function",
    "builtin_function_or_method",
    "instance",
    "_Feature"
   ],
   "window_display": false
  }
 },
 "nbformat": 4,
 "nbformat_minor": 5
}
