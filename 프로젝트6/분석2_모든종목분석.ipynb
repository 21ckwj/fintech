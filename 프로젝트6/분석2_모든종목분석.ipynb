{
 "cells": [
  {
   "cell_type": "code",
   "execution_count": 1,
   "id": "e455ff95",
   "metadata": {
    "ExecuteTime": {
     "end_time": "2022-06-09T03:59:00.797898Z",
     "start_time": "2022-06-09T03:58:59.776832Z"
    }
   },
   "outputs": [],
   "source": [
    "import pandas as pd\n",
    "import numpy as np\n",
    "import matplotlib.pyplot as plt\n",
    "import seaborn as sns\n",
    "import re\n",
    "import os\n",
    "\n",
    "# 한글 폰트 사용을 위해서 세팅\n",
    "from matplotlib import font_manager, rc\n",
    "font_path = \"C:/Windows/Fonts/malgun.ttf\"\n",
    "font = font_manager.FontProperties(fname=font_path).get_name()\n",
    "rc('font', family=font)"
   ]
  },
  {
   "cell_type": "markdown",
   "id": "24405fc1",
   "metadata": {},
   "source": [
    "# 데이터 불러오기"
   ]
  },
  {
   "cell_type": "code",
   "execution_count": null,
   "id": "6b28df23",
   "metadata": {},
   "outputs": [],
   "source": [
    "df_n = pd.read_csv('./data/개별기업뉴스_자연어처리/AJ네트웍스.csv',index_col=0)\n",
    "df_n['뉴스'] = df_n['뉴스'].apply(lambda x : eval(x))\n",
    "df_n.index = pd.to_datetime(df_n.index)"
   ]
  },
  {
   "cell_type": "markdown",
   "id": "5fc5becd",
   "metadata": {},
   "source": [
    "# 키워드 분석"
   ]
  },
  {
   "cell_type": "markdown",
   "id": "d6e16037",
   "metadata": {},
   "source": [
    "## 특정구간"
   ]
  },
  {
   "cell_type": "code",
   "execution_count": null,
   "id": "23b03190",
   "metadata": {},
   "outputs": [],
   "source": [
    "# 특정구간 단어 빈도수 + 시각화\n",
    "kw_dict = dict()\n",
    "\n",
    "# 2016-01-01 ~ 2016-02-01 가정\n",
    "bgn_date = '2016-01-01'\n",
    "end_date = '2016-02-01'\n",
    "\n",
    "token_lst = df_n['뉴스'].loc[bgn_date:end_date]\n",
    "\n",
    "for tokens in token_lst:\n",
    "\n",
    "    for word in tokens:\n",
    "        if not word in kw_dict.keys():\n",
    "            kw_dict[word] = 1\n",
    "        else:\n",
    "            kw_dict[word] += 1\n",
    "\n",
    "kw_dict = dict(sorted(kw_dict.items(), key = lambda x: x[1]))\n",
    "\n",
    "plt.figure(figsize=(15,10))\n",
    "keyword_list = list(kw_dict.keys())\n",
    "keyword_count = list(kw_dict.values())\n",
    "plt.barh(keyword_list,keyword_count)\n",
    "plt.show()"
   ]
  },
  {
   "cell_type": "code",
   "execution_count": null,
   "id": "13e8622e",
   "metadata": {},
   "outputs": [],
   "source": []
  },
  {
   "cell_type": "markdown",
   "id": "68e0fbcf",
   "metadata": {},
   "source": [
    "## 전체구간"
   ]
  },
  {
   "cell_type": "code",
   "execution_count": null,
   "id": "22fcb2ed",
   "metadata": {},
   "outputs": [],
   "source": [
    "kw_dict1 = dict()\n",
    "\n",
    "# 2016-01-01 ~ 2022-03-31\n",
    "bgn_date = '2016-01-01'\n",
    "end_date = '2022-03-31'\n",
    "\n",
    "token_lst = df_n['뉴스'].loc[bgn_date:end_date]\n",
    "\n",
    "for tokens in token_lst:\n",
    "\n",
    "    for word in tokens:\n",
    "        if not word in kw_dict1.keys():\n",
    "            kw_dict1[word] = 1\n",
    "        else:\n",
    "            kw_dict1[word] += 1\n",
    "\n",
    "kw_dict1 = dict(sorted(kw_dict1.items(), key = lambda x: x[1]))\n",
    "\n",
    "kw_dict1"
   ]
  },
  {
   "cell_type": "code",
   "execution_count": null,
   "id": "68c53947",
   "metadata": {},
   "outputs": [],
   "source": [
    "# 1단어 제거\n",
    "for key,value in list(kw_dict2.items()):\n",
    "    if value ==1 :\n",
    "        del kw_dict2[key]"
   ]
  },
  {
   "cell_type": "code",
   "execution_count": null,
   "id": "f1a20309",
   "metadata": {},
   "outputs": [],
   "source": [
    "# 본인 회사이름 제거\n",
    "for key,value in list(kw_dict2.items()):\n",
    "    if 'AJ네트웍스' in key :\n",
    "        del kw_dict2[key]\n",
    "kw_dict2"
   ]
  },
  {
   "cell_type": "code",
   "execution_count": null,
   "id": "2479b392",
   "metadata": {},
   "outputs": [],
   "source": [
    "# 뽑은 불용어 제거\n",
    "df_nsw = pd.read_csv('./data/뉴스불용어.csv',index_col=1)\n",
    "df_nsw.reset_index(drop=True, inplace=True)\n",
    "\n",
    "for key,value in list(kw_dict2.items()):\n",
    "    for word in df_nsw['불용어']:\n",
    "        if word in key :\n",
    "            try:\n",
    "                del kw_dict2[key]\n",
    "            except:\n",
    "                pass\n",
    "print(len(kw_dict2))\n",
    "kw_dict2"
   ]
  },
  {
   "cell_type": "code",
   "execution_count": null,
   "id": "36693f3a",
   "metadata": {},
   "outputs": [],
   "source": []
  },
  {
   "cell_type": "code",
   "execution_count": null,
   "id": "40ae47fc",
   "metadata": {},
   "outputs": [],
   "source": [
    "df_keyword = pd.DataFrame()\n",
    "keyword_lst = list(kw_dict1.keys())\n",
    "\n",
    "for keyword in keyword_lst:\n",
    "    # 출현 날짜\n",
    "    rp_date = []\n",
    "    # 날짜당 출현 횟수\n",
    "    cnt_list = []\n",
    "\n",
    "    df_rp = df_n['뉴스'].loc[bgn_date:end_date]\n",
    "\n",
    "    for i in df_rp.index:\n",
    "        # 날짜\n",
    "        rp_date.append(i)\n",
    "        # 횟수\n",
    "        cnt = 0\n",
    "        tokens = df_n['뉴스'].loc[i]\n",
    "        for token in tokens:\n",
    "            if keyword in token:\n",
    "                cnt +=1\n",
    "\n",
    "        cnt_list.append(cnt)\n",
    "\n",
    "    df_rp = pd.DataFrame({'날짜':rp_date, '출현횟수':cnt_list})\n",
    "    df_rp = df_rp.set_index('날짜')\n",
    "    df_keyword = pd.concat([df_keyword,df_rp],axis=1)\n",
    "    \n",
    "df_keyword.columns = keyword_lst\n",
    "df_keyword"
   ]
  },
  {
   "cell_type": "code",
   "execution_count": null,
   "id": "f3d57911",
   "metadata": {},
   "outputs": [],
   "source": []
  },
  {
   "cell_type": "code",
   "execution_count": null,
   "id": "34ac8690",
   "metadata": {},
   "outputs": [],
   "source": []
  },
  {
   "cell_type": "code",
   "execution_count": null,
   "id": "1077a00c",
   "metadata": {},
   "outputs": [],
   "source": []
  },
  {
   "cell_type": "code",
   "execution_count": null,
   "id": "68963cc3",
   "metadata": {},
   "outputs": [],
   "source": []
  },
  {
   "cell_type": "code",
   "execution_count": null,
   "id": "a53431bb",
   "metadata": {},
   "outputs": [],
   "source": []
  }
 ],
 "metadata": {
  "kernelspec": {
   "display_name": "Python 3 (ipykernel)",
   "language": "python",
   "name": "python3"
  },
  "language_info": {
   "codemirror_mode": {
    "name": "ipython",
    "version": 3
   },
   "file_extension": ".py",
   "mimetype": "text/x-python",
   "name": "python",
   "nbconvert_exporter": "python",
   "pygments_lexer": "ipython3",
   "version": "3.9.7"
  },
  "toc": {
   "base_numbering": 1,
   "nav_menu": {},
   "number_sections": true,
   "sideBar": true,
   "skip_h1_title": false,
   "title_cell": "Table of Contents",
   "title_sidebar": "Contents",
   "toc_cell": false,
   "toc_position": {},
   "toc_section_display": true,
   "toc_window_display": false
  },
  "varInspector": {
   "cols": {
    "lenName": 16,
    "lenType": 16,
    "lenVar": 40
   },
   "kernels_config": {
    "python": {
     "delete_cmd_postfix": "",
     "delete_cmd_prefix": "del ",
     "library": "var_list.py",
     "varRefreshCmd": "print(var_dic_list())"
    },
    "r": {
     "delete_cmd_postfix": ") ",
     "delete_cmd_prefix": "rm(",
     "library": "var_list.r",
     "varRefreshCmd": "cat(var_dic_list()) "
    }
   },
   "types_to_exclude": [
    "module",
    "function",
    "builtin_function_or_method",
    "instance",
    "_Feature"
   ],
   "window_display": false
  }
 },
 "nbformat": 4,
 "nbformat_minor": 5
}
